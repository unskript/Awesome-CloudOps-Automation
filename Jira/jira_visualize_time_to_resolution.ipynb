{
 "cells": [
  {
   "cell_type": "code",
   "execution_count": 53,
   "id": "4b3017de-d7cf-4ea3-961f-4a66021121df",
   "metadata": {
    "deletable": false,
    "editable": false,
    "execution_data": {
     "last_date_success_run_cell": "2023-02-27T20:37:36.021Z"
    },
    "jupyter": {
     "source_hidden": true
    },
    "orderProperties": [],
    "tags": [
     "unSkript:nbParam"
    ],
    "title": "unSkript Internal"
   },
   "outputs": [],
   "source": [
    "import json\n",
    "from unskript import nbparams\n",
    "from unskript.fwk.workflow import Task, Workflow\n",
    "from unskript.secrets import ENV_MODE, ENV_MODE_LOCAL\n",
    "\n",
    "env = {\"ENV_MODE\": \"ENV_MODE_LOCAL\"}\n",
    "secret_store_cfg = {\"SECRET_STORE_TYPE\": \"SECRET_STORE_TYPE_LOCAL\"}\n",
    "\n",
    "paramDict = {\"end_date\": \"2023/02/22\", \"issue_type\": \"Bug\", \"jira_project\": \"EN\", \"new_status\": \"Done\", \"start_date\": \"2022/01/01\"}\n",
    "paramsJson = json.dumps(paramDict)\n",
    "nbParamsObj = nbparams.NBParams(paramsJson)\n",
    "end_date = nbParamsObj.get('end_date')\n",
    "issue_type = nbParamsObj.get('issue_type')\n",
    "jira_project = nbParamsObj.get('jira_project')\n",
    "new_status = nbParamsObj.get('new_status')\n",
    "start_date = nbParamsObj.get('start_date')\n",
    "w = Workflow(env, secret_store_cfg, None, global_vars=globals())"
   ]
  },
  {
   "cell_type": "markdown",
   "id": "32435b12-d7c9-4424-be43-f4d26736dd1a",
   "metadata": {
    "jupyter": {
     "source_hidden": false
    },
    "name": "Get MTTR of Jira issues",
    "orderProperties": [],
    "tags": [],
    "title": "Get MTTR of Jira issues"
   },
   "source": [
    "<p>In this RunBook, We will graph MTTR of issues in Jira.</p>\n",
    "<p>&nbsp;</p>\n",
    "<p>Since many teams track DevOps issues in Jira, this is a great way to understand how quickly issues are getting resolved, and if the MTTR is improving.</p>\n",
    "<p>&nbsp;</p>\n",
    "<p>First we will get a static pull of all the issues in Jira.&nbsp; This is fine if your data set is small, but we'll also generate the graph dynamically - so that the data pulled from Jira is never \"too big.\"</p>"
   ]
  },
  {
   "cell_type": "markdown",
   "id": "f0a1f3b5-4494-4533-811b-5dd36e5e4d46",
   "metadata": {
    "jupyter": {
     "source_hidden": false
    },
    "name": "Configure the JQL query",
    "orderProperties": [],
    "tags": [],
    "title": "Configure the JQL query"
   },
   "source": [
    "<p>By defining the JQL query in this way, we can reuse the \"get issues from JIRA\" Action with different start and end times to pull different timeframes from Jira.</p>\n",
    "<p>&nbsp;</p>\n",
    "<p>For the static chart, we use a big start and end time, to pull all the data in.</p>"
   ]
  },
  {
   "cell_type": "code",
   "execution_count": 93,
   "id": "42d705d5-69c3-4671-9ede-9891f1584aac",
   "metadata": {
    "customAction": true,
    "execution_data": {
     "last_date_success_run_cell": "2023-02-27T21:48:04.101Z"
    },
    "name": "JQL Query Variable",
    "orderProperties": [],
    "tags": [],
    "title": "JQL Query Variable"
   },
   "outputs": [
    {
     "name": "stdout",
     "output_type": "stream",
     "text": [
      "project = EN and issueType = Bug and status changed to Done during (\"2022/01/01\",\"2023/02/22\")\n"
     ]
    }
   ],
   "source": [
    "start = start_date\n",
    "end = end_date\n",
    "#global jql_query\n",
    "jql_query=\"\"\n",
    "def create_query(jira_project, issue_type, new_status, start, end) -> str: \n",
    "    \n",
    "    #global jql_query\n",
    "    return f'project = {jira_project} and issueType = {issue_type} and status changed to {new_status} during (\"{start}\",\"{end}\")'\n",
    "jql_query = create_query(jira_project, issue_type, new_status, start, end)\n",
    "print(jql_query)\n"
   ]
  },
  {
   "cell_type": "markdown",
   "id": "55af3eea-f53f-41ba-83f5-c0f1c58a8d1f",
   "metadata": {
    "jupyter": {
     "source_hidden": false
    },
    "name": "Query JQL",
    "orderProperties": [],
    "tags": [],
    "title": "Query JQL"
   },
   "source": [
    "<p>We;ve created the JQL query - this pre-built Action just pulls the requested data from Jira.:<br><br></p>\n",
    "<pre>project = EN and issueType = Bug and status changed to Done during ('2022/01/01','2023/01/08')</pre>\n",
    "<p>&nbsp;</p>\n",
    "<p>This query pulls all bgs from the EN project that were completed from 1/1/2022 - 1/8/2023.</p>"
   ]
  },
  {
   "cell_type": "code",
   "execution_count": 94,
   "id": "cf3db291-fea3-4dbe-94c4-d15a8d906cd0",
   "metadata": {
    "accessType": "ACCESS_TYPE_UNSPECIFIED",
    "actionBashCommand": false,
    "actionNeedsCredential": true,
    "actionOutputType": null,
    "actionRequiredLinesInCode": [],
    "actionSupportsIteration": false,
    "actionSupportsPoll": false,
    "action_modified": false,
    "action_uuid": "23c4b5c86be9cfdbc7cbfce6d90ed089b7dc61d6dbc219aae3f4cc08862d3934",
    "continueOnError": false,
    "credentialsJson": {
     "credential_id": "0de29cb9-88d6-4346-93a2-fa60f34cf6e7",
     "credential_name": "jiracreds",
     "credential_type": "CONNECTOR_TYPE_JIRA"
    },
    "description": "Use JQL to search all matching issues in Jira. Returns a List of the matching issues IDs/keys",
    "execution_data": {
     "last_date_success_run_cell": "2023-02-27T21:48:16.314Z"
    },
    "id": 7,
    "index": 7,
    "inputData": [
     {
      "jql": {
       "constant": false,
       "value": "jql_query"
      },
      "max_results": {
       "constant": false,
       "value": ""
      }
     }
    ],
    "inputschema": [
     {
      "properties": {
       "jql": {
        "description": "Search string to execute in JIRA. Valid JQL expression eg \"project = EN and status in (\"Selected for Development\") AND labels in (beta)\"",
        "title": "Jira issue search using Jira Query Languagae (JQL)",
        "type": "string"
       },
       "max_results": {
        "default": 5,
        "description": "Max limit on number of matching issues",
        "title": "Limit number of matching issues",
        "type": "integer"
       }
      },
      "required": [
       "jql"
      ],
      "title": "jira_search_issue",
      "type": "object"
     }
    ],
    "language": "python",
    "legotype": "LEGO_TYPE_JIRA",
    "metadata": {
     "action_bash_command": false,
     "action_description": "Use JQL to search all matching issues in Jira. Returns a List of the matching issues IDs/keys",
     "action_entry_function": "jira_search_issue",
     "action_needs_credential": true,
     "action_nouns": null,
     "action_output_type": "ACTION_OUTPUT_TYPE_NONE",
     "action_supports_iteration": true,
     "action_supports_poll": true,
     "action_title": "Search for Jira issues matching JQL queries",
     "action_type": "LEGO_TYPE_JIRA",
     "action_verbs": null,
     "action_version": "1.0.0"
    },
    "name": "Search Jira Issues with JQL",
    "orderProperties": [
     "jql",
     "max_results"
    ],
    "outputParams": {
     "output_name": "issueList",
     "output_name_enabled": true
    },
    "printOutput": false,
    "tags": [
     "jira_search_issue"
    ],
    "title": "Search Jira Issues with JQL",
    "uuid": "23c4b5c86be9cfdbc7cbfce6d90ed089b7dc61d6dbc219aae3f4cc08862d3934",
    "version": "1.0.0"
   },
   "outputs": [
    {
     "name": "stdout",
     "output_type": "stream",
     "text": [
      "jql search lego project = EN and issueType = Bug and status changed to Done during (\"2022/01/01\",\"2023/02/22\")\n",
      "\n",
      "\n",
      "Task Executed\n"
     ]
    }
   ],
   "source": [
    "##\n",
    "# Copyright (c) 2021 unSkript, Inc\n",
    "# All rights reserved.\n",
    "##\n",
    "from jira import JIRA, Issue\n",
    "from pydantic import BaseModel, Field\n",
    "from typing import Optional, List, Dict\n",
    "import pprint\n",
    "\n",
    "pp = pprint.PrettyPrinter(indent=4)\n",
    "\n",
    "\n",
    "from beartype import beartype\n",
    "@beartype\n",
    "def legoPrinter(func):\n",
    "    def Printer(*args, **kwargs):\n",
    "        matching_issues = func(*args, **kwargs)\n",
    "        print('\\n')\n",
    "        #for issue in matching_issues:\n",
    "         #  print('ID:{}: Summary:{} Description:{}'.format(\n",
    "         #       issue.key, issue.fields.summary, issue.fields.description))\n",
    "            #print(issue)\n",
    "\n",
    "        return matching_issues\n",
    "    return Printer\n",
    "\n",
    "\n",
    "@legoPrinter\n",
    "@beartype\n",
    "def jira_search_issue(handle: JIRA, jql: str, max_results: int = 0) -> List:\n",
    "    \"\"\"jira_search_issue get Jira issues matching JQL queries.\n",
    "        :type jql: str\n",
    "        :param jql: Search string to execute in JIRA.\n",
    "\n",
    "        :type max_results: int\n",
    "        :param max_results: Max limit on number of matching issues\n",
    "\n",
    "        :rtype: Jira issues matching JQL queries\n",
    "    \"\"\"\n",
    "    print(\"jql search lego\",jql)\n",
    "    matching_issues = handle.search_issues(jql, maxResults=max_results)\n",
    "\n",
    "    return matching_issues\n",
    "\n",
    "\n",
    "def unskript_default_printer(output):\n",
    "    if isinstance(output, (list, tuple)):\n",
    "        for item in output:\n",
    "            print(f'item: {item}')\n",
    "    elif isinstance(output, dict):\n",
    "        for item in output.items():\n",
    "            print(f'item: {item}')\n",
    "    else:\n",
    "        print(f'Output for {task.name}')\n",
    "        print(output)\n",
    "\n",
    "task = Task(Workflow())\n",
    "task.configure(credentialsJson='''{\n",
    "}''')\n",
    "task.configure(inputParamsJson='''{\n",
    "    \"jql\": \"jql_query\"\n",
    "    }''')\n",
    "\n",
    "task.configure(outputName=\"issueList\")\n",
    "task.configure(printOutput=False)\n",
    "(err, hdl, args) = task.validate(vars=vars())\n",
    "if err is None:\n",
    "    task.execute(jira_search_issue, lego_printer=unskript_default_printer, hdl=hdl, args=args)"
   ]
  },
  {
   "cell_type": "markdown",
   "id": "48f39e74-8285-4252-ac8c-fce2ae30c841",
   "metadata": {
    "jupyter": {
     "source_hidden": false
    },
    "name": "Data into a Dict",
    "orderProperties": [],
    "tags": [],
    "title": "Data into a Dict"
   },
   "source": [
    "<p>In this Action - we convert the object from Jira into a Dict, and we add the elapsed time.&nbsp;&nbsp;</p>\n",
    "<p>&nbsp;</p>\n",
    "<p>This is the time from the bug being opened to the status changed to closed.&nbsp; We save this as a timedelta, but also convert the timedelta into hours - adding the days (*24) and seconds (/3600) of the timedelta so that we can see how many hours the ticket was open.</p>\n",
    "<p>&nbsp;</p>\n",
    "<p>We also count the number of issues in the Dict and print that value.</p>"
   ]
  },
  {
   "cell_type": "code",
   "execution_count": 35,
   "id": "76777827-9c79-4965-96b7-871bfe9cbf0d",
   "metadata": {
    "customAction": true,
    "execution_data": {
     "last_date_success_run_cell": "2023-02-27T20:37:19.664Z"
    },
    "jupyter": {
     "source_hidden": true
    },
    "name": "data into dict",
    "orderProperties": [],
    "tags": [],
    "title": "data into dict"
   },
   "outputs": [
    {
     "name": "stdout",
     "output_type": "stream",
     "text": [
      "counter 183\n"
     ]
    }
   ],
   "source": [
    "from datetime import datetime\n",
    "def create_dict(issueList):\n",
    "\n",
    "    issue_data = {}\n",
    "    counter =0\n",
    "    for issue in issueList:\n",
    "        counter +=1\n",
    "        create_time = datetime.strptime(issue.fields.created, '%Y-%m-%dT%H:%M:%S.%f%z')\n",
    "        done_time = datetime.strptime(issue.fields.updated, '%Y-%m-%dT%H:%M:%S.%f%z')\n",
    "        elapsed_time = done_time-create_time\n",
    "        elapsed_time_hours = round(elapsed_time.days*24,0) +round(elapsed_time.seconds/3600,1)\n",
    "        #print(\"elapsed\", elapsed_time)\n",
    "        assignee = issue.fields.assignee\n",
    "        if hasattr(issue.fields.assignee,'displayName'):\n",
    "            assignee = issue.fields.assignee.displayName\n",
    "        else:\n",
    "            assignee = \"Not assigned\"\n",
    "        issue_data[issue.key] = {#\"summary\": issue.fields.summary, \n",
    "                                     #\"description\": issue.fields.description,\n",
    "                                     \"reporter\":issue.fields.reporter.displayName,\n",
    "                                     \"status\":issue.fields.status.name,\n",
    "                                     \"issueType\":issue.fields.issuetype.name,\n",
    "                                     \"project\":issue.fields.project.name,\n",
    "                                     \"create_time\":create_time,\n",
    "                                     \"done_time\":done_time,\n",
    "                                     \"elapsed_time\":elapsed_time,\n",
    "                                     \"elapsed_time_hours\":elapsed_time_hours,\n",
    "                                     \"assignee\":assignee\n",
    "                                    }\n",
    "    print(\"counter\", counter)\n",
    "    return issue_data\n",
    "issue_data = create_dict(issueList)"
   ]
  },
  {
   "cell_type": "markdown",
   "id": "4e25ad3f-0264-4ec4-a1cc-0d193edcc947",
   "metadata": {
    "jupyter": {
     "source_hidden": false
    },
    "name": "Create a data frame and a graph",
    "orderProperties": [],
    "tags": [],
    "title": "Create a data frame and a graph"
   },
   "source": [
    "<p>this step is doing a lot.</p>\n",
    "<p>&nbsp;</p>\n",
    "<ol>\n",
    "<li>pulls the Dict into a dataframe.</li>\n",
    "<li>builds the chart with Panel.\n",
    "<ol>\n",
    "<li>Chart is built</li>\n",
    "<li>pulls the data from weekdef - which calculates the start and end date- and filters the datafram into a smaller dataframe with the elapsed time in hours&nbsp; - chunked into 4 bins.&nbsp; These are then charted.</li>\n",
    "<li>The sliderstart value might be different for your organization.&nbsp; You can hard code this here,</li>\n",
    "<li>The intervals are set in 7 day increments in the daycount slider</li>\n",
    "</ol>\n",
    "</li>\n",
    "</ol>"
   ]
  },
  {
   "cell_type": "code",
   "execution_count": 102,
   "id": "2e1ff679-fe5c-41d1-9671-b4a0abfc98e5",
   "metadata": {
    "customAction": true,
    "execution_data": {
     "last_date_success_run_cell": "2023-02-28T00:12:08.942Z"
    },
    "jupyter": {
     "source_hidden": true
    },
    "name": "interactive chart",
    "orderProperties": [],
    "tags": [],
    "title": "interactive chart"
   },
   "outputs": [
    {
     "data": {
      "application/javascript": "(function(root) {\n  function now() {\n    return new Date();\n  }\n\n  var force = true;\n\n  if (typeof root._bokeh_onload_callbacks === \"undefined\" || force === true) {\n    root._bokeh_onload_callbacks = [];\n    root._bokeh_is_loading = undefined;\n  }\n\n  if (typeof (root._bokeh_timeout) === \"undefined\" || force === true) {\n    root._bokeh_timeout = Date.now() + 5000;\n    root._bokeh_failed_load = false;\n  }\n\n  function run_callbacks() {\n    try {\n      root._bokeh_onload_callbacks.forEach(function(callback) {\n        if (callback != null)\n          callback();\n      });\n    } finally {\n      delete root._bokeh_onload_callbacks\n    }\n    console.debug(\"Bokeh: all callbacks have finished\");\n  }\n\n  function load_libs(css_urls, js_urls, js_modules, callback) {\n    if (css_urls == null) css_urls = [];\n    if (js_urls == null) js_urls = [];\n    if (js_modules == null) js_modules = [];\n\n    root._bokeh_onload_callbacks.push(callback);\n    if (root._bokeh_is_loading > 0) {\n      console.debug(\"Bokeh: BokehJS is being loaded, scheduling callback at\", now());\n      return null;\n    }\n    if (js_urls.length === 0 && js_modules.length === 0) {\n      run_callbacks();\n      return null;\n    }\n    console.debug(\"Bokeh: BokehJS not loaded, scheduling load and callback at\", now());\n\n    function on_load() {\n      root._bokeh_is_loading--;\n      if (root._bokeh_is_loading === 0) {\n        console.debug(\"Bokeh: all BokehJS libraries/stylesheets loaded\");\n        run_callbacks()\n      }\n    }\n\n    function on_error() {\n      console.error(\"failed to load \" + url);\n    }\n\n    for (var i = 0; i < css_urls.length; i++) {\n      var url = css_urls[i];\n      const element = document.createElement(\"link\");\n      element.onload = on_load;\n      element.onerror = on_error;\n      element.rel = \"stylesheet\";\n      element.type = \"text/css\";\n      element.href = url;\n      console.debug(\"Bokeh: injecting link tag for BokehJS stylesheet: \", url);\n      document.body.appendChild(element);\n    }\n\n    var skip = [];\n    if (window.requirejs) {\n      window.requirejs.config({'packages': {}, 'paths': {'gridstack': 'https://cdn.jsdelivr.net/npm/gridstack@4.2.5/dist/gridstack-h5', 'notyf': 'https://cdn.jsdelivr.net/npm/notyf@3/notyf.min'}, 'shim': {'gridstack': {'exports': 'GridStack'}}});\n      require([\"gridstack\"], function(GridStack) {\n\twindow.GridStack = GridStack\n\ton_load()\n      })\n      require([\"notyf\"], function() {\n\ton_load()\n      })\n      root._bokeh_is_loading = css_urls.length + 2;\n    } else {\n      root._bokeh_is_loading = css_urls.length + js_urls.length + js_modules.length;\n    }    if (((window['GridStack'] !== undefined) && (!(window['GridStack'] instanceof HTMLElement))) || window.requirejs) {\n      var urls = ['https://cdn.holoviz.org/panel/0.14.2/dist/bundled/gridstack/gridstack@4.2.5/dist/gridstack-h5.js'];\n      for (var i = 0; i < urls.length; i++) {\n        skip.push(urls[i])\n      }\n    }    if (((window['Notyf'] !== undefined) && (!(window['Notyf'] instanceof HTMLElement))) || window.requirejs) {\n      var urls = ['https://cdn.holoviz.org/panel/0.14.2/dist/bundled/notificationarea/notyf@3/notyf.min.js'];\n      for (var i = 0; i < urls.length; i++) {\n        skip.push(urls[i])\n      }\n    }    for (var i = 0; i < js_urls.length; i++) {\n      var url = js_urls[i];\n      if (skip.indexOf(url) >= 0) {\n\tif (!window.requirejs) {\n\t  on_load();\n\t}\n\tcontinue;\n      }\n      var element = document.createElement('script');\n      element.onload = on_load;\n      element.onerror = on_error;\n      element.async = false;\n      element.src = url;\n      console.debug(\"Bokeh: injecting script tag for BokehJS library: \", url);\n      document.head.appendChild(element);\n    }\n    for (var i = 0; i < js_modules.length; i++) {\n      var url = js_modules[i];\n      if (skip.indexOf(url) >= 0) {\n\tif (!window.requirejs) {\n\t  on_load();\n\t}\n\tcontinue;\n      }\n      var element = document.createElement('script');\n      element.onload = on_load;\n      element.onerror = on_error;\n      element.async = false;\n      element.src = url;\n      element.type = \"module\";\n      console.debug(\"Bokeh: injecting script tag for BokehJS library: \", url);\n      document.head.appendChild(element);\n    }\n    if (!js_urls.length && !js_modules.length) {\n      on_load()\n    }\n  };\n\n  function inject_raw_css(css) {\n    const element = document.createElement(\"style\");\n    element.appendChild(document.createTextNode(css));\n    document.body.appendChild(element);\n  }\n\n  var js_urls = [\"https://cdn.bokeh.org/bokeh/release/bokeh-2.4.3.min.js\", \"https://cdn.bokeh.org/bokeh/release/bokeh-gl-2.4.3.min.js\", \"https://cdn.bokeh.org/bokeh/release/bokeh-widgets-2.4.3.min.js\", \"https://cdn.bokeh.org/bokeh/release/bokeh-tables-2.4.3.min.js\", \"https://cdn.bokeh.org/bokeh/release/bokeh-mathjax-2.4.3.min.js\", \"https://unpkg.com/@holoviz/panel@0.14.2/dist/panel.min.js\"];\n  var js_modules = [];\n  var css_urls = [\"https://cdn.holoviz.org/panel/0.14.2/dist/css/markdown.css\", \"https://cdn.holoviz.org/panel/0.14.2/dist/css/alerts.css\", \"https://cdn.holoviz.org/panel/0.14.2/dist/css/dataframe.css\", \"https://cdn.holoviz.org/panel/0.14.2/dist/css/widgets.css\", \"https://cdn.holoviz.org/panel/0.14.2/dist/css/debugger.css\", \"https://cdn.holoviz.org/panel/0.14.2/dist/css/loading.css\", \"https://cdn.holoviz.org/panel/0.14.2/dist/css/json.css\", \"https://cdn.holoviz.org/panel/0.14.2/dist/css/card.css\"];\n  var inline_js = [    function(Bokeh) {\n      inject_raw_css(\"\\n    .bk.pn-loading.arc:before {\\n      background-image: url(\\\"data:image/svg+xml;base64,PHN2ZyB4bWxucz0iaHR0cDovL3d3dy53My5vcmcvMjAwMC9zdmciIHN0eWxlPSJtYXJnaW46IGF1dG87IGJhY2tncm91bmQ6IG5vbmU7IGRpc3BsYXk6IGJsb2NrOyBzaGFwZS1yZW5kZXJpbmc6IGF1dG87IiB2aWV3Qm94PSIwIDAgMTAwIDEwMCIgcHJlc2VydmVBc3BlY3RSYXRpbz0ieE1pZFlNaWQiPiAgPGNpcmNsZSBjeD0iNTAiIGN5PSI1MCIgZmlsbD0ibm9uZSIgc3Ryb2tlPSIjYzNjM2MzIiBzdHJva2Utd2lkdGg9IjEwIiByPSIzNSIgc3Ryb2tlLWRhc2hhcnJheT0iMTY0LjkzMzYxNDMxMzQ2NDE1IDU2Ljk3Nzg3MTQzNzgyMTM4Ij4gICAgPGFuaW1hdGVUcmFuc2Zvcm0gYXR0cmlidXRlTmFtZT0idHJhbnNmb3JtIiB0eXBlPSJyb3RhdGUiIHJlcGVhdENvdW50PSJpbmRlZmluaXRlIiBkdXI9IjFzIiB2YWx1ZXM9IjAgNTAgNTA7MzYwIDUwIDUwIiBrZXlUaW1lcz0iMDsxIj48L2FuaW1hdGVUcmFuc2Zvcm0+ICA8L2NpcmNsZT48L3N2Zz4=\\\");\\n      background-size: auto calc(min(50%, 400px));\\n    }\\n    \");\n    },    function(Bokeh) {\n      Bokeh.set_log_level(\"info\");\n    },\nfunction(Bokeh) {} // ensure no trailing comma for IE\n  ];\n\n  function run_inline_js() {\n    if ((root.Bokeh !== undefined) || (force === true)) {\n      for (var i = 0; i < inline_js.length; i++) {\n        inline_js[i].call(root, root.Bokeh);\n      }} else if (Date.now() < root._bokeh_timeout) {\n      setTimeout(run_inline_js, 100);\n    } else if (!root._bokeh_failed_load) {\n      console.log(\"Bokeh: BokehJS failed to load within specified timeout.\");\n      root._bokeh_failed_load = true;\n    }\n  }\n\n  if (root._bokeh_is_loading === 0) {\n    console.debug(\"Bokeh: BokehJS loaded, going straight to plotting\");\n    run_inline_js();\n  } else {\n    load_libs(css_urls, js_urls, js_modules, function() {\n      console.debug(\"Bokeh: BokehJS plotting callback run at\", now());\n      run_inline_js();\n    });\n  }\n}(window));",
      "application/vnd.holoviews_load.v0+json": ""
     },
     "metadata": {},
     "output_type": "display_data"
    },
    {
     "data": {
      "application/javascript": "\nif ((window.PyViz === undefined) || (window.PyViz instanceof HTMLElement)) {\n  window.PyViz = {comms: {}, comm_status:{}, kernels:{}, receivers: {}, plot_index: []}\n}\n\n\n    function JupyterCommManager() {\n    }\n\n    JupyterCommManager.prototype.register_target = function(plot_id, comm_id, msg_handler) {\n      if (window.comm_manager || ((window.Jupyter !== undefined) && (Jupyter.notebook.kernel != null))) {\n        var comm_manager = window.comm_manager || Jupyter.notebook.kernel.comm_manager;\n        comm_manager.register_target(comm_id, function(comm) {\n          comm.on_msg(msg_handler);\n        });\n      } else if ((plot_id in window.PyViz.kernels) && (window.PyViz.kernels[plot_id])) {\n        window.PyViz.kernels[plot_id].registerCommTarget(comm_id, function(comm) {\n          comm.onMsg = msg_handler;\n        });\n      } else if (typeof google != 'undefined' && google.colab.kernel != null) {\n        google.colab.kernel.comms.registerTarget(comm_id, (comm) => {\n          var messages = comm.messages[Symbol.asyncIterator]();\n          function processIteratorResult(result) {\n            var message = result.value;\n            console.log(message)\n            var content = {data: message.data, comm_id};\n            var buffers = []\n            for (var buffer of message.buffers || []) {\n              buffers.push(new DataView(buffer))\n            }\n            var metadata = message.metadata || {};\n            var msg = {content, buffers, metadata}\n            msg_handler(msg);\n            return messages.next().then(processIteratorResult);\n          }\n          return messages.next().then(processIteratorResult);\n        })\n      }\n    }\n\n    JupyterCommManager.prototype.get_client_comm = function(plot_id, comm_id, msg_handler) {\n      if (comm_id in window.PyViz.comms) {\n        return window.PyViz.comms[comm_id];\n      } else if (window.comm_manager || ((window.Jupyter !== undefined) && (Jupyter.notebook.kernel != null))) {\n        var comm_manager = window.comm_manager || Jupyter.notebook.kernel.comm_manager;\n        var comm = comm_manager.new_comm(comm_id, {}, {}, {}, comm_id);\n        if (msg_handler) {\n          comm.on_msg(msg_handler);\n        }\n      } else if ((plot_id in window.PyViz.kernels) && (window.PyViz.kernels[plot_id])) {\n        var comm = window.PyViz.kernels[plot_id].connectToComm(comm_id);\n        comm.open();\n        if (msg_handler) {\n          comm.onMsg = msg_handler;\n        }\n      } else if (typeof google != 'undefined' && google.colab.kernel != null) {\n        var comm_promise = google.colab.kernel.comms.open(comm_id)\n        comm_promise.then((comm) => {\n          window.PyViz.comms[comm_id] = comm;\n          if (msg_handler) {\n            var messages = comm.messages[Symbol.asyncIterator]();\n            function processIteratorResult(result) {\n              var message = result.value;\n              var content = {data: message.data};\n              var metadata = message.metadata || {comm_id};\n              var msg = {content, metadata}\n              msg_handler(msg);\n              return messages.next().then(processIteratorResult);\n            }\n            return messages.next().then(processIteratorResult);\n          }\n        }) \n        var sendClosure = (data, metadata, buffers, disposeOnDone) => {\n          return comm_promise.then((comm) => {\n            comm.send(data, metadata, buffers, disposeOnDone);\n          });\n        };\n        var comm = {\n          send: sendClosure\n        };\n      }\n      window.PyViz.comms[comm_id] = comm;\n      return comm;\n    }\n    window.PyViz.comm_manager = new JupyterCommManager();\n    \n\n\nvar JS_MIME_TYPE = 'application/javascript';\nvar HTML_MIME_TYPE = 'text/html';\nvar EXEC_MIME_TYPE = 'application/vnd.holoviews_exec.v0+json';\nvar CLASS_NAME = 'output';\n\n/**\n * Render data to the DOM node\n */\nfunction render(props, node) {\n  var div = document.createElement(\"div\");\n  var script = document.createElement(\"script\");\n  node.appendChild(div);\n  node.appendChild(script);\n}\n\n/**\n * Handle when a new output is added\n */\nfunction handle_add_output(event, handle) {\n  var output_area = handle.output_area;\n  var output = handle.output;\n  if ((output.data == undefined) || (!output.data.hasOwnProperty(EXEC_MIME_TYPE))) {\n    return\n  }\n  var id = output.metadata[EXEC_MIME_TYPE][\"id\"];\n  var toinsert = output_area.element.find(\".\" + CLASS_NAME.split(' ')[0]);\n  if (id !== undefined) {\n    var nchildren = toinsert.length;\n    var html_node = toinsert[nchildren-1].children[0];\n    html_node.innerHTML = output.data[HTML_MIME_TYPE];\n    var scripts = [];\n    var nodelist = html_node.querySelectorAll(\"script\");\n    for (var i in nodelist) {\n      if (nodelist.hasOwnProperty(i)) {\n        scripts.push(nodelist[i])\n      }\n    }\n\n    scripts.forEach( function (oldScript) {\n      var newScript = document.createElement(\"script\");\n      var attrs = [];\n      var nodemap = oldScript.attributes;\n      for (var j in nodemap) {\n        if (nodemap.hasOwnProperty(j)) {\n          attrs.push(nodemap[j])\n        }\n      }\n      attrs.forEach(function(attr) { newScript.setAttribute(attr.name, attr.value) });\n      newScript.appendChild(document.createTextNode(oldScript.innerHTML));\n      oldScript.parentNode.replaceChild(newScript, oldScript);\n    });\n    if (JS_MIME_TYPE in output.data) {\n      toinsert[nchildren-1].children[1].textContent = output.data[JS_MIME_TYPE];\n    }\n    output_area._hv_plot_id = id;\n    if ((window.Bokeh !== undefined) && (id in Bokeh.index)) {\n      window.PyViz.plot_index[id] = Bokeh.index[id];\n    } else {\n      window.PyViz.plot_index[id] = null;\n    }\n  } else if (output.metadata[EXEC_MIME_TYPE][\"server_id\"] !== undefined) {\n    var bk_div = document.createElement(\"div\");\n    bk_div.innerHTML = output.data[HTML_MIME_TYPE];\n    var script_attrs = bk_div.children[0].attributes;\n    for (var i = 0; i < script_attrs.length; i++) {\n      toinsert[toinsert.length - 1].childNodes[1].setAttribute(script_attrs[i].name, script_attrs[i].value);\n    }\n    // store reference to server id on output_area\n    output_area._bokeh_server_id = output.metadata[EXEC_MIME_TYPE][\"server_id\"];\n  }\n}\n\n/**\n * Handle when an output is cleared or removed\n */\nfunction handle_clear_output(event, handle) {\n  var id = handle.cell.output_area._hv_plot_id;\n  var server_id = handle.cell.output_area._bokeh_server_id;\n  if (((id === undefined) || !(id in PyViz.plot_index)) && (server_id !== undefined)) { return; }\n  var comm = window.PyViz.comm_manager.get_client_comm(\"hv-extension-comm\", \"hv-extension-comm\", function () {});\n  if (server_id !== null) {\n    comm.send({event_type: 'server_delete', 'id': server_id});\n    return;\n  } else if (comm !== null) {\n    comm.send({event_type: 'delete', 'id': id});\n  }\n  delete PyViz.plot_index[id];\n  if ((window.Bokeh !== undefined) & (id in window.Bokeh.index)) {\n    var doc = window.Bokeh.index[id].model.document\n    doc.clear();\n    const i = window.Bokeh.documents.indexOf(doc);\n    if (i > -1) {\n      window.Bokeh.documents.splice(i, 1);\n    }\n  }\n}\n\n/**\n * Handle kernel restart event\n */\nfunction handle_kernel_cleanup(event, handle) {\n  delete PyViz.comms[\"hv-extension-comm\"];\n  window.PyViz.plot_index = {}\n}\n\n/**\n * Handle update_display_data messages\n */\nfunction handle_update_output(event, handle) {\n  handle_clear_output(event, {cell: {output_area: handle.output_area}})\n  handle_add_output(event, handle)\n}\n\nfunction register_renderer(events, OutputArea) {\n  function append_mime(data, metadata, element) {\n    // create a DOM node to render to\n    var toinsert = this.create_output_subarea(\n    metadata,\n    CLASS_NAME,\n    EXEC_MIME_TYPE\n    );\n    this.keyboard_manager.register_events(toinsert);\n    // Render to node\n    var props = {data: data, metadata: metadata[EXEC_MIME_TYPE]};\n    render(props, toinsert[0]);\n    element.append(toinsert);\n    return toinsert\n  }\n\n  events.on('output_added.OutputArea', handle_add_output);\n  events.on('output_updated.OutputArea', handle_update_output);\n  events.on('clear_output.CodeCell', handle_clear_output);\n  events.on('delete.Cell', handle_clear_output);\n  events.on('kernel_ready.Kernel', handle_kernel_cleanup);\n\n  OutputArea.prototype.register_mime_type(EXEC_MIME_TYPE, append_mime, {\n    safe: true,\n    index: 0\n  });\n}\n\nif (window.Jupyter !== undefined) {\n  try {\n    var events = require('base/js/events');\n    var OutputArea = require('notebook/js/outputarea').OutputArea;\n    if (OutputArea.prototype.mime_types().indexOf(EXEC_MIME_TYPE) == -1) {\n      register_renderer(events, OutputArea);\n    }\n  } catch(err) {\n  }\n}\n",
      "application/vnd.holoviews_load.v0+json": ""
     },
     "metadata": {},
     "output_type": "display_data"
    },
    {
     "data": {
      "text/html": [
       "<style>.bk-root, .bk-root .bk:before, .bk-root .bk:after {\n",
       "  font-family: var(--jp-ui-font-size1);\n",
       "  font-size: var(--jp-ui-font-size1);\n",
       "  color: var(--jp-ui-font-color1);\n",
       "}\n",
       "</style>"
      ]
     },
     "metadata": {},
     "output_type": "display_data"
    },
    {
     "data": {},
     "metadata": {},
     "output_type": "display_data"
    },
    {
     "data": {
      "application/vnd.holoviews_exec.v0+json": "",
      "text/html": [
       "<div id='1355'>\n",
       "  <div class=\"bk-root\" id=\"1fbcd3ad-29b0-4343-a1d7-ad91dcf66bf6\" data-root-id=\"1355\"></div>\n",
       "</div>\n",
       "<script type=\"application/javascript\">(function(root) {\n",
       "  function embed_document(root) {\n",
       "    var docs_json = {\"beb6bd65-fbb5-43d9-9c00-56af38ad3355\":{\"defs\":[{\"extends\":null,\"module\":null,\"name\":\"ReactiveHTML1\",\"overrides\":[],\"properties\":[]},{\"extends\":null,\"module\":null,\"name\":\"FlexBox1\",\"overrides\":[],\"properties\":[{\"default\":\"flex-start\",\"kind\":null,\"name\":\"align_content\"},{\"default\":\"flex-start\",\"kind\":null,\"name\":\"align_items\"},{\"default\":\"row\",\"kind\":null,\"name\":\"flex_direction\"},{\"default\":\"wrap\",\"kind\":null,\"name\":\"flex_wrap\"},{\"default\":\"flex-start\",\"kind\":null,\"name\":\"justify_content\"}]},{\"extends\":null,\"module\":null,\"name\":\"GridStack1\",\"overrides\":[],\"properties\":[{\"default\":\"warn\",\"kind\":null,\"name\":\"mode\"},{\"default\":null,\"kind\":null,\"name\":\"ncols\"},{\"default\":null,\"kind\":null,\"name\":\"nrows\"},{\"default\":true,\"kind\":null,\"name\":\"allow_resize\"},{\"default\":true,\"kind\":null,\"name\":\"allow_drag\"},{\"default\":[],\"kind\":null,\"name\":\"state\"}]},{\"extends\":null,\"module\":null,\"name\":\"click1\",\"overrides\":[],\"properties\":[{\"default\":\"\",\"kind\":null,\"name\":\"terminal_output\"},{\"default\":\"\",\"kind\":null,\"name\":\"debug_name\"},{\"default\":0,\"kind\":null,\"name\":\"clears\"}]},{\"extends\":null,\"module\":null,\"name\":\"NotificationAreaBase1\",\"overrides\":[],\"properties\":[{\"default\":\"bottom-right\",\"kind\":null,\"name\":\"position\"},{\"default\":0,\"kind\":null,\"name\":\"_clear\"}]},{\"extends\":null,\"module\":null,\"name\":\"NotificationArea1\",\"overrides\":[],\"properties\":[{\"default\":[],\"kind\":null,\"name\":\"notifications\"},{\"default\":\"bottom-right\",\"kind\":null,\"name\":\"position\"},{\"default\":0,\"kind\":null,\"name\":\"_clear\"},{\"default\":[{\"background\":\"#ffc107\",\"icon\":{\"className\":\"fas fa-exclamation-triangle\",\"color\":\"white\",\"tagName\":\"i\"},\"type\":\"warning\"},{\"background\":\"#007bff\",\"icon\":{\"className\":\"fas fa-info-circle\",\"color\":\"white\",\"tagName\":\"i\"},\"type\":\"info\"}],\"kind\":null,\"name\":\"types\"}]},{\"extends\":null,\"module\":null,\"name\":\"Notification\",\"overrides\":[],\"properties\":[{\"default\":null,\"kind\":null,\"name\":\"background\"},{\"default\":3000,\"kind\":null,\"name\":\"duration\"},{\"default\":null,\"kind\":null,\"name\":\"icon\"},{\"default\":\"\",\"kind\":null,\"name\":\"message\"},{\"default\":null,\"kind\":null,\"name\":\"notification_type\"},{\"default\":false,\"kind\":null,\"name\":\"_destroyed\"}]},{\"extends\":null,\"module\":null,\"name\":\"TemplateActions1\",\"overrides\":[],\"properties\":[{\"default\":0,\"kind\":null,\"name\":\"open_modal\"},{\"default\":0,\"kind\":null,\"name\":\"close_modal\"}]},{\"extends\":null,\"module\":null,\"name\":\"MaterialTemplateActions1\",\"overrides\":[],\"properties\":[{\"default\":0,\"kind\":null,\"name\":\"open_modal\"},{\"default\":0,\"kind\":null,\"name\":\"close_modal\"}]}],\"roots\":{\"references\":[{\"attributes\":{\"children\":[{\"id\":\"1359\"}],\"margin\":[0,0,0,0],\"name\":\"Row00649\"},\"id\":\"1358\",\"type\":\"Row\"},{\"attributes\":{\"end\":1677543128000.0,\"margin\":[5,10,5,10],\"start\":1640995200000.0,\"title\":\"Date Slider\",\"value\":1672531200000.0},\"id\":\"1356\",\"type\":\"DateSlider\"},{\"attributes\":{\"end\":180,\"margin\":[5,10,5,10],\"start\":1,\"step\":7,\"title\":\"number of days\",\"value\":7},\"id\":\"1357\",\"type\":\"Slider\"},{\"attributes\":{\"height\":432,\"margin\":[5,5,5,5],\"name\":\"ParamFunction00645\",\"text\":\"&lt;img src=&quot;data:image/png;base64,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&quot; width=&quot;720px&quot; height=&quot;432px&quot; alt=&quot;&quot;&gt;&lt;/img&gt;\",\"width\":720},\"id\":\"1359\",\"type\":\"panel.models.markup.HTML\"},{\"attributes\":{\"children\":[{\"id\":\"1356\"},{\"id\":\"1357\"},{\"id\":\"1358\"}],\"margin\":[0,0,0,0],\"name\":\"Column00652\"},\"id\":\"1355\",\"type\":\"Column\"},{\"attributes\":{\"client_comm_id\":\"de9baf87e40e4529a0ef8ee9e140174a\",\"comm_id\":\"8d45ea8cad9249f0bd4edbe47ad5ef5b\",\"plot_id\":\"1355\"},\"id\":\"1360\",\"type\":\"panel.models.comm_manager.CommManager\"}],\"root_ids\":[\"1355\",\"1360\"]},\"title\":\"Bokeh Application\",\"version\":\"2.4.3\"}};\n",
       "    var render_items = [{\"docid\":\"beb6bd65-fbb5-43d9-9c00-56af38ad3355\",\"root_ids\":[\"1355\"],\"roots\":{\"1355\":\"1fbcd3ad-29b0-4343-a1d7-ad91dcf66bf6\"}}];\n",
       "    root.Bokeh.embed.embed_items_notebook(docs_json, render_items);\n",
       "    for (const render_item of render_items) {\n",
       "      for (const root_id of render_item.root_ids) {\n",
       "\tconst id_el = document.getElementById(root_id)\n",
       "\tif (id_el.children.length && (id_el.children[0].className === 'bk-root')) {\n",
       "\t  const root_el = id_el.children[0]\n",
       "\t  root_el.id = root_el.id + '-rendered'\n",
       "\t}\n",
       "      }\n",
       "    }\n",
       "  }\n",
       "  if (root.Bokeh !== undefined && root.Bokeh.Panel !== undefined) {\n",
       "    embed_document(root);\n",
       "  } else {\n",
       "    var attempts = 0;\n",
       "    var timer = setInterval(function(root) {\n",
       "      if (root.Bokeh !== undefined && root.Bokeh.Panel !== undefined) {\n",
       "        clearInterval(timer);\n",
       "        embed_document(root);\n",
       "      } else if (document.readyState == \"complete\") {\n",
       "        attempts++;\n",
       "        if (attempts > 200) {\n",
       "          clearInterval(timer);\n",
       "          console.log(\"Bokeh: ERROR: Unable to run BokehJS code because BokehJS library is missing\");\n",
       "        }\n",
       "      }\n",
       "    }, 25, root)\n",
       "  }\n",
       "})(window);</script>"
      ],
      "text/plain": [
       "Column\n",
       "    [0] DateSlider(end=datetime.datetime(2023, ..., name='Date Slider', start=datetime.datetime(2022, ..., value=datetime.datetime(2023, ...)\n",
       "    [1] IntSlider(end=180, name='number of days', start=1, step=7, value=7)\n",
       "    [2] ParamFunction(function)"
      ]
     },
     "execution_count": 102,
     "metadata": {
      "application/vnd.holoviews_exec.v0+json": {
       "id": "1355"
      }
     },
     "output_type": "execute_result"
    }
   ],
   "source": [
    "import pandas as pd; import numpy as np; import matplotlib.pyplot as plt\n",
    "import panel as pn\n",
    "import datetime as dt\n",
    "from datetime import timezone\n",
    "\n",
    "from matplotlib.backends.backend_agg import FigureCanvas\n",
    "from matplotlib.figure import Figure\n",
    "pn.extension()\n",
    "\n",
    "#create a dataframe from the Jira export\n",
    "data = pd.DataFrame.from_dict(issue_data)\n",
    "data = data.T\n",
    "#data.tail\n",
    "\n",
    "def weekdf(startDay, dayCount, dataframe):\n",
    "    startDay = datetime.combine(startDay, datetime.min.time())\n",
    "    startDay =startDay.replace(tzinfo=timezone.utc)\n",
    "    endDay =startDay+ dt.timedelta(days=dayCount)\n",
    "    #print(startDay, endDay)\n",
    "    weekdf= dataframe[(dataframe[\"create_time\"] >= startDay)&(dataframe[\"create_time\"] <= endDay) ][\"elapsed_time_hours\"].value_counts()\n",
    "    weektitle = \"Defect status by creation date\"\n",
    "    if weekdf.empty:\n",
    "        startDay =dt.datetime(2021, 1, 1,0,0,0)\n",
    "        startDay =startDay.replace(tzinfo=timezone.utc)\n",
    "        dayCount=730\n",
    "        endDay =startDay+ dt.timedelta(days=dayCount)\n",
    "        weektitle = \"no data for this week.\"\n",
    "        weekdf= dataframe[(dataframe[\"create_time\"] >= startDay)&(dataframe[\"create_time\"] <= endDay) ][\"elapsed_time_hours\"].value_counts(bins=4, sort=False)\n",
    "    else:\n",
    "         issueCount = weekdf.sum(0)\n",
    "         numberofBins = 4\n",
    "         if issueCount < 4:\n",
    "                numberofBins = 2\n",
    "         if issueCount > 15:\n",
    "                numberofBins = 8\n",
    "         weekdf= dataframe[(dataframe[\"create_time\"] >= startDay)&(dataframe[\"create_time\"] <= endDay) ][\"elapsed_time_hours\"].value_counts(bins=numberofBins, sort=False)\n",
    "    #print(\"count\", weekdf.sum(0))\n",
    "    return weekdf\n",
    "\n",
    "\n",
    "def time_plot(startDay, dayCount, dataframe):\n",
    "    fig = Figure(figsize=(10, 6))\n",
    "    fig.subplots_adjust(bottom=0.45)\n",
    "\n",
    "    ax = fig.subplots()\n",
    "    ax.xaxis.set_tick_params(labelsize=20)\n",
    "    df1 = weekdf(startDay, dayCount, dataframe)\n",
    "    FigureCanvas(fig) \n",
    "    df1.plot.bar(x=\"x\", y=\"counts\", ax=ax, title=\"MTTR to closing issues\")\n",
    "    return fig\n",
    "\n",
    "\n",
    "\n",
    "#build the chart\n",
    "\n",
    "#get all our date-time variables correctly formatted with a timezone.\n",
    "sliderstart = dt.datetime(2022, 1, 1,0,0,0)\n",
    "sliderstart =sliderstart.replace(tzinfo=timezone.utc)\n",
    "sliderend = dt.datetime.now()\n",
    "sliderend =sliderend.replace(tzinfo=timezone.utc)\n",
    "slidervalue = dt.datetime(2023, 1, 1,0,0,0)\n",
    "slidervalue =slidervalue.replace(tzinfo=timezone.utc)\n",
    "#print(\"sliderstart\",sliderstart)\n",
    "\n",
    "\n",
    "#CREATE SLIDERS\n",
    "startDay = pn.widgets.DateSlider(name='Date Slider', start=sliderstart, end=sliderend, value=slidervalue)\n",
    "\n",
    "dayCount = pn.widgets.IntSlider(name='number of days', value=7, start=1, end=180, step = 7)\n",
    "interactive = pn.bind(time_plot, startDay=startDay, dayCount=dayCount, dataframe = data)\n",
    "first_app = pn.Column(startDay, dayCount, interactive)\n",
    "first_app\n"
   ]
  },
  {
   "cell_type": "markdown",
   "id": "c0dbc4ed-8af7-4749-8604-584f40749d44",
   "metadata": {
    "jupyter": {
     "source_hidden": false
    },
    "name": "Pulling the chart data live",
    "orderProperties": [],
    "tags": [],
    "title": "Pulling the chart data live"
   },
   "source": [
    "<p>The above steps are great if your dataset isn't very large.&nbsp; But what if you have thousands of issues?&nbsp; We dont want to make epic JQL queries, and then also hammer the RUnBook with a huge amount of data.&nbsp;&nbsp;</p>\n",
    "<p>&nbsp;</p>\n",
    "<p>Let's pull the data every time we change the graph.&nbsp; This is REALLY useful for time sensitive data (imagine you need time sensitive data, and pulling a whole day's of data takes forever.). Now, pull the small subset you need in real time when you create the chart</p>"
   ]
  },
  {
   "cell_type": "code",
   "execution_count": 101,
   "id": "5d939c27-a6ad-4f57-a5c4-b23545187ad8",
   "metadata": {
    "customAction": true,
    "execution_data": {
     "last_date_success_run_cell": "2023-02-27T22:45:21.864Z"
    },
    "name": "live data interactive chart",
    "orderProperties": [],
    "tags": [],
    "title": "live data interactive chart"
   },
   "outputs": [
    {
     "name": "stdout",
     "output_type": "stream",
     "text": [
      "jql_query project = EN and issueType = Bug and status changed to Done during (\"2023/01/01\",\"2023/01/08\")\n",
      "stringifiedInput {\"jql\": \"project = EN and issueType = Bug and status changed to Done during (\\\"2023/01/01\\\",\\\"2023/01/08\\\")\"} <class 'str'>\n",
      "jql search lego project = EN and issueType = Bug and status changed to Done during (\"2023/01/01\",\"2023/01/08\")\n",
      "\n",
      "\n",
      "Task Executed\n",
      "issueList1 8\n",
      "counter 8\n",
      "livedata 72\n"
     ]
    },
    {
     "data": {
      "text/html": [
       "jql_query project = EN and issueType = Bug and status changed to Done during (\"2022/08/31\",\"2022/09/07\")</br>\n",
       "stringifiedInput {\"jql\": \"project = EN and issueType = Bug and status changed to Done during (\\\"2022/08/31\\\",\\\"2022/09/07\\\")\"} <class 'str'></br>\n",
       "jql search lego project = EN and issueType = Bug and status changed to Done during (\"2022/08/31\",\"2022/09/07\")</br>\n",
       "</br>\n",
       "</br>\n",
       "Task Executed</br>\n",
       "issueList1 1</br>\n",
       "counter 1</br>\n",
       "livedata 9</br>\n",
       "jql_query project = EN and issueType = Bug and status changed to Done during (\"2022/08/31\",\"2022/09/22\")</br>\n",
       "stringifiedInput {\"jql\": \"project = EN and issueType = Bug and status changed to Done during (\\\"2022/08/31\\\",\\\"2022/09/22\\\")\"} <class 'str'></br>\n",
       "jql search lego project = EN and issueType = Bug and status changed to Done during (\"2022/08/31\",\"2022/09/22\")</br>\n",
       "</br>\n",
       "</br>\n",
       "Task Executed</br>\n",
       "issueList1 9</br>\n",
       "counter 9</br>\n",
       "livedata 81</br>\n",
       "jql_query project = EN and issueType = Bug and status changed to Done during (\"2022/08/31\",\"2022/11/17\")</br>\n",
       "stringifiedInput {\"jql\": \"project = EN and issueType = Bug and status changed to Done during (\\\"2022/08/31\\\",\\\"2022/11/17\\\")\"} <class 'str'></br>\n",
       "jql search lego project = EN and issueType = Bug and status changed to Done during (\"2022/08/31\",\"2022/11/17\")</br>\n",
       "</br>\n",
       "</br>\n",
       "Task Executed</br>\n",
       "issueList1 23</br>\n",
       "counter 23</br>\n",
       "livedata 207</br>\n",
       "jql_query project = EN and issueType = Bug and status changed to Done during (\"2022/08/31\",\"2022/11/10\")</br>\n",
       "stringifiedInput {\"jql\": \"project = EN and issueType = Bug and status changed to Done during (\\\"2022/08/31\\\",\\\"2022/11/10\\\")\"} <class 'str'></br>\n",
       "jql search lego project = EN and issueType = Bug and status changed to Done during (\"2022/08/31\",\"2022/11/10\")</br>\n",
       "</br>\n",
       "</br>\n",
       "Task Executed</br>\n",
       "issueList1 19</br>\n",
       "counter 19</br>\n",
       "livedata 171</br>\n",
       "jql_query project = EN and issueType = Bug and status changed to Done during (\"2022/08/31\",\"2022/11/03\")</br>\n",
       "stringifiedInput {\"jql\": \"project = EN and issueType = Bug and status changed to Done during (\\\"2022/08/31\\\",\\\"2022/11/03\\\")\"} <class 'str'></br>\n",
       "jql search lego project = EN and issueType = Bug and status changed to Done during (\"2022/08/31\",\"2022/11/03\")</br>\n",
       "</br>\n",
       "</br>\n",
       "Task Executed</br>\n",
       "issueList1 17</br>\n",
       "counter 17</br>\n",
       "livedata 153</br>"
      ]
     },
     "metadata": {},
     "output_type": "display_data"
    },
    {
     "data": {
      "application/vnd.holoviews_exec.v0+json": "",
      "text/html": [
       "<div id='1343'>\n",
       "  <div class=\"bk-root\" id=\"6f49b2ab-24ce-4baf-b5a4-e6d02b20ab7d\" data-root-id=\"1343\"></div>\n",
       "</div>\n",
       "<script type=\"application/javascript\">(function(root) {\n",
       "  function embed_document(root) {\n",
       "    var docs_json = {\"3681b55a-0dce-4515-84ab-c3742c221a6d\":{\"defs\":[{\"extends\":null,\"module\":null,\"name\":\"ReactiveHTML1\",\"overrides\":[],\"properties\":[]},{\"extends\":null,\"module\":null,\"name\":\"FlexBox1\",\"overrides\":[],\"properties\":[{\"default\":\"flex-start\",\"kind\":null,\"name\":\"align_content\"},{\"default\":\"flex-start\",\"kind\":null,\"name\":\"align_items\"},{\"default\":\"row\",\"kind\":null,\"name\":\"flex_direction\"},{\"default\":\"wrap\",\"kind\":null,\"name\":\"flex_wrap\"},{\"default\":\"flex-start\",\"kind\":null,\"name\":\"justify_content\"}]},{\"extends\":null,\"module\":null,\"name\":\"GridStack1\",\"overrides\":[],\"properties\":[{\"default\":\"warn\",\"kind\":null,\"name\":\"mode\"},{\"default\":null,\"kind\":null,\"name\":\"ncols\"},{\"default\":null,\"kind\":null,\"name\":\"nrows\"},{\"default\":true,\"kind\":null,\"name\":\"allow_resize\"},{\"default\":true,\"kind\":null,\"name\":\"allow_drag\"},{\"default\":[],\"kind\":null,\"name\":\"state\"}]},{\"extends\":null,\"module\":null,\"name\":\"click1\",\"overrides\":[],\"properties\":[{\"default\":\"\",\"kind\":null,\"name\":\"terminal_output\"},{\"default\":\"\",\"kind\":null,\"name\":\"debug_name\"},{\"default\":0,\"kind\":null,\"name\":\"clears\"}]},{\"extends\":null,\"module\":null,\"name\":\"NotificationAreaBase1\",\"overrides\":[],\"properties\":[{\"default\":\"bottom-right\",\"kind\":null,\"name\":\"position\"},{\"default\":0,\"kind\":null,\"name\":\"_clear\"}]},{\"extends\":null,\"module\":null,\"name\":\"NotificationArea1\",\"overrides\":[],\"properties\":[{\"default\":[],\"kind\":null,\"name\":\"notifications\"},{\"default\":\"bottom-right\",\"kind\":null,\"name\":\"position\"},{\"default\":0,\"kind\":null,\"name\":\"_clear\"},{\"default\":[{\"background\":\"#ffc107\",\"icon\":{\"className\":\"fas fa-exclamation-triangle\",\"color\":\"white\",\"tagName\":\"i\"},\"type\":\"warning\"},{\"background\":\"#007bff\",\"icon\":{\"className\":\"fas fa-info-circle\",\"color\":\"white\",\"tagName\":\"i\"},\"type\":\"info\"}],\"kind\":null,\"name\":\"types\"}]},{\"extends\":null,\"module\":null,\"name\":\"Notification\",\"overrides\":[],\"properties\":[{\"default\":null,\"kind\":null,\"name\":\"background\"},{\"default\":3000,\"kind\":null,\"name\":\"duration\"},{\"default\":null,\"kind\":null,\"name\":\"icon\"},{\"default\":\"\",\"kind\":null,\"name\":\"message\"},{\"default\":null,\"kind\":null,\"name\":\"notification_type\"},{\"default\":false,\"kind\":null,\"name\":\"_destroyed\"}]},{\"extends\":null,\"module\":null,\"name\":\"TemplateActions1\",\"overrides\":[],\"properties\":[{\"default\":0,\"kind\":null,\"name\":\"open_modal\"},{\"default\":0,\"kind\":null,\"name\":\"close_modal\"}]},{\"extends\":null,\"module\":null,\"name\":\"MaterialTemplateActions1\",\"overrides\":[],\"properties\":[{\"default\":0,\"kind\":null,\"name\":\"open_modal\"},{\"default\":0,\"kind\":null,\"name\":\"close_modal\"}]}],\"roots\":{\"references\":[{\"attributes\":{\"client_comm_id\":\"fa2343fbccff479ab07877fdfdb126b2\",\"comm_id\":\"9eaf40a5ad434efe80580690ff2a07da\",\"plot_id\":\"1343\"},\"id\":\"1348\",\"type\":\"panel.models.comm_manager.CommManager\"},{\"attributes\":{\"end\":180,\"margin\":[5,10,5,10],\"start\":1,\"step\":7,\"title\":\"number of days\",\"value\":7},\"id\":\"1345\",\"type\":\"Slider\"},{\"attributes\":{\"children\":[{\"id\":\"1344\"},{\"id\":\"1345\"},{\"id\":\"1346\"}],\"margin\":[0,0,0,0],\"name\":\"Column00639\"},\"id\":\"1343\",\"type\":\"Column\"},{\"attributes\":{\"children\":[{\"id\":\"1347\"}],\"margin\":[0,0,0,0],\"name\":\"Row00636\"},\"id\":\"1346\",\"type\":\"Row\"},{\"attributes\":{\"height\":432,\"margin\":[5,5,5,5],\"name\":\"ParamFunction00632\",\"text\":\"&lt;img src=&quot;data:image/png;base64,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&quot; width=&quot;720px&quot; height=&quot;432px&quot; alt=&quot;&quot;&gt;&lt;/img&gt;\",\"width\":720},\"id\":\"1347\",\"type\":\"panel.models.markup.HTML\"},{\"attributes\":{\"end\":1677537920000.0,\"margin\":[5,10,5,10],\"start\":1640995200000.0,\"title\":\"Date Slider\",\"value\":1672531200000.0},\"id\":\"1344\",\"type\":\"DateSlider\"}],\"root_ids\":[\"1343\",\"1348\"]},\"title\":\"Bokeh Application\",\"version\":\"2.4.3\"}};\n",
       "    var render_items = [{\"docid\":\"3681b55a-0dce-4515-84ab-c3742c221a6d\",\"root_ids\":[\"1343\"],\"roots\":{\"1343\":\"6f49b2ab-24ce-4baf-b5a4-e6d02b20ab7d\"}}];\n",
       "    root.Bokeh.embed.embed_items_notebook(docs_json, render_items);\n",
       "    for (const render_item of render_items) {\n",
       "      for (const root_id of render_item.root_ids) {\n",
       "\tconst id_el = document.getElementById(root_id)\n",
       "\tif (id_el.children.length && (id_el.children[0].className === 'bk-root')) {\n",
       "\t  const root_el = id_el.children[0]\n",
       "\t  root_el.id = root_el.id + '-rendered'\n",
       "\t}\n",
       "      }\n",
       "    }\n",
       "  }\n",
       "  if (root.Bokeh !== undefined && root.Bokeh.Panel !== undefined) {\n",
       "    embed_document(root);\n",
       "  } else {\n",
       "    var attempts = 0;\n",
       "    var timer = setInterval(function(root) {\n",
       "      if (root.Bokeh !== undefined && root.Bokeh.Panel !== undefined) {\n",
       "        clearInterval(timer);\n",
       "        embed_document(root);\n",
       "      } else if (document.readyState == \"complete\") {\n",
       "        attempts++;\n",
       "        if (attempts > 200) {\n",
       "          clearInterval(timer);\n",
       "          console.log(\"Bokeh: ERROR: Unable to run BokehJS code because BokehJS library is missing\");\n",
       "        }\n",
       "      }\n",
       "    }, 25, root)\n",
       "  }\n",
       "})(window);</script>"
      ],
      "text/plain": [
       "Column\n",
       "    [0] DateSlider(end=datetime.datetime(2023, ..., name='Date Slider', start=datetime.datetime(2022, ..., value=datetime.datetime(2023, ...)\n",
       "    [1] IntSlider(end=180, name='number of days', start=1, step=7, value=7)\n",
       "    [2] ParamFunction(function)"
      ]
     },
     "execution_count": 101,
     "metadata": {
      "application/vnd.holoviews_exec.v0+json": {
       "id": "1343"
      }
     },
     "output_type": "execute_result"
    }
   ],
   "source": [
    "import json\n",
    "#create a dataframe from the Jira export\n",
    "livedata = data\n",
    "\n",
    "#data.tail\n",
    "\n",
    "def weekdflive(startDay, dayCount, dataframe):\n",
    "    startDay = datetime.combine(startDay, datetime.min.time())\n",
    "    startDay =startDay.replace(tzinfo=timezone.utc)\n",
    "    endDay =startDay+ dt.timedelta(days=dayCount)\n",
    "    #pull data from JIRA\n",
    "    startJira = startDay.strftime(\"%Y/%m/%d\")\n",
    "    endJira = endDay.strftime(\"%Y/%m/%d\")\n",
    "    jql_query =create_query(jira_project, issue_type, new_status, startJira, endJira)\n",
    "    print(\"jql_query\",jql_query)\n",
    "    jsonInput = {\"jql\":jql_query}\n",
    "    stringifiedInput = json.dumps(jsonInput)\n",
    "    print(\"stringifiedInput\",stringifiedInput, type(stringifiedInput))\n",
    "    #inputParamsJson1 = f'''{\"jql\":{{jql_query}}}'''\n",
    "    #print(\"inputParamsJson1\", inputParamsJson1)\n",
    "   \n",
    "\n",
    "\n",
    "    task.configure(inputParamsJson='''{\n",
    "        \"jql\": \"jql_query\"\n",
    "        }''')\n",
    "    task.configure(outputName=\"issueList1\")\n",
    "    (err, hdl, args) = task.validate(vars=vars())\n",
    "    task.execute(jira_search_issue, lego_printer=unskript_default_printer, hdl=hdl, args=args)\n",
    "\n",
    "    print(\"issueList1\", len(issueList1))\n",
    "    live_issue_data = create_dict(issueList1)\n",
    "    livedata=\"\"\n",
    "    livedata = pd.DataFrame.from_dict(live_issue_data)\n",
    "    livedata = livedata.T\n",
    "    print(\"livedata\" ,livedata.size)\n",
    "    \n",
    "    \n",
    "    \n",
    "    weekdf= dataframe[(dataframe[\"create_time\"] >= startDay)&(dataframe[\"create_time\"] <= endDay) ][\"elapsed_time_hours\"].value_counts()\n",
    "    weektitle = \"Defect status by creation date\"\n",
    "    if weekdf.empty:\n",
    "        startDay =dt.datetime(2021, 1, 1,0,0,0)\n",
    "        startDay =startDay.replace(tzinfo=timezone.utc)\n",
    "        dayCount=730\n",
    "        endDay =startDay+ dt.timedelta(days=dayCount)\n",
    "        weektitle = \"no data for this week.\"\n",
    "        weekdf= dataframe[(dataframe[\"create_time\"] >= startDay)&(dataframe[\"create_time\"] <= endDay) ][\"elapsed_time_hours\"].value_counts(bins=4, sort=False)\n",
    "    else:\n",
    "         issueCount = weekdf.sum(0)\n",
    "         numberofBins = 4\n",
    "         if issueCount < 4:\n",
    "                numberofBins = 2\n",
    "         if issueCount > 15:\n",
    "                numberofBins = 8\n",
    "         weekdf= dataframe[(dataframe[\"create_time\"] >= startDay)&(dataframe[\"create_time\"] <= endDay) ][\"elapsed_time_hours\"].value_counts(bins=numberofBins, sort=False)\n",
    "    #print(\"count\", weekdf.sum(0))\n",
    "    return weekdf\n",
    "\n",
    "\n",
    "def time_plotlive(startDay, dayCount, dataframe):\n",
    "    fig = Figure(figsize=(10, 6))\n",
    "    fig.subplots_adjust(bottom=0.45)\n",
    "\n",
    "    ax = fig.subplots()\n",
    "    ax.xaxis.set_tick_params(labelsize=20)\n",
    "    df1 = weekdflive(startDay, dayCount, dataframe)\n",
    "    FigureCanvas(fig) \n",
    "    df1.plot.bar(x=\"x\", y=\"counts\", ax=ax, title=\"MTTR to closing issues\")\n",
    "    return fig\n",
    "\n",
    "\n",
    "\n",
    "#build the chart\n",
    "\n",
    "#get all our date-time variables correctly formatted with a timezone.\n",
    "sliderstart = dt.datetime(2022, 1, 1,0,0,0)\n",
    "sliderstart =sliderstart.replace(tzinfo=timezone.utc)\n",
    "sliderend = dt.datetime.now()\n",
    "sliderend =sliderend.replace(tzinfo=timezone.utc)\n",
    "slidervalue = dt.datetime(2023, 1, 1,0,0,0)\n",
    "slidervalue =slidervalue.replace(tzinfo=timezone.utc)\n",
    "#print(\"sliderstart\",sliderstart)\n",
    "\n",
    "\n",
    "#CREATE SLIDERS\n",
    "startDay = pn.widgets.DateSlider(name='Date Slider', start=sliderstart, end=sliderend, value=slidervalue)\n",
    "\n",
    "dayCount = pn.widgets.IntSlider(name='number of days', value=7, start=1, end=180, step = 7)\n",
    "interactive = pn.bind(time_plotlive, startDay=startDay, dayCount=dayCount, dataframe = livedata)\n",
    "first_app = pn.Column(startDay, dayCount, interactive)\n",
    "first_app\n"
   ]
  }
 ],
 "metadata": {
  "execution_data": {
   "environment_id": "1499f27c-6406-4fbd-bd1b-c6f92800018f",
   "environment_name": "Docker",
   "execution_id": "",
   "inputs_for_searched_lego": "",
   "notebook_id": "3b9b529d-878e-4ef8-808e-9d213a10198a.ipynb",
   "parameters": [
    "AMI_Id",
    "Region"
   ],
   "runbook_name": "using Panel to Visualize Time to Resolution on Jira Issues",
   "search_string": "",
   "show_tool_tip": false,
   "tenant_id": "982dba5f-d9df-48ae-a5bf-ec1fc94d4882",
   "tenant_url": "",
   "user_email_id": "",
   "workflow_id": "43087796-b221-445a-ae67-2504e09b3fd9"
  },
  "kernelspec": {
   "display_name": "unSkript (Build: 904)",
   "language": "python",
   "name": "python3"
  },
  "language_info": {
   "codemirror_mode": {
    "name": "ipython",
    "version": 3
   },
   "file_extension": ".py",
   "mimetype": "text/x-python",
   "name": "python",
   "nbconvert_exporter": "python",
   "pygments_lexer": "ipython3",
   "version": "3.9.6"
  },
  "parameterSchema": {
   "properties": {
    "end_date": {
     "default": "2023/02/22",
     "description": "End Date for search range",
     "title": "end_date",
     "type": "string"
    },
    "issue_type": {
     "default": "Bug",
     "description": "Jira issueType to query",
     "title": "issue_type",
     "type": "string"
    },
    "jira_project": {
     "default": "EN",
     "description": "Jira Project Name",
     "title": "jira_project",
     "type": "string"
    },
    "new_status": {
     "default": "Done",
     "description": "Status change to search for in Jira",
     "title": "new_status",
     "type": "string"
    },
    "start_date": {
     "default": "2022/01/01",
     "description": "Start Date for search range.",
     "title": "start_date",
     "type": "string"
    }
   },
   "required": [],
   "title": "Schema",
   "type": "object"
  },
  "vscode": {
   "interpreter": {
    "hash": "e8899eb02dfbc033aab5733bdae1bd213fa031d40331094008e8673d99ebab63"
   }
  }
 },
 "nbformat": 4,
 "nbformat_minor": 5
}
