{
 "cells": [
  {
   "cell_type": "markdown",
   "id": "32435b12-d7c9-4424-be43-f4d26736dd1a",
   "metadata": {
    "jupyter": {
     "source_hidden": false
    },
    "name": "Get MTTR of Jira issues",
    "orderProperties": [],
    "tags": [],
    "title": "Get MTTR of Jira issues"
   },
   "source": [
    "<p>In this RunBook, We will graph MTTR of issues in Jira.</p>\n",
    "<p>&nbsp;</p>\n",
    "<p>Since many teams track DevOps issues in Jira, this is a great way to understand how quickly issues are getting resolved, and if the MTTR is improving.</p>\n",
    "<p>&nbsp;</p>\n",
    "<p>First we will get a static pull of all the issues in Jira.&nbsp; This is fine if your data set is small, but we'll also generate the graph dynamically - so that the data pulled from Jira is never \"too big.\"</p>"
   ]
  },
  {
   "cell_type": "markdown",
   "id": "f0a1f3b5-4494-4533-811b-5dd36e5e4d46",
   "metadata": {
    "jupyter": {
     "source_hidden": false
    },
    "name": "Configure the JQL query",
    "orderProperties": [],
    "tags": [],
    "title": "Configure the JQL query"
   },
   "source": [
    "<p>By defining the JQL query in this way, we can reuse the \"get issues from JIRA\" Action with different start and end times to pull different timeframes from Jira.</p>\n",
    "<p>&nbsp;</p>\n",
    "<p>For the static chart, we use a big start and end time, to pull all the data in.</p>"
   ]
  },
  {
   "cell_type": "code",
   "execution_count": null,
   "id": "42d705d5-69c3-4671-9ede-9891f1584aac",
   "metadata": {
    "customAction": true,
    "execution_data": {
     "last_date_success_run_cell": "2023-02-27T21:48:04.101Z"
    },
    "name": "JQL Query Variable",
    "orderProperties": [],
    "tags": [],
    "title": "JQL Query Variable",
    "credentialsJson": {}
   },
   "outputs": [],
   "source": [
    "start = start_date\n",
    "end = end_date\n",
    "#global jql_query\n",
    "jql_query=\"\"\n",
    "def create_query(jira_project, issue_type, new_status, start, end) -> str: \n",
    "    \n",
    "    #global jql_query\n",
    "    return f'project = {jira_project} and issueType = {issue_type} and status changed to {new_status} during (\"{start}\",\"{end}\")'\n",
    "jql_query = create_query(jira_project, issue_type, new_status, start, end)\n",
    "print(jql_query)\n"
   ],
   "output": {}
  },
  {
   "cell_type": "markdown",
   "id": "55af3eea-f53f-41ba-83f5-c0f1c58a8d1f",
   "metadata": {
    "jupyter": {
     "source_hidden": false
    },
    "name": "Query JQL",
    "orderProperties": [],
    "tags": [],
    "title": "Query JQL"
   },
   "source": [
    "<p>We;ve created the JQL query - this pre-built Action just pulls the requested data from Jira.:<br><br></p>\n",
    "<pre>project = EN and issueType = Bug and status changed to Done during ('2022/01/01','2023/01/08')</pre>\n",
    "<p>&nbsp;</p>\n",
    "<p>This query pulls all bgs from the EN project that were completed from 1/1/2022 - 1/8/2023.</p>"
   ]
  },
  {
   "cell_type": "code",
   "execution_count": null,
   "id": "cf3db291-fea3-4dbe-94c4-d15a8d906cd0",
   "metadata": {
    "accessType": "ACCESS_TYPE_UNSPECIFIED",
    "actionBashCommand": false,
    "actionNeedsCredential": true,
    "actionOutputType": null,
    "actionRequiredLinesInCode": [],
    "actionSupportsIteration": false,
    "actionSupportsPoll": false,
    "action_modified": false,
    "action_uuid": "23c4b5c86be9cfdbc7cbfce6d90ed089b7dc61d6dbc219aae3f4cc08862d3934",
    "continueOnError": false,
    "credentialsJson": {},
    "description": "Use JQL to search all matching issues in Jira. Returns a List of the matching issues IDs/keys",
    "execution_data": {
     "last_date_success_run_cell": "2023-02-27T21:48:16.314Z"
    },
    "id": 7,
    "index": 7,
    "inputData": [
     {
      "jql": {
       "constant": false,
       "value": "jql_query"
      },
      "max_results": {
       "constant": false,
       "value": ""
      }
     }
    ],
    "inputschema": [
     {
      "properties": {
       "jql": {
        "description": "Search string to execute in JIRA. Valid JQL expression eg \"project = EN and status in (\"Selected for Development\") AND labels in (beta)\"",
        "title": "Jira issue search using Jira Query Languagae (JQL)",
        "type": "string"
       },
       "max_results": {
        "default": 5,
        "description": "Max limit on number of matching issues",
        "title": "Limit number of matching issues",
        "type": "integer"
       }
      },
      "required": [
       "jql"
      ],
      "title": "jira_search_issue",
      "type": "object"
     }
    ],
    "language": "python",
    "legotype": "LEGO_TYPE_JIRA",
    "metadata": {
     "action_bash_command": false,
     "action_description": "Use JQL to search all matching issues in Jira. Returns a List of the matching issues IDs/keys",
     "action_entry_function": "jira_search_issue",
     "action_needs_credential": true,
     "action_nouns": null,
     "action_output_type": "ACTION_OUTPUT_TYPE_NONE",
     "action_supports_iteration": true,
     "action_supports_poll": true,
     "action_title": "Search for Jira issues matching JQL queries",
     "action_type": "LEGO_TYPE_JIRA",
     "action_verbs": null,
     "action_version": "1.0.0"
    },
    "name": "Search Jira Issues with JQL",
    "orderProperties": [
     "jql",
     "max_results"
    ],
    "outputParams": {
     "output_name": "issueList",
     "output_name_enabled": true
    },
    "printOutput": false,
    "tags": [
     "jira_search_issue"
    ],
    "title": "Search Jira Issues with JQL",
    "uuid": "23c4b5c86be9cfdbc7cbfce6d90ed089b7dc61d6dbc219aae3f4cc08862d3934",
    "version": "1.0.0"
   },
   "outputs": [],
   "source": [
    "##\n",
    "# Copyright (c) 2021 unSkript, Inc\n",
    "# All rights reserved.\n",
    "##\n",
    "from jira import JIRA, Issue\n",
    "from pydantic import BaseModel, Field\n",
    "from typing import Optional, List, Dict\n",
    "import pprint\n",
    "\n",
    "pp = pprint.PrettyPrinter(indent=4)\n",
    "\n",
    "\n",
    "from beartype import beartype\n",
    "@beartype\n",
    "def legoPrinter(func):\n",
    "    def Printer(*args, **kwargs):\n",
    "        matching_issues = func(*args, **kwargs)\n",
    "        print('\\n')\n",
    "        #for issue in matching_issues:\n",
    "         #  print('ID:{}: Summary:{} Description:{}'.format(\n",
    "         #       issue.key, issue.fields.summary, issue.fields.description))\n",
    "            #print(issue)\n",
    "\n",
    "        return matching_issues\n",
    "    return Printer\n",
    "\n",
    "\n",
    "@legoPrinter\n",
    "@beartype\n",
    "def jira_search_issue(handle: JIRA, jql: str, max_results: int = 0) -> List:\n",
    "    \"\"\"jira_search_issue get Jira issues matching JQL queries.\n",
    "        :type jql: str\n",
    "        :param jql: Search string to execute in JIRA.\n",
    "\n",
    "        :type max_results: int\n",
    "        :param max_results: Max limit on number of matching issues\n",
    "\n",
    "        :rtype: Jira issues matching JQL queries\n",
    "    \"\"\"\n",
    "    print(\"jql search lego\",jql)\n",
    "    matching_issues = handle.search_issues(jql, maxResults=max_results)\n",
    "\n",
    "    return matching_issues\n",
    "\n",
    "\n",
    "def unskript_default_printer(output):\n",
    "    if isinstance(output, (list, tuple)):\n",
    "        for item in output:\n",
    "            print(f'item: {item}')\n",
    "    elif isinstance(output, dict):\n",
    "        for item in output.items():\n",
    "            print(f'item: {item}')\n",
    "    else:\n",
    "        print(f'Output for {task.name}')\n",
    "        print(output)\n",
    "\n",
    "task = Task(Workflow())\n",
    "\n",
    "task.configure(inputParamsJson='''{\n",
    "    \"jql\": \"jql_query\"\n",
    "    }''')\n",
    "\n",
    "task.configure(outputName=\"issueList\")\n",
    "task.configure(printOutput=False)\n",
    "(err, hdl, args) = task.validate(vars=vars())\n",
    "if err is None:\n",
    "    task.execute(jira_search_issue, lego_printer=unskript_default_printer, hdl=hdl, args=args)"
   ],
   "output": {}
  },
  {
   "cell_type": "markdown",
   "id": "48f39e74-8285-4252-ac8c-fce2ae30c841",
   "metadata": {
    "jupyter": {
     "source_hidden": false
    },
    "name": "Data into a Dict",
    "orderProperties": [],
    "tags": [],
    "title": "Data into a Dict"
   },
   "source": [
    "<p>In this Action - we convert the object from Jira into a Dict, and we add the elapsed time.&nbsp;&nbsp;</p>\n",
    "<p>&nbsp;</p>\n",
    "<p>This is the time from the bug being opened to the status changed to closed.&nbsp; We save this as a timedelta, but also convert the timedelta into hours - adding the days (*24) and seconds (/3600) of the timedelta so that we can see how many hours the ticket was open.</p>\n",
    "<p>&nbsp;</p>\n",
    "<p>We also count the number of issues in the Dict and print that value.</p>"
   ]
  },
  {
   "cell_type": "code",
   "execution_count": null,
   "id": "76777827-9c79-4965-96b7-871bfe9cbf0d",
   "metadata": {
    "customAction": true,
    "execution_data": {
     "last_date_success_run_cell": "2023-02-27T20:37:19.664Z"
    },
    "jupyter": {
     "source_hidden": true
    },
    "name": "data into dict",
    "orderProperties": [],
    "tags": [],
    "title": "data into dict",
    "credentialsJson": {}
   },
   "outputs": [],
   "source": [
    "from datetime import datetime\n",
    "def create_dict(issueList):\n",
    "\n",
    "    issue_data = {}\n",
    "    counter =0\n",
    "    for issue in issueList:\n",
    "        counter +=1\n",
    "        create_time = datetime.strptime(issue.fields.created, '%Y-%m-%dT%H:%M:%S.%f%z')\n",
    "        done_time = datetime.strptime(issue.fields.updated, '%Y-%m-%dT%H:%M:%S.%f%z')\n",
    "        elapsed_time = done_time-create_time\n",
    "        elapsed_time_hours = round(elapsed_time.days*24,0) +round(elapsed_time.seconds/3600,1)\n",
    "        #print(\"elapsed\", elapsed_time)\n",
    "        assignee = issue.fields.assignee\n",
    "        if hasattr(issue.fields.assignee,'displayName'):\n",
    "            assignee = issue.fields.assignee.displayName\n",
    "        else:\n",
    "            assignee = \"Not assigned\"\n",
    "        issue_data[issue.key] = {#\"summary\": issue.fields.summary, \n",
    "                                     #\"description\": issue.fields.description,\n",
    "                                     \"reporter\":issue.fields.reporter.displayName,\n",
    "                                     \"status\":issue.fields.status.name,\n",
    "                                     \"issueType\":issue.fields.issuetype.name,\n",
    "                                     \"project\":issue.fields.project.name,\n",
    "                                     \"create_time\":create_time,\n",
    "                                     \"done_time\":done_time,\n",
    "                                     \"elapsed_time\":elapsed_time,\n",
    "                                     \"elapsed_time_hours\":elapsed_time_hours,\n",
    "                                     \"assignee\":assignee\n",
    "                                    }\n",
    "    print(\"counter\", counter)\n",
    "    return issue_data\n",
    "issue_data = create_dict(issueList)"
   ],
   "output": {}
  },
  {
   "cell_type": "markdown",
   "id": "4e25ad3f-0264-4ec4-a1cc-0d193edcc947",
   "metadata": {
    "jupyter": {
     "source_hidden": false
    },
    "name": "Create a data frame and a graph",
    "orderProperties": [],
    "tags": [],
    "title": "Create a data frame and a graph"
   },
   "source": [
    "<p>this step is doing a lot.</p>\n",
    "<p>&nbsp;</p>\n",
    "<ol>\n",
    "<li>pulls the Dict into a dataframe.</li>\n",
    "<li>builds the chart with Panel.\n",
    "<ol>\n",
    "<li>Chart is built</li>\n",
    "<li>pulls the data from weekdef - which calculates the start and end date- and filters the datafram into a smaller dataframe with the elapsed time in hours&nbsp; - chunked into 4 bins.&nbsp; These are then charted.</li>\n",
    "<li>The sliderstart value might be different for your organization.&nbsp; You can hard code this here,</li>\n",
    "<li>The intervals are set in 7 day increments in the daycount slider</li>\n",
    "</ol>\n",
    "</li>\n",
    "</ol>"
   ]
  },
  {
   "cell_type": "code",
   "execution_count": null,
   "id": "2e1ff679-fe5c-41d1-9671-b4a0abfc98e5",
   "metadata": {
    "customAction": true,
    "execution_data": {
     "last_date_success_run_cell": "2023-02-28T00:12:08.942Z"
    },
    "jupyter": {
     "source_hidden": true
    },
    "name": "interactive chart",
    "orderProperties": [],
    "tags": [],
    "title": "interactive chart",
    "credentialsJson": {}
   },
   "outputs": [],
   "source": [
    "import pandas as pd; import numpy as np; import matplotlib.pyplot as plt\n",
    "import panel as pn\n",
    "import datetime as dt\n",
    "from datetime import timezone\n",
    "\n",
    "from matplotlib.backends.backend_agg import FigureCanvas\n",
    "from matplotlib.figure import Figure\n",
    "pn.extension()\n",
    "\n",
    "#create a dataframe from the Jira export\n",
    "data = pd.DataFrame.from_dict(issue_data)\n",
    "data = data.T\n",
    "#data.tail\n",
    "\n",
    "def weekdf(startDay, dayCount, dataframe):\n",
    "    startDay = datetime.combine(startDay, datetime.min.time())\n",
    "    startDay =startDay.replace(tzinfo=timezone.utc)\n",
    "    endDay =startDay+ dt.timedelta(days=dayCount)\n",
    "    #print(startDay, endDay)\n",
    "    weekdf= dataframe[(dataframe[\"create_time\"] >= startDay)&(dataframe[\"create_time\"] <= endDay) ][\"elapsed_time_hours\"].value_counts()\n",
    "    weektitle = \"Defect status by creation date\"\n",
    "    if weekdf.empty:\n",
    "        startDay =dt.datetime(2021, 1, 1,0,0,0)\n",
    "        startDay =startDay.replace(tzinfo=timezone.utc)\n",
    "        dayCount=730\n",
    "        endDay =startDay+ dt.timedelta(days=dayCount)\n",
    "        weektitle = \"no data for this week.\"\n",
    "        weekdf= dataframe[(dataframe[\"create_time\"] >= startDay)&(dataframe[\"create_time\"] <= endDay) ][\"elapsed_time_hours\"].value_counts(bins=4, sort=False)\n",
    "    else:\n",
    "         issueCount = weekdf.sum(0)\n",
    "         numberofBins = 4\n",
    "         if issueCount < 4:\n",
    "                numberofBins = 2\n",
    "         if issueCount > 15:\n",
    "                numberofBins = 8\n",
    "         weekdf= dataframe[(dataframe[\"create_time\"] >= startDay)&(dataframe[\"create_time\"] <= endDay) ][\"elapsed_time_hours\"].value_counts(bins=numberofBins, sort=False)\n",
    "    #print(\"count\", weekdf.sum(0))\n",
    "    return weekdf\n",
    "\n",
    "\n",
    "def time_plot(startDay, dayCount, dataframe):\n",
    "    fig = Figure(figsize=(10, 6))\n",
    "    fig.subplots_adjust(bottom=0.45)\n",
    "\n",
    "    ax = fig.subplots()\n",
    "    ax.xaxis.set_tick_params(labelsize=20)\n",
    "    df1 = weekdf(startDay, dayCount, dataframe)\n",
    "    FigureCanvas(fig) \n",
    "    df1.plot.bar(x=\"x\", y=\"counts\", ax=ax, title=\"MTTR to closing issues\")\n",
    "    return fig\n",
    "\n",
    "\n",
    "\n",
    "#build the chart\n",
    "\n",
    "#get all our date-time variables correctly formatted with a timezone.\n",
    "sliderstart = dt.datetime(2022, 1, 1,0,0,0)\n",
    "sliderstart =sliderstart.replace(tzinfo=timezone.utc)\n",
    "sliderend = dt.datetime.now()\n",
    "sliderend =sliderend.replace(tzinfo=timezone.utc)\n",
    "slidervalue = dt.datetime(2023, 1, 1,0,0,0)\n",
    "slidervalue =slidervalue.replace(tzinfo=timezone.utc)\n",
    "#print(\"sliderstart\",sliderstart)\n",
    "\n",
    "\n",
    "#CREATE SLIDERS\n",
    "startDay = pn.widgets.DateSlider(name='Date Slider', start=sliderstart, end=sliderend, value=slidervalue)\n",
    "\n",
    "dayCount = pn.widgets.IntSlider(name='number of days', value=7, start=1, end=180, step = 7)\n",
    "interactive = pn.bind(time_plot, startDay=startDay, dayCount=dayCount, dataframe = data)\n",
    "first_app = pn.Column(startDay, dayCount, interactive)\n",
    "first_app\n"
   ],
   "output": {}
  },
  {
   "cell_type": "markdown",
   "id": "c0dbc4ed-8af7-4749-8604-584f40749d44",
   "metadata": {
    "jupyter": {
     "source_hidden": false
    },
    "name": "Pulling the chart data live",
    "orderProperties": [],
    "tags": [],
    "title": "Pulling the chart data live"
   },
   "source": [
    "<p>The above steps are great if your dataset isn't very large.&nbsp; But what if you have thousands of issues?&nbsp; We dont want to make epic JQL queries, and then also hammer the RUnBook with a huge amount of data.&nbsp;&nbsp;</p>\n",
    "<p>&nbsp;</p>\n",
    "<p>Let's pull the data every time we change the graph.&nbsp; This is REALLY useful for time sensitive data (imagine you need time sensitive data, and pulling a whole day's of data takes forever.). Now, pull the small subset you need in real time when you create the chart</p>"
   ]
  },
  {
   "cell_type": "code",
   "execution_count": null,
   "id": "5d939c27-a6ad-4f57-a5c4-b23545187ad8",
   "metadata": {
    "customAction": true,
    "execution_data": {
     "last_date_success_run_cell": "2023-02-27T22:45:21.864Z"
    },
    "name": "live data interactive chart",
    "orderProperties": [],
    "tags": [],
    "title": "live data interactive chart",
    "credentialsJson": {}
   },
   "outputs": [],
   "source": [
    "import json\n",
    "#create a dataframe from the Jira export\n",
    "livedata = data\n",
    "\n",
    "#data.tail\n",
    "\n",
    "def weekdflive(startDay, dayCount, dataframe):\n",
    "    startDay = datetime.combine(startDay, datetime.min.time())\n",
    "    startDay =startDay.replace(tzinfo=timezone.utc)\n",
    "    endDay =startDay+ dt.timedelta(days=dayCount)\n",
    "    #pull data from JIRA\n",
    "    startJira = startDay.strftime(\"%Y/%m/%d\")\n",
    "    endJira = endDay.strftime(\"%Y/%m/%d\")\n",
    "    jql_query =create_query(jira_project, issue_type, new_status, startJira, endJira)\n",
    "    print(\"jql_query\",jql_query)\n",
    "    jsonInput = {\"jql\":jql_query}\n",
    "    stringifiedInput = json.dumps(jsonInput)\n",
    "    print(\"stringifiedInput\",stringifiedInput, type(stringifiedInput))\n",
    "    #inputParamsJson1 = f'''{\"jql\":{{jql_query}}}'''\n",
    "    #print(\"inputParamsJson1\", inputParamsJson1)\n",
    "   \n",
    "\n",
    "\n",
    "    task.configure(inputParamsJson='''{\n",
    "        \"jql\": \"jql_query\"\n",
    "        }''')\n",
    "    task.configure(outputName=\"issueList1\")\n",
    "    (err, hdl, args) = task.validate(vars=vars())\n",
    "    task.execute(jira_search_issue, lego_printer=unskript_default_printer, hdl=hdl, args=args)\n",
    "\n",
    "    print(\"issueList1\", len(issueList1))\n",
    "    live_issue_data = create_dict(issueList1)\n",
    "    livedata=\"\"\n",
    "    livedata = pd.DataFrame.from_dict(live_issue_data)\n",
    "    livedata = livedata.T\n",
    "    print(\"livedata\" ,livedata.size)\n",
    "    \n",
    "    \n",
    "    \n",
    "    weekdf= dataframe[(dataframe[\"create_time\"] >= startDay)&(dataframe[\"create_time\"] <= endDay) ][\"elapsed_time_hours\"].value_counts()\n",
    "    weektitle = \"Defect status by creation date\"\n",
    "    if weekdf.empty:\n",
    "        startDay =dt.datetime(2021, 1, 1,0,0,0)\n",
    "        startDay =startDay.replace(tzinfo=timezone.utc)\n",
    "        dayCount=730\n",
    "        endDay =startDay+ dt.timedelta(days=dayCount)\n",
    "        weektitle = \"no data for this week.\"\n",
    "        weekdf= dataframe[(dataframe[\"create_time\"] >= startDay)&(dataframe[\"create_time\"] <= endDay) ][\"elapsed_time_hours\"].value_counts(bins=4, sort=False)\n",
    "    else:\n",
    "         issueCount = weekdf.sum(0)\n",
    "         numberofBins = 4\n",
    "         if issueCount < 4:\n",
    "                numberofBins = 2\n",
    "         if issueCount > 15:\n",
    "                numberofBins = 8\n",
    "         weekdf= dataframe[(dataframe[\"create_time\"] >= startDay)&(dataframe[\"create_time\"] <= endDay) ][\"elapsed_time_hours\"].value_counts(bins=numberofBins, sort=False)\n",
    "    #print(\"count\", weekdf.sum(0))\n",
    "    return weekdf\n",
    "\n",
    "\n",
    "def time_plotlive(startDay, dayCount, dataframe):\n",
    "    fig = Figure(figsize=(10, 6))\n",
    "    fig.subplots_adjust(bottom=0.45)\n",
    "\n",
    "    ax = fig.subplots()\n",
    "    ax.xaxis.set_tick_params(labelsize=20)\n",
    "    df1 = weekdflive(startDay, dayCount, dataframe)\n",
    "    FigureCanvas(fig) \n",
    "    df1.plot.bar(x=\"x\", y=\"counts\", ax=ax, title=\"MTTR to closing issues\")\n",
    "    return fig\n",
    "\n",
    "\n",
    "\n",
    "#build the chart\n",
    "\n",
    "#get all our date-time variables correctly formatted with a timezone.\n",
    "sliderstart = dt.datetime(2022, 1, 1,0,0,0)\n",
    "sliderstart =sliderstart.replace(tzinfo=timezone.utc)\n",
    "sliderend = dt.datetime.now()\n",
    "sliderend =sliderend.replace(tzinfo=timezone.utc)\n",
    "slidervalue = dt.datetime(2023, 1, 1,0,0,0)\n",
    "slidervalue =slidervalue.replace(tzinfo=timezone.utc)\n",
    "#print(\"sliderstart\",sliderstart)\n",
    "\n",
    "\n",
    "#CREATE SLIDERS\n",
    "startDay = pn.widgets.DateSlider(name='Date Slider', start=sliderstart, end=sliderend, value=slidervalue)\n",
    "\n",
    "dayCount = pn.widgets.IntSlider(name='number of days', value=7, start=1, end=180, step = 7)\n",
    "interactive = pn.bind(time_plotlive, startDay=startDay, dayCount=dayCount, dataframe = livedata)\n",
    "first_app = pn.Column(startDay, dayCount, interactive)\n",
    "first_app\n"
   ],
   "output": {}
  }
 ],
 "metadata": {
  "execution_data": {
   "runbook_name": "using Panel to Visualize Time to Resolution on Jira Issues",
   "parameters": [
    "AMI_Id",
    "Region"
   ]
  },
  "kernelspec": {
   "display_name": "unSkript (Build: 904)",
   "language": "python",
   "name": "python3"
  },
  "language_info": {
   "codemirror_mode": {
    "name": "ipython",
    "version": 3
   },
   "file_extension": ".py",
   "mimetype": "text/x-python",
   "name": "python",
   "nbconvert_exporter": "python",
   "pygments_lexer": "ipython3",
   "version": "3.9.6"
  },
  "parameterSchema": {
   "properties": {
    "end_date": {
     "default": "2023/02/22",
     "description": "End Date for search range",
     "title": "end_date",
     "type": "string"
    },
    "issue_type": {
     "default": "Bug",
     "description": "Jira issueType to query",
     "title": "issue_type",
     "type": "string"
    },
    "jira_project": {
     "default": "EN",
     "description": "Jira Project Name",
     "title": "jira_project",
     "type": "string"
    },
    "new_status": {
     "default": "Done",
     "description": "Status change to search for in Jira",
     "title": "new_status",
     "type": "string"
    },
    "start_date": {
     "default": "2022/01/01",
     "description": "Start Date for search range.",
     "title": "start_date",
     "type": "string"
    }
   },
   "required": [],
   "title": "Schema",
   "type": "object"
  },
  "vscode": {
   "interpreter": {
    "hash": "e8899eb02dfbc033aab5733bdae1bd213fa031d40331094008e8673d99ebab63"
   }
  }
 },
 "nbformat": 4,
 "nbformat_minor": 5
}