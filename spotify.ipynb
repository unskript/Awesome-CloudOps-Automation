{
 "cells": [
  {
   "cell_type": "code",
   "execution_count": 2,
   "id": "18791940-73db-42eb-a257-b7e4c8e14f5a",
   "metadata": {
    "deletable": false,
    "editable": false,
    "orderProperties": [],
    "tags": [
     "unSkript:nbParam"
    ],
    "title": "unSkript Internal"
   },
   "outputs": [],
   "source": [
    "import json\n",
    "from unskript import nbparams\n",
    "from unskript.fwk.workflow import Task, Workflow\n",
    "from unskript.secrets import ENV_MODE, ENV_MODE_LOCAL\n",
    "\n",
    "env = {\"ENV_MODE\": \"ENV_MODE_LOCAL\"}\n",
    "secret_store_cfg = {\"SECRET_STORE_TYPE\": \"SECRET_STORE_TYPE_LOCAL\"}\n",
    "\n",
    "paramDict = {}\n",
    "paramDict.update(env)\n",
    "paramDict.update(secret_store_cfg)\n",
    "\n",
    "paramDict = {}\n",
    "paramsJson = json.dumps(paramDict)\n",
    "nbParamsObj = nbparams.NBParams(paramsJson)\n",
    "w = Workflow(env, secret_store_cfg, None, global_vars=globals())"
   ]
  },
  {
   "cell_type": "markdown",
   "id": "6e397c81",
   "metadata": {
    "jupyter": {
     "source_hidden": false
    },
    "name": "Welcome",
    "orderProperties": [],
    "tags": [],
    "title": "Welcome"
   },
   "source": [
    "Use the below lego to start building your functionality."
   ]
  },
  {
   "cell_type": "code",
   "execution_count": 1,
   "id": "0c4352a7-b1f9-43ee-9f56-e6146735e80e",
   "metadata": {
    "execution_data": {
     "last_date_success_run_cell": "2022-10-20T18:28:03.004Z"
    },
    "jupyter": {
     "outputs_hidden": true
    },
    "name": "install spotipy",
    "orderProperties": [],
    "tags": [],
    "title": "install spotipy"
   },
   "outputs": [
    {
     "name": "stdout",
     "output_type": "stream",
     "text": [
      "zsh:1: command not found: pip\r\n"
     ]
    }
   ],
   "source": [
    "!pip install spotipy"
   ]
  },
  {
   "cell_type": "code",
   "execution_count": 2,
   "id": "5756b05c-cab4-454c-a7ed-146d33bad08d",
   "metadata": {
    "execution_data": {
     "last_date_success_run_cell": "2022-10-20T18:44:25.902Z"
    },
    "jupyter": {
     "outputs_hidden": true,
     "source_hidden": true
    },
    "name": "get spotify token",
    "orderProperties": [],
    "tags": [],
    "title": "get spotify token"
   },
   "outputs": [
    {
     "ename": "ModuleNotFoundError",
     "evalue": "No module named 'spotipy'",
     "output_type": "error",
     "traceback": [
      "\u001b[0;31m---------------------------------------------------------------------------\u001b[0m",
      "\u001b[0;31mModuleNotFoundError\u001b[0m                       Traceback (most recent call last)",
      "Cell \u001b[0;32mIn [2], line 1\u001b[0m\n\u001b[0;32m----> 1\u001b[0m \u001b[38;5;28;01mimport\u001b[39;00m \u001b[38;5;21;01mspotipy\u001b[39;00m\n\u001b[1;32m      2\u001b[0m \u001b[38;5;28;01mfrom\u001b[39;00m \u001b[38;5;21;01mspotipy\u001b[39;00m\u001b[38;5;21;01m.\u001b[39;00m\u001b[38;5;21;01moauth2\u001b[39;00m \u001b[38;5;28;01mimport\u001b[39;00m SpotifyClientCredentials\n\u001b[1;32m      5\u001b[0m client_id \u001b[38;5;241m=\u001b[39m \u001b[38;5;124m\"\u001b[39m\u001b[38;5;124m0ec3cf182ef14170b4c4be893239def0\u001b[39m\u001b[38;5;124m\"\u001b[39m\n",
      "\u001b[0;31mModuleNotFoundError\u001b[0m: No module named 'spotipy'"
     ]
    }
   ],
   "source": [
    "import spotipy\n",
    "from spotipy.oauth2 import SpotifyClientCredentials\n",
    "\n",
    "\n",
    "client_id = \"0ec3cf182ef14170b4c4be893239def0\"\n",
    "client_secret=\"9a0a763fbd8d41279e5c2dfa79d7e59e\"\n",
    "client_redirect=\"https://dougsillars.com\"\n",
    "scope = \"user-library-read user-modify-playback-state user-read-playback-state\"\n",
    "\n",
    "sp = spotipy.Spotify(auth_manager=SpotifyClientCredentials(client_id=client_id,\n",
    "                                               client_secret=client_secret))\n",
    "\n",
    "results = sp.search(q='mariah carey', limit=20)\n",
    "print(results)\n",
    "for idx, track in enumerate(results['tracks']['items']):\n",
    "    print(idx, track['name'], track['id'])"
   ]
  },
  {
   "cell_type": "code",
   "execution_count": 85,
   "id": "f5c9910e-2b36-4a05-adb6-8b8ca6891e23",
   "metadata": {
    "execution_data": {
     "last_date_success_run_cell": "2022-10-21T13:44:02.987Z"
    },
    "orderProperties": [],
    "tags": []
   },
   "outputs": [
    {
     "name": "stdout",
     "output_type": "stream",
     "text": [
      "\n"
     ]
    }
   ],
   "source": [
    "import spotipy\n",
    "from spotipy.oauth2 import SpotifyOAuth\n",
    "import json\n",
    "client_id = \"0ec3cf182ef14170b4c4be893239def0\"\n",
    "client_secret=\"9a0a763fbd8d41279e5c2dfa79d7e59e\"\n",
    "client_redirect=\"https://dougsillars.com\"\n",
    "scope = \"user-library-read user-modify-playback-state user-read-playback-state user-read-recently-played\"\n",
    "\n",
    "\n",
    "\n",
    "\n",
    "sp = spotipy.Spotify(auth_manager=SpotifyOAuth(client_id=client_id,\n",
    "                                               client_secret=client_secret,\n",
    "                                               redirect_uri=client_redirect,\n",
    "                                               scope=scope,\n",
    "                                              open_browser=False))\n",
    "#print(sp.me)\n",
    "print()"
   ]
  },
  {
   "cell_type": "code",
   "execution_count": 87,
   "id": "12d2dc42-9356-4e32-86d7-3ee3c3bcea56",
   "metadata": {
    "execution_data": {
     "last_date_success_run_cell": "2022-10-21T14:59:04.241Z"
    },
    "name": "Spotify song skipper",
    "orderProperties": [],
    "tags": [],
    "title": "Spotify song skipper"
   },
   "outputs": [
    {
     "name": "stdout",
     "output_type": "stream",
     "text": [
      "spotify:track:6qdLZvqpAhLauFMe7n5hta\n",
      "its all good\n"
     ]
    }
   ],
   "source": [
    "results3 = sp.current_user_playing_track()\n",
    "track = results3[\"item\"][\"uri\"]\n",
    "print(track)\n",
    "\n",
    "# all i want for christmas is you. spotify:track:0bYg9bo50gSsH3LtXe2SQn\n",
    "songs_i_hate = [\"spotify:track:0bYg9bo50gSsH3LtXe2SQn\",\n",
    "               ]\n",
    "\n",
    "for song in songs_i_hate:\n",
    "    if track == song:\n",
    "      print(\"ahhh save us\")\n",
    "      sp.next_track()\n",
    "    else:\n",
    "      print(\"its all good\")\n",
    "  "
   ]
  },
  {
   "cell_type": "code",
   "execution_count": 90,
   "id": "6a668be1-004a-4b59-9075-b5c33022ff01",
   "metadata": {
    "execution_data": {
     "last_date_success_run_cell": "2022-10-21T14:59:32.251Z"
    },
    "orderProperties": [],
    "tags": []
   },
   "outputs": [
    {
     "name": "stdout",
     "output_type": "stream",
     "text": [
      "{'items': [{'track': {'album': {'album_type': 'single', 'artists': [{'external_urls': {'spotify': 'https://open.spotify.com/artist/1Uff91EOsvd99rtAupatMP'}, 'href': 'https://api.spotify.com/v1/artists/1Uff91EOsvd99rtAupatMP', 'id': '1Uff91EOsvd99rtAupatMP', 'name': 'Claude Debussy', 'type': 'artist', 'uri': 'spotify:artist:1Uff91EOsvd99rtAupatMP'}, {'external_urls': {'spotify': 'https://open.spotify.com/artist/0d6alfZHUx3xoRnPjkTL7Q'}, 'href': 'https://api.spotify.com/v1/artists/0d6alfZHUx3xoRnPjkTL7Q', 'id': '0d6alfZHUx3xoRnPjkTL7Q', 'name': 'Alice Sara Ott', 'type': 'artist', 'uri': 'spotify:artist:0d6alfZHUx3xoRnPjkTL7Q'}], 'available_markets': ['AD', 'AE', 'AG', 'AL', 'AM', 'AO', 'AR', 'AT', 'AU', 'AZ', 'BA', 'BB', 'BD', 'BE', 'BF', 'BG', 'BH', 'BI', 'BJ', 'BN', 'BO', 'BR', 'BS', 'BT', 'BW', 'BY', 'BZ', 'CA', 'CD', 'CG', 'CH', 'CI', 'CL', 'CM', 'CO', 'CR', 'CV', 'CW', 'CY', 'CZ', 'DE', 'DJ', 'DK', 'DM', 'DO', 'DZ', 'EC', 'EE', 'EG', 'ES', 'FI', 'FJ', 'FM', 'FR', 'GA', 'GB', 'GD', 'GE', 'GH', 'GM', 'GN', 'GQ', 'GR', 'GT', 'GW', 'GY', 'HK', 'HN', 'HR', 'HT', 'HU', 'ID', 'IE', 'IL', 'IN', 'IQ', 'IS', 'IT', 'JM', 'JO', 'JP', 'KE', 'KG', 'KH', 'KI', 'KM', 'KN', 'KR', 'KW', 'KZ', 'LA', 'LB', 'LC', 'LI', 'LK', 'LR', 'LS', 'LT', 'LU', 'LV', 'LY', 'MA', 'MC', 'MD', 'ME', 'MG', 'MH', 'MK', 'ML', 'MN', 'MO', 'MR', 'MT', 'MU', 'MV', 'MW', 'MX', 'MY', 'MZ', 'NA', 'NE', 'NG', 'NI', 'NL', 'NO', 'NP', 'NR', 'NZ', 'OM', 'PA', 'PE', 'PG', 'PH', 'PK', 'PL', 'PS', 'PT', 'PW', 'PY', 'QA', 'RO', 'RS', 'RW', 'SA', 'SB', 'SC', 'SE', 'SG', 'SI', 'SK', 'SL', 'SM', 'SN', 'SR', 'ST', 'SV', 'SZ', 'TD', 'TG', 'TH', 'TJ', 'TL', 'TN', 'TO', 'TR', 'TT', 'TV', 'TW', 'TZ', 'UA', 'UG', 'US', 'UY', 'UZ', 'VC', 'VE', 'VN', 'VU', 'WS', 'XK', 'ZA', 'ZM', 'ZW'], 'external_urls': {'spotify': 'https://open.spotify.com/album/4Ll3RGpn0eVY6MMKPTP99C'}, 'href': 'https://api.spotify.com/v1/albums/4Ll3RGpn0eVY6MMKPTP99C', 'id': '4Ll3RGpn0eVY6MMKPTP99C', 'images': [{'height': 640, 'url': 'https://i.scdn.co/image/ab67616d0000b2731277085743389aa91af6f39b', 'width': 640}, {'height': 300, 'url': 'https://i.scdn.co/image/ab67616d00001e021277085743389aa91af6f39b', 'width': 300}, {'height': 64, 'url': 'https://i.scdn.co/image/ab67616d000048511277085743389aa91af6f39b', 'width': 64}], 'name': 'Debussy: Suite bergamasque, L. 75, 3. Clair de lune', 'release_date': '2018-07-27', 'release_date_precision': 'day', 'total_tracks': 1, 'type': 'album', 'uri': 'spotify:album:4Ll3RGpn0eVY6MMKPTP99C'}, 'artists': [{'external_urls': {'spotify': 'https://open.spotify.com/artist/1Uff91EOsvd99rtAupatMP'}, 'href': 'https://api.spotify.com/v1/artists/1Uff91EOsvd99rtAupatMP', 'id': '1Uff91EOsvd99rtAupatMP', 'name': 'Claude Debussy', 'type': 'artist', 'uri': 'spotify:artist:1Uff91EOsvd99rtAupatMP'}, {'external_urls': {'spotify': 'https://open.spotify.com/artist/0d6alfZHUx3xoRnPjkTL7Q'}, 'href': 'https://api.spotify.com/v1/artists/0d6alfZHUx3xoRnPjkTL7Q', 'id': '0d6alfZHUx3xoRnPjkTL7Q', 'name': 'Alice Sara Ott', 'type': 'artist', 'uri': 'spotify:artist:0d6alfZHUx3xoRnPjkTL7Q'}], 'available_markets': ['AD', 'AE', 'AG', 'AL', 'AM', 'AO', 'AR', 'AT', 'AU', 'AZ', 'BA', 'BB', 'BD', 'BE', 'BF', 'BG', 'BH', 'BI', 'BJ', 'BN', 'BO', 'BR', 'BS', 'BT', 'BW', 'BY', 'BZ', 'CA', 'CD', 'CG', 'CH', 'CI', 'CL', 'CM', 'CO', 'CR', 'CV', 'CW', 'CY', 'CZ', 'DE', 'DJ', 'DK', 'DM', 'DO', 'DZ', 'EC', 'EE', 'EG', 'ES', 'FI', 'FJ', 'FM', 'FR', 'GA', 'GB', 'GD', 'GE', 'GH', 'GM', 'GN', 'GQ', 'GR', 'GT', 'GW', 'GY', 'HK', 'HN', 'HR', 'HT', 'HU', 'ID', 'IE', 'IL', 'IN', 'IQ', 'IS', 'IT', 'JM', 'JO', 'JP', 'KE', 'KG', 'KH', 'KI', 'KM', 'KN', 'KR', 'KW', 'KZ', 'LA', 'LB', 'LC', 'LI', 'LK', 'LR', 'LS', 'LT', 'LU', 'LV', 'LY', 'MA', 'MC', 'MD', 'ME', 'MG', 'MH', 'MK', 'ML', 'MN', 'MO', 'MR', 'MT', 'MU', 'MV', 'MW', 'MX', 'MY', 'MZ', 'NA', 'NE', 'NG', 'NI', 'NL', 'NO', 'NP', 'NR', 'NZ', 'OM', 'PA', 'PE', 'PG', 'PH', 'PK', 'PL', 'PS', 'PT', 'PW', 'PY', 'QA', 'RO', 'RS', 'RW', 'SA', 'SB', 'SC', 'SE', 'SG', 'SI', 'SK', 'SL', 'SM', 'SN', 'SR', 'ST', 'SV', 'SZ', 'TD', 'TG', 'TH', 'TJ', 'TL', 'TN', 'TO', 'TR', 'TT', 'TV', 'TW', 'TZ', 'UA', 'UG', 'US', 'UY', 'UZ', 'VC', 'VE', 'VN', 'VU', 'WS', 'XK', 'ZA', 'ZM', 'ZW'], 'disc_number': 1, 'duration_ms': 294960, 'explicit': False, 'external_ids': {'isrc': 'DEN961800253'}, 'external_urls': {'spotify': 'https://open.spotify.com/track/1cmigB9I6IRpFqjIbzvSQB'}, 'href': 'https://api.spotify.com/v1/tracks/1cmigB9I6IRpFqjIbzvSQB', 'id': '1cmigB9I6IRpFqjIbzvSQB', 'is_local': False, 'name': 'Suite bergamasque, L. 75: III. Clair de lune', 'popularity': 67, 'preview_url': 'https://p.scdn.co/mp3-preview/fedf17f8f2e3da170dc6057ee81651940bb8e71c?cid=0ec3cf182ef14170b4c4be893239def0', 'track_number': 1, 'type': 'track', 'uri': 'spotify:track:1cmigB9I6IRpFqjIbzvSQB'}, 'played_at': '2022-10-21T14:30:37.144Z', 'context': None}, {'track': {'album': {'album_type': 'album', 'artists': [{'external_urls': {'spotify': 'https://open.spotify.com/artist/1QL7yTHrdahRMpvNtn6rI2'}, 'href': 'https://api.spotify.com/v1/artists/1QL7yTHrdahRMpvNtn6rI2', 'id': '1QL7yTHrdahRMpvNtn6rI2', 'name': 'George Frideric Handel', 'type': 'artist', 'uri': 'spotify:artist:1QL7yTHrdahRMpvNtn6rI2'}, {'external_urls': {'spotify': 'https://open.spotify.com/artist/32i0ni9RO8Q7T7T7ZqkGU2'}, 'href': 'https://api.spotify.com/v1/artists/32i0ni9RO8Q7T7T7ZqkGU2', 'id': '32i0ni9RO8Q7T7T7ZqkGU2', 'name': 'Yehudi Menuhin', 'type': 'artist', 'uri': 'spotify:artist:32i0ni9RO8Q7T7T7ZqkGU2'}, {'external_urls': {'spotify': 'https://open.spotify.com/artist/72G9EzMv6GG9N4szGhR2Ta'}, 'href': 'https://api.spotify.com/v1/artists/72G9EzMv6GG9N4szGhR2Ta', 'id': '72G9EzMv6GG9N4szGhR2Ta', 'name': 'Menuhin Festival Orchestra', 'type': 'artist', 'uri': 'spotify:artist:72G9EzMv6GG9N4szGhR2Ta'}], 'available_markets': ['AD', 'AE', 'AG', 'AL', 'AM', 'AO', 'AR', 'AT', 'AU', 'AZ', 'BA', 'BB', 'BD', 'BE', 'BF', 'BG', 'BH', 'BI', 'BJ', 'BN', 'BO', 'BR', 'BS', 'BT', 'BW', 'BY', 'BZ', 'CA', 'CD', 'CG', 'CH', 'CI', 'CL', 'CM', 'CO', 'CR', 'CV', 'CW', 'CY', 'CZ', 'DE', 'DJ', 'DK', 'DM', 'DO', 'DZ', 'EC', 'EE', 'EG', 'ES', 'FI', 'FJ', 'FM', 'FR', 'GA', 'GB', 'GD', 'GE', 'GH', 'GM', 'GN', 'GQ', 'GR', 'GT', 'GW', 'GY', 'HK', 'HN', 'HR', 'HT', 'HU', 'ID', 'IE', 'IL', 'IN', 'IQ', 'IS', 'IT', 'JM', 'JO', 'JP', 'KE', 'KG', 'KH', 'KI', 'KM', 'KN', 'KR', 'KW', 'KZ', 'LA', 'LB', 'LC', 'LI', 'LK', 'LR', 'LS', 'LT', 'LU', 'LV', 'LY', 'MA', 'MC', 'MD', 'ME', 'MG', 'MH', 'MK', 'ML', 'MN', 'MO', 'MR', 'MT', 'MU', 'MV', 'MW', 'MX', 'MY', 'MZ', 'NA', 'NE', 'NG', 'NI', 'NL', 'NO', 'NP', 'NR', 'NZ', 'OM', 'PA', 'PE', 'PG', 'PH', 'PK', 'PL', 'PS', 'PT', 'PW', 'PY', 'QA', 'RO', 'RS', 'RW', 'SA', 'SB', 'SC', 'SE', 'SG', 'SI', 'SK', 'SL', 'SM', 'SN', 'SR', 'ST', 'SV', 'SZ', 'TD', 'TG', 'TH', 'TJ', 'TL', 'TN', 'TO', 'TR', 'TT', 'TV', 'TW', 'TZ', 'UA', 'UG', 'US', 'UY', 'UZ', 'VC', 'VE', 'VN', 'VU', 'WS', 'XK', 'ZA', 'ZM', 'ZW'], 'external_urls': {'spotify': 'https://open.spotify.com/album/657D9POYWMrDMK9MWNxPHL'}, 'href': 'https://api.spotify.com/v1/albums/657D9POYWMrDMK9MWNxPHL', 'id': '657D9POYWMrDMK9MWNxPHL', 'images': [{'height': 640, 'url': 'https://i.scdn.co/image/ab67616d0000b2733bf6b8e862d572064e3c1e0b', 'width': 640}, {'height': 300, 'url': 'https://i.scdn.co/image/ab67616d00001e023bf6b8e862d572064e3c1e0b', 'width': 300}, {'height': 64, 'url': 'https://i.scdn.co/image/ab67616d000048513bf6b8e862d572064e3c1e0b', 'width': 64}], 'name': 'Handel Sarabande', 'release_date': '2002', 'release_date_precision': 'year', 'total_tracks': 22, 'type': 'album', 'uri': 'spotify:album:657D9POYWMrDMK9MWNxPHL'}, 'artists': [{'external_urls': {'spotify': 'https://open.spotify.com/artist/1QL7yTHrdahRMpvNtn6rI2'}, 'href': 'https://api.spotify.com/v1/artists/1QL7yTHrdahRMpvNtn6rI2', 'id': '1QL7yTHrdahRMpvNtn6rI2', 'name': 'George Frideric Handel', 'type': 'artist', 'uri': 'spotify:artist:1QL7yTHrdahRMpvNtn6rI2'}, {'external_urls': {'spotify': 'https://open.spotify.com/artist/6bk0YPhJSL44WBtoGe4GI6'}, 'href': 'https://api.spotify.com/v1/artists/6bk0YPhJSL44WBtoGe4GI6', 'id': '6bk0YPhJSL44WBtoGe4GI6', 'name': 'Alexander Briger', 'type': 'artist', 'uri': 'spotify:artist:6bk0YPhJSL44WBtoGe4GI6'}, {'external_urls': {'spotify': 'https://open.spotify.com/artist/77CaCn32H4mOMQA7UElzfF'}, 'href': 'https://api.spotify.com/v1/artists/77CaCn32H4mOMQA7UElzfF', 'id': '77CaCn32H4mOMQA7UElzfF', 'name': 'Academy of St. Martin in the Fields', 'type': 'artist', 'uri': 'spotify:artist:77CaCn32H4mOMQA7UElzfF'}], 'available_markets': ['AD', 'AE', 'AG', 'AL', 'AM', 'AO', 'AR', 'AT', 'AU', 'AZ', 'BA', 'BB', 'BD', 'BE', 'BF', 'BG', 'BH', 'BI', 'BJ', 'BN', 'BO', 'BR', 'BS', 'BT', 'BW', 'BY', 'BZ', 'CA', 'CD', 'CG', 'CH', 'CI', 'CL', 'CM', 'CO', 'CR', 'CV', 'CW', 'CY', 'CZ', 'DE', 'DJ', 'DK', 'DM', 'DO', 'DZ', 'EC', 'EE', 'EG', 'ES', 'FI', 'FJ', 'FM', 'FR', 'GA', 'GB', 'GD', 'GE', 'GH', 'GM', 'GN', 'GQ', 'GR', 'GT', 'GW', 'GY', 'HK', 'HN', 'HR', 'HT', 'HU', 'ID', 'IE', 'IL', 'IN', 'IQ', 'IS', 'IT', 'JM', 'JO', 'JP', 'KE', 'KG', 'KH', 'KI', 'KM', 'KN', 'KR', 'KW', 'KZ', 'LA', 'LB', 'LC', 'LI', 'LK', 'LR', 'LS', 'LT', 'LU', 'LV', 'LY', 'MA', 'MC', 'MD', 'ME', 'MG', 'MH', 'MK', 'ML', 'MN', 'MO', 'MR', 'MT', 'MU', 'MV', 'MW', 'MX', 'MY', 'MZ', 'NA', 'NE', 'NG', 'NI', 'NL', 'NO', 'NP', 'NR', 'NZ', 'OM', 'PA', 'PE', 'PG', 'PH', 'PK', 'PL', 'PS', 'PT', 'PW', 'PY', 'QA', 'RO', 'RS', 'RW', 'SA', 'SB', 'SC', 'SE', 'SG', 'SI', 'SK', 'SL', 'SM', 'SN', 'SR', 'ST', 'SV', 'SZ', 'TD', 'TG', 'TH', 'TJ', 'TL', 'TN', 'TO', 'TR', 'TT', 'TV', 'TW', 'TZ', 'UA', 'UG', 'US', 'UY', 'UZ', 'VC', 'VE', 'VN', 'VU', 'WS', 'XK', 'ZA', 'ZM', 'ZW'], 'disc_number': 1, 'duration_ms': 207266, 'explicit': False, 'external_ids': {'isrc': 'GBAYC0201575'}, 'external_urls': {'spotify': 'https://open.spotify.com/track/1upQiytDIEZfl9ItruoXuC'}, 'href': 'https://api.spotify.com/v1/tracks/1upQiytDIEZfl9ItruoXuC', 'id': '1upQiytDIEZfl9ItruoXuC', 'is_local': False, 'name': 'Handel / Orch. Hale: Keyboard Suite No. 4 in D Minor, HWV 437: III. Sarabande', 'popularity': 66, 'preview_url': 'https://p.scdn.co/mp3-preview/f7ea24d58644676a88b66ae9b296bd3d92b22035?cid=0ec3cf182ef14170b4c4be893239def0', 'track_number': 1, 'type': 'track', 'uri': 'spotify:track:1upQiytDIEZfl9ItruoXuC'}, 'played_at': '2022-10-21T14:22:33.404Z', 'context': None}, {'track': {'album': {'album_type': 'album', 'artists': [{'external_urls': {'spotify': 'https://open.spotify.com/artist/6NUhQz7eAEsZvjEHTKHux9'}, 'href': 'https://api.spotify.com/v1/artists/6NUhQz7eAEsZvjEHTKHux9', 'id': '6NUhQz7eAEsZvjEHTKHux9', 'name': 'Sir Neville Marriner', 'type': 'artist', 'uri': 'spotify:artist:6NUhQz7eAEsZvjEHTKHux9'}, {'external_urls': {'spotify': 'https://open.spotify.com/artist/77CaCn32H4mOMQA7UElzfF'}, 'href': 'https://api.spotify.com/v1/artists/77CaCn32H4mOMQA7UElzfF', 'id': '77CaCn32H4mOMQA7UElzfF', 'name': 'Academy of St. Martin in the Fields', 'type': 'artist', 'uri': 'spotify:artist:77CaCn32H4mOMQA7UElzfF'}], 'available_markets': ['AD', 'AE', 'AG', 'AL', 'AM', 'AO', 'AR', 'AT', 'AU', 'AZ', 'BA', 'BB', 'BD', 'BE', 'BF', 'BG', 'BH', 'BI', 'BJ', 'BN', 'BO', 'BR', 'BS', 'BT', 'BW', 'BY', 'BZ', 'CA', 'CD', 'CG', 'CH', 'CI', 'CL', 'CM', 'CO', 'CR', 'CV', 'CW', 'CY', 'CZ', 'DE', 'DJ', 'DK', 'DM', 'DO', 'DZ', 'EC', 'EE', 'EG', 'ES', 'FI', 'FJ', 'FM', 'FR', 'GA', 'GB', 'GD', 'GE', 'GH', 'GM', 'GN', 'GQ', 'GR', 'GT', 'GW', 'GY', 'HK', 'HN', 'HR', 'HT', 'HU', 'ID', 'IE', 'IL', 'IN', 'IQ', 'IS', 'IT', 'JM', 'JO', 'JP', 'KE', 'KG', 'KH', 'KI', 'KM', 'KN', 'KR', 'KW', 'KZ', 'LA', 'LB', 'LC', 'LI', 'LK', 'LR', 'LS', 'LT', 'LU', 'LV', 'LY', 'MA', 'MC', 'MD', 'ME', 'MG', 'MH', 'MK', 'ML', 'MN', 'MO', 'MR', 'MT', 'MU', 'MV', 'MW', 'MX', 'MY', 'MZ', 'NA', 'NE', 'NG', 'NI', 'NL', 'NO', 'NP', 'NR', 'NZ', 'OM', 'PA', 'PE', 'PG', 'PH', 'PK', 'PL', 'PS', 'PT', 'PW', 'PY', 'QA', 'RO', 'RS', 'RW', 'SA', 'SB', 'SC', 'SE', 'SG', 'SI', 'SK', 'SL', 'SM', 'SN', 'SR', 'ST', 'SV', 'SZ', 'TD', 'TG', 'TH', 'TJ', 'TL', 'TN', 'TO', 'TR', 'TT', 'TV', 'TW', 'TZ', 'UA', 'UG', 'US', 'UY', 'UZ', 'VC', 'VE', 'VN', 'VU', 'WS', 'XK', 'ZA', 'ZM', 'ZW'], 'external_urls': {'spotify': 'https://open.spotify.com/album/5YCuibCDJrkVcS3UOAYqr9'}, 'href': 'https://api.spotify.com/v1/albums/5YCuibCDJrkVcS3UOAYqr9', 'id': '5YCuibCDJrkVcS3UOAYqr9', 'images': [{'height': 640, 'url': 'https://i.scdn.co/image/ab67616d0000b27350f0e9f3fe510cfe42f5f2d9', 'width': 640}, {'height': 300, 'url': 'https://i.scdn.co/image/ab67616d00001e0250f0e9f3fe510cfe42f5f2d9', 'width': 300}, {'height': 64, 'url': 'https://i.scdn.co/image/ab67616d0000485150f0e9f3fe510cfe42f5f2d9', 'width': 64}], 'name': 'Mozart: Eine Kleine Nachtmusik etc.', 'release_date': '1986', 'release_date_precision': 'year', 'total_tracks': 14, 'type': 'album', 'uri': 'spotify:album:5YCuibCDJrkVcS3UOAYqr9'}, 'artists': [{'external_urls': {'spotify': 'https://open.spotify.com/artist/62TD7509VQIxUe4WpwO0s3'}, 'href': 'https://api.spotify.com/v1/artists/62TD7509VQIxUe4WpwO0s3', 'id': '62TD7509VQIxUe4WpwO0s3', 'name': 'Johann Pachelbel', 'type': 'artist', 'uri': 'spotify:artist:62TD7509VQIxUe4WpwO0s3'}, {'external_urls': {'spotify': 'https://open.spotify.com/artist/6NUhQz7eAEsZvjEHTKHux9'}, 'href': 'https://api.spotify.com/v1/artists/6NUhQz7eAEsZvjEHTKHux9', 'id': '6NUhQz7eAEsZvjEHTKHux9', 'name': 'Sir Neville Marriner', 'type': 'artist', 'uri': 'spotify:artist:6NUhQz7eAEsZvjEHTKHux9'}, {'external_urls': {'spotify': 'https://open.spotify.com/artist/77CaCn32H4mOMQA7UElzfF'}, 'href': 'https://api.spotify.com/v1/artists/77CaCn32H4mOMQA7UElzfF', 'id': '77CaCn32H4mOMQA7UElzfF', 'name': 'Academy of St. Martin in the Fields', 'type': 'artist', 'uri': 'spotify:artist:77CaCn32H4mOMQA7UElzfF'}], 'available_markets': ['AD', 'AE', 'AG', 'AL', 'AM', 'AO', 'AR', 'AT', 'AU', 'AZ', 'BA', 'BB', 'BD', 'BE', 'BF', 'BG', 'BH', 'BI', 'BJ', 'BN', 'BO', 'BR', 'BS', 'BT', 'BW', 'BY', 'BZ', 'CA', 'CD', 'CG', 'CH', 'CI', 'CL', 'CM', 'CO', 'CR', 'CV', 'CW', 'CY', 'CZ', 'DE', 'DJ', 'DK', 'DM', 'DO', 'DZ', 'EC', 'EE', 'EG', 'ES', 'FI', 'FJ', 'FM', 'FR', 'GA', 'GB', 'GD', 'GE', 'GH', 'GM', 'GN', 'GQ', 'GR', 'GT', 'GW', 'GY', 'HK', 'HN', 'HR', 'HT', 'HU', 'ID', 'IE', 'IL', 'IN', 'IQ', 'IS', 'IT', 'JM', 'JO', 'JP', 'KE', 'KG', 'KH', 'KI', 'KM', 'KN', 'KR', 'KW', 'KZ', 'LA', 'LB', 'LC', 'LI', 'LK', 'LR', 'LS', 'LT', 'LU', 'LV', 'LY', 'MA', 'MC', 'MD', 'ME', 'MG', 'MH', 'MK', 'ML', 'MN', 'MO', 'MR', 'MT', 'MU', 'MV', 'MW', 'MX', 'MY', 'MZ', 'NA', 'NE', 'NG', 'NI', 'NL', 'NO', 'NP', 'NR', 'NZ', 'OM', 'PA', 'PE', 'PG', 'PH', 'PK', 'PL', 'PS', 'PT', 'PW', 'PY', 'QA', 'RO', 'RS', 'RW', 'SA', 'SB', 'SC', 'SE', 'SG', 'SI', 'SK', 'SL', 'SM', 'SN', 'SR', 'ST', 'SV', 'SZ', 'TD', 'TG', 'TH', 'TJ', 'TL', 'TN', 'TO', 'TR', 'TT', 'TV', 'TW', 'TZ', 'UA', 'UG', 'US', 'UY', 'UZ', 'VC', 'VE', 'VN', 'VU', 'WS', 'XK', 'ZA', 'ZM', 'ZW'], 'disc_number': 1, 'duration_ms': 301586, 'explicit': False, 'external_ids': {'isrc': 'GBAYC8600822'}, 'external_urls': {'spotify': 'https://open.spotify.com/track/1Mse9NKBbEASi50CQ4aYhr'}, 'href': 'https://api.spotify.com/v1/tracks/1Mse9NKBbEASi50CQ4aYhr', 'id': '1Mse9NKBbEASi50CQ4aYhr', 'is_local': False, 'name': 'Pachelbel: Canon and Gigue for Three Violins and Continuo in D Major: Canon', 'popularity': 58, 'preview_url': 'https://p.scdn.co/mp3-preview/eaec965ecde7c7b9f51b63ed956491e4202ea407?cid=0ec3cf182ef14170b4c4be893239def0', 'track_number': 7, 'type': 'track', 'uri': 'spotify:track:1Mse9NKBbEASi50CQ4aYhr'}, 'played_at': '2022-10-21T14:17:09.917Z', 'context': None}, {'track': {'album': {'album_type': 'compilation', 'artists': [{'external_urls': {'spotify': 'https://open.spotify.com/artist/5aIqB5nVVvmFsvSdExz408'}, 'href': 'https://api.spotify.com/v1/artists/5aIqB5nVVvmFsvSdExz408', 'id': '5aIqB5nVVvmFsvSdExz408', 'name': 'Johann Sebastian Bach', 'type': 'artist', 'uri': 'spotify:artist:5aIqB5nVVvmFsvSdExz408'}], 'available_markets': ['AE', 'AL', 'AR', 'AT', 'AU', 'BA', 'BE', 'BG', 'BH', 'BO', 'BR', 'CA', 'CH', 'CI', 'CL', 'CM', 'CO', 'CR', 'CW', 'CY', 'CZ', 'DE', 'DK', 'DO', 'DZ', 'EC', 'EE', 'EG', 'ES', 'FI', 'FR', 'GB', 'GH', 'GR', 'GT', 'HK', 'HN', 'HR', 'HU', 'ID', 'IE', 'IL', 'IN', 'IS', 'IT', 'JP', 'KE', 'KH', 'KR', 'KW', 'LB', 'LK', 'LT', 'LU', 'LV', 'MA', 'ME', 'MK', 'MT', 'MX', 'MY', 'NG', 'NI', 'NL', 'NO', 'NZ', 'OM', 'PA', 'PE', 'PH', 'PL', 'PT', 'PY', 'QA', 'RO', 'RS', 'SA', 'SE', 'SG', 'SI', 'SK', 'SN', 'SV', 'TH', 'TN', 'TR', 'TT', 'TW', 'UA', 'US', 'UY', 'VE', 'VN', 'XK', 'ZA'], 'external_urls': {'spotify': 'https://open.spotify.com/album/0RsNQJd8Em0kBK5BDTdAkb'}, 'href': 'https://api.spotify.com/v1/albums/0RsNQJd8Em0kBK5BDTdAkb', 'id': '0RsNQJd8Em0kBK5BDTdAkb', 'images': [{'height': 640, 'url': 'https://i.scdn.co/image/ab67616d0000b2737ac1605692de2a6b2fe063a2', 'width': 640}, {'height': 300, 'url': 'https://i.scdn.co/image/ab67616d00001e027ac1605692de2a6b2fe063a2', 'width': 300}, {'height': 64, 'url': 'https://i.scdn.co/image/ab67616d000048517ac1605692de2a6b2fe063a2', 'width': 64}], 'name': 'Born in the 1600s: Bach', 'release_date': '2020-08-31', 'release_date_precision': 'day', 'total_tracks': 506, 'type': 'album', 'uri': 'spotify:album:0RsNQJd8Em0kBK5BDTdAkb'}, 'artists': [{'external_urls': {'spotify': 'https://open.spotify.com/artist/5aIqB5nVVvmFsvSdExz408'}, 'href': 'https://api.spotify.com/v1/artists/5aIqB5nVVvmFsvSdExz408', 'id': '5aIqB5nVVvmFsvSdExz408', 'name': 'Johann Sebastian Bach', 'type': 'artist', 'uri': 'spotify:artist:5aIqB5nVVvmFsvSdExz408'}, {'external_urls': {'spotify': 'https://open.spotify.com/artist/29BEmD7wvKp6F5GTCcejY3'}, 'href': 'https://api.spotify.com/v1/artists/29BEmD7wvKp6F5GTCcejY3', 'id': '29BEmD7wvKp6F5GTCcejY3', 'name': 'David Bell', 'type': 'artist', 'uri': 'spotify:artist:29BEmD7wvKp6F5GTCcejY3'}, {'external_urls': {'spotify': 'https://open.spotify.com/artist/6uRJnvQ3f8whVnmeoecv5Z'}, 'href': 'https://api.spotify.com/v1/artists/6uRJnvQ3f8whVnmeoecv5Z', 'id': '6uRJnvQ3f8whVnmeoecv5Z', 'name': 'Berliner Philharmoniker', 'type': 'artist', 'uri': 'spotify:artist:6uRJnvQ3f8whVnmeoecv5Z'}, {'external_urls': {'spotify': 'https://open.spotify.com/artist/5zCaQxjl110XTrm4LQ1CxY'}, 'href': 'https://api.spotify.com/v1/artists/5zCaQxjl110XTrm4LQ1CxY', 'id': '5zCaQxjl110XTrm4LQ1CxY', 'name': 'Herbert von Karajan', 'type': 'artist', 'uri': 'spotify:artist:5zCaQxjl110XTrm4LQ1CxY'}], 'available_markets': ['AE', 'AL', 'AR', 'AT', 'AU', 'BA', 'BE', 'BG', 'BH', 'BO', 'BR', 'CA', 'CH', 'CI', 'CL', 'CM', 'CO', 'CR', 'CW', 'CY', 'CZ', 'DE', 'DK', 'DO', 'DZ', 'EC', 'EE', 'EG', 'ES', 'FI', 'FR', 'GB', 'GH', 'GR', 'GT', 'HK', 'HN', 'HR', 'HU', 'ID', 'IE', 'IL', 'IN', 'IS', 'IT', 'JP', 'KE', 'KH', 'KR', 'KW', 'LB', 'LK', 'LT', 'LU', 'LV', 'MA', 'ME', 'MK', 'MT', 'MX', 'MY', 'NG', 'NI', 'NL', 'NO', 'NZ', 'OM', 'PA', 'PE', 'PH', 'PL', 'PT', 'PY', 'QA', 'RO', 'RS', 'SA', 'SE', 'SG', 'SI', 'SK', 'SN', 'SV', 'TH', 'TN', 'TR', 'TT', 'TW', 'UA', 'US', 'UY', 'VE', 'VN', 'XK', 'ZA'], 'disc_number': 1, 'duration_ms': 363253, 'explicit': False, 'external_ids': {'isrc': 'DEF058300600'}, 'external_urls': {'spotify': 'https://open.spotify.com/track/0DqFXzLtKkj9JO421NJpl1'}, 'href': 'https://api.spotify.com/v1/tracks/0DqFXzLtKkj9JO421NJpl1', 'id': '0DqFXzLtKkj9JO421NJpl1', 'is_local': False, 'name': 'Suite No. 3 in D Major, BWV 1068: II. Air', 'popularity': 65, 'preview_url': 'https://p.scdn.co/mp3-preview/2a6f459ba5b0d2ddd41649b2050e7efbcaa786f9?cid=0ec3cf182ef14170b4c4be893239def0', 'track_number': 502, 'type': 'track', 'uri': 'spotify:track:0DqFXzLtKkj9JO421NJpl1'}, 'played_at': '2022-10-21T14:12:08.184Z', 'context': None}, {'track': {'album': {'album_type': 'single', 'artists': [{'external_urls': {'spotify': 'https://open.spotify.com/artist/2wOqMjp9TyABvtHdOSOTUS'}, 'href': 'https://api.spotify.com/v1/artists/2wOqMjp9TyABvtHdOSOTUS', 'id': '2wOqMjp9TyABvtHdOSOTUS', 'name': 'Ludwig van Beethoven', 'type': 'artist', 'uri': 'spotify:artist:2wOqMjp9TyABvtHdOSOTUS'}, {'external_urls': {'spotify': 'https://open.spotify.com/artist/0japPUWMmW3gxqjSB1VEVL'}, 'href': 'https://api.spotify.com/v1/artists/0japPUWMmW3gxqjSB1VEVL', 'id': '0japPUWMmW3gxqjSB1VEVL', 'name': 'Igor Levit', 'type': 'artist', 'uri': 'spotify:artist:0japPUWMmW3gxqjSB1VEVL'}], 'available_markets': ['AD', 'AE', 'AG', 'AL', 'AM', 'AO', 'AR', 'AT', 'AU', 'AZ', 'BA', 'BB', 'BD', 'BE', 'BF', 'BG', 'BH', 'BI', 'BJ', 'BN', 'BO', 'BR', 'BS', 'BT', 'BW', 'BY', 'BZ', 'CA', 'CD', 'CG', 'CH', 'CI', 'CL', 'CM', 'CO', 'CR', 'CV', 'CW', 'CY', 'CZ', 'DE', 'DJ', 'DK', 'DM', 'DO', 'DZ', 'EC', 'EE', 'EG', 'ES', 'FI', 'FJ', 'FM', 'FR', 'GA', 'GB', 'GD', 'GE', 'GH', 'GM', 'GN', 'GQ', 'GR', 'GT', 'GW', 'GY', 'HK', 'HN', 'HR', 'HT', 'HU', 'ID', 'IE', 'IL', 'IN', 'IQ', 'IS', 'IT', 'JM', 'JO', 'JP', 'KE', 'KG', 'KH', 'KI', 'KM', 'KN', 'KR', 'KW', 'KZ', 'LA', 'LB', 'LC', 'LI', 'LK', 'LR', 'LS', 'LT', 'LU', 'LV', 'LY', 'MA', 'MC', 'MD', 'ME', 'MG', 'MH', 'MK', 'ML', 'MN', 'MO', 'MR', 'MT', 'MU', 'MV', 'MW', 'MX', 'MY', 'MZ', 'NA', 'NE', 'NG', 'NI', 'NL', 'NO', 'NP', 'NR', 'NZ', 'OM', 'PA', 'PE', 'PG', 'PH', 'PK', 'PL', 'PS', 'PT', 'PW', 'PY', 'QA', 'RO', 'RS', 'RW', 'SA', 'SB', 'SC', 'SE', 'SG', 'SI', 'SK', 'SL', 'SM', 'SN', 'SR', 'ST', 'SV', 'SZ', 'TD', 'TG', 'TH', 'TJ', 'TL', 'TN', 'TO', 'TR', 'TT', 'TV', 'TW', 'TZ', 'UA', 'UG', 'US', 'UY', 'UZ', 'VC', 'VE', 'VN', 'VU', 'WS', 'XK', 'ZA', 'ZM', 'ZW'], 'external_urls': {'spotify': 'https://open.spotify.com/album/230jpjk9w7MGupNMMvXoaN'}, 'href': 'https://api.spotify.com/v1/albums/230jpjk9w7MGupNMMvXoaN', 'id': '230jpjk9w7MGupNMMvXoaN', 'images': [{'height': 640, 'url': 'https://i.scdn.co/image/ab67616d0000b27351898cf04bc3f84976d8d948', 'width': 640}, {'height': 300, 'url': 'https://i.scdn.co/image/ab67616d00001e0251898cf04bc3f84976d8d948', 'width': 300}, {'height': 64, 'url': 'https://i.scdn.co/image/ab67616d0000485151898cf04bc3f84976d8d948', 'width': 64}], 'name': 'Für Elise, Bagatelle No. 25 in A Minor, WoO 59', 'release_date': '2015', 'release_date_precision': 'year', 'total_tracks': 1, 'type': 'album', 'uri': 'spotify:album:230jpjk9w7MGupNMMvXoaN'}, 'artists': [{'external_urls': {'spotify': 'https://open.spotify.com/artist/2wOqMjp9TyABvtHdOSOTUS'}, 'href': 'https://api.spotify.com/v1/artists/2wOqMjp9TyABvtHdOSOTUS', 'id': '2wOqMjp9TyABvtHdOSOTUS', 'name': 'Ludwig van Beethoven', 'type': 'artist', 'uri': 'spotify:artist:2wOqMjp9TyABvtHdOSOTUS'}, {'external_urls': {'spotify': 'https://open.spotify.com/artist/0japPUWMmW3gxqjSB1VEVL'}, 'href': 'https://api.spotify.com/v1/artists/0japPUWMmW3gxqjSB1VEVL', 'id': '0japPUWMmW3gxqjSB1VEVL', 'name': 'Igor Levit', 'type': 'artist', 'uri': 'spotify:artist:0japPUWMmW3gxqjSB1VEVL'}], 'available_markets': ['AD', 'AE', 'AG', 'AL', 'AM', 'AO', 'AR', 'AT', 'AU', 'AZ', 'BA', 'BB', 'BD', 'BE', 'BF', 'BG', 'BH', 'BI', 'BJ', 'BN', 'BO', 'BR', 'BS', 'BT', 'BW', 'BY', 'BZ', 'CA', 'CD', 'CG', 'CH', 'CI', 'CL', 'CM', 'CO', 'CR', 'CV', 'CW', 'CY', 'CZ', 'DE', 'DJ', 'DK', 'DM', 'DO', 'DZ', 'EC', 'EE', 'EG', 'ES', 'FI', 'FJ', 'FM', 'FR', 'GA', 'GB', 'GD', 'GE', 'GH', 'GM', 'GN', 'GQ', 'GR', 'GT', 'GW', 'GY', 'HK', 'HN', 'HR', 'HT', 'HU', 'ID', 'IE', 'IL', 'IN', 'IQ', 'IS', 'IT', 'JM', 'JO', 'JP', 'KE', 'KG', 'KH', 'KI', 'KM', 'KN', 'KR', 'KW', 'KZ', 'LA', 'LB', 'LC', 'LI', 'LK', 'LR', 'LS', 'LT', 'LU', 'LV', 'LY', 'MA', 'MC', 'MD', 'ME', 'MG', 'MH', 'MK', 'ML', 'MN', 'MO', 'MR', 'MT', 'MU', 'MV', 'MW', 'MX', 'MY', 'MZ', 'NA', 'NE', 'NG', 'NI', 'NL', 'NO', 'NP', 'NR', 'NZ', 'OM', 'PA', 'PE', 'PG', 'PH', 'PK', 'PL', 'PS', 'PT', 'PW', 'PY', 'QA', 'RO', 'RS', 'RW', 'SA', 'SB', 'SC', 'SE', 'SG', 'SI', 'SK', 'SL', 'SM', 'SN', 'SR', 'ST', 'SV', 'SZ', 'TD', 'TG', 'TH', 'TJ', 'TL', 'TN', 'TO', 'TR', 'TT', 'TV', 'TW', 'TZ', 'UA', 'UG', 'US', 'UY', 'UZ', 'VC', 'VE', 'VN', 'VU', 'WS', 'XK', 'ZA', 'ZM', 'ZW'], 'disc_number': 1, 'duration_ms': 212066, 'explicit': False, 'external_ids': {'isrc': 'USSM11508271'}, 'external_urls': {'spotify': 'https://open.spotify.com/track/3zLTPuucd3e6TxZnu2dlVS'}, 'href': 'https://api.spotify.com/v1/tracks/3zLTPuucd3e6TxZnu2dlVS', 'id': '3zLTPuucd3e6TxZnu2dlVS', 'is_local': False, 'name': 'Bagatelle No. 25 in A Minor, WoO 59 \"Für Elise\"', 'popularity': 64, 'preview_url': 'https://p.scdn.co/mp3-preview/984d00aab9dc8c80eba5ff230cd58669d29bd62a?cid=0ec3cf182ef14170b4c4be893239def0', 'track_number': 1, 'type': 'track', 'uri': 'spotify:track:3zLTPuucd3e6TxZnu2dlVS'}, 'played_at': '2022-10-21T14:06:04.369Z', 'context': None}], 'next': 'https://api.spotify.com/v1/me/player/recently-played?before=1666361164369&limit=5', 'cursors': {'after': '1666362637144', 'before': '1666361164369'}, 'limit': 5, 'href': 'https://api.spotify.com/v1/me/player/recently-played?limit=5'}\n"
     ]
    }
   ],
   "source": [
    "results4 = sp.current_user_recently_played(limit= 5)\n",
    "print(results4)"
   ]
  },
  {
   "cell_type": "code",
   "execution_count": null,
   "id": "99b852ea-3841-4bcd-a6a9-96b8b1ee370b",
   "metadata": {
    "orderProperties": []
   },
   "outputs": [],
   "source": []
  }
 ],
 "metadata": {
  "execution_data": {
   "environment_id": "1499f27c-6406-4fbd-bd1b-c6f92800018f",
   "environment_name": "Staging",
   "execution_id": "",
   "inputs_for_searched_lego": "",
   "notebook_id": "d4159cb3-6c83-4ba5-a2f7-d23c0777076b.ipynb",
   "parameters": null,
   "runbook_name": "gcp",
   "search_string": "",
   "show_tool_tip": false,
   "tenant_id": "982dba5f-d9df-48ae-a5bf-ec1fc94d4882",
   "tenant_url": "https://tenant-staging.alpha.unskript.io",
   "user_email_id": "support+staging@unskript.com",
   "workflow_id": "f8ead207-81c0-414a-a15b-76fcdefafe8d"
  },
  "kernelspec": {
   "display_name": "Python 3 (ipykernel)",
   "language": "python",
   "name": "python3"
  },
  "language_info": {
   "codemirror_mode": {
    "name": "ipython",
    "version": 3
   },
   "file_extension": ".py",
   "mimetype": "text/x-python",
   "name": "python",
   "nbconvert_exporter": "python",
   "pygments_lexer": "ipython3",
   "version": "3.9.6"
  },
  "parameterSchema": {
   "properties": {},
   "required": [],
   "title": "Schema",
   "type": "object"
  }
 },
 "nbformat": 4,
 "nbformat_minor": 5
}
