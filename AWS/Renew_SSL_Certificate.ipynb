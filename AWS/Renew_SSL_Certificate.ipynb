{
    "cells": [
        {
            "cell_type": "markdown",
            "id": "b18495bb-19ba-4b43-9824-8739dd304b90",
            "metadata": {
                "jupyter": {
                    "source_hidden": false
                },
                "name": "Steps Overview",
                "orderProperties": [],
                "tags": [],
                "title": "Steps Overview"
            },
            "source": [
                "<center><img src=\"https://unskript.com/assets/favicon.png\" alt=\"unSkript.com\" width=\"100\" height=\"100\"/> \n",
                "<h1> unSkript Runbooks </h1>\n",
                "<div class=\"alert alert-block alert-success\">\n",
                "    <h3> Objective</h3> <br>\n",
                "    <b style = \"color:#000000\"><i>Renew expiring AWS Certificate Manager(ACM) issued SSL Certificates</i></b>\n",
                "</div>\n",
                "</center>\n",
                "<br>\n",
                "\n",
                "<center><h2><u>Renew SSL Certificate</u></h2></center>\n",
                "\n",
                "# Steps Overview\n",
                "1)[ List expiring ACM certificates](#1)<br>\n",
                "2)[ Renew expiring ACM certificates](#2)"
            ]
        },
        {
            "cell_type": "markdown",
            "id": "d11360a9-4d6a-4f7c-9f08-e6b299d7f902",
            "metadata": {
                "jupyter": {
                    "source_hidden": false
                },
                "name": "Step 1A",
                "orderProperties": [],
                "tags": [],
                "title": "Step 1A"
            },
            "source": [
                "<h3><a id=\"1\">List all AWS Regions</a></h3>\n",
                "This action fetches all AWS Regions to execute Step 1👇. This action will only execute if no <code>region</code> is provided.\n",
                "\n",
                ">This action takes the following parameters: `None`\n",
                "\n",
                ">This action captures the following ouput: `all_regions`"
            ]
        },
        {
            "cell_type": "code",
            "execution_count": 11,
            "id": "86b86fe5-a789-4e13-ab7b-09753fff7b8c",
            "metadata": {
                "accessType": "ACCESS_TYPE_UNSPECIFIED",
                "actionBashCommand": false,
                "actionNeedsCredential": true,
                "actionRequiredLinesInCode": [],
                "actionSupportsIteration": true,
                "actionSupportsPoll": true,
                "action_uuid": "708ea4af5f8fe7096a15b3a52c4a657606bab9e177386fad7a847341ed607d64",
                "condition_enabled": true,
                "createTime": "1970-01-01T00:00:00Z",
                "currentVersion": "0.1.0",
                "description": "List all available AWS Regions",
                "execution_data": {
                    "last_date_success_run_cell": "2022-12-09T11:16:41.513Z"
                },
                "id": 200,
                "index": 200,
                "inputschema": [
                    {
                        "properties": {},
                        "title": "aws_list_all_regions",
                        "type": "object"
                    }
                ],
                "jupyter": {
                    "source_hidden": true
                },
                "legotype": "LEGO_TYPE_AWS",
                "name": "AWS List All Regions",
                "nouns": [
                    "regions",
                    "aws"
                ],
                "orderProperties": [],
                "output": {
                    "type": ""
                },
                "outputParams": {
                    "output_name": "all_regions",
                    "output_name_enabled": true
                },
                "startcondition": "not region",
                "tags": [
                    "aws_list_all_regions"
                ],
                "verbs": [
                    "list"
                ]
            },
            "outputs": [],
            "source": [
                "#\n",
                "# Copyright (c) 2021 unSkript.com\n",
                "# All rights reserved.\n",
                "#\n",
                "\n",
                "from pydantic import BaseModel, Field\n",
                "from typing import Dict, List\n",
                "import pprint\n",
                "\n",
                "from beartype import beartype\n",
                "@beartype\n",
                "def aws_list_all_regions_printer(output):\n",
                "    if output is None:\n",
                "        return\n",
                "    pprint.pprint(output)\n",
                "\n",
                "\n",
                "@beartype\n",
                "def aws_list_all_regions(handle) -> List:\n",
                "    \"\"\"aws_list_all_regions lists all the AWS regions\n",
                "\n",
                "        :type handle: object\n",
                "        :param handle: Object returned from Task Validate\n",
                "\n",
                "        :rtype: Result List of result\n",
                "    \"\"\"\n",
                "\n",
                "    result = handle.aws_cli_command(\"aws ec2 describe-regions --all-regions --query 'Regions[].{Name:RegionName}' --output text\")\n",
                "    if result is None or result.returncode != 0:\n",
                "        print(\"Error while executing command : {}\".format(result))\n",
                "        return str()\n",
                "    result_op = list(result.stdout.split(\"\\n\"))\n",
                "    list_region = [x for x in result_op if x != '']\n",
                "    return list_region\n",
                "\n",
                "\n",
                "task = Task(Workflow())\n",
                "task.configure(outputName=\"all_regions\")\n",
                "(err, hdl, args) = task.validate(vars=vars())\n",
                "if err is None:\n",
                "    task.execute(aws_list_all_regions, lego_printer=aws_list_all_regions_printer, hdl=hdl, args=args)"
            ]
        },
        {
            "cell_type": "markdown",
            "id": "c52f7b11-cca5-4bde-8641-995f5c9e2f43",
            "metadata": {
                "jupyter": {
                    "source_hidden": false
                },
                "name": "Step 1",
                "orderProperties": [],
                "tags": [],
                "title": "Step 1"
            },
            "source": [
                "<h3><a id=\"1\">List expiring ACM certificates</a></h3>\n",
                "Using unSkript's List expiring ACM certificates action, we will fetch all the expiring certificates given a specific number of threshold days.\n",
                "\n",
                ">This action takes the following parameters: `threshold_days`, `region`\n",
                "\n",
                ">This action captures the following output: `all_certs`"
            ]
        },
        {
            "cell_type": "code",
            "execution_count": 12,
            "id": "4abe54fc-1f64-4086-ba50-d4ab222b8839",
            "metadata": {
                "accessType": "ACCESS_TYPE_UNSPECIFIED",
                "actionBashCommand": false,
                "actionNeedsCredential": true,
                "actionRequiredLinesInCode": [],
                "actionSupportsIteration": true,
                "actionSupportsPoll": true,
                "action_uuid": "c1ee1c3b5cb0e07f0b52ca4d853aba6b3e597882e785ea054f95d69c03d83973",
                "continueOnError": true,
                "createTime": "1970-01-01T00:00:00Z",
                "currentVersion": "0.1.0",
                "description": "List All Expiring ACM Certificates",
                "execution_data": {
                    "last_date_success_run_cell": "2022-12-09T11:16:58.045Z"
                },
                "id": 251,
                "index": 251,
                "inputData": [
                    {
                        "region": {
                            "constant": false,
                            "value": "iter_item"
                        },
                        "threshold_days": {
                            "constant": false,
                            "value": "threshold_days"
                        }
                    }
                ],
                "inputschema": [
                    {
                        "properties": {
                            "region": {
                                "description": "Name of the AWS Region",
                                "title": "Region",
                                "type": "string"
                            },
                            "threshold_days": {
                                "description": "Threshold number(in days) to check for expiry. Eg: 30 -lists all certificates which are expiring within 30 days",
                                "title": "Threshold Days",
                                "type": "integer"
                            }
                        },
                        "required": [
                            "threshold_days",
                            "region"
                        ],
                        "title": "aws_list_expiring_acm_certificates",
                        "type": "object"
                    }
                ],
                "iterData": [
                    {
                        "iter_enabled": true,
                        "iter_item": "region",
                        "iter_list": {
                            "constant": false,
                            "objectItems": false,
                            "value": "all_regions"
                        }
                    }
                ],
                "jupyter": {
                    "source_hidden": true
                },
                "legotype": "LEGO_TYPE_AWS",
                "name": "List Expiring ACM Certificates",
                "nouns": [
                    "expiring",
                    "certificates",
                    "aws"
                ],
                "orderProperties": [
                    "threshold_days",
                    "region"
                ],
                "output": {
                    "type": ""
                },
                "outputParams": {
                    "output_name": "all_certs",
                    "output_name_enabled": true
                },
                "printOutput": false,
                "tags": [
                    "aws_list_expiring_acm_certificates"
                ],
                "verbs": [
                    "list"
                ]
            },
            "outputs": [],
            "source": [
                "# Copyright (c) 2021 unSkript, Inc\n",
                "# All rights reserved.\n",
                "##\n",
                "import dateutil\n",
                "from pydantic import BaseModel, Field\n",
                "from typing import Dict,List\n",
                "import pprint\n",
                "import datetime\n",
                "\n",
                "from beartype import beartype\n",
                "@beartype\n",
                "def aws_list_expiring_acm_certificates_printer(output):\n",
                "    if output is None:\n",
                "        return\n",
                "    pprint.pprint(output)\n",
                "\n",
                "@beartype\n",
                "def aws_list_expiring_acm_certificates(handle, threshold_days: int, region: str='')-> Dict:\n",
                "    \"\"\"aws_list_expiring_acm_certificates returns all the ACM issued certificates which are about to expire given a threshold number of days\n",
                "\n",
                "        :type handle: object\n",
                "        :param handle: Object returned from Task Validate\n",
                "\n",
                "        :type threshold_days: int\n",
                "        :param threshold_days: Threshold number of days to check for expiry. Eg: 30 -lists all certificates which are expiring within 30 days\n",
                "\n",
                "        :type region: str\n",
                "        :param region: Region name of the AWS account\n",
                "\n",
                "        :rtype: Result Dictionary of result\n",
                "    \"\"\"\n",
                "    iamClient = handle.client('acm', region_name=region)\n",
                "    arn_list=[]\n",
                "    domain_list = []\n",
                "    expiring_certificates_list= []\n",
                "    expiring_certificates_dict={}\n",
                "    result_list=[]\n",
                "    try:\n",
                "        certificates_list = iamClient.list_certificates(CertificateStatuses=['ISSUED'])\n",
                "        for each_arn in certificates_list['CertificateSummaryList']:\n",
                "            arn_list.append(each_arn['CertificateArn'])\n",
                "            domain_list.append(each_arn['DomainName'])\n",
                "        for cert_arn in arn_list:\n",
                "            details = iamClient.describe_certificate(CertificateArn=cert_arn)\n",
                "            for key,value in details['Certificate'].items():\n",
                "                if key == \"NotAfter\":\n",
                "                    expiry_date = value\n",
                "                    right_now = datetime.datetime.now(dateutil.tz.tzlocal())\n",
                "                    diff = expiry_date-right_now\n",
                "                    days_remaining = diff.days\n",
                "                    if days_remaining < threshold_days and days_remaining > 0:\n",
                "                        expiring_certificates_list.append(cert_arn)\n",
                "                    expiring_certificates_dict[\"region\"]= region\n",
                "                    expiring_certificates_dict[\"certificate\"]= expiring_certificates_list\n",
                "        result_list.append(expiring_certificates_dict)\n",
                "    except Exception as e:\n",
                "        pass\n",
                "    return expiring_certificates_dict\n",
                "\n",
                "\n",
                "task = Task(Workflow())\n",
                "task.configure(printOutput=False)\n",
                "task.configure(continueOnError=True)\n",
                "task.configure(inputParamsJson='''{\n",
                "    \"threshold_days\": \"threshold_days\",\n",
                "    \"region\": \"iter_item\"\n",
                "    }''')\n",
                "task.configure(iterJson='''{\n",
                "    \"iter_enabled\": true,\n",
                "    \"iter_list_is_const\": false,\n",
                "    \"iter_list\": \"all_regions\",\n",
                "    \"iter_parameter\": \"region\"\n",
                "    }''')\n",
                "task.configure(outputName=\"all_certs\")\n",
                "\n",
                "(err, hdl, args) = task.validate(vars=vars())\n",
                "if err is None:\n",
                "    task.execute(aws_list_expiring_acm_certificates, lego_printer=aws_list_expiring_acm_certificates_printer, hdl=hdl, args=args)"
            ]
        },
        {
            "cell_type": "markdown",
            "id": "33e6d07d-2168-44d1-99fe-32539f26758f",
            "metadata": {
                "jupyter": {
                    "source_hidden": false
                },
                "name": "Step 2A",
                "orderProperties": [],
                "tags": [],
                "title": "Step 2A"
            },
            "source": [
                "<h3><a id=\"1\">Create List of Expiring Certificates</a></h3>\n",
                "This action filters regions that have no certificates and creates a list of certificates that have to be renewed\n",
                "\n",
                ">This action takes the following parameters: `None`\n",
                "\n",
                ">This action captures the following output: `expiring_certificates`"
            ]
        },
        {
            "cell_type": "code",
            "execution_count": 13,
            "id": "32da66f2-c899-4441-84cf-6f8496865f95",
            "metadata": {
                "customAction": true,
                "execution_data": {
                    "last_date_success_run_cell": "2022-12-09T11:17:03.931Z"
                },
                "jupyter": {
                    "source_hidden": true
                },
                "name": "Create List of Expiring Certificates",
                "orderProperties": [],
                "outputParams": {
                    "output_name": "output",
                    "output_name_enabled": true
                },
                "tags": [],
                "title": "Create List of Expiring Certificates"
            },
            "outputs": [],
            "source": [
                "def printer():\n",
                "    result=[]\n",
                "    for k,v in all_certs.items():\n",
                "        if len(v)!=0:\n",
                "            result.append(v)\n",
                "    print(result)\n",
                "    return result\n",
                "\n",
                "expiring_certificates= printer()"
            ]
        },
        {
            "cell_type": "markdown",
            "id": "45f6a4b4-f896-4e37-9fb6-3c6db915495e",
            "metadata": {
                "jupyter": {
                    "source_hidden": false
                },
                "name": "Step 2",
                "orderProperties": [],
                "tags": [],
                "title": "Step 2"
            },
            "source": [
                "<h3><a id=\"2\">Renew expiring ACM certificates</a></h3>\n",
                "This action renews <b>eligible</b> SSL certificates that are available on ACM. Only exported private certificates can be renewed with this operation. In order to renew your AWS Private CA certificates with ACM, you must first grant the <a href=\"https://docs.aws.amazon.com/privateca/latest/userguide/PcaWelcome.html\">ACM service principal permission</a> to do so.<br><br>\n",
                "<i><b>A certificate is eligible for automatic renewal subject to the following considerations:</b></i><br>\n",
                "\n",
                "\n",
                "1)<span style=\"color:green\"> ELIGIBLE</span> if associated with another AWS service, such as Elastic Load Balancing or CloudFront.<br>\n",
                "2)<span style=\"color:green\"> ELIGIBLE</span>if exported since being issued or last renewed.<br>\n",
                "3)<span style=\"color:green\"> ELIGIBLE</span> if it is a private certificate issued by calling the ACM RequestCertificate API and then exported or associated with another AWS service.<br>\n",
                "4)<span style=\"color:green\"> ELIGIBLE</span> if it is a private certificate issued through the management console and then exported or associated with another AWS service.<br>\n",
                "5)<span style=\"color:red\"> NOT ELIGIBLE</span> if it is a private certificate issued by calling the AWS Private CA IssueCertificate API.<br>\n",
                "6)<span style=\"color:red\"> NOT ELIGIBLE</span> if imported or already expired<br>\n",
                "\n",
                ">This action takes the following parameters: `aws_certificate_arn`, `region`\n",
                "\n",
                ">This action captures the following output: `renewed_certificates`"
            ]
        },
        {
            "cell_type": "code",
            "execution_count": null,
            "id": "fc89bb10-458b-4694-8c5a-e6a24b47fc71",
            "metadata": {
                "accessType": "ACCESS_TYPE_UNSPECIFIED",
                "actionBashCommand": false,
                "actionNeedsCredential": true,
                "actionRequiredLinesInCode": [],
                "actionSupportsIteration": true,
                "actionSupportsPoll": true,
                "action_uuid": "89773c9cb2201505fbf5dbac0cc34a4056ba1a45a315addffec9af7a4b9b7390",
                "continueOnError": true,
                "createTime": "1970-01-01T00:00:00Z",
                "currentVersion": "0.1.0",
                "description": "Renew Expiring ACM Certificates",
                "id": 164,
                "index": 164,
                "inputData": [
                    {
                        "aws_certificate_arn": {
                            "constant": false,
                            "value": "\"iter.get(\\\\\"certificate\\\\\")\""
                        },
                        "region": {
                            "constant": false,
                            "value": "\"iter.get(\\\\\"region\\\\\")\""
                        }
                    }
                ],
                "inputschema": [
                    {
                        "properties": {
                            "aws_certificate_arn": {
                                "description": "ARN of the Certificate",
                                "items": {},
                                "title": "Certificate ARN",
                                "type": "array"
                            },
                            "region": {
                                "description": "Name of the AWS Region",
                                "title": "Region",
                                "type": "string"
                            }
                        },
                        "required": [
                            "aws_certificate_arn",
                            "region"
                        ],
                        "title": "aws_renew_expiring_acm_certificates",
                        "type": "object"
                    }
                ],
                "iterData": [
                    {
                        "iter_enabled": true,
                        "iter_item": {
                            "aws_certificate_arn": "certificate",
                            "region": "region"
                        },
                        "iter_list": {
                            "constant": false,
                            "objectItems": true,
                            "value": "expiring_certificates"
                        }
                    }
                ],
                "jupyter": {
                    "source_hidden": true
                },
                "legotype": "LEGO_TYPE_AWS",
                "name": "Renew Expiring ACM Certificates",
                "nouns": [
                    "certificates",
                    "acm",
                    "aws"
                ],
                "orderProperties": [
                    "aws_certificate_arn",
                    "region"
                ],
                "output": {
                    "type": ""
                },
                "outputParams": {
                    "output_name": "renewed_certificates",
                    "output_name_enabled": true
                },
                "tags": [
                    "aws_renew_expiring_acm_certificates"
                ],
                "title": "Renew Expiring ACM Certificates",
                "verbs": [
                    "renew"
                ]
            },
            "outputs": [],
            "source": [
                "# Copyright (c) 2021 unSkript, Inc\n",
                "# All rights reserved.\n",
                "##\n",
                "import dateutil\n",
                "from pydantic import BaseModel, Field\n",
                "from typing import Dict,List\n",
                "import pprint\n",
                "import datetime\n",
                "\n",
                "from beartype import beartype\n",
                "@beartype\n",
                "def aws_renew_expiring_acm_certificates_printer(output):\n",
                "    if output is None:\n",
                "        return\n",
                "    pprint.pprint(output)\n",
                "\n",
                "@beartype\n",
                "def aws_renew_expiring_acm_certificates(handle, aws_certificate_arn: List, region: str='') -> Dict:\n",
                "    \"\"\"aws_renew_expiring_acm_certificates returns all the ACM issued certificates which are about to expire given a threshold number of days\n",
                "\n",
                "        :type handle: object\n",
                "        :param handle: Object returned from Task Validate\n",
                "\n",
                "        :type aws_certificate_arn: List\n",
                "        :param aws_certificate_arn: ARN of the Certificate\n",
                "\n",
                "        :type region: str\n",
                "        :param region: Region name of the AWS account\n",
                "\n",
                "        :rtype: Result Dictionary of result\n",
                "    \"\"\"\n",
                "    result = {}\n",
                "    try:\n",
                "        acmClient = handle.client('acm', region_name=region)\n",
                "        for arn in aws_certificate_arn:\n",
                "            acmClient.renew_certificate(CertificateArn=arn)\n",
                "            result[arn] = \"Successfully renewed\"\n",
                "    except Exception as e:\n",
                "        result[\"error\"] = e\n",
                "    return result\n",
                "\n",
                "\n",
                "task = Task(Workflow())\n",
                "task.configure(continueOnError=True)\n",
                "task.configure(inputParamsJson='''{\n",
                "    \"aws_certificate_arn\": \"iter.get(\\\\\"certificate\\\\\")\",\n",
                "    \"region\": \"iter.get(\\\\\"region\\\\\")\"\n",
                "    }''')\n",
                "task.configure(iterJson='''{\n",
                "    \"iter_enabled\": true,\n",
                "    \"iter_list_is_const\": false,\n",
                "    \"iter_list\": \"expiring_certificates\",\n",
                "    \"iter_parameter\": [\"aws_certificate_arn\",\"region\"]\n",
                "    }''')\n",
                "\n",
                "task.configure(outputName=\"renewed_certificates\")\n",
                "\n",
                "(err, hdl, args) = task.validate(vars=vars())\n",
                "if err is None:\n",
                "    task.execute(aws_renew_expiring_acm_certificates, lego_printer=aws_renew_expiring_acm_certificates_printer, hdl=hdl, args=args)"
            ]
        },
        {
            "cell_type": "markdown",
            "id": "14ce7477-5f71-4127-8477-43b76473590b",
            "metadata": {
                "jupyter": {
                    "source_hidden": false
                },
                "name": "Conclusion",
                "orderProperties": [],
                "tags": [],
                "title": "Conclusion"
            },
            "source": [
                "<h3>Conclusion</h3> \n",
                "<p>In this Runbook, we demonstrated the use of unSkript's AWS actions to list all expiring ACM SSL Certificates and subsequently renewed them. To view the full platform capabilities of unSkript please visit\n",
                "<a href=\"https://us.app.unskript.io\">unskript.com</a></p>"
            ]
        }
    ],
    "metadata": {
        "execution_data": {
            "environment_name": "Staging",
            "environment_type": "ENVIRONMENT_TYPE_AWS_EC2",
            "execution_id": "",
            "inputs_for_searched_lego": "",
            "notebook_id": "3a57f6ba-842a-4cb5-9b0f-ccf6c27931c2.ipynb",
            "parameters": [
                "region",
                "threshold_days"
            ],
            "proxy_id": "1499f27c-6406-4fbd-bd1b-c6f92800018f",
            "runbook_name": "Renew SSL Certificate",
            "search_string": "",
            "show_tool_tip": false,
            "tenant_id": "982dba5f-d9df-48ae-a5bf-ec1fc94d4882",
            "tenant_url": "https://tenant-staging.alpha.unskript.io",
            "user_email_id": "shloka@unskript.com",
            "workflow_id": "f3d01f73-a619-422a-9b31-1e4212414d48"
        },
        "kernelspec": {
            "display_name": "Python 3.10.6 64-bit",
            "language": "python",
            "name": "python3"
        },
        "language_info": {
            "file_extension": ".py",
            "mimetype": "text/x-python",
            "name": "python",
            "pygments_lexer": "ipython3",
            "version": "3.10.6"
        },
        "parameterSchema": {
            "properties": {
                "region": {
                    "default": "[]",
                    "description": "List of regions which have Certificates. Eg: ['us-west-2','us-west-1']",
                    "title": "region",
                    "type": "array"
                },
                "threshold_days": {
                    "description": "Threshold number of days to check if a certificate is nearing it's expiry. Eg:45",
                    "title": "threshold_days",
                    "type": "number"
                }
            },
            "required": [
                "threshold_days"
            ],
            "title": "Schema",
            "type": "object"
        },
        "parameterValues": {
            "region": "[]"
        },
        "vscode": {
            "interpreter": {
                "hash": "b0fa6594d8f4cbf19f97940f81e996739fb7646882a419484c72d19e05852a7e"
            }
        }
    },
    "nbformat": 4,
    "nbformat_minor": 5
}
