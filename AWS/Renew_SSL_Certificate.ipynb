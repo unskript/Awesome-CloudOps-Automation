{
 "cells": [
  {
   "cell_type": "markdown",
   "id": "b18495bb-19ba-4b43-9824-8739dd304b90",
   "metadata": {
    "jupyter": {
     "source_hidden": false
    },
    "name": "Check SSL Certificate Expiry",
    "orderProperties": [],
    "tags": [],
    "title": "Check SSL Certificate Expiry"
   },
   "source": [
    "<img src=\"https://unskript.com/assets/favicon.png\" alt=\"unSkript.com\" width=\"100\" height=\"100\"/> \n",
    "<h1> unSkript Runbooks </h1>\n",
    "<div class=\"alert alert-block alert-success\">\n",
    "    <b> This runbook demonstrates how to check SSL Certificate expiration date and send a reminder message to the Slack channel using unSkript legos.</b>\n",
    "</div>\n",
    "\n",
    "<br>\n",
    "\n",
    "<center><h2>Renew SSL Certificate</h2></center>\n",
    "\n",
    "# Steps Overview\n",
    "    1) Fetch SSL Certificate expiration date from the AWS ACM (Amazon Certificate Manager).\n",
    "    2) Send a message to Slack ONLY if the number of days remaining are less than 30 days."
   ]
  },
  {
   "cell_type": "markdown",
   "id": "c52f7b11-cca5-4bde-8641-995f5c9e2f43",
   "metadata": {
    "local_metadata": {
     "jupyter": {
      "source_hidden": false
     },
     "name": "Check SSL Certificate Expiry Date",
     "orderProperties": [],
     "tags": [],
     "title": "Check SSL Certificate Expiry Date"
    },
    "remote_metadata": {
     "name": "Check SSL Certificate Expiry Date",
     "orderProperties": [],
     "tags": [],
     "title": "Check SSL Certificate Expiry Date"
    }
   },
   "source": [
    "In this lego we will check the expiration date of the SSL Certificate and return the number of days remaining before renewal"
   ]
  },
  {
   "cell_type": "code",
   "execution_count": null,
   "id": "ff009de1-fce8-42b0-823b-1e04c6ac32f8",
   "metadata": {
    "local_metadata": {
     "accessType": "ACCESS_TYPE_UNSPECIFIED",
     "actionBashCommand": false,
     "actionNeedsCredential": true,
     "actionRequiredLinesInCode": [],
     "actionSupportsIteration": true,
     "actionSupportsPoll": true,
     "action_uuid": "afacde59-a401-4a8b-901d-46c4b3970b78",
     "continueOnError": false,
     "createTime": "2022-07-27T16:51:48Z",
     "credentialsJson": {},
     "currentVersion": "v0.0.0",
     "description": "Test",
     "execution_data": {
      "last_date_success_run_cell": "2022-09-17T14:00:45.439Z"
     },
     "id": 100001,
     "index": 100001,
     "inputData": [
     ],
     "inputschema": [
      {
       "properties": {
        "aws_certificate_arn": {
         "default": "",
         "description": "Certificate ARN",
         "title": "aws_certificate_arn",
         "type": "string"
        },
        "region": {
         "default": "",
         "description": "Region Name",
         "title": "region",
         "type": "string"
        }
       },
       "required": [
        "instance_ids",
        "region"
       ],
       "title": "aws_restart_ec2_instances_test",
       "type": "object"
      }
     ],
     "legotype": "LEGO_TYPE_AWS",
     "name": "Check SSL Certificate Expiry",
     "nouns": [],
     "orderProperties": [
      "aws_certificate_arn",
      "region"
     ],
     "output": {
      "type": ""
     },
     "outputParams": {
      "output_name": "days_remaining",
      "output_name_enabled": true
     },
     "tags": [],
     "title": "Check SSL Certificate Expiry",
     "verbs": []
    },
    "remote_metadata": {
     "accessType": "ACCESS_TYPE_UNSPECIFIED",
     "actionBashCommand": false,
     "actionNeedsCredential": true,
     "actionRequiredLinesInCode": [],
     "actionSupportsIteration": true,
     "actionSupportsPoll": true,
     "action_uuid": "afacde59-a401-4a8b-901d-46c4b3970b78",
     "continueOnError": false,
     "createTime": "2022-07-27T16:51:48Z",
     "credentialsJson": {},
     "currentVersion": "v0.0.0",
     "description": "Test",
     "execution_data": {
      "last_date_success_run_cell": "2022-09-12T11:42:53.934Z"
     },
     "id": 100001,
     "index": 100001,
     "inputData": [
     ],
     "inputschema": [
      {
       "properties": {
        "aws_certificate_arn": {
         "default": "",
         "description": "Certificate ARN",
         "title": "aws_certificate_arn",
         "type": "string"
        },
        "region": {
         "default": "",
         "description": "Region Name",
         "title": "region",
         "type": "string"
        }
       },
       "required": [
        "instance_ids",
        "region"
       ],
       "title": "aws_restart_ec2_instances_test",
       "type": "object"
      }
     ],
     "jupyter": {
      "source_hidden": true
     },
     "legotype": "LEGO_TYPE_AWS",
     "name": "Check SSL Certificate Expiry",
     "nouns": [],
     "orderProperties": [
      "aws_certificate_arn",
      "region"
     ],
     "output": {
      "type": ""
     },
     "outputParams": {
      "output_name": "days_remaining",
      "output_name_enabled": true
     },
     "tags": [],
     "title": "Check SSL Certificate Expiry",
     "verbs": []
    }
   },
   "outputs": [],
   "source": [
    "##  Copyright (c) 2021 unSkript, Inc\n",
    "##  All rights reserved.\n",
    "##\n",
    "from typing import List, Dict\n",
    "from pydantic import BaseModel, Field\n",
    "import pprint\n",
    "import datetime\n",
    "import dateutil\n",
    "\n",
    "\n",
    "from beartype import beartype\n",
    "@beartype\n",
    "def aws_check_ssl_certificate_expiry_printer(output):\n",
    "    if output is None:\n",
    "        return\n",
    "\n",
    "    if output>0:\n",
    "        pprint.pprint(\"Your SSL certificate is expiring in \" + str(output) + \" \" + \"days\")\n",
    "    else:\n",
    "        pprint.pprint(\"Your SSL certificate has expired \" + str(-output) + \" \" + \"days ago\")\n",
    "\n",
    "\n",
    "@beartype\n",
    "def aws_check_ssl_certificate_expiry(\n",
    "    handle,\n",
    "    aws_certificate_arn: str,\n",
    "    region: str,\n",
    ") -> int:\n",
    "    iamClient = handle.client('acm', region_name=region)\n",
    "    result = iamClient.describe_certificate(CertificateArn=aws_certificate_arn)\n",
    "    for k,v in result['Certificate'].items():\n",
    "        if k == \"NotAfter\":\n",
    "            val = v\n",
    "            right_now = datetime.datetime.now(dateutil.tz.tzlocal())\n",
    "            diff = val-right_now\n",
    "            days_remaining = diff.days\n",
    "\n",
    "            if days_remaining < 30 and days_remaining > 0:\n",
    "                days = days_remaining\n",
    "            elif days_remaining<0:\n",
    "                days = days_remaining\n",
    "            elif days_remaining >30:\n",
    "                days = days_remaining\n",
    "            return days\n",
    "\n",
    "\n",
    "task = Task(Workflow())\n",
    "task.configure(outputName=\"days_remaining\")\n",
    "(err, hdl, args) = task.validate(vars=vars())\n",
    "if err is None:\n",
    "    task.execute(aws_check_ssl_certificate_expiry, lego_printer=aws_check_ssl_certificate_expiry_printer, hdl=hdl, args=args)"
   ]
  },
  {
   "cell_type": "markdown",
   "id": "07c3c8d5-0454-4cde-a74e-69dbd691b411",
   "metadata": {
    "local_metadata": {
     "jupyter": {
      "source_hidden": false
     },
     "name": "Post Slack Message",
     "orderProperties": [],
     "tags": [],
     "title": "Post Slack Message"
    },
    "remote_metadata": {
     "name": "Post Slack Message",
     "orderProperties": [],
     "tags": [],
     "title": "Post Slack Message"
    }
   },
   "source": [
    "Here we will take the number of days remaining as input and check in the 'Start Condition' if the days remaining are less than 30 and if yes, send a message on the selected slack channel "
   ]
  },
  {
   "cell_type": "code",
   "execution_count": 6,
   "id": "f80c4af6-06ad-4bc5-aef1-0f9ad62eb038",
   "metadata": {
    "accessType": "ACCESS_TYPE_UNSPECIFIED",
    "actionBashCommand": false,
    "actionNeedsCredential": true,
    "actionRequiredLinesInCode": [],
    "actionSupportsIteration": true,
    "actionSupportsPoll": true,
    "action_uuid": "6a87f83ab0ecfeecb9c98d084e2b1066c26fa64be5b4928d5573a5d60299802d",
    "condition_enabled": true,
    "continueOnError": false,
    "createTime": "1970-01-01T00:00:00Z",
    "credentialsJson": {},
    "currentVersion": "0.1.0",
    "description": "Post Slack Message",
    "execution_data": {
     "last_date_success_run_cell": "2022-09-12T11:44:08.551Z"
    },
    "id": 63,
    "index": 63,
    "inputData": [
    ],
    "inputschema": [
     {
      "properties": {
       "channel": {
        "description": "Name of the slack channel where the message to be posted",
        "title": "Channel",
        "type": "string"
       },
       "message": {
        "description": "Message to be sent",
        "title": "Message",
        "type": "string"
       }
      },
      "required": [
       "channel",
       "message"
      ],
      "title": "slack_post_message",
      "type": "object"
     }
    ],
    "jupyter": {
     "source_hidden": true
    },
    "legotype": "LEGO_TYPE_SLACK",
    "name": "Post Slack Message",
    "nouns": [
     "slack",
     "message"
    ],
    "orderProperties": [
     "channel",
     "message"
    ],
    "output": {
     "type": ""
    },
    "startcondition": "days_remaining<30",
    "tags": [
     "slack_post_message"
    ],
    "verbs": [
     "post"
    ]
   },
   "outputs": [],
   "source": [
    "##\n",
    "# Copyright (c) 2021 unSkript, Inc\n",
    "# All rights reserved.\n",
    "##\n",
    "\n",
    "import pprint\n",
    "\n",
    "from pydantic import BaseModel, Field\n",
    "from slack_sdk import WebClient\n",
    "from slack_sdk.errors import SlackApiError\n",
    "\n",
    "pp = pprint.PrettyPrinter(indent=2)\n",
    "\n",
    "\n",
    "from beartype import beartype\n",
    "@beartype\n",
    "def slack_post_message_printer(output):\n",
    "    if output is not None:\n",
    "        pprint.pprint(output)\n",
    "    else:\n",
    "        return\n",
    "\n",
    "\n",
    "@beartype\n",
    "def slack_post_message(\n",
    "        handle: WebClient,\n",
    "        channel: str,\n",
    "        message: str) -> str:\n",
    "\n",
    "    try:\n",
    "        response = handle.chat_postMessage(\n",
    "            channel=channel,\n",
    "            text=message)\n",
    "        return f\"Successfuly Sent Message on Channel: #{channel}\"\n",
    "    except SlackApiError as e:\n",
    "        pp.pprint(\n",
    "            f\"Failed sending message to slack channel {channel}, Error: {e.response['error']}\")\n",
    "        if e.response['error'] == 'channel_not_found':\n",
    "            raise Exception('Channel Not Found')\n",
    "        elif e.response['error'] == 'duplicate_channel_not_found':\n",
    "            raise Exception('Channel associated with the message_id not valid')\n",
    "        elif e.response['error'] == 'not_in_channel':\n",
    "            raise Exception('Cannot post message to channel user is not in')\n",
    "        elif e.response['error'] == 'is_archived':\n",
    "            raise Exception('Channel has been archived')\n",
    "        elif e.response['error'] == 'msg_too_long':\n",
    "            raise Exception('Message text is too long')\n",
    "        elif e.response['error'] == 'no_text':\n",
    "            raise Exception('Message text was not provided')\n",
    "        elif e.response['error'] == 'restricted_action':\n",
    "            raise Exception('Workspace preference prevents user from posting')\n",
    "        elif e.response['error'] == 'restricted_action_read_only_channel':\n",
    "            raise Exception('Cannot Post message, read-only channel')\n",
    "        elif e.response['error'] == 'team_access_not_granted':\n",
    "            raise Exception('The token used is not granted access to the workspace')\n",
    "        elif e.response['error'] == 'not_authed':\n",
    "            raise Exception('No Authtnecition token provided')\n",
    "        elif e.response['error'] == 'invalid_auth':\n",
    "            raise Exception('Some aspect of Authentication cannot be validated. Request denied')\n",
    "        elif e.response['error'] == 'access_denied':\n",
    "            raise Exception('Access to a resource specified in the request denied')\n",
    "        elif e.response['error'] == 'account_inactive':\n",
    "            raise Exception('Authentication token is for a deleted user')\n",
    "        elif e.response['error'] == 'token_revoked':\n",
    "            raise Exception('Authentication token for a deleted user has been revoked')\n",
    "        elif e.response['error'] == 'no_permission':\n",
    "            raise Exception('The workspace toekn used does not have necessary permission to send message')\n",
    "        elif e.response['error'] == 'ratelimited':\n",
    "            raise Exception('The request has been ratelimited. Retry sending message later')\n",
    "        elif e.response['error'] == 'service_unavailable':\n",
    "            raise Exception('The service is temporarily unavailable')\n",
    "        elif e.response['error'] == 'fatal_error':\n",
    "            raise Exception('The server encountered catostrophic error while sending message')\n",
    "        elif e.response['error'] == 'internal_error':\n",
    "            raise Exception('The server could not complete operation, likely due to transietn issue')\n",
    "        elif e.response['error'] == 'request_timeout':\n",
    "            raise Exception('Sending message error via POST: either message was missing or truncated')\n",
    "        else:\n",
    "            raise Exception(f'Failed Sending Message to slack channel {channel} Error: {e.response[\"error\"]}')\n",
    "\n",
    "    except Exception as e:\n",
    "        print(\"\\n\\n\")\n",
    "        pp.pprint(\n",
    "            f\"Failed sending message to slack channel {channel}, Error: {e.__str__()}\")\n",
    "        return f\"Unable to send message on {channel}\"\n",
    "\n",
    "\n",
    "task = Task(Workflow())\n",
    "task.configure(conditionsJson='''{\n",
    "    \"condition_enabled\": true,\n",
    "    \"condition_cfg\": \"days_remaining<30\",\n",
    "    \"condition_result\": true\n",
    "    }''')\n",
    "\n",
    "(err, hdl, args) = task.validate(vars=vars())\n",
    "if err is None:\n",
    "    task.execute(slack_post_message, lego_printer=slack_post_message_printer, hdl=hdl, args=args)"
   ]
  },
  {
   "cell_type": "markdown",
   "id": "42bcbc70",
   "metadata": {},
   "source": [
    "<h3>Conclusion</h3>\n",
    "<p>In this Runbook, we demonstrated the use of unSkript's legos to send a reminder to renew SSL Certificate to your Slack channel. To view the full platform capabilities of unSkript please visit <a href=\"https://unskript.com\">https://unskript.com</a></p>"
   ]
  }
 ],
 "metadata": {
  "kernelspec": {
   "display_name": "Python 3.10.4 ('test')",
   "language": "python",
   "name": "python3"
  },
  "language_info": {
   "name": "python",
   "version": "3.10.4"
  },
  "nbdime-conflicts": {
   "local_diff": [
    {
     "key": "execution_data",
     "op": "add",
     "value": {
      "environment_id": "1499f27c-6406-4fbd-bd1b-c6f92800018f",
      "environment_name": "Staging",
      "execution_id": "",
      "inputs_for_searched_lego": "",
      "notebook_id": "511cbcd7-7fbd-4208-ad16-3aaf76673806.ipynb",
      "parameters": null,
      "runbook_name": "Renew_SSL_Certificate",
      "search_string": "",
      "show_tool_tip": false,
      "tenant_id": "982dba5f-d9df-48ae-a5bf-ec1fc94d4882",
      "tenant_url": "https://tenant-staging.alpha.unskript.io",
      "user_email_id": "shloka@unskript.com",
      "workflow_id": "f3d01f73-a619-422a-9b31-1e4212414d48"
     }
    },
    {
     "key": "kernelspec",
     "op": "add",
     "value": {
      "display_name": "Python 3.10.6 64-bit",
      "language": "python",
      "name": "python3"
     }
    },
    {
     "key": "language_info",
     "op": "add",
     "value": {
      "file_extension": ".py",
      "mimetype": "text/x-python",
      "name": "python",
      "pygments_lexer": "ipython3",
      "version": "3.10.6"
     }
    }
   ],
   "remote_diff": [
    {
     "key": "execution_data",
     "op": "add",
     "value": {
      "environment_id": "1499f27c-6406-4fbd-bd1b-c6f92800018f",
      "environment_name": "Staging",
      "execution_id": "",
      "inputs_for_searched_lego": "",
      "notebook_id": "e40d2376-0639-4328-acd5-656b2ad3a46c.ipynb",
      "parameters": null,
      "runbook_name": "Renew SSL Certificate",
      "search_string": "",
      "show_tool_tip": false,
      "tenant_id": "982dba5f-d9df-48ae-a5bf-ec1fc94d4882",
      "tenant_url": "https://tenant-staging.alpha.unskript.io",
      "user_email_id": "shloka@unskript.com",
      "workflow_id": "f3d01f73-a619-422a-9b31-1e4212414d48"
     }
    },
    {
     "key": "kernelspec",
     "op": "add",
     "value": {
      "display_name": "unSkript (Build: 544)",
      "name": "python_kubernetes"
     }
    },
    {
     "key": "language_info",
     "op": "add",
     "value": {
      "file_extension": ".py",
      "mimetype": "text/x-python",
      "name": "python",
      "pygments_lexer": "ipython3"
     }
    }
   ]
  },
  "parameterSchema": {
   "properties": {},
   "required": [],
   "title": "Schema",
   "type": "object"
  },
  "parameterValues": null,
  "vscode": {
   "interpreter": {
    "hash": "4bbe27a4ef15b3fedcd2e654ecc35fc9b20de5c40077b83d62753092d26a6932"
   }
  }
 },
 "nbformat": 4,
 "nbformat_minor": 5
}
