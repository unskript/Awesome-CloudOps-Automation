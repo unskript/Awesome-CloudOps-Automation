{
    "nbformat": 4,
    "nbformat_minor": 5,
    "metadata": {
        "kernelspec": {
            "name": "python_kubernetes",
            "display_name": "unSkript (Build: 544)"
        },
        "language_info": {
            "name": "python",
            "file_extension": ".py",
            "mimetype": "text/x-python",
            "pygments_lexer": "ipython3"
        },
        "execution_data": {
            "workflow_id": "f3d01f73-a619-422a-9b31-1e4212414d48",
            "execution_id": "",
            "notebook_id": "e40d2376-0639-4328-acd5-656b2ad3a46c.ipynb",
            "tenant_id": "982dba5f-d9df-48ae-a5bf-ec1fc94d4882",
            "tenant_url": "https://tenant-staging.alpha.unskript.io",
            "environment_id": "1499f27c-6406-4fbd-bd1b-c6f92800018f",
            "parameters": null,
            "runbook_name": "Renew SSL Certificate",
            "environment_name": "Staging",
            "show_tool_tip": false,
            "search_string": "",
            "inputs_for_searched_lego": "",
            "user_email_id": "shloka@unskript.com"
        },
        "parameterSchema": {
            "properties": {},
            "required": [],
            "title": "Schema",
            "type": "object"
        },
        "parameterValues": null
    },
    "cells": [
        {
            "id": "4de93a39-7d0e-4a5a-8ac1-8d7b6987bf81",
            "cell_type": "code",
            "metadata": {
                "actionNeedsCredential": false,
                "actionSupportsIteration": false,
                "actionSupportsPoll": false,
                "deletable": false,
                "editable": false,
                "jupyter": {
                    "source_hidden": true
                },
                "orderProperties": [],
                "tags": [
                    "unSkript:nbParam"
                ],
                "title": [
                    "unSkript Internal"
                ],
                "trusted": true
            },
            "source": "import json\nfrom unskript import nbparams\nfrom unskript.secrets import ENV_MODE, ENV_MODE_AWS\nfrom unskript.fwk.workflow import Task, Workflow\n\nenv = {\"ENV_MODE\":\"ENV_MODE_AWS\",\"TENANT_ID\":\"982dba5f-d9df-48ae-a5bf-ec1fc94d4882\",\"ENVIRONMENT_ID\":\"1499f27c-6406-4fbd-bd1b-c6f92800018f\",\"TENANT_URL\":\"https://tenant-staging.alpha.unskript.io\",\"AWS_REGION\":\"us-west-2\"}\nsecret_store_cfg = {\"SECRET_STORE_TYPE\":\"SECRET_STORE_TYPE_AWS\",\"AWS_SECRET_PREFIX\":\"staging\",\"AWS_REGION\":\"us-west-2\"}\nparamDict = {}\nparamDict.update(env)\nparamDict.update(secret_store_cfg)\nparamsJson = json.dumps(paramDict)\nnbParamsObj = nbparams.NBParams(paramsJson)\n\nw = Workflow(env, secret_store_cfg, None, global_vars=globals())",
            "execution_count": 4,
            "outputs": []
        },
        {
            "id": "b18495bb-19ba-4b43-9824-8739dd304b90",
            "cell_type": "markdown",
            "metadata": {
                "jupyter": {
                    "source_hidden": false
                },
                "name": "Check SSL Certificate Expiry",
                "orderProperties": [],
                "tags": [],
                "title": "Check SSL Certificate Expiry"
            },
            "source": "<img src=\"https://unskript.com/assets/favicon.png\" alt=\"unSkript.com\" width=\"100\" height=\"100\"/> \n<h1> unSkript Runbooks </h1>\n<div class=\"alert alert-block alert-success\">\n    <b> This runbook demonstrates how to check SSL Certificate expiration date and send a reminder message to the Slack channel using unSkript legos.</b>\n</div>\n\n<br>\n\n<center><h2>Renew SSL Certificate</h2></center>\n\n# Steps Overview\n    1) Fetch SSL Certificate expiration date from the AWS ACM (Amazon Certificate Manager).\n    2) Send a message to Slack ONLY if the number of days remaining are less than 30 days.",
            "execution_count": null,
            "outputs": []
        },
        {
            "id": "c52f7b11-cca5-4bde-8641-995f5c9e2f43",
            "cell_type": "markdown",
            "metadata": {
                "name": "Check SSL Certificate Expiry Date",
                "orderProperties": [],
                "tags": [],
                "title": "Check SSL Certificate Expiry Date"
            },
            "source": "In this lego we will check the expiration date of the SSL Certificate and return the number of days remaining before renewal",
            "execution_count": null,
            "outputs": []
        },
        {
            "id": "ff009de1-fce8-42b0-823b-1e04c6ac32f8",
            "cell_type": "code",
            "metadata": {
                "accessType": "ACCESS_TYPE_UNSPECIFIED",
                "actionBashCommand": false,
                "actionNeedsCredential": true,
                "actionRequiredLinesInCode": [],
                "actionSupportsIteration": true,
                "actionSupportsPoll": true,
                "action_uuid": "afacde59-a401-4a8b-901d-46c4b3970b78",
                "continueOnError": false,
                "createTime": "2022-07-27T16:51:48Z",
                "credentialsJson": {
                },
                "currentVersion": "v0.0.0",
                "description": "Test",
                "execution_data": {
                    "last_date_success_run_cell": "2022-09-12T11:42:53.934Z"
                },
                "id": 100001,
                "index": 100001,
                "inputData": [
                    {
                        "aws_certificate_arn": {
                            "constant": false,
                            "value": "\"arn:aws:acm:us-west-2:100498623390:certificate/22861cb3-313e-44b9-b0c4-1a10a6f6f105\""
                        },
                        "region": {
                            "constant": false,
                            "value": "\"us-west-2\""
                        }
                    }
                ],
                "inputschema": [
                    {
                        "properties": {
                            "aws_certificate_arn": {
                                "default": "",
                                "description": "Certificate ARN",
                                "title": "aws_certificate_arn",
                                "type": "string"
                            },
                            "region": {
                                "default": "",
                                "description": "Region Name",
                                "title": "region",
                                "type": "string"
                            }
                        },
                        "required": [
                            "instance_ids",
                            "region"
                        ],
                        "title": "aws_restart_ec2_instances_test",
                        "type": "object"
                    }
                ],
                "jupyter": {
                    "source_hidden": true
                },
                "legotype": "LEGO_TYPE_AWS",
                "name": "Check SSL Certificate Expiry",
                "nouns": [],
                "orderProperties": [
                    "aws_certificate_arn",
                    "region"
                ],
                "output": {
                    "type": ""
                },
                "outputParams": {
                    "output_name": "days_remaining",
                    "output_name_enabled": true
                },
                "tags": [],
                "title": "Check SSL Certificate Expiry",
                "trusted": true,
                "verbs": []
            },
            "source": "##  Copyright (c) 2021 unSkript, Inc\n##  All rights reserved.\n##\nfrom typing import List, Dict\nfrom pydantic import BaseModel, Field\nimport pprint\nimport datetime\nimport dateutil\n\n\nfrom beartype import beartype\n@beartype\ndef aws_check_ssl_certificate_expiry_printer(output):\n    if output is None:\n        return\n    pprint.pprint(\"Your SSL certificate is expiring in \" + str(output) + \" \" + \"days\")\n\n\n@beartype\ndef aws_check_ssl_certificate_expiry(\n    handle,\n    aws_certificate_arn: str,\n    region: str,\n) -> int:\n    iamClient = handle.client('acm', region_name=region)\n    result = iamClient.describe_certificate(CertificateArn=aws_certificate_arn)\n    for k,v in result['Certificate'].items():\n        if k == \"NotAfter\":\n            val = v\n            right_now = datetime.datetime.now(dateutil.tz.tzlocal())\n            diff = val-right_now\n            days_remaining = diff.days\n            if days_remaining < 30:\n                return days_remaining\n\n\ntask = Task(Workflow())\ntask.configure(credentialsJson='''{\n    \"credential_name\": \"DevRole\",\n    \"credential_type\": \"CONNECTOR_TYPE_AWS\",\n    \"credential_id\": \"0b438eba-0627-4f6d-b998-a4c604f20e3c\"\n}''')\ntask.configure(inputParamsJson='''{\n    \"aws_certificate_arn\": \"\\\\\"arn:aws:acm:us-west-2:100498623390:certificate/22861cb3-313e-44b9-b0c4-1a10a6f6f105\\\\\"\",\n    \"region\": \"\\\\\"us-west-2\\\\\"\"\n    }''')\ntask.configure(outputName=\"days_remaining\")\n(err, hdl, args) = task.validate(vars=vars())\nif err is None:\n    task.execute(aws_check_ssl_certificate_expiry, lego_printer=aws_check_ssl_certificate_expiry_printer, hdl=hdl, args=args)",
            "execution_count": 5,
            "outputs": []
        },
        {
            "id": "07c3c8d5-0454-4cde-a74e-69dbd691b411",
            "cell_type": "markdown",
            "metadata": {
                "name": "Post Slack Message",
                "orderProperties": [],
                "tags": [],
                "title": "Post Slack Message"
            },
            "source": "Here we will take the number of days remaining as input and check in the 'Start Condition' if the days remaining are less than 30 and if yes, send a message on the selected slack channel ",
            "execution_count": null,
            "outputs": []
        },
        {
            "id": "f80c4af6-06ad-4bc5-aef1-0f9ad62eb038",
            "cell_type": "code",
            "metadata": {
                "accessType": "ACCESS_TYPE_UNSPECIFIED",
                "actionBashCommand": false,
                "actionNeedsCredential": true,
                "actionRequiredLinesInCode": [],
                "actionSupportsIteration": true,
                "actionSupportsPoll": true,
                "action_uuid": "6a87f83ab0ecfeecb9c98d084e2b1066c26fa64be5b4928d5573a5d60299802d",
                "condition_enabled": true,
                "continueOnError": false,
                "createTime": "1970-01-01T00:00:00Z",
                "credentialsJson": {
                },
                "currentVersion": "0.1.0",
                "description": "Post Slack Message",
                "execution_data": {
                    "last_date_success_run_cell": "2022-09-12T11:44:08.551Z"
                },
                "id": 63,
                "index": 63,
                "inputData": [
                    {
                        "channel": {
                            "constant": false,
                            "value": "\"dummy\""
                        },
                        "message": {
                            "constant": false,
                            "value": "\"Your SSL certificate is expiring in {} days\".format(days_remaining)"
                        }
                    }
                ],
                "inputschema": [
                    {
                        "properties": {
                            "channel": {
                                "description": "Name of the slack channel where the message to be posted",
                                "title": "Channel",
                                "type": "string"
                            },
                            "message": {
                                "description": "Message to be sent",
                                "title": "Message",
                                "type": "string"
                            }
                        },
                        "required": [
                            "channel",
                            "message"
                        ],
                        "title": "slack_post_message",
                        "type": "object"
                    }
                ],
                "jupyter": {
                    "source_hidden": true
                },
                "legotype": "LEGO_TYPE_SLACK",
                "name": "Post Slack Message",
                "nouns": [
                    "slack",
                    "message"
                ],
                "orderProperties": [
                    "channel",
                    "message"
                ],
                "output": {
                    "type": ""
                },
                "startcondition": "days_remaining<30",
                "tags": [
                    "slack_post_message"
                ],
                "trusted": true,
                "verbs": [
                    "post"
                ]
            },
            "source": "##\n# Copyright (c) 2021 unSkript, Inc\n# All rights reserved.\n##\n\nimport pprint\n\nfrom pydantic import BaseModel, Field\nfrom slack_sdk import WebClient\nfrom slack_sdk.errors import SlackApiError\n\npp = pprint.PrettyPrinter(indent=2)\n\n\nfrom beartype import beartype\n@beartype\ndef slack_post_message_printer(output):\n    if output is not None:\n        pprint.pprint(output)\n    else:\n        return\n\n\n@beartype\ndef slack_post_message(\n        handle: WebClient,\n        channel: str,\n        message: str) -> str:\n\n    try:\n        response = handle.chat_postMessage(\n            channel=channel,\n            text=message)\n        return f\"Successfuly Sent Message on Channel: #{channel}\"\n    except SlackApiError as e:\n        pp.pprint(\n            f\"Failed sending message to slack channel {channel}, Error: {e.response['error']}\")\n        if e.response['error'] == 'channel_not_found':\n            raise Exception('Channel Not Found')\n        elif e.response['error'] == 'duplicate_channel_not_found':\n            raise Exception('Channel associated with the message_id not valid')\n        elif e.response['error'] == 'not_in_channel':\n            raise Exception('Cannot post message to channel user is not in')\n        elif e.response['error'] == 'is_archived':\n            raise Exception('Channel has been archived')\n        elif e.response['error'] == 'msg_too_long':\n            raise Exception('Message text is too long')\n        elif e.response['error'] == 'no_text':\n            raise Exception('Message text was not provided')\n        elif e.response['error'] == 'restricted_action':\n            raise Exception('Workspace preference prevents user from posting')\n        elif e.response['error'] == 'restricted_action_read_only_channel':\n            raise Exception('Cannot Post message, read-only channel')\n        elif e.response['error'] == 'team_access_not_granted':\n            raise Exception('The token used is not granted access to the workspace')\n        elif e.response['error'] == 'not_authed':\n            raise Exception('No Authtnecition token provided')\n        elif e.response['error'] == 'invalid_auth':\n            raise Exception('Some aspect of Authentication cannot be validated. Request denied')\n        elif e.response['error'] == 'access_denied':\n            raise Exception('Access to a resource specified in the request denied')\n        elif e.response['error'] == 'account_inactive':\n            raise Exception('Authentication token is for a deleted user')\n        elif e.response['error'] == 'token_revoked':\n            raise Exception('Authentication token for a deleted user has been revoked')\n        elif e.response['error'] == 'no_permission':\n            raise Exception('The workspace toekn used does not have necessary permission to send message')\n        elif e.response['error'] == 'ratelimited':\n            raise Exception('The request has been ratelimited. Retry sending message later')\n        elif e.response['error'] == 'service_unavailable':\n            raise Exception('The service is temporarily unavailable')\n        elif e.response['error'] == 'fatal_error':\n            raise Exception('The server encountered catostrophic error while sending message')\n        elif e.response['error'] == 'internal_error':\n            raise Exception('The server could not complete operation, likely due to transietn issue')\n        elif e.response['error'] == 'request_timeout':\n            raise Exception('Sending message error via POST: either message was missing or truncated')\n        else:\n            raise Exception(f'Failed Sending Message to slack channel {channel} Error: {e.response[\"error\"]}')\n\n    except Exception as e:\n        print(\"\\n\\n\")\n        pp.pprint(\n            f\"Failed sending message to slack channel {channel}, Error: {e.__str__()}\")\n        return f\"Unable to send message on {channel}\"\n\n\ntask = Task(Workflow())\ntask.configure(credentialsJson='''{\n    \"credential_name\": \"unSkript\",\n    \"credential_type\": \"CONNECTOR_TYPE_SLACK\",\n    \"credential_id\": \"b1adafe4-6593-484d-8fc1-e40799378e9a\"\n}''')\ntask.configure(inputParamsJson='''{\n    \"channel\": \"\\\\\"dummy\\\\\"\",\n    \"message\": \"\\\\\"Your SSL certificate is expiring in {} days\\\\\".format(days_remaining)\"\n    }''')\ntask.configure(conditionsJson='''{\n    \"condition_enabled\": true,\n    \"condition_cfg\": \"days_remaining<30\",\n    \"condition_result\": true\n    }''')\n\n(err, hdl, args) = task.validate(vars=vars())\nif err is None:\n    task.execute(slack_post_message, lego_printer=slack_post_message_printer, hdl=hdl, args=args)",
            "execution_count": 6,
            "outputs": []
        }
    ]
}