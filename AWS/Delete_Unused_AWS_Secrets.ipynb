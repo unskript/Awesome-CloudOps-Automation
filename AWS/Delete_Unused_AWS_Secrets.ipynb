{
 "cells": [
  {
   "cell_type": "markdown",
   "id": "5424264e-6195-4cf9-906b-24b02d5a83f3",
   "metadata": {
    "jupyter": {
     "source_hidden": false
    },
    "name": "Steps Overview",
    "orderProperties": [],
    "tags": [],
    "title": "Steps Overview"
   },
   "source": [
    "<center><img src=\"https://storage.googleapis.com/unskript-website/assets/favicon.png\" alt=\"unSkript.com\" width=\"100\" height=\"100\">\n",
    "<h1 id=\"unSkript-Runbooks\">unSkript Runbooks<a class=\"jp-InternalAnchorLink\" href=\"#unSkript-Runbooks\" target=\"_self\">&para;</a></h1>\n",
    "<div class=\"alert alert-block alert-success\">\n",
    "<h3 id=\"Objective\">Objective<a class=\"jp-InternalAnchorLink\" href=\"#Objective\" target=\"_self\">&para;</a></h3>\n",
    "<br><strong style=\"color: #000000;\"><em>Find and Delete unused AWS Secrets</em></strong></div>\n",
    "</center>\n",
    "<p>&nbsp;</p>\n",
    "<center>\n",
    "<h2 id=\"Notify-unused-keypairs\"><u>Delete Unused AWS Secrets</u></h2>\n",
    "</center>\n",
    "<h1 id=\"Steps-Overview\">Steps Overview<a class=\"jp-InternalAnchorLink\" href=\"#Steps-Overview\" target=\"_self\">&para;</a></h1>\n",
    "<p>1)<a href=\"#1\" target=\"_self\" rel=\"noopener\"> Find unused secrets</a><br>2)<a href=\"#2\" target=\"_self\" rel=\"noopener\"> Delete unused secrets</a></p>"
   ]
  },
  {
   "cell_type": "code",
   "execution_count": 24,
   "id": "714462ea-93a8-4e2e-b1b8-50480b857662",
   "metadata": {
    "collapsed": true,
    "customAction": true,
    "execution_data": {
     "last_date_success_run_cell": "2023-04-18T13:47:33.098Z"
    },
    "jupyter": {
     "outputs_hidden": true,
     "source_hidden": true
    },
    "name": "Input Verification",
    "orderProperties": [],
    "tags": [],
    "title": "Input Verification",
    "trusted": true,
    "credentialsJson": {}
   },
   "outputs": [],
   "source": [
    "if secret_names and not region:\n",
    "    raise SystemExit(\"Provide a region for the AWS Secret ID's!\")"
   ]
  },
  {
   "cell_type": "markdown",
   "id": "6f0aee52-e61c-42e4-8f08-00d831f58bc2",
   "metadata": {
    "jupyter": {
     "source_hidden": false
    },
    "name": "Step 1A",
    "orderProperties": [],
    "tags": [],
    "title": "Step 1A"
   },
   "source": [
    "<h3 id=\"List-all-AWS-Regions\">List all AWS Regions</h3>\n",
    "<p>This action fetches all AWS Regions to execute Step 1\ud83d\udc47. This action will only execute if no <code>region</code> is provided.</p>\n",
    "<blockquote>\n",
    "<p>This action takes the following parameters: <code>None</code></p>\n",
    "</blockquote>\n",
    "<blockquote>\n",
    "<p>This action captures the following ouput: <code>region</code></p>\n",
    "</blockquote>"
   ]
  },
  {
   "cell_type": "code",
   "execution_count": 25,
   "id": "8aa165d7-f890-44ea-935e-05cfb5ef66e4",
   "metadata": {
    "accessType": "ACCESS_TYPE_UNSPECIFIED",
    "actionBashCommand": false,
    "actionCategories": [
     "CATEGORY_TYPE_CLOUDOPS",
     "CATEGORY_TYPE_DEVOPS",
     "CATEGORY_TYPE_SRE",
     "CATEGORY_TYPE_AWS"
    ],
    "actionIsCheck": false,
    "actionNeedsCredential": true,
    "actionNextHop": [],
    "actionNextHopParameterMapping": {},
    "actionOutputType": "",
    "actionRequiredLinesInCode": [],
    "actionSupportsIteration": true,
    "actionSupportsPoll": true,
    "action_modified": false,
    "action_uuid": "708ea4af5f8fe7096a15b3a52c4a657606bab9e177386fad7a847341ed607d64",
    "checkEnabled": false,
    "condition_enabled": true,
    "createTime": "1970-01-01T00:00:00Z",
    "currentVersion": "0.1.0",
    "description": "List all available AWS Regions",
    "execution_data": {
     "last_date_success_run_cell": "2023-04-18T13:47:42.323Z"
    },
    "id": 289,
    "index": 289,
    "inputschema": [
     {
      "properties": {},
      "title": "aws_list_all_regions",
      "type": "object"
     }
    ],
    "isUnskript": false,
    "jupyter": {
     "source_hidden": true
    },
    "legotype": "LEGO_TYPE_AWS",
    "name": "AWS List All Regions",
    "nouns": [
     "regions",
     "aws"
    ],
    "orderProperties": [],
    "output": {
     "type": ""
    },
    "outputParams": {
     "output_name": "region",
     "output_name_enabled": true,
     "output_runbook_enabled": false,
     "output_runbook_name": ""
    },
    "printOutput": true,
    "startcondition": "not region",
    "tags": [
     "aws_list_all_regions"
    ],
    "trusted": true,
    "verbs": [
     "list"
    ],
    "credentialsJson": {}
   },
   "outputs": [],
   "source": [
    "#\n",
    "# Copyright (c) 2021 unSkript.com\n",
    "# All rights reserved.\n",
    "#\n",
    "\n",
    "from pydantic import BaseModel, Field\n",
    "from typing import Dict, List\n",
    "import pprint\n",
    "\n",
    "from beartype import beartype\n",
    "@beartype\n",
    "def aws_list_all_regions_printer(output):\n",
    "    if output is None:\n",
    "        return\n",
    "    pprint.pprint(output)\n",
    "\n",
    "\n",
    "@beartype\n",
    "def aws_list_all_regions(handle) -> List:\n",
    "    \"\"\"aws_list_all_regions lists all the AWS regions\n",
    "\n",
    "        :type handle: object\n",
    "        :param handle: Object returned from Task Validate\n",
    "\n",
    "        :rtype: Result List of result\n",
    "    \"\"\"\n",
    "\n",
    "    result = handle.aws_cli_command(\"aws ec2 --region us-west-2 describe-regions --all-regions --query 'Regions[].{Name:RegionName}' --output text\")\n",
    "    if result is None or result.returncode != 0:\n",
    "        print(\"Error while executing command : {}\".format(result))\n",
    "        return str()\n",
    "    result_op = list(result.stdout.split(\"\\n\"))\n",
    "    list_region = [x for x in result_op if x != '']\n",
    "    return list_region\n",
    "\n",
    "\n",
    "task = Task(Workflow())\n",
    "task.configure(conditionsJson='''{\n",
    "    \"condition_enabled\": true,\n",
    "    \"condition_cfg\": \"not region\",\n",
    "    \"condition_result\": true\n",
    "    }''')\n",
    "task.configure(outputName=\"region\")\n",
    "\n",
    "task.configure(printOutput=True)\n",
    "(err, hdl, args) = task.validate(vars=vars())\n",
    "if err is None:\n",
    "    task.execute(aws_list_all_regions, lego_printer=aws_list_all_regions_printer, hdl=hdl, args=args)"
   ]
  },
  {
   "cell_type": "markdown",
   "id": "908f4dcb-8483-44fc-8f81-ce2502e03093",
   "metadata": {
    "jupyter": {
     "source_hidden": false
    },
    "name": "Step 1",
    "orderProperties": [],
    "tags": [],
    "title": "Step 1"
   },
   "source": [
    "<h3 id=\"Filter-unused-Secrets\"><a id=\"1\" target=\"_self\" rel=\"nofollow\"></a>Filter unused Secrets<a class=\"jp-InternalAnchorLink\" href=\"#Filter-unused-Secrets\" target=\"_self\">&para;</a></h3>\n",
    "<p>Using unSkript's Filter AWS Unused Secrets action, we will find unused secrets given a threshold number of days from their last use date. By default threshold number of days is set to <strong><span style=\"text-decoration: underline;\">30</span></strong>.</p>\n",
    "<blockquote>\n",
    "<p>This action takes the following parameters: <code>region, threhold_days</code></p>\n",
    "</blockquote>\n",
    "<blockquote>\n",
    "<p>This action captures the following output: <code>unused_secrets</code></p>\n",
    "</blockquote>"
   ]
  },
  {
   "cell_type": "code",
   "execution_count": 26,
   "id": "a00de0af-e858-4f13-bc7d-82002b154b7a",
   "metadata": {
    "accessType": "ACCESS_TYPE_UNSPECIFIED",
    "actionBashCommand": false,
    "actionCategories": [
     "CATEGORY_TYPE_IAM",
     "CATEGORY_TYPE_SECOPS",
     "CATEGORY_TYPE_COST_OPT"
    ],
    "actionIsCheck": true,
    "actionNeedsCredential": true,
    "actionNextHop": [],
    "actionNextHopParameterMapping": {},
    "actionOutputType": "",
    "actionRequiredLinesInCode": [],
    "actionSupportsIteration": true,
    "actionSupportsPoll": true,
    "action_modified": false,
    "action_uuid": "97f5fa81fca213403df2f1b3c17e6f83024b7df66f313f537abaa2a00dab745b",
    "checkEnabled": false,
    "condition_enabled": true,
    "continueOnError": true,
    "createTime": "1970-01-01T00:00:00Z",
    "currentVersion": "0.1.0",
    "description": "This action lists all the unused secrets from AWS by comparing the last used date with the given threshold.",
    "execution_data": {
     "last_date_success_run_cell": "2023-04-18T13:48:27.464Z"
    },
    "id": 283,
    "index": 283,
    "inputData": [
     {
      "max_age_days": {
       "constant": false,
       "value": "int(threshold_days)"
      },
      "region": {
       "constant": false,
       "value": "iter_item"
      }
     }
    ],
    "inputschema": [
     {
      "properties": {
       "max_age_days": {
        "default": 30,
        "description": "The threshold to check the last use of the secret.",
        "title": "Max Age Day's",
        "type": "integer"
       },
       "region": {
        "default": "",
        "description": "AWS Region.",
        "title": "Region",
        "type": "string"
       }
      },
      "title": "aws_list_unused_secrets",
      "type": "object"
     }
    ],
    "isUnskript": false,
    "iterData": [
     {
      "iter_enabled": true,
      "iter_item": "region",
      "iter_list": {
       "constant": false,
       "objectItems": false,
       "value": "region"
      }
     }
    ],
    "jupyter": {
     "source_hidden": true
    },
    "legotype": "LEGO_TYPE_AWS",
    "name": "AWS List Unused Secrets",
    "nouns": [],
    "orderProperties": [
     "region",
     "max_age_days"
    ],
    "output": {
     "type": ""
    },
    "outputParams": {
     "output_name": "unused_secrets",
     "output_name_enabled": true,
     "output_runbook_enabled": false,
     "output_runbook_name": ""
    },
    "printOutput": true,
    "startcondition": "not secret_names",
    "tags": [
     "aws_list_unused_secrets"
    ],
    "trusted": true,
    "verbs": [],
    "credentialsJson": {}
   },
   "outputs": [],
   "source": [
    "##\n",
    "##  Copyright (c) 2023 unSkript, Inc\n",
    "##  All rights reserved.\n",
    "##\n",
    "from pydantic import BaseModel, Field\n",
    "from typing import Optional, Tuple\n",
    "from unskript.connectors.aws import aws_get_paginator\n",
    "from datetime import datetime, timedelta\n",
    "from unskript.legos.aws.aws_list_all_regions.aws_list_all_regions import aws_list_all_regions\n",
    "import pprint\n",
    "import pytz\n",
    "\n",
    "\n",
    "from beartype import beartype\n",
    "@beartype\n",
    "def aws_list_unused_secrets_printer(output):\n",
    "    if output is None:\n",
    "        return\n",
    "    pprint.pprint(output)\n",
    "\n",
    "\n",
    "@beartype\n",
    "def aws_list_unused_secrets(handle, region: str = \"\", max_age_days: int = 30) -> Tuple:\n",
    "    \"\"\"aws_list_unused_secrets Returns an array of unused secrets.\n",
    "\n",
    "        :type region: string\n",
    "        :param region: AWS region.\n",
    "\n",
    "        :type max_age_days: int\n",
    "        :param max_age_days: The threshold to check the last use of the secret.\n",
    "\n",
    "        :rtype: Tuple with status result and list of unused secrets.\n",
    "    \"\"\"\n",
    "    result = []\n",
    "    all_regions = [region]\n",
    "    if not region:\n",
    "        all_regions = aws_list_all_regions(handle)\n",
    "\n",
    "    for reg in all_regions:\n",
    "        try:\n",
    "            # Filtering the secrets by region\n",
    "            ec2Client = handle.client('secretsmanager', region_name=reg)\n",
    "            res = aws_get_paginator(ec2Client, \"list_secrets\", \"SecretList\")\n",
    "            for secret in res:\n",
    "                secret_dict = {}\n",
    "                secret_id = secret['Name']\n",
    "                last_accessed_date = ec2Client.describe_secret(SecretId=secret_id)\n",
    "                if 'LastAccessedDate' in last_accessed_date:\n",
    "                    if last_accessed_date[\"LastAccessedDate\"] < datetime.now(pytz.UTC) - timedelta(days=int(max_age_days)):\n",
    "                        secret_dict[\"secret_name\"] = secret_id\n",
    "                        secret_dict[\"region\"] = reg\n",
    "                        result.append(secret_dict)\n",
    "                else:\n",
    "                    if last_accessed_date[\"CreatedDate\"] < datetime.now(pytz.UTC) - timedelta(days=int(max_age_days)):\n",
    "                        secret_dict[\"secret_name\"] = secret_id\n",
    "                        secret_dict[\"region\"] = reg\n",
    "                        result.append(secret_dict)\n",
    "        except Exception as e:\n",
    "            pass\n",
    "\n",
    "    if len(result) != 0:\n",
    "        return (False, result)\n",
    "    else:\n",
    "        return (True, None)\n",
    "\n",
    "\n",
    "task = Task(Workflow())\n",
    "task.configure(continueOnError=True)\n",
    "task.configure(inputParamsJson='''{\n",
    "    \"max_age_days\": \"int(threshold_days)\",\n",
    "    \"region\": \"iter_item\"\n",
    "    }''')\n",
    "task.configure(iterJson='''{\n",
    "    \"iter_enabled\": true,\n",
    "    \"iter_list_is_const\": false,\n",
    "    \"iter_list\": \"region\",\n",
    "    \"iter_parameter\": \"region\"\n",
    "    }''')\n",
    "task.configure(conditionsJson='''{\n",
    "    \"condition_enabled\": true,\n",
    "    \"condition_cfg\": \"not secret_names\",\n",
    "    \"condition_result\": true\n",
    "    }''')\n",
    "task.configure(outputName=\"unused_secrets\")\n",
    "\n",
    "task.configure(printOutput=True)\n",
    "(err, hdl, args) = task.validate(vars=vars())\n",
    "if err is None:\n",
    "    task.execute(aws_list_unused_secrets, lego_printer=aws_list_unused_secrets_printer, hdl=hdl, args=args)"
   ]
  },
  {
   "cell_type": "markdown",
   "id": "45c3142e-4eb4-4ae7-9522-08fff5207d1f",
   "metadata": {
    "jupyter": {
     "source_hidden": false
    },
    "name": "Step 2A",
    "orderProperties": [],
    "tags": [],
    "title": "Step 2A"
   },
   "source": [
    "<h3 id=\"Create-List-of-Unused-Secrets\">Create List of Unused Secrets</h3>\n",
    "<p>This action filters regions that have no unused secrets and creates a list of those that have them.</p>\n",
    "<blockquote>\n",
    "<p>This action takes the following parameters: <code>None</code></p>\n",
    "</blockquote>\n",
    "<blockquote>\n",
    "<p>This action captures the following output: <code>all_unused_secrets</code></p>\n",
    "</blockquote>"
   ]
  },
  {
   "cell_type": "code",
   "execution_count": 27,
   "id": "6a10e980-9f17-4436-9166-90ea130aa316",
   "metadata": {
    "collapsed": true,
    "customAction": true,
    "execution_data": {
     "last_date_success_run_cell": "2023-04-18T13:49:30.460Z"
    },
    "jupyter": {
     "outputs_hidden": true,
     "source_hidden": true
    },
    "name": "Create List of Unused Secrets",
    "orderProperties": [],
    "tags": [],
    "title": "Create List of Unused Secrets",
    "trusted": true,
    "credentialsJson": {}
   },
   "outputs": [],
   "source": [
    "all_unused_secrets = []\n",
    "dummy = []\n",
    "try:\n",
    "    for reg,res in unused_secrets.items():\n",
    "        if res[0]==False:\n",
    "            if len(res[1])!=0:\n",
    "                dummy = res[1]\n",
    "                for x in dummy:\n",
    "                    all_unused_secrets.append(x)\n",
    "except Exception:\n",
    "    for name in secret_names:\n",
    "        data_dict = {}\n",
    "        data_dict[\"region\"] = region[0]\n",
    "        data_dict[\"secret_name\"] = name\n",
    "        all_unused_secrets.append(data_dict)\n",
    "print(all_unused_secrets)\n",
    "task.configure(outputName=\"all_unused_secrets\")"
   ]
  },
  {
   "cell_type": "markdown",
   "id": "978d3b61-2fd9-461d-89bd-534d2dcf3b63",
   "metadata": {
    "jupyter": {
     "source_hidden": false
    },
    "name": "Step 2",
    "orderProperties": [],
    "tags": [],
    "title": "Step 2"
   },
   "source": [
    "<h3 id=\"Delete-unused-Secrets\"><a id=\"2\" target=\"_self\" rel=\"nofollow\"></a>Delete unused Secrets<a class=\"jp-InternalAnchorLink\" href=\"#Delete-unused-Secrets\" target=\"_self\">&para;</a></h3>\n",
    "<p>This action deleted unused secrets found in Step 1.&nbsp;</p>\n",
    "<blockquote>\n",
    "<p>This action takes the following parameters: <code>region, secret_name</code></p>\n",
    "</blockquote>"
   ]
  },
  {
   "cell_type": "code",
   "execution_count": null,
   "id": "2def0b0d-772b-4bee-896e-98463a564477",
   "metadata": {
    "accessType": "ACCESS_TYPE_UNSPECIFIED",
    "actionBashCommand": false,
    "actionCategories": [
     "CATEGORY_TYPE_DEVOPS",
     "CATEGORY_TYPE_SRE",
     "CATEGORY_TYPE_AWS"
    ],
    "actionIsCheck": false,
    "actionNeedsCredential": true,
    "actionNextHop": [],
    "actionNextHopParameterMapping": {},
    "actionOutputType": "",
    "actionRequiredLinesInCode": [],
    "actionSupportsIteration": true,
    "actionSupportsPoll": true,
    "action_modified": false,
    "action_uuid": "e83805f8b044c82cabcec54003ce692f54ab8781b70d6fde24b9915cb2b166a7",
    "checkEnabled": false,
    "condition_enabled": true,
    "continueOnError": true,
    "createTime": "1970-01-01T00:00:00Z",
    "currentVersion": "0.1.0",
    "description": "AWS Delete Secret",
    "id": 242,
    "index": 242,
    "inputData": [
     {
      "region": {
       "constant": false,
       "value": "\"iter.get(\\\\\"region\\\\\")\""
      },
      "secret_name": {
       "constant": false,
       "value": "\"iter.get(\\\\\"secret_name\\\\\")\""
      }
     }
    ],
    "inputschema": [
     {
      "properties": {
       "region": {
        "description": "AWS Region.",
        "title": "Region",
        "type": "string"
       },
       "secret_name": {
        "description": "Name of the secret to be deleted.",
        "title": "Secret Name",
        "type": "string"
       }
      },
      "required": [
       "secret_name",
       "region"
      ],
      "title": "aws_delete_secret",
      "type": "object"
     }
    ],
    "isUnskript": false,
    "iterData": [
     {
      "iter_enabled": true,
      "iter_item": {
       "region": "region",
       "secret_name": "secret_name"
      },
      "iter_list": {
       "constant": false,
       "objectItems": true,
       "value": "all_unused_secrets"
      }
     }
    ],
    "jupyter": {
     "source_hidden": true
    },
    "legotype": "LEGO_TYPE_AWS",
    "name": "AWS Delete Secret",
    "nouns": [],
    "orderProperties": [
     "secret_name",
     "region"
    ],
    "output": {
     "type": ""
    },
    "printOutput": true,
    "startcondition": "if len(all_unused_secrets)!=0",
    "tags": [
     "aws_delete_secret"
    ],
    "verbs": [],
    "credentialsJson": {}
   },
   "outputs": [],
   "source": [
    "##\n",
    "# Copyright (c) 2023 unSkript, Inc\n",
    "# All rights reserved.\n",
    "##\n",
    "from pydantic import BaseModel, Field\n",
    "from typing import Dict\n",
    "import pprint\n",
    "\n",
    "\n",
    "from beartype import beartype\n",
    "@beartype\n",
    "def aws_delete_secret_printer(output):\n",
    "    if output is None:\n",
    "        return\n",
    "    pprint.pprint(output)\n",
    "\n",
    "\n",
    "@beartype\n",
    "def aws_delete_secret(handle, region: str, secret_name: str) -> Dict:\n",
    "    \"\"\"aws_delete_secret Dict with secret details.\n",
    "\n",
    "        :type handle: object\n",
    "        :param handle: Object returned from Task Validate\n",
    "\n",
    "        :type secret_name: string\n",
    "        :param secret_name: Name of the secret to be deleted.\n",
    "\n",
    "        :type region: string\n",
    "        :param region: AWS Region.\n",
    "\n",
    "        :rtype: Dict with secret details.\n",
    "    \"\"\"\n",
    "    try:\n",
    "        secrets_client = handle.client('secretsmanager', region_name=region)\n",
    "        response = secrets_client.delete_secret(SecretId=secret_name)\n",
    "        return response\n",
    "    except Exception as e:\n",
    "        raise Exception(e)\n",
    "\n",
    "\n",
    "task = Task(Workflow())\n",
    "task.configure(continueOnError=True)\n",
    "task.configure(inputParamsJson='''{\n",
    "    \"region\": \"iter.get(\\\\\"region\\\\\")\",\n",
    "    \"secret_name\": \"iter.get(\\\\\"secret_name\\\\\")\"\n",
    "    }''')\n",
    "task.configure(iterJson='''{\n",
    "    \"iter_enabled\": true,\n",
    "    \"iter_list_is_const\": false,\n",
    "    \"iter_list\": \"all_unused_secrets\",\n",
    "    \"iter_parameter\": [\"region\",\"secret_name\"]\n",
    "    }''')\n",
    "task.configure(conditionsJson='''{\n",
    "    \"condition_enabled\": true,\n",
    "    \"condition_cfg\": \"if len(all_unused_secrets)!=0\",\n",
    "    \"condition_result\": true\n",
    "    }''')\n",
    "\n",
    "task.configure(printOutput=True)\n",
    "(err, hdl, args) = task.validate(vars=vars())\n",
    "if err is None:\n",
    "    task.execute(aws_delete_secret, lego_printer=aws_delete_secret_printer, hdl=hdl, args=args)"
   ]
  },
  {
   "cell_type": "markdown",
   "id": "44a6cf05-385b-445d-a503-ad4aa607a568",
   "metadata": {
    "jupyter": {
     "source_hidden": false
    },
    "name": "Conclusion",
    "orderProperties": [],
    "tags": [],
    "title": "Conclusion"
   },
   "source": [
    "<h3 id=\"Conclusion\">Conclusion</h3>\n",
    "<p>In this Runbook, we were able to filter unused secrets and delete those keys. To view the full platform capabilities of unSkript please visit&nbsp;<a href=\"https://us.app.unskript.io\" target=\"_blank\" rel=\"noopener\">us.app.unskript.io</a></p>"
   ]
  }
 ],
 "metadata": {
  "execution_data": {
   "runbook_name": "Delete Unused AWS Secrets",
   "parameters": [
    "region",
    "threshold_days"
   ]
  },
  "kernelspec": {
   "display_name": "Python 3.10.6 64-bit",
   "language": "python",
   "name": "python3"
  },
  "language_info": {
   "file_extension": ".py",
   "mimetype": "text/x-python",
   "name": "python",
   "pygments_lexer": "ipython3",
   "version": "3.10.6"
  },
  "outputParameterSchema": {
   "properties": {},
   "required": [],
   "title": "Schema",
   "type": "object"
  },
  "parameterSchema": {
   "properties": {
    "region": {
     "description": "AWS Regions to get the secrets from. Eg: [\"us-west-2\", \"ap-south-1\"]. If nothing is given all regions will be considered.",
     "title": "region",
     "type": "array"
    },
    "secret_names": {
     "description": "List of AWS Secret Names. Eg: [\"sbox-alex/mongodbsecret\",\"user1/importsecret\"]",
     "title": "secret_names",
     "type": "array"
    },
    "threshold_days": {
     "default": "30",
     "description": "The threshold number of days to check the last use of the secret.",
     "title": "threshold_days",
     "type": "string"
    }
   },
   "required": [],
   "title": "Schema",
   "type": "object"
  },
  "parameterValues": {},
  "vscode": {
   "interpreter": {
    "hash": "b0fa6594d8f4cbf19f97940f81e996739fb7646882a419484c72d19e05852a7e"
   }
  }
 },
 "nbformat": 4,
 "nbformat_minor": 5
}