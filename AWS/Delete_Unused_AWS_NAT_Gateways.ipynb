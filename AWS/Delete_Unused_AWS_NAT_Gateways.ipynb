{
 "cells": [
  {
   "cell_type": "markdown",
   "id": "82eebdfd-c880-40df-bd6d-5b546c92164b",
   "metadata": {
    "name": "Steps Overview",
    "orderProperties": [],
    "tags": [],
    "title": "Steps Overview"
   },
   "source": [
    "<center><img src=\"https://unskript.com/assets/favicon.png\" alt=\"unSkript.com\" width=\"100\" height=\"100\">\n",
    "<h1 id=\"unSkript-Runbooks\">unSkript Runbooks<a class=\"jp-InternalAnchorLink\" href=\"#unSkript-Runbooks\" target=\"_self\">&para;</a></h1>\n",
    "<div class=\"alert alert-block alert-success\">\n",
    "<h3 id=\"Objective\">Objective<a class=\"jp-InternalAnchorLink\" href=\"#Objective\" target=\"_self\">&para;</a></h3>\n",
    "<br><strong style=\"color: #000000;\"><em>Find and Delete unused NAT Gateways</em></strong></div>\n",
    "</center>\n",
    "<p>&nbsp;</p>\n",
    "<center>\n",
    "<h2 id=\"Delete-Unused-AWS-Log-Streams\"><u>Delete Unuse</u><span style=\"text-decoration: underline;\">d <strong style=\"color: rgb(0, 0, 0); text-decoration: underline;\">N</strong><strong style=\"color: rgb(0, 0, 0); text-decoration: underline;\">AT Gateways</strong></span></h2>\n",
    "</center>\n",
    "<h1 id=\"Steps-Overview\">Steps Overview</h1>\n",
    "<p>1)<a href=\"#1\" target=\"_self\" rel=\"noopener\"> Find unused NAT gateways</a><br>2)<a href=\"#2\" target=\"_self\" rel=\"noopener\"> Delete unused NAT gateways</a></p>"
   ]
  },
  {
   "cell_type": "code",
   "execution_count": null,
   "id": "1290c59b-9107-46c0-8f0b-8dce39e91ef9",
   "metadata": {
    "credentialsJson": {},
    "customAction": true,
    "jupyter": {
     "source_hidden": true
    },
    "name": "Input Verification",
    "orderProperties": [],
    "tags": [],
    "title": "Input Verification"
   },
   "outputs": {},
   "source": [
    "if nat_gateway_ids and not region:\n",
    "    raise SystemExit(\"Provide a region for the NAT Gateway ID's!\")"
   ]
  },
  {
   "cell_type": "markdown",
   "id": "93889351-e132-4fb5-9e3f-43fbba454161",
   "metadata": {
    "name": "Step 1A",
    "orderProperties": [],
    "tags": [],
    "title": "Step 1A"
   },
   "source": [
    "<h3 id=\"List-all-AWS-Regions\">List all AWS Regions</h3>\n",
    "<p>This action fetches all AWS Regions to execute Step 1\ud83d\udc47. This action will only execute if no <code>region</code> is provided.</p>\n",
    "<blockquote>\n",
    "<p>This action takes the following parameters: <code>None</code></p>\n",
    "</blockquote>\n",
    "<blockquote>\n",
    "<p>This action captures the following ouput: <code>region</code></p>\n",
    "</blockquote>"
   ]
  },
  {
   "cell_type": "code",
   "execution_count": 7,
   "id": "8a580cb0-7c57-4c8a-af46-f23f607931fa",
   "metadata": {
    "accessType": "ACCESS_TYPE_UNSPECIFIED",
    "actionBashCommand": false,
    "actionNeedsCredential": true,
    "actionOutputType": null,
    "actionRequiredLinesInCode": [],
    "actionSupportsIteration": true,
    "actionSupportsPoll": true,
    "action_modified": false,
    "action_uuid": "708ea4af5f8fe7096a15b3a52c4a657606bab9e177386fad7a847341ed607d64",
    "collapsed": true,
    "condition_enabled": true,
    "credentialsJson": {},
    "description": "List all available AWS Regions",
    "execution_data": {
     "last_date_success_run_cell": "2023-04-18T14:15:19.579Z"
    },
    "id": 1,
    "index": 1,
    "inputschema": [
     {
      "properties": {},
      "title": "aws_list_all_regions",
      "type": "object"
     }
    ],
    "jupyter": {
     "outputs_hidden": true,
     "source_hidden": true
    },
    "language": "python",
    "legotype": "LEGO_TYPE_AWS",
    "metadata": {
     "action_bash_command": false,
     "action_categories": [
      "CATEGORY_TYPE_CLOUDOPS",
      "CATEGORY_TYPE_DEVOPS",
      "CATEGORY_TYPE_SRE",
      "CATEGORY_TYPE_AWS"
     ],
     "action_description": "List all available AWS Regions",
     "action_entry_function": "aws_list_all_regions",
     "action_is_check": false,
     "action_is_remediation": false,
     "action_needs_credential": true,
     "action_next_hop": null,
     "action_next_hop_parameter_mapping": null,
     "action_nouns": [
      "regions",
      "aws"
     ],
     "action_output_type": "ACTION_OUTPUT_TYPE_LIST",
     "action_supports_iteration": true,
     "action_supports_poll": true,
     "action_title": "AWS List All Regions",
     "action_type": "LEGO_TYPE_AWS",
     "action_verbs": [
      "list"
     ],
     "action_version": "1.0.0"
    },
    "name": "AWS List All Regions",
    "orderProperties": [],
    "outputParams": {
     "output_name": "region",
     "output_name_enabled": true,
     "output_runbook_enabled": false,
     "output_runbook_name": ""
    },
    "printOutput": true,
    "startcondition": "not region",
    "tags": [
     "aws_list_all_regions"
    ],
    "uuid": "708ea4af5f8fe7096a15b3a52c4a657606bab9e177386fad7a847341ed607d64",
    "version": "1.0.0"
   },
   "outputs": {},
   "source": [
    "#\n",
    "# Copyright (c) 2021 unSkript.com\n",
    "# All rights reserved.\n",
    "#\n",
    "\n",
    "from pydantic import BaseModel, Field\n",
    "from typing import Dict, List\n",
    "import pprint\n",
    "\n",
    "from beartype import beartype\n",
    "@beartype\n",
    "def aws_list_all_regions_printer(output):\n",
    "    if output is None:\n",
    "        return\n",
    "    pprint.pprint(output)\n",
    "\n",
    "\n",
    "@beartype\n",
    "def aws_list_all_regions(handle) -> List:\n",
    "    \"\"\"aws_list_all_regions lists all the AWS regions\n",
    "\n",
    "        :type handle: object\n",
    "        :param handle: Object returned from Task Validate\n",
    "\n",
    "        :rtype: Result List of result\n",
    "    \"\"\"\n",
    "\n",
    "    result = handle.aws_cli_command(\"aws ec2 --region us-west-2 describe-regions --all-regions --query 'Regions[].{Name:RegionName}' --output text\")\n",
    "    if result is None or result.returncode != 0:\n",
    "        print(\"Error while executing command : {}\".format(result))\n",
    "        return str()\n",
    "    result_op = list(result.stdout.split(\"\\n\"))\n",
    "    list_region = [x for x in result_op if x != '']\n",
    "    return list_region\n",
    "\n",
    "\n",
    "task = Task(Workflow())\n",
    "task.configure(conditionsJson='''{\n",
    "    \"condition_enabled\": true,\n",
    "    \"condition_cfg\": \"not region\",\n",
    "    \"condition_result\": true\n",
    "    }''')\n",
    "\n",
    "task.configure(outputName=\"region\")\n",
    "\n",
    "task.configure(printOutput=True)\n",
    "(err, hdl, args) = task.validate(vars=vars())\n",
    "if err is None:\n",
    "    task.execute(aws_list_all_regions, lego_printer=aws_list_all_regions_printer, hdl=hdl, args=args)"
   ]
  },
  {
   "cell_type": "markdown",
   "id": "2020e8d0-ba3b-4c71-84b2-10917465a27e",
   "metadata": {
    "name": "Step 1",
    "orderProperties": [],
    "tags": [],
    "title": "Step 1"
   },
   "source": [
    "<h3 id=\"Filter-unused-log-streams\"><a id=\"1\" target=\"_self\" rel=\"nofollow\"></a>Filter unused NAT Gateways</h3>\n",
    "<p>Using unSkript's Filter AWS Find Unused NAT Gateways action, we will find unused gateways given a threshold number of days from the metric <span style=\"color: rgb(53, 152, 219);\">BytesIn</span>. If the metric gives an empty result, we consider the NAT Gateway to be unused in the last <em>x days.</em></p>\n",
    "<blockquote>\n",
    "<p>This action takes the following parameters: <code>region, threhold_days</code></p>\n",
    "</blockquote>\n",
    "<blockquote>\n",
    "<p>This action captures the following output: <code>unused_gateways</code></p>\n",
    "</blockquote>"
   ]
  },
  {
   "cell_type": "code",
   "execution_count": null,
   "id": "73c6c8db-6fca-4f7b-9fa8-a2f57da9b2c1",
   "metadata": {
    "accessType": "ACCESS_TYPE_UNSPECIFIED",
    "actionBashCommand": false,
    "actionNeedsCredential": true,
    "actionOutputType": null,
    "actionRequiredLinesInCode": [],
    "actionSupportsIteration": true,
    "actionSupportsPoll": true,
    "action_modified": false,
    "action_uuid": "0f0c137beaf6a9246508393d1e868cea529d30a88631cd0f321799acbfbd47bb",
    "collapsed": true,
    "condition_enabled": true,
    "continueOnError": true,
    "credentialsJson": {},
    "description": "This action to get all of the Nat gateways that have zero traffic over those",
    "id": 4,
    "index": 4,
    "inputData": [
     {
      "number_of_days": {
       "constant": false,
       "value": "int(threshold_days)"
      },
      "region": {
       "constant": false,
       "value": "iter_item"
      }
     }
    ],
    "inputschema": [
     {
      "properties": {
       "number_of_days": {
        "description": "Number of days to check the Datapoints.",
        "title": "Number of Days",
        "type": "integer"
       },
       "region": {
        "description": "AWS Region.",
        "title": "Region",
        "type": "string"
       }
      },
      "required": [],
      "title": "aws_filter_unused_nat_gateway",
      "type": "object"
     }
    ],
    "iterData": [
     {
      "iter_enabled": true,
      "iter_item": "region",
      "iter_list": {
       "constant": false,
       "objectItems": false,
       "value": "region"
      }
     }
    ],
    "jupyter": {
     "outputs_hidden": true,
     "source_hidden": true
    },
    "language": "python",
    "legotype": "LEGO_TYPE_AWS",
    "metadata": {
     "action_bash_command": false,
     "action_categories": [
      "CATEGORY_TYPE_CLOUDOPS",
      "CATEGORY_TYPE_SECOPS",
      "CATEGORY_TYPE_AWS",
      "CATEGORY_TYPE_AWS_NAT_GATEWAY",
      "CATEGORY_TYPE_AWS_EC2"
     ],
     "action_description": "This action to get all of the Nat gateways that have zero traffic over those",
     "action_entry_function": "aws_filter_unused_nat_gateway",
     "action_is_check": true,
     "action_is_remediation": false,
     "action_needs_credential": true,
     "action_next_hop": [],
     "action_next_hop_parameter_mapping": {},
     "action_nouns": null,
     "action_output_type": "ACTION_OUTPUT_TYPE_LIST",
     "action_supports_iteration": true,
     "action_supports_poll": true,
     "action_title": "AWS Find Unused NAT Gateways",
     "action_type": "LEGO_TYPE_AWS",
     "action_verbs": null,
     "action_version": "1.0.0"
    },
    "name": "AWS Find Unused NAT Gateways",
    "orderProperties": [
     "region",
     "number_of_days"
    ],
    "outputParams": {
     "output_name": "unused_gateways",
     "output_name_enabled": true,
     "output_runbook_enabled": false,
     "output_runbook_name": ""
    },
    "printOutput": true,
    "startcondition": "not nat_gateway_ids",
    "tags": [
     "aws_filter_unused_nat_gateway"
    ],
    "uuid": "0f0c137beaf6a9246508393d1e868cea529d30a88631cd0f321799acbfbd47bb",
    "version": "1.0.0"
   },
   "outputs": {},
   "source": [
    "##\n",
    "##  Copyright (c) 2021 unSkript, Inc\n",
    "##  All rights reserved.\n",
    "##\n",
    "from typing import Optional, Tuple\n",
    "from pydantic import BaseModel, Field\n",
    "from datetime import datetime, timedelta\n",
    "from unskript.legos.aws.aws_list_all_regions.aws_list_all_regions import aws_list_all_regions\n",
    "import pprint\n",
    "\n",
    "from beartype import beartype\n",
    "@beartype\n",
    "def aws_filter_unused_nat_gateway_printer(output):\n",
    "    if output is None:\n",
    "        return\n",
    "    pprint.pprint(output)\n",
    "\n",
    "\n",
    "def is_nat_gateway_used(handle, nat_gateway, start_time, end_time,number_of_days):\n",
    "    datapoints = []\n",
    "    if nat_gateway['State'] != 'deleted':\n",
    "        # Get the metrics data for the specified NAT Gateway over the last 7 days\n",
    "        metrics_data = handle.get_metric_statistics(\n",
    "            Namespace='AWS/NATGateway',\n",
    "            MetricName='ActiveConnectionCount',\n",
    "            Dimensions=[\n",
    "                {\n",
    "                    'Name': 'NatGatewayId',\n",
    "                    'Value': nat_gateway['NatGatewayId']\n",
    "                },\n",
    "            ],\n",
    "            StartTime=start_time,\n",
    "            EndTime=end_time,\n",
    "            Period=86400*number_of_days,\n",
    "            Statistics=['Sum']\n",
    "        )\n",
    "        datapoints += metrics_data['Datapoints']\n",
    "    if len(datapoints) == 0 or metrics_data['Datapoints'][0]['Sum']==0:\n",
    "        return False\n",
    "    else:\n",
    "        return True\n",
    "\n",
    "\n",
    "@beartype\n",
    "def aws_filter_unused_nat_gateway(handle, number_of_days: int = 7, region: str = \"\") -> Tuple:\n",
    "    \"\"\"aws_get_natgateway_by_vpc Returns an array of NAT gateways.\n",
    "\n",
    "        :type region: string\n",
    "        :param region: Region to filter NAT Gateways.\n",
    "\n",
    "        :type number_of_days: int\n",
    "        :param number_of_days: Number of days to check the Datapoints.\n",
    "\n",
    "        :rtype: Array of NAT gateways.\n",
    "    \"\"\"\n",
    "    result = []\n",
    "    end_time = datetime.utcnow()\n",
    "    start_time = end_time - timedelta(days=number_of_days)\n",
    "    all_regions = [region]\n",
    "    if not region:\n",
    "        all_regions = aws_list_all_regions(handle)\n",
    "\n",
    "    for reg in all_regions:\n",
    "        try:\n",
    "            ec2Client = handle.client('ec2', region_name=reg)\n",
    "            cloudwatch = handle.client('cloudwatch', region_name=reg)\n",
    "            response = ec2Client.describe_nat_gateways()\n",
    "            for nat_gateway in response['NatGateways']:\n",
    "                nat_gateway_info = {}\n",
    "                if not is_nat_gateway_used(cloudwatch, nat_gateway, start_time, end_time,number_of_days):\n",
    "                    nat_gateway_info[\"nat_gateway_id\"] = nat_gateway['NatGatewayId']\n",
    "                    nat_gateway_info[\"reg\"] = reg\n",
    "                    result.append(nat_gateway_info)\n",
    "        except Exception as e:\n",
    "            pass\n",
    "\n",
    "    if len(result) != 0:\n",
    "        return (False, result)\n",
    "    else:\n",
    "        return (True, None)\n",
    "\n",
    "\n",
    "\n",
    "task = Task(Workflow())\n",
    "task.configure(continueOnError=True)\n",
    "task.configure(inputParamsJson='''{\n",
    "    \"number_of_days\": \"int(threshold_days)\",\n",
    "    \"region\": \"iter_item\"\n",
    "    }''')\n",
    "task.configure(iterJson='''{\n",
    "    \"iter_enabled\": true,\n",
    "    \"iter_list_is_const\": false,\n",
    "    \"iter_list\": \"region\",\n",
    "    \"iter_parameter\": \"region\"\n",
    "    }''')\n",
    "\n",
    "task.configure(conditionsJson='''{\n",
    "    \"condition_enabled\": true,\n",
    "    \"condition_cfg\": \"not nat_gateway_ids\",\n",
    "    \"condition_result\": true\n",
    "    }''')\n",
    "task.configure(outputName=\"unused_gateways\")\n",
    "\n",
    "task.configure(printOutput=True)\n",
    "(err, hdl, args) = task.validate(vars=vars())\n",
    "if err is None:\n",
    "    task.execute(aws_filter_unused_nat_gateway, lego_printer=aws_filter_unused_nat_gateway_printer, hdl=hdl, args=args)"
   ]
  },
  {
   "cell_type": "markdown",
   "id": "a311041f-620a-4b6b-914f-e52c6c3a71f4",
   "metadata": {
    "name": "Step 2A",
    "orderProperties": [],
    "tags": [],
    "title": "Step 2A"
   },
   "source": [
    "<h3 id=\"Create-List-of-Unused-Log-Streams&para;\">Create List of Unused NAT Gateways</h3>\n",
    "<p>This action filters regions that have no unused gateways and creates a list of those that have them.</p>\n",
    "<blockquote>\n",
    "<p>This action takes the following parameters: <code>None</code></p>\n",
    "</blockquote>\n",
    "<blockquote>\n",
    "<p>This action captures the following output: <code>all_unused_gateways</code></p>\n",
    "</blockquote>"
   ]
  },
  {
   "cell_type": "code",
   "execution_count": null,
   "id": "b85ce542-bdf0-44d2-9e75-213002d5c036",
   "metadata": {
    "collapsed": true,
    "credentialsJson": {},
    "customAction": true,
    "jupyter": {
     "outputs_hidden": true,
     "source_hidden": true
    },
    "name": "Create List of Unused NAT Gateways",
    "orderProperties": [],
    "tags": [],
    "title": "Create List of Unused NAT Gateways"
   },
   "outputs": {},
   "source": [
    "all_unused_gateways = []\n",
    "dummy = []\n",
    "try:\n",
    "    for reg,res in unused_gateways.items():\n",
    "        if res[0]==False:\n",
    "            if len(res[1])!=0:\n",
    "                dummy = res[1]\n",
    "                for x in dummy:\n",
    "                    all_unused_gateways.append(x)\n",
    "except Exception:\n",
    "    for nat_id in nat_gateway_ids:\n",
    "        data_dict = {}\n",
    "        data_dict[\"reg\"] = region[0]\n",
    "        data_dict[\"nat_gateway_id\"] = nat_id\n",
    "        all_unused_gateways.append(data_dict)\n",
    "print(all_unused_gateways)\n",
    "task.configure(outputName=\"all_unused_gateways\")"
   ]
  },
  {
   "cell_type": "markdown",
   "id": "9fb3704a-9b19-49c4-96ab-a982217bbcd3",
   "metadata": {
    "name": "Step 2",
    "orderProperties": [],
    "tags": [],
    "title": "Step 2"
   },
   "source": [
    "<h3 id=\"Delete-unused-log-streams\"><a id=\"2\" target=\"_self\" rel=\"nofollow\"></a>Delete unused NAT Gateways</h3>\n",
    "<p>This action deleted unused log streams found in Step 1.&nbsp;</p>\n",
    "<blockquote>\n",
    "<p>This action takes the following parameters:&nbsp;<code>region, nat_gateway_id</code></p>\n",
    "</blockquote>"
   ]
  },
  {
   "cell_type": "code",
   "execution_count": null,
   "id": "84d27641-52db-4efc-9cb7-e52995729c2f",
   "metadata": {
    "accessType": "ACCESS_TYPE_UNSPECIFIED",
    "actionBashCommand": false,
    "actionNeedsCredential": true,
    "actionOutputType": null,
    "actionRequiredLinesInCode": [],
    "actionSupportsIteration": true,
    "actionSupportsPoll": true,
    "action_modified": false,
    "action_uuid": "c24c20b1d1d8a9f31ddbf6f2adf96cbd37df3a0fcf99e4a9a85b1f8b897ad8d4",
    "condition_enabled": true,
    "continueOnError": true,
    "credentialsJson": {},
    "description": "AWS Delete NAT Gateway",
    "id": 2,
    "index": 2,
    "inputData": [
     {
      "nat_gateway_id": {
       "constant": false,
       "value": "\"iter.get(\\\\\"nat_gateway_id\\\\\")\""
      },
      "region": {
       "constant": false,
       "value": "\"iter.get(\\\\\"reg\\\\\")\""
      }
     }
    ],
    "inputschema": [
     {
      "properties": {
       "nat_gateway_id": {
        "description": "ID of the NAT Gateway.",
        "title": "NAT Gateway ID",
        "type": "string"
       },
       "region": {
        "description": "AWS Region of the bucket.",
        "title": "Region",
        "type": "string"
       }
      },
      "required": [
       "nat_gateway_id",
       "region"
      ],
      "title": "aws_delete_nat_gateway",
      "type": "object"
     }
    ],
    "iterData": [
     {
      "iter_enabled": true,
      "iter_item": {
       "nat_gateway_id": "nat_gateway_id",
       "region": "reg"
      },
      "iter_list": {
       "constant": false,
       "objectItems": true,
       "value": "all_unused_gateways"
      }
     }
    ],
    "jupyter": {
     "source_hidden": true
    },
    "language": "python",
    "legotype": "LEGO_TYPE_AWS",
    "metadata": {
     "action_bash_command": false,
     "action_categories": [
      "CATEGORY_TYPE_DEVOPS",
      "CATEGORY_TYPE_SRE",
      "CATEGORY_TYPE_AWS"
     ],
     "action_description": "AWS Delete NAT Gateway",
     "action_entry_function": "aws_delete_nat_gateway",
     "action_is_check": false,
     "action_is_remediation": false,
     "action_needs_credential": true,
     "action_next_hop": null,
     "action_next_hop_parameter_mapping": null,
     "action_nouns": null,
     "action_output_type": "ACTION_OUTPUT_TYPE_DICT",
     "action_supports_iteration": true,
     "action_supports_poll": true,
     "action_title": "AWS Delete NAT Gateway",
     "action_type": "LEGO_TYPE_AWS",
     "action_verbs": null,
     "action_version": "1.0.0"
    },
    "name": "AWS Delete NAT Gateway",
    "orderProperties": [
     "nat_gateway_id",
     "region"
    ],
    "printOutput": true,
    "startcondition": "len(all_unused_gateways)!=0",
    "tags": [
     "aws_delete_nat_gateway"
    ],
    "title": "AWS Delete NAT Gateway",
    "uuid": "c24c20b1d1d8a9f31ddbf6f2adf96cbd37df3a0fcf99e4a9a85b1f8b897ad8d4",
    "version": "1.0.0"
   },
   "outputs": {},
   "source": [
    "##\n",
    "# Copyright (c) 2021 unSkript, Inc\n",
    "# All rights reserved.\n",
    "##\n",
    "from pydantic import BaseModel, Field\n",
    "from typing import Dict\n",
    "import pprint\n",
    "\n",
    "\n",
    "from beartype import beartype\n",
    "@beartype\n",
    "def aws_delete_nat_gateway_printer(output):\n",
    "    if output is None:\n",
    "        return\n",
    "    pprint.pprint(output)\n",
    "\n",
    "\n",
    "@beartype\n",
    "def aws_delete_nat_gateway(handle, nat_gateway_id: str, region: str) -> Dict:\n",
    "    \"\"\"aws_delete_nat_gateway Returns an dict of NAT gateways information.\n",
    "\n",
    "        :type region: string\n",
    "        :param region: Region to filter instances.\n",
    "\n",
    "        :type nat_gateway_id: string\n",
    "        :param nat_gateway_id: ID of the NAT Gateway.\n",
    "\n",
    "        :rtype: dict of NAT gateways information.\n",
    "    \"\"\"\n",
    "    try:\n",
    "        ec2Client = handle.client('ec2', region_name=region)\n",
    "        response = ec2Client.delete_nat_gateway(NatGatewayId=nat_gateway_id)\n",
    "        return response\n",
    "    except Exception as e:\n",
    "        raise Exception(e)\n",
    "\n",
    "\n",
    "task = Task(Workflow())\n",
    "task.configure(continueOnError=True)\n",
    "task.configure(inputParamsJson='''{\n",
    "    \"nat_gateway_id\": \"iter.get(\\\\\"nat_gateway_id\\\\\")\",\n",
    "    \"region\": \"iter.get(\\\\\"reg\\\\\")\"\n",
    "    }''')\n",
    "task.configure(iterJson='''{\n",
    "    \"iter_enabled\": true,\n",
    "    \"iter_list_is_const\": false,\n",
    "    \"iter_list\": \"all_unused_gateways\",\n",
    "    \"iter_parameter\": [\"nat_gateway_id\",\"region\"]\n",
    "    }''')\n",
    "task.configure(conditionsJson='''{\n",
    "    \"condition_enabled\": true,\n",
    "    \"condition_cfg\": \"len(all_unused_gateways)!=0\",\n",
    "    \"condition_result\": true\n",
    "    }''')\n",
    "\n",
    "task.configure(printOutput=True)\n",
    "(err, hdl, args) = task.validate(vars=vars())\n",
    "if err is None:\n",
    "    task.execute(aws_delete_nat_gateway, lego_printer=aws_delete_nat_gateway_printer, hdl=hdl, args=args)"
   ]
  },
  {
   "cell_type": "markdown",
   "id": "9c7430c8-3660-45bd-90ef-9ceab77e3daa",
   "metadata": {
    "name": "Conclusion",
    "orderProperties": [],
    "tags": [],
    "title": "Conclusion"
   },
   "source": [
    "<h3 id=\"Conclusion\">Conclusion<a class=\"jp-InternalAnchorLink\" href=\"#Conclusion\" target=\"_self\">&para;</a></h3>\n",
    "<p>In this Runbook, we were able to filter unused NAT Gateways given a threshold number of days and delete them. This runbook enables us to saves cost as AWS charges us based on the number of hours the gateway was available and the data (GB) it processes. To view the full platform capabilities of unSkript please visit&nbsp;<a href=\"https://us.app.unskript.io\" target=\"_blank\" rel=\"noopener\">us.app.unskript.io</a></p>"
   ]
  }
 ],
 "metadata": {
  "execution_data": {
   "environment_id": "",
   "environment_name": "",
   "environment_type": "ENVIRONMENT_TYPE_AWS_EC2",
   "execution_id": "",
   "inputs_for_searched_lego": "",
   "notebook_id": "2f40376b-5fc2-4b1a-98c8-68993633e8f4.ipynb",
   "parameters": null,
   "proxy_id": "1499f27c-6406-4fbd-bd1b-c6f92800018f",
   "runbook_name": "Delete Unused AWS NAT Gateways",
   "search_string": "",
   "show_tool_tip": false,
   "tenant_id": "",
   "tenant_url": "",
   "user_email_id": "",
   "workflow_id": "2b184767-1b8f-46e4-a191-b2b062148978"
  },
  "kernelspec": {
   "display_name": "Python 3.10.6 64-bit",
   "language": "python",
   "name": "python3"
  },
  "language_info": {
   "codemirror_mode": {
    "name": "ipython",
    "version": 3
   },
   "file_extension": ".py",
   "mimetype": "text/x-python",
   "name": "python",
   "nbconvert_exporter": "python",
   "pygments_lexer": "ipython3",
   "version": "3.10.6"
  },
  "outputParameterSchema": {
   "properties": {},
   "required": [],
   "title": "Schema",
   "type": "object"
  },
  "parameterSchema": {
   "properties": {
    "nat_gateway_ids": {
     "description": "List of NAT Gateway ID's. ",
     "title": "nat_gateway_ids",
     "type": "array"
    },
    "region": {
     "description": "AWS Region(s) to search for unused NAT Gateway. Eg: [\"us-west-2\",\"ap-south-1\"]",
     "title": "region",
     "type": "array"
    },
    "threshold_days": {
     "default": 7,
     "description": "Threshold number of days to check if a NAT Gateway was used.",
     "title": "threshold_days",
     "type": "number"
    }
   },
   "required": [],
   "title": "Schema",
   "type": "object"
  },
  "vscode": {
   "interpreter": {
    "hash": "b0fa6594d8f4cbf19f97940f81e996739fb7646882a419484c72d19e05852a7e"
   }
  }
 },
 "nbformat": 4,
 "nbformat_minor": 5
}