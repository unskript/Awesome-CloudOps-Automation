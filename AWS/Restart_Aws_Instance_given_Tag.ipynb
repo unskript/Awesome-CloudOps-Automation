{
 "cells": [
  {
   "cell_type": "code",
   "execution_count": null,
   "id": "e86ab806-2ce2-48cf-a030-fc8c0496214f",
   "metadata": {
    "accessType": "ACCESS_TYPE_UNSPECIFIED",
    "actionBashCommand": false,
    "actionNeedsCredential": true,
    "actionSupportsIteration": true,
    "actionSupportsPoll": true,
    "action_uuid": "abe9fc82a53b80dc1dd4d5a89e31d22b0338e73e86d2ca859576f38cc6d19f48",
    "createTime": "1970-01-01T00:00:00Z",
    "currentVersion": "0.1.0",
    "description": "Filter AWS EC2 Instance by Tag",
    "id": 131,
    "index": 131,
    "inputData": [
     {
      "region": {
       "constant": false,
       "value": "region"
      },
      "tag_key": {
       "constant": false,
       "value": "tag_name"
      },
      "tag_value": {
       "constant": false,
       "value": "tag_value"
      }
     }
    ],
    "inputschema": [
     {
      "properties": {
       "region": {
        "description": "AWS Region.",
        "title": "Region",
        "type": "string"
       },
       "tag_key": {
        "description": "The key of the tag.",
        "title": "Tag Key",
        "type": "string"
       },
       "tag_value": {
        "description": "The value of the key.",
        "title": "Tag Value",
        "type": "string"
       }
      },
      "required": [
       "tag_key",
       "tag_value",
       "region"
      ],
      "title": "aws_filter_ec2_by_tags",
      "type": "object"
     }
    ],
    "jupyter": {
     "source_hidden": true
    },
    "legotype": "LEGO_TYPE_AWS",
    "name": "Filter AWS EC2 Instances by tag",
    "nouns": [
     "aws",
     "ec2",
     "instances",
     "tag"
    ],
    "orderProperties": [
     "tag_key",
     "tag_value",
     "region"
    ],
    "output": {
     "type": ""
    },
    "tags": [
     "aws_filter_ec2_by_tags"
    ],
    "verbs": [
     "filter"
    ],
    "credentialsJson": {}
   },
   "outputs": [],
   "source": [
    "##\n",
    "##  Copyright (c) 2021 unSkript, Inc\n",
    "##  All rights reserved.\n",
    "##\n",
    "from pydantic import BaseModel, Field\n",
    "\n",
    "from unskript.connectors.aws import aws_get_paginator\n",
    "\n",
    "\n",
    "from beartype import beartype\n",
    "@beartype\n",
    "def aws_filter_ec2_by_tags(handle, tag_key: str, tag_value: str, region: str):\n",
    "    \"\"\"aws_filter_ec2_by_tags Returns an array of instances matching tags.\n",
    "\n",
    "        :type nbParamsObj: object\n",
    "        :param nbParamsObj: Object containing global params for the notebook.\n",
    "\n",
    "        :type credentialsDict: dict\n",
    "        :param credentialsDict: Dictionary of credentials info.\n",
    "\n",
    "        :type inputParamsJson: string\n",
    "        :param inputParamsJson: Json string of the input params.\n",
    "\n",
    "        :rtype: Array of instances matching tags.\n",
    "    \"\"\"\n",
    "    # Input param validation.\n",
    "\n",
    "    ec2Client = handle.client('ec2', region_name=region)\n",
    "    res = aws_get_paginator(ec2Client, \"describe_instances\", \"Reservations\",\n",
    "                            Filters=[{'Name': 'tag:' + tag_key, 'Values': [tag_value]}])\n",
    "\n",
    "    result = []\n",
    "    for reservation in res:\n",
    "        for instance in reservation['Instances']:\n",
    "            result.append(instance['InstanceId'])\n",
    "    return result\n",
    "\n",
    "\n",
    "task = Task(Workflow())\n",
    "task.configure(inputParamsJson='''{\n",
    "    \"region\": \"region\",\n",
    "    \"tag_key\": \"tag_name\",\n",
    "    \"tag_value\": \"tag_value\"\n",
    "    }''')\n",
    "\n",
    "(err, hdl, args) = task.validate(vars=vars())\n",
    "if err is None:\n",
    "    task.output = task.execute(aws_filter_ec2_by_tags, hdl=hdl, args=args)\n",
    "    if task.output_name != None:\n",
    "        globals().update({task.output_name: task.output[0]})\n",
    "\n",
    "if hasattr(task, 'output'):\n",
    "    if isinstance(task.output, (list, tuple)):\n",
    "        for item in task.output:\n",
    "            print(f'item: {item}')\n",
    "    elif isinstance(task.output, dict):\n",
    "        for item in task.output.items():\n",
    "            print(f'item: {item}')\n",
    "    else:\n",
    "        print(f'Output for {task.name}')\n",
    "        print(task.output)\n",
    "    w.tasks[task.name]= task.output"
   ]
  },
  {
   "cell_type": "code",
   "execution_count": null,
   "id": "c56aad83-bd0d-4b81-84f7-30e397a37bbe",
   "metadata": {
    "accessType": "ACCESS_TYPE_UNSPECIFIED",
    "actionBashCommand": false,
    "actionNeedsCredential": true,
    "actionSupportsIteration": true,
    "actionSupportsPoll": true,
    "action_uuid": "e68d4d8e20dd3cea79eb0052d4b4fbe6f74c72bdc7224bf9e0209fd802a2e445",
    "createTime": "1970-01-01T00:00:00Z",
    "currentVersion": "0.1.0",
    "description": "Get AWS CloudWatch Statistics",
    "id": 123,
    "index": 123,
    "inputData": [
     {
      "dimensions": {
       "constant": false,
       "value": "iter_item"
      },
      "metric_name": {
       "constant": false,
       "value": "\"CPUUtilization\""
      },
      "name_space": {
       "constant": false,
       "value": "\"AWS/EC2\""
      },
      "period": {
       "constant": false,
       "value": "60"
      },
      "region": {
       "constant": false,
       "value": "region"
      },
      "statistics": {
       "constant": true,
       "value": "Average"
      },
      "timeSince": {
       "constant": false,
       "value": "36000"
      }
     }
    ],
    "inputschema": [
     {
      "definitions": {
       "StatisticsType": {
        "description": "An enumeration.",
        "enum": [
         "SampleCount",
         "Average",
         "Sum",
         "Minimum",
         "Maximum"
        ],
        "title": "StatisticsType",
        "type": "string"
       }
      },
      "properties": {
       "dimensions": {
        "description": "A dimension is a name/value pair that is part of the identity of a metric.",
        "items": {
         "type": "object"
        },
        "title": "Dimensions",
        "type": "array"
       },
       "metric_name": {
        "description": "The name of the metric, with or without spaces.",
        "title": "Metric Name",
        "type": "string"
       },
       "name_space": {
        "description": "The namespace of the metric, with or without spaces. For eg: AWS/SQS, AWS/ECS",
        "title": "Namespace",
        "type": "string"
       },
       "period": {
        "default": 60,
        "description": "The granularity, in seconds, of the returned data points.",
        "title": "Period",
        "type": "integer"
       },
       "region": {
        "description": "AWS Region of the cloudwatch.",
        "title": "Region",
        "type": "string"
       },
       "statistics": {
        "allOf": [
         {
          "$ref": "#/definitions/StatisticsType"
         }
        ],
        "description": "Cloudwatch metric statistics. Possible values: SampleCount, Average, Sum, Minimum, Maximum.",
        "title": "Statistics"
       },
       "timeSince": {
        "description": "Starting from now, window (in seconds) for which you want to get the datapoints for.",
        "title": "Time Since",
        "type": "integer"
       }
      },
      "required": [
       "name_space",
       "metric_name",
       "dimensions",
       "timeSince",
       "statistics",
       "region"
      ],
      "title": "aws_get_cloudwatch_statistics",
      "type": "object"
     }
    ],
    "jupyter": {
     "source_hidden": true
    },
    "legotype": "LEGO_TYPE_AWS",
    "name": "Get AWS CloudWatch Statistics",
    "nouns": [
     "aws",
     "cloudwatch",
     "statistics"
    ],
    "orderProperties": [
     "name_space",
     "metric_name",
     "dimensions",
     "period",
     "timeSince",
     "statistics",
     "region"
    ],
    "output": {
     "type": ""
    },
    "tags": [
     "aws_get_cloudwatch_statistics"
    ],
    "verbs": [
     "get"
    ],
    "credentialsJson": {}
   },
   "outputs": [],
   "source": [
    "##\n",
    "# Copyright (c) 2021 unSkript, Inc\n",
    "# All rights reserved.\n",
    "##\n",
    "\n",
    "import enum\n",
    "from pydantic import BaseModel, Field\n",
    "from typing import Optional, List\n",
    "from datetime import datetime, timedelta\n",
    "import matplotlib.pyplot as plt\n",
    "from unskript.legos.aws.aws_get_handle import Session\n",
    "\n",
    "\n",
    "class StatisticsType(str, enum.Enum):\n",
    "    SAMPLE_COUNT = \"SampleCount\"\n",
    "    AVERAGE = \"Average\"\n",
    "    SUM = \"Sum\"\n",
    "    MINIMUM = \"Minimum\"\n",
    "    MAXIMUM = \"Maximum\"\n",
    "\n",
    "\n",
    "from beartype import beartype\n",
    "@beartype\n",
    "def aws_get_cloudwatch_statistics(\n",
    "    hdl: Session,\n",
    "    name_space: str,\n",
    "    metric_name: str,\n",
    "    dimensions: List[dict],\n",
    "    timeSince: int,\n",
    "    statistics: str,\n",
    "    region: str,\n",
    "    period: int = 60,\n",
    "):\n",
    "    \"\"\"aws_get_cloud_statistics shows ploted AWS cloudwatch statistics.\n",
    "    for a given instance ID. This routine assume instance_id\n",
    "    being present in the inputParmsJson.\n",
    "\n",
    "    :type name_space: string\n",
    "    :param name_space: he namespace of the metric, with or without spaces. For eg: AWS/SQS, AWS/ECS\n",
    "\n",
    "    :type metric_name: string\n",
    "    :param metric_name: The name of the metric, with or without spaces.\n",
    "\n",
    "    :type dimensions: List[dict]\n",
    "    :param dimensions: A dimension is a name/value pair that is part of the identity of a metric.\n",
    "\n",
    "    :type period: int\n",
    "    :param period: The granularity, in seconds, of the returned data points.\n",
    "\n",
    "    :type timeSince: int\n",
    "    :param timeSince: Starting from now, window (in seconds) for which you want to get the datapoints for.\n",
    "\n",
    "    :type statistics: string\n",
    "    :param statistics: Cloudwatch metric statistics. Possible values: SampleCount, Average, Sum, Minimum, Maximum.\n",
    "\n",
    "    :type region: string\n",
    "    :param region: AWS Region of the cloudwatch.\n",
    "\n",
    "    :rtype: Shows ploted statistics.\n",
    "    \"\"\"\n",
    "\n",
    "    cloudwatchClient = hdl.client(\"cloudwatch\", region_name=region)\n",
    "    # Gets metric statistics.\n",
    "    res = cloudwatchClient.get_metric_statistics(\n",
    "        Namespace=name_space,\n",
    "        MetricName=metric_name,\n",
    "        Dimensions=dimensions,\n",
    "        Period=period,\n",
    "        StartTime=datetime.utcnow() - timedelta(seconds=timeSince),\n",
    "        EndTime=datetime.utcnow(),\n",
    "        Statistics=[statistics],\n",
    "    )\n",
    "\n",
    "    data = {}\n",
    "    for datapoints in res[\"Datapoints\"]:\n",
    "        data[datapoints[\"Timestamp\"]] = datapoints[statistics]\n",
    "\n",
    "    # Sorts data.\n",
    "    data_keys = data.keys()\n",
    "    times_stamps = list(data_keys)\n",
    "    times_stamps.sort()\n",
    "    sorted_values = []\n",
    "    for value in times_stamps:\n",
    "        sorted_values.append(data[value])\n",
    "\n",
    "    # Puts datapoints into the plot.\n",
    "    plt.plot_date(times_stamps, sorted_values, \"-o\")\n",
    "\n",
    "    return\n",
    "\n",
    "\n",
    "task = Task(Workflow())\n",
    "task.configure(inputParamsJson='''{\n",
    "    \"dimensions\": \"iter_item\",\n",
    "    \"metric_name\": \"\\\\\"CPUUtilization\\\\\"\",\n",
    "    \"name_space\": \"\\\\\"AWS/EC2\\\\\"\",\n",
    "    \"period\": \"60\",\n",
    "    \"region\": \"region\",\n",
    "    \"statistics\": \"\\\\\"Average\\\\\"\",\n",
    "    \"timeSince\": \"36000\"\n",
    "    }''')\n",
    "\n",
    "(err, hdl, args) = task.validate(vars=vars())\n",
    "if err is None:\n",
    "    task.output = task.execute(aws_get_cloudwatch_statistics, hdl=hdl, args=args)\n",
    "    if task.output_name != None:\n",
    "        globals().update({task.output_name: task.output[0]})\n",
    "\n",
    "if hasattr(task, 'output'):\n",
    "    if isinstance(task.output, (list, tuple)):\n",
    "        for item in task.output:\n",
    "            print(f'item: {item}')\n",
    "    elif isinstance(task.output, dict):\n",
    "        for item in task.output.items():\n",
    "            print(f'item: {item}')\n",
    "    else:\n",
    "        print(f'Output for {task.name}')\n",
    "        print(task.output)\n",
    "    w.tasks[task.name]= task.output"
   ]
  },
  {
   "cell_type": "code",
   "execution_count": null,
   "id": "06e4670d-8167-45f5-a181-e04d1ae28f90",
   "metadata": {
    "accessType": "ACCESS_TYPE_UNSPECIFIED",
    "actionBashCommand": false,
    "actionNeedsCredential": true,
    "actionSupportsIteration": true,
    "actionSupportsPoll": true,
    "action_uuid": "bf071908d3762d6b342aa6e54019ea07119c9ff187ea74cd8865c7f543a89898",
    "createTime": "1970-01-01T00:00:00Z",
    "currentVersion": "0.1.0",
    "description": " Restart AWS Instances",
    "id": 130,
    "index": 130,
    "inputData": [
     {
      "instance_ids": {
       "constant": false,
       "value": "iter_item"
      },
      "region": {
       "constant": false,
       "value": "region"
      }
     }
    ],
    "inputschema": [
     {
      "properties": {
       "instance_ids": {
        "description": "List of instance IDs. For eg. [\"i-foo\", \"i-bar\"]",
        "items": {
         "type": "string"
        },
        "title": "Instance IDs",
        "type": "array"
       },
       "region": {
        "description": "AWS Region of the instances.",
        "title": "Region",
        "type": "string"
       }
      },
      "required": [
       "instance_ids",
       "region"
      ],
      "title": "aws_restart_ec2_instances",
      "type": "object"
     }
    ],
    "jupyter": {
     "source_hidden": true
    },
    "legotype": "LEGO_TYPE_AWS",
    "name": " Restart AWS Instances",
    "nouns": [
     "aws",
     "instances"
    ],
    "orderProperties": [
     "instance_ids",
     "region"
    ],
    "output": {
     "type": ""
    },
    "tags": [
     "aws_restart_ec2_instances"
    ],
    "verbs": [
     "restart"
    ],
    "credentialsJson": {}
   },
   "outputs": [],
   "source": [
    "##  Copyright (c) 2021 unSkript, Inc\n",
    "##  All rights reserved.\n",
    "##\n",
    "from typing import List\n",
    "from pydantic import BaseModel, Field\n",
    "\n",
    "\n",
    "from beartype import beartype\n",
    "@beartype\n",
    "def aws_restart_ec2_instances(handle, instance_ids: List, region: str):\n",
    "    \"\"\"aws_restart_instances Restarts instances.\n",
    "\n",
    "        :type nbParamsObj: object\n",
    "        :param nbParamsObj: Object containing global params for the notebook.\n",
    "\n",
    "        :type credentialsDict: dict\n",
    "        :param credentialsDict: Dictionary of credentials info.\n",
    "\n",
    "        :type inputParamsJson: string\n",
    "        :param inputParamsJson: Json string of the input params.\n",
    "\n",
    "        :rtype: Dict with the stopped instances state info.\n",
    "    \"\"\"\n",
    "\n",
    "    ec2Client = handle.client('ec2', region_name=region)\n",
    "    res = ec2Client.reboot_instances(InstanceIds=instance_ids)\n",
    "\n",
    "    return res\n",
    "\n",
    "\n",
    "task = Task(Workflow())\n",
    "task.configure(inputParamsJson='''{\n",
    "    \"instance_ids\": \"iter_item\",\n",
    "    \"region\": \"region\"\n",
    "    }''')\n",
    "\n",
    "(err, hdl, args) = task.validate(vars=vars())\n",
    "if err is None:\n",
    "    task.output = task.execute(aws_restart_ec2_instances, hdl=hdl, args=args)\n",
    "    if task.output_name != None:\n",
    "        globals().update({task.output_name: task.output[0]})\n",
    "\n",
    "if hasattr(task, 'output'):\n",
    "    if isinstance(task.output, (list, tuple)):\n",
    "        for item in task.output:\n",
    "            print(f'item: {item}')\n",
    "    elif isinstance(task.output, dict):\n",
    "        for item in task.output.items():\n",
    "            print(f'item: {item}')\n",
    "    else:\n",
    "        print(f'Output for {task.name}')\n",
    "        print(task.output)\n",
    "    w.tasks[task.name]= task.output"
   ]
  },
  {
   "cell_type": "code",
   "execution_count": null,
   "id": "c2f9bf68-49cd-413d-86f8-2f82194c5c7a",
   "metadata": {
    "accessType": "ACCESS_TYPE_UNSPECIFIED",
    "actionBashCommand": false,
    "actionNeedsCredential": true,
    "actionSupportsIteration": true,
    "actionSupportsPoll": true,
    "action_uuid": "6a87f83ab0ecfeecb9c98d084e2b1066c26fa64be5b4928d5573a5d60299802d",
    "createTime": "1970-01-01T00:00:00Z",
    "currentVersion": "0.1.0",
    "description": "Post Slack Message",
    "id": 44,
    "index": 44,
    "inputData": [
     {
      "channel": {
       "constant": false,
       "value": "channel"
      },
      "message": {
       "constant": false,
       "value": "f\"Restarted instances {inst_list}\""
      }
     }
    ],
    "inputschema": [
     {
      "properties": {
       "channel": {
        "description": "Name of the slack channel where the message to be posted",
        "title": "Channel",
        "type": "string"
       },
       "message": {
        "description": "Message to be sent",
        "title": "Message",
        "type": "string"
       }
      },
      "required": [
       "channel",
       "message"
      ],
      "title": "slack_post_message",
      "type": "object"
     }
    ],
    "jupyter": {
     "source_hidden": true
    },
    "legotype": "LEGO_TYPE_SLACK",
    "name": "Post Slack Message",
    "nouns": [
     "slack",
     "message"
    ],
    "orderProperties": [
     "channel",
     "message"
    ],
    "output": {
     "type": ""
    },
    "tags": [
     "slack_post_message"
    ],
    "verbs": [
     "post"
    ],
    "credentialsJson": {}
   },
   "outputs": [],
   "source": [
    "##\n",
    "# Copyright (c) 2021 unSkript, Inc\n",
    "# All rights reserved.\n",
    "##\n",
    "\n",
    "import pprint\n",
    "\n",
    "from pydantic import BaseModel, Field\n",
    "from slack_sdk import WebClient\n",
    "from slack_sdk.errors import SlackApiError\n",
    "\n",
    "pp = pprint.PrettyPrinter(indent=2)\n",
    "\n",
    "\n",
    "from beartype import beartype\n",
    "def legoPrinter(func):\n",
    "    def Printer(*args, **kwargs):\n",
    "        output = func(*args, **kwargs)\n",
    "        if output:\n",
    "            channel = kwargs[\"channel\"]\n",
    "            pp.pprint(print(f\"Message sent to Slack channel {channel}\"))\n",
    "        return output\n",
    "    return Printer\n",
    "\n",
    "\n",
    "@legoPrinter\n",
    "@beartype\n",
    "def slack_post_message(\n",
    "        handle: WebClient,\n",
    "        channel: str,\n",
    "        message: str) -> bool:\n",
    "\n",
    "    try:\n",
    "        response = handle.chat_postMessage(\n",
    "            channel=channel,\n",
    "            text=message)\n",
    "        return True\n",
    "    except SlackApiError as e:\n",
    "        print(\"\\n\\n\")\n",
    "        pp.pprint(\n",
    "            f\"Failed sending message to slack channel {channel}, Error: {e.response['error']}\")\n",
    "        return False\n",
    "    except Exception as e:\n",
    "        print(\"\\n\\n\")\n",
    "        pp.pprint(\n",
    "            f\"Failed sending message to slack channel {channel}, Error: {e.__str__()}\")\n",
    "        return False\n",
    "\n",
    "\n",
    "task = Task(Workflow())\n",
    "task.configure(inputParamsJson='''{\n",
    "    \"channel\": \"channel\",\n",
    "    \"message\": \"f\\\\\"Restarted instances {inst_list}\\\\\"\"\n",
    "    }''')\n",
    "\n",
    "(err, hdl, args) = task.validate(vars=vars())\n",
    "if err is None:\n",
    "    task.output = task.execute(slack_post_message, hdl=hdl, args=args)\n",
    "    if task.output_name != None:\n",
    "        globals().update({task.output_name: task.output[0]})"
   ]
  }
 ],
 "metadata": {
  "execution_data": {
   "runbook_name": "JRRunbook",
   "parameters": [
    "channel",
    "region",
    "tag_name",
    "tag_value"
   ]
  },
  "kernelspec": {
   "display_name": "unSkript (Build: 294)",
   "name": "python_kubernetes"
  },
  "language_info": {
   "file_extension": ".py",
   "mimetype": "text/x-python",
   "name": "python",
   "pygments_lexer": "ipython3"
  },
  "parameterSchema": {
   "properties": {
    "channel": {
     "default": "",
     "description": "Channel to notify",
     "title": "channel",
     "type": "string"
    },
    "region": {
     "default": "us-west-2",
     "description": "AWS Region",
     "title": "region",
     "type": "string"
    },
    "tag_name": {
     "default": "",
     "description": "Name of the tag",
     "title": "tag_name",
     "type": "string"
    },
    "tag_value": {
     "default": "",
     "description": "Value of the tag",
     "title": "tag_value",
     "type": "string"
    }
   },
   "required": [],
   "title": "Schema",
   "type": "object"
  },
  "parameterValues": {
   "channel": null,
   "region": "us-west-2",
   "tag_name": null,
   "tag_value": null
  }
 },
 "nbformat": 4,
 "nbformat_minor": 5
}