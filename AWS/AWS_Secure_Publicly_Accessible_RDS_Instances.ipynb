{
    "cells": [
        {
            "cell_type": "markdown",
            "id": "c0e8284f-f6a8-4b7f-971c-8fb037002354",
            "metadata": {
                "jupyter": {
                    "source_hidden": false
                },
                "name": "Runbook Overview",
                "orderProperties": [],
                "tags": [],
                "title": "Runbook Overview"
            },
            "source": [
                "<center><img src=\"https://unskript.com/assets/favicon.png\" alt=\"unSkript.com\" width=\"100\" height=\"100\">\n",
                "<h1 id=\"unSkript-Runbooks&nbsp;\">unSkript Runbooks&nbsp;<a class=\"jp-InternalAnchorLink\" href=\"#unSkript-Runbooks\" target=\"_self\">&para;</a></h1>\n",
                "<div class=\"alert alert-block alert-success\">\n",
                "<h3 id=\"Objective\"><strong>Objective</strong><a class=\"jp-InternalAnchorLink\" href=\"#Objective\" target=\"_self\">&para;</a></h3>\n",
                "<strong>Get publicly accessible AWS RDS DB instances and change them to private.</strong></div>\n",
                "</center><center>\n",
                "<h2 id=\"Publicly-Accessible-Amazon-RDS-Instances\">Secure Publicly Accessible Amazon RDS Instances<a class=\"jp-InternalAnchorLink\" href=\"#Publicly-Accessible-Amazon-RDS-Instances\" target=\"_self\">&para;</a></h2>\n",
                "</center>\n",
                "<h1 id=\"Steps-Overview\">Steps Overview<a class=\"jp-InternalAnchorLink\" href=\"#Steps-Overview\" target=\"_self\">&para;</a></h1>\n",
                "<ol>\n",
                "<li>AWS Get Publicly Accessible RDS Instances</li>\n",
                "<li>Change public access to private</li>\n",
                "</ol>"
            ]
        },
        {
            "cell_type": "code",
            "execution_count": null,
            "id": "29c6d54f-6a4e-4058-ab1f-5354a79cfd66",
            "metadata": {
                "customAction": true,
                "execution_data": {
                    "last_date_success_run_cell": "2023-08-16T09:07:26.188Z"
                },
                "jupyter": {
                    "source_hidden": true
                },
                "name": "Input verification",
                "orderProperties": [],
                "tags": [],
                "title": "Input verification"
            },
            "outputs": [],
            "source": [
                "if rds_instances and not region:\n",
                "    raise SystemExit(\"Provide a region for the RDS Instances!\")\n",
                "if region == None:\n",
                "    region = \"\""
            ]
        },
        {
            "cell_type": "markdown",
            "id": "5d6e0429-7d5d-4a6e-aae2-165235fdeb49",
            "metadata": {
                "jupyter": {
                    "source_hidden": false
                },
                "name": "Step 1",
                "orderProperties": [],
                "tags": [],
                "title": "Step 1"
            },
            "source": [
                "<h3 id=\"AWS-Get-Publicly-Accessible-RDS-Instances\"><a id=\"1\" target=\"_self\" rel=\"nofollow\"></a>AWS Get Publicly Accessible RDS Instances</h3>\n",
                "<p>Using unSkript's <strong>AWS Get Publicly Accessible RDS Instances</strong>&nbsp;action, we will get all the publicly accessible instances from RDS instances.</p>\n",
                "<blockquote>\n",
                "<p>Input parameters: <code>region</code></p>\n",
                "</blockquote>\n",
                "<blockquote>\n",
                "<p>Output variable: <code>rds_instances</code></p>\n",
                "</blockquote>"
            ]
        },
        {
            "cell_type": "code",
            "execution_count": null,
            "id": "7f6a6416-23f4-42d0-8d3c-dad850450f9e",
            "metadata": {
                "actionBashCommand": false,
                "actionCategories": [
                    "CATEGORY_TYPE_IAM",
                    "CATEGORY_TYPE_SECOPS",
                    "CATEGORY_TYPE_AWS",
                    "CATEGORY_TYPE_AWS_RDS"
                ],
                "actionDescription": "AWS Get Publicly Accessible RDS Instances",
                "actionEntryFunction": "aws_get_publicly_accessible_db_instances",
                "actionIsCheck": true,
                "actionIsRemediation": false,
                "actionNeedsCredential": true,
                "actionNextHop": [
                    "dda26fd556dd6b59e2fac9c9ed6e81fc19e5374746049d494237bcdc6a17fae4"
                ],
                "actionNextHopParameterMapping": {
                    "dda26fd556dd6b59e2fac9c9ed6e81fc19e5374746049d494237bcdc6a17fae4": {
                        "name": "Publicly Accessible Amazon RDS Instances",
                        "region": ".[0].region"
                    }
                },
                "actionNouns": null,
                "actionOutputType": "ACTION_OUTPUT_TYPE_LIST",
                "actionSupportsIteration": true,
                "actionSupportsPoll": true,
                "actionTitle": "AWS Get Publicly Accessible RDS Instances",
                "actionType": "LEGO_TYPE_AWS",
                "actionVerbs": null,
                "actionVersion": "1.0.0",
                "action_modified": false,
                "action_uuid": "97bfc082be1cffdf5c795b3119bfa90b36946934b37cf213d762e0ee3ee881f8",
                "condition_enabled": true,
                "credentialsJson": {},
                "description": "AWS Get Publicly Accessible RDS Instances",
                "execution_count": {},
                "execution_data": {},
                "id": 3,
                "index": 3,
                "inputschema": [
                    {
                        "properties": {
                            "region": {
                                "default": "",
                                "description": "Region of the RDS.",
                                "title": "Region for RDS",
                                "type": "string"
                            }
                        },
                        "title": "aws_get_publicly_accessible_db_instances",
                        "type": "object"
                    }
                ],
                "jupyter": {
                    "source_hidden": true
                },
                "language": "python",
                "legotype": "LEGO_TYPE_AWS",
                "name": "AWS Get Publicly Accessible RDS Instances",
                "orderProperties": [
                    "region"
                ],
                "outputParams": {
                    "output_name": "public_rds_instances",
                    "output_name_enabled": true,
                    "output_runbook_enabled": false,
                    "output_runbook_name": ""
                },
                "printOutput": true,
                "startcondition": "not rds_instances",
                "tags": [
                    "aws_get_publicly_accessible_db_instances"
                ],
                "uuid": "97bfc082be1cffdf5c795b3119bfa90b36946934b37cf213d762e0ee3ee881f8",
                "version": "1.0.0"
            },
            "outputs": [],
            "source": [
                "##\n",
                "##  Copyright (c) 2021 unSkript, Inc\n",
                "##  All rights reserved.\n",
                "##\n",
                "import pprint\n",
                "from typing import Optional, Tuple\n",
                "from pydantic import BaseModel, Field\n",
                "from unskript.legos.utils import CheckOutput\n",
                "from unskript.legos.aws.aws_list_all_regions.aws_list_all_regions import aws_list_all_regions\n",
                "from unskript.connectors.aws import aws_get_paginator\n",
                "\n",
                "\n",
                "from beartype import beartype\n",
                "@beartype\n",
                "def aws_get_publicly_accessible_db_instances_printer(output):\n",
                "    if output is None:\n",
                "        return\n",
                "\n",
                "    if isinstance(output, CheckOutput):\n",
                "        print(output.json())\n",
                "    else:\n",
                "        pprint.pprint(output)\n",
                "\n",
                "\n",
                "@beartype\n",
                "def aws_get_publicly_accessible_db_instances(handle, region: str = \"\") -> Tuple:\n",
                "    \"\"\"aws_get_publicly_accessible_db_instances Gets all publicly accessible DB instances\n",
                "\n",
                "        :type handle: object\n",
                "        :param handle: Object returned from task.validate(...).\n",
                "\n",
                "        :type region: string\n",
                "        :param region: Region of the RDS.\n",
                "\n",
                "        :rtype: CheckOutput with status result and list of publicly accessible RDS instances.\n",
                "    \"\"\"\n",
                "    result = []\n",
                "    all_regions = [region]\n",
                "    if not region:\n",
                "        all_regions = aws_list_all_regions(handle)\n",
                "    for reg in all_regions:\n",
                "        try:\n",
                "            ec2Client = handle.client('rds', region_name=reg)\n",
                "            response = aws_get_paginator(ec2Client, \"describe_db_instances\", \"DBInstances\")\n",
                "            for db in response:\n",
                "                db_instance_dict = {}\n",
                "                if db['PubliclyAccessible']:\n",
                "                    db_instance_dict[\"region\"] = reg\n",
                "                    db_instance_dict[\"instance\"] = db['DBInstanceIdentifier']\n",
                "                    result.append(db_instance_dict)\n",
                "        except Exception:\n",
                "            pass\n",
                "\n",
                "    if len(result) != 0:\n",
                "        return (False, result)\n",
                "    return (True, None)\n",
                "\n",
                "\n",
                "task = Task(Workflow())\n",
                "task.configure(conditionsJson='''{\n",
                "    \"condition_enabled\": true,\n",
                "    \"condition_cfg\": \"not rds_instances\",\n",
                "    \"condition_result\": true\n",
                "    }''')\n",
                "task.configure(credentialsJson='''{\\\"credential_type\\\": \\\"CONNECTOR_TYPE_AWS\\\"}''')\n",
                "\n",
                "task.configure(outputName=\"public_rds_instances\")\n",
                "\n",
                "task.configure(printOutput=True)\n",
                "(err, hdl, args) = task.validate(vars=vars())\n",
                "if err is None:\n",
                "    task.execute(aws_get_publicly_accessible_db_instances, lego_printer=aws_get_publicly_accessible_db_instances_printer, hdl=hdl, args=args)"
            ]
        },
        {
            "cell_type": "markdown",
            "id": "d56e5ae8-9277-4615-a3a9-dda4f55955bf",
            "metadata": {
                "jupyter": {
                    "source_hidden": false
                },
                "name": "Step 1A",
                "orderProperties": [],
                "tags": [],
                "title": "Step 1A"
            },
            "source": [
                "<h3 id=\"Modify-Output\">Create List of Public RDS Instances</h3>\n",
                "<p>In this action, we modify the output from step 1 and return a list of dictionary items for the publicly accessible RDS instances.</p>\n",
                "<blockquote>\n",
                "<p><strong>Output variable:</strong> all_public_instances</p>\n",
                "</blockquote>"
            ]
        },
        {
            "cell_type": "code",
            "execution_count": null,
            "id": "be5f0054-e0f8-40e7-b797-993033a3fe04",
            "metadata": {
                "collapsed": true,
                "credentialsJson": {},
                "customAction": true,
                "execution_data": {
                    "last_date_success_run_cell": "2023-08-16T09:07:53.288Z"
                },
                "jupyter": {
                    "outputs_hidden": true,
                    "source_hidden": true
                },
                "name": "Create List of Public RDS Instances",
                "orderProperties": [],
                "tags": [],
                "title": "Create List of Public RDS Instances"
            },
            "outputs": [],
            "source": [
                "all_public_instances = []\n",
                "try:\n",
                "    if public_rds_instances[0] == False:\n",
                "        for instance in public_rds_instances[1]:\n",
                "            all_public_instances.append(instance)\n",
                "except Exception as e:\n",
                "    if rds_instances:\n",
                "        for ins in rds_instances:\n",
                "            data_dict = {}\n",
                "            data_dict[\"region\"] = region\n",
                "            data_dict[\"instance\"] = ins\n",
                "            all_public_instances.append(data_dict)\n",
                "    else:\n",
                "        raise Exception(e)\n",
                "print(all_public_instances)"
            ]
        },
        {
            "cell_type": "markdown",
            "id": "a518b936-dc13-4a56-962d-1595f7c74b71",
            "metadata": {
                "jupyter": {
                    "source_hidden": false
                },
                "name": "Step 2",
                "orderProperties": [],
                "tags": [],
                "title": "Step 2"
            },
            "source": [
                "<h3 id=\"Change-the-public-access-to-private\">Change the public access to private</h3>\n",
                "<p>Using unSkript's Modify Publicly Accessible RDS Instances action we will modify the access to all the publicly accessible instances from the <em>public</em> to <em>private</em>.</p>\n",
                "<blockquote>\n",
                "<p>This action takes the following parameters: <code>region</code>, <code>db_instance_identifier</code></p>\n",
                "</blockquote>"
            ]
        },
        {
            "cell_type": "code",
            "execution_count": null,
            "id": "1b4ad0cc-6140-4f6f-a06e-c894b583cb99",
            "metadata": {
                "actionBashCommand": false,
                "actionCategories": [
                    "CATEGORY_TYPE_CLOUDOPS",
                    "CATEGORY_TYPE_AWS",
                    "CATEGORY_TYPE_AWS_RDS"
                ],
                "actionDescription": "Change public accessibility of RDS Instances to False.",
                "actionEntryFunction": "aws_make_rds_instance_not_publicly_accessible",
                "actionIsCheck": false,
                "actionIsRemediation": false,
                "actionNeedsCredential": true,
                "actionNextHop": null,
                "actionNextHopParameterMapping": null,
                "actionNouns": null,
                "actionOutputType": "ACTION_OUTPUT_TYPE_STR",
                "actionSupportsIteration": true,
                "actionSupportsPoll": true,
                "actionTitle": "Disallow AWS RDS Instance public accessibility",
                "actionType": "LEGO_TYPE_AWS",
                "actionVerbs": null,
                "actionVersion": "1.0.0",
                "action_modified": false,
                "action_uuid": "15d2e1417496ecb13e7bb88d7429f74dabbb6f8b9bc7d9df275647eae402e4dd",
                "condition_enabled": true,
                "continueOnError": true,
                "credentialsJson": {},
                "description": "Change public accessibility of RDS Instances to False.",
                "execution_count": {},
                "execution_data": {},
                "id": 7,
                "index": 7,
                "inputData": [
                    {
                        "db_instance_identifier": {
                            "constant": false,
                            "value": "\"iter.get(\\\\\"instance\\\\\")\""
                        },
                        "region": {
                            "constant": false,
                            "value": "\"iter.get(\\\\\"region\\\\\")\""
                        }
                    }
                ],
                "inputschema": [
                    {
                        "properties": {
                            "db_instance_identifier": {
                                "description": "The DB instance identifier for the DB instance to be deleted. This parameter isn’t case-sensitive.",
                                "title": "RDS Instance Identifier",
                                "type": "string"
                            },
                            "region": {
                                "description": "AWS region of instance identifier",
                                "title": "AWS Region",
                                "type": "string"
                            }
                        },
                        "required": [
                            "db_instance_identifier",
                            "region"
                        ],
                        "title": "aws_make_rds_instance_not_publicly_accessible",
                        "type": "object"
                    }
                ],
                "iterData": [
                    {
                        "iter_enabled": true,
                        "iter_item": {
                            "db_instance_identifier": "instance",
                            "region": "region"
                        },
                        "iter_list": {
                            "constant": false,
                            "objectItems": true,
                            "value": "all_public_instances"
                        }
                    }
                ],
                "jupyter": {
                    "source_hidden": true
                },
                "language": "python",
                "legotype": "LEGO_TYPE_AWS",
                "name": "Disallow AWS RDS Instance public accessibility",
                "orderProperties": [
                    "db_instance_identifier",
                    "region"
                ],
                "printOutput": true,
                "startcondition": "len(all_public_instances)!=0",
                "tags": [
                    "aws_make_rds_instance_not_publicly_accessible"
                ],
                "uuid": "15d2e1417496ecb13e7bb88d7429f74dabbb6f8b9bc7d9df275647eae402e4dd",
                "version": "1.0.0"
            },
            "outputs": [],
            "source": [
                "##\n",
                "# Copyright (c) 2023 unSkript, Inc\n",
                "# All rights reserved.\n",
                "##\n",
                "from pydantic import BaseModel, Field\n",
                "\n",
                "\n",
                "from beartype import beartype\n",
                "@beartype\n",
                "def aws_make_rds_instance_not_publicly_accessible_printer(output):\n",
                "    if output is None:\n",
                "        return\n",
                "    print(output)\n",
                "\n",
                "\n",
                "@beartype\n",
                "def aws_make_rds_instance_not_publicly_accessible(handle, db_instance_identifier: str, region: str) -> str:\n",
                "    \"\"\"\n",
                "    aws_make_rds_instance_not_publicly_accessible makes the specified RDS instance not publicly accessible.\n",
                "\n",
                "    :type handle: object\n",
                "    :param handle: Object returned from task.validate(...).\n",
                "\n",
                "    :type db_instance_identifier: string\n",
                "    :param db_instance_identifier: Identifier of the RDS instance.\n",
                "\n",
                "    :type region: string\n",
                "    :param region: Region of the RDS instance.\n",
                "\n",
                "    :rtype: Response of the operation.\n",
                "    \"\"\"\n",
                "    try:\n",
                "        rdsClient = handle.client('rds', region_name=region)\n",
                "        rdsClient.modify_db_instance(\n",
                "            DBInstanceIdentifier=db_instance_identifier,\n",
                "            PubliclyAccessible=False\n",
                "        )\n",
                "    except Exception as e:\n",
                "        raise e\n",
                "    return f\"Public accessiblilty is being changed to False...\"\n",
                "\n",
                "\n",
                "\n",
                "\n",
                "task = Task(Workflow())\n",
                "task.configure(continueOnError=True)\n",
                "task.configure(credentialsJson='''{\\\"credential_type\\\": \\\"CONNECTOR_TYPE_AWS\\\"}''')\n",
                "task.configure(inputParamsJson='''{\n",
                "    \"db_instance_identifier\": \"iter.get(\\\\\"instance\\\\\")\",\n",
                "    \"region\": \"iter.get(\\\\\"region\\\\\")\"\n",
                "    }''')\n",
                "task.configure(iterJson='''{\n",
                "    \"iter_enabled\": true,\n",
                "    \"iter_list_is_const\": false,\n",
                "    \"iter_list\": \"all_public_instances\",\n",
                "    \"iter_parameter\": [\"db_instance_identifier\",\"region\"]\n",
                "    }''')\n",
                "task.configure(conditionsJson='''{\n",
                "    \"condition_enabled\": true,\n",
                "    \"condition_cfg\": \"len(all_public_instances)!=0\",\n",
                "    \"condition_result\": true\n",
                "    }''')\n",
                "\n",
                "task.configure(printOutput=True)\n",
                "(err, hdl, args) = task.validate(vars=vars())\n",
                "if err is None:\n",
                "    task.execute(aws_make_rds_instance_not_publicly_accessible, lego_printer=aws_make_rds_instance_not_publicly_accessible_printer, hdl=hdl, args=args)"
            ]
        },
        {
            "cell_type": "markdown",
            "id": "276822d0-0d5d-4023-83c1-3f8b12e50568",
            "metadata": {
                "jupyter": {
                    "source_hidden": false
                },
                "name": "Conclusion",
                "orderProperties": [],
                "tags": [],
                "title": "Conclusion"
            },
            "source": [
                "<h3 id=\"Conclusion\">Conclusion<a class=\"jp-InternalAnchorLink\" href=\"#Conclusion\" target=\"_self\">&para;</a></h3>\n",
                "<p>In this Runbook, we demonstrated the use of unSkript's AWS actions. This runbook help to find publicly accessible RDS instances and change it to private. To view the full platform capabilities of unSkript please visit&nbsp;<a href=\"https://us.app.unskript.io\" target=\"_blank\" rel=\"noopener\">https://us.app.unskript.io</a></p>"
            ]
        }
    ],
    "metadata": {
        "execution_data": {
            "parameters": [
                "channel",
                "region"
            ],
            "runbook_name": "Secure Publicly Accessible Amazon RDS Instances"
        },
        "kernelspec": {
            "display_name": "Python 3.10.6 64-bit",
            "language": "python",
            "name": "python3"
        },
        "language_info": {
            "codemirror_mode": {
                "name": "ipython",
                "version": 3
            },
            "file_extension": ".py",
            "mimetype": "text/x-python",
            "name": "python",
            "nbconvert_exporter": "python",
            "pygments_lexer": "ipython3",
            "version": "3.10.6"
        },
        "parameterSchema": {
            "properties": {
                "rds_instances": {
                    "description": "List of RDS instance DB Identifiers(names).",
                    "title": "rds_instances",
                    "type": "array"
                },
                "region": {
                    "description": "RDS instance region",
                    "title": "region",
                    "type": "string"
                }
            },
            "required": [],
            "title": "Schema",
            "type": "object"
        },
        "parameterValues": {},
        "vscode": {
            "interpreter": {
                "hash": "b0fa6594d8f4cbf19f97940f81e996739fb7646882a419484c72d19e05852a7e"
            }
        }
    },
    "nbformat": 4,
    "nbformat_minor": 5
}
