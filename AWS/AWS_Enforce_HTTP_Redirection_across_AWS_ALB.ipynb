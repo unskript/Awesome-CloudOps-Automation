{
 "cells": [
  {
   "attachments": {},
   "cell_type": "markdown",
   "id": "d06ee036-9b31-4b61-89d9-87510fa416a3",
   "metadata": {
    "jupyter": {
     "source_hidden": false
    },
    "name": "Runbook Overview",
    "orderProperties": [],
    "tags": [],
    "title": "Runbook Overview"
   },
   "source": [
    "<center><img src=\"https://storage.googleapis.com/unskript-website/assets/favicon.png\" alt=\"unSkript.com\" width=\"100\" height=\"100\">\n",
    "<h1 id=\"unSkript-Runbooks\">unSkript Runbooks</h1>\n",
    "<div class=\"alert alert-block alert-success\">\n",
    "<h3 id=\"Objective\"><strong>Objective</strong></h3>\n",
    "<strong> This runbook demonstrates how to enforce HTTP redirection across AWS ALB using unSkript actions.</strong></div>\n",
    "</center><center>\n",
    "<h2 id=\"Enforce-HTTP-Redirection-Across-AWS-ALB\">Enforce HTTP Redirection Across AWS ALB</h2>\n",
    "</center>\n",
    "<h1 id=\"Steps-Overview\">Steps Overview</h1>\n",
    "<p>1.&nbsp;Get AWS ALB Listeners Without HTTP Redirection.<br>2.&nbsp;AWS Modify ALB Listeners HTTP Redirection.</p>"
   ]
  },
  {
   "cell_type": "code",
   "execution_count": null,
   "id": "a90e59f3-d2cb-43dc-8695-fddf2b515fe4",
   "metadata": {
    "collapsed": true,
    "customAction": true,
    "jupyter": {
     "outputs_hidden": true,
     "source_hidden": true
    },
    "name": "Input Verification",
    "orderProperties": [],
    "tags": [],
    "title": "Input Verification",
    "credentialsJson": {}
   },
   "outputs": [],
   "source": [
    "if alb_listener_arns and not region:\n",
    "    raise SystemExit(\"Enter region for given ALB Listener's!\")\n",
    "if region == None:\n",
    "    region = \"\""
   ]
  },
  {
   "attachments": {},
   "cell_type": "markdown",
   "id": "c9c8eab9-731f-4b03-b59a-4e2bc95289f7",
   "metadata": {
    "jupyter": {
     "source_hidden": false
    },
    "name": "Step-1",
    "orderProperties": [],
    "tags": [],
    "title": "Step-1"
   },
   "source": [
    "<h3 id=\"Get-AWS-ALB-Listeners-Without-HTTP-Redirection\">Get AWS ALB Listeners Without HTTP Redirection</h3>\n",
    "<p>Here we will use unSkript <strong>Get AWS ALB Listeners Without HTTP Redirection</strong> action. In this action, we will check for listener configuration for HTTP redirection and return a list of listener ARNs that don't have HTTP redirection.</p>\n",
    "<blockquote>\n",
    "<p>Input parameters: <code>region</code></p>\n",
    "</blockquote>\n",
    "<blockquote>\n",
    "<p>Output variable: <code>listener_arns</code></p>\n",
    "</blockquote>"
   ]
  },
  {
   "cell_type": "code",
   "execution_count": null,
   "id": "9d6c0f6e-13e1-4269-9205-87e87f891432",
   "metadata": {
    "actionBashCommand": false,
    "actionCategories": [
     "CATEGORY_TYPE_IAM",
     "CATEGORY_TYPE_SECOPS",
     "CATEGORY_TYPE_AWS",
     "CATEGORY_TYPE_AWS_ELB"
    ],
    "actionDescription": "Get AWS ALB Listeners Without HTTP Redirection",
    "actionEntryFunction": "aws_get_alb_listeners_without_http_redirect",
    "actionIsCheck": true,
    "actionIsRemediation": false,
    "actionNeedsCredential": true,
    "actionNextHop": [
     "7d87da036fb983f7909a22a01529790dddc5179ebbb8f95517a66314d236555c"
    ],
    "actionNextHopParameterMapping": {},
    "actionNouns": null,
    "actionOutputType": "ACTION_OUTPUT_TYPE_LIST",
    "actionSupportsIteration": true,
    "actionSupportsPoll": true,
    "actionTitle": "Get AWS ALB Listeners Without HTTP Redirection",
    "actionType": "LEGO_TYPE_AWS",
    "actionVerbs": null,
    "actionVersion": "1.0.0",
    "action_modified": false,
    "action_uuid": "e84fa689b445924888abced31fe69f0edfcad2ea9135f175ce1897d86f04e6cd",
    "condition_enabled": true,
    "continueOnError": false,
    "description": "Get AWS ALB Listeners Without HTTP Redirection",
    "id": 1,
    "index": 1,
    "inputData": [
     {
      "region": {
       "constant": false,
       "value": "region"
      }
     }
    ],
    "inputschema": [
     {
      "properties": {
       "region": {
        "default": "",
        "description": "AWS Region of the ALB listeners.",
        "title": "Region",
        "type": "string"
       }
      },
      "required": [],
      "title": "aws_get_alb_listeners_without_http_redirect",
      "type": "object"
     }
    ],
    "jupyter": {
     "source_hidden": true
    },
    "language": "python",
    "legotype": "LEGO_TYPE_AWS",
    "name": "Get AWS ALB Listeners Without HTTP Redirection",
    "orderProperties": [
     "region"
    ],
    "outputParams": {
     "output_name": "listener_arns",
     "output_name_enabled": true,
     "output_runbook_enabled": false,
     "output_runbook_name": ""
    },
    "printOutput": true,
    "startcondition": "not alb_listener_arns",
    "tags": [
     "aws_get_alb_listeners_without_http_redirect"
    ],
    "uuid": "e84fa689b445924888abced31fe69f0edfcad2ea9135f175ce1897d86f04e6cd",
    "version": "1.0.0",
    "credentialsJson": {}
   },
   "outputs": [],
   "source": [
    "##  Copyright (c) 2021 unSkript, Inc\n",
    "##  All rights reserved.\n",
    "##\n",
    "from typing import Optional, Tuple\n",
    "from pydantic import BaseModel, Field\n",
    "from unskript.connectors.aws import aws_get_paginator\n",
    "from unskript.legos.aws.aws_list_all_regions.aws_list_all_regions import aws_list_all_regions\n",
    "from unskript.legos.aws.aws_list_application_loadbalancers.aws_list_application_loadbalancers import aws_list_application_loadbalancers\n",
    "import pprint\n",
    "\n",
    "\n",
    "from beartype import beartype\n",
    "@beartype\n",
    "def aws_get_alb_listeners_without_http_redirect_printer(output):\n",
    "    if output is None:\n",
    "        return\n",
    "\n",
    "    pprint.pprint(output)\n",
    "\n",
    "\n",
    "@beartype\n",
    "def aws_get_alb_listeners_without_http_redirect(handle, region: str = \"\") -> Tuple:\n",
    "    \"\"\"aws_get_alb_listeners_without_http_redirect List of ALB listeners without HTTP redirection.\n",
    "\n",
    "        :type handle: object\n",
    "        :param handle: Object returned from task.validate(...).\n",
    "\n",
    "        :type region: string\n",
    "        :param region: Region to filter ALB listeners.\n",
    "\n",
    "        :rtype: Tuple of status result and list of ALB listeners without HTTP redirection.\n",
    "    \"\"\"\n",
    "    result = []\n",
    "    all_regions = [region]\n",
    "    alb_list = []\n",
    "    if not region:\n",
    "        all_regions = aws_list_all_regions(handle)\n",
    "\n",
    "    for reg in all_regions:\n",
    "        try:\n",
    "            alb_dict = {}\n",
    "            loadbalancer_arn = aws_list_application_loadbalancers(handle, reg)\n",
    "            alb_dict[\"region\"] = reg\n",
    "            alb_dict[\"alb_arn\"] = loadbalancer_arn\n",
    "            alb_list.append(alb_dict)\n",
    "        except Exception as error:\n",
    "            pass\n",
    "\n",
    "    for alb in alb_list:\n",
    "        try:\n",
    "            ec2Client = handle.client('elbv2', region_name=alb[\"region\"])\n",
    "            for load in alb[\"alb_arn\"]:\n",
    "                response = aws_get_paginator(ec2Client, \"describe_listeners\", \"Listeners\",\n",
    "                                             LoadBalancerArn=load)\n",
    "                for listner in response:\n",
    "                    if 'SslPolicy' not in listner:\n",
    "                        resp = aws_get_paginator(ec2Client, \"describe_rules\", \"Rules\",\n",
    "                                             ListenerArn=listner['ListenerArn'])\n",
    "                        for rule in resp:\n",
    "                            for action in rule['Actions']:\n",
    "                                listener_dict = {}\n",
    "                                if action['Type'] != 'redirect':\n",
    "                                    listener_dict[\"region\"] = alb[\"region\"]\n",
    "                                    listener_dict[\"listener_arn\"] = listner['ListenerArn']\n",
    "                                    result.append(listener_dict)\n",
    "        except Exception as error:\n",
    "            pass\n",
    "\n",
    "    if len(result) != 0:\n",
    "        return (False, result)\n",
    "    else:\n",
    "        return (True, None)\n",
    "\n",
    "\n",
    "\n",
    "task = Task(Workflow())\n",
    "task.configure(inputParamsJson='''{\n",
    "    \"region\": \"region\"\n",
    "    }''')\n",
    "task.configure(conditionsJson='''{\n",
    "    \"condition_enabled\": true,\n",
    "    \"condition_cfg\": \"not alb_listener_arns\",\n",
    "    \"condition_result\": true\n",
    "    }''')\n",
    "\n",
    "task.configure(outputName=\"listener_arns\")\n",
    "\n",
    "task.configure(printOutput=True)\n",
    "(err, hdl, args) = task.validate(vars=vars())\n",
    "if err is None:\n",
    "    task.execute(aws_get_alb_listeners_without_http_redirect, lego_printer=aws_get_alb_listeners_without_http_redirect_printer, hdl=hdl, args=args)"
   ]
  },
  {
   "attachments": {},
   "cell_type": "markdown",
   "id": "75375134-5683-43a5-b814-b37326b2daab",
   "metadata": {
    "jupyter": {
     "source_hidden": false
    },
    "name": "Step-1 Extension",
    "orderProperties": [],
    "tags": [],
    "title": "Step-1 Extension"
   },
   "source": [
    "<h3 id=\"Modify-Listener-ARNs-Output\">Modify Listener ARNs Output</h3>\n",
    "<p>In this action, we modify the output from step 2 and return a list of dictionary items for the Listener's ARNs.</p>\n",
    "<blockquote>\n",
    "<p>Output variable: <code>arn_list</code></p>\n",
    "</blockquote>"
   ]
  },
  {
   "cell_type": "code",
   "execution_count": 22,
   "id": "e8d7cf3f-c738-4ed2-b735-08464a6cb712",
   "metadata": {
    "collapsed": true,
    "credentialsJson": {},
    "customAction": true,
    "execution_data": {
     "last_date_success_run_cell": "2023-01-30T15:00:54.938Z"
    },
    "jupyter": {
     "outputs_hidden": true,
     "source_hidden": true
    },
    "name": "Modify Listeners ARNs Output",
    "orderProperties": [],
    "tags": [],
    "title": "Modify Listeners ARNs Output"
   },
   "outputs": [],
   "source": [
    "import re \n",
    "import json\n",
    "from unskript.legos.utils import parseARN\n",
    "\n",
    "\n",
    "arns_list = []\n",
    "try:\n",
    "    if listener_arns[0] == False:\n",
    "        for listener in listener_arns[1]:\n",
    "            arns_list.append(listener)\n",
    "except Exception as e:\n",
    "    if alb_listener_arns:\n",
    "        for i in alb_listener_arns:\n",
    "            arn_dict = {}\n",
    "            parsedArn = parseARN(i)\n",
    "            arn_dict[\"region\"] = parsedArn[\"region\"]\n",
    "            arn_dict[\"listener_arn\"] = i\n",
    "            arns_list.append(arn_dict)\n",
    "    else:\n",
    "        raise Exception(e)"
   ]
  },
  {
   "attachments": {},
   "cell_type": "markdown",
   "id": "03516737-23d3-45cc-bcff-927d74635c82",
   "metadata": {
    "jupyter": {
     "source_hidden": false
    },
    "name": "Step-2",
    "orderProperties": [],
    "tags": [],
    "title": "Step-2"
   },
   "source": [
    "<h3 id=\"AWS-Modify-ALB-Listeners-HTTP-Redirection\"><a id=\"2\" target=\"_self\" rel=\"nofollow\"></a>AWS Modify ALB Listeners HTTP Redirection</h3>\n",
    "<p>Here we will use unSkript <strong>AWS Modify ALB Listeners HTTP Redirection</strong> action. In this action, we will modify a listener's configuration for HTTP redirection to the listener, which we get from step 2. This action only executes when len(Listener_ARNs)&gt;0.</p>\n",
    "<blockquote>\n",
    "<p>Input parameters: <code>listener_arn</code>, <code>region</code></p>\n",
    "</blockquote>\n",
    "<blockquote>\n",
    "<p>Output variable: <code>Modified_Output</code></p>\n",
    "</blockquote>"
   ]
  },
  {
   "cell_type": "code",
   "execution_count": 6,
   "id": "e6461e22-733d-4665-8e51-5e6d755c0c82",
   "metadata": {
    "accessType": "ACCESS_TYPE_UNSPECIFIED",
    "actionBashCommand": false,
    "actionNeedsCredential": true,
    "actionRequiredLinesInCode": [],
    "actionSupportsIteration": true,
    "actionSupportsPoll": true,
    "action_uuid": "f0e5d5038aad3efc10cd1cc79b27571c08d672b6b8c5cdd57e8bd5b78c23b001",
    "condition_enabled": true,
    "continueOnError": true,
    "createTime": "1970-01-01T00:00:00Z",
    "credentialsJson": {},
    "currentVersion": "0.1.0",
    "description": "AWS Modify ALB Listeners HTTP Redirection",
    "execution_data": {
     "last_date_success_run_cell": "2022-09-16T19:37:19.193Z"
    },
    "id": 149,
    "index": 149,
    "inputData": [
     {
      "listener_arn": {
       "constant": false,
       "value": "\"iter.get(\\\\\"listener_arn\\\\\")\""
      },
      "region": {
       "constant": false,
       "value": "\"iter.get(\\\\\"region\\\\\")\""
      }
     }
    ],
    "inputschema": [
     {
      "properties": {
       "listener_arn": {
        "description": "listener ARNs.",
        "title": "ListenerArn",
        "type": "string"
       },
       "region": {
        "description": "AWS Region of the ALB listeners.",
        "title": "Region",
        "type": "string"
       }
      },
      "required": [
       "listener_arn",
       "region"
      ],
      "title": "aws_modify_listener_for_http_redirection",
      "type": "object"
     }
    ],
    "iterData": [
     {
      "iter_enabled": true,
      "iter_item": {
       "listener_arn": "listener_arn",
       "region": "region"
      },
      "iter_list": {
       "constant": false,
       "objectItems": true,
       "value": "arns_list"
      }
     }
    ],
    "jupyter": {
     "source_hidden": true
    },
    "legotype": "LEGO_TYPE_AWS",
    "name": "AWS Modify ALB Listeners HTTP Redirection",
    "nouns": [
     "listeners",
     "loadbalancers"
    ],
    "orderProperties": [
     "listener_arn",
     "region"
    ],
    "output": {
     "type": ""
    },
    "outputParams": {
     "output_name": "modified_output",
     "output_name_enabled": true
    },
    "printOutput": true,
    "startcondition": "len(arns_list)>0",
    "tags": [
     "aws_modify_listener_for_http_redirection"
    ],
    "verbs": [
     "modify"
    ]
   },
   "outputs": [],
   "source": [
    "##  Copyright (c) 2021 unSkript, Inc\n",
    "##  All rights reserved.\n",
    "##\n",
    "from typing import List, Dict\n",
    "from pydantic import BaseModel, Field\n",
    "import pprint\n",
    "\n",
    "from beartype import beartype\n",
    "@beartype\n",
    "def aws_modify_listener_for_http_redirection_printer(output):\n",
    "    if output is None:\n",
    "        return\n",
    "    pprint.pprint(output)\n",
    "\n",
    "\n",
    "@beartype\n",
    "def aws_modify_listener_for_http_redirection(handle, listener_arn: str, region: str) -> List:\n",
    "    \"\"\"aws_modify_listener_for_http_redirection List of Dict with modified listener info.\n",
    "\n",
    "        :type handle: object\n",
    "        :param handle: Object returned from task.validate(...).\n",
    "\n",
    "        :type listener_arn: string\n",
    "        :param listener_arn: List of LoadBalancerArn.\n",
    "\n",
    "        :type region: string\n",
    "        :param region: Region to filter ALB listeners.\n",
    "\n",
    "        :rtype: List of Dict with modified ALB listeners info.\n",
    "    \"\"\"\n",
    "    listner_config = [{\n",
    "                        \"Type\": \"redirect\",\n",
    "                        \"Order\": 1,\n",
    "                        \"RedirectConfig\": {\n",
    "                            \"Protocol\": \"HTTPS\",\n",
    "                            \"Host\": \"#{host}\",\n",
    "                            \"Query\": \"#{query}\",\n",
    "                            \"Path\": \"/#{path}\",\n",
    "                            \"Port\": \"443\",\n",
    "                            \"StatusCode\": \"HTTP_302\"}}]\n",
    "    result = []\n",
    "    try:\n",
    "        #if ALB_Name in listener_arn:\n",
    "        ec2Client = handle.client('elbv2', region_name=region)\n",
    "        response = ec2Client.modify_listener(ListenerArn=listener_arn,\n",
    "                                                 DefaultActions=listner_config)\n",
    "        result.append(response)\n",
    "\n",
    "    except Exception as error:\n",
    "        result.append(error)\n",
    "\n",
    "    return result\n",
    "\n",
    "\n",
    "task = Task(Workflow())\n",
    "task.configure(printOutput=True)\n",
    "task.configure(continueOnError=True)\n",
    "task.configure(inputParamsJson='''{\n",
    "    \"region\": \"iter.get(\\\\\"region\\\\\")\",\n",
    "    \"listener_arn\": \"iter.get(\\\\\"listener_arn\\\\\")\"\n",
    "    }''')\n",
    "task.configure(iterJson='''{\n",
    "    \"iter_enabled\": true,\n",
    "    \"iter_list_is_const\": false,\n",
    "    \"iter_list\": \"arns_list\",\n",
    "    \"iter_parameter\": [\"listener_arn\",\"region\"]\n",
    "    }''')\n",
    "task.configure(conditionsJson='''{\n",
    "    \"condition_enabled\": true,\n",
    "    \"condition_cfg\": \"len(arns_list)>0\",\n",
    "    \"condition_result\": true\n",
    "    }''')\n",
    "task.configure(outputName=\"modified_output\")\n",
    "\n",
    "(err, hdl, args) = task.validate(vars=vars())\n",
    "if err is None:\n",
    "    task.execute(aws_modify_listener_for_http_redirection, lego_printer=aws_modify_listener_for_http_redirection_printer, hdl=hdl, args=args)"
   ]
  },
  {
   "attachments": {},
   "cell_type": "markdown",
   "id": "ddfe6833-aaf9-42b5-aa00-d759b2921ed0",
   "metadata": {
    "jupyter": {
     "source_hidden": false
    },
    "name": "Conclusion",
    "orderProperties": [],
    "tags": [],
    "title": "Conclusion"
   },
   "source": [
    "### Conclusion\n",
    "<p>In this Runbook, we demonstrated the use of unSkript's AWS actions and this runbook find out all the Application Load Balancer listeners without HTTP redirection and modify them for HTTP redirection. To view the full platform capabilities of unSkript please visit <a href=\"https://us.app.unskript.io\" target=\"_blank\" rel=\"noopener\">https://us.app.unskript.io</a></p>"
   ]
  }
 ],
 "metadata": {
  "execution_data": {
   "runbook_name": "Enforce HTTP Redirection across all AWS ALB instances",
   "parameters": [
    "alb_listener_arns",
    "region"
   ]
  },
  "kernelspec": {
   "display_name": "unSkript (Build: 1166)",
   "language": "python",
   "name": "python3"
  },
  "language_info": {
   "codemirror_mode": {
    "name": "ipython",
    "version": 3
   },
   "file_extension": ".py",
   "mimetype": "text/x-python",
   "name": "python",
   "nbconvert_exporter": "python",
   "pygments_lexer": "ipython3",
   "version": "3.9.6"
  },
  "parameterSchema": {
   "properties": {
    "alb_listener_arns": {
     "description": "Listeners ARNs where HTTP redirection needs to be added.",
     "title": "alb_listener_arns",
     "type": "array"
    },
    "region": {
     "description": "AWS region e.g. us-west-2",
     "title": "region",
     "type": "string"
    }
   },
   "required": [],
   "title": "Schema",
   "type": "object"
  },
  "vscode": {
   "interpreter": {
    "hash": "e8899eb02dfbc033aab5733bdae1bd213fa031d40331094008e8673d99ebab63"
   }
  }
 },
 "nbformat": 4,
 "nbformat_minor": 5
}