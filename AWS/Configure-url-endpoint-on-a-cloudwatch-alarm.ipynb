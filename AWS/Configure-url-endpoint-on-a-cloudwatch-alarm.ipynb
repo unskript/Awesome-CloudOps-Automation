{
 "cells": [
  {
   "cell_type": "markdown",
   "id": "02550ae3",
   "metadata": {},
   "source": [
    "\n",
    "<img src=\"https://unskript.com/assets/favicon.png\" alt=\"unSkript.com\" width=\"100\" height=\"100\"/> \n",
    "<h1> unSkript Runbooks </h1>\n",
    "<div class=\"alert alert-block alert-success\">\n",
    "    <b> This runbook demonstrates How to configure the URL endpoint on cloudwatch alarm using unSkript legos.</b>\n",
    "</div>\n",
    "\n",
    "<br>\n",
    "\n",
    "<center><h2>Configure url endpoint on a cloudwatch alarm</h2></center>\n",
    "\n",
    "# Steps Overview\n",
    "    Attach a webhook endpoint to one of the SNS attached to the AWS Cloudwatch alarm."
   ]
  },
  {
   "cell_type": "markdown",
   "id": "943a923f",
   "metadata": {},
   "source": [
    "Here we will use unSkript Configure url endpoint on a cloudwatch alarm Lego. This lego takes alarm_name: str, region: str, url: str as input. This inputs is used to Configures the url endpoint to the SNS associated with a cloudwatch alarm."
   ]
  },
  {
   "cell_type": "code",
   "execution_count": null,
   "id": "9d95ff8a-45df-4c51-b30f-3467301e23c4",
   "metadata": {
    "accessType": "ACCESS_TYPE_UNSPECIFIED",
    "actionBashCommand": false,
    "actionNeedsCredential": true,
    "actionSupportsIteration": true,
    "actionSupportsPoll": true,
    "action_uuid": "e591113f7afc699ee564d67ef912ea2d689acc91d7640a2a05e68c039153bd33",
    "createTime": "1970-01-01T00:00:00Z",
    "currentVersion": "0.1.0",
    "description": "Attach a webhook endpoint to one of the SNS attached to the AWS Cloudwatch alarm.",
    "id": 113,
    "index": 113,
    "inputData": [
     {
      "alarm_name": {
       "constant": false,
       "value": "AlarmName"
      },
      "region": {
       "constant": false,
       "value": "Region"
      },
      "url": {
       "constant": false,
       "value": "URL"
      }
     }
    ],
    "inputschema": [
     {
      "properties": {
       "alarm_name": {
        "description": "Cloudwatch alarm name.",
        "title": "Alarm name",
        "type": "string"
       },
       "region": {
        "description": "AWS Region of the cloudwatch.",
        "title": "Region",
        "type": "string"
       },
       "url": {
        "description": "URL where the alarm notification needs to be sent. URL should start with http or https.",
        "title": "URL",
        "type": "string"
       }
      },
      "required": [
       "alarm_name",
       "region",
       "url"
      ],
      "title": "aws_cloudwatch_attach_webhook_notification_to_alarm",
      "type": "object"
     }
    ],
    "jupyter": {
     "source_hidden": true
    },
    "legotype": "LEGO_TYPE_AWS",
    "name": "Attach a webhook endpoint to AWS Cloudwatch alarm",
    "nouns": [
     "cloudwatch",
     "alert",
     "aws",
     "alarm",
     "webhook",
     "notification",
     "url"
    ],
    "orderProperties": [
     "alarm_name",
     "region",
     "url"
    ],
    "output": {
     "type": ""
    },
    "tags": [
     "aws_cloudwatch_attach_webhook_notification_to_alarm"
    ],
    "verbs": [
     "attach",
     "notify"
    ]
   },
   "outputs": [],
   "source": [
    "##\n",
    "# Copyright (c) 2021 unSkript, Inc\n",
    "# All rights reserved.\n",
    "##\n",
    "\n",
    "import enum\n",
    "from pydantic import BaseModel, Field\n",
    "from typing import Optional, List\n",
    "from datetime import datetime, timedelta\n",
    "import matplotlib.pyplot as plt\n",
    "from unskript.legos.aws.aws_get_handle import Session\n",
    "from urllib.parse import urlparse\n",
    "\n",
    "from beartype import beartype\n",
    "@beartype\n",
    "def aws_cloudwatch_attach_webhook_notification_to_alarm(\n",
    "    hdl: Session,\n",
    "    alarm_name: str,\n",
    "    region: str,\n",
    "    url: str\n",
    "):\n",
    "    cloudwatchClient = hdl.client(\"cloudwatch\", region_name=region)\n",
    "\n",
    "    # Get the configured SNS(es) to this alarm.\n",
    "    alarmDetail = cloudwatchClient.describe_alarms(\n",
    "        AlarmNames=[alarm_name]\n",
    "    )\n",
    "    if alarmDetail is None:\n",
    "        print(f'Alarm {alarm_name} not found in AWS region {region}')\n",
    "        return\n",
    "    # Need to get the AlarmActions from either composite or metric field.\n",
    "    if len(alarmDetail['CompositeAlarms']) > 0:\n",
    "        snses = alarmDetail['CompositeAlarms'][0]['AlarmActions']\n",
    "    else:\n",
    "        snses = alarmDetail['MetricAlarms'][0]['AlarmActions']\n",
    "\n",
    "    #Pick any sns to configure the url endpoint.\n",
    "    if len(snses) == 0:\n",
    "        print(f'No SNS configured for alarm {alarm_name}')\n",
    "        return\n",
    "\n",
    "    snsArn = snses[0]\n",
    "    print(f'Configuring url endpoint on SNS {snsArn}')\n",
    "\n",
    "    snsClient = hdl.client('sns', region_name=region)\n",
    "    # Figure out the protocol from the url\n",
    "    try:\n",
    "        parsedURL = urlparse(url)\n",
    "    except Exception as e:\n",
    "        print(f'Invalid URL {url}, {e}')\n",
    "        return\n",
    "\n",
    "    if parsedURL.scheme != 'http' and parsedURL.scheme != 'https':\n",
    "        print(f'Invalid URL {url}')\n",
    "        return\n",
    "\n",
    "    protocol = parsedURL.scheme\n",
    "    try:\n",
    "       response = snsClient.subscribe(\n",
    "            TopicArn=snsArn,\n",
    "            Protocol=protocol,\n",
    "            Endpoint=url,\n",
    "            ReturnSubscriptionArn=True)\n",
    "    except Exception as e:\n",
    "        print(f'Subscribe to SNS topic arn {snsArn} failed, {e}')\n",
    "        return\n",
    "    subscriptionArn = response['SubscriptionArn']\n",
    "    print(f'URL {url} subscribed to SNS {snsArn}, subscription ARN {subscriptionArn}')\n",
    "    return subscriptionArn\n",
    "\n",
    "\n",
    "\n",
    "task = Task(Workflow())\n",
    "task.configure(inputParamsJson='''{\n",
    "    \"alarm_name\": \"AlarmName\",\n",
    "    \"region\": \"Region\",\n",
    "    \"url\": \"URL\"\n",
    "    }''')\n",
    "\n",
    "(err, hdl, args) = task.validate(vars=vars())\n",
    "if err is None:\n",
    "    task.output = task.execute(aws_cloudwatch_attach_webhook_notification_to_alarm, hdl=hdl, args=args)\n",
    "    if task.output_name != None:\n",
    "        globals().update({task.output_name: task.output[0]})\n",
    "\n",
    "if hasattr(task, 'output'):\n",
    "    if isinstance(task.output, (list, tuple)):\n",
    "        for item in task.output:\n",
    "            print(f'item: {item}')\n",
    "    elif isinstance(task.output, dict):\n",
    "        for item in task.output.items():\n",
    "            print(f'item: {item}')\n",
    "    else:\n",
    "        print(f'Output for {task.name}')\n",
    "        print(task.output)\n",
    "    w.tasks[task.name]= task.output"
   ]
  },
  {
   "cell_type": "markdown",
   "id": "93fbb5a1",
   "metadata": {},
   "source": [
    "### Conclusion\n",
    "In this Runbook, we demonstrated the use of unSkript's AWS legos to Configures the url endpoint to the SNS associated with a cloudwatch alarm. To view the full platform capabilities of unSkript please visit https://us.app.unskript.io"
   ]
  },
  {
   "cell_type": "markdown",
   "id": "87aa3311",
   "metadata": {},
   "source": []
  }
 ],
 "metadata": {
  "execution_data": {
   "environment_id": "dba3932f-3118-4ab0-b92c-70fa56402037",
   "environment_name": "SingleAMI",
   "execution_id": "",
   "inputs_for_searched_lego": "",
   "notebook_id": "workflow.ipynb",
   "parameters": [
    "AlarmName",
    "Region",
    "URL"
   ],
   "runbook_name": "JRRunbook",
   "search_string": "",
   "show_tool_tip": false,
   "tenant_id": "8b3c7148-2d57-4b89-84d3-d59f6c792b0c",
   "tenant_url": "https://tenant-amit.dev.unskript.io",
   "user_email_id": "amit@unskript.com",
   "workflow_id": "755dbe40-22d7-4b70-a04d-31d34bb04e4a"
  },
  "kernelspec": {
   "display_name": "Python 3.10.4 ('test')",
   "language": "python",
   "name": "python3"
  },
  "language_info": {
   "codemirror_mode": {
    "name": "ipython",
    "version": 3
   },
   "file_extension": ".py",
   "mimetype": "text/x-python",
   "name": "python",
   "nbconvert_exporter": "python",
   "pygments_lexer": "ipython3",
   "version": "3.10.4"
  },
  "parameterSchema": {
   "properties": {
    "AlarmName": {
     "description": "Name of the AWS Alarm",
     "title": "AlarmName",
     "type": "string"
    },
    "Region": {
     "description": "AWS Region of the alarm",
     "title": "Region",
     "type": "string"
    },
    "URL": {
     "description": "URL to be attached to the SNS ",
     "title": "URL",
     "type": "string"
    }
   },
   "required": [],
   "title": "Schema",
   "type": "object"
  },
  "parameterValues": {
   "AlarmName": null,
   "Region": null,
   "URL": null
  },
  "vscode": {
   "interpreter": {
    "hash": "4bbe27a4ef15b3fedcd2e654ecc35fc9b20de5c40077b83d62753092d26a6932"
   }
  }
 },
 "nbformat": 4,
 "nbformat_minor": 5
}
