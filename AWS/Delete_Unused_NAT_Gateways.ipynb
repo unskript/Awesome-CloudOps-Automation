{
 "cells": [
  {
   "cell_type": "markdown",
   "id": "625dfbc1-d348-4423-97b8-df672384cdd1",
   "metadata": {
    "jupyter": {
     "source_hidden": false
    },
    "name": "Runbook Overview",
    "orderProperties": [],
    "tags": [],
    "title": "Runbook Overview"
   },
   "source": [
    "<center><img src=\"https://storage.googleapis.com/unskript-website/assets/favicon.png\" alt=\"unSkript.com\" width=\"100\" height=\"100\">\n",
    "<h1 id=\"unSkript-Runbooks\">unSkript Runbooks<a class=\"jp-InternalAnchorLink\" href=\"#unSkript-Runbooks\" target=\"_self\">&para;</a></h1>\n",
    "<div class=\"alert alert-block alert-success\">\n",
    "<h3 id=\"Objective\"><strong>Objective</strong><a class=\"jp-InternalAnchorLink\" href=\"#Objective\" target=\"_self\">&para;</a></h3>\n",
    "<strong>Delete unused NAT gateways using unSkript actions.</strong></div>\n",
    "</center><center>\n",
    "<h2 id=\"Delete-Unused-NAT-Gateways\">Delete Unused NAT Gateways<a class=\"jp-InternalAnchorLink\" href=\"#Delete-Unused-NAT-Gateways\" target=\"_self\">&para;</a></h2>\n",
    "</center>\n",
    "<h1 id=\"Steps-Overview\">Steps Overview<a class=\"jp-InternalAnchorLink\" href=\"#Steps-Overview\" target=\"_self\">&para;</a></h1>\n",
    "<p>1. AWS Find Unused NAT Gateways<br>2. AWS Delete NAT Gateway</p>"
   ]
  },
  {
   "cell_type": "code",
   "execution_count": 17,
   "id": "12b4137f-26f9-47d9-8b2f-69b06c928fb3",
   "metadata": {
    "customAction": true,
    "execution_data": {
     "last_date_success_run_cell": "2023-04-27T10:10:26.092Z"
    },
    "jupyter": {
     "source_hidden": true
    },
    "name": "Input Verification",
    "orderProperties": [],
    "tags": [],
    "title": "Input Verification",
    "credentialsJson": {}
   },
   "outputs": [],
   "source": [
    "if nat_gateway_ids and not region:\n",
    "    raise SystemExit(\"Enter region for given NAT gateways!\")"
   ],
   "output": {}
  },
  {
   "cell_type": "markdown",
   "id": "75682d4f-d916-434f-8dd5-9a9da5ac74da",
   "metadata": {
    "jupyter": {
     "source_hidden": false
    },
    "name": "Gather Information",
    "orderProperties": [],
    "tags": [],
    "title": "Gather Information"
   },
   "source": [
    "<h3 id=\"AWS-List-All-Regions\">AWS List All Regions</h3>\n",
    "<p>In this action, we list all the available regions from AWS if the user does not provide a region as a parameter.</p>\n",
    "<blockquote>\n",
    "<p>Output variable: <code>region</code></p>\n",
    "</blockquote>"
   ]
  },
  {
   "cell_type": "code",
   "execution_count": 18,
   "id": "8e01e7d7-8f46-415b-a8ec-17ec9b9fbc77",
   "metadata": {
    "accessType": "ACCESS_TYPE_UNSPECIFIED",
    "actionBashCommand": false,
    "actionCategories": [
     "CATEGORY_TYPE_CLOUDOPS",
     "CATEGORY_TYPE_DEVOPS",
     "CATEGORY_TYPE_SRE",
     "CATEGORY_TYPE_AWS"
    ],
    "actionIsCheck": false,
    "actionNeedsCredential": true,
    "actionNextHop": [],
    "actionNextHopParameterMapping": {},
    "actionOutputType": "",
    "actionRequiredLinesInCode": [],
    "actionSupportsIteration": true,
    "actionSupportsPoll": true,
    "action_modified": false,
    "action_uuid": "708ea4af5f8fe7096a15b3a52c4a657606bab9e177386fad7a847341ed607d64",
    "checkEnabled": false,
    "condition_enabled": true,
    "createTime": "1970-01-01T00:00:00Z",
    "credentialsJson": {},
    "currentVersion": "0.1.0",
    "description": "List all available AWS Regions",
    "execution_data": {
     "last_date_success_run_cell": "2023-04-27T10:10:33.368Z"
    },
    "id": 299,
    "index": 299,
    "inputschema": [
     {
      "properties": {},
      "title": "aws_list_all_regions",
      "type": "object"
     }
    ],
    "isUnskript": false,
    "jupyter": {
     "source_hidden": true
    },
    "legotype": "LEGO_TYPE_AWS",
    "name": "AWS List All Regions",
    "nouns": [
     "regions",
     "aws"
    ],
    "orderProperties": [],
    "output": {
     "type": ""
    },
    "outputParams": {
     "output_name": "region",
     "output_name_enabled": true,
     "output_runbook_enabled": false,
     "output_runbook_name": ""
    },
    "printOutput": true,
    "startcondition": "not region",
    "tags": [
     "aws_list_all_regions"
    ],
    "verbs": [
     "list"
    ]
   },
   "outputs": [],
   "source": [
    "#\n",
    "# Copyright (c) 2021 unSkript.com\n",
    "# All rights reserved.\n",
    "#\n",
    "\n",
    "from pydantic import BaseModel, Field\n",
    "from typing import Dict, List\n",
    "import pprint\n",
    "\n",
    "from beartype import beartype\n",
    "@beartype\n",
    "def aws_list_all_regions_printer(output):\n",
    "    if output is None:\n",
    "        return\n",
    "    pprint.pprint(output)\n",
    "\n",
    "\n",
    "@beartype\n",
    "def aws_list_all_regions(handle) -> List:\n",
    "    \"\"\"aws_list_all_regions lists all the AWS regions\n",
    "\n",
    "        :type handle: object\n",
    "        :param handle: Object returned from Task Validate\n",
    "\n",
    "        :rtype: Result List of result\n",
    "    \"\"\"\n",
    "\n",
    "    result = handle.aws_cli_command(\"aws ec2 --region us-west-2 describe-regions --all-regions --query 'Regions[].{Name:RegionName}' --output text\")\n",
    "    if result is None or result.returncode != 0:\n",
    "        print(\"Error while executing command : {}\".format(result))\n",
    "        return str()\n",
    "    result_op = list(result.stdout.split(\"\\n\"))\n",
    "    list_region = [x for x in result_op if x != '']\n",
    "    return list_region\n",
    "\n",
    "\n",
    "task = Task(Workflow())\n",
    "task.configure(conditionsJson='''{\n",
    "    \"condition_enabled\": true,\n",
    "    \"condition_cfg\": \"not region\",\n",
    "    \"condition_result\": true\n",
    "    }''')\n",
    "\n",
    "task.configure(outputName=\"region\")\n",
    "task.configure(printOutput=True)\n",
    "(err, hdl, args) = task.validate(vars=vars())\n",
    "if err is None:\n",
    "    task.execute(aws_list_all_regions, lego_printer=aws_list_all_regions_printer, hdl=hdl, args=args)"
   ],
   "output": {}
  },
  {
   "cell_type": "markdown",
   "id": "4c018554-a630-4b6d-a7c8-043f299f156f",
   "metadata": {
    "jupyter": {
     "source_hidden": false
    },
    "name": "Step-1",
    "orderProperties": [],
    "tags": [],
    "title": "Step-1"
   },
   "source": [
    "<h3 id=\"Filter-Unattached-EBS-Volumes\">AWS Find Unused NAT Gateways</h3>\n",
    "<p>Here we will use unSkript&nbsp;<strong>AWS Find Unused NAT Gateways</strong> action. This action filters all the NAT Gateways from the given region and returns a list of all the unused NAT Gateways. It will execute if the nat_gateway_ids&nbsp;parameter is not passed.</p>\n",
    "<blockquote>\n",
    "<p>Input parameters: <code>region</code></p>\n",
    "</blockquote>\n",
    "<blockquote>\n",
    "<p>Output variable: <code>unused_nat_gateways</code></p>\n",
    "</blockquote>"
   ]
  },
  {
   "cell_type": "code",
   "execution_count": 22,
   "id": "ff1fcca6-dce6-4a51-a73c-5dc106f4cb76",
   "metadata": {
    "accessType": "ACCESS_TYPE_UNSPECIFIED",
    "actionBashCommand": false,
    "actionCategories": [
     "CATEGORY_TYPE_CLOUDOPS",
     "CATEGORY_TYPE_SECOPS",
     "CATEGORY_TYPE_AWS",
     "CATEGORY_TYPE_AWS_NAT_GATEWAY",
     "CATEGORY_TYPE_AWS_EC2"
    ],
    "actionIsCheck": true,
    "actionNeedsCredential": true,
    "actionNextHop": [
     "26da5206a0a18b30a83f9a72e0dc61408237920bf84831165974610c79875bfb"
    ],
    "actionNextHopParameterMapping": {},
    "actionOutputType": "",
    "actionRequiredLinesInCode": [],
    "actionSupportsIteration": true,
    "actionSupportsPoll": true,
    "action_modified": false,
    "action_uuid": "0f0c137beaf6a9246508393d1e868cea529d30a88631cd0f321799acbfbd47bb",
    "checkEnabled": false,
    "condition_enabled": true,
    "continueOnError": true,
    "createTime": "1970-01-01T00:00:00Z",
    "credentialsJson": {},
    "currentVersion": "0.1.0",
    "description": "This action to get all of the Nat gateways that have zero traffic over those",
    "execution_data": {
     "last_date_success_run_cell": "2023-04-27T10:18:40.172Z"
    },
    "id": 322,
    "index": 322,
    "inputData": [
     {
      "number_of_days": {
       "constant": false,
       "value": "int(number_of_days)"
      },
      "region": {
       "constant": false,
       "value": "iter_item"
      }
     }
    ],
    "inputschema": [
     {
      "properties": {
       "number_of_days": {
        "description": "Number of days to check the Datapoints.",
        "title": "Number of Days",
        "type": "integer"
       },
       "region": {
        "description": "AWS Region.",
        "title": "Region",
        "type": "string"
       }
      },
      "title": "aws_filter_unused_nat_gateway",
      "type": "object"
     }
    ],
    "isUnskript": false,
    "iterData": [
     {
      "iter_enabled": true,
      "iter_item": "region",
      "iter_list": {
       "constant": false,
       "objectItems": false,
       "value": "region"
      }
     }
    ],
    "jupyter": {
     "source_hidden": true
    },
    "legotype": "LEGO_TYPE_AWS",
    "name": "AWS Find Unused NAT Gateways",
    "nouns": [],
    "orderProperties": [
     "region",
     "number_of_days"
    ],
    "output": {
     "type": ""
    },
    "outputParams": {
     "output_name": "unused_nat_gateways",
     "output_name_enabled": true,
     "output_runbook_enabled": false,
     "output_runbook_name": ""
    },
    "printOutput": true,
    "startcondition": "not nat_gateway_ids",
    "tags": [
     "aws_filter_unused_nat_gateway"
    ],
    "title": "AWS Find Unused NAT Gateways",
    "verbs": []
   },
   "outputs": [],
   "source": [
    "##\n",
    "##  Copyright (c) 2021 unSkript, Inc\n",
    "##  All rights reserved.\n",
    "##\n",
    "from typing import Optional, Tuple\n",
    "from pydantic import BaseModel, Field\n",
    "from datetime import datetime, timedelta\n",
    "from unskript.legos.aws.aws_list_all_regions.aws_list_all_regions import aws_list_all_regions\n",
    "import pprint\n",
    "\n",
    "from beartype import beartype\n",
    "@beartype\n",
    "def aws_filter_unused_nat_gateway_printer(output):\n",
    "    if output is None:\n",
    "        return\n",
    "    pprint.pprint(output)\n",
    "\n",
    "\n",
    "@beartype\n",
    "def is_nat_gateway_used(handle, nat_gateway, start_time, end_time):\n",
    "    datapoints = []\n",
    "    if nat_gateway['State'] != 'deleted':\n",
    "        # Get the metrics data for the specified NAT Gateway over the last 7 days\n",
    "        metrics_data = handle.get_metric_statistics(\n",
    "            Namespace='AWS/NATGateway',\n",
    "            MetricName='BytesIn',\n",
    "            Dimensions=[\n",
    "                {\n",
    "                    'Name': 'NatGatewayId',\n",
    "                    'Value': nat_gateway['NatGatewayId']\n",
    "                },\n",
    "            ],\n",
    "            StartTime=start_time,\n",
    "            EndTime=end_time,\n",
    "            Period=3600,\n",
    "            Statistics=['Sum']\n",
    "        )\n",
    "        datapoints += metrics_data['Datapoints']\n",
    "    if len(datapoints) == 0 or metrics_data['Datapoints'][0]['Sum']:\n",
    "        return False\n",
    "    else:\n",
    "        return True\n",
    "\n",
    "\n",
    "@beartype\n",
    "def aws_filter_unused_nat_gateway(handle, number_of_days: int = 7, region: str = \"\") -> Tuple:\n",
    "    \"\"\"aws_get_natgateway_by_vpc Returns an array of NAT gateways.\n",
    "\n",
    "        :type region: string\n",
    "        :param region: Region to filter NAT Gateways.\n",
    "\n",
    "        :type number_of_days: int\n",
    "        :param number_of_days: Number of days to check the Datapoints.\n",
    "\n",
    "        :rtype: Array of NAT gateways.\n",
    "    \"\"\"\n",
    "    result = []\n",
    "    end_time = datetime.utcnow()\n",
    "    start_time = end_time - timedelta(days=number_of_days)\n",
    "    all_regions = [region]\n",
    "    if not region:\n",
    "        all_regions = aws_list_all_regions(handle)\n",
    "\n",
    "    for reg in all_regions:\n",
    "        try:\n",
    "            ec2Client = handle.client('ec2', region_name=reg)\n",
    "            cloudwatch = handle.client('cloudwatch', region_name=reg)\n",
    "            response = ec2Client.describe_nat_gateways()\n",
    "            for nat_gateway in response['NatGateways']:\n",
    "                nat_gateway_info = {}\n",
    "                if not is_nat_gateway_used(cloudwatch, nat_gateway, start_time, end_time):\n",
    "                    nat_gateway_info[\"nat_gateway_id\"] = nat_gateway['NatGatewayId']\n",
    "                    nat_gateway_info[\"region\"] = reg\n",
    "                    result.append(nat_gateway_info)\n",
    "        except Exception as e:\n",
    "            pass\n",
    "\n",
    "    if len(result) != 0:\n",
    "        return (False, result)\n",
    "    else:\n",
    "        return (True, None)\n",
    "\n",
    "\n",
    "task = Task(Workflow())\n",
    "task.configure(continueOnError=True)\n",
    "task.configure(outputName=\"unused_nat_gateways\")\n",
    "\n",
    "task.configure(inputParamsJson='''{\n",
    "    \"number_of_days\": \"int(number_of_days)\",\n",
    "    \"region\": \"iter_item\"\n",
    "    }''')\n",
    "task.configure(iterJson='''{\n",
    "    \"iter_enabled\": true,\n",
    "    \"iter_list_is_const\": false,\n",
    "    \"iter_list\": \"region\",\n",
    "    \"iter_parameter\": \"region\"\n",
    "    }''')\n",
    "task.configure(conditionsJson='''{\n",
    "    \"condition_enabled\": true,\n",
    "    \"condition_cfg\": \"not nat_gateway_ids\",\n",
    "    \"condition_result\": true\n",
    "    }''')\n",
    "task.configure(printOutput=True)\n",
    "(err, hdl, args) = task.validate(vars=vars())\n",
    "if err is None:\n",
    "    task.execute(aws_filter_unused_nat_gateway, lego_printer=aws_filter_unused_nat_gateway_printer, hdl=hdl, args=args)"
   ],
   "output": {}
  },
  {
   "cell_type": "markdown",
   "id": "c597d85b-9748-421b-a3fe-e6499fa167f4",
   "metadata": {
    "jupyter": {
     "source_hidden": false
    },
    "name": "Step-1 Extension",
    "orderProperties": [],
    "tags": [],
    "title": "Step-1 Extension"
   },
   "source": [
    "<h3 id=\"Modify-Snapshot-Output\">Modify Unused NAT Gateways Output</h3>\n",
    "<p>In this action, we modify the output from Step 1 and return a list of unused NAT gateways.&nbsp;</p>\n",
    "<blockquote>\n",
    "<p>Output variable: nat_gateways</p>\n",
    "</blockquote>"
   ]
  },
  {
   "cell_type": "code",
   "execution_count": 24,
   "id": "2fdc0c0f-ea85-498a-88c1-04352631c8f8",
   "metadata": {
    "customAction": true,
    "execution_data": {
     "last_date_success_run_cell": "2023-04-27T10:19:08.248Z"
    },
    "jupyter": {
     "source_hidden": true
    },
    "name": "Modify Unused NAT Gateways Output",
    "orderProperties": [],
    "tags": [],
    "title": "Modify Unused NAT Gateways Output",
    "credentialsJson": {}
   },
   "outputs": [],
   "source": [
    "nat_gateways = []\n",
    "try:\n",
    "    for key, value in unused_nat_gateways.items():\n",
    "        if value[0] == False:\n",
    "            if len(value[1])!= 0:\n",
    "                nat_gateways = value[1]\n",
    "except Exception as e:\n",
    "    if len(nat_gateway_ids) != 0:\n",
    "        for nat in nat_gateway_ids:\n",
    "            nat_ids = {}\n",
    "            nat_ids[\"nat_gateway_id\"] = nat\n",
    "            nat_ids[\"region\"] = region[0]\n",
    "            nat_gateways.append(nat_ids)\n",
    "    else:\n",
    "        raise e"
   ],
   "output": {}
  },
  {
   "cell_type": "markdown",
   "id": "697f38a7-613c-4616-a37a-32b977f4faa0",
   "metadata": {
    "jupyter": {
     "source_hidden": false
    },
    "name": "Step-2",
    "orderProperties": [],
    "tags": [],
    "title": "Step-2"
   },
   "source": [
    "<h3 id=\"Delete-EBS-Volume\">AWS Delete NAT Gateway</h3>\n",
    "<p>Here we will use the unSkript <strong>AWS Delete NAT Gateway</strong> action. In this action, we will pass the list of unused NAT Gateways from Step 1 and delete those NAT Gateways.</p>\n",
    "<blockquote>\n",
    "<p>Input parameters: <code>nat_gateway_id</code>, <code>region</code></p>\n",
    "</blockquote>\n",
    "<blockquote>\n",
    "<p>Output variable: <code>delete_status</code></p>\n",
    "</blockquote>"
   ]
  },
  {
   "cell_type": "code",
   "execution_count": null,
   "id": "24c2d14a-a543-4251-8243-d12c052f89b1",
   "metadata": {
    "accessType": "ACCESS_TYPE_UNSPECIFIED",
    "actionBashCommand": false,
    "actionCategories": [
     "CATEGORY_TYPE_DEVOPS",
     "CATEGORY_TYPE_SRE",
     "CATEGORY_TYPE_AWS"
    ],
    "actionIsCheck": false,
    "actionNeedsCredential": true,
    "actionNextHop": [],
    "actionNextHopParameterMapping": {},
    "actionOutputType": "",
    "actionRequiredLinesInCode": [],
    "actionSupportsIteration": true,
    "actionSupportsPoll": true,
    "action_modified": false,
    "action_uuid": "c24c20b1d1d8a9f31ddbf6f2adf96cbd37df3a0fcf99e4a9a85b1f8b897ad8d4",
    "checkEnabled": false,
    "condition_enabled": true,
    "continueOnError": true,
    "createTime": "1970-01-01T00:00:00Z",
    "currentVersion": "0.1.0",
    "description": "AWS Delete NAT Gateway",
    "id": 240,
    "index": 240,
    "inputData": [
     {
      "nat_gateway_id": {
       "constant": false,
       "value": "\"iter.get(\\\\\"nat_gateway_id\\\\\")\""
      },
      "region": {
       "constant": false,
       "value": "\"iter.get(\\\\\"region\\\\\")\""
      }
     }
    ],
    "inputschema": [
     {
      "properties": {
       "nat_gateway_id": {
        "description": "ID of the NAT Gateway.",
        "title": "NAT Gateway ID",
        "type": "string"
       },
       "region": {
        "description": "AWS Region.",
        "title": "Region",
        "type": "string"
       }
      },
      "required": [
       "nat_gateway_id",
       "region"
      ],
      "title": "aws_delete_nat_gateway",
      "type": "object"
     }
    ],
    "isUnskript": false,
    "iterData": [
     {
      "iter_enabled": true,
      "iter_item": {
       "nat_gateway_id": "nat_gateway_id",
       "region": "region"
      },
      "iter_list": {
       "constant": false,
       "objectItems": true,
       "value": "nat_gateways"
      }
     }
    ],
    "jupyter": {
     "source_hidden": true
    },
    "legotype": "LEGO_TYPE_AWS",
    "name": "AWS Delete NAT Gateway",
    "nouns": [],
    "orderProperties": [
     "nat_gateway_id",
     "region"
    ],
    "output": {
     "type": ""
    },
    "outputParams": {
     "output_name": "delete_status",
     "output_name_enabled": true,
     "output_runbook_enabled": false,
     "output_runbook_name": ""
    },
    "printOutput": true,
    "startcondition": "len(nat_gateways) != 0",
    "tags": [
     "aws_delete_nat_gateway"
    ],
    "title": "AWS Delete NAT Gateway",
    "verbs": [],
    "credentialsJson": {}
   },
   "outputs": [],
   "source": [
    "##\n",
    "# Copyright (c) 2021 unSkript, Inc\n",
    "# All rights reserved.\n",
    "##\n",
    "from pydantic import BaseModel, Field\n",
    "from typing import Dict\n",
    "import pprint\n",
    "\n",
    "\n",
    "from beartype import beartype\n",
    "@beartype\n",
    "def aws_delete_nat_gateway_printer(output):\n",
    "    if output is None:\n",
    "        return\n",
    "    pprint.pprint(output)\n",
    "\n",
    "\n",
    "@beartype\n",
    "def aws_delete_nat_gateway(handle, nat_gateway_id: str, region: str) -> Dict:\n",
    "    \"\"\"aws_delete_nat_gateway Returns an dict of NAT gateways information.\n",
    "\n",
    "        :type region: string\n",
    "        :param region: AWS Region.\n",
    "\n",
    "        :type nat_gateway_id: string\n",
    "        :param nat_gateway_id: ID of the NAT Gateway.\n",
    "\n",
    "        :rtype: dict of NAT gateways information.\n",
    "    \"\"\"\n",
    "    try:\n",
    "        ec2Client = handle.client('ec2', region_name=region)\n",
    "        response = ec2Client.delete_nat_gateway(NatGatewayId=nat_gateway_id)\n",
    "        return response\n",
    "    except Exception as e:\n",
    "        raise Exception(e)\n",
    "\n",
    "\n",
    "task = Task(Workflow())\n",
    "task.configure(continueOnError=True)\n",
    "task.configure(inputParamsJson='''{\n",
    "    \"nat_gateway_id\": \"iter.get(\\\\\"nat_gateway_id\\\\\")\",\n",
    "    \"region\": \"iter.get(\\\\\"region\\\\\")\"\n",
    "    }''')\n",
    "task.configure(iterJson='''{\n",
    "    \"iter_enabled\": true,\n",
    "    \"iter_list_is_const\": false,\n",
    "    \"iter_list\": \"nat_gateways\",\n",
    "    \"iter_parameter\": [\"nat_gateway_id\",\"region\"]\n",
    "    }''')\n",
    "task.configure(conditionsJson='''{\n",
    "    \"condition_enabled\": true,\n",
    "    \"condition_cfg\": \"len(nat_gateways) != 0\",\n",
    "    \"condition_result\": true\n",
    "    }''')\n",
    "\n",
    "task.configure(outputName=\"delete_status\")\n",
    "\n",
    "task.configure(printOutput=True)\n",
    "(err, hdl, args) = task.validate(vars=vars())\n",
    "if err is None:\n",
    "    task.execute(aws_delete_nat_gateway, lego_printer=aws_delete_nat_gateway_printer, hdl=hdl, args=args)"
   ],
   "output": {}
  },
  {
   "attachments": {},
   "cell_type": "markdown",
   "id": "5954b863-9e8b-42f7-be29-5aa9afe3afd4",
   "metadata": {
    "jupyter": {
     "source_hidden": false
    },
    "name": "Conclusion",
    "orderProperties": [],
    "tags": [],
    "title": "Conclusion"
   },
   "source": [
    "### Conclusion\n",
    "<p>In this Runbook, we demonstrated the use of unSkript's AWS actions to filter unused NAT Gateways and delete those. To view the full platform capabilities of unSkript please visit <a href=\"https://us.app.unskript.io\" target=\"_blank\" rel=\"noopener\">https://us.app.unskript.io</a></p>"
   ]
  }
 ],
 "metadata": {
  "execution_data": {
   "runbook_name": "Delete Unused NAT Gateways",
   "parameters": [
    "number_of_days",
    "nat_gateway_ids",
    "region"
   ]
  },
  "kernelspec": {
   "display_name": "unSkript (Build: 1056)",
   "name": "python_kubernetes"
  },
  "language_info": {
   "file_extension": ".py",
   "mimetype": "text/x-python",
   "name": "python",
   "pygments_lexer": "ipython3"
  },
  "outputParameterSchema": {
   "definitions": null,
   "properties": {},
   "required": [],
   "title": "Schema",
   "type": "object"
  },
  "parameterSchema": {
   "definitions": null,
   "properties": {
    "nat_gateway_ids": {
     "description": "NAT Gateways which needs to delete.",
     "title": "nat_gateway_ids",
     "type": "array"
    },
    "number_of_days": {
     "default": 7,
     "description": "A number of days to check NAT gateways are not used.",
     "title": "number_of_days",
     "type": "number"
    },
    "region": {
     "description": "AWS Region",
     "title": "region",
     "type": "string"
    }
   },
   "required": [],
   "title": "Schema",
   "type": "object"
  },
  "parameterValues": null
 },
 "nbformat": 4,
 "nbformat_minor": 5
}