{
 "cells": [
  {
   "cell_type": "markdown",
   "id": "111d99a7",
   "metadata": {},
   "source": [
    "<img src=\"https://storage.googleapis.com/unskript-website/assets/favicon.png\" alt=\"unSkript.com\" width=\"100\" height=\"100\"/> \n",
    "<h1> unSkript Runbooks </h1>\n",
    "<div class=\"alert alert-block alert-success\">\n",
    "    <b> This runbook demonstrates How to detect failed ECS deployment.</b>\n",
    "</div>\n",
    "\n",
    "<br>\n",
    "\n",
    "<center><h2>Detect Failed ECS Deployment</h2></center>\n",
    "\n",
    "## Steps Overview\n",
    " 1. Filter Out the Failed Deployments for the given cluster\n",
    " 2. Construct the list of failed Deployments\n",
    " 3. Post a Slack Message with the list \n"
   ]
  },
  {
   "cell_type": "code",
   "execution_count": null,
   "id": "415ed2a1-9cc4-44a6-b74e-27dc9ee66256",
   "metadata": {
    "accessType": "ACCESS_TYPE_UNSPECIFIED",
    "actionBashCommand": false,
    "actionNeedsCredential": true,
    "actionSupportsIteration": true,
    "actionSupportsPoll": true,
    "action_uuid": "32a78f4ec627183ee0b4a1c3737064d6ced94c093070151890c7557750d94fc0",
    "createTime": "1970-01-01T00:00:00Z",
    "currentVersion": "0.1.0",
    "description": "List of stopped tasks, associated with a deployment, along with their stopped reason",
    "id": 102,
    "index": 102,
    "inputData": [
     {
      "cluster_name": {
       "constant": false,
       "value": "ClusterName"
      },
      "region": {
       "constant": false,
       "value": "Region"
      },
      "service_name": {
       "constant": false,
       "value": "ServiceName"
      }
     }
    ],
    "inputschema": [
     {
      "properties": {
       "cluster_name": {
        "description": "ECS Cluster name",
        "title": "Cluster name",
        "type": "string"
       },
       "region": {
        "description": "AWS Region of the ECS service.",
        "title": "Region",
        "type": "string"
       },
       "service_name": {
        "description": "ECS Service name in the specified cluster.",
        "title": "Service name",
        "type": "string"
       }
      },
      "required": [
       "cluster_name",
       "service_name",
       "region"
      ],
      "title": "aws_ecs_detect_failed_deployment",
      "type": "object"
     }
    ],
    "jupyter": {
     "source_hidden": true
    },
    "legotype": "LEGO_TYPE_AWS",
    "name": "ECS detect failed deployment ",
    "nouns": [
     "ecs",
     "failed",
     "deployment"
    ],
    "orderProperties": [
     "cluster_name",
     "service_name",
     "region"
    ],
    "output": {
     "type": ""
    },
    "tags": [
     "aws_ecs_detect_failed_deployment"
    ],
    "verbs": [
     "detect"
    ],
    "credentialsJson": {}
   },
   "outputs": [],
   "source": [
    "##\n",
    "##  Copyright (c) 2021 unSkript, Inc\n",
    "##  All rights reserved.\n",
    "##\n",
    "from pydantic import BaseModel, Field\n",
    "from typing import List\n",
    "\n",
    "from beartype import beartype\n",
    "@beartype\n",
    "def aws_ecs_detect_failed_deployment(handle, cluster_name: str, service_name: str, region: str) -> List:\n",
    "    ecsClient = handle.client('ecs', region_name=region)\n",
    "    try:\n",
    "        serviceStatus = ecsClient.describe_services(cluster=cluster_name, services=[service_name])\n",
    "    except Exception as e:\n",
    "        print(f'Failed to get service status for {service_name}, cluster {cluster_name}, {e}')\n",
    "        return None\n",
    "    # When the deployment is in progress, there will be 2 deployment entries, one PRIMARY and one ACTIVE. PRIMARY will eventually replace\n",
    "    # ACTIVE, if its successful.\n",
    "    deployments = serviceStatus.get('services')[0].get('deployments')\n",
    "    if deployments is None:\n",
    "        print(\"Empty deployment\")\n",
    "        return None\n",
    "\n",
    "    deploymentInProgress = False\n",
    "    for deployment in deployments:\n",
    "        if deployment['status'] == \"PRIMARY\":\n",
    "            primaryDeploymentID = deployment['id']\n",
    "        else:\n",
    "            deploymentInProgress = True\n",
    "\n",
    "    if deploymentInProgress is False:\n",
    "        print(\"No deployment in progress\")\n",
    "        return None\n",
    "\n",
    "    # Check if there are any stopped tasks because of this deployment\n",
    "    stoppedTasks = ecsClient.list_tasks(cluster=cluster_name, startedBy=primaryDeploymentID, desiredStatus=\"STOPPED\").get('taskArns')\n",
    "    if len(stoppedTasks) == 0:\n",
    "        print(f'No stopped tasks associated with the deploymentID {primaryDeploymentID}, service {service_name}, cluster {cluster_name}')\n",
    "        return\n",
    "\n",
    "    # Get the reason for the stopped tasks\n",
    "    taskDetails = ecsClient.describe_tasks(cluster=cluster_name, tasks=stoppedTasks)\n",
    "    output = []\n",
    "    for taskDetail in taskDetails.get('tasks'):\n",
    "        output.append({\"TaskARN\":taskDetail['taskArn'], \"StoppedReason\":taskDetail['stoppedReason']})\n",
    "    return output\n",
    "\n",
    "\n",
    "\n",
    "\n",
    "task = Task(Workflow())\n",
    "task.configure(inputParamsJson='''{\n",
    "    \"cluster_name\": \"ClusterName\",\n",
    "    \"region\": \"Region\",\n",
    "    \"service_name\": \"ServiceName\"\n",
    "    }''')\n",
    "\n",
    "(err, hdl, args) = task.validate(vars=vars())\n",
    "if err is None:\n",
    "    task.output = task.execute(aws_ecs_detect_failed_deployment, hdl=hdl, args=args)\n",
    "    if task.output_name != None:\n",
    "        globals().update({task.output_name: task.output[0]})\n",
    "\n",
    "if hasattr(task, 'output'):\n",
    "    if isinstance(task.output, (list, tuple)):\n",
    "        for item in task.output:\n",
    "            print(f'item: {item}')\n",
    "    elif isinstance(task.output, dict):\n",
    "        for item in task.output.items():\n",
    "            print(f'item: {item}')\n",
    "    else:\n",
    "        print(f'Output for {task.name}')\n",
    "        print(task.output)\n",
    "    w.tasks[task.name]= task.output"
   ]
  },
  {
   "cell_type": "markdown",
   "id": "220f3413",
   "metadata": {},
   "source": [
    "## 2 Construct List of failed deployment\n",
    "\n",
    "Here we gather the output from the previous cell execution and iterate over it to find out which Tasks\n",
    "failed to run, the reason of the failure."
   ]
  },
  {
   "cell_type": "code",
   "execution_count": 5,
   "id": "b98ddacd-413b-443d-ba06-4aef7acf0b5d",
   "metadata": {
    "execution_data": {
     "last_date_success_run_cell": "2022-05-03T18:41:56.162Z"
    },
    "jupyter": {
     "source_hidden": true
    },
    "name": "Form slack message",
    "orderProperties": [],
    "tags": [],
    "title": "Form slack message",
    "credentialsJson": {}
   },
   "outputs": [],
   "source": [
    "from tabulate import tabulate\n",
    "message = \"\"\n",
    "if len(task.output) > 0:\n",
    "    tasks = []\n",
    "    for i in task.output:\n",
    "        tasks.append([i.get('TaskARN'), i.get('StoppedReason')])\n",
    "    message = f'Stopped tasks in cluster {ClusterName}, service {ServiceName} \\n {tabulate(tasks, headers=[\"TaskARN\", \"Stopped Reason\"], tablefmt=\"grid\")}'\n"
   ]
  },
  {
   "cell_type": "markdown",
   "id": "1c5898d5",
   "metadata": {},
   "source": [
    "## 3 Post Slack Message\n",
    "\n",
    "We post the failed list of deployments on to the given Slack Channel"
   ]
  },
  {
   "cell_type": "code",
   "execution_count": null,
   "id": "3583ea2f-8d64-4ae7-8379-ee360f061bc7",
   "metadata": {
    "accessType": "ACCESS_TYPE_UNSPECIFIED",
    "actionBashCommand": false,
    "actionNeedsCredential": true,
    "actionSupportsIteration": true,
    "actionSupportsPoll": true,
    "action_uuid": "6a87f83ab0ecfeecb9c98d084e2b1066c26fa64be5b4928d5573a5d60299802d",
    "createTime": "1970-01-01T00:00:00Z",
    "currentVersion": "0.1.0",
    "description": "Post Slack Message",
    "id": 44,
    "index": 44,
    "inputData": [
     {
      "channel": {
       "constant": false,
       "value": "Channel"
      },
      "message": {
       "constant": false,
       "value": "message"
      }
     }
    ],
    "inputschema": [
     {
      "properties": {
       "channel": {
        "description": "Name of the slack channel where the message to be posted",
        "title": "Channel",
        "type": "string"
       },
       "message": {
        "description": "Message to be sent",
        "title": "Message",
        "type": "string"
       }
      },
      "required": [
       "channel",
       "message"
      ],
      "title": "slack_post_message",
      "type": "object"
     }
    ],
    "jupyter": {
     "source_hidden": true
    },
    "legotype": "LEGO_TYPE_SLACK",
    "name": "Post Slack Message",
    "nouns": [
     "slack",
     "message"
    ],
    "orderProperties": [
     "channel",
     "message"
    ],
    "output": {
     "type": ""
    },
    "tags": [
     "slack_post_message"
    ],
    "verbs": [
     "post"
    ],
    "credentialsJson": {}
   },
   "outputs": [],
   "source": [
    "##\n",
    "# Copyright (c) 2021 unSkript, Inc\n",
    "# All rights reserved.\n",
    "##\n",
    "\n",
    "import pprint\n",
    "\n",
    "from pydantic import BaseModel, Field\n",
    "from slack_sdk import WebClient\n",
    "from slack_sdk.errors import SlackApiError\n",
    "\n",
    "pp = pprint.PrettyPrinter(indent=2)\n",
    "\n",
    "\n",
    "from beartype import beartype\n",
    "def legoPrinter(func):\n",
    "    def Printer(*args, **kwargs):\n",
    "        output = func(*args, **kwargs)\n",
    "        if output:\n",
    "            channel = kwargs[\"channel\"]\n",
    "            pp.pprint(print(f\"Message sent to Slack channel {channel}\"))\n",
    "        return output\n",
    "    return Printer\n",
    "\n",
    "\n",
    "@legoPrinter\n",
    "@beartype\n",
    "def slack_post_message(\n",
    "        handle: WebClient,\n",
    "        channel: str,\n",
    "        message: str) -> bool:\n",
    "\n",
    "    try:\n",
    "        response = handle.chat_postMessage(\n",
    "            channel=channel,\n",
    "            text=message)\n",
    "        return True\n",
    "    except SlackApiError as e:\n",
    "        print(\"\\n\\n\")\n",
    "        pp.pprint(\n",
    "            f\"Failed sending message to slack channel {channel}, Error: {e.response['error']}\")\n",
    "        return False\n",
    "    except Exception as e:\n",
    "        print(\"\\n\\n\")\n",
    "        pp.pprint(\n",
    "            f\"Failed sending message to slack channel {channel}, Error: {e.__str__()}\")\n",
    "        return False\n",
    "\n",
    "\n",
    "task = Task(Workflow())\n",
    "task.configure(inputParamsJson='''{\n",
    "    \"channel\": \"Channel\",\n",
    "    \"message\": \"message\"\n",
    "    }''')\n",
    "\n",
    "(err, hdl, args) = task.validate(vars=vars())\n",
    "if err is None:\n",
    "    task.output = task.execute(slack_post_message, hdl=hdl, args=args)\n",
    "    if task.output_name != None:\n",
    "        globals().update({task.output_name: task.output[0]})"
   ]
  },
  {
   "cell_type": "markdown",
   "id": "f69039f5",
   "metadata": {},
   "source": [
    "## Conclusion\n",
    "\n",
    "In this runbook we saw how easy it is to piece together a Runbook with pre-built and custom-legos that can achieve the task of identifying the failed Deployments and posting it on Slack. To learn more about the full capability of unSkript platform please visit https://us.app.unskript.io "
   ]
  }
 ],
 "metadata": {
  "execution_data": {
   "runbook_name": "Detect ECS failed deployment",
   "parameters": [
    "Channel",
    "ClusterName",
    "Region",
    "ServiceName"
   ]
  },
  "kernelspec": {
   "display_name": "Python 3.9.6 64-bit",
   "language": "python",
   "name": "python3"
  },
  "language_info": {
   "file_extension": ".py",
   "mimetype": "text/x-python",
   "name": "python",
   "pygments_lexer": "ipython3",
   "version": "3.9.6"
  },
  "parameterSchema": {
   "properties": {
    "Channel": {
     "description": "Slack channel name",
     "title": "Channel",
     "type": "string"
    },
    "ClusterName": {
     "description": "ECS Cluster name",
     "title": "ClusterName",
     "type": "string"
    },
    "Region": {
     "description": "AWS Region of the ECS cluster",
     "title": "Region",
     "type": "string"
    },
    "ServiceName": {
     "description": "ECS Service name under the cluster",
     "title": "ServiceName",
     "type": "string"
    }
   },
   "required": [
    "Channel",
    "ClusterName",
    "Region",
    "ServiceName"
   ],
   "title": "Schema",
   "type": "object"
  },
  "parameterValues": {
   "Channel": null,
   "ClusterName": null,
   "Region": null,
   "ServiceName": null
  },
  "vscode": {
   "interpreter": {
    "hash": "31f2aee4e71d21fbe5cf8b01ff0e069b9275f58929596ceb00d14d90e3e16cd6"
   }
  }
 },
 "nbformat": 4,
 "nbformat_minor": 5
}