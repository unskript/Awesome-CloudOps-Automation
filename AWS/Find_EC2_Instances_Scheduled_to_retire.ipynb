{
 "cells": [
  {
   "cell_type": "markdown",
   "id": "96ddce27-c542-40c7-b8af-76426cc7dc54",
   "metadata": {
    "jupyter": {
     "source_hidden": false
    },
    "name": "Find EC2 Instances Schedule to Retire",
    "orderProperties": [],
    "tags": [],
    "title": "Find EC2 Instances Schedule to Retire"
   },
   "source": [
    "\n",
    "<img src=\"https://storage.googleapis.com/unskript-website/assets/favicon.png\" alt=\"unSkript.com\" width=\"100\" height=\"100\"/> \n",
    "<h1> unSkript Runbooks </h1>\n",
    "<div class=\"alert alert-block alert-success\">\n",
    "    <b> This runbook demonstrates How to Find EC2 Instances Scheduled to Retire soon using unSkript legos.</b>\n",
    "</div>\n",
    "\n",
    "<br>\n",
    "\n",
    "<center><h2>Find EC2 Instances Scheduled to Retire</h2></center>\n",
    "\n",
    "# Steps Overview\n",
    "    1) Filter all AWS EC2 instances\n",
    "    2) Get the event.code for the scheduled event instance-retirement."
   ]
  },
  {
   "cell_type": "markdown",
   "id": "77b0652c-eff5-4527-8daa-f830d49bdb23",
   "metadata": {
    "jupyter": {
     "source_hidden": false
    },
    "name": "Filter ALL AWS EC2 Instances",
    "orderProperties": [],
    "tags": [],
    "title": "Filter ALL AWS EC2 Instances"
   },
   "source": [
    "Here we will use unSkript Filter ALL AWS EC2 Instances Lego. This lego takes region as input. This input is used to discover all the EC2 instances."
   ]
  },
  {
   "cell_type": "code",
   "execution_count": 2,
   "id": "b23ce2bb-a142-4517-9881-9e9beec177fb",
   "metadata": {
    "accessType": "ACCESS_TYPE_UNSPECIFIED",
    "actionBashCommand": false,
    "actionNeedsCredential": true,
    "actionRequiredLinesInCode": [],
    "actionSupportsIteration": true,
    "actionSupportsPoll": true,
    "action_uuid": "abe9fc82a53b80dc1dd4d5a89e31d22b0338e73e86d2ca859576f38cc6d19f48",
    "continueOnError": false,
    "createTime": "1970-01-01T00:00:00Z",
    "credentialsJson": {},
    "currentVersion": "0.1.0",
    "description": "Filter AWS EC2 Instance by Tag",
    "execution_data": {
     "last_date_success_run_cell": "2022-08-30T20:27:22.911Z"
    },
    "id": 155,
    "index": 155,
    "inputData": [
     {
      "region": {
       "constant": false,
       "value": "Region"
      }
     }
    ],
    "inputschema": [
     {
      "properties": {
       "region": {
        "default": "",
        "description": "AWS Region.",
        "title": "Region",
        "type": "string"
       }
      },
      "required": [
       "tag_key",
       "tag_value",
       "region"
      ],
      "title": "aws_filter_ec2_by_tags",
      "type": "object"
     }
    ],
    "jupyter": {
     "source_hidden": true
    },
    "legotype": "LEGO_TYPE_AWS",
    "name": "Filter All AWS EC2 Instances",
    "nouns": [
     "aws",
     "ec2",
     "instances",
     "tag"
    ],
    "orderProperties": [
     "region"
    ],
    "output": {
     "type": ""
    },
    "outputParams": {
     "output_name": "instance_ids",
     "output_name_enabled": true
    },
    "tags": [
     "aws_filter_ec2_by_tags"
    ],
    "title": "Filter All AWS EC2 Instances",
    "verbs": [
     "filter"
    ]
   },
   "outputs": [],
   "source": [
    "##\n",
    "##  Copyright (c) 2021 unSkript, Inc\n",
    "##  All rights reserved.\n",
    "##\n",
    "from pydantic import BaseModel, Field\n",
    "from typing import List\n",
    "from unskript.connectors.aws import aws_get_paginator\n",
    "import pprint\n",
    "\n",
    "\n",
    "from beartype import beartype\n",
    "@beartype\n",
    "def aws_filter_ec2_instances_printer(output):\n",
    "    if output is None:\n",
    "        return\n",
    "    pprint.pprint({\"Instances\": output})\n",
    "\n",
    "\n",
    "@beartype\n",
    "def aws_filter_ec2_instances(handle, region: str) -> List:\n",
    "    \"\"\"aws_filter_ec2_by_tags Returns an array of instances.\n",
    "\n",
    "        :type region: string\n",
    "        :param region: Used to filter the volume for specific region.\n",
    "\n",
    "        :rtype: Array of instances.\n",
    "    \"\"\"\n",
    "    # Input param validation.\n",
    "\n",
    "    ec2Client = handle.client('ec2', region_name=region)\n",
    "    res = aws_get_paginator(ec2Client, \"describe_instances\", \"Reservations\")\n",
    "\n",
    "    result = []\n",
    "    for reservation in res:\n",
    "        for instance in reservation['Instances']:\n",
    "            result.append(instance['InstanceId'])\n",
    "    return result\n",
    "\n",
    "\n",
    "task = Task(Workflow())\n",
    "task.configure(inputParamsJson='''{\n",
    "    \"region\": \"Region\"\n",
    "    }''')\n",
    "task.configure(outputName=\"instance_ids\")\n",
    "(err, hdl, args) = task.validate(vars=vars())\n",
    "if err is None:\n",
    "    task.execute(aws_filter_ec2_instances, lego_printer=aws_filter_ec2_instances_printer, hdl=hdl, args=args)"
   ]
  },
  {
   "cell_type": "markdown",
   "id": "62c27136-3d0f-4984-ac2b-c6bc3abf2a97",
   "metadata": {
    "jupyter": {
     "source_hidden": false
    },
    "name": "Get AWS Scheduled to Retire Instances",
    "orderProperties": [],
    "tags": [],
    "title": "Get AWS Scheduled to Retire Instances"
   },
   "source": [
    "Here we will use unSkript Get AWS Scheduled to Retire Instances Lego. This lego takes instance_ids list and region as input. This input is used to discover EC2 instances which are schedule to retire soon."
   ]
  },
  {
   "cell_type": "code",
   "execution_count": 7,
   "id": "3c981e53-49f2-47d0-baf2-e6553acc59b7",
   "metadata": {
    "accessType": "ACCESS_TYPE_UNSPECIFIED",
    "actionBashCommand": false,
    "actionNeedsCredential": true,
    "actionRequiredLinesInCode": [],
    "actionSupportsIteration": true,
    "actionSupportsPoll": true,
    "action_uuid": "aa1e026ca8002b906315feba401e5c46889d459270adce3b65d480dc9530311f",
    "collapsed": true,
    "continueOnError": false,
    "createTime": "1970-01-01T00:00:00Z",
    "credentialsJson": {},
    "currentVersion": "0.1.0",
    "description": "Use This Action to Get Details about an AWS EC2 Instance",
    "execution_data": {
     "last_date_success_run_cell": "2022-08-30T10:55:26.731Z"
    },
    "id": 122,
    "index": 122,
    "inputData": [
     {
      "instance_ids": {
       "constant": false,
       "value": "instance_ids"
      },
      "region": {
       "constant": false,
       "value": "Region"
      }
     }
    ],
    "inputschema": [
     {
      "properties": {
       "instance_ids": {
        "default": "",
        "description": "Instance Ids",
        "title": "instance_ids",
        "type": "array"
       },
       "region": {
        "default": "",
        "description": "AWS Region of the instance.",
        "title": "Region",
        "type": "string"
       }
      },
      "required": [
       "instance_id",
       "region"
      ],
      "title": "aws_get_instance_details",
      "type": "object"
     }
    ],
    "jupyter": {
     "outputs_hidden": true,
     "source_hidden": true
    },
    "legotype": "LEGO_TYPE_AWS",
    "name": "Get AWS Scheduled to Retire Instances",
    "nouns": [
     "instance",
     "details"
    ],
    "orderProperties": [
     "region",
     "instance_ids"
    ],
    "output": {
     "type": ""
    },
    "tags": [
     "aws_get_instance_details"
    ],
    "title": "Get AWS Scheduled to Retire Instances",
    "verbs": [
     "get"
    ]
   },
   "outputs": [],
   "source": [
    "##\n",
    "# Copyright (c) 2021 unSkript, Inc\n",
    "# All rights reserved.\n",
    "##\n",
    "from pydantic import BaseModel, Field\n",
    "from typing import List\n",
    "import pprint\n",
    "\n",
    "\n",
    "from beartype import beartype\n",
    "@beartype\n",
    "def aws_get_schedule_to_retire_instances(\n",
    "    handle,\n",
    "    instance_ids: list,\n",
    "    region: str,\n",
    ") -> List:\n",
    "\n",
    "    ec2client = handle.client('ec2', region_name=region)\n",
    "    instances = []\n",
    "    response = ec2client.describe_instance_status(\n",
    "        Filters=[\n",
    "        {\n",
    "            'Name': 'event.code',\n",
    "            'Values': ['instance-retirement']}],\n",
    "        InstanceIds=instance_ids)\n",
    "\n",
    "    for instance in response['InstanceStatuses']:\n",
    "        instance_id = instance['InstanceId']\n",
    "        instances.append(instance_id)\n",
    "\n",
    "    return instances\n",
    "\n",
    "\n",
    "def aws_get_schedule_to_retire_instances_printer(output):\n",
    "    if output is None:\n",
    "        return\n",
    "    pprint.pprint({\"Instances\": output})\n",
    "\n",
    "task = Task(Workflow())\n",
    "task.configure(inputParamsJson='''{\n",
    "    \"instance_ids\": \"instance_ids\",\n",
    "    \"region\": \"Region\"\n",
    "    }''')\n",
    "\n",
    "(err, hdl, args) = task.validate(vars=vars())\n",
    "if err is None:\n",
    "    task.execute(aws_get_schedule_to_retire_instances, lego_printer=aws_get_schedule_to_retire_instances_printer, hdl=hdl, args=args)"
   ]
  },
  {
   "cell_type": "markdown",
   "id": "3627e67c-5900-4ba0-ae45-6d00957b7d83",
   "metadata": {
    "jupyter": {
     "source_hidden": false
    },
    "name": "Conclusion",
    "orderProperties": [],
    "tags": [],
    "title": "Conclusion"
   },
   "source": [
    "In this Runbook, we demonstrated the use of unSkript's AWS legos to perform AWS this runbook Get the EC2 instances which are schedule to retire soon. To view the full platform capabilities of unSkript please visit https://unskript.com"
   ]
  }
 ],
 "metadata": {
  "execution_data": {
   "runbook_name": "Handle AWS EC2 Instance Scheduled to retire",
   "parameters": null
  },
  "kernelspec": {
   "display_name": "Python 3.10.6 64-bit",
   "language": "python",
   "name": "python3"
  },
  "language_info": {
   "file_extension": ".py",
   "mimetype": "text/x-python",
   "name": "python",
   "pygments_lexer": "ipython3",
   "version": "3.10.6"
  },
  "parameterSchema": {
   "properties": {
    "Region": {
     "default": "us-west-2",
     "description": "AWS Region",
     "title": "Region",
     "type": "string"
    }
   },
   "required": [],
   "title": "Schema",
   "type": "object"
  },
  "parameterValues": {
   "Region": "us-west-2"
  },
  "vscode": {
   "interpreter": {
    "hash": "e8899eb02dfbc033aab5733bdae1bd213fa031d40331094008e8673d99ebab63"
   }
  }
 },
 "nbformat": 4,
 "nbformat_minor": 5
}