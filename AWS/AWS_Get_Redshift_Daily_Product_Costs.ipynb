{
 "cells": [
  {
   "cell_type": "markdown",
   "id": "e54624c7-4d3e-431a-adda-d2e0e736ed65",
   "metadata": {
    "orderProperties": [],
    "tags": []
   },
   "source": [
    "<h2 id=\"Introduction\">Introduction<a class=\"jp-InternalAnchorLink\" href=\"#Introduction\" target=\"_self\">&para;</a></h2>\n",
    "<p>This RunBook takes data from your AWS Cost and Usage Report, and generates a chart of daily usage for the month for each AWS service.</p>\n",
    "<p>It can also be configured to send alerts to slack if a day-over-day change in cost is over the defined threshold.</p>\n",
    "<p>Read more in our blog posts:</p>\n",
    "<p><a href=\"https://unskript.com/blog/keeping-your-cloud-costs-in-check-automated-aws-cost-charts-and-alerting/\" target=\"_blank\" rel=\"noopener\">https://unskript.com/blog/keeping-your-cloud-costs-in-check-automated-aws-cost-charts-and-alerting/</a></p>\n",
    "<p><a href=\"https://unskript.com/blog/cloud-costs-charting-daily-ec2-usage-and-cost/\" target=\"_blank\" rel=\"noopener\">https://unskript.com/blog/cloud-costs-charting-daily-ec2-usage-and-cost/</a></p>\n",
    "<h2 id=\"Prerequisites\">Prerequisites<a class=\"jp-InternalAnchorLink\" href=\"#Prerequisites\" target=\"_self\">&para;</a></h2>\n",
    "<p>This RunBook requires a Cost and Usage report in RedShift (here's a link to the <a href=\"https://docs.aws.amazon.com/cur/latest/userguide/cur-create.html\">AWS docs</a>).</p>\n",
    "<p>To Update the Redshift table daily - take a look at the Update Redshift database from S3 RunBook.&nbsp; This will ensure that the data in the Redshift table is up to date.</p>\n",
    "<h2 id=\"Steps\">Steps<a class=\"jp-InternalAnchorLink\" href=\"#Steps\" target=\"_self\">&para;</a></h2>\n",
    "<ol>\n",
    "<li>Get the ARN of the AWS Secret that can access your RedShift cluster.</li>\n",
    "<li>Create the SQL Query.&nbsp; This query is built to get the sum of daily cost for each service in AWS.&nbsp; It automatically creates the tablename to match the month/year.</li>\n",
    "<li>RedShift Query - Kicks off the Query.&nbsp;&nbsp;</li>\n",
    "<li>RedShiftQuery Details - This tells us the status of the query.&nbsp; We are looking for the status to be equal to \"finished.\"&nbsp; TODO- add polling to check for this automatically.</li>\n",
    "<li>Get RedShift Result: Once the query has been completed - this Action pulls the data from Redshift</li>\n",
    "<li>Chart the data: The data is pulledinto a dataframe, and several charts are made - for the month, and the last 7 days.</li>\n",
    "<li>Bulid Alert - takes the last 2 days and compares the $$ spend.&nbsp; If the change is upwards, and it exceeds the threshold defined - run the last Action</li>\n",
    "<li>Post image to Slack: If the alert is tripped - we'll send an alert to Slack with the chart from the last 7 days.&nbsp; Note: It also automatically sends every Monday as well.</li>\n",
    "</ol>\n",
    "<p>&nbsp;</p>"
   ]
  },
  {
   "cell_type": "code",
   "execution_count": 14,
   "id": "b3644c49-9166-4715-a097-2f27d5c81532",
   "metadata": {
    "accessType": "ACCESS_TYPE_UNSPECIFIED",
    "actionBashCommand": false,
    "actionCategories": [],
    "actionIsCheck": false,
    "actionNeedsCredential": true,
    "actionNextHop": [],
    "actionNextHopParameterMapping": {},
    "actionOutputType": "",
    "actionRequiredLinesInCode": [],
    "actionSupportsIteration": true,
    "actionSupportsPoll": true,
    "action_modified": false,
    "action_uuid": "1ce9f756a4f1503df353fd5e8df7ea32ebe801a93c607251fea1a5367861da89",
    "checkEnabled": false,
    "continueOnError": false,
    "createTime": "1970-01-01T00:00:00Z",
    "credentialsJson": {},
    "currentVersion": "0.1.0",
    "description": "Given a Secret Name - this Action returns the Secret ARN",
    "execution_data": {
     "last_date_success_run_cell": "2023-04-07T16:27:42.487Z"
    },
    "id": 189,
    "index": 189,
    "inputData": [
     {
      "region": {
       "constant": false,
       "value": "region"
      },
      "secret_name": {
       "constant": false,
       "value": "secret_name"
      }
     }
    ],
    "inputschema": [
     {
      "properties": {
       "region": {
        "description": "AWS Region.",
        "title": "Region",
        "type": "string"
       },
       "secret_name": {
        "description": "AWS Secret Name",
        "title": "secret_name",
        "type": "string"
       }
      },
      "required": [
       "region",
       "secret_name"
      ],
      "title": "aws_get_secrets_manager_secretARN",
      "type": "object"
     }
    ],
    "isUnskript": false,
    "jupyter": {
     "source_hidden": true
    },
    "legotype": "LEGO_TYPE_AWS",
    "name": "AWS Get Secrets Manager SecretARN",
    "nouns": [],
    "orderProperties": [
     "region",
     "secret_name"
    ],
    "output": {
     "type": ""
    },
    "outputParams": {
     "output_name": "secretArn",
     "output_name_enabled": true
    },
    "printOutput": true,
    "tags": [
     "aws_get_secrets_manager_secretARN"
    ],
    "verbs": []
   },
   "outputs": [],
   "source": [
    "##\n",
    "##  Copyright (c) 2023 unSkript, Inc\n",
    "##  All rights reserved.\n",
    "##\n",
    "\n",
    "from __future__ import annotations\n",
    "\n",
    "from typing import Optional\n",
    "\n",
    "from pydantic import BaseModel, Field\n",
    "\n",
    "\n",
    "from beartype import beartype\n",
    "@beartype\n",
    "def aws_get_secrets_manager_secretARN_printer(output):\n",
    "    if output is None:\n",
    "        return\n",
    "    pprint.pprint({\"secret\": output})\n",
    "\n",
    "\n",
    "@beartype\n",
    "@beartype\n",
    "@beartype\n",
    "def aws_get_secrets_manager_secretARN(handle, region: str, secret_name:str) -> str:\n",
    "\n",
    "\n",
    "    # Create a Secrets Manager client\n",
    "\n",
    "    client = handle.client(\n",
    "        service_name='secretsmanager',\n",
    "        region_name=region\n",
    "    )\n",
    "\n",
    "\n",
    "    get_secret_value_response = client.get_secret_value(\n",
    "        SecretId=secret_name\n",
    "    )\n",
    "\n",
    "    #print(get_secret_value_response)\n",
    "    # Decrypts secret using the associated KMS key.\n",
    "    secretArn = get_secret_value_response['ARN']\n",
    "    return secretArn\n",
    "\n",
    "\n",
    "\n",
    "\n",
    "task = Task(Workflow())\n",
    "task.configure(inputParamsJson='''{\n",
    "    \"region\": \"region\",\n",
    "    \"secret_name\": \"secret_name\"\n",
    "    }''')\n",
    "task.configure(outputName=\"secretArn\")\n",
    "\n",
    "task.configure(printOutput=True)\n",
    "(err, hdl, args) = task.validate(vars=vars())\n",
    "if err is None:\n",
    "    task.execute(aws_get_secrets_manager_secretARN, lego_printer=aws_get_secrets_manager_secretARN_printer, hdl=hdl, args=args)"
   ]
  },
  {
   "cell_type": "code",
   "execution_count": 15,
   "id": "6db09689-1a22-4cac-81be-cb1e3d6e7ef0",
   "metadata": {
    "credentialsJson": {},
    "customAction": true,
    "execution_data": {
     "last_date_success_run_cell": "2023-04-07T16:27:47.517Z"
    },
    "jupyter": {
     "source_hidden": true
    },
    "name": "Create SQL Query",
    "orderProperties": [],
    "tags": [],
    "title": "Create SQL Query"
   },
   "outputs": [],
   "source": [
    "import datetime\n",
    "\n",
    "today = datetime.datetime.now()\n",
    "\n",
    "yearmonth = today.strftime('%Y%m')\n",
    "tableName = 'awsbilling'+ yearmonth\n",
    "todayDay = int(today.strftime('%d'))\n",
    "yesterDay = 0\n",
    "if todayDay >1:\n",
    "    yesterDay = todayDay - 1\n",
    "\n",
    "sqlQuery = f\"select lineitem_productcode, date_part(day, cast(lineitem_usagestartdate as date)) as day, SUM((lineitem_unblendedcost)::numeric(37,4)) as cost from {tableName} group by lineitem_productcode, day order by cost desc;\"\n",
    "\n",
    "print(sqlQuery)\n",
    "\n",
    "\n",
    "\n"
   ]
  },
  {
   "cell_type": "code",
   "execution_count": null,
   "id": "99b78f89-b8e0-4aba-86b1-60ad14274207",
   "metadata": {
    "actionBashCommand": false,
    "actionCategories": [
     "CATEGORY_TYPE_SECOPS",
     "CATEGORY_TYPE_SRE",
     "CATEGORY_TYPE_AWS",
     "CATEGORY_TYPE_AWS_REDSHIFT"
    ],
    "actionDescription": "Make a SQL Query to the given AWS Redshift database",
    "actionEntryFunction": "aws_create_redshift_query",
    "actionIsCheck": false,
    "actionIsRemediation": false,
    "actionNeedsCredential": true,
    "actionNextHop": null,
    "actionNextHopParameterMapping": null,
    "actionNouns": null,
    "actionOutputType": "ACTION_OUTPUT_TYPE_STR",
    "actionSupportsIteration": true,
    "actionSupportsPoll": true,
    "actionTitle": "AWS Redshift Query",
    "actionType": "LEGO_TYPE_AWS",
    "actionVerbs": null,
    "actionVersion": "1.0.0",
    "action_modified": false,
    "action_uuid": "edacb40b6b085473676c85af90fd36de2b23e8fd763ee25c787e8fd629c45773",
    "continueOnError": false,
    "credentialsJson": {},
    "description": "Make a SQL Query to the given AWS Redshift database",
    "id": 1,
    "index": 1,
    "inputData": [
     {
      "cluster": {
       "constant": false,
       "value": "cluster"
      },
      "database": {
       "constant": false,
       "value": "database"
      },
      "query": {
       "constant": false,
       "value": "sqlQuery"
      },
      "region": {
       "constant": false,
       "value": "region"
      },
      "secretArn": {
       "constant": false,
       "value": "secretArn"
      }
     }
    ],
    "inputschema": [
     {
      "properties": {
       "cluster": {
        "description": "Name of Redshift Cluster",
        "title": "cluster",
        "type": "string"
       },
       "database": {
        "description": "Name of your Redshift database",
        "title": "database",
        "type": "string"
       },
       "query": {
        "description": "sql query to run",
        "title": "query",
        "type": "string"
       },
       "region": {
        "description": "AWS Region.",
        "title": "Region",
        "type": "string"
       },
       "secretArn": {
        "description": "Value of your Secrets Manager ARN",
        "title": "secretArn",
        "type": "string"
       }
      },
      "required": [
       "region",
       "query",
       "cluster",
       "database",
       "secretArn"
      ],
      "title": "aws_create_redshift_query",
      "type": "object"
     }
    ],
    "jupyter": {
     "source_hidden": true
    },
    "language": "python",
    "legotype": "LEGO_TYPE_AWS",
    "name": "AWS Redshift Query",
    "orderProperties": [
     "region",
     "query",
     "cluster",
     "database",
     "secretArn"
    ],
    "printOutput": true,
    "tags": [
     "aws_create_redshift_query"
    ],
    "uuid": "edacb40b6b085473676c85af90fd36de2b23e8fd763ee25c787e8fd629c45773",
    "version": "1.0.0"
   },
   "outputs": [],
   "source": [
    "##\n",
    "##  Copyright (c) 2021 unSkript, Inc\n",
    "##  All rights reserved.\n",
    "##\n",
    "\n",
    "\n",
    "from __future__ import annotations\n",
    "from pydantic import BaseModel, Field\n",
    "from beartype import beartype\n",
    "\n",
    "\n",
    "from beartype import beartype\n",
    "@beartype\n",
    "def aws_create_redshift_query(\n",
    "    handle,\n",
    "    region: str,\n",
    "    cluster:str,\n",
    "    database:str,\n",
    "    secretArn: str,\n",
    "    query:str\n",
    "    ) -> str:\n",
    "\n",
    "    # Input param validation.\n",
    "    #major change\n",
    "    client = handle.client('redshift-data', region_name=region)\n",
    "    # execute the query\n",
    "    response = client.execute_statement(\n",
    "        ClusterIdentifier=cluster,\n",
    "        Database=database,\n",
    "        SecretArn=secretArn,\n",
    "        Sql=query\n",
    "    )\n",
    "    resultId = response['Id']\n",
    "    print(response)\n",
    "    print(\"resultId\",resultId)\n",
    "\n",
    "\n",
    "    return resultId\n",
    "\n",
    "#make a change\n",
    "\n",
    "\n",
    "def unskript_default_printer(output):\n",
    "    if isinstance(output, (list, tuple)):\n",
    "        for item in output:\n",
    "            print(f'item: {item}')\n",
    "    elif isinstance(output, dict):\n",
    "        for item in output.items():\n",
    "            print(f'item: {item}')\n",
    "    else:\n",
    "        print(f'Output for {task.name}')\n",
    "        print(output)\n",
    "\n",
    "task = Task(Workflow())\n",
    "task.configure(inputParamsJson='''{\n",
    "    \"region\": \"region\",\n",
    "    \"query\": \"sqlQuery\",\n",
    "    \"cluster\": \"cluster\",\n",
    "    \"database\": \"database\",\n",
    "    \"secretArn\": \"secretArn\"\n",
    "    }''')\n",
    "\n",
    "task.configure(printOutput=True)\n",
    "(err, hdl, args) = task.validate(vars=vars())\n",
    "if err is None:\n",
    "    task.execute(aws_create_redshift_query, lego_printer=unskript_default_printer, hdl=hdl, args=args)"
   ]
  },
  {
   "cell_type": "code",
   "execution_count": 17,
   "id": "b285b379-5226-4896-89db-b5209e19662f",
   "metadata": {
    "accessType": "ACCESS_TYPE_UNSPECIFIED",
    "actionBashCommand": false,
    "actionCategories": [],
    "actionIsCheck": false,
    "actionNeedsCredential": true,
    "actionNextHop": [],
    "actionNextHopParameterMapping": {},
    "actionOutputType": "",
    "actionRequiredLinesInCode": [],
    "actionSupportsIteration": true,
    "actionSupportsPoll": true,
    "action_modified": false,
    "action_uuid": "26435cb53d995eccf75fd1e0692e611fcdb1b7e09511bbfe365f0e9a5abc416f",
    "checkEnabled": false,
    "collapsed": true,
    "continueOnError": false,
    "createTime": "1970-01-01T00:00:00Z",
    "credentialsJson": {},
    "currentVersion": "0.1.0",
    "description": "Given an QueryId, this Action will give you the status of the Query, along with other data like  the number of lines/",
    "execution_data": {
     "last_date_success_run_cell": "2023-04-07T16:27:52.719Z"
    },
    "id": 204,
    "index": 204,
    "inputData": [
     {
      "queryId": {
       "constant": false,
       "value": "queryId"
      },
      "region": {
       "constant": false,
       "value": "region"
      }
     }
    ],
    "inputschema": [
     {
      "properties": {
       "queryId": {
        "description": "Id of Redshift Query",
        "title": "queryId",
        "type": "string"
       },
       "region": {
        "description": "AWS Region.",
        "title": "Region",
        "type": "string"
       }
      },
      "required": [
       "region",
       "queryId"
      ],
      "title": "aws_get_redshift_query_details",
      "type": "object"
     }
    ],
    "isUnskript": false,
    "jupyter": {
     "outputs_hidden": true,
     "source_hidden": true
    },
    "legotype": "LEGO_TYPE_AWS",
    "name": "AWS Get Redshift Query Details",
    "nouns": [],
    "orderProperties": [
     "region",
     "queryId"
    ],
    "output": {
     "type": ""
    },
    "printOutput": true,
    "tags": [
     "aws_get_redshift_query_details"
    ],
    "verbs": []
   },
   "outputs": [],
   "source": [
    "from __future__ import annotations\n",
    "##\n",
    "##  Copyright (c) 2023 unSkript, Inc\n",
    "##  All rights reserved.\n",
    "##\n",
    "from pydantic import BaseModel, Field\n",
    "from typing import List, Dict\n",
    "from unskript.connectors.aws import aws_get_paginator\n",
    "import pprint\n",
    "from beartype import beartype\n",
    "\n",
    "\n",
    "from typing import Optional\n",
    "\n",
    "from pydantic import BaseModel, Field\n",
    "\n",
    "\n",
    "from beartype import beartype\n",
    "@beartype\n",
    "def aws_get_redshift_query_details(handle, region: str, queryId:str) -> Dict:\n",
    "\n",
    "    client = handle.client('redshift-data', region_name=region)\n",
    "    response = client.describe_statement(\n",
    "    Id=queryId\n",
    "    )\n",
    "    resultReady = response['HasResultSet']\n",
    "    queryTimeNs = response['Duration']\n",
    "    ResultRows = response['ResultRows']\n",
    "    details = {\"Status\": response['Status'],\n",
    "                \"resultReady\": resultReady, \n",
    "               \"queryTimeNs\":queryTimeNs,\n",
    "               \"ResultRows\":ResultRows\n",
    "              }\n",
    "\n",
    "    #return resultReady\n",
    "    return details\n",
    "\n",
    "\n",
    "\n",
    "\n",
    "def unskript_default_printer(output):\n",
    "\n",
    "    pp = pprint.PrettyPrinter(indent=4)\n",
    "    pp.pprint(output)\n",
    "\n",
    "task = Task(Workflow())\n",
    "task.configure(inputParamsJson='''{\n",
    "    \"queryId\": \"queryId\",\n",
    "    \"region\": \"region\"\n",
    "    }''')\n",
    "task.configure(printOutput=True)\n",
    "(err, hdl, args) = task.validate(vars=vars())\n",
    "if err is None:\n",
    "    task.execute(aws_get_redshift_query_details, lego_printer=unskript_default_printer, hdl=hdl, args=args)"
   ]
  },
  {
   "cell_type": "code",
   "execution_count": 18,
   "id": "eae5bad1-0dfd-46f8-8efe-10ffe3b9c40d",
   "metadata": {
    "accessType": "ACCESS_TYPE_UNSPECIFIED",
    "actionBashCommand": false,
    "actionCategories": [],
    "actionIsCheck": false,
    "actionNeedsCredential": true,
    "actionNextHop": [],
    "actionNextHopParameterMapping": {},
    "actionOutputType": "",
    "actionRequiredLinesInCode": [],
    "actionSupportsIteration": true,
    "actionSupportsPoll": true,
    "action_modified": false,
    "action_uuid": "95e51ea5a6230444928042f7932d680fcbc575d053dfa8ed6b60bc7e9b50adcc",
    "checkEnabled": false,
    "collapsed": true,
    "continueOnError": false,
    "createTime": "1970-01-01T00:00:00Z",
    "credentialsJson": {},
    "currentVersion": "0.1.0",
    "description": "Given a QueryId, Get the Query Result, and format into a List",
    "execution_data": {
     "last_date_success_run_cell": "2023-04-07T16:28:05.326Z"
    },
    "id": 218,
    "index": 218,
    "inputData": [
     {
      "region": {
       "constant": false,
       "value": "region"
      },
      "resultId": {
       "constant": false,
       "value": "queryId"
      }
     }
    ],
    "inputschema": [
     {
      "properties": {
       "region": {
        "description": "AWS Region",
        "title": "region",
        "type": "string"
       },
       "resultId": {
        "description": "Redshift Query Result",
        "title": "resultId",
        "type": "string"
       }
      },
      "required": [
       "resultId",
       "region"
      ],
      "title": "aws_get_redshift_result",
      "type": "object"
     }
    ],
    "isUnskript": false,
    "jupyter": {
     "outputs_hidden": true,
     "source_hidden": true
    },
    "legotype": "LEGO_TYPE_AWS",
    "name": "AWS Get Redshift Result",
    "nouns": [],
    "orderProperties": [
     "resultId",
     "region"
    ],
    "output": {
     "type": ""
    },
    "outputParams": {
     "output_name": "redshiftresult",
     "output_name_enabled": true
    },
    "printOutput": false,
    "tags": [
     "aws_get_redshift_result"
    ],
    "verbs": []
   },
   "outputs": [],
   "source": [
    "from __future__ import annotations\n",
    "##\n",
    "##  Copyright (c) 2023 unSkript, Inc\n",
    "##  All rights reserved.\n",
    "##\n",
    "from pydantic import BaseModel, Field\n",
    "from typing import List, Dict\n",
    "from unskript.connectors.aws import aws_get_paginator\n",
    "import pprint\n",
    "from beartype import beartype\n",
    "import time\n",
    "\n",
    "\n",
    "from beartype import beartype\n",
    "@beartype\n",
    "def aws_get_redshift_result(handle, region:str, resultId: str) -> List:\n",
    "\n",
    "    time.sleep(10)\n",
    "    client = handle.client('redshift-data', region_name=region)\n",
    "    result = client.get_statement_result(\n",
    "        Id=resultId\n",
    "    )\n",
    "    #result has the Dictionary, but it is not easily queried\n",
    "    #get all the columns into an array\n",
    "    columnNames = []\n",
    "    for column in result['ColumnMetadata']:\n",
    "        columnNames.append(column['label'])\n",
    "    #print(columnNames)\n",
    "\n",
    "    #now let's make the output into a dict\n",
    "    listResult = []\n",
    "    for record in result['Records']:\n",
    "\n",
    "        for key, value in record[0].items():\n",
    "            rowId = value\n",
    "        entryCounter = 0\n",
    "        entryDict = {}\n",
    "        for entry in record:\n",
    "\n",
    "            for key, value in entry.items():\n",
    "                entryDict[columnNames[entryCounter]] = value\n",
    "            entryCounter +=1\n",
    "        #print(\"entryDict\",entryDict)\n",
    "        listResult.append(entryDict)\n",
    "\n",
    "    #print(listResult)\n",
    "    return listResult\n",
    "\n",
    "\n",
    "\n",
    "\n",
    "\n",
    "\n",
    "\n",
    "task = Task(Workflow())\n",
    "task.configure(inputParamsJson='''{\n",
    "    \"region\": \"region\",\n",
    "    \"resultId\": \"queryId\"\n",
    "    }''')\n",
    "task.configure(outputName=\"redshiftresult\")\n",
    "\n",
    "task.configure(printOutput=False)\n",
    "(err, hdl, args) = task.validate(vars=vars())\n",
    "if err is None:\n",
    "    task.execute(aws_get_redshift_result, lego_printer=unskript_default_printer, hdl=hdl, args=args)"
   ]
  },
  {
   "cell_type": "code",
   "execution_count": 9,
   "id": "b42d2d45-0a95-4f16-8b44-0cced11ee848",
   "metadata": {
    "credentialsJson": {},
    "customAction": true,
    "execution_data": {
     "last_date_success_run_cell": "2023-04-07T01:06:24.931Z"
    },
    "jupyter": {
     "source_hidden": true
    },
    "name": "Build Chart",
    "orderProperties": [],
    "tags": [],
    "title": "Build Chart"
   },
   "outputs": [],
   "source": [
    "import matplotlib as mpl\n",
    "mpl.use('agg')\n",
    "from matplotlib.figure import Figure\n",
    "import panel\n",
    "import matplotlib.pyplot as plt\n",
    "import pandas as pd\n",
    "import pprint\n",
    "import io, base64, urllib\n",
    "from PIL import Image\n",
    "\n",
    "df = pd.DataFrame.from_dict(redshiftresult)\n",
    "df['cost']=df['cost'].astype(float)\n",
    "df['day']=df['day'].astype(int)\n",
    "\n",
    "%matplotlib inline\n",
    "\n",
    "font = {'size' : 22}\n",
    "dfpivot = df.pivot(index='day', columns='lineitem_productcode', values='cost')\n",
    "dfpivot.plot(linewidth=5,ylabel=\"daily cost in $\", figsize=(16, 9) )\n",
    "\n",
    "plt.rc('font', **font)\n",
    "plt.legend(loc='center left', bbox_to_anchor=(1.0, 0.5))\n",
    "plt.xticks(fontsize=22)\n",
    "plt.yticks(fontsize=22)\n",
    "\n",
    "plt.show()\n",
    "\n",
    "dfpivot.plot(linewidth=5,ylabel=\"daily cost in $\", figsize=(16, 9) )\n",
    "plt.ylim((0,10))\n",
    "plt.rc('font', **font)\n",
    "plt.legend(loc='center left', bbox_to_anchor=(1.0, 0.5))\n",
    "plt.show()\n",
    "\n",
    "dfpivot.plot(linewidth=5,ylabel=\"daily cost in $\", figsize=(16, 9) )\n",
    "plt.xlim((todayDay-7,todayDay))\n",
    "plt.rc('font', **font)\n",
    "plt.legend(loc='center left', bbox_to_anchor=(1.0, 0.5))\n",
    "fig = plt.gcf()\n",
    "plt.show()\n",
    "\n",
    "\n",
    "fig.savefig('awsProducts7Day.jpg')\n",
    "im  = Image.open('awsProducts7Day.jpg')\n",
    "display(im)\n",
    "\n"
   ]
  },
  {
   "cell_type": "code",
   "execution_count": 19,
   "id": "5f476f1b-a7b0-4927-9c7d-6335e9d3e7da",
   "metadata": {
    "credentialsJson": {},
    "customAction": true,
    "execution_data": {
     "last_date_success_run_cell": "2023-04-07T16:34:22.658Z"
    },
    "jupyter": {
     "source_hidden": true
    },
    "name": "build alert",
    "orderProperties": [],
    "tags": [],
    "title": "build alert"
   },
   "outputs": [],
   "source": [
    "from datetime import date \n",
    "\n",
    "\n",
    "today = todayDay -1\n",
    "yesterday =yesterDay -1\n",
    "\n",
    "print(today)\n",
    "bigchange = {}\n",
    "listChange = []\n",
    "alert = False\n",
    "alertText = ''\n",
    "if yesterday >0:\n",
    "    for instance in dfpivot.columns:\n",
    "        todayCost = dfpivot.at[today, instance]\n",
    "        yesterdayCost = dfpivot.at[yesterday, instance]\n",
    "\n",
    "        delta =(todayCost-yesterdayCost)/yesterdayCost\n",
    "        if abs(todayCost-yesterdayCost) >1: \n",
    "            if delta >.05:\n",
    "                #print( instance, delta,dfpivot.at[today, instance], dfpivot.at[yesterday, instance])\n",
    "                bigchange[instance] = {\"delta\":delta, \"todayCost\":todayCost,\"yesterdayCost\":yesterdayCost}\n",
    "                listChange.append([instance, yesterdayCost, todayCost])\n",
    "                alertText = '@here There has been a large change in AWS Costs'\n",
    "                alert = True\n",
    "            if date.today().weekday() == 0:\n",
    "                alertText = 'Today is Monday, Here is the last week of AWS Costs'\n",
    "                alert = True\n",
    "    print(listChange)\n",
    "    print(\"bigchange\", bigchange)"
   ]
  },
  {
   "cell_type": "code",
   "execution_count": 20,
   "id": "e0091066-452a-4c06-81fc-3704ee90168c",
   "metadata": {
    "accessType": "ACCESS_TYPE_UNSPECIFIED",
    "actionBashCommand": false,
    "actionCategories": [],
    "actionIsCheck": false,
    "actionNeedsCredential": true,
    "actionNextHop": [],
    "actionNextHopParameterMapping": {},
    "actionOutputType": "",
    "actionRequiredLinesInCode": [],
    "actionSupportsIteration": true,
    "actionSupportsPoll": true,
    "action_modified": true,
    "action_uuid": "6a87f83ab0ecfeecb9c98d084e2b1066c26fa64be5b4928d5573a5d60299802d",
    "checkEnabled": false,
    "condition_enabled": true,
    "continueOnError": false,
    "createTime": "1970-01-01T00:00:00Z",
    "credentialsJson": {},
    "currentVersion": "0.1.0",
    "customCell": true,
    "description": "Post Slack Message",
    "execution_data": {
     "last_date_success_run_cell": "2023-04-07T16:34:29.971Z"
    },
    "id": 82,
    "index": 82,
    "inputData": [
     {
      "channel": {
       "constant": false,
       "value": "\"devrel_doug_test1\""
      },
      "comment": {
       "constant": false,
       "value": "alertText"
      },
      "image": {
       "constant": false,
       "value": "'awsProducts7Day.jpg'"
      }
     }
    ],
    "inputschema": [
     {
      "properties": {
       "channel": {
        "default": "",
        "description": "Name of slack channel.",
        "title": "Channel",
        "type": "string"
       },
       "comment": {
        "default": "",
        "description": "Comment to add with image",
        "required": false,
        "title": "comment",
        "type": "string"
       },
       "image": {
        "default": "",
        "description": "image to uplaod",
        "title": "image",
        "type": "string"
       }
      },
      "required": [
       "channel",
       "message"
      ],
      "title": "slack_post_image",
      "type": "object"
     }
    ],
    "isUnskript": false,
    "jupyter": {
     "source_hidden": true
    },
    "legotype": "LEGO_TYPE_SLACK",
    "name": "Post Slack Image",
    "nouns": [],
    "orderProperties": [
     "channel",
     "image",
     "comment"
    ],
    "output": {
     "type": ""
    },
    "printOutput": true,
    "startcondition": "alert",
    "tags": [
     "slack_post_message"
    ],
    "title": "Post Slack Image",
    "verbs": []
   },
   "outputs": [],
   "source": [
    "##\n",
    "# Copyright (c) 2021 unSkript, Inc\n",
    "# All rights reserved.\n",
    "##\n",
    "\n",
    "import pprint\n",
    "\n",
    "from pydantic import BaseModel, Field\n",
    "from slack_sdk import WebClient\n",
    "from slack_sdk.errors import SlackApiError\n",
    "\n",
    "pp = pprint.PrettyPrinter(indent=2)\n",
    "\n",
    "from beartype import beartype\n",
    "\n",
    "from beartype import beartype\n",
    "@beartype\n",
    "def slack_post_image_printer(output):\n",
    "    if output is not None:\n",
    "        pprint.pprint(output)\n",
    "    else:\n",
    "        return\n",
    "\n",
    "\n",
    "@beartype\n",
    "@beartype\n",
    "def slack_post_image(\n",
    "        handle: WebClient,\n",
    "        channel: str,\n",
    "        comment: str,\n",
    "        image: str) -> str:\n",
    "\n",
    "    try:\n",
    "        result = handle.files_upload(\n",
    "            channels = channel,\n",
    "            initial_comment=comment,\n",
    "            file=image\n",
    "    )\n",
    "        return f\"Successfuly Sent Message on Channel: #{channel}\"\n",
    "\n",
    "    except Exception as e:\n",
    "        print(\"\\n\\n\")\n",
    "        pp.pprint(\n",
    "            f\"Failed sending message to slack channel {channel}, Error: {e.__str__()}\")\n",
    "        return f\"Unable to send message on {channel}\"\n",
    "\n",
    "\n",
    "task = Task(Workflow())\n",
    "task.configure(inputParamsJson='''{\n",
    "    \"channel\": \"\\\\\"devrel_doug_test1\\\\\"\",\n",
    "    \"image\": \"'awsProducts7Day.jpg'\",\n",
    "    \"comment\": \"alertText\"\n",
    "    }''')\n",
    "task.configure(conditionsJson='''{\n",
    "    \"condition_enabled\": true,\n",
    "    \"condition_cfg\": \"alert\",\n",
    "    \"condition_result\": true\n",
    "    }''')\n",
    "task.configure(printOutput=True)\n",
    "(err, hdl, args) = task.validate(vars=vars())\n",
    "if err is None:\n",
    "    task.execute(slack_post_image, lego_printer=slack_post_image_printer, hdl=hdl, args=args)"
   ]
  }
 ],
 "metadata": {
  "execution_data": {
   "runbook_name": "AWS Redshift Get Daily Costs from AWS Products",
   "parameters": [
    "cluster",
    "database",
    "region",
    "secret_name"
   ]
  },
  "kernelspec": {
   "display_name": "Python 3.10.6 64-bit",
   "language": "python",
   "name": "python3"
  },
  "language_info": {
   "codemirror_mode": {
    "name": "ipython",
    "version": 3
   },
   "file_extension": ".py",
   "mimetype": "text/x-python",
   "name": "python",
   "nbconvert_exporter": "python",
   "pygments_lexer": "ipython3",
   "version": "3.10.6"
  },
  "parameterSchema": {
   "properties": {
    "cluster": {
     "description": "The Redshift Cluster to be queried",
     "title": "cluster",
     "type": "string"
    },
    "database": {
     "description": "the Redshift Database in our query",
     "title": "database",
     "type": "string"
    },
    "region": {
     "description": "AWS Region",
     "title": "region",
     "type": "string"
    },
    "secret_name": {
     "description": "AWS Secret Name to retrieve ARN for",
     "title": "secret_name",
     "type": "string"
    }
   },
   "required": [],
   "title": "Schema",
   "type": "object"
  },
  "vscode": {
   "interpreter": {
    "hash": "b0fa6594d8f4cbf19f97940f81e996739fb7646882a419484c72d19e05852a7e"
   }
  }
 },
 "nbformat": 4,
 "nbformat_minor": 5
}