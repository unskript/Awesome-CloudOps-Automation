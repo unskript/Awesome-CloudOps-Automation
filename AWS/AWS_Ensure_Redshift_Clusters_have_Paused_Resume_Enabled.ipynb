{
 "cells": [
  {
   "attachments": {},
   "cell_type": "markdown",
   "id": "e2fffe48-5eb4-4177-95ec-7955cc381ad8",
   "metadata": {
    "jupyter": {
     "source_hidden": false
    },
    "name": "Runbook Overview",
    "orderProperties": [],
    "tags": [],
    "title": "Runbook Overview"
   },
   "source": [
    "<center><img src=\"https://unskript.com/assets/favicon.png\" alt=\"unSkript.com\" width=\"100\" height=\"100\">\n",
    "<h1 id=\"unSkript-Runbooks\">unSkript Runbooks<a class=\"jp-InternalAnchorLink\" href=\"#unSkript-Runbooks\" target=\"_self\">&para;</a></h1>\n",
    "<div class=\"alert alert-block alert-success\"><strong>To ensure the Redshift cluster has pause resume enabled in AWS using unSkript actions.</strong></div>\n",
    "</center><center>\n",
    "<h2 id=\"Ensure-Redshift-Clusters-have-Paused-Resume-Enabled\">Ensure Redshift Clusters have Paused Resume Enabled<a class=\"jp-InternalAnchorLink\" href=\"#Ensure-Redshift-Clusters-have-Paused-Resume-Enabled\" target=\"_self\">&para;</a></h2>\n",
    "</center>\n",
    "<h1 id=\"Steps-Overview\">Steps Overview<a class=\"jp-InternalAnchorLink\" href=\"#Steps-Overview\" target=\"_self\">&para;</a></h1>\n",
    "<ol>\n",
    "<li>AWS Find Redshift Cluster without Pause Resume Enabled</li>\n",
    "<li>AWS Schedule Redshift Cluster Pause Resume Enabled</li>\n",
    "</ol>"
   ]
  },
  {
   "cell_type": "code",
   "execution_count": 46,
   "id": "cbd771e6-6e0a-4ea0-a653-00f65120e145",
   "metadata": {
    "collapsed": true,
    "credentialsJson": {},
    "customAction": true,
    "execution_data": {
     "last_date_success_run_cell": "2023-05-19T04:41:41.094Z"
    },
    "jupyter": {
     "outputs_hidden": true,
     "source_hidden": true
    },
    "name": "Input Verification",
    "orderProperties": [],
    "tags": [],
    "title": "Input Verification"
   },
   "outputs": [],
   "source": [
    "if redshift_clusters and not region:\n",
    "    raise SystemExit(\"Provide region for redshift_clusters!\")\n",
    "if region == None:\n",
    "    region = \"\""
   ]
  },
  {
   "attachments": {},
   "cell_type": "markdown",
   "id": "dbbf73ef-3c3e-49b7-8c4b-301e02614d84",
   "metadata": {
    "jupyter": {
     "source_hidden": false
    },
    "name": "Step-1",
    "orderProperties": [],
    "tags": [],
    "title": "Step-1"
   },
   "source": [
    "<h3 id=\"AWS-Find-Redshift-Cluster-without-Pause-Resume-Enabled\">AWS Find Redshift Cluster without Pause Resume Enabled<a class=\"jp-InternalAnchorLink\" href=\"#AWS-Find-Redshift-Cluster-without-Pause-Resume-Enabled\" target=\"_self\">&para;</a></h3>\n",
    "<p>Here we will use unSkript <strong>AWS Find Redshift Cluster without Pause Resume Enabled</strong> action. This action filters all the redshift clusters from the given region and returns a list of clusters that don't have pause resume enabled.</p>\n",
    "<blockquote>\n",
    "<p>Input parameters: <code>region</code></p>\n",
    "</blockquote>\n",
    "<blockquote>\n",
    "<p>Output variable:&nbsp;<code>clusters</code></p>\n",
    "</blockquote>"
   ]
  },
  {
   "cell_type": "code",
   "execution_count": null,
   "id": "3287a7ff-59c3-41e4-85e6-cc79a6969396",
   "metadata": {
    "actionBashCommand": false,
    "actionCategories": [
     "CATEGORY_TYPE_DEVOPS",
     "CATEGORY_TYPE_SRE",
     "CATEGORY_TYPE_AWS",
     "CATEGORY_TYPE_AWS_EC2",
     "CATEGORY_TYPE_DB"
    ],
    "actionDescription": "Use This Action to AWS find redshift cluster for which paused resume are not Enabled",
    "actionEntryFunction": "aws_find_redshift_cluster_without_pause_resume_enabled",
    "actionIsCheck": true,
    "actionIsRemediation": false,
    "actionNeedsCredential": true,
    "actionNextHop": [],
    "actionNextHopParameterMapping": {},
    "actionNouns": null,
    "actionOutputType": "ACTION_OUTPUT_TYPE_LIST",
    "actionSupportsIteration": true,
    "actionSupportsPoll": true,
    "actionTitle": "AWS Find Redshift Cluster without Pause Resume Enabled",
    "actionType": "LEGO_TYPE_AWS",
    "actionVerbs": null,
    "actionVersion": "1.0.0",
    "action_modified": false,
    "action_uuid": "433eede3d0f6e49e242c1c0f624617df7212a210e1fd5cde8cec0202d2b972aa",
    "collapsed": true,
    "condition_enabled": true,
    "continueOnError": false,
    "credentialsJson": {},
    "description": "Use This Action to AWS find redshift cluster for which paused resume are not Enabled",
    "execution_data": {
     "last_date_success_run_cell": "2023-05-19T04:42:11.658Z"
    },
    "id": 11,
    "index": 11,
    "inputData": [
     {
      "region": {
       "constant": false,
       "value": "region"
      }
     }
    ],
    "inputschema": [
     {
      "properties": {
       "region": {
        "default": "",
        "description": "AWS Region.",
        "title": "Region",
        "type": "string"
       }
      },
      "required": [],
      "title": "aws_find_redshift_cluster_without_pause_resume_enabled",
      "type": "object"
     }
    ],
    "jupyter": {
     "outputs_hidden": true,
     "source_hidden": true
    },
    "language": "python",
    "legotype": "LEGO_TYPE_AWS",
    "name": "AWS Find Redshift Cluster without Pause Resume Enabled",
    "orderProperties": [
     "region"
    ],
    "outputParams": {
     "output_name": "clusters",
     "output_name_enabled": true,
     "output_runbook_enabled": false,
     "output_runbook_name": ""
    },
    "printOutput": true,
    "startcondition": "not redshift_clusters",
    "tags": [],
    "title": "AWS Find Redshift Cluster without Pause Resume Enabled",
    "uuid": "433eede3d0f6e49e242c1c0f624617df7212a210e1fd5cde8cec0202d2b972aa",
    "version": "1.0.0"
   },
   "outputs": [],
   "source": [
    "##  Copyright (c) 2023 unSkript, Inc\n",
    "##  All rights reserved.\n",
    "##\n",
    "from pydantic import BaseModel, Field\n",
    "from typing import Optional, Tuple\n",
    "from unskript.legos.aws.aws_list_all_regions.aws_list_all_regions import aws_list_all_regions\n",
    "from unskript.connectors.aws import aws_get_paginator\n",
    "import pprint\n",
    "\n",
    "\n",
    "from beartype import beartype\n",
    "@beartype\n",
    "def aws_find_redshift_cluster_without_pause_resume_enabled_printer(output):\n",
    "    if output is None:\n",
    "        return\n",
    "    pprint.pprint(output)\n",
    "\n",
    "\n",
    "@beartype\n",
    "def aws_find_redshift_cluster_without_pause_resume_enabled(handle, region: str = \"\") -> Tuple:\n",
    "    \"\"\"aws_find_redshift_cluster_without_pause_resume_enabled Gets all redshift cluster which don't have pause and resume not enabled.\n",
    "\n",
    "        :type handle: object\n",
    "        :param handle: Object returned from task.validate(...).\n",
    "\n",
    "        :type region: string\n",
    "        :param region: AWS Region.\n",
    "\n",
    "        :rtype: Tuple with the status result and a list of all redshift clusters that don't have pause and resume enabled.\n",
    "    \"\"\"\n",
    "    result = []\n",
    "    all_regions = [region]\n",
    "    if not region:\n",
    "        all_regions = aws_list_all_regions(handle)\n",
    "    for reg in all_regions:\n",
    "        try:\n",
    "            redshift_Client = handle.client('redshift', region_name=reg)\n",
    "            response = aws_get_paginator(redshift_Client, \"describe_clusters\", \"Clusters\")\n",
    "            for cluster in response:\n",
    "                cluster_dict = {}\n",
    "                cluster_name = cluster[\"ClusterIdentifier\"]\n",
    "                schedule_actions = aws_get_paginator(redshift_Client, \"describe_scheduled_actions\", \"ScheduledActions\",Filters=[{'Name': 'cluster-identifier', 'Values': [cluster_name]}])\n",
    "\n",
    "                if schedule_actions:\n",
    "                    for actions in schedule_actions:\n",
    "                        if \"ResumeCluster\" in actions[\"TargetAction\"].keys() or \"PauseCluster\" in actions[\"TargetAction\"].keys():\n",
    "                            pass\n",
    "                        else:\n",
    "                            cluster_dict[\"cluster_name\"] = cluster_name\n",
    "                            cluster_dict[\"region\"] = reg\n",
    "                            result.append(cluster_dict)\n",
    "                else:\n",
    "                    cluster_dict[\"cluster_name\"] = cluster_name\n",
    "                    cluster_dict[\"region\"] = reg\n",
    "                    result.append(cluster_dict)\n",
    "        except Exception as error:\n",
    "            pass\n",
    "\n",
    "    if len(result) != 0:\n",
    "        return (False, result)\n",
    "    else:\n",
    "        return (True, None)\n",
    "\n",
    "\n",
    "task = Task(Workflow())\n",
    "task.configure(inputParamsJson='''{\n",
    "    \"region\": \"region\"\n",
    "    }''')\n",
    "task.configure(conditionsJson='''{\n",
    "    \"condition_enabled\": true,\n",
    "    \"condition_cfg\": \"not redshift_clusters\",\n",
    "    \"condition_result\": true\n",
    "    }''')\n",
    "\n",
    "task.configure(outputName=\"clusters\")\n",
    "\n",
    "task.configure(printOutput=True)\n",
    "(err, hdl, args) = task.validate(vars=vars())\n",
    "if err is None:\n",
    "    task.execute(aws_find_redshift_cluster_without_pause_resume_enabled, lego_printer=aws_find_redshift_cluster_without_pause_resume_enabled_printer, hdl=hdl, args=args)"
   ]
  },
  {
   "attachments": {},
   "cell_type": "markdown",
   "id": "0f79562c-f105-49d3-beb0-0b5456c3c805",
   "metadata": {
    "name": "Gathering Information",
    "orderProperties": [],
    "tags": [],
    "title": "Gathering Information"
   },
   "source": [
    "<h3 id=\"Get-IAM-Role\">Get IAM Role<a class=\"jp-InternalAnchorLink\" href=\"Ensure_Redshift_Clusters_have_Paused_Resume_Enabled.ipynb#Get-IAM-Role\" target=\"_self\">&para;</a></h3>\n",
    "<p>In this action, we use&nbsp;<strong>Run Command via AWS CLI</strong>&nbsp;action to get IAM role ARN for schedule pause resume.</p>\n",
    "<blockquote>\n",
    "<p>Output variable:&nbsp;<code>iam_role_arn</code></p>\n",
    "</blockquote>"
   ]
  },
  {
   "cell_type": "code",
   "execution_count": null,
   "id": "f8a5cc43-4e9f-4011-bdcd-6cbd0d3a6596",
   "metadata": {
    "actionBashCommand": false,
    "actionCategories": [
     "CATEGORY_TYPE_DEVOPS",
     "CATEGORY_TYPE_SRE",
     "CATEGORY_TYPE_AWS",
     "CATEGORY_TYPE_AWS_CLI"
    ],
    "actionDescription": "Execute command using AWS CLI",
    "actionEntryFunction": "aws_execute_cli_command",
    "actionIsCheck": false,
    "actionIsRemediation": false,
    "actionNeedsCredential": true,
    "actionNextHop": null,
    "actionNextHopParameterMapping": null,
    "actionNouns": null,
    "actionOutputType": "ACTION_OUTPUT_TYPE_STR",
    "actionSupportsIteration": true,
    "actionSupportsPoll": true,
    "actionTitle": "Run Command via AWS CLI",
    "actionType": "LEGO_TYPE_AWS",
    "actionVerbs": null,
    "actionVersion": "1.0.0",
    "action_modified": false,
    "action_uuid": "1db371aff42291641eb6ba83d7acc3fe28e2468d83be1552e8258dc878c0f70d",
    "continueOnError": false,
    "credentialsJson": {},
    "description": "Execute command using AWS CLI",
    "execution_data": {
     "last_date_success_run_cell": "2023-05-19T04:52:30.867Z"
    },
    "id": 1,
    "index": 1,
    "inputData": [
     {
      "aws_command": {
       "constant": false,
       "value": "\"aws iam get-role --role-name scheduler.redshift.amazonaws.com --query 'Role.Arn' --output text\""
      }
     }
    ],
    "inputschema": [
     {
      "properties": {
       "aws_command": {
        "description": "AWS Command eg \"aws ec2 describe-instances\"",
        "title": "AWS Command",
        "type": "string"
       }
      },
      "required": [
       "aws_command"
      ],
      "title": "aws_execute_cli_command",
      "type": "object"
     }
    ],
    "jupyter": {
     "source_hidden": true
    },
    "language": "python",
    "legotype": "LEGO_TYPE_AWS",
    "name": "Run Command via AWS CLI: Get IAM Role",
    "orderProperties": [
     "aws_command"
    ],
    "outputParams": {
     "output_name": "iam_role_arn",
     "output_name_enabled": true,
     "output_runbook_enabled": false,
     "output_runbook_name": ""
    },
    "printOutput": true,
    "tags": [],
    "title": "Run Command via AWS CLI: Get IAM Role",
    "uuid": "1db371aff42291641eb6ba83d7acc3fe28e2468d83be1552e8258dc878c0f70d",
    "version": "1.0.0"
   },
   "outputs": [],
   "source": [
    "#\n",
    "# Copyright (c) 2021 unSkript.com\n",
    "# All rights reserved.\n",
    "#\n",
    "\n",
    "from pydantic import BaseModel, Field\n",
    "import pprint\n",
    "\n",
    "\n",
    "from beartype import beartype\n",
    "@beartype\n",
    "def aws_execute_cli_command_printer(output):\n",
    "    if output is None:\n",
    "        return\n",
    "    pprint.pprint(output)\n",
    "\n",
    "\n",
    "@beartype\n",
    "def aws_execute_cli_command(handle, aws_command: str) -> str:\n",
    "\n",
    "    result = handle.aws_cli_command(aws_command)\n",
    "    if result is None or result.returncode != 0:\n",
    "        print(\n",
    "            f\"Error while executing command ({aws_command}): {result}\")\n",
    "        return str()\n",
    "\n",
    "    return result.stdout\n",
    "\n",
    "\n",
    "task = Task(Workflow())\n",
    "task.configure(inputParamsJson='''{\n",
    "    \"aws_command\": \"\\\\\"aws iam get-role --role-name scheduler.redshift.amazonaws.com --query 'Role.Arn' --output text\\\\\"\"\n",
    "    }''')\n",
    "task.configure(outputName=\"iam_role_arn\")\n",
    "\n",
    "task.configure(printOutput=True)\n",
    "(err, hdl, args) = task.validate(vars=vars())\n",
    "if err is None:\n",
    "    task.execute(aws_execute_cli_command, lego_printer=aws_execute_cli_command_printer, hdl=hdl, args=args)"
   ]
  },
  {
   "attachments": {},
   "cell_type": "markdown",
   "id": "b3b728cf-a318-4303-8be9-750fd811cdd7",
   "metadata": {
    "name": "Step-1 Extension",
    "orderProperties": [],
    "tags": [],
    "title": "Step-1 Extension"
   },
   "source": [
    "<h3 id=\"Modify-Step-1-Output&para;\">Modify Step-1 Output</h3>\n",
    "<p>In this action, we modify the output from step 1 and return a list of dictionaries for schedule pause resume in the redshift cluster.</p>\n",
    "<blockquote>\n",
    "<p>Output variable:&nbsp;<code>schedule_cluster_details</code></p>\n",
    "</blockquote>"
   ]
  },
  {
   "cell_type": "code",
   "execution_count": 54,
   "id": "5cbcb4b2-149f-43f7-b723-e2f3766c9980",
   "metadata": {
    "collapsed": true,
    "credentialsJson": {},
    "customAction": true,
    "execution_data": {
     "last_date_success_run_cell": "2023-05-19T04:54:58.091Z"
    },
    "jupyter": {
     "outputs_hidden": true,
     "source_hidden": true
    },
    "name": "Modify Step-1 Output",
    "orderProperties": [],
    "tags": [],
    "title": "Modify Step-1 Output"
   },
   "outputs": [],
   "source": [
    "schedule_cluster_details = []\n",
    "try:\n",
    "    if clusters[0] == False:\n",
    "        for instance in clusters[1]:\n",
    "            instance[\"iam_role\"] = iam_role_arn\n",
    "            instance[\"pause_schedule_expression\"] = pause_schedule_expression\n",
    "            instance[\"resume_schedule_expression\"] = resume_schedule_expression\n",
    "            schedule_cluster_details.append(instance)\n",
    "except Exception as e:\n",
    "    for i in redshift_clusters:\n",
    "        instance = {}\n",
    "        instance[\"cluster_name\"] = i\n",
    "        instance[\"region\"] = region\n",
    "        instance[\"iam_role\"] = iam_role_arn\n",
    "        instance[\"pause_schedule_expression\"] = pause_schedule_expression\n",
    "        instance[\"resume_schedule_expression\"] = resume_schedule_expression\n",
    "        schedule_cluster_details.append(instance)\n",
    "    else:\n",
    "        raise Exception(e)"
   ]
  },
  {
   "attachments": {},
   "cell_type": "markdown",
   "id": "d1f1a3bf-e7d4-4243-8a99-6e1b66abef29",
   "metadata": {
    "jupyter": {
     "source_hidden": false
    },
    "name": "Step-2",
    "orderProperties": [],
    "tags": [],
    "title": "Step-2"
   },
   "source": [
    "<p><strong>AWS Schedule Redshift Cluster Pause Resume Enabled</strong></p>\n",
    "<p>In this action, we pass all details collected from the step1 and schedule pause resume redshift cluster.</p>\n",
    "<blockquote>\n",
    "<p>Input parameters: <code>iam_role_arn, cluster_name, region, pause_schedule_expression, resume_schedule_expression</code></p>\n",
    "</blockquote>\n",
    "<blockquote>\n",
    "<p>Output variable: <code>schedule_info</code></p>\n",
    "</blockquote>"
   ]
  },
  {
   "cell_type": "code",
   "execution_count": null,
   "id": "de3a0d4c-4a05-4546-98ab-f0abea87594a",
   "metadata": {
    "actionBashCommand": false,
    "actionCategories": [
     "CATEGORY_TYPE_DEVOPS",
     "CATEGORY_TYPE_SRE",
     "CATEGORY_TYPE_AWS",
     "CATEGORY_TYPE_AWS_EC2",
     "CATEGORY_TYPE_DB"
    ],
    "actionDescription": "Use This Action to AWS find redshift cluster for which paused resume are not Enabled",
    "actionEntryFunction": "aws_find_redshift_cluster_without_pause_resume_enabled",
    "actionIsCheck": true,
    "actionIsRemediation": false,
    "actionNeedsCredential": true,
    "actionNextHop": [],
    "actionNextHopParameterMapping": {},
    "actionNouns": null,
    "actionOutputType": "ACTION_OUTPUT_TYPE_LIST",
    "actionSupportsIteration": true,
    "actionSupportsPoll": true,
    "actionTitle": "AWS Find Redshift Cluster without Pause Resume Enabled",
    "actionType": "LEGO_TYPE_AWS",
    "actionVerbs": null,
    "actionVersion": "1.0.0",
    "action_modified": true,
    "action_uuid": "433eede3d0f6e49e242c1c0f624617df7212a210e1fd5cde8cec0202d2b972aa",
    "collapsed": true,
    "continueOnError": true,
    "credentialsJson": {},
    "description": "Use This Action to AWS find redshift cluster for which paused resume are not Enabled",
    "execution_data": {
     "last_date_success_run_cell": "2023-05-19T04:30:55.971Z"
    },
    "id": 12,
    "index": 12,
    "inputData": [
     {
      "cluster_name": {
       "constant": false,
       "value": "\"iter.get(\\\\\"cluster_name\\\\\")\""
      },
      "iam_role_arn": {
       "constant": false,
       "value": "\"iter.get(\\\\\"iam_role\\\\\")\""
      },
      "pause_schedule_expression": {
       "constant": false,
       "value": "\"iter.get(\\\\\"pause_schedule_expression\\\\\")\""
      },
      "region": {
       "constant": false,
       "value": "\"iter.get(\\\\\"region\\\\\")\""
      },
      "resume_schedule_expression": {
       "constant": false,
       "value": "\"iter.get(\\\\\"resume_schedule_expression\\\\\")\""
      }
     }
    ],
    "inputschema": [
     {
      "properties": {
       "cluster_name": {
        "default": "",
        "description": "Name of the redshift cluster",
        "title": "cluster_name",
        "type": "string"
       },
       "iam_role_arn": {
        "default": "",
        "description": "IAM role ARN for schedule redshift pause resume",
        "title": "iam_role_arn",
        "type": "string"
       },
       "pause_schedule_expression": {
        "default": "",
        "description": "The cron expression for the pause schedule.",
        "title": "pause_schedule_expression",
        "type": "string"
       },
       "region": {
        "default": "",
        "description": "AWS Region.",
        "title": "Region",
        "type": "string"
       },
       "resume_schedule_expression": {
        "default": "",
        "description": "The cron expression for the resume schedule.",
        "title": "resume_schedule_expression",
        "type": "string"
       }
      },
      "required": [
       "region",
       "iam_role_arn",
       "cluster_name",
       "pause_schedule_expression",
       "resume_schedule_expression"
      ],
      "title": "aws_find_redshift_cluster_without_pause_resume_enabled",
      "type": "object"
     }
    ],
    "iterData": [
     {
      "iter_enabled": true,
      "iter_item": {
       "cluster_name": "cluster_name",
       "iam_role_arn": "iam_role",
       "pause_schedule_expression": "pause_schedule_expression",
       "region": "region",
       "resume_schedule_expression": "resume_schedule_expression"
      },
      "iter_list": {
       "constant": false,
       "objectItems": true,
       "value": "schedule_cluster_details"
      }
     }
    ],
    "jupyter": {
     "outputs_hidden": true,
     "source_hidden": true
    },
    "language": "python",
    "legotype": "LEGO_TYPE_AWS",
    "name": "AWS Schedule Redshift Cluster Pause Resume Enabled",
    "orderProperties": [
     "region",
     "iam_role_arn",
     "cluster_name",
     "pause_schedule_expression",
     "resume_schedule_expression"
    ],
    "outputParams": {
     "output_name": "schedule_info",
     "output_name_enabled": true,
     "output_runbook_enabled": false,
     "output_runbook_name": ""
    },
    "printOutput": true,
    "tags": [
     "aws_find_redshift_cluster_without_pause_resume_enabled"
    ],
    "title": "AWS Schedule Redshift Cluster Pause Resume Enabled",
    "uuid": "433eede3d0f6e49e242c1c0f624617df7212a210e1fd5cde8cec0202d2b972aa",
    "version": "1.0.0"
   },
   "outputs": [],
   "source": [
    "##  Copyright (c) 2023 unSkript, Inc\n",
    "##  All rights reserved.\n",
    "##\n",
    "from pydantic import BaseModel, Field\n",
    "from typing import Optional, List\n",
    "import pprint\n",
    "\n",
    "\n",
    "from beartype import beartype\n",
    "@beartype\n",
    "def aws_schedule_pause_resume_enabled_printer(output):\n",
    "    if output is None:\n",
    "        return\n",
    "    pprint.pprint(output)\n",
    "\n",
    "\n",
    "@beartype\n",
    "def aws_schedule_pause_resume_enabled(handle,\n",
    "                                      iam_role_arn: str,\n",
    "                                      cluster_name: str,\n",
    "                                      region: str,\n",
    "                                      pause_schedule_expression: str,\n",
    "                                      resume_schedule_expression: str) -> List:\n",
    "    \"\"\"aws_schedule_pause_resume_enabled schedule pause and resume enabled.\n",
    "\n",
    "    :type iam_role_arn: str\n",
    "    :param iam_role_arn: The ARN of the IAM role.\n",
    "\n",
    "    :type cluster_name: str\n",
    "    :param cluster_name: The name of the Redshift cluster.\n",
    "\n",
    "    :type region: str\n",
    "    :param region: AWS Region.\n",
    "\n",
    "    :type pause_schedule_expression: str\n",
    "    :param pause_schedule_expression: The cron expression for the pause schedule.\n",
    "\n",
    "    :type resume_schedule_expression: str\n",
    "    :param resume_schedule_expression: The cron expression for the resume schedule.\n",
    "\n",
    "    :rtype: List\n",
    "    :return: A list of pause and resume enabled status.\n",
    "    \"\"\"\n",
    "    result = []\n",
    "    pause_action_name = f\"{cluster_name}-scheduled-pause\"\n",
    "    resume_action_name = f\"{cluster_name}-scheduled-resume\"\n",
    "\n",
    "    try:\n",
    "        redshift_client = handle.client('redshift', region_name=region)\n",
    "        # Schedule pause action\n",
    "        response_pause = redshift_client.create_scheduled_action(\n",
    "            ScheduledActionName=pause_action_name,\n",
    "            TargetAction={\n",
    "                'PauseCluster': {'ClusterIdentifier': cluster_name}\n",
    "            },\n",
    "            Schedule=pause_schedule_expression,\n",
    "            IamRole=iam_role_arn,\n",
    "            Enable=True\n",
    "        )\n",
    "        result.append(response_pause)\n",
    "        # Schedule resume action\n",
    "        response_resume = redshift_client.create_scheduled_action(\n",
    "            ScheduledActionName=resume_action_name,\n",
    "            TargetAction={\n",
    "                'ResumeCluster': {'ClusterIdentifier': cluster_name}\n",
    "            },\n",
    "            Schedule=resume_schedule_expression,\n",
    "            IamRole=iam_role_arn,\n",
    "            Enable=True\n",
    "        )\n",
    "        result.append(response_resume)\n",
    "\n",
    "    except Exception as error:\n",
    "        print(error)\n",
    "\n",
    "    return result\n",
    "\n",
    "task = Task(Workflow())\n",
    "task.configure(continueOnError=True)\n",
    "task.configure(inputParamsJson='''{\n",
    "    \"region\": \"iter.get(\\\\\"region\\\\\")\",\n",
    "    \"iam_role_arn\": \"iter.get(\\\\\"iam_role\\\\\")\",\n",
    "    \"cluster_name\": \"iter.get(\\\\\"cluster_name\\\\\")\",\n",
    "    \"pause_schedule_expression\": \"iter.get(\\\\\"pause_schedule_expression\\\\\")\",\n",
    "    \"resume_schedule_expression\": \"iter.get(\\\\\"resume_schedule_expression\\\\\")\"\n",
    "    }''')\n",
    "task.configure(iterJson='''{\n",
    "    \"iter_enabled\": true,\n",
    "    \"iter_list_is_const\": false,\n",
    "    \"iter_list\": \"schedule_cluster_details\",\n",
    "    \"iter_parameter\": [\"region\",\"iam_role_arn\",\"cluster_name\",\"pause_schedule_expression\",\"resume_schedule_expression\"]\n",
    "    }''')\n",
    "task.configure(conditionsJson='''{\n",
    "    \"condition_enabled\": true,\n",
    "    \"condition_cfg\": \"len(schedule_cluster_details) > 0\",\n",
    "    \"condition_result\": true\n",
    "    }''')\n",
    "task.configure(outputName=\"schedule_info\")\n",
    "\n",
    "task.configure(printOutput=True)\n",
    "(err, hdl, args) = task.validate(vars=vars())\n",
    "if err is None:\n",
    "    task.execute(aws_schedule_pause_resume_enabled, lego_printer=aws_schedule_pause_resume_enabled_printer, hdl=hdl, args=args)"
   ]
  },
  {
   "attachments": {},
   "cell_type": "markdown",
   "id": "37022260-01cb-4cb7-9ed1-aeb30ac4ad64",
   "metadata": {
    "jupyter": {
     "source_hidden": false
    },
    "name": "Conclusion",
    "orderProperties": [],
    "tags": [],
    "title": "Conclusion"
   },
   "source": [
    "<h3 id=\"Conclusion\">Conclusion</h3>\n",
    "<p>In this Runbook, we demonstrated using unSkript's AWS actions to enable Redshift clusters that don't have pause resume enabled and enable the pause resume to those clusters. To view the full platform capabunscriptedof unSkript please visit <a href=\"https://us.app.unskript.io\" target=\"_blank\" rel=\"noopener\">https://us.app.unskript.io</a></p>"
   ]
  }
 ],
 "metadata": {
  "execution_data": {
   "runbook_name": "AWS Ensure Redshift Clusters have Paused Resume Enabled",
   "parameters": null
  },
  "kernelspec": {
   "display_name": "unSkript (Build: 1166)",
   "language": "python",
   "name": "python3"
  },
  "language_info": {
   "codemirror_mode": {
    "name": "ipython",
    "version": 3
   },
   "file_extension": ".py",
   "mimetype": "text/x-python",
   "name": "python",
   "nbconvert_exporter": "python",
   "pygments_lexer": "ipython3",
   "version": "3.9.6"
  },
  "parameterSchema": {
   "properties": {
    "pause_schedule_expression": {
     "default": "cron(0 0 ? * 7,1 *)",
     "description": "The cron expression for the pause schedule.e.g. cron(0 0 * * 6-7\n)\nIn these expressions:\n\n0 0 represents 12:00 AM (midnight).\n? is used for the day of the month field.\n* means all possible values for the month field.\n7,1 specifies Saturday (7) and Sunday (1) for the pause schedule.",
     "title": "pause_schedule_expression",
     "type": "string"
    },
    "redshift_clusters": {
     "description": "List of Redshift clusters where pause resume needs to be implemented.",
     "title": "redshift_clusters",
     "type": "array"
    },
    "region": {
     "description": "AWS Region",
     "title": "region",
     "type": "string"
    },
    "resume_schedule_expression": {
     "default": "cron(0 0 ? * 2 *)",
     "description": "The cron expression for the resume schedule.e.g. cron(0 0 ? * 2 *)\n\n\nIn these expressions:\n\n0 0 represents 12:00 AM (midnight).\n? is used for the day of the month field.\n* means all possible values for the month field.\n2 represents Monday for the resume schedule.",
     "title": "resume_schedule_expression",
     "type": "string"
    }
   },
   "required": [],
   "title": "Schema",
   "type": "object"
  },
  "show_action_drag_hint_done": {
   "environment_id": "1499f27c-6406-4fbd-bd1b-c6f92800018f",
   "environment_name": "Staging",
   "execution_id": "",
   "inputs_for_searched_lego": "",
   "notebook_id": "d4159cb3-6c83-4ba5-a2f7-d23c0777076b.ipynb",
   "parameters": null,
   "runbook_name": "gcp",
   "search_string": "",
   "show_tool_tip": true,
   "tenant_id": "982dba5f-d9df-48ae-a5bf-ec1fc94d4882",
   "tenant_url": "https://tenant-staging.alpha.unskript.io",
   "user_email_id": "support+staging@unskript.com",
   "workflow_id": "f8ead207-81c0-414a-a15b-76fcdefafe8d"
  }
 },
 "nbformat": 4,
 "nbformat_minor": 5
}