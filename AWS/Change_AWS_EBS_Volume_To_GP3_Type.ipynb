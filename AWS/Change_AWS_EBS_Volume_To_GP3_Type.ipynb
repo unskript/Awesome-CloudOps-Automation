{
 "cells": [
  {
   "cell_type": "code",
   "execution_count": 29,
   "id": "20a19712-dd1b-44cf-9ff9-97d0fa59c4b3",
   "metadata": {
    "collapsed": true,
    "customAction": true,
    "execution_data": {
     "last_date_success_run_cell": "2023-04-18T12:30:28.332Z"
    },
    "jupyter": {
     "outputs_hidden": true,
     "source_hidden": true
    },
    "name": "Input Verification",
    "orderProperties": [],
    "tags": [],
    "title": "Input Verification",
    "credentialsJson": {}
   },
   "outputs": [],
   "source": [
    "if ebs_volume_ids and ebs_volume_type and not region:\n",
    "    raise SystemExit(\"Provide a region for the EBS Volumes!\")\n",
    "elif not ebs_volume_type and region and ebs_volume_ids:\n",
    "    raise SystemExit(\"Provide a Volume ID!\")\n",
    "elif not ebs_volume_ids and region and ebs_volume_type:\n",
    "    raise SystemExit(\"Provide a Volume Type !\")\n",
    "elif not ebs_volume_ids and not region and ebs_volume_type:\n",
    "    raise SystemExit(\"Provide a Volume Type and region!\")\n",
    "elif not ebs_volume_type and not region and ebs_volume_ids:\n",
    "    raise SystemExit(\"Provide a Volume Type and region !\")"
   ]
  },
  {
   "cell_type": "markdown",
   "id": "6b5fc373-33cc-4aa1-8a91-95d195fca904",
   "metadata": {
    "jupyter": {
     "source_hidden": false
    },
    "name": "Steps Overview",
    "orderProperties": [],
    "tags": [],
    "title": "Steps Overview"
   },
   "source": [
    "<center><img src=\"https://storage.googleapis.com/unskript-website/assets/favicon.png\" alt=\"unSkript.com\" width=\"100\" height=\"100\">\n",
    "<h1 id=\"unSkript-Runbooks\">unSkript Runbooks</h1>\n",
    "<div class=\"alert alert-block alert-success\">\n",
    "<h3 id=\"Objective\">Objective</h3>\n",
    "<br><strong style=\"color: #000000;\"><em>Change EBS volumes that are not GP3 Type to GP3 Type</em></strong></div>\n",
    "</center>\n",
    "<p>&nbsp;</p>\n",
    "<center>\n",
    "<h2 id=\"Secure-Publicly-accessible-Amazon-RDS-Snapshot\"><u><strong style=\"color: #000000;\">Change AWS EBS volume to GP3 Type</strong></u></h2>\n",
    "</center>\n",
    "<h1 id=\"Steps-Overview\">Steps Overview</h1>\n",
    "<p><br>1)<a href=\"#1\"> Get AWS EBS Volume Without GP3 Type</a><br>2)<a href=\"#2\"> Modify EBS Volume to GP3</a></p>"
   ]
  },
  {
   "cell_type": "markdown",
   "id": "a58f5b53-9145-40be-9a26-68bd6177aa2e",
   "metadata": {
    "jupyter": {
     "source_hidden": false
    },
    "name": "Step 1A",
    "orderProperties": [],
    "tags": [],
    "title": "Step 1A"
   },
   "source": [
    "<h3 id=\"List-all-AWS-Regions\">List all AWS Regions</h3>\n",
    "<p>This action fetches all AWS Regions to execute Step 1\ud83d\udc47. This action will only execute if no <code>region</code> is provided.</p>\n",
    "<blockquote>\n",
    "<p>This action takes the following parameters: <code>None</code></p>\n",
    "</blockquote>\n",
    "<blockquote>\n",
    "<p>This action captures the following ouput: <code>region</code></p>\n",
    "</blockquote>"
   ]
  },
  {
   "cell_type": "code",
   "execution_count": 4,
   "id": "57a42b57-708d-4ace-9349-4dfde501c888",
   "metadata": {
    "accessType": "ACCESS_TYPE_UNSPECIFIED",
    "actionBashCommand": false,
    "actionCategories": [
     "CATEGORY_TYPE_CLOUDOPS",
     "CATEGORY_TYPE_DEVOPS",
     "CATEGORY_TYPE_SRE",
     "CATEGORY_TYPE_AWS"
    ],
    "actionIsCheck": false,
    "actionNeedsCredential": true,
    "actionNextHop": [],
    "actionNextHopParameterMapping": {},
    "actionOutputType": "",
    "actionRequiredLinesInCode": [],
    "actionSupportsIteration": true,
    "actionSupportsPoll": true,
    "action_modified": false,
    "action_uuid": "708ea4af5f8fe7096a15b3a52c4a657606bab9e177386fad7a847341ed607d64",
    "checkEnabled": false,
    "condition_enabled": true,
    "createTime": "1970-01-01T00:00:00Z",
    "currentVersion": "0.1.0",
    "description": "List all available AWS Regions",
    "execution_data": {
     "last_date_success_run_cell": "2023-04-18T13:25:44.214Z"
    },
    "id": 284,
    "index": 284,
    "inputschema": [
     {
      "properties": {},
      "title": "aws_list_all_regions",
      "type": "object"
     }
    ],
    "isUnskript": false,
    "jupyter": {
     "source_hidden": true
    },
    "legotype": "LEGO_TYPE_AWS",
    "name": "AWS List All Regions",
    "nouns": [
     "regions",
     "aws"
    ],
    "orderProperties": [],
    "output": {
     "type": ""
    },
    "outputParams": {
     "output_name": "region",
     "output_name_enabled": true,
     "output_runbook_enabled": false,
     "output_runbook_name": ""
    },
    "printOutput": true,
    "startcondition": "not region",
    "tags": [
     "aws_list_all_regions"
    ],
    "trusted": true,
    "verbs": [
     "list"
    ],
    "credentialsJson": {}
   },
   "outputs": [],
   "source": [
    "#\n",
    "# Copyright (c) 2021 unSkript.com\n",
    "# All rights reserved.\n",
    "#\n",
    "\n",
    "from pydantic import BaseModel, Field\n",
    "from typing import Dict, List\n",
    "import pprint\n",
    "\n",
    "from beartype import beartype\n",
    "@beartype\n",
    "def aws_list_all_regions_printer(output):\n",
    "    if output is None:\n",
    "        return\n",
    "    pprint.pprint(output)\n",
    "\n",
    "\n",
    "@beartype\n",
    "def aws_list_all_regions(handle) -> List:\n",
    "    \"\"\"aws_list_all_regions lists all the AWS regions\n",
    "\n",
    "        :type handle: object\n",
    "        :param handle: Object returned from Task Validate\n",
    "\n",
    "        :rtype: Result List of result\n",
    "    \"\"\"\n",
    "\n",
    "    result = handle.aws_cli_command(\"aws ec2 --region us-west-2 describe-regions --all-regions --query 'Regions[].{Name:RegionName}' --output text\")\n",
    "    if result is None or result.returncode != 0:\n",
    "        print(\"Error while executing command : {}\".format(result))\n",
    "        return str()\n",
    "    result_op = list(result.stdout.split(\"\\n\"))\n",
    "    list_region = [x for x in result_op if x != '']\n",
    "    return list_region\n",
    "\n",
    "\n",
    "task = Task(Workflow())\n",
    "task.configure(conditionsJson='''{\n",
    "    \"condition_enabled\": true,\n",
    "    \"condition_cfg\": \"not region\",\n",
    "    \"condition_result\": true\n",
    "    }''')\n",
    "task.configure(outputName=\"region\")\n",
    "\n",
    "task.configure(printOutput=True)\n",
    "(err, hdl, args) = task.validate(vars=vars())\n",
    "if err is None:\n",
    "    task.execute(aws_list_all_regions, lego_printer=aws_list_all_regions_printer, hdl=hdl, args=args)"
   ]
  },
  {
   "cell_type": "markdown",
   "id": "920ff80f-0083-40e9-96d1-f4ca61b603ef",
   "metadata": {
    "jupyter": {
     "source_hidden": false
    },
    "name": "Step 1",
    "orderProperties": [],
    "tags": [],
    "title": "Step 1"
   },
   "source": [
    "<h3 id=\"Get-AWS-EBS-Volume-Without-GP3-Type\"><a id=\"2\" target=\"_self\" rel=\"nofollow\"></a>Get AWS EBS Volume Without GP3 Type<a class=\"jp-InternalAnchorLink\" href=\"#Get-AWS-EBS-Volume-Without-GP3-Type\" target=\"_self\">&para;</a></h3>\n",
    "<p>Using unSkript's Get AWS EBS Volume Without GP3 Type action we will fetch all the EBS Volumes that are not of General Purpose Type-3.</p>\n",
    "<blockquote>\n",
    "<p>This action takes the following parameters: <code>region(Optional)</code></p>\n",
    "</blockquote>\n",
    "<blockquote>\n",
    "<p>This action captures the following output: <code>all_volumes</code></p>\n",
    "</blockquote>"
   ]
  },
  {
   "cell_type": "code",
   "execution_count": 5,
   "id": "57aeb05e-4a01-49f6-9c4a-331e67f0f346",
   "metadata": {
    "accessType": "ACCESS_TYPE_UNSPECIFIED",
    "actionBashCommand": false,
    "actionCategories": [
     "CATEGORY_TYPE_IAM",
     "CATEGORY_TYPE_SECOPS"
    ],
    "actionIsCheck": true,
    "actionNeedsCredential": true,
    "actionNextHop": [],
    "actionNextHopParameterMapping": {},
    "actionOutputType": "",
    "actionRequiredLinesInCode": [],
    "actionSupportsIteration": true,
    "actionSupportsPoll": true,
    "action_modified": false,
    "action_uuid": "ef1a281f6f6d0f44406bc73758705fd814b740952f9a82a2735d8db6fb6d834f",
    "checkEnabled": false,
    "condition_enabled": true,
    "continueOnError": true,
    "createTime": "1970-01-01T00:00:00Z",
    "currentVersion": "0.1.0",
    "description": "AWS recently introduced the General Purpose SSD (gp3) volume type, which is designed to provide higher IOPS performance at a lower cost than the gp2 volume type.",
    "execution_data": {
     "last_date_success_run_cell": "2023-04-18T13:26:12.368Z"
    },
    "id": 285,
    "index": 285,
    "inputData": [
     {
      "region": {
       "constant": false,
       "value": "iter_item"
      }
     }
    ],
    "inputschema": [
     {
      "properties": {
       "region": {
        "default": "",
        "description": "AWS Region.",
        "title": "Region",
        "type": "string"
       }
      },
      "title": "aws_get_ebs_volumes_without_gp3_type",
      "type": "object"
     }
    ],
    "isUnskript": false,
    "iterData": [
     {
      "iter_enabled": true,
      "iter_item": "region",
      "iter_list": {
       "constant": false,
       "objectItems": false,
       "value": "region"
      }
     }
    ],
    "jupyter": {
     "source_hidden": true
    },
    "legotype": "LEGO_TYPE_AWS",
    "name": "Get AWS EBS Volume Without GP3 Type",
    "nouns": [],
    "orderProperties": [
     "region"
    ],
    "output": {
     "type": ""
    },
    "outputParams": {
     "output_name": "all_volumes",
     "output_name_enabled": true,
     "output_runbook_enabled": false,
     "output_runbook_name": ""
    },
    "printOutput": true,
    "startcondition": "not ebs_volume_ids and not ebs_volume_type",
    "tags": [
     "aws_get_ebs_volumes_without_gp3_type"
    ],
    "title": "Get AWS EBS Volume Without GP3 Type",
    "trusted": true,
    "verbs": [],
    "credentialsJson": {}
   },
   "outputs": [],
   "source": [
    "##\n",
    "##  Copyright (c) 2021 unSkript, Inc\n",
    "##  All rights reserved.\n",
    "##\n",
    "from pydantic import BaseModel, Field\n",
    "from typing import Optional, Tuple\n",
    "from unskript.legos.aws.aws_list_all_regions.aws_list_all_regions import aws_list_all_regions\n",
    "import pprint\n",
    "\n",
    "\n",
    "from beartype import beartype\n",
    "@beartype\n",
    "def aws_get_ebs_volumes_without_gp3_type_printer(output):\n",
    "    if output is None:\n",
    "        return\n",
    "\n",
    "    pprint.pprint(output)\n",
    "\n",
    "\n",
    "@beartype\n",
    "def aws_get_ebs_volumes_without_gp3_type(handle, region: str = \"\") -> Tuple:\n",
    "    \"\"\"aws_get_ebs_volumes_without_gp3_type Returns an array of ebs volumes.\n",
    "\n",
    "        :type region: string\n",
    "        :param region: Used to filter the volume for specific region.\n",
    "\n",
    "        :rtype: Tuple with status result and list of EBS Volume without GP3 type.\n",
    "    \"\"\"\n",
    "    result=[]\n",
    "    all_regions = [region]\n",
    "    if not region:\n",
    "        all_regions = aws_list_all_regions(handle)\n",
    "\n",
    "    for reg in all_regions:\n",
    "        try:\n",
    "            # Filtering the volume by region\n",
    "            ec2Client = handle.resource('ec2', region_name=reg)\n",
    "            volumes = ec2Client.volumes.all()\n",
    "\n",
    "            # collecting the volumes which has zero attachments\n",
    "            for volume in volumes:\n",
    "                volume_dict = {}\n",
    "                if volume.volume_type != \"gp3\":\n",
    "                    volume_dict[\"region\"] = reg\n",
    "                    volume_dict[\"volume_id\"] = volume.id\n",
    "                    volume_dict[\"volume_type\"] = volume.volume_type\n",
    "                    result.append(volume_dict)\n",
    "        except Exception as e:\n",
    "            pass\n",
    "\n",
    "    if len(result) != 0:\n",
    "        return (False, result)\n",
    "    else:\n",
    "        return (True, [])\n",
    "\n",
    "\n",
    "task = Task(Workflow())\n",
    "task.configure(continueOnError=True)\n",
    "task.configure(inputParamsJson='''{\n",
    "    \"region\": \"iter_item\"\n",
    "    }''')\n",
    "task.configure(iterJson='''{\n",
    "    \"iter_enabled\": true,\n",
    "    \"iter_list_is_const\": false,\n",
    "    \"iter_list\": \"region\",\n",
    "    \"iter_parameter\": \"region\"\n",
    "    }''')\n",
    "task.configure(conditionsJson='''{\n",
    "    \"condition_enabled\": true,\n",
    "    \"condition_cfg\": \"not ebs_volume_ids and not ebs_volume_type\",\n",
    "    \"condition_result\": true\n",
    "    }''')\n",
    "task.configure(outputName=\"all_volumes\")\n",
    "task.configure(printOutput=True)\n",
    "(err, hdl, args) = task.validate(vars=vars())\n",
    "if err is None:\n",
    "    task.execute(aws_get_ebs_volumes_without_gp3_type, lego_printer=aws_get_ebs_volumes_without_gp3_type_printer, hdl=hdl, args=args)"
   ]
  },
  {
   "cell_type": "markdown",
   "id": "da849c25-f2f5-45b0-9502-33e35a7e54a5",
   "metadata": {
    "jupyter": {
     "source_hidden": false
    },
    "name": "Stap 2A",
    "orderProperties": [],
    "tags": [],
    "title": "Stap 2A"
   },
   "source": [
    "<h3 id=\"Create-List-of-Volumes-without-GP3-Type\">Create List of Volumes without GP3 Type<a class=\"jp-InternalAnchorLink\" href=\"#Create-List-of-Volumes-without-GP3-Type\" target=\"_self\">&para;</a></h3>\n",
    "<p>This action filters regions that have no ebs volumes without gp3 type .</p>\n",
    "<blockquote>\n",
    "<p>This action takes the following parameters: <code>None</code></p>\n",
    "</blockquote>\n",
    "<blockquote>\n",
    "<p>This action captures the following output:&nbsp;<code>all_non_gp3_volumes</code></p>\n",
    "</blockquote>"
   ]
  },
  {
   "cell_type": "code",
   "execution_count": 6,
   "id": "b1284613-b251-4ba3-83a8-db49cfb3bcab",
   "metadata": {
    "customAction": true,
    "execution_data": {
     "last_date_success_run_cell": "2023-04-18T13:26:21.555Z"
    },
    "jupyter": {
     "source_hidden": true
    },
    "name": "Create List of Volumes without GP3 Type",
    "orderProperties": [],
    "tags": [],
    "title": "Create List of Volumes without GP3 Type",
    "trusted": true,
    "credentialsJson": {}
   },
   "outputs": [],
   "source": [
    "all_non_gp3_volumes = []\n",
    "dummy = []\n",
    "try:\n",
    "    for reg,res in all_volumes.items():\n",
    "        if res[0]==False:\n",
    "            if len(res[1])!=0:\n",
    "                dummy = res[1]\n",
    "                for x in dummy:\n",
    "                    all_non_gp3_volumes.append(x)\n",
    "except Exception:\n",
    "    for vol_id in ebs_volume_ids:\n",
    "        data_dict = {}\n",
    "        data_dict[\"region\"] = region[0]\n",
    "        data_dict[\"volume_type\"] = ebs_volume_type\n",
    "        data_dict[\"volume_id\"] = vol_id\n",
    "        all_non_gp3_volumes.append(data_dict)\n",
    "print(all_non_gp3_volumes)\n",
    "task.configure(outputName=\"all_non_gp3_volumes\")"
   ]
  },
  {
   "cell_type": "markdown",
   "id": "17285759-9cfa-4966-9354-4ff9342b2bd2",
   "metadata": {
    "jupyter": {
     "source_hidden": false
    },
    "name": "Step 2",
    "orderProperties": [],
    "tags": [],
    "title": "Step 2"
   },
   "source": [
    "<h3 id=\"Modify-EBS-Volume-to-GP3&para;\">Modify EBS Volume to GP3</h3>\n",
    "<p>Using unSkript's Modify EBS Volume to GP3 action we will modify the EBS volume type to GP3.</p>\n",
    "<blockquote>\n",
    "<p>This action takes the following parameters: <code>region</code>, &nbsp;<code>volume_type,&nbsp;volume_id</code></p>\n",
    "</blockquote>"
   ]
  },
  {
   "cell_type": "code",
   "execution_count": null,
   "id": "25b754cf-7a86-43e6-8727-b66434953158",
   "metadata": {
    "accessType": "ACCESS_TYPE_UNSPECIFIED",
    "actionBashCommand": false,
    "actionCategories": [
     "CATEGORY_TYPE_DEVOPS",
     "CATEGORY_TYPE_SRE",
     "CATEGORY_TYPE_AWS",
     "CATEGORY_TYPE_AWS_EC2"
    ],
    "actionIsCheck": false,
    "actionNeedsCredential": true,
    "actionNextHop": [],
    "actionNextHopParameterMapping": {},
    "actionOutputType": "",
    "actionRequiredLinesInCode": [],
    "actionSupportsIteration": true,
    "actionSupportsPoll": true,
    "action_modified": false,
    "action_uuid": "05bba1d41c46a68afc0f11b423dc140bd431315f52489b334d00ff3a938205ba",
    "checkEnabled": false,
    "condition_enabled": true,
    "continueOnError": true,
    "createTime": "1970-01-01T00:00:00Z",
    "currentVersion": "0.1.0",
    "description": "AWS recently introduced the General Purpose SSD (gp3) volume type, which is designed to provide higher IOPS performance at a lower cost than the gp2 volume type.",
    "id": 347,
    "index": 347,
    "inputData": [
     {
      "region": {
       "constant": false,
       "value": "\"iter.get(\\\\\"region\\\\\")\""
      },
      "volume_id": {
       "constant": false,
       "value": "\"iter.get(\\\\\"volume_id\\\\\")\""
      }
     }
    ],
    "inputschema": [
     {
      "properties": {
       "region": {
        "description": "AWS Region.",
        "title": "Region",
        "type": "string"
       },
       "volume_id": {
        "description": "EBS Volume ID.",
        "title": "Volume ID",
        "type": "string"
       }
      },
      "required": [
       "region",
       "volume_id"
      ],
      "title": "aws_modify_ebs_volume_to_gp3",
      "type": "object"
     }
    ],
    "isUnskript": false,
    "iterData": [
     {
      "iter_enabled": true,
      "iter_item": {
       "region": "region",
       "volume_id": "volume_id"
      },
      "iter_list": {
       "constant": false,
       "objectItems": true,
       "value": "all_non_gp3_volumes"
      }
     }
    ],
    "jupyter": {
     "source_hidden": true
    },
    "legotype": "LEGO_TYPE_AWS",
    "name": "AWS Modify EBS Volume to GP3",
    "nouns": [],
    "orderProperties": [
     "region",
     "volume_id"
    ],
    "output": {
     "type": ""
    },
    "outputParams": {
     "output_name": "modified_volumes",
     "output_name_enabled": true,
     "output_runbook_enabled": false,
     "output_runbook_name": ""
    },
    "printOutput": true,
    "startcondition": "len(all_non_gp3_volumes)!=0",
    "tags": [
     "aws_modify_ebs_volume_to_gp3"
    ],
    "title": "AWS Modify EBS Volume to GP3",
    "verbs": [],
    "credentialsJson": {}
   },
   "outputs": [],
   "source": [
    "##\n",
    "##  Copyright (c) 2021 unSkript, Inc\n",
    "##  All rights reserved.\n",
    "##\n",
    "from pydantic import BaseModel, Field\n",
    "from typing import List\n",
    "import pprint\n",
    "\n",
    "\n",
    "from beartype import beartype\n",
    "@beartype\n",
    "def aws_modify_ebs_volume_to_gp3_printer(output):\n",
    "    if output is None:\n",
    "        return\n",
    "    pprint.pprint(output)\n",
    "\n",
    "\n",
    "@beartype\n",
    "def aws_modify_ebs_volume_to_gp3(handle, region: str, volume_id: str) -> List:\n",
    "    \"\"\"aws_modify_ebs_volume_to_gp3 returns an array of modified details for EBS volumes.\n",
    "\n",
    "        :type region: string\n",
    "        :param region: Used to filter the volume for specific region.\n",
    "\n",
    "        :type volume_id: string\n",
    "        :param volume_id: EBS Volume ID.\n",
    "\n",
    "        :rtype: List of modified details for EBS volumes\n",
    "    \"\"\"\n",
    "    result = []\n",
    "    try:\n",
    "        ec2Client = handle.client('ec2', region_name=region)\n",
    "        volumes = ec2Client.modify_volume(VolumeId=volume_id, VolumeType='gp3')\n",
    "        result.append(volumes)\n",
    "    except Exception as e:\n",
    "        result.append({\"error\": e})\n",
    "\n",
    "    return result\n",
    "\n",
    "\n",
    "task = Task(Workflow())\n",
    "task.configure(continueOnError=True)\n",
    "task.configure(inputParamsJson='''{\n",
    "    \"region\": \"iter.get(\\\\\"region\\\\\")\",\n",
    "    \"volume_id\": \"iter.get(\\\\\"volume_id\\\\\")\"\n",
    "    }''')\n",
    "task.configure(iterJson='''{\n",
    "    \"iter_enabled\": true,\n",
    "    \"iter_list_is_const\": false,\n",
    "    \"iter_list\": \"all_non_gp3_volumes\",\n",
    "    \"iter_parameter\": [\"region\",\"volume_id\"]\n",
    "    }''')\n",
    "task.configure(conditionsJson='''{\n",
    "    \"condition_enabled\": true,\n",
    "    \"condition_cfg\": \"len(all_non_gp3_volumes)!=0\",\n",
    "    \"condition_result\": true\n",
    "    }''')\n",
    "task.configure(outputName=\"modified_volumes\")\n",
    "\n",
    "task.configure(printOutput=True)\n",
    "(err, hdl, args) = task.validate(vars=vars())\n",
    "if err is None:\n",
    "    task.execute(aws_modify_ebs_volume_to_gp3, lego_printer=aws_modify_ebs_volume_to_gp3_printer, hdl=hdl, args=args)"
   ]
  },
  {
   "cell_type": "markdown",
   "id": "05396b66-dec6-4132-ac6c-49d5deefa68b",
   "metadata": {
    "jupyter": {
     "source_hidden": false
    },
    "name": "Conclusion",
    "orderProperties": [],
    "tags": [],
    "title": "Conclusion"
   },
   "source": [
    "<h3 id=\"Conclusion\">Conclusion<a class=\"jp-InternalAnchorLink\" href=\"#Conclusion\" target=\"_self\">&para;</a></h3>\n",
    "<p>In this Runbook, we were able to change the type of those EBS volumes that weren't type GP3 to type GP3 by using unSkript's AWS actions. To view the full platform capabilities of unSkript please visit <a href=\"https://us.app.unskript.io\" target=\"_blank\" rel=\"noopener\">us.app.unskript.io</a></p>"
   ]
  }
 ],
 "metadata": {
  "execution_data": {
   "runbook_name": "Change AWS EBS Volume To GP3 Type",
   "parameters": [
    "ebs_volume_ids",
    "ebs_volume_type",
    "region"
   ]
  },
  "kernelspec": {
   "display_name": "Python 3.10.6 64-bit",
   "language": "python",
   "name": "python3"
  },
  "language_info": {
   "file_extension": ".py",
   "mimetype": "text/x-python",
   "name": "python",
   "pygments_lexer": "ipython3",
   "version": "3.10.6"
  },
  "outputParameterSchema": {
   "properties": {},
   "required": [],
   "title": "Schema",
   "type": "object"
  },
  "parameterSchema": {
   "properties": {
    "ebs_volume_ids": {
     "description": "List of EBS volume ID's ",
     "title": "ebs_volume_ids",
     "type": "array"
    },
    "ebs_volume_type": {
     "description": "EBS volume Type. Eg: \"gp2\"",
     "title": "ebs_volume_type",
     "type": "string"
    },
    "region": {
     "description": "AWS Region(s) to get EBS volumes. Eg: [\"us-west-2\",\"us-east-1\"]",
     "title": "region",
     "type": "array"
    }
   },
   "required": [],
   "title": "Schema",
   "type": "object"
  },
  "parameterValues": null,
  "vscode": {
   "interpreter": {
    "hash": "b0fa6594d8f4cbf19f97940f81e996739fb7646882a419484c72d19e05852a7e"
   }
  }
 },
 "nbformat": 4,
 "nbformat_minor": 5
}