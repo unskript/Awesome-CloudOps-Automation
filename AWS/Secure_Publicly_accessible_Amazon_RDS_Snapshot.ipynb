{
 "cells": [
  {
   "cell_type": "markdown",
   "id": "9bdb4ffc-b726-49e9-95b8-063371b3fa61",
   "metadata": {
    "jupyter": {
     "source_hidden": false
    },
    "name": "Steps Overview",
    "orderProperties": [],
    "tags": [],
    "title": "Steps Overview"
   },
   "source": [
    "<center><img src=\"https://storage.googleapis.com/unskript-website/assets/favicon.png\" alt=\"unSkript.com\" width=\"100\" height=\"100\">\n",
    "<h1 id=\"unSkript-Runbooks\">unSkript Runbooks</h1>\n",
    "<div class=\"alert alert-block alert-success\">\n",
    "<h3 id=\"Objective\">Objective</h3>\n",
    "<br><strong style=\"color: #000000;\"><em>Change publicly accessible of RDS DB Snapshots to private</em></strong></div>\n",
    "</center>\n",
    "<p>&nbsp;</p>\n",
    "<center>\n",
    "<h2 id=\"Secure-Publicly-accessible-Amazon-RDS-Snapshot\"><u>Secure Publicly accessible Amazon RDS Snapshot</u></h2>\n",
    "</center>\n",
    "<h1 id=\"Steps-Overview\">Steps Overview</h1>\n",
    "<p><br>1)<a href=\"#2\" target=\"_self\" rel=\"noopener\"> Get publicly accessible DB snapshots</a><br>2)<a href=\"#2\" target=\"_self\" rel=\"noopener\"> Change the public access to private</a></p>"
   ]
  },
  {
   "cell_type": "markdown",
   "id": "39e70a57-5e1f-4e07-9c64-8cb5efd57afa",
   "metadata": {
    "jupyter": {
     "source_hidden": false
    },
    "name": "Step 1A",
    "orderProperties": [],
    "tags": [],
    "title": "Step 1A"
   },
   "source": [
    "<h3 id=\"List-all-AWS-Regions\">List all AWS Regions</h3>\n",
    "<p>This action fetches all AWS Regions to execute Step 1\ud83d\udc47. This action will only execute if no <code>region</code> is provided.</p>\n",
    "<blockquote>\n",
    "<p>This action takes the following parameters: <code>None</code></p>\n",
    "</blockquote>\n",
    "<blockquote>\n",
    "<p>This action captures the following ouput: <code>region</code></p>\n",
    "</blockquote>"
   ]
  },
  {
   "cell_type": "code",
   "execution_count": 3,
   "id": "0b212df8-f7fc-4ee7-bcd0-853763e6fdba",
   "metadata": {
    "accessType": "ACCESS_TYPE_UNSPECIFIED",
    "actionBashCommand": false,
    "actionNeedsCredential": true,
    "actionRequiredLinesInCode": [],
    "actionSupportsIteration": true,
    "actionSupportsPoll": true,
    "action_modified": false,
    "action_uuid": "708ea4af5f8fe7096a15b3a52c4a657606bab9e177386fad7a847341ed607d64",
    "condition_enabled": true,
    "createTime": "1970-01-01T00:00:00Z",
    "currentVersion": "0.1.0",
    "description": "List all available AWS Regions",
    "execution_data": {
     "last_date_success_run_cell": "2023-02-02T16:12:45.549Z"
    },
    "id": 215,
    "index": 215,
    "inputschema": [
     {
      "properties": {},
      "title": "aws_list_all_regions",
      "type": "object"
     }
    ],
    "jupyter": {
     "source_hidden": true
    },
    "legotype": "LEGO_TYPE_AWS",
    "name": "AWS List All Regions",
    "nouns": [
     "regions",
     "aws"
    ],
    "orderProperties": [],
    "output": {
     "type": ""
    },
    "outputParams": {
     "output_name": "region",
     "output_name_enabled": true
    },
    "printOutput": true,
    "startcondition": "not region",
    "tags": [
     "aws_list_all_regions"
    ],
    "trusted": true,
    "verbs": [
     "list"
    ],
    "credentialsJson": {}
   },
   "outputs": [],
   "source": [
    "#\n",
    "# Copyright (c) 2021 unSkript.com\n",
    "# All rights reserved.\n",
    "#\n",
    "\n",
    "from pydantic import BaseModel, Field\n",
    "from typing import Dict, List\n",
    "import pprint\n",
    "\n",
    "from beartype import beartype\n",
    "@beartype\n",
    "def aws_list_all_regions_printer(output):\n",
    "    if output is None:\n",
    "        return\n",
    "    pprint.pprint(output)\n",
    "\n",
    "\n",
    "@beartype\n",
    "def aws_list_all_regions(handle) -> List:\n",
    "    \"\"\"aws_list_all_regions lists all the AWS regions\n",
    "\n",
    "        :type handle: object\n",
    "        :param handle: Object returned from Task Validate\n",
    "\n",
    "        :rtype: Result List of result\n",
    "    \"\"\"\n",
    "\n",
    "    result = handle.aws_cli_command(\"aws ec2 describe-regions --all-regions --query 'Regions[].{Name:RegionName}' --output text\")\n",
    "    if result is None or result.returncode != 0:\n",
    "        print(\"Error while executing command : {}\".format(result))\n",
    "        return str()\n",
    "    result_op = list(result.stdout.split(\"\\n\"))\n",
    "    list_region = [x for x in result_op if x != '']\n",
    "    return list_region\n",
    "\n",
    "\n",
    "task = Task(Workflow())\n",
    "task.configure(conditionsJson='''{\n",
    "    \"condition_enabled\": true,\n",
    "    \"condition_cfg\": \"not region\",\n",
    "    \"condition_result\": true\n",
    "    }''')\n",
    "task.configure(outputName=\"region\")\n",
    "task.configure(printOutput=True)\n",
    "(err, hdl, args) = task.validate(vars=vars())\n",
    "if err is None:\n",
    "    task.execute(aws_list_all_regions, lego_printer=aws_list_all_regions_printer, hdl=hdl, args=args)"
   ]
  },
  {
   "cell_type": "markdown",
   "id": "af87220a-b782-4b7e-b581-95677550cbc9",
   "metadata": {
    "jupyter": {
     "source_hidden": false
    },
    "name": "Step 1",
    "orderProperties": [],
    "tags": [],
    "title": "Step 1"
   },
   "source": [
    "<h3 id=\"Get-publicly-accessible-DB-snapshots\"><a id=\"2\" target=\"_self\" rel=\"nofollow\"></a>Get publicly accessible DB snapshots</h3>\n",
    "<p>Using unSkript's Get Publicly Accessible DB Snapshots in RDS action we will fetch all the publicly accessible snapshots from the list of manual DB snapshots.</p>\n",
    "<blockquote>\n",
    "<p>This action takes the following parameters: <code>region(Optional)</code></p>\n",
    "</blockquote>\n",
    "<blockquote>\n",
    "<p>This action captures the following output: <code>all_snapshots</code></p>\n",
    "</blockquote>"
   ]
  },
  {
   "cell_type": "code",
   "execution_count": 4,
   "id": "25d80b37-dba2-49cc-ab97-6d611cb0481e",
   "metadata": {
    "accessType": "ACCESS_TYPE_UNSPECIFIED",
    "actionBashCommand": false,
    "actionNeedsCredential": true,
    "actionRequiredLinesInCode": [],
    "actionSupportsIteration": true,
    "actionSupportsPoll": true,
    "action_modified": false,
    "action_uuid": "e665224418391a4deafae48140c5b83c8af7b881dd281acbd79ed9ceb52aad4f",
    "continueOnError": true,
    "createTime": "1970-01-01T00:00:00Z",
    "currentVersion": "0.1.0",
    "description": "AWS Get Publicly Accessible DB Snapshots in RDS",
    "execution_data": {
     "last_date_success_run_cell": "2023-02-02T16:13:09.984Z"
    },
    "id": 286,
    "index": 286,
    "inputData": [
     {
      "region": {
       "constant": false,
       "value": "iter_item"
      }
     }
    ],
    "inputschema": [
     {
      "properties": {
       "region": {
        "default": "",
        "description": "Region of the RDS",
        "title": "Region",
        "type": "string"
       }
      },
      "title": "aws_get_publicly_accessible_db_snapshots",
      "type": "object"
     }
    ],
    "iterData": [
     {
      "iter_enabled": true,
      "iter_item": "region",
      "iter_list": {
       "constant": false,
       "objectItems": false,
       "value": "region"
      }
     }
    ],
    "jupyter": {
     "source_hidden": true
    },
    "legotype": "LEGO_TYPE_AWS",
    "name": "AWS Get Publicly Accessible DB Snapshots in RDS",
    "nouns": [
     "aws",
     "database",
     "snapshots",
     "public",
     "accessible"
    ],
    "orderProperties": [
     "region"
    ],
    "output": {
     "type": ""
    },
    "outputParams": {
     "output_name": "publicly_accessible_snapshots",
     "output_name_enabled": true
    },
    "printOutput": true,
    "tags": [
     "aws_get_publicly_accessible_db_snapshots"
    ],
    "trusted": true,
    "verbs": [
     "get"
    ],
    "credentialsJson": {}
   },
   "outputs": [],
   "source": [
    "##  Copyright (c) 2021 unSkript, Inc\n",
    "##  All rights reserved.\n",
    "##\n",
    "from typing import List, Dict, Optional, Tuple\n",
    "from pydantic import BaseModel, Field\n",
    "from unskript.legos.utils import CheckOutput, CheckOutputStatus\n",
    "from unskript.legos.aws.aws_list_all_regions.aws_list_all_regions import aws_list_all_regions\n",
    "from unskript.legos.aws.aws_filter_all_manual_database_snapshots.aws_filter_all_manual_database_snapshots import aws_get_manual_database_snapshots\n",
    "import pprint\n",
    "\n",
    "\n",
    "from beartype import beartype\n",
    "@beartype\n",
    "def aws_get_publicly_accessible_db_snapshots_printer(output):\n",
    "    if output is None:\n",
    "        return\n",
    "    if isinstance(output, CheckOutput):\n",
    "        print(output.json())\n",
    "    else:\n",
    "        pprint.pprint(output)\n",
    "\n",
    "\n",
    "@beartype\n",
    "def aws_get_publicly_accessible_db_snapshots(handle, region: str=None) -> CheckOutput:\n",
    "    \"\"\"aws_get_publicly_accessible_db_snapshots lists of publicly accessible db_snapshot_identifier.\n",
    "\n",
    "        :type handle: object\n",
    "        :param handle: Object returned from task.validate(...).\n",
    "\n",
    "        :type region: string\n",
    "        :param region: Region of the RDS.\n",
    "\n",
    "        :rtype: Object with status, result having publicly accessible Snapshots Identifier in RDS, error\n",
    "    \"\"\"\n",
    "    manual_snapshots_list=[]\n",
    "    result=[]\n",
    "    all_regions = [region]\n",
    "    if region is None or not region:\n",
    "        all_regions = aws_list_all_regions(handle=handle)\n",
    "    try:\n",
    "        for r in all_regions:\n",
    "            snapshots_dict = {}\n",
    "            output = aws_get_manual_database_snapshots(handle=handle, region=r)\n",
    "            snapshots_dict[\"region\"]=r\n",
    "            snapshots_dict[\"snapshot\"]=output\n",
    "            manual_snapshots_list.append(snapshots_dict)\n",
    "    except Exception as error:\n",
    "        return CheckOutput(status=CheckOutputStatus.RUN_EXCEPTION,\n",
    "                           objects=[],\n",
    "                           error=error.__str__())\n",
    "    for all_snapshots in manual_snapshots_list:\n",
    "        try:\n",
    "            ec2Client = handle.client('rds', region_name=all_snapshots['region'])\n",
    "            for each_snapshot in all_snapshots['snapshot']:\n",
    "                response = ec2Client.describe_db_snapshot_attributes(DBSnapshotIdentifier=each_snapshot)\n",
    "                db_attribute = response[\"DBSnapshotAttributesResult\"]\n",
    "                for value in db_attribute['DBSnapshotAttributes']:\n",
    "                    p_dict={}\n",
    "                    if \"all\" in value[\"AttributeValues\"]:\n",
    "                        p_dict[\"region\"] = all_snapshots['region']\n",
    "                        p_dict[\"open_snapshot\"] = db_attribute['DBSnapshotIdentifier']\n",
    "                        result = [*result, p_dict]\n",
    "        except Exception as e:\n",
    "            pass\n",
    "    if len(result)!=0:\n",
    "        return CheckOutput(status=CheckOutputStatus.FAILED,\n",
    "                   objects=result,\n",
    "                   error=str(\"\"))\n",
    "    else:\n",
    "        return CheckOutput(status=CheckOutputStatus.SUCCESS,\n",
    "                   objects=result,\n",
    "                   error=str(\"\"))\n",
    "\n",
    "\n",
    "task = Task(Workflow())\n",
    "task.configure(continueOnError=True)\n",
    "task.configure(outputName=\"publicly_accessible_snapshots\")\n",
    "task.configure(inputParamsJson='''{\n",
    "    \"region\": \"iter_item\"\n",
    "    }''')\n",
    "task.configure(iterJson='''{\n",
    "    \"iter_enabled\": true,\n",
    "    \"iter_list_is_const\": false,\n",
    "    \"iter_list\": \"region\",\n",
    "    \"iter_parameter\": \"region\"\n",
    "    }''')\n",
    "task.configure(printOutput=True)\n",
    "(err, hdl, args) = task.validate(vars=vars())\n",
    "if err is None:\n",
    "    task.execute(aws_get_publicly_accessible_db_snapshots, lego_printer=aws_get_publicly_accessible_db_snapshots_printer, hdl=hdl, args=args)"
   ]
  },
  {
   "cell_type": "markdown",
   "id": "0867d634-3d7c-473e-b5fe-06f042452c63",
   "metadata": {
    "jupyter": {
     "source_hidden": false
    },
    "name": "Step 2A",
    "orderProperties": [],
    "tags": [],
    "title": "Step 2A"
   },
   "source": [
    "<h3 id=\"Create-List-of-Public-DB-Snapshots\">Create List of Public DB Snapshots</h3>\n",
    "<p>This action filters regions that have no manual DB snapshots and creates a list those that have</p>\n",
    "<blockquote>\n",
    "<p>This action takes the following parameters: <code>None</code></p>\n",
    "</blockquote>\n",
    "<blockquote>\n",
    "<p>This action captures the following output:&nbsp;<code>all_public_snapshots</code></p>\n",
    "</blockquote>"
   ]
  },
  {
   "cell_type": "code",
   "execution_count": 5,
   "id": "87b57cf2-3eeb-45e6-9eb5-e7106692ea61",
   "metadata": {
    "customAction": true,
    "execution_data": {
     "last_date_success_run_cell": "2023-02-02T16:13:22.904Z"
    },
    "jupyter": {
     "source_hidden": true
    },
    "name": "Create List of Public DB Snapshots",
    "orderProperties": [],
    "tags": [],
    "title": "Create List of Public DB Snapshots",
    "trusted": true,
    "credentialsJson": {}
   },
   "outputs": [],
   "source": [
    "all_public_snapshots = []\n",
    "dummy = []\n",
    "for k,v in publicly_accessible_snapshots.items():\n",
    "    if v.status==CheckOutputStatus.FAILED:\n",
    "        if len(v.objects)!=0:\n",
    "            dummy = v.objects\n",
    "            for x in dummy:\n",
    "                all_public_snapshots.append(x)\n",
    "print(all_public_snapshots)\n",
    "task.configure(outputName=\"all_public_snapshots\")"
   ]
  },
  {
   "cell_type": "markdown",
   "id": "93579475-9902-4be4-b9de-fd6fadbc2710",
   "metadata": {
    "jupyter": {
     "source_hidden": false
    },
    "name": "Step 2",
    "orderProperties": [],
    "tags": [],
    "title": "Step 2"
   },
   "source": [
    "<h3 id=\"Change-the-public-access-to-private\">Change the public access to private</h3>\n",
    "<p>Using unSkript's Modify Publicly Accessible RDS Snapshots action we will modify the access to all the publicly accessible snapshots from the <em>public</em> to <em>private</em>.</p>\n",
    "<blockquote>\n",
    "<p>This action takes the following parameters: <code>region</code>, <code>db_snapshot_identifier</code></p>\n",
    "</blockquote>"
   ]
  },
  {
   "cell_type": "code",
   "execution_count": 6,
   "id": "2e58c74d-fd35-429c-b787-0be39f56d0b5",
   "metadata": {
    "accessType": "ACCESS_TYPE_UNSPECIFIED",
    "actionBashCommand": false,
    "actionNeedsCredential": true,
    "actionRequiredLinesInCode": [],
    "actionSupportsIteration": true,
    "actionSupportsPoll": true,
    "action_modified": false,
    "action_uuid": "1a325ba527fbf504000b5d5961f4ef6366daed4a50951e657bfff87eedad52df",
    "continueOnError": true,
    "createTime": "1970-01-01T00:00:00Z",
    "currentVersion": "0.1.0",
    "description": "AWS Modify Publicly Accessible RDS Snapshots",
    "execution_data": {
     "last_date_success_run_cell": "2023-01-30T18:04:38.167Z"
    },
    "id": 239,
    "index": 239,
    "inputData": [
     {
      "db_snapshot_identifier": {
       "constant": false,
       "value": "\"iter.get(\\\\\"open_snapshot\\\\\")\""
      },
      "region": {
       "constant": false,
       "value": "\"iter.get(\\\\\"region\\\\\")\""
      }
     }
    ],
    "inputschema": [
     {
      "properties": {
       "db_snapshot_identifier": {
        "description": "DB Snapshot Idntifier of RDS.",
        "title": "DB Snapshot Idntifier",
        "type": "string"
       },
       "region": {
        "description": "Region of the RDS.",
        "title": "Region",
        "type": "string"
       }
      },
      "required": [
       "db_snapshot_identifier",
       "region"
      ],
      "title": "aws_modify_public_db_snapshots",
      "type": "object"
     }
    ],
    "iterData": [
     {
      "iter_enabled": true,
      "iter_item": {
       "db_snapshot_identifier": "open_snapshot",
       "region": "region"
      },
      "iter_list": {
       "constant": false,
       "objectItems": true,
       "value": "all_public_snapshots"
      }
     }
    ],
    "jupyter": {
     "source_hidden": true
    },
    "legotype": "LEGO_TYPE_AWS",
    "name": "AWS Modify Publicly Accessible RDS Snapshots",
    "nouns": [],
    "orderProperties": [
     "db_snapshot_identifier",
     "region"
    ],
    "output": {
     "type": ""
    },
    "printOutput": true,
    "tags": [
     "aws_modify_public_db_snapshots"
    ],
    "verbs": [],
    "credentialsJson": {}
   },
   "outputs": [],
   "source": [
    "##  Copyright (c) 2021 unSkript, Inc\n",
    "##  All rights reserved.\n",
    "##\n",
    "from typing import List, Dict\n",
    "from pydantic import BaseModel, Field\n",
    "import pprint\n",
    "\n",
    "from beartype import beartype\n",
    "@beartype\n",
    "def aws_modify_public_db_snapshots_printer(output):\n",
    "    if output is None:\n",
    "        return\n",
    "    pprint.pprint(output)\n",
    "\n",
    "\n",
    "@beartype\n",
    "def aws_modify_public_db_snapshots(handle, db_snapshot_identifier: str, region: str) -> List:\n",
    "    \"\"\"aws_modify_public_db_snapshots lists of publicly accessible DB Snapshot Idntifier Info.\n",
    "\n",
    "        :type handle: object\n",
    "        :param handle: Object returned from task.validate(...).\n",
    "\n",
    "        :type db_snapshot_identifier: string\n",
    "        :param db_snapshot_identifier: DB Snapshot Idntifier of RDS.\n",
    "\n",
    "        :type region: string\n",
    "        :param region: Region of the RDS.\n",
    "\n",
    "        :rtype: List with Dict of DB Snapshot Idntifier Info.\n",
    "    \"\"\"\n",
    "\n",
    "\n",
    "    ec2Client = handle.client('rds', region_name=region)\n",
    "    result = []\n",
    "    try:\n",
    "        response = ec2Client.modify_db_snapshot_attribute(\n",
    "            DBSnapshotIdentifier=db_snapshot_identifier,\n",
    "            AttributeName='restore',\n",
    "            ValuesToRemove=['all'])\n",
    "\n",
    "        result.append(response)\n",
    "\n",
    "    except Exception as error:\n",
    "        result.append(error)\n",
    "\n",
    "    return result\n",
    "\n",
    "\n",
    "task = Task(Workflow())\n",
    "task.configure(continueOnError=True)\n",
    "task.configure(inputParamsJson='''{\n",
    "    \"region\": \"iter.get(\\\\\"region\\\\\")\",\n",
    "    \"db_snapshot_identifier\": \"iter.get(\\\\\"open_snapshot\\\\\")\"\n",
    "    }''')\n",
    "task.configure(iterJson='''{\n",
    "    \"iter_enabled\": true,\n",
    "    \"iter_list_is_const\": false,\n",
    "    \"iter_list\": \"all_public_snapshots\",\n",
    "    \"iter_parameter\": [\"region\",\"db_snapshot_identifier\"]\n",
    "    }''')\n",
    "task.configure(printOutput=True)\n",
    "(err, hdl, args) = task.validate(vars=vars())\n",
    "if err is None:\n",
    "    task.execute(aws_modify_public_db_snapshots, lego_printer=aws_modify_public_db_snapshots_printer, hdl=hdl, args=args)"
   ]
  },
  {
   "cell_type": "markdown",
   "id": "faee311b-d041-46f6-8734-396ccba4e664",
   "metadata": {
    "jupyter": {
     "source_hidden": false
    },
    "name": "Conclusion",
    "orderProperties": [],
    "tags": [],
    "title": "Conclusion"
   },
   "source": [
    "<h3 id=\"Conclusion\">Conclusion</h3>\n",
    "<p>In this Runbook, we were able to secure all the publicly accessible AWS RDS DB Snapshots by using unSkript's AWS actions. To view the full platform capabilities of unSkript please visit <a href=\"https://us.app.unskript.io\" target=\"_blank\" rel=\"noopener\">us.app.unskript.io</a></p>"
   ]
  }
 ],
 "metadata": {
  "execution_data": {
   "runbook_name": "Secure Publicly accessible Amazon RDS Snapshot",
   "parameters": [
    "region"
   ]
  },
  "kernelspec": {
   "display_name": "Python 3.10.6 64-bit",
   "language": "python",
   "name": "python3"
  },
  "language_info": {
   "file_extension": ".py",
   "mimetype": "text/x-python",
   "name": "python",
   "pygments_lexer": "ipython3",
   "version": "3.10.6"
  },
  "parameterSchema": {
   "properties": {
    "region": {
     "description": "AWS Region(s) to get publicly accessible RDS Db Snapshots. Eg: [\"us-west-2\",\"us-east-1\"]",
     "title": "region",
     "type": "array"
    }
   },
   "required": [],
   "title": "Schema",
   "type": "object"
  },
  "parameterValues": null,
  "vscode": {
   "interpreter": {
    "hash": "b0fa6594d8f4cbf19f97940f81e996739fb7646882a419484c72d19e05852a7e"
   }
  }
 },
 "nbformat": 4,
 "nbformat_minor": 5
}