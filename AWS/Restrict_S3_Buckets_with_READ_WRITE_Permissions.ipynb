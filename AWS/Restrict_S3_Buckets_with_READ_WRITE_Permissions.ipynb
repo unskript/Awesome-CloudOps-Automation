{
    "cells": [
        {
            "cell_type": "markdown",
            "id": "4b0b59f0-ebc6-443c-aca3-827ddaf3c349",
            "metadata": {
                "jupyter": {
                    "source_hidden": false
                },
                "name": "Restrict S3 Buckets with READ/WRITE Permissions",
                "orderProperties": [],
                "tags": [],
                "title": "Restrict S3 Buckets with READ/WRITE Permissions"
            },
            "source": [
                "<img src=\"https://unskript.com/assets/favicon.png\" alt=\"unSkript.com\" width=\"100\" height=\"100\"/> \n",
                "<h1> unSkript Runbooks </h1>\n",
                "<div class=\"alert alert-block alert-success\">\n",
                "    <b> This runbook demonstrates Restrict S3 Buckets with READ/WRITE Permissions using unSkript legos.</b>\n",
                "</div>\n",
                "\n",
                "<br>\n",
                "\n",
                "<center><h2>Restrict S3 Buckets with READ/WRITE Permissions to all Authenticated Users </h2></center>\n",
                "\n",
                "# Steps Overview\n",
                " 1) List all the S3 buckets.\n",
                " 2) Filter buckets which has ACL public READ/WRITE permissions.\n",
                " 3) Change the ACL Public READ/WRITE permissions to private.\n",
                "     "
            ]
        },
        {
            "cell_type": "markdown",
            "id": "4c1483ea-56bf-4fc0-ae64-825c5d50a238",
            "metadata": {
                "jupyter": {
                    "source_hidden": false
                },
                "name": "List of S3 Buckets",
                "orderProperties": [],
                "tags": [],
                "title": "List of S3 Buckets"
            },
            "source": [
                "Here we will use unSkript List of S3 Buckets Lego. This lego takes region: str as input. This input is used to list all the S3 buckets available."
            ]
        },
        {
            "cell_type": "code",
            "execution_count": 11,
            "id": "fb3f8fda-44f0-4549-b9c2-edbd725df10f",
            "metadata": {
                "accessType": "ACCESS_TYPE_UNSPECIFIED",
                "actionBashCommand": false,
                "actionNeedsCredential": true,
                "actionRequiredLinesInCode": [],
                "actionSupportsIteration": true,
                "actionSupportsPoll": true,
                "action_uuid": "eb57da3b21aec38d005bf0355a48ba53937c7ac62f98e9c968c9501412d72008",
                "continueOnError": false,
                "createTime": "1970-01-01T00:00:00Z",
                "credentialsJson": {},
                "currentVersion": "0.1.0",
                "description": "Apply a New AWS Policy for S3 Bucket",
                "execution_data": {
                    "last_date_success_run_cell": "2022-09-29T13:13:17.290Z"
                },
                "id": 135,
                "index": 135,
                "inputData": [
                    {
                        "region": {
                            "constant": false,
                            "value": "Region"
                        }
                    }
                ],
                "inputschema": [
                    {
                        "properties": {
                            "region": {
                                "default": "",
                                "description": "AWS region of the bucket.",
                                "title": "Region",
                                "type": "string"
                            }
                        },
                        "required": [
                            "name",
                            "policy",
                            "region"
                        ],
                        "title": "aws_put_bucket_policy",
                        "type": "object"
                    }
                ],
                "jupyter": {
                    "source_hidden": true
                },
                "legotype": "LEGO_TYPE_AWS",
                "name": "List  of S3 Buckets",
                "nouns": [
                    "aws",
                    "policy",
                    "bucket"
                ],
                "orderProperties": [
                    "region"
                ],
                "output": {
                    "type": ""
                },
                "outputParams": {
                    "output_name": "bucketlist",
                    "output_name_enabled": true
                },
                "tags": [
                    "aws_put_bucket_policy"
                ],
                "title": "List  of S3 Buckets",
                "trusted": true,
                "verbs": [
                    "apply"
                ]
            },
            "outputs": [],
            "source": [
                "##\n",
                "##  Copyright (c) 2021 unSkript, Inc\n",
                "##  All rights reserved.\n",
                "##\n",
                "from pydantic import BaseModel, Field\n",
                "from typing import List\n",
                "import pprint\n",
                "\n",
                "\n",
                "from beartype import beartype\n",
                "@beartype\n",
                "def aws_get_s3_buckets_printer(output):\n",
                "    if output is None:\n",
                "        return\n",
                "    pprint.pprint(output)\n",
                "\n",
                "\n",
                "@beartype\n",
                "def aws_get_s3_buckets(handle, region: str) -> List:\n",
                "    \"\"\"aws_get_s3_buckets List all the S3 buckets.\n",
                "\n",
                "          :type region: string\n",
                "          :param region: location of the bucket\n",
                "\n",
                "          :rtype: List all the S3 buckets\n",
                "      \"\"\"\n",
                "    s3Session = handle.resource(\"s3\", region_name=region)\n",
                "    response = s3Session.buckets.all()\n",
                "    result = []\n",
                "    for bucket in response:\n",
                "        result.append(bucket.name)\n",
                "    return result\n",
                "\n",
                "\n",
                "\n",
                "task = Task(Workflow())\n",
                "task.configure(inputParamsJson='''{\n",
                "    \"region\": \"Region\"\n",
                "    }''')\n",
                "task.configure(outputName=\"bucketlist\")\n",
                "\n",
                "(err, hdl, args) = task.validate(vars=vars())\n",
                "if err is None:\n",
                "    task.execute(aws_get_s3_buckets, lego_printer=aws_get_s3_buckets_printer, hdl=hdl, args=args)"
            ]
        },
        {
            "cell_type": "markdown",
            "id": "03b9d095-02ab-4149-b963-eca1fce9b3d6",
            "metadata": {
                "jupyter": {
                    "source_hidden": false
                },
                "name": "Get Public S3 Bucket List",
                "orderProperties": [],
                "tags": [],
                "title": "Get Public S3 Bucket List"
            },
            "source": [
                "Here we will use unSkript Get Public S3 Bucket List Lego. This lego takes Bucket_List: list, Permission: str, region: str as input. Thi inputs is used to list S3 buckets which has public ACL permissions."
            ]
        },
        {
            "cell_type": "code",
            "execution_count": 18,
            "id": "91794857-60c2-4ac5-b3f9-cebf65e6b8a3",
            "metadata": {
                "accessType": "ACCESS_TYPE_UNSPECIFIED",
                "actionBashCommand": false,
                "actionNeedsCredential": true,
                "actionRequiredLinesInCode": [],
                "actionSupportsIteration": true,
                "actionSupportsPoll": true,
                "action_uuid": "db69445f5c9c2578e76beafe10607e2ebe8c7b7857c4d2ffdd82d1377b353f19",
                "continueOnError": false,
                "createTime": "1970-01-01T00:00:00Z",
                "credentialsJson": {},
                "currentVersion": "0.1.0",
                "description": " Apply CORS Policy for S3 Bucket",
                "execution_data": {
                    "last_date_success_run_cell": "2022-09-29T13:16:52.973Z"
                },
                "id": 162,
                "index": 162,
                "inputData": [
                    {
                        "Bucket_List": {
                            "constant": false,
                            "value": "bucketlist"
                        },
                        "Permission": {
                            "constant": false,
                            "value": "Permission"
                        },
                        "region": {
                            "constant": false,
                            "value": "Region"
                        }
                    }
                ],
                "inputschema": [
                    {
                        "properties": {
                            "Bucket_List": {
                                "default": "",
                                "description": "Bucket List",
                                "title": "Bucket_List",
                                "type": "array"
                            },
                            "Permission": {
                                "default": "",
                                "description": "Permission",
                                "title": "Permission",
                                "type": "string"
                            },
                            "region": {
                                "default": "",
                                "description": "AWS region of the bucket.",
                                "title": "Region",
                                "type": "string"
                            }
                        },
                        "required": [
                            "name",
                            "corsRules",
                            "region"
                        ],
                        "title": "aws_put_bucket_cors",
                        "type": "object"
                    }
                ],
                "jupyter": {
                    "source_hidden": true
                },
                "legotype": "LEGO_TYPE_AWS",
                "name": "Get Public S3 Bucket List",
                "nouns": [
                    "cors",
                    "policy",
                    "bucket"
                ],
                "orderProperties": [
                    "region",
                    "Bucket_List",
                    "Permission"
                ],
                "output": {
                    "type": ""
                },
                "outputParams": {
                    "output_name": "PublicBucket",
                    "output_name_enabled": true
                },
                "tags": [
                    "aws_put_bucket_cors"
                ],
                "title": "Get Public S3 Bucket List",
                "trusted": true,
                "verbs": [
                    "apply"
                ]
            },
            "outputs": [],
            "source": [
                "##\n",
                "##  Copyright (c) 2021 unSkript, Inc\n",
                "##  All rights reserved.\n",
                "##\n",
                "from pydantic import BaseModel, Field\n",
                "from typing import List\n",
                "import pprint\n",
                "\n",
                "\n",
                "from beartype import beartype\n",
                "@beartype\n",
                "def aws_get_public_s3_buckets_printer(output):\n",
                "    if output is None:\n",
                "        return\n",
                "    pprint.pprint(output)\n",
                "\n",
                "\n",
                "@beartype\n",
                "def aws_get_public_s3_buckets(handle, Bucket_List: list, Permission: str, region: str) -> List:\n",
                "    \"\"\"aws_get_public_s3_buckets get list of public buckets.\n",
                "\n",
                "          :type Bucket_List: list\n",
                "          :param Bucket_List: list of S3 buckets.\n",
                "\n",
                "          :type region: string\n",
                "          :param region: location of the bucket.\n",
                "\n",
                "          :rtype: Dict with the response info.\n",
                "      \"\"\"\n",
                "\n",
                "    s3Client = handle.client('s3',\n",
                "                             region_name=region)\n",
                "    public_check = [\"http://acs.amazonaws.com/groups/global/AuthenticatedUsers\",\n",
                "                   \"http://acs.amazonaws.com/groups/global/AllUsers\"]\n",
                "    # filter public S3 buckets\n",
                "    result = []\n",
                "    for bucket in Bucket_List:\n",
                "        try:\n",
                "            res = s3Client.get_bucket_acl(Bucket=bucket)\n",
                "            for grant in res[\"Grants\"]:\n",
                "                if 'Permission' in grant.keys() and Permission == grant[\"Permission\"]:\n",
                "                    if 'URI' in grant[\"Grantee\"] and grant[\"Grantee\"][\"URI\"] in public_check:\n",
                "                        result.append(bucket)\n",
                "        except Exception as e:\n",
                "            continue\n",
                "\n",
                "    return result\n",
                "task = Task(Workflow())\n",
                "task.configure(inputParamsJson='''{\n",
                "    \"Bucket_List\": \"bucketlist\",\n",
                "    \"Permission\": \"Permission\",\n",
                "    \"region\": \"Region\"\n",
                "    }''')\n",
                "task.configure(outputName=\"PublicBucket\")\n",
                "\n",
                "(err, hdl, args) = task.validate(vars=vars())\n",
                "if err is None:\n",
                "    task.execute(aws_get_public_s3_buckets, lego_printer=aws_get_public_s3_buckets_printer, hdl=hdl, args=args)"
            ]
        },
        {
            "cell_type": "markdown",
            "id": "5e8de80b-5e36-4869-84b1-e383e7f5810c",
            "metadata": {
                "jupyter": {
                    "source_hidden": false
                },
                "name": "Change ACL Permissions of AWS Bucket",
                "orderProperties": [],
                "tags": [],
                "title": "Change ACL Permissions of AWS Bucket"
            },
            "source": [
                "Here we will use unSkript Change ACL Permissions of AWS Bucket Lego. This lego takes name: str, acl: str, region: str as input. This input is used to change the public ACL permissions to private."
            ]
        },
        {
            "cell_type": "code",
            "execution_count": 19,
            "id": "cbe86b8e-040d-481f-bca3-6b9fc63a6cc0",
            "metadata": {
                "accessType": "ACCESS_TYPE_UNSPECIFIED",
                "actionBashCommand": false,
                "actionNeedsCredential": true,
                "actionRequiredLinesInCode": [],
                "actionSupportsIteration": true,
                "actionSupportsPoll": true,
                "action_uuid": "46cc40dfc3023480cfb612dfd6bec7f4e60a7c8bfc366fe62bec40637b112b03",
                "condition_enabled": true,
                "continueOnError": false,
                "createTime": "1970-01-01T00:00:00Z",
                "credentialsJson": {},
                "currentVersion": "0.1.0",
                "description": "Create a new AWS S3 Bucket",
                "execution_data": {
                    "last_date_success_run_cell": "2022-09-29T13:17:15.527Z"
                },
                "id": 144,
                "index": 144,
                "inputData": [
                    {
                        "acl": {
                            "constant": false,
                            "value": "ACL_Permission"
                        },
                        "name": {
                            "constant": false,
                            "value": "iter_item"
                        },
                        "region": {
                            "constant": false,
                            "value": "Region"
                        }
                    }
                ],
                "inputschema": [
                    {
                        "properties": {
                            "acl": {
                                "description": "The Canned ACL to apply to the bucket. Possible values: private, public-read, public-read-write, authenticated-read.",
                                "title": "ACL",
                                "type": "string"
                            },
                            "name": {
                                "description": "Name of the bucket to be created.",
                                "title": "Bucket Name",
                                "type": "string"
                            },
                            "region": {
                                "description": "AWS Region of the bucket.",
                                "title": "Region",
                                "type": "string"
                            }
                        },
                        "required": [
                            "name",
                            "acl"
                        ],
                        "title": "aws_create_bucket",
                        "type": "object"
                    }
                ],
                "iterData": [
                    {
                        "iter_enabled": true,
                        "iter_item": "name",
                        "iter_list": {
                            "constant": false,
                            "objectItems": false,
                            "value": "PublicBucket"
                        }
                    }
                ],
                "jupyter": {
                    "source_hidden": true
                },
                "legotype": "LEGO_TYPE_AWS",
                "name": "Change ACL Permissions of AWS Bucket",
                "nouns": [
                    "aws",
                    "bucket"
                ],
                "orderProperties": [
                    "name",
                    "acl",
                    "region"
                ],
                "output": {
                    "type": ""
                },
                "startcondition": "len(PublicBucket)>0",
                "tags": [
                    "aws_create_bucket"
                ],
                "title": "Change ACL Permissions of AWS Bucket",
                "trusted": true,
                "verbs": [
                    "create"
                ]
            },
            "outputs": [],
            "source": [
                "##\n",
                "# Copyright (c) 2021 unSkript, Inc\n",
                "# All rights reserved.\n",
                "##\n",
                "from pydantic import BaseModel, Field\n",
                "from typing import Optional, Dict\n",
                "import pprint\n",
                "\n",
                "from beartype import beartype\n",
                "\n",
                "@beartype\n",
                "def aws_put_bucket_acl_printer(output):\n",
                "    if output is None:\n",
                "        return\n",
                "    pprint.pprint(output)\n",
                "\n",
                "\n",
                "@beartype\n",
                "def aws_put_bucket_acl(handle, name: str, acl: str, region: str = None) -> Dict:\n",
                "    \"\"\" aws_put_bucket_acl get Dict of buckets ACL change info.\n",
                "\n",
                "            :type handle: Session\n",
                "            :param handle: S3 boto3 client\n",
                "\n",
                "            :type handle: str\n",
                "            :param bucket: S3 bucket name where to set ACL on\n",
                "\n",
                "            :type handle: str\n",
                "            :param acl: canned ACL type - 'private'|'public-read'|'public-read-write'|'authenticated-read'.\n",
                "\n",
                "            :rtype: nothing\n",
                "    \"\"\"\n",
                "    s3Client = handle.client('s3',\n",
                "                             region_name=region)\n",
                "\n",
                "    response = s3Client.put_bucket_acl(\n",
                "                    Bucket=name,\n",
                "                    ACL=acl )\n",
                "\n",
                "    return response\n",
                "\n",
                "\n",
                "task = Task(Workflow())\n",
                "task.configure(continueOnError=False)\n",
                "task.configure(inputParamsJson='''{\n",
                "    \"acl\": \"ACL_Permission\",\n",
                "    \"name\": \"iter_item\",\n",
                "    \"region\": \"Region\"\n",
                "    }''')\n",
                "task.configure(iterJson='''{\n",
                "    \"iter_enabled\": true,\n",
                "    \"iter_list_is_const\": false,\n",
                "    \"iter_list\": \"PublicBucket\",\n",
                "    \"iter_parameter\": \"name\"\n",
                "    }''')\n",
                "task.configure(conditionsJson='''{\n",
                "    \"condition_enabled\": true,\n",
                "    \"condition_cfg\": \"len(PublicBucket)>0\",\n",
                "    \"condition_result\": true\n",
                "    }''')\n",
                "\n",
                "(err, hdl, args) = task.validate(vars=vars())\n",
                "if err is None:\n",
                "    task.execute(aws_put_bucket_acl, lego_printer=aws_put_bucket_acl_printer, hdl=hdl, args=args)"
            ]
        },
        {
            "cell_type": "markdown",
            "id": "c9e25b20-2869-4bd0-8eba-7db2490b7fe4",
            "metadata": {
                "jupyter": {
                    "source_hidden": false
                },
                "name": "Conclusion",
                "orderProperties": [],
                "tags": [],
                "title": "Conclusion"
            },
            "source": [
                "In this Runbook, we demonstrated the use of unSkript's AWS legos to Restrict S3 Buckets with READ/WRITE Permissions to all Authenticated Users. To view the full platform capabilities of unSkript please visit https://unskript.com"
            ]
        }
    ],
    "metadata": {
        "execution_data": {
            "environment_id": "1499f27c-6406-4fbd-bd1b-c6f92800018f",
            "environment_name": "Staging",
            "execution_id": "",
            "inputs_for_searched_lego": "",
            "notebook_id": "e70d6d27-33ef-4101-8040-babf8d402df7.ipynb",
            "parameters": [
                "Region"
            ],
            "runbook_name": "Restrict S3 Buckets with READ/WRITE Permissions",
            "search_string": "",
            "show_tool_tip": false,
            "tenant_id": "982dba5f-d9df-48ae-a5bf-ec1fc94d4882",
            "tenant_url": "https://tenant-staging.alpha.unskript.io",
            "user_email_id": "harshal.bangre@unskript.com",
            "workflow_id": "49ad8e48-c21e-460f-b8a5-f2793d7dad6b"
        },
        "kernelspec": {
            "display_name": "Python 3.9.6 64-bit",
            "language": "python",
            "name": "python3"
        },
        "language_info": {
            "file_extension": ".py",
            "mimetype": "text/x-python",
            "name": "python",
            "pygments_lexer": "ipython3",
            "version": "3.9.6"
        },
        "parameterSchema": {
            "properties": {
                "ACL_Permission": {
                    "default": "private",
                    "description": "canned ACL type - 'private'|'public-read'|'public-read-write'|'authenticated-read'.",
                    "enum": [
                        "private",
                        "public-read",
                        "public-read-write",
                        "authenticated-read"
                    ],
                    "enumNames": [
                        "private",
                        "public-read",
                        "public-read-write",
                        "authenticated-read"
                    ],
                    "title": "ACL_Permission",
                    "type": "string"
                },
                "Permission": {
                    "default": "READ",
                    "description": "ACL type - \"READ\"|\"WRITE\"|\"READ_ACP\"|\"WRITE_ACP\"|\"FULL_CONTROL\".",
                    "enum": [
                        "READ",
                        "WRITE",
                        "READ_ACP",
                        "WRITE_ACP",
                        "FULL_CONTROL"
                    ],
                    "enumNames": [
                        "READ",
                        "WRITE",
                        "READ_ACP",
                        "WRITE_ACP",
                        "FULL_CONTROL"
                    ],
                    "title": "Permission",
                    "type": "string"
                },
                "Region": {
                    "default": "us-west-2",
                    "description": "Region",
                    "title": "Region",
                    "type": "string"
                }
            },
            "required": [],
            "title": "Schema",
            "type": "object"
        },
        "parameterValues": {
            "ACL_Permission": "private",
            "Permission": "READ",
            "Region": "us-west-2"
        },
        "vscode": {
            "interpreter": {
                "hash": "31f2aee4e71d21fbe5cf8b01ff0e069b9275f58929596ceb00d14d90e3e16cd6"
            }
        }
    },
    "nbformat": 4,
    "nbformat_minor": 5
}
