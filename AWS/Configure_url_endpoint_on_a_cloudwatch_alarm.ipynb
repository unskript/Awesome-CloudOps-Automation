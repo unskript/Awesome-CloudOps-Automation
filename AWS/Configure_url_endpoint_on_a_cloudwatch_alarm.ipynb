{
 "cells": [
  {
   "cell_type": "markdown",
   "id": "02550ae3",
   "metadata": {
    "jupyter": {
     "source_hidden": false
    },
    "name": "Steps Overview",
    "orderProperties": [],
    "tags": [],
    "title": "Steps Overview"
   },
   "source": [
    "<hr><center><img src=\"https://storage.googleapis.com/unskript-website/assets/favicon.png\" alt=\"unSkript.com\" width=\"100\" height=\"100\">\n",
    "<h1 id=\"unSkript-Runbooks&para;\">unSkript Runbooks</h1>\n",
    "<div class=\"alert alert-block alert-success\">\n",
    "<h3 id=\"Objective&para;\">Objective</h3>\n",
    "<br><strong style=\"color: #000000;\"><em>Configure url endpoint to the SNS associated with a cloudwatch alarm</em></strong></div>\n",
    "</center>\n",
    "<p>&nbsp;</p>\n",
    "<center>\n",
    "<h2 id=\"Stop-Untagged-EC2-Instances&para;\"><u>Attach a webhook endpoint to AWS Cloudwatch alarm</u></h2>\n",
    "</center>\n",
    "<h1 id=\"Steps-Overview&para;\">Steps Overview</h1>\n",
    "<p>1)&nbsp;<a href=\"#1\">Attach a webhook endpoint to AWS Cloudwatch alarm</a></p>"
   ]
  },
  {
   "cell_type": "markdown",
   "id": "943a923f",
   "metadata": {
    "jupyter": {
     "source_hidden": false
    },
    "name": "Step 1",
    "orderProperties": [],
    "tags": [],
    "title": "Step 1"
   },
   "source": [
    "<h3 id=\"Get-all-Untagged-EC2-Instances\"><a id=\"2\" target=\"_self\" rel=\"nofollow\"></a>Attach a webhook endpoint to AWS Cloudwatch alarms</h3>\n",
    "<p>Here we will configure the url endpoint to the SNS associated with a cloudwatch alarm.&nbsp;</p>\n",
    "<blockquote>\n",
    "<p>This action takes the following parameters: <code>alarm_name, region, region</code></p>\n",
    "</blockquote>\n",
    "<blockquote>\n",
    "<p>This action captures the following output: <code>None</code></p>\n",
    "</blockquote>"
   ]
  },
  {
   "cell_type": "code",
   "execution_count": null,
   "id": "60e41cc8-b61f-4104-a41c-f084bce38740",
   "metadata": {
    "accessType": "ACCESS_TYPE_UNSPECIFIED",
    "actionBashCommand": false,
    "actionCategories": [],
    "actionIsCheck": false,
    "actionNeedsCredential": true,
    "actionNextHop": [],
    "actionNextHopParameterMapping": {},
    "actionOutputType": "",
    "actionRequiredLinesInCode": [],
    "actionSupportsIteration": true,
    "actionSupportsPoll": true,
    "action_modified": false,
    "action_uuid": "e591113f7afc699ee564d67ef912ea2d689acc91d7640a2a05e68c039153bd33",
    "checkEnabled": false,
    "collapsed": true,
    "createTime": "1970-01-01T00:00:00Z",
    "currentVersion": "0.1.0",
    "description": "Attach a webhook endpoint to one of the SNS attached to the AWS Cloudwatch alarm.",
    "id": 213,
    "index": 213,
    "inputschema": [
     {
      "properties": {
       "alarm_name": {
        "description": "Cloudwatch alarm name.",
        "title": "Alarm name",
        "type": "string"
       },
       "region": {
        "description": "AWS Region of the cloudwatch.",
        "title": "Region",
        "type": "string"
       },
       "url": {
        "description": "URL where the alarm notification needs to be sent. URL should start with http or https.",
        "title": "URL",
        "type": "string"
       }
      },
      "required": [
       "alarm_name",
       "region",
       "url"
      ],
      "title": "aws_cloudwatch_attach_webhook_notification_to_alarm",
      "type": "object"
     }
    ],
    "isUnskript": false,
    "jupyter": {
     "outputs_hidden": true,
     "source_hidden": true
    },
    "legotype": "LEGO_TYPE_AWS",
    "name": "Attach a webhook endpoint to AWS Cloudwatch alarm",
    "nouns": [],
    "orderProperties": [
     "alarm_name",
     "region",
     "url"
    ],
    "output": {
     "type": ""
    },
    "printOutput": true,
    "tags": [
     "aws_cloudwatch_attach_webhook_notification_to_alarm"
    ],
    "title": "Attach a webhook endpoint to AWS Cloudwatch alarm",
    "verbs": [],
    "credentialsJson": {}
   },
   "outputs": [],
   "source": [
    "##\n",
    "# Copyright (c) 2021 unSkript, Inc\n",
    "# All rights reserved.\n",
    "##\n",
    "\n",
    "from pydantic import BaseModel, Field\n",
    "from unskript.legos.aws.aws_get_handle.aws_get_handle import Session\n",
    "from urllib.parse import urlparse\n",
    "import pprint\n",
    "\n",
    "from beartype import beartype\n",
    "@beartype\n",
    "def aws_cloudwatch_attach_webhook_notification_to_alarm_printer(output):\n",
    "    if output is None:\n",
    "        return\n",
    "    pprint.pprint({\"Subscription ARN\" : output})\n",
    "\n",
    "\n",
    "@beartype\n",
    "def aws_cloudwatch_attach_webhook_notification_to_alarm(\n",
    "    hdl: Session,\n",
    "    alarm_name: str,\n",
    "    region: str,\n",
    "    url: str\n",
    ") -> str:\n",
    "    \"\"\"aws_cloudwatch_attach_webhook_notification_to_alarm returns subscriptionArn\n",
    "\n",
    "        :type alarm_name: string\n",
    "        :param alarm_name: Cloudwatch alarm name.\n",
    "\n",
    "        :type url: string\n",
    "        :param url: URL where the alarm notification needs to be sent.\n",
    "\n",
    "        :type region: string\n",
    "        :param region: AWS Region of the cloudwatch.\n",
    "\n",
    "        :rtype: Returns subscriptionArn\n",
    "    \"\"\"\n",
    "    cloudwatchClient = hdl.client(\"cloudwatch\", region_name=region)\n",
    "\n",
    "    # Get the configured SNS(es) to this alarm.\n",
    "    alarmDetail = cloudwatchClient.describe_alarms(\n",
    "        AlarmNames=[alarm_name]\n",
    "    )\n",
    "    if alarmDetail is None:\n",
    "        return f'Alarm {alarm_name} not found in AWS region {region}'\n",
    "    # Need to get the AlarmActions from either composite or metric field.\n",
    "    if len(alarmDetail['CompositeAlarms']) > 0:\n",
    "        snses = alarmDetail['CompositeAlarms'][0]['AlarmActions']\n",
    "    else:\n",
    "        snses = alarmDetail['MetricAlarms'][0]['AlarmActions']\n",
    "\n",
    "    #Pick any sns to configure the url endpoint.\n",
    "    if len(snses) == 0:\n",
    "        return f'No SNS configured for alarm {alarm_name}'\n",
    "\n",
    "    snsArn = snses[0]\n",
    "    print(f'Configuring url endpoint on SNS {snsArn}')\n",
    "\n",
    "    snsClient = hdl.client('sns', region_name=region)\n",
    "    # Figure out the protocol from the url\n",
    "    try:\n",
    "        parsedURL = urlparse(url)\n",
    "    except Exception as e:\n",
    "        print(f'Invalid URL {url}, {e}')\n",
    "        raise e\n",
    "\n",
    "    if parsedURL.scheme != 'http' and parsedURL.scheme != 'https':\n",
    "        return f'Invalid URL {url}'\n",
    "\n",
    "    protocol = parsedURL.scheme\n",
    "    try:\n",
    "       response = snsClient.subscribe(\n",
    "            TopicArn=snsArn,\n",
    "            Protocol=protocol,\n",
    "            Endpoint=url,\n",
    "            ReturnSubscriptionArn=True)\n",
    "    except Exception as e:\n",
    "        print(f'Subscribe to SNS topic arn {snsArn} failed, {e}')\n",
    "        raise e\n",
    "    subscriptionArn = response['SubscriptionArn']\n",
    "    print(f'URL {url} subscribed to SNS {snsArn}, subscription ARN {subscriptionArn}')\n",
    "    return subscriptionArn\n",
    "\n",
    "\n",
    "\n",
    "task = Task(Workflow())\n",
    "task.configure(printOutput=True)\n",
    "(err, hdl, args) = task.validate(vars=vars())\n",
    "if err is None:\n",
    "    task.execute(aws_cloudwatch_attach_webhook_notification_to_alarm, lego_printer=aws_cloudwatch_attach_webhook_notification_to_alarm_printer, hdl=hdl, args=args)"
   ]
  },
  {
   "cell_type": "markdown",
   "id": "93fbb5a1",
   "metadata": {
    "jupyter": {
     "source_hidden": false
    },
    "name": "Conclusion",
    "orderProperties": [],
    "tags": [],
    "title": "Conclusion"
   },
   "source": [
    "<h3 id=\"Conclusion\">Conclusion</h3>\n",
    "<p>In this Runbook, we demonstrated the use of unSkript's AWS legos to configure the url endpoint to the SNS associated with a cloudwatch alarm. To view the full platform capabilities of unSkript please visit <a href=\"https://us.app.unskript.io\" target=\"_blank\" rel=\"noopener\">us.app.unskript.io</a></p>"
   ]
  }
 ],
 "metadata": {
  "execution_data": {
   "runbook_name": "Configure URL endpoint on a AWS CloudWatch alarm",
   "parameters": [
    "Region",
    "URL",
    "AlarmName"
   ]
  },
  "kernelspec": {
   "display_name": "Python 3.10.6 64-bit",
   "language": "python",
   "name": "python3"
  },
  "language_info": {
   "file_extension": ".py",
   "mimetype": "text/x-python",
   "name": "python",
   "pygments_lexer": "ipython3",
   "version": "3.10.6"
  },
  "parameterSchema": {
   "properties": {
    "AlarmName": {
     "description": "Name of the AWS Alarm",
     "title": "AlarmName",
     "type": "string"
    },
    "Region": {
     "description": "AWS Region of the alarm",
     "title": "Region",
     "type": "string"
    },
    "URL": {
     "description": "URL to be attached to the SNS ",
     "title": "URL",
     "type": "string"
    }
   },
   "required": [
    "AlarmName",
    "Region",
    "URL"
   ],
   "title": "Schema",
   "type": "object"
  },
  "parameterValues": {},
  "vscode": {
   "interpreter": {
    "hash": "b0fa6594d8f4cbf19f97940f81e996739fb7646882a419484c72d19e05852a7e"
   }
  }
 },
 "nbformat": 4,
 "nbformat_minor": 5
}