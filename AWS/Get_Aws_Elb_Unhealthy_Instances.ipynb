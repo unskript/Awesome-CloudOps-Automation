{
    "cells": [
        {
            "cell_type": "markdown",
            "id": "c2072425",
            "metadata": {},
            "source": [
                "\n",
                "<img src=\"https://unskript.com/assets/favicon.png\" alt=\"unSkript.com\" width=\"100\" height=\"100\"/> \n",
                "<h1> unSkript Runbooks </h1>\n",
                "<div class=\"alert alert-block alert-success\">\n",
                "    <b> This runbook demonstrates How to Get AWS ELB Unhealthy Instances using unSkript legos.</b>\n",
                "</div>\n",
                "\n",
                "<br>\n",
                "\n",
                "<center><h2>Get AWS ELB Unhealthy Instances</h2></center>\n",
                "\n",
                "# Steps Overview\n",
                "    1) Get all AWS ELB unhealthy instances by using elb_name as input.\n",
                "    2) Post the AWS ELB unhealthy instances to the slack channel."
            ]
        },
        {
            "cell_type": "markdown",
            "id": "205bd131",
            "metadata": {},
            "source": [
                "Here we will use unSkript Get UnHealthy EC2 Instances for Classic ELB Lego. This lego takes elb_name as input. This input is used to discover all unHealthy EC2 instances for Classic ELB."
            ]
        },
        {
            "cell_type": "code",
            "execution_count": null,
            "id": "7eb0dae8-c634-447b-8fa7-738b230d0015",
            "metadata": {
                "accessType": "ACCESS_TYPE_UNSPECIFIED",
                "actionBashCommand": false,
                "actionNeedsCredential": true,
                "actionSupportsIteration": true,
                "actionSupportsPoll": true,
                "action_uuid": "88cbf370f4261c1265499dc499f983599db1e54b7e1d148c688216d4cdbbfe4d",
                "createTime": "1970-01-01T00:00:00Z",
                "currentVersion": "0.1.0",
                "description": "Get UnHealthy EC2 Instances for Classic ELB",
                "id": 117,
                "index": 117,
                "inputData": [
                    {
                        "elb_name": {
                            "constant": false,
                            "value": "elb_name"
                        }
                    }
                ],
                "inputschema": [
                    {
                        "properties": {
                            "elb_name": {
                                "description": "Name of the ELB. NOTE: It ONLY supports Classic.",
                                "title": "ELB Name",
                                "type": "string"
                            }
                        },
                        "required": [
                            "elb_name"
                        ],
                        "title": "aws_get_unhealthy_instances",
                        "type": "object"
                    }
                ],
                "jupyter": {
                    "source_hidden": true
                },
                "legotype": "LEGO_TYPE_AWS",
                "name": "Get UnHealthy EC2 Instances for Classic ELB",
                "nouns": [
                    "aws",
                    "ec2",
                    "instances"
                ],
                "orderProperties": [
                    "elb_name"
                ],
                "output": {
                    "type": ""
                },
                "tags": [
                    "aws_get_unhealthy_instances"
                ],
                "verbs": [
                    "list"
                ]
            },
            "outputs": [],
            "source": [
                "# Copyright (c) 2021 unSkript, Inc\n",
                "# All rights reserved.\n",
                "##\n",
                "from pydantic import BaseModel, Field\n",
                "\n",
                "\n",
                "from beartype import beartype\n",
                "@beartype\n",
                "def aws_get_unhealthy_instances(handle, elb_name: str):\n",
                "\n",
                "    elbClient = handle.client('elb')\n",
                "    res = elbClient.describe_instance_health(\n",
                "        LoadBalancerName=elb_name,\n",
                "    )\n",
                "\n",
                "    unhealthy_instances = []\n",
                "    for instance in res['InstanceStates']:\n",
                "        if instance['State'] == \"OutOfService\":\n",
                "            unhealthy_instances.append(instance)\n",
                "\n",
                "    return unhealthy_instances\n",
                "\n",
                "\n",
                "task = Task(Workflow())\n",
                "task.configure(inputParamsJson='''{\n",
                "    \"elb_name\": \"elb_name\"\n",
                "    }''')\n",
                "\n",
                "(err, hdl, args) = task.validate(vars=vars())\n",
                "if err is None:\n",
                "    task.output = task.execute(aws_get_unhealthy_instances, hdl=hdl, args=args)\n",
                "    if task.output_name != None:\n",
                "        globals().update({task.output_name: task.output[0]})\n",
                "\n",
                "if hasattr(task, 'output'):\n",
                "    if isinstance(task.output, (list, tuple)):\n",
                "        for item in task.output:\n",
                "            print(f'item: {item}')\n",
                "    elif isinstance(task.output, dict):\n",
                "        for item in task.output.items():\n",
                "            print(f'item: {item}')\n",
                "    else:\n",
                "        print(f'Output for {task.name}')\n",
                "        print(task.output)\n",
                "    w.tasks[task.name]= task.output"
            ]
        },
        {
            "cell_type": "markdown",
            "id": "061cdd14",
            "metadata": {},
            "source": [
                "Here we will use unSkript Post Slack Message Lego. This lego takes channel: str and message: str as input. This input is used to post the message to the slack channel."
            ]
        },
        {
            "cell_type": "code",
            "execution_count": null,
            "id": "80e6665a-2c9a-4a33-89f8-ad221be338ec",
            "metadata": {
                "accessType": "ACCESS_TYPE_UNSPECIFIED",
                "actionBashCommand": false,
                "actionNeedsCredential": true,
                "actionSupportsIteration": true,
                "actionSupportsPoll": true,
                "action_uuid": "6a87f83ab0ecfeecb9c98d084e2b1066c26fa64be5b4928d5573a5d60299802d",
                "collapsed": true,
                "createTime": "1970-01-01T00:00:00Z",
                "currentVersion": "0.1.0",
                "description": "Post Slack Message",
                "id": 44,
                "index": 44,
                "inputData": [
                    {
                        "channel": {
                            "constant": false,
                            "value": "channel"
                        },
                        "message": {
                            "constant": false,
                            "value": "f\"Unhealthy instances for elb:{elb_name} {elb_output}\""
                        }
                    }
                ],
                "inputschema": [
                    {
                        "properties": {
                            "channel": {
                                "description": "Name of the slack channel where the message to be posted",
                                "title": "Channel",
                                "type": "string"
                            },
                            "message": {
                                "description": "Message to be sent",
                                "title": "Message",
                                "type": "string"
                            }
                        },
                        "required": [
                            "channel",
                            "message"
                        ],
                        "title": "slack_post_message",
                        "type": "object"
                    }
                ],
                "jupyter": {
                    "outputs_hidden": true,
                    "source_hidden": true
                },
                "legotype": "LEGO_TYPE_SLACK",
                "name": "Post Slack Message",
                "nouns": [
                    "slack",
                    "message"
                ],
                "orderProperties": [
                    "channel",
                    "message"
                ],
                "output": {
                    "type": ""
                },
                "tags": [
                    "slack_post_message"
                ],
                "verbs": [
                    "post"
                ]
            },
            "outputs": [],
            "source": [
                "##\n",
                "# Copyright (c) 2021 unSkript, Inc\n",
                "# All rights reserved.\n",
                "##\n",
                "\n",
                "import pprint\n",
                "\n",
                "from pydantic import BaseModel, Field\n",
                "from slack_sdk import WebClient\n",
                "from slack_sdk.errors import SlackApiError\n",
                "\n",
                "pp = pprint.PrettyPrinter(indent=2)\n",
                "\n",
                "\n",
                "from beartype import beartype\n",
                "def legoPrinter(func):\n",
                "    def Printer(*args, **kwargs):\n",
                "        output = func(*args, **kwargs)\n",
                "        if output:\n",
                "            channel = kwargs[\"channel\"]\n",
                "            pp.pprint(print(f\"Message sent to Slack channel {channel}\"))\n",
                "        return output\n",
                "    return Printer\n",
                "\n",
                "\n",
                "@legoPrinter\n",
                "@beartype\n",
                "def slack_post_message(\n",
                "        handle: WebClient,\n",
                "        channel: str,\n",
                "        message: str) -> bool:\n",
                "\n",
                "    try:\n",
                "        response = handle.chat_postMessage(\n",
                "            channel=channel,\n",
                "            text=message)\n",
                "        return True\n",
                "    except SlackApiError as e:\n",
                "        print(\"\\n\\n\")\n",
                "        pp.pprint(\n",
                "            f\"Failed sending message to slack channel {channel}, Error: {e.response['error']}\")\n",
                "        return False\n",
                "    except Exception as e:\n",
                "        print(\"\\n\\n\")\n",
                "        pp.pprint(\n",
                "            f\"Failed sending message to slack channel {channel}, Error: {e.__str__()}\")\n",
                "        return False\n",
                "\n",
                "\n",
                "task = Task(Workflow())\n",
                "task.configure(inputParamsJson='''{\n",
                "    \"channel\": \"channel\",\n",
                "    \"message\": \"f\\\\\"Unhealthy instances for elb:{elb_name} {elb_output}\\\\\"\"\n",
                "    }''')\n",
                "\n",
                "(err, hdl, args) = task.validate(vars=vars())\n",
                "if err is None:\n",
                "    task.output = task.execute(slack_post_message, hdl=hdl, args=args)\n",
                "    if task.output_name != None:\n",
                "        globals().update({task.output_name: task.output[0]})"
            ]
        },
        {
            "cell_type": "markdown",
            "id": "2fbfd774",
            "metadata": {},
            "source": [
                "### Conclusion\n",
                "In this Runbook, we demonstrated the use of unSkript's AWS and slack legos.  The xRunbook fetches the unHealthy EC2 instances for Classic ELB and posts to a Slack channel. To view the full platform capabilities of unSkript please visit https://unskript.com"
            ]
        }
    ],
    "metadata": {
        "execution_data": {
            "environment_id": "dba3932f-3118-4ab0-b92c-70fa56402037",
            "environment_name": "SingleAMI",
            "execution_id": "",
            "inputs_for_searched_lego": "",
            "notebook_id": "workflow.ipynb",
            "parameters": [
                "channel",
                "elb_name"
            ],
            "runbook_name": "JRRunbook",
            "search_string": "",
            "show_tool_tip": false,
            "tenant_id": "8b3c7148-2d57-4b89-84d3-d59f6c792b0c",
            "tenant_url": "https://tenant-amit.dev.unskript.io",
            "user_email_id": "amit@unskript.com",
            "workflow_id": "755dbe40-22d7-4b70-a04d-31d34bb04e4a"
        },
        "kernelspec": {
            "display_name": "Python 3.9.12 ('base')",
            "language": "python",
            "name": "python3"
        },
        "language_info": {
            "file_extension": ".py",
            "mimetype": "text/x-python",
            "name": "python",
            "pygments_lexer": "ipython3",
            "version": "3.9.12"
        },
        "parameterSchema": {
            "properties": {
                "channel": {
                    "default": "",
                    "description": "Slack channel to post to",
                    "title": "channel",
                    "type": "string"
                },
                "elb_name": {
                    "default": "",
                    "description": "ELB Name (Classic)",
                    "title": "elb_name",
                    "type": "string"
                }
            },
            "required": [],
            "title": "Schema",
            "type": "object"
        },
        "parameterValues": {
            "channel": null,
            "elb_name": null
        },
        "vscode": {
            "interpreter": {
                "hash": "5e269198fab4eb2ea6fe7c886c38b87b334869f0501ab924e1d16d60aeba5d23"
            }
        }
    },
    "nbformat": 4,
    "nbformat_minor": 5
}
