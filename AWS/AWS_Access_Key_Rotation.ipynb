{
    "cells": [
        {
            "cell_type": "markdown",
            "id": "8ca4bd16-bef4-4d7c-96eb-59eeb2315864",
            "metadata": {
                "jupyter": {
                    "source_hidden": false
                },
                "name": "Steps Overview",
                "orderProperties": [],
                "tags": [],
                "title": "Steps Overview"
            },
            "source": [
                "<center><img src=\"https://unskript.com/assets/favicon.png\" alt=\"unSkript.com\" width=\"100\" height=\"100\">\n",
                "<h1 id=\"-unSkript-Runbooks-\">unSkript Runbooks</h1>\n",
                "<div class=\"alert alert-block alert-success\">\n",
                "<h3 id=\"-Objective\">Objective</h3>\n",
                "<br><strong style=\"color: #000000;\"><em>Check and Rotate Expiring Access Keys for all IAM Users </em></strong></div>\n",
                "</center><center>\n",
                "<h2 id=\"AWS-Access-Key-Rotation\"><u>AWS Access Key Rotation</u></h2>\n",
                "</center>\n",
                "<h1 id=\"Steps-Overview\">Steps Overview</h1>\n",
                "<p>1) <a href=\"#2\" target=\"_self\" rel=\"noopener\">List all Expiring Access Key</a><br>2)&nbsp;<a href=\"#3\" target=\"_self\" rel=\"noopener\">Create AWS Access Key</a><br>3) <a href=\"#4\" target=\"_self\" rel=\"noopener\">Update AWS Access Key</a><br>4)&nbsp;<a href=\"#5\" target=\"_self\" rel=\"noopener\">Delete AWS Access Key</a></p>"
            ]
        },
        {
            "cell_type": "markdown",
            "id": "c1ec70e9-0b9c-4c05-b5e0-5ebfd4263c4f",
            "metadata": {
                "jupyter": {
                    "source_hidden": false
                },
                "name": "Step 1",
                "orderProperties": [],
                "tags": [],
                "title": "Step 1"
            },
            "source": [
                "<h3 id=\"List-all-Expiring-Access-Keys\"><a id=\"2\" target=\"_self\" rel=\"nofollow\"></a>List all Expiring Access Keys</h3>\n",
                "<p>Using unSkript's AWS List Expiring Access Keys action we will list those users whose Access Keys past the given threshold number of days i.e. expiring.</p>\n",
                "<blockquote>\n",
                "<p>Action takes the following parameters: <code>threshold_days</code></p>\n",
                "</blockquote>\n",
                "<blockquote>\n",
                "<p>Action captures the following output: <code>all_expiring_users</code></p>\n",
                "</blockquote>"
            ]
        },
        {
            "cell_type": "code",
            "execution_count": 21,
            "id": "4339fb8d-9ccc-4990-aa29-eb536e80a547",
            "metadata": {
                "accessType": "ACCESS_TYPE_UNSPECIFIED",
                "actionBashCommand": false,
                "actionNeedsCredential": true,
                "actionRequiredLinesInCode": [],
                "actionSupportsIteration": true,
                "actionSupportsPoll": true,
                "action_modified": false,
                "action_uuid": "c3a4e091801f8197429f073a0612e2cc373b6630ce4426d73617b8e101bc5d6a",
                "collapsed": true,
                "continueOnError": false,
                "createTime": "1970-01-01T00:00:00Z",
                "currentVersion": "0.1.0",
                "description": "List Expiring IAM User Access Keys",
                "execution_data": {
                    "last_date_success_run_cell": "2023-01-12T06:12:59.053Z"
                },
                "id": 216,
                "index": 216,
                "inputData": [
                    {
                        "threshold_days": {
                            "constant": false,
                            "value": "threshold_days"
                        }
                    }
                ],
                "inputschema": [
                    {
                        "properties": {
                            "threshold_days": {
                                "description": "Threshold number(in days) to check for expiry. Eg: 30",
                                "title": "Threshold Days",
                                "type": "integer"
                            }
                        },
                        "required": [
                            "threshold_days"
                        ],
                        "title": "aws_list_expiring_access_keys",
                        "type": "object"
                    }
                ],
                "jupyter": {
                    "outputs_hidden": true,
                    "source_hidden": true
                },
                "legotype": "LEGO_TYPE_AWS",
                "name": "AWS List Expiring Access Keys",
                "nouns": [
                    "expiring",
                    "access",
                    "aws"
                ],
                "orderProperties": [
                    "threshold_days"
                ],
                "output": {
                    "type": ""
                },
                "outputParams": {
                    "output_name": "all_expiring_users",
                    "output_name_enabled": true
                },
                "printOutput": true,
                "tags": [
                    "aws_list_expiring_access_keys"
                ],
                "verbs": [
                    "list"
                ]
            },
            "outputs": [],
            "source": [
                "# Copyright (c) 2021 unSkript, Inc\n",
                "# All rights reserved.\n",
                "##\n",
                "import dateutil\n",
                "from pydantic import BaseModel, Field\n",
                "from unskript.legos.aws.aws_list_all_iam_users.aws_list_all_iam_users import aws_list_all_iam_users\n",
                "from typing import Dict,List,Tuple\n",
                "import pprint\n",
                "import datetime\n",
                "\n",
                "from beartype import beartype\n",
                "@beartype\n",
                "def aws_list_expiring_access_keys_printer(output):\n",
                "    if output is None:\n",
                "        return\n",
                "    pprint.pprint(output)\n",
                "\n",
                "@beartype\n",
                "def aws_list_expiring_access_keys(handle, threshold_days: int)-> Tuple:\n",
                "    \"\"\"aws_list_expiring_access_keys returns all the ACM issued certificates which are about to expire given a threshold number of days\n",
                "\n",
                "        :type handle: object\n",
                "        :param handle: Object returned from Task Validate\n",
                "\n",
                "        :type threshold_days: int\n",
                "        :param threshold_days: Threshold number of days to check for expiry. Eg: 30 -lists all access Keys which are expiring within 30 days\n",
                "\n",
                "        :rtype: Result Dictionary of result\n",
                "    \"\"\"\n",
                "    final_result=[]\n",
                "    all_users=[]\n",
                "    try:\n",
                "        all_users = aws_list_all_iam_users(handle=handle)\n",
                "    except Exception as error:\n",
                "        pass\n",
                "    for each_user in all_users:\n",
                "        try:\n",
                "            iamClient = handle.client('iam')\n",
                "            result = {}\n",
                "            response = iamClient.list_access_keys(UserName=each_user)\n",
                "            for x in response[\"AccessKeyMetadata\"]:\n",
                "                if len(response[\"AccessKeyMetadata\"])!= 0:\n",
                "                    create_date = x[\"CreateDate\"]\n",
                "                    right_now = datetime.datetime.now(dateutil.tz.tzlocal())\n",
                "                    diff = right_now-create_date\n",
                "                    days_remaining = diff.days\n",
                "                    if days_remaining > threshold_days:\n",
                "                        result[\"username\"] = x[\"UserName\"]\n",
                "                        result[\"access_key_id\"] = x[\"AccessKeyId\"]\n",
                "            if len(result)!=0:\n",
                "                final_result.append(result)\n",
                "        except Exception as e:\n",
                "            pass\n",
                "    execution_flag = False\n",
                "    if len(final_result) > 0:\n",
                "        execution_flag = True\n",
                "    output = (execution_flag, final_result)\n",
                "    return output\n",
                "\n",
                "\n",
                "task = Task(Workflow())\n",
                "\n",
                "task.configure(inputParamsJson='''{\n",
                "    \"threshold_days\": \"threshold_days\"\n",
                "    }''')\n",
                "task.configure(outputName=\"all_expiring_users\")\n",
                "\n",
                "task.configure(printOutput=True)\n",
                "(err, hdl, args) = task.validate(vars=vars())\n",
                "if err is None:\n",
                "    task.execute(aws_list_expiring_access_keys, lego_printer=aws_list_expiring_access_keys_printer, hdl=hdl, args=args)"
            ]
        },
        {
            "cell_type": "markdown",
            "id": "af12fb80-4786-4dc6-b1b9-c7fdc372563e",
            "metadata": {
                "jupyter": {
                    "source_hidden": false
                },
                "name": "Step 1A",
                "orderProperties": [],
                "tags": [],
                "title": "Step 1A"
            },
            "source": [
                "<h3 id=\"List-of-Expiring-Users\">List of Expiring Users</h3>\n",
                "<p>This action lists the usernames of expiring Access Keys using the output from Step 2.</p>"
            ]
        },
        {
            "cell_type": "code",
            "execution_count": 15,
            "id": "3828def9-f4b1-4e75-9f1b-6b70fed35ae8",
            "metadata": {
                "customAction": true,
                "execution_data": {
                    "last_date_success_run_cell": "2023-01-12T06:08:05.347Z"
                },
                "jupyter": {
                    "source_hidden": true
                },
                "name": "Create List of Object of Expiring Users",
                "orderProperties": [],
                "tags": [],
                "title": "Create List of Object of Expiring Users"
            },
            "outputs": [],
            "source": [
                "def expiring_users_list():\n",
                "    res=[]\n",
                "    for x in all_expiring_users:\n",
                "        if type(x)==list:\n",
                "            res = x\n",
                "    print(res)\n",
                "    return res\n",
                "expiring_users_obj = expiring_users_list()\n",
                "\n",
                "task.configure(outputName=\"expiring_users_obj\")"
            ]
        },
        {
            "cell_type": "markdown",
            "id": "e1956e5a-c097-4dd7-a0da-ae45fc98c4db",
            "metadata": {
                "jupyter": {
                    "source_hidden": false
                },
                "name": "Step 1B",
                "orderProperties": [],
                "tags": [],
                "title": "Step 1B"
            },
            "source": [
                "<h3 id=\"List-of-Expiring-Users-and-Access-Keys\"><a id=\"3\" target=\"_self\" rel=\"nofollow\"></a>List of Expiring Users and Access Keys</h3>\n",
                "<p>This action simply creates another list containing a dictionary of the user and their old access key. The output from this acion is required for Step 4 and Step 5.</p>"
            ]
        },
        {
            "cell_type": "code",
            "execution_count": 16,
            "id": "a407845b-41f9-4ca5-9387-a2cfb0e6e46f",
            "metadata": {
                "customAction": true,
                "execution_data": {
                    "last_date_success_run_cell": "2023-01-12T06:08:12.745Z"
                },
                "jupyter": {
                    "source_hidden": true
                },
                "name": "Create List of Expiring Users",
                "orderProperties": [],
                "tags": [],
                "title": "Create List of Expiring Users"
            },
            "outputs": [],
            "source": [
                "def expiring_users_list():\n",
                "    res=[]\n",
                "    for x in all_expiring_users:\n",
                "        if type(x)==list:\n",
                "            for obj in x:\n",
                "                for k,v in obj.items():\n",
                "                    if k=='username':\n",
                "                        res.append(v)\n",
                "    print(res)\n",
                "    return res\n",
                "expiring_users = expiring_users_list()\n",
                "\n",
                "task.configure(outputName=\"expiring_users\")"
            ]
        },
        {
            "cell_type": "markdown",
            "id": "b3a132e5-42c9-46a2-9788-9f8648dc71f6",
            "metadata": {
                "jupyter": {
                    "source_hidden": false
                },
                "name": "Step 2",
                "orderProperties": [],
                "tags": [],
                "title": "Step 2"
            },
            "source": [
                "<h3 id=\"Create-AWS-Access-Keys\"><a id=\"3\" target=\"_self\" rel=\"nofollow\"></a>Create AWS Access Keys</h3>\n",
                "<p>Using unSkript's AWS Create Access Key action we will create a new Access Key for the users from Step 2.</p>\n",
                "<blockquote>\n",
                "<p>Action takes the following parameters: <code>aws_username</code></p>\n",
                "</blockquote>"
            ]
        },
        {
            "cell_type": "code",
            "execution_count": 17,
            "id": "8677468e-7eb5-4fa1-a42d-8f7b2b0d6648",
            "metadata": {
                "accessType": "ACCESS_TYPE_UNSPECIFIED",
                "actionBashCommand": false,
                "actionNeedsCredential": true,
                "actionRequiredLinesInCode": [],
                "actionSupportsIteration": true,
                "actionSupportsPoll": true,
                "action_modified": false,
                "action_uuid": "492b9b6807e5254512715555e3ec52a97e006c04a28511710e5bc1b0c45ffdd7",
                "continueOnError": true,
                "createTime": "1970-01-01T00:00:00Z",
                "currentVersion": "0.1.0",
                "description": "Create a new Access Key for the User",
                "execution_data": {
                    "last_date_success_run_cell": "2023-01-12T06:11:10.795Z"
                },
                "id": 206,
                "index": 206,
                "inputData": [
                    {
                        "aws_username": {
                            "constant": false,
                            "value": "iter_item"
                        }
                    }
                ],
                "inputschema": [
                    {
                        "properties": {
                            "aws_username": {
                                "description": "Username of the IAM User",
                                "title": "Username",
                                "type": "string"
                            }
                        },
                        "required": [
                            "aws_username"
                        ],
                        "title": "aws_create_access_key",
                        "type": "object"
                    }
                ],
                "iterData": [
                    {
                        "iter_enabled": true,
                        "iter_item": "aws_username",
                        "iter_list": {
                            "constant": false,
                            "objectItems": false,
                            "value": "expiring_users"
                        }
                    }
                ],
                "jupyter": {
                    "source_hidden": true
                },
                "legotype": "LEGO_TYPE_AWS",
                "name": "AWS Create Access Key",
                "nouns": [],
                "orderProperties": [
                    "aws_username"
                ],
                "output": {
                    "type": ""
                },
                "outputParams": {
                    "output_name": "new_access_keys",
                    "output_name_enabled": true
                },
                "printOutput": true,
                "tags": [
                    "aws_create_access_key"
                ],
                "verbs": []
            },
            "outputs": [],
            "source": [
                "##\n",
                "# Copyright (c) 2021 unSkript, Inc\n",
                "# All rights reserved.\n",
                "##\n",
                "from pydantic import BaseModel, Field, SecretStr\n",
                "from typing import Dict, List\n",
                "import pprint\n",
                "\n",
                "\n",
                "from beartype import beartype\n",
                "@beartype\n",
                "def aws_create_access_key_printer(output):\n",
                "    if output is None:\n",
                "        return\n",
                "    pprint.pprint(output)\n",
                "\n",
                "\n",
                "@beartype\n",
                "def aws_create_access_key(\n",
                "    handle,\n",
                "    aws_username: str\n",
                ") -> Dict:\n",
                "    \"\"\"aws_create_access_key creates a new access key for the given user.\n",
                "        :type handle: object\n",
                "        :param handle: Object returned from Task Validate\n",
                "\n",
                "        :type aws_username: str\n",
                "        :param aws_username: Username of the IAM user to be looked up\n",
                "\n",
                "        :rtype: Result Dictionary of result\n",
                "    \"\"\"\n",
                "    iamClient = handle.client('iam')\n",
                "    result = iamClient.create_access_key(UserName=aws_username)\n",
                "    retVal = {}\n",
                "    temp_list = []\n",
                "    for key, value in result.items():\n",
                "        if key not in temp_list:\n",
                "            temp_list.append(key)\n",
                "            retVal[key] = value\n",
                "    return retVal\n",
                "\n",
                "\n",
                "task = Task(Workflow())\n",
                "\n",
                "task.configure(continueOnError=True)\n",
                "task.configure(inputParamsJson='''{\n",
                "    \"aws_username\": \"iter_item\"\n",
                "    }''')\n",
                "task.configure(iterJson='''{\n",
                "    \"iter_enabled\": true,\n",
                "    \"iter_list_is_const\": false,\n",
                "    \"iter_list\": \"expiring_users\",\n",
                "    \"iter_parameter\": \"aws_username\"\n",
                "    }''')\n",
                "task.configure(outputName=\"new_access_keys\")\n",
                "\n",
                "task.configure(printOutput=True)\n",
                "(err, hdl, args) = task.validate(vars=vars())\n",
                "if err is None:\n",
                "    task.execute(aws_create_access_key, lego_printer=aws_create_access_key_printer, hdl=hdl, args=args)"
            ]
        },
        {
            "cell_type": "markdown",
            "id": "e6797aa7-a0c2-4842-8482-da22a5363fe8",
            "metadata": {
                "jupyter": {
                    "source_hidden": false
                },
                "name": "Step 3",
                "orderProperties": [],
                "tags": [],
                "title": "Step 3"
            },
            "source": [
                "<h3 id=\"Update-AWS-Access-Key\"><a id=\"4\" target=\"_self\" rel=\"nofollow\"></a>Update AWS Access Key</h3>\n",
                "<p>Using the AWS Update Access Key action we will update the status of the old Access Key to <strong>\"Inactive\"</strong>. This step is required to delete the old access key as one user cannot have two Access Keys.</p>\n",
                "<blockquote>\n",
                "<p>This action takes the following parameters: <code>aws_username</code>, <code>aws_access_key_id</code> and <code>status</code></p>\n",
                "</blockquote>"
            ]
        },
        {
            "cell_type": "code",
            "execution_count": 18,
            "id": "a287faeb-3673-41b5-89fd-f1c877b11925",
            "metadata": {
                "accessType": "ACCESS_TYPE_UNSPECIFIED",
                "actionBashCommand": false,
                "actionNeedsCredential": true,
                "actionRequiredLinesInCode": [],
                "actionSupportsIteration": true,
                "actionSupportsPoll": true,
                "action_modified": false,
                "action_uuid": "0297f6c80f0416d10484fa2593510515eef2900add97924e3e73beaab5fea819",
                "continueOnError": false,
                "createTime": "1970-01-01T00:00:00Z",
                "currentVersion": "0.1.0",
                "description": "Update status of the Access Key",
                "execution_data": {
                    "last_date_success_run_cell": "2023-01-12T06:11:21.399Z"
                },
                "id": 220,
                "index": 220,
                "inputData": [
                    {
                        "aws_access_key_id": {
                            "constant": false,
                            "value": "\"iter.get(\\\\\"access_key_id\\\\\")\""
                        },
                        "aws_username": {
                            "constant": false,
                            "value": "\"iter.get(\\\\\"username\\\\\")\""
                        },
                        "status": {
                            "constant": true,
                            "value": "Inactive"
                        }
                    }
                ],
                "inputschema": [
                    {
                        "definitions": {
                            "AccessKeyStatus": {
                                "description": "An enumeration.",
                                "enum": [
                                    "Active",
                                    "Inactive"
                                ],
                                "title": "AccessKeyStatus",
                                "type": "string"
                            }
                        },
                        "properties": {
                            "aws_access_key_id": {
                                "description": "Old Access Key ID of the User",
                                "title": "Access Key ID",
                                "type": "string"
                            },
                            "aws_username": {
                                "description": "Username of the IAM User",
                                "title": "Username",
                                "type": "string"
                            },
                            "status": {
                                "allOf": [
                                    {
                                        "$ref": "#/definitions/AccessKeyStatus"
                                    }
                                ],
                                "description": "Status to set for the Access Key",
                                "title": "Status"
                            }
                        },
                        "required": [
                            "aws_username",
                            "aws_access_key_id",
                            "status"
                        ],
                        "title": "aws_update_access_key",
                        "type": "object"
                    }
                ],
                "iterData": [
                    {
                        "iter_enabled": true,
                        "iter_item": {
                            "aws_access_key_id": "access_key_id",
                            "aws_username": "username"
                        },
                        "iter_list": {
                            "constant": false,
                            "objectItems": true,
                            "value": "expiring_users_obj"
                        }
                    }
                ],
                "jupyter": {
                    "source_hidden": true
                },
                "legotype": "LEGO_TYPE_AWS",
                "name": "AWS Update Access Key",
                "nouns": [],
                "orderProperties": [
                    "aws_username",
                    "aws_access_key_id",
                    "status"
                ],
                "output": {
                    "type": ""
                },
                "printOutput": true,
                "tags": [
                    "aws_update_access_key"
                ],
                "verbs": []
            },
            "outputs": [],
            "source": [
                "##\n",
                "# Copyright (c) 2021 unSkript, Inc\n",
                "# All rights reserved.\n",
                "##\n",
                "from pydantic import BaseModel, Field, SecretStr\n",
                "from typing import Dict,List\n",
                "from unskript.enums.aws_access_key_enums import AccessKeyStatus\n",
                "import pprint\n",
                "\n",
                "\n",
                "from beartype import beartype\n",
                "@beartype\n",
                "def aws_update_access_key_printer(output):\n",
                "    if output is None:\n",
                "        return\n",
                "    pprint.pprint(\"Access Key status successfully changed\")\n",
                "    pprint.pprint(output)\n",
                "\n",
                "\n",
                "@beartype\n",
                "def aws_update_access_key(\n",
                "    handle,\n",
                "    aws_username: str,\n",
                "    aws_access_key_id: str,\n",
                "    status: AccessKeyStatus\n",
                ") -> Dict:\n",
                "    \"\"\"aws_update_access_key updates the status of an access key to Inactive/Active\n",
                "        :type handle: object\n",
                "        :param handle: Object returned from Task Validate\n",
                "\n",
                "        :type aws_username: str\n",
                "        :param aws_username: Username of the IAM user to be looked up\n",
                "\n",
                "        :type aws_access_key_id: str\n",
                "        :param aws_access_key_id: Old Access Key ID of the user of which the status needs to be updated\n",
                "\n",
                "        :type status: AccessKeyStatus\n",
                "        :param status: Status to set for the Access Key\n",
                "\n",
                "        :rtype: Result Dictionary of result\n",
                "    \"\"\"\n",
                "    iamClient = handle.client('iam')\n",
                "    result = iamClient.update_access_key(UserName=aws_username, AccessKeyId=aws_access_key_id, Status=status)\n",
                "    retVal = {}\n",
                "    temp_list = []\n",
                "    for key, value in result.items():\n",
                "        if key not in temp_list:\n",
                "            temp_list.append(key)\n",
                "            retVal[key] = value\n",
                "    return retVal\n",
                "\n",
                "\n",
                "task = Task(Workflow())\n",
                "task.configure(continueOnError=False)\n",
                "task.configure(inputParamsJson='''{\n",
                "    \"status\": \"AccessKeyStatus.Inactive\",\n",
                "    \"aws_username\": \"iter.get(\\\\\"username\\\\\")\",\n",
                "    \"aws_access_key_id\": \"iter.get(\\\\\"access_key_id\\\\\")\"\n",
                "    }''')\n",
                "task.configure(iterJson='''{\n",
                "    \"iter_enabled\": true,\n",
                "    \"iter_list_is_const\": false,\n",
                "    \"iter_list\": \"expiring_users_obj\",\n",
                "    \"iter_parameter\": [\"aws_username\",\"aws_access_key_id\"]\n",
                "    }''')\n",

                "\n",
                "task.configure(printOutput=True)\n",
                "(err, hdl, args) = task.validate(vars=vars())\n",
                "if err is None:\n",
                "    task.execute(aws_update_access_key, lego_printer=aws_update_access_key_printer, hdl=hdl, args=args)"
            ]
        },
        {
            "cell_type": "markdown",
            "id": "aa81394c-749e-4b32-bf6c-a866369f2cf5",
            "metadata": {
                "jupyter": {
                    "source_hidden": false
                },
                "name": "Step 4",
                "orderProperties": [],
                "tags": [],
                "title": "Step 4"
            },
            "source": [
                "<h3 id=\"Delete-AWS-Access-Key\"><a id=\"5\" target=\"_self\" rel=\"nofollow\"></a>Delete AWS Access Key</h3>\n",
                "<p>Finally, we will delete the the old (Inactive) Access Key for the IAM Users</p>\n",
                "<blockquote>\n",
                "<p>This action takes the following parameters: <code>aws_username</code> and <code>aws_access_key_id</code></p>\n",
                "</blockquote>"
            ]
        },
        {
            "cell_type": "code",
            "execution_count": 19,
            "id": "87a4e6ad-842b-4c21-8ed5-8bd0eb583778",
            "metadata": {
                "accessType": "ACCESS_TYPE_UNSPECIFIED",
                "actionBashCommand": false,
                "actionNeedsCredential": true,
                "actionRequiredLinesInCode": [],
                "actionSupportsIteration": true,
                "actionSupportsPoll": true,
                "action_modified": false,
                "action_uuid": "4ce21d2ac0824cafdddbb4245ffcb1d4c34786ed68c075fb1041eb8c7e22f01d",
                "continueOnError": true,
                "createTime": "1970-01-01T00:00:00Z",
                "currentVersion": "0.1.0",
                "description": "Delete an Access Key for a User",
                "execution_data": {
                    "last_date_success_run_cell": "2023-01-12T06:11:31.954Z"
                },
                "id": 203,
                "index": 203,
                "inputData": [
                    {
                        "aws_access_key_id": {
                            "constant": false,
                            "value": "\"iter.get(\\\\\"access_key_id\\\\\")\""
                        },
                        "aws_username": {
                            "constant": false,
                            "value": "\"iter.get(\\\\\"username\\\\\")\""
                        }
                    }
                ],
                "inputschema": [
                    {
                        "properties": {
                            "aws_access_key_id": {
                                "description": "Old Access Key ID of the User",
                                "title": "Access Key ID",
                                "type": "string"
                            },
                            "aws_username": {
                                "description": "Username of the IAM User",
                                "title": "Username",
                                "type": "string"
                            }
                        },
                        "required": [
                            "aws_username",
                            "aws_access_key_id"
                        ],
                        "title": "aws_delete_access_key",
                        "type": "object"
                    }
                ],
                "iterData": [
                    {
                        "iter_enabled": true,
                        "iter_item": {
                            "aws_access_key_id": "access_key_id",
                            "aws_username": "username"
                        },
                        "iter_list": {
                            "constant": false,
                            "objectItems": true,
                            "value": "expiring_users_obj"
                        }
                    }
                ],
                "jupyter": {
                    "source_hidden": true
                },
                "legotype": "LEGO_TYPE_AWS",
                "name": "AWS Delete Access Key",
                "nouns": [],
                "orderProperties": [
                    "aws_username",
                    "aws_access_key_id"
                ],
                "output": {
                    "type": ""
                },
                "printOutput": true,
                "tags": [
                    "aws_delete_access_key"
                ],
                "verbs": []
            },
            "outputs": [],
            "source": [
                "##\n",
                "# Copyright (c) 2021 unSkript, Inc\n",
                "# All rights reserved.\n",
                "##\n",
                "from pydantic import BaseModel, Field, SecretStr\n",
                "from typing import Dict,List\n",
                "import pprint\n",
                "\n",
                "\n",
                "from beartype import beartype\n",
                "@beartype\n",
                "def aws_delete_access_key_printer(output):\n",
                "    if output is None:\n",
                "        return\n",
                "    pprint.pprint(\"Access Key successfully deleted\")\n",
                "    pprint.pprint(output)\n",
                "\n",
                "\n",
                "@beartype\n",
                "def aws_delete_access_key(\n",
                "    handle,\n",
                "    aws_username: str,\n",
                "    aws_access_key_id: str,\n",
                ") -> Dict:\n",
                "    \"\"\"aws_delete_access_key deleted the given access key.\n",
                "        :type handle: object\n",
                "        :param handle: Object returned from Task Validate\n",
                "\n",
                "        :type aws_username: str\n",
                "        :param aws_username: Username of the IAM user to be looked up\n",
                "\n",
                "        :type aws_access_key_id: str\n",
                "        :param aws_access_key_id: Old Access Key ID of the user which needs to be deleted\n",
                "\n",
                "        :rtype: Result Status Dictionary of result\n",
                "    \"\"\"\n",
                "    iamClient = handle.client('iam')\n",
                "    result = iamClient.delete_access_key(UserName=aws_username, AccessKeyId=aws_access_key_id)\n",
                "    retVal = {}\n",
                "    temp_list = []\n",
                "    for key, value in result.items():\n",
                "        if key not in temp_list:\n",
                "            temp_list.append(key)\n",
                "            retVal[key] = value\n",
                "    return retVal\n",
                "\n",
                "\n",
                "task = Task(Workflow())\n",
                "task.configure(continueOnError=True)\n",
                "\n",
                "task.configure(inputParamsJson='''{\n",
                "    \"aws_username\": \"iter.get(\\\\\"username\\\\\")\",\n",
                "    \"aws_access_key_id\": \"iter.get(\\\\\"access_key_id\\\\\")\"\n",
                "    }''')\n",
                "task.configure(iterJson='''{\n",
                "    \"iter_enabled\": true,\n",
                "    \"iter_list_is_const\": false,\n",
                "    \"iter_list\": \"expiring_users_obj\",\n",
                "    \"iter_parameter\": [\"aws_username\",\"aws_access_key_id\"]\n",
                "    }''')\n",
                "task.configure(printOutput=True)\n",
                "(err, hdl, args) = task.validate(vars=vars())\n",
                "if err is None:\n",
                "    task.execute(aws_delete_access_key, lego_printer=aws_delete_access_key_printer, hdl=hdl, args=args)"
            ]
        },
        {
            "cell_type": "markdown",
            "id": "66c429d6",
            "metadata": {},
            "source": [
                "<h3>Conclusion</h3>\n",
                "<p>In this Runbook, we were able to perform AWS Access Key rotation for IAM users whose Access Keys were expiring by using unSkript's AWS actions. To view the full platform capabilities of unSkript please visit <a href=\"https://us.app.unskript.io\">us.app.unskript.io</a></p>"
            ]
        }
    ],
    "metadata": {
        "execution_data": {
            "environment_name": "SingleAMIInstance",
            "environment_type": "ENVIRONMENT_TYPE_AWS_EC2",
            "execution_id": "",
            "inputs_for_searched_lego": "",
            "notebook_id": "26f455e6-e4c0-444f-817f-dcc1e114a711.ipynb",
            "parameters": [
                "threshold_days"
            ],
            "proxy_id": "1b032d60-0671-498f-a117-6c2f355648fe",
            "runbook_name": "AWS Access Key Rotation",
            "search_string": "",
            "show_tool_tip": false,
            "tenant_id": "117718cf-b601-4a00-9164-3e4311468e45",
            "tenant_url": "https://tenant-jayasimha.dev.unskript.io",
            "user_email_id": "jayasimha@unskript.com",
            "workflow_id": "3db74214-921b-472d-8df5-540bf7de622a"
        },
        "kernelspec": {
            "display_name": "unSkript (Build: 810)",
            "name": "python_kubernetes"
        },
        "language_info": {
            "file_extension": ".py",
            "mimetype": "text/x-python",
            "name": "python",
            "pygments_lexer": "ipython3"
        },
        "parameterSchema": {
            "properties": {
                "threshold_days": {
                    "description": "Threshold number of days to check if an access key has expired. Eg: 45",
                    "title": "threshold_days",
                    "type": "number"
                }
            },
            "required": [
                "threshold_days"
            ],
            "title": "Schema",
            "type": "object"
        },
        "parameterValues": {
            "threshold_days": null
        }
    },
    "nbformat": 4,
    "nbformat_minor": 5
}
