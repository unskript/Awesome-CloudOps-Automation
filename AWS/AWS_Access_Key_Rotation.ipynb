{
 "cells": [
  {
   "cell_type": "markdown",
   "id": "8ca4bd16-bef4-4d7c-96eb-59eeb2315864",
   "metadata": {
    "jupyter": {
     "source_hidden": false
    },
    "name": "Steps Overview",
    "orderProperties": [],
    "tags": [],
    "title": "Steps Overview"
   },
   "source": [
    "<center><img src=\"https://storage.googleapis.com/unskript-website/assets/favicon.png\" alt=\"unSkript.com\" width=\"100\" height=\"100\">\n",
    "<h1 id=\"unSkript-Runbooks\">unSkript Runbooks<a class=\"jp-InternalAnchorLink\" href=\"#unSkript-Runbooks\" target=\"_self\">&para;</a></h1>\n",
    "<div class=\"alert alert-block alert-success\">\n",
    "<h3 id=\"Objective\">Objective<a class=\"jp-InternalAnchorLink\" href=\"#Objective\" target=\"_self\">&para;</a></h3>\n",
    "<br><strong style=\"color: #000000;\"><em>Check and Rotate Expiring Access Keys for all IAM Users </em></strong></div>\n",
    "</center><center>\n",
    "<h2 id=\"AWS-Access-Key-Rotation\"><u>AWS Access Key Rotation</u><a class=\"jp-InternalAnchorLink\" href=\"#AWS-Access-Key-Rotation\" target=\"_self\">&para;</a></h2>\n",
    "</center>\n",
    "<h1 id=\"Steps-Overview\">Steps Overview<a class=\"jp-InternalAnchorLink\" href=\"#Steps-Overview\" target=\"_self\">&para;</a></h1>\n",
    "<p>1) <a href=\"#2\" target=\"_self\" rel=\"noopener\">List all Expiring Access Key</a><br>2)&nbsp;<a href=\"#3\" target=\"_self\" rel=\"noopener\">Create AWS Access Key</a><br>3) <a href=\"#4\" target=\"_self\" rel=\"noopener\">Update AWS Access Key</a><br>4)&nbsp;<a href=\"#5\" target=\"_self\" rel=\"noopener\">Delete AWS Access Key</a></p>"
   ]
  },
  {
   "cell_type": "markdown",
   "id": "c1ec70e9-0b9c-4c05-b5e0-5ebfd4263c4f",
   "metadata": {
    "jupyter": {
     "source_hidden": false
    },
    "name": "Step 1",
    "orderProperties": [],
    "tags": [],
    "title": "Step 1"
   },
   "source": [
    "<h3 id=\"List-all-Expiring-Access-Keys\"><a id=\"2\" target=\"_self\" rel=\"nofollow\"></a>List all Expiring Access Keys<a class=\"jp-InternalAnchorLink\" href=\"#List-all-Expiring-Access-Keys\" target=\"_self\">&para;</a></h3>\n",
    "<p>Using unSkript's AWS List Expiring Access Keys action we will list those users whose Access Keys past the given threshold number of days i.e. expiring.</p>\n",
    "<blockquote>\n",
    "<p>Action takes the following parameters: <code>threshold_days</code></p>\n",
    "</blockquote>\n",
    "<blockquote>\n",
    "<p>Action captures the following output: <code>expiring_users</code></p>\n",
    "</blockquote>"
   ]
  },
  {
   "cell_type": "code",
   "execution_count": null,
   "id": "dae47429-ca5a-4834-bb46-ac9b2a37527f",
   "metadata": {
    "actionBashCommand": false,
    "actionCategories": [
     "CATEGORY_TYPE_CLOUDOPS",
     "CATEGORY_TYPE_DEVOPS",
     "CATEGORY_TYPE_SRE",
     "CATEGORY_TYPE_AWS",
     "CATEGORY_TYPE_AWS_IAM"
    ],
    "actionDescription": "List Expiring IAM User Access Keys",
    "actionEntryFunction": "aws_list_expiring_access_keys",
    "actionIsCheck": true,
    "actionIsRemediation": false,
    "actionNeedsCredential": true,
    "actionNextHop": [
     "924025582b6c1b3ea3c8c834f1ee430a2df8bd42c5119191cb5c5da3121f1d18"
    ],
    "actionNextHopParameterMapping": {},
    "actionNouns": [
     "expiring",
     "access",
     "aws"
    ],
    "actionOutputType": "ACTION_OUTPUT_TYPE_LIST",
    "actionSupportsIteration": true,
    "actionSupportsPoll": true,
    "actionTitle": "AWS List Expiring Access Keys",
    "actionType": "LEGO_TYPE_AWS",
    "actionVerbs": [
     "list"
    ],
    "actionVersion": "1.0.0",
    "action_modified": false,
    "action_uuid": "c3a4e091801f8197429f073a0612e2cc373b6630ce4426d73617b8e101bc5d6a",
    "collapsed": true,
    "continueOnError": false,
    "credentialsJson": {},
    "description": "List Expiring IAM User Access Keys",
    "id": 1,
    "index": 1,
    "inputData": [
     {
      "threshold_days": {
       "constant": false,
       "value": "int(threshold_days)"
      }
     }
    ],
    "inputschema": [
     {
      "properties": {
       "threshold_days": {
        "default": 90,
        "description": "Threshold number(in days) to check for expiry. Eg: 30",
        "title": "Threshold Days",
        "type": "integer"
       }
      },
      "required": [],
      "title": "aws_list_expiring_access_keys",
      "type": "object"
     }
    ],
    "jupyter": {
     "outputs_hidden": true,
     "source_hidden": true
    },
    "language": "python",
    "legotype": "LEGO_TYPE_AWS",
    "name": "AWS List Expiring Access Keys",
    "orderProperties": [
     "threshold_days"
    ],
    "outputParams": {
     "output_name": "expiring_users",
     "output_name_enabled": true,
     "output_runbook_enabled": false,
     "output_runbook_name": ""
    },
    "printOutput": true,
    "tags": [
     "aws_list_expiring_access_keys"
    ],
    "uuid": "c3a4e091801f8197429f073a0612e2cc373b6630ce4426d73617b8e101bc5d6a",
    "version": "1.0.0"
   },
   "outputs": [],
   "source": [
    "# Copyright (c) 2021 unSkript, Inc\n",
    "# All rights reserved.\n",
    "##\n",
    "import pprint\n",
    "from typing import Tuple\n",
    "import datetime\n",
    "import dateutil\n",
    "from pydantic import BaseModel, Field\n",
    "from unskript.legos.aws.aws_list_all_iam_users.aws_list_all_iam_users import aws_list_all_iam_users\n",
    "\n",
    "from beartype import beartype\n",
    "@beartype\n",
    "def aws_list_expiring_access_keys_printer(output):\n",
    "    if output is None:\n",
    "        return\n",
    "    pprint.pprint(output)\n",
    "\n",
    "@beartype\n",
    "def aws_list_expiring_access_keys(handle, threshold_days: int = 90)-> Tuple:\n",
    "    \"\"\"aws_list_expiring_access_keys returns all the ACM issued certificates which are\n",
    "       about to expire given a threshold number of days\n",
    "\n",
    "        :type handle: object\n",
    "        :param handle: Object returned from Task Validate\n",
    "\n",
    "        :type threshold_days: int\n",
    "        :param threshold_days: Threshold number of days to check for expiry. Eg: 30 -lists\n",
    "        all access Keys which are expiring within 30 days\n",
    "\n",
    "        :rtype: Status, List of expiring access keys and Error if any\n",
    "    \"\"\"\n",
    "    result =[]\n",
    "    all_users=[]\n",
    "    try:\n",
    "        all_users = aws_list_all_iam_users(handle=handle)\n",
    "    except Exception as error:\n",
    "        raise error\n",
    "\n",
    "    for each_user in all_users:\n",
    "        try:\n",
    "            iamClient = handle.client('iam')\n",
    "            final_result={}\n",
    "            response = iamClient.list_access_keys(UserName=each_user)\n",
    "            for x in response[\"AccessKeyMetadata\"]:\n",
    "                if len(response[\"AccessKeyMetadata\"])!= 0:\n",
    "                    create_date = x[\"CreateDate\"]\n",
    "                    right_now = datetime.datetime.now(dateutil.tz.tzlocal())\n",
    "                    diff = right_now-create_date\n",
    "                    days_remaining = diff.days\n",
    "                    if days_remaining > threshold_days:\n",
    "                        final_result[\"username\"] = x[\"UserName\"]\n",
    "                        final_result[\"access_key_id\"] = x[\"AccessKeyId\"]\n",
    "            if len(final_result)!=0:\n",
    "                result.append(final_result)\n",
    "        except Exception as e:\n",
    "            raise e\n",
    "\n",
    "    if len(result) != 0:\n",
    "        return (False, result)\n",
    "    return (True, None)\n",
    "\n",
    "\n",
    "task = Task(Workflow())\n",
    "task.configure(inputParamsJson='''{\n",
    "    \"threshold_days\": \"int(threshold_days)\"\n",
    "    }''')\n",
    "task.configure(outputName=\"expiring_users\")\n",
    "\n",
    "task.configure(printOutput=True)\n",
    "(err, hdl, args) = task.validate(vars=vars())\n",
    "if err is None:\n",
    "    task.execute(aws_list_expiring_access_keys, lego_printer=aws_list_expiring_access_keys_printer, hdl=hdl, args=args)"
   ]
  },
  {
   "cell_type": "markdown",
   "id": "af12fb80-4786-4dc6-b1b9-c7fdc372563e",
   "metadata": {
    "jupyter": {
     "source_hidden": false
    },
    "name": "Step 1A",
    "orderProperties": [],
    "tags": [],
    "title": "Step 1A"
   },
   "source": [
    "<h3 id=\"List-of-Expiring-Users\">List of Expiring Users</h3>\n",
    "<p>This action lists the usernames of expiring Access Keys using the output from Step 2.</p>"
   ]
  },
  {
   "cell_type": "code",
   "execution_count": 21,
   "id": "3828def9-f4b1-4e75-9f1b-6b70fed35ae8",
   "metadata": {
    "collapsed": true,
    "credentialsJson": {},
    "customAction": true,
    "execution_data": {
     "last_date_success_run_cell": "2023-02-08T10:36:03.614Z"
    },
    "jupyter": {
     "outputs_hidden": true,
     "source_hidden": true
    },
    "name": "Create List of Object of Expiring Users",
    "orderProperties": [],
    "tags": [],
    "title": "Create List of Object of Expiring Users"
   },
   "outputs": [],
   "source": [
    "all_expiring_users = []\n",
    "if expiring_users[0] == False:\n",
    "    if len(expiring_users[1])!=0:\n",
    "        all_expiring_users=expiring_users[1]\n",
    "print(all_expiring_users)"
   ]
  },
  {
   "cell_type": "markdown",
   "id": "e1956e5a-c097-4dd7-a0da-ae45fc98c4db",
   "metadata": {
    "jupyter": {
     "source_hidden": false
    },
    "name": "Step 1B",
    "orderProperties": [],
    "tags": [],
    "title": "Step 1B"
   },
   "source": [
    "<h3 id=\"List-of-Expiring-Users-and-Access-Keys\"><a id=\"3\" target=\"_self\" rel=\"nofollow\"></a>List of Expiring Users and Access Keys</h3>\n",
    "<p>This action simply creates another list containing a dictionary of the user and their old access key. The output from this acion is required for Step 4 and Step 5.</p>"
   ]
  },
  {
   "cell_type": "code",
   "execution_count": 22,
   "id": "a407845b-41f9-4ca5-9387-a2cfb0e6e46f",
   "metadata": {
    "collapsed": true,
    "credentialsJson": {},
    "customAction": true,
    "execution_data": {
     "last_date_success_run_cell": "2023-02-08T10:36:12.088Z"
    },
    "jupyter": {
     "outputs_hidden": true,
     "source_hidden": true
    },
    "name": "Create List of Expiring Users",
    "orderProperties": [],
    "tags": [],
    "title": "Create List of Expiring Users"
   },
   "outputs": [],
   "source": [
    "expiring_usernames = []\n",
    "for each_user in all_expiring_users:\n",
    "    for k,v in each_user.items():\n",
    "        if k=='username':\n",
    "            expiring_usernames.append(v)\n",
    "print(expiring_usernames)\n",
    "task.configure(outputName=\"expiring_usernames\")"
   ]
  },
  {
   "cell_type": "markdown",
   "id": "b3a132e5-42c9-46a2-9788-9f8648dc71f6",
   "metadata": {
    "jupyter": {
     "source_hidden": false
    },
    "name": "Step 2",
    "orderProperties": [],
    "tags": [],
    "title": "Step 2"
   },
   "source": [
    "<h3 id=\"Create-AWS-Access-Keys\"><a id=\"3\" target=\"_self\" rel=\"nofollow\"></a>Create AWS Access Keys</h3>\n",
    "<p>Using unSkript's AWS Create Access Key action we will create a new Access Key for the users from Step 2.</p>\n",
    "<blockquote>\n",
    "<p>Action takes the following parameters: <code>aws_username</code></p>\n",
    "</blockquote>"
   ]
  },
  {
   "cell_type": "code",
   "execution_count": null,
   "id": "f75a8726-d158-4afd-a667-0abd6f9717dc",
   "metadata": {
    "actionBashCommand": false,
    "actionCategories": [
     "CATEGORY_TYPE_SECOPS",
     "CATEGORY_TYPE_SRE",
     "CATEGORY_TYPE_AWS",
     "CATEGORY_TYPE_AWS_IAM",
     "CATEGORY_TYPE_IAM"
    ],
    "actionDescription": "Create a new Access Key for the User",
    "actionEntryFunction": "aws_create_access_key",
    "actionIsCheck": false,
    "actionIsRemediation": true,
    "actionNeedsCredential": true,
    "actionNextHop": null,
    "actionNextHopParameterMapping": null,
    "actionNouns": null,
    "actionOutputType": "ACTION_OUTPUT_TYPE_DICT",
    "actionSupportsIteration": true,
    "actionSupportsPoll": true,
    "actionTitle": "AWS Create Access Key",
    "actionType": "LEGO_TYPE_AWS",
    "actionVerbs": null,
    "actionVersion": "1.0.0",
    "action_modified": false,
    "action_uuid": "492b9b6807e5254512715555e3ec52a97e006c04a28511710e5bc1b0c45ffdd7",
    "collapsed": true,
    "condition_enabled": true,
    "continueOnError": true,
    "credentialsJson": {},
    "description": "Create a new Access Key for the User",
    "id": 1,
    "index": 1,
    "inputData": [
     {
      "aws_username": {
       "constant": false,
       "value": "iter_item"
      }
     }
    ],
    "inputschema": [
     {
      "properties": {
       "aws_username": {
        "description": "Username of the IAM User",
        "title": "Username",
        "type": "string"
       }
      },
      "required": [
       "aws_username"
      ],
      "title": "aws_create_access_key",
      "type": "object"
     }
    ],
    "iterData": [
     {
      "iter_enabled": true,
      "iter_item": "aws_username",
      "iter_list": {
       "constant": false,
       "objectItems": false,
       "value": "expiring_usernames"
      }
     }
    ],
    "jupyter": {
     "outputs_hidden": true,
     "source_hidden": true
    },
    "language": "python",
    "legotype": "LEGO_TYPE_AWS",
    "name": "AWS Create Access Key",
    "orderProperties": [
     "aws_username"
    ],
    "outputParams": {
     "output_name": "new_access_keys",
     "output_name_enabled": true,
     "output_runbook_enabled": false,
     "output_runbook_name": ""
    },
    "printOutput": true,
    "startcondition": "len(expiring_usernames)!=0",
    "tags": [
     "aws_create_access_key"
    ],
    "uuid": "492b9b6807e5254512715555e3ec52a97e006c04a28511710e5bc1b0c45ffdd7",
    "version": "1.0.0"
   },
   "outputs": [],
   "source": [
    "##\n",
    "# Copyright (c) 2021 unSkript, Inc\n",
    "# All rights reserved.\n",
    "##\n",
    "import pprint\n",
    "from typing import Dict\n",
    "from pydantic import BaseModel, Field\n",
    "\n",
    "\n",
    "from beartype import beartype\n",
    "@beartype\n",
    "def aws_create_access_key_printer(output):\n",
    "    if output is None:\n",
    "        return\n",
    "    pprint.pprint(output)\n",
    "\n",
    "\n",
    "@beartype\n",
    "def aws_create_access_key(\n",
    "    handle,\n",
    "    aws_username: str\n",
    ") -> Dict:\n",
    "    \"\"\"aws_create_access_key creates a new access key for the given user.\n",
    "        :type handle: object\n",
    "        :param handle: Object returned from Task Validate\n",
    "\n",
    "        :type aws_username: str\n",
    "        :param aws_username: Username of the IAM user to be looked up\n",
    "\n",
    "        :rtype: Result Dictionary of result\n",
    "    \"\"\"\n",
    "    iamClient = handle.client('iam')\n",
    "    result = iamClient.create_access_key(UserName=aws_username)\n",
    "    retVal = {}\n",
    "    temp_list = []\n",
    "    for key, value in result.items():\n",
    "        if key not in temp_list:\n",
    "            temp_list.append(key)\n",
    "            retVal[key] = value\n",
    "    return retVal\n",
    "\n",
    "\n",
    "task = Task(Workflow())\n",
    "task.configure(continueOnError=True)\n",
    "task.configure(inputParamsJson='''{\n",
    "    \"aws_username\": \"iter_item\"\n",
    "    }''')\n",
    "task.configure(iterJson='''{\n",
    "    \"iter_enabled\": true,\n",
    "    \"iter_list_is_const\": false,\n",
    "    \"iter_list\": \"expiring_usernames\",\n",
    "    \"iter_parameter\": \"aws_username\"\n",
    "    }''')\n",
    "task.configure(conditionsJson='''{\n",
    "    \"condition_enabled\": true,\n",
    "    \"condition_cfg\": \"len(expiring_usernames)!=0\",\n",
    "    \"condition_result\": true\n",
    "    }''')\n",
    "\n",
    "task.configure(outputName=\"new_access_keys\")\n",
    "\n",
    "task.configure(printOutput=True)\n",
    "(err, hdl, args) = task.validate(vars=vars())\n",
    "if err is None:\n",
    "    task.execute(aws_create_access_key, lego_printer=aws_create_access_key_printer, hdl=hdl, args=args)"
   ]
  },
  {
   "cell_type": "markdown",
   "id": "e6797aa7-a0c2-4842-8482-da22a5363fe8",
   "metadata": {
    "jupyter": {
     "source_hidden": false
    },
    "name": "Step 3",
    "orderProperties": [],
    "tags": [],
    "title": "Step 3"
   },
   "source": [
    "<h3 id=\"Update-AWS-Access-Key\"><a id=\"4\" target=\"_self\" rel=\"nofollow\"></a>Update AWS Access Key</h3>\n",
    "<p>Using the AWS Update Access Key action we will update the status of the old Access Key to <strong>\"Inactive\"</strong>. This step is required to delete the old access key as one user cannot have two Access Keys.</p>\n",
    "<blockquote>\n",
    "<p>This action takes the following parameters: <code>aws_username</code>, <code>aws_access_key_id</code> and <code>status</code></p>\n",
    "</blockquote>"
   ]
  },
  {
   "cell_type": "code",
   "execution_count": null,
   "id": "aef7b261-1f5a-4402-ae02-22841fc4569b",
   "metadata": {
    "actionBashCommand": false,
    "actionCategories": [
     "CATEGORY_TYPE_DEVOPS",
     "CATEGORY_TYPE_SRE",
     "CATEGORY_TYPE_AWS",
     "CATEGORY_TYPE_AWS_IAM"
    ],
    "actionDescription": "Update status of the Access Key",
    "actionEntryFunction": "aws_update_access_key",
    "actionIsCheck": false,
    "actionIsRemediation": true,
    "actionNeedsCredential": true,
    "actionNextHop": null,
    "actionNextHopParameterMapping": null,
    "actionNouns": null,
    "actionOutputType": "ACTION_OUTPUT_TYPE_DICT",
    "actionSupportsIteration": true,
    "actionSupportsPoll": true,
    "actionTitle": "AWS Update Access Key",
    "actionType": "LEGO_TYPE_AWS",
    "actionVerbs": null,
    "actionVersion": "1.0.0",
    "action_modified": false,
    "action_uuid": "0297f6c80f0416d10484fa2593510515eef2900add97924e3e73beaab5fea819",
    "collapsed": true,
    "condition_enabled": true,
    "continueOnError": false,
    "credentialsJson": {},
    "description": "Update status of the Access Key",
    "id": 1,
    "index": 1,
    "inputData": [
     {
      "aws_access_key_id": {
       "constant": false,
       "value": "\"iter.get(\\\\\"access_key_id\\\\\")\""
      },
      "aws_username": {
       "constant": false,
       "value": "\"iter.get(\\\\\"username\\\\\")\""
      },
      "status": {
       "constant": true,
       "value": "Inactive"
      }
     }
    ],
    "inputschema": [
     {
      "definitions": {
       "AccessKeyStatus": {
        "description": "An enumeration.",
        "enum": [
         "Active",
         "Inactive"
        ],
        "title": "AccessKeyStatus",
        "type": "string"
       }
      },
      "properties": {
       "aws_access_key_id": {
        "description": "Old Access Key ID of the User",
        "title": "Access Key ID",
        "type": "string"
       },
       "aws_username": {
        "description": "Username of the IAM User",
        "title": "Username",
        "type": "string"
       },
       "status": {
        "allOf": [
         {
          "$ref": "#/definitions/AccessKeyStatus"
         }
        ],
        "description": "Status to set for the Access Key",
        "title": "Status",
        "type": "enum"
       }
      },
      "required": [
       "aws_username",
       "aws_access_key_id",
       "status"
      ],
      "title": "aws_update_access_key",
      "type": "object"
     }
    ],
    "iterData": [
     {
      "iter_enabled": true,
      "iter_item": {
       "aws_access_key_id": "access_key_id",
       "aws_username": "username"
      },
      "iter_list": {
       "constant": false,
       "objectItems": true,
       "value": "all_expiring_users"
      }
     }
    ],
    "jupyter": {
     "outputs_hidden": true,
     "source_hidden": true
    },
    "language": "python",
    "legotype": "LEGO_TYPE_AWS",
    "name": "AWS Update Access Key",
    "orderProperties": [
     "aws_username",
     "aws_access_key_id",
     "status"
    ],
    "printOutput": true,
    "startcondition": "len(all_expiring_users)!=0",
    "tags": [
     "aws_update_access_key"
    ],
    "uuid": "0297f6c80f0416d10484fa2593510515eef2900add97924e3e73beaab5fea819",
    "version": "1.0.0"
   },
   "outputs": [],
   "source": [
    "##\n",
    "# Copyright (c) 2021 unSkript, Inc\n",
    "# All rights reserved.\n",
    "##\n",
    "import pprint\n",
    "from typing import Dict\n",
    "from pydantic import BaseModel, Field\n",
    "from unskript.enums.aws_access_key_enums import AccessKeyStatus\n",
    "\n",
    "\n",
    "from beartype import beartype\n",
    "@beartype\n",
    "def aws_update_access_key_printer(output):\n",
    "    if output is None:\n",
    "        return\n",
    "    pprint.pprint(\"Access Key status successfully changed\")\n",
    "    pprint.pprint(output)\n",
    "\n",
    "\n",
    "@beartype\n",
    "def aws_update_access_key(\n",
    "    handle,\n",
    "    aws_username: str,\n",
    "    aws_access_key_id: str,\n",
    "    status: AccessKeyStatus\n",
    ") -> Dict:\n",
    "    \"\"\"aws_update_access_key updates the status of an access key to Inactive/Active\n",
    "        :type handle: object\n",
    "        :param handle: Object returned from Task Validate\n",
    "\n",
    "        :type aws_username: str\n",
    "        :param aws_username: Username of the IAM user to be looked up\n",
    "\n",
    "        :type aws_access_key_id: str\n",
    "        :param aws_access_key_id: Old Access Key ID of the user of which the status\n",
    "        needs to be updated\n",
    "\n",
    "        :type status: AccessKeyStatus\n",
    "        :param status: Status to set for the Access Key\n",
    "\n",
    "        :rtype: Result Dictionary of result\n",
    "    \"\"\"\n",
    "    iamClient = handle.client('iam')\n",
    "    result = iamClient.update_access_key(\n",
    "        UserName=aws_username,\n",
    "        AccessKeyId=aws_access_key_id,\n",
    "        Status=status\n",
    "        )\n",
    "    retVal = {}\n",
    "    temp_list = []\n",
    "    for key, value in result.items():\n",
    "        if key not in temp_list:\n",
    "            temp_list.append(key)\n",
    "            retVal[key] = value\n",
    "    return retVal\n",
    "\n",
    "\n",
    "task = Task(Workflow())\n",
    "task.configure(continueOnError=False)\n",
    "task.configure(inputParamsJson='''{\n",
    "    \"aws_username\": \"\\\\\"iter.get(\\\\\\\\\\\\\"username\\\\\\\\\\\\\")\\\\\"\",\n",
    "    \"aws_access_key_id\": \"\\\\\"iter.get(\\\\\\\\\\\\\"access_key_id\\\\\\\\\\\\\")\\\\\"\",\n",
    "    \"status\": \"AccessKeyStatus.Inactive\"\n",
    "    }''')\n",
    "task.configure(iterJson='''{\n",
    "    \"iter_enabled\": true,\n",
    "    \"iter_list_is_const\": false,\n",
    "    \"iter_list\": \"all_expiring_users\",\n",
    "    \"iter_parameter\": [\"aws_access_key_id\",\"aws_username\"]\n",
    "    }''')\n",
    "task.configure(conditionsJson='''{\n",
    "    \"condition_enabled\": true,\n",
    "    \"condition_cfg\": \"len(all_expiring_users)!=0\",\n",
    "    \"condition_result\": true\n",
    "    }''')\n",
    "\n",
    "task.configure(printOutput=True)\n",
    "(err, hdl, args) = task.validate(vars=vars())\n",
    "if err is None:\n",
    "    task.execute(aws_update_access_key, lego_printer=aws_update_access_key_printer, hdl=hdl, args=args)"
   ]
  },
  {
   "cell_type": "markdown",
   "id": "aa81394c-749e-4b32-bf6c-a866369f2cf5",
   "metadata": {
    "jupyter": {
     "source_hidden": false
    },
    "name": "Step 4",
    "orderProperties": [],
    "tags": [],
    "title": "Step 4"
   },
   "source": [
    "<h3 id=\"Delete-AWS-Access-Key\"><a id=\"5\" target=\"_self\" rel=\"nofollow\"></a>Delete AWS Access Key</h3>\n",
    "<p>Finally, we will delete the the old (Inactive) Access Key for the IAM Users</p>\n",
    "<blockquote>\n",
    "<p>This action takes the following parameters: <code>aws_username</code> and <code>aws_access_key_id</code></p>\n",
    "</blockquote>"
   ]
  },
  {
   "cell_type": "code",
   "execution_count": null,
   "id": "e12a42d2-1eb8-4737-b0d7-4dd80c688fca",
   "metadata": {
    "actionBashCommand": false,
    "actionCategories": [
     "CATEGORY_TYPE_SECOPS",
     "CATEGORY_TYPE_SRE",
     "CATEGORY_TYPE_AWS",
     "CATEGORY_TYPE_AWS_IAM",
     "CATEGORY_TYPE_IAM"
    ],
    "actionDescription": "Delete an Access Key for a User",
    "actionEntryFunction": "aws_delete_access_key",
    "actionIsCheck": false,
    "actionIsRemediation": true,
    "actionNeedsCredential": true,
    "actionNextHop": null,
    "actionNextHopParameterMapping": null,
    "actionNouns": null,
    "actionOutputType": "ACTION_OUTPUT_TYPE_DICT",
    "actionSupportsIteration": true,
    "actionSupportsPoll": true,
    "actionTitle": "AWS Delete Access Key",
    "actionType": "LEGO_TYPE_AWS",
    "actionVerbs": null,
    "actionVersion": "1.0.0",
    "action_modified": false,
    "action_uuid": "4ce21d2ac0824cafdddbb4245ffcb1d4c34786ed68c075fb1041eb8c7e22f01d",
    "collapsed": true,
    "condition_enabled": true,
    "continueOnError": true,
    "credentialsJson": {},
    "description": "Delete an Access Key for a User",
    "id": 1,
    "index": 1,
    "inputData": [
     {
      "aws_access_key_id": {
       "constant": false,
       "value": "\"iter.get(\\\\\"access_key_id\\\\\")\""
      },
      "aws_username": {
       "constant": false,
       "value": "\"iter.get(\\\\\"username\\\\\")\""
      }
     }
    ],
    "inputschema": [
     {
      "properties": {
       "aws_access_key_id": {
        "description": "Old Access Key ID of the User",
        "title": "Access Key ID",
        "type": "string"
       },
       "aws_username": {
        "description": "Username of the IAM User",
        "title": "Username",
        "type": "string"
       }
      },
      "required": [
       "aws_username",
       "aws_access_key_id"
      ],
      "title": "aws_delete_access_key",
      "type": "object"
     }
    ],
    "iterData": [
     {
      "iter_enabled": true,
      "iter_item": {
       "aws_access_key_id": "access_key_id",
       "aws_username": "username"
      },
      "iter_list": {
       "constant": false,
       "objectItems": true,
       "value": "all_expiring_users"
      }
     }
    ],
    "jupyter": {
     "outputs_hidden": true,
     "source_hidden": true
    },
    "language": "python",
    "legotype": "LEGO_TYPE_AWS",
    "name": "AWS Delete Access Key",
    "orderProperties": [
     "aws_username",
     "aws_access_key_id"
    ],
    "printOutput": true,
    "startcondition": "len(all_expiring_users)!=0",
    "tags": [
     "aws_delete_access_key"
    ],
    "uuid": "4ce21d2ac0824cafdddbb4245ffcb1d4c34786ed68c075fb1041eb8c7e22f01d",
    "version": "1.0.0"
   },
   "outputs": [],
   "source": [
    "##\n",
    "# Copyright (c) 2021 unSkript, Inc\n",
    "# All rights reserved.\n",
    "##\n",
    "import pprint\n",
    "from typing import Dict\n",
    "from pydantic import BaseModel, Field\n",
    "\n",
    "\n",
    "from beartype import beartype\n",
    "@beartype\n",
    "def aws_delete_access_key_printer(output):\n",
    "    if output is None:\n",
    "        return\n",
    "    pprint.pprint(\"Access Key successfully deleted\")\n",
    "    pprint.pprint(output)\n",
    "\n",
    "\n",
    "@beartype\n",
    "def aws_delete_access_key(\n",
    "    handle,\n",
    "    aws_username: str,\n",
    "    aws_access_key_id: str,\n",
    ") -> Dict:\n",
    "    \"\"\"aws_delete_access_key deleted the given access key.\n",
    "        :type handle: object\n",
    "        :param handle: Object returned from Task Validate\n",
    "\n",
    "        :type aws_username: str\n",
    "        :param aws_username: Username of the IAM user to be looked up\n",
    "\n",
    "        :type aws_access_key_id: str\n",
    "        :param aws_access_key_id: Old Access Key ID of the user which needs to be deleted\n",
    "\n",
    "        :rtype: Result Status Dictionary of result\n",
    "    \"\"\"\n",
    "    iamClient = handle.client('iam')\n",
    "    result = iamClient.delete_access_key(UserName=aws_username, AccessKeyId=aws_access_key_id)\n",
    "    retVal = {}\n",
    "    temp_list = []\n",
    "    for key, value in result.items():\n",
    "        if key not in temp_list:\n",
    "            temp_list.append(key)\n",
    "            retVal[key] = value\n",
    "    return retVal\n",
    "\n",
    "\n",
    "task = Task(Workflow())\n",
    "task.configure(continueOnError=True)\n",
    "task.configure(inputParamsJson='''{\n",
    "    \"aws_username\": \"iter.get(\\\\\"username\\\\\")\",\n",
    "    \"aws_access_key_id\": \"iter.get(\\\\\"access_key_id\\\\\")\"\n",
    "    }''')\n",
    "task.configure(iterJson='''{\n",
    "    \"iter_enabled\": true,\n",
    "    \"iter_list_is_const\": false,\n",
    "    \"iter_list\": \"all_expiring_users\",\n",
    "    \"iter_parameter\": [\"aws_username\",\"aws_access_key_id\"]\n",
    "    }''')\n",
    "task.configure(conditionsJson='''{\n",
    "    \"condition_enabled\": true,\n",
    "    \"condition_cfg\": \"len(all_expiring_users)!=0\",\n",
    "    \"condition_result\": true\n",
    "    }''')\n",
    "\n",
    "task.configure(printOutput=True)\n",
    "(err, hdl, args) = task.validate(vars=vars())\n",
    "if err is None:\n",
    "    task.execute(aws_delete_access_key, lego_printer=aws_delete_access_key_printer, hdl=hdl, args=args)"
   ]
  },
  {
   "cell_type": "markdown",
   "id": "d87557cc-2feb-47ce-89f2-5ee1d7375c88",
   "metadata": {
    "jupyter": {
     "source_hidden": false
    },
    "name": "Conclusion",
    "orderProperties": [],
    "tags": [],
    "title": "Conclusion"
   },
   "source": [
    "<h3 id=\"Conclusion\">Conclusion<a class=\"jp-InternalAnchorLink\" href=\"#Conclusion\" target=\"_self\">&para;</a></h3>\n",
    "<p>In this Runbook, we were able to perform AWS Access Key rotation for IAM users whose Access Keys were expiring by using unSkript's AWS actions. To view the full platform capabilities of unSkript please visit <a href=\"https://us.app.unskript.io\" target=\"_blank\" rel=\"noopener\">us.app.unskript.io</a></p>"
   ]
  }
 ],
 "metadata": {
  "execution_data": {
   "runbook_name": "AWS Access Key Rotation for IAM users",
   "parameters": [
    "threshold_days"
   ]
  },
  "kernelspec": {
   "display_name": "unSkript (Build: 1169)",
   "language": "python",
   "name": "python3"
  },
  "language_info": {
   "codemirror_mode": {
    "name": "ipython",
    "version": 3
   },
   "file_extension": ".py",
   "mimetype": "text/x-python",
   "name": "python",
   "nbconvert_exporter": "python",
   "pygments_lexer": "ipython3",
   "version": "3.10.6"
  },
  "parameterSchema": {
   "properties": {
    "threshold_days": {
     "description": "Threshold number of days to check if an access key has expired. Eg: 45",
     "title": "threshold_days",
     "type": "number"
    }
   },
   "required": [],
   "title": "Schema",
   "type": "object"
  },
  "vscode": {
   "interpreter": {
    "hash": "b0fa6594d8f4cbf19f97940f81e996739fb7646882a419484c72d19e05852a7e"
   }
  }
 },
 "nbformat": 4,
 "nbformat_minor": 5
}