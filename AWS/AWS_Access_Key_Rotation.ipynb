{
 "cells": [
  {
   "cell_type": "markdown",
   "id": "36b7b98d-9958-4402-b97c-3bdd6ee8fbbb",
   "metadata": {
    "jupyter": {
     "source_hidden": false
    },
    "name": "AWS Access Key Rotation",
    "orderProperties": [],
    "tags": [],
    "title": "AWS Access Key Rotation"
   },
   "source": [
    "<img src=\"https://unskript.com/assets/favicon.png\" alt=\"unSkript.com\" width=\"100\" height=\"100\"/> \n",
    "<h1> unSkript Runbooks </h1>\n",
    "<div class=\"alert alert-block alert-success\">\n",
    "    <b> This runbook demonstrates AWS Access Key Rotation for a user using unSkript legos.</b>\n",
    "</div>\n",
    "\n",
    "<br>\n",
    "\n",
    "<center><h2>AWS Access Key Rotation</h2></center>\n",
    "\n",
    "# Steps Overview\n",
    "    1) Create a new Access Key for the user\n",
    "    2) Update the status of the old Access Key to \"Inactive\"\n",
    "    3) Check if there are 2 Access Keys one with status \"Active\" and another with \"Inactive\"\n",
    "    4) Delete the Inactive Access Key"
   ]
  },
  {
   "cell_type": "markdown",
   "id": "401e3338-5281-44c1-ad61-4ae407846328",
   "metadata": {
    "jupyter": {
     "source_hidden": false
    },
    "name": "Create AWS Access Key",
    "orderProperties": [],
    "tags": [],
    "title": "Create AWS Access Key"
   },
   "source": [
    "In this lego we will create a new Access Key for the user as given in the input parameters"
   ]
  },
  {
   "cell_type": "code",
   "execution_count": null,
   "id": "781f7ce0-af8c-42bd-b001-f0d83d69cc8d",
   "metadata": {
    "local_metadata": {
     "accessType": "ACCESS_TYPE_UNSPECIFIED",
     "actionBashCommand": false,
     "actionNeedsCredential": true,
     "actionRequiredLinesInCode": [],
     "actionSupportsIteration": true,
     "actionSupportsPoll": true,
     "action_uuid": "946982596b57ff3bddc221df382ca4ef5a082fbe64a01a6d17a1e318d41bff05",
     "collapsed": true,
     "continueOnError": false,
     "createTime": "1970-01-01T00:00:00Z",
     "credentialsJson": {},
     "currentVersion": "0.1.0",
     "description": " Get a list of all AWS EC2 Instances from given ELB",
     "execution_data": {
      "last_date_success_run_cell": "2022-09-21T18:42:06.867Z"
     },
     "id": 163,
     "index": 163,
     "inputData": [
     ],
     "inputschema": [
      {
       "properties": {
        "aws_username": {
         "default": "",
         "description": "AWS User Name",
         "title": "aws_username",
         "type": "string"
        }
       },
       "required": [
        "elb_name",
        "region"
       ],
       "title": "aws_get_instances",
       "type": "object"
      }
     ],
     "jupyter": {
      "outputs_hidden": true,
      "source_hidden": true
     },
     "legotype": "LEGO_TYPE_AWS",
     "name": "Create AWS Access Key",
     "nouns": [
      "aws",
      "ec2",
      "instances"
     ],
     "orderProperties": [
      "aws_username"
     ],
     "output": {
      "type": ""
     },
     "tags": [
      "aws_get_instances"
     ],
     "title": "Create AWS Access Key",
     "verbs": [
      "list"
     ]
    },
    "remote_metadata": {
     "accessType": "ACCESS_TYPE_UNSPECIFIED",
     "actionBashCommand": false,
     "actionNeedsCredential": true,
     "actionRequiredLinesInCode": [],
     "actionSupportsIteration": true,
     "actionSupportsPoll": true,
     "action_uuid": "946982596b57ff3bddc221df382ca4ef5a082fbe64a01a6d17a1e318d41bff05",
     "continueOnError": false,
     "createTime": "1970-01-01T00:00:00Z",
     "credentialsJson": {},
     "currentVersion": "0.1.0",
     "description": " Get a list of all AWS EC2 Instances from given ELB",
     "execution_data": {
      "last_date_success_run_cell": "2022-09-13T08:46:08.531Z"
     },
     "id": 163,
     "index": 163,
     "inputData": [
     ],
     "inputschema": [
      {
       "properties": {
        "aws_username": {
         "default": "",
         "description": "AWS User Name",
         "title": "aws_username",
         "type": "string"
        }
       },
       "required": [
        "elb_name",
        "region"
       ],
       "title": "aws_get_instances",
       "type": "object"
      }
     ],
     "jupyter": {
      "source_hidden": true
     },
     "legotype": "LEGO_TYPE_AWS",
     "name": "Create AWS Access Key",
     "nouns": [
      "aws",
      "ec2",
      "instances"
     ],
     "orderProperties": [
      "aws_username"
     ],
     "output": {
      "type": ""
     },
     "tags": [
      "aws_get_instances"
     ],
     "title": "Create AWS Access Key",
     "verbs": [
      "list"
     ]
    }
   },
   "outputs": [],
   "source": [
    "##\n",
    "# Copyright (c) 2021 unSkript, Inc\n",
    "# All rights reserved.\n",
    "##\n",
    "from pydantic import BaseModel, Field\n",
    "import pandas as pd\n",
    "from typing import List,Dict\n",
    "import pprint\n",
    "\n",
    "\n",
    "from beartype import beartype\n",
    "@beartype\n",
    "def aws_create_access_key_printer(output):\n",
    "    if output is None:\n",
    "        return\n",
    "    pprint.pprint(output)\n",
    "\n",
    "\n",
    "@beartype\n",
    "def aws_create_access_key(\n",
    "    handle,\n",
    "    aws_username: str\n",
    ") -> Dict:\n",
    "    \"\"\"aws_check_ssl_certificate_expiry checks the expiry date of an ACM SSL certificate .\n",
    "\n",
    "            :type handle: object\n",
    "            :param handle: Object returned from Task Validate\n",
    "\n",
    "            :type aws_username: str\n",
    "            :param aws_username: Username of the IAM user to be looked up\n",
    "\n",
    "            :rtype: Result Dictionary of result\n",
    "    \"\"\"\n",
    "    retVal = {}\n",
    "    temp_list = []\n",
    "    iamClient = handle.client('iam')\n",
    "    result = iamClient.create_access_key(UserName=aws_username)\n",
    "    for key, value in result.items():\n",
    "        if key not in temp_list:\n",
    "            temp_list.append(key)\n",
    "            retVal[key] = value\n",
    "    return retVal\n",
    "\n",
    "\n",
    "\n",
    "task = Task(Workflow())\n",
    "\n",
    "(err, hdl, args) = task.validate(vars=vars())\n",
    "if err is None:\n",
    "    task.execute(aws_create_access_key, lego_printer=aws_create_access_key_printer, hdl=hdl, args=args)"
   ]
  },
  {
   "cell_type": "markdown",
   "id": "c5d02a12-716d-4642-8d82-1f553a345f93",
   "metadata": {
    "jupyter": {
     "source_hidden": false
    },
    "name": "Update AWS Access Key",
    "orderProperties": [],
    "tags": [],
    "title": "Update AWS Access Key"
   },
   "source": [
    "In this lego we will update the status of the old Access Key to \"Inactive\". This step is required to delete the old access key as one user cannot have 2 Access Keys. Hence, we need the old AWS Access Key ID, status to set and AWS username as inputs."
   ]
  },
  {
   "cell_type": "code",
   "execution_count": null,
   "id": "ae2ce8b5-e26c-40ba-a401-83cb5c80ea32",
   "metadata": {
    "local_metadata": {
     "accessType": "ACCESS_TYPE_UNSPECIFIED",
     "actionBashCommand": false,
     "actionNeedsCredential": true,
     "actionRequiredLinesInCode": [],
     "actionSupportsIteration": true,
     "actionSupportsPoll": true,
     "action_uuid": "946982596b57ff3bddc221df382ca4ef5a082fbe64a01a6d17a1e318d41bff05",
     "collapsed": true,
     "continueOnError": false,
     "createTime": "1970-01-01T00:00:00Z",
     "credentialsJson": {},
     "currentVersion": "0.1.0",
     "description": " Get a list of all AWS EC2 Instances from given ELB",
     "execution_data": {
      "last_date_success_run_cell": "2022-09-21T18:42:20.905Z"
     },
     "id": 163,
     "index": 163,
     "inputData": [
     ],
     "inputschema": [
      {
       "properties": {
        "aws_access_key_id": {
         "default": "",
         "description": "Old Access Key ID",
         "title": "aws_access_key_id",
         "type": "string"
        },
        "aws_username": {
         "default": "shloka",
         "description": "AWS Username",
         "title": "aws_username",
         "type": "string"
        },
        "status": {
         "default": "",
         "description": "Active/Inactive status to be updated for the old key",
         "title": "status",
         "type": "string"
        }
       },
       "required": [
        "elb_name",
        "region"
       ],
       "title": "aws_get_instances",
       "type": "object"
      }
     ],
     "jupyter": {
      "outputs_hidden": true,
      "source_hidden": true
     },
     "legotype": "LEGO_TYPE_AWS",
     "name": "Update AWS Access Key",
     "nouns": [
      "aws",
      "ec2",
      "instances"
     ],
     "orderProperties": [
      "aws_username",
      "aws_access_key_id",
      "status"
     ],
     "output": {
      "type": ""
     },
     "tags": [
      "aws_get_instances"
     ],
     "title": "Update AWS Access Key",
     "verbs": [
      "list"
     ]
    },
    "remote_metadata": {
     "accessType": "ACCESS_TYPE_UNSPECIFIED",
     "actionBashCommand": false,
     "actionNeedsCredential": true,
     "actionRequiredLinesInCode": [],
     "actionSupportsIteration": true,
     "actionSupportsPoll": true,
     "action_uuid": "946982596b57ff3bddc221df382ca4ef5a082fbe64a01a6d17a1e318d41bff05",
     "continueOnError": false,
     "createTime": "1970-01-01T00:00:00Z",
     "credentialsJson": {},
     "currentVersion": "0.1.0",
     "description": " Get a list of all AWS EC2 Instances from given ELB",
     "execution_data": {
      "last_date_success_run_cell": "2022-09-13T08:47:12.036Z"
     },
     "id": 163,
     "index": 163,
     "inputData": [
     ],
     "inputschema": [
      {
       "properties": {
        "aws_access_key_id": {
         "default": "",
         "description": "Old Access Key ID",
         "title": "aws_access_key_id",
         "type": "string"
        },
        "aws_username": {
         "default": "shloka",
         "description": "AWS Username",
         "title": "aws_username",
         "type": "string"
        },
        "status": {
         "default": "",
         "description": "Active/Inactive status to be updated for the old key",
         "title": "status",
         "type": "string"
        }
       },
       "required": [
        "elb_name",
        "region"
       ],
       "title": "aws_get_instances",
       "type": "object"
      }
     ],
     "jupyter": {
      "source_hidden": true
     },
     "legotype": "LEGO_TYPE_AWS",
     "name": "Update AWS Access Key",
     "nouns": [
      "aws",
      "ec2",
      "instances"
     ],
     "orderProperties": [
      "aws_username",
      "aws_access_key_id",
      "status"
     ],
     "output": {
      "type": ""
     },
     "tags": [
      "aws_get_instances"
     ],
     "title": "Update AWS Access Key",
     "verbs": [
      "list"
     ]
    }
   },
   "outputs": [],
   "source": [
    "##\n",
    "# Copyright (c) 2021 unSkript, Inc\n",
    "# All rights reserved.\n",
    "##\n",
    "from pydantic import BaseModel, Field, SecretStr\n",
    "import pandas as pd\n",
    "from typing import List\n",
    "import pprint\n",
    "\n",
    "\n",
    "from beartype import beartype\n",
    "@beartype\n",
    "def aws_update_access_key_printer(output):\n",
    "    if output is None:\n",
    "        return\n",
    "    pprint.pprint(\"Access Key status successfully changed\")\n",
    "    pprint.pprint(output)\n",
    "\n",
    "@beartype\n",
    "def aws_update_access_key(\n",
    "    handle,\n",
    "    aws_username: str,\n",
    "    aws_access_key_id: str,\n",
    "    status: str\n",
    ") -> Dict:\n",
    "   \"\"\"aws_check_ssl_certificate_expiry checks the expiry date of an ACM SSL certificate .\n",
    "\n",
    "                    :type handle: object\n",
    "                    :param handle: Object returned from Task Validate\n",
    "\n",
    "                    :type aws_username: str\n",
    "                    :param aws_username: Username of the IAM user to be looked up\n",
    "\n",
    "                    :type aws_access_key_id: SecretStr\n",
    "                    :param aws_access_key_id: Old Access Key ID of the user of which the status needs to be updated\n",
    "\n",
    "                    :rtype: Result Dictionary of result\n",
    "    \"\"\"\n",
    "    retVal = {}\n",
    "    temp_list = []\n",
    "    iamClient = handle.client('iam')\n",
    "    result = iamClient.update_access_key(UserName=aws_username, AccessKeyId=aws_access_key_id, Status=status)\n",
    "    for key, value in result.items():\n",
    "        if key not in temp_list:\n",
    "            temp_list.append(key)\n",
    "            retVal[key] = value\n",
    "    return retVal\n",
    "\n",
    "\n",
    "task = Task(Workflow())\n",
    "(err, hdl, args) = task.validate(vars=vars())\n",
    "if err is None:\n",
    "    task.execute(aws_update_access_key, lego_printer=aws_update_access_key_printer, hdl=hdl, args=args)"
   ]
  },
  {
   "cell_type": "markdown",
   "id": "ebc1dc33-68d8-411e-93fa-aeaa389a78a6",
   "metadata": {
    "jupyter": {
     "source_hidden": false
    },
    "name": "List AWS Access Keys",
    "orderProperties": [],
    "tags": [],
    "title": "List AWS Access Keys"
   },
   "source": [
    "Here we will list all the Access Keys allotted to the given user. The new one should have the status as \"Active\" and the old one should have the status as \"Inactive\"."
   ]
  },
  {
   "cell_type": "code",
   "execution_count": null,
   "id": "c35fa0af-2d6f-4e33-bb16-209505188e10",
   "metadata": {
    "local_metadata": {
     "accessType": "ACCESS_TYPE_UNSPECIFIED",
     "actionBashCommand": false,
     "actionNeedsCredential": true,
     "actionRequiredLinesInCode": [],
     "actionSupportsIteration": true,
     "actionSupportsPoll": true,
     "action_uuid": "946982596b57ff3bddc221df382ca4ef5a082fbe64a01a6d17a1e318d41bff05",
     "collapsed": true,
     "continueOnError": false,
     "createTime": "1970-01-01T00:00:00Z",
     "credentialsJson": {},
     "currentVersion": "0.1.0",
     "description": " Get a list of all AWS EC2 Instances from given ELB",
     "execution_data": {
      "last_date_success_run_cell": "2022-09-21T18:42:32.522Z"
     },
     "id": 163,
     "index": 163,
     "inputData": [
     ],
     "inputschema": [
      {
       "properties": {
        "aws_username": {
         "default": "",
         "description": "AWS Username",
         "title": "aws_username",
         "type": "string"
        }
       },
       "required": [
        "elb_name",
        "region"
       ],
       "title": "aws_get_instances",
       "type": "object"
      }
     ],
     "jupyter": {
      "outputs_hidden": true,
      "source_hidden": true
     },
     "legotype": "LEGO_TYPE_AWS",
     "name": "List AWS Access Keys",
     "nouns": [
      "aws",
      "ec2",
      "instances"
     ],
     "orderProperties": [
      "aws_username"
     ],
     "output": {
      "type": ""
     },
     "service_id_enabled": false,
     "tags": [
      "aws_get_instances"
     ],
     "title": "List AWS Access Keys",
     "verbs": [
      "list"
     ]
    },
    "remote_metadata": {
     "accessType": "ACCESS_TYPE_UNSPECIFIED",
     "actionBashCommand": false,
     "actionNeedsCredential": true,
     "actionRequiredLinesInCode": [],
     "actionSupportsIteration": true,
     "actionSupportsPoll": true,
     "action_uuid": "946982596b57ff3bddc221df382ca4ef5a082fbe64a01a6d17a1e318d41bff05",
     "continueOnError": false,
     "createTime": "1970-01-01T00:00:00Z",
     "credentialsJson": {},
     "currentVersion": "0.1.0",
     "description": " Get a list of all AWS EC2 Instances from given ELB",
     "execution_data": {
      "last_date_success_run_cell": "2022-09-13T08:47:33.471Z"
     },
     "id": 163,
     "index": 163,
     "inputData": [
     ],
     "inputschema": [
      {
       "properties": {
        "aws_username": {
         "default": "",
         "description": "AWS Username",
         "title": "aws_username",
         "type": "string"
        }
       },
       "required": [
        "elb_name",
        "region"
       ],
       "title": "aws_get_instances",
       "type": "object"
      }
     ],
     "jupyter": {
      "source_hidden": true
     },
     "legotype": "LEGO_TYPE_AWS",
     "name": "List AWS Access Keys",
     "nouns": [
      "aws",
      "ec2",
      "instances"
     ],
     "orderProperties": [
      "aws_username"
     ],
     "output": {
      "type": ""
     },
     "tags": [
      "aws_get_instances"
     ],
     "title": "List AWS Access Keys",
     "verbs": [
      "list"
     ]
    }
   },
   "outputs": [],
   "source": [
    "##\n",
    "# Copyright (c) 2021 unSkript, Inc\n",
    "# All rights reserved.\n",
    "##\n",
    "from pydantic import BaseModel, Field\n",
    "from typing import Dict,List\n",
    "import pprint\n",
    "\n",
    "\n",
    "from beartype import beartype\n",
    "@beartype\n",
    "def aws_list_access_keys(\n",
    "    handle,\n",
    "    aws_username: str\n",
    ") -> Dict:\n",
    "    \"\"\"aws_check_ssl_certificate_expiry checks the expiry date of an ACM SSL certificate .\n",
    "\n",
    "                :type handle: object\n",
    "                :param handle: Object returned from Task Validate\n",
    "\n",
    "                :type aws_username: str\n",
    "                :param aws_username: Username of the IAM user to be looked up\n",
    "\n",
    "                :rtype: Result Dictionary of result\n",
    "    \"\"\"\n",
    "    retVal = {}\n",
    "    temp_list=[]\n",
    "    iamClient = handle.client('iam')\n",
    "    result = iamClient.list_access_keys(UserName=aws_username)\n",
    "    for key, value in result.items():\n",
    "        if key not in temp_list:\n",
    "            temp_list.append(key)\n",
    "            retVal[key] = value\n",
    "    return retVal\n",
    "\n",
    "\n",
    "def aws_list_access_keys_printer(output):\n",
    "    if output is None:\n",
    "        return\n",
    "    pprint.pprint(output)\n",
    "\n",
    "task = Task(Workflow())\n",
    "\n",
    "(err, hdl, args) = task.validate(vars=vars())\n",
    "if err is None:\n",
    "    task.execute(aws_list_access_keys, lego_printer=aws_list_access_keys_printer, hdl=hdl, args=args)"
   ]
  },
  {
   "cell_type": "markdown",
   "id": "87444534-29b0-4192-8f5b-daa479606ea3",
   "metadata": {
    "jupyter": {
     "source_hidden": false
    },
    "name": "Delete AWS Access Key",
    "orderProperties": [],
    "tags": [],
    "title": "Delete AWS Access Key"
   },
   "source": [
    "In this lego we will delete the the old (Inactive) Access Key."
   ]
  },
  {
   "cell_type": "code",
   "execution_count": null,
   "id": "37e0ff8d-61d9-40c3-8106-81df94cb3c7b",
   "metadata": {
    "local_metadata": {
     "accessType": "ACCESS_TYPE_UNSPECIFIED",
     "actionBashCommand": false,
     "actionNeedsCredential": true,
     "actionRequiredLinesInCode": [],
     "actionSupportsIteration": true,
     "actionSupportsPoll": true,
     "action_uuid": "946982596b57ff3bddc221df382ca4ef5a082fbe64a01a6d17a1e318d41bff05",
     "collapsed": true,
     "continueOnError": false,
     "createTime": "1970-01-01T00:00:00Z",
     "credentialsJson": {},
     "currentVersion": "0.1.0",
     "description": " Get a list of all AWS EC2 Instances from given ELB",
     "execution_data": {
      "last_date_success_run_cell": "2022-09-21T18:42:47.144Z"
     },
     "id": 163,
     "index": 163,
     "inputData": [
     ],
     "inputschema": [
      {
       "properties": {
        "aws_access_key_id": {
         "default": "",
         "description": "Old Access Key of the user that needs to be deleted",
         "title": "aws_access_key_id",
         "type": "string"
        },
        "aws_username": {
         "default": "\"shloka\"",
         "description": "AWS Username",
         "title": "aws_username",
         "type": "string"
        }
       },
       "required": [
        "elb_name",
        "region"
       ],
       "title": "aws_get_instances",
       "type": "object"
      }
     ],
     "jupyter": {
      "outputs_hidden": true,
      "source_hidden": true
     },
     "legotype": "LEGO_TYPE_AWS",
     "name": "Delete AWS Access Key",
     "nouns": [
      "aws",
      "ec2",
      "instances"
     ],
     "orderProperties": [
      "aws_username",
      "aws_access_key_id"
     ],
     "output": {
      "type": ""
     },
     "tags": [
      "aws_get_instances"
     ],
     "title": "Delete AWS Access Key",
     "verbs": [
      "list"
     ]
    },
    "remote_metadata": {
     "accessType": "ACCESS_TYPE_UNSPECIFIED",
     "actionBashCommand": false,
     "actionNeedsCredential": true,
     "actionRequiredLinesInCode": [],
     "actionSupportsIteration": true,
     "actionSupportsPoll": true,
     "action_uuid": "946982596b57ff3bddc221df382ca4ef5a082fbe64a01a6d17a1e318d41bff05",
     "continueOnError": false,
     "createTime": "1970-01-01T00:00:00Z",
     "credentialsJson": {},
     "currentVersion": "0.1.0",
     "description": " Get a list of all AWS EC2 Instances from given ELB",
     "execution_data": {
      "last_date_success_run_cell": "2022-09-13T08:47:54.995Z"
     },
     "id": 163,
     "index": 163,
     "inputData": [
     ],
     "inputschema": [
      {
       "properties": {
        "aws_access_key_id": {
         "default": "",
         "description": "Old Access Key of the user that needs to be deleted",
         "title": "aws_access_key_id",
         "type": "string"
        },
        "aws_username": {
         "default": "\"shloka\"",
         "description": "AWS Username",
         "title": "aws_username",
         "type": "string"
        }
       },
       "required": [
        "elb_name",
        "region"
       ],
       "title": "aws_get_instances",
       "type": "object"
      }
     ],
     "jupyter": {
      "source_hidden": true
     },
     "legotype": "LEGO_TYPE_AWS",
     "name": "Delete AWS Access Key",
     "nouns": [
      "aws",
      "ec2",
      "instances"
     ],
     "orderProperties": [
      "aws_username",
      "aws_access_key_id"
     ],
     "output": {
      "type": ""
     },
     "tags": [
      "aws_get_instances"
     ],
     "title": "Delete AWS Access Key",
     "verbs": [
      "list"
     ]
    }
   },
   "outputs": [],
   "source": [
    "##\n",
    "# Copyright (c) 2021 unSkript, Inc\n",
    "# All rights reserved.\n",
    "##\n",
    "from pydantic import BaseModel, Field\n",
    "import pandas as pd\n",
    "from typing import List\n",
    "import pprint\n",
    "\n",
    "\n",
    "from beartype import beartype\n",
    "@beartype\n",
    "def aws_delete_access_key_printer(output):\n",
    "    if output is None:\n",
    "        return\n",
    "    pprint.pprint(\"Access Key successfully deleted\")\n",
    "    pprint.pprint(output)\n",
    "\n",
    "\n",
    "@beartype\n",
    "def aws_delete_access_key(\n",
    "    handle,\n",
    "    aws_username: str,\n",
    "    aws_access_key_id: str,\n",
    ") -> Dict:\n",
    "   \"\"\"aws_check_ssl_certificate_expiry checks the expiry date of an ACM SSL certificate .\n",
    "\n",
    "                    :type handle: object\n",
    "                    :param handle: Object returned from Task Validate\n",
    "\n",
    "                    :type aws_username: str\n",
    "                    :param aws_username: Username of the IAM user to be looked up\n",
    "\n",
    "                    :type aws_access_key_id: str\n",
    "                    :param aws_access_key_id: Old Access Key ID of the user which needs to be deleted\n",
    "\n",
    "                    :rtype: Result Status Dictionary of result\n",
    "    \"\"\"\n",
    "    iamClient = handle.client('iam')\n",
    "    result = iamClient.delete_access_key(UserName=aws_username, AccessKeyId=aws_access_key_id)\n",
    "    retVal = {}\n",
    "    temp_list = []\n",
    "    for key, value in result.items():\n",
    "        if key not in temp_list:\n",
    "            temp_list.append(key)\n",
    "            retVal[key] = value\n",
    "    return retVal\n",
    "\n",
    "task = Task(Workflow())\n",
    "\n",
    "(err, hdl, args) = task.validate(vars=vars())\n",
    "if err is None:\n",
    "    task.execute(aws_delete_access_key, lego_printer=aws_delete_access_key_printer, hdl=hdl, args=args)"
   ]
  },
  {
   "cell_type": "markdown",
   "id": "519cb823-2b9b-4bbd-85c8-99355dd0b79e",
   "metadata": {
    "jupyter": {
     "source_hidden": false
    },
    "name": "Conclusion",
    "orderProperties": [],
    "tags": [],
    "title": "Conclusion"
   },
   "source": [
    "<h3>Conclusion</h3>\n",
    "<p>In this Runbook, we demonstrated the use of unSkript's AWS legos to perform Access key rotation. To view the full platform capabilities of unSkript please visit <a href=\"https://unskript.com\">https://unskript.com</a></p>"
   ]
  }
 ],
 "metadata": {
  "kernelspec": {
   "display_name": "Python 3.10.4 ('test')",
   "language": "python",
   "name": "python3"
  },
  "language_info": {
   "name": "python",
   "version": "3.10.4"
  },
  "nbdime-conflicts": {
   "local_diff": [
    {
     "key": "execution_data",
     "op": "add",
     "value": {
      "environment_id": "1499f27c-6406-4fbd-bd1b-c6f92800018f",
      "environment_name": "Staging",
      "execution_id": "",
      "inputs_for_searched_lego": "",
      "notebook_id": "a9f502e3-3a48-4496-9d6b-05e06572a4a4.ipynb",
      "parameters": null,
      "runbook_name": "AWS_Access_Key_Rotation",
      "search_string": "",
      "show_tool_tip": false,
      "tenant_id": "982dba5f-d9df-48ae-a5bf-ec1fc94d4882",
      "tenant_url": "https://tenant-staging.alpha.unskript.io",
      "user_email_id": "shloka@unskript.com",
      "workflow_id": "510508e3-d296-49c9-877c-b4de6c509450"
     }
    },
    {
     "key": "kernelspec",
     "op": "add",
     "value": {
      "display_name": "Python 3.10.6 64-bit",
      "language": "python",
      "name": "python3"
     }
    },
    {
     "key": "language_info",
     "op": "add",
     "value": {
      "file_extension": ".py",
      "mimetype": "text/x-python",
      "name": "python",
      "pygments_lexer": "ipython3",
      "version": "3.10.6"
     }
    }
   ],
   "remote_diff": [
    {
     "key": "execution_data",
     "op": "add",
     "value": {
      "environment_id": "1499f27c-6406-4fbd-bd1b-c6f92800018f",
      "environment_name": "Staging",
      "execution_id": "",
      "inputs_for_searched_lego": "",
      "notebook_id": "5a8833b4-da25-4b00-bdc5-416a0b1ec17b.ipynb",
      "parameters": null,
      "runbook_name": "AWS Access Key Rotation",
      "search_string": "",
      "show_tool_tip": false,
      "tenant_id": "982dba5f-d9df-48ae-a5bf-ec1fc94d4882",
      "tenant_url": "https://tenant-staging.alpha.unskript.io",
      "user_email_id": "shloka@unskript.com",
      "workflow_id": "510508e3-d296-49c9-877c-b4de6c509450"
     }
    },
    {
     "key": "kernelspec",
     "op": "add",
     "value": {
      "display_name": "unSkript (Build: 544)",
      "name": "python_kubernetes"
     }
    },
    {
     "key": "language_info",
     "op": "add",
     "value": {
      "file_extension": ".py",
      "mimetype": "text/x-python",
      "name": "python",
      "pygments_lexer": "ipython3"
     }
    }
   ]
  },
  "parameterSchema": {
   "properties": {},
   "required": [],
   "title": "Schema",
   "type": "object"
  },
  "parameterValues": null,
  "vscode": {
   "interpreter": {
    "hash": "4bbe27a4ef15b3fedcd2e654ecc35fc9b20de5c40077b83d62753092d26a6932"
   }
  }
 },
 "nbformat": 4,
 "nbformat_minor": 5
}
