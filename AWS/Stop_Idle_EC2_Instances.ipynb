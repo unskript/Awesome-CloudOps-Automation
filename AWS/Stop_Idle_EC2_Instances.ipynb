{
 "cells": [
  {
   "cell_type": "markdown",
   "id": "0bc2da9b-06db-4411-b7a1-60bf674c3cd4",
   "metadata": {
    "name": "Runbook Overview",
    "orderProperties": [],
    "tags": [],
    "title": "Runbook Overview"
   },
   "source": [
    "<center><img src=\"https://unskript.com/assets/favicon.png\" alt=\"unSkript.com\" width=\"100\" height=\"100\">\n",
    "<h1 id=\"-unSkript-Runbooks-\">unSkript Runbooks <a class=\"jp-InternalAnchorLink\" href=\"#-unSkript-Runbooks-\" target=\"_self\">&para;</a></h1>\n",
    "<div class=\"alert alert-block alert-success\">\n",
    "<h3 id=\"Objective\"><strong>Objective</strong><a class=\"jp-InternalAnchorLink\" href=\"#Objective\" target=\"_self\">&para;</a></h3>\n",
    "<strong>To stop idle EC2 instances using unSkript actions.</strong></div>\n",
    "</center><center>\n",
    "<h2 id=\"Delete-Unattached-EBS-Volume\">Stop Idle EC2 Instances</h2>\n",
    "</center>\n",
    "<h1 id=\"Steps-Overview\">Steps Overview<a class=\"jp-InternalAnchorLink\" href=\"#Steps-Overview\" target=\"_self\">&para;</a></h1>\n",
    "<p>1. AWS Find Idle Instances<br>2. Stop AWS Instances</p>"
   ]
  },
  {
   "cell_type": "code",
   "execution_count": 36,
   "id": "f2e094c0-a7ca-4a26-b2c6-b5c8d669f300",
   "metadata": {
    "customAction": true,
    "execution_data": {
     "last_date_success_run_cell": "2023-04-25T14:37:20.938Z"
    },
    "jupyter": {
     "source_hidden": true
    },
    "name": "Input Verification",
    "orderProperties": [],
    "tags": [],
    "title": "Input Verification",
    "credentialsJson": {}
   },
   "outputs": [],
   "source": [
    "if instance_ids and not region:\n",
    "    raise SystemExit(\"Enter AWS Region for given instances!\")"
   ],
   "output": {}
  },
  {
   "cell_type": "markdown",
   "id": "fe64db1b-e08b-41af-8b90-efee5b514d8b",
   "metadata": {
    "name": "Gather Information",
    "orderProperties": [],
    "tags": [],
    "title": "Gather Information"
   },
   "source": [
    "<h3 id=\"AWS-List-All-Regions\">AWS List All Regions</h3>\n",
    "<p>In this action, we list all the available regions from AWS if the user does not provide a region as a parameter.</p>\n",
    "<blockquote>\n",
    "<p>Output variable: <code>region</code></p>\n",
    "</blockquote>"
   ]
  },
  {
   "cell_type": "code",
   "execution_count": null,
   "id": "8fb7f526-311d-4b2d-b6b7-7d4fea6ec065",
   "metadata": {
    "actionBashCommand": false,
    "actionCategories": [
     "CATEGORY_TYPE_CLOUDOPS",
     "CATEGORY_TYPE_DEVOPS",
     "CATEGORY_TYPE_SRE",
     "CATEGORY_TYPE_AWS"
    ],
    "actionDescription": "List all available AWS Regions",
    "actionEntryFunction": "aws_list_all_regions",
    "actionIsCheck": false,
    "actionIsRemediation": false,
    "actionNeedsCredential": true,
    "actionNextHop": null,
    "actionNextHopParameterMapping": null,
    "actionNouns": [
     "regions",
     "aws"
    ],
    "actionOutputType": "ACTION_OUTPUT_TYPE_LIST",
    "actionSupportsIteration": true,
    "actionSupportsPoll": true,
    "actionTitle": "AWS List All Regions",
    "actionType": "LEGO_TYPE_AWS",
    "actionVerbs": [
     "list"
    ],
    "actionVersion": "1.0.0",
    "action_modified": false,
    "action_uuid": "708ea4af5f8fe7096a15b3a52c4a657606bab9e177386fad7a847341ed607d64",
    "collapsed": true,
    "condition_enabled": true,
    "credentialsJson": {},
    "description": "List all available AWS Regions",
    "id": 9,
    "index": 9,
    "inputschema": [
     {
      "properties": {},
      "title": "aws_list_all_regions",
      "type": "object"
     }
    ],
    "jupyter": {
     "outputs_hidden": true,
     "source_hidden": true
    },
    "language": "python",
    "legotype": "LEGO_TYPE_AWS",
    "name": "AWS List All Regions",
    "orderProperties": [],
    "outputParams": {
     "output_name": "region",
     "output_name_enabled": true,
     "output_runbook_enabled": false,
     "output_runbook_name": ""
    },
    "printOutput": true,
    "show_tool_tip": true,
    "startcondition": "not region",
    "tags": [],
    "uuid": "708ea4af5f8fe7096a15b3a52c4a657606bab9e177386fad7a847341ed607d64",
    "version": "1.0.0"
   },
   "outputs": [],
   "source": [
    "#\n",
    "# Copyright (c) 2021 unSkript.com\n",
    "# All rights reserved.\n",
    "#\n",
    "\n",
    "from pydantic import BaseModel, Field\n",
    "from typing import Dict, List\n",
    "import pprint\n",
    "\n",
    "from beartype import beartype\n",
    "@beartype\n",
    "def aws_list_all_regions_printer(output):\n",
    "    if output is None:\n",
    "        return\n",
    "    pprint.pprint(output)\n",
    "\n",
    "\n",
    "@beartype\n",
    "def aws_list_all_regions(handle) -> List:\n",
    "    \"\"\"aws_list_all_regions lists all the AWS regions\n",
    "\n",
    "        :type handle: object\n",
    "        :param handle: Object returned from Task Validate\n",
    "\n",
    "        :rtype: Result List of result\n",
    "    \"\"\"\n",
    "\n",
    "    result = handle.aws_cli_command(\"aws ec2 --region us-west-2 describe-regions --all-regions --query 'Regions[].{Name:RegionName}' --output text\")\n",
    "    if result is None or result.returncode != 0:\n",
    "        print(\"Error while executing command : {}\".format(result))\n",
    "        return str()\n",
    "    result_op = list(result.stdout.split(\"\\n\"))\n",
    "    list_region = [x for x in result_op if x != '']\n",
    "    return list_region\n",
    "\n",
    "\n",
    "task = Task(Workflow())\n",
    "task.configure(conditionsJson='''{\n",
    "    \"condition_enabled\": true,\n",
    "    \"condition_cfg\": \"not region\",\n",
    "    \"condition_result\": true\n",
    "    }''')\n",
    "\n",
    "task.configure(outputName=\"region\")\n",
    "task.configure(printOutput=True)\n",
    "(err, hdl, args) = task.validate(vars=vars())\n",
    "if err is None:\n",
    "    task.execute(aws_list_all_regions, lego_printer=aws_list_all_regions_printer, hdl=hdl, args=args)"
   ],
   "output": {}
  },
  {
   "attachments": {},
   "cell_type": "markdown",
   "id": "7e446ecd-a076-4cc2-8745-b8843474e82c",
   "metadata": {
    "name": "Step-1",
    "orderProperties": [],
    "tags": [],
    "title": "Step-1"
   },
   "source": [
    "<h3 id=\"AWS-Find-Idle-Instances\">AWS Find Idle Instances</h3>\n",
    "<p>Here we will use unSkript&nbsp;<strong>AWS Find Idle Instances</strong> action. This action filters all idle instances from the given region, idle_cpu_threshold and idle_duration return a list of all the idle instances. It will execute if the <code>Instance_Ids</code>&nbsp;parameter is not passed.</p>\n",
    "<blockquote>\n",
    "<p>Input parameters: <code>region, idle_cpu_threshold, idle_duration</code></p>\n",
    "</blockquote>\n",
    "<blockquote>\n",
    "<p>Output variable: <code>idle_instances</code></p>\n",
    "</blockquote>"
   ]
  },
  {
   "cell_type": "code",
   "execution_count": null,
   "id": "3ef12163-b963-4399-a51f-6ebdd35b6b19",
   "metadata": {
    "actionBashCommand": false,
    "actionCategories": [
     "CATEGORY_TYPE_COST_OPT",
     "CATEGORY_TYPE_SRE",
     "CATEGORY_TYPE_AWS",
     "CATEGORY_TYPE_AWS_EC2"
    ],
    "actionDescription": "Find Idle EC2 instances",
    "actionEntryFunction": "aws_find_idle_instances",
    "actionIsCheck": true,
    "actionIsRemediation": false,
    "actionNeedsCredential": true,
    "actionNextHop": null,
    "actionNextHopParameterMapping": null,
    "actionNouns": null,
    "actionOutputType": "ACTION_OUTPUT_TYPE_LIST",
    "actionSupportsIteration": true,
    "actionSupportsPoll": true,
    "actionTitle": "AWS Find Idle Instances",
    "actionType": "LEGO_TYPE_AWS",
    "actionVerbs": null,
    "actionVersion": "1.0.0",
    "action_modified": false,
    "action_uuid": "c25a662a49587285082c36455564eed5664cc852926fcc2cec374300492df09d",
    "condition_enabled": true,
    "continueOnError": true,
    "credentialsJson": {},
    "description": "Find Idle EC2 instances",
    "execution_data": {
     "last_date_success_run_cell": "2023-04-25T14:38:30.496Z"
    },
    "id": 1,
    "index": 1,
    "inputData": [
     {
      "idle_cpu_threshold": {
       "constant": false,
       "value": "int(Idle_CPU_Threshold)"
      },
      "idle_duration": {
       "constant": false,
       "value": "int(Idle_Duration)"
      },
      "region": {
       "constant": false,
       "value": "iter_item"
      }
     }
    ],
    "inputschema": [
     {
      "properties": {
       "idle_cpu_threshold": {
        "default": 5,
        "description": "Idle CPU threshold (in percent)",
        "title": "Idle CPU Threshold",
        "type": "integer"
       },
       "idle_duration": {
        "default": 6,
        "description": "Idle duration (in hours)",
        "title": "Idle Duration",
        "type": "integer"
       },
       "region": {
        "default": "",
        "description": "AWS Region to get the instances from. Eg: \"us-west-2\"",
        "title": "Region",
        "type": "string"
       }
      },
      "required": [],
      "title": "aws_find_idle_instances",
      "type": "object"
     }
    ],
    "iterData": [
     {
      "iter_enabled": true,
      "iter_item": "region",
      "iter_list": {
       "constant": false,
       "objectItems": false,
       "value": "region"
      }
     }
    ],
    "jupyter": {
     "source_hidden": true
    },
    "language": "python",
    "legotype": "LEGO_TYPE_AWS",
    "name": "AWS Find Idle Instances",
    "orderProperties": [
     "idle_cpu_threshold",
     "idle_duration",
     "region"
    ],
    "outputParams": {
     "output_name": "idle_instances",
     "output_name_enabled": true,
     "output_runbook_enabled": false,
     "output_runbook_name": ""
    },
    "printOutput": true,
    "startcondition": "not Instance_Ids",
    "tags": [],
    "title": "AWS Find Idle Instances",
    "uuid": "c25a662a49587285082c36455564eed5664cc852926fcc2cec374300492df09d",
    "version": "1.0.0"
   },
   "outputs": [],
   "source": [
    "##\n",
    "# Copyright (c) 2023 unSkript, Inc\n",
    "# All rights reserved.\n",
    "##\n",
    "from pydantic import BaseModel, Field\n",
    "from unskript.legos.aws.aws_list_all_regions.aws_list_all_regions import aws_list_all_regions\n",
    "from typing import Optional, Tuple\n",
    "import pprint\n",
    "import datetime\n",
    "from beartype import beartype\n",
    "\n",
    "\n",
    "@beartype\n",
    "def aws_find_idle_instances_printer(output):\n",
    "    if output is None:\n",
    "        return\n",
    "    pprint.pprint(output)\n",
    "\n",
    "\n",
    "@beartype\n",
    "def is_instance_idle(instance_id , idle_cpu_threshold, idle_duration, cloudwatchclient):\n",
    "    try:\n",
    "        now = datetime.datetime.utcnow()\n",
    "        start_time = now - datetime.timedelta(hours=idle_duration)\n",
    "        cpu_utilization_stats = cloudwatchclient.get_metric_statistics(\n",
    "            Namespace=\"AWS/EC2\",\n",
    "            MetricName=\"CPUUtilization\",\n",
    "            Dimensions=[{\"Name\": \"InstanceId\", \"Value\": instance_id}],\n",
    "            StartTime=start_time.isoformat(),\n",
    "            EndTime=now.isoformat(),\n",
    "            Period=3600,\n",
    "            Statistics=[\"Average\"],\n",
    "        )\n",
    "        if not cpu_utilization_stats[\"Datapoints\"]:\n",
    "            return False\n",
    "        average_cpu = sum([datapoint[\"Average\"] for datapoint in cpu_utilization_stats[\"Datapoints\"]]) / len(cpu_utilization_stats[\"Datapoints\"])\n",
    "    except Exception as e:\n",
    "        raise e\n",
    "    return average_cpu < idle_cpu_threshold\n",
    "\n",
    "@beartype\n",
    "def aws_find_idle_instances(handle, idle_cpu_threshold:int = 5, idle_duration:int = 6, region:str='') -> Tuple:\n",
    "    \"\"\"aws_find_idle_instances finds idle EC2 instances\n",
    "\n",
    "    :type region: string\n",
    "    :param region: AWS Region to get the instances from. Eg: \"us-west-2\"\n",
    "\n",
    "    :type idle_cpu_threshold: int\n",
    "    :param idle_cpu_threshold: (in percent) Idle CPU threshold (in percent)\n",
    "\n",
    "    :type idle_duration: int\n",
    "    :param idle_duration: (in hours) Idle CPU threshold (in hours)\n",
    "\n",
    "    :rtype: Tuple with status result and list of Idle Instances.\n",
    "    \"\"\"\n",
    "    result = []\n",
    "    all_regions = [region]\n",
    "    if not region:\n",
    "        all_regions = aws_list_all_regions(handle)\n",
    "    for reg in all_regions:\n",
    "        try:\n",
    "            ec2client = handle.client('ec2', region_name=reg)\n",
    "            cloudwatchclient = handle.client(\"cloudwatch\", region_name=reg)\n",
    "            all_instances = ec2client.describe_instances()\n",
    "            for instance in all_instances['Reservations']:\n",
    "                for i in instance['Instances']:\n",
    "                    if i['State'][\"Name\"] == \"running\" and is_instance_idle(i['InstanceId'], reg, idle_cpu_threshold,idle_duration, cloudwatchclient ):\n",
    "                        idle_instances = {}\n",
    "                        idle_instances[\"instance\"] = i['InstanceId']\n",
    "                        idle_instances[\"region\"] = reg\n",
    "                        result.append(idle_instances)\n",
    "        except Exception:\n",
    "            pass\n",
    "    if len(result) != 0:\n",
    "        return (False, result)\n",
    "    else:\n",
    "        return (True, None)\n",
    "\n",
    "\n",
    "\n",
    "\n",
    "\n",
    "task = Task(Workflow())\n",
    "task.configure(continueOnError=True)\n",
    "task.configure(outputName=\"idle_instances\")\n",
    "\n",
    "task.configure(inputParamsJson='''{\n",
    "    \"idle_cpu_threshold\": \"int(Idle_CPU_Threshold)\",\n",
    "    \"idle_duration\": \"int(Idle_Duration)\",\n",
    "    \"region\": \"iter_item\"\n",
    "    }''')\n",
    "task.configure(iterJson='''{\n",
    "    \"iter_enabled\": true,\n",
    "    \"iter_list_is_const\": false,\n",
    "    \"iter_list\": \"region\",\n",
    "    \"iter_parameter\": \"region\"\n",
    "    }''')\n",
    "task.configure(conditionsJson='''{\n",
    "    \"condition_enabled\": true,\n",
    "    \"condition_cfg\": \"not instance_ids\",\n",
    "    \"condition_result\": true\n",
    "    }''')\n",
    "task.configure(printOutput=True)\n",
    "(err, hdl, args) = task.validate(vars=vars())\n",
    "if err is None:\n",
    "    task.execute(aws_find_idle_instances, lego_printer=aws_find_idle_instances_printer, hdl=hdl, args=args)"
   ],
   "output": {}
  },
  {
   "attachments": {},
   "cell_type": "markdown",
   "id": "81e38fc8-6cde-4287-a728-5aa6c2caa07b",
   "metadata": {
    "name": "Step-1 Extension",
    "orderProperties": [],
    "tags": [],
    "title": "Step-1 Extension"
   },
   "source": [
    "<h3 id=\"Modify-Idle-Instances-Output\">Modify Idle Instances Output</h3>\n",
    "<p>In this action, we will pass the list of idle instances from Step 1 and sort the output as per Step 2.</p>\n",
    "<blockquote>\n",
    "<p>Output variable: <code>idle_instances_list</code></p>\n",
    "</blockquote>"
   ]
  },
  {
   "cell_type": "code",
   "execution_count": 38,
   "id": "135f2a41-a19c-4477-815a-911bb8fd5620",
   "metadata": {
    "customAction": true,
    "execution_data": {
     "last_date_success_run_cell": "2023-04-25T14:38:38.730Z"
    },
    "jupyter": {
     "source_hidden": true
    },
    "name": "Modify Idle Instances Output",
    "orderProperties": [],
    "tags": [],
    "title": "Modify Idle Instances Output",
    "credentialsJson": {}
   },
   "outputs": [],
   "source": [
    "idle_instances_list = []\n",
    "try:\n",
    "    for key, value in idle_instances.items():\n",
    "        if value[0] == False:\n",
    "            if len(value[1])!= 0:\n",
    "                idle_instances_list = value[1]\n",
    "except Exception as e:\n",
    "    if instance_ids:\n",
    "        for instance in instance_ids:\n",
    "            instance_dict = {}\n",
    "            instance_dict[\"instance\"] = instance\n",
    "            instance_dict[\"region\"] = region[0]\n",
    "            idle_instances_list.append(instance_dict)\n",
    "    else:\n",
    "        raise Exception(e)\n",
    "            "
   ],
   "output": {}
  },
  {
   "attachments": {},
   "cell_type": "markdown",
   "id": "86252292-3008-4943-869e-c9b581ef4306",
   "metadata": {
    "name": "Step-2",
    "orderProperties": [],
    "tags": [],
    "title": "Step-2"
   },
   "source": [
    "<h3 id=\"Stop-AWS-Instances\">Stop AWS Instances</h3>\n",
    "<p>Here we will use unSkript&nbsp;<strong>Stop AWS Instances</strong> action. In this action, we will pass the list of idle instances from step 1 and stop those instances.</p>\n",
    "<blockquote>\n",
    "<p>Input parameters: <code>instance_id</code>, <code>region</code></p>\n",
    "</blockquote>\n",
    "<blockquote>\n",
    "<p>Output variable: <code>stop_instances</code></p>\n",
    "</blockquote>"
   ]
  },
  {
   "cell_type": "code",
   "execution_count": null,
   "id": "ab0bab01-d02a-44d2-aa4f-82652a585f93",
   "metadata": {
    "actionBashCommand": false,
    "actionCategories": [
     "CATEGORY_TYPE_DEVOPS",
     "CATEGORY_TYPE_SRE",
     "CATEGORY_TYPE_AWS",
     "CATEGORY_TYPE_AWS_EC2"
    ],
    "actionDescription": "Stop an AWS Instance",
    "actionEntryFunction": "aws_stop_instances",
    "actionIsCheck": false,
    "actionIsRemediation": true,
    "actionNeedsCredential": true,
    "actionNextHop": null,
    "actionNextHopParameterMapping": null,
    "actionNouns": [
     "aws",
     "instances"
    ],
    "actionOutputType": "ACTION_OUTPUT_TYPE_DICT",
    "actionSupportsIteration": true,
    "actionSupportsPoll": true,
    "actionTitle": "Stop AWS Instances",
    "actionType": "LEGO_TYPE_AWS",
    "actionVerbs": [
     "stop"
    ],
    "actionVersion": "1.0.0",
    "action_modified": false,
    "action_uuid": "ef6e03e0bb46f1d9eb58405e5eed4b962c4ae9eeaaf64877c1c4e820c2854c6e",
    "condition_enabled": true,
    "continueOnError": true,
    "credentialsJson": {},
    "description": "Stop an AWS Instance",
    "execution_data": {
     "last_date_success_run_cell": "2023-04-25T14:38:41.240Z"
    },
    "id": 2,
    "index": 2,
    "inputData": [
     {
      "instance_id": {
       "constant": false,
       "value": "\"iter.get(\\\\\"instance\\\\\")\""
      },
      "region": {
       "constant": false,
       "value": "\"iter.get(\\\\\"region\\\\\")\""
      }
     }
    ],
    "inputschema": [
     {
      "properties": {
       "instance_id": {
        "description": "ID of the instance to be stopped.",
        "title": "Instance Id",
        "type": "string"
       },
       "region": {
        "description": "AWS Region of the instance.",
        "title": "Region",
        "type": "string"
       }
      },
      "required": [
       "instance_id",
       "region"
      ],
      "title": "aws_stop_instances",
      "type": "object"
     }
    ],
    "iterData": [
     {
      "iter_enabled": true,
      "iter_item": {
       "instance_id": "instance",
       "region": "region"
      },
      "iter_list": {
       "constant": false,
       "objectItems": true,
       "value": "idle_instances_list"
      }
     }
    ],
    "jupyter": {
     "source_hidden": true
    },
    "language": "python",
    "legotype": "LEGO_TYPE_AWS",
    "name": "Stop AWS Instances",
    "orderProperties": [
     "instance_id",
     "region"
    ],
    "outputParams": {
     "output_name": "stop_instances",
     "output_name_enabled": true,
     "output_runbook_enabled": false,
     "output_runbook_name": ""
    },
    "printOutput": true,
    "startcondition": "len(idle_instances_list) != 0",
    "tags": [],
    "title": "Stop AWS Instances",
    "uuid": "ef6e03e0bb46f1d9eb58405e5eed4b962c4ae9eeaaf64877c1c4e820c2854c6e",
    "version": "1.0.0"
   },
   "outputs": [],
   "source": [
    "##  Copyright (c) 2021 unSkript, Inc\n",
    "##  All rights reserved.\n",
    "##\n",
    "from pydantic import BaseModel, Field\n",
    "from typing import Dict\n",
    "import pprint\n",
    "\n",
    "\n",
    "from beartype import beartype\n",
    "@beartype\n",
    "def aws_stop_instances_printer(output):\n",
    "    if output is None:\n",
    "        return\n",
    "    pprint.pprint(output)\n",
    "\n",
    "\n",
    "@beartype\n",
    "def aws_stop_instances(handle, instance_id: str, region: str) -> Dict:\n",
    "    \"\"\"aws_stop_instances Stops instances.\n",
    "\n",
    "        :type instance_id: string\n",
    "        :param instance_id: String containing the name of AWS EC2 instance\n",
    "\n",
    "        :type region: string\n",
    "        :param region: AWS region for instance\n",
    "\n",
    "        :rtype: Dict with the stopped instances state info.\n",
    "    \"\"\"\n",
    "\n",
    "    ec2Client = handle.client('ec2', region_name=region)\n",
    "    output = {}\n",
    "    res = ec2Client.stop_instances(InstanceIds=[instance_id])\n",
    "    for instances in res['StoppingInstances']:\n",
    "        output[instances['InstanceId']] = instances['CurrentState']\n",
    "\n",
    "    return output\n",
    "\n",
    "\n",
    "task = Task(Workflow())\n",
    "task.configure(continueOnError=True)\n",
    "task.configure(inputParamsJson='''{\n",
    "    \"instance_id\": \"iter.get(\\\\\"instance\\\\\")\",\n",
    "    \"region\": \"iter.get(\\\\\"region\\\\\")\"\n",
    "    }''')\n",
    "task.configure(iterJson='''{\n",
    "    \"iter_enabled\": true,\n",
    "    \"iter_list_is_const\": false,\n",
    "    \"iter_list\": \"idle_instances_list\",\n",
    "    \"iter_parameter\": [\"instance_id\",\"region\"]\n",
    "    }''')\n",
    "task.configure(conditionsJson='''{\n",
    "    \"condition_enabled\": true,\n",
    "    \"condition_cfg\": \"len(idle_instances_list) != 0\",\n",
    "    \"condition_result\": true\n",
    "    }''')\n",
    "task.configure(outputName=\"stop_instances\")\n",
    "task.configure(printOutput=True)\n",
    "(err, hdl, args) = task.validate(vars=vars())\n",
    "if err is None:\n",
    "    task.execute(aws_stop_instances, lego_printer=aws_stop_instances_printer, hdl=hdl, args=args)"
   ],
   "output": {}
  },
  {
   "attachments": {},
   "cell_type": "markdown",
   "id": "086512e7-14b2-4894-bd36-0e8f63e5a8e7",
   "metadata": {
    "name": "Conclusion",
    "orderProperties": [],
    "tags": [],
    "title": "Conclusion"
   },
   "source": [
    "### Conclusion\n",
    "<p>In this Runbook, we demonstrated the use of unSkript's AWS actions to filter idle instances and stop those. To view the full platform capabilities of unSkript please visit&nbsp;<a href=\"https://us.app.unskript.io\" target=\"_blank\" rel=\"noopener\">https://us.app.unskript.io</a></p>"
   ]
  }
 ],
 "metadata": {
  "execution_data": {
   "environment_id": "",
   "environment_name": "",
   "execution_id": "",
   "inputs_for_searched_lego": "",
   "notebook_id": "d4159cb3-6c83-4ba5-a2f7-d23c0777076b.ipynb",
   "parameters": null,
   "runbook_name": "Stop Idle EC2 Instances",
   "search_string": "",
   "show_tool_tip": true,
   "tenant_id": "",
   "tenant_url": "",
   "user_email_id": "",
   "workflow_id": "f8ead207-81c0-414a-a15b-76fcdefafe8d"
  },
  "kernelspec": {
   "display_name": "unSkript (Build: 1108)",
   "language": "python",
   "name": "python3"
  },
  "language_info": {
   "codemirror_mode": {
    "name": "ipython",
    "version": 3
   },
   "file_extension": ".py",
   "mimetype": "text/x-python",
   "name": "python",
   "nbconvert_exporter": "python",
   "pygments_lexer": "ipython3",
   "version": "3.9.6"
  },
  "parameterSchema": {
   "properties": {
    "idle_cpu_threshold": {
     "description": "The CPU utilization threshold below which an instance is considered idle (e.g., 10).",
     "title": "idle_cpu_threshold",
     "type": "number"
    },
    "idle_duration": {
     "description": "The duration of time (in hours) for which an instance must have CPU utilization below the threshold to be considered idle (e.g., 24 for 1 day).",
     "title": "idle_duration",
     "type": "number"
    },
    "instance_ids": {
     "description": "\nList of idle instance ids.",
     "title": "instance_ids",
     "type": "array"
    },
    "region": {
     "description": "AWS Region",
     "title": "region",
     "type": "array"
    }
   },
   "required": [],
   "title": "Schema",
   "type": "object"
  },
  "parameterValues": {},
  "show_action_drag_hint_done": {
   "environment_id": "1499f27c-6406-4fbd-bd1b-c6f92800018f",
   "environment_name": "Staging",
   "execution_id": "",
   "inputs_for_searched_lego": "",
   "notebook_id": "d4159cb3-6c83-4ba5-a2f7-d23c0777076b.ipynb",
   "parameters": null,
   "runbook_name": "Stop Idle EC2 Instances",
   "search_string": "",
   "show_tool_tip": true,
   "tenant_id": "982dba5f-d9df-48ae-a5bf-ec1fc94d4882",
   "tenant_url": "https://tenant-staging.alpha.unskript.io",
   "user_email_id": "support+staging@unskript.com",
   "workflow_id": "f8ead207-81c0-414a-a15b-76fcdefafe8d"
  }
 },
 "nbformat": 4,
 "nbformat_minor": 5
}