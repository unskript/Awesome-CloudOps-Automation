{
 "cells": [
  {
   "cell_type": "markdown",
   "id": "5e5f40a4-019d-4683-8c70-33828706350a",
   "metadata": {
    "actionNeedsCredential": true,
    "actionSupportsIteration": true,
    "actionSupportsPoll": true,
    "action_needs_credential": true,
    "action_supports_iteration": true,
    "action_supports_poll": true,
    "jupyter": {
     "source_hidden": false
    },
    "orderProperties": [],
    "tags": [],
    "title": "Summary"
   },
   "source": [
    "\n",
    "<img src=\"https://storage.googleapis.com/unskript-website/assets/favicon.png\" alt=\"unSkript.com\" width=\"100\" height=\"100\"/> \n",
    "<h1> unSkript Runbooks </h1>\n",
    "<div class=\"alert alert-block alert-success\">\n",
    "    <b> This runbook demonstrates How to Resize PVC attached to a K8S Cluster.\n",
    "    We use unSkript k8s Actions to achieve this complex tax.</b>\n",
    "</div>\n",
    "\n",
    "<br>\n",
    "<center><h2>Resize PVC</h2></center>\n",
    "\n",
    "# Steps Overview \n",
    "1 <a href=\"#1\"> Get Storageclass associated with the PVC </a>\n",
    "<br>\n",
    "2 <a href=\"#2\"> Verify that allowVolumeExpansion is enabled </a>\n",
    "<br>\n",
    "3 <a href=\"#3\"> Increase the PVC Volume by the provided Value depending upon ResizeOption chosen. </a>\n",
    "<br>\n",
    "4 <a href=\"#4\"> Find out POD Name related to the PVC </a>\n",
    "<br>\n",
    "4.1 <a href=\"#41\"> Restart POD if RestartPodAfterResize is set to True </a>\n",
    "<br>\n",
    "    (NOTE: This is not required if the kubernetes has ExpandInUsePersistentVolumes enabled.)\n",
    "<br>\n",
    "5 <a href=\"#5\"> Verify resize by running 'df -kh' on the pod attached to the PVC. </a>\n",
    "<br>\n",
    "5.1 <a href=\"#51\"> Final Verification </a>"
   ]
  },
  {
   "cell_type": "markdown",
   "id": "8a346e85",
   "metadata": {},
   "source": [
    "<p id=\"1\"> </p>\n",
    "\n",
    "### Get Storageclass associated with the PVC\n",
    "\n",
    "Here we use the `kubectl get sc` to get the storageclass for the given PVC. This will be stored in\n",
    "the varaible `storageClass`. "
   ]
  },
  {
   "cell_type": "code",
   "execution_count": 4,
   "id": "5ef873e3-c4e7-4412-8991-8f0fcbc5b9f8",
   "metadata": {
    "actionNeedsCredential": true,
    "actionSupportsIteration": true,
    "actionSupportsPoll": true,
    "action_needs_credential": true,
    "action_supports_iteration": true,
    "action_supports_poll": true,
    "continueOnError": false,
    "execution_data": {
     "last_date_success_run_cell": "2022-07-06T07:53:23.056Z"
    },
    "inputData": [
     {
      "kubectl_command": {
       "constant": false,
       "value": "f\"kubectl get pvc {PVCName} -n {Namespace} --output=jsonpath={{.spec.storageClassName}}\""
      }
     }
    ],
    "inputschema": [
     {
      "properties": {
       "kubectl_command": {
        "description": "kubectl command eg kubectl get pods --all-namespaces",
        "title": "Kubectl Command",
        "type": "string"
       }
      },
      "required": [
       "kubectl_command"
      ],
      "title": "k8s_kubectl_command",
      "type": "object"
     }
    ],
    "jupyter": {
     "source_hidden": true
    },
    "legotype": "LEGO_TYPE_K8S",
    "orderProperties": [
     "kubectl_command"
    ],
    "outputParams": {
     "output_name": "storageClass",
     "output_name_enabled": true
    },
    "tags": [],
    "title": "Get Storage Class for the PVC",
    "credentialsJson": {}
   },
   "outputs": [],
   "source": [
    "#\n",
    "# Copyright (c) 2021 unSkript.com\n",
    "# All rights reserved.\n",
    "#\n",
    "\n",
    "from pydantic import BaseModel, Field\n",
    "\n",
    "\n",
    "from beartype import beartype\n",
    "@beartype\n",
    "def k8s_kubectl_command(handle, kubectl_command: str) :\n",
    "\n",
    "    assert(kubectl_command.startswith(\"kubectl\"))\n",
    "\n",
    "    result = handle.run_native_cmd(kubectl_command)\n",
    "    if result.stderr:\n",
    "        print(\n",
    "            f\"Error while executing command ({kubectl_command}): {result.stderr}\")\n",
    "        return None\n",
    "\n",
    "    return result.stdout\n",
    "\n",
    "\n",
    "\n",
    "\n",
    "task = Task(Workflow())\n",
    "task.configure(inputParamsJson='''{\n",
    "    \"kubectl_command\": \"f\\\\\"kubectl get pvc {PVCName} -n {Namespace} --output=jsonpath={{.spec.storageClassName}}\\\\\"\"\n",
    "    }''')\n",
    "task.configure(outputName=\"storageClass\")\n",
    "\n",
    "(err, hdl, args) = task.validate(vars=vars())\n",
    "if err is None:\n",
    "    task.output = task.execute(k8s_kubectl_command, hdl, args)\n",
    "if hasattr(task, 'output'):\n",
    "    print(task.output)"
   ]
  },
  {
   "cell_type": "markdown",
   "id": "fc49a6a2",
   "metadata": {},
   "source": [
    "<p id=\"2\"> </p>\n",
    "\n",
    "### Verify alloVolumeExpansion is enabled\n",
    "\n",
    "Here we check if `allowVolumeExpansion` is enabled for the storage class for the given PVC. If the PVC does not\n",
    "have this enabled, the execution would assert."
   ]
  },
  {
   "cell_type": "code",
   "execution_count": 5,
   "id": "be487f19-10c4-4d37-916a-d9479a2a16b4",
   "metadata": {
    "actionNeedsCredential": true,
    "actionSupportsIteration": true,
    "actionSupportsPoll": true,
    "action_needs_credential": true,
    "action_supports_iteration": true,
    "action_supports_poll": true,
    "continueOnError": false,
    "execution_data": {
     "last_date_success_run_cell": "2022-07-06T07:54:10.480Z"
    },
    "inputData": [
     {
      "kubectl_command": {
       "constant": false,
       "value": "f\"kubectl get sc {storageClass} --output=jsonpath={{.allowVolumeExpansion}}\""
      }
     }
    ],
    "inputschema": [
     {
      "properties": {
       "kubectl_command": {
        "description": "kubectl command eg kubectl get pods --all-namespaces",
        "title": "Kubectl Command",
        "type": "string"
       }
      },
      "required": [
       "kubectl_command"
      ],
      "title": "k8s_kubectl_command",
      "type": "object"
     }
    ],
    "jupyter": {
     "source_hidden": true
    },
    "legotype": "LEGO_TYPE_K8S",
    "orderProperties": [
     "kubectl_command"
    ],
    "outputParams": {
     "output_name": "allowVolumeExpansion",
     "output_name_enabled": true
    },
    "tags": [],
    "title": "Get Storage class details",
    "credentialsJson": {}
   },
   "outputs": [],
   "source": [
    "#\n",
    "# Copyright (c) 2021 unSkript.com\n",
    "# All rights reserved.\n",
    "#\n",
    "\n",
    "from pydantic import BaseModel, Field\n",
    "\n",
    "\n",
    "from beartype import beartype\n",
    "@beartype\n",
    "def k8s_kubectl_command(handle, kubectl_command: str) :\n",
    "\n",
    "    assert(kubectl_command.startswith(\"kubectl\"))\n",
    "\n",
    "    result = handle.run_native_cmd(kubectl_command)\n",
    "    if result.stderr:\n",
    "        print(\n",
    "            f\"Error while executing command ({kubectl_command}): {result.stderr}\")\n",
    "        return None\n",
    "\n",
    "    return result.stdout\n",
    "\n",
    "\n",
    "\n",
    "\n",
    "task = Task(Workflow())\n",
    "task.configure(inputParamsJson='''{\n",
    "    \"kubectl_command\": \"f\\\\\"kubectl get sc {storageClass} --output=jsonpath={{.allowVolumeExpansion}}\\\\\"\"\n",
    "    }''')\n",
    "task.configure(outputName=\"allowVolumeExpansion\")\n",
    "\n",
    "(err, hdl, args) = task.validate(vars=vars())\n",
    "if err is None:\n",
    "    task.output = task.execute(k8s_kubectl_command, hdl, args)\n",
    "if hasattr(task, 'output'):\n",
    "    print(task.output)"
   ]
  },
  {
   "cell_type": "code",
   "execution_count": 6,
   "id": "17593357-01c4-4219-be83-06bafebbb0e6",
   "metadata": {
    "actionNeedsCredential": true,
    "actionSupportsIteration": true,
    "actionSupportsPoll": true,
    "action_needs_credential": true,
    "action_supports_iteration": true,
    "action_supports_poll": true,
    "execution_data": {
     "last_date_success_run_cell": "2022-07-06T07:54:16.872Z"
    },
    "jupyter": {
     "source_hidden": true
    },
    "orderProperties": [],
    "tags": [],
    "title": "Check if storage class has allowVolumeExpansion enabled",
    "credentialsJson": {}
   },
   "outputs": [],
   "source": [
    "if allowVolumeExpansion == \"\" or allowVolumeExpansion is False:\n",
    "    print(f'allowVolumeExpansion disabled for storage class {storageClass}, exiting')\n",
    "    assert(f'allowVolumeExpansion disabled for storage class {storageClass}')\n",
    "else:\n",
    "    print(f'allowVolumeExpansion enabled for storage class {storageClass}')"
   ]
  },
  {
   "cell_type": "markdown",
   "id": "c2c84476",
   "metadata": {},
   "source": [
    "<p id=\"3\"> </p>\n",
    "\n",
    "### Increase the PVC Volume \n",
    "\n",
    "Here we will use unSkript `k8s_change_pvc_size` Action to increase the PVC volume to the  provided Value depending upon ResizeOption chosen."
   ]
  },
  {
   "cell_type": "code",
   "execution_count": 2,
   "id": "da32a266-ad2f-49fd-bcc2-e34fe10395f4",
   "metadata": {
    "accessType": "ACCESS_TYPE_UNSPECIFIED",
    "actionBashCommand": false,
    "actionNeedsCredential": true,
    "actionSupportsIteration": true,
    "actionSupportsPoll": true,
    "action_uuid": "c82954c96e797711613cd6b0ef8c6ab45a6af26f191115df128396bb056450d2",
    "collapsed": true,
    "continueOnError": false,
    "createTime": "1970-01-01T00:00:00Z",
    "currentVersion": "0.1.0",
    "description": "Change size of Kubernetes PVC",
    "execution_data": {
     "last_date_success_run_cell": "2022-07-26T00:07:47.913Z"
    },
    "id": 24,
    "index": 24,
    "inputData": [
     {
      "name": {
       "constant": false,
       "value": "PVCName"
      },
      "namespace": {
       "constant": false,
       "value": "Namespace"
      },
      "resize_option": {
       "constant": true,
       "value": "SizingOption.Add if ResizeOption == \"Add\" else SizingOption.Mutiple"
      },
      "resize_value": {
       "constant": false,
       "value": "Value"
      }
     }
    ],
    "inputschema": [
     {
      "definitions": {
       "SizingOption": {
        "description": "An enumeration.",
        "enum": [
         "Add",
         "Multiple"
        ],
        "title": "SizingOption"
       }
      },
      "properties": {
       "name": {
        "description": "Name of the PVC.",
        "title": "PVC Name",
        "type": "string"
       },
       "namespace": {
        "description": "Namespace of the PVC.",
        "title": "Namespace",
        "type": "string"
       },
       "resize_option": {
        "allOf": [
         {
          "$ref": "#/definitions/SizingOption"
         }
        ],
        "default": "Add",
        "description": "\n            Option to resize the volume. 2 options supported:\n            1. Add - Use this option to resize by an amount.\n            2. Multiple - Use this option if you want to resize by a multiple of the current volume size.\n        ",
        "title": "Resize option"
       },
       "resize_value": {
        "description": "\n            Based on the resize option chosen, specify the value. For eg, if you chose Add option, this\n            value will be a value in Gi (like 100). If you chose Multiple option, this value will be a multiplying factor\n            to the current volume size. So, if you want to double, you specify 2 here.\n        ",
        "title": "Value",
        "type": "number"
       }
      },
      "required": [
       "namespace",
       "name",
       "resize_value"
      ],
      "title": "k8s_change_pvc_size",
      "type": "object"
     }
    ],
    "jupyter": {
     "outputs_hidden": true,
     "source_hidden": true
    },
    "legotype": "LEGO_TYPE_K8S",
    "name": "Change size of Kubernetes PVC",
    "nouns": [
     "pvc",
     "kubernetes",
     "volume"
    ],
    "orderProperties": [
     "namespace",
     "name",
     "resize_option",
     "resize_value"
    ],
    "output": {
     "type": ""
    },
    "tags": [
     "k8s_change_pvc_size"
    ],
    "trusted": true,
    "verbs": [
     "add",
     "modify",
     "resize"
    ],
    "credentialsJson": {}
   },
   "outputs": [],
   "source": [
    "#\n",
    "# Copyright (c) 2021 unSkript.com\n",
    "# All rights reserved.\n",
    "#\n",
    "\n",
    "import pprint\n",
    "from pydantic import BaseModel, Field\n",
    "from typing import Optional\n",
    "from unskript.enums.aws_k8s_enums import SizingOption\n",
    "\n",
    "from beartype import beartype\n",
    "\n",
    "def k8s_change_pvc_size_printer(output):\n",
    "    if output is None:\n",
    "        return\n",
    "\n",
    "    pprint.pprint(output)\n",
    "\n",
    "\n",
    "@beartype\n",
    "def k8s_change_pvc_size(handle, namespace: str, name: str, resize_option: SizingOption, resize_value: float) -> str:\n",
    "    # Get the current size.\n",
    "    kubectl_command = f'kubectl get pvc {name} -n {namespace}  -o jsonpath={{.status.capacity.storage}}'\n",
    "    result = handle.run_native_cmd(kubectl_command)\n",
    "    if result.stderr:\n",
    "        print(\n",
    "            f\"Error while executing command ({kubectl_command}): {result.stderr}\")\n",
    "        return None\n",
    "\n",
    "    currentSize = result.stdout\n",
    "    currentSizeInt = int(currentSize.rstrip(\"Gi\"))\n",
    "    if resize_option == SizingOption.Add:\n",
    "        newSizeInt = currentSizeInt + resize_value\n",
    "    else:\n",
    "        newSizeInt = currentSizeInt * resize_value\n",
    "    newSize = str(newSizeInt) + \"Gi\"\n",
    "    print(f'Current size {currentSize}, new Size {newSize}')\n",
    "    kubectl_command = f'kubectl patch pvc {name} -n {namespace} -p \\'{{\"spec\":{{\"resources\":{{\"requests\": {{\"storage\": \"{newSize}\"}}}}}}}}\\''\n",
    "    result = handle.run_native_cmd(kubectl_command)\n",
    "    if result.stderr:\n",
    "        print(\n",
    "            f\"Error while executing command ({kubectl_command}): {result.stderr}\")\n",
    "        return None\n",
    "    print(f'PVC {name} size changed to {newSize} successfully')\n",
    "    return result.stdout\n",
    "\n",
    "task = Task(Workflow())\n",
    "task.configure(inputParamsJson='''{\n",
    "    \"name\": \"PVCName\",\n",
    "    \"namespace\": \"Namespace\",\n",
    "    \"resize_option\": \"SizingOption.Add if ResizeOption == \\\\\"Add\\\\\" else SizingOption.Mutiple\",\n",
    "    \"resize_value\": \"float(Value)\"\n",
    "    }''')\n",
    "(err, hdl, args) = task.validate(vars=vars())\n",
    "if err is None:\n",
    "    task.execute(k8s_change_pvc_size, lego_printer=k8s_change_pvc_size_printer, hdl=hdl, args=args)"
   ]
  },
  {
   "cell_type": "markdown",
   "id": "da3a2918",
   "metadata": {},
   "source": [
    "<p id=\"4\"> </p>\n",
    "\n",
    "### Find out the POD related to the PVC\n",
    "\n",
    "Here we discover the POD name related to the PVC. This will be important for our Next step where\n",
    "we may have to `restart` the POD depending on the `RestartPodsAfterResize` being enabled or not. This\n",
    "cell will store the Pod Name in the variable `podName`"
   ]
  },
  {
   "cell_type": "code",
   "execution_count": null,
   "id": "0c681b88-cc58-441d-8e01-a8ce0ec44ef6",
   "metadata": {
    "actionNeedsCredential": true,
    "actionSupportsIteration": true,
    "actionSupportsPoll": true,
    "continueOnError": false,
    "execution_data": {
     "last_date_success_run_cell": "2022-07-06T08:20:56.820Z"
    },
    "inputData": [
     {
      "namespace": {
       "constant": false,
       "value": "Namespace"
      },
      "pvc": {
       "constant": false,
       "value": "PVCName"
      }
     }
    ],
    "inputschema": [
     {
      "properties": {
       "namespace": {
        "default": "",
        "description": "Namespace of the PVC.",
        "title": "Namespace",
        "type": "string"
       },
       "pvc": {
        "default": "",
        "description": "Name of the PVC.",
        "title": "PVC Name",
        "type": "string"
       }
      },
      "required": [
       "namespace",
       "pvc"
      ],
      "title": "k8s_get_pods_attached_to_pvc",
      "type": "object"
     }
    ],
    "jupyter": {
     "source_hidden": true
    },
    "legotype": "LEGO_TYPE_K8S",
    "orderProperties": [
     "namespace",
     "pvc"
    ],
    "outputParams": {
     "output_name": "podName",
     "output_name_enabled": true
    },
    "tags": [],
    "title": "Get pods attached to Kubernetes PVC",
    "credentialsJson": {}
   },
   "outputs": [],
   "source": [
    "#\n",
    "# Copyright (c) 2021 unSkript.com\n",
    "# All rights reserved.\n",
    "#\n",
    "\n",
    "from pydantic import BaseModel, Field\n",
    "from typing import Optional\n",
    "import enum\n",
    "\n",
    "from beartype import beartype\n",
    "@beartype\n",
    "def k8s_get_pods_attached_to_pvc(handle, namespace: str, pvc: str) :\n",
    "    kubectl_command = f\"kubectl describe pvc {pvc} -n {namespace} | awk \\'/Used By/ {{print $3}}\\'\"\n",
    "    result = handle.run_native_cmd(kubectl_command)\n",
    "    if result.stderr:\n",
    "        print(\n",
    "            f\"Error while executing command ({kubectl_command}): {result.stderr}\")\n",
    "        return None\n",
    "    return result.stdout\n",
    "\n",
    "\n",
    "\n",
    "\n",
    "task = Task(Workflow())\n",
    "task.configure(inputParamsJson='''{\n",
    "    \"namespace\": \"Namespace\",\n",
    "    \"pvc\": \"PVCName\"\n",
    "    }''')\n",
    "task.configure(outputName=\"podName\")\n",
    "(err, hdl, args) = task.validate(vars=vars())\n",
    "if err is None:\n",
    "    task.output = task.execute(k8s_get_pods_attached_to_pvc, hdl, args)\n",
    "if hasattr(task, 'output'):\n",
    "    print(task.output)"
   ]
  },
  {
   "cell_type": "code",
   "execution_count": null,
   "id": "e066a114-5445-45b0-a64d-e1c32c5bd37b",
   "metadata": {
    "actionNeedsCredential": true,
    "actionSupportsIteration": true,
    "actionSupportsPoll": true,
    "execution_data": {
     "last_date_success_run_cell": "2022-07-06T08:20:59.242Z"
    },
    "jupyter": {
     "source_hidden": true
    },
    "orderProperties": [],
    "tags": [],
    "title": "Podname",
    "credentialsJson": {}
   },
   "outputs": [],
   "source": [
    "podName = podName.strip()\n",
    "print(f'Pod {podName} attached to PVC {PVCName}')"
   ]
  },
  {
   "cell_type": "markdown",
   "id": "750054c8",
   "metadata": {},
   "source": [
    "<p id=\"41\"> </p>\n",
    "\n",
    "### Restart POD if RestartPodsAfterResize enabled\n",
    "\n",
    "Here we use the `kubectl delete pod` command to delete the POD that was identified in the previous step.\n",
    "Once deleted, K8S will restart the pod and hence achieve the objective. This cell makes use of unSkript `Start Condition`\n",
    "Feature to execute only when it finds out `RestartPodsAfterResize` is set to `True`. "
   ]
  },
  {
   "cell_type": "code",
   "execution_count": null,
   "id": "a6ead3c5-b1e1-4973-b5df-bbf247b8bc4f",
   "metadata": {
    "actionNeedsCredential": true,
    "actionSupportsIteration": true,
    "actionSupportsPoll": true,
    "condition_enabled": true,
    "continueOnError": false,
    "execution_data": {
     "last_date_success_run_cell": "2022-07-06T08:22:59.575Z"
    },
    "inputData": [
     {
      "kubectl_command": {
       "constant": false,
       "value": "f\"kubectl delete pod {podName} -n {Namespace}\""
      }
     }
    ],
    "inputschema": [
     {
      "properties": {
       "kubectl_command": {
        "description": "kubectl command eg kubectl get pods --all-namespaces",
        "title": "Kubectl Command",
        "type": "string"
       }
      },
      "required": [
       "kubectl_command"
      ],
      "title": "k8s_kubectl_command",
      "type": "object"
     }
    ],
    "jupyter": {
     "source_hidden": true
    },
    "legotype": "LEGO_TYPE_K8S",
    "orderProperties": [
     "kubectl_command"
    ],
    "startcondition": "RestartPodsAfterResize==True",
    "tags": [],
    "title": "Restart the pod",
    "credentialsJson": {}
   },
   "outputs": [],
   "source": [
    "#\n",
    "# Copyright (c) 2021 unSkript.com\n",
    "# All rights reserved.\n",
    "#\n",
    "\n",
    "from pydantic import BaseModel, Field\n",
    "\n",
    "\n",
    "from beartype import beartype\n",
    "@beartype\n",
    "def k8s_kubectl_command(handle, kubectl_command: str) :\n",
    "\n",
    "    assert(kubectl_command.startswith(\"kubectl\"))\n",
    "\n",
    "    result = handle.run_native_cmd(kubectl_command)\n",
    "    if result.stderr:\n",
    "        print(\n",
    "            f\"Error while executing command ({kubectl_command}): {result.stderr}\")\n",
    "        return None\n",
    "\n",
    "    return result.stdout\n",
    "\n",
    "\n",
    "\n",
    "\n",
    "task = Task(Workflow())\n",
    "task.configure(inputParamsJson='''{\n",
    "    \"kubectl_command\": \"f\\\\\"kubectl delete pod {podName} -n {Namespace}\\\\\"\"\n",
    "    }''')\n",
    "task.configure(conditionsJson='''{\n",
    "    \"condition_enabled\": true,\n",
    "    \"condition_cfg\": \"RestartPodsAfterResize==True\",\n",
    "    \"condition_result\": true\n",
    "    }''')\n",
    "\n",
    "(err, hdl, args) = task.validate(vars=vars())\n",
    "if err is None:\n",
    "    task.output = task.execute(k8s_kubectl_command, hdl, args)\n",
    "if hasattr(task, 'output'):\n",
    "    print(task.output)"
   ]
  },
  {
   "cell_type": "markdown",
   "id": "14e46ad5",
   "metadata": {},
   "source": [
    "<p id=\"5\"> </p>\n",
    "\n",
    "### Verify resize by running 'df -kh' on the pod attached to the PVC.\n",
    "\n",
    "In this cell, we will use the `df -k` command on the POD to verify if resize was done successfuly or not."
   ]
  },
  {
   "cell_type": "code",
   "execution_count": null,
   "id": "7f8afd44-782b-46aa-9e5e-f4b4bec5113c",
   "metadata": {
    "actionNeedsCredential": true,
    "actionSupportsIteration": true,
    "actionSupportsPoll": true,
    "continueOnError": false,
    "execution_data": {
     "last_date_success_run_cell": "2022-07-06T08:23:57.251Z"
    },
    "inputData": [
     {
      "command": {
       "constant": false,
       "value": "[\"df\", \"-kh\"]"
      },
      "namespace": {
       "constant": false,
       "value": "Namespace"
      },
      "podname": {
       "constant": false,
       "value": "podName"
      }
     }
    ],
    "inputschema": [
     {
      "properties": {
       "command": {
        "description": "List of Commands to Execute on the Pod, ex: [\"/bin/sh\",\"-c\",\"nslookup google.com\"]",
        "items": {},
        "title": "Command",
        "type": "array"
       },
       "namespace": {
        "description": "Kubernetes namespace.",
        "title": "Namespace",
        "type": "string"
       },
       "podname": {
        "description": "Kubernetes Pod Name",
        "title": "Pod",
        "type": "string"
       }
      },
      "required": [
       "namespace",
       "podname",
       "command"
      ],
      "title": "k8s_exec_command_on_pod",
      "type": "object"
     }
    ],
    "jupyter": {
     "source_hidden": true
    },
    "legotype": "LEGO_TYPE_K8S",
    "orderProperties": [
     "namespace",
     "podname",
     "command"
    ],
    "tags": [],
    "title": "Execute a command on a Kuberentes POD in a given Namespace",
    "credentialsJson": {}
   },
   "outputs": [],
   "source": [
    "#\n",
    "# Copyright (c) 2021 unSkript.com\n",
    "# All rights reserved.\n",
    "#\n",
    "\n",
    "from typing import List\n",
    "\n",
    "from kubernetes import client\n",
    "from kubernetes.stream import stream\n",
    "from pydantic import BaseModel, Field\n",
    "\n",
    "\n",
    "from beartype import beartype\n",
    "@beartype\n",
    "def k8s_exec_command_on_pod(handle, namespace: str, podname: str, command: List) :\n",
    "    coreApiClient = client.CoreV1Api(api_client=handle)\n",
    "\n",
    "    try:\n",
    "        resp = stream(coreApiClient.connect_get_namespaced_pod_exec,\n",
    "                      podname,\n",
    "                      namespace,\n",
    "                      command=list(command),\n",
    "                      stderr=True,\n",
    "                      stdin=True,\n",
    "                      stdout=True,\n",
    "                      tty=False\n",
    "                      )\n",
    "    except:\n",
    "        resp = 'An Exception occured while executing the command'\n",
    "\n",
    "    return resp\n",
    "\n",
    "\n",
    "\n",
    "\n",
    "task = Task(Workflow())\n",
    "task.configure(inputParamsJson='''{\n",
    "    \"command\": \"[\\\\\"df\\\\\", \\\\\"-kh\\\\\"]\",\n",
    "    \"namespace\": \"Namespace\",\n",
    "    \"podname\": \"podName\"\n",
    "    }''')\n",
    "\n",
    "(err, hdl, args) = task.validate(vars=vars())\n",
    "print(args)\n",
    "if err is None:\n",
    "    task.output = task.execute(k8s_exec_command_on_pod, hdl, args)\n",
    "if hasattr(task, 'output'):\n",
    "    print(task.output)"
   ]
  },
  {
   "cell_type": "markdown",
   "id": "14d6fe76",
   "metadata": {},
   "source": [
    "<p id=\"51\"> </p>\n",
    "\n",
    "### Final verification \n",
    "\n",
    "Here, we will use the `kubectl get pvc` to query the modified storage size. The result is printed \n",
    "for user to verify if the value is set properly."
   ]
  },
  {
   "cell_type": "code",
   "execution_count": null,
   "id": "e16536af-a22f-4a84-9cdb-c85e54d78c44",
   "metadata": {
    "actionNeedsCredential": true,
    "actionSupportsIteration": true,
    "actionSupportsPoll": true,
    "continueOnError": false,
    "execution_data": {
     "last_date_success_run_cell": "2022-07-07T04:04:41.797Z"
    },
    "inputData": [
     {
      "kubectl_command": {
       "constant": false,
       "value": "f\"kubectl get pvc {PVCName} -n {Namespace}  -o jsonpath={{.status.capacity.storage}}\""
      }
     }
    ],
    "inputschema": [
     {
      "properties": {
       "kubectl_command": {
        "description": "kubectl command eg kubectl get pods --all-namespaces",
        "title": "Kubectl Command",
        "type": "string"
       }
      },
      "required": [
       "kubectl_command"
      ],
      "title": "k8s_kubectl_command",
      "type": "object"
     }
    ],
    "jupyter": {
     "source_hidden": true
    },
    "legotype": "LEGO_TYPE_K8S",
    "orderProperties": [
     "kubectl_command"
    ],
    "outputParams": {
     "output_name": "newSize",
     "output_name_enabled": true
    },
    "tags": [],
    "title": "Run kubectl commands on local k8s cluster",
    "credentialsJson": {}
   },
   "outputs": [],
   "source": [
    "#\n",
    "# Copyright (c) 2021 unSkript.com\n",
    "# All rights reserved.\n",
    "#\n",
    "\n",
    "from pydantic import BaseModel, Field\n",
    "\n",
    "\n",
    "from beartype import beartype\n",
    "@beartype\n",
    "def k8s_kubectl_command(handle, kubectl_command: str) :\n",
    "\n",
    "    result = handle.run_native_cmd(kubectl_command)\n",
    "    if result is None or hasattr(result, \"stderr\") is False or result.stderr is None:\n",
    "        print(\n",
    "            f\"Error while executing command ({kubectl_command}): {result.stderr}\")\n",
    "        return None\n",
    "\n",
    "    return result.stdout\n",
    "\n",
    "\n",
    "task = Task(Workflow())\n",
    "task.configure(inputParamsJson='''{\n",
    "    \"kubectl_command\": \"f\\\\\"kubectl get pvc {PVCName} -n {Namespace}  -o jsonpath={{.status.capacity.storage}}\\\\\"\"\n",
    "    }''')\n",
    "task.configure(outputName=\"newSize\")\n",
    "\n",
    "(err, hdl, args) = task.validate(vars=vars())\n",
    "if err is None:\n",
    "    task.output = task.execute(k8s_kubectl_command, hdl, args)\n",
    "if hasattr(task, 'output'):\n",
    "    if isinstance(task.output, (list, tuple)):\n",
    "        for item in task.output:\n",
    "            print(f'item: {item}')\n",
    "    elif isinstance(task.output, dict):\n",
    "        for item in task.output.items():\n",
    "            print(f'item: {item}')\n",
    "    else:\n",
    "        print(task.output)"
   ]
  },
  {
   "cell_type": "markdown",
   "id": "5f6e990b",
   "metadata": {},
   "source": [
    "### Conclusion\n",
    "\n",
    "In this runbook, we used unSkript `Start Condition`, `Chaining` and `Custom Cell` features to construct a complex Runbook such as Resizing PVC for a given K8S Cluster.  \n",
    "\n",
    "<br>\n",
    "\n",
    "To learn more about the `unSkript` platform, Please visit https://unskript.com "
   ]
  }
 ],
 "metadata": {
  "execution_data": {
   "runbook_name": "Resize PVC",
   "parameters": [
    "Value",
    "Channel",
    "Namespace",
    "PVCName",
    "ResizeOption",
    "RestartPodsAfterResize"
   ]
  },
  "kernelspec": {
   "display_name": "Python 3.8.2 64-bit",
   "language": "python",
   "name": "python3"
  },
  "language_info": {
   "file_extension": ".py",
   "mimetype": "text/x-python",
   "name": "python",
   "pygments_lexer": "ipython3",
   "version": "3.9.6"
  },
  "parameterSchema": {
   "properties": {
    "Channel": {
     "description": "Slack channel",
     "title": "Channel",
     "type": "string"
    },
    "Namespace": {
     "description": "Namespace of the PVC",
     "title": "Namespace",
     "type": "string"
    },
    "PVCName": {
     "description": "Name of the PVC",
     "title": "PVCName",
     "type": "string"
    },
    "ResizeOption": {
     "default": "Add",
     "description": "Option to resize the volume. 2 options supported:             1. Add - Use this option to resize by an amount.             2. Multiple - Use this option if you want to resize by a multiple of the current volume size.",
     "title": "ResizeOption",
     "type": "string"
    },
    "RestartPodsAfterResize": {
     "default": false,
     "description": "Restart the pods after PVC resize",
     "title": "RestartPodsAfterResize",
     "type": "boolean"
    },
    "Value": {
     "description": "Based on the resize option chosen, specify the value (float). For eg, if you chose Add option, this             value will be a value in Gb (like 100.0). If you chose, this value will be a multiplying factor             to the current volume size. For eg, to double, specify value as 2.0",
     "title": "Value",
     "type": "number"
    }
   },
   "required": [],
   "title": "Schema",
   "type": "object"
  },
  "parameterValues": {
   "Channel": "demo",
   "Namespace": "mongo",
   "PVCName": "datadir-mongo-mongodb-1",
   "ResizeOption": "Add",
   "RestartPodsAfterResize": false,
   "Value": 1
  },
  "vscode": {
   "interpreter": {
    "hash": "31f2aee4e71d21fbe5cf8b01ff0e069b9275f58929596ceb00d14d90e3e16cd6"
   }
  }
 },
 "nbformat": 4,
 "nbformat_minor": 5
}