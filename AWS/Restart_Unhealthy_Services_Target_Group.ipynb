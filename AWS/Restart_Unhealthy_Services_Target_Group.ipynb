{
 "cells": [
  {
   "cell_type": "markdown",
   "id": "60338620-97a9-4b89-9897-f6ff0b25a8a2",
   "metadata": {
    "jupyter": {
     "source_hidden": false
    },
    "name": "Steps Overview",
    "orderProperties": [],
    "tags": [],
    "title": "Steps Overview"
   },
   "source": [
    "<hr><center><img src=\"https://storage.googleapis.com/unskript-website/assets/favicon.png\" alt=\"unSkript.com\" width=\"100\" height=\"100\">\n",
    "<h1 id=\"unSkript-Runbooks&para;&para;\">unSkript Runbooks<a class=\"jp-InternalAnchorLink\" href=\"#unSkript-Runbooks\" target=\"_self\" rel=\"noopener\">&para;</a><a class=\"jp-InternalAnchorLink\" rel=\"noopener\" data-commandlinker-command=\"rendermime:handle-local-link\" data-commandlinker-args=\"{&quot;path&quot;:&quot;102cd538-b28a-4b74-8893-861ce9824189/current/#unSkript-Runbooks&para;&quot;,&quot;id&quot;:&quot;#unSkript-Runbooks%C2%B6&quot;}\">&para;</a><a class=\"jp-InternalAnchorLink\" href=\"#unSkript-Runbooks&para;&para;\" target=\"_self\">&para;</a></h1>\n",
    "<div class=\"alert alert-block alert-success\">\n",
    "<h3 id=\"Objective&para;&para;\">Objective<a class=\"jp-InternalAnchorLink\" href=\"#Objective\" target=\"_self\" rel=\"noopener\">&para;</a><a class=\"jp-InternalAnchorLink\" href=\"../../../../../../files/102cd538-b28a-4b74-8893-861ce9824189/current/%23Objective%C2%B6?_xsrf=2%7C8f9a50d0%7C0b0c9812a06894c95a6f3bd724b42d0a%7C1676185969#Objective%C2%B6\" target=\"_self\" rel=\"noopener\" data-commandlinker-command=\"rendermime:handle-local-link\" data-commandlinker-args=\"{&quot;path&quot;:&quot;102cd538-b28a-4b74-8893-861ce9824189/current/#Objective&para;&quot;,&quot;id&quot;:&quot;#Objective%C2%B6&quot;}\">&para;</a><a class=\"jp-InternalAnchorLink\" href=\"#Objective&para;&para;\" target=\"_self\">&para;</a></h3>\n",
    "<br><strong style=\"color: #000000;\"><em>Stop untagged EC2 Instances</em></strong></div>\n",
    "</center>\n",
    "<p>&nbsp;</p>\n",
    "<center>\n",
    "<h2 id=\"Restart-Unhealthy-Services-in-Target-Group&para;&para;\"><u>Restart Unhealthy Services in Target Group</u><a class=\"jp-InternalAnchorLink\" href=\"#K8S-Pod-in-CrashLoopBack-State\" target=\"_self\" rel=\"noopener\">&para;</a><a class=\"jp-InternalAnchorLink\" href=\"../../../../../../files/102cd538-b28a-4b74-8893-861ce9824189/current/%23Stop-Untagged-EC2-Instances%C2%B6?_xsrf=2%7C8f9a50d0%7C0b0c9812a06894c95a6f3bd724b42d0a%7C1676185969#Stop-Untagged-EC2-Instances%C2%B6\" target=\"_self\" rel=\"noopener\" data-commandlinker-command=\"rendermime:handle-local-link\" data-commandlinker-args=\"{&quot;path&quot;:&quot;102cd538-b28a-4b74-8893-861ce9824189/current/#Stop-Untagged-EC2-Instances&para;&quot;,&quot;id&quot;:&quot;#Stop-Untagged-EC2-Instances%C2%B6&quot;}\">&para;</a><a class=\"jp-InternalAnchorLink\" href=\"#Restart-Unhealthy-Services-in-Target-Group&para;&para;\" target=\"_self\">&para;</a></h2>\n",
    "</center>\n",
    "<h1 id=\"Steps-Overview&para;&para;\">Steps Overview<a class=\"jp-InternalAnchorLink\" href=\"#Steps-Overview\" target=\"_self\" rel=\"noopener\">&para;</a><a class=\"jp-InternalAnchorLink\" href=\"../../../../../../files/102cd538-b28a-4b74-8893-861ce9824189/current/%23Steps-Overview%C2%B6?_xsrf=2%7C8f9a50d0%7C0b0c9812a06894c95a6f3bd724b42d0a%7C1676185969#Steps-Overview%C2%B6\" target=\"_self\" rel=\"noopener\" data-commandlinker-command=\"rendermime:handle-local-link\" data-commandlinker-args=\"{&quot;path&quot;:&quot;102cd538-b28a-4b74-8893-861ce9824189/current/#Steps-Overview&para;&quot;,&quot;id&quot;:&quot;#Steps-Overview%C2%B6&quot;}\">&para;</a><a class=\"jp-InternalAnchorLink\" href=\"#Steps-Overview&para;&para;\" target=\"_self\">&para;</a></h1>\n",
    "<p>1)&nbsp;<a href=\"#1\">List Unhealthy Instances in a Target Group</a><br>2)&nbsp;<a href=\"#2\" target=\"_self\" rel=\"noopener\">Restart EC2 instances</a></p>\n",
    "<hr>"
   ]
  },
  {
   "cell_type": "markdown",
   "id": "3f32667c-4322-4f3c-9dbd-7fa34185a12a",
   "metadata": {
    "jupyter": {
     "source_hidden": false
    },
    "name": "Step 1A",
    "orderProperties": [],
    "tags": [],
    "title": "Step 1A"
   },
   "source": [
    "<h3 id=\"List-all-AWS-Regions\">List all AWS Regions<a class=\"jp-InternalAnchorLink\" href=\"#List-all-AWS-Regions\" target=\"_self\">&para;</a></h3>\n",
    "<p>This action fetches all AWS Regions to execute Step 1\ud83d\udc47. This action will only execute if no <code>region</code> is provided.</p>\n",
    "<blockquote>\n",
    "<p>This action takes the following parameters: <code>None</code></p>\n",
    "</blockquote>\n",
    "<blockquote>\n",
    "<p>This action captures the following ouput: <code>region</code></p>\n",
    "</blockquote>"
   ]
  },
  {
   "cell_type": "code",
   "execution_count": 5,
   "id": "47d5703d-8a10-4700-93bf-9a3240c2fc71",
   "metadata": {
    "accessType": "ACCESS_TYPE_UNSPECIFIED",
    "actionBashCommand": false,
    "actionCategories": [],
    "actionIsCheck": false,
    "actionNeedsCredential": true,
    "actionNextHop": [],
    "actionNextHopParameterMapping": {},
    "actionOutputType": "",
    "actionRequiredLinesInCode": [],
    "actionSupportsIteration": true,
    "actionSupportsPoll": true,
    "action_modified": false,
    "action_uuid": "708ea4af5f8fe7096a15b3a52c4a657606bab9e177386fad7a847341ed607d64",
    "checkEnabled": false,
    "condition_enabled": true,
    "createTime": "1970-01-01T00:00:00Z",
    "currentVersion": "0.1.0",
    "description": "List all available AWS Regions",
    "execution_data": {
     "last_date_success_run_cell": "2023-02-15T17:34:16.422Z"
    },
    "id": 220,
    "index": 220,
    "inputschema": [
     {
      "properties": {},
      "title": "aws_list_all_regions",
      "type": "object"
     }
    ],
    "isUnskript": false,
    "jupyter": {
     "source_hidden": true
    },
    "legotype": "LEGO_TYPE_AWS",
    "name": "AWS List All Regions",
    "nouns": [
     "regions",
     "aws"
    ],
    "orderProperties": [],
    "output": {
     "type": ""
    },
    "outputParams": {
     "output_name": "region",
     "output_name_enabled": true
    },
    "printOutput": true,
    "startcondition": "not region",
    "tags": [
     "aws_list_all_regions"
    ],
    "verbs": [
     "list"
    ],
    "credentialsJson": {}
   },
   "outputs": [],
   "source": [
    "#\n",
    "# Copyright (c) 2021 unSkript.com\n",
    "# All rights reserved.\n",
    "#\n",
    "\n",
    "from pydantic import BaseModel, Field\n",
    "from typing import Dict, List\n",
    "import pprint\n",
    "\n",
    "from beartype import beartype\n",
    "@beartype\n",
    "def aws_list_all_regions_printer(output):\n",
    "    if output is None:\n",
    "        return\n",
    "    pprint.pprint(output)\n",
    "\n",
    "\n",
    "@beartype\n",
    "def aws_list_all_regions(handle) -> List:\n",
    "    \"\"\"aws_list_all_regions lists all the AWS regions\n",
    "\n",
    "        :type handle: object\n",
    "        :param handle: Object returned from Task Validate\n",
    "\n",
    "        :rtype: Result List of result\n",
    "    \"\"\"\n",
    "\n",
    "    result = handle.aws_cli_command(\"aws ec2 describe-regions --all-regions --query 'Regions[].{Name:RegionName}' --output text\")\n",
    "    if result is None or result.returncode != 0:\n",
    "        print(\"Error while executing command : {}\".format(result))\n",
    "        return str()\n",
    "    result_op = list(result.stdout.split(\"\\n\"))\n",
    "    list_region = [x for x in result_op if x != '']\n",
    "    return list_region\n",
    "\n",
    "\n",
    "task = Task(Workflow())\n",
    "task.configure(conditionsJson='''{\n",
    "    \"condition_enabled\": true,\n",
    "    \"condition_cfg\": \"not region\",\n",
    "    \"condition_result\": true\n",
    "    }''')\n",
    "\n",
    "task.configure(outputName=\"region\")\n",
    "task.configure(printOutput=True)\n",
    "(err, hdl, args) = task.validate(vars=vars())\n",
    "if err is None:\n",
    "    task.execute(aws_list_all_regions, lego_printer=aws_list_all_regions_printer, hdl=hdl, args=args)"
   ]
  },
  {
   "cell_type": "markdown",
   "id": "5f9ba125-c580-42cb-b7d7-941cdc145e9b",
   "metadata": {
    "jupyter": {
     "source_hidden": false
    },
    "name": "Step 1",
    "orderProperties": [],
    "tags": [],
    "title": "Step 1"
   },
   "source": [
    "<h3 id=\"List-Unhealthy-Instances-in-a-Target-Group&para;\"><a id=\"2\" target=\"_self\" rel=\"nofollow\"></a>List Unhealthy Instances in a Target Group</h3>\n",
    "<p>Here we will fetch all the untagged&nbsp; EC2 instances.&nbsp;</p>\n",
    "<blockquote>\n",
    "<p>This action takes the following parameters: <code>region(Optional)</code></p>\n",
    "</blockquote>\n",
    "<blockquote>\n",
    "<p>This action captures the following output: <code>unheathy_instances</code></p>\n",
    "</blockquote>"
   ]
  },
  {
   "cell_type": "code",
   "execution_count": 6,
   "id": "361ebb86-c85c-4f22-8fab-4d8bc7a2a250",
   "metadata": {
    "accessType": "ACCESS_TYPE_UNSPECIFIED",
    "actionBashCommand": false,
    "actionCategories": [
     "CATEGORY_TYPE_CLOUDOPS",
     "CATEGORY_TYPE_DEVOPS",
     "CATEGORY_TYPE_SRE",
     "CATEGORY_TYPE_TROUBLESHOOTNG"
    ],
    "actionIsCheck": true,
    "actionNeedsCredential": true,
    "actionNextHop": [
     "7a5cf9629c56eb979a01977330c3d2df656e965a78323be4fa49fdc3b527c9d7"
    ],
    "actionNextHopParameterMapping": {},
    "actionOutputType": "",
    "actionRequiredLinesInCode": [],
    "actionSupportsIteration": true,
    "actionSupportsPoll": true,
    "action_modified": false,
    "action_uuid": "6f7558325461f2ef5ec668dbf6356f199b20b606eba684e74764e1a16e46cd0d",
    "checkEnabled": false,
    "continueOnError": true,
    "createTime": "1970-01-01T00:00:00Z",
    "currentVersion": "0.1.0",
    "description": "List Unhealthy Instances in a target group",
    "execution_data": {
     "last_date_success_run_cell": "2023-02-15T17:34:46.020Z"
    },
    "id": 229,
    "index": 229,
    "inputData": [
     {
      "region": {
       "constant": false,
       "value": "iter_item"
      }
     }
    ],
    "inputschema": [
     {
      "properties": {
       "region": {
        "default": "",
        "description": "Name of the AWS Region",
        "title": "Region",
        "type": "string"
       }
      },
      "title": "aws_list_unhealthy_instances_in_target_group",
      "type": "object"
     }
    ],
    "isUnskript": false,
    "iterData": [
     {
      "iter_enabled": true,
      "iter_item": "region",
      "iter_list": {
       "constant": false,
       "objectItems": false,
       "value": "region"
      }
     }
    ],
    "jupyter": {
     "source_hidden": true
    },
    "legotype": "LEGO_TYPE_AWS",
    "name": "AWS List Unhealthy Instances in a Target Group",
    "nouns": [
     "unhealthy",
     "instances",
     "target",
     "group",
     "aws"
    ],
    "orderProperties": [
     "region"
    ],
    "output": {
     "type": ""
    },
    "outputParams": {
     "output_name": "unhealthy_instances",
     "output_name_enabled": true
    },
    "printOutput": true,
    "tags": [
     "aws_list_unhealthy_instances_in_target_group"
    ],
    "verbs": [
     "list"
    ],
    "credentialsJson": {}
   },
   "outputs": [],
   "source": [
    "from pydantic import BaseModel, Field\n",
    "from unskript.connectors.aws import aws_get_paginator\n",
    "from unskript.legos.aws.aws_list_all_regions.aws_list_all_regions import aws_list_all_regions\n",
    "from unskript.legos.utils import CheckOutput, CheckOutputStatus\n",
    "from unskript.legos.utils import parseARN\n",
    "from typing import List, Optional, Tuple\n",
    "import pprint\n",
    "\n",
    "def aws_list_unhealthy_instances_in_target_group_printer(output):\n",
    "    if output is None:\n",
    "        return\n",
    "    if isinstance(output, CheckOutput):\n",
    "        print(output.json())\n",
    "    else:\n",
    "        pprint.pprint(output)\n",
    "\n",
    "def get_all_target_groups(handle, r):\n",
    "    target_arns_list = []\n",
    "    elbv2Client = handle.client('elbv2', region_name=r)\n",
    "    try:\n",
    "        tbs = aws_get_paginator(elbv2Client, \"describe_target_groups\", \"TargetGroups\")\n",
    "        for index, tb in enumerate(tbs):\n",
    "            target_arns_list.append(tb.get('TargetGroupArn'))\n",
    "    except Exception as e:\n",
    "        pass\n",
    "    return target_arns_list\n",
    "\n",
    "def aws_list_unhealthy_instances_in_target_group(handle, region: str=None) -> Tuple:\n",
    "    result = []\n",
    "    unhealthy_instances_list = []\n",
    "    all_target_groups = []\n",
    "    unhealhthy_instances_dict ={}\n",
    "    all_regions = [region]\n",
    "    if region is None or len(region)==0:\n",
    "        all_regions = aws_list_all_regions(handle=handle)\n",
    "    for r in all_regions:\n",
    "        try:\n",
    "            output = get_all_target_groups(handle,r)\n",
    "            if len(output)!=0:\n",
    "                all_target_groups.append(output)\n",
    "        except Exception as e:\n",
    "            pass\n",
    "    for target_group in all_target_groups:\n",
    "        for o in target_group:\n",
    "            parsedArn = parseARN(o)\n",
    "            region_name = parsedArn['region']\n",
    "            elbv2Client = handle.client('elbv2', region_name=region_name)\n",
    "            try:\n",
    "                targetHealthResponse = elbv2Client.describe_target_health(TargetGroupArn=o)\n",
    "            except Exception as e:\n",
    "                raise e\n",
    "            for ins in targetHealthResponse[\"TargetHealthDescriptions\"]:\n",
    "                if ins['TargetHealth']['State'] in ['unhealthy']:\n",
    "                    unhealthy_instances_list.append(ins['Target']['Id'])\n",
    "    if len(unhealthy_instances_list)!=0:\n",
    "        unhealhthy_instances_dict['instance'] = unhealthy_instances_list\n",
    "        unhealhthy_instances_dict['region'] = region_name\n",
    "        result.append(unhealhthy_instances_dict)\n",
    "    if len(result)!=0:\n",
    "        return (False,result)\n",
    "    else:\n",
    "        return (True, None)\n",
    "\n",
    "task = Task(Workflow())\n",
    "task.configure(continueOnError=True)\n",
    "task.configure(inputParamsJson='''{\n",
    "    \"region\": \"iter_item\"\n",
    "    }''')\n",
    "task.configure(iterJson='''{\n",
    "    \"iter_enabled\": true,\n",
    "    \"iter_list_is_const\": false,\n",
    "    \"iter_list\": \"region\",\n",
    "    \"iter_parameter\": \"region\"\n",
    "    }''')\n",
    "task.configure(outputName=\"unhealthy_instances\")\n",
    "task.configure(printOutput=True)\n",
    "(err, hdl, args) = task.validate(vars=vars())\n",
    "if err is None:\n",
    "    task.execute(aws_list_unhealthy_instances_in_target_group, lego_printer=aws_list_unhealthy_instances_in_target_group_printer, hdl=hdl, args=args)"
   ]
  },
  {
   "cell_type": "markdown",
   "id": "0e938725-b388-4c57-87b1-fd2e4719f0e1",
   "metadata": {
    "jupyter": {
     "source_hidden": false
    },
    "name": "Step 2A",
    "orderProperties": [],
    "tags": [],
    "title": "Step 2A"
   },
   "source": [
    "<h3 id=\"Create-List-of-untagged-instances&para;\"><a id=\"2\" target=\"_self\" rel=\"nofollow\"></a>Create List of unhealthy instances</h3>\n",
    "<blockquote>\n",
    "<p>This action captures the following output: <code>all_unhealthy_instances</code></p>\n",
    "</blockquote>"
   ]
  },
  {
   "cell_type": "code",
   "execution_count": 7,
   "id": "ad13b804-ad7f-433e-8910-d01d679a262a",
   "metadata": {
    "customAction": true,
    "execution_data": {
     "last_date_success_run_cell": "2023-02-15T17:34:55.755Z"
    },
    "jupyter": {
     "source_hidden": true
    },
    "name": "Create List of unhealthy instances",
    "orderProperties": [],
    "tags": [],
    "title": "Create List of unhealthy instances",
    "credentialsJson": {}
   },
   "outputs": [],
   "source": [
    "all_unhealthy_instances =[]\n",
    "for k,v in unhealthy_instances.items():\n",
    "    for each_output in v:\n",
    "        if type(each_output)== list:\n",
    "            if len(each_output)!=0:\n",
    "                for each_instance in each_output:\n",
    "                    all_unhealthy_instances.append(each_instance)\n",
    "print(all_unhealthy_instances)"
   ]
  },
  {
   "cell_type": "markdown",
   "id": "464a91c4-371f-426e-a6d6-32c2266d42e4",
   "metadata": {
    "jupyter": {
     "source_hidden": false
    },
    "name": "Step 2",
    "orderProperties": [],
    "tags": [],
    "title": "Step 2"
   },
   "source": [
    "<h3 id=\"List-Unhealthy-Instances-in-a-Target-Group&para;\"><a id=\"2\" target=\"_self\" rel=\"nofollow\"></a>Restart EC2 instances</h3>\n",
    "<p>Here we will restart all the unhealthy EC2 instances.&nbsp;</p>\n",
    "<blockquote>\n",
    "<p>This action takes the following parameters: <code>region, instance_ids</code></p>\n",
    "</blockquote>\n",
    "<blockquote>\n",
    "<p>This action captures the following output: <code>None</code></p>\n",
    "</blockquote>"
   ]
  },
  {
   "cell_type": "code",
   "execution_count": null,
   "id": "23059dc8-f854-4301-a557-c62683a0d045",
   "metadata": {
    "accessType": "ACCESS_TYPE_UNSPECIFIED",
    "actionBashCommand": false,
    "actionCategories": [],
    "actionIsCheck": false,
    "actionNeedsCredential": true,
    "actionNextHop": [],
    "actionNextHopParameterMapping": {},
    "actionOutputType": "",
    "actionRequiredLinesInCode": [],
    "actionSupportsIteration": true,
    "actionSupportsPoll": true,
    "action_modified": false,
    "action_uuid": "e7d021a8e955291cf31e811e64a86baa2a902ea2185cb76e7121ebbab261c320",
    "checkEnabled": false,
    "continueOnError": true,
    "createTime": "1970-01-01T00:00:00Z",
    "currentVersion": "0.1.0",
    "description": "Restart AWS EC2 Instances",
    "id": 250,
    "index": 250,
    "inputData": [
     {
      "instance_ids": {
       "constant": false,
       "value": "\"iter.get(\\\\\"instance\\\\\")\""
      },
      "region": {
       "constant": false,
       "value": "\"iter.get(\\\\\"region\\\\\")\""
      }
     }
    ],
    "inputschema": [
     {
      "properties": {
       "instance_ids": {
        "description": "List of instance IDs. For eg. [\"i-foo\", \"i-bar\"]",
        "items": {
         "type": "string"
        },
        "title": "Instance IDs",
        "type": "array"
       },
       "region": {
        "description": "AWS Region of the instances.",
        "title": "Region",
        "type": "string"
       }
      },
      "required": [
       "instance_ids",
       "region"
      ],
      "title": "aws_restart_ec2_instances",
      "type": "object"
     }
    ],
    "isUnskript": false,
    "iterData": [
     {
      "iter_enabled": true,
      "iter_item": {
       "instance_ids": "instance",
       "region": "region"
      },
      "iter_list": {
       "constant": false,
       "objectItems": true,
       "value": "all_unhealthy_instances"
      }
     }
    ],
    "jupyter": {
     "source_hidden": true
    },
    "legotype": "LEGO_TYPE_AWS",
    "name": "Restart AWS EC2 Instances",
    "nouns": [],
    "orderProperties": [
     "instance_ids",
     "region"
    ],
    "output": {
     "type": ""
    },
    "printOutput": true,
    "tags": [
     "aws_restart_ec2_instances"
    ],
    "verbs": [],
    "credentialsJson": {}
   },
   "outputs": [],
   "source": [
    "##  Copyright (c) 2021 unSkript, Inc\n",
    "##  All rights reserved.\n",
    "##\n",
    "from typing import List, Dict\n",
    "from pydantic import BaseModel, Field\n",
    "import pprint\n",
    "from beartype import beartype\n",
    "\n",
    "from beartype import beartype\n",
    "@beartype\n",
    "def aws_restart_ec2_instances_printer(output):\n",
    "    if output is None:\n",
    "        return\n",
    "    pprint.pprint(output)\n",
    "\n",
    "\n",
    "@beartype\n",
    "@beartype\n",
    "def aws_restart_ec2_instances(handle, instance_ids: List, region: str) -> Dict:\n",
    "    \"\"\"aws_restart_instances Restarts instances.\n",
    "\n",
    "        :type handle: object\n",
    "        :param handle: Object returned by the task.validate(...) method.\n",
    "\n",
    "        :type instance_ids: list\n",
    "        :param instance_ids: List of instance ids.\n",
    "\n",
    "        :type region: string\n",
    "        :param region: Region for instance.\n",
    "\n",
    "        :rtype: Dict with the restarted instances info.\n",
    "    \"\"\"\n",
    "\n",
    "    ec2Client = handle.client('ec2', region_name=region)\n",
    "    res = ec2Client.reboot_instances(InstanceIds=instance_ids)\n",
    "    return res\n",
    "\n",
    "\n",
    "task = Task(Workflow())\n",
    "task.configure(continueOnError=True)\n",
    "task.configure(inputParamsJson='''{\n",
    "    \"instance_ids\": \"iter.get(\\\\\"instance\\\\\")\",\n",
    "    \"region\": \"iter.get(\\\\\"region\\\\\")\"\n",
    "    }''')\n",
    "task.configure(iterJson='''{\n",
    "    \"iter_enabled\": true,\n",
    "    \"iter_list_is_const\": false,\n",
    "    \"iter_list\": \"all_unhealthy_instances\",\n",
    "    \"iter_parameter\": [\"instance_ids\",\"region\"]\n",
    "    }''')\n",
    "task.configure(printOutput=True)\n",
    "(err, hdl, args) = task.validate(vars=vars())\n",
    "if err is None:\n",
    "    task.execute(aws_restart_ec2_instances, lego_printer=aws_restart_ec2_instances_printer, hdl=hdl, args=args)"
   ]
  },
  {
   "cell_type": "markdown",
   "id": "ae582460-4ae2-4d66-8328-1fb1deb238c3",
   "metadata": {
    "jupyter": {
     "source_hidden": false
    },
    "name": "Conclusion",
    "orderProperties": [],
    "tags": [],
    "title": "Conclusion"
   },
   "source": [
    "<h3 id=\"Conclusion&para;&para;\">Conclusion</h3>\n",
    "<p>In this Runbook, we were able to restart all unhealthy EC2 instances in a target group using unSkript's AWS actions. To view the full platform capabilities of unSkript please visit&nbsp;<a href=\"https://us.app.unskript.io\" target=\"_blank\" rel=\"noopener\">us.app.unskript.io</a></p>"
   ]
  }
 ],
 "metadata": {
  "execution_data": {
   "runbook_name": "Restart unhealthy services in a Target Group",
   "parameters": [
    "region"
   ]
  },
  "kernelspec": {
   "display_name": "Python 3.9.6 64-bit",
   "language": "python",
   "name": "python3"
  },
  "language_info": {
   "file_extension": ".py",
   "mimetype": "text/x-python",
   "name": "python",
   "pygments_lexer": "ipython3",
   "version": "3.9.6"
  },
  "parameterSchema": {
   "properties": {
    "region": {
     "description": "AWS region(s) to get the target groups from. Eg: [\"us-west-2\", \"ap-south-1\"]",
     "title": "region",
     "type": "array"
    }
   },
   "required": [],
   "title": "Schema",
   "type": "object"
  },
  "parameterValues": null,
  "vscode": {
   "interpreter": {
    "hash": "31f2aee4e71d21fbe5cf8b01ff0e069b9275f58929596ceb00d14d90e3e16cd6"
   }
  }
 },
 "nbformat": 4,
 "nbformat_minor": 5
}