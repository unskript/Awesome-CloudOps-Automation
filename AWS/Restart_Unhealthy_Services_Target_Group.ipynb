{
    "cells": [
        {
            "cell_type": "markdown",
            "id": "94892498-0e84-4043-9803-272c44e98de0",
            "metadata": {
                "jupyter": {
                    "source_hidden": false
                },
                "name": "Overview",
                "orderProperties": [],
                "tags": [],
                "title": "Overview"
            },
            "source": [
                "<img src=\"https://unskript.com/assets/favicon.png\" alt=\"unSkript.com\" width=\"100\" height=\"100\"/> \n",
                "<h1> unSkript Runbooks </h1>\n",
                "<div class=\"alert alert-block alert-success\">\n",
                "    <b> This runbook demonstrates How to restart a unHealthy service target group using unSkript legos.</b>\n",
                "</div>\n",
                "\n",
                "<br>\n",
                "\n",
                "<center><h2>Restart unHealthy Service Target Group</h2></center>\n",
                "\n",
                "# Steps Overview\n",
                "1) Get the list of Target group matching the tag and their corresponding tag value (which is the restart command). Store this in targetGroupARNs, which is a list of targetGroupARN and corresponding restart command.\n",
                "2) Get the list of unhealthy instances behind each target group. Store this in an array named unHealthyInstanceIDs. This contains the TargetGroupARN, InstanceID, RestartCommand.\n",
                "3) For each instance in unHealthyInstanceIDs, get their public/private IP. Store this in IPsAndRestartCommandList.\n",
                "4) Run remote ssh command for each entry in IPsAndRestartCommandList.\n",
                "5) Create per target group ARN Slack message and store it in messages.\n",
                "6) Iterate over messages and send one by one on slack."
            ]
        },
        {
            "cell_type": "markdown",
            "id": "475607e0",
            "metadata": {},
            "source": [
                "Here we will use unSkript Filter AWS Target groups by tag name Lego. This lego takes tag_key and region as input. This inputs is used to Filter AWS Target groups which have the provided tag attached to it. It also returns the value of that tag for each target group."
            ]
        },
        {
            "cell_type": "code",
            "execution_count": null,
            "id": "ba114c5d-5a33-4231-8578-f05454284ea7",
            "metadata": {
                "accessType": "ACCESS_TYPE_UNSPECIFIED",
                "actionBashCommand": false,
                "actionNeedsCredential": true,
                "actionSupportsIteration": true,
                "actionSupportsPoll": true,
                "action_uuid": "5ce1f8bc06843aa005b3401e379d4b3cfad81cb3ea5cb93eeb9c8816d705b3f3",
                "createTime": "1970-01-01T00:00:00Z",
                "currentVersion": "0.1.0",
                "description": "Filter AWS Target groups which have the provided tag attached to it. It also returns the value of that tag for each target group",
                "id": 138,
                "index": 138,
                "inputData": [
                    {
                        "region": {
                            "constant": false,
                            "value": "Region"
                        },
                        "tag_key": {
                            "constant": false,
                            "value": "RestartCommandTagName"
                        }
                    }
                ],
                "inputschema": [
                    {
                        "properties": {
                            "region": {
                                "description": "AWS Region.",
                                "title": "Region",
                                "type": "string"
                            },
                            "tag_key": {
                                "description": "Name of the tag to filter by.",
                                "title": "Tag name",
                                "type": "string"
                            }
                        },
                        "required": [
                            "tag_key",
                            "region"
                        ],
                        "title": "aws_filter_target_groups_by_tags",
                        "type": "object"
                    }
                ],
                "jupyter": {
                    "source_hidden": true
                },
                "legotype": "LEGO_TYPE_AWS",
                "name": "Filter AWS Target groups by tag name",
                "nouns": [
                    "aws",
                    "target",
                    "elbv2",
                    "tag",
                    "group"
                ],
                "orderProperties": [
                    "tag_key",
                    "region"
                ],
                "output": {
                    "type": ""
                },
                "outputParams": {
                    "output_name": "targetGroupARNs",
                    "output_name_enabled": true
                },
                "tags": [
                    "aws_filter_target_groups_by_tags"
                ],
                "verbs": [
                    "filter"
                ]
            },
            "outputs": [],
            "source": [
                "##\n",
                "##  Copyright (c) 2021 unSkript, Inc\n",
                "##  All rights reserved.\n",
                "##\n",
                "from pydantic import BaseModel, Field\n",
                "from typing import List\n",
                "from unskript.connectors.aws import aws_get_paginator\n",
                "\n",
                "from beartype import beartype\n",
                "@beartype\n",
                "def aws_filter_target_groups_by_tags(handle, tag_key: str, region: str) -> List:\n",
                "    elbv2Client = handle.client('elbv2', region_name=region)\n",
                "    tbs = aws_get_paginator(elbv2Client, \"describe_target_groups\", \"TargetGroups\")\n",
                "    tbArnsList = []\n",
                "    output = []\n",
                "    count = 0\n",
                "    tbsLength = len(tbs)\n",
                "    for index, tb in enumerate(tbs):\n",
                "        # Need to call describe_tags to get the tags associated with these TGs, however that call can only take 20 TGs.\n",
                "        tbArnsList.append(tb.get('TargetGroupArn'))\n",
                "        count = count + 1\n",
                "        if count == 20 or index == tbsLength - 1:\n",
                "            tagDescriptions = elbv2Client.describe_tags(ResourceArns=tbArnsList).get('TagDescriptions')\n",
                "            # Check if the tag name exists in any of the TGs.\n",
                "            for tagDescription in tagDescriptions:\n",
                "                for tag in tagDescription.get('Tags'):\n",
                "                    if tag.get('Key') == tag_key:\n",
                "                        output.append({\"ResourceARN\": tagDescription.get('ResourceArn'), \"TagValue\": tag.get('Value')})\n",
                "                        break\n",
                "            count = 0\n",
                "            tbArnsList = []\n",
                "    return output\n",
                "\n",
                "\n",
                "\n",
                "task = Task(Workflow())\n",
                "task.configure(inputParamsJson='''{\n",
                "    \"region\": \"Region\",\n",
                "    \"tag_key\": \"RestartCommandTagName\"\n",
                "    }''')\n",
                "task.configure(outputName=\"targetGroupARNs\")\n",
                "\n",
                "(err, hdl, args) = task.validate(vars=vars())\n",
                "if err is None:\n",
                "    task.output = task.execute(aws_filter_target_groups_by_tags, hdl=hdl, args=args)\n",
                "    if task.output_name != None:\n",
                "        globals().update({task.output_name: task.output[0]})\n",
                "\n",
                "if hasattr(task, 'output'):\n",
                "    if isinstance(task.output, (list, tuple)):\n",
                "        for item in task.output:\n",
                "            print(f'item: {item}')\n",
                "    elif isinstance(task.output, dict):\n",
                "        for item in task.output.items():\n",
                "            print(f'item: {item}')\n",
                "    else:\n",
                "        print(f'Output for {task.name}')\n",
                "        print(task.output)\n",
                "    w.tasks[task.name]= task.output"
            ]
        },
        {
            "cell_type": "markdown",
            "id": "57d810d6",
            "metadata": {},
            "source": [
                "Here we will use unSkript AWS List Unhealthy Instances in a ELBV2 Target Group Lego. This lego takes arn as input. This inputs is used to List AWS Unhealthy Instance in a ELBv2 Target Group."
            ]
        },
        {
            "cell_type": "code",
            "execution_count": null,
            "id": "f995d729-e201-408c-9460-e912b39093db",
            "metadata": {
                "accessType": "ACCESS_TYPE_UNSPECIFIED",
                "actionBashCommand": false,
                "actionNeedsCredential": true,
                "actionSupportsIteration": true,
                "actionSupportsPoll": true,
                "action_uuid": "3e5c4dfd38b35595a95d0d52ba7771e25aeca4a796806734780893f45ba5c04d",
                "createTime": "1970-01-01T00:00:00Z",
                "currentVersion": "0.1.0",
                "description": " List AWS Unhealthy Instance in a ELBv2 Target Group",
                "id": 154,
                "index": 154,
                "inputData": [
                    {
                        "arn": {
                            "constant": false,
                            "value": "\"iter.get(\\\\\"ResourceARN\\\\\")\""
                        }
                    }
                ],
                "inputschema": [
                    {
                        "properties": {
                            "arn": {
                                "description": "ARN of the Target Group.",
                                "title": "Target Group ARN",
                                "type": "string"
                            }
                        },
                        "required": [
                            "arn"
                        ],
                        "title": "aws_target_group_list_unhealthy_instances",
                        "type": "object"
                    }
                ],
                "iterData": [
                    {
                        "iter_enabled": true,
                        "iter_item": {
                            "arn": "ResourceARN"
                        },
                        "iter_list": {
                            "constant": false,
                            "objectItems": true,
                            "value": "targetGroupARNs"
                        }
                    }
                ],
                "jupyter": {
                    "source_hidden": true
                },
                "legotype": "LEGO_TYPE_AWS",
                "name": " AWS List Unhealthy Instances in a ELBV2 Target Group",
                "nouns": [
                    "aws",
                    "instances",
                    "elbv2",
                    "target",
                    "group"
                ],
                "orderProperties": [
                    "arn"
                ],
                "output": {
                    "type": ""
                },
                "outputParams": {
                    "output_name": "unHealthyInstanceOutput",
                    "output_name_enabled": true
                },
                "tags": [
                    "aws_target_group_list_unhealthy_instances"
                ],
                "verbs": [
                    "list"
                ]
            },
            "outputs": [],
            "source": [
                "##\n",
                "##  Copyright (c) 2021 unSkript, Inc\n",
                "##  All rights reserved.\n",
                "##\n",
                "from pydantic import BaseModel, Field\n",
                "from unskript.legos.utils import parseARN\n",
                "\n",
                "\n",
                "from beartype import beartype\n",
                "@beartype\n",
                "def aws_target_group_list_unhealthy_instances(handle, arn: str):\n",
                "    # Get the region for the target group.\n",
                "    parsedArn = parseARN(arn)\n",
                "    elbv2Client = handle.client('elbv2', region_name=parsedArn['region'])\n",
                "    try:\n",
                "        targetHealthResponse = elbv2Client.describe_target_health(\n",
                "            TargetGroupArn=arn\n",
                "        )\n",
                "    except Exception as e:\n",
                "        print(f'Hit exception getting the instance list: {str(e)}')\n",
                "        raise e\n",
                "\n",
                "    instancesInfo = []\n",
                "    for ins in targetHealthResponse[\"TargetHealthDescriptions\"]:\n",
                "        if ins['TargetHealth']['State'] in ['unhealthy']:\n",
                "            instancesInfo.append(ins)\n",
                "\n",
                "    return instancesInfo\n",
                "\n",
                "\n",
                "task = Task(Workflow())\n",
                "task.configure(inputParamsJson='''{\n",
                "    \"arn\": \"iter.get(\\\\\"ResourceARN\\\\\")\"\n",
                "    }''')\n",
                "task.configure(iterJson='''{\n",
                "    \"iter_enabled\": true,\n",
                "    \"iter_list_is_const\": false,\n",
                "    \"iter_list\": \"targetGroupARNs\",\n",
                "    \"iter_parameter\": [\"arn\"]\n",
                "    }''')\n",
                "task.configure(outputName=\"unHealthyInstanceOutput\")\n",
                "\n",
                "(err, hdl, args) = task.validate(vars=vars())\n",
                "if err is None:\n",
                "    task.output = task.execute(aws_target_group_list_unhealthy_instances, hdl=hdl, args=args)\n",
                "    if task.output_name != None:\n",
                "        globals().update({task.output_name: task.output[0]})\n",
                "\n",
                "if hasattr(task, 'output'):\n",
                "    if isinstance(task.output, (list, tuple)):\n",
                "        for item in task.output:\n",
                "            print(f'item: {item}')\n",
                "    elif isinstance(task.output, dict):\n",
                "        for item in task.output.items():\n",
                "            print(f'item: {item}')\n",
                "    else:\n",
                "        print(f'Output for {task.name}')\n",
                "        print(task.output)\n",
                "    w.tasks[task.name]= task.output"
            ]
        },
        {
            "cell_type": "code",
            "execution_count": 29,
            "id": "0b1fef14-3bbd-49ea-bc3d-dcbe6172d62b",
            "metadata": {
                "collapsed": true,
                "execution_data": {
                    "last_date_success_run_cell": "2022-05-05T23:18:32.582Z"
                },
                "jupyter": {
                    "outputs_hidden": true,
                    "source_hidden": true
                },
                "name": "Check if there are any unhealthy targets",
                "orderProperties": [],
                "tags": [],
                "title": "Check if there are any unhealthy targets"
            },
            "outputs": [],
            "source": [
                "# Check if there are any unhealthy targets\n",
                "unHealthyInstanceIDs = []\n",
                "for k, v in unHealthyInstanceOutput.items():\n",
                "    if len(v) == 0:\n",
                "        print(f'No unhealthy instances in {targetGroupARNs[k].get(\"ResourceARN\")}')\n",
                "        continue\n",
                "    for i in v:\n",
                "        target = i.get('Target')\n",
                "        if target is None:\n",
                "            continue\n",
                "        instanceID = target.get('Id')\n",
                "        if instanceID is not None:\n",
                "            unHealthyInstanceIDs.append({\"TargetGroupARN\":targetGroupARNs[k].get(\"ResourceARN\"), \"InstanceID\": instanceID, \"RestartCommand\": targetGroupARNs[k].get('TagValue')})\n"
            ]
        },
        {
            "cell_type": "markdown",
            "id": "5e92447c",
            "metadata": {},
            "source": [
                "Here we will use unSkript Get AWS Instance Details Lego. This lego takes InstanceID and region as input. This inputs is used to Get Details about an AWS EC2 Instance."
            ]
        },
        {
            "cell_type": "code",
            "execution_count": null,
            "id": "f3f791a7-586b-48aa-89b3-f464892cc0d1",
            "metadata": {
                "accessType": "ACCESS_TYPE_UNSPECIFIED",
                "actionBashCommand": false,
                "actionNeedsCredential": true,
                "actionSupportsIteration": true,
                "actionSupportsPoll": true,
                "action_uuid": "aa1e026ca8002b906315feba401e5c46889d459270adce3b65d480dc9530311f",
                "condition_enabled": true,
                "createTime": "1970-01-01T00:00:00Z",
                "currentVersion": "0.1.0",
                "description": "Use This Action to Get Details about an AWS EC2 Instance",
                "id": 103,
                "index": 103,
                "inputData": [
                    {
                        "instance_id": {
                            "constant": false,
                            "value": "\"iter.get(\\\\\"InstanceID\\\\\")\""
                        },
                        "region": {
                            "constant": false,
                            "value": "\"us-west-2\""
                        }
                    }
                ],
                "inputschema": [
                    {
                        "properties": {
                            "instance_id": {
                                "description": "ID of the instance.",
                                "title": "Instance Id",
                                "type": "string"
                            },
                            "region": {
                                "description": "AWS Region of the instance.",
                                "title": "Region",
                                "type": "string"
                            }
                        },
                        "required": [
                            "instance_id",
                            "region"
                        ],
                        "title": "aws_get_instance_details",
                        "type": "object"
                    }
                ],
                "iterData": [
                    {
                        "iter_enabled": true,
                        "iter_item": {
                            "instance_id": "InstanceID"
                        },
                        "iter_list": {
                            "constant": false,
                            "objectItems": true,
                            "value": "unHealthyInstanceIDs"
                        }
                    }
                ],
                "jupyter": {
                    "source_hidden": true
                },
                "legotype": "LEGO_TYPE_AWS",
                "name": "Get AWS Instance Details",
                "nouns": [
                    "instance",
                    "details"
                ],
                "orderProperties": [
                    "instance_id",
                    "region"
                ],
                "output": {
                    "type": ""
                },
                "outputParams": {
                    "output_name": "InstanceDetailOutput",
                    "output_name_enabled": true
                },
                "startcondition": "len(unHealthyInstanceIDs) > 0\n",
                "tags": [
                    "aws_get_instance_details"
                ],
                "verbs": [
                    "get"
                ]
            },
            "outputs": [],
            "source": [
                "##\n",
                "# Copyright (c) 2021 unSkript, Inc\n",
                "# All rights reserved.\n",
                "##\n",
                "from pydantic import BaseModel, Field\n",
                "\n",
                "\n",
                "from beartype import beartype\n",
                "@beartype\n",
                "def aws_get_instance_details(\n",
                "    handle,\n",
                "    instance_id: str,\n",
                "    region: str,\n",
                "):\n",
                "\n",
                "    ec2client = handle.client('ec2', region_name=region)\n",
                "    instances = []\n",
                "    response = ec2client.describe_instances(\n",
                "        Filters=[{\"Name\": \"instance-id\", \"Values\": [instance_id]}])\n",
                "    for reservation in response[\"Reservations\"]:\n",
                "        for instance in reservation[\"Instances\"]:\n",
                "            instances.append(instance)\n",
                "\n",
                "    return instances[0]\n",
                "\n",
                "\n",
                "task = Task(Workflow())\n",
                "task.configure(inputParamsJson='''{\n",
                "    \"instance_id\": \"\\\\\"iter.get(\\\\\\\\\\\\\"InstanceID\\\\\\\\\\\\\")\\\\\"\",\n",
                "    \"region\": \"\\\\\"us-west-2\\\\\"\"\n",
                "    }''')\n",
                "task.configure(iterJson='''{\n",
                "    \"iter_enabled\": true,\n",
                "    \"iter_list_is_const\": false,\n",
                "    \"iter_list\": \"unHealthyInstanceIDs\",\n",
                "    \"iter_parameter\": [\"instance_id\"]\n",
                "    }''')\n",
                "task.configure(conditionsJson='''{\n",
                "    \"condition_enabled\": true,\n",
                "    \"condition_cfg\": \"len(unHealthyInstanceIDs) > 0\",\n",
                "    \"condition_result\": true\n",
                "}''')\n",
                "task.configure(outputName=\"InstanceDetailOutput\")\n",
                "\n",
                "(err, hdl, args) = task.validate(vars=vars())\n",
                "if err is None:\n",
                "    task.output = task.execute(aws_get_instance_details, hdl=hdl, args=args)\n",
                "    if task.output_name != None:\n",
                "        globals().update({task.output_name: task.output[0]})\n",
                "\n",
                "if hasattr(task, 'output'):\n",
                "    if isinstance(task.output, (list, tuple)):\n",
                "        for item in task.output:\n",
                "            print(f'item: {item}')\n",
                "    elif isinstance(task.output, dict):\n",
                "        for item in task.output.items():\n",
                "            print(f'item: {item}')\n",
                "    else:\n",
                "        print(f'Output for {task.name}')\n",
                "        print(task.output)\n",
                "    w.tasks[task.name]= task.output"
            ]
        },
        {
            "cell_type": "code",
            "execution_count": 31,
            "id": "f45bed34-4b52-40a5-82a2-4a201d385e42",
            "metadata": {
                "collapsed": true,
                "execution_data": {
                    "last_date_success_run_cell": "2022-05-05T23:19:08.273Z"
                },
                "jupyter": {
                    "outputs_hidden": true,
                    "source_hidden": true
                },
                "name": "Store the public/private IP for the instances",
                "orderProperties": [],
                "tags": [],
                "title": "Store the public/private IP for the instances"
            },
            "outputs": [],
            "source": [
                "IPsAndRestartCommandList = []\n",
                "if len(unHealthyInstanceIDs) > 0:\n",
                "    for key, value in InstanceDetailOutput.items():\n",
                "        ips = []\n",
                "        if UsePublicIP:\n",
                "            ips.append(value.get('PublicIpAddress'))\n",
                "        else:\n",
                "            ips.append(value.get('PrivateIpAddress'))\n",
                "        IPsAndRestartCommandList.append({\"TargetGroupARN\": unHealthyInstanceIDs[key].get(\"TargetGroupARN\"), \"InstanceID\": unHealthyInstanceIDs[key].get(\"InstanceID\"), \"IP\": ips, \"RestartCommand\": unHealthyInstanceIDs[key].get('RestartCommand')})\n"
            ]
        },
        {
            "cell_type": "markdown",
            "id": "c404c419",
            "metadata": {},
            "source": [
                "Here we will use unSkript SSH Execute Remote Command Lego. This lego takes hosts, command and sudo as input. This input is used to SSH Execute restart Commands."
            ]
        },
        {
            "cell_type": "code",
            "execution_count": null,
            "id": "fb52563f-79e2-4110-91b2-2e0d8d56072c",
            "metadata": {
                "accessType": "ACCESS_TYPE_UNSPECIFIED",
                "actionBashCommand": false,
                "actionNeedsCredential": true,
                "actionSupportsIteration": true,
                "actionSupportsPoll": true,
                "action_uuid": "5279b2046bb2eb4a691ba748086f4af9e580a849faae557694bb12a8c2b7b379",
                "collapsed": true,
                "condition_enabled": true,
                "createTime": "1970-01-01T00:00:00Z",
                "currentVersion": "0.1.0",
                "description": "SSH Execute Remote Command",
                "id": 58,
                "index": 58,
                "inputData": [
                    {
                        "command": {
                            "constant": false,
                            "value": "\"iter.get(\\\\\"RestartCommand\\\\\")\""
                        },
                        "hosts": {
                            "constant": false,
                            "value": "\"iter.get(\\\\\"IP\\\\\")\""
                        },
                        "sudo": {
                            "constant": true,
                            "value": true
                        }
                    }
                ],
                "inputschema": [
                    {
                        "properties": {
                            "command": {
                                "description": "Command to be executed on the remote server.",
                                "title": "Command",
                                "type": "string"
                            },
                            "hosts": {
                                "description": "List of hosts to connect to. For eg. [\"host1\", \"host2\"].",
                                "items": {
                                    "type": "string"
                                },
                                "title": "Hosts",
                                "type": "array"
                            },
                            "sudo": {
                                "default": false,
                                "description": "Run the command with sudo.",
                                "title": "Run with sudo",
                                "type": "boolean"
                            }
                        },
                        "required": [
                            "hosts",
                            "command"
                        ],
                        "title": "ssh_execute_remote_command",
                        "type": "object"
                    }
                ],
                "iterData": [
                    {
                        "iter_enabled": true,
                        "iter_item": {
                            "command": "RestartCommand",
                            "hosts": "IP"
                        },
                        "iter_list": {
                            "constant": false,
                            "objectItems": true,
                            "value": "IPsAndRestartCommandList"
                        }
                    }
                ],
                "jupyter": {
                    "outputs_hidden": true,
                    "source_hidden": true
                },
                "legotype": "LEGO_TYPE_SSH",
                "name": "SSH Execute Remote Command",
                "nouns": [
                    "ssh",
                    "command"
                ],
                "orderProperties": [
                    "hosts",
                    "command",
                    "sudo"
                ],
                "output": {
                    "type": ""
                },
                "startcondition": "len(unHealthyInstanceIDs) > 0\n",
                "tags": [
                    "ssh_execute_remote_command"
                ],
                "verbs": [
                    "execute"
                ]
            },
            "outputs": [],
            "source": [
                "##\n",
                "# Copyright (c) 2021 unSkript, Inc\n",
                "# All rights reserved.\n",
                "##\n",
                "import json\n",
                "import tempfile\n",
                "import os\n",
                "from pydantic import BaseModel, Field\n",
                "from pssh.clients import ParallelSSHClient\n",
                "from typing import List, Optional\n",
                "from unskript.connectors import ssh\n",
                "\n",
                "from unskript.legos.cellparams import CellParams\n",
                "from unskript import connectors\n",
                "\n",
                "\n",
                "from beartype import beartype\n",
                "@beartype\n",
                "def ssh_execute_remote_command(sshClient, hosts: List[str], command: str, sudo: bool = False):\n",
                "\n",
                "    client = sshClient(hosts)\n",
                "    runCommandOutput = client.run_command(command=command, sudo=sudo)\n",
                "    client.join()\n",
                "    res = {}\n",
                "\n",
                "    for host_output in runCommandOutput:\n",
                "        hostname = host_output.host\n",
                "        output = []\n",
                "        for line in host_output.stdout:\n",
                "            output.append(line)\n",
                "        res[hostname] = output\n",
                "\n",
                "        o = \"\\n\".join(output)\n",
                "        print(f\"Output from host {hostname}\\n{o}\\n\")\n",
                "\n",
                "    return res\n",
                "\n",
                "\n",
                "task = Task(Workflow())\n",
                "task.configure(inputParamsJson='''{\n",
                "    \"sudo\": \"True\",\n",
                "    \"command\": \"iter.get(\\\\\"RestartCommand\\\\\")\",\n",
                "    \"hosts\": \"iter.get(\\\\\"IP\\\\\")\"\n",
                "    }''')\n",
                "task.configure(iterJson='''{\n",
                "    \"iter_enabled\": true,\n",
                "    \"iter_list_is_const\": false,\n",
                "    \"iter_list\": \"IPsAndRestartCommandList\",\n",
                "    \"iter_parameter\": [\"command\",\"hosts\"]\n",
                "    }''')\n",
                "task.configure(conditionsJson='''{\n",
                "    \"condition_enabled\": true,\n",
                "    \"condition_cfg\": \"len(unHealthyInstanceIDs) > 0\",\n",
                "    \"condition_result\": true\n",
                "}''')\n",
                "\n",
                "(err, hdl, args) = task.validate(vars=vars())\n",
                "if err is None:\n",
                "    task.output = task.execute(ssh_execute_remote_command, hdl=hdl, args=args)\n",
                "    if task.output_name != None:\n",
                "        globals().update({task.output_name: task.output[0]})\n",
                "\n",
                "if hasattr(task, 'output'):\n",
                "    if isinstance(task.output, (list, tuple)):\n",
                "        for item in task.output:\n",
                "            print(f'item: {item}')\n",
                "    elif isinstance(task.output, dict):\n",
                "        for item in task.output.items():\n",
                "            print(f'item: {item}')\n",
                "    else:\n",
                "        print(f'Output for {task.name}')\n",
                "        print(task.output)\n",
                "    w.tasks[task.name]= task.output"
            ]
        },
        {
            "cell_type": "markdown",
            "id": "68e40fec",
            "metadata": {},
            "source": [
                "Here the Action creates a per target group ARN Slack message and stores it in `messages`."
            ]
        },
        {
            "cell_type": "code",
            "execution_count": 33,
            "id": "d21eccb2-778c-4c09-9820-4d7e8e9d7b70",
            "metadata": {
                "collapsed": true,
                "execution_data": {
                    "last_date_success_run_cell": "2022-05-05T23:22:25.761Z"
                },
                "jupyter": {
                    "outputs_hidden": true,
                    "source_hidden": true
                },
                "name": "Create the slack message",
                "orderProperties": [],
                "tags": [],
                "title": "Create the slack message"
            },
            "outputs": [],
            "source": [
                "messages = []\n",
                "tgInstanceMap = {}\n",
                "for i in IPsAndRestartCommandList:\n",
                "    if tgInstanceMap.get(i.get('TargetGroupARN')) is None:\n",
                "        tgInstanceMap[i.get('TargetGroupARN')] = [i.get('InstanceID')]\n",
                "    else:\n",
                "        currentList = tgInstanceMap[i.get('TargetGroupARN')]\n",
                "        currentList.append(i.get('InstanceID'))\n",
                "        tgInstanceMap[i.get('TargetGroupARN')] = currentList\n",
                "\n",
                "for key, value in tgInstanceMap.items():\n",
                "    printInstanceIDs = \"\\n\".join(value)\n",
                "    messages.append(f'Services in the following instances in target group {key} were restarted: \\n{printInstanceIDs}')"
            ]
        },
        {
            "cell_type": "markdown",
            "id": "2aaa13c0",
            "metadata": {},
            "source": [
                "Here we will use unSkript Post Slack Message Lego. This lego takes channel: str and message: str as input. This inputs is used to post the message to the slack channel."
            ]
        },
        {
            "cell_type": "code",
            "execution_count": null,
            "id": "9e521ef5-6802-4e79-94fb-cf266b1eb15d",
            "metadata": {
                "accessType": "ACCESS_TYPE_UNSPECIFIED",
                "actionBashCommand": false,
                "actionNeedsCredential": true,
                "actionSupportsIteration": true,
                "actionSupportsPoll": true,
                "action_uuid": "6a87f83ab0ecfeecb9c98d084e2b1066c26fa64be5b4928d5573a5d60299802d",
                "condition_enabled": true,
                "createTime": "1970-01-01T00:00:00Z",
                "currentVersion": "0.1.0",
                "description": "Post Slack Message",
                "id": 44,
                "index": 44,
                "inputData": [
                    {
                        "channel": {
                            "constant": false,
                            "value": "\"dummy\""
                        },
                        "message": {
                            "constant": false,
                            "value": "iter_item"
                        }
                    }
                ],
                "inputschema": [
                    {
                        "properties": {
                            "channel": {
                                "description": "Name of the slack channel where the message to be posted",
                                "title": "Channel",
                                "type": "string"
                            },
                            "message": {
                                "description": "Message to be sent",
                                "title": "Message",
                                "type": "string"
                            }
                        },
                        "required": [
                            "channel",
                            "message"
                        ],
                        "title": "slack_post_message",
                        "type": "object"
                    }
                ],
                "jupyter": {
                    "source_hidden": true
                },
                "legotype": "LEGO_TYPE_SLACK",
                "name": "Post Slack Message",
                "nouns": [
                    "slack",
                    "message"
                ],
                "orderProperties": [
                    "channel",
                    "message"
                ],
                "output": {
                    "type": ""
                },
                "startcondition": "len(messages) != 0",
                "tags": [
                    "slack_post_message"
                ],
                "verbs": [
                    "post"
                ]
            },
            "outputs": [],
            "source": [
                "##\n",
                "# Copyright (c) 2021 unSkript, Inc\n",
                "# All rights reserved.\n",
                "##\n",
                "\n",
                "import pprint\n",
                "\n",
                "from pydantic import BaseModel, Field\n",
                "from slack_sdk import WebClient\n",
                "from slack_sdk.errors import SlackApiError\n",
                "\n",
                "pp = pprint.PrettyPrinter(indent=2)\n",
                "\n",
                "\n",
                "from beartype import beartype\n",
                "def legoPrinter(func):\n",
                "    def Printer(*args, **kwargs):\n",
                "        output = func(*args, **kwargs)\n",
                "        if output:\n",
                "            channel = kwargs[\"channel\"]\n",
                "            pp.pprint(print(f\"Message sent to Slack channel {channel}\"))\n",
                "        return output\n",
                "    return Printer\n",
                "\n",
                "\n",
                "@legoPrinter\n",
                "@beartype\n",
                "def slack_post_message(\n",
                "        handle: WebClient,\n",
                "        channel: str,\n",
                "        message: str) -> bool:\n",
                "\n",
                "    try:\n",
                "        response = handle.chat_postMessage(\n",
                "            channel=channel,\n",
                "            text=message)\n",
                "        return True\n",
                "    except SlackApiError as e:\n",
                "        print(\"\\n\\n\")\n",
                "        pp.pprint(\n",
                "            f\"Failed sending message to slack channel {channel}, Error: {e.response['error']}\")\n",
                "        return False\n",
                "    except Exception as e:\n",
                "        print(\"\\n\\n\")\n",
                "        pp.pprint(\n",
                "            f\"Failed sending message to slack channel {channel}, Error: {e.__str__()}\")\n",
                "        return False\n",
                "\n",
                "\n",
                "task = Task(Workflow())\n",
                "task.configure(inputParamsJson='''{\n",
                "    \"channel\": \"\\\\\"dummy\\\\\"\",\n",
                "    \"message\": \"iter_item\"\n",
                "    }''')\n",
                "\n",
                "task.configure(conditionsJson='''{\n",
                "    \"condition_enabled\": true,\n",
                "    \"condition_cfg\": \"len(messages) != 0\",\n",
                "    \"condition_result\": true\n",
                "}''')\n",
                "\n",
                "(err, hdl, args) = task.validate(vars=vars())\n",
                "if err is None:\n",
                "    task.output = task.execute(slack_post_message, hdl=hdl, args=args)\n",
                "    if task.output_name != None:\n",
                "        globals().update({task.output_name: task.output[0]})"
            ]
        },
        {
            "cell_type": "markdown",
            "id": "cd85e344",
            "metadata": {},
            "source": [
                "### Conclusion\n",
                "In this Runbook, we demonstrated the use of unSkript's AWS legos to Restart unhealthy services in a Target Group and restarts unhealthy services in a target group. The restart command is provided via a tag attached to the instance. To view the full platform capabilities of unSkript please visit https://us.app.unskript.io"
            ]
        }
    ],
    "metadata": {
        "execution_data": {
            "environment_id": "dba3932f-3118-4ab0-b92c-70fa56402037",
            "environment_name": "SingleAMI",
            "execution_id": "",
            "inputs_for_searched_lego": "",
            "notebook_id": "workflow.ipynb",
            "parameters": [
                "Channel",
                "Region",
                "RestartCommandTagName",
                "UsePublicIP"
            ],
            "runbook_name": "JRRunbook",
            "search_string": "",
            "show_tool_tip": false,
            "tenant_id": "8b3c7148-2d57-4b89-84d3-d59f6c792b0c",
            "tenant_url": "https://tenant-amit.dev.unskript.io",
            "user_email_id": "amit@unskript.com",
            "workflow_id": "755dbe40-22d7-4b70-a04d-31d34bb04e4a"
        },
        "kernelspec": {
            "display_name": "Python 3.9.6 64-bit",
            "language": "python",
            "name": "python3"
        },
        "language_info": {
            "file_extension": ".py",
            "mimetype": "text/x-python",
            "name": "python",
            "pygments_lexer": "ipython3",
            "version": "3.9.6"
        },
        "parameterSchema": {
            "properties": {
                "Channel": {
                    "description": "Slack channel name",
                    "title": "Channel",
                    "type": "string"
                },
                "Region": {
                    "description": "AWS Region",
                    "title": "Region",
                    "type": "string"
                },
                "RestartCommandTagName": {
                    "description": "Tag name for the restart command",
                    "title": "RestartCommandTagName",
                    "type": "string"
                },
                "UsePublicIP": {
                    "default": true,
                    "description": "Whether to use the public IP of the instance to ssh",
                    "title": "UsePublicIP",
                    "type": "boolean"
                }
            },
            "required": [
                "Region",
                "RestartCommandTagName"
            ],
            "title": "Schema",
            "type": "object"
        },
        "parameterValues": {
            "Channel": null,
            "Region": null,
            "RestartCommandTagName": null,
            "UsePublicIP": null
        },
        "vscode": {
            "interpreter": {
                "hash": "31f2aee4e71d21fbe5cf8b01ff0e069b9275f58929596ceb00d14d90e3e16cd6"
            }
        }
    },
    "nbformat": 4,
    "nbformat_minor": 5
}
