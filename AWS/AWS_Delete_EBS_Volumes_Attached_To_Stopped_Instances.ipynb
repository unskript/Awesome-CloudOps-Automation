{
 "cells": [
  {
   "attachments": {},
   "cell_type": "markdown",
   "id": "5424264e-6195-4cf9-906b-24b02d5a83f3",
   "metadata": {
    "jupyter": {
     "source_hidden": false
    },
    "name": "Steps Overview",
    "orderProperties": [],
    "tags": [],
    "title": "Steps Overview"
   },
   "source": [
    "<center><img src=\"https://storage.googleapis.com/unskript-website/assets/favicon.png\" alt=\"unSkript.com\" width=\"100\" height=\"100\">\n",
    "<h1 id=\"unSkript-Runbooks\">unSkript Runbooks</h1>\n",
    "<div class=\"alert alert-block alert-success\">\n",
    "<h3 id=\"Objective\">Objective</h3>\n",
    "<br><strong><em>Find and Delete EBS (Elastic Block Storage) Volumes associated with stopped EC2 instances</em></strong></div>\n",
    "</center>\n",
    "<p>&nbsp;</p>\n",
    "<center>\n",
    "<h2 id=\"Delete-EBS-Volumes-Attached-To-Stopped-Instances\"><u>Delete EBS Volumes Attached To Stopped Instances</u></h2>\n",
    "</center>\n",
    "<h1 id=\"Steps-Overview\">Steps Overview</h1>\n",
    "<p>1)<a href=\"#1\" target=\"_self\" rel=\"noopener\"> Get volumes for stopped instances</a><br>2)<a href=\"#2\" target=\"_self\" rel=\"noopener\"> Delete EBS volumes</a></p>"
   ]
  },
  {
   "cell_type": "code",
   "execution_count": 5,
   "id": "e1f146c9-5180-4459-9c82-cf0e1da02785",
   "metadata": {
    "credentialsJson": {},
    "customAction": true,
    "execution_data": {
     "last_date_success_run_cell": "2023-05-17T16:48:03.721Z"
    },
    "name": "Input verification",
    "orderProperties": [],
    "tags": [],
    "title": "Input verification"
   },
   "outputs": [],
   "source": [
    "if volume_ids and not region:\n",
    "    raise SystemExit(\"Provide a region for the EBS Volume IDs!\")\n",
    "if region == None:\n",
    "    region = \"\""
   ]
  },
  {
   "attachments": {},
   "cell_type": "markdown",
   "id": "908f4dcb-8483-44fc-8f81-ce2502e03093",
   "metadata": {
    "jupyter": {
     "source_hidden": false
    },
    "name": "Step 1",
    "orderProperties": [],
    "tags": [],
    "title": "Step 1"
   },
   "source": [
    "<h3 id=\"Get-volumes-for-stopped-instances\"><a id=\"1\" target=\"_self\" rel=\"nofollow\"></a>Get volumes for stopped instances</h3>\n",
    "<p>Using unSkript's Get Stopped Instances EBS volumes action, we will find volumes which are associated with stopped instances.</p>\n",
    "<blockquote>\n",
    "<p>This action takes the following parameters: <code>region</code></p>\n",
    "</blockquote>\n",
    "<blockquote>\n",
    "<p>This action captures the following output: <code>stopped_instances_volumes</code></p>\n",
    "</blockquote>"
   ]
  },
  {
   "cell_type": "code",
   "execution_count": null,
   "id": "3c1fe36b-eb58-4827-9c00-f6b03b8d7a4a",
   "metadata": {
    "actionBashCommand": false,
    "actionCategories": [
     "CATEGORY_TYPE_DEVOPS",
     "CATEGORY_TYPE_SRE",
     "CATEGORY_TYPE_AWS",
     "CATEGORY_TYPE_AWS_EC2",
     "CATEGORY_TYPE_AWS_EBS"
    ],
    "actionDescription": "This action helps to list the volumes that are attached to stopped instances.",
    "actionEntryFunction": "aws_get_stopped_instance_volumes",
    "actionIsCheck": true,
    "actionIsRemediation": false,
    "actionNeedsCredential": true,
    "actionNextHop": [
     "a9d17f4c9feb963b6096290eedb21af43d89e803cdcb1238dc11a544a3071a1e"
    ],
    "actionNextHopParameterMapping": {},
    "actionNouns": null,
    "actionOutputType": "ACTION_OUTPUT_TYPE_LIST",
    "actionSupportsIteration": true,
    "actionSupportsPoll": true,
    "actionTitle": "Get Stopped Instance Volumes",
    "actionType": "LEGO_TYPE_AWS",
    "actionVerbs": null,
    "actionVersion": "1.0.0",
    "action_modified": false,
    "action_uuid": "fee89ce72c745afdc666dc59d1a4f29ca3419640824684151b9464e96d1e27a7",
    "collapsed": true,
    "condition_enabled": true,
    "continueOnError": false,
    "credentialsJson": {},
    "description": "This action helps to list the volumes that are attached to stopped instances.",
    "execution_data": {
     "last_date_success_run_cell": "2023-05-17T16:47:59.430Z"
    },
    "id": 1,
    "index": 1,
    "inputData": [
     {
      "region": {
       "constant": false,
       "value": "region"
      }
     }
    ],
    "inputschema": [
     {
      "properties": {
       "region": {
        "default": "",
        "description": "AWS Region.",
        "title": "Region",
        "type": "string"
       }
      },
      "required": [],
      "title": "aws_get_stopped_instance_volumes",
      "type": "object"
     }
    ],
    "jupyter": {
     "outputs_hidden": true,
     "source_hidden": true
    },
    "language": "python",
    "legotype": "LEGO_TYPE_AWS",
    "name": "Get Stopped Instance Volumes",
    "orderProperties": [
     "region"
    ],
    "outputParams": {
     "output_name": "stopped_instances_volumes",
     "output_name_enabled": true,
     "output_runbook_enabled": false,
     "output_runbook_name": ""
    },
    "printOutput": true,
    "startcondition": "not volume_ids",
    "tags": [],
    "uuid": "fee89ce72c745afdc666dc59d1a4f29ca3419640824684151b9464e96d1e27a7",
    "version": "1.0.0"
   },
   "outputs": [],
   "source": [
    "##\n",
    "##  Copyright (c) 2023 unSkript, Inc\n",
    "##  All rights reserved.\n",
    "##\n",
    "import pprint\n",
    "from typing import Optional, Tuple\n",
    "from pydantic import BaseModel, Field\n",
    "from unskript.connectors.aws import aws_get_paginator\n",
    "from unskript.legos.aws.aws_list_all_regions.aws_list_all_regions import aws_list_all_regions\n",
    "\n",
    "\n",
    "from beartype import beartype\n",
    "@beartype\n",
    "def aws_get_stopped_instance_volumes_printer(output):\n",
    "    if output is None:\n",
    "        return\n",
    "    pprint.pprint(output)\n",
    "\n",
    "\n",
    "@beartype\n",
    "def aws_get_stopped_instance_volumes(handle, region: str = \"\") -> Tuple:\n",
    "    \"\"\"aws_get_stopped_instance_volumes Returns an array of volumes.\n",
    "\n",
    "        :type handle: object\n",
    "        :param handle: Object returned from task.validate(...).\n",
    "\n",
    "        :type region: string\n",
    "        :param region: Region to filter instances.\n",
    "\n",
    "        :rtype: Array of volumes.\n",
    "    \"\"\"\n",
    "    result = []\n",
    "    all_regions = [region]\n",
    "    if not region:\n",
    "        all_regions = aws_list_all_regions(handle)\n",
    "\n",
    "    for reg in all_regions:\n",
    "        try:\n",
    "            ec2Client = handle.client('ec2', region_name=reg)\n",
    "            res = aws_get_paginator(ec2Client, \"describe_instances\", \"Reservations\")\n",
    "            for reservation in res:\n",
    "                for instance in reservation['Instances']:\n",
    "                    if instance['State']['Name'] == 'stopped':\n",
    "                        block_device_mappings = instance['BlockDeviceMappings']\n",
    "                        for mapping in block_device_mappings:\n",
    "                            if 'Ebs' in mapping:\n",
    "                                ebs_volume = {}\n",
    "                                volume_id = mapping['Ebs']['VolumeId']\n",
    "                                ebs_volume[\"volume_id\"] = volume_id\n",
    "                                ebs_volume[\"region\"] = reg\n",
    "                                result.append(ebs_volume)\n",
    "        except Exception:\n",
    "            pass\n",
    "\n",
    "    if len(result) != 0:\n",
    "        return (False, result)\n",
    "    return (True, None)\n",
    "\n",
    "\n",
    "\n",
    "task = Task(Workflow())\n",
    "task.configure(inputParamsJson='''{\n",
    "    \"region\": \"region\"\n",
    "    }''')\n",
    "\n",
    "task.configure(conditionsJson='''{\n",
    "    \"condition_enabled\": true,\n",
    "    \"condition_cfg\": \"not volume_ids\",\n",
    "    \"condition_result\": true\n",
    "    }''')\n",
    "\n",
    "task.configure(outputName=\"stopped_instances_volumes\")\n",
    "\n",
    "task.configure(printOutput=True)\n",
    "(err, hdl, args) = task.validate(vars=vars())\n",
    "if err is None:\n",
    "    task.execute(aws_get_stopped_instance_volumes, lego_printer=aws_get_stopped_instance_volumes_printer, hdl=hdl, args=args)"
   ]
  },
  {
   "attachments": {},
   "cell_type": "markdown",
   "id": "199591ef-cb3a-49b7-b515-3c6998050320",
   "metadata": {
    "jupyter": {
     "source_hidden": false
    },
    "name": "Step 2A",
    "orderProperties": [],
    "tags": [],
    "title": "Step 2A"
   },
   "source": [
    "<h3 id=\"Create-List-of-Stopped-Instance-Volumes\">Create List of Stopped Instance Volumes</h3>\n",
    "<p>This action filters regions that have no volumes associated with stopped instances and creates a list of those that have them.</p>\n",
    "<blockquote>\n",
    "<p>This action takes the following parameters: <code>None</code></p>\n",
    "</blockquote>\n",
    "<blockquote>\n",
    "<p>This action captures the following output: <code>all_stopped_instances_volumes</code></p>\n",
    "</blockquote>"
   ]
  },
  {
   "cell_type": "code",
   "execution_count": null,
   "id": "6a10e980-9f17-4436-9166-90ea130aa316",
   "metadata": {
    "collapsed": true,
    "credentialsJson": {},
    "customAction": true,
    "execution_data": {
     "last_date_success_run_cell": "2023-04-21T09:16:07.861Z"
    },
    "jupyter": {
     "outputs_hidden": true,
     "source_hidden": true
    },
    "name": "Create List of Stopped Instance Volumes",
    "orderProperties": [],
    "tags": [],
    "title": "Create List of Stopped Instance Volumes"
   },
   "outputs": [],
   "source": [
    "all_stopped_instances_volumes = []\n",
    "try:\n",
    "    if stopped_instances_volumes[0] == False:\n",
    "        for instance in stopped_instances_volumes[1]:\n",
    "            all_stopped_instances_volumes.append(instance)\n",
    "except Exception as e:\n",
    "    if volume_ids:\n",
    "        for vol_id in volume_ids:\n",
    "            data_dict = {}\n",
    "            data_dict[\"region\"] = region\n",
    "            data_dict[\"volume_id\"] = vol_id\n",
    "            all_stopped_instances_volumes.append(data_dict)\n",
    "    else:\n",
    "        raise Exception(e)"
   ]
  },
  {
   "attachments": {},
   "cell_type": "markdown",
   "id": "978d3b61-2fd9-461d-89bd-534d2dcf3b63",
   "metadata": {
    "jupyter": {
     "source_hidden": false
    },
    "name": "Step 2",
    "orderProperties": [],
    "tags": [],
    "title": "Step 2"
   },
   "source": [
    "<h3 id=\"Delete-Low-Usage-EBS-Volumes\"><a id=\"2\" target=\"_self\" rel=\"nofollow\"></a>Delete EBS Volumes</h3>\n",
    "<p>This action deletes volumes found in Step 1.&nbsp;</p>\n",
    "<blockquote>\n",
    "<p>This action takes the following parameters:&nbsp;<code>volume_id, region</code></p>\n",
    "</blockquote>"
   ]
  },
  {
   "cell_type": "code",
   "execution_count": null,
   "id": "a48df07b-4723-4413-a1fa-19bfb08ba48e",
   "metadata": {
    "actionBashCommand": false,
    "actionCategories": [
     "CATEGORY_TYPE_DEVOPS",
     "CATEGORY_TYPE_SRE",
     "CATEGORY_TYPE_AWS",
     "CATEGORY_TYPE_AWS_EC2"
    ],
    "actionDescription": "Delete AWS Volume by Volume ID",
    "actionEntryFunction": "aws_delete_volume_by_id",
    "actionIsCheck": false,
    "actionIsRemediation": true,
    "actionNeedsCredential": true,
    "actionNextHop": null,
    "actionNextHopParameterMapping": null,
    "actionNouns": null,
    "actionOutputType": "ACTION_OUTPUT_TYPE_LIST",
    "actionSupportsIteration": true,
    "actionSupportsPoll": true,
    "actionTitle": "Delete AWS EBS Volume by Volume ID",
    "actionType": "LEGO_TYPE_AWS",
    "actionVerbs": null,
    "actionVersion": "1.0.0",
    "action_modified": false,
    "action_uuid": "e8cccc03e1af323982c0ab9f06c01127c0481ca81943eb7e82e46245140b1059",
    "condition_enabled": true,
    "continueOnError": true,
    "credentialsJson": {},
    "description": "Delete AWS Volume by Volume ID",
    "id": 2,
    "index": 2,
    "inputData": [
     {
      "region": {
       "constant": false,
       "value": "\"iter.get(\\\\\"region\\\\\")\""
      },
      "volume_id": {
       "constant": false,
       "value": "\"iter.get(\\\\\"volume_id\\\\\")\""
      }
     }
    ],
    "inputschema": [
     {
      "properties": {
       "region": {
        "description": "AWS Region.",
        "title": "Region",
        "type": "string"
       },
       "volume_id": {
        "description": "Volume ID.",
        "title": "Volume ID",
        "type": "string"
       }
      },
      "required": [
       "volume_id",
       "region"
      ],
      "title": "aws_delete_volume_by_id",
      "type": "object"
     }
    ],
    "iterData": [
     {
      "iter_enabled": true,
      "iter_item": {
       "region": "region",
       "volume_id": "volume_id"
      },
      "iter_list": {
       "constant": false,
       "objectItems": true,
       "value": "all_stopped_instances_volumes"
      }
     }
    ],
    "jupyter": {
     "source_hidden": true
    },
    "language": "python",
    "legotype": "LEGO_TYPE_AWS",
    "name": "Delete AWS EBS Volume by Volume ID",
    "orderProperties": [
     "volume_id",
     "region"
    ],
    "printOutput": true,
    "startcondition": "len(all_stopped_instances_volumes)!=0",
    "tags": [],
    "uuid": "e8cccc03e1af323982c0ab9f06c01127c0481ca81943eb7e82e46245140b1059",
    "version": "1.0.0"
   },
   "outputs": [],
   "source": [
    "##\n",
    "##  Copyright (c) 2022 unSkript, Inc\n",
    "##  All rights reserved.\n",
    "##\n",
    "from pydantic import BaseModel, Field\n",
    "from typing import List\n",
    "import pprint\n",
    "\n",
    "\n",
    "from beartype import beartype\n",
    "@beartype\n",
    "def aws_delete_volume_by_id_printer(output):\n",
    "    if output is None:\n",
    "        return\n",
    "    pprint.pprint({\"Output\": output})\n",
    "\n",
    "\n",
    "@beartype\n",
    "def aws_delete_volume_by_id(handle, volume_id: str, region: str) -> str:\n",
    "    \"\"\"aws_filter_ebs_unattached_volumes Returns an array of ebs volumes.\n",
    "\n",
    "        :type handle: object\n",
    "        :param handle: Object returned by the task.validate(...) method.\n",
    "\n",
    "        :type region: string\n",
    "        :param region: Used to filter the volume for specific region.\n",
    "\n",
    "        :type volume_id: string\n",
    "        :param volume_id: Volume ID needed to delete particular volume.\n",
    "\n",
    "        :rtype: Result of the API in the List form.\n",
    "    \"\"\"\n",
    "    result = []\n",
    "\n",
    "    ec2Client = handle.client('ec2',region_name=region)\n",
    "\n",
    "    # Adding logic for deletion criteria\n",
    "    try:\n",
    "        response = ec2Client.delete_volume(VolumeId=volume_id,)\n",
    "        result.append(response)\n",
    "    except Exception as e:\n",
    "        result.append(e)\n",
    "\n",
    "    return result\n",
    "\n",
    "\n",
    "task = Task(Workflow())\n",
    "task.configure(continueOnError=True)\n",
    "task.configure(inputParamsJson='''{\n",
    "    \"volume_id\": \"iter.get(\\\\\"volume_id\\\\\")\",\n",
    "    \"region\": \"iter.get(\\\\\"region\\\\\")\"\n",
    "    }''')\n",
    "task.configure(iterJson='''{\n",
    "    \"iter_enabled\": true,\n",
    "    \"iter_list_is_const\": false,\n",
    "    \"iter_list\": \"all_stopped_instances_volumes\",\n",
    "    \"iter_parameter\": [\"volume_id\",\"region\"]\n",
    "    }''')\n",
    "task.configure(conditionsJson='''{\n",
    "    \"condition_enabled\": true,\n",
    "    \"condition_cfg\": \"len(all_stopped_instances_volumes)!=0\",\n",
    "    \"condition_result\": true\n",
    "    }''')\n",
    "\n",
    "task.configure(printOutput=True)\n",
    "(err, hdl, args) = task.validate(vars=vars())\n",
    "if err is None:\n",
    "    task.execute(aws_delete_volume_by_id, lego_printer=aws_delete_volume_by_id_printer, hdl=hdl, args=args)"
   ]
  },
  {
   "attachments": {},
   "cell_type": "markdown",
   "id": "44a6cf05-385b-445d-a503-ad4aa607a568",
   "metadata": {
    "jupyter": {
     "source_hidden": false
    },
    "name": "Conclusion",
    "orderProperties": [],
    "tags": [],
    "title": "Conclusion"
   },
   "source": [
    "<h3 id=\"Conclusion\">Conclusion</h3>\n",
    "<p>In this Runbook, we were able to get EBS volumes attached to EC2 instances that have been stopped and delete them. To view the full platform capabilities of unSkript please visit <a href=\"https://us.app.unskript.io\" target=\"_blank\" rel=\"noopener\">us.app.unskript.io</a></p>"
   ]
  }
 ],
 "metadata": {
  "execution_data": {
   "runbook_name": "Delete EBS Volume Attached to Stopped Instances",
   "parameters": [
    "region",
    "threshold_days"
   ]
  },
  "kernelspec": {
   "display_name": "unSkript (Build: 1166)",
   "language": "python",
   "name": "python3"
  },
  "language_info": {
   "codemirror_mode": {
    "name": "ipython",
    "version": 3
   },
   "file_extension": ".py",
   "mimetype": "text/x-python",
   "name": "python",
   "nbconvert_exporter": "python",
   "pygments_lexer": "ipython3",
   "version": "3.9.6"
  },
  "outputParameterSchema": {
   "properties": {},
   "required": [],
   "title": "Schema",
   "type": "object"
  },
  "parameterSchema": {
   "properties": {
    "region": {
     "description": "AWS Regions to get the EBS volumes from. e.g. us-west-2. If nothing is given all regions will be considered.",
     "title": "region",
     "type": "string"
    },
    "volume_ids": {
     "description": "List of EBS Volume IDs.",
     "title": "volume_ids",
     "type": "array"
    }
   },
   "required": [],
   "title": "Schema",
   "type": "object"
  },
  "vscode": {
   "interpreter": {
    "hash": "b0fa6594d8f4cbf19f97940f81e996739fb7646882a419484c72d19e05852a7e"
   }
  }
 },
 "nbformat": 4,
 "nbformat_minor": 5
}