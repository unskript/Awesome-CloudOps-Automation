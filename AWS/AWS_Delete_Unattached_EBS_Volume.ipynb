{
 "cells": [
  {
   "attachments": {},
   "cell_type": "markdown",
   "id": "b526603d-f9fd-4074-adc3-f83dfee4ec85",
   "metadata": {
    "jupyter": {
     "source_hidden": false
    },
    "name": "Runbook Overview",
    "orderProperties": [],
    "tags": [],
    "title": "Runbook Overview"
   },
   "source": [
    "<center><img src=\"https://storage.googleapis.com/unskript-website/assets/favicon.png\" alt=\"unSkript.com\" width=\"100\" height=\"100\">\n",
    "<h1 id=\"-unSkript-Runbooks-\">unSkript Runbooks</h1>\n",
    "<div class=\"alert alert-block alert-success\">\n",
    "<h3 id=\"Objective\"><strong>Objective</strong></h3>\n",
    "<strong>To delete unattached EBS volume using unSkript actions.</strong></div>\n",
    "</center><center>\n",
    "<h2 id=\"Delete-Unattached-EBS-Volume\">Delete Unattached EBS Volume</h2>\n",
    "</center>\n",
    "<h1 id=\"Steps-Overview\">Steps Overview</h1>\n",
    "<p>1)<a href=\"#1\" target=\"_self\" rel=\"noopener\">Filter AWS Unattached EBS Volume</a><br>2)<a href=\"#2\" target=\"_self\" rel=\"noopener\">Create Snapshot Of EBS Volume</a><br>3)<a href=\"#3\" target=\"_self\" rel=\"noopener\">Delete EBS Volume</a></p>"
   ]
  },
  {
   "cell_type": "code",
   "execution_count": 2,
   "id": "24e9d68b-95e2-4038-b276-fb4a4bf3992f",
   "metadata": {
    "credentialsJson": {},
    "customAction": true,
    "execution_data": {
     "last_date_success_run_cell": "2023-05-17T16:19:56.852Z"
    },
    "name": "Input Verification ",
    "orderProperties": [],
    "tags": [],
    "title": "Input Verification "
   },
   "outputs": [],
   "source": [
    "if ebs_volume and not region:\n",
    "    raise SystemExit(\"Provide region for the EBS Volumes!\")\n",
    "if region == None:\n",
    "    region = \"\""
   ]
  },
  {
   "attachments": {},
   "cell_type": "markdown",
   "id": "99141ad8-5135-43c0-a4d7-8507b2d51570",
   "metadata": {
    "jupyter": {
     "source_hidden": false
    },
    "name": "Step-1",
    "orderProperties": [],
    "tags": [],
    "title": "Step-1"
   },
   "source": [
    "<h3 id=\"Filter-Unattached-EBS-Volumes\">Filter Unattached EBS Volumes</h3>\n",
    "<p>Here we will use unSkript <strong>Filter AWS Unattached EBS Volume</strong> action. This action filters all the EBS volumes from the given region and returns a list of all the unattached EBS volumes. It will execute if the <code>ebs_volume</code> parameter is not passed.</p>\n",
    "<blockquote>\n",
    "<p>Input parameters: <code>region</code></p>\n",
    "</blockquote>\n",
    "<blockquote>\n",
    "<p>Output variable: <code>unattached_volumes</code></p>\n",
    "</blockquote>"
   ]
  },
  {
   "cell_type": "code",
   "execution_count": null,
   "id": "3209f960-b7ea-4858-8dba-27fd7165ff06",
   "metadata": {
    "actionBashCommand": false,
    "actionCategories": [
     "CATEGORY_TYPE_DEVOPS",
     "CATEGORY_TYPE_SRE",
     "CATEGORY_TYPE_AWS",
     "CATEGORY_TYPE_AWS_EC2",
     "CATEGORY_TYPE_AWS_EBC"
    ],
    "actionDescription": "Filter AWS Unattached EBS Volume",
    "actionEntryFunction": "aws_filter_ebs_unattached_volumes",
    "actionIsCheck": true,
    "actionIsRemediation": false,
    "actionNeedsCredential": true,
    "actionNextHop": [
     "da23633be34037f023e1c1f56220ec75eb2729d7d8eb2bca9badec15ed0fd2ca"
    ],
    "actionNextHopParameterMapping": {},
    "actionNouns": null,
    "actionOutputType": "ACTION_OUTPUT_TYPE_LIST",
    "actionSupportsIteration": true,
    "actionSupportsPoll": true,
    "actionTitle": "Filter AWS Unattached EBS Volume",
    "actionType": "LEGO_TYPE_AWS",
    "actionVerbs": null,
    "actionVersion": "1.0.0",
    "action_modified": false,
    "action_uuid": "375a1a2a5100b3a99ab867f9fcd54d46e2128dafc69dbbc03bb2083d56668cf4",
    "condition_enabled": true,
    "continueOnError": false,
    "credentialsJson": {},
    "description": "Filter AWS Unattached EBS Volume",
    "execution_data": {
     "last_date_success_run_cell": "2023-05-17T16:19:59.901Z"
    },
    "id": 4,
    "index": 4,
    "inputData": [
     {
      "region": {
       "constant": false,
       "value": "region"
      }
     }
    ],
    "inputschema": [
     {
      "properties": {
       "region": {
        "default": "",
        "description": "AWS Region.",
        "title": "Region",
        "type": "string"
       }
      },
      "required": [],
      "title": "aws_filter_ebs_unattached_volumes",
      "type": "object"
     }
    ],
    "jupyter": {
     "source_hidden": true
    },
    "language": "python",
    "legotype": "LEGO_TYPE_AWS",
    "name": "Filter AWS Unattached EBS Volume",
    "orderProperties": [
     "region"
    ],
    "outputParams": {
     "output_name": "unattached_volumes",
     "output_name_enabled": true,
     "output_runbook_enabled": false,
     "output_runbook_name": ""
    },
    "printOutput": true,
    "startcondition": "not ebs_volume",
    "tags": [
     "aws_filter_ebs_unattached_volumes"
    ],
    "uuid": "375a1a2a5100b3a99ab867f9fcd54d46e2128dafc69dbbc03bb2083d56668cf4",
    "version": "1.0.0"
   },
   "outputs": [],
   "source": [
    "##\n",
    "##  Copyright (c) 2021 unSkript, Inc\n",
    "##  All rights reserved.\n",
    "##\n",
    "from pydantic import BaseModel, Field\n",
    "from typing import Optional, Tuple\n",
    "from unskript.legos.aws.aws_list_all_regions.aws_list_all_regions import aws_list_all_regions\n",
    "import pprint\n",
    "\n",
    "\n",
    "from beartype import beartype\n",
    "@beartype\n",
    "def aws_filter_ebs_unattached_volumes_printer(output):\n",
    "    if output is None:\n",
    "        return\n",
    "\n",
    "    pprint.pprint(output)\n",
    "\n",
    "\n",
    "@beartype\n",
    "def aws_filter_ebs_unattached_volumes(handle, region: str = \"\") -> Tuple:\n",
    "    \"\"\"aws_filter_ebs_unattached_volumes Returns an array of ebs volumes.\n",
    "\n",
    "        :type region: string\n",
    "        :param region: Used to filter the volume for specific region.\n",
    "\n",
    "        :rtype: Tuple with status result and list of EBS Unattached Volume.\n",
    "    \"\"\"\n",
    "    result=[]\n",
    "    all_regions = [region]\n",
    "    if not region:\n",
    "        all_regions = aws_list_all_regions(handle)\n",
    "\n",
    "    for reg in all_regions:\n",
    "        try:\n",
    "            # Filtering the volume by region\n",
    "            ec2Client = handle.resource('ec2', region_name=reg)\n",
    "            volumes = ec2Client.volumes.all()\n",
    "\n",
    "            # collecting the volumes which has zero attachments\n",
    "            for volume in volumes:\n",
    "                volume_dict = {}\n",
    "                if len(volume.attachments) == 0:\n",
    "                    volume_dict[\"region\"] = reg\n",
    "                    volume_dict[\"volume_id\"] = volume.id\n",
    "                    result.append(volume_dict)\n",
    "        except Exception as e:\n",
    "            pass\n",
    "\n",
    "    if len(result) != 0:\n",
    "        return (False, result)\n",
    "    else:\n",
    "        return (True, None)\n",
    "\n",
    "\n",
    "task = Task(Workflow())\n",
    "task.configure(conditionsJson='''{\n",
    "    \"condition_enabled\": true,\n",
    "    \"condition_cfg\": \"not ebs_volume\",\n",
    "    \"condition_result\": true\n",
    "    }''')\n",
    "\n",
    "task.configure(outputName=\"unattached_volumes\")\n",
    "task.configure(inputParamsJson='''{\n",
    "    \"region\": \"region\"\n",
    "    }''')\n",
    "task.configure(printOutput=True)\n",
    "(err, hdl, args) = task.validate(vars=vars())\n",
    "if err is None:\n",
    "    task.execute(aws_filter_ebs_unattached_volumes, lego_printer=aws_filter_ebs_unattached_volumes_printer, hdl=hdl, args=args)"
   ]
  },
  {
   "attachments": {},
   "cell_type": "markdown",
   "id": "44f706b0-5e9e-4851-88fb-668cd57b8139",
   "metadata": {
    "jupyter": {
     "source_hidden": false
    },
    "name": "Step-1 Extension",
    "orderProperties": [],
    "tags": [],
    "title": "Step-1 Extension"
   },
   "source": [
    "<h3 id=\"Modify-Unattached-EBS-Volume-Output\">Modify Unattached EBS Volume Output</h3>\n",
    "<p>In this action, we modify the output from step 1 and return a list of dictionary items for the unattached EBS volume.</p>\n",
    "<blockquote>\n",
    "<p>Output variable: ebs_list</p>\n",
    "</blockquote>"
   ]
  },
  {
   "cell_type": "code",
   "execution_count": 10,
   "id": "85f04201-71c3-48cd-ad39-cdb78addcd44",
   "metadata": {
    "collapsed": true,
    "credentialsJson": {},
    "customAction": true,
    "execution_data": {
     "last_date_success_run_cell": "2023-05-17T16:32:51.626Z"
    },
    "jupyter": {
     "outputs_hidden": true,
     "source_hidden": true
    },
    "name": "Modify Step-1 Output",
    "orderProperties": [],
    "tags": [],
    "title": "Modify Step-1 Output"
   },
   "outputs": [],
   "source": [
    "ebs_list = []\n",
    "try:\n",
    "    if unattached_volumes[0] == False:\n",
    "        for volume in unattached_volumes[1]:\n",
    "            ebs_list.append(volume)\n",
    "except Exception as e:\n",
    "    if ebs_volume:\n",
    "        for i in ebs_volume:\n",
    "            data_dict = {}\n",
    "            data_dict[\"region\"] = region\n",
    "            data_dict[\"volume_id\"] = i\n",
    "            ebs_list.append(data_dict)\n",
    "    else:\n",
    "        raise Exception(e)"
   ]
  },
  {
   "attachments": {},
   "cell_type": "markdown",
   "id": "9bcb8839-c160-4d2b-9af3-0f133d45bcd7",
   "metadata": {
    "jupyter": {
     "source_hidden": false
    },
    "name": "Step-2",
    "orderProperties": [],
    "tags": [],
    "title": "Step-2"
   },
   "source": [
    "<h3 id=\"Create-Snapshot-Of-EBS-Volume\">Create a Snapshot Of EBS Volume</h3>\n",
    "<p>Here we will use the unSkript&nbsp;<strong>Create Snapshot Of EBS Volume</strong> action. In this action, we will back up the data stored in EBS volumes by passing the list of unattached EBS volumes from step 1 and creating a snapshot of the EBS volume of the EC2 instance.</p>\n",
    "<blockquote>\n",
    "<p>Input parameters: <code>volume_id</code>, <code>region</code></p>\n",
    "</blockquote>\n",
    "<blockquote>\n",
    "<p>Output variable: <code>snapshot_metadata</code></p>\n",
    "</blockquote>"
   ]
  },
  {
   "cell_type": "code",
   "execution_count": 30,
   "id": "f2c931e1-b221-416c-8493-270e34511035",
   "metadata": {
    "accessType": "ACCESS_TYPE_UNSPECIFIED",
    "actionBashCommand": false,
    "actionNeedsCredential": true,
    "actionRequiredLinesInCode": [],
    "actionSupportsIteration": true,
    "actionSupportsPoll": true,
    "action_modified": false,
    "action_uuid": "b2fa154276e80ccc52ca79ee65d784371889f5011175fa9313f5c052dd44c5cb",
    "continueOnError": true,
    "createTime": "1970-01-01T00:00:00Z",
    "credentialsJson": {},
    "currentVersion": "0.1.0",
    "description": "Create a snapshot for EBS volume of the EC2 Instance for backing up the data stored in EBS",
    "execution_data": {
     "last_date_success_run_cell": "2023-01-30T20:14:12.838Z"
    },
    "id": 177,
    "index": 177,
    "inputData": [
     {
      "region": {
       "constant": false,
       "value": "\"iter.get(\\\\\"region\\\\\")\""
      },
      "volume_id": {
       "constant": false,
       "value": "\"iter.get(\\\\\"volume_id\\\\\")\""
      }
     }
    ],
    "inputschema": [
     {
      "properties": {
       "region": {
        "description": "AWS Region.",
        "title": "Region",
        "type": "string"
       },
       "volume_id": {
        "description": "Volume ID to create snapshot for particular volume e.g. vol-01eb21cfce30a956c",
        "title": "Volume ID",
        "type": "string"
       }
      },
      "required": [
       "volume_id",
       "region"
      ],
      "title": "aws_create_volumes_snapshot",
      "type": "object"
     }
    ],
    "iterData": [
     {
      "iter_enabled": true,
      "iter_item": {
       "region": "region",
       "volume_id": "volume_id"
      },
      "iter_list": {
       "constant": false,
       "objectItems": true,
       "value": "ebs_list"
      }
     }
    ],
    "jupyter": {
     "source_hidden": true
    },
    "legotype": "LEGO_TYPE_AWS",
    "name": "AWS Create Snapshot For Volume",
    "nouns": [],
    "orderProperties": [
     "volume_id",
     "region"
    ],
    "output": {
     "type": ""
    },
    "outputParams": {
     "output_name": "snapshot_metadata",
     "output_name_enabled": true
    },
    "printOutput": true,
    "tags": [],
    "verbs": []
   },
   "outputs": [],
   "source": [
    "##\n",
    "##  Copyright (c) 2022 unSkript, Inc\n",
    "##  All rights reserved.\n",
    "##\n",
    "from pydantic import BaseModel, Field\n",
    "from typing import List\n",
    "import pprint\n",
    "\n",
    "\n",
    "from beartype import beartype\n",
    "@beartype\n",
    "def aws_create_volumes_snapshot_printer(output):\n",
    "    if output is None:\n",
    "        return\n",
    "    pprint.pprint(output)\n",
    "\n",
    "\n",
    "@beartype\n",
    "def aws_create_volumes_snapshot(handle, volume_id: str, region: str) -> List:\n",
    "    \"\"\"aws_create_volumes_snapshot Returns an list containing SnapshotId.\n",
    "\n",
    "        :type region: string\n",
    "        :param region: used to filter the volume for a given region.\n",
    "\n",
    "        :type volume_id: string\n",
    "        :param volume_id: Volume ID to create snapshot for particular volume.\n",
    "\n",
    "        :rtype: List containing SnapshotId.\n",
    "    \"\"\"\n",
    "    result = []\n",
    "\n",
    "    ec2Client = handle.resource('ec2', region_name=region)\n",
    "\n",
    "    try:\n",
    "        response = ec2Client.create_snapshot(VolumeId=volume_id)\n",
    "        result.append(response)\n",
    "    except Exception as e:\n",
    "        raise e\n",
    "\n",
    "    return result\n",
    "\n",
    "\n",
    "task = Task(Workflow())\n",
    "task.configure(continueOnError=True)\n",
    "task.configure(inputParamsJson='''{\n",
    "    \"region\": \"iter.get(\\\\\"region\\\\\")\",\n",
    "    \"volume_id\": \"iter.get(\\\\\"volume_id\\\\\")\"\n",
    "    }''')\n",
    "task.configure(iterJson='''{\n",
    "    \"iter_enabled\": true,\n",
    "    \"iter_list_is_const\": false,\n",
    "    \"iter_list\": \"ebs_list\",\n",
    "    \"iter_parameter\": [\"volume_id\",\"region\"]\n",
    "    }''')\n",
    "\n",
    "task.configure(outputName=\"snapshot_metadata\")\n",
    "\n",
    "task.configure(printOutput=True)\n",
    "(err, hdl, args) = task.validate(vars=vars())\n",
    "if err is None:\n",
    "    task.execute(aws_create_volumes_snapshot, lego_printer=aws_create_volumes_snapshot_printer, hdl=hdl, args=args)"
   ]
  },
  {
   "attachments": {},
   "cell_type": "markdown",
   "id": "bafc0d66-295a-4a46-815b-6b2fbb2c5d75",
   "metadata": {
    "jupyter": {
     "source_hidden": false
    },
    "name": "Step-2 Extension",
    "orderProperties": [],
    "tags": [],
    "title": "Step-2 Extension"
   },
   "source": [
    "<h3 id=\"Modify-Listener-ARNs-Output\">Modify Snapshot Action Output</h3>\n",
    "<p>In this action, we modify the output from step 2 and return a list of dictionary items for the volumes whose snapshot has been created.</p>\n",
    "<blockquote>\n",
    "<p>Output variable: snapshot_volumes</p>\n",
    "</blockquote>"
   ]
  },
  {
   "cell_type": "code",
   "execution_count": 32,
   "id": "3de76e1e-ef8a-4dc9-9300-abcf4efb78ad",
   "metadata": {
    "collapsed": true,
    "credentialsJson": {},
    "customAction": true,
    "execution_data": {
     "last_date_success_run_cell": "2023-01-30T20:14:53.327Z"
    },
    "jupyter": {
     "outputs_hidden": true,
     "source_hidden": true
    },
    "name": "Modify Step-2",
    "orderProperties": [],
    "tags": [],
    "title": "Modify Step-2"
   },
   "outputs": [],
   "source": [
    "import json\n",
    "\n",
    "snapshot_volumes = []\n",
    "for k, v in snapshot_metadata.items():\n",
    "    try:\n",
    "        if v[0].id:\n",
    "            snap_dict = json.loads(k.replace(\"\\'\", \"\\\"\"))\n",
    "            snapshot_volumes.append(snap_dict)\n",
    "    except Exception as e:\n",
    "        pass"
   ]
  },
  {
   "attachments": {},
   "cell_type": "markdown",
   "id": "1c18b419-768f-4479-bdbf-d64fef6792c3",
   "metadata": {
    "jupyter": {
     "source_hidden": false
    },
    "name": "Step-3",
    "orderProperties": [],
    "tags": [],
    "title": "Step-3"
   },
   "source": [
    "<p><strong>Delete EBS Volume</strong></p>\n",
    "<p>In this action, we delete the unattached EBS volume we get after steps 1 and 2.</p>\n",
    "<blockquote>\n",
    "<p>Input parameters: <code>volume_id</code>, <code>region</code></p>\n",
    "</blockquote>\n",
    "<blockquote>\n",
    "<p>Output variable: <code>deletion_information</code></p>\n",
    "</blockquote>"
   ]
  },
  {
   "cell_type": "code",
   "execution_count": null,
   "id": "f85c99de-3ba6-4aae-a85d-1b790e7a00a2",
   "metadata": {
    "accessType": "ACCESS_TYPE_UNSPECIFIED",
    "actionBashCommand": false,
    "actionNeedsCredential": true,
    "actionRequiredLinesInCode": [],
    "actionSupportsIteration": true,
    "actionSupportsPoll": true,
    "action_modified": false,
    "action_uuid": "e8cccc03e1af323982c0ab9f06c01127c0481ca81943eb7e82e46245140b1059",
    "condition_enabled": true,
    "continueOnError": true,
    "createTime": "1970-01-01T00:00:00Z",
    "credentialsJson": {},
    "currentVersion": "0.1.0",
    "description": "Delete AWS Volume by Volume ID",
    "id": 273,
    "index": 273,
    "inputData": [
     {
      "region": {
       "constant": false,
       "value": "\"iter.get(\\\\\"region\\\\\")\""
      },
      "volume_id": {
       "constant": false,
       "value": "\"iter.get(\\\\\"volume_id\\\\\")\""
      }
     }
    ],
    "inputschema": [
     {
      "properties": {
       "region": {
        "description": "AWS Region.",
        "title": "Region",
        "type": "string"
       },
       "volume_id": {
        "description": "Volume ID.",
        "title": "Volume ID",
        "type": "string"
       }
      },
      "required": [
       "volume_id",
       "region"
      ],
      "title": "aws_delete_volumes",
      "type": "object"
     }
    ],
    "iterData": [
     {
      "iter_enabled": true,
      "iter_item": {
       "region": "region",
       "volume_id": "volume_id"
      },
      "iter_list": {
       "constant": false,
       "objectItems": true,
       "value": "snapshot_volumes"
      }
     }
    ],
    "jupyter": {
     "source_hidden": true
    },
    "legotype": "LEGO_TYPE_AWS",
    "name": "Delete AWS EBS Volume by Volume ID",
    "nouns": [],
    "orderProperties": [
     "volume_id",
     "region"
    ],
    "output": {
     "type": ""
    },
    "outputParams": {
     "output_name": "deletion_information",
     "output_name_enabled": true
    },
    "printOutput": true,
    "startcondition": "len(snapshot_volumes) > 0",
    "tags": [
     "aws_delete_volumes"
    ],
    "title": "Delete AWS EBS Volume by Volume ID",
    "verbs": []
   },
   "outputs": [],
   "source": [
    "##\n",
    "##  Copyright (c) 2022 unSkript, Inc\n",
    "##  All rights reserved.\n",
    "##\n",
    "from pydantic import BaseModel, Field\n",
    "from typing import List\n",
    "import pprint\n",
    "\n",
    "\n",
    "from beartype import beartype\n",
    "@beartype\n",
    "def aws_delete_volumes_printer(output):\n",
    "    if output is None:\n",
    "        return\n",
    "    pprint.pprint({\"Output\": output})\n",
    "\n",
    "\n",
    "@beartype\n",
    "def aws_delete_volumes(handle, volume_id: str, region: str) -> str:\n",
    "    \"\"\"aws_filter_ebs_unattached_volumes Returns an array of ebs volumes.\n",
    "\n",
    "        :type handle: object\n",
    "        :param handle: Object returned by the task.validate(...) method.\n",
    "\n",
    "        :type region: string\n",
    "        :param region: Used to filter the volume for specific region.\n",
    "\n",
    "        :type volume_id: string\n",
    "        :param volume_id: Volume ID needed to delete particular volume.\n",
    "\n",
    "        :rtype: Result of the API in the List form.\n",
    "    \"\"\"\n",
    "    result = []\n",
    "\n",
    "    ec2Client = handle.client('ec2',region_name=region)\n",
    "\n",
    "    # Adding logic for deletion criteria\n",
    "    try:\n",
    "        response = ec2Client.delete_volume(VolumeId=volume_id,)\n",
    "        result.append(response)\n",
    "    except Exception as e:\n",
    "        result.append(e)\n",
    "\n",
    "    return result\n",
    "\n",
    "\n",
    "task = Task(Workflow())\n",
    "task.configure(continueOnError=True)\n",
    "task.configure(inputParamsJson='''{\n",
    "    \"volume_id\": \"iter.get(\\\\\"volume_id\\\\\")\",\n",
    "    \"region\": \"iter.get(\\\\\"region\\\\\")\"\n",
    "    }''')\n",
    "task.configure(iterJson='''{\n",
    "    \"iter_enabled\": true,\n",
    "    \"iter_list_is_const\": false,\n",
    "    \"iter_list\": \"snapshot_volumes\",\n",
    "    \"iter_parameter\": [\"volume_id\",\"region\"]\n",
    "    }''')\n",
    "task.configure(conditionsJson='''{\n",
    "    \"condition_enabled\": true,\n",
    "    \"condition_cfg\": \"len(snapshot_volumes) > 0\",\n",
    "    \"condition_result\": true\n",
    "    }''')\n",
    "\n",
    "task.configure(outputName=\"deletion_information\")\n",
    "\n",
    "task.configure(printOutput=True)\n",
    "(err, hdl, args) = task.validate(vars=vars())\n",
    "if err is None:\n",
    "    task.execute(aws_delete_volumes, lego_printer=aws_delete_volumes_printer, hdl=hdl, args=args)"
   ]
  },
  {
   "attachments": {},
   "cell_type": "markdown",
   "id": "943ceb40-c278-45a7-81a0-d16a686d1db8",
   "metadata": {
    "jupyter": {
     "source_hidden": false
    },
    "name": "Conclusion",
    "orderProperties": [],
    "tags": [],
    "title": "Conclusion"
   },
   "source": [
    "### Conclusion\n",
    "<p>In this Runbook, we demonstrated the use of unSkript's AWS actions to filter unattached EBS volumes and create snapshots of those and delete them. To view the full platform capabunscriptedof unSkript please visit <a href=\"https://us.app.unskript.io\" target=\"_blank\" rel=\"noopener\">https://us.app.unskript.io</a></p>"
   ]
  }
 ],
 "metadata": {
  "execution_data": {
   "runbook_name": "Delete Unattached AWS EBS Volumes",
   "parameters": [
    "ebs_volume",
    "region"
   ]
  },
  "kernelspec": {
   "display_name": "unSkript (Build: 1166)",
   "language": "python",
   "name": "python3"
  },
  "language_info": {
   "codemirror_mode": {
    "name": "ipython",
    "version": 3
   },
   "file_extension": ".py",
   "mimetype": "text/x-python",
   "name": "python",
   "nbconvert_exporter": "python",
   "pygments_lexer": "ipython3",
   "version": "3.9.6"
  },
  "parameterSchema": {
   "properties": {
    "ebs_volume": {
     "default": "[\"abc\"]",
     "description": "Volume Id of the unattached volume.",
     "title": "ebs_volume",
     "type": "array"
    },
    "region": {
     "default": "abc",
     "description": "AWS region e.g. \"us-west-2\"",
     "title": "region",
     "type": "string"
    }
   },
   "required": [],
   "title": "Schema",
   "type": "object"
  },
  "vscode": {
   "interpreter": {
    "hash": "e8899eb02dfbc033aab5733bdae1bd213fa031d40331094008e8673d99ebab63"
   }
  }
 },
 "nbformat": 4,
 "nbformat_minor": 5
}