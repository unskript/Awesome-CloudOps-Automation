{
 "cells": [
  {
   "cell_type": "markdown",
   "id": "5424264e-6195-4cf9-906b-24b02d5a83f3",
   "metadata": {
    "jupyter": {
     "source_hidden": false
    },
    "name": "Steps Overview",
    "orderProperties": [],
    "tags": [],
    "title": "Steps Overview"
   },
   "source": [
    "<center><img src=\"https://unskript.com/assets/favicon.png\" alt=\"unSkript.com\" width=\"100\" height=\"100\">\n",
    "<h1 id=\"unSkript-Runbooks\">unSkript Runbooks</h1>\n",
    "<div class=\"alert alert-block alert-success\">\n",
    "<h3 id=\"Objective\">Objective</h3>\n",
    "<br><strong style=\"color: #000000;\"><em>Find and Delete Redshift Clusters with Low CPU Utilization</em></strong></div>\n",
    "</center>\n",
    "<p>&nbsp;</p>\n",
    "<center>\n",
    "<h2 id=\"Delete-RDS-Instances-with-Low-CPU-Utilization\"><u>Delete Redshift Clusters with Low CPU Utilization</u></h2>\n",
    "</center>\n",
    "<h1 id=\"Steps-Overview\">Steps Overview</h1>\n",
    "<p>1)<a href=\"#1\" target=\"_self\" rel=\"noopener\"> Find Redshift Clusters with Low CPU Utilization</a><br>2)<a href=\"#2\" target=\"_self\" rel=\"noopener\"> Delete Redshift Cluster</a></p>"
   ]
  },
  {
   "cell_type": "code",
   "execution_count": 4,
   "id": "e1f146c9-5180-4459-9c82-cf0e1da02785",
   "metadata": {
    "credentialsJson": {},
    "customAction": true,
    "execution_data": {
     "last_date_success_run_cell": "2023-05-17T07:39:46.226Z"
    },
    "jupyter": {
     "source_hidden": true
    },
    "name": "Input verification",
    "orderProperties": [],
    "tags": [],
    "title": "Input verification"
   },
   "outputs": [],
   "source": [
    "if region == None:\n",
    "    region = ''\n",
    "if cluster_identifiers and not region:\n",
    "    raise SystemExit(\"Please provide a region for the Redshift Clusters names!\")"
   ]
  },
  {
   "cell_type": "markdown",
   "id": "908f4dcb-8483-44fc-8f81-ce2502e03093",
   "metadata": {
    "jupyter": {
     "source_hidden": false
    },
    "name": "Step 1",
    "orderProperties": [],
    "tags": [],
    "title": "Step 1"
   },
   "source": [
    "<h3 id=\"Find-RDS-Instances-with-Low-CPU-Utilization\"><a id=\"1\" target=\"_self\" rel=\"nofollow\"></a>Find Redshift Clusters with Low CPU Utilization</h3>\n",
    "<p>Using unSkript's Find Redshift Clusters with Low CPU Utilization action, we will find instances with a low CPU utilization given a threshold percentage using the&nbsp;<span style=\"color: rgb(53, 152, 219);\">CPUUtilization <span style=\"color: rgb(0, 0, 0);\">attribue found in the statistics list of&nbsp; <em>get_metric_statistics</em> API of Cloudwatch.</span></span></p>\n",
    "<blockquote>\n",
    "<p>This action takes the following parameters: <code>region, threshold, duration_minutes</code></p>\n",
    "</blockquote>\n",
    "<blockquote>\n",
    "<p>This action captures the following output: <code>low_cpu_clusters</code></p>\n",
    "</blockquote>"
   ]
  },
  {
   "cell_type": "code",
   "execution_count": null,
   "id": "1424fc3d-ad1a-4614-ad08-bbb1d7151b9f",
   "metadata": {
    "actionBashCommand": false,
    "actionCategories": [
     "CATEGORY_TYPE_COST_OPT",
     "CATEGORY_TYPE_AWS",
     "CATEGORY_TYPE_AWS_REDSHIFT",
     "CATEGORY_TYPE_AWS_CLOUDWATCH"
    ],
    "actionDescription": "Find underutilized Redshift clusters in terms of CPU utilization.",
    "actionEntryFunction": "aws_find_redshift_clusters_with_low_cpu_utilization",
    "actionIsCheck": true,
    "actionIsRemediation": false,
    "actionNeedsCredential": true,
    "actionNextHop": [],
    "actionNextHopParameterMapping": {},
    "actionNouns": null,
    "actionOutputType": "ACTION_OUTPUT_TYPE_LIST",
    "actionSupportsIteration": true,
    "actionSupportsPoll": true,
    "actionTitle": "AWS Find Redshift Clusters with low CPU Utilization",
    "actionType": "LEGO_TYPE_AWS",
    "actionVerbs": null,
    "actionVersion": "1.0.0",
    "action_modified": false,
    "action_uuid": "27f2812eb37ee235c60584748f430bde0f1df9f7744b91c6148fa647d270dac8",
    "collapsed": true,
    "condition_enabled": true,
    "continueOnError": true,
    "credentialsJson": {},
    "description": "Find underutilized Redshift clusters in terms of CPU utilization.",
    "execution_data": {
     "last_date_success_run_cell": "2023-05-04T11:22:35.582Z"
    },
    "id": 1,
    "index": 1,
    "inputData": [
     {
      "duration_minutes": {
       "constant": false,
       "value": "int(duration_minutes)"
      },
      "region": {
       "constant": false,
       "value": "iter_item"
      },
      "utilization_threshold": {
       "constant": false,
       "value": "int(threshold)"
      }
     }
    ],
    "inputschema": [
     {
      "properties": {
       "duration_minutes": {
        "default": 5,
        "description": "Value in minutes to determine the start time of the data points. ",
        "title": "Duration (in minutes)",
        "type": "integer"
       },
       "region": {
        "default": "",
        "description": "AWS Region to get the Redshift Cluster",
        "title": "AWS Region",
        "type": "string"
       },
       "utilization_threshold": {
        "default": 10,
        "description": "The threshold value in percent of CPU utilization of the Redshift cluster",
        "title": "CPU utilization threshold(in %)",
        "type": "integer"
       }
      },
      "required": [],
      "title": "aws_find_redshift_clusters_with_low_cpu_utilization",
      "type": "object"
     }
    ],
    "iterData": [
     {
      "iter_enabled": true,
      "iter_item": "region",
      "iter_list": {
       "constant": false,
       "objectItems": false,
       "value": "region"
      }
     }
    ],
    "jupyter": {
     "outputs_hidden": true,
     "source_hidden": true
    },
    "language": "python",
    "legotype": "LEGO_TYPE_AWS",
    "name": "AWS Find Redshift Clusters with low CPU Utilization",
    "orderProperties": [
     "region",
     "duration_minutes",
     "utilization_threshold"
    ],
    "outputParams": {
     "output_name": "low_cpu_clusters",
     "output_name_enabled": true,
     "output_runbook_enabled": false,
     "output_runbook_name": ""
    },
    "printOutput": true,
    "startcondition": "not cluster_identifiers",
    "tags": [
     "aws_find_redshift_clusters_with_low_cpu_utilization"
    ],
    "uuid": "27f2812eb37ee235c60584748f430bde0f1df9f7744b91c6148fa647d270dac8",
    "version": "1.0.0"
   },
   "outputs": [],
   "source": [
    "##\n",
    "##  Copyright (c) 2023 unSkript, Inc\n",
    "##  All rights reserved.\n",
    "##\n",
    "from pydantic import BaseModel, Field\n",
    "from typing import Optional, Tuple\n",
    "from unskript.legos.aws.aws_list_all_regions.aws_list_all_regions import aws_list_all_regions\n",
    "import pprint\n",
    "from datetime import datetime,timedelta\n",
    "\n",
    "\n",
    "from beartype import beartype\n",
    "@beartype\n",
    "def aws_find_redshift_clusters_with_low_cpu_utilization_printer(output):\n",
    "    if output is None:\n",
    "        return\n",
    "    pprint.pprint(output)\n",
    "\n",
    "\n",
    "@beartype\n",
    "def aws_find_redshift_clusters_with_low_cpu_utilization(handle, utilization_threshold:int=10, region: str = \"\", duration_minutes:int=5) -> Tuple:\n",
    "    \"\"\"aws_find_redshift_clusters_with_low_cpu_utilization finds Redshift Clusters that have a lower cpu utlization than the given threshold\n",
    "\n",
    "        :type handle: object\n",
    "        :param handle: Object returned from task.validate(...).\n",
    "\n",
    "        :type region: string\n",
    "        :param region: Region of the Cluster.\n",
    "\n",
    "        :type utilization_threshold: integer\n",
    "        :param utilization_threshold: The threshold percentage of CPU utilization for a Redshift Cluster.\n",
    "\n",
    "        :type duration_minutes: integer\n",
    "        :param duration_minutes: The threshold percentage of CPU utilization for a Redshift Cluster.\n",
    "\n",
    "        :rtype: status, list of clusters and their region.\n",
    "    \"\"\"\n",
    "    result = []\n",
    "    all_regions = [region]\n",
    "    if not region:\n",
    "        all_regions = aws_list_all_regions(handle)\n",
    "    for reg in all_regions:\n",
    "        try:\n",
    "            redshiftClient = handle.client('redshift', region_name=reg)\n",
    "            cloudwatchClient = handle.client('cloudwatch', region_name=reg)\n",
    "            for cluster in redshiftClient.describe_clusters()['Clusters']:\n",
    "                cluster_identifier = cluster['ClusterIdentifier']\n",
    "                response = cloudwatchClient.get_metric_statistics(\n",
    "                Namespace='AWS/Redshift',\n",
    "                MetricName='CPUUtilization',\n",
    "                Dimensions=[\n",
    "                    {\n",
    "                        'Name': 'ClusterIdentifier',\n",
    "                        'Value': cluster_identifier\n",
    "                    }\n",
    "                ],\n",
    "                StartTime=(datetime.utcnow() - timedelta(minutes=duration_minutes)).isoformat(),\n",
    "                EndTime=datetime.utcnow().isoformat(),\n",
    "                Period=60,\n",
    "                Statistics=['Average']\n",
    "                )\n",
    "                if len(response['Datapoints']) != 0:\n",
    "                    cpu_usage_percent = response['Datapoints'][-1]['Average']\n",
    "                    if cpu_usage_percent < utilization_threshold:\n",
    "                        cluster_dict = {}\n",
    "                        cluster_dict[\"region\"] = reg\n",
    "                        cluster_dict[\"cluster\"] = cluster_identifier\n",
    "                        result.append(cluster_dict)\n",
    "        except Exception:\n",
    "            pass\n",
    "\n",
    "    if len(result) != 0:\n",
    "        return (False, result)\n",
    "    else:\n",
    "        return (True, None)\n",
    "\n",
    "\n",
    "\n",
    "\n",
    "task = Task(Workflow())\n",
    "task.configure(continueOnError=True)\n",
    "task.configure(inputParamsJson='''{\n",
    "    \"duration_minutes\": \"int(duration_minutes)\",\n",
    "    \"utilization_threshold\": \"int(threshold)\",\n",
    "    \"region\": \"iter_item\"\n",
    "    }''')\n",
    "task.configure(iterJson='''{\n",
    "    \"iter_enabled\": true,\n",
    "    \"iter_list_is_const\": false,\n",
    "    \"iter_list\": \"region\",\n",
    "    \"iter_parameter\": \"region\"\n",
    "    }''')\n",
    "task.configure(conditionsJson='''{\n",
    "    \"condition_enabled\": true,\n",
    "    \"condition_cfg\": \"not cluster_identifiers\",\n",
    "    \"condition_result\": true\n",
    "    }''')\n",
    "task.configure(outputName=\"low_cpu_clusters\")\n",
    "\n",
    "task.configure(printOutput=True)\n",
    "(err, hdl, args) = task.validate(vars=vars())\n",
    "if err is None:\n",
    "    task.execute(aws_find_redshift_clusters_with_low_cpu_utilization, lego_printer=aws_find_redshift_clusters_with_low_cpu_utilization_printer, hdl=hdl, args=args)"
   ]
  },
  {
   "cell_type": "markdown",
   "id": "199591ef-cb3a-49b7-b515-3c6998050320",
   "metadata": {
    "jupyter": {
     "source_hidden": false
    },
    "name": "Step 2A",
    "orderProperties": [],
    "tags": [],
    "title": "Step 2A"
   },
   "source": [
    "<h3 id=\"Create-List-of-Low-CPU-Utilization-RDS-Instances\">Create List of Low CPU Utilization Redshift Clusters</h3>\n",
    "<p>This action filters regions that have no clusters with low CPU utilization and creates a list of those that have them.</p>\n",
    "<blockquote>\n",
    "<p>This action takes the following parameters: <code>None</code></p>\n",
    "</blockquote>\n",
    "<blockquote>\n",
    "<p>This action captures the following output: <code>all_low_cpu_clusters</code></p>\n",
    "</blockquote>"
   ]
  },
  {
   "cell_type": "code",
   "execution_count": null,
   "id": "6a10e980-9f17-4436-9166-90ea130aa316",
   "metadata": {
    "collapsed": true,
    "credentialsJson": {},
    "customAction": true,
    "execution_data": {
     "last_date_success_run_cell": "2023-05-04T11:22:38.609Z"
    },
    "jupyter": {
     "outputs_hidden": true,
     "source_hidden": true
    },
    "name": "Create List of Low CPU Utilization RDS Instances",
    "orderProperties": [],
    "tags": [],
    "title": "Create List of Low CPU Utilization RDS Instances"
   },
   "outputs": [],
   "source": [
    "all_low_cpu_clusters = []\n",
    "try:\n",
    "    for res in low_cpu_clusters:\n",
    "        if type(res)==bool:\n",
    "            if res == False:\n",
    "                continue\n",
    "        elif type(res)==list:\n",
    "            if len(res)!=0:\n",
    "                all_low_cpu_clusters=res\n",
    "except Exception:\n",
    "    for ins_identifier in cluster_identifiers:\n",
    "        data_dict = {}\n",
    "        data_dict[\"region\"] = region\n",
    "        data_dict[\"cluster\"] = ins_identifier\n",
    "        all_low_cpu_clusters.append(data_dict)\n",
    "print(all_low_cpu_clusters)\n",
    "task.configure(outputName=\"all_low_cpu_instances\")"
   ]
  },
  {
   "cell_type": "markdown",
   "id": "978d3b61-2fd9-461d-89bd-534d2dcf3b63",
   "metadata": {
    "jupyter": {
     "source_hidden": false
    },
    "name": "Step 2",
    "orderProperties": [],
    "tags": [],
    "title": "Step 2"
   },
   "source": [
    "<h3 id=\"Delete-RDS-Instance\"><a id=\"2\" target=\"_self\" rel=\"nofollow\"></a>Delete Redshift Clusters</h3>\n",
    "<p>This action deletes instances found in Step 1.&nbsp; By default, the skip final cluster screenshot is set to <span style=\"color: rgb(224, 62, 45);\">False.&nbsp;<span style=\"color: rgb(0, 0, 0);\">This setting will not take a final screenshot of the cluster.</span></span></p>\n",
    "<blockquote>\n",
    "<p>This action takes the following parameters:&nbsp;<code>cluster, region, skip_final_cluster_screenshot</code></p>\n",
    "</blockquote>"
   ]
  },
  {
   "cell_type": "code",
   "execution_count": null,
   "id": "267106f2-0625-4a8e-a9e6-4d4e35bcb474",
   "metadata": {
    "actionBashCommand": false,
    "actionCategories": [
     "CATEGORY_TYPE_DEVOPS",
     "CATEGORY_TYPE_SRE",
     "CATEGORY_TYPE_AWS",
     "CATEGORY_TYPE_AWS_REDSHIFT"
    ],
    "actionDescription": "Delete AWS Redshift Cluster",
    "actionEntryFunction": "aws_delete_redshift_cluster",
    "actionIsCheck": false,
    "actionIsRemediation": false,
    "actionNeedsCredential": true,
    "actionNextHop": null,
    "actionNextHopParameterMapping": null,
    "actionNouns": null,
    "actionOutputType": "ACTION_OUTPUT_TYPE_DICT",
    "actionSupportsIteration": true,
    "actionSupportsPoll": true,
    "actionTitle": "AWS Delete Redshift Cluster",
    "actionType": "LEGO_TYPE_AWS",
    "actionVerbs": null,
    "actionVersion": "1.0.0",
    "action_modified": false,
    "action_uuid": "6d9934159356d4290f164d36cdd42609f8916a87d4d68f6271bb8634f12485b4",
    "collapsed": true,
    "condition_enabled": true,
    "continueOnError": true,
    "credentialsJson": {},
    "description": "Delete AWS Redshift Cluster",
    "id": 7,
    "index": 7,
    "inputData": [
     {
      "cluster_identifier": {
       "constant": false,
       "value": "\"iter.get(\\\\\"cluster\\\\\")\""
      },
      "region": {
       "constant": false,
       "value": "\"iter.get(\\\\\"region\\\\\")\""
      },
      "skip_final_cluster_snapshot": {
       "constant": true,
       "value": false
      }
     }
    ],
    "inputschema": [
     {
      "properties": {
       "cluster_identifier": {
        "description": "The identifier of the cluster to be deleted.",
        "title": "Cluster Identifier",
        "type": "string"
       },
       "region": {
        "description": "AWS Region.",
        "title": "Region",
        "type": "string"
       },
       "skip_final_cluster_snapshot": {
        "default": false,
        "description": "Determines whether a final snapshot of the cluster is created before Amazon Redshift deletes the cluster. If true, a final cluster snapshot is not created. If false, a final cluster snapshot is created before the cluster is deleted.",
        "title": "Skip Final Cluster Snapshot",
        "type": "boolean"
       }
      },
      "required": [
       "region",
       "cluster_identifier"
      ],
      "title": "aws_delete_redshift_cluster",
      "type": "object"
     }
    ],
    "iterData": [
     {
      "iter_enabled": true,
      "iter_item": {
       "cluster_identifier": "cluster",
       "region": "region"
      },
      "iter_list": {
       "constant": false,
       "objectItems": true,
       "value": "all_low_cpu_clusters"
      }
     }
    ],
    "jupyter": {
     "outputs_hidden": true,
     "source_hidden": true
    },
    "language": "python",
    "legotype": "LEGO_TYPE_AWS",
    "name": "AWS Delete Redshift Cluster",
    "orderProperties": [
     "region",
     "cluster_identifier",
     "skip_final_cluster_snapshot"
    ],
    "printOutput": true,
    "startcondition": "len(all_low_cpu_clusters)!=0",
    "tags": [
     "aws_delete_redshift_cluster"
    ],
    "uuid": "6d9934159356d4290f164d36cdd42609f8916a87d4d68f6271bb8634f12485b4",
    "version": "1.0.0"
   },
   "outputs": [],
   "source": [
    "##\n",
    "# Copyright (c) 2023 unSkript, Inc\n",
    "# All rights reserved.\n",
    "##\n",
    "from pydantic import BaseModel, Field\n",
    "from typing import Optional, Dict\n",
    "import pprint\n",
    "\n",
    "\n",
    "from beartype import beartype\n",
    "@beartype\n",
    "def aws_delete_redshift_cluster_printer(output):\n",
    "    if output is None:\n",
    "        return\n",
    "    pprint.pprint(output)\n",
    "\n",
    "\n",
    "@beartype\n",
    "def aws_delete_redshift_cluster(handle, region: str, cluster_identifier: str, skip_final_cluster_snapshot:bool=False) -> Dict:\n",
    "    \"\"\"aws_delete_redshift_cluster dict response.\n",
    "\n",
    "        :type region: string\n",
    "        :param region: AWS Region.\n",
    "\n",
    "        :type cluster_identifier: string\n",
    "        :param cluster_identifier: The identifier of the cluster to be deleted.\n",
    "\n",
    "        :type skip_final_cluster_snapshot: boolean\n",
    "        :param skip_final_cluster_snapshot: Determines whether a final snapshot of the cluster is created before Amazon Redshift deletes the cluster. If true, a final cluster snapshot is not created. If false, a final cluster snapshot is created before the cluster is deleted.\n",
    "\n",
    "        :rtype: dict of response\n",
    "    \"\"\"\n",
    "    try:\n",
    "        redshiftClient = handle.client('redshift', region_name=region)\n",
    "        response = redshiftClient.delete_cluster(\n",
    "            ClusterIdentifier=cluster_identifier,\n",
    "            SkipFinalClusterSnapshot=skip_final_cluster_snapshot\n",
    "            )\n",
    "        return response\n",
    "    except Exception as e:\n",
    "        raise Exception(e)\n",
    "\n",
    "\n",
    "\n",
    "\n",
    "task = Task(Workflow())\n",
    "task.configure(continueOnError=True)\n",
    "task.configure(inputParamsJson='''{\n",
    "    \"skip_final_cluster_snapshot\": \"False\",\n",
    "    \"cluster_identifier\": \"iter.get(\\\\\"cluster\\\\\")\",\n",
    "    \"region\": \"iter.get(\\\\\"region\\\\\")\"\n",
    "    }''')\n",
    "task.configure(iterJson='''{\n",
    "    \"iter_enabled\": true,\n",
    "    \"iter_list_is_const\": false,\n",
    "    \"iter_list\": \"all_low_cpu_clusters\",\n",
    "    \"iter_parameter\": [\"cluster_identifier\",\"region\"]\n",
    "    }''')\n",
    "task.configure(conditionsJson='''{\n",
    "    \"condition_enabled\": true,\n",
    "    \"condition_cfg\": \"len(all_low_cpu_clusters)!=0\",\n",
    "    \"condition_result\": true\n",
    "    }''')\n",
    "\n",
    "task.configure(printOutput=True)\n",
    "(err, hdl, args) = task.validate(vars=vars())\n",
    "if err is None:\n",
    "    task.execute(aws_delete_redshift_cluster, lego_printer=aws_delete_redshift_cluster_printer, hdl=hdl, args=args)"
   ]
  },
  {
   "cell_type": "markdown",
   "id": "44a6cf05-385b-445d-a503-ad4aa607a568",
   "metadata": {
    "jupyter": {
     "source_hidden": false
    },
    "name": "Conclusion",
    "orderProperties": [],
    "tags": [],
    "title": "Conclusion"
   },
   "source": [
    "<h3 id=\"Conclusion&para;\">Conclusion</h3>\n",
    "<p>In this Runbook, we were able to filter low CPU utilization Redshift Clusters given threshold percentage and delete them. To view the full platform capabilities of unSkript please visit <a href=\"https://us.app.unskript.io\" target=\"_blank\" rel=\"noopener\">us.app.unskript.io</a></p>"
   ]
  }
 ],
 "metadata": {
  "execution_data": {
   "parameters": [
    "region",
    "threshold_days"
   ],
   "runbook_name": "Delete Redshift Clusters with Low CPU Utilization"
  },
  "kernelspec": {
   "display_name": "unSkript (Build: 1166)",
   "language": "python",
   "name": "python3"
  },
  "language_info": {
   "codemirror_mode": {
    "name": "ipython",
    "version": 3
   },
   "file_extension": ".py",
   "mimetype": "text/x-python",
   "name": "python",
   "nbconvert_exporter": "python",
   "pygments_lexer": "ipython3",
   "version": "3.10.6"
  },
  "outputParameterSchema": {
   "properties": {},
   "required": [],
   "title": "Schema",
   "type": "object"
  },
  "parameterSchema": {
   "properties": {
    "cluster_identifiers": {
     "description": "List of Redshift Clusters identifiers.",
     "title": "cluster_identifiers",
     "type": "array"
    },
    "duration_minutes": {
     "default": 5,
     "description": "Start time value in minutes to get the start time of metrics collection",
     "title": "duration_minutes",
     "type": "number"
    },
    "region": {
     "description": "AWS Region to get the Redshift Clusters from. Eg: \"us-west-2\". If nothing is given all regions will be considered.",
     "title": "region",
     "type": "string"
    },
    "threshold": {
     "default": 10,
     "description": "Threshold (in percent) to check for the CPU utilization of Redshift Clusters below the given threshold.",
     "title": "threshold",
     "type": "number"
    }
   },
   "required": [],
   "title": "Schema",
   "type": "object"
  },
  "vscode": {
   "interpreter": {
    "hash": "b0fa6594d8f4cbf19f97940f81e996739fb7646882a419484c72d19e05852a7e"
   }
  }
 },
 "nbformat": 4,
 "nbformat_minor": 5
}
