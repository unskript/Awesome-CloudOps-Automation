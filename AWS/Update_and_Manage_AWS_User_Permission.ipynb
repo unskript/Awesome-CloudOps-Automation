{
 "cells": [
  {
   "cell_type": "markdown",
   "id": "f0865bbe-2a84-4654-9f9a-f794657031b8",
   "metadata": {
    "jupyter": {
     "source_hidden": false
    },
    "name": "Update and Manage AWS User Permission",
    "orderProperties": [],
    "tags": [],
    "title": "Update and Manage AWS User Permission"
   },
   "source": [
    "<img src=\"https://storage.googleapis.com/unskript-website/assets/favicon.png\" alt=\"unSkript.com\" width=\"100\" height=\"100\"/> \n",
    "<h1> unSkript Runbooks </h1>\n",
    "<div class=\"alert alert-block alert-success\">\n",
    "    <b> This runbook demonstrates How to Update and Manage AWS User Permissions using unSkript legos.</b>\n",
    "</div>\n",
    "\n",
    "<br>\n",
    "\n",
    "<center><h2>Update and Manage AWS User Permissions</h2></center>\n",
    "\n",
    "# Steps Overview\n",
    "1) List all the IAM user attached policies. \n",
    "2) Attache new policy to the given user."
   ]
  },
  {
   "cell_type": "markdown",
   "id": "568e67dc-f423-4354-8223-6a4cf1fab87e",
   "metadata": {
    "jupyter": {
     "source_hidden": false
    },
    "name": "AWS List Attached User Policies",
    "orderProperties": [],
    "tags": [],
    "title": "AWS List Attached User Policies"
   },
   "source": [
    "Here we will use unSkript AWS List Attached User Policies Lego. This lego takes UserName as input. This inputs is used to list all the policies for given user."
   ]
  },
  {
   "cell_type": "code",
   "execution_count": 3,
   "id": "88c08055-bf9e-417a-907e-a282fcf10d98",
   "metadata": {
    "accessType": "ACCESS_TYPE_UNSPECIFIED",
    "actionBashCommand": false,
    "actionNeedsCredential": true,
    "actionRequiredLinesInCode": [],
    "actionSupportsIteration": true,
    "actionSupportsPoll": true,
    "action_uuid": "afacde59-a401-4a8b-901d-46c4b3970b78",
    "continueOnError": false,
    "createTime": "2022-07-27T16:51:48Z",
    "credentialsJson": {},
    "currentVersion": "v0.0.0",
    "description": "Test",
    "execution_data": {
     "last_date_success_run_cell": "2022-09-29T18:57:37.385Z"
    },
    "id": 100001,
    "index": 100001,
    "inputData": [
     {
      "UserName": {
       "constant": false,
       "value": "UserName"
      }
     }
    ],
    "inputschema": [
     {
      "properties": {
       "UserName": {
        "default": "",
        "description": "IAM User Name whose attached policies needs to be fetched",
        "title": "UserName",
        "type": "string"
       }
      },
      "required": [
       "instance_ids",
       "region"
      ],
      "title": "aws_restart_ec2_instances_test",
      "type": "object"
     }
    ],
    "jupyter": {
     "source_hidden": true
    },
    "legotype": "LEGO_TYPE_AWS",
    "name": "AWS List Attached User Policies",
    "nouns": [],
    "orderProperties": [
     "UserName"
    ],
    "output": {
     "type": ""
    },
    "tags": [],
    "title": "AWS List Attached User Policies",
    "trusted": true,
    "verbs": []
   },
   "outputs": [],
   "source": [
    "##  Copyright (c) 2021 unSkript, Inc\n",
    "##  All rights reserved.\n",
    "##\n",
    "from typing import List, Dict\n",
    "from pydantic import BaseModel, Field\n",
    "from botocore.exceptions import ClientError\n",
    "import pprint\n",
    "from beartype import beartype\n",
    "\n",
    "\n",
    "@beartype\n",
    "def aws_list_attached_user_policies_printer(output):\n",
    "    if output is None:\n",
    "        return\n",
    "    pprint.pprint(output)\n",
    "\n",
    "\n",
    "@beartype\n",
    "def aws_list_attached_user_policies(handle, UserName: str) -> List:\n",
    "    \"\"\"aws_list_attached_user_policies returns the list of policies attached to the user.\n",
    "\n",
    "        :type UserName: string\n",
    "        :param UserName: IAM user whose policies need to fetched.\n",
    "\n",
    "        :rtype: List with with the attched policy names.\n",
    "    \"\"\"\n",
    "    result = []\n",
    "    user_list = []\n",
    "    ec2Client = handle.client('iam')\n",
    "    try:\n",
    "        response = ec2Client.list_attached_user_policies(UserName=UserName)\n",
    "        for i in response[\"AttachedPolicies\"]:\n",
    "            result.append(i['PolicyName'])\n",
    "\n",
    "    except ClientError as error:\n",
    "        result.append(error.response)\n",
    "\n",
    "    return result\n",
    "\n",
    "\n",
    "task = Task(Workflow())\n",
    "task.configure(inputParamsJson='''{\n",
    "    \"UserName\": \"UserName\"\n",
    "    }''')\n",
    "(err, hdl, args) = task.validate(vars=vars())\n",
    "if err is None:\n",
    "    task.execute(aws_list_attached_user_policies, lego_printer=aws_list_attached_user_policies_printer, hdl=hdl, args=args)"
   ]
  },
  {
   "cell_type": "markdown",
   "id": "3814f2a7-bd7f-4745-8321-a55be4cf0853",
   "metadata": {
    "jupyter": {
     "source_hidden": false
    },
    "name": "AWS Attach New Policy to User",
    "orderProperties": [],
    "tags": [],
    "title": "AWS Attach New Policy to User"
   },
   "source": [
    "Here we will use unSkript AWS Attach IAM Policy Lego. This lego takes UserName and PolicyName as input. This inputs is used to Attach a new policy to the given user and provide specified permissions."
   ]
  },
  {
   "cell_type": "code",
   "execution_count": 13,
   "id": "4de7fc11-3301-4ff7-9b1a-8ea0cd61c4bf",
   "metadata": {
    "accessType": "ACCESS_TYPE_UNSPECIFIED",
    "actionBashCommand": false,
    "actionNeedsCredential": true,
    "actionRequiredLinesInCode": [],
    "actionSupportsIteration": true,
    "actionSupportsPoll": true,
    "action_uuid": "afacde59-a401-4a8b-901d-46c4b3970b78",
    "collapsed": true,
    "continueOnError": false,
    "createTime": "2022-07-27T16:51:48Z",
    "credentialsJson": {},
    "currentVersion": "v0.0.0",
    "description": "Test",
    "execution_data": {
     "last_date_success_run_cell": "2022-09-05T16:25:19.900Z"
    },
    "id": 100001,
    "index": 100001,
    "inputData": [
     {
      "PolicyName": {
       "constant": false,
       "value": "Policy_Name"
      },
      "UserName": {
       "constant": false,
       "value": "UserName"
      }
     }
    ],
    "inputschema": [
     {
      "properties": {
       "PolicyName": {
        "default": "",
        "description": "Name of the policy which permissions needs to attached for the user.",
        "title": "PolicyName",
        "type": "string"
       },
       "UserName": {
        "default": "",
        "description": "IAM User Name where policy needs to attached",
        "title": "UserName",
        "type": "string"
       }
      },
      "required": [
       "instance_ids",
       "region"
      ],
      "title": "aws_restart_ec2_instances_test",
      "type": "object"
     }
    ],
    "jupyter": {
     "outputs_hidden": true,
     "source_hidden": true
    },
    "legotype": "LEGO_TYPE_AWS",
    "name": "AWS Attach New Policy to User",
    "nouns": [],
    "orderProperties": [
     "UserName",
     "PolicyName"
    ],
    "output": {
     "type": ""
    },
    "tags": [],
    "title": "AWS Attach New Policy to User",
    "verbs": []
   },
   "outputs": [],
   "source": [
    "##  Copyright (c) 2021 unSkript, Inc\n",
    "##  All rights reserved.\n",
    "##\n",
    "from typing import List, Dict\n",
    "from pydantic import BaseModel, Field\n",
    "from botocore.exceptions import ClientError\n",
    "import pprint\n",
    "\n",
    "\n",
    "from beartype import beartype\n",
    "@beartype\n",
    "def aws_attache_iam_policy_printer(output):\n",
    "    if output is None:\n",
    "        return\n",
    "    pprint.pprint(output)\n",
    "\n",
    "\n",
    "@beartype\n",
    "def aws_attache_iam_policy(handle, UserName: str, PolicyName: str) -> Dict:\n",
    "    \"\"\"aws_attache_iam_policy used to provide user permissions.\n",
    "\n",
    "        :type handle: object\n",
    "        :param handle: Object containing global params for the notebook.\n",
    "\n",
    "        :type UserName: dict\n",
    "        :param UserName: Dictionary of credentials info.\n",
    "\n",
    "        :type PolicyName: string\n",
    "        :param PolicyName: Policy name to apply the permissions to the user .\n",
    "\n",
    "        :rtype: Dict with User policy info.\n",
    "    \"\"\"\n",
    "    result = {}\n",
    "    iamResource = handle.resource('iam')\n",
    "    try:\n",
    "        user = iamResource.User(UserName)\n",
    "        response = user.attach_policy(\n",
    "            PolicyArn='arn:aws:iam::aws:policy/'+PolicyName\n",
    "            )\n",
    "        result = response\n",
    "    except ClientError as error:\n",
    "        result = error.response\n",
    "\n",
    "    return result\n",
    "\n",
    "\n",
    "task = Task(Workflow())\n",
    "task.configure(inputParamsJson='''{\n",
    "    \"PolicyName\": \"Policy_Name\",\n",
    "    \"UserName\": \"UserName\"\n",
    "    }''')\n",
    "(err, hdl, args) = task.validate(vars=vars())\n",
    "if err is None:\n",
    "    task.execute(aws_attach_iam_policy, lego_printer=aws_attach_iam_policy_printer, hdl=hdl, args=args)"
   ]
  },
  {
   "cell_type": "markdown",
   "id": "de59d49d-edb6-4849-addd-bf18fcf2683d",
   "metadata": {
    "jupyter": {
     "source_hidden": false
    },
    "name": "Conclusion",
    "orderProperties": [],
    "tags": [],
    "title": "Conclusion"
   },
   "source": [
    "In this Runbook, we demonstrated the use of unSkript's AWS to perform AWS actions. This runbook is used to list all the attached policies to IAM user and and attach new policy to the same user. To view the full platform capabilities of unSkript please visit https://unskript.com"
   ]
  }
 ],
 "metadata": {
  "execution_data": {
   "runbook_name": "Update and Manage AWS User permission",
   "parameters": [
    "UserName"
   ]
  },
  "kernelspec": {
   "display_name": "unSkript (Build: 618)",
   "name": "python_kubernetes"
  },
  "language_info": {
   "file_extension": ".py",
   "mimetype": "text/x-python",
   "name": "python",
   "pygments_lexer": "ipython3"
  },
  "parameterSchema": {
   "properties": {
    "Policy_Name": {
     "default": "CloudWatchFullAccess",
     "description": "Policy name for apply the permissions to user",
     "title": "Policy_Name",
     "type": "string"
    },
    "UserName": {
     "default": "TestRunbook",
     "description": "IAM User Name which needs to attach policy",
     "title": "UserName",
     "type": "string"
    }
   },
   "required": [],
   "title": "Schema",
   "type": "object"
  },
  "parameterValues": {
   "Policy_Name": "CloudWatchFullAccess"
  }
 },
 "nbformat": 4,
 "nbformat_minor": 5
}