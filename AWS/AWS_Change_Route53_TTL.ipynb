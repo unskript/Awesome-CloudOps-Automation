{
 "cells": [
  {
   "cell_type": "markdown",
   "id": "82eebdfd-c880-40df-bd6d-5b546c92164b",
   "metadata": {
    "jupyter": {
     "source_hidden": false
    },
    "name": "Steps Overview",
    "orderProperties": [],
    "tags": [],
    "title": "Steps Overview"
   },
   "source": [
    "<center><img src=\"https://storage.googleapis.com/unskript-website/assets/favicon.png\" alt=\"unSkript.com\" width=\"100\" height=\"100\">\n",
    "<h1 id=\"unSkript-Runbooks&para;\">unSkript Runbooks</h1>\n",
    "<div class=\"alert alert-block alert-success\">\n",
    "<h3 id=\"Objective&para;\">Objective</h3>\n",
    "<br><strong style=\"color: #000000;\"><em>Find Lower TTL(Time To Live) for Route53 records and change it to a higher TTL value</em></strong></div>\n",
    "</center>\n",
    "<p>&nbsp;</p>\n",
    "<center>\n",
    "<h2 id=\"Change-AWS-Route53-TTL-value\"><strong><u>Change AWS Route53 TTL value</u></strong></h2>\n",
    "</center>\n",
    "<h1 id=\"Steps-Overview\">Steps Overview</h1>\n",
    "<p>1)<a href=\"#1\" target=\"_self\" rel=\"noopener\"> Get TTL under X hours</a><br>2)<a href=\"#2\" target=\"_self\" rel=\"noopener\"> Change the TTL value</a></p>"
   ]
  },
  {
   "cell_type": "code",
   "execution_count": null,
   "id": "889af0ca-5f1f-45e2-8f24-d779c8cc0086",
   "metadata": {
    "credentialsJson": {},
    "customAction": true,
    "execution_data": {
     "last_date_success_run_cell": "2023-05-18T08:03:49.533Z"
    },
    "jupyter": {
     "source_hidden": true
    },
    "name": "Input Verification",
    "orderProperties": [],
    "tags": [],
    "title": "Input Verification"
   },
   "outputs": [],
   "source": [
    "if hosted_zone_id and not record_name and not record_type:\n",
    "    raise SystemExit(\"Provide a Record Name and Record Type!\")\n",
    "elif record_name and not hosted_zone_id and not record_type:\n",
    "    raise SystemExit(\"Provide a Hosted Zone ID and Record Type!\")\n",
    "elif record_type and not hosted_zone_id and not record_name:\n",
    "    raise SystemExit(\"Provide a Hosted Zone ID and Record Name!\")\n",
    "elif record_type and hosted_zone_id and not record_name:\n",
    "    raise SystemExit(\"Provide a Record Name!\")\n",
    "elif record_name and hosted_zone_id and not record_type:\n",
    "    raise SystemExit(\"Provide a Record Type!\")\n",
    "elif hosted_zone_id and record_name and not record_type:\n",
    "    raise SystemExit(\"Provide a Record Type!\")\n",
    "elif hosted_zone_id and record_type and not record_name:\n",
    "    raise SystemExit(\"Provide a Record Name!\")"
   ]
  },
  {
   "cell_type": "markdown",
   "id": "2020e8d0-ba3b-4c71-84b2-10917465a27e",
   "metadata": {
    "jupyter": {
     "source_hidden": false
    },
    "name": "Step 1",
    "orderProperties": [],
    "tags": [],
    "title": "Step 1"
   },
   "source": [
    "<h3 id=\"Get-TTLs-under-X-hours\"><a id=\"1\" target=\"_self\" rel=\"nofollow\"></a>Get TTLs under X hours</h3>\n",
    "<p>Using unSkript's Get Route53 TTL Under Hours , we will find the hosted zones and records that have a TTL under given threshold hours. A lower TTL means more queries arrive at the name servers because the cached values expire sooner.</p>\n",
    "<blockquote>\n",
    "<p>This action takes the following parameters: <code>threshold(in hours)</code></p>\n",
    "</blockquote>\n",
    "<blockquote>\n",
    "<p>This action captures the following output: <code>lower_ttl_records</code></p>\n",
    "</blockquote>"
   ]
  },
  {
   "cell_type": "code",
   "execution_count": null,
   "id": "8372128f-d195-47f3-b3a7-4482ae7e9764",
   "metadata": {
    "actionBashCommand": false,
    "actionCategories": [
     "CATEGORY_TYPE_COST_OPT",
     "CATEGORY_TYPE_SRE",
     "CATEGORY_TYPE_AWS",
     "CATEGORY_TYPE_AWS_ROUTE53"
    ],
    "actionDescription": "AWS: Check for short Route 53 TTL",
    "actionEntryFunction": "aws_get_ttl_under_given_hours",
    "actionIsCheck": true,
    "actionIsRemediation": false,
    "actionNeedsCredential": true,
    "actionNextHop": [],
    "actionNextHopParameterMapping": {},
    "actionNouns": null,
    "actionOutputType": "ACTION_OUTPUT_TYPE_LIST",
    "actionSupportsIteration": true,
    "actionSupportsPoll": true,
    "actionTitle": "AWS: Check for short Route 53 TTL",
    "actionType": "LEGO_TYPE_AWS",
    "actionVerbs": null,
    "actionVersion": "1.0.0",
    "action_modified": false,
    "action_uuid": "a885ef62f7614e282856fdc37f0654f67b4ec7e7651350ea0dbb123788e705df",
    "condition_enabled": true,
    "continueOnError": false,
    "credentialsJson": {},
    "description": "AWS: Check for short Route 53 TTL",
    "execution_data": {
     "last_date_success_run_cell": "2023-05-18T08:06:27.645Z"
    },
    "id": 2,
    "index": 2,
    "inputData": [
     {
      "threshold": {
       "constant": false,
       "value": "int(threshold_ttl)"
      }
     }
    ],
    "inputschema": [
     {
      "properties": {
       "threshold": {
        "default": 1,
        "description": "(In hours) A threshold in hours to verify route 53 TTL is within the threshold.",
        "title": "Threshold (In hours)",
        "type": "integer"
       }
      },
      "required": [],
      "title": "aws_get_ttl_under_given_hours",
      "type": "object"
     }
    ],
    "jupyter": {
     "source_hidden": true
    },
    "language": "python",
    "legotype": "LEGO_TYPE_AWS",
    "name": "AWS: Check for short Route 53 TTL",
    "orderProperties": [
     "threshold"
    ],
    "outputParams": {
     "output_name": "lower_ttl_records",
     "output_name_enabled": true,
     "output_runbook_enabled": false,
     "output_runbook_name": ""
    },
    "printOutput": true,
    "startcondition": "not hosted_zone_id and not record_name and not record_type",
    "tags": [
     "aws_get_ttl_under_given_hours"
    ],
    "uuid": "a885ef62f7614e282856fdc37f0654f67b4ec7e7651350ea0dbb123788e705df",
    "version": "1.0.0"
   },
   "outputs": [],
   "source": [
    "##\n",
    "# Copyright (c) 2021 unSkript, Inc\n",
    "# All rights reserved.\n",
    "##\n",
    "from pydantic import BaseModel, Field\n",
    "from typing import Tuple, Optional\n",
    "import pprint\n",
    "from unskript.connectors.aws import aws_get_paginator\n",
    "from unskript.legos.aws.aws_get_ttl_for_route53_records.aws_get_ttl_for_route53_records import aws_get_ttl_for_route53_records\n",
    "\n",
    "\n",
    "from beartype import beartype\n",
    "@beartype\n",
    "def aws_get_ttl_under_given_hours_printer(output):\n",
    "    if output is None:\n",
    "        return\n",
    "    pprint.pprint(output)\n",
    "\n",
    "\n",
    "@beartype\n",
    "def aws_get_ttl_under_given_hours(handle, threshold: int = 1) -> Tuple:\n",
    "    \"\"\"aws_get_ttl_under_x_hours Returns TTL for records in a hosted zone\n",
    "\n",
    "        :type handle: object\n",
    "        :param handle: Object returned by the task.validate(...) method.\n",
    "\n",
    "        :type threshold: str\n",
    "        :param threshold: (In hours) A threshold in hours to verify route 53 TTL is within the threshold.\n",
    "\n",
    "        :rtype: List of details with the record type, record name and record TTL.\n",
    "    \"\"\"\n",
    "    result = []\n",
    "    try:\n",
    "        route_client = handle.client('route53')\n",
    "        seconds = threshold * 3600\n",
    "        hosted_zones = aws_get_paginator(route_client, \"list_hosted_zones\", \"HostedZones\")\n",
    "        for zone in hosted_zones:\n",
    "            record_ttl_data = aws_get_ttl_for_route53_records(handle, zone['Id'])\n",
    "            for record_ttl in record_ttl_data:\n",
    "                if isinstance(record_ttl['record_ttl'], str):\n",
    "                    continue\n",
    "                elif record_ttl['record_ttl'] < seconds:\n",
    "                    records = {}\n",
    "                    records[\"hosted_zone_id\"] = zone['Id']\n",
    "                    records[\"record_name\"] = record_ttl['record_name']\n",
    "                    records[\"record_type\"] = record_ttl['record_type']\n",
    "                    records[\"record_ttl\"] = record_ttl['record_ttl']\n",
    "                    result.append(records)\n",
    "    except Exception as e:\n",
    "        pass\n",
    "\n",
    "    if len(result) != 0:\n",
    "        return (False, result)\n",
    "    else:\n",
    "        return (True, None)\n",
    "\n",
    "\n",
    "\n",
    "task = Task(Workflow())\n",
    "task.configure(inputParamsJson='''{\n",
    "    \"threshold\": \"int(threshold_ttl)\"\n",
    "    }''')\n",
    "task.configure(conditionsJson='''{\n",
    "    \"condition_enabled\": true,\n",
    "    \"condition_cfg\": \"not hosted_zone_id and not record_name and not record_type\",\n",
    "    \"condition_result\": true\n",
    "    }''')\n",
    "task.configure(outputName=\"lower_ttl_records\")\n",
    "\n",
    "task.configure(printOutput=True)\n",
    "(err, hdl, args) = task.validate(vars=vars())\n",
    "if err is None:\n",
    "    task.execute(aws_get_ttl_under_given_hours, lego_printer=aws_get_ttl_under_given_hours_printer, hdl=hdl, args=args)"
   ]
  },
  {
   "cell_type": "markdown",
   "id": "a311041f-620a-4b6b-914f-e52c6c3a71f4",
   "metadata": {
    "jupyter": {
     "source_hidden": false
    },
    "name": "Step 2A",
    "orderProperties": [],
    "tags": [],
    "title": "Step 2A"
   },
   "source": [
    "<h3 id=\"Create-List-of-Unused-Log-Streams&para;\">Create List of Lower TTL records</h3>\n",
    "<p>This action filters the output from Step 1 to get the non empty values</p>\n",
    "<blockquote>\n",
    "<p>This action takes the following parameters: <code>None</code></p>\n",
    "</blockquote>\n",
    "<blockquote>\n",
    "<p>This action captures the following output: <code>all_lower_ttl_records</code></p>\n",
    "</blockquote>"
   ]
  },
  {
   "cell_type": "code",
   "execution_count": null,
   "id": "b85ce542-bdf0-44d2-9e75-213002d5c036",
   "metadata": {
    "credentialsJson": {},
    "customAction": true,
    "execution_data": {
     "last_date_success_run_cell": "2023-05-18T08:06:39.524Z"
    },
    "jupyter": {
     "source_hidden": true
    },
    "name": "Create List of Lower TTL records",
    "orderProperties": [],
    "tags": [],
    "title": "Create List of Lower TTL records"
   },
   "outputs": [],
   "source": [
    "# print(lower_ttl_records)\n",
    "all_lower_ttl_records = []\n",
    "try:\n",
    "    if lower_ttl_records[0] == False:\n",
    "        if len(lower_ttl_records[1])!=0:\n",
    "            all_lower_ttl_records=lower_ttl_records[1]\n",
    "except Exception:\n",
    "    data_dict = {}\n",
    "    data_dict[\"hosted_zone_id\"] = hosted_zone_id\n",
    "    data_dict[\"record_name\"] = record_name\n",
    "    data_dict[\"record_type\"] = record_type\n",
    "    all_lower_ttl_records.append(data_dict)\n",
    "print(all_lower_ttl_records)\n",
    "task.configure(outputName=\"all_lower_ttl_records\")"
   ]
  },
  {
   "cell_type": "markdown",
   "id": "9fb3704a-9b19-49c4-96ab-a982217bbcd3",
   "metadata": {
    "jupyter": {
     "source_hidden": false
    },
    "name": "Step 2",
    "orderProperties": [],
    "tags": [],
    "title": "Step 2"
   },
   "source": [
    "<h3 id=\"Change-TTL-Value\"><a id=\"2\" target=\"_self\" rel=\"nofollow\"></a>Change TTL Value</h3>\n",
    "<p>This action changes the TTL value for a record that has a lower value to a higher one. By default<span style=\"color: rgb(45, 194, 107);\"> 86400 </span>seconds is considered if no value is given,</p>\n",
    "<blockquote>\n",
    "<p>This action takes the following parameters:&nbsp;<code>hosted_zone_id, record_name, record_type, new_ttl</code></p>\n",
    "</blockquote>"
   ]
  },
  {
   "cell_type": "code",
   "execution_count": null,
   "id": "70e72194-c276-4f44-a9a9-d90b37488a94",
   "metadata": {
    "actionBashCommand": false,
    "actionCategories": [
     "CATEGORY_TYPE_COST_OPT",
     "CATEGORY_TYPE_SRE",
     "CATEGORY_TYPE_AWS",
     "CATEGORY_TYPE_AWS_ROUTE53"
    ],
    "actionDescription": "Update TTL for an existing record in a hosted zone.",
    "actionEntryFunction": "aws_update_ttl_for_route53_records",
    "actionIsCheck": false,
    "actionIsRemediation": false,
    "actionNeedsCredential": true,
    "actionNextHop": null,
    "actionNextHopParameterMapping": null,
    "actionNouns": null,
    "actionOutputType": "ACTION_OUTPUT_TYPE_DICT",
    "actionSupportsIteration": true,
    "actionSupportsPoll": true,
    "actionTitle": "AWS Update TTL for Route53 Record",
    "actionType": "LEGO_TYPE_AWS",
    "actionVerbs": null,
    "actionVersion": "1.0.0",
    "action_modified": false,
    "action_uuid": "a79077024e9d76970c61eb8d40f26129820fbed3cbec6b03e5610dbace0d2224",
    "condition_enabled": true,
    "continueOnError": true,
    "credentialsJson": {},
    "description": "Update TTL for an existing record in a hosted zone.",
    "id": 1,
    "index": 1,
    "inputData": [
     {
      "hosted_zone_id": {
       "constant": false,
       "value": "\"iter.get(\\\\\"hosted_zone_id\\\\\")\""
      },
      "new_ttl": {
       "constant": false,
       "value": "int(new_ttl)"
      },
      "record_name": {
       "constant": false,
       "value": "\"iter.get(\\\\\"record_name\\\\\")\""
      },
      "record_type": {
       "constant": false,
       "value": "\"iter.get(\\\\\"record_type\\\\\")\""
      }
     }
    ],
    "inputschema": [
     {
      "definitions": {
       "Route53RecordType": {
        "description": "An enumeration.",
        "enum": [
         "A",
         "AAAA",
         "CAA",
         "CNAME",
         "DS",
         "MX",
         "NAPTR",
         "NS",
         "PTR",
         "SOA",
         "SPF",
         "SRV",
         "TXT"
        ],
        "title": "Route53RecordType",
        "type": "string"
       }
      },
      "properties": {
       "hosted_zone_id": {
        "description": "ID of the hosted zone in Route53",
        "title": "Hosted Zone ID",
        "type": "string"
       },
       "new_ttl": {
        "description": "New TTL value for a record. Eg: 300",
        "title": "New TTL",
        "type": "integer"
       },
       "record_name": {
        "description": "Name of record in a hosted zone. Eg: example.com",
        "title": "Record Name",
        "type": "string"
       },
       "record_type": {
        "allOf": [
         {
          "$ref": "#/definitions/Route53RecordType"
         }
        ],
        "description": "Record Type of the record.",
        "title": "Record Type",
        "type": "enum"
       }
      },
      "required": [
       "hosted_zone_id",
       "new_ttl",
       "record_name",
       "record_type"
      ],
      "title": "aws_update_ttl_for_route53_records",
      "type": "object"
     }
    ],
    "iterData": [
     {
      "iter_enabled": true,
      "iter_item": {
       "hosted_zone_id": "hosted_zone_id",
       "record_name": "record_name",
       "record_type": "record_type"
      },
      "iter_list": {
       "constant": false,
       "objectItems": true,
       "value": "all_lower_ttl_records"
      }
     }
    ],
    "jupyter": {
     "source_hidden": true
    },
    "language": "python",
    "legotype": "LEGO_TYPE_AWS",
    "name": "AWS Update TTL for Route53 Record",
    "orderProperties": [
     "hosted_zone_id",
     "new_ttl",
     "record_name",
     "record_type"
    ],
    "printOutput": true,
    "startcondition": "len(all_lower_ttl_records)!=0",
    "tags": [
     "aws_update_ttl_for_route53_records"
    ],
    "uuid": "a79077024e9d76970c61eb8d40f26129820fbed3cbec6b03e5610dbace0d2224",
    "version": "1.0.0"
   },
   "outputs": [],
   "source": [
    "##\n",
    "# Copyright (c) 2021 unSkript, Inc\n",
    "# All rights reserved.\n",
    "##\n",
    "from pydantic import BaseModel, Field\n",
    "from unskript.enums.aws_route53_record_type_enums import Route53RecordType\n",
    "from typing import Dict\n",
    "import pprint\n",
    "\n",
    "from pydantic import BaseModel, Field\n",
    "\n",
    "\n",
    "from beartype import beartype\n",
    "@beartype\n",
    "def aws_update_ttl_for_route53_records_printer(output):\n",
    "    if output is None:\n",
    "        return\n",
    "    pprint.pprint(output)\n",
    "\n",
    "@beartype\n",
    "def aws_update_ttl_for_route53_records(handle, hosted_zone_id: str, record_name: str, record_type:Route53RecordType, new_ttl:int) -> Dict:\n",
    "    \"\"\"aws_update_ttl_for_route53_records updates the TTL for a Route53 record in a hosted zone.\n",
    "\n",
    "        :type handle: object\n",
    "        :param handle: Object returned by the task.validate(...) method.\n",
    "\n",
    "        :type hosted_zone_id: string\n",
    "        :param hosted_zone_id: ID of the hosted zone in Route53\n",
    "\n",
    "        :type record_name: string\n",
    "        :param record_name: Name of record in a hosted zone. Eg: example.com\n",
    "\n",
    "        :type record_type: string\n",
    "        :param record_type: Record Type of the record.\n",
    "\n",
    "        :type new_ttl: int\n",
    "        :param new_ttl: New TTL value for a record. Eg: 300\n",
    "\n",
    "        :rtype: Response of updation on new TTL\n",
    "    \"\"\"\n",
    "\n",
    "    route53Client = handle.client('route53')\n",
    "    new_ttl_value = int(new_ttl)\n",
    "\n",
    "    response = route53Client.change_resource_record_sets(\n",
    "        HostedZoneId=hosted_zone_id,\n",
    "        ChangeBatch={\n",
    "            'Changes': [\n",
    "                {\n",
    "                    'Action': 'UPSERT',\n",
    "                    'ResourceRecordSet': {\n",
    "                        'Name': record_name,\n",
    "                        'Type': record_type,\n",
    "                        'TTL': new_ttl_value\n",
    "                    }\n",
    "                }\n",
    "            ]\n",
    "        }\n",
    "    )\n",
    "    return response\n",
    "\n",
    "\n",
    "\n",
    "task = Task(Workflow())\n",
    "task.configure(continueOnError=True)\n",
    "task.configure(inputParamsJson='''{\n",
    "    \"hosted_zone_id\": \"\\\\\"iter.get(\\\\\\\\\\\\\"hosted_zone_id\\\\\\\\\\\\\")\\\\\"\",\n",
    "    \"new_ttl\": \"int(new_ttl)\",\n",
    "    \"record_name\": \"\\\\\"iter.get(\\\\\\\\\\\\\"record_name\\\\\\\\\\\\\")\\\\\"\",\n",
    "    \"record_type\": \"\\\\\"iter.get(\\\\\\\\\\\\\"record_type\\\\\\\\\\\\\")\\\\\"\"\n",
    "    }''')\n",
    "task.configure(iterJson='''{\n",
    "    \"iter_enabled\": true,\n",
    "    \"iter_list_is_const\": false,\n",
    "    \"iter_list\": \"all_lower_ttl_records\",\n",
    "    \"iter_parameter\": [\"hosted_zone_id\",\"record_name\",\"record_type\"]\n",
    "    }''')\n",
    "task.configure(conditionsJson='''{\n",
    "    \"condition_enabled\": true,\n",
    "    \"condition_cfg\": \"len(all_lower_ttl_records)!=0\",\n",
    "    \"condition_result\": true\n",
    "    }''')\n",
    "\n",
    "(err, hdl, args) = task.validate(vars=vars())\n",
    "if err is None:\n",
    "    task.execute(aws_update_ttl_for_route53_records, lego_printer=aws_update_ttl_for_route53_records_printer, hdl=hdl, args=args)"
   ]
  },
  {
   "cell_type": "markdown",
   "id": "9c7430c8-3660-45bd-90ef-9ceab77e3daa",
   "metadata": {
    "jupyter": {
     "source_hidden": false
    },
    "name": "Conclusion",
    "orderProperties": [],
    "tags": [],
    "title": "Conclusion"
   },
   "source": [
    "<h3 id=\"Conclusion\">Conclusion<a class=\"jp-InternalAnchorLink\" href=\"#Conclusion\" target=\"_self\">&para;</a></h3>\n",
    "<p>In this Runbook, we were able change the TTL(time to live) to a higher value. As a result, there are fewer queries received by the name servers which will help in saving your AWS costs. To view the full platform capabilities of unSkript please visit&nbsp;<a href=\"https://us.app.unskript.io\" target=\"_blank\" rel=\"noopener\">us.app.unskript.io</a></p>"
   ]
  }
 ],
 "metadata": {
  "execution_data": {
   "parameters": null,
   "runbook_name": "Change AWS Route53 TTL"
  },
  "kernelspec": {
   "display_name": "unSkript (Build: 1169)",
   "language": "python",
   "name": "python3"
  },
  "language_info": {
   "codemirror_mode": {
    "name": "ipython",
    "version": 3
   },
   "file_extension": ".py",
   "mimetype": "text/x-python",
   "name": "python",
   "nbconvert_exporter": "python",
   "pygments_lexer": "ipython3",
   "version": "3.10.6"
  },
  "outputParameterSchema": {
   "properties": {},
   "required": [],
   "title": "Schema",
   "type": "object"
  },
  "parameterSchema": {
   "properties": {
    "hosted_zone_id": {
     "description": "The ID of the hosted zone that contains the resource record sets that you want to change.",
     "title": "hosted_zone_id",
     "type": "string"
    },
    "new_ttl": {
     "default": 86400,
     "description": "New TTL value (in seconds) that needs to be updated for the records. ",
     "title": "new_ttl",
     "type": "number"
    },
    "record_name": {
     "description": "Record name for a particular hosted zone.",
     "title": "record_name",
     "type": "string"
    },
    "record_type": {
     "description": "Record type of the record name hosted in a particular zone",
     "enum": [
      "A",
      "AAAA",
      "CAA",
      "CNAME ",
      "DS",
      "MX",
      "NAPTR",
      "NS",
      "PTR",
      "SOA",
      "SPF",
      "SRV"
     ],
     "enumNames": [
      "A",
      "AAAA",
      "CAA",
      "CNAME ",
      "DS",
      "MX",
      "NAPTR",
      "NS",
      "PTR",
      "SOA",
      "SPF",
      "SRV"
     ],
     "title": "record_type",
     "type": "string"
    },
    "threshold_ttl": {
     "default": 1,
     "description": "Threshold(in hours) to check if the TTL is lower than the given value. Eg: 1, checks for all records whose TTL is less than 3600 seconds (1 hour)",
     "title": "threshold_ttl",
     "type": "number"
    }
   },
   "required": [],
   "title": "Schema",
   "type": "object"
  },
  "vscode": {
   "interpreter": {
    "hash": "b0fa6594d8f4cbf19f97940f81e996739fb7646882a419484c72d19e05852a7e"
   }
  }
 },
 "nbformat": 4,
 "nbformat_minor": 5
}
