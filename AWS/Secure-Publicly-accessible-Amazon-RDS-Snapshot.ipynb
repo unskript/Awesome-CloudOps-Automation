{
    "cells": [
        {
            "cell_type": "markdown",
            "id": "6ed2834a-18c0-45a2-b02c-3caa2bd8ecda",
            "metadata": {
                "jupyter": {
                    "source_hidden": false
                },
                "name": "Secure Publicly Accessible Amazon RDS Snapshot",
                "orderProperties": [],
                "tags": [],
                "title": "Secure Publicly Accessible Amazon RDS Snapshot"
            },
            "source": [
                "<img src=\"https://unskript.com/assets/favicon.png\" alt=\"unSkript.com\" width=\"100\" height=\"100\"/> \n",
                "<h1> unSkript Runbooks </h1>\n",
                "<div class=\"alert alert-block alert-success\">\n",
                "    <b> This runbook demonstrates How to Secure Publicly accessible Amazon RDS Snapshot using unSkript legos.</b>\n",
                "</div>\n",
                "\n",
                "<br>\n",
                "\n",
                "<center><h2>Secure Publicly accessible Amazon RDS Snapshot</h2></center>\n",
                "\n",
                "# Steps Overview\n",
                "   1. List all the manual database snapshots in the given region.\n",
                "   2. Get publicly accessible DB snapshots in RDS.\n",
                "   3. Modify the publicly accessible DB snapshots in RDS to private."
            ]
        },
        {
            "cell_type": "markdown",
            "id": "6dc1be3a-3342-4c52-88cd-0a5fbbc19602",
            "metadata": {
                "jupyter": {
                    "source_hidden": false
                },
                "name": "AWS Filter All Manual Database Snapshots",
                "orderProperties": [],
                "tags": [],
                "title": "AWS Filter All Manual Database Snapshots"
            },
            "source": [
                "Here we will use unSkript AWS Filter All Manual Databse Snapshots Lego. This lego take region: str as input. This inputs is used to findout all Manual Database Snapshots."
            ]
        },
        {
            "cell_type": "code",
            "execution_count": 3,
            "id": "3c80ff35-85ce-4394-a672-71e7e042548a",
            "metadata": {
                "accessType": "ACCESS_TYPE_UNSPECIFIED",
                "actionBashCommand": false,
                "actionNeedsCredential": true,
                "actionRequiredLinesInCode": [],
                "actionSupportsIteration": true,
                "actionSupportsPoll": true,
                "action_uuid": "dd7d269858f0d5d109585166f87905221cd6fba91cc338861ae88f617893e86c",
                "continueOnError": false,
                "createTime": "1970-01-01T00:00:00Z",
                "credentialsJson": {},
                "currentVersion": "0.1.0",
                "description": "Use This Action to AWS Filter All Manual Databse Snapshots",
                "execution_data": {
                    "last_date_success_run_cell": "2022-09-19T16:24:36.396Z"
                },
                "id": 196,
                "index": 196,
                "inputData": [
                    {
                        "region": {
                            "constant": false,
                            "value": "Region"
                        }
                    }
                ],
                "inputschema": [
                    {
                        "properties": {
                            "region": {
                                "description": "AWS Region of database.",
                                "title": "Region",
                                "type": "string"
                            }
                        },
                        "required": [
                            "region"
                        ],
                        "title": "aws_get_manual_database_snapshots",
                        "type": "object"
                    }
                ],
                "jupyter": {
                    "source_hidden": true
                },
                "legotype": "LEGO_TYPE_AWS",
                "name": "AWS Filter All Manual Database Snapshots",
                "nouns": [
                    "rds",
                    "manual",
                    "database"
                ],
                "orderProperties": [
                    "region"
                ],
                "output": {
                    "type": ""
                },
                "outputParams": {
                    "output_name": "ManualSnapshots",
                    "output_name_enabled": true
                },
                "tags": [
                    "aws_get_manual_database_snapshots"
                ],
                "title": "AWS Filter All Manual Database Snapshots",
                "trusted": true,
                "verbs": [
                    "get"
                ]
            },
            "outputs": [],
            "source": [
                "##  Copyright (c) 2021 unSkript, Inc\n",
                "##  All rights reserved.\n",
                "##\n",
                "from typing import List, Dict\n",
                "from pydantic import BaseModel, Field\n",
                "from unskript.connectors.aws import aws_get_paginator\n",
                "import pprint\n",
                "\n",
                "\n",
                "from beartype import beartype\n",
                "@beartype\n",
                "def aws_get_manual_database_snapshots_printer(output):\n",
                "    if output is None:\n",
                "        return\n",
                "    pprint.pprint(output)\n",
                "\n",
                "\n",
                "@beartype\n",
                "def aws_get_manual_database_snapshots(handle, region: str) -> List:\n",
                "    \"\"\"aws_get_manual_snapshots List all the manual database snapshots.\n",
                "\n",
                "        :type handle: object\n",
                "        :param handle: Object returned from task.validate(...).\n",
                "\n",
                "        :type region: string\n",
                "        :param region: Region for database.\n",
                "\n",
                "        :rtype: List of manual database snapshots.\n",
                "    \"\"\"\n",
                "\n",
                "    ec2Client = handle.client('rds', region_name=region)\n",
                "    result = []\n",
                "    try:\n",
                "        response = aws_get_paginator(ec2Client, \"describe_db_snapshots\",\"DBSnapshots\",\n",
                "                                     SnapshotType='manual')\n",
                "        for snapshot in response:\n",
                "            result.append(snapshot['DBSnapshotIdentifier'])\n",
                "    except Exception as error:\n",
                "        result.append(error)\n",
                "\n",
                "    return result\n",
                "\n",
                "\n",
                "task = Task(Workflow())\n",
                "task.configure(inputParamsJson='''{\n",
                "    \"region\": \"Region\"\n",
                "    }''')\n",
                "task.configure(outputName=\"ManualSnapshots\")\n",
                "(err, hdl, args) = task.validate(vars=vars())\n",
                "if err is None:\n",
                "    task.execute(aws_get_manual_database_snapshots, lego_printer=aws_get_manual_database_snapshots_printer, hdl=hdl, args=args)"
            ]
        },
        {
            "cell_type": "markdown",
            "id": "64706818-4071-40c9-afc8-1020cc11f199",
            "metadata": {
                "jupyter": {
                    "source_hidden": false
                },
                "name": "AWS Get Publicly Accessible DB Snapshots in RDS",
                "orderProperties": [],
                "tags": [],
                "title": "AWS Get Publicly Accessible DB Snapshots in RDS"
            },
            "source": [
                "Here we will use unSkript AWS Get Publicly Accessible DB Snapshots in RDS Lego. This lego take db_snapshot_identifier: list and region: str as input. This inputs is used to findout publicly accessible Database Snapshots from the given list."
            ]
        },
        {
            "cell_type": "code",
            "execution_count": 4,
            "id": "e10d00fb-6aa0-4c99-b95a-2651d5ec95ba",
            "metadata": {
                "accessType": "ACCESS_TYPE_UNSPECIFIED",
                "actionBashCommand": false,
                "actionNeedsCredential": true,
                "actionRequiredLinesInCode": [],
                "actionSupportsIteration": true,
                "actionSupportsPoll": true,
                "action_uuid": "e665224418391a4deafae48140c5b83c8af7b881dd281acbd79ed9ceb52aad4f",
                "continueOnError": false,
                "createTime": "1970-01-01T00:00:00Z",
                "credentialsJson": {},
                "currentVersion": "0.1.0",
                "description": "AWS Get Publicly Accessible DB Snapshots in RDS",
                "execution_data": {
                    "last_date_success_run_cell": "2022-09-19T16:24:50.300Z"
                },
                "id": 185,
                "index": 185,
                "inputData": [
                    {
                        "db_snapshot_identifier": {
                            "constant": false,
                            "value": "ManualSnapshots"
                        },
                        "region": {
                            "constant": false,
                            "value": "Region"
                        }
                    }
                ],
                "inputschema": [
                    {
                        "properties": {
                            "db_snapshot_identifier": {
                                "description": "DB Snapshot Idntifier of RDS.",
                                "items": {},
                                "title": "DB Snapshot Idntifier",
                                "type": "array"
                            },
                            "region": {
                                "description": "Region of the RDS.",
                                "title": "Region",
                                "type": "string"
                            }
                        },
                        "required": [
                            "db_snapshot_identifier",
                            "region"
                        ],
                        "title": "aws_get_publicly_accessible_db_snapshots",
                        "type": "object"
                    }
                ],
                "jupyter": {
                    "source_hidden": true
                },
                "legotype": "LEGO_TYPE_AWS",
                "name": "AWS Get Publicly Accessible DB Snapshots in RDS",
                "nouns": [
                    "aws",
                    "rds",
                    "snapshots"
                ],
                "orderProperties": [
                    "db_snapshot_identifier",
                    "region"
                ],
                "output": {
                    "type": ""
                },
                "outputParams": {
                    "output_name": "PublicSnapshots",
                    "output_name_enabled": true
                },
                "tags": [
                    "aws_get_publicly_accessible_db_snapshots"
                ],
                "title": "AWS Get Publicly Accessible DB Snapshots in RDS",
                "trusted": true,
                "verbs": [
                    "list"
                ]
            },
            "outputs": [],
            "source": [
                "##  Copyright (c) 2021 unSkript, Inc\n",
                "##  All rights reserved.\n",
                "##\n",
                "from typing import List, Dict\n",
                "from pydantic import BaseModel, Field\n",
                "import pprint\n",
                "\n",
                "from beartype import beartype\n",
                "@beartype\n",
                "def aws_get_publicly_accessible_db_snapshots_printer(output):\n",
                "    if output is None:\n",
                "        return\n",
                "    pprint.pprint(output)\n",
                "\n",
                "\n",
                "\n",
                "@beartype\n",
                "def aws_get_publicly_accessible_db_snapshots(handle, db_snapshot_identifier: list, region: str) -> List:\n",
                "    \"\"\"aws_get_publicly_accessible_db_snapshots lists of publicly accessible db_snapshot_identifier.\n",
                "\n",
                "        :type handle: object\n",
                "        :param handle: Object returned from task.validate(...).\n",
                "\n",
                "        :type db_snapshot_identifier: List\n",
                "        :param db_snapshot_identifier: DB Snapshot Idntifier of RDS.\n",
                "\n",
                "        :type region: string\n",
                "        :param region: Region of the RDS.\n",
                "\n",
                "        :rtype: List with publicly accessible Snapshots Identifier in RDS.\n",
                "    \"\"\"\n",
                "\n",
                "    ec2Client = handle.client('rds', region_name=region)\n",
                "    result = []\n",
                "    try:\n",
                "        for identifier in db_snapshot_identifier:\n",
                "            response = ec2Client.describe_db_snapshot_attributes(\n",
                "                DBSnapshotIdentifier=identifier)\n",
                "            db_attribute = response[\"DBSnapshotAttributesResult\"]\n",
                "            for value in db_attribute['DBSnapshotAttributes']:\n",
                "                if \"all\" in value[\"AttributeValues\"]:\n",
                "                    result.append(db_attribute['DBSnapshotIdentifier'])\n",
                "\n",
                "    except Exception as error:\n",
                "        result.append(error)\n",
                "\n",
                "    return result\n",
                "\n",
                "\n",
                "task = Task(Workflow())\n",
                "task.configure(inputParamsJson='''{\n",
                "    \"db_snapshot_identifier\": \"ManualSnapshots\",\n",
                "    \"region\": \"Region\"\n",
                "    }''')\n",
                "task.configure(outputName=\"PublicSnapshots\")\n",
                "\n",
                "(err, hdl, args) = task.validate(vars=vars())\n",
                "if err is None:\n",
                "    task.execute(aws_get_publicly_accessible_db_snapshots, lego_printer=aws_get_publicly_accessible_db_snapshots_printer, hdl=hdl, args=args)"
            ]
        },
        {
            "cell_type": "markdown",
            "id": "9f289ab3-b7c5-4ddb-9379-7527652d1d4b",
            "metadata": {
                "jupyter": {
                    "source_hidden": false
                },
                "name": "AWS Modify Publicly Accessible RDS Snapshots",
                "orderProperties": [],
                "tags": [],
                "title": "AWS Modify Publicly Accessible RDS Snapshots"
            },
            "source": [
                "Here we will use unSkript AWS Modify Publicly Accessible RDS Snapshots Lego. This lego take db_snapshot_identifier: str, region: str as input. This inputs is used to modify publicly accessible RDS snapshots to private."
            ]
        },
        {
            "cell_type": "code",
            "execution_count": null,
            "id": "3a80f9c1-9763-4b0f-8902-cfd504945c6d",
            "metadata": {
                "accessType": "ACCESS_TYPE_UNSPECIFIED",
                "actionBashCommand": false,
                "actionNeedsCredential": true,
                "actionRequiredLinesInCode": [],
                "actionSupportsIteration": true,
                "actionSupportsPoll": true,
                "action_uuid": "1a325ba527fbf504000b5d5961f4ef6366daed4a50951e657bfff87eedad52df",
                "continueOnError": true,
                "createTime": "1970-01-01T00:00:00Z",
                "credentialsJson": {},
                "currentVersion": "0.1.0",
                "description": "AWS Modify Publicly Accessible RDS Snapshots",
                "id": 128,
                "index": 128,
                "inputData": [
                    {
                        "db_snapshot_identifier": {
                            "constant": false,
                            "value": "iter_item"
                        },
                        "region": {
                            "constant": false,
                            "value": "Region"
                        }
                    }
                ],
                "inputschema": [
                    {
                        "properties": {
                            "db_snapshot_identifier": {
                                "description": "DB Snapshot Idntifier of RDS.",
                                "title": "DB Snapshot Idntifier",
                                "type": "string"
                            },
                            "region": {
                                "description": "Region of the RDS.",
                                "title": "Region",
                                "type": "string"
                            }
                        },
                        "required": [
                            "db_snapshot_identifier",
                            "region"
                        ],
                        "title": "aws_modify_public_db_snapshots",
                        "type": "object"
                    }
                ],
                "iterData": [
                    {
                        "iter_enabled": true,
                        "iter_item": "db_snapshot_identifier",
                        "iter_list": {
                            "constant": false,
                            "objectItems": false,
                            "value": "PublicSnapshots"
                        }
                    }
                ],
                "jupyter": {
                    "source_hidden": true
                },
                "legotype": "LEGO_TYPE_AWS",
                "name": "AWS Modify Publicly Accessible RDS Snapshots",
                "nouns": [
                    "aws",
                    "rds",
                    "snapshots"
                ],
                "orderProperties": [
                    "db_snapshot_identifier",
                    "region"
                ],
                "output": {
                    "type": ""
                },
                "tags": [
                    "aws_modify_public_db_snapshots"
                ],
                "title": "AWS Modify Publicly Accessible RDS Snapshots",
                "verbs": [
                    "modify"
                ]
            },
            "outputs": [],
            "source": [
                "##  Copyright (c) 2021 unSkript, Inc\n",
                "##  All rights reserved.\n",
                "##\n",
                "from typing import List, Dict\n",
                "from pydantic import BaseModel, Field\n",
                "import pprint\n",
                "\n",
                "from beartype import beartype\n",
                "@beartype\n",
                "def aws_modify_public_db_snapshots_printer(output):\n",
                "    if output is None:\n",
                "        return\n",
                "    pprint.pprint(output)\n",
                "\n",
                "\n",
                "@beartype\n",
                "def aws_modify_public_db_snapshots(handle, db_snapshot_identifier: str, region: str) -> List:\n",
                "    \"\"\"aws_modify_public_db_snapshots lists of publicly accessible DB Snapshot Idntifier Info.\n",
                "\n",
                "        :type handle: object\n",
                "        :param handle: Object returned from task.validate(...).\n",
                "\n",
                "        :type db_snapshot_identifier: string\n",
                "        :param db_snapshot_identifier: DB Snapshot Idntifier of RDS.\n",
                "\n",
                "        :type region: string\n",
                "        :param region: Region of the RDS.\n",
                "\n",
                "        :rtype: List with Dict of DB Snapshot Idntifier Info.\n",
                "    \"\"\"\n",
                "\n",
                "    ec2Client = handle.client('rds', region_name=region)\n",
                "    result = []\n",
                "    try:\n",
                "        response = ec2Client.modify_db_snapshot_attribute(\n",
                "            DBSnapshotIdentifier=db_snapshot_identifier,\n",
                "            AttributeName='restore',\n",
                "            ValuesToRemove=['all'])\n",
                "        result.append(response)\n",
                "    except Exception as error:\n",
                "        result.append(error)\n",
                "\n",
                "    return result\n",
                "\n",
                "\n",
                "task = Task(Workflow())\n",
                "task.configure(continueOnError=True)\n",
                "task.configure(inputParamsJson='''{\n",
                "    \"region\": \"Region\",\n",
                "    \"db_snapshot_identifier\": \"iter_item\"\n",
                "    }''')\n",
                "task.configure(iterJson='''{\n",
                "    \"iter_enabled\": true,\n",
                "    \"iter_list_is_const\": false,\n",
                "    \"iter_list\": \"PublicSnapshots\",\n",
                "    \"iter_parameter\": \"db_snapshot_identifier\"\n",
                "    }''')\n",
                "(err, hdl, args) = task.validate(vars=vars())\n",
                "if err is None:\n",
                "    task.execute(aws_modify_public_db_snapshots, lego_printer=aws_modify_public_db_snapshots_printer, hdl=hdl, args=args)"
            ]
        },
        {
            "cell_type": "markdown",
            "id": "1331cca0-d734-4a5e-bc14-d8bb45f430ed",
            "metadata": {
                "jupyter": {
                    "source_hidden": false
                },
                "name": "Conclusion",
                "orderProperties": [],
                "tags": [],
                "title": "Conclusion"
            },
            "source": [
                "In this Runbook, we demonstrated the use of unSkript's AWS legos to modify. This runbook help to get the all manual snapshots from RDS then filter publicly accessible snapshots from given list and modify publicly accessible RDS snapshots to private. To view the full platform capabilities of unSkript please visit https://unskript.com"
            ]
        }
    ],
    "metadata": {
        "execution_data": {
            "environment_id": "1499f27c-6406-4fbd-bd1b-c6f92800018f",
            "environment_name": "Staging",
            "execution_id": "",
            "inputs_for_searched_lego": "",
            "notebook_id": "be507896-ab0e-4998-a138-cfc9481bba4b.ipynb",
            "parameters": null,
            "runbook_name": "Secure Publicly accessible Amazon RDS Snapshot",
            "search_string": "",
            "show_tool_tip": false,
            "tenant_id": "982dba5f-d9df-48ae-a5bf-ec1fc94d4882",
            "tenant_url": "https://tenant-staging.alpha.unskript.io",
            "user_email_id": "harshal.bangre@unskript.com",
            "workflow_id": "78b3bcc7-f25a-418b-9137-8d63cc95e12d"
        },
        "kernelspec": {
            "display_name": "unSkript (Build: 585)",
            "name": "python_kubernetes"
        },
        "language_info": {
            "file_extension": ".py",
            "mimetype": "text/x-python",
            "name": "python",
            "pygments_lexer": "ipython3"
        },
        "parameterSchema": {
            "properties": {
                "Region": {
                    "default": "us-west-2",
                    "description": "RDS Region",
                    "title": "Region",
                    "type": "string"
                }
            },
            "required": [],
            "title": "Schema",
            "type": "object"
        },
        "parameterValues": {
            "Region": "us-west-2"
        }
    },
    "nbformat": 4,
    "nbformat_minor": 5
}
