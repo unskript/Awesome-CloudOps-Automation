{
 "cells": [
  {
   "attachments": {},
   "cell_type": "markdown",
   "id": "60338620-97a9-4b89-9897-f6ff0b25a8a2",
   "metadata": {
    "jupyter": {
     "source_hidden": false
    },
    "name": "Steps Overview",
    "orderProperties": [],
    "tags": [],
    "title": "Steps Overview"
   },
   "source": [
    "<hr><center><img src=\"https://storage.googleapis.com/unskript-website/assets/favicon.png\" alt=\"unSkript.com\" width=\"100\" height=\"100\">\n",
    "<h1 id=\"unSkript-Runbooks&para;&para;&para;\">unSkript Runbooks</h1>\n",
    "<div class=\"alert alert-block alert-success\">\n",
    "<h3 id=\"Objective&para;&para;&para;\">Objective</h3>\n",
    "<br><strong><em>Stop untagged EC2 Instances</em></strong></div>\n",
    "</center>\n",
    "<p>&nbsp;</p>\n",
    "<center>\n",
    "<h2 id=\"Restart-Unhealthy-Services-in-Target-Group&para;&para;&para;\"><u>Restart Unhealthy Services in Target Group</u></h2>\n",
    "</center>\n",
    "<h1 id=\"Steps-Overview&para;&para;&para;\">Steps Overview</h1>\n",
    "<p>1. List Unhealthy Instances in a Target Group<br>2. Restart EC2 instances</p>\n",
    "<hr>"
   ]
  },
  {
   "cell_type": "code",
   "execution_count": 21,
   "id": "94297ac5-ac59-4e6c-9c9d-d669cf61c92d",
   "metadata": {
    "collapsed": true,
    "customAction": true,
    "execution_data": {
     "last_date_success_run_cell": "2023-05-18T14:21:36.668Z"
    },
    "jupyter": {
     "outputs_hidden": true,
     "source_hidden": true
    },
    "name": "Input Verification",
    "orderProperties": [],
    "tags": [],
    "title": "Input Verification",
    "credentialsJson": {}
   },
   "outputs": [],
   "source": [
    "if instance_ids and not region:\n",
    "    raise SystemExit(\"Provide region for the instance!\")\n",
    "if region == None:\n",
    "    region = \"\""
   ]
  },
  {
   "attachments": {},
   "cell_type": "markdown",
   "id": "5f9ba125-c580-42cb-b7d7-941cdc145e9b",
   "metadata": {
    "jupyter": {
     "source_hidden": false
    },
    "name": "Step 1",
    "orderProperties": [],
    "tags": [],
    "title": "Step 1"
   },
   "source": [
    "<h3 id=\"List-Unhealthy-Instances-in-a-Target-Group&para;\"><a id=\"2\" target=\"_self\" rel=\"nofollow\"></a>List Unhealthy Instances in a Target Group</h3>\n",
    "<p>Here we will fetch all the untagged&nbsp; EC2 instances.&nbsp;</p>\n",
    "<blockquote>\n",
    "<p>This action takes the following parameters: <code>region(Optional)</code></p>\n",
    "</blockquote>\n",
    "<blockquote>\n",
    "<p>This action captures the following output: <code>unheathy_instances</code></p>\n",
    "</blockquote>"
   ]
  },
  {
   "cell_type": "code",
   "execution_count": null,
   "id": "683e6a7b-a04c-4298-987b-0e304b994906",
   "metadata": {
    "actionBashCommand": false,
    "actionCategories": [
     "CATEGORY_TYPE_CLOUDOPS",
     "CATEGORY_TYPE_DEVOPS",
     "CATEGORY_TYPE_SRE",
     "CATEGORY_TYPE_TROUBLESHOOTING",
     "CATEGORY_TYPE_AWS",
     "CATEGORY_TYPE_AWS_ELB"
    ],
    "actionDescription": "List Unhealthy Instances in a target group",
    "actionEntryFunction": "aws_list_unhealthy_instances_in_target_group",
    "actionIsCheck": true,
    "actionIsRemediation": false,
    "actionNeedsCredential": true,
    "actionNextHop": [
     "7a5cf9629c56eb979a01977330c3d2df656e965a78323be4fa49fdc3b527c9d7"
    ],
    "actionNextHopParameterMapping": {
     "region": ".[].region"
    },
    "actionNouns": [
     "unhealthy",
     "instances",
     "target",
     "group",
     "aws"
    ],
    "actionOutputType": "ACTION_OUTPUT_TYPE_LIST",
    "actionSupportsIteration": true,
    "actionSupportsPoll": true,
    "actionTitle": "AWS List Unhealthy Instances in a Target Group",
    "actionType": "LEGO_TYPE_AWS",
    "actionVerbs": [
     "list"
    ],
    "actionVersion": "1.0.0",
    "action_modified": false,
    "action_uuid": "6f7558325461f2ef5ec668dbf6356f199b20b606eba684e74764e1a16e46cd0d",
    "collapsed": true,
    "condition_enabled": true,
    "continueOnError": false,
    "credentialsJson": {},
    "description": "List Unhealthy Instances in a target group",
    "execution_data": {
     "last_date_success_run_cell": "2023-05-18T14:17:21.320Z"
    },
    "id": 13,
    "index": 13,
    "inputData": [
     {
      "region": {
       "constant": false,
       "value": "region"
      }
     }
    ],
    "inputschema": [
     {
      "properties": {
       "region": {
        "default": "",
        "description": "Name of the AWS Region",
        "title": "Region",
        "type": "string"
       }
      },
      "required": [],
      "title": "aws_list_unhealthy_instances_in_target_group",
      "type": "object"
     }
    ],
    "jupyter": {
     "outputs_hidden": true,
     "source_hidden": true
    },
    "language": "python",
    "legotype": "LEGO_TYPE_AWS",
    "name": "AWS List Unhealthy Instances in a Target Group",
    "orderProperties": [
     "region"
    ],
    "outputParams": {
     "output_name": "unhealthy_instances",
     "output_name_enabled": true,
     "output_runbook_enabled": false,
     "output_runbook_name": ""
    },
    "printOutput": true,
    "startcondition": "not instance_ids",
    "tags": [],
    "uuid": "6f7558325461f2ef5ec668dbf6356f199b20b606eba684e74764e1a16e46cd0d",
    "version": "1.0.0"
   },
   "outputs": [],
   "source": [
    "import pprint\n",
    "from typing import Optional, Tuple\n",
    "from pydantic import BaseModel, Field\n",
    "from unskript.connectors.aws import aws_get_paginator\n",
    "from unskript.legos.aws.aws_list_all_regions.aws_list_all_regions import aws_list_all_regions\n",
    "from unskript.legos.utils import parseARN\n",
    "\n",
    "from beartype import beartype\n",
    "@beartype\n",
    "def aws_list_unhealthy_instances_in_target_group_printer(output):\n",
    "    if output is None:\n",
    "        return\n",
    "    pprint.pprint(output)\n",
    "\n",
    "@beartype\n",
    "def get_all_target_groups(handle, r):\n",
    "    target_arns_list = []\n",
    "    elbv2Client = handle.client('elbv2', region_name=r)\n",
    "    try:\n",
    "        tbs = aws_get_paginator(elbv2Client, \"describe_target_groups\", \"TargetGroups\")\n",
    "        for index, tb in enumerate(tbs):\n",
    "            target_arns_list.append(tb.get('TargetGroupArn'))\n",
    "    except Exception:\n",
    "        pass\n",
    "    return target_arns_list\n",
    "\n",
    "@beartype\n",
    "def aws_list_unhealthy_instances_in_target_group(handle, region: str=None) -> Tuple:\n",
    "    result = []\n",
    "    unhealthy_instances_list = []\n",
    "    all_target_groups = []\n",
    "    unhealhthy_instances_dict ={}\n",
    "    all_regions = [region]\n",
    "    if region is None or len(region)==0:\n",
    "        all_regions = aws_list_all_regions(handle=handle)\n",
    "    for r in all_regions:\n",
    "        try:\n",
    "            output = get_all_target_groups(handle,r)\n",
    "            if len(output)!=0:\n",
    "                all_target_groups.append(output)\n",
    "        except Exception as e:\n",
    "            print(\"????????\")\n",
    "            pass\n",
    "    for target_group in all_target_groups:\n",
    "        for o in target_group:\n",
    "            parsedArn = parseARN(o)\n",
    "            region_name = parsedArn['region']\n",
    "            elbv2Client = handle.client('elbv2', region_name=region_name)\n",
    "            try:\n",
    "                targetHealthResponse = elbv2Client.describe_target_health(TargetGroupArn=o)\n",
    "            except Exception as e:\n",
    "                raise e\n",
    "            for ins in targetHealthResponse[\"TargetHealthDescriptions\"]:\n",
    "                if ins['TargetHealth']['State'] in ['unhealthy']:\n",
    "                    unhealthy_instances_list.append(ins['Target']['Id'])\n",
    "    if len(unhealthy_instances_list)!=0:\n",
    "        unhealhthy_instances_dict['instance'] = unhealthy_instances_list\n",
    "        unhealhthy_instances_dict['region'] = region_name\n",
    "        result.append(unhealhthy_instances_dict)\n",
    "    if len(result)!=0:\n",
    "        return (False,result)\n",
    "    return (True, None)\n",
    "\n",
    "\n",
    "task = Task(Workflow())\n",
    "task.configure(inputParamsJson='''{\n",
    "    \"region\": \"region\"\n",
    "    }''')\n",
    "task.configure(conditionsJson='''{\n",
    "    \"condition_enabled\": true,\n",
    "    \"condition_cfg\": \"not instance_ids\",\n",
    "    \"condition_result\": true\n",
    "    }''')\n",
    "\n",
    "task.configure(outputName=\"unhealthy_instances\")\n",
    "\n",
    "task.configure(printOutput=True)\n",
    "(err, hdl, args) = task.validate(vars=vars())\n",
    "if err is None:\n",
    "    task.execute(aws_list_unhealthy_instances_in_target_group, lego_printer=aws_list_unhealthy_instances_in_target_group_printer, hdl=hdl, args=args)"
   ]
  },
  {
   "attachments": {},
   "cell_type": "markdown",
   "id": "0e938725-b388-4c57-87b1-fd2e4719f0e1",
   "metadata": {
    "jupyter": {
     "source_hidden": false
    },
    "name": "Step-1 Extension",
    "orderProperties": [],
    "tags": [],
    "title": "Step-1 Extension"
   },
   "source": [
    "<h3 id=\"Create-List-of-untagged-instances&para;\"><a id=\"2\" target=\"_self\" rel=\"nofollow\"></a>Create List of unhealthy instances</h3>\n",
    "<blockquote>\n",
    "<p>This action captures the following output: <code>all_unhealthy_instances</code></p>\n",
    "</blockquote>"
   ]
  },
  {
   "cell_type": "code",
   "execution_count": 28,
   "id": "ad13b804-ad7f-433e-8910-d01d679a262a",
   "metadata": {
    "credentialsJson": {},
    "customAction": true,
    "execution_data": {
     "last_date_success_run_cell": "2023-05-18T16:16:12.444Z"
    },
    "jupyter": {
     "source_hidden": true
    },
    "name": "Create List of unhealthy instances",
    "orderProperties": [],
    "tags": [],
    "title": "Create List of unhealthy instances"
   },
   "outputs": [],
   "source": [
    "all_unhealthy_instances = []\n",
    "try:\n",
    "    if unhealthy_instances[0] == False:\n",
    "        for each_instance in unhealthy_instances[1]:\n",
    "            all_unhealthy_instances.append(each_instance)\n",
    "except Exception as e:\n",
    "    if instance_ids:\n",
    "        for instance in instance_ids:\n",
    "            instance_dict = {}\n",
    "            instance_dict[\"instance\"] = instance\n",
    "            instance_dict[\"region\"] = region\n",
    "            all_unhealthy_instances.append(instance_dict)\n",
    "    else:\n",
    "        raise Exception(e)"
   ]
  },
  {
   "attachments": {},
   "cell_type": "markdown",
   "id": "464a91c4-371f-426e-a6d6-32c2266d42e4",
   "metadata": {
    "jupyter": {
     "source_hidden": false
    },
    "name": "Step 2",
    "orderProperties": [],
    "tags": [],
    "title": "Step 2"
   },
   "source": [
    "<h3 id=\"List-Unhealthy-Instances-in-a-Target-Group&para;\"><a id=\"2\" target=\"_self\" rel=\"nofollow\"></a>Restart EC2 instances</h3>\n",
    "<p>Here we will restart all the unhealthy EC2 instances.&nbsp;</p>\n",
    "<blockquote>\n",
    "<p>This action takes the following parameters: <code>region, instance_ids</code></p>\n",
    "</blockquote>\n",
    "<blockquote>\n",
    "<p>This action captures the following output: <code>None</code></p>\n",
    "</blockquote>"
   ]
  },
  {
   "cell_type": "code",
   "execution_count": null,
   "id": "23059dc8-f854-4301-a557-c62683a0d045",
   "metadata": {
    "accessType": "ACCESS_TYPE_UNSPECIFIED",
    "actionBashCommand": false,
    "actionCategories": [],
    "actionIsCheck": false,
    "actionNeedsCredential": true,
    "actionNextHop": [],
    "actionNextHopParameterMapping": {},
    "actionOutputType": "",
    "actionRequiredLinesInCode": [],
    "actionSupportsIteration": true,
    "actionSupportsPoll": true,
    "action_modified": false,
    "action_uuid": "e7d021a8e955291cf31e811e64a86baa2a902ea2185cb76e7121ebbab261c320",
    "checkEnabled": false,
    "continueOnError": true,
    "createTime": "1970-01-01T00:00:00Z",
    "credentialsJson": {},
    "currentVersion": "0.1.0",
    "description": "Restart AWS EC2 Instances",
    "id": 250,
    "index": 250,
    "inputData": [
     {
      "instance_ids": {
       "constant": false,
       "value": "\"iter.get(\\\\\"instance\\\\\")\""
      },
      "region": {
       "constant": false,
       "value": "\"iter.get(\\\\\"region\\\\\")\""
      }
     }
    ],
    "inputschema": [
     {
      "properties": {
       "instance_ids": {
        "description": "List of instance IDs. For eg. [\"i-foo\", \"i-bar\"]",
        "items": {
         "type": "string"
        },
        "title": "Instance IDs",
        "type": "array"
       },
       "region": {
        "description": "AWS Region of the instances.",
        "title": "Region",
        "type": "string"
       }
      },
      "required": [
       "instance_ids",
       "region"
      ],
      "title": "aws_restart_ec2_instances",
      "type": "object"
     }
    ],
    "isUnskript": false,
    "iterData": [
     {
      "iter_enabled": true,
      "iter_item": {
       "instance_ids": "instance",
       "region": "region"
      },
      "iter_list": {
       "constant": false,
       "objectItems": true,
       "value": "all_unhealthy_instances"
      }
     }
    ],
    "jupyter": {
     "source_hidden": true
    },
    "legotype": "LEGO_TYPE_AWS",
    "name": "Restart AWS EC2 Instances",
    "nouns": [],
    "orderProperties": [
     "instance_ids",
     "region"
    ],
    "output": {
     "type": ""
    },
    "printOutput": true,
    "tags": [],
    "verbs": []
   },
   "outputs": [],
   "source": [
    "##  Copyright (c) 2021 unSkript, Inc\n",
    "##  All rights reserved.\n",
    "##\n",
    "from typing import List, Dict\n",
    "from pydantic import BaseModel, Field\n",
    "import pprint\n",
    "from beartype import beartype\n",
    "\n",
    "from beartype import beartype\n",
    "@beartype\n",
    "def aws_restart_ec2_instances_printer(output):\n",
    "    if output is None:\n",
    "        return\n",
    "    pprint.pprint(output)\n",
    "\n",
    "\n",
    "@beartype\n",
    "def aws_restart_ec2_instances(handle, instance_ids: List, region: str) -> Dict:\n",
    "    \"\"\"aws_restart_instances Restarts instances.\n",
    "\n",
    "        :type handle: object\n",
    "        :param handle: Object returned by the task.validate(...) method.\n",
    "\n",
    "        :type instance_ids: list\n",
    "        :param instance_ids: List of instance ids.\n",
    "\n",
    "        :type region: string\n",
    "        :param region: Region for instance.\n",
    "\n",
    "        :rtype: Dict with the restarted instances info.\n",
    "    \"\"\"\n",
    "\n",
    "    ec2Client = handle.client('ec2', region_name=region)\n",
    "    res = ec2Client.reboot_instances(InstanceIds=instance_ids)\n",
    "    return res\n",
    "\n",
    "\n",
    "task = Task(Workflow())\n",
    "task.configure(continueOnError=True)\n",
    "task.configure(inputParamsJson='''{\n",
    "    \"instance_ids\": \"iter.get(\\\\\"instance\\\\\")\",\n",
    "    \"region\": \"iter.get(\\\\\"region\\\\\")\"\n",
    "    }''')\n",
    "task.configure(iterJson='''{\n",
    "    \"iter_enabled\": true,\n",
    "    \"iter_list_is_const\": false,\n",
    "    \"iter_list\": \"all_unhealthy_instances\",\n",
    "    \"iter_parameter\": [\"instance_ids\",\"region\"]\n",
    "    }''')\n",
    "task.configure(printOutput=True)\n",
    "(err, hdl, args) = task.validate(vars=vars())\n",
    "if err is None:\n",
    "    task.execute(aws_restart_ec2_instances, lego_printer=aws_restart_ec2_instances_printer, hdl=hdl, args=args)"
   ]
  },
  {
   "attachments": {},
   "cell_type": "markdown",
   "id": "ae582460-4ae2-4d66-8328-1fb1deb238c3",
   "metadata": {
    "jupyter": {
     "source_hidden": false
    },
    "name": "Conclusion",
    "orderProperties": [],
    "tags": [],
    "title": "Conclusion"
   },
   "source": [
    "<h3 id=\"Conclusion&para;&para;\">Conclusion</h3>\n",
    "<p>In this Runbook, we were able to restart all unhealthy EC2 instances in a target group using unSkript's AWS actions. To view the full platform capabilities of unSkript please visit&nbsp;<a href=\"https://us.app.unskript.io\" target=\"_blank\" rel=\"noopener\">us.app.unskript.io</a></p>"
   ]
  }
 ],
 "metadata": {
  "execution_data": {
   "runbook_name": "AWS Restart unhealthy services in a Target Group",
   "parameters": [
    "region"
   ]
  },
  "kernelspec": {
   "display_name": "unSkript (Build: 1166)",
   "language": "python",
   "name": "python3"
  },
  "language_info": {
   "codemirror_mode": {
    "name": "ipython",
    "version": 3
   },
   "file_extension": ".py",
   "mimetype": "text/x-python",
   "name": "python",
   "nbconvert_exporter": "python",
   "pygments_lexer": "ipython3",
   "version": "3.9.6"
  },
  "parameterSchema": {
   "properties": {
    "instance_ids": {
     "description": "List of AWS EC2 instance.",
     "title": "instance_ids",
     "type": "array"
    },
    "region": {
     "description": "AWS region(s) to get the target groups from. Eg: us-west-2",
     "title": "region",
     "type": "string"
    }
   },
   "required": [],
   "title": "Schema",
   "type": "object"
  },
  "vscode": {
   "interpreter": {
    "hash": "31f2aee4e71d21fbe5cf8b01ff0e069b9275f58929596ceb00d14d90e3e16cd6"
   }
  }
 },
 "nbformat": 4,
 "nbformat_minor": 5
}