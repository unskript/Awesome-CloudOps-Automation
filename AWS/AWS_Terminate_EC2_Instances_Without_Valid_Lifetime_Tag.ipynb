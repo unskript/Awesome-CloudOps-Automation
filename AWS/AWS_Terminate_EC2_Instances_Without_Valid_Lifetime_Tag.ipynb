{
 "cells": [
  {
   "cell_type": "markdown",
   "id": "280d4d6f-a47c-4fa2-8d55-a4e19899d46c",
   "metadata": {
    "jupyter": {
     "source_hidden": false
    },
    "name": "Steps Overview",
    "orderProperties": [],
    "tags": [],
    "title": "Steps Overview"
   },
   "source": [
    "<center><img src=\"https://storage.googleapis.com/unskript-website/assets/favicon.png\" alt=\"unSkript.com\" width=\"100\" height=\"100\">\n",
    "<h1 id=\"-unSkript-Runbooks-\">unSkript Runbooks</h1>\n",
    "<div class=\"alert alert-block alert-success\">\n",
    "<h3 id=\"-Objective\">Objective</h3>\n",
    "<br><strong style=\"color: #000000;\"><em>Filter and Terminate EC2 Instances Without Valid Lifetime Tag</em></strong></div>\n",
    "</center>\n",
    "<p>&nbsp;</p>\n",
    "<center>\n",
    "<h2 id=\"Terminate-EC2-Instances-Without-Valid-Lifetime-Tag\"><u>Terminate EC2 Instances Without Valid Lifetime Tag</u></h2>\n",
    "</center>\n",
    "<h1 id=\"Steps-Overview\">Steps Overview</h1>\n",
    "<p>1)<a href=\"#1\" target=\"_self\" rel=\"noopener\"> Filter AWS EC2 Instances Without Lifetime Tag</a><br>2)<a href=\"#2\" target=\"_self\" rel=\"noopener\"> Terminate AWS Instance</a></p>"
   ]
  },
  {
   "cell_type": "code",
   "execution_count": null,
   "id": "bf6692b0-f2e2-40c2-bff3-72f2ce14be4c",
   "metadata": {
    "collapsed": true,
    "credentialsJson": {},
    "customAction": true,
    "jupyter": {
     "outputs_hidden": true,
     "source_hidden": true
    },
    "name": "Input Verification",
    "orderProperties": [],
    "tags": [],
    "title": "Input Verification"
   },
   "outputs": [],
   "source": [
    "if region == None:\n",
    "    region = ''\n",
    "if instance_ids and not region:\n",
    "    raise SystemExit(\"Provide a region for the EC2 Instance IDs!\")"
   ]
  },
  {
   "cell_type": "markdown",
   "id": "74abf372-b918-4c9e-acf5-e4213d747d5f",
   "metadata": {
    "jupyter": {
     "source_hidden": false
    },
    "name": "Step 1",
    "orderProperties": [],
    "tags": [],
    "title": "Step 1"
   },
   "source": [
    "<h3 id=\"Filter-AWS-EC2-Instances-Without-Lifetime-Tag\"><a id=\"1\" target=\"_self\" rel=\"nofollow\"></a>Filter AWS EC2 Instances Without Lifetime Tag<a class=\"jp-InternalAnchorLink\" href=\"#Filter-AWS-EC2-Instances-Without-Lifetime-Tag\" target=\"_self\">&para;</a></h3>\n",
    "<p>Here we will use unSkript Filter AWS EC2 Instances Without Lifetime Tag action to get all the EC2 instances which don't have lifetime tag.</p>\n",
    "<blockquote>\n",
    "<p>This action takes the following parameters: <code>lifetime_tag</code>,<code>region, termination_date_tag (all Optional)</code></p>\n",
    "</blockquote>\n",
    "<blockquote>\n",
    "<p>This action captures the following output: <code>untagged_instances</code></p>\n",
    "</blockquote>"
   ]
  },
  {
   "cell_type": "code",
   "execution_count": null,
   "id": "5fa6542a-0d95-4200-8fe9-d502c31d59c7",
   "metadata": {
    "actionBashCommand": false,
    "actionCategories": [
     "CATEGORY_TYPE_CLOUDOPS",
     "CATEGORY_TYPE_DEVOPS",
     "CATEGORY_TYPE_COST_OPT",
     "CATEGORY_TYPE_AWS",
     "CATEGORY_TYPE_AWS_EC2"
    ],
    "actionDescription": "Filter AWS EC2 Instances Without Termination and Lifetime Tag and Check of they are valid",
    "actionEntryFunction": "aws_filter_instances_without_termination_and_lifetime_tag",
    "actionIsCheck": true,
    "actionIsRemediation": false,
    "actionNeedsCredential": true,
    "actionNextHop": [
     "29ce1935204c64d816fd1f01f4fe41e8d8bd47725b899535c6acee703a7bcf0d"
    ],
    "actionNextHopParameterMapping": {},
    "actionNouns": [
     "aws",
     "instances",
     "without",
     "termination",
     "lifetime",
     "tag"
    ],
    "actionOutputType": "ACTION_OUTPUT_TYPE_LIST",
    "actionSupportsIteration": true,
    "actionSupportsPoll": true,
    "actionTitle": "Filter AWS EC2 Instances Without Termination and Lifetime Tag",
    "actionType": "LEGO_TYPE_AWS",
    "actionVerbs": [
     "filter"
    ],
    "actionVersion": "1.0.0",
    "action_modified": false,
    "action_uuid": "6cc8a1355937c21df3ace495375225012fa8915f4125ad143367e0feb34486c5",
    "collapsed": true,
    "condition_enabled": true,
    "continueOnError": false,
    "credentialsJson": {},
    "description": "Filter AWS EC2 Instances Without Termination and Lifetime Tag and Check of they are valid",
    "id": 1,
    "index": 1,
    "inputData": [
     {
      "lifetime_tag_name": {
       "constant": false,
       "value": "lifetime_tag"
      },
      "region": {
       "constant": false,
       "value": "region"
      },
      "termination_tag_name": {
       "constant": false,
       "value": "termination_date_tag"
      }
     }
    ],
    "inputschema": [
     {
      "properties": {
       "lifetime_tag_name": {
        "default": "\"lifetimeTag\"",
        "description": "Name of the Lifetime Date Tag given to an EC2 instance. By default \"lifetimeTag\" is considered ",
        "title": "Lifetime Tag Name",
        "type": "string"
       },
       "region": {
        "default": "",
        "description": "Name of the AWS Region",
        "title": "Region",
        "type": "string"
       },
       "termination_tag_name": {
        "default": "\"terminationDateTag\"",
        "description": "Name of the Termination Date Tag given to an EC2 instance. By default \"terminationDateTag\" is considered ",
        "title": "Termination Date Tag Name",
        "type": "string"
       }
      },
      "required": [],
      "title": "aws_filter_instances_without_termination_and_lifetime_tag",
      "type": "object"
     }
    ],
    "jupyter": {
     "outputs_hidden": true,
     "source_hidden": true
    },
    "language": "python",
    "legotype": "LEGO_TYPE_AWS",
    "name": "Filter AWS EC2 Instances Without Termination and Lifetime Tag",
    "orderProperties": [
     "region",
     "termination_tag_name",
     "lifetime_tag_name"
    ],
    "outputParams": {
     "output_name": "untagged_ec2_instances",
     "output_name_enabled": true,
     "output_runbook_enabled": false,
     "output_runbook_name": ""
    },
    "printOutput": true,
    "startcondition": "not instance_ids",
    "tags": [
     "aws_filter_instances_without_termination_and_lifetime_tag"
    ],
    "uuid": "6cc8a1355937c21df3ace495375225012fa8915f4125ad143367e0feb34486c5",
    "version": "1.0.0"
   },
   "outputs": [],
   "source": [
    "##\n",
    "##  Copyright (c) 2021 unSkript, Inc\n",
    "##  All rights reserved.\n",
    "##\n",
    "from pydantic import BaseModel, Field\n",
    "from typing import List, Tuple, Optional\n",
    "from unskript.connectors.aws import aws_get_paginator\n",
    "from unskript.legos.aws.aws_list_all_regions.aws_list_all_regions import aws_list_all_regions\n",
    "import pprint\n",
    "from datetime import datetime, date\n",
    "\n",
    "from beartype import beartype\n",
    "@beartype\n",
    "def aws_filter_instances_without_termination_and_lifetime_tag_printer(output):\n",
    "    if output is None:\n",
    "        return\n",
    "\n",
    "    pprint.pprint(output)\n",
    "\n",
    "@beartype\n",
    "def fetch_instances_from_valid_region(res,r, termination_tag_name, lifetime_tag_name):\n",
    "    result=[]\n",
    "    instances_dict={}\n",
    "    for reservation in res:\n",
    "            for instance in reservation['Instances']:\n",
    "                try:\n",
    "                    tagged_instance = instance['Tags']\n",
    "                    tag_keys = [tags['Key'] for tags in tagged_instance]\n",
    "                    if termination_tag_name not in tag_keys or lifetime_tag_name not in tag_keys:\n",
    "                        result.append(instance['InstanceId'])\n",
    "                    elif termination_tag_name not in tag_keys and lifetime_tag_name not in tag_keys:\n",
    "                        result.append(instance['InstanceId'])\n",
    "                    if termination_tag_name in tag_keys:\n",
    "                        for x in instance['Tags']:\n",
    "                            if x['Key'] == termination_tag_name:\n",
    "                                right_now = date.today()\n",
    "                                date_object = datetime.strptime(x['Value'], '%d-%m-%Y').date()\n",
    "                                if date_object < right_now:\n",
    "                                    result.append(instance['InstanceId'])\n",
    "                            elif x['Key'] == lifetime_tag_name:\n",
    "                                launch_time = instance['LaunchTime']\n",
    "                                convert_to_datetime = launch_time.strftime(\"%d-%m-%Y\")\n",
    "                                launch_date = datetime.strptime(convert_to_datetime,'%d-%m-%Y').date()\n",
    "                                if x['Value'] != 'INDEFINITE':\n",
    "                                    if launch_date < right_now:\n",
    "                                        result.append(instance['InstanceId'])\n",
    "                except Exception as e:\n",
    "                        if len(instance['InstanceId'])!=0:\n",
    "                            result.append(instance['InstanceId'])\n",
    "    if len(result)!=0:\n",
    "        instances_dict['region']= r\n",
    "        instances_dict['instances']= result\n",
    "    return instances_dict\n",
    "\n",
    "@beartype\n",
    "def aws_filter_instances_without_termination_and_lifetime_tag(handle, region: str=None, termination_tag_name:str='terminationDateTag', lifetime_tag_name:str='lifetimeTag') -> Tuple:\n",
    "    \"\"\"aws_filter_ec2_without_lifetime_tag Returns an List of instances which not have lifetime tag.\n",
    "\n",
    "        Assumed tag key format - terminationDateTag, lifetimeTag\n",
    "        Assumed Date format for both keys is -> dd-mm-yy\n",
    "\n",
    "        :type handle: object\n",
    "        :param handle: Object returned from task.validate(...).\n",
    "\n",
    "        :type region: string\n",
    "        :param region: Optional, Name of AWS Region\n",
    "\n",
    "        :type termination_tag_name: string\n",
    "        :param termination_tag_name: Optional, Name of the Termination Date Tag given to an EC2 instance. By default \"terminationDateTag\" is considered\n",
    "\n",
    "        :type lifetime_tag_name: string\n",
    "        :param lifetime_tag_name: Optional, Name of the Lifetime Date Tag given to an EC2 instance. By default \"lifetimeTag\" is considered\n",
    "\n",
    "        :rtype: Tuple of status, instances which dont having terminationDateTag and lifetimeTag, and error\n",
    "    \"\"\"\n",
    "    final_list=[]\n",
    "    all_regions = [region]\n",
    "    if region is None or len(region) == 0:\n",
    "        all_regions = aws_list_all_regions(handle=handle)\n",
    "    for r in all_regions:\n",
    "        try:\n",
    "            ec2Client = handle.client('ec2', region_name=r)\n",
    "            all_reservations = aws_get_paginator(ec2Client, \"describe_instances\", \"Reservations\")\n",
    "            instances_without_tags = fetch_instances_from_valid_region(all_reservations, r, termination_tag_name, lifetime_tag_name)\n",
    "            if len(instances_without_tags)!=0:\n",
    "                final_list.append(instances_without_tags)\n",
    "        except Exception as e:\n",
    "            pass\n",
    "    if len(final_list)!=0:\n",
    "        return (False, final_list)\n",
    "    else:\n",
    "        return (True, None)\n",
    "\n",
    "\n",
    "task = Task(Workflow())\n",
    "task.configure(inputParamsJson='''{\n",
    "    \"region\": \"region\",\n",
    "    \"termination_tag_name\": \"termination_date_tag\",\n",
    "    \"lifetime_tag_name\": \"lifetime_tag\"\n",
    "    }''')\n",
    "task.configure(conditionsJson='''{\n",
    "    \"condition_enabled\": true,\n",
    "    \"condition_cfg\": \"not instance_ids\",\n",
    "    \"condition_result\": true\n",
    "    }''')\n",
    "\n",
    "task.configure(outputName=\"untagged_instances\")\n",
    "\n",
    "task.configure(printOutput=True)\n",
    "(err, hdl, args) = task.validate(vars=vars())\n",
    "if err is None:\n",
    "    task.execute(aws_filter_instances_without_termination_and_lifetime_tag, lego_printer=aws_filter_instances_without_termination_and_lifetime_tag_printer, hdl=hdl, args=args)"
   ]
  },
  {
   "cell_type": "markdown",
   "id": "9cd2a6cc-c0b6-48c7-837f-c623f8cf53d4",
   "metadata": {
    "jupyter": {
     "source_hidden": false
    },
    "name": "Step 2A",
    "orderProperties": [],
    "tags": [],
    "title": "Step 2A"
   },
   "source": [
    "<h3 id=\"Create-List-of-Untagged-Instances\">Create List of Untagged Instances</h3>\n",
    "<p>This action filters regions that have no untagged EC2 instances and creates a list of the ones that have have</p>\n",
    "<blockquote>\n",
    "<p>This action takes the following parameters: <code>None</code></p>\n",
    "</blockquote>\n",
    "<blockquote>\n",
    "<p>This action captures the following output: <code>all_untagged_instances</code></p>\n",
    "</blockquote>"
   ]
  },
  {
   "cell_type": "code",
   "execution_count": 5,
   "id": "ff6ee3fa-b94b-4679-943b-782b32c1a095",
   "metadata": {
    "collapsed": true,
    "credentialsJson": {},
    "customAction": true,
    "execution_data": {
     "last_date_success_run_cell": "2023-02-02T16:25:30.826Z"
    },
    "jupyter": {
     "outputs_hidden": true,
     "source_hidden": true
    },
    "name": "Create List of  Instances Without Termination and Lifetime Tag ",
    "orderProperties": [],
    "tags": [],
    "title": "Create List of  Instances Without Termination and Lifetime Tag "
   },
   "outputs": [],
   "source": [
    "all_untagged_instances = []\n",
    "try:\n",
    "    if untagged_instances[0] == False:\n",
    "        if len(untagged_instances[1])!=0:\n",
    "            all_untagged_instances=untagged_instances[1]\n",
    "except Exception:\n",
    "    data_dict[\"region\"] = region\n",
    "    data_dict[\"instances\"] = instance_ids\n",
    "    all_untagged_instances.append(data_dict)\n",
    "print(all_untagged_instances)"
   ]
  },
  {
   "cell_type": "markdown",
   "id": "c09c5eb2-a9a7-4119-aef4-b07e0fdd6c80",
   "metadata": {
    "jupyter": {
     "source_hidden": false
    },
    "name": "Step 2",
    "orderProperties": [],
    "tags": [],
    "title": "Step 2"
   },
   "source": [
    "<h3 id=\"Terminate-AWS-Instance\">Terminate AWS Instance</h3>\n",
    "<p>This action terminates EC2 instances which don't have lifetime tag as captured in Step 1\ud83d\udc46</p>\n",
    "<blockquote>\n",
    "<p>This action takes the following parameters: <code>instance_ids, region</code></p>\n",
    "</blockquote>\n",
    "<blockquote>\n",
    "<p>This action captures the following output: <code>None</code></p>\n",
    "</blockquote>"
   ]
  },
  {
   "cell_type": "code",
   "execution_count": null,
   "id": "7f622b00-2f51-4f44-aeaa-18f67823a4ea",
   "metadata": {
    "accessType": "ACCESS_TYPE_UNSPECIFIED",
    "actionBashCommand": false,
    "actionNeedsCredential": true,
    "actionRequiredLinesInCode": [],
    "actionSupportsIteration": true,
    "actionSupportsPoll": true,
    "action_modified": false,
    "action_uuid": "8744e8836d7a0aff41120620fa4d703dacff25b0dbb5c9c7b87b83783c6c9d18",
    "collapsed": true,
    "condition_enabled": true,
    "continueOnError": true,
    "createTime": "1970-01-01T00:00:00Z",
    "credentialsJson": {},
    "currentVersion": "0.1.0",
    "description": "Terminate AWS Instances",
    "id": 192,
    "index": 192,
    "inputData": [
     {
      "instance_ids": {
       "constant": false,
       "value": "\"iter.get(\\\\\"instances\\\\\")\""
      },
      "region": {
       "constant": false,
       "value": "\"iter.get(\\\\\"region\\\\\")\""
      }
     }
    ],
    "inputschema": [
     {
      "properties": {
       "instance_ids": {
        "description": "List of instance IDs. For eg. [\"i-foo\", \"i-bar\"]",
        "items": {
         "type": "string"
        },
        "title": "Instance IDs",
        "type": "array"
       },
       "region": {
        "description": "AWS Region of the instance.",
        "title": "Region",
        "type": "string"
       }
      },
      "required": [
       "instance_ids",
       "region"
      ],
      "title": "aws_terminate_instance",
      "type": "object"
     }
    ],
    "iterData": [
     {
      "iter_enabled": true,
      "iter_item": {
       "instance_ids": "instances",
       "region": "region"
      },
      "iter_list": {
       "constant": false,
       "objectItems": true,
       "value": "all_untagged_instances"
      }
     }
    ],
    "jupyter": {
     "outputs_hidden": true,
     "source_hidden": true
    },
    "legotype": "LEGO_TYPE_AWS",
    "name": "Terminate AWS Instances",
    "nouns": [],
    "orderProperties": [
     "instance_ids",
     "region"
    ],
    "output": {
     "type": ""
    },
    "printOutput": true,
    "startcondition": "if terminate==True",
    "tags": [
     "aws_terminate_instance"
    ],
    "verbs": []
   },
   "outputs": [],
   "source": [
    "##\n",
    "# Copyright (c) 2021 unSkript, Inc\n",
    "# All rights reserved.\n",
    "##\n",
    "from typing import List, Dict\n",
    "from pydantic import BaseModel, Field\n",
    "import pprint\n",
    "\n",
    "\n",
    "from beartype import beartype\n",
    "@beartype\n",
    "def aws_terminate_instance_printer(output):\n",
    "    if output is None:\n",
    "        return\n",
    "    pprint.pprint(output)\n",
    "\n",
    "\n",
    "@beartype\n",
    "def aws_terminate_instance(handle, instance_ids: List, region: str) -> Dict:\n",
    "    \"\"\"aws_terminate_instance Returns an Dict of info terminated instance.\n",
    "\n",
    "        :type handle: object\n",
    "        :param handle: Object returned from task.validate(...).\n",
    "\n",
    "        :type instance_ids: List\n",
    "        :param instance_ids: Tag to filter Instances.\n",
    "\n",
    "        :type region: string\n",
    "        :param region: Used to filter the instance for specific region.\n",
    "\n",
    "        :rtype: Dict of info terminated instance.\n",
    "    \"\"\"\n",
    "    ec2Client = handle.client('ec2', region_name=region)\n",
    "    res = ec2Client.terminate_instances(InstanceIds=instance_ids)\n",
    "\n",
    "    return res\n",
    "\n",
    "\n",
    "task = Task(Workflow())\n",
    "task.configure(continueOnError=True)\n",
    "task.configure(inputParamsJson='''{\n",
    "    \"instance_ids\": \"iter.get(\\\\\"instances\\\\\")\",\n",
    "    \"region\": \"iter.get(\\\\\"region\\\\\")\"\n",
    "    }''')\n",
    "task.configure(iterJson='''{\n",
    "    \"iter_enabled\": true,\n",
    "    \"iter_list_is_const\": false,\n",
    "    \"iter_list\": \"all_untagged_instances\",\n",
    "    \"iter_parameter\": [\"instance_ids\",\"region\"]\n",
    "    }''')\n",
    "task.configure(conditionsJson='''{\n",
    "    \"condition_enabled\": true,\n",
    "    \"condition_cfg\": \"if terminate==True\",\n",
    "    \"condition_result\": true\n",
    "    }''')\n",
    "\n",
    "task.configure(printOutput=True)\n",
    "(err, hdl, args) = task.validate(vars=vars())\n",
    "if err is None:\n",
    "    task.execute(aws_terminate_instance, lego_printer=aws_terminate_instance_printer, hdl=hdl, args=args)"
   ]
  },
  {
   "cell_type": "markdown",
   "id": "324ba188-b516-4100-aebd-18ec3ce8203c",
   "metadata": {
    "jupyter": {
     "source_hidden": false
    },
    "name": "Conclusion",
    "orderProperties": [],
    "tags": [],
    "title": "Conclusion"
   },
   "source": [
    "<h3 id=\"Conclusion\">Conclusion</h3>\n",
    "<p>In this Runbook, we demonstrated the use of unSkript's AWS actions to filter untagged instances and terminate them. To view the full platform capabilities of unSkript please visit <a href=\"https://us.app.unskript.io\" target=\"_blank\" rel=\"noopener\">us.app.unskript.io</a></p>"
   ]
  }
 ],
 "metadata": {
  "execution_data": {
   "runbook_name": "Terminate EC2 Instances Without Valid Lifetime Tag",
   "parameters": [
    "region",
    "terminate"
   ]
  },
  "kernelspec": {
   "display_name": "Python 3.10.6 64-bit",
   "language": "python",
   "name": "python3"
  },
  "language_info": {
   "codemirror_mode": {
    "name": "ipython",
    "version": 3
   },
   "file_extension": ".py",
   "mimetype": "text/x-python",
   "name": "python",
   "nbconvert_exporter": "python",
   "pygments_lexer": "ipython3",
   "version": "3.10.6"
  },
  "parameterSchema": {
   "properties": {
    "instance_ids": {
     "description": "List of EC2 instance IDs",
     "title": "instance_ids",
     "type": "array"
    },
    "lifetime_tag_name": {
     "default": "lifetimeTag",
     "description": "Tag name used to identify the lifetime of a given EC2 instance.",
     "title": "lifetime_tag_name",
     "type": "string"
    },
    "region": {
     "description": "AWS Region to search for EC2 instances. Eg: \"us-west-2\"",
     "title": "region",
     "type": "string"
    },
    "terminate": {
     "default": false,
     "description": "Check parameter to terminate instances without the termination and lifetime tag. If changed to True, all instances without the termination and lifetime tag will be terminated. By default the value is false",
     "title": "terminate",
     "type": "boolean"
    },
    "termination_tag_name": {
     "default": "terminationDateTag",
     "description": "Tag name used to identify the termination date of a given EC2 instance.",
     "title": "termination_tag_name",
     "type": "string"
    }
   },
   "required": [],
   "title": "Schema",
   "type": "object"
  },
  "vscode": {
   "interpreter": {
    "hash": "b0fa6594d8f4cbf19f97940f81e996739fb7646882a419484c72d19e05852a7e"
   }
  }
 },
 "nbformat": 4,
 "nbformat_minor": 5
}