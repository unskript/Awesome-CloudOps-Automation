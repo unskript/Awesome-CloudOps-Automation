{
    "cells": [
        {
            "cell_type": "markdown",
            "id": "787237f3-7f60-4c19-b675-28d61cddda18",
            "metadata": {
                "jupyter": {
                    "source_hidden": false
                },
                "name": "Publicly Accessible Amazon RDS Instances",
                "orderProperties": [],
                "tags": [],
                "title": "Publicly Accessible Amazon RDS Instances"
            },
            "source": [
                "<img src=\"https://unskript.com/assets/favicon.png\" alt=\"unSkript.com\" width=\"100\" height=\"100\"/> \n",
                "<h1> unSkript Runbooks </h1>\n",
                "<div class=\"alert alert-block alert-success\">\n",
                "    <b> This runbook demonstrates How get Publicly Accessible Amazon RDS Instances using unSkript legos.</b>\n",
                "</div>\n",
                "\n",
                "<br>\n",
                "\n",
                "<center><h2>Publicly Accessible Amazon RDS Instances</h2></center>\n",
                "\n",
                "# Steps Overview\n",
                "Collecting the all Publicly Accessible RDS Instances."
            ]
        },
        {
            "cell_type": "markdown",
            "id": "5d6e0429-7d5d-4a6e-aae2-165235fdeb49",
            "metadata": {
                "jupyter": {
                    "source_hidden": false
                },
                "name": "AWS List Publicly Accessible RDS Instances",
                "orderProperties": [],
                "tags": [],
                "title": "AWS List Publicly Accessible RDS Instances"
            },
            "source": [
                "Here we will use unSkript AWS List Publicly Accessible RDS Instances Lego. This lego take region: str as input. This inputs is used to findout all the Publicly Accessible RDS Instances."
            ]
        },
        {
            "cell_type": "code",
            "execution_count": 3,
            "id": "f6106839-4a69-4576-92c1-082eada390fd",
            "metadata": {
                "accessType": "ACCESS_TYPE_UNSPECIFIED",
                "actionBashCommand": false,
                "actionNeedsCredential": true,
                "actionRequiredLinesInCode": [],
                "actionSupportsIteration": true,
                "actionSupportsPoll": true,
                "action_uuid": "281432114503d97b98fb007ba2407a47323150576b4ec7276a592964419552f9",
                "continueOnError": false,
                "createTime": "1970-01-01T00:00:00Z",
                "credentialsJson": {},
                "currentVersion": "0.1.0",
                "description": "AWS List Publicly Accessible RDS Instances",
                "execution_data": {
                    "last_date_success_run_cell": "2022-09-19T16:27:25.376Z"
                },
                "id": 199,
                "index": 199,
                "inputData": [
                    {
                        "region": {
                            "constant": false,
                            "value": "Region"
                        }
                    }
                ],
                "inputschema": [
                    {
                        "properties": {
                            "region": {
                                "description": "Region of the RDS.",
                                "title": "Region for RDS",
                                "type": "string"
                            }
                        },
                        "title": "aws_publicly_accessible_db_instances",
                        "type": "object"
                    }
                ],
                "jupyter": {
                    "source_hidden": true
                },
                "legotype": "LEGO_TYPE_AWS",
                "name": "AWS List Publicly Accessible RDS Instances",
                "nouns": [
                    "aws",
                    "rds",
                    "instance"
                ],
                "orderProperties": [
                    "region"
                ],
                "output": {
                    "type": ""
                },
                "tags": [
                    "aws_publicly_accessible_db_instances"
                ],
                "title": "AWS List Publicly Accessible RDS Instances",
                "trusted": true,
                "verbs": [
                    "list"
                ]
            },
            "outputs": [],
            "source": [
                "##\n",
                "##  Copyright (c) 2021 unSkript, Inc\n",
                "##  All rights reserved.\n",
                "##\n",
                "from pydantic import BaseModel, Field\n",
                "from typing import Optional, List\n",
                "from unskript.connectors.aws import aws_get_paginator\n",
                "import pprint\n",
                "\n",
                "\n",
                "from beartype import beartype\n",
                "@beartype\n",
                "def aws_publicly_accessible_db_instances_printer(output):\n",
                "    if output is None:\n",
                "        return\n",
                "    pprint.pprint(output)\n",
                "\n",
                "\n",
                "@beartype\n",
                "def aws_publicly_accessible_db_instances(handle, region: str) -> List:\n",
                "    \"\"\"aws_list_apllication_loadbalancers lists application loadbalancers ARNs.\n",
                "\n",
                "        :type handle: object\n",
                "        :param handle: Object returned from task.validate(...).\n",
                "\n",
                "        :type region: string\n",
                "        :param region: Region of the RDS.\n",
                "\n",
                "        :rtype: List with publicly accessible RDS instances.\n",
                "    \"\"\"\n",
                "\n",
                "    ec2Client = handle.client('rds', region_name=region)\n",
                "    result = []\n",
                "    try:\n",
                "        response = aws_get_paginator(ec2Client, \"describe_db_instances\", \"DBInstances\")\n",
                "        for db in response:\n",
                "            if db['PubliclyAccessible']:\n",
                "                result.append(db['DBInstanceIdentifier'])\n",
                "    except Exception as error:\n",
                "        result.append(error)\n",
                "    return result\n",
                "\n",
                "\n",
                "task = Task(Workflow())\n",
                "task.configure(inputParamsJson='''{\n",
                "    \"region\": \"Region\"\n",
                "    }''')\n",
                "(err, hdl, args) = task.validate(vars=vars())\n",
                "if err is None:\n",
                "    task.execute(aws_publicly_accessible_db_instances, lego_printer=aws_publicly_accessible_db_instances_printer, hdl=hdl, args=args)"
            ]
        },
        {
            "cell_type": "markdown",
            "id": "276822d0-0d5d-4023-83c1-3f8b12e50568",
            "metadata": {
                "jupyter": {
                    "source_hidden": false
                },
                "name": "Conclusion",
                "orderProperties": [],
                "tags": [],
                "title": "Conclusion"
            },
            "source": [
                "In this Runbook, we demonstrated the use of unSkript's AWS legos. This runbook help to find Publicly Accessible RDS Instances. To view the full platform capabilities of unSkript please visit https://unskript.com"
            ]
        }
    ],
    "metadata": {
        "execution_data": {
            "environment_id": "1499f27c-6406-4fbd-bd1b-c6f92800018f",
            "environment_name": "Staging",
            "execution_id": "",
            "inputs_for_searched_lego": "",
            "notebook_id": "7e7c7831-8d06-496c-8cdb-0b8dd997bbf7.ipynb",
            "parameters": null,
            "runbook_name": "Publicly Accessible Amazon RDS Instances",
            "search_string": "",
            "show_tool_tip": false,
            "tenant_id": "982dba5f-d9df-48ae-a5bf-ec1fc94d4882",
            "tenant_url": "https://tenant-staging.alpha.unskript.io",
            "user_email_id": "harshal.bangre@unskript.com",
            "workflow_id": "95e102b5-c6e8-429d-8d17-7663728799df"
        },
        "kernelspec": {
            "display_name": "Python 3.10.6 64-bit",
            "language": "python",
            "name": "python3"
        },
        "language_info": {
            "file_extension": ".py",
            "mimetype": "text/x-python",
            "name": "python",
            "pygments_lexer": "ipython3",
            "version": "3.10.6"
        },
        "parameterSchema": {
            "properties": {
                "Region": {
                    "default": "us-west-2",
                    "description": "RDS Region",
                    "title": "Region",
                    "type": "string"
                }
            },
            "required": [],
            "title": "Schema",
            "type": "object"
        },
        "parameterValues": {
            "Region": "us-west-2"
        },
        "vscode": {
            "interpreter": {
                "hash": "e8899eb02dfbc033aab5733bdae1bd213fa031d40331094008e8673d99ebab63"
            }
        }
    },
    "nbformat": 4,
    "nbformat_minor": 5
}
