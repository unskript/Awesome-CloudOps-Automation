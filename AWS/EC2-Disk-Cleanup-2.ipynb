{
    "cells": [
        {
            "cell_type": "markdown",
            "id": "bf364c84",
            "metadata": {},
            "source": [
                "\n",
                "<img src=\"https://unskript.com/assets/favicon.png\" alt=\"unSkript.com\" width=\"100\" height=\"100\"/> \n",
                "<h1> unSkript Runbooks </h1>\n",
                "<div class=\"alert alert-block alert-success\">\n",
                "    <b> This runbook demonstrates How to Cleanup EC2 Disks using unSkript legos.</b>\n",
                "</div>\n",
                "\n",
                "<br>\n",
                "\n",
                "<center><h2>EC2 Disk Cleanup</h2></center>\n",
                "\n",
                "# Steps Overview\n",
                "    1) Find IP address of instance\n",
                "    2) Find large files in specified path\n",
                "    3) Map remote file names to S3 object names\n",
                "    4) Back up files to S3\n",
                "    5) Delete files from instance\n",
                "    6) Send message to Slack"
            ]
        },
        {
            "cell_type": "markdown",
            "id": "683caff0",
            "metadata": {},
            "source": [
                "Here we will use unSkript Get AWS Instance Details Lego. This lego takes instance_id and region as input. This inputs is used to findout all the details of EC2 instance."
            ]
        },
        {
            "cell_type": "markdown",
            "id": "1006351c",
            "metadata": {},
            "source": [
                "### Conclusion\n",
                "In this Runbook, we demonstrated the use of unSkript's AWS and SSH legos to perform AWS and SSH actions and this runbook locates large files in a given path inside an EC2 instance and backs them up into a given S3 bucket. Afterwards, it deletes the files backed up and send a message on slack. To view the full platform capabilities of unSkript please visit https://unskript.com"
            ]
        }
    ],
    "metadata": {
        "execution_data": {
            "environment_id": "dba3932f-3118-4ab0-b92c-70fa56402037",
            "environment_name": "SingleAMI",
            "execution_id": "",
            "inputs_for_searched_lego": "",
            "notebook_id": "workflow.ipynb",
            "parameters": [
                "Bucket",
                "Threshold",
                "dirs_to_anaylze",
                "instance_id",
                "prefix",
                "region"
            ],
            "runbook_name": "JRRunbook",
            "search_string": "",
            "show_tool_tip": false,
            "tenant_id": "8b3c7148-2d57-4b89-84d3-d59f6c792b0c",
            "tenant_url": "https://tenant-amit.dev.unskript.io",
            "user_email_id": "amit@unskript.com",
            "workflow_id": "755dbe40-22d7-4b70-a04d-31d34bb04e4a"
        },
        "kernelspec": {
            "display_name": "Python 3.10.4 ('test')",
            "language": "python",
            "name": "python3"
        },
        "language_info": {
            "file_extension": ".py",
            "mimetype": "text/x-python",
            "name": "python",
            "pygments_lexer": "ipython3",
            "version": "3.10.4"
        },
        "parameterSchema": {
            "properties": {
                "Bucket": {
                    "default": "unskript-dev",
                    "description": "Bucket for uploading large files",
                    "title": "Bucket",
                    "type": "string"
                },
                "Threshold": {
                    "default": 100,
                    "description": "Threshold on file size (in Mb)",
                    "title": "Threshold",
                    "type": "number"
                },
                "dirs_to_anaylze": {
                    "default": "/home",
                    "description": "Root for directories to be analyzed for large files",
                    "title": "dirs_to_anaylze",
                    "type": "string"
                },
                "instance_id": {
                    "default": "i-02127703d2b6d3f56",
                    "description": "EC2 Instance",
                    "title": "instance_id",
                    "type": "string"
                },
                "prefix": {
                    "default": "test/",
                    "description": "Prefix to use while uploading to S3 (default: <instance>/<date>)",
                    "title": "prefix",
                    "type": "string"
                },
                "region": {
                    "default": "us-west-2",
                    "description": "AWS Region",
                    "title": "region",
                    "type": "string"
                }
            },
            "required": [],
            "title": "Schema",
            "type": "object"
        },
        "parameterValues": {
            "Bucket": "unskript-dev",
            "Threshold": null,
            "dirs_to_anaylze": "/home",
            "instance_id": "i-02127703d2b6d3f56",
            "prefix": "test/",
            "region": "us-west-2"
        },
        "vscode": {
            "interpreter": {
                "hash": "4bbe27a4ef15b3fedcd2e654ecc35fc9b20de5c40077b83d62753092d26a6932"
            }
        }
    },
    "nbformat": 4,
    "nbformat_minor": 5
}
