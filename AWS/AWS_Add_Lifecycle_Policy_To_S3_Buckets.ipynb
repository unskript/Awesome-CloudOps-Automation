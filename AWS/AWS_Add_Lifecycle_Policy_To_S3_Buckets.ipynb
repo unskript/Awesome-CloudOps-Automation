{
 "cells": [
  {
   "cell_type": "markdown",
   "id": "5424264e-6195-4cf9-906b-24b02d5a83f3",
   "metadata": {
    "jupyter": {
     "source_hidden": false
    },
    "name": "Steps Overview",
    "orderProperties": [],
    "tags": [],
    "title": "Steps Overview"
   },
   "source": [
    "<center><img src=\"https://unskript.com/assets/favicon.png\" alt=\"unSkript.com\" width=\"100\" height=\"100\">\n",
    "<h1 id=\"unSkript-Runbooks\">unSkript Runbooks</h1>\n",
    "<div class=\"alert alert-block alert-success\">\n",
    "<h3 id=\"Objective\">Objective</h3>\n",
    "<br><strong style=\"color: #000000;\"><em>Find S3 buckets without any lifecycle policies and attach one to them</em></strong></div>\n",
    "</center>\n",
    "<p>&nbsp;</p>\n",
    "<center>\n",
    "<h2 id=\"Delete-RDS-Instances-with-Low-CPU-Utilization\"><u>Add Lifecycle Policy To AWS S3 Buckets</u></h2>\n",
    "</center>\n",
    "<h1 id=\"Steps-Overview\">Steps Overview</h1>\n",
    "<p>1)<a href=\"#1\" target=\"_self\" rel=\"noopener\"> Find S3 Buckets without Lifecycle Policies</a><br>2)<a href=\"#2\" target=\"_self\" rel=\"noopener\"> Attach Lifecycle Policy</a></p>"
   ]
  },
  {
   "cell_type": "code",
   "execution_count": 17,
   "id": "e1f146c9-5180-4459-9c82-cf0e1da02785",
   "metadata": {
    "credentialsJson": {},
    "customAction": true,
    "execution_data": {
     "last_date_success_run_cell": "2023-05-16T08:46:04.477Z"
    },
    "jupyter": {
     "source_hidden": true
    },
    "name": "Input verification",
    "orderProperties": [],
    "tags": [],
    "title": "Input verification"
   },
   "outputs": [],
   "source": [
    "if region == None:\n",
    "    region = ''\n",
    "if bucket_names and not region:\n",
    "    raise SystemExit(\"Provide a region for the S3 Bucket names!\")"
   ]
  },
  {
   "cell_type": "markdown",
   "id": "908f4dcb-8483-44fc-8f81-ce2502e03093",
   "metadata": {
    "jupyter": {
     "source_hidden": false
    },
    "name": "Step 1",
    "orderProperties": [],
    "tags": [],
    "title": "Step 1"
   },
   "source": [
    "<h3 id=\"Find-RDS-Instances-with-Low-CPU-Utilization\"><a id=\"1\" target=\"_self\" rel=\"nofollow\"></a>Find S3 Buckets without Lifecycle Policies</h3>\n",
    "<p>Using Find AWS S3 buckets without lifecycle policieswe can identify buckets that do not have any configured lifecycle rules for managing object lifecycle. By examining the presence or absence of lifecycle policies, you can gain insights into the data management practices of your S3 buckets. This information can be valuable for optimizing storage costs and ensuring efficient data lifecycle management.</p>\n",
    "<blockquote>\n",
    "<p>This action takes the following parameters: <code>region</code></p>\n",
    "</blockquote>\n",
    "<blockquote>\n",
    "<p>This action captures the following output: <code>buckets_without_policy</code></p>\n",
    "</blockquote>"
   ]
  },
  {
   "cell_type": "code",
   "execution_count": 18,
   "id": "cc2e3052-9a34-4e09-ab57-c868197a5f62",
   "metadata": {
    "actionBashCommand": false,
    "actionCategories": [
     "CATEGORY_TYPE_CLOUDOPS",
     "CATEGORY_TYPE_AWS",
     "CATEGORY_TYPE_AWS_S3"
    ],
    "actionDescription": "S3 lifecycle policies enable you to automatically transition objects to different storage classes or delete them when they are no longer needed. This action finds all S3 buckets without lifecycle policies. ",
    "actionEntryFunction": "aws_find_s3_buckets_without_lifecycle_policies",
    "actionIsCheck": true,
    "actionIsRemediation": false,
    "actionNeedsCredential": true,
    "actionNextHop": [],
    "actionNextHopParameterMapping": {},
    "actionNouns": null,
    "actionOutputType": "ACTION_OUTPUT_TYPE_LIST",
    "actionSupportsIteration": true,
    "actionSupportsPoll": true,
    "actionTitle": "AWS Find S3 Buckets without Lifecycle Policies",
    "actionType": "LEGO_TYPE_AWS",
    "actionVerbs": null,
    "actionVersion": "1.0.0",
    "action_modified": false,
    "action_uuid": "01cb410b7247b1803c9d41cfd23853bf405b7a603ef52a9d535ed675ed961909",
    "collapsed": true,
    "condition_enabled": true,
    "continueOnError": false,
    "credentialsJson": {},
    "description": "S3 lifecycle policies enable you to automatically transition objects to different storage classes or delete them when they are no longer needed. This action finds all S3 buckets without lifecycle policies. ",
    "execution_data": {
     "last_date_success_run_cell": "2023-05-16T08:46:51.456Z"
    },
    "id": 4,
    "index": 4,
    "inputData": [
     {
      "region": {
       "constant": false,
       "value": "region"
      }
     }
    ],
    "inputschema": [
     {
      "properties": {
       "region": {
        "default": "",
        "description": "AWS Region of S3 buckets.",
        "title": "Region",
        "type": "string"
       }
      },
      "required": [],
      "title": "aws_find_s3_buckets_without_lifecycle_policies",
      "type": "object"
     }
    ],
    "jupyter": {
     "outputs_hidden": true,
     "source_hidden": true
    },
    "language": "python",
    "legotype": "LEGO_TYPE_AWS",
    "name": "AWS Find S3 Buckets without Lifecycle Policies",
    "orderProperties": [
     "region"
    ],
    "outputParams": {
     "output_name": "buckets_without_policy",
     "output_name_enabled": true,
     "output_runbook_enabled": false,
     "output_runbook_name": ""
    },
    "printOutput": true,
    "startcondition": "not bucket_names",
    "tags": [
     "aws_find_s3_buckets_without_lifecycle_policies"
    ],
    "title": "AWS Find S3 Buckets without Lifecycle Policies",
    "uuid": "01cb410b7247b1803c9d41cfd23853bf405b7a603ef52a9d535ed675ed961909",
    "version": "1.0.0"
   },
   "outputs": [],
   "source": [
    "##\n",
    "##  Copyright (c) 2023 unSkript, Inc\n",
    "##  All rights reserved.\n",
    "##\n",
    "from pydantic import BaseModel, Field\n",
    "from unskript.legos.aws.aws_list_all_regions.aws_list_all_regions import aws_list_all_regions\n",
    "from unskript.legos.aws.aws_get_s3_buckets.aws_get_s3_buckets import aws_get_s3_buckets\n",
    "from typing import List, Optional, Tuple\n",
    "import pprint\n",
    "\n",
    "\n",
    "from beartype import beartype\n",
    "@beartype\n",
    "def aws_find_s3_buckets_without_lifecycle_policies_printer(output):\n",
    "    if output is None:\n",
    "        return\n",
    "    pprint.pprint(output)\n",
    "\n",
    "\n",
    "@beartype\n",
    "def aws_find_s3_buckets_without_lifecycle_policies(handle, region: str=\"\") -> Tuple:\n",
    "    \"\"\"aws_find_s3_buckets_without_lifecycle_policies List all the S3 buckets without lifecycle policies\n",
    "\n",
    "        :type handle: object\n",
    "        :param handle: Object returned from task.validate(...).\n",
    "\n",
    "        :type region: string\n",
    "        :param region: AWS Region of the bucket\n",
    "\n",
    "        :rtype: Status, List of all the S3 buckets without lifecycle policies with regions\n",
    "    \"\"\"\n",
    "    result = []\n",
    "    all_regions = [region]\n",
    "    if not region:\n",
    "        all_regions = aws_list_all_regions(handle)\n",
    "    for reg in all_regions:\n",
    "        try:\n",
    "            s3Session = handle.resource(\"s3\", region_name=reg)\n",
    "            response = aws_get_s3_buckets(handle, region=reg)\n",
    "            for bucket in response:\n",
    "                bucket_lifecycle_configuration = s3Session.BucketLifecycleConfiguration(bucket)\n",
    "                try:\n",
    "                    if bucket_lifecycle_configuration.rules:\n",
    "                        continue\n",
    "                except Exception:\n",
    "                    bucket_details = {}\n",
    "                    bucket_details[\"bucket_name\"] = bucket\n",
    "                    bucket_details[\"region\"] = reg\n",
    "                    result.append(bucket_details)\n",
    "        except Exception:\n",
    "            pass\n",
    "    if len(result) != 0:\n",
    "        return (False, result)\n",
    "    else:\n",
    "        return (True, None)\n",
    "\n",
    "\n",
    "\n",
    "\n",
    "task = Task(Workflow())\n",
    "task.configure(inputParamsJson='''{\n",
    "    \"region\": \"region\"\n",
    "    }''')\n",
    "task.configure(conditionsJson='''{\n",
    "    \"condition_enabled\": true,\n",
    "    \"condition_cfg\": \"not bucket_names\",\n",
    "    \"condition_result\": true\n",
    "    }''')\n",
    "task.configure(outputName=\"buckets_without_policy\")\n",
    "\n",
    "task.configure(printOutput=True)\n",
    "(err, hdl, args) = task.validate(vars=vars())\n",
    "if err is None:\n",
    "    task.execute(aws_find_s3_buckets_without_lifecycle_policies, lego_printer=aws_find_s3_buckets_without_lifecycle_policies_printer, hdl=hdl, args=args)"
   ]
  },
  {
   "cell_type": "markdown",
   "id": "199591ef-cb3a-49b7-b515-3c6998050320",
   "metadata": {
    "jupyter": {
     "source_hidden": false
    },
    "name": "Step 2A",
    "orderProperties": [],
    "tags": [],
    "title": "Step 2A"
   },
   "source": [
    "<h3 id=\"Create-List-of-Low-CPU-Utilization-RDS-Instances\">Create List of Buckets with No Lifecycle Policy</h3>\n",
    "<p>This action gets the list of&nbsp; S3 buckets from the tuple output in Step 1.</p>\n",
    "<blockquote>\n",
    "<p>This action takes the following parameters: <code>None</code></p>\n",
    "</blockquote>\n",
    "<blockquote>\n",
    "<p>This action captures the following output: <code>all_buckets_without_policy</code></p>\n",
    "</blockquote>"
   ]
  },
  {
   "cell_type": "code",
   "execution_count": 19,
   "id": "6a10e980-9f17-4436-9166-90ea130aa316",
   "metadata": {
    "collapsed": true,
    "credentialsJson": {},
    "customAction": true,
    "execution_data": {
     "last_date_success_run_cell": "2023-05-16T08:46:53.557Z"
    },
    "jupyter": {
     "outputs_hidden": true,
     "source_hidden": true
    },
    "name": "Create List of Buckets with No Lifecycle Policy",
    "orderProperties": [],
    "tags": [],
    "title": "Create List of Buckets with No Lifecycle Policy"
   },
   "outputs": [],
   "source": [
    "all_buckets_without_policy = []\n",
    "try:\n",
    "    for res in buckets_without_policy:\n",
    "        if type(res)==bool:\n",
    "            if res == False:\n",
    "                continue\n",
    "        elif type(res)==list:\n",
    "            if len(res)!=0:\n",
    "                all_buckets_without_policy=res\n",
    "except Exception:\n",
    "    for buck in bucket_names:\n",
    "        data_dict = {}\n",
    "        data_dict[\"region\"] = region\n",
    "        data_dict[\"bucket_name\"] = buck\n",
    "        all_buckets_without_policy.append(data_dict)\n",
    "print(all_buckets_without_policy)\n",
    "task.configure(outputName=\"all_buckets_without_policy\")"
   ]
  },
  {
   "cell_type": "markdown",
   "id": "978d3b61-2fd9-461d-89bd-534d2dcf3b63",
   "metadata": {
    "jupyter": {
     "source_hidden": false
    },
    "name": "Step 2",
    "orderProperties": [],
    "tags": [],
    "title": "Step 2"
   },
   "source": [
    "<h3 id=\"Delete-RDS-Instance\"><a id=\"2\" target=\"_self\" rel=\"nofollow\"></a>Attach Lifecycle Policy</h3>\n",
    "<p>This action attached a new lifecycle policy to the S3 buckets found in Step 1. From the listed input parameters, <code>expiration_days and nonconcurrent_days</code> have a default value of 30 days.</p>\n",
    "<blockquote>\n",
    "<p>This action takes the following parameters:&nbsp;<code>bucket_name, region, expiration_days, prefix, nonconcurrent_days</code></p>\n",
    "</blockquote>"
   ]
  },
  {
   "cell_type": "code",
   "execution_count": 21,
   "id": "8fcae72a-d600-4a8a-b103-6fa0afade0f9",
   "metadata": {
    "actionBashCommand": false,
    "actionCategories": [
     "CATEGORY_TYPE_CLOUDOPS",
     "CATEGORY_TYPE_AWS",
     "CATEGORY_TYPE_AWS_S3"
    ],
    "actionDescription": "Creates a new lifecycle configuration for the bucket or replaces an existing lifecycle configuration.",
    "actionEntryFunction": "aws_add_lifecycle_configuration_to_s3_bucket",
    "actionIsCheck": false,
    "actionIsRemediation": false,
    "actionNeedsCredential": true,
    "actionNextHop": null,
    "actionNextHopParameterMapping": null,
    "actionNouns": null,
    "actionOutputType": "ACTION_OUTPUT_TYPE_DICT",
    "actionSupportsIteration": true,
    "actionSupportsPoll": true,
    "actionTitle": "Add Lifecycle Configuration to AWS S3 Bucket",
    "actionType": "LEGO_TYPE_AWS",
    "actionVerbs": null,
    "actionVersion": "1.0.0",
    "action_modified": false,
    "action_uuid": "a55496e5f6dcbcdaeb22e734eea5363d34e60fa5c580b252ca16b022c0dbaf8f",
    "collapsed": true,
    "condition_enabled": true,
    "continueOnError": true,
    "credentialsJson": {},
    "description": "Creates a new lifecycle configuration for the bucket or replaces an existing lifecycle configuration.",
    "execution_data": {
     "last_date_success_run_cell": "2023-05-16T08:47:36.364Z"
    },
    "id": 1,
    "index": 1,
    "inputData": [
     {
      "bucket_name": {
       "constant": false,
       "value": "\"iter.get(\\\\\"bucket_name\\\\\")\""
      },
      "expiration_days": {
       "constant": false,
       "value": "expiration_days"
      },
      "noncurrent_days": {
       "constant": false,
       "value": "noncurrent_days"
      },
      "prefix": {
       "constant": false,
       "value": "prefix"
      },
      "region": {
       "constant": false,
       "value": "\"iter.get(\\\\\"region\\\\\")\""
      }
     }
    ],
    "inputschema": [
     {
      "properties": {
       "bucket_name": {
        "description": "The name of the bucket for which to set the configuration.",
        "title": "Bucket Name",
        "type": "string"
       },
       "expiration_days": {
        "default": 30,
        "description": "Specifies the expiration for the lifecycle of the object in the form of days. Eg: 30 (days)",
        "title": "Expiration Days",
        "type": "number"
       },
       "noncurrent_days": {
        "default": 30,
        "description": "Specifies the number of days an object is noncurrent before Amazon S3 permanently deletes the noncurrent object versions",
        "title": "Noncurrent Days",
        "type": "number"
       },
       "prefix": {
        "default": "",
        "description": "Prefix identifying one or more objects to which the rule applies.",
        "title": "Prefix",
        "type": "string"
       },
       "region": {
        "description": "AWS Region.",
        "title": "Region",
        "type": "string"
       }
      },
      "required": [
       "region",
       "bucket_name"
      ],
      "title": "aws_add_lifecycle_configuration_to_s3_bucket",
      "type": "object"
     }
    ],
    "iterData": [
     {
      "iter_enabled": true,
      "iter_item": {
       "bucket_name": "bucket_name",
       "region": "region"
      },
      "iter_list": {
       "constant": false,
       "objectItems": true,
       "value": "all_buckets_without_policy"
      }
     }
    ],
    "jupyter": {
     "outputs_hidden": true,
     "source_hidden": true
    },
    "language": "python",
    "legotype": "LEGO_TYPE_AWS",
    "name": "Add Lifecycle Configuration to AWS S3 Bucket",
    "orderProperties": [
     "region",
     "bucket_name",
     "expiration_days",
     "prefix",
     "noncurrent_days"
    ],
    "printOutput": true,
    "startcondition": "len(all_buckets_without_policy)!=0",
    "tags": [
     "aws_add_lifecycle_configuration_to_s3_bucket"
    ],
    "uuid": "a55496e5f6dcbcdaeb22e734eea5363d34e60fa5c580b252ca16b022c0dbaf8f",
    "version": "1.0.0"
   },
   "outputs": [],
   "source": [
    "##\n",
    "##  Copyright (c) 2023 unSkript, Inc\n",
    "##  All rights reserved.\n",
    "##\n",
    "from pydantic import BaseModel, Field\n",
    "from typing import Dict, Optional\n",
    "import pprint\n",
    "\n",
    "\n",
    "from beartype import beartype\n",
    "@beartype\n",
    "def aws_add_lifecycle_configuration_to_s3_bucket_printer(output):\n",
    "    if output is None:\n",
    "        return\n",
    "    pprint.pprint(output)\n",
    "\n",
    "\n",
    "\n",
    "@beartype\n",
    "def aws_add_lifecycle_configuration_to_s3_bucket(handle, region: str, bucket_name:str, expiration_days:int=30, prefix:str='', noncurrent_days:int=30) -> Dict:\n",
    "    \"\"\"aws_add_lifecycle_configuration_to_s3_bucket returns response of adding lifecycle configuration\n",
    "\n",
    "        :type handle: object\n",
    "        :param handle: Object returned from task.validate(...).\n",
    "\n",
    "        :type region: string\n",
    "        :param region: location of the bucket\n",
    "\n",
    "        :type bucket_name: string\n",
    "        :param bucket_name: The name of the bucket for which to set the configuration.\n",
    "\n",
    "        :type expiration_days: int\n",
    "        :param expiration_days: Specifies the expiration for the lifecycle of the object in the form of days. Eg: 30 (days)\n",
    "\n",
    "        :type prefix: string\n",
    "        :param prefix: location of the bucket\n",
    "\n",
    "        :type noncurrent_days: int\n",
    "        :param noncurrent_days: Specifies the number of days an object is noncurrent before Amazon S3 permanently deletes the noncurrent object versions.\n",
    "\n",
    "        :rtype: Dict of the response of adding lifecycle configuration\n",
    "    \"\"\"\n",
    "    s3Client = handle.client(\"s3\", region_name=region)\n",
    "    try:\n",
    "        lifecycle_config = {\n",
    "            'Rules': [\n",
    "                {\n",
    "                    'Expiration': {\n",
    "                        'Days': expiration_days,\n",
    "                    },\n",
    "                    'Filter': {\n",
    "                        'Prefix': ''\n",
    "                    },\n",
    "                    'Status': 'Enabled',\n",
    "                    'NoncurrentVersionExpiration': {\n",
    "                        'NoncurrentDays': noncurrent_days\n",
    "                    }\n",
    "                }\n",
    "            ]\n",
    "        }\n",
    "        bucket_name = 'testrunbook'\n",
    "        response = s3Client.put_bucket_lifecycle_configuration(\n",
    "            Bucket=bucket_name,\n",
    "            LifecycleConfiguration=lifecycle_config\n",
    "        )\n",
    "    except Exception as e:\n",
    "        raise e\n",
    "    return response\n",
    "\n",
    "\n",
    "\n",
    "\n",
    "task = Task(Workflow())\n",
    "task.configure(continueOnError=True)\n",
    "task.configure(inputParamsJson='''{\n",
    "    \"expiration_days\": \"int(expiration_days)\",\n",
    "    \"prefix\": \"prefix\",\n",
    "    \"noncurrent_days\": \"int(noncurrent_days)\",\n",
    "    \"bucket_name\": \"iter.get(\\\\\"bucket_name\\\\\")\",\n",
    "    \"region\": \"iter.get(\\\\\"region\\\\\")\"\n",
    "    }''')\n",
    "task.configure(iterJson='''{\n",
    "    \"iter_enabled\": true,\n",
    "    \"iter_list_is_const\": false,\n",
    "    \"iter_list\": \"all_buckets_without_policy\",\n",
    "    \"iter_parameter\": [\"bucket_name\",\"region\"]\n",
    "    }''')\n",
    "task.configure(conditionsJson='''{\n",
    "    \"condition_enabled\": true,\n",
    "    \"condition_cfg\": \"len(all_buckets_without_policy)!=0\",\n",
    "    \"condition_result\": true\n",
    "    }''')\n",
    "\n",
    "task.configure(printOutput=True)\n",
    "(err, hdl, args) = task.validate(vars=vars())\n",
    "if err is None:\n",
    "    task.execute(aws_add_lifecycle_configuration_to_s3_bucket, lego_printer=aws_add_lifecycle_configuration_to_s3_bucket_printer, hdl=hdl, args=args)"
   ]
  },
  {
   "cell_type": "markdown",
   "id": "44a6cf05-385b-445d-a503-ad4aa607a568",
   "metadata": {
    "jupyter": {
     "source_hidden": false
    },
    "name": "Conclusion",
    "orderProperties": [],
    "tags": [],
    "title": "Conclusion"
   },
   "source": [
    "<h3 id=\"Conclusion&para;\">Conclusion</h3>\n",
    "<p>In this Runbook, we were able to find AWS S3 buckets without lifecycle policies and attach one to them. To view the full platform capabilities of unSkript please visit&nbsp;<a href=\"https://us.app.unskript.io\" target=\"_blank\" rel=\"noopener\">us.app.unskript.io</a></p>"
   ]
  }
 ],
 "metadata": {
  "execution_data": {
   "parameters": [
    "region",
    "threshold_days"
   ],
   "runbook_name": "Add Lifecycle Policy to S3 Buckets"
  },
  "kernelspec": {
   "display_name": "unSkript (Build: 1166)",
   "language": "python",
   "name": "python3"
  },
  "language_info": {
   "codemirror_mode": {
    "name": "ipython",
    "version": 3
   },
   "file_extension": ".py",
   "mimetype": "text/x-python",
   "name": "python",
   "nbconvert_exporter": "python",
   "pygments_lexer": "ipython3",
   "version": "3.10.6"
  },
  "outputParameterSchema": {
   "properties": {},
   "required": [],
   "title": "Schema",
   "type": "object"
  },
  "parameterSchema": {
   "properties": {
    "bucket_names": {
     "description": "List of S3 buckets to attach the lifecycle policy to.",
     "title": "bucket_names",
     "type": "array"
    },
    "expiration_days": {
     "default": 30,
     "description": "Specifies the expiration of the lifecycle of the S3 bucker. By default it is considered to be 30 days. ",
     "title": "expiration_days",
     "type": "number"
    },
    "noncurrent_days": {
     "default": 30,
     "description": "Specifies the transition rule for the lifecycle rule that describes when noncurrent objects transition to a specific storage class.",
     "title": "noncurrent_days",
     "type": "number"
    },
    "prefix": {
     "default": " ",
     "description": "Prefix identifying one or more of the rules that applies to the object",
     "title": "prefix",
     "type": "string"
    },
    "region": {
     "description": "AWS region to find the S3 buckets",
     "title": "region",
     "type": "string"
    }
   },
   "required": [
    "region"
   ],
   "title": "Schema",
   "type": "object"
  },
  "parameterValues": {},
  "vscode": {
   "interpreter": {
    "hash": "b0fa6594d8f4cbf19f97940f81e996739fb7646882a419484c72d19e05852a7e"
   }
  }
 },
 "nbformat": 4,
 "nbformat_minor": 5
}
