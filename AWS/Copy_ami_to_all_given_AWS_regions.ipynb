{
    "cells": [
        {
            "cell_type": "markdown",
            "id": "07894245-58bd-475f-b722-8d7513fbe063",
            "metadata": {
                "jupyter": {
                    "source_hidden": false
                },
                "name": "Copy AMI to All Given AWS Regions",
                "orderProperties": [],
                "tags": [],
                "title": "Copy AMI to All Given AWS Regions"
            },
            "source": [
                "<img src=\"https://unskript.com/assets/favicon.png\" alt=\"unSkript.com\" width=\"100\" height=\"100\"/> \n",
                "<h1> unSkript Runbooks </h1>\n",
                "<div class=\"alert alert-block alert-success\">\n",
                "    <b> This runbook demonstrates How to copy AMI from one region to multiple AWS regions using unSkript legos.</b>\n",
                "</div>\n",
                "\n",
                "<br>\n",
                "\n",
                "<center><h2>Copy AMI to All Given AWS Regions</h2></center>\n",
                "\n",
                "# Steps Overview\n",
                "    1. Used a AWS CLI command to get all available gegions.\n",
                "    \"aws ec2 describe-regions --all-regions --query 'Regions[].{Name:RegionName}' --output text\"\n",
                "    2. Used a AWS CLI command to copy AMI from one region to multiple AWS regions.\n",
                "    \"aws ec2 copy-image --source-image-id <ami-id> --source-region <source-region> --region <dest-region> --name <ami-name>\""
            ]
        },
        {
            "cell_type": "markdown",
            "id": "5573f1a7-bf52-4f6c-a458-c7c84092f8b9",
            "metadata": {
                "jupyter": {
                    "source_hidden": false
                },
                "name": "Get AWS All Regions",
                "orderProperties": [],
                "tags": [],
                "title": "Get AWS All Regions"
            },
            "source": [
                "Here we will use unSkript Run Command via AWS CLI Lego. This lego takes aws_command as input. These inputs are used to get the all available AWS regions."
            ]
        },
        {
            "cell_type": "code",
            "execution_count": 81,
            "id": "7076ee03-6e21-46fd-bf8a-78a3df435bf1",
            "metadata": {
                "accessType": "ACCESS_TYPE_UNSPECIFIED",
                "actionBashCommand": false,
                "actionNeedsCredential": true,
                "actionRequiredLinesInCode": [],
                "actionSupportsIteration": true,
                "actionSupportsPoll": true,
                "action_uuid": "1db371aff42291641eb6ba83d7acc3fe28e2468d83be1552e8258dc878c0f70d",
                "condition_enabled": true,
                "continueOnError": false,
                "createTime": "1970-01-01T00:00:00Z",
                "credentialsJson": {
                    "credential_id": "0b438eba-0627-4f6d-b998-a4c604f20e3c",
                    "credential_name": "DevRole",
                    "credential_type": "CONNECTOR_TYPE_AWS"
                },
                "currentVersion": "0.1.0",
                "description": " Execute command using AWS CLI",
                "execution_data": {
                    "last_date_success_run_cell": "2022-11-07T10:15:34.051Z"
                },
                "id": 173,
                "index": 173,
                "inputData": [
                    {
                        "aws_command": {
                            "constant": false,
                            "value": "\"aws ec2 describe-regions --all-regions --query 'Regions[].{Name:RegionName}' --output text\""
                        }
                    }
                ],
                "inputschema": [
                    {
                        "properties": {
                            "aws_command": {
                                "description": "AWS Command eg \"aws ec2 describe-instances\"",
                                "title": "AWS Command",
                                "type": "string"
                            }
                        },
                        "required": [
                            "aws_command"
                        ],
                        "title": "aws_execute_cli_command",
                        "type": "object"
                    }
                ],
                "jupyter": {
                    "source_hidden": true
                },
                "legotype": "LEGO_TYPE_AWS",
                "name": " Get AWS All Regions",
                "nouns": [
                    "command",
                    "aws"
                ],
                "orderProperties": [
                    "aws_command"
                ],
                "output": {
                    "type": ""
                },
                "outputParams": {
                    "output_name": "DestinationRegions",
                    "output_name_enabled": true
                },
                "startcondition": "not DestinationRegions",
                "tags": [
                    "aws_execute_cli_command"
                ],
                "title": " Get AWS All Regions",
                "verbs": [
                    "run"
                ]
            },
            "outputs": [],
            "source": [
                "#\n",
                "# Copyright (c) 2021 unSkript.com\n",
                "# All rights reserved.\n",
                "#\n",
                "\n",
                "from pydantic import BaseModel, Field\n",
                "import pprint\n",
                "\n",
                "\n",
                "from beartype import beartype\n",
                "@beartype\n",
                "def aws_execute_cli_command_printer(output):\n",
                "    if output is None:\n",
                "        return\n",
                "    print(output)\n",
                "\n",
                "\n",
                "@beartype\n",
                "def aws_execute_cli_command(handle, aws_command: str) -> list:\n",
                "    result = handle.aws_cli_command(aws_command)\n",
                "    if result is None or result.returncode != 0:\n",
                "        print(\n",
                "            f\"Error while executing command ({aws_command}): {result}\")\n",
                "        return str()\n",
                "    result_op = list(result.stdout.split(\"\\n\"))\n",
                "    list_region = [x for x in result_op if x != '']\n",
                "    return list_region\n",
                "\n",
                "\n",
                "task = Task(Workflow())\n",
                "task.configure(inputParamsJson='''{\n",
                "    \"aws_command\": \"\\\\\"aws ec2 describe-regions --all-regions --query 'Regions[].{Name:RegionName}' --output text\\\\\"\"\n",
                "    }''')\n",
                "task.configure(conditionsJson='''{\n",
                "    \"condition_enabled\": true,\n",
                "    \"condition_cfg\": \"not DestinationRegions\",\n",
                "    \"condition_result\": true\n",
                "    }''')\n",
                "task.configure(outputName=\"DestinationRegions\")\n",
                "(err, hdl, args) = task.validate(vars=vars())\n",
                "if err is None:\n",
                "    task.execute(aws_execute_cli_command, lego_printer=aws_execute_cli_command_printer, hdl=hdl, args=args)"
            ]
        },
        {
            "cell_type": "markdown",
            "id": "96407399-f877-484b-8fd3-96ed27eea1d4",
            "metadata": {
                "jupyter": {
                    "source_hidden": false
                },
                "name": "Run Command via AWS CLI",
                "orderProperties": [],
                "tags": [],
                "title": "Run Command via AWS CLI"
            },
            "source": [
                "Here we will use unSkript Run Command via AWS CLI Lego. This lego takes aws_command, AMI_Id, SourceRegion, DestinationRegion, Name as input. These inputs are used to copy AMI from one region to multiple AWS regions."
            ]
        },
        {
            "cell_type": "code",
            "execution_count": 82,
            "id": "37069e8c-c0a5-4948-9d50-3319bfddd508",
            "metadata": {
                "accessType": "ACCESS_TYPE_UNSPECIFIED",
                "actionBashCommand": false,
                "actionNeedsCredential": true,
                "actionRequiredLinesInCode": [],
                "actionSupportsIteration": true,
                "actionSupportsPoll": true,
                "action_uuid": "1db371aff42291641eb6ba83d7acc3fe28e2468d83be1552e8258dc878c0f70d",
                "continueOnError": true,
                "createTime": "1970-01-01T00:00:00Z",
                "credentialsJson": {
                    "credential_id": "0b438eba-0627-4f6d-b998-a4c604f20e3c",
                    "credential_name": "DevRole",
                    "credential_type": "CONNECTOR_TYPE_AWS"
                },
                "currentVersion": "0.1.0",
                "description": " Execute command using AWS CLI",
                "execution_data": {
                    "last_date_success_run_cell": "2022-11-03T11:43:30.407Z"
                },
                "id": 173,
                "index": 173,
                "inputData": [
                    {
                        "AMI_Id": {
                            "constant": false,
                            "value": "AMI_Id"
                        },
                        "DestinationRegion": {
                            "constant": false,
                            "value": "iter_item"
                        },
                        "Name": {
                            "constant": false,
                            "value": "Name"
                        },
                        "SourceRegion": {
                            "constant": false,
                            "value": "SourceRegion"
                        },
                        "aws_command": {
                            "constant": false,
                            "value": "\"aws ec2 copy-image --source-image-id {AMI_Id} --source-region {SourceRegion} --region {DestinationRegion} --name {Name}\""
                        }
                    }
                ],
                "inputschema": [
                    {
                        "properties": {
                            "AMI_Id": {
                                "default": "",
                                "description": "AMI ID",
                                "title": "AMI_Id",
                                "type": "string"
                            },
                            "DestinationRegion": {
                                "default": "",
                                "description": "Destination Regions",
                                "title": "DestinationRegion",
                                "type": "string"
                            },
                            "Name": {
                                "default": "",
                                "description": "AMI Name",
                                "title": "Name",
                                "type": "string"
                            },
                            "SourceRegion": {
                                "default": "\"us-west-2\"",
                                "description": "Source Region",
                                "title": "SourceRegion",
                                "type": "string"
                            },
                            "aws_command": {
                                "default": "",
                                "description": "AWS Command eg \"aws ec2 describe-instances\"",
                                "title": "AWS Command",
                                "type": "string"
                            }
                        },
                        "required": [
                            "aws_command"
                        ],
                        "title": "aws_execute_cli_command",
                        "type": "object"
                    }
                ],
                "iterData": [
                    {
                        "iter_enabled": true,
                        "iter_item": "DestinationRegion",
                        "iter_list": {
                            "constant": false,
                            "objectItems": false,
                            "value": "DestinationRegions"
                        }
                    }
                ],
                "jupyter": {
                    "source_hidden": true
                },
                "legotype": "LEGO_TYPE_AWS",
                "name": " Run Command via AWS CLI",
                "nouns": [
                    "command",
                    "aws"
                ],
                "orderProperties": [
                    "aws_command",
                    "AMI_Id",
                    "SourceRegion",
                    "DestinationRegion",
                    "Name"
                ],
                "output": {
                    "type": ""
                },
                "tags": [
                    "aws_execute_cli_command"
                ],
                "title": " Run Command via AWS CLI",
                "verbs": [
                    "run"
                ]
            },
            "outputs": [],
            "source": [
                "#\n",
                "# Copyright (c) 2021 unSkript.com\n",
                "# All rights reserved.\n",
                "#\n",
                "from pydantic import BaseModel, Field\n",
                "import pprint\n",
                "from beartype import beartype\n",
                "\n",
                "\n",
                "@beartype\n",
                "def aws_execute_cli_command_printer(output):\n",
                "    if output is None:\n",
                "        return\n",
                "    pprint.pprint(output)\n",
                "\n",
                "\n",
                "@beartype\n",
                "def aws_execute_cli_command(handle, aws_command: str, AMI_Id: str, SourceRegion: str, DestinationRegion: str, Name: str) -> str:\n",
                "    aws_command = aws_command.format(AMI_Id=AMI_Id, SourceRegion=SourceRegion, DestinationRegion=DestinationRegion, Name=Name)\n",
                "    result = handle.aws_cli_command(aws_command)\n",
                "    if result is None or result.returncode != 0:\n",
                "        print(\n",
                "            f\"Error while executing command ({aws_command}): {result}\")\n",
                "        return str()\n",
                "\n",
                "    return result.stdout\n",
                "\n",
                "\n",
                "task = Task(Workflow())\n",
                "task.configure(continueOnError=True)\n",
                "task.configure(inputParamsJson='''{\n",
                "    \"AMI_Id\": \"AMI_Id\",\n",
                "    \"DestinationRegion\": \"iter_item\",\n",
                "    \"SourceRegion\": \"SourceRegion\",\n",
                "    \"aws_command\": \"\\\\\"aws ec2 copy-image --source-image-id {AMI_Id} --source-region {SourceRegion} --region {DestinationRegion} --name {Name}\\\\\"\",\n",
                "    \"Name\": \"Name\"\n",
                "    }''')\n",
                "task.configure(iterJson='''{\n",
                "    \"iter_enabled\": true,\n",
                "    \"iter_list_is_const\": false,\n",
                "    \"iter_list\": \"DestinationRegions\",\n",
                "    \"iter_parameter\": \"DestinationRegion\"\n",
                "    }''')\n",
                "(err, hdl, args) = task.validate(vars=vars())\n",
                "if err is None:\n",
                "    task.execute(aws_execute_cli_command, lego_printer=aws_execute_cli_command_printer, hdl=hdl, args=args)"
            ]
        },
        {
            "cell_type": "markdown",
            "id": "c0303e5a-8cb0-4889-a8d0-4c743fef8e17",
            "metadata": {
                "jupyter": {
                    "source_hidden": false
                },
                "name": "Conclusion",
                "orderProperties": [],
                "tags": [],
                "title": "Conclusion"
            },
            "source": [
                "   In this Runbook, we demonstrated the use of unSkript's AWS actions to perform copy AMI from one region to multiple AWS regions.\n",
                "   To view the full platform capabilities of unSkript please visit https://us.app.unskript.io"
            ]
        }
    ],
    "metadata": {
        "execution_data": {
            "environment_id": "1499f27c-6406-4fbd-bd1b-c6f92800018f",
            "environment_name": "Staging",
            "execution_id": "",
            "inputs_for_searched_lego": "",
            "notebook_id": "cfa8e2ee-63ab-41a2-b297-2c7af3c6db42.ipynb",
            "parameters": [
                "SourceRegion",
                "AMI_Id",
                "DestinationRegions",
                "Name"
            ],
            "runbook_name": "Copy ami to all AWS regions",
            "search_string": "",
            "show_tool_tip": false,
            "tenant_id": "982dba5f-d9df-48ae-a5bf-ec1fc94d4882",
            "tenant_url": "https://tenant-staging.alpha.unskript.io",
            "user_email_id": "harshal.bangre@unskript.com",
            "workflow_id": "ee628900-ea09-4603-9922-151fca6ee7ed"
        },
        "kernelspec": {
            "display_name": "Python 3.10.6 64-bit",
            "language": "python",
            "name": "python3"
        },
        "language_info": {
            "file_extension": ".py",
            "mimetype": "text/x-python",
            "name": "python",
            "pygments_lexer": "ipython3",
            "version": "3.10.6"
        },
        "parameterSchema": {
            "properties": {
                "AMI_Id": {
                    "default": "ami-0ee860f3dab8ad294",
                    "description": "AMI Id",
                    "title": "AMI_Id",
                    "type": "string"
                },
                "DestinationRegions": {
                    "default": "['us']",
                    "description": "Array of regions where need to copy the image",
                    "title": "DestinationRegions",
                    "type": "array"
                },
                "Name": {
                    "default": "BaseUbuntuAMIWithUser",
                    "description": "AMI Name",
                    "title": "Name",
                    "type": "string"
                },
                "SourceRegion": {
                    "default": "us-west-2",
                    "description": "Source Region from where need to copy the image",
                    "title": "SourceRegion",
                    "type": "string"
                }
            },
            "required": [],
            "title": "Schema",
            "type": "object"
        },
        "parameterValues": null,
        "vscode": {
            "interpreter": {
                "hash": "e8899eb02dfbc033aab5733bdae1bd213fa031d40331094008e8673d99ebab63"
            }
        }
    },
    "nbformat": 4,
    "nbformat_minor": 5
}
