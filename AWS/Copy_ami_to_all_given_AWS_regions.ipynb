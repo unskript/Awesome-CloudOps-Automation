{
 "cells": [
  {
   "cell_type": "markdown",
   "id": "07894245-58bd-475f-b722-8d7513fbe063",
   "metadata": {
    "jupyter": {
     "source_hidden": false
    },
    "name": "Copy AMI to All Given AWS Regions",
    "orderProperties": [],
    "tags": [],
    "title": "Copy AMI to All Given AWS Regions"
   },
   "source": [
    "<center>\n",
    "<img src=\"https://storage.googleapis.com/unskript-website/assets/favicon.png\" alt=\"unSkript.com\" width=\"100\" height=\"100\"/> \n",
    "<h1> unSkript Runbooks </h1>\n",
    "<div class=\"alert alert-block alert-success\">\n",
    "    <b> This runbook demonstrates how to copy an AMI from one region to multiple AWS regions using unSkript actions.</b>\n",
    "</div>\n",
    "\n",
    "<br>\n",
    "</center>\n",
    "<center><h2>Copy AMI To All Given AWS Regions</h2></center>\n",
    "\n",
    "# Steps Overview\n",
    "   1)[Get All AWS Regions](#1)</br>\n",
    "   2)[Get AMI Name](#2)</br>\n",
    "   3)[Copy AMI To Other AWS Regions](#3)"
   ]
  },
  {
   "cell_type": "markdown",
   "id": "5573f1a7-bf52-4f6c-a458-c7c84092f8b9",
   "metadata": {
    "jupyter": {
     "source_hidden": false
    },
    "name": "Step-1",
    "orderProperties": [],
    "tags": [],
    "title": "Step-1"
   },
   "source": [
    "### <a id=\"1\"> Get All AWS Regions</a>\n",
    "Here in step-1 we will collect all the regions from the AWS by using a command `aws ec2 describe-regions --all-regions --query 'Regions[].{Name:RegionName}' --output text`. This action only executes when the user doesn't provide the destination regions.\n",
    "\n",
    ">Input parameters: `aws_command`\n",
    "\n",
    ">Output variable: `regions`"
   ]
  },
  {
   "cell_type": "code",
   "execution_count": null,
   "id": "5437ce43-a9a6-4f99-b6ce-3c3e585512ff",
   "metadata": {
    "accessType": "ACCESS_TYPE_UNSPECIFIED",
    "actionBashCommand": false,
    "actionNeedsCredential": true,
    "actionRequiredLinesInCode": [],
    "actionSupportsIteration": true,
    "actionSupportsPoll": true,
    "action_uuid": "1db371aff42291641eb6ba83d7acc3fe28e2468d83be1552e8258dc878c0f70d",
    "condition_enabled": true,
    "continueOnError": false,
    "createTime": "1970-01-01T00:00:00Z",
    "credentialsJson": {},
    "currentVersion": "0.1.0",
    "description": " Execute command using AWS CLI",
    "execution_data": {
     "last_date_success_run_cell": "2022-12-06T05:26:25.710Z"
    },
    "id": 190,
    "index": 190,
    "inputData": [
     {
      "aws_command": {
       "constant": false,
       "value": "\"aws ec2 describe-regions --all-regions --query 'Regions[].{Name:RegionName}' --output text\""
      }
     }
    ],
    "inputschema": [
     {
      "properties": {
       "aws_command": {
        "description": "AWS Command eg \"aws ec2 describe-instances\"",
        "title": "AWS Command",
        "type": "string"
       }
      },
      "required": [
       "aws_command"
      ],
      "title": "aws_execute_cli_command",
      "type": "object"
     }
    ],
    "jupyter": {
     "source_hidden": true
    },
    "legotype": "LEGO_TYPE_AWS",
    "name": " Get All AWS Regions",
    "nouns": [
     "command",
     "aws"
    ],
    "orderProperties": [
     "aws_command"
    ],
    "output": {
     "type": ""
    },
    "outputParams": {
     "output_name": "regions",
     "output_name_enabled": true
    },
    "startcondition": "not destination_regions",
    "tags": [
     "aws_execute_cli_command"
    ],
    "title": " Get All AWS Regions",
    "verbs": [
     "run"
    ]
   },
   "outputs": [],
   "source": [
    "#\n",
    "# Copyright (c) 2021 unSkript.com\n",
    "# All rights reserved.\n",
    "#\n",
    "\n",
    "from pydantic import BaseModel, Field\n",
    "import pprint\n",
    "\n",
    "\n",
    "from beartype import beartype\n",
    "@beartype\n",
    "def aws_execute_cli_command_printer(output):\n",
    "    if output is None:\n",
    "        return\n",
    "    pprint.pprint(output)\n",
    "\n",
    "\n",
    "@beartype\n",
    "def aws_execute_cli_command(handle, aws_command: str) -> str:\n",
    "\n",
    "    result = handle.aws_cli_command(aws_command)\n",
    "    if result is None or result.returncode != 0:\n",
    "        print(\n",
    "            f\"Error while executing command ({aws_command}): {result}\")\n",
    "        return str()\n",
    "\n",
    "    return result.stdout\n",
    "\n",
    "\n",
    "task = Task(Workflow())\n",
    "task.configure(conditionsJson='''{\n",
    "    \"condition_enabled\": true,\n",
    "    \"condition_cfg\": \"not destination_regions\",\n",
    "    \"condition_result\": true\n",
    "    }''')\n",
    "task.configure(outputName=\"regions\")\n",
    "task.configure(inputParamsJson='''{\n",
    "    \"aws_command\": \"\\\\\"aws ec2 describe-regions --all-regions --query 'Regions[].{Name:RegionName}' --output text\\\\\"\"\n",
    "    }''')\n",
    "(err, hdl, args) = task.validate(vars=vars())\n",
    "if err is None:\n",
    "    task.execute(aws_execute_cli_command, lego_printer=aws_execute_cli_command_printer, hdl=hdl, args=args)"
   ]
  },
  {
   "cell_type": "markdown",
   "id": "dbe210d2-4ae1-4208-971c-b227f428374c",
   "metadata": {
    "jupyter": {
     "source_hidden": false
    },
    "name": "Step-1A",
    "orderProperties": [],
    "tags": [],
    "title": "Step-1A"
   },
   "source": [
    "### Modify Region Output\n",
    "In this action, we convert the output from step 1 to a python list, which will be consumed in subsequent cells.\n",
    "\n",
    ">Output variable: `destination_regions`"
   ]
  },
  {
   "cell_type": "code",
   "execution_count": null,
   "id": "7ad05b8a-17ce-410d-8d21-c7c87834259e",
   "metadata": {
    "customAction": true,
    "execution_data": {
     "last_date_success_run_cell": "2022-12-06T17:48:02.215Z"
    },
    "jupyter": {
     "source_hidden": true
    },
    "name": "Modify Region Output",
    "orderProperties": [],
    "tags": [],
    "title": "Modify Region Output",
    "credentialsJson": {}
   },
   "outputs": [],
   "source": [
    "try:\n",
    "    if regions:\n",
    "        result_op = list(regions.split(\"\\n\"))\n",
    "        destination_regions = [x for x in result_op if x != '']\n",
    "except Exception as e:\n",
    "    pass"
   ]
  },
  {
   "cell_type": "markdown",
   "id": "7004eefd-6ae7-4b3f-b71a-d9ca92080b4c",
   "metadata": {
    "jupyter": {
     "source_hidden": false
    },
    "name": "Step-2",
    "orderProperties": [],
    "tags": [],
    "title": "Step-2"
   },
   "source": [
    "### <a id=\"2\"> Get AMI Name</a>\n",
    "Here in step-2 we will findout the name of AMI using the given AMI Id with `aws ec2 describe-images --region \"+ source_region +\" --image-ids \"+ ami_id +\" --query 'Images[*].[Name]' --output text`.\n",
    "\n",
    ">Input parameters: `aws_command`\n",
    "\n",
    ">Output variable: `ami_name`"
   ]
  },
  {
   "cell_type": "code",
   "execution_count": null,
   "id": "4decf7c0-8770-4e21-8377-422e21344d65",
   "metadata": {
    "accessType": "ACCESS_TYPE_UNSPECIFIED",
    "actionBashCommand": false,
    "actionNeedsCredential": true,
    "actionRequiredLinesInCode": [],
    "actionSupportsIteration": true,
    "actionSupportsPoll": true,
    "action_uuid": "1db371aff42291641eb6ba83d7acc3fe28e2468d83be1552e8258dc878c0f70d",
    "continueOnError": false,
    "createTime": "1970-01-01T00:00:00Z",
    "credentialsJson": {},
    "currentVersion": "0.1.0",
    "description": " Execute command using AWS CLI",
    "execution_data": {
     "last_date_success_run_cell": "2022-12-06T05:26:55.776Z"
    },
    "id": 190,
    "index": 190,
    "inputData": [
     {
      "aws_command": {
       "constant": false,
       "value": "\"aws ec2 describe-images --region \"+ source_region +\" --image-ids \"+ ami_id +\" --query 'Images[*].[Name]' --output text\""
      }
     }
    ],
    "inputschema": [
     {
      "properties": {
       "aws_command": {
        "description": "AWS Command eg \"aws ec2 describe-instances\"",
        "title": "AWS Command",
        "type": "string"
       }
      },
      "required": [
       "aws_command"
      ],
      "title": "aws_execute_cli_command",
      "type": "object"
     }
    ],
    "jupyter": {
     "source_hidden": true
    },
    "legotype": "LEGO_TYPE_AWS",
    "name": "Get Name of AMI",
    "nouns": [
     "command",
     "aws"
    ],
    "orderProperties": [
     "aws_command"
    ],
    "output": {
     "type": ""
    },
    "outputParams": {
     "output_name": "ami_name",
     "output_name_enabled": true
    },
    "tags": [
     "aws_execute_cli_command"
    ],
    "title": "Get Name of AMI",
    "verbs": [
     "run"
    ]
   },
   "outputs": [],
   "source": [
    "#\n",
    "# Copyright (c) 2021 unSkript.com\n",
    "# All rights reserved.\n",
    "#\n",
    "\n",
    "from pydantic import BaseModel, Field\n",
    "import pprint\n",
    "\n",
    "\n",
    "from beartype import beartype\n",
    "@beartype\n",
    "def aws_execute_cli_command_printer(output):\n",
    "    if output is None:\n",
    "        return\n",
    "    pprint.pprint(output)\n",
    "\n",
    "\n",
    "@beartype\n",
    "def aws_execute_cli_command(handle, aws_command: str) -> str:\n",
    "\n",
    "    result = handle.aws_cli_command(aws_command)\n",
    "    if result is None or result.returncode != 0:\n",
    "        print(\n",
    "            f\"Error while executing command ({aws_command}): {result}\")\n",
    "        return str()\n",
    "\n",
    "    return result.stdout\n",
    "\n",
    "\n",
    "task = Task(Workflow())\n",
    "task.configure(inputParamsJson='''{\n",
    "    \"aws_command\": \"\\\\\"aws ec2 describe-images --region \\\\\"+ source_region +\\\\\" --image-ids \\\\\"+ ami_id +\\\\\" --query 'Images[*].[Name]' --output text\\\\\"\"\n",
    "    }''')\n",
    "task.configure(outputName=\"ami_name\")\n",
    "(err, hdl, args) = task.validate(vars=vars())\n",
    "if err is None:\n",
    "    task.execute(aws_execute_cli_command, lego_printer=aws_execute_cli_command_printer, hdl=hdl, args=args)"
   ]
  },
  {
   "cell_type": "markdown",
   "id": "b52bf456-17b8-40bf-9f4b-30096bad3071",
   "metadata": {
    "jupyter": {
     "source_hidden": false
    },
    "name": "Step-2A",
    "orderProperties": [],
    "tags": [],
    "title": "Step-2A"
   },
   "source": [
    "### Create Batch Command to Copy AMI\n",
    "In this action, we create the batch command to copy AMI to the given region(s) and pass the output to step 3 as iterator.\n",
    "\n",
    ">Output variable: `aws_command`"
   ]
  },
  {
   "cell_type": "code",
   "execution_count": null,
   "id": "b8963ffb-25b7-4e8b-91c4-94cfaf2d9fb0",
   "metadata": {
    "customAction": true,
    "execution_data": {
     "last_date_success_run_cell": "2022-12-06T05:31:54.697Z"
    },
    "jupyter": {
     "source_hidden": true
    },
    "name": "Create Batch Command to Copy AMI",
    "orderProperties": [],
    "tags": [],
    "title": "Create Batch Command to Copy AMI",
    "credentialsJson": {}
   },
   "outputs": [],
   "source": [
    "aws_command = []\n",
    "copy_command = \"aws ec2 copy-image --source-image-id {AMI_Id} --source-region {SourceRegion} --region {DestinationRegion} --name {Name}\"\n",
    "if destination_regions:\n",
    "    for region in destination_regions:\n",
    "        command = copy_command.format(AMI_Id=ami_id, SourceRegion=source_region,\n",
    "                                     DestinationRegion=region, Name=ami_name.replace('\\n',''))\n",
    "        aws_command.append(command)"
   ]
  },
  {
   "cell_type": "markdown",
   "id": "96407399-f877-484b-8fd3-96ed27eea1d4",
   "metadata": {
    "jupyter": {
     "source_hidden": false
    },
    "name": "Step-3",
    "orderProperties": [],
    "tags": [],
    "title": "Step-3"
   },
   "source": [
    "### <a id=\"3\"> Copy AMI To Other AWS Regions</a>\n",
    "In this action, we will provide all the necessary inputs to copy the AMI from one region to another. If the user did not provide the destination region, we use the output from step 1 and copy the AMI to all destination regions by using `aws ec2 copy-image --source-image-id <ami-id> --source-region <source-region> --region <dest-region> --name <ami-name>`.\n",
    "\n",
    ">Input parameters: `aws_command`\n",
    "\n",
    ">Output variable: `command_output`"
   ]
  },
  {
   "cell_type": "code",
   "execution_count": null,
   "id": "446d05f7-eded-46ab-8de4-e7a6ccd2dbf9",
   "metadata": {
    "accessType": "ACCESS_TYPE_UNSPECIFIED",
    "actionBashCommand": false,
    "actionNeedsCredential": true,
    "actionRequiredLinesInCode": [],
    "actionSupportsIteration": true,
    "actionSupportsPoll": true,
    "action_uuid": "1db371aff42291641eb6ba83d7acc3fe28e2468d83be1552e8258dc878c0f70d",
    "condition_enabled": false,
    "continueOnError": true,
    "createTime": "1970-01-01T00:00:00Z",
    "credentialsJson": {},
    "currentVersion": "0.1.0",
    "description": " Execute command using AWS CLI",
    "execution_data": {
     "last_date_success_run_cell": "2022-12-06T05:32:10.076Z"
    },
    "id": 190,
    "index": 190,
    "inputData": [
     {
      "aws_command": {
       "constant": false,
       "value": "iter_item"
      }
     }
    ],
    "inputschema": [
     {
      "properties": {
       "aws_command": {
        "description": "AWS Command eg \"aws ec2 describe-instances\"",
        "title": "AWS Command",
        "type": "string"
       }
      },
      "required": [
       "aws_command"
      ],
      "title": "aws_execute_cli_command",
      "type": "object"
     }
    ],
    "iterData": [
     {
      "iter_enabled": true,
      "iter_item": "aws_command",
      "iter_list": {
       "constant": false,
       "objectItems": false,
       "value": "aws_command"
      }
     }
    ],
    "jupyter": {
     "source_hidden": true
    },
    "legotype": "LEGO_TYPE_AWS",
    "name": " Copy AMI To Other AWS Regions",
    "nouns": [
     "command",
     "aws"
    ],
    "orderProperties": [
     "aws_command"
    ],
    "output": {
     "type": ""
    },
    "outputParams": {
     "output_name": "command_output",
     "output_name_enabled": true
    },
    "startcondition": "abcd",
    "tags": [
     "aws_execute_cli_command"
    ],
    "title": " Copy AMI To Other AWS Regions",
    "verbs": [
     "run"
    ]
   },
   "outputs": [],
   "source": [
    "#\n",
    "# Copyright (c) 2021 unSkript.com\n",
    "# All rights reserved.\n",
    "#\n",
    "\n",
    "from pydantic import BaseModel, Field\n",
    "import pprint\n",
    "\n",
    "\n",
    "from beartype import beartype\n",
    "@beartype\n",
    "def aws_execute_cli_command_printer(output):\n",
    "    if output is None:\n",
    "        return\n",
    "    pprint.pprint(output)\n",
    "\n",
    "\n",
    "@beartype\n",
    "def aws_execute_cli_command(handle, aws_command: str) -> str:\n",
    "\n",
    "    result = handle.aws_cli_command(aws_command)\n",
    "    if result is None or result.returncode != 0:\n",
    "        print(\n",
    "            f\"Error while executing command ({aws_command}): {result}\")\n",
    "        return str()\n",
    "\n",
    "    return result.stdout\n",
    "\n",
    "\n",
    "task = Task(Workflow())\n",
    "task.configure(continueOnError=True)\n",
    "task.configure(inputParamsJson='''{\n",
    "    \"aws_command\": \"iter_item\"\n",
    "    }''')\n",
    "task.configure(iterJson='''{\n",
    "    \"iter_enabled\": true,\n",
    "    \"iter_list_is_const\": false,\n",
    "    \"iter_list\": \"aws_command\",\n",
    "    \"iter_parameter\": \"aws_command\"\n",
    "    }''')\n",
    "task.configure(conditionsJson='''{\n",
    "    \"condition_enabled\": false,\n",
    "    \"condition_cfg\": \"abcd\",\n",
    "    \"condition_result\": true\n",
    "    }''')\n",
    "task.configure(outputName=\"command_output\")\n",
    "\n",
    "(err, hdl, args) = task.validate(vars=vars())\n",
    "if err is None:\n",
    "    task.execute(aws_execute_cli_command, lego_printer=aws_execute_cli_command_printer, hdl=hdl, args=args)"
   ]
  },
  {
   "cell_type": "markdown",
   "id": "c0303e5a-8cb0-4889-a8d0-4c743fef8e17",
   "metadata": {
    "jupyter": {
     "source_hidden": false
    },
    "name": "Conclusion",
    "orderProperties": [],
    "tags": [],
    "title": "Conclusion"
   },
   "source": [
    "   In this Runbook, we demonstrated the use of unSkript's AWS actions to perform copy AMI from one region to multiple AWS regions.\n",
    "   To view the full platform capabilities of unSkript please visit https://us.app.unskript.io"
   ]
  }
 ],
 "metadata": {
  "execution_data": {
   "runbook_name": "Copy AMI to All Given AWS Regions",
   "parameters": [
    "ami_id",
    "destination_regions",
    "source_region"
   ]
  },
  "kernelspec": {
   "display_name": "Python 3",
   "language": "python",
   "name": "python3"
  },
  "language_info": {
   "file_extension": ".py",
   "mimetype": "text/x-python",
   "name": "python",
   "pygments_lexer": "ipython3",
   "version": "3.10.6 (tags/v3.10.6:9c7b4bd, Aug  1 2022, 21:53:49) [MSC v.1932 64 bit (AMD64)]"
  },
  "parameterSchema": {
   "properties": {
    "ami_id": {
     "description": "ID of Amazon Machine Image (AMI) is provides the information required to launch an instance.",
     "title": "ami_id",
     "type": "string"
    },
    "destination_regions": {
     "description": "Regions where AMI needs to be copied. If left blank it will automatically select all the available regions of AWS. e.g. [\"us-west-1\",\"eu-east-1\"]",
     "title": "destination_regions",
     "type": "array"
    },
    "source_region": {
     "description": "Name of the region from which AMI needs to copy",
     "title": "source_region",
     "type": "string"
    }
   },
   "required": [],
   "title": "Schema",
   "type": "object"
  },
  "parameterValues": null,
  "vscode": {
   "interpreter": {
    "hash": "e8899eb02dfbc033aab5733bdae1bd213fa031d40331094008e8673d99ebab63"
   }
  }
 },
 "nbformat": 4,
 "nbformat_minor": 5
}