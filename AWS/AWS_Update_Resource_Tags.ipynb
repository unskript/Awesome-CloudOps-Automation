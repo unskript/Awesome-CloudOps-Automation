{
 "cells": [
  {
   "cell_type": "markdown",
   "id": "79251bc7-c6cd-4344-a8d5-754bf62eb17e",
   "metadata": {
    "jupyter": {
     "source_hidden": false
    },
    "name": "Update Tags for AWS Resources",
    "orderProperties": [],
    "tags": [],
    "title": "Update Tags for AWS Resources"
   },
   "source": [
    "<p><img src=\"https://storage.googleapis.com/unskript-website/assets/favicon.png\" alt=\"unSkript.com\" width=\"100\" height=\"100\"></p>\n",
    "<h1 id=\"unSkript-Runbooks-&para;\">unSkript Runbooks <a class=\"jp-InternalAnchorLink\" href=\"#-unSkript-Runbooks-\" target=\"_self\" rel=\"noopener\">&para;</a><a class=\"jp-InternalAnchorLink\" href=\"#unSkript-Runbooks-&para;\" target=\"_self\">&para;</a></h1>\n",
    "<div class=\"alert alert-block alert-success\"><strong>&nbsp;This runbook demonstrates How to Update Tags for AWS Resources using unSkript legos.</strong></div>\n",
    "<p>&nbsp;</p>\n",
    "<center>\n",
    "<h2 id=\"Enforce-Mandatory-Tags-Across-All-AWS-Resources&para;\">Update Tags for selected AWS Resources<a class=\"jp-InternalAnchorLink\" href=\"#Enforce-Mandatory-Tags-Across-All-AWS-Resources\" target=\"_self\" rel=\"noopener\">&para;</a><a class=\"jp-InternalAnchorLink\" href=\"#Enforce-Mandatory-Tags-Across-All-AWS-Resources&para;\" target=\"_self\">&para;</a></h2>\n",
    "</center>\n",
    "<h1 id=\"Steps-Overview&para;\">Steps Overview<a class=\"jp-InternalAnchorLink\" href=\"#Steps-Overview\" target=\"_self\" rel=\"noopener\">&para;</a><a class=\"jp-InternalAnchorLink\" href=\"#Steps-Overview&para;\" target=\"_self\">&para;</a></h1>\n",
    "<ol>\n",
    "<li>List all the Resources ARNs in the given region with the selected tag.</li>\n",
    "<li>WE'll print a list of tagged resources along with the current value of the tag. Select and change as desired.</li>\n",
    "<li>Update the Selected tags at AWS.</li>\n",
    "</ol>"
   ]
  },
  {
   "cell_type": "code",
   "execution_count": 29,
   "id": "0ec169e9-f3f2-400d-9b58-e4a598769e61",
   "metadata": {
    "accessType": "ACCESS_TYPE_UNSPECIFIED",
    "actionBashCommand": false,
    "actionNeedsCredential": true,
    "actionRequiredLinesInCode": [],
    "actionSupportsIteration": true,
    "actionSupportsPoll": true,
    "action_modified": true,
    "action_uuid": "aee6cabb55096d5cf6098faa7e4a94135e8f5b0572b36d4b3252d7745fae595b",
    "continueOnError": false,
    "createTime": "1970-01-01T00:00:00Z",
    "credentialsJson": {},
    "currentVersion": "0.1.0",
    "customCell": true,
    "description": "AWS Get Untagged Resources",
    "execution_data": {
     "last_date_success_run_cell": "2023-06-07T15:26:03.051Z"
    },
    "id": 187,
    "index": 187,
    "inputData": [
     {
      "region": {
       "constant": false,
       "value": "Region"
      },
      "tag": {
       "constant": false,
       "value": "Tag_Key"
      }
     }
    ],
    "inputschema": [
     {
      "properties": {
       "region": {
        "default": "",
        "description": "AWS Region.",
        "title": "Region",
        "type": "string"
       },
       "tag": {
        "default": "\"Tag_Key\"",
        "description": "The Tag to search for",
        "title": "tag",
        "type": "string"
       }
      },
      "required": [
       "region",
       "tag"
      ],
      "title": "aws_get_resources_with_tag",
      "type": "object"
     }
    ],
    "jupyter": {
     "source_hidden": true
    },
    "legotype": "LEGO_TYPE_AWS",
    "name": "AWS Get Resources With Tag",
    "nouns": [
     "aws",
     "resources"
    ],
    "orderProperties": [
     "region",
     "tag"
    ],
    "output": {
     "type": ""
    },
    "outputParams": {
     "output_name": "taggedResources",
     "output_name_enabled": true,
     "output_runbook_enabled": false,
     "output_runbook_name": ""
    },
    "printOutput": true,
    "service_id_enabled": false,
    "tags": [
     "aws_get_untagged_resources"
    ],
    "title": "AWS Get Resources With Tag",
    "verbs": [
     "list"
    ]
   },
   "outputs": [],
   "source": [
    "##  Copyright (c) 2021 unSkript, Inc\n",
    "##  All rights reserved.\n",
    "##\n",
    "from typing import List, Dict\n",
    "from pydantic import BaseModel, Field\n",
    "from unskript.connectors.aws import aws_get_paginator\n",
    "import pprint\n",
    "\n",
    "from beartype import beartype\n",
    "@beartype\n",
    "def aws_get_resources_with_tag_printer(output):\n",
    "    if output is None:\n",
    "        return\n",
    "    pprint.pprint(f\"there are {len(output)} resources with tag {Tag_Key}. We can fix a max of 20.\" )\n",
    "\n",
    "\n",
    "@beartype\n",
    "def aws_get_resources_with_tag(handle, region: str, tag:str) -> List:\n",
    "    \"\"\"aws_get_resources_with_tag Returns an List of Untagged Resources.\n",
    "\n",
    "        :type handle: object\n",
    "        :param handle: Object returned from task.validate(...).\n",
    "\n",
    "        :type region: str\n",
    "        :param region: Region to filter resources.\n",
    "\n",
    "        :rtype: List of untagged resources.\n",
    "    \"\"\"\n",
    "\n",
    "    ec2Client = handle.client('resourcegroupstaggingapi', region_name=region)\n",
    "    result = []\n",
    "\n",
    "\n",
    "    try:\n",
    "        response = aws_get_paginator(ec2Client, \"get_resources\", \"ResourceTagMappingList\")\n",
    "        for resources in response:\n",
    "            if  resources[\"Tags\"]:\n",
    "                #has tags\n",
    "                #print(tagged_instance)\n",
    "                #get all the keys for the instance\n",
    "                for kv in resources['Tags']:\n",
    "                    key = kv[\"Key\"]\n",
    "                    if tag == key:\n",
    "                        temp = {\"arn\": resources[\"ResourceARN\"], \"value\":kv[\"Value\"]}\n",
    "                        result.append(temp)\n",
    "\n",
    "    except Exception as error:\n",
    "        result.append({\"error\":error})\n",
    "\n",
    "    return result\n",
    "\n",
    "\n",
    "task = Task(Workflow())\n",
    "task.configure(printOutput=True)\n",
    "task.configure(inputParamsJson='''{\n",
    "    \"region\": \"Region\",\n",
    "    \"tag\": \"Tag_Key\"\n",
    "    }''')\n",
    "task.configure(outputName=\"taggedResources\")\n",
    "\n",
    "(err, hdl, args) = task.validate(vars=vars())\n",
    "if err is None:\n",
    "    task.execute(aws_get_resources_with_tag, lego_printer=aws_get_resources_with_tag_printer, hdl=hdl, args=args)"
   ]
  },
  {
   "cell_type": "code",
   "execution_count": 54,
   "id": "151b0bf1-c0d4-45d7-b384-1b55077824da",
   "metadata": {
    "customAction": true,
    "execution_data": {
     "last_date_success_run_cell": "2023-06-07T15:45:25.213Z"
    },
    "jupyter": {
     "source_hidden": true
    },
    "name": "tag updater",
    "orderProperties": [],
    "tags": [],
    "title": "tag updater",
    "credentialsJson": {}
   },
   "outputs": [],
   "source": [
    "import ipywidgets as widgets\n",
    "from IPython.display import display\n",
    "\n",
    "# List of dictionaries with ARN and value\n",
    "data = taggedResources\n",
    "\n",
    "# Create an HBox for each dictionary entry with checkbox and text field\n",
    "checkboxes = []\n",
    "text_fields = []\n",
    "for entry in data:\n",
    "    checkbox = widgets.Checkbox(value=False, description=entry['arn'])\n",
    "    text_field = widgets.Text(description='Value:', value=entry['value'])\n",
    "    hbox = widgets.HBox([checkbox, text_field])\n",
    "    checkboxes.append(checkbox)\n",
    "    text_fields.append(text_field)\n",
    "\n",
    "# Output list of dictionaries\n",
    "updated_list = []\n",
    "\n",
    "# Function to handle checkbox change\n",
    "def checkbox_changed(change):\n",
    "    checkbox = change.owner\n",
    "    index = checkboxes.index(checkbox)\n",
    "    entry = data[index]\n",
    "    entry['checked'] = checkbox.value\n",
    "    update_output()\n",
    "\n",
    "# Function to handle text field change\n",
    "def text_field_changed(change):\n",
    "    text_field = change.owner\n",
    "    index = text_fields.index(text_field)\n",
    "    entry = data[index]\n",
    "    entry['value'] = text_field.value\n",
    "    update_output()\n",
    "\n",
    "# Register the checkbox change handler for each checkbox\n",
    "for checkbox in checkboxes:\n",
    "    checkbox.observe(checkbox_changed, 'value')\n",
    "\n",
    "# Register the text field change handler for each text field\n",
    "for text_field in text_fields:\n",
    "    text_field.observe(text_field_changed, 'value')\n",
    "\n",
    "# Function to update the output list of dictionaries\n",
    "def update_output():\n",
    "    global updated_list\n",
    "    updated_list = [{'arn': entry['arn'], 'value': entry['value']} for entry in data if 'checked' in entry and entry['checked']]\n",
    "\n",
    "# Display the checkboxes and text fields\n",
    "checkboxes_widgets = []\n",
    "for hbox in zip(checkboxes, text_fields):\n",
    "    checkboxes_widgets.append(widgets.HBox(hbox))\n",
    "display(*checkboxes_widgets)\n",
    "\n",
    "\n"
   ]
  },
  {
   "cell_type": "code",
   "execution_count": 55,
   "id": "4d8ec1e4-9b88-46cb-a15c-db64d4531ee2",
   "metadata": {
    "customAction": true,
    "execution_data": {
     "last_date_success_run_cell": "2023-06-07T15:45:32.204Z"
    },
    "orderProperties": [],
    "tags": [],
    "credentialsJson": {}
   },
   "outputs": [],
   "source": [
    "print(output)"
   ]
  },
  {
   "cell_type": "markdown",
   "id": "ce65fdd0-ee64-42d0-90a6-0fe1c0f54608",
   "metadata": {
    "jupyter": {
     "source_hidden": false
    },
    "name": "AWS Attach Tags to Resources",
    "orderProperties": [],
    "tags": [],
    "title": "AWS Attach Tags to Resources"
   },
   "source": [
    "Here we will use unSkript AWS Attach Tags to Resources Lego. This lego take handle, resource_arn: list, tag_key: str, tag_value: str, region: str as input. This input is used to attach mandatory tags to all untagged Resources."
   ]
  },
  {
   "cell_type": "code",
   "execution_count": 149,
   "id": "b0bf6aee-2b72-4348-8c38-fe3783619da6",
   "metadata": {
    "accessType": "ACCESS_TYPE_UNSPECIFIED",
    "actionBashCommand": false,
    "actionCategories": [
     "CATEGORY_TYPE_COST_OPT",
     "CATEGORY_TYPE_DEVOPS",
     "CATEGORY_TYPE_AWS"
    ],
    "actionIsCheck": false,
    "actionNeedsCredential": true,
    "actionNextHopParameterMapping": {},
    "actionOutputType": "",
    "actionRequiredLinesInCode": [],
    "actionSupportsIteration": true,
    "actionSupportsPoll": true,
    "action_modified": false,
    "action_uuid": "878cb7819ecb4687ecfa8c6143365d10fe6b127adeb4a27fd71d06a3a2243d22",
    "checkEnabled": false,
    "continueOnError": false,
    "createTime": "1970-01-01T00:00:00Z",
    "credentialsJson": {},
    "currentVersion": "0.1.0",
    "description": "AWS Attach Tags to Resources",
    "execution_data": {
     "last_date_success_run_cell": "2023-06-04T03:20:41.106Z"
    },
    "id": 260,
    "index": 260,
    "inputData": [
     {
      "region": {
       "constant": false,
       "value": "Region"
      },
      "resource_arn": {
       "constant": false,
       "value": "checked_list"
      },
      "tag_key": {
       "constant": false,
       "value": "Tag_Key"
      },
      "tag_value": {
       "constant": false,
       "value": "\"01/01/2025\""
      }
     }
    ],
    "inputschema": [
     {
      "properties": {
       "region": {
        "description": "AWS Region.",
        "title": "Region",
        "type": "string"
       },
       "resource_arn": {
        "description": "Resource ARNs.",
        "items": {},
        "title": "Resource ARN",
        "type": "array"
       },
       "tag_key": {
        "description": "Resource Tag Key.",
        "title": "Tag Key",
        "type": "string"
       },
       "tag_value": {
        "description": "Resource Tag Value.",
        "title": "Tag Value",
        "type": "string"
       }
      },
      "required": [
       "region",
       "resource_arn",
       "tag_key",
       "tag_value"
      ],
      "title": "aws_attach_tags_to_resources",
      "type": "object"
     }
    ],
    "isUnskript": false,
    "iterData": [
     {
      "iter_enabled": false,
      "iter_item": "resource_arn",
      "iter_list": {
       "constant": false,
       "objectItems": false,
       "value": "checked_list"
      }
     }
    ],
    "jupyter": {
     "source_hidden": true
    },
    "legotype": "LEGO_TYPE_AWS",
    "name": "AWS Attach Tags to Resources",
    "nouns": [],
    "orderProperties": [
     "resource_arn",
     "tag_key",
     "tag_value",
     "region"
    ],
    "output": {
     "type": ""
    },
    "printOutput": true,
    "tags": [
     "aws_attach_tags_to_resources"
    ],
    "verbs": []
   },
   "outputs": [],
   "source": [
    "##  Copyright (c) 2021 unSkript, Inc\n",
    "##  All rights reserved.\n",
    "##\n",
    "import pprint\n",
    "from typing import Dict\n",
    "from pydantic import BaseModel, Field\n",
    "\n",
    "from beartype import beartype\n",
    "@beartype\n",
    "def aws_attach_tags_to_resources_printer(output):\n",
    "    if output is None:\n",
    "        return\n",
    "    pprint.pprint(output)\n",
    "\n",
    "@beartype\n",
    "def aws_attach_tags_to_resources(\n",
    "    handle,\n",
    "    resource_arn: list,\n",
    "    tag_key: str,\n",
    "    tag_value: str,\n",
    "    region: str\n",
    "    ) -> Dict:\n",
    "    \"\"\"aws_attach_tags_to_resources Returns an Dict of resource info.\n",
    "\n",
    "        :type handle: object\n",
    "        :param handle: Object returned from task.validate(...).\n",
    "\n",
    "        :type resource_arn: list\n",
    "        :param resource_arn: Resource ARNs.\n",
    "\n",
    "        :type tag_key: str\n",
    "        :param tag_key: Resource Tag Key.\n",
    "\n",
    "        :type tag_value: str\n",
    "        :param tag_value: Resource Tag value.\n",
    "\n",
    "        :type region: str\n",
    "        :param region: Region to filter resources.\n",
    "\n",
    "        :rtype: Dict of resource info.\n",
    "    \"\"\"\n",
    "    ec2Client = handle.client('resourcegroupstaggingapi', region_name=region)\n",
    "    result = {}\n",
    "    try:\n",
    "        response = ec2Client.tag_resources(\n",
    "            ResourceARNList=resource_arn,\n",
    "            Tags={tag_key: tag_value}\n",
    "            )\n",
    "        result = response\n",
    "\n",
    "    except Exception as error:\n",
    "        result[\"error\"] = error\n",
    "\n",
    "    return result\n",
    "\n",
    "\n",
    "\n",
    "task = Task(Workflow())\n",
    "task.configure(continueOnError=False)\n",
    "task.configure(inputParamsJson='''{\n",
    "    \"region\": \"Region\",\n",
    "    \"resource_arn\": \"checked_list\",\n",
    "    \"tag_key\": \"Tag_Key\",\n",
    "    \"tag_value\": \"\\\\\"01/01/2025\\\\\"\"\n",
    "    }''')\n",
    "task.configure(iterJson='''{\n",
    "    \"iter_enabled\": false,\n",
    "    \"iter_list_is_const\": false,\n",
    "    \"iter_list\": \"checked_list\",\n",
    "    \"iter_parameter\": \"resource_arn\"\n",
    "    }''')\n",
    "task.configure(printOutput=True)\n",
    "(err, hdl, args) = task.validate(vars=vars())\n",
    "if err is None:\n",
    "    task.execute(aws_attach_tags_to_resources, lego_printer=aws_attach_tags_to_resources_printer, hdl=hdl, args=args)"
   ]
  },
  {
   "cell_type": "markdown",
   "id": "a8280ac4-d504-44d2-b5ea-d97f7ca672c8",
   "metadata": {
    "jupyter": {
     "source_hidden": false
    },
    "name": "Conclusion",
    "orderProperties": [],
    "tags": [],
    "title": "Conclusion"
   },
   "source": [
    "In this Runbook, we demonstrated the use of unSkript's AWS legos to attach tags. This Runbook gets the list of all untagged resources of a given region, discovers tag keys of the given region and attaches mandatory tags to all the untagged resource. To view the full platform capabilities of unSkript please visit https://unskript.com"
   ]
  }
 ],
 "metadata": {
  "execution_data": {
   "runbook_name": "AWS Update Resource Tags",
   "parameters": [
    "Region",
    "Tag_Key",
    "Tag_Value"
   ]
  },
  "kernelspec": {
   "display_name": "unSkript (Build: 1185)",
   "language": "python",
   "name": "python3"
  },
  "language_info": {
   "codemirror_mode": {
    "name": "ipython",
    "version": 3
   },
   "file_extension": ".py",
   "mimetype": "text/x-python",
   "name": "python",
   "nbconvert_exporter": "python",
   "pygments_lexer": "ipython3",
   "version": "3.9.6"
  },
  "outputParameterSchema": null,
  "parameterSchema": {
   "definitions": null,
   "properties": {
    "Region": {
     "default": "us-west-2",
     "description": "Resources Region",
     "title": "Region",
     "type": "string"
    },
    "Tag_Key": {
     "default": "owner",
     "description": "Mandatory Tag key for resources (only use when tag need to be attached to all the resources)",
     "title": "Tag_Key",
     "type": "string"
    },
    "Tag_Value": {
     "description": "Mandatory Tag Value for resources (only use when tag need to be attached to all the resources)",
     "title": "Tag_Value",
     "type": "string"
    }
   },
   "required": [],
   "title": "Schema",
   "type": "object"
  }
 },
 "nbformat": 4,
 "nbformat_minor": 5
}