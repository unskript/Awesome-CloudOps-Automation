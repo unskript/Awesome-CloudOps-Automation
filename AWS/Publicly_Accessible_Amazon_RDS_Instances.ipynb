{
    "cells": [
        {
            "cell_type": "markdown",
            "id": "c0e8284f-f6a8-4b7f-971c-8fb037002354",
            "metadata": {
                "jupyter": {
                    "source_hidden": false
                },
                "name": "Runbook Overview",
                "orderProperties": [],
                "tags": [],
                "title": "Runbook Overview"
            },
            "source": [
                "<center>\n",
                "<img src=\"https://unskript.com/assets/favicon.png\" alt=\"unSkript.com\" width=\"100\" height=\"100\"/> \n",
                "<h1> unSkript Runbooks </h1>\n",
                "<div class=\"alert alert-block alert-success\">\n",
                "    <h3><b>Objective</b></h3>\n",
                "    <b>Get publicly accessible amazon RDS instances using unSkript actions.</b>\n",
                "</div>\n",
                "\n",
                "<br>\n",
                "</center>\n",
                "<center><h2>Publicly Accessible Amazon RDS Instances</h2></center>\n",
                "\n",
                "# Steps Overview\n",
                "   1)[List Publicly Accessible RDS Instances](#1)</br>"
            ]
        },
        {
            "attachments": {},
            "cell_type": "markdown",
            "id": "a5330644-14df-48e7-b090-24857f8675a6",
            "metadata": {
                "jupyter": {
                    "source_hidden": false
                },
                "name": "Gather Information",
                "orderProperties": [],
                "tags": [],
                "title": "Gather Information"
            },
            "source": [
                "### AWS List All Regions\n",
                "In this action, we shall use user given region list if not provided we generate all region AWS list.\n",
                "\n",
                ">Output variable: `region`"
            ]
        },
        {
            "cell_type": "code",
            "execution_count": 4,
            "id": "a847a577-df37-4d84-91fa-8936fdc81c23",
            "metadata": {
                "accessType": "ACCESS_TYPE_UNSPECIFIED",
                "actionBashCommand": false,
                "actionNeedsCredential": true,
                "actionRequiredLinesInCode": [],
                "actionSupportsIteration": true,
                "actionSupportsPoll": true,
                "action_uuid": "708ea4af5f8fe7096a15b3a52c4a657606bab9e177386fad7a847341ed607d64",
                "condition_enabled": true,
                "createTime": "1970-01-01T00:00:00Z",
                "credentialsJson": {
                    "credential_id": "0b438eba-0627-4f6d-b998-a4c604f20e3c",
                    "credential_name": "DevRole",
                    "credential_type": "CONNECTOR_TYPE_AWS"
                },
                "currentVersion": "0.1.0",
                "description": "List all available AWS Regions",
                "id": 200,
                "index": 200,
                "inputschema": [
                    {
                        "properties": {},
                        "title": "aws_list_all_regions",
                        "type": "object"
                    }
                ],
                "jupyter": {
                    "source_hidden": true
                },
                "legotype": "LEGO_TYPE_AWS",
                "name": "AWS List All Regions",
                "nouns": [
                    "regions",
                    "aws"
                ],
                "orderProperties": [],
                "output": {
                    "type": ""
                },
                "outputParams": {
                    "output_name": "region",
                    "output_name_enabled": true
                },
                "startcondition": "not region",
                "tags": [
                    "aws_list_all_regions"
                ],
                "title": "AWS List All Regions",
                "trusted": true,
                "verbs": [
                    "list"
                ]
            },
            "outputs": [],
            "source": [
                "#\n",
                "# Copyright (c) 2021 unSkript.com\n",
                "# All rights reserved.\n",
                "#\n",
                "\n",
                "from pydantic import BaseModel, Field\n",
                "from typing import Dict, List\n",
                "import pprint\n",
                "\n",
                "from beartype import beartype\n",
                "@beartype\n",
                "def aws_list_all_regions_printer(output):\n",
                "    if output is None:\n",
                "        return\n",
                "    pprint.pprint(output)\n",
                "\n",
                "\n",
                "@beartype\n",
                "def aws_list_all_regions(handle) -> List:\n",
                "    \"\"\"aws_list_all_regions lists all the AWS regions\n",
                "\n",
                "        :type handle: object\n",
                "        :param handle: Object returned from Task Validate\n",
                "\n",
                "        :rtype: Result List of result\n",
                "    \"\"\"\n",
                "\n",
                "    result = handle.aws_cli_command(\"aws ec2 describe-regions --all-regions --query 'Regions[].{Name:RegionName}' --output text\")\n",
                "    if result is None or result.returncode != 0:\n",
                "        print(\"Error while executing command : {}\".format(result))\n",
                "        return str()\n",
                "    result_op = list(result.stdout.split(\"\\n\"))\n",
                "    list_region = [x for x in result_op if x != '']\n",
                "    return list_region\n",
                "\n",
                "\n",
                "task = Task(Workflow())\n",
                "task.configure(conditionsJson='''{\n",
                "    \"condition_enabled\": true,\n",
                "    \"condition_cfg\": \"not region\",\n",
                "    \"condition_result\": true\n",
                "    }''')\n",
                "task.configure(outputName=\"region\")\n",
                "\n",
                "(err, hdl, args) = task.validate(vars=vars())\n",
                "if err is None:\n",
                "    task.execute(aws_list_all_regions, lego_printer=aws_list_all_regions_printer, hdl=hdl, args=args)"
            ]
        },
        {
            "attachments": {},
            "cell_type": "markdown",
            "id": "5d6e0429-7d5d-4a6e-aae2-165235fdeb49",
            "metadata": {
                "jupyter": {
                    "source_hidden": false
                },
                "name": "Step-1",
                "orderProperties": [],
                "tags": [],
                "title": "Step-1"
            },
            "source": [
                "### <a id=\"1\">List Publicly Accessible RDS Instances</a>\n",
                "Using unSkript's <b>AWS List Publicly Accessible RDS Instances</b> action, we will fetch all the publicly accessible instances from the list of DB instances.\n",
                "\n",
                ">Input parameters: `region`\n",
                "\n",
                ">Output variable: `rds_instances`"
            ]
        },
        {
            "cell_type": "code",
            "execution_count": 5,
            "id": "f6106839-4a69-4576-92c1-082eada390fd",
            "metadata": {
                "accessType": "ACCESS_TYPE_UNSPECIFIED",
                "actionBashCommand": false,
                "actionNeedsCredential": true,
                "actionRequiredLinesInCode": [],
                "actionSupportsIteration": true,
                "actionSupportsPoll": true,
                "action_uuid": "281432114503d97b98fb007ba2407a47323150576b4ec7276a592964419552f9",
                "collapsed": true,
                "continueOnError": true,
                "createTime": "1970-01-01T00:00:00Z",
                "credentialsJson": {
                    "credential_id": "0b438eba-0627-4f6d-b998-a4c604f20e3c",
                    "credential_name": "DevRole",
                    "credential_type": "CONNECTOR_TYPE_AWS"
                },
                "currentVersion": "0.1.0",
                "description": "AWS List Publicly Accessible RDS Instances",
                "execution_data": {
                    "last_date_success_run_cell": "2022-12-28T18:49:45.409Z"
                },
                "id": 199,
                "index": 199,
                "inputData": [
                    {
                        "region": {
                            "constant": false,
                            "value": "iter_item"
                        }
                    }
                ],
                "inputschema": [
                    {
                        "properties": {
                            "region": {
                                "description": "Region of the RDS.",
                                "title": "Region for RDS",
                                "type": "string"
                            }
                        },
                        "title": "aws_publicly_accessible_db_instances",
                        "type": "object"
                    }
                ],
                "iterData": [
                    {
                        "iter_enabled": true,
                        "iter_item": "region",
                        "iter_list": {
                            "constant": false,
                            "objectItems": false,
                            "value": "region"
                        }
                    }
                ],
                "jupyter": {
                    "outputs_hidden": true,
                    "source_hidden": true
                },
                "legotype": "LEGO_TYPE_AWS",
                "name": "AWS List Publicly Accessible RDS Instances",
                "nouns": [
                    "aws",
                    "rds",
                    "instance"
                ],
                "orderProperties": [
                    "region"
                ],
                "output": {
                    "type": ""
                },
                "outputParams": {
                    "output_name": "rds_instances",
                    "output_name_enabled": true
                },
                "tags": [
                    "aws_publicly_accessible_db_instances"
                ],
                "title": "AWS List Publicly Accessible RDS Instances",
                "trusted": true,
                "verbs": [
                    "list"
                ]
            },
            "outputs": [],
            "source": [
                "##\n",
                "##  Copyright (c) 2021 unSkript, Inc\n",
                "##  All rights reserved.\n",
                "##\n",
                "from pydantic import BaseModel, Field\n",
                "from typing import Optional, List, Tuple\n",
                "from unskript.legos.aws.aws_list_all_regions.aws_list_all_regions import aws_list_all_regions\n",
                "from unskript.connectors.aws import aws_get_paginator\n",
                "import pprint\n",
                "\n",
                "\n",
                "from beartype import beartype\n",
                "@beartype\n",
                "def aws_publicly_accessible_db_instances_printer(output):\n",
                "    if output is None:\n",
                "        return\n",
                "    pprint.pprint(output)\n",
                "\n",
                "\n",
                "@beartype\n",
                "def aws_publicly_accessible_db_instances(handle, region: str = \"\") -> Tuple:\n",
                "    \"\"\"aws_publicly_accessible_db_instances Gets all Publicly accessible DBs\n",
                "\n",
                "        :type handle: object\n",
                "        :param handle: Object returned from task.validate(...).\n",
                "\n",
                "        :type region: string\n",
                "        :param region: Region of the RDS.\n",
                "\n",
                "        :rtype: List with publicly accessible RDS instances.\n",
                "    \"\"\"\n",
                "    result = []\n",
                "    all_regions = [region]\n",
                "    if not region:\n",
                "        all_regions = aws_list_all_regions(handle)\n",
                "    for reg in all_regions:\n",
                "        try:\n",
                "            ec2Client = handle.client('rds', region_name=reg)\n",
                "            response = aws_get_paginator(ec2Client, \"describe_db_instances\", \"DBInstances\")\n",
                "            for db in response:\n",
                "                db_instance_dict = {}\n",
                "                if db['PubliclyAccessible']:\n",
                "                    db_instance_dict[\"region\"] = reg\n",
                "                    db_instance_dict[\"instance\"] = db['DBInstanceIdentifier']\n",
                "                    result.append(db_instance_dict)\n",
                "        except Exception as error:\n",
                "            pass\n",
                "    execution_flag = False\n",
                "    if len(result) > 0:\n",
                "        execution_flag = True\n",
                "    output = (execution_flag, result)\n",
                "    return output\n",
                "\n",
                "\n",
                "task = Task(Workflow())\n",
                "task.configure(continueOnError=True)\n",
                "task.configure(inputParamsJson='''{\n",
                "    \"region\": \"iter_item\"\n",
                "    }''')\n",
                "task.configure(iterJson='''{\n",
                "    \"iter_enabled\": true,\n",
                "    \"iter_list_is_const\": false,\n",
                "    \"iter_list\": \"region\",\n",
                "    \"iter_parameter\": \"region\"\n",
                "    }''')\n",
                "task.configure(outputName=\"rds_instances\")\n",
                "(err, hdl, args) = task.validate(vars=vars())\n",
                "if err is None:\n",
                "    task.execute(aws_publicly_accessible_db_instances, lego_printer=aws_publicly_accessible_db_instances_printer, hdl=hdl, args=args)"
            ]
        },
        {
            "cell_type": "markdown",
            "id": "276822d0-0d5d-4023-83c1-3f8b12e50568",
            "metadata": {
                "jupyter": {
                    "source_hidden": false
                },
                "name": "Conclusion",
                "orderProperties": [],
                "tags": [],
                "title": "Conclusion"
            },
            "source": [
                "In this Runbook, we demonstrated the use of unSkript's AWS actions. This runbook help to find Publicly Accessible RDS Instances. To view the full platform capabilities of unSkript please visit https://us.app.unskript.io"
            ]
        }
    ],
    "metadata": {
        "execution_data": {
            "environment_name": "Staging",
            "environment_type": "ENVIRONMENT_TYPE_AWS_EC2",
            "execution_id": "",
            "inputs_for_searched_lego": "",
            "notebook_id": "a5560c12-8c68-4744-b72e-139d66711912.ipynb",
            "parameters": [
                "region"
            ],
            "proxy_id": "1499f27c-6406-4fbd-bd1b-c6f92800018f",
            "runbook_name": "Publicly Accessible Amazon RDS Instances",
            "search_string": "",
            "show_tool_tip": false,
            "tenant_id": "982dba5f-d9df-48ae-a5bf-ec1fc94d4882",
            "tenant_url": "https://tenant-staging.alpha.unskript.io",
            "user_email_id": "harshal.bangre@unskript.com",
            "workflow_id": "95e102b5-c6e8-429d-8d17-7663728799df"
        },
        "kernelspec": {
            "display_name": "Python 3",
            "language": "python",
            "name": "python3"
        },
        "language_info": {
            "file_extension": ".py",
            "mimetype": "text/x-python",
            "name": "python",
            "pygments_lexer": "ipython3",
            "version": "3.10.6 (tags/v3.10.6:9c7b4bd, Aug  1 2022, 21:53:49) [MSC v.1932 64 bit (AMD64)]"
        },
        "parameterSchema": {
            "properties": {
                "region": {
                    "description": "RDS instance region",
                    "title": "region",
                    "type": "array"
                }
            },
            "required": [],
            "title": "Schema",
            "type": "object"
        },
        "parameterValues": null,
        "vscode": {
            "interpreter": {
                "hash": "e8899eb02dfbc033aab5733bdae1bd213fa031d40331094008e8673d99ebab63"
            }
        }
    },
    "nbformat": 4,
    "nbformat_minor": 5
}
