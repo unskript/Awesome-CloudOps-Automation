{
 "cells": [
  {
   "attachments": {},
   "cell_type": "markdown",
   "id": "c92fbc7c-b9b3-4fd9-8f55-9811f3580311",
   "metadata": {
    "jupyter": {
     "source_hidden": false
    },
    "name": "Steps Overview",
    "orderProperties": [],
    "tags": [],
    "title": "Steps Overview"
   },
   "source": [
    "<center><img src=\"https://storage.googleapis.com/unskript-website/assets/favicon.png\" alt=\"unSkript.com\" width=\"100\" height=\"100\">\n",
    "<h1 id=\"unSkript-Runbooks&para;\">unSkript Runbooks</h1>\n",
    "<div class=\"alert alert-block alert-success\">\n",
    "<h3 id=\"Objective&para;\">Objective</h3>\n",
    "<br><strong style=\"color: #000000;\"><em><strong>Restrict S3 Buckets with READ/WRITE Permissions for all authenticated users.</strong></em></strong></div>\n",
    "</center>\n",
    "<p>&nbsp;</p>\n",
    "<center>\n",
    "<h2 id=\"Restrict-S3-Buckets-with-READ/WRITE-Permissions&para;\"><u>Restrict S3 Buckets with READ/WRITE Permissions</u></h2>\n",
    "</center>\n",
    "<h1 id=\"Steps-Overview&para;\">Steps Overview</h1>\n",
    "<p>1)&nbsp;<a href=\"#1\" target=\"_self\" rel=\"noopener\">Filter Public S3 buckets with ACL Permissions</a><br>2)&nbsp;<a href=\"#2\" target=\"_self\" rel=\"noopener\">Change the permissions to private</a></p>"
   ]
  },
  {
   "cell_type": "code",
   "execution_count": 3,
   "id": "95180c6c-d28d-487f-9d7b-bfeefe0357e8",
   "metadata": {
    "collapsed": true,
    "credentialsJson": {},
    "customAction": true,
    "execution_data": {
     "last_date_success_run_cell": "2023-05-19T07:05:08.327Z"
    },
    "jupyter": {
     "outputs_hidden": true,
     "source_hidden": true
    },
    "name": "Input Verification",
    "orderProperties": [],
    "tags": [],
    "title": "Input Verification"
   },
   "outputs": [],
   "source": [
    "if region == None:\n",
    "    region = ''\n",
    "if bucket_names and not region:\n",
    "    raise SystemExit(\"Provide a region for the S3 bucket names!\")"
   ]
  },
  {
   "attachments": {},
   "cell_type": "markdown",
   "id": "f6cfb169-e57e-4e88-8cf2-e85e828b6a2c",
   "metadata": {
    "jupyter": {
     "source_hidden": false
    },
    "name": "Step 1",
    "orderProperties": [],
    "tags": [],
    "title": "Step 1"
   },
   "source": [
    "<h3 id=\"List-expiring-ACM-certificates\"><a id=\"1\" target=\"_self\" rel=\"nofollow\"></a>Filter S3 buckets with ACL Permissiosn<a class=\"jp-InternalAnchorLink\" href=\"#List-expiring-ACM-certificates\" target=\"_self\">&para;</a></h3>\n",
    "<p>This action will fetch all public S3 buckets with the chosen permissions- <em>\"READ\",\"READ_ACP\",\"WRITE\",\"WRITE_ACP\", and \"FULL_CONTROL\"</em>, If no permissions are given, the action will execute for <span style=\"color: blue;\"> READ</span> and <span style=\"color: blue;\"> WRITE</span>.</p>\n",
    "<blockquote>\n",
    "<p>This action takes the following parameters: <code>bucket_permission(Optional)</code>, <code>region(Optional)</code></p>\n",
    "</blockquote>\n",
    "<blockquote>\n",
    "<p>This action captures the following output: <code>public_buckets</code></p>\n",
    "</blockquote>"
   ]
  },
  {
   "cell_type": "code",
   "execution_count": 4,
   "id": "6b5c887b-254a-4790-9eaf-9e320615bd75",
   "metadata": {
    "actionBashCommand": false,
    "actionCategories": [
     "CATEGORY_TYPE_CLOUDOPS",
     "CATEGORY_TYPE_SECOPS",
     "CATEGORY_TYPE_AWS",
     "CATEGORY_TYPE_AWS_S3"
    ],
    "actionDescription": "Get AWS public S3 Buckets using ACL",
    "actionEntryFunction": "aws_filter_public_s3_buckets_by_acl",
    "actionIsCheck": true,
    "actionIsRemediation": false,
    "actionNeedsCredential": true,
    "actionNextHop": [
     "305fe6a6f0512eb2d91b71c508b3a192e5b7021bf8196f4deeec5397f2b85e84"
    ],
    "actionNextHopParameterMapping": {},
    "actionNouns": [
     "aws",
     "s3",
     "public",
     "buckets",
     "by",
     "acl"
    ],
    "actionOutputType": "ACTION_OUTPUT_TYPE_LIST",
    "actionSupportsIteration": true,
    "actionSupportsPoll": true,
    "actionTitle": "Get AWS public S3 Buckets using ACL",
    "actionType": "LEGO_TYPE_AWS",
    "actionVerbs": [
     "filter"
    ],
    "actionVersion": "1.0.0",
    "action_modified": false,
    "action_uuid": "b13d82d445e9064eb3cb88ca6247696ee3e7bfceb02b617833992f8552bf48fb",
    "condition_enabled": true,
    "continueOnError": false,
    "credentialsJson": {},
    "description": "Get AWS public S3 Buckets using ACL",
    "execution_data": {
     "last_date_success_run_cell": "2023-05-19T07:05:35.678Z"
    },
    "id": 4,
    "index": 4,
    "inputData": [
     {
      "permission": {
       "constant": true,
       "value": "bucket_permission"
      },
      "region": {
       "constant": false,
       "value": "\"us-west-2\""
      }
     }
    ],
    "inputschema": [
     {
      "definitions": {
       "BucketACLPermissions": {
        "description": "An enumeration.",
        "enum": [
         "READ",
         "WRITE",
         "READ_ACP",
         "WRITE_ACP",
         "FULL_CONTROL"
        ],
        "title": "BucketACLPermissions",
        "type": "string"
       }
      },
      "properties": {
       "permission": {
        "allOf": [
         {
          "$ref": "#/definitions/BucketACLPermissions"
         }
        ],
        "default": "READ",
        "description": "Set of permissions that AWS S3 supports in an ACL for buckets and objects",
        "title": "S3 Bucket's ACL Permission",
        "type": "enum"
       },
       "region": {
        "default": "",
        "description": "Name of the AWS Region",
        "title": "Region",
        "type": "string"
       }
      },
      "required": [],
      "title": "aws_filter_public_s3_buckets_by_acl",
      "type": "object"
     }
    ],
    "jupyter": {
     "source_hidden": true
    },
    "language": "python",
    "legotype": "LEGO_TYPE_AWS",
    "name": "Get AWS public S3 Buckets using ACL",
    "orderProperties": [
     "region",
     "permission"
    ],
    "outputParams": {
     "output_name": "public_buckets",
     "output_name_enabled": true,
     "output_runbook_enabled": false,
     "output_runbook_name": ""
    },
    "printOutput": true,
    "startcondition": "not bucket_names",
    "tags": [
     "aws_filter_public_s3_buckets_by_acl"
    ],
    "uuid": "b13d82d445e9064eb3cb88ca6247696ee3e7bfceb02b617833992f8552bf48fb",
    "version": "1.0.0"
   },
   "outputs": [],
   "source": [
    "##\n",
    "##  Copyright (c) 2021 unSkript, Inc\n",
    "##  All rights reserved.\n",
    "##\n",
    "from pydantic import BaseModel, Field\n",
    "from typing import List, Optional, Tuple\n",
    "from unskript.legos.aws.aws_list_all_regions.aws_list_all_regions import aws_list_all_regions\n",
    "from unskript.legos.aws.aws_get_s3_buckets.aws_get_s3_buckets import aws_get_s3_buckets\n",
    "from unskript.enums.aws_acl_permissions_enums import BucketACLPermissions\n",
    "import pprint\n",
    "\n",
    "\n",
    "from beartype import beartype\n",
    "@beartype\n",
    "def aws_filter_public_s3_buckets_by_acl_printer(output):\n",
    "    if output is None:\n",
    "        return\n",
    "    pprint.pprint(output)\n",
    "\n",
    "@beartype\n",
    "def check_publicly_accessible_buckets(s3Client,b,all_permissions):\n",
    "    public_check = [\"http://acs.amazonaws.com/groups/global/AuthenticatedUsers\",\n",
    "                   \"http://acs.amazonaws.com/groups/global/AllUsers\"]\n",
    "    public_buckets = False\n",
    "    try:\n",
    "        res = s3Client.get_bucket_acl(Bucket=b)\n",
    "        for perm in all_permissions:\n",
    "            for grant in res[\"Grants\"]:\n",
    "                if 'Permission' in grant.keys() and perm == grant[\"Permission\"]:\n",
    "                    if 'URI' in grant[\"Grantee\"] and grant[\"Grantee\"][\"URI\"] in public_check:\n",
    "                        public_buckets = True\n",
    "    except Exception as e:\n",
    "        pass\n",
    "    return public_buckets\n",
    "\n",
    "@beartype\n",
    "def aws_filter_public_s3_buckets_by_acl(handle, permission:BucketACLPermissions=BucketACLPermissions.READ, region: str=None) -> Tuple:\n",
    "    \"\"\"aws_filter_public_s3_buckets_by_acl get list of public buckets.\n",
    "\n",
    "        Note- By default(if no permissions are given) READ and WRITE ACL Permissioned S3 buckets are checked for public access. Other ACL Permissions are - \"READ_ACP\"|\"WRITE_ACP\"|\"FULL_CONTROL\"\n",
    "        :type handle: object\n",
    "        :param handle: Object returned from task.validate(...)\n",
    "\n",
    "        :type permission: Enum\n",
    "        :param permission: Set of permissions that AWS S3 supports in an ACL for buckets and objects.\n",
    "\n",
    "        :type region: string\n",
    "        :param region: location of the bucket.\n",
    "\n",
    "        :rtype: Object with status, list of public S3 buckets with READ/WRITE ACL Permissions, and errors\n",
    "    \"\"\"\n",
    "    all_permissions = [permission]\n",
    "    if permission is None or len(permission)==0:\n",
    "        all_permissions = [\"READ\",\"WRITE\"]\n",
    "    result = []\n",
    "    all_buckets = []\n",
    "    all_regions = [region]\n",
    "    if region is None or len(region)==0:\n",
    "        all_regions = aws_list_all_regions(handle=handle)\n",
    "    try:\n",
    "        for r in all_regions:\n",
    "            s3Client = handle.client('s3',region_name=r)\n",
    "            output = aws_get_s3_buckets(handle=handle, region=r)\n",
    "            if len(output)!= 0:\n",
    "                for o in output:\n",
    "                    all_buckets_dict = {}\n",
    "                    all_buckets_dict[\"region\"]=r\n",
    "                    all_buckets_dict[\"bucket\"]=o\n",
    "                    all_buckets.append(all_buckets_dict)\n",
    "    except Exception as e:\n",
    "        raise e\n",
    "\n",
    "    for bucket in all_buckets:\n",
    "        s3Client = handle.client('s3',region_name= bucket['region'])\n",
    "        flag = check_publicly_accessible_buckets(s3Client,bucket['bucket'], all_permissions)\n",
    "        if flag:\n",
    "            result.append(bucket)\n",
    "    if len(result)!=0:\n",
    "        return (False, result)\n",
    "    else:\n",
    "        return (True, None)\n",
    "\n",
    "\n",
    "task = Task(Workflow())\n",
    "task.configure(inputParamsJson='''{\n",
    "    \"permission\": \"bucket_permission\",\n",
    "    \"region\": \"\\\\\"us-west-2\\\\\"\"\n",
    "    }''')\n",
    "task.configure(conditionsJson='''{\n",
    "    \"condition_enabled\": true,\n",
    "    \"condition_cfg\": \"not bucket_names\",\n",
    "    \"condition_result\": true\n",
    "    }''')\n",
    "\n",
    "task.configure(outputName=\"public_buckets\")\n",
    "\n",
    "task.configure(printOutput=True)\n",
    "(err, hdl, args) = task.validate(vars=vars())\n",
    "if err is None:\n",
    "    task.execute(aws_filter_public_s3_buckets_by_acl, lego_printer=aws_filter_public_s3_buckets_by_acl_printer, hdl=hdl, args=args)"
   ]
  },
  {
   "attachments": {},
   "cell_type": "markdown",
   "id": "24c71589-028b-4d3b-908f-ce867b462f7a",
   "metadata": {
    "jupyter": {
     "source_hidden": false
    },
    "name": "Step 2A",
    "orderProperties": [],
    "tags": [],
    "title": "Step 2A"
   },
   "source": [
    "<h3 id=\"Create-List-of-Expiring-Certificates\"><a id=\"1\" target=\"_self\" rel=\"nofollow\"></a>Create List of public S3 Buckets<a class=\"jp-InternalAnchorLink\" href=\"#Create-List-of-Expiring-Certificates\" target=\"_self\">&para;</a></h3>\n",
    "<p>This action filters regions that have no public buckets and creates a list of public buckets that have are to be made private.</p>\n",
    "<blockquote>\n",
    "<p>This action takes the following parameters: <code>None</code></p>\n",
    "</blockquote>\n",
    "<blockquote>\n",
    "<p>This action captures the following output: <code>all_public_buckets</code></p>\n",
    "</blockquote>"
   ]
  },
  {
   "cell_type": "code",
   "execution_count": 25,
   "id": "fa0655b5-e142-445c-9a39-312b4ee9f3f6",
   "metadata": {
    "credentialsJson": {},
    "customAction": true,
    "execution_data": {
     "last_date_success_run_cell": "2023-02-02T15:56:00.421Z"
    },
    "jupyter": {
     "source_hidden": true
    },
    "name": "Create List of public S3 buckets",
    "orderProperties": [],
    "tags": [],
    "title": "Create List of public S3 buckets"
   },
   "outputs": [],
   "source": [
    "all_public_buckets = []\n",
    "try:\n",
    "    if public_buckets[0] == False:\n",
    "        if len(public_buckets[1])!=0:\n",
    "            all_public_buckets=public_buckets[1]\n",
    "except Exception:\n",
    "    for buck in bucket_names:\n",
    "        data_dict = {}\n",
    "        data_dict[\"region\"] = region\n",
    "        data_dict[\"bucket\"] = buck\n",
    "        all_public_buckets.append(data_dict)\n",
    "print(all_public_buckets)\n",
    "task.configure(outputName=\"all_public_buckets\")"
   ]
  },
  {
   "attachments": {},
   "cell_type": "markdown",
   "id": "b49c03e9-2951-4fab-b5f5-5338b8a955f9",
   "metadata": {
    "jupyter": {
     "source_hidden": false
    },
    "name": "Step 2",
    "orderProperties": [],
    "tags": [],
    "title": "Step 2"
   },
   "source": [
    "<h3 id=\"List-expiring-ACM-certificates\"><a id=\"1\" target=\"_self\" rel=\"nofollow\"></a>Change permission to private<a class=\"jp-InternalAnchorLink\" href=\"#List-expiring-ACM-certificates\" target=\"_self\">&para;</a></h3>\n",
    "<p>Using unSkript's AWS Change ACL Permission of public S3 Bucket action, we will fchange the permissions of the bucket to <em>private, public-read, public-read-write, authenticated-read.&nbsp;</em>If no canned_acl_permission is selected, <span style=\"color: blue;\"> private</span> will be set by default.&nbsp;</p>\n",
    "<blockquote>\n",
    "<p>This action takes the following parameters: <code>bucket_name</code>, <code>region,canned_acl_permission</code></p>\n",
    "</blockquote>\n",
    "<blockquote>\n",
    "<p>This action captures the following output: <code>None</code></p>\n",
    "</blockquote>"
   ]
  },
  {
   "cell_type": "code",
   "execution_count": null,
   "id": "a0896792-2764-4e3e-ab44-82f234e1c5f7",
   "metadata": {
    "actionBashCommand": false,
    "actionCategories": [
     "CATEGORY_TYPE_SECOPS",
     "CATEGORY_TYPE_AWS",
     "CATEGORY_TYPE_AWS_S3"
    ],
    "actionDescription": "AWS Change ACL Permission public S3 Bucket",
    "actionEntryFunction": "aws_change_acl_permissions_of_buckets",
    "actionIsCheck": false,
    "actionIsRemediation": true,
    "actionNeedsCredential": true,
    "actionNextHop": null,
    "actionNextHopParameterMapping": null,
    "actionNouns": null,
    "actionOutputType": "ACTION_OUTPUT_TYPE_DICT",
    "actionSupportsIteration": true,
    "actionSupportsPoll": true,
    "actionTitle": "AWS Change ACL Permission of public S3 Bucket",
    "actionType": "LEGO_TYPE_AWS",
    "actionVerbs": null,
    "actionVersion": "1.0.0",
    "action_modified": false,
    "action_uuid": "305fe6a6f0512eb2d91b71c508b3a192e5b7021bf8196f4deeec5397f2b85e84",
    "condition_enabled": true,
    "continueOnError": true,
    "credentialsJson": {},
    "description": "AWS Change ACL Permission public S3 Bucket",
    "id": 3,
    "index": 3,
    "inputData": [
     {
      "acl": {
       "constant": true,
       "value": "acl_permission"
      },
      "bucket_name": {
       "constant": false,
       "value": "\"iter.get(\\\\\"bucket_name\\\\\")\""
      },
      "region": {
       "constant": false,
       "value": "\"iter.get(\\\\\"region\\\\\")\""
      }
     }
    ],
    "inputschema": [
     {
      "definitions": {
       "CannedACLPermissions": {
        "description": "An enumeration.",
        "enum": [
         "Private",
         "PublicRead",
         "PublicReadWrite",
         "AuthenticatedRead"
        ],
        "title": "CannedACLPermissions",
        "type": "string"
       }
      },
      "properties": {
       "acl": {
        "allOf": [
         {
          "$ref": "#/definitions/CannedACLPermissions"
         }
        ],
        "description": "Canned ACL Permission type - 'private'|'public-read'|'public-read-write'|'authenticated-read'.",
        "title": "Canned ACL Permission",
        "type": "enum"
       },
       "bucket_name": {
        "description": "AWS S3 Bucket Name.",
        "title": "Bucket Name",
        "type": "string"
       },
       "region": {
        "description": "AWS Region.",
        "title": "Region",
        "type": "string"
       }
      },
      "required": [
       "region",
       "bucket_name"
      ],
      "title": "aws_change_acl_permissions_of_buckets",
      "type": "object"
     }
    ],
    "iterData": [
     {
      "iter_enabled": true,
      "iter_item": {
       "bucket_name": "bucket_name",
       "region": "region"
      },
      "iter_list": {
       "constant": false,
       "objectItems": true,
       "value": "all_public_buckets"
      }
     }
    ],
    "jupyter": {
     "source_hidden": true
    },
    "language": "python",
    "legotype": "LEGO_TYPE_AWS",
    "name": "AWS Change ACL Permission of public S3 Bucket",
    "orderProperties": [
     "region",
     "bucket_name",
     "acl"
    ],
    "printOutput": true,
    "startcondition": "len(all_public_buckets)!=0",
    "tags": [
     "aws_change_acl_permissions_of_buckets"
    ],
    "uuid": "305fe6a6f0512eb2d91b71c508b3a192e5b7021bf8196f4deeec5397f2b85e84",
    "version": "1.0.0"
   },
   "outputs": [],
   "source": [
    "##\n",
    "# Copyright (c) 2021 unSkript, Inc\n",
    "# All rights reserved.\n",
    "##\n",
    "import pprint\n",
    "from typing import Optional, Dict\n",
    "from pydantic import BaseModel, Field\n",
    "from unskript.enums.aws_canned_acl_enums import CannedACLPermissions\n",
    "\n",
    "\n",
    "\n",
    "from beartype import beartype\n",
    "@beartype\n",
    "def aws_change_acl_permissions_of_buckets_printer(output):\n",
    "    if output is None:\n",
    "        return\n",
    "    pprint.pprint(output)\n",
    "\n",
    "\n",
    "@beartype\n",
    "def aws_change_acl_permissions_of_buckets(\n",
    "    handle,\n",
    "    bucket_name: str,\n",
    "    acl: CannedACLPermissions=CannedACLPermissions.Private,\n",
    "    region: str = None\n",
    "    ) -> Dict:\n",
    "    \"\"\" aws_put_bucket_acl get Dict of buckets ACL change info.\n",
    "\n",
    "            :type handle: Session\n",
    "            :param handle: Object returned by the task.validate(...) method\n",
    "\n",
    "            :type bucket_name: string\n",
    "            :param bucket_name: S3 bucket name where to set ACL on.\n",
    "\n",
    "            :type acl: CannedACLPermissions\n",
    "            :param acl: Canned ACL Permission type - 'private'|'public-read'|'public-read-write\n",
    "            '|'authenticated-read'.\n",
    "\n",
    "            :type region: string\n",
    "            :param region: location of the bucket.\n",
    "\n",
    "            :rtype: Dict of buckets ACL change info\n",
    "    \"\"\"\n",
    "    # connect to the S3 using client\n",
    "    all_permissions = acl\n",
    "    if acl is None or len(acl)==0:\n",
    "        all_permissions = \"private\"\n",
    "    s3Client = handle.client('s3',\n",
    "                             region_name=region)\n",
    "\n",
    "    # Put bucket ACL for the permissions grant\n",
    "    response = s3Client.put_bucket_acl(\n",
    "                    Bucket=bucket_name,\n",
    "                    ACL=all_permissions )\n",
    "\n",
    "    return response\n",
    "\n",
    "\n",
    "task = Task(Workflow())\n",
    "task.configure(continueOnError=True)\n",
    "task.configure(inputParamsJson='''{\n",
    "    \"region\": \"\\\\\"iter.get(\\\\\\\\\\\\\"region\\\\\\\\\\\\\")\\\\\"\",\n",
    "    \"bucket_name\": \"\\\\\"iter.get(\\\\\\\\\\\\\"bucket_name\\\\\\\\\\\\\")\\\\\"\",\n",
    "    \"acl\": \"acl_permission\"\n",
    "    }''')\n",
    "task.configure(iterJson='''{\n",
    "    \"iter_enabled\": true,\n",
    "    \"iter_list_is_const\": false,\n",
    "    \"iter_list\": \"all_public_buckets\",\n",
    "    \"iter_parameter\": [\"region\",\"bucket_name\"]\n",
    "    }''')\n",
    "\n",
    "task.configure(conditionsJson='''{\n",
    "    \"condition_enabled\": true,\n",
    "    \"condition_cfg\": \"len(all_public_buckets)!=0\",\n",
    "    \"condition_result\": true\n",
    "    }''')\n",
    "\n",
    "task.configure(printOutput=True)\n",
    "(err, hdl, args) = task.validate(vars=vars())\n",
    "if err is None:\n",
    "    task.execute(aws_change_acl_permissions_of_buckets, lego_printer=aws_change_acl_permissions_of_buckets_printer, hdl=hdl, args=args)"
   ]
  },
  {
   "attachments": {},
   "cell_type": "markdown",
   "id": "eada3017-32cf-46e2-b02c-4eb60256a3a9",
   "metadata": {
    "jupyter": {
     "source_hidden": false
    },
    "name": "Conclusion",
    "orderProperties": [],
    "tags": [],
    "title": "Conclusion"
   },
   "source": [
    "<h3 id=\"Conclusion\">Conclusion<a class=\"jp-InternalAnchorLink\" href=\"#Conclusion\" target=\"_self\">&para;</a></h3>\n",
    "<p>In this Runbook, we were able to restrict S3 buckets having read and write permissions to private. To view the full platform capabilities of unSkript please visit&nbsp;<a href=\"https://us.app.unskript.io\" target=\"_blank\" rel=\"noopener\">us.app.unskript.io</a></p>"
   ]
  }
 ],
 "metadata": {
  "execution_data": {
   "runbook_name": "Restrict S3 Buckets with READ/WRITE Permissions to all Authenticated Users",
   "parameters": null
  },
  "kernelspec": {
   "display_name": "unSkript (Build: 1169)",
   "language": "python",
   "name": "python3"
  },
  "language_info": {
   "codemirror_mode": {
    "name": "ipython",
    "version": 3
   },
   "file_extension": ".py",
   "mimetype": "text/x-python",
   "name": "python",
   "nbconvert_exporter": "python",
   "pygments_lexer": "ipython3",
   "version": "3.9.6"
  },
  "parameterSchema": {
   "properties": {
    "acl_permission": {
     "default": "private",
     "description": "Canned ACL Permission type - Eg: 'private'|'public-read'|'public-read-write'|'authenticated-read'",
     "enum": [
      "private",
      "public-read",
      "public-read-write"
     ],
     "enumNames": [
      "private",
      "public-read",
      "public-read-write"
     ],
     "title": "acl_permission",
     "type": "string"
    },
    "bucket_names": {
     "description": "List of S3 bucket names.",
     "title": "bucket_names",
     "type": "array"
    },
    "bucket_permission": {
     "default": "READ",
     "description": "Set of permissions that AWS S3 supports in an ACL for buckets and objects. Eg:\"READ\",\"WRITE_ACP\",\"FULL_CONTROL\"",
     "enum": [
      "READ",
      "WRITE",
      "READ_ACP"
     ],
     "enumNames": [
      "READ",
      "WRITE",
      "READ_ACP"
     ],
     "title": "bucket_permission",
     "type": "string"
    },
    "region": {
     "description": "AWS Region to get the buckets from. Eg:us-west-2\"",
     "title": "region",
     "type": "string"
    }
   },
   "required": [],
   "title": "Schema",
   "type": "object"
  },
  "vscode": {
   "interpreter": {
    "hash": "31f2aee4e71d21fbe5cf8b01ff0e069b9275f58929596ceb00d14d90e3e16cd6"
   }
  }
 },
 "nbformat": 4,
 "nbformat_minor": 5
}