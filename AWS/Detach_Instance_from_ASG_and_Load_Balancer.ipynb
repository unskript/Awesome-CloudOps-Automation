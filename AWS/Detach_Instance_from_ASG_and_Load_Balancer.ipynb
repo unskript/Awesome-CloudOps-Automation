{
    "cells": [
        {
            "cell_type": "markdown",
            "id": "9a175295-d9f6-47f1-bab9-c4b9d6cdf375",
            "metadata": {
                "jupyter": {
                    "source_hidden": false
                },
                "name": "Detach EC2 Instance From ASG and Load Balancer",
                "orderProperties": [],
                "tags": [],
                "title": "Detach EC2 Instance From ASG and Load Balancer"
            },
            "source": [
                "<img src=\"https://unskript.com/assets/favicon.png\" alt=\"unSkript.com\" width=\"100\" height=\"100\"/> \n",
                "<h1> unSkript Runbooks </h1>\n",
                "<div class=\"alert alert-block alert-success\">\n",
                "    <b> This runbook demonstrates How to Detach EC2 Instance from ASG and Load Balancer using unSkript legos.</b>\n",
                "</div>\n",
                "\n",
                "<br>\n",
                "\n",
                "<center><h2>Detach EC2 Instance from ASG and Load Balancer</h2></center>\n",
                "\n",
                "# Steps Overview\n",
                " 1. List all the instances available in the given region.\n",
                " 2. Get the instances which are attached to Auto Scaling Group.\n",
                " 3. Detach the given instance if available in the Auto Scaling Group.\n",
                " 4. De-registers AWS EC2 Instances from a given Load Balancer."
            ]
        },
        {
            "cell_type": "markdown",
            "id": "e85d4ae1-a380-40f8-881c-56c3b0a10757",
            "metadata": {
                "jupyter": {
                    "source_hidden": false
                },
                "name": "Filter All AWS EC2 Instances",
                "orderProperties": [],
                "tags": [],
                "title": "Filter All AWS EC2 Instances"
            },
            "source": [
                "Here we will use unSkript Filter All AWS EC2 Instances Lego. This lego take region: str as input. This inputs is used to find out all the AWS EC2 instances."
            ]
        },
        {
            "cell_type": "code",
            "execution_count": 11,
            "id": "9284c3ad-8f08-4c81-96ab-eea07062d2ab",
            "metadata": {
                "accessType": "ACCESS_TYPE_UNSPECIFIED",
                "actionBashCommand": false,
                "actionNeedsCredential": true,
                "actionRequiredLinesInCode": [],
                "actionSupportsIteration": true,
                "actionSupportsPoll": true,
                "action_uuid": "a895bde45de04dcfe61591858815268ecf44ad7cdc35c528e46ddb3b4d0ed8d9",
                "continueOnError": false,
                "createTime": "1970-01-01T00:00:00Z",
                "credentialsJson": {},
                "currentVersion": "0.1.0",
                "description": "Use This Action to Get All AWS EC2 Instances",
                "execution_data": {
                    "last_date_success_run_cell": "2022-09-19T08:37:03.742Z"
                },
                "id": 175,
                "index": 175,
                "inputData": [
                    {
                        "region": {
                            "constant": false,
                            "value": "Region"
                        }
                    }
                ],
                "inputschema": [
                    {
                        "properties": {
                            "region": {
                                "description": "AWS Region of the ECS service.",
                                "title": "Region",
                                "type": "string"
                            }
                        },
                        "required": [
                            "region"
                        ],
                        "title": "aws_filter_ec2_instances",
                        "type": "object"
                    }
                ],
                "jupyter": {
                    "source_hidden": true
                },
                "legotype": "LEGO_TYPE_AWS",
                "name": "Get AWS EC2 Instances All ",
                "nouns": [
                    "instances"
                ],
                "orderProperties": [
                    "region"
                ],
                "output": {
                    "type": ""
                },
                "outputParams": {
                    "output_name": "InstanceIDs",
                    "output_name_enabled": true
                },
                "tags": [
                    "aws_filter_ec2_instances"
                ],
                "trusted": true,
                "verbs": [
                    "get"
                ]
            },
            "outputs": [],
            "source": [
                "##\n",
                "##  Copyright (c) 2021 unSkript, Inc\n",
                "##  All rights reserved.\n",
                "##\n",
                "from pydantic import BaseModel, Field\n",
                "from typing import List\n",
                "from unskript.connectors.aws import aws_get_paginator\n",
                "import pprint\n",
                "\n",
                "from beartype import beartype\n",
                "@beartype\n",
                "def aws_filter_ec2_instances_printer(output):\n",
                "    if output is None:\n",
                "        return\n",
                "    pprint.pprint({\"Instances\": output})\n",
                "\n",
                "\n",
                "@beartype\n",
                "def aws_filter_ec2_instances(handle, region: str) -> List:\n",
                "    \"\"\"aws_filter_ec2_instances Returns an array of instances.\n",
                "\n",
                "        :type handle: object\n",
                "        :param handle: Object returned from task.validate(...).\n",
                "\n",
                "        :type region: string\n",
                "        :param region: Region to filter instances.\n",
                "\n",
                "        :rtype: Array of instances.\n",
                "    \"\"\"\n",
                "    ec2Client = handle.client('ec2', region_name=region)\n",
                "    res = aws_get_paginator(ec2Client, \"describe_instances\", \"Reservations\")\n",
                "    result = []\n",
                "    for reservation in res:\n",
                "        for instance in reservation['Instances']:\n",
                "            result.append(instance['InstanceId'])\n",
                "    return result\n",
                "\n",
                "\n",
                "task = Task(Workflow())\n",
                "task.configure(inputParamsJson='''{\n",
                "    \"region\": \"Region\"\n",
                "    }''')\n",
                "task.configure(outputName=\"InstanceIDs\")\n",
                "\n",
                "(err, hdl, args) = task.validate(vars=vars())\n",
                "if err is None:\n",
                "    task.execute(aws_filter_ec2_instances, lego_printer=aws_filter_ec2_instances_printer, hdl=hdl, args=args)"
            ]
        },
        {
            "cell_type": "markdown",
            "id": "561775c0-545a-4ca2-9c79-11b919f7dac0",
            "metadata": {
                "jupyter": {
                    "source_hidden": false
                },
                "name": "Get AWS Auto Scalling Group Instances",
                "orderProperties": [],
                "tags": [],
                "title": "Get AWS Auto Scalling Group Instances"
            },
            "source": [
                "Here we will use unSkript Get AWS Auto Scaling Group Instances Lego. This lego take instance_ids: list and region: str as inputs. This inputs is used to find out all the AWS EC2 instances attached to Auto Scaling Group."
            ]
        },
        {
            "cell_type": "code",
            "execution_count": 12,
            "id": "7a26341d-517b-42fd-8fdc-896438a734ef",
            "metadata": {
                "accessType": "ACCESS_TYPE_UNSPECIFIED",
                "actionBashCommand": false,
                "actionNeedsCredential": true,
                "actionRequiredLinesInCode": [],
                "actionSupportsIteration": true,
                "actionSupportsPoll": true,
                "action_uuid": "4baa10996438c3e1acea659c68a4e383d0be4484f8ec6fe2a6d4b883fcb592c3",
                "continueOnError": false,
                "createTime": "1970-01-01T00:00:00Z",
                "credentialsJson": {},
                "currentVersion": "0.1.0",
                "description": "Use This Action to Get AWS AutoScaling Group Instances",
                "execution_data": {
                    "last_date_success_run_cell": "2022-09-19T08:37:14.219Z"
                },
                "id": 192,
                "index": 192,
                "inputData": [
                    {
                        "instance_ids": {
                            "constant": false,
                            "value": "InstanceIDs"
                        },
                        "region": {
                            "constant": false,
                            "value": "Region"
                        }
                    }
                ],
                "inputschema": [
                    {
                        "properties": {
                            "instance_ids": {
                                "description": "List of instances.",
                                "title": "Instance IDs",
                                "type": "string"
                            },
                            "region": {
                                "description": "AWS Region of the ECS service.",
                                "title": "Region",
                                "type": "string"
                            }
                        },
                        "required": [
                            "instance_ids",
                            "region"
                        ],
                        "title": "aws_get_auto_scaling_instances",
                        "type": "object"
                    }
                ],
                "jupyter": {
                    "source_hidden": true
                },
                "legotype": "LEGO_TYPE_AWS",
                "name": "Get AWS Auto Scaling Group Instances",
                "nouns": [
                    "instances",
                    "autoscaling"
                ],
                "orderProperties": [
                    "instance_ids",
                    "region"
                ],
                "output": {
                    "type": ""
                },
                "outputParams": {
                    "output_name": "ASGInstances",
                    "output_name_enabled": true
                },
                "tags": [
                    "aws_get_auto_scaling_instances"
                ],
                "title": "Get AWS Auto Scaling Group Instances",
                "trusted": true,
                "verbs": [
                    "get"
                ]
            },
            "outputs": [],
            "source": [
                "##  Copyright (c) 2021 unSkript, Inc\n",
                "##  All rights reserved.\n",
                "##\n",
                "from typing import List, Dict\n",
                "from pydantic import BaseModel, Field\n",
                "from tabulate import tabulate\n",
                "from botocore.exceptions import ClientError\n",
                "import pprint\n",
                "\n",
                "from beartype import beartype\n",
                "@beartype\n",
                "def aws_get_auto_scaling_instances_printer(output):\n",
                "    if output is None:\n",
                "        return\n",
                "    print(tabulate(output, headers='keys'))\n",
                "\n",
                "\n",
                "@beartype\n",
                "def aws_get_auto_scaling_instances(handle, instance_ids: list, region: str) -> List:\n",
                "    \"\"\"aws_get_auto_scaling_instances List of Dict with instanceId and attached groups.\n",
                "\n",
                "        :type handle: object\n",
                "        :param handle: Object returned from task.validate(...).\n",
                "\n",
                "        :type instance_ids: list\n",
                "        :param instance_ids: List of instances.\n",
                "\n",
                "        :type region: string\n",
                "        :param region: Region to filter instances.\n",
                "\n",
                "        :rtype: List of Dict with instanceId and attached groups.\n",
                "    \"\"\"\n",
                "    result = []\n",
                "    ec2Client = handle.client('autoscaling', region_name=region)\n",
                "    try:\n",
                "        response = ec2Client.describe_auto_scaling_instances(InstanceIds=instance_ids)\n",
                "        for group in response[\"AutoScalingInstances\"]:\n",
                "            group_dict = {}\n",
                "            group_dict[\"InstanceId\"] = group[\"InstanceId\"]\n",
                "            group_dict[\"AutoScalingGroupName\"] = group[\"AutoScalingGroupName\"]\n",
                "            result.append(group_dict)\n",
                "    except Exception as error:\n",
                "        err = {\"Error\":error}\n",
                "        result.append(err)\n",
                "    return result\n",
                "\n",
                "\n",
                "task = Task(Workflow())\n",
                "task.configure(inputParamsJson='''{\n",
                "    \"instance_ids\": \"InstanceIDs\",\n",
                "    \"region\": \"Region\"\n",
                "    }''')\n",
                "task.configure(outputName=\"ASGInstances\")\n",
                "\n",
                "(err, hdl, args) = task.validate(vars=vars())\n",
                "if err is None:\n",
                "    task.execute(aws_get_auto_scaling_instances, lego_printer=aws_get_auto_scaling_instances_printer, hdl=hdl, args=args)"
            ]
        },
        {
            "cell_type": "markdown",
            "id": "614ed424-9394-449e-9dc6-5547f765470a",
            "metadata": {
                "jupyter": {
                    "source_hidden": false
                },
                "name": "Detach AWS Instance From ASG",
                "orderProperties": [],
                "tags": [],
                "title": "Detach AWS Instance From ASG"
            },
            "source": [
                "Here we will use unSkript Detach AWS Instance From ASG Lego. This lego take  instance_id: str, group_name: str, region: str as inputs. This inputs is used to remove AWS instance from Auto Scalling Group."
            ]
        },
        {
            "cell_type": "code",
            "execution_count": 22,
            "id": "f879301f-92c0-431c-9393-28e26f66c2d6",
            "metadata": {
                "accessType": "ACCESS_TYPE_UNSPECIFIED",
                "actionBashCommand": false,
                "actionNeedsCredential": true,
                "actionRequiredLinesInCode": [],
                "actionSupportsIteration": true,
                "actionSupportsPoll": true,
                "action_uuid": "8e6e08f606d40e2f4481128d356cc67d30be72349074c513627b3f03a178cf6e",
                "collapsed": true,
                "continueOnError": true,
                "createTime": "1970-01-01T00:00:00Z",
                "credentialsJson": {},
                "currentVersion": "0.1.0",
                "description": "Use This Action to AWS Detach Instances From AutoScaling Group",
                "execution_data": {
                    "last_date_success_run_cell": "2022-09-19T08:44:50.456Z"
                },
                "id": 135,
                "index": 135,
                "inputData": [
                    {
                        "group_name": {
                            "constant": false,
                            "value": "\"iter.get(\\\\\"AutoScalingGroupName\\\\\")\""
                        },
                        "instance_ids": {
                            "constant": false,
                            "value": "\"iter.get(\\\\\"InstanceId\\\\\")\""
                        },
                        "region": {
                            "constant": false,
                            "value": "Region"
                        }
                    }
                ],
                "inputschema": [
                    {
                        "properties": {
                            "group_name": {
                                "description": "Name of AutoScaling Group.",
                                "title": "Group Name",
                                "type": "string"
                            },
                            "instance_ids": {
                                "description": "List of instances.",
                                "title": "Instance IDs",
                                "type": "string"
                            },
                            "region": {
                                "description": "AWS Region of autoscaling group.",
                                "title": "Region",
                                "type": "string"
                            }
                        },
                        "required": [
                            "instance_ids",
                            "group_name",
                            "region"
                        ],
                        "title": "aws_detach_autoscaling_instances",
                        "type": "object"
                    }
                ],
                "iterData": [
                    {
                        "iter_enabled": true,
                        "iter_item": {
                            "group_name": "AutoScalingGroupName",
                            "instance_ids": "InstanceId"
                        },
                        "iter_list": {
                            "constant": false,
                            "objectItems": true,
                            "value": "ASGInstances"
                        }
                    }
                ],
                "jupyter": {
                    "outputs_hidden": true,
                    "source_hidden": true
                },
                "legotype": "LEGO_TYPE_AWS",
                "name": "AWS Detach Instances From AutoScaling Group",
                "nouns": [
                    "instances",
                    "autoscaling"
                ],
                "orderProperties": [
                    "instance_ids",
                    "group_name",
                    "region"
                ],
                "output": {
                    "type": ""
                },
                "tags": [
                    "aws_detach_autoscaling_instances"
                ],
                "trusted": true,
                "verbs": [
                    "detach"
                ]
            },
            "outputs": [],
            "source": [
                "##  Copyright (c) 2021 unSkript, Inc\n",
                "##  All rights reserved.\n",
                "##\n",
                "from typing import List, Dict\n",
                "from pydantic import BaseModel, Field\n",
                "import pprint\n",
                "\n",
                "from beartype import beartype\n",
                "@beartype\n",
                "def aws_detach_autoscaling_instances_printer(output):\n",
                "    if output is None:\n",
                "        return\n",
                "    pprint.pprint(output)\n",
                "\n",
                "\n",
                "@beartype\n",
                "def aws_detach_autoscaling_instances(\n",
                "    handle,\n",
                "    instance_ids: str,\n",
                "    group_name: str,\n",
                "    region: str\n",
                ") -> Dict:\n",
                "    \"\"\"aws_detach_autoscaling_instances detach instances from autoscaling group.\n",
                "\n",
                "        :type handle: object\n",
                "        :param handle: Object returned from task.validate(...).\n",
                "\n",
                "        :type instance_ids: string\n",
                "        :param instance_ids: Name of instances.\n",
                "\n",
                "        :type group_name: string\n",
                "        :param group_name: Name of AutoScaling Group.\n",
                "\n",
                "        :type region: string\n",
                "        :param region: AWS Region of autoscaling group.\n",
                "\n",
                "        :rtype: Dict with the detach instance info.\n",
                "    \"\"\"\n",
                "\n",
                "    ec2Client = handle.client(\"autoscaling\", region_name=region)\n",
                "    result = {}\n",
                "    try:\n",
                "        if instance_ids in Instance_IDs:\n",
                "            response = ec2Client.detach_instances(\n",
                "                InstanceIds=[instance_ids],\n",
                "                AutoScalingGroupName=group_name,\n",
                "                ShouldDecrementDesiredCapacity=True\n",
                "                )\n",
                "            result = response\n",
                "        else:\n",
                "            result[\"error\"] = \"Instance not match\"\n",
                "    except Exception as error:\n",
                "        result[\"error\"] = error\n",
                "\n",
                "    return result\n",
                "\n",
                "\n",
                "task = Task(Workflow())\n",
                "task.configure(continueOnError=True)\n",
                "task.configure(inputParamsJson='''{\n",
                "    \"group_name\": \"iter.get(\\\\\"AutoScalingGroupName\\\\\")\",\n",
                "    \"instance_ids\": \"iter.get(\\\\\"InstanceId\\\\\")\",\n",
                "    \"region\": \"Region\"\n",
                "    }''')\n",
                "task.configure(iterJson='''{\n",
                "    \"iter_enabled\": true,\n",
                "    \"iter_list_is_const\": false,\n",
                "    \"iter_list\": \"ASGInstances\",\n",
                "    \"iter_parameter\": [\"group_name\",\"instance_ids\"]\n",
                "    }''')\n",
                "(err, hdl, args) = task.validate(vars=vars())\n",
                "if err is None:\n",
                "    task.execute(aws_detach_autoscaling_instances, lego_printer=aws_detach_autoscaling_instances_printer, hdl=hdl, args=args)"
            ]
        },
        {
            "cell_type": "markdown",
            "id": "346d8d07-6708-4663-bf8c-5d17c8b6506f",
            "metadata": {
                "jupyter": {
                    "source_hidden": false
                },
                "name": "Conclusion",
                "orderProperties": [],
                "tags": [],
                "title": "Conclusion"
            },
            "source": [
                "In this Runbook, we demonstrated the use of unSkript's AWS legos to Detach AWS instance from ASG and ELB. This runbook help to detach the given instance from Auto Scaling Group and given Load Balancer. To view the full platform capabilities of unSkript please visit https://unskript.com"
            ]
        }
    ],
    "metadata": {
        "execution_data": {
            "environment_id": "1499f27c-6406-4fbd-bd1b-c6f92800018f",
            "environment_name": "Staging",
            "execution_id": "",
            "inputs_for_searched_lego": "",
            "notebook_id": "e5138b41-ab8c-48f3-a0d6-6739940613fe.ipynb",
            "parameters": [
                "ELB_Name",
                "Instance_IDs",
                "Region"
            ],
            "runbook_name": "Detach EC2 Instance from Auto Scaling Group and Load Balancer",
            "search_string": "",
            "show_tool_tip": false,
            "tenant_id": "982dba5f-d9df-48ae-a5bf-ec1fc94d4882",
            "tenant_url": "https://tenant-staging.alpha.unskript.io",
            "user_email_id": "harshal.bangre@unskript.com",
            "workflow_id": "80d4a693-e103-4367-894b-c18727b13b09"
        },
        "kernelspec": {
            "display_name": "Python 3.9.6 64-bit",
            "language": "python",
            "name": "python3"
        },
        "language_info": {
            "file_extension": ".py",
            "mimetype": "text/x-python",
            "name": "python",
            "pygments_lexer": "ipython3",
            "version": "3.9.6"
        },
        "parameterSchema": {
            "properties": {
                "ELB_Name": {
                    "description": "Name of the Load Balancer",
                    "title": "ELB_Name",
                    "type": "string"
                },
                "Instance_IDs": {
                    "default": [
                        "i-00b15e124bccad041"
                    ],
                    "description": "Instance ID e.g i-1234,i-2345",
                    "title": "Instance_IDs",
                    "type": "array"
                },
                "Region": {
                    "default": "us-west-2",
                    "description": "Region for Instances",
                    "title": "Region",
                    "type": "string"
                }
            },
            "required": [],
            "title": "Schema",
            "type": "object"
        },
        "parameterValues": {
            "Instance_IDs": [
                "i-00b15e124bccad041"
            ]
        },
        "vscode": {
            "interpreter": {
                "hash": "31f2aee4e71d21fbe5cf8b01ff0e069b9275f58929596ceb00d14d90e3e16cd6"
            }
        }
    },
    "nbformat": 4,
    "nbformat_minor": 5
}
