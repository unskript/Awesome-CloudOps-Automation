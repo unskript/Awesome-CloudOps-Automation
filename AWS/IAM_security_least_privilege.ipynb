{
 "cells": [
  {
   "cell_type": "markdown",
   "id": "c212a0cc-7a58-4451-9f19-1b058bc7aec8",
   "metadata": {
    "jupyter": {
     "source_hidden": false
    },
    "name": "intro",
    "orderProperties": [],
    "tags": [],
    "title": "intro"
   },
   "source": [
    "<h1>Create IAM Access Policy based on Usage</h1>\n",
    "<p>&nbsp;</p>\n",
    "<p>IAM Access should follow the policy of least privilege. This means that the credentials give \"exactly, enough\" access to &nbsp;perform the requried task, but no more.&nbsp; That way, if the credentials were ever to be compromised, the blast radius is minimized.</p>\n",
    "<p>This RunBook will take an active IAM profile, and analyze it's access over the last &lt;threshold&gt; hours.&nbsp; Using CloudTrail logs, we can determine what was accessed, and create a new IAM profile that gives access to just these features,</p>\n",
    "<p>&nbsp;</p>\n",
    "<h2>Input parameters:</h2>\n",
    "<h3>&nbsp;Credentials</h3>\n",
    "<p>You will need two IAM accounts to complete this Runbook:</p>\n",
    "<ol>\n",
    "<li>admin_iam:&nbsp; Use these credentials to run each Action - creating IAM policies requires admin access.</li>\n",
    "<li>reference_iam_arn: This parameter should have the ARN for the reference IAM account.&nbsp; We'll use the activity from this account to generate a new IAM policy.</li>\n",
    "</ol>\n",
    "<h3>Inputs</h3>\n",
    "<ol>\n",
    "<li>CloudTrail ARN:&nbsp; This is the ARN of the CloudTrail log that you wish to query. IF you are not sure which ARN you wish to use, you can use the \"AWS Describe Cloudtrails\" Action to get a list of all your trails.</li>\n",
    "<li>Region: the AWS Region.</li>\n",
    "<li>threshold: The number of hours of cloudtrail logs to exaine for activity,</li>\n",
    "<li>policy_name: the name of your new IAM access policy</li>\n",
    "<li>user_name: The new IAM user you will create with the policy_name attached.</li>\n",
    "</ol>\n",
    "<h2>Steps</h2>\n",
    "<ol>\n",
    "<li><strong>AWS Describe Cloudtrails:</strong> Gets a list of all the Cloudtrail logs in a region. Use this to get your CloudTrailARN.&nbsp; This step requires a region.\n",
    "<ol>\n",
    "<li>If you know the Cloudtrail ARN - you can safely delete this Step</li>\n",
    "</ol>\n",
    "</li>\n",
    "<li><strong>AWS Start IAM Policy Generation</strong>: Begins the process of creating a IAM Policy.&nbsp; Note that you can only create one policy at a time, so if a previous policy is still in progress, this may throw an error. \n",
    "<ol>\n",
    "<li>Inputs:&nbsp;\n",
    "<ol>\n",
    "<li>Region: AWS Region</li>\n",
    "<li>CloudTrailARN: ARN of the Cloudtrail - default is to use the runbook input parameter.</li>\n",
    "<li>IAMPrincipalARN.&nbsp; The IAM user whose access is being duplicated</li>\n",
    "<li>AccessRole: IAM access role for \"AccessAnalyzerMonitorServiceRole\". You'll need to create this in your AWS Console</li>\n",
    "<li>hours: number of hours of logs to examine:&nbsp; Default is threshold input parameter.</li>\n",
    "</ol>\n",
    "</li>\n",
    "<li>Output:\n",
    "<ol>\n",
    "<li>JobId - the UUID of the Policy creation</li>\n",
    "</ol>\n",
    "</li>\n",
    "</ol>\n",
    "</li>\n",
    "<li><strong>AWS Get Generated Policy</strong> Gets the policy generated in the previous step.&nbsp; Note that generation can take some time, and the response (in variable generatedPolicy) has a status (generatedPolicy['jobDetails']['status']). When this reads \"SUCCEEDED\", the runbook can be contiued.)\n",
    "<ol>\n",
    "<li>Inputs\n",
    "<ol>\n",
    "<li>Region</li>\n",
    "<li>JobId (from the start generation step)</li>\n",
    "</ol>\n",
    "</li>\n",
    "<li>Output:\n",
    "<ol>\n",
    "<li>Response from the Call</li>\n",
    "</ol>\n",
    "</li>\n",
    "</ol>\n",
    "</li>\n",
    "<li><strong>AWS Get Account Number</strong> This Action retrieves your AWS Account number.&nbsp; It is required to clean up the policy that is returned from step 3.&nbsp; Output is the accountNumber</li>\n",
    "<li><strong>Clean Up Policy: </strong>This step reads the generated policy (generatedPolicy['generatedPolicyResult']['generatedPolicies'][0]['policy']), and does some cleanup.&nbsp; In the generated policy, there are variables in the policy that must be given concrete values.&nbsp; In our test runs, the following changes have been made (you may need to do further cleanup in this Action to continue:\n",
    "<ol>\n",
    "<li>policy = policy.replace('${Region}', \"us-west-2\")</li>\n",
    "<li>policy = policy.replace('${Account}', accountNumber)</li>\n",
    "</ol>\n",
    "</li>\n",
    "<li><strong>AWS Create IAM Policy</strong> Takes the policy that was cleaned in the last step, and creates a new policy in your AWS Account. The name of the policy is based on the policy_name input variable,&nbsp; There can only be one unique value, so once a policy is created, this will need to be changed.</li>\n",
    "<li><strong>Create New IAM User</strong> Creates a new IAM user (using the user_name input).&nbsp;&nbsp;</li>\n",
    "<li><strong>AWS Attach New Policy to User&nbsp;</strong> Attaches the created policy to the created user</li>\n",
    "</ol>\n",
    "<p>&nbsp;</p>"
   ]
  },
  {
   "cell_type": "code",
   "execution_count": null,
   "id": "3f89abe5-c88d-41b9-a7fa-4bb909c9282f",
   "metadata": {
    "accessType": "ACCESS_TYPE_UNSPECIFIED",
    "actionBashCommand": false,
    "actionCategories": [],
    "actionIsCheck": false,
    "actionNeedsCredential": true,
    "actionNextHop": [],
    "actionNextHopParameterMapping": {},
    "actionOutputType": "ACTION_OUTPUT_TYPE_DICT",
    "actionRequiredLinesInCode": [],
    "actionSupportsIteration": true,
    "actionSupportsPoll": true,
    "action_modified": false,
    "action_uuid": "856a647c-33c8-4c2a-8a29-33d9fb6cfacd",
    "checkEnabled": false,
    "continueOnError": false,
    "createTime": "2023-03-24T10:38:24Z",
    "credentialsJson": {},
    "currentVersion": "v0.0.0",
    "customCell": true,
    "description": "Describe all CloudTrail Logs in a Region",
    "execution_data": {
     "last_date_success_run_cell": "2023-04-13T21:50:22.735Z"
    },
    "id": 100353,
    "index": 100353,
    "inputData": [
     {
      "region": {
       "constant": false,
       "value": "region"
      }
     }
    ],
    "inputschema": [
     {
      "properties": {
       "region": {
        "default": "\"us-west-2\"",
        "description": "AWS Region",
        "required": true,
        "title": "region",
        "type": "string"
       }
      },
      "required": [
       "region"
      ],
      "title": "aws_describe_cloudtrail",
      "type": "object"
     }
    ],
    "isUnskript": false,
    "jupyter": {
     "source_hidden": true
    },
    "legotype": "LEGO_TYPE_AWS",
    "name": "AWS Describe Cloudtrails ",
    "nouns": [],
    "orderProperties": [
     "region"
    ],
    "output": {
     "type": ""
    },
    "printOutput": true,
    "tags": [],
    "title": "AWS Describe Cloudtrails ",
    "verbs": []
   },
   "outputs": [],
   "source": [
    "##\n",
    "# Copyright (c) 2021 unSkript, Inc\n",
    "# All rights reserved.\n",
    "##\n",
    "from pydantic import BaseModel, Field, SecretStr\n",
    "from typing import Dict, List\n",
    "import pprint\n",
    "\n",
    "from beartype import beartype\n",
    "@beartype\n",
    "def aws_describe_cloudtrail_printer(output):\n",
    "    if output is None:\n",
    "        return\n",
    "    pprint.pprint(output)\n",
    "\n",
    "@beartype\n",
    "def aws_describe_cloudtrail(handle, region:str) -> Dict:\n",
    "    # Create a client object for CloudTrail\n",
    "    cloudtrail_client = handle.client('cloudtrail', region_name=region)\n",
    "\n",
    "    # Use the describe_trails method to get information about the available trails\n",
    "    trails = cloudtrail_client.describe_trails()\n",
    "\n",
    "\n",
    "    return trails\n",
    "\n",
    "task = Task(Workflow())\n",
    "\n",
    "task.configure(inputParamsJson='''{\n",
    "    \"region\": \"region\"\n",
    "    }''')\n",
    "task.configure(printOutput=True)\n",
    "(err, hdl, args) = task.validate(vars=vars())\n",
    "if err is None:\n",
    "    task.execute(aws_describe_cloudtrail, lego_printer=aws_describe_cloudtrail_printer, hdl=hdl, args=args)"
   ],
   "output": {}
  },
  {
   "cell_type": "code",
   "execution_count": null,
   "id": "e18563ce-5ea1-44c8-b903-5143129ae002",
   "metadata": {
    "accessType": "ACCESS_TYPE_UNSPECIFIED",
    "actionBashCommand": false,
    "actionCategories": [],
    "actionIsCheck": false,
    "actionNeedsCredential": true,
    "actionNextHop": [],
    "actionNextHopParameterMapping": {},
    "actionOutputType": "",
    "actionRequiredLinesInCode": [],
    "actionSupportsIteration": true,
    "actionSupportsPoll": true,
    "action_modified": false,
    "action_uuid": "8f56b9e753e57065e02e107dfd472df3e3b6e3440bd8156f37dc752a1f337909",
    "checkEnabled": false,
    "createTime": "1970-01-01T00:00:00Z",
    "credentialsJson": {},
    "currentVersion": "0.1.0",
    "description": "List all AWS IAM Users",
    "execution_data": {
     "last_date_success_run_cell": "2023-04-13T21:50:27.772Z"
    },
    "id": 265,
    "index": 265,
    "inputschema": [
     {
      "properties": {},
      "title": "aws_list_all_iam_users",
      "type": "object"
     }
    ],
    "isUnskript": false,
    "jupyter": {
     "source_hidden": true
    },
    "legotype": "LEGO_TYPE_AWS",
    "name": "AWS List All IAM Users",
    "nouns": [
     "users",
     "iam",
     "aws"
    ],
    "orderProperties": [],
    "output": {
     "type": ""
    },
    "printOutput": true,
    "tags": [
     "aws_list_all_iam_users"
    ],
    "verbs": [
     "list"
    ]
   },
   "outputs": [],
   "source": [
    "##\n",
    "# Copyright (c) 2021 unSkript, Inc\n",
    "# All rights reserved.\n",
    "##\n",
    "from pydantic import BaseModel, Field, SecretStr\n",
    "from typing import Dict, List\n",
    "import pprint\n",
    "\n",
    "from beartype import beartype\n",
    "@beartype\n",
    "def aws_list_all_iam_users_printer(output):\n",
    "    if output is None:\n",
    "        return\n",
    "    pprint.pprint(output)\n",
    "\n",
    "@beartype\n",
    "def aws_list_all_iam_users(handle) -> List:\n",
    "    \"\"\"aws_list_all_iam_users lists all the IAM users\n",
    "\n",
    "        :type handle: object\n",
    "        :param handle: Object returned from Task Validate\n",
    "\n",
    "        :rtype: Result List of all IAM users\n",
    "    \"\"\"\n",
    "    client = handle.client('iam')\n",
    "    users_list=[]\n",
    "    response = client.list_users()\n",
    "    try:\n",
    "        for x in response['Users']:\n",
    "            users_list.append(x['UserName'])\n",
    "    except Exception as e:\n",
    "        users_list.append(e)\n",
    "    return users_list\n",
    "\n",
    "\n",
    "task = Task(Workflow())\n",
    "\n",
    "task.configure(printOutput=True)\n",
    "(err, hdl, args) = task.validate(vars=vars())\n",
    "if err is None:\n",
    "    task.execute(aws_list_all_iam_users, lego_printer=aws_list_all_iam_users_printer, hdl=hdl, args=args)"
   ],
   "output": {}
  },
  {
   "cell_type": "code",
   "execution_count": null,
   "id": "ee69210c-1492-43e0-8bf9-3a6a046fb1a2",
   "metadata": {
    "accessType": "ACCESS_TYPE_UNSPECIFIED",
    "actionBashCommand": false,
    "actionCategories": [],
    "actionIsCheck": false,
    "actionNeedsCredential": true,
    "actionNextHop": [],
    "actionNextHopParameterMapping": {},
    "actionOutputType": "ACTION_OUTPUT_TYPE_DICT",
    "actionRequiredLinesInCode": [],
    "actionSupportsIteration": true,
    "actionSupportsPoll": true,
    "action_modified": true,
    "action_uuid": "306d6f72-62a4-4313-abc0-4dab0e8d5442",
    "checkEnabled": false,
    "continueOnError": false,
    "createTime": "2023-03-24T10:37:02Z",
    "credentialsJson": {},
    "currentVersion": "v0.0.0",
    "customCell": true,
    "description": "Using the Access Analyzer, use an existing IAM profile and track it's usage over a period of time.  Generate a credentials profile based on that usage.",
    "execution_data": {
     "last_date_success_run_cell": "2023-04-14T17:02:12.053Z"
    },
    "id": 100352,
    "index": 100352,
    "inputData": [
     {
      "AccessRole": {
       "constant": false,
       "value": "\"arn:aws:iam::100498623390:role/service-role/AccessAnalyzerMonitorServiceRole_CTBKDXMCCK\""
      },
      "CloudTrailARN": {
       "constant": false,
       "value": "CloudTrailArn"
      },
      "IAMPrincipalARN": {
       "constant": false,
       "value": "reference_iam_arn"
      },
      "hours": {
       "constant": false,
       "value": "24"
      },
      "region": {
       "constant": false,
       "value": "region"
      }
     }
    ],
    "inputschema": [
     {
      "properties": {
       "AccessRole": {
        "default": "\"arn:aws:iam::100498623390:role/service-role/AccessAnalyzerMonitorServiceRole_CTBKDXMCCK\"",
        "description": "Access Role that can query the CloudTrail Logs",
        "required": true,
        "title": "AccessRole",
        "type": "string"
       },
       "CloudTrailARN": {
        "default": "",
        "description": "Cloud Trail ARN",
        "required": true,
        "title": "CloudTrailARN",
        "type": "string"
       },
       "IAMPrincipalARN": {
        "default": "",
        "description": "IAM ARN we are copying the profile into.",
        "required": true,
        "title": "IAMPrincipalARN",
        "type": "string"
       },
       "hours": {
        "default": 24,
        "description": "Hours of data to examine",
        "required": true,
        "title": "hours",
        "type": "number"
       },
       "region": {
        "default": "\"us-west-2\"",
        "description": "AWS Region",
        "required": true,
        "title": "region",
        "type": "string"
       }
      },
      "required": [
       "AccessRole",
       "CloudTrailARN",
       "IAMPrincipalARN",
       "hours",
       "region"
      ],
      "title": "AWS_Start_IAM_Policy_Generation",
      "type": "object"
     }
    ],
    "isUnskript": false,
    "legotype": "LEGO_TYPE_AWS",
    "name": "AWS Start IAM Policy Generation ",
    "nouns": [],
    "orderProperties": [
     "region",
     "CloudTrailARN",
     "IAMPrincipalARN",
     "AccessRole",
     "hours"
    ],
    "output": {
     "type": ""
    },
    "outputParams": {
     "output_name": "jobId",
     "output_name_enabled": true,
     "output_runbook_enabled": false,
     "output_runbook_name": ""
    },
    "printOutput": true,
    "tags": [],
    "title": "AWS Start IAM Policy Generation ",
    "verbs": []
   },
   "outputs": [],
   "source": [
    "##\n",
    "# Copyright (c) 2023 unSkript, Inc\n",
    "# All rights reserved.\n",
    "##\n",
    "from pydantic import BaseModel, Field, SecretStr\n",
    "from typing import Dict, List\n",
    "import pprint\n",
    "from datetime import datetime, timedelta\n",
    "\n",
    "from beartype import beartype\n",
    "@beartype\n",
    "def AWS_Start_IAM_Policy_Generation_printer(output):\n",
    "    if output is None:\n",
    "        return\n",
    "    pprint.pprint(output)\n",
    "\n",
    "@beartype\n",
    "def AWS_Start_IAM_Policy_Generation(handle, region:str, CloudTrailARN:str, IAMPrincipalARN:str, AccessRole:str, hours:float) -> str:\n",
    "\n",
    "    client = handle.client('accessanalyzer', region_name=region)\n",
    "    policyGenerationDict = {'principalArn': IAMPrincipalARN}\n",
    "    myTrail = {'cloudTrailArn': CloudTrailARN,\n",
    "                   'regions': [region],\n",
    "                   'allRegions': False\n",
    "              }\n",
    "    endTime = datetime.now()\n",
    "    endTime = endTime.strftime(\"%Y-%m-%dT%H:%M:%S\")\n",
    "    startTime = datetime.now()- timedelta(hours =hours)\n",
    "    startTime =startTime.strftime(\"%Y-%m-%dT%H:%M:%S\")\n",
    "    response = client.start_policy_generation(    \n",
    "        policyGenerationDetails=policyGenerationDict,\n",
    "        cloudTrailDetails={\n",
    "            'trails': [myTrail],\n",
    "            'accessRole': AccessRole,\n",
    "            'startTime': startTime,\n",
    "            'endTime': endTime\n",
    "        }\n",
    "    )\n",
    "    jobId = response['jobId']\n",
    "    return jobId\n",
    "\n",
    "task = Task(Workflow())\n",
    "\n",
    "task.configure(inputParamsJson='''{\n",
    "    \"AccessRole\": \"\\\\\"arn:aws:iam::100498623390:role/service-role/AccessAnalyzerMonitorServiceRole_CTBKDXMCCK\\\\\"\",\n",
    "    \"CloudTrailARN\": \"CloudTrailArn\",\n",
    "    \"IAMPrincipalARN\": \"reference_iam_arn\",\n",
    "    \"hours\": \"float(24)\",\n",
    "    \"region\": \"region\"\n",
    "    }''')\n",
    "task.configure(outputName=\"jobId\")\n",
    "\n",
    "task.configure(printOutput=True)\n",
    "(err, hdl, args) = task.validate(vars=vars())\n",
    "if err is None:\n",
    "    task.execute(AWS_Start_IAM_Policy_Generation, lego_printer=AWS_Start_IAM_Policy_Generation_printer, hdl=hdl, args=args)"
   ],
   "output": {}
  },
  {
   "cell_type": "code",
   "execution_count": null,
   "id": "14a19146-ef56-4643-8d21-8e742c0beb6e",
   "metadata": {
    "accessType": "ACCESS_TYPE_UNSPECIFIED",
    "actionBashCommand": false,
    "actionCategories": [],
    "actionIsCheck": false,
    "actionNeedsCredential": true,
    "actionNextHop": [],
    "actionNextHopParameterMapping": {},
    "actionOutputType": "ACTION_OUTPUT_TYPE_DICT",
    "actionRequiredLinesInCode": [],
    "actionSupportsIteration": true,
    "actionSupportsPoll": true,
    "action_modified": false,
    "action_uuid": "5548a22f-4669-4ad2-9f61-268507f818c7",
    "checkEnabled": false,
    "continueOnError": false,
    "createTime": "2023-03-24T10:41:12Z",
    "credentialsJson": {},
    "currentVersion": "v0.0.0",
    "customCell": true,
    "description": "Once an Access Policy has been generated, this Action retrieves the policy.",
    "execution_data": {
     "last_date_success_run_cell": "2023-04-17T13:16:02.591Z"
    },
    "id": 100355,
    "index": 100355,
    "inputData": [
     {
      "jobId": {
       "constant": false,
       "value": "jobId"
      },
      "region": {
       "constant": false,
       "value": "region"
      }
     }
    ],
    "inputschema": [
     {
      "properties": {
       "jobId": {
        "default": "",
        "description": "Policy JobId",
        "required": true,
        "title": "jobId",
        "type": "string"
       },
       "region": {
        "default": "\"us-west-2\"",
        "description": "region",
        "required": true,
        "title": "region",
        "type": "string"
       }
      },
      "required": [
       "jobId",
       "region"
      ],
      "title": "aws_get_generated_policy",
      "type": "object"
     }
    ],
    "isUnskript": false,
    "legotype": "LEGO_TYPE_AWS",
    "name": "AWS Get Generated Policy",
    "nouns": [],
    "orderProperties": [
     "region",
     "jobId"
    ],
    "output": {
     "type": ""
    },
    "outputParams": {
     "output_name": "generatedPolicy",
     "output_name_enabled": true
    },
    "printOutput": true,
    "tags": [],
    "title": "AWS Get Generated Policy",
    "verbs": []
   },
   "outputs": [],
   "source": [
    "##\n",
    "# Copyright (c) 2023 unSkript, Inc\n",
    "# All rights reserved.\n",
    "##\n",
    "from pydantic import BaseModel, Field, SecretStr\n",
    "from typing import Dict, List\n",
    "import pprint\n",
    "\n",
    "from beartype import beartype\n",
    "@beartype\n",
    "def aws_get_generated_policy_printer(output):\n",
    "    if output is None:\n",
    "        return\n",
    "    pprint.pprint(output)\n",
    "\n",
    "@beartype\n",
    "def aws_get_generated_policy(handle, region:str,jobId:str) -> Dict:\n",
    "    client = handle.client('accessanalyzer', region_name=region)\n",
    "    response = client.get_generated_policy(\n",
    "        jobId=jobId,\n",
    "        includeResourcePlaceholders=True,\n",
    "        includeServiceLevelTemplate=True\n",
    "    )\n",
    "    result = {}\n",
    "    result['generatedPolicyResult'] = response['generatedPolicyResult']\n",
    "    result['generationStatus'] = response['jobDetails']['status']\n",
    "    return result\n",
    "\n",
    "task = Task(Workflow())\n",
    "\n",
    "task.configure(inputParamsJson='''{\n",
    "    \"jobId\": \"jobId\",\n",
    "    \"region\": \"region\"\n",
    "    }''')\n",
    "task.configure(outputName=\"generatedPolicy\")\n",
    "\n",
    "task.configure(printOutput=True)\n",
    "(err, hdl, args) = task.validate(vars=vars())\n",
    "if err is None:\n",
    "    task.execute(aws_get_generated_policy, lego_printer=aws_get_generated_policy_printer, hdl=hdl, args=args)"
   ],
   "output": {}
  },
  {
   "cell_type": "code",
   "execution_count": null,
   "id": "44929a58-d92e-4c2f-b3f4-a730ab7aed92",
   "metadata": {
    "customAction": true,
    "execution_data": {
     "last_date_success_run_cell": "2023-04-17T13:16:49.500Z"
    },
    "orderProperties": [],
    "tags": [],
    "credentialsJson": {}
   },
   "outputs": [],
   "source": [
    "print(generatedPolicy['generationStatus'])\n",
    "\n"
   ],
   "output": {}
  },
  {
   "cell_type": "code",
   "execution_count": null,
   "id": "b6f9b8b8-de1b-4e64-8e3d-23cb7ee71bed",
   "metadata": {
    "accessType": "ACCESS_TYPE_UNSPECIFIED",
    "actionBashCommand": false,
    "actionCategories": [],
    "actionIsCheck": false,
    "actionNeedsCredential": true,
    "actionNextHop": [],
    "actionNextHopParameterMapping": {},
    "actionOutputType": "",
    "actionRequiredLinesInCode": [],
    "actionSupportsIteration": true,
    "actionSupportsPoll": true,
    "action_modified": false,
    "action_uuid": "8f56b9e753e57065e02e107dfd472df3e3b6e3440bd8156f37dc752a1f337909",
    "checkEnabled": false,
    "createTime": "1970-01-01T00:00:00Z",
    "credentialsJson": {},
    "currentVersion": "0.1.0",
    "customCell": true,
    "description": "List all AWS IAM Users",
    "execution_data": {
     "last_date_success_run_cell": "2023-04-13T21:55:05.777Z"
    },
    "id": 265,
    "index": 265,
    "inputschema": [
     {
      "properties": {},
      "required": [],
      "title": "aws_get_acount_number",
      "type": "object"
     }
    ],
    "isUnskript": false,
    "jupyter": {
     "source_hidden": true
    },
    "legotype": "LEGO_TYPE_AWS",
    "name": "AWS Get AWS Account Number",
    "nouns": [
     "users",
     "iam",
     "aws"
    ],
    "orderProperties": [],
    "output": {
     "type": ""
    },
    "outputParams": {
     "output_name": "accountNumber",
     "output_name_enabled": true
    },
    "printOutput": true,
    "tags": [
     "aws_list_all_iam_users"
    ],
    "title": "AWS Get AWS Account Number",
    "verbs": [
     "list"
    ]
   },
   "outputs": [],
   "source": [
    "##\n",
    "# Copyright (c) 2021 unSkript, Inc\n",
    "# All rights reserved.\n",
    "##\n",
    "from pydantic import BaseModel, Field, SecretStr\n",
    "from typing import Dict, List\n",
    "import pprint\n",
    "\n",
    "from beartype import beartype\n",
    "@beartype\n",
    "def aws_get_acount_number_printer(output):\n",
    "    if output is None:\n",
    "        return\n",
    "    pprint.pprint(output)\n",
    "\n",
    "@beartype\n",
    "def aws_get_acount_number(handle) -> str:\n",
    "    # Create a client object for the AWS Identity and Access Management (IAM) service\n",
    "    iam_client = handle.client('iam')\n",
    "\n",
    "    # Call the get_user() method to get information about the current user\n",
    "    response = iam_client.get_user()\n",
    "\n",
    "    # Extract the account ID from the ARN (Amazon Resource Name) of the user\n",
    "    account_id = response['User']['Arn'].split(':')[4]\n",
    "\n",
    "    # Print the account ID\n",
    "    return account_id\n",
    "\n",
    "\n",
    "task = Task(Workflow())\n",
    "\n",
    "task.configure(outputName=\"accountNumber\")\n",
    "\n",
    "task.configure(printOutput=True)\n",
    "(err, hdl, args) = task.validate(vars=vars())\n",
    "if err is None:\n",
    "    task.execute(aws_get_acount_number, lego_printer=aws_get_acount_number_printer, hdl=hdl, args=args)"
   ],
   "output": {}
  },
  {
   "cell_type": "code",
   "execution_count": null,
   "id": "5be8f9ec-7591-4a70-b87d-be9bcddd070b",
   "metadata": {
    "customAction": true,
    "execution_data": {
     "last_date_success_run_cell": "2023-04-17T13:16:57.042Z"
    },
    "name": "clean up policy",
    "orderProperties": [],
    "tags": [],
    "title": "clean up policy",
    "credentialsJson": {}
   },
   "outputs": [],
   "source": [
    "import json\n",
    "import re \n",
    "\n",
    "\n",
    "policy = generatedPolicy['generatedPolicyResult']['generatedPolicies'][0]['policy']\n",
    "#print(policy)\n",
    "\n",
    "policy = json.dumps(policy)\n",
    "\n",
    "policy = policy.replace('${Region}', \"us-west-2\")\n",
    "policy = policy.replace('${Account}', accountNumber)\n",
    "policy = re.sub(\"\\${[A-Za-z]*}\", \"*\", policy)\n",
    "policy = json.loads(policy)\n",
    "policy = str(policy)\n",
    "print(type(policy), policy)\n"
   ],
   "output": {}
  },
  {
   "cell_type": "code",
   "execution_count": null,
   "id": "2e2f8b0b-4cd4-4601-b5ea-735c5c9cf6c2",
   "metadata": {
    "accessType": "ACCESS_TYPE_UNSPECIFIED",
    "actionBashCommand": false,
    "actionCategories": [],
    "actionIsCheck": false,
    "actionNeedsCredential": true,
    "actionNextHop": [],
    "actionNextHopParameterMapping": {},
    "actionOutputType": "ACTION_OUTPUT_TYPE_DICT",
    "actionRequiredLinesInCode": [],
    "actionSupportsIteration": true,
    "actionSupportsPoll": true,
    "action_modified": true,
    "action_uuid": "4a3d4143-35d2-4f52-aa36-791cc1d6d2d0",
    "checkEnabled": false,
    "continueOnError": false,
    "createTime": "2023-03-24T10:42:47Z",
    "credentialsJson": {},
    "currentVersion": "v0.0.0",
    "customCell": true,
    "description": "Takes a generated policy and saves it as an IAM policy that can be applied to any IAM user.",
    "execution_data": {
     "last_date_success_run_cell": "2023-04-14T16:38:15.659Z"
    },
    "id": 100356,
    "index": 100356,
    "inputData": [
     {
      "PolicyName": {
       "constant": false,
       "value": "policy_name"
      },
      "policyDocument": {
       "constant": false,
       "value": "policy"
      }
     }
    ],
    "inputschema": [
     {
      "properties": {
       "PolicyName": {
        "default": "",
        "description": "Name of Policy to generate at AWS",
        "required": true,
        "title": "PolicyName",
        "type": "string"
       },
       "policyDocument": {
        "default": "",
        "description": "Stringified JSON policy",
        "required": true,
        "title": "policyDocument",
        "type": "string"
       }
      },
      "required": [
       "PolicyName",
       "policyDocument"
      ],
      "title": "aws_create_IAMpolicy",
      "type": "object"
     }
    ],
    "isUnskript": false,
    "jupyter": {
     "source_hidden": true
    },
    "legotype": "LEGO_TYPE_AWS",
    "name": "AWS Create IAM Policy",
    "nouns": [],
    "orderProperties": [
     "policyDocument",
     "PolicyName"
    ],
    "output": {
     "type": ""
    },
    "outputParams": {
     "output_name": "createdPolicy",
     "output_name_enabled": true
    },
    "printOutput": true,
    "tags": [],
    "title": "AWS Create IAM Policy",
    "verbs": []
   },
   "outputs": [],
   "source": [
    "##\n",
    "# Copyright (c) 2021 unSkript, Inc\n",
    "# All rights reserved.\n",
    "##\n",
    "from pydantic import BaseModel, Field, SecretStr\n",
    "from typing import Dict, List\n",
    "import pprint\n",
    "\n",
    "from beartype import beartype\n",
    "@beartype\n",
    "def aws_create_IAMpolicy_printer(output):\n",
    "    if output is None:\n",
    "        return\n",
    "    pprint.pprint(output)\n",
    "\n",
    "@beartype\n",
    "def aws_create_IAMpolicy(handle, policyDocument:str, PolicyName:str) -> Dict:\n",
    "\n",
    "    client = handle.client('iam')\n",
    "    response = client.create_policy(\n",
    "        PolicyName=PolicyName,\n",
    "        PolicyDocument=policyDocument,\n",
    "        Description='generated Via unSkript',\n",
    "\n",
    "    )\n",
    "    return response\n",
    "\n",
    "task = Task(Workflow())\n",
    "\n",
    "task.configure(inputParamsJson='''{\n",
    "    \"PolicyName\": \"policy_name\",\n",
    "    \"policyDocument\": \"policy\"\n",
    "    }''')\n",
    "task.configure(outputName=\"createdPolicy\")\n",
    "\n",
    "task.configure(printOutput=True)\n",
    "(err, hdl, args) = task.validate(vars=vars())\n",
    "if err is None:\n",
    "    task.execute(aws_create_IAMpolicy, lego_printer=aws_create_IAMpolicy_printer, hdl=hdl, args=args)"
   ],
   "output": {}
  },
  {
   "cell_type": "code",
   "execution_count": null,
   "id": "81841c82-639c-4fb7-8a1e-aab82134f4e9",
   "metadata": {
    "collapsed": true,
    "customAction": true,
    "execution_data": {
     "last_date_success_run_cell": "2023-03-30T14:53:52.572Z"
    },
    "jupyter": {
     "outputs_hidden": true,
     "source_hidden": true
    },
    "orderProperties": [],
    "tags": [],
    "credentialsJson": {}
   },
   "outputs": [],
   "source": [
    "print(createdPolicy['Policy']['Arn'])"
   ],
   "output": {}
  },
  {
   "cell_type": "code",
   "execution_count": null,
   "id": "22deeb36-539b-493a-9d18-ce9c214cdacd",
   "metadata": {
    "accessType": "ACCESS_TYPE_UNSPECIFIED",
    "actionBashCommand": false,
    "actionCategories": [],
    "actionIsCheck": false,
    "actionNeedsCredential": true,
    "actionNextHop": [],
    "actionNextHopParameterMapping": {},
    "actionOutputType": "",
    "actionRequiredLinesInCode": [],
    "actionSupportsIteration": true,
    "actionSupportsPoll": true,
    "action_modified": false,
    "action_uuid": "3f71dd060d5955f5dc9104dbaf418bf957b2222c510cb3afd09ded8e41e433d9",
    "checkEnabled": false,
    "continueOnError": false,
    "createTime": "1970-01-01T00:00:00Z",
    "credentialsJson": {},
    "currentVersion": "0.1.0",
    "description": "Create New IAM User",
    "execution_data": {
     "last_date_success_run_cell": "2023-04-14T16:38:20.334Z"
    },
    "id": 204,
    "index": 204,
    "inputData": [
     {
      "tag_key": {
       "constant": false,
       "value": "\"test\""
      },
      "tag_value": {
       "constant": false,
       "value": "\"test\""
      },
      "user_name": {
       "constant": false,
       "value": "user_name"
      }
     }
    ],
    "inputschema": [
     {
      "properties": {
       "tag_key": {
        "description": "Tag Key to new IAM User.",
        "title": "Tag Key",
        "type": "string"
       },
       "tag_value": {
        "description": "Tag Value to new IAM User.",
        "title": "Tag Value",
        "type": "string"
       },
       "user_name": {
        "description": "IAM User Name.",
        "title": "User Name",
        "type": "string"
       }
      },
      "required": [
       "user_name",
       "tag_key",
       "tag_value"
      ],
      "title": "aws_create_iam_user",
      "type": "object"
     }
    ],
    "isUnskript": false,
    "jupyter": {
     "source_hidden": true
    },
    "legotype": "LEGO_TYPE_AWS",
    "name": "Create New IAM User",
    "nouns": [],
    "orderProperties": [
     "user_name",
     "tag_key",
     "tag_value"
    ],
    "output": {
     "type": ""
    },
    "printOutput": true,
    "tags": [
     "aws_create_iam_user"
    ],
    "verbs": []
   },
   "outputs": [],
   "source": [
    "##  Copyright (c) 2021 unSkript, Inc\n",
    "##  All rights reserved.\n",
    "##\n",
    "from typing import List, Dict\n",
    "from pydantic import BaseModel, Field\n",
    "from botocore.exceptions import ClientError\n",
    "import pprint\n",
    "from beartype import beartype\n",
    "\n",
    "\n",
    "from beartype import beartype\n",
    "@beartype\n",
    "def aws_create_iam_user_printer(output):\n",
    "    if output is None:\n",
    "        return\n",
    "    pprint.pprint(output)\n",
    "\n",
    "\n",
    "@beartype\n",
    "@beartype\n",
    "def aws_create_iam_user(handle, user_name: str, tag_key: str, tag_value: str) -> Dict:\n",
    "    \"\"\"aws_create_iam_user Creates new IAM User.\n",
    "\n",
    "        :type handle: object\n",
    "        :param handle: Object returned by the task.validate(...) method\n",
    "\n",
    "        :type user_name: string\n",
    "        :param user_name: Name of new IAM User.\n",
    "\n",
    "        :type tag_key: string\n",
    "        :param tag_key: Tag Key assign to new User.\n",
    "\n",
    "        :type tag_value: string\n",
    "        :param tag_value: Tag Value assign to new User.\n",
    "\n",
    "        :rtype: Dict with the stopped instances state info.\n",
    "    \"\"\"\n",
    "\n",
    "    ec2Client = handle.client(\"iam\")\n",
    "    result = {}\n",
    "    try:\n",
    "        response = ec2Client.create_user(\n",
    "            UserName=user_name,\n",
    "            Tags=[\n",
    "                {\n",
    "                    'Key': tag_key,\n",
    "                    'Value': tag_value\n",
    "                }])\n",
    "        result = response\n",
    "    except ClientError as error:\n",
    "        if error.response['Error']['Code'] == 'EntityAlreadyExists':\n",
    "            result = error.response\n",
    "        else:\n",
    "            result = error.response\n",
    "\n",
    "    return result\n",
    "\n",
    "\n",
    "task = Task(Workflow())\n",
    "\n",
    "task.configure(inputParamsJson='''{\n",
    "    \"tag_key\": \"\\\\\"test\\\\\"\",\n",
    "    \"tag_value\": \"\\\\\"test\\\\\"\",\n",
    "    \"user_name\": \"user_name\"\n",
    "    }''')\n",
    "task.configure(printOutput=True)\n",
    "(err, hdl, args) = task.validate(vars=vars())\n",
    "if err is None:\n",
    "    task.execute(aws_create_iam_user, lego_printer=aws_create_iam_user_printer, hdl=hdl, args=args)"
   ],
   "output": {}
  },
  {
   "cell_type": "code",
   "execution_count": null,
   "id": "bebb49ec-d4f7-4ca5-910c-d0a836d882a2",
   "metadata": {
    "accessType": "ACCESS_TYPE_UNSPECIFIED",
    "actionBashCommand": false,
    "actionCategories": [],
    "actionIsCheck": false,
    "actionNeedsCredential": true,
    "actionNextHop": [],
    "actionNextHopParameterMapping": {},
    "actionOutputType": "",
    "actionRequiredLinesInCode": [],
    "actionSupportsIteration": true,
    "actionSupportsPoll": true,
    "action_modified": false,
    "action_uuid": "dee9134df84f6c675edab485389572795169495347e40abbdf81f24ec807a85c",
    "checkEnabled": false,
    "continueOnError": false,
    "createTime": "1970-01-01T00:00:00Z",
    "credentialsJson": {},
    "currentVersion": "0.1.0",
    "description": "AWS Attach New Policy to User",
    "execution_data": {
     "last_date_success_run_cell": "2023-03-30T14:54:31.327Z"
    },
    "id": 215,
    "index": 215,
    "inputData": [
     {
      "policy_name": {
       "constant": false,
       "value": "createdPolicy['Policy']['Arn']"
      },
      "user_name": {
       "constant": false,
       "value": "user_name"
      }
     }
    ],
    "inputschema": [
     {
      "properties": {
       "policy_name": {
        "description": "Policy name to apply the permissions to the user.",
        "title": "Policy Name",
        "type": "string"
       },
       "user_name": {
        "description": "IAM user whose policies need to fetched.",
        "title": "User Name",
        "type": "string"
       }
      },
      "required": [
       "user_name",
       "policy_name"
      ],
      "title": "aws_attache_iam_policy",
      "type": "object"
     }
    ],
    "isUnskript": false,
    "jupyter": {
     "source_hidden": true
    },
    "legotype": "LEGO_TYPE_AWS",
    "name": "AWS Attach New Policy to User",
    "nouns": [],
    "orderProperties": [
     "user_name",
     "policy_name"
    ],
    "output": {
     "type": ""
    },
    "printOutput": true,
    "tags": [
     "aws_attache_iam_policy"
    ],
    "verbs": []
   },
   "outputs": [],
   "source": [
    "##  Copyright (c) 2021 unSkript, Inc\n",
    "##  All rights reserved.\n",
    "##\n",
    "from typing import List, Dict\n",
    "from pydantic import BaseModel, Field\n",
    "from botocore.exceptions import ClientError\n",
    "import pprint\n",
    "\n",
    "\n",
    "from beartype import beartype\n",
    "@beartype\n",
    "def aws_attach_iam_policy_printer(output):\n",
    "    if output is None:\n",
    "        return\n",
    "    pprint.pprint(output)\n",
    "\n",
    "\n",
    "@beartype\n",
    "def aws_attach_iam_policy(handle, user_name: str, policy_name: str) -> Dict:\n",
    "    \"\"\"aws_attache_iam_policy used to provide user permissions.\n",
    "\n",
    "        :type handle: object\n",
    "        :param handle: Object returned from task.validate(...).\n",
    "\n",
    "        :type user_name: string\n",
    "        :param user_name: Dictionary of credentials info.\n",
    "\n",
    "        :type policy_name: string\n",
    "        :param policy_name: Policy name to apply the permissions to the user.\n",
    "\n",
    "        :rtype: Dict with User policy information.\n",
    "    \"\"\"\n",
    "    result = {}\n",
    "    iamResource = handle.resource('iam')\n",
    "    try:\n",
    "        user = iamResource.User(user_name)\n",
    "        response = user.attach_policy(\n",
    "            PolicyArn='arn:aws:iam::aws:policy/'+policy_name\n",
    "            )\n",
    "        result = response\n",
    "    except ClientError as error:\n",
    "        result = error.response\n",
    "\n",
    "    return result\n",
    "\n",
    "\n",
    "def unskript_default_printer(output):\n",
    "    if isinstance(output, (list, tuple)):\n",
    "        for item in output:\n",
    "            print(f'item: {item}')\n",
    "    elif isinstance(output, dict):\n",
    "        for item in output.items():\n",
    "            print(f'item: {item}')\n",
    "    else:\n",
    "        print(f'Output for {task.name}')\n",
    "        print(output)\n",
    "\n",
    "task = Task(Workflow())\n",
    "\n",
    "task.configure(inputParamsJson='''{\n",
    "    \"policy_name\": \"createdPolicy['Policy']['Arn']\",\n",
    "    \"user_name\": \"user_name\"\n",
    "    }''')\n",
    "task.configure(printOutput=True)\n",
    "(err, hdl, args) = task.validate(vars=vars())\n",
    "if err is None:\n",
    "    task.execute(aws_attach_iam_policy, lego_printer=unskript_default_printer, hdl=hdl, args=args)"
   ],
   "output": {}
  }
 ],
 "metadata": {
  "execution_data": {
   "runbook_name": "Create an IAM user using Principle of Least Privilege",
   "parameters": [
    "user_name",
    "CloudTrailArn",
    "policy_name",
    "region"
   ]
  },
  "kernelspec": {
   "display_name": "unSkript (Build: 1039)",
   "language": "python",
   "name": "python3"
  },
  "language_info": {
   "codemirror_mode": {
    "name": "ipython",
    "version": 3
   },
   "file_extension": ".py",
   "mimetype": "text/x-python",
   "name": "python",
   "nbconvert_exporter": "python",
   "pygments_lexer": "ipython3",
   "version": "3.9.6"
  },
  "parameterSchema": {
   "properties": {
    "CloudTrailArn": {
     "default": "arn:aws:cloudtrail:us-west-2:100498623390:trail/management-events",
     "description": "ARN of the CloudTrail to be queried",
     "title": "CloudTrailArn",
     "type": "string"
    },
    "policy_name": {
     "default": "generated_iam_policy_11",
     "description": "IAM Policy to be created",
     "title": "policy_name",
     "type": "string"
    },
    "reference_iam_arn": {
     "default": "arn:aws:iam::100498623390:user/doug-billing-s3",
     "description": "The arn of the Reference IAM. We will build a new policy based on the activity of this account.",
     "title": "reference_iam_arn",
     "type": "string"
    },
    "region": {
     "default": "us-west-2",
     "description": "AWS Region",
     "title": "region",
     "type": "string"
    },
    "threshold": {
     "default": 24,
     "description": "Number of hours to examine",
     "title": "threshold",
     "type": "number"
    },
    "user_name": {
     "default": "Doug_generated_iam_14",
     "description": "IAM user to be created",
     "title": "user_name",
     "type": "string"
    }
   },
   "required": [],
   "title": "Schema",
   "type": "object"
  }
 },
 "nbformat": 4,
 "nbformat_minor": 5
}