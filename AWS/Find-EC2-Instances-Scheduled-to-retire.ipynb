{
    "nbformat": 4,
    "nbformat_minor": 5,
    "metadata": {
        "kernelspec": {
            "name": "python_kubernetes",
            "display_name": "unSkript (Build: 468)"
        },
        "language_info": {
            "name": "python",
            "file_extension": ".py",
            "mimetype": "text/x-python",
            "pygments_lexer": "ipython3"
        },
        "execution_data": {
            "workflow_id": "39a1dc1a-360d-4b91-a424-49ca7ff699d1",
            "execution_id": "03392c6d-4921-40c2-8ff7-6453b8d54d94",
            "notebook_id": "b2aec997-a89d-402a-a4ff-271dac08162e.ipynb",
            "tenant_id": "982dba5f-d9df-48ae-a5bf-ec1fc94d4882",
            "tenant_url": "https://tenant-staging.alpha.unskript.io",
            "environment_id": "1499f27c-6406-4fbd-bd1b-c6f92800018f",
            "parameters": null,
            "runbook_name": "Find EC2 Instances Scheduled to retire",
            "environment_name": "Staging",
            "show_tool_tip": false,
            "search_string": "",
            "inputs_for_searched_lego": "",
            "user_email_id": "harshal.bangre@unskript.com"
        },
        "parameterSchema": {
            "properties": {},
            "required": [],
            "title": "Schema",
            "type": "object"
        },
        "parameterValues": {}
    },
    "cells": [
        {
            "id": "6fe73cbf-35c7-4224-b658-1799c0e2d2bd",
            "cell_type": "code",
            "metadata": {
                "actionNeedsCredential": false,
                "actionSupportsIteration": false,
                "actionSupportsPoll": false,
                "deletable": false,
                "editable": false,
                "jupyter": {
                    "source_hidden": true
                },
                "orderProperties": [],
                "tags": [
                    "unSkript:nbParam"
                ],
                "title": [
                    "unSkript Internal"
                ],
                "trusted": true
            },
            "source": "import json\nfrom unskript import nbparams\nfrom unskript.secrets import ENV_MODE, ENV_MODE_AWS\nfrom unskript.fwk.workflow import Task, Workflow\n\nenv = {\"ENV_MODE\":\"ENV_MODE_AWS\",\"TENANT_ID\":\"982dba5f-d9df-48ae-a5bf-ec1fc94d4882\",\"ENVIRONMENT_ID\":\"1499f27c-6406-4fbd-bd1b-c6f92800018f\",\"TENANT_URL\":\"https://tenant-staging.alpha.unskript.io\",\"AWS_REGION\":\"us-west-2\"}\nsecret_store_cfg = {\"SECRET_STORE_TYPE\":\"SECRET_STORE_TYPE_AWS\",\"AWS_SECRET_PREFIX\":\"staging\",\"AWS_REGION\":\"us-west-2\"}\nparamDict = {}\nparamDict.update(env)\nparamDict.update(secret_store_cfg)\nparamsJson = json.dumps(paramDict)\nnbParamsObj = nbparams.NBParams(paramsJson)\n\nw = Workflow(env, secret_store_cfg, None, global_vars=globals())\n\n",
            "execution_count": 1,
            "outputs": []
        },
        {
            "id": "96ddce27-c542-40c7-b8af-76426cc7dc54",
            "cell_type": "markdown",
            "metadata": {
                "name": "Find EC2 Instances Schedule to Retire",
                "orderProperties": [],
                "tags": [],
                "title": "Find EC2 Instances Schedule to Retire"
            },
            "source": "\n<img src=\"https://unskript.com/assets/favicon.png\" alt=\"unSkript.com\" width=\"100\" height=\"100\"/> \n<h1> unSkript Runbooks </h1>\n<div class=\"alert alert-block alert-success\">\n    <b> This runbook demonstrates How to Find EC2 Instances Scheduled to Retire soon using unSkript legos.</b>\n</div>\n\n<br>\n\n<center><h2>Find EC2 Instances Scheduled to Retire</h2></center>\n\n# Steps Overview\n    1) Filter all AWS EC2 instances\n    2) Get the event.code for the scheduled event instance-retirement.",
            "execution_count": null,
            "outputs": []
        },
        {
            "id": "77b0652c-eff5-4527-8daa-f830d49bdb23",
            "cell_type": "markdown",
            "metadata": {
                "name": "Filter ALL AWS EC2 Instances",
                "orderProperties": [],
                "tags": [],
                "title": "Filter ALL AWS EC2 Instances"
            },
            "source": "Here we will use unSkript Filter ALL AWS EC2 Instances Lego. This lego takes region as input. This inputs is used to findout all the EC2 instances.",
            "execution_count": null,
            "outputs": []
        },
        {
            "id": "b23ce2bb-a142-4517-9881-9e9beec177fb",
            "cell_type": "code",
            "metadata": {
                "accessType": "ACCESS_TYPE_UNSPECIFIED",
                "actionBashCommand": false,
                "actionNeedsCredential": true,
                "actionRequiredLinesInCode": [],
                "actionSupportsIteration": true,
                "actionSupportsPoll": true,
                "action_uuid": "abe9fc82a53b80dc1dd4d5a89e31d22b0338e73e86d2ca859576f38cc6d19f48",
                "continueOnError": false,
                "createTime": "1970-01-01T00:00:00Z",
                "credentialsJson": {
                },
                "currentVersion": "0.1.0",
                "description": "Filter AWS EC2 Instance by Tag",
                "execution_data": {
                    "last_date_success_run_cell": "2022-08-29T18:07:33.114Z"
                },
                "id": 155,
                "index": 155,
                "inputData": [
                    {
                        "region": {
                            "constant": false,
                            "value": "\"us-west-2\""
                        }
                    }
                ],
                "inputschema": [
                    {
                        "properties": {
                            "region": {
                                "default": "",
                                "description": "AWS Region.",
                                "title": "Region",
                                "type": "string"
                            }
                        },
                        "required": [
                            "tag_key",
                            "tag_value",
                            "region"
                        ],
                        "title": "aws_filter_ec2_by_tags",
                        "type": "object"
                    }
                ],
                "jupyter": {
                    "source_hidden": true
                },
                "legotype": "LEGO_TYPE_AWS",
                "name": "Filter All AWS EC2 Instances",
                "nouns": [
                    "aws",
                    "ec2",
                    "instances",
                    "tag"
                ],
                "orderProperties": [
                    "region"
                ],
                "output": {
                    "type": ""
                },
                "outputParams": {
                    "output_name": "instance_ids",
                    "output_name_enabled": true
                },
                "tags": [
                    "aws_filter_ec2_by_tags"
                ],
                "title": "Filter All AWS EC2 Instances",
                "trusted": true,
                "verbs": [
                    "filter"
                ]
            },
            "source": "##\n##  Copyright (c) 2021 unSkript, Inc\n##  All rights reserved.\n##\nfrom pydantic import BaseModel, Field\nfrom typing import List\nfrom unskript.connectors.aws import aws_get_paginator\nimport pprint\n\n\nfrom beartype import beartype\n@beartype\ndef aws_filter_ec2_instances_printer(output):\n    if output is None:\n        return\n    pprint.pprint({\"Instances\": output})\n\n\n@beartype\ndef aws_filter_ec2_instances(handle, region: str) -> List:\n    \"\"\"aws_filter_ec2_by_tags Returns an array of instances.\n\n        :type region: string\n        :param region: Used to filter the volume for specific region.\n\n        :rtype: Array of instances.\n    \"\"\"\n    # Input param validation.\n\n    ec2Client = handle.client('ec2', region_name=region)\n    res = aws_get_paginator(ec2Client, \"describe_instances\", \"Reservations\")\n\n    result = []\n    for reservation in res:\n        for instance in reservation['Instances']:\n            result.append(instance['InstanceId'])\n    return result\n\n\ntask = Task(Workflow())\ntask.configure(credentialsJson='''{\n    \"credential_name\": \"DevRole\",\n    \"credential_type\": \"CONNECTOR_TYPE_AWS\",\n    \"credential_id\": \"0b438eba-0627-4f6d-b998-a4c604f20e3c\"\n}''')\ntask.configure(inputParamsJson='''{\n    \"region\": \"\\\\\"us-west-2\\\\\"\"\n    }''')\ntask.configure(outputName=\"instance_ids\")\n(err, hdl, args) = task.validate(vars=vars())\nif err is None:\n    task.execute(aws_filter_ec2_instances, lego_printer=aws_filter_ec2_instances_printer, hdl=hdl, args=args)",
            "execution_count": 2,
            "outputs": []
        },
        {
            "id": "62c27136-3d0f-4984-ac2b-c6bc3abf2a97",
            "cell_type": "markdown",
            "metadata": {
                "name": "Get AWS Scheduled to Retire Instances",
                "orderProperties": [],
                "tags": [],
                "title": "Get AWS Scheduled to Retire Instances"
            },
            "source": "Here we will use unSkript Get AWS Scheduled to Retire Instances Lego. This lego takes instance_ids list and region as input. This inputs is used to findout EC2 instances which are schedule to retire soon .",
            "execution_count": null,
            "outputs": []
        },
        {
            "id": "3c981e53-49f2-47d0-baf2-e6553acc59b7",
            "cell_type": "code",
            "metadata": {
                "accessType": "ACCESS_TYPE_UNSPECIFIED",
                "actionBashCommand": false,
                "actionNeedsCredential": true,
                "actionRequiredLinesInCode": [],
                "actionSupportsIteration": true,
                "actionSupportsPoll": true,
                "action_uuid": "aa1e026ca8002b906315feba401e5c46889d459270adce3b65d480dc9530311f",
                "collapsed": true,
                "continueOnError": false,
                "createTime": "1970-01-01T00:00:00Z",
                "credentialsJson": {
                },
                "currentVersion": "0.1.0",
                "description": "Use This Action to Get Details about an AWS EC2 Instance",
                "execution_data": {
                    "last_date_success_run_cell": "2022-08-29T18:20:41.385Z"
                },
                "id": 122,
                "index": 122,
                "inputData": [
                    {
                        "instance_ids": {
                            "constant": false,
                            "value": "instance_ids"
                        },
                        "region": {
                            "constant": false,
                            "value": "\"us-west-2\""
                        }
                    }
                ],
                "inputschema": [
                    {
                        "properties": {
                            "instance_ids": {
                                "default": "",
                                "description": "Instance Ids",
                                "title": "instance_ids",
                                "type": "array"
                            },
                            "region": {
                                "default": "",
                                "description": "AWS Region of the instance.",
                                "title": "Region",
                                "type": "string"
                            }
                        },
                        "required": [
                            "instance_id",
                            "region"
                        ],
                        "title": "aws_get_instance_details",
                        "type": "object"
                    }
                ],
                "jupyter": {
                    "outputs_hidden": true,
                    "source_hidden": true
                },
                "legotype": "LEGO_TYPE_AWS",
                "name": "Get AWS Scheduled to Retire Instances",
                "nouns": [
                    "instance",
                    "details"
                ],
                "orderProperties": [
                    "region",
                    "instance_ids"
                ],
                "output": {
                    "type": ""
                },
                "tags": [
                    "aws_get_instance_details"
                ],
                "title": "Get AWS Scheduled to Retire Instances",
                "trusted": true,
                "verbs": [
                    "get"
                ]
            },
            "source": "##\n# Copyright (c) 2021 unSkript, Inc\n# All rights reserved.\n##\nfrom pydantic import BaseModel, Field\nfrom typing import List\nimport pprint\n\n\nfrom beartype import beartype\n@beartype\ndef aws_get_ec2_instance(\n    handle,\n    instance_ids: list,\n    region: str,\n) -> List:\n\n    ec2client = handle.client('ec2', region_name=region)\n    instances = []\n    response = ec2client.describe_instance_status(\n        Filters=[\n        {\n            'Name': 'event.code',\n            'Values': ['instance-retirement']}],\n        InstanceIds=instance_ids)\n\n    for instance in response['InstanceStatuses']:\n        instance_id = instance['InstanceId']\n        instances.append(instance_id)\n\n    return instances\n\n\ndef aws_get_ec2_instance_printer(output):\n    if output is None:\n        return\n    pprint.pprint({\"Instances\": output})\n\ntask = Task(Workflow())\ntask.configure(credentialsJson='''{\n    \"credential_name\": \"DevRole\",\n    \"credential_type\": \"CONNECTOR_TYPE_AWS\",\n    \"credential_id\": \"0b438eba-0627-4f6d-b998-a4c604f20e3c\"\n}''')\ntask.configure(inputParamsJson='''{\n    \"region\": \"\\\\\"us-west-2\\\\\"\",\n    \"instance_ids\": \"instance_ids\"\n    }''')\n\n(err, hdl, args) = task.validate(vars=vars())\nif err is None:\n    task.execute(aws_get_ec2_instance, lego_printer=aws_get_ec2_instance_printer, hdl=hdl, args=args)",
            "execution_count": 6,
            "outputs": []
        },
        {
            "id": "3627e67c-5900-4ba0-ae45-6d00957b7d83",
            "cell_type": "markdown",
            "metadata": {
                "name": "Conclusion",
                "orderProperties": [],
                "tags": [],
                "title": "Conclusion"
            },
            "source": "In this Runbook, we demonstrated the use of unSkript's AWS legos to perform AWS this runbook Get the EC2 instances which are schedule to retire soon. To view the full platform capabilities of unSkript please visit https://unskript.com",
            "execution_count": null,
            "outputs": []
        }
    ]
}
