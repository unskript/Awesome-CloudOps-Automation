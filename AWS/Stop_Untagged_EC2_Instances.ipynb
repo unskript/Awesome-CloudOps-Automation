{
    "cells": [
        {
            "cell_type": "markdown",
            "id": "8d6a1c37-b41a-4563-b03e-ae728684ec3a",
            "metadata": {
                "jupyter": {
                    "source_hidden": false
                },
                "name": "Stop Untagged EC2 Instances",
                "orderProperties": [],
                "tags": [],
                "title": "Stop Untagged EC2 Instances"
            },
            "source": [
                "<img src=\"https://unskript.com/assets/favicon.png\" alt=\"unSkript.com\" width=\"100\" height=\"100\"/> \n",
                "<h1> unSkript Runbooks </h1>\n",
                "<div class=\"alert alert-block alert-success\">\n",
                "    <b> This runbook demonstrates How to Stop Untagged EC2 Instances using unSkript legos.</b>\n",
                "</div>\n",
                "\n",
                "<br>\n",
                "\n",
                "<center><h2>Stop Untagged EC2 Instances</h2></center>\n",
                "\n",
                "# Steps Overview\n",
                "    1) Filter all the instances which dont have any tags.\n",
                "    2) Stop the instances after the we get through first step"
            ]
        },
        {
            "cell_type": "markdown",
            "id": "629a0c87-c97e-40db-bac5-47981462655f",
            "metadata": {
                "jupyter": {
                    "source_hidden": false
                },
                "name": "Filter Untagged EC2 instances",
                "orderProperties": [],
                "tags": [],
                "title": "Filter Untagged EC2 instances"
            },
            "source": [
                "Here we will use unSkript Filter AWS EC2 Untagged Instances Lego. This lego takes region as input. This inputs is used to findout all the instances which don't have tags."
            ]
        },
        {
            "cell_type": "code",
            "execution_count": 5,
            "id": "0ffad89b-9e63-4dac-8eb5-dba648133b86",
            "metadata": {
                "accessType": "ACCESS_TYPE_UNSPECIFIED",
                "actionBashCommand": false,
                "actionNeedsCredential": true,
                "actionRequiredLinesInCode": [],
                "actionSupportsIteration": true,
                "actionSupportsPoll": true,
                "action_uuid": "abe9fc82a53b80dc1dd4d5a89e31d22b0338e73e86d2ca859576f38cc6d19f48",
                "continueOnError": false,
                "createTime": "1970-01-01T00:00:00Z",
                "credentialsJson": {
                },
                "currentVersion": "0.1.0",
                "description": "Filter AWS EC2 Instance by Tag",
                "execution_data": {
                    "last_date_success_run_cell": "2022-09-08T11:30:08.070Z"
                },
                "id": 155,
                "index": 155,
                "inputData": [
                    {
                        "region": {
                            "constant": false,
                            "value": "Region"
                        }
                    }
                ],
                "inputschema": [
                    {
                        "properties": {
                            "region": {
                                "default": "",
                                "description": "AWS Region.",
                                "title": "Region",
                                "type": "string"
                            }
                        },
                        "required": [
                            "tag_key",
                            "tag_value",
                            "region"
                        ],
                        "title": "aws_filter_ec2_by_tags",
                        "type": "object"
                    }
                ],
                "jupyter": {
                    "source_hidden": true
                },
                "legotype": "LEGO_TYPE_AWS",
                "name": "Filter AWS EC2 Untagged Instances",
                "nouns": [
                    "aws",
                    "ec2",
                    "instances",
                    "tag"
                ],
                "orderProperties": [
                    "region"
                ],
                "output": {
                    "type": ""
                },
                "outputParams": {
                    "output_name": "UntaggedInstances",
                    "output_name_enabled": true
                },
                "tags": [
                    "aws_filter_ec2_by_tags"
                ],
                "title": "Filter AWS EC2 Untagged Instances",
                "verbs": [
                    "filter"
                ]
            },
            "outputs": [],
            "source": [
                "##\n",
                "##  Copyright (c) 2021 unSkript, Inc\n",
                "##  All rights reserved.\n",
                "##\n",
                "from pydantic import BaseModel, Field\n",
                "from typing import List\n",
                "from unskript.connectors.aws import aws_get_paginator\n",
                "import pprint\n",
                "from beartype import beartype\n",
                "\n",
                "@beartype\n",
                "def aws_filter_untagged_ec2_instances_printer(output):\n",
                "    if output is None:\n",
                "        return\n",
                "    pprint.pprint({\"Instances\": output})\n",
                "\n",
                "\n",
                "def aws_filter_untagged_ec2_instances(handle, region: str) -> List:\n",
                "    \"\"\"aws_filter_untagged_ec2_instances Returns an array of instances which has no tags.\n",
                "\n",
                "        :type handle: object\n",
                "        :param handle: Object returned from task.validate(...).\n",
                "\n",
                "        :type region: str\n",
                "        :param region: Region to filter instances.\n",
                "\n",
                "        :rtype: Result of the API in the List form.\n",
                "    \"\"\"\n",
                "\n",
                "    ec2Client = handle.client('ec2', region_name=region)\n",
                "\n",
                "    res = aws_get_paginator(ec2Client, \"describe_instances\", \"Reservations\")\n",
                "    # get the number of objects\n",
                "    result = []\n",
                "    for reservation in res:\n",
                "        for instance in reservation['Instances']:\n",
                "            try:\n",
                "                tagged_instance = instance['Tags']\n",
                "                if len(tagged_instance) == 0:\n",
                "                    result.append(instance['InstanceId'])\n",
                "            except Exception as e:\n",
                "                result.append(instance['InstanceId'])\n",
                "\n",
                "    return result\n",
                "\n",
                "\n",
                "task = Task(Workflow())\n",
                "task.configure(inputParamsJson='''{\n",
                "    \"region\": \"Region\"\n",
                "    }''')\n",
                "task.configure(outputName=\"UntaggedInstances\")\n",
                "(err, hdl, args) = task.validate(vars=vars())\n",
                "if err is None:\n",
                "    task.execute(aws_filter_untagged_ec2_instances, lego_printer=aws_filter_untagged_ec2_instances_printer, hdl=hdl, args=args)"
            ]
        },
        {
            "cell_type": "markdown",
            "id": "d0aa6aaa-88f0-4d5e-abef-fb2de21618d5",
            "metadata": {
                "jupyter": {
                    "source_hidden": false
                },
                "name": "Stop Untagged EC2 instances",
                "orderProperties": [],
                "tags": [],
                "title": "Stop Untagged EC2 instances"
            },
            "source": [
                "Here we will use unSkript Stop AWS Instances Lego. This lego takes instance_id and region as input. This inputs is used to stop the instances which don't have tags."
            ]
        },
        {
            "cell_type": "code",
            "execution_count": 3,
            "id": "7b1b1d20-c9f5-47c7-b2a8-22cc5f3e50ec",
            "metadata": {
                "accessType": "ACCESS_TYPE_UNSPECIFIED",
                "actionBashCommand": false,
                "actionNeedsCredential": true,
                "actionRequiredLinesInCode": [],
                "actionSupportsIteration": true,
                "actionSupportsPoll": true,
                "action_uuid": "ef6e03e0bb46f1d9eb58405e5eed4b962c4ae9eeaaf64877c1c4e820c2854c6e",
                "condition_enabled": true,
                "continueOnError": false,
                "createTime": "1970-01-01T00:00:00Z",
                "credentialsJson": {
                },
                "currentVersion": "0.1.0",
                "description": "Stop an AWS Instance",
                "execution_data": {
                    "last_date_success_run_cell": "2022-08-23T06:42:13.275Z"
                },
                "id": 161,
                "index": 161,
                "inputData": [
                    {
                        "instance_id": {
                            "constant": false,
                            "value": "iter_item"
                        },
                        "region": {
                            "constant": false,
                            "value": "Region"
                        }
                    }
                ],
                "inputschema": [
                    {
                        "properties": {
                            "instance_id": {
                                "description": "ID of the instance to be stopped.",
                                "title": "Instance Id",
                                "type": "string"
                            },
                            "region": {
                                "description": "AWS Region of the instance.",
                                "title": "Region",
                                "type": "string"
                            }
                        },
                        "required": [
                            "instance_id",
                            "region"
                        ],
                        "title": "aws_stop_instances",
                        "type": "object"
                    }
                ],
                "iterData": [
                    {
                        "iter_enabled": true,
                        "iter_item": "instance_id",
                        "iter_list": {
                            "constant": false,
                            "objectItems": false,
                            "value": "UntaggedInstances"
                        }
                    }
                ],
                "jupyter": {
                    "source_hidden": true
                },
                "legotype": "LEGO_TYPE_AWS",
                "name": "Stop AWS Instances",
                "nouns": [
                    "aws",
                    "instances"
                ],
                "orderProperties": [
                    "instance_id",
                    "region"
                ],
                "output": {
                    "type": ""
                },
                "startcondition": "len(UntaggedInstances) > 0",
                "tags": [
                    "aws_stop_instances"
                ],
                "title": "Stop AWS Instances",
                "verbs": [
                    "stop"
                ]
            },
            "outputs": [],
            "source": [
                "##  Copyright (c) 2021 unSkript, Inc\n",
                "##  All rights reserved.\n",
                "##\n",
                "from pydantic import BaseModel, Field\n",
                "from typing import Dict\n",
                "import pprint\n",
                "\n",
                "\n",
                "from beartype import beartype\n",
                "@beartype\n",
                "def aws_stop_instances_printer(output):\n",
                "    if output is None:\n",
                "        return\n",
                "    pprint.pprint(output)\n",
                "\n",
                "\n",
                "@beartype\n",
                "def aws_stop_instances(handle, instance_id: str, region: str) -> Dict:\n",
                "    \"\"\"aws_stop_instances Stops instances.\n",
                "\n",
                "        :type nbParamsObj: object\n",
                "        :param nbParamsObj: Object containing global params for the notebook.\n",
                "\n",
                "        :type credentialsDict: dict\n",
                "        :param credentialsDict: Dictionary of credentials info.\n",
                "\n",
                "        :type inputParamsJson: string\n",
                "        :param inputParamsJson: Json string of the input params.\n",
                "\n",
                "        :rtype: Dict with the stopped instances state info.\n",
                "    \"\"\"\n",
                "\n",
                "    ec2Client = handle.client('ec2', region_name=region)\n",
                "    output = {}\n",
                "    res = ec2Client.stop_instances(InstanceIds=[instance_id])\n",
                "    for instances in res['StoppingInstances']:\n",
                "        output[instances['InstanceId']] = instances['CurrentState']\n",
                "\n",
                "    return output\n",
                "\n",
                "\n",
                "task = Task(Workflow())\n",
                "task.configure(continueOnError=False)\n",
                "task.configure(inputParamsJson='''{\n",
                "    \"instance_id\": \"iter_item\",\n",
                "    \"region\": \"Region\"\n",
                "    }''')\n",
                "task.configure(iterJson='''{\n",
                "    \"iter_enabled\": true,\n",
                "    \"iter_list_is_const\": false,\n",
                "    \"iter_list\": \"UntaggedInstances\",\n",
                "    \"iter_parameter\": \"instance_id\"\n",
                "    }''')\n",
                "task.configure(conditionsJson='''{\n",
                "    \"condition_enabled\": true,\n",
                "    \"condition_cfg\": \"len(UntaggedInstances) > 0\",\n",
                "    \"condition_result\": true\n",
                "    }''')\n",
                "(err, hdl, args) = task.validate(vars=vars())\n",
                "if err is None:\n",
                "    task.execute(aws_stop_instances, lego_printer=aws_stop_instances_printer, hdl=hdl, args=args)"
            ]
        },
        {
            "cell_type": "markdown",
            "id": "751dbe94-b2ad-4f7e-8d0e-2405c99dd2c0",
            "metadata": {
                "jupyter": {
                    "source_hidden": false
                },
                "name": "Conclusion",
                "orderProperties": [],
                "tags": [],
                "title": "Conclusion"
            },
            "source": [
                "In this Runbook, we demonstrated the use of unSkript's AWS legos to run filter untagged EC2 instances and stop those instances. To view the full platform capabilities of unSkript please visit https://unskript.com"
            ]
        }
    ],
    "metadata": {
        "execution_data": {
            "environment_id": "1499f27c-6406-4fbd-bd1b-c6f92800018f",
            "environment_name": "Staging",
            "execution_id": "",
            "inputs_for_searched_lego": "",
            "notebook_id": "28501729-2d34-448b-823d-95bb40d9593c.ipynb",
            "parameters": null,
            "runbook_name": "Stop Untagged EC2 Instances",
            "search_string": "",
            "show_tool_tip": false,
            "tenant_id": "982dba5f-d9df-48ae-a5bf-ec1fc94d4882",
            "tenant_url": "https://tenant-staging.alpha.unskript.io",
            "user_email_id": "harshal.bangre@unskript.com",
            "workflow_id": "8c088413-9efd-4cbb-b86f-eb7ed6123832"
        },
        "kernelspec": {
            "display_name": "Python 3.10.6 64-bit",
            "language": "python",
            "name": "python3"
        },
        "language_info": {
            "file_extension": ".py",
            "mimetype": "text/x-python",
            "name": "python",
            "pygments_lexer": "ipython3",
            "version": "3.10.6"
        },
        "parameterSchema": {
            "properties": {
                "Region": {
                    "default": "us-west-2",
                    "description": "AWS Region",
                    "title": "Region",
                    "type": "string"
                }
            },
            "required": [],
            "title": "Schema",
            "type": "object"
        },
        "parameterValues": {
            "Region": "us-west-2"
        },
        "vscode": {
            "interpreter": {
                "hash": "e8899eb02dfbc033aab5733bdae1bd213fa031d40331094008e8673d99ebab63"
            }
        }
    },
    "nbformat": 4,
    "nbformat_minor": 5
}
