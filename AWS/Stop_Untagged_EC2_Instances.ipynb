{
 "cells": [
  {
   "cell_type": "markdown",
   "id": "cadbcf65-5c79-4496-81ef-c9e1e18ee932",
   "metadata": {
    "jupyter": {
     "source_hidden": false
    },
    "name": "Steps Overview",
    "orderProperties": [],
    "tags": [],
    "title": "Steps Overview"
   },
   "source": [
    "<hr><center><img src=\"https://storage.googleapis.com/unskript-website/assets/favicon.png\" alt=\"unSkript.com\" width=\"100\" height=\"100\">\n",
    "<h1 id=\"unSkript-Runbooks\">unSkript Runbooks<a class=\"jp-InternalAnchorLink\" href=\"#unSkript-Runbooks\" target=\"_self\">&para;</a></h1>\n",
    "<div class=\"alert alert-block alert-success\">\n",
    "<h3 id=\"Objective\">Objective<a class=\"jp-InternalAnchorLink\" href=\"#Objective\" target=\"_self\">&para;</a></h3>\n",
    "<br><strong style=\"color: #000000;\"><em>Stop untagged EC2 Instances</em></strong></div>\n",
    "</center>\n",
    "<p>&nbsp;</p>\n",
    "<center>\n",
    "<h2 id=\"K8S-Pod-in-CrashLoopBack-State\"><u>Stop Untagged EC2 Instances</u><a class=\"jp-InternalAnchorLink\" href=\"#K8S-Pod-in-CrashLoopBack-State\" target=\"_self\">&para;</a></h2>\n",
    "</center>\n",
    "<h1 id=\"Steps-Overview\">Steps Overview<a class=\"jp-InternalAnchorLink\" href=\"#Steps-Overview\" target=\"_self\">&para;</a></h1>\n",
    "<p>1)&nbsp;<a href=\"#1\">Get all untagged EC2 instance</a><br>2)&nbsp;<a href=\"#2\">Stop Untagged EC2 instances</a></p>\n",
    "<hr>"
   ]
  },
  {
   "cell_type": "markdown",
   "id": "3a22df55-71bb-4e3d-bc4e-7693b335a33c",
   "metadata": {
    "jupyter": {
     "source_hidden": false
    },
    "name": "Step 1",
    "orderProperties": [],
    "tags": [],
    "title": "Step 1"
   },
   "source": [
    "<h3 id=\"List-all-AWS-Regions\">List all AWS Regions</h3>\n",
    "<p>This action fetches all AWS Regions to execute Step 1\ud83d\udc47. This action will only execute if no <code>region</code> is provided.</p>\n",
    "<blockquote>\n",
    "<p>This action takes the following parameters: <code>None</code></p>\n",
    "</blockquote>\n",
    "<blockquote>\n",
    "<p>This action captures the following ouput: <code>regions</code></p>\n",
    "</blockquote>"
   ]
  },
  {
   "cell_type": "code",
   "execution_count": 3,
   "id": "6a1900c6-4443-4b90-8bdf-da2813ecd48b",
   "metadata": {
    "accessType": "ACCESS_TYPE_UNSPECIFIED",
    "actionBashCommand": false,
    "actionCategories": [],
    "actionIsCheck": false,
    "actionNeedsCredential": true,
    "actionNextHop": [],
    "actionNextHopParameterMapping": {},
    "actionOutputType": "",
    "actionRequiredLinesInCode": [],
    "actionSupportsIteration": true,
    "actionSupportsPoll": true,
    "action_modified": false,
    "action_uuid": "708ea4af5f8fe7096a15b3a52c4a657606bab9e177386fad7a847341ed607d64",
    "checkEnabled": false,
    "condition_enabled": true,
    "createTime": "1970-01-01T00:00:00Z",
    "currentVersion": "0.1.0",
    "description": "List all available AWS Regions",
    "execution_data": {
     "last_date_success_run_cell": "2023-02-14T17:26:05.498Z"
    },
    "id": 219,
    "index": 219,
    "inputschema": [
     {
      "properties": {},
      "title": "aws_list_all_regions",
      "type": "object"
     }
    ],
    "isUnskript": false,
    "jupyter": {
     "source_hidden": true
    },
    "legotype": "LEGO_TYPE_AWS",
    "name": "AWS List All Regions",
    "nouns": [
     "regions",
     "aws"
    ],
    "orderProperties": [],
    "output": {
     "type": ""
    },
    "outputParams": {
     "output_name": "region",
     "output_name_enabled": true
    },
    "printOutput": true,
    "startcondition": "not region",
    "tags": [
     "aws_list_all_regions"
    ],
    "trusted": true,
    "verbs": [
     "list"
    ],
    "credentialsJson": {}
   },
   "outputs": [],
   "source": [
    "#\n",
    "# Copyright (c) 2021 unSkript.com\n",
    "# All rights reserved.\n",
    "#\n",
    "\n",
    "from pydantic import BaseModel, Field\n",
    "from typing import Dict, List\n",
    "import pprint\n",
    "\n",
    "from beartype import beartype\n",
    "@beartype\n",
    "def aws_list_all_regions_printer(output):\n",
    "    if output is None:\n",
    "        return\n",
    "    pprint.pprint(output)\n",
    "\n",
    "\n",
    "@beartype\n",
    "def aws_list_all_regions(handle) -> List:\n",
    "    \"\"\"aws_list_all_regions lists all the AWS regions\n",
    "\n",
    "        :type handle: object\n",
    "        :param handle: Object returned from Task Validate\n",
    "\n",
    "        :rtype: Result List of result\n",
    "    \"\"\"\n",
    "\n",
    "    result = handle.aws_cli_command(\"aws ec2 describe-regions --all-regions --query 'Regions[].{Name:RegionName}' --output text\")\n",
    "    if result is None or result.returncode != 0:\n",
    "        print(\"Error while executing command : {}\".format(result))\n",
    "        return str()\n",
    "    result_op = list(result.stdout.split(\"\\n\"))\n",
    "    list_region = [x for x in result_op if x != '']\n",
    "    return list_region\n",
    "\n",
    "\n",
    "task = Task(Workflow())\n",
    "task.configure(conditionsJson='''{\n",
    "    \"condition_enabled\": true,\n",
    "    \"condition_cfg\": \"not region\",\n",
    "    \"condition_result\": true\n",
    "    }''')\n",
    "task.configure(outputName=\"region\")\n",
    "task.configure(printOutput=True)\n",
    "(err, hdl, args) = task.validate(vars=vars())\n",
    "if err is None:\n",
    "    task.execute(aws_list_all_regions, lego_printer=aws_list_all_regions_printer, hdl=hdl, args=args)"
   ]
  },
  {
   "cell_type": "markdown",
   "id": "7a7ce858-86e0-44a5-a8a7-68af0664fa27",
   "metadata": {
    "jupyter": {
     "source_hidden": false
    },
    "name": "Step 2",
    "orderProperties": [],
    "tags": [],
    "title": "Step 2"
   },
   "source": [
    "<h3 id=\"Get-publicly-accessible-DB-snapshots\"><a id=\"2\" target=\"_self\" rel=\"nofollow\"></a>Get all Untagged EC2 Instances</h3>\n",
    "<p>Here we will fetch all the untagged&nbsp; EC2 instances.&nbsp;</p>\n",
    "<blockquote>\n",
    "<p>This action takes the following parameters: <code>region(Optional)</code></p>\n",
    "</blockquote>\n",
    "<blockquote>\n",
    "<p>This action captures the following output: <code>untagged_instances</code></p>\n",
    "</blockquote>"
   ]
  },
  {
   "cell_type": "code",
   "execution_count": 4,
   "id": "6f89b1e3-9d85-4b1c-8f4a-77b03858b15a",
   "metadata": {
    "accessType": "ACCESS_TYPE_UNSPECIFIED",
    "actionBashCommand": false,
    "actionCategories": [
     "CATEGORY_TYPE_CLOUDOPS",
     "CATEGORY_TYPE_COST_OPT"
    ],
    "actionIsCheck": true,
    "actionNeedsCredential": true,
    "actionNextHop": [
     "a16703da15d9e9e2d8a56b146e730b5e4c1496721ff1dc8606a5021d521ed9e3"
    ],
    "actionNextHopParameterMapping": {},
    "actionOutputType": "",
    "actionRequiredLinesInCode": [],
    "actionSupportsIteration": true,
    "actionSupportsPoll": true,
    "action_modified": false,
    "action_uuid": "0ebc91f11a150d8933a8ebf4cf8824f0ca8cd9e64383b30dd9fad4e7b9b26ac9",
    "checkEnabled": false,
    "continueOnError": true,
    "createTime": "1970-01-01T00:00:00Z",
    "currentVersion": "0.1.0",
    "description": "Filter AWS Untagged EC2 Instances",
    "execution_data": {
     "last_date_success_run_cell": "2023-02-14T17:26:32.730Z"
    },
    "id": 254,
    "index": 254,
    "inputData": [
     {
      "region": {
       "constant": false,
       "value": "iter_item"
      }
     }
    ],
    "inputschema": [
     {
      "properties": {
       "region": {
        "default": "",
        "description": "Name of the AWS Region",
        "title": "Region",
        "type": "string"
       }
      },
      "title": "aws_filter_untagged_ec2_instances",
      "type": "object"
     }
    ],
    "isUnskript": false,
    "iterData": [
     {
      "iter_enabled": true,
      "iter_item": "region",
      "iter_list": {
       "constant": false,
       "objectItems": false,
       "value": "region"
      }
     }
    ],
    "jupyter": {
     "source_hidden": true
    },
    "legotype": "LEGO_TYPE_AWS",
    "name": "Filter AWS Untagged EC2 Instances",
    "nouns": [
     "aws",
     "instances",
     "untagged"
    ],
    "orderProperties": [
     "region"
    ],
    "output": {
     "type": ""
    },
    "outputParams": {
     "output_name": "untagged_instances",
     "output_name_enabled": true
    },
    "printOutput": true,
    "tags": [
     "aws_filter_untagged_ec2_instances"
    ],
    "trusted": true,
    "verbs": [
     "filter"
    ],
    "credentialsJson": {}
   },
   "outputs": [],
   "source": [
    "##\n",
    "##  Copyright (c) 2021 unSkript, Inc\n",
    "##  All rights reserved.\n",
    "##\n",
    "from pydantic import BaseModel, Field\n",
    "from typing import List, Tuple, Optional\n",
    "from unskript.connectors.aws import aws_get_paginator\n",
    "from unskript.legos.utils import CheckOutput, CheckOutputStatus\n",
    "from unskript.legos.aws.aws_list_all_regions.aws_list_all_regions import aws_list_all_regions\n",
    "import pprint\n",
    "\n",
    "\n",
    "from beartype import beartype\n",
    "@beartype\n",
    "def aws_filter_untagged_ec2_instances_printer(output):\n",
    "    if output is None:\n",
    "        return\n",
    "    elif isinstance(output, CheckOutput):\n",
    "        print(output.json())\n",
    "    else:\n",
    "        pprint.pprint(output)\n",
    "\n",
    "@beartype\n",
    "def check_untagged_instance(res, r):\n",
    "    instance_list = []\n",
    "    for reservation in res:\n",
    "            for instance in reservation['Instances']:\n",
    "                instances_dict = {}\n",
    "                try:\n",
    "                    tagged_instance = instance['Tags']\n",
    "                    if len(tagged_instance) == 0:\n",
    "                        instances_dict['region']= r\n",
    "                        instances_dict['instances']= instance['InstanceId']\n",
    "                        instance_list.append(instances_dict)\n",
    "                except Exception as e:\n",
    "                    if len(tagged_instance) == 0:\n",
    "                        instances_dict['region']= r\n",
    "                        instances_dict['instances']= instance['InstanceId']\n",
    "                        instance_list.append(instances_dict)\n",
    "    return instance_list\n",
    "\n",
    "\n",
    "@beartype\n",
    "def aws_filter_untagged_ec2_instances(handle, region: str= None) -> Tuple:\n",
    "    \"\"\"aws_filter_untagged_ec2_instances Returns an array of instances which has no tags.\n",
    "\n",
    "        :type handle: object\n",
    "        :param handle: Object returned from task.validate(...).\n",
    "\n",
    "        :type region: str\n",
    "        :param region: Region to filter instances.\n",
    "\n",
    "        :rtype: Tuple of status, and list of untagged EC2 Instances\n",
    "    \"\"\"\n",
    "    result = []\n",
    "    all_instances = []\n",
    "    all_regions = [region]\n",
    "    if region is None or len(region)==0:\n",
    "        all_regions = aws_list_all_regions(handle=handle)\n",
    "    for r in all_regions:\n",
    "        try:\n",
    "            ec2Client = handle.client('ec2', region_name=r)\n",
    "            res = aws_get_paginator(ec2Client, \"describe_instances\", \"Reservations\")\n",
    "            untagged_instances = check_untagged_instance(res, r)\n",
    "            if len(untagged_instances)!=0:\n",
    "                all_instances.append(untagged_instances)\n",
    "        except Exception as e:\n",
    "            pass\n",
    "    try:\n",
    "        result = all_instances[0]\n",
    "    except Exception as e:\n",
    "        pass\n",
    "    if len(result) != 0:\n",
    "        return (False, result)\n",
    "    else:\n",
    "        return (True, None)\n",
    "\n",
    "\n",
    "task = Task(Workflow())\n",
    "task.configure(continueOnError=True)\n",
    "task.configure(inputParamsJson='''{\n",
    "    \"region\": \"iter_item\"\n",
    "    }''')\n",
    "task.configure(iterJson='''{\n",
    "    \"iter_enabled\": true,\n",
    "    \"iter_list_is_const\": false,\n",
    "    \"iter_list\": \"region\",\n",
    "    \"iter_parameter\": \"region\"\n",
    "    }''')\n",
    "task.configure(outputName=\"untagged_instances\")\n",
    "\n",
    "task.configure(printOutput=True)\n",
    "(err, hdl, args) = task.validate(vars=vars())\n",
    "if err is None:\n",
    "    task.execute(aws_filter_untagged_ec2_instances, lego_printer=aws_filter_untagged_ec2_instances_printer, hdl=hdl, args=args)"
   ]
  },
  {
   "cell_type": "markdown",
   "id": "4bc1ab78-471e-4f0a-9933-d84abb36dada",
   "metadata": {
    "jupyter": {
     "source_hidden": false
    },
    "name": "Step 2A",
    "orderProperties": [],
    "tags": [],
    "title": "Step 2A"
   },
   "source": [
    "<h3 id=\"Create-List-of-untagged-instances\"><a id=\"2\" target=\"_self\" rel=\"nofollow\"></a>Create List of untagged instances<a class=\"jp-InternalAnchorLink\" href=\"#Create-List-of-untagged-instances\" target=\"_self\">&para;</a></h3>\n",
    "<blockquote>\n",
    "<p>This action captures the following output: <code>all_untagged_instances</code></p>\n",
    "</blockquote>"
   ]
  },
  {
   "cell_type": "code",
   "execution_count": 5,
   "id": "087ae782-c90b-46ba-8ed0-76bf9992f51d",
   "metadata": {
    "customAction": true,
    "execution_data": {
     "last_date_success_run_cell": "2023-02-14T17:26:37.448Z"
    },
    "jupyter": {
     "source_hidden": true
    },
    "name": "Create List of untagged instances",
    "orderProperties": [],
    "tags": [],
    "title": "Create List of untagged instances",
    "trusted": true,
    "credentialsJson": {}
   },
   "outputs": [],
   "source": [
    "all_untagged_instances =[]\n",
    "for k,v in untagged_instances.items():\n",
    "    for each_output in v:\n",
    "        if type(each_output)== list:\n",
    "            if len(each_output)!=0:\n",
    "                for each_instance in each_output:\n",
    "                    all_untagged_instances.append(each_instance)\n",
    "print(all_untagged_instances)"
   ]
  },
  {
   "cell_type": "markdown",
   "id": "2e75ed26-5dfd-4a64-a6af-1aa336ac9455",
   "metadata": {
    "jupyter": {
     "source_hidden": false
    },
    "name": "Step 3",
    "orderProperties": [],
    "tags": [],
    "title": "Step 3"
   },
   "source": [
    "<h3 id=\"Get-publicly-accessible-DB-snapshots\"><a id=\"2\" target=\"_self\" rel=\"nofollow\"></a>Stop untagged EC2 Instances</h3>\n",
    "<p>Using unSkript's Stop EC2 instances action we will stop all untagged EC2 instances found in Step 2. This action will only execute if the execute flag is set to <code>true</code>. &nbsp;</p>\n",
    "<p><strong>Note- If set to <span style=\"text-decoration: underline;\">True</span>, <span style=\"color: red;\">ALL</span> untagged instances will be <span style=\"color: red;\">STOPPED</span></strong></p>\n",
    "<blockquote>\n",
    "<p>This action takes the following parameters: <code>region(Optional)</code></p>\n",
    "</blockquote>"
   ]
  },
  {
   "cell_type": "code",
   "execution_count": 20,
   "id": "008fd22e-823f-48f2-8fe5-8c172891a03a",
   "metadata": {
    "accessType": "ACCESS_TYPE_UNSPECIFIED",
    "actionBashCommand": false,
    "actionCategories": [],
    "actionIsCheck": false,
    "actionNeedsCredential": true,
    "actionNextHop": [],
    "actionNextHopParameterMapping": {},
    "actionOutputType": "",
    "actionRequiredLinesInCode": [],
    "actionSupportsIteration": true,
    "actionSupportsPoll": true,
    "action_modified": false,
    "action_uuid": "ef6e03e0bb46f1d9eb58405e5eed4b962c4ae9eeaaf64877c1c4e820c2854c6e",
    "checkEnabled": false,
    "condition_enabled": true,
    "continueOnError": true,
    "createTime": "1970-01-01T00:00:00Z",
    "currentVersion": "0.1.0",
    "description": "Stop an AWS Instance",
    "execution_data": {
     "last_date_success_run_cell": "2023-02-13T15:47:07.834Z"
    },
    "id": 194,
    "index": 194,
    "inputData": [
     {
      "instance_id": {
       "constant": false,
       "value": "\"iter.get(\\\\\"instance\\\\\")\""
      },
      "region": {
       "constant": false,
       "value": "\"iter.get(\\\\\"region\\\\\")\""
      }
     }
    ],
    "inputschema": [
     {
      "properties": {
       "instance_id": {
        "description": "ID of the instance to be stopped.",
        "title": "Instance Id",
        "type": "string"
       },
       "region": {
        "description": "AWS Region of the instance.",
        "title": "Region",
        "type": "string"
       }
      },
      "required": [
       "instance_id",
       "region"
      ],
      "title": "aws_stop_instances",
      "type": "object"
     }
    ],
    "isUnskript": false,
    "iterData": [
     {
      "iter_enabled": true,
      "iter_item": {
       "instance_id": "instance",
       "region": "region"
      },
      "iter_list": {
       "constant": false,
       "objectItems": true,
       "value": "all_untagged_instances"
      }
     }
    ],
    "jupyter": {
     "source_hidden": true
    },
    "legotype": "LEGO_TYPE_AWS",
    "name": "Stop AWS Instances",
    "nouns": [
     "aws",
     "instances"
    ],
    "orderProperties": [
     "instance_id",
     "region"
    ],
    "output": {
     "type": ""
    },
    "printOutput": true,
    "startcondition": "execution_flag==True",
    "tags": [
     "aws_stop_instances"
    ],
    "verbs": [
     "stop"
    ],
    "credentialsJson": {}
   },
   "outputs": [],
   "source": [
    "##  Copyright (c) 2021 unSkript, Inc\n",
    "##  All rights reserved.\n",
    "##\n",
    "from pydantic import BaseModel, Field\n",
    "from typing import Dict\n",
    "import pprint\n",
    "\n",
    "\n",
    "from beartype import beartype\n",
    "@beartype\n",
    "def aws_stop_instances_printer(output):\n",
    "    if output is None:\n",
    "        return\n",
    "    pprint.pprint(output)\n",
    "\n",
    "\n",
    "@beartype\n",
    "def aws_stop_instances(handle, instance_id: str, region: str) -> Dict:\n",
    "    \"\"\"aws_stop_instances Stops instances.\n",
    "\n",
    "        :type instance_id: string\n",
    "        :param instance_id: String containing the name of AWS EC2 instance\n",
    "\n",
    "        :type region: string\n",
    "        :param region: AWS region for instance\n",
    "\n",
    "        :rtype: Dict with the stopped instances state info.\n",
    "    \"\"\"\n",
    "\n",
    "    ec2Client = handle.client('ec2', region_name=region)\n",
    "    output = {}\n",
    "    res = ec2Client.stop_instances(InstanceIds=[instance_id])\n",
    "    for instances in res['StoppingInstances']:\n",
    "        output[instances['InstanceId']] = instances['CurrentState']\n",
    "\n",
    "    return output\n",
    "\n",
    "\n",
    "task = Task(Workflow())\n",
    "task.configure(continueOnError=True)\n",
    "task.configure(inputParamsJson='''{\n",
    "    \"instance_id\": \"iter.get(\\\\\"instance\\\\\")\",\n",
    "    \"region\": \"iter.get(\\\\\"region\\\\\")\"\n",
    "    }''')\n",
    "task.configure(iterJson='''{\n",
    "    \"iter_enabled\": true,\n",
    "    \"iter_list_is_const\": false,\n",
    "    \"iter_list\": \"all_untagged_instances\",\n",
    "    \"iter_parameter\": [\"instance_id\",\"region\"]\n",
    "    }''')\n",
    "task.configure(conditionsJson='''{\n",
    "    \"condition_enabled\": true,\n",
    "    \"condition_cfg\": \"execution_flag==True\",\n",
    "    \"condition_result\": true\n",
    "    }''')\n",
    "\n",
    "task.configure(printOutput=True)\n",
    "(err, hdl, args) = task.validate(vars=vars())\n",
    "if err is None:\n",
    "    task.execute(aws_stop_instances, lego_printer=aws_stop_instances_printer, hdl=hdl, args=args)"
   ]
  },
  {
   "cell_type": "markdown",
   "id": "4df3773a-43ff-43f8-9693-505c04936438",
   "metadata": {
    "jupyter": {
     "source_hidden": false
    },
    "name": "Conclusion",
    "orderProperties": [],
    "tags": [],
    "title": "Conclusion"
   },
   "source": [
    "<h3 id=\"Conclusion&para;\">Conclusion<a class=\"jp-InternalAnchorLink\" href=\"#Conclusion\" target=\"_self\" rel=\"noopener\">&para;</a><a class=\"jp-InternalAnchorLink\" href=\"#Conclusion&para;\" target=\"_self\">&para;</a></h3>\n",
    "<p>In this Runbook, we were able to find all untagged EC2 instances and stop them using unSkript's AWS actions. To view the full platform capabilities of unSkript please visit&nbsp;<a href=\"https://us.app.unskript.io\" target=\"_blank\" rel=\"noopener\">us.app.unskript.io</a></p>"
   ]
  }
 ],
 "metadata": {
  "execution_data": {
   "runbook_name": "Stop Untagged AWS EC2 Instances",
   "parameters": [
    "region",
    "execution_flag"
   ]
  },
  "kernelspec": {
   "display_name": "Python 3.10.6 64-bit",
   "language": "python",
   "name": "python3"
  },
  "language_info": {
   "file_extension": ".py",
   "mimetype": "text/x-python",
   "name": "python",
   "pygments_lexer": "ipython3",
   "version": "3.10.6"
  },
  "parameterSchema": {
   "properties": {
    "execution_flag": {
     "default": false,
     "description": "Check flag to indicate running the Stop Instances Action. If set to true ALL untagged instances will be STOPPED. Default- False",
     "title": "execution_flag",
     "type": "boolean"
    },
    "region": {
     "description": "AWS regions to check for untagged EC2 instances. Eg: [\"us-west-2\",\"ap-south-1\"]",
     "title": "region",
     "type": "string"
    }
   },
   "required": [],
   "title": "Schema",
   "type": "object"
  },
  "parameterValues": null,
  "vscode": {
   "interpreter": {
    "hash": "b0fa6594d8f4cbf19f97940f81e996739fb7646882a419484c72d19e05852a7e"
   }
  }
 },
 "nbformat": 4,
 "nbformat_minor": 5
}