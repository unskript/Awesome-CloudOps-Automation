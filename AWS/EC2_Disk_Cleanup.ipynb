{
    "cells": [
        {
            "cell_type": "markdown",
            "id": "bf364c84",
            "metadata": {},
            "source": [
                "\n",
                "<img src=\"https://unskript.com/assets/favicon.png\" alt=\"unSkript.com\" width=\"100\" height=\"100\"/> \n",
                "<h1> unSkript Runbooks </h1>\n",
                "<div class=\"alert alert-block alert-success\">\n",
                "    <b> This runbook demonstrates How to Cleanup EC2 Disks using unSkript legos.</b>\n",
                "</div>\n",
                "\n",
                "<br>\n",
                "\n",
                "<center><h2>EC2 Disk Cleanup</h2></center>\n",
                "\n",
                "# Steps Overview\n",
                "    1) Find IP address of instance\n",
                "    2) Find large files in specified path\n",
                "    3) Map remote file names to S3 object names\n",
                "    4) Back up files to S3\n",
                "    5) Delete files from instance\n",
                "    6) Send message to Slack"
            ]
        },
        {
            "cell_type": "markdown",
            "id": "683caff0",
            "metadata": {},
            "source": [
                "Here we will use unSkript Get AWS Instance Details Lego. This lego takes instance_id and region as input. These inputs are used to find out all the details of EC2 instance."
            ]
        },
        {
            "cell_type": "code",
            "execution_count": null,
            "id": "637d4299-e731-47f1-8bef-f0ea061ea1c3",
            "metadata": {
                "accessType": "ACCESS_TYPE_UNSPECIFIED",
                "actionBashCommand": false,
                "actionNeedsCredential": true,
                "actionSupportsIteration": true,
                "actionSupportsPoll": true,
                "action_uuid": "aa1e026ca8002b906315feba401e5c46889d459270adce3b65d480dc9530311f",
                "createTime": "1970-01-01T00:00:00Z",
                "currentVersion": "0.1.0",
                "description": "Use This Action to Get Details about an AWS EC2 Instance",
                "id": 103,
                "index": 103,
                "inputData": [
                    {
                        "instance_id": {
                            "constant": false,
                            "value": "instance_id"
                        },
                        "region": {
                            "constant": false,
                            "value": "region"
                        }
                    }
                ],
                "inputschema": [
                    {
                        "properties": {
                            "instance_id": {
                                "description": "ID of the instance.",
                                "title": "Instance Id",
                                "type": "string"
                            },
                            "region": {
                                "description": "AWS Region of the instance.",
                                "title": "Region",
                                "type": "string"
                            }
                        },
                        "required": [
                            "instance_id",
                            "region"
                        ],
                        "title": "aws_get_instance_details",
                        "type": "object"
                    }
                ],
                "jupyter": {
                    "source_hidden": true
                },
                "legotype": "LEGO_TYPE_AWS",
                "name": "Get AWS Instance Details: Find SSH IP",
                "nouns": [
                    "instance",
                    "details"
                ],
                "orderProperties": [
                    "instance_id",
                    "region"
                ],
                "output": {
                    "type": ""
                },
                "outputParams": {
                    "output_name": "InstanceDetails",
                    "output_name_enabled": true
                },
                "tags": [
                    "aws_get_instance_details"
                ],
                "title": "Get AWS Instance Details: Find SSH IP",
                "verbs": [
                    "get"
                ]
            },
            "outputs": [],
            "source": [
                "##\n",
                "# Copyright (c) 2021 unSkript, Inc\n",
                "# All rights reserved.\n",
                "##\n",
                "from pydantic import BaseModel, Field\n",
                "\n",
                "\n",
                "from beartype import beartype\n",
                "@beartype\n",
                "def aws_get_instance_details(\n",
                "    handle,\n",
                "    instance_id: str,\n",
                "    region: str,\n",
                "):\n",
                "\n",
                "    ec2client = handle.client('ec2', region_name=region)\n",
                "    instances = []\n",
                "    response = ec2client.describe_instances(\n",
                "        Filters=[{\"Name\": \"instance-id\", \"Values\": [instance_id]}])\n",
                "    for reservation in response[\"Reservations\"]:\n",
                "        for instance in reservation[\"Instances\"]:\n",
                "            instances.append(instance)\n",
                "\n",
                "    return instances[0]\n",
                "\n",
                "\n",
                "task = Task(Workflow())\n",
                "task.configure(inputParamsJson='''{\n",
                "    \"instance_id\": \"instance_id\",\n",
                "    \"region\": \"region\"\n",
                "    }''')\n",
                "task.configure(outputName=\"InstanceDetails\")\n",
                "\n",
                "(err, hdl, args) = task.validate(vars=vars())\n",
                "if err is None:\n",
                "    task.output = task.execute(aws_get_instance_details, hdl=hdl, args=args)\n",
                "    if task.output_name != None:\n",
                "        globals().update({task.output_name: task.output[0]})\n",
                "\n",
                "if hasattr(task, 'output'):\n",
                "    if isinstance(task.output, (list, tuple)):\n",
                "        for item in task.output:\n",
                "            print(f'item: {item}')\n",
                "    elif isinstance(task.output, dict):\n",
                "        for item in task.output.items():\n",
                "            print(f'item: {item}')\n",
                "    else:\n",
                "        print(f'Output for {task.name}')\n",
                "        print(task.output)\n",
                "    w.tasks[task.name]= task.output\n",
                "    ssh_ip = InstanceDetails.get('PrivateIPAddress')"
            ]
        },
        {
            "cell_type": "markdown",
            "id": "8a4c02ff",
            "metadata": {},
            "source": [
                "Here we will use unSkript SSH: Locate large files on host Lego. This lego takes host, inspect_folder, threshold, sudo and count as input. These inputs are used to scan the file system on a given host and returns a dict of large files. The command used to perform the scan is \\\"find inspect_folder -type f -exec du -sk '{}' + | sort -rh | head -n count\\."
            ]
        },
        {
            "cell_type": "code",
            "execution_count": null,
            "id": "ac0a3f1d-6177-4987-a506-af53d4b48cec",
            "metadata": {
                "accessType": "ACCESS_TYPE_UNSPECIFIED",
                "actionBashCommand": false,
                "actionNeedsCredential": true,
                "actionSupportsIteration": true,
                "actionSupportsPoll": true,
                "action_uuid": "f3bb79ce49da7d739d31e66c86308c97e481f41275e2bcdaabfc694fa97f9d02",
                "createTime": "1970-01-01T00:00:00Z",
                "currentVersion": "0.1.0",
                "description": "Test",
                "id": 60,
                "index": 60,
                "inputData": [
                    {
                        "count": {
                            "constant": false,
                            "value": "10"
                        },
                        "host": {
                            "constant": false,
                            "value": "ssh_ip"
                        },
                        "inspect_folder": {
                            "constant": false,
                            "value": "dirs_to_anaylze"
                        },
                        "sudo": {
                            "constant": true,
                            "value": false
                        },
                        "threshold": {
                            "constant": false,
                            "value": "Threshold"
                        }
                    }
                ],
                "inputschema": [
                    {
                        "properties": {
                            "count": {
                                "default": 10,
                                "description": "Number of files to report from the scan. Default is 10",
                                "title": "Count",
                                "type": "integer"
                            },
                            "host": {
                                "description": "Host to connect to. Eg 10.10.10.10",
                                "title": "Host",
                                "type": "string"
                            },
                            "inspect_folder": {
                                "description": "Folder to inspect on the remote host.",
                                "title": "Inspect Folder",
                                "type": "string"
                            },
                            "sudo": {
                                "default": false,
                                "description": "Run the scan with sudo.",
                                "title": "Run with sudo",
                                "type": "boolean"
                            },
                            "threshold": {
                                "default": 100,
                                "description": "Threshold the files on given size. Specified in Mb. Default is 100Mb",
                                "title": "Size Threshold",
                                "type": "integer"
                            }
                        },
                        "required": [
                            "host",
                            "inspect_folder"
                        ],
                        "title": "ssh_find_large_files",
                        "type": "object"
                    }
                ],
                "legotype": "LEGO_TYPE_SSH",
                "name": "SSH: Execute Remote Command: Locate large files with du",
                "nouns": [
                    "ssh",
                    "files"
                ],
                "orderProperties": [
                    "host",
                    "inspect_folder",
                    "threshold",
                    "count",
                    "sudo"
                ],
                "output": {
                    "type": ""
                },
                "outputParams": {
                    "output_name": "FileLocation",
                    "output_name_enabled": true
                },
                "tags": [
                    "ssh_find_large_files"
                ],
                "title": "SSH: Execute Remote Command: Locate large files with du",
                "verbs": [
                    "find",
                    "locate"
                ]
            },
            "outputs": [],
            "source": [
                "##\n",
                "# Copyright (c) 2021 unSkript, Inc\n",
                "# All rights reserved.\n",
                "##\n",
                "import json\n",
                "import tempfile\n",
                "import os\n",
                "from pydantic import BaseModel, Field\n",
                "from pssh.clients import ParallelSSHClient\n",
                "from typing import List, Optional\n",
                "from unskript.connectors import ssh\n",
                "\n",
                "from unskript.legos.cellparams import CellParams\n",
                "from unskript import connectors\n",
                "\n",
                "\n",
                "from beartype import beartype\n",
                "@beartype\n",
                "def ssh_find_large_files(\n",
                "    sshClient,\n",
                "    host: str,\n",
                "    inspect_folder: str,\n",
                "    threshold: int = 0,\n",
                "    sudo: bool = False,\n",
                "    count: int = 10) -> dict:\n",
                "\n",
                "    client = sshClient([host])\n",
                "\n",
                "    # find size in Kb\n",
                "    command = \"find \" + inspect_folder + \\\n",
                "        \" -type f -exec du -sm '{}' + | sort -rh | head -n \" + str(count)\n",
                "    runCommandOutput = client.run_command(command=command, sudo=sudo)\n",
                "    client.join()\n",
                "    res = {}\n",
                "\n",
                "    for host_output in runCommandOutput:\n",
                "        for line in host_output.stdout:\n",
                "            # line is of the form {size} {fullfilename}\n",
                "            (size, filename) = line.split()\n",
                "            if int(size) > threshold:\n",
                "                res[filename] = int(size)\n",
                "\n",
                "    return res\n",
                "\n",
                "\n",
                "task = Task(Workflow())\n",
                "task.configure(inputParamsJson='''{\n",
                "    \"count\": \"10\",\n",
                "    \"host\": \"ssh_ip\",\n",
                "    \"inspect_folder\": \"dirs_to_anaylze\",\n",
                "    \"sudo\": \"False\",\n",
                "    \"threshold\": \"Threshold\"\n",
                "    }''')\n",
                "task.configure(outputName=\"FileLocation\")\n",
                "\n",
                "(err, hdl, args) = task.validate(vars=vars())\n",
                "if err is None:\n",
                "    task.output = task.execute(ssh_find_large_files, hdl=hdl, args=args)\n",
                "    if task.output_name != None:\n",
                "        globals().update({task.output_name: task.output[0]})\n",
                "\n",
                "if hasattr(task, 'output'):\n",
                "    if isinstance(task.output, (list, tuple)):\n",
                "        for item in task.output:\n",
                "            print(f'item: {item}')\n",
                "    elif isinstance(task.output, dict):\n",
                "        for item in task.output.items():\n",
                "            print(f'item: {item}')\n",
                "    else:\n",
                "        print(f'Output for {task.name}')\n",
                "        print(task.output)\n",
                "    w.tasks[task.name]= task.output"
            ]
        },
        {
            "cell_type": "code",
            "execution_count": null,
            "id": "492dfae5-dfe1-47b9-be70-51ff64029166",
            "metadata": {
                "actionNeedsCredential": true,
                "actionSupportsIteration": true,
                "actionSupportsPoll": true,
                "orderProperties": [],
                "tags": [],
                "title": "Custom Step: Create local filenames from remote filenames"
            },
            "outputs": [],
            "source": [
                "remote_files = [x for x in FileLocation.keys()]\n",
                "if len(remote_files) == 0:\n",
                "    print(\"No files to process, exiting\")\n",
                "    if hasattr(Workflow(), \"Done\"):\n",
                "        Workflow().Done()\n",
                "\n",
                "local_files = [ \"/tmp/\" + x.lstrip(\"/\").replace(\"/\", \"_\") for x in remote_files ]\n",
                "mapping = []\n",
                "for i in range(len(remote_files)):\n",
                "    mapping.append( {'remote': remote_files[i], 'local': local_files[i]} )\n",
                "print(json.dumps(mapping, indent=2))\n"
            ]
        },
        {
            "cell_type": "markdown",
            "id": "3349f56f",
            "metadata": {},
            "source": [
                "Here we will use unSkript SCP: Remote file transfer over SSH Lego. This lego takes host, remote_file, local_file and direction as input. This inputs is used to Copy files from or to remote host. Files are copied over SCP."
            ]
        },
        {
            "cell_type": "code",
            "execution_count": null,
            "id": "2a5a1b76-4385-49c1-b558-95216c34ccc4",
            "metadata": {
                "accessType": "ACCESS_TYPE_UNSPECIFIED",
                "actionBashCommand": false,
                "actionNeedsCredential": true,
                "actionSupportsIteration": true,
                "actionSupportsPoll": true,
                "action_uuid": "a3b8cad557699dfa01f15274d81941252f965f7a2a409ac89b844db74f44e4c5",
                "createTime": "1970-01-01T00:00:00Z",
                "currentVersion": "0.1.0",
                "description": "Copy files from or to remote host. Files are copied over SCP. ",
                "id": 59,
                "index": 59,
                "inputData": [
                    {
                        "direction": {
                            "constant": true,
                            "value": true
                        },
                        "host": {
                            "constant": false,
                            "value": "ssh_ip"
                        },
                        "local_file": {
                            "constant": false,
                            "value": "iter.get(\"local\")"
                        },
                        "remote_file": {
                            "constant": false,
                            "value": "iter.get(\"remote\")"
                        }
                    }
                ],
                "inputschema": [
                    {
                        "properties": {
                            "direction": {
                                "default": true,
                                "description": "Direction of the copy operation. Default is receive-from-remote-server",
                                "title": "Receive",
                                "type": "boolean"
                            },
                            "host": {
                                "description": "Hosts to connect to. For eg. \"10.10.10.10\"",
                                "title": "Host",
                                "type": "string"
                            },
                            "local_file": {
                                "description": "Filename on the unSkript proxy. Eg /tmp/my_local_file",
                                "title": "Local File",
                                "type": "string"
                            },
                            "remote_file": {
                                "description": "Filename on the remote server. Eg /home/ec2-user/my_remote_file",
                                "title": "Remote File",
                                "type": "string"
                            }
                        },
                        "required": [
                            "host",
                            "remote_file",
                            "local_file"
                        ],
                        "title": "ssh_scp",
                        "type": "object"
                    }
                ],
                "legotype": "LEGO_TYPE_SSH",
                "name": "SCP: Remote file transfer over SSH",
                "nouns": [
                    "ssh",
                    "file"
                ],
                "orderProperties": [
                    "host",
                    "remote_file",
                    "local_file",
                    "direction"
                ],
                "output": {
                    "type": ""
                },
                "tags": [
                    "ssh_scp"
                ],
                "verbs": [
                    "copy",
                    "transfer",
                    "scp"
                ]
            },
            "outputs": [],
            "source": [
                "##\n",
                "# Copyright (c) 2021 unSkript, Inc\n",
                "# All rights reserved.\n",
                "##\n",
                "\n",
                "from pydantic import BaseModel, Field\n",
                "from gevent import joinall\n",
                "\n",
                "\n",
                "from beartype import beartype\n",
                "@beartype\n",
                "def ssh_scp(\n",
                "        sshClient,\n",
                "        host: str,\n",
                "        remote_file: str,\n",
                "        local_file: str,\n",
                "        direction: bool = True) -> bool:\n",
                "\n",
                "    client = sshClient([host])\n",
                "    copy_args = [{'local_file': local_file, 'remote_file': remote_file}]\n",
                "\n",
                "    if direction is True:\n",
                "        cmds = client.copy_remote_file(remote_file=remote_file, local_file=local_file,\n",
                "                                       recurse=False,\n",
                "                                       suffix_separator=\"\", copy_args=copy_args,\n",
                "                                       encoding='utf-8')\n",
                "\n",
                "    else:\n",
                "        cmds = client.copy_file(local_file=local_file, remote_file=remote_file,\n",
                "                                recurse=False, copy_args=None)\n",
                "\n",
                "    try:\n",
                "        joinall(cmds, raise_error=True)\n",
                "        if direction is True:\n",
                "            print(f\"Successfully copied file {host}://{remote_file} to {local_file}\")\n",
                "        else:\n",
                "            print(f\"Successfully copied file {local_file} to {host}://{remote_file}\")\n",
                "\n",
                "    except Exception as e:\n",
                "        print(f\"Error encountered while copying files {e}\")\n",
                "        return False\n",
                "\n",
                "    return True\n",
                "\n",
                "\n",
                "task = Task(Workflow())\n",
                "task.configure(inputParamsJson='''{\n",
                "    \"direction\": \"True\",\n",
                "    \"host\": \"ssh_ip\",\n",
                "    \"local_file\": \"iter.get(\\\\\"local\\\\\")\",\n",
                "    \"remote_file\": \"iter.get(\\\\\"remote\\\\\")\"\n",
                "    }''')\n",
                "\n",
                "(err, hdl, args) = task.validate(vars=vars())\n",
                "if err is None:\n",
                "    task.output = task.execute(ssh_scp, hdl=hdl, args=args)\n",
                "    if task.output_name != None:\n",
                "        globals().update({task.output_name: task.output[0]})\n",
                "\n",
                "if hasattr(task, 'output'):\n",
                "    if isinstance(task.output, (list, tuple)):\n",
                "        for item in task.output:\n",
                "            print(f'item: {item}')\n",
                "    elif isinstance(task.output, dict):\n",
                "        for item in task.output.items():\n",
                "            print(f'item: {item}')\n",
                "    else:\n",
                "        print(f'Output for {task.name}')\n",
                "        print(task.output)\n",
                "    w.tasks[task.name]= task.output"
            ]
        },
        {
            "cell_type": "markdown",
            "id": "029a4c00",
            "metadata": {},
            "source": [
                "Here we will use unSkript Upload file to S3 Lego. This lego takes bucketName, file and prefix as input. This input is used to Upload a local file to S3 bucket."
            ]
        },
        {
            "cell_type": "code",
            "execution_count": null,
            "id": "443c623b-e0df-4868-a013-af4d028f3f2c",
            "metadata": {
                "accessType": "ACCESS_TYPE_UNSPECIFIED",
                "actionBashCommand": false,
                "actionNeedsCredential": true,
                "actionSupportsIteration": true,
                "actionSupportsPoll": true,
                "action_uuid": "c7ddfac1e75c2ec65ec4f1bc6d38c4cecc2ad08b19169da94466b49f04ced368",
                "createTime": "1970-01-01T00:00:00Z",
                "currentVersion": "0.1.0",
                "description": "Upload a local file to S3",
                "id": 126,
                "index": 126,
                "inputData": [
                    {
                        "bucketName": {
                            "constant": false,
                            "value": "Bucket"
                        },
                        "file": {
                            "constant": false,
                            "value": "iter.get(\"local\")"
                        },
                        "prefix": {
                            "constant": false,
                            "value": "prefix or f\"{instance_id}/{str(datetime.date.today())}/\""
                        }
                    }
                ],
                "inputschema": [
                    {
                        "properties": {
                            "bucketName": {
                                "description": "Name of the bucket to upload into.",
                                "title": "Bucket",
                                "type": "string"
                            },
                            "file": {
                                "description": "Name of the local file to upload into bucket. Eg /tmp/file-to-upload",
                                "title": "File",
                                "type": "string"
                            },
                            "prefix": {
                                "default": "",
                                "description": "Prefix to attach to get the final object name to be used in the bucket.",
                                "title": "Prefix",
                                "type": "string"
                            }
                        },
                        "required": [
                            "bucketName",
                            "file"
                        ],
                        "title": "aws_upload_file_to_s3",
                        "type": "object"
                    }
                ],
                "iterData": [
                    {
                        "iter_enabled": true,
                        "iter_item": "",
                        "iter_list": {
                            "constant": false,
                            "objectItems": false,
                            "value": "mapping"
                        }
                    }
                ],
                "legotype": "LEGO_TYPE_AWS",
                "name": "Upload file to S3",
                "nouns": [
                    "aws",
                    "bucket",
                    "file"
                ],
                "orderProperties": [
                    "bucketName",
                    "file",
                    "prefix"
                ],
                "output": {
                    "type": ""
                },
                "tags": [
                    "aws_upload_file_to_s3"
                ],
                "verbs": [
                    "put",
                    "upload"
                ]
            },
            "outputs": [],
            "source": [
                "##\n",
                "# Copyright (c) 2021 unSkript, Inc\n",
                "# All rights reserved.\n",
                "##\n",
                "\n",
                "\n",
                "from pydantic import BaseModel, Field\n",
                "\n",
                "\n",
                "from beartype import beartype\n",
                "@beartype\n",
                "def aws_upload_file_to_s3(handle, bucketName: str, file: str, prefix: str = \"\"):\n",
                "\n",
                "    s3 = handle.client('s3')\n",
                "    objName = prefix + file.split(\"/\")[-1]\n",
                "    try:\n",
                "        with open(file, \"rb\") as f:\n",
                "            s3.upload_fileobj(f, bucketName, objName)\n",
                "    except Exception as e:\n",
                "        print(f\"Error: {e}\")\n",
                "        raise e\n",
                "\n",
                "    print(f\"Successfully copied {file} to bucket:{bucketName} object:{objName}\")\n",
                "    return None\n",
                "\n",
                "\n",
                "task = Task(Workflow())\n",
                "task.configure(inputParamsJson='''{\n",
                "    \"bucketName\": \"Bucket\",\n",
                "    \"file\": \"iter.get(\\\\\"local\\\\\")\",\n",
                "    \"prefix\": \"prefix or f\\\\\"{instance_id}/{str(datetime.date.today())}/\\\\\"\"\n",
                "    }''')\n",
                "\n",
                "task.configure(iterJson='''{\n",
                "    \"iter_enabled\": true,\n",
                "    \"iter_list_is_const\": false,\n",
                "    \"iter_list\": \"mapping\",\n",
                "    \"iter_parameter\": \"\"\n",
                "    }''')\n",
                "\n",
                "(err, hdl, args) = task.validate(vars=vars())\n",
                "if err is None:\n",
                "    task.output = task.execute(aws_upload_file_to_s3, hdl=hdl, args=args)\n",
                "    if task.output_name != None:\n",
                "        globals().update({task.output_name: task.output[0]})\n",
                "\n",
                "if hasattr(task, 'output'):\n",
                "    if isinstance(task.output, (list, tuple)):\n",
                "        for item in task.output:\n",
                "            print(f'item: {item}')\n",
                "    elif isinstance(task.output, dict):\n",
                "        for item in task.output.items():\n",
                "            print(f'item: {item}')\n",
                "    else:\n",
                "        print(f'Output for {task.name}')\n",
                "        print(task.output)\n",
                "    w.tasks[task.name]= task.output"
            ]
        },
        {
            "cell_type": "markdown",
            "id": "f8431944",
            "metadata": {},
            "source": [
                "Here we will use unSkript SSH Execute Remote Command Lego. This lego takes hosts, command and sudo as input. This input is used to SSH Execute Remote Command."
            ]
        },
        {
            "cell_type": "code",
            "execution_count": null,
            "id": "eed84b79-c7db-4950-a5e2-5ec66eb72cea",
            "metadata": {
                "accessType": "ACCESS_TYPE_UNSPECIFIED",
                "actionBashCommand": false,
                "actionNeedsCredential": true,
                "actionSupportsIteration": true,
                "actionSupportsPoll": true,
                "action_uuid": "5279b2046bb2eb4a691ba748086f4af9e580a849faae557694bb12a8c2b7b379",
                "createTime": "1970-01-01T00:00:00Z",
                "currentVersion": "0.1.0",
                "description": "SSH Execute Remote Command",
                "id": 58,
                "index": 58,
                "inputData": [
                    {
                        "command": {
                            "constant": false,
                            "value": "\"rm -v \" + \" \".join(remote_files)"
                        },
                        "hosts": {
                            "constant": false,
                            "value": "[ ssh_ip ]"
                        },
                        "sudo": {
                            "constant": true,
                            "value": false
                        }
                    }
                ],
                "inputschema": [
                    {
                        "properties": {
                            "command": {
                                "description": "Command to be executed on the remote server.",
                                "title": "Command",
                                "type": "string"
                            },
                            "hosts": {
                                "description": "List of hosts to connect to. For eg. [\"host1\", \"host2\"].",
                                "items": {
                                    "type": "string"
                                },
                                "title": "Hosts",
                                "type": "array"
                            },
                            "sudo": {
                                "default": false,
                                "description": "Run the command with sudo.",
                                "title": "Run with sudo",
                                "type": "boolean"
                            }
                        },
                        "required": [
                            "hosts",
                            "command"
                        ],
                        "title": "ssh_execute_remote_command",
                        "type": "object"
                    }
                ],
                "legotype": "LEGO_TYPE_SSH",
                "name": "SSH Execute Remote Command: Remove Files",
                "nouns": [
                    "ssh",
                    "command"
                ],
                "orderProperties": [
                    "hosts",
                    "command",
                    "sudo"
                ],
                "output": {
                    "type": ""
                },
                "tags": [
                    "ssh_execute_remote_command"
                ],
                "title": "SSH Execute Remote Command: Remove Files",
                "verbs": [
                    "execute"
                ]
            },
            "outputs": [],
            "source": [
                "##\n",
                "# Copyright (c) 2021 unSkript, Inc\n",
                "# All rights reserved.\n",
                "##\n",
                "import json\n",
                "import tempfile\n",
                "import os\n",
                "from pydantic import BaseModel, Field\n",
                "from pssh.clients import ParallelSSHClient\n",
                "from typing import List, Optional\n",
                "from unskript.connectors import ssh\n",
                "\n",
                "from unskript.legos.cellparams import CellParams\n",
                "from unskript import connectors\n",
                "\n",
                "\n",
                "from beartype import beartype\n",
                "@beartype\n",
                "def ssh_execute_remote_command(sshClient, hosts: List[str], command: str, sudo: bool = False):\n",
                "\n",
                "    client = sshClient(hosts)\n",
                "    runCommandOutput = client.run_command(command=command, sudo=sudo)\n",
                "    client.join()\n",
                "    res = {}\n",
                "\n",
                "    for host_output in runCommandOutput:\n",
                "        hostname = host_output.host\n",
                "        output = []\n",
                "        for line in host_output.stdout:\n",
                "            output.append(line)\n",
                "        res[hostname] = output\n",
                "\n",
                "        o = \"\\n\".join(output)\n",
                "        print(f\"Output from host {hostname}\\n{o}\\n\")\n",
                "\n",
                "    return res\n",
                "\n",
                "\n",
                "task = Task(Workflow())\n",
                "task.configure(inputParamsJson='''{\n",
                "    \"command\": \"\\\\\"rm -v \\\\\" + \\\\\" \\\\\".join(remote_files)\",\n",
                "    \"hosts\": \"[ ssh_ip ]\",\n",
                "    \"sudo\": \"False\"\n",
                "    }''')\n",
                "\n",
                "(err, hdl, args) = task.validate(vars=vars())\n",
                "if err is None:\n",
                "    task.output = task.execute(ssh_execute_remote_command, hdl=hdl, args=args)\n",
                "    if task.output_name != None:\n",
                "        globals().update({task.output_name: task.output[0]})\n",
                "\n",
                "if hasattr(task, 'output'):\n",
                "    if isinstance(task.output, (list, tuple)):\n",
                "        for item in task.output:\n",
                "            print(f'item: {item}')\n",
                "    elif isinstance(task.output, dict):\n",
                "        for item in task.output.items():\n",
                "            print(f'item: {item}')\n",
                "    else:\n",
                "        print(f'Output for {task.name}')\n",
                "        print(task.output)\n",
                "    w.tasks[task.name]= task.output"
            ]
        },
        {
            "cell_type": "code",
            "execution_count": null,
            "id": "cfdd871c-1713-49fd-973e-ca852993354b",
            "metadata": {
                "actionNeedsCredential": true,
                "actionSupportsIteration": true,
                "actionSupportsPoll": true,
                "orderProperties": [],
                "tags": [],
                "title": "Clean up local files"
            },
            "outputs": [],
            "source": [
                "from subprocess import PIPE, run\n",
                "\n",
                "o = run(f\"rm -fv {' '.join(local_files)}\", stdout=PIPE, stderr=PIPE, universal_newlines=True, shell=True)\n",
                "print(o.stdout)"
            ]
        },
        {
            "cell_type": "markdown",
            "id": "785e11cd",
            "metadata": {},
            "source": [
                "Here we will use unSkript Post Slack Message Lego. This lego takes channel: str and message: str as input. This inputs is used to post the message to the slack channel."
            ]
        },
        {
            "cell_type": "code",
            "execution_count": null,
            "id": "b3f91610-73fc-4f57-93db-203fe91aa4cb",
            "metadata": {
                "accessType": "ACCESS_TYPE_UNSPECIFIED",
                "actionBashCommand": false,
                "actionNeedsCredential": true,
                "actionSupportsIteration": true,
                "actionSupportsPoll": true,
                "action_uuid": "6a87f83ab0ecfeecb9c98d084e2b1066c26fa64be5b4928d5573a5d60299802d",
                "createTime": "1970-01-01T00:00:00Z",
                "currentVersion": "0.1.0",
                "description": "Post Slack Message",
                "id": 44,
                "index": 44,
                "inputData": [
                    {
                        "channel": {
                            "constant": false,
                            "value": ""
                        },
                        "message": {
                            "constant": false,
                            "value": "f\"Deleted {len(remote_files)} files from host {ssh_ip}\""
                        }
                    }
                ],
                "inputschema": [
                    {
                        "properties": {
                            "channel": {
                                "description": "Name of the slack channel where the message to be posted",
                                "title": "Channel",
                                "type": "string"
                            },
                            "message": {
                                "description": "Message to be sent",
                                "title": "Message",
                                "type": "string"
                            }
                        },
                        "required": [
                            "channel",
                            "message"
                        ],
                        "title": "slack_post_message",
                        "type": "object"
                    }
                ],
                "jupyter": {
                    "source_hidden": true
                },
                "legotype": "LEGO_TYPE_SLACK",
                "name": "Post Slack Message",
                "nouns": [
                    "slack",
                    "message"
                ],
                "orderProperties": [
                    "channel",
                    "message"
                ],
                "output": {
                    "type": ""
                },
                "tags": [
                    "slack_post_message"
                ],
                "verbs": [
                    "post"
                ]
            },
            "outputs": [],
            "source": [
                "##\n",
                "# Copyright (c) 2021 unSkript, Inc\n",
                "# All rights reserved.\n",
                "##\n",
                "\n",
                "import pprint\n",
                "\n",
                "from pydantic import BaseModel, Field\n",
                "from slack_sdk import WebClient\n",
                "from slack_sdk.errors import SlackApiError\n",
                "\n",
                "pp = pprint.PrettyPrinter(indent=2)\n",
                "\n",
                "\n",
                "from beartype import beartype\n",
                "def legoPrinter(func):\n",
                "    def Printer(*args, **kwargs):\n",
                "        output = func(*args, **kwargs)\n",
                "        if output:\n",
                "            channel = kwargs[\"channel\"]\n",
                "            pp.pprint(print(f\"Message sent to Slack channel {channel}\"))\n",
                "        return output\n",
                "    return Printer\n",
                "\n",
                "\n",
                "@legoPrinter\n",
                "@beartype\n",
                "def slack_post_message(\n",
                "        handle: WebClient,\n",
                "        channel: str,\n",
                "        message: str) -> bool:\n",
                "\n",
                "    try:\n",
                "        response = handle.chat_postMessage(\n",
                "            channel=channel,\n",
                "            text=message)\n",
                "        return True\n",
                "    except SlackApiError as e:\n",
                "        print(\"\\n\\n\")\n",
                "        pp.pprint(\n",
                "            f\"Failed sending message to slack channel {channel}, Error: {e.response['error']}\")\n",
                "        return False\n",
                "    except Exception as e:\n",
                "        print(\"\\n\\n\")\n",
                "        pp.pprint(\n",
                "            f\"Failed sending message to slack channel {channel}, Error: {e.__str__()}\")\n",
                "        return False\n",
                "\n",
                "\n",
                "task = Task(Workflow())\n",
                "task.configure(inputParamsJson='''{\n",
                "    \"message\": \"f\\\\\"Deleted {len(remote_files)} files from host {ssh_ip}\\\\\"\"\n",
                "    }''')\n",
                "\n",
                "(err, hdl, args) = task.validate(vars=vars())\n",
                "if err is None:\n",
                "    task.output = task.execute(slack_post_message, hdl=hdl, args=args)\n",
                "    if task.output_name != None:\n",
                "        globals().update({task.output_name: task.output[0]})"
            ]
        },
        {
            "cell_type": "markdown",
            "id": "1006351c",
            "metadata": {},
            "source": [
                "### Conclusion\n",
                "In this Runbook, we demonstrated the use of unSkript's AWS and SSH legos to perform AWS and SSH actions. This runbook locates large files in a given path inside an EC2 instance and backs them up into a given S3 bucket. Once the files are backed up, it deletes the files in the EC2 instance and send a message on Slack. To view the full platform capabilities of unSkript please visit https://unskript.com"
            ]
        }
    ],
    "metadata": {
        "execution_data": {
            "environment_id": "dba3932f-3118-4ab0-b92c-70fa56402037",
            "environment_name": "SingleAMI",
            "execution_id": "",
            "inputs_for_searched_lego": "",
            "notebook_id": "workflow.ipynb",
            "parameters": [
                "Bucket",
                "Threshold",
                "dirs_to_anaylze",
                "instance_id",
                "prefix",
                "region"
            ],
            "runbook_name": "JRRunbook",
            "search_string": "",
            "show_tool_tip": false,
            "tenant_id": "8b3c7148-2d57-4b89-84d3-d59f6c792b0c",
            "tenant_url": "https://tenant-amit.dev.unskript.io",
            "user_email_id": "amit@unskript.com",
            "workflow_id": "755dbe40-22d7-4b70-a04d-31d34bb04e4a"
        },
        "kernelspec": {
            "display_name": "Python 3.9.6 64-bit",
            "language": "python",
            "name": "python3"
        },
        "language_info": {
            "file_extension": ".py",
            "mimetype": "text/x-python",
            "name": "python",
            "pygments_lexer": "ipython3",
            "version": "3.9.6"
        },
        "parameterSchema": {
            "properties": {
                "Bucket": {
                    "default": "unskript-dev",
                    "description": "Bucket for uploading large files",
                    "title": "Bucket",
                    "type": "string"
                },
                "Threshold": {
                    "default": 100,
                    "description": "Threshold on file size (in Mb)",
                    "title": "Threshold",
                    "type": "number"
                },
                "dirs_to_anaylze": {
                    "default": "/home",
                    "description": "Root for directories to be analyzed for large files",
                    "title": "dirs_to_anaylze",
                    "type": "string"
                },
                "instance_id": {
                    "default": "i-02127703d2b6d3f56",
                    "description": "EC2 Instance",
                    "title": "instance_id",
                    "type": "string"
                },
                "prefix": {
                    "default": "test/",
                    "description": "Prefix to use while uploading to S3 (default: <instance>/<date>)",
                    "title": "prefix",
                    "type": "string"
                },
                "region": {
                    "default": "us-west-2",
                    "description": "AWS Region",
                    "title": "region",
                    "type": "string"
                }
            },
            "required": [],
            "title": "Schema",
            "type": "object"
        },
        "parameterValues": {
            "Bucket": "unskript-dev",
            "Threshold": null,
            "dirs_to_anaylze": "/home",
            "instance_id": "i-02127703d2b6d3f56",
            "prefix": "test/",
            "region": "us-west-2"
        },
        "vscode": {
            "interpreter": {
                "hash": "31f2aee4e71d21fbe5cf8b01ff0e069b9275f58929596ceb00d14d90e3e16cd6"
            }
        }
    },
    "nbformat": 4,
    "nbformat_minor": 5
}
