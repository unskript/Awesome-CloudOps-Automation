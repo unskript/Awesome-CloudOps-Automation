{
 "cells": [
  {
   "cell_type": "markdown",
   "id": "79251bc7-c6cd-4344-a8d5-754bf62eb17e",
   "metadata": {
    "jupyter": {
     "source_hidden": false
    },
    "name": "Update AWS Resources about to expire",
    "orderProperties": [],
    "tags": [],
    "title": "Update AWS Resources about to expire"
   },
   "source": [
    "<p><img src=\"https://storage.googleapis.com/unskript-website/assets/favicon.png\" alt=\"unSkript.com\" width=\"100\" height=\"100\"></p>\n",
    "<h1 id=\"unSkript-Runbooks-&para;\">unSkript Runbooks <a class=\"jp-InternalAnchorLink\" href=\"#-unSkript-Runbooks-\" target=\"_self\" rel=\"noopener\">&para;</a><a class=\"jp-InternalAnchorLink\" href=\"#unSkript-Runbooks-&para;\" target=\"_self\">&para;</a></h1>\n",
    "<div class=\"alert alert-block alert-success\"><strong>&nbsp;This runbook updates the expiration tag for AWS Resources that are about to expire.</strong></div>\n",
    "<p>&nbsp;</p>\n",
    "<center><center>\n",
    "<h2 id=\"Update-AWS-Resources-about-to-expire&para;\">Update AWS Resources about to expire<a class=\"jp-InternalAnchorLink\" href=\"#Enforce-Mandatory-Tags-Across-All-AWS-Resources\" target=\"_self\" rel=\"noopener\">&para;</a><a class=\"jp-InternalAnchorLink\" href=\"#Update-AWS-Resources-about-to-expire&para;\" target=\"_self\">&para;</a></h2>\n",
    "</center>\n",
    "<h1 id=\"Steps-Overview&para;\">Steps Overview<a class=\"jp-InternalAnchorLink\" href=\"#Steps-Overview\" target=\"_self\" rel=\"noopener\">&para;</a><a class=\"jp-InternalAnchorLink\" href=\"#Steps-Overview&para;\" target=\"_self\">&para;</a></h1>\n",
    "<ol>\n",
    "<li>Get all resources in a given region with an expiratiuon tag.</li>\n",
    "<li>Filter those that have expired or are about to expire</li>\n",
    "<li>Update manually with the date picker.</li>\n",
    "<li>Update the epiration tag to the selected AWS Resources.</li>\n",
    "<li>Send a Slack message on number of expiring resources.</li>\n",
    "</ol>\n",
    "<p>&nbsp;</p>\n",
    "<p>If this RunBook is run Programatically - no dates will be changed - just a Slack alert sent.</p>\n",
    "<p>&nbsp;</p>\n",
    "<p>&nbsp;</p>\n",
    "</center>"
   ]
  },
  {
   "cell_type": "markdown",
   "id": "a49a1258-79d2-4846-8731-4ed74b36d6bc",
   "metadata": {
    "jupyter": {
     "source_hidden": false
    },
    "name": "AWS Get Resources with expiration tag",
    "orderProperties": [],
    "tags": [],
    "title": "AWS Get Resources with expiration tag"
   },
   "source": [
    "<p>Here we will use unSkript AWS Get Resources with the expiration tag&nbsp; - the tag name is an input parameter for the runbook.</p>"
   ]
  },
  {
   "cell_type": "code",
   "execution_count": 12,
   "id": "0ec169e9-f3f2-400d-9b58-e4a598769e61",
   "metadata": {
    "accessType": "ACCESS_TYPE_UNSPECIFIED",
    "actionBashCommand": false,
    "actionNeedsCredential": true,
    "actionRequiredLinesInCode": [],
    "actionSupportsIteration": true,
    "actionSupportsPoll": true,
    "action_modified": true,
    "action_uuid": "aee6cabb55096d5cf6098faa7e4a94135e8f5b0572b36d4b3252d7745fae595b",
    "continueOnError": false,
    "createTime": "1970-01-01T00:00:00Z",
    "credentialsJson": {},
    "currentVersion": "0.1.0",
    "customCell": true,
    "description": "AWS Get Untagged Resources",
    "execution_data": {
     "last_date_success_run_cell": "2023-06-07T14:51:19.386Z"
    },
    "id": 187,
    "index": 187,
    "inputData": [
     {
      "region": {
       "constant": false,
       "value": "Region"
      },
      "tag": {
       "constant": false,
       "value": "expiration_tag"
      }
     }
    ],
    "inputschema": [
     {
      "properties": {
       "region": {
        "default": "",
        "description": "AWS Region.",
        "title": "Region",
        "type": "string"
       },
       "tag": {
        "default": "Tag_Key",
        "description": "The Tag to search for",
        "title": "tag",
        "type": "string"
       }
      },
      "required": [
       "region",
       "tag"
      ],
      "title": "aws_get_resources_with_expiration_tag",
      "type": "object"
     }
    ],
    "legotype": "LEGO_TYPE_AWS",
    "name": "AWS Get Resources With Expiration Tag",
    "nouns": [
     "aws",
     "resources"
    ],
    "orderProperties": [
     "region",
     "tag"
    ],
    "output": {
     "type": ""
    },
    "outputParams": {
     "output_name": "ExpirationResources",
     "output_name_enabled": true,
     "output_runbook_enabled": false,
     "output_runbook_name": ""
    },
    "printOutput": true,
    "service_id_enabled": false,
    "tags": [
     "aws_get_untagged_resources"
    ],
    "title": "AWS Get Resources With Expiration Tag",
    "verbs": [
     "list"
    ]
   },
   "outputs": [],
   "source": [
    "##  Copyright (c) 2021 unSkript, Inc\n",
    "##  All rights reserved.\n",
    "##\n",
    "from typing import List, Dict\n",
    "from pydantic import BaseModel, Field\n",
    "from unskript.connectors.aws import aws_get_paginator\n",
    "import pprint\n",
    "\n",
    "from beartype import beartype\n",
    "@beartype\n",
    "def aws_get_resources_with_expiration_tag_printer(output):\n",
    "    if output is None:\n",
    "        return\n",
    "    pprint.pprint(f\"there are {len(output)} resources missing tag {Tag_Key}. We can fix a max of 20.\" )\n",
    "\n",
    "\n",
    "@beartype\n",
    "def aws_get_resources_with_expiration_tag(handle, region: str, tag:str) -> List:\n",
    "\n",
    "    ec2Client = handle.client('resourcegroupstaggingapi', region_name=region)\n",
    "    result = []\n",
    "    try:\n",
    "        response = aws_get_paginator(ec2Client, \"get_resources\", \"ResourceTagMappingList\")\n",
    "        for resources in response:\n",
    "            if resources[\"Tags\"]:\n",
    "                #has tags\n",
    "                tags = resources['Tags']\n",
    "                for kv in resources['Tags']:\n",
    "                    if kv[\"Key\"] == tag:\n",
    "                        #we have found an expiration tag\n",
    "                        temp ={'arn': [resources[\"ResourceARN\"]], 'expires':kv[\"Value\"]}\n",
    "                        print(temp)\n",
    "                        result.append(temp)\n",
    "\n",
    "    except Exception as error:\n",
    "        result.append({\"error\":error})\n",
    "\n",
    "    return result\n",
    "\n",
    "\n",
    "task = Task(Workflow())\n",
    "task.configure(printOutput=True)\n",
    "task.configure(inputParamsJson='''{\n",
    "    \"region\": \"Region\",\n",
    "    \"tag\": \"expiration_tag\"\n",
    "    }''')\n",
    "task.configure(outputName=\"ExpirationResources\")\n",
    "\n",
    "(err, hdl, args) = task.validate(vars=vars())\n",
    "if err is None:\n",
    "    task.execute(aws_get_resources_with_expiration_tag, lego_printer=aws_get_resources_with_expiration_tag_printer, hdl=hdl, args=args)"
   ]
  },
  {
   "cell_type": "markdown",
   "id": "8be56b96-04b8-4518-afaa-157b4d530321",
   "metadata": {
    "jupyter": {
     "source_hidden": false
    },
    "name": "Filter the Resources",
    "orderProperties": [],
    "tags": [],
    "title": "Filter the Resources"
   },
   "source": [
    "<p>Now, we filter for ony resrouces that have expired, or are bout to expire, and display in list with a date picker.</p>\n",
    "<p>&nbsp;</p>\n",
    "<p>Updating the date will allow us to change the value to the expiration tag.</p>\n",
    "<p>&nbsp;</p>"
   ]
  },
  {
   "cell_type": "code",
   "execution_count": 4,
   "id": "2f6628f1-6285-49fb-9423-2eeb0575043d",
   "metadata": {
    "customAction": true,
    "execution_data": {
     "last_date_success_run_cell": "2023-06-07T14:37:42.200Z"
    },
    "jupyter": {
     "source_hidden": true
    },
    "name": "find resources about to expire",
    "orderProperties": [],
    "tags": [],
    "title": "find resources about to expire",
    "credentialsJson": {}
   },
   "outputs": [],
   "source": [
    "from datetime import datetime, timedelta\n",
    "\n",
    "#print(ExpirationResources)\n",
    "expiringList = []\n",
    "# Get the current date\n",
    "current_date = datetime.now()\n",
    "\n",
    "# Calculate the date days_to_expire days from now\n",
    "future_date = current_date + timedelta(days=days_to_expire)\n",
    "\n",
    "for resource in ExpirationResources:\n",
    "    expires = datetime.strptime(resource['expires'], \"%m/%d/%Y\")\n",
    "    if expires < future_date:\n",
    "        expiringList.append(resource)\n",
    "\n",
    "print(expiringList)"
   ]
  },
  {
   "cell_type": "code",
   "execution_count": 5,
   "id": "de6350ed-9d0c-45fe-8917-5e95d370eed7",
   "metadata": {
    "customAction": true,
    "execution_data": {
     "last_date_success_run_cell": "2023-06-07T14:37:47.898Z"
    },
    "jupyter": {
     "source_hidden": true
    },
    "name": "select expirations to renew",
    "orderProperties": [],
    "tags": [],
    "title": "select expirations to renew",
    "credentialsJson": {}
   },
   "outputs": [],
   "source": [
    "from datetime import datetime\n",
    "import ipywidgets as widgets\n",
    "from IPython.display import display\n",
    "\n",
    "# Sample list of dictionaries\n",
    "\n",
    "\n",
    "def update_expiration_date(expiration_date, arn):\n",
    "    for item in expiringList:\n",
    "        if item[\"arn\"][0] == arn:\n",
    "            item[\"expires\"] = expiration_date.strftime(\"%m/%d/%Y\")\n",
    "    print(expiringList)\n",
    "\n",
    "def on_date_change(change):\n",
    "    arn = change.owner.description\n",
    "    expiration_date = change.new\n",
    "    update_expiration_date(expiration_date, arn)\n",
    "\n",
    "# Create a date picker for each ARN\n",
    "for item in expiringList:\n",
    "    expiration_date = datetime.strptime(item[\"expires\"], \"%m/%d/%Y\").date()\n",
    "    date_picker = widgets.DatePicker(description=item[\"arn\"][0], \n",
    "                                     style=dict(description_width='initial'),\n",
    "                                     layout=dict(width='80%'),\n",
    "                                     value=expiration_date)\n",
    "    date_picker.observe(on_date_change, names='value')\n",
    "    display(date_picker)\n"
   ]
  },
  {
   "cell_type": "code",
   "execution_count": 5,
   "id": "14eaf63e-750e-40d1-aa57-2fde82fefba8",
   "metadata": {
    "customAction": true,
    "execution_data": {
     "last_date_success_run_cell": "2023-06-06T18:40:55.402Z"
    },
    "orderProperties": [],
    "tags": [],
    "credentialsJson": {}
   },
   "outputs": [],
   "source": [
    "print(expiringList)"
   ]
  },
  {
   "cell_type": "markdown",
   "id": "ce65fdd0-ee64-42d0-90a6-0fe1c0f54608",
   "metadata": {
    "jupyter": {
     "source_hidden": false
    },
    "name": "AWS Attach Tags to Resources",
    "orderProperties": [],
    "tags": [],
    "title": "AWS Attach Tags to Resources"
   },
   "source": [
    "<p>Here we will use unSkript AWS Attach Tags to Resources Lego.&nbsp;</p>\n",
    "<p>&nbsp;</p>\n",
    "<p>The updated dates from the date picker will be used to replace the current value in the expiration tag.</p>"
   ]
  },
  {
   "cell_type": "code",
   "execution_count": 32,
   "id": "b0bf6aee-2b72-4348-8c38-fe3783619da6",
   "metadata": {
    "accessType": "ACCESS_TYPE_UNSPECIFIED",
    "actionBashCommand": false,
    "actionCategories": [
     "CATEGORY_TYPE_COST_OPT",
     "CATEGORY_TYPE_DEVOPS",
     "CATEGORY_TYPE_AWS"
    ],
    "actionIsCheck": false,
    "actionNeedsCredential": true,
    "actionNextHopParameterMapping": {},
    "actionOutputType": "",
    "actionRequiredLinesInCode": [],
    "actionSupportsIteration": true,
    "actionSupportsPoll": true,
    "action_modified": false,
    "action_uuid": "878cb7819ecb4687ecfa8c6143365d10fe6b127adeb4a27fd71d06a3a2243d22",
    "checkEnabled": false,
    "continueOnError": false,
    "createTime": "1970-01-01T00:00:00Z",
    "credentialsJson": {},
    "currentVersion": "0.1.0",
    "description": "AWS Attach Tags to Resources",
    "execution_data": {
     "last_date_success_run_cell": "2023-06-05T21:11:47.279Z"
    },
    "id": 260,
    "index": 260,
    "inputData": [
     {
      "region": {
       "constant": false,
       "value": "Region"
      },
      "resource_arn": {
       "constant": false,
       "value": "\"iter.get(\\\\\"arn\\\\\")\""
      },
      "tag_key": {
       "constant": false,
       "value": "expiration_tag"
      },
      "tag_value": {
       "constant": false,
       "value": "\"iter.get(\\\\\"expires\\\\\")\""
      }
     }
    ],
    "inputschema": [
     {
      "properties": {
       "region": {
        "description": "AWS Region.",
        "title": "Region",
        "type": "string"
       },
       "resource_arn": {
        "description": "Resource ARNs.",
        "items": {},
        "title": "Resource ARN",
        "type": "array"
       },
       "tag_key": {
        "description": "Resource Tag Key.",
        "title": "Tag Key",
        "type": "string"
       },
       "tag_value": {
        "description": "Resource Tag Value.",
        "title": "Tag Value",
        "type": "string"
       }
      },
      "required": [
       "region",
       "resource_arn",
       "tag_key",
       "tag_value"
      ],
      "title": "aws_attach_tags_to_resources",
      "type": "object"
     }
    ],
    "isUnskript": false,
    "iterData": [
     {
      "iter_enabled": true,
      "iter_item": {
       "resource_arn": "arn",
       "tag_value": "expires"
      },
      "iter_list": {
       "constant": false,
       "objectItems": true,
       "value": "[x for x in expiringList]"
      }
     }
    ],
    "jupyter": {
     "source_hidden": true
    },
    "legotype": "LEGO_TYPE_AWS",
    "name": "AWS Attach Tags to Resources",
    "nouns": [],
    "orderProperties": [
     "resource_arn",
     "tag_key",
     "tag_value",
     "region"
    ],
    "output": {
     "type": ""
    },
    "outputParams": {
     "output_name": "test",
     "output_name_enabled": true,
     "output_runbook_enabled": false,
     "output_runbook_name": ""
    },
    "printOutput": true,
    "tags": [
     "aws_attach_tags_to_resources"
    ],
    "verbs": []
   },
   "outputs": [],
   "source": [
    "##  Copyright (c) 2021 unSkript, Inc\n",
    "##  All rights reserved.\n",
    "##\n",
    "import pprint\n",
    "from typing import Dict\n",
    "from pydantic import BaseModel, Field\n",
    "\n",
    "from beartype import beartype\n",
    "@beartype\n",
    "def aws_attach_tags_to_resources_printer(output):\n",
    "    if output is None:\n",
    "        return\n",
    "    pprint.pprint(output)\n",
    "\n",
    "@beartype\n",
    "def aws_attach_tags_to_resources(\n",
    "    handle,\n",
    "    resource_arn: list,\n",
    "    tag_key: str,\n",
    "    tag_value: str,\n",
    "    region: str\n",
    "    ) -> Dict:\n",
    "    \"\"\"aws_attach_tags_to_resources Returns an Dict of resource info.\n",
    "\n",
    "        :type handle: object\n",
    "        :param handle: Object returned from task.validate(...).\n",
    "\n",
    "        :type resource_arn: list\n",
    "        :param resource_arn: Resource ARNs.\n",
    "\n",
    "        :type tag_key: str\n",
    "        :param tag_key: Resource Tag Key.\n",
    "\n",
    "        :type tag_value: str\n",
    "        :param tag_value: Resource Tag value.\n",
    "\n",
    "        :type region: str\n",
    "        :param region: Region to filter resources.\n",
    "\n",
    "        :rtype: Dict of resource info.\n",
    "    \"\"\"\n",
    "    ec2Client = handle.client('resourcegroupstaggingapi', region_name=region)\n",
    "    result = {}\n",
    "    try:\n",
    "        response = ec2Client.tag_resources(\n",
    "            ResourceARNList=resource_arn,\n",
    "            Tags={tag_key: tag_value}\n",
    "            )\n",
    "        result = response\n",
    "\n",
    "    except Exception as error:\n",
    "        result[\"error\"] = error\n",
    "\n",
    "    return result\n",
    "\n",
    "\n",
    "\n",
    "task = Task(Workflow())\n",
    "task.configure(continueOnError=False)\n",
    "task.configure(inputParamsJson='''{\n",
    "    \"region\": \"Region\",\n",
    "    \"resource_arn\": \"iter.get(\\\\\"arn\\\\\")\",\n",
    "    \"tag_key\": \"expiration_tag\",\n",
    "    \"tag_value\": \"iter.get(\\\\\"expires\\\\\")\"\n",
    "    }''')\n",
    "task.configure(iterJson='''{\n",
    "    \"iter_enabled\": true,\n",
    "    \"iter_list_is_const\": false,\n",
    "    \"iter_list\": \"[x for x in expiringList]\",\n",
    "    \"iter_parameter\": [\"resource_arn\",\"tag_value\"]\n",
    "    }''')\n",
    "task.configure(outputName=\"test\")\n",
    "task.configure(printOutput=True)\n",
    "(err, hdl, args) = task.validate(vars=vars())\n",
    "if err is None:\n",
    "    task.execute(aws_attach_tags_to_resources, lego_printer=aws_attach_tags_to_resources_printer, hdl=hdl, args=args)"
   ]
  },
  {
   "cell_type": "code",
   "execution_count": 9,
   "id": "67e94cc1-d88f-4eaf-a419-62903a7e8c7a",
   "metadata": {
    "accessType": "ACCESS_TYPE_UNSPECIFIED",
    "actionBashCommand": false,
    "actionCategories": [
     "CATEGORY_TYPE_CLOUDOPS",
     "CATEGORY_TYPE_DEVOPS",
     "CATEGORY_TYPE_SRE",
     "CATEGORY_TYPE_SLACK"
    ],
    "actionIsCheck": false,
    "actionNeedsCredential": true,
    "actionNextHopParameterMapping": {},
    "actionOutputType": "",
    "actionRequiredLinesInCode": [],
    "actionSupportsIteration": true,
    "actionSupportsPoll": true,
    "action_modified": false,
    "action_uuid": "6a87f83ab0ecfeecb9c98d084e2b1066c26fa64be5b4928d5573a5d60299802d",
    "checkEnabled": false,
    "continueOnError": false,
    "createTime": "1970-01-01T00:00:00Z",
    "credentialsJson": {},
    "currentVersion": "0.1.0",
    "description": "Post Slack Message",
    "execution_data": {
     "last_date_success_run_cell": "2023-06-07T14:42:45.225Z"
    },
    "id": 106,
    "index": 106,
    "inputData": [
     {
      "channel": {
       "constant": false,
       "value": "\"devrel_doug_test1\""
      },
      "message": {
       "constant": false,
       "value": "f\"There are {len(expiringList)} AWS resources set to expire in the next {days_to_expire} days! Use the AWS Resources About To Expire RunBook to manually update these dates to avoid any deletion of important resources\""
      }
     }
    ],
    "inputschema": [
     {
      "properties": {
       "channel": {
        "description": "Name of slack channel.",
        "title": "Channel",
        "type": "string"
       },
       "message": {
        "description": "Message for slack channel.",
        "title": "Message",
        "type": "string"
       }
      },
      "required": [
       "channel",
       "message"
      ],
      "title": "slack_post_message",
      "type": "object"
     }
    ],
    "isUnskript": false,
    "jupyter": {
     "source_hidden": true
    },
    "legotype": "LEGO_TYPE_SLACK",
    "name": "Post Slack Message",
    "nouns": [],
    "orderProperties": [
     "channel",
     "message"
    ],
    "output": {
     "type": ""
    },
    "printOutput": true,
    "tags": [
     "slack_post_message"
    ],
    "verbs": []
   },
   "outputs": [],
   "source": [
    "##\n",
    "# Copyright (c) 2021 unSkript, Inc\n",
    "# All rights reserved.\n",
    "##\n",
    "\n",
    "import pprint\n",
    "from pydantic import BaseModel, Field\n",
    "from beartype import beartype\n",
    "from slack_sdk import WebClient\n",
    "from slack_sdk.errors import SlackApiError\n",
    "\n",
    "pp = pprint.PrettyPrinter(indent=2)\n",
    "\n",
    "from beartype import beartype\n",
    "@beartype\n",
    "def slack_post_message_printer(output):\n",
    "    if output is not None:\n",
    "        pprint.pprint(output)\n",
    "    else:\n",
    "        return\n",
    "\n",
    "\n",
    "@beartype\n",
    "@beartype\n",
    "def slack_post_message(\n",
    "        handle: WebClient,\n",
    "        channel: str,\n",
    "        message: str) -> str:\n",
    "\n",
    "    try:\n",
    "        handle.chat_postMessage(\n",
    "            channel=channel,\n",
    "            text=message)\n",
    "        return f\"Successfully Sent Message on Channel: #{channel}\"\n",
    "    except SlackApiError as e:\n",
    "        pp.pprint(\n",
    "            f\"Failed sending message to slack channel {channel}, Error: {e.response['error']}\")\n",
    "        if e.response['error'] == 'channel_not_found':\n",
    "            raise Exception('Channel Not Found') from e\n",
    "        if e.response['error'] == 'duplicate_channel_not_found':\n",
    "            raise Exception('Channel associated with the message_id not valid') from e\n",
    "        if e.response['error'] == 'not_in_channel':\n",
    "            raise Exception('Cannot post message to channel user is not in') from e\n",
    "        if e.response['error'] == 'is_archived':\n",
    "            raise Exception('Channel has been archived') from e\n",
    "        if e.response['error'] == 'msg_too_long':\n",
    "            raise Exception('Message text is too long') from e\n",
    "        if e.response['error'] == 'no_text':\n",
    "            raise Exception('Message text was not provided') from e\n",
    "        if e.response['error'] == 'restricted_action':\n",
    "            raise Exception('Workspace preference prevents user from posting') from e\n",
    "        if e.response['error'] == 'restricted_action_read_only_channel':\n",
    "            raise Exception('Cannot Post message, read-only channel') from e\n",
    "        if e.response['error'] == 'team_access_not_granted':\n",
    "            raise Exception('The token used is not granted access to the workspace') from e\n",
    "        if e.response['error'] == 'not_authed':\n",
    "            raise Exception('No Authtnecition token provided') from e\n",
    "        if e.response['error'] == 'invalid_auth':\n",
    "            raise Exception('Some aspect of Authentication cannot be validated. Request denied') from e\n",
    "        if e.response['error'] == 'access_denied':\n",
    "            raise Exception('Access to a resource specified in the request denied') from e\n",
    "        if e.response['error'] == 'account_inactive':\n",
    "            raise Exception('Authentication token is for a deleted user') from e\n",
    "        if e.response['error'] == 'token_revoked':\n",
    "            raise Exception('Authentication token for a deleted user has been revoked') from e\n",
    "        if e.response['error'] == 'no_permission':\n",
    "            raise Exception('The workspace toekn used does not have necessary permission to send message') from e\n",
    "        if e.response['error'] == 'ratelimited':\n",
    "            raise Exception('The request has been ratelimited. Retry sending message later') from e\n",
    "        if e.response['error'] == 'service_unavailable':\n",
    "            raise Exception('The service is temporarily unavailable') from e\n",
    "        if e.response['error'] == 'fatal_error':\n",
    "            raise Exception('The server encountered catostrophic error while sending message') from e\n",
    "        if e.response['error'] == 'internal_error':\n",
    "            raise Exception('The server could not complete operation, likely due to transietn issue') from e\n",
    "        if e.response['error'] == 'request_timeout':\n",
    "            raise Exception('Sending message error via POST: either message was missing or truncated') from e\n",
    "        else:\n",
    "            raise Exception(f'Failed Sending Message to slack channel {channel} Error: {e.response[\"error\"]}') from e\n",
    "\n",
    "    except Exception as e:\n",
    "        print(\"\\n\\n\")\n",
    "        pp.pprint(\n",
    "            f\"Failed sending message to slack channel {channel}, Error: {str(e)}\")\n",
    "        return f\"Unable to send message on {channel}\"\n",
    "\n",
    "\n",
    "\n",
    "task = Task(Workflow())\n",
    "task.configure(inputParamsJson='''{\n",
    "    \"channel\": \"\\\\\"devrel_doug_test1\\\\\"\",\n",
    "    \"message\": \"f\\\\\"There are {len(expiringList)} AWS resources set to expire in the next {days_to_expire} days! Use the AWS Resources About To Expire RunBook to manually update these dates to avoid any deletion of important resources\\\\\"\"\n",
    "    }''')\n",
    "task.configure(printOutput=True)\n",
    "(err, hdl, args) = task.validate(vars=vars())\n",
    "if err is None:\n",
    "    task.execute(slack_post_message, lego_printer=slack_post_message_printer, hdl=hdl, args=args)"
   ]
  },
  {
   "cell_type": "markdown",
   "id": "a8280ac4-d504-44d2-b5ea-d97f7ca672c8",
   "metadata": {
    "jupyter": {
     "source_hidden": false
    },
    "name": "Conclusion",
    "orderProperties": [],
    "tags": [],
    "title": "Conclusion"
   },
   "source": [
    "In this Runbook, we demonstrated the use of unSkript's AWS legos to attach tags. This Runbook gets the list of all untagged resources of a given region, discovers tag keys of the given region and attaches mandatory tags to all the untagged resource. To view the full platform capabilities of unSkript please visit https://unskript.com"
   ]
  }
 ],
 "metadata": {
  "execution_data": {
   "runbook_name": "AWS Add Tags Across Selected AWS Resources",
   "parameters": [
    "expiration_tag",
    "days_to_expire",
    "Region"
   ]
  },
  "kernelspec": {
   "display_name": "unSkript (Build: 1185)",
   "language": "python",
   "name": "python3"
  },
  "language_info": {
   "codemirror_mode": {
    "name": "ipython",
    "version": 3
   },
   "file_extension": ".py",
   "mimetype": "text/x-python",
   "name": "python",
   "nbconvert_exporter": "python",
   "pygments_lexer": "ipython3",
   "version": "3.9.6"
  },
  "outputParameterSchema": null,
  "parameterSchema": {
   "definitions": null,
   "properties": {
    "Region": {
     "default": "us-west-2",
     "description": "Resources Region",
     "title": "Region",
     "type": "string"
    },
    "days_to_expire": {
     "default": 15,
     "description": "Find resources set to expire in the next days_to_expire days.",
     "title": "days_to_expire",
     "type": "number"
    },
    "expiration_tag": {
     "default": "expiration",
     "description": "The name of the tag that is used to identify the Resource expiration",
     "title": "expiration_tag",
     "type": "string"
    }
   },
   "required": [],
   "title": "Schema",
   "type": "object"
  }
 },
 "nbformat": 4,
 "nbformat_minor": 5
}