{
    "cells": [
        {
            "cell_type": "markdown",
            "id": "0ecd43d6-5d15-4210-95d5-6b7052748b74",
            "metadata": {
                "jupyter": {
                    "source_hidden": false
                },
                "name": "Launch AWS EC2 from AMI",
                "orderProperties": [],
                "tags": [],
                "title": "Launch AWS EC2 from AMI"
            },
            "source": [
                "<img src=\"https://unskript.com/assets/favicon.png\" alt=\"unSkript.com\" width=\"100\" height=\"100\"/> \n",
                "<h1> unSkript Runbooks </h1>\n",
                "<div class=\"alert alert-block alert-success\">\n",
                "    <b> This runbook demonstrates How to Launch AWS EC2 from AMI using unSkript legos.</b>\n",
                "</div>\n",
                "\n",
                "<br>\n",
                "\n",
                "<center><h2>Launch AWS EC2 from AMI</h2></center>\n",
                "\n",
                "# Steps Overview\n",
                "    1) Launch AWS EC2 using AMI"
            ]
        },
        {
            "cell_type": "markdown",
            "id": "f2e0dbee-429f-4ddd-8808-bc79df9e7686",
            "metadata": {
                "jupyter": {
                    "source_hidden": false
                },
                "name": "Launch AWS EC2 instance from an AMI",
                "orderProperties": [],
                "tags": [],
                "title": "Launch AWS EC2 instance from an AMI"
            },
            "source": [
                "Here we will use unSkript Launch AWS EC2 instance from an AMI Lego. This lego takes ami_id: str, region: str as input. This inputs is used to launch EC2 instance from AMI."
            ]
        },
        {
            "cell_type": "code",
            "execution_count": 4,
            "id": "f01aa850-5d24-4be0-b983-8c4a428a7e16",
            "metadata": {
                "accessType": "ACCESS_TYPE_UNSPECIFIED",
                "actionBashCommand": false,
                "actionNeedsCredential": true,
                "actionRequiredLinesInCode": [],
                "actionSupportsIteration": true,
                "actionSupportsPoll": true,
                "action_uuid": "dc0cd6cd07b4a3c94ea019493659c3f455a7ae952ea7e5eefcb7c8d402271ef5",
                "continueOnError": false,
                "createTime": "1970-01-01T00:00:00Z",
                "credentialsJson": {},
                "currentVersion": "0.1.0",
                "description": "Use this instance to Launch an AWS EC2 Instnace from an AMI",
                "execution_data": {
                    "last_date_success_run_cell": "2022-09-23T11:05:57.088Z"
                },
                "id": 184,
                "index": 184,
                "inputData": [
                    {
                        "ami_id": {
                            "constant": false,
                            "value": "AMI_Id"
                        },
                        "region": {
                            "constant": false,
                            "value": "Region"
                        }
                    }
                ],
                "inputschema": [
                    {
                        "properties": {
                            "ami_id": {
                                "description": "AMI Id.",
                                "title": "AMI Id",
                                "type": "string"
                            },
                            "region": {
                                "description": "AWS Region.",
                                "title": "Region",
                                "type": "string"
                            }
                        },
                        "required": [
                            "ami_id",
                            "region"
                        ],
                        "title": "aws_launch_instance_from_ami",
                        "type": "object"
                    }
                ],
                "jupyter": {
                    "source_hidden": true
                },
                "legotype": "LEGO_TYPE_AWS",
                "name": "Launch AWS EC2 Instance From an AMI",
                "nouns": [
                    "aws",
                    "ec2",
                    "instance",
                    "ami"
                ],
                "orderProperties": [
                    "ami_id",
                    "region"
                ],
                "output": {
                    "type": ""
                },
                "tags": [
                    "aws_launch_instance_from_ami"
                ],
                "title": "Launch AWS EC2 Instance From an AMI",
                "verbs": [
                    "launch"
                ]
            },
            "outputs": [],
            "source": [
                "##\n",
                "##  Copyright (c) 2021 unSkript, Inc\n",
                "##  All rights reserved.\n",
                "##\n",
                "from pydantic import BaseModel, Field\n",
                "from typing import List\n",
                "import pprint\n",
                "\n",
                "\n",
                "from beartype import beartype\n",
                "@beartype\n",
                "def aws_launch_instance_from_ami_printer(output):\n",
                "    if output is None:\n",
                "        return\n",
                "    pprint.pprint(output)\n",
                "\n",
                "\n",
                "@beartype\n",
                "def aws_launch_instance_from_ami(handle, ami_id: str, region: str) -> List:\n",
                "    \"\"\"aws_launch_instance_from_ami Launch instances from a particular image.\n",
                "\n",
                "        :type nbParamsObj: object\n",
                "        :param nbParamsObj: Object containing global params for the notebook.\n",
                "\n",
                "        :type credentialsDict: dict\n",
                "        :param credentialsDict: Dictionary of credentials info.\n",
                "\n",
                "        :type inputParamsJson: string\n",
                "        :param inputParamsJson: Json string of the input params.\n",
                "\n",
                "        :rtype: Dict with launched instances info.\n",
                "    \"\"\"\n",
                "    ec2Client = handle.client('ec2', region_name=region)\n",
                "\n",
                "    res = ec2Client.run_instances(ImageId=ami_id, MinCount=1, MaxCount=1)\n",
                "\n",
                "    return res['Instances']\n",
                "\n",
                "\n",
                "task = Task(Workflow())\n",
                "task.configure(credentialsJson='''{\n",
                "}''')\n",
                "task.configure(inputParamsJson='''{\n",
                "    \"ami_id\": \"AMI_Id\",\n",
                "    \"region\": \"Region\"\n",
                "    }''')\n",
                "(err, hdl, args) = task.validate(vars=vars())\n",
                "if err is None:\n",
                "    task.execute(aws_launch_instance_from_ami, lego_printer=aws_launch_instance_from_ami_printer, hdl=hdl, args=args)"
            ]
        },
        {
            "cell_type": "markdown",
            "id": "1e18a18c-f822-452d-9a94-719f23734fa4",
            "metadata": {
                "jupyter": {
                    "source_hidden": false
                },
                "name": "Conclusion",
                "orderProperties": [],
                "tags": [],
                "title": "Conclusion"
            },
            "source": [
                "In this Runbook, we demonstrated the use of unSkript's AWS legos to perform AWS actions and this runbook launch EC2 inastance from AMI. To view the full platform capabilities of unSkript please visit https://unskript.com"
            ]
        }
    ],
    "metadata": {
        "execution_data": {
            "environment_id": "1499f27c-6406-4fbd-bd1b-c6f92800018f",
            "environment_name": "Staging",
            "execution_id": "",
            "inputs_for_searched_lego": "",
            "notebook_id": "3b9b529d-878e-4ef8-808e-9d213a10198a.ipynb",
            "parameters": [
                "AMI_Id",
                "Region"
            ],
            "runbook_name": "Run EC2 from AMI",
            "search_string": "",
            "show_tool_tip": false,
            "tenant_id": "982dba5f-d9df-48ae-a5bf-ec1fc94d4882",
            "tenant_url": "https://tenant-staging.alpha.unskript.io",
            "user_email_id": "harshal.bangre@unskript.com",
            "workflow_id": "43087796-b221-445a-ae67-2504e09b3fd9"
        },
        "kernelspec": {
            "display_name": "Python 3.10.6 64-bit",
            "language": "python",
            "name": "python3"
        },
        "language_info": {
            "file_extension": ".py",
            "mimetype": "text/x-python",
            "name": "python",
            "pygments_lexer": "ipython3",
            "version": "3.10.6"
        },
        "parameterSchema": {
            "properties": {
                "AMI_Id": {
                    "default": "ami-0ee860f3dab8ad294",
                    "description": "AMI ID",
                    "title": "AMI_Id",
                    "type": "string"
                },
                "Region": {
                    "default": "us-west-2",
                    "description": "Region",
                    "title": "Region",
                    "type": "string"
                }
            },
            "required": [],
            "title": "Schema",
            "type": "object"
        },
        "parameterValues": {
            "AMI_Id": null,
            "Region": null
        },
        "vscode": {
            "interpreter": {
                "hash": "e8899eb02dfbc033aab5733bdae1bd213fa031d40331094008e8673d99ebab63"
            }
        }
    },
    "nbformat": 4,
    "nbformat_minor": 5
}
