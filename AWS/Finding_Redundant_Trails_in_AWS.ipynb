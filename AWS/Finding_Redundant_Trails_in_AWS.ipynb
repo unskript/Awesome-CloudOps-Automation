{
    "cells": [
        {
            "cell_type": "markdown",
            "id": "1a1d80a5-6559-47b4-954f-8c301c581d8f",
            "metadata": {
                "jupyter": {
                    "source_hidden": false
                },
                "name": "Finding Redundant Trails in AWS",
                "orderProperties": [],
                "tags": [],
                "title": "Finding Redundant Trails in AWS"
            },
            "source": [
                "<center>\n",
                "<img src=\"https://unskript.com/assets/favicon.png\" alt=\"unSkript.com\" width=\"100\" height=\"100\"/> \n",
                "<h1> unSkript Runbooks </h1>\n",
                "<div class=\"alert alert-block alert-success\">\n",
                "    <b> This runbook demonstrates how to find redundant trails in AWS using unSkript actions.</b>\n",
                "</div>\n",
                "\n",
                "<br>\n",
                "</center>\n",
                "<center><h2>Finding Redundant Trails in AWS</h2></center>\n",
                "\n",
                "# Steps Overview\n",
                "1)[Finding Redundant Trails in AWS](#1)"
            ]
        },
        {
            "cell_type": "markdown",
            "id": "4465838e-f101-4ff9-ae4a-875f3816bbfb",
            "metadata": {
                "jupyter": {
                    "source_hidden": false
                },
                "name": "Step-1",
                "orderProperties": [],
                "tags": [],
                "title": "Step-1"
            },
            "source": [
                "### <a id=\"1\">Finding Redundant Trails in AWS</a>\n",
                "Here we will use unSkript Run Command via AWS CLI Lego. The AWS CloudTrail service allows developers to enable policies managing compliance, governance, and auditing of their AWS account. In addition, AWS CloudTrail offers logging, monitoring, and storage of any activity around actions related to your AWS structures. The service activates from the moment you set up your AWS account, and while it provides real-time activity visibility, it also means higher AWS costs. Finding Redundant Trails in AWS\n",
                "\n",
                ">Input parameters: `aws_command`\n",
                "\n",
                ">Ouput variable: `redundant_trails`"
            ]
        },
        {
            "cell_type": "code",
            "execution_count": 3,
            "id": "326180b8-ea0e-4acb-bf21-59b149a12316",
            "metadata": {
                "accessType": "ACCESS_TYPE_UNSPECIFIED",
                "actionBashCommand": false,
                "actionNeedsCredential": true,
                "actionRequiredLinesInCode": [],
                "actionSupportsIteration": true,
                "actionSupportsPoll": true,
                "action_uuid": "1db371aff42291641eb6ba83d7acc3fe28e2468d83be1552e8258dc878c0f70d",
                "continueOnError": false,
                "createTime": "1970-01-01T00:00:00Z",
                "credentialsJson": {},
                "currentVersion": "0.1.0",
                "description": " Execute command using AWS CLI",
                "execution_data": {
                    "last_date_success_run_cell": "2022-11-28T10:09:24.410Z"
                },
                "id": 171,
                "index": 171,
                "inputData": [
                    {
                        "aws_command": {
                            "constant": false,
                            "value": "\"aws cloudtrail describe-trails\""
                        }
                    }
                ],
                "inputschema": [
                    {
                        "properties": {
                            "aws_command": {
                                "description": "AWS Command eg \"aws ec2 describe-instances\"",
                                "title": "AWS Command",
                                "type": "string"
                            }
                        },
                        "required": [
                            "aws_command"
                        ],
                        "title": "aws_execute_cli_command",
                        "type": "object"
                    }
                ],
                "jupyter": {
                    "source_hidden": true
                },
                "legotype": "LEGO_TYPE_AWS",
                "name": "Finding Redundant Trails in AWS",
                "nouns": [
                    "command",
                    "aws"
                ],
                "orderProperties": [
                    "aws_command"
                ],
                "output": {
                    "type": ""
                },
                "outputParams": {
                    "output_name": "redundant_trails",
                    "output_name_enabled": true
                },
                "tags": [
                    "aws_execute_cli_command"
                ],
                "title": "Finding Redundant Trails in AWS",
                "verbs": [
                    "run"
                ]
            },
            "outputs": [],
            "source": [
                "#\n",
                "# Copyright (c) 2021 unSkript.com\n",
                "# All rights reserved.\n",
                "#\n",
                "\n",
                "from pydantic import BaseModel, Field\n",
                "import pprint\n",
                "from beartype import beartype\n",
                "\n",
                "\n",
                "@beartype\n",
                "def aws_execute_cli_command_printer(output):\n",
                "    if output is None:\n",
                "        return\n",
                "    print(output)\n",
                "\n",
                "\n",
                "@beartype\n",
                "def aws_execute_cli_command(handle, aws_command: str) -> str:\n",
                "\n",
                "    result = handle.aws_cli_command(aws_command)\n",
                "    if result is None or result.returncode != 0:\n",
                "        print(\n",
                "            f\"Error while executing command ({aws_command}): {result}\")\n",
                "        return str()\n",
                "\n",
                "    return result.stdout\n",
                "\n",
                "\n",
                "task = Task(Workflow())\n",
                "task.configure(inputParamsJson='''{\n",
                "    \"aws_command\": \"\\\\\"aws cloudtrail describe-trails\\\\\"\"\n",
                "    }''')\n",
                "task.configure(outputName=\"redundant_trails\")\n",
                "(err, hdl, args) = task.validate(vars=vars())\n",
                "if err is None:\n",
                "    task.execute(aws_execute_cli_command, lego_printer=aws_execute_cli_command_printer, hdl=hdl, args=args)"
            ]
        },
        {
            "cell_type": "markdown",
            "id": "c4e37a77-7c92-43ab-80de-bb98d15d0a3a",
            "metadata": {
                "jupyter": {
                    "source_hidden": false
                },
                "name": "Conclusion",
                "orderProperties": [],
                "tags": [],
                "title": "Conclusion"
            },
            "source": [
                "### Conclusion\n",
                "In this Runbook, demonstrates the use of unSkript's AWS actions to find redundant trails in AWS by passing the \"aws cloudtrail describe-trails\" command to get a listing of all tracked Amazon CloudTrail trails so that the user can take appropriate action. To view the full platform capabilities of unSkript please visit https://us.app.unskript.io"
            ]
        }
    ],
    "metadata": {
        "execution_data": {
            "environment_id": "1499f27c-6406-4fbd-bd1b-c6f92800018f",
            "environment_name": "Staging",
            "environment_type": "ENVIRONMENT_TYPE_AWS_EC2",
            "execution_id": "",
            "inputs_for_searched_lego": "",
            "notebook_id": "2b3ddac7-70de-486a-8f94-72a12b8c6774.ipynb",
            "parameters": null,
            "runbook_name": "Lowering AWS CloudTrail Costs by Removing Redundant Trails",
            "search_string": "",
            "show_tool_tip": false,
            "tenant_id": "982dba5f-d9df-48ae-a5bf-ec1fc94d4882",
            "tenant_url": "https://tenant-staging.alpha.unskript.io",
            "user_email_id": "harshal.bangre@unskript.com",
            "workflow_id": "e94cbc59-0347-451a-87aa-61014dabb77b"
        },
        "kernelspec": {
            "display_name": "Python 3.10.6 64-bit",
            "language": "python",
            "name": "python3"
        },
        "language_info": {
            "file_extension": ".py",
            "mimetype": "text/x-python",
            "name": "python",
            "pygments_lexer": "ipython3",
            "version": "3.10.6"
        },
        "parameterSchema": {
            "properties": {},
            "required": [],
            "title": "Schema",
            "type": "object"
        },
        "parameterValues": null,
        "vscode": {
            "interpreter": {
                "hash": "e8899eb02dfbc033aab5733bdae1bd213fa031d40331094008e8673d99ebab63"
            }
        }
    },
    "nbformat": 4,
    "nbformat_minor": 5
}
