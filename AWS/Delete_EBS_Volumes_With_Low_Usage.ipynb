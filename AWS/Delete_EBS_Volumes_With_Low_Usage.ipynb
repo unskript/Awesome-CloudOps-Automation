{
 "cells": [
  {
   "cell_type": "markdown",
   "id": "5424264e-6195-4cf9-906b-24b02d5a83f3",
   "metadata": {
    "jupyter": {
     "source_hidden": false
    },
    "name": "Steps Overview",
    "orderProperties": [],
    "tags": [],
    "title": "Steps Overview"
   },
   "source": [
    "<center><img src=\"https://storage.googleapis.com/unskript-website/assets/favicon.png\" alt=\"unSkript.com\" width=\"100\" height=\"100\">\n",
    "<h1 id=\"unSkript-Runbooks\">unSkript Runbooks</h1>\n",
    "<div class=\"alert alert-block alert-success\">\n",
    "<h3 id=\"Objective\">Objective</h3>\n",
    "<br><strong style=\"color: #000000;\"><em>Find and Delete EBS (Elastic Block Storage) Volumes with low usage</em></strong></div>\n",
    "</center>\n",
    "<p>&nbsp;</p>\n",
    "<center>\n",
    "<h2 id=\"Delete-EBS-AWS-Volumes-Volumes-Low-Usage\"><u>Delete EBS Volumes With Low Usage</u></h2>\n",
    "</center>\n",
    "<h1 id=\"Steps-Overview\">Steps Overview</h1>\n",
    "<p>1)<a href=\"#1\" target=\"_self\" rel=\"noopener\"> Find EBS volumes with low usage</a><br>2)<a href=\"#2\" target=\"_self\" rel=\"noopener\"> Delete EBS volumes</a></p>"
   ]
  },
  {
   "cell_type": "code",
   "execution_count": null,
   "id": "e1f146c9-5180-4459-9c82-cf0e1da02785",
   "metadata": {
    "customAction": true,
    "execution_data": {
     "last_date_success_run_cell": "2023-04-20T17:25:02.809Z"
    },
    "jupyter": {
     "source_hidden": true
    },
    "name": "Input verification",
    "orderProperties": [],
    "tags": [],
    "title": "Input verification",
    "credentialsJson": {}
   },
   "outputs": [],
   "source": [
    "if volume_ids and not region:\n",
    "    raise SystemExit(\"Provide a region for the EBS Volume IDs!\")"
   ],
   "output": {}
  },
  {
   "cell_type": "markdown",
   "id": "6f0aee52-e61c-42e4-8f08-00d831f58bc2",
   "metadata": {
    "jupyter": {
     "source_hidden": false
    },
    "name": "Step 1A",
    "orderProperties": [],
    "tags": [],
    "title": "Step 1A"
   },
   "source": [
    "<h3 id=\"List-all-AWS-Regions\">List all AWS Regions</h3>\n",
    "<p>This action fetches all AWS Regions to execute Step 1\ud83d\udc47. This action will only execute if no <code>region</code> is provided.</p>\n",
    "<blockquote>\n",
    "<p>This action takes the following parameters: <code>None</code></p>\n",
    "</blockquote>\n",
    "<blockquote>\n",
    "<p>This action captures the following ouput: <code>region</code></p>\n",
    "</blockquote>"
   ]
  },
  {
   "cell_type": "code",
   "execution_count": null,
   "id": "c6970bab-8760-488a-8f43-1f9e1cbd45dc",
   "metadata": {
    "accessType": "ACCESS_TYPE_UNSPECIFIED",
    "actionBashCommand": false,
    "actionCategories": [
     "CATEGORY_TYPE_CLOUDOPS",
     "CATEGORY_TYPE_DEVOPS",
     "CATEGORY_TYPE_SRE",
     "CATEGORY_TYPE_AWS"
    ],
    "actionIsCheck": false,
    "actionNeedsCredential": true,
    "actionNextHop": [],
    "actionNextHopParameterMapping": {},
    "actionOutputType": "",
    "actionRequiredLinesInCode": [],
    "actionSupportsIteration": true,
    "actionSupportsPoll": true,
    "action_modified": false,
    "action_uuid": "708ea4af5f8fe7096a15b3a52c4a657606bab9e177386fad7a847341ed607d64",
    "checkEnabled": false,
    "condition_enabled": true,
    "createTime": "1970-01-01T00:00:00Z",
    "currentVersion": "0.1.0",
    "description": "List all available AWS Regions",
    "execution_data": {
     "last_date_success_run_cell": "2023-04-20T17:25:15.826Z"
    },
    "id": 289,
    "index": 289,
    "inputschema": [
     {
      "properties": {},
      "title": "aws_list_all_regions",
      "type": "object"
     }
    ],
    "isUnskript": false,
    "jupyter": {
     "source_hidden": true
    },
    "legotype": "LEGO_TYPE_AWS",
    "name": "AWS List All Regions",
    "nouns": [
     "regions",
     "aws"
    ],
    "orderProperties": [],
    "output": {
     "type": ""
    },
    "outputParams": {
     "output_name": "region",
     "output_name_enabled": true,
     "output_runbook_enabled": false,
     "output_runbook_name": ""
    },
    "printOutput": true,
    "startcondition": "not region",
    "tags": [
     "aws_list_all_regions"
    ],
    "verbs": [
     "list"
    ],
    "credentialsJson": {}
   },
   "outputs": [],
   "source": [
    "#\n",
    "# Copyright (c) 2021 unSkript.com\n",
    "# All rights reserved.\n",
    "#\n",
    "\n",
    "from pydantic import BaseModel, Field\n",
    "from typing import Dict, List\n",
    "import pprint\n",
    "\n",
    "from beartype import beartype\n",
    "@beartype\n",
    "def aws_list_all_regions_printer(output):\n",
    "    if output is None:\n",
    "        return\n",
    "    pprint.pprint(output)\n",
    "\n",
    "\n",
    "@beartype\n",
    "def aws_list_all_regions(handle) -> List:\n",
    "    \"\"\"aws_list_all_regions lists all the AWS regions\n",
    "\n",
    "        :type handle: object\n",
    "        :param handle: Object returned from Task Validate\n",
    "\n",
    "        :rtype: Result List of result\n",
    "    \"\"\"\n",
    "\n",
    "    result = handle.aws_cli_command(\"aws ec2 --region us-west-2 describe-regions --all-regions --query 'Regions[].{Name:RegionName}' --output text\")\n",
    "    if result is None or result.returncode != 0:\n",
    "        print(\"Error while executing command : {}\".format(result))\n",
    "        return str()\n",
    "    result_op = list(result.stdout.split(\"\\n\"))\n",
    "    list_region = [x for x in result_op if x != '']\n",
    "    return list_region\n",
    "\n",
    "\n",
    "task = Task(Workflow())\n",
    "task.configure(conditionsJson='''{\n",
    "    \"condition_enabled\": true,\n",
    "    \"condition_cfg\": \"not region\",\n",
    "    \"condition_result\": true\n",
    "    }''')\n",
    "task.configure(outputName=\"region\")\n",
    "\n",
    "task.configure(printOutput=True)\n",
    "(err, hdl, args) = task.validate(vars=vars())\n",
    "if err is None:\n",
    "    task.execute(aws_list_all_regions, lego_printer=aws_list_all_regions_printer, hdl=hdl, args=args)"
   ],
   "output": {}
  },
  {
   "cell_type": "markdown",
   "id": "908f4dcb-8483-44fc-8f81-ce2502e03093",
   "metadata": {
    "jupyter": {
     "source_hidden": false
    },
    "name": "Step 1",
    "orderProperties": [],
    "tags": [],
    "title": "Step 1"
   },
   "source": [
    "<h3 id=\"Find-EBS-Volumes-with-low-usage\"><a id=\"1\" target=\"_self\" rel=\"nofollow\"></a>Find EBS volumes with low usage</h3>\n",
    "<p>Using unSkript's Find EBS volumes with low usage action, we will find volumes with a low usage given a threshold number of days using the <span style=\"color: rgb(53, 152, 219);\">VolumeUsage&nbsp;<span style=\"color: rgb(0, 0, 0);\">metric in Cloudwatch metric statistics.</span></span></p>\n",
    "<blockquote>\n",
    "<p>This action takes the following parameters: <code>region, threhold_days</code></p>\n",
    "</blockquote>\n",
    "<blockquote>\n",
    "<p>This action captures the following output: <code>low_usage_volumes</code></p>\n",
    "</blockquote>"
   ]
  },
  {
   "cell_type": "code",
   "execution_count": null,
   "id": "72b6bba7-5d79-42d6-8abe-a4b620620aa3",
   "metadata": {
    "actionBashCommand": false,
    "actionCategories": [
     "CATEGORY_TYPE_IAM",
     "CATEGORY_TYPE_SECOPS"
    ],
    "actionDescription": "This action list low use volumes from AWS which used <10% capacity from the given threshold days.",
    "actionEntryFunction": "aws_get_ebs_volume_for_low_usage",
    "actionIsCheck": true,
    "actionIsRemediation": false,
    "actionNeedsCredential": true,
    "actionNextHop": [],
    "actionNextHopParameterMapping": {},
    "actionNouns": null,
    "actionOutputType": "ACTION_OUTPUT_TYPE_OBJECT",
    "actionSupportsIteration": true,
    "actionSupportsPoll": true,
    "actionTitle": "AWS Get EBS Volumes for Low Usage",
    "actionType": "LEGO_TYPE_AWS",
    "actionVerbs": null,
    "actionVersion": "1.0.0",
    "action_modified": false,
    "action_uuid": "c4fcaf0f517e1f7522cfa0f551857a760298211e4cb65a485df40e7770b8fbcd",
    "continueOnError": true,
    "description": "This action list low use volumes from AWS which used <10% capacity from the given threshold days.",
    "execution_data": {
     "last_date_success_run_cell": "2023-04-20T17:26:18.889Z"
    },
    "id": 1,
    "index": 1,
    "inputData": [
     {
      "region": {
       "constant": false,
       "value": "iter_item"
      },
      "threshold_days": {
       "constant": false,
       "value": "int(threshold_days)"
      }
     }
    ],
    "inputschema": [
     {
      "properties": {
       "region": {
        "default": "",
        "description": "AWS Region.",
        "title": "Region",
        "type": "string"
       },
       "threshold_days": {
        "default": 10,
        "description": "(in days)\u00a0The threshold to check the EBS volume usage less than the threshold.",
        "title": "Threshold (In days)",
        "type": "integer"
       }
      },
      "required": [],
      "title": "aws_get_ebs_volume_for_low_usage",
      "type": "object"
     }
    ],
    "iterData": [
     {
      "iter_enabled": true,
      "iter_item": "region",
      "iter_list": {
       "constant": false,
       "objectItems": false,
       "value": "region"
      }
     }
    ],
    "jupyter": {
     "source_hidden": true
    },
    "language": "python",
    "legotype": "LEGO_TYPE_AWS",
    "name": "AWS Get EBS Volumes for Low Usage",
    "orderProperties": [
     "region",
     "threshold_days"
    ],
    "outputParams": {
     "output_name": "low_usage_volumes",
     "output_name_enabled": true,
     "output_runbook_enabled": false,
     "output_runbook_name": ""
    },
    "printOutput": true,
    "tags": [
     "aws_get_ebs_volume_for_low_usage"
    ],
    "uuid": "c4fcaf0f517e1f7522cfa0f551857a760298211e4cb65a485df40e7770b8fbcd",
    "version": "1.0.0",
    "credentialsJson": {}
   },
   "outputs": [],
   "source": [
    "##\n",
    "##  Copyright (c) 2023 unSkript, Inc\n",
    "##  All rights reserved.\n",
    "##\n",
    "from pydantic import BaseModel, Field\n",
    "from typing import Optional, Tuple\n",
    "from unskript.connectors.aws import aws_get_paginator\n",
    "from datetime import datetime, timedelta\n",
    "from unskript.legos.aws.aws_list_all_regions.aws_list_all_regions import aws_list_all_regions\n",
    "import pprint\n",
    "\n",
    "\n",
    "from beartype import beartype\n",
    "@beartype\n",
    "def aws_get_ebs_volume_for_low_usage_printer(output):\n",
    "    if output is None:\n",
    "        return\n",
    "\n",
    "    pprint.pprint(output)\n",
    "\n",
    "\n",
    "@beartype\n",
    "def aws_get_ebs_volume_for_low_usage(handle, region: str = \"\", threshold_days: int = 10) -> Tuple:\n",
    "    \"\"\"aws_get_ebs_volume_for_low_usage Returns an array of ebs volumes.\n",
    "\n",
    "        :type region: string\n",
    "        :param region: AWS Region.\n",
    "\n",
    "        :type threshold_days: int\n",
    "        :param threshold_days: (in days)\u00a0The threshold to check the EBS volume usage less than the threshold.\n",
    "\n",
    "        :rtype: Tuple with status result and list of EBS Volume.\n",
    "    \"\"\"\n",
    "    result = []\n",
    "    all_regions = [region]\n",
    "    if not region:\n",
    "        all_regions = aws_list_all_regions(handle)\n",
    "\n",
    "    for reg in all_regions:\n",
    "        try:\n",
    "            # Filtering the volume by region\n",
    "            ec2Client = handle.client('ec2', region_name=reg)\n",
    "            response = aws_get_paginator(ec2Client, \"describe_volumes\", \"Volumes\")\n",
    "            now = datetime.utcnow()\n",
    "            days_ago = now - timedelta(days=threshold_days)\n",
    "            # collecting the volumes which has zero attachments\n",
    "            for volume in response:\n",
    "                ebs_volume = {}\n",
    "                volume_id = volume[\"VolumeId\"]\n",
    "                cloudwatch = handle.client('cloudwatch', region_name=reg)\n",
    "                cloudwatch_response = cloudwatch.get_metric_statistics(\n",
    "                                    Namespace='AWS/EBS',\n",
    "                                    MetricName='VolumeUsage',\n",
    "                                    Dimensions=[\n",
    "                                        {\n",
    "                                            'Name': 'VolumeId',\n",
    "                                            'Value': volume_id\n",
    "                                        }\n",
    "                                    ],\n",
    "                                    StartTime=days_ago,\n",
    "                                    EndTime=now,\n",
    "                                    Period=3600,\n",
    "                                    Statistics=['Average']\n",
    "                                )\n",
    "                for v in cloudwatch_response['Datapoints']:\n",
    "                    if v['Average'] < 10:\n",
    "                        volume_ids = v['Dimensions'][0]['Value']\n",
    "                        ebs_volume[\"volume_id\"] = volume_ids\n",
    "                        ebs_volume[\"region\"] = reg\n",
    "                        result.append(ebs_volume)\n",
    "        except Exception as e:\n",
    "            pass\n",
    "\n",
    "    if len(result) != 0:\n",
    "        return (False, result)\n",
    "    else:\n",
    "        return (True, None)\n",
    "\n",
    "\n",
    "task = Task(Workflow())\n",
    "task.configure(continueOnError=True)\n",
    "task.configure(inputParamsJson='''{\n",
    "    \"region\": \"iter_item\",\n",
    "    \"threshold_days\": \"int(threshold_days)\"\n",
    "    }''')\n",
    "task.configure(iterJson='''{\n",
    "    \"iter_enabled\": true,\n",
    "    \"iter_list_is_const\": false,\n",
    "    \"iter_list\": \"region\",\n",
    "    \"iter_parameter\": \"region\"\n",
    "    }''')\n",
    "task.configure(outputName=\"low_usage_volumes\")\n",
    "task.configure(printOutput=True)\n",
    "(err, hdl, args) = task.validate(vars=vars())\n",
    "if err is None:\n",
    "    task.execute(aws_get_ebs_volume_for_low_usage, lego_printer=aws_get_ebs_volume_for_low_usage_printer, hdl=hdl, args=args)"
   ],
   "output": {}
  },
  {
   "cell_type": "markdown",
   "id": "199591ef-cb3a-49b7-b515-3c6998050320",
   "metadata": {
    "jupyter": {
     "source_hidden": false
    },
    "name": "Step 2A",
    "orderProperties": [],
    "tags": [],
    "title": "Step 2A"
   },
   "source": [
    "<h3 id=\"Create-List-of-Low-Usage-Volumes&para;\">Create List of Low Usage Volumes</h3>\n",
    "<p>This action filters regions that have no low usage volumes and creates a list of those that have them.</p>\n",
    "<blockquote>\n",
    "<p>This action takes the following parameters: <code>None</code></p>\n",
    "</blockquote>\n",
    "<blockquote>\n",
    "<p>This action captures the following output: <code>all_low_usage_volumes</code></p>\n",
    "</blockquote>"
   ]
  },
  {
   "cell_type": "code",
   "execution_count": null,
   "id": "6a10e980-9f17-4436-9166-90ea130aa316",
   "metadata": {
    "customAction": true,
    "execution_data": {
     "last_date_success_run_cell": "2023-04-20T17:26:22.391Z"
    },
    "jupyter": {
     "source_hidden": true
    },
    "name": "Create List of Low Usage Volumes",
    "orderProperties": [],
    "tags": [],
    "title": "Create List of Low Usage Volumes",
    "credentialsJson": {}
   },
   "outputs": [],
   "source": [
    "all_low_usage_volumes = []\n",
    "dummy = []\n",
    "try:\n",
    "    for reg,res in low_usage_volumes.items():\n",
    "        if res[0]==False:\n",
    "            if len(res[1])!=0:\n",
    "                dummy = res[1]\n",
    "                for x in dummy:\n",
    "                    all_low_usage_volumes.append(x)\n",
    "except Exception:\n",
    "    for vol_id in volume_ids:\n",
    "        data_dict = {}\n",
    "        data_dict[\"region\"] = region[0]\n",
    "        data_dict[\"volume_id\"] = vol_id\n",
    "        all_low_usage_volumes.append(data_dict)\n",
    "print(all_low_usage_volumes)\n",
    "task.configure(outputName=\"all_low_usage_volumes\")"
   ],
   "output": {}
  },
  {
   "cell_type": "markdown",
   "id": "978d3b61-2fd9-461d-89bd-534d2dcf3b63",
   "metadata": {
    "jupyter": {
     "source_hidden": false
    },
    "name": "Step 2",
    "orderProperties": [],
    "tags": [],
    "title": "Step 2"
   },
   "source": [
    "<h3 id=\"Delete-Low-Usage-EBS-Volumes\"><a id=\"2\" target=\"_self\" rel=\"nofollow\"></a>Delete Low Usage EBS Volumes</h3>\n",
    "<p>This action deleted Low Usage Volumes found in Step 1.&nbsp;</p>\n",
    "<blockquote>\n",
    "<p>This action takes the following parameters:&nbsp;<code>volume_id, region</code></p>\n",
    "</blockquote>"
   ]
  },
  {
   "cell_type": "code",
   "execution_count": null,
   "id": "d6058839-742f-4456-872a-e8e7b42dd51b",
   "metadata": {
    "actionBashCommand": false,
    "actionCategories": [
     "CATEGORY_TYPE_DEVOPS",
     "CATEGORY_TYPE_SRE",
     "CATEGORY_TYPE_AWS",
     "CATEGORY_TYPE_AWS_EC2"
    ],
    "actionDescription": "Delete AWS Volume by Volume ID",
    "actionEntryFunction": "aws_delete_volume_by_id",
    "actionIsCheck": false,
    "actionIsRemediation": true,
    "actionNeedsCredential": true,
    "actionNextHop": null,
    "actionNextHopParameterMapping": null,
    "actionNouns": null,
    "actionOutputType": "ACTION_OUTPUT_TYPE_LIST",
    "actionSupportsIteration": true,
    "actionSupportsPoll": true,
    "actionTitle": "Delete AWS EBS Volume by Volume ID",
    "actionType": "LEGO_TYPE_AWS",
    "actionVerbs": null,
    "actionVersion": "1.0.0",
    "action_modified": false,
    "action_uuid": "e8cccc03e1af323982c0ab9f06c01127c0481ca81943eb7e82e46245140b1059",
    "condition_enabled": true,
    "continueOnError": true,
    "description": "Delete AWS Volume by Volume ID",
    "id": 2,
    "index": 2,
    "inputData": [
     {
      "region": {
       "constant": false,
       "value": "\"iter.get(\\\\\"region\\\\\")\""
      },
      "volume_id": {
       "constant": false,
       "value": "\"iter.get(\\\\\"volume_id\\\\\")\""
      }
     }
    ],
    "inputschema": [
     {
      "properties": {
       "region": {
        "description": "AWS Region.",
        "title": "Region",
        "type": "string"
       },
       "volume_id": {
        "description": "Volume ID.",
        "title": "Volume ID",
        "type": "string"
       }
      },
      "required": [
       "volume_id",
       "region"
      ],
      "title": "aws_delete_volume_by_id",
      "type": "object"
     }
    ],
    "iterData": [
     {
      "iter_enabled": true,
      "iter_item": {
       "region": "region",
       "volume_id": "volume_id"
      },
      "iter_list": {
       "constant": false,
       "objectItems": true,
       "value": "all_low_usage_volumes"
      }
     }
    ],
    "jupyter": {
     "source_hidden": true
    },
    "language": "python",
    "legotype": "LEGO_TYPE_AWS",
    "name": "Delete AWS EBS Volume by Volume ID",
    "orderProperties": [
     "volume_id",
     "region"
    ],
    "printOutput": true,
    "startcondition": "len(all_low_usage_volumes)!=0",
    "tags": [
     "aws_delete_volume_by_id"
    ],
    "uuid": "e8cccc03e1af323982c0ab9f06c01127c0481ca81943eb7e82e46245140b1059",
    "version": "1.0.0",
    "credentialsJson": {}
   },
   "outputs": [],
   "source": [
    "##\n",
    "##  Copyright (c) 2022 unSkript, Inc\n",
    "##  All rights reserved.\n",
    "##\n",
    "from pydantic import BaseModel, Field\n",
    "from typing import List\n",
    "import pprint\n",
    "\n",
    "\n",
    "from beartype import beartype\n",
    "@beartype\n",
    "def aws_delete_volume_by_id_printer(output):\n",
    "    if output is None:\n",
    "        return\n",
    "    pprint.pprint({\"Output\": output})\n",
    "\n",
    "\n",
    "@beartype\n",
    "def aws_delete_volume_by_id(handle, volume_id: str, region: str) -> str:\n",
    "    \"\"\"aws_filter_ebs_unattached_volumes Returns an array of ebs volumes.\n",
    "\n",
    "        :type handle: object\n",
    "        :param handle: Object returned by the task.validate(...) method.\n",
    "\n",
    "        :type region: string\n",
    "        :param region: Used to filter the volume for specific region.\n",
    "\n",
    "        :type volume_id: string\n",
    "        :param volume_id: Volume ID needed to delete particular volume.\n",
    "\n",
    "        :rtype: Result of the API in the List form.\n",
    "    \"\"\"\n",
    "    result = []\n",
    "\n",
    "    ec2Client = handle.client('ec2',region_name=region)\n",
    "\n",
    "    # Adding logic for deletion criteria\n",
    "    try:\n",
    "        response = ec2Client.delete_volume(VolumeId=volume_id,)\n",
    "        result.append(response)\n",
    "    except Exception as e:\n",
    "        result.append(e)\n",
    "\n",
    "    return result\n",
    "\n",
    "\n",
    "task = Task(Workflow())\n",
    "task.configure(continueOnError=True)\n",
    "task.configure(inputParamsJson='''{\n",
    "    \"volume_id\": \"iter.get(\\\\\"volume_id\\\\\")\",\n",
    "    \"region\": \"iter.get(\\\\\"region\\\\\")\"\n",
    "    }''')\n",
    "task.configure(iterJson='''{\n",
    "    \"iter_enabled\": true,\n",
    "    \"iter_list_is_const\": false,\n",
    "    \"iter_list\": \"all_low_usage_volumes\",\n",
    "    \"iter_parameter\": [\"volume_id\",\"region\"]\n",
    "    }''')\n",
    "\n",
    "task.configure(conditionsJson='''{\n",
    "    \"condition_enabled\": true,\n",
    "    \"condition_cfg\": \"len(all_low_usage_volumes)!=0\",\n",
    "    \"condition_result\": true\n",
    "    }''')\n",
    "\n",
    "task.configure(printOutput=True)\n",
    "(err, hdl, args) = task.validate(vars=vars())\n",
    "if err is None:\n",
    "    task.execute(aws_delete_volume_by_id, lego_printer=aws_delete_volume_by_id_printer, hdl=hdl, args=args)"
   ],
   "output": {}
  },
  {
   "cell_type": "markdown",
   "id": "44a6cf05-385b-445d-a503-ad4aa607a568",
   "metadata": {
    "jupyter": {
     "source_hidden": false
    },
    "name": "Conclusion",
    "orderProperties": [],
    "tags": [],
    "title": "Conclusion"
   },
   "source": [
    "<h3 id=\"Conclusion\">Conclusion</h3>\n",
    "<p>In this Runbook, we were able to filter low usage volumes before a given threshold number of days and delete them. To view the full platform capabilities of unSkript please visit <a href=\"https://us.app.unskript.io\" target=\"_blank\" rel=\"noopener\">us.app.unskript.io</a></p>"
   ]
  }
 ],
 "metadata": {
  "execution_data": {
   "runbook_name": "Delete EBS Volume With Low Usage",
   "parameters": [
    "region",
    "threshold_days"
   ]
  },
  "kernelspec": {
   "display_name": "unSkript (Build: 1084)",
   "language": "python",
   "name": "python3"
  },
  "language_info": {
   "codemirror_mode": {
    "name": "ipython",
    "version": 3
   },
   "file_extension": ".py",
   "mimetype": "text/x-python",
   "name": "python",
   "nbconvert_exporter": "python",
   "pygments_lexer": "ipython3",
   "version": "3.9.6"
  },
  "outputParameterSchema": {
   "properties": {},
   "required": [],
   "title": "Schema",
   "type": "object"
  },
  "parameterSchema": {
   "properties": {
    "region": {
     "description": "AWS Regions to get the EBS volumes from. Eg: [\"us-west-2\", \"ap-south-1\"]. If nothing is given all regions will be considered.",
     "title": "region",
     "type": "array"
    },
    "threshold_days": {
     "default": "10",
     "description": "The threshold number of days to check the low usage of volumes",
     "title": "threshold_days",
     "type": "string"
    },
    "volume_ids": {
     "description": "List of EBS Volume IDs.",
     "title": "volume_ids",
     "type": "array"
    }
   },
   "required": [],
   "title": "Schema",
   "type": "object"
  },
  "parameterValues": {},
  "vscode": {
   "interpreter": {
    "hash": "b0fa6594d8f4cbf19f97940f81e996739fb7646882a419484c72d19e05852a7e"
   }
  }
 },
 "nbformat": 4,
 "nbformat_minor": 5
}