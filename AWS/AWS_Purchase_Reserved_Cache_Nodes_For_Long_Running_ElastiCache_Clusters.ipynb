{
 "cells": [
  {
   "attachments": {},
   "cell_type": "markdown",
   "id": "5424264e-6195-4cf9-906b-24b02d5a83f3",
   "metadata": {
    "jupyter": {
     "source_hidden": false
    },
    "name": "Steps Overview",
    "orderProperties": [],
    "tags": [],
    "title": "Steps Overview"
   },
   "source": [
    "<center><img src=\"https://storage.googleapis.com/unskript-website/assets/favicon.png\" alt=\"unSkript.com\" width=\"100\" height=\"100\">\n",
    "<h1 id=\"unSkript-Runbooks\">unSkript Runbooks</h1>\n",
    "<div class=\"alert alert-block alert-success\">\n",
    "<h3 id=\"Objective\">Objective</h3>\n",
    "<br><strong style=\"color: #000000;\"><em>Enusre Long Running AWS ElastiCache Clusters have Reserved Cache Nodes purchased for them.</em></strong></div>\n",
    "</center>\n",
    "<p>&nbsp;</p>\n",
    "<center>\n",
    "<h2 id=\"Purchase-Reserved-Cache-Nodes-For-Long-Running-AWS-ElastiCache-Clusters\"><u>Purchase Reserved Cache Nodes For Long Running AWS ElastiCache Clusters</u></h2>\n",
    "</center>\n",
    "<h1 id=\"Steps-Overview\">Steps Overview</h1>\n",
    "<p>1)<a href=\"#1\" target=\"_self\" rel=\"noopener\"> Find Long Running AWS ElastiCache Clusters without Reserved Cache Nodes</a><br>2)<a href=\"#2\" target=\"_self\" rel=\"noopener\"> Purchase Reserved Cache Nodes</a></p>"
   ]
  },
  {
   "cell_type": "code",
   "execution_count": null,
   "id": "e1f146c9-5180-4459-9c82-cf0e1da02785",
   "metadata": {
    "collapsed": true,
    "credentialsJson": {},
    "customAction": true,
    "execution_data": {
     "last_date_success_run_cell": "2023-05-12T15:58:56.432Z"
    },
    "jupyter": {
     "outputs_hidden": true,
     "source_hidden": true
    },
    "name": "Input verification",
    "orderProperties": [],
    "tags": [],
    "title": "Input verification"
   },
   "outputs": [],
   "source": [
    "if region == None:\n",
    "    region = ''\n",
    "threshold_int = int(threshold)\n",
    "if reserved_cache_node_offering_id and not region:\n",
    "    raise SystemExit(\"Provide a region for the Reserved Cache Node Offering ID!\")"
   ]
  },
  {
   "attachments": {},
   "cell_type": "markdown",
   "id": "908f4dcb-8483-44fc-8f81-ce2502e03093",
   "metadata": {
    "jupyter": {
     "source_hidden": false
    },
    "name": "Step 1",
    "orderProperties": [],
    "tags": [],
    "title": "Step 1"
   },
   "source": [
    "<h3 id=\"Find-ECS-Clusters-with-Low-CPU-Utilization\"><a id=\"1\" target=\"_self\" rel=\"nofollow\"></a>Find Long Running AWS ElastiCache Clusters without Reserved Nodes</h3>\n",
    "<p>Using unSkript's Find Long Running AWS ElastiCache Clusters without Reserved Nodes action, we will find clusters that have been running for longer than a specified threshold and do not have reserved cache nodes purchased for them.</p>\n",
    "<blockquote>\n",
    "<p>This action takes the following parameters: <code>region, threshold</code></p>\n",
    "</blockquote>\n",
    "<blockquote>\n",
    "<p>This action captures the following output: <code>clusters_without_reserved_nodes</code></p>\n",
    "</blockquote>"
   ]
  },
  {
   "cell_type": "code",
   "execution_count": null,
   "id": "acc43420-0189-440d-9bac-a431b014d69c",
   "metadata": {
    "actionBashCommand": false,
    "actionCategories": [
     "CATEGORY_TYPE_CLOUDOPS",
     "CATEGORY_TYPE_DEVOPS",
     "CATEGORY_TYPE_AWS",
     "CATEGORY_TYPE_AWS_ELASTICACHE"
    ],
    "actionDescription": "This action gets information about long running ElastiCache clusters and their status, and checks if they have any reserved nodes associated with them.",
    "actionEntryFunction": "aws_get_long_running_elasticcache_clusters_without_reserved_nodes",
    "actionIsCheck": true,
    "actionIsRemediation": false,
    "actionNeedsCredential": true,
    "actionNextHop": [],
    "actionNextHopParameterMapping": {},
    "actionNouns": null,
    "actionOutputType": "ACTION_OUTPUT_TYPE_LIST",
    "actionSupportsIteration": true,
    "actionSupportsPoll": true,
    "actionTitle": "AWS Get Long Running ElastiCache clusters Without Reserved Nodes",
    "actionType": "LEGO_TYPE_AWS",
    "actionVerbs": null,
    "actionVersion": "1.0.0",
    "action_modified": false,
    "action_uuid": "48dd783f3952172c7cf417df55341c1abd4458ad085181ad9367b677b646e86f",
    "collapsed": true,
    "continueOnError": false,
    "credentialsJson": {},
    "description": "This action gets information about long running ElastiCache clusters and their status, and checks if they have any reserved nodes associated with them.",
    "execution_data": {
     "last_date_success_run_cell": "2023-05-12T15:59:38.022Z"
    },
    "id": 1,
    "index": 1,
    "inputData": [
     {
      "region": {
       "constant": false,
       "value": "region"
      },
      "threshold": {
       "constant": false,
       "value": "threshold_int"
      }
     }
    ],
    "inputschema": [
     {
      "properties": {
       "region": {
        "default": "",
        "description": "AWS Region to get the ElasticCache Cluster",
        "title": "AWS Region",
        "type": "string"
       },
       "threshold": {
        "default": 10,
        "description": "Threshold(in days) to find long running ElasticCache clusters. Eg: 30, This will find all the clusters that have been created a month ago.",
        "title": "Threshold(in days)",
        "type": "number"
       }
      },
      "required": [],
      "title": "aws_get_long_running_elasticcache_clusters_without_reserved_nodes",
      "type": "object"
     }
    ],
    "jupyter": {
     "outputs_hidden": true,
     "source_hidden": true
    },
    "language": "python",
    "legotype": "LEGO_TYPE_AWS",
    "name": "AWS Get Long Running ElastiCache clusters Without Reserved Nodes",
    "orderProperties": [
     "region",
     "threshold"
    ],
    "outputParams": {
     "output_name": "clusters_without_reserved_nodes",
     "output_name_enabled": true,
     "output_runbook_enabled": false,
     "output_runbook_name": ""
    },
    "printOutput": true,
    "tags": [
     "aws_get_long_running_elasticcache_clusters_without_reserved_nodes"
    ],
    "uuid": "48dd783f3952172c7cf417df55341c1abd4458ad085181ad9367b677b646e86f",
    "version": "1.0.0"
   },
   "outputs": [],
   "source": [
    "##\n",
    "##  Copyright (c) 2023 unSkript, Inc\n",
    "##  All rights reserved.\n",
    "##\n",
    "from pydantic import BaseModel, Field\n",
    "from typing import Optional, Tuple\n",
    "from unskript.legos.aws.aws_list_all_regions.aws_list_all_regions import aws_list_all_regions\n",
    "import pprint\n",
    "from datetime import datetime,timedelta, timezone\n",
    "\n",
    "\n",
    "\n",
    "from typing import Optional\n",
    "\n",
    "from pydantic import BaseModel, Field\n",
    "\n",
    "\n",
    "from beartype import beartype\n",
    "@beartype\n",
    "def aws_get_long_running_elasticcache_clusters_without_reserved_nodes_printer(output):\n",
    "    if output is None:\n",
    "        return\n",
    "    pprint.pprint(output)\n",
    "\n",
    "\n",
    "@beartype\n",
    "def aws_get_long_running_elasticcache_clusters_without_reserved_nodes(handle, region: str = \"\", threshold:int = 10) -> Tuple:\n",
    "    \"\"\"aws_get_long_running_elasticcache_clusters_without_reserved_nodes finds ElasticCache Clusters that are long running and have no reserved nodes\n",
    "\n",
    "        :type handle: object\n",
    "        :param handle: Object returned from task.validate(...).\n",
    "\n",
    "        :type region: string\n",
    "        :param region: Region of the Cluster.\n",
    "\n",
    "        :type threshold: integer\n",
    "        :param threshold: Threshold(in days) to find long running ElasticCache clusters. Eg: 30, This will find all the clusters that have been created a month ago.\n",
    "\n",
    "        :rtype: status, list of clusters, nodetype and their region.\n",
    "    \"\"\"\n",
    "    result = []\n",
    "    reservedNodesPerRegion = {}\n",
    "    all_regions = [region]\n",
    "    if not region:\n",
    "        all_regions = aws_list_all_regions(handle)\n",
    "    # Get the list of reserved node per region per type. We just need to maintain\n",
    "    # what type of reserved nodes are present per region. So, reservedNodesPerRegion\n",
    "    # would be like:\n",
    "    # <region>:{<nodeType>:True/False}\n",
    "    for reg in all_regions:\n",
    "        try:\n",
    "            elasticacheClient = handle.client('elasticache', region_name=reg)\n",
    "            response = elasticacheClient.describe_reserved_cache_nodes()\n",
    "            reservedNodesPerType = {}\n",
    "            if response['ReservedCacheNodes']:\n",
    "                for node in response['ReservedCacheNodes']:\n",
    "                    reservedNodesPerType[node['CacheNodeType']] = True\n",
    "            else:\n",
    "                continue\n",
    "            reservedNodesPerRegion[reg] = reservedNodesPerType\n",
    "        except Exception:\n",
    "            pass\n",
    "\n",
    "    for reg in all_regions:\n",
    "        try:\n",
    "            elasticacheClient = handle.client('elasticache', region_name=reg)\n",
    "            for cluster in elasticacheClient.describe_cache_clusters()['CacheClusters']:\n",
    "                cluster_age = datetime.now(timezone.utc) - cluster['CacheClusterCreateTime']\n",
    "                if cluster_age > timedelta(days=threshold):\n",
    "                    # Check if the cluster node type is present in the reservedNodesPerRegion map.\n",
    "                    reservedNodes = reservedNodesPerRegion.get(reg)\n",
    "                    if reservedNodes != None:\n",
    "                        if reservedNodes.get(cluster['CacheNodeType']) == True:\n",
    "                            continue\n",
    "                    cluster_dict = {}\n",
    "                    cluster_dict[\"region\"] = reg\n",
    "                    cluster_dict[\"cluster\"] = cluster['CacheClusterId']\n",
    "                    cluster_dict[\"node_type\"] = cluster['CacheNodeType']\n",
    "                    result.append(cluster_dict)\n",
    "        except Exception:\n",
    "            pass\n",
    "\n",
    "    if len(result) != 0:\n",
    "        return (False, result)\n",
    "    else:\n",
    "        return (True, None)\n",
    "\n",
    "\n",
    "task = Task(Workflow())\n",
    "task.configure(inputParamsJson='''{\n",
    "    \"region\": \"region\",\n",
    "    \"threshold\": \"int(threshold_int)\"\n",
    "    }''')\n",
    "task.configure(outputName=\"clusters_without_reserved_nodes\")\n",
    "\n",
    "task.configure(printOutput=True)\n",
    "(err, hdl, args) = task.validate(vars=vars())\n",
    "if err is None:\n",
    "    task.execute(aws_get_long_running_elasticcache_clusters_without_reserved_nodes, lego_printer=aws_get_long_running_elasticcache_clusters_without_reserved_nodes_printer, hdl=hdl, args=args)"
   ]
  },
  {
   "attachments": {},
   "cell_type": "markdown",
   "id": "199591ef-cb3a-49b7-b515-3c6998050320",
   "metadata": {
    "jupyter": {
     "source_hidden": false
    },
    "name": "Step 2A",
    "orderProperties": [],
    "tags": [],
    "title": "Step 2A"
   },
   "source": [
    "<h3 id=\"Create-List-of-Clusters-without-reserved-nodes\">Create List of Clusters without reserved nodes</h3>\n",
    "<p>This action filters regions that have no clusters and creates a list of those that have them (without reserved cache nodes).</p>\n",
    "<blockquote>\n",
    "<p>This action takes the following parameters: <code>None</code></p>\n",
    "</blockquote>\n",
    "<blockquote>\n",
    "<p>This action captures the following output: <code>all_clusters_without_reserved_nodes</code></p>\n",
    "</blockquote>"
   ]
  },
  {
   "cell_type": "code",
   "execution_count": null,
   "id": "6a10e980-9f17-4436-9166-90ea130aa316",
   "metadata": {
    "credentialsJson": {},
    "customAction": true,
    "execution_data": {
     "last_date_success_run_cell": "2023-05-12T15:59:48.109Z"
    },
    "jupyter": {
     "source_hidden": true
    },
    "name": "Create List of Clusters without reserved nodes",
    "orderProperties": [],
    "tags": [],
    "title": "Create List of Clusters without reserved nodes"
   },
   "outputs": [],
   "source": [
    "all_clusters_without_reserved_nodes = []\n",
    "dummy = []\n",
    "for res in clusters_without_reserved_nodes:\n",
    "    if type(res)==bool:\n",
    "        if res == False:\n",
    "            continue\n",
    "    elif type(res)==list:\n",
    "        if len(res)!=0:\n",
    "            all_clusters_without_reserved_nodes=res\n",
    "print(all_clusters_without_reserved_nodes)"
   ]
  },
  {
   "attachments": {},
   "cell_type": "markdown",
   "id": "978d3b61-2fd9-461d-89bd-534d2dcf3b63",
   "metadata": {
    "jupyter": {
     "source_hidden": false
    },
    "name": "Step 2",
    "orderProperties": [],
    "tags": [],
    "title": "Step 2"
   },
   "source": [
    "<h3 id=\"Purchase-Reserved-Cache-Node\"><a id=\"2\" target=\"_self\" rel=\"nofollow\"></a>Purchase Reserved Cache Node</h3>\n",
    "<p>This action Purchases Reserved Cache Nodes for the clusters found in Step 1.&nbsp;</p>\n",
    "<blockquote>\n",
    "<p>This action takes the following parameters:&nbsp;<code>no_of_nodes, region, reserved_node_offering_id</code></p>\n",
    "</blockquote>"
   ]
  },
  {
   "cell_type": "code",
   "execution_count": null,
   "id": "08a796e9-73bd-4969-97a7-214f062058e6",
   "metadata": {
    "actionBashCommand": false,
    "actionCategories": [
     "CATEGORY_TYPE_SRE",
     "CATEGORY_TYPE_AWS",
     "CATEGORY_TYPE_AWS_ELASTICACHE"
    ],
    "actionDescription": "This action purchases a reserved cache node offering.",
    "actionEntryFunction": "aws_purchase_elasticcache_reserved_node",
    "actionIsCheck": false,
    "actionIsRemediation": false,
    "actionNeedsCredential": false,
    "actionNextHop": null,
    "actionNextHopParameterMapping": null,
    "actionNouns": null,
    "actionOutputType": "ACTION_OUTPUT_TYPE_DICT",
    "actionSupportsIteration": true,
    "actionSupportsPoll": true,
    "actionTitle": "AWS Purchase ElastiCache Reserved Nodes",
    "actionType": "LEGO_TYPE_AWS",
    "actionVerbs": null,
    "actionVersion": "1.0.0",
    "action_modified": false,
    "action_uuid": "b3a50ef59c3ac1727671ecde28e9194c00857bd8c8b26546ea70606ddf8e6914",
    "collapsed": true,
    "continueOnError": false,
    "credentialsJson": {},
    "description": "This action purchases a reserved cache node offering.",
    "id": 4,
    "index": 4,
    "inputData": [
     {
      "no_of_nodes": {
       "constant": false,
       "value": "no_of_nodes"
      },
      "region": {
       "constant": false,
       "value": "region"
      },
      "reserved_node_offering_id": {
       "constant": false,
       "value": "reserved_cache_node_offering_id"
      }
     }
    ],
    "inputschema": [
     {
      "properties": {
       "no_of_nodes": {
        "default": 1,
        "description": "The number of reserved cache nodes that you want to purchase.",
        "title": "No of nodes to purchase",
        "type": "integer"
       },
       "region": {
        "description": "AWS Region.",
        "title": "Region",
        "type": "string"
       },
       "reserved_node_offering_id": {
        "description": "The unique identifier of the reserved cache node offering you want to purchase.",
        "title": "Reserved Cache Node Offering ID",
        "type": "string"
       }
      },
      "required": [
       "region",
       "reserved_node_offering_id"
      ],
      "title": "aws_purchase_elasticcache_reserved_node",
      "type": "object"
     }
    ],
    "jupyter": {
     "outputs_hidden": true,
     "source_hidden": true
    },
    "language": "python",
    "legotype": "LEGO_TYPE_AWS",
    "name": "AWS Purchase ElastiCache Reserved Nodes",
    "orderProperties": [
     "region",
     "reserved_node_offering_id",
     "no_of_nodes"
    ],
    "printOutput": true,
    "tags": [
     "aws_purchase_elasticcache_reserved_node"
    ],
    "uuid": "b3a50ef59c3ac1727671ecde28e9194c00857bd8c8b26546ea70606ddf8e6914",
    "version": "1.0.0"
   },
   "outputs": [],
   "source": [
    "##\n",
    "# Copyright (c) 2023 unSkript, Inc\n",
    "# All rights reserved.\n",
    "##\n",
    "from pydantic import BaseModel, Field\n",
    "from typing import Optional, Dict\n",
    "import pprint\n",
    "\n",
    "\n",
    "from beartype import beartype\n",
    "@beartype\n",
    "def aws_purchase_elasticcache_reserved_node_printer(output):\n",
    "    if output is None:\n",
    "        return\n",
    "    pprint.pprint(output)\n",
    "\n",
    "\n",
    "@beartype\n",
    "def aws_purchase_elasticcache_reserved_node(handle, region: str, reserved_node_offering_id: str, no_of_nodes:int=1) -> Dict:\n",
    "    \"\"\"aws_purchase_elasticcache_reserved_node returns dict of response.\n",
    "\n",
    "        :type region: string\n",
    "        :param region: AWS Region.\n",
    "\n",
    "        :type reserved_node_offering_id: string\n",
    "        :param reserved_node_offering_id: The unique identifier of the reserved node offering you want to purchase. Example: '438012d3-4052-4cc7-b2e3-8d3372e0e706'\n",
    "\n",
    "        :type no_of_nodes: int\n",
    "        :param no_of_nodes: The number of reserved nodes that you want to purchase.\n",
    "\n",
    "        :rtype: dict of response metatdata of purchasing a reserved node\n",
    "    \"\"\"\n",
    "    try:\n",
    "        elasticClient = handle.client('elasticache', region_name=region)\n",
    "        params = {\n",
    "            'ReservedCacheNodesOfferingId': reserved_node_offering_id,\n",
    "            'CacheNodeCount': no_of_nodes\n",
    "            }\n",
    "        response = elasticClient.purchase_reserved_cache_nodes_offering(**params)\n",
    "        return response\n",
    "    except Exception as e:\n",
    "        raise Exception(e)\n",
    "\n",
    "\n",
    "\n",
    "\n",
    "task = Task(Workflow())\n",
    "task.configure(inputParamsJson='''{\n",
    "    \"region\": \"region\",\n",
    "    \"reserved_node_offering_id\": \"reserved_cache_node_offering_id\",\n",
    "    \"no_of_nodes\": int(no_of_nodes)\n",
    "    }''')\n",
    "\n",
    "task.configure(printOutput=True)\n",
    "(err, hdl, args) = task.validate(vars=vars())\n",
    "if err is None:\n",
    "    task.execute(aws_purchase_elasticcache_reserved_node, lego_printer=aws_purchase_elasticcache_reserved_node_printer, hdl=hdl, args=args)"
   ]
  },
  {
   "attachments": {},
   "cell_type": "markdown",
   "id": "44a6cf05-385b-445d-a503-ad4aa607a568",
   "metadata": {
    "jupyter": {
     "source_hidden": false
    },
    "name": "Conclusion",
    "orderProperties": [],
    "tags": [],
    "title": "Conclusion"
   },
   "source": [
    "<h3 id=\"Conclusion&para;\">Conclusion</h3>\n",
    "<p>In this Runbook, we were able to filter long running ElastiCache clusters without reserved nodes given a threshold number of days of creation and purchase nodes for them. To view the full platform capabilities of unSkript please visit <a href=\"https://us.app.unskript.io\" target=\"_blank\" rel=\"noopener\">us.app.unskript.io</a></p>"
   ]
  }
 ],
 "metadata": {
  "execution_data": {
   "runbook_name": "Purchase Reserved Nodes For Long Running AWS ElastiCache Clusters",
   "parameters": [
    "region",
    "threshold_days"
   ]
  },
  "kernelspec": {
   "display_name": "unSkript (Build: 1166)",
   "language": "python",
   "name": "python3"
  },
  "language_info": {
   "codemirror_mode": {
    "name": "ipython",
    "version": 3
   },
   "file_extension": ".py",
   "mimetype": "text/x-python",
   "name": "python",
   "nbconvert_exporter": "python",
   "pygments_lexer": "ipython3",
   "version": "3.10.6"
  },
  "outputParameterSchema": {
   "properties": {},
   "required": [],
   "title": "Schema",
   "type": "object"
  },
  "parameterSchema": {
   "properties": {
    "no_of_nodes": {
     "default": 1,
     "description": "The number of cache node instances to reserve. The default value is 1 (node).",
     "title": "no_of_nodes",
     "type": "number"
    },
    "region": {
     "description": "AWS Region to get the RDS Instances from. Eg: \"us-west-2\".",
     "title": "region",
     "type": "string"
    },
    "reserved_cache_node_offering_id": {
     "description": "The ID of the reserved cache node offering to purchase. Example: 438012d3-4052-4cc7-b2e3-8d3372e0e706",
     "title": "reserved_cache_node_offering_id",
     "type": "string"
    },
    "threshold": {
     "default": 10,
     "description": "Threshold (in days) to find long running ElastiCache clusters. Eg: 30 , this will get all the clusters that have been running for more than 30 days. The default value is 10 days.",
     "title": "threshold",
     "type": "number"
    }
   },
   "required": [
    "reserved_cache_node_offering_id"
   ],
   "title": "Schema",
   "type": "object"
  },
  "vscode": {
   "interpreter": {
    "hash": "b0fa6594d8f4cbf19f97940f81e996739fb7646882a419484c72d19e05852a7e"
   }
  }
 },
 "nbformat": 4,
 "nbformat_minor": 5
}