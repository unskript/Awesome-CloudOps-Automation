{
 "cells": [
  {
   "attachments": {},
   "cell_type": "markdown",
   "id": "5424264e-6195-4cf9-906b-24b02d5a83f3",
   "metadata": {
    "jupyter": {
     "source_hidden": false
    },
    "name": "Steps Overview",
    "orderProperties": [],
    "tags": [],
    "title": "Steps Overview"
   },
   "source": [
    "<center><img src=\"https://storage.googleapis.com/unskript-website/assets/favicon.png\" alt=\"unSkript.com\" width=\"100\" height=\"100\">\n",
    "<h1 id=\"unSkript-Runbooks&para;\">unSkript Runbooks<a class=\"jp-InternalAnchorLink\" href=\"#unSkript-Runbooks\" target=\"_self\" rel=\"noopener\">&para;</a><a class=\"jp-InternalAnchorLink\" href=\"#unSkript-Runbooks&para;\" target=\"_self\">&para;</a></h1>\n",
    "<div class=\"alert alert-block alert-success\">\n",
    "<h3 id=\"Objective&para;\">Objective<a class=\"jp-InternalAnchorLink\" href=\"#Objective\" target=\"_self\" rel=\"noopener\">&para;</a><a class=\"jp-InternalAnchorLink\" href=\"#Objective&para;\" target=\"_self\">&para;</a></h3>\n",
    "<br><strong><em>Find and Delete unused AWS Secrets</em></strong></div>\n",
    "</center>\n",
    "<p>&nbsp;</p>\n",
    "<center>\n",
    "<h2 id=\"Delete-Unused-AWS-Secrets\"><u>Delete Unused AWS Secrets</u><a class=\"jp-InternalAnchorLink\" href=\"#Delete-Unused-AWS-Secrets\" target=\"_self\">&para;</a></h2>\n",
    "</center>\n",
    "<h1 id=\"Steps-Overview&para;\">Steps Overview<a class=\"jp-InternalAnchorLink\" href=\"#Steps-Overview\" target=\"_self\" rel=\"noopener\">&para;</a><a class=\"jp-InternalAnchorLink\" href=\"#Steps-Overview&para;\" target=\"_self\">&para;</a></h1>\n",
    "<p>1.&nbsp; Find unused secrets<br>2.&nbsp;&nbsp;Delete unused secrets</p>"
   ]
  },
  {
   "cell_type": "code",
   "execution_count": 5,
   "id": "714462ea-93a8-4e2e-b1b8-50480b857662",
   "metadata": {
    "collapsed": true,
    "credentialsJson": {},
    "customAction": true,
    "execution_data": {
     "last_date_success_run_cell": "2023-05-17T16:55:36.475Z"
    },
    "jupyter": {
     "outputs_hidden": true,
     "source_hidden": true
    },
    "name": "Input Verification",
    "orderProperties": [],
    "tags": [],
    "title": "Input Verification"
   },
   "outputs": [],
   "source": [
    "if secret_names and not region:\n",
    "    raise SystemExit(\"Provide a region for the AWS Secret ID's!\")\n",
    "if region == None:\n",
    "    region = \"\""
   ]
  },
  {
   "attachments": {},
   "cell_type": "markdown",
   "id": "908f4dcb-8483-44fc-8f81-ce2502e03093",
   "metadata": {
    "jupyter": {
     "source_hidden": false
    },
    "name": "Step 1",
    "orderProperties": [],
    "tags": [],
    "title": "Step 1"
   },
   "source": [
    "<h3 id=\"Filter-unused-Secrets\"><a id=\"1\" target=\"_self\" rel=\"nofollow\"></a>Filter unused Secrets<a class=\"jp-InternalAnchorLink\" href=\"#Filter-unused-Secrets\" target=\"_self\">&para;</a></h3>\n",
    "<p>Using unSkript's Filter AWS Unused Secrets action, we will find unused secrets given a threshold number of days from their last use date. By default threshold number of days is set to <strong><span style=\"text-decoration: underline;\">30</span></strong>.</p>\n",
    "<blockquote>\n",
    "<p>This action takes the following parameters: <code>region, threhold_days</code></p>\n",
    "</blockquote>\n",
    "<blockquote>\n",
    "<p>This action captures the following output: <code>unused_secrets</code></p>\n",
    "</blockquote>"
   ]
  },
  {
   "cell_type": "code",
   "execution_count": null,
   "id": "9854addd-0a54-40f2-a1f5-5ccf4630dd87",
   "metadata": {
    "actionBashCommand": false,
    "actionCategories": [
     "CATEGORY_TYPE_IAM",
     "CATEGORY_TYPE_SECOPS",
     "CATEGORY_TYPE_COST_OPT"
    ],
    "actionDescription": "This action lists all the unused secrets from AWS by comparing the last used date with the given threshold.",
    "actionEntryFunction": "aws_list_unused_secrets",
    "actionIsCheck": true,
    "actionIsRemediation": false,
    "actionNeedsCredential": true,
    "actionNextHop": [
     "2a9101a1cf7be1cf70a30de2199dca5b302c3096"
    ],
    "actionNextHopParameterMapping": {},
    "actionNouns": null,
    "actionOutputType": "ACTION_OUTPUT_TYPE_LIST",
    "actionSupportsIteration": true,
    "actionSupportsPoll": true,
    "actionTitle": "AWS List Unused Secrets",
    "actionType": "LEGO_TYPE_AWS",
    "actionVerbs": null,
    "actionVersion": "1.0.0",
    "action_modified": false,
    "action_uuid": "97f5fa81fca213403df2f1b3c17e6f83024b7df66f313f537abaa2a00dab745b",
    "collapsed": true,
    "condition_enabled": true,
    "continueOnError": false,
    "description": "This action lists all the unused secrets from AWS by comparing the last used date with the given threshold.",
    "id": 4,
    "index": 4,
    "inputData": [
     {
      "max_age_days": {
       "constant": false,
       "value": "int(threshold_days)"
      },
      "region": {
       "constant": false,
       "value": "region"
      }
     }
    ],
    "inputschema": [
     {
      "properties": {
       "max_age_days": {
        "default": 30,
        "description": "The threshold to check the last use of the secret.",
        "title": "Max Age Day's",
        "type": "integer"
       },
       "region": {
        "default": "",
        "description": "AWS Region.",
        "title": "Region",
        "type": "string"
       }
      },
      "required": [],
      "title": "aws_list_unused_secrets",
      "type": "object"
     }
    ],
    "jupyter": {
     "outputs_hidden": true,
     "source_hidden": true
    },
    "language": "python",
    "legotype": "LEGO_TYPE_AWS",
    "name": "AWS List Unused Secrets",
    "orderProperties": [
     "region",
     "max_age_days"
    ],
    "outputParams": {
     "output_name": "unused_secrets",
     "output_name_enabled": true,
     "output_runbook_enabled": false,
     "output_runbook_name": ""
    },
    "printOutput": true,
    "startcondition": "not secret_names",
    "tags": [
     "aws_list_unused_secrets"
    ],
    "uuid": "97f5fa81fca213403df2f1b3c17e6f83024b7df66f313f537abaa2a00dab745b",
    "version": "1.0.0",
    "credentialsJson": {}
   },
   "outputs": [],
   "source": [
    "##\n",
    "##  Copyright (c) 2023 unSkript, Inc\n",
    "##  All rights reserved.\n",
    "##\n",
    "import pprint\n",
    "from typing import Optional, Tuple\n",
    "from datetime import datetime, timedelta\n",
    "from pydantic import BaseModel, Field\n",
    "from unskript.connectors.aws import aws_get_paginator\n",
    "from unskript.legos.aws.aws_list_all_regions.aws_list_all_regions import aws_list_all_regions\n",
    "import pytz\n",
    "\n",
    "\n",
    "from beartype import beartype\n",
    "@beartype\n",
    "def aws_list_unused_secrets_printer(output):\n",
    "    if output is None:\n",
    "        return\n",
    "    pprint.pprint(output)\n",
    "\n",
    "\n",
    "@beartype\n",
    "def aws_list_unused_secrets(handle, region: str = \"\", max_age_days: int = 30) -> Tuple:\n",
    "    \"\"\"aws_list_unused_secrets Returns an array of unused secrets.\n",
    "\n",
    "        :type region: string\n",
    "        :param region: AWS region.\n",
    "\n",
    "        :type max_age_days: int\n",
    "        :param max_age_days: The threshold to check the last use of the secret.\n",
    "\n",
    "        :rtype: Tuple with status result and list of unused secrets.\n",
    "    \"\"\"\n",
    "    result = []\n",
    "    all_regions = [region]\n",
    "    if not region:\n",
    "        all_regions = aws_list_all_regions(handle)\n",
    "\n",
    "    for reg in all_regions:\n",
    "        try:\n",
    "            # Filtering the secrets by region\n",
    "            ec2Client = handle.client('secretsmanager', region_name=reg)\n",
    "            res = aws_get_paginator(ec2Client, \"list_secrets\", \"SecretList\")\n",
    "            for secret in res:\n",
    "                secret_dict = {}\n",
    "                secret_id = secret['Name']\n",
    "                last_accessed_date = ec2Client.describe_secret(SecretId=secret_id)\n",
    "                if 'LastAccessedDate' in last_accessed_date:\n",
    "                    if last_accessed_date[\"LastAccessedDate\"] < datetime.now(pytz.UTC) - timedelta(days=int(max_age_days)):\n",
    "                        secret_dict[\"secret_name\"] = secret_id\n",
    "                        secret_dict[\"region\"] = reg\n",
    "                        result.append(secret_dict)\n",
    "                else:\n",
    "                    if last_accessed_date[\"CreatedDate\"] < datetime.now(pytz.UTC) - timedelta(days=int(max_age_days)):\n",
    "                        secret_dict[\"secret_name\"] = secret_id\n",
    "                        secret_dict[\"region\"] = reg\n",
    "                        result.append(secret_dict)\n",
    "        except Exception:\n",
    "            pass\n",
    "\n",
    "    if len(result) != 0:\n",
    "        return (False, result)\n",
    "    return (True, None)\n",
    "\n",
    "\n",
    "task = Task(Workflow())\n",
    "task.configure(inputParamsJson='''{\n",
    "    \"region\": \"region\",\n",
    "    \"max_age_days\": \"int(threshold_days)\"\n",
    "    }''')\n",
    "\n",
    "task.configure(conditionsJson='''{\n",
    "    \"condition_enabled\": true,\n",
    "    \"condition_cfg\": \"not secret_names\",\n",
    "    \"condition_result\": true\n",
    "    }''')\n",
    "\n",
    "task.configure(outputName=\"unused_secrets\")\n",
    "\n",
    "task.configure(printOutput=True)\n",
    "(err, hdl, args) = task.validate(vars=vars())\n",
    "if err is None:\n",
    "    task.execute(aws_list_unused_secrets, lego_printer=aws_list_unused_secrets_printer, hdl=hdl, args=args)"
   ]
  },
  {
   "attachments": {},
   "cell_type": "markdown",
   "id": "45c3142e-4eb4-4ae7-9522-08fff5207d1f",
   "metadata": {
    "jupyter": {
     "source_hidden": false
    },
    "name": "Step 2A",
    "orderProperties": [],
    "tags": [],
    "title": "Step 2A"
   },
   "source": [
    "<h3 id=\"Create-List-of-Unused-Secrets\">Create List of Unused Secrets</h3>\n",
    "<p>This action filters regions that have no unused secrets and creates a list of those that have them.</p>\n",
    "<blockquote>\n",
    "<p>This action takes the following parameters: <code>None</code></p>\n",
    "</blockquote>\n",
    "<blockquote>\n",
    "<p>This action captures the following output: <code>all_unused_secrets</code></p>\n",
    "</blockquote>"
   ]
  },
  {
   "cell_type": "code",
   "execution_count": 7,
   "id": "6a10e980-9f17-4436-9166-90ea130aa316",
   "metadata": {
    "collapsed": true,
    "credentialsJson": {},
    "customAction": true,
    "execution_data": {
     "last_date_success_run_cell": "2023-04-18T13:49:30.460Z"
    },
    "jupyter": {
     "outputs_hidden": true,
     "source_hidden": true
    },
    "name": "Create List of Unused Secrets",
    "orderProperties": [],
    "tags": [],
    "title": "Create List of Unused Secrets"
   },
   "outputs": [],
   "source": [
    "all_unused_secrets = []\n",
    "try:\n",
    "    if unused_secrets[0] == False:\n",
    "        for secret in unused_secrets[1]:\n",
    "            all_unused_secrets.append(secret)\n",
    "except Exception as e:\n",
    "    if secret_names:\n",
    "        for name in secret_names:\n",
    "            data_dict = {}\n",
    "            data_dict[\"region\"] = region\n",
    "            data_dict[\"secret_name\"] = name\n",
    "            all_unused_secrets.append(data_dict)\n",
    "    else:\n",
    "        raise Exception(e)"
   ]
  },
  {
   "attachments": {},
   "cell_type": "markdown",
   "id": "978d3b61-2fd9-461d-89bd-534d2dcf3b63",
   "metadata": {
    "jupyter": {
     "source_hidden": false
    },
    "name": "Step 2",
    "orderProperties": [],
    "tags": [],
    "title": "Step 2"
   },
   "source": [
    "<h3 id=\"Delete-unused-Secrets\"><a id=\"2\" target=\"_self\" rel=\"nofollow\"></a>Delete unused Secrets<a class=\"jp-InternalAnchorLink\" href=\"#Delete-unused-Secrets\" target=\"_self\">&para;</a></h3>\n",
    "<p>This action deleted unused secrets found in Step 1.&nbsp;</p>\n",
    "<blockquote>\n",
    "<p>This action takes the following parameters: <code>region, secret_name</code></p>\n",
    "</blockquote>"
   ]
  },
  {
   "cell_type": "code",
   "execution_count": null,
   "id": "2def0b0d-772b-4bee-896e-98463a564477",
   "metadata": {
    "accessType": "ACCESS_TYPE_UNSPECIFIED",
    "actionBashCommand": false,
    "actionCategories": [
     "CATEGORY_TYPE_DEVOPS",
     "CATEGORY_TYPE_SRE",
     "CATEGORY_TYPE_AWS"
    ],
    "actionIsCheck": false,
    "actionNeedsCredential": true,
    "actionNextHop": [],
    "actionNextHopParameterMapping": {},
    "actionOutputType": "",
    "actionRequiredLinesInCode": [],
    "actionSupportsIteration": true,
    "actionSupportsPoll": true,
    "action_modified": false,
    "action_uuid": "e83805f8b044c82cabcec54003ce692f54ab8781b70d6fde24b9915cb2b166a7",
    "checkEnabled": false,
    "condition_enabled": true,
    "continueOnError": true,
    "createTime": "1970-01-01T00:00:00Z",
    "credentialsJson": {},
    "currentVersion": "0.1.0",
    "description": "AWS Delete Secret",
    "id": 242,
    "index": 242,
    "inputData": [
     {
      "region": {
       "constant": false,
       "value": "\"iter.get(\\\\\"region\\\\\")\""
      },
      "secret_name": {
       "constant": false,
       "value": "\"iter.get(\\\\\"secret_name\\\\\")\""
      }
     }
    ],
    "inputschema": [
     {
      "properties": {
       "region": {
        "description": "AWS Region.",
        "title": "Region",
        "type": "string"
       },
       "secret_name": {
        "description": "Name of the secret to be deleted.",
        "title": "Secret Name",
        "type": "string"
       }
      },
      "required": [
       "secret_name",
       "region"
      ],
      "title": "aws_delete_secret",
      "type": "object"
     }
    ],
    "isUnskript": false,
    "iterData": [
     {
      "iter_enabled": true,
      "iter_item": {
       "region": "region",
       "secret_name": "secret_name"
      },
      "iter_list": {
       "constant": false,
       "objectItems": true,
       "value": "all_unused_secrets"
      }
     }
    ],
    "jupyter": {
     "source_hidden": true
    },
    "legotype": "LEGO_TYPE_AWS",
    "name": "AWS Delete Secret",
    "nouns": [],
    "orderProperties": [
     "secret_name",
     "region"
    ],
    "output": {
     "type": ""
    },
    "printOutput": true,
    "startcondition": "if len(all_unused_secrets)!=0",
    "tags": [
     "aws_delete_secret"
    ],
    "verbs": []
   },
   "outputs": [],
   "source": [
    "##\n",
    "# Copyright (c) 2023 unSkript, Inc\n",
    "# All rights reserved.\n",
    "##\n",
    "from pydantic import BaseModel, Field\n",
    "from typing import Dict\n",
    "import pprint\n",
    "\n",
    "\n",
    "from beartype import beartype\n",
    "@beartype\n",
    "def aws_delete_secret_printer(output):\n",
    "    if output is None:\n",
    "        return\n",
    "    pprint.pprint(output)\n",
    "\n",
    "\n",
    "@beartype\n",
    "def aws_delete_secret(handle, region: str, secret_name: str) -> Dict:\n",
    "    \"\"\"aws_delete_secret Dict with secret details.\n",
    "\n",
    "        :type handle: object\n",
    "        :param handle: Object returned from Task Validate\n",
    "\n",
    "        :type secret_name: string\n",
    "        :param secret_name: Name of the secret to be deleted.\n",
    "\n",
    "        :type region: string\n",
    "        :param region: AWS Region.\n",
    "\n",
    "        :rtype: Dict with secret details.\n",
    "    \"\"\"\n",
    "    try:\n",
    "        secrets_client = handle.client('secretsmanager', region_name=region)\n",
    "        response = secrets_client.delete_secret(SecretId=secret_name)\n",
    "        return response\n",
    "    except Exception as e:\n",
    "        raise Exception(e)\n",
    "\n",
    "\n",
    "task = Task(Workflow())\n",
    "task.configure(continueOnError=True)\n",
    "task.configure(inputParamsJson='''{\n",
    "    \"region\": \"iter.get(\\\\\"region\\\\\")\",\n",
    "    \"secret_name\": \"iter.get(\\\\\"secret_name\\\\\")\"\n",
    "    }''')\n",
    "task.configure(iterJson='''{\n",
    "    \"iter_enabled\": true,\n",
    "    \"iter_list_is_const\": false,\n",
    "    \"iter_list\": \"all_unused_secrets\",\n",
    "    \"iter_parameter\": [\"region\",\"secret_name\"]\n",
    "    }''')\n",
    "task.configure(conditionsJson='''{\n",
    "    \"condition_enabled\": true,\n",
    "    \"condition_cfg\": \"if len(all_unused_secrets)!=0\",\n",
    "    \"condition_result\": true\n",
    "    }''')\n",
    "\n",
    "task.configure(printOutput=True)\n",
    "(err, hdl, args) = task.validate(vars=vars())\n",
    "if err is None:\n",
    "    task.execute(aws_delete_secret, lego_printer=aws_delete_secret_printer, hdl=hdl, args=args)"
   ]
  },
  {
   "attachments": {},
   "cell_type": "markdown",
   "id": "44a6cf05-385b-445d-a503-ad4aa607a568",
   "metadata": {
    "jupyter": {
     "source_hidden": false
    },
    "name": "Conclusion",
    "orderProperties": [],
    "tags": [],
    "title": "Conclusion"
   },
   "source": [
    "<h3 id=\"Conclusion\">Conclusion</h3>\n",
    "<p>In this Runbook, we were able to filter unused secrets and delete those keys. To view the full platform capabilities of unSkript please visit&nbsp;<a href=\"https://us.app.unskript.io\" target=\"_blank\" rel=\"noopener\">us.app.unskript.io</a></p>"
   ]
  }
 ],
 "metadata": {
  "execution_data": {
   "runbook_name": "Delete Unused AWS Secrets",
   "parameters": [
    "region",
    "threshold_days"
   ]
  },
  "kernelspec": {
   "display_name": "unSkript (Build: 1166)",
   "language": "python",
   "name": "python3"
  },
  "language_info": {
   "codemirror_mode": {
    "name": "ipython",
    "version": 3
   },
   "file_extension": ".py",
   "mimetype": "text/x-python",
   "name": "python",
   "nbconvert_exporter": "python",
   "pygments_lexer": "ipython3",
   "version": "3.9.6"
  },
  "outputParameterSchema": {
   "properties": {},
   "required": [],
   "title": "Schema",
   "type": "object"
  },
  "parameterSchema": {
   "properties": {
    "region": {
     "description": "AWS Regions to get the secrets from. Eg: us-west-2. If nothing is given all regions will be considered.",
     "title": "region",
     "type": "string"
    },
    "secret_names": {
     "description": "List of AWS Secret Names. Eg: [\"sbox-alex/mongodbsecret\",\"user1/importsecret\"]",
     "title": "secret_names",
     "type": "array"
    },
    "threshold_days": {
     "default": "30",
     "description": "The threshold number of days to check the last use of the secret.",
     "title": "threshold_days",
     "type": "string"
    }
   },
   "required": [],
   "title": "Schema",
   "type": "object"
  },
  "vscode": {
   "interpreter": {
    "hash": "b0fa6594d8f4cbf19f97940f81e996739fb7646882a419484c72d19e05852a7e"
   }
  }
 },
 "nbformat": 4,
 "nbformat_minor": 5
}