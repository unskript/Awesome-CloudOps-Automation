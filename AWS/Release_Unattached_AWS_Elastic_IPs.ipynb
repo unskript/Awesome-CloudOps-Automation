{
 "cells": [
  {
   "cell_type": "markdown",
   "id": "82eebdfd-c880-40df-bd6d-5b546c92164b",
   "metadata": {
    "jupyter": {
     "source_hidden": false
    },
    "name": "Steps Overview",
    "orderProperties": [],
    "tags": [],
    "title": "Steps Overview"
   },
   "source": [
    "<center><img src=\"https://storage.googleapis.com/unskript-website/assets/favicon.png\" alt=\"unSkript.com\" width=\"100\" height=\"100\">\n",
    "<h1 id=\"unSkript-Runbooks&para;\">unSkript Runbooks</h1>\n",
    "<div class=\"alert alert-block alert-success\">\n",
    "<h3 id=\"Objective&para;\">Objective</h3>\n",
    "<br><strong style=\"color: #000000;\"><em>Find and Delete Unattached AWS Elastic IPs</em></strong></div>\n",
    "</center>\n",
    "<p>&nbsp;</p>\n",
    "<center>\n",
    "<h2 id=\"Release-Unattached-AWS-Elastic-IPs\"><strong><u>Release Unattached AWS Elastic IPs</u></strong></h2>\n",
    "</center>\n",
    "<h1 id=\"Steps-Overview\">Steps Overview</h1>\n",
    "<p>1)<a href=\"#1\" target=\"_self\" rel=\"noopener\"> Find unattached Elastic IPs</a><br>2)<a href=\"#2\" target=\"_self\" rel=\"noopener\"> Delete unattached Elastic IPs</a></p>"
   ]
  },
  {
   "cell_type": "code",
   "execution_count": 25,
   "id": "1290c59b-9107-46c0-8f0b-8dce39e91ef9",
   "metadata": {
    "collapsed": true,
    "customAction": true,
    "execution_data": {
     "last_date_success_run_cell": "2023-04-20T10:15:19.472Z"
    },
    "jupyter": {
     "outputs_hidden": true,
     "source_hidden": true
    },
    "name": "Input Verification",
    "orderProperties": [],
    "tags": [],
    "title": "Input Verification",
    "credentialsJson": {}
   },
   "outputs": [],
   "source": [
    "if allocation_ids and not region:\n",
    "    raise SystemExit(\"Provide a region for the Allocation ID's!\")"
   ],
   "output": {}
  },
  {
   "cell_type": "markdown",
   "id": "93889351-e132-4fb5-9e3f-43fbba454161",
   "metadata": {
    "jupyter": {
     "source_hidden": false
    },
    "name": "Step 1A",
    "orderProperties": [],
    "tags": [],
    "title": "Step 1A"
   },
   "source": [
    "<h3 id=\"List-all-AWS-Regions\">List all AWS Regions</h3>\n",
    "<p>This action fetches all AWS Regions to execute Step 1\ud83d\udc47. This action will only execute if no <code>region</code> is provided.</p>\n",
    "<blockquote>\n",
    "<p>This action takes the following parameters: <code>None</code></p>\n",
    "</blockquote>\n",
    "<blockquote>\n",
    "<p>This action captures the following ouput: <code>region</code></p>\n",
    "</blockquote>"
   ]
  },
  {
   "cell_type": "code",
   "execution_count": 26,
   "id": "3b671c5d-5bc0-4b24-968e-a6af3964d9df",
   "metadata": {
    "actionBashCommand": false,
    "actionCategories": [
     "CATEGORY_TYPE_CLOUDOPS",
     "CATEGORY_TYPE_DEVOPS",
     "CATEGORY_TYPE_SRE",
     "CATEGORY_TYPE_AWS"
    ],
    "actionDescription": "List all available AWS Regions",
    "actionEntryFunction": "aws_list_all_regions",
    "actionIsCheck": false,
    "actionIsRemediation": false,
    "actionNeedsCredential": true,
    "actionNextHop": null,
    "actionNextHopParameterMapping": null,
    "actionNouns": [
     "regions",
     "aws"
    ],
    "actionOutputType": "ACTION_OUTPUT_TYPE_LIST",
    "actionSupportsIteration": true,
    "actionSupportsPoll": true,
    "actionTitle": "AWS List All Regions",
    "actionType": "LEGO_TYPE_AWS",
    "actionVerbs": [
     "list"
    ],
    "actionVersion": "1.0.0",
    "action_modified": false,
    "action_uuid": "708ea4af5f8fe7096a15b3a52c4a657606bab9e177386fad7a847341ed607d64",
    "collapsed": true,
    "condition_enabled": true,
    "description": "List all available AWS Regions",
    "execution_data": {
     "last_date_success_run_cell": "2023-04-20T10:15:28.039Z"
    },
    "id": 1,
    "index": 1,
    "inputschema": [
     {
      "properties": {},
      "title": "aws_list_all_regions",
      "type": "object"
     }
    ],
    "jupyter": {
     "outputs_hidden": true,
     "source_hidden": true
    },
    "language": "python",
    "legotype": "LEGO_TYPE_AWS",
    "name": "AWS List All Regions",
    "orderProperties": [],
    "outputParams": {
     "output_name": "region",
     "output_name_enabled": true,
     "output_runbook_enabled": false,
     "output_runbook_name": ""
    },
    "printOutput": true,
    "startcondition": "not region",
    "tags": [
     "aws_list_all_regions"
    ],
    "uuid": "708ea4af5f8fe7096a15b3a52c4a657606bab9e177386fad7a847341ed607d64",
    "version": "1.0.0",
    "credentialsJson": {}
   },
   "outputs": [],
   "source": [
    "#\n",
    "# Copyright (c) 2021 unSkript.com\n",
    "# All rights reserved.\n",
    "#\n",
    "\n",
    "from pydantic import BaseModel, Field\n",
    "from typing import Dict, List\n",
    "import pprint\n",
    "\n",
    "from beartype import beartype\n",
    "@beartype\n",
    "def aws_list_all_regions_printer(output):\n",
    "    if output is None:\n",
    "        return\n",
    "    pprint.pprint(output)\n",
    "\n",
    "\n",
    "@beartype\n",
    "def aws_list_all_regions(handle) -> List:\n",
    "    \"\"\"aws_list_all_regions lists all the AWS regions\n",
    "\n",
    "        :type handle: object\n",
    "        :param handle: Object returned from Task Validate\n",
    "\n",
    "        :rtype: Result List of result\n",
    "    \"\"\"\n",
    "\n",
    "    result = handle.aws_cli_command(\"aws ec2 --region us-west-2 describe-regions --all-regions --query 'Regions[].{Name:RegionName}' --output text\")\n",
    "    if result is None or result.returncode != 0:\n",
    "        print(\"Error while executing command : {}\".format(result))\n",
    "        return str()\n",
    "    result_op = list(result.stdout.split(\"\\n\"))\n",
    "    list_region = [x for x in result_op if x != '']\n",
    "    return list_region\n",
    "\n",
    "\n",
    "task = Task(Workflow())\n",
    "task.configure(conditionsJson='''{\n",
    "    \"condition_enabled\": true,\n",
    "    \"condition_cfg\": \"not region\",\n",
    "    \"condition_result\": true\n",
    "    }''')\n",
    "\n",
    "task.configure(outputName=\"region\")\n",
    "\n",
    "task.configure(printOutput=True)\n",
    "(err, hdl, args) = task.validate(vars=vars())\n",
    "if err is None:\n",
    "    task.execute(aws_list_all_regions, lego_printer=aws_list_all_regions_printer, hdl=hdl, args=args)"
   ],
   "output": {}
  },
  {
   "cell_type": "markdown",
   "id": "2020e8d0-ba3b-4c71-84b2-10917465a27e",
   "metadata": {
    "jupyter": {
     "source_hidden": false
    },
    "name": "Step 1",
    "orderProperties": [],
    "tags": [],
    "title": "Step 1"
   },
   "source": [
    "<h3 id=\"Find-unattached-Elastic-IPs\"><a id=\"1\" target=\"_self\" rel=\"nofollow\"></a>Find unattached Elastic IPs</h3>\n",
    "<p>Using unSkript's Find unattached Elastic IPs action, we will find unattahched Elastic IPs which don't have any instances associated to them.</p>\n",
    "<blockquote>\n",
    "<p>This action takes the following parameters: <code>region</code></p>\n",
    "</blockquote>\n",
    "<blockquote>\n",
    "<p>This action captures the following output: <code>unused_ips</code></p>\n",
    "</blockquote>"
   ]
  },
  {
   "cell_type": "code",
   "execution_count": 27,
   "id": "bc29114d-0a9e-452e-a3db-fb0167043b21",
   "metadata": {
    "actionBashCommand": false,
    "actionCategories": [
     "CATEGORY_TYPE_DEVOPS",
     "CATEGORY_TYPE_SRE",
     "CATEGORY_TYPE_AWS",
     "CATEGORY_TYPE_AWS_EC2"
    ],
    "actionDescription": "This action lists Elastic IP address and check if it is associated with an instance or network interface.",
    "actionEntryFunction": "aws_list_unattached_elastic_ips",
    "actionIsCheck": true,
    "actionIsRemediation": false,
    "actionNeedsCredential": true,
    "actionNextHop": [],
    "actionNextHopParameterMapping": {},
    "actionNouns": null,
    "actionOutputType": "ACTION_OUTPUT_TYPE_LIST",
    "actionSupportsIteration": true,
    "actionSupportsPoll": true,
    "actionTitle": "AWS List Unattached Elastic IPs",
    "actionType": "LEGO_TYPE_AWS",
    "actionVerbs": null,
    "actionVersion": "1.0.0",
    "action_modified": false,
    "action_uuid": "9f378662591138c29993d482db1c391aa2d154ffc7142b27824dc2766a5e2a69",
    "collapsed": true,
    "condition_enabled": true,
    "continueOnError": true,
    "description": "This action lists Elastic IP address and check if it is associated with an instance or network interface.",
    "execution_data": {
     "last_date_success_run_cell": "2023-04-20T10:16:00.321Z"
    },
    "id": 1,
    "index": 1,
    "inputData": [
     {
      "region": {
       "constant": false,
       "value": "iter_item"
      }
     }
    ],
    "inputschema": [
     {
      "properties": {
       "region": {
        "default": "",
        "description": "AWS Region.",
        "title": "Region",
        "type": "string"
       }
      },
      "required": [],
      "title": "aws_list_unattached_elastic_ips",
      "type": "object"
     }
    ],
    "iterData": [
     {
      "iter_enabled": true,
      "iter_item": "region",
      "iter_list": {
       "constant": false,
       "objectItems": false,
       "value": "region"
      }
     }
    ],
    "jupyter": {
     "outputs_hidden": true,
     "source_hidden": true
    },
    "language": "python",
    "legotype": "LEGO_TYPE_AWS",
    "name": "AWS List Unattached Elastic IPs",
    "orderProperties": [
     "region"
    ],
    "outputParams": {
     "output_name": "unused_ips",
     "output_name_enabled": true,
     "output_runbook_enabled": false,
     "output_runbook_name": ""
    },
    "printOutput": true,
    "startcondition": "not allocation_ips",
    "tags": [
     "aws_list_unattached_elastic_ips"
    ],
    "uuid": "9f378662591138c29993d482db1c391aa2d154ffc7142b27824dc2766a5e2a69",
    "version": "1.0.0",
    "credentialsJson": {}
   },
   "outputs": [],
   "source": [
    "##\n",
    "##  Copyright (c) 2023 unSkript, Inc\n",
    "##  All rights reserved.\n",
    "##\n",
    "from pydantic import BaseModel, Field\n",
    "from typing import Optional, Tuple\n",
    "from unskript.legos.aws.aws_list_all_regions.aws_list_all_regions import aws_list_all_regions\n",
    "import pprint\n",
    "\n",
    "\n",
    "from beartype import beartype\n",
    "@beartype\n",
    "def aws_list_unattached_elastic_ips_printer(output):\n",
    "    if output is None:\n",
    "        return\n",
    "\n",
    "    pprint.pprint(output)\n",
    "\n",
    "\n",
    "@beartype\n",
    "def aws_list_unattached_elastic_ips(handle, region: str = \"\") -> Tuple:\n",
    "    \"\"\"aws_list_unattached_elastic_ips Returns an array of unattached elastic IPs.\n",
    "\n",
    "        :type region: string\n",
    "        :param region: AWS Region.\n",
    "\n",
    "        :rtype: Tuple with status result and list of unattached elastic IPs.\n",
    "    \"\"\"\n",
    "    result = []\n",
    "    all_regions = [region]\n",
    "    if not region:\n",
    "        all_regions = aws_list_all_regions(handle)\n",
    "\n",
    "    for reg in all_regions:\n",
    "        try:\n",
    "            # Filtering the public_ip by region\n",
    "            ec2Client = handle.client('ec2', region_name=reg)\n",
    "            all_eips = ec2Client.describe_addresses()\n",
    "            for eip in all_eips[\"Addresses\"]:\n",
    "                vpc_data = {}\n",
    "                if 'AssociationId' not in eip:\n",
    "                    vpc_data[\"public_ip\"] = eip['PublicIp']\n",
    "                    vpc_data[\"allocation_id\"] = eip['AllocationId']\n",
    "                    vpc_data[\"region\"] = reg\n",
    "                    result.append(vpc_data)\n",
    "        except Exception as e:\n",
    "            pass\n",
    "\n",
    "    if len(result) != 0:\n",
    "        return (False, result)\n",
    "    else:\n",
    "        return (True, None)\n",
    "\n",
    "\n",
    "task = Task(Workflow())\n",
    "task.configure(continueOnError=True)\n",
    "task.configure(inputParamsJson='''{\n",
    "    \"region\": \"iter_item\"\n",
    "    }''')\n",
    "task.configure(iterJson='''{\n",
    "    \"iter_enabled\": true,\n",
    "    \"iter_list_is_const\": false,\n",
    "    \"iter_list\": \"region\",\n",
    "    \"iter_parameter\": \"region\"\n",
    "    }''')\n",
    "task.configure(conditionsJson='''{\n",
    "    \"condition_enabled\": true,\n",
    "    \"condition_cfg\": \"not allocation_ids\",\n",
    "    \"condition_result\": true\n",
    "    }''')\n",
    "task.configure(outputName=\"unused_ips\")\n",
    "task.configure(printOutput=True)\n",
    "(err, hdl, args) = task.validate(vars=vars())\n",
    "if err is None:\n",
    "    task.execute(aws_list_unattached_elastic_ips, lego_printer=aws_list_unattached_elastic_ips_printer, hdl=hdl, args=args)"
   ],
   "output": {}
  },
  {
   "cell_type": "markdown",
   "id": "a311041f-620a-4b6b-914f-e52c6c3a71f4",
   "metadata": {
    "jupyter": {
     "source_hidden": false
    },
    "name": "Step 2A",
    "orderProperties": [],
    "tags": [],
    "title": "Step 2A"
   },
   "source": [
    "<h3 id=\"Create-List-of-unattached-Elastic-IPs\">Create List of unattached Elastic IPs</h3>\n",
    "<p>This action filters regions that have no unattached Elastic IPs and creates a list of those that have them.</p>\n",
    "<blockquote>\n",
    "<p>This action takes the following parameters: <code>None</code></p>\n",
    "</blockquote>\n",
    "<blockquote>\n",
    "<p>This action captures the following output: <code>all_unused_ips</code></p>\n",
    "</blockquote>"
   ]
  },
  {
   "cell_type": "code",
   "execution_count": 28,
   "id": "b85ce542-bdf0-44d2-9e75-213002d5c036",
   "metadata": {
    "collapsed": true,
    "customAction": true,
    "execution_data": {
     "last_date_success_run_cell": "2023-04-20T10:16:03.026Z"
    },
    "jupyter": {
     "outputs_hidden": true,
     "source_hidden": true
    },
    "name": "Create List of Unallocated Elastic IPs",
    "orderProperties": [],
    "tags": [],
    "title": "Create List of Unallocated Elastic IPs",
    "credentialsJson": {}
   },
   "outputs": [],
   "source": [
    "all_unused_ips = []\n",
    "dummy = []\n",
    "try:\n",
    "    for reg,res in unused_ips.items():\n",
    "        if res[0]==False:\n",
    "            if len(res[1])!=0:\n",
    "                dummy = res[1]\n",
    "                for x in dummy:\n",
    "                    all_unused_ips.append(x)\n",
    "except Exception:\n",
    "    for ids in allocation_ids:\n",
    "        data_dict = {}\n",
    "        data_dict[\"reg\"] = region[0]\n",
    "        data_dict[\"allocation_id\"] = ids\n",
    "        all_unused_ips.append(data_dict)\n",
    "print(all_unused_ips)\n",
    "task.configure(outputName=\"all_unused_ips\")"
   ],
   "output": {}
  },
  {
   "cell_type": "markdown",
   "id": "9fb3704a-9b19-49c4-96ab-a982217bbcd3",
   "metadata": {
    "jupyter": {
     "source_hidden": false
    },
    "name": "Step 2",
    "orderProperties": [],
    "tags": [],
    "title": "Step 2"
   },
   "source": [
    "<h3 id=\"Delete-unattached-Elastic-IPs\"><a id=\"2\" target=\"_self\" rel=\"nofollow\"></a>Delete unattached Elastic IPs</h3>\n",
    "<p>This action deleted unattached Elastic IPs found in Step 1.&nbsp;</p>\n",
    "<blockquote>\n",
    "<p>This action takes the following parameters:&nbsp;<code>region, allocation_id</code></p>\n",
    "</blockquote>"
   ]
  },
  {
   "cell_type": "code",
   "execution_count": null,
   "id": "4ca7a324-cd13-41d6-888f-643709c35d21",
   "metadata": {
    "actionBashCommand": false,
    "actionCategories": [
     "CATEGORY_TYPE_DEVOPS",
     "CATEGORY_TYPE_SRE",
     "CATEGORY_TYPE_AWS"
    ],
    "actionDescription": "AWS Release Elastic IP for both VPC and Standard",
    "actionEntryFunction": "aws_release_elastic_ip",
    "actionIsCheck": false,
    "actionIsRemediation": false,
    "actionNeedsCredential": true,
    "actionNextHop": null,
    "actionNextHopParameterMapping": null,
    "actionNouns": null,
    "actionOutputType": "ACTION_OUTPUT_TYPE_DICT",
    "actionSupportsIteration": true,
    "actionSupportsPoll": true,
    "actionTitle": "AWS Release Elastic IP",
    "actionType": "LEGO_TYPE_AWS",
    "actionVerbs": null,
    "actionVersion": "1.0.0",
    "action_modified": false,
    "action_uuid": "20a5f7f3c28da1a98b78fdbc2ca582dd30c1b5a3f57bcfc9da691a3182a332c3",
    "collapsed": true,
    "condition_enabled": true,
    "continueOnError": true,
    "description": "AWS Release Elastic IP for both VPC and Standard",
    "id": 2,
    "index": 2,
    "inputData": [
     {
      "allocation_id": {
       "constant": false,
       "value": "\"iter.get(\\\\\"allocation_id\\\\\")\""
      },
      "region": {
       "constant": false,
       "value": "\"iter.get(\\\\\"region\\\\\")\""
      }
     }
    ],
    "inputschema": [
     {
      "properties": {
       "allocation_id": {
        "description": "Allocation ID of the Elastic IP to release.",
        "title": "Allocation ID",
        "type": "string"
       },
       "region": {
        "description": "AWS Region.",
        "title": "Region",
        "type": "string"
       }
      },
      "required": [
       "allocation_id",
       "region"
      ],
      "title": "aws_release_elastic_ip",
      "type": "object"
     }
    ],
    "iterData": [
     {
      "iter_enabled": true,
      "iter_item": {
       "allocation_id": "allocation_id",
       "region": "region"
      },
      "iter_list": {
       "constant": false,
       "objectItems": true,
       "value": "all_unused_ips"
      }
     }
    ],
    "jupyter": {
     "outputs_hidden": true,
     "source_hidden": true
    },
    "language": "python",
    "legotype": "LEGO_TYPE_AWS",
    "name": "AWS Release Elastic IP",
    "orderProperties": [
     "allocation_id",
     "region"
    ],
    "printOutput": true,
    "startcondition": "len(all_unused_ips)!=0",
    "tags": [
     "aws_release_elastic_ip"
    ],
    "uuid": "20a5f7f3c28da1a98b78fdbc2ca582dd30c1b5a3f57bcfc9da691a3182a332c3",
    "version": "1.0.0",
    "credentialsJson": {}
   },
   "outputs": [],
   "source": [
    "##\n",
    "# Copyright (c) 2023 unSkript, Inc\n",
    "# All rights reserved.\n",
    "##\n",
    "from pydantic import BaseModel, Field\n",
    "from typing import Dict\n",
    "import pprint\n",
    "\n",
    "\n",
    "from beartype import beartype\n",
    "@beartype\n",
    "def aws_release_elastic_ip_printer(output):\n",
    "    if output is None:\n",
    "        return\n",
    "    pprint.pprint(output)\n",
    "\n",
    "\n",
    "@beartype\n",
    "def aws_release_elastic_ip(handle, region: str, allocation_id: str) -> Dict:\n",
    "    \"\"\"aws_release_elastic_ip release elastic ip.\n",
    "\n",
    "        :type allocation_id: string\n",
    "        :param allocation_id: Allocation ID of the Elastic IP to release.\n",
    "\n",
    "        :type region: string\n",
    "        :param region: AWS Region.\n",
    "\n",
    "        :rtype: Dict with the release elastic ip info.\n",
    "    \"\"\"\n",
    "    try:\n",
    "        ec2_Client = handle.client('ec2', region_name=region)\n",
    "        response = ec2_Client.release_address(AllocationId=allocation_id)\n",
    "        return response\n",
    "    except Exception as e:\n",
    "        raise Exception(e)\n",
    "\n",
    "\n",
    "task = Task(Workflow())\n",
    "task.configure(continueOnError=True)\n",
    "task.configure(inputParamsJson='''{\n",
    "    \"allocation_id\": \"iter.get(\\\\\"allocation_id\\\\\")\",\n",
    "    \"region\": \"iter.get(\\\\\"region\\\\\")\"\n",
    "    }''')\n",
    "task.configure(iterJson='''{\n",
    "    \"iter_enabled\": true,\n",
    "    \"iter_list_is_const\": false,\n",
    "    \"iter_list\": \"all_unused_ips\",\n",
    "    \"iter_parameter\": [\"allocation_id\",\"region\"]\n",
    "    }''')\n",
    "task.configure(conditionsJson='''{\n",
    "    \"condition_enabled\": true,\n",
    "    \"condition_cfg\": \"len(all_unused_ips)!=0\",\n",
    "    \"condition_result\": true\n",
    "    }''')\n",
    "\n",
    "task.configure(printOutput=True)\n",
    "(err, hdl, args) = task.validate(vars=vars())\n",
    "if err is None:\n",
    "    task.execute(aws_release_elastic_ip, lego_printer=aws_release_elastic_ip_printer, hdl=hdl, args=args)"
   ],
   "output": {}
  },
  {
   "cell_type": "markdown",
   "id": "9c7430c8-3660-45bd-90ef-9ceab77e3daa",
   "metadata": {
    "jupyter": {
     "source_hidden": false
    },
    "name": "Conclusion",
    "orderProperties": [],
    "tags": [],
    "title": "Conclusion"
   },
   "source": [
    "<h3 id=\"Conclusion&para;\">Conclusion</h3>\n",
    "<p>In this Runbook, we were able to check for any unattached Elastic IP (EIP) addresses in our AWS account and release (remove) them in order to lower the cost of your monthly AWS bill. To view the full platform capabilities of unSkript please visit&nbsp;<a href=\"https://us.app.unskript.io\" target=\"_blank\" rel=\"noopener\">us.app.unskript.io</a></p>"
   ]
  }
 ],
 "metadata": {
  "execution_data": {
   "runbook_name": "Release Unattached AWS Elastic IPs",
   "parameters": null
  },
  "kernelspec": {
   "display_name": "unSkript (Build: 1084)",
   "language": "python",
   "name": "python3"
  },
  "language_info": {
   "codemirror_mode": {
    "name": "ipython",
    "version": 3
   },
   "file_extension": ".py",
   "mimetype": "text/x-python",
   "name": "python",
   "nbconvert_exporter": "python",
   "pygments_lexer": "ipython3",
   "version": "3.10.6"
  },
  "outputParameterSchema": {
   "properties": {},
   "required": [],
   "title": "Schema",
   "type": "object"
  },
  "parameterSchema": {
   "properties": {
    "allocation_ids": {
     "description": "List of IDs that AWS assigns to represent the allocation of the Elastic IP address for use with instances in a VPC.",
     "title": "allocation_ids",
     "type": "array"
    },
    "region": {
     "description": "AWS Region(s) to search for unattached Elastic IPs. Eg: [\"us-west-2\",\"ap-south-1\"]",
     "title": "region",
     "type": "array"
    }
   },
   "required": [],
   "title": "Schema",
   "type": "object"
  },
  "parameterValues": {},
  "vscode": {
   "interpreter": {
    "hash": "b0fa6594d8f4cbf19f97940f81e996739fb7646882a419484c72d19e05852a7e"
   }
  }
 },
 "nbformat": 4,
 "nbformat_minor": 5
}