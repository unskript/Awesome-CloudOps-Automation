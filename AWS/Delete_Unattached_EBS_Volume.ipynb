{
 "cells": [
  {
   "cell_type": "markdown",
   "id": "b526603d-f9fd-4074-adc3-f83dfee4ec85",
   "metadata": {
    "jupyter": {
     "source_hidden": false
    },
    "name": "Delete Unattached EBS Volume",
    "orderProperties": [],
    "tags": [],
    "title": "Delete Unattached EBS Volume"
   },
   "source": [
    "<img src=\"https://unskript.com/assets/favicon.png\" alt=\"unSkript.com\" width=\"100\" height=\"100\"/> \n",
    "<h1> unSkript Runbooks </h1>\n",
    "<div class=\"alert alert-block alert-success\">\n",
    "    <b> This runbook demonstrates How Delete Unattached EBS Volume using unSkript legos.</b>\n",
    "</div>\n",
    "\n",
    "<br>\n",
    "\n",
    "<center><h2>Delete Unattached EBS Volume</h2></center>\n",
    "\n",
    "# Steps Overview\n",
    "    1) Collecting the all EBS volumes which don't have any attachments.\n",
    "    2) Delete the EBS volumes."
   ]
  },
  {
   "cell_type": "markdown",
   "id": "28c2c9a7-dc3a-4bd7-a1dc-46f63d3edc7a",
   "metadata": {
    "jupyter": {
     "source_hidden": false
    },
    "name": "Filter Unattached EBS Volumes",
    "orderProperties": [],
    "tags": [],
    "title": "Filter Unattached EBS Volumes"
   },
   "source": [
    "Here we will use unSkript Filter AWS Unattached EBS Volume Lego. This lego takes region as input. This input is used to filter and collect the EBS volumes which don't have any attachments."
   ]
  },
  {
   "cell_type": "code",
   "execution_count": 3,
   "id": "1b4c48dc-cfeb-4c1b-8c3c-e0a4c962b254",
   "metadata": {
    "accessType": "ACCESS_TYPE_UNSPECIFIED",
    "actionBashCommand": false,
    "actionNeedsCredential": true,
    "actionRequiredLinesInCode": [],
    "actionSupportsIteration": true,
    "actionSupportsPoll": true,
    "action_uuid": "abe9fc82a53b80dc1dd4d5a89e31d22b0338e73e86d2ca859576f38cc6d19f48",
    "continueOnError": false,
    "createTime": "1970-01-01T00:00:00Z",
    "credentialsJson": {},
    "currentVersion": "0.1.0",
    "description": "Filter AWS EC2 Instance by Tag",
    "execution_data": {
     "last_date_success_run_cell": "2022-09-05T15:53:13.508Z"
    },
    "id": 155,
    "index": 155,
    "inputData": [
     {
      "region": {
       "constant": false,
       "value": "Region"
      }
     }
    ],
    "inputschema": [
     {
      "properties": {
       "region": {
        "default": "",
        "description": "AWS Region.",
        "title": "Region",
        "type": "string"
       }
      },
      "required": [
       "tag_key",
       "tag_value",
       "region"
      ],
      "title": "aws_filter_ec2_by_tags",
      "type": "object"
     }
    ],
    "jupyter": {
     "source_hidden": true
    },
    "legotype": "LEGO_TYPE_AWS",
    "name": "Filter AWS Unattached EBS Volume",
    "nouns": [
     "aws",
     "ec2",
     "instances",
     "tag"
    ],
    "orderProperties": [
     "region"
    ],
    "output": {
     "type": ""
    },
    "outputParams": {
     "output_name": "UnattachedVolumes",
     "output_name_enabled": true
    },
    "tags": [
     "aws_filter_ec2_by_tags"
    ],
    "title": "Filter AWS Unattached EBS Volume",
    "verbs": [
     "filter"
    ]
   },
   "outputs": [],
   "source": [
    "##\n",
    "##  Copyright (c) 2021 unSkript, Inc\n",
    "##  All rights reserved.\n",
    "##\n",
    "from pydantic import BaseModel, Field\n",
    "from typing import List\n",
    "import pprint\n",
    "\n",
    "from beartype import beartype\n",
    "\n",
    "@beartype\n",
    "def aws_filter_ebs_unattached_volumes_printer(output):\n",
    "    if output is None:\n",
    "        return\n",
    "    pprint.pprint({\"Volume IDs\": output})\n",
    "\n",
    "\n",
    "@beartype\n",
    "def aws_filter_ebs_unattached_volumes(handle, region: str) -> List:\n",
    "    \"\"\"aws_filter_ebs_unattached_volumes Returns an array of ebs volumes.\n",
    "\n",
    "        :type region: string\n",
    "        :param region: Used to filter the volume for specific region.\n",
    "\n",
    "        :rtype: Result of the API in the List form.\n",
    "    \"\"\"\n",
    "    # Filtering the volume by region\n",
    "    ec2Client = handle.resource('ec2',region_name=region)\n",
    "    volumes = ec2Client.volumes.all()\n",
    "\n",
    "    # collecting the volumes which has zero attachments\n",
    "    result=[]\n",
    "    for volume in volumes:\n",
    "        if len(volume.attachments) == 0:\n",
    "            result.append(volume.id)\n",
    "\n",
    "    return result\n",
    "\n",
    "\n",
    "task = Task(Workflow())\n",
    "task.configure(inputParamsJson='''{\n",
    "    \"region\": \"Region\"\n",
    "    }''')\n",
    "task.configure(outputName=\"UnattachedVolumes\")\n",
    "\n",
    "(err, hdl, args) = task.validate(vars=vars())\n",
    "if err is None:\n",
    "    task.execute(aws_filter_ebs_unattached_volumes, lego_printer=aws_filter_ebs_unattached_volumes_printer, hdl=hdl, args=args)"
   ]
  },
  {
   "cell_type": "markdown",
   "id": "54642fc9-18bb-4cf6-b775-62779c9483ed",
   "metadata": {
    "jupyter": {
     "source_hidden": false
    },
    "name": "Delete EBS Volume",
    "orderProperties": [],
    "tags": [],
    "title": "Delete EBS Volume"
   },
   "source": [
    "Here we will use unSkript Delete EBS Volume Lego. This lego takes region and volume_id as input. This input is used to delete the EBS volume."
   ]
  },
  {
   "cell_type": "code",
   "execution_count": 11,
   "id": "eb18500e-7da7-440e-b7d2-bfa6273a0c14",
   "metadata": {
    "accessType": "ACCESS_TYPE_UNSPECIFIED",
    "actionBashCommand": false,
    "actionNeedsCredential": true,
    "actionRequiredLinesInCode": [],
    "actionSupportsIteration": true,
    "actionSupportsPoll": true,
    "action_uuid": "8744e8836d7a0aff41120620fa4d703dacff25b0dbb5c9c7b87b83783c6c9d18",
    "condition_enabled": true,
    "continueOnError": true,
    "createTime": "1970-01-01T00:00:00Z",
    "credentialsJson": {},
    "currentVersion": "0.1.0",
    "description": " Terminate AWS Instances",
    "execution_data": {
     "last_date_success_run_cell": "2022-08-23T07:54:17.931Z"
    },
    "id": 187,
    "index": 187,
    "inputData": [
     {
      "region": {
       "constant": false,
       "value": "Region"
      },
      "volume_id": {
       "constant": false,
       "value": "iter_item"
      }
     }
    ],
    "inputschema": [
     {
      "properties": {
       "region": {
        "default": "",
        "description": "AWS Region of the instance.",
        "title": "Region",
        "type": "string"
       },
       "volume_id": {
        "default": "",
        "description": "EBS Volume ID",
        "title": "volume_id",
        "type": "string"
       }
      },
      "required": [
       "instance_ids",
       "region"
      ],
      "title": "aws_terminate_instance",
      "type": "object"
     }
    ],
    "iterData": [
     {
      "iter_enabled": true,
      "iter_item": "volume_id",
      "iter_list": {
       "constant": false,
       "objectItems": false,
       "value": "UnattachedVolumes"
      }
     }
    ],
    "jupyter": {
     "source_hidden": true
    },
    "legotype": "LEGO_TYPE_AWS",
    "name": "Delete EBS Volume",
    "nouns": [
     "aws",
     "instances"
    ],
    "orderProperties": [
     "region",
     "volume_id"
    ],
    "output": {
     "type": ""
    },
    "startcondition": "len(UnattachedVolumes) > 0",
    "tags": [
     "aws_terminate_instance"
    ],
    "title": "Delete EBS Volume",
    "verbs": [
     "terminate"
    ]
   },
   "outputs": [],
   "source": [
    "##\n",
    "# Copyright (c) 2021 unSkript, Inc\n",
    "# All rights reserved.\n",
    "##\n",
    "from typing import List, Dict\n",
    "from pydantic import BaseModel, Field\n",
    "import pprint\n",
    "\n",
    "\n",
    "from beartype import beartype\n",
    "@beartype\n",
    "def aws_delete_volumes_printer(output):\n",
    "    if output is None:\n",
    "        return\n",
    "    pprint.pprint(output)\n",
    "\n",
    "\n",
    "@beartype\n",
    "def aws_delete_volumes(handle, volume_id: str, region: str) -> List:\n",
    "    \"\"\"aws_filter_ebs_unattached_volumes Returns an array of ebs volumes.\n",
    "\n",
    "        :type region: string\n",
    "        :param region: Used to filter the volume for specific region.\n",
    "\n",
    "        :type volume_id: string\n",
    "        :param volume_id: Volume ID needed to delete particular volume.\n",
    "\n",
    "        :rtype: Result of the API in the List form.\n",
    "    \"\"\"\n",
    "    result = []\n",
    "    ec2Client = handle.client('ec2',region_name=region)\n",
    "\n",
    "    # Adding logic for deletion criteria\n",
    "    try:\n",
    "        response = ec2Client.delete_volume(VolumeId=volume_id,)\n",
    "        result.append(response)\n",
    "    except Exception as e:\n",
    "        result.append(e)\n",
    "\n",
    "    return result\n",
    "\n",
    "\n",
    "task = Task(Workflow())\n",
    "task.configure(continueOnError=True)\n",
    "task.configure(inputParamsJson='''{\n",
    "    \"region\": \"Region\",\n",
    "    \"volume_id\": \"iter_item\"\n",
    "    }''')\n",
    "task.configure(iterJson='''{\n",
    "    \"iter_enabled\": true,\n",
    "    \"iter_list_is_const\": false,\n",
    "    \"iter_list\": \"UnattachedVolumes\",\n",
    "    \"iter_parameter\": \"volume_id\"\n",
    "    }''')\n",
    "task.configure(conditionsJson='''{\n",
    "    \"condition_enabled\": true,\n",
    "    \"condition_cfg\": \"len(UnattachedVolumes) > 0\",\n",
    "    \"condition_result\": true\n",
    "    }''')\n",
    "(err, hdl, args) = task.validate(vars=vars())\n",
    "if err is None:\n",
    "    task.execute(aws_delete_volumes, lego_printer=aws_delete_volumes_printer, hdl=hdl, args=args)"
   ]
  },
  {
   "cell_type": "markdown",
   "id": "943ceb40-c278-45a7-81a0-d16a686d1db8",
   "metadata": {
    "jupyter": {
     "source_hidden": false
    },
    "name": "Conclusion",
    "orderProperties": [],
    "tags": [],
    "title": "Conclusion"
   },
   "source": [
    "In this Runbook, we demonstrated the use of unSkript's AWS legos to filter unattached EBS volumes and delete those. To view the full platform capabilities of unSkript please visit https://us.app.unskript.io "
   ]
  }
 ],
 "metadata": {
  "execution_data": {
   "environment_id": "1499f27c-6406-4fbd-bd1b-c6f92800018f",
   "environment_name": "Staging",
   "execution_id": "",
   "inputs_for_searched_lego": "",
   "notebook_id": "c0a9244b-0bb8-4c14-b065-89b61afed97e.ipynb",
   "parameters": null,
   "runbook_name": "Delete Unattached EBS Volume",
   "search_string": "",
   "show_tool_tip": false,
   "tenant_id": "982dba5f-d9df-48ae-a5bf-ec1fc94d4882",
   "tenant_url": "https://tenant-staging.alpha.unskript.io",
   "user_email_id": "harshal.bangre@unskript.com",
   "workflow_id": "f4081f69-f824-4791-9854-80bd1c8d301e"
  },
  "kernelspec": {
   "display_name": "Python 3.9.6 64-bit",
   "language": "python",
   "name": "python3"
  },
  "language_info": {
   "file_extension": ".py",
   "mimetype": "text/x-python",
   "name": "python",
   "pygments_lexer": "ipython3",
   "version": "3.9.6"
  },
  "nbdime-conflicts": {
   "local_diff": [
    {
     "diff": [
      {
       "diff": [
        {
         "diff": [
          {
           "key": 9,
           "op": "addrange",
           "valuelist": "7"
          },
          {
           "key": 9,
           "length": 1,
           "op": "removerange"
          },
          {
           "key": 12,
           "op": "addrange",
           "valuelist": "3"
          },
          {
           "key": 12,
           "length": 1,
           "op": "removerange"
          },
          {
           "key": 16,
           "op": "addrange",
           "valuelist": "te"
          },
          {
           "key": 16,
           "length": 2,
           "op": "removerange"
          },
          {
           "key": 19,
           "op": "addrange",
           "valuelist": "t"
          },
          {
           "key": 19,
           "length": 1,
           "op": "removerange"
          }
         ],
         "key": 0,
         "op": "patch"
        }
       ],
       "key": "display_name",
       "op": "patch"
      }
     ],
     "key": "kernelspec",
     "op": "patch"
    },
    {
     "diff": [
      {
       "diff": [
        {
         "key": 0,
         "op": "addrange",
         "valuelist": [
          "3.7.13"
         ]
        },
        {
         "key": 0,
         "length": 1,
         "op": "removerange"
        }
       ],
       "key": "version",
       "op": "patch"
      }
     ],
     "key": "language_info",
     "op": "patch"
    },
    {
     "diff": [
      {
       "diff": [
        {
         "diff": [
          {
           "key": 0,
           "op": "addrange",
           "valuelist": [
            "4bbe27a4ef15b3fedcd2e654ecc35fc9b20de5c40077b83d62753092d26a6932"
           ]
          },
          {
           "key": 0,
           "length": 1,
           "op": "removerange"
          }
         ],
         "key": "hash",
         "op": "patch"
        }
       ],
       "key": "interpreter",
       "op": "patch"
      }
     ],
     "key": "vscode",
     "op": "patch"
    }
   ],
   "remote_diff": [
    {
     "diff": [
      {
       "diff": [
        {
         "key": 0,
         "length": 1,
         "op": "removerange"
        }
       ],
       "key": "display_name",
       "op": "patch"
      }
     ],
     "key": "kernelspec",
     "op": "patch"
    },
    {
     "diff": [
      {
       "key": "version",
       "op": "remove"
      }
     ],
     "key": "language_info",
     "op": "patch"
    },
    {
     "key": "vscode",
     "op": "remove"
    }
   ]
  },
  "parameterSchema": {
   "properties": {
    "Region": {
     "default": "us-west-2",
     "description": "AWS Region",
     "title": "Region",
     "type": "string"
    }
   },
   "required": [],
   "title": "Schema",
   "type": "object"
  },
  "parameterValues": {
   "Region": "us-west-2"
  },
  "vscode": {
   "interpreter": {
    "hash": "31f2aee4e71d21fbe5cf8b01ff0e069b9275f58929596ceb00d14d90e3e16cd6"
   }
  }
 },
 "nbformat": 4,
 "nbformat_minor": 5
}
