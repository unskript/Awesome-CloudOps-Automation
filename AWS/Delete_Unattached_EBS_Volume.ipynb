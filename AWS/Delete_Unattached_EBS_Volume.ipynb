{
    "cells": [
        {
            "cell_type": "markdown",
            "id": "b526603d-f9fd-4074-adc3-f83dfee4ec85",
            "metadata": {
                "jupyter": {
                    "source_hidden": false
                },
                "name": "Runbook Overview",
                "orderProperties": [],
                "tags": [],
                "title": "Runbook Overview"
            },
            "source": [
                "<center>\n",
                "<img src=\"https://unskript.com/assets/favicon.png\" alt=\"unSkript.com\" width=\"100\" height=\"100\"/> \n",
                "<h1> unSkript Runbooks </h1>\n",
                "<div class=\"alert alert-block alert-success\">\n",
                "    <h3><b>Objective</b></h3>\n",
                "    <b>To delete unattached EBS volume using unSkript actions.</b>\n",
                "</div>\n",
                "\n",
                "<br>\n",
                "</center>\n",
                "<center><h2>Delete Unattached EBS Volume</h2></center>\n",
                "\n",
                "# Steps Overview\n",
                "   1)[Filter AWS Unattached EBS Volume](#1)</br>\n",
                "   2)[Create Snapshot Of EBS Volume](#2)</br>\n",
                "   3)[Delete EBS Volume](#3)"
            ]
        },
        {
            "cell_type": "markdown",
            "id": "28c2c9a7-dc3a-4bd7-a1dc-46f63d3edc7a",
            "metadata": {
                "jupyter": {
                    "source_hidden": false
                },
                "name": "Step-1",
                "orderProperties": [],
                "tags": [],
                "title": "Step-1"
            },
            "source": [
                "### <a id=\"1\">Filter Unattached EBS Volumes</a>\n",
                "Here we will use unSkript <b>Filter AWS Unattached EBS Volume</b> action. This action filters all the EBS volumes from the given region and returns a list of all the unattached EBS volumes.\n",
                "\n",
                ">Input parameters: `region`\n",
                "\n",
                ">Ouput variable: `unattached_volumes`"
            ]
        },
        {
            "cell_type": "code",
            "execution_count": 21,
            "id": "1b4c48dc-cfeb-4c1b-8c3c-e0a4c962b254",
            "metadata": {
                "accessType": "ACCESS_TYPE_UNSPECIFIED",
                "actionBashCommand": false,
                "actionNeedsCredential": true,
                "actionRequiredLinesInCode": [],
                "actionSupportsIteration": true,
                "actionSupportsPoll": true,
                "action_uuid": "abe9fc82a53b80dc1dd4d5a89e31d22b0338e73e86d2ca859576f38cc6d19f48",
                "continueOnError": false,
                "createTime": "1970-01-01T00:00:00Z",
                "credentialsJson": {
                },
                "currentVersion": "0.1.0",
                "description": "Filter AWS EC2 Instance by Tag",
                "execution_data": {
                    "last_date_success_run_cell": "2022-11-25T12:06:32.635Z"
                },
                "id": 155,
                "index": 155,
                "inputData": [
                    {
                        "region": {
                            "constant": false,
                            "value": "region"
                        }
                    }
                ],
                "inputschema": [
                    {
                        "properties": {
                            "region": {
                                "default": "",
                                "description": "AWS Region.",
                                "title": "Region",
                                "type": "string"
                            }
                        },
                        "required": [
                            "tag_key",
                            "tag_value",
                            "region"
                        ],
                        "title": "aws_filter_ec2_by_tags",
                        "type": "object"
                    }
                ],
                "jupyter": {
                    "source_hidden": true
                },
                "legotype": "LEGO_TYPE_AWS",
                "name": "Filter AWS Unattached EBS Volume",
                "nouns": [
                    "aws",
                    "ec2",
                    "instances",
                    "tag"
                ],
                "orderProperties": [
                    "region"
                ],
                "output": {
                    "type": ""
                },
                "outputParams": {
                    "output_name": "unattached_volumes",
                    "output_name_enabled": true
                },
                "tags": [
                    "aws_filter_ec2_by_tags"
                ],
                "title": "Filter AWS Unattached EBS Volume",
                "verbs": [
                    "filter"
                ]
            },
            "outputs": [],
            "source": [
                "##\n",
                "##  Copyright (c) 2021 unSkript, Inc\n",
                "##  All rights reserved.\n",
                "##\n",
                "from pydantic import BaseModel, Field\n",
                "from typing import List\n",
                "import pprint\n",
                "from beartype import beartype\n",
                "\n",
                "\n",
                "@beartype\n",
                "def aws_filter_ebs_unattached_volumes_printer(output):\n",
                "    if output is None:\n",
                "        return\n",
                "    pprint.pprint({\"Volume IDs\": output})\n",
                "\n",
                "\n",
                "@beartype\n",
                "def aws_filter_ebs_unattached_volumes(handle, region: str) -> List:\n",
                "    \"\"\"aws_filter_ebs_unattached_volumes Returns an array of ebs volumes.\n",
                "\n",
                "        :type region: string\n",
                "        :param region: Used to filter the volume for specific region.\n",
                "\n",
                "        :rtype: Result of the API in the List form.\n",
                "    \"\"\"\n",
                "    # Filtering the volume by region\n",
                "    ec2Client = handle.resource('ec2',region_name=region)\n",
                "    volumes = ec2Client.volumes.all()\n",
                "\n",
                "    # collecting the volumes which has zero attachments\n",
                "    result=[]\n",
                "    for volume in volumes:\n",
                "        if len(volume.attachments) == 0:\n",
                "            result.append(volume.id)\n",
                "\n",
                "    return result\n",
                "\n",
                "\n",
                "task = Task(Workflow())\n",
                "task.configure(inputParamsJson='''{\n",
                "    \"region\": \"region\"\n",
                "    }''')\n",
                "task.configure(outputName=\"unattached_volumes\")\n",
                "\n",
                "(err, hdl, args) = task.validate(vars=vars())\n",
                "if err is None:\n",
                "    task.execute(aws_filter_ebs_unattached_volumes, lego_printer=aws_filter_ebs_unattached_volumes_printer, hdl=hdl, args=args)"
            ]
        },
        {
            "cell_type": "markdown",
            "id": "5ecb5e4b-37b5-4c9d-8309-67b2707d2b32",
            "metadata": {
                "jupyter": {
                    "source_hidden": false
                },
                "name": "Step-2",
                "orderProperties": [],
                "tags": [],
                "title": "Step-2"
            },
            "source": [
                "### <a id=\"2\">Create Snapshot Of EBS Volume</a>\n",
                "Here we will use unSkript <b>Create Snapshot Of EBS Volume</b> action. In this action, we will back up the data stored in EBS volumes by passing the list of unattached EBS volumes from step 1 and creating a snapshot of the EBS volume of the EC2 instance.\n",
                "\n",
                ">Input parameters: `volume_id`, `region`\n",
                "\n",
                ">Ouput variable: `delete_status`"
            ]
        },
        {
            "cell_type": "code",
            "execution_count": 18,
            "id": "e88f1b96-2e7f-4e73-8d0a-5afc5711d95b",
            "metadata": {
                "accessType": "ACCESS_TYPE_UNSPECIFIED",
                "actionBashCommand": false,
                "actionNeedsCredential": true,
                "actionRequiredLinesInCode": [],
                "actionSupportsIteration": true,
                "actionSupportsPoll": true,
                "action_uuid": "4266daa1289928efa5884807be094fe6b8c28a3d454e3a5210dedc5945da990d",
                "condition_enabled": true,
                "continueOnError": true,
                "createTime": "1970-01-01T00:00:00Z",
                "credentialsJson": {
                },
                "currentVersion": "0.1.0",
                "description": "Delete AWS volumes by using Volume Id",
                "execution_data": {
                    "last_date_success_run_cell": "2022-11-25T12:05:09.802Z"
                },
                "id": 218,
                "index": 218,
                "inputData": [
                    {
                        "region": {
                            "constant": false,
                            "value": "region"
                        },
                        "volume_id": {
                            "constant": false,
                            "value": "iter_item"
                        }
                    }
                ],
                "inputschema": [
                    {
                        "properties": {
                            "region": {
                                "description": "AWS Region.",
                                "title": "Region",
                                "type": "string"
                            },
                            "volume_id": {
                                "description": "Volume ID.",
                                "title": "Volume ID",
                                "type": "string"
                            }
                        },
                        "required": [
                            "volume_id",
                            "region"
                        ],
                        "title": "aws_delete_volumes",
                        "type": "object"
                    }
                ],
                "iterData": [
                    {
                        "iter_enabled": true,
                        "iter_item": "volume_id",
                        "iter_list": {
                            "constant": false,
                            "objectItems": false,
                            "value": "unattached_volumes"
                        }
                    }
                ],
                "jupyter": {
                    "source_hidden": true
                },
                "legotype": "LEGO_TYPE_AWS",
                "name": "Create Snapshot Of EBS Volume",
                "nouns": [
                    "aws",
                    "volumes"
                ],
                "orderProperties": [
                    "volume_id",
                    "region"
                ],
                "output": {
                    "type": ""
                },
                "outputParams": {
                    "output_name": "snapshot_metadata",
                    "output_name_enabled": true
                },
                "startcondition": "create_snapshot == 'Yes' and len(unattached_volumes) > 0",
                "tags": [
                    "aws_delete_volumes"
                ],
                "title": "Create Snapshot Of EBS Volume",
                "verbs": [
                    "delete"
                ]
            },
            "outputs": [],
            "source": [
                "##\n",
                "##  Copyright (c) 2021 unSkript, Inc\n",
                "##  All rights reserved.\n",
                "##\n",
                "from pydantic import BaseModel, Field\n",
                "from typing import List\n",
                "import pprint\n",
                "from beartype import beartype\n",
                "\n",
                "\n",
                "@beartype\n",
                "def aws_create_volumes_snapshot_printer(output):\n",
                "    if output is None:\n",
                "        return\n",
                "    pprint.pprint(output)\n",
                "\n",
                "\n",
                "@beartype\n",
                "def aws_create_volumes_snapshot(handle, volume_id: str, region: str) -> List:\n",
                "    \"\"\"aws_create_volumes_snapshot Returns an list containing SnapshotId.\n",
                "\n",
                "        :type region: string\n",
                "        :param region: used to filter the volume for a given region.\n",
                "\n",
                "        :type volume_id: string\n",
                "        :param volume_id: Volume ID to create snapshot for given volume.\n",
                "\n",
                "        :rtype: List containing SnapshotId.\n",
                "    \"\"\"\n",
                "    result = []\n",
                "\n",
                "    ec2Client = handle.resource('ec2', region_name=region)\n",
                "\n",
                "    try:\n",
                "        response = ec2Client.create_snapshot(VolumeId=volume_id)\n",
                "        result.append(response)\n",
                "    except Exception as e:\n",
                "        result.append(e)\n",
                "\n",
                "    return result\n",
                "\n",
                "\n",
                "task = Task(Workflow())\n",
                "task.configure(continueOnError=True)\n",
                "task.configure(inputParamsJson='''{\n",
                "    \"region\": \"region\",\n",
                "    \"volume_id\": \"iter_item\"\n",
                "    }''')\n",
                "task.configure(iterJson='''{\n",
                "    \"iter_enabled\": true,\n",
                "    \"iter_list_is_const\": false,\n",
                "    \"iter_list\": \"unattached_volumes\",\n",
                "    \"iter_parameter\": \"volume_id\"\n",
                "    }''')\n",
                "task.configure(conditionsJson='''{\n",
                "    \"condition_enabled\": true,\n",
                "    \"condition_cfg\": \"create_snapshot == 'Yes' and len(unattached_volumes) > 0\",\n",
                "    \"condition_result\": true\n",
                "    }''')\n",
                "task.configure(outputName=\"snapshot_metadata\")\n",
                "(err, hdl, args) = task.validate(vars=vars())\n",
                "if err is None:\n",
                "    task.execute(aws_create_volumes_snapshot, lego_printer=aws_create_volumes_snapshot_printer, hdl=hdl, args=args)"
            ]
        },
        {
            "cell_type": "markdown",
            "id": "54642fc9-18bb-4cf6-b775-62779c9483ed",
            "metadata": {
                "jupyter": {
                    "source_hidden": false
                },
                "name": "Step-3",
                "orderProperties": [],
                "tags": [],
                "title": "Step-3"
            },
            "source": [
                "### <a id=\"3\">Delete EBS Volume</a>\n",
                "Here we will use unSkript <b>Delete EBS Volume</b> action. In this action, we will pass the list of unattached EBS volumes from step 1 and delete those volumes.\n",
                "\n",
                ">Input parameters: `volume_id`, `region`\n",
                "\n",
                ">Ouput variable: `delete_status`"
            ]
        },
        {
            "cell_type": "code",
            "execution_count": 19,
            "id": "eb18500e-7da7-440e-b7d2-bfa6273a0c14",
            "metadata": {
                "accessType": "ACCESS_TYPE_UNSPECIFIED",
                "actionBashCommand": false,
                "actionNeedsCredential": true,
                "actionRequiredLinesInCode": [],
                "actionSupportsIteration": true,
                "actionSupportsPoll": true,
                "action_uuid": "8744e8836d7a0aff41120620fa4d703dacff25b0dbb5c9c7b87b83783c6c9d18",
                "condition_enabled": true,
                "continueOnError": true,
                "createTime": "1970-01-01T00:00:00Z",
                "credentialsJson": {
                },
                "currentVersion": "0.1.0",
                "description": " Terminate AWS Instances",
                "execution_data": {
                    "last_date_success_run_cell": "2022-08-23T07:54:17.931Z"
                },
                "id": 187,
                "index": 187,
                "inputData": [
                    {
                        "region": {
                            "constant": false,
                            "value": "region"
                        },
                        "volume_id": {
                            "constant": false,
                            "value": "iter_item"
                        }
                    }
                ],
                "inputschema": [
                    {
                        "properties": {
                            "region": {
                                "default": "",
                                "description": "AWS Region of the instance.",
                                "title": "Region",
                                "type": "string"
                            },
                            "volume_id": {
                                "default": "",
                                "description": "EBS Volume ID",
                                "title": "volume_id",
                                "type": "string"
                            }
                        },
                        "required": [
                            "instance_ids",
                            "region"
                        ],
                        "title": "aws_terminate_instance",
                        "type": "object"
                    }
                ],
                "iterData": [
                    {
                        "iter_enabled": true,
                        "iter_item": "volume_id",
                        "iter_list": {
                            "constant": false,
                            "objectItems": false,
                            "value": "unattached_volumes"
                        }
                    }
                ],
                "jupyter": {
                    "source_hidden": true
                },
                "legotype": "LEGO_TYPE_AWS",
                "name": "Delete EBS Volume",
                "nouns": [
                    "aws",
                    "instances"
                ],
                "orderProperties": [
                    "region",
                    "volume_id"
                ],
                "output": {
                    "type": ""
                },
                "outputParams": {
                    "output_name": "delete_status",
                    "output_name_enabled": true
                },
                "startcondition": "len(unattached_volumes) > 0",
                "tags": [
                    "aws_terminate_instance"
                ],
                "title": "Delete EBS Volume",
                "verbs": [
                    "terminate"
                ]
            },
            "outputs": [],
            "source": [
                "##\n",
                "# Copyright (c) 2021 unSkript, Inc\n",
                "# All rights reserved.\n",
                "##\n",
                "from typing import List, Dict\n",
                "from pydantic import BaseModel, Field\n",
                "import pprint\n",
                "from beartype import beartype\n",
                "\n",
                "\n",
                "@beartype\n",
                "def aws_delete_volumes_printer(output):\n",
                "    if output is None:\n",
                "        return\n",
                "    pprint.pprint(output)\n",
                "\n",
                "\n",
                "@beartype\n",
                "def aws_delete_volumes(handle, volume_id: str, region: str) -> List:\n",
                "    \"\"\"aws_delete_volumes Returns array of delete volume status.\n",
                "\n",
                "        :type handle: object\n",
                "        :param handle: Object returned by the task.validate(...) method.\n",
                "\n",
                "        :type region: string\n",
                "        :param region: used to filter the volume for a given region.\n",
                "\n",
                "        :type volume_id: string\n",
                "        :param volume_id: Volume ID to delete a given volume.\n",
                "\n",
                "        :rtype: Array of delete volume status.\n",
                "    \"\"\"\n",
                "    result = []\n",
                "\n",
                "    ec2Client = handle.client('ec2',region_name=region)\n",
                "\n",
                "    # Adding logic for deletion criteria\n",
                "    try:\n",
                "        response = ec2Client.delete_volume(VolumeId=volume_id,)\n",
                "        result.append(response)\n",
                "    except Exception as e:\n",
                "        result.append(e)\n",
                "\n",
                "    return result\n",
                "\n",
                "\n",
                "task = Task(Workflow())\n",
                "task.configure(continueOnError=True)\n",
                "task.configure(inputParamsJson='''{\n",
                "    \"region\": \"region\",\n",
                "    \"volume_id\": \"iter_item\"\n",
                "    }''')\n",
                "task.configure(iterJson='''{\n",
                "    \"iter_enabled\": true,\n",
                "    \"iter_list_is_const\": false,\n",
                "    \"iter_list\": \"unattached_volumes\",\n",
                "    \"iter_parameter\": \"volume_id\"\n",
                "    }''')\n",
                "task.configure(conditionsJson='''{\n",
                "    \"condition_enabled\": true,\n",
                "    \"condition_cfg\": \"len(unattached_volumes) > 0\",\n",
                "    \"condition_result\": true\n",
                "    }''')\n",
                "task.configure(outputName=\"delete_status\")\n",
                "(err, hdl, args) = task.validate(vars=vars())\n",
                "if err is None:\n",
                "    task.execute(aws_delete_volumes, lego_printer=aws_delete_volumes_printer, hdl=hdl, args=args)"
            ]
        },
        {
            "cell_type": "markdown",
            "id": "943ceb40-c278-45a7-81a0-d16a686d1db8",
            "metadata": {
                "jupyter": {
                    "source_hidden": false
                },
                "name": "Conclusion",
                "orderProperties": [],
                "tags": [],
                "title": "Conclusion"
            },
            "source": [
                "### Conclusion\n",
                "In this Runbook, we demonstrated the use of unSkript's AWS actions to filter unattached EBS volumes and delete those. To view the full platform capabilities of unSkript please visit https://us.app.unskript.io"
            ]
        }
    ],
    "metadata": {
        "execution_data": {
            "environment_id": "1499f27c-6406-4fbd-bd1b-c6f92800018f",
            "environment_name": "Staging",
            "execution_id": "",
            "inputs_for_searched_lego": "",
            "notebook_id": "6a14e29e-a58b-4b51-b2f1-3f19141c2a00.ipynb",
            "parameters": [
                "create_snapshot",
                "region"
            ],
            "runbook_name": "Delete Unattached EBS Volume",
            "search_string": "",
            "show_tool_tip": false,
            "tenant_id": "982dba5f-d9df-48ae-a5bf-ec1fc94d4882",
            "tenant_url": "https://tenant-staging.alpha.unskript.io",
            "user_email_id": "harshal.bangre@unskript.com",
            "workflow_id": "f4081f69-f824-4791-9854-80bd1c8d301e"
        },
        "kernelspec": {
            "display_name": "Python 3.10.6 64-bit",
            "language": "python",
            "name": "python3"
        },
        "language_info": {
            "file_extension": ".py",
            "mimetype": "text/x-python",
            "name": "python",
            "pygments_lexer": "ipython3",
            "version": "3.10.6"
        },
        "parameterSchema": {
            "properties": {
                "create_snapshot": {
                    "description": "Permission to create snapshot of EBS volume",
                    "enum": [
                        "Yes",
                        "No"
                    ],
                    "enumNames": [
                        "Yes",
                        "No"
                    ],
                    "title": "create_snapshot",
                    "type": "string"
                },
                "region": {
                    "default": "",
                    "description": "EBS volume region",
                    "title": "region",
                    "type": "string"
                }
            },
            "required": [],
            "title": "Schema",
            "type": "object"
        },
        "parameterValues": null,
        "vscode": {
            "interpreter": {
                "hash": "e8899eb02dfbc033aab5733bdae1bd213fa031d40331094008e8673d99ebab63"
            }
        }
    },
    "nbformat": 4,
    "nbformat_minor": 5
}
