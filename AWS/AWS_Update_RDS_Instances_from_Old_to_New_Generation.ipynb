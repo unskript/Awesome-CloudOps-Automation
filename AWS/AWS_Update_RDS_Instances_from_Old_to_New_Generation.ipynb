{
 "cells": [
  {
   "attachments": {},
   "cell_type": "markdown",
   "id": "e2fffe48-5eb4-4177-95ec-7955cc381ad8",
   "metadata": {
    "jupyter": {
     "source_hidden": false
    },
    "name": "Runbook Overview",
    "orderProperties": [],
    "tags": [],
    "title": "Runbook Overview"
   },
   "source": [
    "<center><img src=\"https://storage.googleapis.com/unskript-website/assets/favicon.png\" alt=\"unSkript.com\" width=\"100\" height=\"100\">\n",
    "<h1 id=\"unSkript-Runbooks&nbsp;&para;&para;\">unSkript Runbooks</h1>\n",
    "<div class=\"alert alert-block alert-success\"><strong>To modify old generation RDS instances to a given instance class in AWS using unSkript actions.</strong></div>\n",
    "</center><center>\n",
    "<h2 id=\"Modify-RDS-Instances-Using-Previous-Gen-Instance-Types-in-AWS\">AWS Update RDS Instances from Old to New Generation</h2>\n",
    "</center>\n",
    "<h1 id=\"Steps-Overview&para;&para;\">Steps Overview</h1>\n",
    "<ol>\n",
    "<li>AWS Get Older Generation RDS Instances</li>\n",
    "<li>Modify the DB Instance Class</li>\n",
    "</ol>"
   ]
  },
  {
   "cell_type": "code",
   "execution_count": 6,
   "id": "cbd771e6-6e0a-4ea0-a653-00f65120e145",
   "metadata": {
    "credentialsJson": {},
    "customAction": true,
    "execution_data": {
     "last_date_success_run_cell": "2023-05-19T14:15:05.316Z"
    },
    "jupyter": {
     "source_hidden": true
    },
    "name": "Input Verification",
    "orderProperties": [],
    "tags": [],
    "title": "Input Verification"
   },
   "outputs": [],
   "source": [
    "if not rds_instance_ids and rds_instance_type and region:\n",
    "    raise SystemExit(\"Provide rds_instance_ids!\")\n",
    "if not rds_instance_type:\n",
    "    raise SystemExit(\"Provide rds_instance_type!\")\n",
    "if not region and rds_instance_type and rds_instance_ids:\n",
    "    raise SystemExit(\"Provide region!\")\n",
    "if region == None:\n",
    "    region = \"\""
   ]
  },
  {
   "attachments": {},
   "cell_type": "markdown",
   "id": "dbbf73ef-3c3e-49b7-8c4b-301e02614d84",
   "metadata": {
    "jupyter": {
     "source_hidden": false
    },
    "name": "Step-1",
    "orderProperties": [],
    "tags": [],
    "title": "Step-1"
   },
   "source": [
    "<h3 id=\"Filter-Unattached-EBS-Volumes\">AWS Get Older Generation RDS Instances</h3>\n",
    "<p>Here we will use unSkript&nbsp;<strong>AWS Get Older Generation RDS Instances</strong> action. This action filters all the rds instances from the given region and returns a list of all the older generation instance-type instances. It will execute if the <code>rds_instance_ids</code>&nbsp;parameter is not passed.</p>\n",
    "<blockquote>\n",
    "<p>Input parameters: <code>region</code></p>\n",
    "</blockquote>\n",
    "<blockquote>\n",
    "<p>Output variable: <code>old_gen_rds_instances</code></p>\n",
    "</blockquote>"
   ]
  },
  {
   "cell_type": "code",
   "execution_count": null,
   "id": "1924ed03-0486-43e1-a388-2b753939b386",
   "metadata": {
    "actionBashCommand": false,
    "actionCategories": [
     "CATEGORY_TYPE_COST_OPT",
     "CATEGORY_TYPE_SRE",
     "CATEGORY_TYPE_AWS",
     "CATEGORY_TYPE_AWS_RDS"
    ],
    "actionDescription": "AWS Get Older Generation RDS Instances action retrieves information about RDS instances using older generation instance types.",
    "actionEntryFunction": "aws_get_older_generation_rds_instances",
    "actionIsCheck": true,
    "actionIsRemediation": false,
    "actionNeedsCredential": true,
    "actionNextHop": [],
    "actionNextHopParameterMapping": {},
    "actionNouns": null,
    "actionOutputType": "ACTION_OUTPUT_TYPE_LIST",
    "actionSupportsIteration": true,
    "actionSupportsPoll": true,
    "actionTitle": "AWS Get Older Generation RDS Instances",
    "actionType": "LEGO_TYPE_AWS",
    "actionVerbs": null,
    "actionVersion": "1.0.0",
    "action_modified": false,
    "action_uuid": "08da2db2f8fe2dbce378c314e54341b68ee2e9e99ae271f2acd044ef7e8bdee3",
    "collapsed": true,
    "condition_enabled": true,
    "continueOnError": false,
    "credentialsJson": {},
    "description": "AWS Get Older Generation RDS Instances action retrieves information about RDS instances using older generation instance types.",
    "id": 1,
    "index": 1,
    "inputData": [
     {
      "region": {
       "constant": false,
       "value": "region"
      }
     }
    ],
    "inputschema": [
     {
      "properties": {
       "region": {
        "default": "",
        "description": "AWS Region.",
        "title": "AWS Region",
        "type": "string"
       }
      },
      "required": [],
      "title": "aws_get_older_generation_rds_instances",
      "type": "object"
     }
    ],
    "jupyter": {
     "outputs_hidden": true,
     "source_hidden": true
    },
    "language": "python",
    "legotype": "LEGO_TYPE_AWS",
    "name": "AWS Get Older Generation RDS Instances",
    "orderProperties": [
     "region"
    ],
    "outputParams": {
     "output_name": "old_gen_rds_instances",
     "output_name_enabled": true,
     "output_runbook_enabled": false,
     "output_runbook_name": ""
    },
    "printOutput": true,
    "show_tool_tip": true,
    "startcondition": "not rds_instance_ids",
    "tags": [],
    "uuid": "08da2db2f8fe2dbce378c314e54341b68ee2e9e99ae271f2acd044ef7e8bdee3",
    "version": "1.0.0"
   },
   "outputs": [],
   "source": [
    "##\n",
    "##  Copyright (c) 2023 unSkript, Inc\n",
    "##  All rights reserved.\n",
    "##\n",
    "from pydantic import BaseModel, Field\n",
    "from typing import Optional, Tuple\n",
    "from unskript.legos.aws.aws_list_all_regions.aws_list_all_regions import aws_list_all_regions\n",
    "from unskript.connectors.aws import aws_get_paginator\n",
    "import pprint\n",
    "\n",
    "\n",
    "from beartype import beartype\n",
    "@beartype\n",
    "def aws_get_older_generation_rds_instances_printer(output):\n",
    "    if output is None:\n",
    "        return\n",
    "    pprint.pprint(output)\n",
    "\n",
    "\n",
    "@beartype\n",
    "def is_previous_gen_instance(instance_type):\n",
    "    previous_gen_instance_types = ['db.m1', 'db.m2', 'db.t1']\n",
    "    for prev_gen_type in previous_gen_instance_types:\n",
    "        if instance_type.startswith(prev_gen_type):\n",
    "            return True\n",
    "    return False\n",
    "\n",
    "\n",
    "@beartype\n",
    "def aws_get_older_generation_rds_instances(handle, region: str = \"\") -> Tuple:\n",
    "    \"\"\"aws_get_older_generation_rds_instances Gets all older generation RDS DB instances\n",
    "\n",
    "        :type handle: object\n",
    "        :param handle: Object returned from task.validate(...).\n",
    "\n",
    "        :type region: string\n",
    "        :param region: Optional, Region of the RDS.\n",
    "\n",
    "        :rtype: Status, List of old RDS Instances\n",
    "    \"\"\"\n",
    "    result = []\n",
    "    all_regions = [region]\n",
    "    if not region:\n",
    "        all_regions = aws_list_all_regions(handle)\n",
    "    for reg in all_regions:\n",
    "        try:\n",
    "            ec2Client = handle.client('rds', region_name=reg)\n",
    "            response = aws_get_paginator(ec2Client, \"describe_db_instances\", \"DBInstances\")\n",
    "            for db in response:\n",
    "                instance_type = \".\".join(db['DBInstanceClass'].split(\".\", 2)[:2])\n",
    "                response = is_previous_gen_instance(instance_type)\n",
    "                if response:\n",
    "                    db_instance_dict = {}\n",
    "                    db_instance_dict[\"region\"] = reg\n",
    "                    db_instance_dict[\"instance\"] = db['DBInstanceIdentifier']\n",
    "                    result.append(db_instance_dict)\n",
    "        except Exception:\n",
    "            pass\n",
    "\n",
    "    if len(result) != 0:\n",
    "        return (False, result)\n",
    "    else:\n",
    "        return (True, None)\n",
    "\n",
    "\n",
    "task = Task(Workflow())\n",
    "task.configure(inputParamsJson='''{\n",
    "    \"region\": \"region\"\n",
    "    }''')\n",
    "task.configure(conditionsJson='''{\n",
    "    \"condition_enabled\": true,\n",
    "    \"condition_cfg\": \"not rds_instance_ids\",\n",
    "    \"condition_result\": true\n",
    "    }''')\n",
    "\n",
    "task.configure(outputName=\"old_gen_rds_instances\")\n",
    "\n",
    "task.configure(printOutput=True)\n",
    "(err, hdl, args) = task.validate(vars=vars())\n",
    "if err is None:\n",
    "    task.execute(aws_get_older_generation_rds_instances, lego_printer=aws_get_older_generation_rds_instances_printer, hdl=hdl, args=args)"
   ]
  },
  {
   "attachments": {},
   "cell_type": "markdown",
   "id": "a23d2c03-f186-470d-9947-ffba9bb49e63",
   "metadata": {
    "jupyter": {
     "source_hidden": false
    },
    "name": "Step-1 Extension",
    "orderProperties": [],
    "tags": [],
    "title": "Step-1 Extension"
   },
   "source": [
    "<h3 id=\"Modify-Step-1-Output\">Modify Step-1 Output<a class=\"jp-InternalAnchorLink\" href=\"#Modify-Step-1-Output\" target=\"_self\">&para;</a></h3>\n",
    "<p>In this action, we modify the output from step 1 and return a list of aws cli command for the older generation RDS instances.</p>\n",
    "<blockquote>\n",
    "<p>Output variable: <code>older_rds_instances</code></p>\n",
    "</blockquote>"
   ]
  },
  {
   "cell_type": "code",
   "execution_count": null,
   "id": "5cbcb4b2-149f-43f7-b723-e2f3766c9980",
   "metadata": {
    "collapsed": true,
    "credentialsJson": {},
    "customAction": true,
    "execution_data": {
     "last_date_success_run_cell": "2023-05-12T10:41:25.703Z"
    },
    "jupyter": {
     "outputs_hidden": true,
     "source_hidden": true
    },
    "name": "Modify Step-1 Output",
    "orderProperties": [],
    "tags": [],
    "title": "Modify Step-1 Output"
   },
   "outputs": [],
   "source": [
    "older_rds_instances = []\n",
    "try:\n",
    "    if old_gen_rds_instances[0] == False:\n",
    "        for instance in old_gen_rds_instances[1]:\n",
    "            instance['instance_type'] = rds_instance_type\n",
    "            command = \"aws rds modify-db-instance --db-instance-identifier \" + instance['instance'] + \" --db-instance-class \" + instance['instance_type'] + \" --region \" + instance['region'] + \" --apply-immediately\"\n",
    "            older_rds_instances.append(command)\n",
    "except Exception as e:\n",
    "    for i in rds_instance_ids:\n",
    "        command = \"aws rds modify-db-instance --db-instance-identifier \" + i + \" --db-instance-class \" + rds_instance_type + \" --region \" + region + \" --apply-immediately\"\n",
    "        older_rds_instances.append(command)\n",
    "    else:\n",
    "        raise Exception(e)"
   ]
  },
  {
   "attachments": {},
   "cell_type": "markdown",
   "id": "d1f1a3bf-e7d4-4243-8a99-6e1b66abef29",
   "metadata": {
    "jupyter": {
     "source_hidden": false
    },
    "name": "Step-2",
    "orderProperties": [],
    "tags": [],
    "title": "Step-2"
   },
   "source": [
    "<p><strong>Modify DB Instance Class</strong></p>\n",
    "<p>In this action, we pass an aws cli command to modify the RDS instance class.</p>\n",
    "<blockquote>\n",
    "<p>Input parameters: <code>aws_command</code></p>\n",
    "</blockquote>\n",
    "<blockquote>\n",
    "<p>Output variable: <code>modified_output</code></p>\n",
    "</blockquote>"
   ]
  },
  {
   "cell_type": "code",
   "execution_count": null,
   "id": "0886a33e-052f-41bc-980f-6dd500a35a71",
   "metadata": {
    "actionBashCommand": false,
    "actionCategories": [
     "CATEGORY_TYPE_DEVOPS",
     "CATEGORY_TYPE_SRE",
     "CATEGORY_TYPE_AWS",
     "CATEGORY_TYPE_AWS_CLI"
    ],
    "actionDescription": "Execute command using AWS CLI",
    "actionEntryFunction": "aws_execute_cli_command",
    "actionIsCheck": false,
    "actionIsRemediation": false,
    "actionNeedsCredential": true,
    "actionNextHop": null,
    "actionNextHopParameterMapping": null,
    "actionNouns": null,
    "actionOutputType": "ACTION_OUTPUT_TYPE_STR",
    "actionSupportsIteration": true,
    "actionSupportsPoll": true,
    "actionTitle": "Run Command via AWS CLI",
    "actionType": "LEGO_TYPE_AWS",
    "actionVerbs": null,
    "actionVersion": "1.0.0",
    "action_modified": false,
    "action_uuid": "1db371aff42291641eb6ba83d7acc3fe28e2468d83be1552e8258dc878c0f70d",
    "collapsed": true,
    "condition_enabled": true,
    "continueOnError": true,
    "credentialsJson": {},
    "description": "Execute command using AWS CLI",
    "execution_data": {
     "last_date_success_run_cell": "2023-05-12T10:20:20.403Z"
    },
    "id": 1,
    "index": 1,
    "inputData": [
     {
      "aws_command": {
       "constant": false,
       "value": "iter_item"
      }
     }
    ],
    "inputschema": [
     {
      "properties": {
       "aws_command": {
        "description": "AWS Command eg \"aws ec2 describe-instances\"",
        "title": "AWS Command",
        "type": "string"
       }
      },
      "required": [
       "aws_command"
      ],
      "title": "aws_execute_cli_command",
      "type": "object"
     }
    ],
    "iterData": [
     {
      "iter_enabled": true,
      "iter_item": "aws_command",
      "iter_list": {
       "constant": false,
       "objectItems": false,
       "value": "older_rds_instances"
      }
     }
    ],
    "jupyter": {
     "outputs_hidden": true,
     "source_hidden": true
    },
    "language": "python",
    "legotype": "LEGO_TYPE_AWS",
    "name": "Run Command via AWS CLI: Modify DB Instance Class",
    "orderProperties": [
     "aws_command"
    ],
    "outputParams": {
     "output_name": "modified_output",
     "output_name_enabled": true,
     "output_runbook_enabled": false,
     "output_runbook_name": ""
    },
    "printOutput": true,
    "startcondition": "len(older_rds_instances)!=0",
    "tags": [],
    "title": "Run Command via AWS CLI: Modify DB Instance Class",
    "uuid": "1db371aff42291641eb6ba83d7acc3fe28e2468d83be1552e8258dc878c0f70d",
    "version": "1.0.0"
   },
   "outputs": [],
   "source": [
    "#\n",
    "# Copyright (c) 2021 unSkript.com\n",
    "# All rights reserved.\n",
    "#\n",
    "\n",
    "from pydantic import BaseModel, Field\n",
    "import pprint\n",
    "\n",
    "\n",
    "from beartype import beartype\n",
    "@beartype\n",
    "def aws_execute_cli_command_printer(output):\n",
    "    if output is None:\n",
    "        return\n",
    "    pprint.pprint(output)\n",
    "\n",
    "\n",
    "@beartype\n",
    "def aws_execute_cli_command(handle, aws_command: str) -> str:\n",
    "\n",
    "    result = handle.aws_cli_command(aws_command)\n",
    "    if result is None or result.returncode != 0:\n",
    "        print(\n",
    "            f\"Error while executing command ({aws_command}): {result}\")\n",
    "        return str()\n",
    "\n",
    "    return result.stdout\n",
    "\n",
    "\n",
    "task = Task(Workflow())\n",
    "task.configure(continueOnError=True)\n",
    "task.configure(inputParamsJson='''{\n",
    "    \"aws_command\": \"iter_item\"\n",
    "    }''')\n",
    "task.configure(iterJson='''{\n",
    "    \"iter_enabled\": true,\n",
    "    \"iter_list_is_const\": false,\n",
    "    \"iter_list\": \"older_rds_instances\",\n",
    "    \"iter_parameter\": \"aws_command\"\n",
    "    }''')\n",
    "task.configure(conditionsJson='''{\n",
    "    \"condition_enabled\": true,\n",
    "    \"condition_cfg\": \"len(older_rds_instances)!=0\",\n",
    "    \"condition_result\": true\n",
    "    }''')\n",
    "task.configure(outputName=\"modified_output\")\n",
    "task.configure(printOutput=True)\n",
    "(err, hdl, args) = task.validate(vars=vars())\n",
    "if err is None:\n",
    "    task.execute(aws_execute_cli_command, lego_printer=aws_execute_cli_command_printer, hdl=hdl, args=args)"
   ]
  },
  {
   "attachments": {},
   "cell_type": "markdown",
   "id": "37022260-01cb-4cb7-9ed1-aeb30ac4ad64",
   "metadata": {
    "jupyter": {
     "source_hidden": false
    },
    "name": "Conclusion",
    "orderProperties": [],
    "tags": [],
    "title": "Conclusion"
   },
   "source": [
    "<h3 id=\"Conclusion\">Conclusion</h3>\n",
    "<p>In this Runbook, we demonstrated the use of unSkript's AWS actions to get RDS instances with old generation and modify them to the new given instance class. To view the full platform capabunscriptedof unSkript please visit <a href=\"https://us.app.unskript.io\" target=\"_blank\" rel=\"noopener\">https://us.app.unskript.io</a></p>"
   ]
  }
 ],
 "metadata": {
  "execution_data": {
   "runbook_name": "AWS Update RDS Instances from Old to New Generation",
   "parameters": null
  },
  "kernelspec": {
   "display_name": "unSkript (Build: 1169)",
   "language": "python",
   "name": "python3"
  },
  "language_info": {
   "codemirror_mode": {
    "name": "ipython",
    "version": 3
   },
   "file_extension": ".py",
   "mimetype": "text/x-python",
   "name": "python",
   "nbconvert_exporter": "python",
   "pygments_lexer": "ipython3",
   "version": "3.9.6"
  },
  "parameterSchema": {
   "properties": {
    "rds_instance_ids": {
     "description": "RDS Instance Ids.",
     "title": "rds_instance_ids",
     "type": "array"
    },
    "rds_instance_type": {
     "description": "RDS Instance Type e.g. \"db.t3.micro\"",
     "title": "rds_instance_type",
     "type": "string"
    },
    "region": {
     "description": "AWS Region",
     "title": "region",
     "type": "string"
    }
   },
   "required": [
    "rds_instance_type"
   ],
   "title": "Schema",
   "type": "object"
  },
  "show_action_drag_hint_done": {
   "environment_id": "1499f27c-6406-4fbd-bd1b-c6f92800018f",
   "environment_name": "Staging",
   "execution_id": "",
   "inputs_for_searched_lego": "",
   "notebook_id": "d4159cb3-6c83-4ba5-a2f7-d23c0777076b.ipynb",
   "parameters": null,
   "runbook_name": "gcp",
   "search_string": "",
   "show_tool_tip": true,
   "tenant_id": "982dba5f-d9df-48ae-a5bf-ec1fc94d4882",
   "tenant_url": "https://tenant-staging.alpha.unskript.io",
   "user_email_id": "support+staging@unskript.com",
   "workflow_id": "f8ead207-81c0-414a-a15b-76fcdefafe8d"
  }
 },
 "nbformat": 4,
 "nbformat_minor": 5
}