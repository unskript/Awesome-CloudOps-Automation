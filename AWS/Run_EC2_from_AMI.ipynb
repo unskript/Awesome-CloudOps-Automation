{
 "cells": [
  {
   "cell_type": "markdown",
   "id": "0ecd43d6-5d15-4210-95d5-6b7052748b74",
   "metadata": {
    "jupyter": {
     "source_hidden": false
    },
    "name": "Runbook Overview",
    "orderProperties": [],
    "tags": [],
    "title": "Runbook Overview"
   },
   "source": [
    "<center><img src=\"https://storage.googleapis.com/unskript-website/assets/favicon.png\" alt=\"unSkript.com\" width=\"100\" height=\"100\">\n",
    "<h1 id=\"unSkript-Runbooks\">unSkript Runbooks</h1>\n",
    "<div class=\"alert alert-block alert-success\">\n",
    "<h3 id=\"Objective\"><strong>Objective</strong></h3>\n",
    "<strong>To&nbsp;Launch AWS EC2 from AMI using unSkript actions.</strong></div>\n",
    "</center><center>\n",
    "<h2 id=\"Launch-AWS-EC2-from-AMI\">Launch AWS EC2 from AMI</h2>\n",
    "</center>\n",
    "<h1 id=\"Steps-Overview\">Steps Overview</h1>\n",
    "<ol>\n",
    "<li>Launch AWS EC2 Instance From an AMI</li>\n",
    "<li>Get AWS Instances Details</li>\n",
    "</ol>"
   ]
  },
  {
   "cell_type": "markdown",
   "id": "f2e0dbee-429f-4ddd-8808-bc79df9e7686",
   "metadata": {
    "jupyter": {
     "source_hidden": false
    },
    "name": "Step-1",
    "orderProperties": [],
    "tags": [],
    "title": "Step-1"
   },
   "source": [
    "<h3 id=\"Launch-AWS-EC2-Instance-From-an-AMI\">Launch AWS EC2 Instance From an AMI</h3>\n",
    "<p>Here we will use unSkript <strong>Launch AWS EC2 instance from an AMI</strong> action. This action is used to launch an EC2 instance from AMI.</p>\n",
    "<blockquote>\n",
    "<p><strong>Input parameters:</strong> <code>ami_id, region</code></p>\n",
    "</blockquote>\n",
    "<blockquote>\n",
    "<p><strong>Output variable:</strong> <code>launch_instance</code></p>\n",
    "</blockquote>"
   ]
  },
  {
   "cell_type": "code",
   "execution_count": 9,
   "id": "cf78d7ed-4073-4231-bff5-54879ff27239",
   "metadata": {
    "accessType": "ACCESS_TYPE_UNSPECIFIED",
    "actionBashCommand": false,
    "actionCategories": [],
    "actionIsCheck": false,
    "actionNeedsCredential": true,
    "actionNextHop": [],
    "actionNextHopParameterMapping": {},
    "actionOutputType": "",
    "actionRequiredLinesInCode": [],
    "actionSupportsIteration": true,
    "actionSupportsPoll": true,
    "action_modified": false,
    "action_uuid": "dc0cd6cd07b4a3c94ea019493659c3f455a7ae952ea7e5eefcb7c8d402271ef5",
    "checkEnabled": false,
    "continueOnError": true,
    "createTime": "1970-01-01T00:00:00Z",
    "credentialsJson": {},
    "currentVersion": "0.1.0",
    "description": "Use this instance to Launch an AWS EC2 instance from an AMI",
    "execution_data": {
     "last_date_success_run_cell": "2023-02-16T11:44:06.426Z"
    },
    "id": 294,
    "index": 294,
    "inputData": [
     {
      "ami_id": {
       "constant": false,
       "value": "iter_item"
      },
      "region": {
       "constant": false,
       "value": "region"
      }
     }
    ],
    "inputschema": [
     {
      "properties": {
       "ami_id": {
        "description": "AMI Id.",
        "title": "AMI Id",
        "type": "string"
       },
       "region": {
        "description": "AWS Region.",
        "title": "Region",
        "type": "string"
       }
      },
      "required": [
       "ami_id",
       "region"
      ],
      "title": "aws_launch_instance_from_ami",
      "type": "object"
     }
    ],
    "isUnskript": false,
    "iterData": [
     {
      "iter_enabled": true,
      "iter_item": "ami_id",
      "iter_list": {
       "constant": false,
       "objectItems": false,
       "value": "ami_id"
      }
     }
    ],
    "jupyter": {
     "source_hidden": true
    },
    "legotype": "LEGO_TYPE_AWS",
    "name": "Launch AWS EC2 Instance From an AMI",
    "nouns": [],
    "orderProperties": [
     "ami_id",
     "region"
    ],
    "output": {
     "type": ""
    },
    "outputParams": {
     "output_name": "launch_instance",
     "output_name_enabled": true
    },
    "printOutput": true,
    "tags": [
     "aws_launch_instance_from_ami"
    ],
    "verbs": []
   },
   "outputs": [],
   "source": [
    "##\n",
    "##  Copyright (c) 2021 unSkript, Inc\n",
    "##  All rights reserved.\n",
    "##\n",
    "from pydantic import BaseModel, Field\n",
    "from typing import List\n",
    "import pprint\n",
    "\n",
    "\n",
    "from beartype import beartype\n",
    "@beartype\n",
    "def aws_launch_instance_from_ami_printer(output):\n",
    "    if output is None:\n",
    "        return\n",
    "    pprint.pprint(output)\n",
    "\n",
    "\n",
    "@beartype\n",
    "def aws_launch_instance_from_ami(handle, ami_id: str, region: str) -> List:\n",
    "    \"\"\"aws_launch_instance_from_ami Launch instances from a particular image.\n",
    "\n",
    "        :type handle: object\n",
    "        :param handle: Object returned from task.validate(...).\n",
    "\n",
    "        :type ami_id: string\n",
    "        :param ami_id: AMI Id Information required to launch an instance.\n",
    "\n",
    "        :type region: string\n",
    "        :param region: Region to filter instances.\n",
    "\n",
    "        :rtype: Dict with launched instances info.\n",
    "    \"\"\"\n",
    "    ec2Client = handle.client('ec2', region_name=region)\n",
    "\n",
    "    res = ec2Client.run_instances(ImageId=ami_id, MinCount=1, MaxCount=1)\n",
    "\n",
    "    return res['Instances']\n",
    "\n",
    "\n",
    "task = Task(Workflow())\n",
    "task.configure(continueOnError=True)\n",
    "task.configure(inputParamsJson='''{\n",
    "    \"ami_id\": \"iter_item\",\n",
    "    \"region\": \"region\"\n",
    "    }''')\n",
    "task.configure(iterJson='''{\n",
    "    \"iter_enabled\": true,\n",
    "    \"iter_list_is_const\": false,\n",
    "    \"iter_list\": \"ami_id\",\n",
    "    \"iter_parameter\": \"ami_id\"\n",
    "    }''')\n",
    "task.configure(outputName=\"launch_instance\")\n",
    "task.configure(printOutput=True)\n",
    "(err, hdl, args) = task.validate(vars=vars())\n",
    "if err is None:\n",
    "    task.execute(aws_launch_instance_from_ami, lego_printer=aws_launch_instance_from_ami_printer, hdl=hdl, args=args)"
   ]
  },
  {
   "attachments": {},
   "cell_type": "markdown",
   "id": "e6396a97-387f-4e18-9f41-efb3d0a6bf96",
   "metadata": {
    "jupyter": {
     "source_hidden": false
    },
    "name": "Step-1 Extension",
    "orderProperties": [],
    "tags": [],
    "title": "Step-1 Extension"
   },
   "source": [
    "<h3 id=\"Modify-Output\">Modify Output</h3>\n",
    "<p>In this action, we sort the output from step-1 and get the instance ids.</p>"
   ]
  },
  {
   "cell_type": "code",
   "execution_count": 15,
   "id": "5c2feffc-68fe-44bd-bb9b-b6e20244efe3",
   "metadata": {
    "customAction": true,
    "execution_data": {
     "last_date_success_run_cell": "2023-02-16T11:48:17.267Z"
    },
    "jupyter": {
     "source_hidden": true
    },
    "name": "Modify Output",
    "orderProperties": [],
    "tags": [],
    "title": "Modify Output",
    "credentialsJson": {}
   },
   "outputs": [],
   "source": [
    "instance_ids = []\n",
    "if launch_instance:\n",
    "    for k, v in launch_instance.items():\n",
    "        for i in v:\n",
    "            instance_ids.append(i[\"InstanceId\"])"
   ]
  },
  {
   "cell_type": "markdown",
   "id": "939c7878-2dc1-42f5-9945-7248fc6b85ba",
   "metadata": {
    "jupyter": {
     "source_hidden": false
    },
    "name": "Step-2",
    "orderProperties": [],
    "tags": [],
    "title": "Step-2"
   },
   "source": [
    "<h3 id=\"Get-AWS-Instance-Details\">Get AWS Instance Details</h3>\n",
    "<p>Here we will use unSkript <strong>Get AWS Instance Details</strong> action to get the details of the instances. This action is used to get details of instances that we received in step 1.</p>\n",
    "<blockquote>\n",
    "<p><strong>Input parameters:</strong> <code>instance_id, region</code></p>\n",
    "</blockquote>\n",
    "<blockquote>\n",
    "<p><strong>Output variable:</strong> <code>instance_details</code></p>\n",
    "</blockquote>"
   ]
  },
  {
   "cell_type": "code",
   "execution_count": 16,
   "id": "966fb848-2bfb-4530-91da-a085ca6c9cd0",
   "metadata": {
    "accessType": "ACCESS_TYPE_UNSPECIFIED",
    "actionBashCommand": false,
    "actionCategories": [],
    "actionIsCheck": false,
    "actionNeedsCredential": true,
    "actionNextHop": [],
    "actionNextHopParameterMapping": {},
    "actionOutputType": "",
    "actionRequiredLinesInCode": [],
    "actionSupportsIteration": true,
    "actionSupportsPoll": true,
    "action_modified": false,
    "action_uuid": "930c0624b3d32846a0946e0a54dac8e69d7a1ee0e28e10de7338c68f06df8420",
    "checkEnabled": false,
    "continueOnError": true,
    "createTime": "1970-01-01T00:00:00Z",
    "credentialsJson": {},
    "currentVersion": "0.1.0",
    "description": "Get AWS Instances Details",
    "execution_data": {
     "last_date_success_run_cell": "2023-02-16T11:51:06.278Z"
    },
    "id": 210,
    "index": 210,
    "inputData": [
     {
      "instance_id": {
       "constant": false,
       "value": "iter_item"
      },
      "region": {
       "constant": false,
       "value": "region"
      }
     }
    ],
    "inputschema": [
     {
      "properties": {
       "instance_id": {
        "description": "ID of the instance.",
        "title": "Instance Id",
        "type": "string"
       },
       "region": {
        "description": "AWS Region of the instance.",
        "title": "Region",
        "type": "string"
       }
      },
      "required": [
       "instance_id",
       "region"
      ],
      "title": "aws_get_instance_details",
      "type": "object"
     }
    ],
    "isUnskript": false,
    "iterData": [
     {
      "iter_enabled": true,
      "iter_item": "instance_id",
      "iter_list": {
       "constant": false,
       "objectItems": false,
       "value": "instance_ids"
      }
     }
    ],
    "jupyter": {
     "source_hidden": true
    },
    "legotype": "LEGO_TYPE_AWS",
    "name": "Get AWS Instances Details",
    "nouns": [],
    "orderProperties": [
     "instance_id",
     "region"
    ],
    "output": {
     "type": ""
    },
    "outputParams": {
     "output_name": "instance_details",
     "output_name_enabled": true
    },
    "printOutput": true,
    "tags": [
     "aws_get_instance_details"
    ],
    "title": "Get AWS Instances Details",
    "verbs": []
   },
   "outputs": [],
   "source": [
    "##\n",
    "# Copyright (c) 2021 unSkript, Inc\n",
    "# All rights reserved.\n",
    "##\n",
    "from pydantic import BaseModel, Field\n",
    "from typing import Dict\n",
    "import pprint\n",
    "\n",
    "\n",
    "from beartype import beartype\n",
    "@beartype\n",
    "def aws_get_instances_printer(output):\n",
    "    if output is None:\n",
    "        return\n",
    "    pprint.pprint(output)\n",
    "\n",
    "\n",
    "@beartype\n",
    "def aws_get_instance_details(handle, instance_id: str, region: str) -> Dict:\n",
    "    \"\"\"aws_get_instance_details Returns instance details.\n",
    "\n",
    "        :type handle: object\n",
    "        :param handle: Object returned by the task.validate(...) method.\n",
    "\n",
    "        :type instance_ids: list\n",
    "        :param instance_ids: List of instance ids.\n",
    "\n",
    "        :type region: string\n",
    "        :param region: Region for instance.\n",
    "\n",
    "        :rtype: Dict with the instance details.\n",
    "    \"\"\"\n",
    "\n",
    "    ec2client = handle.client('ec2', region_name=region)\n",
    "    instances = []\n",
    "    response = ec2client.describe_instances(\n",
    "        Filters=[{\"Name\": \"instance-id\", \"Values\": [instance_id]}])\n",
    "    for reservation in response[\"Reservations\"]:\n",
    "        for instance in reservation[\"Instances\"]:\n",
    "            instances.append(instance)\n",
    "\n",
    "    return instances[0]\n",
    "\n",
    "\n",
    "def unskript_default_printer(output):\n",
    "    if isinstance(output, (list, tuple)):\n",
    "        for item in output:\n",
    "            print(f'item: {item}')\n",
    "    elif isinstance(output, dict):\n",
    "        for item in output.items():\n",
    "            print(f'item: {item}')\n",
    "    else:\n",
    "        print(f'Output for {task.name}')\n",
    "        print(output)\n",
    "\n",
    "task = Task(Workflow())\n",
    "task.configure(continueOnError=True)\n",
    "task.configure(inputParamsJson='''{\n",
    "    \"region\": \"region\",\n",
    "    \"instance_id\": \"iter_item\"\n",
    "    }''')\n",
    "task.configure(iterJson='''{\n",
    "    \"iter_enabled\": true,\n",
    "    \"iter_list_is_const\": false,\n",
    "    \"iter_list\": \"instance_ids\",\n",
    "    \"iter_parameter\": \"instance_id\"\n",
    "    }''')\n",
    "task.configure(outputName=\"instance_details\")\n",
    "task.configure(printOutput=True)\n",
    "(err, hdl, args) = task.validate(vars=vars())\n",
    "if err is None:\n",
    "    task.execute(aws_get_instance_details, lego_printer=unskript_default_printer, hdl=hdl, args=args)"
   ]
  },
  {
   "attachments": {},
   "cell_type": "markdown",
   "id": "466d72b2-48f8-45cc-b587-08b23129f43e",
   "metadata": {
    "jupyter": {
     "source_hidden": false
    },
    "name": "Step-2 Extension",
    "orderProperties": [],
    "tags": [],
    "title": "Step-2 Extension"
   },
   "source": [
    "<h3 id=\"Instance-Details\">Instance Details</h3>\n",
    "<p>In this action, we sort the output from step-2 and present the details of the instance in the good table.</p>"
   ]
  },
  {
   "cell_type": "code",
   "execution_count": 17,
   "id": "7ae145b4-6660-4441-942e-74e984318779",
   "metadata": {
    "customAction": true,
    "execution_data": {
     "last_date_success_run_cell": "2023-02-16T11:51:11.921Z"
    },
    "jupyter": {
     "source_hidden": true
    },
    "name": "Instance Details",
    "orderProperties": [],
    "tags": [],
    "title": "Instance Details",
    "credentialsJson": {}
   },
   "outputs": [],
   "source": [
    "import pprint\n",
    "from pydantic import BaseModel, Field\n",
    "from typing import Dict\n",
    "from tabulate import tabulate\n",
    "task.configure(printOutput=True)\n",
    "\n",
    "output = instance_details\n",
    "instance_list = instance_ids\n",
    "\n",
    "\n",
    "def Instance_Details(output, instance_list: list):\n",
    "    data1 = []\n",
    "    Header = \"\"\n",
    "    for instance_id in instance_list:\n",
    "        if instance_id in output.keys():\n",
    "            output1 = output[instance_id]\n",
    "            if isinstance(output1, (list, tuple)):\n",
    "                for item in output1:\n",
    "                    print(f'item: {item}')\n",
    "            elif isinstance(output1, dict):\n",
    "                for key, value in output1.items():\n",
    "                    if isinstance(value, (list)):\n",
    "                        pass\n",
    "                    else:\n",
    "                        if key == \"InstanceId\":\n",
    "                            Header = value\n",
    "                        data1.append([key,value])\n",
    "                print(f'\\n\\033[1m Table for Instance ID : {Header} \\033[0;0m')\n",
    "                print(tabulate(data1))\n",
    "            else:\n",
    "                print(f'Output for {task.name}')\n",
    "                print(output1)\n",
    "\n",
    "\n",
    "Instance_Details(output, instance_list)"
   ]
  },
  {
   "attachments": {},
   "cell_type": "markdown",
   "id": "1e18a18c-f822-452d-9a94-719f23734fa4",
   "metadata": {
    "jupyter": {
     "source_hidden": false
    },
    "name": "Conclusion",
    "orderProperties": [],
    "tags": [],
    "title": "Conclusion"
   },
   "source": [
    "### Conclusion\n",
    "<p>In this Runbook, we demonstrated the use of unSkript's AWS legos to perform AWS actions and this runbook launched EC2 instances from AMI and show the details of the instance. To view the full platform capabilities of unSkript please visit <a href=\"https://us.app.unskript.io\" target=\"_blank\" rel=\"noopener\">https://us.app.unskript.io</a></p>"
   ]
  }
 ],
 "metadata": {
  "execution_data": {
   "runbook_name": "Launch AWS EC2 from AMI",
   "parameters": [
    "ami_id",
    "region"
   ]
  },
  "kernelspec": {
   "display_name": "unSkript (Build: 891)",
   "name": "python_kubernetes"
  },
  "language_info": {
   "file_extension": ".py",
   "mimetype": "text/x-python",
   "name": "python",
   "pygments_lexer": "ipython3"
  },
  "parameterSchema": {
   "properties": {
    "ami_id": {
     "description": "List of AMI IDs to be the launch instance.",
     "title": "ami_id",
     "type": "array"
    },
    "region": {
     "description": "AWS region",
     "title": "region",
     "type": "string"
    }
   },
   "required": [
    "ami_id",
    "region"
   ],
   "title": "Schema",
   "type": "object"
  },
  "parameterValues": null
 },
 "nbformat": 4,
 "nbformat_minor": 5
}