{
    "cells": [
        {
            "cell_type": "markdown",
            "id": "df2d3142-af44-463b-b652-eab728c5761e",
            "metadata": {
                "jupyter": {
                    "source_hidden": false
                },
                "name": "Runbook Overview",
                "orderProperties": [],
                "tags": [],
                "title": "Runbook Overview"
            },
            "source": [
                "<center><img src=\"https://unskript.com/assets/favicon.png\" alt=\"unSkript.com\" width=\"100\" height=\"100\">\n",
                "<h1 id=\"unSkript-Runbooks\">unSkript Runbooks</h1>\n",
                "<div class=\"alert alert-block alert-success\">\n",
                "<h3 id=\"Objective\"><strong>Objective</strong></h3>\n",
                "<strong>Detach EC2 Instance from Auto Scaling Group</strong></div>\n",
                "</center><center>\n",
                "<h2 id=\"Detach-EC2-Instance-from-Auto-Scaling-Group\"><strong>Detach EC2 Instance from Auto Scaling Group</strong></h2>\n",
                "</center>\n",
                "<h1 id=\"Steps-Overview\">Steps Overview</h1>\n",
                "<p>1)&nbsp;Get AWS EC2 Instances All&nbsp;</p>\n",
                "<p>2) Get AWS Auto Scaling Group Instances</p>\n",
                "<p>3) AWS Detach Instances From AutoScaling Group</p>"
            ]
        },
        {
            "cell_type": "markdown",
            "id": "e85d4ae1-a380-40f8-881c-56c3b0a10757",
            "metadata": {
                "jupyter": {
                    "source_hidden": false
                },
                "name": "Step-1",
                "orderProperties": [],
                "tags": [],
                "title": "Step-1"
            },
            "source": [
                "<h3 id=\"Filter-All-AWS-EC2-Instances\">Filter All AWS EC2 Instances</h3>\n",
                "<p>Using unSkript's <strong>Filter All AWS EC2 Instances</strong> action we list all the EC2 instances for a given region.</p>\n",
                "<ul>\n",
                "<li><strong>Input parameters:</strong>&nbsp; <code>region</code></li>\n",
                "<li><strong>Output variable:</strong>&nbsp; <code>instance_ids</code></li>\n",
                "</ul>"
            ]
        },
        {
            "cell_type": "code",
            "execution_count": 5,
            "id": "9284c3ad-8f08-4c81-96ab-eea07062d2ab",
            "metadata": {
                "accessType": "ACCESS_TYPE_UNSPECIFIED",
                "actionBashCommand": false,
                "actionNeedsCredential": true,
                "actionRequiredLinesInCode": [],
                "actionSupportsIteration": true,
                "actionSupportsPoll": true,
                "action_uuid": "a895bde45de04dcfe61591858815268ecf44ad7cdc35c528e46ddb3b4d0ed8d9",
                "condition_enabled": true,
                "continueOnError": false,
                "createTime": "1970-01-01T00:00:00Z",
                "credentialsJson": {
                    "credential_id": "0b438eba-0627-4f6d-b998-a4c604f20e3c",
                    "credential_name": "DevRole",
                    "credential_type": "CONNECTOR_TYPE_AWS"
                },
                "currentVersion": "0.1.0",
                "description": "Use This Action to Get All AWS EC2 Instances",
                "execution_data": {
                    "last_date_success_run_cell": "2023-01-09T12:01:23.689Z"
                },
                "id": 175,
                "index": 175,
                "inputData": [
                    {
                        "region": {
                            "constant": false,
                            "value": "region"
                        }
                    }
                ],
                "inputschema": [
                    {
                        "properties": {
                            "region": {
                                "description": "AWS Region of the ECS service.",
                                "title": "Region",
                                "type": "string"
                            }
                        },
                        "required": [
                            "region"
                        ],
                        "title": "aws_filter_ec2_instances",
                        "type": "object"
                    }
                ],
                "jupyter": {
                    "source_hidden": true
                },
                "legotype": "LEGO_TYPE_AWS",
                "name": "Get AWS EC2 Instances All ",
                "nouns": [
                    "instances"
                ],
                "orderProperties": [
                    "region"
                ],
                "output": {
                    "type": ""
                },
                "outputParams": {
                    "output_name": "instance_id",
                    "output_name_enabled": true
                },
                "printOutput": true,
                "startcondition": "not instance_id",
                "tags": [
                    "aws_filter_ec2_instances"
                ],
                "title": "Get AWS EC2 Instances All ",
                "verbs": [
                    "get"
                ]
            },
            "outputs": [],
            "source": [
                "##\n",
                "##  Copyright (c) 2021 unSkript, Inc\n",
                "##  All rights reserved.\n",
                "##\n",
                "from pydantic import BaseModel, Field\n",
                "from typing import List\n",
                "from unskript.connectors.aws import aws_get_paginator\n",
                "import pprint\n",
                "\n",
                "from beartype import beartype\n",
                "@beartype\n",
                "def aws_filter_ec2_instances_printer(output):\n",
                "    if output is None:\n",
                "        return\n",
                "    pprint.pprint({\"Instances\": output})\n",
                "\n",
                "\n",
                "@beartype\n",
                "def aws_filter_ec2_instances(handle, region: str) -> List:\n",
                "    \"\"\"aws_filter_ec2_instances Returns an array of instances.\n",
                "\n",
                "        :type handle: object\n",
                "        :param handle: Object returned from task.validate(...).\n",
                "\n",
                "        :type region: string\n",
                "        :param region: Region to filter instances.\n",
                "\n",
                "        :rtype: Array of instances.\n",
                "    \"\"\"\n",
                "    ec2Client = handle.client('ec2', region_name=region)\n",
                "    res = aws_get_paginator(ec2Client, \"describe_instances\", \"Reservations\")\n",
                "    result = []\n",
                "    for reservation in res:\n",
                "        for instance in reservation['Instances']:\n",
                "            result.append(instance['InstanceId'])\n",
                "    return result\n",
                "\n",
                "\n",
                "task = Task(Workflow())\n",
                "task.configure(printOutput=True)\n",
                "task.configure(inputParamsJson='''{\n",
                "    \"region\": \"region\"\n",
                "    }''')\n",
                "task.configure(conditionsJson='''{\n",
                "    \"condition_enabled\": true,\n",
                "    \"condition_cfg\": \"not instance_id\",\n",
                "    \"condition_result\": true\n",
                "    }''')\n",
                "task.configure(outputName=\"instance_id\")\n",
                "\n",
                "(err, hdl, args) = task.validate(vars=vars())\n",
                "if err is None:\n",
                "    task.execute(aws_filter_ec2_instances, lego_printer=aws_filter_ec2_instances_printer, hdl=hdl, args=args)"
            ]
        },
        {
            "cell_type": "markdown",
            "id": "561775c0-545a-4ca2-9c79-11b919f7dac0",
            "metadata": {
                "jupyter": {
                    "source_hidden": false
                },
                "name": "Step-2",
                "orderProperties": [],
                "tags": [],
                "title": "Step-2"
            },
            "source": [
                "<h3 id=\"List-Publicly-Accessible-RDS-Instances\">Get AWS Auto Scaling Group Instances</h3>\n",
                "<p>Using unSkript's&nbsp;<strong>Get AWS Auto Scaling Group Instances</strong> action, we find out all the AWS EC2 instances attached to Auto Scaling Group by passing instance ids from Step 1.</p>\n",
                "<ul>\n",
                "<li><strong>Input parameters:</strong>&nbsp; <code>region, instance_ids</code></li>\n",
                "<li><strong>Output variable:</strong>&nbsp; <code> auto_scale_instances</code></li>\n",
                "</ul>"
            ]
        },
        {
            "cell_type": "code",
            "execution_count": 26,
            "id": "7a26341d-517b-42fd-8fdc-896438a734ef",
            "metadata": {
                "accessType": "ACCESS_TYPE_UNSPECIFIED",
                "actionBashCommand": false,
                "actionNeedsCredential": true,
                "actionRequiredLinesInCode": [],
                "actionSupportsIteration": true,
                "actionSupportsPoll": true,
                "action_uuid": "4baa10996438c3e1acea659c68a4e383d0be4484f8ec6fe2a6d4b883fcb592c3",
                "continueOnError": false,
                "createTime": "1970-01-01T00:00:00Z",
                "credentialsJson": {
                    "credential_id": "0b438eba-0627-4f6d-b998-a4c604f20e3c",
                    "credential_name": "DevRole",
                    "credential_type": "CONNECTOR_TYPE_AWS"
                },
                "currentVersion": "0.1.0",
                "description": "Use This Action to Get AWS AutoScaling Group Instances",
                "execution_data": {
                    "last_date_success_run_cell": "2023-01-09T12:11:42.910Z"
                },
                "id": 192,
                "index": 192,
                "inputData": [
                    {
                        "instance_ids": {
                            "constant": false,
                            "value": "instance_id"
                        },
                        "region": {
                            "constant": false,
                            "value": "region"
                        }
                    }
                ],
                "inputschema": [
                    {
                        "properties": {
                            "instance_ids": {
                                "description": "List of instances.",
                                "title": "Instance IDs",
                                "type": "string"
                            },
                            "region": {
                                "description": "AWS Region of the ECS service.",
                                "title": "Region",
                                "type": "string"
                            }
                        },
                        "required": [
                            "instance_ids",
                            "region"
                        ],
                        "title": "aws_get_auto_scaling_instances",
                        "type": "object"
                    }
                ],
                "jupyter": {
                    "source_hidden": true
                },
                "legotype": "LEGO_TYPE_AWS",
                "name": "Get AWS Auto Scaling Group Instances",
                "nouns": [
                    "instances",
                    "autoscaling"
                ],
                "orderProperties": [
                    "instance_ids",
                    "region"
                ],
                "output": {
                    "type": ""
                },
                "outputParams": {
                    "output_name": "auto_scale_instances",
                    "output_name_enabled": true
                },
                "printOutput": true,
                "tags": [
                    "aws_get_auto_scaling_instances"
                ],
                "title": "Get AWS Auto Scaling Group Instances",
                "verbs": [
                    "get"
                ]
            },
            "outputs": [],
            "source": [
                "##  Copyright (c) 2021 unSkript, Inc\n",
                "##  All rights reserved.\n",
                "##\n",
                "from typing import List, Dict\n",
                "from pydantic import BaseModel, Field\n",
                "from tabulate import tabulate\n",
                "from botocore.exceptions import ClientError\n",
                "import pprint\n",
                "\n",
                "from beartype import beartype\n",
                "@beartype\n",
                "def aws_get_auto_scaling_instances_printer(output):\n",
                "    if output is None:\n",
                "        return\n",
                "    print(tabulate(output, headers='keys'))\n",
                "\n",
                "\n",
                "@beartype\n",
                "def aws_get_auto_scaling_instances(handle, instance_ids: list, region: str) -> List:\n",
                "    \"\"\"aws_get_auto_scaling_instances List of Dict with instanceId and attached groups.\n",
                "\n",
                "        :type handle: object\n",
                "        :param handle: Object returned from task.validate(...).\n",
                "\n",
                "        :type instance_ids: list\n",
                "        :param instance_ids: List of instances.\n",
                "\n",
                "        :type region: string\n",
                "        :param region: Region to filter instances.\n",
                "\n",
                "        :rtype: List of Dict with instanceId and attached groups.\n",
                "    \"\"\"\n",
                "    result = []\n",
                "    ec2Client = handle.client('autoscaling', region_name=region)\n",
                "    try:\n",
                "        response = ec2Client.describe_auto_scaling_instances(InstanceIds=instance_ids)\n",
                "        for group in response[\"AutoScalingInstances\"]:\n",
                "            group_dict = {}\n",
                "            group_dict[\"InstanceId\"] = group[\"InstanceId\"]\n",
                "            group_dict[\"AutoScalingGroupName\"] = group[\"AutoScalingGroupName\"]\n",
                "            result.append(group_dict)\n",
                "    except Exception as error:\n",
                "        err = {\"Error\":error}\n",
                "        result.append(err)\n",
                "    return result\n",
                "\n",
                "\n",
                "task = Task(Workflow())\n",
                "task.configure(printOutput=True)\n",
                "task.configure(inputParamsJson='''{\n",
                "    \"instance_ids\": \"instance_id\",\n",
                "    \"region\": \"region\"\n",
                "    }''')\n",
                "task.configure(outputName=\"auto_scale_instances\")\n",
                "\n",
                "(err, hdl, args) = task.validate(vars=vars())\n",
                "if err is None:\n",
                "    task.execute(aws_get_auto_scaling_instances, lego_printer=aws_get_auto_scaling_instances_printer, hdl=hdl, args=args)"
            ]
        },
        {
            "cell_type": "markdown",
            "id": "6c94529e-89db-4b29-b0b7-f65bc44e3fb8",
            "metadata": {
                "name": "Step-2 Extension",
                "orderProperties": [],
                "tags": [],
                "title": "Step-2 Extension"
            },
            "source": [
                "<h3 id=\"Modify-Snapshot-Output\">Check Auto Scaling Group</h3>\n",
                "<p>In this action, we check for the auto-scaling group name in the step 2 output and compare the group name with the given group name from the parameter.</p>\n",
                "<blockquote>\n",
                "<p>Output variable: asg_instance</p>\n",
                "</blockquote>"
            ]
        },
        {
            "cell_type": "code",
            "execution_count": 29,
            "id": "3ba9447c-27ea-4744-91c8-57b0e2b7cd62",
            "metadata": {
                "collapsed": true,
                "customAction": true,
                "execution_data": {
                    "last_date_success_run_cell": "2023-01-09T12:12:57.744Z"
                },
                "jupyter": {
                    "outputs_hidden": true,
                    "source_hidden": true
                },
                "name": "Check Auto Scaling Group",
                "orderProperties": [],
                "tags": [],
                "title": "Check Auto Scaling Group"
            },
            "outputs": [],
            "source": [
                "asg_instance  = []\n",
                "if asg_name:\n",
                "    for instance in auto_scale_instances:\n",
                "        if asg_name in instance[\"AutoScalingGroupName\"]:\n",
                "            asg_instance.append(instance)"
            ]
        },
        {
            "cell_type": "markdown",
            "id": "614ed424-9394-449e-9dc6-5547f765470a",
            "metadata": {
                "jupyter": {
                    "source_hidden": false
                },
                "name": "Detach AWS Instance From ASG",
                "orderProperties": [],
                "tags": [],
                "title": "Detach AWS Instance From ASG"
            },
            "source": [
                "<h3 id=\"List-Publicly-Accessible-RDS-Instances\">Detach AWS Instances From ASG</h3>\n",
                "<p>Using unSkript's&nbsp;<strong>Detach AWS Instance From ASG</strong> action. we detach the AWS instance from Auto Scaling Group by passing the data from step 2.</p>\n",
                "<ul>\n",
                "<li><strong>Input parameters:</strong>&nbsp; <code>region, group_name, instance_ids</code></li>\n",
                "<li><strong>Output variable:</strong> &nbsp;<code>detach_asg_instances</code></li>\n",
                "</ul>"
            ]
        },
        {
            "cell_type": "code",
            "execution_count": 4,
            "id": "f879301f-92c0-431c-9393-28e26f66c2d6",
            "metadata": {
                "accessType": "ACCESS_TYPE_UNSPECIFIED",
                "actionBashCommand": false,
                "actionNeedsCredential": true,
                "actionRequiredLinesInCode": [],
                "actionSupportsIteration": true,
                "actionSupportsPoll": true,
                "action_uuid": "8e6e08f606d40e2f4481128d356cc67d30be72349074c513627b3f03a178cf6e",
                "continueOnError": true,
                "createTime": "1970-01-01T00:00:00Z",
                "credentialsJson": {
                    "credential_id": "0b438eba-0627-4f6d-b998-a4c604f20e3c",
                    "credential_name": "DevRole",
                    "credential_type": "CONNECTOR_TYPE_AWS"
                },
                "currentVersion": "0.1.0",
                "description": "Use This Action to AWS Detach Instances From AutoScaling Group",
                "execution_data": {
                    "last_date_success_run_cell": "2022-09-19T09:44:15.118Z"
                },
                "id": 135,
                "index": 135,
                "inputData": [
                    {
                        "group_name": {
                            "constant": false,
                            "value": "\"iter.get(\\\\\"AutoScalingGroupName\\\\\")\""
                        },
                        "instance_ids": {
                            "constant": false,
                            "value": "\"iter.get(\\\\\"InstanceId\\\\\")\""
                        },
                        "region": {
                            "constant": false,
                            "value": "region"
                        }
                    }
                ],
                "inputschema": [
                    {
                        "properties": {
                            "group_name": {
                                "description": "Name of AutoScaling Group.",
                                "title": "Group Name",
                                "type": "string"
                            },
                            "instance_ids": {
                                "description": "List of instances.",
                                "title": "Instance IDs",
                                "type": "string"
                            },
                            "region": {
                                "description": "AWS Region of autoscaling group.",
                                "title": "Region",
                                "type": "string"
                            }
                        },
                        "required": [
                            "instance_ids",
                            "group_name",
                            "region"
                        ],
                        "title": "aws_detach_autoscaling_instances",
                        "type": "object"
                    }
                ],
                "iterData": [
                    {
                        "iter_enabled": true,
                        "iter_item": {
                            "group_name": "AutoScalingGroupName",
                            "instance_ids": "InstanceId"
                        },
                        "iter_list": {
                            "constant": false,
                            "objectItems": true,
                            "value": "asg_instance"
                        }
                    }
                ],
                "jupyter": {
                    "source_hidden": true
                },
                "legotype": "LEGO_TYPE_AWS",
                "name": "AWS Detach Instances From AutoScaling Group",
                "nouns": [
                    "instances",
                    "autoscaling"
                ],
                "orderProperties": [
                    "instance_ids",
                    "group_name",
                    "region"
                ],
                "output": {
                    "type": ""
                },
                "outputParams": {
                    "output_name": "detach_asg_instances",
                    "output_name_enabled": true
                },
                "printOutput": true,
                "tags": [
                    "aws_detach_autoscaling_instances"
                ],
                "title": "AWS Detach Instances From AutoScaling Group",
                "verbs": [
                    "detach"
                ]
            },
            "outputs": [],
            "source": [
                "##  Copyright (c) 2021 unSkript, Inc\n",
                "##  All rights reserved.\n",
                "##\n",
                "from typing import List, Dict\n",
                "from pydantic import BaseModel, Field\n",
                "import pprint\n",
                "\n",
                "from beartype import beartype\n",
                "@beartype\n",
                "def aws_detach_autoscaling_instances_printer(output):\n",
                "    if output is None:\n",
                "        return\n",
                "    pprint.pprint(output)\n",
                "\n",
                "\n",
                "@beartype\n",
                "def aws_detach_autoscaling_instances(\n",
                "    handle,\n",
                "    instance_ids: str,\n",
                "    group_name: str,\n",
                "    region: str\n",
                ") -> Dict:\n",
                "    \"\"\"aws_detach_autoscaling_instances detach instances from autoscaling group.\n",
                "\n",
                "        :type handle: object\n",
                "        :param handle: Object returned from task.validate(...).\n",
                "\n",
                "        :type instance_ids: string\n",
                "        :param instance_ids: Name of instances.\n",
                "\n",
                "        :type group_name: string\n",
                "        :param group_name: Name of AutoScaling Group.\n",
                "\n",
                "        :type region: string\n",
                "        :param region: AWS Region of autoscaling group.\n",
                "\n",
                "        :rtype: Dict with the detach instance info.\n",
                "    \"\"\"\n",
                "\n",
                "    ec2Client = handle.client(\"autoscaling\", region_name=region)\n",
                "    result = {}\n",
                "    try:\n",
                "        if instance_ids in Instance_IDs:\n",
                "            response = ec2Client.detach_instances(\n",
                "                InstanceIds=[instance_ids],\n",
                "                AutoScalingGroupName=group_name,\n",
                "                ShouldDecrementDesiredCapacity=True\n",
                "                )\n",
                "            result = response\n",
                "        else:\n",
                "            result[\"error\"] = \"Instance not match\"\n",
                "    except Exception as error:\n",
                "        result[\"error\"] = error\n",
                "\n",
                "    return result\n",
                "\n",
                "\n",
                "task = Task(Workflow())\n",
                "task.configure(printOutput=True)\n",
                "task.configure(continueOnError=True)\n",
                "task.configure(inputParamsJson='''{\n",
                "    \"group_name\": \"iter.get(\\\\\"AutoScalingGroupName\\\\\")\",\n",
                "    \"instance_ids\": \"iter.get(\\\\\"InstanceId\\\\\")\",\n",
                "    \"region\": \"region\"\n",
                "    }''')\n",
                "task.configure(iterJson='''{\n",
                "    \"iter_enabled\": true,\n",
                "    \"iter_list_is_const\": false,\n",
                "    \"iter_list\": \"asg_instance\",\n",
                "    \"iter_parameter\": [\"group_name\",\"instance_ids\"]\n",
                "    }''')\n",
                "task.configure(outputName=\"detach_asg_instances\")\n",
                "(err, hdl, args) = task.validate(vars=vars())\n",
                "if err is None:\n",
                "    task.execute(aws_detach_autoscaling_instances, lego_printer=aws_detach_autoscaling_instances_printer, hdl=hdl, args=args)"
            ]
        },
        {
            "attachments": {},
            "cell_type": "markdown",
            "id": "346d8d07-6708-4663-bf8c-5d17c8b6506f",
            "metadata": {
                "jupyter": {
                    "source_hidden": false
                },
                "name": "Conclusion",
                "orderProperties": [],
                "tags": [],
                "title": "Conclusion"
            },
            "source": [
                "### Conclusion\n",
                "In this Runbook, we demonstrated the use of unSkript's AWS legos to Detach AWS instance from ASG. This runbook help to detach the given instance from Auto Scalling Group. To view the full platform capabilities of unSkript please visit https://unskript.com"
            ]
        }
    ],
    "metadata": {
        "execution_data": {
            "environment_name": "Staging",
            "environment_type": "ENVIRONMENT_TYPE_AWS_EC2",
            "execution_id": "",
            "inputs_for_searched_lego": "",
            "notebook_id": "8ad47412-5c17-40a7-92c0-e3f241625198.ipynb",
            "parameters": [
                "asg_name",
                "region"
            ],
            "proxy_id": "1499f27c-6406-4fbd-bd1b-c6f92800018f",
            "runbook_name": "Detach EC2 Instance from Auto Scaling Group and Load Balancer",
            "search_string": "",
            "show_tool_tip": false,
            "tenant_id": "982dba5f-d9df-48ae-a5bf-ec1fc94d4882",
            "tenant_url": "https://tenant-staging.alpha.unskript.io",
            "user_email_id": "harshal.bangre@unskript.com",
            "workflow_id": "80d4a693-e103-4367-894b-c18727b13b09"
        },
        "kernelspec": {
            "display_name": "Python 3",
            "language": "python",
            "name": "python3"
        },
        "language_info": {
            "file_extension": ".py",
            "mimetype": "text/x-python",
            "name": "python",
            "pygments_lexer": "ipython3",
            "version": "3.10.6 (tags/v3.10.6:9c7b4bd, Aug  1 2022, 21:53:49) [MSC v.1932 64 bit (AMD64)]"
        },
        "parameterSchema": {
            "properties": {
                "asg_name": {
                    "description": "Name of the Autoscaling group.",
                    "title": "asg_name",
                    "type": "string"
                },
                "region": {
                    "default": "us-west-2",
                    "description": "AWS Region e.g. us-west-2",
                    "title": "region",
                    "type": "string"
                }
            },
            "required": [
                "asg_name",
                "region"
            ],
            "title": "Schema",
            "type": "object"
        },
        "parameterValues": null,
        "vscode": {
            "interpreter": {
                "hash": "e8899eb02dfbc033aab5733bdae1bd213fa031d40331094008e8673d99ebab63"
            }
        }
    },
    "nbformat": 4,
    "nbformat_minor": 5
}
