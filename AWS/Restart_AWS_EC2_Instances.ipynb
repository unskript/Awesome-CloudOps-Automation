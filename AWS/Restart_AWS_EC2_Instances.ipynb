{
    "cells": [
        {
            "cell_type": "markdown",
            "id": "5f773213-63a4-46c6-9336-b6e4edf494d5",
            "metadata": {
                "jupyter": {
                    "source_hidden": false
                },
                "name": "Restart EC2 Instance",
                "orderProperties": [],
                "tags": [],
                "title": "Restart EC2 Instance"
            },
            "source": [
                "\n",
                "<img src=\"https://unskript.com/assets/favicon.png\" alt=\"unSkript.com\" width=\"100\" height=\"100\"/> \n",
                "<h1> unSkript Runbooks </h1>\n",
                "<div class=\"alert alert-block alert-success\">\n",
                "    <b> This runbook demonstrates How to Restart AWS EC2 Instance using unSkript legos.</b>\n",
                "</div>\n",
                "\n",
                "<br>\n",
                "\n",
                "<center><h2>Restart EC2 Instance</h2></center>\n",
                "\n",
                "# Steps Overview \n",
                "    1 Get instance_ids from action Filter AWS EC2 Instances by tag(Inputs: tag_key,tag_value,region)\n",
                "    2 Pass the array of instance_id:list and region:string to the Restart AWS EC2 instance action\n",
                "    3 Get the instance details by passing the instance_ids:string and region:string"
            ]
        },
        {
            "cell_type": "markdown",
            "id": "4d25f1c6-c93c-4c75-8046-f1eab26ab982",
            "metadata": {
                "jupyter": {
                    "source_hidden": false
                },
                "name": "Find out all AWS EC2 instances",
                "orderProperties": [],
                "tags": [],
                "title": "Find out all AWS EC2 instances"
            },
            "source": [
                "Here we will use unSkript Filter AWS EC2 Instances by tag Lego. This lego takes tag_key, tag_value, region as input. This inputs is used to findout all the instances available on specified region."
            ]
        },
        {
            "cell_type": "code",
            "execution_count": 3,
            "id": "b7197e5c-28af-4cde-97fd-ec84303e7e6b",
            "metadata": {
                "accessType": "ACCESS_TYPE_UNSPECIFIED",
                "actionBashCommand": false,
                "actionNeedsCredential": true,
                "actionRequiredLinesInCode": [],
                "actionSupportsIteration": true,
                "actionSupportsPoll": true,
                "action_uuid": "abe9fc82a53b80dc1dd4d5a89e31d22b0338e73e86d2ca859576f38cc6d19f48",
                "continueOnError": false,
                "createTime": "1970-01-01T00:00:00Z",
                "credentialsJson": {},
                "currentVersion": "0.1.0",
                "description": "Filter AWS EC2 Instance by Tag",
                "execution_data": {
                    "last_date_success_run_cell": "2022-08-01T17:14:08.512Z"
                },
                "id": 155,
                "index": 155,
                "inputData": [
                    {
                        "region": {
                            "constant": false,
                            "value": "region"
                        },
                        "tag_key": {
                            "constant": false,
                            "value": "tag_key"
                        },
                        "tag_value": {
                            "constant": false,
                            "value": "tag_value"
                        }
                    }
                ],
                "inputschema": [
                    {
                        "properties": {
                            "region": {
                                "description": "AWS Region.",
                                "title": "Region",
                                "type": "string"
                            },
                            "tag_key": {
                                "description": "The key of the tag.",
                                "title": "Tag Key",
                                "type": "string"
                            },
                            "tag_value": {
                                "description": "The value of the key.",
                                "title": "Tag Value",
                                "type": "string"
                            }
                        },
                        "required": [
                            "tag_key",
                            "tag_value",
                            "region"
                        ],
                        "title": "aws_filter_ec2_by_tags",
                        "type": "object"
                    }
                ],
                "jupyter": {
                    "source_hidden": true
                },
                "legotype": "LEGO_TYPE_AWS",
                "name": "Filter AWS EC2 Instances by tag",
                "nouns": [
                    "aws",
                    "ec2",
                    "instances",
                    "tag"
                ],
                "orderProperties": [
                    "tag_key",
                    "tag_value",
                    "region"
                ],
                "output": {
                    "type": ""
                },
                "outputParams": {
                    "output_name": "InstanceList",
                    "output_name_enabled": true
                },
                "printOutput": true,
                "tags": [
                    "aws_filter_ec2_by_tags"
                ],
                "trusted": true,
                "verbs": [
                    "filter"
                ]
            },
            "outputs": [],
            "source": [
                "##\n",
                "##  Copyright (c) 2021 unSkript, Inc\n",
                "##  All rights reserved.\n",
                "##\n",
                "from pydantic import BaseModel, Field\n",
                "from typing import List\n",
                "from unskript.connectors.aws import aws_get_paginator\n",
                "import pprint\n",
                "\n",
                "\n",
                "from beartype import beartype\n",
                "@beartype\n",
                "def aws_filter_ec2_by_tags_printer(output):\n",
                "    if output is None:\n",
                "        return\n",
                "    pprint.pprint({\"Instances\": output})\n",
                "\n",
                "\n",
                "@beartype\n",
                "def aws_filter_ec2_by_tags(handle, tag_key: str, tag_value: str, region: str) -> List:\n",
                "    \"\"\"aws_filter_ec2_by_tags Returns an array of instances matching tags.\n",
                "\n",
                "        :type nbParamsObj: object\n",
                "        :param nbParamsObj: Object containing global params for the notebook.\n",
                "\n",
                "        :type credentialsDict: dict\n",
                "        :param credentialsDict: Dictionary of credentials info.\n",
                "\n",
                "        :type inputParamsJson: string\n",
                "        :param inputParamsJson: Json string of the input params.\n",
                "\n",
                "        :rtype: Array of instances matching tags.\n",
                "    \"\"\"\n",
                "    # Input param validation.\n",
                "\n",
                "    ec2Client = handle.client('ec2', region_name=region)\n",
                "    res = aws_get_paginator(ec2Client, \"describe_instances\", \"Reservations\",\n",
                "                            Filters=[{'Name': 'tag:' + tag_key, 'Values': [tag_value]}])\n",
                "\n",
                "    result = []\n",
                "    for reservation in res:\n",
                "        for instance in reservation['Instances']:\n",
                "            result.append(instance['InstanceId'])\n",
                "    return result\n",
                "\n",
                "\n",
                "task = Task(Workflow())\n",
                "task.configure(printOutput=True)\n",
                "task.configure(inputParamsJson='''{\n",
                "    \"region\": \"region\",\n",
                "    \"tag_key\": \"tag_key\",\n",
                "    \"tag_value\": \"tag_value\"\n",
                "    }''')\n",
                "task.configure(outputName=\"InstanceList\")\n",
                "(err, hdl, args) = task.validate(vars=vars())\n",
                "if err is None:\n",
                "    task.execute(aws_filter_ec2_by_tags, lego_printer=aws_filter_ec2_by_tags_printer, hdl=hdl, args=args)"
            ]
        },
        {
            "cell_type": "markdown",
            "id": "7b35320c-c614-4d36-8fbb-cc102c02f72b",
            "metadata": {
                "jupyter": {
                    "source_hidden": false
                },
                "name": "Restart AWS EC2 instances",
                "orderProperties": [],
                "tags": [],
                "title": "Restart AWS EC2 instances"
            },
            "source": [
                "Here we will use unSkript Restart AWS EC2 Instances by tag Lego. This lego takes instance_ids and region as input. This inputs is used to restart the instances which we get using above Filter AWS EC2 Instances by tag Lego. We pass the instances IDs list to the lego."
            ]
        },
        {
            "cell_type": "code",
            "execution_count": 4,
            "id": "c112f3f4-8a79-4e08-9c6a-cf404ee699aa",
            "metadata": {
                "accessType": "ACCESS_TYPE_UNSPECIFIED",
                "actionBashCommand": false,
                "actionNeedsCredential": true,
                "actionRequiredLinesInCode": [],
                "actionSupportsIteration": true,
                "actionSupportsPoll": true,
                "action_uuid": "bf071908d3762d6b342aa6e54019ea07119c9ff187ea74cd8865c7f543a89898",
                "continueOnError": false,
                "createTime": "1970-01-01T00:00:00Z",
                "credentialsJson": {
                    "credential_id": "0b438eba-0627-4f6d-b998-a4c604f20e3c",
                    "credential_name": "DevRole",
                    "credential_type": "CONNECTOR_TYPE_AWS"
                },
                "currentVersion": "0.1.0",
                "description": " Restart AWS Instances",
                "execution_data": {
                    "last_date_success_run_cell": "2022-08-01T16:52:29.791Z"
                },
                "id": 154,
                "index": 154,
                "inputData": [
                    {
                        "instance_ids": {
                            "constant": false,
                            "value": "InstanceList"
                        },
                        "region": {
                            "constant": false,
                            "value": "region"
                        }
                    }
                ],
                "inputschema": [
                    {
                        "properties": {
                            "instance_ids": {
                                "description": "List of instance IDs. For eg. [\"i-foo\", \"i-bar\"]",
                                "items": {
                                    "type": "string"
                                },
                                "title": "Instance IDs",
                                "type": "array"
                            },
                            "region": {
                                "description": "AWS Region of the instances.",
                                "title": "Region",
                                "type": "string"
                            }
                        },
                        "required": [
                            "instance_ids",
                            "region"
                        ],
                        "title": "aws_restart_ec2_instances",
                        "type": "object"
                    }
                ],
                "jupyter": {
                    "source_hidden": true
                },
                "legotype": "LEGO_TYPE_AWS",
                "name": "Restart AWS EC2 Instances",
                "nouns": [
                    "aws",
                    "instances"
                ],
                "orderProperties": [
                    "instance_ids",
                    "region"
                ],
                "output": {
                    "type": ""
                },
                "outputParams": {
                    "output_name": "restartmsg",
                    "output_name_enabled": true
                },
                "printOutput": true,
                "tags": [
                    "aws_restart_ec2_instances"
                ],
                "title": "Restart AWS EC2 Instances",
                "trusted": true,
                "verbs": [
                    "restart"
                ]
            },
            "outputs": [],
            "source": [
                "##  Copyright (c) 2021 unSkript, Inc\n",
                "##  All rights reserved.\n",
                "##\n",
                "from typing import List, Dict\n",
                "from pydantic import BaseModel, Field\n",
                "import pprint\n",
                "\n",
                "\n",
                "from beartype import beartype\n",
                "@beartype\n",
                "def aws_restart_ec2_instances_printer(output):\n",
                "    if output is None:\n",
                "        return\n",
                "    pprint.pprint(output)\n",
                "\n",
                "\n",
                "@beartype\n",
                "def aws_restart_ec2_instances(handle, instance_ids: List, region: str) -> Dict:\n",
                "    \"\"\"aws_restart_instances Restarts instances.\n",
                "\n",
                "        :type nbParamsObj: object\n",
                "        :param nbParamsObj: Object containing global params for the notebook.\n",
                "\n",
                "        :type credentialsDict: dict\n",
                "        :param credentialsDict: Dictionary of credentials info.\n",
                "\n",
                "        :type inputParamsJson: string\n",
                "        :param inputParamsJson: Json string of the input params.\n",
                "\n",
                "        :rtype: Dict with the stopped instances state info.\n",
                "    \"\"\"\n",
                "\n",
                "    ec2Client = handle.client('ec2', region_name=region)\n",
                "    res = ec2Client.reboot_instances(InstanceIds=instance_ids)\n",
                "    return res\n",
                "\n",
                "\n",
                "task = Task(Workflow())\n",
                "task.configure(printOutput=True)\n",
                "task.configure(inputParamsJson='''{\n",
                "    \"instance_ids\": \"InstanceList\",\n",
                "    \"region\": \"region\"\n",
                "    }''')\n",
                "task.configure(outputName=\"restartmsg\")\n",
                "\n",
                "(err, hdl, args) = task.validate(vars=vars())\n",
                "if err is None:\n",
                "    task.execute(aws_restart_ec2_instances, lego_printer=aws_restart_ec2_instances_printer, hdl=hdl, args=args)"
            ]
        },
        {
            "cell_type": "markdown",
            "id": "5336e57c-1c40-4f67-938c-dceee50b42be",
            "metadata": {
                "jupyter": {
                    "source_hidden": false
                },
                "name": "Get details of restarted instances",
                "orderProperties": [],
                "tags": [],
                "title": "Get details of restarted instances"
            },
            "source": [
                "Here we will use unSkript Get AWS Instance Details Lego to get the details of the instances. This lego takes instance_ids and region as input. This input is used to get details of instances which we received in the first Action of this Runbook."
            ]
        },
        {
            "cell_type": "code",
            "execution_count": 5,
            "id": "e3117ba3-82ac-45b3-9ce4-109d0aa54f61",
            "metadata": {
                "accessType": "ACCESS_TYPE_UNSPECIFIED",
                "actionBashCommand": false,
                "actionNeedsCredential": true,
                "actionRequiredLinesInCode": [],
                "actionSupportsIteration": true,
                "actionSupportsPoll": true,
                "action_uuid": "aa1e026ca8002b906315feba401e5c46889d459270adce3b65d480dc9530311f",
                "continueOnError": true,
                "createTime": "1970-01-01T00:00:00Z",
                "credentialsJson": {
                    "credential_id": "0b438eba-0627-4f6d-b998-a4c604f20e3c",
                    "credential_name": "DevRole",
                    "credential_type": "CONNECTOR_TYPE_AWS"
                },
                "currentVersion": "0.1.0",
                "description": "Use This Action to Get Details about an AWS EC2 Instance",
                "execution_data": {
                    "last_date_success_run_cell": "2022-08-01T17:14:38.055Z"
                },
                "id": 122,
                "index": 122,
                "inputData": [
                    {
                        "instance_id": {
                            "constant": false,
                            "value": "iter_item"
                        },
                        "region": {
                            "constant": false,
                            "value": "region"
                        }
                    }
                ],
                "inputschema": [
                    {
                        "properties": {
                            "instance_id": {
                                "description": "ID of the instance.",
                                "title": "Instance Id",
                                "type": "string"
                            },
                            "region": {
                                "description": "AWS Region of the instance.",
                                "title": "Region",
                                "type": "string"
                            }
                        },
                        "required": [
                            "instance_id",
                            "region"
                        ],
                        "title": "aws_get_instance_details",
                        "type": "object"
                    }
                ],
                "iterData": [
                    {
                        "iter_enabled": true,
                        "iter_item": "instance_id",
                        "iter_list": {
                            "constant": false,
                            "objectItems": false,
                            "value": "InstanceList"
                        }
                    }
                ],
                "jupyter": {
                    "source_hidden": true
                },
                "legotype": "LEGO_TYPE_AWS",
                "name": "Get AWS Instance Details",
                "nouns": [
                    "instance",
                    "details"
                ],
                "orderProperties": [
                    "instance_id",
                    "region"
                ],
                "output": {
                    "type": ""
                },
                "outputParams": {
                    "output_name": "InstanceDetails",
                    "output_name_enabled": true
                },
                "tags": [
                    "aws_get_instance_details"
                ],
                "trusted": true,
                "verbs": [
                    "get"
                ]
            },
            "outputs": [],
            "source": [
                "##\n",
                "# Copyright (c) 2021 unSkript, Inc\n",
                "# All rights reserved.\n",
                "##\n",
                "from pydantic import BaseModel, Field\n",
                "from typing import Dict\n",
                "import pprint\n",
                "from beartype import beartype\n",
                "\n",
                "def aws_get_instances_printer(output):\n",
                "    if output is None:\n",
                "        return\n",
                "    pprint.pprint(output)\n",
                "\n",
                "@beartype\n",
                "def aws_get_instance_details(\n",
                "    handle,\n",
                "    instance_id: str,\n",
                "    region: str,\n",
                ") -> Dict:\n",
                "\n",
                "    ec2client = handle.client('ec2', region_name=region)\n",
                "    instances = []\n",
                "    response = ec2client.describe_instances(\n",
                "        Filters=[{\"Name\": \"instance-id\", \"Values\": [instance_id]}])\n",
                "    for reservation in response[\"Reservations\"]:\n",
                "        for instance in reservation[\"Instances\"]:\n",
                "            instances.append(instance)\n",
                "\n",
                "    return instances[0]\n",
                "\n",
                "\n",
                "\n",
                "task = Task(Workflow())\n",
                "task.configure(continueOnError=True)\n",
                "task.configure(inputParamsJson='''{\n",
                "    \"instance_id\": \"iter_item\",\n",
                "    \"region\": \"region\"\n",
                "    }''')\n",
                "task.configure(iterJson='''{\n",
                "    \"iter_enabled\": true,\n",
                "    \"iter_list_is_const\": false,\n",
                "    \"iter_list\": \"InstanceList\",\n",
                "    \"iter_parameter\": \"instance_id\"\n",
                "    }''')\n",
                "task.configure(outputName=\"InstanceDetails\")\n",
                "\n",
                "(err, hdl, args) = task.validate(vars=vars())\n",
                "if err is None:\n",
                "    task.execute(aws_get_instance_details, lego_printer=aws_get_instances_printer, hdl=hdl, args=args)"
            ]
        },
        {
            "cell_type": "code",
            "execution_count": 6,
            "id": "a773f2a8-24b3-4dd6-a3c9-6266c9bafa05",
            "metadata": {
                "continueOnError": false,
                "execution_data": {
                    "last_date_success_run_cell": "2022-08-01T17:13:04.518Z"
                },
                "inputData": [
                    {}
                ],
                "inputschema": [
                    {
                        "properties": {},
                        "required": [],
                        "title": "Instance Details"
                    }
                ],
                "name": "Instance Details",
                "orderProperties": [],
                "tags": [],
                "title": "Instance Details",
                "trusted": true
            },
            "outputs": [],
            "source": [
                "import pprint\n",
                "from pydantic import BaseModel, Field\n",
                "from typing import Dict\n",
                "from tabulate import tabulate\n",
                "\n",
                "output = InstanceDetails\n",
                "instance_list = InstanceList\n",
                "def Instance_Details(output,instance_list: list):\n",
                "    data1 = []\n",
                "    Header = \"\"\n",
                "    for instance_id in instance_list:\n",
                "        if instance_id in output.keys():\n",
                "            output1 = output[instance_id]\n",
                "            if isinstance(output1, (list, tuple)):\n",
                "                for item in output1:\n",
                "                    print(f'item: {item}')\n",
                "            elif isinstance(output1, dict):\n",
                "                for key,value in output1.items():\n",
                "                    if isinstance(value, (list)):\n",
                "                        pass\n",
                "                    else:\n",
                "                        if key == \"InstanceId\":\n",
                "                            Header = value\n",
                "                        data1.append([key,value])\n",
                "                print(f'\\n\\033[1m Table for Instance ID : {Header} \\033[0;0m')\n",
                "                print(tabulate(data1))\n",
                "            else:\n",
                "                print(f'Output for {task.name}')\n",
                "                print(output1)\n",
                "                \n",
                "Instance_Details(output,instance_list)"
            ]
        },
        {
            "cell_type": "markdown",
            "id": "b3f10b1c-f542-48da-9b6e-1123873385a8",
            "metadata": {
                "jupyter": {
                    "source_hidden": false
                },
                "name": "Conclusion",
                "orderProperties": [],
                "tags": [],
                "title": "Conclusion"
            },
            "source": [
                "In this Runbook, we demonstrated the use of unSkript's AWS legos to restart the AWS EC2 instances and get the details. To view the full platform capabilities of unSkript please visit https://unskript.com"
            ]
        }
    ],
    "metadata": {
        "execution_data": {
            "environment_id": "1499f27c-6406-4fbd-bd1b-c6f92800018f",
            "environment_name": "Staging",
            "execution_id": "6a81a253-75cd-4720-8e6e-c985ad88076a",
            "inputs_for_searched_lego": "",
            "notebook_id": "workflow.ipynb",
            "parameters": [
                "region",
                "tag_key",
                "tag_value"
            ],
            "runbook_name": "Restart AWS EC2 Instances",
            "search_string": "",
            "show_tool_tip": false,
            "tenant_id": "982dba5f-d9df-48ae-a5bf-ec1fc94d4882",
            "tenant_url": "https://tenant-staging.alpha.unskript.io",
            "user_email_id": "harshal.bangre@unskript.com",
            "workflow_id": "614769ca-81b2-4541-a60e-4993dcbbcc33"
        },
        "kernelspec": {
            "display_name": "Python 3.9.6 ('jupyter-elyra')",
            "language": "python",
            "name": "python3"
        },
        "language_info": {
            "file_extension": ".py",
            "mimetype": "text/x-python",
            "name": "python",
            "pygments_lexer": "ipython3",
            "version": "3.9.6"
        },
        "parameterSchema": {
            "properties": {
                "region": {
                    "default": "us-west-2",
                    "description": "AWS Region",
                    "title": "region",
                    "type": "string"
                },
                "tag_key": {
                    "default": "Service",
                    "description": "Tag Key",
                    "title": "tag_key",
                    "type": "string"
                },
                "tag_value": {
                    "default": "devmongodb",
                    "description": "Tag Value",
                    "title": "tag_value",
                    "type": "string"
                }
            },
            "required": [],
            "title": "Schema",
            "type": "object"
        },
        "parameterValues": {
            "region": "us-west-2",
            "tag_key": "Service",
            "tag_value": "devmongodb"
        },
        "vscode": {
            "interpreter": {
                "hash": "abbf80fbfe9c242090d0fbc1079a9f03583a8e7a3457324ed37aa21600e94bd8"
            }
        }
    },
    "nbformat": 4,
    "nbformat_minor": 5
}
