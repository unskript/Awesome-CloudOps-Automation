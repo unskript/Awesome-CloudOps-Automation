{
 "cells": [
  {
   "cell_type": "markdown",
   "id": "b18495bb-19ba-4b43-9824-8739dd304b90",
   "metadata": {
    "jupyter": {
     "source_hidden": false
    },
    "name": "Steps Overview",
    "orderProperties": [],
    "tags": [],
    "title": "Steps Overview"
   },
   "source": [
    "<center><img src=\"https://storage.googleapis.com/unskript-website/assets/favicon.png\" alt=\"unSkript.com\" width=\"100\" height=\"100\">\n",
    "<h1 id=\"-unSkript-Runbooks-\">unSkript Runbooks <a class=\"jp-InternalAnchorLink\" href=\"#-unSkript-Runbooks-\" target=\"_self\">&para;</a></h1>\n",
    "<div class=\"alert alert-block alert-success\">\n",
    "<h3 id=\"-Objective\">Objective<a class=\"jp-InternalAnchorLink\" href=\"#-Objective\" target=\"_self\">&para;</a></h3>\n",
    "<br><strong style=\"color: #000000;\"><em>Renew expiring AWS Certificate Manager(ACM) issued SSL Certificates</em></strong></div>\n",
    "</center>\n",
    "<p>&nbsp;</p>\n",
    "<center>\n",
    "<h2 id=\"Renew-SSL-Certificate\"><u>Renew SSL Certificate</u><a class=\"jp-InternalAnchorLink\" href=\"#Renew-SSL-Certificate\" target=\"_self\">&para;</a></h2>\n",
    "</center>\n",
    "<h1 id=\"Steps-Overview\">Steps Overview<a class=\"jp-InternalAnchorLink\" href=\"#Steps-Overview\" target=\"_self\">&para;</a></h1>\n",
    "<p>1)<a href=\"#1\" target=\"_self\" rel=\"noopener\"> List expiring ACM certificates</a><br>2)<a href=\"#2\" target=\"_self\" rel=\"noopener\"> Renew expiring ACM certificates</a></p>"
   ]
  },
  {
   "cell_type": "code",
   "execution_count": null,
   "id": "d0b54d56-ac3c-4bf8-bff3-8f8e9c997630",
   "metadata": {
    "collapsed": true,
    "credentialsJson": {},
    "customAction": true,
    "jupyter": {
     "outputs_hidden": true,
     "source_hidden": true
    },
    "name": "Input verification",
    "orderProperties": [],
    "tags": [],
    "title": "Input verification"
   },
   "outputs": [],
   "source": [
    "if region == None:\n",
    "    region = ''"
   ]
  },
  {
   "cell_type": "markdown",
   "id": "c52f7b11-cca5-4bde-8641-995f5c9e2f43",
   "metadata": {
    "jupyter": {
     "source_hidden": false
    },
    "name": "Step 1",
    "orderProperties": [],
    "tags": [],
    "title": "Step 1"
   },
   "source": [
    "<h3 id=\"List-expiring-ACM-certificates\"><a id=\"1\" target=\"_self\" rel=\"nofollow\"></a>List expiring ACM certificates</h3>\n",
    "<p>Using unSkript's List expiring ACM certificates action, we will fetch all the expiring certificates given a specific number of threshold days.</p>\n",
    "<blockquote>\n",
    "<p>This action takes the following parameters: <code>threshold_days</code>, <code>region(Optional)</code></p>\n",
    "</blockquote>\n",
    "<blockquote>\n",
    "<p>This action captures the following output: <code>expiring_certificates</code></p>\n",
    "</blockquote>"
   ]
  },
  {
   "cell_type": "code",
   "execution_count": null,
   "id": "4087f95e-aca3-4eb9-95c0-acf50a778c5a",
   "metadata": {
    "actionBashCommand": false,
    "actionCategories": [
     "CATEGORY_TYPE_CLOUDOPS",
     "CATEGORY_TYPE_SECOPS",
     "CATEGORY_TYPE_SRE",
     "CATEGORY_TYPE_AWS",
     "CATEGORY_TYPE_AWS_ACM"
    ],
    "actionDescription": "List All Expiring ACM Certificates",
    "actionEntryFunction": "aws_list_expiring_acm_certificates",
    "actionIsCheck": true,
    "actionIsRemediation": false,
    "actionNeedsCredential": true,
    "actionNextHop": [
     "76681732b20a69913f0d9248272271bf2f4ab6459498ec6d0ab055870e0db0bb"
    ],
    "actionNextHopParameterMapping": {},
    "actionNouns": [
     "expiring",
     "certificates",
     "aws"
    ],
    "actionOutputType": "ACTION_OUTPUT_TYPE_LIST",
    "actionSupportsIteration": true,
    "actionSupportsPoll": true,
    "actionTitle": "List Expiring ACM Certificates",
    "actionType": "LEGO_TYPE_AWS",
    "actionVerbs": [
     "list"
    ],
    "actionVersion": "1.0.0",
    "action_modified": false,
    "action_uuid": "c1ee1c3b5cb0e07f0b52ca4d853aba6b3e597882e785ea054f95d69c03d83973",
    "collapsed": true,
    "continueOnError": false,
    "credentialsJson": {},
    "description": "List All Expiring ACM Certificates",
    "id": 4,
    "index": 4,
    "inputData": [
     {
      "region": {
       "constant": false,
       "value": "region"
      },
      "threshold_days": {
       "constant": false,
       "value": "int(threshold_days)"
      }
     }
    ],
    "inputschema": [
     {
      "properties": {
       "region": {
        "default": "",
        "description": "Name of the AWS Region",
        "title": "Region",
        "type": "string"
       },
       "threshold_days": {
        "description": "Threshold number(in days) to check for expiry. Eg: 30 -lists all certificates which are expiring within 30 days",
        "title": "Threshold Days",
        "type": "integer"
       }
      },
      "required": [
       "threshold_days"
      ],
      "title": "aws_list_expiring_acm_certificates",
      "type": "object"
     }
    ],
    "jupyter": {
     "outputs_hidden": true,
     "source_hidden": true
    },
    "language": "python",
    "legotype": "LEGO_TYPE_AWS",
    "name": "List Expiring ACM Certificates",
    "orderProperties": [
     "threshold_days",
     "region"
    ],
    "outputParams": {
     "output_name": "expiring_certificates",
     "output_name_enabled": true,
     "output_runbook_enabled": false,
     "output_runbook_name": ""
    },
    "printOutput": true,
    "tags": [
     "aws_list_expiring_acm_certificates"
    ],
    "uuid": "c1ee1c3b5cb0e07f0b52ca4d853aba6b3e597882e785ea054f95d69c03d83973",
    "version": "1.0.0"
   },
   "outputs": [],
   "source": [
    "# Copyright (c) 2021 unSkript, Inc\n",
    "# All rights reserved.\n",
    "##\n",
    "import pprint\n",
    "from typing import Optional,Tuple\n",
    "import datetime\n",
    "import dateutil\n",
    "from pydantic import BaseModel, Field\n",
    "from unskript.legos.aws.aws_list_all_regions.aws_list_all_regions import aws_list_all_regions\n",
    "\n",
    "from beartype import beartype\n",
    "@beartype\n",
    "def aws_list_expiring_acm_certificates_printer(output):\n",
    "    if output is None:\n",
    "        return\n",
    "    pprint.pprint(output)\n",
    "\n",
    "@beartype\n",
    "def aws_list_expiring_acm_certificates(handle, threshold_days: int = 90, region: str=None)-> Tuple:\n",
    "    \"\"\"aws_list_expiring_acm_certificates returns all the ACM issued certificates which\n",
    "       are about to expire given a threshold number of days\n",
    "\n",
    "        :type handle: object\n",
    "        :param handle: Object returned from Task Validate\n",
    "\n",
    "        :type threshold_days: int\n",
    "        :param threshold_days: Threshold number of days to check for expiry.\n",
    "        Eg: 30 -lists all certificates which are expiring within 30 days\n",
    "\n",
    "        :type region: str\n",
    "        :param region: Region name of the AWS account\n",
    "\n",
    "        :rtype: Tuple containing status, expiring certificates, and error\n",
    "    \"\"\"\n",
    "    arn_list=[]\n",
    "    domain_list = []\n",
    "    expiring_certificates_list= []\n",
    "    expiring_certificates_dict={}\n",
    "    result_list=[]\n",
    "    all_regions = [region]\n",
    "    if region is None or len(region)==0:\n",
    "        all_regions = aws_list_all_regions(handle=handle)\n",
    "    for r in all_regions:\n",
    "        iamClient = handle.client('acm', region_name=r)\n",
    "        try:\n",
    "            expiring_certificates_dict={}\n",
    "            certificates_list = iamClient.list_certificates(CertificateStatuses=['ISSUED'])\n",
    "            for each_arn in certificates_list['CertificateSummaryList']:\n",
    "                arn_list.append(each_arn['CertificateArn'])\n",
    "                domain_list.append(each_arn['DomainName'])\n",
    "            for cert_arn in arn_list:\n",
    "                details = iamClient.describe_certificate(CertificateArn=cert_arn)\n",
    "                for key,value in details['Certificate'].items():\n",
    "                    if key == \"NotAfter\":\n",
    "                        expiry_date = value\n",
    "                        right_now = datetime.datetime.now(dateutil.tz.tzlocal())\n",
    "                        diff = expiry_date-right_now\n",
    "                        days_remaining = diff.days\n",
    "                        if 0 < days_remaining < threshold_days:\n",
    "                            expiring_certificates_list.append(cert_arn)\n",
    "            expiring_certificates_dict[\"region\"]= r\n",
    "            expiring_certificates_dict[\"certificate\"]= expiring_certificates_list\n",
    "            if len(expiring_certificates_list)!=0:\n",
    "                result_list.append(expiring_certificates_dict)\n",
    "        except Exception:\n",
    "            pass\n",
    "    if len(result_list)!=0:\n",
    "        return (False, result_list)\n",
    "    return (True, None)\n",
    "\n",
    "\n",
    "task = Task(Workflow())\n",
    "task.configure(inputParamsJson='''{\n",
    "    \"threshold_days\": \"int(threshold_days)\",\n",
    "    \"region\": \"region\"\n",
    "    }''')\n",
    "task.configure(outputName=\"expiring_certificates\")\n",
    "\n",
    "task.configure(printOutput=True)\n",
    "(err, hdl, args) = task.validate(vars=vars())\n",
    "if err is None:\n",
    "    task.execute(aws_list_expiring_acm_certificates, lego_printer=aws_list_expiring_acm_certificates_printer, hdl=hdl, args=args)"
   ]
  },
  {
   "cell_type": "markdown",
   "id": "33e6d07d-2168-44d1-99fe-32539f26758f",
   "metadata": {
    "jupyter": {
     "source_hidden": false
    },
    "name": "Step 2A",
    "orderProperties": [],
    "tags": [],
    "title": "Step 2A"
   },
   "source": [
    "<h3 id=\"Create-List-of-Expiring-Certificates\"><a id=\"1\" target=\"_self\" rel=\"nofollow\"></a>Create List of Expiring Certificates</h3>\n",
    "<p>This action filters regions that have no certificates and creates a list of certificates that have to be renewed</p>\n",
    "<blockquote>\n",
    "<p>This action takes the following parameters: <code>None</code></p>\n",
    "</blockquote>\n",
    "<blockquote>\n",
    "<p>This action captures the following output: <code>all_expiring_certificates</code></p>\n",
    "</blockquote>"
   ]
  },
  {
   "cell_type": "code",
   "execution_count": 6,
   "id": "999b1c0b-701f-4207-b80f-2a5a1ce7578d",
   "metadata": {
    "collapsed": true,
    "credentialsJson": {},
    "customAction": true,
    "execution_data": {
     "last_date_success_run_cell": "2023-02-02T16:16:02.763Z"
    },
    "jupyter": {
     "outputs_hidden": true,
     "source_hidden": true
    },
    "name": "Create List of  Expiring Certificates",
    "orderProperties": [],
    "tags": [],
    "title": "Create List of  Expiring Certificates"
   },
   "outputs": [],
   "source": [
    "all_expiring_certificates = []\n",
    "try:\n",
    "    if expiring_certificates[0] == False:\n",
    "        if len(expiring_certificates[1])!=0:\n",
    "            all_expiring_certificates=expiring_certificates[1]\n",
    "except Exception:\n",
    "    data_dict = {}\n",
    "    data_dict[\"region\"] = region\n",
    "    data_dict[\"certificate\"] = certificate_arns\n",
    "    all_expiring_certificates.append(data_dict)\n",
    "print(all_expiring_certificates)\n",
    "task.configure(outputName=\"all_expiring_certificates\")"
   ]
  },
  {
   "cell_type": "markdown",
   "id": "45f6a4b4-f896-4e37-9fb6-3c6db915495e",
   "metadata": {
    "jupyter": {
     "source_hidden": false
    },
    "name": "Step 2",
    "orderProperties": [],
    "tags": [],
    "title": "Step 2"
   },
   "source": [
    "<h3 id=\"Renew-expiring-ACM-certificates\"><a id=\"2\" target=\"_self\" rel=\"nofollow\"></a>Renew expiring ACM certificates</h3>\n",
    "<p>This action renews <strong>eligible</strong> SSL certificates that are available on ACM. Only exported private certificates can be renewed with this operation. In order to renew your AWS Private CA certificates with ACM, you must first grant the <a href=\"https://docs.aws.amazon.com/privateca/latest/userguide/PcaWelcome.html\" target=\"_blank\" rel=\"noopener\">ACM service principal permission</a> to do so.<br><br><em><strong>A certificate is eligible for automatic renewal subject to the following considerations:</strong></em></p>\n",
    "<p>1)<span style=\"color: green;\"> ELIGIBLE</span> if associated with another AWS service, such as Elastic Load Balancing or CloudFront.<br>2)<span style=\"color: green;\"> ELIGIBLE</span>if exported since being issued or last renewed.<br>3)<span style=\"color: green;\"> ELIGIBLE</span> if it is a private certificate issued by calling the ACM RequestCertificate API and then exported or associated with another AWS service.<br>4)<span style=\"color: green;\"> ELIGIBLE</span> if it is a private certificate issued through the management console and then exported or associated with another AWS service.<br>5)<span style=\"color: red;\"> NOT ELIGIBLE</span> if it is a private certificate issued by calling the AWS Private CA IssueCertificate API.<br>6)<span style=\"color: red;\"> NOT ELIGIBLE</span> if imported or already expired</p>\n",
    "<blockquote>\n",
    "<p>This action takes the following parameters: <code>aws_certificate_arn</code>, <code>region</code></p>\n",
    "</blockquote>\n",
    "<blockquote>\n",
    "<p>This action captures the following output: <code>None</code></p>\n",
    "</blockquote>"
   ]
  },
  {
   "cell_type": "code",
   "execution_count": null,
   "id": "dd7da102-0ea1-4d13-a87b-c4e7af382228",
   "metadata": {
    "actionBashCommand": false,
    "actionCategories": [
     "CATEGORY_TYPE_DEVOPS",
     "CATEGORY_TYPE_SRE",
     "CATEGORY_TYPE_AWS",
     "CATEGORY_TYPE_AWS_ACM"
    ],
    "actionDescription": "Renew Expiring ACM Certificates",
    "actionEntryFunction": "aws_renew_expiring_acm_certificates",
    "actionIsCheck": false,
    "actionIsRemediation": true,
    "actionNeedsCredential": true,
    "actionNextHop": null,
    "actionNextHopParameterMapping": null,
    "actionNouns": [
     "certificates",
     "acm",
     "aws"
    ],
    "actionOutputType": "ACTION_OUTPUT_TYPE_DICT",
    "actionSupportsIteration": true,
    "actionSupportsPoll": true,
    "actionTitle": "Renew Expiring ACM Certificates",
    "actionType": "LEGO_TYPE_AWS",
    "actionVerbs": [
     "renew"
    ],
    "actionVersion": "1.0.0",
    "action_modified": false,
    "action_uuid": "89773c9cb2201505fbf5dbac0cc34a4056ba1a45a315addffec9af7a4b9b7390",
    "collapsed": true,
    "condition_enabled": true,
    "continueOnError": true,
    "credentialsJson": {},
    "description": "Renew Expiring ACM Certificates",
    "id": 1,
    "index": 1,
    "inputData": [
     {
      "aws_certificate_arn": {
       "constant": false,
       "value": "\"iter.get(\\\\\"certificate\\\\\")\""
      },
      "region": {
       "constant": false,
       "value": "\"iter.get(\\\\\"region\\\\\")\""
      }
     }
    ],
    "inputschema": [
     {
      "properties": {
       "aws_certificate_arn": {
        "description": "ARN of the Certificate",
        "items": {},
        "title": "Certificate ARN",
        "type": "array"
       },
       "region": {
        "description": "Name of the AWS Region",
        "title": "Region",
        "type": "string"
       }
      },
      "required": [
       "aws_certificate_arn",
       "region"
      ],
      "title": "aws_renew_expiring_acm_certificates",
      "type": "object"
     }
    ],
    "iterData": [
     {
      "iter_enabled": true,
      "iter_item": {
       "aws_certificate_arn": "certificate",
       "region": "region"
      },
      "iter_list": {
       "constant": false,
       "objectItems": true,
       "value": "all_expiring_certificates"
      }
     }
    ],
    "jupyter": {
     "outputs_hidden": true,
     "source_hidden": true
    },
    "language": "python",
    "legotype": "LEGO_TYPE_AWS",
    "name": "Renew Expiring ACM Certificates",
    "orderProperties": [
     "aws_certificate_arn",
     "region"
    ],
    "printOutput": true,
    "startcondition": "len(all_expiring_certificates)!=0",
    "tags": [
     "aws_renew_expiring_acm_certificates"
    ],
    "uuid": "89773c9cb2201505fbf5dbac0cc34a4056ba1a45a315addffec9af7a4b9b7390",
    "version": "1.0.0"
   },
   "outputs": [],
   "source": [
    "# Copyright (c) 2021 unSkript, Inc\n",
    "# All rights reserved.\n",
    "##\n",
    "import pprint\n",
    "from typing import Dict, List\n",
    "from pydantic import BaseModel, Field\n",
    "\n",
    "from beartype import beartype\n",
    "@beartype\n",
    "def aws_renew_expiring_acm_certificates_printer(output):\n",
    "    if output is None:\n",
    "        return\n",
    "    pprint.pprint(output)\n",
    "\n",
    "@beartype\n",
    "def aws_renew_expiring_acm_certificates(handle, aws_certificate_arn: List, region: str='') -> Dict:\n",
    "    \"\"\"aws_renew_expiring_acm_certificates returns all the ACM issued certificates\n",
    "       which are about to expire given a threshold number of days\n",
    "\n",
    "        :type handle: object\n",
    "        :param handle: Object returned from Task Validate\n",
    "\n",
    "        :type aws_certificate_arn: List\n",
    "        :param aws_certificate_arn: ARN of the Certificate\n",
    "\n",
    "        :type region: str\n",
    "        :param region: Region name of the AWS account\n",
    "\n",
    "        :rtype: Result Dictionary of result\n",
    "    \"\"\"\n",
    "    result = {}\n",
    "    try:\n",
    "        acmClient = handle.client('acm', region_name=region)\n",
    "        for arn in aws_certificate_arn:\n",
    "            acmClient.renew_certificate(CertificateArn=arn)\n",
    "            result[arn] = \"Successfully renewed\"\n",
    "    except Exception as e:\n",
    "        result[\"error\"] = e\n",
    "    return result\n",
    "\n",
    "\n",
    "task = Task(Workflow())\n",
    "task.configure(continueOnError=True)\n",
    "task.configure(inputParamsJson='''{\n",
    "    \"aws_certificate_arn\": \"iter.get(\\\\\"certificate\\\\\")\",\n",
    "    \"region\": \"iter.get(\\\\\"region\\\\\")\"\n",
    "    }''')\n",
    "task.configure(iterJson='''{\n",
    "    \"iter_enabled\": true,\n",
    "    \"iter_list_is_const\": false,\n",
    "    \"iter_list\": \"all_expiring_certificates\",\n",
    "    \"iter_parameter\": [\"aws_certificate_arn\",\"region\"]\n",
    "    }''')\n",
    "\n",
    "task.configure(conditionsJson='''{\n",
    "    \"condition_enabled\": true,\n",
    "    \"condition_cfg\": \"len(all_expiring_certificates)!=0\",\n",
    "    \"condition_result\": true\n",
    "    }''')\n",
    "\n",
    "task.configure(printOutput=True)\n",
    "(err, hdl, args) = task.validate(vars=vars())\n",
    "if err is None:\n",
    "    task.execute(aws_renew_expiring_acm_certificates, lego_printer=aws_renew_expiring_acm_certificates_printer, hdl=hdl, args=args)"
   ]
  },
  {
   "cell_type": "markdown",
   "id": "14ce7477-5f71-4127-8477-43b76473590b",
   "metadata": {
    "jupyter": {
     "source_hidden": false
    },
    "name": "Conclusion",
    "orderProperties": [],
    "tags": [],
    "title": "Conclusion"
   },
   "source": [
    "<h3 id=\"Conclusion\">Conclusion</h3>\n",
    "<p>In this Runbook, we demonstrated the use of unSkript's AWS actions to list all expiring ACM SSL Certificates and subsequently renewed them. To view the full platform capabilities of unSkript please visit <a href=\"https://us.app.unskript.io\" target=\"_blank\" rel=\"noopener\">us.app.unskript.io</a></p>"
   ]
  }
 ],
 "metadata": {
  "execution_data": {
   "parameters": [
    "region",
    "threshold_days"
   ],
   "runbook_name": "Renew AWS SSL Certificates that are close to expiration"
  },
  "kernelspec": {
   "display_name": "unSkript (Build: 1169)",
   "language": "python",
   "name": "python3"
  },
  "language_info": {
   "codemirror_mode": {
    "name": "ipython",
    "version": 3
   },
   "file_extension": ".py",
   "mimetype": "text/x-python",
   "name": "python",
   "nbconvert_exporter": "python",
   "pygments_lexer": "ipython3",
   "version": "3.10.6"
  },
  "parameterSchema": {
   "properties": {
    "certificate_arns": {
     "description": "List of AWS ACM Certificates",
     "title": "certificate_arns",
     "type": "array"
    },
    "region": {
     "description": "AWS region which have Certificates. Eg: \"us-west-2\"",
     "title": "region",
     "type": "string"
    },
    "threshold": {
     "default": 90,
     "description": "Threshold number of days to check if a certificate is nearing it's expiry. Eg:45",
     "title": "threshold",
     "type": "number"
    }
   },
   "required": [],
   "title": "Schema",
   "type": "object"
  },
  "parameterValues": {},
  "vscode": {
   "interpreter": {
    "hash": "b0fa6594d8f4cbf19f97940f81e996739fb7646882a419484c72d19e05852a7e"
   }
  }
 },
 "nbformat": 4,
 "nbformat_minor": 5
}
