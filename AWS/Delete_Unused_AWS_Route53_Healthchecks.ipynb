{
 "cells": [
  {
   "cell_type": "markdown",
   "id": "82eebdfd-c880-40df-bd6d-5b546c92164b",
   "metadata": {
    "jupyter": {
     "source_hidden": false
    },
    "name": "Steps Overview",
    "orderProperties": [],
    "tags": [],
    "title": "Steps Overview"
   },
   "source": [
    "<center><img src=\"https://storage.googleapis.com/unskript-website/assets/favicon.png\" alt=\"unSkript.com\" width=\"100\" height=\"100\">\n",
    "<h1 id=\"unSkript-Runbooks\">unSkript Runbooks</h1>\n",
    "<div class=\"alert alert-block alert-success\">\n",
    "<h3 id=\"Objective\">Objective</h3>\n",
    "<br><strong style=\"color: #000000;\"><em>Find unwanted/unused healthchecks in AWS Route53 and delete them.</em></strong></div>\n",
    "</center><center>\n",
    "<h2 id=\"Change-AWS-Route53-TTL-value\"><strong><u>Delete Unused AWS Route53 Healthchecks</u></strong></h2>\n",
    "</center>\n",
    "<h1 id=\"Steps-Overview\">Steps Overview</h1>\n",
    "<p>1)<a href=\"#1\" target=\"_self\" rel=\"noopener\"> Get unused Route53 healthchecks</a><br>2)<a href=\"#2\" target=\"_self\" rel=\"noopener\"> Delete the healthchecks</a></p>"
   ]
  },
  {
   "cell_type": "markdown",
   "id": "2020e8d0-ba3b-4c71-84b2-10917465a27e",
   "metadata": {
    "jupyter": {
     "source_hidden": false
    },
    "name": "Step 1",
    "orderProperties": [],
    "tags": [],
    "title": "Step 1"
   },
   "source": [
    "<h3 id=\"Get-TTLs-under-X-hours\"><a id=\"1\" target=\"_self\" rel=\"nofollow\"></a>Get unused Route53 Healthchecks</h3>\n",
    "<p>Using unSkript's Get Route53 Unused Healthchecks , we will find the healthcheck IDs that are not being used by any record set to monitor their health.</p>\n",
    "<blockquote>\n",
    "<p>This action takes the following parameters: <code>hosted_zone_id(Optional)</code></p>\n",
    "</blockquote>\n",
    "<blockquote>\n",
    "<p>This action captures the following output: <code>unused_health_checks</code></p>\n",
    "</blockquote>"
   ]
  },
  {
   "cell_type": "code",
   "execution_count": null,
   "id": "92ad5e21-d5ca-419a-b3ae-ba8d524da815",
   "metadata": {
    "actionBashCommand": false,
    "actionCategories": [
     "CATEGORY_TYPE_COST_OPT",
     "CATEGORY_TYPE_SRE",
     "CATEGORY_TYPE_AWS",
     "CATEGORY_TYPE_AWS_ROUTE53"
    ],
    "actionDescription": "AWS get Unused Route53 Health Checks",
    "actionEntryFunction": "aws_get_unused_route53_health_checks",
    "actionIsCheck": true,
    "actionIsRemediation": false,
    "actionNeedsCredential": true,
    "actionNextHop": [],
    "actionNextHopParameterMapping": {},
    "actionNouns": null,
    "actionOutputType": "ACTION_OUTPUT_TYPE_LIST",
    "actionSupportsIteration": true,
    "actionSupportsPoll": true,
    "actionTitle": "AWS get Unused Route53 Health Checks",
    "actionType": "LEGO_TYPE_AWS",
    "actionVerbs": null,
    "actionVersion": "1.0.0",
    "action_modified": false,
    "action_uuid": "7bde6d48cf5e9b2b984335fb1434716a3dba113da0762bc70f57f4246b91df07",
    "description": "AWS get Unused Route53 Health Checks",
    "execution_data": {
     "last_date_success_run_cell": "2023-04-21T12:40:07.886Z"
    },
    "id": 1,
    "index": 1,
    "inputschema": [
     {
      "properties": {
       "hosted_zone_id": {
        "default": "",
        "description": "Used to filter the health checks for a specific hosted zone.",
        "title": "Hosted Zone ID",
        "type": "string"
       }
      },
      "title": "aws_get_unused_route53_health_checks",
      "type": "object"
     }
    ],
    "jupyter": {
     "source_hidden": true
    },
    "language": "python",
    "legotype": "LEGO_TYPE_AWS",
    "name": "AWS get Unused Route53 Health Checks",
    "orderProperties": [
     "hosted_zone_id"
    ],
    "outputParams": {
     "output_name": "unused_health_checks",
     "output_name_enabled": true,
     "output_runbook_enabled": false,
     "output_runbook_name": ""
    },
    "printOutput": true,
    "tags": [
     "aws_get_unused_route53_health_checks"
    ],
    "uuid": "7bde6d48cf5e9b2b984335fb1434716a3dba113da0762bc70f57f4246b91df07",
    "version": "1.0.0",
    "credentialsJson": {}
   },
   "outputs": [],
   "source": [
    "##\n",
    "# Copyright (c) 2021 unSkript, Inc\n",
    "# All rights reserved.\n",
    "##\n",
    "from pydantic import BaseModel, Field\n",
    "from typing import Optional, Tuple\n",
    "import pprint\n",
    "from unskript.connectors.aws import aws_get_paginator\n",
    "\n",
    "\n",
    "from beartype import beartype\n",
    "@beartype\n",
    "def aws_get_unused_route53_health_checks_printer(output):\n",
    "    if output is None:\n",
    "        return\n",
    "\n",
    "    pprint.pprint(output)\n",
    "\n",
    "\n",
    "@beartype\n",
    "def aws_get_unused_route53_health_checks(handle, hosted_zone_id: str = \"\") -> Tuple:\n",
    "    \"\"\"aws_get_unused_route53_health_checks Returns a list of unused Route 53 health checks.\n",
    "\n",
    "        :type hosted_zone_id: string\n",
    "        :param hosted_zone_id: Optional. Used to filter the health checks for a specific hosted zone.\n",
    "\n",
    "        :rtype: A tuple containing a list of dicts with information about the unused health checks.\n",
    "    \"\"\"\n",
    "    result = []\n",
    "    try:\n",
    "        route_client = handle.client('route53')\n",
    "        health_checks = aws_get_paginator(route_client, \"list_health_checks\", \"HealthChecks\")\n",
    "        if hosted_zone_id:\n",
    "            hosted_zones = [{'Id': hosted_zone_id}]\n",
    "        else:\n",
    "            hosted_zones = aws_get_paginator(route_client, \"list_hosted_zones\", \"HostedZones\")\n",
    "        used_health_check_ids = set()\n",
    "        for zone in hosted_zones:\n",
    "            record_sets = aws_get_paginator(route_client, \"list_resource_record_sets\", \"ResourceRecordSets\", HostedZoneId=zone['Id'])\n",
    "            for record_set in record_sets:\n",
    "                if 'HealthCheckId' in record_set:\n",
    "                    used_health_check_ids.add(record_set['HealthCheckId'])\n",
    "        for hc in health_checks:\n",
    "            if hc['Id'] not in used_health_check_ids:\n",
    "                result.append(hc['Id'])\n",
    "    except Exception as e:\n",
    "        raise e\n",
    "\n",
    "    if len(result) != 0:\n",
    "        return (False, result)\n",
    "    else:\n",
    "        return (True, None)\n",
    "\n",
    "\n",
    "\n",
    "task = Task(Workflow())\n",
    "task.configure(outputName=\"unused_health_checks\")\n",
    "task.configure(printOutput=True)\n",
    "(err, hdl, args) = task.validate(vars=vars())\n",
    "if err is None:\n",
    "    task.execute(aws_get_unused_route53_health_checks, lego_printer=aws_get_unused_route53_health_checks_printer, hdl=hdl, args=args)"
   ],
   "output": {}
  },
  {
   "cell_type": "markdown",
   "id": "a311041f-620a-4b6b-914f-e52c6c3a71f4",
   "metadata": {
    "jupyter": {
     "source_hidden": false
    },
    "name": "Step 2A",
    "orderProperties": [],
    "tags": [],
    "title": "Step 2A"
   },
   "source": [
    "<h3 id=\"Create-List-of-Lower-TTL-records\">Create List of Unused Healthchecks</h3>\n",
    "<p>This action filters the output from Step 1 to get the non empty values</p>\n",
    "<blockquote>\n",
    "<p>This action takes the following parameters: <code>None</code></p>\n",
    "</blockquote>\n",
    "<blockquote>\n",
    "<p>This action captures the following output: <code>all_unused_health_checks</code></p>\n",
    "</blockquote>"
   ]
  },
  {
   "cell_type": "code",
   "execution_count": null,
   "id": "b85ce542-bdf0-44d2-9e75-213002d5c036",
   "metadata": {
    "customAction": true,
    "execution_data": {
     "last_date_success_run_cell": "2023-04-21T12:40:10.745Z"
    },
    "jupyter": {
     "source_hidden": true
    },
    "name": "Create List of Unused Healthchecks",
    "orderProperties": [],
    "tags": [],
    "title": "Create List of Unused Healthchecks",
    "credentialsJson": {}
   },
   "outputs": [],
   "source": [
    "\n",
    "all_unused_health_checks = []\n",
    "dummy = []\n",
    "try:\n",
    "    for res in range(len(unused_health_checks)):\n",
    "        if unused_health_checks[0]==False:\n",
    "            if len(unused_health_checks[1])!=0:\n",
    "                    all_unused_health_checks = unused_health_checks[1]\n",
    "except Exception as e:\n",
    "    all_unused_health_checks = health_check_ids\n",
    "print(all_unused_health_checks)\n",
    "task.configure(outputName=\"all_unused_health_checks\")"
   ],
   "output": {}
  },
  {
   "cell_type": "markdown",
   "id": "9fb3704a-9b19-49c4-96ab-a982217bbcd3",
   "metadata": {
    "jupyter": {
     "source_hidden": false
    },
    "name": "Step 2",
    "orderProperties": [],
    "tags": [],
    "title": "Step 2"
   },
   "source": [
    "<h3 id=\"Change-TTL-Value\"><a id=\"2\" target=\"_self\" rel=\"nofollow\"></a>Delete Route53 Healthcheck</h3>\n",
    "<p>This action deletes the Route53 healthcheck found in Step 1.</p>\n",
    "<blockquote>\n",
    "<p>This action takes the following parameters:&nbsp;<code>health_check_id</code></p>\n",
    "</blockquote>"
   ]
  },
  {
   "cell_type": "code",
   "execution_count": null,
   "id": "c84fac99-c05b-4dee-9d8a-80bfdd7a3e60",
   "metadata": {
    "actionBashCommand": false,
    "actionCategories": [
     "CATEGORY_TYPE_DEVOPS",
     "CATEGORY_TYPE_SRE",
     "CATEGORY_TYPE_AWS"
    ],
    "actionDescription": "AWS Delete Route 53 HealthCheck",
    "actionEntryFunction": "aws_delete_route53_health_check",
    "actionIsCheck": false,
    "actionIsRemediation": false,
    "actionNeedsCredential": true,
    "actionNextHop": null,
    "actionNextHopParameterMapping": null,
    "actionNouns": null,
    "actionOutputType": "ACTION_OUTPUT_TYPE_DICT",
    "actionSupportsIteration": true,
    "actionSupportsPoll": true,
    "actionTitle": "AWS Delete Route 53 HealthCheck",
    "actionType": "LEGO_TYPE_AWS",
    "actionVerbs": null,
    "actionVersion": "1.0.0",
    "action_modified": false,
    "action_uuid": "33e50f6c5813f3b01f4d63f7ec8d3eb363873c62f28d40d623acc9091c026270",
    "condition_enabled": true,
    "continueOnError": true,
    "description": "AWS Delete Route 53 HealthCheck",
    "execution_data": {
     "last_date_success_run_cell": "2023-04-21T12:40:14.522Z"
    },
    "id": 1,
    "index": 1,
    "inputData": [
     {
      "health_check_id": {
       "constant": false,
       "value": "iter_item"
      }
     }
    ],
    "inputschema": [
     {
      "properties": {
       "health_check_id": {
        "description": "The ID of the Health Check to delete.",
        "title": "Health Check ID",
        "type": "string"
       }
      },
      "required": [
       "health_check_id"
      ],
      "title": "aws_delete_route53_health_check",
      "type": "object"
     }
    ],
    "iterData": [
     {
      "iter_enabled": true,
      "iter_item": "health_check_id",
      "iter_list": {
       "constant": false,
       "objectItems": false,
       "value": "all_unused_health_checks"
      }
     }
    ],
    "jupyter": {
     "source_hidden": true
    },
    "language": "python",
    "legotype": "LEGO_TYPE_AWS",
    "name": "AWS Delete Route 53 HealthCheck",
    "orderProperties": [
     "health_check_id"
    ],
    "printOutput": true,
    "startcondition": "len(all_unused_health_checks)!=0",
    "tags": [
     "aws_delete_route53_health_check"
    ],
    "uuid": "33e50f6c5813f3b01f4d63f7ec8d3eb363873c62f28d40d623acc9091c026270",
    "version": "1.0.0",
    "credentialsJson": {}
   },
   "outputs": [],
   "source": [
    "##\n",
    "# Copyright (c) 2021 unSkript, Inc\n",
    "# All rights reserved.\n",
    "##\n",
    "from pydantic import BaseModel, Field\n",
    "from typing import Dict\n",
    "import pprint\n",
    "\n",
    "\n",
    "from beartype import beartype\n",
    "@beartype\n",
    "def aws_delete_route53_health_check_printer(output):\n",
    "    if output is None:\n",
    "        return\n",
    "    pprint.pprint(output)\n",
    "\n",
    "\n",
    "@beartype\n",
    "def aws_delete_route53_health_check(handle, health_check_id: str) -> Dict:\n",
    "    \"\"\"aws_delete_route53_health_check Deletes a Route 53 Health Check.\n",
    "\n",
    "        :type health_check_id: string\n",
    "        :param health_check_id: The ID of the Health Check to delete.\n",
    "\n",
    "        :rtype: dict of health check information.\n",
    "    \"\"\"\n",
    "    try:\n",
    "        route_client = handle.client('route53')\n",
    "        response = route_client.delete_health_check(HealthCheckId=health_check_id)\n",
    "        return response\n",
    "    except Exception as e:\n",
    "        raise Exception(e)\n",
    "\n",
    "\n",
    "task = Task(Workflow())\n",
    "task.configure(continueOnError=True)\n",
    "task.configure(inputParamsJson='''{\n",
    "    \"health_check_id\": \"iter_item\"\n",
    "    }''')\n",
    "task.configure(iterJson='''{\n",
    "    \"iter_enabled\": true,\n",
    "    \"iter_list_is_const\": false,\n",
    "    \"iter_list\": \"all_unused_health_checks\",\n",
    "    \"iter_parameter\": \"health_check_id\"\n",
    "    }''')\n",
    "task.configure(conditionsJson='''{\n",
    "    \"condition_enabled\": true,\n",
    "    \"condition_cfg\": \"len(all_unused_health_checks)!=0\",\n",
    "    \"condition_result\": true\n",
    "    }''')\n",
    "\n",
    "task.configure(printOutput=True)\n",
    "(err, hdl, args) = task.validate(vars=vars())\n",
    "if err is None:\n",
    "    task.execute(aws_delete_route53_health_check, lego_printer=aws_delete_route53_health_check_printer, hdl=hdl, args=args)"
   ],
   "output": {}
  },
  {
   "cell_type": "markdown",
   "id": "9c7430c8-3660-45bd-90ef-9ceab77e3daa",
   "metadata": {
    "jupyter": {
     "source_hidden": false
    },
    "name": "Conclusion",
    "orderProperties": [],
    "tags": [],
    "title": "Conclusion"
   },
   "source": [
    "<h3 id=\"Conclusion&para;\">Conclusion</h3>\n",
    "<p>In this Runbook, we were able delete unused healtcheck ID's which will help in saving your AWS costs. To view the full platform capabilities of unSkript please visit&nbsp;<a href=\"https://us.app.unskript.io\" target=\"_blank\" rel=\"noopener\">us.app.unskript.io</a></p>"
   ]
  }
 ],
 "metadata": {
  "execution_data": {
   "runbook_name": "Delete Unused AWS Secrets",
   "parameters": null
  },
  "kernelspec": {
   "display_name": "unSkript (Build: 1093)",
   "language": "python",
   "name": "python3"
  },
  "language_info": {
   "codemirror_mode": {
    "name": "ipython",
    "version": 3
   },
   "file_extension": ".py",
   "mimetype": "text/x-python",
   "name": "python",
   "nbconvert_exporter": "python",
   "pygments_lexer": "ipython3",
   "version": "3.10.6"
  },
  "outputParameterSchema": {
   "properties": {},
   "required": [],
   "title": "Schema",
   "type": "object"
  },
  "parameterSchema": {
   "properties": {
    "heath_check_ids": {
     "description": "List of Route53 Health check IDs",
     "title": "heath_check_ids",
     "type": "array"
    },
    "hosted_zone_id": {
     "description": "The ID of the hosted zone that contains the resource record sets.",
     "title": "hosted_zone_id",
     "type": "string"
    }
   },
   "required": [],
   "title": "Schema",
   "type": "object"
  },
  "parameterValues": {},
  "vscode": {
   "interpreter": {
    "hash": "b0fa6594d8f4cbf19f97940f81e996739fb7646882a419484c72d19e05852a7e"
   }
  }
 },
 "nbformat": 4,
 "nbformat_minor": 5
}