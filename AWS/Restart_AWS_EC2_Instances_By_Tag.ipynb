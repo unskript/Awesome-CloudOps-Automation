{
 "cells": [
  {
   "cell_type": "markdown",
   "id": "5f773213-63a4-46c6-9336-b6e4edf494d5",
   "metadata": {
    "jupyter": {
     "source_hidden": false
    },
    "name": "Runbook Overview",
    "orderProperties": [],
    "tags": [],
    "title": "Runbook Overview"
   },
   "source": [
    "<center><img src=\"https://storage.googleapis.com/unskript-website/assets/favicon.png\" alt=\"unSkript.com\" width=\"100\" height=\"100\">\n",
    "<h1 id=\"unSkript-Runbooks\">unSkript Runbooks</h1>\n",
    "<div class=\"alert alert-block alert-success\">\n",
    "<h3 id=\"Objective\"><strong>Objective</strong></h3>\n",
    "<strong>To Restart AWS EC2 Instance by given tag using unSkript actions.</strong></div>\n",
    "</center><center>\n",
    "<h2 id=\"Restart-EC2-Instance-By-Given-Tag\">Restart EC2 Instance By Given Tag</h2>\n",
    "</center>\n",
    "<h1 id=\"Steps-Overview\">Steps Overview</h1>\n",
    "<ol>\n",
    "<li>Filter AWS EC2 Instances by tag</li>\n",
    "<li>Restart AWS EC2 Instance</li>\n",
    "<li>Get AWS Instance Details</li>\n",
    "</ol>"
   ]
  },
  {
   "cell_type": "markdown",
   "id": "4d25f1c6-c93c-4c75-8046-f1eab26ab982",
   "metadata": {
    "jupyter": {
     "source_hidden": false
    },
    "name": "Step-1",
    "orderProperties": [],
    "tags": [],
    "title": "Step-1"
   },
   "source": [
    "<h3 id=\"Filter-AWS-EC2-Instances-by-tag\">Filter AWS EC2 Instances by tag</h3>\n",
    "<p>In this action, we search for all the instances from AWS for a given tag and region and return a list of instances.</p>\n",
    "<blockquote>\n",
    "<p><strong>Input parameters:</strong> <code>tag_key,&nbsp;tag_value,&nbsp;region</code></p>\n",
    "</blockquote>\n",
    "<blockquote>\n",
    "<p><strong>Output variable:</strong> <code>instance_list</code></p>\n",
    "</blockquote>"
   ]
  },
  {
   "cell_type": "code",
   "execution_count": 10,
   "id": "ef696074-ab97-4de7-b3ee-08faeacd22ff",
   "metadata": {
    "accessType": "ACCESS_TYPE_UNSPECIFIED",
    "actionBashCommand": false,
    "actionCategories": [],
    "actionIsCheck": false,
    "actionNeedsCredential": true,
    "actionNextHop": [],
    "actionNextHopParameterMapping": {},
    "actionOutputType": "",
    "actionRequiredLinesInCode": [],
    "actionSupportsIteration": true,
    "actionSupportsPoll": true,
    "action_modified": false,
    "action_uuid": "a94de204575d5609dce3abee3f63e84913548ad792e51dd949333bf60ebd842a",
    "checkEnabled": false,
    "continueOnError": false,
    "createTime": "1970-01-01T00:00:00Z",
    "credentialsJson": {},
    "currentVersion": "0.1.0",
    "description": "Filter AWS EC2 Instance",
    "execution_data": {
     "last_date_success_run_cell": "2023-02-16T11:17:19.558Z"
    },
    "id": 260,
    "index": 260,
    "inputData": [
     {
      "region": {
       "constant": false,
       "value": "region"
      },
      "tag_key": {
       "constant": false,
       "value": "tag_key"
      },
      "tag_value": {
       "constant": false,
       "value": "tag_value"
      }
     }
    ],
    "inputschema": [
     {
      "properties": {
       "region": {
        "description": "AWS Region.",
        "title": "Region",
        "type": "string"
       },
       "tag_key": {
        "description": "The key of the tag.",
        "title": "Tag Key",
        "type": "string"
       },
       "tag_value": {
        "description": "The value of the key.",
        "title": "Tag Value",
        "type": "string"
       }
      },
      "required": [
       "tag_key",
       "tag_value",
       "region"
      ],
      "title": "aws_filter_ec2_by_tags",
      "type": "object"
     }
    ],
    "isUnskript": false,
    "jupyter": {
     "source_hidden": true
    },
    "legotype": "LEGO_TYPE_AWS",
    "name": "Filter AWS EC2 Instance by tag",
    "nouns": [],
    "orderProperties": [
     "tag_key",
     "tag_value",
     "region"
    ],
    "output": {
     "type": ""
    },
    "outputParams": {
     "output_name": "instance_list",
     "output_name_enabled": true
    },
    "printOutput": true,
    "tags": [
     "aws_filter_ec2_by_tags"
    ],
    "title": "Filter AWS EC2 Instance by tag",
    "trusted": true,
    "verbs": []
   },
   "outputs": [],
   "source": [
    "##\n",
    "##  Copyright (c) 2021 unSkript, Inc\n",
    "##  All rights reserved.\n",
    "##\n",
    "from pydantic import BaseModel, Field\n",
    "from typing import List\n",
    "from unskript.connectors.aws import aws_get_paginator\n",
    "import pprint\n",
    "from beartype import beartype\n",
    "\n",
    "\n",
    "@beartype\n",
    "def aws_filter_ec2_by_tags_printer(output):\n",
    "    if output is None:\n",
    "        return\n",
    "    pprint.pprint({\"Instances\": output})\n",
    "\n",
    "\n",
    "@beartype\n",
    "def aws_filter_ec2_by_tags(handle, tag_key: str, tag_value: str, region: str) -> List:\n",
    "    \"\"\"aws_filter_ec2_by_tags Returns an array of instances matching tags.\n",
    "\n",
    "        :type handle: object\n",
    "        :param handle: Object returned by the task.validate(...) method.\n",
    "\n",
    "        :type tag_key: string\n",
    "        :param tag_key: Key for the EC2 instance tag.\n",
    "\n",
    "        :type tag_value: string\n",
    "        :param tag_value: value for the EC2 instance tag.\n",
    "\n",
    "        :type region: string\n",
    "        :param region: EC2 instance region.\n",
    "\n",
    "        :rtype: Array of instances matching tags.\n",
    "    \"\"\"\n",
    "\n",
    "    ec2Client = handle.client('ec2', region_name=region)\n",
    "    res = aws_get_paginator(ec2Client, \"describe_instances\", \"Reservations\",\n",
    "                            Filters=[{'Name': 'tag:' + tag_key, 'Values': [tag_value]}])\n",
    "\n",
    "    result = []\n",
    "    for reservation in res:\n",
    "        for instance in reservation['Instances']:\n",
    "            result.append(instance['InstanceId'])\n",
    "    return result\n",
    "\n",
    "\n",
    "task = Task(Workflow())\n",
    "task.configure(inputParamsJson='''{\n",
    "    \"region\": \"region\",\n",
    "    \"tag_key\": \"tag_key\",\n",
    "    \"tag_value\": \"tag_value\"\n",
    "    }''')\n",
    "task.configure(outputName=\"instance_list\")\n",
    "task.configure(printOutput=True)\n",
    "(err, hdl, args) = task.validate(vars=vars())\n",
    "if err is None:\n",
    "    task.execute(aws_filter_ec2_by_tags, lego_printer=aws_filter_ec2_by_tags_printer, hdl=hdl, args=args)"
   ]
  },
  {
   "cell_type": "markdown",
   "id": "7b35320c-c614-4d36-8fbb-cc102c02f72b",
   "metadata": {
    "jupyter": {
     "source_hidden": false
    },
    "name": "Step-2",
    "orderProperties": [],
    "tags": [],
    "title": "Step-2"
   },
   "source": [
    "<h3 id=\"Restart-AWS-EC2-Instances\">Restart AWS EC2 Instances</h3>\n",
    "<p>Here we will use the unSkript&nbsp;<strong>Restart AWS EC2 Instances </strong>action. This action is used to restart the instances which we get using the above step 1. We pass the instances IDs list to step 2.</p>\n",
    "<blockquote>\n",
    "<p><strong>Input parameters:</strong> <code>instance_ids, region</code></p>\n",
    "</blockquote>\n",
    "<blockquote>\n",
    "<p><strong>Output variable:</strong> <code>restart_instance</code></p>\n",
    "</blockquote>"
   ]
  },
  {
   "cell_type": "code",
   "execution_count": 22,
   "id": "bb7a4450-1efc-4aec-85c6-d9b4a8635762",
   "metadata": {
    "accessType": "ACCESS_TYPE_UNSPECIFIED",
    "actionBashCommand": false,
    "actionCategories": [],
    "actionIsCheck": false,
    "actionNeedsCredential": true,
    "actionNextHop": [],
    "actionNextHopParameterMapping": {},
    "actionOutputType": "",
    "actionRequiredLinesInCode": [],
    "actionSupportsIteration": true,
    "actionSupportsPoll": true,
    "action_modified": false,
    "action_uuid": "e7d021a8e955291cf31e811e64a86baa2a902ea2185cb76e7121ebbab261c320",
    "checkEnabled": false,
    "collapsed": true,
    "condition_enabled": true,
    "continueOnError": false,
    "createTime": "1970-01-01T00:00:00Z",
    "credentialsJson": {},
    "currentVersion": "0.1.0",
    "description": "Restart AWS EC2 Instances",
    "execution_data": {
     "last_date_success_run_cell": "2023-02-16T11:22:08.644Z"
    },
    "id": 257,
    "index": 257,
    "inputData": [
     {
      "instance_ids": {
       "constant": false,
       "value": "instance_list"
      },
      "region": {
       "constant": false,
       "value": "region"
      }
     }
    ],
    "inputschema": [
     {
      "properties": {
       "instance_ids": {
        "description": "List of instance IDs. For eg. [\"i-foo\", \"i-bar\"]",
        "items": {
         "type": "string"
        },
        "title": "Instance IDs",
        "type": "array"
       },
       "region": {
        "description": "AWS Region of the instances.",
        "title": "Region",
        "type": "string"
       }
      },
      "required": [
       "instance_ids",
       "region"
      ],
      "title": "aws_restart_ec2_instances",
      "type": "object"
     }
    ],
    "isUnskript": false,
    "jupyter": {
     "outputs_hidden": true,
     "source_hidden": true
    },
    "legotype": "LEGO_TYPE_AWS",
    "name": "Restart AWS EC2 Instances",
    "nouns": [],
    "orderProperties": [
     "instance_ids",
     "region"
    ],
    "output": {
     "type": ""
    },
    "outputParams": {
     "output_name": "restart_instance",
     "output_name_enabled": true
    },
    "printOutput": true,
    "startcondition": "not dry_run_flag",
    "tags": [
     "aws_restart_ec2_instances"
    ],
    "trusted": true,
    "verbs": []
   },
   "outputs": [],
   "source": [
    "##  Copyright (c) 2021 unSkript, Inc\n",
    "##  All rights reserved.\n",
    "##\n",
    "from typing import List, Dict\n",
    "from pydantic import BaseModel, Field\n",
    "import pprint\n",
    "from beartype import beartype\n",
    "\n",
    "\n",
    "@beartype\n",
    "def aws_restart_ec2_instances_printer(output):\n",
    "    if output is None:\n",
    "        return\n",
    "    pprint.pprint(output)\n",
    "\n",
    "\n",
    "@beartype\n",
    "def aws_restart_ec2_instances(handle, instance_ids: List, region: str) -> Dict:\n",
    "    \"\"\"aws_restart_instances Restarts instances.\n",
    "\n",
    "        :type handle: object\n",
    "        :param handle: Object returned by the task.validate(...) method.\n",
    "\n",
    "        :type instance_ids: list\n",
    "        :param instance_ids: List of instance ids.\n",
    "\n",
    "        :type region: string\n",
    "        :param region: Region for instance.\n",
    "\n",
    "        :rtype: Dict with the restarted instances info.\n",
    "    \"\"\"\n",
    "\n",
    "    ec2Client = handle.client('ec2', region_name=region)\n",
    "    res = ec2Client.reboot_instances(InstanceIds=instance_ids)\n",
    "    return res\n",
    "\n",
    "\n",
    "task = Task(Workflow())\n",
    "task.configure(inputParamsJson='''{\n",
    "    \"instance_ids\": \"instance_list\",\n",
    "    \"region\": \"region\"\n",
    "    }''')\n",
    "task.configure(conditionsJson='''{\n",
    "    \"condition_enabled\": true,\n",
    "    \"condition_cfg\": \"not dry_run_flag\",\n",
    "    \"condition_result\": true\n",
    "    }''')\n",
    "task.configure(outputName=\"restart_instance\")\n",
    "task.configure(printOutput=True)\n",
    "(err, hdl, args) = task.validate(vars=vars())\n",
    "if err is None:\n",
    "    task.execute(aws_restart_ec2_instances, lego_printer=aws_restart_ec2_instances_printer, hdl=hdl, args=args)"
   ]
  },
  {
   "cell_type": "markdown",
   "id": "5336e57c-1c40-4f67-938c-dceee50b42be",
   "metadata": {
    "jupyter": {
     "source_hidden": false
    },
    "name": "Step-3",
    "orderProperties": [],
    "tags": [],
    "title": "Step-3"
   },
   "source": [
    "<h3 id=\"Get-AWS-Instance-Details\">Get AWS Instance Details</h3>\n",
    "<p>Here we will use unSkript <strong>Get AWS Instance Details</strong> action to get the details of the instances. This action is used to get details of instances that we received in step 1.</p>\n",
    "<blockquote>\n",
    "<p><strong>Input parameters:</strong> <code>instance_id, region</code></p>\n",
    "</blockquote>\n",
    "<blockquote>\n",
    "<p><strong>Output variable:</strong> <code>instance_details</code></p>\n",
    "</blockquote>"
   ]
  },
  {
   "cell_type": "code",
   "execution_count": 23,
   "id": "b7630f20-a68e-45eb-bb5c-193231b5d262",
   "metadata": {
    "accessType": "ACCESS_TYPE_UNSPECIFIED",
    "actionBashCommand": false,
    "actionCategories": [],
    "actionIsCheck": false,
    "actionNeedsCredential": true,
    "actionNextHop": [],
    "actionNextHopParameterMapping": {},
    "actionOutputType": "",
    "actionRequiredLinesInCode": [],
    "actionSupportsIteration": true,
    "actionSupportsPoll": true,
    "action_modified": false,
    "action_uuid": "930c0624b3d32846a0946e0a54dac8e69d7a1ee0e28e10de7338c68f06df8420",
    "checkEnabled": false,
    "continueOnError": true,
    "createTime": "1970-01-01T00:00:00Z",
    "credentialsJson": {},
    "currentVersion": "0.1.0",
    "description": "Get AWS Instances Details",
    "execution_data": {
     "last_date_success_run_cell": "2023-02-16T11:23:01.767Z"
    },
    "id": 210,
    "index": 210,
    "inputData": [
     {
      "instance_id": {
       "constant": false,
       "value": "iter_item"
      },
      "region": {
       "constant": false,
       "value": "region"
      }
     }
    ],
    "inputschema": [
     {
      "properties": {
       "instance_id": {
        "description": "ID of the instance.",
        "title": "Instance Id",
        "type": "string"
       },
       "region": {
        "description": "AWS Region of the instance.",
        "title": "Region",
        "type": "string"
       }
      },
      "required": [
       "instance_id",
       "region"
      ],
      "title": "aws_get_instance_details",
      "type": "object"
     }
    ],
    "isUnskript": false,
    "iterData": [
     {
      "iter_enabled": true,
      "iter_item": "instance_id",
      "iter_list": {
       "constant": false,
       "objectItems": false,
       "value": "instance_list"
      }
     }
    ],
    "jupyter": {
     "source_hidden": true
    },
    "legotype": "LEGO_TYPE_AWS",
    "name": "Get AWS Instances Details",
    "nouns": [],
    "orderProperties": [
     "instance_id",
     "region"
    ],
    "output": {
     "type": ""
    },
    "outputParams": {
     "output_name": "instance_details",
     "output_name_enabled": true
    },
    "printOutput": true,
    "tags": [
     "aws_get_instance_details"
    ],
    "trusted": true,
    "verbs": []
   },
   "outputs": [],
   "source": [
    "##\n",
    "# Copyright (c) 2021 unSkript, Inc\n",
    "# All rights reserved.\n",
    "##\n",
    "from pydantic import BaseModel, Field\n",
    "from typing import Dict\n",
    "import pprint\n",
    "\n",
    "\n",
    "from beartype import beartype\n",
    "@beartype\n",
    "def aws_get_instances_printer(output):\n",
    "    if output is None:\n",
    "        return\n",
    "    pprint.pprint(output)\n",
    "\n",
    "\n",
    "@beartype\n",
    "def aws_get_instance_details(handle, instance_id: str, region: str) -> Dict:\n",
    "    \"\"\"aws_get_instance_details Returns instance details.\n",
    "\n",
    "        :type handle: object\n",
    "        :param handle: Object returned by the task.validate(...) method.\n",
    "\n",
    "        :type instance_ids: list\n",
    "        :param instance_ids: List of instance ids.\n",
    "\n",
    "        :type region: string\n",
    "        :param region: Region for instance.\n",
    "\n",
    "        :rtype: Dict with the instance details.\n",
    "    \"\"\"\n",
    "\n",
    "    ec2client = handle.client('ec2', region_name=region)\n",
    "    instances = []\n",
    "    response = ec2client.describe_instances(\n",
    "        Filters=[{\"Name\": \"instance-id\", \"Values\": [instance_id]}])\n",
    "    for reservation in response[\"Reservations\"]:\n",
    "        for instance in reservation[\"Instances\"]:\n",
    "            instances.append(instance)\n",
    "\n",
    "    return instances[0]\n",
    "\n",
    "\n",
    "def unskript_default_printer(output):\n",
    "    if isinstance(output, (list, tuple)):\n",
    "        for item in output:\n",
    "            print(f'item: {item}')\n",
    "    elif isinstance(output, dict):\n",
    "        for item in output.items():\n",
    "            print(f'item: {item}')\n",
    "    else:\n",
    "        print(f'Output for {task.name}')\n",
    "        print(output)\n",
    "\n",
    "task = Task(Workflow())\n",
    "task.configure(continueOnError=True)\n",
    "task.configure(inputParamsJson='''{\n",
    "    \"instance_id\": \"iter_item\",\n",
    "    \"region\": \"region\"\n",
    "    }''')\n",
    "task.configure(iterJson='''{\n",
    "    \"iter_enabled\": true,\n",
    "    \"iter_list_is_const\": false,\n",
    "    \"iter_list\": \"instance_list\",\n",
    "    \"iter_parameter\": \"instance_id\"\n",
    "    }''')\n",
    "task.configure(outputName=\"instance_details\")\n",
    "\n",
    "task.configure(printOutput=True)\n",
    "(err, hdl, args) = task.validate(vars=vars())\n",
    "if err is None:\n",
    "    task.execute(aws_get_instance_details, lego_printer=unskript_default_printer, hdl=hdl, args=args)"
   ]
  },
  {
   "attachments": {},
   "cell_type": "markdown",
   "id": "bee3abf5-3864-4a20-8154-2293a5c8aa28",
   "metadata": {
    "name": "Step-3 Extension",
    "orderProperties": [],
    "tags": [],
    "title": "Step-3 Extension"
   },
   "source": [
    "<h3 id=\"Instance-Details\">Get AWS Instance Details</h3>\n",
    "<p>In this action, we sort the output from step-3 and present the details of the instance in the good table.</p>"
   ]
  },
  {
   "cell_type": "code",
   "execution_count": 24,
   "id": "a773f2a8-24b3-4dd6-a3c9-6266c9bafa05",
   "metadata": {
    "continueOnError": false,
    "credentialsJson": {},
    "execution_data": {
     "last_date_success_run_cell": "2023-02-16T11:23:04.116Z"
    },
    "inputData": [
     {}
    ],
    "inputschema": [
     {
      "properties": {},
      "required": [],
      "title": "Instance Details"
     }
    ],
    "jupyter": {
     "source_hidden": true
    },
    "name": "Instance Details",
    "orderProperties": [],
    "tags": [],
    "title": "Instance Details",
    "trusted": true
   },
   "outputs": [],
   "source": [
    "import pprint\n",
    "from pydantic import BaseModel, Field\n",
    "from typing import Dict\n",
    "from tabulate import tabulate\n",
    "\n",
    "output = instance_details\n",
    "instance_list = instance_list\n",
    "\n",
    "\n",
    "def Instance_Details(output, instance_list: list):\n",
    "    data1 = []\n",
    "    Header = \"\"\n",
    "    for instance_id in instance_list:\n",
    "        if instance_id in output.keys():\n",
    "            output1 = output[instance_id]\n",
    "            if isinstance(output1, (list, tuple)):\n",
    "                for item in output1:\n",
    "                    print(f'item: {item}')\n",
    "            elif isinstance(output1, dict):\n",
    "                for key, value in output1.items():\n",
    "                    if isinstance(value, (list)):\n",
    "                        pass\n",
    "                    else:\n",
    "                        if key == \"InstanceId\":\n",
    "                            Header = value\n",
    "                        data1.append([key, value])\n",
    "                print(f'\\n\\033[1m Table for Instance ID : {Header} \\033[0;0m')\n",
    "                print(tabulate(data1))\n",
    "            else:\n",
    "                print(f'Output for {task.name}')\n",
    "                print(output1)\n",
    "\n",
    "\n",
    "Instance_Details(output, instance_list)"
   ]
  },
  {
   "attachments": {},
   "cell_type": "markdown",
   "id": "b3f10b1c-f542-48da-9b6e-1123873385a8",
   "metadata": {
    "jupyter": {
     "source_hidden": false
    },
    "name": "Conclusion",
    "orderProperties": [],
    "tags": [],
    "title": "Conclusion"
   },
   "source": [
    "### Conclusion\n",
    "<p>In this Runbook, we demonstrated the use of unSkript's AWS legos to restart the AWS EC2 instances and get the details. To view the full platform capabilities of unSkript please visit <a href=\"https://us.app.unskript.io\" target=\"_blank\" rel=\"noopener\">https://us.app.unskript.io</a></p>"
   ]
  }
 ],
 "metadata": {
  "execution_data": {
   "runbook_name": "Restart AWS EC2 Instances",
   "parameters": [
    "tag_value",
    "region",
    "tag_key"
   ]
  },
  "kernelspec": {
   "display_name": "unSkript (Build: 891)",
   "name": "python_kubernetes"
  },
  "language_info": {
   "file_extension": ".py",
   "mimetype": "text/x-python",
   "name": "python",
   "pygments_lexer": "ipython3"
  },
  "parameterSchema": {
   "properties": {
    "dry_run_flag": {
     "default": false,
     "description": "If the dry run flag is set to false it will find the instances for the given tag and restart them and if set to true it will only display the instances for the given tag.",
     "title": "dry_run_flag",
     "type": "boolean"
    },
    "region": {
     "default": "us-west-2",
     "description": "AWS Region",
     "title": "region",
     "type": "string"
    },
    "tag_key": {
     "default": "Service",
     "description": "Tag Key",
     "title": "tag_key",
     "type": "string"
    },
    "tag_value": {
     "default": "devmongodb",
     "description": "Tag Value",
     "title": "tag_value",
     "type": "string"
    }
   },
   "required": [
    "region",
    "tag_key",
    "tag_value"
   ],
   "title": "Schema",
   "type": "object"
  },
  "parameterValues": {
   "dry_run_flag": false,
   "region": "us-west-2",
   "tag_key": "Name",
   "tag_value": "test-recreate-instance"
  }
 },
 "nbformat": 4,
 "nbformat_minor": 5
}