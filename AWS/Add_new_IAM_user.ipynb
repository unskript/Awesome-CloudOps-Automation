{
 "cells": [
  {
   "cell_type": "markdown",
   "id": "8a97b231-94d6-4e10-a24c-6eac9a4572e4",
   "metadata": {
    "jupyter": {
     "source_hidden": false
    },
    "name": "Add New IAM User",
    "orderProperties": [],
    "tags": [],
    "title": "Add New IAM User"
   },
   "source": [
    "<center>\n",
    "<img src=\"https://storage.googleapis.com/unskript-website/assets/favicon.png\" alt=\"unSkript.com\" width=\"100\" height=\"100\"/> \n",
    "<h1> unSkript Runbooks </h1>\n",
    "\n",
    "<div class=\"alert alert-block alert-success\">\n",
    "    <h3> Objective</h3> <br>\n",
    "    <b>To add a new IAM user using unSkript actions.</b>\n",
    "</div>\n",
    "</center>\n",
    "<br>\n",
    "\n",
    "<center><h2>Add New IAM User</h2></center>\n",
    "\n",
    "# Steps Overview\n",
    "   1)[Create IAM User](#1)</br>\n",
    "   2)[Create login profile](#2)</br>\n",
    "   3)[Check the caller identity](#3)</br>\n",
    "   4)[Post slack message](#4)"
   ]
  },
  {
   "cell_type": "code",
   "execution_count": 5,
   "id": "07e691b1-dd70-4c51-b871-47f608ecd89b",
   "metadata": {
    "collapsed": true,
    "customAction": true,
    "execution_data": {
     "last_date_success_run_cell": "2023-01-06T13:27:50.928Z"
    },
    "jupyter": {
     "outputs_hidden": true,
     "source_hidden": true
    },
    "name": "Gathering Information",
    "orderProperties": [],
    "tags": [],
    "title": "Gathering Information",
    "trusted": true,
    "credentialsJson": {}
   },
   "outputs": [],
   "source": [
    "tag_key = \"Name\"\n",
    "tag_value = username"
   ]
  },
  {
   "cell_type": "markdown",
   "id": "6cb8f37f-8bf2-41a0-b1ae-d946038ea808",
   "metadata": {
    "jupyter": {
     "source_hidden": false
    },
    "name": "Step-1",
    "orderProperties": [],
    "tags": [],
    "title": "Step-1"
   },
   "source": [
    "<h3 id=\"Creating-an-IAM-User\"><a id=\"1\" target=\"_self\" rel=\"nofollow\"></a>Creating an IAM User</h3>\n",
    "<p>Here we will use unSkript <strong>Create New IAM User</strong> action. This action creates an IAM user in AWS and assigns the given tag to the user.</p>\n",
    "<blockquote>\n",
    "<p>Input parameters: <code>user_name</code>, <code>tag_key</code>, <code>tag_value</code></p>\n",
    "</blockquote>\n",
    "<blockquote>\n",
    "<p>Output variable: <code>user_details</code></p>\n",
    "</blockquote>"
   ]
  },
  {
   "cell_type": "code",
   "execution_count": null,
   "id": "9fe78a10-d76f-4961-8e5c-bf381c5b3cc9",
   "metadata": {
    "accessType": "ACCESS_TYPE_UNSPECIFIED",
    "actionBashCommand": false,
    "actionNeedsCredential": true,
    "actionRequiredLinesInCode": [],
    "actionSupportsIteration": true,
    "actionSupportsPoll": true,
    "action_uuid": "3f71dd060d5955f5dc9104dbaf418bf957b2222c510cb3afd09ded8e41e433d9",
    "continueOnError": false,
    "createTime": "1970-01-01T00:00:00Z",
    "credentialsJson": {},
    "currentVersion": "0.1.0",
    "description": "Create New IAM User",
    "id": 222,
    "index": 222,
    "inputData": [
     {
      "tag_key": {
       "constant": false,
       "value": "tag_key"
      },
      "tag_value": {
       "constant": false,
       "value": "tag_value"
      },
      "user_name": {
       "constant": false,
       "value": "username"
      }
     }
    ],
    "inputschema": [
     {
      "properties": {
       "tag_key": {
        "description": "Tag Key to new IAM User.",
        "title": "Tag Key",
        "type": "string"
       },
       "tag_value": {
        "description": "Tag Value to new IAM User.",
        "title": "Tag Value",
        "type": "string"
       },
       "user_name": {
        "description": "IAM User Name.",
        "title": "User Name",
        "type": "string"
       }
      },
      "required": [
       "user_name",
       "tag_key",
       "tag_value"
      ],
      "title": "aws_create_iam_user",
      "type": "object"
     }
    ],
    "jupyter": {
     "source_hidden": true
    },
    "legotype": "LEGO_TYPE_AWS",
    "name": "Create New IAM User",
    "nouns": [
     "aws",
     "IAM",
     "user"
    ],
    "orderProperties": [
     "user_name",
     "tag_key",
     "tag_value"
    ],
    "output": {
     "type": ""
    },
    "outputParams": {
     "output_name": "user_details",
     "output_name_enabled": true
    },
    "printOutput": true,
    "tags": [
     "aws_create_iam_user"
    ],
    "title": "Create New IAM User",
    "verbs": [
     "create"
    ]
   },
   "outputs": [],
   "source": [
    "##  Copyright (c) 2021 unSkript, Inc\n",
    "##  All rights reserved.\n",
    "##\n",
    "from typing import List, Dict\n",
    "from pydantic import BaseModel, Field\n",
    "from botocore.exceptions import ClientError\n",
    "import pprint\n",
    "\n",
    "\n",
    "from beartype import beartype\n",
    "@beartype\n",
    "def aws_create_iam_user_printer(output):\n",
    "    if output is None:\n",
    "        return\n",
    "    pprint.pprint(output)\n",
    "\n",
    "\n",
    "@beartype\n",
    "def aws_create_iam_user(handle, user_name: str, tag_key: str, tag_value: str) -> Dict:\n",
    "    \"\"\"aws_create_iam_user Creates new IAM User.\n",
    "\n",
    "        :type handle: object\n",
    "        :param handle: Object returned by the task.validate(...) method\n",
    "\n",
    "        :type user_name: string\n",
    "        :param user_name: Name of new IAM User.\n",
    "\n",
    "        :type tag_key: string\n",
    "        :param tag_key: Tag Key assign to new User.\n",
    "\n",
    "        :type tag_value: string\n",
    "        :param tag_value: Tag Value assign to new User.\n",
    "\n",
    "        :rtype: Dict with the stopped instances state info.\n",
    "    \"\"\"\n",
    "\n",
    "    ec2Client = handle.client(\"iam\")\n",
    "    result = {}\n",
    "    try:\n",
    "        response = ec2Client.create_user(\n",
    "            UserName=user_name,\n",
    "            Tags=[\n",
    "                {\n",
    "                    'Key': tag_key,\n",
    "                    'Value': tag_value\n",
    "                }])\n",
    "        result = response\n",
    "    except ClientError as error:\n",
    "        if error.response['Error']['Code'] == 'EntityAlreadyExists':\n",
    "            result = error.response\n",
    "        else:\n",
    "            result = error.response\n",
    "\n",
    "    return result\n",
    "\n",
    "\n",
    "task = Task(Workflow())\n",
    "task.configure(printOutput=True)\n",
    "task.configure(inputParamsJson='''{\n",
    "    \"tag_key\": \"tag_key\",\n",
    "    \"tag_value\": \"tag_value\",\n",
    "    \"user_name\": \"username\"\n",
    "    }''')\n",
    "task.configure(outputName=\"user_details\")\n",
    "\n",
    "(err, hdl, args) = task.validate(vars=vars())\n",
    "if err is None:\n",
    "    task.execute(aws_create_iam_user, lego_printer=aws_create_iam_user_printer, hdl=hdl, args=args)"
   ]
  },
  {
   "cell_type": "markdown",
   "id": "c174d638-f107-450f-ab2d-d28cf097a722",
   "metadata": {
    "jupyter": {
     "source_hidden": false
    },
    "name": "Step-2",
    "orderProperties": [],
    "tags": [],
    "title": "Step-2"
   },
   "source": [
    "<h3 id=\"Create-login-Profile\"><a id=\"2\" target=\"_self\" rel=\"nofollow\"></a>Create login Profile</h3>\n",
    "<p>This action only executes when step 1 successfully creates a user. In this action, we will pass the newly created username and temporary password, which will create an user profile for the user in AWS.</p>\n",
    "<blockquote>\n",
    "<p>Input parameters: <code>user_name</code>, <code>password</code></p>\n",
    "</blockquote>\n",
    "<blockquote>\n",
    "<p>Output variable: <code>profile_details</code></p>\n",
    "</blockquote>"
   ]
  },
  {
   "cell_type": "code",
   "execution_count": null,
   "id": "35887cbc-bdb1-4f3b-8f59-a2bb78e9b605",
   "metadata": {
    "accessType": "ACCESS_TYPE_UNSPECIFIED",
    "actionBashCommand": false,
    "actionNeedsCredential": true,
    "actionRequiredLinesInCode": [],
    "actionSupportsIteration": true,
    "actionSupportsPoll": true,
    "action_uuid": "7b52e5fdfddd113a1c489d95d5fd8c9a98043c6ea721588531db6a5261434975",
    "condition_enabled": true,
    "continueOnError": false,
    "createTime": "1970-01-01T00:00:00Z",
    "credentialsJson": {},
    "currentVersion": "0.1.0",
    "description": "Create Login profile for IAM User",
    "id": 166,
    "index": 166,
    "inputData": [
     {
      "password": {
       "constant": false,
       "value": "password"
      },
      "user_name": {
       "constant": false,
       "value": "username"
      }
     }
    ],
    "inputschema": [
     {
      "properties": {
       "password": {
        "description": "Password for IAM User.",
        "title": "Password",
        "type": "string"
       },
       "user_name": {
        "description": "IAM User Name.",
        "title": "User Name",
        "type": "string"
       }
      },
      "required": [
       "user_name",
       "password"
      ],
      "title": "aws_create_user_login_profile",
      "type": "object"
     }
    ],
    "jupyter": {
     "source_hidden": true
    },
    "legotype": "LEGO_TYPE_AWS",
    "name": "Create Login profile for IAM User",
    "nouns": [
     "aws",
     "IAM",
     "login"
    ],
    "orderProperties": [
     "user_name",
     "password"
    ],
    "output": {
     "type": ""
    },
    "outputParams": {
     "output_name": "profile_details",
     "output_name_enabled": true
    },
    "printOutput": true,
    "startcondition": "'User' in UserInfo",
    "tags": [
     "aws_create_user_login_profile"
    ],
    "verbs": [
     "create"
    ]
   },
   "outputs": [],
   "source": [
    "##\n",
    "##  Copyright (c) 2021 unSkript, Inc\n",
    "##  All rights reserved.\n",
    "##\n",
    "from pydantic import BaseModel, Field\n",
    "from typing import Dict\n",
    "from botocore.exceptions import ClientError\n",
    "import pprint\n",
    "\n",
    "\n",
    "from beartype import beartype\n",
    "@beartype\n",
    "def aws_create_user_login_profile_printer(output):\n",
    "    if output is None:\n",
    "        return\n",
    "    pprint.pprint(output)\n",
    "\n",
    "\n",
    "@beartype\n",
    "def aws_create_user_login_profile(handle, user_name: str, password: str) -> Dict:\n",
    "    \"\"\"aws_create_user_login_profile Create login profile for IAM User.\n",
    "\n",
    "        :type handle: object\n",
    "        :param handle: Object returned by the task.validate(...) method.\n",
    "\n",
    "        :type user_name: string\n",
    "        :param user_name: Name of new IAM User.\n",
    "\n",
    "        :type password: string\n",
    "\n",
    "        :rtype: Dict with the Profile Creation status info.\n",
    "    \"\"\"\n",
    "\n",
    "    ec2Client = handle.client(\"iam\")\n",
    "    result = {}\n",
    "    try:\n",
    "        response = ec2Client.create_login_profile(\n",
    "            UserName=user_name,\n",
    "            PasswordResetRequired=True)\n",
    "\n",
    "        result = response\n",
    "    except ClientError as error:\n",
    "        if error.response['Error']['Code'] == 'EntityAlreadyExists':\n",
    "            result = error.response\n",
    "        else:\n",
    "            result = error.response\n",
    "\n",
    "    return result\n",
    "\n",
    "\n",
    "task = Task(Workflow())\n",
    "task.configure(printOutput=True)\n",
    "task.configure(inputParamsJson='''{\n",
    "    \"password\": \"password\",\n",
    "    \"user_name\": \"username\"\n",
    "    }''')\n",
    "task.configure(conditionsJson='''{\n",
    "    \"condition_enabled\": true,\n",
    "    \"condition_cfg\": \"'User' in UserInfo\",\n",
    "    \"condition_result\": true\n",
    "    }''')\n",
    "task.configure(outputName=\"profile_details\")\n",
    "\n",
    "(err, hdl, args) = task.validate(vars=vars())\n",
    "if err is None:\n",
    "    task.execute(aws_create_user_login_profile, lego_printer=aws_create_user_login_profile_printer, hdl=hdl, args=args)"
   ]
  },
  {
   "cell_type": "markdown",
   "id": "29511895-d1cc-4a01-9990-8928642b5006",
   "metadata": {
    "jupyter": {
     "source_hidden": false
    },
    "name": "Step-3",
    "orderProperties": [],
    "tags": [],
    "title": "Step-3"
   },
   "source": [
    "<h3 id=\"Check-Caller-Identity\"><a id=\"3\" target=\"_self\" rel=\"nofollow\"></a>Check Caller Identity</h3>\n",
    "<p>Here we will use unSkript <strong>Get Caller Identity Action</strong> action. These Action does not take any inputs. shows the caller's identity for the current user.</p>\n",
    "<blockquote>\n",
    "<p>Output variable: <code>caller_details</code></p>\n",
    "</blockquote>"
   ]
  },
  {
   "cell_type": "code",
   "execution_count": 5,
   "id": "dd1e1542-ddd7-4b86-86a2-17e999458fbd",
   "metadata": {
    "accessType": "ACCESS_TYPE_UNSPECIFIED",
    "actionBashCommand": false,
    "actionNeedsCredential": true,
    "actionRequiredLinesInCode": [],
    "actionSupportsIteration": true,
    "actionSupportsPoll": true,
    "action_uuid": "afacde59-a401-4a8b-901d-46c4b3970b78",
    "createTime": "2022-07-27T16:51:48Z",
    "credentialsJson": {},
    "currentVersion": "v0.0.0",
    "description": "Test",
    "execution_data": {
     "last_date_success_run_cell": "2022-09-02T16:44:27.574Z"
    },
    "id": 100001,
    "index": 100001,
    "inputschema": [
     {
      "properties": {},
      "required": [
       "instance_ids",
       "region"
      ],
      "title": "aws_restart_ec2_instances_test",
      "type": "object"
     }
    ],
    "jupyter": {
     "source_hidden": true
    },
    "legotype": "LEGO_TYPE_AWS",
    "name": "Get Caller Identity ",
    "nouns": [],
    "orderProperties": [],
    "output": {
     "type": ""
    },
    "outputParams": {
     "output_name": "caller_details",
     "output_name_enabled": true
    },
    "printOutput": true,
    "tags": [],
    "title": "Get Caller Identity ",
    "verbs": []
   },
   "outputs": [],
   "source": [
    "##  Copyright (c) 2021 unSkript, Inc\n",
    "##  All rights reserved.\n",
    "##\n",
    "from typing import List, Dict\n",
    "from pydantic import BaseModel, Field\n",
    "import pprint\n",
    "\n",
    "\n",
    "from beartype import beartype\n",
    "@beartype\n",
    "def aws_get_caller_identity_printer(output):\n",
    "    if output is None:\n",
    "        return\n",
    "    pprint.pprint(output)\n",
    "\n",
    "\n",
    "@beartype\n",
    "def aws_get_caller_identity(handle) -> Dict:\n",
    "    ec2Client = handle.client('sts')\n",
    "    response = ec2Client.get_caller_identity()\n",
    "\n",
    "    return response\n",
    "\n",
    "\n",
    "task = Task(Workflow())\n",
    "task.configure(printOutput=True)\n",
    "task.configure(outputName=\"caller_details\")\n",
    "(err, hdl, args) = task.validate(vars=vars())\n",
    "if err is None:\n",
    "    task.execute(aws_get_caller_identity, lego_printer=aws_get_caller_identity_printer, hdl=hdl, args=args)"
   ]
  },
  {
   "cell_type": "markdown",
   "id": "d1f05583-fa8c-4f8c-a357-3f6154df4620",
   "metadata": {
    "jupyter": {
     "source_hidden": false
    },
    "name": "Step-4",
    "orderProperties": [],
    "tags": [],
    "title": "Step-4"
   },
   "source": [
    "<h3 id=\"Post-Slack-Message\"><a id=\"4\" target=\"_self\" rel=\"nofollow\"></a>Post Slack Message</h3>\n",
    "<p>Here we will use unSkript <strong>Post Slack Message</strong> action. These actions send a message on the Slack channel with the newly created username.</p>\n",
    "<blockquote>\n",
    "<p>Input parameters: <code>channel</code>, <code>message</code></p>\n",
    "</blockquote>\n",
    "<blockquote>\n",
    "<p>Output variable: <code>send_status</code></p>\n",
    "</blockquote>"
   ]
  },
  {
   "cell_type": "code",
   "execution_count": 6,
   "id": "8cacd129-1fed-4c9e-9f2f-70da41c43c88",
   "metadata": {
    "accessType": "ACCESS_TYPE_UNSPECIFIED",
    "actionBashCommand": false,
    "actionNeedsCredential": true,
    "actionRequiredLinesInCode": [],
    "actionSupportsIteration": true,
    "actionSupportsPoll": true,
    "action_uuid": "6a87f83ab0ecfeecb9c98d084e2b1066c26fa64be5b4928d5573a5d60299802d",
    "condition_enabled": true,
    "continueOnError": false,
    "createTime": "1970-01-01T00:00:00Z",
    "credentialsJson": {},
    "currentVersion": "0.1.0",
    "description": "Post Slack Message",
    "execution_data": {
     "last_date_success_run_cell": "2022-09-02T16:45:12.785Z"
    },
    "id": 62,
    "index": 62,
    "inputData": [
     {
      "channel": {
       "constant": false,
       "value": "Channel_Name"
      },
      "message": {
       "constant": false,
       "value": "\"New IAM user {}\".format(user_name)"
      }
     }
    ],
    "inputschema": [
     {
      "properties": {
       "channel": {
        "default": "",
        "description": "Name of the slack channel where the message to be posted",
        "title": "Channel",
        "type": "string"
       },
       "message": {
        "default": "",
        "description": "Message to be sent",
        "title": "Message",
        "type": "string"
       }
      },
      "required": [
       "channel",
       "message"
      ],
      "title": "slack_post_message",
      "type": "object"
     }
    ],
    "jupyter": {
     "source_hidden": true
    },
    "legotype": "LEGO_TYPE_SLACK",
    "name": "Post Slack Message",
    "nouns": [
     "slack",
     "message"
    ],
    "orderProperties": [
     "channel",
     "message"
    ],
    "output": {
     "type": ""
    },
    "outputParams": {
     "output_name": "send_status",
     "output_name_enabled": true
    },
    "printOutput": true,
    "startcondition": "'User' in UserInfo and not channel",
    "tags": [
     "slack_post_message"
    ],
    "verbs": [
     "post"
    ]
   },
   "outputs": [],
   "source": [
    "##\n",
    "# Copyright (c) 2021 unSkript, Inc\n",
    "# All rights reserved.\n",
    "##\n",
    "\n",
    "import pprint\n",
    "\n",
    "from pydantic import BaseModel, Field\n",
    "from slack_sdk import WebClient\n",
    "from slack_sdk.errors import SlackApiError\n",
    "\n",
    "pp = pprint.PrettyPrinter(indent=2)\n",
    "\n",
    "\n",
    "from beartype import beartype\n",
    "@beartype\n",
    "def slack_post_message_printer(output):\n",
    "    if output is not None:\n",
    "        pprint.pprint(output)\n",
    "    else:\n",
    "        return\n",
    "\n",
    "\n",
    "@beartype\n",
    "def slack_post_message(\n",
    "        handle: WebClient,\n",
    "        channel: str,\n",
    "        message: str) -> str:\n",
    "\n",
    "    try:\n",
    "        response = handle.chat_postMessage(\n",
    "            channel=channel,\n",
    "            text=message)\n",
    "        return f\"Successfuly Sent Message on Channel: #{channel}\"\n",
    "    except SlackApiError as e:\n",
    "        pp.pprint(\n",
    "            f\"Failed sending message to slack channel {channel}, Error: {e.response['error']}\")\n",
    "        if e.response['error'] == 'channel_not_found':\n",
    "            raise Exception('Channel Not Found')\n",
    "        elif e.response['error'] == 'duplicate_channel_not_found':\n",
    "            raise Exception('Channel associated with the message_id not valid')\n",
    "        elif e.response['error'] == 'not_in_channel':\n",
    "            raise Exception('Cannot post message to channel user is not in')\n",
    "        elif e.response['error'] == 'is_archived':\n",
    "            raise Exception('Channel has been archived')\n",
    "        elif e.response['error'] == 'msg_too_long':\n",
    "            raise Exception('Message text is too long')\n",
    "        elif e.response['error'] == 'no_text':\n",
    "            raise Exception('Message text was not provided')\n",
    "        elif e.response['error'] == 'restricted_action':\n",
    "            raise Exception('Workspace preference prevents user from posting')\n",
    "        elif e.response['error'] == 'restricted_action_read_only_channel':\n",
    "            raise Exception('Cannot Post message, read-only channel')\n",
    "        elif e.response['error'] == 'team_access_not_granted':\n",
    "            raise Exception('The token used is not granted access to the workspace')\n",
    "        elif e.response['error'] == 'not_authed':\n",
    "            raise Exception('No Authtnecition token provided')\n",
    "        elif e.response['error'] == 'invalid_auth':\n",
    "            raise Exception('Some aspect of Authentication cannot be validated. Request denied')\n",
    "        elif e.response['error'] == 'access_denied':\n",
    "            raise Exception('Access to a resource specified in the request denied')\n",
    "        elif e.response['error'] == 'account_inactive':\n",
    "            raise Exception('Authentication token is for a deleted user')\n",
    "        elif e.response['error'] == 'token_revoked':\n",
    "            raise Exception('Authentication token for a deleted user has been revoked')\n",
    "        elif e.response['error'] == 'no_permission':\n",
    "            raise Exception('The workspace toekn used does not have necessary permission to send message')\n",
    "        elif e.response['error'] == 'ratelimited':\n",
    "            raise Exception('The request has been ratelimited. Retry sending message later')\n",
    "        elif e.response['error'] == 'service_unavailable':\n",
    "            raise Exception('The service is temporarily unavailable')\n",
    "        elif e.response['error'] == 'fatal_error':\n",
    "            raise Exception('The server encountered catostrophic error while sending message')\n",
    "        elif e.response['error'] == 'internal_error':\n",
    "            raise Exception('The server could not complete operation, likely due to transietn issue')\n",
    "        elif e.response['error'] == 'request_timeout':\n",
    "            raise Exception('Sending message error via POST: either message was missing or truncated')\n",
    "        else:\n",
    "            raise Exception(f'Failed Sending Message to slack channel {channel} Error: {e.response[\"error\"]}')\n",
    "\n",
    "    except Exception as e:\n",
    "        print(\"\\n\\n\")\n",
    "        pp.pprint(\n",
    "            f\"Failed sending message to slack channel {channel}, Error: {e.__str__()}\")\n",
    "        return f\"Unable to send message on {channel}\"\n",
    "\n",
    "\n",
    "task = Task(Workflow())\n",
    "task.configure(printOutput=True)\n",
    "task.configure(inputParamsJson='''{\n",
    "    \"channel\": \"Channel_Name\",\n",
    "    \"message\": \"\\\\\"New IAM user {}\\\\\".format(user_name)\"\n",
    "    }''')\n",
    "\n",
    "task.configure(conditionsJson='''{\n",
    "    \"condition_enabled\": true,\n",
    "    \"condition_cfg\": \"'User' in UserInfo and not channel\",\n",
    "    \"condition_result\": true\n",
    "    }''')\n",
    "task.configure(outputName=\"send_status\")\n",
    "\n",
    "(err, hdl, args) = task.validate(vars=vars())\n",
    "if err is None:\n",
    "    task.execute(slack_post_message, lego_printer=slack_post_message_printer, hdl=hdl, args=args)"
   ]
  },
  {
   "attachments": {},
   "cell_type": "markdown",
   "id": "e9df5398-15b1-4279-92b8-d4c62372afed",
   "metadata": {
    "jupyter": {
     "source_hidden": false
    },
    "name": "Conclusion",
    "orderProperties": [],
    "tags": [],
    "title": "Conclusion"
   },
   "source": [
    "### Conclusion\n",
    "In this Runbook, we demonstrated the use of unSkript's AWS and slack actions to perform AWS create new IAM user, login profile and also show the caller identity of the user. On Success, post a message on the slack channel about the User creation. To view the full platform capabilities of unSkript please visit https://us.app.unskript.io"
   ]
  }
 ],
 "metadata": {
  "execution_data": {
   "runbook_name": "Create a new AWS IAM User",
   "parameters": [
    "channel",
    "password",
    "username"
   ]
  },
  "kernelspec": {
   "display_name": "Python 3",
   "language": "python",
   "name": "python3"
  },
  "language_info": {
   "file_extension": ".py",
   "mimetype": "text/x-python",
   "name": "python",
   "pygments_lexer": "ipython3",
   "version": "3.10.6 (tags/v3.10.6:9c7b4bd, Aug  1 2022, 21:53:49) [MSC v.1932 64 bit (AMD64)]"
  },
  "parameterSchema": {
   "properties": {
    "channel": {
     "description": "Slack Channel Name to send the new User Information. Example random, general",
     "title": "channel",
     "type": "string"
    },
    "password": {
     "description": "Login profile password for new IAM user.",
     "format": "password",
     "title": "password",
     "type": "string",
     "writeOnly": true
    },
    "username": {
     "description": "Name of the user that needs to be created",
     "title": "username",
     "type": "string"
    }
   },
   "required": [
    "username",
    "password"
   ],
   "title": "Schema",
   "type": "object"
  },
  "parameterValues": {},
  "vscode": {
   "interpreter": {
    "hash": "e8899eb02dfbc033aab5733bdae1bd213fa031d40331094008e8673d99ebab63"
   }
  }
 },
 "nbformat": 4,
 "nbformat_minor": 5
}