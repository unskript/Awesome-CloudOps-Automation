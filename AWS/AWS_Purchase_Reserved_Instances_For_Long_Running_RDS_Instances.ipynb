{
 "cells": [
  {
   "cell_type": "markdown",
   "id": "5424264e-6195-4cf9-906b-24b02d5a83f3",
   "metadata": {
    "jupyter": {
     "source_hidden": false
    },
    "name": "Steps Overview",
    "orderProperties": [],
    "tags": [],
    "title": "Steps Overview"
   },
   "source": [
    "<center><img src=\"https://storage.googleapis.com/unskript-website/assets/favicon.png\" alt=\"unSkript.com\" width=\"100\" height=\"100\">\n",
    "<h1 id=\"unSkript-Runbooks\">unSkript Runbooks</h1>\n",
    "<div class=\"alert alert-block alert-success\">\n",
    "<h3 id=\"Objective\">Objective</h3>\n",
    "<br><strong style=\"color: #000000;\"><em>Enusre Long Running AWS RDS Instances have Reserved Instances purchased for them.</em></strong></div>\n",
    "</center>\n",
    "<p>&nbsp;</p>\n",
    "<center>\n",
    "<h2 id=\"Delete-RDS-Instances-with-Low-CPU-Utilization\"><u>Purchase Reserved Instances For Long Running AWS RDS Instances</u></h2>\n",
    "</center>\n",
    "<h1 id=\"Steps-Overview\">Steps Overview</h1>\n",
    "<p>1)<a href=\"#1\" target=\"_self\" rel=\"noopener\"> Find Long Running AWS RDS Instances without Reserved Instances</a><br>2)<a href=\"#2\" target=\"_self\" rel=\"noopener\"> Purchase Reserved Instance</a></p>"
   ]
  },
  {
   "cell_type": "code",
   "execution_count": null,
   "id": "e1f146c9-5180-4459-9c82-cf0e1da02785",
   "metadata": {
    "collapsed": true,
    "credentialsJson": {},
    "customAction": true,
    "execution_data": {
     "last_date_success_run_cell": "2023-05-12T16:32:49.906Z"
    },
    "jupyter": {
     "outputs_hidden": true,
     "source_hidden": true
    },
    "name": "Input verification",
    "orderProperties": [],
    "tags": [],
    "title": "Input verification"
   },
   "outputs": [],
   "source": [
    "if region == None:\n",
    "    region = ''\n",
    "threshold_int = int(threshold)\n",
    "if reserved_instance_offering_id and not region:\n",
    "    raise SystemExit(\"Provide a region for the Reserved Cache Instance Offering ID!\")"
   ]
  },
  {
   "cell_type": "markdown",
   "id": "908f4dcb-8483-44fc-8f81-ce2502e03093",
   "metadata": {
    "jupyter": {
     "source_hidden": false
    },
    "name": "Step 1",
    "orderProperties": [],
    "tags": [],
    "title": "Step 1"
   },
   "source": [
    "<h3 id=\"Find-ECS-Clusters-with-Low-CPU-Utilization\"><a id=\"1\" target=\"_self\" rel=\"nofollow\"></a>Find Long Running AWS RDS Instances without Reserved Instances</h3>\n",
    "<p>Using unSkript's Find Long Running AWS RDS Instances without Reserved Instances action, we will find RDS DB Instances that have been running for longer than a specified threshold and do not have reserved instances purchased for them.</p>\n",
    "<blockquote>\n",
    "<p>This action takes the following parameters: <code>region, threshold</code></p>\n",
    "</blockquote>\n",
    "<blockquote>\n",
    "<p>This action captures the following output: <code>clusters_without_reserved_instances</code></p>\n",
    "</blockquote>"
   ]
  },
  {
   "cell_type": "code",
   "execution_count": null,
   "id": "a1efdab1-97ed-4d4d-bcab-5edd1eee6ffb",
   "metadata": {
    "actionBashCommand": false,
    "actionCategories": [
     "CATEGORY_TYPE_COST_OPT",
     "CATEGORY_TYPE_SRE",
     "CATEGORY_TYPE_AWS",
     "CATEGORY_TYPE_AWS_RDS"
    ],
    "actionDescription": "This action gets information about long running instances and their status, and checks if they have any reserved nodes associated with them.",
    "actionEntryFunction": "aws_get_long_running_rds_instances_without_reserved_instances",
    "actionIsCheck": true,
    "actionIsRemediation": false,
    "actionNeedsCredential": true,
    "actionNextHop": [],
    "actionNextHopParameterMapping": {},
    "actionNouns": null,
    "actionOutputType": "ACTION_OUTPUT_TYPE_LIST",
    "actionSupportsIteration": true,
    "actionSupportsPoll": true,
    "actionTitle": "AWS Get Long Running RDS Instances Without Reserved Instances",
    "actionType": "LEGO_TYPE_AWS",
    "actionVerbs": null,
    "actionVersion": "1.0.0",
    "action_modified": false,
    "action_uuid": "77d61931741da6d2be410571e205c93962815430843b1fbaf8e575e6384598ae",
    "collapsed": true,
    "continueOnError": false,
    "credentialsJson": {},
    "description": "This action gets information about long running instances and their status, and checks if they have any reserved nodes associated with them.",
    "execution_data": {
     "last_date_success_run_cell": "2023-05-12T16:34:16.408Z"
    },
    "id": 15,
    "index": 15,
    "inputData": [
     {
      "region": {
       "constant": false,
       "value": "region"
      },
      "threshold": {
       "constant": false,
       "value": "threshold_int"
      }
     }
    ],
    "inputschema": [
     {
      "properties": {
       "region": {
        "default": "",
        "description": "AWS Region.",
        "title": "AWS Region",
        "type": "string"
       },
       "threshold": {
        "default": 10,
        "description": "Threshold(in days) to find long running RDS instances. Eg: 30, This will find all the instances that have been created a month ago.",
        "title": "Threshold(in days)",
        "type": "number"
       }
      },
      "required": [],
      "title": "aws_get_long_running_rds_instances_without_reserved_instances",
      "type": "object"
     }
    ],
    "jupyter": {
     "outputs_hidden": true,
     "source_hidden": true
    },
    "language": "python",
    "legotype": "LEGO_TYPE_AWS",
    "name": "AWS Get Long Running RDS Instances Without Reserved Instances",
    "orderProperties": [
     "region",
     "threshold"
    ],
    "outputParams": {
     "output_name": "clusters_without_reserved_instances",
     "output_name_enabled": true,
     "output_runbook_enabled": false,
     "output_runbook_name": ""
    },
    "printOutput": true,
    "tags": [
     "aws_get_long_running_rds_instances_without_reserved_instances"
    ],
    "uuid": "77d61931741da6d2be410571e205c93962815430843b1fbaf8e575e6384598ae",
    "version": "1.0.0"
   },
   "outputs": [],
   "source": [
    "##\n",
    "##  Copyright (c) 2023 unSkript, Inc\n",
    "##  All rights reserved.\n",
    "##\n",
    "import pprint\n",
    "from typing import Optional, Tuple\n",
    "from pydantic import BaseModel, Field\n",
    "from datetime import datetime,timedelta, timezone\n",
    "from unskript.connectors.aws import aws_get_paginator\n",
    "from unskript.legos.aws.aws_list_all_regions.aws_list_all_regions import aws_list_all_regions\n",
    "\n",
    "from beartype import beartype\n",
    "@beartype\n",
    "def aws_get_long_running_rds_instances_without_reserved_instances_printer(output):\n",
    "    if output is None:\n",
    "        return\n",
    "    pprint.pprint(output)\n",
    "\n",
    "@beartype\n",
    "def aws_get_long_running_rds_instances_without_reserved_instances(handle, region: str = \"\", threshold:int=10) -> Tuple:\n",
    "    \"\"\"aws_get_long_running_rds_instances_without_reserved_instances Gets all DB instances that are not m5 or t3.\n",
    "\n",
    "        :type handle: object\n",
    "        :param handle: Object returned from task.validate(...).\n",
    "\n",
    "        :type region: string\n",
    "        :param region: AWS Region.\n",
    "\n",
    "        :type threshold: int\n",
    "        :param threshold: Threshold(in days) to find long running RDS instances. Eg: 30, This will find all the instances that have been created a month ago.\n",
    "\n",
    "        :rtype: A tuple with a Status,and list of DB instances that don't have reserved instances\n",
    "    \"\"\"\n",
    "    result = []\n",
    "    all_regions = [region]\n",
    "    reservedInstancesPerRegion = {}\n",
    "    if not region:\n",
    "        all_regions = aws_list_all_regions(handle)\n",
    "    for reg in all_regions:\n",
    "        try:\n",
    "            rdsClient = handle.client('rds', region_name=reg)\n",
    "            response = rdsClient.describe_reserved_nodes()\n",
    "            reservedInstancesPerType = {}\n",
    "            if response['ReservedDBInstances']:\n",
    "                for ins in response['ReservedDBInstances']:\n",
    "                    reservedInstancesPerRegion[ins['DBInstanceClass']] = True\n",
    "            else:\n",
    "                continue\n",
    "            reservedInstancesPerRegion[reg] = reservedInstancesPerType\n",
    "        except Exception:\n",
    "            pass\n",
    "    for reg in all_regions:\n",
    "        try:\n",
    "            rdsClient = handle.client('rds', region_name=reg)\n",
    "            response = aws_get_paginator(rdsClient, \"describe_db_instances\", \"DBInstances\")\n",
    "            for instance in response:\n",
    "                if instance['DBInstanceStatus'] == 'available':\n",
    "                        uptime = datetime.now(timezone.utc) - instance['InstanceCreateTime']\n",
    "                        if uptime > timedelta(days=threshold):\n",
    "                            # Check if the cluster node type is present in the reservedInstancesPerRegion map.\n",
    "                            reservedInstances = reservedInstancesPerRegion.get(reg)\n",
    "                            if reservedInstances != None:\n",
    "                                if reservedInstances.get(instance['DBInstanceClass']) == True:\n",
    "                                    continue\n",
    "                            db_instance_dict = {}\n",
    "                            db_instance_dict[\"region\"] = reg\n",
    "                            db_instance_dict[\"instance_type\"] = instance['DBInstanceClass']\n",
    "                            db_instance_dict[\"instance\"] = instance['DBInstanceIdentifier']\n",
    "                            result.append(db_instance_dict)\n",
    "        except Exception:\n",
    "            pass\n",
    "\n",
    "    if len(result) != 0:\n",
    "        return (False, result)\n",
    "    else:\n",
    "        return (True, None)\n",
    "\n",
    "\n",
    "\n",
    "\n",
    "task = Task(Workflow())\n",
    "task.configure(inputParamsJson='''{\n",
    "    \"region\": \"region\",\n",
    "    \"threshold\": \"int(threshold_int)\"\n",
    "    }''')\n",
    "\n",
    "task.configure(outputName=\"clusters_without_reserved_instances\")\n",
    "\n",
    "task.configure(printOutput=True)\n",
    "(err, hdl, args) = task.validate(vars=vars())\n",
    "if err is None:\n",
    "    task.execute(aws_get_long_running_rds_instances_without_reserved_instances, lego_printer=aws_get_long_running_rds_instances_without_reserved_instances_printer, hdl=hdl, args=args)"
   ]
  },
  {
   "cell_type": "markdown",
   "id": "3f369bc9-53d0-44c8-af50-80ba7885c657",
   "metadata": {
    "jupyter": {
     "source_hidden": false
    },
    "name": "Step 2A",
    "orderProperties": [],
    "tags": [],
    "title": "Step 2A"
   },
   "source": [
    "<h3 id=\"Create-List-of-Clusters-without-reserved-instances\">Create List of Clusters without reserved instances</h3>\n",
    "<p>This action filters regions that have no clusters and creates a list of those that have them (without reserved instances).</p>\n",
    "<blockquote>\n",
    "<p>This action takes the following parameters: <code>None</code></p>\n",
    "</blockquote>\n",
    "<blockquote>\n",
    "<p>This action captures the following output: <code>all_clusters_without_reserved_instances</code></p>\n",
    "</blockquote>"
   ]
  },
  {
   "cell_type": "code",
   "execution_count": null,
   "id": "6a10e980-9f17-4436-9166-90ea130aa316",
   "metadata": {
    "credentialsJson": {},
    "customAction": true,
    "execution_data": {
     "last_date_success_run_cell": "2023-05-12T16:34:22.299Z"
    },
    "jupyter": {
     "source_hidden": true
    },
    "name": "Create List of Low CPU Utilization RDS Instances",
    "orderProperties": [],
    "tags": [],
    "title": "Create List of Low CPU Utilization RDS Instances"
   },
   "outputs": [],
   "source": [
    "all_clusters_without_reserved_instances = []\n",
    "dummy = []\n",
    "for res in clusters_without_reserved_instances:\n",
    "    if type(res)==bool:\n",
    "        if res == False:\n",
    "            continue\n",
    "    elif type(res)==list:\n",
    "        if len(res)!=0:\n",
    "            all_clusters_without_reserved_instances=res\n",
    "print(all_clusters_without_reserved_instances)\n",
    "task.configure(outputName=\"all_clusters_without_reserved_instances\")"
   ]
  },
  {
   "cell_type": "markdown",
   "id": "978d3b61-2fd9-461d-89bd-534d2dcf3b63",
   "metadata": {
    "jupyter": {
     "source_hidden": false
    },
    "name": "Step 2",
    "orderProperties": [],
    "tags": [],
    "title": "Step 2"
   },
   "source": [
    "<h3 id=\"Delete-RDS-Instance\"><a id=\"2\" target=\"_self\" rel=\"nofollow\"></a>Purchase Reserved Instance</h3>\n",
    "<p>This action Purchases Reserved Instances for the clusters found in Step 1.&nbsp;</p>\n",
    "<blockquote>\n",
    "<p>This action takes the following parameters:&nbsp;<code>db_instance_count, region, reserved_instance_offering_id</code></p>\n",
    "</blockquote>"
   ]
  },
  {
   "cell_type": "code",
   "execution_count": null,
   "id": "b1a73789-b8a6-4f04-97b8-09d784a8a916",
   "metadata": {
    "actionBashCommand": false,
    "actionCategories": [
     "CATEGORY_TYPE_SRE",
     "CATEGORY_TYPE_AWS",
     "CATEGORY_TYPE_AWS_RDS"
    ],
    "actionDescription": "This action purchases a reserved DB instance offering.",
    "actionEntryFunction": "aws_purchase_rds_reserved_instance",
    "actionIsCheck": false,
    "actionIsRemediation": false,
    "actionNeedsCredential": false,
    "actionNextHop": null,
    "actionNextHopParameterMapping": null,
    "actionNouns": null,
    "actionOutputType": "ACTION_OUTPUT_TYPE_DICT",
    "actionSupportsIteration": true,
    "actionSupportsPoll": true,
    "actionTitle": "AWS Purchase RDS Reserved Instances",
    "actionType": "LEGO_TYPE_AWS",
    "actionVerbs": null,
    "actionVersion": "1.0.0",
    "action_modified": false,
    "action_uuid": "e38b3b31c357018f66d779266a5f1692dda78556eb22eb02e3acaf9ad2d69b3d",
    "collapsed": true,
    "continueOnError": false,
    "credentialsJson": {},
    "description": "This action purchases a reserved DB instance offering.",
    "id": 4,
    "index": 4,
    "inputData": [
     {
      "db_instance_count": {
       "constant": false,
       "value": "db_instance_count"
      },
      "region": {
       "constant": false,
       "value": "region"
      },
      "reserved_instance_offering_id": {
       "constant": false,
       "value": "reserved_instance_offering_id"
      }
     }
    ],
    "inputschema": [
     {
      "properties": {
       "db_instance_count": {
        "default": 1,
        "description": "The number of instances to reserve.",
        "title": "Instance Count",
        "type": "integer"
       },
       "region": {
        "description": "AWS Region.",
        "title": "Region",
        "type": "string"
       },
       "reserved_instance_offering_id": {
        "description": "The ID of the Reserved DB instance offering to purchase. Example: 438012d3-4052-4cc7-b2e3-8d3372e0e706",
        "title": "Reserved Instance Offering ID",
        "type": "string"
       }
      },
      "required": [
       "region",
       "reserved_instance_offering_id"
      ],
      "title": "aws_purchase_rds_reserved_instance",
      "type": "object"
     }
    ],
    "jupyter": {
     "outputs_hidden": true,
     "source_hidden": true
    },
    "language": "python",
    "legotype": "LEGO_TYPE_AWS",
    "name": "AWS Purchase RDS Reserved Instances",
    "orderProperties": [
     "region",
     "reserved_instance_offering_id",
     "db_instance_count"
    ],
    "printOutput": true,
    "tags": [
     "aws_purchase_rds_reserved_instance"
    ],
    "uuid": "e38b3b31c357018f66d779266a5f1692dda78556eb22eb02e3acaf9ad2d69b3d",
    "version": "1.0.0"
   },
   "outputs": [],
   "source": [
    "##\n",
    "# Copyright (c) 2023 unSkript, Inc\n",
    "# All rights reserved.\n",
    "##\n",
    "from pydantic import BaseModel, Field\n",
    "from typing import Optional, Dict\n",
    "import pprint\n",
    "\n",
    "\n",
    "from beartype import beartype\n",
    "@beartype\n",
    "def aws_purchase_rds_reserved_instance_printer(output):\n",
    "    if output is None:\n",
    "        return\n",
    "    pprint.pprint(output)\n",
    "\n",
    "\n",
    "@beartype\n",
    "def aws_purchase_rds_reserved_instance(handle, region: str, reserved_instance_offering_id: str, db_instance_count:int=1) -> Dict:\n",
    "    \"\"\"aws_purchase_rds_reserved_instance returns dict of response.\n",
    "\n",
    "        :type region: string\n",
    "        :param region: AWS Region.\n",
    "\n",
    "        :type reserved_instance_offering_id: string\n",
    "        :param reserved_instance_offering_id: The unique identifier of the reserved instance offering you want to purchase.\n",
    "\n",
    "        :type db_instance_count: int\n",
    "        :param db_instance_count: The number of reserved instances that you want to purchase.\n",
    "\n",
    "        :rtype: dict of response metatdata of purchasing a reserved instance\n",
    "    \"\"\"\n",
    "    try:\n",
    "        redshiftClient = handle.client('redshift', region_name=region)\n",
    "        params = {\n",
    "            'ReservedDBInstancesOfferingId': reserved_instance_offering_id,\n",
    "            'DBInstanceCount': db_instance_count\n",
    "            }\n",
    "        response = redshiftClient.purchase_reserved_db_instances_offering(**params)\n",
    "        return response\n",
    "    except Exception as e:\n",
    "        raise Exception(e)\n",
    "\n",
    "\n",
    "\n",
    "\n",
    "task = Task(Workflow())\n",
    "task.configure(inputParamsJson='''{\n",
    "    \"region\": \"region\",\n",
    "    \"reserved_instance_offering_id\": \"reserved_instance_offering_id\",\n",
    "    \"db_instance_count\": int(db_instance_count)\n",
    "    }''')\n",
    "\n",
    "task.configure(printOutput=True)\n",
    "(err, hdl, args) = task.validate(vars=vars())\n",
    "if err is None:\n",
    "    task.execute(aws_purchase_rds_reserved_instance, lego_printer=aws_purchase_rds_reserved_instance_printer, hdl=hdl, args=args)"
   ]
  },
  {
   "cell_type": "markdown",
   "id": "44a6cf05-385b-445d-a503-ad4aa607a568",
   "metadata": {
    "jupyter": {
     "source_hidden": false
    },
    "name": "Conclusion",
    "orderProperties": [],
    "tags": [],
    "title": "Conclusion"
   },
   "source": [
    "<h3 id=\"Conclusion&para;\">Conclusion</h3>\n",
    "<p>In this Runbook, we were able to filter long running RDS instances without reserved nodes given a threshold number of days of creation and purchase instances for them. To view the full platform capabilities of unSkript please visit <a href=\"https://us.app.unskript.io\" target=\"_blank\" rel=\"noopener\">us.app.unskript.io</a></p>"
   ]
  }
 ],
 "metadata": {
  "execution_data": {
   "parameters": [
    "region",
    "threshold_days"
   ],
   "runbook_name": "Purchase Reserved Instances For Long Running AWS RDS Instances"
  },
  "kernelspec": {
   "display_name": "unSkript (Build: 1166)",
   "language": "python",
   "name": "python3"
  },
  "language_info": {
   "codemirror_mode": {
    "name": "ipython",
    "version": 3
   },
   "file_extension": ".py",
   "mimetype": "text/x-python",
   "name": "python",
   "nbconvert_exporter": "python",
   "pygments_lexer": "ipython3",
   "version": "3.10.6"
  },
  "outputParameterSchema": {
   "properties": {},
   "required": [],
   "title": "Schema",
   "type": "object"
  },
  "parameterSchema": {
   "properties": {
    "db_instance_count": {
     "default": 1,
     "description": "Number of reserved instances to create. The default value is 1.",
     "title": "db_instance_count",
     "type": "number"
    },
    "region": {
     "description": "AWS region. Eg: \"us-west-2\"",
     "title": "region",
     "type": "string"
    },
    "reserved_instance_offering_id": {
     "description": "The ID of the reserved instance offering to purchase. Example: 438012d3-4052-4cc7-b2e3-8d3372e0e706",
     "title": "reserved_instance_offering_id",
     "type": "string"
    },
    "threshold": {
     "default": 10,
     "description": "Threshold (in days) to find long running RDS Instances. Eg: 30 , this will get all the instances that have been running for more than 30 days. The default value is 10 days.",
     "title": "threshold",
     "type": "number"
    }
   },
   "required": [
    "reserved_instance_offering_id"
   ],
   "title": "Schema",
   "type": "object"
  },
  "vscode": {
   "interpreter": {
    "hash": "b0fa6594d8f4cbf19f97940f81e996739fb7646882a419484c72d19e05852a7e"
   }
  }
 },
 "nbformat": 4,
 "nbformat_minor": 5
}
