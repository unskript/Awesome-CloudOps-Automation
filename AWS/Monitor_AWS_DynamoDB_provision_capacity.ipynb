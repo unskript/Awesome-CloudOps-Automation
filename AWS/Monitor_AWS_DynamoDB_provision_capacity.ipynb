{
 "cells": [
  {
   "cell_type": "markdown",
   "id": "1fe9e993-6175-40e2-be4d-b38474f610c4",
   "metadata": {
    "jupyter": {
     "source_hidden": false
    },
    "name": "Monitor AWS DynamoDB provision capacity",
    "orderProperties": [],
    "tags": [],
    "title": "Monitor AWS DynamoDB provision capacity"
   },
   "source": [
    "<img src=\"https://storage.googleapis.com/unskript-website/assets/favicon.png\" alt=\"unSkript.com\" width=\"100\" height=\"100\"/> \n",
    "<h1> unSkript Runbooks </h1>\n",
    "<div class=\"alert alert-block alert-success\">\n",
    "    <b> This runbook demonstrates How Monitor AWS DynamoDB provision capacity using unSkript legos.</b>\n",
    "</div>\n",
    "\n",
    "<br>\n",
    "\n",
    "<center><h2>Monitor AWS DynamoDB provision capacity</h2></center>\n",
    "\n",
    "# Steps Overview\n",
    "    Collecting the data metrics from cloudwatch related to DynamoDB for provision capacity like:\n",
    "    - PROVISIONED READ CAPACITY UNITS\n",
    "    - PROVISIONED WRITE CAPACITY UNITS\n",
    "    - ACCOUNT PROVISIONED READ CAPACITY UTILIZATION\n",
    "    - ACCOUNT PROVISIONED WRITE CAPACITY UTILIZATION\n",
    "    - MAX PROVISIONED TABLE WRITE CAPACITY UTILIZATION"
   ]
  },
  {
   "cell_type": "markdown",
   "id": "e7ff4abf-4104-4673-98a2-f35cf8ec2cd2",
   "metadata": {
    "jupyter": {
     "source_hidden": false
    },
    "name": "Provisioned Read Capacity Units",
    "orderProperties": [],
    "tags": [],
    "title": "Provisioned Read Capacity Units"
   },
   "source": [
    "Here we will use unSkript Get AWS CloudWatch Metrics for AWS/DynamoDB Lego. This lego takes metric_name, dimensions, period, timeSince, statistics, region and period as input. This input is used to get cloudwatch metrics of DynamoDB for PROVISIONED READ CAPACITY UNITS."
   ]
  },
  {
   "cell_type": "code",
   "execution_count": 49,
   "id": "7d2eadc7-110e-426b-b73b-77b14f747c19",
   "metadata": {
    "accessType": "ACCESS_TYPE_UNSPECIFIED",
    "actionBashCommand": false,
    "actionNeedsCredential": true,
    "actionRequiredLinesInCode": [],
    "actionSupportsIteration": true,
    "actionSupportsPoll": true,
    "action_uuid": "5baddb8c2b083c19c73cec00f89256d9f79aac1c6ecaca3333864240201c85fd",
    "collapsed": true,
    "continueOnError": false,
    "createTime": "1970-01-01T00:00:00Z",
    "credentialsJson": {},
    "currentVersion": "0.1.0",
    "description": "Get AWS CloudWatch Metrics for AWS DynamoDB",
    "execution_data": {
     "last_date_success_run_cell": "2022-09-29T12:49:36.763Z"
    },
    "id": 157,
    "index": 157,
    "inputData": [
     {
      "dimensions": {
       "constant": false,
       "value": "[{\"Name\":\"TableName\",\"Value\":\"test\"}]"
      },
      "metric_name": {
       "constant": true,
       "value": "ProvisionedReadCapacityUnits"
      },
      "period": {
       "constant": false,
       "value": "Period"
      },
      "region": {
       "constant": false,
       "value": "Region"
      },
      "statistics": {
       "constant": true,
       "value": "Average"
      },
      "timeSince": {
       "constant": false,
       "value": "Time_Since"
      }
     }
    ],
    "inputschema": [
     {
      "definitions": {
       "DynamoDBMetrics": {
        "description": "An enumeration.",
        "enum": [
         "AccountMaxReads",
         "AccountMaxTableLevelReads",
         "AccountMaxTableLevelWrites",
         "AccountMaxWrites",
         "AccountProvisionedReadCapacityUtilization",
         "AccountProvisionedWriteCapacityUtilization",
         "AgeOfOldestUnreplicatedRecord",
         "ConditionalCheckFailedRequests",
         "ConsumedChangeDataCaptureUnits",
         "ConsumedReadCapacityUnits",
         "ConsumedWriteCapacityUnits",
         "FailedToReplicateRecordCount",
         "MaxProvisionedTableWriteCapacityUtilization",
         "OnlineIndexConsumedWriteCapacity",
         "OnlineIndexPercentageProgress",
         "OnlineIndexThrottleEvents",
         "PendingReplicationCount",
         "ProvisionedReadCapacityUnits",
         "ProvisionedWriteCapacityUnits",
         "ReadThrottleEvents",
         "ReplicationLatency",
         "ReturnedBytes",
         "ReturnedItemCount",
         "ReturnedRecordsCount",
         "SuccessfulRequestLatency",
         "SystemErrors",
         "TimeToLiveDeletedItemCount",
         "ThrottledPutRecordCount",
         "ThrottledRequests",
         "TransactionConflict",
         "UserErrors",
         "WriteThrottleEvents"
        ],
        "title": "DynamoDBMetrics"
       },
       "StatisticsType": {
        "description": "An enumeration.",
        "enum": [
         "SampleCount",
         "Average",
         "Sum",
         "Minimum",
         "Maximum",
         "Percentile"
        ],
        "title": "StatisticsType"
       }
      },
      "properties": {
       "dimensions": {
        "description": "A dimension is a name/value pair that is part of the identity of a metric.",
        "items": {
         "type": "object"
        },
        "title": "Dimensions",
        "type": "array"
       },
       "metric_name": {
        "allOf": [
         {
          "$ref": "#/definitions/DynamoDBMetrics"
         }
        ],
        "description": "The name of the metric, with or without spaces.",
        "title": "Metric Name"
       },
       "period": {
        "default": 60,
        "description": "The granularity, in seconds, of the returned data points.",
        "title": "Period",
        "type": "integer"
       },
       "region": {
        "description": "AWS Region of the cloudwatch.",
        "title": "Region",
        "type": "string"
       },
       "statistics": {
        "allOf": [
         {
          "$ref": "#/definitions/StatisticsType"
         }
        ],
        "description": "Cloudwatch metric statistics. Possible values: SampleCount, Average, Sum, Minimum, Maximum",
        "title": "Statistics"
       },
       "timeSince": {
        "description": "Starting from now, window (in seconds) for which you want to get the datapoints for.",
        "title": "Time Since",
        "type": "integer"
       }
      },
      "required": [
       "metric_name",
       "dimensions",
       "timeSince",
       "statistics",
       "region"
      ],
      "title": "aws_get_cloudwatch_metrics_dynamodb",
      "type": "object"
     }
    ],
    "jupyter": {
     "outputs_hidden": true,
     "source_hidden": true
    },
    "legotype": "LEGO_TYPE_AWS",
    "name": "Monitor PROVISIONED READ CAPACITY UNITS  for DynamoDB",
    "nouns": [
     "aws",
     "cloudwatch",
     "metrics",
     "dynamodb"
    ],
    "orderProperties": [
     "metric_name",
     "dimensions",
     "period",
     "timeSince",
     "statistics",
     "region"
    ],
    "output": {
     "type": ""
    },
    "tags": [
     "aws_get_cloudwatch_metrics_dynamodb"
    ],
    "title": "Monitor PROVISIONED READ CAPACITY UNITS  for DynamoDB",
    "trusted": true,
    "verbs": [
     "get"
    ]
   },
   "outputs": [],
   "source": [
    "##\n",
    "# Copyright (c) 2021 unSkript, Inc\n",
    "# All rights reserved.\n",
    "##\n",
    "\n",
    "import enum\n",
    "from pydantic import BaseModel, Field\n",
    "from typing import Optional, List\n",
    "from datetime import datetime, timedelta\n",
    "import matplotlib.pyplot as plt\n",
    "from tabulate import tabulate\n",
    "from unskript.legos.aws.aws_get_handle import Session\n",
    "from unskript.enums.aws_cloudwatch_enums import DynamoDBMetrics\n",
    "from unskript.enums.aws_k8s_enums import StatisticsType\n",
    "import pprint\n",
    "\n",
    "\n",
    "from beartype import beartype\n",
    "@beartype\n",
    "def aws_get_cloudwatch_metrics_dynamodb_printer(output):\n",
    "    if output is None:\n",
    "        return\n",
    "    plt.show()\n",
    "    pprint.pprint(output)\n",
    "\n",
    "\n",
    "@beartype\n",
    "def aws_get_cloudwatch_metrics_dynamodb(\n",
    "    hdl: Session,\n",
    "    metric_name: DynamoDBMetrics,\n",
    "    dimensions: List[dict],\n",
    "    timeSince: int,\n",
    "    statistics: StatisticsType,\n",
    "    region: str,\n",
    "    period: int = 60,\n",
    ") -> str:\n",
    "    \"\"\"aws_get_cloudwatch_metrics_dynamodb shows plotted AWS cloudwatch statistics for Dynamodb.\n",
    "\n",
    "    :type metric_name: DynamoDBMetrics\n",
    "    :param metric_name: The name of the metric, with or without spaces.\n",
    "\n",
    "    :type dimensions: List[dict]\n",
    "    :param dimensions: A dimension is a name/value pair that is part of the identity of a metric.\n",
    "\n",
    "    :type period: int\n",
    "    :param period: The granularity, in seconds, of the returned data points.\n",
    "\n",
    "    :type timeSince: int\n",
    "    :param timeSince: Starting from now, window (in seconds) for which you want to get the datapoints for.\n",
    "\n",
    "    :type statistics: StatisticsType\n",
    "    :param statistics: Cloudwatch metric statistics. Possible values: SampleCount, Average, Sum, Minimum, Maximum.\n",
    "\n",
    "    :type region: string\n",
    "    :param region: AWS Region of the cloudwatch.\n",
    "\n",
    "    :rtype: Shows ploted statistics.\n",
    "    \"\"\"\n",
    "    metric_name = metric_name.value if metric_name else None\n",
    "    statistics = statistics.value if statistics else None\n",
    "    cloudwatchClient = hdl.client(\"cloudwatch\", region_name=region)\n",
    "    # Gets metric data.\n",
    "    res = cloudwatchClient.get_metric_data(\n",
    "        MetricDataQueries=[\n",
    "            {\n",
    "                'Id': metric_name.lower(),\n",
    "                'MetricStat': {\n",
    "                    'Metric': {\n",
    "                        'Namespace': 'AWS/DynamoDB',\n",
    "                        'MetricName': metric_name,\n",
    "                        'Dimensions': dimensions\n",
    "                    },\n",
    "                    'Period': period,\n",
    "                    'Stat': statistics,\n",
    "                },\n",
    "            },\n",
    "        ],\n",
    "        StartTime=datetime.utcnow() - timedelta(seconds=timeSince),\n",
    "        EndTime=datetime.utcnow(),\n",
    "        ScanBy='TimestampAscending'\n",
    "    )\n",
    "\n",
    "    timestamps = []\n",
    "    values = []\n",
    "\n",
    "    for timestamp in res['MetricDataResults'][0]['Timestamps']:\n",
    "        timestamps.append(timestamp)\n",
    "    for value in res['MetricDataResults'][0]['Values']:\n",
    "        values.append(value)\n",
    "\n",
    "    timestamps.sort()\n",
    "    values.sort()\n",
    "\n",
    "    plt.plot_date(timestamps, values, \"-o\")\n",
    "\n",
    "    data = []\n",
    "    for dt, val in zip(res['MetricDataResults'][0]['Timestamps'], res['MetricDataResults'][0]['Values']):\n",
    "        data.append([dt.strftime('%Y-%m-%d::%H-%M'), val])\n",
    "    head = [\"Timestamp\", \"Value\"]\n",
    "    table = tabulate(data, headers=head, tablefmt=\"grid\")\n",
    "\n",
    "    return table\n",
    "\n",
    "\n",
    "task = Task(Workflow())\n",
    "task.configure(inputParamsJson='''{\n",
    "    \"dimensions\": \"[{\\\\\"Name\\\\\":\\\\\"TableName\\\\\",\\\\\"Value\\\\\":\\\\\"test\\\\\"}]\",\n",
    "    \"metric_name\": \"DynamoDBMetrics.PROVISIONEDREADCAPACITYUNITS\",\n",
    "    \"period\": \"Period\",\n",
    "    \"region\": \"Region\",\n",
    "    \"statistics\": \"StatisticsType.SAMPLE_COUNT\",\n",
    "    \"timeSince\": \"Time_Since\"\n",
    "    }''')\n",
    "(err, hdl, args) = task.validate(vars=vars())\n",
    "if err is None:\n",
    "    task.execute(aws_get_cloudwatch_metrics_dynamodb, lego_printer=aws_get_cloudwatch_metrics_dynamodb_printer, hdl=hdl, args=args)"
   ]
  },
  {
   "cell_type": "markdown",
   "id": "c5a24402-4e87-4c9f-bebd-d926f57d5415",
   "metadata": {
    "jupyter": {
     "source_hidden": false
    },
    "name": "Account Provisioned Read Capacity Units",
    "orderProperties": [],
    "tags": [],
    "title": "Account Provisioned Read Capacity Units"
   },
   "source": [
    "Here we will use unSkript Get AWS CloudWatch Metrics for AWS/DynamoDB Lego. This lego takes metric_name, dimensions, period, timeSince, statistics, region and period as input. This inputs is used to get cloudwatch metrics of DynamoDB for Account Provisioned Read Capacity Units."
   ]
  },
  {
   "cell_type": "code",
   "execution_count": 15,
   "id": "a9219574-6a0b-4563-a0ed-0dc0ea65e588",
   "metadata": {
    "accessType": "ACCESS_TYPE_UNSPECIFIED",
    "actionBashCommand": false,
    "actionNeedsCredential": true,
    "actionRequiredLinesInCode": [],
    "actionSupportsIteration": true,
    "actionSupportsPoll": true,
    "action_uuid": "5baddb8c2b083c19c73cec00f89256d9f79aac1c6ecaca3333864240201c85fd",
    "collapsed": true,
    "continueOnError": false,
    "createTime": "1970-01-01T00:00:00Z",
    "credentialsJson": {},
    "currentVersion": "0.1.0",
    "description": "Get AWS CloudWatch Metrics for AWS DynamoDB",
    "execution_data": {
     "last_date_success_run_cell": "2022-09-29T12:26:22.805Z"
    },
    "id": 157,
    "index": 157,
    "inputData": [
     {
      "dimensions": {
       "constant": false,
       "value": "[{\"Name\":\"TableName\",\"Value\":\"test\"}]"
      },
      "metric_name": {
       "constant": true,
       "value": "AccountProvisionedReadCapacityUtilization"
      },
      "period": {
       "constant": false,
       "value": "Period"
      },
      "region": {
       "constant": false,
       "value": "Region"
      },
      "statistics": {
       "constant": true,
       "value": "SampleCount"
      },
      "timeSince": {
       "constant": false,
       "value": "Time_Since"
      }
     }
    ],
    "inputschema": [
     {
      "definitions": {
       "DynamoDBMetrics": {
        "description": "An enumeration.",
        "enum": [
         "AccountMaxReads",
         "AccountMaxTableLevelReads",
         "AccountMaxTableLevelWrites",
         "AccountMaxWrites",
         "AccountProvisionedReadCapacityUtilization",
         "AccountProvisionedWriteCapacityUtilization",
         "AgeOfOldestUnreplicatedRecord",
         "ConditionalCheckFailedRequests",
         "ConsumedChangeDataCaptureUnits",
         "ConsumedReadCapacityUnits",
         "ConsumedWriteCapacityUnits",
         "FailedToReplicateRecordCount",
         "MaxProvisionedTableWriteCapacityUtilization",
         "OnlineIndexConsumedWriteCapacity",
         "OnlineIndexPercentageProgress",
         "OnlineIndexThrottleEvents",
         "PendingReplicationCount",
         "ProvisionedReadCapacityUnits",
         "ProvisionedWriteCapacityUnits",
         "ReadThrottleEvents",
         "ReplicationLatency",
         "ReturnedBytes",
         "ReturnedItemCount",
         "ReturnedRecordsCount",
         "SuccessfulRequestLatency",
         "SystemErrors",
         "TimeToLiveDeletedItemCount",
         "ThrottledPutRecordCount",
         "ThrottledRequests",
         "TransactionConflict",
         "UserErrors",
         "WriteThrottleEvents"
        ],
        "title": "DynamoDBMetrics"
       },
       "StatisticsType": {
        "description": "An enumeration.",
        "enum": [
         "SampleCount",
         "Average",
         "Sum",
         "Minimum",
         "Maximum",
         "Percentile"
        ],
        "title": "StatisticsType"
       }
      },
      "properties": {
       "dimensions": {
        "description": "A dimension is a name/value pair that is part of the identity of a metric.",
        "items": {
         "type": "object"
        },
        "title": "Dimensions",
        "type": "array"
       },
       "metric_name": {
        "allOf": [
         {
          "$ref": "#/definitions/DynamoDBMetrics"
         }
        ],
        "description": "The name of the metric, with or without spaces.",
        "title": "Metric Name"
       },
       "period": {
        "default": 60,
        "description": "The granularity, in seconds, of the returned data points.",
        "title": "Period",
        "type": "integer"
       },
       "region": {
        "description": "AWS Region of the cloudwatch.",
        "title": "Region",
        "type": "string"
       },
       "statistics": {
        "allOf": [
         {
          "$ref": "#/definitions/StatisticsType"
         }
        ],
        "description": "Cloudwatch metric statistics. Possible values: SampleCount, Average, Sum, Minimum, Maximum",
        "title": "Statistics"
       },
       "timeSince": {
        "description": "Starting from now, window (in seconds) for which you want to get the datapoints for.",
        "title": "Time Since",
        "type": "integer"
       }
      },
      "required": [
       "metric_name",
       "dimensions",
       "timeSince",
       "statistics",
       "region"
      ],
      "title": "aws_get_cloudwatch_metrics_dynamodb",
      "type": "object"
     }
    ],
    "jupyter": {
     "outputs_hidden": true,
     "source_hidden": true
    },
    "legotype": "LEGO_TYPE_AWS",
    "name": "Monitor ACCOUNT PROVISIONED READ CAPACITY UTILIZATION  for DynamoDB",
    "nouns": [
     "aws",
     "cloudwatch",
     "metrics",
     "dynamodb"
    ],
    "orderProperties": [
     "metric_name",
     "dimensions",
     "period",
     "timeSince",
     "statistics",
     "region"
    ],
    "output": {
     "type": ""
    },
    "tags": [
     "aws_get_cloudwatch_metrics_dynamodb"
    ],
    "title": "Monitor ACCOUNT PROVISIONED READ CAPACITY UTILIZATION  for DynamoDB",
    "trusted": true,
    "verbs": [
     "get"
    ]
   },
   "outputs": [],
   "source": [
    "##\n",
    "# Copyright (c) 2021 unSkript, Inc\n",
    "# All rights reserved.\n",
    "##\n",
    "\n",
    "import enum\n",
    "from pydantic import BaseModel, Field\n",
    "from typing import Optional, List\n",
    "from datetime import datetime, timedelta\n",
    "import matplotlib.pyplot as plt\n",
    "from tabulate import tabulate\n",
    "from unskript.legos.aws.aws_get_handle import Session\n",
    "from unskript.enums.aws_cloudwatch_enums import DynamoDBMetrics\n",
    "from unskript.enums.aws_k8s_enums import StatisticsType\n",
    "import pprint\n",
    "\n",
    "\n",
    "from beartype import beartype\n",
    "@beartype\n",
    "def aws_get_cloudwatch_metrics_dynamodb_printer(output):\n",
    "    if output is None:\n",
    "        return\n",
    "    plt.show()\n",
    "    pprint.pprint(output)\n",
    "\n",
    "\n",
    "@beartype\n",
    "def aws_get_cloudwatch_metrics_dynamodb(\n",
    "    hdl: Session,\n",
    "    metric_name: DynamoDBMetrics,\n",
    "    dimensions: List[dict],\n",
    "    timeSince: int,\n",
    "    statistics: StatisticsType,\n",
    "    region: str,\n",
    "    period: int = 60,\n",
    ") -> str:\n",
    "    \"\"\"aws_get_cloudwatch_metrics_dynamodb shows plotted AWS cloudwatch statistics for Dynamodb.\n",
    "\n",
    "    :type metric_name: DynamoDBMetrics\n",
    "    :param metric_name: The name of the metric, with or without spaces.\n",
    "\n",
    "    :type dimensions: List[dict]\n",
    "    :param dimensions: A dimension is a name/value pair that is part of the identity of a metric.\n",
    "\n",
    "    :type period: int\n",
    "    :param period: The granularity, in seconds, of the returned data points.\n",
    "\n",
    "    :type timeSince: int\n",
    "    :param timeSince: Starting from now, window (in seconds) for which you want to get the datapoints for.\n",
    "\n",
    "    :type statistics: StatisticsType\n",
    "    :param statistics: Cloudwatch metric statistics. Possible values: SampleCount, Average, Sum, Minimum, Maximum.\n",
    "\n",
    "    :type region: string\n",
    "    :param region: AWS Region of the cloudwatch.\n",
    "\n",
    "    :rtype: Shows ploted statistics.\n",
    "    \"\"\"\n",
    "    metric_name = metric_name.value if metric_name else None\n",
    "    statistics = statistics.value if statistics else None\n",
    "    cloudwatchClient = hdl.client(\"cloudwatch\", region_name=region)\n",
    "    # Gets metric data.\n",
    "    res = cloudwatchClient.get_metric_data(\n",
    "        MetricDataQueries=[\n",
    "            {\n",
    "                'Id': metric_name.lower(),\n",
    "                'MetricStat': {\n",
    "                    'Metric': {\n",
    "                        'Namespace': 'AWS/DynamoDB',\n",
    "                        'MetricName': metric_name,\n",
    "                        'Dimensions': dimensions\n",
    "                    },\n",
    "                    'Period': period,\n",
    "                    'Stat': statistics,\n",
    "                },\n",
    "            },\n",
    "        ],\n",
    "        StartTime=datetime.utcnow() - timedelta(seconds=timeSince),\n",
    "        EndTime=datetime.utcnow(),\n",
    "        ScanBy='TimestampAscending'\n",
    "    )\n",
    "\n",
    "    timestamps = []\n",
    "    values = []\n",
    "\n",
    "    for timestamp in res['MetricDataResults'][0]['Timestamps']:\n",
    "        timestamps.append(timestamp)\n",
    "    for value in res['MetricDataResults'][0]['Values']:\n",
    "        values.append(value)\n",
    "\n",
    "    timestamps.sort()\n",
    "    values.sort()\n",
    "\n",
    "    plt.plot_date(timestamps, values, \"-o\")\n",
    "\n",
    "    data = []\n",
    "    for dt, val in zip(res['MetricDataResults'][0]['Timestamps'], res['MetricDataResults'][0]['Values']):\n",
    "        data.append([dt.strftime('%Y-%m-%d::%H-%M'), val])\n",
    "    head = [\"Timestamp\", \"Value\"]\n",
    "    table = tabulate(data, headers=head, tablefmt=\"grid\")\n",
    "\n",
    "    return table\n",
    "\n",
    "\n",
    "task = Task(Workflow())\n",
    "task.configure(inputParamsJson='''{\n",
    "    \"dimensions\": \"[{\\\\\"Name\\\\\":\\\\\"TableName\\\\\",\\\\\"Value\\\\\":\\\\\"test\\\\\"}]\",\n",
    "    \"metric_name\": \"DynamoDBMetrics.ACCOUNTPROVISIONEDREADCAPACITYUTILIZATION\",\n",
    "    \"period\": \"Period\",\n",
    "    \"region\": \"Region\",\n",
    "    \"statistics\": \"StatisticsType.SAMPLE_COUNT\",\n",
    "    \"timeSince\": \"Time_Since\"\n",
    "    }''')\n",
    "\n",
    "(err, hdl, args) = task.validate(vars=vars())\n",
    "if err is None:\n",
    "    task.execute(aws_get_cloudwatch_metrics_dynamodb, lego_printer=aws_get_cloudwatch_metrics_dynamodb_printer, hdl=hdl, args=args)"
   ]
  },
  {
   "cell_type": "markdown",
   "id": "5313405e-6e04-4cde-8cfc-d902cb932cd9",
   "metadata": {
    "jupyter": {
     "source_hidden": false
    },
    "name": "Account Provisioned Write Capacity Utilization",
    "orderProperties": [],
    "tags": [],
    "title": "Account Provisioned Write Capacity Utilization"
   },
   "source": [
    "Here we will use unSkript Get AWS CloudWatch Metrics for AWS/DynamoDB Lego. This lego takes metric_name, dimensions, period, timeSince, statistics, region and period as input. This inputs is used to get cloudwatch metrics of DynamoDB for Account Provisioned Write Capacity Utilization."
   ]
  },
  {
   "cell_type": "code",
   "execution_count": 25,
   "id": "a99bfd3e-b179-4df2-97e4-bf0410f920f6",
   "metadata": {
    "accessType": "ACCESS_TYPE_UNSPECIFIED",
    "actionBashCommand": false,
    "actionNeedsCredential": true,
    "actionRequiredLinesInCode": [],
    "actionSupportsIteration": true,
    "actionSupportsPoll": true,
    "action_uuid": "5baddb8c2b083c19c73cec00f89256d9f79aac1c6ecaca3333864240201c85fd",
    "continueOnError": false,
    "createTime": "1970-01-01T00:00:00Z",
    "credentialsJson": {},
    "currentVersion": "0.1.0",
    "description": "Get AWS CloudWatch Metrics for AWS DynamoDB",
    "execution_data": {
     "last_date_success_run_cell": "2022-08-18T11:36:20.135Z"
    },
    "id": 157,
    "index": 157,
    "inputData": [
     {
      "dimensions": {
       "constant": false,
       "value": "[{\"Name\":\"TableName\",\"Value\":\"test\"}]"
      },
      "metric_name": {
       "constant": true,
       "value": "AccountProvisionedWriteCapacityUtilization"
      },
      "period": {
       "constant": false,
       "value": "Period"
      },
      "region": {
       "constant": false,
       "value": "Region"
      },
      "statistics": {
       "constant": true,
       "value": "SampleCount"
      },
      "timeSince": {
       "constant": false,
       "value": "Time_Since"
      }
     }
    ],
    "inputschema": [
     {
      "definitions": {
       "DynamoDBMetrics": {
        "description": "An enumeration.",
        "enum": [
         "AccountMaxReads",
         "AccountMaxTableLevelReads",
         "AccountMaxTableLevelWrites",
         "AccountMaxWrites",
         "AccountProvisionedReadCapacityUtilization",
         "AccountProvisionedWriteCapacityUtilization",
         "AgeOfOldestUnreplicatedRecord",
         "ConditionalCheckFailedRequests",
         "ConsumedChangeDataCaptureUnits",
         "ConsumedReadCapacityUnits",
         "ConsumedWriteCapacityUnits",
         "FailedToReplicateRecordCount",
         "MaxProvisionedTableWriteCapacityUtilization",
         "OnlineIndexConsumedWriteCapacity",
         "OnlineIndexPercentageProgress",
         "OnlineIndexThrottleEvents",
         "PendingReplicationCount",
         "ProvisionedReadCapacityUnits",
         "ProvisionedWriteCapacityUnits",
         "ReadThrottleEvents",
         "ReplicationLatency",
         "ReturnedBytes",
         "ReturnedItemCount",
         "ReturnedRecordsCount",
         "SuccessfulRequestLatency",
         "SystemErrors",
         "TimeToLiveDeletedItemCount",
         "ThrottledPutRecordCount",
         "ThrottledRequests",
         "TransactionConflict",
         "UserErrors",
         "WriteThrottleEvents"
        ],
        "title": "DynamoDBMetrics"
       },
       "StatisticsType": {
        "description": "An enumeration.",
        "enum": [
         "SampleCount",
         "Average",
         "Sum",
         "Minimum",
         "Maximum",
         "Percentile"
        ],
        "title": "StatisticsType"
       }
      },
      "properties": {
       "dimensions": {
        "description": "A dimension is a name/value pair that is part of the identity of a metric.",
        "items": {
         "type": "object"
        },
        "title": "Dimensions",
        "type": "array"
       },
       "metric_name": {
        "allOf": [
         {
          "$ref": "#/definitions/DynamoDBMetrics"
         }
        ],
        "description": "The name of the metric, with or without spaces.",
        "title": "Metric Name"
       },
       "period": {
        "default": 60,
        "description": "The granularity, in seconds, of the returned data points.",
        "title": "Period",
        "type": "integer"
       },
       "region": {
        "description": "AWS Region of the cloudwatch.",
        "title": "Region",
        "type": "string"
       },
       "statistics": {
        "allOf": [
         {
          "$ref": "#/definitions/StatisticsType"
         }
        ],
        "description": "Cloudwatch metric statistics. Possible values: SampleCount, Average, Sum, Minimum, Maximum",
        "title": "Statistics"
       },
       "timeSince": {
        "description": "Starting from now, window (in seconds) for which you want to get the datapoints for.",
        "title": "Time Since",
        "type": "integer"
       }
      },
      "required": [
       "metric_name",
       "dimensions",
       "timeSince",
       "statistics",
       "region"
      ],
      "title": "aws_get_cloudwatch_metrics_dynamodb",
      "type": "object"
     }
    ],
    "jupyter": {
     "source_hidden": true
    },
    "legotype": "LEGO_TYPE_AWS",
    "name": "Monitor ACCOUNT PROVISIONED WRITE CAPACITY UTILIZATION  for DynamoDB",
    "nouns": [
     "aws",
     "cloudwatch",
     "metrics",
     "dynamodb"
    ],
    "orderProperties": [
     "metric_name",
     "dimensions",
     "period",
     "timeSince",
     "statistics",
     "region"
    ],
    "output": {
     "type": ""
    },
    "tags": [
     "aws_get_cloudwatch_metrics_dynamodb"
    ],
    "title": "Monitor ACCOUNT PROVISIONED WRITE CAPACITY UTILIZATION  for DynamoDB",
    "verbs": [
     "get"
    ]
   },
   "outputs": [],
   "source": [
    "##\n",
    "# Copyright (c) 2021 unSkript, Inc\n",
    "# All rights reserved.\n",
    "##\n",
    "\n",
    "import enum\n",
    "from pydantic import BaseModel, Field\n",
    "from typing import Optional, List\n",
    "from datetime import datetime, timedelta\n",
    "import matplotlib.pyplot as plt\n",
    "from tabulate import tabulate\n",
    "from unskript.legos.aws.aws_get_handle import Session\n",
    "from unskript.enums.aws_cloudwatch_enums import DynamoDBMetrics\n",
    "from unskript.enums.aws_k8s_enums import StatisticsType\n",
    "import pprint\n",
    "\n",
    "\n",
    "from beartype import beartype\n",
    "@beartype\n",
    "def aws_get_cloudwatch_metrics_dynamodb_printer(output):\n",
    "    if output is None:\n",
    "        return\n",
    "    plt.show()\n",
    "    pprint.pprint(output)\n",
    "\n",
    "\n",
    "@beartype\n",
    "def aws_get_cloudwatch_metrics_dynamodb(\n",
    "    hdl: Session,\n",
    "    metric_name: DynamoDBMetrics,\n",
    "    dimensions: List[dict],\n",
    "    timeSince: int,\n",
    "    statistics: StatisticsType,\n",
    "    region: str,\n",
    "    period: int = 60,\n",
    ") -> str:\n",
    "    \"\"\"aws_get_cloudwatch_metrics_dynamodb shows plotted AWS cloudwatch statistics for Dynamodb.\n",
    "\n",
    "    :type metric_name: DynamoDBMetrics\n",
    "    :param metric_name: The name of the metric, with or without spaces.\n",
    "\n",
    "    :type dimensions: List[dict]\n",
    "    :param dimensions: A dimension is a name/value pair that is part of the identity of a metric.\n",
    "\n",
    "    :type period: int\n",
    "    :param period: The granularity, in seconds, of the returned data points.\n",
    "\n",
    "    :type timeSince: int\n",
    "    :param timeSince: Starting from now, window (in seconds) for which you want to get the datapoints for.\n",
    "\n",
    "    :type statistics: StatisticsType\n",
    "    :param statistics: Cloudwatch metric statistics. Possible values: SampleCount, Average, Sum, Minimum, Maximum.\n",
    "\n",
    "    :type region: string\n",
    "    :param region: AWS Region of the cloudwatch.\n",
    "\n",
    "    :rtype: Shows ploted statistics.\n",
    "    \"\"\"\n",
    "    metric_name = metric_name.value if metric_name else None\n",
    "    statistics = statistics.value if statistics else None\n",
    "    cloudwatchClient = hdl.client(\"cloudwatch\", region_name=region)\n",
    "    # Gets metric data.\n",
    "    res = cloudwatchClient.get_metric_data(\n",
    "        MetricDataQueries=[\n",
    "            {\n",
    "                'Id': metric_name.lower(),\n",
    "                'MetricStat': {\n",
    "                    'Metric': {\n",
    "                        'Namespace': 'AWS/DynamoDB',\n",
    "                        'MetricName': metric_name,\n",
    "                        'Dimensions': dimensions\n",
    "                    },\n",
    "                    'Period': period,\n",
    "                    'Stat': statistics,\n",
    "                },\n",
    "            },\n",
    "        ],\n",
    "        StartTime=datetime.utcnow() - timedelta(seconds=timeSince),\n",
    "        EndTime=datetime.utcnow(),\n",
    "        ScanBy='TimestampAscending'\n",
    "    )\n",
    "\n",
    "    timestamps = []\n",
    "    values = []\n",
    "\n",
    "    for timestamp in res['MetricDataResults'][0]['Timestamps']:\n",
    "        timestamps.append(timestamp)\n",
    "    for value in res['MetricDataResults'][0]['Values']:\n",
    "        values.append(value)\n",
    "\n",
    "    timestamps.sort()\n",
    "    values.sort()\n",
    "\n",
    "    plt.plot_date(timestamps, values, \"-o\")\n",
    "\n",
    "    data = []\n",
    "    for dt, val in zip(res['MetricDataResults'][0]['Timestamps'], res['MetricDataResults'][0]['Values']):\n",
    "        data.append([dt.strftime('%Y-%m-%d::%H-%M'), val])\n",
    "    head = [\"Timestamp\", \"Value\"]\n",
    "    table = tabulate(data, headers=head, tablefmt=\"grid\")\n",
    "\n",
    "    return table\n",
    "\n",
    "\n",
    "task = Task(Workflow())\n",
    "task.configure(inputParamsJson='''{\n",
    "    \"dimensions\": \"[{\\\\\"Name\\\\\":\\\\\"TableName\\\\\",\\\\\"Value\\\\\":\\\\\"test\\\\\"}]\",\n",
    "    \"metric_name\": \"DynamoDBMetrics.ACCOUNTPROVISIONEDWRITECAPACITYUTILIZATION\",\n",
    "    \"period\": \"Period\",\n",
    "    \"region\": \"Region\",\n",
    "    \"statistics\": \"StatisticsType.SAMPLE_COUNT\",\n",
    "    \"timeSince\": \"Time_Since\"\n",
    "    }''')\n",
    "(err, hdl, args) = task.validate(vars=vars())\n",
    "if err is None:\n",
    "    task.execute(aws_get_cloudwatch_metrics_dynamodb, lego_printer=aws_get_cloudwatch_metrics_dynamodb_printer, hdl=hdl, args=args)"
   ]
  },
  {
   "cell_type": "markdown",
   "id": "6790d98a-6039-4eb3-8360-5be866013461",
   "metadata": {
    "jupyter": {
     "source_hidden": false
    },
    "name": "Max Provisioned Table Write Capacity Utilization",
    "orderProperties": [],
    "tags": [],
    "title": "Max Provisioned Table Write Capacity Utilization"
   },
   "source": [
    "Here we will use unSkript Get AWS CloudWatch Metrics for AWS/DynamoDB Lego. This lego takes metric_name, dimensions, period, timeSince, statistics, region and period as input. This inputs is used to get cloudwatch metrics of DynamoDB for Max Provisioned Table Write Capacity Utilization."
   ]
  },
  {
   "cell_type": "code",
   "execution_count": 26,
   "id": "e42453c3-b288-4c7a-8722-0237dc783cf4",
   "metadata": {
    "accessType": "ACCESS_TYPE_UNSPECIFIED",
    "actionBashCommand": false,
    "actionNeedsCredential": true,
    "actionRequiredLinesInCode": [],
    "actionSupportsIteration": true,
    "actionSupportsPoll": true,
    "action_uuid": "5baddb8c2b083c19c73cec00f89256d9f79aac1c6ecaca3333864240201c85fd",
    "continueOnError": false,
    "createTime": "1970-01-01T00:00:00Z",
    "credentialsJson": {},
    "currentVersion": "0.1.0",
    "description": "Get AWS CloudWatch Metrics for AWS DynamoDB",
    "execution_data": {
     "last_date_success_run_cell": "2022-08-18T11:53:22.625Z"
    },
    "id": 157,
    "index": 157,
    "inputData": [
     {
      "dimensions": {
       "constant": false,
       "value": "[{\"Name\":\"TableName\",\"Value\":\"test\"}]"
      },
      "metric_name": {
       "constant": true,
       "value": "MaxProvisionedTableWriteCapacityUtilization"
      },
      "period": {
       "constant": false,
       "value": "Period"
      },
      "region": {
       "constant": false,
       "value": "Region"
      },
      "statistics": {
       "constant": true,
       "value": "SampleCount"
      },
      "timeSince": {
       "constant": false,
       "value": "Time_Since"
      }
     }
    ],
    "inputschema": [
     {
      "definitions": {
       "DynamoDBMetrics": {
        "description": "An enumeration.",
        "enum": [
         "AccountMaxReads",
         "AccountMaxTableLevelReads",
         "AccountMaxTableLevelWrites",
         "AccountMaxWrites",
         "AccountProvisionedReadCapacityUtilization",
         "AccountProvisionedWriteCapacityUtilization",
         "AgeOfOldestUnreplicatedRecord",
         "ConditionalCheckFailedRequests",
         "ConsumedChangeDataCaptureUnits",
         "ConsumedReadCapacityUnits",
         "ConsumedWriteCapacityUnits",
         "FailedToReplicateRecordCount",
         "MaxProvisionedTableWriteCapacityUtilization",
         "OnlineIndexConsumedWriteCapacity",
         "OnlineIndexPercentageProgress",
         "OnlineIndexThrottleEvents",
         "PendingReplicationCount",
         "ProvisionedReadCapacityUnits",
         "ProvisionedWriteCapacityUnits",
         "ReadThrottleEvents",
         "ReplicationLatency",
         "ReturnedBytes",
         "ReturnedItemCount",
         "ReturnedRecordsCount",
         "SuccessfulRequestLatency",
         "SystemErrors",
         "TimeToLiveDeletedItemCount",
         "ThrottledPutRecordCount",
         "ThrottledRequests",
         "TransactionConflict",
         "UserErrors",
         "WriteThrottleEvents"
        ],
        "title": "DynamoDBMetrics"
       },
       "StatisticsType": {
        "description": "An enumeration.",
        "enum": [
         "SampleCount",
         "Average",
         "Sum",
         "Minimum",
         "Maximum",
         "Percentile"
        ],
        "title": "StatisticsType"
       }
      },
      "properties": {
       "dimensions": {
        "description": "A dimension is a name/value pair that is part of the identity of a metric.",
        "items": {
         "type": "object"
        },
        "title": "Dimensions",
        "type": "array"
       },
       "metric_name": {
        "allOf": [
         {
          "$ref": "#/definitions/DynamoDBMetrics"
         }
        ],
        "description": "The name of the metric, with or without spaces.",
        "title": "Metric Name"
       },
       "period": {
        "default": 60,
        "description": "The granularity, in seconds, of the returned data points.",
        "title": "Period",
        "type": "integer"
       },
       "region": {
        "description": "AWS Region of the cloudwatch.",
        "title": "Region",
        "type": "string"
       },
       "statistics": {
        "allOf": [
         {
          "$ref": "#/definitions/StatisticsType"
         }
        ],
        "description": "Cloudwatch metric statistics. Possible values: SampleCount, Average, Sum, Minimum, Maximum",
        "title": "Statistics"
       },
       "timeSince": {
        "description": "Starting from now, window (in seconds) for which you want to get the datapoints for.",
        "title": "Time Since",
        "type": "integer"
       }
      },
      "required": [
       "metric_name",
       "dimensions",
       "timeSince",
       "statistics",
       "region"
      ],
      "title": "aws_get_cloudwatch_metrics_dynamodb",
      "type": "object"
     }
    ],
    "jupyter": {
     "source_hidden": true
    },
    "legotype": "LEGO_TYPE_AWS",
    "name": "Monitor MAX PROVISIONED TABLE WRITE CAPACITY UTILIZATION  for DynamoDB",
    "nouns": [
     "aws",
     "cloudwatch",
     "metrics",
     "dynamodb"
    ],
    "orderProperties": [
     "metric_name",
     "dimensions",
     "period",
     "timeSince",
     "statistics",
     "region"
    ],
    "output": {
     "type": ""
    },
    "tags": [
     "aws_get_cloudwatch_metrics_dynamodb"
    ],
    "title": "Monitor MAX PROVISIONED TABLE WRITE CAPACITY UTILIZATION  for DynamoDB",
    "verbs": [
     "get"
    ]
   },
   "outputs": [],
   "source": [
    "##\n",
    "# Copyright (c) 2021 unSkript, Inc\n",
    "# All rights reserved.\n",
    "##\n",
    "\n",
    "import enum\n",
    "from pydantic import BaseModel, Field\n",
    "from typing import Optional, List\n",
    "from datetime import datetime, timedelta\n",
    "import matplotlib.pyplot as plt\n",
    "from tabulate import tabulate\n",
    "from unskript.legos.aws.aws_get_handle import Session\n",
    "from unskript.enums.aws_cloudwatch_enums import DynamoDBMetrics\n",
    "from unskript.enums.aws_k8s_enums import StatisticsType\n",
    "import pprint\n",
    "\n",
    "\n",
    "from beartype import beartype\n",
    "@beartype\n",
    "def aws_get_cloudwatch_metrics_dynamodb_printer(output):\n",
    "    if output is None:\n",
    "        return\n",
    "    plt.show()\n",
    "    pprint.pprint(output)\n",
    "\n",
    "\n",
    "@beartype\n",
    "def aws_get_cloudwatch_metrics_dynamodb(\n",
    "    hdl: Session,\n",
    "    metric_name: DynamoDBMetrics,\n",
    "    dimensions: List[dict],\n",
    "    timeSince: int,\n",
    "    statistics: StatisticsType,\n",
    "    region: str,\n",
    "    period: int = 60,\n",
    ") -> str:\n",
    "    \"\"\"aws_get_cloudwatch_metrics_dynamodb shows plotted AWS cloudwatch statistics for Dynamodb.\n",
    "\n",
    "    :type metric_name: DynamoDBMetrics\n",
    "    :param metric_name: The name of the metric, with or without spaces.\n",
    "\n",
    "    :type dimensions: List[dict]\n",
    "    :param dimensions: A dimension is a name/value pair that is part of the identity of a metric.\n",
    "\n",
    "    :type period: int\n",
    "    :param period: The granularity, in seconds, of the returned data points.\n",
    "\n",
    "    :type timeSince: int\n",
    "    :param timeSince: Starting from now, window (in seconds) for which you want to get the datapoints for.\n",
    "\n",
    "    :type statistics: StatisticsType\n",
    "    :param statistics: Cloudwatch metric statistics. Possible values: SampleCount, Average, Sum, Minimum, Maximum.\n",
    "\n",
    "    :type region: string\n",
    "    :param region: AWS Region of the cloudwatch.\n",
    "\n",
    "    :rtype: Shows ploted statistics.\n",
    "    \"\"\"\n",
    "    metric_name = metric_name.value if metric_name else None\n",
    "    statistics = statistics.value if statistics else None\n",
    "    cloudwatchClient = hdl.client(\"cloudwatch\", region_name=region)\n",
    "    # Gets metric data.\n",
    "    res = cloudwatchClient.get_metric_data(\n",
    "        MetricDataQueries=[\n",
    "            {\n",
    "                'Id': metric_name.lower(),\n",
    "                'MetricStat': {\n",
    "                    'Metric': {\n",
    "                        'Namespace': 'AWS/DynamoDB',\n",
    "                        'MetricName': metric_name,\n",
    "                        'Dimensions': dimensions\n",
    "                    },\n",
    "                    'Period': period,\n",
    "                    'Stat': statistics,\n",
    "                },\n",
    "            },\n",
    "        ],\n",
    "        StartTime=datetime.utcnow() - timedelta(seconds=timeSince),\n",
    "        EndTime=datetime.utcnow(),\n",
    "        ScanBy='TimestampAscending'\n",
    "    )\n",
    "\n",
    "    timestamps = []\n",
    "    values = []\n",
    "\n",
    "    for timestamp in res['MetricDataResults'][0]['Timestamps']:\n",
    "        timestamps.append(timestamp)\n",
    "    for value in res['MetricDataResults'][0]['Values']:\n",
    "        values.append(value)\n",
    "\n",
    "    timestamps.sort()\n",
    "    values.sort()\n",
    "\n",
    "    plt.plot_date(timestamps, values, \"-o\")\n",
    "\n",
    "    data = []\n",
    "    for dt, val in zip(res['MetricDataResults'][0]['Timestamps'], res['MetricDataResults'][0]['Values']):\n",
    "        data.append([dt.strftime('%Y-%m-%d::%H-%M'), val])\n",
    "    head = [\"Timestamp\", \"Value\"]\n",
    "    table = tabulate(data, headers=head, tablefmt=\"grid\")\n",
    "\n",
    "    return table\n",
    "\n",
    "\n",
    "task = Task(Workflow())\n",
    "task.configure(inputParamsJson='''{\n",
    "    \"dimensions\": \"[{\\\\\"Name\\\\\":\\\\\"TableName\\\\\",\\\\\"Value\\\\\":\\\\\"test\\\\\"}]\",\n",
    "    \"metric_name\": \"DynamoDBMetrics.MAXPROVISIONEDTABLEWRITECAPACITYUTILIZATION\",\n",
    "    \"period\": \"Period\",\n",
    "    \"region\": \"Region\",\n",
    "    \"statistics\": \"StatisticsType.SAMPLE_COUNT\",\n",
    "    \"timeSince\": \"Time_Since\"\n",
    "    }''')\n",
    "\n",
    "(err, hdl, args) = task.validate(vars=vars())\n",
    "if err is None:\n",
    "    task.execute(aws_get_cloudwatch_metrics_dynamodb, lego_printer=aws_get_cloudwatch_metrics_dynamodb_printer, hdl=hdl, args=args)"
   ]
  },
  {
   "cell_type": "markdown",
   "id": "f493f8af-147b-42b8-8b17-7c54e9063968",
   "metadata": {
    "jupyter": {
     "source_hidden": false
    },
    "name": "Provisioned Write Capacity Units",
    "orderProperties": [],
    "tags": [],
    "title": "Provisioned Write Capacity Units"
   },
   "source": [
    "Here we will use unSkript Get AWS CloudWatch Metrics for AWS/DynamoDB Lego. This lego takes metric_name, dimensions, period, timeSince, statistics, region and period as input. This inputs is used to get cloudwatch metrics of DynamoDB for Provisioned Write Capacity Units."
   ]
  },
  {
   "cell_type": "code",
   "execution_count": 27,
   "id": "fdd1519a-ccc1-4933-96c1-09ebd8230863",
   "metadata": {
    "accessType": "ACCESS_TYPE_UNSPECIFIED",
    "actionBashCommand": false,
    "actionNeedsCredential": true,
    "actionRequiredLinesInCode": [],
    "actionSupportsIteration": true,
    "actionSupportsPoll": true,
    "action_uuid": "5baddb8c2b083c19c73cec00f89256d9f79aac1c6ecaca3333864240201c85fd",
    "continueOnError": false,
    "createTime": "1970-01-01T00:00:00Z",
    "credentialsJson": {},
    "currentVersion": "0.1.0",
    "description": "Get AWS CloudWatch Metrics for AWS DynamoDB",
    "execution_data": {
     "last_date_success_run_cell": "2022-08-18T11:55:46.643Z"
    },
    "id": 157,
    "index": 157,
    "inputData": [
     {
      "dimensions": {
       "constant": false,
       "value": "[{\"Name\":\"TableName\",\"Value\":\"test\"}]"
      },
      "metric_name": {
       "constant": true,
       "value": "ProvisionedWriteCapacityUnits"
      },
      "period": {
       "constant": false,
       "value": "Period"
      },
      "region": {
       "constant": false,
       "value": "Region"
      },
      "statistics": {
       "constant": true,
       "value": "SampleCount"
      },
      "timeSince": {
       "constant": false,
       "value": "Time_Since"
      }
     }
    ],
    "inputschema": [
     {
      "definitions": {
       "DynamoDBMetrics": {
        "description": "An enumeration.",
        "enum": [
         "AccountMaxReads",
         "AccountMaxTableLevelReads",
         "AccountMaxTableLevelWrites",
         "AccountMaxWrites",
         "AccountProvisionedReadCapacityUtilization",
         "AccountProvisionedWriteCapacityUtilization",
         "AgeOfOldestUnreplicatedRecord",
         "ConditionalCheckFailedRequests",
         "ConsumedChangeDataCaptureUnits",
         "ConsumedReadCapacityUnits",
         "ConsumedWriteCapacityUnits",
         "FailedToReplicateRecordCount",
         "MaxProvisionedTableWriteCapacityUtilization",
         "OnlineIndexConsumedWriteCapacity",
         "OnlineIndexPercentageProgress",
         "OnlineIndexThrottleEvents",
         "PendingReplicationCount",
         "ProvisionedReadCapacityUnits",
         "ProvisionedWriteCapacityUnits",
         "ReadThrottleEvents",
         "ReplicationLatency",
         "ReturnedBytes",
         "ReturnedItemCount",
         "ReturnedRecordsCount",
         "SuccessfulRequestLatency",
         "SystemErrors",
         "TimeToLiveDeletedItemCount",
         "ThrottledPutRecordCount",
         "ThrottledRequests",
         "TransactionConflict",
         "UserErrors",
         "WriteThrottleEvents"
        ],
        "title": "DynamoDBMetrics"
       },
       "StatisticsType": {
        "description": "An enumeration.",
        "enum": [
         "SampleCount",
         "Average",
         "Sum",
         "Minimum",
         "Maximum",
         "Percentile"
        ],
        "title": "StatisticsType"
       }
      },
      "properties": {
       "dimensions": {
        "description": "A dimension is a name/value pair that is part of the identity of a metric.",
        "items": {
         "type": "object"
        },
        "title": "Dimensions",
        "type": "array"
       },
       "metric_name": {
        "allOf": [
         {
          "$ref": "#/definitions/DynamoDBMetrics"
         }
        ],
        "description": "The name of the metric, with or without spaces.",
        "title": "Metric Name"
       },
       "period": {
        "default": 60,
        "description": "The granularity, in seconds, of the returned data points.",
        "title": "Period",
        "type": "integer"
       },
       "region": {
        "description": "AWS Region of the cloudwatch.",
        "title": "Region",
        "type": "string"
       },
       "statistics": {
        "allOf": [
         {
          "$ref": "#/definitions/StatisticsType"
         }
        ],
        "description": "Cloudwatch metric statistics. Possible values: SampleCount, Average, Sum, Minimum, Maximum",
        "title": "Statistics"
       },
       "timeSince": {
        "description": "Starting from now, window (in seconds) for which you want to get the datapoints for.",
        "title": "Time Since",
        "type": "integer"
       }
      },
      "required": [
       "metric_name",
       "dimensions",
       "timeSince",
       "statistics",
       "region"
      ],
      "title": "aws_get_cloudwatch_metrics_dynamodb",
      "type": "object"
     }
    ],
    "jupyter": {
     "source_hidden": true
    },
    "legotype": "LEGO_TYPE_AWS",
    "name": "Monitor PROVISIONED WRITE CAPACITY UNITS  for DynamoDB",
    "nouns": [
     "aws",
     "cloudwatch",
     "metrics",
     "dynamodb"
    ],
    "orderProperties": [
     "metric_name",
     "dimensions",
     "period",
     "timeSince",
     "statistics",
     "region"
    ],
    "output": {
     "type": ""
    },
    "tags": [
     "aws_get_cloudwatch_metrics_dynamodb"
    ],
    "title": "Monitor PROVISIONED WRITE CAPACITY UNITS  for DynamoDB",
    "verbs": [
     "get"
    ]
   },
   "outputs": [],
   "source": [
    "##\n",
    "# Copyright (c) 2021 unSkript, Inc\n",
    "# All rights reserved.\n",
    "##\n",
    "\n",
    "import enum\n",
    "from pydantic import BaseModel, Field\n",
    "from typing import Optional, List\n",
    "from datetime import datetime, timedelta\n",
    "import matplotlib.pyplot as plt\n",
    "from tabulate import tabulate\n",
    "from unskript.legos.aws.aws_get_handle import Session\n",
    "from unskript.enums.aws_cloudwatch_enums import DynamoDBMetrics\n",
    "from unskript.enums.aws_k8s_enums import StatisticsType\n",
    "import pprint\n",
    "\n",
    "\n",
    "from beartype import beartype\n",
    "@beartype\n",
    "def aws_get_cloudwatch_metrics_dynamodb_printer(output):\n",
    "    if output is None:\n",
    "        return\n",
    "    plt.show()\n",
    "    pprint.pprint(output)\n",
    "\n",
    "\n",
    "@beartype\n",
    "def aws_get_cloudwatch_metrics_dynamodb(\n",
    "    hdl: Session,\n",
    "    metric_name: DynamoDBMetrics,\n",
    "    dimensions: List[dict],\n",
    "    timeSince: int,\n",
    "    statistics: StatisticsType,\n",
    "    region: str,\n",
    "    period: int = 60,\n",
    ") -> str:\n",
    "    \"\"\"aws_get_cloudwatch_metrics_dynamodb shows plotted AWS cloudwatch statistics for Dynamodb.\n",
    "\n",
    "    :type metric_name: DynamoDBMetrics\n",
    "    :param metric_name: The name of the metric, with or without spaces.\n",
    "\n",
    "    :type dimensions: List[dict]\n",
    "    :param dimensions: A dimension is a name/value pair that is part of the identity of a metric.\n",
    "\n",
    "    :type period: int\n",
    "    :param period: The granularity, in seconds, of the returned data points.\n",
    "\n",
    "    :type timeSince: int\n",
    "    :param timeSince: Starting from now, window (in seconds) for which you want to get the datapoints for.\n",
    "\n",
    "    :type statistics: StatisticsType\n",
    "    :param statistics: Cloudwatch metric statistics. Possible values: SampleCount, Average, Sum, Minimum, Maximum.\n",
    "\n",
    "    :type region: string\n",
    "    :param region: AWS Region of the cloudwatch.\n",
    "\n",
    "    :rtype: Shows ploted statistics.\n",
    "    \"\"\"\n",
    "    metric_name = metric_name.value if metric_name else None\n",
    "    statistics = statistics.value if statistics else None\n",
    "    cloudwatchClient = hdl.client(\"cloudwatch\", region_name=region)\n",
    "    # Gets metric data.\n",
    "    res = cloudwatchClient.get_metric_data(\n",
    "        MetricDataQueries=[\n",
    "            {\n",
    "                'Id': metric_name.lower(),\n",
    "                'MetricStat': {\n",
    "                    'Metric': {\n",
    "                        'Namespace': 'AWS/DynamoDB',\n",
    "                        'MetricName': metric_name,\n",
    "                        'Dimensions': dimensions\n",
    "                    },\n",
    "                    'Period': period,\n",
    "                    'Stat': statistics,\n",
    "                },\n",
    "            },\n",
    "        ],\n",
    "        StartTime=datetime.utcnow() - timedelta(seconds=timeSince),\n",
    "        EndTime=datetime.utcnow(),\n",
    "        ScanBy='TimestampAscending'\n",
    "    )\n",
    "\n",
    "    timestamps = []\n",
    "    values = []\n",
    "\n",
    "    for timestamp in res['MetricDataResults'][0]['Timestamps']:\n",
    "        timestamps.append(timestamp)\n",
    "    for value in res['MetricDataResults'][0]['Values']:\n",
    "        values.append(value)\n",
    "\n",
    "    timestamps.sort()\n",
    "    values.sort()\n",
    "\n",
    "    plt.plot_date(timestamps, values, \"-o\")\n",
    "\n",
    "    data = []\n",
    "    for dt, val in zip(res['MetricDataResults'][0]['Timestamps'], res['MetricDataResults'][0]['Values']):\n",
    "        data.append([dt.strftime('%Y-%m-%d::%H-%M'), val])\n",
    "    head = [\"Timestamp\", \"Value\"]\n",
    "    table = tabulate(data, headers=head, tablefmt=\"grid\")\n",
    "\n",
    "    return table\n",
    "\n",
    "\n",
    "task = Task(Workflow())\n",
    "task.configure(inputParamsJson='''{\n",
    "    \"dimensions\": \"[{\\\\\"Name\\\\\":\\\\\"TableName\\\\\",\\\\\"Value\\\\\":\\\\\"test\\\\\"}]\",\n",
    "    \"metric_name\": \"DynamoDBMetrics.PROVISIONEDWRITECAPACITYUNITS\",\n",
    "    \"period\": \"Period\",\n",
    "    \"region\": \"Region\",\n",
    "    \"statistics\": \"StatisticsType.SAMPLE_COUNT\",\n",
    "    \"timeSince\": \"Time_Since\"\n",
    "    }''')\n",
    "\n",
    "(err, hdl, args) = task.validate(vars=vars())\n",
    "if err is None:\n",
    "    task.execute(aws_get_cloudwatch_metrics_dynamodb, lego_printer=aws_get_cloudwatch_metrics_dynamodb_printer, hdl=hdl, args=args)"
   ]
  },
  {
   "cell_type": "markdown",
   "id": "a9ff1794-1d3c-40e6-9070-ee2dcc9054d0",
   "metadata": {
    "jupyter": {
     "source_hidden": false
    },
    "name": "Conclusion",
    "orderProperties": [],
    "tags": [],
    "title": "Conclusion"
   },
   "source": [
    "In this Runbook, we demonstrated the use of unSkript's AWS legos to perform AWS action and this runbook Collecting the data metrics from cloudwatch related to DynamoDB for provision capacity. To view the full platform capabilities of unSkript please visit https://unskript.com"
   ]
  }
 ],
 "metadata": {
  "execution_data": {
   "runbook_name": "Monitor AWS DynamoDB provision capacity",
   "parameters": [
    "Period",
    "Region",
    "Time_Since"
   ]
  },
  "kernelspec": {
   "display_name": "Python 3.9.6 64-bit",
   "language": "python",
   "name": "python3"
  },
  "language_info": {
   "file_extension": ".py",
   "mimetype": "text/x-python",
   "name": "python",
   "pygments_lexer": "ipython3",
   "version": "3.9.6"
  },
  "parameterSchema": {
   "properties": {
    "Period": {
     "default": 300,
     "description": "The granularity, in seconds, of the returned data points.",
     "title": "Period",
     "type": "number"
    },
    "Region": {
     "default": "us-west-2",
     "description": "AWS Region",
     "title": "Region",
     "type": "string"
    },
    "Time_Since": {
     "default": 20800,
     "description": "Starting from now, window (in seconds) for which you want to get the datapoints for.",
     "title": "Time_Since",
     "type": "number"
    }
   },
   "required": [],
   "title": "Schema",
   "type": "object"
  },
  "parameterValues": {
   "Period": null,
   "Region": null,
   "Time_Since": null
  },
  "vscode": {
   "interpreter": {
    "hash": "31f2aee4e71d21fbe5cf8b01ff0e069b9275f58929596ceb00d14d90e3e16cd6"
   }
  }
 },
 "nbformat": 4,
 "nbformat_minor": 5
}