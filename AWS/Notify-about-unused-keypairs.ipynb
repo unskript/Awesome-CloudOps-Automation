{
    "cells": [
        {
            "cell_type": "code",
            "execution_count": 1,
            "id": "c04e080f-b322-48a4-873f-83e463877373",
            "metadata": {
                "actionNeedsCredential": false,
                "actionSupportsIteration": false,
                "actionSupportsPoll": false,
                "deletable": false,
                "editable": false,
                "jupyter": {
                    "source_hidden": true
                },
                "orderProperties": [],
                "tags": [
                    "unSkript:nbParam"
                ],
                "title": [
                    "unSkript Internal"
                ],
                "trusted": true
            },
            "outputs": [],
            "source": [
                "import json\n",
                "from unskript import nbparams\n",
                "from unskript.secrets import ENV_MODE, ENV_MODE_AWS\n",
                "from unskript.fwk.workflow import Task, Workflow\n",
                "\n",
                "env = {\"ENV_MODE\":\"ENV_MODE_AWS\",\"TENANT_ID\":\"982dba5f-d9df-48ae-a5bf-ec1fc94d4882\",\"ENVIRONMENT_ID\":\"1499f27c-6406-4fbd-bd1b-c6f92800018f\",\"TENANT_URL\":\"https://tenant-staging.alpha.unskript.io\",\"AWS_REGION\":\"us-west-2\"}\n",
                "secret_store_cfg = {\"SECRET_STORE_TYPE\":\"SECRET_STORE_TYPE_AWS\",\"AWS_SECRET_PREFIX\":\"staging\",\"AWS_REGION\":\"us-west-2\"}\n",
                "paramDict = {}\n",
                "paramDict.update(env)\n",
                "paramDict.update(secret_store_cfg)\n",
                "paramsJson = json.dumps(paramDict)\n",
                "nbParamsObj = nbparams.NBParams(paramsJson)\n",
                "\n",
                "w = Workflow(env, secret_store_cfg, None, global_vars=globals())\n",
                "\n"
            ]
        },
        {
            "cell_type": "markdown",
            "id": "8729bab5-4320-4052-ac8c-d9cdc6b7868a",
            "metadata": {
                "jupyter": {
                    "source_hidden": false
                },
                "name": "Notify About Unused Keypairs",
                "orderProperties": [],
                "tags": [],
                "title": "Notify About Unused Keypairs"
            },
            "source": [
                "\n",
                "<img src=\"https://unskript.com/assets/favicon.png\" alt=\"unSkript.com\" width=\"100\" height=\"100\"/> \n",
                "<h1> unSkript Runbooks </h1>\n",
                "<div class=\"alert alert-block alert-success\">\n",
                "    <b> This runbook demonstrates How to Notify about unused keypairs using unSkript legos.</b>\n",
                "</div>\n",
                "\n",
                "<br>\n",
                "\n",
                "<center><h2>Notify about unused keypairs</h2></center>\n",
                "\n",
                "# Steps Overview\n",
                "    Find All the unused Keypairs from AWS instances\n",
                "    Send message to Slack"
            ]
        },
        {
            "cell_type": "markdown",
            "id": "29a5677c-d5a4-4c0c-a843-5761d943a10d",
            "metadata": {
                "jupyter": {
                    "source_hidden": false
                },
                "name": "Filter AWS Unused Keypairs",
                "orderProperties": [],
                "tags": [],
                "title": "Filter AWS Unused Keypairs"
            },
            "source": [
                "Here we will use unSkript Filter AWS Unused KeyPairs Lego. This lego takes region as input. This inputs is used to findout the unused keypairs."
            ]
        },
        {
            "cell_type": "code",
            "execution_count": 15,
            "id": "ecd098cb-b934-4878-a034-b25e8cb9dcd3",
            "metadata": {
                "accessType": "ACCESS_TYPE_UNSPECIFIED",
                "actionBashCommand": false,
                "actionNeedsCredential": true,
                "actionRequiredLinesInCode": [],
                "actionSupportsIteration": true,
                "actionSupportsPoll": true,
                "action_uuid": "abe9fc82a53b80dc1dd4d5a89e31d22b0338e73e86d2ca859576f38cc6d19f48",
                "continueOnError": false,
                "createTime": "1970-01-01T00:00:00Z",
                "credentialsJson": {},
                "currentVersion": "0.1.0",
                "description": "Filter AWS EC2 Instance by Tag",
                "execution_data": {
                    "last_date_success_run_cell": "2022-08-29T17:41:37.400Z"
                },
                "id": 155,
                "index": 155,
                "inputData": [
                    {
                        "region": {
                            "constant": false,
                            "value": "\"us-west-2\""
                        }
                    }
                ],
                "inputschema": [
                    {
                        "properties": {
                            "region": {
                                "default": "",
                                "description": "AWS Region.",
                                "title": "Region",
                                "type": "string"
                            }
                        },
                        "required": [
                            "tag_key",
                            "tag_value",
                            "region"
                        ],
                        "title": "aws_filter_ec2_by_tags",
                        "type": "object"
                    }
                ],
                "jupyter": {
                    "source_hidden": true
                },
                "legotype": "LEGO_TYPE_AWS",
                "name": "Filter AWS Unused KeyPairs",
                "nouns": [
                    "aws",
                    "ec2",
                    "instances",
                    "tag"
                ],
                "orderProperties": [
                    "region"
                ],
                "output": {
                    "type": ""
                },
                "outputParams": {
                    "output_name": "Unused_Keypair",
                    "output_name_enabled": true
                },
                "tags": [
                    "aws_filter_ec2_by_tags"
                ],
                "title": "Filter AWS Unused KeyPairs",
                "verbs": [
                    "filter"
                ]
            },
            "outputs": [],
            "source": [
                "##\n",
                "##  Copyright (c) 2021 unSkript, Inc\n",
                "##  All rights reserved.\n",
                "##\n",
                "from pydantic import BaseModel, Field\n",
                "from typing import List\n",
                "from unskript.connectors.aws import aws_get_paginator\n",
                "import pprint\n",
                "\n",
                "\n",
                "from beartype import beartype\n",
                "@beartype\n",
                "def aws_filter_unused_keypairs_printer(output):\n",
                "    if output is None:\n",
                "        return\n",
                "    pprint.pprint({\"Instances\": output})\n",
                "\n",
                "\n",
                "@beartype\n",
                "def aws_filter_unused_keypairs(handle, region: str) -> List:\n",
                "    \"\"\"aws_filter_unused_keypairs Returns an array of KeyPair.\n",
                "\n",
                "        :type region: object\n",
                "        :param region: Object containing global params for the notebook.\n",
                "\n",
                "        :rtype: Array of instances matching tags.\n",
                "    \"\"\"\n",
                "    key_pairs_all = []\n",
                "    used_key_pairs = []\n",
                "    ec2Client = handle.client('ec2', region_name=region)\n",
                "\n",
                "    # List the key pairs in the selected region\n",
                "    key_pairs_all = list(map(lambda i: i['KeyName'], ec2Client.describe_key_pairs()['KeyPairs']))\n",
                "\n",
                "    # Get group of EC2 instances.\n",
                "    res = aws_get_paginator(ec2Client, \"describe_instances\", \"Reservations\")\n",
                "    for reservation in res:\n",
                "        for keypair in reservation['Instances']:\n",
                "            if 'KeyName'in keypair and keypair['KeyName'] not in used_key_pairs:\n",
                "                used_key_pairs.append(keypair['KeyName'])\n",
                "\n",
                "    # Compaire key_pairs_all and used_key_pairs list\n",
                "    result = []\n",
                "    for key in key_pairs_all:\n",
                "        if key not in used_key_pairs:\n",
                "            result.append(key)\n",
                "    return result\n",
                "\n",
                "task = Task(Workflow())\n",
                "task.configure(credentialsJson='''{\n",
                "    \"credential_name\": \"DevRole\",\n",
                "    \"credential_type\": \"CONNECTOR_TYPE_AWS\",\n",
                "    \"credential_id\": \"0b438eba-0627-4f6d-b998-a4c604f20e3c\"\n",
                "}''')\n",
                "task.configure(inputParamsJson='''{\n",
                "    \"region\": \"\\\\\"us-west-2\\\\\"\"\n",
                "    }''')\n",
                "task.configure(outputName=\"Unused_Keypair\")\n",
                "(err, hdl, args) = task.validate(vars=vars())\n",
                "if err is None:\n",
                "    task.execute(aws_filter_unused_keypairs, lego_printer=aws_filter_unused_keypairs_printer, hdl=hdl, args=args)"
            ]
        },
        {
            "cell_type": "markdown",
            "id": "45d9706f-7993-426e-947c-a04bb38eb2e0",
            "metadata": {
                "jupyter": {
                    "source_hidden": false
                },
                "name": "Post Slack Message",
                "orderProperties": [],
                "tags": [],
                "title": "Post Slack Message"
            },
            "source": [
                "Here we will use unSkript Post Slack Message Lego. This lego takes channel: str and message: str as input. This inputs is used to post the message to the slack channel."
            ]
        },
        {
            "cell_type": "code",
            "execution_count": 18,
            "id": "cf85874d-f85d-45be-8401-8e0f6a3074b6",
            "metadata": {
                "accessType": "ACCESS_TYPE_UNSPECIFIED",
                "actionBashCommand": false,
                "actionNeedsCredential": true,
                "actionRequiredLinesInCode": [],
                "actionSupportsIteration": true,
                "actionSupportsPoll": true,
                "action_uuid": "6a87f83ab0ecfeecb9c98d084e2b1066c26fa64be5b4928d5573a5d60299802d",
                "continueOnError": false,
                "createTime": "1970-01-01T00:00:00Z",
                "credentialsJson": {},
                "currentVersion": "0.1.0",
                "description": "Post Slack Message",
                "execution_data": {
                    "last_date_success_run_cell": "2022-08-29T17:54:40.047Z"
                },
                "id": 62,
                "index": 62,
                "inputData": [
                    {
                        "channel": {
                            "constant": false,
                            "value": "\"dummy\""
                        },
                        "message": {
                            "constant": false,
                            "value": "\"Unused Keypair {}\".format(Unused_Keypair)"
                        }
                    }
                ],
                "inputschema": [
                    {
                        "properties": {
                            "channel": {
                                "description": "Name of the slack channel where the message to be posted",
                                "title": "Channel",
                                "type": "string"
                            },
                            "message": {
                                "description": "Message to be sent",
                                "title": "Message",
                                "type": "string"
                            }
                        },
                        "required": [
                            "channel",
                            "message"
                        ],
                        "title": "slack_post_message",
                        "type": "object"
                    }
                ],
                "jupyter": {
                    "source_hidden": true
                },
                "legotype": "LEGO_TYPE_SLACK",
                "name": "Post Slack Message",
                "nouns": [
                    "slack",
                    "message"
                ],
                "orderProperties": [
                    "channel",
                    "message"
                ],
                "output": {
                    "type": ""
                },
                "tags": [
                    "slack_post_message"
                ],
                "verbs": [
                    "post"
                ]
            },
            "outputs": [],
            "source": [
                "##\n",
                "# Copyright (c) 2021 unSkript, Inc\n",
                "# All rights reserved.\n",
                "##\n",
                "\n",
                "import pprint\n",
                "\n",
                "from pydantic import BaseModel, Field\n",
                "from slack_sdk import WebClient\n",
                "from slack_sdk.errors import SlackApiError\n",
                "\n",
                "pp = pprint.PrettyPrinter(indent=2)\n",
                "\n",
                "\n",
                "from beartype import beartype\n",
                "@beartype\n",
                "def slack_post_message_printer(output):\n",
                "    if output is not None:\n",
                "        pprint.pprint(output)\n",
                "    else:\n",
                "        return\n",
                "\n",
                "\n",
                "@beartype\n",
                "def slack_post_message(\n",
                "        handle: WebClient,\n",
                "        channel: str,\n",
                "        message: str) -> str:\n",
                "\n",
                "    try:\n",
                "        response = handle.chat_postMessage(\n",
                "            channel=channel,\n",
                "            text=message)\n",
                "        return f\"Successfuly Sent Message on Channel: #{channel}\"\n",
                "    except SlackApiError as e:\n",
                "        pp.pprint(\n",
                "            f\"Failed sending message to slack channel {channel}, Error: {e.response['error']}\")\n",
                "        if e.response['error'] == 'channel_not_found':\n",
                "            raise Exception('Channel Not Found')\n",
                "        elif e.response['error'] == 'duplicate_channel_not_found':\n",
                "            raise Exception('Channel associated with the message_id not valid')\n",
                "        elif e.response['error'] == 'not_in_channel':\n",
                "            raise Exception('Cannot post message to channel user is not in')\n",
                "        elif e.response['error'] == 'is_archived':\n",
                "            raise Exception('Channel has been archived')\n",
                "        elif e.response['error'] == 'msg_too_long':\n",
                "            raise Exception('Message text is too long')\n",
                "        elif e.response['error'] == 'no_text':\n",
                "            raise Exception('Message text was not provided')\n",
                "        elif e.response['error'] == 'restricted_action':\n",
                "            raise Exception('Workspace preference prevents user from posting')\n",
                "        elif e.response['error'] == 'restricted_action_read_only_channel':\n",
                "            raise Exception('Cannot Post message, read-only channel')\n",
                "        elif e.response['error'] == 'team_access_not_granted':\n",
                "            raise Exception('The token used is not granted access to the workspace')\n",
                "        elif e.response['error'] == 'not_authed':\n",
                "            raise Exception('No Authtnecition token provided')\n",
                "        elif e.response['error'] == 'invalid_auth':\n",
                "            raise Exception('Some aspect of Authentication cannot be validated. Request denied')\n",
                "        elif e.response['error'] == 'access_denied':\n",
                "            raise Exception('Access to a resource specified in the request denied')\n",
                "        elif e.response['error'] == 'account_inactive':\n",
                "            raise Exception('Authentication token is for a deleted user')\n",
                "        elif e.response['error'] == 'token_revoked':\n",
                "            raise Exception('Authentication token for a deleted user has been revoked')\n",
                "        elif e.response['error'] == 'no_permission':\n",
                "            raise Exception('The workspace toekn used does not have necessary permission to send message')\n",
                "        elif e.response['error'] == 'ratelimited':\n",
                "            raise Exception('The request has been ratelimited. Retry sending message later')\n",
                "        elif e.response['error'] == 'service_unavailable':\n",
                "            raise Exception('The service is temporarily unavailable')\n",
                "        elif e.response['error'] == 'fatal_error':\n",
                "            raise Exception('The server encountered catostrophic error while sending message')\n",
                "        elif e.response['error'] == 'internal_error':\n",
                "            raise Exception('The server could not complete operation, likely due to transietn issue')\n",
                "        elif e.response['error'] == 'request_timeout':\n",
                "            raise Exception('Sending message error via POST: either message was missing or truncated')\n",
                "        else:\n",
                "            raise Exception(f'Failed Sending Message to slack channel {channel} Error: {e.response[\"error\"]}')\n",
                "\n",
                "    except Exception as e:\n",
                "        print(\"\\n\\n\")\n",
                "        pp.pprint(\n",
                "            f\"Failed sending message to slack channel {channel}, Error: {e.__str__()}\")\n",
                "        return f\"Unable to send message on {channel}\"\n",
                "\n",
                "\n",
                "task = Task(Workflow())\n",
                "task.configure(credentialsJson='''{\n",
                "    \"credential_name\": \"unSkript\",\n",
                "    \"credential_type\": \"CONNECTOR_TYPE_SLACK\",\n",
                "    \"credential_id\": \"b1adafe4-6593-484d-8fc1-e40799378e9a\"\n",
                "}''')\n",
                "task.configure(inputParamsJson='''{\n",
                "    \"channel\": \"\\\\\"dummy\\\\\"\",\n",
                "    \"message\": \"\\\\\"Unused Keypair {}\\\\\".format(Unused_Keypair)\"\n",
                "    }''')\n",
                "(err, hdl, args) = task.validate(vars=vars())\n",
                "if err is None:\n",
                "    task.execute(slack_post_message, lego_printer=slack_post_message_printer, hdl=hdl, args=args)"
            ]
        },
        {
            "cell_type": "markdown",
            "id": "a2ab1450-2a44-46bc-aa0a-8ed4670f2973",
            "metadata": {
                "jupyter": {
                    "source_hidden": false
                },
                "name": "Conclusion",
                "orderProperties": [],
                "tags": [],
                "title": "Conclusion"
            },
            "source": [
                "In this Runbook, we demonstrated the use of unSkript's AWS to perform AWS Unused Keypairs and send a message on slack. To view the full platform capabilities of unSkript please visit https://unskript.com"
            ]
        }
    ],
    "metadata": {
        "execution_data": {
            "environment_id": "1499f27c-6406-4fbd-bd1b-c6f92800018f",
            "environment_name": "Staging",
            "execution_id": "62384775-fc65-4705-bb91-feb65a31a6d4",
            "inputs_for_searched_lego": "",
            "notebook_id": "919bca77-542e-4358-9f4d-d7f610ab51b5.ipynb",
            "parameters": null,
            "runbook_name": "Notify about unused keypairs",
            "search_string": "",
            "show_tool_tip": false,
            "tenant_id": "982dba5f-d9df-48ae-a5bf-ec1fc94d4882",
            "tenant_url": "https://tenant-staging.alpha.unskript.io",
            "user_email_id": "harshal.bangre@unskript.com",
            "workflow_id": "63bd4de0-6810-406f-8655-5561f3f250bf"
        },
        "kernelspec": {
            "display_name": "Python 3.9.12 ('base')",
            "language": "python",
            "name": "python3"
        },
        "language_info": {
            "file_extension": ".py",
            "mimetype": "text/x-python",
            "name": "python",
            "pygments_lexer": "ipython3",
            "version": "3.9.12"
        },
        "parameterSchema": {
            "properties": {},
            "required": [],
            "title": "Schema",
            "type": "object"
        },
        "parameterValues": {},
        "vscode": {
            "interpreter": {
                "hash": "5e269198fab4eb2ea6fe7c886c38b87b334869f0501ab924e1d16d60aeba5d23"
            }
        }
    },
    "nbformat": 4,
    "nbformat_minor": 5
}
