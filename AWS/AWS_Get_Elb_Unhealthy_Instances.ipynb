{
 "cells": [
  {
   "attachments": {},
   "cell_type": "markdown",
   "id": "c2072425",
   "metadata": {
    "jupyter": {
     "source_hidden": false
    },
    "name": "Runbook Overview",
    "orderProperties": [],
    "tags": [],
    "title": "Runbook Overview"
   },
   "source": [
    "<center><img src=\"https://storage.googleapis.com/unskript-website/assets/favicon.png\" alt=\"unSkript.com\" width=\"100\" height=\"100\">\n",
    "<h1 id=\"unSkript-Runbooks\">unSkript Runbooks</h1>\n",
    "<div class=\"alert alert-block alert-success\">\n",
    "<h3 id=\"Objective\"><strong>Objective</strong></h3>\n",
    "<strong>To get AWS ELB unhealthy instances using unSkript actions.</strong></div>\n",
    "</center><center>\n",
    "<h2 id=\"Get-AWS-ELB-Unhealthy-Instances\">Get AWS ELB Unhealthy Instances</h2>\n",
    "</center>\n",
    "<h1 id=\"Steps-Overview\">Steps Overview</h1>\n",
    "<p>1. Get Unhealthy instances from ELB<br>2. Post Slack Message<code>\n",
    "</code></p>"
   ]
  },
  {
   "cell_type": "code",
   "execution_count": 19,
   "id": "d5ec83b7-d75a-4e1b-a455-78b983a7fe50",
   "metadata": {
    "collapsed": true,
    "credentialsJson": {},
    "customAction": true,
    "execution_data": {
     "last_date_success_run_cell": "2023-05-19T11:34:46.665Z"
    },
    "jupyter": {
     "outputs_hidden": true,
     "source_hidden": true
    },
    "name": "Input Verification",
    "orderProperties": [],
    "tags": [],
    "title": "Input Verification"
   },
   "outputs": [],
   "source": [
    "if elb_name and not region:\n",
    "    raise SystemExit(\"Provide region for the ELB instances!\")\n",
    "if region == None:\n",
    "    region = \"\"\n",
    "if elb_name == None:\n",
    "    elb_name = \"\""
   ]
  },
  {
   "attachments": {},
   "cell_type": "markdown",
   "id": "205bd131",
   "metadata": {
    "jupyter": {
     "source_hidden": false
    },
    "name": "Step-1 B",
    "orderProperties": [],
    "tags": [],
    "title": "Step-1 B"
   },
   "source": [
    "<h3 id=\"Get-Unhealthy-instances-from-ELB\">Get Unhealthy instances from ELB</h3>\n",
    "<p>Here we will use unSkript&nbsp;<strong>Get Unhealthy instances from ELB</strong> action. This action is used to get all unhealthy instances from ELB, the instances which are out of service are considered unhealthy instances.</p>\n",
    "<blockquote>\n",
    "<p><strong>Input parameters:</strong> <code>elb_name</code>, <code>region</code></p>\n",
    "</blockquote>\n",
    "<blockquote>\n",
    "<p><strong>Output variable</strong>: <code>unhealthy_instances</code></p>\n",
    "</blockquote>"
   ]
  },
  {
   "cell_type": "code",
   "execution_count": null,
   "id": "19d75911-e82d-4712-b0ad-d4e5ebb0da1d",
   "metadata": {
    "actionBashCommand": false,
    "actionCategories": [
     "CATEGORY_TYPE_CLOUDOPS",
     "CATEGORY_TYPE_DEVOPS",
     "CATEGORY_TYPE_SRE",
     "CATEGORY_TYPE_AWS",
     "CATEGORY_TYPE_AWS_ELB"
    ],
    "actionDescription": "Get Unhealthy instances from Elastic Load Balancer",
    "actionEntryFunction": "aws_get_unhealthy_instances_from_elb",
    "actionIsCheck": true,
    "actionIsRemediation": false,
    "actionNeedsCredential": true,
    "actionNextHop": [
     "94707558cebedbcb77aabaec5d6d2d1bf3f4664db6e9e905d6d905a11a3ef8bc"
    ],
    "actionNextHopParameterMapping": {},
    "actionNouns": null,
    "actionOutputType": "ACTION_OUTPUT_TYPE_LIST",
    "actionSupportsIteration": true,
    "actionSupportsPoll": true,
    "actionTitle": "Get Unhealthy instances from ELB",
    "actionType": "LEGO_TYPE_AWS",
    "actionVerbs": null,
    "actionVersion": "1.0.0",
    "action_modified": false,
    "action_uuid": "6d2964252c14fd1439bdefd224d147ac75fc7fe06036c6d0956081fa45505139",
    "condition_enabled": true,
    "continueOnError": false,
    "credentialsJson": {},
    "description": "Get Unhealthy instances from Elastic Load Balancer",
    "execution_data": {
     "last_date_success_run_cell": "2023-05-19T11:35:19.835Z"
    },
    "id": 7,
    "index": 7,
    "inputData": [
     {
      "elb_name": {
       "constant": false,
       "value": "elb_name"
      },
      "region": {
       "constant": false,
       "value": "region"
      }
     }
    ],
    "inputschema": [
     {
      "properties": {
       "elb_name": {
        "default": "",
        "description": "Name of the elastic load balancer.",
        "title": "ELB Name",
        "type": "string"
       },
       "region": {
        "default": "",
        "description": "AWS Region of the ELB.",
        "title": "Region",
        "type": "string"
       }
      },
      "required": [],
      "title": "aws_get_unhealthy_instances_from_elb",
      "type": "object"
     }
    ],
    "jupyter": {
     "source_hidden": true
    },
    "language": "python",
    "legotype": "LEGO_TYPE_AWS",
    "name": "Get Unhealthy instances from ELB",
    "orderProperties": [
     "elb_name",
     "region"
    ],
    "outputParams": {
     "output_name": "unhealthy_instances",
     "output_name_enabled": true,
     "output_runbook_enabled": false,
     "output_runbook_name": ""
    },
    "printOutput": true,
    "startcondition": "not elb_names",
    "tags": [
     "aws_get_unhealthy_instances_from_elb"
    ],
    "uuid": "6d2964252c14fd1439bdefd224d147ac75fc7fe06036c6d0956081fa45505139",
    "version": "1.0.0"
   },
   "outputs": [],
   "source": [
    "##  Copyright (c) 2021 unSkript, Inc\n",
    "##  All rights reserved.\n",
    "##\n",
    "import pprint\n",
    "from typing import Optional, Tuple\n",
    "from pydantic import BaseModel, Field\n",
    "from unskript.connectors.aws import aws_get_paginator\n",
    "from unskript.legos.aws.aws_list_all_regions.aws_list_all_regions import aws_list_all_regions\n",
    "\n",
    "\n",
    "from beartype import beartype\n",
    "@beartype\n",
    "def aws_get_unhealthy_instances_from_elb_printer(output):\n",
    "    if output is None:\n",
    "        return\n",
    "\n",
    "    pprint.pprint(output)\n",
    "\n",
    "\n",
    "@beartype\n",
    "def aws_get_unhealthy_instances_from_elb(handle, elb_name: str = \"\", region: str = \"\") -> Tuple:\n",
    "    \"\"\"aws_get_unhealthy_instances_from_elb gives unhealthy instances from ELB\n",
    "\n",
    "        :type elb_name: string\n",
    "        :param elb_name: Name of the elastic load balancer.\n",
    "\n",
    "        :type region: string\n",
    "        :param region: AWS region.\n",
    "\n",
    "        :rtype: A tuple with execution results and a list of unhealthy instances from ELB\n",
    "    \"\"\"\n",
    "\n",
    "    result = []\n",
    "    all_regions = [region]\n",
    "    elb_list = []\n",
    "    if not region:\n",
    "        all_regions = aws_list_all_regions(handle)\n",
    "\n",
    "    if not elb_name:\n",
    "        for reg in all_regions:\n",
    "            try:\n",
    "                asg_client = handle.client('elb', region_name=reg)\n",
    "                response = aws_get_paginator(\n",
    "                    asg_client,\n",
    "                    \"describe_load_balancers\",\n",
    "                    \"LoadBalancerDescriptions\"\n",
    "                    )\n",
    "                for i in response:\n",
    "                    elb_dict = {}\n",
    "                    elb_dict[\"load_balancer_name\"] = i[\"LoadBalancerName\"]\n",
    "                    elb_dict[\"region\"] = reg\n",
    "                    elb_list.append(elb_dict)\n",
    "            except Exception:\n",
    "                pass\n",
    "\n",
    "    if elb_name and not region:\n",
    "        for reg in all_regions:\n",
    "            try:\n",
    "                asg_client = handle.client('elb', region_name=reg)\n",
    "                response = aws_get_paginator(\n",
    "                    asg_client,\n",
    "                    \"describe_load_balancers\",\n",
    "                    \"LoadBalancerDescriptions\"\n",
    "                    )\n",
    "                for i in response:\n",
    "                    if elb_name in i[\"LoadBalancerName\"]:\n",
    "                        elb_dict = {}\n",
    "                        elb_dict[\"load_balancer_name\"] = i[\"LoadBalancerName\"]\n",
    "                        elb_dict[\"region\"] = reg\n",
    "                        elb_list.append(elb_dict)\n",
    "            except Exception:\n",
    "                pass\n",
    "\n",
    "    if elb_name and region:\n",
    "        try:\n",
    "            elbClient = handle.client('elb', region_name=region)\n",
    "            res = elbClient.describe_instance_health(LoadBalancerName=elb_name)\n",
    "            for instance in res['InstanceStates']:\n",
    "                data_dict = {}\n",
    "                if instance['State'] == \"OutOfService\":\n",
    "                    data_dict[\"instance_id\"] = instance[\"InstanceId\"]\n",
    "                    data_dict[\"region\"] = reg\n",
    "                    data_dict[\"load_balancer_name\"] = i[\"LoadBalancerName\"]\n",
    "                    result.append(data_dict)\n",
    "        except Exception:\n",
    "            pass\n",
    "\n",
    "    for elb in elb_list:\n",
    "        try:\n",
    "            elbClient = handle.client('elb', region_name=elb[\"region\"])\n",
    "            res = elbClient.describe_instance_health(LoadBalancerName=elb[\"load_balancer_name\"])\n",
    "            for instance in res['InstanceStates']:\n",
    "                data_dict = {}\n",
    "                if instance['State'] == \"OutOfService\":\n",
    "                    data_dict[\"instance_id\"] = instance[\"InstanceId\"]\n",
    "                    data_dict[\"region\"] = reg\n",
    "                    data_dict[\"load_balancer_name\"] = i[\"LoadBalancerName\"]\n",
    "                    result.append(data_dict)\n",
    "        except Exception:\n",
    "            pass\n",
    "\n",
    "    if len(result) != 0:\n",
    "        return (False, result)\n",
    "    return (True, None)\n",
    "\n",
    "\n",
    "task = Task(Workflow())\n",
    "task.configure(inputParamsJson='''{\n",
    "    \"elb_name\": \"elb_name\",\n",
    "    \"region\": \"region\"\n",
    "    }''')\n",
    "task.configure(conditionsJson='''{\n",
    "    \"condition_enabled\": true,\n",
    "    \"condition_cfg\": \"not elb_names\",\n",
    "    \"condition_result\": true\n",
    "    }''')\n",
    "task.configure(outputName=\"unhealthy_instances\")\n",
    "\n",
    "task.configure(printOutput=True)\n",
    "(err, hdl, args) = task.validate(vars=vars())\n",
    "if err is None:\n",
    "    task.execute(aws_get_unhealthy_instances_from_elb, lego_printer=aws_get_unhealthy_instances_from_elb_printer, hdl=hdl, args=args)"
   ]
  },
  {
   "attachments": {},
   "cell_type": "markdown",
   "id": "8fc2968d-700c-4264-84ab-9dbbeae25d3c",
   "metadata": {
    "jupyter": {
     "source_hidden": false
    },
    "name": "Step-1 Extension",
    "orderProperties": [],
    "tags": [],
    "title": "Step-1 Extension"
   },
   "source": [
    "<h3 id=\"Modify-Output\">Modify Output</h3>\n",
    "<p>In this action, we modify the output from step 1A and step 1B and return a list of dictionary items for the unhealthy instances from ELB.</p>\n",
    "<blockquote>\n",
    "<p><strong>Output variable:</strong> elb_instance_list</p>\n",
    "</blockquote>"
   ]
  },
  {
   "cell_type": "code",
   "execution_count": 21,
   "id": "983ce208-f598-4c1e-ab9a-282e90ba5592",
   "metadata": {
    "credentialsJson": {},
    "customAction": true,
    "execution_data": {
     "last_date_success_run_cell": "2023-05-19T11:35:22.550Z"
    },
    "jupyter": {
     "source_hidden": true
    },
    "name": "Modify Output",
    "orderProperties": [],
    "tags": [],
    "title": "Modify Output"
   },
   "outputs": [],
   "source": [
    "elb_instance_list = []\n",
    "try:\n",
    "    if unhealthy_instances:\n",
    "        if unhealthy_instances[0] == False:\n",
    "            for instance in unhealthy_instances[1]:\n",
    "                elb_instance_list.append(instance)\n",
    "except Exception as e:\n",
    "    raise Exception(e)"
   ]
  },
  {
   "attachments": {},
   "cell_type": "markdown",
   "id": "061cdd14",
   "metadata": {
    "jupyter": {
     "source_hidden": false
    },
    "name": "Step-2",
    "orderProperties": [],
    "tags": [],
    "title": "Step-2"
   },
   "source": [
    "<h3 id=\"Post-Slack-Message\">Post Slack Message</h3>\n",
    "<p>Here we will use unSkript <strong>Post Slack Message</strong> action. This action takes channel: str and message: str as input. This input is used to post the message to the slack channel.</p>\n",
    "<blockquote>\n",
    "<p><strong>Input parameters:</strong> <code>message</code>, <code>channel</code></p>\n",
    "</blockquote>\n",
    "<blockquote>\n",
    "<p><strong>Output variable</strong>: <code>message_status</code></p>\n",
    "</blockquote>"
   ]
  },
  {
   "cell_type": "code",
   "execution_count": 14,
   "id": "80e6665a-2c9a-4a33-89f8-ad221be338ec",
   "metadata": {
    "accessType": "ACCESS_TYPE_UNSPECIFIED",
    "actionBashCommand": false,
    "actionNeedsCredential": true,
    "actionSupportsIteration": true,
    "actionSupportsPoll": true,
    "action_uuid": "6a87f83ab0ecfeecb9c98d084e2b1066c26fa64be5b4928d5573a5d60299802d",
    "condition_enabled": true,
    "continueOnError": false,
    "createTime": "1970-01-01T00:00:00Z",
    "credentialsJson": {},
    "currentVersion": "0.1.0",
    "description": "Post Slack Message",
    "execution_data": {
     "last_date_success_run_cell": "2023-02-09T09:45:24.587Z"
    },
    "id": 44,
    "index": 44,
    "inputData": [
     {
      "channel": {
       "constant": false,
       "value": "channel"
      },
      "message": {
       "constant": false,
       "value": "f\"Unhealthy instances for elb:{elb_instance_list}\""
      }
     }
    ],
    "inputschema": [
     {
      "properties": {
       "channel": {
        "description": "Name of the slack channel where the message to be posted",
        "title": "Channel",
        "type": "string"
       },
       "message": {
        "description": "Message to be sent",
        "title": "Message",
        "type": "string"
       }
      },
      "required": [
       "channel",
       "message"
      ],
      "title": "slack_post_message",
      "type": "object"
     }
    ],
    "jupyter": {
     "source_hidden": true
    },
    "legotype": "LEGO_TYPE_SLACK",
    "name": "Post Slack Message",
    "nouns": [
     "slack",
     "message"
    ],
    "orderProperties": [
     "channel",
     "message"
    ],
    "output": {
     "type": ""
    },
    "outputParams": {
     "output_name": "message_status",
     "output_name_enabled": true
    },
    "printOutput": true,
    "startcondition": "channel",
    "tags": [
     "slack_post_message"
    ],
    "title": "Post Slack Message",
    "verbs": [
     "post"
    ]
   },
   "outputs": [],
   "source": [
    "##\n",
    "# Copyright (c) 2021 unSkript, Inc\n",
    "# All rights reserved.\n",
    "##\n",
    "\n",
    "import pprint\n",
    "\n",
    "from pydantic import BaseModel, Field\n",
    "from slack_sdk import WebClient\n",
    "from slack_sdk.errors import SlackApiError\n",
    "\n",
    "pp = pprint.PrettyPrinter(indent=2)\n",
    "\n",
    "\n",
    "from beartype import beartype\n",
    "def legoPrinter(func):\n",
    "    def Printer(*args, **kwargs):\n",
    "        output = func(*args, **kwargs)\n",
    "        if output:\n",
    "            channel = kwargs[\"channel\"]\n",
    "            pp.pprint(print(f\"Message sent to Slack channel {channel}\"))\n",
    "        return output\n",
    "    return Printer\n",
    "\n",
    "\n",
    "@legoPrinter\n",
    "@beartype\n",
    "def slack_post_message(\n",
    "        handle: WebClient,\n",
    "        channel: str,\n",
    "        message: str) -> bool:\n",
    "\n",
    "    try:\n",
    "        response = handle.chat_postMessage(\n",
    "            channel=channel,\n",
    "            text=message)\n",
    "        return True\n",
    "    except SlackApiError as e:\n",
    "        print(\"\\n\\n\")\n",
    "        pp.pprint(\n",
    "            f\"Failed sending message to slack channel {channel}, Error: {e.response['error']}\")\n",
    "        return False\n",
    "    except Exception as e:\n",
    "        print(\"\\n\\n\")\n",
    "        pp.pprint(\n",
    "            f\"Failed sending message to slack channel {channel}, Error: {e.__str__()}\")\n",
    "        return False\n",
    "\n",
    "\n",
    "task = Task(Workflow())\n",
    "task.configure(printOutput=True)\n",
    "task.configure(inputParamsJson='''{\n",
    "    \"channel\": \"channel\",\n",
    "    \"message\": \"f\\\\\"Unhealthy instances for elb:{elb_instance_list}\\\\\"\"\n",
    "    }''')\n",
    "task.configure(conditionsJson='''{\n",
    "    \"condition_enabled\": true,\n",
    "    \"condition_cfg\": \"channel\",\n",
    "    \"condition_result\": true\n",
    "    }''')\n",
    "task.configure(outputName=\"message_status\")\n",
    "\n",
    "(err, hdl, args) = task.validate(vars=vars())\n",
    "if err is None:\n",
    "    task.output = task.execute(slack_post_message, hdl=hdl, args=args)\n",
    "    if task.output_name != None:\n",
    "        globals().update({task.output_name: task.output[0]})"
   ]
  },
  {
   "attachments": {},
   "cell_type": "markdown",
   "id": "2fbfd774",
   "metadata": {
    "jupyter": {
     "source_hidden": false
    },
    "name": "Conclusion",
    "orderProperties": [],
    "tags": [],
    "title": "Conclusion"
   },
   "source": [
    "<h3 id=\"Conclusion\">Conclusion</h3>\n",
    "<p>In this Runbook, we demonstrated the use of unSkript's AWS and slack legos to perform AWS action and this runbook fetches the unHealthy EC2 instances for Classic ELB and posts to a slack channel. To view the full platform capabilities of unSkript please visit <a href=\"https://us.app.unskript.io\" target=\"_blank\" rel=\"noopener\">https://us.app.unskript.io</a></p>"
   ]
  }
 ],
 "metadata": {
  "execution_data": {
   "runbook_name": "AWS Get unhealthy EC2 instances from ELB",
   "parameters": [
    "channel",
    "elb_name",
    "region"
   ]
  },
  "kernelspec": {
   "display_name": "unSkript (Build: 1169)",
   "language": "python",
   "name": "python3"
  },
  "language_info": {
   "codemirror_mode": {
    "name": "ipython",
    "version": 3
   },
   "file_extension": ".py",
   "mimetype": "text/x-python",
   "name": "python",
   "nbconvert_exporter": "python",
   "pygments_lexer": "ipython3",
   "version": "3.9.6"
  },
  "parameterSchema": {
   "properties": {
    "channel": {
     "default": "",
     "description": "Slack channel to post to",
     "title": "channel",
     "type": "string"
    },
    "elb_name": {
     "description": "ELB Name",
     "title": "elb_name",
     "type": "string"
    },
    "region": {
     "description": "Region for the ELB instances",
     "title": "region",
     "type": "string"
    }
   },
   "required": [],
   "title": "Schema",
   "type": "object"
  },
  "parameterValues": {},
  "vscode": {
   "interpreter": {
    "hash": "e8899eb02dfbc033aab5733bdae1bd213fa031d40331094008e8673d99ebab63"
   }
  }
 },
 "nbformat": 4,
 "nbformat_minor": 5
}