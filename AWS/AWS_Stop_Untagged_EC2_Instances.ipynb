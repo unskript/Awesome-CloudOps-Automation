{
 "cells": [
  {
   "cell_type": "markdown",
   "id": "cadbcf65-5c79-4496-81ef-c9e1e18ee932",
   "metadata": {
    "jupyter": {
     "source_hidden": false
    },
    "name": "Steps Overview",
    "orderProperties": [],
    "tags": [],
    "title": "Steps Overview"
   },
   "source": [
    "<hr><center><img src=\"https://storage.googleapis.com/unskript-website/assets/favicon.png\" alt=\"unSkript.com\" width=\"100\" height=\"100\">\n",
    "<h1 id=\"unSkript-Runbooks&para;\">unSkript Runbooks</h1>\n",
    "<div class=\"alert alert-block alert-success\">\n",
    "<h3 id=\"Objective&para;\">Objective</h3>\n",
    "<br><strong style=\"color: #000000;\"><em>Stop untagged EC2 Instances</em></strong></div>\n",
    "</center>\n",
    "<p>&nbsp;</p>\n",
    "<center>\n",
    "<h2 id=\"Stop-Untagged-EC2-Instances&para;\"><u>Stop Untagged EC2 Instances</u></h2>\n",
    "</center>\n",
    "<h1 id=\"Steps-Overview&para;\">Steps Overview</h1>\n",
    "<p>1)&nbsp;<a href=\"#1\" target=\"_self\" rel=\"noopener\">Get all untagged EC2 instance</a><br>2)&nbsp;<a href=\"#2\" target=\"_self\" rel=\"noopener\">Stop Untagged EC2 instances</a></p>\n",
    "<hr>"
   ]
  },
  {
   "cell_type": "code",
   "execution_count": null,
   "id": "35ab47d1-a42d-4130-aca4-495956725ea0",
   "metadata": {
    "collapsed": true,
    "credentialsJson": {},
    "customAction": true,
    "jupyter": {
     "outputs_hidden": true,
     "source_hidden": true
    },
    "name": "Input Verification",
    "orderProperties": [],
    "tags": [],
    "title": "Input Verification"
   },
   "outputs": [],
   "source": [
    "if region == None:\n",
    "    region = ''\n",
    "if instance_ids and not region:\n",
    "    raise SystemExit(\"Provide a region for the EC2 Instance IDs!\")"
   ]
  },
  {
   "cell_type": "markdown",
   "id": "7a7ce858-86e0-44a5-a8a7-68af0664fa27",
   "metadata": {
    "jupyter": {
     "source_hidden": false
    },
    "name": "Step 2",
    "orderProperties": [],
    "tags": [],
    "title": "Step 2"
   },
   "source": [
    "<h3 id=\"Get-publicly-accessible-DB-snapshots\"><a id=\"2\" target=\"_self\" rel=\"nofollow\"></a>Get all Untagged EC2 Instances</h3>\n",
    "<p>Here we will fetch all the untagged&nbsp; EC2 instances.&nbsp;</p>\n",
    "<blockquote>\n",
    "<p>This action takes the following parameters: <code>region(Optional)</code></p>\n",
    "</blockquote>\n",
    "<blockquote>\n",
    "<p>This action captures the following output: <code>untagged_instances</code></p>\n",
    "</blockquote>"
   ]
  },
  {
   "cell_type": "code",
   "execution_count": null,
   "id": "44455214-e204-4278-818f-47734b8194c4",
   "metadata": {
    "actionBashCommand": false,
    "actionCategories": [
     "CATEGORY_TYPE_CLOUDOPS",
     "CATEGORY_TYPE_COST_OPT",
     "CATEGORY_TYPE_AWS",
     "CATEGORY_TYPE_AWS_EC2"
    ],
    "actionDescription": "Filter AWS Untagged EC2 Instances",
    "actionEntryFunction": "aws_filter_untagged_ec2_instances",
    "actionIsCheck": true,
    "actionIsRemediation": false,
    "actionNeedsCredential": true,
    "actionNextHop": [
     "a16703da15d9e9e2d8a56b146e730b5e4c1496721ff1dc8606a5021d521ed9e3"
    ],
    "actionNextHopParameterMapping": {},
    "actionNouns": [
     "aws",
     "instances",
     "untagged"
    ],
    "actionOutputType": "ACTION_OUTPUT_TYPE_LIST",
    "actionSupportsIteration": true,
    "actionSupportsPoll": true,
    "actionTitle": "Filter AWS Untagged EC2 Instances",
    "actionType": "LEGO_TYPE_AWS",
    "actionVerbs": [
     "filter"
    ],
    "actionVersion": "1.0.0",
    "action_modified": false,
    "action_uuid": "0ebc91f11a150d8933a8ebf4cf8824f0ca8cd9e64383b30dd9fad4e7b9b26ac9",
    "collapsed": true,
    "condition_enabled": true,
    "continueOnError": false,
    "credentialsJson": {},
    "description": "Filter AWS Untagged EC2 Instances",
    "id": 1,
    "index": 1,
    "inputData": [
     {
      "region": {
       "constant": false,
       "value": "region"
      }
     }
    ],
    "inputschema": [
     {
      "properties": {
       "region": {
        "default": "",
        "description": "Name of the AWS Region",
        "title": "Region",
        "type": "string"
       }
      },
      "required": [],
      "title": "aws_filter_untagged_ec2_instances",
      "type": "object"
     }
    ],
    "jupyter": {
     "outputs_hidden": true,
     "source_hidden": true
    },
    "language": "python",
    "legotype": "LEGO_TYPE_AWS",
    "name": "Filter AWS Untagged EC2 Instances",
    "orderProperties": [
     "region"
    ],
    "outputParams": {
     "output_name": "untagged_instances",
     "output_name_enabled": true,
     "output_runbook_enabled": false,
     "output_runbook_name": ""
    },
    "printOutput": true,
    "startcondition": "not instance_ids",
    "tags": [
     "aws_filter_untagged_ec2_instances"
    ],
    "uuid": "0ebc91f11a150d8933a8ebf4cf8824f0ca8cd9e64383b30dd9fad4e7b9b26ac9",
    "version": "1.0.0"
   },
   "outputs": [],
   "source": [
    "##\n",
    "##  Copyright (c) 2021 unSkript, Inc\n",
    "##  All rights reserved.\n",
    "##\n",
    "from pydantic import BaseModel, Field\n",
    "from typing import List, Tuple, Optional\n",
    "from unskript.connectors.aws import aws_get_paginator\n",
    "from unskript.legos.aws.aws_list_all_regions.aws_list_all_regions import aws_list_all_regions\n",
    "import pprint\n",
    "\n",
    "\n",
    "from beartype import beartype\n",
    "@beartype\n",
    "def aws_filter_untagged_ec2_instances_printer(output):\n",
    "    if output is None:\n",
    "        return\n",
    "    pprint.pprint(output)\n",
    "\n",
    "@beartype\n",
    "def check_untagged_instance(res, r):\n",
    "    instance_list = []\n",
    "    for reservation in res:\n",
    "        for instance in reservation['Instances']:\n",
    "            instances_dict = {}\n",
    "            tags = instance.get('Tags', None)\n",
    "            if tags is None:\n",
    "                instances_dict['region']= r\n",
    "                instances_dict['instanceID']= instance['InstanceId']\n",
    "                instance_list.append(instances_dict)\n",
    "    return instance_list\n",
    "\n",
    "\n",
    "@beartype\n",
    "def aws_filter_untagged_ec2_instances(handle, region: str= None) -> Tuple:\n",
    "    \"\"\"aws_filter_untagged_ec2_instances Returns an array of instances which has no tags.\n",
    "\n",
    "        :type handle: object\n",
    "        :param handle: Object returned from task.validate(...).\n",
    "\n",
    "        :type region: str\n",
    "        :param region: Region to filter instances.\n",
    "\n",
    "        :rtype: Tuple of status, and list of untagged EC2 Instances\n",
    "    \"\"\"\n",
    "    result = []\n",
    "    all_instances = []\n",
    "    all_regions = [region]\n",
    "    if region is None or len(region)==0:\n",
    "        all_regions = aws_list_all_regions(handle=handle)\n",
    "    for r in all_regions:\n",
    "        try:\n",
    "            ec2Client = handle.client('ec2', region_name=r)\n",
    "            res = aws_get_paginator(ec2Client, \"describe_instances\", \"Reservations\")\n",
    "            untagged_instances = check_untagged_instance(res, r)\n",
    "            if len(untagged_instances)!=0:\n",
    "                all_instances.append(untagged_instances)\n",
    "        except Exception as e:\n",
    "            pass\n",
    "    try:\n",
    "        result = all_instances[0]\n",
    "    except Exception as e:\n",
    "        pass\n",
    "    if len(result) != 0:\n",
    "        return (False, result)\n",
    "    else:\n",
    "        return (True, None)\n",
    "\n",
    "\n",
    "task = Task(Workflow())\n",
    "task.configure(inputParamsJson='''{\n",
    "    \"region\": \"region\"\n",
    "    }''')\n",
    "task.configure(conditionsJson='''{\n",
    "    \"condition_enabled\": true,\n",
    "    \"condition_cfg\": \"not instance_ids\",\n",
    "    \"condition_result\": true\n",
    "    }''')\n",
    "task.configure(outputName=\"untagged_instances\")\n",
    "\n",
    "task.configure(printOutput=True)\n",
    "(err, hdl, args) = task.validate(vars=vars())\n",
    "if err is None:\n",
    "    task.execute(aws_filter_untagged_ec2_instances, lego_printer=aws_filter_untagged_ec2_instances_printer, hdl=hdl, args=args)"
   ]
  },
  {
   "cell_type": "markdown",
   "id": "4bc1ab78-471e-4f0a-9933-d84abb36dada",
   "metadata": {
    "jupyter": {
     "source_hidden": false
    },
    "name": "Step 2A",
    "orderProperties": [],
    "tags": [],
    "title": "Step 2A"
   },
   "source": [
    "<h3 id=\"Create-List-of-untagged-instances\"><a id=\"2\" target=\"_self\" rel=\"nofollow\"></a>Create List of untagged instances<a class=\"jp-InternalAnchorLink\" href=\"#Create-List-of-untagged-instances\" target=\"_self\">&para;</a></h3>\n",
    "<blockquote>\n",
    "<p>This action captures the following output: <code>all_untagged_instances</code></p>\n",
    "</blockquote>"
   ]
  },
  {
   "cell_type": "code",
   "execution_count": 5,
   "id": "087ae782-c90b-46ba-8ed0-76bf9992f51d",
   "metadata": {
    "collapsed": true,
    "credentialsJson": {},
    "customAction": true,
    "execution_data": {
     "last_date_success_run_cell": "2023-02-14T17:26:37.448Z"
    },
    "jupyter": {
     "outputs_hidden": true,
     "source_hidden": true
    },
    "name": "Create List of untagged instances",
    "orderProperties": [],
    "tags": [],
    "title": "Create List of untagged instances"
   },
   "outputs": [],
   "source": [
    "all_untagged_instances = []\n",
    "try:\n",
    "    if untagged_instances[0] == False:\n",
    "        if len(untagged_instances[1])!=0:\n",
    "            all_untagged_instances=untagged_instances[1]\n",
    "except Exception:\n",
    "    for ids in instance_ids:\n",
    "        data_dict = {}\n",
    "        data_dict[\"region\"] = region\n",
    "        data_dict[\"instanceID\"] = ids\n",
    "        all_untagged_instances.append(data_dict)\n",
    "print(all_untagged_instances)\n",
    "task.configure(outputName=\"all_untagged_instances\")"
   ]
  },
  {
   "cell_type": "markdown",
   "id": "2e75ed26-5dfd-4a64-a6af-1aa336ac9455",
   "metadata": {
    "jupyter": {
     "source_hidden": false
    },
    "name": "Step 3",
    "orderProperties": [],
    "tags": [],
    "title": "Step 3"
   },
   "source": [
    "<h3 id=\"Get-publicly-accessible-DB-snapshots\"><a id=\"2\" target=\"_self\" rel=\"nofollow\"></a>Stop untagged EC2 Instances</h3>\n",
    "<p>Using unSkript's Stop EC2 instances action we will stop all untagged EC2 instances found in Step 1.\n",
    "\n",
    "<blockquote>\n",
    "<p>This action takes the following parameters: <code>region(Optional)</code></p>\n",
    "</blockquote>"
   ]
  },
  {
   "cell_type": "code",
   "execution_count": null,
   "id": "1432974e-5c85-48f7-9b17-c3ef3be94152",
   "metadata": {
    "actionBashCommand": false,
    "actionCategories": [
     "CATEGORY_TYPE_DEVOPS",
     "CATEGORY_TYPE_SRE",
     "CATEGORY_TYPE_AWS",
     "CATEGORY_TYPE_AWS_EC2"
    ],
    "actionDescription": "Stop an AWS Instance",
    "actionEntryFunction": "aws_stop_instances",
    "actionIsCheck": false,
    "actionIsRemediation": true,
    "actionNeedsCredential": true,
    "actionNextHop": null,
    "actionNextHopParameterMapping": null,
    "actionNouns": [
     "aws",
     "instances"
    ],
    "actionOutputType": "ACTION_OUTPUT_TYPE_DICT",
    "actionSupportsIteration": true,
    "actionSupportsPoll": true,
    "actionTitle": "Stop AWS Instances",
    "actionType": "LEGO_TYPE_AWS",
    "actionVerbs": [
     "stop"
    ],
    "actionVersion": "1.0.0",
    "action_modified": false,
    "action_uuid": "ef6e03e0bb46f1d9eb58405e5eed4b962c4ae9eeaaf64877c1c4e820c2854c6e",
    "collapsed": true,
    "condition_enabled": true,
    "continueOnError": false,
    "credentialsJson": {},
    "description": "Stop an AWS Instance",
    "id": 3,
    "index": 3,
    "inputData": [
     {
      "instance_id": {
       "constant": false,
       "value": "\"iter.get(\\\\\"instanceID\\\\\")\""
      },
      "region": {
       "constant": false,
       "value": "\"iter.get(\\\\\"region\\\\\")\""
      }
     }
    ],
    "inputschema": [
     {
      "properties": {
       "instance_id": {
        "description": "ID of the instance to be stopped.",
        "title": "Instance Id",
        "type": "string"
       },
       "region": {
        "description": "AWS Region of the instance.",
        "title": "Region",
        "type": "string"
       }
      },
      "required": [
       "instance_id",
       "region"
      ],
      "title": "aws_stop_instances",
      "type": "object"
     }
    ],
    "iterData": [
     {
      "iter_enabled": true,
      "iter_item": {
       "instance_id": "instanceID",
       "region": "region"
      },
      "iter_list": {
       "constant": false,
       "objectItems": true,
       "value": "all_untagged_instances"
      }
     }
    ],
    "jupyter": {
     "outputs_hidden": true,
     "source_hidden": true
    },
    "language": "python",
    "legotype": "LEGO_TYPE_AWS",
    "name": "Stop AWS Instances",
    "orderProperties": [
     "instance_id",
     "region"
    ],
    "printOutput": true,
    "startcondition": "len(all_untagged_instances)!=0",
    "tags": [
     "aws_stop_instances"
    ],
    "uuid": "ef6e03e0bb46f1d9eb58405e5eed4b962c4ae9eeaaf64877c1c4e820c2854c6e",
    "version": "1.0.0"
   },
   "outputs": [],
   "source": [
    "##  Copyright (c) 2021 unSkript, Inc\n",
    "##  All rights reserved.\n",
    "##\n",
    "import pprint\n",
    "from typing import Dict\n",
    "from pydantic import BaseModel, Field\n",
    "\n",
    "\n",
    "from beartype import beartype\n",
    "@beartype\n",
    "def aws_stop_instances_printer(output):\n",
    "    if output is None:\n",
    "        return\n",
    "    pprint.pprint(output)\n",
    "\n",
    "\n",
    "@beartype\n",
    "def aws_stop_instances(handle, instance_id: str, region: str) -> Dict:\n",
    "    \"\"\"aws_stop_instances Stops instances.\n",
    "\n",
    "        :type instance_id: string\n",
    "        :param instance_id: String containing the name of AWS EC2 instance\n",
    "\n",
    "        :type region: string\n",
    "        :param region: AWS region for instance\n",
    "\n",
    "        :rtype: Dict with the stopped instances state info.\n",
    "    \"\"\"\n",
    "\n",
    "    ec2Client = handle.client('ec2', region_name=region)\n",
    "    output = {}\n",
    "    res = ec2Client.stop_instances(InstanceIds=[instance_id])\n",
    "    for instances in res['StoppingInstances']:\n",
    "        output[instances['InstanceId']] = instances['CurrentState']\n",
    "\n",
    "    return output\n",
    "\n",
    "\n",
    "task = Task(Workflow())\n",
    "task.configure(continueOnError=False)\n",
    "task.configure(inputParamsJson='''{\n",
    "    \"instance_id\": \"iter.get(\\\\\"instanceID\\\\\")\",\n",
    "    \"region\": \"iter.get(\\\\\"region\\\\\")\"\n",
    "    }''')\n",
    "task.configure(iterJson='''{\n",
    "    \"iter_enabled\": true,\n",
    "    \"iter_list_is_const\": false,\n",
    "    \"iter_list\": \"all_untagged_instances\",\n",
    "    \"iter_parameter\": [\"instance_id\",\"region\"]\n",
    "    }''')\n",
    "\n",
    "task.configure(conditionsJson='''{\n",
    "    \"condition_enabled\": true,\n",
    "    \"condition_cfg\": \"len(all_untagged_instances)!=0\",\n",
    "    \"condition_result\": true\n",
    "    }''')\n",
    "\n",
    "task.configure(printOutput=True)\n",
    "(err, hdl, args) = task.validate(vars=vars())\n",
    "if err is None:\n",
    "    task.execute(aws_stop_instances, lego_printer=aws_stop_instances_printer, hdl=hdl, args=args)"
   ]
  },
  {
   "cell_type": "markdown",
   "id": "4df3773a-43ff-43f8-9693-505c04936438",
   "metadata": {
    "jupyter": {
     "source_hidden": false
    },
    "name": "Conclusion",
    "orderProperties": [],
    "tags": [],
    "title": "Conclusion"
   },
   "source": [
    "<h3 id=\"Conclusion&para;\">Conclusion<a class=\"jp-InternalAnchorLink\" href=\"#Conclusion\" target=\"_self\" rel=\"noopener\">&para;</a><a class=\"jp-InternalAnchorLink\" href=\"#Conclusion&para;\" target=\"_self\">&para;</a></h3>\n",
    "<p>In this Runbook, we were able to find all untagged EC2 instances and stop them using unSkript's AWS actions. To view the full platform capabilities of unSkript please visit&nbsp;<a href=\"https://us.app.unskript.io\" target=\"_blank\" rel=\"noopener\">us.app.unskript.io</a></p>"
   ]
  }
 ],
 "metadata": {
  "execution_data": {
   "parameters": [
    "region",
    "execution_flag"
   ],
   "runbook_name": "Stop all Untagged AWS EC2 Instances"
  },
  "kernelspec": {
   "display_name": "unSkript (Build: 1169)",
   "language": "python",
   "name": "python3"
  },
  "language_info": {
   "codemirror_mode": {
    "name": "ipython",
    "version": 3
   },
   "file_extension": ".py",
   "mimetype": "text/x-python",
   "name": "python",
   "nbconvert_exporter": "python",
   "pygments_lexer": "ipython3",
   "version": "3.10.6"
  },
  "parameterSchema": {
   "properties": {
    "instance_ids": {
     "description": "List of EC2 instance IDs",
     "title": "instance_ids",
     "type": "array"
    },
    "region": {
     "description": "AWS region to check for untagged EC2 instances. Eg: \"us-west-2\". If left empty, all regions will be considered.",
     "title": "region",
     "type": "string"
    }
   },
   "required": [],
   "title": "Schema",
   "type": "object"
  },
  "parameterValues": {},
  "vscode": {
   "interpreter": {
    "hash": "b0fa6594d8f4cbf19f97940f81e996739fb7646882a419484c72d19e05852a7e"
   }
  }
 },
 "nbformat": 4,
 "nbformat_minor": 5
}
