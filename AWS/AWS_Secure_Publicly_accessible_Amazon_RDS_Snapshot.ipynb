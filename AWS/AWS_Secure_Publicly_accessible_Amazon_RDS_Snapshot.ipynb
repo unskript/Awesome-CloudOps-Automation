{
 "cells": [
  {
   "attachments": {},
   "cell_type": "markdown",
   "id": "9bdb4ffc-b726-49e9-95b8-063371b3fa61",
   "metadata": {
    "jupyter": {
     "source_hidden": false
    },
    "name": "Steps Overview",
    "orderProperties": [],
    "tags": [],
    "title": "Steps Overview"
   },
   "source": [
    "<center><img src=\"https://storage.googleapis.com/unskript-website/assets/favicon.png\" alt=\"unSkript.com\" width=\"100\" height=\"100\">\n",
    "<h1 id=\"unSkript-Runbooks\">unSkript Runbooks</h1>\n",
    "<div class=\"alert alert-block alert-success\">\n",
    "<h3 id=\"Objective\">Objective</h3>\n",
    "<br><strong><em>Change publicly accessible of RDS DB Snapshots to private</em></strong></div>\n",
    "</center>\n",
    "<p>&nbsp;</p>\n",
    "<center>\n",
    "<h2 id=\"Secure-Publicly-accessible-Amazon-RDS-Snapshot\"><u>Secure Publicly accessible Amazon RDS Snapshot</u></h2>\n",
    "</center>\n",
    "<h1 id=\"Steps-Overview\">Steps Overview</h1>\n",
    "<p><br>1.&nbsp;Get publicly accessible DB snapshots<br>2.&nbsp;Change the public access to private</p>"
   ]
  },
  {
   "cell_type": "code",
   "execution_count": 6,
   "id": "cd58d0b6-ced5-4efb-b1fe-267082c51ce5",
   "metadata": {
    "customAction": true,
    "execution_data": {
     "last_date_success_run_cell": "2023-05-17T17:54:04.130Z"
    },
    "name": "Input Verification",
    "orderProperties": [],
    "tags": [],
    "title": "Input Verification",
    "credentialsJson": {}
   },
   "outputs": [],
   "source": [
    "if public_snapshot_ids and not region:\n",
    "    raise SystemExit(\"Provide a region for the Snapshots!\")\n",
    "if region == None:\n",
    "    region = \"\""
   ]
  },
  {
   "attachments": {},
   "cell_type": "markdown",
   "id": "af87220a-b782-4b7e-b581-95677550cbc9",
   "metadata": {
    "jupyter": {
     "source_hidden": false
    },
    "name": "Step-1",
    "orderProperties": [],
    "tags": [],
    "title": "Step-1"
   },
   "source": [
    "<h3 id=\"Get-publicly-accessible-DB-snapshots\"><a id=\"2\" target=\"_self\" rel=\"nofollow\"></a>Get publicly accessible DB snapshots</h3>\n",
    "<p>Using unSkript's Get Publicly Accessible DB Snapshots in RDS action we will fetch all the publicly accessible snapshots from the list of manual DB snapshots.</p>\n",
    "<blockquote>\n",
    "<p>This action takes the following parameters: <code>region(Optional)</code></p>\n",
    "</blockquote>\n",
    "<blockquote>\n",
    "<p>This action captures the following output: <code>all_snapshots</code></p>\n",
    "</blockquote>"
   ]
  },
  {
   "cell_type": "code",
   "execution_count": null,
   "id": "6625eaae-2435-4542-a589-8456221c7e88",
   "metadata": {
    "actionBashCommand": false,
    "actionCategories": [
     "CATEGORY_TYPE_CLOUDOPS",
     "CATEGORY_TYPE_SECOPS",
     "CATEGORY_TYPE_AWS",
     "CATEGORY_TYPE_AWS_RDS"
    ],
    "actionDescription": "AWS Get Publicly Accessible DB Snapshots in RDS",
    "actionEntryFunction": "aws_get_publicly_accessible_db_snapshots",
    "actionIsCheck": true,
    "actionIsRemediation": false,
    "actionNeedsCredential": true,
    "actionNextHop": [
     "7c0d143556a33b81d3fb1ff08dfdd59cebe5d58b00b55e8ae660df2e42f71bfe"
    ],
    "actionNextHopParameterMapping": {},
    "actionNouns": [
     "aws",
     "database",
     "snapshots",
     "public",
     "accessible"
    ],
    "actionOutputType": "ACTION_OUTPUT_TYPE_LIST",
    "actionSupportsIteration": true,
    "actionSupportsPoll": true,
    "actionTitle": "AWS Get Publicly Accessible DB Snapshots in RDS",
    "actionType": "LEGO_TYPE_AWS",
    "actionVerbs": [
     "get"
    ],
    "actionVersion": "1.0.0",
    "action_modified": false,
    "action_uuid": "e665224418391a4deafae48140c5b83c8af7b881dd281acbd79ed9ceb52aad4f",
    "collapsed": true,
    "condition_enabled": true,
    "continueOnError": false,
    "credentialsJson": {},
    "description": "AWS Get Publicly Accessible DB Snapshots in RDS",
    "execution_data": {
     "last_date_success_run_cell": "2023-05-17T17:53:59.863Z"
    },
    "id": 5,
    "index": 5,
    "inputData": [
     {
      "region": {
       "constant": false,
       "value": "region"
      }
     }
    ],
    "inputschema": [
     {
      "properties": {
       "region": {
        "default": "",
        "description": "Region of the RDS",
        "title": "Region",
        "type": "string"
       }
      },
      "required": [],
      "title": "aws_get_publicly_accessible_db_snapshots",
      "type": "object"
     }
    ],
    "jupyter": {
     "outputs_hidden": true,
     "source_hidden": true
    },
    "language": "python",
    "legotype": "LEGO_TYPE_AWS",
    "name": "AWS Get Publicly Accessible DB Snapshots in RDS",
    "orderProperties": [
     "region"
    ],
    "outputParams": {
     "output_name": "publicly_accessible_snapshots",
     "output_name_enabled": true,
     "output_runbook_enabled": false,
     "output_runbook_name": ""
    },
    "printOutput": true,
    "startcondition": "not public_snapshot_ids",
    "tags": [],
    "uuid": "e665224418391a4deafae48140c5b83c8af7b881dd281acbd79ed9ceb52aad4f",
    "version": "1.0.0"
   },
   "outputs": [],
   "source": [
    "##  Copyright (c) 2021 unSkript, Inc\n",
    "##  All rights reserved.\n",
    "##\n",
    "import pprint\n",
    "from typing import Optional, Tuple\n",
    "from pydantic import BaseModel, Field\n",
    "from unskript.legos.utils import CheckOutput\n",
    "from unskript.legos.aws.aws_list_all_regions.aws_list_all_regions import aws_list_all_regions\n",
    "from unskript.legos.aws.aws_filter_all_manual_database_snapshots.aws_filter_all_manual_database_snapshots import aws_filter_all_manual_database_snapshots\n",
    "\n",
    "\n",
    "from beartype import beartype\n",
    "@beartype\n",
    "def aws_get_publicly_accessible_db_snapshots_printer(output):\n",
    "    if output is None:\n",
    "        return\n",
    "    pprint.pprint(output)\n",
    "\n",
    "\n",
    "@beartype\n",
    "def aws_get_publicly_accessible_db_snapshots(handle, region: str=None) -> Tuple:\n",
    "    \"\"\"aws_get_publicly_accessible_db_snapshots lists of publicly accessible\n",
    "       db_snapshot_identifier.\n",
    "\n",
    "        :type handle: object\n",
    "        :param handle: Object returned from task.validate(...).\n",
    "\n",
    "        :type region: string\n",
    "        :param region: Region of the RDS.\n",
    "\n",
    "        :rtype: Object with status, result having publicly accessible Snapshots\n",
    "        Identifier in RDS, error\n",
    "    \"\"\"\n",
    "    manual_snapshots_list = []\n",
    "    result = []\n",
    "    all_regions = [region]\n",
    "    if region is None or not region:\n",
    "        all_regions = aws_list_all_regions(handle=handle)\n",
    "    try:\n",
    "        for r in all_regions:\n",
    "            snapshots_dict = {}\n",
    "            output = aws_filter_all_manual_database_snapshots(handle=handle, region=r)\n",
    "            snapshots_dict[\"region\"] = r\n",
    "            snapshots_dict[\"snapshot\"] = output\n",
    "            manual_snapshots_list.append(snapshots_dict)\n",
    "    except Exception as e:\n",
    "        raise e\n",
    "\n",
    "    for all_snapshots in manual_snapshots_list:\n",
    "        try:\n",
    "            ec2Client = handle.client('rds', region_name=all_snapshots['region'])\n",
    "            for each_snapshot in all_snapshots['snapshot']:\n",
    "                response = ec2Client.describe_db_snapshot_attributes(\n",
    "                    DBSnapshotIdentifier=each_snapshot\n",
    "                    )\n",
    "                db_attribute = response[\"DBSnapshotAttributesResult\"]\n",
    "                for value in db_attribute['DBSnapshotAttributes']:\n",
    "                    p_dict={}\n",
    "                    if \"all\" in value[\"AttributeValues\"]:\n",
    "                        p_dict[\"region\"] = all_snapshots['region']\n",
    "                        p_dict[\"open_snapshot\"] = db_attribute['DBSnapshotIdentifier']\n",
    "                        result.append(p_dict)\n",
    "        except Exception:\n",
    "            pass\n",
    "    if len(result)!=0:\n",
    "        return (False, result)\n",
    "    return (True, None)\n",
    "\n",
    "\n",
    "task = Task(Workflow())\n",
    "task.configure(inputParamsJson='''{\n",
    "    \"region\": \"region\"\n",
    "    }''')\n",
    "task.configure(conditionsJson='''{\n",
    "    \"condition_enabled\": true,\n",
    "    \"condition_cfg\": \"not public_snapshot_ids\",\n",
    "    \"condition_result\": true\n",
    "    }''')\n",
    "\n",
    "task.configure(outputName=\"publicly_accessible_snapshots\")\n",
    "\n",
    "task.configure(printOutput=True)\n",
    "(err, hdl, args) = task.validate(vars=vars())\n",
    "if err is None:\n",
    "    task.execute(aws_get_publicly_accessible_db_snapshots, lego_printer=aws_get_publicly_accessible_db_snapshots_printer, hdl=hdl, args=args)"
   ]
  },
  {
   "attachments": {},
   "cell_type": "markdown",
   "id": "0867d634-3d7c-473e-b5fe-06f042452c63",
   "metadata": {
    "jupyter": {
     "source_hidden": false
    },
    "name": "Step 2A",
    "orderProperties": [],
    "tags": [],
    "title": "Step 2A"
   },
   "source": [
    "<h3 id=\"Create-List-of-Public-DB-Snapshots\">Create List of Public DB Snapshots</h3>\n",
    "<p>This action filters regions that have no manual DB snapshots and creates a list those that have</p>\n",
    "<blockquote>\n",
    "<p>This action takes the following parameters: <code>None</code></p>\n",
    "</blockquote>\n",
    "<blockquote>\n",
    "<p>This action captures the following output:&nbsp;<code>all_public_snapshots</code></p>\n",
    "</blockquote>"
   ]
  },
  {
   "cell_type": "code",
   "execution_count": 5,
   "id": "87b57cf2-3eeb-45e6-9eb5-e7106692ea61",
   "metadata": {
    "credentialsJson": {},
    "customAction": true,
    "execution_data": {
     "last_date_success_run_cell": "2023-02-02T16:13:22.904Z"
    },
    "name": "Create List of Public DB Snapshots",
    "orderProperties": [],
    "tags": [],
    "title": "Create List of Public DB Snapshots"
   },
   "outputs": [],
   "source": [
    "all_public_snapshots = []\n",
    "try:\n",
    "    if publicly_accessible_snapshots[0] == False:\n",
    "        for snapshot in publicly_accessible_snapshots[1]:\n",
    "            all_public_snapshots.append(snapshot)\n",
    "except Exception as e:\n",
    "    if public_snapshot_ids:\n",
    "        for snap in public_snapshot_ids:\n",
    "            data_dict = {}\n",
    "            data_dict[\"region\"] = region\n",
    "            data_dict[\"open_snapshot\"] = snap\n",
    "            all_public_snapshots.append(data_dict)\n",
    "    else:\n",
    "        raise Exception(e)"
   ]
  },
  {
   "attachments": {},
   "cell_type": "markdown",
   "id": "93579475-9902-4be4-b9de-fd6fadbc2710",
   "metadata": {
    "jupyter": {
     "source_hidden": false
    },
    "name": "Step 2",
    "orderProperties": [],
    "tags": [],
    "title": "Step 2"
   },
   "source": [
    "<h3 id=\"Change-the-public-access-to-private\">Change the public access to private</h3>\n",
    "<p>Using unSkript's Modify Publicly Accessible RDS Snapshots action we will modify the access to all the publicly accessible snapshots from the <em>public</em> to <em>private</em>.</p>\n",
    "<blockquote>\n",
    "<p>This action takes the following parameters: <code>region</code>, <code>db_snapshot_identifier</code></p>\n",
    "</blockquote>"
   ]
  },
  {
   "cell_type": "code",
   "execution_count": 6,
   "id": "2e58c74d-fd35-429c-b787-0be39f56d0b5",
   "metadata": {
    "accessType": "ACCESS_TYPE_UNSPECIFIED",
    "actionBashCommand": false,
    "actionNeedsCredential": true,
    "actionRequiredLinesInCode": [],
    "actionSupportsIteration": true,
    "actionSupportsPoll": true,
    "action_modified": false,
    "action_uuid": "1a325ba527fbf504000b5d5961f4ef6366daed4a50951e657bfff87eedad52df",
    "condition_enabled": true,
    "continueOnError": true,
    "createTime": "1970-01-01T00:00:00Z",
    "credentialsJson": {},
    "currentVersion": "0.1.0",
    "description": "AWS Modify Publicly Accessible RDS Snapshots",
    "execution_data": {
     "last_date_success_run_cell": "2023-01-30T18:04:38.167Z"
    },
    "id": 239,
    "index": 239,
    "inputData": [
     {
      "db_snapshot_identifier": {
       "constant": false,
       "value": "\"iter.get(\\\\\"open_snapshot\\\\\")\""
      },
      "region": {
       "constant": false,
       "value": "\"iter.get(\\\\\"region\\\\\")\""
      }
     }
    ],
    "inputschema": [
     {
      "properties": {
       "db_snapshot_identifier": {
        "description": "DB Snapshot Idntifier of RDS.",
        "title": "DB Snapshot Idntifier",
        "type": "string"
       },
       "region": {
        "description": "Region of the RDS.",
        "title": "Region",
        "type": "string"
       }
      },
      "required": [
       "db_snapshot_identifier",
       "region"
      ],
      "title": "aws_modify_public_db_snapshots",
      "type": "object"
     }
    ],
    "iterData": [
     {
      "iter_enabled": true,
      "iter_item": {
       "db_snapshot_identifier": "open_snapshot",
       "region": "region"
      },
      "iter_list": {
       "constant": false,
       "objectItems": true,
       "value": "all_public_snapshots"
      }
     }
    ],
    "jupyter": {
     "source_hidden": true
    },
    "legotype": "LEGO_TYPE_AWS",
    "name": "AWS Modify Publicly Accessible RDS Snapshots",
    "nouns": [],
    "orderProperties": [
     "db_snapshot_identifier",
     "region"
    ],
    "output": {
     "type": ""
    },
    "printOutput": true,
    "startcondition": "len(all_public_snapshots) != 0",
    "tags": [
     "aws_modify_public_db_snapshots"
    ],
    "verbs": []
   },
   "outputs": [],
   "source": [
    "##  Copyright (c) 2021 unSkript, Inc\n",
    "##  All rights reserved.\n",
    "##\n",
    "from typing import List, Dict\n",
    "from pydantic import BaseModel, Field\n",
    "import pprint\n",
    "\n",
    "from beartype import beartype\n",
    "@beartype\n",
    "def aws_modify_public_db_snapshots_printer(output):\n",
    "    if output is None:\n",
    "        return\n",
    "    pprint.pprint(output)\n",
    "\n",
    "\n",
    "@beartype\n",
    "def aws_modify_public_db_snapshots(handle, db_snapshot_identifier: str, region: str) -> List:\n",
    "    \"\"\"aws_modify_public_db_snapshots lists of publicly accessible DB Snapshot Idntifier Info.\n",
    "\n",
    "        :type handle: object\n",
    "        :param handle: Object returned from task.validate(...).\n",
    "\n",
    "        :type db_snapshot_identifier: string\n",
    "        :param db_snapshot_identifier: DB Snapshot Idntifier of RDS.\n",
    "\n",
    "        :type region: string\n",
    "        :param region: Region of the RDS.\n",
    "\n",
    "        :rtype: List with Dict of DB Snapshot Idntifier Info.\n",
    "    \"\"\"\n",
    "\n",
    "\n",
    "    ec2Client = handle.client('rds', region_name=region)\n",
    "    result = []\n",
    "    try:\n",
    "        response = ec2Client.modify_db_snapshot_attribute(\n",
    "            DBSnapshotIdentifier=db_snapshot_identifier,\n",
    "            AttributeName='restore',\n",
    "            ValuesToRemove=['all'])\n",
    "\n",
    "        result.append(response)\n",
    "\n",
    "    except Exception as error:\n",
    "        result.append(error)\n",
    "\n",
    "    return result\n",
    "\n",
    "\n",
    "task = Task(Workflow())\n",
    "task.configure(continueOnError=True)\n",
    "task.configure(inputParamsJson='''{\n",
    "    \"region\": \"iter.get(\\\\\"region\\\\\")\",\n",
    "    \"db_snapshot_identifier\": \"iter.get(\\\\\"open_snapshot\\\\\")\"\n",
    "    }''')\n",
    "task.configure(iterJson='''{\n",
    "    \"iter_enabled\": true,\n",
    "    \"iter_list_is_const\": false,\n",
    "    \"iter_list\": \"all_public_snapshots\",\n",
    "    \"iter_parameter\": [\"region\",\"db_snapshot_identifier\"]\n",
    "    }''')\n",
    "task.configure(conditionsJson='''{\n",
    "    \"condition_enabled\": true,\n",
    "    \"condition_cfg\": \"len(all_public_snapshots) != 0\",\n",
    "    \"condition_result\": true\n",
    "    }''')\n",
    "task.configure(printOutput=True)\n",
    "(err, hdl, args) = task.validate(vars=vars())\n",
    "if err is None:\n",
    "    task.execute(aws_modify_public_db_snapshots, lego_printer=aws_modify_public_db_snapshots_printer, hdl=hdl, args=args)"
   ]
  },
  {
   "attachments": {},
   "cell_type": "markdown",
   "id": "faee311b-d041-46f6-8734-396ccba4e664",
   "metadata": {
    "jupyter": {
     "source_hidden": false
    },
    "name": "Conclusion",
    "orderProperties": [],
    "tags": [],
    "title": "Conclusion"
   },
   "source": [
    "<h3 id=\"Conclusion\">Conclusion</h3>\n",
    "<p>In this Runbook, we were able to secure all the publicly accessible AWS RDS DB Snapshots by using unSkript's AWS actions. To view the full platform capabilities of unSkript please visit <a href=\"https://us.app.unskript.io\" target=\"_blank\" rel=\"noopener\">us.app.unskript.io</a></p>"
   ]
  }
 ],
 "metadata": {
  "execution_data": {
   "runbook_name": "Secure Publicly accessible Amazon RDS Snapshot",
   "parameters": [
    "region"
   ]
  },
  "kernelspec": {
   "display_name": "unSkript (Build: 1166)",
   "language": "python",
   "name": "python3"
  },
  "language_info": {
   "codemirror_mode": {
    "name": "ipython",
    "version": 3
   },
   "file_extension": ".py",
   "mimetype": "text/x-python",
   "name": "python",
   "nbconvert_exporter": "python",
   "pygments_lexer": "ipython3",
   "version": "3.9.6"
  },
  "parameterSchema": {
   "properties": {
    "public_snapshot_ids": {
     "description": "List of publicly accessible snapshot ids.",
     "title": "public_snapshot_ids",
     "type": "array"
    },
    "region": {
     "description": "AWS Region(s) to get publicly accessible RDS Db Snapshots. Eg: us-west-2.",
     "title": "region",
     "type": "string"
    }
   },
   "required": [],
   "title": "Schema",
   "type": "object"
  },
  "vscode": {
   "interpreter": {
    "hash": "b0fa6594d8f4cbf19f97940f81e996739fb7646882a419484c72d19e05852a7e"
   }
  }
 },
 "nbformat": 4,
 "nbformat_minor": 5
}