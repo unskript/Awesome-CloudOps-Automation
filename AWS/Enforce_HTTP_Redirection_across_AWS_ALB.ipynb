{
    "cells": [
        {
            "cell_type": "markdown",
            "id": "d06ee036-9b31-4b61-89d9-87510fa416a3",
            "metadata": {
                "jupyter": {
                    "source_hidden": false
                },
                "name": "Enforce HTTP Redirection Across AWS ALB",
                "orderProperties": [],
                "tags": [],
                "title": "Enforce HTTP Redirection Across AWS ALB"
            },
            "source": [
                "<center>\n",
                "<img src=\"https://unskript.com/assets/favicon.png\" alt=\"unSkript.com\" width=\"100\" height=\"100\"/> \n",
                "<h1> unSkript Runbooks </h1>\n",
                "<div class=\"alert alert-block alert-success\">\n",
                "    <h3><b>Objective</b></h3>\n",
                "    <b> This runbook demonstrates how to enforce HTTP redirection across AWS ALB using unSkript actions.</b>\n",
                "</div>\n",
                "\n",
                "<br>\n",
                "</center>\n",
                "<center><h2>Enforce HTTP Redirection Across AWS ALB</h2></center>\n",
                "\n",
                "# Steps Overview\n",
                "1)[AWS List Application LoadBalancers ARNs.](#1)</br>\n",
                "2)[Get AWS ALB Listeners Without HTTP Redirection.](#2)</br>\n",
                "3)[AWS Modify ALB Listeners HTTP Redirection.](#3)"
            ]
        },
        {
            "cell_type": "markdown",
            "id": "f76199e1-89ee-4dcf-b3b8-74cdb7020806",
            "metadata": {
                "jupyter": {
                    "source_hidden": false
                },
                "name": "Step-1",
                "orderProperties": [],
                "tags": [],
                "title": "Step-1"
            },
            "source": [
                "### <a id=\"1\">List Application Load Balancer ARNs</a>\n",
                "Here we will use unSkript <b>AWS List Application LoadBalancers ARNs</b> action. This action lists all ALB ARNs from the given region.\n",
                ">Input parameters: `region`\n",
                "\n",
                ">Ouput variable: `LoadBalancerArn`"
            ]
        },
        {
            "cell_type": "code",
            "execution_count": 2,
            "id": "4c42ff51-04eb-4c18-b0ec-f29a09d0bfb2",
            "metadata": {
                "accessType": "ACCESS_TYPE_UNSPECIFIED",
                "actionBashCommand": false,
                "actionNeedsCredential": true,
                "actionRequiredLinesInCode": [],
                "actionSupportsIteration": true,
                "actionSupportsPoll": true,
                "action_uuid": "65fd5e78705f4fe0e6954622bfcf662b325406539aa3d3d2c425ff97ccd35d6b",
                "continueOnError": false,
                "createTime": "1970-01-01T00:00:00Z",
                "credentialsJson": {
                },
                "currentVersion": "0.1.0",
                "description": "AWS List Application LoadBalancers ARNs",
                "execution_data": {
                    "last_date_success_run_cell": "2022-09-19T10:21:37.719Z"
                },
                "id": 139,
                "index": 139,
                "inputData": [
                    {
                        "region": {
                            "constant": false,
                            "value": "region"
                        }
                    }
                ],
                "inputschema": [
                    {
                        "properties": {
                            "region": {
                                "description": "Region of the Classic loadbalancer.",
                                "title": "Region of the Classic Loadbalancer",
                                "type": "string"
                            }
                        },
                        "title": "aws_list_apllication_loadbalancers",
                        "type": "object"
                    }
                ],
                "jupyter": {
                    "source_hidden": true
                },
                "legotype": "LEGO_TYPE_AWS",
                "name": "AWS List Application LoadBalancers ARNs",
                "nouns": [
                    "aws",
                    "elbv2",
                    "ALB"
                ],
                "orderProperties": [
                    "region"
                ],
                "output": {
                    "type": ""
                },
                "outputParams": {
                    "output_name": "loadBalancer_arn",
                    "output_name_enabled": true
                },
                "tags": [
                    "aws_list_apllication_loadbalancers"
                ],
                "title": "AWS List Application LoadBalancers ARNs",
                "verbs": [
                    "list"
                ]
            },
            "outputs": [],
            "source": [
                "##\n",
                "##  Copyright (c) 2021 unSkript, Inc\n",
                "##  All rights reserved.\n",
                "##\n",
                "from pydantic import BaseModel, Field\n",
                "from typing import Optional, List\n",
                "import pprint\n",
                "\n",
                "\n",
                "from beartype import beartype\n",
                "@beartype\n",
                "def aws_list_apllication_loadbalancers_printer(output):\n",
                "    if output is None:\n",
                "        return\n",
                "    pprint.pprint(output)\n",
                "\n",
                "\n",
                "@beartype\n",
                "def aws_list_apllication_loadbalancers(handle, region: str) -> List:\n",
                "    \"\"\"aws_list_apllication_loadbalancers lists application loadbalancers ARNs.\n",
                "\n",
                "        :type handle: object\n",
                "        :param handle: Object returned from task.validate(...).\n",
                "\n",
                "        :type region: string\n",
                "        :param region: Region of the Classic loadbalancer.\n",
                "\n",
                "        :rtype: List with all the application loadbalancer ARNs\n",
                "    \"\"\"\n",
                "\n",
                "    ec2Client = handle.client('elbv2', region_name=region)\n",
                "    resp = ec2Client.describe_load_balancers()\n",
                "    result = []\n",
                "    for elb in resp['LoadBalancers']:\n",
                "        if elb['Type'] == \"application\":\n",
                "            result.append(elb['LoadBalancerArn'])\n",
                "    return result\n",
                "\n",
                "\n",
                "task = Task(Workflow())\n",
                "task.configure(inputParamsJson='''{\n",
                "    \"region\": \"region\"\n",
                "    }''')\n",
                "task.configure(outputName=\"loadBalancer_arn\")\n",
                "\n",
                "(err, hdl, args) = task.validate(vars=vars())\n",
                "if err is None:\n",
                "    task.execute(aws_list_apllication_loadbalancers, lego_printer=aws_list_apllication_loadbalancers_printer, hdl=hdl, args=args)"
            ]
        },
        {
            "cell_type": "markdown",
            "id": "c23e4920-62a5-4d51-a4b3-2adbfbacaf14",
            "metadata": {
                "jupyter": {
                    "source_hidden": false
                },
                "name": "Step-2",
                "orderProperties": [],
                "tags": [],
                "title": "Step-2"
            },
            "source": [
                "### <a id=\"2\">Get AWS ALB Listeners Without HTTP Redirection</a>\n",
                "Here we will use unSkript <b>Get AWS ALB Listeners Without HTTP Redirection</b> action. In this action, we will pass the list of ALB ARNs from step 1 and check for listener configuration for HTTP redirection and return a list of listener ARNs that don't have HTTP redirection.\n",
                "\n",
                ">Input parameters: `loadbalancer_arn`, `region`\n",
                "\n",
                ">Ouput variable: `ListenerARNs`"
            ]
        },
        {
            "cell_type": "code",
            "execution_count": 6,
            "id": "3ae799f4-3eba-44a7-b759-ec9003f8dd9b",
            "metadata": {
                "accessType": "ACCESS_TYPE_UNSPECIFIED",
                "actionBashCommand": false,
                "actionNeedsCredential": true,
                "actionRequiredLinesInCode": [],
                "actionSupportsIteration": true,
                "actionSupportsPoll": true,
                "action_uuid": "e84fa689b445924888abced31fe69f0edfcad2ea9135f175ce1897d86f04e6cd",
                "continueOnError": false,
                "createTime": "1970-01-01T00:00:00Z",
                "credentialsJson": {
                },
                "currentVersion": "0.1.0",
                "description": "Get AWS ALB Listeners Without HTTP Redirection",
                "execution_data": {
                    "last_date_success_run_cell": "2022-09-19T11:46:53.418Z"
                },
                "id": 186,
                "index": 186,
                "inputData": [
                    {
                        "loadbalancer_arn": {
                            "constant": false,
                            "value": "loadBalancer_arn"
                        },
                        "region": {
                            "constant": false,
                            "value": "region"
                        }
                    }
                ],
                "inputschema": [
                    {
                        "properties": {
                            "loadbalancer_arn": {
                                "description": "List of LoadBalancerArn.",
                                "items": {},
                                "title": "LoadBalancerArn",
                                "type": "array"
                            },
                            "region": {
                                "description": "AWS Region of the ALB listeners.",
                                "title": "Region",
                                "type": "string"
                            }
                        },
                        "required": [
                            "loadbalancer_arn",
                            "region"
                        ],
                        "title": "aws_listeners_without_http_redirect",
                        "type": "object"
                    }
                ],
                "jupyter": {
                    "source_hidden": true
                },
                "legotype": "LEGO_TYPE_AWS",
                "name": "Get AWS ALB Listeners Without HTTP Redirection",
                "nouns": [
                    "listeners",
                    "loadbalancers"
                ],
                "orderProperties": [
                    "loadbalancer_arn",
                    "region"
                ],
                "output": {
                    "type": ""
                },
                "outputParams": {
                    "output_name": "listener_arns",
                    "output_name_enabled": true
                },
                "tags": [
                    "aws_listeners_without_http_redirect"
                ],
                "title": "Get AWS ALB Listeners Without HTTP Redirection",
                "verbs": [
                    "get"
                ]
            },
            "outputs": [],
            "source": [
                "##  Copyright (c) 2021 unSkript, Inc\n",
                "##  All rights reserved.\n",
                "##\n",
                "from typing import List, Dict\n",
                "from pydantic import BaseModel, Field\n",
                "from unskript.connectors.aws import aws_get_paginator\n",
                "import pprint\n",
                "from beartype import beartype\n",
                "\n",
                "\n",
                "@beartype\n",
                "def aws_listeners_without_http_redirect_printer(output):\n",
                "    if output is None:\n",
                "        return\n",
                "    pprint.pprint(output)\n",
                "\n",
                "\n",
                "@beartype\n",
                "def aws_listeners_without_http_redirect(handle, loadbalancer_arn: list, region: str) -> List:\n",
                "    \"\"\"aws_get_auto_scaling_instances List of Dict with instanceId and attached groups.\n",
                "\n",
                "        :type handle: object\n",
                "        :param handle: Object returned from task.validate(...).\n",
                "\n",
                "        :type instance_ids: list\n",
                "        :param instance_ids: List of LoadBalancerArn.\n",
                "\n",
                "        :type region: string\n",
                "        :param region: Region to filter ALB listeners.\n",
                "\n",
                "        :rtype: List of ALB listeners without HTTP redirection.\n",
                "    \"\"\"\n",
                "    ec2Client = handle.client('elbv2', region_name=region)\n",
                "    result = []\n",
                "    for alb in loadbalancer_arn:\n",
                "        try:\n",
                "            response = aws_get_paginator(ec2Client, \"describe_listeners\", \"Listeners\",\n",
                "                                         LoadBalancerArn=alb)\n",
                "            for listner in response:\n",
                "                if 'SslPolicy' not in listner:\n",
                "                    resp = aws_get_paginator(ec2Client, \"describe_rules\", \"Rules\",\n",
                "                                         ListenerArn=listner['ListenerArn'])\n",
                "                    for rule in resp:\n",
                "                        for action in rule['Actions']:\n",
                "                            if action['Type'] != 'redirect':\n",
                "                                result.append(listner['ListenerArn'])\n",
                "        except Exception as error:\n",
                "            result.append(error)\n",
                "    return result\n",
                "\n",
                "\n",
                "\n",
                "\n",
                "\n",
                "\n",
                "task = Task(Workflow())\n",
                "task.configure(inputParamsJson='''{\n",
                "    \"loadbalancer_arn\": \"loadBalancer_arn\",\n",
                "    \"region\": \"region\"\n",
                "    }''')\n",
                "task.configure(outputName=\"listener_arns\")\n",
                "(err, hdl, args) = task.validate(vars=vars())\n",
                "if err is None:\n",
                "    task.execute(aws_listeners_without_http_redirect, lego_printer=aws_listeners_without_http_redirect_printer, hdl=hdl, args=args)"
            ]
        },
        {
            "cell_type": "markdown",
            "id": "831f71fc-e125-4b82-bf3b-f9764603d65b",
            "metadata": {
                "jupyter": {
                    "source_hidden": false
                },
                "name": "Step-3",
                "orderProperties": [],
                "tags": [],
                "title": "Step-3"
            },
            "source": [
                "### <a id=\"3\">AWS Modify ALB Listeners HTTP Redirection</a>\n",
                "Here we will use unSkript <b>AWS Modify ALB Listeners HTTP Redirection</b> action. In this action, we will modify a listener's configuration for HTTP redirection to the listener, which we get from step 2. This action only execute when len(Listener_ARNs)>0.\n",
                "\n",
                ">Input parameters: `listener_arn`, `region`\n",
                "\n",
                ">Ouput variable: `Modified_Output`"
            ]
        },
        {
            "cell_type": "code",
            "execution_count": 5,
            "id": "e6461e22-733d-4665-8e51-5e6d755c0c82",
            "metadata": {
                "accessType": "ACCESS_TYPE_UNSPECIFIED",
                "actionBashCommand": false,
                "actionNeedsCredential": true,
                "actionRequiredLinesInCode": [],
                "actionSupportsIteration": true,
                "actionSupportsPoll": true,
                "action_uuid": "f0e5d5038aad3efc10cd1cc79b27571c08d672b6b8c5cdd57e8bd5b78c23b001",
                "condition_enabled": true,
                "continueOnError": true,
                "createTime": "1970-01-01T00:00:00Z",
                "credentialsJson": {
                },
                "currentVersion": "0.1.0",
                "description": "AWS Modify ALB Listeners HTTP Redirection",
                "execution_data": {
                    "last_date_success_run_cell": "2022-09-19T11:46:33.341Z"
                },
                "id": 149,
                "index": 149,
                "inputData": [
                    {
                        "listener_arn": {
                            "constant": false,
                            "value": "iter_item"
                        },
                        "region": {
                            "constant": false,
                            "value": "region"
                        }
                    }
                ],
                "inputschema": [
                    {
                        "properties": {
                            "listener_arn": {
                                "description": "listener ARNs.",
                                "title": "ListenerArn",
                                "type": "string"
                            },
                            "region": {
                                "description": "AWS Region of the ALB listeners.",
                                "title": "Region",
                                "type": "string"
                            }
                        },
                        "required": [
                            "listener_arn",
                            "region"
                        ],
                        "title": "aws_modify_listener_for_http_redirection",
                        "type": "object"
                    }
                ],
                "iterData": [
                    {
                        "iter_enabled": true,
                        "iter_item": "listener_arn",
                        "iter_list": {
                            "constant": false,
                            "objectItems": false,
                            "value": "listener_arns"
                        }
                    }
                ],
                "jupyter": {
                    "source_hidden": true
                },
                "legotype": "LEGO_TYPE_AWS",
                "name": "AWS Modify ALB Listeners HTTP Redirection",
                "nouns": [
                    "listeners",
                    "loadbalancers"
                ],
                "orderProperties": [
                    "listener_arn",
                    "region"
                ],
                "output": {
                    "type": ""
                },
                "outputParams": {
                    "output_name": "modified_output",
                    "output_name_enabled": true
                },
                "startcondition": "len(ListenerARNs)>0",
                "tags": [
                    "aws_modify_listener_for_http_redirection"
                ],
                "title": "AWS Modify ALB Listeners HTTP Redirection",
                "verbs": [
                    "modify"
                ]
            },
            "outputs": [],
            "source": [
                "##  Copyright (c) 2021 unSkript, Inc\n",
                "##  All rights reserved.\n",
                "##\n",
                "from typing import List, Dict\n",
                "from pydantic import BaseModel, Field\n",
                "import pprint\n",
                "from beartype import beartype\n",
                "\n",
                "\n",
                "@beartype\n",
                "def aws_modify_listener_for_http_redirection_printer(output):\n",
                "    if output is None:\n",
                "        return\n",
                "    pprint.pprint(output)\n",
                "\n",
                "\n",
                "@beartype\n",
                "def aws_modify_listener_for_http_redirection(handle, listener_arn: str, region: str) -> List:\n",
                "    \"\"\"aws_modify_listener_for_http_redirection List of Dict with modified listener info.\n",
                "\n",
                "        :type handle: object\n",
                "        :param handle: Object returned from task.validate(...).\n",
                "\n",
                "        :type listener_arn: string\n",
                "        :param listener_arn: List of LoadBalancerArn.\n",
                "\n",
                "        :type region: string\n",
                "        :param region: Region to filter ALB listeners.\n",
                "\n",
                "        :rtype: List of Dict with modified ALB listeners info.\n",
                "    \"\"\"\n",
                "    listner_config = [{\n",
                "                        \"Type\": \"redirect\",\n",
                "                        \"Order\": 1,\n",
                "                        \"RedirectConfig\": {\n",
                "                            \"Protocol\": \"HTTPS\",\n",
                "                            \"Host\": \"#{host}\",\n",
                "                            \"Query\": \"#{query}\",\n",
                "                            \"Path\": \"/#{path}\",\n",
                "                            \"Port\": \"443\",\n",
                "                            \"StatusCode\": \"HTTP_302\"}}]\n",
                "    result = []\n",
                "    try:\n",
                "        if ALB_Name in listener_arn:\n",
                "            ec2Client = handle.client('elbv2', region_name=region)\n",
                "            response = ec2Client.modify_listener(ListenerArn=listener_arn,\n",
                "                                                 DefaultActions=listner_config)\n",
                "            result.append(response)\n",
                "\n",
                "    except Exception as error:\n",
                "        result.append(error)\n",
                "\n",
                "    return result\n",
                "\n",
                "\n",
                "task = Task(Workflow())\n",
                "task.configure(continueOnError=True)\n",
                "task.configure(inputParamsJson='''{\n",
                "    \"listener_arn\": \"iter_item\",\n",
                "    \"region\": \"region\"\n",
                "    }''')\n",
                "task.configure(iterJson='''{\n",
                "    \"iter_enabled\": true,\n",
                "    \"iter_list_is_const\": false,\n",
                "    \"iter_list\": \"listener_arns\",\n",
                "    \"iter_parameter\": \"listener_arn\"\n",
                "    }''')\n",
                "task.configure(conditionsJson='''{\n",
                "    \"condition_enabled\": true,\n",
                "    \"condition_cfg\": \"len(ListenerARNs)>0\",\n",
                "    \"condition_result\": true\n",
                "    }''')\n",
                "task.configure(outputName=\"modified_output\")\n",
                "\n",
                "(err, hdl, args) = task.validate(vars=vars())\n",
                "if err is None:\n",
                "    task.execute(aws_modify_listener_for_http_redirection, lego_printer=aws_modify_listener_for_http_redirection_printer, hdl=hdl, args=args)"
            ]
        },
        {
            "cell_type": "markdown",
            "id": "ddfe6833-aaf9-42b5-aa00-d759b2921ed0",
            "metadata": {
                "jupyter": {
                    "source_hidden": false
                },
                "name": "Conclusion",
                "orderProperties": [],
                "tags": [],
                "title": "Conclusion"
            },
            "source": [
                "### Conclusion\n",
                "In this Runbook, we demonstrated the use of unSkript's AWS actions and this runbook find out all the Application Load Balancer listeners without HTTP redirection and modify them for HTTP redirection. To view the full platform capabilities of unSkript please visit https://us.app.unskript.io"
            ]
        }
    ],
    "metadata": {
        "execution_data": {
            "environment_id": "1499f27c-6406-4fbd-bd1b-c6f92800018f",
            "environment_name": "Staging",
            "execution_id": "",
            "inputs_for_searched_lego": "",
            "notebook_id": "9293c014-b86c-47c7-a621-ac6b0c61ac08.ipynb",
            "parameters": [
                "region"
            ],
            "runbook_name": "Enforce HTTP Redirection across AWS ALB",
            "search_string": "",
            "show_tool_tip": false,
            "tenant_id": "982dba5f-d9df-48ae-a5bf-ec1fc94d4882",
            "tenant_url": "https://tenant-staging.alpha.unskript.io",
            "user_email_id": "harshal.bangre@unskript.com",
            "workflow_id": "d43f4d5b-504e-44fc-b14e-5f7cfc94945e"
        },
        "kernelspec": {
            "display_name": "Python 3.10.6 64-bit",
            "language": "python",
            "name": "python3"
        },
        "language_info": {
            "file_extension": ".py",
            "mimetype": "text/x-python",
            "name": "python",
            "pygments_lexer": "ipython3",
            "version": "3.10.6"
        },
        "parameterSchema": {
            "properties": {
                "region": {
                    "description": "Region of the ALB.",
                    "title": "region",
                    "type": "string"
                }
            },
            "required": [],
            "title": "Schema",
            "type": "object"
        },
        "parameterValues": null,
        "vscode": {
            "interpreter": {
                "hash": "e8899eb02dfbc033aab5733bdae1bd213fa031d40331094008e8673d99ebab63"
            }
        }
    },
    "nbformat": 4,
    "nbformat_minor": 5
}
