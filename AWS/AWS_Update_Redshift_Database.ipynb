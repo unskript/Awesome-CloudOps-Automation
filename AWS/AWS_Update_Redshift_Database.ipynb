{
 "cells": [
  {
   "cell_type": "markdown",
   "id": "5331e347-9cea-40fe-9828-959657edd35d",
   "metadata": {
    "name": "Introduction",
    "orderProperties": [],
    "tags": [],
    "title": "Introduction"
   },
   "source": [
    "<p>This Runbook takes data from an S3 bucket, and populates an AWS Redshift table with the data.</p>\n",
    "<p>The initial reason for this RunBook was to populate AWS Cost and Usage Reports (CUR) into Redshift &nbsp;The CUR is dumped into a S3 bucket. In order to run queries, it must be copied into a Redshift table.</p>\n",
    "<p>We have written a series of blog posts on this:</p>\n",
    "<p><a href=\"https://unskript.com/blog/keeping-your-cloud-costs-in-check-automated-aws-cost-charts-and-alerting/\" target=\"_blank\" rel=\"noopener\">https://unskript.com/blog/keeping-your-cloud-costs-in-check-automated-aws-cost-charts-and-alerting/</a></p>\n",
    "<p><a href=\"https://unskript.com/blog/cloud-costs-charting-daily-ec2-usage-and-cost/\" target=\"_blank\" rel=\"noopener\">https://unskript.com/blog/cloud-costs-charting-daily-ec2-usage-and-cost/</a></p>\n",
    "<p>&nbsp;</p>\n",
    "<h2>Prerequisites</h2>\n",
    "<p>&nbsp;</p>\n",
    "<p>Here are the steps you need to complete before you can run this runbook:</p>\n",
    "<ol>\n",
    "<li>&nbsp;Create a Cost and Usage Report at AWS (here's a <a href=\"https://docs.aws.amazon.com/cur/latest/userguide/cur-create.html\">step by step guide</a>)</li>\n",
    "<li>Create a AWS Secret that in Secrets Manager that has access to your AWS Redshift.&nbsp;</li>\n",
    "<li>Once your CUR report has started populating, you'll need to create a table in Redshift &nbsp;In your S3 bucket, there will be a folder for the year/month. Inside will be a file that ends in RedshiftCommands.sql\n",
    "<ol>\n",
    "<li>The first line (it's really long) creates the table.&nbsp; Run this is the RedShift query editor (V2).&nbsp;</li>\n",
    "<li>The second line is the query to update the table &nbsp;You'll need this for this runbook (create sql query - in the rebuildSQL variable)</li>\n",
    "</ol>\n",
    "</li>\n",
    "</ol>\n",
    "<p>Every month, you'll need to create the new table in RedShift manually. (this is a TODO for anyone interested in contributing!)&nbsp;</p>\n",
    "<p>&nbsp;</p>\n",
    "<h2>What this RunBook does</h2>\n",
    "<ol>\n",
    "<li>Gets the AWS SecretARN from Secrets Manager &nbsp;Given the secret_name input - this action will return the ARN required to make Redshift Queries,</li>\n",
    "<li>Create SQL queries. There are 2 queries to be run:\n",
    "<ol>\n",
    "<li>Truncate Table - this deletes all existing data (but keeps the columns).</li>\n",
    "<li>rebuildSQL - This makes the query to update the table with the latest data from S3 &nbsp;This query requires the Query from your RedshiftCommands.sq1 &nbsp;We just change the tablename into a variable so that it can be used month after month.&nbsp;</li>\n",
    "</ol>\n",
    "</li>\n",
    "<li>AWS Redshift Query - truncate.&nbsp; This applies the Truncate table query to your RedShift table.</li>\n",
    "<li>AWS Get Redshift Query Details - checks to see that the first query has completed before running the 2nd query</li>\n",
    "<li>AWS Redshift Query - truncate.</li>\n",
    "<li>AWS Redshift Query rebuild sql - this query repopulates the Redshift table.&nbsp; This may take a while. In this runbook - we do not look to see that the query has finished.&nbsp; We just wait a few moniutes before making additional calls on the table.</li>\n",
    "</ol>"
   ]
  },
  {
   "cell_type": "code",
   "execution_count": 10,
   "id": "d6578210-4baf-4e05-9076-a6042696b231",
   "metadata": {
    "accessType": "ACCESS_TYPE_UNSPECIFIED",
    "actionBashCommand": false,
    "actionCategories": [],
    "actionIsCheck": false,
    "actionNeedsCredential": true,
    "actionNextHop": [],
    "actionNextHopParameterMapping": {},
    "actionOutputType": "",
    "actionRequiredLinesInCode": [],
    "actionSupportsIteration": true,
    "actionSupportsPoll": true,
    "action_modified": false,
    "action_uuid": "1ce9f756a4f1503df353fd5e8df7ea32ebe801a93c607251fea1a5367861da89",
    "checkEnabled": false,
    "continueOnError": false,
    "createTime": "1970-01-01T00:00:00Z",
    "credentialsJson": {},
    "currentVersion": "0.1.0",
    "description": "Given a Secret Name - this Action returns the Secret ARN",
    "execution_data": {
     "last_date_success_run_cell": "2023-04-07T00:55:45.859Z"
    },
    "id": 189,
    "index": 189,
    "inputData": [
     {
      "region": {
       "constant": false,
       "value": "region"
      },
      "secret_name": {
       "constant": false,
       "value": "\"awsuser-doug-redshift\""
      }
     }
    ],
    "inputschema": [
     {
      "properties": {
       "region": {
        "description": "AWS Region.",
        "title": "Region",
        "type": "string"
       },
       "secret_name": {
        "description": "AWS Secret Name",
        "title": "secret_name",
        "type": "string"
       }
      },
      "required": [
       "region",
       "secret_name"
      ],
      "title": "aws_get_secrets_manager_secretARN",
      "type": "object"
     }
    ],
    "isUnskript": false,
    "legotype": "LEGO_TYPE_AWS",
    "name": "AWS Get Secrets Manager SecretARN",
    "nouns": [],
    "orderProperties": [
     "region",
     "secret_name"
    ],
    "output": {
     "type": ""
    },
    "outputParams": {
     "output_name": "secretArn",
     "output_name_enabled": true
    },
    "printOutput": true,
    "tags": [
     "aws_get_secrets_manager_secretARN"
    ],
    "verbs": []
   },
   "outputs": [],
   "source": [
    "##\n",
    "##  Copyright (c) 2023 unSkript, Inc\n",
    "##  All rights reserved.\n",
    "##\n",
    "\n",
    "from __future__ import annotations\n",
    "\n",
    "from typing import Optional\n",
    "\n",
    "from pydantic import BaseModel, Field\n",
    "\n",
    "\n",
    "from beartype import beartype\n",
    "@beartype\n",
    "def aws_get_secrets_manager_secretARN_printer(output):\n",
    "    if output is None:\n",
    "        return\n",
    "    pprint.pprint({\"secret\": output})\n",
    "\n",
    "\n",
    "@beartype\n",
    "@beartype\n",
    "@beartype\n",
    "def aws_get_secrets_manager_secretARN(handle, region: str, secret_name:str) -> str:\n",
    "\n",
    "\n",
    "    # Create a Secrets Manager client\n",
    "\n",
    "    client = handle.client(\n",
    "        service_name='secretsmanager',\n",
    "        region_name=region\n",
    "    )\n",
    "\n",
    "\n",
    "    get_secret_value_response = client.get_secret_value(\n",
    "        SecretId=secret_name\n",
    "        )\n",
    "\n",
    "    #print(get_secret_value_response)\n",
    "    # Decrypts secret using the associated KMS key.\n",
    "    secretArn = get_secret_value_response['ARN']\n",
    "    return secretArn\n",
    "\n",
    "\n",
    "\n",
    "\n",
    "task = Task(Workflow())\n",
    "task.configure(inputParamsJson='''{\n",
    "    \"region\": \"region\",\n",
    "    \"secret_name\": \"\\\\\"awsuser-doug-redshift\\\\\"\"\n",
    "    }''')\n",
    "task.configure(outputName=\"secretArn\")\n",
    "\n",
    "task.configure(printOutput=True)\n",
    "(err, hdl, args) = task.validate(vars=vars())\n",
    "if err is None:\n",
    "    task.execute(aws_get_secrets_manager_secretARN, lego_printer=aws_get_secrets_manager_secretARN_printer, hdl=hdl, args=args)"
   ]
  },
  {
   "cell_type": "code",
   "execution_count": 11,
   "id": "378bb118-1598-408e-9f2d-16b20a8f8a62",
   "metadata": {
    "credentialsJson": {},
    "customAction": true,
    "execution_data": {
     "last_date_success_run_cell": "2023-04-07T00:55:47.240Z"
    },
    "jupyter": {
     "source_hidden": true
    },
    "name": "create Queries",
    "orderProperties": [],
    "tags": [],
    "title": "create Queries"
   },
   "outputs": [],
   "source": [
    "import datetime\n",
    "\n",
    "today = datetime.datetime.now()\n",
    "\n",
    "yearmonth = today.strftime('%Y%m')\n",
    "month = today.strftime('%m')\n",
    "year =  today.strftime('%Y')\n",
    "yearmonthday = yearmonth +\"01\"\n",
    "#print(\"yearmonthday\",yearmonthday)\n",
    "if int(month) <12:\n",
    "    nextMonth = int(month)+1\n",
    "    if nextMonth < 10:\n",
    "        nextMonthStr = \"0\" + str(nextMonth)\n",
    "    else: \n",
    "        nextMonthStr = str(nextMonth)\n",
    "if int(month) == 12:\n",
    "    nextMonthStr = \"01\"\n",
    "    year = year +1   \n",
    "nextMonthYMD = year + nextMonthStr +\"01\"\n",
    "\n",
    "\n",
    "tableName = 'awsbilling'+ yearmonth\n",
    "dateRange = yearmonthday+'-'+nextMonthYMD\n",
    "#print(\"dateRange\", dateRange)\n",
    "\n",
    "TruncateSQL = f\"truncate table {tableName}\"\n",
    "print(\"TruncateSQL\", TruncateSQL)\n",
    "RebuildSql = f\"copy {tableName} from 's3://unskript-billing-doug/all/unskript-billing-doug/{dateRange}/unskript-billing-doug-RedshiftManifest.json' credentials     'aws_iam_role=arn:aws:iam::100498623390:role/service-role/AmazonRedshift-CommandsAccessRole-20230103T181457' region 'us-west-2'    GZIP CSV IGNOREHEADER 1 TIMEFORMAT 'auto' manifest;\"\n",
    "print(\"RebuildSql\", RebuildSql)\n",
    "\n"
   ]
  },
  {
   "cell_type": "code",
   "execution_count": 12,
   "id": "f0244b7e-176d-46a4-97db-a438de322d02",
   "metadata": {
    "accessType": "ACCESS_TYPE_UNSPECIFIED",
    "actionBashCommand": false,
    "actionCategories": [],
    "actionIsCheck": false,
    "actionNeedsCredential": true,
    "actionNextHop": [],
    "actionNextHopParameterMapping": {},
    "actionOutputType": "",
    "actionRequiredLinesInCode": [],
    "actionSupportsIteration": true,
    "actionSupportsPoll": true,
    "action_modified": false,
    "action_uuid": "edacb40b6b085473676c85af90fd36de2b23e8fd763ee25c787e8fd629c45773",
    "checkEnabled": false,
    "continueOnError": false,
    "createTime": "1970-01-01T00:00:00Z",
    "credentialsJson": {},
    "currentVersion": "0.1.0",
    "description": "Make a SQL Query to the given AWS Redshift database",
    "execution_data": {
     "last_date_success_run_cell": "2023-04-07T00:55:49.937Z"
    },
    "id": 246,
    "index": 246,
    "inputData": [
     {
      "cluster": {
       "constant": false,
       "value": "cluster"
      },
      "database": {
       "constant": false,
       "value": "database"
      },
      "query": {
       "constant": false,
       "value": "TruncateSQL"
      },
      "region": {
       "constant": false,
       "value": "region"
      },
      "secretArn": {
       "constant": false,
       "value": "secretArn"
      }
     }
    ],
    "inputschema": [
     {
      "properties": {
       "cluster": {
        "description": "Name of Redshift Cluster",
        "title": "cluster",
        "type": "string"
       },
       "database": {
        "description": "Name of your Redshift database",
        "title": "database",
        "type": "string"
       },
       "query": {
        "description": "sql query to run",
        "title": "query",
        "type": "string"
       },
       "region": {
        "description": "AWS Region.",
        "title": "Region",
        "type": "string"
       },
       "secretArn": {
        "description": "Value of your Secrets Manager ARN",
        "title": "secretArn",
        "type": "string"
       }
      },
      "required": [
       "region",
       "query",
       "cluster",
       "database",
       "secretArn"
      ],
      "title": "aws_create_redshift_query",
      "type": "object"
     }
    ],
    "isUnskript": false,
    "jupyter": {
     "source_hidden": true
    },
    "legotype": "LEGO_TYPE_AWS",
    "name": "AWS Redshift Query truncate",
    "nouns": [],
    "orderProperties": [
     "region",
     "query",
     "cluster",
     "database",
     "secretArn"
    ],
    "output": {
     "type": ""
    },
    "outputParams": {
     "output_name": "truncateId",
     "output_name_enabled": true
    },
    "printOutput": true,
    "tags": [
     "aws_create_redshift_query"
    ],
    "title": "AWS Redshift Query truncate",
    "verbs": []
   },
   "outputs": [],
   "source": [
    "##\n",
    "##  Copyright (c) 2021 unSkript, Inc\n",
    "##  All rights reserved.\n",
    "##\n",
    "\n",
    "\n",
    "from __future__ import annotations\n",
    "from pydantic import BaseModel, Field\n",
    "from typing import List, Dict\n",
    "from unskript.connectors.aws import aws_get_paginator\n",
    "import pprint\n",
    "from beartype import beartype\n",
    "\n",
    "\n",
    "from beartype import beartype\n",
    "@beartype\n",
    "def aws_create_redshift_query(handle, region: str,cluster:str, database:str, secretArn: str, query:str) -> str:\n",
    "\n",
    "    # Input param validation.\n",
    "    #major change\n",
    "    client = handle.client('redshift-data', region_name=region)\n",
    "    # define your query\n",
    "    query = query\n",
    "    # execute the query\n",
    "    response = client.execute_statement(\n",
    "        ClusterIdentifier=cluster,\n",
    "        Database=database,\n",
    "        SecretArn=secretArn,\n",
    "        Sql=query\n",
    "    )\n",
    "    resultId = response['Id']\n",
    "    print(response)\n",
    "    print(\"resultId\",resultId)\n",
    "\n",
    "\n",
    "    return resultId\n",
    "\n",
    "#make a change\n",
    "\n",
    "\n",
    "def unskript_default_printer(output):\n",
    "    if isinstance(output, (list, tuple)):\n",
    "        for item in output:\n",
    "            print(f'item: {item}')\n",
    "    elif isinstance(output, dict):\n",
    "        for item in output.items():\n",
    "            print(f'item: {item}')\n",
    "    else:\n",
    "        print(f'Output for {task.name}')\n",
    "        print(output)\n",
    "\n",
    "task = Task(Workflow())\n",
    "task.configure(inputParamsJson='''{\n",
    "    \"cluster\": \"cluster\",\n",
    "    \"database\": \"database\",\n",
    "    \"query\": \"TruncateSQL\",\n",
    "    \"region\": \"region\",\n",
    "    \"secretArn\": \"secretArn\"\n",
    "    }''')\n",
    "task.configure(outputName=\"truncateId\")\n",
    "task.configure(printOutput=True)\n",
    "(err, hdl, args) = task.validate(vars=vars())\n",
    "if err is None:\n",
    "    task.execute(aws_create_redshift_query, lego_printer=unskript_default_printer, hdl=hdl, args=args)"
   ]
  },
  {
   "cell_type": "code",
   "execution_count": 13,
   "id": "6d8836e9-0f5d-4d54-9aba-85563f8a4a3b",
   "metadata": {
    "accessType": "ACCESS_TYPE_UNSPECIFIED",
    "actionBashCommand": false,
    "actionCategories": [],
    "actionIsCheck": false,
    "actionNeedsCredential": true,
    "actionNextHop": [],
    "actionNextHopParameterMapping": {},
    "actionOutputType": "",
    "actionRequiredLinesInCode": [],
    "actionSupportsIteration": true,
    "actionSupportsPoll": true,
    "action_modified": false,
    "action_uuid": "26435cb53d995eccf75fd1e0692e611fcdb1b7e09511bbfe365f0e9a5abc416f",
    "checkEnabled": false,
    "continueOnError": false,
    "createTime": "1970-01-01T00:00:00Z",
    "credentialsJson": {},
    "currentVersion": "0.1.0",
    "description": "Given an QueryId, this Action will give you the status of the Query, along with other data like  the number of lines/",
    "execution_data": {
     "last_date_success_run_cell": "2023-04-07T00:55:52.723Z"
    },
    "id": 210,
    "index": 210,
    "inputData": [
     {
      "queryId": {
       "constant": false,
       "value": "truncateId"
      },
      "region": {
       "constant": false,
       "value": "region"
      }
     }
    ],
    "inputschema": [
     {
      "properties": {
       "queryId": {
        "description": "Id of Redshift Query",
        "title": "queryId",
        "type": "string"
       },
       "region": {
        "description": "AWS Region.",
        "title": "Region",
        "type": "string"
       }
      },
      "required": [
       "region",
       "queryId"
      ],
      "title": "aws_get_redshift_query_details",
      "type": "object"
     }
    ],
    "isUnskript": false,
    "legotype": "LEGO_TYPE_AWS",
    "name": "AWS Get Redshift Query Details",
    "nouns": [],
    "orderProperties": [
     "region",
     "queryId"
    ],
    "output": {
     "type": ""
    },
    "printOutput": true,
    "tags": [
     "aws_get_redshift_query_details"
    ],
    "verbs": []
   },
   "outputs": [],
   "source": [
    "from __future__ import annotations\n",
    "##\n",
    "##  Copyright (c) 2023 unSkript, Inc\n",
    "##  All rights reserved.\n",
    "##\n",
    "from pydantic import BaseModel, Field\n",
    "from typing import List, Dict\n",
    "from unskript.connectors.aws import aws_get_paginator\n",
    "import pprint\n",
    "from beartype import beartype\n",
    "\n",
    "\n",
    "from typing import Optional\n",
    "\n",
    "from pydantic import BaseModel, Field\n",
    "\n",
    "\n",
    "from beartype import beartype\n",
    "@beartype\n",
    "def aws_get_redshift_query_details(handle, region: str, queryId:str) -> Dict:\n",
    "\n",
    "    client = handle.client('redshift-data', region_name=region)\n",
    "    response = client.describe_statement(\n",
    "    Id=queryId\n",
    "    )\n",
    "    return response\n",
    "\n",
    "\n",
    "\n",
    "\n",
    "def unskript_default_printer(output):\n",
    "    if isinstance(output, (list, tuple)):\n",
    "        for item in output:\n",
    "            print(f'item: {item}')\n",
    "    elif isinstance(output, dict):\n",
    "        for item in output.items():\n",
    "            print(f'item: {item}')\n",
    "    else:\n",
    "        print(f'Output for {task.name}')\n",
    "        print(output)\n",
    "\n",
    "task = Task(Workflow())\n",
    "task.configure(inputParamsJson='''{\n",
    "    \"queryId\": \"truncateId\",\n",
    "    \"region\": \"region\"\n",
    "    }''')\n",
    "\n",
    "task.configure(printOutput=True)\n",
    "(err, hdl, args) = task.validate(vars=vars())\n",
    "if err is None:\n",
    "    task.execute(aws_get_redshift_query_details, lego_printer=unskript_default_printer, hdl=hdl, args=args)"
   ]
  },
  {
   "cell_type": "code",
   "execution_count": 14,
   "id": "bc3de8c7-1498-4f4d-a5db-6683eebd778d",
   "metadata": {
    "accessType": "ACCESS_TYPE_UNSPECIFIED",
    "actionBashCommand": false,
    "actionCategories": [],
    "actionIsCheck": false,
    "actionNeedsCredential": true,
    "actionNextHop": [],
    "actionNextHopParameterMapping": {},
    "actionOutputType": "",
    "actionRequiredLinesInCode": [],
    "actionSupportsIteration": true,
    "actionSupportsPoll": true,
    "action_modified": false,
    "action_uuid": "edacb40b6b085473676c85af90fd36de2b23e8fd763ee25c787e8fd629c45773",
    "checkEnabled": false,
    "continueOnError": false,
    "createTime": "1970-01-01T00:00:00Z",
    "credentialsJson": {},
    "currentVersion": "0.1.0",
    "description": "Make a SQL Query to the given AWS Redshift database",
    "execution_data": {
     "last_date_success_run_cell": "2023-04-07T00:56:01.597Z"
    },
    "id": 246,
    "index": 246,
    "inputData": [
     {
      "cluster": {
       "constant": false,
       "value": "cluster"
      },
      "database": {
       "constant": false,
       "value": "database"
      },
      "query": {
       "constant": false,
       "value": "RebuildSql"
      },
      "region": {
       "constant": false,
       "value": "region"
      },
      "secretArn": {
       "constant": false,
       "value": "secretArn"
      }
     }
    ],
    "inputschema": [
     {
      "properties": {
       "cluster": {
        "description": "Name of Redshift Cluster",
        "title": "cluster",
        "type": "string"
       },
       "database": {
        "description": "Name of your Redshift database",
        "title": "database",
        "type": "string"
       },
       "query": {
        "description": "sql query to run",
        "title": "query",
        "type": "string"
       },
       "region": {
        "description": "AWS Region.",
        "title": "Region",
        "type": "string"
       },
       "secretArn": {
        "description": "Value of your Secrets Manager ARN",
        "title": "secretArn",
        "type": "string"
       }
      },
      "required": [
       "region",
       "query",
       "cluster",
       "database",
       "secretArn"
      ],
      "title": "aws_create_redshift_query",
      "type": "object"
     }
    ],
    "isUnskript": false,
    "jupyter": {
     "source_hidden": true
    },
    "legotype": "LEGO_TYPE_AWS",
    "name": "AWS Redshift Query rebuild sql",
    "nouns": [],
    "orderProperties": [
     "region",
     "query",
     "cluster",
     "database",
     "secretArn"
    ],
    "output": {
     "type": ""
    },
    "printOutput": true,
    "tags": [
     "aws_create_redshift_query"
    ],
    "title": "AWS Redshift Query rebuild sql",
    "verbs": []
   },
   "outputs": [],
   "source": [
    "##\n",
    "##  Copyright (c) 2021 unSkript, Inc\n",
    "##  All rights reserved.\n",
    "##\n",
    "\n",
    "\n",
    "from __future__ import annotations\n",
    "from pydantic import BaseModel, Field\n",
    "from typing import List, Dict\n",
    "from unskript.connectors.aws import aws_get_paginator\n",
    "import pprint\n",
    "from beartype import beartype\n",
    "\n",
    "\n",
    "from beartype import beartype\n",
    "@beartype\n",
    "def aws_create_redshift_query(handle, region: str,cluster:str, database:str, secretArn: str, query:str) -> str:\n",
    "\n",
    "    # Input param validation.\n",
    "    #major change\n",
    "    client = handle.client('redshift-data', region_name=region)\n",
    "    # define your query\n",
    "    query = query\n",
    "    # execute the query\n",
    "    response = client.execute_statement(\n",
    "        ClusterIdentifier=cluster,\n",
    "        Database=database,\n",
    "        SecretArn=secretArn,\n",
    "        Sql=query\n",
    "    )\n",
    "    resultId = response['Id']\n",
    "    print(response)\n",
    "    print(\"resultId\",resultId)\n",
    "\n",
    "\n",
    "    return resultId\n",
    "\n",
    "#make a change\n",
    "\n",
    "\n",
    "def unskript_default_printer(output):\n",
    "    if isinstance(output, (list, tuple)):\n",
    "        for item in output:\n",
    "            print(f'item: {item}')\n",
    "    elif isinstance(output, dict):\n",
    "        for item in output.items():\n",
    "            print(f'item: {item}')\n",
    "    else:\n",
    "        print(f'Output for {task.name}')\n",
    "        print(output)\n",
    "\n",
    "task = Task(Workflow())\n",
    "task.configure(inputParamsJson='''{\n",
    "    \"cluster\": \"cluster\",\n",
    "    \"database\": \"database\",\n",
    "    \"query\": \"RebuildSql\",\n",
    "    \"region\": \"region\",\n",
    "    \"secretArn\": \"secretArn\"\n",
    "    }''')\n",
    "task.configure(printOutput=True)\n",
    "(err, hdl, args) = task.validate(vars=vars())\n",
    "if err is None:\n",
    "    task.execute(aws_create_redshift_query, lego_printer=unskript_default_printer, hdl=hdl, args=args)"
   ]
  }
 ],
 "metadata": {
  "execution_data": {
   "runbook_name": "AWS Redshift Update Database",
   "parameters": [
    "database",
    "region",
    "secret_name",
    "cluster"
   ]
  },
  "kernelspec": {
   "display_name": "Python 3.10.6 64-bit",
   "language": "python",
   "name": "python3"
  },
  "language_info": {
   "codemirror_mode": {
    "name": "ipython",
    "version": 3
   },
   "file_extension": ".py",
   "mimetype": "text/x-python",
   "name": "python",
   "nbconvert_exporter": "python",
   "pygments_lexer": "ipython3",
   "version": "3.10.6"
  },
  "parameterSchema": {
   "properties": {
    "cluster": {
     "default": "doug-billing-3",
     "description": "Redshift Cluster Name",
     "title": "cluster",
     "type": "string"
    },
    "database": {
     "default": "dev",
     "description": "redshift database name",
     "title": "database",
     "type": "string"
    },
    "region": {
     "default": "us-west-2",
     "description": "AWS Region",
     "title": "region",
     "type": "string"
    },
    "secret_name": {
     "default": "awsuser-doug-redshift",
     "description": "AWS Secret Name that can access Redshift",
     "title": "secret_name",
     "type": "string"
    }
   },
   "required": [],
   "title": "Schema",
   "type": "object"
  },
  "vscode": {
   "interpreter": {
    "hash": "b0fa6594d8f4cbf19f97940f81e996739fb7646882a419484c72d19e05852a7e"
   }
  }
 },
 "nbformat": 4,
 "nbformat_minor": 5
}