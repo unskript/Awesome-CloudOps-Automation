{
 "cells": [
  {
   "cell_type": "markdown",
   "id": "5424264e-6195-4cf9-906b-24b02d5a83f3",
   "metadata": {
    "jupyter": {
     "source_hidden": false
    },
    "name": "Steps Overview",
    "orderProperties": [],
    "tags": [],
    "title": "Steps Overview"
   },
   "source": [
    "<center><img src=\"https://storage.googleapis.com/unskript-website/assets/favicon.png\" alt=\"unSkript.com\" width=\"100\" height=\"100\">\n",
    "<h1 id=\"unSkript-Runbooks\">unSkript Runbooks<a class=\"jp-InternalAnchorLink\" href=\"#unSkript-Runbooks\" target=\"_self\">&para;</a></h1>\n",
    "<div class=\"alert alert-block alert-success\">\n",
    "<h3 id=\"Objective\">Objective<a class=\"jp-InternalAnchorLink\" href=\"#Objective\" target=\"_self\">&para;</a></h3>\n",
    "<br><strong style=\"color: #000000;\"><em>Find and Delete ECS (Elastic Container Service) Clusters with Low CPU Utilization</em></strong></div>\n",
    "</center>\n",
    "<p>&nbsp;</p>\n",
    "<center>\n",
    "<h2 id=\"Delete-ECS-Clusters-with-Low-CPU-Utilization\"><u>Delete ECS Clusters with Low CPU Utilization</u><a class=\"jp-InternalAnchorLink\" href=\"#Delete-ECS-Clusters-with-Low-CPU-Utilization\" target=\"_self\">&para;</a></h2>\n",
    "</center>\n",
    "<h1 id=\"Steps-Overview\">Steps Overview<a class=\"jp-InternalAnchorLink\" href=\"#Steps-Overview\" target=\"_self\">&para;</a></h1>\n",
    "<p>1)<a href=\"#1\" target=\"_self\" rel=\"noopener\"> Find ECS Clusters with Low CPU Utilization</a><br>2)<a href=\"#2\" target=\"_self\" rel=\"noopener\"> Delete ECS Clusters</a></p>"
   ]
  },
  {
   "cell_type": "code",
   "execution_count": null,
   "id": "e1f146c9-5180-4459-9c82-cf0e1da02785",
   "metadata": {
    "collapsed": true,
    "credentialsJson": {},
    "customAction": true,
    "execution_data": {
     "last_date_success_run_cell": "2023-04-27T10:58:26.965Z"
    },
    "jupyter": {
     "outputs_hidden": true,
     "source_hidden": true
    },
    "name": "Input verification",
    "orderProperties": [],
    "tags": [],
    "title": "Input verification"
   },
   "outputs": [],
   "source": [
    "if region == None:\n",
    "    region = ''\n",
    "if cluster_names and not region:\n",
    "    raise SystemExit(\"Provide a region for the ECS Cluster names!\")"
   ]
  },
  {
   "cell_type": "markdown",
   "id": "908f4dcb-8483-44fc-8f81-ce2502e03093",
   "metadata": {
    "jupyter": {
     "source_hidden": false
    },
    "name": "Step 1",
    "orderProperties": [],
    "tags": [],
    "title": "Step 1"
   },
   "source": [
    "<h3 id=\"Find-ECS-Clusters-with-Low-CPU-Utilization\"><a id=\"1\" target=\"_self\" rel=\"nofollow\"></a>Find ECS Clusters with Low CPU Utilization</h3>\n",
    "<p>Using unSkript's Find ECS Clusters with Low CPU Utilization action, we will find clusters with a low CPU utilization given a threshold percentage using the&nbsp;<span style=\"color: rgb(53, 152, 219);\">CPUUtilization <span style=\"color: rgb(0, 0, 0);\">attribue found in the statistics list of&nbsp; <em>descibe_clusters</em> API.</span></span></p>\n",
    "<blockquote>\n",
    "<p>This action takes the following parameters: <code>region, threshold</code></p>\n",
    "</blockquote>\n",
    "<blockquote>\n",
    "<p>This action captures the following output: <code>low_cpu_clusters</code></p>\n",
    "</blockquote>"
   ]
  },
  {
   "cell_type": "code",
   "execution_count": null,
   "id": "479be1c9-ac15-43f7-9c17-0736c9c41a31",
   "metadata": {
    "actionBashCommand": false,
    "actionCategories": [
     "CATEGORY_TYPE_DEVOPS",
     "CATEGORY_TYPE_SRE",
     "CATEGORY_TYPE_AWS",
     "CATEGORY_TYPE_AWS_EC2",
     "CATEGORY_TYPE_AWS_EBC"
    ],
    "actionDescription": "This action searches for clusters that have low CPU utilization.",
    "actionEntryFunction": "aws_list_clusters_with_low_utilization",
    "actionIsCheck": true,
    "actionIsRemediation": false,
    "actionNeedsCredential": true,
    "actionNextHop": [
     "6ad946fb1afd19286a8e7771e0f8e5566e4fdd54e3e2473385b5ac8e206e0a49"
    ],
    "actionNextHopParameterMapping": {},
    "actionNouns": null,
    "actionOutputType": "ACTION_OUTPUT_TYPE_LIST",
    "actionSupportsIteration": true,
    "actionSupportsPoll": true,
    "actionTitle": "AWS List ECS Clusters with Low CPU Utilization",
    "actionType": "LEGO_TYPE_AWS",
    "actionVerbs": null,
    "actionVersion": "1.0.0",
    "action_modified": false,
    "action_uuid": "25235bca4ec5a70c9c8a83bcdeff08c66bd9cb1a3a61a0e3136958631329d8ce",
    "collapsed": true,
    "condition_enabled": true,
    "continueOnError": false,
    "credentialsJson": {},
    "description": "This action searches for clusters that have low CPU utilization.",
    "id": 1,
    "index": 1,
    "inputData": [
     {
      "region": {
       "constant": false,
       "value": "region"
      },
      "threshold": {
       "constant": false,
       "value": "int(threshold)"
      }
     }
    ],
    "inputschema": [
     {
      "properties": {
       "region": {
        "default": "",
        "description": "AWS Region.",
        "title": "Region",
        "type": "string"
       },
       "threshold": {
        "default": 10,
        "description": "Threshold to check for cpu utilization is less than threshold.",
        "title": "Threshold (In percent)",
        "type": "integer"
       }
      },
      "required": [],
      "title": "aws_list_clusters_with_low_utilization",
      "type": "object"
     }
    ],
    "jupyter": {
     "outputs_hidden": true,
     "source_hidden": true
    },
    "language": "python",
    "legotype": "LEGO_TYPE_AWS",
    "name": "AWS List ECS Clusters with Low CPU Utilization",
    "orderProperties": [
     "region",
     "threshold"
    ],
    "outputParams": {
     "output_name": "low_cpu_clusters",
     "output_name_enabled": true,
     "output_runbook_enabled": false,
     "output_runbook_name": ""
    },
    "printOutput": true,
    "startcondition": "not cluster_names",
    "tags": [
     "aws_list_clusters_with_low_utilization"
    ],
    "uuid": "25235bca4ec5a70c9c8a83bcdeff08c66bd9cb1a3a61a0e3136958631329d8ce",
    "version": "1.0.0"
   },
   "outputs": [],
   "source": [
    "##\n",
    "##  Copyright (c) 2021 unSkript, Inc\n",
    "##  All rights reserved.\n",
    "##\n",
    "import pprint\n",
    "from typing import Optional, Tuple\n",
    "from pydantic import BaseModel, Field\n",
    "from unskript.connectors.aws import aws_get_paginator\n",
    "from unskript.legos.aws.aws_list_all_regions.aws_list_all_regions import aws_list_all_regions\n",
    "\n",
    "\n",
    "from beartype import beartype\n",
    "@beartype\n",
    "def aws_list_clusters_with_low_utilization_printer(output):\n",
    "    if output is None:\n",
    "        return\n",
    "\n",
    "    pprint.pprint(output)\n",
    "\n",
    "\n",
    "@beartype\n",
    "def aws_list_clusters_with_low_utilization(handle, region: str = \"\", threshold: int = 10) -> Tuple:\n",
    "    \"\"\"aws_list_clusters_with_low_utilization Returns an array of ecs clusters.\n",
    "\n",
    "        :type region: string\n",
    "        :param region: AWS Region.\n",
    "\n",
    "        :type threshold: int\n",
    "        :param threshold: (In percent) Threshold to check for cpu utilization\n",
    "        is less than threshold.\n",
    "\n",
    "        :rtype: List of clusters for low CPU utilization\n",
    "    \"\"\"\n",
    "    result = []\n",
    "    all_regions = [region]\n",
    "    if not region:\n",
    "        all_regions = aws_list_all_regions(handle)\n",
    "\n",
    "    for reg in all_regions:\n",
    "        try:\n",
    "            ecs_Client = handle.client('ecs', region_name=reg)\n",
    "            response = aws_get_paginator(ecs_Client, \"list_clusters\", \"clusterArns\")\n",
    "            for cluster in response:\n",
    "                cluster_dict = {}\n",
    "                cluster_name = cluster.split('/')[1]\n",
    "                stats = ecs_Client.describe_clusters(clusters=[cluster])['clusters'][0]['statistics']\n",
    "                for stat in stats:\n",
    "                    if stat['name'] == 'CPUUtilization':\n",
    "                        cpu_utilization = int(stat['value'])\n",
    "                        if cpu_utilization < threshold:\n",
    "                            cluster_dict[\"cluster_name\"] = cluster_name\n",
    "                            cluster_dict[\"region\"] = reg\n",
    "                            result.append(cluster_dict)\n",
    "        except Exception:\n",
    "            pass\n",
    "\n",
    "    if len(result) != 0:\n",
    "        return (False, result)\n",
    "    return (True, None)\n",
    "\n",
    "\n",
    "task = Task(Workflow())\n",
    "task.configure(inputParamsJson='''{\n",
    "    \"region\": \"region\",\n",
    "    \"threshold\": \"int(threshold)\"\n",
    "    }''')\n",
    "task.configure(conditionsJson='''{\n",
    "    \"condition_enabled\": true,\n",
    "    \"condition_cfg\": \"not cluster_names\",\n",
    "    \"condition_result\": true\n",
    "    }''')\n",
    "\n",
    "task.configure(outputName=\"low_cpu_clusters\")\n",
    "\n",
    "task.configure(printOutput=True)\n",
    "(err, hdl, args) = task.validate(vars=vars())\n",
    "if err is None:\n",
    "    task.execute(aws_list_clusters_with_low_utilization, lego_printer=aws_list_clusters_with_low_utilization_printer, hdl=hdl, args=args)"
   ]
  },
  {
   "cell_type": "markdown",
   "id": "199591ef-cb3a-49b7-b515-3c6998050320",
   "metadata": {
    "jupyter": {
     "source_hidden": false
    },
    "name": "Step 2A",
    "orderProperties": [],
    "tags": [],
    "title": "Step 2A"
   },
   "source": [
    "<h3 id=\"Create-List-of-Low-CPU-Utilization-Clusters\">Create List of Low CPU Utilization Clusters</h3>\n",
    "<p>This action filters regions that have no clusters with low CPU utilization and creates a list of those that have them.</p>\n",
    "<blockquote>\n",
    "<p>This action takes the following parameters: <code>None</code></p>\n",
    "</blockquote>\n",
    "<blockquote>\n",
    "<p>This action captures the following output: <code>all_low_cpu_clusters</code></p>\n",
    "</blockquote>"
   ]
  },
  {
   "cell_type": "code",
   "execution_count": null,
   "id": "6a10e980-9f17-4436-9166-90ea130aa316",
   "metadata": {
    "collapsed": true,
    "credentialsJson": {},
    "customAction": true,
    "execution_data": {
     "last_date_success_run_cell": "2023-04-27T10:59:05.263Z"
    },
    "jupyter": {
     "outputs_hidden": true,
     "source_hidden": true
    },
    "name": "Create List of Low CPU Utilization Clusters",
    "orderProperties": [],
    "tags": [],
    "title": "Create List of Low CPU Utilization Clusters"
   },
   "outputs": [],
   "source": [
    "all_low_cpu_clusters = []\n",
    "try:\n",
    "    if low_cpu_clusters[0] == False:\n",
    "        if len(low_cpu_clusters[1])!=0:\n",
    "            all_low_cpu_clusters=low_cpu_clusters[1]\n",
    "except Exception:\n",
    "    for vol_id in volume_ids:\n",
    "        data_dict = {}\n",
    "        data_dict[\"region\"] = region\n",
    "        data_dict[\"volume_id\"] = vol_id\n",
    "        all_low_cpu_clusters.append(data_dict)\n",
    "print(all_low_cpu_clusters)\n",
    "task.configure(outputName=\"all_low_cpu_clusters\")"
   ]
  },
  {
   "cell_type": "markdown",
   "id": "978d3b61-2fd9-461d-89bd-534d2dcf3b63",
   "metadata": {
    "jupyter": {
     "source_hidden": false
    },
    "name": "Step 2",
    "orderProperties": [],
    "tags": [],
    "title": "Step 2"
   },
   "source": [
    "<h3 id=\"Delete-Low-Usage-EBS-Volumes\"><a id=\"2\" target=\"_self\" rel=\"nofollow\"></a>Delete ECS Cluster</h3>\n",
    "<p>This action deletes clusters found in Step 1.&nbsp;</p>\n",
    "<blockquote>\n",
    "<p>This action takes the following parameters:&nbsp;<code>volume_id, region</code></p>\n",
    "</blockquote>"
   ]
  },
  {
   "cell_type": "code",
   "execution_count": null,
   "id": "b96c00e4-7519-49e3-bcd4-d1b7f921759c",
   "metadata": {
    "actionBashCommand": false,
    "actionCategories": [
     "CATEGORY_TYPE_DEVOPS",
     "CATEGORY_TYPE_SRE",
     "CATEGORY_TYPE_AWS"
    ],
    "actionDescription": "Delete AWS ECS Cluster",
    "actionEntryFunction": "aws_delete_ecs_cluster",
    "actionIsCheck": false,
    "actionIsRemediation": false,
    "actionNeedsCredential": true,
    "actionNextHop": null,
    "actionNextHopParameterMapping": null,
    "actionNouns": null,
    "actionOutputType": "ACTION_OUTPUT_TYPE_DICT",
    "actionSupportsIteration": true,
    "actionSupportsPoll": true,
    "actionTitle": "AWS Delete ECS Cluster",
    "actionType": "LEGO_TYPE_AWS",
    "actionVerbs": null,
    "actionVersion": "1.0.0",
    "action_modified": false,
    "action_uuid": "1bdeb0fd1addf317585a71f771a1706ab9ae888f33dbddaeb126be1e454ff3a6",
    "condition_enabled": true,
    "continueOnError": false,
    "credentialsJson": {},
    "description": "Delete AWS ECS Cluster",
    "id": 1,
    "index": 1,
    "inputData": [
     {
      "cluster_name": {
       "constant": false,
       "value": "\"iter.get(\\\\\"cluster_name\\\\\")\""
      },
      "region": {
       "constant": false,
       "value": "\"iter.get(\\\\\"region\\\\\")\""
      }
     }
    ],
    "inputschema": [
     {
      "properties": {
       "cluster_name": {
        "description": "ECS Cluster name that needs to be deleted",
        "title": "ECS Cluster Name",
        "type": "string"
       },
       "region": {
        "description": "AWS Region.",
        "title": "Region",
        "type": "string"
       }
      },
      "required": [
       "region",
       "cluster_name"
      ],
      "title": "aws_delete_ecs_cluster",
      "type": "object"
     }
    ],
    "iterData": [
     {
      "iter_enabled": true,
      "iter_item": {
       "cluster_name": "cluster_name",
       "region": "region"
      },
      "iter_list": {
       "constant": false,
       "objectItems": true,
       "value": "all_low_cpu_clusters"
      }
     }
    ],
    "jupyter": {
     "source_hidden": true
    },
    "language": "python",
    "legotype": "LEGO_TYPE_AWS",
    "name": "AWS Delete ECS Cluster",
    "orderProperties": [
     "region",
     "cluster_name"
    ],
    "printOutput": true,
    "startcondition": "len(all_low_cpu_clusters)!=0",
    "tags": [
     "aws_delete_ecs_cluster"
    ],
    "uuid": "1bdeb0fd1addf317585a71f771a1706ab9ae888f33dbddaeb126be1e454ff3a6",
    "version": "1.0.0"
   },
   "outputs": [],
   "source": [
    "##\n",
    "# Copyright (c) 2021 unSkript, Inc\n",
    "# All rights reserved.\n",
    "##\n",
    "from pydantic import BaseModel, Field\n",
    "from typing import Optional, Dict\n",
    "import pprint\n",
    "\n",
    "\n",
    "from beartype import beartype\n",
    "@beartype\n",
    "def aws_delete_ecs_cluster_printer(output):\n",
    "    if output is None:\n",
    "        return\n",
    "    pprint.pprint(output)\n",
    "\n",
    "\n",
    "@beartype\n",
    "def aws_delete_ecs_cluster(handle, region: str, cluster_name: str) -> Dict:\n",
    "    \"\"\"aws_delete_ecs_cluster dict of loadbalancers info.\n",
    "\n",
    "        :type region: string\n",
    "        :param region: AWS Region.\n",
    "\n",
    "        :type cluster_name: string\n",
    "        :param cluster_name: ECS Cluster name\n",
    "\n",
    "        :rtype: dict of load balancers info.\n",
    "    \"\"\"\n",
    "    try:\n",
    "        ec2Client = handle.client('ecs', region_name=region)\n",
    "        response = ec2Client.delete_cluster(cluster=cluster_name)\n",
    "        return response\n",
    "    except Exception as e:\n",
    "        raise Exception(e)\n",
    "\n",
    "\n",
    "\n",
    "\n",
    "task = Task(Workflow())\n",
    "task.configure(continueOnError=False)\n",
    "task.configure(inputParamsJson='''{\n",
    "    \"region\": \"iter.get(\\\\\"region\\\\\")\",\n",
    "    \"cluster_name\": \"iter.get(\\\\\"cluster_name\\\\\")\"\n",
    "    }''')\n",
    "task.configure(iterJson='''{\n",
    "    \"iter_enabled\": true,\n",
    "    \"iter_list_is_const\": false,\n",
    "    \"iter_list\": \"all_low_cpu_clusters\",\n",
    "    \"iter_parameter\": [\"region\",\"cluster_name\"]\n",
    "    }''')\n",
    "task.configure(conditionsJson='''{\n",
    "    \"condition_enabled\": true,\n",
    "    \"condition_cfg\": \"len(all_low_cpu_clusters)!=0\",\n",
    "    \"condition_result\": true\n",
    "    }''')\n",
    "\n",
    "task.configure(printOutput=True)\n",
    "(err, hdl, args) = task.validate(vars=vars())\n",
    "if err is None:\n",
    "    task.execute(aws_delete_ecs_cluster, lego_printer=aws_delete_ecs_cluster_printer, hdl=hdl, args=args)"
   ]
  },
  {
   "cell_type": "markdown",
   "id": "44a6cf05-385b-445d-a503-ad4aa607a568",
   "metadata": {
    "jupyter": {
     "source_hidden": false
    },
    "name": "Conclusion",
    "orderProperties": [],
    "tags": [],
    "title": "Conclusion"
   },
   "source": [
    "<h3 id=\"Conclusion\">Conclusion<a class=\"jp-InternalAnchorLink\" href=\"#Conclusion\" target=\"_self\">&para;</a></h3>\n",
    "<p>In this Runbook, we were able to filter low CPU utilization ECS clusters given threshold percentage and delete them. To view the full platform capabilities of unSkript please visit <a href=\"https://us.app.unskript.io\" target=\"_blank\" rel=\"noopener\">us.app.unskript.io</a></p>"
   ]
  }
 ],
 "metadata": {
  "execution_data": {
   "runbook_name": "Delete ECS Clusters with Low CPU Utilization",
   "parameters": [
    "region",
    "threshold_days"
   ]
  },
  "kernelspec": {
   "display_name": "unSkript (Build: 1169)",
   "language": "python",
   "name": "python3"
  },
  "language_info": {
   "codemirror_mode": {
    "name": "ipython",
    "version": 3
   },
   "file_extension": ".py",
   "mimetype": "text/x-python",
   "name": "python",
   "nbconvert_exporter": "python",
   "pygments_lexer": "ipython3",
   "version": "3.10.6"
  },
  "outputParameterSchema": {
   "properties": {},
   "required": [],
   "title": "Schema",
   "type": "object"
  },
  "parameterSchema": {
   "properties": {
    "cluster_names": {
     "description": "List of ECS cluster names",
     "title": "cluster_names",
     "type": "array"
    },
    "region": {
     "description": "AWS Region to get the EBS volumes from. \"us-west-2\". If nothing is given all regions will be considered.",
     "title": "region",
     "type": "string"
    },
    "threshold": {
     "default": 10,
     "description": "Threshold (in percent) to check for the CPU utilization of clusters below the given threshold.",
     "title": "threshold",
     "type": "number"
    }
   },
   "required": [],
   "title": "Schema",
   "type": "object"
  },
  "vscode": {
   "interpreter": {
    "hash": "b0fa6594d8f4cbf19f97940f81e996739fb7646882a419484c72d19e05852a7e"
   }
  }
 },
 "nbformat": 4,
 "nbformat_minor": 5
}