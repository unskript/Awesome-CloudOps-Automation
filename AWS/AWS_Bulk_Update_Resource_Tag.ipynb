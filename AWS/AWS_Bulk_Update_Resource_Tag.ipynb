{
 "cells": [
  {
   "cell_type": "markdown",
   "id": "79251bc7-c6cd-4344-a8d5-754bf62eb17e",
   "metadata": {
    "jupyter": {
     "source_hidden": false
    },
    "name": "Update Tags for AWS Resources",
    "orderProperties": [],
    "tags": [],
    "title": "Update Tags for AWS Resources"
   },
   "source": [
    "<p><img src=\"https://storage.googleapis.com/unskript-website/assets/favicon.png\" alt=\"unSkript.com\" width=\"100\" height=\"100\"></p>\n",
    "<h1 id=\"unSkript-Runbooks-&para;\">unSkript Runbooks <a class=\"jp-InternalAnchorLink\" href=\"#-unSkript-Runbooks-\" target=\"_self\" rel=\"noopener\">&para;</a><a class=\"jp-InternalAnchorLink\" href=\"#unSkript-Runbooks-&para;\" target=\"_self\">&para;</a></h1>\n",
    "<div class=\"alert alert-block alert-success\"><strong>&nbsp;This runbook demonstrates How to Update Tags for AWS Resources using unSkript legos.</strong></div>\n",
    "<p>&nbsp;</p>\n",
    "<center>\n",
    "<h2 id=\"Enforce-Mandatory-Tags-Across-All-AWS-Resources&para;\">Update Tags for selected AWS Resources<a class=\"jp-InternalAnchorLink\" href=\"#Enforce-Mandatory-Tags-Across-All-AWS-Resources\" target=\"_self\" rel=\"noopener\">&para;</a><a class=\"jp-InternalAnchorLink\" href=\"#Enforce-Mandatory-Tags-Across-All-AWS-Resources&para;\" target=\"_self\">&para;</a></h2>\n",
    "</center>\n",
    "<h1 id=\"Steps-Overview&para;\">Steps Overview<a class=\"jp-InternalAnchorLink\" href=\"#Steps-Overview\" target=\"_self\" rel=\"noopener\">&para;</a><a class=\"jp-InternalAnchorLink\" href=\"#Steps-Overview&para;\" target=\"_self\">&para;</a></h1>\n",
    "<ol>\n",
    "<li>List all the Resources ARNs in the given region with the selected tag.</li>\n",
    "<li>WE'll print a list of tagged resources along with the current value of the tag. Select and change as desired.</li>\n",
    "<li>Update the Selected tags at AWS.</li>\n",
    "</ol>"
   ]
  },
  {
   "cell_type": "code",
   "execution_count": 15,
   "id": "0ec169e9-f3f2-400d-9b58-e4a598769e61",
   "metadata": {
    "accessType": "ACCESS_TYPE_UNSPECIFIED",
    "actionBashCommand": false,
    "actionNeedsCredential": true,
    "actionRequiredLinesInCode": [],
    "actionSupportsIteration": true,
    "actionSupportsPoll": true,
    "action_modified": true,
    "action_uuid": "aee6cabb55096d5cf6098faa7e4a94135e8f5b0572b36d4b3252d7745fae595b",
    "continueOnError": false,
    "createTime": "1970-01-01T00:00:00Z",
    "credentialsJson": {},
    "currentVersion": "0.1.0",
    "customCell": true,
    "description": "AWS Get Untagged Resources",
    "execution_data": {
     "last_date_success_run_cell": "2023-06-09T16:26:07.832Z"
    },
    "id": 187,
    "index": 187,
    "inputData": [
     {
      "new_owner": {
       "constant": false,
       "value": "new_value"
      },
      "region": {
       "constant": false,
       "value": "Region"
      },
      "tag": {
       "constant": false,
       "value": "Tag_Key"
      },
      "tag_value": {
       "constant": false,
       "value": "current_value"
      }
     }
    ],
    "inputschema": [
     {
      "properties": {
       "new_owner": {
        "default": "new_owner",
        "description": "The new Owner of the discovered resources",
        "title": "new_owner",
        "type": "string"
       },
       "region": {
        "default": "",
        "description": "AWS Region.",
        "title": "Region",
        "type": "string"
       },
       "tag": {
        "default": "Tag_Key",
        "description": "The Tag to search for",
        "title": "tag",
        "type": "string"
       },
       "tag_value": {
        "default": "current_owner",
        "description": "This Action will pull all resources with this value as owner.",
        "title": "tag_value",
        "type": "string"
       }
      },
      "required": [
       "new_owner",
       "region",
       "tag",
       "tag_value"
      ],
      "title": "aws_get_resources_with_tag",
      "type": "object"
     }
    ],
    "jupyter": {
     "source_hidden": true
    },
    "legotype": "LEGO_TYPE_AWS",
    "name": "AWS Get Resources With Tag",
    "nouns": [
     "aws",
     "resources"
    ],
    "orderProperties": [
     "region",
     "tag",
     "tag_value",
     "new_owner"
    ],
    "output": {
     "type": ""
    },
    "outputParams": {
     "output_name": "taggedResources",
     "output_name_enabled": true,
     "output_runbook_enabled": false,
     "output_runbook_name": ""
    },
    "printOutput": true,
    "service_id_enabled": false,
    "tags": [
     "aws_get_untagged_resources"
    ],
    "title": "AWS Get Resources With Tag",
    "verbs": [
     "list"
    ]
   },
   "outputs": [],
   "source": [
    "##  Copyright (c) 2021 unSkript, Inc\n",
    "##  All rights reserved.\n",
    "##\n",
    "from typing import List, Dict\n",
    "from pydantic import BaseModel, Field\n",
    "from unskript.connectors.aws import aws_get_paginator\n",
    "import pprint\n",
    "\n",
    "from beartype import beartype\n",
    "@beartype\n",
    "def aws_get_resources_with_tag_printer(output):\n",
    "\n",
    "    pprint.pprint(f\"There are {len(output)} resources with tag {Tag_Key} with value {tag_value}.\" )\n",
    "\n",
    "\n",
    "@beartype\n",
    "def aws_get_resources_with_tag(handle, region: str, tag:str, tag_value:str, new_owner:str) -> List:\n",
    "\n",
    "\n",
    "    ec2Client = handle.client('resourcegroupstaggingapi', region_name=region)\n",
    "    result = []\n",
    "\n",
    "\n",
    "    try:\n",
    "        response = aws_get_paginator(ec2Client, \"get_resources\", \"ResourceTagMappingList\")\n",
    "        for resources in response:\n",
    "            if  resources[\"Tags\"]:\n",
    "                #has tags\n",
    "                #print(tagged_instance)\n",
    "                #get all the keys for the instance\n",
    "                for kv in resources['Tags']:\n",
    "                    key = kv[\"Key\"]\n",
    "                    value = kv[\"Value\"]\n",
    "                    if tag == key and tag_value == value:\n",
    "                        result.append(resources[\"ResourceARN\"])\n",
    "\n",
    "    except Exception as error:\n",
    "        result.append({\"error\":error})\n",
    "    pprint.pprint(f\"There are {len(result)} resources with tag {Tag_Key} with value {tag_value}. If you continue, we'll replace {tag_value} with {new_owner}\" )\n",
    "    return result\n",
    "\n",
    "\n",
    "task = Task(Workflow())\n",
    "task.configure(printOutput=True)\n",
    "task.configure(inputParamsJson='''{\n",
    "    \"new_owner\": \"new_value\",\n",
    "    \"region\": \"Region\",\n",
    "    \"tag\": \"Tag_Key\",\n",
    "    \"tag_value\": \"current_value\"\n",
    "    }''')\n",
    "task.configure(outputName=\"taggedResources\")\n",
    "\n",
    "(err, hdl, args) = task.validate(vars=vars())\n",
    "if err is None:\n",
    "    task.execute(aws_get_resources_with_tag, lego_printer=aws_get_resources_with_tag_printer, hdl=hdl, args=args)"
   ]
  },
  {
   "cell_type": "markdown",
   "id": "ce65fdd0-ee64-42d0-90a6-0fe1c0f54608",
   "metadata": {
    "jupyter": {
     "source_hidden": false
    },
    "name": "AWS Attach Tags to Resources",
    "orderProperties": [],
    "tags": [],
    "title": "AWS Attach Tags to Resources"
   },
   "source": [
    "Here we will use unSkript AWS Attach Tags to Resources Lego. This lego take handle, resource_arn: list, tag_key: str, tag_value: str, region: str as input. This input is used to attach mandatory tags to all untagged Resources."
   ]
  },
  {
   "cell_type": "code",
   "execution_count": 14,
   "id": "cdba6167-a94a-4985-9caf-50c5de52f8a5",
   "metadata": {
    "actionBashCommand": false,
    "actionCategories": [
     "CATEGORY_TYPE_COST_OPT",
     "CATEGORY_TYPE_DEVOPS",
     "CATEGORY_TYPE_AWS"
    ],
    "actionDescription": "AWS Attach Tags to Resources",
    "actionEntryFunction": "aws_attach_tags_to_resources",
    "actionIsCheck": false,
    "actionIsRemediation": false,
    "actionNeedsCredential": true,
    "actionNextHop": null,
    "actionNextHopParameterMapping": null,
    "actionNouns": null,
    "actionOutputType": "ACTION_OUTPUT_TYPE_DICT",
    "actionSupportsIteration": true,
    "actionSupportsPoll": true,
    "actionTitle": "AWS Attach Tags to Resources",
    "actionType": "LEGO_TYPE_AWS",
    "actionVerbs": null,
    "actionVersion": "1.0.0",
    "action_modified": false,
    "action_uuid": "878cb7819ecb4687ecfa8c6143365d10fe6b127adeb4a27fd71d06a3a2243d22",
    "continueOnError": false,
    "credentialsJson": {},
    "description": "AWS Attach Tags to Resources",
    "execution_data": {
     "last_date_success_run_cell": "2023-06-09T16:26:01.445Z"
    },
    "id": 2,
    "index": 2,
    "inputData": [
     {
      "region": {
       "constant": false,
       "value": "Region"
      },
      "resource_arn": {
       "constant": false,
       "value": "taggedResources"
      },
      "tag_key": {
       "constant": false,
       "value": "Tag_Key"
      },
      "tag_value": {
       "constant": false,
       "value": "new_value"
      }
     }
    ],
    "inputschema": [
     {
      "properties": {
       "region": {
        "description": "AWS Region.",
        "title": "Region",
        "type": "string"
       },
       "resource_arn": {
        "description": "Resource ARNs.",
        "items": {},
        "title": "Resource ARN",
        "type": "array"
       },
       "tag_key": {
        "description": "Resource Tag Key.",
        "title": "Tag Key",
        "type": "string"
       },
       "tag_value": {
        "description": "Resource Tag Value.",
        "title": "Tag Value",
        "type": "string"
       }
      },
      "required": [
       "region",
       "resource_arn",
       "tag_key",
       "tag_value"
      ],
      "title": "aws_attach_tags_to_resources",
      "type": "object"
     }
    ],
    "iterData": [
     {
      "iter_enabled": false,
      "iter_item": "resource_arn",
      "iter_list": {
       "constant": false,
       "objectItems": false,
       "value": "taggedResources"
      }
     }
    ],
    "language": "python",
    "legotype": "LEGO_TYPE_AWS",
    "name": "AWS Attach Tags to Resources",
    "orderProperties": [
     "resource_arn",
     "tag_key",
     "tag_value",
     "region"
    ],
    "printOutput": true,
    "tags": [
     "aws_attach_tags_to_resources"
    ],
    "uuid": "878cb7819ecb4687ecfa8c6143365d10fe6b127adeb4a27fd71d06a3a2243d22",
    "version": "1.0.0"
   },
   "outputs": [],
   "source": [
    "##  Copyright (c) 2023 unSkript, Inc\n",
    "##  All rights reserved.\n",
    "##\n",
    "import pprint\n",
    "from typing import Dict\n",
    "from pydantic import BaseModel, Field\n",
    "\n",
    "\n",
    "\n",
    "from typing import List\n",
    "\n",
    "from pydantic import BaseModel, Field\n",
    "\n",
    "\n",
    "class InputSchema(BaseModel):\n",
    "    region: str = Field(..., description='AWS Region.', title='Region')\n",
    "    resource_arn: List = Field(..., description='Resource ARNs.', title='Resource ARN')\n",
    "    tag_key: str = Field(..., description='Resource Tag Key.', title='Tag Key')\n",
    "    tag_value: str = Field(..., description='Resource Tag Value.', title='Tag Value')\n",
    "\n",
    "\n",
    "# This API has a limit of 20 ARNs per api call...\n",
    "#we'll need to break up the list into chunks of 20\n",
    "def break_list(long_list, max_size):\n",
    "    return [long_list[i:i + max_size] for i in range(0, len(long_list), max_size)]\n",
    "\n",
    "\n",
    "\n",
    "def aws_attach_tags_to_resources_printer(output):\n",
    "    if output is None:\n",
    "        return\n",
    "    pprint.pprint(output)\n",
    "\n",
    "def aws_attach_tags_to_resources(\n",
    "    handle,\n",
    "    resource_arn: list,\n",
    "    tag_key: str,\n",
    "    tag_value: str,\n",
    "    region: str\n",
    "    ) -> Dict:\n",
    "    \"\"\"aws_attach_tags_to_resources Returns an Dict of resource info.\n",
    "\n",
    "        :type handle: object\n",
    "        :param handle: Object returned from task.validate(...).\n",
    "\n",
    "        :type resource_arn: list\n",
    "        :param resource_arn: Resource ARNs.\n",
    "\n",
    "        :type tag_key: str\n",
    "        :param tag_key: Resource Tag Key.\n",
    "\n",
    "        :type tag_value: str\n",
    "        :param tag_value: Resource Tag value.\n",
    "\n",
    "        :type region: str\n",
    "        :param region: Region to filter resources.\n",
    "\n",
    "        :rtype: Dict of resource info.\n",
    "    \"\"\"\n",
    "    ec2Client = handle.client('resourcegroupstaggingapi', region_name=region)\n",
    "    result = {}\n",
    "\n",
    "    #break the ARN list into groups of 20 to send through the API\n",
    "    list_of_lists = break_list(resource_arn, 20)\n",
    "\n",
    "    for index, smallerList in enumerate(list_of_lists):\n",
    "\n",
    "        try:\n",
    "            response = ec2Client.tag_resources(\n",
    "                ResourceARNList=smallerList,\n",
    "                Tags={tag_key: tag_value}\n",
    "                )\n",
    "            result[index] = response\n",
    "\n",
    "        except Exception as error:\n",
    "            result[f\"{index} error\"] = error\n",
    "\n",
    "    return result\n",
    "\n",
    "\n",
    "\n",
    "\n",
    "\n",
    "\n",
    "\n",
    "task = Task(Workflow())\n",
    "task.configure(continueOnError=False)\n",
    "task.configure(inputParamsJson='''{\n",
    "    \"region\": \"Region\",\n",
    "    \"resource_arn\": \"taggedResources\",\n",
    "    \"tag_key\": \"Tag_Key\",\n",
    "    \"tag_value\": \"new_value\"\n",
    "    }''')\n",
    "task.configure(iterJson='''{\n",
    "    \"iter_enabled\": false,\n",
    "    \"iter_list_is_const\": false,\n",
    "    \"iter_list\": \"taggedResources\",\n",
    "    \"iter_parameter\": \"resource_arn\"\n",
    "    }''')\n",
    "task.configure(printOutput=True)\n",
    "(err, hdl, args) = task.validate(vars=vars())\n",
    "if err is None:\n",
    "    task.execute(aws_attach_tags_to_resources, lego_printer=aws_attach_tags_to_resources_printer, hdl=hdl, args=args)"
   ]
  },
  {
   "cell_type": "markdown",
   "id": "a8280ac4-d504-44d2-b5ea-d97f7ca672c8",
   "metadata": {
    "jupyter": {
     "source_hidden": false
    },
    "name": "Conclusion",
    "orderProperties": [],
    "tags": [],
    "title": "Conclusion"
   },
   "source": [
    "In this Runbook, we demonstrated the use of unSkript's AWS legos to attach tags. This Runbook gets the list of all untagged resources of a given region, discovers tag keys of the given region and attaches mandatory tags to all the untagged resource. To view the full platform capabilities of unSkript please visit https://unskript.com"
   ]
  }
 ],
 "metadata": {
  "execution_data": {
   "runbook_name": "AWS Bulk Update Resource Tag",
   "parameters": [
    "Region",
    "Tag_Key",
    "Tag_Value"
   ]
  },
  "kernelspec": {
   "display_name": "unSkript (Build: 1185)",
   "language": "python",
   "name": "python3"
  },
  "language_info": {
   "codemirror_mode": {
    "name": "ipython",
    "version": 3
   },
   "file_extension": ".py",
   "mimetype": "text/x-python",
   "name": "python",
   "nbconvert_exporter": "python",
   "pygments_lexer": "ipython3",
   "version": "3.9.6"
  },
  "outputParameterSchema": null,
  "parameterSchema": {
   "definitions": null,
   "properties": {
    "Region": {
     "default": "us-west-2",
     "description": "Resources Region",
     "title": "Region",
     "type": "string"
    },
    "Tag_Key": {
     "default": "owner",
     "description": "This is the Key to the owner tag.  If you use a different tag value than \"owner\", change this value.",
     "title": "Tag_Key",
     "type": "string"
    },
    "current_value": {
     "description": "The current tag value.",
     "title": "current_value",
     "type": "string"
    },
    "new_value": {
     "description": "The new value for the tag.",
     "title": "new_value",
     "type": "string"
    }
   },
   "required": [],
   "title": "Schema",
   "type": "object"
  },
  "parameterValues": {
   "Region": "us-west-2",
   "Tag_Key": "owner",
   "current_value": "unskript",
   "new_value": "unskript1"
  }
 },
 "nbformat": 4,
 "nbformat_minor": 5
}