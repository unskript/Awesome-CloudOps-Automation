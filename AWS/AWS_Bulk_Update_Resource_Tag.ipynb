{
 "cells": [
  {
   "cell_type": "code",
   "execution_count": 69,
   "id": "e53ee678-6463-4c39-8251-bf64d2a8fa7b",
   "metadata": {
    "deletable": false,
    "editable": false,
    "execution_data": {
     "last_date_success_run_cell": "2023-06-08T18:03:35.951Z"
    },
    "jupyter": {
     "source_hidden": true
    },
    "orderProperties": [],
    "tags": [
     "unSkript:nbParam"
    ],
    "title": "unSkript Internal"
   },
   "outputs": [],
   "source": [
    "import json\n",
    "from unskript import nbparams\n",
    "from unskript.fwk.workflow import Task, Workflow\n",
    "from unskript.secrets import ENV_MODE, ENV_MODE_LOCAL\n",
    "\n",
    "env = {\"ENV_MODE\": \"ENV_MODE_LOCAL\"}\n",
    "secret_store_cfg = {\"SECRET_STORE_TYPE\": \"SECRET_STORE_TYPE_LOCAL\"}\n",
    "\n",
    "paramDict = {\"Region\": \"us-west-2\", \"Tag_Key\": \"owner\", \"current_owner\": \"doug\", \"new_owner\": \"doug1\"}\n",
    "unSkriptOutputParamDict = {}\n",
    "paramDict.update(env)\n",
    "paramDict.update(secret_store_cfg)\n",
    "paramsJson = json.dumps(paramDict)\n",
    "nbParamsObj = nbparams.NBParams(paramsJson)\n",
    "Region = nbParamsObj.get('Region')\n",
    "Tag_Key = nbParamsObj.get('Tag_Key')\n",
    "current_owner = nbParamsObj.get('current_owner')\n",
    "new_owner = nbParamsObj.get('new_owner')\n",
    "w = Workflow(env, secret_store_cfg, None, global_vars=globals())"
   ]
  },
  {
   "cell_type": "markdown",
   "id": "79251bc7-c6cd-4344-a8d5-754bf62eb17e",
   "metadata": {
    "jupyter": {
     "source_hidden": false
    },
    "name": "Update Tags for AWS Resources",
    "orderProperties": [],
    "tags": [],
    "title": "Update Tags for AWS Resources"
   },
   "source": [
    "<p><img src=\"https://storage.googleapis.com/unskript-website/assets/favicon.png\" alt=\"unSkript.com\" width=\"100\" height=\"100\"></p>\n",
    "<h1 id=\"unSkript-Runbooks-&para;\">unSkript Runbooks <a class=\"jp-InternalAnchorLink\" href=\"#-unSkript-Runbooks-\" target=\"_self\" rel=\"noopener\">&para;</a><a class=\"jp-InternalAnchorLink\" href=\"#unSkript-Runbooks-&para;\" target=\"_self\">&para;</a></h1>\n",
    "<div class=\"alert alert-block alert-success\"><strong>&nbsp;This runbook demonstrates How to Update Tags for AWS Resources using unSkript legos.</strong></div>\n",
    "<p>&nbsp;</p>\n",
    "<center>\n",
    "<h2 id=\"Enforce-Mandatory-Tags-Across-All-AWS-Resources&para;\">Update Tags for selected AWS Resources<a class=\"jp-InternalAnchorLink\" href=\"#Enforce-Mandatory-Tags-Across-All-AWS-Resources\" target=\"_self\" rel=\"noopener\">&para;</a><a class=\"jp-InternalAnchorLink\" href=\"#Enforce-Mandatory-Tags-Across-All-AWS-Resources&para;\" target=\"_self\">&para;</a></h2>\n",
    "</center>\n",
    "<h1 id=\"Steps-Overview&para;\">Steps Overview<a class=\"jp-InternalAnchorLink\" href=\"#Steps-Overview\" target=\"_self\" rel=\"noopener\">&para;</a><a class=\"jp-InternalAnchorLink\" href=\"#Steps-Overview&para;\" target=\"_self\">&para;</a></h1>\n",
    "<ol>\n",
    "<li>List all the Resources ARNs in the given region with the selected tag.</li>\n",
    "<li>WE'll print a list of tagged resources along with the current value of the tag. Select and change as desired.</li>\n",
    "<li>Update the Selected tags at AWS.</li>\n",
    "</ol>"
   ]
  },
  {
   "cell_type": "code",
   "execution_count": 79,
   "id": "0ec169e9-f3f2-400d-9b58-e4a598769e61",
   "metadata": {
    "accessType": "ACCESS_TYPE_UNSPECIFIED",
    "actionBashCommand": false,
    "actionNeedsCredential": true,
    "actionRequiredLinesInCode": [],
    "actionSupportsIteration": true,
    "actionSupportsPoll": true,
    "action_modified": true,
    "action_uuid": "aee6cabb55096d5cf6098faa7e4a94135e8f5b0572b36d4b3252d7745fae595b",
    "continueOnError": false,
    "createTime": "1970-01-01T00:00:00Z",
    "credentialsJson": {
     "credential_id": "48be6a4f-65a0-4fb1-bad1-2db778429f87",
     "credential_name": "aws_doug_admin",
     "credential_type": "CONNECTOR_TYPE_AWS"
    },
    "currentVersion": "0.1.0",
    "customCell": true,
    "description": "AWS Get Untagged Resources",
    "execution_data": {
     "last_date_success_run_cell": "2023-06-08T18:13:40.003Z"
    },
    "id": 187,
    "index": 187,
    "inputData": [
     {
      "new_owner": {
       "constant": false,
       "value": "new_owner"
      },
      "region": {
       "constant": false,
       "value": "Region"
      },
      "tag": {
       "constant": false,
       "value": "Tag_Key"
      },
      "tag_value": {
       "constant": false,
       "value": "current_owner"
      }
     }
    ],
    "inputschema": [
     {
      "properties": {
       "new_owner": {
        "default": "new_owner",
        "description": "The new Owner of the discovered resources",
        "title": "new_owner",
        "type": "string"
       },
       "region": {
        "default": "",
        "description": "AWS Region.",
        "title": "Region",
        "type": "string"
       },
       "tag": {
        "default": "Tag_Key",
        "description": "The Tag to search for",
        "title": "tag",
        "type": "string"
       },
       "tag_value": {
        "default": "current_owner",
        "description": "This Action will pull all resources with this value as owner.",
        "title": "tag_value",
        "type": "string"
       }
      },
      "required": [
       "region",
       "tag",
       "tag_value",
       "new_owner"
      ],
      "title": "aws_get_resources_with_tag",
      "type": "object"
     }
    ],
    "legotype": "LEGO_TYPE_AWS",
    "name": "AWS Get Resources With Tag",
    "nouns": [
     "aws",
     "resources"
    ],
    "orderProperties": [
     "region",
     "tag",
     "tag_value",
     "new_owner"
    ],
    "output": {
     "type": ""
    },
    "outputParams": {
     "output_name": "taggedResources",
     "output_name_enabled": true,
     "output_runbook_enabled": false,
     "output_runbook_name": ""
    },
    "printOutput": true,
    "service_id_enabled": false,
    "tags": [
     "aws_get_untagged_resources"
    ],
    "title": "AWS Get Resources With Tag",
    "verbs": [
     "list"
    ]
   },
   "outputs": [
    {
     "name": "stdout",
     "output_type": "stream",
     "text": [
      "(\"There are 3 resources with tag owner with value doug. If you continue, we'll \"\n",
      " 'replace doug with doug1')\n"
     ]
    }
   ],
   "source": [
    "##  Copyright (c) 2021 unSkript, Inc\n",
    "##  All rights reserved.\n",
    "##\n",
    "from typing import List, Dict\n",
    "from pydantic import BaseModel, Field\n",
    "from unskript.connectors.aws import aws_get_paginator\n",
    "import pprint\n",
    "\n",
    "from beartype import beartype\n",
    "@beartype\n",
    "def aws_get_resources_with_tag_printer(output):\n",
    "\n",
    "    pprint.pprint(f\"There are {len(output)} resources with tag {Tag_Key} with value {tag_value}.\" )\n",
    "\n",
    "\n",
    "@beartype\n",
    "def aws_get_resources_with_tag(handle, region: str, tag:str, tag_value:str, new_owner:str) -> List:\n",
    "\n",
    "\n",
    "    ec2Client = handle.client('resourcegroupstaggingapi', region_name=region)\n",
    "    result = []\n",
    "\n",
    "\n",
    "    try:\n",
    "        response = aws_get_paginator(ec2Client, \"get_resources\", \"ResourceTagMappingList\")\n",
    "        for resources in response:\n",
    "            if  resources[\"Tags\"]:\n",
    "                #has tags\n",
    "                #print(tagged_instance)\n",
    "                #get all the keys for the instance\n",
    "                for kv in resources['Tags']:\n",
    "                    key = kv[\"Key\"]\n",
    "                    value = kv[\"Value\"]\n",
    "                    if tag == key and tag_value == value:\n",
    "                        result.append(resources[\"ResourceARN\"])\n",
    "\n",
    "    except Exception as error:\n",
    "        result.append({\"error\":error})\n",
    "    pprint.pprint(f\"There are {len(result)} resources with tag {Tag_Key} with value {tag_value}. If you continue, we'll replace {tag_value} with {new_owner}\" )\n",
    "    return result\n",
    "\n",
    "\n",
    "task = Task(Workflow())\n",
    "task.configure(credentialsJson='''{\n",
    "    \"credential_name\": \"aws_doug_admin\",\n",
    "    \"credential_type\": \"CONNECTOR_TYPE_AWS\",\n",
    "    \"credential_id\": \"48be6a4f-65a0-4fb1-bad1-2db778429f87\"\n",
    "}''')\n",
    "task.configure(printOutput=True)\n",
    "task.configure(inputParamsJson='''{\n",
    "    \"region\": \"Region\",\n",
    "    \"tag\": \"Tag_Key\",\n",
    "    \"tag_value\": \"current_owner\",\n",
    "    \"new_owner\": \"new_owner\"\n",
    "    }''')\n",
    "task.configure(outputName=\"taggedResources\")\n",
    "\n",
    "(err, hdl, args) = task.validate(vars=vars())\n",
    "if err is None:\n",
    "    task.execute(aws_get_resources_with_tag, lego_printer=aws_get_resources_with_tag_printer, hdl=hdl, args=args)"
   ]
  },
  {
   "cell_type": "code",
   "execution_count": 80,
   "id": "250b92b6-44e5-40f2-9901-9e99a1c91275",
   "metadata": {
    "customAction": true,
    "execution_data": {
     "last_date_success_run_cell": "2023-06-08T18:13:41.699Z"
    },
    "orderProperties": [],
    "tags": []
   },
   "outputs": [
    {
     "name": "stdout",
     "output_type": "stream",
     "text": [
      "['arn:aws:secretsmanager:us-west-2:100498623390:secret:doug-test-expiration-pFvAwb', 'arn:aws:secretsmanager:us-west-2:100498623390:secret:doug-expired-gQeJ4h', 'arn:aws:s3:::doug-expired']\n"
     ]
    }
   ],
   "source": [
    "print(taggedResources)"
   ]
  },
  {
   "cell_type": "markdown",
   "id": "ce65fdd0-ee64-42d0-90a6-0fe1c0f54608",
   "metadata": {
    "jupyter": {
     "source_hidden": false
    },
    "name": "AWS Attach Tags to Resources",
    "orderProperties": [],
    "tags": [],
    "title": "AWS Attach Tags to Resources"
   },
   "source": [
    "Here we will use unSkript AWS Attach Tags to Resources Lego. This lego take handle, resource_arn: list, tag_key: str, tag_value: str, region: str as input. This input is used to attach mandatory tags to all untagged Resources."
   ]
  },
  {
   "cell_type": "code",
   "execution_count": 81,
   "id": "cdba6167-a94a-4985-9caf-50c5de52f8a5",
   "metadata": {
    "actionBashCommand": false,
    "actionCategories": [
     "CATEGORY_TYPE_COST_OPT",
     "CATEGORY_TYPE_DEVOPS",
     "CATEGORY_TYPE_AWS"
    ],
    "actionDescription": "AWS Attach Tags to Resources",
    "actionEntryFunction": "aws_attach_tags_to_resources",
    "actionIsCheck": false,
    "actionIsRemediation": false,
    "actionNeedsCredential": true,
    "actionNextHop": null,
    "actionNextHopParameterMapping": null,
    "actionNouns": null,
    "actionOutputType": "ACTION_OUTPUT_TYPE_DICT",
    "actionSupportsIteration": true,
    "actionSupportsPoll": true,
    "actionTitle": "AWS Attach Tags to Resources",
    "actionType": "LEGO_TYPE_AWS",
    "actionVerbs": null,
    "actionVersion": "1.0.0",
    "action_modified": false,
    "action_uuid": "878cb7819ecb4687ecfa8c6143365d10fe6b127adeb4a27fd71d06a3a2243d22",
    "continueOnError": false,
    "credentialsJson": {
     "credential_id": "48be6a4f-65a0-4fb1-bad1-2db778429f87",
     "credential_name": "aws_doug_admin",
     "credential_type": "CONNECTOR_TYPE_AWS"
    },
    "description": "AWS Attach Tags to Resources",
    "id": 2,
    "index": 2,
    "inputData": [
     {
      "region": {
       "constant": false,
       "value": "Region"
      },
      "resource_arn": {
       "constant": false,
       "value": "taggedResources"
      },
      "tag_key": {
       "constant": false,
       "value": "Tag_Key"
      },
      "tag_value": {
       "constant": false,
       "value": "new_owner"
      }
     }
    ],
    "inputschema": [
     {
      "properties": {
       "region": {
        "description": "AWS Region.",
        "title": "Region",
        "type": "string"
       },
       "resource_arn": {
        "description": "Resource ARNs.",
        "items": {},
        "title": "Resource ARN",
        "type": "array"
       },
       "tag_key": {
        "description": "Resource Tag Key.",
        "title": "Tag Key",
        "type": "string"
       },
       "tag_value": {
        "description": "Resource Tag Value.",
        "title": "Tag Value",
        "type": "string"
       }
      },
      "required": [
       "resource_arn",
       "tag_key",
       "tag_value",
       "region"
      ],
      "title": "aws_attach_tags_to_resources",
      "type": "object"
     }
    ],
    "iterData": [
     {
      "iter_enabled": false,
      "iter_item": "resource_arn",
      "iter_list": {
       "constant": false,
       "objectItems": false,
       "value": "taggedResources"
      }
     }
    ],
    "jupyter": {
     "source_hidden": true
    },
    "language": "python",
    "legotype": "LEGO_TYPE_AWS",
    "name": "AWS Attach Tags to Resources",
    "orderProperties": [
     "resource_arn",
     "tag_key",
     "tag_value",
     "region"
    ],
    "printOutput": true,
    "tags": [
     "aws_attach_tags_to_resources"
    ],
    "uuid": "878cb7819ecb4687ecfa8c6143365d10fe6b127adeb4a27fd71d06a3a2243d22",
    "version": "1.0.0"
   },
   "outputs": [
    {
     "ename": "BeartypeDecorHintNonpepException",
     "evalue": "@beartyped aws_attach_tags_to_resources() parameter \"resource_arn\" type hint type hint [{'arn': 'arn:aws:secretsmanager:us-west-2:100498623390:secret:doug-test-expiration-pFvAwb', 'value': 'doug1'}, {'arn': 'arn:aws:secretsmanager:us-west-2:100498623390:secret:doug-expired-gQeJ4h', 'value': 'doug1'}, {'arn': 'arn:aws:s3:::doug-expired', 'value': 'doug1'}] neither PEP-compliant nor -noncompliant (e.g., isinstanceable class, forward reference, or tuple of isinstanceable classes and forward references).",
     "output_type": "error",
     "traceback": [
      "\u001b[0;31m---------------------------------------------------------------------------\u001b[0m",
      "\u001b[0;31mBeartypeDecorHintNonpepException\u001b[0m          Traceback (most recent call last)",
      "\u001b[0;32m/tmp/ipykernel_583/631074048.py\u001b[0m in \u001b[0;36m<module>\u001b[0;34m\u001b[0m\n\u001b[1;32m     14\u001b[0m \u001b[0;34m\u001b[0m\u001b[0m\n\u001b[1;32m     15\u001b[0m \u001b[0;34m@\u001b[0m\u001b[0mbeartype\u001b[0m\u001b[0;34m\u001b[0m\u001b[0;34m\u001b[0m\u001b[0m\n\u001b[0;32m---> 16\u001b[0;31m def aws_attach_tags_to_resources(\n\u001b[0m\u001b[1;32m     17\u001b[0m     \u001b[0mhandle\u001b[0m\u001b[0;34m,\u001b[0m\u001b[0;34m\u001b[0m\u001b[0;34m\u001b[0m\u001b[0m\n\u001b[1;32m     18\u001b[0m     \u001b[0mresource_arn\u001b[0m\u001b[0;34m:\u001b[0m \u001b[0mlist\u001b[0m\u001b[0;34m,\u001b[0m\u001b[0;34m\u001b[0m\u001b[0;34m\u001b[0m\u001b[0m\n",
      "\u001b[0;32m/opt/conda/lib/python3.9/site-packages/beartype/_decor/main.py\u001b[0m in \u001b[0;36mbeartype\u001b[0;34m(func)\u001b[0m\n\u001b[1;32m    147\u001b[0m \u001b[0;34m\u001b[0m\u001b[0m\n\u001b[1;32m    148\u001b[0m     \u001b[0;31m# Generate the raw string of Python statements implementing this wrapper.\u001b[0m\u001b[0;34m\u001b[0m\u001b[0;34m\u001b[0m\u001b[0;34m\u001b[0m\u001b[0m\n\u001b[0;32m--> 149\u001b[0;31m     \u001b[0mfunc_wrapper_code\u001b[0m \u001b[0;34m=\u001b[0m \u001b[0mgenerate_code\u001b[0m\u001b[0;34m(\u001b[0m\u001b[0mfunc_data\u001b[0m\u001b[0;34m)\u001b[0m\u001b[0;34m\u001b[0m\u001b[0;34m\u001b[0m\u001b[0m\n\u001b[0m\u001b[1;32m    150\u001b[0m \u001b[0;34m\u001b[0m\u001b[0m\n\u001b[1;32m    151\u001b[0m     \u001b[0;31m# If this callable requires *NO* type-checking, silently reduce to a noop\u001b[0m\u001b[0;34m\u001b[0m\u001b[0;34m\u001b[0m\u001b[0;34m\u001b[0m\u001b[0m\n",
      "\u001b[0;32m/opt/conda/lib/python3.9/site-packages/beartype/_decor/_code/codemain.py\u001b[0m in \u001b[0;36mgenerate_code\u001b[0;34m(data)\u001b[0m\n\u001b[1;32m    164\u001b[0m     \u001b[0;31m# such parameters are annotated with unignorable type hints *OR* the empty\u001b[0m\u001b[0;34m\u001b[0m\u001b[0;34m\u001b[0m\u001b[0;34m\u001b[0m\u001b[0m\n\u001b[1;32m    165\u001b[0m     \u001b[0;31m# string otherwise.\u001b[0m\u001b[0;34m\u001b[0m\u001b[0;34m\u001b[0m\u001b[0;34m\u001b[0m\u001b[0m\n\u001b[0;32m--> 166\u001b[0;31m     \u001b[0mcode_check_params\u001b[0m \u001b[0;34m=\u001b[0m \u001b[0m_code_check_params\u001b[0m\u001b[0;34m(\u001b[0m\u001b[0mdata\u001b[0m\u001b[0;34m)\u001b[0m\u001b[0;34m\u001b[0m\u001b[0;34m\u001b[0m\u001b[0m\n\u001b[0m\u001b[1;32m    167\u001b[0m \u001b[0;34m\u001b[0m\u001b[0m\n\u001b[1;32m    168\u001b[0m     \u001b[0;31m# Python code snippet type-checking the callable return if this return is\u001b[0m\u001b[0;34m\u001b[0m\u001b[0;34m\u001b[0m\u001b[0;34m\u001b[0m\u001b[0m\n",
      "\u001b[0;32m/opt/conda/lib/python3.9/site-packages/beartype/_decor/_code/codemain.py\u001b[0m in \u001b[0;36m_code_check_params\u001b[0;34m(data)\u001b[0m\n\u001b[1;32m    344\u001b[0m         \u001b[0;31m#\u001b[0m\u001b[0;34m\u001b[0m\u001b[0;34m\u001b[0m\u001b[0;34m\u001b[0m\u001b[0m\n\u001b[1;32m    345\u001b[0m         \u001b[0;31m# Do this first *BEFORE* passing this hint to any further callables.\u001b[0m\u001b[0;34m\u001b[0m\u001b[0;34m\u001b[0m\u001b[0;34m\u001b[0m\u001b[0m\n\u001b[0;32m--> 346\u001b[0;31m         hint = sanify_hint_root(\n\u001b[0m\u001b[1;32m    347\u001b[0m             \u001b[0mhint\u001b[0m\u001b[0;34m=\u001b[0m\u001b[0mhint\u001b[0m\u001b[0;34m,\u001b[0m\u001b[0;34m\u001b[0m\u001b[0;34m\u001b[0m\u001b[0m\n\u001b[1;32m    348\u001b[0m             \u001b[0mfunc\u001b[0m\u001b[0;34m=\u001b[0m\u001b[0mfunc\u001b[0m\u001b[0;34m,\u001b[0m\u001b[0;34m\u001b[0m\u001b[0;34m\u001b[0m\u001b[0m\n",
      "\u001b[0;32m/opt/conda/lib/python3.9/site-packages/beartype/_util/hint/utilhintconv.py\u001b[0m in \u001b[0;36msanify_hint_root\u001b[0;34m(hint, func, pith_name, exception_prefix)\u001b[0m\n\u001b[1;32m    216\u001b[0m     \u001b[0;31m# If this object is neither a PEP-noncompliant type hint *NOR* supported\u001b[0m\u001b[0;34m\u001b[0m\u001b[0;34m\u001b[0m\u001b[0;34m\u001b[0m\u001b[0m\n\u001b[1;32m    217\u001b[0m     \u001b[0;31m# PEP-compliant type hint, raise an exception.\u001b[0m\u001b[0;34m\u001b[0m\u001b[0;34m\u001b[0m\u001b[0;34m\u001b[0m\u001b[0m\n\u001b[0;32m--> 218\u001b[0;31m     \u001b[0mdie_unless_hint\u001b[0m\u001b[0;34m(\u001b[0m\u001b[0mhint\u001b[0m\u001b[0;34m=\u001b[0m\u001b[0mhint\u001b[0m\u001b[0;34m,\u001b[0m \u001b[0mexception_prefix\u001b[0m\u001b[0;34m=\u001b[0m\u001b[0mexception_prefix\u001b[0m\u001b[0;34m)\u001b[0m\u001b[0;34m\u001b[0m\u001b[0;34m\u001b[0m\u001b[0m\n\u001b[0m\u001b[1;32m    219\u001b[0m     \u001b[0;31m# Else, this object is a supported PEP-compliant type hint.\u001b[0m\u001b[0;34m\u001b[0m\u001b[0;34m\u001b[0m\u001b[0;34m\u001b[0m\u001b[0m\n\u001b[1;32m    220\u001b[0m \u001b[0;34m\u001b[0m\u001b[0m\n",
      "\u001b[0;32m/opt/conda/lib/python3.9/site-packages/beartype/_util/hint/utilhinttest.py\u001b[0m in \u001b[0;36mdie_unless_hint\u001b[0;34m(hint, exception_prefix)\u001b[0m\n\u001b[1;32m     99\u001b[0m     \u001b[0;31m# only if this hint is also *NOT* PEP-noncompliant. By definition, all\u001b[0m\u001b[0;34m\u001b[0m\u001b[0;34m\u001b[0m\u001b[0;34m\u001b[0m\u001b[0m\n\u001b[1;32m    100\u001b[0m     \u001b[0;31m# PEP-noncompliant type hints are supported by @beartype.\u001b[0m\u001b[0;34m\u001b[0m\u001b[0;34m\u001b[0m\u001b[0;34m\u001b[0m\u001b[0m\n\u001b[0;32m--> 101\u001b[0;31m     \u001b[0mdie_unless_hint_nonpep\u001b[0m\u001b[0;34m(\u001b[0m\u001b[0mhint\u001b[0m\u001b[0;34m=\u001b[0m\u001b[0mhint\u001b[0m\u001b[0;34m,\u001b[0m \u001b[0mexception_prefix\u001b[0m\u001b[0;34m=\u001b[0m\u001b[0mexception_prefix\u001b[0m\u001b[0;34m)\u001b[0m\u001b[0;34m\u001b[0m\u001b[0;34m\u001b[0m\u001b[0m\n\u001b[0m\u001b[1;32m    102\u001b[0m \u001b[0;34m\u001b[0m\u001b[0m\n\u001b[1;32m    103\u001b[0m \u001b[0;31m# ....................{ TESTERS                           }....................\u001b[0m\u001b[0;34m\u001b[0m\u001b[0;34m\u001b[0m\u001b[0;34m\u001b[0m\u001b[0m\n",
      "\u001b[0;32m/opt/conda/lib/python3.9/site-packages/beartype/_util/hint/nonpep/utilnonpeptest.py\u001b[0m in \u001b[0;36mdie_unless_hint_nonpep\u001b[0;34m(hint, is_str_valid, exception_cls, exception_prefix)\u001b[0m\n\u001b[1;32m    206\u001b[0m             f'{repr(exception_prefix)} not string.')\n\u001b[1;32m    207\u001b[0m \u001b[0;34m\u001b[0m\u001b[0m\n\u001b[0;32m--> 208\u001b[0;31m         raise exception_cls(\n\u001b[0m\u001b[1;32m    209\u001b[0m             \u001b[0;34mf'{exception_prefix}type hint {repr(hint)} '\u001b[0m\u001b[0;34m\u001b[0m\u001b[0;34m\u001b[0m\u001b[0m\n\u001b[1;32m    210\u001b[0m             \u001b[0;34mf'neither PEP-compliant nor -noncompliant '\u001b[0m\u001b[0;34m\u001b[0m\u001b[0;34m\u001b[0m\u001b[0m\n",
      "\u001b[0;31mBeartypeDecorHintNonpepException\u001b[0m: @beartyped aws_attach_tags_to_resources() parameter \"resource_arn\" type hint type hint [{'arn': 'arn:aws:secretsmanager:us-west-2:100498623390:secret:doug-test-expiration-pFvAwb', 'value': 'doug1'}, {'arn': 'arn:aws:secretsmanager:us-west-2:100498623390:secret:doug-expired-gQeJ4h', 'value': 'doug1'}, {'arn': 'arn:aws:s3:::doug-expired', 'value': 'doug1'}] neither PEP-compliant nor -noncompliant (e.g., isinstanceable class, forward reference, or tuple of isinstanceable classes and forward references)."
     ]
    }
   ],
   "source": [
    "##  Copyright (c) 2021 unSkript, Inc\n",
    "##  All rights reserved.\n",
    "##\n",
    "import pprint\n",
    "from typing import Dict\n",
    "from pydantic import BaseModel, Field\n",
    "\n",
    "from beartype import beartype\n",
    "@beartype\n",
    "def aws_attach_tags_to_resources_printer(output):\n",
    "    if output is None:\n",
    "        return\n",
    "    pprint.pprint(output)\n",
    "\n",
    "@beartype\n",
    "def aws_attach_tags_to_resources(\n",
    "    handle,\n",
    "    resource_arn: list,\n",
    "    tag_key: str,\n",
    "    tag_value: str,\n",
    "    region: str\n",
    "    ) -> Dict:\n",
    "    \"\"\"aws_attach_tags_to_resources Returns an Dict of resource info.\n",
    "\n",
    "        :type handle: object\n",
    "        :param handle: Object returned from task.validate(...).\n",
    "\n",
    "        :type resource_arn: list\n",
    "        :param resource_arn: Resource ARNs.\n",
    "\n",
    "        :type tag_key: str\n",
    "        :param tag_key: Resource Tag Key.\n",
    "\n",
    "        :type tag_value: str\n",
    "        :param tag_value: Resource Tag value.\n",
    "\n",
    "        :type region: str\n",
    "        :param region: Region to filter resources.\n",
    "\n",
    "        :rtype: Dict of resource info.\n",
    "    \"\"\"\n",
    "    ec2Client = handle.client('resourcegroupstaggingapi', region_name=region)\n",
    "    result = {}\n",
    "    try:\n",
    "        response = ec2Client.tag_resources(\n",
    "            ResourceARNList=resource_arn,\n",
    "            Tags={tag_key: tag_value}\n",
    "            )\n",
    "        result = response\n",
    "\n",
    "    except Exception as error:\n",
    "        result[\"error\"] = error\n",
    "\n",
    "    return result\n",
    "\n",
    "\n",
    "\n",
    "task = Task(Workflow())\n",
    "task.configure(continueOnError=False)\n",
    "task.configure(credentialsJson='''{\n",
    "    \"credential_name\": \"aws_doug_admin\",\n",
    "    \"credential_type\": \"CONNECTOR_TYPE_AWS\",\n",
    "    \"credential_id\": \"48be6a4f-65a0-4fb1-bad1-2db778429f87\"\n",
    "}''')\n",
    "task.configure(inputParamsJson='''{\n",
    "    \"resource_arn\": \"taggedResources\",\n",
    "    \"tag_key\": \"Tag_Key\",\n",
    "    \"tag_value\": \"new_owner\",\n",
    "    \"region\": \"Region\"\n",
    "    }''')\n",
    "task.configure(iterJson='''{\n",
    "    \"iter_enabled\": false,\n",
    "    \"iter_list_is_const\": false,\n",
    "    \"iter_list\": \"taggedResources\",\n",
    "    \"iter_parameter\": \"resource_arn\"\n",
    "    }''')\n",
    "task.configure(printOutput=True)\n",
    "(err, hdl, args) = task.validate(vars=vars())\n",
    "if err is None:\n",
    "    task.execute(aws_attach_tags_to_resources, lego_printer=aws_attach_tags_to_resources_printer, hdl=hdl, args=args)"
   ]
  },
  {
   "cell_type": "markdown",
   "id": "a8280ac4-d504-44d2-b5ea-d97f7ca672c8",
   "metadata": {
    "jupyter": {
     "source_hidden": false
    },
    "name": "Conclusion",
    "orderProperties": [],
    "tags": [],
    "title": "Conclusion"
   },
   "source": [
    "In this Runbook, we demonstrated the use of unSkript's AWS legos to attach tags. This Runbook gets the list of all untagged resources of a given region, discovers tag keys of the given region and attaches mandatory tags to all the untagged resource. To view the full platform capabilities of unSkript please visit https://unskript.com"
   ]
  }
 ],
 "metadata": {
  "execution_data": {
   "environment_name": "Staging",
   "environment_type": "ENVIRONMENT_TYPE_AWS_EC2",
   "execution_id": "2ff701f6-f678-4e69-b2d5-14519d969954",
   "inputs_for_searched_lego": "",
   "notebook_id": "efd69c69-8f38-450d-b038-a259bcb0f2ea.ipynb",
   "parameters": [
    "Region",
    "Tag_Key",
    "Tag_Value"
   ],
   "proxy_id": "1499f27c-6406-4fbd-bd1b-c6f92800018f",
   "runbook_name": "AWS Bulk Update Tag for AWS Resources",
   "search_string": "",
   "show_tool_tip": false,
   "tenant_id": "982dba5f-d9df-48ae-a5bf-ec1fc94d4882",
   "tenant_url": "https://tenant-staging.alpha.unskript.io",
   "user_email_id": "doug@unskript.com",
   "workflow_id": "edb80e87-f102-4303-8803-f9da562985af"
  },
  "kernelspec": {
   "display_name": "unSkript (Build: 1185)",
   "language": "python",
   "name": "python3"
  },
  "language_info": {
   "codemirror_mode": {
    "name": "ipython",
    "version": 3
   },
   "file_extension": ".py",
   "mimetype": "text/x-python",
   "name": "python",
   "nbconvert_exporter": "python",
   "pygments_lexer": "ipython3",
   "version": "3.9.6"
  },
  "outputParameterSchema": null,
  "parameterSchema": {
   "definitions": null,
   "properties": {
    "Region": {
     "default": "us-west-2",
     "description": "Resources Region",
     "title": "Region",
     "type": "string"
    },
    "Tag_Key": {
     "default": "owner",
     "description": "This is the Key to the owner tag.  If you use a different tag value than \"owner\", change this value.",
     "title": "Tag_Key",
     "type": "string"
    },
    "current_owner": {
     "description": "Name of the current owner.  This value will be replaced with the \"new_owner\" value.",
     "title": "current_owner",
     "type": "string"
    },
    "new_owner": {
     "description": "The value of the new owner.  This value will be used to replace the owner tag for all resources with the \"current_owner\"",
     "title": "new_owner",
     "type": "string"
    }
   },
   "required": [],
   "title": "Schema",
   "type": "object"
  },
  "parameterValues": {
   "Region": "us-west-2",
   "Tag_Key": "owner",
   "current_owner": "doug",
   "new_owner": "doug1"
  }
 },
 "nbformat": 4,
 "nbformat_minor": 5
}
