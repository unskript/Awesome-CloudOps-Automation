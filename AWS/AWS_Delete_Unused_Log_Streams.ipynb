{
 "cells": [
  {
   "cell_type": "markdown",
   "id": "5424264e-6195-4cf9-906b-24b02d5a83f3",
   "metadata": {
    "jupyter": {
     "source_hidden": false
    },
    "name": "Steps Overview",
    "orderProperties": [],
    "tags": [],
    "title": "Steps Overview"
   },
   "source": [
    "<center><img src=\"https://storage.googleapis.com/unskript-website/assets/favicon.png\" alt=\"unSkript.com\" width=\"100\" height=\"100\">\n",
    "<h1 id=\"unSkript-Runbooks&para;\">unSkript Runbooks</h1>\n",
    "<div class=\"alert alert-block alert-success\">\n",
    "<h3 id=\"Objective&para;\">Objective</h3>\n",
    "<br><strong style=\"color: #000000;\"><em>Find and Delete unused AWS Cloudwatch Log Streams</em></strong></div>\n",
    "</center>\n",
    "<p>&nbsp;</p>\n",
    "<center>\n",
    "<h2 id=\"Delete-Unused-AWS-Secrets\"><u>Delete Unused AWS Log Streams</u></h2>\n",
    "</center>\n",
    "<h1 id=\"Steps-Overview&para;\">Steps Overview</h1>\n",
    "<p>1)<a href=\"#1\" target=\"_self\" rel=\"noopener\"> Find unused log streams</a><br>2)<a href=\"#2\" target=\"_self\" rel=\"noopener\"> Delete unused log streams</a></p>"
   ]
  },
  {
   "cell_type": "code",
   "execution_count": null,
   "id": "e1f146c9-5180-4459-9c82-cf0e1da02785",
   "metadata": {
    "collapsed": true,
    "credentialsJson": {},
    "customAction": true,
    "execution_data": {
     "last_date_success_run_cell": "2023-05-17T13:31:24.986Z"
    },
    "jupyter": {
     "outputs_hidden": true,
     "source_hidden": true
    },
    "name": "Input verification",
    "orderProperties": [],
    "tags": [],
    "title": "Input verification"
   },
   "outputs": [],
   "source": [
    "if region == None:\n",
    "    region = ''\n",
    "if log_stream_name and log_group_name and not region:\n",
    "    raise SystemExit(\"Provide a region for the Logs!\")\n",
    "elif not log_group_name and region and log_stream_name:\n",
    "    raise SystemExit(\"Provide a Log Group Name!\")\n",
    "elif not log_stream_name and region and log_group_name:\n",
    "    raise SystemExit(\"Provide a Log Stream Name!\")\n",
    "elif not log_stream_name and not region and log_group_name:\n",
    "    raise SystemExit(\"Provide a Log Stream Name and region!\")\n",
    "elif not log_group_name and not region and log_stream_name:\n",
    "    raise SystemExit(\"Provide a Log Group Name and region !\")"
   ]
  },
  {
   "cell_type": "markdown",
   "id": "908f4dcb-8483-44fc-8f81-ce2502e03093",
   "metadata": {
    "jupyter": {
     "source_hidden": false
    },
    "name": "Step 1",
    "orderProperties": [],
    "tags": [],
    "title": "Step 1"
   },
   "source": [
    "<h3 id=\"Filter-unused-Secrets\"><a id=\"1\" target=\"_self\" rel=\"nofollow\"></a>Filter unused log streams</h3>\n",
    "<p>Using unSkript's Filter AWS Filter Unused Log Streams action, we will find unused log streams given a threshold number of days from their last use date.&nbsp;</p>\n",
    "<blockquote>\n",
    "<p>This action takes the following parameters: <code>region, threhold_days</code></p>\n",
    "</blockquote>\n",
    "<blockquote>\n",
    "<p>This action captures the following output: <code>unused_log_streams</code></p>\n",
    "</blockquote>"
   ]
  },
  {
   "cell_type": "code",
   "execution_count": null,
   "id": "ce3e22b1-4f4e-4f16-a0e4-c57b95d0bb9a",
   "metadata": {
    "actionBashCommand": false,
    "actionCategories": [
     "CATEGORY_TYPE_CLOUDOPS",
     "CATEGORY_TYPE_SECOPS",
     "CATEGORY_TYPE_AWS",
     "CATEGORY_TYPE_AWS_LOGS"
    ],
    "actionDescription": "This action lists all log streams that are unused for all the log groups by the given threshold.",
    "actionEntryFunction": "aws_filter_unused_log_streams",
    "actionIsCheck": true,
    "actionIsRemediation": false,
    "actionNeedsCredential": true,
    "actionNextHop": [
     "64b6e7809ddfb1094901da74924ca3386510a1cd"
    ],
    "actionNextHopParameterMapping": {},
    "actionNouns": null,
    "actionOutputType": "ACTION_OUTPUT_TYPE_LIST",
    "actionSupportsIteration": true,
    "actionSupportsPoll": true,
    "actionTitle": "AWS Filter Unused Log Stream",
    "actionType": "LEGO_TYPE_AWS",
    "actionVerbs": null,
    "actionVersion": "1.0.0",
    "action_modified": false,
    "action_uuid": "53df09f034bd51da247c01b663d9e7c84d0ca615cfed4bfe2545547a5a4466be",
    "collapsed": true,
    "condition_enabled": true,
    "continueOnError": false,
    "credentialsJson": {},
    "description": "This action lists all log streams that are unused for all the log groups by the given threshold.",
    "execution_data": {
     "last_date_success_run_cell": "2023-05-17T13:56:11.674Z"
    },
    "id": 1,
    "index": 1,
    "inputData": [
     {
      "region": {
       "constant": false,
       "value": "region"
      },
      "time_period_in_days": {
       "constant": false,
       "value": "int(threshold_days)"
      }
     }
    ],
    "inputschema": [
     {
      "properties": {
       "region": {
        "description": "AWS Region",
        "title": "Region",
        "type": "string"
       },
       "time_period_in_days": {
        "default": 30,
        "description": "(in days) The threshold to filter the unused log strams.",
        "title": "Threshold (in days)",
        "type": "integer"
       }
      },
      "required": [],
      "title": "aws_filter_unused_log_streams",
      "type": "object"
     }
    ],
    "jupyter": {
     "outputs_hidden": true,
     "source_hidden": true
    },
    "language": "python",
    "legotype": "LEGO_TYPE_AWS",
    "name": "AWS Filter Unused Log Stream",
    "orderProperties": [
     "time_period_in_days",
     "region"
    ],
    "outputParams": {
     "output_name": "unused_log_streams",
     "output_name_enabled": true,
     "output_runbook_enabled": false,
     "output_runbook_name": ""
    },
    "printOutput": true,
    "startcondition": "not log_stream_name and not log_group_name",
    "tags": [
     "aws_filter_unused_log_streams"
    ],
    "uuid": "53df09f034bd51da247c01b663d9e7c84d0ca615cfed4bfe2545547a5a4466be",
    "version": "1.0.0"
   },
   "outputs": [],
   "source": [
    "##\n",
    "##  Copyright (c) 2023 unSkript, Inc\n",
    "##  All rights reserved.\n",
    "##\n",
    "from pydantic import BaseModel, Field\n",
    "from typing import Optional, List, Tuple\n",
    "from datetime import datetime, timedelta\n",
    "import botocore.config\n",
    "from unskript.connectors.aws import aws_get_paginator\n",
    "from unskript.legos.aws.aws_list_all_regions.aws_list_all_regions import aws_list_all_regions\n",
    "import pprint\n",
    "\n",
    "\n",
    "from beartype import beartype\n",
    "@beartype\n",
    "def aws_filter_unused_log_streams_printer(output):\n",
    "    if output is None:\n",
    "        return\n",
    "\n",
    "    pprint.pprint(output)\n",
    "\n",
    "\n",
    "@beartype\n",
    "def aws_filter_unused_log_streams(handle, region: str = \"\", time_period_in_days: int = 30) -> Tuple:\n",
    "    \"\"\"aws_filter_unused_log_streams Returns an array of unused log strams for all log groups.\n",
    "\n",
    "        :type region: string\n",
    "        :param region: Used to filter the volume for specific region.\n",
    "\n",
    "        :type time_period_in_days: int\n",
    "        :param time_period_in_days: (in days) The threshold to filter the unused log strams.\n",
    "\n",
    "        :rtype: Array of unused log strams for all log groups.\n",
    "    \"\"\"\n",
    "    result = []\n",
    "    now = datetime.utcnow()\n",
    "    all_regions = [region]\n",
    "    if not region:\n",
    "        all_regions = aws_list_all_regions(handle)\n",
    "\n",
    "    for reg in all_regions:\n",
    "        try:\n",
    "            start_time = now - timedelta(days=time_period_in_days)\n",
    "            config = botocore.config.Config(retries={'max_attempts': 10})\n",
    "            ec2Client = handle.client('logs', region_name=reg, config=config)\n",
    "            response = aws_get_paginator(ec2Client, \"describe_log_groups\", \"logGroups\")\n",
    "            for log_group in response:\n",
    "                log_group_name = log_group['logGroupName']\n",
    "                response1 = aws_get_paginator(ec2Client, \"describe_log_streams\", \"logStreams\",\n",
    "                                            logGroupName=log_group_name,\n",
    "                                            orderBy='LastEventTime',\n",
    "                                            descending=True)\n",
    "\n",
    "                for log_stream in response1:\n",
    "                    unused_log_streams = {}\n",
    "                    last_event_time = log_stream.get('lastEventTimestamp')\n",
    "                    if last_event_time is None:\n",
    "                        # The log stream has never logged an event\n",
    "                        unused_log_streams[\"log_group_name\"] = log_group_name\n",
    "                        unused_log_streams[\"log_stream_name\"] = log_stream['logStreamName']\n",
    "                        unused_log_streams[\"region\"] = reg\n",
    "                        result.append(unused_log_streams)\n",
    "                    elif datetime.fromtimestamp(last_event_time/1000.0) < start_time:\n",
    "                        # The log stream has not logged an event in the past given days\n",
    "                        unused_log_streams[\"log_group_name\"] = log_group_name\n",
    "                        unused_log_streams[\"log_stream_name\"] = log_stream['logStreamName']\n",
    "                        unused_log_streams[\"region\"] = reg\n",
    "                        result.append(unused_log_streams)\n",
    "        except Exception as e:\n",
    "            pass\n",
    "\n",
    "    if len(result) != 0:\n",
    "        return (False, result)\n",
    "    else:\n",
    "        return (True, None)\n",
    "\n",
    "\n",
    "task = Task(Workflow())\n",
    "task.configure(inputParamsJson='''{\n",
    "    \"time_period_in_days\": \"int(threshold_days)\",\n",
    "    \"region\": \"region\"\n",
    "    }''')\n",
    "\n",
    "task.configure(conditionsJson='''{\n",
    "    \"condition_enabled\": true,\n",
    "    \"condition_cfg\": \"not log_stream_name and not log_group_name\",\n",
    "    \"condition_result\": true\n",
    "    }''')\n",
    "\n",
    "task.configure(outputName=\"unused_log_streams\")\n",
    "\n",
    "task.configure(printOutput=True)\n",
    "(err, hdl, args) = task.validate(vars=vars())\n",
    "if err is None:\n",
    "    task.execute(aws_filter_unused_log_streams, lego_printer=aws_filter_unused_log_streams_printer, hdl=hdl, args=args)"
   ]
  },
  {
   "cell_type": "markdown",
   "id": "199591ef-cb3a-49b7-b515-3c6998050320",
   "metadata": {
    "jupyter": {
     "source_hidden": false
    },
    "name": "Step 2A",
    "orderProperties": [],
    "tags": [],
    "title": "Step 2A"
   },
   "source": [
    "<h3 id=\"Create-List-of-Unused-Log-Streams&para;\">Create List of Unused Log Streams</h3>\n",
    "<p>This action filters regions that have no unused log streams and creates a list of those that have them.</p>\n",
    "<blockquote>\n",
    "<p>This action takes the following parameters: <code>None</code></p>\n",
    "</blockquote>\n",
    "<blockquote>\n",
    "<p>This action captures the following output: <code>all_unused_log_streams</code></p>\n",
    "</blockquote>"
   ]
  },
  {
   "cell_type": "code",
   "execution_count": null,
   "id": "c153b29e-fc95-445a-9400-4a04c63315b3",
   "metadata": {
    "collapsed": true,
    "credentialsJson": {},
    "customAction": true,
    "jupyter": {
     "outputs_hidden": true,
     "source_hidden": true
    },
    "name": "Create List of Unused Log Streams",
    "orderProperties": [],
    "tags": [],
    "title": "Create List of Unused Log Streams"
   },
   "outputs": [],
   "source": [
    "all_unused_log_streams = []\n",
    "try:\n",
    "    if unused_log_streams[0] == False:\n",
    "        if len(unused_log_streams[1])!=0:\n",
    "            all_unused_log_streams=unused_log_streams[1]\n",
    "except Exception:\n",
    "    for log_s in log_stream_name:\n",
    "        data_dict = {}\n",
    "        data_dict[\"region\"] = region\n",
    "        data_dict[\"log_group_name\"] = log_group_name\n",
    "        data_dict[\"log_stream_name\"] = log_s\n",
    "        all_unused_log_streams.append(data_dict)\n",
    "print(all_unused_log_streams)"
   ]
  },
  {
   "cell_type": "markdown",
   "id": "cc3c4396-dcb7-482e-8835-bb918fca83fa",
   "metadata": {
    "name": "Step 2",
    "orderProperties": [],
    "tags": [],
    "title": "Step 2"
   },
   "source": [
    "<h3 id=\"Delete-unused-Secrets\"><a id=\"2\" target=\"_self\" rel=\"nofollow\"></a>Delete unused log streams</h3>\n",
    "<p>This action deleted unused log streams found in Step 1.&nbsp;</p>\n",
    "<blockquote>\n",
    "<p>This action takes the following parameters:&nbsp;<code>all_unused_log_streams</code></p>\n",
    "</blockquote>"
   ]
  },
  {
   "cell_type": "code",
   "execution_count": null,
   "id": "b90d92fe-69d9-4370-bec3-7b9b68e70169",
   "metadata": {
    "accessType": "ACCESS_TYPE_UNSPECIFIED",
    "actionBashCommand": false,
    "actionNeedsCredential": true,
    "actionOutputType": null,
    "actionRequiredLinesInCode": [],
    "actionSupportsIteration": true,
    "actionSupportsPoll": true,
    "action_modified": false,
    "action_uuid": "1fbb5c722fc8f70530e452566e341be44ecf4df4a62e4f2253508a1d47288745",
    "condition_enabled": true,
    "continueOnError": true,
    "credentialsJson": {},
    "description": "AWS Delete Log Stream",
    "id": 1,
    "index": 1,
    "inputData": [
     {
      "log_group_name": {
       "constant": false,
       "value": "\"iter.get(\\\\\"log_group_name\\\\\")\""
      },
      "log_stream_name": {
       "constant": false,
       "value": "\"iter.get(\\\\\"log_stream_name\\\\\")\""
      },
      "region": {
       "constant": false,
       "value": "\"iter.get(\\\\\"region\\\\\")\""
      }
     }
    ],
    "inputschema": [
     {
      "properties": {
       "log_group_name": {
        "description": "Name of the log group.",
        "title": "Log Group Name",
        "type": "string"
       },
       "log_stream_name": {
        "description": "Name of the log stream.",
        "title": "Log Stream Name",
        "type": "string"
       },
       "region": {
        "description": "AWS Region",
        "title": "Region",
        "type": "string"
       }
      },
      "required": [
       "log_group_name",
       "log_stream_name",
       "region"
      ],
      "title": "aws_delete_log_stream",
      "type": "object"
     }
    ],
    "iterData": [
     {
      "iter_enabled": true,
      "iter_item": {
       "log_group_name": "log_group_name",
       "log_stream_name": "log_stream_name",
       "region": "region"
      },
      "iter_list": {
       "constant": false,
       "objectItems": true,
       "value": "all_unused_log_streams"
      }
     }
    ],
    "jupyter": {
     "source_hidden": true
    },
    "language": "python",
    "legotype": "LEGO_TYPE_AWS",
    "metadata": {
     "action_bash_command": false,
     "action_categories": [
      "CATEGORY_TYPE_DEVOPS",
      "CATEGORY_TYPE_SRE",
      "CATEGORY_TYPE_AWS"
     ],
     "action_description": "AWS Delete Log Stream",
     "action_entry_function": "aws_delete_log_stream",
     "action_is_check": false,
     "action_is_remediation": false,
     "action_needs_credential": true,
     "action_next_hop": null,
     "action_next_hop_parameter_mapping": null,
     "action_nouns": null,
     "action_output_type": "ACTION_OUTPUT_TYPE_DICT",
     "action_supports_iteration": true,
     "action_supports_poll": true,
     "action_title": "AWS Delete Log Stream",
     "action_type": "LEGO_TYPE_AWS",
     "action_verbs": null,
     "action_version": "1.0.0"
    },
    "name": "AWS Delete Log Stream",
    "orderProperties": [
     "log_group_name",
     "log_stream_name",
     "region"
    ],
    "printOutput": true,
    "startcondition": "len(all_unused_log_streams)==0",
    "tags": [
     "aws_delete_log_stream"
    ],
    "title": "AWS Delete Log Stream",
    "uuid": "1fbb5c722fc8f70530e452566e341be44ecf4df4a62e4f2253508a1d47288745",
    "version": "1.0.0"
   },
   "outputs": [],
   "source": [
    "##\n",
    "# Copyright (c) 2021 unSkript, Inc\n",
    "# All rights reserved.\n",
    "##\n",
    "from pydantic import BaseModel, Field\n",
    "from typing import Optional, Dict\n",
    "import pprint\n",
    "\n",
    "\n",
    "from beartype import beartype\n",
    "@beartype\n",
    "def aws_delete_log_stream_printer(output):\n",
    "    if output is None:\n",
    "        return\n",
    "    pprint.pprint(output)\n",
    "\n",
    "\n",
    "@beartype\n",
    "def aws_delete_log_stream(handle, log_group_name: str, log_stream_name: str, region: str) -> Dict:\n",
    "    \"\"\"aws_delete_log_stream Deletes a log stream.\n",
    "\n",
    "        :type log_group_name: string\n",
    "        :param log_group_name: Name of the log group.\n",
    "\n",
    "        :type log_stream_name: string\n",
    "        :param log_stream_name: Name of the log stream.\n",
    "\n",
    "        :type region: string\n",
    "        :param region: AWS Region.\n",
    "\n",
    "        :rtype: Dict with the deleted log stream info.\n",
    "    \"\"\"\n",
    "    try:\n",
    "        log_Client = handle.client('logs', region_name=region)\n",
    "        response = log_Client.delete_log_stream(\n",
    "            logGroupName=log_group_name,\n",
    "            logStreamName=log_stream_name)\n",
    "        return response\n",
    "    except Exception as e:\n",
    "        raise Exception(e)\n",
    "\n",
    "\n",
    "task = Task(Workflow())\n",
    "task.configure(continueOnError=True)\n",
    "task.configure(inputParamsJson='''{\n",
    "    \"log_group_name\": \"iter.get(\\\\\"log_group_name\\\\\")\",\n",
    "    \"log_stream_name\": \"iter.get(\\\\\"log_stream_name\\\\\")\",\n",
    "    \"region\": \"iter.get(\\\\\"region\\\\\")\"\n",
    "    }''')\n",
    "task.configure(iterJson='''{\n",
    "    \"iter_enabled\": true,\n",
    "    \"iter_list_is_const\": false,\n",
    "    \"iter_list\": \"all_unused_log_streams\",\n",
    "    \"iter_parameter\": [\"log_group_name\",\"log_stream_name\",\"region\"]\n",
    "    }''')\n",
    "task.configure(conditionsJson='''{\n",
    "    \"condition_enabled\": true,\n",
    "    \"condition_cfg\": \"len(all_unused_log_streams)!=0\",\n",
    "    \"condition_result\": true\n",
    "    }''')\n",
    "\n",
    "task.configure(printOutput=True)\n",
    "(err, hdl, args) = task.validate(vars=vars())\n",
    "if err is None:\n",
    "    task.execute(aws_delete_log_stream, lego_printer=aws_delete_log_stream_printer, hdl=hdl, args=args)"
   ]
  },
  {
   "cell_type": "markdown",
   "id": "44a6cf05-385b-445d-a503-ad4aa607a568",
   "metadata": {
    "jupyter": {
     "source_hidden": false
    },
    "name": "Conclusion",
    "orderProperties": [],
    "tags": [],
    "title": "Conclusion"
   },
   "source": [
    "<h3 id=\"Conclusion\">Conclusion</h3>\n",
    "<p>In this Runbook, we were able to filter unused log streams before a given threshold number of days and delete them. To view the full platform capabilities of unSkript please visit <a href=\"https://us.app.unskript.io\" target=\"_blank\" rel=\"noopener\">us.app.unskript.io</a></p>"
   ]
  }
 ],
 "metadata": {
  "execution_data": {
   "parameters": [
    "region",
    "threshold_days"
   ],
   "runbook_name": "Delete Unused AWS Log Streams"
  },
  "kernelspec": {
   "display_name": "unSkript (Build: 1166)",
   "language": "python",
   "name": "python3"
  },
  "language_info": {
   "codemirror_mode": {
    "name": "ipython",
    "version": 3
   },
   "file_extension": ".py",
   "mimetype": "text/x-python",
   "name": "python",
   "nbconvert_exporter": "python",
   "pygments_lexer": "ipython3",
   "version": "3.10.6"
  },
  "outputParameterSchema": {
   "properties": {},
   "required": [],
   "title": "Schema",
   "type": "object"
  },
  "parameterSchema": {
   "properties": {
    "log_group_name": {
     "description": "Log group name to get the log streams from.",
     "title": "log_group_name",
     "type": "string"
    },
    "log_stream_name": {
     "description": "List of log streams to delete. Eg: [\"log_stream_1\", \"log_stream_2\"]",
     "title": "log_stream_name",
     "type": "array"
    },
    "region": {
     "description": "AWS Region to get the log streams from. Eg: \"us-west-2\". If nothing is given all regions will be considered.",
     "title": "region",
     "type": "string"
    },
    "threshold_days": {
     "default": "30",
     "description": "The threshold number of days to check the unused streams",
     "title": "threshold_days",
     "type": "string"
    }
   },
   "required": [],
   "title": "Schema",
   "type": "object"
  },
  "vscode": {
   "interpreter": {
    "hash": "b0fa6594d8f4cbf19f97940f81e996739fb7646882a419484c72d19e05852a7e"
   }
  }
 },
 "nbformat": 4,
 "nbformat_minor": 5
}
