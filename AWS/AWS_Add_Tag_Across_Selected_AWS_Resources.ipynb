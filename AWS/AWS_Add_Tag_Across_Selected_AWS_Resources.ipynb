{
 "cells": [
  {
   "cell_type": "markdown",
   "id": "79251bc7-c6cd-4344-a8d5-754bf62eb17e",
   "metadata": {
    "jupyter": {
     "source_hidden": false
    },
    "name": "Add tag to selected AWS Resources",
    "orderProperties": [],
    "tags": [],
    "title": "Add tag to selected AWS Resources"
   },
   "source": [
    "<p><img src=\"https://storage.googleapis.com/unskript-website/assets/favicon.png\" alt=\"unSkript.com\" width=\"100\" height=\"100\"></p>\n",
    "<h1 id=\"-unSkript-Runbooks-\">unSkript Runbooks <a class=\"jp-InternalAnchorLink\" href=\"#-unSkript-Runbooks-\" target=\"_self\">&para;</a></h1>\n",
    "<div class=\"alert alert-block alert-success\"><strong>&nbsp;This runbook adds tags to selectedAWS Resources.</strong></div>\n",
    "<p>&nbsp;</p>\n",
    "<center>\n",
    "<h2 id=\"Enforce-Mandatory-Tags-Across-All-AWS-Resources\">Enforce Mandatory Tags Across All AWS Resources<a class=\"jp-InternalAnchorLink\" href=\"#Enforce-Mandatory-Tags-Across-All-AWS-Resources\" target=\"_self\">&para;</a></h2>\n",
    "</center>\n",
    "<h1 id=\"Steps-Overview\">Steps Overview<a class=\"jp-InternalAnchorLink\" href=\"#Steps-Overview\" target=\"_self\">&para;</a></h1>\n",
    "<ol>\n",
    "<li>List all the Resources ARNs that do not have this tag in the given region.</li>\n",
    "<li>Select teh resources to tag - with value from input parameters.</li>\n",
    "<li>Add Tags to the selected AWS Resources.</li>\n",
    "</ol>"
   ]
  },
  {
   "cell_type": "markdown",
   "id": "a49a1258-79d2-4846-8731-4ed74b36d6bc",
   "metadata": {
    "jupyter": {
     "source_hidden": false
    },
    "name": "AWS Get Untagged Resources",
    "orderProperties": [],
    "tags": [],
    "title": "AWS Get Untagged Resources"
   },
   "source": [
    "Here we will use unSkript AWS Get Untagged Resources Lego. This lego take region: str as input. This inputs is used to find out all Untagged Resources."
   ]
  },
  {
   "cell_type": "code",
   "execution_count": 167,
   "id": "0ec169e9-f3f2-400d-9b58-e4a598769e61",
   "metadata": {
    "accessType": "ACCESS_TYPE_UNSPECIFIED",
    "actionBashCommand": false,
    "actionNeedsCredential": true,
    "actionRequiredLinesInCode": [],
    "actionSupportsIteration": true,
    "actionSupportsPoll": true,
    "action_modified": true,
    "action_uuid": "aee6cabb55096d5cf6098faa7e4a94135e8f5b0572b36d4b3252d7745fae595b",
    "continueOnError": false,
    "createTime": "1970-01-01T00:00:00Z",
    "credentialsJson": {},
    "currentVersion": "0.1.0",
    "customCell": true,
    "description": "AWS Get Untagged Resources",
    "execution_data": {
     "last_date_success_run_cell": "2023-06-04T03:38:42.589Z"
    },
    "id": 187,
    "index": 187,
    "inputData": [
     {
      "region": {
       "constant": false,
       "value": "Region"
      },
      "tag": {
       "constant": false,
       "value": "Tag_Key"
      }
     }
    ],
    "inputschema": [
     {
      "properties": {
       "region": {
        "default": "",
        "description": "AWS Region.",
        "title": "Region",
        "type": "string"
       },
       "tag": {
        "default": "\"Tag_Key\"",
        "description": "The Tag to search for",
        "title": "tag",
        "type": "string"
       }
      },
      "required": [
       "region",
       "tag"
      ],
      "title": "aws_get_resources_missing_tag",
      "type": "object"
     }
    ],
    "legotype": "LEGO_TYPE_AWS",
    "name": "AWS Get Resources Missing Tag",
    "nouns": [
     "aws",
     "resources"
    ],
    "orderProperties": [
     "region",
     "tag"
    ],
    "output": {
     "type": ""
    },
    "outputParams": {
     "output_name": "UntaggedResources",
     "output_name_enabled": true
    },
    "printOutput": true,
    "service_id_enabled": false,
    "tags": [
     "aws_get_untagged_resources"
    ],
    "title": "AWS Get Resources Missing Tag",
    "verbs": [
     "list"
    ]
   },
   "outputs": [],
   "source": [
    "##  Copyright (c) 2021 unSkript, Inc\n",
    "##  All rights reserved.\n",
    "##\n",
    "from typing import List, Dict\n",
    "from pydantic import BaseModel, Field\n",
    "from unskript.connectors.aws import aws_get_paginator\n",
    "import pprint\n",
    "\n",
    "from beartype import beartype\n",
    "@beartype\n",
    "def aws_get_resources_missing_tag_printer(output):\n",
    "    if output is None:\n",
    "        return\n",
    "    pprint.pprint(f\"there are {len(output)} resources missing tag {Tag_Key}. We can fix a max of 20.\" )\n",
    "\n",
    "\n",
    "@beartype\n",
    "def aws_get_resources_missing_tag(handle, region: str, tag:str) -> List:\n",
    "    \"\"\"aws_get_resources_missing_tag Returns an List of Untagged Resources.\n",
    "\n",
    "        :type handle: object\n",
    "        :param handle: Object returned from task.validate(...).\n",
    "\n",
    "        :type region: str\n",
    "        :param region: Region to filter resources.\n",
    "\n",
    "        :rtype: List of untagged resources.\n",
    "    \"\"\"\n",
    "\n",
    "    ec2Client = handle.client('resourcegroupstaggingapi', region_name=region)\n",
    "    result = []\n",
    "\n",
    "    arnKeywordsToIgnore = [\"sqlworkbench\",\n",
    "                           \"AutoScalingManagedRule\",\n",
    "                           \"sagarProxy\",\n",
    "                           \"fsap-0f4d1bbd83f172783\",\n",
    "                           \"experiment\"]\n",
    "\n",
    "    try:\n",
    "        response = aws_get_paginator(ec2Client, \"get_resources\", \"ResourceTagMappingList\")\n",
    "        for resources in response:\n",
    "            if not resources[\"Tags\"]:\n",
    "                #no tags at all!!\n",
    "                arnIgnore = False\n",
    "                for substring in arnKeywordsToIgnore:\n",
    "                    if substring in resources[\"ResourceARN\"]:\n",
    "                        arnIgnore = True\n",
    "                if not arnIgnore:\n",
    "                    # instance is missing tag\n",
    "                    result.append(resources[\"ResourceARN\"])\n",
    "            else:\n",
    "                #has tags\n",
    "                allTags = True\n",
    "                keyList = []\n",
    "                tagged_instance = resources['Tags']\n",
    "                #print(tagged_instance)\n",
    "                #get all the keys for the instance\n",
    "                for kv in tagged_instance:\n",
    "                    key = kv[\"Key\"]\n",
    "                    keyList.append(key)\n",
    "                #see if the required tags are represented in the keylist\n",
    "                #if they are not - the instance is not in compliance\n",
    "                if tag not in keyList:\n",
    "                    allTags = False\n",
    "                if not allTags:\n",
    "                    arnIgnore = False\n",
    "                    for substring in arnKeywordsToIgnore:\n",
    "                        if substring in resources[\"ResourceARN\"]:\n",
    "                            arnIgnore = True\n",
    "                    if not arnIgnore:\n",
    "                        # instance is missing tag\n",
    "                        result.append(resources[\"ResourceARN\"])\n",
    "\n",
    "    except Exception as error:\n",
    "        result.append({\"error\":error})\n",
    "\n",
    "    return result\n",
    "\n",
    "\n",
    "task = Task(Workflow())\n",
    "task.configure(printOutput=True)\n",
    "task.configure(inputParamsJson='''{\n",
    "    \"region\": \"Region\",\n",
    "    \"tag\": \"Tag_Key\"\n",
    "    }''')\n",
    "task.configure(outputName=\"UntaggedResources\")\n",
    "\n",
    "(err, hdl, args) = task.validate(vars=vars())\n",
    "if err is None:\n",
    "    task.execute(aws_get_resources_missing_tag, lego_printer=aws_get_resources_missing_tag_printer, hdl=hdl, args=args)"
   ]
  },
  {
   "cell_type": "code",
   "execution_count": 165,
   "id": "de6350ed-9d0c-45fe-8917-5e95d370eed7",
   "metadata": {
    "customAction": true,
    "execution_data": {
     "last_date_success_run_cell": "2023-06-04T03:32:16.862Z"
    },
    "jupyter": {
     "source_hidden": true
    },
    "name": "Select Resources to Tag",
    "orderProperties": [],
    "tags": [],
    "title": "Select Resources to Tag",
    "credentialsJson": {}
   },
   "outputs": [],
   "source": [
    "import ipywidgets as widgets\n",
    "\n",
    "# Maximum number of checkboxes to display\n",
    "#the API has a max of 20 to update at once.\n",
    "max_checkboxes = 20\n",
    "checked = False\n",
    "# Create checkboxes\n",
    "checkboxes = [widgets.Checkbox(value=checked, description=untagged,style=dict(description_width='initial'),layout=dict(width='200%') ) for untagged in UntaggedResources[:max_checkboxes]]\n",
    "\n",
    "# Create a VBox container to display the checkboxes vertically\n",
    "checkboxes_container = widgets.VBox(checkboxes)\n",
    "\n",
    "# Display the checkboxes\n",
    "display(checkboxes_container)\n",
    "\n",
    "# List to store the checked states\n",
    "checked_list = []\n",
    "firstRun = True\n",
    "\n",
    "# Function to update the checked_list\n",
    "def update_checked_list(**kwargs):\n",
    "    checked_list.clear()\n",
    "    checked_list.extend([untagged for untagged, value in kwargs.items() if value])\n",
    "    global firstRun\n",
    "    if not firstRun:\n",
    "        print(\"Checked items:\", checked_list)\n",
    "    firstRun = False\n",
    "    \n",
    "# Create a dictionary of Checkbox widgets and their names\n",
    "checkbox_dict = {untagged: checkbox for untagged, checkbox in zip(UntaggedResources, checkboxes)}\n",
    "\n",
    "# Create the interactive_output widget\n",
    "output = widgets.interactive_output(update_checked_list, checkbox_dict)\n",
    "\n",
    "# Print the checked list initially\n",
    "update_checked_list(**{name: checkbox.value for name, checkbox in checkbox_dict.items()})\n",
    "\n",
    "\n",
    "# Display the output\n",
    "display(output)\n"
   ]
  },
  {
   "cell_type": "markdown",
   "id": "ce65fdd0-ee64-42d0-90a6-0fe1c0f54608",
   "metadata": {
    "jupyter": {
     "source_hidden": false
    },
    "name": "AWS Attach Tags to Resources",
    "orderProperties": [],
    "tags": [],
    "title": "AWS Attach Tags to Resources"
   },
   "source": [
    "Here we will use unSkript AWS Attach Tags to Resources Lego. This lego take handle, resource_arn: list, tag_key: str, tag_value: str, region: str as input. This input is used to attach mandatory tags to all untagged Resources."
   ]
  },
  {
   "cell_type": "code",
   "execution_count": 149,
   "id": "b0bf6aee-2b72-4348-8c38-fe3783619da6",
   "metadata": {
    "accessType": "ACCESS_TYPE_UNSPECIFIED",
    "actionBashCommand": false,
    "actionCategories": [
     "CATEGORY_TYPE_COST_OPT",
     "CATEGORY_TYPE_DEVOPS",
     "CATEGORY_TYPE_AWS"
    ],
    "actionIsCheck": false,
    "actionNeedsCredential": true,
    "actionNextHopParameterMapping": {},
    "actionOutputType": "",
    "actionRequiredLinesInCode": [],
    "actionSupportsIteration": true,
    "actionSupportsPoll": true,
    "action_modified": false,
    "action_uuid": "878cb7819ecb4687ecfa8c6143365d10fe6b127adeb4a27fd71d06a3a2243d22",
    "checkEnabled": false,
    "continueOnError": false,
    "createTime": "1970-01-01T00:00:00Z",
    "credentialsJson": {},
    "currentVersion": "0.1.0",
    "description": "AWS Attach Tags to Resources",
    "execution_data": {
     "last_date_success_run_cell": "2023-06-04T03:20:41.106Z"
    },
    "id": 260,
    "index": 260,
    "inputData": [
     {
      "region": {
       "constant": false,
       "value": "Region"
      },
      "resource_arn": {
       "constant": false,
       "value": "checked_list"
      },
      "tag_key": {
       "constant": false,
       "value": "Tag_Key"
      },
      "tag_value": {
       "constant": false,
       "value": "\"01/01/2025\""
      }
     }
    ],
    "inputschema": [
     {
      "properties": {
       "region": {
        "description": "AWS Region.",
        "title": "Region",
        "type": "string"
       },
       "resource_arn": {
        "description": "Resource ARNs.",
        "items": {},
        "title": "Resource ARN",
        "type": "array"
       },
       "tag_key": {
        "description": "Resource Tag Key.",
        "title": "Tag Key",
        "type": "string"
       },
       "tag_value": {
        "description": "Resource Tag Value.",
        "title": "Tag Value",
        "type": "string"
       }
      },
      "required": [
       "region",
       "resource_arn",
       "tag_key",
       "tag_value"
      ],
      "title": "aws_attach_tags_to_resources",
      "type": "object"
     }
    ],
    "isUnskript": false,
    "iterData": [
     {
      "iter_enabled": false,
      "iter_item": "resource_arn",
      "iter_list": {
       "constant": false,
       "objectItems": false,
       "value": "checked_list"
      }
     }
    ],
    "jupyter": {
     "source_hidden": true
    },
    "legotype": "LEGO_TYPE_AWS",
    "name": "AWS Attach Tags to Resources",
    "nouns": [],
    "orderProperties": [
     "resource_arn",
     "tag_key",
     "tag_value",
     "region"
    ],
    "output": {
     "type": ""
    },
    "printOutput": true,
    "tags": [
     "aws_attach_tags_to_resources"
    ],
    "verbs": []
   },
   "outputs": [],
   "source": [
    "##  Copyright (c) 2021 unSkript, Inc\n",
    "##  All rights reserved.\n",
    "##\n",
    "import pprint\n",
    "from typing import Dict\n",
    "from pydantic import BaseModel, Field\n",
    "\n",
    "from beartype import beartype\n",
    "@beartype\n",
    "def aws_attach_tags_to_resources_printer(output):\n",
    "    if output is None:\n",
    "        return\n",
    "    pprint.pprint(output)\n",
    "\n",
    "@beartype\n",
    "def aws_attach_tags_to_resources(\n",
    "    handle,\n",
    "    resource_arn: list,\n",
    "    tag_key: str,\n",
    "    tag_value: str,\n",
    "    region: str\n",
    "    ) -> Dict:\n",
    "    \"\"\"aws_attach_tags_to_resources Returns an Dict of resource info.\n",
    "\n",
    "        :type handle: object\n",
    "        :param handle: Object returned from task.validate(...).\n",
    "\n",
    "        :type resource_arn: list\n",
    "        :param resource_arn: Resource ARNs.\n",
    "\n",
    "        :type tag_key: str\n",
    "        :param tag_key: Resource Tag Key.\n",
    "\n",
    "        :type tag_value: str\n",
    "        :param tag_value: Resource Tag value.\n",
    "\n",
    "        :type region: str\n",
    "        :param region: Region to filter resources.\n",
    "\n",
    "        :rtype: Dict of resource info.\n",
    "    \"\"\"\n",
    "    ec2Client = handle.client('resourcegroupstaggingapi', region_name=region)\n",
    "    result = {}\n",
    "    try:\n",
    "        response = ec2Client.tag_resources(\n",
    "            ResourceARNList=resource_arn,\n",
    "            Tags={tag_key: tag_value}\n",
    "            )\n",
    "        result = response\n",
    "\n",
    "    except Exception as error:\n",
    "        result[\"error\"] = error\n",
    "\n",
    "    return result\n",
    "\n",
    "\n",
    "\n",
    "task = Task(Workflow())\n",
    "task.configure(continueOnError=False)\n",
    "task.configure(inputParamsJson='''{\n",
    "    \"region\": \"Region\",\n",
    "    \"resource_arn\": \"checked_list\",\n",
    "    \"tag_key\": \"Tag_Key\",\n",
    "    \"tag_value\": \"\\\\\"01/01/2025\\\\\"\"\n",
    "    }''')\n",
    "task.configure(iterJson='''{\n",
    "    \"iter_enabled\": false,\n",
    "    \"iter_list_is_const\": false,\n",
    "    \"iter_list\": \"checked_list\",\n",
    "    \"iter_parameter\": \"resource_arn\"\n",
    "    }''')\n",
    "task.configure(printOutput=True)\n",
    "(err, hdl, args) = task.validate(vars=vars())\n",
    "if err is None:\n",
    "    task.execute(aws_attach_tags_to_resources, lego_printer=aws_attach_tags_to_resources_printer, hdl=hdl, args=args)"
   ]
  },
  {
   "cell_type": "markdown",
   "id": "a8280ac4-d504-44d2-b5ea-d97f7ca672c8",
   "metadata": {
    "jupyter": {
     "source_hidden": false
    },
    "name": "Conclusion",
    "orderProperties": [],
    "tags": [],
    "title": "Conclusion"
   },
   "source": [
    "In this Runbook, we demonstrated the use of unSkript's AWS legos to attach tags. This Runbook gets the list of all untagged resources of a given region, discovers tag keys of the given region and attaches mandatory tags to all the untagged resource. To view the full platform capabilities of unSkript please visit https://unskript.com"
   ]
  }
 ],
 "metadata": {
  "execution_data": {
   "runbook_name": "AWS Update Resources about to expire",
   "parameters": [
    "Region",
    "Tag_Key",
    "Tag_Value"
   ]
  },
  "kernelspec": {
   "display_name": "unSkript (Build: 1185)",
   "language": "python",
   "name": "python3"
  },
  "language_info": {
   "codemirror_mode": {
    "name": "ipython",
    "version": 3
   },
   "file_extension": ".py",
   "mimetype": "text/x-python",
   "name": "python",
   "nbconvert_exporter": "python",
   "pygments_lexer": "ipython3",
   "version": "3.9.6"
  },
  "outputParameterSchema": null,
  "parameterSchema": {
   "definitions": null,
   "properties": {
    "Region": {
     "default": "us-west-2",
     "description": "Resources Region",
     "title": "Region",
     "type": "string"
    },
    "Tag_Key": {
     "default": "owner",
     "description": "Mandatory Tag key for resources (only use when tag need to be attached to all the resources)",
     "title": "Tag_Key",
     "type": "string"
    },
    "Tag_Value": {
     "description": "Mandatory Tag Value for resources (only use when tag need to be attached to all the resources)",
     "title": "Tag_Value",
     "type": "string"
    }
   },
   "required": [],
   "title": "Schema",
   "type": "object"
  }
 },
 "nbformat": 4,
 "nbformat_minor": 5
}