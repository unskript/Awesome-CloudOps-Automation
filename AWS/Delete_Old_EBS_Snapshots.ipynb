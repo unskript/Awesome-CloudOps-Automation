{
 "cells": [
  {
   "cell_type": "markdown",
   "id": "1da6be45",
   "metadata": {
    "jupyter": {
     "source_hidden": false
    },
    "name": "Steps Overview",
    "orderProperties": [],
    "tags": [],
    "title": "Steps Overview"
   },
   "source": [
    "<center><img src=\"https://storage.googleapis.com/unskript-website/assets/favicon.png\" alt=\"unSkript.com\" width=\"100\" height=\"100\">\n",
    "<h1 id=\"unSkript-Runbooks&para;\">unSkript Runbooks</h1>\n",
    "<div class=\"alert alert-block alert-success\">\n",
    "<h3 id=\"Objective&para;\">Objective</h3>\n",
    "<br><strong style=\"color: #000000;\"><em>Find and Delete Old EBS Snapshots</em></strong></div>\n",
    "</center>\n",
    "<p>&nbsp;</p>\n",
    "<center>\n",
    "<h2 id=\"Delete-Unused-NAT-Gateways\"><u>Delete Old EBS Snapshots</u></h2>\n",
    "</center>\n",
    "<h1 id=\"Steps-Overview\">Steps Overview</h1>\n",
    "<p>1)<a href=\"#1\" target=\"_self\" rel=\"noopener\"> Find Old EBS Snapshots</a><br>2)<a href=\"#2\" target=\"_self\" rel=\"noopener\"> Delete old EBS snapshots</a></p>"
   ]
  },
  {
   "cell_type": "code",
   "execution_count": 8,
   "id": "6e4cd8eb-4f75-49f6-8f43-1c7f8d56b279",
   "metadata": {
    "customAction": true,
    "execution_data": {
     "last_date_success_run_cell": "2023-04-19T09:13:20.286Z"
    },
    "jupyter": {
     "source_hidden": true
    },
    "name": "Input Verification",
    "orderProperties": [],
    "tags": [],
    "title": "Input Verification",
    "credentialsJson": {}
   },
   "outputs": [],
   "source": [
    "if snapshot_ids and not region:\n",
    "    raise SystemExit(\"Provide a region for the EBS Snapshots!\")"
   ],
   "output": {}
  },
  {
   "cell_type": "markdown",
   "id": "04b5ae7b",
   "metadata": {
    "jupyter": {
     "source_hidden": false
    },
    "name": "Step 1A",
    "orderProperties": [],
    "tags": [],
    "title": "Step 1A"
   },
   "source": [
    "<h3 id=\"List-all-AWS-Regions\">List all AWS Regions</h3>\n",
    "<p>This action fetches all AWS Regions to execute Step 1\ud83d\udc47. This action will only execute if no <code>region</code> is provided.</p>\n",
    "<blockquote>\n",
    "<p>This action takes the following parameters: <code>None</code></p>\n",
    "</blockquote>\n",
    "<blockquote>\n",
    "<p>This action captures the following ouput: <code>region</code></p>\n",
    "</blockquote>"
   ]
  },
  {
   "cell_type": "code",
   "execution_count": null,
   "id": "3a7badb0-9610-4bee-8509-aef0f55d1adf",
   "metadata": {
    "accessType": "ACCESS_TYPE_UNSPECIFIED",
    "actionBashCommand": false,
    "actionNeedsCredential": true,
    "actionOutputType": null,
    "actionRequiredLinesInCode": [],
    "actionSupportsIteration": true,
    "actionSupportsPoll": true,
    "action_modified": false,
    "action_uuid": "708ea4af5f8fe7096a15b3a52c4a657606bab9e177386fad7a847341ed607d64",
    "collapsed": true,
    "condition_enabled": true,
    "description": "List all available AWS Regions",
    "execution_data": {
     "last_date_success_run_cell": "2023-04-18T17:44:04.658Z"
    },
    "id": 1,
    "index": 1,
    "inputschema": [
     {
      "properties": {},
      "title": "aws_list_all_regions",
      "type": "object"
     }
    ],
    "jupyter": {
     "outputs_hidden": true,
     "source_hidden": true
    },
    "language": "python",
    "legotype": "LEGO_TYPE_AWS",
    "metadata": {
     "action_bash_command": false,
     "action_categories": [
      "CATEGORY_TYPE_CLOUDOPS",
      "CATEGORY_TYPE_DEVOPS",
      "CATEGORY_TYPE_SRE",
      "CATEGORY_TYPE_AWS"
     ],
     "action_description": "List all available AWS Regions",
     "action_entry_function": "aws_list_all_regions",
     "action_is_check": false,
     "action_is_remediation": false,
     "action_needs_credential": true,
     "action_next_hop": null,
     "action_next_hop_parameter_mapping": null,
     "action_nouns": [
      "regions",
      "aws"
     ],
     "action_output_type": "ACTION_OUTPUT_TYPE_LIST",
     "action_supports_iteration": true,
     "action_supports_poll": true,
     "action_title": "AWS List All Regions",
     "action_type": "LEGO_TYPE_AWS",
     "action_verbs": [
      "list"
     ],
     "action_version": "1.0.0"
    },
    "name": "AWS List All Regions",
    "orderProperties": [],
    "outputParams": {
     "output_name": "region",
     "output_name_enabled": true,
     "output_runbook_enabled": false,
     "output_runbook_name": ""
    },
    "printOutput": true,
    "startcondition": "not region",
    "tags": [
     "aws_list_all_regions"
    ],
    "uuid": "708ea4af5f8fe7096a15b3a52c4a657606bab9e177386fad7a847341ed607d64",
    "version": "1.0.0",
    "credentialsJson": {}
   },
   "outputs": [],
   "source": [
    "#\n",
    "# Copyright (c) 2021 unSkript.com\n",
    "# All rights reserved.\n",
    "#\n",
    "\n",
    "from pydantic import BaseModel, Field\n",
    "from typing import Dict, List\n",
    "import pprint\n",
    "\n",
    "from beartype import beartype\n",
    "@beartype\n",
    "def aws_list_all_regions_printer(output):\n",
    "    if output is None:\n",
    "        return\n",
    "    pprint.pprint(output)\n",
    "\n",
    "\n",
    "@beartype\n",
    "def aws_list_all_regions(handle) -> List:\n",
    "    \"\"\"aws_list_all_regions lists all the AWS regions\n",
    "\n",
    "        :type handle: object\n",
    "        :param handle: Object returned from Task Validate\n",
    "\n",
    "        :rtype: Result List of result\n",
    "    \"\"\"\n",
    "\n",
    "    result = handle.aws_cli_command(\"aws ec2 --region us-west-2 describe-regions --all-regions --query 'Regions[].{Name:RegionName}' --output text\")\n",
    "    if result is None or result.returncode != 0:\n",
    "        print(\"Error while executing command : {}\".format(result))\n",
    "        return str()\n",
    "    result_op = list(result.stdout.split(\"\\n\"))\n",
    "    list_region = [x for x in result_op if x != '']\n",
    "    return list_region\n",
    "\n",
    "\n",
    "task = Task(Workflow())\n",
    "task.configure(conditionsJson='''{\n",
    "    \"condition_enabled\": true,\n",
    "    \"condition_cfg\": \"not region\",\n",
    "    \"condition_result\": true\n",
    "    }''')\n",
    "\n",
    "task.configure(outputName=\"region\")\n",
    "task.configure(printOutput=True)\n",
    "(err, hdl, args) = task.validate(vars=vars())\n",
    "if err is None:\n",
    "    task.execute(aws_list_all_regions, lego_printer=aws_list_all_regions_printer, hdl=hdl, args=args)"
   ],
   "output": {}
  },
  {
   "cell_type": "markdown",
   "id": "47fa9334",
   "metadata": {
    "jupyter": {
     "source_hidden": false
    },
    "name": "Step 1",
    "orderProperties": [],
    "tags": [],
    "title": "Step 1"
   },
   "source": [
    "<h3 id=\"Filter-unused-NAT-Gateways\"><a id=\"1\" target=\"_self\" rel=\"nofollow\"></a>Find Old EBS Snapshots</h3>\n",
    "<p>Using unSkript's Filter AWS Find Old EBS Snapshots action, we will find old snapshots given a threshold number of days.</p>\n",
    "<blockquote>\n",
    "<p>This action takes the following parameters: <code>region, threhold_days</code></p>\n",
    "</blockquote>\n",
    "<blockquote>\n",
    "<p>This action captures the following output: <code>unused_snapshots</code></p>\n",
    "</blockquote>"
   ]
  },
  {
   "cell_type": "code",
   "execution_count": null,
   "id": "bfb80a87-84b6-4860-9919-ee3b266058b2",
   "metadata": {
    "accessType": "ACCESS_TYPE_UNSPECIFIED",
    "actionBashCommand": false,
    "actionNeedsCredential": true,
    "actionOutputType": null,
    "actionRequiredLinesInCode": [],
    "actionSupportsIteration": true,
    "actionSupportsPoll": true,
    "action_modified": false,
    "action_uuid": "9a74af3d2bb5a9aac60e5d30fb89b3ebf6867ce4782fc629cd9842bd5156a327",
    "collapsed": true,
    "condition_enabled": true,
    "continueOnError": true,
    "description": "This action list a all snapshots details that are older than the threshold",
    "id": 1,
    "index": 1,
    "inputData": [
     {
      "region": {
       "constant": false,
       "value": "iter_item"
      },
      "threshold": {
       "constant": false,
       "value": "int(threshold_days)"
      }
     }
    ],
    "inputschema": [
     {
      "properties": {
       "region": {
        "description": "AWS Region.",
        "title": "Region",
        "type": "string"
       },
       "threshold": {
        "default": 30,
        "description": "(in day's) The threshold to check the snapshots older than the threshold.",
        "title": "Threshold (in days)",
        "type": "integer"
       }
      },
      "required": [],
      "title": "aws_filter_old_ebs_snapshots",
      "type": "object"
     }
    ],
    "iterData": [
     {
      "iter_enabled": true,
      "iter_item": "region",
      "iter_list": {
       "constant": false,
       "objectItems": false,
       "value": "region"
      }
     }
    ],
    "jupyter": {
     "outputs_hidden": true,
     "source_hidden": true
    },
    "language": "python",
    "legotype": "LEGO_TYPE_AWS",
    "metadata": {
     "action_bash_command": false,
     "action_categories": [
      "CATEGORY_TYPE_COST_OPT",
      "CATEGORY_TYPE_SRE",
      "CATEGORY_TYPE_AWS",
      "CATEGORY_TYPE_AWS_EBS"
     ],
     "action_description": "This action list a all snapshots details that are older than the threshold",
     "action_entry_function": "aws_filter_old_ebs_snapshots",
     "action_is_check": true,
     "action_is_remediation": false,
     "action_needs_credential": true,
     "action_next_hop": null,
     "action_next_hop_parameter_mapping": null,
     "action_nouns": null,
     "action_output_type": "ACTION_OUTPUT_TYPE_LIST",
     "action_supports_iteration": true,
     "action_supports_poll": true,
     "action_title": "AWS Filter Old EBS Snapshots",
     "action_type": "LEGO_TYPE_AWS",
     "action_verbs": null,
     "action_version": "1.0.0"
    },
    "name": "AWS Filter Old EBS Snapshots",
    "orderProperties": [
     "region",
     "threshold"
    ],
    "outputParams": {
     "output_name": "unused_snapshots",
     "output_name_enabled": true,
     "output_runbook_enabled": false,
     "output_runbook_name": ""
    },
    "printOutput": true,
    "startcondition": "not snapshot_ids",
    "tags": [
     "aws_filter_old_ebs_snapshots"
    ],
    "uuid": "9a74af3d2bb5a9aac60e5d30fb89b3ebf6867ce4782fc629cd9842bd5156a327",
    "version": "1.0.0",
    "credentialsJson": {}
   },
   "outputs": [],
   "source": [
    "##\n",
    "##  Copyright (c) 2023 unSkript, Inc\n",
    "##  All rights reserved.\n",
    "##\n",
    "from pydantic import BaseModel, Field\n",
    "from typing import List, Optional, Tuple\n",
    "from unskript.legos.aws.aws_list_all_regions.aws_list_all_regions import aws_list_all_regions\n",
    "import pprint\n",
    "from datetime import datetime, timedelta\n",
    "import pytz\n",
    "\n",
    "\n",
    "from beartype import beartype\n",
    "@beartype\n",
    "def aws_filter_old_ebs_snapshots_printer(output):\n",
    "    if output is None:\n",
    "        return\n",
    "    pprint.pprint(output)\n",
    "\n",
    "\n",
    "@beartype\n",
    "def aws_filter_old_ebs_snapshots(handle, region: str=\"\", threshold: int = 30) -> Tuple:\n",
    "    \"\"\"aws_filter_old_ebs_snapshots Returns an array of EBS snapshots details.\n",
    "\n",
    "        :type region: string\n",
    "        :param region: AWS Region.\n",
    "\n",
    "        :type threshold: int\n",
    "        :param threshold: (in days) The threshold to check the snapshots older than the threshold.\n",
    "\n",
    "        :rtype: List of EBS snapshots details.\n",
    "    \"\"\"\n",
    "    result = []\n",
    "    all_regions = [region]\n",
    "    if not region:\n",
    "        all_regions = aws_list_all_regions(handle)\n",
    "    for reg in all_regions:\n",
    "        try:\n",
    "            # Filtering the volume by region\n",
    "            current_time = datetime.now(pytz.UTC)\n",
    "            ec2Client = handle.resource('ec2', region_name=reg)\n",
    "            response = ec2Client.snapshots.filter(OwnerIds=['self'])\n",
    "            for snapshot in response:\n",
    "                snap_data = {}\n",
    "                running_time = current_time - snapshot.start_time\n",
    "                if running_time > timedelta(days=int(threshold)):\n",
    "                    snap_data[\"region\"] = reg\n",
    "                    snap_data[\"snapshot_id\"] = snapshot.id\n",
    "                    result.append(snap_data)\n",
    "        except Exception as e:\n",
    "            pass\n",
    "    if len(result)!=0:\n",
    "        return (False, result)\n",
    "    else:\n",
    "        return (True, None)\n",
    "\n",
    "\n",
    "task = Task(Workflow())\n",
    "task.configure(continueOnError=True)\n",
    "task.configure(inputParamsJson='''{\n",
    "    \"region\": \"iter_item\",\n",
    "    \"threshold\": \"int(threshold_days)\"\n",
    "    }''')\n",
    "task.configure(iterJson='''{\n",
    "    \"iter_enabled\": true,\n",
    "    \"iter_list_is_const\": false,\n",
    "    \"iter_list\": \"region\",\n",
    "    \"iter_parameter\": \"region\"\n",
    "    }''')\n",
    "task.configure(conditionsJson='''{\n",
    "    \"condition_enabled\": true,\n",
    "    \"condition_cfg\": \"not snapshot_ids\",\n",
    "    \"condition_result\": true\n",
    "    }''')\n",
    "task.configure(outputName=\"unused_snapshots\")\n",
    "\n",
    "task.configure(printOutput=True)\n",
    "(err, hdl, args) = task.validate(vars=vars())\n",
    "if err is None:\n",
    "    task.execute(aws_filter_old_ebs_snapshots, lego_printer=aws_filter_old_ebs_snapshots_printer, hdl=hdl, args=args)"
   ],
   "output": {}
  },
  {
   "cell_type": "markdown",
   "id": "6b8b31be",
   "metadata": {
    "jupyter": {
     "source_hidden": false
    },
    "name": "Step 2A",
    "orderProperties": [],
    "tags": [],
    "title": "Step 2A"
   },
   "source": [
    "<h3 id=\"Create-List-of-Unused-NAT-Gateways\">Create List of Old EBS Snapshots</h3>\n",
    "<p>This action filters regions that have no old EBS snapshots and creates a list of those that have them.</p>\n",
    "<blockquote>\n",
    "<p>This action takes the following parameters: <code>None</code></p>\n",
    "</blockquote>\n",
    "<blockquote>\n",
    "<p>This action captures the following output: <code>all_unused_snapshots</code></p>\n",
    "</blockquote>"
   ]
  },
  {
   "cell_type": "code",
   "execution_count": null,
   "id": "aa209041-9097-4b16-be3c-3a30aff1eb1e",
   "metadata": {
    "collapsed": true,
    "customAction": true,
    "jupyter": {
     "outputs_hidden": true,
     "source_hidden": true
    },
    "name": "Create List of Old EBS Snapshots",
    "orderProperties": [],
    "tags": [],
    "title": "Create List of Old EBS Snapshots",
    "credentialsJson": {}
   },
   "outputs": [],
   "source": [
    "all_unused_snapshots = []\n",
    "dummy = []\n",
    "try:\n",
    "    for reg,res in unused_snapshots.items():\n",
    "        if res[0]==False:\n",
    "            if len(res[1])!=0:\n",
    "                dummy = res[1]\n",
    "                for x in dummy:\n",
    "                    all_unused_snapshots.append(x)\n",
    "except Exception:\n",
    "    for snap in snapshot_ids:\n",
    "        data_dict = {}\n",
    "        data_dict[\"region\"] = region[0]\n",
    "        data_dict[\"snapshot_id\"] = snap\n",
    "        all_unused_snapshots.append(data_dict)\n",
    "print(all_unused_snapshots)\n",
    "task.configure(outputName=\"all_unused_snapshots\")"
   ],
   "output": {}
  },
  {
   "cell_type": "markdown",
   "id": "3c3a62dd",
   "metadata": {
    "jupyter": {
     "source_hidden": false
    },
    "name": "Step 2",
    "orderProperties": [],
    "tags": [],
    "title": "Step 2"
   },
   "source": [
    "<h3 id=\"Delete-unused-NAT-Gateways\"><a id=\"2\" target=\"_self\" rel=\"nofollow\"></a>Delete old EBS Snapshots</h3>\n",
    "<p>This action deletes old EBS Snapshots found in Step 1.&nbsp;</p>\n",
    "<blockquote>\n",
    "<p>This action takes the following parameters:&nbsp;<code>region, snapshot_id</code></p>\n",
    "</blockquote>"
   ]
  },
  {
   "cell_type": "code",
   "execution_count": null,
   "id": "a30bb183-cef8-43b5-a75d-ce3ab3db0dac",
   "metadata": {
    "accessType": "ACCESS_TYPE_UNSPECIFIED",
    "actionBashCommand": false,
    "actionNeedsCredential": true,
    "actionOutputType": null,
    "actionRequiredLinesInCode": [],
    "actionSupportsIteration": true,
    "actionSupportsPoll": true,
    "action_modified": false,
    "action_uuid": "1bcf78d4587707b18b241fa00fd709e4ce3c3bc28ab24c9874e9b0966b08e43a",
    "condition_enabled": true,
    "continueOnError": true,
    "description": "Delete EBS Snapshot for an EC2 instance",
    "id": 2,
    "index": 2,
    "inputData": [
     {
      "region": {
       "constant": false,
       "value": "\"iter.get(\\\\\"region\\\\\")\""
      },
      "snapshot_id": {
       "constant": false,
       "value": "\"iter.get(\\\\\"snapshot_id\\\\\")\""
      }
     }
    ],
    "inputschema": [
     {
      "properties": {
       "region": {
        "description": "AWS Region.",
        "title": "Region",
        "type": "string"
       },
       "snapshot_id": {
        "description": "EBS snapshot ID. Eg: \"snap-34bt4bfjed9d\"",
        "title": "Snapshot ID",
        "type": "string"
       }
      },
      "required": [
       "region",
       "snapshot_id"
      ],
      "title": "aws_delete_ebs_snapshot",
      "type": "object"
     }
    ],
    "iterData": [
     {
      "iter_enabled": true,
      "iter_item": {
       "region": "region",
       "snapshot_id": "snapshot_id"
      },
      "iter_list": {
       "constant": false,
       "objectItems": true,
       "value": "all_unused_snapshots"
      }
     }
    ],
    "jupyter": {
     "source_hidden": true
    },
    "language": "python",
    "legotype": "LEGO_TYPE_AWS",
    "metadata": {
     "action_bash_command": false,
     "action_categories": [
      "CATEGORY_TYPE_COST_OPT",
      "CATEGORY_TYPE_SRE",
      "CATEGORY_TYPE_AWS",
      "CATEGORY_TYPE_EBS"
     ],
     "action_description": "Delete EBS Snapshot for an EC2 instance",
     "action_entry_function": "aws_delete_ebs_snapshot",
     "action_is_check": false,
     "action_is_remediation": false,
     "action_needs_credential": true,
     "action_next_hop": null,
     "action_next_hop_parameter_mapping": null,
     "action_nouns": null,
     "action_output_type": "ACTION_OUTPUT_TYPE_LIST",
     "action_supports_iteration": true,
     "action_supports_poll": true,
     "action_title": "AWS Delete EBS Snapshot",
     "action_type": "LEGO_TYPE_AWS",
     "action_verbs": null,
     "action_version": "1.0.0"
    },
    "name": "AWS Delete EBS Snapshot",
    "orderProperties": [
     "region",
     "snapshot_id"
    ],
    "printOutput": true,
    "startcondition": "len(all_unused_snapshots)!=0",
    "tags": [
     "aws_delete_ebs_snapshot"
    ],
    "uuid": "1bcf78d4587707b18b241fa00fd709e4ce3c3bc28ab24c9874e9b0966b08e43a",
    "version": "1.0.0",
    "credentialsJson": {}
   },
   "outputs": [],
   "source": [
    "##\n",
    "##  Copyright (c) 2023 unSkript, Inc\n",
    "##  All rights reserved.\n",
    "##\n",
    "from pydantic import BaseModel, Field\n",
    "from typing import List, Dict\n",
    "import pprint\n",
    "\n",
    "from beartype import beartype\n",
    "@beartype\n",
    "def aws_delete_ebs_snapshot_printer(output):\n",
    "    if output is None:\n",
    "        return\n",
    "    pprint.pprint(output)\n",
    "\n",
    "\n",
    "@beartype\n",
    "def aws_delete_ebs_snapshot(handle, region: str, snapshot_id: str) -> Dict:\n",
    "    \"\"\"aws_delete_ebs_snapshot Returns a dict of deleted snapshot details\n",
    "\n",
    "        :type region: string\n",
    "        :param region: AWS Region.\n",
    "\n",
    "        :type snapshot_id: string\n",
    "        :param snapshot_id: EBS snapshot ID. Eg: 'snap-34bt4bfjed9d'\n",
    "\n",
    "        :rtype: Deleted snapshot details\n",
    "    \"\"\"\n",
    "    result = []\n",
    "    try:\n",
    "        ec2Client = handle.client('ec2', region_name=region)\n",
    "        result = ec2Client.delete_snapshot(SnapshotId=snapshot_id)\n",
    "    except Exception as e:\n",
    "        raise e\n",
    "    return  result\n",
    "\n",
    "\n",
    "task = Task(Workflow())\n",
    "task.configure(continueOnError=True)\n",
    "task.configure(inputParamsJson='''{\n",
    "    \"region\": \"iter.get(\\\\\"region\\\\\")\",\n",
    "    \"snapshot_id\": \"iter.get(\\\\\"snapshot_id\\\\\")\"\n",
    "    }''')\n",
    "task.configure(iterJson='''{\n",
    "    \"iter_enabled\": true,\n",
    "    \"iter_list_is_const\": false,\n",
    "    \"iter_list\": \"all_unused_snapshots\",\n",
    "    \"iter_parameter\": [\"region\",\"snapshot_id\"]\n",
    "    }''')\n",
    "task.configure(conditionsJson='''{\n",
    "    \"condition_enabled\": true,\n",
    "    \"condition_cfg\": \"len(all_unused_snapshots)!=0\",\n",
    "    \"condition_result\": true\n",
    "    }''')\n",
    "\n",
    "task.configure(printOutput=True)\n",
    "(err, hdl, args) = task.validate(vars=vars())\n",
    "if err is None:\n",
    "    task.execute(aws_delete_ebs_snapshot, lego_printer=aws_delete_ebs_snapshot_printer, hdl=hdl, args=args)"
   ],
   "output": {}
  },
  {
   "cell_type": "markdown",
   "id": "b6288138",
   "metadata": {
    "name": "Conclusion",
    "orderProperties": [],
    "tags": [],
    "title": "Conclusion"
   },
   "source": [
    "<h3 id=\"Conclusion&para;\">Conclusion</h3>\n",
    "<p>In this Runbook, we were able to filter old EBS Snapshots given a threshold number of days and delete them. To view the full platform capabilities of unSkript please visit&nbsp;<a href=\"https://us.app.unskript.io\" target=\"_blank\" rel=\"noopener\">us.app.unskript.io</a></p>"
   ]
  }
 ],
 "metadata": {
  "execution_data": {
   "runbook_name": "Delete Old EBS Snapshots",
   "parameters": null
  },
  "kernelspec": {
   "display_name": "unSkript (Build: 1068)",
   "language": "python",
   "name": "python3"
  },
  "language_info": {
   "codemirror_mode": {
    "name": "ipython",
    "version": 3
   },
   "file_extension": ".py",
   "mimetype": "text/x-python",
   "name": "python",
   "nbconvert_exporter": "python",
   "pygments_lexer": "ipython3",
   "version": "3.10.6"
  },
  "outputParameterSchema": {
   "properties": {},
   "required": [],
   "title": "Schema",
   "type": "object"
  },
  "parameterSchema": {
   "properties": {
    "region": {
     "description": "AWS Regions to get the EBS Snapshots from. Eg: [\"us-west-2\", \"ap-south-1\"]. If nothing is given all regions will be considered.",
     "title": "region",
     "type": "array"
    },
    "snapshot_ids": {
     "description": "List of EBS Snapshot IDs. Eg: [\"snap-0kwre234dew3w\",...]",
     "title": "snapshot_ids",
     "type": "array"
    },
    "threshold_days": {
     "default": 30,
     "description": "The threshold number of days to check the unused streams",
     "title": "threshold_days",
     "type": "number"
    }
   },
   "required": [],
   "title": "Schema",
   "type": "object"
  },
  "vscode": {
   "interpreter": {
    "hash": "b0fa6594d8f4cbf19f97940f81e996739fb7646882a419484c72d19e05852a7e"
   }
  }
 },
 "nbformat": 4,
 "nbformat_minor": 5
}