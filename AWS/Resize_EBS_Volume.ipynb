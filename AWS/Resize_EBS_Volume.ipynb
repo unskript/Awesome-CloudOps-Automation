{
 "cells": [
  {
   "cell_type": "markdown",
   "id": "cd97199b",
   "metadata": {},
   "source": [
    "<img src=\"https://storage.googleapis.com/unskript-website/assets/favicon.png\" alt=\"unSkript.com\" width=\"100\" height=\"100\"/> \n",
    "<h1> unSkript Runbooks </h1>\n",
    "<div class=\"alert alert-block alert-success\">\n",
    "    <b> This runbook demonstrates How to resize EBS volume using unSkript legos.</b>\n",
    "</div>\n",
    "\n",
    "<br>\n",
    "\n",
    "<center><h2>Resize EBS Volume</h2></center>\n",
    "\n",
    "# Steps Overview\n",
    "1) Extract the instanceID and device name from the AWS Cloudwatch alert.\n",
    "2) Get the PrivateIP address and ssh key pair for the instance.\n",
    "3) Since we don't support ssh key pair to credential mapping at this time, this runbook will need to be configured with the ssh credential corresponding to the instance(s).\n",
    "4) Extract the parent block device from the partition name.\n",
    "5) Extract the EBS volume corresponding to the parent block device.\n",
    "6) Modify the EBS volume by the SizeToIncreaseBy amount.\n",
    "7) Extend the file system "
   ]
  },
  {
   "cell_type": "markdown",
   "id": "5dbc3089-480d-4735-9f08-cf8025ebf488",
   "metadata": {
    "actionNeedsCredential": true,
    "actionSupportsIteration": true,
    "actionSupportsPoll": true,
    "jupyter": {
     "source_hidden": false
    },
    "orderProperties": [],
    "tags": [],
    "title": "Requirements"
   },
   "source": [
    "- [ ] This runbook ONLY works for linux instances.\n",
    "- [ ] The instance needs to have ebsnvme-id installed. This is used to figure out the nvme block device to EBS volumeID.\n",
    "- [ ] It only supports xfs file system."
   ]
  },
  {
   "cell_type": "code",
   "execution_count": 5,
   "id": "45647e9b-eb55-47b0-965c-5b9cf405eb8f",
   "metadata": {
    "actionNeedsCredential": false,
    "actionSupportsIteration": false,
    "actionSupportsPoll": false,
    "collapsed": true,
    "jupyter": {
     "outputs_hidden": true,
     "source_hidden": true
    },
    "orderProperties": [],
    "runWithPrevious": true,
    "tags": [],
    "title": "SNS Alert object processing",
    "credentialsJson": {}
   },
   "outputs": [],
   "source": [
    "# Get the instance ID and device name\n",
    "for dim in AlertObject['Trigger']['Dimensions']:\n",
    "    if dim['name'] == 'InstanceId':\n",
    "        InstanceID = dim['value']\n",
    "    if dim['name'] == 'device':\n",
    "        DeviceName = \"/dev/\"+dim['value']\n",
    "    if dim['name'] == 'fstype':\n",
    "        FSType = dim['value']\n",
    "\n",
    "# Get the region from the AlarmArn\n",
    "alarmArn = AlertObject['AlarmArn']\n",
    "Region = alarmArn.split(':')[3]\n",
    "print(f'InstanceID {InstanceID} Region {Region} FSType {FSType} Device {DeviceName}')"
   ]
  },
  {
   "cell_type": "markdown",
   "id": "f80d6539",
   "metadata": {},
   "source": [
    "Here we will use unSkript Get AWS Instance Details Lego. This lego takes instance_id and region as input. This input is used to discover all the details of EC2 instance."
   ]
  },
  {
   "cell_type": "code",
   "execution_count": null,
   "id": "e951f9f2-c75a-497b-8bbc-2144bbfdd070",
   "metadata": {
    "accessType": "ACCESS_TYPE_UNSPECIFIED",
    "actionBashCommand": false,
    "actionNeedsCredential": true,
    "actionSupportsIteration": true,
    "actionSupportsPoll": true,
    "action_uuid": "aa1e026ca8002b906315feba401e5c46889d459270adce3b65d480dc9530311f",
    "collapsed": true,
    "createTime": "1970-01-01T00:00:00Z",
    "currentVersion": "0.1.0",
    "description": "Use This Action to Get Details about an AWS EC2 Instance",
    "id": 103,
    "index": 103,
    "inputData": [
     {
      "instance_id": {
       "constant": false,
       "value": "InstanceID"
      },
      "region": {
       "constant": false,
       "value": "Region"
      }
     }
    ],
    "inputschema": [
     {
      "properties": {
       "instance_id": {
        "description": "ID of the instance.",
        "title": "Instance Id",
        "type": "string"
       },
       "region": {
        "description": "AWS Region of the instance.",
        "title": "Region",
        "type": "string"
       }
      },
      "required": [
       "instance_id",
       "region"
      ],
      "title": "aws_get_instance_details",
      "type": "object"
     }
    ],
    "jupyter": {
     "outputs_hidden": true,
     "source_hidden": true
    },
    "legotype": "LEGO_TYPE_AWS",
    "name": "Get AWS Instance Details",
    "nouns": [
     "instance",
     "details"
    ],
    "orderProperties": [
     "instance_id",
     "region"
    ],
    "output": {
     "type": ""
    },
    "outputParams": {
     "output_name": "InstanceDetail",
     "output_name_enabled": true
    },
    "tags": [
     "aws_get_instance_details"
    ],
    "verbs": [
     "get"
    ],
    "credentialsJson": {}
   },
   "outputs": [],
   "source": [
    "##\n",
    "# Copyright (c) 2021 unSkript, Inc\n",
    "# All rights reserved.\n",
    "##\n",
    "from pydantic import BaseModel, Field\n",
    "\n",
    "\n",
    "from beartype import beartype\n",
    "@beartype\n",
    "def aws_get_instance_details(\n",
    "    handle,\n",
    "    instance_id: str,\n",
    "    region: str,\n",
    "):\n",
    "\n",
    "    ec2client = handle.client('ec2', region_name=region)\n",
    "    instances = []\n",
    "    response = ec2client.describe_instances(\n",
    "        Filters=[{\"Name\": \"instance-id\", \"Values\": [instance_id]}])\n",
    "    for reservation in response[\"Reservations\"]:\n",
    "        for instance in reservation[\"Instances\"]:\n",
    "            instances.append(instance)\n",
    "\n",
    "    return instances[0]\n",
    "\n",
    "\n",
    "task = Task(Workflow())\n",
    "task.configure(inputParamsJson='''{\n",
    "    \"instance_id\": \"InstanceID\",\n",
    "    \"region\": \"Region\"\n",
    "    }''')\n",
    "task.configure(outputName=\"InstanceDetail\")\n",
    "\n",
    "(err, hdl, args) = task.validate(vars=vars())\n",
    "if err is None:\n",
    "    task.output = task.execute(aws_get_instance_details, hdl=hdl, args=args)\n",
    "    if task.output_name != None:\n",
    "        globals().update({task.output_name: task.output[0]})\n",
    "\n",
    "if hasattr(task, 'output'):\n",
    "    if isinstance(task.output, (list, tuple)):\n",
    "        for item in task.output:\n",
    "            print(f'item: {item}')\n",
    "    elif isinstance(task.output, dict):\n",
    "        for item in task.output.items():\n",
    "            print(f'item: {item}')\n",
    "    else:\n",
    "        print(f'Output for {task.name}')\n",
    "        print(task.output)\n",
    "    w.tasks[task.name]= task.output"
   ]
  },
  {
   "cell_type": "code",
   "execution_count": 7,
   "id": "2f549ed5-b14b-4e2b-9190-34b3e5135869",
   "metadata": {
    "actionNeedsCredential": false,
    "actionSupportsIteration": false,
    "actionSupportsPoll": false,
    "collapsed": true,
    "jupyter": {
     "outputs_hidden": true
    },
    "orderProperties": [],
    "tags": [],
    "title": "Get the parent block device from partition name",
    "credentialsJson": {}
   },
   "outputs": [],
   "source": [
    "# lsblk -no pkname /dev/nvme0n1p1\n",
    "PrivateIPAddress = InstanceDetail.get('PrivateIPAddress')"
   ]
  },
  {
   "cell_type": "markdown",
   "id": "c2fc0efa",
   "metadata": {},
   "source": [
    "Here we will use unSkript SSH Execute Remote Command Lego. This lego takes hosts, command and sudo as input. This input is used to SSH Execute Remote Command and get the block device details."
   ]
  },
  {
   "cell_type": "code",
   "execution_count": null,
   "id": "d6b0c43c-4941-4641-b4d4-d60eebfb619e",
   "metadata": {
    "accessType": "ACCESS_TYPE_UNSPECIFIED",
    "actionBashCommand": false,
    "actionNeedsCredential": true,
    "actionSupportsIteration": true,
    "actionSupportsPoll": true,
    "action_uuid": "5279b2046bb2eb4a691ba748086f4af9e580a849faae557694bb12a8c2b7b379",
    "collapsed": true,
    "createTime": "1970-01-01T00:00:00Z",
    "currentVersion": "0.1.0",
    "description": "SSH Execute Remote Command",
    "id": 58,
    "index": 58,
    "inputData": [
     {
      "command": {
       "constant": false,
       "value": "\"lsblk -no pkname \" + DeviceName"
      },
      "hosts": {
       "constant": false,
       "value": "[PrivateIPAddress]"
      },
      "sudo": {
       "constant": true,
       "value": true
      }
     }
    ],
    "inputschema": [
     {
      "properties": {
       "command": {
        "description": "Command to be executed on the remote server.",
        "title": "Command",
        "type": "string"
       },
       "hosts": {
        "description": "List of hosts to connect to. For eg. [\"host1\", \"host2\"].",
        "items": {
         "type": "string"
        },
        "title": "Hosts",
        "type": "array"
       },
       "sudo": {
        "default": false,
        "description": "Run the command with sudo.",
        "title": "Run with sudo",
        "type": "boolean"
       }
      },
      "required": [
       "hosts",
       "command"
      ],
      "title": "ssh_execute_remote_command",
      "type": "object"
     }
    ],
    "jupyter": {
     "outputs_hidden": true,
     "source_hidden": true
    },
    "legotype": "LEGO_TYPE_SSH",
    "name": "Get the Block Device",
    "nouns": [
     "ssh",
     "command"
    ],
    "orderProperties": [
     "hosts",
     "command",
     "sudo"
    ],
    "output": {
     "type": ""
    },
    "outputParams": {
     "output_name": "BlockDeviceDetail",
     "output_name_enabled": true
    },
    "tags": [
     "ssh_execute_remote_command"
    ],
    "title": "Get the Block Device",
    "verbs": [
     "execute"
    ],
    "credentialsJson": {}
   },
   "outputs": [],
   "source": [
    "##\n",
    "# Copyright (c) 2021 unSkript, Inc\n",
    "# All rights reserved.\n",
    "##\n",
    "import json\n",
    "import tempfile\n",
    "import os\n",
    "from pydantic import BaseModel, Field\n",
    "from pssh.clients import ParallelSSHClient\n",
    "from typing import List, Optional\n",
    "from unskript.connectors import ssh\n",
    "\n",
    "from unskript.legos.cellparams import CellParams\n",
    "from unskript import connectors\n",
    "\n",
    "\n",
    "from beartype import beartype\n",
    "@beartype\n",
    "def ssh_execute_remote_command(sshClient, hosts: List[str], command: str, sudo: bool = False):\n",
    "\n",
    "    client = sshClient(hosts)\n",
    "    runCommandOutput = client.run_command(command=command, sudo=sudo)\n",
    "    client.join()\n",
    "    res = {}\n",
    "\n",
    "    for host_output in runCommandOutput:\n",
    "        hostname = host_output.host\n",
    "        output = []\n",
    "        for line in host_output.stdout:\n",
    "            output.append(line)\n",
    "        res[hostname] = output\n",
    "\n",
    "        o = \"\\n\".join(output)\n",
    "        print(f\"Output from host {hostname}\\n{o}\\n\")\n",
    "\n",
    "    return res\n",
    "\n",
    "\n",
    "task = Task(Workflow())\n",
    "task.configure(inputParamsJson='''{\n",
    "    \"command\": \"\\\\\"lsblk -no pkname \\\\\" + DeviceName\",\n",
    "    \"hosts\": \"[PrivateIPAddress]\",\n",
    "    \"sudo\": \"True\"\n",
    "    }''')\n",
    "task.configure(outputName=\"BlockDeviceDetail\")\n",
    "\n",
    "(err, hdl, args) = task.validate(vars=vars())\n",
    "if err is None:\n",
    "    task.output = task.execute(ssh_execute_remote_command, hdl=hdl, args=args)\n",
    "    if task.output_name != None:\n",
    "        globals().update({task.output_name: task.output[0]})\n",
    "\n",
    "if hasattr(task, 'output'):\n",
    "    if isinstance(task.output, (list, tuple)):\n",
    "        for item in task.output:\n",
    "            print(f'item: {item}')\n",
    "    elif isinstance(task.output, dict):\n",
    "        for item in task.output.items():\n",
    "            print(f'item: {item}')\n",
    "    else:\n",
    "        print(f'Output for {task.name}')\n",
    "        print(task.output)\n",
    "    w.tasks[task.name]= task.output"
   ]
  },
  {
   "cell_type": "code",
   "execution_count": 9,
   "id": "25340e10-e1a2-4b63-a6d3-9e6c9a3a49ff",
   "metadata": {
    "actionNeedsCredential": false,
    "actionSupportsIteration": false,
    "actionSupportsPoll": false,
    "collapsed": true,
    "jupyter": {
     "outputs_hidden": true,
     "source_hidden": true
    },
    "orderProperties": [],
    "tags": [],
    "title": "BlockDeviceName",
    "credentialsJson": {}
   },
   "outputs": [],
   "source": [
    "BlockDeviceName = BlockDeviceDetail[PrivateIPAddress][0]\n",
    "print(BlockDeviceName)"
   ]
  },
  {
   "cell_type": "markdown",
   "id": "1ef6a217",
   "metadata": {},
   "source": [
    "Here we will use unSkript SSH Execute Remote Command Lego. This lego takes hosts, command and sudo as input. This input is used to SSH Execute Remote Command and get the EBS volume details."
   ]
  },
  {
   "cell_type": "code",
   "execution_count": null,
   "id": "fc870de5-f0d1-42a4-a91d-b543972fbc36",
   "metadata": {
    "accessType": "ACCESS_TYPE_UNSPECIFIED",
    "actionBashCommand": false,
    "actionNeedsCredential": true,
    "actionSupportsIteration": true,
    "actionSupportsPoll": true,
    "action_uuid": "5279b2046bb2eb4a691ba748086f4af9e580a849faae557694bb12a8c2b7b379",
    "collapsed": true,
    "createTime": "1970-01-01T00:00:00Z",
    "currentVersion": "0.1.0",
    "description": "SSH Execute Remote Command",
    "id": 58,
    "index": 58,
    "inputData": [
     {
      "command": {
       "constant": false,
       "value": "\"/sbin/ebsnvme-id \" + DeviceName"
      },
      "hosts": {
       "constant": false,
       "value": "[PrivateIPAddress]"
      },
      "sudo": {
       "constant": true,
       "value": true
      }
     }
    ],
    "inputschema": [
     {
      "properties": {
       "command": {
        "description": "Command to be executed on the remote server.",
        "title": "Command",
        "type": "string"
       },
       "hosts": {
        "description": "List of hosts to connect to. For eg. [\"host1\", \"host2\"].",
        "items": {
         "type": "string"
        },
        "title": "Hosts",
        "type": "array"
       },
       "sudo": {
        "default": false,
        "description": "Run the command with sudo.",
        "title": "Run with sudo",
        "type": "boolean"
       }
      },
      "required": [
       "hosts",
       "command"
      ],
      "title": "ssh_execute_remote_command",
      "type": "object"
     }
    ],
    "jupyter": {
     "outputs_hidden": true,
     "source_hidden": true
    },
    "legotype": "LEGO_TYPE_SSH",
    "name": "Get the EBS volume corresponding to block device",
    "nouns": [
     "ssh",
     "command"
    ],
    "orderProperties": [
     "hosts",
     "command",
     "sudo"
    ],
    "output": {
     "type": ""
    },
    "outputParams": {
     "output_name": "EBSVolumeDetail",
     "output_name_enabled": true
    },
    "tags": [
     "ssh_execute_remote_command"
    ],
    "title": "Get the EBS volume corresponding to block device",
    "verbs": [
     "execute"
    ],
    "credentialsJson": {}
   },
   "outputs": [],
   "source": [
    "##\n",
    "# Copyright (c) 2021 unSkript, Inc\n",
    "# All rights reserved.\n",
    "##\n",
    "import json\n",
    "import tempfile\n",
    "import os\n",
    "from pydantic import BaseModel, Field\n",
    "from pssh.clients import ParallelSSHClient\n",
    "from typing import List, Optional\n",
    "from unskript.connectors import ssh\n",
    "\n",
    "from unskript.legos.cellparams import CellParams\n",
    "from unskript import connectors\n",
    "\n",
    "\n",
    "from beartype import beartype\n",
    "@beartype\n",
    "def ssh_execute_remote_command(sshClient, hosts: List[str], command: str, sudo: bool = False):\n",
    "\n",
    "    client = sshClient(hosts)\n",
    "    runCommandOutput = client.run_command(command=command, sudo=sudo)\n",
    "    client.join()\n",
    "    res = {}\n",
    "\n",
    "    for host_output in runCommandOutput:\n",
    "        hostname = host_output.host\n",
    "        output = []\n",
    "        for line in host_output.stdout:\n",
    "            output.append(line)\n",
    "        res[hostname] = output\n",
    "\n",
    "        o = \"\\n\".join(output)\n",
    "        print(f\"Output from host {hostname}\\n{o}\\n\")\n",
    "\n",
    "    return res\n",
    "\n",
    "\n",
    "task = Task(Workflow())\n",
    "task.configure(inputParamsJson='''{\n",
    "    \"command\": \"\\\\\"/sbin/ebsnvme-id \\\\\" + DeviceName\",\n",
    "    \"hosts\": \"[PrivateIPAddress]\",\n",
    "    \"sudo\": \"True\"\n",
    "    }''')\n",
    "task.configure(outputName=\"EBSVolumeDetail\")\n",
    "\n",
    "(err, hdl, args) = task.validate(vars=vars())\n",
    "if err is None:\n",
    "    task.output = task.execute(ssh_execute_remote_command, hdl=hdl, args=args)\n",
    "    if task.output_name != None:\n",
    "        globals().update({task.output_name: task.output[0]})\n",
    "\n",
    "if hasattr(task, 'output'):\n",
    "    if isinstance(task.output, (list, tuple)):\n",
    "        for item in task.output:\n",
    "            print(f'item: {item}')\n",
    "    elif isinstance(task.output, dict):\n",
    "        for item in task.output.items():\n",
    "            print(f'item: {item}')\n",
    "    else:\n",
    "        print(f'Output for {task.name}')\n",
    "        print(task.output)\n",
    "    w.tasks[task.name]= task.output"
   ]
  },
  {
   "cell_type": "code",
   "execution_count": 11,
   "id": "04f13f9b-b4e4-41de-9d46-93ba7c0f1d64",
   "metadata": {
    "actionNeedsCredential": false,
    "actionSupportsIteration": false,
    "actionSupportsPoll": false,
    "collapsed": true,
    "jupyter": {
     "outputs_hidden": true,
     "source_hidden": true
    },
    "orderProperties": [],
    "tags": [],
    "title": "EBSVolume",
    "credentialsJson": {}
   },
   "outputs": [],
   "source": [
    "EBSVolume = EBSVolumeDetail[PrivateIPAddress][0].split(\":\")[1].lstrip()\n",
    "print(EBSVolume)"
   ]
  },
  {
   "cell_type": "markdown",
   "id": "a60e2d42",
   "metadata": {},
   "source": [
    "Here we will use unSkript EBS Modify Volume Lego. This lego takes volume_id, resize_option, resize_value and region as input. This input is used to Modify/Resize volume for Elastic Block Storage (EBS)."
   ]
  },
  {
   "cell_type": "code",
   "execution_count": null,
   "id": "73ae8acd-cd9a-48ba-a0ae-738036241167",
   "metadata": {
    "accessType": "ACCESS_TYPE_UNSPECIFIED",
    "actionBashCommand": false,
    "actionNeedsCredential": true,
    "actionSupportsIteration": true,
    "actionSupportsPoll": true,
    "action_uuid": "45ea29baa63ca8b078fdba68742bc30e7ecd950bcab2e4bb572b3d6bbb984c12",
    "collapsed": true,
    "createTime": "1970-01-01T00:00:00Z",
    "currentVersion": "0.1.0",
    "description": "Modify/Resize volume for Elastic Block Storage (EBS).",
    "id": 109,
    "index": 109,
    "inputData": [
     {
      "region": {
       "constant": false,
       "value": "Region"
      },
      "resize_option": {
       "constant": false,
       "value": "\"Add\""
      },
      "resize_value": {
       "constant": false,
       "value": "SizeToIncreaseBy"
      },
      "volume_id": {
       "constant": false,
       "value": "EBSVolume"
      }
     }
    ],
    "inputschema": [
     {
      "properties": {
       "region": {
        "description": "AWS Region of the volume.",
        "title": "Region",
        "type": "string"
       },
       "resize_option": {
        "description": "\n            Option to resize the volume. 2 options supported:\n            1. Add - Use this option to resize by an amount.\n            2. Multiple - Use this option if you want to resize by a multiple of the current volume size.\n        ",
        "title": "Resize option",
        "type": "string"
       },
       "resize_value": {
        "description": "\n            Based on the resize option chosen, specify the value. For eg, if you chose Add option, this\n            value will be a value in Gb (like 100). If you chose Multiple option, this value will be a multiplying factor\n            to the current volume size. So, if you want to double, you specify 2 here.\n        ",
        "title": "Value",
        "type": "number"
       },
       "volume_id": {
        "description": "EBS Volume ID to resize.",
        "title": "EBS Volume ID",
        "type": "string"
       }
      },
      "required": [
       "volume_id",
       "resize_option",
       "resize_value",
       "region"
      ],
      "title": "aws_ebs_modify_volume",
      "type": "object"
     }
    ],
    "jupyter": {
     "outputs_hidden": true,
     "source_hidden": true
    },
    "legotype": "LEGO_TYPE_AWS",
    "name": "EBS Modify Volume",
    "nouns": [
     "ebs",
     "volume"
    ],
    "orderProperties": [
     "volume_id",
     "resize_option",
     "resize_value",
     "region"
    ],
    "output": {
     "type": ""
    },
    "tags": [
     "aws_ebs_modify_volume"
    ],
    "verbs": [
     "modify"
    ],
    "credentialsJson": {}
   },
   "outputs": [],
   "source": [
    "##\n",
    "# Copyright (c) 2021 unSkript, Inc\n",
    "# All rights reserved.\n",
    "##\n",
    "\n",
    "import enum\n",
    "from pydantic import BaseModel, Field\n",
    "from unskript.legos.aws.aws_get_handle import Session\n",
    "from polling2 import poll_decorator\n",
    "\n",
    "\n",
    "class SizingOption(enum.Enum):\n",
    "    Add = \"Add\"\n",
    "    Mutiple = \"Multiple\"\n",
    "\n",
    "\n",
    "from beartype import beartype\n",
    "@beartype\n",
    "def aws_ebs_modify_volume(\n",
    "    hdl: Session,\n",
    "    volume_id: str,\n",
    "    resize_option: str,\n",
    "    resize_value: float,\n",
    "    region: str,\n",
    "):\n",
    "    \"\"\"aws_ebs_modify_volume modifies the size of the EBS Volume.\n",
    "    You can either increase it a provided value or by a provided multiple value.\n",
    "\n",
    "    :type volume_id: string\n",
    "    :param volume_id: ebs volume id.\n",
    "\n",
    "    :type resize_option: string\n",
    "    :param resize_option: option to resize the volume, by a fixed amount or by a multiple of the existing size.\n",
    "\n",
    "    :type value: int\n",
    "    :param value: The value by which the volume should be modified, depending upon the resize option.\n",
    "\n",
    "    :type region: string\n",
    "    :param region: AWS Region of the volume.\n",
    "\n",
    "    :rtype: New volume size.\n",
    "    \"\"\"\n",
    "\n",
    "    ec2Client = hdl.client(\"ec2\", region_name=region)\n",
    "    ec2Resource = hdl.resource(\"ec2\", region_name=region)\n",
    "    # Get the current volume size.\n",
    "    Volume = ec2Resource.Volume(volume_id)\n",
    "    currentSize = Volume.size\n",
    "\n",
    "    if resize_option == SizingOption.Add.value:\n",
    "        newSize = currentSize + resize_value\n",
    "    elif resize_option == SizingOption.Mutiple.value:\n",
    "        newSize = currentSize * resize_value\n",
    "\n",
    "    print(f'CurrentSize {currentSize}, NewSize {newSize}')\n",
    "\n",
    "    resp = ec2Client.modify_volume(\n",
    "        VolumeId=volume_id,\n",
    "        Size=newSize)\n",
    "\n",
    "    # Check the modification state\n",
    "    try:\n",
    "        check_modification_status(ec2Client, volume_id)\n",
    "    except Exception as e:\n",
    "        print(f'Modify volumeID {volume_id} failed: {str(e)}')\n",
    "        raise e\n",
    "\n",
    "    print(f'Volume {volume_id} size modified successfully to {newSize}')\n",
    "    return\n",
    "\n",
    "\n",
    "@poll_decorator(step=60, timeout=600, check_success=lambda x: x is True)\n",
    "def check_modification_status(ec2Client, volumeID) -> bool:\n",
    "    resp = ec2Client.describe_volumes_modifications(VolumeIds=[volumeID])\n",
    "    state = resp['VolumesModifications'][0]['ModificationState']\n",
    "    progress = resp['VolumesModifications'][0]['Progress']\n",
    "    print(f'Volume modification state {state}, Progress {progress}')\n",
    "    if state == 'completed' or state == None:\n",
    "        return True\n",
    "    elif state == 'failed':\n",
    "        raise Exception(\"Get Status Failed\")\n",
    "    return False\n",
    "\n",
    "\n",
    "task = Task(Workflow())\n",
    "task.configure(inputParamsJson='''{\n",
    "    \"region\": \"Region\",\n",
    "    \"resize_option\": \"\\\\\"Add\\\\\"\",\n",
    "    \"volume_id\": \"EBSVolume\"\n",
    "    }''')\n",
    "\n",
    "(err, hdl, args) = task.validate(vars=vars())\n",
    "if err is None:\n",
    "    task.output = task.execute(aws_ebs_modify_volume, hdl=hdl, args=args)\n",
    "    if task.output_name != None:\n",
    "        globals().update({task.output_name: task.output[0]})\n",
    "\n",
    "if hasattr(task, 'output'):\n",
    "    if isinstance(task.output, (list, tuple)):\n",
    "        for item in task.output:\n",
    "            print(f'item: {item}')\n",
    "    elif isinstance(task.output, dict):\n",
    "        for item in task.output.items():\n",
    "            print(f'item: {item}')\n",
    "    else:\n",
    "        print(f'Output for {task.name}')\n",
    "        print(task.output)\n",
    "    w.tasks[task.name]= task.output"
   ]
  },
  {
   "cell_type": "code",
   "execution_count": 12,
   "id": "8b628a00-35e6-42eb-b579-9aa28fac1b69",
   "metadata": {
    "actionNeedsCredential": false,
    "actionSupportsIteration": false,
    "actionSupportsPoll": false,
    "collapsed": true,
    "jupyter": {
     "outputs_hidden": true,
     "source_hidden": true
    },
    "orderProperties": [],
    "tags": [],
    "title": "Create the growpart command",
    "credentialsJson": {}
   },
   "outputs": [],
   "source": [
    "# growpart /dev/nvme0n1 1\n",
    "growpartCommand = \"growpart /dev/\" + BlockDeviceName + \" 1\""
   ]
  },
  {
   "cell_type": "markdown",
   "id": "cdf4cb16",
   "metadata": {},
   "source": [
    "Here we will use unSkript SSH Execute Remote Command Lego. This lego takes hosts, command and sudo as input. This input is used to SSH Execute Remote Command."
   ]
  },
  {
   "cell_type": "code",
   "execution_count": null,
   "id": "3fcc063c-c1ab-42d8-8d89-18dd60f755ae",
   "metadata": {
    "accessType": "ACCESS_TYPE_UNSPECIFIED",
    "actionBashCommand": false,
    "actionNeedsCredential": true,
    "actionSupportsIteration": true,
    "actionSupportsPoll": true,
    "action_uuid": "5279b2046bb2eb4a691ba748086f4af9e580a849faae557694bb12a8c2b7b379",
    "createTime": "1970-01-01T00:00:00Z",
    "currentVersion": "0.1.0",
    "description": "SSH Execute Remote Command",
    "id": 58,
    "index": 58,
    "inputData": [
     {
      "command": {
       "constant": false,
       "value": "growpartCommand"
      },
      "hosts": {
       "constant": false,
       "value": "[PrivateIPAddress]"
      },
      "sudo": {
       "constant": true,
       "value": true
      }
     }
    ],
    "inputschema": [
     {
      "properties": {
       "command": {
        "description": "Command to be executed on the remote server.",
        "title": "Command",
        "type": "string"
       },
       "hosts": {
        "description": "List of hosts to connect to. For eg. [\"host1\", \"host2\"].",
        "items": {
         "type": "string"
        },
        "title": "Hosts",
        "type": "array"
       },
       "sudo": {
        "default": false,
        "description": "Run the command with sudo.",
        "title": "Run with sudo",
        "type": "boolean"
       }
      },
      "required": [
       "hosts",
       "command"
      ],
      "title": "ssh_execute_remote_command",
      "type": "object"
     }
    ],
    "jupyter": {
     "source_hidden": true
    },
    "legotype": "LEGO_TYPE_SSH",
    "name": "Executing growpart command",
    "nouns": [
     "ssh",
     "command"
    ],
    "orderProperties": [
     "hosts",
     "command",
     "sudo"
    ],
    "output": {
     "type": ""
    },
    "tags": [
     "ssh_execute_remote_command"
    ],
    "title": "Executing growpart command",
    "verbs": [
     "execute"
    ],
    "credentialsJson": {}
   },
   "outputs": [],
   "source": [
    "##\n",
    "# Copyright (c) 2021 unSkript, Inc\n",
    "# All rights reserved.\n",
    "##\n",
    "import json\n",
    "import tempfile\n",
    "import os\n",
    "from pydantic import BaseModel, Field\n",
    "from pssh.clients import ParallelSSHClient\n",
    "from typing import List, Optional\n",
    "from unskript.connectors import ssh\n",
    "\n",
    "from unskript.legos.cellparams import CellParams\n",
    "from unskript import connectors\n",
    "\n",
    "\n",
    "from beartype import beartype\n",
    "@beartype\n",
    "def ssh_execute_remote_command(sshClient, hosts: List[str], command: str, sudo: bool = False):\n",
    "\n",
    "    client = sshClient(hosts)\n",
    "    runCommandOutput = client.run_command(command=command, sudo=sudo)\n",
    "    client.join()\n",
    "    res = {}\n",
    "\n",
    "    for host_output in runCommandOutput:\n",
    "        hostname = host_output.host\n",
    "        output = []\n",
    "        for line in host_output.stdout:\n",
    "            output.append(line)\n",
    "        res[hostname] = output\n",
    "\n",
    "        o = \"\\n\".join(output)\n",
    "        print(f\"Output from host {hostname}\\n{o}\\n\")\n",
    "\n",
    "    return res\n",
    "\n",
    "\n",
    "task = Task(Workflow())\n",
    "task.configure(inputParamsJson='''{\n",
    "    \"command\": \"growpartCommand\",\n",
    "    \"hosts\": \"[PrivateIPAddress]\",\n",
    "    \"sudo\": \"True\"\n",
    "    }''')\n",
    "\n",
    "(err, hdl, args) = task.validate(vars=vars())\n",
    "if err is None:\n",
    "    task.output = task.execute(ssh_execute_remote_command, hdl=hdl, args=args)\n",
    "    if task.output_name != None:\n",
    "        globals().update({task.output_name: task.output[0]})\n",
    "\n",
    "if hasattr(task, 'output'):\n",
    "    if isinstance(task.output, (list, tuple)):\n",
    "        for item in task.output:\n",
    "            print(f'item: {item}')\n",
    "    elif isinstance(task.output, dict):\n",
    "        for item in task.output.items():\n",
    "            print(f'item: {item}')\n",
    "    else:\n",
    "        print(f'Output for {task.name}')\n",
    "        print(task.output)\n",
    "    w.tasks[task.name]= task.output"
   ]
  },
  {
   "cell_type": "markdown",
   "id": "a673117a",
   "metadata": {},
   "source": [
    "Here we will use unSkript SSH Execute Remote Command Lego. This lego takes hosts, command and sudo as input. This input is used to SSH Execute Remote Command and get Mount path details."
   ]
  },
  {
   "cell_type": "code",
   "execution_count": null,
   "id": "3da58118-c5f6-415f-bdc9-97434703dff8",
   "metadata": {
    "accessType": "ACCESS_TYPE_UNSPECIFIED",
    "actionBashCommand": false,
    "actionNeedsCredential": true,
    "actionSupportsIteration": true,
    "actionSupportsPoll": true,
    "action_uuid": "5279b2046bb2eb4a691ba748086f4af9e580a849faae557694bb12a8c2b7b379",
    "createTime": "1970-01-01T00:00:00Z",
    "currentVersion": "0.1.0",
    "description": "SSH Execute Remote Command",
    "id": 58,
    "index": 58,
    "inputData": [
     {
      "command": {
       "constant": false,
       "value": "\"findmnt -nr -o target -S \" + DeviceName"
      },
      "hosts": {
       "constant": false,
       "value": "[PrivateIPAddress]"
      },
      "sudo": {
       "constant": true,
       "value": false
      }
     }
    ],
    "inputschema": [
     {
      "properties": {
       "command": {
        "description": "Command to be executed on the remote server.",
        "title": "Command",
        "type": "string"
       },
       "hosts": {
        "description": "List of hosts to connect to. For eg. [\"host1\", \"host2\"].",
        "items": {
         "type": "string"
        },
        "title": "Hosts",
        "type": "array"
       },
       "sudo": {
        "default": false,
        "description": "Run the command with sudo.",
        "title": "Run with sudo",
        "type": "boolean"
       }
      },
      "required": [
       "hosts",
       "command"
      ],
      "title": "ssh_execute_remote_command",
      "type": "object"
     }
    ],
    "jupyter": {
     "source_hidden": true
    },
    "legotype": "LEGO_TYPE_SSH",
    "name": "Get the mount target from the device name",
    "nouns": [
     "ssh",
     "command"
    ],
    "orderProperties": [
     "hosts",
     "command",
     "sudo"
    ],
    "output": {
     "type": ""
    },
    "outputParams": {
     "output_name": "MountPathDetail",
     "output_name_enabled": true
    },
    "tags": [
     "ssh_execute_remote_command"
    ],
    "title": "Get the mount target from the device name",
    "verbs": [
     "execute"
    ],
    "credentialsJson": {}
   },
   "outputs": [],
   "source": [
    "##\n",
    "# Copyright (c) 2021 unSkript, Inc\n",
    "# All rights reserved.\n",
    "##\n",
    "import json\n",
    "import tempfile\n",
    "import os\n",
    "from pydantic import BaseModel, Field\n",
    "from pssh.clients import ParallelSSHClient\n",
    "from typing import List, Optional\n",
    "from unskript.connectors import ssh\n",
    "\n",
    "from unskript.legos.cellparams import CellParams\n",
    "from unskript import connectors\n",
    "\n",
    "\n",
    "from beartype import beartype\n",
    "@beartype\n",
    "def ssh_execute_remote_command(sshClient, hosts: List[str], command: str, sudo: bool = False):\n",
    "\n",
    "    client = sshClient(hosts)\n",
    "    runCommandOutput = client.run_command(command=command, sudo=sudo)\n",
    "    client.join()\n",
    "    res = {}\n",
    "\n",
    "    for host_output in runCommandOutput:\n",
    "        hostname = host_output.host\n",
    "        output = []\n",
    "        for line in host_output.stdout:\n",
    "            output.append(line)\n",
    "        res[hostname] = output\n",
    "\n",
    "        o = \"\\n\".join(output)\n",
    "        print(f\"Output from host {hostname}\\n{o}\\n\")\n",
    "\n",
    "    return res\n",
    "\n",
    "\n",
    "task = Task(Workflow())\n",
    "task.configure(inputParamsJson='''{\n",
    "    \"command\": \"\\\\\"findmnt -nr -o target -S \\\\\" + DeviceName\",\n",
    "    \"hosts\": \"[PrivateIPAddress]\",\n",
    "    \"sudo\": \"False\"\n",
    "    }''')\n",
    "task.configure(outputName=\"MountPathDetail\")\n",
    "\n",
    "(err, hdl, args) = task.validate(vars=vars())\n",
    "if err is None:\n",
    "    task.output = task.execute(ssh_execute_remote_command, hdl=hdl, args=args)\n",
    "    if task.output_name != None:\n",
    "        globals().update({task.output_name: task.output[0]})\n",
    "\n",
    "if hasattr(task, 'output'):\n",
    "    if isinstance(task.output, (list, tuple)):\n",
    "        for item in task.output:\n",
    "            print(f'item: {item}')\n",
    "    elif isinstance(task.output, dict):\n",
    "        for item in task.output.items():\n",
    "            print(f'item: {item}')\n",
    "    else:\n",
    "        print(f'Output for {task.name}')\n",
    "        print(task.output)\n",
    "    w.tasks[task.name]= task.output"
   ]
  },
  {
   "cell_type": "code",
   "execution_count": 15,
   "id": "bfbd0896-91ad-41ad-881b-41ebe96d8812",
   "metadata": {
    "actionNeedsCredential": false,
    "actionSupportsIteration": false,
    "actionSupportsPoll": false,
    "orderProperties": [],
    "tags": [],
    "title": "Store the Mount Path",
    "credentialsJson": {}
   },
   "outputs": [],
   "source": [
    "MountPath = MountPathDetail[PrivateIPAddress][0]"
   ]
  },
  {
   "cell_type": "markdown",
   "id": "c4fe887f",
   "metadata": {},
   "source": [
    "Here we will use unSkript SSH Execute Remote Command Lego. This lego takes hosts, command and sudo as input. This input is used to SSH Execute Remote Command for Mount path."
   ]
  },
  {
   "cell_type": "code",
   "execution_count": null,
   "id": "e43b6a6b-c0e6-4eb5-ae47-bd474e00fb04",
   "metadata": {
    "accessType": "ACCESS_TYPE_UNSPECIFIED",
    "actionBashCommand": false,
    "actionNeedsCredential": true,
    "actionSupportsIteration": true,
    "actionSupportsPoll": true,
    "action_uuid": "5279b2046bb2eb4a691ba748086f4af9e580a849faae557694bb12a8c2b7b379",
    "createTime": "1970-01-01T00:00:00Z",
    "currentVersion": "0.1.0",
    "description": "SSH Execute Remote Command",
    "id": 58,
    "index": 58,
    "inputData": [
     {
      "command": {
       "constant": false,
       "value": "\"xfs_growfs -d \" + MountPath"
      },
      "hosts": {
       "constant": false,
       "value": "[PrivateIPAddress]"
      },
      "sudo": {
       "constant": true,
       "value": true
      }
     }
    ],
    "inputschema": [
     {
      "properties": {
       "command": {
        "description": "Command to be executed on the remote server.",
        "title": "Command",
        "type": "string"
       },
       "hosts": {
        "description": "List of hosts to connect to. For eg. [\"host1\", \"host2\"].",
        "items": {
         "type": "string"
        },
        "title": "Hosts",
        "type": "array"
       },
       "sudo": {
        "default": false,
        "description": "Run the command with sudo.",
        "title": "Run with sudo",
        "type": "boolean"
       }
      },
      "required": [
       "hosts",
       "command"
      ],
      "title": "ssh_execute_remote_command",
      "type": "object"
     }
    ],
    "jupyter": {
     "source_hidden": true
    },
    "legotype": "LEGO_TYPE_SSH",
    "name": "Execute the extend file system command",
    "nouns": [
     "ssh",
     "command"
    ],
    "orderProperties": [
     "hosts",
     "command",
     "sudo"
    ],
    "output": {
     "type": ""
    },
    "tags": [
     "ssh_execute_remote_command"
    ],
    "title": "Execute the extend file system command",
    "verbs": [
     "execute"
    ],
    "credentialsJson": {}
   },
   "outputs": [],
   "source": [
    "##\n",
    "# Copyright (c) 2021 unSkript, Inc\n",
    "# All rights reserved.\n",
    "##\n",
    "import json\n",
    "import tempfile\n",
    "import os\n",
    "from pydantic import BaseModel, Field\n",
    "from pssh.clients import ParallelSSHClient\n",
    "from typing import List, Optional\n",
    "from unskript.connectors import ssh\n",
    "\n",
    "from unskript.legos.cellparams import CellParams\n",
    "from unskript import connectors\n",
    "\n",
    "\n",
    "from beartype import beartype\n",
    "@beartype\n",
    "def ssh_execute_remote_command(sshClient, hosts: List[str], command: str, sudo: bool = False):\n",
    "\n",
    "    client = sshClient(hosts)\n",
    "    runCommandOutput = client.run_command(command=command, sudo=sudo)\n",
    "    client.join()\n",
    "    res = {}\n",
    "\n",
    "    for host_output in runCommandOutput:\n",
    "        hostname = host_output.host\n",
    "        output = []\n",
    "        for line in host_output.stdout:\n",
    "            output.append(line)\n",
    "        res[hostname] = output\n",
    "\n",
    "        o = \"\\n\".join(output)\n",
    "        print(f\"Output from host {hostname}\\n{o}\\n\")\n",
    "\n",
    "    return res\n",
    "\n",
    "\n",
    "task = Task(Workflow())\n",
    "task.configure(inputParamsJson='''{\n",
    "    \"command\": \"\\\\\"xfs_growfs -d \\\\\" + MountPath\",\n",
    "    \"hosts\": \"[PrivateIPAddress]\",\n",
    "    \"sudo\": \"True\"\n",
    "    }''')\n",
    "\n",
    "(err, hdl, args) = task.validate(vars=vars())\n",
    "if err is None:\n",
    "    task.output = task.execute(ssh_execute_remote_command, hdl=hdl, args=args)\n",
    "    if task.output_name != None:\n",
    "        globals().update({task.output_name: task.output[0]})\n",
    "\n",
    "if hasattr(task, 'output'):\n",
    "    if isinstance(task.output, (list, tuple)):\n",
    "        for item in task.output:\n",
    "            print(f'item: {item}')\n",
    "    elif isinstance(task.output, dict):\n",
    "        for item in task.output.items():\n",
    "            print(f'item: {item}')\n",
    "    else:\n",
    "        print(f'Output for {task.name}')\n",
    "        print(task.output)\n",
    "    w.tasks[task.name]= task.output"
   ]
  },
  {
   "cell_type": "markdown",
   "id": "7662bd37",
   "metadata": {},
   "source": [
    "### Conclusion\n",
    "In this Runbook, we demonstrated the use of unSkript's AWS and SSH legos to Resize EBS Volume and run resizes the EBS volume to a specified amount. This runbook can be attached to Disk usage related Cloudwatch alarms to do the appropriate resizing. It also extends the filesystem to use the new volume size. To view the full platform capabilities of unSkript please visit https://us.app.unskript.io"
   ]
  }
 ],
 "metadata": {
  "execution_data": {
   "runbook_name": "Resize EBS Volume",
   "parameters": [
    "SizeToIncreaseBy"
   ]
  },
  "kernelspec": {
   "display_name": "Python 3.9.6 64-bit",
   "language": "python",
   "name": "python3"
  },
  "language_info": {
   "file_extension": ".py",
   "mimetype": "text/x-python",
   "name": "python",
   "pygments_lexer": "ipython3",
   "version": "3.9.6"
  },
  "parameterSchema": {
   "properties": {
    "SizeToIncreaseBy": {
     "description": "This is the size you want to increase the volume by. This values is in Gb.",
     "title": "SizeToIncreaseBy",
     "type": "number",
     "value": 0
    }
   },
   "required": [],
   "title": "ResizeEBSVolumeOnDiskUtilizationAlert",
   "type": "object"
  },
  "parameterValues": {
   "SizeToIncreaseBy": null
  },
  "vscode": {
   "interpreter": {
    "hash": "31f2aee4e71d21fbe5cf8b01ff0e069b9275f58929596ceb00d14d90e3e16cd6"
   }
  }
 },
 "nbformat": 4,
 "nbformat_minor": 5
}