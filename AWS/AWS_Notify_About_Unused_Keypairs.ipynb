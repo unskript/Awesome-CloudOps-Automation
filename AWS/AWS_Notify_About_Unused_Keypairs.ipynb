{
 "cells": [
  {
   "cell_type": "markdown",
   "id": "5360a41f-ee95-482d-8523-4c5f608eca12",
   "metadata": {
    "jupyter": {
     "source_hidden": false
    },
    "name": "Steps Overview",
    "orderProperties": [],
    "tags": [],
    "title": "Steps Overview"
   },
   "source": [
    "<center><img src=\"https://storage.googleapis.com/unskript-website/assets/favicon.png\" alt=\"unSkript.com\" width=\"100\" height=\"100\">\n",
    "<h1 id=\"unSkript-Runbooks\">unSkript Runbooks<a class=\"jp-InternalAnchorLink\" href=\"#unSkript-Runbooks\" target=\"_self\">&para;</a></h1>\n",
    "<div class=\"alert alert-block alert-success\">\n",
    "<h3 id=\"Objective\">Objective<a class=\"jp-InternalAnchorLink\" href=\"#Objective\" target=\"_self\">&para;</a></h3>\n",
    "<br><strong style=\"color: #000000;\"><em>Send a Slack notification for Unused Keypairs</em></strong></div>\n",
    "</center>\n",
    "<p>&nbsp;</p>\n",
    "<center>\n",
    "<h2 id=\"Notify-unused-keypairs\"><u>Notify unused keypairs</u><a class=\"jp-InternalAnchorLink\" href=\"#Notify-unused-keypairs\" target=\"_self\">&para;</a></h2>\n",
    "</center>\n",
    "<h1 id=\"Steps-Overview\">Steps Overview<a class=\"jp-InternalAnchorLink\" href=\"#Steps-Overview\" target=\"_self\">&para;</a></h1>\n",
    "<p>1)<a href=\"#1\" target=\"_self\" rel=\"noopener\"> Find unused Keypairs</a><br>2)<a href=\"#2\" target=\"_self\" rel=\"noopener\"> Send message to Slack</a></p>"
   ]
  },
  {
   "cell_type": "code",
   "execution_count": null,
   "id": "78a320c1-9152-46bd-b58b-dc46b7ac7ed5",
   "metadata": {
    "credentialsJson": {},
    "customAction": true,
    "execution_data": {
     "last_date_success_run_cell": "2023-05-18T16:24:19.808Z"
    },
    "jupyter": {
     "source_hidden": true
    },
    "name": "Input Verification",
    "orderProperties": [],
    "tags": [],
    "title": "Input Verification"
   },
   "outputs": [],
   "source": [
    "if region == None:\n",
    "    region = ''"
   ]
  },
  {
   "cell_type": "markdown",
   "id": "b35da62e-6d0d-4779-8820-cbae0e915530",
   "metadata": {
    "jupyter": {
     "source_hidden": false
    },
    "name": "Step 1",
    "orderProperties": [],
    "tags": [],
    "title": "Step 1"
   },
   "source": [
    "<h3 id=\"Filter-unused-Keypairs\"><a id=\"1\" target=\"_self\" rel=\"nofollow\"></a>Filter unused Keypairs</h3>\n",
    "<p>Using unSkript's Filter AWS Unused Keypairs action, we will fetch all the available keypairs and compare them to the ones that are used by the AWS instances. If a match is not found, the keypair is deduced to be unused.</p>\n",
    "<blockquote>\n",
    "<p>This action takes the following parameters: <code>region</code></p>\n",
    "</blockquote>\n",
    "<blockquote>\n",
    "<p>This action captures the following output: <code>unused_key_pairs</code></p>\n",
    "</blockquote>"
   ]
  },
  {
   "cell_type": "code",
   "execution_count": null,
   "id": "5a871fd8-ba3a-4eb3-97f2-a083aac7e925",
   "metadata": {
    "actionBashCommand": false,
    "actionCategories": [
     "CATEGORY_TYPE_CLOUDOPS",
     "CATEGORY_TYPE_DEVOPS",
     "CATEGORY_TYPE_SRE",
     "CATEGORY_TYPE_AWS",
     "CATEGORY_TYPE_AWS_EC2"
    ],
    "actionDescription": "Filter AWS Unused Keypairs",
    "actionEntryFunction": "aws_filter_unused_keypairs",
    "actionIsCheck": true,
    "actionIsRemediation": false,
    "actionNeedsCredential": true,
    "actionNextHop": [
     "a28edafac5f3bac3ca34d677d9b01a4bc6f74893e50bc103e5cefb00e0f48746"
    ],
    "actionNextHopParameterMapping": {},
    "actionNouns": null,
    "actionOutputType": "ACTION_OUTPUT_TYPE_LIST",
    "actionSupportsIteration": true,
    "actionSupportsPoll": true,
    "actionTitle": "Filter AWS Unused Keypairs",
    "actionType": "LEGO_TYPE_AWS",
    "actionVerbs": null,
    "actionVersion": "1.0.0",
    "action_modified": false,
    "action_uuid": "adb9d5bea27bf94e9537edccd8683accde12b7afa786ce6e8d89b34079846a44",
    "continueOnError": false,
    "credentialsJson": {},
    "description": "Filter AWS Unused Keypairs",
    "id": 4,
    "index": 4,
    "inputData": [
     {
      "region": {
       "constant": false,
       "value": "region"
      }
     }
    ],
    "inputschema": [
     {
      "properties": {
       "region": {
        "default": "",
        "description": "Name of the AWS Region",
        "title": "Region",
        "type": "string"
       }
      },
      "required": [],
      "title": "aws_filter_unused_keypairs",
      "type": "object"
     }
    ],
    "jupyter": {
     "source_hidden": true
    },
    "language": "python",
    "legotype": "LEGO_TYPE_AWS",
    "name": "Filter AWS Unused Keypairs",
    "orderProperties": [
     "region"
    ],
    "outputParams": {
     "output_name": "unused_keypairs",
     "output_name_enabled": true,
     "output_runbook_enabled": false,
     "output_runbook_name": ""
    },
    "printOutput": true,
    "tags": [
     "aws_filter_unused_keypairs"
    ],
    "uuid": "adb9d5bea27bf94e9537edccd8683accde12b7afa786ce6e8d89b34079846a44",
    "version": "1.0.0"
   },
   "outputs": [],
   "source": [
    "##\n",
    "##  Copyright (c) 2021 unSkript, Inc\n",
    "##  All rights reserved.\n",
    "##\n",
    "from pydantic import BaseModel, Field\n",
    "from typing import List, Tuple,Optional\n",
    "from unskript.legos.utils import CheckOutput, CheckOutputStatus\n",
    "from unskript.legos.aws.aws_list_all_regions.aws_list_all_regions import aws_list_all_regions\n",
    "from unskript.connectors.aws import aws_get_paginator\n",
    "import pprint\n",
    "\n",
    "from beartype import beartype\n",
    "@beartype\n",
    "def aws_filter_unused_keypairs_printer(output):\n",
    "    if output is None:\n",
    "        return\n",
    "    if isinstance(output, CheckOutput):\n",
    "        print(output.json())\n",
    "    else:\n",
    "        pprint.pprint(output)\n",
    "\n",
    "\n",
    "@beartype\n",
    "def aws_filter_unused_keypairs(handle, region: str = None) -> CheckOutput:\n",
    "    \"\"\"aws_filter_unused_keypairs Returns an array of KeyPair.\n",
    "\n",
    "        :type region: object\n",
    "        :param region: Object containing global params for the notebook.\n",
    "\n",
    "        :rtype: Object with status, result of unused key pairs, and error.\n",
    "    \"\"\"\n",
    "    all_keys_dict = {}\n",
    "    used_keys_dict = {}\n",
    "    key_pairs_all = []\n",
    "    used_key_pairs = []\n",
    "    result = []\n",
    "    all_regions = [region]\n",
    "    if region is None or len(region)==0:\n",
    "        all_regions = aws_list_all_regions(handle=handle)\n",
    "    for r in all_regions:\n",
    "        try:\n",
    "            ec2Client = handle.client('ec2', region_name=r)\n",
    "            key_pairs_all = list(map(lambda i: i['KeyName'], ec2Client.describe_key_pairs()['KeyPairs']))\n",
    "            res = aws_get_paginator(ec2Client, \"describe_instances\", \"Reservations\")\n",
    "            for reservation in res:\n",
    "                for keypair in reservation['Instances']:\n",
    "                    if 'KeyName'in keypair and keypair['KeyName'] not in used_key_pairs:\n",
    "                        used_key_pairs.append(keypair['KeyName'])\n",
    "            used_keys_dict[\"region\"]=r\n",
    "            used_keys_dict[\"key_name\"]=used_key_pairs\n",
    "            all_keys_dict[\"region\"]=r\n",
    "            all_keys_dict[\"key_name\"]=key_pairs_all\n",
    "            final_dict = {}\n",
    "            final_list=[]\n",
    "            for k,v in all_keys_dict.items():\n",
    "                if v!=[]:\n",
    "                    if k==\"key_name\":\n",
    "                        for each in v:\n",
    "                            if each not in used_keys_dict[\"key_name\"]:\n",
    "                                final_list.append(each)\n",
    "                if len(final_list)!=0:\n",
    "                    final_dict[\"region\"]=r\n",
    "                    final_dict[\"unused_keys\"]=final_list\n",
    "            if len(final_dict)!=0:\n",
    "                result.append(final_dict)\n",
    "        except Exception as e:\n",
    "            pass\n",
    "\n",
    "    if len(result) != 0:\n",
    "        return (False, result)\n",
    "    else:\n",
    "        return (True, None)\n",
    "\n",
    "\n",
    "task = Task(Workflow())\n",
    "task.configure(inputParamsJson='''{\n",
    "    \"region\": \"region\"\n",
    "    }''')\n",
    "\n",
    "task.configure(outputName=\"unused_keypairs\")\n",
    "\n",
    "task.configure(printOutput=True)\n",
    "(err, hdl, args) = task.validate(vars=vars())\n",
    "if err is None:\n",
    "    task.execute(aws_filter_unused_keypairs, lego_printer=aws_filter_unused_keypairs_printer, hdl=hdl, args=args)"
   ]
  },
  {
   "cell_type": "markdown",
   "id": "732807f2-94cc-4741-b14e-92bbf46b4724",
   "metadata": {
    "jupyter": {
     "source_hidden": false
    },
    "name": "Step 2A",
    "orderProperties": [],
    "tags": [],
    "title": "Step 2A"
   },
   "source": [
    "<h3 id=\"Create-List-of-Unused-Keypairs\">Create List of Unused Keypairs</h3>\n",
    "<p>This action filters regions that have no unused keypairs and creates a list of those that have them.</p>\n",
    "<blockquote>\n",
    "<p>This action takes the following parameters: <code>None</code></p>\n",
    "</blockquote>\n",
    "<blockquote>\n",
    "<p>This action captures the following output: <code>all_unused_key_pairs</code></p>\n",
    "</blockquote>"
   ]
  },
  {
   "cell_type": "code",
   "execution_count": null,
   "id": "379c28b0-407d-4d04-9319-d57bb5ee48e6",
   "metadata": {
    "collapsed": true,
    "credentialsJson": {},
    "customAction": true,
    "execution_data": {
     "last_date_success_run_cell": "2023-02-02T16:26:29.300Z"
    },
    "jupyter": {
     "outputs_hidden": true,
     "source_hidden": true
    },
    "name": "Create List of Unused Keypairs",
    "orderProperties": [],
    "tags": [],
    "title": "Create List of Unused Keypairs"
   },
   "outputs": [],
   "source": [
    "all_unused_key_pairs = []\n",
    "if unused_keypairs[0] == False:\n",
    "    if len(unused_keypairs[1])!=0:\n",
    "        all_unused_key_pairs=unused_keypairs[1]\n",
    "print(all_unused_key_pairs)\n",
    "task.configure(outputName=\"all_unused_key_pairs\")"
   ]
  },
  {
   "cell_type": "markdown",
   "id": "bdb9d8ef-d374-4225-9f60-a72acab538d3",
   "metadata": {
    "jupyter": {
     "source_hidden": false
    },
    "name": "Step 2",
    "orderProperties": [],
    "tags": [],
    "title": "Step 2"
   },
   "source": [
    "<h3 id=\"Send-message-to-Slack\"><a id=\"2\" target=\"_self\" rel=\"nofollow\"></a>Send message to Slack</h3>\n",
    "<p>This action sends a message containing the region and unused keypairs list to the given channel.</p>\n",
    "<blockquote>\n",
    "<p>This action takes the following parameters: <code>None</code></p>\n",
    "</blockquote>"
   ]
  },
  {
   "cell_type": "code",
   "execution_count": null,
   "id": "a4e3e317-bb03-4378-9ef0-7fe61fd6f6a8",
   "metadata": {
    "accessType": "ACCESS_TYPE_UNSPECIFIED",
    "actionBashCommand": false,
    "actionNeedsCredential": true,
    "actionRequiredLinesInCode": [],
    "actionSupportsIteration": true,
    "actionSupportsPoll": true,
    "action_modified": false,
    "action_uuid": "6a87f83ab0ecfeecb9c98d084e2b1066c26fa64be5b4928d5573a5d60299802d",
    "condition_enabled": true,
    "continueOnError": false,
    "createTime": "1970-01-01T00:00:00Z",
    "credentialsJson": {},
    "currentVersion": "0.1.0",
    "description": "Post Slack Message",
    "id": 78,
    "index": 78,
    "inputData": [
     {
      "channel": {
       "constant": false,
       "value": "channel_name"
      },
      "message": {
       "constant": false,
       "value": "\"Unused Keypairs- {}\".format(all_unused_key_pairs)"
      }
     }
    ],
    "inputschema": [
     {
      "properties": {
       "channel": {
        "description": "Name of slack channel.",
        "title": "Channel",
        "type": "string"
       },
       "message": {
        "description": "Message for slack channel.",
        "title": "Message",
        "type": "string"
       }
      },
      "required": [
       "channel",
       "message"
      ],
      "title": "slack_post_message",
      "type": "object"
     }
    ],
    "jupyter": {
     "source_hidden": true
    },
    "legotype": "LEGO_TYPE_SLACK",
    "name": "Post Slack Message",
    "nouns": [],
    "orderProperties": [
     "channel",
     "message"
    ],
    "output": {
     "type": ""
    },
    "printOutput": true,
    "startcondition": "len(channel_name)!=0",
    "tags": [
     "slack_post_message"
    ],
    "verbs": []
   },
   "outputs": [],
   "source": [
    "##\n",
    "# Copyright (c) 2021 unSkript, Inc\n",
    "# All rights reserved.\n",
    "##\n",
    "\n",
    "import pprint\n",
    "\n",
    "from pydantic import BaseModel, Field\n",
    "from slack_sdk import WebClient\n",
    "from slack_sdk.errors import SlackApiError\n",
    "\n",
    "pp = pprint.PrettyPrinter(indent=2)\n",
    "\n",
    "from beartype import beartype\n",
    "\n",
    "from beartype import beartype\n",
    "@beartype\n",
    "def slack_post_message_printer(output):\n",
    "    if output is not None:\n",
    "        pprint.pprint(output)\n",
    "    else:\n",
    "        return\n",
    "\n",
    "\n",
    "@beartype\n",
    "@beartype\n",
    "def slack_post_message(\n",
    "        handle: WebClient,\n",
    "        channel: str,\n",
    "        message: str) -> str:\n",
    "\n",
    "    try:\n",
    "        response = handle.chat_postMessage(\n",
    "            channel=channel,\n",
    "            text=message)\n",
    "        return f\"Successfuly Sent Message on Channel: #{channel}\"\n",
    "    except SlackApiError as e:\n",
    "        pp.pprint(\n",
    "            f\"Failed sending message to slack channel {channel}, Error: {e.response['error']}\")\n",
    "        if e.response['error'] == 'channel_not_found':\n",
    "            raise Exception('Channel Not Found')\n",
    "        elif e.response['error'] == 'duplicate_channel_not_found':\n",
    "            raise Exception('Channel associated with the message_id not valid')\n",
    "        elif e.response['error'] == 'not_in_channel':\n",
    "            raise Exception('Cannot post message to channel user is not in')\n",
    "        elif e.response['error'] == 'is_archived':\n",
    "            raise Exception('Channel has been archived')\n",
    "        elif e.response['error'] == 'msg_too_long':\n",
    "            raise Exception('Message text is too long')\n",
    "        elif e.response['error'] == 'no_text':\n",
    "            raise Exception('Message text was not provided')\n",
    "        elif e.response['error'] == 'restricted_action':\n",
    "            raise Exception('Workspace preference prevents user from posting')\n",
    "        elif e.response['error'] == 'restricted_action_read_only_channel':\n",
    "            raise Exception('Cannot Post message, read-only channel')\n",
    "        elif e.response['error'] == 'team_access_not_granted':\n",
    "            raise Exception('The token used is not granted access to the workspace')\n",
    "        elif e.response['error'] == 'not_authed':\n",
    "            raise Exception('No Authtnecition token provided')\n",
    "        elif e.response['error'] == 'invalid_auth':\n",
    "            raise Exception('Some aspect of Authentication cannot be validated. Request denied')\n",
    "        elif e.response['error'] == 'access_denied':\n",
    "            raise Exception('Access to a resource specified in the request denied')\n",
    "        elif e.response['error'] == 'account_inactive':\n",
    "            raise Exception('Authentication token is for a deleted user')\n",
    "        elif e.response['error'] == 'token_revoked':\n",
    "            raise Exception('Authentication token for a deleted user has been revoked')\n",
    "        elif e.response['error'] == 'no_permission':\n",
    "            raise Exception('The workspace toekn used does not have necessary permission to send message')\n",
    "        elif e.response['error'] == 'ratelimited':\n",
    "            raise Exception('The request has been ratelimited. Retry sending message later')\n",
    "        elif e.response['error'] == 'service_unavailable':\n",
    "            raise Exception('The service is temporarily unavailable')\n",
    "        elif e.response['error'] == 'fatal_error':\n",
    "            raise Exception('The server encountered catostrophic error while sending message')\n",
    "        elif e.response['error'] == 'internal_error':\n",
    "            raise Exception('The server could not complete operation, likely due to transietn issue')\n",
    "        elif e.response['error'] == 'request_timeout':\n",
    "            raise Exception('Sending message error via POST: either message was missing or truncated')\n",
    "        else:\n",
    "            raise Exception(f'Failed Sending Message to slack channel {channel} Error: {e.response[\"error\"]}')\n",
    "\n",
    "    except Exception as e:\n",
    "        print(\"\\n\\n\")\n",
    "        pp.pprint(\n",
    "            f\"Failed sending message to slack channel {channel}, Error: {e.__str__()}\")\n",
    "        return f\"Unable to send message on {channel}\"\n",
    "\n",
    "\n",
    "task = Task(Workflow())\n",
    "task.configure(inputParamsJson='''{\n",
    "    \"channel\": \"channel_name\",\n",
    "    \"message\": \"\\\\\"Unused Keypairs- {}\\\\\".format(all_unused_key_pairs)\"\n",
    "    }''')\n",
    "task.configure(conditionsJson='''{\n",
    "    \"condition_enabled\": true,\n",
    "    \"condition_cfg\": \"len(channel_name)!=0\",\n",
    "    \"condition_result\": true\n",
    "    }''')\n",
    "\n",
    "task.configure(printOutput=True)\n",
    "(err, hdl, args) = task.validate(vars=vars())\n",
    "if err is None:\n",
    "    task.execute(slack_post_message, lego_printer=slack_post_message_printer, hdl=hdl, args=args)"
   ]
  },
  {
   "cell_type": "markdown",
   "id": "4cb76d21-9731-4e77-ad80-8ac4033c79b3",
   "metadata": {
    "jupyter": {
     "source_hidden": false
    },
    "name": "Conclusion",
    "orderProperties": [],
    "tags": [],
    "title": "Conclusion"
   },
   "source": [
    "<h3 id=\"Conclusion\">Conclusion</h3>\n",
    "<p>In this Runbook, we were able to filter unused keypairs and notify that list via slack message to the given channel. To view the full platform capabilities of unSkript please visit <a href=\"https://us.app.unskript.io\" target=\"_blank\" rel=\"noopener\">us.app.unskript.io</a></p>"
   ]
  }
 ],
 "metadata": {
  "execution_data": {
   "parameters": [
    "channel_name",
    "region"
   ],
   "runbook_name": "List unused Amazon EC2 key pairs"
  },
  "kernelspec": {
   "display_name": "unSkript (Build: 1169)",
   "language": "python",
   "name": "python3"
  },
  "language_info": {
   "codemirror_mode": {
    "name": "ipython",
    "version": 3
   },
   "file_extension": ".py",
   "mimetype": "text/x-python",
   "name": "python",
   "nbconvert_exporter": "python",
   "pygments_lexer": "ipython3",
   "version": "3.10.6"
  },
  "parameterSchema": {
   "properties": {
    "channel": {
     "description": "Slack channel to send the notification. Eg: dummy, general",
     "title": "channel",
     "type": "string"
    },
    "region": {
     "description": "AWS Region to search for unused keys. Eg: \"us-west-2\". If left blank, all regions will be considered.",
     "title": "region",
     "type": "string"
    }
   },
   "required": [],
   "title": "Schema",
   "type": "object"
  },
  "parameterValues": {},
  "vscode": {
   "interpreter": {
    "hash": "b0fa6594d8f4cbf19f97940f81e996739fb7646882a419484c72d19e05852a7e"
   }
  }
 },
 "nbformat": 4,
 "nbformat_minor": 5
}
