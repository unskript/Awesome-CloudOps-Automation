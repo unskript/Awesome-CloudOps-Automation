{
    "cells": [
        {
            "cell_type": "markdown",
            "id": "cbabc8b5-57b4-45b8-890c-370bb1ed6f02",
            "metadata": {
                "jupyter": {
                    "source_hidden": false
                },
                "name": "Remediate Unencrypted S3 Bucket",
                "orderProperties": [],
                "tags": [],
                "title": "Remediate Unencrypted S3 Bucket"
            },
            "source": [
                "<img src=\"https://unskript.com/assets/favicon.png\" alt=\"unSkript.com\" width=\"100\" height=\"100\"/> \n",
                "<h1> unSkript Runbooks </h1>\n",
                "<div class=\"alert alert-block alert-success\">\n",
                "    <b> This runbook demonstrates How to Remediate unencrypted S3 buckets using unSkript legos.</b>\n",
                "</div>\n",
                "\n",
                "<br>\n",
                "\n",
                "<center><h2>Remediate unencrypted S3 buckets</h2></center>\n",
                "\n",
                "# Steps Overview\n",
                "   1) Filter all the S3 buckets which are unencrypted.\n",
                "   2) Apply encryption on unencrypted S3 buckets."
            ]
        },
        {
            "cell_type": "markdown",
            "id": "38f0ef87-76cb-4505-b012-5681855c9920",
            "metadata": {
                "jupyter": {
                    "source_hidden": false
                },
                "name": "Filter Unencrypted S3 Buckets",
                "orderProperties": [],
                "tags": [],
                "title": "Filter Unencrypted S3 Buckets"
            },
            "source": [
                "Here we will use unSkript Filter Unencrypted S3 Buckets Lego. This lego takes region: str as input. This inputs is used to filter all the S3 buckets which don't have encryption settings."
            ]
        },
        {
            "cell_type": "code",
            "execution_count": 4,
            "id": "8d3eb298-6549-4537-8711-0c6cae13510d",
            "metadata": {
                "accessType": "ACCESS_TYPE_UNSPECIFIED",
                "actionBashCommand": false,
                "actionNeedsCredential": true,
                "actionRequiredLinesInCode": [],
                "actionSupportsIteration": true,
                "actionSupportsPoll": true,
                "action_uuid": "eb57da3b21aec38d005bf0355a48ba53937c7ac62f98e9c968c9501412d72008",
                "collapsed": true,
                "continueOnError": false,
                "createTime": "1970-01-01T00:00:00Z",
                "credentialsJson": {
                },
                "currentVersion": "0.1.0",
                "description": "Apply a New AWS Policy for S3 Bucket",
                "execution_data": {
                    "last_date_success_run_cell": "2022-09-28T10:21:29.534Z"
                },
                "id": 135,
                "index": 135,
                "inputData": [
                    {
                        "region": {
                            "constant": false,
                            "value": "Region"
                        }
                    }
                ],
                "inputschema": [
                    {
                        "properties": {
                            "region": {
                                "default": "",
                                "description": "AWS region of the bucket.",
                                "title": "Region",
                                "type": "string"
                            }
                        },
                        "required": [
                            "name",
                            "policy",
                            "region"
                        ],
                        "title": "aws_put_bucket_policy",
                        "type": "object"
                    }
                ],
                "jupyter": {
                    "outputs_hidden": true,
                    "source_hidden": true
                },
                "legotype": "LEGO_TYPE_AWS",
                "name": "Filter Unencrypted S3 Bucket",
                "nouns": [
                    "aws",
                    "policy",
                    "bucket"
                ],
                "orderProperties": [
                    "region"
                ],
                "output": {
                    "type": ""
                },
                "outputParams": {
                    "output_name": "Bucket_list",
                    "output_name_enabled": true
                },
                "tags": [
                    "aws_put_bucket_policy"
                ],
                "title": "Filter Unencrypted S3 Bucket",
                "trusted": true,
                "verbs": [
                    "apply"
                ]
            },
            "outputs": [],
            "source": [
                "##\n",
                "##  Copyright (c) 2021 unSkript, Inc\n",
                "##  All rights reserved.\n",
                "##\n",
                "from pydantic import BaseModel, Field\n",
                "from typing import List\n",
                "from botocore.exceptions import ClientError\n",
                "import pprint\n",
                "\n",
                "from beartype import beartype\n",
                "@beartype\n",
                "def aws_filter_unencrypted_s3_buckets_printer(output):\n",
                "    if output is None:\n",
                "        return\n",
                "    pprint.pprint(output)\n",
                "\n",
                "\n",
                "@beartype\n",
                "def aws_filter_unencrypted_s3_buckets(handle, region: str) -> List:\n",
                "    \"\"\"aws_filter_unencrypted_s3_buckets List of unencrypted bucket name .\n",
                "\n",
                "          :type region: string\n",
                "          :param region: Filter S3 buckets.\n",
                "\n",
                "          :rtype: List with unencrypted bucket name.\n",
                "      \"\"\"\n",
                "    s3Client = handle.client('s3',\n",
                "                             region_name=region)\n",
                "\n",
                "    response = s3Client.list_buckets()\n",
                "\n",
                "    # List unencrypted S3 buckets\n",
                "    result = []\n",
                "    for bucket in response['Buckets']:\n",
                "        try:\n",
                "            response = s3Client.get_bucket_encryption(Bucket=bucket['Name'])\n",
                "            encRules = response['ServerSideEncryptionConfiguration']['Rules']\n",
                "\n",
                "        except ClientError as e:\n",
                "            result.append(bucket['Name'])\n",
                "\n",
                "    return result\n",
                "\n",
                "\n",
                "task = Task(Workflow())\n",
                "task.configure(inputParamsJson='''{\n",
                "    \"region\": \"Region\"\n",
                "    }''')\n",
                "task.configure(outputName=\"Bucket_list\")\n",
                "(err, hdl, args) = task.validate(vars=vars())\n",
                "if err is None:\n",
                "    task.execute(aws_filter_unencrypted_s3_buckets, lego_printer=aws_filter_unencrypted_s3_buckets_printer, hdl=hdl, args=args)"
            ]
        },
        {
            "cell_type": "markdown",
            "id": "0a1ba685-0340-4af8-9bc7-32e9beff2837",
            "metadata": {
                "jupyter": {
                    "source_hidden": false
                },
                "name": "Apply AWS Default Encryption for S3 Buckets",
                "orderProperties": [],
                "tags": [],
                "title": "Apply AWS Default Encryption for S3 Buckets"
            },
            "source": [
                "Here we will use unSkript Apply AWS Default Encryption for S3 Buckets Lego. This lego takes name: str, region: str as input. This inputs is used to apply the default encryption configuration to the unencrypted S3 buckets."
            ]
        },
        {
            "cell_type": "code",
            "execution_count": 2,
            "id": "80b2e9a4-023a-4235-99ba-dce06988eb6e",
            "metadata": {
                "accessType": "ACCESS_TYPE_UNSPECIFIED",
                "actionBashCommand": false,
                "actionNeedsCredential": true,
                "actionRequiredLinesInCode": [],
                "actionSupportsIteration": true,
                "actionSupportsPoll": true,
                "action_uuid": "eb57da3b21aec38d005bf0355a48ba53937c7ac62f98e9c968c9501412d72008",
                "condition_enabled": true,
                "continueOnError": false,
                "createTime": "1970-01-01T00:00:00Z",
                "credentialsJson": {
                },
                "currentVersion": "0.1.0",
                "description": "Apply a New AWS Policy for S3 Bucket",
                "execution_data": {
                    "last_date_success_run_cell": "2022-08-26T20:00:28.237Z"
                },
                "id": 135,
                "index": 135,
                "inputData": [
                    {
                        "name": {
                            "constant": false,
                            "value": "iter_item"
                        },
                        "region": {
                            "constant": false,
                            "value": "Region"
                        }
                    }
                ],
                "inputschema": [
                    {
                        "properties": {
                            "name": {
                                "default": "",
                                "description": "Name of the bucket.",
                                "title": "Bucket name",
                                "type": "string"
                            },
                            "region": {
                                "default": "",
                                "description": "AWS region of the bucket.",
                                "title": "Region",
                                "type": "string"
                            }
                        },
                        "required": [
                            "name",
                            "policy",
                            "region"
                        ],
                        "title": "aws_put_bucket_policy",
                        "type": "object"
                    }
                ],
                "iterData": [
                    {
                        "iter_enabled": true,
                        "iter_item": "name",
                        "iter_list": {
                            "constant": false,
                            "objectItems": false,
                            "value": "Bucket_list"
                        }
                    }
                ],
                "jupyter": {
                    "source_hidden": true
                },
                "legotype": "LEGO_TYPE_AWS",
                "name": "Apply AWS Default Encryption for S3 Bucket",
                "nouns": [
                    "aws",
                    "policy",
                    "bucket"
                ],
                "orderProperties": [
                    "name",
                    "region"
                ],
                "output": {
                    "type": ""
                },
                "startcondition": "len(Bucket_list) > 0",
                "tags": [
                    "aws_put_bucket_policy"
                ],
                "title": "Apply AWS Default Encryption for S3 Bucket",
                "verbs": [
                    "apply"
                ]
            },
            "outputs": [],
            "source": [
                "##\n",
                "##  Copyright (c) 2021 unSkript, Inc\n",
                "##  All rights reserved.\n",
                "##\n",
                "from pydantic import BaseModel, Field\n",
                "from typing import Dict\n",
                "import json\n",
                "import pprint\n",
                "\n",
                "\n",
                "from beartype import beartype\n",
                "@beartype\n",
                "def aws_put_bucket_encryption_printer(output):\n",
                "    if output is None:\n",
                "        return\n",
                "    pprint.pprint(output)\n",
                "\n",
                "\n",
                "@beartype\n",
                "def aws_put_bucket_encryption(handle, name: str, region: str) -> Dict:\n",
                "    \"\"\"aws_put_bucket_encryption Puts default encryption configuration for bucket.\n",
                "\n",
                "          :type name: string\n",
                "          :param name: NAme of the S3 bucket.\n",
                "\n",
                "          :type region: string\n",
                "          :param region: location of the bucket\n",
                "\n",
                "          :rtype: Dict with the response info.\n",
                "      \"\"\"\n",
                "    s3Client = handle.client('s3',\n",
                "                             region_name=region)\n",
                "\n",
                "    # Setup default encryption configuration \n",
                "    response = s3Client.put_bucket_encryption(\n",
                "        Bucket=name,\n",
                "        ServerSideEncryptionConfiguration={\n",
                "            \"Rules\": [\n",
                "                {\"ApplyServerSideEncryptionByDefault\": {\"SSEAlgorithm\": \"AES256\"}}\n",
                "            ]},\n",
                "        )\n",
                "    return response\n",
                "\n",
                "\n",
                "task = Task(Workflow())\n",
                "task.configure(continueOnError=False)\n",
                "task.configure(inputParamsJson='''{\n",
                "    \"name\": \"iter_item\",\n",
                "    \"region\": \"Region\"\n",
                "    }''')\n",
                "task.configure(iterJson='''{\n",
                "    \"iter_enabled\": true,\n",
                "    \"iter_list_is_const\": false,\n",
                "    \"iter_list\": \"Bucket_list\",\n",
                "    \"iter_parameter\": \"name\"\n",
                "    }''')\n",
                "task.configure(conditionsJson='''{\n",
                "    \"condition_enabled\": true,\n",
                "    \"condition_cfg\": \"len(Bucket_list) > 0\",\n",
                "    \"condition_result\": true\n",
                "    }''')\n",
                "\n",
                "(err, hdl, args) = task.validate(vars=vars())\n",
                "if err is None:\n",
                "    task.execute(aws_put_bucket_encryption, lego_printer=aws_put_bucket_encryption_printer, hdl=hdl, args=args)"
            ]
        },
        {
            "cell_type": "markdown",
            "id": "dea3003f-03e9-4dff-86fb-b4073ee4ef79",
            "metadata": {
                "jupyter": {
                    "source_hidden": false
                },
                "name": "Conclusion",
                "orderProperties": [],
                "tags": [],
                "title": "Conclusion"
            },
            "source": [
                "In this Runbook, we demonstrated the use of unSkript's AWS legos to filter all unencrypted S3 buckets and apply default encryption configuration to the buckets. To view the full platform capabilities of unSkript please visit https://unskript.com"
            ]
        }
    ],
    "metadata": {
        "execution_data": {
            "environment_id": "1499f27c-6406-4fbd-bd1b-c6f92800018f",
            "environment_name": "Staging",
            "execution_id": "",
            "inputs_for_searched_lego": "",
            "notebook_id": "805f9986-7719-48b4-9e7e-f95c3d160942.ipynb",
            "parameters": [
                "Region"
            ],
            "runbook_name": "Remediate unencrypted S3 buckets",
            "search_string": "",
            "show_tool_tip": false,
            "tenant_id": "982dba5f-d9df-48ae-a5bf-ec1fc94d4882",
            "tenant_url": "https://tenant-staging.alpha.unskript.io",
            "user_email_id": "harshal.bangre@unskript.com",
            "workflow_id": "185b8412-73be-4759-b8c0-f58503b5325d"
        },
        "kernelspec": {
            "display_name": "Python 3.9.12 ('base')",
            "language": "python",
            "name": "python3"
        },
        "language_info": {
            "file_extension": ".py",
            "mimetype": "text/x-python",
            "name": "python",
            "pygments_lexer": "ipython3",
            "version": "3.9.12"
        },
        "parameterSchema": {
            "properties": {
                "Region": {
                    "default": "us-west-2",
                    "description": "Region",
                    "title": "Region",
                    "type": "string"
                }
            },
            "required": [],
            "title": "Schema",
            "type": "object"
        },
        "parameterValues": {
            "Region": null
        },
        "vscode": {
            "interpreter": {
                "hash": "5e269198fab4eb2ea6fe7c886c38b87b334869f0501ab924e1d16d60aeba5d23"
            }
        }
    },
    "nbformat": 4,
    "nbformat_minor": 5
}
