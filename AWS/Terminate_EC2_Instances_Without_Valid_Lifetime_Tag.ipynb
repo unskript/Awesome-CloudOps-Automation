{
    "cells": [
        {
            "cell_type": "markdown",
            "id": "5ae7173b-05af-4450-bc89-701a3283590a",
            "metadata": {
                "jupyter": {
                    "source_hidden": false
                },
                "name": "Terminate EC2 Instance Without Valid Lifetime Tag",
                "orderProperties": [],
                "tags": [],
                "title": "Terminate EC2 Instance Without Valid Lifetime Tag"
            },
            "source": [
                "<img src=\"https://unskript.com/assets/favicon.png\" alt=\"unSkript.com\" width=\"100\" height=\"100\"/> \n",
                "<h1> unSkript Runbooks </h1>\n",
                "<div class=\"alert alert-block alert-success\">\n",
                "    <b> This runbook demonstrates How to Terminate EC2 Instances Without Valid Lifetime Tag using unSkript legos.</b>\n",
                "</div>\n",
                "\n",
                "<br>\n",
                "\n",
                "<center><h2>Terminate EC2 Instances Without Valid Lifetime Tag</h2></center>\n",
                "\n",
                "# Steps Overview\n",
                "  - When an Auto Scaling group launches instances, it adds tags to the instances during              resource creation rather than after the resource is created.\n",
                "\n",
                "  - The Auto Scaling group automatically adds a tag to instances with a key of                       aws:autoscaling:groupName and a value of the Auto Scaling group name.\n",
                "\n",
                "  - If you specify instance tags in your launch template and you opted to propagate your             group's tags to its instances, all the tags are merged. If the same tag key is specified         for a tag in your launch template and a tag in your Auto Scaling group, then the tag value       from the group takes precedence.\n",
                "\n",
                "  - When you attach existing instances, the Auto Scaling group adds the tags to the instances,       overwriting any existing tags with the same tag key. It also adds a tag with a key of           aws:autoscaling:groupName and a value of the Auto Scaling group name.\n",
                "\n",
                "  - When you detach an instance from an Auto Scaling group, it removes only the                     aws:autoscaling:groupName tag."
            ]
        },
        {
            "cell_type": "markdown",
            "id": "ef164c73-732a-43d8-887d-32d60559a2cb",
            "metadata": {
                "jupyter": {
                    "source_hidden": false
                },
                "name": "Filter AWS EC2 Instances Without Lifetime Tag",
                "orderProperties": [],
                "tags": [],
                "title": "Filter AWS EC2 Instances Without Lifetime Tag"
            },
            "source": [
                "Here we will use unSkript Filter AWS EC2 Instances Without Lifetime Tag Lego. This lego takes lifetime_tag and region as input. This input is used to get all the EC2 instances which don't have lifetime tag"
            ]
        },
        {
            "cell_type": "code",
            "execution_count": 6,
            "id": "9f5de22f-2c35-4613-b26a-d8ae2eac5a8e",
            "metadata": {
                "accessType": "ACCESS_TYPE_UNSPECIFIED",
                "actionBashCommand": false,
                "actionNeedsCredential": true,
                "actionRequiredLinesInCode": [],
                "actionSupportsIteration": true,
                "actionSupportsPoll": true,
                "action_uuid": "abe9fc82a53b80dc1dd4d5a89e31d22b0338e73e86d2ca859576f38cc6d19f48",
                "continueOnError": false,
                "createTime": "1970-01-01T00:00:00Z",
                "credentialsJson": {},
                "currentVersion": "0.1.0",
                "description": "Filter AWS EC2 Instance by Tag",
                "execution_data": {
                    "last_date_success_run_cell": "2022-09-29T13:30:11.492Z"
                },
                "id": 155,
                "index": 155,
                "inputData": [
                    {
                        "lifetime_tag": {
                            "constant": false,
                            "value": "Lifetime_Tag"
                        },
                        "region": {
                            "constant": false,
                            "value": "Region"
                        }
                    }
                ],
                "inputschema": [
                    {
                        "properties": {
                            "lifetime_tag": {
                                "default": "\"aws:autoscaling:groupName\"",
                                "description": "Valid lifetime tag",
                                "title": "lifetime_tag",
                                "type": "string"
                            },
                            "region": {
                                "default": "",
                                "description": "AWS Region.",
                                "title": "Region",
                                "type": "string"
                            }
                        },
                        "required": [
                            "tag_key",
                            "tag_value",
                            "region"
                        ],
                        "title": "aws_filter_ec2_by_tags",
                        "type": "object"
                    }
                ],
                "jupyter": {
                    "source_hidden": true
                },
                "legotype": "LEGO_TYPE_AWS",
                "name": "Filter AWS EC2 Instances Without Lifetime Tag",
                "nouns": [
                    "aws",
                    "ec2",
                    "instances",
                    "tag"
                ],
                "orderProperties": [
                    "region",
                    "lifetime_tag"
                ],
                "output": {
                    "type": ""
                },
                "outputParams": {
                    "output_name": "InstanceId",
                    "output_name_enabled": true
                },
                "tags": [
                    "aws_filter_ec2_by_tags"
                ],
                "title": "Filter AWS EC2 Instances Without Lifetime Tag",
                "trusted": true,
                "verbs": [
                    "filter"
                ]
            },
            "outputs": [],
            "source": [
                "##\n",
                "##  Copyright (c) 2021 unSkript, Inc\n",
                "##  All rights reserved.\n",
                "##\n",
                "from pydantic import BaseModel, Field\n",
                "from typing import List\n",
                "from unskript.connectors.aws import aws_get_paginator\n",
                "import pprint\n",
                "\n",
                "\n",
                "from beartype import beartype\n",
                "@beartype\n",
                "def aws_filter_ec2_without_lifetime_tag_printer(output):\n",
                "    if output is None:\n",
                "        return\n",
                "    pprint.pprint({\"Instances\": output})\n",
                "\n",
                "\n",
                "@beartype\n",
                "def aws_filter_ec2_without_lifetime_tag(handle, lifetime_tag: str, region: str) -> List:\n",
                "    \"\"\"aws_filter_ec2_without_lifetime_tag Returns an array of instances matching tags.\n",
                "\n",
                "        :type handle: object\n",
                "        :param handle: Object returned from task.validate(...)..\n",
                "\n",
                "        :type lifetime_tag: string\n",
                "        :param lifetime_tag: Tag to filter Instances.\n",
                "\n",
                "        :type region: string\n",
                "        :param region: Used to filter the volume for specific region.\n",
                "\n",
                "        :rtype: Array of instances which not having lifetime tag.\n",
                "    \"\"\"\n",
                "    # Input param validation.\n",
                "\n",
                "    ec2Client = handle.client('ec2', region_name=region)\n",
                "    res = aws_get_paginator(ec2Client, \"describe_instances\", \"Reservations\")\n",
                "\n",
                "    result = []\n",
                "    for reservation in res:\n",
                "        for instance in reservation['Instances']:\n",
                "            try:\n",
                "                tagged_instance = instance['Tags']\n",
                "                tag_keys = [tags['Key'] for tags in tagged_instance]\n",
                "                if lifetime_tag not in tag_keys:\n",
                "                    result.append(instance['InstanceId'])\n",
                "            except Exception as e:\n",
                "                result.append(instance['InstanceId'])\n",
                "\n",
                "    return result\n",
                "\n",
                "\n",
                "task = Task(Workflow())\n",
                "task.configure(inputParamsJson='''{\n",
                "    \"lifetime_tag\": \"Lifetime_Tag\",\n",
                "    \"region\": \"Region\"\n",
                "    }''')\n",
                "task.configure(outputName=\"InstanceId\")\n",
                "\n",
                "(err, hdl, args) = task.validate(vars=vars())\n",
                "if err is None:\n",
                "    task.execute(aws_filter_ec2_without_lifetime_tag, lego_printer=aws_filter_ec2_without_lifetime_tag_printer, hdl=hdl, args=args)"
            ]
        },
        {
            "cell_type": "markdown",
            "id": "adae7b60-f59e-46a8-887e-ca6986b95adc",
            "metadata": {
                "jupyter": {
                    "source_hidden": false
                },
                "name": "Terminate AWS Instance",
                "orderProperties": [],
                "tags": [],
                "title": "Terminate AWS Instance"
            },
            "source": [
                "Here we will use unSkript Terminate AWS Instances Lego. This lego takes instance_id and region as input. This input is used to terminate EC2 instances which don't have lifetime tag"
            ]
        },
        {
            "cell_type": "code",
            "execution_count": null,
            "id": "83a33191-b8b7-46a6-ab31-16482237d10a",
            "metadata": {
                "accessType": "ACCESS_TYPE_UNSPECIFIED",
                "actionBashCommand": false,
                "actionNeedsCredential": true,
                "actionRequiredLinesInCode": [],
                "actionSupportsIteration": true,
                "actionSupportsPoll": true,
                "action_uuid": "8744e8836d7a0aff41120620fa4d703dacff25b0dbb5c9c7b87b83783c6c9d18",
                "continueOnError": false,
                "createTime": "1970-01-01T00:00:00Z",
                "credentialsJson": {},
                "currentVersion": "0.1.0",
                "description": " Terminate AWS Instances",
                "id": 187,
                "index": 187,
                "inputData": [
                    {
                        "instance_ids": {
                            "constant": false,
                            "value": "InstanceId"
                        },
                        "region": {
                            "constant": false,
                            "value": "Region"
                        }
                    }
                ],
                "inputschema": [
                    {
                        "properties": {
                            "instance_ids": {
                                "description": "List of instance IDs. For eg. [\"i-foo\", \"i-bar\"]",
                                "items": {
                                    "type": "string"
                                },
                                "title": "Instance IDs",
                                "type": "array"
                            },
                            "region": {
                                "description": "AWS Region of the instance.",
                                "title": "Region",
                                "type": "string"
                            }
                        },
                        "required": [
                            "instance_ids",
                            "region"
                        ],
                        "title": "aws_terminate_instance",
                        "type": "object"
                    }
                ],
                "jupyter": {
                    "source_hidden": true
                },
                "legotype": "LEGO_TYPE_AWS",
                "name": " Terminate AWS Instances",
                "nouns": [
                    "aws",
                    "instances"
                ],
                "orderProperties": [
                    "instance_ids",
                    "region"
                ],
                "output": {
                    "type": ""
                },
                "tags": [
                    "aws_terminate_instance"
                ],
                "verbs": [
                    "terminate"
                ]
            },
            "outputs": [],
            "source": [
                "##\n",
                "# Copyright (c) 2021 unSkript, Inc\n",
                "# All rights reserved.\n",
                "##\n",
                "from typing import List, Dict\n",
                "from pydantic import BaseModel, Field\n",
                "import pprint\n",
                "\n",
                "\n",
                "from beartype import beartype\n",
                "@beartype\n",
                "def aws_terminate_instance_printer(output):\n",
                "    if output is None:\n",
                "        return\n",
                "    pprint.pprint(output)\n",
                "\n",
                "\n",
                "@beartype\n",
                "def aws_terminate_instance(handle, instance_ids: List, region: str) -> Dict:\n",
                "    ec2Client = handle.client('ec2', region_name=region)\n",
                "    res = ec2Client.terminate_instances(InstanceIds=instance_ids)\n",
                "\n",
                "    return res\n",
                "\n",
                "\n",
                "task = Task(Workflow())\n",
                "task.configure(inputParamsJson='''{\n",
                "    \"instance_ids\": \"InstanceId\",\n",
                "    \"region\": \"Region\"\n",
                "    }''')\n",
                "\n",
                "(err, hdl, args) = task.validate(vars=vars())\n",
                "if err is None:\n",
                "    task.execute(aws_terminate_instance, lego_printer=aws_terminate_instance_printer, hdl=hdl, args=args)"
            ]
        },
        {
            "cell_type": "markdown",
            "id": "e3993953-c63c-430f-8adb-30ce629d0494",
            "metadata": {
                "jupyter": {
                    "source_hidden": false
                },
                "name": "Conclusion",
                "orderProperties": [],
                "tags": [],
                "title": "Conclusion"
            },
            "source": [
                "In this Runbook, we demonstrated the use of unSkript's AWS legos to perform AWS action of collecting (and then terminating) any EC2 instances which don't have a lifetime tag. To view the full platform capabilities of unSkript please visit https://unskript.com"
            ]
        }
    ],
    "metadata": {
        "execution_data": {
            "environment_id": "1499f27c-6406-4fbd-bd1b-c6f92800018f",
            "environment_name": "Staging",
            "execution_id": "",
            "inputs_for_searched_lego": "",
            "notebook_id": "9bd35239-4b27-4af6-8f8d-be5dc1b2e8c1.ipynb",
            "parameters": null,
            "runbook_name": "Terminate EC2 Instances Without Valid Lifetime Tag",
            "search_string": "",
            "show_tool_tip": false,
            "tenant_id": "982dba5f-d9df-48ae-a5bf-ec1fc94d4882",
            "tenant_url": "https://tenant-staging.alpha.unskript.io",
            "user_email_id": "harshal.bangre@unskript.com",
            "workflow_id": "dd409f4f-085d-4ef3-8872-fba9e86b0757"
        },
        "kernelspec": {
            "display_name": "unSkript (Build: 618)",
            "name": "python_kubernetes"
        },
        "language_info": {
            "file_extension": ".py",
            "mimetype": "text/x-python",
            "name": "python",
            "pygments_lexer": "ipython3"
        },
        "parameterSchema": {
            "properties": {
                "Lifetime_Tag": {
                    "default": "aws:autoscaling:groupName",
                    "description": "Lifetime_Tag",
                    "title": "Lifetime_Tag",
                    "type": "string"
                },
                "Region": {
                    "default": "us-west-2",
                    "description": "AWS Region",
                    "title": "Region",
                    "type": "string"
                }
            },
            "required": [],
            "title": "Schema",
            "type": "object"
        },
        "parameterValues": {
            "Lifetime_Tag": "aws:autoscaling:groupName",
            "Region": "us-west-2"
        }
    },
    "nbformat": 4,
    "nbformat_minor": 5
}
