{
 "cells": [
  {
   "cell_type": "markdown",
   "id": "280d4d6f-a47c-4fa2-8d55-a4e19899d46c",
   "metadata": {
    "jupyter": {
     "source_hidden": false
    },
    "name": "Steps Overview",
    "orderProperties": [],
    "tags": [],
    "title": "Steps Overview"
   },
   "source": [
    "<center><img src=\"https://storage.googleapis.com/unskript-website/assets/favicon.png\" alt=\"unSkript.com\" width=\"100\" height=\"100\">\n",
    "<h1 id=\"-unSkript-Runbooks-\">unSkript Runbooks</h1>\n",
    "<div class=\"alert alert-block alert-success\">\n",
    "<h3 id=\"-Objective\">Objective</h3>\n",
    "<br><strong style=\"color: #000000;\"><em>Filter and Terminate EC2 Instances Without Valid Lifetime Tag</em></strong></div>\n",
    "</center>\n",
    "<p>&nbsp;</p>\n",
    "<center>\n",
    "<h2 id=\"Terminate-EC2-Instances-Without-Valid-Lifetime-Tag\"><u>Terminate EC2 Instances Without Valid Lifetime Tag</u></h2>\n",
    "</center>\n",
    "<h1 id=\"Steps-Overview\">Steps Overview</h1>\n",
    "<p>1)<a href=\"#1\" target=\"_self\" rel=\"noopener\"> Filter AWS EC2 Instances Without Lifetime Tag</a><br>2)<a href=\"#2\" target=\"_self\" rel=\"noopener\"> Terminate AWS Instance</a></p>"
   ]
  },
  {
   "cell_type": "markdown",
   "id": "86a462b7-31c9-4f07-a3ea-bf662bc95ef3",
   "metadata": {
    "jupyter": {
     "source_hidden": false
    },
    "name": "Step 1A",
    "orderProperties": [],
    "tags": [],
    "title": "Step 1A"
   },
   "source": [
    "<h3 id=\"List-all-AWS-Regions\"><a id=\"1\" target=\"_self\" rel=\"nofollow\"></a>List all AWS Regions</h3>\n",
    "<p>This action fetches all AWS Regions to execute Step 1\ud83d\udc47. This action will only execute if no <code>region</code> is provided.</p>\n",
    "<blockquote>\n",
    "<p>This action takes the following parameters: <code>None</code></p>\n",
    "</blockquote>\n",
    "<blockquote>\n",
    "<p>This action captures the following ouput: <code>region</code></p>\n",
    "</blockquote>"
   ]
  },
  {
   "cell_type": "code",
   "execution_count": 3,
   "id": "c0ced73a-dfc6-4ed8-b596-98849ad7675a",
   "metadata": {
    "accessType": "ACCESS_TYPE_UNSPECIFIED",
    "actionBashCommand": false,
    "actionNeedsCredential": true,
    "actionRequiredLinesInCode": [],
    "actionSupportsIteration": true,
    "actionSupportsPoll": true,
    "action_modified": false,
    "action_uuid": "708ea4af5f8fe7096a15b3a52c4a657606bab9e177386fad7a847341ed607d64",
    "condition_enabled": true,
    "createTime": "1970-01-01T00:00:00Z",
    "currentVersion": "0.1.0",
    "description": "List all available AWS Regions",
    "execution_data": {
     "last_date_success_run_cell": "2023-02-02T16:24:00.250Z"
    },
    "id": 215,
    "index": 215,
    "inputschema": [
     {
      "properties": {},
      "title": "aws_list_all_regions",
      "type": "object"
     }
    ],
    "jupyter": {
     "source_hidden": true
    },
    "legotype": "LEGO_TYPE_AWS",
    "name": "AWS List All Regions",
    "nouns": [
     "regions",
     "aws"
    ],
    "orderProperties": [],
    "output": {
     "type": ""
    },
    "outputParams": {
     "output_name": "region",
     "output_name_enabled": true
    },
    "printOutput": true,
    "startcondition": "not region",
    "tags": [
     "aws_list_all_regions"
    ],
    "trusted": true,
    "verbs": [
     "list"
    ],
    "credentialsJson": {}
   },
   "outputs": [],
   "source": [
    "#\n",
    "# Copyright (c) 2021 unSkript.com\n",
    "# All rights reserved.\n",
    "#\n",
    "\n",
    "from pydantic import BaseModel, Field\n",
    "from typing import Dict, List\n",
    "import pprint\n",
    "\n",
    "from beartype import beartype\n",
    "@beartype\n",
    "def aws_list_all_regions_printer(output):\n",
    "    if output is None:\n",
    "        return\n",
    "    pprint.pprint(output)\n",
    "\n",
    "\n",
    "@beartype\n",
    "def aws_list_all_regions(handle) -> List:\n",
    "    \"\"\"aws_list_all_regions lists all the AWS regions\n",
    "\n",
    "        :type handle: object\n",
    "        :param handle: Object returned from Task Validate\n",
    "\n",
    "        :rtype: Result List of result\n",
    "    \"\"\"\n",
    "\n",
    "    result = handle.aws_cli_command(\"aws ec2 describe-regions --all-regions --query 'Regions[].{Name:RegionName}' --output text\")\n",
    "    if result is None or result.returncode != 0:\n",
    "        print(\"Error while executing command : {}\".format(result))\n",
    "        return str()\n",
    "    result_op = list(result.stdout.split(\"\\n\"))\n",
    "    list_region = [x for x in result_op if x != '']\n",
    "    return list_region\n",
    "\n",
    "\n",
    "task = Task(Workflow())\n",
    "task.configure(conditionsJson='''{\n",
    "    \"condition_enabled\": true,\n",
    "    \"condition_cfg\": \"not region\",\n",
    "    \"condition_result\": true\n",
    "    }''')\n",
    "\n",
    "task.configure(outputName=\"region\")\n",
    "task.configure(printOutput=True)\n",
    "(err, hdl, args) = task.validate(vars=vars())\n",
    "if err is None:\n",
    "    task.execute(aws_list_all_regions, lego_printer=aws_list_all_regions_printer, hdl=hdl, args=args)"
   ]
  },
  {
   "cell_type": "markdown",
   "id": "74abf372-b918-4c9e-acf5-e4213d747d5f",
   "metadata": {
    "jupyter": {
     "source_hidden": false
    },
    "name": "Step 1",
    "orderProperties": [],
    "tags": [],
    "title": "Step 1"
   },
   "source": [
    "<h3 id=\"Filter-AWS-EC2-Instances-Without-Lifetime-Tag\"><a id=\"1\" target=\"_self\" rel=\"nofollow\"></a>Filter AWS EC2 Instances Without Lifetime Tag</h3>\n",
    "<p>Here we will use unSkript Filter AWS EC2 Instances Without Lifetime Tag action to get all the EC2 instances which don't have lifetime tag.</p>\n",
    "<blockquote>\n",
    "<p>This action takes the following parameters: <code>lifetime_tag</code>,<code>region</code></p>\n",
    "</blockquote>\n",
    "<blockquote>\n",
    "<p>This action captures the following output: <code>untagged_ec2_instances</code></p>\n",
    "</blockquote>"
   ]
  },
  {
   "cell_type": "code",
   "execution_count": 4,
   "id": "0ddad652-9940-4adf-a432-047ffaaed5a1",
   "metadata": {
    "accessType": "ACCESS_TYPE_UNSPECIFIED",
    "actionBashCommand": false,
    "actionNeedsCredential": true,
    "actionRequiredLinesInCode": [],
    "actionSupportsIteration": true,
    "actionSupportsPoll": true,
    "action_modified": false,
    "action_uuid": "6cc8a1355937c21df3ace495375225012fa8915f4125ad143367e0feb34486c5",
    "continueOnError": true,
    "createTime": "1970-01-01T00:00:00Z",
    "currentVersion": "0.1.0",
    "description": "Filter AWS EC2 Instances Without Termination and Lifetime Tag and Check of they are valid",
    "execution_data": {
     "last_date_success_run_cell": "2023-02-02T16:25:20.395Z"
    },
    "id": 266,
    "index": 266,
    "inputData": [
     {
      "region": {
       "constant": false,
       "value": "iter_item"
      }
     }
    ],
    "inputschema": [
     {
      "properties": {
       "region": {
        "default": "",
        "description": "Name of the AWS Region",
        "title": "Region",
        "type": "string"
       }
      },
      "title": "aws_filter_instances_without_termination_and_lifetime_tag",
      "type": "object"
     }
    ],
    "iterData": [
     {
      "iter_enabled": true,
      "iter_item": "region",
      "iter_list": {
       "constant": false,
       "objectItems": false,
       "value": "region"
      }
     }
    ],
    "jupyter": {
     "source_hidden": true
    },
    "legotype": "LEGO_TYPE_AWS",
    "name": "Filter AWS EC2 Instances Without Termination and Lifetime Tag",
    "nouns": [
     "aws",
     "instances",
     "without",
     "termination",
     "lifetime",
     "tag"
    ],
    "orderProperties": [
     "region"
    ],
    "output": {
     "type": ""
    },
    "outputParams": {
     "output_name": "untagged_ec2_instances",
     "output_name_enabled": true
    },
    "printOutput": true,
    "tags": [
     "aws_filter_instances_without_termination_and_lifetime_tag"
    ],
    "trusted": true,
    "verbs": [
     "filter"
    ],
    "credentialsJson": {}
   },
   "outputs": [],
   "source": [
    "##\n",
    "##  Copyright (c) 2021 unSkript, Inc\n",
    "##  All rights reserved.\n",
    "##\n",
    "from pydantic import BaseModel, Field\n",
    "from typing import List, Tuple, Optional\n",
    "from unskript.connectors.aws import aws_get_paginator\n",
    "from unskript.legos.utils import CheckOutput, CheckOutputStatus\n",
    "from unskript.legos.aws.aws_list_all_regions.aws_list_all_regions import aws_list_all_regions\n",
    "import pprint\n",
    "from datetime import datetime, date\n",
    "\n",
    "from beartype import beartype\n",
    "@beartype\n",
    "def aws_filter_instances_without_termination_and_lifetime_tag_printer(output):\n",
    "    if output is None:\n",
    "        return\n",
    "    if isinstance(output, CheckOutput):\n",
    "        print(output.json())\n",
    "    else:\n",
    "        pprint.pprint(output)\n",
    "\n",
    "@beartype\n",
    "def fetch_instances_from_valid_region(res,r):\n",
    "    result=[]\n",
    "    instances_dict={}\n",
    "    for reservation in res:\n",
    "            for instance in reservation['Instances']:\n",
    "                try:\n",
    "                    tagged_instance = instance['Tags']\n",
    "                    tag_keys = [tags['Key'] for tags in tagged_instance]\n",
    "                    if 'terminationDateTag' not in tag_keys or 'lifetimeTag' not in tag_keys:\n",
    "                        result.append(instance['InstanceId'])\n",
    "                    elif 'terminationDateTag' not in tag_keys and 'lifetimeTag' not in tag_keys:\n",
    "                        result.append(instance['InstanceId'])\n",
    "                    if 'terminationDateTag' in tag_keys:\n",
    "                        for x in instance['Tags']:\n",
    "                            if x['Key'] == 'terminationDateTag':\n",
    "                                right_now = date.today()\n",
    "                                date_object = datetime.strptime(x['Value'], '%d-%m-%Y').date()\n",
    "                                if date_object < right_now:\n",
    "                                    result.append(instance['InstanceId'])\n",
    "                            elif x['Key'] == 'lifetimeTag':\n",
    "                                launch_time = instance['LaunchTime']\n",
    "                                convert_to_datetime = launch_time.strftime(\"%d-%m-%Y\")\n",
    "                                launch_date = datetime.strptime(convert_to_datetime,'%d-%m-%Y').date()\n",
    "                                if x['Value'] is not 'INDEFINITE':\n",
    "                                    if launch_date < right_now:\n",
    "                                        result.append(instance['InstanceId'])\n",
    "                except Exception as e:\n",
    "                        if len(instance['InstanceId'])!=0:\n",
    "                            result.append(instance['InstanceId'])\n",
    "    if len(result)!=0:\n",
    "        instances_dict['region']= r\n",
    "        instances_dict['instances']= result\n",
    "    return instances_dict\n",
    "\n",
    "@beartype\n",
    "def aws_filter_instances_without_termination_and_lifetime_tag(handle, region: str=None) -> CheckOutput:\n",
    "    \"\"\"aws_filter_ec2_without_lifetime_tag Returns an List of instances which not have lifetime tag.\n",
    "\n",
    "        Assumed tag key format - terminationDateTag, lifetimeTag\n",
    "        Assumed Date format for both keys is -> dd-mm-yy\n",
    "\n",
    "        :type handle: object\n",
    "        :param handle: Object returned from task.validate(...).\n",
    "\n",
    "        :type region: string\n",
    "        :param region: Used to filter the instance for specific region.\n",
    "\n",
    "        :rtype: Object of status, instances which dont having terminationDateTag and lifetimeTag, and error\n",
    "    \"\"\"\n",
    "    final_list=[]\n",
    "    all_regions = [region]\n",
    "    if region is None or len(region) == 0:\n",
    "        all_regions = aws_list_all_regions(handle=handle)\n",
    "    for r in all_regions:\n",
    "        try:\n",
    "            ec2Client = handle.client('ec2', region_name=r)\n",
    "            all_reservations = aws_get_paginator(ec2Client, \"describe_instances\", \"Reservations\")\n",
    "            instances_without_tags = fetch_instances_from_valid_region(all_reservations,r)\n",
    "            if len(instances_without_tags)!=0:\n",
    "                final_list.append(instances_without_tags)\n",
    "        except Exception as e:\n",
    "            pass\n",
    "    if len(final_list)!=0:\n",
    "        return CheckOutput(status=CheckOutputStatus.FAILED,\n",
    "                   objects=final_list,\n",
    "                   error=str(\"\"))\n",
    "    else:\n",
    "        return CheckOutput(status=CheckOutputStatus.SUCCESS,\n",
    "                   objects=final_list,\n",
    "                   error=str(\"\"))\n",
    "\n",
    "\n",
    "task = Task(Workflow())\n",
    "task.configure(continueOnError=True)\n",
    "task.configure(outputName=\"untagged_ec2_instances\")\n",
    "task.configure(inputParamsJson='''{\n",
    "    \"region\": \"iter_item\"\n",
    "    }''')\n",
    "task.configure(iterJson='''{\n",
    "    \"iter_enabled\": true,\n",
    "    \"iter_list_is_const\": false,\n",
    "    \"iter_list\": \"region\",\n",
    "    \"iter_parameter\": \"region\"\n",
    "    }''')\n",
    "task.configure(printOutput=True)\n",
    "(err, hdl, args) = task.validate(vars=vars())\n",
    "if err is None:\n",
    "    task.execute(aws_filter_instances_without_termination_and_lifetime_tag, lego_printer=aws_filter_instances_without_termination_and_lifetime_tag_printer, hdl=hdl, args=args)"
   ]
  },
  {
   "cell_type": "markdown",
   "id": "9cd2a6cc-c0b6-48c7-837f-c623f8cf53d4",
   "metadata": {
    "jupyter": {
     "source_hidden": false
    },
    "name": "Step 2A",
    "orderProperties": [],
    "tags": [],
    "title": "Step 2A"
   },
   "source": [
    "<h3 id=\"Create-List-of-Untagged-Instances\">Create List of Untagged Instances</h3>\n",
    "<p>This action filters regions that have no untagged EC2 instances and creates a list of the ones that have have</p>\n",
    "<blockquote>\n",
    "<p>This action takes the following parameters: <code>None</code></p>\n",
    "</blockquote>\n",
    "<blockquote>\n",
    "<p>This action captures the following output: <code>all_untagged_instances</code></p>\n",
    "</blockquote>"
   ]
  },
  {
   "cell_type": "code",
   "execution_count": 5,
   "id": "ff6ee3fa-b94b-4679-943b-782b32c1a095",
   "metadata": {
    "customAction": true,
    "execution_data": {
     "last_date_success_run_cell": "2023-02-02T16:25:30.826Z"
    },
    "jupyter": {
     "source_hidden": true
    },
    "name": "Create List of  Instances Without Termination and Lifetime Tag ",
    "orderProperties": [],
    "tags": [],
    "title": "Create List of  Instances Without Termination and Lifetime Tag ",
    "trusted": true,
    "credentialsJson": {}
   },
   "outputs": [],
   "source": [
    "all_untagged_instances = []\n",
    "dummy = []\n",
    "for k,v in untagged_ec2_instances.items():\n",
    "    if v.status==CheckOutputStatus.FAILED:\n",
    "        if len(v.objects)!=0:\n",
    "            dummy = v.objects\n",
    "            for x in dummy:\n",
    "                all_untagged_instances.append(x)\n",
    "print(all_untagged_instances)\n",
    "task.configure(outputName=\"all_untagged_instances\")"
   ]
  },
  {
   "cell_type": "markdown",
   "id": "c09c5eb2-a9a7-4119-aef4-b07e0fdd6c80",
   "metadata": {
    "jupyter": {
     "source_hidden": false
    },
    "name": "Step 2",
    "orderProperties": [],
    "tags": [],
    "title": "Step 2"
   },
   "source": [
    "<h3 id=\"Terminate-AWS-Instance\">Terminate AWS Instance</h3>\n",
    "<p>This action terminates EC2 instances which don't have lifetime tag as captured in Step 1\ud83d\udc46</p>\n",
    "<blockquote>\n",
    "<p>This action takes the following parameters: <code>instance_ids, region</code></p>\n",
    "</blockquote>\n",
    "<blockquote>\n",
    "<p>This action captures the following output: <code>None</code></p>\n",
    "</blockquote>"
   ]
  },
  {
   "cell_type": "code",
   "execution_count": null,
   "id": "7f622b00-2f51-4f44-aeaa-18f67823a4ea",
   "metadata": {
    "accessType": "ACCESS_TYPE_UNSPECIFIED",
    "actionBashCommand": false,
    "actionNeedsCredential": true,
    "actionRequiredLinesInCode": [],
    "actionSupportsIteration": true,
    "actionSupportsPoll": true,
    "action_modified": false,
    "action_uuid": "8744e8836d7a0aff41120620fa4d703dacff25b0dbb5c9c7b87b83783c6c9d18",
    "condition_enabled": true,
    "continueOnError": true,
    "createTime": "1970-01-01T00:00:00Z",
    "currentVersion": "0.1.0",
    "description": "Terminate AWS Instances",
    "id": 192,
    "index": 192,
    "inputData": [
     {
      "instance_ids": {
       "constant": false,
       "value": "\"iter.get(\\\\\"instances\\\\\")\""
      },
      "region": {
       "constant": false,
       "value": "\"iter.get(\\\\\"region\\\\\")\""
      }
     }
    ],
    "inputschema": [
     {
      "properties": {
       "instance_ids": {
        "description": "List of instance IDs. For eg. [\"i-foo\", \"i-bar\"]",
        "items": {
         "type": "string"
        },
        "title": "Instance IDs",
        "type": "array"
       },
       "region": {
        "description": "AWS Region of the instance.",
        "title": "Region",
        "type": "string"
       }
      },
      "required": [
       "instance_ids",
       "region"
      ],
      "title": "aws_terminate_instance",
      "type": "object"
     }
    ],
    "iterData": [
     {
      "iter_enabled": true,
      "iter_item": {
       "instance_ids": "instances",
       "region": "region"
      },
      "iter_list": {
       "constant": false,
       "objectItems": true,
       "value": "all_untagged_instances"
      }
     }
    ],
    "jupyter": {
     "source_hidden": true
    },
    "legotype": "LEGO_TYPE_AWS",
    "name": "Terminate AWS Instances",
    "nouns": [],
    "orderProperties": [
     "instance_ids",
     "region"
    ],
    "output": {
     "type": ""
    },
    "printOutput": true,
    "startcondition": "if terminate==True",
    "tags": [
     "aws_terminate_instance"
    ],
    "verbs": [],
    "credentialsJson": {}
   },
   "outputs": [],
   "source": [
    "##\n",
    "# Copyright (c) 2021 unSkript, Inc\n",
    "# All rights reserved.\n",
    "##\n",
    "from typing import List, Dict\n",
    "from pydantic import BaseModel, Field\n",
    "import pprint\n",
    "\n",
    "\n",
    "from beartype import beartype\n",
    "@beartype\n",
    "def aws_terminate_instance_printer(output):\n",
    "    if output is None:\n",
    "        return\n",
    "    pprint.pprint(output)\n",
    "\n",
    "\n",
    "@beartype\n",
    "def aws_terminate_instance(handle, instance_ids: List, region: str) -> Dict:\n",
    "    \"\"\"aws_terminate_instance Returns an Dict of info terminated instance.\n",
    "\n",
    "        :type handle: object\n",
    "        :param handle: Object returned from task.validate(...).\n",
    "\n",
    "        :type instance_ids: List\n",
    "        :param instance_ids: Tag to filter Instances.\n",
    "\n",
    "        :type region: string\n",
    "        :param region: Used to filter the instance for specific region.\n",
    "\n",
    "        :rtype: Dict of info terminated instance.\n",
    "    \"\"\"\n",
    "    ec2Client = handle.client('ec2', region_name=region)\n",
    "    res = ec2Client.terminate_instances(InstanceIds=instance_ids)\n",
    "\n",
    "    return res\n",
    "\n",
    "\n",
    "task = Task(Workflow())\n",
    "task.configure(continueOnError=True)\n",
    "task.configure(inputParamsJson='''{\n",
    "    \"instance_ids\": \"iter.get(\\\\\"instances\\\\\")\",\n",
    "    \"region\": \"iter.get(\\\\\"region\\\\\")\"\n",
    "    }''')\n",
    "task.configure(iterJson='''{\n",
    "    \"iter_enabled\": true,\n",
    "    \"iter_list_is_const\": false,\n",
    "    \"iter_list\": \"all_untagged_instances\",\n",
    "    \"iter_parameter\": [\"instance_ids\",\"region\"]\n",
    "    }''')\n",
    "task.configure(conditionsJson='''{\n",
    "    \"condition_enabled\": true,\n",
    "    \"condition_cfg\": \"if terminate==True\",\n",
    "    \"condition_result\": true\n",
    "    }''')\n",
    "\n",
    "task.configure(printOutput=True)\n",
    "(err, hdl, args) = task.validate(vars=vars())\n",
    "if err is None:\n",
    "    task.execute(aws_terminate_instance, lego_printer=aws_terminate_instance_printer, hdl=hdl, args=args)"
   ]
  },
  {
   "cell_type": "markdown",
   "id": "324ba188-b516-4100-aebd-18ec3ce8203c",
   "metadata": {
    "jupyter": {
     "source_hidden": false
    },
    "name": "Conclusion",
    "orderProperties": [],
    "tags": [],
    "title": "Conclusion"
   },
   "source": [
    "<h3 id=\"Conclusion\">Conclusion</h3>\n",
    "<p>In this Runbook, we demonstrated the use of unSkript's AWS actions to filter untagged instances and terminate them. To view the full platform capabilities of unSkript please visit <a href=\"https://us.app.unskript.io\" target=\"_blank\" rel=\"noopener\">us.app.unskript.io</a></p>"
   ]
  }
 ],
 "metadata": {
  "execution_data": {
   "runbook_name": "Terminate EC2 Instances Without Valid Lifetime Tag",
   "parameters": [
    "region",
    "terminate"
   ]
  },
  "kernelspec": {
   "display_name": "unSkript (Build: 839)",
   "name": "python_kubernetes"
  },
  "language_info": {
   "file_extension": ".py",
   "mimetype": "text/x-python",
   "name": "python",
   "pygments_lexer": "ipython3"
  },
  "parameterSchema": {
   "properties": {
    "region": {
     "description": "AWS Region(s) to search for EC2 instances. Eg: [\"us-west-2\",\"ap-south-1\"]",
     "title": "region",
     "type": "array"
    },
    "terminate": {
     "default": false,
     "description": "Check parameter to terminate instances without the termination and lifetime tag. If changed to True, all instances without the termination and lifetime tag will be terminated. By default the value is false",
     "title": "terminate",
     "type": "boolean"
    }
   },
   "required": [],
   "title": "Schema",
   "type": "object"
  },
  "parameterValues": null
 },
 "nbformat": 4,
 "nbformat_minor": 5
}