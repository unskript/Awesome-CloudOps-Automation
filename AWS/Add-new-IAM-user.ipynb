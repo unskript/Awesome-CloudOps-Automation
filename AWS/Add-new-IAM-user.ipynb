{
    "cells": [
        {
            "cell_type": "code",
            "execution_count": 16,
            "id": "c80d1314-e7f5-45a8-ab97-0bb4aaa49bcc",
            "metadata": {
                "actionNeedsCredential": false,
                "actionSupportsIteration": false,
                "actionSupportsPoll": false,
                "deletable": false,
                "editable": false,
                "jupyter": {
                    "source_hidden": true
                },
                "orderProperties": [],
                "tags": [
                    "unSkript:nbParam"
                ],
                "title": [
                    "unSkript Internal"
                ],
                "trusted": true
            },
            "outputs": [],
            "source": [
                "import json\n",
                "from unskript import nbparams\n",
                "from unskript.secrets import ENV_MODE, ENV_MODE_AWS\n",
                "from unskript.fwk.workflow import Task, Workflow\n",
                "\n",
                "env = {\"ENV_MODE\":\"ENV_MODE_AWS\",\"TENANT_ID\":\"982dba5f-d9df-48ae-a5bf-ec1fc94d4882\",\"ENVIRONMENT_ID\":\"1499f27c-6406-4fbd-bd1b-c6f92800018f\",\"TENANT_URL\":\"https://tenant-staging.alpha.unskript.io\",\"AWS_REGION\":\"us-west-2\"}\n",
                "secret_store_cfg = {\"SECRET_STORE_TYPE\":\"SECRET_STORE_TYPE_AWS\",\"AWS_SECRET_PREFIX\":\"staging\",\"AWS_REGION\":\"us-west-2\"}\n",
                "paramDict = {\"tag_key\": \"Service\", \"tag_value\": \"devmongodb\", \"user_name\": \"Test\"}\n",
                "paramDict.update(env)\n",
                "paramDict.update(secret_store_cfg)\n",
                "paramsJson = json.dumps(paramDict)\n",
                "nbParamsObj = nbparams.NBParams(paramsJson)\n",
                "tag_key = nbParamsObj.get('tag_key')\n",
                "tag_value = nbParamsObj.get('tag_value')\n",
                "user_name = nbParamsObj.get('user_name')\n",
                "\n",
                "w = Workflow(env, secret_store_cfg, None, global_vars=globals())"
            ]
        },
        {
            "cell_type": "markdown",
            "id": "8a97b231-94d6-4e10-a24c-6eac9a4572e4",
            "metadata": {
                "name": "Add New IAM User",
                "orderProperties": [],
                "tags": [],
                "title": "Add New IAM User"
            },
            "source": [
                "<img src=\"https://unskript.com/assets/favicon.png\" alt=\"unSkript.com\" width=\"100\" height=\"100\"/> \n",
                "<h1> unSkript Runbooks </h1>\n",
                "<div class=\"alert alert-block alert-success\">\n",
                "    <b> This runbook demonstrates How to add a new IAM user using unSkript legos.</b>\n",
                "</div>\n",
                "\n",
                "<br>\n",
                "\n",
                "<center><h2>Add New IAM User</h2></center>\n",
                "\n",
                "# Steps Overview\n",
                "1) Created New IAM user by passing User name and tags. \n",
                "2) Created login profile for the newly created user.\n",
                "3) Check the caller identity of the current user.\n",
                "4) Send success IAM user creation message to the slack channel."
            ]
        },
        {
            "cell_type": "markdown",
            "id": "52a2105e-1ac2-4bae-95f1-c4b3675723d0",
            "metadata": {
                "name": "Create IAM User",
                "orderProperties": [],
                "tags": [],
                "title": "Create IAM User"
            },
            "source": [
                "Here we will use unSkript Create IAM User Lego. This lego takes user_name, tag_key and tag_value as input. This inputs is used to create a new IAM user for AWS."
            ]
        },
        {
            "cell_type": "code",
            "execution_count": 23,
            "id": "b2abbbfe-05b6-473c-92b0-0de1bb9e43b6",
            "metadata": {
                "accessType": "ACCESS_TYPE_UNSPECIFIED",
                "actionBashCommand": false,
                "actionNeedsCredential": true,
                "actionRequiredLinesInCode": [],
                "actionSupportsIteration": true,
                "actionSupportsPoll": true,
                "action_uuid": "afacde59-a401-4a8b-901d-46c4b3970b78",
                "collapsed": true,
                "continueOnError": false,
                "createTime": "2022-07-27T16:51:48Z",
                "credentialsJson": {},
                "currentVersion": "v0.0.0",
                "description": "Test",
                "execution_data": {
                    "last_date_success_run_cell": "2022-08-31T10:36:23.119Z"
                },
                "id": 100001,
                "index": 100001,
                "inputData": [
                    {
                        "tag_key": {
                            "constant": false,
                            "value": "tag_key"
                        },
                        "tag_value": {
                            "constant": false,
                            "value": "tag_value"
                        },
                        "user_name": {
                            "constant": false,
                            "value": "user_name"
                        }
                    }
                ],
                "inputschema": [
                    {
                        "properties": {
                            "tag_key": {
                                "default": "",
                                "description": "Tag Key",
                                "title": "tag_key",
                                "type": "string"
                            },
                            "tag_value": {
                                "default": "",
                                "description": "Tag Value",
                                "title": "tag_value",
                                "type": "string"
                            },
                            "user_name": {
                                "default": "",
                                "description": "User Name",
                                "title": "user_name",
                                "type": "string"
                            }
                        },
                        "required": [
                            "instance_ids",
                            "region"
                        ],
                        "title": "aws_restart_ec2_instances_test",
                        "type": "object"
                    }
                ],
                "jupyter": {
                    "outputs_hidden": true,
                    "source_hidden": true
                },
                "legotype": "LEGO_TYPE_AWS",
                "name": "Create IAM User",
                "nouns": [],
                "orderProperties": [
                    "user_name",
                    "tag_key",
                    "tag_value"
                ],
                "output": {
                    "type": ""
                },
                "outputParams": {
                    "output_name": "UserInfo",
                    "output_name_enabled": true
                },
                "tags": [],
                "title": "Create IAM User",
                "trusted": true,
                "verbs": []
            },
            "outputs": [],
            "source": [
                "##  Copyright (c) 2021 unSkript, Inc\n",
                "##  All rights reserved.\n",
                "##\n",
                "from typing import List, Dict\n",
                "from pydantic import BaseModel, Field\n",
                "from botocore.exceptions import ClientError\n",
                "import pprint\n",
                "\n",
                "from beartype import beartype\n",
                "@beartype\n",
                "def aws_create_iam_user_printer(output):\n",
                "    if output is None:\n",
                "        return\n",
                "    pprint.pprint(output)\n",
                "\n",
                "\n",
                "@beartype\n",
                "def aws_create_iam_user(handle, user_name: str, tag_key: str, tag_value: str) -> Dict:\n",
                "    \"\"\"aws_create_iam_user Creates new IAM User.\n",
                "\n",
                "        :type user_name: string\n",
                "        :param user_name: Name of new IAM User.\n",
                "\n",
                "        :type tag_key: string\n",
                "        :param tag_key: Tag Key to new User.\n",
                "\n",
                "        :type tag_value: string\n",
                "        :param tag_value: Tag Value to new User.\n",
                "\n",
                "        :rtype: Dict with the stopped instances state info.\n",
                "    \"\"\"\n",
                "\n",
                "    ec2Client = handle.client(\"iam\")\n",
                "    result = {}\n",
                "    try:\n",
                "        response = ec2Client.create_user(\n",
                "            UserName=user_name,\n",
                "            Tags=[\n",
                "                {\n",
                "                    'Key': tag_key,\n",
                "                    'Value': tag_value\n",
                "                }])\n",
                "        result = response\n",
                "    except ClientError as error:\n",
                "        if error.response['Error']['Code'] == 'EntityAlreadyExists':\n",
                "            result = error.response\n",
                "        else:\n",
                "            result = error.response\n",
                "\n",
                "    return result\n",
                "\n",
                "\n",
                "task = Task(Workflow())\n",
                "task.configure(credentialsJson='''{\n",
                "    \"credential_name\": \"DevRole\",\n",
                "    \"credential_type\": \"CONNECTOR_TYPE_AWS\",\n",
                "    \"credential_id\": \"0b438eba-0627-4f6d-b998-a4c604f20e3c\"\n",
                "}''')\n",
                "task.configure(inputParamsJson='''{\n",
                "    \"tag_key\": \"tag_key\",\n",
                "    \"tag_value\": \"tag_value\",\n",
                "    \"user_name\": \"user_name\"\n",
                "    }''')\n",
                "task.configure(outputName=\"UserInfo\")\n",
                "(err, hdl, args) = task.validate(vars=vars())\n",
                "if err is None:\n",
                "    task.execute(aws_create_iam_user, lego_printer=aws_create_iam_user_printer, hdl=hdl, args=args)"
            ]
        },
        {
            "cell_type": "markdown",
            "id": "c174d638-f107-450f-ab2d-d28cf097a722",
            "metadata": {
                "name": "Create login  profile for IAM User",
                "orderProperties": [],
                "tags": [],
                "title": "Create login  profile for IAM User"
            },
            "source": [
                "Here we will use unSkript Create Login Profile for IAM User Lego. This lego takes UserName and Password as input. This inputs is used to create a login profile for new IAM user."
            ]
        },
        {
            "cell_type": "code",
            "execution_count": 24,
            "id": "d5f3fcb4-a941-42b5-889a-7cfdbefae5ca",
            "metadata": {
                "accessType": "ACCESS_TYPE_UNSPECIFIED",
                "actionBashCommand": false,
                "actionNeedsCredential": true,
                "actionRequiredLinesInCode": [],
                "actionSupportsIteration": true,
                "actionSupportsPoll": true,
                "action_uuid": "abe9fc82a53b80dc1dd4d5a89e31d22b0338e73e86d2ca859576f38cc6d19f48",
                "collapsed": true,
                "condition_enabled": true,
                "continueOnError": false,
                "createTime": "1970-01-01T00:00:00Z",
                "credentialsJson": {},
                "currentVersion": "0.1.0",
                "description": "Filter AWS EC2 Instance by Tag",
                "execution_data": {
                    "last_date_success_run_cell": "2022-08-31T10:36:31.263Z"
                },
                "id": 155,
                "index": 155,
                "inputData": [
                    {
                        "Password": {
                            "constant": false,
                            "value": "\"test@123\""
                        },
                        "UserName": {
                            "constant": false,
                            "value": "user_name"
                        }
                    }
                ],
                "inputschema": [
                    {
                        "properties": {
                            "Password": {
                                "default": "",
                                "description": "User Profile Password",
                                "title": "Password",
                                "type": "string"
                            },
                            "UserName": {
                                "default": "",
                                "description": "IAM User Name",
                                "title": "UserName",
                                "type": "string"
                            }
                        },
                        "required": [
                            "tag_key",
                            "tag_value",
                            "region"
                        ],
                        "title": "aws_filter_ec2_by_tags",
                        "type": "object"
                    }
                ],
                "jupyter": {
                    "outputs_hidden": true,
                    "source_hidden": true
                },
                "legotype": "LEGO_TYPE_AWS",
                "name": "Create Login Profile for IAM User",
                "nouns": [
                    "aws",
                    "ec2",
                    "instances",
                    "tag"
                ],
                "orderProperties": [
                    "UserName",
                    "Password"
                ],
                "output": {
                    "type": ""
                },
                "startcondition": "'User' in UserInfo",
                "tags": [
                    "aws_filter_ec2_by_tags"
                ],
                "title": "Create Login Profile for IAM User",
                "trusted": true,
                "verbs": [
                    "filter"
                ]
            },
            "outputs": [],
            "source": [
                "##\n",
                "##  Copyright (c) 2021 unSkript, Inc\n",
                "##  All rights reserved.\n",
                "##\n",
                "from pydantic import BaseModel, Field\n",
                "from typing import Dict\n",
                "from botocore.exceptions import ClientError\n",
                "import pprint\n",
                "\n",
                "from beartype import beartype\n",
                "@beartype\n",
                "def aws_create_user_login_profile_printer(output):\n",
                "    if output is None:\n",
                "        return\n",
                "    pprint.pprint(output)\n",
                "\n",
                "\n",
                "@beartype\n",
                "def aws_create_user_login_profile(handle, UserName: str, Password: str) -> Dict:\n",
                "    \"\"\"aws_create_user_login_profile Create login profile for IAM User.\n",
                "\n",
                "        :type UserName: string\n",
                "        :param UserName: Name of new IAM User.\n",
                "\n",
                "        :type Password: string\n",
                "        :param Password: Tag Key to new User.\n",
                "\n",
                "        :rtype: Dict with the Profile Creation status info.\n",
                "    \"\"\"\n",
                "\n",
                "    ec2Client = handle.client(\"iam\")\n",
                "    result = {}\n",
                "    try:\n",
                "        response = ec2Client.create_login_profile(\n",
                "            UserName=UserName,\n",
                "            Password=Password,\n",
                "            PasswordResetRequired=True)\n",
                "\n",
                "        result = response\n",
                "    except ClientError as error:\n",
                "        if error.response['Error']['Code'] == 'EntityAlreadyExists':\n",
                "            result = error.response\n",
                "        else:\n",
                "            result = error.response\n",
                "\n",
                "    return result\n",
                "\n",
                "\n",
                "task = Task(Workflow())\n",
                "task.configure(credentialsJson='''{\n",
                "    \"credential_name\": \"DevRole\",\n",
                "    \"credential_type\": \"CONNECTOR_TYPE_AWS\",\n",
                "    \"credential_id\": \"0b438eba-0627-4f6d-b998-a4c604f20e3c\"\n",
                "}''')\n",
                "task.configure(inputParamsJson='''{\n",
                "    \"Password\": \"\\\\\"test@123\\\\\"\",\n",
                "    \"UserName\": \"user_name\"\n",
                "    }''')\n",
                "task.configure(conditionsJson='''{\n",
                "    \"condition_enabled\": true,\n",
                "    \"condition_cfg\": \"'User' in UserInfo\",\n",
                "    \"condition_result\": true\n",
                "    }''')\n",
                "\n",
                "\n",
                "(err, hdl, args) = task.validate(vars=vars())\n",
                "if err is None:\n",
                "    task.execute(aws_create_user_login_profile, lego_printer=aws_create_user_login_profile_printer, hdl=hdl, args=args)"
            ]
        },
        {
            "cell_type": "markdown",
            "id": "29511895-d1cc-4a01-9990-8928642b5006",
            "metadata": {
                "name": "STS Get Caller Identity",
                "orderProperties": [],
                "tags": [],
                "title": "STS Get Caller Identity"
            },
            "source": [
                "Here we will use unSkript STS Get Caller Identity Lego. This lego did't take any inputs. Shows the the caller identity for the current user."
            ]
        },
        {
            "cell_type": "code",
            "execution_count": 20,
            "id": "dd1e1542-ddd7-4b86-86a2-17e999458fbd",
            "metadata": {
                "accessType": "ACCESS_TYPE_UNSPECIFIED",
                "actionBashCommand": false,
                "actionNeedsCredential": true,
                "actionRequiredLinesInCode": [],
                "actionSupportsIteration": true,
                "actionSupportsPoll": true,
                "action_uuid": "afacde59-a401-4a8b-901d-46c4b3970b78",
                "collapsed": true,
                "createTime": "2022-07-27T16:51:48Z",
                "credentialsJson": {},
                "currentVersion": "v0.0.0",
                "description": "Test",
                "execution_data": {
                    "last_date_success_run_cell": "2022-08-31T10:27:34.390Z"
                },
                "id": 100001,
                "index": 100001,
                "inputschema": [
                    {
                        "properties": {},
                        "required": [
                            "instance_ids",
                            "region"
                        ],
                        "title": "aws_restart_ec2_instances_test",
                        "type": "object"
                    }
                ],
                "jupyter": {
                    "outputs_hidden": true,
                    "source_hidden": true
                },
                "legotype": "LEGO_TYPE_AWS",
                "name": "STS Get Caller Identity ",
                "nouns": [],
                "orderProperties": [],
                "output": {
                    "type": ""
                },
                "tags": [],
                "title": "STS Get Caller Identity ",
                "trusted": true,
                "verbs": []
            },
            "outputs": [],
            "source": [
                "##  Copyright (c) 2021 unSkript, Inc\n",
                "##  All rights reserved.\n",
                "##\n",
                "from typing import List, Dict\n",
                "from pydantic import BaseModel, Field\n",
                "import pprint\n",
                "\n",
                "\n",
                "from beartype import beartype\n",
                "@beartype\n",
                "def aws_get_caller_identity_printer(output):\n",
                "    if output is None:\n",
                "        return\n",
                "    pprint.pprint(output)\n",
                "\n",
                "\n",
                "@beartype\n",
                "def aws_get_caller_identity(handle) -> Dict:\n",
                "    ec2Client = handle.client('sts')\n",
                "    response = ec2Client.get_caller_identity()\n",
                "\n",
                "    return response\n",
                "\n",
                "\n",
                "task = Task(Workflow())\n",
                "task.configure(credentialsJson='''{\n",
                "    \"credential_name\": \"DevRole\",\n",
                "    \"credential_type\": \"CONNECTOR_TYPE_AWS\",\n",
                "    \"credential_id\": \"0b438eba-0627-4f6d-b998-a4c604f20e3c\"\n",
                "}''')\n",
                "(err, hdl, args) = task.validate(vars=vars())\n",
                "if err is None:\n",
                "    task.execute(aws_get_caller_identity, lego_printer=aws_get_caller_identity_printer, hdl=hdl, args=args)"
            ]
        },
        {
            "cell_type": "markdown",
            "id": "d1f05583-fa8c-4f8c-a357-3f6154df4620",
            "metadata": {
                "name": "Post Slack Message",
                "orderProperties": [],
                "tags": [],
                "title": "Post Slack Message"
            },
            "source": [
                "Here we will use unSkript Post Slack Message Lego. This lego takes channel name and message as input. This inputs is used to to post the message when new IAM user created."
            ]
        },
        {
            "cell_type": "code",
            "execution_count": 21,
            "id": "8cacd129-1fed-4c9e-9f2f-70da41c43c88",
            "metadata": {
                "accessType": "ACCESS_TYPE_UNSPECIFIED",
                "actionBashCommand": false,
                "actionNeedsCredential": true,
                "actionRequiredLinesInCode": [],
                "actionSupportsIteration": true,
                "actionSupportsPoll": true,
                "action_uuid": "6a87f83ab0ecfeecb9c98d084e2b1066c26fa64be5b4928d5573a5d60299802d",
                "collapsed": true,
                "condition_enabled": true,
                "continueOnError": false,
                "createTime": "1970-01-01T00:00:00Z",
                "credentialsJson": {},
                "currentVersion": "0.1.0",
                "description": "Post Slack Message",
                "execution_data": {
                    "last_date_success_run_cell": "2022-08-31T10:28:00.811Z"
                },
                "id": 62,
                "index": 62,
                "inputData": [
                    {
                        "channel": {
                            "constant": false,
                            "value": "\"dummy\""
                        },
                        "message": {
                            "constant": false,
                            "value": "\"New IAM user {}\".format(user_name)"
                        }
                    }
                ],
                "inputschema": [
                    {
                        "properties": {
                            "channel": {
                                "description": "Name of the slack channel where the message to be posted",
                                "title": "Channel",
                                "type": "string"
                            },
                            "message": {
                                "description": "Message to be sent",
                                "title": "Message",
                                "type": "string"
                            }
                        },
                        "required": [
                            "channel",
                            "message"
                        ],
                        "title": "slack_post_message",
                        "type": "object"
                    }
                ],
                "jupyter": {
                    "outputs_hidden": true,
                    "source_hidden": true
                },
                "legotype": "LEGO_TYPE_SLACK",
                "name": "Post Slack Message",
                "nouns": [
                    "slack",
                    "message"
                ],
                "orderProperties": [
                    "channel",
                    "message"
                ],
                "output": {
                    "type": ""
                },
                "startcondition": "'User' in UserInfo",
                "tags": [
                    "slack_post_message"
                ],
                "trusted": true,
                "verbs": [
                    "post"
                ]
            },
            "outputs": [],
            "source": [
                "##\n",
                "# Copyright (c) 2021 unSkript, Inc\n",
                "# All rights reserved.\n",
                "##\n",
                "\n",
                "import pprint\n",
                "\n",
                "from pydantic import BaseModel, Field\n",
                "from slack_sdk import WebClient\n",
                "from slack_sdk.errors import SlackApiError\n",
                "\n",
                "pp = pprint.PrettyPrinter(indent=2)\n",
                "\n",
                "\n",
                "from beartype import beartype\n",
                "@beartype\n",
                "def slack_post_message_printer(output):\n",
                "    if output is not None:\n",
                "        pprint.pprint(output)\n",
                "    else:\n",
                "        return\n",
                "\n",
                "\n",
                "@beartype\n",
                "def slack_post_message(\n",
                "        handle: WebClient,\n",
                "        channel: str,\n",
                "        message: str) -> str:\n",
                "\n",
                "    try:\n",
                "        response = handle.chat_postMessage(\n",
                "            channel=channel,\n",
                "            text=message)\n",
                "        return f\"Successfuly Sent Message on Channel: #{channel}\"\n",
                "    except SlackApiError as e:\n",
                "        pp.pprint(\n",
                "            f\"Failed sending message to slack channel {channel}, Error: {e.response['error']}\")\n",
                "        if e.response['error'] == 'channel_not_found':\n",
                "            raise Exception('Channel Not Found')\n",
                "        elif e.response['error'] == 'duplicate_channel_not_found':\n",
                "            raise Exception('Channel associated with the message_id not valid')\n",
                "        elif e.response['error'] == 'not_in_channel':\n",
                "            raise Exception('Cannot post message to channel user is not in')\n",
                "        elif e.response['error'] == 'is_archived':\n",
                "            raise Exception('Channel has been archived')\n",
                "        elif e.response['error'] == 'msg_too_long':\n",
                "            raise Exception('Message text is too long')\n",
                "        elif e.response['error'] == 'no_text':\n",
                "            raise Exception('Message text was not provided')\n",
                "        elif e.response['error'] == 'restricted_action':\n",
                "            raise Exception('Workspace preference prevents user from posting')\n",
                "        elif e.response['error'] == 'restricted_action_read_only_channel':\n",
                "            raise Exception('Cannot Post message, read-only channel')\n",
                "        elif e.response['error'] == 'team_access_not_granted':\n",
                "            raise Exception('The token used is not granted access to the workspace')\n",
                "        elif e.response['error'] == 'not_authed':\n",
                "            raise Exception('No Authtnecition token provided')\n",
                "        elif e.response['error'] == 'invalid_auth':\n",
                "            raise Exception('Some aspect of Authentication cannot be validated. Request denied')\n",
                "        elif e.response['error'] == 'access_denied':\n",
                "            raise Exception('Access to a resource specified in the request denied')\n",
                "        elif e.response['error'] == 'account_inactive':\n",
                "            raise Exception('Authentication token is for a deleted user')\n",
                "        elif e.response['error'] == 'token_revoked':\n",
                "            raise Exception('Authentication token for a deleted user has been revoked')\n",
                "        elif e.response['error'] == 'no_permission':\n",
                "            raise Exception('The workspace toekn used does not have necessary permission to send message')\n",
                "        elif e.response['error'] == 'ratelimited':\n",
                "            raise Exception('The request has been ratelimited. Retry sending message later')\n",
                "        elif e.response['error'] == 'service_unavailable':\n",
                "            raise Exception('The service is temporarily unavailable')\n",
                "        elif e.response['error'] == 'fatal_error':\n",
                "            raise Exception('The server encountered catostrophic error while sending message')\n",
                "        elif e.response['error'] == 'internal_error':\n",
                "            raise Exception('The server could not complete operation, likely due to transietn issue')\n",
                "        elif e.response['error'] == 'request_timeout':\n",
                "            raise Exception('Sending message error via POST: either message was missing or truncated')\n",
                "        else:\n",
                "            raise Exception(f'Failed Sending Message to slack channel {channel} Error: {e.response[\"error\"]}')\n",
                "\n",
                "    except Exception as e:\n",
                "        print(\"\\n\\n\")\n",
                "        pp.pprint(\n",
                "            f\"Failed sending message to slack channel {channel}, Error: {e.__str__()}\")\n",
                "        return f\"Unable to send message on {channel}\"\n",
                "\n",
                "\n",
                "task = Task(Workflow())\n",
                "task.configure(credentialsJson='''{\n",
                "    \"credential_name\": \"unSkript\",\n",
                "    \"credential_type\": \"CONNECTOR_TYPE_SLACK\",\n",
                "    \"credential_id\": \"b1adafe4-6593-484d-8fc1-e40799378e9a\"\n",
                "}''')\n",
                "task.configure(inputParamsJson='''{\n",
                "    \"channel\": \"\\\\\"dummy\\\\\"\",\n",
                "    \"message\": \"\\\\\"New IAM user {}\\\\\".format(user_name)\"\n",
                "    }''')\n",
                "\n",
                "task.configure(conditionsJson='''{\n",
                "    \"condition_enabled\": true,\n",
                "    \"condition_cfg\": \"'User' in UserInfo\",\n",
                "    \"condition_result\": true\n",
                "    }''')\n",
                "\n",
                "(err, hdl, args) = task.validate(vars=vars())\n",
                "if err is None:\n",
                "    task.execute(slack_post_message, lego_printer=slack_post_message_printer, hdl=hdl, args=args)"
            ]
        },
        {
            "cell_type": "markdown",
            "id": "e9df5398-15b1-4279-92b8-d4c62372afed",
            "metadata": {
                "name": "Conclusion",
                "orderProperties": [],
                "tags": [],
                "title": "Conclusion"
            },
            "source": [
                "In this Runbook, we demonstrated the use of unSkript's AWS and slack to perform AWS create new IAM user and login profile for the same user and also show the caller identity of the current user and post the message on the slack channel. To view the full platform capabilities of unSkript please visit https://unskript.com"
            ]
        }
    ],
    "metadata": {
        "execution_data": {
            "environment_id": "1499f27c-6406-4fbd-bd1b-c6f92800018f",
            "environment_name": "Staging",
            "execution_id": "",
            "inputs_for_searched_lego": "",
            "notebook_id": "b4e48ec9-e1c6-4856-bc0b-ca639ce6ef88.ipynb",
            "parameters": [
                "tag_key",
                "tag_value",
                "user_name"
            ],
            "runbook_name": "Add a new IAM user",
            "search_string": "",
            "show_tool_tip": false,
            "tenant_id": "982dba5f-d9df-48ae-a5bf-ec1fc94d4882",
            "tenant_url": "https://tenant-staging.alpha.unskript.io",
            "user_email_id": "harshal.bangre@unskript.com",
            "workflow_id": "0f9548b6-e1bf-43ad-be3f-cb93ee773eb4"
        },
        "kernelspec": {
            "display_name": "Python 3.9.12 ('base')",
            "language": "python",
            "name": "python3"
        },
        "language_info": {
            "file_extension": ".py",
            "mimetype": "text/x-python",
            "name": "python",
            "pygments_lexer": "ipython3",
            "version": "3.9.12"
        },
        "parameterSchema": {
            "properties": {
                "tag_key": {
                    "default": "Service",
                    "description": "Tag Key",
                    "title": "tag_key",
                    "type": "string"
                },
                "tag_value": {
                    "default": "devmongodb",
                    "description": "Tag Value",
                    "title": "tag_value",
                    "type": "string"
                },
                "user_name": {
                    "default": "Test",
                    "description": "User Name",
                    "title": "user_name",
                    "type": "string"
                }
            },
            "required": [],
            "title": "Schema",
            "type": "object"
        },
        "parameterValues": {
            "tag_key": "Service",
            "tag_value": "devmongodb",
            "user_name": "Test"
        },
        "vscode": {
            "interpreter": {
                "hash": "5e269198fab4eb2ea6fe7c886c38b87b334869f0501ab924e1d16d60aeba5d23"
            }
        }
    },
    "nbformat": 4,
    "nbformat_minor": 5
}
