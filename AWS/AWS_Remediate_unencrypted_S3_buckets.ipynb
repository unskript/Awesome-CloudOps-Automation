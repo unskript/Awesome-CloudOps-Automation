{
 "cells": [
  {
   "attachments": {},
   "cell_type": "markdown",
   "id": "cbabc8b5-57b4-45b8-890c-370bb1ed6f02",
   "metadata": {
    "jupyter": {
     "source_hidden": false
    },
    "name": "Runbook Overview",
    "orderProperties": [],
    "tags": [],
    "title": "Runbook Overview"
   },
   "source": [
    "<center><img src=\"https://storage.googleapis.com/unskript-website/assets/favicon.png\" alt=\"unSkript.com\" width=\"100\" height=\"100\">\n",
    "<h1 id=\"unSkript-Runbooks\">unSkript Runbooks<a class=\"jp-InternalAnchorLink\" href=\"#unSkript-Runbooks\" target=\"_self\">&para;</a></h1>\n",
    "<div class=\"alert alert-block alert-success\">\n",
    "<h3 id=\"Objective\"><strong>Objective</strong><a class=\"jp-InternalAnchorLink\" href=\"#Objective\" target=\"_self\">&para;</a></h3>\n",
    "<strong>This runbook demonstrates How to Remediate unencrypted S3 buckets.</strong></div>\n",
    "</center><center>\n",
    "<h2 id=\"Remediate-unencrypted-S3-buckets\">Remediate unencrypted S3 buckets<a class=\"jp-InternalAnchorLink\" href=\"#Remediate-unencrypted-S3-buckets\" target=\"_self\">&para;</a></h2>\n",
    "</center>\n",
    "<h1 id=\"Steps-Overview\">Steps Overview<a class=\"jp-InternalAnchorLink\" href=\"#Steps-Overview\" target=\"_self\">&para;</a></h1>\n",
    "<ol>\n",
    "<li>Filter all the S3 buckets which are unencrypted.</li>\n",
    "<li>Apply encryption on unencrypted S3 buckets.</li>\n",
    "</ol>"
   ]
  },
  {
   "cell_type": "code",
   "execution_count": 5,
   "id": "904610fd-51a8-40f8-9850-a288f4cd1ca5",
   "metadata": {
    "collapsed": true,
    "credentialsJson": {},
    "customAction": true,
    "execution_data": {
     "last_date_success_run_cell": "2023-05-17T16:40:06.556Z"
    },
    "jupyter": {
     "outputs_hidden": true,
     "source_hidden": true
    },
    "name": "Input Verification ",
    "orderProperties": [],
    "tags": [],
    "title": "Input Verification "
   },
   "outputs": [],
   "source": [
    "if bucket_name and not region:\n",
    "    raise SystemExit(\"Provide region for the S3 Bucket!\")\n",
    "if region == None:\n",
    "    region = \"\""
   ]
  },
  {
   "attachments": {},
   "cell_type": "markdown",
   "id": "38f0ef87-76cb-4505-b012-5681855c9920",
   "metadata": {
    "jupyter": {
     "source_hidden": false
    },
    "name": "Step-1",
    "orderProperties": [],
    "tags": [],
    "title": "Step-1"
   },
   "source": [
    "<h3 id=\"Filter-AWS-Unencrypted-S3-Buckets\">Filter AWS Unencrypted S3 Buckets<a class=\"jp-InternalAnchorLink\" href=\"#Filter-Unattached-EBS-Volumes\" target=\"_self\">&para;</a></h3>\n",
    "<p>Here we will use unSkript <strong>Filter Unencrypted S3 Buckets</strong> action. This action filters all the S3 buckets from the given region and returns a list of those S3 buckets without encryption. It will execute if the bucket_name parameter is not given.</p>\n",
    "<blockquote>\n",
    "<p>Input parameters: <code>region</code></p>\n",
    "</blockquote>\n",
    "<blockquote>\n",
    "<p>Output variable: <code>unencrypted_buckets</code></p>\n",
    "</blockquote>"
   ]
  },
  {
   "cell_type": "code",
   "execution_count": null,
   "id": "1bd5211a-2ef5-4796-bdf6-231080e966d8",
   "metadata": {
    "actionBashCommand": false,
    "actionCategories": [
     "CATEGORY_TYPE_CLOUDOPS",
     "CATEGORY_TYPE_SECOPS",
     "CATEGORY_TYPE_AWS",
     "CATEGORY_TYPE_AWS_S3"
    ],
    "actionDescription": "Filter AWS Unencrypted S3 Buckets",
    "actionEntryFunction": "aws_filter_unencrypted_s3_buckets",
    "actionIsCheck": true,
    "actionIsRemediation": false,
    "actionNeedsCredential": true,
    "actionNextHop": [
     "50d9c6abd7dce3ff9183d4135353e82859bc5a9639455b35bd229331be6048df"
    ],
    "actionNextHopParameterMapping": {
     "bucket_name": ".[].bucket",
     "region": ".[0].region"
    },
    "actionNouns": null,
    "actionOutputType": "ACTION_OUTPUT_TYPE_LIST",
    "actionSupportsIteration": true,
    "actionSupportsPoll": true,
    "actionTitle": "Filter AWS Unencrypted S3 Buckets",
    "actionType": "LEGO_TYPE_AWS",
    "actionVerbs": null,
    "actionVersion": "1.0.0",
    "action_modified": false,
    "action_uuid": "2fa5c0d3a9ed5951fbf2a1390610941af8e145521c244fa07b597d6ca6665a43",
    "collapsed": true,
    "condition_enabled": true,
    "continueOnError": false,
    "credentialsJson": {},
    "description": "Filter AWS Unencrypted S3 Buckets",
    "execution_data": {
     "last_date_success_run_cell": "2023-05-17T16:39:37.314Z"
    },
    "id": 1,
    "index": 1,
    "inputData": [
     {
      "region": {
       "constant": false,
       "value": "region"
      }
     }
    ],
    "inputschema": [
     {
      "properties": {
       "region": {
        "default": "",
        "description": "AWS Region.",
        "title": "Region",
        "type": "string"
       }
      },
      "required": [],
      "title": "aws_filter_unencrypted_s3_buckets",
      "type": "object"
     }
    ],
    "jupyter": {
     "outputs_hidden": true,
     "source_hidden": true
    },
    "language": "python",
    "legotype": "LEGO_TYPE_AWS",
    "name": "Filter AWS Unencrypted S3 Buckets",
    "orderProperties": [
     "region"
    ],
    "outputParams": {
     "output_name": "unencrypted_buckets",
     "output_name_enabled": true,
     "output_runbook_enabled": false,
     "output_runbook_name": ""
    },
    "printOutput": true,
    "startcondition": "not bucket_names",
    "tags": [],
    "uuid": "2fa5c0d3a9ed5951fbf2a1390610941af8e145521c244fa07b597d6ca6665a43",
    "version": "1.0.0"
   },
   "outputs": [],
   "source": [
    "##\n",
    "##  Copyright (c) 2021 unSkript, Inc\n",
    "##  All rights reserved.\n",
    "##\n",
    "from pydantic import BaseModel, Field\n",
    "from typing import Optional, Tuple\n",
    "from unskript.legos.aws.aws_list_all_regions.aws_list_all_regions import aws_list_all_regions\n",
    "from botocore.exceptions import ClientError\n",
    "import pprint\n",
    "\n",
    "\n",
    "from beartype import beartype\n",
    "@beartype\n",
    "def aws_filter_unencrypted_s3_buckets_printer(output):\n",
    "    if output is None:\n",
    "        return\n",
    "\n",
    "    pprint.pprint(output)\n",
    "\n",
    "\n",
    "@beartype\n",
    "def aws_filter_unencrypted_s3_buckets(handle, region: str = \"\") -> Tuple:\n",
    "    \"\"\"aws_filter_unencrypted_s3_buckets List of unencrypted S3 bucket name .\n",
    "\n",
    "        :type handle: object\n",
    "        :param handle: Object returned from task.validate(...).\n",
    "\n",
    "        :type region: string\n",
    "        :param region: Filter S3 buckets.\n",
    "\n",
    "        :rtype: Tuple with status result and list of unencrypted S3 bucket name.\n",
    "    \"\"\"\n",
    "    result = []\n",
    "    all_regions = [region]\n",
    "    if not region:\n",
    "        all_regions = aws_list_all_regions(handle)\n",
    "    for reg in all_regions:\n",
    "        try:\n",
    "            s3Client = handle.client('s3', region_name=reg)\n",
    "            response = s3Client.list_buckets()\n",
    "            # List unencrypted S3 buckets\n",
    "            for bucket in response['Buckets']:\n",
    "                try:\n",
    "                    response = s3Client.get_bucket_encryption(Bucket=bucket['Name'])\n",
    "                    encRules = response['ServerSideEncryptionConfiguration']['Rules']\n",
    "                except ClientError as e:\n",
    "                    bucket_dict = {}\n",
    "                    bucket_dict[\"region\"] = reg\n",
    "                    bucket_dict[\"bucket\"] = bucket['Name']\n",
    "                    result.append(bucket_dict)\n",
    "        except Exception as error:\n",
    "            pass\n",
    "\n",
    "    if len(result) != 0:\n",
    "        return (False, result)\n",
    "    else:\n",
    "        return (True, None)\n",
    "\n",
    "\n",
    "\n",
    "task = Task(Workflow())\n",
    "task.configure(inputParamsJson='''{\n",
    "    \"region\": \"region\"\n",
    "    }''')\n",
    "task.configure(conditionsJson='''{\n",
    "    \"condition_enabled\": true,\n",
    "    \"condition_cfg\": \"not bucket_names\",\n",
    "    \"condition_result\": true\n",
    "    }''')\n",
    "task.configure(outputName=\"unencrypted_buckets\")\n",
    "\n",
    "task.configure(printOutput=True)\n",
    "(err, hdl, args) = task.validate(vars=vars())\n",
    "if err is None:\n",
    "    task.execute(aws_filter_unencrypted_s3_buckets, lego_printer=aws_filter_unencrypted_s3_buckets_printer, hdl=hdl, args=args)"
   ]
  },
  {
   "attachments": {},
   "cell_type": "markdown",
   "id": "f2ed3b50-50f4-4983-b409-690aecf27b1c",
   "metadata": {
    "jupyter": {
     "source_hidden": false
    },
    "name": "Step-1 Extension",
    "orderProperties": [],
    "tags": [],
    "title": "Step-1 Extension"
   },
   "source": [
    "<h3 id=\"Modify-Unencrypted-S3-Buckets-Output\">Modify Unencrypted S3 Buckets Output</h3>\n",
    "<p>In this action, we modify the output from step 1 and return a list of dictionary items for the Unencrypted S3 Buckets</p>\n",
    "<blockquote>\n",
    "<p>Output variable: ebs_list</p>\n",
    "</blockquote>"
   ]
  },
  {
   "cell_type": "code",
   "execution_count": null,
   "id": "47117b25-2533-4021-b4f3-329b7fee165e",
   "metadata": {
    "collapsed": true,
    "credentialsJson": {},
    "customAction": true,
    "execution_data": {
     "last_date_success_run_cell": "2023-02-10T10:31:04.455Z"
    },
    "jupyter": {
     "outputs_hidden": true,
     "source_hidden": true
    },
    "name": "Modify Step-1 Output",
    "orderProperties": [],
    "tags": [],
    "title": "Modify Step-1 Output"
   },
   "outputs": [],
   "source": [
    "bucket_list = []\n",
    "\n",
    "try:\n",
    "    if unencrypted_buckets[0] == False:\n",
    "        for bucket in unencrypted_buckets[1]:\n",
    "            bucket_list.append(bucket)\n",
    "except Exception as e:\n",
    "    if bucket_names:\n",
    "        for i in bucket_names:\n",
    "            data_dict = {}\n",
    "            data_dict[\"region\"] = region\n",
    "            data_dict[\"bucket\"] = i\n",
    "            bucket_list.append(data_dict)\n",
    "    else:\n",
    "        raise Exception(e)"
   ]
  },
  {
   "attachments": {},
   "cell_type": "markdown",
   "id": "0a1ba685-0340-4af8-9bc7-32e9beff2837",
   "metadata": {
    "jupyter": {
     "source_hidden": false
    },
    "name": "Step-2",
    "orderProperties": [],
    "tags": [],
    "title": "Step-2"
   },
   "source": [
    "<h3 id=\"Apply-AWS-Default-Encryption-for-S3-Bucket\">Apply AWS Default Encryption for S3 Bucket</h3>\n",
    "<p>Here we will use the unSkript <strong>Apply AWS Default Encryption for the S3 Buckets</strong> action. In this action, we will apply the default encryption configuration to the unencrypted S3 buckets by passing the list of unencrypted S3 buckets from step 1.</p>\n",
    "<blockquote>\n",
    "<p>Input parameters: <code>name</code>, <code>region</code></p>\n",
    "</blockquote>\n",
    "<blockquote>\n",
    "<p>Output variable: <code>apply_output</code></p>\n",
    "</blockquote>"
   ]
  },
  {
   "cell_type": "code",
   "execution_count": 2,
   "id": "80b2e9a4-023a-4235-99ba-dce06988eb6e",
   "metadata": {
    "accessType": "ACCESS_TYPE_UNSPECIFIED",
    "actionBashCommand": false,
    "actionNeedsCredential": true,
    "actionRequiredLinesInCode": [],
    "actionSupportsIteration": true,
    "actionSupportsPoll": true,
    "action_uuid": "eb57da3b21aec38d005bf0355a48ba53937c7ac62f98e9c968c9501412d72008",
    "condition_enabled": true,
    "continueOnError": true,
    "createTime": "1970-01-01T00:00:00Z",
    "credentialsJson": {},
    "currentVersion": "0.1.0",
    "description": "Apply a New AWS Policy for S3 Bucket",
    "execution_data": {
     "last_date_success_run_cell": "2022-08-26T20:00:28.237Z"
    },
    "id": 135,
    "index": 135,
    "inputData": [
     {
      "name": {
       "constant": false,
       "value": "\"iter.get(\\\\\"bucket\\\\\")\""
      },
      "region": {
       "constant": false,
       "value": "\"iter.get(\\\\\"region\\\\\")\""
      }
     }
    ],
    "inputschema": [
     {
      "properties": {
       "name": {
        "default": "",
        "description": "Name of the bucket.",
        "title": "Bucket name",
        "type": "string"
       },
       "region": {
        "default": "",
        "description": "AWS region of the bucket.",
        "title": "Region",
        "type": "string"
       }
      },
      "required": [
       "name",
       "policy",
       "region"
      ],
      "title": "aws_put_bucket_policy",
      "type": "object"
     }
    ],
    "iterData": [
     {
      "iter_enabled": true,
      "iter_item": {
       "name": "bucket",
       "region": "region"
      },
      "iter_list": {
       "constant": false,
       "objectItems": true,
       "value": "bucket_list"
      }
     }
    ],
    "jupyter": {
     "source_hidden": true
    },
    "legotype": "LEGO_TYPE_AWS",
    "name": "Apply AWS Default Encryption for S3 Bucket",
    "nouns": [
     "aws",
     "policy",
     "bucket"
    ],
    "orderProperties": [
     "name",
     "region"
    ],
    "output": {
     "type": ""
    },
    "outputParams": {
     "output_name": "apply_output",
     "output_name_enabled": true
    },
    "printOutput": true,
    "startcondition": "len(bucket_list) > 0",
    "tags": [
     "aws_put_bucket_policy"
    ],
    "title": "Apply AWS Default Encryption for S3 Bucket",
    "verbs": [
     "apply"
    ]
   },
   "outputs": [],
   "source": [
    "##\n",
    "##  Copyright (c) 2021 unSkript, Inc\n",
    "##  All rights reserved.\n",
    "##\n",
    "from pydantic import BaseModel, Field\n",
    "from typing import Dict\n",
    "import json\n",
    "import pprint\n",
    "\n",
    "\n",
    "from beartype import beartype\n",
    "@beartype\n",
    "def aws_put_bucket_encryption_printer(output):\n",
    "    if output is None:\n",
    "        return\n",
    "    pprint.pprint(output)\n",
    "\n",
    "\n",
    "@beartype\n",
    "def aws_put_bucket_encryption(handle, name: str, region: str) -> Dict:\n",
    "    \"\"\"aws_put_bucket_encryption Puts default encryption configuration for bucket.\n",
    "\n",
    "          :type name: string\n",
    "          :param name: NAme of the S3 bucket.\n",
    "\n",
    "          :type region: string\n",
    "          :param region: location of the bucket\n",
    "\n",
    "          :rtype: Dict with the response info.\n",
    "      \"\"\"\n",
    "    s3Client = handle.client('s3',\n",
    "                             region_name=region)\n",
    "\n",
    "    # Setup default encryption configuration \n",
    "    response = s3Client.put_bucket_encryption(\n",
    "        Bucket=name,\n",
    "        ServerSideEncryptionConfiguration={\n",
    "            \"Rules\": [\n",
    "                {\"ApplyServerSideEncryptionByDefault\": {\"SSEAlgorithm\": \"AES256\"}}\n",
    "            ]},\n",
    "        )\n",
    "    return response\n",
    "\n",
    "\n",
    "task = Task(Workflow())\n",
    "task.configure(printOutput=True)\n",
    "task.configure(continueOnError=True)\n",
    "task.configure(inputParamsJson='''{\n",
    "    \"region\": \"iter.get(\\\\\"region\\\\\")\",\n",
    "    \"name\": \"iter.get(\\\\\"bucket\\\\\")\"\n",
    "    }''')\n",
    "task.configure(iterJson='''{\n",
    "    \"iter_enabled\": true,\n",
    "    \"iter_list_is_const\": false,\n",
    "    \"iter_list\": \"bucket_list\",\n",
    "    \"iter_parameter\": [\"name\",\"region\"]\n",
    "    }''')\n",
    "task.configure(conditionsJson='''{\n",
    "    \"condition_enabled\": true,\n",
    "    \"condition_cfg\": \"len(bucket_list) > 0\",\n",
    "    \"condition_result\": true\n",
    "    }''')\n",
    "task.configure(outputName=\"apply_output\")\n",
    "\n",
    "(err, hdl, args) = task.validate(vars=vars())\n",
    "if err is None:\n",
    "    task.execute(aws_put_bucket_encryption, lego_printer=aws_put_bucket_encryption_printer, hdl=hdl, args=args)"
   ]
  },
  {
   "attachments": {},
   "cell_type": "markdown",
   "id": "dea3003f-03e9-4dff-86fb-b4073ee4ef79",
   "metadata": {
    "jupyter": {
     "source_hidden": false
    },
    "name": "Conclusion",
    "orderProperties": [],
    "tags": [],
    "title": "Conclusion"
   },
   "source": [
    "### Conclusion\n",
    "<p>In this Runbook, we demonstrated the use of unSkript's AWS legos to filter all unencrypted S3 buckets and apply default encryption configuration to the buckets. To view the full platform capabilities of unSkript please visit <a href=\"https://us.app.unskript.io\" target=\"_blank\" rel=\"noopener\">https://us.app.unskript.io</a></p>"
   ]
  }
 ],
 "metadata": {
  "execution_data": {
   "runbook_name": "Remediate unencrypted S3 buckets",
   "parameters": [
    "bucket_name",
    "region"
   ]
  },
  "kernelspec": {
   "display_name": "unSkript (Build: 1166)",
   "language": "python",
   "name": "python3"
  },
  "language_info": {
   "codemirror_mode": {
    "name": "ipython",
    "version": 3
   },
   "file_extension": ".py",
   "mimetype": "text/x-python",
   "name": "python",
   "nbconvert_exporter": "python",
   "pygments_lexer": "ipython3",
   "version": "3.9.6"
  },
  "parameterSchema": {
   "properties": {
    "bucket_names": {
     "description": "list of S3 bucket Names",
     "title": "bucket_names",
     "type": "string"
    },
    "region": {
     "description": "AWS Region e.g. us-west-2",
     "title": "region",
     "type": "string"
    }
   },
   "required": [],
   "title": "Schema",
   "type": "object"
  },
  "parameterValues": {},
  "vscode": {
   "interpreter": {
    "hash": "5e269198fab4eb2ea6fe7c886c38b87b334869f0501ab924e1d16d60aeba5d23"
   }
  }
 },
 "nbformat": 4,
 "nbformat_minor": 5
}