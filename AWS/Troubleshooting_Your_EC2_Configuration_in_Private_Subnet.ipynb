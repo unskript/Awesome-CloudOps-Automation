{
 "cells": [
  {
   "cell_type": "markdown",
   "id": "2d5c877a-6cb6-46fa-b902-3a631c5798b4",
   "metadata": {
    "jupyter": {
     "source_hidden": false
    },
    "name": "Troubleshooting Your EC2 Configuration in a Private Subnet",
    "orderProperties": [],
    "tags": [],
    "title": "Troubleshooting Your EC2 Configuration in a Private Subnet"
   },
   "source": [
    "<img src=\"https://storage.googleapis.com/unskript-website/assets/favicon.png\" alt=\"unSkript.com\" width=\"100\" height=\"100\"/> \n",
    "<h1> unSkript Runbooks </h1>\n",
    "<div class=\"alert alert-block alert-success\">\n",
    "    <b> This runbook demonstrates How to troubleshoot your EC2 configuration in a private subnet using unSkript legos.</b>\n",
    "</div>\n",
    "\n",
    "<br>\n",
    "\n",
    "<center><h2>Troubleshooting Your EC2 Configuration in a Private Subnet</h2></center>\n",
    "\n",
    "# Steps Overview\n",
    "    1) Get all details of given instance id and capture the vpc id.\n",
    "    2) Using VPC ID get the NAT Gateway details.\n",
    "    3) Using VPC ID get the Internet Gateway details.\n",
    "    3) SSH given instance and try to connect to the internet."
   ]
  },
  {
   "cell_type": "markdown",
   "id": "8113d1a2-51f9-4eba-82c0-9066643d7a26",
   "metadata": {
    "jupyter": {
     "source_hidden": false
    },
    "name": "Get AWS Instance Details",
    "orderProperties": [],
    "tags": [],
    "title": "Get AWS Instance Details"
   },
   "source": [
    "Here we will use unSkript Get AWS Instance Details Lego. This lego takes instance_id: str and region: str as input. This input is used to discover all details about given EC2 instance."
   ]
  },
  {
   "cell_type": "code",
   "execution_count": null,
   "id": "b71a097f-91ba-400a-9f4c-e91fbd92b606",
   "metadata": {
    "accessType": "ACCESS_TYPE_UNSPECIFIED",
    "actionBashCommand": false,
    "actionNeedsCredential": true,
    "actionRequiredLinesInCode": [],
    "actionSupportsIteration": true,
    "actionSupportsPoll": true,
    "action_uuid": "aa1e026ca8002b906315feba401e5c46889d459270adce3b65d480dc9530311f",
    "continueOnError": false,
    "createTime": "1970-01-01T00:00:00Z",
    "credentialsJson": {},
    "currentVersion": "0.1.0",
    "description": "Use This Action to Get Details about an AWS EC2 Instance",
    "execution_data": {
     "last_date_success_run_cell": "2022-09-20T18:14:32.832Z"
    },
    "id": 123,
    "index": 123,
    "inputData": [
     {
      "instance_id": {
       "constant": false,
       "value": "Instance_id"
      },
      "region": {
       "constant": false,
       "value": "Region"
      }
     }
    ],
    "inputschema": [
     {
      "properties": {
       "instance_id": {
        "description": "ID of the instance.",
        "title": "Instance Id",
        "type": "string"
       },
       "region": {
        "description": "AWS Region of the instance.",
        "title": "Region",
        "type": "string"
       }
      },
      "required": [
       "instance_id",
       "region"
      ],
      "title": "aws_get_instance_details",
      "type": "object"
     }
    ],
    "jupyter": {
     "source_hidden": true
    },
    "legotype": "LEGO_TYPE_AWS",
    "name": "Get AWS Instance Details",
    "nouns": [
     "instance",
     "details"
    ],
    "orderProperties": [
     "instance_id",
     "region"
    ],
    "output": {
     "type": ""
    },
    "outputParams": {
     "output_name": "IncidentDetails",
     "output_name_enabled": true
    },
    "tags": [
     "aws_get_instance_details"
    ],
    "verbs": [
     "get"
    ]
   },
   "outputs": [],
   "source": [
    "##\n",
    "# Copyright (c) 2021 unSkript, Inc\n",
    "# All rights reserved.\n",
    "##\n",
    "from pydantic import BaseModel, Field\n",
    "from typing import Dict\n",
    "import pprint\n",
    "\n",
    "\n",
    "from beartype import beartype\n",
    "@beartype\n",
    "def aws_get_instance_details(\n",
    "    handle,\n",
    "    instance_id: str,\n",
    "    region: str,\n",
    ") -> Dict:\n",
    "\n",
    "    ec2client = handle.client('ec2', region_name=region)\n",
    "    instances = []\n",
    "    response = ec2client.describe_instances(\n",
    "        Filters=[{\"Name\": \"instance-id\", \"Values\": [instance_id]}])\n",
    "    for reservation in response[\"Reservations\"]:\n",
    "        for instance in reservation[\"Instances\"]:\n",
    "            instances.append(instance)\n",
    "    return instances[0]\n",
    "\n",
    "\n",
    "def unskript_default_printer(output):\n",
    "    if isinstance(output, (list, tuple)):\n",
    "        for item in output:\n",
    "            print(f'item: {item}')\n",
    "    elif isinstance(output, dict):\n",
    "        for item in output.items():\n",
    "            print(f'item: {item}')\n",
    "    else:\n",
    "        print(f'Output for {task.name}')\n",
    "        print(output)\n",
    "\n",
    "task = Task(Workflow())\n",
    "task.configure(inputParamsJson='''{\n",
    "    \"instance_id\": \"Instance_id\",\n",
    "    \"region\": \"Region\"\n",
    "    }''')\n",
    "task.configure(outputName=\"IncidentDetails\")\n",
    "(err, hdl, args) = task.validate(vars=vars())\n",
    "if err is None:\n",
    "    task.execute(aws_get_instance_details, lego_printer=unskript_default_printer, hdl=hdl, args=args)"
   ]
  },
  {
   "cell_type": "markdown",
   "id": "34ea4f4f-b016-4c82-99c9-c967d10248b9",
   "metadata": {
    "jupyter": {
     "source_hidden": false
    },
    "name": "AWS Get NAT Gateway by VPC ID",
    "orderProperties": [],
    "tags": [],
    "title": "AWS Get NAT Gateway by VPC ID"
   },
   "source": [
    "Here we will use unSkript AWS Get NAT Gateway Info by VPC ID Lego. This lego takes vpc_id: str, region: str as input. This input is used to discover details about NAT gateway by using VPC ID."
   ]
  },
  {
   "cell_type": "code",
   "execution_count": null,
   "id": "0cc9ee2a-9ff6-481e-bb42-6a400816bfb9",
   "metadata": {
    "accessType": "ACCESS_TYPE_UNSPECIFIED",
    "actionBashCommand": false,
    "actionNeedsCredential": true,
    "actionRequiredLinesInCode": [],
    "actionSupportsIteration": true,
    "actionSupportsPoll": true,
    "action_uuid": "d091c88bc74a85efb6038f5afd6da34047b53faf70ec2c203af85599b2154f76",
    "continueOnError": true,
    "createTime": "1970-01-01T00:00:00Z",
    "credentialsJson": {},
    "currentVersion": "0.1.0",
    "description": "AWS Get NAT Gateway Info by VPC ID",
    "execution_data": {
     "last_date_success_run_cell": "2022-09-20T17:31:19.042Z"
    },
    "id": 146,
    "index": 146,
    "inputData": [
     {
      "region": {
       "constant": false,
       "value": "Region"
      },
      "vpc_id": {
       "constant": false,
       "value": "iter_item"
      }
     }
    ],
    "inputschema": [
     {
      "properties": {
       "region": {
        "description": "AWS Region.",
        "title": "Region",
        "type": "string"
       },
       "vpc_id": {
        "description": "VPC ID of the Instance.",
        "title": "VPC ID",
        "type": "string"
       }
      },
      "required": [
       "vpc_id",
       "region"
      ],
      "title": "aws_get_natgateway_by_vpc",
      "type": "object"
     }
    ],
    "iterData": [
     {
      "iter_enabled": true,
      "iter_item": "vpc_id",
      "iter_list": {
       "constant": false,
       "objectItems": false,
       "value": "[n['VpcId'] for n in IncidentDetails.get('NetworkInterfaces') if n.get('VpcId') != None ]"
      }
     }
    ],
    "jupyter": {
     "source_hidden": true
    },
    "legotype": "LEGO_TYPE_AWS",
    "name": "AWS Get NAT Gateway Info by VPC ID",
    "nouns": [
     "aws",
     "ec2",
     "nat gateways",
     "vpc"
    ],
    "orderProperties": [
     "vpc_id",
     "region"
    ],
    "output": {
     "type": ""
    },
    "outputParams": {
     "output_name": "NATOutput",
     "output_name_enabled": true
    },
    "tags": [
     "aws_get_natgateway_by_vpc"
    ],
    "title": "AWS Get NAT Gateway Info by VPC ID",
    "verbs": [
     "dict"
    ]
   },
   "outputs": [],
   "source": [
    "##  Copyright (c) 2021 unSkript, Inc\n",
    "##  All rights reserved.\n",
    "##\n",
    "from typing import List, Dict\n",
    "from pydantic import BaseModel, Field\n",
    "from unskript.connectors.aws import aws_get_paginator\n",
    "import pprint\n",
    "\n",
    "\n",
    "from beartype import beartype\n",
    "@beartype\n",
    "def aws_get_natgateway_by_vpc_printer(output):\n",
    "    if output is None:\n",
    "        return\n",
    "    pprint.pprint(output)\n",
    "\n",
    "\n",
    "@beartype\n",
    "def aws_get_natgateway_by_vpc(handle, vpc_id: str, region: str) -> Dict:\n",
    "    \"\"\"aws_get_natgateway_by_vpc Returns an Dict of NAT Gateway info.\n",
    "\n",
    "        :type handle: object\n",
    "        :param handle: Object returned from task.validate(...).\n",
    "\n",
    "        :type vpc_id: str\n",
    "        :param vpc_id: VPC ID to find NAT Gateway.\n",
    "\n",
    "        :type region: str\n",
    "        :param region: Region to filter instance.\n",
    "\n",
    "        :rtype: Dict of NAT Gateway info.\n",
    "    \"\"\"\n",
    "\n",
    "    ec2Client = handle.client('ec2', region_name=region)\n",
    "    result = {}\n",
    "    try:\n",
    "        response = aws_get_paginator(ec2Client, \"describe_nat_gateways\", \"NatGateways\",\n",
    "                                Filters=[{'Name': 'vpc-id','Values': [vpc_id]}])\n",
    "        for nat_info in response:\n",
    "            if \"NatGatewayId\" in nat_info:\n",
    "                result[\"NatGatewayId\"] = nat_info[\"NatGatewayId\"]\n",
    "            if \"State\" in nat_info:\n",
    "                result[\"State\"] = nat_info[\"State\"]\n",
    "            if \"SubnetId\" in nat_info:\n",
    "                result[\"SubnetId\"] = nat_info[\"SubnetId\"]\n",
    "    except Exception as error:\n",
    "        result[\"error\"] = error\n",
    "\n",
    "    return result\n",
    "\n",
    "\n",
    "\n",
    "\n",
    "task = Task(Workflow())\n",
    "task.configure(continueOnError=True)\n",
    "task.configure(inputParamsJson='''{\n",
    "    \"region\": \"Region\",\n",
    "    \"vpc_id\": \"iter_item\"\n",
    "    }''')\n",
    "task.configure(iterJson='''{\n",
    "    \"iter_enabled\": true,\n",
    "    \"iter_list_is_const\": false,\n",
    "    \"iter_list\": \"[n['VpcId'] for n in IncidentDetails.get('NetworkInterfaces') if n.get('VpcId') != None ]\",\n",
    "    \"iter_parameter\": \"vpc_id\"\n",
    "    }''')\n",
    "task.configure(outputName=\"NATOutput\")\n",
    "\n",
    "(err, hdl, args) = task.validate(vars=vars())\n",
    "if err is None:\n",
    "    task.execute(aws_get_natgateway_by_vpc, lego_printer=aws_get_natgateway_by_vpc_printer, hdl=hdl, args=args)"
   ]
  },
  {
   "cell_type": "code",
   "execution_count": null,
   "id": "0f97c43c-ce42-4fef-96bd-09e266c9cda3",
   "metadata": {
    "execution_data": {
     "last_date_success_run_cell": "2022-09-20T17:31:21.530Z"
    },
    "jupyter": {
     "source_hidden": true
    },
    "name": "NAT Gateway Output",
    "orderProperties": [],
    "tags": [],
    "title": "NAT Gateway Output",
    "credentialsJson": {}
   },
   "outputs": [],
   "source": [
    "import pprint\n",
    "pprint.pprint(NATOutput)"
   ]
  },
  {
   "cell_type": "markdown",
   "id": "1aa9a0cb-3002-4e95-b5aa-c6a70c939d94",
   "metadata": {
    "jupyter": {
     "source_hidden": false
    },
    "name": "AWS Get Internet Gateway by VPC ID",
    "orderProperties": [],
    "tags": [],
    "title": "AWS Get Internet Gateway by VPC ID"
   },
   "source": [
    "Here we will use unSkript AWS Get Internet Gateway by VPC ID Lego. This lego takes vpc_id: str, region: str as input. This input is used to discover name of Internet gateway by using VPC ID."
   ]
  },
  {
   "cell_type": "code",
   "execution_count": null,
   "id": "10d7d677-1856-4cf7-af80-fd1378e5e4ef",
   "metadata": {
    "accessType": "ACCESS_TYPE_UNSPECIFIED",
    "actionBashCommand": false,
    "actionNeedsCredential": true,
    "actionRequiredLinesInCode": [],
    "actionSupportsIteration": true,
    "actionSupportsPoll": true,
    "action_uuid": "c52c6a51e5c0b38f2d4ee38dfb402497b2b91f8bc63d4bd62afebb769ece7ee3",
    "continueOnError": true,
    "createTime": "1970-01-01T00:00:00Z",
    "credentialsJson": {},
    "currentVersion": "0.1.0",
    "description": "AWS Get Internet Gateway by VPC ID",
    "execution_data": {
     "last_date_success_run_cell": "2022-09-20T17:32:45.290Z"
    },
    "id": 209,
    "index": 209,
    "inputData": [
     {
      "region": {
       "constant": false,
       "value": "Region"
      },
      "vpc_id": {
       "constant": false,
       "value": "iter_item"
      }
     }
    ],
    "inputschema": [
     {
      "properties": {
       "region": {
        "description": "AWS Region.",
        "title": "Region",
        "type": "string"
       },
       "vpc_id": {
        "description": "VPC ID of the Instance.",
        "title": "VPC ID",
        "type": "string"
       }
      },
      "required": [
       "vpc_id",
       "region"
      ],
      "title": "aws_get_internet_gateway_by_vpc",
      "type": "object"
     }
    ],
    "iterData": [
     {
      "iter_enabled": true,
      "iter_item": "vpc_id",
      "iter_list": {
       "constant": false,
       "objectItems": false,
       "value": "[n['VpcId'] for n in IncidentDetails.get('NetworkInterfaces') if n.get('VpcId') != None ]"
      }
     }
    ],
    "jupyter": {
     "source_hidden": true
    },
    "legotype": "LEGO_TYPE_AWS",
    "name": "AWS Get Internet Gateway by VPC ID",
    "nouns": [
     "aws",
     "ec2",
     "internet gateways",
     "vpc"
    ],
    "orderProperties": [
     "vpc_id",
     "region"
    ],
    "output": {
     "type": ""
    },
    "outputParams": {
     "output_name": "InternetOutput",
     "output_name_enabled": true
    },
    "tags": [
     "aws_get_internet_gateway_by_vpc"
    ],
    "title": "AWS Get Internet Gateway by VPC ID",
    "verbs": [
     "list"
    ]
   },
   "outputs": [],
   "source": [
    "##  Copyright (c) 2021 unSkript, Inc\n",
    "##  All rights reserved.\n",
    "##\n",
    "from typing import List, Dict\n",
    "from pydantic import BaseModel, Field\n",
    "from unskript.connectors.aws import aws_get_paginator\n",
    "import pprint\n",
    "\n",
    "from beartype import beartype\n",
    "@beartype\n",
    "def aws_get_internet_gateway_by_vpc_printer(output):\n",
    "    if output is None:\n",
    "        return\n",
    "    pprint.pprint(output)\n",
    "\n",
    "@beartype\n",
    "def aws_get_internet_gateway_by_vpc(handle, vpc_id: str, region: str) -> List:\n",
    "    \"\"\"aws_get_internet_gateway_by_vpc Returns an List of internet Gateway.\n",
    "\n",
    "        :type handle: object\n",
    "        :param handle: Object returned from task.validate(...).\n",
    "\n",
    "        :type vpc_id: str\n",
    "        :param vpc_id: VPC ID to find NAT Gateway.\n",
    "\n",
    "        :type region: str\n",
    "        :param region: Region to filter instance.\n",
    "\n",
    "        :rtype: List of Internet Gateway.\n",
    "    \"\"\"\n",
    "\n",
    "    ec2Client = handle.client('ec2', region_name=region)\n",
    "    result = []\n",
    "    try:\n",
    "        response = aws_get_paginator(ec2Client, \"describe_internet_gateways\", \"InternetGateways\",\n",
    "                                Filters=[{'Name': 'attachment.vpc-id','Values': [vpc_id]}])\n",
    "        for nat_info in response:\n",
    "            if \"InternetGatewayId\" in nat_info:\n",
    "                result.append(nat_info[\"InternetGatewayId\"])\n",
    "\n",
    "    except Exception as error:\n",
    "        result.append({\"error\":error})\n",
    "\n",
    "    return result\n",
    "\n",
    "\n",
    "\n",
    "\n",
    "\n",
    "\n",
    "task = Task(Workflow())\n",
    "task.configure(continueOnError=True)\n",
    "task.configure(inputParamsJson='''{\n",
    "    \"region\": \"Region\",\n",
    "    \"vpc_id\": \"iter_item\"\n",
    "    }''')\n",
    "task.configure(iterJson='''{\n",
    "    \"iter_enabled\": true,\n",
    "    \"iter_list_is_const\": false,\n",
    "    \"iter_list\": \"[n['VpcId'] for n in IncidentDetails.get('NetworkInterfaces') if n.get('VpcId') != None ]\",\n",
    "    \"iter_parameter\": \"vpc_id\"\n",
    "    }''')\n",
    "task.configure(outputName=\"InternetOutput\")\n",
    "\n",
    "(err, hdl, args) = task.validate(vars=vars())\n",
    "if err is None:\n",
    "    task.execute(aws_get_internet_gateway_by_vpc, lego_printer=aws_get_internet_gateway_by_vpc_printer, hdl=hdl, args=args)"
   ]
  },
  {
   "cell_type": "code",
   "execution_count": null,
   "id": "b5b0d239-39e8-4960-953c-a9746c2d12ff",
   "metadata": {
    "execution_data": {
     "last_date_success_run_cell": "2022-09-20T17:32:47.027Z"
    },
    "jupyter": {
     "source_hidden": true
    },
    "name": "Internet Gateway Output",
    "orderProperties": [],
    "tags": [],
    "title": "Internet Gateway Output",
    "credentialsJson": {}
   },
   "outputs": [],
   "source": [
    "import pprint\n",
    "pprint.pprint(InternetOutput)"
   ]
  },
  {
   "cell_type": "markdown",
   "id": "8e35ab9c-c545-4324-9f94-1854042b86fc",
   "metadata": {
    "jupyter": {
     "source_hidden": false
    },
    "name": "SSH Execute Remote Command",
    "orderProperties": [],
    "tags": [],
    "title": "SSH Execute Remote Command"
   },
   "source": [
    "Here we will use unSkript SSH Execute Remote Command Lego. This lego takes hosts: List[str], command: str, sudo: bool as input. This inputs is used to connect to instance and check weather the the instance connected to internet."
   ]
  },
  {
   "cell_type": "code",
   "execution_count": null,
   "id": "483b3bb9-cb21-4330-b874-cbca159fdfe1",
   "metadata": {
    "accessType": "ACCESS_TYPE_UNSPECIFIED",
    "actionBashCommand": false,
    "actionNeedsCredential": true,
    "actionRequiredLinesInCode": [],
    "actionSupportsIteration": true,
    "actionSupportsPoll": true,
    "action_uuid": "5279b2046bb2eb4a691ba748086f4af9e580a849faae557694bb12a8c2b7b379",
    "continueOnError": false,
    "createTime": "1970-01-01T00:00:00Z",
    "credentialsJson": {},
    "currentVersion": "0.1.0",
    "description": "SSH Execute Remote Command",
    "execution_data": {
     "last_date_success_run_cell": "2022-09-21T12:53:09.438Z"
    },
    "id": 77,
    "index": 77,
    "inputData": [
     {
      "command": {
       "constant": false,
       "value": "Command"
      },
      "hosts": {
       "constant": false,
       "value": "[n['PrivateIpAddress'] for n in IncidentDetails.get('NetworkInterfaces') if n.get('PrivateIpAddress') != None ]"
      },
      "sudo": {
       "constant": true,
       "value": false
      }
     }
    ],
    "inputschema": [
     {
      "properties": {
       "command": {
        "description": "Command to be executed on the remote server.",
        "title": "Command",
        "type": "string"
       },
       "hosts": {
        "description": "List of hosts to connect to. For eg. [\"host1\", \"host2\"].",
        "items": {
         "type": "string"
        },
        "title": "Hosts",
        "type": "array"
       },
       "sudo": {
        "default": false,
        "description": "Run the command with sudo.",
        "title": "Run with sudo",
        "type": "boolean"
       }
      },
      "required": [
       "hosts",
       "command"
      ],
      "title": "ssh_execute_remote_command",
      "type": "object"
     }
    ],
    "jupyter": {
     "source_hidden": true
    },
    "legotype": "LEGO_TYPE_SSH",
    "name": "SSH Execute Remote Command",
    "nouns": [
     "ssh",
     "command"
    ],
    "orderProperties": [
     "hosts",
     "command",
     "sudo"
    ],
    "output": {
     "type": ""
    },
    "tags": [
     "ssh_execute_remote_command"
    ],
    "verbs": [
     "execute"
    ]
   },
   "outputs": [],
   "source": [
    "##\n",
    "# Copyright (c) 2021 unSkript, Inc\n",
    "# All rights reserved.\n",
    "##\n",
    "from pydantic import BaseModel, Field\n",
    "from typing import List, Optional, Dict\n",
    "import pprint\n",
    "\n",
    "\n",
    "from beartype import beartype\n",
    "@beartype\n",
    "def ssh_execute_remote_command_printer(output):\n",
    "    if output is None:\n",
    "        return\n",
    "    print(\"\\n\")\n",
    "    pprint.pprint(output)\n",
    "\n",
    "\n",
    "@beartype\n",
    "def ssh_execute_remote_command(sshClient, hosts: List[str], command: str, sudo: bool = False) -> Dict:\n",
    "\n",
    "    client = sshClient(hosts)\n",
    "    runCommandOutput = client.run_command(command=command, sudo=sudo)\n",
    "    client.join()\n",
    "    res = {}\n",
    "\n",
    "    for host_output in runCommandOutput:\n",
    "        hostname = host_output.host\n",
    "        output = []\n",
    "        for line in host_output.stdout:\n",
    "            output.append(line)\n",
    "\n",
    "        o = \"\\n\".join(output)\n",
    "        res[hostname] = o\n",
    "\n",
    "    return res\n",
    "\n",
    "\n",
    "task = Task(Workflow())\n",
    "task.configure(inputParamsJson='''{\n",
    "    \"command\": \"Command\",\n",
    "    \"hosts\": \"[n['PrivateIpAddress'] for n in IncidentDetails.get('NetworkInterfaces') if n.get('PrivateIpAddress') != None ]\",\n",
    "    \"sudo\": \"False\"\n",
    "    }''')\n",
    "(err, hdl, args) = task.validate(vars=vars())\n",
    "if err is None:\n",
    "    task.execute(ssh_execute_remote_command, lego_printer=ssh_execute_remote_command_printer, hdl=hdl, args=args)"
   ]
  },
  {
   "cell_type": "markdown",
   "id": "6d0c973a-a674-4d7c-9548-80376c41b318",
   "metadata": {
    "jupyter": {
     "source_hidden": false
    },
    "name": "Conclusion",
    "orderProperties": [],
    "tags": [],
    "title": "Conclusion"
   },
   "source": [
    "In this Runbook, we demonstrated the use of unSkript's AWS legos to perform AWS action and this runbook collect the instance details and then by using vpc id it will check for NAT Gateway and Internet Gateway. To view the full platform capabilities of unSkript please visit https://unskript.com"
   ]
  }
 ],
 "metadata": {
  "execution_data": {
   "runbook_name": "Troubleshooting Your EC2 Configuration in a Private Subnet",
   "parameters": [
    "Instance_id",
    "Region"
   ]
  },
  "kernelspec": {
   "display_name": "Python 3.10.6 64-bit",
   "language": "python",
   "name": "python3"
  },
  "language_info": {
   "file_extension": ".py",
   "mimetype": "text/x-python",
   "name": "python",
   "pygments_lexer": "ipython3",
   "version": "3.10.6"
  },
  "parameterSchema": {
   "properties": {
    "Command": {
     "default": "ping -c 5 8.8.8.8",
     "description": "Command to test connectivity",
     "title": "Command",
     "type": "string"
    },
    "Instance_id": {
     "default": "i-0dd687a6b0eb4da63",
     "description": "Instance ID",
     "title": "Instance_id",
     "type": "string"
    },
    "Region": {
     "default": "us-west-2",
     "description": "Region",
     "title": "Region",
     "type": "string"
    }
   },
   "required": [],
   "title": "Schema",
   "type": "object"
  },
  "parameterValues": {
   "Command": "ping -c 5 8.8.8.8"
  },
  "vscode": {
   "interpreter": {
    "hash": "e8899eb02dfbc033aab5733bdae1bd213fa031d40331094008e8673d99ebab63"
   }
  }
 },
 "nbformat": 4,
 "nbformat_minor": 5
}