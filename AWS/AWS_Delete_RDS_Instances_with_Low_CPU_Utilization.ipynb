{
 "cells": [
  {
   "cell_type": "markdown",
   "id": "5424264e-6195-4cf9-906b-24b02d5a83f3",
   "metadata": {
    "jupyter": {
     "source_hidden": false
    },
    "name": "Steps Overview",
    "orderProperties": [],
    "tags": [],
    "title": "Steps Overview"
   },
   "source": [
    "<center><img src=\"https://storage.googleapis.com/unskript-website/assets/favicon.png\" alt=\"unSkript.com\" width=\"100\" height=\"100\">\n",
    "<h1 id=\"unSkript-Runbooks\">unSkript Runbooks</h1>\n",
    "<div class=\"alert alert-block alert-success\">\n",
    "<h3 id=\"Objective\">Objective</h3>\n",
    "<br><strong style=\"color: #000000;\"><em>Find and Delete RDS (Relational Database Service) Instances with Low CPU Utilization</em></strong></div>\n",
    "</center>\n",
    "<p>&nbsp;</p>\n",
    "<center>\n",
    "<h2 id=\"Delete-RDS-Instances-with-Low-CPU-Utilization\"><u>Delete RDS Instances with Low CPU Utilization</u></h2>\n",
    "</center>\n",
    "<h1 id=\"Steps-Overview\">Steps Overview</h1>\n",
    "<p>1)<a href=\"#1\" target=\"_self\" rel=\"noopener\"> Find RDS Instances with Low CPU Utilization</a><br>2)<a href=\"#2\" target=\"_self\" rel=\"noopener\"> Delete RDS Instances</a></p>"
   ]
  },
  {
   "cell_type": "code",
   "execution_count": null,
   "id": "e1f146c9-5180-4459-9c82-cf0e1da02785",
   "metadata": {
    "customAction": true,
    "execution_data": {
     "last_date_success_run_cell": "2023-05-02T17:14:41.488Z"
    },
    "jupyter": {
     "source_hidden": true
    },
    "name": "Input verification",
    "orderProperties": [],
    "tags": [],
    "title": "Input verification",
    "credentialsJson": {}
   },
   "outputs": [],
   "source": [
    "if db_identifiers and not region:\n",
    "    raise SystemExit(\"Provide a region for the RDS Instance identifiers!\")"
   ]
  },
  {
   "cell_type": "markdown",
   "id": "6f0aee52-e61c-42e4-8f08-00d831f58bc2",
   "metadata": {
    "jupyter": {
     "source_hidden": false
    },
    "name": "Step 1A",
    "orderProperties": [],
    "tags": [],
    "title": "Step 1A"
   },
   "source": [
    "<h3 id=\"List-all-AWS-Regions\">List all AWS Regions</h3>\n",
    "<p>This action fetches all AWS Regions to execute Step 1\ud83d\udc47. This action will only execute if no <code>region</code> is provided.</p>\n",
    "<blockquote>\n",
    "<p>This action takes the following parameters: <code>None</code></p>\n",
    "</blockquote>\n",
    "<blockquote>\n",
    "<p>This action captures the following ouput: <code>region</code></p>\n",
    "</blockquote>"
   ]
  },
  {
   "cell_type": "code",
   "execution_count": null,
   "id": "f82d3928-bff0-4a10-9d4d-5e6b692096df",
   "metadata": {
    "actionBashCommand": false,
    "actionCategories": [
     "CATEGORY_TYPE_CLOUDOPS",
     "CATEGORY_TYPE_DEVOPS",
     "CATEGORY_TYPE_SRE",
     "CATEGORY_TYPE_AWS"
    ],
    "actionDescription": "List all available AWS Regions",
    "actionEntryFunction": "aws_list_all_regions",
    "actionIsCheck": false,
    "actionIsRemediation": false,
    "actionNeedsCredential": true,
    "actionNextHop": null,
    "actionNextHopParameterMapping": null,
    "actionNouns": [
     "regions",
     "aws"
    ],
    "actionOutputType": "ACTION_OUTPUT_TYPE_LIST",
    "actionSupportsIteration": true,
    "actionSupportsPoll": true,
    "actionTitle": "AWS List All Regions",
    "actionType": "LEGO_TYPE_AWS",
    "actionVerbs": [
     "list"
    ],
    "actionVersion": "1.0.0",
    "action_modified": false,
    "action_uuid": "708ea4af5f8fe7096a15b3a52c4a657606bab9e177386fad7a847341ed607d64",
    "condition_enabled": true,
    "description": "List all available AWS Regions",
    "execution_data": {
     "last_date_success_run_cell": "2023-05-02T16:59:20.700Z"
    },
    "id": 1,
    "index": 1,
    "inputschema": [
     {
      "properties": {},
      "title": "aws_list_all_regions",
      "type": "object"
     }
    ],
    "jupyter": {
     "source_hidden": true
    },
    "language": "python",
    "legotype": "LEGO_TYPE_AWS",
    "name": "AWS List All Regions",
    "orderProperties": [],
    "outputParams": {
     "output_name": "region",
     "output_name_enabled": true,
     "output_runbook_enabled": false,
     "output_runbook_name": ""
    },
    "printOutput": true,
    "startcondition": "not region",
    "tags": [
     "aws_list_all_regions"
    ],
    "uuid": "708ea4af5f8fe7096a15b3a52c4a657606bab9e177386fad7a847341ed607d64",
    "version": "1.0.0",
    "credentialsJson": {}
   },
   "outputs": [],
   "source": [
    "#\n",
    "# Copyright (c) 2021 unSkript.com\n",
    "# All rights reserved.\n",
    "#\n",
    "\n",
    "from pydantic import BaseModel, Field\n",
    "from typing import Dict, List\n",
    "import pprint\n",
    "\n",
    "from beartype import beartype\n",
    "@beartype\n",
    "def aws_list_all_regions_printer(output):\n",
    "    if output is None:\n",
    "        return\n",
    "    pprint.pprint(output)\n",
    "\n",
    "\n",
    "@beartype\n",
    "def aws_list_all_regions(handle) -> List:\n",
    "    \"\"\"aws_list_all_regions lists all the AWS regions\n",
    "\n",
    "        :type handle: object\n",
    "        :param handle: Object returned from Task Validate\n",
    "\n",
    "        :rtype: Result List of result\n",
    "    \"\"\"\n",
    "\n",
    "    result = handle.aws_cli_command(\"aws ec2 --region us-west-2 describe-regions --all-regions --query 'Regions[].{Name:RegionName}' --output text\")\n",
    "    if result is None or result.returncode != 0:\n",
    "        print(\"Error while executing command : {}\".format(result))\n",
    "        return str()\n",
    "    result_op = list(result.stdout.split(\"\\n\"))\n",
    "    list_region = [x for x in result_op if x != '']\n",
    "    return list_region\n",
    "\n",
    "\n",
    "task = Task(Workflow())\n",
    "task.configure(conditionsJson='''{\n",
    "    \"condition_enabled\": true,\n",
    "    \"condition_cfg\": \"not region\",\n",
    "    \"condition_result\": true\n",
    "    }''')\n",
    "task.configure(outputName=\"region\")\n",
    "\n",
    "task.configure(printOutput=True)\n",
    "(err, hdl, args) = task.validate(vars=vars())\n",
    "if err is None:\n",
    "    task.execute(aws_list_all_regions, lego_printer=aws_list_all_regions_printer, hdl=hdl, args=args)"
   ]
  },
  {
   "cell_type": "markdown",
   "id": "908f4dcb-8483-44fc-8f81-ce2502e03093",
   "metadata": {
    "jupyter": {
     "source_hidden": false
    },
    "name": "Step 1",
    "orderProperties": [],
    "tags": [],
    "title": "Step 1"
   },
   "source": [
    "<h3 id=\"Find-ECS-Clusters-with-Low-CPU-Utilization\"><a id=\"1\" target=\"_self\" rel=\"nofollow\"></a>Find RDS Instances with Low CPU Utilization</h3>\n",
    "<p>Using unSkript's Find RDS Instances with Low CPU Utilization action, we will find instances with a low CPU utilization given a threshold percentage using the&nbsp;<span style=\"color: rgb(53, 152, 219);\">CPUUtilization <span style=\"color: rgb(0, 0, 0);\">attribue found in the statistics list of&nbsp; <em>get_metric_statistics</em> API of Cloudwatch.</span></span></p>\n",
    "<blockquote>\n",
    "<p>This action takes the following parameters: <code>region, threshold, duration_minutes</code></p>\n",
    "</blockquote>\n",
    "<blockquote>\n",
    "<p>This action captures the following output: <code>low_cpu_instances</code></p>\n",
    "</blockquote>"
   ]
  },
  {
   "cell_type": "code",
   "execution_count": null,
   "id": "7492c6bc-7b0d-476f-8d4c-e7d7a32dc73f",
   "metadata": {
    "actionBashCommand": false,
    "actionCategories": [
     "CATEGORY_TYPE_COST_OPT",
     "CATEGORY_TYPE_SRE",
     "CATEGORY_TYPE_AWS_RDS",
     "CATEGORY_TYPE_AWS"
    ],
    "actionDescription": "This lego finds RDS instances are not utilizing their CPU resources to their full potential.",
    "actionEntryFunction": "aws_find_rds_instances_with_low_cpu_utilization",
    "actionIsCheck": true,
    "actionIsRemediation": false,
    "actionNeedsCredential": true,
    "actionNextHop": [],
    "actionNextHopParameterMapping": {},
    "actionNouns": null,
    "actionOutputType": "ACTION_OUTPUT_TYPE_LIST",
    "actionSupportsIteration": true,
    "actionSupportsPoll": true,
    "actionTitle": "AWS Find RDS Instances with low CPU Utilization",
    "actionType": "LEGO_TYPE_AWS",
    "actionVerbs": null,
    "actionVersion": "1.0.0",
    "action_modified": false,
    "action_uuid": "8d01f8abc8274090c2325ef32905b2649a6af779ce86f78b9e9712ad1d482165",
    "condition_enabled": true,
    "continueOnError": true,
    "description": "This lego finds RDS instances are not utilizing their CPU resources to their full potential.",
    "execution_data": {
     "last_date_success_run_cell": "2023-05-02T17:15:19.103Z"
    },
    "id": 10,
    "index": 10,
    "inputData": [
     {
      "duration_minutes": {
       "constant": false,
       "value": "int(duration_minutes)"
      },
      "region": {
       "constant": false,
       "value": "iter_item"
      },
      "utilization_threshold": {
       "constant": false,
       "value": "int(threshold)"
      }
     }
    ],
    "inputschema": [
     {
      "properties": {
       "duration_minutes": {
        "default": 5,
        "description": "Value in minutes to get the start time of the metrics for CPU Utilization",
        "title": "Duration of Start time",
        "type": "integer"
       },
       "region": {
        "default": "",
        "description": "AWS Region to get the RDS Instance",
        "title": "AWS Region",
        "type": "string"
       },
       "utilization_threshold": {
        "default": 10,
        "description": "The threshold percentage of CPU utilization for an RDS Instance.",
        "title": "CPU Utilization Threshold",
        "type": "integer"
       }
      },
      "required": [],
      "title": "aws_find_rds_instances_with_low_cpu_utilization",
      "type": "object"
     }
    ],
    "iterData": [
     {
      "iter_enabled": true,
      "iter_item": "region",
      "iter_list": {
       "constant": false,
       "objectItems": false,
       "value": "region"
      }
     }
    ],
    "jupyter": {
     "source_hidden": true
    },
    "language": "python",
    "legotype": "LEGO_TYPE_AWS",
    "name": "AWS Find RDS Instances with low CPU Utilization",
    "orderProperties": [
     "region",
     "duration_minutes",
     "utilization_threshold"
    ],
    "outputParams": {
     "output_name": "low_cpu_instances",
     "output_name_enabled": true,
     "output_runbook_enabled": false,
     "output_runbook_name": ""
    },
    "printOutput": true,
    "startcondition": "not db_identifiers",
    "tags": [
     "aws_find_rds_instances_with_low_cpu_utilization"
    ],
    "uuid": "8d01f8abc8274090c2325ef32905b2649a6af779ce86f78b9e9712ad1d482165",
    "version": "1.0.0",
    "credentialsJson": {}
   },
   "outputs": [],
   "source": [
    "##\n",
    "##  Copyright (c) 2023 unSkript, Inc\n",
    "##  All rights reserved.\n",
    "##\n",
    "from pydantic import BaseModel, Field\n",
    "from typing import Optional, Tuple\n",
    "from unskript.legos.aws.aws_list_all_regions.aws_list_all_regions import aws_list_all_regions\n",
    "from unskript.connectors.aws import aws_get_paginator\n",
    "import pprint\n",
    "from datetime import datetime,timedelta\n",
    "\n",
    "\n",
    "from beartype import beartype\n",
    "@beartype\n",
    "def aws_find_rds_instances_with_low_cpu_utilization_printer(output):\n",
    "    if output is None:\n",
    "        return\n",
    "    pprint.pprint(output)\n",
    "\n",
    "\n",
    "@beartype\n",
    "def aws_find_rds_instances_with_low_cpu_utilization(handle, utilization_threshold:int=10, region: str = \"\", duration_minutes:int=5) -> Tuple:\n",
    "    \"\"\"aws_find_rds_instances_with_low_cpu_utilization finds RDS instances that have a lower cpu utlization than the given threshold\n",
    "\n",
    "        :type handle: object\n",
    "        :param handle: Object returned from task.validate(...).\n",
    "\n",
    "        :type region: string\n",
    "        :param region: Region of the RDS.\n",
    "\n",
    "        :type utilization_threshold: integer\n",
    "        :param utilization_threshold: The threshold percentage of CPU utilization for an RDS Instance.\n",
    "\n",
    "        :type duration_minutes: integer\n",
    "        :param duration_minutes: Value in minutes to get the start time of the metrics for CPU Utilization\n",
    "\n",
    "        :rtype: status, list of instances and their region.\n",
    "    \"\"\"\n",
    "    result = []\n",
    "    all_regions = [region]\n",
    "    if not region:\n",
    "        all_regions = aws_list_all_regions(handle)\n",
    "    for reg in all_regions:\n",
    "        try:\n",
    "            rdsClient = handle.client('rds', region_name=reg)\n",
    "            cloudwatchClient = handle.client('cloudwatch', region_name=reg)\n",
    "            all_instances = aws_get_paginator(rdsClient, \"describe_db_instances\", \"DBInstances\")\n",
    "            for db in all_instances:\n",
    "                response = cloudwatchClient.get_metric_data(\n",
    "                    MetricDataQueries=[\n",
    "                        {\n",
    "                            'Id': 'cpu',\n",
    "                            'MetricStat': {\n",
    "                                'Metric': {\n",
    "                                    'Namespace': 'AWS/RDS',\n",
    "                                    'MetricName': 'CPUUtilization',\n",
    "                                    'Dimensions': [\n",
    "                                        {\n",
    "                                            'Name': 'DBInstanceIdentifier',\n",
    "                                            'Value': db['DBInstanceIdentifier']\n",
    "                                        },\n",
    "                                    ]\n",
    "                                },\n",
    "                                'Period': 60,\n",
    "                                'Stat': 'Average',\n",
    "                            },\n",
    "                            'ReturnData': True,\n",
    "                        },\n",
    "                    ],\n",
    "                    StartTime=(datetime.now() - timedelta(minutes=duration_minutes)).isoformat(),\n",
    "                    EndTime=datetime.utcnow().isoformat(),\n",
    "                )\n",
    "                if 'Values' in response['MetricDataResults'][0]:\n",
    "                    cpu_utilization = response['MetricDataResults'][0]['Values'][0]\n",
    "                    if cpu_utilization < utilization_threshold:\n",
    "                        db_instance_dict = {}\n",
    "                        db_instance_dict[\"region\"] = reg\n",
    "                        db_instance_dict[\"instance\"] = db['DBInstanceIdentifier']\n",
    "                        result.append(db_instance_dict)\n",
    "        except Exception as error:\n",
    "            pass\n",
    "\n",
    "    if len(result) != 0:\n",
    "        return (False, result)\n",
    "    else:\n",
    "        return (True, None)\n",
    "\n",
    "\n",
    "task = Task(Workflow())\n",
    "task.configure(continueOnError=True)\n",
    "task.configure(inputParamsJson='''{\n",
    "    \"region\": \"iter_item\",\n",
    "    \"duration_minutes\": \"int(duration_minutes)\",\n",
    "    \"utilization_threshold\": \"int(threshold)\"\n",
    "    }''')\n",
    "task.configure(iterJson='''{\n",
    "    \"iter_enabled\": true,\n",
    "    \"iter_list_is_const\": false,\n",
    "    \"iter_list\": \"region\",\n",
    "    \"iter_parameter\": \"region\"\n",
    "    }''')\n",
    "task.configure(conditionsJson='''{\n",
    "    \"condition_enabled\": true,\n",
    "    \"condition_cfg\": \"not db_identifiers\",\n",
    "    \"condition_result\": true\n",
    "    }''')\n",
    "\n",
    "task.configure(outputName=\"low_cpu_instances\")\n",
    "\n",
    "task.configure(printOutput=True)\n",
    "(err, hdl, args) = task.validate(vars=vars())\n",
    "if err is None:\n",
    "    task.execute(aws_find_rds_instances_with_low_cpu_utilization, lego_printer=aws_find_rds_instances_with_low_cpu_utilization_printer, hdl=hdl, args=args)"
   ]
  },
  {
   "cell_type": "markdown",
   "id": "199591ef-cb3a-49b7-b515-3c6998050320",
   "metadata": {
    "jupyter": {
     "source_hidden": false
    },
    "name": "Step 2A",
    "orderProperties": [],
    "tags": [],
    "title": "Step 2A"
   },
   "source": [
    "<h3 id=\"Create-List-of-Low-CPU-Utilization-RDS-Instances\">Create List of Low CPU Utilization RDS Instances</h3>\n",
    "<p>This action filters regions that have no clusters with low CPU utilization and creates a list of those that have them.</p>\n",
    "<blockquote>\n",
    "<p>This action takes the following parameters: <code>None</code></p>\n",
    "</blockquote>\n",
    "<blockquote>\n",
    "<p>This action captures the following output: <code>all_low_cpu_instances</code></p>\n",
    "</blockquote>"
   ]
  },
  {
   "cell_type": "code",
   "execution_count": null,
   "id": "6a10e980-9f17-4436-9166-90ea130aa316",
   "metadata": {
    "customAction": true,
    "execution_data": {
     "last_date_success_run_cell": "2023-05-02T17:15:25.139Z"
    },
    "jupyter": {
     "source_hidden": true
    },
    "name": "Create List of Low CPU Utilization RDS Instances",
    "orderProperties": [],
    "tags": [],
    "title": "Create List of Low CPU Utilization RDS Instances",
    "credentialsJson": {}
   },
   "outputs": [],
   "source": [
    "all_low_cpu_instances = []\n",
    "dummy = []\n",
    "try:\n",
    "    for reg,res in low_cpu_instances.items():\n",
    "        if res[0]==False:\n",
    "            if len(res[1])!=0:\n",
    "                dummy = res[1]\n",
    "                for x in dummy:\n",
    "                    all_low_cpu_instances.append(x)\n",
    "except Exception:\n",
    "    for ins_identifier in db_identifiers:\n",
    "        data_dict = {}\n",
    "        data_dict[\"region\"] = region[0]\n",
    "        data_dict[\"instance\"] = ins_identifier\n",
    "        all_low_cpu_instances.append(data_dict)\n",
    "print(all_low_cpu_instances)\n",
    "task.configure(outputName=\"all_low_cpu_instances\")"
   ]
  },
  {
   "cell_type": "markdown",
   "id": "978d3b61-2fd9-461d-89bd-534d2dcf3b63",
   "metadata": {
    "jupyter": {
     "source_hidden": false
    },
    "name": "Step 2",
    "orderProperties": [],
    "tags": [],
    "title": "Step 2"
   },
   "source": [
    "<h3 id=\"Delete-RDS-Instance\"><a id=\"2\" target=\"_self\" rel=\"nofollow\"></a>Delete RDS Instance</h3>\n",
    "<p>This action deletes instances found in Step 1.&nbsp;</p>\n",
    "<blockquote>\n",
    "<p>This action takes the following parameters:&nbsp;<code>instance_id, region</code></p>\n",
    "</blockquote>"
   ]
  },
  {
   "cell_type": "code",
   "execution_count": null,
   "id": "3e5ebe37-23db-4379-8118-b5bb9146b54a",
   "metadata": {
    "actionBashCommand": "false",
    "actionDescription": "Delete AWS RDS Instance",
    "actionEntryFunction": "aws_delete_rds_instance",
    "actionIsCheck": "false",
    "actionNeedsCredential": "\"true\"",
    "actionOutputType": "ACTION_OUTPUT_TYPE_DICT",
    "actionSupportsIteration": "\"true\"",
    "actionSupportsPoll": "\"true\"",
    "actionTitle": "AWS Delete RDS Instance",
    "actionType": "LEGO_TYPE_AWS",
    "actionVersion": "1.0.0",
    "action_modified": false,
    "action_uuid": "97d10eec-4686-4308-9932-d6fa7723f478",
    "condition_enabled": true,
    "continueOnError": true,
    "custom_cell": true,
    "description": "Delete AWS RDS Instance",
    "id": 7,
    "index": 7,
    "inputData": [
     {
      "instance_id": {
       "constant": false,
       "value": "\"iter.get(\\\\\"instance\\\\\")\""
      },
      "region": {
       "constant": false,
       "value": "\"iter.get(\\\\\"region\\\\\")\""
      }
     }
    ],
    "inputschema": [
     {
      "properties": {
       "instance_id": {
        "default": "",
        "description": "The DB instance identifier for the DB instance to be deleted. This parameter isn\u2019t case-sensitive.",
        "title": "instance_id",
        "type": "string"
       },
       "region": {
        "default": "",
        "description": "AWS region of instance identifier",
        "title": "region",
        "type": "string"
       }
      },
      "required": [
       "instance_id",
       "region"
      ],
      "title": "aws_delete_rds_instance",
      "type": "object"
     }
    ],
    "iterData": [
     {
      "iter_enabled": true,
      "iter_item": {
       "instance_id": "instance",
       "region": "region"
      },
      "iter_list": {
       "constant": false,
       "objectItems": true,
       "value": "all_low_cpu_instances"
      }
     }
    ],
    "jupyter": {
     "source_hidden": true
    },
    "language": "python",
    "legotype": "LEGO_TYPE_AWS",
    "name": "AWS Delete RDS Instance",
    "orderProperties": [
     "instance_id",
     "region"
    ],
    "printOutput": true,
    "startcondition": "len(all_low_cpu_instances)!=0",
    "tags": [],
    "uuid": "97d10eec-4686-4308-9932-d6fa7723f478",
    "version": "1.0.0",
    "credentialsJson": {}
   },
   "outputs": [],
   "source": [
    "##\n",
    "# Copyright (c) 2023 unSkript, Inc\n",
    "# All rights reserved.\n",
    "##\n",
    "from pydantic import BaseModel, Field\n",
    "from typing import Optional, Dict\n",
    "import pprint\n",
    "\n",
    "\n",
    "def aws_delete_rds_instance_printer(output):\n",
    "    if output is None:\n",
    "        return\n",
    "    pprint.pprint(output)\n",
    "\n",
    "\n",
    "def aws_delete_rds_instance(handle, region: str, instance_id: str) -> Dict:\n",
    "    \"\"\"aws_delete_rds_instance dict of response.\n",
    "\n",
    "        :type region: string\n",
    "        :param region: AWS Region.\n",
    "\n",
    "        :type instance_id: string\n",
    "        :param instance_id: The DB instance identifier for the DB instance to be deleted. This parameter isn\u2019t case-sensitive.\n",
    "\n",
    "        :rtype: dict of response of deleting an RDS instance\n",
    "    \"\"\"\n",
    "    try:\n",
    "        ec2Client = handle.client('rds', region_name=region)\n",
    "        response = ec2Client.delete_db_instance(DBInstanceIdentifier=instance_id)\n",
    "        return response\n",
    "    except Exception as e:\n",
    "        raise Exception(e)\n",
    "\n",
    "\n",
    "task = Task(Workflow())\n",
    "task.configure(inputParamsJson='''{\n",
    "    \"instance\": \"iter.get(\\\\\"instance\\\\\")\",\n",
    "    \"region\": \"iter.get(\\\\\"region\\\\\")\"\n",
    "    }''')\n",
    "task.configure(iterJson='''{\n",
    "    \"iter_enabled\": true,\n",
    "    \"iter_list_is_const\": false,\n",
    "    \"iter_list\": \"all_low_cpu_instances\",\n",
    "    \"iter_parameter\": [\"instance_id\",\"region\"]\n",
    "    }''')\n",
    "\n",
    "task.configure(continueOnError=True)\n",
    "task.configure(printOutput=True)\n",
    "(err, hdl, args) = task.validate(vars=vars())\n",
    "if err is None:\n",
    "    task.execute(aws_delete_rds_instance, lego_printer=aws_delete_rds_instance_printer, hdl=hdl, args=args)"
   ]
  },
  {
   "cell_type": "markdown",
   "id": "44a6cf05-385b-445d-a503-ad4aa607a568",
   "metadata": {
    "jupyter": {
     "source_hidden": false
    },
    "name": "Conclusion",
    "orderProperties": [],
    "tags": [],
    "title": "Conclusion"
   },
   "source": [
    "<h3 id=\"Conclusion\">Conclusion<a class=\"jp-InternalAnchorLink\" href=\"#Conclusion\" target=\"_self\">&para;</a></h3>\n",
    "<p>In this Runbook, we were able to filter low CPU utilization RDS Instance given threshold percentage and delete them. To view the full platform capabilities of unSkript please visit <a href=\"https://us.app.unskript.io\" target=\"_blank\" rel=\"noopener\">us.app.unskript.io</a></p>"
   ]
  }
 ],
 "metadata": {
  "execution_data": {
   "runbook_name": "Delete RDS Instances with Low CPU Utilization",
   "parameters": [
    "region",
    "threshold_days"
   ]
  },
  "kernelspec": {
   "display_name": "unSkript (Build: 1142)",
   "language": "python",
   "name": "python3"
  },
  "language_info": {
   "codemirror_mode": {
    "name": "ipython",
    "version": 3
   },
   "file_extension": ".py",
   "mimetype": "text/x-python",
   "name": "python",
   "nbconvert_exporter": "python",
   "pygments_lexer": "ipython3",
   "version": "3.10.6"
  },
  "outputParameterSchema": {
   "properties": {},
   "required": [],
   "title": "Schema",
   "type": "object"
  },
  "parameterSchema": {
   "properties": {
    "db_identifiers": {
     "description": "List of RDS Db identifiers.",
     "title": "db_identifiers",
     "type": "array"
    },
    "duration_minutes": {
     "default": 5,
     "description": "Start time value in minutes to get the start time of metrics collection",
     "title": "duration_minutes",
     "type": "number"
    },
    "region": {
     "description": "AWS Regions to get the RDS Instances from. Eg: [\"us-west-2\", \"ap-south-1\"]. If nothing is given all regions will be considered.",
     "title": "region",
     "type": "array"
    },
    "threshold": {
     "default": 10,
     "description": "Threshold (in percent) to check for the CPU utilization of RDS Instances below the given threshold.",
     "title": "threshold",
     "type": "number"
    }
   },
   "required": [],
   "title": "Schema",
   "type": "object"
  },
  "vscode": {
   "interpreter": {
    "hash": "b0fa6594d8f4cbf19f97940f81e996739fb7646882a419484c72d19e05852a7e"
   }
  }
 },
 "nbformat": 4,
 "nbformat_minor": 5
}