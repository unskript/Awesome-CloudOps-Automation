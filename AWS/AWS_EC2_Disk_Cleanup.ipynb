{
 "cells": [
  {
   "cell_type": "code",
   "execution_count": 5,
   "id": "d580d618-239d-4e3c-936f-ebef044b6a13",
   "metadata": {
    "deletable": false,
    "editable": false,
    "jupyter": {
     "source_hidden": true
    },
    "orderProperties": [],
    "tags": [
     "unSkript:nbParam"
    ],
    "title": "unSkript Internal",
    "credentialsJson": {}
   },
   "outputs": {},
   "source": [
    "import json\n",
    "from unskript import nbparams\n",
    "from unskript.fwk.workflow import Task, Workflow\n",
    "from unskript.secrets import ENV_MODE, ENV_MODE_LOCAL\n",
    "\n",
    "env = {\"ENV_MODE\": \"ENV_MODE_LOCAL\"}\n",
    "secret_store_cfg = {\"SECRET_STORE_TYPE\": \"SECRET_STORE_TYPE_LOCAL\"}\n",
    "\n",
    "paramDict = {\"Bucket\": None, \"Threshold\": float(100), \"channel\": None, \"dirs_to_anaylze\": \"/home\", \"instance_id\": None, \"prefix\": \"test/\", \"region\": None}\n",
    "unSkriptOutputParamDict = {}\n",
    "paramDict.update(env)\n",
    "paramDict.update(secret_store_cfg)\n",
    "paramsJson = json.dumps(paramDict)\n",
    "nbParamsObj = nbparams.NBParams(paramsJson)\n",
    "Bucket = nbParamsObj.get('Bucket')\n",
    "Threshold = nbParamsObj.get('Threshold')\n",
    "channel = nbParamsObj.get('channel')\n",
    "dirs_to_anaylze = nbParamsObj.get('dirs_to_anaylze')\n",
    "instance_id = nbParamsObj.get('instance_id')\n",
    "prefix = nbParamsObj.get('prefix')\n",
    "region = nbParamsObj.get('region')\n",
    "w = Workflow(env, secret_store_cfg, None, global_vars=globals())"
   ]
  },
  {
   "cell_type": "markdown",
   "id": "bf364c84",
   "metadata": {
    "jupyter": {
     "source_hidden": false
    },
    "name": "Runbook Overview",
    "orderProperties": [],
    "tags": [],
    "title": "Runbook Overview"
   },
   "source": [
    "<center><img src=\"https://unskript.com/assets/favicon.png\" alt=\"unSkript.com\" width=\"100\" height=\"100\">\n",
    "<h1 id=\"unSkript-Runbooks\">unSkript Runbooks<a class=\"jp-InternalAnchorLink\" href=\"#unSkript-Runbooks\" target=\"_self\">&para;</a></h1>\n",
    "<div class=\"alert alert-block alert-success\">\n",
    "<h3 id=\"Objective\"><strong>Objective</strong><a class=\"jp-InternalAnchorLink\" href=\"#Objective\" target=\"_self\">&para;</a></h3>\n",
    "<strong>Archive large files to S3 to free up EC2 disk space.</strong></div>\n",
    "</center><center>\n",
    "<h2 id=\"EC2-Disk-Cleanup\">EC2 Disk Cleanup<a class=\"jp-InternalAnchorLink\" href=\"#EC2-Disk-Cleanup\" target=\"_self\">&para;</a></h2>\n",
    "</center>\n",
    "<h1 id=\"Steps-Overview\">Steps Overview<a class=\"jp-InternalAnchorLink\" href=\"#Steps-Overview\" target=\"_self\">&para;</a></h1>\n",
    "<ol>\n",
    "<li>Find the IP address of the instance</li>\n",
    "<li>Find large files in the specified path</li>\n",
    "<li>Map remote file names to S3 object names</li>\n",
    "<li>Back up files to S3</li>\n",
    "<li>Delete files from the instance</li>\n",
    "<li>Send a message to Slack</li>\n",
    "</ol>"
   ]
  },
  {
   "cell_type": "markdown",
   "id": "683caff0",
   "metadata": {
    "jupyter": {
     "source_hidden": false
    },
    "name": "Step-1",
    "orderProperties": [],
    "tags": [],
    "title": "Step-1"
   },
   "source": [
    "<h3 id=\"Get-AWS-Instance-Details\">Get AWS Instance Details: Find SSH IP</h3>\n",
    "<p>Here we will use unSkript&nbsp;<strong>Get AWS Instance Details</strong> action. This action is used to find out all the details of the EC2 instance.</p>\n",
    "<blockquote>\n",
    "<p><strong>Input parameters:</strong> <code>instance_id, region</code></p>\n",
    "</blockquote>\n",
    "<blockquote>\n",
    "<p><strong>Output variable:</strong> <code>InstanceDetails</code></p>\n",
    "</blockquote>"
   ]
  },
  {
   "cell_type": "code",
   "execution_count": 3,
   "id": "637d4299-e731-47f1-8bef-f0ea061ea1c3",
   "metadata": {
    "accessType": "ACCESS_TYPE_UNSPECIFIED",
    "actionBashCommand": false,
    "actionNeedsCredential": true,
    "actionSupportsIteration": true,
    "actionSupportsPoll": true,
    "action_uuid": "aa1e026ca8002b906315feba401e5c46889d459270adce3b65d480dc9530311f",
    "createTime": "1970-01-01T00:00:00Z",
    "credentialsJson": {},
    "currentVersion": "0.1.0",
    "description": "Use This Action to Get Details about an AWS EC2 Instance",
    "execution_data": {
     "last_date_success_run_cell": "2023-02-17T18:53:16.952Z"
    },
    "id": 103,
    "index": 103,
    "inputData": [
     {
      "instance_id": {
       "constant": false,
       "value": "instance_id"
      },
      "region": {
       "constant": false,
       "value": "region"
      }
     }
    ],
    "inputschema": [
     {
      "properties": {
       "instance_id": {
        "description": "ID of the instance.",
        "title": "Instance Id",
        "type": "string"
       },
       "region": {
        "description": "AWS Region of the instance.",
        "title": "Region",
        "type": "string"
       }
      },
      "required": [
       "instance_id",
       "region"
      ],
      "title": "aws_get_instance_details",
      "type": "object"
     }
    ],
    "jupyter": {
     "source_hidden": true
    },
    "legotype": "LEGO_TYPE_AWS",
    "name": "Get AWS Instance Details: Find SSH IP",
    "nouns": [
     "instance",
     "details"
    ],
    "orderProperties": [
     "instance_id",
     "region"
    ],
    "output": {
     "type": ""
    },
    "outputParams": {
     "output_name": "InstanceDetails",
     "output_name_enabled": true
    },
    "printOutput": true,
    "tags": [
     "aws_get_instance_details"
    ],
    "title": "Get AWS Instance Details: Find SSH IP",
    "verbs": [
     "get"
    ]
   },
   "outputs": {},
   "source": [
    "##\n",
    "# Copyright (c) 2021 unSkript, Inc\n",
    "# All rights reserved.\n",
    "##\n",
    "from pydantic import BaseModel, Field\n",
    "\n",
    "\n",
    "from beartype import beartype\n",
    "@beartype\n",
    "def aws_get_instance_details(\n",
    "    handle,\n",
    "    instance_id: str,\n",
    "    region: str,\n",
    "):\n",
    "\n",
    "    ec2client = handle.client('ec2', region_name=region)\n",
    "    instances = []\n",
    "    response = ec2client.describe_instances(\n",
    "        Filters=[{\"Name\": \"instance-id\", \"Values\": [instance_id]}])\n",
    "    for reservation in response[\"Reservations\"]:\n",
    "        for instance in reservation[\"Instances\"]:\n",
    "            instances.append(instance)\n",
    "\n",
    "    return instances[0]\n",
    "\n",
    "\n",
    "task = Task(Workflow())\n",
    "task.configure(printOutput=True)\n",
    "task.configure(inputParamsJson='''{\n",
    "    \"instance_id\": \"instance_id\",\n",
    "    \"region\": \"region\"\n",
    "    }''')\n",
    "task.configure(outputName=\"InstanceDetails\")\n",
    "\n",
    "(err, hdl, args) = task.validate(vars=vars())\n",
    "if err is None:\n",
    "    task.output = task.execute(aws_get_instance_details, hdl=hdl, args=args)\n",
    "    if task.output_name != None:\n",
    "        globals().update({task.output_name: task.output[0]})\n",
    "\n",
    "if hasattr(task, 'output'):\n",
    "    if isinstance(task.output, (list, tuple)):\n",
    "        for item in task.output:\n",
    "            print(f'item: {item}')\n",
    "    elif isinstance(task.output, dict):\n",
    "        for item in task.output.items():\n",
    "            print(f'item: {item}')\n",
    "    else:\n",
    "        print(f'Output for {task.name}')\n",
    "        print(task.output)\n",
    "    w.tasks[task.name]= task.output\n",
    "    ssh_ip = InstanceDetails[\"PrivateIpAddress\"]"
   ]
  },
  {
   "cell_type": "markdown",
   "id": "8a4c02ff",
   "metadata": {
    "jupyter": {
     "source_hidden": false
    },
    "name": "Step-2",
    "orderProperties": [],
    "tags": [],
    "title": "Step-2"
   },
   "source": [
    "<h3 id=\"SSH:-Execute-Remote-Command\">SSH: Execute Remote Command: Locate large files with du</h3>\n",
    "<p>Here we will use unSkript&nbsp;<strong>SSH: Locate large files on host</strong> action. This action is used to scan the file system on a given host and returns a dict of large files. The command used to perform the scan is \"find inspect_folder -type f -exec du -sk '{}' + | sort -rh | head -n count.</p>\n",
    "<blockquote>\n",
    "<p><strong>Input parameters:</strong> <code>host, inspect_folder,&nbsp;threshold, sudo,&nbsp;count</code></p>\n",
    "</blockquote>\n",
    "<blockquote>\n",
    "<p><strong>Output variable:</strong> <code>FileLocation</code></p>\n",
    "</blockquote>\n",
    "<p>&nbsp;</p>"
   ]
  },
  {
   "cell_type": "code",
   "execution_count": 30,
   "id": "ac0a3f1d-6177-4987-a506-af53d4b48cec",
   "metadata": {
    "accessType": "ACCESS_TYPE_UNSPECIFIED",
    "actionBashCommand": false,
    "actionNeedsCredential": true,
    "actionSupportsIteration": true,
    "actionSupportsPoll": true,
    "action_uuid": "f3bb79ce49da7d739d31e66c86308c97e481f41275e2bcdaabfc694fa97f9d02",
    "continueOnError": false,
    "createTime": "1970-01-01T00:00:00Z",
    "credentialsJson": {},
    "currentVersion": "0.1.0",
    "description": "This action scans the file system on a given host and returns a dict of large files. The command used to perform the scan is \"find inspect_folder -type f -exec du -sk '{}' + | sort -rh | head -n count\"",
    "execution_data": {
     "last_date_success_run_cell": "2023-02-17T19:17:01.447Z"
    },
    "id": 60,
    "index": 60,
    "inputData": [
     {
      "count": {
       "constant": false,
       "value": "10"
      },
      "host": {
       "constant": false,
       "value": "ssh_ip"
      },
      "inspect_folder": {
       "constant": false,
       "value": "dirs_to_anaylze"
      },
      "sudo": {
       "constant": true,
       "value": false
      },
      "threshold": {
       "constant": false,
       "value": "int(Threshold)"
      }
     }
    ],
    "inputschema": [
     {
      "properties": {
       "count": {
        "default": 10,
        "description": "Number of files to report from the scan. Default is 10",
        "title": "Count",
        "type": "integer"
       },
       "host": {
        "description": "Host to connect to. Eg 10.10.10.10",
        "title": "Host",
        "type": "string"
       },
       "inspect_folder": {
        "description": "Folder to inspect on the remote host. Folders are scanned using \"find inspect_folder -type f -exec du -sk '{}' + | sort -rh | head -n count\"",
        "title": "Inspect Folder",
        "type": "string"
       },
       "sudo": {
        "default": false,
        "description": "Run the scan with sudo.",
        "title": "Run with sudo",
        "type": "boolean"
       },
       "threshold": {
        "default": 100,
        "description": "Threshold the files on given size. Specified in Mb. Default is 100Mb",
        "title": "Size Threshold",
        "type": "integer"
       }
      },
      "required": [
       "host",
       "inspect_folder"
      ],
      "title": "ssh_find_large_files",
      "type": "object"
     }
    ],
    "jupyter": {
     "source_hidden": true
    },
    "legotype": "LEGO_TYPE_SSH",
    "name": "SSH: Execute Remote Command: Locate large files with du",
    "nouns": [
     "ssh",
     "files"
    ],
    "orderProperties": [
     "host",
     "inspect_folder",
     "threshold",
     "count",
     "sudo"
    ],
    "output": {
     "type": ""
    },
    "outputParams": {
     "output_name": "FileLocation",
     "output_name_enabled": true
    },
    "printOutput": true,
    "tags": [
     "ssh_find_large_files"
    ],
    "title": "SSH: Execute Remote Command: Locate large files with du",
    "verbs": [
     "find",
     "locate"
    ]
   },
   "outputs": {},
   "source": [
    "##\n",
    "# Copyright (c) 2021 unSkript, Inc\n",
    "# All rights reserved.\n",
    "##\n",
    "import json\n",
    "import tempfile\n",
    "import os\n",
    "from pydantic import BaseModel, Field\n",
    "from pssh.clients import ParallelSSHClient\n",
    "from typing import List, Optional\n",
    "from unskript.connectors import ssh\n",
    "\n",
    "from unskript.fwk.cellparams import CellParams\n",
    "from unskript import connectors\n",
    "\n",
    "\n",
    "from beartype import beartype\n",
    "@beartype\n",
    "def ssh_find_large_files(\n",
    "    sshClient,\n",
    "    host: str,\n",
    "    inspect_folder: str,\n",
    "    threshold: int = 0,\n",
    "    sudo: bool = False,\n",
    "    count: int = 10) -> dict:\n",
    "    print(sshClient)\n",
    "\n",
    "    client = sshClient([host], None)\n",
    "\n",
    "    # find size in Kb\n",
    "    command = \"find \" + inspect_folder + \\\n",
    "        \" -type f -exec du -sm '{}' + | sort -rh | head -n \" + str(count)\n",
    "    runCommandOutput = client.run_command(command=command, sudo=sudo)\n",
    "    client.join()\n",
    "    res = {}\n",
    "\n",
    "    for host_output in runCommandOutput:\n",
    "        for line in host_output.stdout:\n",
    "            # line is of the form {size} {fullfilename}\n",
    "            (size, filename) = line.split()\n",
    "            if int(size) > threshold:\n",
    "                res[filename] = int(size)\n",
    "\n",
    "    return res\n",
    "\n",
    "\n",
    "task = Task(Workflow())\n",
    "task.configure(printOutput=True)\n",
    "task.configure(inputParamsJson='''{\n",
    "    \"count\": \"10\",\n",
    "    \"host\": \"ssh_ip\",\n",
    "    \"inspect_folder\": \"dirs_to_anaylze\",\n",
    "    \"sudo\": \"False\",\n",
    "    \"threshold\": \"int(Threshold)\"\n",
    "    }''')\n",
    "task.configure(outputName=\"FileLocation\")\n",
    "\n",
    "(err, hdl, args) = task.validate(vars=vars())\n",
    "if err is None:\n",
    "    task.output = task.execute(ssh_find_large_files, hdl=hdl, args=args)\n",
    "    if task.output_name != None:\n",
    "        globals().update({task.output_name: task.output[0]})\n",
    "\n",
    "if hasattr(task, 'output'):\n",
    "    if isinstance(task.output, (list, tuple)):\n",
    "        for item in task.output:\n",
    "            print(f'item: {item}')\n",
    "    elif isinstance(task.output, dict):\n",
    "        for item in task.output.items():\n",
    "            print(f'item: {item}')\n",
    "    else:\n",
    "        print(f'Output for {task.name}')\n",
    "        print(task.output)\n",
    "    w.tasks[task.name]= task.output"
   ]
  },
  {
   "cell_type": "markdown",
   "id": "c646e375-e064-48d1-b101-ecd74bec93e1",
   "metadata": {
    "jupyter": {
     "source_hidden": false
    },
    "name": "Step-2 Extension",
    "orderProperties": [],
    "tags": [],
    "title": "Step-2 Extension"
   },
   "source": [
    "<h3 id=\"Create-local-filenames-from-remote-filenames\">Custom Step: Create local filenames from remote filenames</h3>\n",
    "<p>This action takes data from step 2 and sorts the output to get the remote files and local files.</p>"
   ]
  },
  {
   "cell_type": "code",
   "execution_count": 8,
   "id": "492dfae5-dfe1-47b9-be70-51ff64029166",
   "metadata": {
    "actionNeedsCredential": true,
    "actionSupportsIteration": true,
    "actionSupportsPoll": true,
    "credentialsJson": {},
    "jupyter": {
     "source_hidden": true
    },
    "name": "Custom Step: Create local filenames from remote filenames",
    "orderProperties": [],
    "tags": [],
    "title": "Custom Step: Create local filenames from remote filenames"
   },
   "outputs": {},
   "source": [
    "remote_files = [x for x in FileLocation.keys()]\n",
    "if len(remote_files) == 0:\n",
    "    print(\"No files to process, exiting\")\n",
    "    if hasattr(Workflow(), \"Done\"):\n",
    "        Workflow().Done()\n",
    "\n",
    "local_files = [ \"/tmp/\" + x.lstrip(\"/\").replace(\"/\", \"_\") for x in remote_files ]\n",
    "mapping = []\n",
    "for i in range(len(remote_files)):\n",
    "    mapping.append( {'remote': remote_files[i], 'local': local_files[i]} )\n",
    "print(json.dumps(mapping, indent=2))\n"
   ]
  },
  {
   "cell_type": "markdown",
   "id": "3349f56f",
   "metadata": {
    "jupyter": {
     "source_hidden": false
    },
    "name": "Step-3",
    "orderProperties": [],
    "tags": [],
    "title": "Step-3"
   },
   "source": [
    "<h3 id=\"SCP:-Remote-file-transfer-over-SSH\">SCP: Remote file transfer over SSH</h3>\n",
    "<p>Here we will use unSkript&nbsp;<strong>SCP: Remote file transfer over SSH</strong> action. This action is used to Copy files from or to the remote host. Files are copied over SCP.</p>\n",
    "<blockquote>\n",
    "<p><strong>Input parameters:</strong> <code>host, remote_file, local_file, direction</code></p>\n",
    "</blockquote>\n",
    "<blockquote>\n",
    "<p><strong>Output variable:</strong> <code>transfer_files</code></p>\n",
    "</blockquote>"
   ]
  },
  {
   "cell_type": "code",
   "execution_count": null,
   "id": "2a5a1b76-4385-49c1-b558-95216c34ccc4",
   "metadata": {
    "accessType": "ACCESS_TYPE_UNSPECIFIED",
    "actionBashCommand": false,
    "actionNeedsCredential": true,
    "actionSupportsIteration": true,
    "actionSupportsPoll": true,
    "action_uuid": "a3b8cad557699dfa01f15274d81941252f965f7a2a409ac89b844db74f44e4c5",
    "createTime": "1970-01-01T00:00:00Z",
    "credentialsJson": {},
    "currentVersion": "0.1.0",
    "description": "Copy files from or to remote host. Files are copied over SCP. ",
    "id": 59,
    "index": 59,
    "inputData": [
     {
      "direction": {
       "constant": true,
       "value": true
      },
      "host": {
       "constant": false,
       "value": "ssh_ip"
      },
      "local_file": {
       "constant": false,
       "value": "iter.get(\"local\")"
      },
      "remote_file": {
       "constant": false,
       "value": "iter.get(\"remote\")"
      }
     }
    ],
    "inputschema": [
     {
      "properties": {
       "direction": {
        "default": true,
        "description": "Direction of the copy operation. Default is receive-from-remote-server",
        "title": "Receive",
        "type": "boolean"
       },
       "host": {
        "description": "Hosts to connect to. For eg. \"10.10.10.10\"",
        "title": "Host",
        "type": "string"
       },
       "local_file": {
        "description": "Filename on the unSkript proxy. Eg /tmp/my_local_file",
        "title": "Local File",
        "type": "string"
       },
       "remote_file": {
        "description": "Filename on the remote server. Eg /home/ec2-user/my_remote_file",
        "title": "Remote File",
        "type": "string"
       }
      },
      "required": [
       "host",
       "remote_file",
       "local_file"
      ],
      "title": "ssh_scp",
      "type": "object"
     }
    ],
    "jupyter": {
     "source_hidden": true
    },
    "legotype": "LEGO_TYPE_SSH",
    "name": "SCP: Remote file transfer over SSH",
    "nouns": [
     "ssh",
     "file"
    ],
    "orderProperties": [
     "host",
     "remote_file",
     "local_file",
     "direction"
    ],
    "output": {
     "type": ""
    },
    "outputParams": {
     "output_name": "transfer_files",
     "output_name_enabled": true
    },
    "printOutput": true,
    "tags": [
     "ssh_scp"
    ],
    "title": "SCP: Remote file transfer over SSH",
    "verbs": [
     "copy",
     "transfer",
     "scp"
    ]
   },
   "outputs": {},
   "source": [
    "##\n",
    "# Copyright (c) 2021 unSkript, Inc\n",
    "# All rights reserved.\n",
    "##\n",
    "\n",
    "from pydantic import BaseModel, Field\n",
    "from gevent import joinall\n",
    "\n",
    "\n",
    "from beartype import beartype\n",
    "@beartype\n",
    "def ssh_scp(\n",
    "        sshClient,\n",
    "        host: str,\n",
    "        remote_file: str,\n",
    "        local_file: str,\n",
    "        direction: bool = True) -> bool:\n",
    "\n",
    "    client = sshClient([host], None)\n",
    "    copy_args = [{'local_file': local_file, 'remote_file': remote_file}]\n",
    "\n",
    "    if direction is True:\n",
    "        cmds = client.copy_remote_file(remote_file=remote_file, local_file=local_file,\n",
    "                                       recurse=False,\n",
    "                                       suffix_separator=\"\", copy_args=copy_args,\n",
    "                                       encoding='utf-8')\n",
    "\n",
    "    else:\n",
    "        cmds = client.copy_file(local_file=local_file, remote_file=remote_file,\n",
    "                                recurse=False, copy_args=None)\n",
    "\n",
    "    try:\n",
    "        joinall(cmds, raise_error=True)\n",
    "        if direction is True:\n",
    "            print(f\"Successfully copied file {host}://{remote_file} to {local_file}\")\n",
    "        else:\n",
    "            print(f\"Successfully copied file {local_file} to {host}://{remote_file}\")\n",
    "\n",
    "    except Exception as e:\n",
    "        print(f\"Error encountered while copying files {e}\")\n",
    "        return False\n",
    "\n",
    "    return True\n",
    "\n",
    "\n",
    "task = Task(Workflow())\n",
    "task.configure(printOutput=True)\n",
    "task.configure(inputParamsJson='''{\n",
    "    \"direction\": \"True\",\n",
    "    \"host\": \"ssh_ip\",\n",
    "    \"local_file\": \"iter.get(\\\\\"local\\\\\")\",\n",
    "    \"remote_file\": \"iter.get(\\\\\"remote\\\\\")\"\n",
    "    }''')\n",
    "task.configure(outputName=\"transfer_files\")\n",
    "\n",
    "(err, hdl, args) = task.validate(vars=vars())\n",
    "if err is None:\n",
    "    task.output = task.execute(ssh_scp, hdl=hdl, args=args)\n",
    "    if task.output_name != None:\n",
    "        globals().update({task.output_name: task.output[0]})\n",
    "\n",
    "if hasattr(task, 'output'):\n",
    "    if isinstance(task.output, (list, tuple)):\n",
    "        for item in task.output:\n",
    "            print(f'item: {item}')\n",
    "    elif isinstance(task.output, dict):\n",
    "        for item in task.output.items():\n",
    "            print(f'item: {item}')\n",
    "    else:\n",
    "        print(f'Output for {task.name}')\n",
    "        print(task.output)\n",
    "    w.tasks[task.name]= task.output"
   ]
  },
  {
   "cell_type": "markdown",
   "id": "029a4c00",
   "metadata": {
    "jupyter": {
     "source_hidden": false
    },
    "name": "Step-4",
    "orderProperties": [],
    "tags": [],
    "title": "Step-4"
   },
   "source": [
    "<h3 id=\"Upload-file-to-S3\">Upload file to S3</h3>\n",
    "<p>Here we will use the unSkript <strong>Upload file to S3</strong> action. This action is used to Upload a local file to an S3 bucket.</p>\n",
    "<blockquote>\n",
    "<p><strong>Input parameters:</strong> <code>bucketName, file, prefix</code></p>\n",
    "</blockquote>\n",
    "<blockquote>\n",
    "<p><strong>Output variable:</strong> <code>upload_output</code></p>\n",
    "</blockquote>"
   ]
  },
  {
   "cell_type": "code",
   "execution_count": null,
   "id": "443c623b-e0df-4868-a013-af4d028f3f2c",
   "metadata": {
    "accessType": "ACCESS_TYPE_UNSPECIFIED",
    "actionBashCommand": false,
    "actionNeedsCredential": true,
    "actionSupportsIteration": true,
    "actionSupportsPoll": true,
    "action_uuid": "c7ddfac1e75c2ec65ec4f1bc6d38c4cecc2ad08b19169da94466b49f04ced368",
    "createTime": "1970-01-01T00:00:00Z",
    "credentialsJson": {},
    "currentVersion": "0.1.0",
    "description": "Upload a local file to S3",
    "id": 126,
    "index": 126,
    "inputData": [
     {
      "bucketName": {
       "constant": false,
       "value": "Bucket"
      },
      "file": {
       "constant": false,
       "value": "iter.get(\"local\")"
      },
      "prefix": {
       "constant": false,
       "value": "prefix or f\"{instance_id}/{str(datetime.date.today())}/\""
      }
     }
    ],
    "inputschema": [
     {
      "properties": {
       "bucketName": {
        "description": "Name of the bucket to upload into.",
        "title": "Bucket",
        "type": "string"
       },
       "file": {
        "description": "Name of the local file to upload into bucket. Eg /tmp/file-to-upload",
        "title": "File",
        "type": "string"
       },
       "prefix": {
        "default": "",
        "description": "Prefix to attach to get the final object name to be used in the bucket.",
        "title": "Prefix",
        "type": "string"
       }
      },
      "required": [
       "bucketName",
       "file"
      ],
      "title": "aws_upload_file_to_s3",
      "type": "object"
     }
    ],
    "iterData": [
     {
      "iter_enabled": true,
      "iter_item": "",
      "iter_list": {
       "constant": false,
       "objectItems": false,
       "value": "mapping"
      }
     }
    ],
    "jupyter": {
     "source_hidden": true
    },
    "legotype": "LEGO_TYPE_AWS",
    "name": "Upload file to S3",
    "nouns": [
     "aws",
     "bucket",
     "file"
    ],
    "orderProperties": [
     "bucketName",
     "file",
     "prefix"
    ],
    "output": {
     "type": ""
    },
    "outputParams": {
     "output_name": "upload_output",
     "output_name_enabled": true
    },
    "printOutput": true,
    "tags": [
     "aws_upload_file_to_s3"
    ],
    "title": "Upload file to S3",
    "verbs": [
     "put",
     "upload"
    ]
   },
   "outputs": {},
   "source": [
    "##\n",
    "# Copyright (c) 2021 unSkript, Inc\n",
    "# All rights reserved.\n",
    "##\n",
    "\n",
    "\n",
    "from pydantic import BaseModel, Field\n",
    "\n",
    "\n",
    "from beartype import beartype\n",
    "@beartype\n",
    "def aws_upload_file_to_s3(handle, bucketName: str, file: str, prefix: str = \"\"):\n",
    "\n",
    "    s3 = handle.client('s3')\n",
    "    objName = prefix + file.split(\"/\")[-1]\n",
    "    try:\n",
    "        with open(file, \"rb\") as f:\n",
    "            s3.upload_fileobj(f, bucketName, objName)\n",
    "    except Exception as e:\n",
    "        print(f\"Error: {e}\")\n",
    "        raise e\n",
    "\n",
    "    print(f\"Successfully copied {file} to bucket:{bucketName} object:{objName}\")\n",
    "    return None\n",
    "\n",
    "\n",
    "task = Task(Workflow())\n",
    "task.configure(printOutput=True)\n",
    "task.configure(inputParamsJson='''{\n",
    "    \"bucketName\": \"Bucket\",\n",
    "    \"file\": \"iter.get(\\\\\"local\\\\\")\",\n",
    "    \"prefix\": \"prefix or f\\\\\"{instance_id}/{str(datetime.date.today())}/\\\\\"\"\n",
    "    }''')\n",
    "\n",
    "task.configure(iterJson='''{\n",
    "    \"iter_enabled\": true,\n",
    "    \"iter_list_is_const\": false,\n",
    "    \"iter_list\": \"mapping\",\n",
    "    \"iter_parameter\": \"\"\n",
    "    }''')\n",
    "task.configure(outputName=\"upload_output\")\n",
    "\n",
    "(err, hdl, args) = task.validate(vars=vars())\n",
    "if err is None:\n",
    "    task.output = task.execute(aws_upload_file_to_s3, hdl=hdl, args=args)\n",
    "    if task.output_name != None:\n",
    "        globals().update({task.output_name: task.output[0]})\n",
    "\n",
    "if hasattr(task, 'output'):\n",
    "    if isinstance(task.output, (list, tuple)):\n",
    "        for item in task.output:\n",
    "            print(f'item: {item}')\n",
    "    elif isinstance(task.output, dict):\n",
    "        for item in task.output.items():\n",
    "            print(f'item: {item}')\n",
    "    else:\n",
    "        print(f'Output for {task.name}')\n",
    "        print(task.output)\n",
    "    w.tasks[task.name]= task.output"
   ]
  },
  {
   "cell_type": "markdown",
   "id": "f8431944",
   "metadata": {
    "jupyter": {
     "source_hidden": false
    },
    "name": "Step-5",
    "orderProperties": [],
    "tags": [],
    "title": "Step-5"
   },
   "source": [
    "<h3 id=\"SSH-Execute-Remote-Command\">SSH Execute Remote Command: Remove Files</h3>\n",
    "<p>Here we will use unSkript&nbsp;<strong>SSH Execute Remote Command</strong> action. This action is used to SSH Execute Remote Commands to remove files.</p>\n",
    "<blockquote>\n",
    "<p><strong>Input parameters:</strong> <code>hosts, command, sudo</code></p>\n",
    "</blockquote>\n",
    "<blockquote>\n",
    "<p><strong>Output variable:</strong> <code>remove_output</code></p>\n",
    "</blockquote>\n",
    "<p>&nbsp;</p>"
   ]
  },
  {
   "cell_type": "code",
   "execution_count": null,
   "id": "eed84b79-c7db-4950-a5e2-5ec66eb72cea",
   "metadata": {
    "accessType": "ACCESS_TYPE_UNSPECIFIED",
    "actionBashCommand": false,
    "actionNeedsCredential": true,
    "actionSupportsIteration": true,
    "actionSupportsPoll": true,
    "action_uuid": "5279b2046bb2eb4a691ba748086f4af9e580a849faae557694bb12a8c2b7b379",
    "createTime": "1970-01-01T00:00:00Z",
    "credentialsJson": {},
    "currentVersion": "0.1.0",
    "description": "SSH Execute Remote Command",
    "id": 58,
    "index": 58,
    "inputData": [
     {
      "command": {
       "constant": false,
       "value": "\"rm -v \" + \" \".join(remote_files)"
      },
      "hosts": {
       "constant": false,
       "value": "[ ssh_ip ]"
      },
      "sudo": {
       "constant": true,
       "value": false
      }
     }
    ],
    "inputschema": [
     {
      "properties": {
       "command": {
        "description": "Command to be executed on the remote server.",
        "title": "Command",
        "type": "string"
       },
       "hosts": {
        "description": "List of hosts to connect to. For eg. [\"host1\", \"host2\"].",
        "items": {
         "type": "string"
        },
        "title": "Hosts",
        "type": "array"
       },
       "sudo": {
        "default": false,
        "description": "Run the command with sudo.",
        "title": "Run with sudo",
        "type": "boolean"
       }
      },
      "required": [
       "hosts",
       "command"
      ],
      "title": "ssh_execute_remote_command",
      "type": "object"
     }
    ],
    "jupyter": {
     "source_hidden": true
    },
    "legotype": "LEGO_TYPE_SSH",
    "name": "SSH Execute Remote Command: Remove Files",
    "nouns": [
     "ssh",
     "command"
    ],
    "orderProperties": [
     "hosts",
     "command",
     "sudo"
    ],
    "output": {
     "type": ""
    },
    "outputParams": {
     "output_name": "remove_output",
     "output_name_enabled": true
    },
    "printOutput": true,
    "tags": [
     "ssh_execute_remote_command"
    ],
    "title": "SSH Execute Remote Command: Remove Files",
    "verbs": [
     "execute"
    ]
   },
   "outputs": {},
   "source": [
    "##\n",
    "# Copyright (c) 2021 unSkript, Inc\n",
    "# All rights reserved.\n",
    "##\n",
    "import json\n",
    "import tempfile\n",
    "import os\n",
    "from pydantic import BaseModel, Field\n",
    "from pssh.clients import ParallelSSHClient\n",
    "from typing import List, Optional\n",
    "from unskript.connectors import ssh\n",
    "\n",
    "from unskript.legos.cellparams import CellParams\n",
    "from unskript import connectors\n",
    "\n",
    "\n",
    "from beartype import beartype\n",
    "@beartype\n",
    "def ssh_execute_remote_command(sshClient, hosts: List[str], command: str, sudo: bool = False):\n",
    "\n",
    "    client = sshClient(hosts, None)\n",
    "    runCommandOutput = client.run_command(command=command, sudo=sudo)\n",
    "    client.join()\n",
    "    res = {}\n",
    "\n",
    "    for host_output in runCommandOutput:\n",
    "        hostname = host_output.host\n",
    "        output = []\n",
    "        for line in host_output.stdout:\n",
    "            output.append(line)\n",
    "        res[hostname] = output\n",
    "\n",
    "        o = \"\\n\".join(output)\n",
    "        print(f\"Output from host {hostname}\\n{o}\\n\")\n",
    "\n",
    "    return res\n",
    "\n",
    "\n",
    "task = Task(Workflow())\n",
    "task.configure(printOutput=True)\n",
    "task.configure(inputParamsJson='''{\n",
    "    \"command\": \"\\\\\"rm -v \\\\\" + \\\\\" \\\\\".join(remote_files)\",\n",
    "    \"hosts\": \"[ ssh_ip ]\",\n",
    "    \"sudo\": \"False\"\n",
    "    }''')\n",
    "task.configure(outputName=\"remove_output\")\n",
    "\n",
    "(err, hdl, args) = task.validate(vars=vars())\n",
    "if err is None:\n",
    "    task.output = task.execute(ssh_execute_remote_command, hdl=hdl, args=args)\n",
    "    if task.output_name != None:\n",
    "        globals().update({task.output_name: task.output[0]})\n",
    "\n",
    "if hasattr(task, 'output'):\n",
    "    if isinstance(task.output, (list, tuple)):\n",
    "        for item in task.output:\n",
    "            print(f'item: {item}')\n",
    "    elif isinstance(task.output, dict):\n",
    "        for item in task.output.items():\n",
    "            print(f'item: {item}')\n",
    "    else:\n",
    "        print(f'Output for {task.name}')\n",
    "        print(task.output)\n",
    "    w.tasks[task.name]= task.output"
   ]
  },
  {
   "cell_type": "markdown",
   "id": "ea669eec-12ae-4097-aaf6-22280d7d2f8b",
   "metadata": {
    "jupyter": {
     "source_hidden": false
    },
    "name": "Step-5 Extension",
    "orderProperties": [],
    "tags": [],
    "title": "Step-5 Extension"
   },
   "source": [
    "<h3 id=\"Clean-up-local-files\">Clean up local files</h3>\n",
    "<p>This action is an extension of Step 5 where we will clean up the files locally.</p>"
   ]
  },
  {
   "cell_type": "code",
   "execution_count": 8,
   "id": "cfdd871c-1713-49fd-973e-ca852993354b",
   "metadata": {
    "actionNeedsCredential": true,
    "actionSupportsIteration": true,
    "actionSupportsPoll": true,
    "credentialsJson": {},
    "jupyter": {
     "source_hidden": true
    },
    "name": "Clean up local files",
    "orderProperties": [],
    "tags": [],
    "title": "Clean up local files"
   },
   "outputs": {},
   "source": [
    "from subprocess import PIPE, run\n",
    "\n",
    "o = run(f\"rm -fv {' '.join(local_files)}\", stdout=PIPE, stderr=PIPE, universal_newlines=True, shell=True)\n",
    "print(o.stdout)"
   ]
  },
  {
   "cell_type": "markdown",
   "id": "785e11cd",
   "metadata": {
    "jupyter": {
     "source_hidden": false
    },
    "name": "Step-6",
    "orderProperties": [],
    "tags": [],
    "title": "Step-6"
   },
   "source": [
    "<h3 id=\"Post-Slack-Message\">Post Slack Message</h3>\n",
    "<p>Here we will use unSkript&nbsp;<strong>Post Slack Message</strong> action. This action is used to post the message to the slack channel.</p>\n",
    "<blockquote>\n",
    "<p><strong>Input parameters:</strong> <code>channel, message</code></p>\n",
    "</blockquote>\n",
    "<blockquote>\n",
    "<p><strong>Output variable:</strong>&nbsp;<code>slack_status</code></p>\n",
    "</blockquote>\n",
    "<p>&nbsp;</p>"
   ]
  },
  {
   "cell_type": "code",
   "execution_count": null,
   "id": "b3f91610-73fc-4f57-93db-203fe91aa4cb",
   "metadata": {
    "accessType": "ACCESS_TYPE_UNSPECIFIED",
    "actionBashCommand": false,
    "actionNeedsCredential": true,
    "actionSupportsIteration": true,
    "actionSupportsPoll": true,
    "action_uuid": "6a87f83ab0ecfeecb9c98d084e2b1066c26fa64be5b4928d5573a5d60299802d",
    "continueOnError": false,
    "createTime": "1970-01-01T00:00:00Z",
    "credentialsJson": {},
    "currentVersion": "0.1.0",
    "description": "Post Slack Message",
    "id": 44,
    "index": 44,
    "inputData": [
     {
      "channel": {
       "constant": false,
       "value": "channel"
      },
      "message": {
       "constant": false,
       "value": "f\"Deleted {len(remote_files)} files from host {ssh_ip}\""
      }
     }
    ],
    "inputschema": [
     {
      "properties": {
       "channel": {
        "description": "Name of the slack channel where the message to be posted",
        "title": "Channel",
        "type": "string"
       },
       "message": {
        "description": "Message to be sent",
        "title": "Message",
        "type": "string"
       }
      },
      "required": [
       "channel",
       "message"
      ],
      "title": "slack_post_message",
      "type": "object"
     }
    ],
    "jupyter": {
     "source_hidden": true
    },
    "legotype": "LEGO_TYPE_SLACK",
    "name": "Post Slack Message",
    "nouns": [
     "slack",
     "message"
    ],
    "orderProperties": [
     "channel",
     "message"
    ],
    "output": {
     "type": ""
    },
    "outputParams": {
     "output_name": "slack_status",
     "output_name_enabled": true
    },
    "printOutput": true,
    "tags": [
     "slack_post_message"
    ],
    "title": "Post Slack Message",
    "verbs": [
     "post"
    ]
   },
   "outputs": {},
   "source": [
    "##\n",
    "# Copyright (c) 2021 unSkript, Inc\n",
    "# All rights reserved.\n",
    "##\n",
    "\n",
    "import pprint\n",
    "\n",
    "from pydantic import BaseModel, Field\n",
    "from slack_sdk import WebClient\n",
    "from slack_sdk.errors import SlackApiError\n",
    "\n",
    "pp = pprint.PrettyPrinter(indent=2)\n",
    "\n",
    "\n",
    "from beartype import beartype\n",
    "def legoPrinter(func):\n",
    "    def Printer(*args, **kwargs):\n",
    "        output = func(*args, **kwargs)\n",
    "        if output:\n",
    "            channel = kwargs[\"channel\"]\n",
    "            pp.pprint(print(f\"Message sent to Slack channel {channel}\"))\n",
    "        return output\n",
    "    return Printer\n",
    "\n",
    "\n",
    "@legoPrinter\n",
    "@beartype\n",
    "def slack_post_message(\n",
    "        handle: WebClient,\n",
    "        channel: str,\n",
    "        message: str) -> bool:\n",
    "\n",
    "    try:\n",
    "        response = handle.chat_postMessage(\n",
    "            channel=channel,\n",
    "            text=message)\n",
    "        return True\n",
    "    except SlackApiError as e:\n",
    "        print(\"\\n\\n\")\n",
    "        pp.pprint(\n",
    "            f\"Failed sending message to slack channel {channel}, Error: {e.response['error']}\")\n",
    "        return False\n",
    "    except Exception as e:\n",
    "        print(\"\\n\\n\")\n",
    "        pp.pprint(\n",
    "            f\"Failed sending message to slack channel {channel}, Error: {e.__str__()}\")\n",
    "        return False\n",
    "\n",
    "\n",
    "task = Task(Workflow())\n",
    "task.configure(printOutput=True)\n",
    "task.configure(inputParamsJson='''{\n",
    "    \"channel\": \"channel\",\n",
    "    \"message\": \"f\\\\\"Deleted {len(remote_files)} files from host {ssh_ip}\\\\\"\"\n",
    "    }''')\n",
    "task.configure(outputName=\"slack_status\")\n",
    "\n",
    "(err, hdl, args) = task.validate(vars=vars())\n",
    "if err is None:\n",
    "    task.output = task.execute(slack_post_message, hdl=hdl, args=args)\n",
    "    if task.output_name != None:\n",
    "        globals().update({task.output_name: task.output[0]})"
   ]
  },
  {
   "cell_type": "markdown",
   "id": "1006351c",
   "metadata": {
    "jupyter": {
     "source_hidden": false
    },
    "name": "Conclusion",
    "orderProperties": [],
    "tags": [],
    "title": "Conclusion"
   },
   "source": [
    "<h3 id=\"Conclusion\">Conclusion</h3>\n",
    "<p>In this Runbook, we demonstrated the use of unSkript's AWS and SSH lego to perform AWS and SSH actions and this runbook locates large files in a given path inside an EC2 instance and backs them up into a given S3 bucket. Afterwards, it deletes the files backed up and sends a message on slack. To view the full platform capabilities of unSkript please visit&nbsp;<a href=\"https://us.app.unskript.io\" target=\"_blank\" rel=\"noopener\">https://us.app.unskript.io</a></p>"
   ]
  }
 ],
 "metadata": {
  "execution_data": {
   "environment_id": "",
   "environment_name": "",
   "environment_type": "ENVIRONMENT_TYPE_AWS_EC2",
   "execution_id": "",
   "inputs_for_searched_lego": "",
   "notebook_id": "438dcc2a-373d-45a1-bbdd-094dd6c74f64.ipynb",
   "parameters": [
    "instance_id",
    "prefix",
    "region",
    "Bucket",
    "Threshold",
    "dirs_to_anaylze"
   ],
   "proxy_id": "1499f27c-6406-4fbd-bd1b-c6f92800018f",
   "runbook_name": "AWS EC2 Disk Cleanup copy",
   "search_string": "",
   "show_tool_tip": false,
   "tenant_id": "",
   "tenant_url": "",
   "user_email_id": "",
   "workflow_id": "07ffd24c-a587-4917-a3af-71b78cf95d04"
  },
  "kernelspec": {
   "display_name": "unSkript (Build: 1105)",
   "language": "python",
   "name": "python3"
  },
  "language_info": {
   "codemirror_mode": {
    "name": "ipython",
    "version": 3
   },
   "file_extension": ".py",
   "mimetype": "text/x-python",
   "name": "python",
   "nbconvert_exporter": "python",
   "pygments_lexer": "ipython3",
   "version": "3.9.6"
  },
  "parameterSchema": {
   "properties": {
    "Bucket": {
     "description": "S3 Bucket for archiving",
     "title": "Bucket",
     "type": "string"
    },
    "Threshold": {
     "default": 100,
     "description": "Threshold on file size (in Mb)",
     "title": "Threshold",
     "type": "number"
    },
    "channel": {
     "description": "Slack channel to send messages.",
     "title": "channel",
     "type": "string"
    },
    "dirs_to_anaylze": {
     "default": "/home",
     "description": "Root for directories to be analyzed for large files",
     "title": "dirs_to_anaylze",
     "type": "string"
    },
    "instance_id": {
     "description": "EC2 Instance",
     "title": "instance_id",
     "type": "string"
    },
    "prefix": {
     "default": "test/",
     "description": "Prefix to use while uploading to S3 (default: <instance>/<date>)",
     "title": "prefix",
     "type": "string"
    },
    "region": {
     "description": "AWS Region",
     "title": "region",
     "type": "string"
    }
   },
   "required": [],
   "title": "Schema",
   "type": "object"
  }
 },
 "nbformat": 4,
 "nbformat_minor": 5
}