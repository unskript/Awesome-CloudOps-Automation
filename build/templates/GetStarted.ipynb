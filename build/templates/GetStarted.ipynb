{
 "cells": [
  {
   "attachments": {},
   "cell_type": "markdown",
   "metadata": {
    "jupyter": {
     "source_hidden": false
    },
    "name": "Welcome",
    "orderProperties": [],
    "tags": [],
    "title": "Welcome"
   },
   "source": [
    "\n",
    "<br />\n",
    "<p align=\"center\">\n",
    "  <a href=\"https://github.com/unskript/Awesome-CloudOps-Automation\">\n",
    "    <img src=\"https://storage.googleapis.com/unskript-website/assets/favicon.png\" alt=\"Logo\" width=\"80\" height=\"80\">\n",
    "  </a>\n",
    "<p align=\"center\">\n",
    "  <h3 align=\"center\">Awesome CloudOps Automation</h3>\n",
    "  <p align=\"center\">\n",
    "    CloudOps automation made simpler!\n",
    "    <br />\n",
    "    <a href=\"http://docs.unskript.com/\"><strong>Explore the docs »</strong></a>\n",
    "    <br />\n",
    "    <br />\n",
    "    <a href=\"https://unskript.com/blog/\">Visit our blog</a>\n",
    "    ·\n",
    "    <a href=\"https://github.com/unskript/Awesome-CloudOps-Automation/issues/new?assignees=&labels=&template=bug_report.md&title=\">Report Bug</a>\n",
    "    ·\n",
    "    <a href=\"https://github.com/unskript/Awesome-CloudOps-Automation/issues/new?assignees=&labels=&template=feature_request.md&title=\">Request Feature</a>\n",
    "  </p>\n",
    "</p>\n",
    "\n",
    "\n",
    "\n",
    "# Welcome\n",
    "## Getting Started\n",
    "\n",
    "Use this Runbook as a starting point to build your own custom runbook. Follow the Links below for Documentation.\n",
    "\n",
    "## Documentation\n",
    "\n",
    "Documentation can be found [Here](https://unskript.gitbook.io/unskript-product-documentation/open-source/cloudops-automation-with-unskript).\n",
    "\n",
    "## Community\n",
    "[Join the CloudOps Community Workspace](https://join.slack.com/t/cloud-ops-community/shared_invite/zt-1fvuobp10-~r_KyK9BxPhGiebOvl3h_w) on Slack to connect with other users, contributors and awesome people behind awesome CloudOps automation project. \n",
    "\n",
    "## Roadmap\n",
    "\n",
    "See the [open issues](https://github.com/unskript/awesome-cloudops-automation/issues) for a list of proposed features (and known issues).\n",
    "\n",
    "## Contributing\n",
    "\n",
    "Contributions are what make the open community such an amazing place to be learn, inspire, and create. Any contributions you make are **greatly appreciated**. Check out our [Contribution Guidelines](https://github.com/unskript/Awesome-CloudOps-Automation/blob/master/.github/CONTRIBUTING.md) for more details. \n",
    "\n",
    "Here is the Link for the [Developer Guide](https://github.com/unskript/Awesome-CloudOps-Automation/blob/master/.github/DEVELOPERGUIDE.md)\n",
    "\n",
    "## Star us\n",
    "\n",
    "If you like this project, Please consider giving us a **star** at [Awesome CloudOps Automation](https://github.com/unskript/Awesome-CloudOps-Automation)\n",
    "\n",
    "## License\n",
    "Except as otherwise noted this project is licensed under the `Apache License, Version 2.0` .\n",
    "\n",
    "Licensed under the Apache License, Version 2.0 (the \"License\"); you may not use this file except in compliance with the License. You may obtain a copy of the License at http://www.apache.org/licenses/LICENSE-2.0 .\n",
    "\n",
    "Unless required by applicable law or agreed to in writing, project distributed under the License is distributed on an \"AS IS\" BASIS, WITHOUT WARRANTIES OR CONDITIONS OF ANY KIND, either express or implied. See the License for the specific language governing permissions and limitations under the License.\n",
    "\n",
    "\n",
    "[contributors-shield]: https://img.shields.io/github/contributors/unskript/awesome-cloudops-automation.svg?style=for-the-badge\n",
    "[contributors-url]: https://github.com/unskript/awesome-cloudops-automation/graphs/contributors\n",
    "[github-actions-shield]: https://img.shields.io/github/workflow/status/unskript/awesome-cloudops-automation/e2e%20test?color=orange&label=e2e-test&logo=github&logoColor=orange&style=for-the-badge\n",
    "[github-actions-url]: https://github.com/unskript/awesome-cloudops-automation/actions/workflows/docker-tests.yml\n",
    "[forks-shield]: https://img.shields.io/github/forks/unskript/awesome-cloudops-automation.svg?style=for-the-badge\n",
    "[forks-url]: https://github.com/unskript/awesome-cloudops-automation/network/members\n",
    "[stars-shield]: https://img.shields.io/github/stars/unskript/awesome-cloudops-automation.svg?style=for-the-badge\n",
    "[stars-url]: https://github.com/unskript/awesome-cloudops-automation/stargazers\n",
    "[issues-shield]: https://img.shields.io/github/issues/unskript/awesome-cloudops-automation.svg?style=for-the-badge\n",
    "[issues-url]: https://github.com/unskript/awesome-cloudops-automation/issues\n",
    "[twitter-shield]: https://img.shields.io/badge/-Twitter-black.svg?style=for-the-badge&logo=twitter&colorB=555\n",
    "[twitter-url]: https://twitter.com/unskript\n",
    "[awesome-shield]: https://img.shields.io/badge/awesome-cloudops-orange?style=for-the-badge&logo=bookstack \n"
   ]
  }
 ],
 "metadata": {
  "kernelspec": {
   "display_name": "Python 3.8.2 64-bit",
   "language": "python",
   "name": "python3"
  },
  "language_info": {
   "name": "python",
   "version": "3.8.2"
  },
  "orig_nbformat": 4,
  "vscode": {
   "interpreter": {
    "hash": "31f2aee4e71d21fbe5cf8b01ff0e069b9275f58929596ceb00d14d90e3e16cd6"
   }
  }
 },
 "nbformat": 4,
 "nbformat_minor": 2
}
