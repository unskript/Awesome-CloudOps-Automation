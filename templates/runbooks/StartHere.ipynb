{
    "cells": [
        {
            "cell_type": "markdown",
            "id": "6e397c81",
            "metadata": {
                "name": "Start Here",
                "title": "Start Here"
            },
            "source": [
                "Search the lego on the search bar on the right, drag and drop the lego to the cell."
            ]
        }
    ],
    "metadata": {
        "execution_data": {
            "environment_id": "1499f27c-6406-4fbd-bd1b-c6f92800018f",
            "environment_name": "Staging",
            "execution_id": "",
            "inputs_for_searched_lego": "",
            "notebook_id": "d4159cb3-6c83-4ba5-a2f7-d23c0777076b.ipynb",
            "parameters": null,
            "runbook_name": "gcp",
            "search_string": "",
            "show_tool_tip": true,
            "tenant_id": "982dba5f-d9df-48ae-a5bf-ec1fc94d4882",
            "tenant_url": "https://tenant-staging.alpha.unskript.io",
            "user_email_id": "support+staging@unskript.com",
            "workflow_id": "f8ead207-81c0-414a-a15b-76fcdefafe8d"
        },
        "kernelspec": {
            "display_name": "unSkript (Build: 618)",
            "name": "python_kubernetes"
        },
        "language_info": {
            "file_extension": ".py",
            "mimetype": "text/x-python",
            "name": "python",
            "pygments_lexer": "ipython3"
        },
        "parameterSchema": {
            "properties": {},
            "required": [],
            "title": "Schema",
            "type": "object"
        },
        "parameterValues": null
    },
    "nbformat": 4,
    "nbformat_minor": 5
}
