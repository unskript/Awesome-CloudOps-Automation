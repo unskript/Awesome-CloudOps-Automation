{
    "cells": [
        {
            "cell_type": "markdown",
            "id": "6e397c81",
            "metadata": {
                "name": "Welcome",
                "title": "Welcome"
            },
            "source": [
                "Use the below lego to start building your functionality."
            ]
        },
        {
            "cell_type": "code",
            "execution_count": null,
            "id": "7214df50-b385-4093-8147-72fc30ebd671",
            "metadata": {
                "accessType": "ACCESS_TYPE_UNSPECIFIED",
                "actionBashCommand": false,
                "actionNeedsCredential": true,
                "actionRequiredLinesInCode": [],
                "actionSupportsIteration": false,
                "actionSupportsPoll": false,
                "action_uuid": "aa0e997987a52d5a181f7d2352066443e675cd2c6893ffd8ae18c46dc2dcf8f1",
                "createTime": "1970-01-01T00:00:00Z",
                "currentVersion": "0.1.0",
                "description": "Get GCP Handle",
                "id": 92,
                "index": 92,
                "inputschema": [
                    {
                        "properties": {},
                        "title": "gcp_get_handle",
                        "type": "object"
                    }
                ],
                "jupyter": {
                    "source_hidden": true
                },
                "legotype": "LEGO_TYPE_GCP",
                "name": "Get GCP Handle",
                "nouns": [
                    "gcp",
                    "handle"
                ],
                "orderProperties": [],
                "output": {
                    "type": ""
                },
                "tags": [
                    "gcp_get_handle"
                ],
                "verbs": [
                    "get"
                ]
            },
            "outputs": [],
            "source": [
                "##\n",
                "##  Copyright (c) 2021 unSkript, Inc\n",
                "##  All rights reserved.\n",
                "##\n",
                "from pydantic import BaseModel\n",
                "\n",
                "\n",
                "from beartype import beartype\n",
                "@beartype\n",
                "def gcp_get_handle(handle):\n",
                "    \"\"\"gcp_get_handle returns the GCP handle.\n",
                "\n",
                "       :rtype: GCP Handle.\n",
                "    \"\"\"\n",
                "    return handle\n",
                "\n",
                "\n",
                "def unskript_default_printer(output):\n",
                "    if isinstance(output, (list, tuple)):\n",
                "        for item in output:\n",
                "            print(f'item: {item}')\n",
                "    elif isinstance(output, dict):\n",
                "        for item in output.items():\n",
                "            print(f'item: {item}')\n",
                "    else:\n",
                "        print(f'Output for {task.name}')\n",
                "        print(output)\n",
                "\n",
                "task = Task(Workflow())\n",
                "(err, hdl, args) = task.validate(vars=vars())\n",
                "if err is None:\n",
                "    task.execute(gcp_get_handle, lego_printer=unskript_default_printer, hdl=hdl, args=args)"
            ]
        }
    ],
    "metadata": {
        "execution_data": {
            "environment_id": "1499f27c-6406-4fbd-bd1b-c6f92800018f",
            "environment_name": "Staging",
            "execution_id": "",
            "inputs_for_searched_lego": "",
            "notebook_id": "d4159cb3-6c83-4ba5-a2f7-d23c0777076b.ipynb",
            "parameters": null,
            "runbook_name": "gcp",
            "search_string": "",
            "show_tool_tip": false,
            "tenant_id": "982dba5f-d9df-48ae-a5bf-ec1fc94d4882",
            "tenant_url": "https://tenant-staging.alpha.unskript.io",
            "user_email_id": "support+staging@unskript.com",
            "workflow_id": "f8ead207-81c0-414a-a15b-76fcdefafe8d"
        },
        "kernelspec": {
            "display_name": "unSkript (Build: 618)",
            "name": "python_kubernetes"
        },
        "language_info": {
            "file_extension": ".py",
            "mimetype": "text/x-python",
            "name": "python",
            "pygments_lexer": "ipython3"
        },
        "parameterSchema": {
            "properties": {},
            "required": [],
            "title": "Schema",
            "type": "object"
        },
        "parameterValues": null
    },
    "nbformat": 4,
    "nbformat_minor": 5
}
