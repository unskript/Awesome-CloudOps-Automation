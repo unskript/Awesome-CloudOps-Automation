{
    "cells": [
        {
            "cell_type": "markdown",
            "id": "22228f1b-2f43-4841-88d8-b336a3a21846",
            "metadata": {
                "jupyter": {
                    "source_hidden": false
                },
                "name": "Mongo Server Status",
                "orderProperties": [],
                "tags": [],
                "title": "Mongo Server Status"
            },
            "source": [
                "<img src=\"https://unskript.com/assets/favicon.png\" alt=\"unSkript.com\" width=\"100\" height=\"100\"/> \n",
                "<h1> unSkript Runbooks </h1>\n",
                "<div class=\"alert alert-block alert-success\">\n",
                "    <b> This runbook demonstrates the usage of MongoDB Server status Action.\n",
                "    Using this action, we can query the MongoDB server and find out the server status.\n",
                "    The sample print function uses matplotlib of python to plot a simple bar chart for\n",
                "    each of the parameters. \n",
                "    <br><br>\n",
                "    This runbook then goes on to query Long Running queries from the Server.\n",
                "    Initaites the killop command to kill the Operation IDs that are found to\n",
                "    be Long Running.</b>\n",
                "</div>\n",
                "\n",
                "<br>\n",
                "<center><h2>MongoDB Server Status</h2></center>\n",
                "\n",
                "# Steps Overview \n",
                "1 <a href=\"#1\"> Connect to Server and get vital statistics </a>\n",
                "<br>\n",
                "2 <a href=\"#2\"> Find out all Long running (slow) queries </a>\n",
                "<br>\n",
                "3 <a href=\"#3\"> Kill them using the killop command of mongodb </a>"
            ]
        },
        {
            "cell_type": "markdown",
            "id": "4016d098",
            "metadata": {},
            "source": [
                "<p id=\"1\"> </p> \n",
                "\n",
                "### Connect to Server and get vital statistics\n",
                "In this Cell, we will use unSkript `mongodb_get_server_status` Lego to get the vital statistics\n",
                "from the MongoDB Server. Later we use python's matplotlib to plot the statistics like `asserts`,\n",
                "`connections`, `mem` and `opcounters`. This Lego also prints out the Uptime, Host, Version etc\n",
                "as well. \n"
            ]
        },
        {
            "cell_type": "code",
            "execution_count": 32,
            "id": "667950ab-ed8a-44b5-968d-e12a9648c156",
            "metadata": {
                "accessType": "ACCESS_TYPE_UNSPECIFIED",
                "actionBashCommand": false,
                "actionNeedsCredential": true,
                "actionSupportsIteration": true,
                "actionSupportsPoll": true,
                "action_uuid": "0d036e627f6115c15afa94319d8e8235f55d3216d4d6ecaa75a06977fda50bc0",
                "createTime": "1970-01-01T00:00:00Z",
                "credentialsJson": {},
                "currentVersion": "0.1.0",
                "description": "Get Mongo Server Status",
                "execution_data": {
                    "last_date_success_run_cell": "2022-07-13T23:14:01.225Z"
                },
                "id": 166,
                "index": 166,
                "inputschema": [
                    {
                        "properties": {},
                        "title": "mongodb_get_server_status",
                        "type": "object"
                    }
                ],
                "jupyter": {
                    "source_hidden": true
                },
                "legotype": "LEGO_TYPE_MONGODB",
                "name": "Get Mongo Server Status",
                "nouns": [
                    "mongo",
                    "server",
                    "status"
                ],
                "orderProperties": [],
                "output": {
                    "type": ""
                },
                "tags": [
                    "mongodb_get_server_status"
                ],
                "trusted": true,
                "verbs": [
                    "get"
                ]
            },
            "outputs": [],
            "source": [
                "##\n",
                "##  Copyright (c) 2021 unSkript, Inc\n",
                "##  All rights reserved.\n",
                "##\n",
                "import pprint\n",
                "import matplotlib.pyplot as plt\n",
                "\n",
                "from pydantic import BaseModel\n",
                "from mongodb.legos.mongodb_util import reachable\n",
                "\n",
                "\n",
                "from beartype import beartype\n",
                "\n",
                "def plotData(output, keywords):\n",
                "    plt.figure(figsize=(24,20), dpi=80)\n",
                "    row = 0\n",
                "    col = 0\n",
                "    for idx, keyword in enumerate(keywords):\n",
                "        data = output.get(keyword)\n",
                "        names = list(data.keys())\n",
                "        values = list(data.values())\n",
                "        plot = plt.subplot2grid((3,4), (row, col), colspan=1, rowspan=1)\n",
                "        plot.bar(range(len(data)), values, tick_label=names)\n",
                "        plot.set_title(keyword)\n",
                "        col += 1\n",
                "        if idx % 2:\n",
                "            row += 1\n",
                "            col = 0\n",
                "\n",
                "    plt.show()\n",
                "\n",
                "\n",
                "def mongodb_get_server_status_printer(output):\n",
                "    print(\"Uptime (seconds): \", output.get('uptime'))\n",
                "    print(\"UptimeEstimate (seconds): \", output.get('uptimeEstimate'))\n",
                "    print(\"Version: \", output.get('version'))\n",
                "    print(\"PID : \", output.get('pid'))\n",
                "    print(\"Process : \", output.get('process'))\n",
                "    print(\"Host : \", output.get('host'))\n",
                "    print(\"Local Time: \", output.get('localTime'))\n",
                "\n",
                "    plotData(output, ['asserts', 'connections', 'mem', 'opcounters'])\n",
                "\n",
                "@beartype\n",
                "def mongodb_get_server_status(handle):\n",
                "    \"\"\"mongodb_get_server_status returns the mongo server status.\n",
                "\n",
                "        :type nbParamsObj: object\n",
                "        :param nbParamsObj: Object containing global params for the notebook.\n",
                "\n",
                "        :type credentialsDict: dict\n",
                "        :param credentialsDict: Dictionary of credentials info.\n",
                "\n",
                "        :rtype: Dict with server status.\n",
                "    \"\"\"\n",
                "    # Check the MongoDB \n",
                "    try: \n",
                "        reachable(handle)\n",
                "    except Exception as e:\n",
                "        raise e\n",
                "\n",
                "    res = handle.admin.command(\"serverStatus\")\n",
                "    return res\n",
                "\n",
                "\n",
                "task = Task(Workflow())\n",
                "task.configure(printOutput=True)\n",
                "(err, hdl, args) = task.validate(vars=vars())\n",
                "if err is None:\n",
                "    task.execute(mongodb_get_server_status, lego_printer=mongodb_get_server_status_printer, hdl=hdl, args=args)"
            ]
        },
        {
            "cell_type": "markdown",
            "id": "9997a6d0",
            "metadata": {},
            "source": [
                "<p id=\"2\"> </p>\n",
                "\n",
                "### Find out all long running (slow) Queries\n",
                "\n",
                "Here we will use unSkript `mongodb_list_long_running_queries` Lego. This lego takes  `query_secs_running_threshold`\n",
                "as input in seconds. This threshold is used to findout all queries that are running More than or equal to `query_secs_running_threshold`\n",
                "seconds.  \n",
                "\n",
                "The Queries that are found running for `query_secs_running_threshold` or more seconds will be considered\n",
                "as long running (slow) queries and this Lego. This lego returns a Dict containing the details of\n",
                "such long running queries. The output `dict` is stored in `fullOutput` variable to be used later in the cells."
            ]
        },
        {
            "cell_type": "code",
            "execution_count": 31,
            "id": "eb95c935-66b2-4e43-aa1b-eebafc095ca2",
            "metadata": {
                "accessType": "ACCESS_TYPE_UNSPECIFIED",
                "actionBashCommand": false,
                "actionNeedsCredential": true,
                "actionSupportsIteration": true,
                "actionSupportsPoll": true,
                "action_uuid": "7e9e9dea2eb4159c878d3afa5afccdc5f4d448e2ae5b98e231338d148a17768d",
                "createTime": "1970-01-01T00:00:00Z",
                "credentialsJson": {},
                "currentVersion": "0.1.0",
                "description": "MongoDB list queries",
                "execution_data": {
                    "last_date_success_run_cell": "2022-07-13T23:12:42.842Z"
                },
                "id": 182,
                "index": 182,
                "inputschema": [
                    {
                        "properties": {},
                        "title": "mongodb_list_queries",
                        "type": "object"
                    }
                ],
                "jupyter": {
                    "source_hidden": true
                },
                "legotype": "LEGO_TYPE_MONGODB",
                "name": "MongoDB List Long Running Queries",
                "nouns": [
                    "mongodb",
                    "queries"
                ],
                "orderProperties": [],
                "output": {
                    "type": ""
                },
                "outputParams": {
                    "output_name": "fullOutput",
                    "output_name_enabled": true
                },
                "tags": [
                    "mongodb_list_queries"
                ],
                "title": "MongoDB List Long Running Queries",
                "trusted": true,
                "verbs": [
                    "list"
                ]
            },
            "outputs": [],
            "source": [
                "##\n",
                "##  Copyright (c) 2021 unSkript, Inc\n",
                "##  All rights reserved.\n",
                "##\n",
                "import pprint\n",
                "from pydantic import BaseModel\n",
                "from typing import Dict\n",
                "from tabulate import tabulate\n",
                "from mongodb.legos.mongodb_util import reachable\n",
                "\n",
                "from beartype import beartype\n",
                "\n",
                "def mongodb_list_long_running_queries_printer(output):\n",
                "    if output is None:\n",
                "        return\n",
                "    if len(output.get('inprog')) == 0:\n",
                "        print(\"No Long Queries detected\") \n",
                "        return\n",
                "    results = [['appName', 'active', 'op', 'ns', 'secs_running', 'desc']]\n",
                "    try:\n",
                "        for idx,query in enumerate(output.get('inprog')):\n",
                "                result = []\n",
                "                if 'appName' in query.keys():\n",
                "                    result.append(query.get('appName'))\n",
                "                else:\n",
                "                    result.append('None')\n",
                "                result.append(query.get('active'))\n",
                "                result.append(query.get('op'))\n",
                "                result.append(query.get('ns'))\n",
                "                result.append(query.get('secs_running'))\n",
                "                result.append(query.get('desc'))\n",
                "                results.append(result)\n",
                "    except Exception as e:\n",
                "        print(f\"Exception occured {e}\")\n",
                "\n",
                "    print(tabulate(results, headers=\"firstrow\"))\n",
                "\n",
                "\n",
                "@beartype\n",
                "def mongodb_list_long_running_queries(handle, query_secs_running_threshold=5) -> Dict:\n",
                "    \"\"\"mongodb_list_long_running_queries  returns information on all the long running queries.\n",
                "\n",
                "        :type handle: object\n",
                "        :param handle: Object returned from task.validate(...).\n",
                "\n",
                "        :type query_secs_running_threshold: int\n",
                "        :param query_secs_running_threshold: Integer representing query threshold in seconds.\n",
                "\n",
                "        :rtype: Result of the query in the Dictionary form.\n",
                "    \"\"\"\n",
                "    # Check the MongoDB \n",
                "    try: \n",
                "        reachable(handle)\n",
                "    except Exception as e:\n",
                "        raise e\n",
                "    \n",
                "    try:\n",
                "        resp = handle.admin.command(\"currentOp\", {\"secs_running\": {\"$gt\": query_secs_running_threshold}})\n",
                "        return resp\n",
                "    except Exception as e:\n",
                "        return e\n",
                "\n",
                "\n",
                "task = Task(Workflow())\n",
                "task.configure(outputName=\"fullOutput\")\n",
                "\n",
                "(err, hdl, args) = task.validate(vars=vars())\n",
                "if err is None:\n",
                "    task.execute(mongodb_list_queries, lego_printer=mongodb_list_queries_printer, hdl=hdl, args=args)"
            ]
        },
        {
            "cell_type": "markdown",
            "id": "bb959454",
            "metadata": {},
            "source": [
                "<p id=\"3\"> </p>\n",
                "\n",
                "### Kill them using the killop command of mongodb\n",
                "\n",
                "In this Lego, we will use unSkript `mongodb_kill_queries` Lego to kill all those long running\n",
                "queries. We use unSkript platform's `iterator` feature to iterate over the list of all Operation IDs\n",
                "from the previous cell and execute the Kill operation on those IDs. \n",
                "\n",
                "This Runbook demonstrates how easy it is to build complex flows such as killing long running\n",
                "queries using these simple unSkript `Legos`. "
            ]
        },
        {
            "cell_type": "code",
            "execution_count": 39,
            "id": "8b140ecc-e17a-4b5a-9167-f5e8d1d7beef",
            "metadata": {
                "accessType": "ACCESS_TYPE_UNSPECIFIED",
                "actionBashCommand": false,
                "actionNeedsCredential": true,
                "actionRequiredLinesInCode": [],
                "actionSupportsIteration": true,
                "actionSupportsPoll": true,
                "action_uuid": "c4da6266a1cc8949684159caf8582e2190e79f8c84f5e966626e02b61e70515b",
                "continueOnError": false,
                "createTime": "1970-01-01T00:00:00Z",
                "credentialsJson": {},
                "currentVersion": "0.1.0",
                "description": "MongoDB kill queries",
                "execution_data": {
                    "last_date_success_run_cell": "2022-07-13T23:32:11.497Z"
                },
                "id": 202,
                "index": 202,
                "inputData": [
                    {
                        "op_id": {
                            "constant": false,
                            "value": "iter_item"
                        }
                    }
                ],
                "inputschema": [
                    {
                        "properties": {
                            "op_id": {
                                "description": "Kill the operation based on opid",
                                "title": "An operation ID",
                                "type": "integer"
                            }
                        },
                        "required": [
                            "op_id"
                        ],
                        "title": "mongodb_kill_queries",
                        "type": "object"
                    }
                ],
                "iterData": [
                    {
                        "iter_enabled": true,
                        "iter_item": "op_id",
                        "iter_list": {
                            "constant": false,
                            "objectItems": false,
                            "value": "[k.get('opid') for k in fullOutput.get('inprog')]"
                        }
                    }
                ],
                "legotype": "LEGO_TYPE_MONGODB",
                "name": "MongoDB kill Long running Queries",
                "nouns": [
                    "mongodb",
                    "queries"
                ],
                "orderProperties": [
                    "op_id"
                ],
                "output": {
                    "type": ""
                },
                "outputParams": {
                    "output_name": "killedOutput",
                    "output_name_enabled": true
                },
                "tags": [
                    "mongodb_kill_queries"
                ],
                "title": "MongoDB kill Long running Queries",
                "trusted": true,
                "verbs": [
                    "kill"
                ]
            },
            "outputs": [],
            "source": [
                "##\n",
                "##  Copyright (c) 2021 unSkript, Inc\n",
                "##  All rights reserved.\n",
                "##\n",
                "import pprint\n",
                "from pydantic import BaseModel, Field\n",
                "from typing import Dict\n",
                "\n",
                "\n",
                "from beartype import beartype\n",
                "\n",
                "def mongodb_kill_queries_printer(output):\n",
                "    if output is None:\n",
                "        return\n",
                "    print(\"\\n\\n\")\n",
                "    pprint.pprint(output)\n",
                "\n",
                "\n",
                "def check_id_exists(handle, op_id) -> bool:\n",
                "    retval = False\n",
                "    ids = handle.admin.command(({\"currentOp\": True}))\n",
                "    current_ids = [o['opid'] for o in ids['inprog']]\n",
                "    if op_id in current_ids:\n",
                "        retval = True\n",
                "    return retval\n",
                "\n",
                "@beartype\n",
                "def mongodb_kill_queries(handle, op_id: int) -> Dict:\n",
                "    \"\"\"mongodb_kill_queries can kill queries (read operations) that are running on more than one shard in a cluster.\n",
                "\n",
                "        :type handle: object\n",
                "        :param handle: Object returned by task.validate(...).\n",
                "\n",
                "        :type op_id: int\n",
                "        :param op_id: Operation ID as integer that needs to be killed\n",
                "\n",
                "        :rtype: Result of the killOp operation for the given op_id in a Dict form.\n",
                "    \"\"\"\n",
                "    # Check the MongoDB \n",
                "    try:\n",
                "        reachable(handle)\n",
                "    except Exception as e:\n",
                "        raise e\n",
                "    try:\n",
                "        resp = handle.admin.command(\"killOp\", op=op_id)\n",
                "        if resp.get('ok') == 1:\n",
                "            # Let us make sure when the KillOp was issued, it \n",
                "            # really did kill the query identified by the id.\n",
                "            # Poll for 10 seconds, if it does not return False\n",
                "            # raise Exception. else return success message\n",
                "            try:\n",
                "                polling2.poll(lambda: check_id_exists(handle, op_id),\n",
                "                              check_success=polling2.is_value(False),\n",
                "                              step=1,\n",
                "                              timeout=10)\n",
                "                return {'info': f'Successfully Killed OpID {op_id}', 'ok': 1}\n",
                "            except Exception as e:\n",
                "                raise e\n",
                "        else:\n",
                "            raise Exception(\"Unable to Get Response from server for killOp command\")\n",
                "    except Exception as e:\n",
                "        raise e\n",
                "\n",
                "\n",
                "task = Task(Workflow())\n",
                "task.configure(inputParamsJson='''{\n",
                "    \"op_id\": \"iter_item\"\n",
                "    }''')\n",
                "task.configure(iterJson='''{\n",
                "    \"iter_enabled\": true,\n",
                "    \"iter_list_is_const\": false,\n",
                "    \"iter_list\": \"[k.get('opid') for k in fullOutput.get('inprog')]\",\n",
                "    \"iter_parameter\": \"op_id\"\n",
                "    }''')\n",
                "task.configure(outputName=\"killedOutput\")\n",
                "(err, hdl, args) = task.validate(vars=vars())\n",
                "if err is None:\n",
                "    task.execute(mongodb_kill_queries, lego_printer=mongodb_kill_queries_printer, hdl=hdl, args=args)"
            ]
        },
        {
            "cell_type": "markdown",
            "id": "bd82706f",
            "metadata": {},
            "source": [
                "#### Confirming the kill Operation"
            ]
        },
        {
            "cell_type": "code",
            "execution_count": 41,
            "id": "cbcc4e92-54ab-4214-8db5-33674978335a",
            "metadata": {
                "execution_data": {
                    "last_date_success_run_cell": "2022-07-13T23:32:55.950Z"
                },
                "name": "Result",
                "orderProperties": [],
                "tags": [],
                "title": "Result",
                "trusted": true
            },
            "outputs": [],
            "source": [
                "pprint.pprint(killedOutput)"
            ]
        },
        {
            "cell_type": "markdown",
            "id": "b39a9bfd",
            "metadata": {},
            "source": [
                "### Conclusion\n",
                "\n",
                "In this Runbook, we demonstrated the use of `unSkript's` `iterator` feature coupled with the built-in\n",
                "MongoDB legos. To view the full platform capabilities of `unSkript` please visit `https://unskript.com` "
            ]
        }
    ],
    "metadata": {
        "execution_data": {
            "environment_id": "1b032d60-0671-498f-a117-6c2f355648fe",
            "environment_name": "SingleAMIInstance",
            "execution_id": "42df731e-b921-4bdb-b76b-091799ef0775",
            "inputs_for_searched_lego": "",
            "notebook_id": "workflow.ipynb",
            "parameters": null,
            "runbook_name": "MongoDB Server Connectivity",
            "search_string": "",
            "show_tool_tip": false,
            "tenant_id": "117718cf-b601-4a00-9164-3e4311468e45",
            "tenant_url": "https://tenant-jayasimha.dev.unskript.io",
            "user_email_id": "jayasimha@unskript.com",
            "workflow_id": "4a9f6900-4e03-4550-8f34-41461479b5d3"
        },
        "kernelspec": {
            "display_name": "Python 3.9.12 ('base')",
            "language": "python",
            "name": "python3"
        },
        "language_info": {
            "file_extension": ".py",
            "mimetype": "text/x-python",
            "name": "python",
            "pygments_lexer": "ipython3",
            "version": "3.9.12"
        },
        "parameterSchema": {
            "properties": {},
            "required": [],
            "title": "Schema",
            "type": "object"
        },
        "parameterValues": {},
        "vscode": {
            "interpreter": {
                "hash": "5e269198fab4eb2ea6fe7c886c38b87b334869f0501ab924e1d16d60aeba5d23"
            }
        }
    },
    "nbformat": 4,
    "nbformat_minor": 5
}
