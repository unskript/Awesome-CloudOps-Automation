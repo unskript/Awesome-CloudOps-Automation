{
 "cells": [
  {
   "cell_type": "markdown",
   "id": "latter-teddy",
   "metadata": {},
   "source": [
    "\n",
    "# Generate Readme with up to date list of xRunBooks"
   ]
  },
  {
   "cell_type": "markdown",
   "id": "421e4c6e-d5ef-4d53-9d36-f352426c4d87",
   "metadata": {
    "execution": {
     "iopub.execute_input": "2021-10-06T11:02:41.091855Z",
     "iopub.status.busy": "2021-10-06T11:02:41.091514Z",
     "iopub.status.idle": "2021-10-06T11:02:41.099143Z",
     "shell.execute_reply": "2021-10-06T11:02:41.098565Z",
     "shell.execute_reply.started": "2021-10-06T11:02:41.091773Z"
    },
    "tags": []
   },
   "source": [
    "## Input"
   ]
  },
  {
   "cell_type": "markdown",
   "id": "e84f7e80-dda2-4569-96dd-5abaaed2c73a",
   "metadata": {},
   "source": [
    "### Import libraries"
   ]
  },
  {
   "cell_type": "code",
   "execution_count": 88,
   "id": "sitting-directory",
   "metadata": {
    "execution": {
<<<<<<< HEAD
     "iopub.execute_input": "2023-04-10T13:47:52.577166Z",
     "iopub.status.busy": "2023-04-10T13:47:52.576581Z",
     "iopub.status.idle": "2023-04-10T13:47:54.772307Z",
     "shell.execute_reply": "2023-04-10T13:47:54.771543Z"
=======
     "iopub.execute_input": "2023-04-12T15:33:29.686488Z",
     "iopub.status.busy": "2023-04-12T15:33:29.685880Z",
     "iopub.status.idle": "2023-04-12T15:33:32.027972Z",
     "shell.execute_reply": "2023-04-12T15:33:32.027114Z"
>>>>>>> 0ff6a38811dd735f472163eb1e63effdb7aa4ba2
    },
    "tags": []
   },
   "outputs": [],
   "source": [
    "import os\n",
    "import json\n",
    "import requests\n",
    "import urllib.parse\n",
    "import copy\n",
    "from pathlib import Path\n",
    "import markdown\n",
    "import nbformat\n",
    "from nbconvert import MarkdownExporter\n",
    "from papermill.iorw import (\n",
    "    load_notebook_node,\n",
    "    write_ipynb,\n",
    ")\n",
    "try:\n",
    "    from git import Repo\n",
    "except:\n",
    "    !pip install GitPython\n",
    "    from git import Repo"
   ]
  },
  {
   "cell_type": "markdown",
   "id": "agricultural-contest",
   "metadata": {},
   "source": [
    "### Variables"
   ]
  },
  {
   "cell_type": "code",
   "execution_count": 89,
   "id": "guided-edgar",
   "metadata": {
    "execution": {
<<<<<<< HEAD
     "iopub.execute_input": "2023-04-10T13:47:54.775941Z",
     "iopub.status.busy": "2023-04-10T13:47:54.775323Z",
     "iopub.status.idle": "2023-04-10T13:47:54.780435Z",
     "shell.execute_reply": "2023-04-10T13:47:54.779848Z"
=======
     "iopub.execute_input": "2023-04-12T15:33:32.032357Z",
     "iopub.status.busy": "2023-04-12T15:33:32.031675Z",
     "iopub.status.idle": "2023-04-12T15:33:32.037968Z",
     "shell.execute_reply": "2023-04-12T15:33:32.037183Z"
>>>>>>> 0ff6a38811dd735f472163eb1e63effdb7aa4ba2
    },
    "tags": []
   },
   "outputs": [],
   "source": [
    "# README variables\n",
    "readme_template = \"README_template.md\"\n",
    "readme = \"README.md\"\n",
    "replace_var = \"[[DYNAMIC_LIST]]\"\n",
    "badge_var = \"[[BADGE]]\"\n",
    "\n",
    "# welcome variables\n",
    "#this is a TODO\n",
    "#welcome_template = \"Welcome_template.ipynb\"\n",
    "#welcome = \"Welcome.ipynb\"\n",
    "#replace_var_quote = f'\"[[DYNAMIC_LIST]]\",\\n'\n",
    "\n",
    "\n",
    "# Others\n",
    "current_file = '.'\n",
    "notebook_ext = '.ipynb'\n",
    "github_url_base = 'https://github.com/unskript/Awesome-CloudOps-Automation/tree/master'\n",
    "local_OSS_url = 'http://127.0.0.1:8888/lab/tree'\n",
    "#fix these!\n",
    "github_download_url = 'https://raw.githubusercontent.com/unskript/Awesome-CloudOps-Automation/master/'\n",
    "unSkript_logo ='https://unskript.com/assets/favicon.png'\n"
   ]
  },
  {
   "cell_type": "markdown",
   "id": "distinguished-declaration",
   "metadata": {},
   "source": [
    "### Get files list"
   ]
  },
  {
   "cell_type": "code",
   "execution_count": 90,
   "id": "36c9011e-5f51-4779-8062-a627503100e1",
   "metadata": {
    "execution": {
<<<<<<< HEAD
     "iopub.execute_input": "2023-04-10T13:47:54.783372Z",
     "iopub.status.busy": "2023-04-10T13:47:54.782976Z",
     "iopub.status.idle": "2023-04-10T13:47:55.120420Z",
     "shell.execute_reply": "2023-04-10T13:47:55.119613Z"
=======
     "iopub.execute_input": "2023-04-12T15:33:32.041515Z",
     "iopub.status.busy": "2023-04-12T15:33:32.041172Z",
     "iopub.status.idle": "2023-04-12T15:33:32.335944Z",
     "shell.execute_reply": "2023-04-12T15:33:32.335161Z"
>>>>>>> 0ff6a38811dd735f472163eb1e63effdb7aa4ba2
    },
    "tags": []
   },
   "outputs": [
    {
     "name": "stdout",
     "output_type": "stream",
     "text": [
      "categories5\n"
     ]
    },
    {
     "ename": "FileNotFoundError",
     "evalue": "[Errno 2] No such file or directory: 'AWS/legos/aws_list_unused_secrets/aws_list_unused_secrets.json'",
     "output_type": "error",
     "traceback": [
      "\u001b[0;31m---------------------------------------------------------------------------\u001b[0m",
      "\u001b[0;31mFileNotFoundError\u001b[0m                         Traceback (most recent call last)",
      "Cell \u001b[0;32mIn [90], line 61\u001b[0m\n\u001b[1;32m     55\u001b[0m \u001b[38;5;66;03m#testing\u001b[39;00m\n\u001b[1;32m     56\u001b[0m \n\u001b[1;32m     57\u001b[0m \n\u001b[1;32m     58\u001b[0m \n\u001b[1;32m     59\u001b[0m \u001b[38;5;66;03m#JSON data\u001b[39;00m\n\u001b[1;32m     60\u001b[0m filename_json \u001b[38;5;241m=\u001b[39m Path(path \u001b[38;5;241m+\u001b[39m\u001b[38;5;124m\"\u001b[39m\u001b[38;5;124m/\u001b[39m\u001b[38;5;124m\"\u001b[39m\u001b[38;5;241m+\u001b[39mfilename_string\u001b[38;5;241m+\u001b[39m \u001b[38;5;124m\"\u001b[39m\u001b[38;5;124m.json\u001b[39m\u001b[38;5;124m\"\u001b[39m)\n\u001b[0;32m---> 61\u001b[0m jsonData \u001b[38;5;241m=\u001b[39m json\u001b[38;5;241m.\u001b[39mloads(\u001b[43mfilename_json\u001b[49m\u001b[38;5;241;43m.\u001b[39;49m\u001b[43mread_text\u001b[49m\u001b[43m(\u001b[49m\u001b[43m)\u001b[49m)\n\u001b[1;32m     64\u001b[0m \u001b[38;5;66;03m##we now have a path.. but only really need the root folder\u001b[39;00m\n\u001b[1;32m     65\u001b[0m \u001b[38;5;66;03m## different ways to generate fior action vs runbook\u001b[39;00m\n\u001b[1;32m     66\u001b[0m \u001b[38;5;28;01mif\u001b[39;00m isAction:\n",
      "File \u001b[0;32m/Library/Developer/CommandLineTools/Library/Frameworks/Python3.framework/Versions/3.9/lib/python3.9/pathlib.py:1256\u001b[0m, in \u001b[0;36mPath.read_text\u001b[0;34m(self, encoding, errors)\u001b[0m\n\u001b[1;32m   1252\u001b[0m \u001b[38;5;28;01mdef\u001b[39;00m \u001b[38;5;21mread_text\u001b[39m(\u001b[38;5;28mself\u001b[39m, encoding\u001b[38;5;241m=\u001b[39m\u001b[38;5;28;01mNone\u001b[39;00m, errors\u001b[38;5;241m=\u001b[39m\u001b[38;5;28;01mNone\u001b[39;00m):\n\u001b[1;32m   1253\u001b[0m     \u001b[38;5;124;03m\"\"\"\u001b[39;00m\n\u001b[1;32m   1254\u001b[0m \u001b[38;5;124;03m    Open the file in text mode, read it, and close the file.\u001b[39;00m\n\u001b[1;32m   1255\u001b[0m \u001b[38;5;124;03m    \"\"\"\u001b[39;00m\n\u001b[0;32m-> 1256\u001b[0m     \u001b[38;5;28;01mwith\u001b[39;00m \u001b[38;5;28;43mself\u001b[39;49m\u001b[38;5;241;43m.\u001b[39;49m\u001b[43mopen\u001b[49m\u001b[43m(\u001b[49m\u001b[43mmode\u001b[49m\u001b[38;5;241;43m=\u001b[39;49m\u001b[38;5;124;43m'\u001b[39;49m\u001b[38;5;124;43mr\u001b[39;49m\u001b[38;5;124;43m'\u001b[39;49m\u001b[43m,\u001b[49m\u001b[43m \u001b[49m\u001b[43mencoding\u001b[49m\u001b[38;5;241;43m=\u001b[39;49m\u001b[43mencoding\u001b[49m\u001b[43m,\u001b[49m\u001b[43m \u001b[49m\u001b[43merrors\u001b[49m\u001b[38;5;241;43m=\u001b[39;49m\u001b[43merrors\u001b[49m\u001b[43m)\u001b[49m \u001b[38;5;28;01mas\u001b[39;00m f:\n\u001b[1;32m   1257\u001b[0m         \u001b[38;5;28;01mreturn\u001b[39;00m f\u001b[38;5;241m.\u001b[39mread()\n",
      "File \u001b[0;32m/Library/Developer/CommandLineTools/Library/Frameworks/Python3.framework/Versions/3.9/lib/python3.9/pathlib.py:1242\u001b[0m, in \u001b[0;36mPath.open\u001b[0;34m(self, mode, buffering, encoding, errors, newline)\u001b[0m\n\u001b[1;32m   1236\u001b[0m \u001b[38;5;28;01mdef\u001b[39;00m \u001b[38;5;21mopen\u001b[39m(\u001b[38;5;28mself\u001b[39m, mode\u001b[38;5;241m=\u001b[39m\u001b[38;5;124m'\u001b[39m\u001b[38;5;124mr\u001b[39m\u001b[38;5;124m'\u001b[39m, buffering\u001b[38;5;241m=\u001b[39m\u001b[38;5;241m-\u001b[39m\u001b[38;5;241m1\u001b[39m, encoding\u001b[38;5;241m=\u001b[39m\u001b[38;5;28;01mNone\u001b[39;00m,\n\u001b[1;32m   1237\u001b[0m          errors\u001b[38;5;241m=\u001b[39m\u001b[38;5;28;01mNone\u001b[39;00m, newline\u001b[38;5;241m=\u001b[39m\u001b[38;5;28;01mNone\u001b[39;00m):\n\u001b[1;32m   1238\u001b[0m     \u001b[38;5;124;03m\"\"\"\u001b[39;00m\n\u001b[1;32m   1239\u001b[0m \u001b[38;5;124;03m    Open the file pointed by this path and return a file object, as\u001b[39;00m\n\u001b[1;32m   1240\u001b[0m \u001b[38;5;124;03m    the built-in open() function does.\u001b[39;00m\n\u001b[1;32m   1241\u001b[0m \u001b[38;5;124;03m    \"\"\"\u001b[39;00m\n\u001b[0;32m-> 1242\u001b[0m     \u001b[38;5;28;01mreturn\u001b[39;00m \u001b[43mio\u001b[49m\u001b[38;5;241;43m.\u001b[39;49m\u001b[43mopen\u001b[49m\u001b[43m(\u001b[49m\u001b[38;5;28;43mself\u001b[39;49m\u001b[43m,\u001b[49m\u001b[43m \u001b[49m\u001b[43mmode\u001b[49m\u001b[43m,\u001b[49m\u001b[43m \u001b[49m\u001b[43mbuffering\u001b[49m\u001b[43m,\u001b[49m\u001b[43m \u001b[49m\u001b[43mencoding\u001b[49m\u001b[43m,\u001b[49m\u001b[43m \u001b[49m\u001b[43merrors\u001b[49m\u001b[43m,\u001b[49m\u001b[43m \u001b[49m\u001b[43mnewline\u001b[49m\u001b[43m,\u001b[49m\n\u001b[1;32m   1243\u001b[0m \u001b[43m                   \u001b[49m\u001b[43mopener\u001b[49m\u001b[38;5;241;43m=\u001b[39;49m\u001b[38;5;28;43mself\u001b[39;49m\u001b[38;5;241;43m.\u001b[39;49m\u001b[43m_opener\u001b[49m\u001b[43m)\u001b[49m\n",
      "File \u001b[0;32m/Library/Developer/CommandLineTools/Library/Frameworks/Python3.framework/Versions/3.9/lib/python3.9/pathlib.py:1110\u001b[0m, in \u001b[0;36mPath._opener\u001b[0;34m(self, name, flags, mode)\u001b[0m\n\u001b[1;32m   1108\u001b[0m \u001b[38;5;28;01mdef\u001b[39;00m \u001b[38;5;21m_opener\u001b[39m(\u001b[38;5;28mself\u001b[39m, name, flags, mode\u001b[38;5;241m=\u001b[39m\u001b[38;5;241m0o666\u001b[39m):\n\u001b[1;32m   1109\u001b[0m     \u001b[38;5;66;03m# A stub for the opener argument to built-in open()\u001b[39;00m\n\u001b[0;32m-> 1110\u001b[0m     \u001b[38;5;28;01mreturn\u001b[39;00m \u001b[38;5;28;43mself\u001b[39;49m\u001b[38;5;241;43m.\u001b[39;49m\u001b[43m_accessor\u001b[49m\u001b[38;5;241;43m.\u001b[39;49m\u001b[43mopen\u001b[49m\u001b[43m(\u001b[49m\u001b[38;5;28;43mself\u001b[39;49m\u001b[43m,\u001b[49m\u001b[43m \u001b[49m\u001b[43mflags\u001b[49m\u001b[43m,\u001b[49m\u001b[43m \u001b[49m\u001b[43mmode\u001b[49m\u001b[43m)\u001b[49m\n",
      "\u001b[0;31mFileNotFoundError\u001b[0m: [Errno 2] No such file or directory: 'AWS/legos/aws_list_unused_secrets/aws_list_unused_secrets.json'"
     ]
    }
   ],
   "source": [
    "repo = Repo('.')\n",
    "branch =  repo.active_branch\n",
    "list_of_dir = f\"https://api.github.com/repos/unskript/Awesome-CloudOps-Automation/git/trees/master?recursive=1\"\n",
    "r_gh = requests.get(list_of_dir).json().get(\"tree\")\n",
    "print(branch)\n",
    "notebooks = []\n",
    "actions=[]\n",
    "actionCount = 0\n",
    "runBookCount = 0\n",
    "\n",
    "main_readme_chart = \"\"\n",
    "runbook_list=\"\"\n",
    "runbook_connector = \"\"\n",
    "runbook_connector_list = []\n",
    "\n",
    "action_list = \"\"\n",
    "action_connector = \"\"\n",
    "action_connector_list = []\n",
    "\n",
    "connector_readme_connector =''\n",
    "connector_readme = ''\n",
    "hasRunbook = False\n",
    "hasAction = False\n",
    "\n",
    "if r_gh is not None:\n",
    "    for file in r_gh:\n",
    "\n",
    "        #only look at files we care about - ignore some of the directories that we don't need to scan\n",
    "        if \".github\" not in file.get(\"path\") and \".gitignore\" not in file.get(\"path\") and \"templates\" not in file.get(\"path\") and \"/\" in file.get(\"path\")and \"__init__\" not in file.get(\"path\") and \"custom\" not in file.get(\"path\")and \"unskript-ctl\" not in file.get(\"path\"):\n",
    "            #runbooks are .ipynb, and actions are .py\n",
    "            if file.get(\"path\").endswith(\".ipynb\") or file.get(\"path\").endswith(\".py\"):\n",
    "                temp = file.get(\"path\").split(\"/\")\n",
    "                if temp == -1:\n",
    "                    data = {\n",
    "                        \"root\": None,\n",
    "                        \"filename\": file.get(\"path\")\n",
    "                    }\n",
    "                    notebooks.append(data)\n",
    "                    \n",
    "                else:\n",
    "                    isAction = False\n",
    "                    last_folder = \"\"\n",
    "                    file_name = temp[-1]\n",
    "                    filename_string = file_name[0:file_name.find(\".\")]\n",
    "\n",
    "                    temp.pop()\n",
    "                    path = \"\"\n",
    "                    for folder in temp:\n",
    "                        path = path + folder +\"/\"\n",
    "                        last_folder += \"/\" + folder\n",
    "                    \n",
    "                    # to be an action, the file must have the 2nd directory be lego, and there must be 3 layers of directory\n",
    "                    if len(temp) ==3 and temp[1] ==\"legos\":\n",
    "                        isAction = True\n",
    "                    #testing\n",
    "                    \n",
    "                    \n",
    "                    \n",
    "                    #JSON data\n",
    "                    filename_json = Path(path +\"/\"+filename_string+ \".json\")\n",
    "                    jsonData = json.loads(filename_json.read_text())\n",
    "                    \n",
    "                    \n",
    "                    ##we now have a path.. but only really need the root folder\n",
    "                    ## different ways to generate fior action vs runbook\n",
    "                    if isAction:\n",
    "                        actionCount += 1\n",
    "                        #this is an action folder\n",
    "                        #find first slash\n",
    "                        firstslash = last_folder.find(\"/\",1)\n",
    "                        root = last_folder[1:firstslash]\n",
    "                        name = jsonData['action_title']\n",
    "                        description = jsonData['action_description']\n",
    "                        if 'action_categories' in jsonData:\n",
    "                            categories = jsonData['action_categories']\n",
    "                        else:\n",
    "                            print(f\"{name} is missing categories\")\n",
    "                        polling = jsonData['action_supports_poll']\n",
    "                        iteration = jsonData['action_supports_iteration']\n",
    "                        #not the python file - but the readme\n",
    "                        github_url = f\"{github_url_base}{last_folder}/README.md\"   \n",
    "                        \n",
    "                        \n",
    "                    else:\n",
    "                        runBookCount+=1\n",
    "                        #root folder for notebooks\n",
    "                        root = last_folder[1:]\n",
    "                        name = jsonData['name']\n",
    "                        description = jsonData['description']\n",
    "                        categories = jsonData['categories']\n",
    "                        github_url = github_url_base+\"/\"+file.get(\"path\")\n",
    "                    \n",
    "                    data = {\n",
    "                        \"root\": root,\n",
    "                        \"filename\": file_name,\n",
    "                        \"name\": name,\n",
    "                        \"description\": description,\n",
    "                        \"categories\":categories,\n",
    "                        \"github_url\": github_url\n",
    "                    }\n",
    "                    \n",
    "                    if isAction:\n",
    "                        data['type'] = \"Action\"\n",
    "                        data['polling'] = polling\n",
    "                        data['iteration']=iteration\n",
    "                        actions.append(data)\n",
    "                    else:\n",
    "                        data['type'] = \"RunBook\"\n",
    "                        local_url = local_OSS_url+\"/\"+file.get(\"path\")\n",
    "                        data['local_url'] = local_url  \n",
    "                        notebooks.append(data)\n",
    "                        \n",
    "                        \n",
    "                    #generate the list of runbooks for tha main readme\n",
    "                    if not isAction:\n",
    "                        main_readme_chart += f\"|{root} |[{name}]({github_url}) | [Open in Browser]({local_url}) | \\n\"\n",
    "    \n",
    "                    #generate the runbook list page\n",
    "                    if not isAction:\n",
    "                        #have we created a category yet?\n",
    "                        if runbook_connector == \"\":\n",
    "                            runbook_connector = root\n",
    "                            runbook_connector_list.append(runbook_connector)\n",
    "                            runbook_list += f\"\\n# {runbook_connector}\\n\"\n",
    "                        #same category, or new one\n",
    "                        if runbook_connector != root:\n",
    "                            # new category\n",
    "                            runbook_connector = root\n",
    "                            runbook_connector_list.append(runbook_connector)\n",
    "                            runbook_list += f\"\\n# {runbook_connector}\\n\"\n",
    "                            \n",
    "                            \n",
    "                        #now add in each runbook\n",
    "                        runbook_list += f\"* [{name}]({github_url}): {description}\\n\"\n",
    "            \n",
    "                    #generate the action list page\n",
    "                    if isAction:\n",
    "                        #have we created a category yet?\n",
    "                        if action_connector == \"\":\n",
    "                            action_connector = root\n",
    "                            action_connector_list.append(action_connector)\n",
    "                            action_list += f\"\\n# {action_connector}\\n\"\n",
    "                        #same category, or new one\n",
    "                        if action_connector != root:\n",
    "                            # new category\n",
    "                            action_connector = root\n",
    "                            action_connector_list.append(action_connector)\n",
    "                            action_list += f\"\\n# {action_connector}\\n\"\n",
    "                            \n",
    "                        #now add in each Action\n",
    "                        action_list += f\"* [{name}]({github_url}): {description}\\n\"\n",
    "                    \n",
    "                    \n",
    "\n",
    "                    #generate the readme for each connector\n",
    "                    #have we created a category yet?\n",
    "                    if connector_readme_connector == \"\":\n",
    "                        connector_readme_connector = root\n",
    "                        connector_readme = ''\n",
    "                        hasRunbook = False\n",
    "                        hasAction = False\n",
    "                    #same category, or new one\n",
    "                    if connector_readme_connector != root:\n",
    "                        # starting a new readme\n",
    "                        #first let's save the old one:\n",
    "                        #print(connector_readme)\n",
    "                        readme_file = f\"{connector_readme_connector}/README.md\"\n",
    "                        f  = open(readme_file, \"w+\")\n",
    "                        f.write(connector_readme)\n",
    "                        f.close()\n",
    "                        #now start building the new readme\n",
    "                        connector_readme_connector = root\n",
    "                        connector_readme = ''\n",
    "                        hasRunbook = False\n",
    "                        hasAction = False\n",
    "\n",
    "                    if data['type'] ==\"RunBook\":\n",
    "                        if not hasRunbook:\n",
    "                            connector_readme += f'# {root} RunBooks\\n'\n",
    "                            hasRunbook = True\n",
    "                        connector_readme += f\"* [{name}]({github_url}): {description}\\n\"\n",
    "                    if data['type'] ==\"Action\":\n",
    "                        if not hasAction:\n",
    "                            connector_readme += f'\\n# {root} Actions\\n'\n",
    "                            hasAction = True\n",
    "                        connector_readme += f\"* [{name}]({github_url}): {description}\\n\"\n",
    "    \n",
    "#print(notebooks)\n",
    "#print(action_list)\n",
    "#print(action_connector_list)\n",
    "#print(runbook_connector_list)\n",
    "#print(runBookCount, actionCount)\n"
   ]
  },
  {
   "cell_type": "code",
   "execution_count": null,
   "id": "e492845d",
   "metadata": {
    "execution": {
<<<<<<< HEAD
     "iopub.execute_input": "2023-04-10T13:47:55.123787Z",
     "iopub.status.busy": "2023-04-10T13:47:55.123203Z",
     "iopub.status.idle": "2023-04-10T13:47:55.127975Z",
     "shell.execute_reply": "2023-04-10T13:47:55.127390Z"
=======
     "iopub.execute_input": "2023-04-12T15:33:32.339509Z",
     "iopub.status.busy": "2023-04-12T15:33:32.339106Z",
     "iopub.status.idle": "2023-04-12T15:33:32.345841Z",
     "shell.execute_reply": "2023-04-12T15:33:32.344925Z"
>>>>>>> 0ff6a38811dd735f472163eb1e63effdb7aa4ba2
    }
   },
   "outputs": [],
   "source": [
    "## generate category list and category url list for runbooks\n",
    "\n",
    "notebook_categories = {}\n",
    "notebook_category_urls = {}\n",
    "\n",
    "\n",
    "for notebook in notebooks:\n",
    "    #print(notebook)\n",
    "    #print(notebook['root'], notebook['name'])\n",
    "    if len(notebook['categories'])>0:\n",
    "        #print(notebook['categories'])\n",
    "        for category in notebook['categories']:\n",
    "            if not category in notebook_categories:\n",
    "                notebook_categories[category] = []\n",
    "            notebook_categories[category].append(notebook)\n",
    "            category_name = category[14:]\n",
    "            notebook_category_urls[category_name] = Path(f\"runbook_{category_name}.md\")\n"
   ]
  },
  {
   "cell_type": "code",
   "execution_count": null,
   "id": "68d91e36",
   "metadata": {
    "execution": {
<<<<<<< HEAD
     "iopub.execute_input": "2023-04-10T13:47:55.130531Z",
     "iopub.status.busy": "2023-04-10T13:47:55.130155Z",
     "iopub.status.idle": "2023-04-10T13:47:55.135364Z",
     "shell.execute_reply": "2023-04-10T13:47:55.134801Z"
=======
     "iopub.execute_input": "2023-04-12T15:33:32.350129Z",
     "iopub.status.busy": "2023-04-12T15:33:32.348974Z",
     "iopub.status.idle": "2023-04-12T15:33:32.355618Z",
     "shell.execute_reply": "2023-04-12T15:33:32.354971Z"
>>>>>>> 0ff6a38811dd735f472163eb1e63effdb7aa4ba2
    }
   },
   "outputs": [],
   "source": [
    "##headers for al of the runbook pages \n",
    "category_header1 =\"|\"\n",
    "category_header2 =\"|\"\n",
    "category_table =\"|\"\n",
    "\n",
    "connector_header1 =\"|\"\n",
    "connector_header2 =\"|\"\n",
    "connector_table =\"|\"\n",
    "for connector in runbook_connector_list:\n",
    "    connector_header1 += f\" |\"\n",
    "    connector_header2 += f\" ---|\"\n",
    "    connector_table += f\" [{connector}](xRunBook_List.md#{connector}) |\"    \n",
    "\n",
    "connector_markdown_table = f\"{connector_header1} \\n {connector_header2} \\n {connector_table} \\n\\n\"\n",
    "\n",
    "#print(notebook_category_urls)\n",
    "for categoryname in notebook_category_urls:\n",
    "    category_header1 += f\" |\"\n",
    "    category_header2 += f\" ---|\"\n",
    "    category_table += f\" [{categoryname}]({notebook_category_urls[categoryname]}) |\"\n",
    "category_markdown_table = f\"{category_header1} \\n {category_header2} \\n {category_table} \\n\"\n",
    "\n",
    "#this builds the Runbook list page\n",
    "runbook_list = f\"# RunBook Connectors:\\n {connector_markdown_table} \\n# RunBook Categories:\\n {category_markdown_table} \\n\\n {runbook_list}\"\n",
    "       \n"
   ]
  },
  {
   "cell_type": "code",
   "execution_count": null,
   "id": "6bfed614",
   "metadata": {
    "execution": {
<<<<<<< HEAD
     "iopub.execute_input": "2023-04-10T13:47:55.137699Z",
     "iopub.status.busy": "2023-04-10T13:47:55.137320Z",
     "iopub.status.idle": "2023-04-10T13:47:55.148325Z",
     "shell.execute_reply": "2023-04-10T13:47:55.147771Z"
=======
     "iopub.execute_input": "2023-04-12T15:33:32.358685Z",
     "iopub.status.busy": "2023-04-12T15:33:32.358237Z",
     "iopub.status.idle": "2023-04-12T15:33:32.369556Z",
     "shell.execute_reply": "2023-04-12T15:33:32.368966Z"
>>>>>>> 0ff6a38811dd735f472163eb1e63effdb7aa4ba2
    }
   },
   "outputs": [],
   "source": [
    "## generate category lists from actions\n",
    "\n",
    "action_categories = {}\n",
    "action_category_urls = {}\n",
    "\n",
    "\n",
    "for action in actions:\n",
    "    #print(action)\n",
    "    if len(action['categories'])>0:\n",
    "        #print(notebook['categories'])\n",
    "        for category in action['categories']:\n",
    "            if not category in action_categories:\n",
    "                action_categories[category] = []\n",
    "            action_categories[category].append(action)\n",
    "            category_name = category[14:]\n",
    "            action_category_urls[category_name] = Path(f\"action_{category_name}.md\")\n"
   ]
  },
  {
   "cell_type": "code",
   "execution_count": null,
   "id": "d25256b7",
   "metadata": {
    "execution": {
<<<<<<< HEAD
     "iopub.execute_input": "2023-04-10T13:47:55.150583Z",
     "iopub.status.busy": "2023-04-10T13:47:55.150265Z",
     "iopub.status.idle": "2023-04-10T13:47:55.155607Z",
     "shell.execute_reply": "2023-04-10T13:47:55.154965Z"
=======
     "iopub.execute_input": "2023-04-12T15:33:32.373229Z",
     "iopub.status.busy": "2023-04-12T15:33:32.372731Z",
     "iopub.status.idle": "2023-04-12T15:33:32.380697Z",
     "shell.execute_reply": "2023-04-12T15:33:32.379838Z"
>>>>>>> 0ff6a38811dd735f472163eb1e63effdb7aa4ba2
    }
   },
   "outputs": [],
   "source": [
    "##headers for al of the Action pages \n",
    "category_header1 =\"|\"\n",
    "category_header2 =\"|\"\n",
    "category_table =\"|\"\n",
    "\n",
    "action_header1 =\"|\"\n",
    "action_header2 =\"|\"\n",
    "action_table =\"|\"\n",
    "gitbooklist = \"\"\n",
    "counter =0\n",
    "for action in action_connector_list:\n",
    "    counter+= 1\n",
    "    if counter <4:\n",
    "        action_header1 += f\" |\"\n",
    "        action_header2 += f\" ---|\"\n",
    "    action_url = f\"lists/action_{action.upper()}.md\"\n",
    "    action_url= action_url.replace(\"KUBERNETES\", \"K8S\")\n",
    "    action_url= action_url.replace(\"action_ELASTICSEARCH\", \"action_ES\")\n",
    "    action_table += f\" [{action}]({action_url}) |\"\n",
    "    print(action_url)\n",
    "    gitbooklist += f\"      * [{action}](action_url) \\n\"\n",
    "    if counter%4 ==0:\n",
    "        #start a new row of category\n",
    "        action_table += f\"\\n |\"\n",
    "\n",
    "action_connector_markdown_table = f\"{action_header1} \\n {action_header2} \\n {action_table} \\n\\n\"\n",
    "\n",
    "counter = 0\n",
    "for categoryname in action_category_urls:\n",
    "    category_printed = categoryname\n",
    "    counter+= 1\n",
    "    if counter <4:\n",
    "        category_header1 += f\" |\"\n",
    "        category_header2 += f\" ---|\"\n",
    "    category_table += f\" [{category_printed}]({action_category_urls[categoryname]}) |\"\n",
    "    gitbooklist += f\"      * [{category_printed}](lists/{action_category_urls[categoryname]})\\n\"\n",
    "    if counter%4 ==0:\n",
    "        #start a new row of category\n",
    "        category_table += f\"\\n |\"\n",
    "\n",
    "action_category_markdown_table = f\"{category_header1} \\n {category_header2} \\n {category_table} \\n\"\n",
    "\n",
    "\n",
    "print(action_connector_markdown_table)\n",
    "action_list =f\"# Actions By Connector:\\n{action_connector_markdown_table} \\n # Actions By Category: \\n{action_category_markdown_table}\\n\\n\\n\\n \"   \n",
    "#print(action_list)"
   ]
  },
  {
   "cell_type": "code",
   "execution_count": 91,
   "id": "4f238d53",
   "metadata": {
    "execution": {
<<<<<<< HEAD
     "iopub.execute_input": "2023-04-10T13:47:55.157824Z",
     "iopub.status.busy": "2023-04-10T13:47:55.157509Z",
     "iopub.status.idle": "2023-04-10T13:47:55.163167Z",
     "shell.execute_reply": "2023-04-10T13:47:55.162587Z"
=======
     "iopub.execute_input": "2023-04-12T15:33:32.386516Z",
     "iopub.status.busy": "2023-04-12T15:33:32.385993Z",
     "iopub.status.idle": "2023-04-12T15:33:32.393027Z",
     "shell.execute_reply": "2023-04-12T15:33:32.392344Z"
>>>>>>> 0ff6a38811dd735f472163eb1e63effdb7aa4ba2
    }
   },
   "outputs": [],
   "source": [
    "\n",
    "#generate pages for each Runbook category page\n",
    "category_name =\"\"\n",
    "category_listing = \"\"\n",
    "for category in notebook_categories:\n",
    "    #category change - we need a new header\n",
    "    if category_name ==\"\":\n",
    "        #new category\n",
    "        category_name = category[14:]\n",
    "        category_listing = f\"# RunBook Connectors:\\n {connector_markdown_table} \\n# RunBook Categories:\\n {category_markdown_table} \\n# Runbooks in {category_name.replace('_', ' ')}\\n\"\n",
    "    elif category_name != category:\n",
    "        # we have finished off a category\n",
    "        #save the oldcategory\n",
    "        #print(category_name, category_listing)\n",
    "        categoryList_filename = f\"lists/{notebook_category_urls[category_name]}\"\n",
    "        f  = open(categoryList_filename, \"w+\")\n",
    "        f.write(category_listing)\n",
    "        f.close()\n",
    "        category_name = category[14:]\n",
    "        category_listing = f\"# RunBook Connectors:\\n {connector_markdown_table} \\n# RunBook Categories:\\n {category_markdown_table}\\n # Runbooks in {category_name.replace('_', ' ')}\\n\"\n",
    "    \n",
    "    #print(notebook_categories[category])\n",
    "    for runbook in notebook_categories[category]:\n",
    "        category_listing += f\"* {runbook['root']} [{runbook['name']}]({runbook['github_url']}): {runbook['description']}\\n\"\n",
    "#finished loop -wrote last category\n",
    "#print(category_listing)\n",
    "f  = open(categoryList_filename, \"w+\")\n",
    "f.write(category_listing)\n",
    "f.close()\n"
   ]
  },
  {
   "cell_type": "code",
   "execution_count": 92,
   "id": "81ea848a",
   "metadata": {
    "execution": {
<<<<<<< HEAD
     "iopub.execute_input": "2023-04-10T13:47:55.165596Z",
     "iopub.status.busy": "2023-04-10T13:47:55.165291Z",
     "iopub.status.idle": "2023-04-10T13:47:55.178619Z",
     "shell.execute_reply": "2023-04-10T13:47:55.178083Z"
=======
     "iopub.execute_input": "2023-04-12T15:33:32.396174Z",
     "iopub.status.busy": "2023-04-12T15:33:32.395798Z",
     "iopub.status.idle": "2023-04-12T15:33:32.412904Z",
     "shell.execute_reply": "2023-04-12T15:33:32.412083Z"
>>>>>>> 0ff6a38811dd735f472163eb1e63effdb7aa4ba2
    }
   },
   "outputs": [
    {
     "name": "stdout",
     "output_type": "stream",
     "text": [
      "SECOPS\n",
      "CATEGORY_TYPE_DEVOPS\n",
      "CATEGORY_TYPE_SRE\n",
      "CATEGORY_TYPE_AWS\n",
      "CATEGORY_TYPE_AWS_S3\n",
      "CATEGORY_TYPE_AWS_EC2\n",
      "CATEGORY_TYPE_IAM\n",
      "CATEGORY_TYPE_AWS_IAM\n",
      "CATEGORY_TYPE_COST_OPT\n",
      "CATEGORY_TYPE_AWS_ACM\n",
      "CATEGORY_TYPE_AWS_CLOUDWATCH\n",
      "CATEGORY_TYPE_AWS_REDSHIFT\n",
      "CATEGORY_TYPE_AWS_ELB\n",
      "CATEGORY_TYPE_AWS_EBS\n",
      "CATEGORY_TYPE_AWS_ECS\n",
      "CATEGORY_TYPE_AWS_EKS\n",
      "CATEGORY_TYPE_AWS_EMR\n",
      "CATEGORY_TYPE_AWS_CLI\n",
      "CATEGORY_TYPE_AWS_SSM\n",
      "CATEGORY_TYPE_DB\n",
      "CATEGORY_TYPE_AWS_EBC\n",
      "CATEGORY_TYPE_AWS_VPC\n",
      "CATEGORY_TYPE_CLOUDOPS\n",
      "CATEGORY_TYPE_AWS_ASG\n",
      "CATEGORY_TYPE_AWS_LOGS\n",
      "CATEGORY_TYPE_AWS_NAT_GATEWAY\n",
      "CATEGORY_TYPE_AWS_CLOUDTRAIL\n",
      "CATEGORY_TYPE_AWS_DYNAMODB\n",
      "CATEGORY_TYPE_AWS_LAMBDA\n",
      "CATEGORY_TYPE_AWS_RDS\n",
      "CATEGORY_TYPE_AWS_SQS\n",
      "CATEGORY_TYPE_TROUBLESHOOTING\n",
      "CATEGORY_TYPE_AWS_SECRET_MANAGER\n",
      "CATEGORY_TYPE_AWS_STS\n",
      "CATEGORY_TYPE_AWS_POSTGRES\n",
      "CATEGORY_TYPE_AIRFLOW\n",
      "CATEGORY_TYPE_AZURE\n",
      "CATEGORY_TYPE_DATADOG\n",
      "CATEGORY_TYPE_DATADOG_INCIDENT\n",
      "CATEGORY_TYPE_DATADOG_EVENT\n",
      "CATEGORY_TYPE_DATADOG_METRICS\n",
      "CATEGORY_TYPE_DATADOG_MONITOR\n",
      "CATEGORY_TYPE_DATADOG_ALERTS\n",
      "CATEGORY_TYPE_ES\n",
      "CATEGORY_TYPE_GCP\n",
      "CATEGORY_TYPE_GCP_IAM\n",
      "CATEGORY_TYPE_GCP_BUCKET\n",
      "CATEGORY_TYPE_GCP_FILE_STORE\n",
      "CATEGORY_TYPE_GCP_GKE\n",
      "CATEGORY_TYPE_GCP_VM\n",
      "CATEGORY_TYPE_GCP_VPC\n",
      "CATEGORY_TYPE_GCP_SECRET\n",
      "CATEGORY_TYPE_GCP_SHEETS\n",
      "CATEGORY_TYPE_GITHUB\n",
      "CATEGORY_TYPE_GITHUB_ISSUE\n",
      "CATEGORY_TYPE_GITHUB_PR\n",
      "CATEGORY_TYPE_GITHUB_REPO\n",
      "CATEGORY_TYPE_GITHUB_TEAM\n",
      "CATEGORY_TYPE_GITHUB_USER\n",
      "CATEGORY_TYPE_GITHUB_ORG\n",
      "CATEGORY_TYPE_GRAFANA\n",
      "CATEGORY_TYPE_HADOOP\n",
      "CATEGORY_TYPE_JENKINS\n",
      "CATEGORY_TYPE_JIRA\n",
      "CATEGORY_TYPE_KAFKA\n",
      "CATEGORY_TYPE_K8S\n",
      "CATEGORY_TYPE_K8S_CLUSTER\n",
      "CATEGORY_TYPE_K8S_NODE\n",
      "CATEGORY_TYPE_K8S_POD\n",
      "CATEGORY_TYPE_K8S_KUBECTL\n",
      "CATEGORY_TYPE_K8S_PVC\n",
      "CATEGORY_TYPE_K8S_NAMESPACE\n",
      "CATEGORY_TYPE_MONGODB\n",
      "CATEGORY_TYPE_MONGODB_COLLECTION\n",
      "CATEGORY_TYPE_MONGODB_CLUSTER\n",
      "CATEGORY_TYPE_MONGODB_DOCUMENT\n",
      "CATEGORY_TYPE_MONGODB_QUERY\n",
      "CATEGORY_TYPE_MSSQL\n",
      "CATEGORY_TYPE_MSSQL_QUERY\n",
      "CATEGORY_TYPE_MYSQL\n",
      "CATEGORY_TYPE_MYSQL_QUERY\n",
      "CATEGORY_TYPE_NETBOX\n",
      "CATEGORY_TYPE_NOMAD\n",
      "CATEGORY_TYPE_PINGDOM\n",
      "CATEGORY_TYPE_POSTGRESQL\n",
      "CATEGORY_TYPE_POSTGRESQL_QUERY\n",
      "CATEGORY_TYPE_POSTGRESQL_TABLE\n",
      "CATEGORY_TYPE_PROMETHEUS\n",
      "CATEGORY_TYPE_REDIS\n",
      "CATEGORY_TYPE_REST\n",
      "CATEGORY_TYPE_SSH\n",
      "CATEGORY_TYPE_SALESFORCE\n",
      "CATEGORY_TYPE_SLACK\n",
      "CATEGORY_TYPE_SNOWFLAKE\n",
      "CATEGORY_TYPE_STRIPE\n",
      "CATEGORY_TYPE_STRIPE_CHARGE\n",
      "CATEGORY_TYPE_STRIPE_DISPUTE\n",
      "CATEGORY_TYPE_STRIPE_REFUND\n",
      "CATEGORY_TYPE_TERRAFORM\n",
      "CATEGORY_TYPE_INFRA\n",
      "CATEGORY_TYPE_OPENSEARCH\n"
     ]
    }
   ],
   "source": [
    "# generate all of the action category pages \n",
    "category_name =\"\"\n",
    "category_listing = \"\"\n",
    "for category in action_categories:\n",
    "    if category_name ==\"\":\n",
    "        #new category\n",
    "        \n",
    "        category_name = category[14:]\n",
    "        if category_name ==\"ELASTICSEARCH\":\n",
    "            category_name ==\"ES\"\n",
    "        elif category_name ==\"KUBERNETES\":\n",
    "            category_name ==\"K8S\"\n",
    "        elif category_name ==\"MONGO\":\n",
    "            category_name ==\"MONGODB\"\n",
    "        print(category_name)\n",
    "        category_listing = f\"# Actions in the {category_name.replace('_', ' ')} category\\n\"\n",
    "    elif category_name != category:\n",
    "        # we have finished off a category\n",
    "        #save the oldcategory\n",
    "        #print(category_name, category_listing)\n",
    "        print(category)\n",
    "        #print(category_listing)\n",
    "        #place the links at the bottom\n",
    "        category_listing += f\"\\n# Actions By Connector:\\n{action_connector_markdown_table} \\n # Actions By Category: \\n{action_category_markdown_table} \\n\\n\"\n",
    "        categoryList_filename = f\"lists/{action_category_urls[category_name]}\"\n",
    "        f  = open(categoryList_filename, \"w+\")\n",
    "        f.write(category_listing)\n",
    "        f.close()\n",
    "        category_name = category[14:]\n",
    "        \n",
    "        category_listing = f\"# Actions in the {category_name.replace('_', ' ')} category\\n\"\n",
    "    \n",
    "    #print(category_listing)\n",
    "    for action in action_categories[category]:\n",
    "        \n",
    "        category_listing += f\"* **{action['root']}**: [{action['name']}]({action['github_url']}): {action['description']}\\n\\n\"\n",
    "# last category is compelted when loop ends\n",
    "\n",
    "category_listing += f\"\\n# Actions By Connector:\\n{action_connector_markdown_table} \\n # Actions By Category: \\n{action_category_markdown_table} \\n\\n\"\n",
    "categoryList_filename = f\"lists/{action_category_urls[category_name]}\"\n",
    "f  = open(categoryList_filename, \"w+\")\n",
    "f.write(category_listing)\n",
    "f.close()\n",
    "        \n",
    "        \n",
    "#print(action_categories)\n",
    "#print(action_category_urls)\n"
   ]
  },
  {
   "cell_type": "markdown",
   "id": "aboriginal-responsibility",
   "metadata": {},
   "source": [
    "### Preview the generated list"
   ]
  },
  {
   "cell_type": "markdown",
   "id": "88e075a7-8341-45af-a250-c1594c004579",
   "metadata": {},
   "source": [
    "### Generate readme for github repository"
   ]
  },
  {
   "cell_type": "code",
   "execution_count": 93,
   "id": "younger-consensus",
   "metadata": {
    "execution": {
<<<<<<< HEAD
     "iopub.execute_input": "2023-04-10T13:47:55.181675Z",
     "iopub.status.busy": "2023-04-10T13:47:55.180688Z",
     "iopub.status.idle": "2023-04-10T13:47:55.186401Z",
     "shell.execute_reply": "2023-04-10T13:47:55.185614Z"
=======
     "iopub.execute_input": "2023-04-12T15:33:32.416389Z",
     "iopub.status.busy": "2023-04-12T15:33:32.415960Z",
     "iopub.status.idle": "2023-04-12T15:33:32.421310Z",
     "shell.execute_reply": "2023-04-12T15:33:32.420515Z"
>>>>>>> 0ff6a38811dd735f472163eb1e63effdb7aa4ba2
    },
    "tags": []
   },
   "outputs": [],
   "source": [
    "# Open README template\n",
    "template = open(readme_template).read()\n",
    "\n",
    "# Replace var to get list of templates in markdown format\n",
    "template = template.replace(replace_var, main_readme_chart)\n",
    "\n",
    "#create the action and runbook badges\n",
    "actionImage = f'https://img.shields.io/static/v1?label=ActionCount&message={actionCount}&color=green'\n",
    "runbookImage = f'https://img.shields.io/static/v1?label=xRunBookCount&message={runBookCount}&color=orange'\n",
    "actionbadge = f\"<img src={actionImage}>\"\n",
    "runbookbadge =  f\"<img src={runbookImage}>\"\n",
    "\n",
    "\n",
    "#insert the badges on the readme\n",
    "badgeCode = actionbadge + runbookbadge\n",
    "template =  template.replace(badge_var, badgeCode)\n",
    "\n",
    "# Save README\n",
    "f  = open(readme, \"w+\")\n",
    "f.write(template)\n",
    "f.close()"
   ]
  },
  {
   "cell_type": "raw",
   "id": "4c1ed44c",
   "metadata": {},
   "source": []
  },
  {
   "cell_type": "code",
   "execution_count": 94,
   "id": "2a95cba3-027c-4a57-8bfa-2ee1e9053bb7",
   "metadata": {
    "execution": {
<<<<<<< HEAD
     "iopub.execute_input": "2023-04-10T13:47:55.188789Z",
     "iopub.status.busy": "2023-04-10T13:47:55.188410Z",
     "iopub.status.idle": "2023-04-10T13:47:55.192591Z",
     "shell.execute_reply": "2023-04-10T13:47:55.191736Z"
=======
     "iopub.execute_input": "2023-04-12T15:33:32.424357Z",
     "iopub.status.busy": "2023-04-12T15:33:32.423960Z",
     "iopub.status.idle": "2023-04-12T15:33:32.428947Z",
     "shell.execute_reply": "2023-04-12T15:33:32.427355Z"
>>>>>>> 0ff6a38811dd735f472163eb1e63effdb7aa4ba2
    },
    "tags": []
   },
   "outputs": [],
   "source": [
    "\n",
    "#generate a page of all the actions that are available\n",
    "ac_list= readme = \"lists/Action_list.md\"\n",
    "# Save README\n",
    "f  = open(ac_list, \"w+\")\n",
    "f.write(action_list)\n",
    "f.close()\n"
   ]
  },
  {
   "cell_type": "code",
   "execution_count": 95,
   "id": "70db7c84-57ad-4a92-a60b-9f20b60b5329",
   "metadata": {
    "execution": {
<<<<<<< HEAD
     "iopub.execute_input": "2023-04-10T13:47:55.195015Z",
     "iopub.status.busy": "2023-04-10T13:47:55.194720Z",
     "iopub.status.idle": "2023-04-10T13:47:55.198776Z",
     "shell.execute_reply": "2023-04-10T13:47:55.198163Z"
=======
     "iopub.execute_input": "2023-04-12T15:33:32.434284Z",
     "iopub.status.busy": "2023-04-12T15:33:32.433881Z",
     "iopub.status.idle": "2023-04-12T15:33:32.439165Z",
     "shell.execute_reply": "2023-04-12T15:33:32.438499Z"
>>>>>>> 0ff6a38811dd735f472163eb1e63effdb7aa4ba2
    }
   },
   "outputs": [],
   "source": [
    "#generate a page of all the Runbooks that are available\n",
    "rb_list = readme = \"lists/xRunBook_list.md\"\n",
    "# Save README\n",
    "f  = open(rb_list, \"w+\")\n",
    "f.write(runbook_list)\n",
    "f.close()"
   ]
  },
  {
   "cell_type": "code",
   "execution_count": 96,
   "id": "ee479c83",
   "metadata": {
    "execution": {
<<<<<<< HEAD
     "iopub.execute_input": "2023-04-10T13:47:55.201284Z",
     "iopub.status.busy": "2023-04-10T13:47:55.200998Z",
     "iopub.status.idle": "2023-04-10T13:47:55.206524Z",
     "shell.execute_reply": "2023-04-10T13:47:55.205765Z"
=======
     "iopub.execute_input": "2023-04-12T15:33:32.442821Z",
     "iopub.status.busy": "2023-04-12T15:33:32.442201Z",
     "iopub.status.idle": "2023-04-12T15:33:32.447530Z",
     "shell.execute_reply": "2023-04-12T15:33:32.446965Z"
>>>>>>> 0ff6a38811dd735f472163eb1e63effdb7aa4ba2
    }
   },
   "outputs": [],
   "source": [
    "#create JSON files that can be used t build badges for the website showing our Runbook and action counts\n",
    "\n",
    "import json\n",
    "#store Runbookcount json (to create shield on webpage)\n",
    "rb_list = readme = \".github/images/runbookShield.json\"\n",
    "json1 = {\"schemaVersion\": 1,\"label\": \"RunBook Count\",\"message\": runBookCount,\"color\": \"orange\"}\n",
    "\n",
    "# Save README\n",
    "\n",
    "with open(rb_list, \"w\") as outfile:\n",
    "    json.dump(json1, outfile)\n",
    "\n",
    "\n",
    "#store action count json (to create shield on webpage)\n",
    "rb_list = readme = \".github/images/actionShield.json\"\n",
    "json2 = {\"schemaVersion\": 1,\"label\": \"Action Count\",\"message\": actionCount,\"color\": \"green\"}\n",
    "\n",
    "# Save README\n",
    "with open(rb_list, \"w\") as outfile:\n",
    "    json.dump(json2, outfile)"
   ]
  },
  {
   "cell_type": "markdown",
   "id": "076fbbd0",
   "metadata": {},
   "source": []
  },
  {
   "cell_type": "code",
   "execution_count": null,
   "id": "0041b5a5",
   "metadata": {},
   "outputs": [],
   "source": []
  },
  {
   "cell_type": "code",
   "execution_count": null,
   "id": "af012c24",
   "metadata": {},
   "outputs": [],
   "source": []
  },
  {
   "cell_type": "code",
   "execution_count": null,
   "id": "27801143",
   "metadata": {},
   "outputs": [],
   "source": []
  }
 ],
 "metadata": {
  "kernelspec": {
   "display_name": "Python 3 (ipykernel)",
   "language": "python",
   "name": "python3"
  },
  "language_info": {
   "codemirror_mode": {
    "name": "ipython",
    "version": 3
   },
   "file_extension": ".py",
   "mimetype": "text/x-python",
   "name": "python",
   "nbconvert_exporter": "python",
   "pygments_lexer": "ipython3",
   "version": "3.9.6"
  },
  "vscode": {
   "interpreter": {
    "hash": "31f2aee4e71d21fbe5cf8b01ff0e069b9275f58929596ceb00d14d90e3e16cd6"
   }
  },
  "widgets": {
   "application/vnd.jupyter.widget-state+json": {
    "state": {},
    "version_major": 2,
    "version_minor": 0
   }
  }
 },
 "nbformat": 4,
 "nbformat_minor": 5
}
