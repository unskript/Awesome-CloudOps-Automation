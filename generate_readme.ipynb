{
 "cells": [
  {
   "cell_type": "markdown",
   "id": "latter-teddy",
   "metadata": {},
   "source": [
    "\n",
    "# Generate Readme with up to date list of xRunBooks"
   ]
  },
  {
   "cell_type": "markdown",
   "id": "421e4c6e-d5ef-4d53-9d36-f352426c4d87",
   "metadata": {
    "execution": {
     "iopub.execute_input": "2021-10-06T11:02:41.091855Z",
     "iopub.status.busy": "2021-10-06T11:02:41.091514Z",
     "iopub.status.idle": "2021-10-06T11:02:41.099143Z",
     "shell.execute_reply": "2021-10-06T11:02:41.098565Z",
     "shell.execute_reply.started": "2021-10-06T11:02:41.091773Z"
    },
    "tags": []
   },
   "source": [
    "## Input"
   ]
  },
  {
   "cell_type": "markdown",
   "id": "e84f7e80-dda2-4569-96dd-5abaaed2c73a",
   "metadata": {},
   "source": [
    "### Import librairies"
   ]
  },
  {
   "cell_type": "code",
   "execution_count": 1,
   "id": "sitting-directory",
   "metadata": {
    "execution": {
     "iopub.execute_input": "2023-03-24T05:19:51.367571Z",
     "iopub.status.busy": "2023-03-24T05:19:51.367142Z",
     "iopub.status.idle": "2023-03-24T05:19:53.784157Z",
     "shell.execute_reply": "2023-03-24T05:19:53.783365Z"
    },
    "tags": []
   },
   "outputs": [],
   "source": [
    "import os\n",
    "import requests\n",
    "import urllib.parse\n",
    "import copy\n",
    "import markdown\n",
    "import nbformat\n",
    "from nbconvert import MarkdownExporter\n",
    "from papermill.iorw import (\n",
    "    load_notebook_node,\n",
    "    write_ipynb,\n",
    ")\n",
    "try:\n",
    "    from git import Repo\n",
    "except:\n",
    "    !pip install GitPython\n",
    "    from git import Repo"
   ]
  },
  {
   "cell_type": "markdown",
   "id": "agricultural-contest",
   "metadata": {},
   "source": [
    "### Variables"
   ]
  },
  {
   "cell_type": "code",
   "execution_count": 2,
   "id": "guided-edgar",
   "metadata": {
    "execution": {
     "iopub.execute_input": "2023-03-24T05:19:53.788186Z",
     "iopub.status.busy": "2023-03-24T05:19:53.787311Z",
     "iopub.status.idle": "2023-03-24T05:19:53.792065Z",
     "shell.execute_reply": "2023-03-24T05:19:53.791397Z"
    },
    "tags": []
   },
   "outputs": [],
   "source": [
    "# README variables\n",
    "readme_template = \"README_template.md\"\n",
    "readme = \"README.md\"\n",
    "replace_var = \"[[DYNAMIC_LIST]]\"\n",
    "badge_var = \"[[BADGE]]\"\n",
    "\n",
    "# welcome variables\n",
    "#this is a TODO\n",
    "#welcome_template = \"Welcome_template.ipynb\"\n",
    "#welcome = \"Welcome.ipynb\"\n",
    "#replace_var_quote = f'\"[[DYNAMIC_LIST]]\",\\n'\n",
    "\n",
    "\n",
    "\n",
    "# Others\n",
    "current_file = '.'\n",
    "notebook_ext = '.ipynb'\n",
    "github_url = 'https://github.com/unskript/Awesome-CloudOps-Automation/tree/master'\n",
    "local_OSS_url = 'http://127.0.0.1:8888/lab/tree'\n",
    "#fix these!\n",
    "github_download_url = 'https://raw.githubusercontent.com/unskript/Awesome-CloudOps-Automation/master/'\n",
    "unSkript_logo ='https://unskript.com/assets/favicon.png'\n"
   ]
  },
  {
   "cell_type": "markdown",
   "id": "distinguished-declaration",
   "metadata": {},
   "source": [
    "### Get files list"
   ]
  },
  {
   "cell_type": "code",
   "execution_count": 4,
   "id": "36c9011e-5f51-4779-8062-a627503100e1",
   "metadata": {
    "execution": {
     "iopub.execute_input": "2023-03-24T05:19:53.795169Z",
     "iopub.status.busy": "2023-03-24T05:19:53.794654Z",
     "iopub.status.idle": "2023-03-24T05:19:54.006275Z",
     "shell.execute_reply": "2023-03-24T05:19:54.005577Z"
    },
    "tags": []
   },
   "outputs": [
    {
     "name": "stdout",
     "output_type": "stream",
     "text": [
      "[{'root': 'AWS', 'filename': 'AWS_Access_Key_Rotation.ipynb'}, {'root': 'AWS', 'filename': 'Add_new_IAM_user.ipynb'}, {'root': 'AWS', 'filename': 'Configure_url_endpoint_on_a_cloudwatch_alarm.ipynb'}, {'root': 'AWS', 'filename': 'Copy_ami_to_all_given_AWS_regions.ipynb'}, {'root': 'AWS', 'filename': 'Delete_Unattached_EBS_Volume.ipynb'}, {'root': 'AWS', 'filename': 'Detach_Instance_from_ASG.ipynb'}, {'root': 'AWS', 'filename': 'Detach_ec2_Instance_from_ASG.ipynb'}, {'root': 'AWS', 'filename': 'Detect_ECS_failed_deployment.ipynb'}, {'root': 'AWS', 'filename': 'EC2_Disk_Cleanup.ipynb'}, {'root': 'AWS', 'filename': 'Enforce_HTTP_Redirection_across_AWS_ALB.ipynb'}, {'root': 'AWS', 'filename': 'Enforce_Mandatory_Tags_Across_All_AWS_Resources.ipynb'}, {'root': 'AWS', 'filename': 'Find_EC2_Instances_Scheduled_to_retire.ipynb'}, {'root': 'AWS', 'filename': 'Get_Aws_Elb_Unhealthy_Instances.ipynb'}, {'root': 'AWS', 'filename': 'Lowering_AWS_CloudTrail_Costs_by_Removing_Redundant_Trails.ipynb'}, {'root': 'AWS', 'filename': 'Monitor_AWS_DynamoDB_provision_capacity.ipynb'}, {'root': 'AWS', 'filename': 'Notify_about_unused_keypairs.ipynb'}, {'root': 'AWS', 'filename': 'Publicly_Accessible_Amazon_RDS_Instances.ipynb'}, {'root': 'AWS', 'filename': 'Remediate_unencrypted_S3_buckets.ipynb'}, {'root': 'AWS', 'filename': 'Renew_SSL_Certificate.ipynb'}, {'root': 'AWS', 'filename': 'Resize_EBS_Volume.ipynb'}, {'root': 'AWS', 'filename': 'Resize_List_Of_Pvcs.ipynb'}, {'root': 'AWS', 'filename': 'Resize_PVC.ipynb'}, {'root': 'AWS', 'filename': 'Restart_AWS_EC2_Instances_By_Tag.ipynb'}, {'root': 'AWS', 'filename': 'Restart_Aws_Instance_given_Tag.ipynb'}, {'root': 'AWS', 'filename': 'Restart_Unhealthy_Services_Target_Group.ipynb'}, {'root': 'AWS', 'filename': 'Restrict_S3_Buckets_with_READ_WRITE_Permissions.ipynb'}, {'root': 'AWS', 'filename': 'Run_EC2_from_AMI.ipynb'}, {'root': 'AWS', 'filename': 'Secure_Publicly_accessible_Amazon_RDS_Snapshot.ipynb'}, {'root': 'AWS', 'filename': 'Stop_Untagged_EC2_Instances.ipynb'}, {'root': 'AWS', 'filename': 'Terminate_EC2_Instances_Without_Valid_Lifetime_Tag.ipynb'}, {'root': 'AWS', 'filename': 'Troubleshooting_Your_EC2_Configuration_in_Private_Subnet.ipynb'}, {'root': 'AWS', 'filename': 'Update_and_Manage_AWS_User_Permission.ipynb'}, {'root': 'ElasticSearch', 'filename': 'Elasticsearch_Rolling_Restart.ipynb'}, {'root': 'Jenkins', 'filename': 'Fetch_Jenkins_Build_Logs.ipynb'}, {'root': 'Kubernetes', 'filename': 'Delete_Evicted_Pods_From_Namespaces.ipynb'}, {'root': 'Kubernetes', 'filename': 'Get_Kube_System_Config_Map.ipynb'}, {'root': 'Kubernetes', 'filename': 'K8S_Get_Candidate_Nodes_Given_Config.ipynb'}, {'root': 'Kubernetes', 'filename': 'K8S_Log_Healthcheck.ipynb'}, {'root': 'Kubernetes', 'filename': 'K8S_Pod_Stuck_In_CrashLoopBack_State.ipynb'}, {'root': 'Kubernetes', 'filename': 'K8S_Pod_Stuck_In_ImagePullBackOff_State.ipynb'}, {'root': 'Kubernetes', 'filename': 'K8S_Pod_Stuck_In_Terminating_State.ipynb'}, {'root': 'Kubernetes', 'filename': 'Resize_List_of_PVCs.ipynb'}, {'root': 'Kubernetes', 'filename': 'Resize_PVC.ipynb'}, {'root': 'Kubernetes', 'filename': 'Rollback_k8s_Deployment_and_Update_Jira.ipynb'}, {'root': 'Postgresql', 'filename': 'Display_Postgresql_Long_Running.ipynb'}]\n",
      "[{'root': 'AWS', 'filename': 'aws_apply_default_encryption_for_s3_buckets.py'}, {'root': 'AWS', 'filename': 'aws_attach_ebs_to_instances.py'}, {'root': 'AWS', 'filename': 'aws_attach_iam_policy.py'}, {'root': 'AWS', 'filename': 'aws_attach_tags_to_resources.py'}, {'root': 'AWS', 'filename': 'aws_change_acl_permissions_of_buckets.py'}, {'root': 'AWS', 'filename': 'aws_check_ssl_certificate_expiry.py'}, {'root': 'AWS', 'filename': 'aws_cloudwatch_attach_webhook_notification_to_alarm.py'}, {'root': 'AWS', 'filename': 'aws_create_access_key.py'}, {'root': 'AWS', 'filename': 'aws_create_bucket.py'}, {'root': 'AWS', 'filename': 'aws_create_iam_user.py'}, {'root': 'AWS', 'filename': 'aws_create_redshift_query.py'}, {'root': 'AWS', 'filename': 'aws_create_user_login_profile.py'}, {'root': 'AWS', 'filename': 'aws_create_volumes_snapshot.py'}, {'root': 'AWS', 'filename': 'aws_delete_access_key.py'}, {'root': 'AWS', 'filename': 'aws_delete_bucket.py'}, {'root': 'AWS', 'filename': 'aws_delete_s3_bucket_encryption.py'}, {'root': 'AWS', 'filename': 'aws_delete_volume_by_id.py'}, {'root': 'AWS', 'filename': 'aws_deregister_instances.py'}, {'root': 'AWS', 'filename': 'aws_detach_ebs_to_instances.py'}, {'root': 'AWS', 'filename': 'aws_detach_instances_from_autoscaling_group.py'}, {'root': 'AWS', 'filename': 'aws_ebs_modify_volume.py'}, {'root': 'AWS', 'filename': 'aws_ecs_describe_task_definition.py'}, {'root': 'AWS', 'filename': 'aws_ecs_detect_failed_deployment.py'}, {'root': 'AWS', 'filename': 'aws_ecs_service_restart.py'}, {'root': 'AWS', 'filename': 'aws_ecs_update_service.py'}, {'root': 'AWS', 'filename': 'aws_eks_copy_pod_logs_to_bucket.py'}, {'root': 'AWS', 'filename': 'aws_eks_delete_pod.py'}, {'root': 'AWS', 'filename': 'aws_eks_get_all_dead_pods.py'}, {'root': 'AWS', 'filename': 'aws_eks_get_all_namespaces.py'}, {'root': 'AWS', 'filename': 'aws_eks_get_all_pods.py'}, {'root': 'AWS', 'filename': 'aws_eks_get_deployments_name.py'}, {'root': 'AWS', 'filename': 'aws_eks_get_node_cpu_memory.py'}, {'root': 'AWS', 'filename': 'aws_eks_get_nodes.py'}, {'root': 'AWS', 'filename': 'aws_eks_get_not_running_pods.py'}, {'root': 'AWS', 'filename': 'aws_eks_get_pod_cpu_memory.py'}, {'root': 'AWS', 'filename': 'aws_eks_get_pod_status.py'}, {'root': 'AWS', 'filename': 'aws_eks_get_running_pods.py'}, {'root': 'AWS', 'filename': 'aws_eks_run_kubectl_cmd.py'}, {'root': 'AWS', 'filename': 'aws_emr_get_instances.py'}, {'root': 'AWS', 'filename': 'aws_execute_cli_command.py'}, {'root': 'AWS', 'filename': 'aws_execute_command_ssm.py'}, {'root': 'AWS', 'filename': 'aws_filter_all_manual_database_snapshots.py'}, {'root': 'AWS', 'filename': 'aws_filter_ebs_unattached_volumes.py'}, {'root': 'AWS', 'filename': 'aws_filter_ec2_by_tags.py'}, {'root': 'AWS', 'filename': 'aws_filter_ec2_by_vpc.py'}, {'root': 'AWS', 'filename': 'aws_filter_ec2_instances.py'}, {'root': 'AWS', 'filename': 'aws_filter_ec2_without_lifetime_tag.py'}, {'root': 'AWS', 'filename': 'aws_filter_instances_without_termination_and_lifetime_tag.py'}, {'root': 'AWS', 'filename': 'aws_filter_large_ec2_instances.py'}, {'root': 'AWS', 'filename': 'aws_filter_long_running_instances.py'}, {'root': 'AWS', 'filename': 'aws_filter_public_s3_buckets_by_acl.py'}, {'root': 'AWS', 'filename': 'aws_filter_target_groups_by_tags.py'}, {'root': 'AWS', 'filename': 'aws_filter_unencrypted_s3_buckets.py'}, {'root': 'AWS', 'filename': 'aws_filter_unhealthy_instances_from_asg.py'}, {'root': 'AWS', 'filename': 'aws_filter_untagged_ec2_instances.py'}, {'root': 'AWS', 'filename': 'aws_filter_unused_keypairs.py'}, {'root': 'AWS', 'filename': 'aws_filter_unused_log_streams.py'}, {'root': 'AWS', 'filename': 'aws_filter_unused_nat_gateway.py'}, {'root': 'AWS', 'filename': 'aws_finding_redundant_trails.py'}, {'root': 'AWS', 'filename': 'aws_get_alarms_list.py'}, {'root': 'AWS', 'filename': 'aws_get_alb_listeners_without_http_redirect.py'}, {'root': 'AWS', 'filename': 'aws_get_all_ec2_instances.py'}, {'root': 'AWS', 'filename': 'aws_get_all_service_names.py'}, {'root': 'AWS', 'filename': 'aws_get_all_untagged_resources.py'}, {'root': 'AWS', 'filename': 'aws_get_auto_scaling_instances.py'}, {'root': 'AWS', 'filename': 'aws_get_bucket_size.py'}, {'root': 'AWS', 'filename': 'aws_get_cloudwatch_ebs.py'}, {'root': 'AWS', 'filename': 'aws_get_cloudwatch_ec2.py'}, {'root': 'AWS', 'filename': 'aws_get_cloudwatch_ec2_cpuutil.py'}, {'root': 'AWS', 'filename': 'aws_get_cloudwatch_metrics_applicationelb.py'}, {'root': 'AWS', 'filename': 'aws_get_cloudwatch_metrics_classic_elb.py'}, {'root': 'AWS', 'filename': 'aws_get_cloudwatch_metrics_dynamodb.py'}, {'root': 'AWS', 'filename': 'aws_get_cloudwatch_metrics_ec2autoscaling.py'}, {'root': 'AWS', 'filename': 'aws_get_cloudwatch_metrics_gatewayelb.py'}, {'root': 'AWS', 'filename': 'aws_get_cloudwatch_metrics_lambda.py'}, {'root': 'AWS', 'filename': 'aws_get_cloudwatch_metrics_network_elb.py'}, {'root': 'AWS', 'filename': 'aws_get_cloudwatch_metrics_rds.py'}, {'root': 'AWS', 'filename': 'aws_get_cloudwatch_metrics_redshift.py'}, {'root': 'AWS', 'filename': 'aws_get_cloudwatch_metrics_sqs.py'}, {'root': 'AWS', 'filename': 'aws_get_cloudwatch_statistics.py'}, {'root': 'AWS', 'filename': 'aws_get_ec2_cpu_consumption.py'}, {'root': 'AWS', 'filename': 'aws_get_ec2_data_traffic.py'}, {'root': 'AWS', 'filename': 'aws_get_ec2_instance_age.py'}, {'root': 'AWS', 'filename': 'aws_get_ecs_services_status.py'}, {'root': 'AWS', 'filename': 'aws_get_handle.py'}, {'root': 'AWS', 'filename': 'aws_get_instance_detail_with_private_dns_name.py'}, {'root': 'AWS', 'filename': 'aws_get_instance_details.py'}, {'root': 'AWS', 'filename': 'aws_get_instances.py'}, {'root': 'AWS', 'filename': 'aws_get_internet_gateway_by_vpc.py'}, {'root': 'AWS', 'filename': 'aws_get_nat_gateway_by_vpc.py'}, {'root': 'AWS', 'filename': 'aws_get_private_address_from_nat_gateways.py'}, {'root': 'AWS', 'filename': 'aws_get_public_ec2_instances.py'}, {'root': 'AWS', 'filename': 'aws_get_publicly_accessible_db_instances.py'}, {'root': 'AWS', 'filename': 'aws_get_publicly_accessible_db_snapshots.py'}, {'root': 'AWS', 'filename': 'aws_get_redshift_query_details.py'}, {'root': 'AWS', 'filename': 'aws_get_redshift_result.py'}, {'root': 'AWS', 'filename': 'aws_get_s3_buckets.py'}, {'root': 'AWS', 'filename': 'aws_get_schedule_to_retire_instances.py'}, {'root': 'AWS', 'filename': 'aws_get_secret_from_secretmanager.py'}, {'root': 'AWS', 'filename': 'aws_get_secrets_manager_secret.py'}, {'root': 'AWS', 'filename': 'aws_get_secrets_manager_secretARN.py'}, {'root': 'AWS', 'filename': 'aws_get_security_group_details.py'}, {'root': 'AWS', 'filename': 'aws_get_service_quota_details.py'}, {'root': 'AWS', 'filename': 'aws_get_service_quotas.py'}, {'root': 'AWS', 'filename': 'aws_get_sts_caller_identity.py'}, {'root': 'AWS', 'filename': 'aws_get_tags_of_all_resources.py'}, {'root': 'AWS', 'filename': 'aws_get_unhealthy_instances.py'}, {'root': 'AWS', 'filename': 'aws_get_unhealthy_instances_from_elb.py'}, {'root': 'AWS', 'filename': 'aws_get_users_with_old_access_keys.py'}, {'root': 'AWS', 'filename': 'aws_launch_instance_from_ami.py'}, {'root': 'AWS', 'filename': 'aws_list_access_keys.py'}, {'root': 'AWS', 'filename': 'aws_list_all_iam_users.py'}, {'root': 'AWS', 'filename': 'aws_list_all_regions.py'}, {'root': 'AWS', 'filename': 'aws_list_application_loadbalancers.py'}, {'root': 'AWS', 'filename': 'aws_list_attached_user_policies.py'}, {'root': 'AWS', 'filename': 'aws_list_expiring_access_keys.py'}, {'root': 'AWS', 'filename': 'aws_list_expiring_acm_certificates.py'}, {'root': 'AWS', 'filename': 'aws_list_unattached_elastic_ips.py'}, {'root': 'AWS', 'filename': 'aws_list_unhealthy_instances_in_target_group.py'}, {'root': 'AWS', 'filename': 'aws_list_users_with_old_passwords.py'}, {'root': 'AWS', 'filename': 'aws_loadbalancer_list_instances.py'}, {'root': 'AWS', 'filename': 'aws_make_bucket_public.py'}, {'root': 'AWS', 'filename': 'aws_modify_ebs_volume_to_gp3.py'}, {'root': 'AWS', 'filename': 'aws_modify_listener_for_http_redirection.py'}, {'root': 'AWS', 'filename': 'aws_modify_public_db_snapshots.py'}, {'root': 'AWS', 'filename': 'aws_postgresql_get_configured_max_connections.py'}, {'root': 'AWS', 'filename': 'aws_postgresql_plot_active_connections.py'}, {'root': 'AWS', 'filename': 'aws_put_bucket_cors.py'}, {'root': 'AWS', 'filename': 'aws_put_bucket_policy.py'}, {'root': 'AWS', 'filename': 'aws_read_object.py'}, {'root': 'AWS', 'filename': 'aws_register_instances.py'}, {'root': 'AWS', 'filename': 'aws_renew_expiring_acm_certificates.py'}, {'root': 'AWS', 'filename': 'aws_request_service_quota_increase.py'}, {'root': 'AWS', 'filename': 'aws_restart_ec2_instances.py'}, {'root': 'AWS', 'filename': 'aws_run_instances.py'}, {'root': 'AWS', 'filename': 'aws_stop_instances.py'}, {'root': 'AWS', 'filename': 'aws_target_group_list_instances.py'}, {'root': 'AWS', 'filename': 'aws_target_group_list_unhealthy_instances.py'}, {'root': 'AWS', 'filename': 'aws_target_group_register_unregister_instances.py'}, {'root': 'AWS', 'filename': 'aws_terminate_ec2_instances.py'}, {'root': 'AWS', 'filename': 'aws_update_access_key.py'}, {'root': 'AWS', 'filename': 'aws_upload_file_to_s3.py'}, {'root': 'AWS', 'filename': 'aws_vpc_service_quota_warning.py'}, {'root': 'Airflow', 'filename': 'airflow_check_dag_status.py'}, {'root': 'Airflow', 'filename': 'airflow_get_handle.py'}, {'root': 'Airflow', 'filename': 'airflow_list_DAG_runs.py'}, {'root': 'Airflow', 'filename': 'airflow_trigger_dag_run.py'}, {'root': 'Azure', 'filename': 'azure_get_handle.py'}, {'root': 'Datadog', 'filename': 'datadog_delete_incident.py'}, {'root': 'Datadog', 'filename': 'datadog_get_event.py'}, {'root': 'Datadog', 'filename': 'datadog_get_handle.py'}, {'root': 'Datadog', 'filename': 'datadog_get_incident.py'}, {'root': 'Datadog', 'filename': 'datadog_get_metric_metadata.py'}, {'root': 'Datadog', 'filename': 'datadog_get_monitor.py'}, {'root': 'Datadog', 'filename': 'datadog_get_monitorid.py'}, {'root': 'Datadog', 'filename': 'datadog_list_active_metrics.py'}, {'root': 'Datadog', 'filename': 'datadog_list_all_monitors.py'}, {'root': 'Datadog', 'filename': 'datadog_list_metrics.py'}, {'root': 'Datadog', 'filename': 'datadog_mute_or_unmute_alerts.py'}, {'root': 'Datadog', 'filename': 'datadog_query_metrics.py'}, {'root': 'Datadog', 'filename': 'datadog_schedule_downtime.py'}, {'root': 'Datadog', 'filename': 'datadog_search_monitors.py'}, {'root': 'ElasticSearch', 'filename': 'elasticsearch_check_health_status.py'}, {'root': 'ElasticSearch', 'filename': 'elasticsearch_cluster_statistics.py'}, {'root': 'ElasticSearch', 'filename': 'elasticsearch_delete_unassigned_shards.py'}, {'root': 'ElasticSearch', 'filename': 'elasticsearch_disable_shard_allocation.py'}, {'root': 'ElasticSearch', 'filename': 'elasticsearch_enable_shard_allocation.py'}, {'root': 'ElasticSearch', 'filename': 'elasticsearch_get_handle.py'}, {'root': 'ElasticSearch', 'filename': 'elasticsearch_list_allocations.py'}, {'root': 'ElasticSearch', 'filename': 'elasticsearch_list_nodes.py'}, {'root': 'ElasticSearch', 'filename': 'elasticsearch_search_query.py'}, {'root': 'GCP', 'filename': 'gcp_add_member_to_iam_role.py'}, {'root': 'GCP', 'filename': 'gcp_add_role_to_service_account.py'}, {'root': 'GCP', 'filename': 'gcp_create_bucket.py'}, {'root': 'GCP', 'filename': 'gcp_create_filestore_instance.py'}, {'root': 'GCP', 'filename': 'gcp_create_gke_cluster.py'}, {'root': 'GCP', 'filename': 'gcp_create_service_account.py'}, {'root': 'GCP', 'filename': 'gcp_delete_bucket.py'}, {'root': 'GCP', 'filename': 'gcp_delete_filestore_instance.py'}, {'root': 'GCP', 'filename': 'gcp_delete_object_from_bucket.py'}, {'root': 'GCP', 'filename': 'gcp_delete_service_account.py'}, {'root': 'GCP', 'filename': 'gcp_describe_gke_cluster.py'}, {'root': 'GCP', 'filename': 'gcp_fetch_objects_from_bucket.py'}, {'root': 'GCP', 'filename': 'gcp_get_handle.py'}, {'root': 'GCP', 'filename': 'gcp_get_instances_without_label.py'}, {'root': 'GCP', 'filename': 'gcp_list_buckets.py'}, {'root': 'GCP', 'filename': 'gcp_list_compute_instances.py'}, {'root': 'GCP', 'filename': 'gcp_list_compute_instances_by_label.py'}, {'root': 'GCP', 'filename': 'gcp_list_compute_instances_by_vpc.py'}, {'root': 'GCP', 'filename': 'gcp_list_gke_cluster.py'}, {'root': 'GCP', 'filename': 'gcp_list_nodes_in_gke_cluster.py'}, {'root': 'GCP', 'filename': 'gcp_list_public_buckets.py'}, {'root': 'GCP', 'filename': 'gcp_list_secrets.py'}, {'root': 'GCP', 'filename': 'gcp_list_service_accounts.py'}, {'root': 'GCP', 'filename': 'gcp_remove_member_from_iam_role.py'}, {'root': 'GCP', 'filename': 'gcp_remove_role_from_service_account.py'}, {'root': 'GCP', 'filename': 'gcp_remove_user_role.py'}, {'root': 'GCP', 'filename': 'gcp_resize_gke_cluster.py'}, {'root': 'GCP', 'filename': 'gcp_restart_compute_instances.py'}, {'root': 'GCP', 'filename': 'gcp_save_csv_to_google_sheets_v1.py'}, {'root': 'GCP', 'filename': 'gcp_stop_compute_instances.py'}, {'root': 'GCP', 'filename': 'gcp_upload_file_to_bucket.py'}, {'root': 'Github', 'filename': 'github_check_if_pull_request_is_merged.py'}, {'root': 'Github', 'filename': 'github_count_stars.py'}, {'root': 'Github', 'filename': 'github_create_issue.py'}, {'root': 'Github', 'filename': 'github_create_team.py'}, {'root': 'Github', 'filename': 'github_delete_branch.py'}, {'root': 'Github', 'filename': 'github_get_branch.py'}, {'root': 'Github', 'filename': 'github_get_handle.py'}, {'root': 'Github', 'filename': 'github_get_pull_request.py'}, {'root': 'Github', 'filename': 'github_get_team.py'}, {'root': 'Github', 'filename': 'github_get_user.py'}, {'root': 'Github', 'filename': 'github_invite_user_to_org.py'}, {'root': 'Github', 'filename': 'github_issue_comment.py'}, {'root': 'Github', 'filename': 'github_list_open_issues.py'}, {'root': 'Github', 'filename': 'github_list_pull_request_commits.py'}, {'root': 'Github', 'filename': 'github_list_pull_request_reviewers.py'}, {'root': 'Github', 'filename': 'github_list_pull_requests.py'}, {'root': 'Github', 'filename': 'github_list_stale_issues.py'}, {'root': 'Github', 'filename': 'github_list_stale_pull_requests.py'}, {'root': 'Github', 'filename': 'github_list_stargazers.py'}, {'root': 'Github', 'filename': 'github_list_team_members.py'}, {'root': 'Github', 'filename': 'github_list_team_repos.py'}, {'root': 'Github', 'filename': 'github_list_webhooks.py'}, {'root': 'Github', 'filename': 'github_merge_pull_request.py'}, {'root': 'Github', 'filename': 'github_remove_member_from_org.py'}, {'root': 'Grafana', 'filename': 'grafana_get_handle.py'}, {'root': 'Grafana', 'filename': 'grafana_list_alerts.py'}, {'root': 'Hadoop', 'filename': 'hadoop_get_cluster_apps.py'}, {'root': 'Hadoop', 'filename': 'hadoop_get_cluster_appstatistics.py'}, {'root': 'Hadoop', 'filename': 'hadoop_get_cluster_metrics.py'}, {'root': 'Hadoop', 'filename': 'hadoop_get_cluster_nodes.py'}, {'root': 'Hadoop', 'filename': 'hadoop_get_handle.py'}, {'root': 'Jenkins', 'filename': 'jenkins_get_handle.py'}, {'root': 'Jenkins', 'filename': 'jenkins_get_logs.py'}, {'root': 'Jenkins', 'filename': 'jenkins_get_plugins.py'}, {'root': 'Jira', 'filename': 'jira_add_comment.py'}, {'root': 'Jira', 'filename': 'jira_assign_issue.py'}, {'root': 'Jira', 'filename': 'jira_create_issue.py'}, {'root': 'Jira', 'filename': 'jira_get_handle.py'}, {'root': 'Jira', 'filename': 'jira_get_issue.py'}, {'root': 'Jira', 'filename': 'jira_get_issue_status.py'}, {'root': 'Jira', 'filename': 'jira_issue_change_status.py'}, {'root': 'Jira', 'filename': 'jira_search_issue.py'}, {'root': 'Kafka', 'filename': 'kafka_get_handle.py'}, {'root': 'Kafka', 'filename': 'kafka_publish_message.py'}, {'root': 'Kafka', 'filename': 'kafka_run_command.py'}, {'root': 'Kubernetes', 'filename': 'k8s_add_node_to_cluster.py'}, {'root': 'Kubernetes', 'filename': 'k8s_change_pvc_size.py'}, {'root': 'Kubernetes', 'filename': 'k8s_delete_pod.py'}, {'root': 'Kubernetes', 'filename': 'k8s_describe_node.py'}, {'root': 'Kubernetes', 'filename': 'k8s_describe_pod.py'}, {'root': 'Kubernetes', 'filename': 'k8s_exec_command_on_pod.py'}, {'root': 'Kubernetes', 'filename': 'k8s_exec_command_on_pods_and_filter.py'}, {'root': 'Kubernetes', 'filename': 'k8s_get_all_evicted_pods_from_namespace.py'}, {'root': 'Kubernetes', 'filename': 'k8s_get_all_pods.py'}, {'root': 'Kubernetes', 'filename': 'k8s_get_candidate_nodes_for_pods.py'}, {'root': 'Kubernetes', 'filename': 'k8s_get_config_map_kube_system.py'}, {'root': 'Kubernetes', 'filename': 'k8s_get_deployment.py'}, {'root': 'Kubernetes', 'filename': 'k8s_get_deployment_rollout_status.py'}, {'root': 'Kubernetes', 'filename': 'k8s_get_deployment_status.py'}, {'root': 'Kubernetes', 'filename': 'k8s_get_handle.py'}, {'root': 'Kubernetes', 'filename': 'k8s_get_healthy_pods.py'}, {'root': 'Kubernetes', 'filename': 'k8s_get_nodes.py'}, {'root': 'Kubernetes', 'filename': 'k8s_get_pod_config.py'}, {'root': 'Kubernetes', 'filename': 'k8s_get_pod_logs.py'}, {'root': 'Kubernetes', 'filename': 'k8s_get_pod_logs_and_filter.py'}, {'root': 'Kubernetes', 'filename': 'k8s_get_pod_status.py'}, {'root': 'Kubernetes', 'filename': 'k8s_get_pods_attached_to_pvc.py'}, {'root': 'Kubernetes', 'filename': 'k8s_get_pods_in_crashloopbackoff_state.py'}, {'root': 'Kubernetes', 'filename': 'k8s_get_pods_in_imagepullbackoff_state.py'}, {'root': 'Kubernetes', 'filename': 'k8s_get_pods_in_terminating_state.py'}, {'root': 'Kubernetes', 'filename': 'k8s_get_services.py'}, {'root': 'Kubernetes', 'filename': 'k8s_kubectl_command.py'}, {'root': 'Kubernetes', 'filename': 'k8s_kubectl_config_set_context.py'}, {'root': 'Kubernetes', 'filename': 'k8s_kubectl_config_view.py'}, {'root': 'Kubernetes', 'filename': 'k8s_kubectl_delete_pod.py'}, {'root': 'Kubernetes', 'filename': 'k8s_kubectl_describe_node.py'}, {'root': 'Kubernetes', 'filename': 'k8s_kubectl_describe_pod.py'}, {'root': 'Kubernetes', 'filename': 'k8s_kubectl_drain_node.py'}, {'root': 'Kubernetes', 'filename': 'k8s_kubectl_exec_command.py'}, {'root': 'Kubernetes', 'filename': 'k8s_kubectl_get_api_resources.py'}, {'root': 'Kubernetes', 'filename': 'k8s_kubectl_get_logs.py'}, {'root': 'Kubernetes', 'filename': 'k8s_kubectl_get_service_namespace.py'}, {'root': 'Kubernetes', 'filename': 'k8s_kubectl_list_pods.py'}, {'root': 'Kubernetes', 'filename': 'k8s_kubectl_patch_pod.py'}, {'root': 'Kubernetes', 'filename': 'k8s_kubectl_rollout_deployment.py'}, {'root': 'Kubernetes', 'filename': 'k8s_kubectl_scale_deployment.py'}, {'root': 'Kubernetes', 'filename': 'k8s_kubectl_show_metrics_node.py'}, {'root': 'Kubernetes', 'filename': 'k8s_kubectl_show_metrics_pod.py'}, {'root': 'Kubernetes', 'filename': 'k8s_list_all_matching_pods.py'}, {'root': 'Kubernetes', 'filename': 'k8s_list_pvcs.py'}, {'root': 'Kubernetes', 'filename': 'k8s_update_command_in_pod_spec.py'}, {'root': 'Mantishub', 'filename': 'mantishub_get_handle.py'}, {'root': 'Mongo', 'filename': 'mongodb_add_new_field_in_collections.py'}, {'root': 'Mongo', 'filename': 'mongodb_aggregate_command.py'}, {'root': 'Mongo', 'filename': 'mongodb_atlas_cluster_backup.py'}, {'root': 'Mongo', 'filename': 'mongodb_count_documents.py'}, {'root': 'Mongo', 'filename': 'mongodb_create_collection.py'}, {'root': 'Mongo', 'filename': 'mongodb_create_database.py'}, {'root': 'Mongo', 'filename': 'mongodb_delete_collection.py'}, {'root': 'Mongo', 'filename': 'mongodb_delete_database.py'}, {'root': 'Mongo', 'filename': 'mongodb_delete_document.py'}, {'root': 'Mongo', 'filename': 'mongodb_distinct_command.py'}, {'root': 'Mongo', 'filename': 'mongodb_find_document.py'}, {'root': 'Mongo', 'filename': 'mongodb_find_one.py'}, {'root': 'Mongo', 'filename': 'mongodb_get_handle.py'}, {'root': 'Mongo', 'filename': 'mongodb_get_server_status.py'}, {'root': 'Mongo', 'filename': 'mongodb_insert_document.py'}, {'root': 'Mongo', 'filename': 'mongodb_kill_queries.py'}, {'root': 'Mongo', 'filename': 'mongodb_list_collections.py'}, {'root': 'Mongo', 'filename': 'mongodb_list_databases.py'}, {'root': 'Mongo', 'filename': 'mongodb_list_queries.py'}, {'root': 'Mongo', 'filename': 'mongodb_read_query.py'}, {'root': 'Mongo', 'filename': 'mongodb_remove_field_in_collections.py'}, {'root': 'Mongo', 'filename': 'mongodb_rename_database.py'}, {'root': 'Mongo', 'filename': 'mongodb_update_document.py'}, {'root': 'Mongo', 'filename': 'mongodb_write_query.py'}, {'root': 'MsSQL', 'filename': 'mssql_get_handle.py'}, {'root': 'MsSQL', 'filename': 'mssql_read_query.py'}, {'root': 'MsSQL', 'filename': 'mssql_write_query.py'}, {'root': 'MySQL', 'filename': 'mysql_get_handle.py'}, {'root': 'MySQL', 'filename': 'mysql_get_long_run_queries.py'}, {'root': 'MySQL', 'filename': 'mysql_kill_query.py'}, {'root': 'MySQL', 'filename': 'mysql_read_query.py'}, {'root': 'MySQL', 'filename': 'mysql_write_query.py'}, {'root': 'Pingdom', 'filename': 'pingdom_create_new_maintenance_window.py'}, {'root': 'Pingdom', 'filename': 'pingdom_do_single_check.py'}, {'root': 'Pingdom', 'filename': 'pingdom_get_analysis.py'}, {'root': 'Pingdom', 'filename': 'pingdom_get_checkids.py'}, {'root': 'Pingdom', 'filename': 'pingdom_get_checkids_by_name.py'}, {'root': 'Pingdom', 'filename': 'pingdom_get_handle.py'}, {'root': 'Pingdom', 'filename': 'pingdom_get_maintenance.py'}, {'root': 'Pingdom', 'filename': 'pingdom_get_results.py'}, {'root': 'Pingdom', 'filename': 'pingdom_get_tmscheck.py'}, {'root': 'Pingdom', 'filename': 'pingdom_pause_or_unpause_checkids.py'}, {'root': 'Pingdom', 'filename': 'pingdom_traceroute.py'}, {'root': 'Postgresql', 'filename': 'postgres_calculate_bloat.py'}, {'root': 'Postgresql', 'filename': 'postgresql_call_function.py'}, {'root': 'Postgresql', 'filename': 'postgresql_check_unused_indexes.py'}, {'root': 'Postgresql', 'filename': 'postgresql_create_table.py'}, {'root': 'Postgresql', 'filename': 'postgresql_delete_query.py'}, {'root': 'Postgresql', 'filename': 'postgresql_get_cache_hit_ratio.py'}, {'root': 'Postgresql', 'filename': 'postgresql_get_handle.py'}, {'root': 'Postgresql', 'filename': 'postgresql_get_index_usage.py'}, {'root': 'Postgresql', 'filename': 'postgresql_handling_transaction.py'}, {'root': 'Postgresql', 'filename': 'postgresql_long_running_queries.py'}, {'root': 'Postgresql', 'filename': 'postgresql_read_query.py'}, {'root': 'Postgresql', 'filename': 'postgresql_show_tables.py'}, {'root': 'Postgresql', 'filename': 'postgresql_stored_procedures.py'}, {'root': 'Postgresql', 'filename': 'postgresql_write_query.py'}, {'root': 'Prometheus', 'filename': 'prometheus_alerts_list.py'}, {'root': 'Prometheus', 'filename': 'prometheus_get_all_metrics.py'}, {'root': 'Prometheus', 'filename': 'prometheus_get_handle.py'}, {'root': 'Prometheus', 'filename': 'prometheus_get_metric_statistics.py'}, {'root': 'Redis', 'filename': 'redis_delete_all_keys.py'}, {'root': 'Redis', 'filename': 'redis_delete_keys.py'}, {'root': 'Redis', 'filename': 'redis_delete_stale_keys.py'}, {'root': 'Redis', 'filename': 'redis_get_handle.py'}, {'root': 'Redis', 'filename': 'redis_get_keys_count.py'}, {'root': 'Redis', 'filename': 'redis_list_large_keys.py'}, {'root': 'Rest', 'filename': 'rest_get_handle.py'}, {'root': 'Rest', 'filename': 'rest_methods.py'}, {'root': 'SSH', 'filename': 'ssh_execute_remote_command.py'}, {'root': 'SSH', 'filename': 'ssh_find_large_files.py'}, {'root': 'SSH', 'filename': 'ssh_get_handle.py'}, {'root': 'SSH', 'filename': 'ssh_restart_service_using_sysctl.py'}, {'root': 'SSH', 'filename': 'ssh_scp.py'}, {'root': 'SalesForce', 'filename': 'salesforce_assign_case.py'}, {'root': 'SalesForce', 'filename': 'salesforce_case_change_status.py'}, {'root': 'SalesForce', 'filename': 'salesforce_create_case.py'}, {'root': 'SalesForce', 'filename': 'salesforce_delete_case.py'}, {'root': 'SalesForce', 'filename': 'salesforce_get_case.py'}, {'root': 'SalesForce', 'filename': 'salesforce_get_case_status.py'}, {'root': 'SalesForce', 'filename': 'salesforce_get_handle.py'}, {'root': 'SalesForce', 'filename': 'salesforce_search_case.py'}, {'root': 'SalesForce', 'filename': 'salesforce_update_case.py'}, {'root': 'Slack', 'filename': 'slack_get_handle.py'}, {'root': 'Slack', 'filename': 'slack_post_image.py'}, {'root': 'Slack', 'filename': 'slack_post_message.py'}, {'root': 'Snowflake', 'filename': 'snowflake_read_query.py'}, {'root': 'Snowflake', 'filename': 'snowflake_write_query.py'}, {'root': 'Splunk', 'filename': 'splunk_get_handle.py'}, {'root': 'Stripe', 'filename': 'stripe_capture_charge.py'}, {'root': 'Stripe', 'filename': 'stripe_close_dispute.py'}, {'root': 'Stripe', 'filename': 'stripe_create_charge.py'}, {'root': 'Stripe', 'filename': 'stripe_create_refund.py'}, {'root': 'Stripe', 'filename': 'stripe_get_all_charges.py'}, {'root': 'Stripe', 'filename': 'stripe_get_all_disputes.py'}, {'root': 'Stripe', 'filename': 'stripe_get_all_refunds.py'}, {'root': 'Stripe', 'filename': 'stripe_get_handle.py'}, {'root': 'Stripe', 'filename': 'stripe_retrieve_dispute.py'}, {'root': 'Stripe', 'filename': 'stripe_retrieve_refund.py'}, {'root': 'Stripe', 'filename': 'stripe_retrive_charge.py'}, {'root': 'Stripe', 'filename': 'stripe_update_charge.py'}, {'root': 'Stripe', 'filename': 'stripe_update_dispute.py'}, {'root': 'Stripe', 'filename': 'stripe_update_refund.py'}, {'root': 'Terraform', 'filename': 'terraform_exec_command.py'}, {'root': 'Terraform', 'filename': 'terraform_get_handle.py'}, {'root': 'Zabbix', 'filename': 'zabbix_get_handle.py'}, {'root': 'infra', 'filename': 'workflow_done.py'}, {'root': 'infra', 'filename': 'workflow_ss_append_keys.py'}, {'root': 'infra', 'filename': 'workflow_ss_create_keys.py'}, {'root': 'infra', 'filename': 'workflow_ss_delete_keys.py'}, {'root': 'infra', 'filename': 'workflow_ss_get_keys.py'}, {'root': 'infra', 'filename': 'workflow_ss_rename_keys.py'}, {'root': 'infra', 'filename': 'workflow_ss_update_keys.py'}, {'root': 'opensearch', 'filename': 'opensearch_get_handle.py'}, {'root': 'opensearch', 'filename': 'opensearch_search.py'}, {'root': 'unskript-ctl', 'filename': 'db_utils.py'}, {'root': 'unskript-ctl', 'filename': 'unskript-client.py'}]\n"
     ]
    }
   ],
   "source": [
    "repo = Repo('.')\n",
    "branch = repo.active_branch\n",
    "list_of_dir = f\"https://api.github.com/repos/unskript/Awesome-CloudOps-Automation/git/trees/{branch.name}?recursive=1\"\n",
    "r_gh = requests.get(list_of_dir).json().get(\"tree\")\n",
    "notebooks = []\n",
    "actions=[]\n",
    "actionCount = 0\n",
    "runBookCount = 0\n",
    "if r_gh is not None:\n",
    "    for file in r_gh:\n",
    "        #only look at files we care about - ignore some of the directories that we don't need to scan\n",
    "        if \".github\" not in file.get(\"path\") and \".gitignore\" not in file.get(\"path\") and \"templates\" not in file.get(\"path\") and \"/\" in file.get(\"path\")and \"__init__\" not in file.get(\"path\") and \"custom\" not in file.get(\"path\"):\n",
    "            #runbooks are .ipynb, and actions are .py\n",
    "            if file.get(\"path\").endswith(\".ipynb\") or file.get(\"path\").endswith(\".py\"):\n",
    "                temp = file.get(\"path\").split(\"/\")\n",
    "                if temp == -1:\n",
    "                    data = {\n",
    "                        \"root\": None,\n",
    "                        \"filename\": file.get(\"path\")\n",
    "                    }\n",
    "                    notebooks.append(data)\n",
    "                    \n",
    "                else:\n",
    "                    last_folder = \"\"\n",
    "                    file_name = temp[-1]\n",
    "                    temp.pop()\n",
    "                    for folder in temp:\n",
    "                        last_folder += \"/\" + folder\n",
    "                    ##we now have a path.. but only really need the root folder\n",
    "                    ## different ways to generate fior action vs runbook\n",
    "                    slashcount  = last_folder.count(\"/\")\n",
    "                    if slashcount == 1:\n",
    "                        ##root folder for notebooks\n",
    "                        root = last_folder[1:]\n",
    "                    else:\n",
    "                        #this is an action folder\n",
    "                        #find first slash\n",
    "                        firstslash = last_folder.find(\"/\",1)\n",
    "                        root = last_folder[1:firstslash]\n",
    "                    \n",
    "                    data = {\n",
    "                        \"root\": root,\n",
    "                        \"filename\": file_name\n",
    "                    }\n",
    "                    if(file.get(\"path\").endswith(\".ipynb\")):\n",
    "                        notebooks.append(data)\n",
    "                    else:\n",
    "                        actions.append(data)\n",
    "            #now extract \n",
    "            elif:\n",
    "print(notebooks)\n",
    "\n",
    "print(actions)"
   ]
  },
  {
   "cell_type": "markdown",
   "id": "d76baf36-56c4-49f9-93e8-00889b174845",
   "metadata": {},
   "source": [
    "## Model"
   ]
  },
  {
   "cell_type": "markdown",
   "id": "dc0096b6-53ab-4738-b589-b4c7018b349b",
   "metadata": {},
   "source": [
    "### Reformat functions"
   ]
  },
  {
   "cell_type": "code",
   "execution_count": null,
   "id": "abb4dd05-cc19-4b8a-b65d-b5a509425ed8",
   "metadata": {
    "execution": {
     "iopub.execute_input": "2023-03-24T05:19:54.009887Z",
     "iopub.status.busy": "2023-03-24T05:19:54.009365Z",
     "iopub.status.idle": "2023-03-24T05:19:54.014723Z",
     "shell.execute_reply": "2023-03-24T05:19:54.014142Z"
    },
    "tags": []
   },
   "outputs": [],
   "source": [
    "def reformat_file_name(file):\n",
    "    file_nice = file.replace('_', ' ')\n",
    "    file_nice = file_nice.replace('-', ' ')\n",
    "    file_nice = file_nice.replace(notebook_ext, '')\n",
    "    file_nice = file_nice.strip()\n",
    "    if (file_nice != \"\"):\n",
    "            file_nice = file_nice[0].capitalize() + file_nice[1:]\n",
    "    return file_nice"
   ]
  },
  {
   "cell_type": "markdown",
   "id": "78ec2d9e-9487-4f17-b6d0-d23f2e823701",
   "metadata": {},
   "source": [
    "### Get functions"
   ]
  },
  {
   "cell_type": "code",
   "execution_count": null,
   "id": "60f09f7c-1930-4c6b-92d0-02676447e008",
   "metadata": {
    "execution": {
     "iopub.execute_input": "2023-03-24T05:19:54.017569Z",
     "iopub.status.busy": "2023-03-24T05:19:54.017344Z",
     "iopub.status.idle": "2023-03-24T05:19:54.023496Z",
     "shell.execute_reply": "2023-03-24T05:19:54.022734Z"
    },
    "tags": []
   },
   "outputs": [],
   "source": [
    "\n",
    "#title = get_title(folder_nice, file,file_nice, github_runbook_url, local_url)\n",
    "def get_title(folder_nice, file,file_nice, github_runbook_url, local_url):\n",
    "    return f'| {folder_nice} | [{file_nice}]({github_runbook_url}) | [Open in browser]({local_url})'\n",
    "\n",
    "def get_list_item(folder_nice, file,file_nice, github_runbook_url, local_url):\n",
    "    return f'* [{file_nice}]({github_runbook_url})'    \n",
    "\n",
    "def create_directory_readme(folder_nice, runbook_list):\n",
    "    # Open README template\n",
    "    #template = open(directory_readme_template).read()\n",
    "    \n",
    "    #directory readme name\n",
    "    directory_readme = f\"{folder_nice}/README.md\"\n",
    "    print(\"directory_readme\", directory_readme)\n",
    "    template_header = f\"<img align=\\\"center\\\" src=\\\"https://unskript.com/assets/favicon.png\\\" width=\\\"100\\\" height=\\\"100\\\" style=\\\"padding: 5px\\\">\"    \n",
    "    template = f\"{template_header}\\n\\n # {folder_nice} xRunBooks\\n\\n{runbook_list}\"\n",
    "    print(template)\n",
    "    \n",
    "    # Save README\n",
    "    f  = open(directory_readme, \"w+\")\n",
    "    f.write(template)\n",
    "    f.close()\n",
    "    \n",
    "def append_directory_readme(folder_nice, action_list):\n",
    "    \n",
    "    ##actions are written in a second loop - so append the readme - if it has the term xrunbook in it.\n",
    "    #if there is no \"xRunBook\" - then this direcory only has actions and should overwrite the entire file\n",
    "    \n",
    "    # Open README (created with runbook list)\n",
    "    #directory readme name\n",
    "    directory_readme = f\"{folder_nice}/README.md\"\n",
    "    template = open(directory_readme).read()\n",
    "    print(\"directory_readme\", directory_readme)\n",
    "    \n",
    "    if \"xRunBook\" in template:\n",
    "        #we append the file\n",
    "        ##now let's append in the Action list\n",
    "        template = template + f\"\\n\\n # {folder_nice} Actions \\n\\n{action_list}\"\n",
    "    else:\n",
    "        #this file has no runbook data, so overwrite the file\n",
    "        template =  f\"\\n\\n # {folder_nice} Actions \\n\\n{action_list}\"\n",
    "    print(template)\n",
    "    \n",
    "    # Save README\n",
    "    f  = open(directory_readme, \"w+\")\n",
    "    f.write(template)\n",
    "    f.close()"
   ]
  },
  {
   "cell_type": "markdown",
   "id": "infrared-destiny",
   "metadata": {
    "execution": {
     "iopub.execute_input": "2021-01-26T16:25:51.412411Z",
     "iopub.status.busy": "2021-01-26T16:25:51.412178Z",
     "iopub.status.idle": "2021-01-26T16:25:51.414944Z",
     "shell.execute_reply": "2021-01-26T16:25:51.414298Z",
     "shell.execute_reply.started": "2021-01-26T16:25:51.412388Z"
    }
   },
   "source": [
    "### Convert filepath in Markdown text"
   ]
  },
  {
   "cell_type": "code",
   "execution_count": null,
   "id": "devoted-syracuse",
   "metadata": {
    "execution": {
     "iopub.execute_input": "2023-03-24T05:19:54.026704Z",
     "iopub.status.busy": "2023-03-24T05:19:54.026467Z",
     "iopub.status.idle": "2023-03-24T05:19:54.032841Z",
     "shell.execute_reply": "2023-03-24T05:19:54.032188Z"
    },
    "tags": []
   },
   "outputs": [],
   "source": [
    "def get_file_md(folder_nice, folder_url, files):\n",
    "    good_format = 0\n",
    "    final_title = \"\"\n",
    "    md = \"\"\n",
    "    folder_name = \"\"\n",
    "    tool_name = \"\"\n",
    "    tool_title = \"\"\n",
    "\n",
    "    if (len(files) > 0):\n",
    "       # md += f\"\\n{title_sep} {folder_nice}\\n\"\n",
    "        for file in files:\n",
    "            #for jupyter runbooks\n",
    "            if file.endswith(notebook_ext):\n",
    "                good_format = 0\n",
    "                file_url = urllib.parse.quote(file)\n",
    "                folder_name = folder_nice\n",
    "                temp = folder_name.split(\"_\")\n",
    "                tool_name = temp[0]\n",
    "                file_nice = reformat_file_name(file)\n",
    "                \n",
    "                #create the localhost url by combining the root with the file name\n",
    "                local_url= f\"{local_OSS_url}/{file_url}\"\n",
    "                github_runbook_url = f\"{github_url}/{folder_name}/{file_url}\"\n",
    "                \n",
    "                title = f\"{get_title(folder_nice, file, file_nice, github_runbook_url, local_url)}\\n\"\n",
    "                \n",
    "                md += title\n",
    "                global runBookCount\n",
    "                runBookCount = runBookCount + 1\n",
    "                print(\"counted a runbook\")\n",
    "            #for actions - they end in .py\n",
    "            if file.endswith(\".py\"):\n",
    "                good_format = 0\n",
    "                file_url = urllib.parse.quote(file)\n",
    "                action_folder = file_url[:-3]\n",
    "                folder_name = folder_nice\n",
    "                temp = folder_name.split(\"_\")\n",
    "                tool_name = temp[0]\n",
    "                file_nice = reformat_file_name(file)\n",
    "                    \n",
    "                #remove the \"local url\": there is no concept of local actions\n",
    "            \n",
    "                github_action_url = f\"{github_url}/{folder_name}/legos/{action_folder}\"\n",
    "             \n",
    "                title = f\"* [{file_nice}]({github_action_url}) \\n\"\n",
    "                \n",
    "                md += title\n",
    "                global actionCount\n",
    "                actionCount = actionCount+ 1\n",
    "    #print(\"md\", md)\n",
    "    return md"
   ]
  },
  {
   "cell_type": "code",
   "execution_count": null,
   "id": "e9b69feb",
   "metadata": {
    "execution": {
     "iopub.execute_input": "2023-03-24T05:19:54.035846Z",
     "iopub.status.busy": "2023-03-24T05:19:54.035412Z",
     "iopub.status.idle": "2023-03-24T05:19:54.040564Z",
     "shell.execute_reply": "2023-03-24T05:19:54.039784Z"
    }
   },
   "outputs": [],
   "source": [
    "def get_file_md_quote(folder_nice, folder_url, files):\n",
    "    good_format = 0\n",
    "    final_title = \"\"\n",
    "    md = \"\"\n",
    "    folder_name = \"\"\n",
    "    tool_name = \"\"\n",
    "    tool_title = \"\"\n",
    "\n",
    "    if (len(files) > 0):\n",
    "       # md += f\"\\n{title_sep} {folder_nice}\\n\"\n",
    "        for file in files:\n",
    "            if file.endswith(notebook_ext):\n",
    "                good_format = 0\n",
    "                file_url = urllib.parse.quote(file)\n",
    "                folder_name = folder_nice\n",
    "                temp = folder_name.split(\"_\")\n",
    "                tool_name = temp[0]\n",
    "                file_nice = reformat_file_name(file)\n",
    "                \n",
    "                #create the localhost url by combining the root with the file name\n",
    "                local_url= f\"{local_OSS_url}/{file_url}\"\n",
    "                github_runbook_url = f\"{github_url}/{folder_name}/{file_url}\"        \n",
    "                title = f'\"{get_title(folder_nice, file, file_nice, github_runbook_url, local_url)}\",\\n'      \n",
    "                md += title\n",
    "                \n",
    "\n",
    "   # print(\"md\", md)\n",
    "    return md"
   ]
  },
  {
   "cell_type": "markdown",
   "id": "5bf838a5",
   "metadata": {},
   "source": [
    "## get list of xRunbooks for subfolder Readme"
   ]
  },
  {
   "cell_type": "code",
   "execution_count": null,
   "id": "a19e46da",
   "metadata": {
    "execution": {
     "iopub.execute_input": "2023-03-24T05:19:54.043418Z",
     "iopub.status.busy": "2023-03-24T05:19:54.042872Z",
     "iopub.status.idle": "2023-03-24T05:19:54.048579Z",
     "shell.execute_reply": "2023-03-24T05:19:54.047946Z"
    }
   },
   "outputs": [],
   "source": [
    "def get_file_list(folder_nice, folder_url, files):\n",
    "    md = \"\"\n",
    "    folder_name = \"\"\n",
    "    tool_name = \"\"\n",
    "    tool_title = \"\"\n",
    "\n",
    "    if (len(files) > 0):\n",
    "        for file in files:\n",
    "            if file.endswith(notebook_ext):\n",
    "                good_format = 0\n",
    "                file_url = urllib.parse.quote(file)\n",
    "                folder_name = folder_nice\n",
    "                temp = folder_name.split(\"_\")\n",
    "                tool_name = temp[0]\n",
    "                file_nice = reformat_file_name(file)\n",
    "                \n",
    "                #create the localhost url by combining the root with the file name\n",
    "                local_url= f\"{local_OSS_url}/{file_url}\"\n",
    "                github_runbook_url = f\"{github_url}/{folder_name}/{file_url}\"\n",
    "                \n",
    "                list_item = f\"* [{file_nice}]({github_runbook_url})\\n\"\n",
    "                md += list_item\n",
    "\n",
    "   # print(\"md\", md)\n",
    "   # print(json_templates)\n",
    "    return md"
   ]
  },
  {
   "cell_type": "markdown",
   "id": "c5170245",
   "metadata": {},
   "source": [
    "## get list of Actions for subfolder Readme"
   ]
  },
  {
   "cell_type": "code",
   "execution_count": null,
   "id": "a05518d8",
   "metadata": {
    "execution": {
     "iopub.execute_input": "2023-03-24T05:19:54.051512Z",
     "iopub.status.busy": "2023-03-24T05:19:54.051068Z",
     "iopub.status.idle": "2023-03-24T05:19:54.056095Z",
     "shell.execute_reply": "2023-03-24T05:19:54.055519Z"
    }
   },
   "outputs": [],
   "source": [
    "def get_action_list(folder_nice, files):\n",
    "    md = \"\"\n",
    "    folder_name = \"\"\n",
    "    tool_name = \"\"\n",
    "    tool_title = \"\"\n",
    "\n",
    "    if (len(files) > 0):\n",
    "        for file in files:\n",
    "            if file.endswith(\".py\"):\n",
    "                good_format = 0\n",
    "                file_url = urllib.parse.quote(file)\n",
    "                folder_name = folder_nice\n",
    "                file_nice = reformat_file_name(file)\n",
    "                list_item = f\"* {file_nice}\\n\"\n",
    "                md += list_item\n",
    "\n",
    "   # print(\"md\", md)\n",
    "   # print(json_templates)\n",
    "    return md"
   ]
  },
  {
   "cell_type": "markdown",
   "id": "featured-anchor",
   "metadata": {},
   "source": [
    "### Generate markdown for each notebooks"
   ]
  },
  {
   "cell_type": "code",
   "execution_count": null,
   "id": "viral-cause",
   "metadata": {
    "execution": {
     "iopub.execute_input": "2023-03-24T05:19:54.058854Z",
     "iopub.status.busy": "2023-03-24T05:19:54.058499Z",
     "iopub.status.idle": "2023-03-24T05:19:54.068157Z",
     "shell.execute_reply": "2023-03-24T05:19:54.067578Z"
    },
    "tags": []
   },
   "outputs": [],
   "source": [
    "generated_list = \"\"\n",
    "generated_list_quote = \"\"\n",
    "generated_list_runbooks=\"\"\n",
    "json_templates = []\n",
    "list_of_tools = []\n",
    "index_max = len(notebooks)\n",
    "index = 0\n",
    "\n",
    "while index <= (index_max) - 1:\n",
    "    folder_nice = notebooks[index].get(\"root\")\n",
    "    if folder_nice not in list_of_tools and folder_nice != \"\":\n",
    "        #md_round is creating the table for the home readme\n",
    "        md_round = \"\"\n",
    "        md_round_quote=\"\"\n",
    "        #md_folder_readme is creating the simpler table for the subdirectory readme\n",
    "        md_folder_readme = ''\n",
    "        files = []\n",
    "        list_of_tools.append(folder_nice)\n",
    "        folder_url = urllib.parse.quote(folder_nice)\n",
    "        print(folder_nice)\n",
    "        while True:\n",
    "            if notebooks[index].get(\"root\") != folder_nice:\n",
    "                break\n",
    "            print(notebooks[index].get(\"subdir\"))\n",
    "            files.append(notebooks[index].get(\"subdir\"))\n",
    "            index += 1\n",
    "            if index == index_max:\n",
    "                break\n",
    "            \n",
    "        #create the table for the home readme\n",
    "        md_round += get_file_md(folder_nice, folder_url, files )\n",
    "        md_round_quote += get_file_md_quote(folder_nice, folder_url, files)\n",
    "            \n",
    "        #create a simple list for the subdirectory readme\n",
    "        md_folder_readme += get_file_list(folder_nice, folder_url, files)\n",
    "        #with this list - create the readme for the directory\n",
    "        create_directory_readme(folder_nice, md_folder_readme)\n",
    "    generated_list += md_round\n",
    "    generated_list_runbooks += f\"\\n\\n\\n# {folder_nice}\\n\\n {md_folder_readme}\"\n",
    "    #print(\"generated_list\",generated_list)\n",
    "    generated_list_quote += md_round_quote"
   ]
  },
  {
   "cell_type": "markdown",
   "id": "13f7cb6f",
   "metadata": {},
   "source": [
    "### Generate markdown for each Action"
   ]
  },
  {
   "cell_type": "code",
   "execution_count": null,
   "id": "5a107f60",
   "metadata": {
    "execution": {
     "iopub.execute_input": "2023-03-24T05:19:54.071116Z",
     "iopub.status.busy": "2023-03-24T05:19:54.070688Z",
     "iopub.status.idle": "2023-03-24T05:19:54.089273Z",
     "shell.execute_reply": "2023-03-24T05:19:54.088483Z"
    },
    "tags": []
   },
   "outputs": [],
   "source": [
    "generated_list_actions = \"\"\n",
    "generated_list_quote_actions = \"\"\n",
    "json_templates = []\n",
    "list_of_tools = []\n",
    "index_max = len(actions)\n",
    "index = 0\n",
    "\n",
    "while index <= (index_max) - 1:\n",
    "    folder_nice = actions[index].get(\"root\")\n",
    "    if folder_nice not in list_of_tools and folder_nice != \"\":\n",
    "        #md_round is creating the table for the home readme\n",
    "        md_round = \"\"\n",
    "        md_round_quote=\"\"\n",
    "        #md_folder_readme is creating the simpler table for the subdirectory readme\n",
    "        md_folder_readme = ''\n",
    "        files = []\n",
    "        list_of_tools.append(folder_nice)\n",
    "        folder_url = urllib.parse.quote(folder_nice)\n",
    "       # print(folder_nice)\n",
    "        while True:\n",
    "            if actions[index].get(\"root\") != folder_nice:\n",
    "                break\n",
    "      #      print(actions[index].get(\"subdir\"))\n",
    "            files.append(actions[index].get(\"subdir\"))\n",
    "            index += 1\n",
    "            if index == index_max:\n",
    "                break\n",
    "        md_round += get_file_md(folder_nice, folder_url, files )    \n",
    "        #print(\"stuff\", folder_nice, files)\n",
    "        md_folder_readme += get_action_list(folder_nice, files)\n",
    "        print(\"md_folder_readme\", md_folder_readme)\n",
    "        #with this list - create the readme for the directory\n",
    "        append_directory_readme(folder_nice, md_round)\n",
    "        generated_list_actions += f\"\\n\\n\\n# {folder_nice}\\n\\n {md_round}\"\n",
    "#print(\"generated_list_actions\\n\",generated_list_actions)\n",
    "print(f\"there are {actionCount} actions, and {runBookCount} runbooks\")"
   ]
  },
  {
   "cell_type": "markdown",
   "id": "f5d63b5f-5209-4f89-8d1c-d85fa8a2b73f",
   "metadata": {},
   "source": [
    "## Output"
   ]
  },
  {
   "cell_type": "markdown",
   "id": "aboriginal-responsibility",
   "metadata": {},
   "source": [
    "### Preview the generated list"
   ]
  },
  {
   "cell_type": "markdown",
   "id": "88e075a7-8341-45af-a250-c1594c004579",
   "metadata": {},
   "source": [
    "### Generate readme for github repository"
   ]
  },
  {
   "cell_type": "code",
   "execution_count": null,
   "id": "younger-consensus",
   "metadata": {
    "execution": {
     "iopub.execute_input": "2023-03-24T05:19:54.092518Z",
     "iopub.status.busy": "2023-03-24T05:19:54.091952Z",
     "iopub.status.idle": "2023-03-24T05:19:54.097483Z",
     "shell.execute_reply": "2023-03-24T05:19:54.096924Z"
    },
    "tags": []
   },
   "outputs": [],
   "source": [
    "# Open README template\n",
    "template = open(readme_template).read()\n",
    "\n",
    "# Replace var to get list of templates in markdown format\n",
    "template = template.replace(replace_var, generated_list)\n",
    "\n",
    "#create the action and runbook badges\n",
    "actionImage = f'https://img.shields.io/static/v1?label=ActionCount&message={actionCount}&color=green'\n",
    "runbookImage = f'https://img.shields.io/static/v1?label=xRunBookCount&message={runBookCount}&color=orange'\n",
    "actionbadge = f\"<img src={actionImage}>\"\n",
    "runbookbadge =  f\"<img src={runbookImage}>\"\n",
    "\n",
    "\n",
    "#insert the badges on the readme\n",
    "badgeCode = actionbadge + runbookbadge\n",
    "template =  template.replace(badge_var, badgeCode)\n",
    "\n",
    "# Save README\n",
    "f  = open(readme, \"w+\")\n",
    "f.write(template)\n",
    "f.close()"
   ]
  },
  {
   "cell_type": "raw",
   "id": "4c1ed44c",
   "metadata": {},
   "source": []
  },
  {
   "cell_type": "code",
   "execution_count": null,
   "id": "2a95cba3-027c-4a57-8bfa-2ee1e9053bb7",
   "metadata": {
    "execution": {
     "iopub.execute_input": "2023-03-24T05:19:54.100314Z",
     "iopub.status.busy": "2023-03-24T05:19:54.099926Z",
     "iopub.status.idle": "2023-03-24T05:19:54.104267Z",
     "shell.execute_reply": "2023-03-24T05:19:54.103703Z"
    },
    "tags": []
   },
   "outputs": [],
   "source": [
    "\n",
    "#generate a page of all the actions that are available\n",
    "action_list = readme = \"lists/Action_list.md\"\n",
    "# Save README\n",
    "f  = open(action_list, \"w+\")\n",
    "f.write(generated_list_actions)\n",
    "f.close()\n"
   ]
  },
  {
   "cell_type": "code",
   "execution_count": null,
   "id": "70db7c84-57ad-4a92-a60b-9f20b60b5329",
   "metadata": {
    "execution": {
     "iopub.execute_input": "2023-03-24T05:19:54.107082Z",
     "iopub.status.busy": "2023-03-24T05:19:54.106659Z",
     "iopub.status.idle": "2023-03-24T05:19:54.111064Z",
     "shell.execute_reply": "2023-03-24T05:19:54.110536Z"
    }
   },
   "outputs": [],
   "source": [
    "#generate a page of all the Runbooks that are available\n",
    "rb_list = readme = \"lists/xRunBook_list.md\"\n",
    "# Save README\n",
    "f  = open(rb_list, \"w+\")\n",
    "f.write(generated_list_runbooks)\n",
    "f.close()"
   ]
  },
  {
   "cell_type": "code",
   "execution_count": null,
   "id": "ee479c83",
   "metadata": {
    "execution": {
     "iopub.execute_input": "2023-03-24T05:19:54.113844Z",
     "iopub.status.busy": "2023-03-24T05:19:54.113420Z",
     "iopub.status.idle": "2023-03-24T05:19:54.118862Z",
     "shell.execute_reply": "2023-03-24T05:19:54.118355Z"
    }
   },
   "outputs": [],
   "source": [
    "#create JSON files that can be used t build badges for the website showing our Runbook and action counts\n",
    "\n",
    "import json\n",
    "#store Runbookcount json (to create shield on webpage)\n",
    "rb_list = readme = \".github/images/runbookShield.json\"\n",
    "json1 = {\"schemaVersion\": 1,\"label\": \"RunBook Count\",\"message\": runBookCount,\"color\": \"orange\"}\n",
    "\n",
    "# Save README\n",
    "\n",
    "with open(rb_list, \"w\") as outfile:\n",
    "    json.dump(json1, outfile)\n",
    "\n",
    "\n",
    "#store action count json (to create shield on webpage)\n",
    "rb_list = readme = \".github/images/actionShield.json\"\n",
    "json2 = {\"schemaVersion\": 1,\"label\": \"Action Count\",\"message\": actionCount,\"color\": \"green\"}\n",
    "\n",
    "# Save README\n",
    "with open(rb_list, \"w\") as outfile:\n",
    "    json.dump(json2, outfile)"
   ]
  },
  {
   "cell_type": "markdown",
   "id": "5ddc3a1a",
   "metadata": {},
   "source": []
  },
  {
   "cell_type": "code",
   "execution_count": null,
   "id": "0041b5a5",
   "metadata": {},
   "outputs": [],
   "source": []
  }
 ],
 "metadata": {
  "kernelspec": {
   "display_name": "Python 3 (ipykernel)",
   "language": "python",
   "name": "python3"
  },
  "language_info": {
   "codemirror_mode": {
    "name": "ipython",
    "version": 3
   },
   "file_extension": ".py",
   "mimetype": "text/x-python",
   "name": "python",
   "nbconvert_exporter": "python",
   "pygments_lexer": "ipython3",
   "version": "3.9.6"
  },
  "vscode": {
   "interpreter": {
    "hash": "31f2aee4e71d21fbe5cf8b01ff0e069b9275f58929596ceb00d14d90e3e16cd6"
   }
  },
  "widgets": {
   "application/vnd.jupyter.widget-state+json": {
    "state": {},
    "version_major": 2,
    "version_minor": 0
   }
  }
 },
 "nbformat": 4,
 "nbformat_minor": 5
}
