{
 "cells": [
  {
   "cell_type": "markdown",
   "id": "latter-teddy",
   "metadata": {},
   "source": [
    "\n",
    "# Generate Readme with up to date list of xRunBooks"
   ]
  },
  {
   "cell_type": "markdown",
   "id": "421e4c6e-d5ef-4d53-9d36-f352426c4d87",
   "metadata": {
    "execution": {
     "iopub.execute_input": "2021-10-06T11:02:41.091855Z",
     "iopub.status.busy": "2021-10-06T11:02:41.091514Z",
     "iopub.status.idle": "2021-10-06T11:02:41.099143Z",
     "shell.execute_reply": "2021-10-06T11:02:41.098565Z",
     "shell.execute_reply.started": "2021-10-06T11:02:41.091773Z"
    },
    "tags": []
   },
   "source": [
    "## Input"
   ]
  },
  {
   "cell_type": "markdown",
   "id": "e84f7e80-dda2-4569-96dd-5abaaed2c73a",
   "metadata": {},
   "source": [
    "### Import librairies"
   ]
  },
  {
   "cell_type": "code",
   "execution_count": null,
   "id": "sitting-directory",
   "metadata": {
    "execution": {
     "iopub.execute_input": "2022-11-09T16:26:59.935846Z",
     "iopub.status.busy": "2022-11-09T16:26:59.935420Z",
     "iopub.status.idle": "2022-11-09T16:27:02.492071Z",
     "shell.execute_reply": "2022-11-09T16:27:02.491026Z"
    },
    "tags": []
   },
   "outputs": [],
   "source": [
    "import os\n",
    "import requests\n",
    "import urllib.parse\n",
    "import copy\n",
    "import markdown\n",
    "import nbformat\n",
    "from nbconvert import MarkdownExporter\n",
    "from papermill.iorw import (\n",
    "    load_notebook_node,\n",
    "    write_ipynb,\n",
    ")\n",
    "try:\n",
    "    from git import Repo\n",
    "except:\n",
    "    !pip install GitPython\n",
    "    from git import Repo"
   ]
  },
  {
   "cell_type": "markdown",
   "id": "agricultural-contest",
   "metadata": {},
   "source": [
    "### Variables"
   ]
  },
  {
   "cell_type": "code",
   "execution_count": null,
   "id": "guided-edgar",
   "metadata": {
    "execution": {
     "iopub.execute_input": "2022-11-09T16:27:02.496596Z",
     "iopub.status.busy": "2022-11-09T16:27:02.496138Z",
     "iopub.status.idle": "2022-11-09T16:27:02.501395Z",
     "shell.execute_reply": "2022-11-09T16:27:02.500802Z"
    },
    "tags": []
   },
   "outputs": [],
   "source": [
    "# README variables\n",
    "readme_template = \"README_template.md\"\n",
    "readme = \"README.md\"\n",
    "replace_var = \"[[DYNAMIC_LIST]]\"\n",
    "\n",
    "# welcome variables\n",
    "#this is a TODO\n",
    "#welcome_template = \"Welcome_template.ipynb\"\n",
    "#welcome = \"Welcome.ipynb\"\n",
    "#replace_var_quote = f'\"[[DYNAMIC_LIST]]\",\\n'\n",
    "\n",
    "\n",
    "\n",
    "# Others\n",
    "current_file = '.'\n",
    "notebook_ext = '.ipynb'\n",
    "github_url = 'https://github.com/unskript/Awesome-CloudOps-Automation/tree/master'\n",
    "local_OSS_url = 'http://127.0.0.1:8888/lab/tree'\n",
    "#fix these!\n",
    "github_download_url = 'https://raw.githubusercontent.com/unskript/Awesome-CloudOps-Automation/master/'\n",
    "unSkript_logo ='https://unskript.com/assets/favicon.png'\n"
   ]
  },
  {
   "cell_type": "markdown",
   "id": "distinguished-declaration",
   "metadata": {},
   "source": [
    "### Get files list"
   ]
  },
  {
   "cell_type": "code",
   "execution_count": null,
   "id": "36c9011e-5f51-4779-8062-a627503100e1",
   "metadata": {
    "execution": {
     "iopub.execute_input": "2022-11-09T16:27:02.504354Z",
     "iopub.status.busy": "2022-11-09T16:27:02.504147Z",
     "iopub.status.idle": "2022-11-09T16:27:02.627473Z",
     "shell.execute_reply": "2022-11-09T16:27:02.626459Z"
    },
    "tags": []
   },
   "outputs": [],
   "source": [
    "repo = Repo('.')\n",
    "branch = repo.active_branch\n",
    "list_of_dir = f\"https://api.github.com/repos/unskript/Awesome-CloudOps-Automation/git/trees/{branch.name}?recursive=1\"\n",
    "r_gh = requests.get(list_of_dir).json().get(\"tree\")\n",
    "notebooks = []\n",
    "\n",
    "for file in r_gh:\n",
    "    if \".github\" not in file.get(\"path\") and \".gitignore\" not in file.get(\"path\") and \"templates\" not in file.get(\"path\") and \"/\" in file.get(\"path\"):\n",
    "        if file.get(\"path\").endswith(\".ipynb\"):\n",
    "            temp = file.get(\"path\").split(\"/\")\n",
    "            if temp == -1:\n",
    "                data = {\n",
    "                    \"root\": None,\n",
    "                    \"subdir\": file.get(\"path\")\n",
    "                }\n",
    "                notebooks.append(data)\n",
    "            else:\n",
    "                last_folder = \"\"\n",
    "                file_name = temp[-1]\n",
    "                temp.pop()\n",
    "                for folder in temp:\n",
    "                    last_folder += \"/\" + folder\n",
    "                root = last_folder[1:]\n",
    "                data = {\n",
    "                    \"root\": root,\n",
    "                    \"subdir\": file_name\n",
    "                }\n",
    "                notebooks.append(data)\n"
   ]
  },
  {
   "cell_type": "markdown",
   "id": "d76baf36-56c4-49f9-93e8-00889b174845",
   "metadata": {},
   "source": [
    "## Model"
   ]
  },
  {
   "cell_type": "markdown",
   "id": "dc0096b6-53ab-4738-b589-b4c7018b349b",
   "metadata": {},
   "source": [
    "### Reformat functions"
   ]
  },
  {
   "cell_type": "code",
   "execution_count": null,
   "id": "abb4dd05-cc19-4b8a-b65d-b5a509425ed8",
   "metadata": {
    "execution": {
     "iopub.execute_input": "2022-11-09T16:27:02.631856Z",
     "iopub.status.busy": "2022-11-09T16:27:02.631346Z",
     "iopub.status.idle": "2022-11-09T16:27:02.637630Z",
     "shell.execute_reply": "2022-11-09T16:27:02.636403Z"
    },
    "tags": []
   },
   "outputs": [],
   "source": [
    "def reformat_file_name(file):\n",
    "    file_nice = file.replace('_', ' ')\n",
    "    file_nice = file_nice.replace('-', ' ')\n",
    "    file_nice = file_nice.replace(notebook_ext, '')\n",
    "    file_nice = file_nice.strip()\n",
    "    if (file_nice != \"\"):\n",
    "            file_nice = file_nice[0].capitalize() + file_nice[1:]\n",
    "    return file_nice"
   ]
  },
  {
   "cell_type": "markdown",
   "id": "78ec2d9e-9487-4f17-b6d0-d23f2e823701",
   "metadata": {},
   "source": [
    "### Get functions"
   ]
  },
  {
   "cell_type": "code",
   "execution_count": null,
   "id": "60f09f7c-1930-4c6b-92d0-02676447e008",
   "metadata": {
    "execution": {
     "iopub.execute_input": "2022-11-09T16:27:02.640783Z",
     "iopub.status.busy": "2022-11-09T16:27:02.640455Z",
     "iopub.status.idle": "2022-11-09T16:27:02.645071Z",
     "shell.execute_reply": "2022-11-09T16:27:02.644491Z"
    },
    "tags": []
   },
   "outputs": [],
   "source": [
    "\n",
    "#title = get_title(folder_nice, file,file_nice, github_runbook_url, local_url)\n",
    "def get_title(folder_nice, file,file_nice, github_runbook_url, local_url):\n",
    "    return f'| {folder_nice} | [{file_nice}]({github_runbook_url}) | [Open in browser]({local_url})'\n",
    "\n",
    "def get_list_item(folder_nice, file,file_nice, github_runbook_url, local_url):\n",
    "    return f'* [{file_nice}]({github_runbook_url})'    \n",
    "\n",
    "def create_directory_readme(folder_nice, runbook_list):\n",
    "    # Open README template\n",
    "    #template = open(directory_readme_template).read()\n",
    "    \n",
    "    #directory readme name\n",
    "    directory_readme = f\"{folder_nice}/README.md\"\n",
    "    print(\"directory_readme\", directory_readme)\n",
    "    template_header = f\"<img align=\\\"center\\\" src=\\\"https://unskript.com/assets/favicon.png\\\" width=\\\"100\\\" height=\\\"100\\\" style=\\\"padding: 5px\\\">\"    \n",
    "    template = f\"{template_header}\\n\\n # {folder_nice} xRunBooks\\n\\n{runbook_list}\"\n",
    "    print(template)\n",
    "    \n",
    "    # Save README\n",
    "    f  = open(directory_readme, \"w+\")\n",
    "    f.write(template)\n",
    "    f.close()"
   ]
  },
  {
   "cell_type": "markdown",
   "id": "infrared-destiny",
   "metadata": {
    "execution": {
     "iopub.execute_input": "2021-01-26T16:25:51.412411Z",
     "iopub.status.busy": "2021-01-26T16:25:51.412178Z",
     "iopub.status.idle": "2021-01-26T16:25:51.414944Z",
     "shell.execute_reply": "2021-01-26T16:25:51.414298Z",
     "shell.execute_reply.started": "2021-01-26T16:25:51.412388Z"
    }
   },
   "source": [
    "### Convert filepath in Markdown text"
   ]
  },
  {
   "cell_type": "code",
   "execution_count": null,
   "id": "devoted-syracuse",
   "metadata": {
    "execution": {
     "iopub.execute_input": "2022-11-09T16:27:02.648396Z",
     "iopub.status.busy": "2022-11-09T16:27:02.648080Z",
     "iopub.status.idle": "2022-11-09T16:27:02.653077Z",
     "shell.execute_reply": "2022-11-09T16:27:02.652491Z"
    },
    "tags": []
   },
   "outputs": [],
   "source": [
    "def get_file_md(folder_nice, folder_url, files):\n",
    "    good_format = 0\n",
    "    final_title = \"\"\n",
    "    md = \"\"\n",
    "    folder_name = \"\"\n",
    "    tool_name = \"\"\n",
    "    tool_title = \"\"\n",
    "\n",
    "    if (len(files) > 0):\n",
    "       # md += f\"\\n{title_sep} {folder_nice}\\n\"\n",
    "        for file in files:\n",
    "            if file.endswith(notebook_ext):\n",
    "                good_format = 0\n",
    "                file_url = urllib.parse.quote(file)\n",
    "                folder_name = folder_nice\n",
    "                temp = folder_name.split(\"_\")\n",
    "                tool_name = temp[0]\n",
    "                file_nice = reformat_file_name(file)\n",
    "                \n",
    "                #create the localhost url by combining the root with the file name\n",
    "                local_url= f\"{local_OSS_url}/{file_url}\"\n",
    "                github_runbook_url = f\"{github_url}/{folder_name}/{file_url}\"\n",
    "                \n",
    "                title = f\"{get_title(folder_nice, file, file_nice, github_runbook_url, local_url)}\\n\"\n",
    "                \n",
    "                md += title\n",
    "\n",
    "    #print(\"md\", md)\n",
    "    return md"
   ]
  },
  {
   "cell_type": "code",
   "execution_count": null,
   "id": "e9b69feb",
   "metadata": {
    "execution": {
     "iopub.execute_input": "2022-11-09T16:27:02.656230Z",
     "iopub.status.busy": "2022-11-09T16:27:02.655730Z",
     "iopub.status.idle": "2022-11-09T16:27:02.660622Z",
     "shell.execute_reply": "2022-11-09T16:27:02.660011Z"
    }
   },
   "outputs": [],
   "source": [
    "def get_file_md_quote(folder_nice, folder_url, files):\n",
    "    good_format = 0\n",
    "    final_title = \"\"\n",
    "    md = \"\"\n",
    "    folder_name = \"\"\n",
    "    tool_name = \"\"\n",
    "    tool_title = \"\"\n",
    "\n",
    "    if (len(files) > 0):\n",
    "       # md += f\"\\n{title_sep} {folder_nice}\\n\"\n",
    "        for file in files:\n",
    "            if file.endswith(notebook_ext):\n",
    "                good_format = 0\n",
    "                file_url = urllib.parse.quote(file)\n",
    "                folder_name = folder_nice\n",
    "                temp = folder_name.split(\"_\")\n",
    "                tool_name = temp[0]\n",
    "                file_nice = reformat_file_name(file)\n",
    "                \n",
    "                #create the localhost url by combining the root with the file name\n",
    "                local_url= f\"{local_OSS_url}/{file_url}\"\n",
    "                github_runbook_url = f\"{github_url}/{folder_name}/{file_url}\"        \n",
    "                title = f'\"{get_title(folder_nice, file, file_nice, github_runbook_url, local_url)}\",\\n'      \n",
    "                md += title\n",
    "\n",
    "   # print(\"md\", md)\n",
    "    return md"
   ]
  },
  {
   "cell_type": "markdown",
   "id": "5bf838a5",
   "metadata": {},
   "source": [
    "## get list of xRunbooks for subfolder Readme"
   ]
  },
  {
   "cell_type": "code",
   "execution_count": null,
   "id": "a19e46da",
   "metadata": {
    "execution": {
     "iopub.execute_input": "2022-11-09T16:27:02.663874Z",
     "iopub.status.busy": "2022-11-09T16:27:02.663377Z",
     "iopub.status.idle": "2022-11-09T16:27:02.668135Z",
     "shell.execute_reply": "2022-11-09T16:27:02.667523Z"
    }
   },
   "outputs": [],
   "source": [
    "def get_file_list(folder_nice, folder_url, files):\n",
    "    md = \"\"\n",
    "    folder_name = \"\"\n",
    "    tool_name = \"\"\n",
    "    tool_title = \"\"\n",
    "\n",
    "    if (len(files) > 0):\n",
    "        for file in files:\n",
    "            if file.endswith(notebook_ext):\n",
    "                good_format = 0\n",
    "                file_url = urllib.parse.quote(file)\n",
    "                folder_name = folder_nice\n",
    "                temp = folder_name.split(\"_\")\n",
    "                tool_name = temp[0]\n",
    "                file_nice = reformat_file_name(file)\n",
    "                \n",
    "                #create the localhost url by combining the root with the file name\n",
    "                local_url= f\"{local_OSS_url}/{file_url}\"\n",
    "                github_runbook_url = f\"{github_url}/{folder_name}/{file_url}\"\n",
    "                \n",
    "                list_item = f\"* [{file_nice}]({github_url})\\n\"\n",
    "                md += list_item\n",
    "\n",
    "   # print(\"md\", md)\n",
    "   # print(json_templates)\n",
    "    return md"
   ]
  },
  {
   "cell_type": "markdown",
   "id": "featured-anchor",
   "metadata": {},
   "source": [
    "### Generate markdown for each notebooks"
   ]
  },
  {
   "cell_type": "code",
   "execution_count": null,
   "id": "viral-cause",
   "metadata": {
    "execution": {
     "iopub.execute_input": "2022-11-09T16:27:02.671196Z",
     "iopub.status.busy": "2022-11-09T16:27:02.670876Z",
     "iopub.status.idle": "2022-11-09T16:27:02.678591Z",
     "shell.execute_reply": "2022-11-09T16:27:02.677976Z"
    },
    "tags": []
   },
   "outputs": [],
   "source": [
    "generated_list = \"\"\n",
    "generated_list_quote = \"\"\n",
    "json_templates = []\n",
    "list_of_tools = []\n",
    "index_max = len(notebooks)\n",
    "index = 0\n",
    "\n",
    "while index <= (index_max) - 1:\n",
    "    folder_nice = notebooks[index].get(\"root\")\n",
    "    if folder_nice not in list_of_tools and folder_nice != \"\":\n",
    "        #md_round is creating the table for the home readme\n",
    "        md_round = \"\"\n",
    "        md_round_quote=\"\"\n",
    "        #md_folder_readme is creating the simpler table for the subdirectory readme\n",
    "        md_folder_readme = ''\n",
    "        files = []\n",
    "        list_of_tools.append(folder_nice)\n",
    "        folder_url = urllib.parse.quote(folder_nice)\n",
    "        print(folder_nice)\n",
    "        while True:\n",
    "            if notebooks[index].get(\"root\") != folder_nice:\n",
    "                break\n",
    "            print(notebooks[index].get(\"subdir\"))\n",
    "            files.append(notebooks[index].get(\"subdir\"))\n",
    "            index += 1\n",
    "            if index == index_max:\n",
    "                break\n",
    "            \n",
    "        #create the table for the home readme\n",
    "        md_round += get_file_md(folder_nice, folder_url, files )\n",
    "        md_round_quote += get_file_md_quote(folder_nice, folder_url, files)\n",
    "            \n",
    "        #create a simple list for the subdirectory readme\n",
    "        md_folder_readme += get_file_list(folder_nice, folder_url, files)\n",
    "        #with this list - create the readme for the directory\n",
    "        create_directory_readme(folder_nice, md_folder_readme)\n",
    "    generated_list += md_round\n",
    "  #  print(\"generated_list\",generated_list)\n",
    "    generated_list_quote += md_round_quote"
   ]
  },
  {
   "cell_type": "markdown",
   "id": "f5d63b5f-5209-4f89-8d1c-d85fa8a2b73f",
   "metadata": {},
   "source": [
    "## Output"
   ]
  },
  {
   "cell_type": "markdown",
   "id": "aboriginal-responsibility",
   "metadata": {},
   "source": [
    "### Preview the generated list"
   ]
  },
  {
   "cell_type": "markdown",
   "id": "88e075a7-8341-45af-a250-c1594c004579",
   "metadata": {},
   "source": [
    "### Generate readme for github repository"
   ]
  },
  {
   "cell_type": "code",
   "execution_count": null,
   "id": "younger-consensus",
   "metadata": {
    "execution": {
     "iopub.execute_input": "2022-11-09T16:27:02.682275Z",
     "iopub.status.busy": "2022-11-09T16:27:02.681887Z",
     "iopub.status.idle": "2022-11-09T16:27:02.685919Z",
     "shell.execute_reply": "2022-11-09T16:27:02.685310Z"
    },
    "tags": []
   },
   "outputs": [],
   "source": [
    "# Open README template\n",
    "template = open(readme_template).read()\n",
    "\n",
    "# Replace var to get list of templates in markdown format\n",
    "template = template.replace(replace_var, generated_list)\n",
    "\n",
    "# Save README\n",
    "f  = open(readme, \"w+\")\n",
    "f.write(template)\n",
    "f.close()"
   ]
  },
  {
   "cell_type": "raw",
   "id": "4c1ed44c",
   "metadata": {},
   "source": [
    "### Generate Readme for each directory in the Repo\n"
   ]
  },
  {
   "cell_type": "code",
   "execution_count": null,
   "id": "2a95cba3-027c-4a57-8bfa-2ee1e9053bb7",
   "metadata": {
    "execution": {
     "iopub.execute_input": "2022-10-23T17:02:24.352026Z",
     "iopub.status.busy": "2022-10-23T17:02:24.351376Z",
     "iopub.status.idle": "2022-10-23T17:02:24.361162Z",
     "shell.execute_reply": "2022-10-23T17:02:24.360470Z"
    },
    "tags": []
   },
   "outputs": [],
   "source": [
    "\n"
   ]
  },
  {
   "cell_type": "code",
   "execution_count": null,
   "id": "70db7c84-57ad-4a92-a60b-9f20b60b5329",
   "metadata": {},
   "outputs": [],
   "source": []
  },
  {
   "cell_type": "code",
   "execution_count": null,
   "id": "ee479c83",
   "metadata": {},
   "outputs": [],
   "source": []
  }
 ],
 "metadata": {
  "kernelspec": {
   "display_name": "Python 3 (ipykernel)",
   "language": "python",
   "name": "python3"
  },
  "language_info": {
   "codemirror_mode": {
    "name": "ipython",
    "version": 3
   },
   "file_extension": ".py",
   "mimetype": "text/x-python",
   "name": "python",
   "nbconvert_exporter": "python",
   "pygments_lexer": "ipython3",
   "version": "3.8.10"
  },
  "vscode": {
   "interpreter": {
    "hash": "31f2aee4e71d21fbe5cf8b01ff0e069b9275f58929596ceb00d14d90e3e16cd6"
   }
  },
  "widgets": {
   "application/vnd.jupyter.widget-state+json": {
    "state": {},
    "version_major": 2,
    "version_minor": 0
   }
  }
 },
 "nbformat": 4,
 "nbformat_minor": 5
}
