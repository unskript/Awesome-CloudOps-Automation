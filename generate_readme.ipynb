{
 "cells": [
  {
   "cell_type": "markdown",
   "id": "latter-teddy",
   "metadata": {},
   "source": [
    "\n",
    "# Generate Readme with up to date list of xRunBooks"
   ]
  },
  {
   "cell_type": "markdown",
   "id": "421e4c6e-d5ef-4d53-9d36-f352426c4d87",
   "metadata": {
    "execution": {
     "iopub.execute_input": "2021-10-06T11:02:41.091855Z",
     "iopub.status.busy": "2021-10-06T11:02:41.091514Z",
     "iopub.status.idle": "2021-10-06T11:02:41.099143Z",
     "shell.execute_reply": "2021-10-06T11:02:41.098565Z",
     "shell.execute_reply.started": "2021-10-06T11:02:41.091773Z"
    },
    "tags": []
   },
   "source": [
    "## Input"
   ]
  },
  {
   "cell_type": "markdown",
   "id": "e84f7e80-dda2-4569-96dd-5abaaed2c73a",
   "metadata": {},
   "source": [
    "### Import librairies"
   ]
  },
  {
   "cell_type": "code",
   "execution_count": null,
   "id": "sitting-directory",
   "metadata": {
    "execution": {
     "iopub.execute_input": "2022-12-09T18:43:04.231275Z",
     "iopub.status.busy": "2022-12-09T18:43:04.231007Z",
     "iopub.status.idle": "2022-12-09T18:43:06.787575Z",
     "shell.execute_reply": "2022-12-09T18:43:06.786573Z"
    },
    "tags": []
   },
   "outputs": [],
   "source": [
    "import os\n",
    "import requests\n",
    "import urllib.parse\n",
    "import copy\n",
    "import markdown\n",
    "import nbformat\n",
    "from nbconvert import MarkdownExporter\n",
    "from papermill.iorw import (\n",
    "    load_notebook_node,\n",
    "    write_ipynb,\n",
    ")\n",
    "try:\n",
    "    from git import Repo\n",
    "except:\n",
    "    !pip install GitPython\n",
    "    from git import Repo"
   ]
  },
  {
   "cell_type": "markdown",
   "id": "agricultural-contest",
   "metadata": {},
   "source": [
    "### Variables"
   ]
  },
  {
   "cell_type": "code",
   "execution_count": null,
   "id": "guided-edgar",
   "metadata": {
    "execution": {
     "iopub.execute_input": "2022-12-09T18:43:06.792182Z",
     "iopub.status.busy": "2022-12-09T18:43:06.791419Z",
     "iopub.status.idle": "2022-12-09T18:43:06.797045Z",
     "shell.execute_reply": "2022-12-09T18:43:06.796358Z"
    },
    "tags": []
   },
   "outputs": [],
   "source": [
    "# README variables\n",
    "readme_template = \"README_template.md\"\n",
    "readme = \"README.md\"\n",
    "replace_var = \"[[DYNAMIC_LIST]]\"\n",
    "\n",
    "# welcome variables\n",
    "#this is a TODO\n",
    "#welcome_template = \"Welcome_template.ipynb\"\n",
    "#welcome = \"Welcome.ipynb\"\n",
    "#replace_var_quote = f'\"[[DYNAMIC_LIST]]\",\\n'\n",
    "\n",
    "\n",
    "\n",
    "# Others\n",
    "current_file = '.'\n",
    "notebook_ext = '.ipynb'\n",
    "github_url = 'https://github.com/unskript/Awesome-CloudOps-Automation/tree/master'\n",
    "local_OSS_url = 'http://127.0.0.1:8888/lab/tree'\n",
    "#fix these!\n",
    "github_download_url = 'https://raw.githubusercontent.com/unskript/Awesome-CloudOps-Automation/master/'\n",
    "unSkript_logo ='https://unskript.com/assets/favicon.png'\n"
   ]
  },
  {
   "cell_type": "markdown",
   "id": "distinguished-declaration",
   "metadata": {},
   "source": [
    "### Get files list"
   ]
  },
  {
   "cell_type": "code",
   "execution_count": null,
   "id": "36c9011e-5f51-4779-8062-a627503100e1",
   "metadata": {
    "execution": {
     "iopub.execute_input": "2022-12-09T18:43:06.800410Z",
     "iopub.status.busy": "2022-12-09T18:43:06.800018Z",
     "iopub.status.idle": "2022-12-09T18:43:07.030841Z",
     "shell.execute_reply": "2022-12-09T18:43:07.029954Z"
    },
    "tags": []
   },
   "outputs": [],
   "source": [
    "repo = Repo('.')\n",
    "branch = repo.active_branch\n",
    "list_of_dir = f\"https://api.github.com/repos/unskript/Awesome-CloudOps-Automation/git/trees/{branch.name}?recursive=1\"\n",
    "r_gh = requests.get(list_of_dir).json().get(\"tree\")\n",
    "notebooks = []\n",
    "actions=[]\n",
    "for file in r_gh:\n",
    "    if \".github\" not in file.get(\"path\") and \".gitignore\" not in file.get(\"path\") and \"templates\" not in file.get(\"path\") and \"/\" in file.get(\"path\")and \"__init__\" not in file.get(\"path\"):\n",
    "        if file.get(\"path\").endswith(\".ipynb\") or file.get(\"path\").endswith(\".py\"):\n",
    "            temp = file.get(\"path\").split(\"/\")\n",
    "            if temp == -1:\n",
    "                data = {\n",
    "                    \"root\": None,\n",
    "                    \"subdir\": file.get(\"path\")\n",
    "                }\n",
    "                notebooks.append(data)\n",
    "                \n",
    "            else:\n",
    "                last_folder = \"\"\n",
    "                file_name = temp[-1]\n",
    "                temp.pop()\n",
    "                for folder in temp:\n",
    "                    last_folder += \"/\" + folder\n",
    "                ##we now have a path.. but only really need the root folder\n",
    "                ## different ways to generate fior action vs runbook\n",
    "                slashcount  = last_folder.count(\"/\")\n",
    "                if slashcount == 1:\n",
    "                    ##root folder for notebooks\n",
    "                    root = last_folder[1:]\n",
    "                else:\n",
    "                    #this is an action folder\n",
    "                    #find frist slash\n",
    "                    firstslash = last_folder.find(\"/\",1)\n",
    "                    root = last_folder[1:firstslash]\n",
    "                \n",
    "                data = {\n",
    "                    \"root\": root,\n",
    "                    \"subdir\": file_name\n",
    "                }\n",
    "                if(file.get(\"path\").endswith(\".ipynb\")):\n",
    "                    notebooks.append(data)\n",
    "                else:\n",
    "                    actions.append(data)\n"
   ]
  },
  {
   "cell_type": "markdown",
   "id": "d76baf36-56c4-49f9-93e8-00889b174845",
   "metadata": {},
   "source": [
    "## Model"
   ]
  },
  {
   "cell_type": "markdown",
   "id": "dc0096b6-53ab-4738-b589-b4c7018b349b",
   "metadata": {},
   "source": [
    "### Reformat functions"
   ]
  },
  {
   "cell_type": "code",
   "execution_count": null,
   "id": "abb4dd05-cc19-4b8a-b65d-b5a509425ed8",
   "metadata": {
    "execution": {
     "iopub.execute_input": "2022-12-09T18:43:07.037171Z",
     "iopub.status.busy": "2022-12-09T18:43:07.035328Z",
     "iopub.status.idle": "2022-12-09T18:43:07.041754Z",
     "shell.execute_reply": "2022-12-09T18:43:07.041158Z"
    },
    "tags": []
   },
   "outputs": [],
   "source": [
    "def reformat_file_name(file):\n",
    "    file_nice = file.replace('_', ' ')\n",
    "    file_nice = file_nice.replace('-', ' ')\n",
    "    file_nice = file_nice.replace(notebook_ext, '')\n",
    "    file_nice = file_nice.strip()\n",
    "    if (file_nice != \"\"):\n",
    "            file_nice = file_nice[0].capitalize() + file_nice[1:]\n",
    "    return file_nice"
   ]
  },
  {
   "cell_type": "markdown",
   "id": "78ec2d9e-9487-4f17-b6d0-d23f2e823701",
   "metadata": {},
   "source": [
    "### Get functions"
   ]
  },
  {
   "cell_type": "code",
   "execution_count": null,
   "id": "60f09f7c-1930-4c6b-92d0-02676447e008",
   "metadata": {
    "execution": {
     "iopub.execute_input": "2022-12-09T18:43:07.045478Z",
     "iopub.status.busy": "2022-12-09T18:43:07.045015Z",
     "iopub.status.idle": "2022-12-09T18:43:07.052930Z",
     "shell.execute_reply": "2022-12-09T18:43:07.052249Z"
    },
    "tags": []
   },
   "outputs": [],
   "source": [
    "\n",
    "#title = get_title(folder_nice, file,file_nice, github_runbook_url, local_url)\n",
    "def get_title(folder_nice, file,file_nice, github_runbook_url, local_url):\n",
    "    return f'| {folder_nice} | [{file_nice}]({github_runbook_url}) | [Open in browser]({local_url})'\n",
    "\n",
    "def get_list_item(folder_nice, file,file_nice, github_runbook_url, local_url):\n",
    "    return f'* [{file_nice}]({github_runbook_url})'    \n",
    "\n",
    "def create_directory_readme(folder_nice, runbook_list):\n",
    "    # Open README template\n",
    "    #template = open(directory_readme_template).read()\n",
    "    \n",
    "    #directory readme name\n",
    "    directory_readme = f\"{folder_nice}/README.md\"\n",
    "    print(\"directory_readme\", directory_readme)\n",
    "    template_header = f\"<img align=\\\"center\\\" src=\\\"https://unskript.com/assets/favicon.png\\\" width=\\\"100\\\" height=\\\"100\\\" style=\\\"padding: 5px\\\">\"    \n",
    "    template = f\"{template_header}\\n\\n # {folder_nice} xRunBooks\\n\\n{runbook_list}\"\n",
    "    print(template)\n",
    "    \n",
    "    # Save README\n",
    "    f  = open(directory_readme, \"w+\")\n",
    "    f.write(template)\n",
    "    f.close()\n",
    "    \n",
    "def append_directory_readme(folder_nice, action_list):\n",
    "    \n",
    "    ##actions are written in a second loop - so append the readme - if it has the term xrunbook in it.\n",
    "    #if there is no \"xRunBook\" - then this direcory only has actions and should overwrite the entire file\n",
    "    \n",
    "    # Open README (created with runbook list)\n",
    "    #directory readme name\n",
    "    directory_readme = f\"{folder_nice}/README.md\"\n",
    "    template = open(directory_readme).read()\n",
    "    print(\"directory_readme\", directory_readme)\n",
    "    \n",
    "    if \"xRunBook\" in template:\n",
    "        #we append the file\n",
    "        ##now let's append in the Action list\n",
    "        template = template + f\"\\n\\n # {folder_nice} Actions \\n\\n{action_list}\"\n",
    "    else:\n",
    "        #this file has no runbook data, so overwrite the file\n",
    "        template =  f\"\\n\\n # {folder_nice} Actions \\n\\n{action_list}\"\n",
    "    print(template)\n",
    "    \n",
    "    # Save README\n",
    "    f  = open(directory_readme, \"w+\")\n",
    "    f.write(template)\n",
    "    f.close()"
   ]
  },
  {
   "cell_type": "markdown",
   "id": "infrared-destiny",
   "metadata": {
    "execution": {
     "iopub.execute_input": "2021-01-26T16:25:51.412411Z",
     "iopub.status.busy": "2021-01-26T16:25:51.412178Z",
     "iopub.status.idle": "2021-01-26T16:25:51.414944Z",
     "shell.execute_reply": "2021-01-26T16:25:51.414298Z",
     "shell.execute_reply.started": "2021-01-26T16:25:51.412388Z"
    }
   },
   "source": [
    "### Convert filepath in Markdown text"
   ]
  },
  {
   "cell_type": "code",
   "execution_count": null,
   "id": "devoted-syracuse",
   "metadata": {
    "execution": {
     "iopub.execute_input": "2022-12-09T18:43:07.056641Z",
     "iopub.status.busy": "2022-12-09T18:43:07.056249Z",
     "iopub.status.idle": "2022-12-09T18:43:07.064446Z",
     "shell.execute_reply": "2022-12-09T18:43:07.063800Z"
    },
    "tags": []
   },
   "outputs": [],
   "source": [
    "def get_file_md(folder_nice, folder_url, files):\n",
    "    good_format = 0\n",
    "    final_title = \"\"\n",
    "    md = \"\"\n",
    "    folder_name = \"\"\n",
    "    tool_name = \"\"\n",
    "    tool_title = \"\"\n",
    "\n",
    "    if (len(files) > 0):\n",
    "       # md += f\"\\n{title_sep} {folder_nice}\\n\"\n",
    "        for file in files:\n",
    "            #for jupyter runbooks\n",
    "            if file.endswith(notebook_ext):\n",
    "                good_format = 0\n",
    "                file_url = urllib.parse.quote(file)\n",
    "                folder_name = folder_nice\n",
    "                temp = folder_name.split(\"_\")\n",
    "                tool_name = temp[0]\n",
    "                file_nice = reformat_file_name(file)\n",
    "                \n",
    "                #create the localhost url by combining the root with the file name\n",
    "                local_url= f\"{local_OSS_url}/{file_url}\"\n",
    "                github_runbook_url = f\"{github_url}/{folder_name}/{file_url}\"\n",
    "                \n",
    "                title = f\"{get_title(folder_nice, file, file_nice, github_runbook_url, local_url)}\\n\"\n",
    "                \n",
    "                md += title\n",
    "            #for actions - they end in .py\n",
    "            if file.endswith(\".py\"):\n",
    "                good_format = 0\n",
    "                file_url = urllib.parse.quote(file)\n",
    "                action_folder = file_url[:-3]\n",
    "                folder_name = folder_nice\n",
    "                temp = folder_name.split(\"_\")\n",
    "                tool_name = temp[0]\n",
    "                file_nice = reformat_file_name(file)\n",
    "                    \n",
    "                #remove the \"local url\": there is no concept of local actions\n",
    "            \n",
    "                github_action_url = f\"{github_url}/{folder_name}/legos/{action_folder}\"\n",
    "             \n",
    "                title = f\"* [{file_nice}]({github_action_url}) \\n\"\n",
    "                \n",
    "                md += title\n",
    "    #print(\"md\", md)\n",
    "    return md"
   ]
  },
  {
   "cell_type": "code",
   "execution_count": null,
   "id": "e9b69feb",
   "metadata": {
    "execution": {
     "iopub.execute_input": "2022-12-09T18:43:07.067849Z",
     "iopub.status.busy": "2022-12-09T18:43:07.067449Z",
     "iopub.status.idle": "2022-12-09T18:43:07.072830Z",
     "shell.execute_reply": "2022-12-09T18:43:07.072146Z"
    }
   },
   "outputs": [],
   "source": [
    "def get_file_md_quote(folder_nice, folder_url, files):\n",
    "    good_format = 0\n",
    "    final_title = \"\"\n",
    "    md = \"\"\n",
    "    folder_name = \"\"\n",
    "    tool_name = \"\"\n",
    "    tool_title = \"\"\n",
    "\n",
    "    if (len(files) > 0):\n",
    "       # md += f\"\\n{title_sep} {folder_nice}\\n\"\n",
    "        for file in files:\n",
    "            if file.endswith(notebook_ext):\n",
    "                good_format = 0\n",
    "                file_url = urllib.parse.quote(file)\n",
    "                folder_name = folder_nice\n",
    "                temp = folder_name.split(\"_\")\n",
    "                tool_name = temp[0]\n",
    "                file_nice = reformat_file_name(file)\n",
    "                \n",
    "                #create the localhost url by combining the root with the file name\n",
    "                local_url= f\"{local_OSS_url}/{file_url}\"\n",
    "                github_runbook_url = f\"{github_url}/{folder_name}/{file_url}\"        \n",
    "                title = f'\"{get_title(folder_nice, file, file_nice, github_runbook_url, local_url)}\",\\n'      \n",
    "                md += title\n",
    "\n",
    "   # print(\"md\", md)\n",
    "    return md"
   ]
  },
  {
   "cell_type": "markdown",
   "id": "5bf838a5",
   "metadata": {},
   "source": [
    "## get list of xRunbooks for subfolder Readme"
   ]
  },
  {
   "cell_type": "code",
   "execution_count": null,
   "id": "a19e46da",
   "metadata": {
    "execution": {
     "iopub.execute_input": "2022-12-09T18:43:07.076248Z",
     "iopub.status.busy": "2022-12-09T18:43:07.075999Z",
     "iopub.status.idle": "2022-12-09T18:43:07.082406Z",
     "shell.execute_reply": "2022-12-09T18:43:07.081795Z"
    }
   },
   "outputs": [],
   "source": [
    "def get_file_list(folder_nice, folder_url, files):\n",
    "    md = \"\"\n",
    "    folder_name = \"\"\n",
    "    tool_name = \"\"\n",
    "    tool_title = \"\"\n",
    "\n",
    "    if (len(files) > 0):\n",
    "        for file in files:\n",
    "            if file.endswith(notebook_ext):\n",
    "                good_format = 0\n",
    "                file_url = urllib.parse.quote(file)\n",
    "                folder_name = folder_nice\n",
    "                temp = folder_name.split(\"_\")\n",
    "                tool_name = temp[0]\n",
    "                file_nice = reformat_file_name(file)\n",
    "                \n",
    "                #create the localhost url by combining the root with the file name\n",
    "                local_url= f\"{local_OSS_url}/{file_url}\"\n",
    "                github_runbook_url = f\"{github_url}/{folder_name}/{file_url}\"\n",
    "                \n",
    "                list_item = f\"* [{file_nice}]({github_runbook_url})\\n\"\n",
    "                md += list_item\n",
    "\n",
    "   # print(\"md\", md)\n",
    "   # print(json_templates)\n",
    "    return md"
   ]
  },
  {
   "cell_type": "markdown",
   "id": "c5170245",
   "metadata": {},
   "source": [
    "## get list of Actions for subfolder Readme"
   ]
  },
  {
   "cell_type": "code",
   "execution_count": null,
   "id": "a05518d8",
   "metadata": {
    "execution": {
     "iopub.execute_input": "2022-12-09T18:43:07.085492Z",
     "iopub.status.busy": "2022-12-09T18:43:07.085247Z",
     "iopub.status.idle": "2022-12-09T18:43:07.091200Z",
     "shell.execute_reply": "2022-12-09T18:43:07.090589Z"
    }
   },
   "outputs": [],
   "source": [
    "def get_action_list(folder_nice, files):\n",
    "    md = \"\"\n",
    "    folder_name = \"\"\n",
    "    tool_name = \"\"\n",
    "    tool_title = \"\"\n",
    "\n",
    "    if (len(files) > 0):\n",
    "        for file in files:\n",
    "            if file.endswith(\".py\"):\n",
    "                good_format = 0\n",
    "                file_url = urllib.parse.quote(file)\n",
    "                folder_name = folder_nice\n",
    "                file_nice = reformat_file_name(file)\n",
    "                list_item = f\"* {file_nice}\\n\"\n",
    "                md += list_item\n",
    "\n",
    "   # print(\"md\", md)\n",
    "   # print(json_templates)\n",
    "    return md"
   ]
  },
  {
   "cell_type": "markdown",
   "id": "featured-anchor",
   "metadata": {},
   "source": [
    "### Generate markdown for each notebooks"
   ]
  },
  {
   "cell_type": "code",
   "execution_count": null,
   "id": "viral-cause",
   "metadata": {
    "execution": {
     "iopub.execute_input": "2022-12-09T18:43:07.094285Z",
     "iopub.status.busy": "2022-12-09T18:43:07.094057Z",
     "iopub.status.idle": "2022-12-09T18:43:07.102608Z",
     "shell.execute_reply": "2022-12-09T18:43:07.101929Z"
    },
    "tags": []
   },
   "outputs": [],
   "source": [
    "generated_list = \"\"\n",
    "generated_list_quote = \"\"\n",
    "generated_list_runbooks=\"\"\n",
    "json_templates = []\n",
    "list_of_tools = []\n",
    "index_max = len(notebooks)\n",
    "index = 0\n",
    "\n",
    "while index <= (index_max) - 1:\n",
    "    folder_nice = notebooks[index].get(\"root\")\n",
    "    if folder_nice not in list_of_tools and folder_nice != \"\":\n",
    "        #md_round is creating the table for the home readme\n",
    "        md_round = \"\"\n",
    "        md_round_quote=\"\"\n",
    "        #md_folder_readme is creating the simpler table for the subdirectory readme\n",
    "        md_folder_readme = ''\n",
    "        files = []\n",
    "        list_of_tools.append(folder_nice)\n",
    "        folder_url = urllib.parse.quote(folder_nice)\n",
    "        print(folder_nice)\n",
    "        while True:\n",
    "            if notebooks[index].get(\"root\") != folder_nice:\n",
    "                break\n",
    "            print(notebooks[index].get(\"subdir\"))\n",
    "            files.append(notebooks[index].get(\"subdir\"))\n",
    "            index += 1\n",
    "            if index == index_max:\n",
    "                break\n",
    "            \n",
    "        #create the table for the home readme\n",
    "        md_round += get_file_md(folder_nice, folder_url, files )\n",
    "        md_round_quote += get_file_md_quote(folder_nice, folder_url, files)\n",
    "            \n",
    "        #create a simple list for the subdirectory readme\n",
    "        md_folder_readme += get_file_list(folder_nice, folder_url, files)\n",
    "        #with this list - create the readme for the directory\n",
    "        create_directory_readme(folder_nice, md_folder_readme)\n",
    "    generated_list += md_round\n",
    "    generated_list_runbooks += f\"\\n\\n\\n# {folder_nice}\\n\\n {md_folder_readme}\"\n",
    "    #print(\"generated_list\",generated_list)\n",
    "    generated_list_quote += md_round_quote"
   ]
  },
  {
   "cell_type": "markdown",
   "id": "13f7cb6f",
   "metadata": {},
   "source": [
    "### Generate markdown for each Action"
   ]
  },
  {
   "cell_type": "code",
   "execution_count": null,
   "id": "5a107f60",
   "metadata": {
    "execution": {
     "iopub.execute_input": "2022-12-09T18:43:07.106149Z",
     "iopub.status.busy": "2022-12-09T18:43:07.105463Z",
     "iopub.status.idle": "2022-12-09T18:43:07.122829Z",
     "shell.execute_reply": "2022-12-09T18:43:07.122212Z"
    },
    "tags": []
   },
   "outputs": [],
   "source": [
    "generated_list_actions = \"\"\n",
    "generated_list_quote_actions = \"\"\n",
    "json_templates = []\n",
    "list_of_tools = []\n",
    "index_max = len(actions)\n",
    "index = 0\n",
    "\n",
    "while index <= (index_max) - 1:\n",
    "    folder_nice = actions[index].get(\"root\")\n",
    "    if folder_nice not in list_of_tools and folder_nice != \"\":\n",
    "        #md_round is creating the table for the home readme\n",
    "        md_round = \"\"\n",
    "        md_round_quote=\"\"\n",
    "        #md_folder_readme is creating the simpler table for the subdirectory readme\n",
    "        md_folder_readme = ''\n",
    "        files = []\n",
    "        list_of_tools.append(folder_nice)\n",
    "        folder_url = urllib.parse.quote(folder_nice)\n",
    "       # print(folder_nice)\n",
    "        while True:\n",
    "            if actions[index].get(\"root\") != folder_nice:\n",
    "                break\n",
    "      #      print(actions[index].get(\"subdir\"))\n",
    "            files.append(actions[index].get(\"subdir\"))\n",
    "            index += 1\n",
    "            if index == index_max:\n",
    "                break\n",
    "        md_round += get_file_md(folder_nice, folder_url, files )    \n",
    "        #print(\"stuff\", folder_nice, files)\n",
    "        md_folder_readme += get_action_list(folder_nice, files)\n",
    "        print(\"md_folder_readme\", md_folder_readme)\n",
    "        #with this list - create the readme for the directory\n",
    "        append_directory_readme(folder_nice, md_round)\n",
    "        generated_list_actions += f\"\\n\\n\\n# {folder_nice}\\n\\n {md_round}\"\n",
    "#print(\"generated_list_actions\\n\",generated_list_actions)"
   ]
  },
  {
   "cell_type": "markdown",
   "id": "f5d63b5f-5209-4f89-8d1c-d85fa8a2b73f",
   "metadata": {},
   "source": [
    "## Output"
   ]
  },
  {
   "cell_type": "markdown",
   "id": "aboriginal-responsibility",
   "metadata": {},
   "source": [
    "### Preview the generated list"
   ]
  },
  {
   "cell_type": "markdown",
   "id": "88e075a7-8341-45af-a250-c1594c004579",
   "metadata": {},
   "source": [
    "### Generate readme for github repository"
   ]
  },
  {
   "cell_type": "code",
   "execution_count": null,
   "id": "younger-consensus",
   "metadata": {
    "execution": {
     "iopub.execute_input": "2022-12-09T18:43:07.126972Z",
     "iopub.status.busy": "2022-12-09T18:43:07.126293Z",
     "iopub.status.idle": "2022-12-09T18:43:07.130678Z",
     "shell.execute_reply": "2022-12-09T18:43:07.130024Z"
    },
    "tags": []
   },
   "outputs": [],
   "source": [
    "# Open README template\n",
    "template = open(readme_template).read()\n",
    "\n",
    "# Replace var to get list of templates in markdown format\n",
    "template = template.replace(replace_var, generated_list)\n",
    "\n",
    "# Save README\n",
    "f  = open(readme, \"w+\")\n",
    "f.write(template)\n",
    "f.close()"
   ]
  },
  {
   "cell_type": "raw",
   "id": "4c1ed44c",
   "metadata": {},
   "source": []
  },
  {
   "cell_type": "code",
   "execution_count": null,
   "id": "2a95cba3-027c-4a57-8bfa-2ee1e9053bb7",
   "metadata": {
    "execution": {
     "iopub.execute_input": "2022-12-09T18:43:07.133767Z",
     "iopub.status.busy": "2022-12-09T18:43:07.133323Z",
     "iopub.status.idle": "2022-12-09T18:43:07.137037Z",
     "shell.execute_reply": "2022-12-09T18:43:07.136476Z"
    },
    "tags": []
   },
   "outputs": [],
   "source": [
    "\n",
    "#generate a page of all the actions that are available\n",
    "action_list = readme = \"lists/Action_list.md\"\n",
    "# Save README\n",
    "f  = open(action_list, \"w+\")\n",
    "f.write(generated_list_actions)\n",
    "f.close()\n"
   ]
  },
  {
   "cell_type": "code",
   "execution_count": null,
   "id": "70db7c84-57ad-4a92-a60b-9f20b60b5329",
   "metadata": {
    "execution": {
     "iopub.execute_input": "2022-12-09T18:43:07.140030Z",
     "iopub.status.busy": "2022-12-09T18:43:07.139578Z",
     "iopub.status.idle": "2022-12-09T18:43:07.143456Z",
     "shell.execute_reply": "2022-12-09T18:43:07.142908Z"
    }
   },
   "outputs": [],
   "source": [
    "#generate a page of all the Runbooks that are available\n",
    "rb_list = readme = \"lists/xRunBook_list.md\"\n",
    "# Save README\n",
    "f  = open(rb_list, \"w+\")\n",
    "f.write(generated_list_runbooks)\n",
    "f.close()"
   ]
  },
  {
   "cell_type": "code",
   "execution_count": null,
   "id": "ee479c83",
   "metadata": {},
   "outputs": [],
   "source": []
  },
  {
   "cell_type": "code",
   "execution_count": null,
   "id": "e20c536e",
   "metadata": {},
   "outputs": [],
   "source": []
  },
  {
   "cell_type": "code",
   "execution_count": null,
   "id": "0041b5a5",
   "metadata": {},
   "outputs": [],
   "source": []
  }
 ],
 "metadata": {
  "kernelspec": {
   "display_name": "Python 3 (ipykernel)",
   "language": "python",
   "name": "python3"
  },
  "language_info": {
   "codemirror_mode": {
    "name": "ipython",
    "version": 3
   },
   "file_extension": ".py",
   "mimetype": "text/x-python",
   "name": "python",
   "nbconvert_exporter": "python",
   "pygments_lexer": "ipython3",
   "version": "3.10.6"
  },
  "vscode": {
   "interpreter": {
    "hash": "31f2aee4e71d21fbe5cf8b01ff0e069b9275f58929596ceb00d14d90e3e16cd6"
   }
  },
  "widgets": {
   "application/vnd.jupyter.widget-state+json": {
    "state": {},
    "version_major": 2,
    "version_minor": 0
   }
  }
 },
 "nbformat": 4,
 "nbformat_minor": 5
}
