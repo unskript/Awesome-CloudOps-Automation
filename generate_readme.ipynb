{
 "cells": [
  {
   "cell_type": "markdown",
   "id": "latter-teddy",
   "metadata": {},
   "source": [
    "<img width=\"10%\" alt=\"Naas\" src=\"https://landen.imgix.net/jtci2pxwjczr/assets/5ice39g4.png?w=160\"/>\n",
    "\n",
    "# Generate Readme for Awesome Notebooks"
   ]
  },
  {
   "cell_type": "markdown",
   "id": "421e4c6e-d5ef-4d53-9d36-f352426c4d87",
   "metadata": {
    "execution": {
     "iopub.execute_input": "2021-10-06T11:02:41.091855Z",
     "iopub.status.busy": "2021-10-06T11:02:41.091514Z",
     "iopub.status.idle": "2021-10-06T11:02:41.099143Z",
     "shell.execute_reply": "2021-10-06T11:02:41.098565Z",
     "shell.execute_reply.started": "2021-10-06T11:02:41.091773Z"
    },
    "tags": []
   },
   "source": [
    "## Input"
   ]
  },
  {
   "cell_type": "markdown",
   "id": "e84f7e80-dda2-4569-96dd-5abaaed2c73a",
   "metadata": {},
   "source": [
    "### Import librairies"
   ]
  },
  {
   "cell_type": "code",
   "execution_count": null,
   "id": "sitting-directory",
   "metadata": {
    "execution": {
     "iopub.execute_input": "2022-10-27T18:50:45.311315Z",
     "iopub.status.busy": "2022-10-27T18:50:45.310802Z",
     "iopub.status.idle": "2022-10-27T18:50:48.350195Z",
     "shell.execute_reply": "2022-10-27T18:50:48.349304Z"
    },
    "tags": []
   },
   "outputs": [],
   "source": [
    "import os\n",
    "import requests\n",
    "import urllib.parse\n",
    "import pandas as pd\n",
    "import copy\n",
    "import markdown\n",
    "import nbformat\n",
    "from nbconvert import MarkdownExporter\n",
    "from papermill.iorw import (\n",
    "    load_notebook_node,\n",
    "    write_ipynb,\n",
    ")\n",
    "try:\n",
    "    from git import Repo\n",
    "except:\n",
    "    !pip install GitPython\n",
    "    from git import Repo"
   ]
  },
  {
   "cell_type": "markdown",
   "id": "agricultural-contest",
   "metadata": {},
   "source": [
    "### Variables"
   ]
  },
  {
   "cell_type": "code",
   "execution_count": null,
   "id": "guided-edgar",
   "metadata": {
    "execution": {
     "iopub.execute_input": "2022-10-27T18:50:48.354970Z",
     "iopub.status.busy": "2022-10-27T18:50:48.354247Z",
     "iopub.status.idle": "2022-10-27T18:50:48.360439Z",
     "shell.execute_reply": "2022-10-27T18:50:48.359864Z"
    },
    "tags": []
   },
   "outputs": [],
   "source": [
    "# README variables\n",
    "readme_template = \"README_template.md\"\n",
    "readme = \"README.md\"\n",
    "replace_var = \"[[DYNAMIC_LIST]]\"\n",
    "\n",
    "# welcome variables\n",
    "welcome_template = \"Welcome_template.ipynb\"\n",
    "welcome = \"Welcome.ipynb\"\n",
    "replace_var_quote = f'\"[[DYNAMIC_LIST]]\",\\n'\n",
    "\n",
    "\n",
    "\n",
    "# Others\n",
    "current_file = '.'\n",
    "notebook_ext = '.ipynb'\n",
    "github_url = 'https://github.com/unskript/Awesome-CloudOps-Automation/tree/master'\n",
    "local_OSS_url = 'http://127.0.0.1:8888/lab/tree'\n",
    "#fix these!\n",
    "github_download_url = 'https://raw.githubusercontent.com/unskript/Awesome-CloudOps-Automation/master/'\n",
    "naas_download_url ='https://app.naas.ai/user-redirect/naas/downloader?url='\n",
    "unSkript_logo ='https://unskript.com/assets/favicon.png'\n",
    "\n",
    "#update these!!\n",
    "template_request = \"https://github.com/jupyter-naas/awesome-notebooks/issues/new?assignees=&labels=&template=template-request.md&title=Tool+-+Action+of+the+notebook+\"\n",
    "bug_report = \"https://github.com/jupyter-naas/awesome-notebooks/issues/new?assignees=&labels=bug&template=bug_report.md&title=\""
   ]
  },
  {
   "cell_type": "markdown",
   "id": "distinguished-declaration",
   "metadata": {},
   "source": [
    "### Get files list"
   ]
  },
  {
   "cell_type": "code",
   "execution_count": null,
   "id": "36c9011e-5f51-4779-8062-a627503100e1",
   "metadata": {
    "execution": {
     "iopub.execute_input": "2022-10-27T18:50:48.363692Z",
     "iopub.status.busy": "2022-10-27T18:50:48.363289Z",
     "iopub.status.idle": "2022-10-27T18:50:48.498708Z",
     "shell.execute_reply": "2022-10-27T18:50:48.498035Z"
    },
    "tags": []
   },
   "outputs": [],
   "source": [
    "repo = Repo('.')\n",
    "branch = repo.active_branch\n",
    "list_of_dir = f\"https://api.github.com/repos/unskript/Awesome-CloudOps-Automation/git/trees/{branch.name}?recursive=1\"\n",
    "r_gh = requests.get(list_of_dir).json().get(\"tree\")\n",
    "notebooks = []\n",
    "\n",
    "for file in r_gh:\n",
    "    if \".github\" not in file.get(\"path\") and \".gitignore\" not in file.get(\"path\") and \"templates\" not in file.get(\"path\") and \"/\" in file.get(\"path\"):\n",
    "        if file.get(\"path\").endswith(\".ipynb\"):\n",
    "            temp = file.get(\"path\").split(\"/\")\n",
    "            if temp == -1:\n",
    "                data = {\n",
    "                    \"root\": None,\n",
    "                    \"subdir\": file.get(\"path\")\n",
    "                }\n",
    "                notebooks.append(data)\n",
    "            else:\n",
    "                last_folder = \"\"\n",
    "                file_name = temp[-1]\n",
    "                temp.pop()\n",
    "                for folder in temp:\n",
    "                    last_folder += \"/\" + folder\n",
    "                root = last_folder[1:]\n",
    "                data = {\n",
    "                    \"root\": root,\n",
    "                    \"subdir\": file_name\n",
    "                }\n",
    "                notebooks.append(data)\n",
    "\n",
    "df_github = pd.DataFrame(notebooks)\n",
    "df_github"
   ]
  },
  {
   "cell_type": "markdown",
   "id": "d76baf36-56c4-49f9-93e8-00889b174845",
   "metadata": {},
   "source": [
    "## Model"
   ]
  },
  {
   "cell_type": "markdown",
   "id": "dc0096b6-53ab-4738-b589-b4c7018b349b",
   "metadata": {},
   "source": [
    "### Reformat functions"
   ]
  },
  {
   "cell_type": "code",
   "execution_count": null,
   "id": "abb4dd05-cc19-4b8a-b65d-b5a509425ed8",
   "metadata": {
    "execution": {
     "iopub.execute_input": "2022-10-27T18:50:48.502571Z",
     "iopub.status.busy": "2022-10-27T18:50:48.501826Z",
     "iopub.status.idle": "2022-10-27T18:50:48.506302Z",
     "shell.execute_reply": "2022-10-27T18:50:48.505685Z"
    },
    "tags": []
   },
   "outputs": [],
   "source": [
    "def reformat_file_name(file):\n",
    "    file_nice = file.replace('_', ' ')\n",
    "    file_nice = file_nice.replace('-', ' ')\n",
    "    file_nice = file_nice.replace(notebook_ext, '')\n",
    "    file_nice = file_nice.strip()\n",
    "    if (file_nice != \"\"):\n",
    "            file_nice = file_nice[0].capitalize() + file_nice[1:]\n",
    "    return file_nice"
   ]
  },
  {
   "cell_type": "markdown",
   "id": "78ec2d9e-9487-4f17-b6d0-d23f2e823701",
   "metadata": {},
   "source": [
    "### Get functions"
   ]
  },
  {
   "cell_type": "code",
   "execution_count": null,
   "id": "60f09f7c-1930-4c6b-92d0-02676447e008",
   "metadata": {
    "execution": {
     "iopub.execute_input": "2022-10-27T18:50:48.509679Z",
     "iopub.status.busy": "2022-10-27T18:50:48.509093Z",
     "iopub.status.idle": "2022-10-27T18:50:48.514426Z",
     "shell.execute_reply": "2022-10-27T18:50:48.513809Z"
    },
    "tags": []
   },
   "outputs": [],
   "source": [
    "def get_open_button(download_link, title_url):\n",
    "    return f\"\"\"<a href=\"{download_link}\" target=\"_new\"><img src=\"{unSkript_logo}\"/></a><br><br><a href=\"{template_request}\">💡 Template request</a> | <a href=\"{bug_report}{title_url}:+Error+short+description\">🚨 Bug report</a>\"\"\"\n",
    "\n",
    "#title = get_title(folder_nice, file, github_url, local_url)\n",
    "def get_title(folder_nice, file,file_nice, github_runbook_url, local_url):\n",
    "    title_url = (f\"{folder_nice} - {file}\").replace(\" \", \"+\")\n",
    "#    return f\"\"\"# {folder_nice} - {file_nice}\\n{get_open_button(download_link, title_url)}\"\"\"\n",
    "    return f'| {folder_nice} | [{file_nice}]({github_runbook_url}) | [Open in browser]({local_url})'\n",
    "\n",
    "def get_tags(text):\n",
    "    result = []\n",
    "    tags = text.split(' ')\n",
    "    for tag in tags:\n",
    "        if len(tag) >= 2 and tag[0] == '#' and tag[1] != ' ' and tag[1] != '#':\n",
    "            result.append(tag)\n",
    "    return result"
   ]
  },
  {
   "cell_type": "markdown",
   "id": "infrared-destiny",
   "metadata": {
    "execution": {
     "iopub.execute_input": "2021-01-26T16:25:51.412411Z",
     "iopub.status.busy": "2021-01-26T16:25:51.412178Z",
     "iopub.status.idle": "2021-01-26T16:25:51.414944Z",
     "shell.execute_reply": "2021-01-26T16:25:51.414298Z",
     "shell.execute_reply.started": "2021-01-26T16:25:51.412388Z"
    }
   },
   "source": [
    "### Convert filepath in Markdown text"
   ]
  },
  {
   "cell_type": "code",
   "execution_count": null,
   "id": "devoted-syracuse",
   "metadata": {
    "execution": {
     "iopub.execute_input": "2022-10-27T18:50:48.517682Z",
     "iopub.status.busy": "2022-10-27T18:50:48.517126Z",
     "iopub.status.idle": "2022-10-27T18:50:48.522246Z",
     "shell.execute_reply": "2022-10-27T18:50:48.521712Z"
    },
    "tags": []
   },
   "outputs": [],
   "source": [
    "def get_file_md(folder_nice, folder_url, files, json_templates, title_sep=\"##\", subtitle_sep=\"*\"):\n",
    "    good_format = 0\n",
    "    final_title = \"\"\n",
    "    md = \"\"\n",
    "    folder_name = \"\"\n",
    "    tool_name = \"\"\n",
    "    tool_title = \"\"\n",
    "\n",
    "    if (len(files) > 0):\n",
    "       # md += f\"\\n{title_sep} {folder_nice}\\n\"\n",
    "        for file in files:\n",
    "            if file.endswith(notebook_ext):\n",
    "                good_format = 0\n",
    "                file_url = urllib.parse.quote(file)\n",
    "                folder_name = folder_nice\n",
    "                temp = folder_name.split(\"_\")\n",
    "                tool_name = temp[0]\n",
    "                file_nice = reformat_file_name(file)\n",
    "                \n",
    "                #create the localhost url by combining the root with the file name\n",
    "                local_url= f\"{local_OSS_url}/{file_url}\"\n",
    "                github_runbook_url = f\"{github_url}/{folder_name}/{file_url}\"\n",
    "                \n",
    "                title = f\"{get_title(folder_nice, file, file_nice, github_runbook_url, local_url)}\\n\"\n",
    "                \n",
    "                md += title\n",
    "\n",
    "   # print(\"md\", md)\n",
    "   # print(json_templates)\n",
    "    return md"
   ]
  },
  {
   "cell_type": "code",
   "execution_count": null,
   "id": "e9b69feb",
   "metadata": {
    "execution": {
     "iopub.execute_input": "2022-10-27T18:50:48.525356Z",
     "iopub.status.busy": "2022-10-27T18:50:48.524862Z",
     "iopub.status.idle": "2022-10-27T18:50:48.529973Z",
     "shell.execute_reply": "2022-10-27T18:50:48.529340Z"
    }
   },
   "outputs": [],
   "source": [
    "def get_file_md_quote(folder_nice, folder_url, files, json_templates, title_sep=\"##\", subtitle_sep=\"*\"):\n",
    "    good_format = 0\n",
    "    final_title = \"\"\n",
    "    md = \"\"\n",
    "    folder_name = \"\"\n",
    "    tool_name = \"\"\n",
    "    tool_title = \"\"\n",
    "\n",
    "    if (len(files) > 0):\n",
    "       # md += f\"\\n{title_sep} {folder_nice}\\n\"\n",
    "        for file in files:\n",
    "            if file.endswith(notebook_ext):\n",
    "                good_format = 0\n",
    "                file_url = urllib.parse.quote(file)\n",
    "                folder_name = folder_nice\n",
    "                temp = folder_name.split(\"_\")\n",
    "                tool_name = temp[0]\n",
    "                file_nice = reformat_file_name(file)\n",
    "                \n",
    "                #create the localhost url by combining the root with the file name\n",
    "                local_url= f\"{local_OSS_url}/{file_url}\"\n",
    "                github_runbook_url = f\"{github_url}/{folder_name}/{file_url}\"\n",
    "                \n",
    "                title = f'\"{get_title(folder_nice, file, file_nice, github_runbook_url, local_url)}\",\\n'\n",
    "                \n",
    "                md += title\n",
    "\n",
    "   # print(\"md\", md)\n",
    "   # print(json_templates)\n",
    "    return md"
   ]
  },
  {
   "cell_type": "markdown",
   "id": "featured-anchor",
   "metadata": {},
   "source": [
    "### Generate markdown for each notebooks"
   ]
  },
  {
   "cell_type": "code",
   "execution_count": null,
   "id": "viral-cause",
   "metadata": {
    "execution": {
     "iopub.execute_input": "2022-10-27T18:50:48.533215Z",
     "iopub.status.busy": "2022-10-27T18:50:48.532889Z",
     "iopub.status.idle": "2022-10-27T18:50:48.540642Z",
     "shell.execute_reply": "2022-10-27T18:50:48.540027Z"
    },
    "tags": []
   },
   "outputs": [],
   "source": [
    "generated_list = \"\"\n",
    "generated_list_quote = \"\"\n",
    "json_templates = []\n",
    "list_of_tools = []\n",
    "index_max = len(notebooks)\n",
    "index = 0\n",
    "\n",
    "while index <= (index_max) - 1:\n",
    "    folder_nice = notebooks[index].get(\"root\")\n",
    "    if folder_nice not in list_of_tools and folder_nice != \"\":\n",
    "        md_round = \"\"\n",
    "        md_round_quote=\"\"\n",
    "        files = []\n",
    "        list_of_tools.append(folder_nice)\n",
    "        folder_url = urllib.parse.quote(folder_nice)\n",
    "        print(folder_nice)\n",
    "        while True:\n",
    "            if notebooks[index].get(\"root\") != folder_nice:\n",
    "                break\n",
    "            print(notebooks[index].get(\"subdir\"))\n",
    "            files.append(notebooks[index].get(\"subdir\"))\n",
    "            index += 1\n",
    "            if index == index_max:\n",
    "                break\n",
    "        if (\"/\" not in folder_nice):\n",
    "            md_round += get_file_md(folder_nice, folder_url, files, json_templates)\n",
    "            md_round_quote += get_file_md_quote(folder_nice, folder_url, files, json_templates)\n",
    "        else:\n",
    "            folder_url = urllib.parse.quote(folder_nice)\n",
    "            subfolder_nice = folder_nice.split('/')[1].replace('_', ' ').replace(folder_nice, '').strip()\n",
    "            #md_round += f'\"{get_title(folder_nice, file, files, github_url, local_OSS_url)}\"'\n",
    "            #md_round += get_file_md(subfolder_nice, folder_url, files, json_templates, \"\\t###\", \"\\t-\")\n",
    "            \n",
    "        print(\"md_round\", md_round)\n",
    "        print(\"md_round_quote\", md_round_quote)  \n",
    "        generated_list += md_round\n",
    "        generated_list_quote += md_round_quote"
   ]
  },
  {
   "cell_type": "markdown",
   "id": "f5d63b5f-5209-4f89-8d1c-d85fa8a2b73f",
   "metadata": {},
   "source": [
    "## Output"
   ]
  },
  {
   "cell_type": "markdown",
   "id": "aboriginal-responsibility",
   "metadata": {},
   "source": [
    "### Preview the generated list"
   ]
  },
  {
   "cell_type": "markdown",
   "id": "88e075a7-8341-45af-a250-c1594c004579",
   "metadata": {},
   "source": [
    "### Generate readme for github repository"
   ]
  },
  {
   "cell_type": "code",
   "execution_count": null,
   "id": "younger-consensus",
   "metadata": {
    "execution": {
     "iopub.execute_input": "2022-10-27T18:50:48.544943Z",
     "iopub.status.busy": "2022-10-27T18:50:48.544619Z",
     "iopub.status.idle": "2022-10-27T18:50:48.548581Z",
     "shell.execute_reply": "2022-10-27T18:50:48.547974Z"
    },
    "tags": []
   },
   "outputs": [],
   "source": [
    "# Open README template\n",
    "template = open(readme_template).read()\n",
    "\n",
    "# Replace var to get list of templates in markdown format\n",
    "template = template.replace(replace_var, generated_list)\n",
    "\n",
    "# Save README\n",
    "f  = open(readme, \"w+\")\n",
    "f.write(template)\n",
    "f.close()"
   ]
  },
  {
   "cell_type": "markdown",
   "id": "de15f85e-5b64-4e51-a73b-b666fe319e97",
   "metadata": {},
   "source": [
    "### Generate welcome page for OSS"
   ]
  },
  {
   "cell_type": "code",
   "execution_count": null,
   "id": "2a95cba3-027c-4a57-8bfa-2ee1e9053bb7",
   "metadata": {
    "execution": {
     "iopub.execute_input": "2022-10-27T18:50:48.552062Z",
     "iopub.status.busy": "2022-10-27T18:50:48.551662Z",
     "iopub.status.idle": "2022-10-27T18:50:48.554620Z",
     "shell.execute_reply": "2022-10-27T18:50:48.554003Z"
    },
    "tags": []
   },
   "outputs": [],
   "source": [
    "#todo"
   ]
  },
  {
   "cell_type": "code",
   "execution_count": null,
   "id": "70db7c84-57ad-4a92-a60b-9f20b60b5329",
   "metadata": {},
   "outputs": [],
   "source": []
  },
  {
   "cell_type": "code",
   "execution_count": null,
   "id": "ee479c83",
   "metadata": {},
   "outputs": [],
   "source": []
  }
 ],
 "metadata": {
  "kernelspec": {
   "display_name": "Python 3 (ipykernel)",
   "language": "python",
   "name": "python3"
  },
  "language_info": {
   "codemirror_mode": {
    "name": "ipython",
    "version": 3
   },
   "file_extension": ".py",
   "mimetype": "text/x-python",
   "name": "python",
   "nbconvert_exporter": "python",
   "pygments_lexer": "ipython3",
   "version": "3.8.10"
  },
  "vscode": {
   "interpreter": {
    "hash": "31f2aee4e71d21fbe5cf8b01ff0e069b9275f58929596ceb00d14d90e3e16cd6"
   }
  },
  "widgets": {
   "application/vnd.jupyter.widget-state+json": {
    "state": {},
    "version_major": 2,
    "version_minor": 0
   }
  }
 },
 "nbformat": 4,
 "nbformat_minor": 5
}
