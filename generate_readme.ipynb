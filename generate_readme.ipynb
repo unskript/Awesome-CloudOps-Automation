{
 "cells": [
  {
   "cell_type": "markdown",
   "id": "latter-teddy",
   "metadata": {},
   "source": [
    "\n",
    "# Generate Readme with up to date list of xRunBooks"
   ]
  },
  {
   "cell_type": "markdown",
   "id": "421e4c6e-d5ef-4d53-9d36-f352426c4d87",
   "metadata": {
    "execution": {
     "iopub.execute_input": "2021-10-06T11:02:41.091855Z",
     "iopub.status.busy": "2021-10-06T11:02:41.091514Z",
     "iopub.status.idle": "2021-10-06T11:02:41.099143Z",
     "shell.execute_reply": "2021-10-06T11:02:41.098565Z",
     "shell.execute_reply.started": "2021-10-06T11:02:41.091773Z"
    },
    "tags": []
   },
   "source": [
    "## Input"
   ]
  },
  {
   "cell_type": "markdown",
   "id": "e84f7e80-dda2-4569-96dd-5abaaed2c73a",
   "metadata": {},
   "source": [
    "### Import librairies"
   ]
  },
  {
   "cell_type": "code",
   "execution_count": 1,
   "id": "sitting-directory",
   "metadata": {
    "tags": []
   },
   "outputs": [],
   "source": [
    "import os\n",
    "import json\n",
    "import requests\n",
    "import urllib.parse\n",
    "import copy\n",
    "from pathlib import Path\n",
    "import markdown\n",
    "import nbformat\n",
    "from nbconvert import MarkdownExporter\n",
    "from papermill.iorw import (\n",
    "    load_notebook_node,\n",
    "    write_ipynb,\n",
    ")\n",
    "try:\n",
    "    from git import Repo\n",
    "except:\n",
    "    !pip install GitPython\n",
    "    from git import Repo"
   ]
  },
  {
   "cell_type": "markdown",
   "id": "agricultural-contest",
   "metadata": {},
   "source": [
    "### Variables"
   ]
  },
  {
   "cell_type": "code",
   "execution_count": 2,
   "id": "guided-edgar",
   "metadata": {

    "tags": []
   },
   "outputs": [],
   "source": [
    "# README variables\n",
    "readme_template = \"README_template.md\"\n",
    "readme = \"README.md\"\n",
    "replace_var = \"[[DYNAMIC_LIST]]\"\n",
    "badge_var = \"[[BADGE]]\"\n",
    "\n",
    "# welcome variables\n",
    "#this is a TODO\n",
    "#welcome_template = \"Welcome_template.ipynb\"\n",
    "#welcome = \"Welcome.ipynb\"\n",
    "#replace_var_quote = f'\"[[DYNAMIC_LIST]]\",\\n'\n",
    "\n",
    "\n",
    "# Others\n",
    "current_file = '.'\n",
    "notebook_ext = '.ipynb'\n",
    "github_url_base = 'https://github.com/unskript/Awesome-CloudOps-Automation/tree/master'\n",
    "local_OSS_url = 'http://127.0.0.1:8888/lab/tree'\n",
    "#fix these!\n",
    "github_download_url = 'https://raw.githubusercontent.com/unskript/Awesome-CloudOps-Automation/master/'\n",
    "unSkript_logo ='https://unskript.com/assets/favicon.png'\n"
   ]
  },
  {
   "cell_type": "markdown",
   "id": "distinguished-declaration",
   "metadata": {},
   "source": [
    "### Get files list"
   ]
  },
  {
   "cell_type": "code",
   "execution_count": 3,
   "id": "36c9011e-5f51-4779-8062-a627503100e1",
   "metadata": {

    "tags": []
   },
   "outputs": [],
   "source": [
    "repo = Repo('.')\n",
    "branch = repo.active_branch\n",
    "list_of_dir = f\"https://api.github.com/repos/unskript/Awesome-CloudOps-Automation/git/trees/{branch.name}?recursive=1\"\n",
    "r_gh = requests.get(list_of_dir).json().get(\"tree\")\n",
    "notebooks = []\n",
    "actions=[]\n",
    "actionCount = 0\n",
    "runBookCount = 0\n",
    "\n",
    "main_readme_chart = \"\"\n",
    "runbook_list=\"\"\n",
    "runbook_connector = \"\"\n",
    "\n",
    "action_list = \"\"\n",
    "action_connector = \"\"\n",
    "\n",
    "connector_readme_connector =''\n",
    "connector_readme = ''\n",
    "hasRunbook = False\n",
    "hasAction = False\n",
    "\n",
    "if r_gh is not None:\n",
    "    for file in r_gh:\n",
    "        #only look at files we care about - ignore some of the directories that we don't need to scan\n",
    "        if \".github\" not in file.get(\"path\") and \".gitignore\" not in file.get(\"path\") and \"templates\" not in file.get(\"path\") and \"/\" in file.get(\"path\")and \"__init__\" not in file.get(\"path\") and \"custom\" not in file.get(\"path\")and \"unskript-ctl\" not in file.get(\"path\"):\n",
    "            #runbooks are .ipynb, and actions are .py\n",
    "            if file.get(\"path\").endswith(\".ipynb\") or file.get(\"path\").endswith(\".py\"):\n",
    "                temp = file.get(\"path\").split(\"/\")\n",
    "                if temp == -1:\n",
    "                    data = {\n",
    "                        \"root\": None,\n",
    "                        \"filename\": file.get(\"path\")\n",
    "                    }\n",
    "                    notebooks.append(data)\n",
    "                    \n",
    "                else:\n",
    "                    isAction = False\n",
    "                    last_folder = \"\"\n",
    "                    file_name = temp[-1]\n",
    "                    filename_string = file_name[0:file_name.find(\".\")]\n",
    "\n",
    "                    temp.pop()\n",
    "                    path = \"\"\n",
    "                    for folder in temp:\n",
    "                        path = path + folder +\"/\"\n",
    "                        if folder == \"legos\":\n",
    "                            isAction = True\n",
    "                        #print(\"folder\",folder)\n",
    "                        last_folder += \"/\" + folder\n",
    "                    \n",
    "                    #testing\n",
    "                    \n",
    "                    \n",
    "                    \n",
    "                    #JSON data\n",
    "                    filename_json = Path(path +\"/\"+filename_string+ \".json\")\n",
    "                    jsonData = json.loads(filename_json.read_text())\n",
    "                    \n",
    "                    \n",
    "                    ##we now have a path.. but only really need the root folder\n",
    "                    ## different ways to generate fior action vs runbook\n",
    "                    if isAction:\n",
    "                        actionCount += 1\n",
    "                        #this is an action folder\n",
    "                        #find first slash\n",
    "                        firstslash = last_folder.find(\"/\",1)\n",
    "                        root = last_folder[1:firstslash]\n",
    "                        name = jsonData['action_title']\n",
    "                        description = jsonData['action_description']\n",
    "                        #categories = jsonData['action_categories']\n",
    "                        polling = jsonData['action_supports_poll']\n",
    "                        iteration = jsonData['action_supports_iteration']\n",
    "                        github_url = github_url_base+\"/\"+file.get(\"path\")\n",
    "                        \n",
    "                    else:\n",
    "                        runBookCount+=1\n",
    "                        #root folder for notebooks\n",
    "                        root = last_folder[1:]\n",
    "                        name = jsonData['name']\n",
    "                        description = jsonData['description']\n",
    "                        categories = jsonData['categories']\n",
    "                        github_url = github_url_base+\"/\"+file.get(\"path\")\n",
    "                    \n",
    "                    data = {\n",
    "                        \"root\": root,\n",
    "                        \"filename\": file_name,\n",
    "                        \"name\": name,\n",
    "                        \"description\": description,\n",
    "                        \"categories\":categories,\n",
    "                        \"github_url\": github_url\n",
    "                    }\n",
    "                    \n",
    "                    if isAction:\n",
    "                        data['type'] = \"Action\"\n",
    "                        data['polling'] = polling\n",
    "                        data['iteration']=iteration\n",
    "                        actions.append(data)\n",
    "                    else:\n",
    "                        data['type'] = \"RunBook\"\n",
    "                        local_url = local_OSS_url+\"/\"+file.get(\"path\")\n",
    "                        data['local_url'] = local_url  \n",
    "                        notebooks.append(data)\n",
    "                        \n",
    "                        \n",
    "                    #generate the list of runbooks for tha main readme\n",
    "                    if not isAction:\n",
    "                        main_readme_chart += f\"|{root} |[{name}]({github_url}) | [Open in Browser]({local_url}) | \\n\"\n",
    "    \n",
    "                    #generate the runbook list page\n",
    "                    if not isAction:\n",
    "                        #have we created a category yet?\n",
    "                        if runbook_connector == \"\":\n",
    "                            runbook_connector = root\n",
    "                            runbook_list += f\"\\n# {runbook_connector}\\n\"\n",
    "                        #same category, or new one\n",
    "                        if runbook_connector != root:\n",
    "                            # new category\n",
    "                            runbook_connector = root\n",
    "                            runbook_list += f\"\\n# {runbook_connector}\\n\"\n",
    "                            \n",
    "                        #now add in each runbook\n",
    "                        runbook_list += f\"* [{name}]({github_url}): {description}\\n\"\n",
    "            \n",
    "                    #generate the action list page\n",
    "                    if isAction:\n",
    "                        #have we created a category yet?\n",
    "                        if action_connector == \"\":\n",
    "                            action_connector = root\n",
    "                            action_list += f\"\\n# {action_connector}\\n\"\n",
    "                        #same category, or new one\n",
    "                        if action_connector != root:\n",
    "                            # new category\n",
    "                            action_connector = root\n",
    "                            action_list += f\"\\n# {action_connector}\\n\"\n",
    "                            \n",
    "                        #now add in each Action\n",
    "                        action_list += f\"* [{name}]({github_url}): {description}\\n\"\n",
    "                    \n",
    "                    \n",

    "\n",
    "                    #generate the readme for each connector\n",
    "                    #have we created a category yet?\n",
    "                    if connector_readme_connector == \"\":\n",
    "                        connector_readme_connector = root\n",
    "                        connector_readme = ''\n",
    "                        hasRunbook = False\n",
    "                        hasAction = False\n",
    "                    #same category, or new one\n",
    "                    if connector_readme_connector != root:\n",
    "                        # starting a new readme\n",
    "                        #first let's save the old one:\n",
    "                        #print(connector_readme)\n",
    "                        readme_file = f\"{connector_readme_connector}/README.md\"\n",
    "                        f  = open(readme_file, \"w+\")\n",
    "                        f.write(connector_readme)\n",
    "                        f.close()\n",
    "                        #now start building the new readme\n",
    "                        connector_readme_connector = root\n",
    "                        connector_readme = ''\n",
    "                        hasRunbook = False\n",
    "                        hasAction = False\n",
    "\n",
    "                    if data['type'] ==\"RunBook\":\n",
    "                        if not hasRunbook:\n",
    "                            connector_readme += f'# {root} RunBooks\\n'\n",
    "                            hasRunbook = True\n",
    "                        connector_readme += f\"* [{name}]({github_url}): {description}\\n\"\n",
    "                    if data['type'] ==\"Action\":\n",
    "                        if not hasAction:\n",
    "                            connector_readme += f'\\n# {root} Actions\\n'\n",
    "                            hasAction = True\n",
    "                        connector_readme += f\"* [{name}]({github_url}): {description}\\n\"\n",
    "    \n",
    "#print(notebooks)\n",
    "#print(action_list)\n",
    "#print(runBookCount, actionCount)\n"
   ]
  },
  {
   "cell_type": "code",
   "execution_count": 4,
   "id": "4f238d53",
   "metadata": {
   },
   "outputs": [
    {
     "name": "stdout",
     "output_type": "stream",
     "text": [
      "{'CATEGORY_TYPE_IAM': PosixPath('lists/runbook_CATEGORY_TYPE_IAM.md'), 'CATEGORY_TYPE_SECOPS': PosixPath('lists/runbook_CATEGORY_TYPE_SECOPS.md'), 'CATEGORY_TYPE_CLOUDOPS': PosixPath('lists/runbook_CATEGORY_TYPE_CLOUDOPS.md'), 'CATEGORY_TYPE_DEVOPS': PosixPath('lists/runbook_CATEGORY_TYPE_DEVOPS.md'), 'CATEGORY_TYPE_SRE': PosixPath('lists/runbook_CATEGORY_TYPE_SRE.md'), 'CATEGORY_TYPE_COST_OPT': PosixPath('lists/runbook_CATEGORY_TYPE_COST_OPT.md'), 'CATEGORY_TYPE_TROUBLESHOOTNG': PosixPath('lists/runbook_CATEGORY_TYPE_TROUBLESHOOTNG.md')}\n"
     ]
    }
   ],
   "source": [
    "## generate category lists from runbooks\n",
    "\n",
    "notebook_categories = {}\n",
    "notebook_category_urls = {}\n",
    "\n",

    "for notebook in notebooks:\n",
    "    #print(notebook['root'], notebook['name'])\n",
    "    if len(notebook['categories'])>0:\n",
    "        #print(notebook['categories'])\n",
    "        for category in notebook['categories']:\n",
    "            if  category in notebook_categories:\n",
    "                notebook_categories[category].append(notebook)\n",
    "            else:\n",
    "                notebook_categories[category] = []\n",

    "\n",
    "category_name =\"\"\n",
    "category_listing = \"\"\n",
    "for category in notebook_categories:\n",
    "    if category_name ==\"\":\n",
    "        #new category\n",
    "        category_name = category\n",
    "        category_listing = f\"# Runbooks in {category}\\n\"\n",
    "    if category_name != category:\n",
    "        # we have finished off a category\n",
    "        #save the oldcategory\n",
    "        #print(category_name, category_listing)\n",
    "        categoryList_filename = Path(f\"lists/runbook_{category_name}.md\")\n",
    "        notebook_category_urls[category_name] = categoryList_filename\n",
    "        f  = open(categoryList_filename, \"w+\")\n",
    "        f.write(category_listing)\n",
    "        f.close()\n",
    "        category_name = category\n",
    "        category_listing = f\"# Runbooks in {category}\\n\"\n",
    "    \n",
    "\n",
    "    for runbook in notebook_categories[category]:\n",
    "        category_listing += f\"*{runbook['root']} [{runbook['name']}]({runbook['github_url']}): {runbook['description']}\\n\"\n",
    "        \n",
    "print(notebook_category_urls)"
   ]
  },
  {
   "cell_type": "code",
   "execution_count": null,

   "id": "81ea848a",
   "metadata": {},

   "outputs": [],
   "source": []
  },
  {
   "cell_type": "markdown",
   "id": "aboriginal-responsibility",
   "metadata": {},
   "source": [
    "### Preview the generated list"
   ]
  },
  {
   "cell_type": "markdown",
   "id": "88e075a7-8341-45af-a250-c1594c004579",
   "metadata": {},
   "source": [
    "### Generate readme for github repository"
   ]
  },
  {
   "cell_type": "code",
   "execution_count": 5,
   "id": "younger-consensus",
   "metadata": {

    "tags": []
   },
   "outputs": [],
   "source": [
    "# Open README template\n",
    "template = open(readme_template).read()\n",
    "\n",
    "# Replace var to get list of templates in markdown format\n",
    "template = template.replace(replace_var, main_readme_chart)\n",
    "\n",
    "#create the action and runbook badges\n",
    "actionImage = f'https://img.shields.io/static/v1?label=ActionCount&message={actionCount}&color=green'\n",
    "runbookImage = f'https://img.shields.io/static/v1?label=xRunBookCount&message={runBookCount}&color=orange'\n",
    "actionbadge = f\"<img src={actionImage}>\"\n",
    "runbookbadge =  f\"<img src={runbookImage}>\"\n",
    "\n",
    "\n",
    "#insert the badges on the readme\n",
    "badgeCode = actionbadge + runbookbadge\n",
    "template =  template.replace(badge_var, badgeCode)\n",
    "\n",
    "# Save README\n",
    "f  = open(readme, \"w+\")\n",
    "f.write(template)\n",
    "f.close()"
   ]
  },
  {
   "cell_type": "raw",
   "id": "4c1ed44c",
   "metadata": {},
   "source": []
  },
  {
   "cell_type": "code",
   "execution_count": 6,
   "id": "2a95cba3-027c-4a57-8bfa-2ee1e9053bb7",
   "metadata": {

    "tags": []
   },
   "outputs": [],
   "source": [
    "\n",
    "#generate a page of all the actions that are available\n",
    "ac_list= readme = \"lists/Action_list.md\"\n",
    "# Save README\n",
    "f  = open(ac_list, \"w+\")\n",
    "f.write(action_list)\n",
    "f.close()\n"
   ]
  },
  {
   "cell_type": "code",
   "execution_count": 7,
   "id": "70db7c84-57ad-4a92-a60b-9f20b60b5329",
   "metadata": {

   },
   "outputs": [],
   "source": [
    "#generate a page of all the Runbooks that are available\n",
    "rb_list = readme = \"lists/xRunBook_list.md\"\n",
    "# Save README\n",
    "f  = open(rb_list, \"w+\")\n",
    "f.write(runbook_list)\n",
    "f.close()"
   ]
  },
  {
   "cell_type": "code",
   "execution_count": 8,
   "id": "ee479c83",
   "metadata": {

   },
   "outputs": [],
   "source": [
    "#create JSON files that can be used t build badges for the website showing our Runbook and action counts\n",
    "\n",
    "import json\n",
    "#store Runbookcount json (to create shield on webpage)\n",
    "rb_list = readme = \".github/images/runbookShield.json\"\n",
    "json1 = {\"schemaVersion\": 1,\"label\": \"RunBook Count\",\"message\": runBookCount,\"color\": \"orange\"}\n",
    "\n",
    "# Save README\n",
    "\n",
    "with open(rb_list, \"w\") as outfile:\n",
    "    json.dump(json1, outfile)\n",
    "\n",
    "\n",
    "#store action count json (to create shield on webpage)\n",
    "rb_list = readme = \".github/images/actionShield.json\"\n",
    "json2 = {\"schemaVersion\": 1,\"label\": \"Action Count\",\"message\": actionCount,\"color\": \"green\"}\n",
    "\n",
    "# Save README\n",
    "with open(rb_list, \"w\") as outfile:\n",
    "    json.dump(json2, outfile)"
   ]
  },
  {
   "cell_type": "markdown",
   "id": "076fbbd0",
   "metadata": {},
   "source": []
  },
  {
   "cell_type": "code",
   "execution_count": null,
   "id": "0041b5a5",
   "metadata": {},
   "outputs": [],
   "source": []
  }
 ],
 "metadata": {
  "kernelspec": {
   "display_name": "Python 3 (ipykernel)",
   "language": "python",
   "name": "python3"
  },
  "language_info": {
   "codemirror_mode": {
    "name": "ipython",
    "version": 3
   },
   "file_extension": ".py",
   "mimetype": "text/x-python",
   "name": "python",
   "nbconvert_exporter": "python",
   "pygments_lexer": "ipython3",
   "version": "3.9.6"
  },
  "vscode": {
   "interpreter": {
    "hash": "31f2aee4e71d21fbe5cf8b01ff0e069b9275f58929596ceb00d14d90e3e16cd6"
   }
  },
  "widgets": {
   "application/vnd.jupyter.widget-state+json": {
    "state": {},
    "version_major": 2,
    "version_minor": 0
   }
  }
 },
 "nbformat": 4,
 "nbformat_minor": 5
}
