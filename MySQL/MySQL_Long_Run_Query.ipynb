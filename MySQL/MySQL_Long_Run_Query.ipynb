{
    "cells": [
        {
            "cell_type": "markdown",
            "id": "48d148b1-2c31-4c2c-8de7-8c8e7abdbb31",
            "metadata": {
                "jupyter": {
                    "source_hidden": false
                },
                "name": "MySQL Long Run Query",
                "orderProperties": [],
                "tags": [],
                "title": "MySQL Long Run Query"
            },
            "source": [
                "<img src=\"https://unskript.com/assets/favicon.png\" alt=\"unSkript.com\" width=\"100\" height=\"100\"/> \n",
                "<h1> unSkript Runbooks </h1>\n",
                "<div class=\"alert alert-block alert-success\">\n",
                "    <b> This runbook demonstrates How to get MySQL long running queries using unSkript legos.</b>\n",
                "</div>\n",
                "\n",
                "<br>\n",
                "\n",
                "<center><h2>MySQL Long Run Query</h2></center>\n",
                "\n",
                "# Steps Overview\n",
                "    Get the MySQL long running queries by passing the inputs Read Query :\"SELECT * FROM   performance_schema.threads WHERE PROCESSLIST_COMMAND = %s AND PROCESSLIST_TIME > 10;\" and Parameters:[\"Query\"].MySQL Run Long Running QueryMySQL Run Long Running QueryMySQL Run Long Running QueryMySQL Run Long Running Query"
            ]
        },
        {
            "cell_type": "markdown",
            "id": "e1b4fdf0-bc2f-4401-af98-e88f2c82e6e6",
            "metadata": {
                "jupyter": {
                    "source_hidden": false
                },
                "name": "MySQL Long Run Query",
                "orderProperties": [],
                "tags": [],
                "title": "MySQL Long Run Query"
            },
            "source": [
                "Here we will use unSkript Long Running MySQL Query Lego. This lego takes query and params as input. This inputs is used to findout all the Long running queries available on the MySQL database."
            ]
        },
        {
            "cell_type": "code",
            "execution_count": 15,
            "id": "8aee1d5a-0789-4968-b40e-65e98f29be1e",
            "metadata": {
                "accessType": "ACCESS_TYPE_UNSPECIFIED",
                "actionBashCommand": false,
                "actionNeedsCredential": true,
                "actionRequiredLinesInCode": [],
                "actionSupportsIteration": true,
                "actionSupportsPoll": true,
                "action_uuid": "dcd3811feb0e74b1465d259146ccdb277706fa79a9daa4cb3ecdfcc4877c12a9",
                "collapsed": true,
                "continueOnError": false,
                "createTime": "1970-01-01T00:00:00Z",
                "credentialsJson": {},
                "currentVersion": "0.1.0",
                "description": "Run MySQL Query",
                "execution_data": {
                    "last_date_success_run_cell": "2022-09-29T20:02:20.295Z"
                },
                "id": 83,
                "index": 83,
                "inputData": [
                    {
                        "params": {
                            "constant": false,
                            "value": "Query_Parameters"
                        },
                        "query": {
                            "constant": false,
                            "value": "\"SELECT PROCESSLIST_ID, PROCESSLIST_INFO FROM performance_schema.threads WHERE PROCESSLIST_COMMAND = %s AND PROCESSLIST_TIME >= %s;\""
                        }
                    }
                ],
                "inputschema": [
                    {
                        "properties": {
                            "params": {
                                "description": "Parameters to the query in list format. For eg: [1, 2, \"abc\"]",
                                "items": {},
                                "title": "Parameters",
                                "type": "array"
                            },
                            "query": {
                                "description": "MySQL get query.",
                                "title": "Read Query",
                                "type": "string"
                            }
                        },
                        "required": [
                            "query"
                        ],
                        "title": "mysql_read_query",
                        "type": "object"
                    }
                ],
                "jupyter": {
                    "outputs_hidden": true,
                    "source_hidden": true
                },
                "legotype": "LEGO_TYPE_MYSQL",
                "name": "Long Running MySQL Query",
                "nouns": [
                    "mysql",
                    "query"
                ],
                "orderProperties": [
                    "query",
                    "params"
                ],
                "output": {
                    "type": ""
                },
                "outputParams": {
                    "output_name": "Processlist",
                    "output_name_enabled": true
                },
                "tags": [
                    "mysql_read_query"
                ],
                "title": "Long Running MySQL Query",
                "trusted": true,
                "verbs": [
                    "run"
                ]
            },
            "outputs": [],
            "source": [
                "##\n",
                "##  Copyright (c) 2021 unSkript, Inc\n",
                "##  All rights reserved.\n",
                "##\n",
                "from pydantic import BaseModel, Field\n",
                "from typing import Tuple, List\n",
                "from tabulate import tabulate\n",
                "import pprint\n",
                "\n",
                "\n",
                "from beartype import beartype\n",
                "@beartype\n",
                "def mysql_read_query_printer(output):\n",
                "    if output is None:\n",
                "        return\n",
                "    print('\\n')\n",
                "    pprint.pprint(tabulate(output))\n",
                "\n",
                "\n",
                "@beartype\n",
                "def mysql_read_query(handle, query: str, params: List) -> List:\n",
                "    \"\"\"mysql_read_query Runs mysql query with the provided parameters.\n",
                "\n",
                "          :type nbParamsObj: object\n",
                "          :param nbParamsObj: Object containing global params for the notebook.\n",
                "\n",
                "          :type credentialsDict: dict\n",
                "          :param credentialsDict: Dictionary of credentials info.\n",
                "\n",
                "          :type inputParamsJson: string\n",
                "          :param inputParamsJson: Json string of the input params\n",
                "\n",
                "          :rtype: All the results of the query.\n",
                "      \"\"\"\n",
                "    # Input param validation.\n",
                "    cur = handle.cursor()\n",
                "    cur.execute(query, params)\n",
                "\n",
                "    res = cur.fetchall()\n",
                "\n",
                "    cur.close()\n",
                "    handle.close()\n",
                "    return res\n",
                "\n",
                "\n",
                "task = Task(Workflow())\n",
                "task.configure(inputParamsJson='''{\n",
                "    \"params\": \"Query_Parameters\",\n",
                "    \"query\": \"\\\\\"SELECT PROCESSLIST_ID, PROCESSLIST_INFO FROM performance_schema.threads WHERE PROCESSLIST_COMMAND = %s AND PROCESSLIST_TIME >= %s;\\\\\"\"\n",
                "    }''')\n",
                "task.configure(outputName=\"Processlist\")\n",
                "\n",
                "(err, hdl, args) = task.validate(vars=vars())\n",
                "if err is None:\n",
                "    task.execute(mysql_read_query, lego_printer=mysql_read_query_printer, hdl=hdl, args=args)"
            ]
        },
        {
            "cell_type": "markdown",
            "id": "80652be6-f768-48f3-a1dc-a11415dcec50",
            "metadata": {
                "jupyter": {
                    "source_hidden": false
                },
                "name": "Kill Long Query",
                "orderProperties": [],
                "tags": [],
                "title": "Kill Long Query"
            },
            "source": [
                "Here we will use unSkript Kill Long Running MySQL Query Lego. This lego takes query and params as input. This input is used to kill the queries by using process ID."
            ]
        },
        {
            "cell_type": "code",
            "execution_count": 6,
            "id": "d5ea544b-8a2d-411c-a48b-6721762d42ed",
            "metadata": {
                "accessType": "ACCESS_TYPE_UNSPECIFIED",
                "actionBashCommand": false,
                "actionNeedsCredential": true,
                "actionRequiredLinesInCode": [],
                "actionSupportsIteration": true,
                "actionSupportsPoll": true,
                "action_uuid": "dcd3811feb0e74b1465d259146ccdb277706fa79a9daa4cb3ecdfcc4877c12a9",
                "continueOnError": true,
                "createTime": "1970-01-01T00:00:00Z",
                "credentialsJson": {},
                "currentVersion": "0.1.0",
                "description": "Run MySQL Query",
                "execution_data": {
                    "last_date_success_run_cell": "2022-09-29T19:57:37.190Z"
                },
                "id": 83,
                "index": 83,
                "inputData": [
                    {
                        "params": {
                            "constant": false,
                            "value": "iter_item"
                        },
                        "query": {
                            "constant": false,
                            "value": "\"KILL %d\""
                        }
                    }
                ],
                "inputschema": [
                    {
                        "properties": {
                            "params": {
                                "description": "Parameters to the query in list format. For eg: [1, 2, \"abc\"]",
                                "items": {},
                                "title": "Parameters",
                                "type": "array"
                            },
                            "query": {
                                "description": "MySQL get query.",
                                "title": "Read Query",
                                "type": "string"
                            }
                        },
                        "required": [
                            "query"
                        ],
                        "title": "mysql_read_query",
                        "type": "object"
                    }
                ],
                "iterData": [
                    {
                        "iter_enabled": true,
                        "iter_item": "params",
                        "iter_list": {
                            "constant": false,
                            "objectItems": false,
                            "value": "[x[0] for x in Processlist]"
                        }
                    }
                ],
                "jupyter": {
                    "source_hidden": true
                },
                "legotype": "LEGO_TYPE_MYSQL",
                "name": "Kill Long Running MySQL Query",
                "nouns": [
                    "mysql",
                    "query"
                ],
                "orderProperties": [
                    "query",
                    "params"
                ],
                "output": {
                    "type": ""
                },
                "tags": [
                    "mysql_read_query"
                ],
                "title": "Kill Long Running MySQL Query",
                "trusted": true,
                "verbs": [
                    "run"
                ]
            },
            "outputs": [],
            "source": [
                "##\n",
                "##  Copyright (c) 2021 unSkript, Inc\n",
                "##  All rights reserved.\n",
                "##\n",
                "from pydantic import BaseModel, Field\n",
                "from typing import Tuple, List\n",
                "from tabulate import tabulate\n",
                "import pprint\n",
                "\n",
                "\n",
                "from beartype import beartype\n",
                "@beartype\n",
                "def mysql_read_query_printer(output):\n",
                "    if output is None:\n",
                "        return\n",
                "    print('\\n')\n",
                "    pprint.pprint(tabulate(output))\n",
                "\n",
                "\n",
                "@beartype\n",
                "def mysql_read_query(handle, query: str, params: List) -> List:\n",
                "    \"\"\"mysql_read_query Runs mysql query with the provided parameters.\n",
                "\n",
                "          :type nbParamsObj: object\n",
                "          :param nbParamsObj: Object containing global params for the notebook.\n",
                "\n",
                "          :type credentialsDict: dict\n",
                "          :param credentialsDict: Dictionary of credentials info.\n",
                "\n",
                "          :type inputParamsJson: string\n",
                "          :param inputParamsJson: Json string of the input params\n",
                "\n",
                "          :rtype: All the results of the query.\n",
                "      \"\"\"\n",
                "    # Input param validation.\n",
                "    print(params)\n",
                "    cur = handle.cursor()\n",
                "    cur.execute(query, params)\n",
                "\n",
                "    res = cur.fetchall()\n",
                "\n",
                "    cur.close()\n",
                "    handle.close()\n",
                "    return res\n",
                "\n",
                "\n",
                "task = Task(Workflow())\n",
                "task.configure(continueOnError=True)\n",
                "task.configure(inputParamsJson='''{\n",
                "    \"params\": \"iter_item\",\n",
                "    \"query\": \"\\\\\"KILL %d\\\\\"\"\n",
                "    }''')\n",
                "task.configure(iterJson='''{\n",
                "    \"iter_enabled\": true,\n",
                "    \"iter_list_is_const\": false,\n",
                "    \"iter_list\": \"[x[0] for x in Processlist]\",\n",
                "    \"iter_parameter\": \"params\"\n",
                "    }''')\n",
                "(err, hdl, args) = task.validate(vars=vars())\n",
                "if err is None:\n",
                "    task.execute(mysql_read_query, lego_printer=mysql_read_query_printer, hdl=hdl, args=args)"
            ]
        },
        {
            "cell_type": "markdown",
            "id": "0ac86ccf-640d-4115-a255-2b0d5f7891ff",
            "metadata": {
                "jupyter": {
                    "source_hidden": false
                },
                "name": "Conclusion",
                "orderProperties": [],
                "tags": [],
                "title": "Conclusion"
            },
            "source": [
                "In this Runbook, we demonstrated the use of unSkript's MySQL legos to run MySQL Query and get the MySQL long running queries. To view the full platform capabilities of unSkript please visit https://unskript.com"
            ]
        }
    ],
    "metadata": {
        "execution_data": {
            "environment_id": "1499f27c-6406-4fbd-bd1b-c6f92800018f",
            "environment_name": "Staging",
            "execution_id": "",
            "inputs_for_searched_lego": "",
            "notebook_id": "4eb1932e-234e-4ec7-b510-82de2166cfd0.ipynb",
            "parameters": null,
            "runbook_name": "MySQL Long Run Query",
            "search_string": "",
            "show_tool_tip": false,
            "tenant_id": "982dba5f-d9df-48ae-a5bf-ec1fc94d4882",
            "tenant_url": "https://tenant-staging.alpha.unskript.io",
            "user_email_id": "harshal.bangre@unskript.com",
            "workflow_id": "f5cbe83a-b8cb-47c6-9459-7ddb5c66e464"
        },
        "kernelspec": {
            "display_name": "Python 3.10.6 64-bit",
            "language": "python",
            "name": "python3"
        },
        "language_info": {
            "file_extension": ".py",
            "mimetype": "text/x-python",
            "name": "python",
            "pygments_lexer": "ipython3",
            "version": "3.10.6"
        },
        "parameterSchema": {
            "properties": {
                "Query_Parameters": {
                    "default": [
                        "Query",
                        "0"
                    ],
                    "description": "Parameters for MySQL Query",
                    "title": "Query_Parameters",
                    "type": "array"
                }
            },
            "required": [],
            "title": "Schema",
            "type": "object"
        },
        "parameterValues": {
            "Query_Parameters": [
                "Query",
                "0"
            ]
        },
        "vscode": {
            "interpreter": {
                "hash": "e8899eb02dfbc033aab5733bdae1bd213fa031d40331094008e8673d99ebab63"
            }
        }
    },
    "nbformat": 4,
    "nbformat_minor": 5
}
