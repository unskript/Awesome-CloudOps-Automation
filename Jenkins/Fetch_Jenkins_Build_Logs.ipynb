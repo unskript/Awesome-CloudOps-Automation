{
 "cells": [
  {
   "cell_type": "markdown",
   "id": "6e5315be",
   "metadata": {},
   "source": [
    "\n",
    "<img src=\"https://storage.googleapis.com/unskript-website/assets/favicon.png\" alt=\"unSkript.com\" width=\"100\" height=\"100\"/> \n",
    "<h1> unSkript Runbooks </h1>\n",
    "<div class=\"alert alert-block alert-success\">\n",
    "    <b> This runbook demonstrates How to Fetch Jenkins Build Logs using unSkript legos.</b>\n",
    "</div>\n",
    "\n",
    "<br>\n",
    "\n",
    "<center><h2>Fetch Jenkins Build Logs</h2></center>\n",
    "\n",
    "# Steps Overview\n",
    "    1) Get logs for the particular job name.\n",
    "    2) Post the logs to Slack channel."
   ]
  },
  {
   "cell_type": "markdown",
   "id": "26223053",
   "metadata": {},
   "source": [
    "Here we will use unSkript Get Jenkins Logs from a job Lego. This lego takes job_name and build_number as input. This input is used to discover logs from Jenkins using a Job."
   ]
  },
  {
   "cell_type": "code",
   "execution_count": null,
   "id": "dd9b8409-330a-4b3a-b7aa-606184c14b31",
   "metadata": {
    "accessType": "ACCESS_TYPE_UNSPECIFIED",
    "actionBashCommand": false,
    "actionNeedsCredential": true,
    "actionSupportsIteration": true,
    "actionSupportsPoll": true,
    "action_uuid": "56ab4c7ca0cdab8afa03582a8b802ac37202fa0fd00ec3d64850194f79870bcb",
    "collapsed": true,
    "createTime": "1970-01-01T00:00:00Z",
    "currentVersion": "0.1.0",
    "description": "Get Jenkins Logs from a Job",
    "id": 9,
    "index": 9,
    "inputData": [
     {
      "build_number": {
       "constant": false,
       "value": "build_number"
      },
      "job_name": {
       "constant": false,
       "value": "job_name"
      }
     }
    ],
    "inputschema": [
     {
      "properties": {
       "build_number": {
        "default": 0,
        "description": "Specific build number of the job. By default, it gets the last build logs.",
        "title": "Build Number",
        "type": "integer"
       },
       "job_name": {
        "description": "Jenkins job name.",
        "title": "Job Name",
        "type": "string"
       }
      },
      "required": [
       "job_name"
      ],
      "title": "jenkins_get_logs",
      "type": "object"
     }
    ],
    "jupyter": {
     "outputs_hidden": true,
     "source_hidden": true
    },
    "legotype": "LEGO_TYPE_JENKINS",
    "name": "Get Jenkins Logs from a job",
    "nouns": [
     "jenkis",
     "logs",
     "job"
    ],
    "orderProperties": [
     "job_name",
     "build_number"
    ],
    "output": {
     "type": ""
    },
    "tags": [
     "jenkins_get_logs"
    ],
    "verbs": [
     "get"
    ],
    "credentialsJson": {}
   },
   "outputs": [],
   "source": [
    "##\n",
    "##  Copyright (c) 2021 unSkript, Inc\n",
    "##  All rights reserved.\n",
    "##\n",
    "from pydantic import BaseModel, Field\n",
    "from typing import Optional\n",
    "\n",
    "\n",
    "from beartype import beartype\n",
    "@beartype\n",
    "def jenkins_get_logs(handle, job_name: str, build_number: int = 0):\n",
    "    \"\"\"jenkins_get_logs returns logs for the particular job name.\n",
    "        :type nbParamsObj: object\n",
    "        :param nbParamsObj: Object containing global params for the notebook.\n",
    "        :type credentialsDict: dict\n",
    "        :param credentialsDict: Dictionary of credentials info.\n",
    "        :rtype: Dict with builds number and logs.\n",
    "    \"\"\"\n",
    "\n",
    "    # Input param validation.\n",
    "    job = handle.get_job(job_name)\n",
    "\n",
    "    if build_number == 0:\n",
    "        res = job.get_last_build()\n",
    "        return res.get_console()\n",
    "\n",
    "    res = job.get_build(build_number)\n",
    "    return res.get_console()\n",
    "\n",
    "\n",
    "task = Task(Workflow())\n",
    "task.configure(inputParamsJson='''{\n",
    "    \"build_number\": \"build_number\",\n",
    "    \"job_name\": \"job_name\"\n",
    "    }''')\n",
    "\n",
    "(err, hdl, args) = task.validate(vars=vars())\n",
    "if err is None:\n",
    "    task.output = task.execute(jenkins_get_logs, hdl=hdl, args=args)\n",
    "    if task.output_name != None:\n",
    "        globals().update({task.output_name: task.output[0]})\n",
    "\n",
    "if hasattr(task, 'output'):\n",
    "    if isinstance(task.output, (list, tuple)):\n",
    "        for item in task.output:\n",
    "            print(f'item: {item}')\n",
    "    elif isinstance(task.output, dict):\n",
    "        for item in task.output.items():\n",
    "            print(f'item: {item}')\n",
    "    else:\n",
    "        print(f'Output for {task.name}')\n",
    "        print(task.output)\n",
    "    w.tasks[task.name]= task.output"
   ]
  },
  {
   "cell_type": "markdown",
   "id": "427aefe9",
   "metadata": {},
   "source": [
    "Here we will use unSkript Post Slack Message Lego. This lego takes channel: str and message: str as input. This input is used to post the message to the slack channel."
   ]
  },
  {
   "cell_type": "code",
   "execution_count": null,
   "id": "822f1945-cd69-4258-ac64-0e9752ee2069",
   "metadata": {
    "accessType": "ACCESS_TYPE_UNSPECIFIED",
    "actionBashCommand": false,
    "actionNeedsCredential": true,
    "actionSupportsIteration": true,
    "actionSupportsPoll": true,
    "action_uuid": "6a87f83ab0ecfeecb9c98d084e2b1066c26fa64be5b4928d5573a5d60299802d",
    "collapsed": true,
    "createTime": "1970-01-01T00:00:00Z",
    "currentVersion": "0.1.0",
    "description": "Post Slack Message",
    "id": 44,
    "index": 44,
    "inputData": [
     {
      "channel": {
       "constant": false,
       "value": "channel"
      },
      "message": {
       "constant": false,
       "value": "f\"Jenkins logs for Job:{job_name} Build:{build_number} {jenkins_output}\""
      }
     }
    ],
    "inputschema": [
     {
      "properties": {
       "channel": {
        "description": "Name of the slack channel where the message to be posted",
        "title": "Channel",
        "type": "string"
       },
       "message": {
        "description": "Message to be sent",
        "title": "Message",
        "type": "string"
       }
      },
      "required": [
       "channel",
       "message"
      ],
      "title": "slack_post_message",
      "type": "object"
     }
    ],
    "jupyter": {
     "outputs_hidden": true,
     "source_hidden": true
    },
    "legotype": "LEGO_TYPE_SLACK",
    "name": "Post Slack Message",
    "nouns": [
     "slack",
     "message"
    ],
    "orderProperties": [
     "channel",
     "message"
    ],
    "output": {
     "type": ""
    },
    "tags": [
     "slack_post_message"
    ],
    "verbs": [
     "post"
    ],
    "credentialsJson": {}
   },
   "outputs": [],
   "source": [
    "##\n",
    "# Copyright (c) 2021 unSkript, Inc\n",
    "# All rights reserved.\n",
    "##\n",
    "\n",
    "import pprint\n",
    "\n",
    "from pydantic import BaseModel, Field\n",
    "from slack_sdk import WebClient\n",
    "from slack_sdk.errors import SlackApiError\n",
    "\n",
    "pp = pprint.PrettyPrinter(indent=2)\n",
    "\n",
    "\n",
    "from beartype import beartype\n",
    "def legoPrinter(func):\n",
    "    def Printer(*args, **kwargs):\n",
    "        output = func(*args, **kwargs)\n",
    "        if output:\n",
    "            channel = kwargs[\"channel\"]\n",
    "            pp.pprint(print(f\"Message sent to Slack channel {channel}\"))\n",
    "        return output\n",
    "    return Printer\n",
    "\n",
    "\n",
    "@legoPrinter\n",
    "@beartype\n",
    "def slack_post_message(\n",
    "        handle: WebClient,\n",
    "        channel: str,\n",
    "        message: str) -> bool:\n",
    "\n",
    "    try:\n",
    "        response = handle.chat_postMessage(\n",
    "            channel=channel,\n",
    "            text=message)\n",
    "        return True\n",
    "    except SlackApiError as e:\n",
    "        print(\"\\n\\n\")\n",
    "        pp.pprint(\n",
    "            f\"Failed sending message to slack channel {channel}, Error: {e.response['error']}\")\n",
    "        return False\n",
    "    except Exception as e:\n",
    "        print(\"\\n\\n\")\n",
    "        pp.pprint(\n",
    "            f\"Failed sending message to slack channel {channel}, Error: {e.__str__()}\")\n",
    "        return False\n",
    "\n",
    "\n",
    "task = Task(Workflow())\n",
    "task.configure(inputParamsJson='''{\n",
    "    \"channel\": \"channel\",\n",
    "    \"message\": \"f\\\\\"Jenkins logs for Job:{job_name} Build:{build_number} {jenkins_output}\\\\\"\"\n",
    "    }''')\n",
    "\n",
    "(err, hdl, args) = task.validate(vars=vars())\n",
    "if err is None:\n",
    "    task.output = task.execute(slack_post_message, hdl=hdl, args=args)\n",
    "    if task.output_name != None:\n",
    "        globals().update({task.output_name: task.output[0]})"
   ]
  },
  {
   "cell_type": "markdown",
   "id": "d153cd3a",
   "metadata": {},
   "source": [
    "### Conclusion\n",
    "In this Runbook, we demonstrated the use of unSkript's Jenkins and slack legos to perform Jenkins action and this runbook fetches the logs for a given Jenkins job and posts to a slack channel. To view the full platform capabilities of unSkript please visit https://unskript.com"
   ]
  }
 ],
 "metadata": {
  "execution_data": {
   "runbook_name": "Fetch Jenkins Build Logs",
   "parameters": [
    "build_number",
    "channel",
    "job_name"
   ]
  },
  "kernelspec": {
   "display_name": "Python 3.9.6 64-bit",
   "language": "python",
   "name": "python3"
  },
  "language_info": {
   "file_extension": ".py",
   "mimetype": "text/x-python",
   "name": "python",
   "pygments_lexer": "ipython3",
   "version": "3.9.6"
  },
  "parameterSchema": {
   "properties": {
    "build_number": {
     "default": 0,
     "description": "Build Number",
     "title": "build_number",
     "type": "integer"
    },
    "channel": {
     "default": "",
     "description": "Slack channel to post to",
     "title": "channel",
     "type": "string"
    },
    "job_name": {
     "default": "",
     "description": "Name of the Jenkins Job",
     "title": "job_name",
     "type": "string"
    }
   },
   "required": [],
   "title": "Schema",
   "type": "object"
  },
  "parameterValues": {
   "build_number": null,
   "channel": null,
   "job_name": null
  },
  "vscode": {
   "interpreter": {
    "hash": "31f2aee4e71d21fbe5cf8b01ff0e069b9275f58929596ceb00d14d90e3e16cd6"
   }
  }
 },
 "nbformat": 4,
 "nbformat_minor": 5
}