{
 "cells": [
  {
   "cell_type": "markdown",
   "id": "8c2def3e-168a-408c-b85d-49048cdd54cd",
   "metadata": {
    "jupyter": {
     "source_hidden": false
    },
    "name": "K8s Log healthcheck",
    "orderProperties": [],
    "tags": [],
    "title": "K8s Log healthcheck"
   },
   "source": [
    "<h1>Kubernetes Healthcheck Runbook</h1>\n",
    "<p>This runbook grabs all of your K8s pods, reads the logs from them, and then output any WARNING logs from the last hour.</p>\n",
    "<p>&nbsp;</p>\n",
    "<ul>\n",
    "<li>Step 1: Get all of the pods</li>\n",
    "<li>Step 2: get all of the lopgs for each pod</li>\n",
    "<li>Step 3 parse the logs for warnings in the last hour</li>\n",
    "<li>Step 4: if there are warnings - send a Slack alert.</li>\n",
    "</ul>"
   ]
  },
  {
   "cell_type": "markdown",
   "id": "9ff97ba4-b03b-4537-a840-f8e878048d9e",
   "metadata": {
    "jupyter": {
     "source_hidden": false
    },
    "name": "Step 1: get the pod names",
    "orderProperties": [],
    "tags": [],
    "title": "Step 1: get the pod names"
   },
   "source": [
    "<p>The input required is the namespace - from the input parameters.</p>\n",
    "<p>&nbsp;</p>\n",
    "<p>This will then query the namespace and return a list of pods in the Output variable 'podList.'</p>"
   ]
  },
  {
   "cell_type": "code",
   "execution_count": 24,
   "id": "0cc3b3cf-638c-4b01-ae49-27cb6e30c79e",
   "metadata": {
    "accessType": "ACCESS_TYPE_UNSPECIFIED",
    "actionBashCommand": false,
    "actionNeedsCredential": true,
    "actionRequiredLinesInCode": [],
    "actionSupportsIteration": true,
    "actionSupportsPoll": true,
    "action_modified": false,
    "action_uuid": "9e74360f92185496ce46b5110f5551edb1907d29ceed02dbb7b6a1a0b16e7e27",
    "continueOnError": false,
    "createTime": "1970-01-01T00:00:00Z",
    "credentialsJson": {},
    "currentVersion": "0.1.0",
    "description": "Kubectl list pods in given namespace",
    "execution_data": {
     "last_date_success_run_cell": "2023-01-13T20:02:23.900Z"
    },
    "id": 47,
    "index": 47,
    "inputData": [
     {
      "k8s_cli_string": {
       "constant": false,
       "value": "\"kubectl get pods -n {namespace}\""
      },
      "namespace": {
       "constant": false,
       "value": "namespace"
      }
     }
    ],
    "inputschema": [
     {
      "properties": {
       "k8s_cli_string": {
        "default": "\"kubectl get pods -n {namespace}\"",
        "description": "kubectl List pods in given namespace",
        "title": "Kubectl Command",
        "type": "string"
       },
       "namespace": {
        "description": "Namespace",
        "title": "Namespace",
        "type": "string"
       }
      },
      "required": [
       "namespace"
      ],
      "title": "k8s_kubectl_list_pods",
      "type": "object"
     }
    ],
    "jupyter": {
     "source_hidden": true
    },
    "legotype": "LEGO_TYPE_K8S",
    "name": "Kubectl list pods",
    "nouns": [],
    "orderProperties": [
     "k8s_cli_string",
     "namespace"
    ],
    "output": {
     "type": ""
    },
    "outputParams": {
     "output_name": "podList",
     "output_name_enabled": true
    },
    "printOutput": true,
    "tags": [
     "k8s_kubectl_list_pods"
    ],
    "verbs": []
   },
   "outputs": [],
   "source": [
    "from pydantic import BaseModel, Field\n",
    "import pandas as pd\n",
    "import io\n",
    "\n",
    "from beartype import beartype\n",
    "@beartype\n",
    "def k8s_kubectl_list_pods_printer(data: list):\n",
    "    if data is None:\n",
    "        return\n",
    "\n",
    "    print(\"POD List:\")\n",
    "\n",
    "    for pod in data:\n",
    "        print(f\"\\t {pod}\")\n",
    "\n",
    "@beartype\n",
    "def k8s_kubectl_list_pods(handle, k8s_cli_string: str, namespace: str) -> list:\n",
    "    \"\"\"k8s_kubectl_list_pods executes the given kubectl command\n",
    "\n",
    "        :type handle: object\n",
    "        :param handle: Object returned from the Task validate method\n",
    "\n",
    "        :type k8s_cli_string: str\n",
    "        :param k8s_cli_string: kubectl get pods -n {namespace}.\n",
    "\n",
    "        :type namespace: str\n",
    "        :param namespace: Namespace.\n",
    "\n",
    "        :rtype:\n",
    "    \"\"\"\n",
    "    k8s_cli_string = k8s_cli_string.format(namespace=namespace)\n",
    "    result = handle.run_native_cmd(k8s_cli_string)\n",
    "    df = pd.read_fwf(io.StringIO(result.stdout))\n",
    "    all_pods = []\n",
    "    for index, row in df.iterrows():\n",
    "        all_pods.append(row['NAME'])\n",
    "    return all_pods\n",
    "\n",
    "\n",
    "task = Task(Workflow())\n",
    "task.configure(inputParamsJson='''{\n",
    "    \"k8s_cli_string\": \"\\\\\"kubectl get pods -n {namespace}\\\\\"\",\n",
    "    \"namespace\": \"namespace\"\n",
    "    }''')\n",
    "task.configure(outputName=\"podList\")\n",
    "task.configure(printOutput=True)\n",
    "(err, hdl, args) = task.validate(vars=vars())\n",
    "if err is None:\n",
    "    task.execute(k8s_kubectl_list_pods, lego_printer=k8s_kubectl_list_pods_printer, hdl=hdl, args=args)"
   ]
  },
  {
   "cell_type": "markdown",
   "id": "d626b3d5-16fd-4878-a937-3e880a1442be",
   "metadata": {
    "jupyter": {
     "source_hidden": false
    },
    "name": "Step 2: get all of the logs",
    "orderProperties": [],
    "tags": [],
    "title": "Step 2: get all of the logs"
   },
   "source": [
    "<p>Step 2 takes the list of pod 'pod\"list' from Step one, and the namespace input parameter, and obtains the logs for all of the Pods.</p>\n",
    "<p>&nbsp;</p>\n",
    "<p>We use the Iterator to iterate through the list.&nbsp; This can take a while if you have a lot of pods.</p>\n",
    "<p>&nbsp;</p>\n",
    "<p>The output is saved in a Dict called `allTheLogs'</p>"
   ]
  },
  {
   "cell_type": "code",
   "execution_count": 25,
   "id": "5404a1ee-efd1-4bf6-91a8-e7d240e6ae43",
   "metadata": {
    "accessType": "ACCESS_TYPE_UNSPECIFIED",
    "actionBashCommand": false,
    "actionNeedsCredential": true,
    "actionRequiredLinesInCode": [],
    "actionSupportsIteration": true,
    "actionSupportsPoll": true,
    "action_modified": false,
    "action_uuid": "7a54aaf7808d98bce5132bc5b5224a084d63ca31921dc362f5b91fbc581cd0da",
    "continueOnError": false,
    "createTime": "1970-01-01T00:00:00Z",
    "credentialsJson": {},
    "currentVersion": "0.1.0",
    "description": "Kubectl get logs for a given pod",
    "execution_data": {
     "last_date_success_run_cell": "2023-01-13T20:08:25.384Z"
    },
    "id": 35,
    "index": 35,
    "inputData": [
     {
      "k8s_cli_string": {
       "constant": false,
       "value": "\"kubectl logs {pod_name} -n {namespace}\""
      },
      "namespace": {
       "constant": false,
       "value": "namespace"
      },
      "pod_name": {
       "constant": false,
       "value": "iter_item"
      }
     }
    ],
    "inputschema": [
     {
      "properties": {
       "k8s_cli_string": {
        "default": "\"kubectl logs {pod_name} -n {namespace}\"",
        "description": "kubectl get logs for a given pod",
        "title": "Kubectl Command",
        "type": "string"
       },
       "namespace": {
        "description": "Namespace",
        "title": "Namespace",
        "type": "string"
       },
       "pod_name": {
        "description": "Pod Name",
        "title": "Pod Name",
        "type": "string"
       }
      },
      "required": [
       "pod_name",
       "namespace"
      ],
      "title": "k8s_kubectl_get_logs",
      "type": "object"
     }
    ],
    "iterData": [
     {
      "iter_enabled": true,
      "iter_item": "pod_name",
      "iter_list": {
       "constant": false,
       "objectItems": false,
       "value": "podList"
      }
     }
    ],
    "jupyter": {
     "source_hidden": true
    },
    "legotype": "LEGO_TYPE_K8S",
    "name": "Kubectl get logs",
    "nouns": [],
    "orderProperties": [
     "k8s_cli_string",
     "pod_name",
     "namespace"
    ],
    "output": {
     "type": ""
    },
    "outputParams": {
     "output_name": "allTheLogs",
     "output_name_enabled": true
    },
    "printOutput": true,
    "tags": [
     "k8s_kubectl_get_logs"
    ],
    "verbs": []
   },
   "outputs": [],
   "source": [
    "from pydantic import BaseModel, Field\n",
    "from pprint import pprint\n",
    "\n",
    "from beartype import beartype\n",
    "@beartype\n",
    "def k8s_kubectl_get_logs_printer(data: str):\n",
    "    if data is None:\n",
    "        return\n",
    "\n",
    "    print(\"Logs:\")\n",
    "\n",
    "    pprint (data)\n",
    "\n",
    "@beartype\n",
    "def k8s_kubectl_get_logs(handle, k8s_cli_string: str, pod_name: str, namespace:str) -> str:\n",
    "    \"\"\"k8s_kubectl_get_logs executes the given kubectl command\n",
    "\n",
    "        :type handle: object\n",
    "        :param handle: Object returned from the Task validate method\n",
    "\n",
    "        :type k8s_cli_string: str\n",
    "        :param k8s_cli_string: kubectl logs {pod_name} -n {namespace}.\n",
    "\n",
    "        :type pod_name: str\n",
    "        :param pod_name: Pod Name.\n",
    "\n",
    "        :type namespace: str\n",
    "        :param namespace: Namespace.\n",
    "\n",
    "        :rtype: String, Output of the command in python string format or Empty String in case of Error.\n",
    "    \"\"\"\n",
    "    k8s_cli_string = k8s_cli_string.format(pod_name=pod_name, namespace=namespace)\n",
    "    result = handle.run_native_cmd(k8s_cli_string)\n",
    "    data = result.stdout\n",
    "    return data\n",
    "\n",
    "\n",
    "task = Task(Workflow())\n",
    "task.configure(continueOnError=False)\n",
    "task.configure(inputParamsJson='''{\n",
    "    \"k8s_cli_string\": \"\\\\\"kubectl logs {pod_name} -n {namespace}\\\\\"\",\n",
    "    \"namespace\": \"namespace\",\n",
    "    \"pod_name\": \"iter_item\"\n",
    "    }''')\n",
    "task.configure(iterJson='''{\n",
    "    \"iter_enabled\": true,\n",
    "    \"iter_list_is_const\": false,\n",
    "    \"iter_list\": \"podList\",\n",
    "    \"iter_parameter\": \"pod_name\"\n",
    "    }''')\n",
    "task.configure(outputName=\"allTheLogs\")\n",
    "\n",
    "task.configure(printOutput=True)\n",
    "(err, hdl, args) = task.validate(vars=vars())\n",
    "if err is None:\n",
    "    task.execute(k8s_kubectl_get_logs, lego_printer=k8s_kubectl_get_logs_printer, hdl=hdl, args=args)"
   ]
  },
  {
   "cell_type": "markdown",
   "id": "7d75d8a6-49e8-479a-a250-827685c7c376",
   "metadata": {
    "jupyter": {
     "source_hidden": false
    },
    "name": "Step 3: parse the logs",
    "orderProperties": [],
    "tags": [],
    "title": "Step 3: parse the logs"
   },
   "source": [
    "<p>'allTheLogs' is a pretty big file.&nbsp; Loop through each log file, and extract any WARNING messages.&nbsp;&nbsp;<br><br><br></p>\n",
    "<p>We use the input parameter hoursToExamine to filter for logs back that many hours.</p>\n",
    "<p>&nbsp;</p>\n",
    "<p>&nbsp;</p>\n",
    "<p>&nbsp;</p>"
   ]
  },
  {
   "cell_type": "code",
   "execution_count": 26,
   "id": "62686394-a57f-47ab-9b1d-1022869f25c1",
   "metadata": {
    "execution_data": {
     "last_date_success_run_cell": "2023-01-13T20:16:14.980Z"
    },
    "jupyter": {
     "source_hidden": true
    },
    "name": "parse dict of logs",
    "orderProperties": [],
    "tags": [],
    "title": "parse dict of logs",
    "credentialsJson": {}
   },
   "outputs": [],
   "source": [
    "import re\n",
    "from datetime import datetime, timedelta\n",
    "\n",
    "#get all warnings\n",
    "#only report warnings fournd in the x hours\n",
    "timeDiff = datetime.now()- timedelta(hours=hoursToExamine)\n",
    "#if there are warnings that are ok to supress, add them to this list\n",
    "stringsToIgnore = [\"arerqewreqwr\" ]\n",
    "#this will hold all the warnings\n",
    "warning_text_all = {}\n",
    "\n",
    "#Specific issues we can deal with\n",
    "primaryShardIsNotActive = False\n",
    "\n",
    "#we've collected a bunch of logs, lets loop through them for Warnings\n",
    "for instance in allTheLogs:\n",
    "    #print(instance)\n",
    "    log = allTheLogs[instance]\n",
    "    #find the position of all instances of '[WARN' in the logs\n",
    "    warning_start = [m.start() for m in re.finditer(re.escape('[WARN'), log)]\n",
    "    \n",
    "    for i in warning_start:\n",
    "        warningtime = log[i-24:i-5]\n",
    "        issue  = log[i:i+400]\n",
    "        warningtimeDT = datetime.strptime(warningtime, '%Y-%m-%dT%H:%M:%S')\n",
    "        if warningtimeDT > timeDiff:\n",
    "            if issue not in stringsToIgnore:\n",
    "                warning_text_all[instance] = { warningtime:issue}\n",
    "                #test for specific issues\n",
    "                if issue.find(\"primary shard is not active Timeout\")>0:\n",
    "                    primaryShardIsNotActive = True\n",
    "                \n",
    "print(warning_text_all, len(warning_text_all))"
   ]
  },
  {
   "cell_type": "markdown",
   "id": "af26fd0a-7621-4016-8a0d-8a0492ce1b17",
   "metadata": {
    "jupyter": {
     "source_hidden": false
    },
    "name": "Alerts!",
    "orderProperties": [],
    "tags": [],
    "title": "Alerts!"
   },
   "source": [
    "<p>Only send a slack message if there is a problem.&nbsp;&nbsp;</p>\n",
    "<p>&nbsp;</p>\n",
    "<p>To facilitate this, we use the Start Condition</p>\n",
    "<p>```</p>\n",
    "<p>len(warning_text_all) &gt;0</p>\n",
    "<p>```</p>\n",
    "<p>If there are warnings, a Slack message is sent. If there are no warnings, there is no message.</p>"
   ]
  },
  {
   "cell_type": "code",
   "execution_count": 27,
   "id": "ca14605f-1ca3-438b-951c-a3f680bcdb86",
   "metadata": {
    "accessType": "ACCESS_TYPE_UNSPECIFIED",
    "actionBashCommand": false,
    "actionNeedsCredential": true,
    "actionRequiredLinesInCode": [],
    "actionSupportsIteration": true,
    "actionSupportsPoll": true,
    "action_modified": false,
    "action_uuid": "6a87f83ab0ecfeecb9c98d084e2b1066c26fa64be5b4928d5573a5d60299802d",
    "condition_enabled": true,
    "continueOnError": false,
    "createTime": "1970-01-01T00:00:00Z",
    "credentialsJson": {},
    "currentVersion": "0.1.0",
    "description": "Post Slack Message",
    "execution_data": {
     "last_date_success_run_cell": "2023-01-13T20:09:57.724Z"
    },
    "id": 78,
    "index": 78,
    "inputData": [
     {
      "channel": {
       "constant": false,
       "value": "\"unskript-healthcheck\""
      },
      "message": {
       "constant": false,
       "value": "warning_text_all"
      }
     }
    ],
    "inputschema": [
     {
      "properties": {
       "channel": {
        "description": "Name of slack channel.",
        "title": "Channel",
        "type": "string"
       },
       "message": {
        "description": "Message for slack channel.",
        "title": "Message",
        "type": "string"
       }
      },
      "required": [
       "channel",
       "message"
      ],
      "title": "slack_post_message",
      "type": "object"
     }
    ],
    "jupyter": {
     "source_hidden": true
    },
    "legotype": "LEGO_TYPE_SLACK",
    "name": "Post Slack Message",
    "nouns": [],
    "orderProperties": [
     "channel",
     "message"
    ],
    "output": {
     "type": ""
    },
    "printOutput": true,
    "startcondition": "len(warning_text_all) >0",
    "tags": [
     "slack_post_message"
    ],
    "verbs": []
   },
   "outputs": [],
   "source": [
    "##\n",
    "# Copyright (c) 2021 unSkript, Inc\n",
    "# All rights reserved.\n",
    "##\n",
    "\n",
    "import pprint\n",
    "\n",
    "from pydantic import BaseModel, Field\n",
    "from slack_sdk import WebClient\n",
    "from slack_sdk.errors import SlackApiError\n",
    "\n",
    "pp = pprint.PrettyPrinter(indent=2)\n",
    "\n",
    "from beartype import beartype\n",
    "\n",
    "from beartype import beartype\n",
    "@beartype\n",
    "def slack_post_message_printer(output):\n",
    "    if output is not None:\n",
    "        pprint.pprint(output)\n",
    "    else:\n",
    "        return\n",
    "\n",
    "\n",
    "@beartype\n",
    "@beartype\n",
    "def slack_post_message(\n",
    "        handle: WebClient,\n",
    "        channel: str,\n",
    "        message: str) -> str:\n",
    "\n",
    "    try:\n",
    "        response = handle.chat_postMessage(\n",
    "            channel=channel,\n",
    "            text=message)\n",
    "        return f\"Successfuly Sent Message on Channel: #{channel}\"\n",
    "    except SlackApiError as e:\n",
    "        pp.pprint(\n",
    "            f\"Failed sending message to slack channel {channel}, Error: {e.response['error']}\")\n",
    "        if e.response['error'] == 'channel_not_found':\n",
    "            raise Exception('Channel Not Found')\n",
    "        elif e.response['error'] == 'duplicate_channel_not_found':\n",
    "            raise Exception('Channel associated with the message_id not valid')\n",
    "        elif e.response['error'] == 'not_in_channel':\n",
    "            raise Exception('Cannot post message to channel user is not in')\n",
    "        elif e.response['error'] == 'is_archived':\n",
    "            raise Exception('Channel has been archived')\n",
    "        elif e.response['error'] == 'msg_too_long':\n",
    "            raise Exception('Message text is too long')\n",
    "        elif e.response['error'] == 'no_text':\n",
    "            raise Exception('Message text was not provided')\n",
    "        elif e.response['error'] == 'restricted_action':\n",
    "            raise Exception('Workspace preference prevents user from posting')\n",
    "        elif e.response['error'] == 'restricted_action_read_only_channel':\n",
    "            raise Exception('Cannot Post message, read-only channel')\n",
    "        elif e.response['error'] == 'team_access_not_granted':\n",
    "            raise Exception('The token used is not granted access to the workspace')\n",
    "        elif e.response['error'] == 'not_authed':\n",
    "            raise Exception('No Authtnecition token provided')\n",
    "        elif e.response['error'] == 'invalid_auth':\n",
    "            raise Exception('Some aspect of Authentication cannot be validated. Request denied')\n",
    "        elif e.response['error'] == 'access_denied':\n",
    "            raise Exception('Access to a resource specified in the request denied')\n",
    "        elif e.response['error'] == 'account_inactive':\n",
    "            raise Exception('Authentication token is for a deleted user')\n",
    "        elif e.response['error'] == 'token_revoked':\n",
    "            raise Exception('Authentication token for a deleted user has been revoked')\n",
    "        elif e.response['error'] == 'no_permission':\n",
    "            raise Exception('The workspace toekn used does not have necessary permission to send message')\n",
    "        elif e.response['error'] == 'ratelimited':\n",
    "            raise Exception('The request has been ratelimited. Retry sending message later')\n",
    "        elif e.response['error'] == 'service_unavailable':\n",
    "            raise Exception('The service is temporarily unavailable')\n",
    "        elif e.response['error'] == 'fatal_error':\n",
    "            raise Exception('The server encountered catostrophic error while sending message')\n",
    "        elif e.response['error'] == 'internal_error':\n",
    "            raise Exception('The server could not complete operation, likely due to transietn issue')\n",
    "        elif e.response['error'] == 'request_timeout':\n",
    "            raise Exception('Sending message error via POST: either message was missing or truncated')\n",
    "        else:\n",
    "            raise Exception(f'Failed Sending Message to slack channel {channel} Error: {e.response[\"error\"]}')\n",
    "\n",
    "    except Exception as e:\n",
    "        print(\"\\n\\n\")\n",
    "        pp.pprint(\n",
    "            f\"Failed sending message to slack channel {channel}, Error: {e.__str__()}\")\n",
    "        return f\"Unable to send message on {channel}\"\n",
    "\n",
    "\n",
    "task = Task(Workflow())\n",
    "task.configure(inputParamsJson='''{\n",
    " \n",
    "    \"message\": \"warning_text_all\"\n",
    "    }''')\n",
    "task.configure(conditionsJson='''{\n",
    "    \"condition_enabled\": true,\n",
    "    \"condition_cfg\": \"len(warning_text_all) >0\",\n",
    "    \"condition_result\": true\n",
    "    }''')\n",
    "task.configure(printOutput=True)\n",
    "(err, hdl, args) = task.validate(vars=vars())\n",
    "if err is None:\n",
    "    task.execute(slack_post_message, lego_printer=slack_post_message_printer, hdl=hdl, args=args)"
   ]
  }
 ],
 "metadata": {
  "execution_data": {
   "runbook_name": "Kubernetes Log Healthcheck",
   "parameters": [
    "hoursToExamine",
    "namespace"
   ]
  },
  "kernelspec": {
   "display_name": "unSkript (Build: 813)",
   "name": "python_kubernetes"
  },
  "language_info": {
   "file_extension": ".py",
   "mimetype": "text/x-python",
   "name": "python",
   "pygments_lexer": "ipython3"
  },
  "parameterSchema": {
   "properties": {
    "hoursToExamine": {
     "default": 1,
     "description": "Hours to look back in the logs for WARNING messages.  If you set hours =1, this runbook should be run hourly.  If you choose 24 hours, then run it daily.",
     "title": "hoursToExamine",
     "type": "number"
    },
    "namespace": {
     "default": "logging",
     "description": "The namespace for your K8s instances",
     "title": "namespace",
     "type": "string"
    }
   },
   "required": [],
   "title": "Schema",
   "type": "object"
  },
  "parameterValues": {
   "hoursToExamine": "\"float(1)\"",
   "namespace": "logging"
  }
 },
 "nbformat": 4,
 "nbformat_minor": 5
}