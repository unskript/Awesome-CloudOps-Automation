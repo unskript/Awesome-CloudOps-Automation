{
 "cells": [
  {
   "cell_type": "markdown",
   "id": "b176b2f8-b2a7-48e5-a573-1d2058900ba1",
   "metadata": {
    "jupyter": {
     "source_hidden": false
    },
    "name": "Runbook Overview",
    "orderProperties": [],
    "tags": [],
    "title": "Runbook Overview"
   },
   "source": [
    "<center>\n",
    "<h1 id=\"\"><img src=\"https://storage.googleapis.com/unskript-website/assets/favicon.png\" alt=\"unSkript.com\" width=\"100\" height=\"100\"></h1>\n",
    "<h1 id=\"unSkript-Runbooks\">unSkript Runbooks</h1>\n",
    "<div class=\"alert alert-block alert-success\">\n",
    "<h3 id=\"Objective\"><strong>Objective</strong></h3>\n",
    "<strong>Rollback k8s Deployment and Update Jira using unSkript actions.</strong></div>\n",
    "</center><center>\n",
    "<h2 id=\"Rollback-k8s-Deployment-and-Update-Jira\">Rollback k8s Deployment and Update Jira</h2>\n",
    "</center>\n",
    "<h1 id=\"Steps-Overview\"><sub>Steps Overview</sub></h1>\n",
    "<ol>\n",
    "<li>&nbsp;Get the Deployment Rollout status</li>\n",
    "<li>&nbsp;Kubectl rollout deployment</li>\n",
    "<li>&nbsp;Change JIRA Issue Status</li>\n",
    "</ol>"
   ]
  },
  {
   "attachments": {},
   "cell_type": "markdown",
   "id": "5dc2c32b-7fed-492b-ba3b-a883c677fa4f",
   "metadata": {
    "jupyter": {
     "source_hidden": false
    },
    "name": "Gathering Information",
    "orderProperties": [],
    "tags": [],
    "title": "Gathering Information"
   },
   "source": [
    "<h3 id=\"Get-All-The-Namespaces\">Get All The Namespaces</h3>\n",
    "<p>In this action, we collect all the namespaces available in the cluster as a list. This action only executes if the namespace parameter is not given.</p>\n",
    "<ul>\n",
    "<li><strong>Input parameters:</strong>&nbsp; <code>kubectl_command</code></li>\n",
    "<li><strong>Output variable:</strong>&nbsp; <code>namespace_list</code></li>\n",
    "</ul>"
   ]
  },
  {
   "cell_type": "code",
   "execution_count": 3,
   "id": "dbce5781-d0a4-4c63-abf4-b0fccdf250c8",
   "metadata": {
    "accessType": "ACCESS_TYPE_UNSPECIFIED",
    "actionBashCommand": false,
    "actionCategories": [],
    "actionIsCheck": false,
    "actionNeedsCredential": true,
    "actionNextHop": [],
    "actionNextHopParameterMapping": {},
    "actionOutputType": "",
    "actionRequiredLinesInCode": [],
    "actionSupportsIteration": true,
    "actionSupportsPoll": true,
    "action_modified": false,
    "action_uuid": "4d3b4c6153e14622f42b332b7c7b8f7043577971f64edc5be6b5f8b40d5b89d1",
    "condition_enabled": true,
    "continueOnError": false,
    "createTime": "1970-01-01T00:00:00Z",
    "credentialsJson": {},
    "currentVersion": "0.1.0",
    "description": "Execute the given Kubectl command.",
    "execution_data": {
     "last_date_success_run_cell": "2023-02-13T11:43:10.502Z"
    },
    "id": 55,
    "index": 55,
    "inputData": [
     {
      "kubectl_command": {
       "constant": false,
       "value": "\"kubectl get namespaces -o json\""
      }
     }
    ],
    "inputschema": [
     {
      "properties": {
       "kubectl_command": {
        "description": "kubectl command eg \"kubectl get pods --all-namespaces\"",
        "title": "Kubectl Command",
        "type": "string"
       }
      },
      "required": [
       "kubectl_command"
      ],
      "title": "k8s_kubectl_command",
      "type": "object"
     }
    ],
    "jupyter": {
     "source_hidden": true
    },
    "legotype": "LEGO_TYPE_K8S",
    "name": "Get All The Namespaces",
    "nouns": [],
    "orderProperties": [
     "kubectl_command"
    ],
    "output": {
     "type": ""
    },
    "outputParams": {
     "output_name": "namespace_list",
     "output_name_enabled": true
    },
    "printOutput": true,
    "probeEnabled": false,
    "startcondition": "not namespace",
    "tags": [
     "k8s_kubectl_command"
    ],
    "title": "Get All The Namespaces",
    "verbs": []
   },
   "outputs": [],
   "source": [
    "#\n",
    "# Copyright (c) 2022 unSkript.com\n",
    "# All rights reserved.\n",
    "#\n",
    "\n",
    "from pydantic import BaseModel, Field\n",
    "\n",
    "\n",
    "from beartype import beartype\n",
    "@beartype\n",
    "def k8s_kubectl_command_printer(output):\n",
    "    if output is None:\n",
    "        return\n",
    "    print(output)\n",
    "\n",
    "\n",
    "@beartype\n",
    "def k8s_kubectl_command(handle, kubectl_command: str) -> str:\n",
    "    \"\"\"k8s_kubectl_command executes the given kubectl command on the pod\n",
    "\n",
    "        :type handle: object\n",
    "        :param handle: Object returned from the Task validate method\n",
    "\n",
    "        :type kubectl_command: str\n",
    "        :param kubectl_command: The Actual kubectl command, like kubectl get ns, etc..\n",
    "\n",
    "        :rtype: String, Output of the command in python string format or Empty String in case of Error.\n",
    "    \"\"\"\n",
    "    if handle.client_side_validation != True:\n",
    "        print(f\"K8S Connector is invalid: {handle}\")\n",
    "        return str()\n",
    "\n",
    "    result = handle.run_native_cmd(kubectl_command)\n",
    "    if result is None or hasattr(result, \"stderr\") is False or result.stderr is None:\n",
    "        print(\n",
    "            f\"Error while executing command ({kubectl_command}): {result.stderr}\")\n",
    "        return str()\n",
    "\n",
    "    return result.stdout\n",
    "\n",
    "\n",
    "task = Task(Workflow())\n",
    "task.configure(inputParamsJson='''{\n",
    "    \"kubectl_command\": \"\\\\\"kubectl get namespaces -o json\\\\\"\"\n",
    "    }''')\n",
    "task.configure(conditionsJson='''{\n",
    "    \"condition_enabled\": true,\n",
    "    \"condition_cfg\": \"not namespace\",\n",
    "    \"condition_result\": true\n",
    "    }''')\n",
    "task.configure(outputName=\"namespace_list\")\n",
    "task.configure(printOutput=True)\n",
    "(err, hdl, args) = task.validate(vars=vars())\n",
    "if err is None:\n",
    "    task.execute(k8s_kubectl_command, lego_printer=k8s_kubectl_command_printer, hdl=hdl, args=args)"
   ]
  },
  {
   "attachments": {},
   "cell_type": "markdown",
   "id": "7281ea9e-7b6f-4ba2-a095-8a3d03c6783f",
   "metadata": {
    "jupyter": {
     "source_hidden": false
    },
    "name": "Modify Information",
    "orderProperties": [],
    "tags": [],
    "title": "Modify Information"
   },
   "source": [
    "<h3 id=\"Modify-Output\">Modify Output</h3>\n",
    "<p>In this action, we modify the output which collects from the Gathering Information cell and returns a list of all the namespaces or given namespaces.</p>\n",
    "<ul>\n",
    "<li><strong>Output variable:</strong>&nbsp; <code>namespace_data</code></li>\n",
    "</ul>"
   ]
  },
  {
   "cell_type": "code",
   "execution_count": 4,
   "id": "1e52faf1-6694-43f8-a1c7-e0ec5cf6bf07",
   "metadata": {
    "collapsed": true,
    "customAction": true,
    "execution_data": {
     "last_date_success_run_cell": "2023-02-13T11:43:27.943Z"
    },
    "jupyter": {
     "outputs_hidden": true,
     "source_hidden": true
    },
    "name": "Modify Output",
    "orderProperties": [],
    "tags": [],
    "title": "Modify Output",
    "credentialsJson": {}
   },
   "outputs": [],
   "source": [
    "import json\n",
    "\n",
    "namespace_data = []\n",
    "try:\n",
    "    if namespace_list:\n",
    "        namespace_details = json.loads(namespace_list)\n",
    "        for i in namespace_details[\"items\"]:\n",
    "            namespace_data.append(i[\"metadata\"][\"name\"])\n",
    "except Exception as e:\n",
    "    namespace_data.append(namespace)"
   ]
  },
  {
   "attachments": {},
   "cell_type": "markdown",
   "id": "6e64cc52-3618-4731-b0a5-1605d1249216",
   "metadata": {
    "jupyter": {
     "source_hidden": false
    },
    "name": "Step-1",
    "orderProperties": [],
    "tags": [],
    "title": "Step-1"
   },
   "source": [
    "<h3 id=\"Get-Deployment-Rollout-Status\">Get Deployment Rollout Status</h3>\n",
    "<p>Here we will use the unSkript&nbsp;<strong>Get Deployment Rollout Status</strong> action. This action is used to identify the status of deployment for the namespace and return a list of a dictionary that contains the deployments which failed.</p>\n",
    "<ul>\n",
    "<li><strong>Input parameters:</strong>&nbsp; <code>namespace, deployment</code></li>\n",
    "<li><strong>Output variable:</strong>&nbsp; <code>deployment_data</code></li>\n",
    "</ul>"
   ]
  },
  {
   "cell_type": "code",
   "execution_count": 7,
   "id": "7ed8cf54-eed4-4eb0-8542-b42a13acb787",
   "metadata": {
    "accessType": "ACCESS_TYPE_UNSPECIFIED",
    "actionBashCommand": false,
    "actionCategories": [],
    "actionIsCheck": false,
    "actionNeedsCredential": true,
    "actionNextHop": [],
    "actionNextHopParameterMapping": {},
    "actionOutputType": "",
    "actionRequiredLinesInCode": [],
    "actionSupportsIteration": true,
    "actionSupportsPoll": true,
    "action_modified": false,
    "action_uuid": "24e6afe0152d5464b36bc6a2741a157e01efb2eb7c6e1a571c5312468a63cdd3",
    "collapsed": true,
    "condition_enabled": true,
    "continueOnError": true,
    "createTime": "1970-01-01T00:00:00Z",
    "credentialsJson": {},
    "currentVersion": "0.1.0",
    "description": "This action search for failed deployment rollout status and returns list.",
    "execution_data": {
     "last_date_success_run_cell": "2023-02-13T12:15:09.061Z"
    },
    "id": 53,
    "index": 53,
    "inputData": [
     {
      "deployment": {
       "constant": false,
       "value": ""
      },
      "namespace": {
       "constant": false,
       "value": "iter_item"
      }
     }
    ],
    "inputschema": [
     {
      "properties": {
       "deployment": {
        "default": "",
        "description": "k8s Deployment",
        "title": "Deployment",
        "type": "string"
       },
       "namespace": {
        "default": "",
        "description": "k8s Namespace",
        "title": "Namespace",
        "type": "string"
       }
      },
      "title": "k8s_get_deployment_rollout_status",
      "type": "object"
     }
    ],
    "iterData": [
     {
      "iter_enabled": true,
      "iter_item": "namespace",
      "iter_list": {
       "constant": false,
       "objectItems": false,
       "value": "namespace_data"
      }
     }
    ],
    "jupyter": {
     "outputs_hidden": true,
     "source_hidden": true
    },
    "legotype": "LEGO_TYPE_K8S",
    "name": "Get Deployment Rollout Status",
    "nouns": [],
    "orderProperties": [
     "namespace",
     "deployment"
    ],
    "output": {
     "type": ""
    },
    "outputParams": {
     "output_name": "deployment_data",
     "output_name_enabled": true
    },
    "printOutput": true,
    "probeEnabled": false,
    "startcondition": "len(namespace_data)>0",
    "tags": [
     "k8s_get_deployment_rollout_status"
    ],
    "title": "Get Deployment Rollout Status",
    "verbs": []
   },
   "outputs": [],
   "source": [
    "#\n",
    "# Copyright (c) 2022 unSkript.com\n",
    "# All rights reserved.\n",
    "#\n",
    "\n",
    "from pydantic import BaseModel, Field\n",
    "from typing import Optional, Tuple\n",
    "import pprint\n",
    "import json\n",
    "\n",
    "from beartype import beartype\n",
    "@beartype\n",
    "def k8s_get_deployment_rollout_status_printer(output):\n",
    "    if output is None:\n",
    "        return\n",
    "    pprint.pprint(output)\n",
    "\n",
    "\n",
    "@beartype\n",
    "def k8s_get_deployment_rollout_status(handle, deployment: str = \"\", namespace: str = \"\") -> Tuple:\n",
    "    \"\"\"k8s_get_deployment_rollout_status executes the command and give failed deployment list\n",
    "\n",
    "        :type handle: object\n",
    "        :param handle: Object returned from the Task validate method\n",
    "\n",
    "        :type deployment: str\n",
    "        :param deployment: Deployment Name.\n",
    "\n",
    "        :type namespace: str\n",
    "        :param namespace: Kubernetes Namespace.\n",
    "\n",
    "        :rtype: CheckOutput with status result and list of failed deployments.\n",
    "    \"\"\"\n",
    "    result = []\n",
    "    if handle.client_side_validation != True:\n",
    "        print(f\"K8S Connector is invalid: {handle}\")\n",
    "        return CheckOutput(status=CheckOutputStatus.RUN_EXCEPTION,\n",
    "                               objects=[],\n",
    "                               error=str())\n",
    "\n",
    "    status_details = \"\"\n",
    "    if namespace and deployment:\n",
    "        name_cmd = \"kubectl get deployment \" + deployment + \" -n \" + namespace + \" -o json\"\n",
    "        exec_cmd = handle.run_native_cmd(name_cmd)\n",
    "        status_op = exec_cmd.stdout\n",
    "        status_details = json.loads(status_op)\n",
    "\n",
    "    if not namespace and not deployment:\n",
    "        name_cmd = \"kubectl get deployments --all-namespaces -o json\"\n",
    "        exec_cmd = handle.run_native_cmd(name_cmd)\n",
    "        status_op = exec_cmd.stdout\n",
    "        status_details = json.loads(status_op)\n",
    "\n",
    "    if namespace and not deployment:\n",
    "        name_cmd = \"kubectl get deployment -n \" + namespace + \" -o json\"\n",
    "        exec_cmd = handle.run_native_cmd(name_cmd)\n",
    "        status_op = exec_cmd.stdout\n",
    "        status_details = json.loads(status_op)\n",
    "\n",
    "    if deployment and not namespace:\n",
    "        name_cmd = \"kubectl get deployment \" + deployment + \" -o json\"\n",
    "        exec_cmd = handle.run_native_cmd(name_cmd)\n",
    "        status_op = exec_cmd.stdout\n",
    "        status_details = json.loads(status_op)\n",
    "\n",
    "    if status_details:\n",
    "        if \"items\" in status_details:\n",
    "            for items in status_details[\"items\"]:\n",
    "                namespace_name = items[\"metadata\"][\"namespace\"]\n",
    "                deployment_name = items[\"metadata\"][\"name\"]\n",
    "                replica_details = items[\"status\"][\"conditions\"]\n",
    "                for i in replica_details:\n",
    "                    deployment_dict = {}\n",
    "                    if \"FailedCreate\" in i[\"reason\"] and \"ReplicaFailure\" in i[\"type\"] and \"True\" in i[\"status\"]:\n",
    "                        deployment_dict[\"namespace\"] = namespace_name\n",
    "                        deployment_dict[\"deployment_name\"] = deployment_name\n",
    "                        result.append(deployment_dict)\n",
    "                    if \"ProgressDeadlineExceeded\" in i[\"reason\"] and \"Progressing\" in i[\"type\"] and \"False\" in i[\"status\"]:\n",
    "                        deployment_dict[\"namespace\"] = namespace_name\n",
    "                        deployment_dict[\"deployment_name\"] = deployment_name\n",
    "                        result.append(deployment_dict)\n",
    "        else:\n",
    "            namespace_name = status_details[\"metadata\"][\"namespace\"]\n",
    "            deployment_name = status_details[\"metadata\"][\"name\"]\n",
    "            replica_details = status_details[\"status\"][\"conditions\"]\n",
    "            for i in replica_details:\n",
    "                deployment_dict = {}\n",
    "                if \"FailedCreate\" in i[\"reason\"] and \"ReplicaFailure\" in i[\"type\"] and \"True\" in i[\"status\"]:\n",
    "                    deployment_dict[\"namespace\"] = namespace_name\n",
    "                    deployment_dict[\"deployment_name\"] = deployment_name\n",
    "                    result.append(deployment_dict)\n",
    "                if \"ProgressDeadlineExceeded\" in i[\"reason\"] and \"Progressing\" in i[\"type\"] and \"False\" in i[\"status\"]:\n",
    "                    deployment_dict[\"namespace\"] = namespace_name\n",
    "                    deployment_dict[\"deployment_name\"] = deployment_name\n",
    "                    result.append(deployment_dict)\n",
    "\n",
    "    if len(result) != 0:\n",
    "        return (False, result)\n",
    "    else:\n",
    "        return (True, None)\n",
    "\n",
    "\n",
    "\n",
    "task = Task(Workflow())\n",
    "task.configure(continueOnError=True)\n",
    "task.configure(inputParamsJson='''{\n",
    "    \"namespace\": \"iter_item\"\n",
    "    }''')\n",
    "task.configure(iterJson='''{\n",
    "    \"iter_enabled\": true,\n",
    "    \"iter_list_is_const\": false,\n",
    "    \"iter_list\": \"namespace_data\",\n",
    "    \"iter_parameter\": \"namespace\"\n",
    "    }''')\n",
    "task.configure(conditionsJson='''{\n",
    "    \"condition_enabled\": true,\n",
    "    \"condition_cfg\": \"len(namespace_data)>0\",\n",
    "    \"condition_result\": true\n",
    "    }''')\n",
    "task.configure(outputName=\"deployment_data\")\n",
    "task.configure(printOutput=True)\n",
    "(err, hdl, args) = task.validate(vars=vars())\n",
    "if err is None:\n",
    "    task.execute(k8s_get_deployment_rollout_status, lego_printer=k8s_get_deployment_rollout_status_printer, hdl=hdl, args=args)"
   ]
  },
  {
   "attachments": {},
   "cell_type": "markdown",
   "id": "6e16ec0b-c128-4584-9d4a-9f3b0d89c176",
   "metadata": {
    "jupyter": {
     "source_hidden": false
    },
    "name": "Step-1 Extension",
    "orderProperties": [],
    "tags": [],
    "title": "Step-1 Extension"
   },
   "source": [
    "<h3 id=\"Modify-Output\">Modify Output</h3>\n",
    "<p>In this action, we modify the output which collects from step 1 and return a list of dictionaries for the failed deployments.</p>\n",
    "<ul>\n",
    "<li><strong>Output variable:</strong>&nbsp; <code>rollout_deployment</code></li>\n",
    "</ul>"
   ]
  },
  {
   "cell_type": "code",
   "execution_count": 8,
   "id": "19ed40e0-40ec-4b9c-9fd5-62021027aa78",
   "metadata": {
    "collapsed": true,
    "customAction": true,
    "execution_data": {
     "last_date_success_run_cell": "2023-02-13T12:17:38.989Z"
    },
    "jupyter": {
     "outputs_hidden": true,
     "source_hidden": true
    },
    "name": "Modify Output",
    "orderProperties": [],
    "tags": [],
    "title": "Modify Output",
    "credentialsJson": {}
   },
   "outputs": [],
   "source": [
    "rollout_deployment = []\n",
    "if deployment_data:\n",
    "    for k, v in deployment_data.items():\n",
    "        if v[0] == False:\n",
    "            for deployments in v[1]:\n",
    "                rollout_deployment.append(deployments)"
   ]
  },
  {
   "attachments": {},
   "cell_type": "markdown",
   "id": "538cfd33-2a50-40d5-b70c-dac2d3aa66de",
   "metadata": {
    "jupyter": {
     "source_hidden": false
    },
    "name": "Step-2",
    "orderProperties": [],
    "tags": [],
    "title": "Step-2"
   },
   "source": [
    "<h3 id=\"Kubectl-rollout-deployment\">Kubectl rollout deployment</h3>\n",
    "<p>Here we will use the unSkript <strong>Kubectl rollout deployment</strong> action. This action is used to roll back the deployment to a stable version.</p>\n",
    "<ul>\n",
    "<li><strong>Input parameters:</strong>&nbsp; <code>k8s_cli_string, deployment,&nbsp;namespace</code></li>\n",
    "<li><strong>Output variable:</strong>&nbsp; <code>rollback_status</code></li>\n",
    "</ul>"
   ]
  },
  {
   "cell_type": "code",
   "execution_count": null,
   "id": "f1d67467-4d0d-415f-9f27-14ff9910e073",
   "metadata": {
    "accessType": "ACCESS_TYPE_UNSPECIFIED",
    "actionBashCommand": false,
    "actionNeedsCredential": true,
    "actionRequiredLinesInCode": [],
    "actionSupportsIteration": true,
    "actionSupportsPoll": true,
    "action_uuid": "25f595b493ccd2b7502f48145c1ae8c50b52ba726f0639ae6164dc3d668789f5",
    "condition_enabled": true,
    "continueOnError": true,
    "createTime": "1970-01-01T00:00:00Z",
    "credentialsJson": {},
    "currentVersion": "0.1.0",
    "description": "Kubectl rollout deployment history",
    "id": 39,
    "index": 39,
    "inputData": [
     {
      "deployment": {
       "constant": false,
       "value": "\"iter.get(\\\\\"deployment_name\\\\\")\""
      },
      "k8s_cli_string": {
       "constant": false,
       "value": "kubectl rollout undo deploy {deployment} -n {namespace}"
      },
      "namespace": {
       "constant": false,
       "value": "\"iter.get(\\\\\"namespace\\\\\")\""
      }
     }
    ],
    "inputschema": [
     {
      "properties": {
       "deployment": {
        "description": "Deployment Name",
        "title": "Deployment Name",
        "type": "string"
       },
       "k8s_cli_string": {
        "default": "\"kubectl rollout history deployment {deployment} -n {namespace}\"",
        "description": "kubectl rollout deployment history",
        "title": "Kubectl Command",
        "type": "string"
       },
       "namespace": {
        "description": "Namespace",
        "title": "Namespace",
        "type": "string"
       }
      },
      "required": [
       "deployment",
       "namespace"
      ],
      "title": "k8s_kubectl_rollout_deployment",
      "type": "object"
     }
    ],
    "iterData": [
     {
      "iter_enabled": true,
      "iter_item": {
       "deployment": "deployment_name",
       "namespace": "namespace"
      },
      "iter_list": {
       "constant": false,
       "objectItems": true,
       "value": "deployment_data"
      }
     }
    ],
    "jupyter": {
     "source_hidden": true
    },
    "legotype": "LEGO_TYPE_K8S",
    "name": "Kubectl rollout deployment",
    "nouns": [
     "deployment"
    ],
    "orderProperties": [
     "k8s_cli_string",
     "deployment",
     "namespace"
    ],
    "output": {
     "type": ""
    },
    "outputParams": {
     "output_name": "rollback_status",
     "output_name_enabled": true
    },
    "printOutput": true,
    "startcondition": "len(rollout_deployment)>0",
    "tags": [
     "k8s_kubectl_rollout_deployment"
    ],
    "title": "Kubectl rollout deployment",
    "verbs": [
     "rollout"
    ]
   },
   "outputs": [],
   "source": [
    "from pydantic import BaseModel, Field\n",
    "\n",
    "\n",
    "from beartype import beartype\n",
    "@beartype\n",
    "def k8s_kubectl_rollout_deployment_printer(data: str):\n",
    "    if data is None:\n",
    "        print(\"Error while executing command\")\n",
    "        return\n",
    "\n",
    "    print (data)\n",
    "\n",
    "@beartype\n",
    "def k8s_kubectl_rollout_deployment(handle, k8s_cli_string: str, deployment: str, namespace: str) -> str:\n",
    "    k8s_cli_string = k8s_cli_string.format(deployment, namespace)\n",
    "    result = handle.run_native_cmd(k8s_cli_string)\n",
    "    if result is None or hasattr(result, \"stderr\") is False or result.stderr is None:\n",
    "        return None\n",
    "    return result.stdout\n",
    "\n",
    "\n",
    "task = Task(Workflow())\n",
    "task.configure(continueOnError=True)\n",
    "task.configure(printOutput=True)\n",
    "task.configure(inputParamsJson='''{\n",
    "    \"deployment\": \"iter.get(\\\\\"deployment_name\\\\\")\",\n",
    "    \"k8s_cli_string\": \"kubectl rollout undo deploy {deployment} -n {namespace}\",\n",
    "    \"namespace\": \"iter.get(\\\\\"namespace\\\\\")\"\n",
    "    }''')\n",
    "task.configure(iterJson='''{\n",
    "    \"iter_enabled\": true,\n",
    "    \"iter_list_is_const\": false,\n",
    "    \"iter_list\": \"deployment_data\",\n",
    "    \"iter_parameter\": [\"deployment\",\"namespace\"]\n",
    "    }''')\n",
    "task.configure(conditionsJson='''{\n",
    "    \"condition_enabled\": true,\n",
    "    \"condition_cfg\": \"len(rollout_deployment)>0\",\n",
    "    \"condition_result\": true\n",
    "    }''')\n",
    "task.configure(outputName=\"rollback_status\")\n",
    "\n",
    "(err, hdl, args) = task.validate(vars=vars())\n",
    "if err is None:\n",
    "    task.execute(k8s_kubectl_rollout_deployment, lego_printer=k8s_kubectl_rollout_deployment_printer, hdl=hdl, args=args)"
   ]
  },
  {
   "attachments": {},
   "cell_type": "markdown",
   "id": "381064a9-f652-4f8d-a3a2-331d8c642f26",
   "metadata": {
    "jupyter": {
     "source_hidden": false
    },
    "name": "Step-3",
    "orderProperties": [],
    "tags": [],
    "title": "Step-3"
   },
   "source": [
    "<h3 id=\"Change-JIRA-Issue-Status\">Change JIRA Issue Status</h3>\n",
    "<p>Here we will use unSkript <strong>Change JIRA Issue Status</strong> action. This action is used to update the status of the Jira issue. It will only execute if the issue id is given.</p>\n",
    "<ul>\n",
    "<li><strong>Input parameters:</strong>&nbsp; <code>issue_id, status, transition</code></li>\n",
    "<li><strong>Output variable:</strong>&nbsp; <code>update_status</code></li>\n",
    "</ul>"
   ]
  },
  {
   "cell_type": "code",
   "execution_count": 26,
   "id": "e3fd68fc-2830-46f5-bff5-836534b79ca7",
   "metadata": {
    "accessType": "ACCESS_TYPE_UNSPECIFIED",
    "actionBashCommand": false,
    "actionNeedsCredential": true,
    "actionRequiredLinesInCode": [],
    "actionSupportsIteration": true,
    "actionSupportsPoll": true,
    "action_uuid": "751877b0836cf1f8884a2fc0186e2e73024b59494dc71d372d244d3c93468c7a",
    "condition_enabled": true,
    "continueOnError": false,
    "createTime": "1970-01-01T00:00:00Z",
    "credentialsJson": {},
    "currentVersion": "0.1.0",
    "description": "Change JIRA Issue Status to given status",
    "execution_data": {
     "last_date_success_run_cell": "2023-02-08T13:53:15.915Z"
    },
    "id": 68,
    "index": 68,
    "inputData": [
     {
      "issue_id": {
       "constant": false,
       "value": "issue_id"
      },
      "status": {
       "constant": false,
       "value": "\"Done\""
      },
      "transition": {
       "constant": false,
       "value": ""
      }
     }
    ],
    "inputschema": [
     {
      "properties": {
       "issue_id": {
        "description": "Issue ID",
        "title": "Issue ID",
        "type": "string"
       },
       "status": {
        "description": "New Status for the JIRA issue",
        "title": "New Status",
        "type": "string"
       },
       "transition": {
        "description": "Transition to use for status change for the JIRA issue",
        "title": "Transition ID",
        "type": "string"
       }
      },
      "required": [
       "issue_id",
       "status"
      ],
      "title": "jira_issue_change_status",
      "type": "object"
     }
    ],
    "jupyter": {
     "source_hidden": true
    },
    "legotype": "LEGO_TYPE_JIRA",
    "name": "Change JIRA Issue Status",
    "nouns": [
     "jira",
     "issue",
     "status"
    ],
    "orderProperties": [
     "issue_id",
     "status",
     "transition"
    ],
    "output": {
     "type": ""
    },
    "outputParams": {
     "output_name": "update_status",
     "output_name_enabled": true
    },
    "printOutput": true,
    "startcondition": "issue_id",
    "tags": [
     "jira_issue_change_status"
    ],
    "title": "Change JIRA Issue Status",
    "verbs": [
     "change"
    ]
   },
   "outputs": [],
   "source": [
    "##\n",
    "# Copyright (c) 2021 unSkript, Inc\n",
    "# All rights reserved.\n",
    "##\n",
    "\n",
    "from jira.client import JIRA\n",
    "from pydantic import BaseModel, Field\n",
    "from typing import Optional\n",
    "import pprint\n",
    "\n",
    "pp = pprint.PrettyPrinter(indent=4)\n",
    "\n",
    "\n",
    "from beartype import beartype\n",
    "def legoPrinter(func):\n",
    "    def Printer(*args, **kwargs):\n",
    "        output = func(*args, **kwargs)\n",
    "        print('\\n')\n",
    "        return output\n",
    "    return Printer\n",
    "\n",
    "\n",
    "@legoPrinter\n",
    "@beartype\n",
    "def jira_issue_change_status(hdl: JIRA, issue_id: str, status: str, transition: str = \"\"):\n",
    "    \"\"\"jira_get_issue_status gets the status of a given Jira issue.\n",
    "        :type issue_id: str\n",
    "        :param issue_id: ID of the issue whose status we want to fetch (eg ENG-14)\n",
    "        :rtype: String with issue status fetched from JIRA API\n",
    "    \"\"\"\n",
    "\n",
    "    # Input param validation.\n",
    "    issue = hdl.issue(issue_id)\n",
    "\n",
    "    if transition:\n",
    "        transitions = hdl.transitions(issue)\n",
    "        t = [t for t in transitions if t.get('name') == status]\n",
    "\n",
    "        if len(t) > 1:\n",
    "            print(\"Multiple transitions possible for JIRA issue. Please select transition number to use\", [\n",
    "                t.get('id') for t in transitions if t.get('name') == status])\n",
    "            return\n",
    "        else:\n",
    "            transition = t[0].get('id')\n",
    "\n",
    "    hdl.transition_issue(issue, transition)\n",
    "    return\n",
    "\n",
    "\n",
    "def unskript_default_printer(output):\n",
    "    if isinstance(output, (list, tuple)):\n",
    "        for item in output:\n",
    "            print(f'item: {item}')\n",
    "    elif isinstance(output, dict):\n",
    "        for item in output.items():\n",
    "            print(f'item: {item}')\n",
    "    else:\n",
    "        print(f'Output for {task.name}')\n",
    "        print(output)\n",
    "\n",
    "task = Task(Workflow())\n",
    "task.configure(printOutput=True)\n",
    "task.configure(inputParamsJson='''{\n",
    "    \"issue_id\": \"issue_id\",\n",
    "    \"status\": \"\\\\\"Done\\\\\"\"\n",
    "    }''')\n",
    "task.configure(conditionsJson='''{\n",
    "    \"condition_enabled\": true,\n",
    "    \"condition_cfg\": \"issue_id\",\n",
    "    \"condition_result\": true\n",
    "    }''')\n",
    "task.configure(outputName=\"update_status\")\n",
    "\n",
    "(err, hdl, args) = task.validate(vars=vars())\n",
    "if err is None:\n",
    "    task.execute(jira_issue_change_status, lego_printer=unskript_default_printer, hdl=hdl, args=args)"
   ]
  },
  {
   "attachments": {},
   "cell_type": "markdown",
   "id": "4e38c5da-4714-48af-bdb4-5e1e59f25651",
   "metadata": {
    "jupyter": {
     "source_hidden": false
    },
    "name": "Conclusion",
    "orderProperties": [],
    "tags": [],
    "title": "Conclusion"
   },
   "source": [
    "### Conclusion\n",
    "<p>In this Runbook, we demonstrated the use of unSkript's AWS and Jira actions to roll back the Kubernetes deployment to the previous stable version and update the issue status in jira. To view the full platform capabilities of unSkript please visit <a href=\"https://us.app.unskript.io\" target=\"_blank\" rel=\"noopener\">https://us.app.unskript.io</a></p>"
   ]
  }
 ],
 "metadata": {
  "execution_data": {
   "runbook_name": "Rollback Kubernetes Deployment",
   "parameters": [
    "issue_id",
    "namespace"
   ]
  },
  "kernelspec": {
   "display_name": "Python 3",
   "language": "python",
   "name": "python3"
  },
  "language_info": {
   "file_extension": ".py",
   "mimetype": "text/x-python",
   "name": "python",
   "pygments_lexer": "ipython3",
   "version": "3.10.6"
  },
  "parameterSchema": {
   "properties": {
    "issue_id": {
     "description": "Jira Issue ID. e.g. EN-123",
     "title": "issue_id",
     "type": "string"
    },
    "namespace": {
     "description": "Namespace",
     "title": "namespace",
     "type": "string"
    }
   },
   "required": [],
   "title": "Schema",
   "type": "object"
  },
  "parameterValues": null,
  "vscode": {
   "interpreter": {
    "hash": "e8899eb02dfbc033aab5733bdae1bd213fa031d40331094008e8673d99ebab63"
   }
  }
 },
 "nbformat": 4,
 "nbformat_minor": 5
}