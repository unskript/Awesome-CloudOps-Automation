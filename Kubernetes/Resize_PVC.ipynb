{
 "cells": [
  {
   "cell_type": "markdown",
   "id": "9ac20689-a687-4867-a035-676d8b5c46bf",
   "metadata": {
    "jupyter": {
     "source_hidden": false
    },
    "name": "Steps Overview",
    "orderProperties": [],
    "tags": [],
    "title": "Steps Overview"
   },
   "source": [
    "<hr><center><img src=\"https://storage.googleapis.com/unskript-website/assets/favicon.png\" alt=\"unSkript.com\" width=\"100\" height=\"100\">\n",
    "<h1 id=\"unSkript-Runbooks\">unSkript Runbooks<a class=\"jp-InternalAnchorLink\" href=\"#unSkript-Runbooks\" target=\"_self\">&para;</a></h1>\n",
    "<div class=\"alert alert-block alert-success\">\n",
    "<h3 id=\"Objective\">Objective<a class=\"jp-InternalAnchorLink\" href=\"#Objective\" target=\"_self\">&para;</a></h3>\n",
    "<br><strong style=\"color: #000000;\"><em>Resize PVC volume&nbsp;</em></strong></div>\n",
    "</center>\n",
    "<p>&nbsp;</p>\n",
    "<center>\n",
    "<h2 id=\"Resize-PVC\"><u>Resize PVC</u><a class=\"jp-InternalAnchorLink\" href=\"#Resize-PVC\" target=\"_self\">&para;</a></h2>\n",
    "</center>\n",
    "<h1 id=\"Steps-Overview\">Steps Overview<a class=\"jp-InternalAnchorLink\" href=\"#Steps-Overview\" target=\"_self\">&para;</a></h1>\n",
    "<p>1)&nbsp;<a href=\"#1\" target=\"_self\" rel=\"noopener\">Get Storage class of PVC</a><a href=\"#1\" target=\"_self\" rel=\"noopener\"><br>2)&nbsp;</a><a href=\"#2\" target=\"_self\" rel=\"noopener\">Get Storage Class details</a><a href=\"#1\" target=\"_self\" rel=\"noopener\"><br></a><a href=\"#1\" target=\"_self\" rel=\"noopener\">3) </a><a href=\"#1\" target=\"_self\" rel=\"noopener\">Change size of PVC</a><a href=\"#1\" target=\"_self\" rel=\"noopener\"><br></a><a href=\"#1\" target=\"_self\" rel=\"noopener\">4)&nbsp;</a><a href=\"#1\" target=\"_self\" rel=\"noopener\">Restart the pod</a><a href=\"#1\" target=\"_self\" rel=\"noopener\"><br></a><a href=\"#1\" target=\"_self\" rel=\"noopener\">5)&nbsp;</a><a href=\"#1\" target=\"_self\" rel=\"noopener\">Execute a command on a Kuberentes POD</a><a href=\"#1\" target=\"_self\" rel=\"noopener\"><br></a><a href=\"#2\" target=\"_self\" rel=\"noopener\">6)&nbsp;</a><a href=\"#2\" target=\"_self\" rel=\"noopener\">Post Slack message</a><a href=\"#2\" target=\"_self\" rel=\"noopener\"><br></a></p>\n",
    "<p>&nbsp;</p>\n",
    "<hr>"
   ]
  },
  {
   "cell_type": "markdown",
   "id": "b06a24a5-a36f-40b4-8a5d-59392e1fcb8b",
   "metadata": {
    "jupyter": {
     "source_hidden": false
    },
    "name": "Step 1",
    "orderProperties": [],
    "tags": [],
    "title": "Step 1"
   },
   "source": [
    "<h3 id=\"List-all-AWS-Regions\">Get storage class for PVC</h3>\n",
    "<p>This action fetches storage class for PVC to execute Step 2\ud83d\udc47</p>\n",
    "<blockquote>\n",
    "<p>This action takes the following parameters: <code>PVCName, Namespace</code></p>\n",
    "</blockquote>\n",
    "<blockquote>\n",
    "<p>This action captures the following ouput: <code>storageClass</code></p>\n",
    "</blockquote>"
   ]
  },
  {
   "cell_type": "code",
   "execution_count": null,
   "id": "3b6aa5ee-f63b-4018-9467-068572ddef93",
   "metadata": {
    "accessType": "ACCESS_TYPE_UNSPECIFIED",
    "actionBashCommand": false,
    "actionCategories": [],
    "actionIsCheck": false,
    "actionNeedsCredential": true,
    "actionNextHop": [],
    "actionNextHopParameterMapping": {},
    "actionOutputType": "",
    "actionRequiredLinesInCode": [],
    "actionSupportsIteration": true,
    "actionSupportsPoll": true,
    "action_modified": false,
    "action_uuid": "4d3b4c6153e14622f42b332b7c7b8f7043577971f64edc5be6b5f8b40d5b89d1",
    "checkEnabled": false,
    "continueOnError": false,
    "createTime": "1970-01-01T00:00:00Z",
    "currentVersion": "0.1.0",
    "description": "Execute the given Kubectl command.",
    "id": 55,
    "index": 55,
    "inputData": [
     {
      "kubectl_command": {
       "constant": false,
       "value": "f\"kubectl get pvc {PVCName} -n {Namespace} --output=jsonpath={{.spec.storageClassName}}\""
      }
     }
    ],
    "inputschema": [
     {
      "properties": {
       "kubectl_command": {
        "description": "kubectl command eg \"kubectl get pods --all-namespaces\"",
        "title": "Kubectl Command",
        "type": "string"
       }
      },
      "required": [
       "kubectl_command"
      ],
      "title": "k8s_kubectl_command",
      "type": "object"
     }
    ],
    "isUnskript": false,
    "jupyter": {
     "source_hidden": true
    },
    "legotype": "LEGO_TYPE_K8S",
    "name": "Get Storage Class for the PVC",
    "nouns": [],
    "orderProperties": [
     "kubectl_command"
    ],
    "output": {
     "type": ""
    },
    "outputParams": {
     "output_name": "storageClass",
     "output_name_enabled": true
    },
    "printOutput": true,
    "tags": [
     "k8s_kubectl_command"
    ],
    "title": "Get Storage Class for the PVC",
    "verbs": [],
    "credentialsJson": {}
   },
   "outputs": [],
   "source": [
    "#\n",
    "# Copyright (c) 2022 unSkript.com\n",
    "# All rights reserved.\n",
    "#\n",
    "\n",
    "from pydantic import BaseModel, Field\n",
    "\n",
    "\n",
    "from beartype import beartype\n",
    "@beartype\n",
    "def k8s_kubectl_command_printer(output):\n",
    "    if output is None:\n",
    "        return\n",
    "    print(output)\n",
    "\n",
    "\n",
    "@beartype\n",
    "def k8s_kubectl_command(handle, kubectl_command: str) -> str:\n",
    "    \"\"\"k8s_kubectl_command executes the given kubectl command on the pod\n",
    "\n",
    "        :type handle: object\n",
    "        :param handle: Object returned from the Task validate method\n",
    "\n",
    "        :type kubectl_command: str\n",
    "        :param kubectl_command: The Actual kubectl command, like kubectl get ns, etc..\n",
    "\n",
    "        :rtype: String, Output of the command in python string format or Empty String in case of Error.\n",
    "    \"\"\"\n",
    "    if handle.client_side_validation != True:\n",
    "        print(f\"K8S Connector is invalid: {handle}\")\n",
    "        return str()\n",
    "\n",
    "    result = handle.run_native_cmd(kubectl_command)\n",
    "    if result is None or hasattr(result, \"stderr\") is False or result.stderr is None:\n",
    "        print(\n",
    "            f\"Error while executing command ({kubectl_command}): {result.stderr}\")\n",
    "        return str()\n",
    "\n",
    "    return result.stdout\n",
    "\n",
    "\n",
    "task = Task(Workflow())\n",
    "task.configure(inputParamsJson='''{\n",
    "    \"kubectl_command\": \"f\\\\\"kubectl get pvc {PVCName} -n {Namespace} --output=jsonpath={{.spec.storageClassName}}\\\\\"\"\n",
    "    }''')\n",
    "task.configure(outputName=\"storageClass\")\n",
    "\n",
    "task.configure(printOutput=True)\n",
    "(err, hdl, args) = task.validate(vars=vars())\n",
    "if err is None:\n",
    "    task.execute(k8s_kubectl_command, lego_printer=k8s_kubectl_command_printer, hdl=hdl, args=args)"
   ]
  },
  {
   "cell_type": "markdown",
   "id": "67898de3-7c41-4e9c-abb2-2c8086b19ad9",
   "metadata": {
    "jupyter": {
     "source_hidden": false
    },
    "name": "Step 2",
    "orderProperties": [],
    "tags": [],
    "title": "Step 2"
   },
   "source": [
    "<h3 id=\"List-all-AWS-Regions\">Get storage class details</h3>\n",
    "<p>This action fetches storage class details for PVC</p>\n",
    "<blockquote>\n",
    "<p>This action takes the following parameters: <code>storageClass</code></p>\n",
    "</blockquote>\n",
    "<blockquote>\n",
    "<p>This action captures the following ouput: <code>allowVolumeExpansion</code></p>\n",
    "</blockquote>"
   ]
  },
  {
   "cell_type": "code",
   "execution_count": null,
   "id": "6e01bd2b-8a37-4579-bb64-273e921b3712",
   "metadata": {
    "accessType": "ACCESS_TYPE_UNSPECIFIED",
    "actionBashCommand": false,
    "actionCategories": [],
    "actionIsCheck": false,
    "actionNeedsCredential": true,
    "actionNextHop": [],
    "actionNextHopParameterMapping": {},
    "actionOutputType": "",
    "actionRequiredLinesInCode": [],
    "actionSupportsIteration": true,
    "actionSupportsPoll": true,
    "action_modified": false,
    "action_uuid": "4d3b4c6153e14622f42b332b7c7b8f7043577971f64edc5be6b5f8b40d5b89d1",
    "checkEnabled": false,
    "continueOnError": false,
    "createTime": "1970-01-01T00:00:00Z",
    "currentVersion": "0.1.0",
    "description": "Execute the given Kubectl command.",
    "id": 55,
    "index": 55,
    "inputData": [
     {
      "kubectl_command": {
       "constant": false,
       "value": "f\"kubectl get sc {storageClass} --output=jsonpath={{.allowVolumeExpansion}}\""
      }
     }
    ],
    "inputschema": [
     {
      "properties": {
       "kubectl_command": {
        "description": "kubectl command eg \"kubectl get pods --all-namespaces\"",
        "title": "Kubectl Command",
        "type": "string"
       }
      },
      "required": [
       "kubectl_command"
      ],
      "title": "k8s_kubectl_command",
      "type": "object"
     }
    ],
    "isUnskript": false,
    "jupyter": {
     "source_hidden": true
    },
    "legotype": "LEGO_TYPE_K8S",
    "name": "Get Storage class details",
    "nouns": [],
    "orderProperties": [
     "kubectl_command"
    ],
    "output": {
     "type": ""
    },
    "outputParams": {
     "output_name": "allowVolumeExpansion",
     "output_name_enabled": true
    },
    "printOutput": true,
    "tags": [
     "k8s_kubectl_command"
    ],
    "title": "Get Storage class details",
    "verbs": [],
    "credentialsJson": {}
   },
   "outputs": [],
   "source": [
    "#\n",
    "# Copyright (c) 2022 unSkript.com\n",
    "# All rights reserved.\n",
    "#\n",
    "\n",
    "from pydantic import BaseModel, Field\n",
    "\n",
    "\n",
    "from beartype import beartype\n",
    "@beartype\n",
    "def k8s_kubectl_command_printer(output):\n",
    "    if output is None:\n",
    "        return\n",
    "    print(output)\n",
    "\n",
    "\n",
    "@beartype\n",
    "def k8s_kubectl_command(handle, kubectl_command: str) -> str:\n",
    "    \"\"\"k8s_kubectl_command executes the given kubectl command on the pod\n",
    "\n",
    "        :type handle: object\n",
    "        :param handle: Object returned from the Task validate method\n",
    "\n",
    "        :type kubectl_command: str\n",
    "        :param kubectl_command: The Actual kubectl command, like kubectl get ns, etc..\n",
    "\n",
    "        :rtype: String, Output of the command in python string format or Empty String in case of Error.\n",
    "    \"\"\"\n",
    "    if handle.client_side_validation != True:\n",
    "        print(f\"K8S Connector is invalid: {handle}\")\n",
    "        return str()\n",
    "\n",
    "    result = handle.run_native_cmd(kubectl_command)\n",
    "    if result is None or hasattr(result, \"stderr\") is False or result.stderr is None:\n",
    "        print(\n",
    "            f\"Error while executing command ({kubectl_command}): {result.stderr}\")\n",
    "        return str()\n",
    "\n",
    "    return result.stdout\n",
    "\n",
    "\n",
    "task = Task(Workflow())\n",
    "task.configure(inputParamsJson='''{\n",
    "    \"kubectl_command\": \"f\\\\\"kubectl get sc {storageClass} --output=jsonpath={{.allowVolumeExpansion}}\\\\\"\"\n",
    "    }''')\n",
    "task.configure(outputName=\"allowVolumeExpansion\")\n",
    "\n",
    "task.configure(printOutput=True)\n",
    "(err, hdl, args) = task.validate(vars=vars())\n",
    "if err is None:\n",
    "    task.execute(k8s_kubectl_command, lego_printer=k8s_kubectl_command_printer, hdl=hdl, args=args)"
   ]
  },
  {
   "cell_type": "markdown",
   "id": "184efdc8-9c65-4e52-a49b-c9528dff6f94",
   "metadata": {
    "jupyter": {
     "source_hidden": false
    },
    "name": "Step 2A",
    "orderProperties": [],
    "tags": [],
    "title": "Step 2A"
   },
   "source": [
    "<h3 id=\"List-all-AWS-Regions\">Check if storage class has allowVolumeExpansion enabled</h3>\n",
    "<p>This action verifies that allowVolumeExpansion is enabled for the storage class for the PVC. Assert if its not enabled.</p>\n",
    "<blockquote>\n",
    "<p>This action takes the following parameters: <code>None</code></p>\n",
    "</blockquote>\n",
    "<blockquote>\n",
    "<p>This action captures the following ouput: <code>None</code></p>\n",
    "</blockquote>"
   ]
  },
  {
   "cell_type": "code",
   "execution_count": 6,
   "id": "17593357-01c4-4219-be83-06bafebbb0e6",
   "metadata": {
    "actionNeedsCredential": true,
    "actionSupportsIteration": true,
    "actionSupportsPoll": true,
    "action_needs_credential": true,
    "action_supports_iteration": true,
    "action_supports_poll": true,
    "execution_data": {
     "last_date_success_run_cell": "2022-07-06T07:54:16.872Z"
    },
    "jupyter": {
     "source_hidden": true
    },
    "orderProperties": [],
    "tags": [],
    "title": "Check if storage class has allowVolumeExpansion enabled",
    "credentialsJson": {}
   },
   "outputs": [],
   "source": [
    "if allowVolumeExpansion == \"\" or allowVolumeExpansion is False:\n",
    "    print(f'allowVolumeExpansion disabled for storage class {storageClass}, exiting')\n",
    "    assert(f'allowVolumeExpansion disabled for storage class {storageClass}')\n",
    "else:\n",
    "    print(f'allowVolumeExpansion enabled for storage class {storageClass}')"
   ]
  },
  {
   "cell_type": "markdown",
   "id": "a15d0df5-5123-48a8-9785-ba47c786961c",
   "metadata": {
    "jupyter": {
     "source_hidden": false
    },
    "name": "Step 3",
    "orderProperties": [],
    "tags": [],
    "title": "Step 3"
   },
   "source": [
    "<h3 id=\"Change-size-of-Kuberneted-PVC\">Change size of PVC<a class=\"jp-InternalAnchorLink\" href=\"#Change-size-of-Kuberneted-PVC\" target=\"_self\">&para;</a></h3>\n",
    "<p>This action increases the PVC Volume by the provided Value depending upon ResizeOption chosen.</p>\n",
    "<blockquote>\n",
    "<p>This action takes the following parameters: <code>namespace, PVCName, value</code></p>\n",
    "</blockquote>\n",
    "<blockquote>\n",
    "<p>This action captures the following ouput: <code>None</code></p>\n",
    "</blockquote>"
   ]
  },
  {
   "cell_type": "code",
   "execution_count": null,
   "id": "d68afc44-f6b0-4e23-8a36-26f2f48bc04b",
   "metadata": {
    "accessType": "ACCESS_TYPE_UNSPECIFIED",
    "actionBashCommand": false,
    "actionCategories": [],
    "actionIsCheck": false,
    "actionNeedsCredential": true,
    "actionNextHop": [],
    "actionNextHopParameterMapping": {},
    "actionOutputType": "",
    "actionRequiredLinesInCode": [],
    "actionSupportsIteration": true,
    "actionSupportsPoll": true,
    "action_modified": false,
    "action_uuid": "c82954c96e797711613cd6b0ef8c6ab45a6af26f191115df128396bb056450d2",
    "checkEnabled": false,
    "continueOnError": false,
    "createTime": "1970-01-01T00:00:00Z",
    "currentVersion": "0.1.0",
    "description": "Change size of Kubernetes PVC",
    "id": 32,
    "index": 32,
    "inputData": [
     {
      "name": {
       "constant": false,
       "value": "PVCName"
      },
      "namespace": {
       "constant": false,
       "value": "Namespace"
      },
      "resize_option": {
       "constant": true,
       "value": "Add"
      },
      "resize_value": {
       "constant": false,
       "value": "Value"
      }
     }
    ],
    "inputschema": [
     {
      "definitions": {
       "SizingOption": {
        "description": "An enumeration.",
        "enum": [
         "Add",
         "Multiple"
        ],
        "title": "SizingOption",
        "type": "string"
       }
      },
      "properties": {
       "name": {
        "description": "Name of the PVC.",
        "title": "PVC Name",
        "type": "string"
       },
       "namespace": {
        "description": "Namespace of the PVC.",
        "title": "Namespace",
        "type": "string"
       },
       "resize_option": {
        "allOf": [
         {
          "$ref": "#/definitions/SizingOption"
         }
        ],
        "default": "\"Add\"",
        "description": "\n            Option to resize the volume. 2 options supported:\n            1. Add - Use this option to resize by an amount.\n            2. Multiple - Use this option if you want to resize by a multiple of the current volume size.\n        ",
        "title": "Resize option"
       },
       "resize_value": {
        "description": "\n            Based on the resize option chosen, specify the value. For eg, if you chose Add option, this\n            value will be a value in Gi (like 100). If you chose Multiple option, this value will be a multiplying factor\n            to the current volume size. So, if you want to double, you specify 2 here.\n        ",
        "title": "Value",
        "type": "number"
       }
      },
      "required": [
       "namespace",
       "name",
       "resize_value"
      ],
      "title": "k8s_change_pvc_size",
      "type": "object"
     }
    ],
    "isUnskript": false,
    "jupyter": {
     "source_hidden": true
    },
    "legotype": "LEGO_TYPE_K8S",
    "name": "Change size of Kubernetes PVC",
    "nouns": [],
    "orderProperties": [
     "namespace",
     "name",
     "resize_option",
     "resize_value"
    ],
    "output": {
     "type": ""
    },
    "printOutput": true,
    "tags": [
     "k8s_change_pvc_size"
    ],
    "verbs": [],
    "credentialsJson": {}
   },
   "outputs": [],
   "source": [
    "#\n",
    "# Copyright (c) 2022 unSkript.com\n",
    "# All rights reserved.\n",
    "#\n",
    "\n",
    "from pydantic import BaseModel, Field\n",
    "from typing import Optional\n",
    "from unskript.enums.aws_k8s_enums import SizingOption\n",
    "import pprint\n",
    "\n",
    "from beartype import beartype\n",
    "@beartype\n",
    "def k8s_change_pvc_size_printer(output):\n",
    "    if output is None:\n",
    "        return\n",
    "\n",
    "    pprint.pprint(output)\n",
    "\n",
    "\n",
    "\n",
    "@beartype\n",
    "def k8s_change_pvc_size(handle, namespace: str, name: str, resize_option: SizingOption, resize_value: float) -> str:\n",
    "    \"\"\"k8s_change_pvc_size change pvc size\n",
    "\n",
    "        :type name: str\n",
    "        :param name: Name of the PVC.\n",
    "\n",
    "        :type resize_option: SizingOption\n",
    "        :param resize_option: Option to resize the volume.\n",
    "\n",
    "        :type resize_value: float\n",
    "        :param resize_value: Based on the resize option chosen, specify the value.\n",
    "\n",
    "        :type namespace: str\n",
    "        :param namespace: Namespace of the PVC.\n",
    "\n",
    "        :rtype: string\n",
    "    \"\"\"\n",
    "    # Get the current size.\n",
    "    kubectl_command = f'kubectl get pvc {name} -n {namespace}  -o jsonpath={{.status.capacity.storage}}'\n",
    "    result = handle.run_native_cmd(kubectl_command)\n",
    "    if result.stderr:\n",
    "        print(\n",
    "            f\"Error while executing command ({kubectl_command}): {result.stderr}\")\n",
    "        return str(f\"Error Changing PVC Size {kubectl_command}: {result.stderr}\")\n",
    "\n",
    "    currentSize = result.stdout\n",
    "    currentSizeInt = int(currentSize.rstrip(\"Gi\"))\n",
    "    if resize_option == SizingOption.Add:\n",
    "        newSizeInt = currentSizeInt + resize_value\n",
    "    else:\n",
    "        newSizeInt = currentSizeInt * resize_value\n",
    "    newSize = str(newSizeInt) + \"Gi\"\n",
    "    print(f'Current size {currentSize}, new Size {newSize}')\n",
    "    kubectl_command = f'kubectl patch pvc {name} -n {namespace} -p \\'{{\"spec\":{{\"resources\":{{\"requests\": {{\"storage\": \"{newSize}\"}}}}}}}}\\''\n",
    "    result = handle.run_native_cmd(kubectl_command)\n",
    "    if result.stderr:\n",
    "        print(\n",
    "            f\"Error while executing command ({kubectl_command}): {result.stderr}\")\n",
    "        return str(f\"Error Changing PVC Size {kubectl_command}: {result.stderr}\")\n",
    "    print(f'PVC {name} size changed to {newSize} successfully')\n",
    "    return result.stdout\n",
    "\n",
    "\n",
    "task = Task(Workflow())\n",
    "task.configure(inputParamsJson='''{\n",
    "    \"name\": \"PVCName\",\n",
    "    \"namespace\": \"Namespace\",\n",
    "    \"resize_option\": \"SizingOption.Add\",\n",
    "    \"resize_value\": \"float(Value)\"\n",
    "    }''')\n",
    "\n",
    "task.configure(printOutput=True)\n",
    "(err, hdl, args) = task.validate(vars=vars())\n",
    "if err is None:\n",
    "    task.execute(k8s_change_pvc_size, lego_printer=k8s_change_pvc_size_printer, hdl=hdl, args=args)"
   ]
  },
  {
   "cell_type": "markdown",
   "id": "e9ad51be-bee4-4b23-800d-ae5d17af5455",
   "metadata": {
    "jupyter": {
     "source_hidden": false
    },
    "name": "Step 4A",
    "orderProperties": [],
    "tags": [],
    "title": "Step 4A"
   },
   "source": [
    "<h3 id=\"Get-pods-attahced-to-Kuberneted-PVC\">Get pods attahced to PVC<a class=\"jp-InternalAnchorLink\" href=\"#Get-pods-attahced-to-Kuberneted-PVC\" target=\"_self\">&para;</a></h3>\n",
    "<p>This action gets the pods attached to a Kuberneted PVC</p>\n",
    "<blockquote>\n",
    "<p>This action takes the following parameters: <code>namespace, PVCName</code></p>\n",
    "</blockquote>\n",
    "<blockquote>\n",
    "<p>This action captures the following ouput: <code>podName</code></p>\n",
    "</blockquote>"
   ]
  },
  {
   "cell_type": "code",
   "execution_count": null,
   "id": "7782fc86-9231-4e8e-bdc7-cf133b7b8967",
   "metadata": {
    "accessType": "ACCESS_TYPE_UNSPECIFIED",
    "actionBashCommand": false,
    "actionCategories": [],
    "actionIsCheck": false,
    "actionNeedsCredential": true,
    "actionNextHop": [],
    "actionNextHopParameterMapping": {},
    "actionOutputType": "",
    "actionRequiredLinesInCode": [],
    "actionSupportsIteration": true,
    "actionSupportsPoll": true,
    "action_modified": false,
    "action_uuid": "eedf20eddc44193edbda5e7df1810485ae415f496aebb77edbd995f7901602ee",
    "checkEnabled": false,
    "continueOnError": false,
    "createTime": "1970-01-01T00:00:00Z",
    "currentVersion": "0.1.0",
    "description": "Get pods attached to Kubernetes PVC",
    "id": 62,
    "index": 62,
    "inputData": [
     {
      "namespace": {
       "constant": false,
       "value": "Namespace"
      },
      "pvc": {
       "constant": false,
       "value": "PVCName"
      }
     }
    ],
    "inputschema": [
     {
      "properties": {
       "namespace": {
        "description": "Namespace of the PVC.",
        "title": "Namespace",
        "type": "string"
       },
       "pvc": {
        "description": "Name of the PVC.",
        "title": "PVC Name",
        "type": "string"
       }
      },
      "required": [
       "namespace",
       "pvc"
      ],
      "title": "k8s_get_pods_attached_to_pvc",
      "type": "object"
     }
    ],
    "isUnskript": false,
    "jupyter": {
     "source_hidden": true
    },
    "legotype": "LEGO_TYPE_K8S",
    "name": "Get pods attached to Kubernetes PVC",
    "nouns": [],
    "orderProperties": [
     "namespace",
     "pvc"
    ],
    "output": {
     "type": ""
    },
    "outputParams": {
     "output_name": "podName",
     "output_name_enabled": true
    },
    "printOutput": true,
    "tags": [
     "k8s_get_pods_attached_to_pvc"
    ],
    "verbs": [],
    "credentialsJson": {}
   },
   "outputs": [],
   "source": [
    "#\n",
    "# Copyright (c) 2021 unSkript.com\n",
    "# All rights reserved.\n",
    "#\n",
    "\n",
    "from pydantic import BaseModel, Field\n",
    "\n",
    "\n",
    "from beartype import beartype\n",
    "@beartype\n",
    "def k8s_get_pods_attached_to_pvc_printer(output):\n",
    "    if output is None:\n",
    "        return\n",
    "\n",
    "    print(output)\n",
    "\n",
    "\n",
    "\n",
    "@beartype\n",
    "def k8s_get_pods_attached_to_pvc(handle, namespace: str, pvc: str) -> str:\n",
    "    \"\"\"k8s_get_pods_attached_to_pvc get pods attached to pvc\n",
    "\n",
    "        :type handle: object\n",
    "        :param handle: Object returned from the Task validate method\n",
    "\n",
    "        :type namespace: str\n",
    "        :param namespace: Namespace of the PVC.\n",
    "\n",
    "        :type pvc: str\n",
    "        :param pvc: Name of the PVC.\n",
    "\n",
    "        :rtype: string\n",
    "    \"\"\"\n",
    "    kubectl_command = f\"kubectl describe pvc {pvc} -n {namespace} | awk \\'/Used By/ {{print $3}}\\'\"\n",
    "    result = handle.run_native_cmd(kubectl_command)\n",
    "    if result.stderr:\n",
    "        print(\n",
    "            f\"Error while executing command ({kubectl_command}): {result.stderr}\")\n",
    "        return str()\n",
    "    return result.stdout\n",
    "\n",
    "\n",
    "task = Task(Workflow())\n",
    "task.configure(inputParamsJson='''{\n",
    "    \"namespace\": \"Namespace\",\n",
    "    \"pvc\": \"PVCName\"\n",
    "    }''')\n",
    "task.configure(outputName=\"podName\")\n",
    "\n",
    "task.configure(printOutput=True)\n",
    "(err, hdl, args) = task.validate(vars=vars())\n",
    "if err is None:\n",
    "    task.execute(k8s_get_pods_attached_to_pvc, lego_printer=k8s_get_pods_attached_to_pvc_printer, hdl=hdl, args=args)"
   ]
  },
  {
   "cell_type": "markdown",
   "id": "c1171c52-a5dc-4a71-bc70-6203b0a194c3",
   "metadata": {
    "jupyter": {
     "source_hidden": false
    },
    "name": "Step 4B",
    "orderProperties": [],
    "tags": [],
    "title": "Step 4B"
   },
   "source": [
    "<p>This action simply extracts the&nbsp; pod name attached to a Kuberneted PVC</p>"
   ]
  },
  {
   "cell_type": "code",
   "execution_count": null,
   "id": "e066a114-5445-45b0-a64d-e1c32c5bd37b",
   "metadata": {
    "actionNeedsCredential": true,
    "actionSupportsIteration": true,
    "actionSupportsPoll": true,
    "execution_data": {
     "last_date_success_run_cell": "2022-07-06T08:20:59.242Z"
    },
    "jupyter": {
     "source_hidden": true
    },
    "orderProperties": [],
    "tags": [],
    "title": "Podname",
    "credentialsJson": {}
   },
   "outputs": [],
   "source": [
    "podName = podName.strip()\n",
    "print(f'Pod {podName} attached to PVC {PVCName}')"
   ]
  },
  {
   "cell_type": "markdown",
   "id": "e8f65779-7310-41d6-bfd8-8d59f8fdcba6",
   "metadata": {
    "jupyter": {
     "source_hidden": false
    },
    "name": "Step 4",
    "orderProperties": [],
    "tags": [],
    "title": "Step 4"
   },
   "source": [
    "<h3 id=\"List-all-AWS-Regions\">Restart the pod</h3>\n",
    "<p>This action restarts the pod. If RestartPodsAfterResize is enabled, it restarts the pods attached to the PVC.</p>\n",
    "<p>NOTE: This is not required if the kubernetes has <span style=\"color: rgb(53, 152, 219);\">ExpandInUsePersistentVolumes</span> enabled.</p>\n",
    "<blockquote>\n",
    "<p>This action takes the following parameters: <code>namespace, podName</code></p>\n",
    "</blockquote>\n",
    "<blockquote>\n",
    "<p>This action captures the following ouput: <code>None</code></p>\n",
    "</blockquote>"
   ]
  },
  {
   "cell_type": "code",
   "execution_count": null,
   "id": "66c3f5ee-f13e-4a62-bf5e-87b1eea0e262",
   "metadata": {
    "accessType": "ACCESS_TYPE_UNSPECIFIED",
    "actionBashCommand": false,
    "actionCategories": [],
    "actionIsCheck": false,
    "actionNeedsCredential": true,
    "actionNextHop": [],
    "actionNextHopParameterMapping": {},
    "actionOutputType": "",
    "actionRequiredLinesInCode": [],
    "actionSupportsIteration": true,
    "actionSupportsPoll": true,
    "action_modified": false,
    "action_uuid": "4d3b4c6153e14622f42b332b7c7b8f7043577971f64edc5be6b5f8b40d5b89d1",
    "checkEnabled": false,
    "condition_enabled": true,
    "continueOnError": false,
    "createTime": "1970-01-01T00:00:00Z",
    "currentVersion": "0.1.0",
    "description": "Execute the given Kubectl command.",
    "id": 55,
    "index": 55,
    "inputData": [
     {
      "kubectl_command": {
       "constant": false,
       "value": "f\"kubectl delete pod {podName} -n {Namespace}\""
      }
     }
    ],
    "inputschema": [
     {
      "properties": {
       "kubectl_command": {
        "description": "kubectl command eg \"kubectl get pods --all-namespaces\"",
        "title": "Kubectl Command",
        "type": "string"
       }
      },
      "required": [
       "kubectl_command"
      ],
      "title": "k8s_kubectl_command",
      "type": "object"
     }
    ],
    "isUnskript": false,
    "jupyter": {
     "source_hidden": true
    },
    "legotype": "LEGO_TYPE_K8S",
    "name": "Restart the pod",
    "nouns": [],
    "orderProperties": [
     "kubectl_command"
    ],
    "output": {
     "type": ""
    },
    "printOutput": true,
    "startcondition": "RestartPodsAfterResize==True",
    "tags": [
     "k8s_kubectl_command"
    ],
    "title": "Restart the pod",
    "verbs": [],
    "credentialsJson": {}
   },
   "outputs": [],
   "source": [
    "#\n",
    "# Copyright (c) 2022 unSkript.com\n",
    "# All rights reserved.\n",
    "#\n",
    "\n",
    "from pydantic import BaseModel, Field\n",
    "\n",
    "\n",
    "from beartype import beartype\n",
    "@beartype\n",
    "def k8s_kubectl_command_printer(output):\n",
    "    if output is None:\n",
    "        return\n",
    "    print(output)\n",
    "\n",
    "\n",
    "@beartype\n",
    "def k8s_kubectl_command(handle, kubectl_command: str) -> str:\n",
    "    \"\"\"k8s_kubectl_command executes the given kubectl command on the pod\n",
    "\n",
    "        :type handle: object\n",
    "        :param handle: Object returned from the Task validate method\n",
    "\n",
    "        :type kubectl_command: str\n",
    "        :param kubectl_command: The Actual kubectl command, like kubectl get ns, etc..\n",
    "\n",
    "        :rtype: String, Output of the command in python string format or Empty String in case of Error.\n",
    "    \"\"\"\n",
    "    if handle.client_side_validation != True:\n",
    "        print(f\"K8S Connector is invalid: {handle}\")\n",
    "        return str()\n",
    "\n",
    "    result = handle.run_native_cmd(kubectl_command)\n",
    "    if result is None or hasattr(result, \"stderr\") is False or result.stderr is None:\n",
    "        print(\n",
    "            f\"Error while executing command ({kubectl_command}): {result.stderr}\")\n",
    "        return str()\n",
    "\n",
    "    return result.stdout\n",
    "\n",
    "\n",
    "task = Task(Workflow())\n",
    "task.configure(inputParamsJson='''{\n",
    "    \"kubectl_command\": \"f\\\\\"kubectl delete pod {podName} -n {Namespace}\\\\\"\"\n",
    "    }''')\n",
    "task.configure(conditionsJson='''{\n",
    "    \"condition_enabled\": true,\n",
    "    \"condition_cfg\": \"RestartPodsAfterResize==True\",\n",
    "    \"condition_result\": true\n",
    "    }''')\n",
    "\n",
    "task.configure(printOutput=True)\n",
    "(err, hdl, args) = task.validate(vars=vars())\n",
    "if err is None:\n",
    "    task.execute(k8s_kubectl_command, lego_printer=k8s_kubectl_command_printer, hdl=hdl, args=args)"
   ]
  },
  {
   "cell_type": "markdown",
   "id": "64daaeb5-b33a-43d5-8052-2a103cd0cd04",
   "metadata": {
    "jupyter": {
     "source_hidden": false
    },
    "name": "Step 5",
    "orderProperties": [],
    "tags": [],
    "title": "Step 5"
   },
   "source": [
    "<h3 id=\"List-all-AWS-Regions\">Execute a command on a Kuberentes POD</h3>\n",
    "<p>This action verifies resize by running 'df-kh' on the pod attached to the PVC.</p>\n",
    "<blockquote>\n",
    "<p>This action takes the following parameters: <code>namespace, podName</code></p>\n",
    "</blockquote>\n",
    "<blockquote>\n",
    "<p>This action captures the following ouput: <code>None</code></p>\n",
    "</blockquote>"
   ]
  },
  {
   "cell_type": "code",
   "execution_count": null,
   "id": "79c4d6b1-aa30-4865-b3da-1ee6b0a65105",
   "metadata": {
    "accessType": "ACCESS_TYPE_UNSPECIFIED",
    "actionBashCommand": false,
    "actionCategories": [],
    "actionIsCheck": false,
    "actionNeedsCredential": true,
    "actionNextHop": [],
    "actionNextHopParameterMapping": {},
    "actionOutputType": "",
    "actionRequiredLinesInCode": [],
    "actionSupportsIteration": true,
    "actionSupportsPoll": true,
    "action_modified": false,
    "action_uuid": "8383fbb16190afe9c1936fcceab4f438e45e24f288491416037be1ed07e50c57",
    "checkEnabled": false,
    "continueOnError": false,
    "createTime": "1970-01-01T00:00:00Z",
    "currentVersion": "0.1.0",
    "description": "Execute a command on a Kubernetes POD in a given Namespace",
    "id": 43,
    "index": 43,
    "inputData": [
     {
      "command": {
       "constant": false,
       "value": "[\"df\", \"-kh\"]"
      },
      "namespace": {
       "constant": false,
       "value": "Namespace"
      },
      "podname": {
       "constant": false,
       "value": "podName"
      }
     }
    ],
    "inputschema": [
     {
      "properties": {
       "command": {
        "description": "Commands to execute on the Pod. Eg \"df -k\"",
        "title": "Command",
        "type": "string"
       },
       "namespace": {
        "description": "Kubernetes namespace.",
        "title": "Namespace",
        "type": "string"
       },
       "podname": {
        "description": "Kubernetes Pod Name",
        "title": "Pod",
        "type": "string"
       }
      },
      "required": [
       "namespace",
       "podname",
       "command"
      ],
      "title": "k8s_exec_command_on_pod",
      "type": "object"
     }
    ],
    "isUnskript": false,
    "jupyter": {
     "source_hidden": true
    },
    "legotype": "LEGO_TYPE_K8S",
    "name": "Execute a command on a Kubernetes POD in a given Namespace",
    "nouns": [],
    "orderProperties": [
     "namespace",
     "podname",
     "command"
    ],
    "output": {
     "type": ""
    },
    "printOutput": true,
    "tags": [
     "k8s_exec_command_on_pod"
    ],
    "verbs": [],
    "credentialsJson": {}
   },
   "outputs": [],
   "source": [
    "#\n",
    "# Copyright (c) 2021 unSkript.com\n",
    "# All rights reserved.\n",
    "#\n",
    "\n",
    "from posixpath import split\n",
    "from typing import List\n",
    "import pprint\n",
    "from kubernetes import client\n",
    "from kubernetes.stream import stream\n",
    "from pydantic import BaseModel, Field\n",
    "\n",
    "\n",
    "from beartype import beartype\n",
    "@beartype\n",
    "def k8s_exec_command_on_pod_printer(output):\n",
    "    if output is None:\n",
    "        return\n",
    "\n",
    "    pprint.pprint(output)\n",
    "\n",
    "\n",
    "@beartype\n",
    "def k8s_exec_command_on_pod(handle, namespace: str, podname: str, command: str) -> str:\n",
    "    \"\"\"k8s_exec_command_on_pod executes the given kubectl command on the pod\n",
    "\n",
    "        :type handle: object\n",
    "        :param handle: Object returned from the Task validate method\n",
    "\n",
    "        :type namespace: str\n",
    "        :param namespace: Kubernetes namespace.\n",
    "\n",
    "        :type podname: str\n",
    "        :param podname: Kubernetes Pod Name.\n",
    "\n",
    "        :type command: str\n",
    "        :param command: Commands to execute on the Pod.\n",
    "\n",
    "        :rtype: String, Output of the command in python string format or Empty String in case of Error.\n",
    "    \"\"\"\n",
    "    coreApiClient = client.CoreV1Api(api_client=handle)\n",
    "\n",
    "    try:\n",
    "        resp = stream(coreApiClient.connect_get_namespaced_pod_exec,\n",
    "                      podname,\n",
    "                      namespace,\n",
    "                      command=command.split(),\n",
    "                      stderr=True,\n",
    "                      stdin=True,\n",
    "                      stdout=True,\n",
    "                      tty=False\n",
    "                      )\n",
    "    except Exception as e:\n",
    "        resp = f'An Exception occured while executing the command {e}'\n",
    "\n",
    "    return resp\n",
    "\n",
    "\n",
    "task = Task(Workflow())\n",
    "task.configure(inputParamsJson='''{\n",
    "    \"command\": \"[\\\\\"df\\\\\", \\\\\"-kh\\\\\"]\",\n",
    "    \"namespace\": \"Namespace\",\n",
    "    \"podname\": \"podName\"\n",
    "    }''')\n",
    "\n",
    "task.configure(printOutput=True)\n",
    "(err, hdl, args) = task.validate(vars=vars())\n",
    "if err is None:\n",
    "    task.execute(k8s_exec_command_on_pod, lego_printer=k8s_exec_command_on_pod_printer, hdl=hdl, args=args)"
   ]
  },
  {
   "cell_type": "markdown",
   "id": "d5990ec2-daff-4289-acd3-e2bafc92c46a",
   "metadata": {
    "jupyter": {
     "source_hidden": false
    },
    "name": "Step 5A",
    "orderProperties": [],
    "tags": [],
    "title": "Step 5A"
   },
   "source": [
    "<h3 id=\"List-all-AWS-Regions\">Run kubectl commands on local k8s cluster</h3>\n",
    "<p>This action further verifies the resize by running commands on the local k8s cluster and gets the new size.</p>\n",
    "<blockquote>\n",
    "<p>This action takes the following parameters: <code>namespace, PVCName</code></p>\n",
    "</blockquote>\n",
    "<blockquote>\n",
    "<p>This action captures the following ouput: <code>newSize</code></p>\n",
    "</blockquote>"
   ]
  },
  {
   "cell_type": "code",
   "execution_count": null,
   "id": "1d79ae1f-ae84-4416-a19a-8bcd5c33d2e0",
   "metadata": {
    "accessType": "ACCESS_TYPE_UNSPECIFIED",
    "actionBashCommand": false,
    "actionCategories": [],
    "actionIsCheck": false,
    "actionNeedsCredential": true,
    "actionNextHop": [],
    "actionNextHopParameterMapping": {},
    "actionOutputType": "",
    "actionRequiredLinesInCode": [],
    "actionSupportsIteration": true,
    "actionSupportsPoll": true,
    "action_modified": false,
    "action_uuid": "4d3b4c6153e14622f42b332b7c7b8f7043577971f64edc5be6b5f8b40d5b89d1",
    "checkEnabled": false,
    "continueOnError": false,
    "createTime": "1970-01-01T00:00:00Z",
    "currentVersion": "0.1.0",
    "description": "Execute the given Kubectl command.",
    "id": 55,
    "index": 55,
    "inputData": [
     {
      "kubectl_command": {
       "constant": false,
       "value": "f\"kubectl get pvc {PVCName} -n {Namespace}  -o jsonpath={{.status.capacity.storage}}\""
      }
     }
    ],
    "inputschema": [
     {
      "properties": {
       "kubectl_command": {
        "description": "kubectl command eg \"kubectl get pods --all-namespaces\"",
        "title": "Kubectl Command",
        "type": "string"
       }
      },
      "required": [
       "kubectl_command"
      ],
      "title": "k8s_kubectl_command",
      "type": "object"
     }
    ],
    "isUnskript": false,
    "jupyter": {
     "source_hidden": true
    },
    "legotype": "LEGO_TYPE_K8S",
    "name": "Run kubectl commands on local k8s cluster",
    "nouns": [],
    "orderProperties": [
     "kubectl_command"
    ],
    "output": {
     "type": ""
    },
    "outputParams": {
     "output_name": "newSize",
     "output_name_enabled": true
    },
    "printOutput": true,
    "tags": [
     "k8s_kubectl_command"
    ],
    "title": "Run kubectl commands on local k8s cluster",
    "verbs": [],
    "credentialsJson": {}
   },
   "outputs": [],
   "source": [
    "#\n",
    "# Copyright (c) 2022 unSkript.com\n",
    "# All rights reserved.\n",
    "#\n",
    "\n",
    "from pydantic import BaseModel, Field\n",
    "\n",
    "\n",
    "from beartype import beartype\n",
    "@beartype\n",
    "def k8s_kubectl_command_printer(output):\n",
    "    if output is None:\n",
    "        return\n",
    "    print(output)\n",
    "\n",
    "\n",
    "@beartype\n",
    "def k8s_kubectl_command(handle, kubectl_command: str) -> str:\n",
    "    \"\"\"k8s_kubectl_command executes the given kubectl command on the pod\n",
    "\n",
    "        :type handle: object\n",
    "        :param handle: Object returned from the Task validate method\n",
    "\n",
    "        :type kubectl_command: str\n",
    "        :param kubectl_command: The Actual kubectl command, like kubectl get ns, etc..\n",
    "\n",
    "        :rtype: String, Output of the command in python string format or Empty String in case of Error.\n",
    "    \"\"\"\n",
    "    if handle.client_side_validation != True:\n",
    "        print(f\"K8S Connector is invalid: {handle}\")\n",
    "        return str()\n",
    "\n",
    "    result = handle.run_native_cmd(kubectl_command)\n",
    "    if result is None or hasattr(result, \"stderr\") is False or result.stderr is None:\n",
    "        print(\n",
    "            f\"Error while executing command ({kubectl_command}): {result.stderr}\")\n",
    "        return str()\n",
    "\n",
    "    return result.stdout\n",
    "\n",
    "\n",
    "task = Task(Workflow())\n",
    "task.configure(inputParamsJson='''{\n",
    "    \"kubectl_command\": \"f\\\\\"kubectl get pvc {PVCName} -n {Namespace}  -o jsonpath={{.status.capacity.storage}}\\\\\"\"\n",
    "    }''')\n",
    "task.configure(outputName=\"newSize\")\n",
    "\n",
    "task.configure(printOutput=True)\n",
    "(err, hdl, args) = task.validate(vars=vars())\n",
    "if err is None:\n",
    "    task.execute(k8s_kubectl_command, lego_printer=k8s_kubectl_command_printer, hdl=hdl, args=args)"
   ]
  },
  {
   "cell_type": "markdown",
   "id": "67ed3763-1fc2-4fd4-9cdd-b140821e4fe0",
   "metadata": {
    "jupyter": {
     "source_hidden": false
    },
    "name": "Step 6",
    "orderProperties": [],
    "tags": [],
    "title": "Step 6"
   },
   "source": [
    "<h3 id=\"List-all-AWS-Regions\">Post Slack Message</h3>\n",
    "<p>This action posts a slack message notifying the new size of the PVC.</p>\n",
    "<blockquote>\n",
    "<p>This action takes the following parameters: <code>Channel</code></p>\n",
    "</blockquote>\n",
    "<blockquote>\n",
    "<p>This action captures the following ouput: <code>None</code></p>\n",
    "</blockquote>"
   ]
  },
  {
   "cell_type": "code",
   "execution_count": null,
   "id": "fee9946d-d975-42c7-8651-ff7b55250fb9",
   "metadata": {
    "accessType": "ACCESS_TYPE_UNSPECIFIED",
    "actionBashCommand": false,
    "actionNeedsCredential": true,
    "actionSupportsIteration": true,
    "actionSupportsPoll": true,
    "action_uuid": "6a87f83ab0ecfeecb9c98d084e2b1066c26fa64be5b4928d5573a5d60299802d",
    "condition_enabled": true,
    "continueOnError": false,
    "createTime": "1970-01-01T00:00:00Z",
    "currentVersion": "0.1.0",
    "description": "Post Slack Message",
    "execution_data": {
     "last_date_success_run_cell": "2022-07-07T04:05:14.429Z"
    },
    "id": 46,
    "index": 46,
    "inputData": [
     {
      "channel": {
       "constant": false,
       "value": "Channel"
      },
      "message": {
       "constant": false,
       "value": "f\"PVC {PVCName} successfully resized to {newSize}\""
      }
     }
    ],
    "inputschema": [
     {
      "properties": {
       "channel": {
        "description": "Name of the slack channel where the message to be posted",
        "title": "Channel",
        "type": "string"
       },
       "message": {
        "description": "Message to be sent",
        "title": "Message",
        "type": "string"
       }
      },
      "required": [
       "channel",
       "message"
      ],
      "title": "slack_post_message",
      "type": "object"
     }
    ],
    "jupyter": {
     "source_hidden": true
    },
    "legotype": "LEGO_TYPE_SLACK",
    "name": "Post Slack Message",
    "nouns": [
     "slack",
     "message"
    ],
    "orderProperties": [
     "channel",
     "message"
    ],
    "output": {
     "type": ""
    },
    "printOutput": true,
    "startcondition": "if len(Channel)!=0",
    "tags": [
     "slack_post_message"
    ],
    "verbs": [
     "post"
    ],
    "credentialsJson": {}
   },
   "outputs": [],
   "source": [
    "##\n",
    "# Copyright (c) 2021 unSkript, Inc\n",
    "# All rights reserved.\n",
    "##\n",
    "\n",
    "import pprint\n",
    "\n",
    "from pydantic import BaseModel, Field\n",
    "from slack_sdk import WebClient\n",
    "from slack_sdk.errors import SlackApiError\n",
    "\n",
    "pp = pprint.PrettyPrinter(indent=2)\n",
    "\n",
    "\n",
    "from beartype import beartype\n",
    "@beartype\n",
    "def slack_post_message_printer(data):\n",
    "    if data != None:\n",
    "        pprint.pprint(data)\n",
    "\n",
    "@beartype\n",
    "def slack_post_message(\n",
    "        handle: WebClient,\n",
    "        channel: str,\n",
    "        message: str) -> str:\n",
    "\n",
    "    try:\n",
    "        response = handle.chat_postMessage(\n",
    "            channel=channel,\n",
    "            text=message)\n",
    "        return f\"Successfuly Sent Message on Channel: #{channel}\"\n",
    "    except SlackApiError as e:\n",
    "        pp.pprint(\n",
    "            f\"Failed sending message to slack channel {channel}, Error: {e.response['error']}\")\n",
    "        if e.response['error'] == 'channel_not_found':\n",
    "            raise Exception('Channel Not Found')\n",
    "        elif e.response['error'] == 'duplicate_channel_not_found':\n",
    "            raise Exception('Channel associated with the message_id not valid')\n",
    "        elif e.response['error'] == 'not_in_channel':\n",
    "            raise Exception('Cannot post message to channel user is not in')\n",
    "        elif e.reponse['error'] == 'is_archived':\n",
    "            raise Exception('Channel has been archived')\n",
    "        elif e.response['error'] == 'msg_too_long':\n",
    "            raise Exception('Message text is too long')\n",
    "        elif e.response['error'] == 'no_text':\n",
    "            raise Exception('Message text was not provided')\n",
    "        elif e.response['error'] == 'restricted_action':\n",
    "            raise Exception('Workspace preference prevents user from posting')\n",
    "        elif e.response['error'] == 'restricted_action_read_only_channel':\n",
    "            raise Exception('Cannot Post message, read-only channel')\n",
    "        elif e.respones['error'] == 'team_access_not_granted':\n",
    "            raise Exception('The token used is not granted access to the workspace')\n",
    "        elif e.response['error'] == 'not_authed':\n",
    "            raise Exception('No Authtnecition token provided')\n",
    "        elif e.response['error'] == 'invalid_auth':\n",
    "            raise Exception('Some aspect of Authentication cannot be validated. Request denied')\n",
    "        elif e.response['error'] == 'access_denied':\n",
    "            raise Exception('Access to a resource specified in the request denied')\n",
    "        elif e.response['error'] == 'account_inactive':\n",
    "            raise Exception('Authentication token is for a deleted user')\n",
    "        elif e.response['error'] == 'token_revoked':\n",
    "            raise Exception('Authentication token for a deleted user has been revoked')\n",
    "        elif e.response['error'] == 'no_permission':\n",
    "            raise Exception('The workspace toekn used does not have necessary permission to send message')\n",
    "        elif e.response['error'] == 'ratelimited':\n",
    "            raise Exception('The request has been ratelimited. Retry sending message later')\n",
    "        elif e.response['error'] == 'service_unavailable':\n",
    "            raise Exception('The service is temporarily unavailable')\n",
    "        elif e.response['error'] == 'fatal_error':\n",
    "            raise Exception('The server encountered catostrophic error while sending message')\n",
    "        elif e.response['error'] == 'internal_error':\n",
    "            raise Exception('The server could not complete operation, likely due to transietn issue')\n",
    "        elif e.response['error'] == 'request_timeout':\n",
    "            raise Exception('Sending message error via POST: either message was missing or truncated')\n",
    "        else:\n",
    "            raise Exception(f'Failed Sending Message to slack channel {channel} Error: {e.response[\"error\"]}')\n",
    "\n",
    "        return f\"Unable to send message on {channel}\"\n",
    "    except Exception as e:\n",
    "        print(\"\\n\\n\")\n",
    "        pp.pprint(\n",
    "            f\"Failed sending message to slack channel {channel}, Error: {e.__str__()}\")\n",
    "        return f\"Unable to send message on {channel}\"\n",
    "\n",
    "\n",
    "task = Task(Workflow())\n",
    "task.configure(printOutput=True)\n",
    "task.configure(inputParamsJson='''{\n",
    "    \"channel\": \"Channel\",\n",
    "    \"message\": \"f\\\\\"PVC {PVCName} successfully resized to {newSize}\\\\\"\"\n",
    "    }''')\n",
    "task.configure(conditionsJson='''{\n",
    "    \"condition_enabled\": true,\n",
    "    \"condition_cfg\": \"if len(Channel)!=0\",\n",
    "    \"condition_result\": true\n",
    "    }''')\n",
    "\n",
    "(err, hdl, args) = task.validate(vars=vars())\n",
    "if err is None:\n",
    "    task.execute(slack_post_message, lego_printer=slack_post_message_printer, hdl=hdl, args=args)"
   ]
  },
  {
   "cell_type": "markdown",
   "id": "3f624369-89fd-4354-b13e-3de80d4465d4",
   "metadata": {
    "jupyter": {
     "source_hidden": false
    },
    "name": "Conclusion",
    "orderProperties": [],
    "tags": [],
    "title": "Conclusion"
   },
   "source": [
    "<h3 id=\"Conclusion&para;&para;\">Conclusion</h3>\n",
    "<p>In this Runbook, we were able successfully resize a PVC using unSkript's K8s actions. To view the full platform capabilities of unSkript please visit <a href=\"https://us.app.unskript.io\" target=\"_blank\" rel=\"noopener\">us.app.unskript.io</a></p>"
   ]
  }
 ],
 "metadata": {
  "execution_data": {
   "runbook_name": "k8s: Resize PVC",
   "parameters": [
    "RestartPodsAfterResize",
    "Value",
    "Channel",
    "Namespace",
    "PVCName",
    "ResizeOption"
   ]
  },
  "kernelspec": {
   "display_name": "Python 3.10.6 64-bit",
   "language": "python",
   "name": "python3"
  },
  "language_info": {
   "file_extension": ".py",
   "mimetype": "text/x-python",
   "name": "python",
   "pygments_lexer": "ipython3",
   "version": "3.10.6"
  },
  "parameterSchema": {
   "properties": {
    "Channel": {
     "description": "Slack channel",
     "title": "Channel",
     "type": "string"
    },
    "Namespace": {
     "description": "Namespace of the PVC",
     "title": "Namespace",
     "type": "string"
    },
    "PVCName": {
     "description": "Name of the PVC",
     "title": "PVCName",
     "type": "string"
    },
    "ResizeOption": {
     "default": "Add",
     "description": "Option to resize the volume. 2 options supported:             1. Add - Use this option to resize by an amount.             2. Multiple - Use this option if you want to resize by a multiple of the current volume size.",
     "enum": [
      "Add"
     ],
     "enumNames": [
      "Add"
     ],
     "title": "ResizeOption",
     "type": "string"
    },
    "RestartPodsAfterResize": {
     "default": false,
     "description": "Restart the pods after PVC resize",
     "title": "RestartPodsAfterResize",
     "type": "boolean"
    },
    "Value": {
     "description": "Based on the resize option chosen, specify the value (float). For eg, if you chose Add option, this             value will be a value in Gb (like 100.0). If you chose, this value will be a multiplying factor             to the current volume size. For eg, to double, specify value as 2.0",
     "title": "Value",
     "type": "number"
    }
   },
   "required": [
    "Namespace",
    "PVCName",
    "Value"
   ],
   "title": "Schema",
   "type": "object"
  },
  "parameterValues": {},
  "vscode": {
   "interpreter": {
    "hash": "b0fa6594d8f4cbf19f97940f81e996739fb7646882a419484c72d19e05852a7e"
   }
  }
 },
 "nbformat": 4,
 "nbformat_minor": 5
}