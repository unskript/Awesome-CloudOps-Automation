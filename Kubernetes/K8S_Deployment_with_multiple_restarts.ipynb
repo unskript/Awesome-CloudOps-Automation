{
    "nbformat": 4,
    "nbformat_minor": 5,
    "metadata": {
        "kernelspec": {
            "name": "python_kubernetes",
            "display_name": "unSkript (Build: 1267)"
        },
        "language_info": {
            "name": "python",
            "file_extension": ".py",
            "mimetype": "text/x-python",
            "pygments_lexer": "ipython3"
        },
        "execution_data": {
            "runbook_name": "k8s: Deployment with multiple restarts",
            "parameters": [
                "namespace",
                "pod",
                "app_label",
                "container",
                "deployment"
            ]
        },
        "parameterSchema": {
            "definitions": null,
            "properties": {
                "app_label": {
                    "description": "k8s App Label",
                    "title": "app_label",
                    "type": "string"
                },
                "container": {
                    "description": "k8s container",
                    "title": "container",
                    "type": "string"
                },
                "deployment": {
                    "description": "Name of deployment with the restart issue",
                    "title": "deployment",
                    "type": "string"
                },
                "namespace": {
                    "description": "k8s namespace with problematic deployment",
                    "title": "namespace",
                    "type": "string"
                },
                "pod": {
                    "description": "k8s pod name",
                    "title": "pod",
                    "type": "string"
                }
            },
            "required": [
                "namespace",
                "app_label",
                "pod",
                "deployment"
            ],
            "title": "Schema",
            "type": "object"
        },
        "outputParameterSchema": {
            "definitions": null,
            "properties": {},
            "required": [],
            "title": "Schema",
            "type": "object"
        },
        "parameterValues": {}
    },
    "cells": [
        {
            "id": "cef235be-afe2-45d3-b2a5-291cbb45698a",
            "cell_type": "markdown",
            "metadata": {
                "jupyter": {
                    "source_hidden": false
                },
                "name": "Debug Steps",
                "orderProperties": [],
                "tags": [],
                "title": "Debug Steps"
            },
            "source": "<ul>\n<li>Look for pod level information</li>\n<li>Look for deployment</li>\n<li>Look for app label</li>\n</ul>",
            "execution_count": null,
            "outputs": []
        },
        {
            "id": "0641bd51-bd57-4a33-8238-1b95094147c1",
            "cell_type": "code",
            "metadata": {
                "accessType": "ACCESS_TYPE_UNSPECIFIED",
                "actionBashCommand": false,
                "actionCategories": [
                    "CATEGORY_TYPE_CLOUDOPS",
                    "CATEGORY_TYPE_DEVOPS",
                    "CATEGORY_TYPE_SRE",
                    "CATEGORY_TYPE_K8S",
                    "CATEGORY_TYPE_K8S_KUBECTL"
                ],
                "actionIsCheck": false,
                "actionNeedsCredential": true,
                "actionNextHopParameterMapping": {},
                "actionOutputType": "",
                "actionRequiredLinesInCode": [],
                "actionSupportsIteration": true,
                "actionSupportsPoll": true,
                "action_modified": false,
                "action_uuid": "8cd969c4db1d03d54d258e2c119e90aa914888abb4d5376b775ade8233bf3ae7",
                "checkEnabled": false,
                "continueOnError": false,
                "createTime": "1970-01-01T00:00:00Z",
                "credentialsJson": {},
                "currentVersion": "0.1.0",
                "description": "Execute kubectl command.",
                "execution_data": {},
                "id": 76,
                "index": 76,
                "inputData": [
                    {
                        "kubectl_command": {
                            "constant": false,
                            "value": "\"kubectl get deployment \" + deployment + \" -n \" + namespace + \" -o json\""
                        }
                    }
                ],
                "inputschema": [
                    {
                        "properties": {
                            "kubectl_command": {
                                "description": "kubectl command eg \"kubectl get pods --all-namespaces\"",
                                "title": "Kubectl Command",
                                "type": "string"
                            }
                        },
                        "required": [
                            "kubectl_command"
                        ],
                        "title": "k8s_kubectl_command",
                        "type": "object"
                    }
                ],
                "isUnskript": false,
                "jupyter": {
                    "source_hidden": true
                },
                "legotype": "LEGO_TYPE_K8S",
                "name": "Kubectl command -> kubectl get deployment",
                "nouns": [],
                "orderProperties": [
                    "kubectl_command"
                ],
                "output": {
                    "type": ""
                },
                "printOutput": true,
                "tags": [
                    "k8s_kubectl_command"
                ],
                "title": "Kubectl command -> kubectl get deployment",
                "trusted": true,
                "verbs": [],
                "execution_count": {}
            },
            "source": [
                "#\n",
                "# Copyright (c) 2022 unSkript.com\n",
                "# All rights reserved.\n",
                "#\n",
                "\n",
                "from pydantic import BaseModel, Field\n",
                "from kubernetes.client.rest import ApiException\n",
                "\n",
                "\n",
                "from beartype import beartype\n",
                "@beartype\n",
                "def k8s_kubectl_command_printer(output):\n",
                "    if output is None:\n",
                "        return\n",
                "    print(output)\n",
                "\n",
                "\n",
                "@beartype\n",
                "def k8s_kubectl_command(handle, kubectl_command: str) -> str:\n",
                "    \"\"\"k8s_kubectl_command executes the given kubectl command on the pod\n",
                "\n",
                "        :type handle: object\n",
                "        :param handle: Object returned from the Task validate method\n",
                "\n",
                "        :type kubectl_command: str\n",
                "        :param kubectl_command: The Actual kubectl command, like kubectl get ns, etc..\n",
                "\n",
                "        :rtype: String, Output of the command in python string format or Empty String\n",
                "        in case of Error.\n",
                "    \"\"\"\n",
                "    if handle.client_side_validation is not True:\n",
                "        print(f\"K8S Connector is invalid: {handle}\")\n",
                "        return str()\n",
                "\n",
                "    result = handle.run_native_cmd(kubectl_command)\n",
                "\n",
                "    if result is None:\n",
                "        print(\n",
                "            f\"Error while executing command ({kubectl_command}) (empty response)\")\n",
                "        return \"\"\n",
                "\n",
                "    if result.stderr:\n",
                "        raise ApiException(f\"Error occurred while executing command {kubectl_command} {result.stderr}\")\n",
                "\n",
                "    return result.stdout\n",
                "\n",
                "\n",
                "task = Task(Workflow())\n",
                "task.configure(credentialsJson='''{\\\"credential_type\\\": \\\"CONNECTOR_TYPE_K8S\\\"}''')",
                "task.configure(inputParamsJson='''{\n",
                "    \"kubectl_command\": \"\\\\\"kubectl get deployment \\\\\" + deployment + \\\\\" -n \\\\\" + namespace + \\\\\" -o json\\\\\"\"\n",
                "    }''')\n",
                "task.configure(printOutput=True)\n",
                "(err, hdl, args) = task.validate(vars=vars())\n",
                "if err is None:\n",
                "    task.execute(k8s_kubectl_command, lego_printer=k8s_kubectl_command_printer, hdl=hdl, args=args)\n"
            ],
            "execution_count": 8,
            "outputs": []
        },
        {
            "id": "4a2a28b5-7f7c-4d1a-9fc0-9f5df8cb5a1b",
            "cell_type": "code",
            "metadata": {
                "accessType": "ACCESS_TYPE_UNSPECIFIED",
                "actionBashCommand": false,
                "actionCategories": [
                    "CATEGORY_TYPE_CLOUDOPS",
                    "CATEGORY_TYPE_DEVOPS",
                    "CATEGORY_TYPE_SRE",
                    "CATEGORY_TYPE_K8S",
                    "CATEGORY_TYPE_K8S_KUBECTL"
                ],
                "actionIsCheck": false,
                "actionNeedsCredential": true,
                "actionNextHopParameterMapping": {},
                "actionOutputType": "",
                "actionRequiredLinesInCode": [],
                "actionSupportsIteration": true,
                "actionSupportsPoll": true,
                "action_modified": false,
                "action_uuid": "7a54aaf7808d98bce5132bc5b5224a084d63ca31921dc362f5b91fbc581cd0da",
                "checkEnabled": false,
                "collapsed": true,
                "continueOnError": false,
                "createTime": "1970-01-01T00:00:00Z",
                "credentialsJson": {},
                "currentVersion": "0.1.0",
                "description": "Kubectl get logs for a given pod",
                "execution_data": {},
                "id": 52,
                "index": 52,
                "inputData": [
                    {
                        "k8s_cli_string": {
                            "constant": false,
                            "value": "\"kubectl logs {pod_name} -n {namespace}\""
                        },
                        "namespace": {
                            "constant": false,
                            "value": "namespace"
                        },
                        "pod_name": {
                            "constant": false,
                            "value": "pod"
                        }
                    }
                ],
                "inputschema": [
                    {
                        "properties": {
                            "k8s_cli_string": {
                                "default": "\"kubectl logs {pod_name} -n {namespace}\"",
                                "description": "kubectl get logs for a given pod",
                                "title": "Kubectl Command",
                                "type": "string"
                            },
                            "namespace": {
                                "description": "Namespace",
                                "title": "Namespace",
                                "type": "string"
                            },
                            "pod_name": {
                                "description": "Pod Name",
                                "title": "Pod Name",
                                "type": "string"
                            }
                        },
                        "required": [
                            "namespace",
                            "pod_name"
                        ],
                        "title": "k8s_kubectl_get_logs",
                        "type": "object"
                    }
                ],
                "isUnskript": false,
                "jupyter": {
                    "outputs_hidden": true,
                    "source_hidden": true
                },
                "legotype": "LEGO_TYPE_K8S",
                "name": "Kubectl get logs",
                "nouns": [],
                "orderProperties": [
                    "k8s_cli_string",
                    "pod_name",
                    "namespace"
                ],
                "output": {
                    "type": ""
                },
                "printOutput": true,
                "tags": [
                    "k8s_kubectl_get_logs"
                ],
                "verbs": [],
                "execution_count": {}
            },
            "source": [
                "from pprint import pprint\n",
                "from pydantic import BaseModel, Field\n",
                "from kubernetes.client.rest import ApiException\n",
                "\n",
                "from beartype import beartype\n",
                "@beartype\n",
                "def k8s_kubectl_get_logs_printer(data: str):\n",
                "    if data is None:\n",
                "        return\n",
                "\n",
                "    print(\"Logs:\")\n",
                "\n",
                "    pprint(data)\n",
                "\n",
                "@beartype\n",
                "def k8s_kubectl_get_logs(handle, k8s_cli_string: str, pod_name: str, namespace:str) -> str:\n",
                "    \"\"\"k8s_kubectl_get_logs executes the given kubectl command\n",
                "\n",
                "        :type handle: object\n",
                "        :param handle: Object returned from the Task validate method\n",
                "\n",
                "        :type k8s_cli_string: str\n",
                "        :param k8s_cli_string: kubectl logs {pod_name} -n {namespace}.\n",
                "\n",
                "        :type pod_name: str\n",
                "        :param pod_name: Pod Name.\n",
                "\n",
                "        :type namespace: str\n",
                "        :param namespace: Namespace.\n",
                "\n",
                "        :rtype: String, Output of the command in python string format or\n",
                "        Empty String in case of Error.\n",
                "    \"\"\"\n",
                "    k8s_cli_string = k8s_cli_string.format(pod_name=pod_name, namespace=namespace)\n",
                "    result = handle.run_native_cmd(k8s_cli_string)\n",
                "    if result is None:\n",
                "        print(\n",
                "            f\"Error while executing command ({k8s_cli_string}) (empty response)\")\n",
                "        return \"\"\n",
                "\n",
                "    if result.stderr:\n",
                "        raise ApiException(f\"Error occurred while executing command {k8s_cli_string} {result.stderr}\")\n",
                "\n",
                "    data = result.stdout\n",
                "    return data\n",
                "\n",
                "\n",
                "task = Task(Workflow())\n",
                "task.configure(credentialsJson='''{\\\"credential_type\\\": \\\"CONNECTOR_TYPE_K8S\\\"}''')",
                "task.configure(inputParamsJson='''{\n",
                "    \"k8s_cli_string\": \"\\\\\"kubectl logs {pod_name} -n {namespace}\\\\\"\",\n",
                "    \"namespace\": \"namespace\",\n",
                "    \"pod_name\": \"pod\"\n",
                "    }''')\n",
                "task.configure(printOutput=True)\n",
                "(err, hdl, args) = task.validate(vars=vars())\n",
                "if err is None:\n",
                "    task.execute(k8s_kubectl_get_logs, lego_printer=k8s_kubectl_get_logs_printer, hdl=hdl, args=args)\n"
            ],
            "execution_count": 35,
            "outputs": []
        },
        {
            "id": "fc768526-a848-4609-a173-7184706429e6",
            "cell_type": "code",
            "metadata": {
                "accessType": "ACCESS_TYPE_UNSPECIFIED",
                "actionBashCommand": false,
                "actionCategories": [
                    "CATEGORY_TYPE_CLOUDOPS",
                    "CATEGORY_TYPE_DEVOPS",
                    "CATEGORY_TYPE_SRE",
                    "CATEGORY_TYPE_K8S",
                    "CATEGORY_TYPE_K8S_KUBECTL",
                    "CATEGORY_TYPE_K8S_POD"
                ],
                "actionIsCheck": false,
                "actionNeedsCredential": true,
                "actionNextHopParameterMapping": {},
                "actionOutputType": "",
                "actionRequiredLinesInCode": [],
                "actionSupportsIteration": true,
                "actionSupportsPoll": true,
                "action_modified": false,
                "action_uuid": "a303833b7287340b76e41b564a1427c4cd2131035d819c67c56cd1d6aff087c1",
                "checkEnabled": false,
                "continueOnError": false,
                "createTime": "1970-01-01T00:00:00Z",
                "credentialsJson": {},
                "currentVersion": "0.1.0",
                "description": "Kubectl describe a pod",
                "execution_data": {},
                "id": 81,
                "index": 81,
                "inputData": [
                    {
                        "k8s_cli_string": {
                            "constant": false,
                            "value": "\"kubectl describe pod {pod_name} -n {namespace}\""
                        },
                        "namespace": {
                            "constant": false,
                            "value": "namespace"
                        },
                        "pod_name": {
                            "constant": false,
                            "value": "pod"
                        }
                    }
                ],
                "inputschema": [
                    {
                        "properties": {
                            "k8s_cli_string": {
                                "default": "kubectl describe pod {pod_name} -n {namespace}",
                                "description": "kubectl describe a pod",
                                "title": "Kubectl Command",
                                "type": "string"
                            },
                            "namespace": {
                                "description": "Namespace",
                                "title": "Namespace",
                                "type": "string"
                            },
                            "pod_name": {
                                "description": "Pod Name",
                                "title": "Pod Name",
                                "type": "string"
                            }
                        },
                        "required": [
                            "namespace",
                            "pod_name"
                        ],
                        "title": "k8s_kubectl_describe_pod",
                        "type": "object"
                    }
                ],
                "isUnskript": false,
                "jupyter": {
                    "source_hidden": true
                },
                "legotype": "LEGO_TYPE_K8S",
                "name": "Kubectl describe a pod",
                "nouns": [],
                "orderProperties": [
                    "pod_name",
                    "k8s_cli_string",
                    "namespace"
                ],
                "output": {
                    "type": ""
                },
                "printOutput": true,
                "tags": [
                    "k8s_kubectl_describe_pod"
                ],
                "verbs": [],
                "execution_count": {}
            },
            "source": [
                "from pprint import pprint\n",
                "from pydantic import BaseModel, Field\n",
                "from kubernetes.client.rest import ApiException\n",
                "\n",
                "\n",
                "from beartype import beartype\n",
                "@beartype\n",
                "def k8s_kubectl_describe_pod_printer(data: str):\n",
                "    if data is None:\n",
                "        return\n",
                "    print(\"Pod Details:\")\n",
                "    pprint(data)\n",
                "\n",
                "\n",
                "@beartype\n",
                "def k8s_kubectl_describe_pod(handle, pod_name: str, k8s_cli_string: str, namespace: str) -> str:\n",
                "    \"\"\"k8s_kubectl_describe_pod executes the given kubectl command\n",
                "\n",
                "        :type handle: object\n",
                "        :param handle: Object returned from the Task validate method\n",
                "\n",
                "        :type k8s_cli_string: str\n",
                "        :param k8s_cli_string: kubectl describe pod {pod_name} -n {namespace}.\n",
                "\n",
                "        :type node_name: str\n",
                "        :param node_name: Node Name.\n",
                "\n",
                "        :type namespace: str\n",
                "        :param namespace:Namespace\n",
                "\n",
                "        :rtype: String, Output of the command in python string format or\n",
                "        Empty String in case of Error.\n",
                "    \"\"\"\n",
                "    k8s_cli_string = k8s_cli_string.format(\n",
                "        pod_name=pod_name, namespace=namespace)\n",
                "    result = handle.run_native_cmd(k8s_cli_string)\n",
                "    if result.stderr:\n",
                "        raise ApiException(\n",
                "            f\"Error occurred while executing command {result.stderr}\")\n",
                "\n",
                "    data = result.stdout\n",
                "    return data\n",
                "\n",
                "\n",
                "task = Task(Workflow())\n",
                "task.configure(credentialsJson='''{\\\"credential_type\\\": \\\"CONNECTOR_TYPE_K8S\\\"}''')",
                "task.configure(inputParamsJson='''{\n",
                "    \"k8s_cli_string\": \"\\\\\"kubectl describe pod {pod_name} -n {namespace}\\\\\"\",\n",
                "    \"namespace\": \"namespace\",\n",
                "    \"pod_name\": \"pod\"\n",
                "    }''')\n",
                "\n",
                "task.configure(printOutput=True)\n",
                "(err, hdl, args) = task.validate(vars=vars())\n",
                "if err is None:\n",
                "    task.execute(k8s_kubectl_describe_pod, lego_printer=k8s_kubectl_describe_pod_printer, hdl=hdl, args=args)\n"
            ],
            "execution_count": 36,
            "outputs": []
        },
        {
            "id": "3c37fa8b-4f6f-4a51-84ae-0829056c1d4a",
            "cell_type": "code",
            "metadata": {
                "accessType": "ACCESS_TYPE_UNSPECIFIED",
                "actionBashCommand": false,
                "actionCategories": [
                    "CATEGORY_TYPE_CLOUDOPS",
                    "CATEGORY_TYPE_DEVOPS",
                    "CATEGORY_TYPE_SRE",
                    "CATEGORY_TYPE_K8S",
                    "CATEGORY_TYPE_K8S_KUBECTL"
                ],
                "actionIsCheck": false,
                "actionNeedsCredential": true,
                "actionNextHopParameterMapping": {},
                "actionOutputType": "",
                "actionRequiredLinesInCode": [],
                "actionSupportsIteration": true,
                "actionSupportsPoll": true,
                "action_modified": false,
                "action_uuid": "8cd969c4db1d03d54d258e2c119e90aa914888abb4d5376b775ade8233bf3ae7",
                "checkEnabled": false,
                "continueOnError": false,
                "createTime": "1970-01-01T00:00:00Z",
                "credentialsJson": {},
                "currentVersion": "0.1.0",
                "description": "Execute kubectl command.",
                "execution_data": {},
                "id": 76,
                "index": 76,
                "inputData": [
                    {
                        "kubectl_command": {
                            "constant": false,
                            "value": "\"kubectl get pods {} -n {}\".format(pod, namespace)"
                        }
                    }
                ],
                "inputschema": [
                    {
                        "properties": {
                            "kubectl_command": {
                                "description": "kubectl command eg \"kubectl get pods --all-namespaces\"",
                                "title": "Kubectl Command",
                                "type": "string"
                            }
                        },
                        "required": [
                            "kubectl_command"
                        ],
                        "title": "k8s_kubectl_command",
                        "type": "object"
                    }
                ],
                "isUnskript": false,
                "jupyter": {
                    "source_hidden": true
                },
                "legotype": "LEGO_TYPE_K8S",
                "name": "Kubectl command ->  kubectl get pod {pod} -n {namespace}",
                "nouns": [],
                "orderProperties": [
                    "kubectl_command"
                ],
                "output": {
                    "type": ""
                },
                "printOutput": true,
                "tags": [
                    "k8s_kubectl_command"
                ],
                "title": "Kubectl command ->  kubectl get pod {pod} -n {namespace}",
                "verbs": [],
                "execution_count": {}
            },
            "source": [
                "#\n",
                "# Copyright (c) 2022 unSkript.com\n",
                "# All rights reserved.\n",
                "#\n",
                "\n",
                "from pydantic import BaseModel, Field\n",
                "from kubernetes.client.rest import ApiException\n",
                "\n",
                "\n",
                "from beartype import beartype\n",
                "@beartype\n",
                "def k8s_kubectl_command_printer(output):\n",
                "    if output is None:\n",
                "        return\n",
                "    print(output)\n",
                "\n",
                "\n",
                "@beartype\n",
                "def k8s_kubectl_command(handle, kubectl_command: str) -> str:\n",
                "    \"\"\"k8s_kubectl_command executes the given kubectl command on the pod\n",
                "\n",
                "        :type handle: object\n",
                "        :param handle: Object returned from the Task validate method\n",
                "\n",
                "        :type kubectl_command: str\n",
                "        :param kubectl_command: The Actual kubectl command, like kubectl get ns, etc..\n",
                "\n",
                "        :rtype: String, Output of the command in python string format or Empty String\n",
                "        in case of Error.\n",
                "    \"\"\"\n",
                "    if handle.client_side_validation is not True:\n",
                "        print(f\"K8S Connector is invalid: {handle}\")\n",
                "        return str()\n",
                "\n",
                "    k8s_cli_string = kubectl_command.format()\n",
                "    result = handle.run_native_cmd(k8s_cli_string)\n",
                "\n",
                "    if result is None:\n",
                "        print(\n",
                "            f\"Error while executing command ({k8s_cli_string}) (empty response)\")\n",
                "        return \"\"\n",
                "\n",
                "    if result.stderr:\n",
                "        raise ApiException(f\"Error occurred while executing command {k8s_cli_string} {result.stderr}\")\n",
                "\n",
                "    return result.stdout\n",
                "\n",
                "\n",
                "task = Task(Workflow())\n",
                "task.configure(credentialsJson='''{\\\"credential_type\\\": \\\"CONNECTOR_TYPE_K8S\\\"}''')",
                "task.configure(inputParamsJson='''{\n",
                "    \"kubectl_command\": \"\\\\\"kubectl get pods {} -n {}\\\\\".format(pod, namespace)\"\n",
                "    }''')\n",
                "\n",
                "task.configure(printOutput=True)\n",
                "(err, hdl, args) = task.validate(vars=vars())\n",
                "if err is None:\n",
                "    task.execute(k8s_kubectl_command, lego_printer=k8s_kubectl_command_printer, hdl=hdl, args=args)\n"
            ],
            "execution_count": 37,
            "outputs": []
        },
        {
            "id": "a9291bbd-7dca-44f1-a8e8-1133d24ed8be",
            "cell_type": "code",
            "metadata": {
                "accessType": "ACCESS_TYPE_UNSPECIFIED",
                "actionBashCommand": false,
                "actionCategories": [
                    "CATEGORY_TYPE_CLOUDOPS",
                    "CATEGORY_TYPE_DEVOPS",
                    "CATEGORY_TYPE_SRE",
                    "CATEGORY_TYPE_K8S",
                    "CATEGORY_TYPE_K8S_KUBECTL",
                    "CATEGORY_TYPE_K8S_POD"
                ],
                "actionIsCheck": false,
                "actionNeedsCredential": true,
                "actionNextHopParameterMapping": {},
                "actionOutputType": "",
                "actionRequiredLinesInCode": [],
                "actionSupportsIteration": true,
                "actionSupportsPoll": true,
                "action_modified": false,
                "action_uuid": "dbc4cc0c949d182204e79d2208aaa1df5a7928b387741d435b4a1605206309c7",
                "checkEnabled": false,
                "continueOnError": false,
                "createTime": "1970-01-01T00:00:00Z",
                "credentialsJson": {},
                "currentVersion": "0.1.0",
                "description": "Kubectl show metrics for a given pod",
                "execution_data": {},
                "id": 44,
                "index": 44,
                "inputData": [
                    {
                        "k8s_cli_string": {
                            "constant": false,
                            "value": "\"kubectl top pod {pod_name} -n {namespace}\""
                        },
                        "namespace": {
                            "constant": false,
                            "value": "namespace"
                        },
                        "pod_name": {
                            "constant": false,
                            "value": "pod"
                        }
                    }
                ],
                "inputschema": [
                    {
                        "properties": {
                            "k8s_cli_string": {
                                "default": "kubectl top pod {pod_name} -n {namespace}",
                                "description": "kubectl show metrics for a given pod",
                                "title": "Kubectl Command",
                                "type": "string"
                            },
                            "namespace": {
                                "description": "Namespace",
                                "title": "Namespace",
                                "type": "string"
                            },
                            "pod_name": {
                                "description": "Pod Name",
                                "title": "Pod Name",
                                "type": "string"
                            }
                        },
                        "required": [
                            "namespace",
                            "pod_name"
                        ],
                        "title": "k8s_kubectl_show_metrics_pod",
                        "type": "object"
                    }
                ],
                "isUnskript": false,
                "jupyter": {
                    "source_hidden": true
                },
                "legotype": "LEGO_TYPE_K8S",
                "name": "Kubectl show metrics -> kubectl top pods",
                "nouns": [],
                "orderProperties": [
                    "k8s_cli_string",
                    "pod_name",
                    "namespace"
                ],
                "output": {
                    "type": ""
                },
                "printOutput": true,
                "tags": [
                    "k8s_kubectl_show_metrics_pod"
                ],
                "title": "Kubectl show metrics -> kubectl top pods",
                "verbs": [],
                "execution_count": {}
            },
            "source": [
                "from pydantic import BaseModel, Field\n",
                "from kubernetes.client.rest import ApiException\n",
                "\n",
                "\n",
                "from beartype import beartype\n",
                "@beartype\n",
                "def k8s_kubectl_show_metrics_pod_printer(data: str):\n",
                "    if data is None:\n",
                "        print(\"Error while executing command\")\n",
                "        return\n",
                "\n",
                "    print (data)\n",
                "\n",
                "@beartype\n",
                "def k8s_kubectl_show_metrics_pod(\n",
                "        handle,\n",
                "        k8s_cli_string: str,\n",
                "        pod_name:str,\n",
                "        namespace:str\n",
                "        ) -> str:\n",
                "    \"\"\"k8s_kubectl_show_metrics_node executes the given kubectl command\n",
                "\n",
                "        :type handle: object\n",
                "        :param handle: Object returned from the Task validate method\n",
                "\n",
                "        :type k8s_cli_string: str\n",
                "        :param k8s_cli_string: kubectl top pod {pod_name} -n {namespace}.\n",
                "\n",
                "        :type pod_name: str\n",
                "        :param pod_name: Pod Name.\n",
                "\n",
                "        :type namespace: str\n",
                "        :param namespace: Namespace.\n",
                "\n",
                "        :rtype: String, Output of the command in python string format or\n",
                "        Empty String in case of Error.\n",
                "    \"\"\"\n",
                "    k8s_cli_string = k8s_cli_string.format(pod_name=pod_name, namespace=namespace)\n",
                "    result = handle.run_native_cmd(k8s_cli_string)\n",
                "    if result is None:\n",
                "        print(\n",
                "            f\"Error while executing command ({k8s_cli_string}) (empty response)\")\n",
                "        return \"\"\n",
                "\n",
                "    if result.stderr:\n",
                "        raise ApiException(\n",
                "            f\"Error occurred while executing command {k8s_cli_string} {result.stderr}\")\n",
                "\n",
                "    return result.stdout\n",
                "\n",
                "\n",
                "task = Task(Workflow())\n",
                "task.configure(credentialsJson='''{\\\"credential_type\\\": \\\"CONNECTOR_TYPE_K8S\\\"}''')",
                "task.configure(inputParamsJson='''{\n",
                "    \"k8s_cli_string\": \"\\\\\"kubectl top pod {pod_name} -n {namespace}\\\\\"\",\n",
                "    \"namespace\": \"namespace\",\n",
                "    \"pod_name\": \"pod\"\n",
                "    }''')\n",
                "task.configure(printOutput=True)\n",
                "(err, hdl, args) = task.validate(vars=vars())\n",
                "if err is None:\n",
                "    task.execute(k8s_kubectl_show_metrics_pod, lego_printer=k8s_kubectl_show_metrics_pod_printer, hdl=hdl, args=args)\n"
            ],
            "execution_count": 38,
            "outputs": []
        },
        {
            "id": "1f8e49cf-9b9e-4b05-a70a-b3e208638ff4",
            "cell_type": "code",
            "metadata": {
                "accessType": "ACCESS_TYPE_UNSPECIFIED",
                "actionBashCommand": false,
                "actionCategories": [
                    "CATEGORY_TYPE_CLOUDOPS",
                    "CATEGORY_TYPE_DEVOPS",
                    "CATEGORY_TYPE_SRE",
                    "CATEGORY_TYPE_K8S",
                    "CATEGORY_TYPE_K8S_KUBECTL"
                ],
                "actionIsCheck": false,
                "actionNeedsCredential": true,
                "actionNextHopParameterMapping": {},
                "actionOutputType": "",
                "actionRequiredLinesInCode": [],
                "actionSupportsIteration": true,
                "actionSupportsPoll": true,
                "action_modified": false,
                "action_uuid": "8cd969c4db1d03d54d258e2c119e90aa914888abb4d5376b775ade8233bf3ae7",
                "checkEnabled": false,
                "continueOnError": false,
                "createTime": "1970-01-01T00:00:00Z",
                "credentialsJson": {},
                "currentVersion": "0.1.0",
                "description": "Execute kubectl command.",
                "execution_data": {},
                "id": 76,
                "index": 76,
                "inputData": [
                    {
                        "kubectl_command": {
                            "constant": false,
                            "value": "f\"kubectl get pods -l app={app_label} -n {namespace}\""
                        }
                    }
                ],
                "inputschema": [
                    {
                        "properties": {
                            "kubectl_command": {
                                "description": "kubectl command eg \"kubectl get pods --all-namespaces\"",
                                "title": "Kubectl Command",
                                "type": "string"
                            }
                        },
                        "required": [
                            "kubectl_command"
                        ],
                        "title": "k8s_kubectl_command",
                        "type": "object"
                    }
                ],
                "isUnskript": false,
                "jupyter": {
                    "source_hidden": true
                },
                "legotype": "LEGO_TYPE_K8S",
                "name": "Kubectl command -> kubectl get pods -l app={app_label} -n {namespace}",
                "nouns": [],
                "orderProperties": [
                    "kubectl_command"
                ],
                "output": {
                    "type": ""
                },
                "printOutput": true,
                "tags": [
                    "k8s_kubectl_command"
                ],
                "title": "Kubectl command -> kubectl get pods -l app={app_label} -n {namespace}",
                "verbs": [],
                "execution_count": {}
            },
            "source": [
                "#\n",
                "# Copyright (c) 2022 unSkript.com\n",
                "# All rights reserved.\n",
                "#\n",
                "\n",
                "from pydantic import BaseModel, Field\n",
                "from kubernetes.client.rest import ApiException\n",
                "\n",
                "\n",
                "from beartype import beartype\n",
                "@beartype\n",
                "def k8s_kubectl_command_printer(output):\n",
                "    if output is None:\n",
                "        return\n",
                "    print(output)\n",
                "\n",
                "\n",
                "@beartype\n",
                "def k8s_kubectl_command(handle, kubectl_command: str) -> str:\n",
                "    \"\"\"k8s_kubectl_command executes the given kubectl command on the pod\n",
                "\n",
                "        :type handle: object\n",
                "        :param handle: Object returned from the Task validate method\n",
                "\n",
                "        :type kubectl_command: str\n",
                "        :param kubectl_command: The Actual kubectl command, like kubectl get ns, etc..\n",
                "\n",
                "        :rtype: String, Output of the command in python string format or Empty String\n",
                "        in case of Error.\n",
                "    \"\"\"\n",
                "    if handle.client_side_validation is not True:\n",
                "        print(f\"K8S Connector is invalid: {handle}\")\n",
                "        return str()\n",
                "\n",
                "    result = handle.run_native_cmd(kubectl_command)\n",
                "\n",
                "    if result is None:\n",
                "        print(\n",
                "            f\"Error while executing command ({kubectl_command}) (empty response)\")\n",
                "        return \"\"\n",
                "\n",
                "    if result.stderr:\n",
                "        raise ApiException(f\"Error occurred while executing command {kubectl_command} {result.stderr}\")\n",
                "\n",
                "    return result.stdout\n",
                "\n",
                "\n",
                "task = Task(Workflow())\n",
                "task.configure(credentialsJson='''{\\\"credential_type\\\": \\\"CONNECTOR_TYPE_K8S\\\"}''')",
                "task.configure(inputParamsJson='''{\n",
                "    \"kubectl_command\": \"f\\\\\"kubectl get pods -l app={app_label} -n {namespace}\\\\\"\"\n",
                "    }''')\n",
                "\n",
                "task.configure(printOutput=True)\n",
                "(err, hdl, args) = task.validate(vars=vars())\n",
                "if err is None:\n",
                "    task.execute(k8s_kubectl_command, lego_printer=k8s_kubectl_command_printer, hdl=hdl, args=args)\n"
            ],
            "execution_count": 39,
            "outputs": []
        },
        {
            "id": "1276aa13-132a-43f9-ade3-0932803fd703",
            "cell_type": "code",
            "metadata": {
                "accessType": "ACCESS_TYPE_UNSPECIFIED",
                "actionBashCommand": false,
                "actionCategories": [
                    "CATEGORY_TYPE_CLOUDOPS",
                    "CATEGORY_TYPE_DEVOPS",
                    "CATEGORY_TYPE_SRE",
                    "CATEGORY_TYPE_K8S",
                    "CATEGORY_TYPE_K8S_KUBECTL"
                ],
                "actionIsCheck": false,
                "actionNeedsCredential": true,
                "actionNextHopParameterMapping": {},
                "actionOutputType": "",
                "actionRequiredLinesInCode": [],
                "actionSupportsIteration": true,
                "actionSupportsPoll": true,
                "action_modified": false,
                "action_uuid": "8cd969c4db1d03d54d258e2c119e90aa914888abb4d5376b775ade8233bf3ae7",
                "checkEnabled": false,
                "continueOnError": false,
                "createTime": "1970-01-01T00:00:00Z",
                "credentialsJson": {},
                "currentVersion": "0.1.0",
                "description": "Execute kubectl command.",
                "execution_data": {},
                "id": 76,
                "index": 76,
                "inputData": [
                    {
                        "kubectl_command": {
                            "constant": false,
                            "value": "f\"kubectl top pods -l app={app_label} -n {namespace}\""
                        }
                    }
                ],
                "inputschema": [
                    {
                        "properties": {
                            "kubectl_command": {
                                "description": "kubectl command eg \"kubectl get pods --all-namespaces\"",
                                "title": "Kubectl Command",
                                "type": "string"
                            }
                        },
                        "required": [
                            "kubectl_command"
                        ],
                        "title": "k8s_kubectl_command",
                        "type": "object"
                    }
                ],
                "isUnskript": false,
                "jupyter": {
                    "source_hidden": true
                },
                "legotype": "LEGO_TYPE_K8S",
                "name": "Kubectl command -> kubectl top pods -l app={app_label} -n {namespace}",
                "nouns": [],
                "orderProperties": [
                    "kubectl_command"
                ],
                "output": {
                    "type": ""
                },
                "printOutput": true,
                "tags": [
                    "k8s_kubectl_command"
                ],
                "title": "Kubectl command -> kubectl top pods -l app={app_label} -n {namespace}",
                "verbs": [],
                "execution_count": {}
            },
            "source": [
                "#\n",
                "# Copyright (c) 2022 unSkript.com\n",
                "# All rights reserved.\n",
                "#\n",
                "\n",
                "from pydantic import BaseModel, Field\n",
                "from kubernetes.client.rest import ApiException\n",
                "\n",
                "\n",
                "from beartype import beartype\n",
                "@beartype\n",
                "def k8s_kubectl_command_printer(output):\n",
                "    if output is None:\n",
                "        return\n",
                "    print(output)\n",
                "\n",
                "\n",
                "@beartype\n",
                "def k8s_kubectl_command(handle, kubectl_command: str) -> str:\n",
                "    \"\"\"k8s_kubectl_command executes the given kubectl command on the pod\n",
                "\n",
                "        :type handle: object\n",
                "        :param handle: Object returned from the Task validate method\n",
                "\n",
                "        :type kubectl_command: str\n",
                "        :param kubectl_command: The Actual kubectl command, like kubectl get ns, etc..\n",
                "\n",
                "        :rtype: String, Output of the command in python string format or Empty String\n",
                "        in case of Error.\n",
                "    \"\"\"\n",
                "    if handle.client_side_validation is not True:\n",
                "        print(f\"K8S Connector is invalid: {handle}\")\n",
                "        return str()\n",
                "\n",
                "    result = handle.run_native_cmd(kubectl_command)\n",
                "\n",
                "    if result is None:\n",
                "        print(\n",
                "            f\"Error while executing command ({kubectl_command}) (empty response)\")\n",
                "        return \"\"\n",
                "\n",
                "    if result.stderr:\n",
                "        raise ApiException(f\"Error occurred while executing command {kubectl_command} {result.stderr}\")\n",
                "\n",
                "    return result.stdout\n",
                "\n",
                "\n",
                "task = Task(Workflow())\n",
                "task.configure(credentialsJson='''{\\\"credential_type\\\": \\\"CONNECTOR_TYPE_K8S\\\"}''')",
                "task.configure(inputParamsJson='''{\n",
                "    \"kubectl_command\": \"f\\\\\"kubectl top pods -l app={app_label} -n {namespace}\\\\\"\"\n",
                "    }''')\n",
                "\n",
                "task.configure(printOutput=True)\n",
                "(err, hdl, args) = task.validate(vars=vars())\n",
                "if err is None:\n",
                "    task.execute(k8s_kubectl_command, lego_printer=k8s_kubectl_command_printer, hdl=hdl, args=args)\n"
            ],
            "execution_count": 40,
            "outputs": []
        },
        {
            "id": "0f214340-528a-4b8c-8409-58788587a9b6",
            "cell_type": "code",
            "metadata": {
                "accessType": "ACCESS_TYPE_UNSPECIFIED",
                "actionBashCommand": false,
                "actionCategories": [
                    "CATEGORY_TYPE_CLOUDOPS",
                    "CATEGORY_TYPE_DEVOPS",
                    "CATEGORY_TYPE_SRE",
                    "CATEGORY_TYPE_K8S",
                    "CATEGORY_TYPE_K8S_KUBECTL"
                ],
                "actionIsCheck": false,
                "actionNeedsCredential": true,
                "actionNextHopParameterMapping": {},
                "actionOutputType": "",
                "actionRequiredLinesInCode": [],
                "actionSupportsIteration": true,
                "actionSupportsPoll": true,
                "action_modified": false,
                "action_uuid": "8cd969c4db1d03d54d258e2c119e90aa914888abb4d5376b775ade8233bf3ae7",
                "checkEnabled": false,
                "continueOnError": false,
                "createTime": "1970-01-01T00:00:00Z",
                "credentialsJson": {},
                "currentVersion": "0.1.0",
                "description": "Execute kubectl command.",
                "execution_data": {},
                "id": 76,
                "index": 76,
                "inputData": [
                    {
                        "kubectl_command": {
                            "constant": false,
                            "value": "f\"kubectl logs -l app={app_label} -c {container} -n {namespace}\""
                        }
                    }
                ],
                "inputschema": [
                    {
                        "properties": {
                            "kubectl_command": {
                                "description": "kubectl command eg \"kubectl get pods --all-namespaces\"",
                                "title": "Kubectl Command",
                                "type": "string"
                            }
                        },
                        "required": [
                            "kubectl_command"
                        ],
                        "title": "k8s_kubectl_command",
                        "type": "object"
                    }
                ],
                "isUnskript": false,
                "jupyter": {
                    "source_hidden": true
                },
                "legotype": "LEGO_TYPE_K8S",
                "name": "Kubectl command -> kubectl logs -l app={app_label} -c {container} -n {namespace}",
                "nouns": [],
                "orderProperties": [
                    "kubectl_command"
                ],
                "output": {
                    "type": ""
                },
                "printOutput": true,
                "tags": [
                    "k8s_kubectl_command"
                ],
                "title": "Kubectl command -> kubectl logs -l app={app_label} -c {container} -n {namespace}",
                "verbs": [],
                "execution_count": {}
            },
            "source": [
                "#\n",
                "# Copyright (c) 2022 unSkript.com\n",
                "# All rights reserved.\n",
                "#\n",
                "\n",
                "from pydantic import BaseModel, Field\n",
                "from kubernetes.client.rest import ApiException\n",
                "\n",
                "\n",
                "from beartype import beartype\n",
                "@beartype\n",
                "def k8s_kubectl_command_printer(output):\n",
                "    if output is None:\n",
                "        return\n",
                "    print(output)\n",
                "\n",
                "\n",
                "@beartype\n",
                "def k8s_kubectl_command(handle, kubectl_command: str) -> str:\n",
                "    \"\"\"k8s_kubectl_command executes the given kubectl command on the pod\n",
                "\n",
                "        :type handle: object\n",
                "        :param handle: Object returned from the Task validate method\n",
                "\n",
                "        :type kubectl_command: str\n",
                "        :param kubectl_command: The Actual kubectl command, like kubectl get ns, etc..\n",
                "\n",
                "        :rtype: String, Output of the command in python string format or Empty String\n",
                "        in case of Error.\n",
                "    \"\"\"\n",
                "    if handle.client_side_validation is not True:\n",
                "        print(f\"K8S Connector is invalid: {handle}\")\n",
                "        return str()\n",
                "\n",
                "    result = handle.run_native_cmd(kubectl_command)\n",
                "\n",
                "    if result is None:\n",
                "        print(\n",
                "            f\"Error while executing command ({kubectl_command}) (empty response)\")\n",
                "        return \"\"\n",
                "\n",
                "    if result.stderr:\n",
                "        raise ApiException(f\"Error occurred while executing command {kubectl_command} {result.stderr}\")\n",
                "\n",
                "    return result.stdout\n",
                "\n",
                "\n",
                "task = Task(Workflow())\n",
                "task.configure(credentialsJson='''{\\\"credential_type\\\": \\\"CONNECTOR_TYPE_K8S\\\"}''')",
                "task.configure(inputParamsJson='''{\n",
                "    \"kubectl_command\": \"f\\\\\"kubectl logs -l app={app_label} -c {container} -n {namespace}\\\\\"\"\n",
                "    }''')\n",
                "\n",
                "task.configure(printOutput=True)\n",
                "(err, hdl, args) = task.validate(vars=vars())\n",
                "if err is None:\n",
                "    task.execute(k8s_kubectl_command, lego_printer=k8s_kubectl_command_printer, hdl=hdl, args=args)\n"
            ],
            "execution_count": 41,
            "outputs": []
        },
        {
            "id": "62ca2564-e1f0-4d91-8e87-ba941a354efa",
            "cell_type": "code",
            "metadata": {
                "accessType": "ACCESS_TYPE_UNSPECIFIED",
                "actionBashCommand": false,
                "actionCategories": [
                    "CATEGORY_TYPE_CLOUDOPS",
                    "CATEGORY_TYPE_DEVOPS",
                    "CATEGORY_TYPE_SRE",
                    "CATEGORY_TYPE_K8S",
                    "CATEGORY_TYPE_K8S_KUBECTL"
                ],
                "actionIsCheck": false,
                "actionNeedsCredential": true,
                "actionNextHopParameterMapping": {},
                "actionOutputType": "",
                "actionRequiredLinesInCode": [],
                "actionSupportsIteration": true,
                "actionSupportsPoll": true,
                "action_modified": false,
                "action_uuid": "8cd969c4db1d03d54d258e2c119e90aa914888abb4d5376b775ade8233bf3ae7",
                "checkEnabled": false,
                "continueOnError": false,
                "createTime": "1970-01-01T00:00:00Z",
                "credentialsJson": {},
                "currentVersion": "0.1.0",
                "description": "Execute kubectl command.",
                "execution_data": {},
                "id": 76,
                "index": 76,
                "inputData": [
                    {
                        "kubectl_command": {
                            "constant": false,
                            "value": "f\"kubectl describe pods -l app={app_label} -n {namespace}\""
                        }
                    }
                ],
                "inputschema": [
                    {
                        "properties": {
                            "kubectl_command": {
                                "description": "kubectl command eg \"kubectl get pods --all-namespaces\"",
                                "title": "Kubectl Command",
                                "type": "string"
                            }
                        },
                        "required": [
                            "kubectl_command"
                        ],
                        "title": "k8s_kubectl_command",
                        "type": "object"
                    }
                ],
                "isUnskript": false,
                "jupyter": {
                    "source_hidden": true
                },
                "legotype": "LEGO_TYPE_K8S",
                "name": "Kubectl command -> kubectl describe pods -l app={app_label} -n {namespace}",
                "nouns": [],
                "orderProperties": [
                    "kubectl_command"
                ],
                "output": {
                    "type": ""
                },
                "printOutput": true,
                "tags": [
                    "k8s_kubectl_command"
                ],
                "title": "Kubectl command -> kubectl describe pods -l app={app_label} -n {namespace}",
                "verbs": [],
                "execution_count": {}
            },
            "source": [
                "#\n",
                "# Copyright (c) 2022 unSkript.com\n",
                "# All rights reserved.\n",
                "#\n",
                "\n",
                "from pydantic import BaseModel, Field\n",
                "from kubernetes.client.rest import ApiException\n",
                "\n",
                "\n",
                "from beartype import beartype\n",
                "@beartype\n",
                "def k8s_kubectl_command_printer(output):\n",
                "    if output is None:\n",
                "        return\n",
                "    print(output)\n",
                "\n",
                "\n",
                "@beartype\n",
                "def k8s_kubectl_command(handle, kubectl_command: str) -> str:\n",
                "    \"\"\"k8s_kubectl_command executes the given kubectl command on the pod\n",
                "\n",
                "        :type handle: object\n",
                "        :param handle: Object returned from the Task validate method\n",
                "\n",
                "        :type kubectl_command: str\n",
                "        :param kubectl_command: The Actual kubectl command, like kubectl get ns, etc..\n",
                "\n",
                "        :rtype: String, Output of the command in python string format or Empty String\n",
                "        in case of Error.\n",
                "    \"\"\"\n",
                "    if handle.client_side_validation is not True:\n",
                "        print(f\"K8S Connector is invalid: {handle}\")\n",
                "        return str()\n",
                "\n",
                "    result = handle.run_native_cmd(kubectl_command)\n",
                "\n",
                "    if result is None:\n",
                "        print(\n",
                "            f\"Error while executing command ({kubectl_command}) (empty response)\")\n",
                "        return \"\"\n",
                "\n",
                "    if result.stderr:\n",
                "        raise ApiException(f\"Error occurred while executing command {kubectl_command} {result.stderr}\")\n",
                "\n",
                "    return result.stdout\n",
                "\n",
                "\n",
                "task = Task(Workflow())\n",
                "task.configure(credentialsJson='''{\\\"credential_type\\\": \\\"CONNECTOR_TYPE_K8S\\\"}''')",
                "task.configure(inputParamsJson='''{\n",
                "    \"kubectl_command\": \"f\\\\\"kubectl describe pods -l app={app_label} -n {namespace}\\\\\"\"\n",
                "    }''')\n",
                "\n",
                "task.configure(printOutput=True)\n",
                "(err, hdl, args) = task.validate(vars=vars())\n",
                "if err is None:\n",
                "    task.execute(k8s_kubectl_command, lego_printer=k8s_kubectl_command_printer, hdl=hdl, args=args)\n"
            ],
            "execution_count": 42,
            "outputs": []
        },
        {
            "id": "13a530cf-ecf3-4d71-b516-4f78b67a8986",
            "cell_type": "markdown",
            "metadata": {
                "jupyter": {
                    "source_hidden": false
                },
                "name": "Fix",
                "orderProperties": [],
                "tags": [],
                "title": "Fix"
            },
            "source": "<p>Increase resource allocation:</p>\n<p>If the root cause is identified as insufficient resources, increase the allocation of CPU, memory, or other resources to the Kubernetes deployment.</p>\n<p>&nbsp;</p>",
            "execution_count": null,
            "outputs": []
        },
        {
            "id": "7c6f855a-ac70-41d0-bf70-2936a3e00ce3",
            "cell_type": "code",
            "metadata": {
                "accessType": "ACCESS_TYPE_UNSPECIFIED",
                "actionBashCommand": false,
                "actionCategories": [
                    "CATEGORY_TYPE_CLOUDOPS",
                    "CATEGORY_TYPE_DEVOPS",
                    "CATEGORY_TYPE_SRE",
                    "CATEGORY_TYPE_K8S",
                    "CATEGORY_TYPE_K8S_KUBECTL"
                ],
                "actionIsCheck": false,
                "actionNeedsCredential": true,
                "actionNextHopParameterMapping": {},
                "actionOutputType": "",
                "actionRequiredLinesInCode": [],
                "actionSupportsIteration": true,
                "actionSupportsPoll": true,
                "action_modified": true,
                "action_uuid": "8cd969c4db1d03d54d258e2c119e90aa914888abb4d5376b775ade8233bf3ae7",
                "checkEnabled": false,
                "continueOnError": false,
                "createTime": "1970-01-01T00:00:00Z",
                "credentialsJson": {},
                "currentVersion": "0.1.0",
                "description": "Execute kubectl command.",
                "execution_data": {},
                "id": 76,
                "index": 76,
                "inputData": [
                    {
                        "deployment": {
                            "constant": false,
                            "value": "deployment"
                        },
                        "kubectl_command": {
                            "constant": false,
                            "value": "\"kubectl set resources deployment {deployment} -n {namespace} --limits=cpu={new_cpu_limit},memory={new_memory_limit}\""
                        },
                        "namespace": {
                            "constant": false,
                            "value": "namespace"
                        },
                        "new_cpu_limit": {
                            "constant": false,
                            "value": "12"
                        },
                        "new_memory_limit": {
                            "constant": false,
                            "value": "12"
                        }
                    }
                ],
                "inputschema": [
                    {
                        "properties": {
                            "deployment": {
                                "default": "",
                                "description": "Deployment Name",
                                "title": "deployment",
                                "type": "string"
                            },
                            "kubectl_command": {
                                "default": "",
                                "description": "kubectl command eg \"kubectl get pods --all-namespaces\"",
                                "title": "Kubectl Command",
                                "type": "string"
                            },
                            "namespace": {
                                "default": "",
                                "description": "Namespace",
                                "title": "namespace",
                                "type": "string"
                            },
                            "new_cpu_limit": {
                                "default": "",
                                "description": "New CPU Limit",
                                "title": "new_cpu_limit",
                                "type": "string"
                            },
                            "new_memory_limit": {
                                "default": "",
                                "description": "New Memory Limit",
                                "title": "new_memory_limit",
                                "type": "string"
                            }
                        },
                        "required": [
                            "kubectl_command",
                            "new_cpu_limit",
                            "new_memory_limit",
                            "deployment",
                            "namespace"
                        ],
                        "title": "k8s_kubectl_command",
                        "type": "object"
                    }
                ],
                "isUnskript": false,
                "jupyter": {
                    "source_hidden": true
                },
                "legotype": "LEGO_TYPE_K8S",
                "name": "Kubectl command -> Increase CPU/Memory Limits",
                "nouns": [],
                "orderProperties": [
                    "kubectl_command",
                    "new_cpu_limit",
                    "new_memory_limit",
                    "deployment",
                    "namespace"
                ],
                "output": {
                    "type": ""
                },
                "printOutput": true,
                "tags": [
                    "k8s_kubectl_command"
                ],
                "title": "Kubectl command -> Increase CPU/Memory Limits",
                "verbs": [],
                "execution_count": {}
            },
            "source": [
                "#\n",
                "# Copyright (c) 2022 unSkript.com\n",
                "# All rights reserved.\n",
                "#\n",
                "\n",
                "from pydantic import BaseModel, Field\n",
                "from kubernetes.client.rest import ApiException\n",
                "\n",
                "\n",
                "from beartype import beartype\n",
                "@beartype\n",
                "def k8s_kubectl_command_printer(output):\n",
                "    if output is None:\n",
                "        return\n",
                "    print(output)\n",
                "\n",
                "\n",
                "@beartype\n",
                "def k8s_kubectl_command(handle, new_cpu_limit, new_memory_limit, deployment, namespace, kubectl_command: str) -> str:\n",
                "    \"\"\"k8s_kubectl_command executes the given kubectl command on the pod\n",
                "\n",
                "        :type handle: object\n",
                "        :param handle: Object returned from the Task validate method\n",
                "\n",
                "        :type kubectl_command: str\n",
                "        :param kubectl_command: The Actual kubectl command, like kubectl get ns, etc..\n",
                "\n",
                "        :rtype: String, Output of the command in python string format or Empty String\n",
                "        in case of Error.\n",
                "    \"\"\"\n",
                "    if handle.client_side_validation is not True:\n",
                "        print(f\"K8S Connector is invalid: {handle}\")\n",
                "        return str()\n",
                "\n",
                "    result = handle.run_native_cmd(kubectl_command.format(deployment=deployment, namespace=namespace, new_cpu_limit=new_cpu_limit, new_memory_limit=new_memory_limit))\n",
                "\n",
                "    if result is None:\n",
                "        print(\n",
                "            f\"Error while executing command ({kubectl_command}) (empty response)\")\n",
                "        return \"\"\n",
                "\n",
                "    if result.stderr:\n",
                "        raise ApiException(f\"Error occurred while executing command {kubectl_command} {result.stderr}\")\n",
                "\n",
                "    return result.stdout\n",
                "\n",
                "\n",
                "task = Task(Workflow())\n",
                "task.configure(credentialsJson='''{\\\"credential_type\\\": \\\"CONNECTOR_TYPE_K8S\\\"}''')",
                "task.configure(inputParamsJson='''{\n",
                "    \"kubectl_command\": \"\\\\\"kubectl set resources deployment {deployment} -n {namespace} --limits=cpu={new_cpu_limit},memory={new_memory_limit}\\\\\"\",\n",
                "    \"new_cpu_limit\": \"12\",\n",
                "    \"new_memory_limit\": \"12\",\n",
                "    \"deployment\": \"deployment\",\n",
                "    \"namespace\": \"namespace\"\n",
                "    }''')\n",
                "\n",
                "task.configure(printOutput=True)\n",
                "(err, hdl, args) = task.validate(vars=vars())\n",
                "if err is None:\n",
                "    task.execute(k8s_kubectl_command, lego_printer=k8s_kubectl_command_printer, hdl=hdl, args=args)\n"
            ],
            "execution_count": 21,
            "outputs": []
        },
        {
            "id": "2c2aa264-5a2b-4714-adfd-79bdc4ae89d1",
            "cell_type": "code",
            "metadata": {
                "accessType": "ACCESS_TYPE_UNSPECIFIED",
                "actionBashCommand": false,
                "actionCategories": [
                    "CATEGORY_TYPE_CLOUDOPS",
                    "CATEGORY_TYPE_DEVOPS",
                    "CATEGORY_TYPE_SRE",
                    "CATEGORY_TYPE_K8S",
                    "CATEGORY_TYPE_K8S_KUBECTL"
                ],
                "actionIsCheck": false,
                "actionNeedsCredential": true,
                "actionNextHopParameterMapping": {},
                "actionOutputType": "",
                "actionRequiredLinesInCode": [],
                "actionSupportsIteration": true,
                "actionSupportsPoll": true,
                "action_modified": true,
                "action_uuid": "8cd969c4db1d03d54d258e2c119e90aa914888abb4d5376b775ade8233bf3ae7",
                "checkEnabled": false,
                "continueOnError": false,
                "createTime": "1970-01-01T00:00:00Z",
                "credentialsJson": {},
                "currentVersion": "0.1.0",
                "description": "Execute kubectl command.",
                "execution_data": {},
                "id": 76,
                "index": 76,
                "inputData": [
                    {
                        "deployment": {
                            "constant": false,
                            "value": "deployment"
                        },
                        "kubectl_command": {
                            "constant": false,
                            "value": "\"kubectl scale deployment -n {namespace} {deployment} --replicas={replicas}\""
                        },
                        "namespace": {
                            "constant": false,
                            "value": "namespace"
                        },
                        "replicas": {
                            "constant": false,
                            "value": "2"
                        }
                    }
                ],
                "inputschema": [
                    {
                        "properties": {
                            "deployment": {
                                "default": "",
                                "description": "Deployment",
                                "title": "deployment",
                                "type": "string"
                            },
                            "kubectl_command": {
                                "default": "",
                                "description": "kubectl command eg \"kubectl get pods --all-namespaces\"",
                                "title": "Kubectl Command",
                                "type": "string"
                            },
                            "namespace": {
                                "default": "",
                                "description": "Namespace",
                                "title": "namespace",
                                "type": "string"
                            },
                            "replicas": {
                                "default": "",
                                "description": "Replica Count",
                                "title": "replicas",
                                "type": "string"
                            }
                        },
                        "required": [
                            "deployment",
                            "kubectl_command",
                            "namespace",
                            "replicas"
                        ],
                        "title": "k8s_kubectl_command",
                        "type": "object"
                    }
                ],
                "isUnskript": false,
                "jupyter": {
                    "source_hidden": true
                },
                "legotype": "LEGO_TYPE_K8S",
                "name": "Kubectl command -> Scale Deployment",
                "nouns": [],
                "orderProperties": [
                    "kubectl_command",
                    "replicas",
                    "namespace",
                    "deployment"
                ],
                "output": {
                    "type": ""
                },
                "printOutput": true,
                "tags": [
                    "k8s_kubectl_command"
                ],
                "title": "Kubectl command -> Scale Deployment",
                "verbs": [],
                "execution_count": {}
            },
            "source": [
                "#\n",
                "# Copyright (c) 2022 unSkript.com\n",
                "# All rights reserved.\n",
                "#\n",
                "\n",
                "from pydantic import BaseModel, Field\n",
                "from kubernetes.client.rest import ApiException\n",
                "\n",
                "\n",
                "from beartype import beartype\n",
                "@beartype\n",
                "def k8s_kubectl_command_printer(output):\n",
                "    if output is None:\n",
                "        return\n",
                "    print(output)\n",
                "\n",
                "\n",
                "@beartype\n",
                "def k8s_kubectl_command(handle, kubectl_command: str, namespace, deployment, replicas) -> str:\n",
                "    \"\"\"k8s_kubectl_command executes the given kubectl command on the pod\n",
                "\n",
                "        :type handle: object\n",
                "        :param handle: Object returned from the Task validate method\n",
                "\n",
                "        :type kubectl_command: str\n",
                "        :param kubectl_command: The Actual kubectl command, like kubectl get ns, etc..\n",
                "\n",
                "        :rtype: String, Output of the command in python string format or Empty String\n",
                "        in case of Error.\n",
                "    \"\"\"\n",
                "    if handle.client_side_validation is not True:\n",
                "        print(f\"K8S Connector is invalid: {handle}\")\n",
                "        return str()\n",
                "\n",
                "    result = handle.run_native_cmd(kubectl_command.format(namespace=namespace, deployment=deployment, replicas=replicas))\n",
                "\n",
                "    if result is None:\n",
                "        print(\n",
                "            f\"Error while executing command ({kubectl_command}) (empty response)\")\n",
                "        return \"\"\n",
                "\n",
                "    if result.stderr:\n",
                "        raise ApiException(f\"Error occurred while executing command {kubectl_command} {result.stderr}\")\n",
                "\n",
                "    return result.stdout\n",
                "\n",
                "\n",
                "task = Task(Workflow())\n",
                "task.configure(credentialsJson='''{\\\"credential_type\\\": \\\"CONNECTOR_TYPE_K8S\\\"}''')",
                "task.configure(inputParamsJson='''{\n",
                "    \"deployment\": \"deployment\",\n",
                "    \"kubectl_command\": \"\\\\\"kubectl scale deployment -n {namespace} {deployment} --replicas={replicas}\\\\\"\",\n",
                "    \"namespace\": \"namespace\",\n",
                "    \"replicas\": \"2\"\n",
                "    }''')\n",
                "\n",
                "task.configure(printOutput=True)\n",
                "(err, hdl, args) = task.validate(vars=vars())\n",
                "if err is None:\n",
                "    task.execute(k8s_kubectl_command, lego_printer=k8s_kubectl_command_printer, hdl=hdl, args=args)\n"
            ],
            "execution_count": 46,
            "outputs": []
        }
    ]
}