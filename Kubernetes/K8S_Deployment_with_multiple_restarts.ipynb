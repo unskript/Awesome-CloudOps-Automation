{
    "nbformat": 4,
    "nbformat_minor": 5,
    "metadata": {
        "kernelspec": {
            "name": "python_kubernetes",
            "display_name": "unSkript (Build: 1267)"
        },
        "language_info": {
            "name": "python",
            "file_extension": ".py",
            "mimetype": "text/x-python",
            "pygments_lexer": "ipython3"
        },
        "execution_data": {
            "runbook_name": "k8s: Deployment with multiple restarts",
            "parameters": [
                "namespace",
                "pod",
                "app_label",
                "container",
                "deployment"
            ]
        },
        "parameterSchema": {
            "definitions": null,
            "properties": {
                "app_label": {
                    "description": "k8s App Label",
                    "title": "app_label",
                    "type": "string"
                },
                "container": {
                    "description": "k8s container",
                    "title": "container",
                    "type": "string"
                },
                "deployment": {
                    "description": "Name of deployment with the restart issue",
                    "title": "deployment",
                    "type": "string"
                },
                "namespace": {
                    "description": "k8s namespace with problematic deployment",
                    "title": "namespace",
                    "type": "string"
                },
                "pod": {
                    "description": "k8s pod name",
                    "title": "pod",
                    "type": "string"
                }
            },
            "required": [
                "namespace",
                "app_label",
                "pod",
                "deployment"
            ],
            "title": "Schema",
            "type": "object"
        },
        "outputParameterSchema": {
            "definitions": null,
            "properties": {},
            "required": [],
            "title": "Schema",
            "type": "object"
        },
        "parameterValues": {}
    },
    "cells": [
        {
            "id": "cef235be-afe2-45d3-b2a5-291cbb45698a",
            "cell_type": "markdown",
            "metadata": {
                "jupyter": {
                    "source_hidden": false
                },
                "name": "Debug Steps",
                "orderProperties": [],
                "tags": [],
                "title": "Debug Steps"
            },
            "source": "<ul>\n<li>Look for pod level information</li>\n<li>Look for deployment</li>\n<li>Look for app label</li>\n</ul>",
            "execution_count": null,
            "outputs": []
        },
        {
            "id": "7f3886e1-cbe6-4ec2-bf09-f9cd8fede1a3",
            "cell_type": "code",
            "metadata": {
                "accessType": "ACCESS_TYPE_UNSPECIFIED",
                "actionBashCommand": false,
                "actionCategories": [
                    "CATEGORY_TYPE_CLOUDOPS",
                    "CATEGORY_TYPE_DEVOPS",
                    "CATEGORY_TYPE_SRE",
                    "CATEGORY_TYPE_K8S"
                ],
                "actionIsCheck": true,
                "actionNeedsCredential": true,
                "actionNextHopParameterMapping": {},
                "actionOutputType": "",
                "actionRequiredLinesInCode": [],
                "actionSupportsIteration": true,
                "actionSupportsPoll": true,
                "action_modified": false,
                "action_uuid": "0e3f155377bafd8cf105db4ada0772c979dc14f95a8d76110b0ff2005a652b95",
                "checkEnabled": false,
                "continueOnError": false,
                "createTime": "1970-01-01T00:00:00Z",
                "credentialsJson": {},
                "currentVersion": "0.1.0",
                "description": "This action search for failed deployment status and returns list.",
                "execution_data": {},
                "id": 55,
                "index": 55,
                "inputData": [
                    {
                        "deployment": {
                            "constant": false,
                            "value": "deployment"
                        },
                        "namespace": {
                            "constant": false,
                            "value": "namespace"
                        }
                    }
                ],
                "inputschema": [
                    {
                        "properties": {
                            "deployment": {
                                "default": "",
                                "description": "k8s Deployment",
                                "title": "Deployment",
                                "type": "string"
                            },
                            "namespace": {
                                "default": "",
                                "description": "k8s Namespace",
                                "title": "Namespace",
                                "type": "string"
                            }
                        },
                        "required": [
                            "namespace",
                            "deployment"
                        ],
                        "title": "k8s_get_deployment_status",
                        "type": "object"
                    }
                ],
                "isUnskript": false,
                "jupyter": {
                    "source_hidden": true
                },
                "legotype": "LEGO_TYPE_K8S",
                "name": "Get Deployment Status",
                "nouns": [],
                "orderProperties": [
                    "namespace",
                    "deployment"
                ],
                "output": {
                    "type": ""
                },
                "printOutput": true,
                "tags": [
                    "k8s_get_deployment_status"
                ],
                "trusted": true,
                "verbs": [],
                "execution_count": {}
            },
            "source": [
                "#",
                "# Copyright (c) 2022 unSkript.com",
                "# All rights reserved.",
                "#",
                "",
                "import pprint",
                "import json",
                "from typing import Optional, Tuple",
                "from pydantic import BaseModel, Field",
                "",
                "from beartype import beartype",
                "@beartype",
                "def k8s_get_deployment_status_printer(output):",
                "    if output is None:",
                "        return",
                "    pprint.pprint(output)",
                "",
                "",
                "@beartype",
                "def k8s_get_deployment_status(handle, deployment: str = \"\", namespace: str = \"\") -> Tuple:",
                "    \"\"\"k8s_get_deployment_status executes the command and give failed deployment list",
                "",
                "        :type handle: object",
                "        :param handle: Object returned from the Task validate method",
                "",
                "        :type deployment: str",
                "        :param deployment: Deployment Name.",
                "",
                "        :type namespace: str",
                "        :param namespace: Kubernetes Namespace.",
                "",
                "        :rtype: Tuple with status result and list of failed deployments.",
                "    \"\"\"",
                "    result = []",
                "    if handle.client_side_validation is not True:",
                "        print(f\"K8S Connector is invalid: {handle}\")",
                "        raise Exception(\"K8S Connector is invalid\")",
                "",
                "    status_details = \"\"",
                "    if namespace and deployment:",
                "        name_cmd = \"kubectl get deployment \" + deployment + \" -n \" + namespace + \" -o json\"",
                "",
                "    if not namespace and not deployment:",
                "        name_cmd = \"kubectl get deployments --all-namespaces -o json\"",
                "",
                "    if namespace and not deployment:",
                "        name_cmd = \"kubectl get deployment -n \" + namespace + \" -o json\"",
                "",
                "    if deployment and not namespace:",
                "        name_cmd = \"kubectl get deployment \" + deployment + \" -o json\"",
                "",
                "    print(f\"Executing {name_cmd}\")",
                "    exec_cmd = handle.run_native_cmd(name_cmd)",
                "    if exec_cmd.stderr != None:",
                "        print(f\"Error while executing cmd {name_cmd}: {exec_cmd.stderr}\")",
                "        return (None, None)",
                "",
                "    status_op = exec_cmd.stdout",
                "    status_details = json.loads(status_op)",
                "",
                "    print(status_op)",
                "    if status_details:",
                "        if \"items\" in status_details:",
                "            for items in status_details[\"items\"]:",
                "                namespace_name = items[\"metadata\"][\"namespace\"]",
                "                deployment_name = items[\"metadata\"][\"name\"]",
                "                replica_details = items[\"status\"][\"conditions\"]",
                "                for i in replica_details:",
                "                    deployment_dict = {}",
                "                    if (\"FailedCreate\" in i[\"reason\"] and \"ReplicaFailure\" in i[\"type\"] and",
                "                        \"True\" in i[\"status\"]):",
                "                        deployment_dict[\"namespace\"] = namespace_name",
                "                        deployment_dict[\"deployment_name\"] = deployment_name",
                "                        result.append(deployment_dict)",
                "                    if (\"ProgressDeadlineExceeded\" in i[\"reason\"] and \"Progressing\" in i[\"type\"] and",
                "                        \"False\" in i[\"status\"]):",
                "                        deployment_dict[\"namespace\"] = namespace_name",
                "                        deployment_dict[\"deployment_name\"] = deployment_name",
                "                        result.append(deployment_dict)",
                "        else:",
                "            namespace_name = status_details[\"metadata\"][\"namespace\"]",
                "            deployment_name = status_details[\"metadata\"][\"name\"]",
                "            replica_details = status_details[\"status\"][\"conditions\"]",
                "            for i in replica_details:",
                "                deployment_dict = {}",
                "                if (\"FailedCreate\" in i[\"reason\"] and \"ReplicaFailure\" in i[\"type\"] and",
                "                    \"True\" in i[\"status\"]):",
                "                    deployment_dict[\"namespace\"] = namespace_name",
                "                    deployment_dict[\"deployment_name\"] = deployment_name",
                "                    result.append(deployment_dict)",
                "                if (\"ProgressDeadlineExceeded\" in i[\"reason\"] and \"Progressing\" in i[\"type\"] and",
                "                    \"False\" in i[\"status\"]):",
                "                    deployment_dict[\"namespace\"] = namespace_name",
                "                    deployment_dict[\"deployment_name\"] = deployment_name",
                "                    result.append(deployment_dict)",
                "",
                "    if len(result) != 0:",
                "        return (False, result)",
                "    return (True, None)",
                "",
                "",
                "task = Task(Workflow())",
                "task.configure(credentialsJson='''{\\\"credential_type\\\": \\\"CONNECTOR_TYPE_K8S\\\"}''')",
                "task.configure(inputParamsJson='''{",
                "    \"deployment\": \"deployment\",",
                "    \"namespace\": \"namespace\"",
                "    }''')",
                "",
                "task.configure(printOutput=True)",
                "(err, hdl, args) = task.validate(vars=vars())",
                "if err is None:",
                "    task.execute(k8s_get_deployment_status, lego_printer=k8s_get_deployment_status_printer, hdl=hdl, args=args)"
            ],
            "execution_count": 4,
            "outputs": []
        },
        {
            "id": "4a2a28b5-7f7c-4d1a-9fc0-9f5df8cb5a1b",
            "cell_type": "code",
            "metadata": {
                "accessType": "ACCESS_TYPE_UNSPECIFIED",
                "actionBashCommand": false,
                "actionCategories": [
                    "CATEGORY_TYPE_CLOUDOPS",
                    "CATEGORY_TYPE_DEVOPS",
                    "CATEGORY_TYPE_SRE",
                    "CATEGORY_TYPE_K8S",
                    "CATEGORY_TYPE_K8S_KUBECTL"
                ],
                "actionIsCheck": false,
                "actionNeedsCredential": true,
                "actionNextHopParameterMapping": {},
                "actionOutputType": "",
                "actionRequiredLinesInCode": [],
                "actionSupportsIteration": true,
                "actionSupportsPoll": true,
                "action_modified": false,
                "action_uuid": "7a54aaf7808d98bce5132bc5b5224a084d63ca31921dc362f5b91fbc581cd0da",
                "checkEnabled": false,
                "continueOnError": false,
                "createTime": "1970-01-01T00:00:00Z",
                "credentialsJson": {},
                "currentVersion": "0.1.0",
                "description": "Kubectl get logs for a given pod",
                "id": 52,
                "index": 52,
                "inputData": [
                    {
                        "k8s_cli_string": {
                            "constant": false,
                            "value": "\"kubectl logs {pod_name} -n {namespace}\""
                        },
                        "namespace": {
                            "constant": false,
                            "value": "namespace"
                        },
                        "pod_name": {
                            "constant": false,
                            "value": "pod"
                        }
                    }
                ],
                "inputschema": [
                    {
                        "properties": {
                            "k8s_cli_string": {
                                "default": "\"kubectl logs {pod_name} -n {namespace}\"",
                                "description": "kubectl get logs for a given pod",
                                "title": "Kubectl Command",
                                "type": "string"
                            },
                            "namespace": {
                                "description": "Namespace",
                                "title": "Namespace",
                                "type": "string"
                            },
                            "pod_name": {
                                "description": "Pod Name",
                                "title": "Pod Name",
                                "type": "string"
                            }
                        },
                        "required": [
                            "namespace",
                            "pod_name"
                        ],
                        "title": "k8s_kubectl_get_logs",
                        "type": "object"
                    }
                ],
                "isUnskript": false,
                "jupyter": {
                    "source_hidden": true
                },
                "legotype": "LEGO_TYPE_K8S",
                "name": "Kubectl get logs",
                "nouns": [],
                "orderProperties": [
                    "k8s_cli_string",
                    "pod_name",
                    "namespace"
                ],
                "output": {
                    "type": ""
                },
                "printOutput": true,
                "tags": [
                    "k8s_kubectl_get_logs"
                ],
                "trusted": true,
                "verbs": [],
                "execution_data": {},
                "execution_count": {}
            },
            "source": [
                "from pprint import pprint",
                "from pydantic import BaseModel, Field",
                "from kubernetes.client.rest import ApiException",
                "",
                "from beartype import beartype",
                "@beartype",
                "def k8s_kubectl_get_logs_printer(data: str):",
                "    if data is None:",
                "        return",
                "",
                "    print(\"Logs:\")",
                "",
                "    pprint(data)",
                "",
                "@beartype",
                "def k8s_kubectl_get_logs(handle, k8s_cli_string: str, pod_name: str, namespace:str) -> str:",
                "    \"\"\"k8s_kubectl_get_logs executes the given kubectl command",
                "",
                "        :type handle: object",
                "        :param handle: Object returned from the Task validate method",
                "",
                "        :type k8s_cli_string: str",
                "        :param k8s_cli_string: kubectl logs {pod_name} -n {namespace}.",
                "",
                "        :type pod_name: str",
                "        :param pod_name: Pod Name.",
                "",
                "        :type namespace: str",
                "        :param namespace: Namespace.",
                "",
                "        :rtype: String, Output of the command in python string format or",
                "        Empty String in case of Error.",
                "    \"\"\"",
                "    k8s_cli_string = k8s_cli_string.format(pod_name=pod_name, namespace=namespace)",
                "    result = handle.run_native_cmd(k8s_cli_string)",
                "    if result is None:",
                "        print(",
                "            f\"Error while executing command ({k8s_cli_string}) (empty response)\")",
                "        return \"\"",
                "",
                "    if result.stderr:",
                "        raise ApiException(f\"Error occurred while executing command {k8s_cli_string} {result.stderr}\")",
                "",
                "    data = result.stdout",
                "    return data",
                "",
                "",
                "task = Task(Workflow())",
                "task.configure(credentialsJson='''{\\\"credential_type\\\": \\\"CONNECTOR_TYPE_K8S\\\"}''')",
                "task.configure(inputParamsJson='''{",
                "    \"k8s_cli_string\": \"\\\\\"kubectl logs {pod_name} -n {namespace}\\\\\"\",",
                "    \"namespace\": \"namespace\",",
                "    \"pod_name\": \"pod\"",
                "    }''')",
                "task.configure(printOutput=True)",
                "(err, hdl, args) = task.validate(vars=vars())",
                "if err is None:",
                "    task.execute(k8s_kubectl_get_logs, lego_printer=k8s_kubectl_get_logs_printer, hdl=hdl, args=args)"
            ],
            "execution_count": 5,
            "outputs": []
        },
        {
            "id": "fc768526-a848-4609-a173-7184706429e6",
            "cell_type": "code",
            "metadata": {
                "accessType": "ACCESS_TYPE_UNSPECIFIED",
                "actionBashCommand": false,
                "actionCategories": [
                    "CATEGORY_TYPE_CLOUDOPS",
                    "CATEGORY_TYPE_DEVOPS",
                    "CATEGORY_TYPE_SRE",
                    "CATEGORY_TYPE_K8S",
                    "CATEGORY_TYPE_K8S_KUBECTL",
                    "CATEGORY_TYPE_K8S_POD"
                ],
                "actionIsCheck": false,
                "actionNeedsCredential": true,
                "actionNextHopParameterMapping": {},
                "actionOutputType": "",
                "actionRequiredLinesInCode": [],
                "actionSupportsIteration": true,
                "actionSupportsPoll": true,
                "action_modified": false,
                "action_uuid": "a303833b7287340b76e41b564a1427c4cd2131035d819c67c56cd1d6aff087c1",
                "checkEnabled": false,
                "continueOnError": false,
                "createTime": "1970-01-01T00:00:00Z",
                "credentialsJson": {},
                "currentVersion": "0.1.0",
                "description": "Kubectl describe a pod",
                "execution_data": {},
                "id": 81,
                "index": 81,
                "inputData": [
                    {
                        "k8s_cli_string": {
                            "constant": false,
                            "value": "\"kubectl describe pod {pod_name} -n {namespace}\""
                        },
                        "namespace": {
                            "constant": false,
                            "value": "namespace"
                        },
                        "pod_name": {
                            "constant": false,
                            "value": "pod"
                        }
                    }
                ],
                "inputschema": [
                    {
                        "properties": {
                            "k8s_cli_string": {
                                "default": "kubectl describe pod {pod_name} -n {namespace}",
                                "description": "kubectl describe a pod",
                                "title": "Kubectl Command",
                                "type": "string"
                            },
                            "namespace": {
                                "description": "Namespace",
                                "title": "Namespace",
                                "type": "string"
                            },
                            "pod_name": {
                                "description": "Pod Name",
                                "title": "Pod Name",
                                "type": "string"
                            }
                        },
                        "required": [
                            "namespace",
                            "pod_name"
                        ],
                        "title": "k8s_kubectl_describe_pod",
                        "type": "object"
                    }
                ],
                "isUnskript": false,
                "jupyter": {
                    "source_hidden": true
                },
                "legotype": "LEGO_TYPE_K8S",
                "name": "Kubectl describe a pod",
                "nouns": [],
                "orderProperties": [
                    "pod_name",
                    "k8s_cli_string",
                    "namespace"
                ],
                "output": {
                    "type": ""
                },
                "printOutput": true,
                "tags": [
                    "k8s_kubectl_describe_pod"
                ],
                "trusted": true,
                "verbs": [],
                "execution_count": {}
            },
            "source": [
                "from pprint import pprint",
                "from pydantic import BaseModel, Field",
                "from kubernetes.client.rest import ApiException",
                "",
                "",
                "from beartype import beartype",
                "@beartype",
                "def k8s_kubectl_describe_pod_printer(data: str):",
                "    if data is None:",
                "        return",
                "    print(\"Pod Details:\")",
                "    pprint(data)",
                "",
                "",
                "@beartype",
                "def k8s_kubectl_describe_pod(handle, pod_name: str, k8s_cli_string: str, namespace: str) -> str:",
                "    \"\"\"k8s_kubectl_describe_pod executes the given kubectl command",
                "",
                "        :type handle: object",
                "        :param handle: Object returned from the Task validate method",
                "",
                "        :type k8s_cli_string: str",
                "        :param k8s_cli_string: kubectl describe pod {pod_name} -n {namespace}.",
                "",
                "        :type node_name: str",
                "        :param node_name: Node Name.",
                "",
                "        :type namespace: str",
                "        :param namespace:Namespace",
                "",
                "        :rtype: String, Output of the command in python string format or",
                "        Empty String in case of Error.",
                "    \"\"\"",
                "    k8s_cli_string = k8s_cli_string.format(",
                "        pod_name=pod_name, namespace=namespace)",
                "    result = handle.run_native_cmd(k8s_cli_string)",
                "    if result.stderr:",
                "        raise ApiException(",
                "            f\"Error occurred while executing command {result.stderr}\")",
                "",
                "    data = result.stdout",
                "    return data",
                "",
                "",
                "task = Task(Workflow())",
                "task.configure(credentialsJson='''{\\\"credential_type\\\": \\\"CONNECTOR_TYPE_K8S\\\"}''')",
                "task.configure(inputParamsJson='''{",
                "    \"k8s_cli_string\": \"\\\\\"kubectl describe pod {pod_name} -n {namespace}\\\\\"\",",
                "    \"namespace\": \"namespace\",",
                "    \"pod_name\": \"pod\"",
                "    }''')",
                "",
                "task.configure(printOutput=True)",
                "(err, hdl, args) = task.validate(vars=vars())",
                "if err is None:",
                "    task.execute(k8s_kubectl_describe_pod, lego_printer=k8s_kubectl_describe_pod_printer, hdl=hdl, args=args)"
            ],
            "execution_count": 6,
            "outputs": []
        },
        {
            "id": "3c37fa8b-4f6f-4a51-84ae-0829056c1d4a",
            "cell_type": "code",
            "metadata": {
                "accessType": "ACCESS_TYPE_UNSPECIFIED",
                "actionBashCommand": false,
                "actionCategories": [
                    "CATEGORY_TYPE_CLOUDOPS",
                    "CATEGORY_TYPE_DEVOPS",
                    "CATEGORY_TYPE_SRE",
                    "CATEGORY_TYPE_K8S",
                    "CATEGORY_TYPE_K8S_KUBECTL"
                ],
                "actionIsCheck": false,
                "actionNeedsCredential": true,
                "actionNextHopParameterMapping": {},
                "actionOutputType": "",
                "actionRequiredLinesInCode": [],
                "actionSupportsIteration": true,
                "actionSupportsPoll": true,
                "action_modified": false,
                "action_uuid": "8cd969c4db1d03d54d258e2c119e90aa914888abb4d5376b775ade8233bf3ae7",
                "checkEnabled": false,
                "continueOnError": false,
                "createTime": "1970-01-01T00:00:00Z",
                "credentialsJson": {},
                "currentVersion": "0.1.0",
                "description": "Execute kubectl command.",
                "execution_data": {},
                "id": 76,
                "index": 76,
                "inputData": [
                    {
                        "kubectl_command": {
                            "constant": false,
                            "value": "\"kubectl get pods {} -n {}\".format(pod, namespace)"
                        }
                    }
                ],
                "inputschema": [
                    {
                        "properties": {
                            "kubectl_command": {
                                "description": "kubectl command eg \"kubectl get pods --all-namespaces\"",
                                "title": "Kubectl Command",
                                "type": "string"
                            }
                        },
                        "required": [
                            "kubectl_command"
                        ],
                        "title": "k8s_kubectl_command",
                        "type": "object"
                    }
                ],
                "isUnskript": false,
                "jupyter": {
                    "source_hidden": true
                },
                "legotype": "LEGO_TYPE_K8S",
                "name": "Kubectl command ->  kubectl get pod {pod} -n {namespace}",
                "nouns": [],
                "orderProperties": [
                    "kubectl_command"
                ],
                "output": {
                    "type": ""
                },
                "printOutput": true,
                "tags": [
                    "k8s_kubectl_command"
                ],
                "title": "Kubectl command ->  kubectl get pod {pod} -n {namespace}",
                "trusted": true,
                "verbs": [],
                "execution_count": {}
            },
            "source": [
                "#",
                "# Copyright (c) 2022 unSkript.com",
                "# All rights reserved.",
                "#",
                "",
                "from pydantic import BaseModel, Field",
                "from kubernetes.client.rest import ApiException",
                "",
                "",
                "from beartype import beartype",
                "@beartype",
                "def k8s_kubectl_command_printer(output):",
                "    if output is None:",
                "        return",
                "    print(output)",
                "",
                "",
                "@beartype",
                "def k8s_kubectl_command(handle, kubectl_command: str) -> str:",
                "    \"\"\"k8s_kubectl_command executes the given kubectl command on the pod",
                "",
                "        :type handle: object",
                "        :param handle: Object returned from the Task validate method",
                "",
                "        :type kubectl_command: str",
                "        :param kubectl_command: The Actual kubectl command, like kubectl get ns, etc..",
                "",
                "        :rtype: String, Output of the command in python string format or Empty String",
                "        in case of Error.",
                "    \"\"\"",
                "    if handle.client_side_validation is not True:",
                "        print(f\"K8S Connector is invalid: {handle}\")",
                "        return str()",
                "",
                "    k8s_cli_string = kubectl_command.format()",
                "    result = handle.run_native_cmd(k8s_cli_string)",
                "",
                "    if result is None:",
                "        print(",
                "            f\"Error while executing command ({k8s_cli_string}) (empty response)\")",
                "        return \"\"",
                "",
                "    if result.stderr:",
                "        raise ApiException(f\"Error occurred while executing command {k8s_cli_string} {result.stderr}\")",
                "",
                "    return result.stdout",
                "",
                "",
                "task = Task(Workflow())",
                "task.configure(credentialsJson='''{\\\"credential_type\\\": \\\"CONNECTOR_TYPE_K8S\\\"}''')",
                "task.configure(inputParamsJson='''{",
                "    \"kubectl_command\": \"\\\\\"kubectl get pods {} -n {}\\\\\".format(pod, namespace)\"",
                "    }''')",
                "",
                "task.configure(printOutput=True)",
                "(err, hdl, args) = task.validate(vars=vars())",
                "if err is None:",
                "    task.execute(k8s_kubectl_command, lego_printer=k8s_kubectl_command_printer, hdl=hdl, args=args)"
            ],
            "execution_count": 7,
            "outputs": []
        },
        {
            "id": "a9291bbd-7dca-44f1-a8e8-1133d24ed8be",
            "cell_type": "code",
            "metadata": {
                "accessType": "ACCESS_TYPE_UNSPECIFIED",
                "actionBashCommand": false,
                "actionCategories": [
                    "CATEGORY_TYPE_CLOUDOPS",
                    "CATEGORY_TYPE_DEVOPS",
                    "CATEGORY_TYPE_SRE",
                    "CATEGORY_TYPE_K8S",
                    "CATEGORY_TYPE_K8S_KUBECTL",
                    "CATEGORY_TYPE_K8S_POD"
                ],
                "actionIsCheck": false,
                "actionNeedsCredential": true,
                "actionNextHopParameterMapping": {},
                "actionOutputType": "",
                "actionRequiredLinesInCode": [],
                "actionSupportsIteration": true,
                "actionSupportsPoll": true,
                "action_modified": false,
                "action_uuid": "dbc4cc0c949d182204e79d2208aaa1df5a7928b387741d435b4a1605206309c7",
                "checkEnabled": false,
                "continueOnError": false,
                "createTime": "1970-01-01T00:00:00Z",
                "credentialsJson": {},
                "currentVersion": "0.1.0",
                "description": "Kubectl show metrics for a given pod",
                "id": 44,
                "index": 44,
                "inputData": [
                    {
                        "k8s_cli_string": {
                            "constant": false,
                            "value": "\"kubectl top pod {pod_name} -n {namespace}\""
                        },
                        "namespace": {
                            "constant": false,
                            "value": "namespace"
                        },
                        "pod_name": {
                            "constant": false,
                            "value": "pod"
                        }
                    }
                ],
                "inputschema": [
                    {
                        "properties": {
                            "k8s_cli_string": {
                                "default": "kubectl top pod {pod_name} -n {namespace}",
                                "description": "kubectl show metrics for a given pod",
                                "title": "Kubectl Command",
                                "type": "string"
                            },
                            "namespace": {
                                "description": "Namespace",
                                "title": "Namespace",
                                "type": "string"
                            },
                            "pod_name": {
                                "description": "Pod Name",
                                "title": "Pod Name",
                                "type": "string"
                            }
                        },
                        "required": [
                            "namespace",
                            "pod_name"
                        ],
                        "title": "k8s_kubectl_show_metrics_pod",
                        "type": "object"
                    }
                ],
                "isUnskript": false,
                "jupyter": {
                    "source_hidden": true
                },
                "legotype": "LEGO_TYPE_K8S",
                "name": "Kubectl show metrics -> kubectl top pods",
                "nouns": [],
                "orderProperties": [
                    "k8s_cli_string",
                    "pod_name",
                    "namespace"
                ],
                "output": {
                    "type": ""
                },
                "printOutput": true,
                "tags": [
                    "k8s_kubectl_show_metrics_pod"
                ],
                "title": "Kubectl show metrics -> kubectl top pods",
                "verbs": [],
                "execution_data": {},
                "execution_count": {}
            },
            "source": [
                "from pydantic import BaseModel, Field",
                "from kubernetes.client.rest import ApiException",
                "",
                "",
                "from beartype import beartype",
                "@beartype",
                "def k8s_kubectl_show_metrics_pod_printer(data: str):",
                "    if data is None:",
                "        print(\"Error while executing command\")",
                "        return",
                "",
                "    print (data)",
                "",
                "@beartype",
                "def k8s_kubectl_show_metrics_pod(",
                "        handle,",
                "        k8s_cli_string: str,",
                "        pod_name:str,",
                "        namespace:str",
                "        ) -> str:",
                "    \"\"\"k8s_kubectl_show_metrics_node executes the given kubectl command",
                "",
                "        :type handle: object",
                "        :param handle: Object returned from the Task validate method",
                "",
                "        :type k8s_cli_string: str",
                "        :param k8s_cli_string: kubectl top pod {pod_name} -n {namespace}.",
                "",
                "        :type pod_name: str",
                "        :param pod_name: Pod Name.",
                "",
                "        :type namespace: str",
                "        :param namespace: Namespace.",
                "",
                "        :rtype: String, Output of the command in python string format or",
                "        Empty String in case of Error.",
                "    \"\"\"",
                "    k8s_cli_string = k8s_cli_string.format(pod_name=pod_name, namespace=namespace)",
                "    result = handle.run_native_cmd(k8s_cli_string)",
                "    if result is None:",
                "        print(",
                "            f\"Error while executing command ({k8s_cli_string}) (empty response)\")",
                "        return \"\"",
                "",
                "    if result.stderr:",
                "        raise ApiException(",
                "            f\"Error occurred while executing command {k8s_cli_string} {result.stderr}\")",
                "",
                "    return result.stdout",
                "",
                "",
                "task = Task(Workflow())",
                "task.configure(credentialsJson='''{\\\"credential_type\\\": \\\"CONNECTOR_TYPE_K8S\\\"}''')",
                "task.configure(inputParamsJson='''{",
                "    \"k8s_cli_string\": \"\\\\\"kubectl top pod {pod_name} -n {namespace}\\\\\"\",",
                "    \"namespace\": \"namespace\",",
                "    \"pod_name\": \"pod\"",
                "    }''')",
                "task.configure(printOutput=True)",
                "(err, hdl, args) = task.validate(vars=vars())",
                "if err is None:",
                "    task.execute(k8s_kubectl_show_metrics_pod, lego_printer=k8s_kubectl_show_metrics_pod_printer, hdl=hdl, args=args)"
            ],
            "execution_count": 9,
            "outputs": []
        },
        {
            "id": "1f8e49cf-9b9e-4b05-a70a-b3e208638ff4",
            "cell_type": "code",
            "metadata": {
                "accessType": "ACCESS_TYPE_UNSPECIFIED",
                "actionBashCommand": false,
                "actionCategories": [
                    "CATEGORY_TYPE_CLOUDOPS",
                    "CATEGORY_TYPE_DEVOPS",
                    "CATEGORY_TYPE_SRE",
                    "CATEGORY_TYPE_K8S",
                    "CATEGORY_TYPE_K8S_KUBECTL"
                ],
                "actionIsCheck": false,
                "actionNeedsCredential": true,
                "actionNextHopParameterMapping": {},
                "actionOutputType": "",
                "actionRequiredLinesInCode": [],
                "actionSupportsIteration": true,
                "actionSupportsPoll": true,
                "action_modified": false,
                "action_uuid": "8cd969c4db1d03d54d258e2c119e90aa914888abb4d5376b775ade8233bf3ae7",
                "checkEnabled": false,
                "continueOnError": false,
                "createTime": "1970-01-01T00:00:00Z",
                "credentialsJson": {},
                "currentVersion": "0.1.0",
                "description": "Execute kubectl command.",
                "id": 76,
                "index": 76,
                "inputData": [
                    {
                        "kubectl_command": {
                            "constant": false,
                            "value": "f\"kubectl get pods -l app={app_label} -n {namespace}\""
                        }
                    }
                ],
                "inputschema": [
                    {
                        "properties": {
                            "kubectl_command": {
                                "description": "kubectl command eg \"kubectl get pods --all-namespaces\"",
                                "title": "Kubectl Command",
                                "type": "string"
                            }
                        },
                        "required": [
                            "kubectl_command"
                        ],
                        "title": "k8s_kubectl_command",
                        "type": "object"
                    }
                ],
                "isUnskript": false,
                "jupyter": {
                    "source_hidden": true
                },
                "legotype": "LEGO_TYPE_K8S",
                "name": "Kubectl command -> kubectl get pods -l app={app_label} -n {namespace}",
                "nouns": [],
                "orderProperties": [
                    "kubectl_command"
                ],
                "output": {
                    "type": ""
                },
                "printOutput": true,
                "tags": [
                    "k8s_kubectl_command"
                ],
                "title": "Kubectl command -> kubectl get pods -l app={app_label} -n {namespace}",
                "verbs": [],
                "execution_data": {},
                "execution_count": {}
            },
            "source": [
                "#",
                "# Copyright (c) 2022 unSkript.com",
                "# All rights reserved.",
                "#",
                "",
                "from pydantic import BaseModel, Field",
                "from kubernetes.client.rest import ApiException",
                "",
                "",
                "from beartype import beartype",
                "@beartype",
                "def k8s_kubectl_command_printer(output):",
                "    if output is None:",
                "        return",
                "    print(output)",
                "",
                "",
                "@beartype",
                "def k8s_kubectl_command(handle, kubectl_command: str) -> str:",
                "    \"\"\"k8s_kubectl_command executes the given kubectl command on the pod",
                "",
                "        :type handle: object",
                "        :param handle: Object returned from the Task validate method",
                "",
                "        :type kubectl_command: str",
                "        :param kubectl_command: The Actual kubectl command, like kubectl get ns, etc..",
                "",
                "        :rtype: String, Output of the command in python string format or Empty String",
                "        in case of Error.",
                "    \"\"\"",
                "    if handle.client_side_validation is not True:",
                "        print(f\"K8S Connector is invalid: {handle}\")",
                "        return str()",
                "",
                "    result = handle.run_native_cmd(kubectl_command)",
                "",
                "    if result is None:",
                "        print(",
                "            f\"Error while executing command ({kubectl_command}) (empty response)\")",
                "        return \"\"",
                "",
                "    if result.stderr:",
                "        raise ApiException(f\"Error occurred while executing command {kubectl_command} {result.stderr}\")",
                "",
                "    return result.stdout",
                "",
                "",
                "task = Task(Workflow())",
                "task.configure(credentialsJson='''{\\\"credential_type\\\": \\\"CONNECTOR_TYPE_K8S\\\"}''')",
                "task.configure(inputParamsJson='''{",
                "    \"kubectl_command\": \"f\\\\\"kubectl get pods -l app={app_label} -n {namespace}\\\\\"\"",
                "    }''')",
                "",
                "task.configure(printOutput=True)",
                "(err, hdl, args) = task.validate(vars=vars())",
                "if err is None:",
                "    task.execute(k8s_kubectl_command, lego_printer=k8s_kubectl_command_printer, hdl=hdl, args=args)"
            ],
            "execution_count": 10,
            "outputs": []
        },
        {
            "id": "1276aa13-132a-43f9-ade3-0932803fd703",
            "cell_type": "code",
            "metadata": {
                "accessType": "ACCESS_TYPE_UNSPECIFIED",
                "actionBashCommand": false,
                "actionCategories": [
                    "CATEGORY_TYPE_CLOUDOPS",
                    "CATEGORY_TYPE_DEVOPS",
                    "CATEGORY_TYPE_SRE",
                    "CATEGORY_TYPE_K8S",
                    "CATEGORY_TYPE_K8S_KUBECTL"
                ],
                "actionIsCheck": false,
                "actionNeedsCredential": true,
                "actionNextHopParameterMapping": {},
                "actionOutputType": "",
                "actionRequiredLinesInCode": [],
                "actionSupportsIteration": true,
                "actionSupportsPoll": true,
                "action_modified": false,
                "action_uuid": "8cd969c4db1d03d54d258e2c119e90aa914888abb4d5376b775ade8233bf3ae7",
                "checkEnabled": false,
                "continueOnError": false,
                "createTime": "1970-01-01T00:00:00Z",
                "credentialsJson": {},
                "currentVersion": "0.1.0",
                "description": "Execute kubectl command.",
                "execution_data": {},
                "id": 76,
                "index": 76,
                "inputData": [
                    {
                        "kubectl_command": {
                            "constant": false,
                            "value": "f\"kubectl top pods -l app={app_label} -n {namespace}\""
                        }
                    }
                ],
                "inputschema": [
                    {
                        "properties": {
                            "kubectl_command": {
                                "description": "kubectl command eg \"kubectl get pods --all-namespaces\"",
                                "title": "Kubectl Command",
                                "type": "string"
                            }
                        },
                        "required": [
                            "kubectl_command"
                        ],
                        "title": "k8s_kubectl_command",
                        "type": "object"
                    }
                ],
                "isUnskript": false,
                "jupyter": {
                    "source_hidden": true
                },
                "legotype": "LEGO_TYPE_K8S",
                "name": "Kubectl command -> kubectl top pods -l app={app_label} -n {namespace}",
                "nouns": [],
                "orderProperties": [
                    "kubectl_command"
                ],
                "output": {
                    "type": ""
                },
                "printOutput": true,
                "tags": [
                    "k8s_kubectl_command"
                ],
                "title": "Kubectl command -> kubectl top pods -l app={app_label} -n {namespace}",
                "verbs": [],
                "execution_count": {}
            },
            "source": [
                "#",
                "# Copyright (c) 2022 unSkript.com",
                "# All rights reserved.",
                "#",
                "",
                "from pydantic import BaseModel, Field",
                "from kubernetes.client.rest import ApiException",
                "",
                "",
                "from beartype import beartype",
                "@beartype",
                "def k8s_kubectl_command_printer(output):",
                "    if output is None:",
                "        return",
                "    print(output)",
                "",
                "",
                "@beartype",
                "def k8s_kubectl_command(handle, kubectl_command: str) -> str:",
                "    \"\"\"k8s_kubectl_command executes the given kubectl command on the pod",
                "",
                "        :type handle: object",
                "        :param handle: Object returned from the Task validate method",
                "",
                "        :type kubectl_command: str",
                "        :param kubectl_command: The Actual kubectl command, like kubectl get ns, etc..",
                "",
                "        :rtype: String, Output of the command in python string format or Empty String",
                "        in case of Error.",
                "    \"\"\"",
                "    if handle.client_side_validation is not True:",
                "        print(f\"K8S Connector is invalid: {handle}\")",
                "        return str()",
                "",
                "    result = handle.run_native_cmd(kubectl_command)",
                "",
                "    if result is None:",
                "        print(",
                "            f\"Error while executing command ({kubectl_command}) (empty response)\")",
                "        return \"\"",
                "",
                "    if result.stderr:",
                "        raise ApiException(f\"Error occurred while executing command {kubectl_command} {result.stderr}\")",
                "",
                "    return result.stdout",
                "",
                "",
                "task = Task(Workflow())",
                "task.configure(credentialsJson='''{\\\"credential_type\\\": \\\"CONNECTOR_TYPE_K8S\\\"}''')",
                "task.configure(inputParamsJson='''{",
                "    \"kubectl_command\": \"f\\\\\"kubectl top pods -l app={app_label} -n {namespace}\\\\\"\"",
                "    }''')",
                "",
                "task.configure(printOutput=True)",
                "(err, hdl, args) = task.validate(vars=vars())",
                "if err is None:",
                "    task.execute(k8s_kubectl_command, lego_printer=k8s_kubectl_command_printer, hdl=hdl, args=args)"
            ],
            "execution_count": 11,
            "outputs": []
        },
        {
            "id": "0f214340-528a-4b8c-8409-58788587a9b6",
            "cell_type": "code",
            "metadata": {
                "accessType": "ACCESS_TYPE_UNSPECIFIED",
                "actionBashCommand": false,
                "actionCategories": [
                    "CATEGORY_TYPE_CLOUDOPS",
                    "CATEGORY_TYPE_DEVOPS",
                    "CATEGORY_TYPE_SRE",
                    "CATEGORY_TYPE_K8S",
                    "CATEGORY_TYPE_K8S_KUBECTL"
                ],
                "actionIsCheck": false,
                "actionNeedsCredential": true,
                "actionNextHopParameterMapping": {},
                "actionOutputType": "",
                "actionRequiredLinesInCode": [],
                "actionSupportsIteration": true,
                "actionSupportsPoll": true,
                "action_modified": false,
                "action_uuid": "8cd969c4db1d03d54d258e2c119e90aa914888abb4d5376b775ade8233bf3ae7",
                "checkEnabled": false,
                "continueOnError": false,
                "createTime": "1970-01-01T00:00:00Z",
                "credentialsJson": {},
                "currentVersion": "0.1.0",
                "description": "Execute kubectl command.",
                "execution_data": {},
                "id": 76,
                "index": 76,
                "inputData": [
                    {
                        "kubectl_command": {
                            "constant": false,
                            "value": "f\"kubectl logs -l app={app_label} -c {container} -n {namespace}\""
                        }
                    }
                ],
                "inputschema": [
                    {
                        "properties": {
                            "kubectl_command": {
                                "description": "kubectl command eg \"kubectl get pods --all-namespaces\"",
                                "title": "Kubectl Command",
                                "type": "string"
                            }
                        },
                        "required": [
                            "kubectl_command"
                        ],
                        "title": "k8s_kubectl_command",
                        "type": "object"
                    }
                ],
                "isUnskript": false,
                "jupyter": {
                    "source_hidden": true
                },
                "legotype": "LEGO_TYPE_K8S",
                "name": "Kubectl command -> kubectl logs -l app={app_label} -c {container} -n {namespace}",
                "nouns": [],
                "orderProperties": [
                    "kubectl_command"
                ],
                "output": {
                    "type": ""
                },
                "printOutput": true,
                "tags": [
                    "k8s_kubectl_command"
                ],
                "title": "Kubectl command -> kubectl logs -l app={app_label} -c {container} -n {namespace}",
                "verbs": [],
                "execution_count": {}
            },
            "source": [
                "#",
                "# Copyright (c) 2022 unSkript.com",
                "# All rights reserved.",
                "#",
                "",
                "from pydantic import BaseModel, Field",
                "from kubernetes.client.rest import ApiException",
                "",
                "",
                "from beartype import beartype",
                "@beartype",
                "def k8s_kubectl_command_printer(output):",
                "    if output is None:",
                "        return",
                "    print(output)",
                "",
                "",
                "@beartype",
                "def k8s_kubectl_command(handle, kubectl_command: str) -> str:",
                "    \"\"\"k8s_kubectl_command executes the given kubectl command on the pod",
                "",
                "        :type handle: object",
                "        :param handle: Object returned from the Task validate method",
                "",
                "        :type kubectl_command: str",
                "        :param kubectl_command: The Actual kubectl command, like kubectl get ns, etc..",
                "",
                "        :rtype: String, Output of the command in python string format or Empty String",
                "        in case of Error.",
                "    \"\"\"",
                "    if handle.client_side_validation is not True:",
                "        print(f\"K8S Connector is invalid: {handle}\")",
                "        return str()",
                "",
                "    result = handle.run_native_cmd(kubectl_command)",
                "",
                "    if result is None:",
                "        print(",
                "            f\"Error while executing command ({kubectl_command}) (empty response)\")",
                "        return \"\"",
                "",
                "    if result.stderr:",
                "        raise ApiException(f\"Error occurred while executing command {kubectl_command} {result.stderr}\")",
                "",
                "    return result.stdout",
                "",
                "",
                "task = Task(Workflow())",
                "task.configure(credentialsJson='''{\\\"credential_type\\\": \\\"CONNECTOR_TYPE_K8S\\\"}''')",
                "task.configure(inputParamsJson='''{",
                "    \"kubectl_command\": \"f\\\\\"kubectl logs -l app={app_label} -c {container} -n {namespace}\\\\\"\"",
                "    }''')",
                "",
                "task.configure(printOutput=True)",
                "(err, hdl, args) = task.validate(vars=vars())",
                "if err is None:",
                "    task.execute(k8s_kubectl_command, lego_printer=k8s_kubectl_command_printer, hdl=hdl, args=args)"
            ],
            "execution_count": 12,
            "outputs": []
        },
        {
            "id": "62ca2564-e1f0-4d91-8e87-ba941a354efa",
            "cell_type": "code",
            "metadata": {
                "accessType": "ACCESS_TYPE_UNSPECIFIED",
                "actionBashCommand": false,
                "actionCategories": [
                    "CATEGORY_TYPE_CLOUDOPS",
                    "CATEGORY_TYPE_DEVOPS",
                    "CATEGORY_TYPE_SRE",
                    "CATEGORY_TYPE_K8S",
                    "CATEGORY_TYPE_K8S_KUBECTL"
                ],
                "actionIsCheck": false,
                "actionNeedsCredential": true,
                "actionNextHopParameterMapping": {},
                "actionOutputType": "",
                "actionRequiredLinesInCode": [],
                "actionSupportsIteration": true,
                "actionSupportsPoll": true,
                "action_modified": false,
                "action_uuid": "8cd969c4db1d03d54d258e2c119e90aa914888abb4d5376b775ade8233bf3ae7",
                "checkEnabled": false,
                "continueOnError": false,
                "createTime": "1970-01-01T00:00:00Z",
                "credentialsJson": {},
                "currentVersion": "0.1.0",
                "description": "Execute kubectl command.",
                "execution_data": {},
                "id": 76,
                "index": 76,
                "inputData": [
                    {
                        "kubectl_command": {
                            "constant": false,
                            "value": "f\"kubectl describe pods -l app={app_label} -n {namespace}\""
                        }
                    }
                ],
                "inputschema": [
                    {
                        "properties": {
                            "kubectl_command": {
                                "description": "kubectl command eg \"kubectl get pods --all-namespaces\"",
                                "title": "Kubectl Command",
                                "type": "string"
                            }
                        },
                        "required": [
                            "kubectl_command"
                        ],
                        "title": "k8s_kubectl_command",
                        "type": "object"
                    }
                ],
                "isUnskript": false,
                "jupyter": {
                    "source_hidden": true
                },
                "legotype": "LEGO_TYPE_K8S",
                "name": "Kubectl command -> kubectl describe pods -l app={app_label} -n {namespace}",
                "nouns": [],
                "orderProperties": [
                    "kubectl_command"
                ],
                "output": {
                    "type": ""
                },
                "printOutput": true,
                "tags": [
                    "k8s_kubectl_command"
                ],
                "title": "Kubectl command -> kubectl describe pods -l app={app_label} -n {namespace}",
                "verbs": [],
                "execution_count": {}
            },
            "source": [
                "#",
                "# Copyright (c) 2022 unSkript.com",
                "# All rights reserved.",
                "#",
                "",
                "from pydantic import BaseModel, Field",
                "from kubernetes.client.rest import ApiException",
                "",
                "",
                "from beartype import beartype",
                "@beartype",
                "def k8s_kubectl_command_printer(output):",
                "    if output is None:",
                "        return",
                "    print(output)",
                "",
                "",
                "@beartype",
                "def k8s_kubectl_command(handle, kubectl_command: str) -> str:",
                "    \"\"\"k8s_kubectl_command executes the given kubectl command on the pod",
                "",
                "        :type handle: object",
                "        :param handle: Object returned from the Task validate method",
                "",
                "        :type kubectl_command: str",
                "        :param kubectl_command: The Actual kubectl command, like kubectl get ns, etc..",
                "",
                "        :rtype: String, Output of the command in python string format or Empty String",
                "        in case of Error.",
                "    \"\"\"",
                "    if handle.client_side_validation is not True:",
                "        print(f\"K8S Connector is invalid: {handle}\")",
                "        return str()",
                "",
                "    result = handle.run_native_cmd(kubectl_command)",
                "",
                "    if result is None:",
                "        print(",
                "            f\"Error while executing command ({kubectl_command}) (empty response)\")",
                "        return \"\"",
                "",
                "    if result.stderr:",
                "        raise ApiException(f\"Error occurred while executing command {kubectl_command} {result.stderr}\")",
                "",
                "    return result.stdout",
                "",
                "",
                "task = Task(Workflow())",
                "task.configure(credentialsJson='''{\\\"credential_type\\\": \\\"CONNECTOR_TYPE_K8S\\\"}''')",
                "task.configure(inputParamsJson='''{",
                "    \"kubectl_command\": \"f\\\\\"kubectl describe pods -l app={app_label} -n {namespace}\\\\\"\"",
                "    }''')",
                "",
                "task.configure(printOutput=True)",
                "(err, hdl, args) = task.validate(vars=vars())",
                "if err is None:",
                "    task.execute(k8s_kubectl_command, lego_printer=k8s_kubectl_command_printer, hdl=hdl, args=args)"
            ],
            "execution_count": 13,
            "outputs": []
        },
        {
            "id": "f29f86ae-8e54-4bd6-8cd8-c2502a064b67",
            "cell_type": "code",
            "metadata": {
                "accessType": "ACCESS_TYPE_UNSPECIFIED",
                "actionBashCommand": false,
                "actionCategories": [
                    "CATEGORY_TYPE_CLOUDOPS",
                    "CATEGORY_TYPE_DEVOPS",
                    "CATEGORY_TYPE_SRE",
                    "CATEGORY_TYPE_K8S",
                    "CATEGORY_TYPE_K8S_KUBECTL"
                ],
                "actionIsCheck": false,
                "actionNeedsCredential": true,
                "actionNextHopParameterMapping": {},
                "actionOutputType": "",
                "actionRequiredLinesInCode": [],
                "actionSupportsIteration": true,
                "actionSupportsPoll": true,
                "action_modified": false,
                "action_uuid": "8cd969c4db1d03d54d258e2c119e90aa914888abb4d5376b775ade8233bf3ae7",
                "checkEnabled": false,
                "continueOnError": false,
                "createTime": "1970-01-01T00:00:00Z",
                "credentialsJson": {},
                "currentVersion": "0.1.0",
                "description": "Execute kubectl command.",
                "id": 76,
                "index": 76,
                "inputData": [
                    {
                        "kubectl_command": {
                            "constant": false,
                            "value": "f\"kubectl get events --field-selector involvedObject.name={pod} -n {namespace}\""
                        }
                    }
                ],
                "inputschema": [
                    {
                        "properties": {
                            "kubectl_command": {
                                "description": "kubectl command eg \"kubectl get pods --all-namespaces\"",
                                "title": "Kubectl Command",
                                "type": "string"
                            }
                        },
                        "required": [
                            "kubectl_command"
                        ],
                        "title": "k8s_kubectl_command",
                        "type": "object"
                    }
                ],
                "isUnskript": false,
                "jupyter": {
                    "source_hidden": true
                },
                "legotype": "LEGO_TYPE_K8S",
                "name": "Kubectl command -> kubectl get events --field-selector involvedObject.name={pod} -n {namespace}",
                "nouns": [],
                "orderProperties": [
                    "kubectl_command"
                ],
                "output": {
                    "type": ""
                },
                "printOutput": true,
                "tags": [
                    "k8s_kubectl_command"
                ],
                "title": "Kubectl command -> kubectl get events --field-selector involvedObject.name={pod} -n {namespace}",
                "verbs": [],
                "execution_data": {},
                "execution_count": {}
            },
            "source": [
                "#",
                "# Copyright (c) 2022 unSkript.com",
                "# All rights reserved.",
                "#",
                "",
                "from pydantic import BaseModel, Field",
                "from kubernetes.client.rest import ApiException",
                "",
                "",
                "from beartype import beartype",
                "@beartype",
                "def k8s_kubectl_command_printer(output):",
                "    if output is None:",
                "        return",
                "    print(output)",
                "",
                "",
                "@beartype",
                "def k8s_kubectl_command(handle, kubectl_command: str) -> str:",
                "    \"\"\"k8s_kubectl_command executes the given kubectl command on the pod",
                "",
                "        :type handle: object",
                "        :param handle: Object returned from the Task validate method",
                "",
                "        :type kubectl_command: str",
                "        :param kubectl_command: The Actual kubectl command, like kubectl get ns, etc..",
                "",
                "        :rtype: String, Output of the command in python string format or Empty String",
                "        in case of Error.",
                "    \"\"\"",
                "    if handle.client_side_validation is not True:",
                "        print(f\"K8S Connector is invalid: {handle}\")",
                "        return str()",
                "",
                "    result = handle.run_native_cmd(kubectl_command)",
                "",
                "    if result is None:",
                "        print(",
                "            f\"Error while executing command ({kubectl_command}) (empty response)\")",
                "        return \"\"",
                "",
                "    if result.stderr:",
                "        raise ApiException(f\"Error occurred while executing command {kubectl_command} {result.stderr}\")",
                "",
                "    return result.stdout",
                "",
                "",
                "task = Task(Workflow())",
                "task.configure(credentialsJson='''{\\\"credential_type\\\": \\\"CONNECTOR_TYPE_K8S\\\"}''')",
                "task.configure(inputParamsJson='''{",
                "    \"kubectl_command\": \"f\\\\\"kubectl get events --field-selector involvedObject.name={pod} -n {namespace}\\\\\"\"",
                "    }''')",
                "",
                "task.configure(printOutput=True)",
                "(err, hdl, args) = task.validate(vars=vars())",
                "if err is None:",
                "    task.execute(k8s_kubectl_command, lego_printer=k8s_kubectl_command_printer, hdl=hdl, args=args)"
            ],
            "execution_count": 14,
            "outputs": []
        },
        {
            "id": "13a530cf-ecf3-4d71-b516-4f78b67a8986",
            "cell_type": "markdown",
            "metadata": {
                "jupyter": {
                    "source_hidden": false
                },
                "name": "Fix",
                "orderProperties": [],
                "tags": [],
                "title": "Fix"
            },
            "source": "<p>Increase resource allocation:</p>\n<p>If the root cause is identified as insufficient resources, increase the allocation of CPU, memory, or other resources to the Kubernetes deployment.</p>\n<p>&nbsp;</p>",
            "execution_count": null,
            "outputs": []
        },
        {
            "id": "7c6f855a-ac70-41d0-bf70-2936a3e00ce3",
            "cell_type": "code",
            "metadata": {
                "accessType": "ACCESS_TYPE_UNSPECIFIED",
                "actionBashCommand": false,
                "actionCategories": [
                    "CATEGORY_TYPE_CLOUDOPS",
                    "CATEGORY_TYPE_DEVOPS",
                    "CATEGORY_TYPE_SRE",
                    "CATEGORY_TYPE_K8S",
                    "CATEGORY_TYPE_K8S_KUBECTL"
                ],
                "actionIsCheck": false,
                "actionNeedsCredential": true,
                "actionNextHopParameterMapping": {},
                "actionOutputType": "",
                "actionRequiredLinesInCode": [],
                "actionSupportsIteration": true,
                "actionSupportsPoll": true,
                "action_modified": true,
                "action_uuid": "8cd969c4db1d03d54d258e2c119e90aa914888abb4d5376b775ade8233bf3ae7",
                "checkEnabled": false,
                "continueOnError": false,
                "createTime": "1970-01-01T00:00:00Z",
                "credentialsJson": {},
                "currentVersion": "0.1.0",
                "description": "Execute kubectl command.",
                "execution_data": {},
                "id": 76,
                "index": 76,
                "inputData": [
                    {
                        "deployment": {
                            "constant": false,
                            "value": "deployment"
                        },
                        "kubectl_command": {
                            "constant": false,
                            "value": "\"kubectl set resources deployment {deployment} -n {namespace} --limits=cpu={new_cpu_limit},memory={new_memory_limit}\""
                        },
                        "namespace": {
                            "constant": false,
                            "value": "namespace"
                        },
                        "new_cpu_limit": {
                            "constant": false,
                            "value": "12"
                        },
                        "new_memory_limit": {
                            "constant": false,
                            "value": "12"
                        }
                    }
                ],
                "inputschema": [
                    {
                        "properties": {
                            "deployment": {
                                "default": "",
                                "description": "Deployment Name",
                                "title": "deployment",
                                "type": "string"
                            },
                            "kubectl_command": {
                                "default": "",
                                "description": "kubectl command eg \"kubectl get pods --all-namespaces\"",
                                "title": "Kubectl Command",
                                "type": "string"
                            },
                            "namespace": {
                                "default": "",
                                "description": "Namespace",
                                "title": "namespace",
                                "type": "string"
                            },
                            "new_cpu_limit": {
                                "default": "",
                                "description": "New CPU Limit",
                                "title": "new_cpu_limit",
                                "type": "string"
                            },
                            "new_memory_limit": {
                                "default": "",
                                "description": "New Memory Limit",
                                "title": "new_memory_limit",
                                "type": "string"
                            }
                        },
                        "required": [
                            "kubectl_command",
                            "new_cpu_limit",
                            "new_memory_limit",
                            "deployment",
                            "namespace"
                        ],
                        "title": "k8s_kubectl_command",
                        "type": "object"
                    }
                ],
                "isUnskript": false,
                "jupyter": {
                    "source_hidden": true
                },
                "legotype": "LEGO_TYPE_K8S",
                "name": "Kubectl command -> Increase CPU/Memory Limits",
                "nouns": [],
                "orderProperties": [
                    "kubectl_command",
                    "new_cpu_limit",
                    "new_memory_limit",
                    "deployment",
                    "namespace"
                ],
                "output": {
                    "type": ""
                },
                "printOutput": true,
                "tags": [
                    "k8s_kubectl_command"
                ],
                "title": "Kubectl command -> Increase CPU/Memory Limits",
                "verbs": [],
                "execution_count": {}
            },
            "source": [
                "#",
                "# Copyright (c) 2022 unSkript.com",
                "# All rights reserved.",
                "#",
                "",
                "from pydantic import BaseModel, Field",
                "from kubernetes.client.rest import ApiException",
                "",
                "",
                "from beartype import beartype",
                "@beartype",
                "def k8s_kubectl_command_printer(output):",
                "    if output is None:",
                "        return",
                "    print(output)",
                "",
                "",
                "@beartype",
                "def k8s_kubectl_command(handle, new_cpu_limit, new_memory_limit, deployment, namespace, kubectl_command: str) -> str:",
                "    \"\"\"k8s_kubectl_command executes the given kubectl command on the pod",
                "",
                "        :type handle: object",
                "        :param handle: Object returned from the Task validate method",
                "",
                "        :type kubectl_command: str",
                "        :param kubectl_command: The Actual kubectl command, like kubectl get ns, etc..",
                "",
                "        :rtype: String, Output of the command in python string format or Empty String",
                "        in case of Error.",
                "    \"\"\"",
                "    if handle.client_side_validation is not True:",
                "        print(f\"K8S Connector is invalid: {handle}\")",
                "        return str()",
                "",
                "    result = handle.run_native_cmd(kubectl_command.format(deployment=deployment, namespace=namespace, new_cpu_limit=new_cpu_limit, new_memory_limit=new_memory_limit))",
                "",
                "    if result is None:",
                "        print(",
                "            f\"Error while executing command ({kubectl_command}) (empty response)\")",
                "        return \"\"",
                "",
                "    if result.stderr:",
                "        raise ApiException(f\"Error occurred while executing command {kubectl_command} {result.stderr}\")",
                "",
                "    return result.stdout",
                "",
                "",
                "task = Task(Workflow())",
                "task.configure(credentialsJson='''{\\\"credential_type\\\": \\\"CONNECTOR_TYPE_K8S\\\"}''')",
                "task.configure(inputParamsJson='''{",
                "    \"kubectl_command\": \"\\\\\"kubectl set resources deployment {deployment} -n {namespace} --limits=cpu={new_cpu_limit},memory={new_memory_limit}\\\\\"\",",
                "    \"new_cpu_limit\": \"12\",",
                "    \"new_memory_limit\": \"12\",",
                "    \"deployment\": \"deployment\",",
                "    \"namespace\": \"namespace\"",
                "    }''')",
                "",
                "task.configure(printOutput=True)",
                "(err, hdl, args) = task.validate(vars=vars())",
                "if err is None:",
                "    task.execute(k8s_kubectl_command, lego_printer=k8s_kubectl_command_printer, hdl=hdl, args=args)"
            ],
            "execution_count": 21,
            "outputs": []
        },
        {
            "id": "2c2aa264-5a2b-4714-adfd-79bdc4ae89d1",
            "cell_type": "code",
            "metadata": {
                "accessType": "ACCESS_TYPE_UNSPECIFIED",
                "actionBashCommand": false,
                "actionCategories": [
                    "CATEGORY_TYPE_CLOUDOPS",
                    "CATEGORY_TYPE_DEVOPS",
                    "CATEGORY_TYPE_SRE",
                    "CATEGORY_TYPE_K8S",
                    "CATEGORY_TYPE_K8S_KUBECTL"
                ],
                "actionIsCheck": false,
                "actionNeedsCredential": true,
                "actionNextHopParameterMapping": {},
                "actionOutputType": "",
                "actionRequiredLinesInCode": [],
                "actionSupportsIteration": true,
                "actionSupportsPoll": true,
                "action_modified": true,
                "action_uuid": "8cd969c4db1d03d54d258e2c119e90aa914888abb4d5376b775ade8233bf3ae7",
                "checkEnabled": false,
                "continueOnError": false,
                "createTime": "1970-01-01T00:00:00Z",
                "credentialsJson": {},
                "currentVersion": "0.1.0",
                "description": "Execute kubectl command.",
                "id": 76,
                "index": 76,
                "inputData": [
                    {
                        "deployment": {
                            "constant": false,
                            "value": "deployment"
                        },
                        "kubectl_command": {
                            "constant": false,
                            "value": "\"kubectl scale deployment -n {namespace} {deployment} --replicas={replicas}\""
                        },
                        "namespace": {
                            "constant": false,
                            "value": "namespace"
                        },
                        "replicas": {
                            "constant": false,
                            "value": "10"
                        }
                    }
                ],
                "inputschema": [
                    {
                        "properties": {
                            "deployment": {
                                "default": "",
                                "description": "Deployment",
                                "title": "deployment",
                                "type": "string"
                            },
                            "kubectl_command": {
                                "default": "",
                                "description": "kubectl command eg \"kubectl get pods --all-namespaces\"",
                                "title": "Kubectl Command",
                                "type": "string"
                            },
                            "namespace": {
                                "default": "",
                                "description": "Namespace",
                                "title": "namespace",
                                "type": "string"
                            },
                            "replicas": {
                                "default": "",
                                "description": "Replica Count",
                                "title": "replicas",
                                "type": "string"
                            }
                        },
                        "required": [
                            "kubectl_command",
                            "replicas",
                            "namespace",
                            "deployment"
                        ],
                        "title": "k8s_kubectl_command",
                        "type": "object"
                    }
                ],
                "isUnskript": false,
                "jupyter": {
                    "source_hidden": true
                },
                "legotype": "LEGO_TYPE_K8S",
                "name": "Kubectl command -> Scale Deployment",
                "nouns": [],
                "orderProperties": [
                    "kubectl_command",
                    "replicas",
                    "namespace",
                    "deployment"
                ],
                "output": {
                    "type": ""
                },
                "printOutput": true,
                "tags": [
                    "k8s_kubectl_command"
                ],
                "title": "Kubectl command -> Scale Deployment",
                "trusted": true,
                "verbs": [],
                "execution_data": {},
                "execution_count": {}
            },
            "source": [
                "#",
                "# Copyright (c) 2022 unSkript.com",
                "# All rights reserved.",
                "#",
                "",
                "from pydantic import BaseModel, Field",
                "from kubernetes.client.rest import ApiException",
                "",
                "",
                "from beartype import beartype",
                "@beartype",
                "def k8s_kubectl_command_printer(output):",
                "    if output is None:",
                "        return",
                "    print(output)",
                "",
                "",
                "@beartype",
                "def k8s_kubectl_command(handle, kubectl_command: str, namespace, deployment, replicas) -> str:",
                "    \"\"\"k8s_kubectl_command executes the given kubectl command on the pod",
                "",
                "        :type handle: object",
                "        :param handle: Object returned from the Task validate method",
                "",
                "        :type kubectl_command: str",
                "        :param kubectl_command: The Actual kubectl command, like kubectl get ns, etc..",
                "",
                "        :rtype: String, Output of the command in python string format or Empty String",
                "        in case of Error.",
                "    \"\"\"",
                "    if handle.client_side_validation is not True:",
                "        print(f\"K8S Connector is invalid: {handle}\")",
                "        return str()",
                "",
                "    result = handle.run_native_cmd(kubectl_command.format(namespace=namespace, deployment=deployment, replicas=replicas))",
                "",
                "    if result is None:",
                "        print(",
                "            f\"Error while executing command ({kubectl_command}) (empty response)\")",
                "        return \"\"",
                "",
                "    if result.stderr:",
                "        raise ApiException(f\"Error occurred while executing command {kubectl_command} {result.stderr}\")",
                "",
                "    return result.stdout",
                "",
                "",
                "task = Task(Workflow())",
                "task.configure(credentialsJson='''{\\\"credential_type\\\": \\\"CONNECTOR_TYPE_K8S\\\"}''')",
                "task.configure(inputParamsJson='''{",
                "    \"kubectl_command\": \"\\\\\"kubectl scale deployment -n {namespace} {deployment} --replicas={replicas}\\\\\"\",",
                "    \"replicas\": \"10\",",
                "    \"namespace\": \"namespace\",",
                "    \"deployment\": \"deployment\"",
                "    }''')",
                "",
                "task.configure(printOutput=True)",
                "(err, hdl, args) = task.validate(vars=vars())",
                "if err is None:",
                "    task.execute(k8s_kubectl_command, lego_printer=k8s_kubectl_command_printer, hdl=hdl, args=args)"
            ],
            "execution_count": 8,
            "outputs": []
        }
    ]
}