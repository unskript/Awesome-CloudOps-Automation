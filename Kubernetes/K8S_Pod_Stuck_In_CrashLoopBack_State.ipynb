{
    "cells": [
        {
            "cell_type": "markdown",
            "id": "2a1bc075-e2c8-466a-9aa6-07e84c21c162",
            "metadata": {
                "jupyter": {
                    "source_hidden": false
                },
                "name": "Steps Overview",
                "orderProperties": [],
                "tags": [],
                "title": "Steps Overview"
            },
            "source": [
                "<hr><center><img src=\"https://storage.googleapis.com/unskript-website/assets/favicon.png\" alt=\"unSkript.com\" width=\"100\" height=\"100\">\n",
                "<h1 id=\"unSkript-Runbooks\">unSkript Runbooks</h1>\n",
                "<div class=\"alert alert-block alert-success\">\n",
                "<h3 id=\"Objective\">Objective</h3>\n",
                "<br><strong style=\"color: #000000;\"><em>Fix K8s Pod in CrashLoopBack State</em></strong></div>\n",
                "</center>\n",
                "<p>&nbsp;</p>\n",
                "<center>\n",
                "<h2 id=\"Terminate-EC2-Instances-Without-Valid-Lifetime-Tag\"><u>K8S Pod in CrashLoopBack State</u></h2>\n",
                "</center>\n",
                "<h1 id=\"Steps-Overview\">Steps Overview</h1>\n",
                "<p>1)&nbsp;<a href=\"#1\">Get list of pods in CrashLoopBackOff State</a><br>2)&nbsp;<a href=\"#2\">Gather information of the pod</a><br>3)&nbsp;<a href=\"#2\">Collect pod exit code</a></p>\n",
                "<p>A <code>CrashLoopBackOff</code> error occurs when a pod startup fails repeatedly in Kubernetes.</p>\n",
                "<pre><code>When running. a kubectl get pods command, you would see something like this\n",
                "\n",
                "NAME                     READY     STATUS             RESTARTS   AGE\n",
                "nginx-7ef9efa7cd-qasd2   0/1       CrashLoopBackOff   2          1m\n",
                "\n",
                "Or\n",
                "\n",
                "NAME                     READY     STATUS                  RESTARTS   AGE\n",
                "pod1-7ef9efa7cd-qasd2    0/2       Init:CrashLoopBackOff   2          1m\n",
                "</code></pre>\n",
                "<hr>"
            ]
        },
        {
            "cell_type": "markdown",
            "id": "9176ae13-c5a8-42dc-b5c6-c6a7a91b56fd",
            "metadata": {
                "name": "Step 1A",
                "orderProperties": [],
                "tags": [],
                "title": "Step 1A"
            },
            "source": [
                "<h3 id=\"Convert-namespace-to-String-if-empty&para;&para;\"><a id=\"1\" target=\"_self\" rel=\"nofollow\"></a>Convert namespace to String if empty<a class=\"jp-InternalAnchorLink\" href=\"#Get-List-of-Pods-in-CrashLoopBackOff-State\" target=\"_self\" rel=\"noopener\">&para;</a><a class=\"jp-InternalAnchorLink\" href=\"../../../../../../files/97ea8f79-ead4-449e-844a-dfc8ed651315/current/%23Get-List-of-Pods-in-ImagePullBackOff-State%C2%B6?_xsrf=2%7C84903cb5%7C0fc688833621afd7a1297198ce4df7c4%7C1673863912#Get-List-of-Pods-in-ImagePullBackOff-State%C2%B6\" target=\"_self\" rel=\"noopener\" data-commandlinker-command=\"rendermime:handle-local-link\" data-commandlinker-args=\"{&quot;path&quot;:&quot;97ea8f79-ead4-449e-844a-dfc8ed651315/current/#Get-List-of-Pods-in-ImagePullBackOff-State&para;&quot;,&quot;id&quot;:&quot;#Get-List-of-Pods-in-ImagePullBackOff-State%C2%B6&quot;}\">&para;</a><a class=\"jp-InternalAnchorLink\" href=\"#Convert-namespace-to-String-if-empty&para;&para;\" target=\"_self\">&para;</a></h3>\n",
                "<p>This custom action changes the type of namespace from None to String only if no namespace is given</p>"
            ]
        },
        {
            "cell_type": "code",
            "execution_count": null,
            "id": "16a31ef5-a834-4878-afa5-79f64dfa0c3d",
            "metadata": {
                "collapsed": true,
                "customAction": true,
                "jupyter": {
                    "outputs_hidden": true,
                    "source_hidden": true
                },
                "name": "Convert namespace to String if empty",
                "orderProperties": [],
                "tags": [],
                "title": "Convert namespace to String if empty"
            },
            "outputs": [],
            "source": [
                "if namespace==None:\n",
                "    namespace=''"
            ]
        },
        {
            "cell_type": "markdown",
            "id": "60e73ca7-e3a8-42d3-a3bb-87ad2baa1f91",
            "metadata": {
                "jupyter": {
                    "source_hidden": false
                },
                "name": "Step 1",
                "orderProperties": [],
                "tags": [],
                "title": "Step 1"
            },
            "source": [
                "<h3 id=\"Get-List-of-Pods-in-CrashLoopBackOff-State\"><a id=\"1\" target=\"_self\" rel=\"nofollow\"></a>Get List of Pods in CrashLoopBackOff State<a class=\"jp-InternalAnchorLink\" href=\"#Get-List-of-Pods-in-CrashLoopBackOff-State\" target=\"_self\">&para;</a></h3>\n",
                "<p>This action fetches a list of the pods in CrashLoopBack State. This action will consider <code>namespace</code> as&nbsp;<strong> all&nbsp;</strong>if no namespace is given.</p>\n",
                "<blockquote>\n",
                "<p>This action takes the following parameters (Optional):&nbsp;<code>namespace</code></p>\n",
                "</blockquote>\n",
                "<blockquote>\n",
                "<p>This action captures the following ouput: <code>crashloopbackoff_pods</code></p>\n",
                "</blockquote>"
            ]
        },
        {
            "cell_type": "code",
            "execution_count": 4,
            "id": "060496ab-6cef-4a23-8a93-194cb8774ea3",
            "metadata": {
                "accessType": "ACCESS_TYPE_UNSPECIFIED",
                "actionBashCommand": false,
                "actionCategories": [],
                "actionIsCheck": false,
                "actionNeedsCredential": true,
                "actionNextHop": [],
                "actionNextHopParameterMapping": {},
                "actionOutputType": "",
                "actionRequiredLinesInCode": [],
                "actionSupportsIteration": true,
                "actionSupportsPoll": true,
                "action_modified": false,
                "action_uuid": "d8047bf803242cfbfd1a19e28d64ae8d95168f8edb753ae4e1e7a7af1ffccf07",
                "collapsed": true,
                "continueOnError": false,
                "createTime": "1970-01-01T00:00:00Z",
                "currentVersion": "0.1.0",
                "description": "Get all K8s pods in CrashLoopBackOff State",
                "execution_data": {
                    "last_date_success_run_cell": "2023-02-10T12:54:10.973Z"
                },
                "id": 26,
                "index": 26,
                "inputData": [
                    {
                        "namespace": {
                            "constant": false,
                            "value": "str(namespace)"
                        }
                    }
                ],
                "inputschema": [
                    {
                        "properties": {
                            "namespace": {
                                "default": "",
                                "description": "k8s Namespace",
                                "title": "Namespace",
                                "type": "string"
                            }
                        },
                        "title": "k8s_get_pods_in_crashloopbackoff_state",
                        "type": "object"
                    }
                ],
                "jupyter": {
                    "outputs_hidden": true,
                    "source_hidden": true
                },
                "legotype": "LEGO_TYPE_K8S",
                "name": "Get all K8s Pods in CrashLoopBackOff State",
                "nouns": [],
                "orderProperties": [
                    "namespace"
                ],
                "output": {
                    "type": ""
                },
                "outputParams": {
                    "output_name": "crashloopbackoff_pods",
                    "output_name_enabled": true
                },
                "printOutput": true,
                "probeEnabled": false,
                "tags": [
                    "k8s_get_pods_in_crashloopbackoff_state"
                ],
                "verbs": []
            },
            "outputs": [],
            "source": [
                "#\n",
                "# Copyright (c) 2022 unSkript.com\n",
                "# All rights reserved.\n",
                "#\n",
                "\n",
                "from pydantic import BaseModel, Field\n",
                "from typing import Optional, Tuple\n",
                "from unskript.legos.utils import CheckOutput, CheckOutputStatus\n",
                "from collections import defaultdict\n",
                "import json\n",
                "import pprint\n",
                "import re\n",
                "\n",
                "from beartype import beartype\n",
                "@beartype\n",
                "def k8s_get_pods_in_crashloopbackoff_state_printer(output):\n",
                "    if output is None:\n",
                "        return\n",
                "    if isinstance(output, CheckOutput):\n",
                "        print(output.json())\n",
                "    else:\n",
                "        pprint.pprint(output)\n",
                "\n",
                "\n",
                "@beartype\n",
                "def k8s_get_pods_in_crashloopbackoff_state(handle, namespace: str=None) -> Tuple:\n",
                "    \"\"\"k8s_get_pods_in_crashloopbackoff_state executes the given kubectl command to find pods in CrashLoopBackOff State\n",
                "\n",
                "        :type handle: object\n",
                "        :param handle: Object returned from the Task validate method\n",
                "\n",
                "        :type namespace: Optional[str]\n",
                "        :param namespace: Namespace to get the pods from. Eg:\"logging\", if not given all namespaces are considered\n",
                "\n",
                "        :rtype: Status, List of pods in CrashLoopBackOff State\n",
                "    \"\"\"\n",
                "    if handle.client_side_validation != True:\n",
                "        print(f\"K8S Connector is invalid: {handle}\")\n",
                "        return str()\n",
                "    kubectl_command =\"kubectl get pods --all-namespaces | grep CrashLoopBackOff | tr -s ' ' | cut -d ' ' -f 1,2\"\n",
                "    if namespace:\n",
                "        kubectl_command = \"kubectl get pods -n \" + namespace + \" | grep CrashLoopBackOff | cut -d' ' -f 1 | tr -d ' '\"\n",
                "    response = handle.run_native_cmd(kubectl_command)\n",
                "    if response is None or hasattr(response, \"stderr\") is False or response.stderr is None:\n",
                "        print(\n",
                "            f\"Error while executing command ({kubectl_command}): {response.stderr}\")\n",
                "        return str()\n",
                "    temp = response.stdout\n",
                "    result = []\n",
                "    res = []\n",
                "    unhealthy_pods =[]\n",
                "    unhealthy_pods_tuple = ()\n",
                "    if not namespace:\n",
                "        all_namespaces = re.findall(r\"(\\S+).*\",temp)\n",
                "        all_unhealthy_pods = re.findall(r\"\\S+\\s+(.*)\",temp)\n",
                "        unhealthy_pods = [(i, j) for i, j in zip(all_namespaces, all_unhealthy_pods)]\n",
                "        res = defaultdict(list)\n",
                "        for key, val in unhealthy_pods:\n",
                "            res[key].append(val)\n",
                "    elif namespace:\n",
                "        all_pods = []\n",
                "        all_unhealthy_pods =[]\n",
                "        all_pods = re.findall(r\"(\\S+).*\",temp)\n",
                "        for p in all_pods:\n",
                "                unhealthy_pods_tuple = (namespace,p)\n",
                "                unhealthy_pods.append(unhealthy_pods_tuple)\n",
                "        res = defaultdict(list)\n",
                "        for key, val in unhealthy_pods:\n",
                "            res[key].append(val)\n",
                "    if len(res)!=0:\n",
                "        result.append(dict(res))\n",
                "    if len(result) != 0:\n",
                "        return (False, result)\n",
                "    else:\n",
                "        return (True, None)\n",
                "\n",
                "\n",
                "task = Task(Workflow())\n",
                "task.configure(inputParamsJson='''{\n",
                "    \"namespace\": \"namespace\"\n",
                "    }''')\n",
                "task.configure(outputName=\"crashloopbackoff_pods\")\n",
                "\n",
                "task.configure(printOutput=True)\n",
                "(err, hdl, args) = task.validate(vars=vars())\n",
                "if err is None:\n",
                "    task.execute(k8s_get_pods_in_crashloopbackoff_state, lego_printer=k8s_get_pods_in_crashloopbackoff_state_printer, hdl=hdl, args=args)"
            ]
        },
        {
            "cell_type": "markdown",
            "id": "ba58fe60-9922-4c86-b0d6-d76d4db71249",
            "metadata": {
                "jupyter": {
                    "source_hidden": false
                },
                "name": "Step 1A",
                "orderProperties": [],
                "tags": [],
                "title": "Step 1A"
            },
            "source": [
                "<h3 id=\"Examine-the-Events\">Create List of commands to get Events<a class=\"jp-InternalAnchorLink\" href=\"#Examine-the-Events\" target=\"_self\">&para;</a></h3>\n",
                "<p>Examine the output from Step 1👆,&nbsp; and create a list of commands for each pod in a namespace that is found to be in the CrashLoopBackOff State</p>\n",
                "<blockquote>\n",
                "<p>This action captures the following ouput:&nbsp;<code>all_unhealthy_pods</code></p>\n",
                "</blockquote>"
            ]
        },
        {
            "cell_type": "code",
            "execution_count": 5,
            "id": "042b8352-5769-403c-9c22-432fa48de97d",
            "metadata": {
                "customAction": true,
                "execution_data": {
                    "last_date_success_run_cell": "2023-02-09T11:18:22.306Z"
                },
                "jupyter": {
                    "source_hidden": true
                },
                "name": "Create List of commands to get Events",
                "orderProperties": [],
                "tags": [],
                "title": "Create List of commands to get Events"
            },
            "outputs": [],
            "source": [
                "all_unhealthy_pods = []\n",
                "for each_pod_dict in crashloopbackoff_pods:\n",
                "    if type(each_pod_dict)==list:\n",
                "        for pod in each_pod_dict:\n",
                "            for k,v in pod.items():\n",
                "                if len(v)!=0:\n",
                "                    nspace = k\n",
                "                    u_pod = ' '.join([str(each_pod) for each_pod in v])\n",
                "                    cmd = \"kubectl describe pod \"+u_pod+\" -n \"+nspace+\" | grep -A 10 Events\"\n",
                "                    all_unhealthy_pods.append(cmd)\n",
                "print(all_unhealthy_pods)"
            ]
        },
        {
            "cell_type": "markdown",
            "id": "528330e1-c862-42bc-9056-05608a78d437",
            "metadata": {
                "jupyter": {
                    "source_hidden": false
                },
                "name": "Step 2",
                "orderProperties": [],
                "tags": [],
                "title": "Step 2"
            },
            "source": [
                "<h3 id=\"List-all-AWS-Regions\">Gather information of the pods</h3>\n",
                "<p>This action describes events for a list of unhealthy pods obtained in Step 1.</p>\n",
                "<blockquote>\n",
                "<p>This action takes the following parameters (Optional):&nbsp;<code>namespace</code></p>\n",
                "</blockquote>\n",
                "<blockquote>\n",
                "<p>This action captures the following ouput: <code>describe_output</code></p>\n",
                "</blockquote>"
            ]
        },
        {
            "cell_type": "code",
            "execution_count": 6,
            "id": "5d45773d-cf52-4dcb-8a35-01219781cf8f",
            "metadata": {
                "accessType": "ACCESS_TYPE_UNSPECIFIED",
                "actionBashCommand": false,
                "actionNeedsCredential": true,
                "actionSupportsIteration": true,
                "actionSupportsPoll": true,
                "action_uuid": "ae0b25757f0c6c0ca4b3aaf6feea636e3f193dc354f74823a7becd7d675becdc",
                "condition_enabled": true,
                "continueOnError": true,
                "createTime": "1970-01-01T00:00:00Z",
                "currentVersion": "0.1.0",
                "description": "Kubectl command in python syntax.",
                "execution_data": {
                    "last_date_success_run_cell": "2023-02-09T11:19:18.986Z"
                },
                "id": 21,
                "index": 21,
                "inputData": [
                    {
                        "kubectl_command": {
                            "constant": false,
                            "value": "iter_item"
                        }
                    }
                ],
                "inputschema": [
                    {
                        "properties": {
                            "kubectl_command": {
                                "description": "kubectl command eg \"kubectl get pods --all-namespaces\"",
                                "title": "Kubectl Command",
                                "type": "string"
                            }
                        },
                        "required": [
                            "kubectl_command"
                        ],
                        "title": "k8s_kubectl_command",
                        "type": "object"
                    }
                ],
                "iterData": [
                    {
                        "iter_enabled": true,
                        "iter_item": "kubectl_command",
                        "iter_list": {
                            "constant": false,
                            "objectItems": false,
                            "value": "all_unhealthy_pods"
                        }
                    }
                ],
                "jupyter": {
                    "source_hidden": true
                },
                "legotype": "LEGO_TYPE_K8S",
                "name": "Gather Information of the pod",
                "nouns": [
                    "command"
                ],
                "orderProperties": [
                    "kubectl_command"
                ],
                "output": {
                    "type": ""
                },
                "outputParams": {
                    "output_name": "describe_output",
                    "output_name_enabled": true
                },
                "printOutput": true,
                "startcondition": "len(all_unhealthy_pods)!=0",
                "tags": [
                    "k8s_kubectl_command"
                ],
                "title": "Gather Information of the pod",
                "verbs": [
                    "execute"
                ]
            },
            "outputs": [],
            "source": [
                "#\n",
                "# Copyright (c) 2021 unSkript.com\n",
                "# All rights reserved.\n",
                "#\n",
                "\n",
                "from pydantic import BaseModel, Field\n",
                "\n",
                "\n",
                "from beartype import beartype\n",
                "@beartype\n",
                "def k8s_kubectl_command(handle, kubectl_command: str) -> str:\n",
                "\n",
                "    result = handle.run_native_cmd(kubectl_command)\n",
                "    if result is None or hasattr(result, \"stderr\") is False or result.stderr is None:\n",
                "        print(\n",
                "            f\"Error while executing command ({kubectl_command}): {result.stderr}\")\n",
                "        return None\n",
                "\n",
                "    return result.stdout\n",
                "\n",
                "\n",
                "task = Task(Workflow())\n",
                "task.configure(continueOnError=True)\n",
                "task.configure(printOutput=True)\n",
                "task.configure(inputParamsJson='''{\n",
                "    \"kubectl_command\": \"iter_item\"\n",
                "    }''')\n",
                "task.configure(iterJson='''{\n",
                "    \"iter_enabled\": true,\n",
                "    \"iter_list_is_const\": false,\n",
                "    \"iter_list\": \"all_unhealthy_pods\",\n",
                "    \"iter_parameter\": \"kubectl_command\"\n",
                "    }''')\n",
                "task.configure(conditionsJson='''{\n",
                "    \"condition_enabled\": true,\n",
                "    \"condition_cfg\": \"len(all_unhealthy_pods)!=0\",\n",
                "    \"condition_result\": true\n",
                "    }''')\n",
                "task.configure(outputName=\"describe_output\")\n",
                "(err, hdl, args) = task.validate(vars=vars())\n",
                "if err is None:\n",
                "    task.execute(k8s_kubectl_command, hdl=hdl, args=args)\n",
                "\n",
                "if hasattr(task, 'output'):\n",
                "    if isinstance(task.output, (list, tuple)):\n",
                "        for item in task.output:\n",
                "            print(f'item: {item}')\n",
                "    elif isinstance(task.output, dict):\n",
                "        for item in task.output.items():\n",
                "            print(f'item: {item}')\n",
                "    else:\n",
                "        print(f'Output for {task.name}')\n",
                "        print(task.output)\n",
                "    w.tasks[task.name]= task.output"
            ]
        },
        {
            "cell_type": "markdown",
            "id": "26886eb4-ca1f-40f0-a2da-c34af115ae69",
            "metadata": {
                "jupyter": {
                    "source_hidden": false
                },
                "name": "Step 2A",
                "orderProperties": [],
                "tags": [],
                "title": "Step 2A"
            },
            "source": [
                "<h3 id=\"Examine-the-Events\">Convert to String<a class=\"jp-InternalAnchorLink\" href=\"#Examine-the-Events\" target=\"_self\">&para;</a></h3>\n",
                "<p>From the output from Step 2👆,&nbsp; we convert the dict output to a string format.</p>\n",
                "<blockquote>\n",
                "<p>This action captures the following ouput: <code>all_describe_info</code></p>\n",
                "</blockquote>"
            ]
        },
        {
            "cell_type": "code",
            "execution_count": 26,
            "id": "50d94b8f-7c44-413e-b653-72c59ab1ee15",
            "metadata": {
                "customAction": true,
                "execution_data": {
                    "last_date_success_run_cell": "2023-02-08T12:26:44.491Z"
                },
                "jupyter": {
                    "source_hidden": true
                },
                "name": "Convert to String ",
                "orderProperties": [],
                "tags": [],
                "title": "Convert to String "
            },
            "outputs": [],
            "source": [
                "import json\n",
                "\n",
                "all_describe_info = json.dumps(describe_output)\n",
                "print(all_describe_info)"
            ]
        },
        {
            "cell_type": "markdown",
            "id": "ba918b53-4a49-494d-956f-073849b6cd9e",
            "metadata": {
                "jupyter": {
                    "source_hidden": false
                },
                "name": "Step 2B",
                "orderProperties": [],
                "tags": [],
                "title": "Step 2B"
            },
            "source": [
                "<h3 id=\"Examine-the-Events\">Examine the Events<a class=\"jp-InternalAnchorLink\" href=\"#Examine-the-Events\" target=\"_self\">&para;</a></h3>\n",
                "<p>Examine the output from Step 2A👆,&nbsp; and make a note of any containers that have a <code>Back-off restarting failed container</code> in the description.</p>"
            ]
        },
        {
            "cell_type": "code",
            "execution_count": 27,
            "id": "6a08134c-e35f-48da-a687-cb1b3bb4a91a",
            "metadata": {
                "execution_data": {
                    "last_date_success_run_cell": "2023-02-08T12:27:04.007Z"
                },
                "jupyter": {
                    "source_hidden": true
                },
                "name": "Examine the Events",
                "orderProperties": [],
                "tags": [],
                "title": "Examine the Events"
            },
            "outputs": [],
            "source": [
                "import re\n",
                "\n",
                "\"\"\"\n",
                "This Custom Action searches Known errors in the describeOutput variable.\n",
                "This lego \n",
                "\"\"\"\n",
                "\n",
                "\n",
                "def check_msg(msg):\n",
                "    return re.search(msg, all_describe_info)\n",
                "\n",
                "if ('describeOutput' not in globals()):\n",
                "    pass\n",
                "else:\n",
                "    print(\"Processing Events...\")\n",
                "    result = check_msg(\"Back-off restarting failed container\")\n",
                "    if result is not None:\n",
                "        print(\"Confirming the POD(s) is in Back-Off restarting state\")"
            ]
        },
        {
            "cell_type": "markdown",
            "id": "e43ad9f0-5d64-4a0f-9543-7214fac6e359",
            "metadata": {
                "jupyter": {
                    "source_hidden": false
                },
                "name": "Step 3A",
                "orderProperties": [],
                "tags": [],
                "title": "Step 3A"
            },
            "source": [
                "<h3 id=\"Examine-the-Events\">Create List of commands to get Exit Code<a class=\"jp-InternalAnchorLink\" href=\"#Examine-the-Events\" target=\"_self\">&para;</a></h3>\n",
                "<p>From the output from Step 1👆create a list of commands for each pod in a namespace to get the exit code for each pod to examine the reason of failure.</p>\n",
                "<blockquote>\n",
                "<p>This action captures the following ouput: <code>all_pods_exit_code</code></p>\n",
                "</blockquote>"
            ]
        },
        {
            "cell_type": "code",
            "execution_count": 7,
            "id": "e19a6db0-d941-4e62-8a3b-05105389ebfe",
            "metadata": {
                "customAction": true,
                "execution_data": {
                    "last_date_success_run_cell": "2023-02-09T11:20:07.998Z"
                },
                "jupyter": {
                    "source_hidden": true
                },
                "name": "Create List of commands to get Exit Code",
                "orderProperties": [],
                "tags": [],
                "title": "Create List of commands to get Exit Code"
            },
            "outputs": [],
            "source": [
                "all_pods_exit_code = []\n",
                "for x in crashloopbackoff_pods:\n",
                "    if type(x[1])==list:\n",
                "        if len(x[1])!=0:\n",
                "            for pod in x[1]:\n",
                "                for k,v in pod.items():\n",
                "                    nspace = k\n",
                "                    u_pod = ' '.join([str(each_pod) for each_pod in v])\n",
                "                    cmd = \"kubectl describe pod \"+u_pod+\" -n \"+nspace+\" | grep \\\\\"+\"Exit Code\"+\"\\\\\"+\" | cut -d':' -f 2 | tr -d ' '\"\n",
                "                    all_pods_exit_code.append(cmd)\n",
                "print(all_pods_exit_code)"
            ]
        },
        {
            "cell_type": "markdown",
            "id": "e9ef9f2a-2cd8-4bb9-9efc-746e2ec958d2",
            "metadata": {
                "jupyter": {
                    "source_hidden": false
                },
                "name": "Step 3",
                "orderProperties": [],
                "tags": [],
                "title": "Step 3"
            },
            "source": [
                "<h3 id=\"Collect-pod-exit-code\">Collect pod exit code<a class=\"jp-InternalAnchorLink\" href=\"#Collect-pod-exit-code\" target=\"_self\">&para;</a></h3>\n",
                "<p>Examine the output from Step 1👆, and look for the Exit Code.</p>\n",
                "<blockquote>This action captures the following ouput: exit_code</blockquote>"
            ]
        },
        {
            "cell_type": "code",
            "execution_count": 31,
            "id": "e8db2cae-8894-47a0-8b88-d2275314acd7",
            "metadata": {
                "accessType": "ACCESS_TYPE_UNSPECIFIED",
                "actionBashCommand": false,
                "actionCategories": [],
                "actionIsCheck": false,
                "actionNeedsCredential": true,
                "actionNextHop": [],
                "actionNextHopParameterMapping": {},
                "actionOutputType": "",
                "actionRequiredLinesInCode": [],
                "actionSupportsIteration": true,
                "actionSupportsPoll": true,
                "action_modified": false,
                "action_uuid": "4d3b4c6153e14622f42b332b7c7b8f7043577971f64edc5be6b5f8b40d5b89d1",
                "condition_enabled": true,
                "continueOnError": true,
                "createTime": "1970-01-01T00:00:00Z",
                "currentVersion": "0.1.0",
                "description": "Execute the given Kubectl command.",
                "execution_data": {
                    "last_date_success_run_cell": "2023-02-08T12:34:23.155Z"
                },
                "id": 51,
                "index": 51,
                "inputData": [
                    {
                        "kubectl_command": {
                            "constant": false,
                            "value": "iter_item"
                        }
                    }
                ],
                "inputschema": [
                    {
                        "properties": {
                            "kubectl_command": {
                                "description": "kubectl command eg \"kubectl get pods --all-namespaces\"",
                                "title": "Kubectl Command",
                                "type": "string"
                            }
                        },
                        "required": [
                            "kubectl_command"
                        ],
                        "title": "k8s_kubectl_command",
                        "type": "object"
                    }
                ],
                "iterData": [
                    {
                        "iter_enabled": true,
                        "iter_item": "kubectl_command",
                        "iter_list": {
                            "constant": false,
                            "objectItems": false,
                            "value": "all_pods_exit_code"
                        }
                    }
                ],
                "jupyter": {
                    "source_hidden": true
                },
                "legotype": "LEGO_TYPE_K8S",
                "name": "Collect pod exit code",
                "nouns": [],
                "orderProperties": [
                    "kubectl_command"
                ],
                "output": {
                    "type": ""
                },
                "outputParams": {
                    "output_name": "exit_code",
                    "output_name_enabled": true
                },
                "printOutput": true,
                "probeEnabled": false,
                "startcondition": "len(all_pods_exit_code)!=0",
                "tags": [
                    "k8s_kubectl_command"
                ],
                "title": "Collect pod exit code",
                "verbs": []
            },
            "outputs": [],
            "source": [
                "#\n",
                "# Copyright (c) 2022 unSkript.com\n",
                "# All rights reserved.\n",
                "#\n",
                "\n",
                "from pydantic import BaseModel, Field\n",
                "\n",
                "\n",
                "from beartype import beartype\n",
                "@beartype\n",
                "def k8s_kubectl_command_printer(output):\n",
                "    if output is None:\n",
                "        return\n",
                "    print(output)\n",
                "\n",
                "\n",
                "@beartype\n",
                "def k8s_kubectl_command(handle, kubectl_command: str) -> str:\n",
                "    \"\"\"k8s_kubectl_command executes the given kubectl command on the pod\n",
                "\n",
                "        :type handle: object\n",
                "        :param handle: Object returned from the Task validate method\n",
                "\n",
                "        :type kubectl_command: str\n",
                "        :param kubectl_command: The Actual kubectl command, like kubectl get ns, etc..\n",
                "\n",
                "        :rtype: String, Output of the command in python string format or Empty String in case of Error.\n",
                "    \"\"\"\n",
                "    if handle.client_side_validation != True:\n",
                "        print(f\"K8S Connector is invalid: {handle}\")\n",
                "        return str()\n",
                "\n",
                "    result = handle.run_native_cmd(kubectl_command)\n",
                "    if result is None or hasattr(result, \"stderr\") is False or result.stderr is None:\n",
                "        print(\n",
                "            f\"Error while executing command ({kubectl_command}): {result.stderr}\")\n",
                "        return str()\n",
                "\n",
                "    return result.stdout\n",
                "\n",
                "\n",
                "task = Task(Workflow())\n",
                "task.configure(continueOnError=True)\n",
                "task.configure(inputParamsJson='''{\n",
                "    \"kubectl_command\": \"iter_item\"\n",
                "    }''')\n",
                "task.configure(iterJson='''{\n",
                "    \"iter_enabled\": true,\n",
                "    \"iter_list_is_const\": false,\n",
                "    \"iter_list\": \"all_pods_exit_code\",\n",
                "    \"iter_parameter\": \"kubectl_command\"\n",
                "    }''')\n",
                "task.configure(conditionsJson='''{\n",
                "    \"condition_enabled\": true,\n",
                "    \"condition_cfg\": \"len(all_pods_exit_code)!=0\",\n",
                "    \"condition_result\": true\n",
                "    }''')\n",
                "task.configure(outputName=\"exit_code\")\n",
                "\n",
                "task.configure(printOutput=True)\n",
                "(err, hdl, args) = task.validate(vars=vars())\n",
                "if err is None:\n",
                "    task.execute(k8s_kubectl_command, lego_printer=k8s_kubectl_command_printer, hdl=hdl, args=args)"
            ]
        },
        {
            "cell_type": "markdown",
            "id": "21e2e967-6514-4b87-b43b-b1f0e95b4ac2",
            "metadata": {
                "jupyter": {
                    "source_hidden": false
                },
                "name": "Step 3B",
                "orderProperties": [],
                "tags": [],
                "title": "Step 3B"
            },
            "source": [
                "<h3 id=\"Examine-the-Events\">Create List Exit Codes<a class=\"jp-InternalAnchorLink\" href=\"#Examine-the-Events\" target=\"_self\">&para;</a></h3>\n",
                "<p>From the output from Step 3👆create a list of exit codes&nbsp; to ananlyze in Step 3C.</p>\n",
                "<blockquote>\n",
                "<p>This action captures the following ouput: <code>all_exit_code_info</code></p>\n",
                "</blockquote>"
            ]
        },
        {
            "cell_type": "code",
            "execution_count": 45,
            "id": "5351b111-f025-4952-a3dc-917047966aab",
            "metadata": {
                "customAction": true,
                "execution_data": {
                    "last_date_success_run_cell": "2023-02-08T12:50:44.137Z"
                },
                "jupyter": {
                    "source_hidden": true
                },
                "name": "Create List of Exit Codes",
                "orderProperties": [],
                "tags": [],
                "title": "Create List of Exit Codes"
            },
            "outputs": [],
            "source": [
                "import json\n",
                "all_exit_code_info = []\n",
                "for k,v in exit_code.items():\n",
                "    all_exit_code_info.append(v)\n",
                "print(all_exit_code_info)"
            ]
        },
        {
            "cell_type": "markdown",
            "id": "86de5ae7-00f3-424a-9740-c02cd0cab643",
            "metadata": {
                "jupyter": {
                    "source_hidden": false
                },
                "name": "Step 3C",
                "orderProperties": [],
                "tags": [],
                "title": "Step 3C"
            },
            "source": [
                "<h3 id=\"Examine-the-Events\">Examine Exit Codes<a class=\"jp-InternalAnchorLink\" href=\"#Examine-the-Events\" target=\"_self\">&para;</a></h3>\n",
                "<p>Using the exit_codes list from Step 3B👆examine each code.</p>"
            ]
        },
        {
            "cell_type": "code",
            "execution_count": 52,
            "id": "6c8adc48-7c21-40cc-8dbc-77a9d46843fc",
            "metadata": {
                "execution_data": {
                    "last_date_success_run_cell": "2023-02-08T12:54:26.923Z"
                },
                "jupyter": {
                    "source_hidden": true
                },
                "name": "Examine Exit Code",
                "orderProperties": [],
                "tags": [],
                "title": "Examine Exit Code"
            },
            "outputs": [],
            "source": [
                "from IPython.display import Markdown as md\n",
                "\n",
                "# if repoLocation is not None:\n",
                "#     display(md(f\"**Please verify {repoLocation} is accessible from the K8S POD**\"))\n",
                "\n",
                "if 'all_exit_code_info' not in globals():\n",
                "    pass\n",
                "else:\n",
                "    for ec in all_exit_code_info:\n",
                "        if ec is None or len(ec)==0:\n",
                "            exitCode = 323400\n",
                "        if ec is not None or len(ec)!=0:\n",
                "            exitCode = int(ec)\n",
                "        if exitCode == 0:\n",
                "            display(md(\"Exit code 0 implies that the specified container command completed\"))\n",
                "            display(md(\"Successfully, but too often for Kubernetes to accept as working.\"))\n",
                "            display(md(\"\"))\n",
                "            display(md(\"Did you fail to specify a command in the POD Spec, and the container ran\"))\n",
                "            display(md(\"a default shell command that failed? If so, you will need to fix the command\"))\n",
                "        elif exitCode == 1:\n",
                "            display(md(\"The container failed to run its command successfully, and returned\"))\n",
                "            display(md(\"an exit code 1. This is an application failure within the process\"))\n",
                "            display(md(\"that was started, but return with a failing exit code some time after.\"))\n",
                "            display(md(\"\"))\n",
                "            display(md(\"If this is happening only with all pods running on your cluster, then\"))\n",
                "            display(md(\"there may be a problem with your nodes. Check Nodes are OK on your cluster\"))\n",
                "            display(md(\"with kubectl get nodes -o wide command\"))\n",
                "        elif exitCode == 2:\n",
                "            display(md(\"An exit code of 2 indicates either that the application chose to return\"))\n",
                "            display(md(\"that error code, or there was a misuse of a shell builtin. Check your\"))\n",
                "            display(md(\"pod's command specification to ensure that the command is correct.\"))\n",
                "            display(md(\"If you think it is correct, try running the image locally with a shell\"))\n",
                "            display(md(\"and run the command directly.\"))\n",
                "        elif exitCode == 128:\n",
                "            display(md(\"An exit code of 128 indicates that the container could not run. Check this\"))\n",
                "            display(md(\"by kubectl describe pod command, check to see if LastState Reason is\"))\n",
                "            display(md(\"ContainerCannotRun.\"))\n",
                "        elif exitCode == 137:\n",
                "            display(md(\"This indicates that the container was killed with Signal 9\"))\n",
                "            display(md(\"This can be due to One of these reasons:\"))\n",
                "            display(md(\"    1. Container ran out of Memory\"))\n",
                "            display(md(\"    2. The OOMKiller killed the container\"))\n",
                "            display(md(\"    3. The liveness probe failed. Check liveness and readiness probes\"))\n",
                "        else:\n",
                "            display(md(\"Some common application problem to consider are\"))\n",
                "            display(md(\"    1. Priveleged access to function. By setting allowPrivelegeEscalation\"))\n",
                "            display(md(\"    2. SELinux or AppArmor controls may be preventing your application to run\"))\n",
                "        \n",
                "\n",
                "    display(md(\">You can use kubectl get pods command to verify after you fix the issue\"))"
            ]
        },
        {
            "cell_type": "markdown",
            "id": "e25b3628-8ff0-401e-b909-e4955e45f397",
            "metadata": {
                "jupyter": {
                    "source_hidden": false
                },
                "name": "Conclusion",
                "orderProperties": [],
                "tags": [],
                "title": "Conclusion"
            },
            "source": [
                "<h3 id=\"Conclusion\">Conclusion<a class=\"jp-InternalAnchorLink\" href=\"#Conclusion\" target=\"_self\">&para;</a></h3>\n",
                "<p>In this Runbook, we were able to identify pods stuck in CrashLoopBackOff State and examined the possible event that caused it's failure using unSkript's K8s actions. To view the full platform capabilities of unSkript please visit <a href=\"https://us.app.unskript.io\" target=\"_blank\" rel=\"noopener\">us.app.unskript.io</a></p>"
            ]
        }
    ],
    "metadata": {
        "execution_data": {
            "environment_name": "SingleAMIInstance",
            "environment_type": "ENVIRONMENT_TYPE_AWS_EC2",
            "execution_id": "",
            "inputs_for_searched_lego": "",
            "notebook_id": "4103009e-ad31-4647-aff3-7643913871d5.ipynb",
            "parameters": [
                "namespace"
            ],
            "proxy_id": "1b032d60-0671-498f-a117-6c2f355648fe",
            "runbook_name": "K8S Pod in CrashLoopBack State",
            "search_string": "",
            "show_tool_tip": false,
            "tenant_id": "117718cf-b601-4a00-9164-3e4311468e45",
            "tenant_url": "https://tenant-jayasimha.dev.unskript.io",
            "user_email_id": "jayasimha@unskript.com",
            "workflow_id": "47379bbb-e4f4-4ebc-90a2-cff6a04b4d47"
        },
        "kernelspec": {
            "display_name": "unSkript (Build: 839)",
            "name": "python_kubernetes"
        },
        "language_info": {
            "file_extension": ".py",
            "mimetype": "text/x-python",
            "name": "python",
            "pygments_lexer": "ipython3"
        },
        "parameterSchema": {
            "properties": {
                "namespace": {
                    "description": "K8S Namespace",
                    "title": "namespace",
                    "type": "string"
                }
            },
            "required": [],
            "title": "Schema",
            "type": "object"
        },
        "parameterValues": null
    },
    "nbformat": 4,
    "nbformat_minor": 5
}
