{
    "cells": [
        {
            "cell_type": "markdown",
            "id": "2a1bc075-e2c8-466a-9aa6-07e84c21c162",
            "metadata": {
                "jupyter": {
                    "source_hidden": false
                },
                "name": "Overview",
                "orderProperties": [],
                "tags": [],
                "title": "Overview"
            },
            "source": [
                "***\n",
                "<img src=\"https://unskript.com/assets/favicon.png\" alt=\"unSkript.com\" width=\"100\" height=\"100\"/> \n",
                "<h1> unSkript Runbooks </h1>\n",
                "<div class=\"alert alert-block alert-success\">\n",
                "    <b> This runbook demonstrates the usage of K8S kubectl action.\n",
                "    Using this action, we can query the K8S cluster and find out pod(s) stuck in CrashLoopBackOff state.\n",
                "    </b>\n",
                "</div>\n",
                "\n",
                "<br>\n",
                "<center><h2>K8S Pod stuck in CrashLoopBackOff State</h2></center>\n",
                "\n",
                "A `CrashLoopBackOff` error occurs when a pod startup fails repeatedly in Kubernetes.\n",
                "\n",
                "    When running. a kubectl get pods command, you would see something like this\n",
                "    \n",
                "    NAME                     READY     STATUS             RESTARTS   AGE\n",
                "    nginx-7ef9efa7cd-qasd2   0/1       CrashLoopBackOff   2          1m\n",
                "    \n",
                "    Or\n",
                "    \n",
                "    NAME                     READY     STATUS                  RESTARTS   AGE\n",
                "    pod1-7ef9efa7cd-qasd2    0/2       Init:CrashLoopBackOff   2          1m\n",
                "    \n",
                "### Initial Steps\n",
                "    1. Create List of Pods in CrashLoopBackOff State\n",
                "    2. Gather Events information for these Pods\n",
                "    3. Examine Events\n",
                "    4. Collect Pod Exit Code\n",
                "    4.1. Examine Exit Code\n",
                "\n",
                "\n",
                "The original runbook is written by [Ian Miell](https://containersolutions.github.io/runbooks/posts/kubernetes/crashloopbackoff/)\n",
                "***"
            ]
        },
        {
            "cell_type": "markdown",
            "id": "aa4c4e14",
            "metadata": {},
            "source": [
                "### 1 Create List of Pods in CrashLoopBackOff State\n",
                "\n",
                "Here we will use unSkript's `k8s_kubectl_command` Lego to execute `kubectl get pods -n {namespace} | grep CrashLoopBackOff`\n",
                "Doing so we generate a list of PODS that are in `CrashLoopBackOff` state. Once the List is generated, it is saved as\n",
                "`unhealthyPods`, which we shall use it later in following cell."
            ]
        },
        {
            "cell_type": "code",
            "execution_count": 2,
            "id": "b9629be5-72f9-472a-bdd3-8f820559f256",
            "metadata": {
                "accessType": "ACCESS_TYPE_UNSPECIFIED",
                "actionBashCommand": false,
                "actionNeedsCredential": true,
                "actionSupportsIteration": true,
                "actionSupportsPoll": true,
                "action_uuid": "ae0b25757f0c6c0ca4b3aaf6feea636e3f193dc354f74823a7becd7d675becdc",
                "createTime": "1970-01-01T00:00:00Z",
                "credentialsJson": {},
                "currentVersion": "0.1.0",
                "description": "Kubectl command in python syntax.",
                "execution_data": {
                    "last_date_success_run_cell": "2022-06-09T21:56:41.956Z"
                },
                "id": 21,
                "index": 21,
                "inputData": [
                    {
                        "kubectl_command": {
                            "constant": false,
                            "value": "f\"kubectl get pods -n {namespace} | grep -i CrashLoopBackOff | cut -d' ' -f 1 | tr -d ' '\" "
                        }
                    }
                ],
                "inputschema": [
                    {
                        "properties": {
                            "kubectl_command": {
                                "description": "kubectl command eg \"kubectl get pods --all-namespaces\"",
                                "title": "Kubectl Command",
                                "type": "string"
                            }
                        },
                        "required": [
                            "kubectl_command"
                        ],
                        "title": "k8s_kubectl_command",
                        "type": "object"
                    }
                ],
                "jupyter": {
                    "source_hidden": true
                },
                "legotype": "LEGO_TYPE_K8S",
                "name": "0. Create List of Pods in CrashLoopBackOff State",
                "nouns": [
                    "command"
                ],
                "orderProperties": [
                    "kubectl_command"
                ],
                "output": {
                    "type": ""
                },
                "outputParams": {
                    "output_name": "unhealthyPods",
                    "output_name_enabled": true
                },
                "tags": [
                    "k8s_kubectl_command"
                ],
                "title": "0. Create List of Pods in CrashLoopBackOff State",
                "verbs": [
                    "execute"
                ]
            },
            "outputs": [],
            "source": [
                "#\n",
                "# Copyright (c) 2021 unSkript.com\n",
                "# All rights reserved.\n",
                "#\n",
                "\n",
                "from pydantic import BaseModel, Field\n",
                "\n",
                "\n",
                "from beartype import beartype\n",
                "\n",
                "def k8s_kubectl_command_printer(output):\n",
                "    if output is None:\n",
                "        return\n",
                "    print(output)\n",
                "\n",
                "@beartype\n",
                "def k8s_kubectl_command(handle, kubectl_command: str) -> str:\n",
                "\n",
                "    result = handle.run_native_cmd(kubectl_command)\n",
                "    if result is None or hasattr(result, \"stderr\") is False or result.stderr is None:\n",
                "        print(\n",
                "            f\"Error while executing command ({kubectl_command}): {result.stderr}\")\n",
                "        return None\n",
                "\n",
                "    return result.stdout\n",
                "\n",
                "\n",
                "task = Task(Workflow())\n",
                "task.configure(inputParamsJson='''{\n",
                "    \"kubectl_command\": \"f\\\\\"kubectl get pods -n {namespace} | grep -i CrashLoopBackOff | cut -d' ' -f 1 | tr -d ' '\\\\\" \"\n",
                "    }''')\n",
                "task.configure(outputName=\"unhealthyPods\")\n",
                "(err, hdl, args) = task.validate(vars=vars())\n",
                "if err is None:\n",
                "    task.execute(k8s_kubectl_command, hdl=hdl, args=args, lego_printer=k8s_kubectl_command_printer)"
            ]
        },
        {
            "cell_type": "markdown",
            "id": "b9bb7e1f",
            "metadata": {},
            "source": [
                "### 2 Gather Event information for these Pods\n",
                "\n",
                "Here we use unSkript `k8s_kubectl_command` to perform `kubectl describe pod` for each of the\n",
                "`unhealthyPods`, Grep the Events portion of the output and store it  as `describeOutput` variable.\n",
                "\n",
                "This cell also uses unSkript framework's `Start Condition` Feature. "
            ]
        },
        {
            "cell_type": "code",
            "execution_count": 3,
            "id": "5d45773d-cf52-4dcb-8a35-01219781cf8f",
            "metadata": {
                "accessType": "ACCESS_TYPE_UNSPECIFIED",
                "actionBashCommand": false,
                "actionNeedsCredential": true,
                "actionSupportsIteration": true,
                "actionSupportsPoll": true,
                "action_uuid": "ae0b25757f0c6c0ca4b3aaf6feea636e3f193dc354f74823a7becd7d675becdc",
                "condition_enabled": true,
                "createTime": "1970-01-01T00:00:00Z",
                "credentialsJson": {},
                "currentVersion": "0.1.0",
                "description": "Kubectl command in python syntax.",
                "execution_data": {
                    "last_date_success_run_cell": "2022-06-09T21:57:26.847Z"
                },
                "id": 21,
                "index": 21,
                "inputData": [
                    {
                        "kubectl_command": {
                            "constant": false,
                            "value": "f\"kubectl describe pod {unhealthyPods.strip()} -n {namespace} | grep -A 10 Events\" "
                        }
                    }
                ],
                "inputschema": [
                    {
                        "properties": {
                            "kubectl_command": {
                                "description": "kubectl command eg \"kubectl get pods --all-namespaces\"",
                                "title": "Kubectl Command",
                                "type": "string"
                            }
                        },
                        "required": [
                            "kubectl_command"
                        ],
                        "title": "k8s_kubectl_command",
                        "type": "object"
                    }
                ],
                "jupyter": {
                    "source_hidden": true
                },
                "legotype": "LEGO_TYPE_K8S",
                "name": "1. Gather Information",
                "nouns": [
                    "command"
                ],
                "orderProperties": [
                    "kubectl_command"
                ],
                "output": {
                    "type": ""
                },
                "outputParams": {
                    "output_name": "describeOutput",
                    "output_name_enabled": true
                },
                "startcondition": "unhealthyPods is not ''",
                "tags": [
                    "k8s_kubectl_command"
                ],
                "title": "1. Gather Information",
                "verbs": [
                    "execute"
                ]
            },
            "outputs": [],
            "source": [
                "#\n",
                "# Copyright (c) 2021 unSkript.com\n",
                "# All rights reserved.\n",
                "#\n",
                "\n",
                "from pydantic import BaseModel, Field\n",
                "\n",
                "\n",
                "from beartype import beartype\n",
                "\n",
                "def k8s_kubectl_command_printer(output):\n",
                "    if output is None:\n",
                "        return\n",
                "    print(output)\n",
                "\n",
                "@beartype\n",
                "def k8s_kubectl_command(handle, kubectl_command: str) -> str:\n",
                "\n",
                "    result = handle.run_native_cmd(kubectl_command)\n",
                "    if result is None or hasattr(result, \"stderr\") is False or result.stderr is None:\n",
                "        print(\n",
                "            f\"Error while executing command ({kubectl_command}): {result.stderr}\")\n",
                "        return None\n",
                "\n",
                "    return result.stdout\n",
                "\n",
                "\n",
                "task = Task(Workflow())\n",
                "task.configure(inputParamsJson='''{\n",
                "    \"kubectl_command\": \"f\\\\\"kubectl describe pod {unhealthyPods.strip()} -n {namespace} | grep -A 10 Events\\\\\" \"\n",
                "    }''')\n",
                "task.configure(conditionsJson='''{\n",
                "    \"condition_enabled\": true,\n",
                "    \"condition_cfg\": \"unhealthyPods is not ''\",\n",
                "    \"condition_result\": true\n",
                "    }''')\n",
                "task.configure(outputName=\"describeOutput\")\n",
                "(err, hdl, args) = task.validate(vars=vars())\n",
                "if err is None:\n",
                "    task.execute(k8s_kubectl_command, hdl=hdl, args=args, lego_printer=k8s_kubectl_command_printer)\n"
            ]
        },
        {
            "cell_type": "markdown",
            "id": "2fab016c",
            "metadata": {},
            "source": [
                "### 3 Examine Events\n",
                "\n",
                "Here we construct a `custom cell` where we examine the `describeOutput` variable from step-2."
            ]
        },
        {
            "cell_type": "code",
            "execution_count": 4,
            "id": "6a08134c-e35f-48da-a687-cb1b3bb4a91a",
            "metadata": {
                "execution_data": {
                    "last_date_success_run_cell": "2022-06-09T21:57:43.725Z"
                },
                "jupyter": {
                    "source_hidden": true
                },
                "name": "2. Examine Events",
                "orderProperties": [],
                "tags": [],
                "title": "2. Examine Events"
            },
            "outputs": [],
            "source": [
                "import re\n",
                "\n",
                "\"\"\"\n",
                "This Custom Action searches Known errors in the describeOutput variable.\n",
                "This lego \n",
                "\"\"\"\n",
                "\n",
                "\n",
                "def check_msg(msg):\n",
                "    return re.search(msg, describeOutput)\n",
                "\n",
                "if ('describeOutput' not in globals()):\n",
                "    pass\n",
                "else:\n",
                "    print(\"Processing Events...\")\n",
                "    result = check_msg(\"Back-off restarting failed container\")\n",
                "    if result is not None:\n",
                "        print(\"Confirming the POD(s) is in Back-Off restarting state\")"
            ]
        },
        {
            "cell_type": "markdown",
            "id": "1141bfe2",
            "metadata": {},
            "source": [
                "### 4 Collect Pod Exit Code\n",
                "\n",
                "Here again we use unSkript `k8s_kubectl_command` lego to perform `kubectl describe pod` and\n",
                "extract the Pod Exit Code. Pod Exit Code gives us clues as to why the Pod was stuck in\n",
                "the `CrashLoopBackOff` State. We use the `Start Condition` Feature as well in this cell."
            ]
        },
        {
            "cell_type": "code",
            "execution_count": 5,
            "id": "e7c7390c-bb8d-4f26-b482-ebff4a349853",
            "metadata": {
                "accessType": "ACCESS_TYPE_UNSPECIFIED",
                "actionBashCommand": false,
                "actionNeedsCredential": true,
                "actionSupportsIteration": true,
                "actionSupportsPoll": true,
                "action_uuid": "ae0b25757f0c6c0ca4b3aaf6feea636e3f193dc354f74823a7becd7d675becdc",
                "condition_enabled": true,
                "createTime": "1970-01-01T00:00:00Z",
                "credentialsJson": {},
                "currentVersion": "0.1.0",
                "description": "Kubectl command in python syntax.",
                "execution_data": {
                    "last_date_success_run_cell": "2022-06-09T21:58:32.228Z"
                },
                "id": 21,
                "index": 21,
                "inputData": [
                    {
                        "kubectl_command": {
                            "constant": false,
                            "value": "f\"kubectl describe pod {unhealthyPods.strip()} -n {namespace} | grep \\\\\"Exit Code\\\\\" | cut -d':' -f 2 | tr -d ' '\""
                        }
                    }
                ],
                "inputschema": [
                    {
                        "properties": {
                            "kubectl_command": {
                                "description": "kubectl command eg \"kubectl get pods --all-namespaces\"",
                                "title": "Kubectl Command",
                                "type": "string"
                            }
                        },
                        "required": [
                            "kubectl_command"
                        ],
                        "title": "k8s_kubectl_command",
                        "type": "object"
                    }
                ],
                "jupyter": {
                    "source_hidden": true
                },
                "legotype": "LEGO_TYPE_K8S",
                "name": "3. Collect Pod Exit Code",
                "nouns": [
                    "command"
                ],
                "orderProperties": [
                    "kubectl_command"
                ],
                "output": {
                    "type": ""
                },
                "outputParams": {
                    "output_name": "exitCode",
                    "output_name_enabled": true
                },
                "startcondition": "unhealthyPods is not ''",
                "tags": [
                    "k8s_kubectl_command"
                ],
                "title": "3. Collect Pod Exit Code",
                "verbs": [
                    "execute"
                ]
            },
            "outputs": [],
            "source": [
                "#\n",
                "# Copyright (c) 2021 unSkript.com\n",
                "# All rights reserved.\n",
                "#\n",
                "\n",
                "from pydantic import BaseModel, Field\n",
                "\n",
                "\n",
                "from beartype import beartype\n",
                "\n",
                "def k8s_kubectl_command_printer(output):\n",
                "    if output is None:\n",
                "        return\n",
                "    print(output)\n",
                "\n",
                "@beartype\n",
                "def k8s_kubectl_command(handle, kubectl_command: str) -> str:\n",
                "\n",
                "    result = handle.run_native_cmd(kubectl_command)\n",
                "    if result is None or hasattr(result, \"stderr\") is False or result.stderr is None:\n",
                "        print(\n",
                "            f\"Error while executing command ({kubectl_command}): {result.stderr}\")\n",
                "        return None\n",
                "\n",
                "    return result.stdout\n",
                "\n",
                "\n",
                "task = Task(Workflow())\n",
                "task.configure(inputParamsJson='''{\n",
                "    \"kubectl_command\": \"f\\\\\"kubectl describe pod {unhealthyPods.strip()} -n {namespace} | grep \\\\\"Exit Code\\\\\" | cut -d':' -f 2 | tr -d ' '\\\\\"\"\n",
                "    }''')\n",
                "task.configure(conditionsJson='''{\n",
                "    \"condition_enabled\": true,\n",
                "    \"condition_cfg\": \"unhealthyPods is not ''\",\n",
                "    \"condition_result\": true\n",
                "    }''')\n",
                "task.configure(outputName=\"exitCode\")\n",
                "\n",
                "(err, hdl, args) = task.validate(vars=vars())\n",
                "if err is None:\n",
                "    task.execute(k8s_kubectl_command, hdl=hdl, args=args, lego_printer=k8s_kubectl_command_printer)"
            ]
        },
        {
            "cell_type": "markdown",
            "id": "12a14bec",
            "metadata": {},
            "source": [
                "### 4.1 Examine the Exit Code\n",
                "\n",
                "In this `custom cell` we go through all possible values of the exit-code and identify\n",
                "what are the possible causes for the Pod to be in the errored state. We also display \n",
                "Helpful information related to each exit-code. "
            ]
        },
        {
            "cell_type": "code",
            "execution_count": 6,
            "id": "6c8adc48-7c21-40cc-8dbc-77a9d46843fc",
            "metadata": {
                "execution_data": {
                    "last_date_success_run_cell": "2022-06-09T21:58:38.273Z"
                },
                "jupyter": {
                    "source_hidden": true
                },
                "name": "3.1 Examine Exit Code",
                "orderProperties": [],
                "tags": [],
                "title": "3.1 Examine Exit Code"
            },
            "outputs": [],
            "source": [
                "from IPython.display import Markdown as md\n",
                "\n",
                "# if repoLocation is not None:\n",
                "#     display(md(f\"**Please verify {repoLocation} is accessible from the K8S POD**\"))\n",
                "\n",
                "if 'exitCode' not in globals():\n",
                "    pass\n",
                "else:\n",
                "    exitCode = int(exitCode)\n",
                "    if exitCode == 0:\n",
                "        display(md(\"Exit code 0 implies that the specified container command completed\"))\n",
                "        display(md(\"Successfully, but too often for Kubernetes to accept as working.\"))\n",
                "        display(md(\"\"))\n",
                "        display(md(\"Did you fail to specify a command in the POD Spec, and the container ran\"))\n",
                "        display(md(\"a default shell command that failed? If so, you will need to fix the command\"))\n",
                "    elif exitCode == 1:\n",
                "        display(md(\"The container failed to run its command successfully, and returned\"))\n",
                "        display(md(\"an exit code 1. This is an application failure within the process\"))\n",
                "        display(md(\"that was started, but return with a failing exit code some time after.\"))\n",
                "        display(md(\"\"))\n",
                "        display(md(\"If this is happening only with all pods running on your cluster, then\"))\n",
                "        display(md(\"there may be a problem with your nodes. Check Nodes are OK on your cluster\"))\n",
                "        display(md(\"with kubectl get nodes -o wide command\"))\n",
                "    elif exitCode == 2:\n",
                "        display(md(\"An exit code of 2 indicates either that the application chose to return\"))\n",
                "        display(md(\"that error code, or there was a misuse of a shell builtin. Check your\"))\n",
                "        display(md(\"pod's command specification to ensure that the command is correct.\"))\n",
                "        display(md(\"If you think it is correct, try running the image locally with a shell\"))\n",
                "        display(md(\"and run the command directly.\"))\n",
                "    elif exitCode == 128:\n",
                "        display(md(\"An exit code of 128 indicates that the container could not run. Check this\"))\n",
                "        display(md(\"by kubectl describe pod command, check to see if LastState Reason is\"))\n",
                "        display(md(\"ContainerCannotRun.\"))\n",
                "    elif exitCode == 137:\n",
                "        display(md(\"This indicates that the container was killed with Signal 9\"))\n",
                "        display(md(\"This can be due to One of these reasons:\"))\n",
                "        display(md(\"    1. Container ran out of Memory\"))\n",
                "        display(md(\"    2. The OOMKiller killed the container\"))\n",
                "        display(md(\"    3. The liveness probe failed. Check liveness and readiness probes\"))\n",
                "    else:\n",
                "        display(md(\"Some common application problem to consider are\"))\n",
                "        display(md(\"    1. Priveleged access to function. By setting allowPrivelegeEscalation\"))\n",
                "        display(md(\"    2. SELinux or AppArmor controls may be preventing your application to run\"))\n",
                "        \n",
                "\n",
                "    display(md(\">You can use kubectl get pods command to verify after you fix the issue\"))"
            ]
        },
        {
            "cell_type": "markdown",
            "id": "9f25b4b7",
            "metadata": {},
            "source": [
                "### Conclusion\n",
                "\n",
                "This Runbook demonstrated the use of unSkript `k8s_kubectl_command` Lego with `Start Condition` feature to\n",
                "come up with a non-trivial workflow. You can find more such Runbooks and useful information about\n",
                "the Platform capabilities at `https://unskript.com` "
            ]
        }
    ],
    "metadata": {
        "execution_data": {
            "environment_id": "1b032d60-0671-498f-a117-6c2f355648fe",
            "environment_name": "SingleAMIInstance",
            "execution_id": "9c40eb61-342c-40fa-bc21-aebf097ca94f",
            "inputs_for_searched_lego": "",
            "notebook_id": "workflow.ipynb",
            "parameters": [
                "namespace"
            ],
            "runbook_name": "K8S Pod in CrashLoopBack State",
            "search_string": "",
            "show_tool_tip": false,
            "tenant_id": "117718cf-b601-4a00-9164-3e4311468e45",
            "tenant_url": "https://tenant-jayasimha.dev.unskript.io",
            "user_email_id": "jayasimha@unskript.com",
            "workflow_id": "47379bbb-e4f4-4ebc-90a2-cff6a04b4d47"
        },
        "kernelspec": {
            "display_name": "Python 3.8.2 64-bit",
            "language": "python",
            "name": "python3"
        },
        "language_info": {
            "file_extension": ".py",
            "mimetype": "text/x-python",
            "name": "python",
            "pygments_lexer": "ipython3",
            "version": "3.8.2"
        },
        "parameterSchema": {
            "properties": {
                "namespace": {
                    "description": "K8S Namespace",
                    "title": "namespace",
                    "type": "string"
                }
            },
            "required": [
                "namespace"
            ],
            "title": "Schema",
            "type": "object"
        },
        "parameterValues": {
            "namespace": "sbox-jayasimha"
        },
        "vscode": {
            "interpreter": {
                "hash": "31f2aee4e71d21fbe5cf8b01ff0e069b9275f58929596ceb00d14d90e3e16cd6"
            }
        }
    },
    "nbformat": 4,
    "nbformat_minor": 5
}
