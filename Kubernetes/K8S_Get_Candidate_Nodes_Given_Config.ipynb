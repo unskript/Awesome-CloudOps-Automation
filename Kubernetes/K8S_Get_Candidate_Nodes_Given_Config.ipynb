{
 "cells": [
  {
   "cell_type": "markdown",
   "id": "5f2fac7e",
   "metadata": {
    "jupyter": {
     "source_hidden": false
    },
    "name": "Runbook Overview",
    "orderProperties": [],
    "tags": [],
    "title": "Runbook Overview"
   },
   "source": [
    "<center><img src=\"https://storage.googleapis.com/unskript-website/assets/favicon.png\" alt=\"unSkript.com\" width=\"100\" height=\"100\">\n",
    "<h1 id=\"unSkript-Runbooks\">unSkript Runbooks</h1>\n",
    "<div class=\"alert alert-block alert-success\">\n",
    "<h3 id=\"Objective\"><strong>Objective</strong></h3>\n",
    "<strong>To get candidate k8s nodes for a given configuration using unSkript actions.</strong></div>\n",
    "</center><center>\n",
    "<h2 id=\"Get-Candidate-k8s-Nodes-For-Given-Configuration\">Get Candidate k8s Nodes For Given Configuration</h2>\n",
    "</center>\n",
    "<h1 id=\"Steps-Overview\">Steps Overview</h1>\n",
    "<p>1. Get the matching nodes for a given configuration<code>\n",
    "</code></p>"
   ]
  },
  {
   "attachments": {},
   "cell_type": "markdown",
   "id": "d84b6f44",
   "metadata": {
    "name": "Step-1",
    "orderProperties": [],
    "tags": [],
    "title": "Step-1"
   },
   "source": [
    "<h3 id=\"Get-candidate-k8s-nodes-for-the-given-configuration\">Get candidate k8s nodes for the given configuration</h3>\n",
    "<p>Here we will use unSkript <strong>Get candidate k8s nodes for the given configuration</strong> action. This action is used to find out matching nodes for a given configuration.</p>\n",
    "<blockquote>\n",
    "<p><strong>Input parameters:</strong> <code>cpu_limit, memory_limit, pod_limit</code></p>\n",
    "</blockquote>\n",
    "<blockquote>\n",
    "<p><strong>Output variable:</strong> <code>candidate_nodes</code></p>\n",
    "</blockquote>\n",
    "<p>&nbsp;</p>"
   ]
  },
  {
   "cell_type": "code",
   "execution_count": 43,
   "id": "faff16f3-a562-4d4e-804c-c509efee3cec",
   "metadata": {
    "accessType": "ACCESS_TYPE_UNSPECIFIED",
    "actionBashCommand": false,
    "actionNeedsCredential": true,
    "actionSupportsIteration": true,
    "actionSupportsPoll": true,
    "action_uuid": "5326cf5d52f4d62391e32a4290dcca4ac6f023218b01aefcc5be2765391e7ea2",
    "collapsed": true,
    "continueOnError": false,
    "createTime": "1970-01-01T00:00:00Z",
    "credentialsJson": {},
    "currentVersion": "0.1.0",
    "description": "Get candidate k8s nodes for given configuration",
    "execution_data": {
     "last_date_success_run_cell": "2023-02-13T10:59:51.802Z"
    },
    "id": 34,
    "index": 34,
    "inputData": [
     {
      "cpu_limit": {
       "constant": false,
       "value": "int(cpu_limit)"
      },
      "memory_limit": {
       "constant": false,
       "value": "memory_limit"
      },
      "pod_limit": {
       "constant": false,
       "value": "int(pod_limit)"
      }
     }
    ],
    "inputschema": [
     {
      "properties": {
       "cpu_limit": {
        "default": 0,
        "description": "CPU Limit. Eg 2",
        "title": "CPU Limit",
        "type": "integer"
       },
       "memory_limit": {
        "default": "",
        "description": "Limits and requests for memory are measured in bytes. Accept the store in Mi. Eg 123Mi",
        "title": "Memory Limit (Mi)",
        "type": "string"
       },
       "pod_limit": {
        "default": 0,
        "description": "Pod Limit. Eg 2",
        "title": "Number of Pods to attach",
        "type": "integer"
       }
      },
      "title": "k8s_get_candidate_nodes_for_pods",
      "type": "object"
     }
    ],
    "jupyter": {
     "outputs_hidden": true,
     "source_hidden": true
    },
    "legotype": "LEGO_TYPE_K8S",
    "name": "Get candidate k8s nodes for given configuration",
    "nouns": [
     "candidate",
     "nodes",
     "configuration"
    ],
    "orderProperties": [
     "cpu_limit",
     "memory_limit",
     "pod_limit"
    ],
    "output": {
     "type": ""
    },
    "outputParams": {
     "output_name": "candidate_nodes",
     "output_name_enabled": true
    },
    "printOutput": true,
    "tags": [
     "k8s_get_candidate_nodes_for_pods"
    ],
    "title": "Get candidate k8s nodes for given configuration",
    "trusted": true,
    "verbs": [
     "get"
    ]
   },
   "outputs": [],
   "source": [
    "##\n",
    "# Copyright (c) 2021 unSkript, Inc\n",
    "# All rights reserved.\n",
    "##\n",
    "\n",
    "import pprint\n",
    "from typing import Optional\n",
    "\n",
    "from kubernetes import client\n",
    "from pydantic import BaseModel, Field\n",
    "from tabulate import tabulate\n",
    "\n",
    "pp = pprint.PrettyPrinter(indent=2)\n",
    "\n",
    "\n",
    "from beartype import beartype\n",
    "@beartype\n",
    "def k8s_get_candidate_nodes_for_pods(handle, cpu_limit: int = 0, memory_limit: str = \"\", pod_limit: int = 0):\n",
    "\n",
    "    coreApiClient = client.CoreV1Api(api_client=handle)\n",
    "\n",
    "    nodes = coreApiClient.list_node()\n",
    "    match_nodes = [node for node in nodes.items if\n",
    "                   (cpu_limit < int(node.status.capacity.get(\"cpu\", 0))) and\n",
    "                   (pod_limit < int(node.status.capacity.get(\"pods\", 0))) and\n",
    "                   int(memory_limit.split(\"Mi\")[0]) < (int(node.status.capacity.get(\"memory\").split(\"Ki\")[0]) / 1024)]\n",
    "\n",
    "    if len(match_nodes) > 0:\n",
    "        data = []\n",
    "\n",
    "        for node in match_nodes:\n",
    "            node_capacity = []\n",
    "            node_capacity.append(node.metadata.name)\n",
    "            for capacity in node.status.capacity.values():\n",
    "                node_capacity.append(capacity)\n",
    "            data.append(node_capacity)\n",
    "\n",
    "        print(\"\\n\")\n",
    "        print(tabulate(data, tablefmt=\"grid\", headers=[\"Name\", \"cpu\", \"ephemeral-storage\",\n",
    "                                                       \"hugepages-1Gi\", \"hugepages-2Mi\", \"memory\", \"pods\"]))\n",
    "        return match_nodes\n",
    "\n",
    "    pp.pprint(\"No Matching Nodes Found for this spec\")\n",
    "    return None\n",
    "\n",
    "\n",
    "task = Task(Workflow())\n",
    "task.configure(outputName=\"candidate_nodes\")\n",
    "task.configure(inputParamsJson='''{\n",
    "    \"cpu_limit\": \"int(cpu_limit)\",\n",
    "    \"memory_limit\": \"memory_limit\",\n",
    "    \"pod_limit\": \"int(pod_limit)\"\n",
    "    }''')\n",
    "task.configure(printOutput=True)\n",
    "\n",
    "(err, hdl, args) = task.validate(vars=vars())\n",
    "if err is None:\n",
    "    task.output = task.execute(k8s_get_candidate_nodes_for_pods, hdl=hdl, args=args)\n",
    "    if task.output_name != None:\n",
    "        globals().update({task.output_name: task.output[0]})\n",
    "\n",
    "if hasattr(task, 'output'):\n",
    "    if isinstance(task.output, (list, tuple)):\n",
    "        for item in task.output:\n",
    "            print(f'item: {item}')\n",
    "    elif isinstance(task.output, dict):\n",
    "        for item in task.output.items():\n",
    "            print(f'item: {item}')\n",
    "    else:\n",
    "        print(f'Output for {task.name}')\n",
    "        print(task.output)\n",
    "    w.tasks[task.name]= task.output"
   ]
  },
  {
   "cell_type": "markdown",
   "id": "2a154136",
   "metadata": {
    "name": "Conclusion",
    "orderProperties": [],
    "tags": [],
    "title": "Conclusion"
   },
   "source": [
    "<h3 id=\"Conclusion\">Conclusion</h3>\n",
    "<p>In this Runbook, we demonstrated the use of unSkript's k8s legos to run k8s configuration and get the matching nodes for a given configuration (storage, CPU, memory, pod_limit). To view the full platform capabilities of unSkript please visit&nbsp;<a href=\"https://us.app.unskript.io\" target=\"_blank\" rel=\"noopener\">https://us.app.unskript.io</a></p>"
   ]
  }
 ],
 "metadata": {
  "execution_data": {
   "runbook_name": "k8s: Get candidate nodes for given configuration",
   "parameters": [
    "cpu_limit",
    "ebs_limit",
    "memory_limit",
    "pod_limit"
   ]
  },
  "kernelspec": {
   "display_name": "unSkript (Build: 839)",
   "name": "python_kubernetes"
  },
  "language_info": {
   "file_extension": ".py",
   "mimetype": "text/x-python",
   "name": "python",
   "pygments_lexer": "ipython3"
  },
  "parameterSchema": {
   "properties": {
    "cpu_limit": {
     "default": 1,
     "description": "CPU Limit. Eg 2",
     "title": "cpu_limit",
     "type": "number"
    },
    "ebs_limit": {
     "default": 1,
     "description": "EBS Volume Limit in Gb. Eg 25",
     "title": "ebs_limit",
     "type": "number"
    },
    "memory_limit": {
     "default": "65Mi",
     "description": "Memory limits and requests are measured in bytes. Eg 64Mi",
     "title": "memory_limit",
     "type": "string"
    },
    "pod_limit": {
     "default": 1,
     "description": "Limit on pods",
     "title": "pod_limit",
     "type": "number"
    }
   },
   "required": [],
   "title": "Schema",
   "type": "object"
  },
  "parameterValues": {
   "cpu_limit": 1,
   "ebs_limit": 1,
   "memory_limit": "65Mi",
   "pod_limit": 1
  }
 },
 "nbformat": 4,
 "nbformat_minor": 5
}