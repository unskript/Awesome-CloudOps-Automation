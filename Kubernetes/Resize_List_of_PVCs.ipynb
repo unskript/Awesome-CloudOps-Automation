{
 "cells": [
  {
   "cell_type": "markdown",
   "id": "16182e50-b995-4f61-a140-30c3f4902837",
   "metadata": {
    "jupyter": {
     "source_hidden": false
    },
    "name": "Steps Overview",
    "orderProperties": [],
    "tags": [],
    "title": "Steps Overview"
   },
   "source": [
    "<hr><center><img src=\"https://storage.googleapis.com/unskript-website/assets/favicon.png\" alt=\"unSkript.com\" width=\"100\" height=\"100\">\n",
    "<h1 id=\"unSkript-Runbooks&para;\">unSkript Runbooks</h1>\n",
    "<div class=\"alert alert-block alert-success\">\n",
    "<h3 id=\"Objective&para;\">Objective</h3>\n",
    "<br><strong style=\"color: #000000;\"><em>Resize List of PVC</em></strong></div>\n",
    "</center>\n",
    "<p>&nbsp;</p>\n",
    "<center>\n",
    "<h2 id=\"Resize-PVC&para;\"><u>Resize List of PVC</u></h2>\n",
    "</center>\n",
    "<h1 id=\"Steps-Overview&para;\">Steps Overview</h1>\n",
    "<p><a href=\"#1\" target=\"_self\" rel=\"noopener\">1)&nbsp;</a><a href=\"#2\">List PVCs</a><a href=\"#1\" target=\"_self\" rel=\"noopener\"><br>2)&nbsp;</a><a href=\"#2\" target=\"_self\" rel=\"noopener\">Call Resize PVC Runbook</a></p>\n",
    "<hr>"
   ]
  },
  {
   "cell_type": "markdown",
   "id": "16f384c9-d833-4613-a946-732e6b31f727",
   "metadata": {
    "jupyter": {
     "source_hidden": false
    },
    "name": "Step 1",
    "orderProperties": [],
    "tags": [],
    "title": "Step 1"
   },
   "source": [
    "<h3 id=\"Get-storage-class-for-PVC\">List PVC</h3>\n",
    "<p>This action fetches a list of PVC</p>\n",
    "<blockquote>\n",
    "<p>This action takes the following parameters:<code> Namespace(optional)</code></p>\n",
    "</blockquote>\n",
    "<blockquote>\n",
    "<p>This action captures the following ouput: <code>pvcsList</code></p>\n",
    "</blockquote>"
   ]
  },
  {
   "cell_type": "code",
   "execution_count": null,
   "id": "c6d4498e-8d97-4790-87ff-090a7846ccd6",
   "metadata": {
    "accessType": "ACCESS_TYPE_UNSPECIFIED",
    "actionBashCommand": false,
    "actionCategories": [],
    "actionIsCheck": false,
    "actionNeedsCredential": true,
    "actionNextHop": [],
    "actionNextHopParameterMapping": {},
    "actionOutputType": "",
    "actionRequiredLinesInCode": [],
    "actionSupportsIteration": true,
    "actionSupportsPoll": true,
    "action_modified": false,
    "action_uuid": "0c96676c124796bc48e751c641ea0ccc722e7d29f1ffe665fe756a7106d756c5",
    "checkEnabled": false,
    "collapsed": true,
    "createTime": "1970-01-01T00:00:00Z",
    "currentVersion": "0.1.0",
    "description": "List pvcs by namespace. By default, it will list all pvcs in all namespaces.",
    "id": 48,
    "index": 48,
    "inputschema": [
     {
      "properties": {
       "namespace": {
        "default": "",
        "description": "Kubernetes namespace",
        "title": "Namespace",
        "type": "string"
       }
      },
      "title": "k8s_list_pvcs",
      "type": "object"
     }
    ],
    "isUnskript": false,
    "jupyter": {
     "outputs_hidden": true,
     "source_hidden": true
    },
    "legotype": "LEGO_TYPE_K8S",
    "name": "List pvcs",
    "nouns": [],
    "orderProperties": [
     "namespace"
    ],
    "output": {
     "type": ""
    },
    "outputParams": {
     "output_name": "pvcsList",
     "output_name_enabled": true
    },
    "printOutput": true,
    "tags": [
     "k8s_list_pvcs"
    ],
    "verbs": [],
    "credentialsJson": {}
   },
   "outputs": [],
   "source": [
    "#\n",
    "# Copyright (c) 2021 unSkript.com\n",
    "# All rights reserved.\n",
    "#\n",
    "import pprint\n",
    "from pydantic import BaseModel, Field\n",
    "from typing import Optional, List, Tuple\n",
    "\n",
    "from beartype import beartype\n",
    "@beartype\n",
    "def k8s_list_pvcs_printer(output):\n",
    "    if output is None:\n",
    "        return\n",
    "\n",
    "    pprint.pprint(output)\n",
    "\n",
    "@beartype\n",
    "def k8s_list_pvcs(handle, namespace: str = '') -> List:\n",
    "    \"\"\"k8s_list_pvcs list pvcs\n",
    "\n",
    "        :type handle: object\n",
    "        :param handle: Object returned from the Task validate method\n",
    "\n",
    "        :type namespace: str\n",
    "        :param namespace: Kubernetes namespace.\n",
    "\n",
    "        :rtype: List\n",
    "    \"\"\"\n",
    "    if namespace == '':\n",
    "        kubectl_command = 'kubectl get pvc -A --output=jsonpath=\\'{range .items[*]}{@.metadata.namespace}{\",\"}{@.metadata.name}{\"\\\\n\"}{end}\\''\n",
    "    else:\n",
    "        kubectl_command = 'kubectl get pvc -n ' + namespace + ' --output=jsonpath=\\'{range .items[*]}{@.metadata.namespace}{\",\"}{@.metadata.name}{\"\\\\n\"}{end}\\''\n",
    "    result = handle.run_native_cmd(kubectl_command)\n",
    "    if result is None or hasattr(result, \"stderr\") is False or result.stderr is None:\n",
    "        print(\n",
    "            f\"Error while executing command ({kubectl_command}): {result.stderr}\")\n",
    "        return []\n",
    "    names_list = [y for y in (x.strip() for x in result.stdout.splitlines()) if y]\n",
    "    output = []\n",
    "    for i in names_list:\n",
    "        ns, name = i.split(\",\")\n",
    "        output.append({\"Namespace\": ns, \"Name\":name})\n",
    "    return output\n",
    "\n",
    "\n",
    "task = Task(Workflow())\n",
    "task.configure(outputName=\"pvcsList\")\n",
    "\n",
    "task.configure(printOutput=True)\n",
    "(err, hdl, args) = task.validate(vars=vars())\n",
    "if err is None:\n",
    "    task.execute(k8s_list_pvcs, lego_printer=k8s_list_pvcs_printer, hdl=hdl, args=args)"
   ]
  },
  {
   "cell_type": "markdown",
   "id": "e344354c-6a1b-4622-b83a-3f8cefb5791d",
   "metadata": {
    "jupyter": {
     "source_hidden": false
    },
    "name": "Step 1A",
    "orderProperties": [],
    "tags": [],
    "title": "Step 1A"
   },
   "source": [
    "<p>Convert <code>Value</code> to float</p>"
   ]
  },
  {
   "cell_type": "code",
   "execution_count": 20,
   "id": "b7868ed9-03d6-4b39-a840-0db2bba2b7a7",
   "metadata": {
    "actionNeedsCredential": true,
    "actionSupportsIteration": true,
    "actionSupportsPoll": true,
    "jupyter": {
     "source_hidden": true
    },
    "name": "Convert Value to float",
    "orderProperties": [],
    "tags": [],
    "title": "Convert Value to float",
    "credentialsJson": {}
   },
   "outputs": [],
   "source": [
    "Value = float(Value)"
   ]
  },
  {
   "cell_type": "markdown",
   "id": "5d115afd-91ea-46f4-a1a6-c3bf6bad3ac1",
   "metadata": {
    "jupyter": {
     "source_hidden": false
    },
    "name": "Step 2",
    "orderProperties": [],
    "tags": [],
    "title": "Step 2"
   },
   "source": [
    "<h3 id=\"Get-storage-class-details\">Call Resize PVC runbook</h3>\n",
    "<p>This custom action makes an API call to the resize PVC runbook with the list of PVCs obtained from Step 1.</p>"
   ]
  },
  {
   "cell_type": "code",
   "execution_count": 21,
   "id": "46616499-6e96-462c-b9fc-b16b2538d6b2",
   "metadata": {
    "actionNeedsCredential": true,
    "actionSupportsIteration": true,
    "actionSupportsPoll": true,
    "jupyter": {
     "source_hidden": true
    },
    "name": "Call Resize PVC runbook",
    "orderProperties": [],
    "tags": [],
    "title": "Call Resize PVC runbook",
    "credentialsJson": {}
   },
   "outputs": [],
   "source": [
    "##\n",
    "# Copyright (c) 2021 unSkript, Inc\n",
    "# All rights reserved.\n",
    "##\n",
    "from pydantic import BaseModel, Field\n",
    "from unskript.connectors.infra import InfraConnector\n",
    "from typing import Optional\n",
    "import requests\n",
    "from polling2 import poll_decorator\n",
    "import html_to_json\n",
    "import uuid \n",
    "\n",
    "class Schema(BaseModel):\n",
    "    Namespace: Optional[str] = Field(\n",
    "        None, description='Namespace of the PVC', title='Namespace'\n",
    "    )\n",
    "    PVCName: Optional[str] = Field(None, description='Name of the PVC', title='PVCName')\n",
    "    ResizeOption: Optional[str] = Field(\n",
    "        'Add',\n",
    "        description='Option to resize the volume. 2 options supported:             1. Add - Use this option to resize by an amount.             2. Multiple - Use this option if you want to resize by a multiple of the current volume size.',\n",
    "        title='ResizeOption',\n",
    "    )\n",
    "    RestartPodsAfterResize: Optional[bool] = Field(\n",
    "        False,\n",
    "        description='Restart the pods after PVC resize',\n",
    "        title='RestartPodsAfterResize',\n",
    "    )\n",
    "    Channel: Optional[str] = Field(\n",
    "        None,\n",
    "        description='Slack Channel name where notification will be send.',\n",
    "        title='SlackChannelName',\n",
    "    )\n",
    "    Value: Optional[float] = Field(\n",
    "        None,\n",
    "        description='Based on the resize option chosen, specify the value. For eg, if you chose Add option, this             value will be a value in Gb (like 100). If you chose, this value will be a multiplying factor             to the current volume size. For eg, to double, specify value as 2.',\n",
    "        title='Value',\n",
    "    )\n",
    "\n",
    "@poll_decorator(step=10, timeout=60, check_success=lambda x: x is True)\n",
    "def checkExecutionStatus(handle, tenantID, executionID) -> bool:\n",
    "    print(f'Checking execution status')\n",
    "    url = f'{env[\"TENANT_URL\"]}/executions/{executionID}'\n",
    "    try:\n",
    "        resp = handle.request('GET', url, params={'tenant_id': tenantID, \"summary\": True})\n",
    "        resp.raise_for_status()\n",
    "    except Exception as e:\n",
    "        print(f'Get execution {executionID} failed, {e}')\n",
    "        return False\n",
    "\n",
    "    try:\n",
    "        result = resp.json()\n",
    "    except Exception:\n",
    "        result = html_to_json.convert(resp.content)\n",
    "    if result['execution']['executionStatus'] == \"EXECUTION_STATUS_SUCCEEDED\" or result['execution']['executionStatus'] == \"EXECUTION_STATUS_FAILED\":\n",
    "        return True\n",
    "    else:\n",
    "        return False\n",
    "\n",
    "\n",
    "from beartype import beartype\n",
    "@beartype\n",
    "def call_pvc_resize_runbook(handle: InfraConnector, Namespace: str, PVCName: str, ResizeOption: str, RestartPodsAfterResize:bool, Value: float, Channel: str = None):\n",
    "    workflowIDToBeCalled = RunbookID\n",
    "    apiToken = APIToken\n",
    "    tenantID = env['TENANT_ID']\n",
    "    environmentID = env['ENVIRONMENT_ID']\n",
    "    userID = \"Bot-user\"\n",
    "\n",
    "    params = Schema()\n",
    "    params.Namespace = Namespace\n",
    "    params.PVCName = PVCName\n",
    "    params.Value = Value\n",
    "    params.ResizeOption = ResizeOption\n",
    "    params.Channel = Channel\n",
    "    payload = {\n",
    "        \"req_hdr\": {\n",
    "            \"tid\": str(uuid.uuid4())\n",
    "        },\n",
    "        \"tenant_id\": tenantID,\n",
    "        \"environment_id\": environmentID,\n",
    "        \"user_id\": userID,\n",
    "        \"params\": params.json()\n",
    "    }\n",
    "    handle = requests.Session()\n",
    "    authHeader = f'unskript-sha {apiToken}'\n",
    "    handle.headers.update({'Authorization': authHeader})\n",
    "    url = f'{env[\"TENANT_URL\"]}/workflows/{workflowIDToBeCalled}/run'\n",
    "\n",
    "    try:\n",
    "        resp = handle.request('POST', url, json=payload)\n",
    "        resp.raise_for_status()\n",
    "    except Exception as e:\n",
    "        print(f'Workflow run failed, {e}')\n",
    "        raise e\n",
    "\n",
    "    try:\n",
    "        result = resp.json()\n",
    "    except Exception:\n",
    "        result = html_to_json.convert(resp.content)\n",
    "\n",
    "    executionID = result['executionId']\n",
    "    print(f'ExecutionID {executionID}')\n",
    "\n",
    "    try:\n",
    "        checkExecutionStatus(handle, tenantID, executionID)\n",
    "    except Exception as e:\n",
    "        handle.close()\n",
    "        print(f'Check execution status for {executionID} failed, {e}')\n",
    "        raise e\n",
    "\n",
    "    handle.close()\n",
    "    return\n",
    "\n",
    "task = Task(Workflow())\n",
    "task.configure(inputParamsJson='''{\n",
    "    \"Namespace\": {\n",
    "        \"constant\": false,\n",
    "        \"value\": \"iter.get(\\\\\\\"Namespace\\\\\\\")\"\n",
    "    },\n",
    "    \"PVCName\": {\n",
    "        \"constant\": false,\n",
    "        \"value\": \"iter.get(\\\\\\\"Name\\\\\\\")\"\n",
    "    },\n",
    "    \"ResizeOption\": {\n",
    "        \"constant\": false,\n",
    "        \"value\": \"ResizeOption\"\n",
    "    },\n",
    "    \"RestartPodsAfterResize\": {\n",
    "        \"constant\": true,\n",
    "        \"value\": false\n",
    "    },\n",
    "    \"Channel\": {\n",
    "        \"constant\": false,\n",
    "        \"value\": \"Channel\"\n",
    "    },\n",
    "    \"Value\": {\n",
    "        \"constant\": false,\n",
    "        \"value\": \"Value\"\n",
    "    }\n",
    "}''')\n",
    "task.configure(iterJson='''{\n",
    "    \"iter_enabled\": true,\n",
    "    \"iter_list_is_const\": false,\n",
    "    \"iter_list\": \"pvcsList\",\n",
    "    \"iter_parameter\": [\n",
    "        \"Namespace\",\n",
    "        \"PVCName\"\n",
    "    ]\n",
    "}''')\n",
    "\n",
    "\n",
    "\n",
    "(err, hdl, args) = task.validate(vars=vars(), infra=True)\n",
    "if err is None:\n",
    "    task.output = task.execute(call_pvc_resize_runbook, hdl, args)\n",
    "if hasattr(task, 'output'):\n",
    "    if isinstance(task.output, (list, tuple)):\n",
    "        for item in task.output:\n",
    "            print(f'item: {item}')\n",
    "    elif isinstance(task.output, dict):\n",
    "        for item in task.output.items():\n",
    "            print(f'item: {item}')\n",
    "    else:\n",
    "        print(task.output)"
   ]
  },
  {
   "cell_type": "markdown",
   "id": "fafb82e0-b73e-487b-8cb7-a987b59b5902",
   "metadata": {
    "jupyter": {
     "source_hidden": false
    },
    "name": "Conclusion",
    "orderProperties": [],
    "tags": [],
    "title": "Conclusion"
   },
   "source": [
    "<h3 id=\"Conclusion\">Conclusion</h3>\n",
    "<p>In this Runbook, we were able successfully resize a list of PVCs using unSkript's K8s actions and making an API call to the resize PVC runbook. To view the full platform capabilities of unSkript please visit&nbsp;<a href=\"https://us.app.unskript.io\" target=\"_blank\" rel=\"noopener\">us.app.unskript.io</a></p>"
   ]
  }
 ],
 "metadata": {
  "execution_data": {
   "runbook_name": "k8s: Resize List of PVCs",
   "parameters": [
    "ResizeOption",
    "RunbookID",
    "Value",
    "APIToken",
    "Channel"
   ]
  },
  "kernelspec": {
   "display_name": "Python 3.10.6 64-bit",
   "language": "python",
   "name": "python3"
  },
  "language_info": {
   "file_extension": ".py",
   "mimetype": "text/x-python",
   "name": "python",
   "pygments_lexer": "ipython3",
   "version": "3.10.6"
  },
  "parameterSchema": {
   "properties": {
    "APIToken": {
     "description": "APIToken to talk to unskript apis",
     "title": "APIToken",
     "type": "string"
    },
    "Channel": {
     "description": "Slack Channel name where notification will be send",
     "title": "Channel",
     "type": "string"
    },
    "ResizeOption": {
     "default": "Add",
     "description": "Option to resize the volume. 2 options supported:             1. Add - Use this option to resize by an amount.             2. Multiple - Use this option if you want to resize by a multiple of the current volume size.",
     "title": "ResizeOption",
     "type": "string"
    },
    "RunbookID": {
     "default": "b8385df9545bdb5695af879d7d089571fed148d996cf4b7e9e7848502e2cc029",
     "description": "UUID of the PVC Resize runbook",
     "title": "RunbookID",
     "type": "string"
    },
    "Value": {
     "description": "Based on the resize option chosen, specify the value. For eg, if you chose Add option, this             value will be a value in Gb (like 100). If you chose, this value will be a multiplying factor             to the current volume size. For eg, to double, specify value as 2.",
     "title": "Value",
     "type": "number"
    }
   },
   "required": [
    "APIToken",
    "Value"
   ],
   "title": "Schema",
   "type": "object"
  },
  "parameterValues": null,
  "vscode": {
   "interpreter": {
    "hash": "b0fa6594d8f4cbf19f97940f81e996739fb7646882a419484c72d19e05852a7e"
   }
  }
 },
 "nbformat": 4,
 "nbformat_minor": 5
}