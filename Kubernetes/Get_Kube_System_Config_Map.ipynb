{
    "cells": [
        {
            "cell_type": "markdown",
            "id": "e233b43f-cf30-432e-9b66-45a5f906de74",
            "metadata": {
                "jupyter": {
                    "source_hidden": false
                },
                "name": "Steps Overview",
                "orderProperties": [],
                "tags": [],
                "title": "Steps Overview"
            },
            "source": [
                "<center><img src=\"https://storage.googleapis.com/unskript-website/assets/favicon.png\" alt=\"unSkript.com\" width=\"100\" height=\"100\">\n",
                "<h1 id=\"unSkript-Runbooks\">unSkript Runbooks<a class=\"jp-InternalAnchorLink\" href=\"#unSkript-Runbooks\" target=\"_self\">&para;</a></h1>\n",
                "<div class=\"alert alert-block alert-success\">\n",
                "<h3 id=\"Objective\">Objective<a class=\"jp-InternalAnchorLink\" href=\"#Objective\" target=\"_self\">&para;</a></h3>\n",
                "<br><strong style=\"color: #000000;\"><em>Fetch the Kubernetes system ConfigMap</em></strong></div>\n",
                "</center><center>\n",
                "<h2 id=\"Get-Kube-System-Config-Map\"><u>Get Kube System Config Map</u><a class=\"jp-InternalAnchorLink\" href=\"#Get-Kube-System-Config-Map\" target=\"_self\">&para;</a></h2>\n",
                "</center>\n",
                "<h1 id=\"Steps-Overview\">Steps Overview<a class=\"jp-InternalAnchorLink\" href=\"#Steps-Overview\" target=\"_self\">&para;</a></h1>\n",
                "<p>1)&nbsp;<a href=\"#1\" target=\"_self\" rel=\"noopener\">Get system config map</a><br>2)&nbsp;<a href=\"#2\" target=\"_self\" rel=\"noopener\">Post slack message</a></p>"
            ]
        },
        {
            "cell_type": "markdown",
            "id": "6cc5313b-913a-4f14-89e2-dccc51129889",
            "metadata": {
                "jupyter": {
                    "source_hidden": false
                },
                "name": "Step 1A",
                "orderProperties": [],
                "tags": [],
                "title": "Step 1A"
            },
            "source": [
                "<h3 id=\"Get-List-of-Pods-in-ImagePullBackOff-State&para;\"><a id=\"1\" target=\"_self\" rel=\"nofollow\"></a>Convert namespace to String if empty<a class=\"jp-InternalAnchorLink\" href=\"#Get-List-of-Pods-in-CrashLoopBackOff-State\" target=\"_self\" rel=\"noopener\">&para;</a><a class=\"jp-InternalAnchorLink\" href=\"#Get-List-of-Pods-in-ImagePullBackOff-State&para;\" target=\"_self\">&para;</a></h3>\n",
                "<p>This custom action changes the type of namespace and config_map_name from None to String if no namespace is given</p>"
            ]
        },
        {
            "cell_type": "code",
            "execution_count": 3,
            "id": "a10ef57b-c2d3-4b48-b7e5-de180785881a",
            "metadata": {
                "customAction": true,
                "execution_data": {
                    "last_date_success_run_cell": "2023-02-12T07:17:30.635Z"
                },
                "jupyter": {
                    "source_hidden": true
                },
                "name": "Convert namespace to String if empty",
                "orderProperties": [],
                "tags": [],
                "title": "Convert namespace to String if empty",
                "trusted": true
            },
            "outputs": [],
            "source": [
                "if namespace == None:\n",
                "    namespace = ''"
            ]
        },
        {
            "cell_type": "markdown",
            "id": "521a1162-8c06-45eb-b938-32c7cc52be38",
            "metadata": {
                "jupyter": {
                    "source_hidden": false
                },
                "name": "Step 1",
                "orderProperties": [],
                "tags": [],
                "title": "Step 1"
            },
            "source": [
                "<h3 id=\"List-all-IAM-Users\"><a id=\"1\" target=\"_self\" rel=\"nofollow\"></a>Get system config map</h3>\n",
                "<p>This action gets the ConfigMap object for a given namespace or config map name. If neither is specified, namespace is considered to be \"all\".</p>\n",
                "<blockquote>\n",
                "<p>Action takes the following parameters (Optional) : <code>namespace, config_map_name</code><br>Action gives the following output (Optional) : <code>config_map_details</code></p>\n",
                "</blockquote>"
            ]
        },
        {
            "cell_type": "code",
            "execution_count": 4,
            "id": "f1140b24-7721-4808-a8da-12e59bd34b27",
            "metadata": {
                "accessType": "ACCESS_TYPE_UNSPECIFIED",
                "actionBashCommand": false,
                "actionCategories": [],
                "actionIsCheck": false,
                "actionNeedsCredential": true,
                "actionNextHop": [],
                "actionNextHopParameterMapping": {},
                "actionOutputType": "",
                "actionRequiredLinesInCode": [],
                "actionSupportsIteration": true,
                "actionSupportsPoll": true,
                "action_modified": false,
                "action_uuid": "0c59f81ba7694bc31e1a0e856340ce9545d4d4a3562d2c61659500950751b16a",
                "collapsed": true,
                "continueOnError": false,
                "createTime": "1970-01-01T00:00:00Z",
                "currentVersion": "0.1.0",
                "description": "Get k8s kube system config map",
                "execution_data": {
                    "last_date_success_run_cell": "2023-02-12T07:18:20.599Z"
                },
                "id": 56,
                "index": 56,
                "inputData": [
                    {
                        "config_map_name": {
                            "constant": false,
                            "value": ""
                        },
                        "namespace": {
                            "constant": false,
                            "value": " namespace"
                        }
                    }
                ],
                "inputschema": [
                    {
                        "properties": {
                            "config_map_name": {
                                "default": "",
                                "description": "Kubernetes Config Map Name",
                                "title": "Config Map",
                                "type": "string"
                            },
                            "namespace": {
                                "default": " ",
                                "description": "Kubernetes namespace",
                                "title": "Namespace",
                                "type": "string"
                            }
                        },
                        "title": "k8s_get_config_map_kube_system",
                        "type": "object"
                    }
                ],
                "jupyter": {
                    "outputs_hidden": true,
                    "source_hidden": true
                },
                "legotype": "LEGO_TYPE_K8S",
                "name": "Get k8s kube system config map",
                "nouns": [],
                "orderProperties": [
                    "namespace",
                    "config_map_name"
                ],
                "output": {
                    "type": ""
                },
                "outputParams": {
                    "output_name": "config_map_details",
                    "output_name_enabled": true
                },
                "printOutput": true,
                "probeEnabled": false,
                "tags": [
                    "k8s_get_config_map_kube_system"
                ],
                "trusted": true,
                "verbs": []
            },
            "outputs": [],
            "source": [
                "##\n",
                "# Copyright (c) 2021 unSkript, Inc\n",
                "# All rights reserved.\n",
                "##\n",
                "from typing import Optional, List, Tuple\n",
                "from kubernetes import client\n",
                "from pydantic import BaseModel, Field\n",
                "from tabulate import tabulate\n",
                "from unskript.legos.kubernetes.k8s_kubectl_command.k8s_kubectl_command import k8s_kubectl_command\n",
                "\n",
                "\n",
                "from beartype import beartype\n",
                "@beartype\n",
                "def k8s_get_config_map_kube_system_printer(output):\n",
                "    if output is None:\n",
                "        return\n",
                "    for x in output:\n",
                "        for k,v in x.items():\n",
                "            if k=='details':\n",
                "                for config in v:\n",
                "                    data_set_1 = []\n",
                "                    data_set_1.append(\"Name:\")\n",
                "                    data_set_1.append(config.metadata.name)\n",
                "\n",
                "                    data_set_2 = []\n",
                "                    data_set_2.append(\"Namespace:\")\n",
                "                    data_set_2.append(config.metadata.namespace)\n",
                "\n",
                "                    data_set_3 = []\n",
                "                    data_set_3.append(\"Labels:\")\n",
                "                    data_set_3.append(config.metadata.labels)\n",
                "\n",
                "                    data_set_4 = []\n",
                "                    data_set_4.append(\"Annotations:\")\n",
                "                    data_set_4.append(config.metadata.annotations)\n",
                "\n",
                "                    data_set_5 = []\n",
                "                    data_set_5.append(\"Data:\")\n",
                "                    data_set_5.append(config.data)\n",
                "\n",
                "                    tabular_config_map = []\n",
                "                    tabular_config_map.append(data_set_1)\n",
                "                    tabular_config_map.append(data_set_2)\n",
                "                    tabular_config_map.append(data_set_3)\n",
                "                    tabular_config_map.append(data_set_4)\n",
                "                    tabular_config_map.append(data_set_5)\n",
                "\n",
                "                    print(tabulate(tabular_config_map, tablefmt=\"github\"))\n",
                "\n",
                "\n",
                "@beartype\n",
                "def k8s_get_config_map_kube_system(handle, config_map_name: str = '', namespace: str = None)->List:\n",
                "    \"\"\"k8s_get_config_map_kube_system get kube system config map\n",
                "\n",
                "        :type handle: object\n",
                "        :param handle: Object returned from the Task validate method\n",
                "\n",
                "        :type config_map_name: str\n",
                "        :param config_map_name: Kubernetes Config Map Name.\n",
                "\n",
                "        :type namespace: str\n",
                "        :param namespace: Kubernetes namespace.\n",
                "\n",
                "        :rtype: List of system kube config maps for a given namespace\n",
                "    \"\"\"\n",
                "    all_namespaces = [namespace]\n",
                "    cmd = f\"kubectl get ns  --no-headers -o custom-columns=':metadata.name'\"\n",
                "    if namespace is None or len(namespace)==0:\n",
                "        kubernetes_namespaces = k8s_kubectl_command(handle=handle,kubectl_command=cmd )\n",
                "        replaced_str = kubernetes_namespaces.replace(\"\\n\",\" \")\n",
                "        stripped_str = replaced_str.strip()\n",
                "        all_namespaces = stripped_str.split(\" \")\n",
                "    result = []\n",
                "    coreApiClient = client.CoreV1Api(api_client=handle)\n",
                "    for n in all_namespaces:\n",
                "        config_map_dict = {}\n",
                "        res = coreApiClient.list_namespaced_config_map(\n",
                "            namespace=n, pretty=True)\n",
                "        if len(res.items) > 0:\n",
                "            if config_map_name:\n",
                "                config_maps = list(\n",
                "                    filter(lambda x: (x.metadata.name == config_map_name), res.items))\n",
                "            else:\n",
                "                config_maps = res.items\n",
                "            config_map_dict[\"namespace\"] = n\n",
                "            config_map_dict[\"details\"] = config_maps\n",
                "            result.append(config_map_dict)\n",
                "    return result\n",
                "\n",
                "\n",
                "\n",
                "task = Task(Workflow())\n",
                "task.configure(inputParamsJson='''{\n",
                "    \"namespace\": \" namespace\"\n",
                "    }''')\n",
                "task.configure(outputName=\"config_map_details\")\n",
                "task.configure(printOutput=True)\n",
                "(err, hdl, args) = task.validate(vars=vars())\n",
                "if err is None:\n",
                "    task.execute(k8s_get_config_map_kube_system, lego_printer=k8s_get_config_map_kube_system_printer, hdl=hdl, args=args)"
            ]
        },
        {
            "cell_type": "markdown",
            "id": "0a404d88-fa37-4716-86cd-fa6d82c298d2",
            "metadata": {
                "jupyter": {
                    "source_hidden": false
                },
                "name": "Step 2",
                "orderProperties": [],
                "tags": [],
                "title": "Step 2"
            },
            "source": [
                "<h3 id=\"List-all-IAM-Users\"><a id=\"1\" target=\"_self\" rel=\"nofollow\"></a>Post a slack message</h3>\n",
                "<p>This action posts a slack message of the config map retrieved in Step 1. This action will only run if the channel_name is specified in the parameters.</p>\n",
                "<blockquote>\n",
                "<p>Action takes the following parameters (Optional) : <code>channel_name, message</code></p>\n",
                "</blockquote>"
            ]
        },
        {
            "cell_type": "code",
            "execution_count": null,
            "id": "d616410e-1051-463c-a1ae-4b7d1162e823",
            "metadata": {
                "accessType": "ACCESS_TYPE_UNSPECIFIED",
                "actionBashCommand": false,
                "actionNeedsCredential": true,
                "actionRequiredLinesInCode": [],
                "actionSupportsIteration": true,
                "actionSupportsPoll": true,
                "action_modified": false,
                "action_uuid": "6a87f83ab0ecfeecb9c98d084e2b1066c26fa64be5b4928d5573a5d60299802d",
                "condition_enabled": true,
                "continueOnError": false,
                "createTime": "1970-01-01T00:00:00Z",
                "currentVersion": "0.1.0",
                "description": "Post Slack Message",
                "id": 78,
                "index": 78,
                "inputData": [
                    {
                        "channel": {
                            "constant": false,
                            "value": "channel_name"
                        },
                        "message": {
                            "constant": false,
                            "value": "f\"Config map for namespace:{namespace}: {config_map_details}\""
                        }
                    }
                ],
                "inputschema": [
                    {
                        "properties": {
                            "channel": {
                                "description": "Name of slack channel.",
                                "title": "Channel",
                                "type": "string"
                            },
                            "message": {
                                "description": "Message for slack channel.",
                                "title": "Message",
                                "type": "string"
                            }
                        },
                        "required": [
                            "channel",
                            "message"
                        ],
                        "title": "slack_post_message",
                        "type": "object"
                    }
                ],
                "jupyter": {
                    "source_hidden": true
                },
                "legotype": "LEGO_TYPE_SLACK",
                "name": "Post Slack Message",
                "nouns": [],
                "orderProperties": [
                    "channel",
                    "message"
                ],
                "output": {
                    "type": ""
                },
                "printOutput": true,
                "startcondition": "if len(channel_name)!=0",
                "tags": [
                    "slack_post_message"
                ],
                "verbs": []
            },
            "outputs": [],
            "source": [
                "##\n",
                "# Copyright (c) 2021 unSkript, Inc\n",
                "# All rights reserved.\n",
                "##\n",
                "\n",
                "import pprint\n",
                "\n",
                "from pydantic import BaseModel, Field\n",
                "from slack_sdk import WebClient\n",
                "from slack_sdk.errors import SlackApiError\n",
                "\n",
                "pp = pprint.PrettyPrinter(indent=2)\n",
                "\n",
                "from beartype import beartype\n",
                "\n",
                "from beartype import beartype\n",
                "@beartype\n",
                "def slack_post_message_printer(output):\n",
                "    if output is not None:\n",
                "        pprint.pprint(output)\n",
                "    else:\n",
                "        return\n",
                "\n",
                "\n",
                "@beartype\n",
                "@beartype\n",
                "def slack_post_message(\n",
                "        handle: WebClient,\n",
                "        channel: str,\n",
                "        message: str) -> str:\n",
                "\n",
                "    try:\n",
                "        response = handle.chat_postMessage(\n",
                "            channel=channel,\n",
                "            text=message)\n",
                "        return f\"Successfuly Sent Message on Channel: #{channel}\"\n",
                "    except SlackApiError as e:\n",
                "        pp.pprint(\n",
                "            f\"Failed sending message to slack channel {channel}, Error: {e.response['error']}\")\n",
                "        if e.response['error'] == 'channel_not_found':\n",
                "            raise Exception('Channel Not Found')\n",
                "        elif e.response['error'] == 'duplicate_channel_not_found':\n",
                "            raise Exception('Channel associated with the message_id not valid')\n",
                "        elif e.response['error'] == 'not_in_channel':\n",
                "            raise Exception('Cannot post message to channel user is not in')\n",
                "        elif e.response['error'] == 'is_archived':\n",
                "            raise Exception('Channel has been archived')\n",
                "        elif e.response['error'] == 'msg_too_long':\n",
                "            raise Exception('Message text is too long')\n",
                "        elif e.response['error'] == 'no_text':\n",
                "            raise Exception('Message text was not provided')\n",
                "        elif e.response['error'] == 'restricted_action':\n",
                "            raise Exception('Workspace preference prevents user from posting')\n",
                "        elif e.response['error'] == 'restricted_action_read_only_channel':\n",
                "            raise Exception('Cannot Post message, read-only channel')\n",
                "        elif e.response['error'] == 'team_access_not_granted':\n",
                "            raise Exception('The token used is not granted access to the workspace')\n",
                "        elif e.response['error'] == 'not_authed':\n",
                "            raise Exception('No Authtnecition token provided')\n",
                "        elif e.response['error'] == 'invalid_auth':\n",
                "            raise Exception('Some aspect of Authentication cannot be validated. Request denied')\n",
                "        elif e.response['error'] == 'access_denied':\n",
                "            raise Exception('Access to a resource specified in the request denied')\n",
                "        elif e.response['error'] == 'account_inactive':\n",
                "            raise Exception('Authentication token is for a deleted user')\n",
                "        elif e.response['error'] == 'token_revoked':\n",
                "            raise Exception('Authentication token for a deleted user has been revoked')\n",
                "        elif e.response['error'] == 'no_permission':\n",
                "            raise Exception('The workspace toekn used does not have necessary permission to send message')\n",
                "        elif e.response['error'] == 'ratelimited':\n",
                "            raise Exception('The request has been ratelimited. Retry sending message later')\n",
                "        elif e.response['error'] == 'service_unavailable':\n",
                "            raise Exception('The service is temporarily unavailable')\n",
                "        elif e.response['error'] == 'fatal_error':\n",
                "            raise Exception('The server encountered catostrophic error while sending message')\n",
                "        elif e.response['error'] == 'internal_error':\n",
                "            raise Exception('The server could not complete operation, likely due to transietn issue')\n",
                "        elif e.response['error'] == 'request_timeout':\n",
                "            raise Exception('Sending message error via POST: either message was missing or truncated')\n",
                "        else:\n",
                "            raise Exception(f'Failed Sending Message to slack channel {channel} Error: {e.response[\"error\"]}')\n",
                "\n",
                "    except Exception as e:\n",
                "        print(\"\\n\\n\")\n",
                "        pp.pprint(\n",
                "            f\"Failed sending message to slack channel {channel}, Error: {e.__str__()}\")\n",
                "        return f\"Unable to send message on {channel}\"\n",
                "\n",
                "\n",
                "task = Task(Workflow())\n",
                "task.configure(inputParamsJson='''{\n",
                "    \"channel\": \"channel_name\",\n",
                "    \"message\": \"f\\\\\"Config map for namespace:{namespace}: {config_map_details}\\\\\"\"\n",
                "    }''')\n",
                "\n",
                "task.configure(conditionsJson='''{\n",
                "    \"condition_enabled\": true,\n",
                "    \"condition_cfg\": \"if len(channel_name)!=0\",\n",
                "    \"condition_result\": true\n",
                "    }''')\n",
                "\n",
                "task.configure(printOutput=True)\n",
                "(err, hdl, args) = task.validate(vars=vars())\n",
                "if err is None:\n",
                "    task.execute(slack_post_message, lego_printer=slack_post_message_printer, hdl=hdl, args=args)"
            ]
        },
        {
            "cell_type": "markdown",
            "id": "b92d99e6-2735-4d4c-b20e-358ee36e6243",
            "metadata": {
                "jupyter": {
                    "source_hidden": false
                },
                "name": "Conclusion",
                "orderProperties": [],
                "tags": [],
                "title": "Conclusion"
            },
            "source": [
                "<h3 id=\"Conclusion\">Conclusion</h3>\n",
                "<p>In this Runbook, we were able to get the Kube ConfigMap and post a Slack message with the ConfigMap details. To view the full platform capabilities of unSkript please visit&nbsp;<a href=\"https://us.app.unskript.io\" target=\"_blank\" rel=\"noopener\">us.app.unskript.io</a></p>"
            ]
        }
    ],
    "metadata": {
        "execution_data": {
            "environment_name": "SingleAMIInstance",
            "environment_type": "ENVIRONMENT_TYPE_AWS_EC2",
            "execution_id": "",
            "inputs_for_searched_lego": "",
            "notebook_id": "1a5f1c34-cc06-4f39-9364-2340ee6f81c7.ipynb",
            "parameters": [
                "channel_name",
                "namespace"
            ],
            "proxy_id": "1b032d60-0671-498f-a117-6c2f355648fe",
            "runbook_name": "Get Kube System Config Map",
            "search_string": "",
            "show_tool_tip": false,
            "tenant_id": "117718cf-b601-4a00-9164-3e4311468e45",
            "tenant_url": "https://tenant-jayasimha.dev.unskript.io",
            "user_email_id": "jayasimha@unskript.com",
            "workflow_id": "aab46a85-96b3-4a8d-9b5e-ad5f89c41b6c"
        },
        "kernelspec": {
            "display_name": "Python 3.9.6 64-bit",
            "language": "python",
            "name": "python3"
        },
        "language_info": {
            "file_extension": ".py",
            "mimetype": "text/x-python",
            "name": "python",
            "pygments_lexer": "ipython3",
            "version": "3.9.6"
        },
        "parameterSchema": {
            "properties": {
                "channel_name": {
                    "description": "Slack channel to post the details to. Eg: \"general\"",
                    "title": "channel_name",
                    "type": "string"
                },
                "namespace": {
                    "description": "Name of the namespace to fetch system config map. If left empty, it will fetch for all. Eg: \"logging\"",
                    "title": "namespace",
                    "type": "string"
                }
            },
            "required": [],
            "title": "Schema",
            "type": "object"
        },
        "parameterValues": null,
        "vscode": {
            "interpreter": {
                "hash": "31f2aee4e71d21fbe5cf8b01ff0e069b9275f58929596ceb00d14d90e3e16cd6"
            }
        }
    },
    "nbformat": 4,
    "nbformat_minor": 5
}
