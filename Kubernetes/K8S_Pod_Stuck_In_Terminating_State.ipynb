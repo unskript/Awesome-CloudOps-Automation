{
    "cells": [
        {
            "cell_type": "markdown",
            "id": "642c0464-7f6e-484f-ba43-bcd8d030f6f5",
            "metadata": {
                "jupyter": {
                    "source_hidden": false
                },
                "name": "Overview",
                "orderProperties": [],
                "tags": [],
                "title": "Overview"
            },
            "source": [
                "***\n",
                "<img src=\"https://unskript.com/assets/favicon.png\" alt=\"unSkript.com\" width=\"100\" height=\"100\"/> \n",
                "<h1> unSkript Runbooks </h1>\n",
                "<div class=\"alert alert-block alert-success\">\n",
                "    <b> This runbook demonstrates the usage of K8S kubectl lego.\n",
                "    Using this lego, we can query the K8S cluster and find out pod(s) stuck in Terminating state.\n",
                "    </b>\n",
                "</div>\n",
                "\n",
                "<br>\n",
                "<center><h2>K8S pod stuck in Terminating State</h2></center>\n",
                "\n",
                "A Pod has been deleted but remains in `Terminating` Status\n",
                "\n",
                "This can happen for either of the reasons:\n",
                "\n",
                "    1. Pod has a finalizer associated with it and that is not completing\n",
                "    2. The Pod is not responding to termination signals\n",
                "    \n",
                "\n",
                "The output of `kubectl get pods [PODNAME] -n [NAMESPACE]` will show something like this:\n",
                "\n",
                "```\n",
                "NAME                     READY     STATUS             RESTARTS   AGE\n",
                "nginx-7ef9efa7cd-qasd2   1/1       Terminating        0          1h\n",
                "```\n",
                "\n",
                "\n",
                "## Initial Steps\n",
                "    1. Gather Information\n",
                "    2. Check for finalizers\n",
                "    2.1 Remove finalizer if present\n",
                "    3. Get Node Information\n",
                "    3.1 Check Node Status\n",
                "    4. Force-delete the pod\n",
                "    5. Check Resolution\n",
                "    6. Further Steps\n",
                "\n",
                "\n",
                "The Original Runbook Author is [Ian Miell](https://containersolutions.github.io/runbooks/posts/kubernetes/pod-stuck-in-terminating-state/) \n",
                "***"
            ]
        },
        {
            "cell_type": "markdown",
            "id": "99574d2c",
            "metadata": {},
            "source": [
                "### 1. Gather Information\n",
                "\n",
                "We will use `kubectl get pods -n {namespace} | grep Terminating `  to find out all the PODs that are stuck in \n",
                "the `Terminating` state for the given `namespace`. Please note, we will be using the unSkript's `kubectl lego` \n",
                "to accomplish this task. We then will store this list as `terminatingPods`."
            ]
        },
        {
            "cell_type": "code",
            "execution_count": null,
            "id": "7389860b-965e-4b0d-a1e5-9764cc706d0e",
            "metadata": {
                "accessType": "ACCESS_TYPE_UNSPECIFIED",
                "actionBashCommand": false,
                "actionNeedsCredential": true,
                "actionSupportsIteration": true,
                "actionSupportsPoll": true,
                "action_uuid": "ae0b25757f0c6c0ca4b3aaf6feea636e3f193dc354f74823a7becd7d675becdc",
                "createTime": "1970-01-01T00:00:00Z",
                "credentialsJson": {
                },
                "currentVersion": "0.1.0",
                "description": "Kubectl command in python syntax.",
                "execution_data": {
                    "last_date_success_run_cell": "2022-06-09T22:13:57.086Z"
                },
                "id": 21,
                "index": 21,
                "inputData": [
                    {
                        "kubectl_command": {
                            "constant": false,
                            "value": "f\"kubectl get pods -n {namespace} | grep Terminating | cut -d' ' -f 1\""
                        }
                    }
                ],
                "inputschema": [
                    {
                        "properties": {
                            "kubectl_command": {
                                "description": "kubectl command eg \"kubectl get pods --all-namespaces\"",
                                "title": "Kubectl Command",
                                "type": "string"
                            }
                        },
                        "required": [
                            "kubectl_command"
                        ],
                        "title": "k8s_kubectl_command",
                        "type": "object"
                    }
                ],
                "jupyter": {
                    "source_hidden": true
                },
                "legotype": "LEGO_TYPE_K8S",
                "name": "1. Gather Information",
                "nouns": [
                    "command"
                ],
                "orderProperties": [
                    "kubectl_command"
                ],
                "output": {
                    "type": ""
                },
                "outputParams": {
                    "output_name": "terminatingPods",
                    "output_name_enabled": true
                },
                "tags": [
                    "k8s_kubectl_command"
                ],
                "title": "1. Gather Information",
                "trusted": true,
                "verbs": [
                    "execute"
                ]
            },
            "outputs": [],
            "source": [
                "#\n",
                "# Copyright (c) 2022 unSkript.com\n",
                "# All rights reserved.\n",
                "#\n",
                "\n",
                "from pydantic import BaseModel, Field\n",
                "\n",
                "\n",
                "from beartype import beartype\n",
                "\n",
                "def k8s_kubectl_command_printer(output):\n",
                "    if output is None:\n",
                "        return\n",
                "    print(output)\n",
                "\n",
                "\n",
                "@beartype\n",
                "def k8s_kubectl_command(handle, kubectl_command: str) -> str:\n",
                "\n",
                "    result = handle.run_native_cmd(kubectl_command)\n",
                "    if result is None or hasattr(result, \"stderr\") is False or result.stderr is None:\n",
                "        print(\n",
                "            f\"Error while executing command ({kubectl_command}): {result.stderr}\")\n",
                "        return None\n",
                "\n",
                "    return result.stdout\n",
                "\n",
                "\n",
                "task = Task(Workflow())\n",
                "task.configure(inputParamsJson='''{\n",
                "    \"kubectl_command\": \"f\\\\\"kubectl get pods -n {namespace} | grep Terminating | cut -d' ' -f 1\\\\\"\"\n",
                "    }''')\n",
                "task.configure(outputName=\"terminatingPods\")\n",
                "(err, hdl, args) = task.validate(vars=vars())\n",
                "if err is None:\n",
                "    task.execute(k8s_kubectl_command, hdl=hdl, args=args, lego_printer=k8s_kubectl_command_printer)"
            ]
        },
        {
            "cell_type": "markdown",
            "id": "7fa4b3ab",
            "metadata": {},
            "source": [
                "### 2 Check for Finalizers\n",
                "\n",
                "Here we will use unSkript `kubectl lego` to execute `kubectl get pod -n {namespace} {podName} -o yaml ` command.\n",
                "We then observe the output of the command to findout if there are any Finalizers configured for the POD stuck in\n",
                "`Terminating ` state. This Lego Demonstrates the `Start Condition ` feature of unSkript platform. We first check\n",
                "step-1 found out Pods that were stuck in the `Terminating ` state and only then we proceed to further examine\n",
                "if the Pod has any `Finalizers` configured in it. If Found, it will store in a variable called `finalizerOutput` \n",
                "which will be used the following cells."
            ]
        },
        {
            "cell_type": "code",
            "execution_count": null,
            "id": "2d8c92a4-ac87-46d9-a872-ae2b021fa1e4",
            "metadata": {
                "accessType": "ACCESS_TYPE_UNSPECIFIED",
                "actionBashCommand": false,
                "actionNeedsCredential": true,
                "actionSupportsIteration": true,
                "actionSupportsPoll": true,
                "action_uuid": "ae0b25757f0c6c0ca4b3aaf6feea636e3f193dc354f74823a7becd7d675becdc",
                "condition_enabled": true,
                "createTime": "1970-01-01T00:00:00Z",
                "credentialsJson": {
                },
                "currentVersion": "0.1.0",
                "description": "Kubectl command in python syntax.",
                "execution_data": {
                    "last_date_success_run_cell": "2022-06-09T22:14:45.385Z"
                },
                "id": 21,
                "index": 21,
                "inputData": [
                    {
                        "kubectl_command": {
                            "constant": false,
                            "value": "f\"kubectl get pod -n {namespace} {terminatingPods.strip()} -o yaml | grep -A 1 finalizers\" "
                        }
                    }
                ],
                "inputschema": [
                    {
                        "properties": {
                            "kubectl_command": {
                                "description": "kubectl command eg \"kubectl get pods --all-namespaces\"",
                                "title": "Kubectl Command",
                                "type": "string"
                            }
                        },
                        "required": [
                            "kubectl_command"
                        ],
                        "title": "k8s_kubectl_command",
                        "type": "object"
                    }
                ],
                "jupyter": {
                    "source_hidden": true
                },
                "legotype": "LEGO_TYPE_K8S",
                "name": "2. Check for Finalizer",
                "nouns": [
                    "command"
                ],
                "orderProperties": [
                    "kubectl_command"
                ],
                "output": {
                    "type": ""
                },
                "outputParams": {
                    "output_name": "finalizerOutput",
                    "output_name_enabled": true
                },
                "startcondition": "terminatingPods is not ''",
                "tags": [
                    "k8s_kubectl_command"
                ],
                "title": "2. Check for Finalizer",
                "trusted": true,
                "verbs": [
                    "execute"
                ]
            },
            "outputs": [],
            "source": [
                "#\n",
                "# Copyright (c) 2022 unSkript.com\n",
                "# All rights reserved.\n",
                "#\n",
                "\n",
                "from pydantic import BaseModel, Field\n",
                "\n",
                "\n",
                "from beartype import beartype\n",
                "\n",
                "def k8s_kubectl_command_printer(output):\n",
                "    if output is None:\n",
                "        return\n",
                "    print(output)\n",
                "\n",
                "@beartype\n",
                "def k8s_kubectl_command(handle, kubectl_command: str) -> str:\n",
                "    result = handle.run_native_cmd(kubectl_command)\n",
                "    if result is None or hasattr(result, \"stderr\") is False or result.stderr is None:\n",
                "        print(\n",
                "            f\"Error while executing command ({kubectl_command}): {result.stderr}\")\n",
                "        return None\n",
                "    return result.stdout\n",
                "\n",
                "\n",
                "task = Task(Workflow())\n",
                "task.configure(inputParamsJson='''{\n",
                "    \"kubectl_command\": \"f\\\\\"kubectl get pod -n {namespace} {terminatingPods.strip()} -o yaml | grep -A 1 finalizers\\\\\" \"\n",
                "    }''')\n",
                "task.configure(conditionsJson='''{\n",
                "    \"condition_enabled\": true,\n",
                "    \"condition_cfg\": \"terminatingPods is not ''\",\n",
                "    \"condition_result\": true\n",
                "    }''')\n",
                "task.configure(outputName=\"finalizerOutput\")\n",
                "\n",
                "(err, hdl, args) = task.validate(vars=vars())\n",
                "if err is None:\n",
                "    task.execute(k8s_kubectl_command, hdl=hdl, args=args, lego_printer=k8s_kubectl_command_printer)"
            ]
        },
        {
            "cell_type": "markdown",
            "id": "27dae6e8",
            "metadata": {},
            "source": [
                "### 2.1 Remove Finalizers if present\n",
                "\n",
                "Here we use the same versatile unskript `kubectl lego` to execute the `kubectl patch ... ` command \n",
                "to reset the Finalizer metadata to `null`,  Once done, the POD will exit out of the `terminating` state. \n",
                "\n",
                "This cell demonstrates the simplicity of the unSkript platform to perform complex operations like\n",
                "patching the metadata of a k8s cluster. Once the `Finalizer` is removed, the output of the action is \n",
                "stored in the `removeFinalizerOutput` variable to be used further in the cells."
            ]
        },
        {
            "cell_type": "code",
            "execution_count": null,
            "id": "0da565b9-f8e8-40c9-889b-f169bb5605c1",
            "metadata": {
                "accessType": "ACCESS_TYPE_UNSPECIFIED",
                "actionBashCommand": false,
                "actionNeedsCredential": true,
                "actionSupportsIteration": true,
                "actionSupportsPoll": true,
                "action_uuid": "ae0b25757f0c6c0ca4b3aaf6feea636e3f193dc354f74823a7becd7d675becdc",
                "condition_enabled": true,
                "createTime": "1970-01-01T00:00:00Z",
                "credentialsJson": {
                },
                "currentVersion": "0.1.0",
                "description": "Kubectl command in python syntax.",
                "execution_data": {
                    "last_date_success_run_cell": "2022-06-09T22:15:32.859Z"
                },
                "id": 21,
                "index": 21,
                "inputData": [
                    {
                        "kubectl_command": {
                            "constant": false,
                            "value": "f\"kubectl patch pod {terminatingPods.strip()}\" + \" -p '{\\\\\"metadata\\\\\":{\\\\\"finalizers\\\\\":null}}'\""
                        }
                    }
                ],
                "inputschema": [
                    {
                        "properties": {
                            "kubectl_command": {
                                "description": "kubectl command eg \"kubectl get pods --all-namespaces\"",
                                "title": "Kubectl Command",
                                "type": "string"
                            }
                        },
                        "required": [
                            "kubectl_command"
                        ],
                        "title": "k8s_kubectl_command",
                        "type": "object"
                    }
                ],
                "jupyter": {
                    "source_hidden": true
                },
                "legotype": "LEGO_TYPE_K8S",
                "name": "2.1 Remove Finalizer if present",
                "nouns": [
                    "command"
                ],
                "orderProperties": [
                    "kubectl_command"
                ],
                "output": {
                    "type": ""
                },
                "outputParams": {
                    "output_name": "removeFinalizerOutput",
                    "output_name_enabled": true
                },
                "startcondition": "finalizerOutput is not ''",
                "tags": [
                    "k8s_kubectl_command"
                ],
                "title": "2.1 Remove Finalizer if present",
                "trusted": true,
                "verbs": [
                    "execute"
                ]
            },
            "outputs": [],
            "source": [
                "#\n",
                "# Copyright (c) 2022 unSkript.com\n",
                "# All rights reserved.\n",
                "#\n",
                "\n",
                "from pydantic import BaseModel, Field\n",
                "\n",
                "\n",
                "from beartype import beartype\n",
                "\n",
                "def k8s_kubectl_command_printer(output):\n",
                "    if output is None:\n",
                "        return\n",
                "    print(output)\n",
                "\n",
                "@beartype\n",
                "def k8s_kubectl_command(handle, kubectl_command: str) -> str:\n",
                "    result = handle.run_native_cmd(kubectl_command)\n",
                "    if result is None or hasattr(result, \"stderr\") is False or result.stderr is None:\n",
                "        print(\n",
                "            f\"Error while executing command ({kubectl_command}): {result.stderr}\")\n",
                "        return None\n",
                "\n",
                "    return result.stdout\n",
                "\n",
                "\n",
                "task = Task(Workflow())\n",
                "task.configure(conditionsJson='''{\n",
                "    \"condition_enabled\": true,\n",
                "    \"condition_cfg\": \"finalizerOutput is not ''\",\n",
                "    \"condition_result\": true\n",
                "    }''')\n",
                "task.configure(outputName=\"removeFinalizerOutput\")\n",
                "\n",
                "task.configure(inputParamsJson='''{\n",
                "    \"kubectl_command\": \"f\\\\\"kubectl patch pod {terminatingPods.strip()}\\\\\" + \\\\\" -p '{\\\\\"metadata\\\\\":{\\\\\"finalizers\\\\\":null}}'\\\\\"\"\n",
                "    }''')\n",
                "(err, hdl, args) = task.validate(vars=vars())\n",
                "if err is None:\n",
                "    task.execute(k8s_kubectl_command, hdl=hdl, args=args, lego_printer=k8s_kubectl_command_printer)"
            ]
        },
        {
            "cell_type": "markdown",
            "id": "b3692721",
            "metadata": {},
            "source": [
                "### 3 Get Node Information\n",
                "\n",
                "Here we will use the unskript `kubectl lego` to execute `kubectl get pods` and find out the `NodeName` assigned\n",
                "for this Pod. We use the `unSkript`  `Start Condition` feature to execute this command only when step `2.1` \n",
                "was successful. The output of the this lego will be saved in the variable `nodeName` which will be used \n",
                "later in the following cells."
            ]
        },
        {
            "cell_type": "code",
            "execution_count": null,
            "id": "b58ceeb8-1181-4301-a2a3-03614837d5c7",
            "metadata": {
                "accessType": "ACCESS_TYPE_UNSPECIFIED",
                "actionBashCommand": false,
                "actionNeedsCredential": true,
                "actionSupportsIteration": true,
                "actionSupportsPoll": true,
                "action_uuid": "ae0b25757f0c6c0ca4b3aaf6feea636e3f193dc354f74823a7becd7d675becdc",
                "condition_enabled": false,
                "createTime": "1970-01-01T00:00:00Z",
                "credentialsJson": {
                },
                "currentVersion": "0.1.0",
                "description": "Kubectl command in python syntax.",
                "execution_data": {
                    "last_date_success_run_cell": "2022-06-09T22:16:21.685Z"
                },
                "id": 21,
                "index": 21,
                "inputData": [
                    {
                        "kubectl_command": {
                            "constant": false,
                            "value": "f\"kubectl get pods {terminatingPods.strip()} -n {namespace} -o yaml | grep nodeName | tr -d \\\\\" \\\\\" | cut -d':' -f 2\" "
                        }
                    }
                ],
                "inputschema": [
                    {
                        "properties": {
                            "kubectl_command": {
                                "description": "kubectl command eg \"kubectl get pods --all-namespaces\"",
                                "title": "Kubectl Command",
                                "type": "string"
                            }
                        },
                        "required": [
                            "kubectl_command"
                        ],
                        "title": "k8s_kubectl_command",
                        "type": "object"
                    }
                ],
                "jupyter": {
                    "source_hidden": true
                },
                "legotype": "LEGO_TYPE_K8S",
                "name": "3. Get Node Information",
                "nouns": [
                    "command"
                ],
                "orderProperties": [
                    "kubectl_command"
                ],
                "output": {
                    "type": ""
                },
                "outputParams": {
                    "output_name": "nodeName",
                    "output_name_enabled": true
                },
                "startcondition": "removeFinalizerOutput is ''",
                "tags": [
                    "k8s_kubectl_command"
                ],
                "title": "3. Get Node Information",
                "trusted": true,
                "verbs": [
                    "execute"
                ]
            },
            "outputs": [],
            "source": [
                "#\n",
                "# Copyright (c) 2022 unSkript.com\n",
                "# All rights reserved.\n",
                "#\n",
                "\n",
                "from pydantic import BaseModel, Field\n",
                "\n",
                "\n",
                "from beartype import beartype\n",
                "\n",
                "def k8s_kubectl_command_printer(output):\n",
                "    if output is None:\n",
                "        return\n",
                "    print(output)\n",
                "\n",
                "@beartype\n",
                "def k8s_kubectl_command(handle, kubectl_command: str) -> str:\n",
                "    result = handle.run_native_cmd(kubectl_command)\n",
                "    if result is None or hasattr(result, \"stderr\") is False or result.stderr is None:\n",
                "        print(\n",
                "            f\"Error while executing command ({kubectl_command}): {result.stderr}\")\n",
                "        return None\n",
                "\n",
                "    return result.stdout\n",
                "\n",
                "\n",
                "task = Task(Workflow())\n",
                "task.configure(inputParamsJson='''{\n",
                "    \"kubectl_command\": \"f\\\\\"kubectl get pods {terminatingPods.strip()} -n {namespace} -o yaml | grep nodeName | tr -d \\\\\" \\\\\" | cut -d':' -f 2\\\\\" \"\n",
                "    }''')\n",
                "task.configure(conditionsJson='''{\n",
                "    \"condition_enabled\": false,\n",
                "    \"condition_cfg\": \"removeFinalizerOutput is ''\",\n",
                "    \"condition_result\": true\n",
                "    }''')\n",
                "task.configure(outputName=\"nodeName\")\n",
                "\n",
                "(err, hdl, args) = task.validate(vars=vars())\n",
                "if err is None:\n",
                "    task.execute(k8s_kubectl_command, hdl=hdl, args=args, lego_printer=k8s_kubectl_command_printer)"
            ]
        },
        {
            "cell_type": "markdown",
            "id": "a92cf904",
            "metadata": {},
            "source": [
                "### 3.1 Check Node Status\n",
                "\n",
                "Here we check the status of the `NodeName` from step `3.0`. We will use the unSkript `kubectl lego` \n",
                "to perform `kubectl get pods -n {namespace} {nodeName}` Needless to say, we use the `Start Condition` \n",
                "feature again. The output of the kubectl command will be stored in `nodeStatus` variable which will\n",
                "be used later in the following cells."
            ]
        },
        {
            "cell_type": "code",
            "execution_count": null,
            "id": "c5c310d3-3383-4bd8-aaa1-3dcde847d18c",
            "metadata": {
                "accessType": "ACCESS_TYPE_UNSPECIFIED",
                "actionBashCommand": false,
                "actionNeedsCredential": true,
                "actionSupportsIteration": true,
                "actionSupportsPoll": true,
                "action_uuid": "ae0b25757f0c6c0ca4b3aaf6feea636e3f193dc354f74823a7becd7d675becdc",
                "condition_enabled": true,
                "createTime": "1970-01-01T00:00:00Z",
                "credentialsJson": {
                },
                "currentVersion": "0.1.0",
                "description": "Kubectl command in python syntax.",
                "execution_data": {
                    "last_date_success_run_cell": "2022-06-09T22:16:47.826Z"
                },
                "id": 21,
                "index": 21,
                "inputData": [
                    {
                        "kubectl_command": {
                            "constant": false,
                            "value": "f\"kubectl get pods -n {namespace} {nodeName} | grep \\\\\" Ready\\\\\" | cut -d' ' -f 1 | tr -d ' '\" "
                        }
                    }
                ],
                "inputschema": [
                    {
                        "properties": {
                            "kubectl_command": {
                                "description": "kubectl command eg \"kubectl get pods --all-namespaces\"",
                                "title": "Kubectl Command",
                                "type": "string"
                            }
                        },
                        "required": [
                            "kubectl_command"
                        ],
                        "title": "k8s_kubectl_command",
                        "type": "object"
                    }
                ],
                "jupyter": {
                    "source_hidden": true
                },
                "legotype": "LEGO_TYPE_K8S",
                "name": "3.1 Check Node Status",
                "nouns": [
                    "command"
                ],
                "orderProperties": [
                    "kubectl_command"
                ],
                "output": {
                    "type": ""
                },
                "outputParams": {
                    "output_name": "nodeStatus",
                    "output_name_enabled": true
                },
                "startcondition": "nodeName is not ''",
                "tags": [
                    "k8s_kubectl_command"
                ],
                "title": "3.1 Check Node Status",
                "trusted": true,
                "verbs": [
                    "execute"
                ]
            },
            "outputs": [],
            "source": [
                "#\n",
                "# Copyright (c) 2022 unSkript.com\n",
                "# All rights reserved.\n",
                "#\n",
                "\n",
                "from pydantic import BaseModel, Field\n",
                "\n",
                "\n",
                "from beartype import beartype\n",
                "\n",
                "def k8s_kubectl_command_printer(output):\n",
                "    if output is None:\n",
                "        return\n",
                "    print(output)\n",
                "\n",
                "@beartype\n",
                "def k8s_kubectl_command(handle, kubectl_command: str) -> str:\n",
                "\n",
                "    result = handle.run_native_cmd(kubectl_command)\n",
                "    if result is None or hasattr(result, \"stderr\") is False or result.stderr is None:\n",
                "        print(\n",
                "            f\"Error while executing command ({kubectl_command}): {result.stderr}\")\n",
                "        return None\n",
                "\n",
                "    return result.stdout\n",
                "\n",
                "\n",
                "task = Task(Workflow())\n",
                "task.configure(inputParamsJson='''{\n",
                "    \"kubectl_command\": \"f\\\\\"kubectl get pods -n {namespace} {nodeName} | grep \\\\\" Ready\\\\\" | cut -d' ' -f 1 | tr -d ' '\\\\\" \"\n",
                "    }''')\n",
                "task.configure(conditionsJson='''{\n",
                "    \"condition_enabled\": true,\n",
                "    \"condition_cfg\": \"nodeName is not ''\",\n",
                "    \"condition_result\": true\n",
                "    }''')\n",
                "task.configure(outputName=\"nodeStatus\")\n",
                "\n",
                "(err, hdl, args) = task.validate(vars=vars())\n",
                "if err is None:\n",
                "    task.execute(k8s_kubectl_command, hdl=hdl, args=args, lego_printer=k8s_kubectl_command_printer)\n"
            ]
        },
        {
            "cell_type": "markdown",
            "id": "22b35d8a",
            "metadata": {},
            "source": [
                "### 4 Force Delete the Pod\n",
                "\n",
                "Here again we will use unSkript `kubectl lego` to perform `kubectl delete pod {podname} -n {namespace} --now`. \n",
                "This lego again uses the `Start Condition` to make sure we execute this command only when we determine\n",
                "the output `terminatingPods` is not Empty. "
            ]
        },
        {
            "cell_type": "code",
            "execution_count": null,
            "id": "8d335576-1fca-4ad6-80ce-330eadf6dbd1",
            "metadata": {
                "accessType": "ACCESS_TYPE_UNSPECIFIED",
                "actionBashCommand": false,
                "actionNeedsCredential": true,
                "actionSupportsIteration": true,
                "actionSupportsPoll": true,
                "action_uuid": "ae0b25757f0c6c0ca4b3aaf6feea636e3f193dc354f74823a7becd7d675becdc",
                "condition_enabled": true,
                "createTime": "1970-01-01T00:00:00Z",
                "credentialsJson": {
                },
                "currentVersion": "0.1.0",
                "description": "Kubectl command in python syntax.",
                "execution_data": {
                    "last_date_success_run_cell": "2022-06-08T21:51:31.492Z"
                },
                "id": 21,
                "index": 21,
                "inputData": [
                    {
                        "kubectl_command": {
                            "constant": false,
                            "value": "f\"kubectl delete pod {terminatingPods.strip()} -n {namespace} --now\""
                        }
                    }
                ],
                "inputschema": [
                    {
                        "properties": {
                            "kubectl_command": {
                                "description": "kubectl command eg \"kubectl get pods --all-namespaces\"",
                                "title": "Kubectl Command",
                                "type": "string"
                            }
                        },
                        "required": [
                            "kubectl_command"
                        ],
                        "title": "k8s_kubectl_command",
                        "type": "object"
                    }
                ],
                "jupyter": {
                    "source_hidden": true
                },
                "legotype": "LEGO_TYPE_K8S",
                "name": "4. Force-delete the Pod",
                "nouns": [
                    "command"
                ],
                "orderProperties": [
                    "kubectl_command"
                ],
                "output": {
                    "type": ""
                },
                "startcondition": "terminatingPods is not ''",
                "tags": [
                    "k8s_kubectl_command"
                ],
                "title": "4. Force-delete the Pod",
                "trusted": true,
                "verbs": [
                    "execute"
                ]
            },
            "outputs": [],
            "source": [
                "#\n",
                "# Copyright (c) 2022 unSkript.com\n",
                "# All rights reserved.\n",
                "#\n",
                "\n",
                "from pydantic import BaseModel, Field\n",
                "\n",
                "\n",
                "from beartype import beartype\n",
                "\n",
                "def k8s_kubectl_command_printer(output):\n",
                "    if output is None:\n",
                "        return\n",
                "    print(output)\n",
                "\n",
                "@beartype\n",
                "def k8s_kubectl_command(handle, kubectl_command: str) -> str:\n",
                "\n",
                "    result = handle.run_native_cmd(kubectl_command)\n",
                "    if result is None or hasattr(result, \"stderr\") is False or result.stderr is None:\n",
                "        print(\n",
                "            f\"Error while executing command ({kubectl_command}): {result.stderr}\")\n",
                "        return None\n",
                "\n",
                "    return result.stdout\n",
                "\n",
                "\n",
                "task = Task(Workflow())\n",
                "task.configure(conditionsJson='''{\n",
                "    \"condition_enabled\": true,\n",
                "    \"condition_cfg\": \"terminatingPods is not ''\",\n",
                "    \"condition_result\": true\n",
                "    }''')\n",
                "task.configure(inputParamsJson='''{\n",
                "    \"kubectl_command\": \"f\\\\\"kubectl delete pod {terminatingPods.strip()} -n {namespace} --now\\\\\"\"\n",
                "    }''')\n",
                "(err, hdl, args) = task.validate(vars=vars())\n",
                "if err is None:\n",
                "    task.execute(k8s_kubectl_command, hdl=hdl, args=args, lego_printer=k8s_kubectl_command_printer)"
            ]
        },
        {
            "cell_type": "markdown",
            "id": "6d6ad109",
            "metadata": {},
            "source": [
                "### 5 Check Resolution\n",
                "\n",
                "This Lego like all previous legos in this runbook uses unSkript `kubectl lego` one final time to\n",
                "check the status of the Deletion of the pod in `Step 4`. We perform `kubectl get pods -n {namespace}`\n",
                "one last time to list all the existing PODs. If all the steps above were successful, then the list\n",
                "of pods should not display the `terminating pod`. "
            ]
        },
        {
            "cell_type": "code",
            "execution_count": 87,
            "id": "49980636-ec73-4c67-969b-edc8753060e7",
            "metadata": {
                "accessType": "ACCESS_TYPE_UNSPECIFIED",
                "actionBashCommand": false,
                "actionNeedsCredential": true,
                "actionSupportsIteration": true,
                "actionSupportsPoll": true,
                "action_uuid": "ae0b25757f0c6c0ca4b3aaf6feea636e3f193dc354f74823a7becd7d675becdc",
                "createTime": "1970-01-01T00:00:00Z",
                "credentialsJson": {
                },
                "currentVersion": "0.1.0",
                "description": "Kubectl command in python syntax.",
                "execution_data": {
                    "last_date_success_run_cell": "2022-06-08T22:04:51.627Z"
                },
                "id": 21,
                "index": 21,
                "inputData": [
                    {
                        "kubectl_command": {
                            "constant": false,
                            "value": "f\"kubectl get pods -n {namespace}\""
                        }
                    }
                ],
                "inputschema": [
                    {
                        "properties": {
                            "kubectl_command": {
                                "description": "kubectl command eg \"kubectl get pods --all-namespaces\"",
                                "title": "Kubectl Command",
                                "type": "string"
                            }
                        },
                        "required": [
                            "kubectl_command"
                        ],
                        "title": "k8s_kubectl_command",
                        "type": "object"
                    }
                ],
                "jupyter": {
                    "source_hidden": true
                },
                "legotype": "LEGO_TYPE_K8S",
                "name": "5. Check Resolution",
                "nouns": [
                    "command"
                ],
                "orderProperties": [
                    "kubectl_command"
                ],
                "output": {
                    "type": ""
                },
                "outputParams": {
                    "output_name": "checkResolution",
                    "output_name_enabled": true
                },
                "tags": [
                    "k8s_kubectl_command"
                ],
                "title": "5. Check Resolution",
                "verbs": [
                    "execute"
                ]
            },
            "outputs": [],
            "source": [
                "#\n",
                "# Copyright (c) 2022 unSkript.com\n",
                "# All rights reserved.\n",
                "#\n",
                "\n",
                "from pydantic import BaseModel, Field\n",
                "\n",
                "\n",
                "from beartype import beartype\n",
                "\n",
                "def k8s_kubectl_command_printer(output):\n",
                "    if output is None:\n",
                "        return\n",
                "    print(output)\n",
                "\n",
                "@beartype\n",
                "def k8s_kubectl_command(handle, kubectl_command: str) -> str:\n",
                "\n",
                "    result = handle.run_native_cmd(kubectl_command)\n",
                "    if result is None or hasattr(result, \"stderr\") is False or result.stderr is None:\n",
                "        print(\n",
                "            f\"Error while executing command ({kubectl_command}): {result.stderr}\")\n",
                "        return None\n",
                "\n",
                "    return result.stdout\n",
                "\n",
                "\n",
                "task = Task(Workflow())\n",
                "task.configure(inputParamsJson='''{\n",
                "    \"kubectl_command\": \"f\\\\\"kubectl get pods -n {namespace}\\\\\"\"\n",
                "    }''')\n",
                "\n",
                "(err, hdl, args) = task.validate(vars=vars())\n",
                "if err is None:\n",
                "    task.execute(k8s_kubectl_command, hdl=hdl, args=args, lego_printer=k8s_kubectl_command_printer)"
            ]
        },
        {
            "cell_type": "markdown",
            "id": "f7c73570",
            "metadata": {},
            "source": [
                "### 6 Further Steps\n",
                "\n",
                "If For some reason `Step 5` displayed the offending Pod in the list of pods, then here are some further\n",
                "debugging steps recommended to resolve the issue."
            ]
        },
        {
            "cell_type": "markdown",
            "id": "2a340553-4bd7-42ef-ba15-2e3125b471f9",
            "metadata": {
                "jupyter": {
                    "source_hidden": false
                },
                "name": "6. Further Steps",
                "orderProperties": [],
                "tags": [],
                "title": "6. Further Steps"
            },
            "source": [
                "***\n",
                "If the POD still stuck in `Terminating` state then you can consider.\n",
                "\n",
                "    1. Restarting kubelet\n",
                "        \n",
                "        If you can SSH to the node and restart the kublet process. You may need\n",
                "        administrator priveleges to do so. Before you do that, you may also want\n",
                "        to check the kubelet logs for any issues.\n",
                "        \n",
                "    2. Check Whether finalizer's work needs to get done before termination\n",
                "    \n",
                "        This will vary depending on what the finalizer is doing. Please refer to \n",
                "        [Finalizers](https://kubernetes.io/docs/tasks/extend-kubernetes/custom-resources/custom-resource-definitions/#finalizers). Common cases for finalizers not completing realtes to\n",
                "        Volumes.\n",
                "        \n",
                "***"
            ]
        },
        {
            "cell_type": "markdown",
            "id": "09120755",
            "metadata": {},
            "source": [
                "### Conclusion\n",
                "\n",
                "In this Runbook, we demonstrated that using simple  `unSkript Legos` combined with the Platform features like\n",
                "`Start Condition` we can accomplish a complex workflow such as patching a K8S cluster to resolve the issue of\n",
                "POD stuck in the `Terminating` state. \n",
                "\n",
                "To experince the Full platform capability of `unSkript` please visit `www.unskript.com`."
            ]
        }
    ],
    "metadata": {
        "execution_data": {
            "environment_id": "1b032d60-0671-498f-a117-6c2f355648fe",
            "environment_name": "SingleAMIInstance",
            "execution_id": "ea8b1ac1-b51c-4a4a-a3c1-53bfe29ecc9a",
            "inputs_for_searched_lego": "",
            "notebook_id": "workflow.ipynb",
            "parameters": [
                "namespace"
            ],
            "runbook_name": "K8S Pod Stuck in Terminating state",
            "search_string": "",
            "show_tool_tip": false,
            "tenant_id": "117718cf-b601-4a00-9164-3e4311468e45",
            "tenant_url": "https://tenant-jayasimha.dev.unskript.io",
            "user_email_id": "jayasimha@unskript.com",
            "workflow_id": "65e4b384-a34e-49d7-87c9-a885c987f696"
        },
        "kernelspec": {
            "display_name": "Python 3.8.2 64-bit",
            "language": "python",
            "name": "python3"
        },
        "language_info": {
            "codemirror_mode": {
                "name": "ipython",
                "version": 3
            },
            "file_extension": ".py",
            "mimetype": "text/x-python",
            "name": "python",
            "nbconvert_exporter": "python",
            "pygments_lexer": "ipython3",
            "version": "3.8.2"
        },
        "parameterSchema": {
            "properties": {
                "namespace": {
                    "description": "K8S Namespace",
                    "title": "namespace",
                    "type": "string"
                }
            },
            "required": [
                "namespace"
            ],
            "title": "Schema",
            "type": "object"
        },
        "parameterValues": {
            "namespace": "sbox-jayasimha"
        },
        "vscode": {
            "interpreter": {
                "hash": "31f2aee4e71d21fbe5cf8b01ff0e069b9275f58929596ceb00d14d90e3e16cd6"
            }
        }
    },
    "nbformat": 4,
    "nbformat_minor": 5
}
