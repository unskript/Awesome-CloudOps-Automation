{
 "cells": [
  {
   "cell_type": "markdown",
   "id": "642c0464-7f6e-484f-ba43-bcd8d030f6f5",
   "metadata": {
    "jupyter": {
     "source_hidden": false
    },
    "name": "Overview",
    "orderProperties": [],
    "tags": [],
    "title": "Overview"
   },
   "source": [
    "<hr><center><img src=\"https://storage.googleapis.com/unskript-website/assets/favicon.png\" alt=\"unSkript.com\" width=\"100\" height=\"100\">\n",
    "<h1 id=\"unSkript-Runbooks&para;\">unSkript Runbooks</h1>\n",
    "<div class=\"alert alert-block alert-success\">\n",
    "<h3 id=\"Objective&para;\">Objective</h3>\n",
    "<br><strong style=\"color: #000000;\"><em>Fix pods stuck in Terminating state</em></strong></div>\n",
    "</center>\n",
    "<p>&nbsp;</p>\n",
    "<center>\n",
    "<h2 id=\"Resize-PVC&para;\"><u>Pods Stuck in Terminating State</u></h2>\n",
    "</center>\n",
    "<h1 id=\"Steps-Overview&para;\">Steps Overview</h1>\n",
    "<p><a href=\"#1\" target=\"_self\" rel=\"noopener\">1)</a> <a href=\"#1\">Get pods stuck in Terminating State</a><a href=\"#1\" target=\"_self\" rel=\"noopener\"><br>2)&nbsp;</a><a href=\"#2\">Check for finalizers</a><a href=\"#1\" target=\"_self\" rel=\"noopener\"><br></a><a href=\"#1\" target=\"_self\" rel=\"noopener\">3) </a><a href=\"#1\">Get Node Information</a><a href=\"#1\" target=\"_self\" rel=\"noopener\"><br></a><a href=\"#1\" target=\"_self\" rel=\"noopener\">4)&nbsp;</a><a href=\"#1\">Force-delete the pod</a><a href=\"#1\" target=\"_self\" rel=\"noopener\"><br></a><a href=\"#1\" target=\"_self\" rel=\"noopener\">5)&nbsp;</a><a href=\"#1\">Check Resolution</a><a href=\"#1\" target=\"_self\" rel=\"noopener\"><br></a><a href=\"#2\" target=\"_self\" rel=\"noopener\">6)&nbsp;</a><a href=\"#2\">Further steps</a></p>\n",
    "<p>A Pod has been deleted but remains in&nbsp;<code>Terminating</code> Status</p>\n",
    "<p>This can happen for either of the reasons:</p>\n",
    "<pre><code>1. Pod has a finalizer associated with it and that is not completing\n",
    "2. The Pod is not responding to termination signals\n",
    "</code></pre>\n",
    "<p>The output of <code>kubectl get pods [PODNAME] -n [NAMESPACE]</code> will show something like this:</p>\n",
    "<pre><code>NAME                     READY     STATUS             RESTARTS   AGE\n",
    "nginx-7ef9efa7cd-qasd2   1/1       Terminating        0          1h\n",
    "</code></pre>\n",
    "<hr>"
   ]
  },
  {
   "cell_type": "markdown",
   "id": "ba64ce4b-0f6a-4faa-b501-461543954f39",
   "metadata": {
    "name": "Step 1A",
    "orderProperties": [],
    "tags": [],
    "title": "Step 1A"
   },
   "source": [
    "<h3 id=\"Convert-namespace-to-String-if-empty&para;&para;\"><a id=\"1\" target=\"_self\" rel=\"nofollow\"></a>Convert namespace to String if empty</h3>\n",
    "<p>This custom action changes the type of namespace from None to String only if no namespace is given</p>"
   ]
  },
  {
   "cell_type": "code",
   "execution_count": null,
   "id": "74e67045-d7e7-4116-8714-19d880552650",
   "metadata": {
    "collapsed": true,
    "customAction": true,
    "jupyter": {
     "outputs_hidden": true,
     "source_hidden": true
    },
    "name": "Convert namespace to String if empty",
    "orderProperties": [],
    "tags": [],
    "title": "Convert namespace to String if empty",
    "credentialsJson": {}
   },
   "outputs": [],
   "source": [
    "if namespace==None:\n",
    "    namespace=''"
   ]
  },
  {
   "cell_type": "markdown",
   "id": "fc9ce20e-22ae-49e8-b439-c189a902b2a4",
   "metadata": {
    "name": "Step 1",
    "orderProperties": [],
    "tags": [],
    "title": "Step 1"
   },
   "source": [
    "<h3 id=\"Get-List-of-Pods-in-Terminating-State\"><a id=\"1\" target=\"_self\" rel=\"nofollow\"></a>Get List of Pods in Terminating State</h3>\n",
    "<p>This action fetches a list of the pods in Terminating State. This action will consider <code>namespace</code> as&nbsp;<strong> all&nbsp;</strong>if no namespace is given.</p>\n",
    "<blockquote>\n",
    "<p>This action takes the following parameters (Optional):&nbsp;<code>namespace</code></p>\n",
    "</blockquote>\n",
    "<blockquote>\n",
    "<p>This action captures the following ouput: <code>terminating_pods</code></p>\n",
    "</blockquote>"
   ]
  },
  {
   "cell_type": "code",
   "execution_count": null,
   "id": "b2809d57-03b2-41a3-9b57-f544e4ac32fa",
   "metadata": {
    "accessType": "ACCESS_TYPE_UNSPECIFIED",
    "actionBashCommand": false,
    "actionCategories": [],
    "actionIsCheck": false,
    "actionNeedsCredential": true,
    "actionNextHop": [],
    "actionNextHopParameterMapping": {},
    "actionOutputType": "",
    "actionRequiredLinesInCode": [],
    "actionSupportsIteration": true,
    "actionSupportsPoll": true,
    "action_modified": false,
    "action_uuid": "4d3b4c6153e14622f42b332b7c7b8f7043577971f64edc5be6b5f8b40d5b89d1",
    "checkEnabled": false,
    "continueOnError": false,
    "createTime": "1970-01-01T00:00:00Z",
    "currentVersion": "0.1.0",
    "description": "Execute the given Kubectl command.",
    "id": 55,
    "index": 55,
    "inputData": [
     {
      "kubectl_command": {
       "constant": false,
       "value": "f\"kubectl get pods -n {namespace} | grep Terminating | cut -d' ' -f 1\""
      }
     }
    ],
    "inputschema": [
     {
      "properties": {
       "kubectl_command": {
        "description": "kubectl command eg \"kubectl get pods --all-namespaces\"",
        "title": "Kubectl Command",
        "type": "string"
       }
      },
      "required": [
       "kubectl_command"
      ],
      "title": "k8s_kubectl_command",
      "type": "object"
     }
    ],
    "isUnskript": false,
    "jupyter": {
     "source_hidden": true
    },
    "legotype": "LEGO_TYPE_K8S",
    "name": "Get pods stuck in Terminating State",
    "nouns": [],
    "orderProperties": [
     "kubectl_command"
    ],
    "output": {
     "type": ""
    },
    "outputParams": {
     "output_name": "terminatingPods",
     "output_name_enabled": true
    },
    "printOutput": true,
    "tags": [
     "k8s_kubectl_command"
    ],
    "title": "Get pods stuck in Terminating State",
    "verbs": [],
    "credentialsJson": {}
   },
   "outputs": [],
   "source": [
    "#\n",
    "# Copyright (c) 2022 unSkript.com\n",
    "# All rights reserved.\n",
    "#\n",
    "\n",
    "from pydantic import BaseModel, Field\n",
    "\n",
    "\n",
    "from beartype import beartype\n",
    "@beartype\n",
    "def k8s_kubectl_command_printer(output):\n",
    "    if output is None:\n",
    "        return\n",
    "    print(output)\n",
    "\n",
    "\n",
    "@beartype\n",
    "def k8s_kubectl_command(handle, kubectl_command: str) -> str:\n",
    "    \"\"\"k8s_kubectl_command executes the given kubectl command on the pod\n",
    "\n",
    "        :type handle: object\n",
    "        :param handle: Object returned from the Task validate method\n",
    "\n",
    "        :type kubectl_command: str\n",
    "        :param kubectl_command: The Actual kubectl command, like kubectl get ns, etc..\n",
    "\n",
    "        :rtype: String, Output of the command in python string format or Empty String in case of Error.\n",
    "    \"\"\"\n",
    "    if handle.client_side_validation != True:\n",
    "        print(f\"K8S Connector is invalid: {handle}\")\n",
    "        return str()\n",
    "\n",
    "    result = handle.run_native_cmd(kubectl_command)\n",
    "    if result is None or hasattr(result, \"stderr\") is False or result.stderr is None:\n",
    "        print(\n",
    "            f\"Error while executing command ({kubectl_command}): {result.stderr}\")\n",
    "        return str()\n",
    "\n",
    "    return result.stdout\n",
    "\n",
    "\n",
    "task = Task(Workflow())\n",
    "task.configure(inputParamsJson='''{\n",
    "    \"kubectl_command\": \"f\\\\\"kubectl get pods -n {namespace} | grep Terminating | cut -d' ' -f 1\\\\\"\"\n",
    "    }''')\n",
    "\n",
    "task.configure(outputName=\"terminatingPods\")\n",
    "\n",
    "task.configure(printOutput=True)\n",
    "(err, hdl, args) = task.validate(vars=vars())\n",
    "if err is None:\n",
    "    task.execute(k8s_kubectl_command, lego_printer=k8s_kubectl_command_printer, hdl=hdl, args=args)"
   ]
  },
  {
   "cell_type": "markdown",
   "id": "bb2f595c-18ab-4415-baba-5f7cac36d936",
   "metadata": {
    "name": "Step 2",
    "orderProperties": [],
    "tags": [],
    "title": "Step 2"
   },
   "source": [
    "<h3 id=\"Get-List-of-Pods-in-Terminating-State\"><a id=\"1\" target=\"_self\" rel=\"nofollow\"></a>Check for finalizer</h3>\n",
    "<p>This action checks for finalizer. If it does, their failure to complete may be the root cause.</p>\n",
    "<blockquote>\n",
    "<p>This action takes the following parameters:&nbsp;<code>namespace, terminatingPods</code></p>\n",
    "</blockquote>\n",
    "<blockquote>\n",
    "<p>This action captures the following ouput: <code>finalizerOutput</code></p>\n",
    "</blockquote>"
   ]
  },
  {
   "cell_type": "code",
   "execution_count": null,
   "id": "3ae96e00-4f46-461a-afd9-2db939414f0a",
   "metadata": {
    "accessType": "ACCESS_TYPE_UNSPECIFIED",
    "actionBashCommand": false,
    "actionCategories": [],
    "actionIsCheck": false,
    "actionNeedsCredential": true,
    "actionNextHop": [],
    "actionNextHopParameterMapping": {},
    "actionOutputType": "",
    "actionRequiredLinesInCode": [],
    "actionSupportsIteration": true,
    "actionSupportsPoll": true,
    "action_modified": false,
    "action_uuid": "4d3b4c6153e14622f42b332b7c7b8f7043577971f64edc5be6b5f8b40d5b89d1",
    "checkEnabled": false,
    "condition_enabled": true,
    "continueOnError": false,
    "createTime": "1970-01-01T00:00:00Z",
    "currentVersion": "0.1.0",
    "description": "Execute the given Kubectl command.",
    "id": 55,
    "index": 55,
    "inputData": [
     {
      "kubectl_command": {
       "constant": false,
       "value": "f\"kubectl get pod -n {namespace} {terminatingPods.strip()} -o yaml | grep -A 1 finalizers\" "
      }
     }
    ],
    "inputschema": [
     {
      "properties": {
       "kubectl_command": {
        "description": "kubectl command eg \"kubectl get pods --all-namespaces\"",
        "title": "Kubectl Command",
        "type": "string"
       }
      },
      "required": [
       "kubectl_command"
      ],
      "title": "k8s_kubectl_command",
      "type": "object"
     }
    ],
    "isUnskript": false,
    "jupyter": {
     "source_hidden": true
    },
    "legotype": "LEGO_TYPE_K8S",
    "name": "Check for Finalizer",
    "nouns": [],
    "orderProperties": [
     "kubectl_command"
    ],
    "output": {
     "type": ""
    },
    "outputParams": {
     "output_name": "finalizerOutput",
     "output_name_enabled": true
    },
    "printOutput": true,
    "startcondition": "terminatingPods is not ''",
    "tags": [
     "k8s_kubectl_command"
    ],
    "title": "Check for Finalizer",
    "verbs": [],
    "credentialsJson": {}
   },
   "outputs": [],
   "source": [
    "#\n",
    "# Copyright (c) 2022 unSkript.com\n",
    "# All rights reserved.\n",
    "#\n",
    "\n",
    "from pydantic import BaseModel, Field\n",
    "\n",
    "\n",
    "from beartype import beartype\n",
    "@beartype\n",
    "def k8s_kubectl_command_printer(output):\n",
    "    if output is None:\n",
    "        return\n",
    "    print(output)\n",
    "\n",
    "\n",
    "@beartype\n",
    "def k8s_kubectl_command(handle, kubectl_command: str) -> str:\n",
    "    \"\"\"k8s_kubectl_command executes the given kubectl command on the pod\n",
    "\n",
    "        :type handle: object\n",
    "        :param handle: Object returned from the Task validate method\n",
    "\n",
    "        :type kubectl_command: str\n",
    "        :param kubectl_command: The Actual kubectl command, like kubectl get ns, etc..\n",
    "\n",
    "        :rtype: String, Output of the command in python string format or Empty String in case of Error.\n",
    "    \"\"\"\n",
    "    if handle.client_side_validation != True:\n",
    "        print(f\"K8S Connector is invalid: {handle}\")\n",
    "        return str()\n",
    "\n",
    "    result = handle.run_native_cmd(kubectl_command)\n",
    "    if result is None or hasattr(result, \"stderr\") is False or result.stderr is None:\n",
    "        print(\n",
    "            f\"Error while executing command ({kubectl_command}): {result.stderr}\")\n",
    "        return str()\n",
    "\n",
    "    return result.stdout\n",
    "\n",
    "\n",
    "task = Task(Workflow())\n",
    "task.configure(inputParamsJson='''{\n",
    "    \"kubectl_command\": \"f\\\\\"kubectl get pod -n {namespace} {terminatingPods.strip()} -o yaml | grep -A 1 finalizers\\\\\" \"\n",
    "    }''')\n",
    "task.configure(conditionsJson='''{\n",
    "    \"condition_enabled\": true,\n",
    "    \"condition_cfg\": \"terminatingPods is not ''\",\n",
    "    \"condition_result\": true\n",
    "    }''')\n",
    "task.configure(outputName=\"finalizerOutput\")\n",
    "\n",
    "task.configure(printOutput=True)\n",
    "(err, hdl, args) = task.validate(vars=vars())\n",
    "if err is None:\n",
    "    task.execute(k8s_kubectl_command, lego_printer=k8s_kubectl_command_printer, hdl=hdl, args=args)"
   ]
  },
  {
   "cell_type": "markdown",
   "id": "b3a1c250-a232-4bdc-8e9b-25e462871800",
   "metadata": {
    "name": "Step 2A",
    "orderProperties": [],
    "tags": [],
    "title": "Step 2A"
   },
   "source": [
    "<h3 id=\"Get-List-of-Pods-in-Terminating-State\"><a id=\"1\" target=\"_self\" rel=\"nofollow\"></a>Remove finalizer if present</h3>\n",
    "<p>This action takes input from Step 2 and removes finalizer if present</p>\n",
    "<blockquote>\n",
    "<p>This action takes the following parameters:&nbsp;<code>namespace</code></p>\n",
    "</blockquote>\n",
    "<blockquote>\n",
    "<p>This action captures the following ouput: <code>finalizerOutput</code></p>\n",
    "</blockquote>"
   ]
  },
  {
   "cell_type": "code",
   "execution_count": null,
   "id": "9cea9d29-8443-4fd9-a6f2-90501fdb652c",
   "metadata": {
    "accessType": "ACCESS_TYPE_UNSPECIFIED",
    "actionBashCommand": false,
    "actionCategories": [],
    "actionIsCheck": false,
    "actionNeedsCredential": true,
    "actionNextHop": [],
    "actionNextHopParameterMapping": {},
    "actionOutputType": "",
    "actionRequiredLinesInCode": [],
    "actionSupportsIteration": true,
    "actionSupportsPoll": true,
    "action_modified": false,
    "action_uuid": "4d3b4c6153e14622f42b332b7c7b8f7043577971f64edc5be6b5f8b40d5b89d1",
    "checkEnabled": false,
    "condition_enabled": true,
    "continueOnError": false,
    "createTime": "1970-01-01T00:00:00Z",
    "currentVersion": "0.1.0",
    "description": "Execute the given Kubectl command.",
    "id": 55,
    "index": 55,
    "inputData": [
     {
      "kubectl_command": {
       "constant": false,
       "value": "f\"kubectl patch pod {terminatingPods.strip()}\" + \" -p '{\\\\\"metadata\\\\\":{\\\\\"finalizers\\\\\":null}}'\""
      }
     }
    ],
    "inputschema": [
     {
      "properties": {
       "kubectl_command": {
        "description": "kubectl command eg \"kubectl get pods --all-namespaces\"",
        "title": "Kubectl Command",
        "type": "string"
       }
      },
      "required": [
       "kubectl_command"
      ],
      "title": "k8s_kubectl_command",
      "type": "object"
     }
    ],
    "isUnskript": false,
    "jupyter": {
     "source_hidden": true
    },
    "legotype": "LEGO_TYPE_K8S",
    "name": "Remove finalizer if present",
    "nouns": [],
    "orderProperties": [
     "kubectl_command"
    ],
    "output": {
     "type": ""
    },
    "outputParams": {
     "output_name": "removeFinalizerOutput",
     "output_name_enabled": true
    },
    "printOutput": true,
    "startcondition": "finalizerOutput is not ''",
    "tags": [
     "k8s_kubectl_command"
    ],
    "title": "Remove finalizer if present",
    "verbs": [],
    "credentialsJson": {}
   },
   "outputs": [],
   "source": [
    "#\n",
    "# Copyright (c) 2022 unSkript.com\n",
    "# All rights reserved.\n",
    "#\n",
    "\n",
    "from pydantic import BaseModel, Field\n",
    "\n",
    "\n",
    "from beartype import beartype\n",
    "@beartype\n",
    "def k8s_kubectl_command_printer(output):\n",
    "    if output is None:\n",
    "        return\n",
    "    print(output)\n",
    "\n",
    "\n",
    "@beartype\n",
    "def k8s_kubectl_command(handle, kubectl_command: str) -> str:\n",
    "    \"\"\"k8s_kubectl_command executes the given kubectl command on the pod\n",
    "\n",
    "        :type handle: object\n",
    "        :param handle: Object returned from the Task validate method\n",
    "\n",
    "        :type kubectl_command: str\n",
    "        :param kubectl_command: The Actual kubectl command, like kubectl get ns, etc..\n",
    "\n",
    "        :rtype: String, Output of the command in python string format or Empty String in case of Error.\n",
    "    \"\"\"\n",
    "    if handle.client_side_validation != True:\n",
    "        print(f\"K8S Connector is invalid: {handle}\")\n",
    "        return str()\n",
    "\n",
    "    result = handle.run_native_cmd(kubectl_command)\n",
    "    if result is None or hasattr(result, \"stderr\") is False or result.stderr is None:\n",
    "        print(\n",
    "            f\"Error while executing command ({kubectl_command}): {result.stderr}\")\n",
    "        return str()\n",
    "\n",
    "    return result.stdout\n",
    "\n",
    "\n",
    "task = Task(Workflow())\n",
    "task.configure(inputParamsJson='''{\n",
    "    \"kubectl_command\": \"f\\\\\"kubectl patch pod {terminatingPods.strip()}\\\\\" + \\\\\" -p '{\\\\\\\\\\\\\"metadata\\\\\\\\\\\\\":{\\\\\\\\\\\\\"finalizers\\\\\\\\\\\\\":null}}'\\\\\"\"\n",
    "    }''')\n",
    "task.configure(conditionsJson='''{\n",
    "    \"condition_enabled\": true,\n",
    "    \"condition_cfg\": \"finalizerOutput is not ''\",\n",
    "    \"condition_result\": true\n",
    "    }''')\n",
    "task.configure(outputName=\"removeFinalizerOutput\")\n",
    "\n",
    "task.configure(printOutput=True)\n",
    "(err, hdl, args) = task.validate(vars=vars())\n",
    "if err is None:\n",
    "    task.execute(k8s_kubectl_command, lego_printer=k8s_kubectl_command_printer, hdl=hdl, args=args)"
   ]
  },
  {
   "cell_type": "markdown",
   "id": "a813187c-9310-41fc-a4f8-e2d61781baea",
   "metadata": {
    "name": "Step 3",
    "orderProperties": [],
    "tags": [],
    "title": "Step 3"
   },
   "source": [
    "<h3 id=\"Get-List-of-Pods-in-Terminating-State\"><a id=\"1\" target=\"_self\" rel=\"nofollow\"></a>Get node information</h3>\n",
    "<p>This action gets the nodes information to check for it's status (Step 3A)</p>\n",
    "<blockquote>\n",
    "<p>This action takes the following parameters:&nbsp;<code>namespace</code></p>\n",
    "</blockquote>\n",
    "<blockquote>\n",
    "<p>This action captures the following ouput: <code>nodeName</code></p>\n",
    "</blockquote>"
   ]
  },
  {
   "cell_type": "code",
   "execution_count": null,
   "id": "e70ff97f-2147-4026-bd92-8fb1851b6ce6",
   "metadata": {
    "accessType": "ACCESS_TYPE_UNSPECIFIED",
    "actionBashCommand": false,
    "actionCategories": [],
    "actionIsCheck": false,
    "actionNeedsCredential": true,
    "actionNextHop": [],
    "actionNextHopParameterMapping": {},
    "actionOutputType": "",
    "actionRequiredLinesInCode": [],
    "actionSupportsIteration": true,
    "actionSupportsPoll": true,
    "action_modified": false,
    "action_uuid": "4d3b4c6153e14622f42b332b7c7b8f7043577971f64edc5be6b5f8b40d5b89d1",
    "checkEnabled": false,
    "continueOnError": false,
    "createTime": "1970-01-01T00:00:00Z",
    "currentVersion": "0.1.0",
    "description": "Execute the given Kubectl command.",
    "id": 55,
    "index": 55,
    "inputData": [
     {
      "kubectl_command": {
       "constant": false,
       "value": "f\"kubectl get pods {terminatingPods.strip()} -n {namespace} -o yaml | grep nodeName | tr -d \\\\\" \\\\\" | cut -d':' -f 2\" "
      }
     }
    ],
    "inputschema": [
     {
      "properties": {
       "kubectl_command": {
        "description": "kubectl command eg \"kubectl get pods --all-namespaces\"",
        "title": "Kubectl Command",
        "type": "string"
       }
      },
      "required": [
       "kubectl_command"
      ],
      "title": "k8s_kubectl_command",
      "type": "object"
     }
    ],
    "isUnskript": false,
    "jupyter": {
     "source_hidden": true
    },
    "legotype": "LEGO_TYPE_K8S",
    "name": "Get Node Information",
    "nouns": [],
    "orderProperties": [
     "kubectl_command"
    ],
    "output": {
     "type": ""
    },
    "outputParams": {
     "output_name": "nodeName",
     "output_name_enabled": true
    },
    "printOutput": true,
    "tags": [
     "k8s_kubectl_command"
    ],
    "title": "Get Node Information",
    "verbs": [],
    "credentialsJson": {}
   },
   "outputs": [],
   "source": [
    "#\n",
    "# Copyright (c) 2022 unSkript.com\n",
    "# All rights reserved.\n",
    "#\n",
    "\n",
    "from pydantic import BaseModel, Field\n",
    "\n",
    "\n",
    "from beartype import beartype\n",
    "@beartype\n",
    "def k8s_kubectl_command_printer(output):\n",
    "    if output is None:\n",
    "        return\n",
    "    print(output)\n",
    "\n",
    "\n",
    "@beartype\n",
    "def k8s_kubectl_command(handle, kubectl_command: str) -> str:\n",
    "    \"\"\"k8s_kubectl_command executes the given kubectl command on the pod\n",
    "\n",
    "        :type handle: object\n",
    "        :param handle: Object returned from the Task validate method\n",
    "\n",
    "        :type kubectl_command: str\n",
    "        :param kubectl_command: The Actual kubectl command, like kubectl get ns, etc..\n",
    "\n",
    "        :rtype: String, Output of the command in python string format or Empty String in case of Error.\n",
    "    \"\"\"\n",
    "    if handle.client_side_validation != True:\n",
    "        print(f\"K8S Connector is invalid: {handle}\")\n",
    "        return str()\n",
    "\n",
    "    result = handle.run_native_cmd(kubectl_command)\n",
    "    if result is None or hasattr(result, \"stderr\") is False or result.stderr is None:\n",
    "        print(\n",
    "            f\"Error while executing command ({kubectl_command}): {result.stderr}\")\n",
    "        return str()\n",
    "\n",
    "    return result.stdout\n",
    "\n",
    "\n",
    "task = Task(Workflow())\n",
    "task.configure(inputParamsJson='''{\n",
    "    \"kubectl_command\": \"f\\\\\"kubectl get pods {terminatingPods.strip()} -n {namespace} -o yaml | grep nodeName | tr -d \\\\\\\\\\\\\" \\\\\\\\\\\\\" | cut -d':' -f 2\\\\\" \"\n",
    "    }''')\n",
    "task.configure(outputName=\"nodeName\")\n",
    "\n",
    "task.configure(printOutput=True)\n",
    "(err, hdl, args) = task.validate(vars=vars())\n",
    "if err is None:\n",
    "    task.execute(k8s_kubectl_command, lego_printer=k8s_kubectl_command_printer, hdl=hdl, args=args)"
   ]
  },
  {
   "cell_type": "markdown",
   "id": "fd26240c-3c7f-42a0-b021-94cfdab6bd6d",
   "metadata": {
    "name": "Ste 3A",
    "orderProperties": [],
    "tags": [],
    "title": "Ste 3A"
   },
   "source": [
    "<h3 id=\"Get-List-of-Pods-in-Terminating-State\"><a id=\"1\" target=\"_self\" rel=\"nofollow\"></a>Check status of Node</h3>\n",
    "<p>This action gets the status of node. It is possible that the node your pod(s) is/are running on has failed in some way. If all pods on the same node are in a&nbsp;<code>Terminating</code>&nbsp;state on a specific node, then this may be the issue.</p>\n",
    "<blockquote>\n",
    "<p>This action takes the following parameters:&nbsp;<code>namespace</code></p>\n",
    "</blockquote>\n",
    "<blockquote>\n",
    "<p>This action captures the following ouput: <code>nodeStatus</code></p>\n",
    "</blockquote>"
   ]
  },
  {
   "cell_type": "code",
   "execution_count": null,
   "id": "86992954-67e8-423a-a85e-6cfdbf933b99",
   "metadata": {
    "accessType": "ACCESS_TYPE_UNSPECIFIED",
    "actionBashCommand": false,
    "actionCategories": [],
    "actionIsCheck": false,
    "actionNeedsCredential": true,
    "actionNextHop": [],
    "actionNextHopParameterMapping": {},
    "actionOutputType": "",
    "actionRequiredLinesInCode": [],
    "actionSupportsIteration": true,
    "actionSupportsPoll": true,
    "action_modified": false,
    "action_uuid": "4d3b4c6153e14622f42b332b7c7b8f7043577971f64edc5be6b5f8b40d5b89d1",
    "checkEnabled": false,
    "condition_enabled": true,
    "continueOnError": false,
    "createTime": "1970-01-01T00:00:00Z",
    "currentVersion": "0.1.0",
    "description": "Execute the given Kubectl command.",
    "id": 55,
    "index": 55,
    "inputData": [
     {
      "kubectl_command": {
       "constant": false,
       "value": "f\"kubectl get pods -n {namespace} {nodeName} | grep \\\\\" Ready\\\\\" | cut -d' ' -f 1 | tr -d ' '\" "
      }
     }
    ],
    "inputschema": [
     {
      "properties": {
       "kubectl_command": {
        "description": "kubectl command eg \"kubectl get pods --all-namespaces\"",
        "title": "Kubectl Command",
        "type": "string"
       }
      },
      "required": [
       "kubectl_command"
      ],
      "title": "k8s_kubectl_command",
      "type": "object"
     }
    ],
    "isUnskript": false,
    "jupyter": {
     "source_hidden": true
    },
    "legotype": "LEGO_TYPE_K8S",
    "name": "Check Node Status",
    "nouns": [],
    "orderProperties": [
     "kubectl_command"
    ],
    "output": {
     "type": ""
    },
    "outputParams": {
     "output_name": "nodeStatus",
     "output_name_enabled": true
    },
    "printOutput": true,
    "startcondition": "nodeName is not ''",
    "tags": [
     "k8s_kubectl_command"
    ],
    "title": "Check Node Status",
    "verbs": [],
    "credentialsJson": {}
   },
   "outputs": [],
   "source": [
    "#\n",
    "# Copyright (c) 2022 unSkript.com\n",
    "# All rights reserved.\n",
    "#\n",
    "\n",
    "from pydantic import BaseModel, Field\n",
    "\n",
    "\n",
    "from beartype import beartype\n",
    "@beartype\n",
    "def k8s_kubectl_command_printer(output):\n",
    "    if output is None:\n",
    "        return\n",
    "    print(output)\n",
    "\n",
    "\n",
    "@beartype\n",
    "def k8s_kubectl_command(handle, kubectl_command: str) -> str:\n",
    "    \"\"\"k8s_kubectl_command executes the given kubectl command on the pod\n",
    "\n",
    "        :type handle: object\n",
    "        :param handle: Object returned from the Task validate method\n",
    "\n",
    "        :type kubectl_command: str\n",
    "        :param kubectl_command: The Actual kubectl command, like kubectl get ns, etc..\n",
    "\n",
    "        :rtype: String, Output of the command in python string format or Empty String in case of Error.\n",
    "    \"\"\"\n",
    "    if handle.client_side_validation != True:\n",
    "        print(f\"K8S Connector is invalid: {handle}\")\n",
    "        return str()\n",
    "\n",
    "    result = handle.run_native_cmd(kubectl_command)\n",
    "    if result is None or hasattr(result, \"stderr\") is False or result.stderr is None:\n",
    "        print(\n",
    "            f\"Error while executing command ({kubectl_command}): {result.stderr}\")\n",
    "        return str()\n",
    "\n",
    "    return result.stdout\n",
    "\n",
    "\n",
    "task = Task(Workflow())\n",
    "task.configure(inputParamsJson='''{\n",
    "    \"kubectl_command\": \"f\\\\\"kubectl get pods -n {namespace} {nodeName} | grep \\\\\\\\\\\\\" Ready\\\\\\\\\\\\\" | cut -d' ' -f 1 | tr -d ' '\\\\\" \"\n",
    "    }''')\n",
    "task.configure(conditionsJson='''{\n",
    "    \"condition_enabled\": true,\n",
    "    \"condition_cfg\": \"nodeName is not ''\",\n",
    "    \"condition_result\": true\n",
    "    }''')\n",
    "task.configure(outputName=\"nodeStatus\")\n",
    "\n",
    "task.configure(printOutput=True)\n",
    "(err, hdl, args) = task.validate(vars=vars())\n",
    "if err is None:\n",
    "    task.execute(k8s_kubectl_command, lego_printer=k8s_kubectl_command_printer, hdl=hdl, args=args)"
   ]
  },
  {
   "cell_type": "markdown",
   "id": "b9e8faf9-9ea6-4170-b7ae-76c74bfb012c",
   "metadata": {
    "name": "Step 4",
    "orderProperties": [],
    "tags": [],
    "title": "Step 4"
   },
   "source": [
    "<h3 id=\"Get-List-of-Pods-in-Terminating-State\"><a id=\"1\" target=\"_self\" rel=\"nofollow\"></a>Force-Delete the Pod</h3>\n",
    "<p>This action force deletes a pod. The pod may not be terminating due to a process that is not responding to a signal. The exact reason will be context-specific and application dependent. Common causes include:</p>\n",
    "<ul>\n",
    "<li>\n",
    "<p>A tight loop in userspace code that does not allow for interrupt signals</p>\n",
    "</li>\n",
    "<li>\n",
    "<p>A maintenance process (eg garbage collection) on the application runtime</p>\n",
    "</li>\n",
    "</ul>\n",
    "<blockquote>\n",
    "<p>This action takes the following parameters:&nbsp;<code>namespace</code></p>\n",
    "</blockquote>\n",
    "<blockquote>\n",
    "<p>This action captures the following ouput: <code>nodeStatus</code></p>\n",
    "</blockquote>"
   ]
  },
  {
   "cell_type": "code",
   "execution_count": null,
   "id": "2b0381ff-38a0-4d0e-baaf-f53328af5c15",
   "metadata": {
    "accessType": "ACCESS_TYPE_UNSPECIFIED",
    "actionBashCommand": false,
    "actionCategories": [],
    "actionIsCheck": false,
    "actionNeedsCredential": true,
    "actionNextHop": [],
    "actionNextHopParameterMapping": {},
    "actionOutputType": "",
    "actionRequiredLinesInCode": [],
    "actionSupportsIteration": true,
    "actionSupportsPoll": true,
    "action_modified": false,
    "action_uuid": "4d3b4c6153e14622f42b332b7c7b8f7043577971f64edc5be6b5f8b40d5b89d1",
    "checkEnabled": false,
    "condition_enabled": true,
    "continueOnError": false,
    "createTime": "1970-01-01T00:00:00Z",
    "currentVersion": "0.1.0",
    "description": "Execute the given Kubectl command.",
    "id": 55,
    "index": 55,
    "inputData": [
     {
      "kubectl_command": {
       "constant": false,
       "value": "f\"kubectl delete pod {terminatingPods.strip()} -n {namespace} --now\""
      }
     }
    ],
    "inputschema": [
     {
      "properties": {
       "kubectl_command": {
        "description": "kubectl command eg \"kubectl get pods --all-namespaces\"",
        "title": "Kubectl Command",
        "type": "string"
       }
      },
      "required": [
       "kubectl_command"
      ],
      "title": "k8s_kubectl_command",
      "type": "object"
     }
    ],
    "isUnskript": false,
    "jupyter": {
     "source_hidden": true
    },
    "legotype": "LEGO_TYPE_K8S",
    "name": "Force-delete the Pod",
    "nouns": [],
    "orderProperties": [
     "kubectl_command"
    ],
    "output": {
     "type": ""
    },
    "printOutput": true,
    "startcondition": "terminatingPods is not ''",
    "tags": [
     "k8s_kubectl_command"
    ],
    "title": "Force-delete the Pod",
    "verbs": [],
    "credentialsJson": {}
   },
   "outputs": [],
   "source": [
    "#\n",
    "# Copyright (c) 2022 unSkript.com\n",
    "# All rights reserved.\n",
    "#\n",
    "\n",
    "from pydantic import BaseModel, Field\n",
    "\n",
    "\n",
    "from beartype import beartype\n",
    "@beartype\n",
    "def k8s_kubectl_command_printer(output):\n",
    "    if output is None:\n",
    "        return\n",
    "    print(output)\n",
    "\n",
    "\n",
    "@beartype\n",
    "def k8s_kubectl_command(handle, kubectl_command: str) -> str:\n",
    "    \"\"\"k8s_kubectl_command executes the given kubectl command on the pod\n",
    "\n",
    "        :type handle: object\n",
    "        :param handle: Object returned from the Task validate method\n",
    "\n",
    "        :type kubectl_command: str\n",
    "        :param kubectl_command: The Actual kubectl command, like kubectl get ns, etc..\n",
    "\n",
    "        :rtype: String, Output of the command in python string format or Empty String in case of Error.\n",
    "    \"\"\"\n",
    "    if handle.client_side_validation != True:\n",
    "        print(f\"K8S Connector is invalid: {handle}\")\n",
    "        return str()\n",
    "\n",
    "    result = handle.run_native_cmd(kubectl_command)\n",
    "    if result is None or hasattr(result, \"stderr\") is False or result.stderr is None:\n",
    "        print(\n",
    "            f\"Error while executing command ({kubectl_command}): {result.stderr}\")\n",
    "        return str()\n",
    "\n",
    "    return result.stdout\n",
    "\n",
    "\n",
    "task = Task(Workflow())\n",
    "task.configure(inputParamsJson='''{\n",
    "    \"kubectl_command\": \"f\\\\\"kubectl delete pod {terminatingPods.strip()} -n {namespace} --now\\\\\"\"\n",
    "    }''')\n",
    "task.configure(conditionsJson='''{\n",
    "    \"condition_enabled\": true,\n",
    "    \"condition_cfg\": \"terminatingPods is not ''\",\n",
    "    \"condition_result\": true\n",
    "    }''')\n",
    "\n",
    "task.configure(printOutput=True)\n",
    "(err, hdl, args) = task.validate(vars=vars())\n",
    "if err is None:\n",
    "    task.execute(k8s_kubectl_command, lego_printer=k8s_kubectl_command_printer, hdl=hdl, args=args)"
   ]
  },
  {
   "cell_type": "markdown",
   "id": "e83f0bff-934f-4980-83b7-56ca3a4e62c3",
   "metadata": {
    "name": "Step 5",
    "orderProperties": [],
    "tags": [],
    "title": "Step 5"
   },
   "source": [
    "<h3 id=\"Get-List-of-Pods-in-Terminating-State\"><a id=\"1\" target=\"_self\" rel=\"nofollow\"></a>Check status of Node</h3>\n",
    "<p>This action runs get pods command and if the specific pod no longer shows up when running&nbsp;<code>kubectl get pods, </code>then the issue has been <span style=\"color: rgb(45, 194, 107);\">resolved</span>.</p>\n",
    "<blockquote>\n",
    "<p>This action takes the following parameters:&nbsp;<code>namespace</code></p>\n",
    "</blockquote>\n",
    "<blockquote>\n",
    "<p>This action captures the following ouput: <code>checkResolution</code></p>\n",
    "</blockquote>\n",
    "<p>&nbsp;</p>"
   ]
  },
  {
   "cell_type": "code",
   "execution_count": null,
   "id": "febcfe22-e455-4a69-951b-0084a36c5cf9",
   "metadata": {
    "accessType": "ACCESS_TYPE_UNSPECIFIED",
    "actionBashCommand": false,
    "actionCategories": [],
    "actionIsCheck": false,
    "actionNeedsCredential": true,
    "actionNextHop": [],
    "actionNextHopParameterMapping": {},
    "actionOutputType": "",
    "actionRequiredLinesInCode": [],
    "actionSupportsIteration": true,
    "actionSupportsPoll": true,
    "action_modified": false,
    "action_uuid": "4d3b4c6153e14622f42b332b7c7b8f7043577971f64edc5be6b5f8b40d5b89d1",
    "checkEnabled": false,
    "continueOnError": false,
    "createTime": "1970-01-01T00:00:00Z",
    "currentVersion": "0.1.0",
    "description": "Execute the given Kubectl command.",
    "id": 55,
    "index": 55,
    "inputData": [
     {
      "kubectl_command": {
       "constant": false,
       "value": "f\"kubectl get pods -n {namespace}\""
      }
     }
    ],
    "inputschema": [
     {
      "properties": {
       "kubectl_command": {
        "description": "kubectl command eg \"kubectl get pods --all-namespaces\"",
        "title": "Kubectl Command",
        "type": "string"
       }
      },
      "required": [
       "kubectl_command"
      ],
      "title": "k8s_kubectl_command",
      "type": "object"
     }
    ],
    "isUnskript": false,
    "jupyter": {
     "source_hidden": true
    },
    "legotype": "LEGO_TYPE_K8S",
    "name": "Check Resolution",
    "nouns": [],
    "orderProperties": [
     "kubectl_command"
    ],
    "output": {
     "type": ""
    },
    "outputParams": {
     "output_name": "checkResolution",
     "output_name_enabled": true
    },
    "printOutput": true,
    "tags": [
     "k8s_kubectl_command"
    ],
    "title": "Check Resolution",
    "verbs": [],
    "credentialsJson": {}
   },
   "outputs": [],
   "source": [
    "#\n",
    "# Copyright (c) 2022 unSkript.com\n",
    "# All rights reserved.\n",
    "#\n",
    "\n",
    "from pydantic import BaseModel, Field\n",
    "\n",
    "\n",
    "from beartype import beartype\n",
    "@beartype\n",
    "def k8s_kubectl_command_printer(output):\n",
    "    if output is None:\n",
    "        return\n",
    "    print(output)\n",
    "\n",
    "\n",
    "@beartype\n",
    "def k8s_kubectl_command(handle, kubectl_command: str) -> str:\n",
    "    \"\"\"k8s_kubectl_command executes the given kubectl command on the pod\n",
    "\n",
    "        :type handle: object\n",
    "        :param handle: Object returned from the Task validate method\n",
    "\n",
    "        :type kubectl_command: str\n",
    "        :param kubectl_command: The Actual kubectl command, like kubectl get ns, etc..\n",
    "\n",
    "        :rtype: String, Output of the command in python string format or Empty String in case of Error.\n",
    "    \"\"\"\n",
    "    if handle.client_side_validation != True:\n",
    "        print(f\"K8S Connector is invalid: {handle}\")\n",
    "        return str()\n",
    "\n",
    "    result = handle.run_native_cmd(kubectl_command)\n",
    "    if result is None or hasattr(result, \"stderr\") is False or result.stderr is None:\n",
    "        print(\n",
    "            f\"Error while executing command ({kubectl_command}): {result.stderr}\")\n",
    "        return str()\n",
    "\n",
    "    return result.stdout\n",
    "\n",
    "\n",
    "task = Task(Workflow())\n",
    "task.configure(inputParamsJson='''{\n",
    "    \"kubectl_command\": \"f\\\\\"kubectl get pods -n {namespace}\\\\\"\"\n",
    "    }''')\n",
    "task.configure(outputName=\"checkResolution\")\n",
    "\n",
    "task.configure(printOutput=True)\n",
    "(err, hdl, args) = task.validate(vars=vars())\n",
    "if err is None:\n",
    "    task.execute(k8s_kubectl_command, lego_printer=k8s_kubectl_command_printer, hdl=hdl, args=args)"
   ]
  },
  {
   "cell_type": "markdown",
   "id": "2a340553-4bd7-42ef-ba15-2e3125b471f9",
   "metadata": {
    "jupyter": {
     "source_hidden": false
    },
    "name": "Further Steps",
    "orderProperties": [],
    "tags": [],
    "title": "Further Steps"
   },
   "source": [
    "***\n",
    "If the POD still stuck in `Terminating` state then you can consider.\n",
    "\n",
    "    1. Restarting kubelet\n",
    "        \n",
    "        If you can SSH to the node and restart the kublet process. You may need\n",
    "        administrator priveleges to do so. Before you do that, you may also want\n",
    "        to check the kubelet logs for any issues.\n",
    "        \n",
    "    2. Check Whether finalizer's work needs to get done before termination\n",
    "    \n",
    "        This will vary depending on what the finalizer is doing. Please refer to \n",
    "        [Finalizers](https://kubernetes.io/docs/tasks/extend-kubernetes/custom-resources/custom-resource-definitions/#finalizers). Common cases for finalizers not completing realtes to\n",
    "        Volumes.\n",
    "        \n",
    "***"
   ]
  },
  {
   "cell_type": "markdown",
   "id": "f07e9fa6-01da-45f3-b195-97e9f89c9465",
   "metadata": {
    "name": "Conclusion",
    "orderProperties": [],
    "tags": [],
    "title": "Conclusion"
   },
   "source": [
    "<h3 id=\"Conclusion\">Conclusion<a class=\"jp-InternalAnchorLink\" href=\"#Conclusion\" target=\"_self\">&para;</a></h3>\n",
    "<p>In this Runbook, we were able to identify pods stuck in Terminating State and removed the finalizer(if present) and tried force deletion of pod, using unSkript's K8s actions. To view the full platform capabilities of unSkript please visit <a href=\"https://us.app.unskript.io\" target=\"_blank\" rel=\"noopener\">us.app.unskript.io</a></p>"
   ]
  }
 ],
 "metadata": {
  "execution_data": {
   "runbook_name": "k8s: Pod Stuck in Terminating State",
   "parameters": [
    "namespace"
   ]
  },
  "kernelspec": {
   "display_name": "Python 3.9.6 64-bit",
   "language": "python",
   "name": "python3"
  },
  "language_info": {
   "file_extension": ".py",
   "mimetype": "text/x-python",
   "name": "python",
   "pygments_lexer": "ipython3",
   "version": "3.9.6"
  },
  "parameterSchema": {
   "properties": {
    "namespace": {
     "description": "K8S Namespace",
     "title": "namespace",
     "type": "string"
    }
   },
   "required": [
    "namespace"
   ],
   "title": "Schema",
   "type": "object"
  },
  "parameterValues": {},
  "vscode": {
   "interpreter": {
    "hash": "31f2aee4e71d21fbe5cf8b01ff0e069b9275f58929596ceb00d14d90e3e16cd6"
   }
  }
 },
 "nbformat": 4,
 "nbformat_minor": 5
}