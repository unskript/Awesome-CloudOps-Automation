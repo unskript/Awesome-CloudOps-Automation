{
 "cells": [
  {
   "cell_type": "markdown",
   "id": "f518e5b7-08a7-425c-9d86-cfc629d5b355",
   "metadata": {
    "jupyter": {
     "source_hidden": false
    },
    "name": "Steps Overview",
    "orderProperties": [],
    "tags": [],
    "title": "Steps Overview"
   },
   "source": [
    "<hr><hr><center><img src=\"https://storage.googleapis.com/unskript-website/assets/favicon.png\" alt=\"unSkript.com\" width=\"100\" height=\"100\">\n",
    "<h1 id=\"unSkript-Runbooks&para;\">unSkript Runbooks<a class=\"jp-InternalAnchorLink\" href=\"#unSkript-Runbooks\" target=\"_self\" rel=\"noopener\">&para;</a><a class=\"jp-InternalAnchorLink\" href=\"#unSkript-Runbooks&para;\" target=\"_self\">&para;</a></h1>\n",
    "<div class=\"alert alert-block alert-success\">\n",
    "<h3 id=\"Objective&para;\">Objective<a class=\"jp-InternalAnchorLink\" href=\"#Objective\" target=\"_self\" rel=\"noopener\">&para;</a><a class=\"jp-InternalAnchorLink\" href=\"#Objective&para;\" target=\"_self\">&para;</a></h3>\n",
    "<br><strong style=\"color: #000000;\"><em>Fix K8s Pod in ImagePullBackOff State</em></strong></div>\n",
    "</center>\n",
    "<p>&nbsp;</p>\n",
    "<center>\n",
    "<h2 id=\"K8S-Pod-in-ImagePullBackOff-State&para;\"><u>K8S Pod in ImagePullBackOff State</u><a class=\"jp-InternalAnchorLink\" href=\"#K8S-Pod-in-CrashLoopBack-State\" target=\"_self\" rel=\"noopener\">&para;</a><a class=\"jp-InternalAnchorLink\" href=\"#K8S-Pod-in-ImagePullBackOff-State&para;\" target=\"_self\">&para;</a></h2>\n",
    "</center>\n",
    "<h1 id=\"Steps-Overview&para;\">Steps Overview<a class=\"jp-InternalAnchorLink\" href=\"#Steps-Overview\" target=\"_self\" rel=\"noopener\">&para;</a><a class=\"jp-InternalAnchorLink\" href=\"#Steps-Overview&para;\" target=\"_self\">&para;</a></h1>\n",
    "<p>1)&nbsp;<a href=\"#1\" target=\"_self\" rel=\"noopener\">Get list of pods in ImagePullBackOff State</a><br>2)&nbsp;<a href=\"#2\" target=\"_self\" rel=\"noopener\">Extract Events of the pods</a><br>3)&nbsp;<a href=\"#3\" target=\"_self\" rel=\"noopener\">Check registry accessibility</a></p>\n",
    "<p>An <code>ImagePullBackOff</code> error occurs when a Pod startup fails to pull the specified image. The reasons could be Non-Existent of the repository or Permission to Access the repository issues. This runbook helps to walk through the steps involved in debugging such a Pod.</p>\n",
    "<hr>"
   ]
  },
  {
   "cell_type": "markdown",
   "id": "bf250d0f-f958-47bc-907e-3721c3720288",
   "metadata": {
    "jupyter": {
     "source_hidden": false
    },
    "name": "Step 1A",
    "orderProperties": [],
    "tags": [],
    "title": "Step 1A"
   },
   "source": [
    "<h3 id=\"Get-List-of-Pods-in-ImagePullBackOff-State&para;\"><a id=\"1\" target=\"_self\" rel=\"nofollow\"></a>Convert namespace to String if empty<a class=\"jp-InternalAnchorLink\" href=\"#Get-List-of-Pods-in-CrashLoopBackOff-State\" target=\"_self\" rel=\"noopener\">&para;</a><a class=\"jp-InternalAnchorLink\" href=\"#Get-List-of-Pods-in-ImagePullBackOff-State&para;\" target=\"_self\">&para;</a></h3>\n",
    "<p>This custom action changes the type of namespace from None to String only if no namespace is given</p>"
   ]
  },
  {
   "cell_type": "code",
   "execution_count": 4,
   "id": "a49bd0a5-1b34-4beb-940d-9f28239837e0",
   "metadata": {
    "collapsed": true,
    "customAction": true,
    "execution_data": {
     "last_date_success_run_cell": "2023-02-12T07:07:36.408Z"
    },
    "jupyter": {
     "outputs_hidden": true,
     "source_hidden": true
    },
    "name": "Convert namespace to String if empty",
    "orderProperties": [],
    "tags": [],
    "title": "Convert namespace to String if empty",
    "trusted": true,
    "credentialsJson": {}
   },
   "outputs": [],
   "source": [
    "if namespace==None:\n",
    "    namespace=''\n"
   ],
   "output": {}
  },
  {
   "cell_type": "markdown",
   "id": "6cdb0116-152b-493c-8eb9-71237b691806",
   "metadata": {
    "jupyter": {
     "source_hidden": false
    },
    "name": "Step 1",
    "orderProperties": [],
    "tags": [],
    "title": "Step 1"
   },
   "source": [
    "<h3 id=\"Get-List-of-Pods-in-CrashLoopBackOff-State\"><a id=\"1\" target=\"_self\" rel=\"nofollow\"></a>Get List of Pods in ImagePullBackOff State<a class=\"jp-InternalAnchorLink\" href=\"#Get-List-of-Pods-in-CrashLoopBackOff-State\" target=\"_self\">&para;</a></h3>\n",
    "<p>This action fetches a list of the pods in ImagePullBackOff State. This action will consider <code>namespace</code> as&nbsp;<strong> all&nbsp;</strong>if no namespace is given.</p>\n",
    "<blockquote>\n",
    "<p>This action takes the following parameters (Optional):&nbsp;<code>namespace</code></p>\n",
    "</blockquote>\n",
    "<blockquote>\n",
    "<p>This action captures the following ouput: <code>imagepullbackoff_pods</code></p>\n",
    "</blockquote>"
   ]
  },
  {
   "cell_type": "code",
   "execution_count": 5,
   "id": "fbfd4282-2516-4506-b617-c6816736dbea",
   "metadata": {
    "accessType": "ACCESS_TYPE_UNSPECIFIED",
    "actionBashCommand": false,
    "actionCategories": [],
    "actionIsCheck": false,
    "actionNeedsCredential": true,
    "actionNextHop": [],
    "actionNextHopParameterMapping": {},
    "actionOutputType": "",
    "actionRequiredLinesInCode": [],
    "actionSupportsIteration": true,
    "actionSupportsPoll": true,
    "action_modified": false,
    "action_uuid": "683b7f1a1482a5bed32698689e2b47e13dcdb5e00d719316cc46ada5ead26758",
    "collapsed": true,
    "continueOnError": false,
    "createTime": "1970-01-01T00:00:00Z",
    "currentVersion": "0.1.0",
    "description": "Get all K8s pods in ImagePullBackOff State",
    "execution_data": {
     "last_date_success_run_cell": "2023-02-12T07:08:20.761Z"
    },
    "id": 45,
    "index": 45,
    "inputData": [
     {
      "namespace": {
       "constant": false,
       "value": "namespace"
      }
     }
    ],
    "inputschema": [
     {
      "properties": {
       "namespace": {
        "default": "",
        "description": "k8s Namespace",
        "title": "Namespace",
        "type": "string"
       }
      },
      "title": "k8s_get_pods_in_imagepullbackoff_state",
      "type": "object"
     }
    ],
    "jupyter": {
     "outputs_hidden": true,
     "source_hidden": true
    },
    "legotype": "LEGO_TYPE_K8S",
    "name": "Get all K8s Pods in ImagePullBackOff State",
    "nouns": [],
    "orderProperties": [
     "namespace"
    ],
    "output": {
     "type": ""
    },
    "outputParams": {
     "output_name": "imagepullbackoff_pods",
     "output_name_enabled": true
    },
    "printOutput": true,
    "probeEnabled": false,
    "tags": [
     "k8s_get_pods_in_imagepullbackoff_state"
    ],
    "title": "Get all K8s Pods in ImagePullBackOff State",
    "trusted": true,
    "verbs": [],
    "credentialsJson": {}
   },
   "outputs": [],
   "source": [
    "#\n",
    "# Copyright (c) 2022 unSkript.com\n",
    "# All rights reserved.\n",
    "#\n",
    "\n",
    "from pydantic import BaseModel, Field\n",
    "from typing import Optional, Tuple\n",
    "from unskript.legos.utils import CheckOutput, CheckOutputStatus\n",
    "from collections import defaultdict\n",
    "import json\n",
    "import pprint\n",
    "import re\n",
    "\n",
    "from beartype import beartype\n",
    "@beartype\n",
    "def k8s_get_pods_in_imagepullbackoff_state_printer(output):\n",
    "    if output is None:\n",
    "        return\n",
    "    if isinstance(output, CheckOutput):\n",
    "        print(output.json())\n",
    "    else:\n",
    "        pprint.pprint(output)\n",
    "\n",
    "\n",
    "@beartype\n",
    "def k8s_get_pods_in_imagepullbackoff_state(handle, namespace: str=None) -> Tuple:\n",
    "    \"\"\"k8s_get_list_of_pods_with_imagepullbackoff_state executes the given kubectl command to find pods in ImagePullBackOff State\n",
    "\n",
    "        :type handle: object\n",
    "        :param handle: Object returned from the Task validate method\n",
    "\n",
    "        :type namespace: Optional[str]\n",
    "        :param namespace: Namespace to get the pods from. Eg:\"logging\", if not given all namespaces are considered\n",
    "\n",
    "        :rtype: Status, List of pods in CrashLoopBackOff State\n",
    "    \"\"\"\n",
    "    if handle.client_side_validation != True:\n",
    "        print(f\"K8S Connector is invalid: {handle}\")\n",
    "        return str()\n",
    "    kubectl_command =\"kubectl get pods --all-namespaces | grep ImagePullBackOff | tr -s ' ' | cut -d ' ' -f 1,2\"\n",
    "    if namespace:\n",
    "        kubectl_command = \"kubectl get pods -n \" + namespace + \" | grep ImagePullBackOff | cut -d' ' -f 1 | tr -d ' '\"\n",
    "    response = handle.run_native_cmd(kubectl_command)\n",
    "    if response is None or hasattr(response, \"stderr\") is False or response.stderr is None:\n",
    "        print(\n",
    "            f\"Error while executing command ({kubectl_command}): {response.stderr}\")\n",
    "        return str()\n",
    "    temp = response.stdout\n",
    "    result = []\n",
    "    res = []\n",
    "    unhealthy_pods =[]\n",
    "    unhealthy_pods_tuple = ()\n",
    "    if not namespace:\n",
    "        all_namespaces = re.findall(r\"(\\S+).*\",temp)\n",
    "        all_unhealthy_pods = re.findall(r\"\\S+\\s+(.*)\",temp)\n",
    "        unhealthy_pods = [(i, j) for i, j in zip(all_namespaces, all_unhealthy_pods)]\n",
    "        res = defaultdict(list)\n",
    "        for key, val in unhealthy_pods:\n",
    "            res[key].append(val)\n",
    "    elif namespace:\n",
    "        all_pods = []\n",
    "        all_unhealthy_pods =[]\n",
    "        all_pods = re.findall(r\"(\\S+).*\",temp)\n",
    "        for p in all_pods:\n",
    "                unhealthy_pods_tuple = (namespace,p)\n",
    "                unhealthy_pods.append(unhealthy_pods_tuple)\n",
    "        res = defaultdict(list)\n",
    "        for key, val in unhealthy_pods:\n",
    "            res[key].append(val)\n",
    "    if len(res)!=0:\n",
    "        result.append(dict(res))\n",
    "    if len(result) != 0:\n",
    "        return (False, result)\n",
    "    else:\n",
    "        return (True, None)\n",
    "\n",
    "\n",
    "task = Task(Workflow())\n",
    "task.configure(inputParamsJson='''{\n",
    "    \"namespace\": \"namespace\"\n",
    "    }''')\n",
    "\n",
    "task.configure(outputName=\"imagepullbackoff_pods\")\n",
    "\n",
    "task.configure(printOutput=True)\n",
    "(err, hdl, args) = task.validate(vars=vars())\n",
    "if err is None:\n",
    "    task.execute(k8s_get_pods_in_imagepullbackoff_state, lego_printer=k8s_get_pods_in_imagepullbackoff_state_printer, hdl=hdl, args=args)"
   ],
   "output": {}
  },
  {
   "cell_type": "markdown",
   "id": "7b195002-2041-48dc-a7de-3ca871925e58",
   "metadata": {
    "jupyter": {
     "source_hidden": false
    },
    "name": "Step 1A",
    "orderProperties": [],
    "tags": [],
    "title": "Step 1A"
   },
   "source": [
    "<h3 id=\"Create-List-of-commands-to-get-Events&para;\">Create List of commands to get Events<a class=\"jp-InternalAnchorLink\" href=\"#Examine-the-Events\" target=\"_self\" rel=\"noopener\">&para;</a><a class=\"jp-InternalAnchorLink\" href=\"#Create-List-of-commands-to-get-Events&para;\" target=\"_self\">&para;</a></h3>\n",
    "<p>Examine the output from Step 1\ud83d\udc46,&nbsp; and create a list of commands for each pod in a namespace that is found to be in the ImagePullBackOff State</p>\n",
    "<blockquote>\n",
    "<p>This action captures the following ouput:&nbsp;<code>all_unhealthy_pods</code></p>\n",
    "</blockquote>"
   ]
  },
  {
   "cell_type": "code",
   "execution_count": 6,
   "id": "52ca8812-faef-4953-a4e6-94ba17bb5c17",
   "metadata": {
    "collapsed": true,
    "customAction": true,
    "execution_data": {
     "last_date_success_run_cell": "2023-02-12T07:09:54.887Z"
    },
    "jupyter": {
     "outputs_hidden": true,
     "source_hidden": true
    },
    "name": "Create List of commands to get Events",
    "orderProperties": [],
    "tags": [],
    "title": "Create List of commands to get Events",
    "trusted": true,
    "credentialsJson": {}
   },
   "outputs": [],
   "source": [
    "all_unhealthy_pods = []\n",
    "for each_pod_dict in imagepullbackoff_pods:\n",
    "    if type(each_pod_dict)==list:\n",
    "        for pod in each_pod_dict:\n",
    "            for k,v in pod.items():\n",
    "                if len(v)!=0:\n",
    "                    nspace = k\n",
    "                    u_pod = ' '.join([str(each_pod) for each_pod in v])\n",
    "                    cmd = \"kubectl describe pod \"+u_pod+\" -n \"+nspace+\" | grep -A 10 Events\"\n",
    "                    all_unhealthy_pods.append(cmd)\n",
    "print(all_unhealthy_pods)"
   ],
   "output": {}
  },
  {
   "cell_type": "markdown",
   "id": "380b03f3-b09c-4836-8d50-15ee8021d0e4",
   "metadata": {
    "jupyter": {
     "source_hidden": false
    },
    "name": "Step 2",
    "orderProperties": [],
    "tags": [],
    "title": "Step 2"
   },
   "source": [
    "<h3 id=\"Gather-information-of-the-pods\">Extract Events of the pods<a class=\"jp-InternalAnchorLink\" href=\"#Gather-information-of-the-pods\" target=\"_self\">&para;</a></h3>\n",
    "<p>This action describes events for a list of unhealthy pods obtained in Step 1.</p>\n",
    "<blockquote>\n",
    "<p>This action captures the following ouput: <code>describe_output</code></p>\n",
    "</blockquote>"
   ]
  },
  {
   "cell_type": "code",
   "execution_count": 5,
   "id": "cae3c677-fe96-4d0e-9d64-1b11abd00883",
   "metadata": {
    "accessType": "ACCESS_TYPE_UNSPECIFIED",
    "actionBashCommand": false,
    "actionNeedsCredential": true,
    "actionRequiredLinesInCode": [],
    "actionSupportsIteration": true,
    "actionSupportsPoll": true,
    "action_modified": false,
    "action_uuid": "4d3b4c6153e14622f42b332b7c7b8f7043577971f64edc5be6b5f8b40d5b89d1",
    "condition_enabled": true,
    "continueOnError": true,
    "createTime": "1970-01-01T00:00:00Z",
    "currentVersion": "0.1.0",
    "description": "Execute the given Kubectl command.",
    "execution_data": {
     "last_date_success_run_cell": "2023-02-02T10:40:57.664Z"
    },
    "id": 51,
    "index": 51,
    "inputData": [
     {
      "kubectl_command": {
       "constant": false,
       "value": "iter_item"
      }
     }
    ],
    "inputschema": [
     {
      "properties": {
       "kubectl_command": {
        "description": "kubectl command eg \"kubectl get pods --all-namespaces\"",
        "title": "Kubectl Command",
        "type": "string"
       }
      },
      "required": [
       "kubectl_command"
      ],
      "title": "k8s_kubectl_command",
      "type": "object"
     }
    ],
    "iterData": [
     {
      "iter_enabled": true,
      "iter_item": "kubectl_command",
      "iter_list": {
       "constant": false,
       "objectItems": false,
       "value": "all_unhealthy_pods"
      }
     }
    ],
    "jupyter": {
     "source_hidden": true
    },
    "legotype": "LEGO_TYPE_K8S",
    "name": "Extract Events for the Pods",
    "nouns": [],
    "orderProperties": [
     "kubectl_command"
    ],
    "output": {
     "type": ""
    },
    "outputParams": {
     "output_name": "describe_output",
     "output_name_enabled": true
    },
    "printOutput": true,
    "startcondition": "len(all_unhealthy_pods)!=0",
    "tags": [
     "k8s_kubectl_command"
    ],
    "title": "Extract Events for the Pods",
    "verbs": [],
    "credentialsJson": {}
   },
   "outputs": [],
   "source": [
    "#\n",
    "# Copyright (c) 2022 unSkript.com\n",
    "# All rights reserved.\n",
    "#\n",
    "\n",
    "from pydantic import BaseModel, Field\n",
    "\n",
    "from beartype import beartype\n",
    "@beartype\n",
    "def k8s_kubectl_command_printer(output):\n",
    "    if output is None:\n",
    "        return\n",
    "    print(output)\n",
    "\n",
    "\n",
    "@beartype\n",
    "def k8s_kubectl_command(handle, kubectl_command: str) -> str:\n",
    "    \"\"\"k8s_kubectl_command executes the given kubectl command on the pod\n",
    "\n",
    "        :type handle: object\n",
    "        :param handle: Object returned from the Task validate method\n",
    "\n",
    "        :type kubectl_command: str\n",
    "        :param kubectl_command: The Actual kubectl command, like kubectl get ns, etc..\n",
    "\n",
    "        :rtype: String, Output of the command in python string format or Empty String in case of Error.\n",
    "    \"\"\"\n",
    "    if handle.client_side_validation != True:\n",
    "        print(f\"K8S Connector is invalid: {handle}\")\n",
    "        return str()\n",
    "    result = handle.run_native_cmd(kubectl_command)\n",
    "    if result is None or hasattr(result, \"stderr\") is False or result.stderr is None:\n",
    "        print(\n",
    "            f\"Error while executing command ({kubectl_command}): {result.stderr}\")\n",
    "        return str()\n",
    "\n",
    "    return result.stdout\n",
    "\n",
    "\n",
    "task = Task(Workflow())\n",
    "task.configure(continueOnError=True)\n",
    "task.configure(inputParamsJson='''{\n",
    "    \"kubectl_command\": \"iter_item\"\n",
    "    }''')\n",
    "task.configure(iterJson='''{\n",
    "    \"iter_enabled\": true,\n",
    "    \"iter_list_is_const\": false,\n",
    "    \"iter_list\": \"all_unhealthy_pods\",\n",
    "    \"iter_parameter\": \"kubectl_command\"\n",
    "    }''')\n",
    "task.configure(conditionsJson='''{\n",
    "    \"condition_enabled\": true,\n",
    "    \"condition_cfg\": \"len(all_unhealthy_pods)!=0\",\n",
    "    \"condition_result\": true\n",
    "    }''')\n",
    "task.configure(outputName=\"describe_output\")\n",
    "\n",
    "task.configure(printOutput=True)\n",
    "(err, hdl, args) = task.validate(vars=vars())\n",
    "if err is None:\n",
    "    task.execute(k8s_kubectl_command, lego_printer=k8s_kubectl_command_printer, hdl=hdl, args=args)"
   ],
   "output": {}
  },
  {
   "cell_type": "markdown",
   "id": "67287ce3-806d-458b-9fe5-ed0e6b146252",
   "metadata": {
    "jupyter": {
     "source_hidden": false
    },
    "name": "Step 2B",
    "orderProperties": [],
    "tags": [],
    "title": "Step 2B"
   },
   "source": [
    "<h3 id=\"Examine-the-Events&para;\">Examine the Events<a class=\"jp-InternalAnchorLink\" href=\"#Examine-the-Events\" target=\"_self\" rel=\"noopener\">&para;</a><a class=\"jp-InternalAnchorLink\" href=\"#Examine-the-Events&para;\" target=\"_self\">&para;</a></h3>\n",
    "<p>This Custom Action searches Known errors .&nbsp;The well known errors are listed in the error_msgs variable. If&nbsp;there is a new error message that was found, it can be added to the list.</p>"
   ]
  },
  {
   "cell_type": "code",
   "execution_count": 12,
   "id": "6df7c408-377b-4ea8-a33c-ff3c5329fbaa",
   "metadata": {
    "execution_data": {
     "last_date_success_run_cell": "2023-02-01T12:11:36.653Z"
    },
    "jupyter": {
     "source_hidden": true
    },
    "name": "Examine Events",
    "orderProperties": [],
    "tags": [],
    "title": "Examine Events",
    "credentialsJson": {}
   },
   "outputs": [],
   "source": [
    "import re\n",
    "\n",
    "\"\"\"\n",
    "This Custom Action searches Known errors in the podEvents variable.\n",
    "The well known errors are listed in the error_msgs variable. If\n",
    "there is a new error message that was found, you can add it to this\n",
    "list and the next run, the runbook will catch that error.\n",
    "\"\"\"\n",
    "\n",
    "def check_msg(msg, err):\n",
    "    return re.search(err, msg)\n",
    "\n",
    "error_msgs = [\"repository (.*) does not exist or no pull access\",\n",
    "              \"manifest for (.*) not found\",\n",
    "              \"pull access denied, repository does not exist or may require authorization\",\n",
    "             \"Back-off pulling image (.*)\"]\n",
    "cause_found = False\n",
    "result = ''\n",
    "for key, msg in describe_output.items():\n",
    "    for err in error_msgs:\n",
    "        result = check_msg(msg, err)\n",
    "        if result is not None:\n",
    "            print(\"PROBABLE CAUSE: \", f\"{result.string}\")\n",
    "            cause_found = True\n",
    "\n",
    "repoLocation = ''\n",
    "if cause_found is False:\n",
    "    print(\"ERROR MESSAGE : \\n\", all_describe_info)\n",
    "else:\n",
    "    try:\n",
    "        repoLocation = result.groups()[0]\n",
    "    except:\n",
    "        pass\n",
    "    else:\n",
    "        print(\"Image Repo Location : \", repoLocation)"
   ],
   "output": {}
  },
  {
   "cell_type": "markdown",
   "id": "83081ee6-55c1-4f82-923b-ed6c4e054d35",
   "metadata": {
    "jupyter": {
     "source_hidden": false
    },
    "name": "Step 3",
    "orderProperties": [],
    "tags": [],
    "title": "Step 3"
   },
   "source": [
    "<h3 id=\"Create-List-of-commands-to-get-Exit-Code&para;\">Check Registry Accessibility<a class=\"jp-InternalAnchorLink\" href=\"#Examine-the-Events\" target=\"_self\" rel=\"noopener\">&para;</a><a class=\"jp-InternalAnchorLink\" href=\"#Create-List-of-commands-to-get-Exit-Code&para;\" target=\"_self\">&para;</a></h3>\n",
    "<p>From the output from Step 2B\ud83d\udc46check if the repoLocation is accessible.</p>"
   ]
  },
  {
   "cell_type": "code",
   "execution_count": 13,
   "id": "d3fbe0a1-6669-490f-8ffc-3e4e11a32156",
   "metadata": {
    "execution_data": {
     "last_date_success_run_cell": "2023-02-01T12:12:22.323Z"
    },
    "jupyter": {
     "source_hidden": true
    },
    "name": "Check Registry Accessibility",
    "orderProperties": [],
    "tags": [],
    "title": "Check Registry Accessibility",
    "credentialsJson": {}
   },
   "outputs": [],
   "source": [
    "from IPython.display import Markdown as md\n",
    "\n",
    "if repoLocation is not None:\n",
    "    display(md(f\"**Please verify Repo {repoLocation} is accessible from the K8S POD**\"))"
   ],
   "output": {}
  },
  {
   "cell_type": "markdown",
   "id": "c8fa5b68",
   "metadata": {},
   "source": [
    "<h3 id=\"Conclusion\">Conclusion<a class=\"jp-InternalAnchorLink\" href=\"#Conclusion\" target=\"_self\">&para;</a></h3>\n",
    "<p>In this Runbook, we were able to identify pods stuck in ImagePullBackOff State and examined the possible event that caused it's failure using unSkript's K8s actions. To view the full platform capabilities of unSkript please visit <a href=\"https://us.app.unskript.io\" target=\"_blank\" rel=\"noopener\">us.app.unskript.io</a></p>"
   ]
  }
 ],
 "metadata": {
  "execution_data": {
   "environment_name": "",
   "environment_type": "ENVIRONMENT_TYPE_AWS_EC2",
   "execution_id": "",
   "inputs_for_searched_lego": "",
   "notebook_id": "49d8f1ca-ce4b-4ad4-91eb-1775dfd3cf6d.ipynb",
   "parameters": [
    "namespace"
   ],
   "proxy_id": "1b032d60-0671-498f-a117-6c2f355648fe",
   "runbook_name": "K8S Pod in ImagePullBackOff State",
   "search_string": "",
   "show_tool_tip": false,
   "tenant_id": "",
   "tenant_url": "",
   "user_email_id": "",
   "workflow_id": "97ea8f79-ead4-449e-844a-dfc8ed651315",
   "environment_id": ""
  },
  "kernelspec": {
   "display_name": "Python 3.9.6 64-bit",
   "language": "python",
   "name": "python3"
  },
  "language_info": {
   "file_extension": ".py",
   "mimetype": "text/x-python",
   "name": "python",
   "pygments_lexer": "ipython3",
   "version": "3.9.6"
  },
  "parameterSchema": {
   "properties": {
    "namespace": {
     "description": "K8S Namespace",
     "title": "namespace",
     "type": "string"
    }
   },
   "required": [],
   "title": "Schema",
   "type": "object"
  },
  "parameterValues": null,
  "vscode": {
   "interpreter": {
    "hash": "31f2aee4e71d21fbe5cf8b01ff0e069b9275f58929596ceb00d14d90e3e16cd6"
   }
  }
 },
 "nbformat": 4,
 "nbformat_minor": 5
}