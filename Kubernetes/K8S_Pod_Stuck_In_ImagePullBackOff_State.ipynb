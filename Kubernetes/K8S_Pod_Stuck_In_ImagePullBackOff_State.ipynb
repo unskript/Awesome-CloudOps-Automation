{
    "cells": [
        {
            "cell_type": "markdown",
            "id": "f518e5b7-08a7-425c-9d86-cfc629d5b355",
            "metadata": {
                "jupyter": {
                    "source_hidden": false
                },
                "name": "K8S Pod Stuck in ImagePullBackOff State",
                "orderProperties": [],
                "tags": [],
                "title": "K8S Pod Stuck in ImagePullBackOff State"
            },
            "source": [
                "***\n",
                "<img src=\"https://unskript.com/assets/favicon.png\" alt=\"unSkript.com\" width=\"100\" height=\"100\"/> \n",
                "<h1> unSkript Runbooks </h1>\n",
                "<div class=\"alert alert-block alert-success\">\n",
                "    <b> This runbook demonstrates the usage of K8S kubectl action.\n",
                "    Using this action, we can query the K8S cluster and find out pod(s) stuck in ImagePullBackOff state.\n",
                "    </b>\n",
                "</div>\n",
                "\n",
                "<br>\n",
                "<a href=\"https://us.app.unskript.io/profiles/a53b5860500e142aa387ce55d5e85f139596c521dfb5c920cc2bc47c38fc0b11\">Open in unSkript</a>\n",
                "\n",
                "<center><h2>K8S Pod stuck in ImagePullBackOff State</h2></center>\n",
                "\n",
                "An `ImagePullBackOff` error occurs when a Pod startup fails to pull the specified image. The reasons could be Non-Existent of the repository or Permission to Access the repository issues. This runbook helps to walk through the steps involved in debugging such a Pod. \n",
                "\n",
                "    The POD stuck in such a state generally is shown like this with kubectl command\n",
                "    \n",
                "       NAME                     READY     STATUS             RESTARTS   AGE\n",
                "       nginx-7ef9efa7cd-qasd2   0/1       ImagePullBackOff   0          1m\n",
                "    \n",
                "   \n",
                "\n",
                "### Initial Steps Overview\n",
                "    1. Gather Information\n",
                "    1.1 Create a list of Pods in ImagePullBackOff state\n",
                "    1.2 Extract Events for the Pod\n",
                "    2. Examine Events \n",
                "    3. Check Registry Accessibility\n",
                "    \n",
                "    \n",
                "The Original Author of this Runbook is [Ian Miell](https://containersolutions.github.io/runbooks/posts/kubernetes/imagepullbackoff/)\n",
                "***"
            ]
        },
        {
            "cell_type": "markdown",
            "id": "126c73a8",
            "metadata": {},
            "source": [
                "### 1. Gather Information\n",
                "\n",
                "We will use `kubectl get pods -n {namespace} | grep ImagePullBackOff` to find out all the PODs that are stuck in \n",
                "the `ImagePullBackOff` state for the given `namespace`. Please note, we will be using the unSkript's `kubectl lego` \n",
                "to accomplish this task. We then will store this list as `unhealthyPods`.  This covers Steps `1.0` and `1.1`."
            ]
        },
        {
            "cell_type": "code",
            "execution_count": 20,
            "id": "d1fa44ba-ca9f-4470-970f-0150d5ef3e44",
            "metadata": {
                "accessType": "ACCESS_TYPE_UNSPECIFIED",
                "actionBashCommand": false,
                "actionNeedsCredential": true,
                "actionSupportsIteration": true,
                "actionSupportsPoll": true,
                "action_uuid": "ae0b25757f0c6c0ca4b3aaf6feea636e3f193dc354f74823a7becd7d675becdc",
                "createTime": "1970-01-01T00:00:00Z",
                "credentialsJson": {},
                "currentVersion": "0.1.0",
                "description": "Kubectl command in python syntax.",
                "execution_data": {
                    "last_date_success_run_cell": "2022-07-14T23:08:43.749Z"
                },
                "id": 21,
                "index": 21,
                "inputData": [
                    {
                        "kubectl_command": {
                            "constant": false,
                            "value": "f\"kubectl get pods -n {namespace} | grep ImagePullBackOff | cut -d' ' -f 1 | tr -d ' '\""
                        }
                    }
                ],
                "inputschema": [
                    {
                        "properties": {
                            "kubectl_command": {
                                "description": "kubectl command eg \"kubectl get pods --all-namespaces\"",
                                "title": "Kubectl Command",
                                "type": "string"
                            }
                        },
                        "required": [
                            "kubectl_command"
                        ],
                        "title": "k8s_kubectl_command",
                        "type": "object"
                    }
                ],
                "legotype": "LEGO_TYPE_K8S",
                "name": "1.1  Create List of Pods with ImagePullBackOff State",
                "nouns": [
                    "command"
                ],
                "orderProperties": [
                    "kubectl_command"
                ],
                "output": {
                    "type": ""
                },
                "outputParams": {
                    "output_name": "unhealthyPods",
                    "output_name_enabled": true
                },
                "tags": [
                    "k8s_kubectl_command"
                ],
                "title": "1.1  Create List of Pods with ImagePullBackOff State",
                "trusted": true,
                "verbs": [
                    "execute"
                ]
            },
            "outputs": [],
            "source": [
                "#\n",
                "# Copyright (c) 2022 unSkript.com\n",
                "# All rights reserved.\n",
                "#\n",
                "\n",
                "from pydantic import BaseModel, Field\n",
                "\n",
                "\n",
                "from beartype import beartype\n",
                "\n",
                "def k8s_kubectl_command_printer(output):\n",
                "    if output is None:\n",
                "        return\n",
                "    print(output)\n",
                "\n",
                "@beartype\n",
                "def k8s_kubectl_command(handle, kubectl_command: str) -> str:\n",
                "    if handle.client_side_validation != True:\n",
                "        print(f\"Connector for K8S is invalid {handle}\")\n",
                "        return str()\n",
                "    \n",
                "    result = handle.run_native_cmd(kubectl_command)\n",
                "    if result is None or hasattr(result, \"stderr\") is False or result.stderr is None:\n",
                "        print(\n",
                "            f\"Error while executing command ({kubectl_command}): {result.stderr}\")\n",
                "        return str()\n",
                "\n",
                "    return result.stdout\n",
                "\n",
                "\n",
                "task = Task(Workflow())\n",
                "task.configure(inputParamsJson='''{\n",
                "    \"kubectl_command\": \"f\\\\\"kubectl get pods -n {namespace} | grep ImagePullBackOff | cut -d' ' -f 1 | tr -d ' '\\\\\"\"\n",
                "    }''')\n",
                "task.configure(outputName=\"unhealthyPods\")\n",
                "(err, hdl, args) = task.validate(vars=vars())\n",
                "if err is None:\n",
                "    task.execute(k8s_kubectl_command, hdl=hdl, args=args, lego_printer=k8s_kubectl_command_printer)"
            ]
        },
        {
            "cell_type": "markdown",
            "id": "c0ce676a",
            "metadata": {},
            "source": [
                "### 1.2 Extract Events for the Pod\n",
                "\n",
                "Here we will iterate over the `unhealthyPods` list, use the unSkript `kubectl` Lego once again\n",
                "to find out the `describe` the `unhealthyPods` and extract the `Events` section for those `pods`.\n",
                "\n",
                "This Action performs the equivalent of  `kubectl describe pod -n {namespace} unhealthyPods`. \n",
                "And captures the `Events` section of the `kubectl describe pod` output. This output is stored \n",
                "in a variable `podEvents`."
            ]
        },
        {
            "cell_type": "code",
            "execution_count": 27,
            "id": "4f69b675-ae69-48c0-8211-f9e0f2c0991d",
            "metadata": {
                "accessType": "ACCESS_TYPE_UNSPECIFIED",
                "actionBashCommand": false,
                "actionNeedsCredential": true,
                "actionSupportsIteration": true,
                "actionSupportsPoll": true,
                "action_uuid": "ae0b25757f0c6c0ca4b3aaf6feea636e3f193dc354f74823a7becd7d675becdc",
                "createTime": "1970-01-01T00:00:00Z",
                "credentialsJson": {},
                "currentVersion": "0.1.0",
                "description": "Kubectl command in python syntax.",
                "execution_data": {
                    "last_date_success_run_cell": "2022-07-14T23:51:20.252Z"
                },
                "id": 21,
                "index": 21,
                "inputData": [
                    {
                        "kubectl_command": {
                            "constant": false,
                            "value": "f\"kubectl describe pod {unhealthyPods.strip()} -n {namespace} | grep -A 10 Events\""
                        }
                    }
                ],
                "inputschema": [
                    {
                        "properties": {
                            "kubectl_command": {
                                "description": "kubectl command eg \"kubectl get pods --all-namespaces\"",
                                "title": "Kubectl Command",
                                "type": "string"
                            }
                        },
                        "required": [
                            "kubectl_command"
                        ],
                        "title": "k8s_kubectl_command",
                        "type": "object"
                    }
                ],
                "legotype": "LEGO_TYPE_K8S",
                "name": "1.2 Extract Events for the Pods",
                "nouns": [
                    "command"
                ],
                "orderProperties": [
                    "kubectl_command"
                ],
                "output": {
                    "type": ""
                },
                "outputParams": {
                    "output_name": "podEvents",
                    "output_name_enabled": true
                },
                "tags": [
                    "k8s_kubectl_command"
                ],
                "title": "1.2 Extract Events for the Pods",
                "trusted": true,
                "verbs": [
                    "execute"
                ]
            },
            "outputs": [],
            "source": [
                "#\n",
                "# Copyright (c) 2021 unSkript.com\n",
                "# All rights reserved.\n",
                "#\n",
                "\n",
                "from pydantic import BaseModel, Field\n",
                "\n",
                "\n",
                "from beartype import beartype\n",
                "\n",
                "def k8s_kubectl_command_printer(output):\n",
                "    if output is None:\n",
                "        return\n",
                "    print(output)\n",
                "\n",
                "@beartype\n",
                "def k8s_kubectl_command(handle, kubectl_command: str) -> str:\n",
                "    if handle.client_side_validation != True:\n",
                "        print(f\"Connector for K8S is invalid {handle}\")\n",
                "        return str()\n",
                "    \n",
                "    result = handle.run_native_cmd(kubectl_command)\n",
                "    if result is None or hasattr(result, \"stderr\") is False or result.stderr is None:\n",
                "        print(\n",
                "            f\"Error while executing command ({kubectl_command}): {result.stderr}\")\n",
                "        return str()\n",
                "\n",
                "    return result.stdout\n",
                "\n",
                "\n",
                "task = Task(Workflow())\n",
                "task.configure(inputParamsJson='''{\n",
                "    \"kubectl_command\": \"f\\\\\"kubectl describe pod {unhealthyPods.strip()} -n {namespace} | grep -A 10 Events\\\\\"\"\n",
                "    }''')\n",
                "task.configure(outputName=\"podEvents\")\n",
                "(err, hdl, args) = task.validate(vars=vars())\n",
                "if err is None:\n",
                "    task.execute(k8s_kubectl_command, hdl=hdl, args=args, lego_printer=k8s_kubectl_command_printer)"
            ]
        },
        {
            "cell_type": "markdown",
            "id": "44d0ef0b",
            "metadata": {},
            "source": [
                "### 2 Examine Events\n",
                "\n",
                "This is an `unSkript custom cell` in this example, we show how we can process the `podEvents` \n",
                "from the Earlier action and identify possible cause fot he pod stuck in `ImagePullBackOff` state."
            ]
        },
        {
            "cell_type": "code",
            "execution_count": 25,
            "id": "6df7c408-377b-4ea8-a33c-ff3c5329fbaa",
            "metadata": {
                "execution_data": {
                    "last_date_success_run_cell": "2022-07-14T23:23:07.619Z"
                },
                "jupyter": {
                    "source_hidden": true
                },
                "name": "2. Examine Events",
                "orderProperties": [],
                "tags": [],
                "title": "2. Examine Events",
                "trusted": true
            },
            "outputs": [],
            "source": [
                "import re\n",
                "\n",
                "\"\"\"\n",
                "This Custom Action searches Known errors in the podEvents variable.\n",
                "The well known errors are listed in the error_msgs variable. If\n",
                "there is a new error message that was found, you can add it to this\n",
                "list and the next run, the runbook will catch that error.\n",
                "\"\"\"\n",
                "\n",
                "def check_msg(msg):\n",
                "    return re.search(msg, podEvents)\n",
                "\n",
                "error_msgs = [\"repository (.*) does not exist or no pull access\",\n",
                "              \"manifest for (.*) not found\",\n",
                "              \"pull access denied, repository does not exist or may require authorization\",\n",
                "             \"Back-off pulling image (.*)\"]\n",
                "cause_found = False\n",
                "result = ''\n",
                "for err in error_msgs:\n",
                "    result = check_msg(err)\n",
                "    if result is not None:\n",
                "        print(\"PROBABLE CAUSE: \", f\"{result.string}\")\n",
                "        cause_found = True\n",
                "\n",
                "repoLocation = ''\n",
                "if cause_found is False:\n",
                "    print(\"ERROR MESSAGE : \\n\", podEvents)\n",
                "else:\n",
                "    try:\n",
                "        repoLocation = result.groups()[0]\n",
                "    except:\n",
                "        pass\n",
                "    else:\n",
                "        print(\"Image Repo Location : \", repoLocation)"
            ]
        },
        {
            "cell_type": "markdown",
            "id": "7e60f0ad",
            "metadata": {},
            "source": [
                "### 3 Check Registry Accessibility\n",
                "\n",
                "This once again uses `unSkript custom cell` to indicate the user to check if the Docker image registry\n",
                "is accessible from the Pod."
            ]
        },
        {
            "cell_type": "code",
            "execution_count": 26,
            "id": "d3fbe0a1-6669-490f-8ffc-3e4e11a32156",
            "metadata": {
                "execution_data": {
                    "last_date_success_run_cell": "2022-07-14T23:23:11.526Z"
                },
                "jupyter": {
                    "source_hidden": true
                },
                "name": "3. Check Registry Accessibility",
                "orderProperties": [],
                "tags": [],
                "title": "3. Check Registry Accessibility",
                "trusted": true
            },
            "outputs": [],
            "source": [
                "from IPython.display import Markdown as md\n",
                "\n",
                "if repoLocation is not None:\n",
                "    display(md(f\"**Please verify Repo {repoLocation} is accessible from the K8S POD**\"))"
            ]
        },
        {
            "cell_type": "markdown",
            "id": "a0e404c2",
            "metadata": {},
            "source": [
                "### Conclusion\n",
                "\n",
                "This Runbook demonstrated the ease of using unSkript Legos to construct a full fledged runbook that\n",
                "is ready to be use. With simple Legos provided by unSkript, it is possible to construct complex workflows\n",
                "to accomplish mission critical tasks. \n",
                "\n",
                "For more information about `unSkript` please visit us at `www.unskript.com`"
            ]
        }
    ],
    "metadata": {
        "execution_data": {
            "environment_id": "1b032d60-0671-498f-a117-6c2f355648fe",
            "environment_name": "SingleAMIInstance",
            "execution_id": "8f8e34a9-5ad0-4687-81df-1299840d80fb",
            "inputs_for_searched_lego": "",
            "notebook_id": "workflow.ipynb",
            "parameters": [
                "namespace"
            ],
            "runbook_name": "K8S Pod in ImagePullBackOff State",
            "search_string": "",
            "show_tool_tip": false,
            "tenant_id": "117718cf-b601-4a00-9164-3e4311468e45",
            "tenant_url": "https://tenant-jayasimha.dev.unskript.io",
            "user_email_id": "jayasimha@unskript.com",
            "workflow_id": "97ea8f79-ead4-449e-844a-dfc8ed651315"
        },
        "kernelspec": {
            "display_name": "Python 3.8.2 64-bit",
            "language": "python",
            "name": "python3"
        },
        "language_info": {
            "file_extension": ".py",
            "mimetype": "text/x-python",
            "name": "python",
            "pygments_lexer": "ipython3",
            "version": "3.8.2"
        },
        "parameterSchema": {
            "properties": {
                "namespace": {
                    "description": "K8S Namespace",
                    "title": "namespace",
                    "type": "string"
                }
            },
            "required": [
                "namespace"
            ],
            "title": "Schema",
            "type": "object"
        },
        "parameterValues": {
            "namespace": "sbox-jayasimha"
        },
        "vscode": {
            "interpreter": {
                "hash": "31f2aee4e71d21fbe5cf8b01ff0e069b9275f58929596ceb00d14d90e3e16cd6"
            }
        }
    },
    "nbformat": 4,
    "nbformat_minor": 5
}
