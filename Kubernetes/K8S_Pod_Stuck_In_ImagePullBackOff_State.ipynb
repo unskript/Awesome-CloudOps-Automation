{
    "nbformat": 4,
    "nbformat_minor": 5,
    "metadata": {
        "kernelspec": {
            "name": "python3",
            "display_name": "unSkript (Build: 933)"
        },
        "language_info": {
            "name": "python",
            "file_extension": ".py",
            "mimetype": "text/x-python",
            "pygments_lexer": "ipython3"
        },
        "execution_data": {
            "workflow_id": "a39652b8-bed9-4dea-a66d-d81055506aec",
            "execution_id": "b05574e9-9d25-4088-89bb-f1d239db6841",
            "notebook_id": "687c9fb1-73d3-4ea6-af7f-4c89e42827f0.ipynb",
            "tenant_id": "da0129a2-da0d-4d69-acc0-c3f251bf8b10",
            "tenant_url": "https://us.app.unskript.io",
            "proxy_id": "0cbcf9dd-c2e6-4b54-a55a-4f5985cf87cb",
            "parameters": [
                "namespace"
            ],
            "runbook_name": "k8s: Pod Stuck in ImagePullBackOff State",
            "environment_name": "test",
            "show_tool_tip": false,
            "search_string": "",
            "inputs_for_searched_lego": "",
            "user_email_id": "amitchandak10@gmail.com",
            "environment_type": "ENVIRONMENT_TYPE_UNSKRIPT_HOSTED"
        },
        "parameterSchema": {
            "properties": {
                "namespace": {
                    "default": "da0129a2-da0d-4d69-acc0-c3f251bf8b10",
                    "description": "K8S Namespace",
                    "title": "namespace",
                    "type": "string"
                }
            },
            "required": [
                "namespace"
            ],
            "title": "Schema",
            "type": "object"
        },
        "parameterValues": {
            "namespace": "da0129a2-da0d-4d69-acc0-c3f251bf8b10"
        }
    },
    "cells": [
        {
            "id": "f545c8ef-1ed4-40f7-89b7-0d6f1a05b29a",
            "cell_type": "code",
            "metadata": {
                "actionNeedsCredential": false,
                "actionSupportsIteration": false,
                "actionSupportsPoll": false,
                "deletable": false,
                "editable": false,
                "jupyter": {
                    "source_hidden": true
                },
                "name": "unSkript Internal",
                "orderProperties": [],
                "tags": [
                    "unSkript:nbParam"
                ],
                "title": [
                    "unSkript Internal"
                ],
                "trusted": true
            },
            "source": "import json\nimport os\nfrom unskript import nbparams\nfrom unskript.secrets import ENV_MODE, ENV_MODE_AWS\nfrom unskript.fwk.workflow import Task, Workflow\n\nenv = {\"ENV_MODE\":\"ENV_MODE_UNSKRIPT_HOSTED\",\"TENANT_ID\":\"da0129a2-da0d-4d69-acc0-c3f251bf8b10\",\"PROXY_ID\":\"0cbcf9dd-c2e6-4b54-a55a-4f5985cf87cb\",\"TENANT_URL\":\"https://us.app.unskript.io\",\"AWS_REGION\":\"us-west-2\"}\nsecret_store_cfg = {\"SECRET_STORE_TYPE\":\"SECRET_STORE_TYPE_AWS\",\"AWS_SECRET_PREFIX\":\"\",\"AWS_REGION\":\"us-west-2\"}\nos.environ[\"UNSKRIPT_REDIS_HOST\"] = \"redis-master.redis.svc.cluster.local\"\nos.environ[\"UNSKRIPT_TOKEN\"] = \"5c4a5754-0600-11ec-9a03-0242ac130003\"\nos.environ[\"TENANT_URL\"] = env[\"TENANT_URL\"]\nparamDict = {\"namespace\":\"da0129a2-da0d-4d69-acc0-c3f251bf8b10\"}\nparamDict.update(env)\nparamDict.update(secret_store_cfg)\nparamsJson = json.dumps(paramDict)\nnbParamsObj = nbparams.NBParams(paramsJson)\nnamespace = nbParamsObj.get('namespace')\n\nw = Workflow(env, secret_store_cfg, None, global_vars=globals(), check_uuids=None)\n\n",
            "execution_count": 2,
            "outputs": []
        },
        {
            "id": "f518e5b7-08a7-425c-9d86-cfc629d5b355",
            "cell_type": "markdown",
            "metadata": {
                "jupyter": {
                    "source_hidden": false
                },
                "name": "Steps Overview",
                "orderProperties": [],
                "tags": [],
                "title": "Steps Overview"
            },
            "source": "<hr><hr><center><img src=\"https://unskript.com/assets/favicon.png\" alt=\"unSkript.com\" width=\"100\" height=\"100\">\n<h1 id=\"unSkript-Runbooks&para;\">unSkript Runbooks<a class=\"jp-InternalAnchorLink\" href=\"#unSkript-Runbooks\" target=\"_self\" rel=\"noopener\">&para;</a><a class=\"jp-InternalAnchorLink\" href=\"#unSkript-Runbooks&para;\" target=\"_self\">&para;</a></h1>\n<div class=\"alert alert-block alert-success\">\n<h3 id=\"Objective&para;\">Objective<a class=\"jp-InternalAnchorLink\" href=\"#Objective\" target=\"_self\" rel=\"noopener\">&para;</a><a class=\"jp-InternalAnchorLink\" href=\"#Objective&para;\" target=\"_self\">&para;</a></h3>\n<br><strong style=\"color: #000000;\"><em>Fix K8s Pod in ImagePullBackOff State</em></strong></div>\n</center>\n<p>&nbsp;</p>\n<center>\n<h2 id=\"K8S-Pod-in-ImagePullBackOff-State&para;\"><u>K8S Pod in ImagePullBackOff State</u><a class=\"jp-InternalAnchorLink\" href=\"#K8S-Pod-in-CrashLoopBack-State\" target=\"_self\" rel=\"noopener\">&para;</a><a class=\"jp-InternalAnchorLink\" href=\"#K8S-Pod-in-ImagePullBackOff-State&para;\" target=\"_self\">&para;</a></h2>\n</center>\n<h1 id=\"Steps-Overview&para;\">Steps Overview<a class=\"jp-InternalAnchorLink\" href=\"#Steps-Overview\" target=\"_self\" rel=\"noopener\">&para;</a><a class=\"jp-InternalAnchorLink\" href=\"#Steps-Overview&para;\" target=\"_self\">&para;</a></h1>\n<p>1)&nbsp;<a href=\"#1\" target=\"_self\" rel=\"noopener\">Get list of pods in ImagePullBackOff State</a><br>2)&nbsp;<a href=\"#2\" target=\"_self\" rel=\"noopener\">Extract Events of the pods</a><br>3)&nbsp;<a href=\"#3\" target=\"_self\" rel=\"noopener\">Check registry accessibility</a></p>\n<p>An <code>ImagePullBackOff</code> error occurs when a Pod startup fails to pull the specified image. The reasons could be Non-Existent of the repository or Permission to Access the repository issues. This runbook helps to walk through the steps involved in debugging such a Pod.</p>\n<hr>",
            "execution_count": null,
            "outputs": []
        },
        {
            "id": "bf250d0f-f958-47bc-907e-3721c3720288",
            "cell_type": "markdown",
            "metadata": {
                "jupyter": {
                    "source_hidden": false
                },
                "name": "Step 1A",
                "orderProperties": [],
                "tags": [],
                "title": "Step 1A"
            },
            "source": "<h3 id=\"Get-List-of-Pods-in-ImagePullBackOff-State&para;\"><a id=\"1\" target=\"_self\" rel=\"nofollow\"></a>Convert namespace to String if empty<a class=\"jp-InternalAnchorLink\" href=\"#Get-List-of-Pods-in-CrashLoopBackOff-State\" target=\"_self\" rel=\"noopener\">&para;</a><a class=\"jp-InternalAnchorLink\" href=\"#Get-List-of-Pods-in-ImagePullBackOff-State&para;\" target=\"_self\">&para;</a></h3>\n<p>This custom action changes the type of namespace from None to String only if no namespace is given</p>",
            "execution_count": null,
            "outputs": []
        },
        {
            "id": "a49bd0a5-1b34-4beb-940d-9f28239837e0",
            "cell_type": "code",
            "metadata": {
                "credentialsJson": {},
                "customAction": true,
                "execution_data": {
                    "last_date_success_run_cell": "2023-03-11T07:36:02.191Z"
                },
                "jupyter": {
                    "source_hidden": true
                },
                "name": "Convert namespace to String if empty",
                "orderProperties": [],
                "tags": [],
                "title": "Convert namespace to String if empty",
                "trusted": true
            },
            "source": "if namespace==None:\n    namespace=''\n",
            "execution_count": 3,
            "outputs": []
        },
        {
            "id": "6cdb0116-152b-493c-8eb9-71237b691806",
            "cell_type": "markdown",
            "metadata": {
                "jupyter": {
                    "source_hidden": false
                },
                "name": "Step 1",
                "orderProperties": [],
                "tags": [],
                "title": "Step 1"
            },
            "source": "<h3 id=\"Get-List-of-Pods-in-CrashLoopBackOff-State\"><a id=\"1\" target=\"_self\" rel=\"nofollow\"></a>Get List of Pods in ImagePullBackOff State<a class=\"jp-InternalAnchorLink\" href=\"#Get-List-of-Pods-in-CrashLoopBackOff-State\" target=\"_self\">&para;</a></h3>\n<p>This action fetches a list of the pods in ImagePullBackOff State. This action will consider <code>namespace</code> as&nbsp;<strong> all&nbsp;</strong>if no namespace is given.</p>\n<blockquote>\n<p>This action takes the following parameters (Optional):&nbsp;<code>namespace</code></p>\n</blockquote>\n<blockquote>\n<p>This action captures the following ouput: <code>imagepullbackoff_pods</code></p>\n</blockquote>",
            "execution_count": null,
            "outputs": []
        },
        {
            "id": "fbfd4282-2516-4506-b617-c6816736dbea",
            "cell_type": "code",
            "metadata": {
                "accessType": "ACCESS_TYPE_UNSPECIFIED",
                "actionBashCommand": false,
                "actionCategories": [],
                "actionIsCheck": false,
                "actionNeedsCredential": true,
                "actionNextHop": [],
                "actionNextHopParameterMapping": {},
                "actionOutputType": "",
                "actionRequiredLinesInCode": [],
                "actionSupportsIteration": true,
                "actionSupportsPoll": true,
                "action_modified": false,
                "action_uuid": "683b7f1a1482a5bed32698689e2b47e13dcdb5e00d719316cc46ada5ead26758",
                "continueOnError": false,
                "createTime": "1970-01-01T00:00:00Z",
                "credentialsJson": {
                    "credential_id": "e131b971-8a51-4a4e-a93e-acae63f94242",
                    "credential_name": "unskript",
                    "credential_type": "CONNECTOR_TYPE_K8S"
                },
                "currentVersion": "0.1.0",
                "description": "Get all K8s pods in ImagePullBackOff State",
                "execution_data": {
                    "last_date_success_run_cell": "2023-03-11T07:36:06.122Z"
                },
                "id": 45,
                "index": 45,
                "inputData": [
                    {
                        "namespace": {
                            "constant": false,
                            "value": "namespace"
                        }
                    }
                ],
                "inputschema": [
                    {
                        "properties": {
                            "namespace": {
                                "default": "",
                                "description": "k8s Namespace",
                                "title": "Namespace",
                                "type": "string"
                            }
                        },
                        "title": "k8s_get_pods_in_imagepullbackoff_state",
                        "type": "object"
                    }
                ],
                "jupyter": {
                    "source_hidden": true
                },
                "legotype": "LEGO_TYPE_K8S",
                "name": "Get all K8s Pods in ImagePullBackOff State",
                "nouns": [],
                "orderProperties": [
                    "namespace"
                ],
                "output": {
                    "type": ""
                },
                "outputParams": {
                    "output_name": "imagepullbackoff_pods",
                    "output_name_enabled": true
                },
                "printOutput": true,
                "probeEnabled": false,
                "tags": [
                    "k8s_get_pods_in_imagepullbackoff_state"
                ],
                "title": "Get all K8s Pods in ImagePullBackOff State",
                "trusted": true,
                "verbs": []
            },
            "source": "#\n# Copyright (c) 2022 unSkript.com\n# All rights reserved.\n#\n\nfrom pydantic import BaseModel, Field\nfrom typing import Optional, Tuple\nfrom unskript.legos.utils import CheckOutput, CheckOutputStatus\nfrom collections import defaultdict\nimport json\nimport pprint\nimport re\n\nfrom beartype import beartype\n@beartype\ndef k8s_get_pods_in_imagepullbackoff_state_printer(output):\n    if output is None:\n        return\n    if isinstance(output, CheckOutput):\n        print(output.json())\n    else:\n        pprint.pprint(output)\n\n\n@beartype\ndef k8s_get_pods_in_imagepullbackoff_state(handle, namespace: str=None) -> Tuple:\n    \"\"\"k8s_get_list_of_pods_with_imagepullbackoff_state executes the given kubectl command to find pods in ImagePullBackOff State\n\n        :type handle: object\n        :param handle: Object returned from the Task validate method\n\n        :type namespace: Optional[str]\n        :param namespace: Namespace to get the pods from. Eg:\"logging\", if not given all namespaces are considered\n\n        :rtype: Status, List of pods in CrashLoopBackOff State\n    \"\"\"\n    if handle.client_side_validation != True:\n        print(f\"K8S Connector is invalid: {handle}\")\n        return str()\n    kubectl_command =\"kubectl get pods --all-namespaces | grep ImagePullBackOff | tr -s ' ' | cut -d ' ' -f 1,2\"\n    if namespace:\n        kubectl_command = \"kubectl get pods -n \" + namespace + \" | grep ImagePullBackOff | cut -d' ' -f 1 | tr -d ' '\"\n    response = handle.run_native_cmd(kubectl_command)\n    if response is None or hasattr(response, \"stderr\") is False or response.stderr is None:\n        print(\n            f\"Error while executing command ({kubectl_command}): {response.stderr}\")\n        return str()\n    temp = response.stdout\n    result = []\n    res = []\n    unhealthy_pods =[]\n    unhealthy_pods_tuple = ()\n    if not namespace:\n        all_namespaces = re.findall(r\"(\\S+).*\",temp)\n        all_unhealthy_pods = re.findall(r\"\\S+\\s+(.*)\",temp)\n        unhealthy_pods = [(i, j) for i, j in zip(all_namespaces, all_unhealthy_pods)]\n        res = defaultdict(list)\n        for key, val in unhealthy_pods:\n            res[key].append(val)\n    elif namespace:\n        all_pods = []\n        all_unhealthy_pods =[]\n        all_pods = re.findall(r\"(\\S+).*\",temp)\n        for p in all_pods:\n                unhealthy_pods_tuple = (namespace,p)\n                unhealthy_pods.append(unhealthy_pods_tuple)\n        res = defaultdict(list)\n        for key, val in unhealthy_pods:\n            res[key].append(val)\n    if len(res)!=0:\n        result.append(dict(res))\n    if len(result) != 0:\n        return (False, result)\n    else:\n        return (True, None)\n\n\ntask = Task(Workflow())\ntask.configure(credentialsJson='''{\n    \"credential_name\": \"unskript\",\n    \"credential_type\": \"CONNECTOR_TYPE_K8S\",\n    \"credential_id\": \"e131b971-8a51-4a4e-a93e-acae63f94242\"\n}''')\ntask.configure(inputParamsJson='''{\n    \"namespace\": \"namespace\"\n    }''')\n\ntask.configure(outputName=\"imagepullbackoff_pods\")\n\ntask.configure(printOutput=True)\n(err, hdl, args) = task.validate(vars=vars())\nif err is None:\n    task.execute(k8s_get_pods_in_imagepullbackoff_state, lego_printer=k8s_get_pods_in_imagepullbackoff_state_printer, hdl=hdl, args=args)",
            "execution_count": 4,
            "outputs": []
        },
        {
            "id": "7b195002-2041-48dc-a7de-3ca871925e58",
            "cell_type": "markdown",
            "metadata": {
                "jupyter": {
                    "source_hidden": false
                },
                "name": "Step 1A",
                "orderProperties": [],
                "tags": [],
                "title": "Step 1A"
            },
            "source": "<h3 id=\"Create-List-of-commands-to-get-Events&para;\">Create List of commands to get Events<a class=\"jp-InternalAnchorLink\" href=\"#Examine-the-Events\" target=\"_self\" rel=\"noopener\">&para;</a><a class=\"jp-InternalAnchorLink\" href=\"#Create-List-of-commands-to-get-Events&para;\" target=\"_self\">&para;</a></h3>\n<p>Examine the output from Step 1👆,&nbsp; and create a list of commands for each pod in a namespace that is found to be in the ImagePullBackOff State</p>\n<blockquote>\n<p>This action captures the following ouput:&nbsp;<code>all_unhealthy_pods</code></p>\n</blockquote>",
            "execution_count": null,
            "outputs": []
        },
        {
            "id": "52ca8812-faef-4953-a4e6-94ba17bb5c17",
            "cell_type": "code",
            "metadata": {
                "credentialsJson": {},
                "customAction": true,
                "execution_data": {
                    "last_date_success_run_cell": "2023-03-11T07:36:14.419Z"
                },
                "name": "Create List of commands to get Events",
                "orderProperties": [],
                "tags": [],
                "title": "Create List of commands to get Events",
                "trusted": true
            },
            "source": "all_unhealthy_pods = []\nfor each_pod_dict in imagepullbackoff_pods:\n    if type(each_pod_dict)==list:\n        for pod in each_pod_dict:\n            for k,v in pod.items():\n                if len(v)!=0:\n                    nspace = k\n                    u_pod = ' '.join([str(each_pod) for each_pod in v])\n                    cmd = \"kubectl describe pod \"+u_pod+\" -n \"+nspace+\" | grep -A 10 Events\"\n                    all_unhealthy_pods.append(cmd)\nprint(all_unhealthy_pods)",
            "execution_count": 5,
            "outputs": []
        },
        {
            "id": "380b03f3-b09c-4836-8d50-15ee8021d0e4",
            "cell_type": "markdown",
            "metadata": {
                "jupyter": {
                    "source_hidden": false
                },
                "name": "Step 2",
                "orderProperties": [],
                "tags": [],
                "title": "Step 2"
            },
            "source": "<h3 id=\"Gather-information-of-the-pods\">Extract Events of the pods<a class=\"jp-InternalAnchorLink\" href=\"#Gather-information-of-the-pods\" target=\"_self\">&para;</a></h3>\n<p>This action describes events for a list of unhealthy pods obtained in Step 1.</p>\n<blockquote>\n<p>This action captures the following ouput: <code>describe_output</code></p>\n</blockquote>",
            "execution_count": null,
            "outputs": []
        },
        {
            "id": "cae3c677-fe96-4d0e-9d64-1b11abd00883",
            "cell_type": "code",
            "metadata": {
                "accessType": "ACCESS_TYPE_UNSPECIFIED",
                "actionBashCommand": false,
                "actionNeedsCredential": true,
                "actionRequiredLinesInCode": [],
                "actionSupportsIteration": true,
                "actionSupportsPoll": true,
                "action_modified": false,
                "action_uuid": "4d3b4c6153e14622f42b332b7c7b8f7043577971f64edc5be6b5f8b40d5b89d1",
                "collapsed": true,
                "condition_enabled": true,
                "continueOnError": true,
                "createTime": "1970-01-01T00:00:00Z",
                "credentialsJson": {
                    "credential_id": "e131b971-8a51-4a4e-a93e-acae63f94242",
                    "credential_name": "unskript",
                    "credential_type": "CONNECTOR_TYPE_K8S"
                },
                "currentVersion": "0.1.0",
                "description": "Execute the given Kubectl command.",
                "execution_data": {
                    "last_date_success_run_cell": "2023-03-11T07:36:20.751Z"
                },
                "id": 51,
                "index": 51,
                "inputData": [
                    {
                        "kubectl_command": {
                            "constant": false,
                            "value": "iter_item"
                        }
                    }
                ],
                "inputschema": [
                    {
                        "properties": {
                            "kubectl_command": {
                                "description": "kubectl command eg \"kubectl get pods --all-namespaces\"",
                                "title": "Kubectl Command",
                                "type": "string"
                            }
                        },
                        "required": [
                            "kubectl_command"
                        ],
                        "title": "k8s_kubectl_command",
                        "type": "object"
                    }
                ],
                "iterData": [
                    {
                        "iter_enabled": true,
                        "iter_item": "kubectl_command",
                        "iter_list": {
                            "constant": false,
                            "objectItems": false,
                            "value": "all_unhealthy_pods"
                        }
                    }
                ],
                "jupyter": {
                    "outputs_hidden": true,
                    "source_hidden": true
                },
                "legotype": "LEGO_TYPE_K8S",
                "name": "Extract Events for the Pods",
                "nouns": [],
                "orderProperties": [
                    "kubectl_command"
                ],
                "output": {
                    "type": ""
                },
                "outputParams": {
                    "output_name": "describe_output",
                    "output_name_enabled": true
                },
                "printOutput": true,
                "startcondition": "len(all_unhealthy_pods)!=0",
                "tags": [
                    "k8s_kubectl_command"
                ],
                "title": "Extract Events for the Pods",
                "trusted": true,
                "verbs": []
            },
            "source": "#\n# Copyright (c) 2022 unSkript.com\n# All rights reserved.\n#\n\nfrom pydantic import BaseModel, Field\n\nfrom beartype import beartype\n@beartype\ndef k8s_kubectl_command_printer(output):\n    if output is None:\n        return\n    print(output)\n\n\n@beartype\ndef k8s_kubectl_command(handle, kubectl_command: str) -> str:\n    \"\"\"k8s_kubectl_command executes the given kubectl command on the pod\n\n        :type handle: object\n        :param handle: Object returned from the Task validate method\n\n        :type kubectl_command: str\n        :param kubectl_command: The Actual kubectl command, like kubectl get ns, etc..\n\n        :rtype: String, Output of the command in python string format or Empty String in case of Error.\n    \"\"\"\n    if handle.client_side_validation != True:\n        print(f\"K8S Connector is invalid: {handle}\")\n        return str()\n    result = handle.run_native_cmd(kubectl_command)\n    if result is None or hasattr(result, \"stderr\") is False or result.stderr is None:\n        print(\n            f\"Error while executing command ({kubectl_command}): {result.stderr}\")\n        return str()\n\n    return result.stdout\n\n\ntask = Task(Workflow())\ntask.configure(credentialsJson='''{\n    \"credential_name\": \"unskript\",\n    \"credential_type\": \"CONNECTOR_TYPE_K8S\",\n    \"credential_id\": \"e131b971-8a51-4a4e-a93e-acae63f94242\"\n}''')\ntask.configure(continueOnError=True)\ntask.configure(inputParamsJson='''{\n    \"kubectl_command\": \"iter_item\"\n    }''')\ntask.configure(iterJson='''{\n    \"iter_enabled\": true,\n    \"iter_list_is_const\": false,\n    \"iter_list\": \"all_unhealthy_pods\",\n    \"iter_parameter\": \"kubectl_command\"\n    }''')\ntask.configure(conditionsJson='''{\n    \"condition_enabled\": true,\n    \"condition_cfg\": \"len(all_unhealthy_pods)!=0\",\n    \"condition_result\": true\n    }''')\ntask.configure(outputName=\"describe_output\")\n\ntask.configure(printOutput=True)\n(err, hdl, args) = task.validate(vars=vars())\nif err is None:\n    task.execute(k8s_kubectl_command, lego_printer=k8s_kubectl_command_printer, hdl=hdl, args=args)",
            "execution_count": 6,
            "outputs": []
        },
        {
            "id": "2ea2359e-dafe-4c87-8a66-7b0717dc2c72",
            "cell_type": "markdown",
            "metadata": {
                "jupyter": {
                    "source_hidden": false
                },
                "name": "Step 2A",
                "orderProperties": [],
                "tags": [],
                "title": "Step 2A"
            },
            "source": "<h3 id=\"Convert-to-String&para;\">Convert to String<a class=\"jp-InternalAnchorLink\" href=\"#Examine-the-Events\" target=\"_self\" rel=\"noopener\">&para;</a><a class=\"jp-InternalAnchorLink\" href=\"#Convert-to-String&para;\" target=\"_self\">&para;</a></h3>\n<p>From the output from Step 2👆,&nbsp; we convert the dict output to a string format.</p>\n<blockquote>\n<p>This action captures the following ouput: <code>all_describe_info</code></p>\n</blockquote>",
            "execution_count": null,
            "outputs": []
        },
        {
            "id": "67287ce3-806d-458b-9fe5-ed0e6b146252",
            "cell_type": "markdown",
            "metadata": {
                "jupyter": {
                    "source_hidden": false
                },
                "name": "Step 2B",
                "orderProperties": [],
                "tags": [],
                "title": "Step 2B"
            },
            "source": "<h3 id=\"Examine-the-Events&para;\">Examine the Events<a class=\"jp-InternalAnchorLink\" href=\"#Examine-the-Events\" target=\"_self\" rel=\"noopener\">&para;</a><a class=\"jp-InternalAnchorLink\" href=\"#Examine-the-Events&para;\" target=\"_self\">&para;</a></h3>\n<p>This Custom Action searches Known errors .&nbsp;The well known errors are listed in the error_msgs variable. If&nbsp;there is a new error message that was found, it can be added to the list.</p>",
            "execution_count": null,
            "outputs": []
        },
        {
            "id": "6df7c408-377b-4ea8-a33c-ff3c5329fbaa",
            "cell_type": "code",
            "metadata": {
                "credentialsJson": {},
                "execution_data": {
                    "last_date_success_run_cell": "2023-03-11T08:18:35.510Z"
                },
                "name": "Examine Events",
                "orderProperties": [],
                "tags": [],
                "title": "Examine Events",
                "trusted": true
            },
            "source": "import re\n\n\"\"\"\nThis Custom Action searches Known errors in the podEvents variable.\nThe well known errors are listed in the error_msgs variable. If\nthere is a new error message that was found, you can add it to this\nlist and the next run, the runbook will catch that error.\n\"\"\"\n\ndef check_msg(msg, err):\n    return re.search(err, msg)\n\nerror_msgs = [\"repository (.*) does not exist or no pull access\",\n              \"manifest for (.*) not found\",\n              \"pull access denied, repository does not exist or may require authorization\",\n             \"Back-off pulling image (.*)\"]\ncause_found = False\nresult = ''\nfor key, value in describe_output.items():\n    for err in error_msgs:\n        result = check_msg(value, err)\n        if result is not None:\n            print(\"PROBABLE CAUSE: \", f\"{result.string}\")\n            cause_found = True\n\nrepoLocation = ''\nif cause_found is False:\n    print(\"ERROR MESSAGE : \\n\", all_describe_info)\nelse:\n    try:\n        repoLocation = result.groups()[0]\n    except:\n        pass\n    else:\n        print(\"Image Repo Location : \", repoLocation)",
            "execution_count": 13,
            "outputs": []
        },
        {
            "id": "83081ee6-55c1-4f82-923b-ed6c4e054d35",
            "cell_type": "markdown",
            "metadata": {
                "jupyter": {
                    "source_hidden": false
                },
                "name": "Step 3",
                "orderProperties": [],
                "tags": [],
                "title": "Step 3"
            },
            "source": "<h3 id=\"Create-List-of-commands-to-get-Exit-Code&para;\">Check Registry Accessibility<a class=\"jp-InternalAnchorLink\" href=\"#Examine-the-Events\" target=\"_self\" rel=\"noopener\">&para;</a><a class=\"jp-InternalAnchorLink\" href=\"#Create-List-of-commands-to-get-Exit-Code&para;\" target=\"_self\">&para;</a></h3>\n<p>From the output from Step 2B👆check if the repoLocation is accessible.</p>",
            "execution_count": null,
            "outputs": []
        },
        {
            "id": "d3fbe0a1-6669-490f-8ffc-3e4e11a32156",
            "cell_type": "code",
            "metadata": {
                "credentialsJson": {},
                "execution_data": {
                    "last_date_success_run_cell": "2023-03-11T07:36:38.858Z"
                },
                "name": "Check Registry Accessibility",
                "orderProperties": [],
                "tags": [],
                "title": "Check Registry Accessibility",
                "trusted": true
            },
            "source": "from IPython.display import Markdown as md\n\nif repoLocation is not None:\n    display(md(f\"**Please verify Repo {repoLocation} is accessible from the K8S POD**\"))",
            "execution_count": 9,
            "outputs": []
        },
        {
            "id": "c8fa5b68",
            "cell_type": "markdown",
            "metadata": {
                "orderProperties": []
            },
            "source": "<h3 id=\"Conclusion\">Conclusion<a class=\"jp-InternalAnchorLink\" href=\"#Conclusion\" target=\"_self\">&para;</a></h3>\n<p>In this Runbook, we were able to identify pods stuck in ImagePullBackOff State and examined the possible event that caused it's failure using unSkript's K8s actions. To view the full platform capabilities of unSkript please visit <a href=\"https://us.app.unskript.io\" target=\"_blank\" rel=\"noopener\">us.app.unskript.io</a></p>",
            "execution_count": null,
            "outputs": []
        }
    ]
}