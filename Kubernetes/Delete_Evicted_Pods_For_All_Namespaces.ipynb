{
    "cells": [
        {
            "cell_type": "markdown",
            "id": "ed972c43-e797-4fe7-8e90-386d7af0b950",
            "metadata": {
                "orderProperties": [],
                "tags": []
            },
            "source": [
                "<center><img src=\"https://unskript.com/assets/favicon.png\" alt=\"unSkript.com\" width=\"100\" height=\"100\"/> \n",
                "<h1> unSkript Runbooks </h1>\n",
                "<div class=\"alert alert-block alert-success\">\n",
                "    <h3> Objective</h3> <br>\n",
                "    <b\">To delete evicted pods for all namespaces using unSkript actions</b>\n",
                "</div>\n",
                "</center>\n",
                "<br>\n",
                "\n",
                "<center><h2>Delete Evicted Pods For All Namespaces</h2></center>\n",
                "\n",
                "# Steps Overview\n",
                "1)[ Show All Evicted Pods For All Namespaces.](#1)<br>\n",
                "2)[ Delete Evicted Pods For All Namespaces.](#2)"
            ]
        },
        {
            "cell_type": "markdown",
            "id": "a1c24634-7d34-4524-b76b-35209d458c62",
            "metadata": {
                "name": "Step-1",
                "orderProperties": [],
                "tags": [],
                "title": "Step-1"
            },
            "source": [
                "### <a id=\"1\">Show All Evicted Pods For All Namespaces</a>\n",
                "In this action, we will show the evicted pods for all namespaces by using command \"kubectl get pods --all-namespaces | grep Evicted\"\n",
                ">Input parameters: `kubectl_command`\n",
                "\n",
                ">Ouput variable: `Pods_Details`"
            ]
        },
        {
            "cell_type": "code",
            "execution_count": 3,
            "id": "b3e9c02c-00f7-414c-935b-3a390add2e9d",
            "metadata": {
                "accessType": "ACCESS_TYPE_UNSPECIFIED",
                "actionBashCommand": false,
                "actionNeedsCredential": true,
                "actionRequiredLinesInCode": [],
                "actionSupportsIteration": true,
                "actionSupportsPoll": true,
                "action_uuid": "ae0b25757f0c6c0ca4b3aaf6feea636e3f193dc354f74823a7becd7d675becdc",
                "collapsed": true,
                "continueOnError": false,
                "createTime": "1970-01-01T00:00:00Z",
                "credentialsJson": {},
                "currentVersion": "0.1.0",
                "description": "Kubectl command in python syntax.",
                "execution_data": {
                    "last_date_success_run_cell": "2022-11-24T13:23:51.703Z"
                },
                "id": 27,
                "index": 27,
                "inputData": [
                    {
                        "kubectl_command": {
                            "constant": false,
                            "value": "\"kubectl get pods --all-namespaces | grep Evicted\""
                        }
                    }
                ],
                "inputschema": [
                    {
                        "properties": {
                            "kubectl_command": {
                                "description": "kubectl command eg \"kubectl get pods --all-namespaces\"",
                                "title": "Kubectl Command",
                                "type": "string"
                            }
                        },
                        "required": [
                            "kubectl_command"
                        ],
                        "title": "k8s_kubectl_command",
                        "type": "object"
                    }
                ],
                "jupyter": {
                    "outputs_hidden": true,
                    "source_hidden": true
                },
                "legotype": "LEGO_TYPE_K8S",
                "name": "Show All Evicted Pods For All Namespaces",
                "nouns": [
                    "command"
                ],
                "orderProperties": [
                    "kubectl_command"
                ],
                "output": {
                    "type": ""
                },
                "outputParams": {
                    "output_name": "Pods_Details",
                    "output_name_enabled": true
                },
                "tags": [
                    "k8s_kubectl_command"
                ],
                "title": "Show All Evicted Pods For All Namespaces",
                "trusted": true,
                "verbs": [
                    "execute"
                ]
            },
            "outputs": [],
            "source": [
                "#\n",
                "# Copyright (c) 2021 unSkript.com\n",
                "# All rights reserved.\n",
                "#\n",
                "from pydantic import BaseModel, Field\n",
                "from beartype import beartype\n",
                "\n",
                "\n",
                "@beartype\n",
                "def k8s_kubectl_command_printer(output):\n",
                "    if output is None:\n",
                "        return\n",
                "    print(output)\n",
                "\n",
                "\n",
                "@beartype\n",
                "def k8s_kubectl_command(handle, kubectl_command: str) -> str:\n",
                "\n",
                "    result = handle.run_native_cmd(kubectl_command)\n",
                "    if result is None or hasattr(result, \"stderr\") is False or result.stderr is None:\n",
                "        print(\n",
                "            f\"Error while executing command ({kubectl_command}): {result.stderr}\")\n",
                "        return str()\n",
                "\n",
                "    return result.stdout\n",
                "\n",
                "\n",
                "task = Task(Workflow())\n",
                "task.configure(inputParamsJson='''{\n",
                "    \"kubectl_command\": \"\\\\\"kubectl get pods --all-namespaces | grep Evicted\\\\\"\"\n",
                "    }''')\n",
                "task.configure(outputName=\"Pods_Details\")\n",
                "(err, hdl, args) = task.validate(vars=vars())\n",
                "if err is None:\n",
                "    task.execute(k8s_kubectl_command, lego_printer=k8s_kubectl_command_printer, hdl=hdl, args=args)"
            ]
        },
        {
            "cell_type": "markdown",
            "id": "8310152a-97fd-4920-afce-f70dbdf28991",
            "metadata": {
                "name": "Step-2",
                "orderProperties": [],
                "tags": [],
                "title": "Step-2"
            },
            "source": [
                "### <a id=\"2\">Delete Evicted Pods For All Namespaces</a>\n",
                "In this action, we will delete the evicted pods for all namespaces by using command \"kubectl get pods --all-namespaces | grep Evicted | awk '{print $2 \" --namespace=\" $1}' | xargs kubectl delete pod\"\n",
                ">Input parameters: `kubectl_command`\n",
                "\n",
                ">Ouput variable: `Delete_Status`"
            ]
        },
        {
            "cell_type": "code",
            "execution_count": 4,
            "id": "63d09e11-b9e1-4569-be4c-8c2e954cb437",
            "metadata": {
                "accessType": "ACCESS_TYPE_UNSPECIFIED",
                "actionBashCommand": false,
                "actionNeedsCredential": true,
                "actionRequiredLinesInCode": [],
                "actionSupportsIteration": true,
                "actionSupportsPoll": true,
                "action_uuid": "ae0b25757f0c6c0ca4b3aaf6feea636e3f193dc354f74823a7becd7d675becdc",
                "collapsed": true,
                "continueOnError": false,
                "createTime": "1970-01-01T00:00:00Z",
                "credentialsJson": {},
                "currentVersion": "0.1.0",
                "description": "Kubectl command in python syntax.",
                "execution_data": {
                    "last_date_success_run_cell": "2022-11-24T13:23:58.681Z"
                },
                "id": 27,
                "index": 27,
                "inputData": [
                    {
                        "kubectl_command": {
                            "constant": false,
                            "value": "\"\"\"kubectl get pods --all-namespaces | grep Evicted | awk '{print $2 \" --namespace=\" $1}' | xargs kubectl delete pod\"\"\""
                        }
                    }
                ],
                "inputschema": [
                    {
                        "properties": {
                            "kubectl_command": {
                                "description": "kubectl command eg \"kubectl get pods --all-namespaces\"",
                                "title": "Kubectl Command",
                                "type": "string"
                            }
                        },
                        "required": [
                            "kubectl_command"
                        ],
                        "title": "k8s_kubectl_command",
                        "type": "object"
                    }
                ],
                "jupyter": {
                    "outputs_hidden": true,
                    "source_hidden": true
                },
                "legotype": "LEGO_TYPE_K8S",
                "name": "Delete Evicted Pods For All Namespaces",
                "nouns": [
                    "command"
                ],
                "orderProperties": [
                    "kubectl_command"
                ],
                "output": {
                    "type": ""
                },
                "outputParams": {
                    "output_name": "Delete_Status",
                    "output_name_enabled": true
                },
                "tags": [
                    "k8s_kubectl_command"
                ],
                "title": "Delete Evicted Pods For All Namespaces",
                "trusted": true,
                "verbs": [
                    "execute"
                ]
            },
            "outputs": [],
            "source": [
                "#\n",
                "# Copyright (c) 2021 unSkript.com\n",
                "# All rights reserved.\n",
                "#\n",
                "\n",
                "from pydantic import BaseModel, Field\n",
                "from beartype import beartype\n",
                "\n",
                "\n",
                "@beartype\n",
                "def k8s_kubectl_command_printer(output):\n",
                "    if output is None:\n",
                "        return\n",
                "    print(output)\n",
                "\n",
                "\n",
                "@beartype\n",
                "def k8s_kubectl_command(handle, kubectl_command: str) -> str:\n",
                "\n",
                "    result = handle.run_native_cmd(kubectl_command)\n",
                "    if result is None or hasattr(result, \"stderr\") is False or result.stderr is None:\n",
                "        print(\n",
                "            f\"Error while executing command ({kubectl_command}): {result.stderr}\")\n",
                "        return str()\n",
                "\n",
                "    return result.stdout\n",
                "\n",
                "\n",
                "task = Task(Workflow())\n",
                "task.configure(inputParamsJson='''{\n",
                "    \"kubectl_command\": \"\\\\\"\\\\\"\\\\\"kubectl get pods --all-namespaces | grep Evicted | awk '{print $2 \\\\\" --namespace=\\\\\" $1}' | xargs kubectl delete pod\\\\\"\\\\\"\\\\\"\"\n",
                "    }''')\n",
                "task.configure(outputName=\"Delete_Status\")\n",
                "(err, hdl, args) = task.validate(vars=vars())\n",
                "if err is None:\n",
                "    task.execute(k8s_kubectl_command, lego_printer=k8s_kubectl_command_printer, hdl=hdl, args=args)"
            ]
        },
        {
            "cell_type": "markdown",
            "id": "3b09724f-c9f8-4399-a3d1-aaf8d4866911",
            "metadata": {
                "name": "Conclusion",
                "orderProperties": [],
                "tags": [],
                "title": "Conclusion"
            },
            "source": [
                "### Conclusion\n",
                "In this Runbook, we demonstrated the use of unSkript's Kubernetes actions, and this runbook shows all the evicted pods for all namespaces and deletes them. To view the full platform capabilities of unSkript please visit https://us.app.unskript.io"
            ]
        }
    ],
    "metadata": {
        "execution_data": {
            "environment_id": "1499f27c-6406-4fbd-bd1b-c6f92800018f",
            "environment_name": "Staging",
            "execution_id": "",
            "inputs_for_searched_lego": "",
            "notebook_id": "d6d2ebb8-b939-4d24-8e5c-663ab906cee1.ipynb",
            "parameters": null,
            "runbook_name": "Delete Evicted Pods all Namespaces",
            "search_string": "",
            "show_tool_tip": false,
            "tenant_id": "982dba5f-d9df-48ae-a5bf-ec1fc94d4882",
            "tenant_url": "https://tenant-staging.alpha.unskript.io",
            "user_email_id": "harshal.bangre@unskript.com",
            "workflow_id": "0645baef-269c-41ee-914b-48a3f0a8bb57"
        },
        "kernelspec": {
            "display_name": "Python 3.10.6 64-bit",
            "language": "python",
            "name": "python3"
        },
        "language_info": {
            "file_extension": ".py",
            "mimetype": "text/x-python",
            "name": "python",
            "pygments_lexer": "ipython3",
            "version": "3.10.6"
        },
        "parameterSchema": {
            "properties": {},
            "required": [],
            "title": "Schema",
            "type": "object"
        },
        "parameterValues": null,
        "vscode": {
            "interpreter": {
                "hash": "e8899eb02dfbc033aab5733bdae1bd213fa031d40331094008e8673d99ebab63"
            }
        }
    },
    "nbformat": 4,
    "nbformat_minor": 5
}
