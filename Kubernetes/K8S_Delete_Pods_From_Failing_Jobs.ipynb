{
 "cells": [
  {
   "cell_type": "markdown",
   "id": "ed972c43-e797-4fe7-8e90-386d7af0b950",
   "metadata": {
    "jupyter": {
     "source_hidden": false
    },
    "name": "Steps Overview",
    "orderProperties": [],
    "tags": [],
    "title": "Steps Overview"
   },
   "source": [
    "<center><img src=\"https://storage.googleapis.com/unskript-website/assets/favicon.png\" alt=\"unSkript.com\" width=\"100\" height=\"100\">\n",
    "<h1 id=\"-unSkript-Runbooks-\">unSkript Runbooks&nbsp;</h1>\n",
    "<div class=\"alert alert-block alert-success\">\n",
    "<h3 id=\"-Objective\">Objective</h3>\n",
    "<br><strong style=\"color: #000000;\"><em>To identify and delete failing Kubernetes pods from jobs to mitigate IP exhaustion issues in the cluster.</em></strong></div>\n",
    "</center>\n",
    "<p>&nbsp;</p>\n",
    "<center>\n",
    "<h2 id=\"Delete-Evicted-Pods-From-Namespaces\">IP Exhaustion Mitigation: Failing K8s Pod Deletion from Jobs</h2>\n",
    "</center>\n",
    "<h1 id=\"Steps-Overview\">Steps Overview</h1>\n",
    "<p>1)<a href=\"#1\" target=\"_self\" rel=\"noopener\"> Get failing pods from all jobs.</a><br>2)<a href=\"#2\" target=\"_self\" rel=\"noopener\"> Delete the pod&nbsp;</a></p>"
   ]
  },
  {
   "cell_type": "code",
   "execution_count": 4,
   "id": "477a0f30-b116-4170-8219-0de2637e539d",
   "metadata": {
    "credentialsJson": {},
    "customAction": true,
    "execution_data": {
     "last_date_success_run_cell": "2023-07-04T16:28:49.945Z"
    },
    "jupyter": {
     "source_hidden": true
    },
    "name": "Input Verification",
    "orderProperties": [],
    "tags": [],
    "title": "Input Verification"
   },
   "outputs": [],
   "source": [
    "if namespace is None:\n",
    "    namespace = ''\n",
    "if pod_names and not namespace:\n",
    "    raise SystemExit(\"Provide a namespace for the Kubernetes pods!\")"
   ]
  },
  {
   "cell_type": "markdown",
   "id": "a1c24634-7d34-4524-b76b-35209d458c62",
   "metadata": {
    "jupyter": {
     "source_hidden": false
    },
    "name": "Step 1",
    "orderProperties": [],
    "tags": [],
    "title": "Step 1"
   },
   "source": [
    "<h3 id=\"Show-All-Evicted-Pods-From-All-Namespaces\"><a id=\"1\" target=\"_self\" rel=\"nofollow\"></a>Get failing Pods From all jobs</h3>\n",
    "<p>If a job doesn&rsquo;t exit cleanly (whether it finished successfully or not) the pod is left in a terminated or errored state. After some rounds of runs, these extra pods can quickly exhaust iptables&rsquo; available IP addresses in the cluster. This action fetches all the pods that are not in the running state from a scheduled job.</p>\n",
    "<blockquote>\n",
    "<p>Input parameters: <code>namespace (Optional)</code></p>\n",
    "</blockquote>\n",
    "<blockquote>\n",
    "<p>Output variable: <code>unhealthy_pods</code></p>\n",
    "</blockquote>"
   ]
  },
  {
   "cell_type": "code",
   "execution_count": null,
   "id": "4450bc10-5a2b-4985-8d33-92d19c2f1acf",
   "metadata": {
    "actionBashCommand": false,
    "actionCategories": [
     "CATEGORY_TYPE_CLOUDOPS",
     "CATEGORY_TYPE_DEVOPS",
     "CATEGORY_TYPE_TROUBLESHOOTING",
     "CATEGORY_TYPE_SRE",
     "CATEGORY_TYPE_K8S",
     "CATEGORY_TYPE_K8S_POD"
    ],
    "actionDescription": "Get Kubernetes Error PODs from All Jobs",
    "actionEntryFunction": "k8s_get_error_pods_from_all_jobs",
    "actionIsCheck": true,
    "actionIsRemediation": false,
    "actionNeedsCredential": true,
    "actionNextHop": [],
    "actionNextHopParameterMapping": {},
    "actionNouns": null,
    "actionOutputType": "ACTION_OUTPUT_TYPE_LIST",
    "actionSupportsIteration": true,
    "actionSupportsPoll": true,
    "actionTitle": "Get Kubernetes Error PODs from All Jobs",
    "actionType": "LEGO_TYPE_K8S",
    "actionVerbs": null,
    "actionVersion": "1.0.0",
    "action_modified": false,
    "action_uuid": "d7a1da167d056a912739fce8c4571c6863050f52d6e19495971277057e709857",
    "collapsed": true,
    "condition_enabled": true,
    "continueOnError": false,
    "credentialsJson": {},
    "description": "Get Kubernetes Error PODs from All Jobs",
    "id": 2,
    "index": 2,
    "inputData": [
     {
      "namespace": {
       "constant": false,
       "value": "namespace"
      }
     }
    ],
    "inputschema": [
     {
      "properties": {
       "namespace": {
        "default": "",
        "description": "k8s Namespace",
        "title": "Namespace",
        "type": "string"
       }
      },
      "required": [],
      "title": "k8s_get_error_pods_from_all_jobs",
      "type": "object"
     }
    ],
    "jupyter": {
     "outputs_hidden": true,
     "source_hidden": true
    },
    "language": "python",
    "legotype": "LEGO_TYPE_K8S",
    "name": "Get Kubernetes Error PODs from All Jobs",
    "orderProperties": [
     "namespace"
    ],
    "outputParams": {
     "output_name": "unhealthy_pods",
     "output_name_enabled": true,
     "output_runbook_enabled": false,
     "output_runbook_name": ""
    },
    "printOutput": true,
    "startcondition": "not pod_names",
    "tags": [
     "k8s_get_error_pods_from_all_jobs"
    ],
    "title": "Get Kubernetes Error PODs from All Jobs",
    "uuid": "d7a1da167d056a912739fce8c4571c6863050f52d6e19495971277057e709857",
    "version": "1.0.0"
   },
   "outputs": [],
   "source": [
    "#\n",
    "# Copyright (c) 2023 unSkript.com\n",
    "# All rights reserved.\n",
    "#\n",
    "\n",
    "import pprint\n",
    "from typing import Tuple, Optional\n",
    "from pydantic import BaseModel, Field\n",
    "from kubernetes.client.rest import ApiException\n",
    "from kubernetes import client, watch\n",
    "\n",
    "\n",
    "from beartype import beartype\n",
    "@beartype\n",
    "def k8s_get_error_pods_from_all_jobs_printer(output):\n",
    "    if output is None:\n",
    "        return\n",
    "    pprint.pprint(output)\n",
    "\n",
    "\n",
    "@beartype\n",
    "def k8s_get_error_pods_from_all_jobs(handle, namespace:str=\"\") -> Tuple:\n",
    "    \"\"\"k8s_get_error_pods_from_all_jobs This check function uses the handle's native command\n",
    "       method to execute a pre-defined kubectl command and returns the output of list of error pods\n",
    "       from all jobs.\n",
    "\n",
    "       :type handle: Object\n",
    "       :param handle: Object returned from the task.validate(...) function\n",
    "\n",
    "       :rtype: Tuple Result in tuple format.\n",
    "    \"\"\"\n",
    "    result = []\n",
    "    coreApiClient = client.CoreV1Api(api_client=handle)\n",
    "    BatchApiClient = client.BatchV1Api(api_client=handle)\n",
    "    # If namespace is provided, get jobs from the specified namespace\n",
    "    if namespace:\n",
    "        jobs = BatchApiClient.list_namespaced_job(namespace,watch=False, limit=200).items\n",
    "    # If namespace is not provided, get jobs from all namespaces\n",
    "    else:\n",
    "        jobs = BatchApiClient.list_job_for_all_namespaces(watch=False, limit=200).items\n",
    "\n",
    "    for job in jobs:\n",
    "        # Fetching all the pods associated with the current job\n",
    "        pods = coreApiClient.list_namespaced_pod(job.metadata.namespace, label_selector=f\"job-name={job.metadata.name}\",watch=False, limit=200).items\n",
    "\n",
    "        # Checking the status of each pod\n",
    "        for pod in pods:\n",
    "            # If the pod status is 'Failed', print its namespace and name\n",
    "            if pod.status.phase != \"Succeeded\":\n",
    "                result.append({\"namespace\":pod.metadata.namespace,\"pod_name\":pod.metadata.name})\n",
    "    if len(result) != 0:\n",
    "        return (False, result)\n",
    "    else:\n",
    "        return (True, None)\n",
    "\n",
    "\n",
    "task = Task(Workflow())\n",
    "task.configure(inputParamsJson='''{\n",
    "    \"namespace\": \"namespace\"\n",
    "    }''')\n",
    "task.configure(conditionsJson='''{\n",
    "    \"condition_enabled\": true,\n",
    "    \"condition_cfg\": \"not pod_names\",\n",
    "    \"condition_result\": true\n",
    "    }''')\n",
    "task.configure(outputName=\"unhealthy_pods\")\n",
    "\n",
    "task.configure(printOutput=True)\n",
    "(err, hdl, args) = task.validate(vars=vars())\n",
    "if err is None:\n",
    "    task.execute(k8s_get_error_pods_from_all_jobs, lego_printer=k8s_get_error_pods_from_all_jobs_printer, hdl=hdl, args=args)"
   ]
  },
  {
   "cell_type": "markdown",
   "id": "9dbff6fe-9b36-4749-8cc5-000b70b7e87d",
   "metadata": {
    "name": "Step 1A",
    "orderProperties": [],
    "tags": [],
    "title": "Step 1A"
   },
   "source": [
    "<h3 id=\"Create-list-of-errored-pods\">Create list of errored pods<a class=\"jp-InternalAnchorLink\" href=\"#Create-list-of-errored-pods\" target=\"_self\">&para;</a></h3>\n",
    "<p>This action gets a list of all&nbsp; objects from the output of Step 1</p>\n",
    "<blockquote>\n",
    "<p>This action takes the following parameters: <code>None</code></p>\n",
    "</blockquote>\n",
    "<blockquote>\n",
    "<p>This action captures the following output: <code>all_uhealthy_pods</code></p>\n",
    "</blockquote>"
   ]
  },
  {
   "cell_type": "code",
   "execution_count": null,
   "id": "af12bab5-e503-4da9-a74d-dbb88c5f8298",
   "metadata": {
    "collapsed": true,
    "credentialsJson": {},
    "customAction": true,
    "jupyter": {
     "outputs_hidden": true,
     "source_hidden": true
    },
    "name": "Create list of errored pods",
    "orderProperties": [],
    "tags": [],
    "title": "Create list of errored pods"
   },
   "outputs": [],
   "source": [
    "all_unhealthy_pods = []\n",
    "try:\n",
    "    if unhealthy_pods[0] == False:\n",
    "            if len(unhealthy_pods[1])!=0:\n",
    "                all_unhealthy_pods=unhealthy_pods[1]\n",
    "except Exception:\n",
    "    for po in pod_names:\n",
    "        data_dict = {}\n",
    "        data_dict[\"namespace\"] = namespace\n",
    "        data_dict[\"pod_name\"] = po\n",
    "        all_unhealthy_pods.append(data_dict)\n",
    "print(all_unhealthy_pods)"
   ]
  },
  {
   "cell_type": "markdown",
   "id": "8310152a-97fd-4920-afce-f70dbdf28991",
   "metadata": {
    "jupyter": {
     "source_hidden": false
    },
    "name": "Step-2",
    "orderProperties": [],
    "tags": [],
    "title": "Step-2"
   },
   "source": [
    "<h3 id=\"Delete-Evicted-Pods-From-All-Namespaces\"><a id=\"2\" target=\"_self\" rel=\"nofollow\"></a>Delete the Pod</h3>\n",
    "<p>This action deletes the pods found in Step 1.</p>\n",
    "<blockquote>\n",
    "<p>Input parameters: <code>pod_name, namespace</code></p>\n",
    "</blockquote>\n",
    "<blockquote>\n",
    "<p>Output paramerters:<span style=\"font-family: monospace;\"> None</span></p>\n",
    "</blockquote>"
   ]
  },
  {
   "cell_type": "code",
   "execution_count": null,
   "id": "d0170b6b-6d69-4dd8-9c8f-9128e252659f",
   "metadata": {
    "actionBashCommand": false,
    "actionCategories": [
     "CATEGORY_TYPE_DEVOPS",
     "CATEGORY_TYPE_SRE",
     "CATEGORY_TYPE_K8S",
     "CATEGORY_TYPE_K8S_POD"
    ],
    "actionDescription": "Delete a Kubernetes POD in a given Namespace",
    "actionEntryFunction": "k8s_delete_pod",
    "actionIsCheck": false,
    "actionIsRemediation": false,
    "actionNeedsCredential": true,
    "actionNextHop": null,
    "actionNextHopParameterMapping": null,
    "actionNouns": null,
    "actionOutputType": "ACTION_OUTPUT_TYPE_DICT",
    "actionSupportsIteration": true,
    "actionSupportsPoll": true,
    "actionTitle": "Delete a Kubernetes POD in a given Namespace",
    "actionType": "LEGO_TYPE_K8S",
    "actionVerbs": null,
    "actionVersion": "1.0.0",
    "action_modified": false,
    "action_uuid": "9e1cc8076571d227dc6d1955fda400e9e29e2306b070d007b72692cfa2281407",
    "condition_enabled": true,
    "continueOnError": true,
    "credentialsJson": {},
    "description": "Delete a Kubernetes POD in a given Namespace",
    "id": 2,
    "index": 2,
    "inputData": [
     {
      "namespace": {
       "constant": false,
       "value": "\"iter.get(\\\\\"namespace\\\\\")\""
      },
      "podname": {
       "constant": false,
       "value": "\"iter.get(\\\\\"pod_name\\\\\")\""
      }
     }
    ],
    "inputschema": [
     {
      "properties": {
       "namespace": {
        "description": "Kubernetes namespace",
        "title": "Namespace",
        "type": "string"
       },
       "podname": {
        "description": "K8S Pod Name",
        "title": "Podname",
        "type": "string"
       }
      },
      "required": [
       "namespace",
       "podname"
      ],
      "title": "k8s_delete_pod",
      "type": "object"
     }
    ],
    "iterData": [
     {
      "iter_enabled": true,
      "iter_item": {
       "namespace": "namespace",
       "podname": "pod_name"
      },
      "iter_list": {
       "constant": false,
       "objectItems": true,
       "value": "all_unhealthy_pods"
      }
     }
    ],
    "jupyter": {
     "source_hidden": true
    },
    "language": "python",
    "legotype": "LEGO_TYPE_K8S",
    "name": "Delete a Kubernetes POD in a given Namespace",
    "orderProperties": [
     "namespace",
     "podname"
    ],
    "printOutput": true,
    "startcondition": "len(all_unhealthy_pods)!=0",
    "tags": [
     "k8s_delete_pod"
    ],
    "uuid": "9e1cc8076571d227dc6d1955fda400e9e29e2306b070d007b72692cfa2281407",
    "version": "1.0.0"
   },
   "outputs": [],
   "source": [
    "#\n",
    "# Copyright (c) 2021 unSkript.com\n",
    "# All rights reserved.\n",
    "#\n",
    "import pprint\n",
    "from typing import Dict\n",
    "from pydantic import BaseModel, Field\n",
    "from kubernetes import client\n",
    "from kubernetes.client.rest import ApiException\n",
    "\n",
    "from beartype import beartype\n",
    "@beartype\n",
    "def k8s_delete_pod_printer(output):\n",
    "    if output is None:\n",
    "        return\n",
    "\n",
    "    pprint.pprint(output)\n",
    "\n",
    "\n",
    "@beartype\n",
    "def k8s_delete_pod(handle, namespace: str, podname: str):\n",
    "    \"\"\"k8s_delete_pod delete a Kubernetes POD in a given Namespace\n",
    "\n",
    "        :type handle: object\n",
    "        :param handle: Object returned from the Task validate method\n",
    "\n",
    "        :type namespace: str\n",
    "        :param namespace: Kubernetes namespace\n",
    "\n",
    "        :type podname: str\n",
    "        :param podname: K8S Pod Name\n",
    "\n",
    "        :rtype: Dict of POD info\n",
    "    \"\"\"\n",
    "    coreApiClient = client.CoreV1Api(api_client=handle)\n",
    "\n",
    "    try:\n",
    "        resp = coreApiClient.delete_namespaced_pod(\n",
    "            name=podname, namespace=namespace)\n",
    "    except ApiException as e:\n",
    "        resp = 'An Exception occured while executing the command' + e.reason\n",
    "\n",
    "    return resp\n",
    "\n",
    "\n",
    "task = Task(Workflow())\n",
    "task.configure(continueOnError=True)\n",
    "task.configure(inputParamsJson='''{\n",
    "    \"podname\": \"iter.get(\\\\\"pod_name\\\\\")\",\n",
    "    \"namespace\": \"iter.get(\\\\\"namespace\\\\\")\"\n",
    "    }''')\n",
    "task.configure(iterJson='''{\n",
    "    \"iter_enabled\": true,\n",
    "    \"iter_list_is_const\": false,\n",
    "    \"iter_list\": \"all_unhealthy_pods\",\n",
    "    \"iter_parameter\": [\"podname\",\"namespace\"]\n",
    "    }''')\n",
    "task.configure(conditionsJson='''{\n",
    "    \"condition_enabled\": true,\n",
    "    \"condition_cfg\": \"len(all_unhealthy_pods)!=0\",\n",
    "    \"condition_result\": true\n",
    "    }''')\n",
    "\n",
    "task.configure(printOutput=True)\n",
    "(err, hdl, args) = task.validate(vars=vars())\n",
    "if err is None:\n",
    "    task.execute(k8s_delete_pod, lego_printer=k8s_delete_pod_printer, hdl=hdl, args=args)"
   ]
  },
  {
   "cell_type": "markdown",
   "id": "3b09724f-c9f8-4399-a3d1-aaf8d4866911",
   "metadata": {
    "jupyter": {
     "source_hidden": false
    },
    "name": "Conclusion",
    "orderProperties": [],
    "tags": [],
    "title": "Conclusion"
   },
   "source": [
    "<p>This runbook addressed the issue of failing Kubernetes pods in jobs that were leading to IP exhaustion. By following the steps outlined in this runbook, the failing pods were identified and deleted, preventing further IP exhaustion. Regular monitoring and proactive deletion of failing pods from jobs are crucial to maintaining the stability and availability of the Kubernetes cluster. Implementing this runbook as part of the operational processes will help ensure efficient resource utilization and minimize disruptions caused by IP exhaustion. To view the full platform capabilities of unSkript please visit <a href=\"https://us.app.unskript.io\" target=\"_blank\" rel=\"noopener\">https://us.app.unskript.io</a></p>"
   ]
  }
 ],
 "metadata": {
  "execution_data": {
   "runbook_name": "IP Exhaustion Mitigation: Failing K8s Pod Deletion from Jobs",
   "parameters": [
    "namespace"
   ]
  },
  "kernelspec": {
   "display_name": "Python 3.10.6 64-bit",
   "language": "python",
   "name": "python3"
  },
  "language_info": {
   "codemirror_mode": {
    "name": "ipython",
    "version": 3
   },
   "file_extension": ".py",
   "mimetype": "text/x-python",
   "name": "python",
   "nbconvert_exporter": "python",
   "pygments_lexer": "ipython3",
   "version": "3.10.6"
  },
  "parameterSchema": {
   "properties": {
    "namespace": {
     "description": "Name of the K8s namespace. Default- all namespaces",
     "title": "namespace",
     "type": "string"
    },
    "pod_names": {
     "description": "Pod names from a particular namespace to delete for failing jobs.",
     "title": "pod_names",
     "type": "array"
    }
   },
   "required": [],
   "title": "Schema",
   "type": "object"
  },
  "vscode": {
   "interpreter": {
    "hash": "b0fa6594d8f4cbf19f97940f81e996739fb7646882a419484c72d19e05852a7e"
   }
  }
 },
 "nbformat": 4,
 "nbformat_minor": 5
}