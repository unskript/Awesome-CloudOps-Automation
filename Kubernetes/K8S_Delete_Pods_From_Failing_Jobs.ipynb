{
 "cells": [
  {
   "cell_type": "markdown",
   "id": "ed972c43-e797-4fe7-8e90-386d7af0b950",
   "metadata": {
    "jupyter": {
     "source_hidden": false
    },
    "name": "Steps Overview",
    "orderProperties": [],
    "tags": [],
    "title": "Steps Overview"
   },
   "source": [
    "<center><img src=\"https://storage.googleapis.com/unskript-website/assets/favicon.png\" alt=\"unSkript.com\" width=\"100\" height=\"100\">\n",
    "<h1 id=\"-unSkript-Runbooks-\">unSkript Runbooks&nbsp;</h1>\n",
    "<div class=\"alert alert-block alert-success\">\n",
    "<h3 id=\"-Objective\">Objective</h3>\n",
    "<br><strong style=\"color: #000000;\"><em>To identify and delete failing Kubernetes pods from jobs to mitigate IP exhaustion issues in the cluster.</em></strong></div>\n",
    "</center>\n",
    "<p>&nbsp;</p>\n",
    "<center>\n",
    "<h2 id=\"Delete-Evicted-Pods-From-Namespaces\">IP Exhaustion Mitigation: Failing K8s Pod Deletion from Jobs</h2>\n",
    "</center>\n",
    "<h1 id=\"Steps-Overview\">Steps Overview</h1>\n",
    "<p>1)<a href=\"#1\" target=\"_self\" rel=\"noopener\"> Get failing pods from all jobs.</a><br>2)<a href=\"#2\" target=\"_self\" rel=\"noopener\"> Delete the pod&nbsp;</a></p>"
   ]
  },
  {
   "cell_type": "code",
   "execution_count": null,
   "id": "477a0f30-b116-4170-8219-0de2637e539d",
   "metadata": {
    "collapsed": true,
    "credentialsJson": {},
    "customAction": true,
    "jupyter": {
     "outputs_hidden": true,
     "source_hidden": true
    },
    "name": "Input Verification",
    "orderProperties": [],
    "tags": [],
    "title": "Input Verification"
   },
   "outputs": [],
   "source": [
    "if namespace is None:\n",
    "    namespace = ''"
   ]
  },
  {
   "cell_type": "markdown",
   "id": "a1c24634-7d34-4524-b76b-35209d458c62",
   "metadata": {
    "jupyter": {
     "source_hidden": false
    },
    "name": "Step 1",
    "orderProperties": [],
    "tags": [],
    "title": "Step 1"
   },
   "source": [
    "<h3 id=\"Show-All-Evicted-Pods-From-All-Namespaces\"><a id=\"1\" target=\"_self\" rel=\"nofollow\"></a>Get failing Pods From all jobs</h3>\n",
    "<p>If a job doesn&rsquo;t exit cleanly (whether it finished successfully or not) the pod is left in a terminated or errored state. After some rounds of runs, these extra pods can quickly exhaust iptables&rsquo; available IP addresses in the cluster. This action fetches all the pods that are not in the running state from a scheduled job.</p>\n",
    "<blockquote>\n",
    "<p>Input parameters: <code>namespace (Optional)</code></p>\n",
    "</blockquote>\n",
    "<blockquote>\n",
    "<p>Output variable: <code>unhealthy_pods</code></p>\n",
    "</blockquote>"
   ]
  },
  {
   "cell_type": "code",
   "execution_count": null,
   "id": "4450bc10-5a2b-4985-8d33-92d19c2f1acf",
   "metadata": {
    "actionBashCommand": false,
    "actionCategories": [
     "CATEGORY_TYPE_CLOUDOPS",
     "CATEGORY_TYPE_DEVOPS",
     "CATEGORY_TYPE_TROUBLESHOOTING",
     "CATEGORY_TYPE_SRE",
     "CATEGORY_TYPE_K8S",
     "CATEGORY_TYPE_K8S_POD"
    ],
    "actionDescription": "Get Kubernetes Error PODs from All Jobs",
    "actionEntryFunction": "k8s_get_error_pods_from_all_jobs",
    "actionIsCheck": true,
    "actionIsRemediation": false,
    "actionNeedsCredential": true,
    "actionNextHop": [],
    "actionNextHopParameterMapping": {},
    "actionNouns": null,
    "actionOutputType": "ACTION_OUTPUT_TYPE_LIST",
    "actionSupportsIteration": true,
    "actionSupportsPoll": true,
    "actionTitle": "Get Kubernetes Error PODs from All Jobs",
    "actionType": "LEGO_TYPE_K8S",
    "actionVerbs": null,
    "actionVersion": "1.0.0",
    "action_modified": false,
    "action_uuid": "d7a1da167d056a912739fce8c4571c6863050f52d6e19495971277057e709857",
    "collapsed": true,
    "continueOnError": false,
    "credentialsJson": {},
    "description": "Get Kubernetes Error PODs from All Jobs",
    "id": 2,
    "index": 2,
    "inputData": [
     {
      "namespace": {
       "constant": false,
       "value": "namespace"
      }
     }
    ],
    "inputschema": [
     {
      "properties": {
       "namespace": {
        "default": "",
        "description": "k8s Namespace",
        "title": "Namespace",
        "type": "string"
       }
      },
      "required": [],
      "title": "k8s_get_error_pods_from_all_jobs",
      "type": "object"
     }
    ],
    "jupyter": {
     "outputs_hidden": true,
     "source_hidden": true
    },
    "language": "python",
    "legotype": "LEGO_TYPE_K8S",
    "name": "Get Kubernetes Error PODs from All Jobs",
    "orderProperties": [
     "namespace"
    ],
    "outputParams": {
     "output_name": "unhealthy_pods",
     "output_name_enabled": true,
     "output_runbook_enabled": false,
     "output_runbook_name": ""
    },
    "printOutput": true,
    "tags": [
     "k8s_get_error_pods_from_all_jobs"
    ],
    "uuid": "d7a1da167d056a912739fce8c4571c6863050f52d6e19495971277057e709857",
    "version": "1.0.0"
   },
   "outputs": [],
   "source": [
    "#\n",
    "# Copyright (c) 2023 unSkript.com\n",
    "# All rights reserved.\n",
    "#\n",
    "\n",
    "import pprint\n",
    "from typing import Tuple, Optional\n",
    "from pydantic import BaseModel, Field\n",
    "from kubernetes.client.rest import ApiException\n",
    "import json\n",
    "\n",
    "\n",
    "from beartype import beartype\n",
    "@beartype\n",
    "def k8s_get_error_pods_from_all_jobs_printer(output):\n",
    "    if output is None:\n",
    "        return\n",
    "    pprint.pprint(output)\n",
    "\n",
    "\n",
    "@beartype\n",
    "def k8s_get_error_pods_from_all_jobs(handle, namespace: str = '') -> Tuple:\n",
    "    \"\"\"k8s_get_error_pods_from_all_jobs This check function uses the handle's native command\n",
    "       method to execute a pre-defined kubectl command and returns the output of list of error pods\n",
    "       from all jobs.\n",
    "\n",
    "       :type handle: Object\n",
    "       :param handle: Object returned from the task.validate(...) function\n",
    "\n",
    "       :rtype: Tuple Result in tuple format.\n",
    "    \"\"\"\n",
    "    action_op = []\n",
    "    if handle.client_side_validation is not True:\n",
    "        raise ApiException(f\"K8S Connector is invalid {handle}\")\n",
    "\n",
    "    if not namespace:\n",
    "        kubectl_command = f\"kubectl get jobs --all-namespaces -o json\"\n",
    "    else:\n",
    "        kubectl_command = f\"kubectl get jobs -n {namespace} -o json\"\n",
    "    result = handle.run_native_cmd(kubectl_command)\n",
    "    if result.stderr:\n",
    "        raise ApiException(f\"Error occurred while executing command {kubectl_command} {result.stderr}\")\n",
    "    job_names = []\n",
    "    if result.stdout:\n",
    "        op = json.loads(result.stdout)\n",
    "        for jobs in op[\"items\"]:\n",
    "            job_dict = {}\n",
    "            job_dict[\"job_name\"] = jobs[\"metadata\"][\"name\"]\n",
    "            job_dict[\"namespace\"] = jobs[\"metadata\"][\"namespace\"]\n",
    "            job_names.append(job_dict)\n",
    "    if job_names:\n",
    "        for job in job_names:\n",
    "            command = f\"\"\"kubectl get pods --selector=job-name={job[\"job_name\"]} -n {job[\"namespace\"]} --field-selector=status.phase!=Running -o json\"\"\"\n",
    "            pod_result = handle.run_native_cmd(kubectl_command)\n",
    "            if pod_result.stderr:\n",
    "                raise ApiException(f\"Error occurred while executing command {command} {pod_result.stderr}\")\n",
    "            job_names = []\n",
    "            if pod_result.stdout:\n",
    "                pod_op = json.loads(pod_result.stdout)\n",
    "                for pods in pod_op[\"items\"]:\n",
    "                    pod_dict = {}\n",
    "                    pod_dict[\"job_name\"] = job[\"job_name\"]\n",
    "                    pod_dict[\"namespace\"] = job[\"namespace\"]\n",
    "                    pod_dict[\"pod_name\"] = pods[\"metadata\"][\"name\"]\n",
    "                    action_op.append(pod_dict)\n",
    "    if len(action_op) != 0:\n",
    "        return (False, action_op)\n",
    "    else:\n",
    "        return (True, None)\n",
    "\n",
    "\n",
    "task = Task(Workflow())\n",
    "task.configure(inputParamsJson='''{\n",
    "    \"namespace\": \"namespace\"\n",
    "    }''')\n",
    "task.configure(outputName=\"unhealthy_pods\")\n",
    "\n",
    "task.configure(printOutput=True)\n",
    "(err, hdl, args) = task.validate(vars=vars())\n",
    "if err is None:\n",
    "    task.execute(k8s_get_error_pods_from_all_jobs, lego_printer=k8s_get_error_pods_from_all_jobs_printer, hdl=hdl, args=args)"
   ]
  },
  {
   "cell_type": "markdown",
   "id": "10f8af2e-d731-4bc9-b393-32daef43b096",
   "metadata": {
    "name": "Step 1A",
    "orderProperties": [],
    "tags": [],
    "title": "Step 1A"
   },
   "source": [
    "<h3 id=\"Create-List-of-Old-EBS-Snapshots\">Create list of errored pods</h3>\n",
    "<p>This action gets a list of all&nbsp; objects from the output of Step 1</p>\n",
    "<blockquote>\n",
    "<p>This action takes the following parameters: <code>None</code></p>\n",
    "</blockquote>\n",
    "<blockquote>\n",
    "<p>This action captures the following output: <code>all_uhealthy_pods</code></p>\n",
    "</blockquote>"
   ]
  },
  {
   "cell_type": "code",
   "execution_count": null,
   "id": "af12bab5-e503-4da9-a74d-dbb88c5f8298",
   "metadata": {
    "collapsed": true,
    "credentialsJson": {},
    "customAction": true,
    "jupyter": {
     "outputs_hidden": true,
     "source_hidden": true
    },
    "name": "Create list of errored pods",
    "orderProperties": [],
    "tags": [],
    "title": "Create list of errored pods"
   },
   "outputs": [],
   "source": [
    "all_unhealthy_pods = []\n",
    "if unhealthy_pods[0] == False:\n",
    "        if len(unhealthy_pods[1])!=0:\n",
    "            all_unhealthy_pods=unhealthy_pods[1]\n",
    "print(all_unhealthy_pods)\n",
    "task.configure(outputName=\"all_unhealthy_pods\")"
   ]
  },
  {
   "cell_type": "markdown",
   "id": "8310152a-97fd-4920-afce-f70dbdf28991",
   "metadata": {
    "jupyter": {
     "source_hidden": false
    },
    "name": "Step-2",
    "orderProperties": [],
    "tags": [],
    "title": "Step-2"
   },
   "source": [
    "<h3 id=\"Delete-Evicted-Pods-From-All-Namespaces\"><a id=\"2\" target=\"_self\" rel=\"nofollow\"></a>Delete the Pod</h3>\n",
    "<p>This action deletes the pods found in Step 1.</p>\n",
    "<blockquote>\n",
    "<p>Input parameters: <code>pod_name, namespace</code></p>\n",
    "</blockquote>\n",
    "<blockquote>\n",
    "<p>Output paramerters:<span style=\"font-family: monospace;\"> None</span></p>\n",
    "</blockquote>"
   ]
  },
  {
   "cell_type": "code",
   "execution_count": null,
   "id": "d0170b6b-6d69-4dd8-9c8f-9128e252659f",
   "metadata": {
    "actionBashCommand": false,
    "actionCategories": [
     "CATEGORY_TYPE_DEVOPS",
     "CATEGORY_TYPE_SRE",
     "CATEGORY_TYPE_K8S",
     "CATEGORY_TYPE_K8S_POD"
    ],
    "actionDescription": "Delete a Kubernetes POD in a given Namespace",
    "actionEntryFunction": "k8s_delete_pod",
    "actionIsCheck": false,
    "actionIsRemediation": false,
    "actionNeedsCredential": true,
    "actionNextHop": null,
    "actionNextHopParameterMapping": null,
    "actionNouns": null,
    "actionOutputType": "ACTION_OUTPUT_TYPE_DICT",
    "actionSupportsIteration": true,
    "actionSupportsPoll": true,
    "actionTitle": "Delete a Kubernetes POD in a given Namespace",
    "actionType": "LEGO_TYPE_K8S",
    "actionVerbs": null,
    "actionVersion": "1.0.0",
    "action_modified": false,
    "action_uuid": "9e1cc8076571d227dc6d1955fda400e9e29e2306b070d007b72692cfa2281407",
    "continueOnError": true,
    "credentialsJson": {},
    "description": "Delete a Kubernetes POD in a given Namespace",
    "id": 2,
    "index": 2,
    "inputData": [
     {
      "namespace": {
       "constant": false,
       "value": "\"iter.get(\\\\\"namespace\\\\\")\""
      },
      "podname": {
       "constant": false,
       "value": "\"iter.get(\\\\\"pod_name\\\\\")\""
      }
     }
    ],
    "inputschema": [
     {
      "properties": {
       "namespace": {
        "description": "Kubernetes namespace",
        "title": "Namespace",
        "type": "string"
       },
       "podname": {
        "description": "K8S Pod Name",
        "title": "Podname",
        "type": "string"
       }
      },
      "required": [
       "namespace",
       "podname"
      ],
      "title": "k8s_delete_pod",
      "type": "object"
     }
    ],
    "iterData": [
     {
      "iter_enabled": true,
      "iter_item": {
       "namespace": "namespace",
       "podname": "pod_name"
      },
      "iter_list": {
       "constant": false,
       "objectItems": true,
       "value": "all_unhealthy_pods"
      }
     }
    ],
    "jupyter": {
     "source_hidden": true
    },
    "language": "python",
    "legotype": "LEGO_TYPE_K8S",
    "name": "Delete a Kubernetes POD in a given Namespace",
    "orderProperties": [
     "namespace",
     "podname"
    ],
    "printOutput": true,
    "tags": [
     "k8s_delete_pod"
    ],
    "uuid": "9e1cc8076571d227dc6d1955fda400e9e29e2306b070d007b72692cfa2281407",
    "version": "1.0.0"
   },
   "outputs": [],
   "source": [
    "#\n",
    "# Copyright (c) 2021 unSkript.com\n",
    "# All rights reserved.\n",
    "#\n",
    "import pprint\n",
    "from typing import Dict\n",
    "from pydantic import BaseModel, Field\n",
    "from kubernetes import client\n",
    "from kubernetes.client.rest import ApiException\n",
    "\n",
    "from beartype import beartype\n",
    "@beartype\n",
    "def k8s_delete_pod_printer(output):\n",
    "    if output is None:\n",
    "        return\n",
    "\n",
    "    pprint.pprint(output)\n",
    "\n",
    "\n",
    "@beartype\n",
    "def k8s_delete_pod(handle, namespace: str, podname: str):\n",
    "    \"\"\"k8s_delete_pod delete a Kubernetes POD in a given Namespace\n",
    "\n",
    "        :type handle: object\n",
    "        :param handle: Object returned from the Task validate method\n",
    "\n",
    "        :type namespace: str\n",
    "        :param namespace: Kubernetes namespace\n",
    "\n",
    "        :type podname: str\n",
    "        :param podname: K8S Pod Name\n",
    "\n",
    "        :rtype: Dict of POD info\n",
    "    \"\"\"\n",
    "    coreApiClient = client.CoreV1Api(api_client=handle)\n",
    "\n",
    "    try:\n",
    "        resp = coreApiClient.delete_namespaced_pod(\n",
    "            name=podname, namespace=namespace)\n",
    "    except ApiException as e:\n",
    "        resp = 'An Exception occured while executing the command' + e.reason\n",
    "\n",
    "    return resp\n",
    "\n",
    "\n",
    "task = Task(Workflow())\n",
    "task.configure(continueOnError=True)\n",
    "task.configure(inputParamsJson='''{\n",
    "    \"podname\": \"iter.get(\\\\\"pod_name\\\\\")\",\n",
    "    \"namespace\": \"iter.get(\\\\\"namespace\\\\\")\"\n",
    "    }''')\n",
    "task.configure(iterJson='''{\n",
    "    \"iter_enabled\": true,\n",
    "    \"iter_list_is_const\": false,\n",
    "    \"iter_list\": \"all_unhealthy_pods\",\n",
    "    \"iter_parameter\": [\"podname\",\"namespace\"]\n",
    "    }''')\n",
    "\n",
    "task.configure(printOutput=True)\n",
    "(err, hdl, args) = task.validate(vars=vars())\n",
    "if err is None:\n",
    "    task.execute(k8s_delete_pod, lego_printer=k8s_delete_pod_printer, hdl=hdl, args=args)"
   ]
  },
  {
   "cell_type": "markdown",
   "id": "3b09724f-c9f8-4399-a3d1-aaf8d4866911",
   "metadata": {
    "jupyter": {
     "source_hidden": false
    },
    "name": "Conclusion",
    "orderProperties": [],
    "tags": [],
    "title": "Conclusion"
   },
   "source": [
    "<p>This runbook addressed the issue of failing Kubernetes pods in jobs that were leading to IP exhaustion. By following the steps outlined in this runbook, the failing pods were identified and deleted, preventing further IP exhaustion. Regular monitoring and proactive deletion of failing pods from jobs are crucial to maintaining the stability and availability of the Kubernetes cluster. Implementing this runbook as part of the operational processes will help ensure efficient resource utilization and minimize disruptions caused by IP exhaustion. To view the full platform capabilities of unSkript please visit <a href=\"https://us.app.unskript.io\" target=\"_blank\" rel=\"noopener\">https://us.app.unskript.io</a></p>"
   ]
  }
 ],
 "metadata": {
  "execution_data": {
   "parameters": [
    "namespace"
   ],
   "runbook_name": "IP Exhaustion Mitigation: Failing K8s Pod Deletion from Jobs"
  },
  "kernelspec": {
   "display_name": "Python 3.10.6 64-bit",
   "language": "python",
   "name": "python3"
  },
  "language_info": {
   "codemirror_mode": {
    "name": "ipython",
    "version": 3
   },
   "file_extension": ".py",
   "mimetype": "text/x-python",
   "name": "python",
   "nbconvert_exporter": "python",
   "pygments_lexer": "ipython3",
   "version": "3.10.6"
  },
  "parameterSchema": {
   "properties": {
    "namespace": {
     "description": "Name of the K8s namespace. Default- all namespaces",
     "title": "namespace",
     "type": "string"
    }
   },
   "required": [],
   "title": "Schema",
   "type": "object"
  },
  "vscode": {
   "interpreter": {
    "hash": "b0fa6594d8f4cbf19f97940f81e996739fb7646882a419484c72d19e05852a7e"
   }
  }
 },
 "nbformat": 4,
 "nbformat_minor": 5
}
