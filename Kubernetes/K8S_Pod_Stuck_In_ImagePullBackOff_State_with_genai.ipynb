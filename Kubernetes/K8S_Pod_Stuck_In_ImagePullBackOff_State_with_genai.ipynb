{
 "cells": [
  {
   "cell_type": "markdown",
   "id": "f518e5b7-08a7-425c-9d86-cfc629d5b355",
   "metadata": {
    "jupyter": {
     "source_hidden": false
    },
    "name": "Steps Overview",
    "orderProperties": [],
    "tags": [],
    "title": "Steps Overview"
   },
   "source": [
    "<hr><hr><center>Objective:&nbsp;<strong><em>Fix K8s Pod in ImagePullBackOff State</em></strong></center>\n",
    "<p>1)&nbsp;<a href=\"#1\" target=\"_self\" rel=\"noopener\">Get list of pods in ImagePullBackOff State</a><br>2)&nbsp;<a href=\"#2\" target=\"_self\" rel=\"noopener\">Extract Events of the pods</a><br>3)&nbsp;<a href=\"#3\" target=\"_self\" rel=\"noopener\">Check registry accessibility</a></p>\n",
    "<p>An <code>ImagePullBackOff</code> error occurs when a Pod startup fails to pull the specified image. The reasons could be Non-Existent of the repository or Permission to Access the repository issues. This runbook helps to walk through the steps involved in debugging such a Pod.&nbsp;We'll then create the steps required to resolve the issue - learning how to use unSkript at the same time.</p>\n",
    "<hr>"
   ]
  },
  {
   "cell_type": "markdown",
   "id": "6cdb0116-152b-493c-8eb9-71237b691806",
   "metadata": {
    "jupyter": {
     "source_hidden": false
    },
    "name": "Step 1",
    "orderProperties": [],
    "tags": [],
    "title": "Step 1"
   },
   "source": [
    "<h3 id=\"Get-List-of-Pods-in-ImagePullBackOff-State&para;\"><a id=\"1\" target=\"_self\" rel=\"nofollow\"></a>Get List of Pods in ImagePullBackOff State<a class=\"jp-InternalAnchorLink\" href=\"#Get-List-of-Pods-in-CrashLoopBackOff-State\" target=\"_self\" rel=\"noopener\">&para;</a><a class=\"jp-InternalAnchorLink\" href=\"#Get-List-of-Pods-in-ImagePullBackOff-State&para;\" target=\"_self\">&para;</a></h3>\n",
    "<p>This action fetches a list of the pods in ImagePullBackOff State. This action will consider <code>namespace</code> as&nbsp;<strong> all&nbsp;</strong>if no namespace is given.</p>\n",
    "<blockquote>\n",
    "<p>This action takes the following parameters:&nbsp;<code>namespace</code></p>\n",
    "</blockquote>\n",
    "<blockquote>\n",
    "<p>This action captures the following ouput: <code>imagepullbackoff_pods</code></p>\n",
    "</blockquote>"
   ]
  },
  {
   "cell_type": "code",
   "execution_count": null,
   "id": "1de4e931-bb27-47d0-bb67-3ff9696d41e2",
   "metadata": {
    "actionIsGenAI": true,
    "customAction": true,
    "orderProperties": [],
    "tags": [],
    "credentialsJson": {}
   },
   "outputs": [],
   "source": []
  },
  {
   "cell_type": "code",
   "execution_count": 4,
   "id": "b273811b-9921-4786-9808-230187591944",
   "metadata": {
    "credentialsJson": {},
    "customAction": true,
    "execution_data": {
     "last_date_success_run_cell": "2023-08-01T23:17:30.711Z"
    },
    "jupyter": {
     "source_hidden": true
    },
    "name": "Video 2: Click Run Action -->",
    "orderProperties": [],
    "tags": [],
    "title": "Video 2: Click Run Action -->"
   },
   "outputs": [],
   "source": [
    "%%html\n",
    "<iframe width=\"560\" height=\"315\" src=\"https://www.youtube.com/embed/aSsYlIGQhO8\" title=\"YouTube video player\" frameborder=\"0\" allow=\"accelerometer; autoplay; clipboard-write; encrypted-media; gyroscope; picture-in-picture\" allowfullscreen></iframe>"
   ]
  },
  {
   "cell_type": "markdown",
   "id": "7b195002-2041-48dc-a7de-3ca871925e58",
   "metadata": {
    "jupyter": {
     "source_hidden": false
    },
    "name": "Step 1A",
    "orderProperties": [],
    "tags": [],
    "title": "Step 1A"
   },
   "source": [
    "<h3 id=\"Create-List-of-commands-to-get-Events&para;\">Create List of commands to get Events<a class=\"jp-InternalAnchorLink\" href=\"#Examine-the-Events\" target=\"_self\" rel=\"noopener\">&para;</a><a class=\"jp-InternalAnchorLink\" href=\"#Create-List-of-commands-to-get-Events&para;\" target=\"_self\">&para;</a></h3>\n",
    "<p>Examine the output from Step 1\ud83d\udc46,&nbsp; and create a list of commands for each pod in a namespace that is found to be in the ImagePullBackOff State</p>\n",
    "<blockquote>\n",
    "<p>This action captures the following ouput:&nbsp;<code>imagepullbackoff_pods</code></p>\n",
    "</blockquote>"
   ]
  },
  {
   "cell_type": "markdown",
   "id": "380b03f3-b09c-4836-8d50-15ee8021d0e4",
   "metadata": {
    "jupyter": {
     "source_hidden": false
    },
    "name": "Step 2",
    "orderProperties": [],
    "tags": [],
    "title": "Step 2"
   },
   "source": [
    "<h3 id=\"Gather-information-of-the-pods\">Extract Events of the pods<a class=\"jp-InternalAnchorLink\" href=\"#Gather-information-of-the-pods\" target=\"_self\">&para;</a></h3>\n",
    "<p>This action describes events for a list of unhealthy pods obtained in Step 1.</p>\n",
    "<blockquote>\n",
    "<p>This action captures the following ouput: <code>describe_output</code></p>\n",
    "</blockquote>"
   ]
  },
  {
   "cell_type": "code",
   "execution_count": 5,
   "id": "cae3c677-fe96-4d0e-9d64-1b11abd00883",
   "metadata": {
    "accessType": "ACCESS_TYPE_UNSPECIFIED",
    "actionBashCommand": false,
    "actionNeedsCredential": true,
    "actionRequiredLinesInCode": [],
    "actionSupportsIteration": true,
    "actionSupportsPoll": true,
    "action_modified": false,
    "action_uuid": "4d3b4c6153e14622f42b332b7c7b8f7043577971f64edc5be6b5f8b40d5b89d1",
    "condition_enabled": true,
    "continueOnError": true,
    "createTime": "1970-01-01T00:00:00Z",
    "credentialsJson": {},
    "currentVersion": "0.1.0",
    "description": "Execute the given Kubectl command.",
    "execution_data": {
     "last_date_success_run_cell": "2023-08-01T23:45:19.929Z"
    },
    "id": 51,
    "index": 51,
    "inputData": [
     {
      "kubectl_command": {
       "constant": false,
       "value": "iter_item"
      }
     }
    ],
    "inputschema": [
     {
      "properties": {
       "kubectl_command": {
        "description": "kubectl command eg \"kubectl get pods --all-namespaces\"",
        "title": "Kubectl Command",
        "type": "string"
       }
      },
      "required": [
       "kubectl_command"
      ],
      "title": "k8s_kubectl_command",
      "type": "object"
     }
    ],
    "iterData": [
     {
      "iter_enabled": true,
      "iter_item": "kubectl_command",
      "iter_list": {
       "constant": false,
       "objectItems": false,
       "value": "[ f\"kubectl describe pod {x} -n {namespace} | grep -A 10 Events\" for x in imagepullbackoff_pods ]"
      }
     }
    ],
    "jupyter": {
     "source_hidden": true
    },
    "legotype": "LEGO_TYPE_K8S",
    "name": "Extract Events for the Pods",
    "nouns": [],
    "orderProperties": [
     "kubectl_command"
    ],
    "output": {
     "type": ""
    },
    "outputParams": {
     "output_name": "describe_output",
     "output_name_enabled": true
    },
    "printOutput": true,
    "service_id_enabled": false,
    "startcondition": "len(imagepullbackoff_pods)!=0",
    "tags": [
     "k8s_kubectl_command"
    ],
    "title": "Extract Events for the Pods",
    "verbs": []
   },
   "outputs": [],
   "source": [
    "#\n",
    "# Copyright (c) 2022 unSkript.com\n",
    "# All rights reserved.\n",
    "#\n",
    "\n",
    "from pydantic import BaseModel, Field\n",
    "\n",
    "from beartype import beartype\n",
    "@beartype\n",
    "def k8s_kubectl_command_printer(output):\n",
    "    if output is None:\n",
    "        return\n",
    "    print(output)\n",
    "\n",
    "\n",
    "@beartype\n",
    "def k8s_kubectl_command(handle, kubectl_command: str) -> str:\n",
    "    \"\"\"k8s_kubectl_command executes the given kubectl command on the pod\n",
    "\n",
    "        :type handle: object\n",
    "        :param handle: Object returned from the Task validate method\n",
    "\n",
    "        :type kubectl_command: str\n",
    "        :param kubectl_command: The Actual kubectl command, like kubectl get ns, etc..\n",
    "\n",
    "        :rtype: String, Output of the command in python string format or Empty String in case of Error.\n",
    "    \"\"\"\n",
    "    if handle.client_side_validation != True:\n",
    "        print(f\"K8S Connector is invalid: {handle}\")\n",
    "        return str()\n",
    "    result = handle.run_native_cmd(kubectl_command)\n",
    "    if result is None or hasattr(result, \"stderr\") is False or result.stderr is None:\n",
    "        print(\n",
    "            f\"Error while executing command ({kubectl_command}): {result.stderr}\")\n",
    "        return str()\n",
    "\n",
    "    return result.stdout\n",
    "\n",
    "\n",
    "task = Task(Workflow())\n",
    "task.configure(continueOnError=True)\n",
    "task.configure(inputParamsJson='''{\n",
    "    \"kubectl_command\": \"iter_item\"\n",
    "    }''')\n",
    "task.configure(iterJson='''{\n",
    "    \"iter_enabled\": true,\n",
    "    \"iter_list_is_const\": false,\n",
    "    \"iter_list\": \"[ f\\\\\"kubectl describe pod {x} -n {namespace} | grep -A 10 Events\\\\\" for x in imagepullbackoff_pods ]\",\n",
    "    \"iter_parameter\": \"kubectl_command\"\n",
    "    }''')\n",
    "task.configure(conditionsJson='''{\n",
    "    \"condition_enabled\": true,\n",
    "    \"condition_cfg\": \"len(imagepullbackoff_pods)!=0\",\n",
    "    \"condition_result\": true\n",
    "    }''')\n",
    "task.configure(outputName=\"describe_output\")\n",
    "\n",
    "task.configure(printOutput=True)\n",
    "(err, hdl, args) = task.validate(vars=vars())\n",
    "if err is None:\n",
    "    task.execute(k8s_kubectl_command, lego_printer=k8s_kubectl_command_printer, hdl=hdl, args=args)"
   ]
  },
  {
   "cell_type": "markdown",
   "id": "67287ce3-806d-458b-9fe5-ed0e6b146252",
   "metadata": {
    "jupyter": {
     "source_hidden": false
    },
    "name": "Step 2B",
    "orderProperties": [],
    "tags": [],
    "title": "Step 2B"
   },
   "source": [
    "<h3 id=\"Examine-the-Events&para;\">Examine the Events<a class=\"jp-InternalAnchorLink\" href=\"#Examine-the-Events\" target=\"_self\" rel=\"noopener\">&para;</a><a class=\"jp-InternalAnchorLink\" href=\"#Examine-the-Events&para;\" target=\"_self\">&para;</a></h3>\n",
    "<p>This Custom Action searches Known errors .&nbsp;The well known errors are listed in the error_msgs variable. If&nbsp;there is a new error message that was found, it can be added to the list.</p>"
   ]
  },
  {
   "cell_type": "code",
   "execution_count": 6,
   "id": "6df7c408-377b-4ea8-a33c-ff3c5329fbaa",
   "metadata": {
    "credentialsJson": {},
    "execution_data": {
     "last_date_success_run_cell": "2023-08-01T23:45:28.944Z"
    },
    "jupyter": {
     "source_hidden": true
    },
    "name": "Examine Events",
    "orderProperties": [],
    "tags": [],
    "title": "Examine Events"
   },
   "outputs": [],
   "source": [
    "import re\n",
    "\n",
    "\"\"\"\n",
    "This Custom Action searches Known errors in the podEvents variable.\n",
    "The well known errors are listed in the error_msgs variable. If\n",
    "there is a new error message that was found, you can add it to this\n",
    "list and the next run, the runbook will catch that error.\n",
    "\"\"\"\n",
    "\n",
    "def check_msg(msg, err):\n",
    "    return re.search(err, msg)\n",
    "\n",
    "error_msgs = [\"repository (.*) does not exist or no pull access\",\n",
    "              \"manifest for (.*) not found\",\n",
    "              \"pull access denied, repository does not exist or may require authorization\",\n",
    "             \"Back-off pulling image (.*)\"]\n",
    "cause_found = False\n",
    "result = ''\n",
    "for key, msg in describe_output.items():\n",
    "    for err in error_msgs:\n",
    "        result = check_msg(msg, err)\n",
    "        if result is not None:\n",
    "            print(\"PROBABLE CAUSE: \", f\"{result.string}\")\n",
    "            cause_found = True\n",
    "\n",
    "repoLocation = ''\n",
    "if cause_found is False:\n",
    "    print(\"ERROR MESSAGE : \\n\", all_describe_info)\n",
    "else:\n",
    "    try:\n",
    "        repoLocation = result.groups()[0]\n",
    "    except:\n",
    "        pass\n",
    "    else:\n",
    "        print(\"Image Repo Location : \", repoLocation)"
   ]
  },
  {
   "cell_type": "markdown",
   "id": "83081ee6-55c1-4f82-923b-ed6c4e054d35",
   "metadata": {
    "jupyter": {
     "source_hidden": false
    },
    "name": "Step 3",
    "orderProperties": [],
    "tags": [],
    "title": "Step 3"
   },
   "source": [
    "<h3 id=\"Create-List-of-commands-to-get-Exit-Code&para;\">Check Registry Accessibility<a class=\"jp-InternalAnchorLink\" href=\"#Examine-the-Events\" target=\"_self\" rel=\"noopener\">&para;</a><a class=\"jp-InternalAnchorLink\" href=\"#Create-List-of-commands-to-get-Exit-Code&para;\" target=\"_self\">&para;</a></h3>\n",
    "<p>From the output from Step 2B\ud83d\udc46check if the repoLocation is accessible.</p>"
   ]
  },
  {
   "cell_type": "code",
   "execution_count": 18,
   "id": "d3fbe0a1-6669-490f-8ffc-3e4e11a32156",
   "metadata": {
    "credentialsJson": {},
    "execution_data": {
     "last_date_success_run_cell": "2023-08-01T23:40:25.833Z"
    },
    "jupyter": {
     "source_hidden": true
    },
    "name": "Check Registry Accessibility",
    "orderProperties": [],
    "tags": [],
    "title": "Check Registry Accessibility"
   },
   "outputs": [],
   "source": [
    "from IPython.display import Markdown as md\n",
    "\n",
    "if repoLocation is not None:\n",
    "    display(md(f\"**Please verify Repo {repoLocation} is accessible from the K8S POD**\"))"
   ]
  },
  {
   "cell_type": "code",
   "execution_count": 19,
   "id": "e68888fe-d002-49af-9196-cebc01594dbc",
   "metadata": {
    "credentialsJson": {},
    "customAction": true,
    "execution_data": {
     "last_date_success_run_cell": "2023-08-01T23:40:29.611Z"
    },
    "jupyter": {
     "source_hidden": true
    },
    "name": "Video 3: Click Run Action -->",
    "orderProperties": [],
    "tags": [],
    "title": "Video 3: Click Run Action -->"
   },
   "outputs": [],
   "source": [
    "%%html\n",
    "<iframe width=\"560\" height=\"315\" src=\"https://www.youtube.com/embed/qXS3ILkti0s\" title=\"YouTube video player\" frameborder=\"0\" allow=\"accelerometer; autoplay; clipboard-write; encrypted-media; gyroscope; picture-in-picture\" allowfullscreen></iframe>"
   ]
  },
  {
   "cell_type": "markdown",
   "id": "094afbe4-6ea9-4c02-883b-55c4754422c8",
   "metadata": {
    "jupyter": {
     "source_hidden": false
    },
    "name": "Here is the Code for Step 3a, 3b, 3c",
    "orderProperties": [],
    "tags": [],
    "title": "Here is the Code for Step 3a, 3b, 3c"
   },
   "source": [
    "<p>Step 3a: Add this to an Action (add -&gt; Action)</p>\n",
    "<p><strong id=\"docs-internal-guid-a21dbc63-7fff-a731-b8e0-45e1efa43d7f\">patchCommand= \"kubectl patch pod image-pullback -n \" + namespace + ' -p \\'{\"spec\":{\"containers\":[{\"name\":\"image-pullback-container\", \"image\":\"debian\"}]}}\\''</strong></p>\n",
    "<p>&nbsp;</p>\n",
    "<p>Step 3b: Search actions on the Riught menu for \"Kubectl Command.\" Drag this action in, add your K8s credentials.</p>\n",
    "<p>&nbsp;</p>\n",
    "<p>Add this to the Kubectl Command</p>\n",
    "<p><strong>patchCommand</strong></p>\n",
    "<p>&nbsp;</p>\n",
    "<p>Step 3c:&nbsp;</p>\n",
    "<p>Drag in a second \"Kubectl Command\" action, add your K8s credentials.</p>\n",
    "<p>Add this to the Kubectl Command:</p>\n",
    "<p><strong id=\"docs-internal-guid-8bbd08ae-7fff-d143-ec83-5fc85433d193\">f'kubectl get pods -n {namespace}'</strong></p>\n",
    "<p>&nbsp;</p>"
   ]
  }
 ],
 "metadata": {
  "execution_data": {
   "runbook_name": "k8s: Pod Stuck in ImagePullBackOff State using genAI",
   "parameters": [
    "environment",
    "namespace"
   ]
  },
  "kernelspec": {
   "display_name": "unSkript (Build: 1248)",
   "name": "python_kubernetes"
  },
  "language_info": {
   "file_extension": ".py",
   "mimetype": "text/x-python",
   "name": "python",
   "pygments_lexer": "ipython3"
  },
  "outputParameterSchema": null,
  "parameterSchema": {
   "definitions": null,
   "properties": {
    "environment": {
     "default": "",
     "description": "Name of the environment, associated with the credential",
     "title": "environment",
     "type": "string"
    },
    "namespace": {
     "default": "0bb055c9-1d76-4570-a173-54eefecc7e42",
     "description": "K8S Namespace",
     "title": "namespace",
     "type": "string"
    }
   },
   "required": [
    "namespace",
    "environment"
   ],
   "title": "Schema",
   "type": "object"
  },
  "parameterValues": null
 },
 "nbformat": 4,
 "nbformat_minor": 5
}