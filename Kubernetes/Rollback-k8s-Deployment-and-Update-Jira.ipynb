{
    "cells": [
        {
            "cell_type": "code",
            "execution_count": 1,
            "id": "590d03ad-6ba4-4db6-9c3d-868854afa40c",
            "metadata": {
                "actionNeedsCredential": false,
                "actionSupportsIteration": false,
                "actionSupportsPoll": false,
                "deletable": false,
                "editable": false,
                "jupyter": {
                    "source_hidden": true
                },
                "orderProperties": [],
                "tags": [
                    "unSkript:nbParam"
                ],
                "title": [
                    "unSkript Internal"
                ],
                "trusted": true
            },
            "outputs": [],
            "source": [
                "import json\n",
                "from unskript import nbparams\n",
                "from unskript.secrets import ENV_MODE, ENV_MODE_AWS\n",
                "from unskript.fwk.workflow import Task, Workflow\n",
                "\n",
                "env = {\"ENV_MODE\":\"ENV_MODE_AWS\",\"TENANT_ID\":\"982dba5f-d9df-48ae-a5bf-ec1fc94d4882\",\"ENVIRONMENT_ID\":\"1499f27c-6406-4fbd-bd1b-c6f92800018f\",\"TENANT_URL\":\"https://tenant-staging.alpha.unskript.io\",\"AWS_REGION\":\"us-west-2\"}\n",
                "secret_store_cfg = {\"SECRET_STORE_TYPE\":\"SECRET_STORE_TYPE_AWS\",\"AWS_SECRET_PREFIX\":\"staging\",\"AWS_REGION\":\"us-west-2\"}\n",
                "paramDict = {}\n",
                "paramDict.update(env)\n",
                "paramDict.update(secret_store_cfg)\n",
                "paramsJson = json.dumps(paramDict)\n",
                "nbParamsObj = nbparams.NBParams(paramsJson)\n",
                "\n",
                "w = Workflow(env, secret_store_cfg, None, global_vars=globals())\n",
                "\n"
            ]
        },
        {
            "cell_type": "markdown",
            "id": "b176b2f8-b2a7-48e5-a573-1d2058900ba1",
            "metadata": {
                "name": "Rillback K8s Deployment and Update Jira",
                "orderProperties": [],
                "tags": [],
                "title": "Rillback K8s Deployment and Update Jira"
            },
            "source": [
                "\n",
                "<img src=\"https://unskript.com/assets/favicon.png\" alt=\"unSkript.com\" width=\"100\" height=\"100\"/> \n",
                "<h1> unSkript Runbooks </h1>\n",
                "<div class=\"alert alert-block alert-success\">\n",
                "    <b> This runbook demonstrates Rollback k8s Deployment and Update Jira using unSkript legos.</b>\n",
                "</div>\n",
                "\n",
                "<br>\n",
                "\n",
                "<center><h2>Rollback k8s Deployment and Update Jira</h2></center>\n",
                "\n",
                "# Steps Overview\n",
                "    1) Rollback the kubernaties deplayment to previous stable version.\n",
                "    2) Update the Jira issue status"
            ]
        },
        {
            "cell_type": "markdown",
            "id": "5dc2c32b-7fed-492b-ba3b-a883c677fa4f",
            "metadata": {
                "name": "Kubectl rollout deployment",
                "orderProperties": [],
                "tags": [],
                "title": "Kubectl rollout deployment"
            },
            "source": [
                "Here we will use unSkript Kubectl rollout deployment Lego. This lego takes k8s_cli_string, deployment and namespace as input. This inputs is used to Rollback the kubernaties deplayment to previous stable version."
            ]
        },
        {
            "cell_type": "code",
            "execution_count": null,
            "id": "f1d67467-4d0d-415f-9f27-14ff9910e073",
            "metadata": {
                "accessType": "ACCESS_TYPE_UNSPECIFIED",
                "actionBashCommand": false,
                "actionNeedsCredential": true,
                "actionRequiredLinesInCode": [],
                "actionSupportsIteration": true,
                "actionSupportsPoll": true,
                "action_uuid": "25f595b493ccd2b7502f48145c1ae8c50b52ba726f0639ae6164dc3d668789f5",
                "collapsed": true,
                "continueOnError": false,
                "createTime": "1970-01-01T00:00:00Z",
                "credentialsJson": {},
                "currentVersion": "0.1.0",
                "description": "Kubectl rollout deployment history",
                "id": 39,
                "index": 39,
                "inputData": [
                    {
                        "deployment": {
                            "constant": false,
                            "value": "\"nginx-deployment\""
                        },
                        "k8s_cli_string": {
                            "constant": false,
                            "value": "kubectl rollout undo deploy {deployment} -n {namespace}"
                        },
                        "namespace": {
                            "constant": false,
                            "value": "\"default\""
                        }
                    }
                ],
                "inputschema": [
                    {
                        "properties": {
                            "deployment": {
                                "description": "Deployment Name",
                                "title": "Deployment Name",
                                "type": "string"
                            },
                            "k8s_cli_string": {
                                "default": "kubectl rollout history deployment {deployment} -n {namespace}",
                                "description": "kubectl rollout deployment history",
                                "title": "Kubectl Command",
                                "type": "string"
                            },
                            "namespace": {
                                "description": "Namespace",
                                "title": "Namespace",
                                "type": "string"
                            }
                        },
                        "required": [
                            "deployment",
                            "namespace"
                        ],
                        "title": "k8s_kubectl_rollout_deployment",
                        "type": "object"
                    }
                ],
                "jupyter": {
                    "outputs_hidden": true,
                    "source_hidden": true
                },
                "legotype": "LEGO_TYPE_K8S",
                "name": "Kubectl rollout deployment",
                "nouns": [
                    "deployment"
                ],
                "orderProperties": [
                    "k8s_cli_string",
                    "deployment",
                    "namespace"
                ],
                "output": {
                    "type": ""
                },
                "outputParams": {
                    "output_name": "Deployment_status",
                    "output_name_enabled": true
                },
                "tags": [
                    "k8s_kubectl_rollout_deployment"
                ],
                "title": "Kubectl rollout deployment",
                "verbs": [
                    "rollout"
                ]
            },
            "outputs": [],
            "source": [
                "from pydantic import BaseModel, Field\n",
                "\n",
                "\n",
                "from beartype import beartype\n",
                "@beartype\n",
                "def k8s_kubectl_rollout_deployment_printer(data: str):\n",
                "    if data is None:\n",
                "        print(\"Error while executing command\")\n",
                "        return\n",
                "\n",
                "    print (data)\n",
                "\n",
                "@beartype\n",
                "def k8s_kubectl_rollout_deployment(handle, k8s_cli_string: str, deployment: str, namespace: str) -> str:\n",
                "    k8s_cli_string = k8s_cli_string.format(deployment, namespace)\n",
                "    result = handle.run_native_cmd(k8s_cli_string)\n",
                "    if result is None or hasattr(result, \"stderr\") is False or result.stderr is None:\n",
                "        return None\n",
                "    return result.stdout\n",
                "\n",
                "\n",
                "task = Task(Workflow())\n",
                "task.configure(credentialsJson='''{\n",
                "    \"credential_name\": \"DevEKS\",\n",
                "    \"credential_type\": \"CONNECTOR_TYPE_K8S\",\n",
                "    \"credential_id\": \"f4ed0bd7-1844-471c-ba5c-453ca12ac9cb\"\n",
                "}''')\n",
                "task.configure(inputParamsJson='''{\n",
                "    \"deployment\": \"\\\\\"nginx-deployment\\\\\"\",\n",
                "    \"k8s_cli_string\": \"kubectl rollout undo deploy {deployment} -n {namespace}\",\n",
                "    \"namespace\": \"\\\\\"default\\\\\"\"\n",
                "    }''')\n",
                "task.configure(outputName=\"Deployment_status\")\n",
                "\n",
                "(err, hdl, args) = task.validate(vars=vars())\n",
                "if err is None:\n",
                "    task.execute(k8s_kubectl_rollout_deployment, lego_printer=k8s_kubectl_rollout_deployment_printer, hdl=hdl, args=args)"
            ]
        },
        {
            "cell_type": "markdown",
            "id": "381064a9-f652-4f8d-a3a2-331d8c642f26",
            "metadata": {
                "name": "Change the Issue Status",
                "orderProperties": [],
                "tags": [],
                "title": "Change the Issue Status"
            },
            "source": [
                "Here we will use unSkript Change JIRA Issue Status Lego. This lego takes issue_id, status and transition as input. This inputs is used to Change the JIRA Issue Status."
            ]
        },
        {
            "cell_type": "code",
            "execution_count": null,
            "id": "e3fd68fc-2830-46f5-bff5-836534b79ca7",
            "metadata": {
                "accessType": "ACCESS_TYPE_UNSPECIFIED",
                "actionBashCommand": false,
                "actionNeedsCredential": true,
                "actionRequiredLinesInCode": [],
                "actionSupportsIteration": true,
                "actionSupportsPoll": true,
                "action_uuid": "751877b0836cf1f8884a2fc0186e2e73024b59494dc71d372d244d3c93468c7a",
                "collapsed": true,
                "continueOnError": false,
                "createTime": "1970-01-01T00:00:00Z",
                "credentialsJson": {},
                "currentVersion": "0.1.0",
                "description": "Change JIRA Issue Status to given status",
                "id": 68,
                "index": 68,
                "inputData": [
                    {
                        "issue_id": {
                            "constant": false,
                            "value": "\"PLAY-17\""
                        },
                        "status": {
                            "constant": false,
                            "value": "\"Done\""
                        },
                        "transition": {
                            "constant": false,
                            "value": ""
                        }
                    }
                ],
                "inputschema": [
                    {
                        "properties": {
                            "issue_id": {
                                "description": "Issue ID",
                                "title": "Issue ID",
                                "type": "string"
                            },
                            "status": {
                                "description": "New Status for the JIRA issue",
                                "title": "New Status",
                                "type": "string"
                            },
                            "transition": {
                                "description": "Transition to use for status change for the JIRA issue",
                                "title": "Transition ID",
                                "type": "string"
                            }
                        },
                        "required": [
                            "issue_id",
                            "status"
                        ],
                        "title": "jira_issue_change_status",
                        "type": "object"
                    }
                ],
                "jupyter": {
                    "outputs_hidden": true,
                    "source_hidden": true
                },
                "legotype": "LEGO_TYPE_JIRA",
                "name": "Change JIRA Issue Status",
                "nouns": [
                    "jira",
                    "issue",
                    "status"
                ],
                "orderProperties": [
                    "issue_id",
                    "status",
                    "transition"
                ],
                "output": {
                    "type": ""
                },
                "tags": [
                    "jira_issue_change_status"
                ],
                "title": "Change JIRA Issue Status",
                "verbs": [
                    "change"
                ]
            },
            "outputs": [],
            "source": [
                "##\n",
                "# Copyright (c) 2021 unSkript, Inc\n",
                "# All rights reserved.\n",
                "##\n",
                "\n",
                "from jira.client import JIRA\n",
                "from pydantic import BaseModel, Field\n",
                "from typing import Optional\n",
                "import pprint\n",
                "\n",
                "pp = pprint.PrettyPrinter(indent=4)\n",
                "\n",
                "\n",
                "from beartype import beartype\n",
                "def legoPrinter(func):\n",
                "    def Printer(*args, **kwargs):\n",
                "        output = func(*args, **kwargs)\n",
                "        print('\\n')\n",
                "        return output\n",
                "    return Printer\n",
                "\n",
                "\n",
                "@legoPrinter\n",
                "@beartype\n",
                "def jira_issue_change_status(hdl: JIRA, issue_id: str, status: str, transition: str = \"\"):\n",
                "    \"\"\"jira_get_issue_status gets the status of a given Jira issue.\n",
                "        :type issue_id: str\n",
                "        :param issue_id: ID of the issue whose status we want to fetch (eg ENG-14)\n",
                "        :rtype: String with issue status fetched from JIRA API\n",
                "    \"\"\"\n",
                "\n",
                "    # Input param validation.\n",
                "    issue = hdl.issue(issue_id)\n",
                "\n",
                "    if transition:\n",
                "        transitions = hdl.transitions(issue)\n",
                "        t = [t for t in transitions if t.get('name') == status]\n",
                "\n",
                "        if len(t) > 1:\n",
                "            print(\"Multiple transitions possible for JIRA issue. Please select transition number to use\", [\n",
                "                t.get('id') for t in transitions if t.get('name') == status])\n",
                "            return\n",
                "        else:\n",
                "            transition = t[0].get('id')\n",
                "\n",
                "    hdl.transition_issue(issue, transition)\n",
                "    return\n",
                "\n",
                "\n",
                "def unskript_default_printer(output):\n",
                "    if isinstance(output, (list, tuple)):\n",
                "        for item in output:\n",
                "            print(f'item: {item}')\n",
                "    elif isinstance(output, dict):\n",
                "        for item in output.items():\n",
                "            print(f'item: {item}')\n",
                "    else:\n",
                "        print(f'Output for {task.name}')\n",
                "        print(output)\n",
                "\n",
                "task = Task(Workflow())\n",
                "task.configure(credentialsJson='''{\n",
                "    \"credential_name\": \"unSkript Jira\",\n",
                "    \"credential_type\": \"CONNECTOR_TYPE_JIRA\",\n",
                "    \"credential_id\": \"088d7d9b-73d1-4fe2-8579-a5d97eddfca6\"\n",
                "}''')\n",
                "task.configure(inputParamsJson='''{\n",
                "    \"issue_id\": \"\\\\\"PLAY-17\\\\\"\",\n",
                "    \"status\": \"\\\\\"Done\\\\\"\"\n",
                "    }''')\n",
                "\n",
                "(err, hdl, args) = task.validate(vars=vars())\n",
                "if err is None:\n",
                "    task.execute(jira_issue_change_status, lego_printer=unskript_default_printer, hdl=hdl, args=args)"
            ]
        },
        {
            "cell_type": "markdown",
            "id": "4e38c5da-4714-48af-bdb4-5e1e59f25651",
            "metadata": {
                "name": "Conclusion",
                "orderProperties": [],
                "tags": [],
                "title": "Conclusion"
            },
            "source": [
                "In this Runbook, we demonstrated the use of unSkript's AWS and Jira legos to perform AWS and Jira actions and this runbook rollback the kubernaties deplayment to the previous stable version and update the issue status in jira. To view the full platform capabilities of unSkript please visit https://unskript.com"
            ]
        }
    ],
    "metadata": {
        "execution_data": {
            "environment_id": "1499f27c-6406-4fbd-bd1b-c6f92800018f",
            "environment_name": "Staging",
            "execution_id": "0dbf50fa-2c74-4a27-bbfa-21602ca584a2",
            "inputs_for_searched_lego": "",
            "notebook_id": "3f26ef38-04e2-46e2-abd5-3a9d05d8d636.ipynb",
            "parameters": null,
            "runbook_name": "Rollback k8s Deployment and Update Jira",
            "search_string": "",
            "show_tool_tip": false,
            "tenant_id": "982dba5f-d9df-48ae-a5bf-ec1fc94d4882",
            "tenant_url": "https://tenant-staging.alpha.unskript.io",
            "user_email_id": "harshal.bangre@unskript.com",
            "workflow_id": "41a50560-469c-4222-8065-1dfd050d6fd6"
        },
        "kernelspec": {
            "display_name": "Python 3.10.6 64-bit",
            "language": "python",
            "name": "python3"
        },
        "language_info": {
            "file_extension": ".py",
            "mimetype": "text/x-python",
            "name": "python",
            "pygments_lexer": "ipython3",
            "version": "3.10.6"
        },
        "parameterSchema": {
            "properties": {},
            "required": [],
            "title": "Schema",
            "type": "object"
        },
        "parameterValues": {},
        "vscode": {
            "interpreter": {
                "hash": "e8899eb02dfbc033aab5733bdae1bd213fa031d40331094008e8673d99ebab63"
            }
        }
    },
    "nbformat": 4,
    "nbformat_minor": 5
}
