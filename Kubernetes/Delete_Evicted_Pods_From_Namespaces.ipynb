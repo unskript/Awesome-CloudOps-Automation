{
    "cells": [
        {
            "cell_type": "markdown",
            "id": "ed972c43-e797-4fe7-8e90-386d7af0b950",
            "metadata": {
                "jupyter": {
                    "source_hidden": false
                },
                "name": "Steps Overview",
                "orderProperties": [],
                "tags": [],
                "title": "Steps Overview"
            },
            "source": [
                "<center><img src=\"https://unskript.com/assets/favicon.png\" alt=\"unSkript.com\" width=\"100\" height=\"100\"/> \n",
                "<h1> unSkript Runbooks </h1>\n",
                "<div class=\"alert alert-block alert-success\">\n",
                "    <h3> Objective</h3> <br>\n",
                "    <b style = \"color:#000000\"><i>To delete evicted pods from namespaces using unSkript actions</i></b>\n",
                "</div>\n",
                "</center>\n",
                "<br>\n",
                "\n",
                "<center><h2>Delete Evicted Pods From Namespaces</h2></center>\n",
                "\n",
                "# Steps Overview\n",
                "1)[ Show All Evicted Pods From Namespace.](#1)<br>\n",
                "2)[ Delete Evicted Pods From Namespace.](#2)"
            ]
        },
        {
            "cell_type": "markdown",
            "id": "a7da9ae0-4a59-4ff7-913c-9832eebecbc4",
            "metadata": {
                "jupyter": {
                    "source_hidden": false
                },
                "name": "Primary Step",
                "orderProperties": [],
                "tags": [],
                "title": "Primary Step"
            },
            "source": [
                "### Command Selection\n",
                "In this action, we select the command based on the user input parameter. If the user provides the namespace input, then it only collects pods for the given namespace; otherwise, it will select all pods from all the namespaces.\n",
                "\n",
                ">Ouput variable: `command`"
            ]
        },
        {
            "cell_type": "code",
            "execution_count": 5,
            "id": "3f65101e-440d-4503-a51f-c372b7efe683",
            "metadata": {
                "customAction": true,
                "execution_data": {
                    "last_date_success_run_cell": "2022-12-20T03:35:37.459Z"
                },
                "jupyter": {
                    "source_hidden": true
                },
                "name": "Command Selection",
                "orderProperties": [],
                "tags": [],
                "title": "Command Selection",
                "trusted": true
            },
            "outputs": [],
            "source": [
                "command = \"kubectl get pods --all-namespaces | grep Evicted\"\n",
                "if namespace:\n",
                "    command = \"kubectl get pods -n \" + namespace + \" | grep Evicted\""
            ]
        },
        {
            "cell_type": "markdown",
            "id": "a1c24634-7d34-4524-b76b-35209d458c62",
            "metadata": {
                "jupyter": {
                    "source_hidden": false
                },
                "name": "Step-1",
                "orderProperties": [],
                "tags": [],
                "title": "Step-1"
            },
            "source": [
                "### <a id=\"1\">Show All Evicted Pods From All Namespaces</a>\n",
                "In this action, we will show the evicted pods from all namespaces by using command \"kubectl get pods --all-namespaces | grep Evicted\"\n",
                ">Input parameters: `kubectl_command`\n",
                "\n",
                ">Ouput variable: `Pods_Details`"
            ]
        },
        {
            "cell_type": "code",
            "execution_count": 6,
            "id": "a3ed8798-a7e8-407a-9d7a-e25e971302e8",
            "metadata": {
                "accessType": "ACCESS_TYPE_UNSPECIFIED",
                "actionBashCommand": false,
                "actionNeedsCredential": true,
                "actionRequiredLinesInCode": [],
                "actionSupportsIteration": true,
                "actionSupportsPoll": true,
                "action_uuid": "4d3b4c6153e14622f42b332b7c7b8f7043577971f64edc5be6b5f8b40d5b89d1",
                "continueOnError": false,
                "createTime": "1970-01-01T00:00:00Z",
                "credentialsJson": {
                    "credential_id": "ecbe588f-c8c9-464c-9fa6-abfaea10be03",
                    "credential_name": "KubeconCreds",
                    "credential_type": "CONNECTOR_TYPE_K8S"
                },
                "currentVersion": "0.1.0",
                "description": "Execute the given Kubectl command.",
                "execution_data": {
                    "last_date_success_run_cell": "2022-12-20T03:35:48.549Z"
                },
                "id": 42,
                "index": 42,
                "inputData": [
                    {
                        "kubectl_command": {
                            "constant": false,
                            "value": "command"
                        }
                    }
                ],
                "inputschema": [
                    {
                        "properties": {
                            "kubectl_command": {
                                "description": "kubectl command eg \"kubectl get pods --all-namespaces\"",
                                "title": "Kubectl Command",
                                "type": "string"
                            }
                        },
                        "required": [
                            "kubectl_command"
                        ],
                        "title": "k8s_kubectl_command",
                        "type": "object"
                    }
                ],
                "jupyter": {
                    "source_hidden": true
                },
                "legotype": "LEGO_TYPE_K8S",
                "name": "Show All Evicted Pods From Namespace",
                "nouns": [],
                "orderProperties": [
                    "kubectl_command"
                ],
                "output": {
                    "type": ""
                },
                "outputParams": {
                    "output_name": "pods_details",
                    "output_name_enabled": true
                },
                "tags": [
                    "k8s_kubectl_command"
                ],
                "title": "Show All Evicted Pods From Namespace",
                "trusted": true,
                "verbs": []
            },
            "outputs": [],
            "source": [
                "#\n",
                "# Copyright (c) 2022 unSkript.com\n",
                "# All rights reserved.\n",
                "#\n",
                "\n",
                "from pydantic import BaseModel, Field\n",
                "\n",
                "\n",
                "from beartype import beartype\n",
                "@beartype\n",
                "def k8s_kubectl_command_printer(output):\n",
                "    if output is None:\n",
                "        return\n",
                "    print(output)\n",
                "\n",
                "\n",
                "@beartype\n",
                "def k8s_kubectl_command(handle, kubectl_command: str) -> str:\n",
                "    \"\"\"k8s_kubectl_command executes the given kubectl command on the pod\n",
                "\n",
                "        :type handle: object\n",
                "        :param handle: Object returned from the Task validate method\n",
                "\n",
                "        :type kubectl_command: str\n",
                "        :param kubectl_command: The Actual kubectl command, like kubectl get ns, etc..\n",
                "\n",
                "        :rtype: String, Output of the command in python string format or Empty String in case of Error.\n",
                "    \"\"\"\n",
                "    if handle.client_side_validation != True:\n",
                "        print(f\"K8S Connector is invalid: {handle}\")\n",
                "        return str()\n",
                "\n",
                "    result = handle.run_native_cmd(kubectl_command)\n",
                "    if result is None or hasattr(result, \"stderr\") is False or result.stderr is None:\n",
                "        print(\n",
                "            f\"Error while executing command ({kubectl_command}): {result.stderr}\")\n",
                "        return str()\n",
                "\n",
                "    return result.stdout\n",
                "\n",
                "\n",
                "task = Task(Workflow())\n",
                "task.configure(inputParamsJson='''{\n",
                "    \"kubectl_command\": \"command\"\n",
                "    }''')\n",
                "task.configure(outputName=\"pods_details\")\n",
                "\n",
                "(err, hdl, args) = task.validate(vars=vars())\n",
                "if err is None:\n",
                "    task.execute(k8s_kubectl_command, lego_printer=k8s_kubectl_command_printer, hdl=hdl, args=args)"
            ]
        },
        {
            "cell_type": "markdown",
            "id": "4e8e74fd-026f-4ea6-b5b4-cc1b18f84e64",
            "metadata": {
                "jupyter": {
                    "source_hidden": false
                },
                "name": "Step-1 Extension",
                "orderProperties": [],
                "tags": [],
                "title": "Step-1 Extension"
            },
            "source": [
                "### Command Selection\n",
                "In this action, we select the command based on the user input parameter. If the user provides the namespace input, then it only collects pods for the given namespace; otherwise, it will select all pods from all the namespaces.\n",
                "\n",
                ">Ouput variable: `delete_command`"
            ]
        },
        {
            "cell_type": "code",
            "execution_count": 7,
            "id": "ad3016d7-aaa9-4e2b-b670-23dd2378b19a",
            "metadata": {
                "customAction": true,
                "jupyter": {
                    "source_hidden": true
                },
                "name": "Command Selection",
                "orderProperties": [],
                "tags": [],
                "title": "Command Selection"
            },
            "outputs": [],
            "source": [
                "delete_command = \"\"\"kubectl get pods --all-namespaces | grep Evicted | awk '{print $2 \" --namespace=\" $1}' | xargs kubectl delete pod\"\"\"\n",
                "if namespace:\n",
                "    delete_command = \"\"\"kubectl get pods -n \"\"\" + namespace + \"\"\" | grep Evicted | awk '{print $2 \" --namespace=\" $1}' | xargs kubectl delete pod -n \"\"\" + namespace"
            ]
        },
        {
            "cell_type": "markdown",
            "id": "8310152a-97fd-4920-afce-f70dbdf28991",
            "metadata": {
                "jupyter": {
                    "source_hidden": false
                },
                "name": "Step-2",
                "orderProperties": [],
                "tags": [],
                "title": "Step-2"
            },
            "source": [
                "### <a id=\"2\">Delete Evicted Pods From All Namespaces</a>\n",
                "In this action, we will delete the evicted pods from all namespaces by using command \"kubectl get pods --all-namespaces | grep Evicted | awk '{print $2 \" --namespace=\" $1}' | xargs kubectl delete pod\"\n",
                ">Input parameters: `kubectl_command`\n",
                "\n",
                ">Ouput variable: `Delete_Status`"
            ]
        },
        {
            "cell_type": "code",
            "execution_count": null,
            "id": "4db54c54-5e81-47f3-a857-50e083f9cb00",
            "metadata": {
                "accessType": "ACCESS_TYPE_UNSPECIFIED",
                "actionBashCommand": false,
                "actionNeedsCredential": true,
                "actionRequiredLinesInCode": [],
                "actionSupportsIteration": true,
                "actionSupportsPoll": true,
                "action_uuid": "4d3b4c6153e14622f42b332b7c7b8f7043577971f64edc5be6b5f8b40d5b89d1",
                "collapsed": true,
                "continueOnError": false,
                "createTime": "1970-01-01T00:00:00Z",
                "credentialsJson": {
                    "credential_id": "ecbe588f-c8c9-464c-9fa6-abfaea10be03",
                    "credential_name": "KubeconCreds",
                    "credential_type": "CONNECTOR_TYPE_K8S"
                },
                "currentVersion": "0.1.0",
                "description": "Execute the given Kubectl command.",
                "id": 42,
                "index": 42,
                "inputData": [
                    {
                        "kubectl_command": {
                            "constant": false,
                            "value": "delete_command"
                        }
                    }
                ],
                "inputschema": [
                    {
                        "properties": {
                            "kubectl_command": {
                                "description": "kubectl command eg \"kubectl get pods --all-namespaces\"",
                                "title": "Kubectl Command",
                                "type": "string"
                            }
                        },
                        "required": [
                            "kubectl_command"
                        ],
                        "title": "k8s_kubectl_command",
                        "type": "object"
                    }
                ],
                "jupyter": {
                    "outputs_hidden": true,
                    "source_hidden": true
                },
                "legotype": "LEGO_TYPE_K8S",
                "name": "Delete Evicted Pods From Namespace",
                "nouns": [],
                "orderProperties": [
                    "kubectl_command"
                ],
                "output": {
                    "type": ""
                },
                "outputParams": {
                    "output_name": "delete_status",
                    "output_name_enabled": true
                },
                "tags": [
                    "k8s_kubectl_command"
                ],
                "title": "Delete Evicted Pods From Namespace",
                "verbs": []
            },
            "outputs": [],
            "source": [
                "#\n",
                "# Copyright (c) 2022 unSkript.com\n",
                "# All rights reserved.\n",
                "#\n",
                "\n",
                "from pydantic import BaseModel, Field\n",
                "\n",
                "\n",
                "from beartype import beartype\n",
                "@beartype\n",
                "def k8s_kubectl_command_printer(output):\n",
                "    if output is None:\n",
                "        return\n",
                "    print(output)\n",
                "\n",
                "\n",
                "@beartype\n",
                "def k8s_kubectl_command(handle, kubectl_command: str) -> str:\n",
                "    \"\"\"k8s_kubectl_command executes the given kubectl command on the pod\n",
                "\n",
                "        :type handle: object\n",
                "        :param handle: Object returned from the Task validate method\n",
                "\n",
                "        :type kubectl_command: str\n",
                "        :param kubectl_command: The Actual kubectl command, like kubectl get ns, etc..\n",
                "\n",
                "        :rtype: String, Output of the command in python string format or Empty String in case of Error.\n",
                "    \"\"\"\n",
                "    if handle.client_side_validation != True:\n",
                "        print(f\"K8S Connector is invalid: {handle}\")\n",
                "        return str()\n",
                "\n",
                "    result = handle.run_native_cmd(kubectl_command)\n",
                "    if result is None or hasattr(result, \"stderr\") is False or result.stderr is None:\n",
                "        print(\n",
                "            f\"Error while executing command ({kubectl_command}): {result.stderr}\")\n",
                "        return str()\n",
                "\n",
                "    return result.stdout\n",
                "\n",
                "\n",
                "task = Task(Workflow())\n",
                "task.configure(inputParamsJson='''{\n",
                "    \"kubectl_command\": \"delete_command\"\n",
                "    }''')\n",
                "task.configure(outputName=\"delete_status\")\n",
                "\n",
                "(err, hdl, args) = task.validate(vars=vars())\n",
                "if err is None:\n",
                "    task.execute(k8s_kubectl_command, lego_printer=k8s_kubectl_command_printer, hdl=hdl, args=args)"
            ]
        },
        {
            "cell_type": "markdown",
            "id": "3b09724f-c9f8-4399-a3d1-aaf8d4866911",
            "metadata": {
                "jupyter": {
                    "source_hidden": false
                },
                "name": "Conclusion",
                "orderProperties": [],
                "tags": [],
                "title": "Conclusion"
            },
            "source": [
                "In this Runbook, we demonstrated the use of unSkript's Kubernetes actions, and this runbook shows all the evicted pods from all namespaces and deletes them. To view the full platform capabilities of unSkript please visit https://us.app.unskript.io"
            ]
        }
    ],
    "metadata": {
        "execution_data": {
            "environment_name": "Staging",
            "environment_type": "ENVIRONMENT_TYPE_AWS_EC2",
            "execution_id": "",
            "inputs_for_searched_lego": "",
            "notebook_id": "0838e7f0-a700-4da3-bcb6-7c8b469a6629.ipynb",
            "parameters": [
                "namespace"
            ],
            "proxy_id": "1499f27c-6406-4fbd-bd1b-c6f92800018f",
            "runbook_name": "Delete Evicted Pods all Namespaces",
            "search_string": "",
            "show_tool_tip": false,
            "tenant_id": "982dba5f-d9df-48ae-a5bf-ec1fc94d4882",
            "tenant_url": "https://tenant-staging.alpha.unskript.io",
            "user_email_id": "harshal.bangre@unskript.com",
            "workflow_id": "0645baef-269c-41ee-914b-48a3f0a8bb57"
        },
        "kernelspec": {
            "display_name": "Python 3.10.6 64-bit",
            "language": "python",
            "name": "python3"
        },
        "language_info": {
            "file_extension": ".py",
            "mimetype": "text/x-python",
            "name": "python",
            "pygments_lexer": "ipython3",
            "version": "3.10.6"
        },
        "parameterSchema": {
            "properties": {
                "namespace": {
                    "description": "Name of the namespace to delete evicted pods if not provided it will execute for all namespaces.",
                    "title": "namespace",
                    "type": "string"
                }
            },
            "required": [],
            "title": "Schema",
            "type": "object"
        },
        "parameterValues": null,
        "vscode": {
            "interpreter": {
                "hash": "e8899eb02dfbc033aab5733bdae1bd213fa031d40331094008e8673d99ebab63"
            }
        }
    },
    "nbformat": 4,
    "nbformat_minor": 5
}
