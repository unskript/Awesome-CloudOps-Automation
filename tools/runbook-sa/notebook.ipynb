{
  "cells": [
    {
      "cell_type": "code",
      "execution_count": 2,
      "id": "7f8f5596-ae81-465c-8f57-57e52e9408b6",
      "metadata": {
        "deletable": false,
        "editable": false,
        "jupyter": {
          "source_hidden": true
        },
        "orderProperties": [],
        "tags": [
          "unSkript:nbParam"
        ],
        "title": "unSkript Internal"
      },
      "outputs": [],
      "source": [
        "import json\n",
        "from unskript import nbparams\n",
        "from unskript.fwk.workflow import Task, Workflow\n",
        "from unskript.secrets import ENV_MODE, ENV_MODE_LOCAL\n",
        "\n",
        "env = {\"ENV_MODE\": \"ENV_MODE_LOCAL\"}\n",
        "secret_store_cfg = {\"SECRET_STORE_TYPE\": \"SECRET_STORE_TYPE_LOCAL\"}\n",
        "\n",
        "paramDict = {\"cluster_name\": \"kjsbfkjwe\", \"namespace\": \"dg-ops\", \"region\": \"us-west-2\"}\n",
        "unSkriptOutputParamDict = {}\n",
        "paramDict.update(env)\n",
        "paramDict.update(secret_store_cfg)\n",
        "paramsJson = json.dumps(paramDict)\n",
        "nbParamsObj = nbparams.NBParams(paramsJson)\n",
        "cluster_name = nbParamsObj.get('cluster_name')\n",
        "namespace = nbParamsObj.get('namespace')\n",
        "region = nbParamsObj.get('region')\n",
        "w = Workflow(env, secret_store_cfg, None, global_vars=globals())"
      ]
    },
    {
      "cell_type": "markdown",
      "id": "dca89b09-3f68-459f-929b-9c9c4b33d51b",
      "metadata": {
        "jupyter": {
          "source_hidden": false
        },
        "name": "Overview",
        "orderProperties": [],
        "tags": [],
        "title": "Overview"
      },
      "source": [
        "<center><img src=\"https://unskript.com/assets/favicon.png\" alt=\"unSkript.com\" width=\"100\" height=\"100\">\n",
        "<h1 id=\"unSkript-Runbooks\">unSkript Runbooks</h1>\n",
        "<div class=\"alert alert-block alert-success\">\n",
        "<h3 id=\"Objective\">Objective</h3>\n",
        "<br><strong>Rebuild a HA Cloud backend using an existing 'p' directory</strong></div>\n",
        "</center>\n",
        "<p>&nbsp;</p>\n",
        "<p>&nbsp;</p>\n",
        "<h2>Runbook Scenarios</h2>\n",
        "<blockquote>\n",
        "<p>These are the scenarios where this Runbook could be useful.</p>\n",
        "</blockquote>\n",
        "<ol>\n",
        "<li>When more than 2 alpha nodes are down due to any error condition - <span style=\"color: rgb(224, 62, 45);\">OOM, Log Compact</span> or any other <span style=\"color: rgb(224, 62, 45);\">error condition</span></li>\n",
        "<li>Data corruption on 2 alpha nodes</li>\n",
        "<li>Manually performing a copy/clone operation between clusters</li>\n",
        "<li>Data corruption on a non-HA cluster, where a 'p' directory is newer or better than any available backup</li>\n",
        "<li>Copying data to new cluster for testing or root cause analysis</li>\n",
        "</ol>"
      ]
    },
    {
      "cell_type": "markdown",
      "id": "bb9464d1-000f-45e9-b5cc-505fe472f95b",
      "metadata": {
        "jupyter": {
          "source_hidden": false
        },
        "name": "Steps Overview",
        "orderProperties": [],
        "tags": [],
        "title": "Steps Overview"
      },
      "source": [
        "<h2 id=\"Steps-Overview\">Steps Overview<a class=\"jp-InternalAnchorLink\" href=\"#Steps-Overview\" target=\"_self\">&para;</a></h2>\n",
        "<ol>\n",
        "<li><a href=\"#Step-1\" target=\"_self\" rel=\"noopener\">Set EKS Context</a></li>\n",
        "<li><a href=\"#Step-2\" target=\"_self\" rel=\"noopener\">Get Pods in the Given Namespace</a></li>\n",
        "<li><a href=\"#Step-3\" target=\"_self\" rel=\"noopener\">Get the max values from Zero Node</a></li>\n",
        "<li><a href=\"#Step-4\" target=\"_self\" rel=\"noopener\">Setting up alpha nodes with the right data in 'p' directories</a></li>\n",
        "<li><a href=\"#Step-5\" target=\"_self\" rel=\"noopener\">Cleanup all Zero pods on Current Cluster</a></li>\n",
        "<li><a href=\"#Step-6\" target=\"_self\" rel=\"noopener\">Scale down Alpha group to 0 replicas on active cluster</a></li>\n",
        "<li><a href=\"#Step-7\">Delete PVCs for non-leader alphas</a></li>\n",
        "<li><a href=\"#Step-8\">Scale down Zero group to 0 replicas on active cluster</a></li>\n",
        "<li><a href=\"#Step-9\">Scale up Zero group to 3 replicas on target namespace</a></li>\n",
        "<li><a href=\"#Step-10\">Assign UID, Transaction TS and Namespace IDs to Target Zero leader</a></li>\n",
        "<li><a href=\"#Step-11\">Scale the Alpha group up to just 1 replica. Alpha-0 should start up </a></li>\n",
        "<li><a href=\"#Step-11\" target=\"_self\" rel=\"noopener\">Wait for schema to lazy-load on Alpha-0 </a></li>\n",
        "<li><a href=\"#Step-12\" target=\"_self\" rel=\"noopener\">Wait for Alpha-0 to create a snapshot</a></li>\n",
        "<li><a href=\"#Step-13\" target=\"_self\" rel=\"noopener\">Scale up Alpha group to 2 replicas for Alpha-1 to start-up</a></li>\n",
        "<li><a href=\"#Step-14\" target=\"_self\" rel=\"noopener\">Verify that Alpha-1 is healthy </a></li>\n",
        "<li><a href=\"#Step-15\" target=\"_self\" rel=\"noopener\">Finally, Scale the Alpha group to 3 replicas </a></li>\n",
        "<li><a href=\"#Step-16\" target=\"_self\" rel=\"noopener\">Replicate Step-14 to confirm Snapshot stream to Alpha-2 was successful </a></li>\n",
        "<li><a href=\"#Step-17\" target=\"_self\" rel=\"noopener\">Post Recovery Verification Steps</a></li>\n",
        "</ol>\n",
        "<p>&nbsp;</p>\n",
        "<p>You can use these hyper-links to nagivate to the section of the runbook.&nbsp;</p>"
      ]
    },
    {
      "cell_type": "markdown",
      "id": "cea8ec1b-09e8-4845-a902-963c854f60a3",
      "metadata": {
        "jupyter": {
          "source_hidden": false
        },
        "name": "Step-1",
        "orderProperties": [],
        "tags": [],
        "title": "Step-1"
      },
      "source": [
        "<h3><a id=\"Step-1\" target=\"_self\" rel=\"nofollow\"></a>Set kubernetes context to the EKS Cluster which has the faulty backend</h3>\n",
        "<div class=\"page\" title=\"Page 1\">\n",
        "<div class=\"section\">\n",
        "<div class=\"layoutArea\">\n",
        "<div class=\"column\">&nbsp;</div>\n",
        "</div>\n",
        "</div>\n",
        "</div>\n",
        "<blockquote>\n",
        "<div class=\"page\" title=\"Page 1\">\n",
        "<div class=\"section\">\n",
        "<div class=\"layoutArea\">\n",
        "<div class=\"column\">\n",
        "<p>&nbsp;</p>\n",
        "</div>\n",
        "</div>\n",
        "<div class=\"section\">\n",
        "<div class=\"layoutArea\">\n",
        "<div class=\"column\">\n",
        "<pre>aws  eks update-kubeconfig --name &lt;EKS-cluster-name&gt; --region &lt;Region-\n",
        "Name&gt;\n",
        "</pre>\n",
        "</div>\n",
        "</div>\n",
        "</div>\n",
        "<div class=\"section\">\n",
        "<div class=\"layoutArea\">\n",
        "<div class=\"column\">\n",
        "<pre><strong><span style=\"background-color: rgb(241, 196, 15); color: rgb(0, 0, 0);\">Example for us-east-1:</span></strong><br><br>aws  eks update-kubeconfig --name us-east-1-prod-gaas-regional-eks --\n",
        "region us-east-1\n",
        "</pre>\n",
        "</div>\n",
        "</div>\n",
        "</div>\n",
        "</div>\n",
        "</div>\n",
        "</blockquote>"
      ]
    },
    {
      "cell_type": "code",
      "execution_count": null,
      "id": "26e90b51-01d2-4610-8686-73c850e7fd6b",
      "metadata": {
        "accessType": "ACCESS_TYPE_UNSPECIFIED",
        "actionBashCommand": false,
        "actionNeedsCredential": true,
        "actionRequiredLinesInCode": [],
        "actionSupportsIteration": true,
        "actionSupportsPoll": true,
        "action_modified": false,
        "action_uuid": "1db371aff42291641eb6ba83d7acc3fe28e2468d83be1552e8258dc878c0f70d",
        "continueOnError": false,
        "createTime": "1970-01-01T00:00:00Z",
        "credentialsJson": {
          "credential_id": "ee29f14b-31a6-44ed-b304-22f820cd1265",
          "credential_name": "awscreds",
          "credential_type": "CONNECTOR_TYPE_AWS"
        },
        "currentVersion": "0.1.0",
        "description": "Execute command using AWS CLI",
        "execution_data": {
          "last_date_success_run_cell": "2023-01-26T17:15:52.552Z"
        },
        "id": 204,
        "index": 204,
        "inputData": [
          {
            "aws_command": {
              "constant": false,
              "value": "f\"aws eks update-kubeconfig --name {cluster_name} --region {region}\""
            }
          }
        ],
        "inputschema": [
          {
            "properties": {
              "aws_command": {
                "description": "AWS Command eg \"aws ec2 describe-instances\"",
                "title": "AWS Command",
                "type": "string"
              }
            },
            "required": [
              "aws_command"
            ],
            "title": "aws_execute_cli_command",
            "type": "object"
          }
        ],
        "jupyter": {
          "source_hidden": true
        },
        "legotype": "LEGO_TYPE_AWS",
        "name": "Set Source AWS EKS Context",
        "nouns": [],
        "orderProperties": [
          "aws_command"
        ],
        "output": {
          "type": ""
        },
        "printOutput": true,
        "tags": [
          "aws_execute_cli_command"
        ],
        "title": "Set Source AWS EKS Context",
        "verbs": []
      },
      "outputs": [],
      "source": [
        "#\n",
        "# Copyright (c) 2021 unSkript.com\n",
        "# All rights reserved.\n",
        "#\n",
        "\n",
        "from pydantic import BaseModel, Field\n",
        "import pprint\n",
        "\n",
        "\n",
        "from beartype import beartype\n",
        "@beartype\n",
        "def aws_execute_cli_command_printer(output):\n",
        "    if output is None:\n",
        "        return\n",
        "    pprint.pprint(output)\n",
        "\n",
        "\n",
        "@beartype\n",
        "def aws_execute_cli_command(handle, aws_command: str) -> str:\n",
        "\n",
        "    result = handle.aws_cli_command(aws_command)\n",
        "    if result is None or result.returncode != 0:\n",
        "        print(\n",
        "            f\"Error while executing command ({aws_command}): {result}\")\n",
        "        return str()\n",
        "\n",
        "    return result.stdout\n",
        "\n",
        "\n",
        "task = Task(Workflow())\n",
        "task.configure(credentialsJson='''{\n",
        "    \"credential_name\": \"awscreds\",\n",
        "    \"credential_type\": \"CONNECTOR_TYPE_AWS\",\n",
        "    \"credential_id\": \"ee29f14b-31a6-44ed-b304-22f820cd1265\"\n",
        "}''')\n",
        "task.configure(inputParamsJson='''{\n",
        "    \"aws_command\": \"f\\\\\"aws eks update-kubeconfig --name {cluster_name} --region {region}\\\\\"\"\n",
        "    }''')\n",
        "task.configure(printOutput=True)\n",
        "(err, hdl, args) = task.validate(vars=vars())\n",
        "if err is None:\n",
        "    task.execute(aws_execute_cli_command, lego_printer=aws_execute_cli_command_printer, hdl=hdl, args=args)"
      ]
    },
    {
      "cell_type": "markdown",
      "id": "5b0bc826-cab0-4639-b619-73960033cafd",
      "metadata": {
        "jupyter": {
          "source_hidden": false
        },
        "name": "Step-2",
        "orderProperties": [],
        "tags": [],
        "title": "Step-2"
      },
      "source": [
        "<h2 id=\"Get-All-Pods-belonging-to-the-Namespace\"><a id=\"Step-2\" target=\"_self\" rel=\"nofollow\"></a>Get All Pods belonging to the Namespace</h2>\n",
        "<p>&nbsp;</p>\n",
        "<blockquote>\n",
        "<p>kubectl get pods -n &lt;namespace&gt;</p>\n",
        "</blockquote>\n",
        "<p>&nbsp;</p>\n",
        "<p>Next, Find the leader Node from the Pods&nbsp;</p>\n",
        "<p>&nbsp;</p>\n",
        "<blockquote>\n",
        "<div class=\"page\" title=\"Page 1\">\n",
        "<div class=\"section\">\n",
        "<div class=\"layoutArea\">\n",
        "<div class=\"column\">\n",
        "<pre>kubectl exec -it zerostatefulset-0 -n &lt;namespace&gt; -- /bin/sh\n",
        "curl -s localhost:6080/state | jq '{alphas: .groups.\"1\".members[]|select\n",
        "(.leader==true), zeros: .zeros[]|select(.leader==true)}'\n",
        "</pre>\n",
        "</div>\n",
        "</div>\n",
        "</div>\n",
        "</div>\n",
        "</blockquote>"
      ]
    },
    {
      "cell_type": "code",
      "execution_count": 109,
      "id": "34cb8cb6-b8dc-4789-8201-0678dba2c3e8",
      "metadata": {
        "accessType": "ACCESS_TYPE_UNSPECIFIED",
        "actionBashCommand": false,
        "actionNeedsCredential": true,
        "actionRequiredLinesInCode": [],
        "actionSupportsIteration": true,
        "actionSupportsPoll": true,
        "action_modified": false,
        "action_uuid": "4d3b4c6153e14622f42b332b7c7b8f7043577971f64edc5be6b5f8b40d5b89d1",
        "continueOnError": false,
        "createTime": "1970-01-01T00:00:00Z",
        "credentialsJson": {
          "credential_id": "16972f66-a07a-4730-93fb-3d35250c4fc5",
          "credential_name": "k8sss",
          "credential_type": "CONNECTOR_TYPE_K8S"
        },
        "currentVersion": "0.1.0",
        "description": "Execute the given Kubectl command.",
        "execution_data": {
          "last_date_success_run_cell": "2023-09-01T17:35:35.042Z"
        },
        "id": 51,
        "index": 51,
        "inputData": [
          {
            "kubectl_command": {
              "constant": false,
              "value": "f\"kubectl get pods -n {namespace} |  cut -d' ' -f 1\""
            }
          }
        ],
        "inputschema": [
          {
            "properties": {
              "kubectl_command": {
                "description": "kubectl command eg \"kubectl get pods --all-namespaces\"",
                "title": "Kubectl Command",
                "type": "string"
              }
            },
            "required": [
              "kubectl_command"
            ],
            "title": "k8s_kubectl_command",
            "type": "object"
          }
        ],
        "jupyter": {
          "source_hidden": true
        },
        "legotype": "LEGO_TYPE_K8S",
        "name": "Get All Pods In the Namespace",
        "nouns": [],
        "orderProperties": [
          "kubectl_command"
        ],
        "output": {
          "type": ""
        },
        "outputParams": {
          "output_name": "all_pods",
          "output_name_enabled": true
        },
        "printOutput": true,
        "tags": [
          "k8s_kubectl_command"
        ],
        "title": "Get All Pods In the Namespace",
        "verbs": []
      },
      "outputs": [
        {
          "name": "stdout",
          "output_type": "stream",
          "text": [
            "NAME\n",
            "bulk01-dgraph-alpha-0\n",
            "bulk01-dgraph-alpha-1\n",
            "bulk01-dgraph-alpha-2\n",
            "bulk01-dgraph-zero-0\n",
            "bulk01-dgraph-zero-1\n",
            "bulk01-dgraph-zero-2\n",
            "\n"
          ]
        }
      ],
      "source": [
        "#\n",
        "# Copyright (c) 2022 unSkript.com\n",
        "# All rights reserved.\n",
        "#\n",
        "\n",
        "from pydantic import BaseModel, Field\n",
        "\n",
        "\n",
        "from beartype import beartype\n",
        "@beartype\n",
        "def k8s_kubectl_command_printer(output):\n",
        "    if output is None:\n",
        "        return\n",
        "    print(output)\n",
        "\n",
        "\n",
        "@beartype\n",
        "def k8s_kubectl_command(handle, kubectl_command: str) -> str:\n",
        "    \"\"\"k8s_kubectl_command executes the given kubectl command on the pod\n",
        "\n",
        "        :type handle: object\n",
        "        :param handle: Object returned from the Task validate method\n",
        "\n",
        "        :type kubectl_command: str\n",
        "        :param kubectl_command: The Actual kubectl command, like kubectl get ns, etc..\n",
        "\n",
        "        :rtype: String, Output of the command in python string format or Empty String in case of Error.\n",
        "    \"\"\"\n",
        "    if handle.client_side_validation != True:\n",
        "        print(f\"K8S Connector is invalid: {handle}\")\n",
        "        return str()\n",
        "\n",
        "\n",
        "    result = handle.run_native_cmd(kubectl_command)\n",
        "    if result is None or hasattr(result, \"stderr\") is False or result.stderr is None:\n",
        "        print(\n",
        "            f\"Error while executing command ({kubectl_command}): {result.stderr}\")\n",
        "        return str()\n",
        "\n",
        "    return result.stdout\n",
        "\n",
        "\n",
        "task = Task(Workflow())\n",
        "task.configure(credentialsJson='''{\n",
        "    \"credential_name\": \"k8sss\",\n",
        "    \"credential_type\": \"CONNECTOR_TYPE_K8S\",\n",
        "    \"credential_id\": \"16972f66-a07a-4730-93fb-3d35250c4fc5\"\n",
        "}''')\n",
        "task.configure(inputParamsJson='''{\n",
        "    \"kubectl_command\": \"f\\\\\"kubectl get pods -n {namespace} |  cut -d' ' -f 1\\\\\"\"\n",
        "    }''')\n",
        "task.configure(outputName=\"all_pods\")\n",
        "task.configure(printOutput=True)\n",
        "(err, hdl, args) = task.validate(vars=vars())\n",
        "if err is None:\n",
        "    task.execute(k8s_kubectl_command, lego_printer=k8s_kubectl_command_printer, hdl=hdl, args=args)"
      ]
    },
    {
      "cell_type": "code",
      "execution_count": 110,
      "id": "cc7ea036-69ff-4bad-ae49-1bfe5dde4558",
      "metadata": {
        "customAction": true,
        "execution_data": {
          "last_date_success_run_cell": "2023-09-01T17:35:36.583Z"
        },
        "jupyter": {
          "source_hidden": true
        },
        "name": "JQ Commands",
        "orderProperties": [],
        "tags": [],
        "title": "JQ Commands"
      },
      "outputs": [
        {
          "name": "stdout",
          "output_type": "stream",
          "text": [
            "bulk01-dgraph-zero-0\n"
          ]
        }
      ],
      "source": [
        "zero_pod_name = '' # noqa\n",
        "for pod in all_pods.split('\\n'):\n",
        "    if pod.find(\"zero\") != -1:\n",
        "        # Search the first Zero'th Pod and store it for further use\n",
        "        zero_pod_name = pod\n",
        "        break\n",
        "\n",
        "# zero_pod_name = [x for x in pods if \"zero\" in x]\n",
        "print(zero_pod_name)\n",
        "\n",
        "\n",
        "jq_leader_cmd = ''' \n",
        "/bin/bash -c \"curl -s localhost:6080/state | /usr/bin/jq '{alphas: .groups.\\\\\"1\\\\\".members[]|select(.leader==true), zeros: .zeros[]|select(.leader==true)}'\"\n",
        "'''  # noqa\n",
        "jq_max_cmd = '''\n",
        "/bin/bash -c \"curl -s localhost:6080/state | /usr/bin/jq | grep '\\\\\"max'\"\n",
        "'''  # noqa\n"
      ]
    },
    {
      "cell_type": "code",
      "execution_count": 113,
      "id": "afc41eb3-e2e3-4428-afc7-9980f9b90a08",
      "metadata": {
        "accessType": "ACCESS_TYPE_UNSPECIFIED",
        "actionBashCommand": false,
        "actionNeedsCredential": true,
        "actionRequiredLinesInCode": [],
        "actionSupportsIteration": true,
        "actionSupportsPoll": true,
        "action_modified": false,
        "action_uuid": "4d3b4c6153e14622f42b332b7c7b8f7043577971f64edc5be6b5f8b40d5b89d1",
        "continueOnError": false,
        "createTime": "1970-01-01T00:00:00Z",
        "credentialsJson": {
          "credential_id": "16972f66-a07a-4730-93fb-3d35250c4fc5",
          "credential_name": "k8sss",
          "credential_type": "CONNECTOR_TYPE_K8S"
        },
        "currentVersion": "0.1.0",
        "description": "Execute the given Kubectl command.",
        "execution_data": {
          "last_date_success_run_cell": "2023-09-01T17:38:03.898Z"
        },
        "id": 51,
        "index": 51,
        "inputData": [
          {
            "kubectl_command": {
              "constant": false,
              "value": "f\"kubectl exec {zero_pod_name} -n {namespace} -- {jq_leader_cmd.strip()}\""
            }
          }
        ],
        "inputschema": [
          {
            "properties": {
              "kubectl_command": {
                "description": "kubectl command eg \"kubectl get pods --all-namespaces\"",
                "title": "Kubectl Command",
                "type": "string"
              }
            },
            "required": [
              "kubectl_command"
            ],
            "title": "k8s_kubectl_command",
            "type": "object"
          }
        ],
        "jupyter": {
          "source_hidden": true
        },
        "legotype": "LEGO_TYPE_K8S",
        "name": "Find the leader Alpha & Zero nodes",
        "nouns": [],
        "orderProperties": [
          "kubectl_command"
        ],
        "output": {
          "type": ""
        },
        "outputParams": {
          "output_name": "json_leader_output",
          "output_name_enabled": true
        },
        "printOutput": true,
        "tags": [
          "k8s_kubectl_command"
        ],
        "title": "Find the leader Alpha & Zero nodes",
        "verbs": []
      },
      "outputs": [
        {
          "name": "stdout",
          "output_type": "stream",
          "text": [
            "{\n",
            "  \"alphas\": {\n",
            "    \"id\": \"1\",\n",
            "    \"groupId\": 1,\n",
            "    \"addr\": \"bulk01-dgraph-alpha-0.bulk01-dgraph-alpha-headless.dg-ops.svc.cluster.local:7080\",\n",
            "    \"leader\": true,\n",
            "    \"amDead\": false,\n",
            "    \"lastUpdate\": \"1693566231\",\n",
            "    \"learner\": false,\n",
            "    \"clusterInfoOnly\": false,\n",
            "    \"forceGroupId\": false\n",
            "  },\n",
            "  \"zeros\": {\n",
            "    \"id\": \"1\",\n",
            "    \"groupId\": 0,\n",
            "    \"addr\": \"bulk01-dgraph-zero-0.bulk01-dgraph-zero-headless.dg-ops.svc.cluster.local:5080\",\n",
            "    \"leader\": true,\n",
            "    \"amDead\": false,\n",
            "    \"lastUpdate\": \"0\",\n",
            "    \"learner\": false,\n",
            "    \"clusterInfoOnly\": false,\n",
            "    \"forceGroupId\": false\n",
            "  }\n",
            "}\n",
            "\n"
          ]
        }
      ],
      "source": [
        "#\n",
        "# Copyright (c) 2022 unSkript.com\n",
        "# All rights reserved.\n",
        "#\n",
        "\n",
        "from pydantic import BaseModel, Field\n",
        "\n",
        "\n",
        "from beartype import beartype\n",
        "@beartype\n",
        "def k8s_kubectl_command_printer(output):\n",
        "    if output is None:\n",
        "        return\n",
        "    print(output)\n",
        "\n",
        "\n",
        "@beartype\n",
        "def k8s_kubectl_command(handle, kubectl_command: str) -> str:\n",
        "    \"\"\"k8s_kubectl_command executes the given kubectl command on the pod\n",
        "\n",
        "        :type handle: object\n",
        "        :param handle: Object returned from the Task validate method\n",
        "\n",
        "        :type kubectl_command: str\n",
        "        :param kubectl_command: The Actual kubectl command, like kubectl get ns, etc..\n",
        "\n",
        "        :rtype: String, Output of the command in python string format or Empty String in case of Error.\n",
        "    \"\"\"\n",
        "    if handle.client_side_validation != True:\n",
        "        print(f\"K8S Connector is invalid: {handle}\")\n",
        "        return str()\n",
        "\n",
        "    result = handle.run_native_cmd(kubectl_command)\n",
        "    if result is None or hasattr(result, \"stderr\") is False or result.stderr is None:\n",
        "        print(\n",
        "            f\"Error while executing command ({kubectl_command}): {result.stderr}\")\n",
        "        return str()\n",
        "\n",
        "    return result.stdout\n",
        "\n",
        "\n",
        "task = Task(Workflow())\n",
        "task.configure(credentialsJson='''{\n",
        "    \"credential_name\": \"k8sss\",\n",
        "    \"credential_type\": \"CONNECTOR_TYPE_K8S\",\n",
        "    \"credential_id\": \"16972f66-a07a-4730-93fb-3d35250c4fc5\"\n",
        "}''')\n",
        "task.configure(inputParamsJson='''{\n",
        "    \"kubectl_command\": \"f\\\\\"kubectl exec {zero_pod_name} -n {namespace} -- {jq_leader_cmd.strip()}\\\\\"\"\n",
        "    }''')\n",
        "task.configure(outputName=\"json_leader_output\")\n",
        "task.configure(printOutput=True)\n",
        "(err, hdl, args) = task.validate(vars=vars())\n",
        "if err is None:\n",
        "    task.execute(k8s_kubectl_command, lego_printer=k8s_kubectl_command_printer, hdl=hdl, args=args)"
      ]
    },
    {
      "cell_type": "code",
      "execution_count": 114,
      "id": "d993afdc-408e-41da-85eb-bba4bd2dd421",
      "metadata": {
        "customAction": true,
        "execution_data": {
          "last_date_success_run_cell": "2023-09-01T17:38:06.873Z"
        },
        "jupyter": {
          "source_hidden": true
        },
        "name": "Parse Leaders",
        "orderProperties": [],
        "tags": [],
        "title": "Parse Leaders"
      },
      "outputs": [
        {
          "name": "stdout",
          "output_type": "stream",
          "text": [
            "Alpha Leader Node:  bulk01-dgraph-alpha-0\n",
            "    Non Leader Alpha Nodes:  ['bulk01-dgraph-alpha-1', 'bulk01-dgraph-alpha-2']\n",
            "Zero Leader Node: bulk01-dgraph-zero-0\n",
            "    Non Leader Zero Nodes:  ['bulk01-dgraph-zero-1', 'bulk01-dgraph-zero-2']\n"
          ]
        }
      ],
      "source": [
        "import json\n",
        "try:\n",
        "    alpha_leader_node = json.loads(json_leader_output).get('alphas').get('addr').split('.')[0]\n",
        "    zero_leader_node = json.loads(json_leader_output).get('zeros').get('addr').split('.')[0]\n",
        "except Exception as e:\n",
        "    print(\"ERROR: Extracting Zero and Alpha leader node Addr\", e)\n",
        "\n",
        "non_alpha_leader_nodes = []\n",
        "non_zero_leader_nodes = []\n",
        "all_alpha_nodes = []\n",
        "all_zero_nodes = []\n",
        "\n",
        "for pod in all_pods.split('\\n'):\n",
        "    if pod.find('alpha') != -1:\n",
        "        if pod.strip() != alpha_leader_node.strip():\n",
        "            non_alpha_leader_nodes.append(pod.strip())\n",
        "    elif pod.find('zero') != -1:\n",
        "        if pod.strip() != zero_leader_node.strip():\n",
        "            non_zero_leader_nodes.append(pod.strip())\n",
        "\n",
        "print(\"Alpha Leader Node: \", alpha_leader_node)\n",
        "print(\"    Non Leader Alpha Nodes: \", non_alpha_leader_nodes)\n",
        "print(\"Zero Leader Node:\", zero_leader_node)\n",
        "print(\"    Non Leader Zero Nodes: \", non_zero_leader_nodes)\n",
        "\n",
        "# This would be needed for Step-4\n",
        "all_alpha_nodes.append(alpha_leader_node)\n",
        "for n in non_alpha_leader_nodes:\n",
        "    all_alpha_nodes.append(n)\n",
        "all_zero_nodes.append(zero_leader_node)\n",
        "for n in non_zero_leader_nodes:\n",
        "    all_zero_nodes.append(n)"
      ]
    },
    {
      "cell_type": "markdown",
      "id": "660c3e65-4a85-4566-8696-8e01bd8c3dee",
      "metadata": {
        "jupyter": {
          "source_hidden": false
        },
        "name": "Step-3",
        "orderProperties": [],
        "tags": [],
        "title": "Step-3"
      },
      "source": [
        "<h2 id=\"Get-the-max-values-from-the-Zero-node---(maxUID,-maxTxnTs-and-maxNsID)-and-save-these-to-be-used-later\"><a id=\"Step-3\" target=\"_self\" rel=\"nofollow\"></a>Get the max values from the Zero node - (maxUID, maxTxnTs and maxNsID) and save these to be used later</h2>\n",
        "<div class=\"page\" title=\"Page 1\">\n",
        "<div class=\"section\">\n",
        "<div class=\"layoutArea\">\n",
        "<div class=\"column\">\n",
        "<pre style=\"padding-left: 40px;\">kubectl exec -it zerostatefulset-0 -n &lt;namespace&gt; -- /bin/sh curl -s localhost:6080/state | jq | grep '\"max'\n",
        "</pre>\n",
        "<pre style=\"padding-left: 40px;\">##Should return max values like the example below\n",
        "\"maxUID\": \"669546334271\",\n",
        "\"maxTxnTs\": \"41060000\",\n",
        "\"maxNsID\": \"41061000\"\n",
        "</pre>\n",
        "</div>\n",
        "</div>\n",
        "</div>\n",
        "</div>"
      ]
    },
    {
      "cell_type": "code",
      "execution_count": 115,
      "id": "0c9ae703-ce3a-44af-b6f1-35f22d54c6b1",
      "metadata": {
        "accessType": "ACCESS_TYPE_UNSPECIFIED",
        "actionBashCommand": false,
        "actionNeedsCredential": true,
        "actionRequiredLinesInCode": [],
        "actionSupportsIteration": true,
        "actionSupportsPoll": true,
        "action_modified": false,
        "action_uuid": "4d3b4c6153e14622f42b332b7c7b8f7043577971f64edc5be6b5f8b40d5b89d1",
        "continueOnError": false,
        "createTime": "1970-01-01T00:00:00Z",
        "credentialsJson": {
          "credential_id": "16972f66-a07a-4730-93fb-3d35250c4fc5",
          "credential_name": "k8sss",
          "credential_type": "CONNECTOR_TYPE_K8S"
        },
        "currentVersion": "0.1.0",
        "description": "Execute the given Kubectl command.",
        "execution_data": {
          "last_date_success_run_cell": "2023-09-01T17:38:12.208Z"
        },
        "id": 51,
        "index": 51,
        "inputData": [
          {
            "kubectl_command": {
              "constant": false,
              "value": "f\"kubectl exec {zero_leader_node} -n {namespace} -- {jq_max_cmd.strip()}\""
            }
          }
        ],
        "inputschema": [
          {
            "properties": {
              "kubectl_command": {
                "description": "kubectl command eg \"kubectl get pods --all-namespaces\"",
                "title": "Kubectl Command",
                "type": "string"
              }
            },
            "required": [
              "kubectl_command"
            ],
            "title": "k8s_kubectl_command",
            "type": "object"
          }
        ],
        "jupyter": {
          "source_hidden": true
        },
        "legotype": "LEGO_TYPE_K8S",
        "name": "Get Max values from the Zero Node",
        "nouns": [],
        "orderProperties": [
          "kubectl_command"
        ],
        "output": {
          "type": ""
        },
        "outputParams": {
          "output_name": "jq_max_output",
          "output_name_enabled": true
        },
        "printOutput": true,
        "tags": [
          "k8s_kubectl_command"
        ],
        "title": "Get Max values from the Zero Node",
        "verbs": []
      },
      "outputs": [
        {
          "name": "stdout",
          "output_type": "stream",
          "text": [
            "  \"maxUID\": \"9800000\",\n",
            "  \"maxTxnTs\": \"390000\",\n",
            "  \"maxNsID\": \"0\",\n",
            "  \"maxRaftId\": \"3\",\n",
            "    \"maxNodes\": \"18446744073709551615\",\n",
            "\n"
          ]
        }
      ],
      "source": [
        "#\n",
        "# Copyright (c) 2022 unSkript.com\n",
        "# All rights reserved.\n",
        "#\n",
        "\n",
        "from pydantic import BaseModel, Field\n",
        "\n",
        "\n",
        "from beartype import beartype\n",
        "@beartype\n",
        "def k8s_kubectl_command_printer(output):\n",
        "    if output is None:\n",
        "        return\n",
        "    print(output)\n",
        "\n",
        "\n",
        "@beartype\n",
        "def k8s_kubectl_command(handle, kubectl_command: str) -> str:\n",
        "    \"\"\"k8s_kubectl_command executes the given kubectl command on the pod\n",
        "\n",
        "        :type handle: object\n",
        "        :param handle: Object returned from the Task validate method\n",
        "\n",
        "        :type kubectl_command: str\n",
        "        :param kubectl_command: The Actual kubectl command, like kubectl get ns, etc..\n",
        "\n",
        "        :rtype: String, Output of the command in python string format or Empty String in case of Error.\n",
        "    \"\"\"\n",
        "    if handle.client_side_validation != True:\n",
        "        print(f\"K8S Connector is invalid: {handle}\")\n",
        "        return str()\n",
        "\n",
        "    result = handle.run_native_cmd(kubectl_command)\n",
        "    if result is None or hasattr(result, \"stderr\") is False or result.stderr is None:\n",
        "        print(\n",
        "            f\"Error while executing command ({kubectl_command}): {result.stderr}\")\n",
        "        return str()\n",
        "\n",
        "    return result.stdout\n",
        "\n",
        "\n",
        "task = Task(Workflow())\n",
        "task.configure(credentialsJson='''{\n",
        "    \"credential_name\": \"k8sss\",\n",
        "    \"credential_type\": \"CONNECTOR_TYPE_K8S\",\n",
        "    \"credential_id\": \"16972f66-a07a-4730-93fb-3d35250c4fc5\"\n",
        "}''')\n",
        "task.configure(inputParamsJson='''{\n",
        "    \"kubectl_command\": \"f\\\\\"kubectl exec {zero_leader_node} -n {namespace} -- {jq_max_cmd.strip()}\\\\\"\"\n",
        "    }''')\n",
        "task.configure(outputName=\"jq_max_output\")\n",
        "task.configure(printOutput=True)\n",
        "(err, hdl, args) = task.validate(vars=vars())\n",
        "if err is None:\n",
        "    task.execute(k8s_kubectl_command, lego_printer=k8s_kubectl_command_printer, hdl=hdl, args=args)"
      ]
    },
    {
      "cell_type": "code",
      "execution_count": 116,
      "id": "f1087719-e849-448e-b8fd-15e6bb7f2225",
      "metadata": {
        "customAction": true,
        "execution_data": {
          "last_date_success_run_cell": "2023-09-01T17:38:14.416Z"
        },
        "jupyter": {
          "source_hidden": true
        },
        "name": "Parse Max Values",
        "orderProperties": [],
        "tags": [],
        "title": "Parse Max Values"
      },
      "outputs": [
        {
          "name": "stdout",
          "output_type": "stream",
          "text": [
            "MaxUID: 9800000\n",
            "MaxTxnTs: 390000\n",
            "MaxNsID: 0\n"
          ]
        }
      ],
      "source": [
        "import json\n",
        "\n",
        "jq_max_result = {}\n",
        "for line in jq_max_output.split('\\n'):\n",
        "    line = line.strip()\n",
        "    k = line.split(':')[0]\n",
        "    v = line.split(':')[-1]\n",
        "    k = str(k).strip()\n",
        "    v = str(v).strip('\"')\n",
        "    jq_max_result[k.strip('\"')] = str(v.strip('\"').strip(',')).strip(' ').strip('\"')\n",
        "\n",
        "try:\n",
        "    max_uid=jq_max_result.get('maxUID')\n",
        "    max_ts=jq_max_result.get('maxTxnTs')\n",
        "    max_nsid=jq_max_result.get('maxNsID')\n",
        "except Exception as e:\n",
        "    print(\"ERROR: Cannot parse MaxUID / MaxTS/ MaxNSID\", e)\n",
        "    \n",
        "print(\"MaxUID:\", max_uid)\n",
        "print(\"MaxTxnTs:\", max_ts)\n",
        "print(\"MaxNsID:\", max_nsid)"
      ]
    },
    {
      "cell_type": "markdown",
      "id": "0aec92f8-b183-4efb-824f-09c864fb2bc6",
      "metadata": {
        "jupyter": {
          "source_hidden": false
        },
        "name": "Step-4",
        "orderProperties": [],
        "tags": [],
        "title": "Step-4"
      },
      "source": [
        "<h2 id=\"Setting-up-alpha-nodes-with-the-right-data-in-'p'-directories\"><a id=\"Step-4\" target=\"_self\" rel=\"nofollow\"></a>Setting up alpha nodes with the right data in 'p' directories</h2>\n",
        "<blockquote>\n",
        "<div class=\"page\" title=\"Page 1\">\n",
        "<div class=\"section\">\n",
        "<div class=\"layoutArea\">\n",
        "<div class=\"column\">\n",
        "<p>- If Alpha-0 and Zero-0 are the leaders (from Step 2)</p>\n",
        "<ul>\n",
        "<li>Rename the &lsquo;w&rsquo; and &lsquo;t&rsquo; directories on all Alphas and rename the &lsquo;p&rsquo; directories on just Alpha-1 and Alpha-2</li>\n",
        "<li>Retain the &lsquo;p&rsquo; directory on Alpha-0 - This data is retained to rebuild the cluster</li>\n",
        "</ul>\n",
        "<p>- If Alpha-0 is not a leader</p>\n",
        "<ul>\n",
        "<li>Copy the &lsquo;p&rsquo; directory from good alpha to alpha-0.</li>\n",
        "</ul>\n",
        "</div>\n",
        "</div>\n",
        "<div class=\"layoutArea\">\n",
        "<div class=\"column\">\n",
        "<ul>\n",
        "<li style=\"list-style-type: none;\">\n",
        "<ul>\n",
        "<li>This can be done using kubectl copy</li>\n",
        "</ul>\n",
        "</li>\n",
        "</ul>\n",
        "</div>\n",
        "</div>\n",
        "</div>\n",
        "</div>\n",
        "<div class=\"page\" title=\"Page 2\">\n",
        "<div class=\"layoutArea\">\n",
        "<div class=\"column\">\n",
        "<ul>\n",
        "<li style=\"list-style-type: none;\">\n",
        "<ul>\n",
        "<li>The good p dir has to be copied first to a local folder and then copied over to the alpha-0. NOTE: Bring up an EC2 instance in the&nbsp;same region as the cluster. The time and data transfer cost is very high if its done across regions.</li>\n",
        "</ul>\n",
        "</li>\n",
        "<li>If its not possible to exec into the alpha-0 , then it has to be copied over to the pvc by doing node-shell into the node</li>\n",
        "</ul>\n",
        "<p>- In some situation, you might copy over a different p directory if we are replacing with an older or different data elsewhere)</p>\n",
        "<p>&nbsp;</p>\n",
        "<p>- Steps to get inside a alpha and renaming the directories:</p>\n",
        "<div class=\"page\" title=\"Page 2\">\n",
        "<div class=\"section\">\n",
        "<div class=\"layoutArea\">\n",
        "<div class=\"column\">\n",
        "<pre style=\"padding-left: 40px;\">kubectl exec -it alphastatefulset-0 -n &lt;namespace&gt; -- /bin/sh mv t t_&lt;date&gt;; mv w w_&lt;date&gt;\n",
        "##Example-  mv t t_11272022 ; mv w w_11272022 )\n",
        "mv p p_&lt;date&gt;; ### Do it only for the non-leader alpha\n",
        "</pre>\n",
        "</div>\n",
        "</div>\n",
        "</div>\n",
        "</div>\n",
        "</div>\n",
        "</div>\n",
        "</div>\n",
        "</blockquote>"
      ]
    },
    {
      "cell_type": "code",
      "execution_count": 117,
      "id": "42991a5b-9083-4632-9205-b51cac7b89bc",
      "metadata": {
        "collapsed": true,
        "customAction": true,
        "execution_data": {
          "last_date_success_run_cell": "2023-09-01T17:38:21.412Z"
        },
        "jupyter": {
          "outputs_hidden": true,
          "source_hidden": true
        },
        "name": "Convert Time & Backup Command ",
        "orderProperties": [],
        "tags": [],
        "title": "Convert Time & Backup Command "
      },
      "outputs": [
        {
          "name": "stdout",
          "output_type": "stream",
          "text": [
            "Generated Backup Directory Name:  09012023\n"
          ]
        }
      ],
      "source": [
        "from datetime import datetime\n",
        "\n",
        "current_time = datetime.now()\n",
        "dir_name = current_time.strftime('%m%d%Y')\n",
        "print(\"Generated Backup Directory Name: \", dir_name)\n",
        "print(\"Constructed commands to delete existing pwt directories on respective pods\")\n",
        "\n",
        "# Helper function to form kubectl commands\n",
        "def generate_cmd(pod, original_dir, new_dir):\n",
        "    return f\"kubectl exec -n {namespace} {pod} -- /bin/sh -c \\\"mkdir -p {new_dir} && mv {original_dir}/* {new_dir}/ && rmdir {original_dir}\\\"\"\n",
        "\n",
        "# Backup W & T Directories on all Alpha Nodes\n",
        "w_dir_mv_cmd = [generate_cmd(pod, \"/dgraph/w\", f\"/dgraph/w_{dir_name}\") for pod in all_alpha_nodes]\n",
        "t_dir_mv_cmd = [generate_cmd(pod, \"/dgraph/t\", f\"/dgraph/t_{dir_name}\") for pod in all_alpha_nodes]\n",
        "\n",
        "# Backup P Directory on Non Leader alpha Nodes\n",
        "p_dir_mv_cmd = [generate_cmd(pod, \"/dgraph/p\", f\"/dgraph/p_{dir_name}\") for pod in non_alpha_leader_nodes]"
      ]
    },
    {
      "cell_type": "code",
      "execution_count": 118,
      "id": "3dda4988-cbfa-44ca-9753-2ac724c2d00b",
      "metadata": {
        "customAction": true,
        "execution_data": {
          "last_date_success_run_cell": "2023-09-01T17:38:40.992Z"
        },
        "jupyter": {
          "source_hidden": true
        },
        "name": "Good Alpha Node Command",
        "orderProperties": [],
        "tags": [],
        "title": "Good Alpha Node Command"
      },
      "outputs": [
        {
          "name": "stdout",
          "output_type": "stream",
          "text": [
            "kubectl logs bulk01-dgraph-alpha-0 -n dg-ops --tail=10000 | grep -i \"Log Compact\" | wc -l\n",
            "kubectl logs bulk01-dgraph-alpha-1 -n dg-ops --tail=10000 | grep -i \"Log Compact\" | wc -l\n",
            "kubectl logs bulk01-dgraph-alpha-2 -n dg-ops --tail=10000 | grep -i \"Log Compact\" | wc -l\n"
          ]
        }
      ],
      "source": [
        "# Here we assume that Log Compact message if not seen on the Alpha node, then we \n",
        "# Declare that Alpha as a good alpha node\n",
        "alpha_good_cmd = []\n",
        "for pod in all_alpha_nodes: \n",
        "    cmd = f\"kubectl logs {pod} -n {namespace} --tail=10000 | grep -i \\\"Log Compact\\\" | wc -l\"\n",
        "    print(cmd)\n",
        "    alpha_good_cmd.append(cmd)\n"
      ]
    },
    {
      "cell_type": "code",
      "execution_count": 119,
      "id": "51fd6f65-ebc8-422d-a788-f75c6a2250d9",
      "metadata": {
        "accessType": "ACCESS_TYPE_UNSPECIFIED",
        "actionBashCommand": false,
        "actionNeedsCredential": true,
        "actionRequiredLinesInCode": [],
        "actionSupportsIteration": true,
        "actionSupportsPoll": true,
        "action_modified": false,
        "action_uuid": "4d3b4c6153e14622f42b332b7c7b8f7043577971f64edc5be6b5f8b40d5b89d1",
        "continueOnError": false,
        "createTime": "1970-01-01T00:00:00Z",
        "credentialsJson": {
          "credential_id": "16972f66-a07a-4730-93fb-3d35250c4fc5",
          "credential_name": "k8sss",
          "credential_type": "CONNECTOR_TYPE_K8S"
        },
        "currentVersion": "0.1.0",
        "description": "Execute the given Kubectl command.",
        "execution_data": {
          "last_date_success_run_cell": "2023-09-01T17:38:47.637Z"
        },
        "id": 51,
        "index": 51,
        "inputData": [
          {
            "kubectl_command": {
              "constant": false,
              "value": "iter_item"
            }
          }
        ],
        "inputschema": [
          {
            "properties": {
              "kubectl_command": {
                "description": "kubectl command eg \"kubectl get pods --all-namespaces\"",
                "title": "Kubectl Command",
                "type": "string"
              }
            },
            "required": [
              "kubectl_command"
            ],
            "title": "k8s_kubectl_command",
            "type": "object"
          }
        ],
        "iterData": [
          {
            "iter_enabled": true,
            "iter_item": "kubectl_command",
            "iter_list": {
              "constant": false,
              "objectItems": false,
              "value": "alpha_good_cmd"
            }
          }
        ],
        "jupyter": {
          "source_hidden": true
        },
        "legotype": "LEGO_TYPE_K8S",
        "name": "Find out Good Alpha",
        "nouns": [],
        "orderProperties": [
          "kubectl_command"
        ],
        "output": {
          "type": ""
        },
        "outputParams": {
          "output_name": "good_alpha_node_log",
          "output_name_enabled": true
        },
        "printOutput": true,
        "tags": [
          "k8s_kubectl_command"
        ],
        "title": "Find out Good Alpha",
        "verbs": []
      },
      "outputs": [
        {
          "name": "stdout",
          "output_type": "stream",
          "text": [
            "Execution Summary: \n",
            "   Number of Execution(s): 3\n",
            "   Iterator values:\n",
            "        kubectl logs bulk01-dgraph-alpha-0 -n dg-ops --tail=10000 | grep -i \"Log Compact\" | wc -l\t\t: ✓\n",
            "        kubectl logs bulk01-dgraph-alpha-1 -n dg-ops --tail=10000 | grep -i \"Log Compact\" | wc -l\t\t: ✓\n",
            "        kubectl logs bulk01-dgraph-alpha-2 -n dg-ops --tail=10000 | grep -i \"Log Compact\" | wc -l\t\t: ✓\n"
          ]
        }
      ],
      "source": [
        "#\n",
        "# Copyright (c) 2022 unSkript.com\n",
        "# All rights reserved.\n",
        "#\n",
        "\n",
        "from pydantic import BaseModel, Field\n",
        "\n",
        "\n",
        "from beartype import beartype\n",
        "@beartype\n",
        "def k8s_kubectl_command_printer(output):\n",
        "    if output is None:\n",
        "        return\n",
        "    print(output)\n",
        "\n",
        "\n",
        "@beartype\n",
        "def k8s_kubectl_command(handle, kubectl_command: str) -> str:\n",
        "    \"\"\"k8s_kubectl_command executes the given kubectl command on the pod\n",
        "\n",
        "        :type handle: object\n",
        "        :param handle: Object returned from the Task validate method\n",
        "\n",
        "        :type kubectl_command: str\n",
        "        :param kubectl_command: The Actual kubectl command, like kubectl get ns, etc..\n",
        "\n",
        "        :rtype: String, Output of the command in python string format or Empty String in case of Error.\n",
        "    \"\"\"\n",
        "    if handle.client_side_validation != True:\n",
        "        print(f\"K8S Connector is invalid: {handle}\")\n",
        "        return str()\n",
        "\n",
        "    result = handle.run_native_cmd(kubectl_command)\n",
        "    if result is None or hasattr(result, \"stderr\") is False or result.stderr is None:\n",
        "        print(\n",
        "            f\"Error while executing command ({kubectl_command}): {result.stderr}\")\n",
        "        return str()\n",
        "\n",
        "    return result.stdout\n",
        "\n",
        "\n",
        "task = Task(Workflow())\n",
        "task.configure(continueOnError=False)\n",
        "task.configure(credentialsJson='''{\n",
        "    \"credential_name\": \"k8sss\",\n",
        "    \"credential_type\": \"CONNECTOR_TYPE_K8S\",\n",
        "    \"credential_id\": \"16972f66-a07a-4730-93fb-3d35250c4fc5\"\n",
        "}''')\n",
        "task.configure(inputParamsJson='''{\n",
        "    \"kubectl_command\": \"iter_item\"\n",
        "    }''')\n",
        "task.configure(iterJson='''{\n",
        "    \"iter_enabled\": true,\n",
        "    \"iter_list_is_const\": false,\n",
        "    \"iter_list\": \"alpha_good_cmd\",\n",
        "    \"iter_parameter\": \"kubectl_command\"\n",
        "    }''')\n",
        "task.configure(outputName=\"good_alpha_node_log\")\n",
        "task.configure(printOutput=True)\n",
        "(err, hdl, args) = task.validate(vars=vars())\n",
        "if err is None:\n",
        "    task.execute(k8s_kubectl_command, lego_printer=k8s_kubectl_command_printer, hdl=hdl, args=args)"
      ]
    },
    {
      "cell_type": "code",
      "execution_count": 120,
      "id": "55be0c03-33de-4af5-b207-cac0a0fdb415",
      "metadata": {
        "customAction": true,
        "execution_data": {
          "last_date_success_run_cell": "2023-09-01T17:38:49.103Z"
        },
        "jupyter": {
          "source_hidden": true
        },
        "name": "Parse Good Alpha Output",
        "orderProperties": [],
        "tags": [],
        "title": "Parse Good Alpha Output"
      },
      "outputs": [
        {
          "name": "stdout",
          "output_type": "stream",
          "text": [
            "Good Alpha : bulk01-dgraph-alpha-0\n"
          ]
        }
      ],
      "source": [
        "index = 0\n",
        "for item in good_alpha_node_log.items():\n",
        "    if int(item[-1].strip()) == 0:\n",
        "        good_alpha = all_alpha_nodes[index]\n",
        "        break\n",
        "    index += 1\n",
        "\n",
        "print(f\"Good Alpha : {good_alpha}\")"
      ]
    },
    {
      "cell_type": "code",
      "execution_count": 121,
      "id": "401db6f0-b7fd-46f9-b30f-e2efbb11f664",
      "metadata": {
        "accessType": "ACCESS_TYPE_UNSPECIFIED",
        "actionBashCommand": false,
        "actionNeedsCredential": true,
        "actionRequiredLinesInCode": [],
        "actionSupportsIteration": true,
        "actionSupportsPoll": true,
        "action_modified": false,
        "action_uuid": "4d3b4c6153e14622f42b332b7c7b8f7043577971f64edc5be6b5f8b40d5b89d1",
        "condition_enabled": false,
        "continueOnError": true,
        "createTime": "1970-01-01T00:00:00Z",
        "credentialsJson": {
          "credential_id": "16972f66-a07a-4730-93fb-3d35250c4fc5",
          "credential_name": "k8sss",
          "credential_type": "CONNECTOR_TYPE_K8S"
        },
        "currentVersion": "0.1.0",
        "description": "Execute the given Kubectl command.",
        "execution_data": {
          "last_date_success_run_cell": "2023-09-01T17:39:06.726Z"
        },
        "id": 51,
        "index": 51,
        "inputData": [
          {
            "kubectl_command": {
              "constant": false,
              "value": "iter_item"
            }
          }
        ],
        "inputschema": [
          {
            "properties": {
              "kubectl_command": {
                "description": "kubectl command eg \"kubectl get pods --all-namespaces\"",
                "title": "Kubectl Command",
                "type": "string"
              }
            },
            "required": [
              "kubectl_command"
            ],
            "title": "k8s_kubectl_command",
            "type": "object"
          }
        ],
        "iterData": [
          {
            "iter_enabled": true,
            "iter_item": "kubectl_command",
            "iter_list": {
              "constant": false,
              "objectItems": false,
              "value": "w_dir_mv_cmd"
            }
          }
        ],
        "jupyter": {
          "source_hidden": true
        },
        "legotype": "LEGO_TYPE_K8S",
        "name": "New: Move W Folder on all Alphas",
        "nouns": [],
        "orderProperties": [
          "kubectl_command"
        ],
        "output": {
          "type": ""
        },
        "printOutput": true,
        "startcondition": "alpha_leader_node[len(alpha_leader_node)-2:] == '-0'",
        "tags": [
          "k8s_kubectl_command"
        ],
        "title": "New: Move W Folder on all Alphas",
        "verbs": []
      },
      "outputs": [
        {
          "name": "stdout",
          "output_type": "stream",
          "text": [
            "Execution Summary: \n",
            "   Number of Execution(s): 3\n",
            "   Iterator values:\n",
            "        kubectl exec -n dg-ops bulk01-dgraph-alpha-0 -- /bin/sh -c \"mkdir -p /dgraph/w_09012023 && mv /dgraph/w/* /dgraph/w_09012023/ && rmdir /dgraph/w\"\t\t: ✓\n",
            "        kubectl exec -n dg-ops bulk01-dgraph-alpha-1 -- /bin/sh -c \"mkdir -p /dgraph/w_09012023 && mv /dgraph/w/* /dgraph/w_09012023/ && rmdir /dgraph/w\"\t\t: ✓\n",
            "        kubectl exec -n dg-ops bulk01-dgraph-alpha-2 -- /bin/sh -c \"mkdir -p /dgraph/w_09012023 && mv /dgraph/w/* /dgraph/w_09012023/ && rmdir /dgraph/w\"\t\t: ✓\n"
          ]
        }
      ],
      "source": [
        "#\n",
        "# Copyright (c) 2022 unSkript.com\n",
        "# All rights reserved.\n",
        "#\n",
        "\n",
        "from pydantic import BaseModel, Field\n",
        "\n",
        "\n",
        "from beartype import beartype\n",
        "@beartype\n",
        "def k8s_kubectl_command_printer(output):\n",
        "    if output is None:\n",
        "        return\n",
        "    print(output)\n",
        "\n",
        "\n",
        "@beartype\n",
        "def k8s_kubectl_command(handle, kubectl_command: str) -> str:\n",
        "    \"\"\"k8s_kubectl_command executes the given kubectl command on the pod\n",
        "\n",
        "        :type handle: object\n",
        "        :param handle: Object returned from the Task validate method\n",
        "\n",
        "        :type kubectl_command: str\n",
        "        :param kubectl_command: The Actual kubectl command, like kubectl get ns, etc..\n",
        "\n",
        "        :rtype: String, Output of the command in python string format or Empty String in case of Error.\n",
        "    \"\"\"\n",
        "    if handle.client_side_validation != True:\n",
        "        print(f\"K8S Connector is invalid: {handle}\")\n",
        "        return str()\n",
        "\n",
        "    result = handle.run_native_cmd(kubectl_command)\n",
        "    if result is None or hasattr(result, \"stderr\") is False or result.stderr is None:\n",
        "        print(\n",
        "            f\"Error while executing command ({kubectl_command}): {result.stderr}\")\n",
        "        return str()\n",
        "\n",
        "    return result.stdout\n",
        "\n",
        "\n",
        "task = Task(Workflow())\n",
        "task.configure(continueOnError=True)\n",
        "task.configure(credentialsJson='''{\n",
        "    \"credential_name\": \"k8sss\",\n",
        "    \"credential_type\": \"CONNECTOR_TYPE_K8S\",\n",
        "    \"credential_id\": \"16972f66-a07a-4730-93fb-3d35250c4fc5\"\n",
        "}''')\n",
        "task.configure(inputParamsJson='''{\n",
        "    \"kubectl_command\": \"iter_item\"\n",
        "    }''')\n",
        "task.configure(iterJson='''{\n",
        "    \"iter_enabled\": true,\n",
        "    \"iter_list_is_const\": false,\n",
        "    \"iter_list\": \"w_dir_mv_cmd\",\n",
        "    \"iter_parameter\": \"kubectl_command\"\n",
        "    }''')\n",
        "\n",
        "task.configure(conditionsJson='''{\n",
        "    \"condition_enabled\": false,\n",
        "    \"condition_cfg\": \"alpha_leader_node[len(alpha_leader_node)-2:] == '-0'\",\n",
        "    \"condition_result\": true\n",
        "    }''')\n",
        "task.configure(printOutput=True)\n",
        "(err, hdl, args) = task.validate(vars=vars())\n",
        "if err is None:\n",
        "    task.execute(k8s_kubectl_command, lego_printer=k8s_kubectl_command_printer, hdl=hdl, args=args)"
      ]
    },
    {
      "cell_type": "code",
      "execution_count": 122,
      "id": "9161bc23-f97a-4802-8f3f-88d774c342e1",
      "metadata": {
        "accessType": "ACCESS_TYPE_UNSPECIFIED",
        "actionBashCommand": false,
        "actionNeedsCredential": true,
        "actionRequiredLinesInCode": [],
        "actionSupportsIteration": true,
        "actionSupportsPoll": true,
        "action_modified": false,
        "action_uuid": "4d3b4c6153e14622f42b332b7c7b8f7043577971f64edc5be6b5f8b40d5b89d1",
        "condition_enabled": false,
        "continueOnError": true,
        "createTime": "1970-01-01T00:00:00Z",
        "credentialsJson": {
          "credential_id": "16972f66-a07a-4730-93fb-3d35250c4fc5",
          "credential_name": "k8sss",
          "credential_type": "CONNECTOR_TYPE_K8S"
        },
        "currentVersion": "0.1.0",
        "description": "Execute the given Kubectl command.",
        "execution_data": {
          "last_date_success_run_cell": "2023-09-01T17:39:42.112Z"
        },
        "id": 51,
        "index": 51,
        "inputData": [
          {
            "kubectl_command": {
              "constant": false,
              "value": "iter_item"
            }
          }
        ],
        "inputschema": [
          {
            "properties": {
              "kubectl_command": {
                "description": "kubectl command eg \"kubectl get pods --all-namespaces\"",
                "title": "Kubectl Command",
                "type": "string"
              }
            },
            "required": [
              "kubectl_command"
            ],
            "title": "k8s_kubectl_command",
            "type": "object"
          }
        ],
        "iterData": [
          {
            "iter_enabled": true,
            "iter_item": "kubectl_command",
            "iter_list": {
              "constant": false,
              "objectItems": false,
              "value": "t_dir_mv_cmd"
            }
          }
        ],
        "jupyter": {
          "source_hidden": true
        },
        "legotype": "LEGO_TYPE_K8S",
        "name": "Move T Folder on all Alphas",
        "nouns": [],
        "orderProperties": [
          "kubectl_command"
        ],
        "output": {
          "type": ""
        },
        "printOutput": true,
        "startcondition": "alpha_leader_node[len(alpha_leader_node)-2:] == '-0'",
        "tags": [
          "k8s_kubectl_command"
        ],
        "title": "Move T Folder on all Alphas",
        "verbs": []
      },
      "outputs": [
        {
          "name": "stdout",
          "output_type": "stream",
          "text": [
            "Execution Summary: \n",
            "   Number of Execution(s): 3\n",
            "   Iterator values:\n",
            "        kubectl exec -n dg-ops bulk01-dgraph-alpha-0 -- /bin/sh -c \"mkdir -p /dgraph/t_09012023 && mv /dgraph/t/* /dgraph/t_09012023/ && rmdir /dgraph/t\"\t\t: ✓\n",
            "        kubectl exec -n dg-ops bulk01-dgraph-alpha-1 -- /bin/sh -c \"mkdir -p /dgraph/t_09012023 && mv /dgraph/t/* /dgraph/t_09012023/ && rmdir /dgraph/t\"\t\t: ✓\n",
            "        kubectl exec -n dg-ops bulk01-dgraph-alpha-2 -- /bin/sh -c \"mkdir -p /dgraph/t_09012023 && mv /dgraph/t/* /dgraph/t_09012023/ && rmdir /dgraph/t\"\t\t: ✓\n"
          ]
        }
      ],
      "source": [
        "#\n",
        "# Copyright (c) 2022 unSkript.com\n",
        "# All rights reserved.\n",
        "#\n",
        "\n",
        "from pydantic import BaseModel, Field\n",
        "\n",
        "\n",
        "from beartype import beartype\n",
        "@beartype\n",
        "def k8s_kubectl_command_printer(output):\n",
        "    if output is None:\n",
        "        return\n",
        "    print(output)\n",
        "\n",
        "\n",
        "@beartype\n",
        "def k8s_kubectl_command(handle, kubectl_command: str) -> str:\n",
        "    \"\"\"k8s_kubectl_command executes the given kubectl command on the pod\n",
        "\n",
        "        :type handle: object\n",
        "        :param handle: Object returned from the Task validate method\n",
        "\n",
        "        :type kubectl_command: str\n",
        "        :param kubectl_command: The Actual kubectl command, like kubectl get ns, etc..\n",
        "\n",
        "        :rtype: String, Output of the command in python string format or Empty String in case of Error.\n",
        "    \"\"\"\n",
        "    if handle.client_side_validation != True:\n",
        "        print(f\"K8S Connector is invalid: {handle}\")\n",
        "        return str()\n",
        "\n",
        "    result = handle.run_native_cmd(kubectl_command)\n",
        "    if result is None or hasattr(result, \"stderr\") is False or result.stderr is None:\n",
        "        print(\n",
        "            f\"Error while executing command ({kubectl_command}): {result.stderr}\")\n",
        "        return str()\n",
        "\n",
        "    return result.stdout\n",
        "\n",
        "\n",
        "task = Task(Workflow())\n",
        "task.configure(continueOnError=True)\n",
        "task.configure(credentialsJson='''{\n",
        "    \"credential_name\": \"k8sss\",\n",
        "    \"credential_type\": \"CONNECTOR_TYPE_K8S\",\n",
        "    \"credential_id\": \"16972f66-a07a-4730-93fb-3d35250c4fc5\"\n",
        "}''')\n",
        "task.configure(inputParamsJson='''{\n",
        "    \"kubectl_command\": \"iter_item\"\n",
        "    }''')\n",
        "task.configure(iterJson='''{\n",
        "    \"iter_enabled\": true,\n",
        "    \"iter_list_is_const\": false,\n",
        "    \"iter_list\": \"t_dir_mv_cmd\",\n",
        "    \"iter_parameter\": \"kubectl_command\"\n",
        "    }''')\n",
        "\n",
        "task.configure(conditionsJson='''{\n",
        "    \"condition_enabled\": false,\n",
        "    \"condition_cfg\": \"alpha_leader_node[len(alpha_leader_node)-2:] == '-0'\",\n",
        "    \"condition_result\": true\n",
        "    }''')\n",
        "task.configure(printOutput=True)\n",
        "(err, hdl, args) = task.validate(vars=vars())\n",
        "if err is None:\n",
        "    task.execute(k8s_kubectl_command, lego_printer=k8s_kubectl_command_printer, hdl=hdl, args=args)"
      ]
    },
    {
      "cell_type": "code",
      "execution_count": 123,
      "id": "bcf6730b-4e4a-485b-a835-ffb12838ab2e",
      "metadata": {
        "accessType": "ACCESS_TYPE_UNSPECIFIED",
        "actionBashCommand": false,
        "actionNeedsCredential": true,
        "actionRequiredLinesInCode": [],
        "actionSupportsIteration": true,
        "actionSupportsPoll": true,
        "action_modified": false,
        "action_uuid": "4d3b4c6153e14622f42b332b7c7b8f7043577971f64edc5be6b5f8b40d5b89d1",
        "condition_enabled": false,
        "continueOnError": true,
        "createTime": "1970-01-01T00:00:00Z",
        "credentialsJson": {
          "credential_id": "16972f66-a07a-4730-93fb-3d35250c4fc5",
          "credential_name": "k8sss",
          "credential_type": "CONNECTOR_TYPE_K8S"
        },
        "currentVersion": "0.1.0",
        "description": "Execute the given Kubectl command.",
        "execution_data": {
          "last_date_success_run_cell": "2023-09-01T17:40:00.244Z"
        },
        "id": 51,
        "index": 51,
        "inputData": [
          {
            "kubectl_command": {
              "constant": false,
              "value": "iter_item"
            }
          }
        ],
        "inputschema": [
          {
            "properties": {
              "kubectl_command": {
                "description": "kubectl command eg \"kubectl get pods --all-namespaces\"",
                "title": "Kubectl Command",
                "type": "string"
              }
            },
            "required": [
              "kubectl_command"
            ],
            "title": "k8s_kubectl_command",
            "type": "object"
          }
        ],
        "iterData": [
          {
            "iter_enabled": true,
            "iter_item": "kubectl_command",
            "iter_list": {
              "constant": false,
              "objectItems": false,
              "value": "p_dir_mv_cmd"
            }
          }
        ],
        "jupyter": {
          "source_hidden": true
        },
        "legotype": "LEGO_TYPE_K8S",
        "name": "Move P Folder On Non Leader Alphas",
        "nouns": [],
        "orderProperties": [
          "kubectl_command"
        ],
        "output": {
          "type": ""
        },
        "printOutput": true,
        "startcondition": "alpha_leader_node[len(alpha_leader_node)-2:] == '-0'",
        "tags": [
          "k8s_kubectl_command"
        ],
        "title": "Move P Folder On Non Leader Alphas",
        "verbs": []
      },
      "outputs": [
        {
          "name": "stdout",
          "output_type": "stream",
          "text": [
            "Execution Summary: \n",
            "   Number of Execution(s): 2\n",
            "   Iterator values:\n",
            "        kubectl exec -n dg-ops bulk01-dgraph-alpha-1 -- /bin/sh -c \"mkdir -p /dgraph/p_09012023 && mv /dgraph/p/* /dgraph/p_09012023/ && rmdir /dgraph/p\"\t\t: ✓\n",
            "        kubectl exec -n dg-ops bulk01-dgraph-alpha-2 -- /bin/sh -c \"mkdir -p /dgraph/p_09012023 && mv /dgraph/p/* /dgraph/p_09012023/ && rmdir /dgraph/p\"\t\t: ✓\n"
          ]
        }
      ],
      "source": [
        "#\n",
        "# Copyright (c) 2022 unSkript.com\n",
        "# All rights reserved.\n",
        "#\n",
        "\n",
        "from pydantic import BaseModel, Field\n",
        "\n",
        "\n",
        "from beartype import beartype\n",
        "@beartype\n",
        "def k8s_kubectl_command_printer(output):\n",
        "    if output is None:\n",
        "        return\n",
        "    print(output)\n",
        "\n",
        "\n",
        "@beartype\n",
        "def k8s_kubectl_command(handle, kubectl_command: str) -> str:\n",
        "    \"\"\"k8s_kubectl_command executes the given kubectl command on the pod\n",
        "\n",
        "        :type handle: object\n",
        "        :param handle: Object returned from the Task validate method\n",
        "\n",
        "        :type kubectl_command: str\n",
        "        :param kubectl_command: The Actual kubectl command, like kubectl get ns, etc..\n",
        "\n",
        "        :rtype: String, Output of the command in python string format or Empty String in case of Error.\n",
        "    \"\"\"\n",
        "    if handle.client_side_validation != True:\n",
        "        print(f\"K8S Connector is invalid: {handle}\")\n",
        "        return str()\n",
        "\n",
        "    result = handle.run_native_cmd(kubectl_command)\n",
        "    if result is None or hasattr(result, \"stderr\") is False or result.stderr is None:\n",
        "        print(\n",
        "            f\"Error while executing command ({kubectl_command}): {result.stderr}\")\n",
        "        return str()\n",
        "\n",
        "    return result.stdout\n",
        "\n",
        "\n",
        "task = Task(Workflow())\n",
        "task.configure(continueOnError=True)\n",
        "task.configure(credentialsJson='''{\n",
        "    \"credential_name\": \"k8sss\",\n",
        "    \"credential_type\": \"CONNECTOR_TYPE_K8S\",\n",
        "    \"credential_id\": \"16972f66-a07a-4730-93fb-3d35250c4fc5\"\n",
        "}''')\n",
        "task.configure(inputParamsJson='''{\n",
        "    \"kubectl_command\": \"iter_item\"\n",
        "    }''')\n",
        "task.configure(iterJson='''{\n",
        "    \"iter_enabled\": true,\n",
        "    \"iter_list_is_const\": false,\n",
        "    \"iter_list\": \"p_dir_mv_cmd\",\n",
        "    \"iter_parameter\": \"kubectl_command\"\n",
        "    }''')\n",
        "\n",
        "task.configure(conditionsJson='''{\n",
        "    \"condition_enabled\": false,\n",
        "    \"condition_cfg\": \"alpha_leader_node[len(alpha_leader_node)-2:] == '-0'\",\n",
        "    \"condition_result\": true\n",
        "    }''')\n",
        "task.configure(printOutput=True)\n",
        "(err, hdl, args) = task.validate(vars=vars())\n",
        "if err is None:\n",
        "    task.execute(k8s_kubectl_command, lego_printer=k8s_kubectl_command_printer, hdl=hdl, args=args)"
      ]
    },
    {
      "cell_type": "markdown",
      "id": "ba0bfa49-8212-4b70-ace9-9f8d7b98c23f",
      "metadata": {
        "jupyter": {
          "source_hidden": false
        },
        "name": "Step-5",
        "orderProperties": [],
        "tags": [],
        "title": "Step-5"
      },
      "source": [
        "<h2 id=\"Cleanup-all-Zero-Pods-on-Current-Active-Namespace\"><a id=\"Step-5\" target=\"_self\" rel=\"nofollow\"></a>Cleanup all Zero Pods on Current Source Namespace</h2>\n",
        "<blockquote>\n",
        "<div class=\"page\" title=\"Page 2\">\n",
        "<div class=\"section\">\n",
        "<div class=\"layoutArea\">\n",
        "<div class=\"column\">\n",
        "<pre>kubectl exec -it zerostatefulset-0 -n &lt;namespace&gt; -- mv /dgraph/zw\n",
        "/dgraph/zw_&lt;date&gt;\n",
        "kubectl exec -it zerostatefulset-1 -n &lt;namespace&gt; -- mv /dgraph/zw\n",
        "/dgraph/zw_&lt;date&gt;\n",
        "</pre>\n",
        "<pre>kubectl exec -it zerostatefulset-2 -n &lt;namespace&gt; -- mv /dgraph/zw\n",
        "/dgraph/zw_&lt;date&gt;\n",
        "</pre>\n",
        "</div>\n",
        "</div>\n",
        "</div>\n",
        "</div>\n",
        "</blockquote>"
      ]
    },
    {
      "cell_type": "code",
      "execution_count": 125,
      "id": "c5af0647-7de7-47dd-bd30-3d79ee47fde9",
      "metadata": {
        "customAction": true,
        "execution_data": {
          "last_date_success_run_cell": "2023-09-01T17:40:56.868Z"
        },
        "jupyter": {
          "source_hidden": true
        },
        "name": "Construct Cleanup of Zero Pods Command",
        "orderProperties": [],
        "tags": [],
        "title": "Construct Cleanup of Zero Pods Command"
      },
      "outputs": [
        {
          "name": "stdout",
          "output_type": "stream",
          "text": [
            "Constructed zero pods cleaup command\n"
          ]
        }
      ],
      "source": [
        "# Helper function to form kubectl commands for moving directories\n",
        "def generate_move_cmd(pod, original_dir, new_dir):\n",
        "    return f\"kubectl exec -n {namespace} {pod} -- /bin/sh -c \\\"mkdir -p {new_dir} && mv {original_dir}/* {new_dir}/ && rmdir {original_dir}\\\"\"\n",
        "\n",
        "# Backup zw Directory on all Zero Nodes\n",
        "zero_pods_cleanup_cmd = [generate_move_cmd(pod, \"/dgraph/zw\", f\"/dgraph/zw_{dir_name}\") for pod in all_zero_nodes]\n",
        "\n",
        "print(\"Constructed zero pods cleaup command\")\n"
      ]
    },
    {
      "cell_type": "code",
      "execution_count": 126,
      "id": "c866a73a-2715-4b05-943b-482aa5e3ed0d",
      "metadata": {
        "accessType": "ACCESS_TYPE_UNSPECIFIED",
        "actionBashCommand": false,
        "actionNeedsCredential": true,
        "actionRequiredLinesInCode": [],
        "actionSupportsIteration": true,
        "actionSupportsPoll": true,
        "action_modified": false,
        "action_uuid": "4d3b4c6153e14622f42b332b7c7b8f7043577971f64edc5be6b5f8b40d5b89d1",
        "continueOnError": true,
        "createTime": "1970-01-01T00:00:00Z",
        "credentialsJson": {
          "credential_id": "16972f66-a07a-4730-93fb-3d35250c4fc5",
          "credential_name": "k8sss",
          "credential_type": "CONNECTOR_TYPE_K8S"
        },
        "currentVersion": "0.1.0",
        "description": "Execute the given Kubectl command.",
        "execution_data": {
          "last_date_success_run_cell": "2023-09-01T17:41:07.017Z"
        },
        "id": 51,
        "index": 51,
        "inputData": [
          {
            "kubectl_command": {
              "constant": false,
              "value": "iter_item"
            }
          }
        ],
        "inputschema": [
          {
            "properties": {
              "kubectl_command": {
                "description": "kubectl command eg \"kubectl get pods --all-namespaces\"",
                "title": "Kubectl Command",
                "type": "string"
              }
            },
            "required": [
              "kubectl_command"
            ],
            "title": "k8s_kubectl_command",
            "type": "object"
          }
        ],
        "iterData": [
          {
            "iter_enabled": true,
            "iter_item": "kubectl_command",
            "iter_list": {
              "constant": false,
              "objectItems": false,
              "value": "zero_pods_cleanup_cmd"
            }
          }
        ],
        "jupyter": {
          "source_hidden": true
        },
        "legotype": "LEGO_TYPE_K8S",
        "name": "Cleanup all Zero Pods ",
        "nouns": [],
        "orderProperties": [
          "kubectl_command"
        ],
        "output": {
          "type": ""
        },
        "printOutput": true,
        "tags": [
          "k8s_kubectl_command"
        ],
        "title": "Cleanup all Zero Pods ",
        "verbs": []
      },
      "outputs": [
        {
          "name": "stdout",
          "output_type": "stream",
          "text": [
            "Execution Summary: \n",
            "   Number of Execution(s): 3\n",
            "   Iterator values:\n",
            "        kubectl exec -n dg-ops bulk01-dgraph-zero-0 -- /bin/sh -c \"mkdir -p /dgraph/zw_09012023 && mv /dgraph/zw/* /dgraph/zw_09012023/ && rmdir /dgraph/zw\"\t\t: ✓\n",
            "        kubectl exec -n dg-ops bulk01-dgraph-zero-1 -- /bin/sh -c \"mkdir -p /dgraph/zw_09012023 && mv /dgraph/zw/* /dgraph/zw_09012023/ && rmdir /dgraph/zw\"\t\t: ✓\n",
            "        kubectl exec -n dg-ops bulk01-dgraph-zero-2 -- /bin/sh -c \"mkdir -p /dgraph/zw_09012023 && mv /dgraph/zw/* /dgraph/zw_09012023/ && rmdir /dgraph/zw\"\t\t: ✓\n"
          ]
        }
      ],
      "source": [
        "#\n",
        "# Copyright (c) 2022 unSkript.com\n",
        "# All rights reserved.\n",
        "#\n",
        "\n",
        "from pydantic import BaseModel, Field\n",
        "\n",
        "\n",
        "from beartype import beartype\n",
        "@beartype\n",
        "def k8s_kubectl_command_printer(output):\n",
        "    if output is None:\n",
        "        return\n",
        "    print(output)\n",
        "\n",
        "\n",
        "@beartype\n",
        "def k8s_kubectl_command(handle, kubectl_command: str) -> str:\n",
        "    \"\"\"k8s_kubectl_command executes the given kubectl command on the pod\n",
        "\n",
        "        :type handle: object\n",
        "        :param handle: Object returned from the Task validate method\n",
        "\n",
        "        :type kubectl_command: str\n",
        "        :param kubectl_command: The Actual kubectl command, like kubectl get ns, etc..\n",
        "\n",
        "        :rtype: String, Output of the command in python string format or Empty String in case of Error.\n",
        "    \"\"\"\n",
        "    if handle.client_side_validation != True:\n",
        "        print(f\"K8S Connector is invalid: {handle}\")\n",
        "        return str()\n",
        "\n",
        "    result = handle.run_native_cmd(kubectl_command)\n",
        "    if result is None or hasattr(result, \"stderr\") is False or result.stderr is None:\n",
        "        print(\n",
        "            f\"Error while executing command ({kubectl_command}): {result.stderr}\")\n",
        "        return str()\n",
        "\n",
        "    return result.stdout\n",
        "\n",
        "\n",
        "task = Task(Workflow())\n",
        "task.configure(continueOnError=True)\n",
        "task.configure(credentialsJson='''{\n",
        "    \"credential_name\": \"k8sss\",\n",
        "    \"credential_type\": \"CONNECTOR_TYPE_K8S\",\n",
        "    \"credential_id\": \"16972f66-a07a-4730-93fb-3d35250c4fc5\"\n",
        "}''')\n",
        "task.configure(inputParamsJson='''{\n",
        "    \"kubectl_command\": \"iter_item\"\n",
        "    }''')\n",
        "task.configure(iterJson='''{\n",
        "    \"iter_enabled\": true,\n",
        "    \"iter_list_is_const\": false,\n",
        "    \"iter_list\": \"zero_pods_cleanup_cmd\",\n",
        "    \"iter_parameter\": \"kubectl_command\"\n",
        "    }''')\n",
        "task.configure(printOutput=True)\n",
        "(err, hdl, args) = task.validate(vars=vars())\n",
        "if err is None:\n",
        "    task.execute(k8s_kubectl_command, lego_printer=k8s_kubectl_command_printer, hdl=hdl, args=args)"
      ]
    },
    {
      "cell_type": "markdown",
      "id": "06d7cf42-f1e1-4f95-8416-9936f141e455",
      "metadata": {
        "jupyter": {
          "source_hidden": false
        },
        "name": "Step-6",
        "orderProperties": [],
        "tags": [],
        "title": "Step-6"
      },
      "source": [
        "<h2 id=\"Scale-down-Alpha-nodes-on-Active-Cluster\"><a id=\"Step-6\" target=\"_self\" rel=\"nofollow\"></a>Scale down Alpha nodes on Source Cluster</h2>\n",
        "<blockquote>\n",
        "<div class=\"page\" title=\"Page 2\">\n",
        "<div class=\"section\">\n",
        "<div class=\"layoutArea\">\n",
        "<div class=\"column\">\n",
        "<pre>kubectl scale --replicas=0 sts alphastatefulset -n &lt;namespace&gt;\n",
        "</pre>\n",
        "<pre># Check for pods to be gone with the following command\n",
        "kubectl get pods -n &lt;namespace&gt; | grep alphastatefulset  ## Should\n",
        "return no pods\n",
        "</pre>\n",
        "</div>\n",
        "</div>\n",
        "</div>\n",
        "</div>\n",
        "</blockquote>"
      ]
    },
    {
      "cell_type": "code",
      "execution_count": 127,
      "id": "5429337b-78f1-4bad-9a2c-f035b44900b3",
      "metadata": {
        "accessType": "ACCESS_TYPE_UNSPECIFIED",
        "actionBashCommand": false,
        "actionNeedsCredential": true,
        "actionRequiredLinesInCode": [],
        "actionSupportsIteration": true,
        "actionSupportsPoll": true,
        "action_modified": false,
        "action_uuid": "4d3b4c6153e14622f42b332b7c7b8f7043577971f64edc5be6b5f8b40d5b89d1",
        "continueOnError": false,
        "createTime": "1970-01-01T00:00:00Z",
        "credentialsJson": {
          "credential_id": "16972f66-a07a-4730-93fb-3d35250c4fc5",
          "credential_name": "k8sss",
          "credential_type": "CONNECTOR_TYPE_K8S"
        },
        "currentVersion": "0.1.0",
        "description": "Execute the given Kubectl command.",
        "execution_data": {
          "last_date_success_run_cell": "2023-09-01T17:41:10.696Z"
        },
        "id": 51,
        "index": 51,
        "inputData": [
          {
            "kubectl_command": {
              "constant": false,
              "value": "f\"kubectl get sts -n {namespace} -o name | cut -d'/' -f 2\""
            }
          }
        ],
        "inputschema": [
          {
            "properties": {
              "kubectl_command": {
                "description": "kubectl command eg \"kubectl get pods --all-namespaces\"",
                "title": "Kubectl Command",
                "type": "string"
              }
            },
            "required": [
              "kubectl_command"
            ],
            "title": "k8s_kubectl_command",
            "type": "object"
          }
        ],
        "jupyter": {
          "source_hidden": true
        },
        "legotype": "LEGO_TYPE_K8S",
        "name": "Get Statefulset for Alpha and Zero ",
        "nouns": [],
        "orderProperties": [
          "kubectl_command"
        ],
        "output": {
          "type": ""
        },
        "outputParams": {
          "output_name": "source_sts_names",
          "output_name_enabled": true
        },
        "printOutput": true,
        "tags": [
          "k8s_kubectl_command"
        ],
        "title": "Get Statefulset for Alpha and Zero ",
        "verbs": []
      },
      "outputs": [
        {
          "name": "stdout",
          "output_type": "stream",
          "text": [
            "bulk01-dgraph-alpha\n",
            "bulk01-dgraph-zero\n",
            "\n"
          ]
        }
      ],
      "source": [
        "#\n",
        "# Copyright (c) 2022 unSkript.com\n",
        "# All rights reserved.\n",
        "#\n",
        "\n",
        "from pydantic import BaseModel, Field\n",
        "\n",
        "\n",
        "from beartype import beartype\n",
        "@beartype\n",
        "def k8s_kubectl_command_printer(output):\n",
        "    if output is None:\n",
        "        return\n",
        "    print(output)\n",
        "\n",
        "\n",
        "@beartype\n",
        "def k8s_kubectl_command(handle, kubectl_command: str) -> str:\n",
        "    \"\"\"k8s_kubectl_command executes the given kubectl command on the pod\n",
        "\n",
        "        :type handle: object\n",
        "        :param handle: Object returned from the Task validate method\n",
        "\n",
        "        :type kubectl_command: str\n",
        "        :param kubectl_command: The Actual kubectl command, like kubectl get ns, etc..\n",
        "\n",
        "        :rtype: String, Output of the command in python string format or Empty String in case of Error.\n",
        "    \"\"\"\n",
        "    if handle.client_side_validation != True:\n",
        "        print(f\"K8S Connector is invalid: {handle}\")\n",
        "        return str()\n",
        "\n",
        "    result = handle.run_native_cmd(kubectl_command)\n",
        "    if result is None or hasattr(result, \"stderr\") is False or result.stderr is None:\n",
        "        print(\n",
        "            f\"Error while executing command ({kubectl_command}): {result.stderr}\")\n",
        "        return str()\n",
        "\n",
        "    return result.stdout\n",
        "\n",
        "\n",
        "task = Task(Workflow())\n",
        "\n",
        "task.configure(credentialsJson='''{\n",
        "    \"credential_name\": \"k8sss\",\n",
        "    \"credential_type\": \"CONNECTOR_TYPE_K8S\",\n",
        "    \"credential_id\": \"16972f66-a07a-4730-93fb-3d35250c4fc5\"\n",
        "}''')\n",
        "task.configure(inputParamsJson='''{\n",
        "    \"kubectl_command\": \"f\\\\\"kubectl get sts -n {namespace} -o name | cut -d'/' -f 2\\\\\"\"\n",
        "    }''')\n",
        "task.configure(outputName=\"source_sts_names\")\n",
        "task.configure(printOutput=True)\n",
        "(err, hdl, args) = task.validate(vars=vars())\n",
        "if err is None:\n",
        "    task.execute(k8s_kubectl_command, lego_printer=k8s_kubectl_command_printer, hdl=hdl, args=args)"
      ]
    },
    {
      "cell_type": "code",
      "execution_count": 128,
      "id": "26ad99ed-97be-4612-a800-66c4b508b7ce",
      "metadata": {
        "customAction": true,
        "execution_data": {
          "last_date_success_run_cell": "2023-09-01T17:41:13.143Z"
        },
        "jupyter": {
          "source_hidden": true
        },
        "name": "Parse STS Names",
        "orderProperties": [],
        "tags": [],
        "title": "Parse STS Names"
      },
      "outputs": [
        {
          "name": "stdout",
          "output_type": "stream",
          "text": [
            "Source Alpha STS : ['bulk01-dgraph-alpha']\n",
            "Source Zero STS :  ['bulk01-dgraph-zero']\n"
          ]
        }
      ],
      "source": [
        "source_alpha_sts = [x for x in source_sts_names.split('\\n') if x.find('alpha') != -1]\n",
        "source_zero_sts = [x for x in source_sts_names.split('\\n') if x.find('zero') != -1]\n",
        "# target_alpha_sts = [x for x in target_sts_names.split('\\n') if x.find('alpha') != -1]\n",
        "# target_zero_sts = [x for x in target_sts_names.split('\\n') if x.find('zero') != -1]\n",
        "\n",
        "print(\"Source Alpha STS :\", source_alpha_sts)\n",
        "print(\"Source Zero STS : \", source_zero_sts)\n",
        "# print(\"Target Alpha STS: \", target_alpha_sts)\n",
        "# print(\"Target Zero sts :\", target_zero_sts)"
      ]
    },
    {
      "cell_type": "code",
      "execution_count": 129,
      "id": "051ae825-13d5-45fb-8675-8a2193a631b1",
      "metadata": {
        "accessType": "ACCESS_TYPE_UNSPECIFIED",
        "actionBashCommand": false,
        "actionNeedsCredential": true,
        "actionRequiredLinesInCode": [],
        "actionSupportsIteration": true,
        "actionSupportsPoll": true,
        "action_modified": false,
        "action_uuid": "4d3b4c6153e14622f42b332b7c7b8f7043577971f64edc5be6b5f8b40d5b89d1",
        "continueOnError": false,
        "createTime": "1970-01-01T00:00:00Z",
        "credentialsJson": {
          "credential_id": "16972f66-a07a-4730-93fb-3d35250c4fc5",
          "credential_name": "k8sss",
          "credential_type": "CONNECTOR_TYPE_K8S"
        },
        "currentVersion": "0.1.0",
        "description": "Execute the given Kubectl command.",
        "execution_data": {
          "last_date_success_run_cell": "2023-09-01T17:41:25.901Z"
        },
        "id": 51,
        "index": 51,
        "inputData": [
          {
            "kubectl_command": {
              "constant": false,
              "value": "f\"kubectl scale --replicas=0 sts {source_alpha_sts[0]} -n {namespace}\""
            }
          }
        ],
        "inputschema": [
          {
            "properties": {
              "kubectl_command": {
                "description": "kubectl command eg \"kubectl get pods --all-namespaces\"",
                "title": "Kubectl Command",
                "type": "string"
              }
            },
            "required": [
              "kubectl_command"
            ],
            "title": "k8s_kubectl_command",
            "type": "object"
          }
        ],
        "jupyter": {
          "source_hidden": true
        },
        "legotype": "LEGO_TYPE_K8S",
        "name": "Scale down Source Alpha group to 0 replicas",
        "nouns": [],
        "orderProperties": [
          "kubectl_command"
        ],
        "output": {
          "type": ""
        },
        "printOutput": true,
        "tags": [
          "k8s_kubectl_command"
        ],
        "title": "Scale down Source Alpha group to 0 replicas",
        "verbs": []
      },
      "outputs": [
        {
          "name": "stdout",
          "output_type": "stream",
          "text": [
            "statefulset.apps/bulk01-dgraph-alpha scaled\n",
            "\n"
          ]
        }
      ],
      "source": [
        "#\n",
        "# Copyright (c) 2022 unSkript.com\n",
        "# All rights reserved.\n",
        "#\n",
        "\n",
        "from pydantic import BaseModel, Field\n",
        "\n",
        "\n",
        "from beartype import beartype\n",
        "@beartype\n",
        "def k8s_kubectl_command_printer(output):\n",
        "    if output is None:\n",
        "        return\n",
        "    print(output)\n",
        "\n",
        "\n",
        "@beartype\n",
        "def k8s_kubectl_command(handle, kubectl_command: str) -> str:\n",
        "    \"\"\"k8s_kubectl_command executes the given kubectl command on the pod\n",
        "\n",
        "        :type handle: object\n",
        "        :param handle: Object returned from the Task validate method\n",
        "\n",
        "        :type kubectl_command: str\n",
        "        :param kubectl_command: The Actual kubectl command, like kubectl get ns, etc..\n",
        "\n",
        "        :rtype: String, Output of the command in python string format or Empty String in case of Error.\n",
        "    \"\"\"\n",
        "    if handle.client_side_validation != True:\n",
        "        print(f\"K8S Connector is invalid: {handle}\")\n",
        "        return str()\n",
        "\n",
        "    result = handle.run_native_cmd(kubectl_command)\n",
        "    if result is None or hasattr(result, \"stderr\") is False or result.stderr is None:\n",
        "        print(\n",
        "            f\"Error while executing command ({kubectl_command}): {result.stderr}\")\n",
        "        return str()\n",
        "\n",
        "    return result.stdout\n",
        "\n",
        "\n",
        "task = Task(Workflow())\n",
        "task.configure(credentialsJson='''{\n",
        "    \"credential_name\": \"k8sss\",\n",
        "    \"credential_type\": \"CONNECTOR_TYPE_K8S\",\n",
        "    \"credential_id\": \"16972f66-a07a-4730-93fb-3d35250c4fc5\"\n",
        "}''')\n",
        "task.configure(inputParamsJson='''{\n",
        "    \"kubectl_command\": \"f\\\\\"kubectl scale --replicas=0 sts {source_alpha_sts[0]} -n {namespace}\\\\\"\"\n",
        "    }''')\n",
        "task.configure(printOutput=True)\n",
        "(err, hdl, args) = task.validate(vars=vars())\n",
        "if err is None:\n",
        "    task.execute(k8s_kubectl_command, lego_printer=k8s_kubectl_command_printer, hdl=hdl, args=args)"
      ]
    },
    {
      "cell_type": "markdown",
      "id": "872cbaf6-ee66-4830-8d4a-e218d0ced867",
      "metadata": {
        "name": "Step-7",
        "orderProperties": [],
        "tags": [],
        "title": "Step-7"
      },
      "source": [
        "<h2 id=\"Scale-Down-Zero-Nodes-on-source-cluster\">Delete PVCs for non-leader alphas</h2>\n",
        "<p>This step makes sure that the actual data and cache for the non-leader alphas is deleted&nbsp;</p>"
      ]
    },
    {
      "cell_type": "code",
      "execution_count": 184,
      "id": "b13a4eb6-2886-46b2-b105-fbeca37a9c74",
      "metadata": {
        "customAction": true,
        "execution_data": {
          "last_date_success_run_cell": "2023-09-01T18:15:56.404Z"
        },
        "jupyter": {
          "source_hidden": true
        },
        "name": "Get PVC names to delete on non-leader alphas",
        "orderProperties": [],
        "tags": [],
        "title": "Get PVC names to delete on non-leader alphas"
      },
      "outputs": [
        {
          "name": "stdout",
          "output_type": "stream",
          "text": [
            "Commands created to delete non-leader PVCs\n"
          ]
        }
      ],
      "source": [
        "non_leader_alpha_pvc_names = [f\"datadir-{node}\" for node in non_alpha_leader_nodes]\n",
        "\n",
        "kubectl_delete_pvc_command = f\"kubectl delete pvc -n {namespace} {' '.join(non_leader_alpha_pvc_names)} --force\"\n",
        "\n",
        "print(\"Commands created to delete non-leader PVCs\")\n"
      ]
    },
    {
      "cell_type": "code",
      "execution_count": 131,
      "id": "082481fb-6309-4cd1-9d9f-df9de928bc7d",
      "metadata": {
        "actionBashCommand": false,
        "actionCategories": [
          "CATEGORY_TYPE_CLOUDOPS",
          "CATEGORY_TYPE_DEVOPS",
          "CATEGORY_TYPE_SRE",
          "CATEGORY_TYPE_K8S",
          "CATEGORY_TYPE_K8S_KUBECTL"
        ],
        "actionDescription": "Execute kubectl command.",
        "actionEntryFunction": "k8s_kubectl_command",
        "actionIsCheck": false,
        "actionIsRemediation": false,
        "actionNeedsCredential": true,
        "actionNextHop": null,
        "actionNextHopParameterMapping": null,
        "actionNouns": null,
        "actionOutputType": "ACTION_OUTPUT_TYPE_STR",
        "actionSupportsIteration": true,
        "actionSupportsPoll": true,
        "actionTitle": "Kubectl command",
        "actionType": "LEGO_TYPE_K8S",
        "actionVerbs": null,
        "actionVersion": "1.0.0",
        "action_modified": false,
        "action_uuid": "8cd969c4db1d03d54d258e2c119e90aa914888abb4d5376b775ade8233bf3ae7",
        "continueOnError": false,
        "credentialsJson": {
          "credential_id": "16972f66-a07a-4730-93fb-3d35250c4fc5",
          "credential_name": "k8sss",
          "credential_type": "CONNECTOR_TYPE_K8S"
        },
        "description": "Execute kubectl command.",
        "execution_data": {
          "last_date_success_run_cell": "2023-09-01T10:55:46.533Z"
        },
        "id": 1,
        "index": 1,
        "inputData": [
          {
            "kubectl_command": {
              "constant": false,
              "value": "kubectl_delete_pvc_command"
            }
          }
        ],
        "inputschema": [
          {
            "properties": {
              "kubectl_command": {
                "description": "kubectl command eg \"kubectl get pods --all-namespaces\"",
                "title": "Kubectl Command",
                "type": "string"
              }
            },
            "required": [
              "kubectl_command"
            ],
            "title": "k8s_kubectl_command",
            "type": "object"
          }
        ],
        "jupyter": {
          "source_hidden": true
        },
        "language": "python",
        "legotype": "LEGO_TYPE_K8S",
        "name": "Delete PVC's for non-leadear alphas",
        "orderProperties": [
          "kubectl_command"
        ],
        "printOutput": true,
        "tags": [
          "k8s_kubectl_command"
        ],
        "title": "Delete PVC's for non-leadear alphas",
        "uuid": "8cd969c4db1d03d54d258e2c119e90aa914888abb4d5376b775ade8233bf3ae7",
        "version": "1.0.0"
      },
      "outputs": [
        {
          "name": "stdout",
          "output_type": "stream",
          "text": [
            "Error while executing: (Error occurred while executing command kubectl delete pvc -n dg-ops datadir-bulk01-dgraph-alpha-1 datadir-bulk01-dgraph-alpha-2 --force warning: Immediate deletion does not wait for confirmation that the running resource has been terminated. The resource may continue to run on the cluster indefinitely.\n",
            ")\n",
            "Reason: None\n",
            "\n",
            "Execution Failed: Error: (Error occurred while executing command kubectl delete pvc -n dg-ops datadir-bulk01-dgraph-alpha-1 datadir-bulk01-dgraph-alpha-2 --force warning: Immediate deletion does not wait for confirmation that the running resource has been terminated. The resource may continue to run on the cluster indefinitely.\n",
            ")\n",
            "Reason: None\n",
            "\n",
            "  Task Parameters: {'kubectl_command': 'kubectl delete pvc -n dg-ops datadir-bulk01-dgraph-alpha-1 datadir-bulk01-dgraph-alpha-2 --force'}\n"
          ]
        },
        {
          "ename": "ApiException",
          "evalue": "(Error occurred while executing command kubectl delete pvc -n dg-ops datadir-bulk01-dgraph-alpha-1 datadir-bulk01-dgraph-alpha-2 --force warning: Immediate deletion does not wait for confirmation that the running resource has been terminated. The resource may continue to run on the cluster indefinitely.\n)\nReason: None\n",
          "output_type": "error",
          "traceback": [
            "\u001b[0;31m---------------------------------------------------------------------------\u001b[0m",
            "\u001b[0;31mApiException\u001b[0m                              Traceback (most recent call last)",
            "\u001b[0;32m/tmp/ipykernel_2542/1427233786.py\u001b[0m in \u001b[0;36m<module>\u001b[0;34m\u001b[0m\n\u001b[1;32m     59\u001b[0m \u001b[0;34m(\u001b[0m\u001b[0merr\u001b[0m\u001b[0;34m,\u001b[0m \u001b[0mhdl\u001b[0m\u001b[0;34m,\u001b[0m \u001b[0margs\u001b[0m\u001b[0;34m)\u001b[0m \u001b[0;34m=\u001b[0m \u001b[0mtask\u001b[0m\u001b[0;34m.\u001b[0m\u001b[0mvalidate\u001b[0m\u001b[0;34m(\u001b[0m\u001b[0mvars\u001b[0m\u001b[0;34m=\u001b[0m\u001b[0mvars\u001b[0m\u001b[0;34m(\u001b[0m\u001b[0;34m)\u001b[0m\u001b[0;34m)\u001b[0m\u001b[0;34m\u001b[0m\u001b[0;34m\u001b[0m\u001b[0m\n\u001b[1;32m     60\u001b[0m \u001b[0;32mif\u001b[0m \u001b[0merr\u001b[0m \u001b[0;32mis\u001b[0m \u001b[0;32mNone\u001b[0m\u001b[0;34m:\u001b[0m\u001b[0;34m\u001b[0m\u001b[0;34m\u001b[0m\u001b[0m\n\u001b[0;32m---> 61\u001b[0;31m     \u001b[0mtask\u001b[0m\u001b[0;34m.\u001b[0m\u001b[0mexecute\u001b[0m\u001b[0;34m(\u001b[0m\u001b[0mk8s_kubectl_command\u001b[0m\u001b[0;34m,\u001b[0m \u001b[0mlego_printer\u001b[0m\u001b[0;34m=\u001b[0m\u001b[0mk8s_kubectl_command_printer\u001b[0m\u001b[0;34m,\u001b[0m \u001b[0mhdl\u001b[0m\u001b[0;34m=\u001b[0m\u001b[0mhdl\u001b[0m\u001b[0;34m,\u001b[0m \u001b[0margs\u001b[0m\u001b[0;34m=\u001b[0m\u001b[0margs\u001b[0m\u001b[0;34m)\u001b[0m\u001b[0;34m\u001b[0m\u001b[0;34m\u001b[0m\u001b[0m\n\u001b[0m",
            "\u001b[0;32m/opt/conda/lib/python3.9/site-packages/unskript/fwk/workflow.py\u001b[0m in \u001b[0;36mexecute\u001b[0;34m(self, lego_callback, hdl, args, lego_printer)\u001b[0m\n\u001b[1;32m    550\u001b[0m \u001b[0;34m\u001b[0m\u001b[0m\n\u001b[1;32m    551\u001b[0m             \u001b[0;32mif\u001b[0m \u001b[0mself\u001b[0m\u001b[0;34m.\u001b[0m\u001b[0mworkflow\u001b[0m\u001b[0;34m.\u001b[0m\u001b[0mcatch_exceptions\u001b[0m \u001b[0;32mis\u001b[0m \u001b[0;32mFalse\u001b[0m\u001b[0;34m:\u001b[0m\u001b[0;34m\u001b[0m\u001b[0;34m\u001b[0m\u001b[0m\n\u001b[0;32m--> 552\u001b[0;31m                 \u001b[0;32mraise\u001b[0m \u001b[0me\u001b[0m\u001b[0;34m\u001b[0m\u001b[0;34m\u001b[0m\u001b[0m\n\u001b[0m\u001b[1;32m    553\u001b[0m \u001b[0;34m\u001b[0m\u001b[0m\n\u001b[1;32m    554\u001b[0m         \u001b[0;32mif\u001b[0m \u001b[0mself\u001b[0m\u001b[0;34m.\u001b[0m\u001b[0mworkflow\u001b[0m\u001b[0;34m.\u001b[0m\u001b[0mcheck_run\u001b[0m\u001b[0;34m:\u001b[0m\u001b[0;34m\u001b[0m\u001b[0;34m\u001b[0m\u001b[0m\n",
            "\u001b[0;32m/opt/conda/lib/python3.9/site-packages/unskript/fwk/workflow.py\u001b[0m in \u001b[0;36mexecute\u001b[0;34m(self, lego_callback, hdl, args, lego_printer)\u001b[0m\n\u001b[1;32m    476\u001b[0m         \u001b[0mcheck_output\u001b[0m \u001b[0;34m=\u001b[0m \u001b[0mCheckOutput\u001b[0m\u001b[0;34m(\u001b[0m\u001b[0mstatus\u001b[0m\u001b[0;34m=\u001b[0m\u001b[0mCheckOutputStatus\u001b[0m\u001b[0;34m.\u001b[0m\u001b[0mSUCCESS\u001b[0m\u001b[0;34m)\u001b[0m\u001b[0;34m\u001b[0m\u001b[0;34m\u001b[0m\u001b[0m\n\u001b[1;32m    477\u001b[0m         \u001b[0;32mtry\u001b[0m\u001b[0;34m:\u001b[0m\u001b[0;34m\u001b[0m\u001b[0;34m\u001b[0m\u001b[0m\n\u001b[0;32m--> 478\u001b[0;31m             \u001b[0mself\u001b[0m\u001b[0;34m.\u001b[0m\u001b[0moutput\u001b[0m \u001b[0;34m=\u001b[0m \u001b[0mself\u001b[0m\u001b[0;34m.\u001b[0m\u001b[0mexecute_worker\u001b[0m\u001b[0;34m(\u001b[0m\u001b[0mlego_callback\u001b[0m\u001b[0;34m,\u001b[0m \u001b[0mhdl\u001b[0m\u001b[0;34m,\u001b[0m \u001b[0margs\u001b[0m\u001b[0;34m)\u001b[0m\u001b[0;34m\u001b[0m\u001b[0;34m\u001b[0m\u001b[0m\n\u001b[0m\u001b[1;32m    479\u001b[0m             \u001b[0mretval\u001b[0m \u001b[0;34m=\u001b[0m \u001b[0;34m(\u001b[0m\u001b[0mself\u001b[0m\u001b[0;34m.\u001b[0m\u001b[0moutput\u001b[0m\u001b[0;34m,\u001b[0m \u001b[0;34m''\u001b[0m\u001b[0;34m)\u001b[0m\u001b[0;34m\u001b[0m\u001b[0;34m\u001b[0m\u001b[0m\n\u001b[1;32m    480\u001b[0m             \u001b[0;32mif\u001b[0m \u001b[0mself\u001b[0m\u001b[0;34m.\u001b[0m\u001b[0mworkflow\u001b[0m\u001b[0;34m.\u001b[0m\u001b[0mglobal_vars\u001b[0m \u001b[0;34m!=\u001b[0m \u001b[0;32mNone\u001b[0m\u001b[0;34m:\u001b[0m\u001b[0;34m\u001b[0m\u001b[0;34m\u001b[0m\u001b[0m\n",
            "\u001b[0;32m/opt/conda/lib/python3.9/site-packages/unskript/fwk/workflow.py\u001b[0m in \u001b[0;36mexecute_worker\u001b[0;34m(self, lego_callback, hdl, args)\u001b[0m\n\u001b[1;32m    464\u001b[0m         \u001b[0;32mexcept\u001b[0m \u001b[0mException\u001b[0m \u001b[0;32mas\u001b[0m \u001b[0me\u001b[0m\u001b[0;34m:\u001b[0m\u001b[0;34m\u001b[0m\u001b[0;34m\u001b[0m\u001b[0m\n\u001b[1;32m    465\u001b[0m             \u001b[0mprint\u001b[0m\u001b[0;34m(\u001b[0m\u001b[0;34mf\"Error while executing: {e}\"\u001b[0m\u001b[0;34m)\u001b[0m\u001b[0;34m\u001b[0m\u001b[0;34m\u001b[0m\u001b[0m\n\u001b[0;32m--> 466\u001b[0;31m             \u001b[0;32mraise\u001b[0m \u001b[0me\u001b[0m\u001b[0;34m\u001b[0m\u001b[0;34m\u001b[0m\u001b[0m\n\u001b[0m\u001b[1;32m    467\u001b[0m \u001b[0;34m\u001b[0m\u001b[0m\n\u001b[1;32m    468\u001b[0m         \u001b[0;32mreturn\u001b[0m \u001b[0mres\u001b[0m\u001b[0;34m\u001b[0m\u001b[0;34m\u001b[0m\u001b[0m\n",
            "\u001b[0;32m/opt/conda/lib/python3.9/site-packages/unskript/fwk/workflow.py\u001b[0m in \u001b[0;36mexecute_worker\u001b[0;34m(self, lego_callback, hdl, args)\u001b[0m\n\u001b[1;32m    444\u001b[0m                     \u001b[0;32mif\u001b[0m \u001b[0mself\u001b[0m\u001b[0;34m.\u001b[0m\u001b[0mworkflow\u001b[0m\u001b[0;34m.\u001b[0m\u001b[0mglobal_vars\u001b[0m \u001b[0;32mis\u001b[0m \u001b[0;32mnot\u001b[0m \u001b[0;32mNone\u001b[0m\u001b[0;34m:\u001b[0m\u001b[0;34m\u001b[0m\u001b[0;34m\u001b[0m\u001b[0m\n\u001b[1;32m    445\u001b[0m                         \u001b[0mself\u001b[0m\u001b[0;34m.\u001b[0m\u001b[0mworkflow\u001b[0m\u001b[0;34m.\u001b[0m\u001b[0mglobal_vars\u001b[0m\u001b[0;34m.\u001b[0m\u001b[0mupdate\u001b[0m\u001b[0;34m(\u001b[0m\u001b[0;34m{\u001b[0m\u001b[0;34m'unskript_task_error'\u001b[0m\u001b[0;34m:\u001b[0m \u001b[0me\u001b[0m\u001b[0;34m.\u001b[0m\u001b[0m__str__\u001b[0m\u001b[0;34m(\u001b[0m\u001b[0;34m)\u001b[0m\u001b[0;34m}\u001b[0m\u001b[0;34m)\u001b[0m\u001b[0;34m\u001b[0m\u001b[0;34m\u001b[0m\u001b[0m\n\u001b[0;32m--> 446\u001b[0;31m                     \u001b[0;32mraise\u001b[0m \u001b[0me\u001b[0m\u001b[0;34m\u001b[0m\u001b[0;34m\u001b[0m\u001b[0m\n\u001b[0m\u001b[1;32m    447\u001b[0m \u001b[0;34m\u001b[0m\u001b[0m\n\u001b[1;32m    448\u001b[0m         \u001b[0;32mexcept\u001b[0m \u001b[0mBeartypeCallHintPepParamException\u001b[0m \u001b[0;32mas\u001b[0m \u001b[0me\u001b[0m\u001b[0;34m:\u001b[0m\u001b[0;34m\u001b[0m\u001b[0;34m\u001b[0m\u001b[0m\n",
            "\u001b[0;32m/opt/conda/lib/python3.9/site-packages/unskript/fwk/workflow.py\u001b[0m in \u001b[0;36mexecute_worker\u001b[0;34m(self, lego_callback, hdl, args)\u001b[0m\n\u001b[1;32m    440\u001b[0m                         \u001b[0mres\u001b[0m \u001b[0;34m=\u001b[0m \u001b[0mlego_callback\u001b[0m\u001b[0;34m(\u001b[0m\u001b[0mhdl\u001b[0m\u001b[0;34m)\u001b[0m\u001b[0;34m\u001b[0m\u001b[0;34m\u001b[0m\u001b[0m\n\u001b[1;32m    441\u001b[0m                     \u001b[0;32melse\u001b[0m\u001b[0;34m:\u001b[0m\u001b[0;34m\u001b[0m\u001b[0;34m\u001b[0m\u001b[0m\n\u001b[0;32m--> 442\u001b[0;31m                         \u001b[0mres\u001b[0m \u001b[0;34m=\u001b[0m \u001b[0mlego_callback\u001b[0m\u001b[0;34m(\u001b[0m\u001b[0mhdl\u001b[0m\u001b[0;34m,\u001b[0m \u001b[0;34m**\u001b[0m\u001b[0margs\u001b[0m\u001b[0;34m)\u001b[0m\u001b[0;34m\u001b[0m\u001b[0;34m\u001b[0m\u001b[0m\n\u001b[0m\u001b[1;32m    443\u001b[0m                 \u001b[0;32mexcept\u001b[0m \u001b[0mException\u001b[0m \u001b[0;32mas\u001b[0m \u001b[0me\u001b[0m\u001b[0;34m:\u001b[0m\u001b[0;34m\u001b[0m\u001b[0;34m\u001b[0m\u001b[0m\n\u001b[1;32m    444\u001b[0m                     \u001b[0;32mif\u001b[0m \u001b[0mself\u001b[0m\u001b[0;34m.\u001b[0m\u001b[0mworkflow\u001b[0m\u001b[0;34m.\u001b[0m\u001b[0mglobal_vars\u001b[0m \u001b[0;32mis\u001b[0m \u001b[0;32mnot\u001b[0m \u001b[0;32mNone\u001b[0m\u001b[0;34m:\u001b[0m\u001b[0;34m\u001b[0m\u001b[0;34m\u001b[0m\u001b[0m\n",
            "\u001b[0;32m<string>\u001b[0m in \u001b[0;36mk8s_kubectl_command\u001b[0;34m(__beartype_func, __beartype_raise_exception, *args, **kwargs)\u001b[0m\n",
            "\u001b[0;32m/tmp/ipykernel_2542/1427233786.py\u001b[0m in \u001b[0;36mk8s_kubectl_command\u001b[0;34m(handle, kubectl_command)\u001b[0m\n\u001b[1;32m     41\u001b[0m \u001b[0;34m\u001b[0m\u001b[0m\n\u001b[1;32m     42\u001b[0m     \u001b[0;32mif\u001b[0m \u001b[0mresult\u001b[0m\u001b[0;34m.\u001b[0m\u001b[0mstderr\u001b[0m\u001b[0;34m:\u001b[0m\u001b[0;34m\u001b[0m\u001b[0;34m\u001b[0m\u001b[0m\n\u001b[0;32m---> 43\u001b[0;31m         \u001b[0;32mraise\u001b[0m \u001b[0mApiException\u001b[0m\u001b[0;34m(\u001b[0m\u001b[0;34mf\"Error occurred while executing command {kubectl_command} {result.stderr}\"\u001b[0m\u001b[0;34m)\u001b[0m\u001b[0;34m\u001b[0m\u001b[0;34m\u001b[0m\u001b[0m\n\u001b[0m\u001b[1;32m     44\u001b[0m \u001b[0;34m\u001b[0m\u001b[0m\n\u001b[1;32m     45\u001b[0m     \u001b[0;32mreturn\u001b[0m \u001b[0mresult\u001b[0m\u001b[0;34m.\u001b[0m\u001b[0mstdout\u001b[0m\u001b[0;34m\u001b[0m\u001b[0;34m\u001b[0m\u001b[0m\n",
            "\u001b[0;31mApiException\u001b[0m: (Error occurred while executing command kubectl delete pvc -n dg-ops datadir-bulk01-dgraph-alpha-1 datadir-bulk01-dgraph-alpha-2 --force warning: Immediate deletion does not wait for confirmation that the running resource has been terminated. The resource may continue to run on the cluster indefinitely.\n)\nReason: None\n"
          ]
        }
      ],
      "source": [
        "#\n",
        "# Copyright (c) 2022 unSkript.com\n",
        "# All rights reserved.\n",
        "#\n",
        "\n",
        "from pydantic import BaseModel, Field\n",
        "from kubernetes.client.rest import ApiException\n",
        "\n",
        "\n",
        "from beartype import beartype\n",
        "@beartype\n",
        "def k8s_kubectl_command_printer(output):\n",
        "    if output is None:\n",
        "        return\n",
        "    print(output)\n",
        "\n",
        "\n",
        "@beartype\n",
        "def k8s_kubectl_command(handle, kubectl_command: str) -> str:\n",
        "    \"\"\"k8s_kubectl_command executes the given kubectl command on the pod\n",
        "\n",
        "        :type handle: object\n",
        "        :param handle: Object returned from the Task validate method\n",
        "\n",
        "        :type kubectl_command: str\n",
        "        :param kubectl_command: The Actual kubectl command, like kubectl get ns, etc..\n",
        "\n",
        "        :rtype: String, Output of the command in python string format or Empty String\n",
        "        in case of Error.\n",
        "    \"\"\"\n",
        "    if handle.client_side_validation is not True:\n",
        "        print(f\"K8S Connector is invalid: {handle}\")\n",
        "        return str()\n",
        "\n",
        "    result = handle.run_native_cmd(kubectl_command)\n",
        "\n",
        "    if result is None:\n",
        "        print(\n",
        "            f\"Error while executing command ({kubectl_command}) (empty response)\")\n",
        "        return \"\"\n",
        "\n",
        "    if result.stderr:\n",
        "        raise ApiException(f\"Error occurred while executing command {kubectl_command} {result.stderr}\")\n",
        "\n",
        "    return result.stdout\n",
        "\n",
        "\n",
        "task = Task(Workflow())\n",
        "task.configure(credentialsJson='''{\n",
        "    \"credential_name\": \"k8sss\",\n",
        "    \"credential_type\": \"CONNECTOR_TYPE_K8S\",\n",
        "    \"credential_id\": \"16972f66-a07a-4730-93fb-3d35250c4fc5\"\n",
        "}''')\n",
        "task.configure(inputParamsJson='''{\n",
        "    \"kubectl_command\": \"kubectl_delete_pvc_command\"\n",
        "    }''')\n",
        "\n",
        "task.configure(printOutput=True)\n",
        "(err, hdl, args) = task.validate(vars=vars())\n",
        "if err is None:\n",
        "    task.execute(k8s_kubectl_command, lego_printer=k8s_kubectl_command_printer, hdl=hdl, args=args)"
      ]
    },
    {
      "cell_type": "markdown",
      "id": "e4c30034-6e7f-4e8c-915f-f56cf175c8c2",
      "metadata": {
        "jupyter": {
          "source_hidden": false
        },
        "name": "Step-8",
        "orderProperties": [],
        "tags": [],
        "title": "Step-8"
      },
      "source": [
        "<h2 id=\"Scale-Down-Zero-Nodes-on-source-cluster\"><a id=\"Step-7\" target=\"_self\" rel=\"nofollow\"></a>Scale Down Zero Nodes on source cluster</h2>\n",
        "<p>&nbsp;</p>\n",
        "<blockquote>\n",
        "<div class=\"page\" title=\"Page 2\">\n",
        "<div class=\"section\">\n",
        "<div class=\"layoutArea\">\n",
        "<div class=\"column\">\n",
        "<pre>kubectl scale --replicas=0 sts zerostatefulset -n &lt;namespace&gt;\n",
        "</pre>\n",
        "<pre># Check for pods to be gone with the following command\n",
        "kubectl get pods -n &lt;namespace&gt; | grep zerostatefulset &lt;-- Should\n",
        "return no pods\n",
        "</pre>\n",
        "</div>\n",
        "</div>\n",
        "</div>\n",
        "</div>\n",
        "</blockquote>"
      ]
    },
    {
      "cell_type": "code",
      "execution_count": 132,
      "id": "13c87285-a496-4496-bd2e-4ddb7dcdb79f",
      "metadata": {
        "accessType": "ACCESS_TYPE_UNSPECIFIED",
        "actionBashCommand": false,
        "actionNeedsCredential": true,
        "actionRequiredLinesInCode": [],
        "actionSupportsIteration": true,
        "actionSupportsPoll": true,
        "action_modified": false,
        "action_uuid": "4d3b4c6153e14622f42b332b7c7b8f7043577971f64edc5be6b5f8b40d5b89d1",
        "continueOnError": false,
        "createTime": "1970-01-01T00:00:00Z",
        "credentialsJson": {
          "credential_id": "16972f66-a07a-4730-93fb-3d35250c4fc5",
          "credential_name": "k8sss",
          "credential_type": "CONNECTOR_TYPE_K8S"
        },
        "currentVersion": "0.1.0",
        "description": "Execute the given Kubectl command.",
        "execution_data": {
          "last_date_success_run_cell": "2023-09-01T17:42:27.238Z"
        },
        "id": 51,
        "index": 51,
        "inputData": [
          {
            "kubectl_command": {
              "constant": false,
              "value": "f\"kubectl scale --replicas=0 sts {source_zero_sts[0]} -n {namespace}\""
            }
          }
        ],
        "inputschema": [
          {
            "properties": {
              "kubectl_command": {
                "description": "kubectl command eg \"kubectl get pods --all-namespaces\"",
                "title": "Kubectl Command",
                "type": "string"
              }
            },
            "required": [
              "kubectl_command"
            ],
            "title": "k8s_kubectl_command",
            "type": "object"
          }
        ],
        "jupyter": {
          "source_hidden": true
        },
        "legotype": "LEGO_TYPE_K8S",
        "name": "Scale down Zero group to 0 replicas",
        "nouns": [],
        "orderProperties": [
          "kubectl_command"
        ],
        "output": {
          "type": ""
        },
        "printOutput": true,
        "tags": [
          "k8s_kubectl_command"
        ],
        "title": "Scale down Zero group to 0 replicas",
        "verbs": []
      },
      "outputs": [
        {
          "name": "stdout",
          "output_type": "stream",
          "text": [
            "statefulset.apps/bulk01-dgraph-zero scaled\n",
            "\n"
          ]
        }
      ],
      "source": [
        "#\n",
        "# Copyright (c) 2022 unSkript.com\n",
        "# All rights reserved.\n",
        "#\n",
        "\n",
        "from pydantic import BaseModel, Field\n",
        "\n",
        "\n",
        "from beartype import beartype\n",
        "@beartype\n",
        "def k8s_kubectl_command_printer(output):\n",
        "    if output is None:\n",
        "        return\n",
        "    print(output)\n",
        "\n",
        "\n",
        "@beartype\n",
        "def k8s_kubectl_command(handle, kubectl_command: str) -> str:\n",
        "    \"\"\"k8s_kubectl_command executes the given kubectl command on the pod\n",
        "\n",
        "        :type handle: object\n",
        "        :param handle: Object returned from the Task validate method\n",
        "\n",
        "        :type kubectl_command: str\n",
        "        :param kubectl_command: The Actual kubectl command, like kubectl get ns, etc..\n",
        "\n",
        "        :rtype: String, Output of the command in python string format or Empty String in case of Error.\n",
        "    \"\"\"\n",
        "    if handle.client_side_validation != True:\n",
        "        print(f\"K8S Connector is invalid: {handle}\")\n",
        "        return str()\n",
        "\n",
        "    result = handle.run_native_cmd(kubectl_command)\n",
        "    if result is None or hasattr(result, \"stderr\") is False or result.stderr is None:\n",
        "        print(\n",
        "            f\"Error while executing command ({kubectl_command}): {result.stderr}\")\n",
        "        return str()\n",
        "\n",
        "    return result.stdout\n",
        "\n",
        "\n",
        "task = Task(Workflow())\n",
        "task.configure(credentialsJson='''{\n",
        "    \"credential_name\": \"k8sss\",\n",
        "    \"credential_type\": \"CONNECTOR_TYPE_K8S\",\n",
        "    \"credential_id\": \"16972f66-a07a-4730-93fb-3d35250c4fc5\"\n",
        "}''')\n",
        "task.configure(inputParamsJson='''{\n",
        "    \"kubectl_command\": \"f\\\\\"kubectl scale --replicas=0 sts {source_zero_sts[0]} -n {namespace}\\\\\"\"\n",
        "    }''')\n",
        "task.configure(printOutput=True)\n",
        "(err, hdl, args) = task.validate(vars=vars())\n",
        "if err is None:\n",
        "    task.execute(k8s_kubectl_command, lego_printer=k8s_kubectl_command_printer, hdl=hdl, args=args)"
      ]
    },
    {
      "cell_type": "code",
      "execution_count": 135,
      "id": "e56f4b45-1661-461a-b661-2d16e4319a30",
      "metadata": {
        "accessType": "ACCESS_TYPE_UNSPECIFIED",
        "actionBashCommand": false,
        "actionNeedsCredential": true,
        "actionRequiredLinesInCode": [],
        "actionSupportsIteration": true,
        "actionSupportsPoll": true,
        "action_modified": false,
        "action_uuid": "4d3b4c6153e14622f42b332b7c7b8f7043577971f64edc5be6b5f8b40d5b89d1",
        "continueOnError": false,
        "createTime": "1970-01-01T00:00:00Z",
        "credentialsJson": {
          "credential_id": "16972f66-a07a-4730-93fb-3d35250c4fc5",
          "credential_name": "k8sss",
          "credential_type": "CONNECTOR_TYPE_K8S"
        },
        "currentVersion": "0.1.0",
        "description": "Execute the given Kubectl command.",
        "execution_data": {
          "last_date_success_run_cell": "2023-09-01T17:42:47.408Z"
        },
        "id": 51,
        "index": 51,
        "inputData": [
          {
            "kubectl_command": {
              "constant": false,
              "value": "f\"kubectl get pods -n {namespace} -o name | wc -l | xargs echo -n\""
            }
          }
        ],
        "inputschema": [
          {
            "properties": {
              "kubectl_command": {
                "description": "kubectl command eg \"kubectl get pods --all-namespaces\"",
                "title": "Kubectl Command",
                "type": "string"
              }
            },
            "required": [
              "kubectl_command"
            ],
            "title": "k8s_kubectl_command",
            "type": "object"
          }
        ],
        "jupyter": {
          "source_hidden": true
        },
        "legotype": "LEGO_TYPE_K8S",
        "name": "Verify All Pods are deleted",
        "nouns": [],
        "orderProperties": [
          "kubectl_command"
        ],
        "output": {
          "type": ""
        },
        "outputParams": {
          "output_name": "pods_after_scale_down",
          "output_name_enabled": true
        },
        "pollData": {
          "poll_check_output_type": "VALUE_TYPE_STR",
          "poll_check_output_value": "str(0)",
          "poll_enabled": true,
          "poll_step_interval": 5,
          "poll_timeout": 20
        },
        "printOutput": true,
        "tags": [
          "k8s_kubectl_command"
        ],
        "title": "Verify All Pods are deleted",
        "verbs": []
      },
      "outputs": [
        {
          "name": "stdout",
          "output_type": "stream",
          "text": [
            "poll_enabled=False poll_check_output_type=<TaskPollValueTypeEnum.string: 'VALUE_TYPE_STR'> poll_check_output_value='str(0)' poll_step_interval=5 poll_timeout=20\n",
            "0\n"
          ]
        }
      ],
      "source": [
        "#\n",
        "# Copyright (c) 2022 unSkript.com\n",
        "# All rights reserved.\n",
        "#\n",
        "\n",
        "from pydantic import BaseModel, Field\n",
        "\n",
        "\n",
        "from beartype import beartype\n",
        "@beartype\n",
        "def k8s_kubectl_command_printer(output):\n",
        "    if output is None:\n",
        "        return\n",
        "    print(output)\n",
        "\n",
        "\n",
        "@beartype\n",
        "def k8s_kubectl_command(handle, kubectl_command: str) -> str:\n",
        "    \"\"\"k8s_kubectl_command executes the given kubectl command on the pod\n",
        "\n",
        "        :type handle: object\n",
        "        :param handle: Object returned from the Task validate method\n",
        "\n",
        "        :type kubectl_command: str\n",
        "        :param kubectl_command: The Actual kubectl command, like kubectl get ns, etc..\n",
        "\n",
        "        :rtype: String, Output of the command in python string format or Empty String in case of Error.\n",
        "    \"\"\"\n",
        "    if handle.client_side_validation != True:\n",
        "        print(f\"K8S Connector is invalid: {handle}\")\n",
        "        return str()\n",
        "\n",
        "    result = handle.run_native_cmd(kubectl_command)\n",
        "    if result is None or hasattr(result, \"stderr\") is False or result.stderr is None:\n",
        "        print(\n",
        "            f\"Error while executing command ({kubectl_command}): {result.stderr}\")\n",
        "        return str()\n",
        "\n",
        "    return result.stdout\n",
        "\n",
        "\n",
        "task = Task(Workflow())\n",
        "task.configure(credentialsJson='''{\n",
        "    \"credential_name\": \"k8sss\",\n",
        "    \"credential_type\": \"CONNECTOR_TYPE_K8S\",\n",
        "    \"credential_id\": \"16972f66-a07a-4730-93fb-3d35250c4fc5\"\n",
        "}''')\n",
        "task.configure(inputParamsJson='''{\n",
        "    \"kubectl_command\": \"f\\\\\"kubectl get pods -n {namespace} -o name | wc -l | xargs echo -n\\\\\"\"\n",
        "    }''')\n",
        "task.configure(pollJson='''{\n",
        "    \"poll_check_output_type\": \"VALUE_TYPE_STR\",\n",
        "    \"poll_check_output_value\": \"str(0)\",\n",
        "    \"poll_step_interval\": 5,\n",
        "    \"poll_timeout\": 20,\n",
        "    \"poll_enabled\": false\n",
        "    }''')\n",
        "task.configure(outputName=\"pods_after_scale_down\")\n",
        "task.configure(printOutput=True)\n",
        "(err, hdl, args) = task.validate(vars=vars())\n",
        "if err is None:\n",
        "    task.execute(k8s_kubectl_command, lego_printer=k8s_kubectl_command_printer, hdl=hdl, args=args)"
      ]
    },
    {
      "cell_type": "code",
      "execution_count": 185,
      "id": "60df4834-46d9-46c7-834d-1e7abb45c305",
      "metadata": {
        "customAction": true,
        "execution_data": {
          "last_date_success_run_cell": "2023-09-01T18:16:43.417Z"
        },
        "name": "Check Pods Count",
        "orderProperties": [],
        "tags": [],
        "title": "Check Pods Count"
      },
      "outputs": [
        {
          "name": "stdout",
          "output_type": "stream",
          "text": [
            "All Pods have been deleted\n"
          ]
        }
      ],
      "source": [
        "if int(pods_after_scale_down) == 0:\n",
        "    print(\"All Pods have been deleted\")\n",
        "else:\n",
        "    print(\"Pods still scaling down, please wait...\")\n",
        "    print(\"To check the status, run the previous action again Verify All Pods are deleted\")\n"
      ]
    },
    {
      "cell_type": "markdown",
      "id": "fb31ccfd-0006-48dd-9b99-7f51d3245079",
      "metadata": {
        "jupyter": {
          "source_hidden": false
        },
        "name": "Step-9",
        "orderProperties": [],
        "tags": [],
        "title": "Step-9"
      },
      "source": [
        "<h2 id=\"Scale-up-Zero-group-to-3-replicas-on-target-namespace\"><a id=\"Step-8\" target=\"_self\" rel=\"nofollow\"></a>Scale up Zero group to 3 replicas.</h2>\n",
        "<blockquote>\n",
        "<div class=\"page\" title=\"Page 3\">\n",
        "<div class=\"section\">\n",
        "<div class=\"layoutArea\">\n",
        "<div class=\"column\">\n",
        "<pre>kubectl scale --replicas=3 sts zerostatefulset -n &lt;namespace&gt;\n",
        "</pre>\n",
        "<pre># Check for all 3 pods to be up and ready  with the following command\n",
        "kubectl get pods -n &lt;namespace&gt; | grep zerostatefulset\n",
        "### Wait  for all  3 pods to be up and READY state 1/1\n",
        "</pre>\n",
        "</div>\n",
        "</div>\n",
        "</div>\n",
        "</div>\n",
        "</blockquote>"
      ]
    },
    {
      "cell_type": "code",
      "execution_count": 138,
      "id": "ecc5a177-e605-4c9d-aa8a-6a5f8cce1564",
      "metadata": {
        "accessType": "ACCESS_TYPE_UNSPECIFIED",
        "actionBashCommand": false,
        "actionNeedsCredential": true,
        "actionRequiredLinesInCode": [],
        "actionSupportsIteration": true,
        "actionSupportsPoll": true,
        "action_modified": false,
        "action_uuid": "4d3b4c6153e14622f42b332b7c7b8f7043577971f64edc5be6b5f8b40d5b89d1",
        "condition_enabled": true,
        "continueOnError": false,
        "createTime": "1970-01-01T00:00:00Z",
        "credentialsJson": {
          "credential_id": "16972f66-a07a-4730-93fb-3d35250c4fc5",
          "credential_name": "k8sss",
          "credential_type": "CONNECTOR_TYPE_K8S"
        },
        "currentVersion": "0.1.0",
        "description": "Execute the given Kubectl command.",
        "execution_data": {
          "last_date_success_run_cell": "2023-09-01T17:43:08.094Z"
        },
        "id": 51,
        "index": 51,
        "inputData": [
          {
            "kubectl_command": {
              "constant": false,
              "value": "f\"kubectl scale --replicas=3 sts {source_zero_sts[0]} -n {namespace}\""
            }
          }
        ],
        "inputschema": [
          {
            "properties": {
              "kubectl_command": {
                "description": "kubectl command eg \"kubectl get pods --all-namespaces\"",
                "title": "Kubectl Command",
                "type": "string"
              }
            },
            "required": [
              "kubectl_command"
            ],
            "title": "k8s_kubectl_command",
            "type": "object"
          }
        ],
        "jupyter": {
          "source_hidden": true
        },
        "legotype": "LEGO_TYPE_K8S",
        "name": "Scale up Zero group to 3 replicas on source namespace",
        "nouns": [],
        "orderProperties": [
          "kubectl_command"
        ],
        "output": {
          "type": ""
        },
        "printOutput": true,
        "startcondition": "int(pods_after_scale_down) == 0",
        "tags": [
          "k8s_kubectl_command"
        ],
        "title": "Scale up Zero group to 3 replicas on source namespace",
        "verbs": []
      },
      "outputs": [
        {
          "name": "stdout",
          "output_type": "stream",
          "text": [
            "statefulset.apps/bulk01-dgraph-zero scaled\n",
            "\n"
          ]
        }
      ],
      "source": [
        "#\n",
        "# Copyright (c) 2022 unSkript.com\n",
        "# All rights reserved.\n",
        "#\n",
        "\n",
        "from pydantic import BaseModel, Field\n",
        "\n",
        "\n",
        "from beartype import beartype\n",
        "@beartype\n",
        "def k8s_kubectl_command_printer(output):\n",
        "    if output is None:\n",
        "        return\n",
        "    print(output)\n",
        "\n",
        "\n",
        "@beartype\n",
        "def k8s_kubectl_command(handle, kubectl_command: str) -> str:\n",
        "    \"\"\"k8s_kubectl_command executes the given kubectl command on the pod\n",
        "\n",
        "        :type handle: object\n",
        "        :param handle: Object returned from the Task validate method\n",
        "\n",
        "        :type kubectl_command: str\n",
        "        :param kubectl_command: The Actual kubectl command, like kubectl get ns, etc..\n",
        "\n",
        "        :rtype: String, Output of the command in python string format or Empty String in case of Error.\n",
        "    \"\"\"\n",
        "    if handle.client_side_validation != True:\n",
        "        print(f\"K8S Connector is invalid: {handle}\")\n",
        "        return str()\n",
        "\n",
        "    result = handle.run_native_cmd(kubectl_command)\n",
        "    if result is None or hasattr(result, \"stderr\") is False or result.stderr is None:\n",
        "        print(\n",
        "            f\"Error while executing command ({kubectl_command}): {result.stderr}\")\n",
        "        return str()\n",
        "\n",
        "    return result.stdout\n",
        "\n",
        "\n",
        "task = Task(Workflow())\n",
        "task.configure(credentialsJson='''{\n",
        "    \"credential_name\": \"k8sss\",\n",
        "    \"credential_type\": \"CONNECTOR_TYPE_K8S\",\n",
        "    \"credential_id\": \"16972f66-a07a-4730-93fb-3d35250c4fc5\"\n",
        "}''')\n",
        "task.configure(inputParamsJson='''{\n",
        "    \"kubectl_command\": \"f\\\\\"kubectl scale --replicas=3 sts {source_zero_sts[0]} -n {namespace}\\\\\"\"\n",
        "    }''')\n",
        "task.configure(conditionsJson='''{\n",
        "    \"condition_enabled\": true,\n",
        "    \"condition_cfg\": \"int(pods_after_scale_down) == 0\",\n",
        "    \"condition_result\": true\n",
        "    }''')\n",
        "task.configure(printOutput=True)\n",
        "(err, hdl, args) = task.validate(vars=vars())\n",
        "if err is None:\n",
        "    task.execute(k8s_kubectl_command, lego_printer=k8s_kubectl_command_printer, hdl=hdl, args=args)"
      ]
    },
    {
      "cell_type": "code",
      "execution_count": 145,
      "id": "9fa3db8f-9b64-4842-bdba-4b86fd77ff3e",
      "metadata": {
        "accessType": "ACCESS_TYPE_UNSPECIFIED",
        "actionBashCommand": false,
        "actionNeedsCredential": true,
        "actionRequiredLinesInCode": [],
        "actionSupportsIteration": true,
        "actionSupportsPoll": true,
        "action_modified": false,
        "action_uuid": "4d3b4c6153e14622f42b332b7c7b8f7043577971f64edc5be6b5f8b40d5b89d1",
        "continueOnError": false,
        "createTime": "1970-01-01T00:00:00Z",
        "credentialsJson": {
          "credential_id": "16972f66-a07a-4730-93fb-3d35250c4fc5",
          "credential_name": "k8sss",
          "credential_type": "CONNECTOR_TYPE_K8S"
        },
        "currentVersion": "0.1.0",
        "description": "Execute the given Kubectl command.",
        "execution_data": {
          "last_date_success_run_cell": "2023-09-01T17:43:53.458Z"
        },
        "id": 51,
        "index": 51,
        "inputData": [
          {
            "kubectl_command": {
              "constant": false,
              "value": "f\"kubectl get pods -n {namespace} | grep 1/1 | grep -i zero | wc -l | xargs echo -n\""
            }
          }
        ],
        "inputschema": [
          {
            "properties": {
              "kubectl_command": {
                "description": "kubectl command eg \"kubectl get pods --all-namespaces\"",
                "title": "Kubectl Command",
                "type": "string"
              }
            },
            "required": [
              "kubectl_command"
            ],
            "title": "k8s_kubectl_command",
            "type": "object"
          }
        ],
        "jupyter": {
          "source_hidden": true
        },
        "legotype": "LEGO_TYPE_K8S",
        "name": "Verify Zero group has been scaled to 3 replicas",
        "nouns": [],
        "orderProperties": [
          "kubectl_command"
        ],
        "output": {
          "type": ""
        },
        "outputParams": {
          "output_name": "after_scale_up_zero_pods",
          "output_name_enabled": true,
          "output_runbook_enabled": false,
          "output_runbook_name": ""
        },
        "pollData": {
          "poll_check_output_type": "VALUE_TYPE_STR",
          "poll_check_output_value": "str(3)",
          "poll_enabled": true,
          "poll_step_interval": 5,
          "poll_timeout": 60
        },
        "printOutput": true,
        "tags": [
          "k8s_kubectl_command"
        ],
        "title": "Verify Zero group has been scaled to 3 replicas",
        "verbs": []
      },
      "outputs": [
        {
          "name": "stdout",
          "output_type": "stream",
          "text": [
            "poll_enabled=False poll_check_output_type=<TaskPollValueTypeEnum.string: 'VALUE_TYPE_STR'> poll_check_output_value='str(3)' poll_step_interval=5 poll_timeout=60\n",
            "3\n"
          ]
        }
      ],
      "source": [
        "#\n",
        "# Copyright (c) 2022 unSkript.com\n",
        "# All rights reserved.\n",
        "#\n",
        "\n",
        "from pydantic import BaseModel, Field\n",
        "\n",
        "\n",
        "from beartype import beartype\n",
        "@beartype\n",
        "def k8s_kubectl_command_printer(output):\n",
        "    if output is None:\n",
        "        return\n",
        "    print(output)\n",
        "\n",
        "\n",
        "@beartype\n",
        "def k8s_kubectl_command(handle, kubectl_command: str) -> str:\n",
        "    \"\"\"k8s_kubectl_command executes the given kubectl command on the pod\n",
        "\n",
        "        :type handle: object\n",
        "        :param handle: Object returned from the Task validate method\n",
        "\n",
        "        :type kubectl_command: str\n",
        "        :param kubectl_command: The Actual kubectl command, like kubectl get ns, etc..\n",
        "\n",
        "        :rtype: String, Output of the command in python string format or Empty String in case of Error.\n",
        "    \"\"\"\n",
        "    if handle.client_side_validation != True:\n",
        "        print(f\"K8S Connector is invalid: {handle}\")\n",
        "        return str()\n",
        "\n",
        "    result = handle.run_native_cmd(kubectl_command)\n",
        "    if result is None or hasattr(result, \"stderr\") is False or result.stderr is None:\n",
        "        print(\n",
        "            f\"Error while executing command ({kubectl_command}): {result.stderr}\")\n",
        "        return str()\n",
        "\n",
        "    return result.stdout\n",
        "\n",
        "\n",
        "task = Task(Workflow())\n",
        "task.configure(credentialsJson='''{\n",
        "    \"credential_name\": \"k8sss\",\n",
        "    \"credential_type\": \"CONNECTOR_TYPE_K8S\",\n",
        "    \"credential_id\": \"16972f66-a07a-4730-93fb-3d35250c4fc5\"\n",
        "}''')\n",
        "task.configure(inputParamsJson='''{\n",
        "    \"kubectl_command\": \"f\\\\\"kubectl get pods -n {namespace} | grep 1/1 | grep -i zero | wc -l | xargs echo -n\\\\\"\"\n",
        "    }''')\n",
        "task.configure(pollJson='''{\n",
        "    \"poll_check_output_type\": \"VALUE_TYPE_STR\",\n",
        "    \"poll_check_output_value\": \"str(3)\",\n",
        "    \"poll_enabled\": false,\n",
        "    \"poll_step_interval\": 5,\n",
        "    \"poll_timeout\": 60\n",
        "    }''')\n",
        "task.configure(outputName=\"after_scale_up_zero_pods\")\n",
        "task.configure(printOutput=True)\n",
        "(err, hdl, args) = task.validate(vars=vars())\n",
        "if err is None:\n",
        "    task.execute(k8s_kubectl_command, lego_printer=k8s_kubectl_command_printer, hdl=hdl, args=args)"
      ]
    },
    {
      "cell_type": "code",
      "execution_count": 146,
      "id": "04cd45d6-5c23-4da3-aa5d-ae8bd717151d",
      "metadata": {
        "customAction": true,
        "execution_data": {
          "last_date_success_run_cell": "2023-09-01T17:43:55.042Z"
        },
        "jupyter": {
          "source_hidden": true
        },
        "name": "Check How many Replicas are created ",
        "orderProperties": [],
        "tags": [],
        "title": "Check How many Replicas are created "
      },
      "outputs": [
        {
          "name": "stdout",
          "output_type": "stream",
          "text": [
            "All zero pods successfully scaled up!\n"
          ]
        }
      ],
      "source": [
        "if int(after_scale_up_zero_pods) == 3:\n",
        "    print(\"All zero pods successfully scaled up!\")\n",
        "else:\n",
        "    print(\"Zero pods still scaling up, please wait...\")\n",
        "    print(\"To check the status, run the previous action again -Verify Zero group has been scaled to 3 replicas\")"
      ]
    },
    {
      "cell_type": "markdown",
      "id": "cda1113d-2e5d-45ea-9b0e-ee0f3f7c7186",
      "metadata": {
        "jupyter": {
          "source_hidden": false
        },
        "name": "Step-10",
        "orderProperties": [],
        "tags": [],
        "title": "Step-10"
      },
      "source": [
        "<h2 id=\"Assign-the-UIDs,-transaction-timestamps-and-namespace-Ids-to-the-Zero-endpoint-from-Step-3\"><a id=\"Step-9\" target=\"_self\" rel=\"nofollow\"></a>Assign the UIDs, transaction timestamps and namespace Ids to the Zero endpoint from Step-3</h2>\n",
        "<ul>\n",
        "<li>Find the leader Zero nodes in the cluster by following Step-2</li>\n",
        "<li>Execute the assign endpoints on the leader zero with the values from Step-3</li>\n",
        "</ul>\n",
        "<blockquote>\n",
        "<div class=\"page\" title=\"Page 3\">\n",
        "<div class=\"section\">\n",
        "<div class=\"layoutArea\">\n",
        "<div class=\"column\">\n",
        "<pre>kubectl exec -it zerostatefulset-0 -n &lt;namespace&gt; &ndash;- /bin/sh\n",
        "(above command is for zerostatefulset-0 is leader) -- Use the pod name\n",
        "of the leader zero\n",
        "</pre>\n",
        "<pre>#Run the following Assign calls with values captured at step 3\n",
        "curl \"localhost:6080/assign?what=uids&amp;num=xxxx\"\n",
        "curl \"localhost:6080/assign?what=timestamps&amp;num=xxxx\"\n",
        "curl \"localhost:6080/assign?what=nsids&amp;num=xxxx\"\n",
        "</pre>\n",
        "</div>\n",
        "</div>\n",
        "</div>\n",
        "</div>\n",
        "</blockquote>"
      ]
    },
    {
      "cell_type": "code",
      "execution_count": 147,
      "id": "272fd21d-811b-4927-b9a2-9fe012791e17",
      "metadata": {
        "customAction": true,
        "execution_data": {
          "last_date_success_run_cell": "2023-09-01T17:44:06.058Z"
        },
        "jupyter": {
          "source_hidden": true
        },
        "name": "Assign Commands",
        "orderProperties": [],
        "tags": [],
        "title": "Assign Commands"
      },
      "outputs": [
        {
          "name": "stdout",
          "output_type": "stream",
          "text": [
            "kubectl exec bulk01-dgraph-zero-0 -n dg-ops -- sh -c '{' && '.join(curl_cmds)}'\n"
          ]
        }
      ],
      "source": [
        "# maxid_cmd = f'curl \"localhost:6080/assign?what=uids&num={max_uid}\"'\n",
        "# maxts_cmd = f'curl \"localhost:6080/assign?what=timestamps&num={max_ts}\"'\n",
        "# maxnsid_cmd = f'curl \"localhost:6080/assign?what=nsids&num={max_nsid}\"'\n",
        "\n",
        "curl_cmds = [\n",
        "    f'curl \"localhost:6080/assign?what=uids&num={max_uid}\"',\n",
        "    f'curl \"localhost:6080/assign?what=timestamps&num={max_ts}\"',\n",
        "    f'curl \"localhost:6080/assign?what=nsids&num={max_nsid}\"'\n",
        "]\n",
        "\n",
        "curl_command = f\"kubectl exec {zero_leader_node} -n {namespace} -- sh -c '{{' && '.join(curl_cmds)}}'\"\n",
        "\n",
        "print(curl_command)\n"
      ]
    },
    {
      "cell_type": "code",
      "execution_count": 148,
      "id": "4d83d5fe-8dc1-44a4-862b-83959c35b287",
      "metadata": {
        "accessType": "ACCESS_TYPE_UNSPECIFIED",
        "actionBashCommand": false,
        "actionNeedsCredential": true,
        "actionRequiredLinesInCode": [],
        "actionSupportsIteration": true,
        "actionSupportsPoll": true,
        "action_modified": false,
        "action_uuid": "4d3b4c6153e14622f42b332b7c7b8f7043577971f64edc5be6b5f8b40d5b89d1",
        "condition_enabled": true,
        "continueOnError": false,
        "createTime": "1970-01-01T00:00:00Z",
        "credentialsJson": {
          "credential_id": "16972f66-a07a-4730-93fb-3d35250c4fc5",
          "credential_name": "k8sss",
          "credential_type": "CONNECTOR_TYPE_K8S"
        },
        "currentVersion": "0.1.0",
        "description": "Execute the given Kubectl command.",
        "execution_data": {
          "last_date_success_run_cell": "2023-09-01T17:44:12.194Z"
        },
        "id": 51,
        "index": 51,
        "inputData": [
          {
            "kubectl_command": {
              "constant": false,
              "value": "curl_command"
            }
          }
        ],
        "inputschema": [
          {
            "properties": {
              "kubectl_command": {
                "description": "kubectl command eg \"kubectl get pods --all-namespaces\"",
                "title": "Kubectl Command",
                "type": "string"
              }
            },
            "required": [
              "kubectl_command"
            ],
            "title": "k8s_kubectl_command",
            "type": "object"
          }
        ],
        "jupyter": {
          "source_hidden": true
        },
        "legotype": "LEGO_TYPE_K8S",
        "name": "Assign the UIDs, transaction timestamps and namespace Ids to the Zero endpoint using the values captured in Step 3",
        "nouns": [],
        "orderProperties": [
          "kubectl_command"
        ],
        "output": {
          "type": ""
        },
        "printOutput": true,
        "startcondition": "int(after_scale_up_zero_pods) == 3",
        "tags": [
          "k8s_kubectl_command"
        ],
        "title": "Assign the UIDs, transaction timestamps and namespace Ids to the Zero endpoint using the values captured in Step 3",
        "verbs": []
      },
      "outputs": [
        {
          "name": "stdout",
          "output_type": "stream",
          "text": [
            "\n"
          ]
        }
      ],
      "source": [
        "#\n",
        "# Copyright (c) 2022 unSkript.com\n",
        "# All rights reserved.\n",
        "#\n",
        "\n",
        "from pydantic import BaseModel, Field\n",
        "\n",
        "\n",
        "from beartype import beartype\n",
        "@beartype\n",
        "def k8s_kubectl_command_printer(output):\n",
        "    if output is None:\n",
        "        return\n",
        "    print(output)\n",
        "\n",
        "\n",
        "@beartype\n",
        "def k8s_kubectl_command(handle, kubectl_command: str) -> str:\n",
        "    \"\"\"k8s_kubectl_command executes the given kubectl command on the pod\n",
        "\n",
        "        :type handle: object\n",
        "        :param handle: Object returned from the Task validate method\n",
        "\n",
        "        :type kubectl_command: str\n",
        "        :param kubectl_command: The Actual kubectl command, like kubectl get ns, etc..\n",
        "\n",
        "        :rtype: String, Output of the command in python string format or Empty String in case of Error.\n",
        "    \"\"\"\n",
        "    if handle.client_side_validation != True:\n",
        "        print(f\"K8S Connector is invalid: {handle}\")\n",
        "        return str()\n",
        "\n",
        "    result = handle.run_native_cmd(kubectl_command)\n",
        "    if result is None or hasattr(result, \"stderr\") is False or result.stderr is None:\n",
        "        print(\n",
        "            f\"Error while executing command ({kubectl_command}): {result.stderr}\")\n",
        "        return str()\n",
        "\n",
        "    return result.stdout\n",
        "\n",
        "\n",
        "task = Task(Workflow())\n",
        "task.configure(credentialsJson='''{\n",
        "    \"credential_name\": \"k8sss\",\n",
        "    \"credential_type\": \"CONNECTOR_TYPE_K8S\",\n",
        "    \"credential_id\": \"16972f66-a07a-4730-93fb-3d35250c4fc5\"\n",
        "}''')\n",
        "task.configure(inputParamsJson='''{\n",
        "    \"kubectl_command\": \"curl_command\"\n",
        "    }''')\n",
        "task.configure(conditionsJson='''{\n",
        "    \"condition_enabled\": true,\n",
        "    \"condition_cfg\": \"int(after_scale_up_zero_pods) == 3\",\n",
        "    \"condition_result\": true\n",
        "    }''')\n",
        "task.configure(printOutput=True)\n",
        "(err, hdl, args) = task.validate(vars=vars())\n",
        "if err is None:\n",
        "    task.execute(k8s_kubectl_command, lego_printer=k8s_kubectl_command_printer, hdl=hdl, args=args)"
      ]
    },
    {
      "cell_type": "markdown",
      "id": "80ef527b-04ed-46df-8e9d-f2854aba382b",
      "metadata": {
        "jupyter": {
          "source_hidden": false
        },
        "name": "Step-11",
        "orderProperties": [],
        "tags": [],
        "title": "Step-11"
      },
      "source": [
        "<h2 id=\"Scale-the-Alpha-Group-up-to-just-1-replica.-Alpha-0-Should-startup-on-Target-namespace\"><a id=\"Step-10\" target=\"_self\" rel=\"nofollow\"></a>Scale the Alpha Group up to just 1 replica. (Alpha-0 Should startup)&nbsp;</h2>\n",
        "<blockquote>\n",
        "<div class=\"page\" title=\"Page 3\">\n",
        "<div class=\"section\">\n",
        "<div class=\"layoutArea\">\n",
        "<div class=\"column\">\n",
        "<pre>kubectl scale --replicas=1 sts alphastatefulset -n &lt;namespace&gt;\n",
        "</pre>\n",
        "</div>\n",
        "</div>\n",
        "</div>\n",
        "</div>\n",
        "</blockquote>"
      ]
    },
    {
      "cell_type": "code",
      "execution_count": 149,
      "id": "1190864c-251d-4df1-b768-541ef2fccde2",
      "metadata": {
        "accessType": "ACCESS_TYPE_UNSPECIFIED",
        "actionBashCommand": false,
        "actionNeedsCredential": true,
        "actionRequiredLinesInCode": [],
        "actionSupportsIteration": true,
        "actionSupportsPoll": true,
        "action_modified": false,
        "action_uuid": "4d3b4c6153e14622f42b332b7c7b8f7043577971f64edc5be6b5f8b40d5b89d1",
        "continueOnError": false,
        "createTime": "1970-01-01T00:00:00Z",
        "credentialsJson": {
          "credential_id": "16972f66-a07a-4730-93fb-3d35250c4fc5",
          "credential_name": "k8sss",
          "credential_type": "CONNECTOR_TYPE_K8S"
        },
        "currentVersion": "0.1.0",
        "description": "Execute the given Kubectl command.",
        "execution_data": {
          "last_date_success_run_cell": "2023-09-01T17:44:49.949Z"
        },
        "id": 51,
        "index": 51,
        "inputData": [
          {
            "kubectl_command": {
              "constant": false,
              "value": "f\"kubectl scale --replicas=1 sts {source_alpha_sts[0]} -n {namespace}\""
            }
          }
        ],
        "inputschema": [
          {
            "properties": {
              "kubectl_command": {
                "description": "kubectl command eg \"kubectl get pods --all-namespaces\"",
                "title": "Kubectl Command",
                "type": "string"
              }
            },
            "required": [
              "kubectl_command"
            ],
            "title": "k8s_kubectl_command",
            "type": "object"
          }
        ],
        "jupyter": {
          "source_hidden": true
        },
        "legotype": "LEGO_TYPE_K8S",
        "name": "Scale Alpha group to just 1 replica ",
        "nouns": [],
        "orderProperties": [
          "kubectl_command"
        ],
        "output": {
          "type": ""
        },
        "printOutput": true,
        "tags": [
          "k8s_kubectl_command"
        ],
        "title": "Scale Alpha group to just 1 replica ",
        "verbs": []
      },
      "outputs": [
        {
          "name": "stdout",
          "output_type": "stream",
          "text": [
            "statefulset.apps/bulk01-dgraph-alpha scaled\n",
            "\n"
          ]
        }
      ],
      "source": [
        "#\n",
        "# Copyright (c) 2022 unSkript.com\n",
        "# All rights reserved.\n",
        "#\n",
        "\n",
        "from pydantic import BaseModel, Field\n",
        "\n",
        "\n",
        "from beartype import beartype\n",
        "@beartype\n",
        "def k8s_kubectl_command_printer(output):\n",
        "    if output is None:\n",
        "        return\n",
        "    print(output)\n",
        "\n",
        "\n",
        "@beartype\n",
        "def k8s_kubectl_command(handle, kubectl_command: str) -> str:\n",
        "    \"\"\"k8s_kubectl_command executes the given kubectl command on the pod\n",
        "\n",
        "        :type handle: object\n",
        "        :param handle: Object returned from the Task validate method\n",
        "\n",
        "        :type kubectl_command: str\n",
        "        :param kubectl_command: The Actual kubectl command, like kubectl get ns, etc..\n",
        "\n",
        "        :rtype: String, Output of the command in python string format or Empty String in case of Error.\n",
        "    \"\"\"\n",
        "    if handle.client_side_validation != True:\n",
        "        print(f\"K8S Connector is invalid: {handle}\")\n",
        "        return str()\n",
        "\n",
        "    result = handle.run_native_cmd(kubectl_command)\n",
        "    if result is None or hasattr(result, \"stderr\") is False or result.stderr is None:\n",
        "        print(\n",
        "            f\"Error while executing command ({kubectl_command}): {result.stderr}\")\n",
        "        return str()\n",
        "\n",
        "    return result.stdout\n",
        "\n",
        "\n",
        "task = Task(Workflow())\n",
        "task.configure(credentialsJson='''{\n",
        "    \"credential_name\": \"k8sss\",\n",
        "    \"credential_type\": \"CONNECTOR_TYPE_K8S\",\n",
        "    \"credential_id\": \"16972f66-a07a-4730-93fb-3d35250c4fc5\"\n",
        "}''')\n",
        "task.configure(inputParamsJson='''{\n",
        "    \"kubectl_command\": \"f\\\\\"kubectl scale --replicas=1 sts {source_alpha_sts[0]} -n {namespace}\\\\\"\"\n",
        "    }''')\n",
        "task.configure(printOutput=True)\n",
        "(err, hdl, args) = task.validate(vars=vars())\n",
        "if err is None:\n",
        "    task.execute(k8s_kubectl_command, lego_printer=k8s_kubectl_command_printer, hdl=hdl, args=args)"
      ]
    },
    {
      "cell_type": "code",
      "execution_count": 152,
      "id": "8a323e6c-548e-4d6a-bd71-3d873a326a9c",
      "metadata": {
        "accessType": "ACCESS_TYPE_UNSPECIFIED",
        "actionBashCommand": false,
        "actionNeedsCredential": true,
        "actionRequiredLinesInCode": [],
        "actionSupportsIteration": true,
        "actionSupportsPoll": true,
        "action_modified": false,
        "action_uuid": "4d3b4c6153e14622f42b332b7c7b8f7043577971f64edc5be6b5f8b40d5b89d1",
        "continueOnError": false,
        "createTime": "1970-01-01T00:00:00Z",
        "credentialsJson": {
          "credential_id": "16972f66-a07a-4730-93fb-3d35250c4fc5",
          "credential_name": "k8sss",
          "credential_type": "CONNECTOR_TYPE_K8S"
        },
        "currentVersion": "0.1.0",
        "description": "Execute the given Kubectl command.",
        "execution_data": {
          "last_date_success_run_cell": "2023-09-01T17:45:16.288Z"
        },
        "id": 51,
        "index": 51,
        "inputData": [
          {
            "kubectl_command": {
              "constant": false,
              "value": "f\"kubectl get pods -n {namespace} | grep Running | wc -l | xargs echo -n\""
            }
          }
        ],
        "inputschema": [
          {
            "properties": {
              "kubectl_command": {
                "description": "kubectl command eg \"kubectl get pods --all-namespaces\"",
                "title": "Kubectl Command",
                "type": "string"
              }
            },
            "required": [
              "kubectl_command"
            ],
            "title": "k8s_kubectl_command",
            "type": "object"
          }
        ],
        "jupyter": {
          "source_hidden": true
        },
        "legotype": "LEGO_TYPE_K8S",
        "name": "Get Number of Pods that exist",
        "nouns": [],
        "orderProperties": [
          "kubectl_command"
        ],
        "output": {
          "type": ""
        },
        "outputParams": {
          "output_name": "scale_first_pod",
          "output_name_enabled": true,
          "output_runbook_enabled": false,
          "output_runbook_name": ""
        },
        "pollData": {
          "poll_check_output_type": "VALUE_TYPE_STR",
          "poll_check_output_value": "str(4)",
          "poll_enabled": true,
          "poll_step_interval": 5,
          "poll_timeout": 60
        },
        "printOutput": true,
        "tags": [
          "k8s_kubectl_command"
        ],
        "title": "Get Number of Pods that exist",
        "verbs": []
      },
      "outputs": [
        {
          "name": "stdout",
          "output_type": "stream",
          "text": [
            "poll_enabled=False poll_check_output_type=<TaskPollValueTypeEnum.string: 'VALUE_TYPE_STR'> poll_check_output_value='str(4)' poll_step_interval=5 poll_timeout=60\n",
            "4\n"
          ]
        }
      ],
      "source": [
        "#\n",
        "# Copyright (c) 2022 unSkript.com\n",
        "# All rights reserved.\n",
        "#\n",
        "\n",
        "from pydantic import BaseModel, Field\n",
        "\n",
        "\n",
        "from beartype import beartype\n",
        "@beartype\n",
        "def k8s_kubectl_command_printer(output):\n",
        "    if output is None:\n",
        "        return\n",
        "    print(output)\n",
        "\n",
        "\n",
        "@beartype\n",
        "def k8s_kubectl_command(handle, kubectl_command: str) -> str:\n",
        "    \"\"\"k8s_kubectl_command executes the given kubectl command on the pod\n",
        "\n",
        "        :type handle: object\n",
        "        :param handle: Object returned from the Task validate method\n",
        "\n",
        "        :type kubectl_command: str\n",
        "        :param kubectl_command: The Actual kubectl command, like kubectl get ns, etc..\n",
        "\n",
        "        :rtype: String, Output of the command in python string format or Empty String in case of Error.\n",
        "    \"\"\"\n",
        "    if handle.client_side_validation != True:\n",
        "        print(f\"K8S Connector is invalid: {handle}\")\n",
        "        return str()\n",
        "\n",
        "    result = handle.run_native_cmd(kubectl_command)\n",
        "    if result is None or hasattr(result, \"stderr\") is False or result.stderr is None:\n",
        "        print(\n",
        "            f\"Error while executing command ({kubectl_command}): {result.stderr}\")\n",
        "        return str()\n",
        "\n",
        "    return result.stdout\n",
        "\n",
        "\n",
        "task = Task(Workflow())\n",
        "task.configure(credentialsJson='''{\n",
        "    \"credential_name\": \"k8sss\",\n",
        "    \"credential_type\": \"CONNECTOR_TYPE_K8S\",\n",
        "    \"credential_id\": \"16972f66-a07a-4730-93fb-3d35250c4fc5\"\n",
        "}''')\n",
        "task.configure(inputParamsJson='''{\n",
        "    \"kubectl_command\": \"f\\\\\"kubectl get pods -n {namespace} | grep Running | wc -l | xargs echo -n\\\\\"\"\n",
        "    }''')\n",
        "task.configure(pollJson='''{\n",
        "    \"poll_check_output_type\": \"VALUE_TYPE_STR\",\n",
        "    \"poll_check_output_value\": \"str(4)\",\n",
        "    \"poll_enabled\": false,\n",
        "    \"poll_step_interval\": 5,\n",
        "    \"poll_timeout\": 60\n",
        "    }''')\n",
        "task.configure(outputName=\"scale_first_pod\")\n",
        "task.configure(printOutput=True)\n",
        "(err, hdl, args) = task.validate(vars=vars())\n",
        "if err is None:\n",
        "    task.execute(k8s_kubectl_command, lego_printer=k8s_kubectl_command_printer, hdl=hdl, args=args)"
      ]
    },
    {
      "cell_type": "code",
      "execution_count": 153,
      "id": "39a1cfd6-2956-4545-952c-6231f7d12aba",
      "metadata": {
        "customAction": true,
        "execution_data": {
          "last_date_success_run_cell": "2023-09-01T17:45:19.728Z"
        },
        "jupyter": {
          "source_hidden": true
        },
        "name": "Verify Number of Pods",
        "orderProperties": [],
        "tags": [],
        "title": "Verify Number of Pods"
      },
      "outputs": [
        {
          "name": "stdout",
          "output_type": "stream",
          "text": [
            "First Alpha pod is scaled up!\n"
          ]
        }
      ],
      "source": [
        "if int(scale_first_pod) == 4:\n",
        "    print(\"First Alpha pod is scaled up!\")\n",
        "else:\n",
        "    print(\"Alpha pod is still scaling up, please wait... \")\n",
        "    print(\"Check the status again by running the previous action- Get Number of Pods that exist\")"
      ]
    },
    {
      "cell_type": "markdown",
      "id": "f0c2276b-4085-4748-a37e-7afbe6afc58c",
      "metadata": {
        "jupyter": {
          "source_hidden": false
        },
        "name": "Step-12",
        "orderProperties": [],
        "tags": [],
        "title": "Step-12"
      },
      "source": [
        "<h2 id=\"Wait-for-the-Schema-to-lazy-load-on-Alpha-0\"><a id=\"Step-11\" target=\"_self\" rel=\"nofollow\"></a>Wait for the Schema to lazy-load on Alpha-0</h2>\n",
        "<ul>\n",
        "<li>Check Grafana-Loki for progress</li>\n",
        "<li>Look at the Logs as the schema lazy loads</li>\n",
        "</ul>\n",
        "<div class=\"page\" title=\"Page 3\">\n",
        "<div class=\"section\">\n",
        "<div class=\"layoutArea\">\n",
        "<div class=\"column\">\n",
        "<blockquote>\n",
        "<p>kubectl logs alphastatefulset-0 -n &lt;namespace&gt; -f<br><br></p>\n",
        "</blockquote>\n",
        "<ul>\n",
        "<li>Wait until ready state becomes 1/1 for alphastatefulset-0 pod</li>\n",
        "</ul>\n",
        "<blockquote>\n",
        "<div class=\"page\" title=\"Page 3\">\n",
        "<div class=\"layoutArea\">\n",
        "<div class=\"column\">\n",
        "<p>IMPORTANT: This process could sometime take 30-45mins mins to complete if there are lot of predicates (like our shared clusters).</p>\n",
        "</div>\n",
        "</div>\n",
        "</div>\n",
        "</blockquote>\n",
        "<div class=\"page\" title=\"Page 3\">\n",
        "<div class=\"layoutArea\">\n",
        "<div class=\"column\">\n",
        "<p>&nbsp;</p>\n",
        "<blockquote>\n",
        "<div class=\"page\" title=\"Page 3\">\n",
        "<div class=\"section\">\n",
        "<div class=\"layoutArea\">\n",
        "<div class=\"column\">\n",
        "<pre>kubectl get pods -n &lt;namespace&gt;\n",
        "NAME                     READY   STATUS    RESTARTS\n",
        "alphastatefulset-0       1/1     Running   0\n",
        "</pre>\n",
        "</div>\n",
        "</div>\n",
        "</div>\n",
        "</div>\n",
        "</blockquote>\n",
        "</div>\n",
        "</div>\n",
        "</div>\n",
        "</div>\n",
        "</div>\n",
        "</div>\n",
        "</div>"
      ]
    },
    {
      "cell_type": "markdown",
      "id": "b9c866e3-8658-403c-9738-63f159e97fb0",
      "metadata": {
        "name": "Manually create a snapshot",
        "orderProperties": [],
        "tags": [],
        "title": "Manually create a snapshot"
      },
      "source": [
        "<p class=\"p1\">After Step-12 ,&nbsp; we need to run these commands to create a snapshot :</p>\n",
        "<ol class=\"ol1\">\n",
        "<li class=\"li1\">kubectl exec -ti pod/bulk01-dgraph-alpha-0 -n dgraph-test<span class=\"Apple-converted-space\">&nbsp; </span>-- bash</li>\n",
        "<li class=\"li1\">dgraph increment --num=10000</li>\n",
        "</ol>\n",
        "<p class=\"p1\">&nbsp;</p>\n",
        "<p class=\"p1\">&nbsp;</p>"
      ]
    },
    {
      "cell_type": "markdown",
      "id": "70406bcb-8de0-4e6f-b655-6c2c59415f6a",
      "metadata": {
        "jupyter": {
          "source_hidden": false
        },
        "name": "Step-13",
        "orderProperties": [],
        "tags": [],
        "title": "Step-13"
      },
      "source": [
        "<h2 id=\"Wait-for-Alpha-0-is-created-a-snapshot.-Check-logs-for-&#96;CreateSnapshot&#96;\"><a id=\"Step-12\" target=\"_self\" rel=\"nofollow\"></a>Wait for Alpha-0 is created a snapshot. Check logs for `CreateSnapshot`</h2>\n",
        "<blockquote>\n",
        "<div class=\"page\" title=\"Page 4\">\n",
        "<div class=\"section\">\n",
        "<div class=\"layoutArea\">\n",
        "<div class=\"column\">\n",
        "<pre>kubectl logs alphastatefulset-0 -n &lt;namespace&gt; -f | grep\n",
        "\"CreateSnapshot\"\n",
        "</pre>\n",
        "</div>\n",
        "</div>\n",
        "</div>\n",
        "</div>\n",
        "</blockquote>"
      ]
    },
    {
      "cell_type": "code",
      "execution_count": 155,
      "id": "4c264b03-76cb-4b83-b181-bd82b3998be2",
      "metadata": {
        "accessType": "ACCESS_TYPE_UNSPECIFIED",
        "actionBashCommand": false,
        "actionNeedsCredential": true,
        "actionRequiredLinesInCode": [],
        "actionSupportsIteration": true,
        "actionSupportsPoll": true,
        "action_modified": false,
        "action_uuid": "4d3b4c6153e14622f42b332b7c7b8f7043577971f64edc5be6b5f8b40d5b89d1",
        "condition_enabled": true,
        "continueOnError": false,
        "createTime": "1970-01-01T00:00:00Z",
        "credentialsJson": {
          "credential_id": "16972f66-a07a-4730-93fb-3d35250c4fc5",
          "credential_name": "k8sss",
          "credential_type": "CONNECTOR_TYPE_K8S"
        },
        "currentVersion": "0.1.0",
        "description": "Execute the given Kubectl command.",
        "execution_data": {
          "last_date_success_run_cell": "2023-09-01T17:48:43.917Z"
        },
        "id": 51,
        "index": 51,
        "inputData": [
          {
            "kubectl_command": {
              "constant": false,
              "value": "f\"kubectl logs {alpha_leader_node} -n {namespace} --tail=10000| grep 'Creating snapshot'\""
            }
          }
        ],
        "inputschema": [
          {
            "properties": {
              "kubectl_command": {
                "description": "kubectl command eg \"kubectl get pods --all-namespaces\"",
                "title": "Kubectl Command",
                "type": "string"
              }
            },
            "required": [
              "kubectl_command"
            ],
            "title": "k8s_kubectl_command",
            "type": "object"
          }
        ],
        "jupyter": {
          "source_hidden": true
        },
        "legotype": "LEGO_TYPE_K8S",
        "name": "Check Logs for CreateSnapshot Message",
        "nouns": [],
        "orderProperties": [
          "kubectl_command"
        ],
        "output": {
          "type": ""
        },
        "outputParams": {
          "output_name": "snapshot_log_message",
          "output_name_enabled": true
        },
        "printOutput": true,
        "startcondition": "int(scale_first_pod) == 4",
        "tags": [
          "k8s_kubectl_command"
        ],
        "title": "Check Logs for CreateSnapshot Message",
        "verbs": []
      },
      "outputs": [
        {
          "name": "stdout",
          "output_type": "stream",
          "text": [
            "I0901 17:47:02.376566      19 draft.go:627] Creating snapshot at Index: 5630, ReadTs: 5593\n",
            "\n"
          ]
        }
      ],
      "source": [
        "#\n",
        "# Copyright (c) 2022 unSkript.com\n",
        "# All rights reserved.\n",
        "#\n",
        "\n",
        "from pydantic import BaseModel, Field\n",
        "\n",
        "\n",
        "from beartype import beartype\n",
        "@beartype\n",
        "def k8s_kubectl_command_printer(output):\n",
        "    if output is None:\n",
        "        return\n",
        "    print(output)\n",
        "\n",
        "\n",
        "@beartype\n",
        "def k8s_kubectl_command(handle, kubectl_command: str) -> str:\n",
        "    \"\"\"k8s_kubectl_command executes the given kubectl command on the pod\n",
        "\n",
        "        :type handle: object\n",
        "        :param handle: Object returned from the Task validate method\n",
        "\n",
        "        :type kubectl_command: str\n",
        "        :param kubectl_command: The Actual kubectl command, like kubectl get ns, etc..\n",
        "\n",
        "        :rtype: String, Output of the command in python string format or Empty String in case of Error.\n",
        "    \"\"\"\n",
        "    if handle.client_side_validation != True:\n",
        "        print(f\"K8S Connector is invalid: {handle}\")\n",
        "        return str()\n",
        "\n",
        "    result = handle.run_native_cmd(kubectl_command)\n",
        "    if result is None or hasattr(result, \"stderr\") is False or result.stderr is None:\n",
        "        print(\n",
        "            f\"Error while executing command ({kubectl_command}): {result.stderr}\")\n",
        "        return str()\n",
        "\n",
        "    return result.stdout\n",
        "\n",
        "\n",
        "task = Task(Workflow())\n",
        "task.configure(credentialsJson='''{\n",
        "    \"credential_name\": \"k8sss\",\n",
        "    \"credential_type\": \"CONNECTOR_TYPE_K8S\",\n",
        "    \"credential_id\": \"16972f66-a07a-4730-93fb-3d35250c4fc5\"\n",
        "}''')\n",
        "task.configure(inputParamsJson='''{\n",
        "    \"kubectl_command\": \"f\\\\\"kubectl logs {alpha_leader_node} -n {namespace} --tail=10000| grep 'Creating snapshot'\\\\\"\"\n",
        "    }''')\n",
        "task.configure(conditionsJson='''{\n",
        "    \"condition_enabled\": true,\n",
        "    \"condition_cfg\": \"int(scale_first_pod) == 4\",\n",
        "    \"condition_result\": true\n",
        "    }''')\n",
        "task.configure(outputName=\"snapshot_log_message\")\n",
        "task.configure(printOutput=True)\n",
        "(err, hdl, args) = task.validate(vars=vars())\n",
        "if err is None:\n",
        "    task.execute(k8s_kubectl_command, lego_printer=k8s_kubectl_command_printer, hdl=hdl, args=args)"
      ]
    },
    {
      "cell_type": "code",
      "execution_count": 156,
      "id": "ea9f3c18-7d00-49a9-98af-6b0630b2e2f3",
      "metadata": {
        "customAction": true,
        "execution_data": {
          "last_date_success_run_cell": "2023-09-01T17:49:33.872Z"
        },
        "jupyter": {
          "source_hidden": true
        },
        "name": "Verify Snapshot Create Message",
        "orderProperties": [],
        "tags": [],
        "title": "Verify Snapshot Create Message"
      },
      "outputs": [
        {
          "name": "stdout",
          "output_type": "stream",
          "text": [
            "Alpha-0 successfully created snapshot\n"
          ]
        }
      ],
      "source": [
        "assert snapshot_log_message.find('Creating snapshot') != -1\n",
        "\n",
        "# If not asserted, snapshot was created successfuly \n",
        "print(\"Alpha-0 successfully created snapshot\")"
      ]
    },
    {
      "cell_type": "markdown",
      "id": "02a1d5cc-21e3-48ad-b379-088b1ec6dc24",
      "metadata": {
        "jupyter": {
          "source_hidden": false
        },
        "name": "Step-14",
        "orderProperties": [],
        "tags": [],
        "title": "Step-14"
      },
      "source": [
        "<h2 id=\"Scale-up-Alpha-group-to-2-replicas\"><a id=\"Step-13\" target=\"_self\" rel=\"nofollow\"></a>Scale up Alpha group to 2 replicas</h2>\n",
        "<blockquote>\n",
        "<div class=\"page\" title=\"Page 4\">\n",
        "<div class=\"section\">\n",
        "<div class=\"layoutArea\">\n",
        "<div class=\"column\">\n",
        "<pre>kubectl scale &ndash;-replicas=2 sts alphastatefulset -n &lt;namespace&gt;\n",
        "</pre>\n",
        "</div>\n",
        "</div>\n",
        "</div>\n",
        "</div>\n",
        "</blockquote>\n",
        "<p>Check Alpha-0 logs for a \"Snapshot Streaming\" to ensure snapshot transfer happened</p>\n",
        "<blockquote>\n",
        "<div class=\"page\" title=\"Page 4\">\n",
        "<div class=\"section\">\n",
        "<div class=\"layoutArea\">\n",
        "<div class=\"column\">\n",
        "<pre>kubectl logs alphastatefulset-0  -n &lt;namespace&gt; -f | grep -i \"Snapshot\n",
        "Streaming\"\n",
        "</pre>\n",
        "</div>\n",
        "</div>\n",
        "</div>\n",
        "</div>\n",
        "</blockquote>"
      ]
    },
    {
      "cell_type": "code",
      "execution_count": 157,
      "id": "27d970c8-60ce-4ff2-8582-a94de1c40dd4",
      "metadata": {
        "accessType": "ACCESS_TYPE_UNSPECIFIED",
        "actionBashCommand": false,
        "actionNeedsCredential": true,
        "actionRequiredLinesInCode": [],
        "actionSupportsIteration": true,
        "actionSupportsPoll": true,
        "action_modified": false,
        "action_uuid": "4d3b4c6153e14622f42b332b7c7b8f7043577971f64edc5be6b5f8b40d5b89d1",
        "condition_enabled": true,
        "continueOnError": false,
        "createTime": "1970-01-01T00:00:00Z",
        "credentialsJson": {
          "credential_id": "16972f66-a07a-4730-93fb-3d35250c4fc5",
          "credential_name": "k8sss",
          "credential_type": "CONNECTOR_TYPE_K8S"
        },
        "currentVersion": "0.1.0",
        "description": "Execute the given Kubectl command.",
        "execution_data": {
          "last_date_success_run_cell": "2023-09-01T17:49:38.179Z"
        },
        "id": 51,
        "index": 51,
        "inputData": [
          {
            "kubectl_command": {
              "constant": false,
              "value": "f\"kubectl scale --replicas=2 sts {source_alpha_sts[0]} -n {namespace}\""
            }
          }
        ],
        "inputschema": [
          {
            "properties": {
              "kubectl_command": {
                "description": "kubectl command eg \"kubectl get pods --all-namespaces\"",
                "title": "Kubectl Command",
                "type": "string"
              }
            },
            "required": [
              "kubectl_command"
            ],
            "title": "k8s_kubectl_command",
            "type": "object"
          }
        ],
        "jupyter": {
          "source_hidden": true
        },
        "legotype": "LEGO_TYPE_K8S",
        "name": "Scale up Alpha Group to 2 Replicas ",
        "nouns": [],
        "orderProperties": [
          "kubectl_command"
        ],
        "output": {
          "type": ""
        },
        "printOutput": true,
        "startcondition": "int(scale_first_pod) == 4",
        "tags": [
          "k8s_kubectl_command"
        ],
        "title": "Scale up Alpha Group to 2 Replicas ",
        "verbs": []
      },
      "outputs": [
        {
          "name": "stdout",
          "output_type": "stream",
          "text": [
            "statefulset.apps/bulk01-dgraph-alpha scaled\n",
            "\n"
          ]
        }
      ],
      "source": [
        "#\n",
        "# Copyright (c) 2022 unSkript.com\n",
        "# All rights reserved.\n",
        "#\n",
        "\n",
        "from pydantic import BaseModel, Field\n",
        "\n",
        "\n",
        "from beartype import beartype\n",
        "@beartype\n",
        "def k8s_kubectl_command_printer(output):\n",
        "    if output is None:\n",
        "        return\n",
        "    print(output)\n",
        "\n",
        "\n",
        "@beartype\n",
        "def k8s_kubectl_command(handle, kubectl_command: str) -> str:\n",
        "    \"\"\"k8s_kubectl_command executes the given kubectl command on the pod\n",
        "\n",
        "        :type handle: object\n",
        "        :param handle: Object returned from the Task validate method\n",
        "\n",
        "        :type kubectl_command: str\n",
        "        :param kubectl_command: The Actual kubectl command, like kubectl get ns, etc..\n",
        "\n",
        "        :rtype: String, Output of the command in python string format or Empty String in case of Error.\n",
        "    \"\"\"\n",
        "    if handle.client_side_validation != True:\n",
        "        print(f\"K8S Connector is invalid: {handle}\")\n",
        "        return str()\n",
        "\n",
        "    result = handle.run_native_cmd(kubectl_command)\n",
        "    if result is None or hasattr(result, \"stderr\") is False or result.stderr is None:\n",
        "        print(\n",
        "            f\"Error while executing command ({kubectl_command}): {result.stderr}\")\n",
        "        return str()\n",
        "\n",
        "    return result.stdout\n",
        "\n",
        "\n",
        "task = Task(Workflow())\n",
        "task.configure(credentialsJson='''{\n",
        "    \"credential_name\": \"k8sss\",\n",
        "    \"credential_type\": \"CONNECTOR_TYPE_K8S\",\n",
        "    \"credential_id\": \"16972f66-a07a-4730-93fb-3d35250c4fc5\"\n",
        "}''')\n",
        "task.configure(inputParamsJson='''{\n",
        "    \"kubectl_command\": \"f\\\\\"kubectl scale --replicas=2 sts {source_alpha_sts[0]} -n {namespace}\\\\\"\"\n",
        "    }''')\n",
        "task.configure(conditionsJson='''{\n",
        "    \"condition_enabled\": true,\n",
        "    \"condition_cfg\": \"int(scale_first_pod) == 4\",\n",
        "    \"condition_result\": true\n",
        "    }''')\n",
        "task.configure(printOutput=True)\n",
        "(err, hdl, args) = task.validate(vars=vars())\n",
        "if err is None:\n",
        "    task.execute(k8s_kubectl_command, lego_printer=k8s_kubectl_command_printer, hdl=hdl, args=args)"
      ]
    },
    {
      "cell_type": "code",
      "execution_count": 161,
      "id": "31bf6368-7155-4236-8307-afd909493f84",
      "metadata": {
        "accessType": "ACCESS_TYPE_UNSPECIFIED",
        "actionBashCommand": false,
        "actionNeedsCredential": true,
        "actionRequiredLinesInCode": [],
        "actionSupportsIteration": true,
        "actionSupportsPoll": true,
        "action_modified": false,
        "action_uuid": "4d3b4c6153e14622f42b332b7c7b8f7043577971f64edc5be6b5f8b40d5b89d1",
        "continueOnError": false,
        "createTime": "1970-01-01T00:00:00Z",
        "credentialsJson": {
          "credential_id": "16972f66-a07a-4730-93fb-3d35250c4fc5",
          "credential_name": "k8sss",
          "credential_type": "CONNECTOR_TYPE_K8S"
        },
        "currentVersion": "0.1.0",
        "description": "Execute the given Kubectl command.",
        "execution_data": {
          "last_date_success_run_cell": "2023-09-01T17:50:28.706Z"
        },
        "id": 51,
        "index": 51,
        "inputData": [
          {
            "kubectl_command": {
              "constant": false,
              "value": "f\"kubectl logs -n {namespace} {alpha_leader_node} --tail=10000 | grep -i 'Stream snapshot: OK'\""
            }
          }
        ],
        "inputschema": [
          {
            "properties": {
              "kubectl_command": {
                "description": "kubectl command eg \"kubectl get pods --all-namespaces\"",
                "title": "Kubectl Command",
                "type": "string"
              }
            },
            "required": [
              "kubectl_command"
            ],
            "title": "k8s_kubectl_command",
            "type": "object"
          }
        ],
        "jupyter": {
          "source_hidden": true
        },
        "legotype": "LEGO_TYPE_K8S",
        "name": "Check Alpha-0 Logs for Snapshot Streaming ",
        "nouns": [],
        "orderProperties": [
          "kubectl_command"
        ],
        "output": {
          "type": ""
        },
        "outputParams": {
          "output_name": "log_streaming_output",
          "output_name_enabled": true
        },
        "printOutput": true,
        "tags": [
          "k8s_kubectl_command"
        ],
        "title": "Check Alpha-0 Logs for Snapshot Streaming ",
        "verbs": []
      },
      "outputs": [
        {
          "name": "stdout",
          "output_type": "stream",
          "text": [
            "I0901 17:49:58.878541      19 snapshot.go:300] Stream snapshot: OK\n",
            "\n"
          ]
        }
      ],
      "source": [
        "#\n",
        "# Copyright (c) 2022 unSkript.com\n",
        "# All rights reserved.\n",
        "#\n",
        "\n",
        "from pydantic import BaseModel, Field\n",
        "\n",
        "\n",
        "from beartype import beartype\n",
        "@beartype\n",
        "def k8s_kubectl_command_printer(output):\n",
        "    if output is None:\n",
        "        return\n",
        "    print(output)\n",
        "\n",
        "\n",
        "@beartype\n",
        "def k8s_kubectl_command(handle, kubectl_command: str) -> str:\n",
        "    \"\"\"k8s_kubectl_command executes the given kubectl command on the pod\n",
        "\n",
        "        :type handle: object\n",
        "        :param handle: Object returned from the Task validate method\n",
        "\n",
        "        :type kubectl_command: str\n",
        "        :param kubectl_command: The Actual kubectl command, like kubectl get ns, etc..\n",
        "\n",
        "        :rtype: String, Output of the command in python string format or Empty String in case of Error.\n",
        "    \"\"\"\n",
        "    if handle.client_side_validation != True:\n",
        "        print(f\"K8S Connector is invalid: {handle}\")\n",
        "        return str()\n",
        "\n",
        "    result = handle.run_native_cmd(kubectl_command)\n",
        "    if result is None or hasattr(result, \"stderr\") is False or result.stderr is None:\n",
        "        print(\n",
        "            f\"Error while executing command ({kubectl_command}): {result.stderr}\")\n",
        "        return str()\n",
        "\n",
        "    return result.stdout\n",
        "\n",
        "\n",
        "task = Task(Workflow())\n",
        "task.configure(credentialsJson='''{\n",
        "    \"credential_name\": \"k8sss\",\n",
        "    \"credential_type\": \"CONNECTOR_TYPE_K8S\",\n",
        "    \"credential_id\": \"16972f66-a07a-4730-93fb-3d35250c4fc5\"\n",
        "}''')\n",
        "task.configure(inputParamsJson='''{\n",
        "    \"kubectl_command\": \"f\\\\\"kubectl logs -n {namespace} {alpha_leader_node} --tail=10000 | grep -i 'Stream snapshot: OK'\\\\\"\"\n",
        "    }''')\n",
        "task.configure(outputName=\"log_streaming_output\")\n",
        "\n",
        "task.configure(printOutput=True)\n",
        "(err, hdl, args) = task.validate(vars=vars())\n",
        "if err is None:\n",
        "    task.execute(k8s_kubectl_command, lego_printer=k8s_kubectl_command_printer, hdl=hdl, args=args)"
      ]
    },
    {
      "cell_type": "code",
      "execution_count": 162,
      "id": "52a8e147-4253-4a62-ab66-ba06c0e87d3e",
      "metadata": {
        "customAction": true,
        "execution_data": {
          "last_date_success_run_cell": "2023-09-01T17:50:32.012Z"
        },
        "jupyter": {
          "source_hidden": true
        },
        "name": "Verify if we see Snapshot Streaming",
        "orderProperties": [],
        "tags": [],
        "title": "Verify if we see Snapshot Streaming"
      },
      "outputs": [
        {
          "name": "stdout",
          "output_type": "stream",
          "text": [
            "Snapshot streaming successful!\n"
          ]
        }
      ],
      "source": [
        "assert log_streaming_output.find(\"Stream snapshot: OK\") != -1\n",
        "\n",
        "print(\"Snapshot streaming successful!\")"
      ]
    },
    {
      "cell_type": "markdown",
      "id": "9530a987-39f4-4586-be05-79b9b3da97c2",
      "metadata": {
        "jupyter": {
          "source_hidden": false
        },
        "name": "Step-15",
        "orderProperties": [],
        "tags": [],
        "title": "Step-15"
      },
      "source": [
        "<h2 id=\"Verify-that-Alpha-1-is-Healthy\"><a id=\"Step-14\" target=\"_self\" rel=\"nofollow\"></a>Verify that two alphas are healthy<a class=\"jp-InternalAnchorLink\" href=\"#Step-15\">&para;</a></h2>\n",
        "<p>&nbsp;</p>\n",
        "<blockquote>\n",
        "<div class=\"page\" title=\"Page 4\">\n",
        "<div class=\"layoutArea\">\n",
        "<div class=\"column\">\n",
        "<p>After a snapshot stream is successful, confirm that the Alpha-1 is &lsquo;READY&rsquo; and &lsquo;Running&rsquo;. The schema load should be much faster on Alpha-1 on account of the snapshot stream. At this point, the cluster would start processing mutations successfully since quorum is reached.</p>\n",
        "</div>\n",
        "</div>\n",
        "</div>\n",
        "</blockquote>"
      ]
    },
    {
      "cell_type": "code",
      "execution_count": 167,
      "id": "b35e696a-ea52-4b64-8c5e-91e3a5982edf",
      "metadata": {
        "accessType": "ACCESS_TYPE_UNSPECIFIED",
        "actionBashCommand": false,
        "actionNeedsCredential": true,
        "actionRequiredLinesInCode": [],
        "actionSupportsIteration": true,
        "actionSupportsPoll": true,
        "action_modified": false,
        "action_uuid": "4d3b4c6153e14622f42b332b7c7b8f7043577971f64edc5be6b5f8b40d5b89d1",
        "continueOnError": false,
        "createTime": "1970-01-01T00:00:00Z",
        "credentialsJson": {
          "credential_id": "16972f66-a07a-4730-93fb-3d35250c4fc5",
          "credential_name": "k8sss",
          "credential_type": "CONNECTOR_TYPE_K8S"
        },
        "currentVersion": "0.1.0",
        "description": "Execute the given Kubectl command.",
        "execution_data": {
          "last_date_success_run_cell": "2023-09-01T17:51:08.178Z"
        },
        "id": 51,
        "index": 51,
        "inputData": [
          {
            "kubectl_command": {
              "constant": false,
              "value": "f\"kubectl get pods -n {namespace} | grep 1/1 | grep alpha | wc -l | xargs echo -n\""
            }
          }
        ],
        "inputschema": [
          {
            "properties": {
              "kubectl_command": {
                "description": "kubectl command eg \"kubectl get pods --all-namespaces\"",
                "title": "Kubectl Command",
                "type": "string"
              }
            },
            "required": [
              "kubectl_command"
            ],
            "title": "k8s_kubectl_command",
            "type": "object"
          }
        ],
        "jupyter": {
          "source_hidden": true
        },
        "legotype": "LEGO_TYPE_K8S",
        "name": "Verify two of the Alpha Pods are Healthy",
        "nouns": [],
        "orderProperties": [
          "kubectl_command"
        ],
        "output": {
          "type": ""
        },
        "outputParams": {
          "output_name": "second_alpha_pod",
          "output_name_enabled": true,
          "output_runbook_enabled": false,
          "output_runbook_name": ""
        },
        "pollData": {
          "poll_check_output_type": "VALUE_TYPE_STR",
          "poll_check_output_value": "str(2)",
          "poll_enabled": true,
          "poll_step_interval": 5,
          "poll_timeout": 30
        },
        "printOutput": true,
        "tags": [
          "k8s_kubectl_command"
        ],
        "title": "Verify two of the Alpha Pods are Healthy",
        "verbs": []
      },
      "outputs": [
        {
          "name": "stdout",
          "output_type": "stream",
          "text": [
            "poll_enabled=False poll_check_output_type=<TaskPollValueTypeEnum.string: 'VALUE_TYPE_STR'> poll_check_output_value='str(2)' poll_step_interval=5 poll_timeout=30\n",
            "2\n"
          ]
        }
      ],
      "source": [
        "#\n",
        "# Copyright (c) 2022 unSkript.com\n",
        "# All rights reserved.\n",
        "#\n",
        "\n",
        "from pydantic import BaseModel, Field\n",
        "\n",
        "\n",
        "from beartype import beartype\n",
        "@beartype\n",
        "def k8s_kubectl_command_printer(output):\n",
        "    if output is None:\n",
        "        return\n",
        "    print(output)\n",
        "\n",
        "\n",
        "@beartype\n",
        "def k8s_kubectl_command(handle, kubectl_command: str) -> str:\n",
        "    \"\"\"k8s_kubectl_command executes the given kubectl command on the pod\n",
        "\n",
        "        :type handle: object\n",
        "        :param handle: Object returned from the Task validate method\n",
        "\n",
        "        :type kubectl_command: str\n",
        "        :param kubectl_command: The Actual kubectl command, like kubectl get ns, etc..\n",
        "\n",
        "        :rtype: String, Output of the command in python string format or Empty String in case of Error.\n",
        "    \"\"\"\n",
        "    if handle.client_side_validation != True:\n",
        "        print(f\"K8S Connector is invalid: {handle}\")\n",
        "        return str()\n",
        "\n",
        "    result = handle.run_native_cmd(kubectl_command)\n",
        "    if result is None or hasattr(result, \"stderr\") is False or result.stderr is None:\n",
        "        print(\n",
        "            f\"Error while executing command ({kubectl_command}): {result.stderr}\")\n",
        "        return str()\n",
        "\n",
        "    return result.stdout\n",
        "\n",
        "\n",
        "task = Task(Workflow())\n",
        "task.configure(credentialsJson='''{\n",
        "    \"credential_name\": \"k8sss\",\n",
        "    \"credential_type\": \"CONNECTOR_TYPE_K8S\",\n",
        "    \"credential_id\": \"16972f66-a07a-4730-93fb-3d35250c4fc5\"\n",
        "}''')\n",
        "task.configure(inputParamsJson='''{\n",
        "    \"kubectl_command\": \"f\\\\\"kubectl get pods -n {namespace} | grep 1/1 | grep alpha | wc -l | xargs echo -n\\\\\"\"\n",
        "    }''')\n",
        "task.configure(pollJson='''{\n",
        "    \"poll_check_output_type\": \"VALUE_TYPE_STR\",\n",
        "    \"poll_check_output_value\": \"str(2)\",\n",
        "    \"poll_enabled\": false,\n",
        "    \"poll_step_interval\": 5,\n",
        "    \"poll_timeout\": 30\n",
        "    }''')\n",
        "task.configure(outputName=\"second_alpha_pod\")\n",
        "task.configure(printOutput=True)\n",
        "(err, hdl, args) = task.validate(vars=vars())\n",
        "if err is None:\n",
        "    task.execute(k8s_kubectl_command, lego_printer=k8s_kubectl_command_printer, hdl=hdl, args=args)"
      ]
    },
    {
      "cell_type": "code",
      "execution_count": 174,
      "id": "8c018fcf-7e21-47a4-a6c2-2ddf1de2a25c",
      "metadata": {
        "customAction": true,
        "execution_data": {
          "last_date_success_run_cell": "2023-09-01T17:52:10.297Z"
        },
        "jupyter": {
          "source_hidden": true
        },
        "name": "Check alpha pod count",
        "orderProperties": [],
        "tags": [],
        "title": "Check alpha pod count"
      },
      "outputs": [
        {
          "name": "stdout",
          "output_type": "stream",
          "text": [
            "Successfully scaled up 2 alpha pods\n"
          ]
        }
      ],
      "source": [
        "if second_alpha_pod == '2':\n",
        "    print(\"Successfully scaled up 2 alpha pods\")\n",
        "else:\n",
        "    print(\"Please wait for the second alpha to scale up...\\n\")\n",
        "    print(\"Run Step-15 to verify again\")"
      ]
    },
    {
      "cell_type": "markdown",
      "id": "7355cb22-91ce-4ced-9fc7-403bb4a2ce80",
      "metadata": {
        "jupyter": {
          "source_hidden": false
        },
        "name": "Step-15",
        "orderProperties": [],
        "tags": [],
        "title": "Step-15"
      },
      "source": [
        "<h2 id=\"Finally,-scale-the-Alpha-group-to-3-replicas\"><a id=\"Step-15\" target=\"_self\" rel=\"nofollow\"></a>Finally, scale the Alpha group to 3 replicas</h2>\n",
        "<p>&nbsp;</p>\n",
        "<blockquote>\n",
        "<div class=\"page\" title=\"Page 4\">\n",
        "<div class=\"section\">\n",
        "<div class=\"layoutArea\">\n",
        "<div class=\"column\">\n",
        "<pre>kubectl scale &ndash;-replicas=3 sts alphastatefulset -n &lt;namespace&gt;\n",
        "</pre>\n",
        "</div>\n",
        "</div>\n",
        "</div>\n",
        "</div>\n",
        "</blockquote>"
      ]
    },
    {
      "cell_type": "code",
      "execution_count": 175,
      "id": "7ad5a816-eca4-44e9-9a70-3a93bb84e191",
      "metadata": {
        "accessType": "ACCESS_TYPE_UNSPECIFIED",
        "actionBashCommand": false,
        "actionNeedsCredential": true,
        "actionRequiredLinesInCode": [],
        "actionSupportsIteration": true,
        "actionSupportsPoll": true,
        "action_modified": false,
        "action_uuid": "4d3b4c6153e14622f42b332b7c7b8f7043577971f64edc5be6b5f8b40d5b89d1",
        "condition_enabled": true,
        "continueOnError": false,
        "createTime": "1970-01-01T00:00:00Z",
        "credentialsJson": {
          "credential_id": "16972f66-a07a-4730-93fb-3d35250c4fc5",
          "credential_name": "k8sss",
          "credential_type": "CONNECTOR_TYPE_K8S"
        },
        "currentVersion": "0.1.0",
        "description": "Execute the given Kubectl command.",
        "execution_data": {
          "last_date_success_run_cell": "2023-09-01T17:52:16.834Z"
        },
        "id": 51,
        "index": 51,
        "inputData": [
          {
            "kubectl_command": {
              "constant": false,
              "value": "f\"kubectl scale --replicas=3 sts {source_alpha_sts[0]} -n {namespace}\""
            }
          }
        ],
        "inputschema": [
          {
            "properties": {
              "kubectl_command": {
                "description": "kubectl command eg \"kubectl get pods --all-namespaces\"",
                "title": "Kubectl Command",
                "type": "string"
              }
            },
            "required": [
              "kubectl_command"
            ],
            "title": "k8s_kubectl_command",
            "type": "object"
          }
        ],
        "jupyter": {
          "source_hidden": true
        },
        "legotype": "LEGO_TYPE_K8S",
        "name": "Scale Replicas to 3 for Alpha Sts",
        "nouns": [],
        "orderProperties": [
          "kubectl_command"
        ],
        "output": {
          "type": ""
        },
        "printOutput": true,
        "startcondition": "int(second_alpha_pod) == 2",
        "tags": [
          "k8s_kubectl_command"
        ],
        "title": "Scale Replicas to 3 for Alpha Sts",
        "verbs": []
      },
      "outputs": [
        {
          "name": "stdout",
          "output_type": "stream",
          "text": [
            "statefulset.apps/bulk01-dgraph-alpha scaled\n",
            "\n"
          ]
        }
      ],
      "source": [
        "#\n",
        "# Copyright (c) 2022 unSkript.com\n",
        "# All rights reserved.\n",
        "#\n",
        "\n",
        "from pydantic import BaseModel, Field\n",
        "\n",
        "\n",
        "from beartype import beartype\n",
        "@beartype\n",
        "def k8s_kubectl_command_printer(output):\n",
        "    if output is None:\n",
        "        return\n",
        "    print(output)\n",
        "\n",
        "\n",
        "@beartype\n",
        "def k8s_kubectl_command(handle, kubectl_command: str) -> str:\n",
        "    \"\"\"k8s_kubectl_command executes the given kubectl command on the pod\n",
        "\n",
        "        :type handle: object\n",
        "        :param handle: Object returned from the Task validate method\n",
        "\n",
        "        :type kubectl_command: str\n",
        "        :param kubectl_command: The Actual kubectl command, like kubectl get ns, etc..\n",
        "\n",
        "        :rtype: String, Output of the command in python string format or Empty String in case of Error.\n",
        "    \"\"\"\n",
        "    if handle.client_side_validation != True:\n",
        "        print(f\"K8S Connector is invalid: {handle}\")\n",
        "        return str()\n",
        "\n",
        "    result = handle.run_native_cmd(kubectl_command)\n",
        "    if result is None or hasattr(result, \"stderr\") is False or result.stderr is None:\n",
        "        print(\n",
        "            f\"Error while executing command ({kubectl_command}): {result.stderr}\")\n",
        "        return str()\n",
        "\n",
        "    return result.stdout\n",
        "\n",
        "\n",
        "task = Task(Workflow())\n",
        "task.configure(credentialsJson='''{\n",
        "    \"credential_name\": \"k8sss\",\n",
        "    \"credential_type\": \"CONNECTOR_TYPE_K8S\",\n",
        "    \"credential_id\": \"16972f66-a07a-4730-93fb-3d35250c4fc5\"\n",
        "}''')\n",
        "task.configure(inputParamsJson='''{\n",
        "    \"kubectl_command\": \"f\\\\\"kubectl scale --replicas=3 sts {source_alpha_sts[0]} -n {namespace}\\\\\"\"\n",
        "    }''')\n",
        "task.configure(conditionsJson='''{\n",
        "    \"condition_enabled\": true,\n",
        "    \"condition_cfg\": \"int(second_alpha_pod) == 2\",\n",
        "    \"condition_result\": true\n",
        "    }''')\n",
        "task.configure(printOutput=True)\n",
        "(err, hdl, args) = task.validate(vars=vars())\n",
        "if err is None:\n",
        "    task.execute(k8s_kubectl_command, lego_printer=k8s_kubectl_command_printer, hdl=hdl, args=args)"
      ]
    },
    {
      "cell_type": "markdown",
      "id": "1ab97f9a-8d0f-4657-a6c9-81fedd16aef4",
      "metadata": {
        "jupyter": {
          "source_hidden": false
        },
        "name": "Step-16",
        "orderProperties": [],
        "tags": [],
        "title": "Step-16"
      },
      "source": [
        "<h2 id=\"Repeat-Step-14\"><a id=\"Step-16\" target=\"_self\" rel=\"nofollow\"></a>Repeat Step 14</h2>\n",
        "<p>&nbsp;</p>\n",
        "<div class=\"page\" title=\"Page 4\">\n",
        "<div class=\"layoutArea\">\n",
        "<div class=\"column\">\n",
        "<p>Verify that all 3 alpha and zero pods are running and are in ready state is 1/1</p>\n",
        "<blockquote>\n",
        "<div class=\"page\" title=\"Page 4\">\n",
        "<div class=\"section\">\n",
        "<div class=\"layoutArea\">\n",
        "<div class=\"column\">\n",
        "<pre>kubectl get pods -n &lt;namespace&gt; | grep statefulset\n",
        "</pre>\n",
        "<pre># Results Should look like below\n",
        "alphastatefulset-0    1/1     Running\n",
        "alphastatefulset-1    1/1     Running\n",
        "alphastatefulset-2    1/1     Running\n",
        "zerostatefulset-0     1/1     Running\n",
        "zerostatefulset-1     1/1     Running\n",
        "zerostatefulset-2     1/1     Running\n",
        "</pre>\n",
        "</div>\n",
        "</div>\n",
        "</div>\n",
        "</div>\n",
        "</blockquote>\n",
        "</div>\n",
        "</div>\n",
        "</div>"
      ]
    },
    {
      "cell_type": "code",
      "execution_count": 181,
      "id": "961b3d65-2506-4fdd-b170-4b45f571d581",
      "metadata": {
        "accessType": "ACCESS_TYPE_UNSPECIFIED",
        "actionBashCommand": false,
        "actionNeedsCredential": true,
        "actionRequiredLinesInCode": [],
        "actionSupportsIteration": true,
        "actionSupportsPoll": true,
        "action_modified": false,
        "action_uuid": "4d3b4c6153e14622f42b332b7c7b8f7043577971f64edc5be6b5f8b40d5b89d1",
        "continueOnError": false,
        "createTime": "1970-01-01T00:00:00Z",
        "credentialsJson": {
          "credential_id": "16972f66-a07a-4730-93fb-3d35250c4fc5",
          "credential_name": "k8sss",
          "credential_type": "CONNECTOR_TYPE_K8S"
        },
        "currentVersion": "0.1.0",
        "description": "Execute the given Kubectl command.",
        "execution_data": {
          "last_date_success_run_cell": "2023-09-01T17:53:04.312Z"
        },
        "id": 51,
        "index": 51,
        "inputData": [
          {
            "kubectl_command": {
              "constant": false,
              "value": "f\"kubectl get pods -n {namespace} | awk '/1\\\\/1/ {{ count++ }} END {{ print count }}'\""
            }
          }
        ],
        "inputschema": [
          {
            "properties": {
              "kubectl_command": {
                "description": "kubectl command eg \"kubectl get pods --all-namespaces\"",
                "title": "Kubectl Command",
                "type": "string"
              }
            },
            "required": [
              "kubectl_command"
            ],
            "title": "k8s_kubectl_command",
            "type": "object"
          }
        ],
        "jupyter": {
          "source_hidden": true
        },
        "legotype": "LEGO_TYPE_K8S",
        "name": "Verify all Alpha & Zero Pods are Up",
        "nouns": [],
        "orderProperties": [
          "kubectl_command"
        ],
        "output": {
          "type": ""
        },
        "outputParams": {
          "output_name": "alpha_and_zero_pod_count",
          "output_name_enabled": true
        },
        "pollData": {
          "poll_check_output_type": "VALUE_TYPE_NUMBER",
          "poll_check_output_value": "6",
          "poll_enabled": true,
          "poll_step_interval": 5,
          "poll_timeout": 60
        },
        "printOutput": true,
        "tags": [
          "k8s_kubectl_command"
        ],
        "title": "Verify all Alpha & Zero Pods are Up",
        "verbs": []
      },
      "outputs": [
        {
          "name": "stdout",
          "output_type": "stream",
          "text": [
            "poll_enabled=False poll_check_output_type=<TaskPollValueTypeEnum.number: 'VALUE_TYPE_NUMBER'> poll_check_output_value=6 poll_step_interval=5 poll_timeout=60\n",
            "6\n",
            "\n"
          ]
        }
      ],
      "source": [
        "#\n",
        "# Copyright (c) 2022 unSkript.com\n",
        "# All rights reserved.\n",
        "#\n",
        "\n",
        "from pydantic import BaseModel, Field\n",
        "\n",
        "\n",
        "from beartype import beartype\n",
        "@beartype\n",
        "def k8s_kubectl_command_printer(output):\n",
        "    if output is None:\n",
        "        return\n",
        "    print(output)\n",
        "\n",
        "\n",
        "@beartype\n",
        "def k8s_kubectl_command(handle, kubectl_command: str) -> str:\n",
        "    \"\"\"k8s_kubectl_command executes the given kubectl command on the pod\n",
        "\n",
        "        :type handle: object\n",
        "        :param handle: Object returned from the Task validate method\n",
        "\n",
        "        :type kubectl_command: str\n",
        "        :param kubectl_command: The Actual kubectl command, like kubectl get ns, etc..\n",
        "\n",
        "        :rtype: String, Output of the command in python string format or Empty String in case of Error.\n",
        "    \"\"\"\n",
        "    if handle.client_side_validation != True:\n",
        "        print(f\"K8S Connector is invalid: {handle}\")\n",
        "        return str()\n",
        "\n",
        "    result = handle.run_native_cmd(kubectl_command)\n",
        "    if result is None or hasattr(result, \"stderr\") is False or result.stderr is None:\n",
        "        print(\n",
        "            f\"Error while executing command ({kubectl_command}): {result.stderr}\")\n",
        "        return str()\n",
        "\n",
        "    return result.stdout\n",
        "\n",
        "\n",
        "task = Task(Workflow())\n",
        "task.configure(credentialsJson='''{\n",
        "    \"credential_name\": \"k8sss\",\n",
        "    \"credential_type\": \"CONNECTOR_TYPE_K8S\",\n",
        "    \"credential_id\": \"16972f66-a07a-4730-93fb-3d35250c4fc5\"\n",
        "}''')\n",
        "task.configure(inputParamsJson='''{\n",
        "    \"kubectl_command\": \"f\\\\\"kubectl get pods -n {namespace} | awk '/1\\\\\\\\/1/ {{ count++ }} END {{ print count }}'\\\\\"\"\n",
        "    }''')\n",
        "task.configure(pollJson='''{\n",
        "    \"poll_check_output_type\": \"VALUE_TYPE_NUMBER\",\n",
        "    \"poll_check_output_value\": \"6\",\n",
        "    \"poll_enabled\": false,\n",
        "    \"poll_step_interval\": 5,\n",
        "    \"poll_timeout\": 60\n",
        "    }''')\n",
        "task.configure(outputName=\"alpha_and_zero_pod_count\")\n",
        "task.configure(printOutput=True)\n",
        "(err, hdl, args) = task.validate(vars=vars())\n",
        "if err is None:\n",
        "    task.execute(k8s_kubectl_command, lego_printer=k8s_kubectl_command_printer, hdl=hdl, args=args)"
      ]
    },
    {
      "cell_type": "code",
      "execution_count": 182,
      "id": "6d821b3e-5e09-423d-a009-96e8d34e752e",
      "metadata": {
        "customAction": true,
        "execution_data": {
          "last_date_success_run_cell": "2023-09-01T17:53:05.722Z"
        },
        "jupyter": {
          "source_hidden": true
        },
        "name": "Check Pod Count",
        "orderProperties": [],
        "tags": [],
        "title": "Check Pod Count"
      },
      "outputs": [
        {
          "name": "stdout",
          "output_type": "stream",
          "text": [
            "Alpha and Zero Pods are all up!\n"
          ]
        }
      ],
      "source": [
        "if int(alpha_and_zero_pod_count) == 6:\n",
        "    print(\"Alpha and Zero Pods are all up!\")\n",
        "else:\n",
        "    print(\"Please wait for the all pods to start...\\n\")\n",
        "    print(\"Run Step-16 to verify again\")\n"
      ]
    },
    {
      "cell_type": "markdown",
      "id": "9b80b44e-f1d2-4ffe-98b1-021af8b5f89b",
      "metadata": {
        "jupyter": {
          "source_hidden": false
        },
        "name": "Step-17",
        "orderProperties": [],
        "tags": [],
        "title": "Step-17"
      },
      "source": [
        "<h2 id=\"Post-Recovery-Verification\"><a id=\"Step-17\" target=\"_self\" rel=\"nofollow\"></a>Post Recovery Verification</h2>\n",
        "<ul>\n",
        "<li>Check Grafana to ensure that <span style=\"color: rgb(22, 145, 121);\"><strong>Max Transaction Ts </strong></span>and <span style=\"color: rgb(22, 145, 121);\"><strong>RAFT Applied Index</strong></span> start rising</li>\n",
        "<li>Ensure that the <span style=\"color: rgb(22, 145, 121);\"><strong>Dgraph ApplyCh Size </strong></span>is down to 0 (zero) for the cluster</li>\n",
        "</ul>"
      ]
    },
    {
      "cell_type": "markdown",
      "id": "f36c4c9f-164c-4272-ad29-c3f352c9fd7f",
      "metadata": {
        "jupyter": {
          "source_hidden": false
        },
        "name": "Conclusion",
        "orderProperties": [],
        "tags": [],
        "title": "Conclusion"
      },
      "source": [
        "<h2>Conclusion</h2>\n",
        "<p>In this Runbook, we demostrated using simple unSkript Actions we can construct a complex Runbook such as Rebuild HA Cloud Backend. You can visit <a title=\"unSkript Documentation\" href=\"https://docs.unskript.com/unskript-product-documentation/\" target=\"_blank\" rel=\"noopener\">Documentation</a> for more information about uSkript Actions.&nbsp;</p>"
      ]
    }
  ],
  "metadata": {
    "execution_data": {
      "environment_name": "Docker",
      "environment_type": "ENVIRONMENT_TYPE_AWS_EC2",
      "execution_id": "",
      "inputs_for_searched_lego": "",
      "notebook_id": "",
      "parameters": [
        "incident_id",
        "key_name",
        "region",
        "target_cluster",
        "bucket_name",
        "cluster_name",
        "target_region",
        "namespace",
        "target_namespace"
      ],
      "proxy_id": "",
      "runbook_name": "EN-47284225-040123-1745",
      "search_string": "",
      "show_tool_tip": false,
      "tenant_id": "",
      "tenant_url": "",
      "user_email_id": "",
      "workflow_id": ""
    },
    "kernelspec": {
      "display_name": "unSkript (Build: 1260)",
      "language": "python",
      "name": "python3"
    },
    "language_info": {
      "codemirror_mode": {
        "name": "ipython",
        "version": 3
      },
      "file_extension": ".py",
      "mimetype": "text/x-python",
      "name": "python",
      "nbconvert_exporter": "python",
      "pygments_lexer": "ipython3",
      "version": "3.9.6"
    },
    "parameterSchema": {
      "properties": {
        "cluster_name": {
          "description": "AWS EKS Cluster Name example: us-east-1-prod-cluster-1",
          "title": "cluster_name",
          "type": "string"
        },
        "namespace": {
          "default": "dgraph1",
          "description": "Kubernetes (EKS) Namespace, This is the source Namespace where the Current Cloud Backend existing. Example: production-1, draph-production-1",
          "title": "namespace",
          "type": "string"
        },
        "region": {
          "description": "AWS Region where EKS is located. Example: us-east-1",
          "title": "region",
          "type": "string"
        }
      },
      "required": [
        "cluster_name",
        "region",
        "namespace"
      ],
      "title": "Schema",
      "type": "object"
    },
    "parameterValues": {
      "cluster_name": "kjsbfkjwe",
      "namespace": "dg-ops",
      "region": "us-west-2"
    }
  },
  "nbformat": 4,
  "nbformat_minor": 5
}
