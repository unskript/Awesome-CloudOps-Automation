{
 "cells": [
  {
   "attachments": {},
   "cell_type": "markdown",
   "id": "133bee4c",
   "metadata": {
    "jupyter": {
     "source_hidden": false
    },
    "name": "Runbook Overview",
    "orderProperties": [],
    "tags": [],
    "title": "Runbook Overview"
   },
   "source": [
    "<center><img src=\"https://storage.googleapis.com/unskript-website/assets/favicon.png\" alt=\"unSkript.com\" width=\"100\" height=\"100\">\n",
    "<h1 id=\"unSkript-Runbooks\">unSkript Runbooks<a class=\"jp-InternalAnchorLink\" href=\"#unSkript-Runbooks\" target=\"_self\">&para;</a></h1>\n",
    "<div class=\"alert alert-block alert-success\">\n",
    "<h3 id=\"Objective\"><strong>Objective</strong><a class=\"jp-InternalAnchorLink\" href=\"#Objective\" target=\"_self\">&para;</a></h3>\n",
    "<strong>To get PostgreSQL long-running queries using unSkript actions.</strong></div>\n",
    "</center><center>\n",
    "<h2 id=\"Display-PostgreSQL-Long-Running-Queries\">Display PostgreSQL Long Running Queries<a class=\"jp-InternalAnchorLink\" href=\"#Display-PostgreSQL-Long-Running-Queries\" target=\"_self\">&para;</a></h2>\n",
    "</center>\n",
    "<h1 id=\"Steps-Overview\">Steps Overview<a class=\"jp-InternalAnchorLink\" href=\"#Steps-Overview\" target=\"_self\">&para;</a></h1>\n",
    "<p>1. Long Running PostgreSQL Queries<br>2. Post Slack Message<code>\n",
    "</code></p>"
   ]
  },
  {
   "cell_type": "markdown",
   "id": "086ace3b",
   "metadata": {
    "jupyter": {
     "source_hidden": false
    },
    "name": "Step-1",
    "orderProperties": [],
    "tags": [],
    "title": "Step-1"
   },
   "source": [
    "<h3 id=\"Long-Running-PostgreSQL-Queries\">Long Running PostgreSQL Queries<a class=\"jp-InternalAnchorLink\" href=\"#Long-Running-PostgreSQL-Queries\" target=\"_self\">&para;</a></h3>\n",
    "<p>Here we will use unSkript <strong>Long Running PostgreSQL Queries</strong> action. This action finds out all the long-running queries on the PostgreSQL database.</p>\n",
    "<blockquote>\n",
    "<p><strong>Input parameters:</strong> <code>interval</code></p>\n",
    "</blockquote>\n",
    "<blockquote>\n",
    "<p><strong>Output variable:</strong> <code>postgresql_queries</code></p>\n",
    "</blockquote>"
   ]
  },
  {
   "cell_type": "code",
   "execution_count": 10,
   "id": "c8565b85-30c3-43f7-9f4b-b8a3bd271861",
   "metadata": {
    "accessType": "ACCESS_TYPE_UNSPECIFIED",
    "actionBashCommand": false,
    "actionCategories": [],
    "actionIsCheck": false,
    "actionNeedsCredential": true,
    "actionNextHop": [],
    "actionNextHopParameterMapping": {},
    "actionOutputType": "",
    "actionRequiredLinesInCode": [],
    "actionSupportsIteration": true,
    "actionSupportsPoll": true,
    "action_modified": false,
    "action_uuid": "ef9f0f3dd00ef0972895ea006375f1a4496dca1b7266bc60fdfbd8ab4feee6c3",
    "collapsed": true,
    "continueOnError": false,
    "createTime": "1970-01-01T00:00:00Z",
    "credentialsJson": {},
    "currentVersion": "0.1.0",
    "description": "Long Running PostgreSQL Queries",
    "execution_data": {
     "last_date_success_run_cell": "2023-02-15T18:50:41.391Z"
    },
    "id": 332,
    "index": 332,
    "inputData": [
     {
      "interval": {
       "constant": false,
       "value": "int(interval)"
      }
     }
    ],
    "inputschema": [
     {
      "properties": {
       "interval": {
        "default": 5,
        "description": "Return queries running longer than interval",
        "title": "Interval(in minutes)",
        "type": "integer"
       }
      },
      "title": "postgresql_long_running_queries",
      "type": "object"
     }
    ],
    "jupyter": {
     "outputs_hidden": true,
     "source_hidden": true
    },
    "legotype": "LEGO_TYPE_POSTGRESQL",
    "name": "Long Running PostgreSQL Queries",
    "nouns": [],
    "orderProperties": [
     "interval"
    ],
    "output": {
     "type": ""
    },
    "outputParams": {
     "output_name": "postgresql_queries",
     "output_name_enabled": true
    },
    "printOutput": true,
    "probeEnabled": false,
    "tags": [
     "postgresql_long_running_queries"
    ],
    "title": "Long Running PostgreSQL Queries",
    "trusted": true,
    "verbs": []
   },
   "outputs": {},
   "source": [
    "##\n",
    "# Copyright (c) 2021 unSkript, Inc\n",
    "# All rights reserved.\n",
    "##\n",
    "import pprint \n",
    "\n",
    "from typing import List, Any, Optional, Tuple\n",
    "from tabulate import tabulate\n",
    "from pydantic import BaseModel, Field\n",
    "\n",
    "\n",
    "def postgresql_long_running_queries_printer(output):\n",
    "    if output is None:\n",
    "        return\n",
    "\n",
    "    pprint.pprint(output)\n",
    "\n",
    "\n",
    "def postgresql_long_running_queries(handle, interval: int = 5) -> Tuple:\n",
    "    \"\"\"postgresql_long_running_queries Runs postgres query with the provided parameters.\n",
    "\n",
    "          :type handle: object\n",
    "          :param handle: Object returned from task.validate(...).\n",
    "\n",
    "          :type interval: int\n",
    "          :param interval: Interval (in seconds).\n",
    "\n",
    "          :rtype: All the results of the query.\n",
    "      \"\"\"\n",
    "    # Input param validation.\n",
    "\n",
    "    query = \"SELECT pid, user, pg_stat_activity.query_start, now() - \" \\\n",
    "        \"pg_stat_activity.query_start AS query_time, query, state \" \\\n",
    "        \" FROM pg_stat_activity WHERE state = 'active' AND (now() - \" \\\n",
    "        \"pg_stat_activity.query_start) > interval '%d seconds';\" % interval\n",
    "\n",
    "    cur = handle.cursor()\n",
    "    cur.execute(query)\n",
    "    output = []\n",
    "    res = cur.fetchall()\n",
    "    data = []\n",
    "    for records in res:\n",
    "        result = {\n",
    "            \"pid\": records[0],\n",
    "            \"user\": records[1],\n",
    "            \"query_start\": records[2],\n",
    "            \"query_time\": records[3],\n",
    "            \"query\": records[4],\n",
    "            \"state\": records[5]\n",
    "        }\n",
    "        output.append(result)\n",
    "        data.append([records[0], records[4], records[5], records[3]])\n",
    "\n",
    "    if len(res) > 0:\n",
    "        headers = [\"pid\", \"query\", \"state\", \"duration\"]\n",
    "        print(\"\\n\")\n",
    "        output = tabulate(data, headers=headers, tablefmt=\"grid\")\n",
    "\n",
    "    handle.commit()\n",
    "    cur.close()\n",
    "    handle.close()\n",
    "    if len(output) != 0:\n",
    "        return (False, output)\n",
    "    else:\n",
    "        return (True, None)\n",
    "\n",
    "task = Task(Workflow())\n",
    "\n",
    "task.configure(inputParamsJson='''{\n",
    "    \"interval\": \"int(interval)\"\n",
    "    }''')\n",
    "task.configure(outputName=\"postgresql_queries\")\n",
    "task.configure(printOutput=True)\n",
    "(err, hdl, args) = task.validate(vars=vars())\n",
    "if err is None:\n",
    "    task.execute(postgresql_long_running_queries, lego_printer=postgresql_long_running_queries_printer, hdl=hdl, args=args)"
   ],
   "output": {}
  },
  {
   "attachments": {},
   "cell_type": "markdown",
   "id": "5b8a6162-5475-422d-98c6-7d756956ed8f",
   "metadata": {
    "jupyter": {
     "source_hidden": false
    },
    "name": "Step-1 Extension",
    "orderProperties": [],
    "tags": [],
    "title": "Step-1 Extension"
   },
   "source": [
    "<h3 id=\"Modify-Output\">Modify Output</h3>\n",
    "<p>In this action, we modify the output from step 1 and return a list of dictionary items for all the long-running queries on the PostgreSQL database.</p>\n",
    "<blockquote>\n",
    "<p><strong>Output variable: </strong>postgresql_queries</p>\n",
    "</blockquote>"
   ]
  },
  {
   "cell_type": "code",
   "execution_count": 12,
   "id": "e8b0d7b7-03a5-456c-971a-a638b2435eeb",
   "metadata": {
    "collapsed": true,
    "customAction": true,
    "execution_data": {
     "last_date_success_run_cell": "2023-02-15T18:58:06.161Z"
    },
    "jupyter": {
     "outputs_hidden": true,
     "source_hidden": true
    },
    "name": "Modify Output",
    "orderProperties": [],
    "tags": [],
    "title": "Modify Output",
    "trusted": true,
    "credentialsJson": {}
   },
   "outputs": {},
   "source": [
    "sql_queries = []\n",
    "if postgresql_queries[0] == False:\n",
    "    for queries in postgresql_queries[1]:\n",
    "        sql_queries.append(queries)"
   ],
   "output": {}
  },
  {
   "cell_type": "markdown",
   "id": "1256bbdf",
   "metadata": {
    "jupyter": {
     "source_hidden": false
    },
    "name": "Step-2",
    "orderProperties": [],
    "tags": [],
    "title": "Step-2"
   },
   "source": [
    "<h3 id=\"Post-Slack-Message\">Post Slack Message<a class=\"jp-InternalAnchorLink\" href=\"#Post-Slack-Message\" target=\"_self\">&para;</a></h3>\n",
    "<p>Here we will use unSkript <strong>Post Slack Message</strong> action. This action posts the message to the slack channel about the long-running queries on the PostgreSQL database.</p>\n",
    "<blockquote>\n",
    "<p><strong>Input parameters:</strong> <code>channel,&nbsp;message</code></p>\n",
    "</blockquote>\n",
    "<blockquote>\n",
    "<p><strong>Output variable:</strong> <code>message_status</code></p>\n",
    "</blockquote>"
   ]
  },
  {
   "cell_type": "code",
   "execution_count": 7,
   "id": "84b2379b-c11c-42a8-8575-8b75efe52574",
   "metadata": {
    "accessType": "ACCESS_TYPE_UNSPECIFIED",
    "actionBashCommand": false,
    "actionNeedsCredential": true,
    "actionSupportsIteration": true,
    "actionSupportsPoll": true,
    "action_uuid": "6a87f83ab0ecfeecb9c98d084e2b1066c26fa64be5b4928d5573a5d60299802d",
    "createTime": "1970-01-01T00:00:00Z",
    "credentialsJson": {},
    "currentVersion": "0.1.0",
    "description": "Post Slack Message",
    "id": 44,
    "index": 44,
    "inputData": [
     {
      "channel": {
       "constant": false,
       "value": "channel"
      },
      "message": {
       "constant": false,
       "value": "f\"Long Running Queries : {sql_queries}\""
      }
     }
    ],
    "inputschema": [
     {
      "properties": {
       "channel": {
        "description": "Name of the slack channel where the message to be posted",
        "title": "Channel",
        "type": "string"
       },
       "message": {
        "description": "Message to be sent",
        "title": "Message",
        "type": "string"
       }
      },
      "required": [
       "channel",
       "message"
      ],
      "title": "slack_post_message",
      "type": "object"
     }
    ],
    "jupyter": {
     "source_hidden": true
    },
    "legotype": "LEGO_TYPE_SLACK",
    "name": "Post Slack Message",
    "nouns": [
     "slack",
     "message"
    ],
    "orderProperties": [
     "channel",
     "message"
    ],
    "output": {
     "type": ""
    },
    "outputParams": {
     "output_name": "message_status",
     "output_name_enabled": true
    },
    "printOutput": true,
    "tags": [
     "slack_post_message"
    ],
    "title": "Post Slack Message",
    "verbs": [
     "post"
    ]
   },
   "outputs": {},
   "source": [
    "##\n",
    "# Copyright (c) 2021 unSkript, Inc\n",
    "# All rights reserved.\n",
    "##\n",
    "\n",
    "import pprint\n",
    "\n",
    "from pydantic import BaseModel, Field\n",
    "from slack_sdk import WebClient\n",
    "from slack_sdk.errors import SlackApiError\n",
    "\n",
    "pp = pprint.PrettyPrinter(indent=2)\n",
    "\n",
    "\n",
    "from beartype import beartype\n",
    "def legoPrinter(func):\n",
    "    def Printer(*args, **kwargs):\n",
    "        output = func(*args, **kwargs)\n",
    "        if output:\n",
    "            channel = kwargs[\"channel\"]\n",
    "            pp.pprint(print(f\"Message sent to Slack channel {channel}\"))\n",
    "        return output\n",
    "    return Printer\n",
    "\n",
    "\n",
    "@legoPrinter\n",
    "@beartype\n",
    "def slack_post_message(\n",
    "        handle: WebClient,\n",
    "        channel: str,\n",
    "        message: str) -> bool:\n",
    "\n",
    "    try:\n",
    "        response = handle.chat_postMessage(\n",
    "            channel=channel,\n",
    "            text=message)\n",
    "        return True\n",
    "    except SlackApiError as e:\n",
    "        print(\"\\n\\n\")\n",
    "        pp.pprint(\n",
    "            f\"Failed sending message to slack channel {channel}, Error: {e.response['error']}\")\n",
    "        return False\n",
    "    except Exception as e:\n",
    "        print(\"\\n\\n\")\n",
    "        pp.pprint(\n",
    "            f\"Failed sending message to slack channel {channel}, Error: {e.__str__()}\")\n",
    "        return False\n",
    "\n",
    "\n",
    "task = Task(Workflow())\n",
    "task.configure(printOutput=True)\n",
    "task.configure(inputParamsJson='''{\n",
    "    \"channel\": \"channel\",\n",
    "    \"message\": \"f\\\\\"Long Running Queries : {sql_queries}\\\\\"\"\n",
    "    }''')\n",
    "task.configure(outputName=\"message_status\")\n",
    "\n",
    "(err, hdl, args) = task.validate(vars=vars())\n",
    "if err is None:\n",
    "    task.output = task.execute(slack_post_message, hdl=hdl, args=args)\n",
    "    if task.output_name != None:\n",
    "        globals().update({task.output_name: task.output[0]})"
   ],
   "output": {}
  },
  {
   "cell_type": "markdown",
   "id": "f45b5e96",
   "metadata": {
    "jupyter": {
     "source_hidden": false
    },
    "name": "Conclusion",
    "orderProperties": [],
    "tags": [],
    "title": "Conclusion"
   },
   "source": [
    "<h3 id=\"Conclusion\">Conclusion</h3>\n",
    "<p>In this Runbook, we demonstrated the use of unSkript's PostgreSQL legos to run PostgreSQL Query and display and collect the long-running queries from a database and send the message to a slack channel. To view the full platform capabilities of unSkript please visit <a href=\"https://us.app.unskript.io\">https://us.app.unskript.io</a></p>"
   ]
  }
 ],
 "metadata": {
  "execution_data": {
   "parameters": [
    "interval",
    "channel"
   ],
   "runbook_name": "Display long running queries in a PostgreSQL database",
   "environment_id": "",
   "environment_name": "",
   "tenant_id": "",
   "tenant_url": "",
   "user_email_id": ""
  },
  "kernelspec": {
   "display_name": "unSkript (Build: 891)",
   "name": "python_kubernetes"
  },
  "language_info": {
   "file_extension": ".py",
   "mimetype": "text/x-python",
   "name": "python",
   "pygments_lexer": "ipython3"
  },
  "parameterSchema": {
   "properties": {
    "interval": {
     "default": "5",
     "description": "Time interval (in seconds) to check for long queries",
     "title": "interval",
     "type": "number"
    },
    "channel": {
     "description": "Slack channel to post to",
     "title": "channel",
     "type": "string"
    }
   },
   "required": [],
   "title": "Schema",
   "type": "object"
  },
  "parameterValues": null
 },
 "nbformat": 4,
 "nbformat_minor": 5
}