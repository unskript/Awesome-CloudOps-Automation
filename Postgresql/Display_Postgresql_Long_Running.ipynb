{
    "cells": [
        {
            "cell_type": "markdown",
            "id": "133bee4c",
            "metadata": {},
            "source": [
                "\n",
                "<img src=\"https://unskript.com/assets/favicon.png\" alt=\"unSkript.com\" width=\"100\" height=\"100\"/> \n",
                "<h1> unSkript Runbooks </h1>\n",
                "<div class=\"alert alert-block alert-success\">\n",
                "    <b> This runbook demonstrates How to get PostgreSQL long running queries using unSkript legos.</b>\n",
                "</div>\n",
                "\n",
                "<br>\n",
                "\n",
                "<center><h2>Display PostgreSQL Long Running Queries</h2></center>\n",
                "\n",
                "# Steps Overview\n",
                "    1) Get postgres long running queries by passing the interval as input\n",
                "    2) Collecting PostgreSQL queries and post that to the slack channel"
            ]
        },
        {
            "cell_type": "markdown",
            "id": "086ace3b",
            "metadata": {},
            "source": [
                "Here we will use unSkript Long Running PostgreSQL Queries Lego. This lego takes interval: int as input. This inputs is used to findout all the Long running queries available on the PostgreSQL database."
            ]
        },
        {
            "cell_type": "code",
            "execution_count": null,
            "id": "d3781717-70fc-40d2-9eed-183ff55a1726",
            "metadata": {
                "accessType": "ACCESS_TYPE_UNSPECIFIED",
                "actionBashCommand": false,
                "actionNeedsCredential": true,
                "actionSupportsIteration": true,
                "actionSupportsPoll": true,
                "action_uuid": "ef9f0f3dd00ef0972895ea006375f1a4496dca1b7266bc60fdfbd8ab4feee6c3",
                "createTime": "1970-01-01T00:00:00Z",
                "credentialsJson": {},
                "currentVersion": "0.1.0",
                "description": "Long Running PostgreSQL Queries",
                "id": 193,
                "index": 193,
                "inputData": [
                    {
                        "interval": {
                            "constant": false,
                            "value": "5"
                        }
                    }
                ],
                "inputschema": [
                    {
                        "properties": {
                            "interval": {
                                "default": 5,
                                "description": "Return queries running longer than interval",
                                "title": "Interval(in seconds)",
                                "type": "integer"
                            }
                        },
                        "title": "postgresql_long_running_queries",
                        "type": "object"
                    }
                ],
                "jupyter": {
                    "source_hidden": true
                },
                "legotype": "LEGO_TYPE_POSTGRESQL",
                "name": "Long Running PostgreSQL Queries",
                "nouns": [
                    "postgresql",
                    "queries"
                ],
                "orderProperties": [
                    "interval"
                ],
                "output": {
                    "type": ""
                },
                "tags": [
                    "postgresql_long_running_queries"
                ],
                "verbs": []
            },
            "outputs": [],
            "source": [
                "##\n",
                "# Copyright (c) 2021 unSkript, Inc\n",
                "# All rights reserved.\n",
                "##\n",
                "from typing import List, Any, Union\n",
                "\n",
                "from tabulate import tabulate\n",
                "from pydantic import BaseModel, Field\n",
                "\n",
                "\n",
                "from beartype import beartype\n",
                "def legoPrinter(func):\n",
                "    def Printer(*args, **kwargs):\n",
                "        output = func(*args, **kwargs)\n",
                "        print(\"\\n\")\n",
                "        print(output)\n",
                "        return output\n",
                "    return Printer\n",
                "\n",
                "\n",
                "@legoPrinter\n",
                "@beartype\n",
                "def postgresql_long_running_queries(handle, interval: int = 5) -> Union[List[Any], str]:\n",
                "    \"\"\"postgresql_long_running_queries Runs postgres query with the provided parameters.\n",
                "\n",
                "          :type nbParamsObj: object\n",
                "          :param nbParamsObj: Object containing global params for the notebook.\n",
                "\n",
                "          :type credentialsDict: dict\n",
                "          :param credentialsDict: Dictionary of credentials info.\n",
                "\n",
                "          :type inputParamsJson: string\n",
                "          :param inputParamsJson: Json string of the input params\n",
                "\n",
                "          :rtype: All the results of the query.\n",
                "      \"\"\"\n",
                "    # Input param validation.\n",
                "\n",
                "    # Multi-line will create an issue when we package the Legos.\n",
                "    # Hence concatinating it into a single line.\n",
                "\n",
                "    query = \"SELECT pid, user, pg_stat_activity.query_start, now() - pg_stat_activity.query_start AS query_time, query, state \" \\\n",
                "        \" FROM pg_stat_activity WHERE state = 'active' AND (now() - pg_stat_activity.query_start) > interval '%d seconds';\" % interval\n",
                "\n",
                "    cur = handle.cursor()\n",
                "    cur.execute(query)\n",
                "    output = []\n",
                "    res = cur.fetchall()\n",
                "\n",
                "    data = []\n",
                "    for records in res:\n",
                "        result = {\n",
                "            \"pid\": records[0],\n",
                "            \"user\": records[1],\n",
                "            \"query_start\": records[2],\n",
                "            \"query_time\": records[3],\n",
                "            \"query\": records[4],\n",
                "            \"state\": records[5]\n",
                "        }\n",
                "        output.append(result)\n",
                "        data.append([records[0], records[4], records[5], records[3]])\n",
                "\n",
                "    if len(res) > 0:\n",
                "        headers = [\"pid\", \"query\", \"state\", \"duration\"]\n",
                "        print(\"\\n\")\n",
                "        output = tabulate(data, headers=headers, tablefmt=\"grid\")\n",
                "\n",
                "    handle.commit()\n",
                "    cur.close()\n",
                "    handle.close()\n",
                "    return output\n",
                "\n",
                "\n",
                "task = Task(Workflow())\n",
                "task.configure(inputParamsJson='''{\n",
                "    \"interval\": \"5\"\n",
                "    }''')\n",
                "task.configure(outputName=\"sql_queries\")\n",
                "\n",
                "(err, hdl, args) = task.validate(vars=vars())\n",
                "if err is None:\n",
                "    task.output = task.execute(postgresql_long_running_queries, hdl=hdl, args=args)\n",
                "    if task.output_name != None:\n",
                "        globals().update({task.output_name: task.output[0]})"
            ]
        },
        {
            "cell_type": "markdown",
            "id": "1256bbdf",
            "metadata": {},
            "source": [
                "Here we will use unSkript Post Slack Message Lego. This lego takes channel: str and message: str as input. This inputs is used to post the message to the slack channel."
            ]
        },
        {
            "cell_type": "code",
            "execution_count": null,
            "id": "84b2379b-c11c-42a8-8575-8b75efe52574",
            "metadata": {
                "accessType": "ACCESS_TYPE_UNSPECIFIED",
                "actionBashCommand": false,
                "actionNeedsCredential": true,
                "actionSupportsIteration": true,
                "actionSupportsPoll": true,
                "action_uuid": "6a87f83ab0ecfeecb9c98d084e2b1066c26fa64be5b4928d5573a5d60299802d",
                "collapsed": true,
                "createTime": "1970-01-01T00:00:00Z",
                "credentialsJson": {},
                "currentVersion": "0.1.0",
                "description": "Post Slack Message",
                "id": 44,
                "index": 44,
                "inputData": [
                    {
                        "channel": {
                            "constant": false,
                            "value": "channel"
                        },
                        "message": {
                            "constant": false,
                            "value": "f\"Long Running Queries : {sql_queries}\""
                        }
                    }
                ],
                "inputschema": [
                    {
                        "properties": {
                            "channel": {
                                "description": "Name of the slack channel where the message to be posted",
                                "title": "Channel",
                                "type": "string"
                            },
                            "message": {
                                "description": "Message to be sent",
                                "title": "Message",
                                "type": "string"
                            }
                        },
                        "required": [
                            "channel",
                            "message"
                        ],
                        "title": "slack_post_message",
                        "type": "object"
                    }
                ],
                "jupyter": {
                    "outputs_hidden": true,
                    "source_hidden": true
                },
                "legotype": "LEGO_TYPE_SLACK",
                "name": "Post Slack Message",
                "nouns": [
                    "slack",
                    "message"
                ],
                "orderProperties": [
                    "channel",
                    "message"
                ],
                "output": {
                    "type": ""
                },
                "tags": [
                    "slack_post_message"
                ],
                "verbs": [
                    "post"
                ]
            },
            "outputs": [],
            "source": [
                "##\n",
                "# Copyright (c) 2021 unSkript, Inc\n",
                "# All rights reserved.\n",
                "##\n",
                "\n",
                "import pprint\n",
                "\n",
                "from pydantic import BaseModel, Field\n",
                "from slack_sdk import WebClient\n",
                "from slack_sdk.errors import SlackApiError\n",
                "\n",
                "pp = pprint.PrettyPrinter(indent=2)\n",
                "\n",
                "\n",
                "from beartype import beartype\n",
                "def legoPrinter(func):\n",
                "    def Printer(*args, **kwargs):\n",
                "        output = func(*args, **kwargs)\n",
                "        if output:\n",
                "            channel = kwargs[\"channel\"]\n",
                "            pp.pprint(print(f\"Message sent to Slack channel {channel}\"))\n",
                "        return output\n",
                "    return Printer\n",
                "\n",
                "\n",
                "@legoPrinter\n",
                "@beartype\n",
                "def slack_post_message(\n",
                "        handle: WebClient,\n",
                "        channel: str,\n",
                "        message: str) -> bool:\n",
                "\n",
                "    try:\n",
                "        response = handle.chat_postMessage(\n",
                "            channel=channel,\n",
                "            text=message)\n",
                "        return True\n",
                "    except SlackApiError as e:\n",
                "        print(\"\\n\\n\")\n",
                "        pp.pprint(\n",
                "            f\"Failed sending message to slack channel {channel}, Error: {e.response['error']}\")\n",
                "        return False\n",
                "    except Exception as e:\n",
                "        print(\"\\n\\n\")\n",
                "        pp.pprint(\n",
                "            f\"Failed sending message to slack channel {channel}, Error: {e.__str__()}\")\n",
                "        return False\n",
                "\n",
                "\n",
                "task = Task(Workflow())\n",
                "task.configure(inputParamsJson='''{\n",
                "    \"channel\": \"channel\",\n",
                "    \"message\": \"f\\\\\"Long Running Queries : {sql_queries}\\\\\"\"\n",
                "    }''')\n",
                "task.configure(conditionsJson='''{\n",
                "    \"condition_enabled\": true,\n",
                "    \"condition_cfg\": \"len(sql_queries) >0\",\n",
                "    \"condition_result\": true\n",
                "    }''')\n",
                "(err, hdl, args) = task.validate(vars=vars())\n",
                "if err is None:\n",
                "    task.output = task.execute(slack_post_message, hdl=hdl, args=args)\n",
                "    if task.output_name != None:\n",
                "        globals().update({task.output_name: task.output[0]})"
            ]
        },
        {
            "cell_type": "markdown",
            "id": "f45b5e96",
            "metadata": {},
            "source": [
                "### Conclusion\n",
                "In this Runbook, we demonstrated the use of unSkript's PostgreSQL legos to run PostgreSQL Query and displays collects the long running queries from a database and sends the message to a slack channel. To view the full platform capabilities of unSkript please visit https://unskript.com"
            ]
        }
    ],
    "metadata": {
        "execution_data": {
            "environment_id": "dba3932f-3118-4ab0-b92c-70fa56402037",
            "environment_name": "SingleAMI",
            "execution_id": "",
            "inputs_for_searched_lego": "",
            "notebook_id": "workflow.ipynb",
            "parameters": [
                "channel",
                "interval"
            ],
            "runbook_name": "JRRunbook",
            "search_string": "",
            "show_tool_tip": false,
            "tenant_id": "8b3c7148-2d57-4b89-84d3-d59f6c792b0c",
            "tenant_url": "https://tenant-amit.dev.unskript.io",
            "user_email_id": "amit@unskript.com",
            "workflow_id": "755dbe40-22d7-4b70-a04d-31d34bb04e4a"
        },
        "kernelspec": {
            "display_name": "Python 3.9.12 ('base')",
            "language": "python",
            "name": "python3"
        },
        "language_info": {
            "file_extension": ".py",
            "mimetype": "text/x-python",
            "name": "python",
            "pygments_lexer": "ipython3",
            "version": "3.9.12"
        },
        "parameterSchema": {
            "properties": {
                "channel": {
                    "default": "",
                    "description": "Slack channel to post to",
                    "title": "channel",
                    "type": "string"
                },
                "interval": {
                    "default": "5",
                    "description": "Time interval to check for long queries",
                    "title": "interval",
                    "type": "string"
                }
            },
            "required": [],
            "title": "Schema",
            "type": "object"
        },
        "parameterValues": {
            "channel": null,
            "interval": "5"
        },
        "vscode": {
            "interpreter": {
                "hash": "5e269198fab4eb2ea6fe7c886c38b87b334869f0501ab924e1d16d60aeba5d23"
            }
        }
    },
    "nbformat": 4,
    "nbformat_minor": 5
}
