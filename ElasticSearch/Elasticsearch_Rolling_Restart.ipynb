{
    "cells": [
        {
            "cell_type": "markdown",
            "id": "e9678f47-8963-4304-b5a4-aef1de9aaeab",
            "metadata": {
                "jupyter": {
                    "source_hidden": false
                },
                "name": "Elasticsearch Rolling Restart",
                "orderProperties": [],
                "tags": [],
                "title": "Elasticsearch Rolling Restart"
            },
            "source": [
                "<center><img src=\"https://storage.googleapis.com/unskript-website/assets/favicon.png\" alt=\"unSkript.com\" width=\"100\" height=\"100\">\n",
                "<h1 id=\"-unSkript-Runbooks-\">unSkript Runbooks</h1>\n",
                "<div class=\"alert alert-block alert-success\">\n",
                "<h3 id=\"-Objective\">Objective</h3>\n",
                "<br><strong style=\"color: #000000;\"><em>Perform rolling restart for a node in an Elasticsearch cluster</em></strong></div>\n",
                "</center>\n",
                "<p>&nbsp;</p>\n",
                "<center>\n",
                "<h2 id=\"Elasticsearch-Rolling-Restart\"><u>Elasticsearch Rolling Restart</u></h2>\n",
                "</center>\n",
                "<h1 id=\"Steps-Overview\">Steps Overview</h1>\n",
                "<p>1) <a href=\"Cluster%20Health%20Check\">Cluster Health Check</a><br>2)&nbsp;<a href=\"#1\" target=\"_self\" rel=\"noopener\">Disable shard allocation</a><br>3)<a href=\"#2\" target=\"_self\" rel=\"noopener\"> Shut down node</a><br>4)<a href=\"#3\" target=\"_self\" rel=\"noopener\"> Perform changes/ maintenance</a><br>5)<a href=\"#4\" target=\"_self\" rel=\"noopener\"> Start the node</a><br>6)<a href=\"#5\" target=\"_self\" rel=\"noopener\"> Reenable shard allocation</a><br>7)<a href=\"#6\" target=\"_self\" rel=\"noopener\">&nbsp;</a><a href=\"Cluster%20Health%20Check\">Cluster Health Check</a></p>"
            ]
        },
        {
            "cell_type": "markdown",
            "id": "2c0aacc8-6eb4-412e-8809-fb64320693e6",
            "metadata": {
                "name": "Step 1",
                "orderProperties": [],
                "tags": [],
                "title": "Step 1"
            },
            "source": [
                "<h3 id=\"Check-Cluster-Health&para;\"><a id=\"6\" target=\"_self\" rel=\"nofollow\"></a>Check Cluster Health</h3>\n",
                "<p>This action checks the status of an Elasticsearch cluster to trigger a rolling restart for the cluster. Ideally, the cluster should show <span style=\"color: green;\">Green/ None</span> in which case Step 2 will not be triggered. These are the cluster statuses that you may encounter-</p>\n",
                "<ol>\n",
                "<li>Unassigned primary shards = <span style=\"color: red;\">Red</span> Status</li>\n",
                "<li>Unassigned replica shards = <span style=\"color: #ffbf00;\">Yellow</span> Status</li>\n",
                "<li>All shards assigned = <span style=\"color: green;\">Green</span> Status which will return <span style=\"color: rgb(45, 194, 107);\">None</span></li>\n",
                "</ol>\n",
                "<blockquote>\n",
                "<p>This action takes the following parameters: <code>None</code></p>\n",
                "</blockquote>"
            ]
        },
        {
            "cell_type": "code",
            "execution_count": 10,
            "id": "ee0a70e8-74d3-43f9-9a0a-a7e3b1989565",
            "metadata": {
                "accessType": "ACCESS_TYPE_UNSPECIFIED",
                "actionBashCommand": false,
                "actionCategories": [],
                "actionIsCheck": false,
                "actionNeedsCredential": true,
                "actionNextHop": [],
                "actionNextHopParameterMapping": {},
                "actionOutputType": "",
                "actionRequiredLinesInCode": [],
                "actionSupportsIteration": true,
                "actionSupportsPoll": true,
                "action_modified": false,
                "action_uuid": "85e40f4fbed1df45b80cdf78eef44ac8a77605316ee1df76820dbd7e518c629b",
                "checkEnabled": false,
                "collapsed": true,
                "createTime": "1970-01-01T00:00:00Z",
                "currentVersion": "0.1.0",
                "description": "Elasticsearch Check Health Status",
                "execution_data": {
                    "last_date_success_run_cell": "2023-02-17T08:26:50.997Z"
                },
                "id": 80,
                "index": 80,
                "inputschema": [
                    {
                        "properties": {},
                        "title": "elasticsearch_check_health_status",
                        "type": "object"
                    }
                ],
                "isUnskript": false,
                "jupyter": {
                    "outputs_hidden": true,
                    "source_hidden": true
                },
                "legotype": "LEGO_TYPE_ELASTICSEARCH",
                "name": "Elasticsearch Cluster Health",
                "nouns": [],
                "orderProperties": [],
                "output": {
                    "type": ""
                },
                "outputParams": {
                    "output_name": "cluster_health",
                    "output_name_enabled": true
                },
                "printOutput": true,
                "tags": [
                    "elasticsearch_check_health_status"
                ],
                "trusted": true,
                "verbs": []
            },
            "outputs": [],
            "source": [
                "##\n",
                "# Copyright (c) 2021 unSkript, Inc\n",
                "# All rights reserved.\n",
                "##\n",
                "import subprocess\n",
                "import pprint\n",
                "from pydantic import BaseModel, Field\n",
                "from typing import Dict, Tuple\n",
                "from subprocess import PIPE\n",
                "import json\n",
                "\n",
                "\n",
                "from beartype import beartype\n",
                "@beartype\n",
                "def elasticsearch_check_health_status_printer(output):\n",
                "    if output is None:\n",
                "        return\n",
                "    print(output)\n",
                "\n",
                "\n",
                "@beartype\n",
                "def elasticsearch_check_health_status(handle) -> Tuple:\n",
                "    result = []\n",
                "    cluster_health ={}\n",
                "    \"\"\"elasticsearch_check_health_status checks the status of an Elasticsearch cluster .\n",
                "\n",
                "            :type handle: object\n",
                "            :param handle: Object returned from Task Validate\n",
                "\n",
                "            :rtype: Result Dict of result\n",
                "    \"\"\"\n",
                "\n",
                "    output = handle.web_request(\"/_cluster/health?pretty\",  # Path\n",
                "                                \"GET\",                      # Method\n",
                "                                None)                       # Data\n",
                "    if output['status'] != 'green':\n",
                "        cluster_health[output['cluster_name']] = output['status'] \n",
                "        result.append(cluster_health)\n",
                "    if len(result) != 0:\n",
                "        return(False, result)\n",
                "    else:\n",
                "        return(True, None)\n",
                "\n",
                "\n",
                "task = Task(Workflow())\n",
                "task.configure(outputName=\"cluster_health\")\n",
                "\n",
                "task.configure(credentialsJson='''{\n",
                "    \"credential_name\": \"DevESCred\",\n",
                "    \"credential_type\": \"CONNECTOR_TYPE_ELASTICSEARCH\",\n",
                "    \"credential_id\": \"4d5b3053-55fc-4b17-9c7b-27b86c35503f\"\n",
                "}''')\n",
                "task.configure(printOutput=True)\n",
                "(err, hdl, args) = task.validate(vars=vars())\n",
                "if err is None:\n",
                "    task.execute(elasticsearch_check_health_status, lego_printer=elasticsearch_check_health_status_printer, hdl=hdl, args=args)"
            ]
        },
        {
            "cell_type": "code",
            "execution_count": 12,
            "id": "1cb9e668-e088-44f3-9012-d7b9f6589e7f",
            "metadata": {
                "collapsed": true,
                "customAction": true,
                "execution_data": {
                    "last_date_success_run_cell": "2023-02-17T08:28:12.189Z"
                },
                "jupyter": {
                    "outputs_hidden": true,
                    "source_hidden": true
                },
                "name": "Get status value",
                "orderProperties": [],
                "tags": [],
                "title": "Get status value",
                "trusted": true
            },
            "outputs": [],
            "source": [
                "cluster_health_status = ''\n",
                "for cluster in cluster_health:\n",
                "    if type(cluster)==list:\n",
                "        if len(cluster)!=0:\n",
                "            for x in cluster:\n",
                "                for status in x.values():\n",
                "                    cluster_health_status= status\n",
                "    else:\n",
                "        cluster_health_status = 'None'\n",
                "print(cluster_health_status)"
            ]
        },
        {
            "cell_type": "markdown",
            "id": "696df79e-d970-4f28-ad3e-7502b40c77a6",
            "metadata": {
                "jupyter": {
                    "source_hidden": false
                },
                "name": "Step 2",
                "orderProperties": [],
                "tags": [],
                "title": "Step 2"
            },
            "source": [
                "<h3 id=\"Disable-Shard-Allocation\"><a id=\"1\" target=\"_self\" rel=\"nofollow\"></a>Disable Shard Allocation<a class=\"jp-InternalAnchorLink\" href=\"#Disable-Shard-Allocation\" target=\"_self\">&para;</a></h3>\n",
                "<p>Using unSkript's Elasticsearch Disable Shard Allocation action we can disable shard allocation to avoid rebalancing of missing shards while the node shutdown process is in progress. This step ensures that no new shards are assigned till the node restarts.</p>\n",
                "<blockquote>\n",
                "<p>This action takes the following parameters: <code>None</code></p>\n",
                "</blockquote>"
            ]
        },
        {
            "cell_type": "code",
            "execution_count": 12,
            "id": "e746026e-cb23-4fc7-b551-a2a70edcb81a",
            "metadata": {
                "accessType": "ACCESS_TYPE_UNSPECIFIED",
                "actionBashCommand": false,
                "actionCategories": [],
                "actionIsCheck": false,
                "actionNeedsCredential": true,
                "actionNextHop": [],
                "actionNextHopParameterMapping": {},
                "actionOutputType": "",
                "actionRequiredLinesInCode": [],
                "actionSupportsIteration": true,
                "actionSupportsPoll": true,
                "action_modified": false,
                "action_uuid": "23abf6572cb81c61e965514d011c6636363d10be6ed1ac6b178127fd090ed462",
                "checkEnabled": false,
                "condition_enabled": true,
                "createTime": "1970-01-01T00:00:00Z",
                "currentVersion": "0.1.0",
                "description": "Elasticsearch Disable Shard Allocation for any indices",
                "execution_data": {
                    "last_date_success_run_cell": "2023-02-16T06:05:40.223Z"
                },
                "id": 74,
                "index": 74,
                "inputschema": [
                    {
                        "properties": {},
                        "title": "elasticsearch_disable_shard_allocation",
                        "type": "object"
                    }
                ],
                "isUnskript": false,
                "jupyter": {
                    "source_hidden": true
                },
                "legotype": "LEGO_TYPE_ELASTICSEARCH",
                "name": "Elasticsearch Disable Shard Allocation",
                "nouns": [],
                "orderProperties": [],
                "output": {
                    "type": ""
                },
                "printOutput": true,
                "startcondition": "cluster_health_status!='None'",
                "tags": [
                    "elasticsearch_disable_shard_allocation"
                ],
                "verbs": []
            },
            "outputs": [],
            "source": [
                "##\n",
                "# Copyright (c) 2021 unSkript, Inc\n",
                "# All rights reserved.\n",
                "##\n",
                "import subprocess\n",
                "import pprint\n",
                "from pydantic import BaseModel, Field\n",
                "from typing import List, Dict\n",
                "from subprocess import PIPE, run\n",
                "import json\n",
                "\n",
                "\n",
                "from beartype import beartype\n",
                "@beartype\n",
                "def elasticsearch_disable_shard_allocation_printer(output):\n",
                "    if output is None:\n",
                "        return\n",
                "    print(\"Shard allocations disabled for any kind shards\")\n",
                "    print(output)\n",
                "\n",
                "\n",
                "@beartype\n",
                "def elasticsearch_disable_shard_allocation(handle) -> Dict:\n",
                "    \"\"\"elasticsearch_disable_shard_allocation disallows shard allocations for any indices.\n",
                "\n",
                "            :type handle: object\n",
                "            :param handle: Object returned from Task Validate\n",
                "\n",
                "            :rtype: Result Dict of result\n",
                "    \"\"\"\n",
                "\n",
                "    es_dict = {\"transient\": {\"cluster.routing.allocation.enable\": \"none\"}}\n",
                "    output = handle.web_request(\"/_cluster/settings?pretty\",  # Path\n",
                "                                \"PUT\",                        # Method\n",
                "                                es_dict)                      # Data\n",
                "\n",
                "    return output\n",
                "\n",
                "\n",
                "task = Task(Workflow())\n",
                "task.configure(conditionsJson='''{\n",
                "    \"condition_enabled\": true,\n",
                "    \"condition_cfg\": \"cluster_health_status!='None'\",\n",
                "    \"condition_result\": true\n",
                "    }''')\n",
                "\n",
                "task.configure(printOutput=True)\n",
                "(err, hdl, args) = task.validate(vars=vars())\n",
                "if err is None:\n",
                "    task.execute(elasticsearch_disable_shard_allocation, lego_printer=elasticsearch_disable_shard_allocation_printer, hdl=hdl, args=args)"
            ]
        },
        {
            "cell_type": "markdown",
            "id": "8a0d9d6e-2aef-4f23-81a2-feb6be5c4c0a",
            "metadata": {
                "jupyter": {
                    "source_hidden": false
                },
                "name": "Step 3",
                "orderProperties": [],
                "tags": [],
                "title": "Step 3"
            },
            "source": [
                "<h3><a id='2'>Shut down node</a></h3>\n",
                "unSkript's SSH Execute Remote Command action can be used to shut down a single node by sshing on the IP of the node and executing the command to stop the Elasticsearch service.\n",
                "\n",
                "   If you are running Elasticsearch with systemd:\n",
                "\n",
                "    sudo systemctl stop elasticsearch.service\n",
                "\n",
                "   If you are running Elasticsearch with SysV init:\n",
                "\n",
                "    sudo -i service elasticsearch stop\n",
                "    \n",
                ">This action takes the following parameters: `host_for_ssh`(takes List of hosts but we need only one), `command_stop_elasticsearch`, `run_with_sudo`\n"
            ]
        },
        {
            "cell_type": "code",
            "execution_count": 37,
            "id": "75d3d4ae-7689-4f5f-8f56-4e48cbbd192a",
            "metadata": {
                "accessType": "ACCESS_TYPE_UNSPECIFIED",
                "actionBashCommand": false,
                "actionNeedsCredential": true,
                "actionRequiredLinesInCode": [],
                "actionSupportsIteration": true,
                "actionSupportsPoll": true,
                "action_uuid": "5279b2046bb2eb4a691ba748086f4af9e580a849faae557694bb12a8c2b7b379",
                "condition_enabled": true,
                "continueOnError": false,
                "createTime": "1970-01-01T00:00:00Z",
                "currentVersion": "0.1.0",
                "description": "SSH Execute Remote Command",
                "execution_data": {
                    "last_date_success_run_cell": "2022-11-08T11:22:25.404Z"
                },
                "id": 85,
                "index": 85,
                "inputData": [
                    {
                        "command": {
                            "constant": false,
                            "value": "cmd_stop_elasticsearch"
                        },
                        "hosts": {
                            "constant": false,
                            "value": "host_for_ssh"
                        },
                        "sudo": {
                            "constant": true,
                            "value": "run_with_sudo"
                        }
                    }
                ],
                "inputschema": [
                    {
                        "properties": {
                            "command": {
                                "description": "Command to be executed on the remote server.",
                                "title": "Command",
                                "type": "string"
                            },
                            "hosts": {
                                "description": "List of hosts to connect to. For eg. [\"host1\", \"host2\"].",
                                "items": {
                                    "type": "string"
                                },
                                "title": "Hosts",
                                "type": "array"
                            },
                            "sudo": {
                                "default": false,
                                "description": "Run the command with sudo.",
                                "title": "Run with sudo",
                                "type": "boolean"
                            }
                        },
                        "required": [
                            "hosts",
                            "command"
                        ],
                        "title": "ssh_execute_remote_command",
                        "type": "object"
                    }
                ],
                "jupyter": {
                    "source_hidden": true
                },
                "legotype": "LEGO_TYPE_SSH",
                "name": "SSH Execute Remote Command",
                "nouns": [
                    "ssh",
                    "command"
                ],
                "orderProperties": [
                    "hosts",
                    "command",
                    "sudo"
                ],
                "output": {
                    "type": ""
                },
                "printOutput": true,
                "startcondition": "cluster_health_status!='None' and len(host_for_ssh)!=0",
                "tags": [
                    "ssh_execute_remote_command"
                ],
                "verbs": [
                    "execute"
                ]
            },
            "outputs": [],
            "source": [
                "##\n",
                "# Copyright (c) 2021 unSkript, Inc\n",
                "# All rights reserved.\n",
                "##\n",
                "from pydantic import BaseModel, Field\n",
                "from typing import List, Optional, Dict\n",
                "import pprint\n",
                "\n",
                "\n",
                "from beartype import beartype\n",
                "@beartype\n",
                "def ssh_execute_remote_command_printer(output):\n",
                "    if output is None:\n",
                "        return\n",
                "    print(\"Elasticsearch Service successfully STOPPED\")\n",
                "    print(\"\\n\")\n",
                "    pprint.pprint(output)\n",
                "\n",
                "\n",
                "@beartype\n",
                "def ssh_execute_remote_command(sshClient, hosts: List[str], command: str, sudo: bool = False) -> Dict:\n",
                "\n",
                "    client = sshClient(hosts)\n",
                "    runCommandOutput = client.run_command(command=command, sudo=sudo)\n",
                "    client.join()\n",
                "    res = {}\n",
                "\n",
                "    for host_output in runCommandOutput:\n",
                "        hostname = host_output.host\n",
                "        output = []\n",
                "        for line in host_output.stdout:\n",
                "            output.append(line)\n",
                "\n",
                "        o = \"\\n\".join(output)\n",
                "        res[hostname] = o\n",
                "\n",
                "    return res\n",
                "\n",
                "\n",
                "task = Task(Workflow())\n",
                "task.configure(printOutput=True)\n",
                "task.configure(inputParamsJson='''{\n",
                "    \"command\": \"cmd_stop_elasticsearch\",\n",
                "    \"hosts\": \"host_for_ssh\",\n",
                "    \"sudo\": \"run_with_sudo\"\n",
                "    }''')\n",
                "task.configure(conditionsJson='''{\n",
                "    \"condition_enabled\": true,\n",
                "    \"condition_cfg\": \"cluster_health_status!='None' and len(host_for_ssh)!=0\",\n",
                "    \"condition_result\": true\n",
                "    }''')\n",
                "\n",
                "(err, hdl, args) = task.validate(vars=vars())\n",
                "if err is None:\n",
                "    task.execute(ssh_execute_remote_command, lego_printer=ssh_execute_remote_command_printer, hdl=hdl, args=args)"
            ]
        },
        {
            "cell_type": "markdown",
            "id": "2bf6f444-f0bb-4554-8771-581a3c81e372",
            "metadata": {
                "jupyter": {
                    "source_hidden": false
                },
                "name": "Step 4",
                "orderProperties": [],
                "tags": [],
                "title": "Step 4"
            },
            "source": [
                "<h3 id=\"Perform-changes/-maintenance\"><a id=\"3\" target=\"_self\" rel=\"nofollow\"></a>Perform changes/ maintenance<a class=\"jp-InternalAnchorLink\" href=\"#Perform-changes/-maintenance\" target=\"_self\">&para;</a></h3>\n",
                "<p>In this step we can perform maintenance jobs, install updates or even modify the elasticsearch.yml. We can create a custom action (Click on <span style=\"background-color: rgb(230, 126, 35);\"><strong>Add</strong></span> button on the top) as per the requirement and add it in this step.</p>\n",
                "<p>This article explains some of the common issues incurred by Elasticsearch clusters- <strong><a href=\"https://www.elastic.co/guide/en/elasticsearch/reference/current/fix-common-cluster-issues.html\">link to blog&nbsp;</a></strong></p>\n",
                "<pre><code>Note- Please make sure that the configuration changes don't cause the failure of a node restart in the next step\n",
                "</code></pre>"
            ]
        },
        {
            "cell_type": "markdown",
            "id": "80b61c80-85bb-48e9-9501-92151a9156c8",
            "metadata": {
                "jupyter": {
                    "source_hidden": false
                },
                "name": "Step 5",
                "orderProperties": [],
                "tags": [],
                "title": "Step 5"
            },
            "source": [
                "<h3><a id='4'>Start the node</a></h3>\n",
                "This action starts the node after performing changes on the node.\n",
                "\n",
                "\n",
                "   If you are running Elasticsearch with systemd:\n",
                "\n",
                "    sudo systemctl start elasticsearch.service\n",
                "\n",
                "   If you are running Elasticsearch with SysV init:\n",
                "\n",
                "    sudo -i service elasticsearch start\n",
                "\n",
                ">This action takes the following parameters: `host_for_ssh`, `command_start_elasticsearch`, `run_with_sudo`\n"
            ]
        },
        {
            "cell_type": "code",
            "execution_count": 32,
            "id": "b4b4e51b-bd21-4ba0-b9a3-ee94c9c00161",
            "metadata": {
                "accessType": "ACCESS_TYPE_UNSPECIFIED",
                "actionBashCommand": false,
                "actionNeedsCredential": true,
                "actionRequiredLinesInCode": [],
                "actionSupportsIteration": true,
                "actionSupportsPoll": true,
                "action_uuid": "5279b2046bb2eb4a691ba748086f4af9e580a849faae557694bb12a8c2b7b379",
                "condition_enabled": true,
                "continueOnError": false,
                "createTime": "1970-01-01T00:00:00Z",
                "currentVersion": "0.1.0",
                "description": "SSH Execute Remote Command",
                "execution_data": {
                    "last_date_success_run_cell": "2022-11-08T11:21:04.025Z"
                },
                "id": 85,
                "index": 85,
                "inputData": [
                    {
                        "command": {
                            "constant": false,
                            "value": "cmd_start_elasticsearch"
                        },
                        "hosts": {
                            "constant": false,
                            "value": "host_for_ssh"
                        },
                        "sudo": {
                            "constant": true,
                            "value": "run_with_sudo"
                        }
                    }
                ],
                "inputschema": [
                    {
                        "properties": {
                            "command": {
                                "description": "Command to be executed on the remote server.",
                                "title": "Command",
                                "type": "string"
                            },
                            "hosts": {
                                "description": "List of hosts to connect to. For eg. [\"host1\", \"host2\"].",
                                "items": {
                                    "type": "string"
                                },
                                "title": "Hosts",
                                "type": "array"
                            },
                            "sudo": {
                                "default": false,
                                "description": "Run the command with sudo.",
                                "title": "Run with sudo",
                                "type": "boolean"
                            }
                        },
                        "required": [
                            "hosts",
                            "command"
                        ],
                        "title": "ssh_execute_remote_command",
                        "type": "object"
                    }
                ],
                "jupyter": {
                    "source_hidden": true
                },
                "legotype": "LEGO_TYPE_SSH",
                "name": "SSH Execute Remote Command",
                "nouns": [
                    "ssh",
                    "command"
                ],
                "orderProperties": [
                    "hosts",
                    "command",
                    "sudo"
                ],
                "output": {
                    "type": ""
                },
                "printOutput": true,
                "startcondition": "cluster_health_status!='None' and len(host_for_ssh)!=0",
                "tags": [
                    "ssh_execute_remote_command"
                ],
                "verbs": [
                    "execute"
                ]
            },
            "outputs": [],
            "source": [
                "##\n",
                "# Copyright (c) 2021 unSkript, Inc\n",
                "# All rights reserved.\n",
                "##\n",
                "from pydantic import BaseModel, Field\n",
                "from typing import List, Optional, Dict\n",
                "import pprint\n",
                "\n",
                "\n",
                "from beartype import beartype\n",
                "@beartype\n",
                "def ssh_execute_remote_command_printer(output):\n",
                "    if output is None:\n",
                "        return\n",
                "    print(\"Elasticsearch Service successfully STARTED\")\n",
                "    print(\"\\n\")\n",
                "    pprint.pprint(output)\n",
                "\n",
                "\n",
                "@beartype\n",
                "def ssh_execute_remote_command(sshClient, hosts: List[str], command: str, sudo: bool = False) -> Dict:\n",
                "\n",
                "    client = sshClient(hosts)\n",
                "    runCommandOutput = client.run_command(command=command, sudo=sudo)\n",
                "    client.join()\n",
                "    res = {}\n",
                "\n",
                "    for host_output in runCommandOutput:\n",
                "        hostname = host_output.host\n",
                "        output = []\n",
                "        for line in host_output.stdout:\n",
                "            output.append(line)\n",
                "\n",
                "        o = \"\\n\".join(output)\n",
                "        res[hostname] = o\n",
                "\n",
                "    return res\n",
                "\n",
                "\n",
                "task = Task(Workflow())\n",
                "task.configure(printOutput=True)\n",
                "task.configure(inputParamsJson='''{\n",
                "    \"command\": \"cmd_start_elasticsearch\",\n",
                "    \"hosts\": \"host_for_ssh\",\n",
                "    \"sudo\": \"run_with_sudo\"\n",
                "    }''')\n",
                "task.configure(conditionsJson='''{\n",
                "    \"condition_enabled\": true,\n",
                "    \"condition_cfg\": \"cluster_health_status!='None' and len(host_for_ssh)!=0\",\n",
                "    \"condition_result\": true\n",
                "    }''')\n",
                "\n",
                "(err, hdl, args) = task.validate(vars=vars())\n",
                "if err is None:\n",
                "    task.execute(ssh_execute_remote_command, lego_printer=ssh_execute_remote_command_printer, hdl=hdl, args=args)"
            ]
        },
        {
            "cell_type": "markdown",
            "id": "571a08b1-e8d6-419f-a3be-ca825c00bba7",
            "metadata": {
                "jupyter": {
                    "source_hidden": false
                },
                "name": "Step 6",
                "orderProperties": [],
                "tags": [],
                "title": "Step 6"
            },
            "source": [
                "<h3><a id='5'>Elasticsearch Reenable Shard Allocation</a></h3>\n",
                "This action to enables shard allocation and makes the node ready to use.\n",
                "\n",
                ">This action takes the following parameters: `elasticsearch_host`, `port`, `api_key`"
            ]
        },
        {
            "cell_type": "code",
            "execution_count": null,
            "id": "b44a11a1-1b8d-4e40-85f1-e9905fb21a52",
            "metadata": {
                "accessType": "ACCESS_TYPE_UNSPECIFIED",
                "actionBashCommand": false,
                "actionCategories": [],
                "actionIsCheck": false,
                "actionNeedsCredential": true,
                "actionNextHop": [],
                "actionNextHopParameterMapping": {},
                "actionOutputType": "",
                "actionRequiredLinesInCode": [],
                "actionSupportsIteration": true,
                "actionSupportsPoll": true,
                "action_modified": false,
                "action_uuid": "67e3c5bfd82c5e34634734f7f09df5a795fa16bceb3552870c55673bb3148b74",
                "checkEnabled": false,
                "condition_enabled": true,
                "createTime": "1970-01-01T00:00:00Z",
                "currentVersion": "0.1.0",
                "description": "Elasticsearch Enable Shard Allocation for any shards for any indices",
                "id": 78,
                "index": 78,
                "inputschema": [
                    {
                        "properties": {},
                        "title": "elasticsearch_enable_shard_allocation",
                        "type": "object"
                    }
                ],
                "isUnskript": false,
                "jupyter": {
                    "source_hidden": true
                },
                "legotype": "LEGO_TYPE_ELASTICSEARCH",
                "name": "Elasticsearch Enable Shard Allocation",
                "nouns": [],
                "orderProperties": [],
                "output": {
                    "type": ""
                },
                "printOutput": true,
                "startcondition": "cluster_health_status!='None'",
                "tags": [
                    "elasticsearch_enable_shard_allocation"
                ],
                "verbs": []
            },
            "outputs": [],
            "source": [
                "##\n",
                "# Copyright (c) 2021 unSkript, Inc\n",
                "# All rights reserved.\n",
                "##\n",
                "import subprocess\n",
                "import pprint\n",
                "from pydantic import BaseModel, Field\n",
                "from typing import List, Dict\n",
                "from subprocess import PIPE, run\n",
                "import json\n",
                "\n",
                "\n",
                "from beartype import beartype\n",
                "@beartype\n",
                "def elasticsearch_enable_shard_allocation_printer(output):\n",
                "    if output is None:\n",
                "        return\n",
                "    print(\"Shard allocations enabled for all kinds of shards\")\n",
                "    print(output)\n",
                "\n",
                "\n",
                "@beartype\n",
                "def elasticsearch_enable_shard_allocation(handle) -> Dict:\n",
                "    \"\"\"elasticsearch_enable_shard_allocation enables shard allocations for any shards for any indices.\n",
                "\n",
                "            :type handle: object\n",
                "            :param handle: Object returned from Task Validate\n",
                "\n",
                "            :rtype: Result Dict of result\n",
                "    \"\"\"\n",
                "    es_dict = {\"transient\": {\"cluster.routing.allocation.enable\": \"all\"}}\n",
                "    output = handle.web_request(\"/_cluster/settings?pretty\",  # Path\n",
                "                                \"PUT\",                        # Method\n",
                "                                es_dict)                      # Data\n",
                "\n",
                "    return output\n",
                "\n",
                "\n",
                "task = Task(Workflow())\n",
                "task.configure(conditionsJson='''{\n",
                "    \"condition_enabled\": true,\n",
                "    \"condition_cfg\": \"cluster_health_status!='None'\",\n",
                "    \"condition_result\": true\n",
                "    }''')\n",
                "\n",
                "task.configure(printOutput=True)\n",
                "(err, hdl, args) = task.validate(vars=vars())\n",
                "if err is None:\n",
                "    task.execute(elasticsearch_enable_shard_allocation, lego_printer=elasticsearch_enable_shard_allocation_printer, hdl=hdl, args=args)"
            ]
        },
        {
            "cell_type": "markdown",
            "id": "25e25d2a-4841-4ac3-811e-7c75c0029245",
            "metadata": {
                "jupyter": {
                    "source_hidden": false
                },
                "name": "Step 7",
                "orderProperties": [],
                "tags": [],
                "title": "Step 7"
            },
            "source": [
                "<h3 id=\"Check-Cluster-Health\"><a id=\"6\" target=\"_self\" rel=\"nofollow\"></a>Check Cluster Health<a class=\"jp-InternalAnchorLink\" href=\"#Check-Cluster-Health\" target=\"_self\">&para;</a></h3>\n",
                "<p>This action checks the status of an Elasticsearch cluster after restart. Ideally, the cluster should show <span style=\"color: green;\">Green</span> status after a successfull restart. These are the cluster statuses that you may encounter-</p>\n",
                "<ol>\n",
                "<li>Unassigned primary shards = <span style=\"color: red;\">Red</span> Status</li>\n",
                "<li>Unassigned replica shards = <span style=\"color: #ffbf00;\">Yellow</span> Status</li>\n",
                "<li>All shards assigned = <span style=\"color: green;\">Green</span> Status</li>\n",
                "</ol>\n",
                "<blockquote>\n",
                "<p>This action takes the following parameters: <code>None</code></p>\n",
                "</blockquote>"
            ]
        },
        {
            "cell_type": "code",
            "execution_count": 8,
            "id": "3a19e8d6-8163-4504-9395-f27bb28729c5",
            "metadata": {
                "accessType": "ACCESS_TYPE_UNSPECIFIED",
                "actionBashCommand": false,
                "actionCategories": [],
                "actionIsCheck": false,
                "actionNeedsCredential": true,
                "actionNextHop": [],
                "actionNextHopParameterMapping": {},
                "actionOutputType": "",
                "actionRequiredLinesInCode": [],
                "actionSupportsIteration": false,
                "actionSupportsPoll": false,
                "action_modified": false,
                "action_uuid": "4590490856e040f305f080b411c392a054142f152696902a4724250aaa057b02",
                "checkEnabled": false,
                "collapsed": true,
                "createTime": "1970-01-01T00:00:00Z",
                "currentVersion": "0.1.0",
                "description": "Get Elasticsearch Handle",
                "execution_data": {
                    "last_date_success_run_cell": "2023-02-17T08:25:35.019Z"
                },
                "id": 81,
                "index": 81,
                "inputschema": [
                    {
                        "properties": {},
                        "title": "elasticsearch_get_handle",
                        "type": "object"
                    }
                ],
                "isUnskript": false,
                "jupyter": {
                    "outputs_hidden": true,
                    "source_hidden": true
                },
                "legotype": "LEGO_TYPE_ELASTICSEARCH",
                "name": "Get Elasticsearch Handle",
                "nouns": [],
                "orderProperties": [],
                "output": {
                    "type": ""
                },
                "outputParams": {
                    "output_name": "handle",
                    "output_name_enabled": true
                },
                "printOutput": true,
                "tags": [
                    "elasticsearch_get_handle"
                ],
                "trusted": true,
                "verbs": []
            },
            "outputs": [],
            "source": [
                "##\n",
                "##  Copyright (c) 2021 unSkript, Inc\n",
                "##  All rights reserved.\n",
                "##\n",
                "from pydantic import BaseModel\n",
                "\n",
                "\n",
                "from beartype import beartype\n",
                "@beartype\n",
                "def elasticsearch_get_handle(handle):\n",
                "    \"\"\"elasticsearch_get_handle returns the elasticsearch client handle.\n",
                "\n",
                "       :rtype: elasticsearch client handle.\n",
                "    \"\"\"\n",
                "    return handle\n",
                "\n",
                "\n",
                "def unskript_default_printer(output):\n",
                "    if isinstance(output, (list, tuple)):\n",
                "        for item in output:\n",
                "            print(f'item: {item}')\n",
                "    elif isinstance(output, dict):\n",
                "        for item in output.items():\n",
                "            print(f'item: {item}')\n",
                "    else:\n",
                "        print(f'Output for {task.name}')\n",
                "        print(output)\n",
                "\n",
                "task = Task(Workflow())\n",
                "task.configure(outputName=\"handle\")\n",
                "task.configure(printOutput=True)\n",
                "(err, hdl, args) = task.validate(vars=vars())\n",
                "if err is None:\n",
                "    task.execute(elasticsearch_get_handle, lego_printer=unskript_default_printer, hdl=hdl, args=args)"
            ]
        },
        {
            "cell_type": "code",
            "execution_count": 15,
            "id": "a89d952a-40ea-43d4-ad1d-9456c339fee9",
            "metadata": {
                "collapsed": true,
                "customAction": true,
                "execution_data": {
                    "last_date_success_run_cell": "2023-02-17T08:29:19.684Z"
                },
                "jupyter": {
                    "outputs_hidden": true,
                    "source_hidden": true
                },
                "name": "Check Cluster Health",
                "orderProperties": [],
                "tags": [],
                "title": "Check Cluster Health",
                "trusted": true
            },
            "outputs": [],
            "source": [
                "from unskript.legos.elasticsearch.elasticsearch_check_health_status.elasticsearch_check_health_status import elasticsearch_check_health_status\n",
                "\n",
                "output = elasticsearch_check_health_status(handle=handle)\n",
                "cluster_health_status = ''\n",
                "for cluster in output:\n",
                "    if type(cluster)==list:\n",
                "        if len(cluster)!=0:\n",
                "            for x in cluster:\n",
                "                for status in x.values():\n",
                "                    cluster_health_status= status\n",
                "    else:\n",
                "        cluster_health_status = 'green'\n",
                "print(\"Cluster Status: \",cluster_health_status)"
            ]
        },
        {
            "cell_type": "markdown",
            "id": "b20dd1a3-fb5f-4bb1-b5cd-2494d752b930",
            "metadata": {
                "jupyter": {
                    "source_hidden": false
                },
                "name": "Conclusion",
                "orderProperties": [],
                "tags": [],
                "title": "Conclusion"
            },
            "source": [
                "<h3 id=\"Conclusion\">Conclusion<a class=\"jp-InternalAnchorLink\" href=\"#Conclusion\" target=\"_self\">&para;</a></h3>\n",
                "<p>In this Runbook, we were able to perform rolling restart on a node in an Elasticsearch cluster using unSkript's Elasticsearch and SSH legos. This runbooks can be re triggered for mutiple clusters in a sequence. To view the full platform capabilities of unSkript please visit <a href=\"https://us.app.unskript.io\" target=\"_blank\" rel=\"noopener\">us.app.unskript.io</a></p>"
            ]
        }
    ],
    "metadata": {
        "execution_data": {
            "environment_name": "Staging",
            "environment_type": "ENVIRONMENT_TYPE_AWS_EC2",
            "execution_id": "",
            "inputs_for_searched_lego": "",
            "notebook_id": "f011c6d8-3567-411e-af85-0ab5d0e2efd6.ipynb",
            "parameters": [
                "cmd_start_elasticsearch",
                "cmd_stop_elasticsearch",
                "host_for_ssh",
                "run_with_sudo"
            ],
            "proxy_id": "1499f27c-6406-4fbd-bd1b-c6f92800018f",
            "runbook_name": "Elasticsearch Rolling Restart",
            "search_string": "",
            "show_tool_tip": false,
            "tenant_id": "982dba5f-d9df-48ae-a5bf-ec1fc94d4882",
            "tenant_url": "https://tenant-staging.alpha.unskript.io",
            "user_email_id": "shloka@unskript.com",
            "workflow_id": "711b6f4f-0125-4f1f-a6c1-362690257b9e"
        },
        "kernelspec": {
            "display_name": "Python 3.10.6 64-bit",
            "language": "python",
            "name": "python3"
        },
        "language_info": {
            "file_extension": ".py",
            "mimetype": "text/x-python",
            "name": "python",
            "pygments_lexer": "ipython3",
            "version": "3.10.6"
        },
        "parameterSchema": {
            "properties": {
                "cmd_start_elasticsearch": {
                    "default": "sudo systemctl start elasticsearch.service",
                    "description": "Command to start Elasticsearch service",
                    "title": "cmd_start_elasticsearch",
                    "type": "string"
                },
                "cmd_stop_elasticsearch": {
                    "default": "sudo systemctl stop elasticsearch.service",
                    "description": "Command to stop the Elasticsearch service",
                    "title": "cmd_stop_elasticsearch",
                    "type": "string"
                },
                "host_for_ssh": {
                    "default": "[]",
                    "description": "Host IP of elasticsearch server to SSH in List format. Eg: [123.45.67.89]",
                    "title": "host_for_ssh",
                    "type": "array"
                },
                "run_with_sudo": {
                    "default": false,
                    "description": "Run commands to start/stop elasticsearch with sudo",
                    "title": "run_with_sudo",
                    "type": "boolean"
                }
            },
            "required": [],
            "title": "Schema",
            "type": "object"
        },
        "parameterValues": {
            "host_for_ssh": "[]"
        },
        "vscode": {
            "interpreter": {
                "hash": "b0fa6594d8f4cbf19f97940f81e996739fb7646882a419484c72d19e05852a7e"
            }
        }
    },
    "nbformat": 4,
    "nbformat_minor": 5
}
